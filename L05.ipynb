{
  "cells": [
    {
      "cell_type": "markdown",
      "metadata": {},
      "source": [
        "# Lezione 5"
      ]
    },
    {
      "cell_type": "code",
      "execution_count": null,
      "metadata": {},
      "outputs": [],
      "source": [
        "from itertools import count\n",
        "\n",
        "from liblet import CYKTable, Derivation, Grammar, Production, Tree, animate_derivation"
      ]
    },
    {
      "cell_type": "markdown",
      "metadata": {},
      "source": [
        "# Parsing\n",
        "\n",
        "## Top down"
      ]
    },
    {
      "cell_type": "code",
      "execution_count": null,
      "metadata": {},
      "outputs": [],
      "source": [
        "w = 'aabbcc'\n",
        "\n",
        "G = Grammar.from_string(\"\"\"\n",
        "S -> a S Q | a b c\n",
        "b Q c -> b b c c  \n",
        "c Q -> Q c\n",
        "\"\"\", False)"
      ]
    },
    {
      "cell_type": "code",
      "execution_count": null,
      "metadata": {},
      "outputs": [
        {
          "data": {
            "application/vnd.jupyter.widget-view+json": {
              "model_id": "076e6622ae8346ef95b16deeebd39378",
              "version_major": 2,
              "version_minor": 0
            },
            "text/plain": [
              "interactive(children=(IntSlider(value=0, description='n', max=4), Output(layout=Layout(height='350px'))), _dom…"
            ]
          },
          "metadata": {},
          "output_type": "display_data"
        }
      ],
      "source": [
        "animate_derivation(Derivation(G).step([\n",
        "  (0, 0), (1, 1), (3, 3), (2, 2)\n",
        "]), height = '350px')"
      ]
    },
    {
      "cell_type": "markdown",
      "metadata": {},
      "source": [
        "## Bottom up\n",
        "\n",
        "Nel caso *bottom up* si può procedere con una grammatica ottenuta rovesciando le produzioni (e aggiungendo una produzione `Inizio`$\\to \\omega$ dove `Inizio` è il nuovo simbolo di partenza (e volendo una produzione $S\\to $`Fine` dove `Fine` è un simbolo usato per indicare la fine della derivazione)."
      ]
    },
    {
      "cell_type": "code",
      "execution_count": null,
      "metadata": {},
      "outputs": [],
      "source": [
        "GR = Grammar.from_string(\"\"\"\n",
        "Inizio -> a a b b c c\n",
        "a S Q -> S\n",
        "a b c -> S \n",
        "b b c c -> b Q c\n",
        "Q c -> c Q\n",
        "S -> Fine\n",
        "\"\"\", False)"
      ]
    },
    {
      "cell_type": "code",
      "execution_count": null,
      "metadata": {},
      "outputs": [
        {
          "data": {
            "application/vnd.jupyter.widget-view+json": {
              "model_id": "b1bc2c39cdb04eb0b84edec615e840bc",
              "version_major": 2,
              "version_minor": 0
            },
            "text/plain": [
              "interactive(children=(IntSlider(value=0, description='n', max=6), Output(layout=Layout(height='500px'))), _dom…"
            ]
          },
          "metadata": {},
          "output_type": "display_data"
        }
      ],
      "source": [
        "animate_derivation(Derivation(GR).step([\n",
        "  (0, 0), (3, 2), (4, 3), (2, 1), (1, 0), (5, 0)\n",
        "]), height = '500px')"
      ]
    },
    {
      "cell_type": "markdown",
      "metadata": {},
      "source": [
        "# L'algoritmo CYK\n",
        "\n",
        "## La tabella `R` e la sua relazione con l'input"
      ]
    },
    {
      "cell_type": "code",
      "execution_count": null,
      "metadata": {},
      "outputs": [
        {
          "data": {
            "text/html": [
              "<style>td, th {border: 1pt solid lightgray !important ;}</style><table><tr><td style=\"text-align:left\"><pre>unaprova</pre></td><tr><td style=\"text-align:left\"><pre>unaprov</pre></td><td style=\"text-align:left\"><pre>naprova</pre></td><tr><td style=\"text-align:left\"><pre>unapro</pre></td><td style=\"text-align:left\"><pre>naprov</pre></td><td style=\"text-align:left\"><pre>aprova</pre></td><tr><td style=\"text-align:left\"><pre>unapr</pre></td><td style=\"text-align:left\"><pre>napro</pre></td><td style=\"text-align:left\"><pre>aprov</pre></td><td style=\"text-align:left\"><pre>prova</pre></td><tr><td style=\"text-align:left\"><pre>unap</pre></td><td style=\"text-align:left\"><pre>napr</pre></td><td style=\"text-align:left\"><pre>apro</pre></td><td style=\"text-align:left\"><pre>prov</pre></td><td style=\"text-align:left\"><pre>rova</pre></td><tr><td style=\"text-align:left\"><pre>una</pre></td><td style=\"text-align:left\"><pre>nap</pre></td><td style=\"text-align:left\"><pre>apr</pre></td><td style=\"text-align:left\"><pre>pro</pre></td><td style=\"text-align:left\"><pre>rov</pre></td><td style=\"text-align:left\"><pre>ova</pre></td><tr><td style=\"text-align:left\"><pre>un</pre></td><td style=\"text-align:left\"><pre>na</pre></td><td style=\"text-align:left\"><pre>ap</pre></td><td style=\"text-align:left\"><pre>pr</pre></td><td style=\"text-align:left\"><pre>ro</pre></td><td style=\"text-align:left\"><pre>ov</pre></td><td style=\"text-align:left\"><pre>va</pre></td><tr><td style=\"text-align:left\"><pre>u</pre></td><td style=\"text-align:left\"><pre>n</pre></td><td style=\"text-align:left\"><pre>a</pre></td><td style=\"text-align:left\"><pre>p</pre></td><td style=\"text-align:left\"><pre>r</pre></td><td style=\"text-align:left\"><pre>o</pre></td><td style=\"text-align:left\"><pre>v</pre></td><td style=\"text-align:left\"><pre>a</pre></td></table>"
            ],
            "text/plain": [
              "<liblet.utils.CYKTable at 0x7ffae76588e0>"
            ]
          },
          "execution_count": 6,
          "metadata": {},
          "output_type": "execute_result"
        }
      ],
      "source": [
        "INPUT = 'unaprova'\n",
        "\n",
        "n = len(INPUT)\n",
        "\n",
        "R = CYKTable()\n",
        "for l in range(1, n + 1):\n",
        "  for i in range(1, n - l + 2): \n",
        "    R[i, l] = INPUT[(i) - 1: (i + l) - 1]\n",
        "\n",
        "R"
      ]
    },
    {
      "cell_type": "markdown",
      "metadata": {},
      "source": [
        "## Due modi per riempire la tabella…\n",
        "\n",
        "Supponendo di avere la funzione `fill(R, i, l)` che restituisce il valore di `R[(i, l)`."
      ]
    },
    {
      "cell_type": "code",
      "execution_count": null,
      "metadata": {},
      "outputs": [],
      "source": [
        "def offline(fill, n):\n",
        "  R = CYKTable()\n",
        "  for l in range(1, n + 1):\n",
        "    for i in range(1, n - l + 2): \n",
        "      R[i, l] = fill(R, i, l)\n",
        "  return R"
      ]
    },
    {
      "cell_type": "code",
      "execution_count": null,
      "metadata": {},
      "outputs": [],
      "source": [
        "def online(fill, n):\n",
        "  R = CYKTable()\n",
        "  for d in range(1, n + 1):\n",
        "    for i in range(d, 0, -1):\n",
        "      R[i, d - i + 1] = fill(R, i, d - i + 1)\n",
        "  return R"
      ]
    },
    {
      "cell_type": "markdown",
      "metadata": {},
      "source": [
        "La seguente funzione `make_counter_fill` restituisce una funzione `fill` che, ignorando i parametri, restituisce un numero progressivo (usando `count` del modulo `itertools`)."
      ]
    },
    {
      "cell_type": "code",
      "execution_count": null,
      "metadata": {},
      "outputs": [],
      "source": [
        "def make_counter_fill():\n",
        "  cnt = count(1)\n",
        "  def fill(R, i, l):\n",
        "    return next(cnt)\n",
        "  return fill"
      ]
    },
    {
      "cell_type": "markdown",
      "metadata": {},
      "source": [
        "Usando `offline` e `online` con il contatore si visualizza l'ordine di riempimento"
      ]
    },
    {
      "cell_type": "code",
      "execution_count": null,
      "metadata": {},
      "outputs": [
        {
          "data": {
            "text/html": [
              "<style>td, th {border: 1pt solid lightgray !important ;}</style><table><tr><td style=\"text-align:left\"><pre>15</pre></td><tr><td style=\"text-align:left\"><pre>13</pre></td><td style=\"text-align:left\"><pre>14</pre></td><tr><td style=\"text-align:left\"><pre>10</pre></td><td style=\"text-align:left\"><pre>11</pre></td><td style=\"text-align:left\"><pre>12</pre></td><tr><td style=\"text-align:left\"><pre>6</pre></td><td style=\"text-align:left\"><pre>7</pre></td><td style=\"text-align:left\"><pre>8</pre></td><td style=\"text-align:left\"><pre>9</pre></td><tr><td style=\"text-align:left\"><pre>1</pre></td><td style=\"text-align:left\"><pre>2</pre></td><td style=\"text-align:left\"><pre>3</pre></td><td style=\"text-align:left\"><pre>4</pre></td><td style=\"text-align:left\"><pre>5</pre></td></table>"
            ],
            "text/plain": [
              "<liblet.utils.CYKTable at 0x7ffae7602f40>"
            ]
          },
          "execution_count": 10,
          "metadata": {},
          "output_type": "execute_result"
        }
      ],
      "source": [
        "offline(make_counter_fill(), 5)"
      ]
    },
    {
      "cell_type": "code",
      "execution_count": null,
      "metadata": {},
      "outputs": [
        {
          "data": {
            "text/html": [
              "<style>td, th {border: 1pt solid lightgray !important ;}</style><table><tr><td style=\"text-align:left\"><pre>15</pre></td><tr><td style=\"text-align:left\"><pre>10</pre></td><td style=\"text-align:left\"><pre>14</pre></td><tr><td style=\"text-align:left\"><pre>6</pre></td><td style=\"text-align:left\"><pre>9</pre></td><td style=\"text-align:left\"><pre>13</pre></td><tr><td style=\"text-align:left\"><pre>3</pre></td><td style=\"text-align:left\"><pre>5</pre></td><td style=\"text-align:left\"><pre>8</pre></td><td style=\"text-align:left\"><pre>12</pre></td><tr><td style=\"text-align:left\"><pre>1</pre></td><td style=\"text-align:left\"><pre>2</pre></td><td style=\"text-align:left\"><pre>4</pre></td><td style=\"text-align:left\"><pre>7</pre></td><td style=\"text-align:left\"><pre>11</pre></td></table>"
            ],
            "text/plain": [
              "<liblet.utils.CYKTable at 0x7ffb041a1160>"
            ]
          },
          "execution_count": 11,
          "metadata": {},
          "output_type": "execute_result"
        }
      ],
      "source": [
        "online(make_counter_fill(), 5)"
      ]
    },
    {
      "cell_type": "markdown",
      "metadata": {},
      "source": [
        "## Filtrare le produzioni coi predicati\n",
        "\n",
        "Usando la funzione *builtin* `filter` e un *predicato*  si può ottenere un sottoiteratore."
      ]
    },
    {
      "cell_type": "code",
      "execution_count": null,
      "metadata": {},
      "outputs": [
        {
          "data": {
            "text/plain": [
              "[0, 2, 4, 6, 8]"
            ]
          },
          "execution_count": 12,
          "metadata": {},
          "output_type": "execute_result"
        }
      ],
      "source": [
        "def pari(x):\n",
        "  return x % 2 == 0\n",
        "\n",
        "list(filter(pari, range(10)))"
      ]
    },
    {
      "cell_type": "markdown",
      "metadata": {},
      "source": [
        "Vediamo due predicati per le produzioni…"
      ]
    },
    {
      "cell_type": "code",
      "execution_count": null,
      "metadata": {},
      "outputs": [],
      "source": [
        "prods = Production.from_string(\"\"\"\n",
        "A -> a\n",
        "A -> B C\n",
        "\"\"\")"
      ]
    },
    {
      "cell_type": "code",
      "execution_count": null,
      "metadata": {},
      "outputs": [
        {
          "data": {
            "text/plain": [
              "[A -> B C]"
            ]
          },
          "execution_count": 14,
          "metadata": {},
          "output_type": "execute_result"
        }
      ],
      "source": [
        "# quelle con rhs lungo 2\n",
        "\n",
        "list(filter(Production.such_that(rhs_len = 2), prods))"
      ]
    },
    {
      "cell_type": "code",
      "execution_count": null,
      "metadata": {},
      "outputs": [
        {
          "data": {
            "text/plain": [
              "[A -> a]"
            ]
          },
          "execution_count": 15,
          "metadata": {},
          "output_type": "execute_result"
        }
      ],
      "source": [
        "# e quelle con rhs lungo 1\n",
        "\n",
        "list(filter(Production.such_that(rhs_len = 1), prods))"
      ]
    },
    {
      "cell_type": "markdown",
      "metadata": {},
      "source": [
        "## Il riempimento dell'algoritmo CYK"
      ]
    },
    {
      "cell_type": "code",
      "execution_count": null,
      "metadata": {},
      "outputs": [],
      "source": [
        "def cyk_fill(G, INPUT):\n",
        "  def fill(R, i, l):\n",
        "    res = set()\n",
        "    if l == 1:\n",
        "      for A, (a,) in filter(Production.such_that(rhs_len = 1), G.P): \n",
        "        if a == INPUT[i - 1]: res.add(A)\n",
        "    else:\n",
        "      for k in range(1, l):\n",
        "        for A, (B, C) in filter(Production.such_that(rhs_len = 2), G.P):\n",
        "          if B in R[i, k] and C in R[i + k, l - k]: res.add(A)\n",
        "    return res\n",
        "  return fill"
      ]
    },
    {
      "cell_type": "markdown",
      "metadata": {},
      "source": [
        "Qualche esempio su una grammatica per `a`$^n$`.`"
      ]
    },
    {
      "cell_type": "code",
      "execution_count": null,
      "metadata": {},
      "outputs": [],
      "source": [
        "G = Grammar.from_string(\"\"\"\n",
        "S -> A S\n",
        "A -> a\n",
        "S -> .\n",
        "\"\"\")"
      ]
    },
    {
      "cell_type": "code",
      "execution_count": null,
      "metadata": {},
      "outputs": [
        {
          "data": {
            "text/html": [
              "<style>td, th {border: 1pt solid lightgray !important ;}</style><table><tr><td style=\"text-align:left\"><pre>S</pre></td><tr><td style=\"text-align:left\"><pre>&nbsp;</pre></td><td style=\"text-align:left\"><pre>S</pre></td><tr><td style=\"text-align:left\"><pre>&nbsp;</pre></td><td style=\"text-align:left\"><pre>&nbsp;</pre></td><td style=\"text-align:left\"><pre>S</pre></td><tr><td style=\"text-align:left\"><pre>A</pre></td><td style=\"text-align:left\"><pre>A</pre></td><td style=\"text-align:left\"><pre>A</pre></td><td style=\"text-align:left\"><pre>S</pre></td></table>"
            ],
            "text/plain": [
              "<liblet.utils.CYKTable at 0x7ffae761e9a0>"
            ]
          },
          "execution_count": 18,
          "metadata": {},
          "output_type": "execute_result"
        }
      ],
      "source": [
        "INPUT = 'aaa.'\n",
        "\n",
        "online(cyk_fill(G, INPUT), len(INPUT))"
      ]
    },
    {
      "cell_type": "code",
      "execution_count": null,
      "metadata": {},
      "outputs": [
        {
          "data": {
            "text/html": [
              "<style>td, th {border: 1pt solid lightgray !important ;}</style><table><tr><td style=\"text-align:left\"><pre>&nbsp;</pre></td><tr><td style=\"text-align:left\"><pre>&nbsp;</pre></td><td style=\"text-align:left\"><pre>&nbsp;</pre></td><tr><td style=\"text-align:left\"><pre>S</pre></td><td style=\"text-align:left\"><pre>&nbsp;</pre></td><td style=\"text-align:left\"><pre>&nbsp;</pre></td><tr><td style=\"text-align:left\"><pre>&nbsp;</pre></td><td style=\"text-align:left\"><pre>S</pre></td><td style=\"text-align:left\"><pre>&nbsp;</pre></td><td style=\"text-align:left\"><pre>S</pre></td><tr><td style=\"text-align:left\"><pre>A</pre></td><td style=\"text-align:left\"><pre>A</pre></td><td style=\"text-align:left\"><pre>S</pre></td><td style=\"text-align:left\"><pre>A</pre></td><td style=\"text-align:left\"><pre>S</pre></td></table>"
            ],
            "text/plain": [
              "<liblet.utils.CYKTable at 0x7ffae761e640>"
            ]
          },
          "execution_count": 19,
          "metadata": {},
          "output_type": "execute_result"
        }
      ],
      "source": [
        "INPUT = 'aa.a.'\n",
        "\n",
        "online(cyk_fill(G, INPUT), len(INPUT))"
      ]
    },
    {
      "cell_type": "markdown",
      "metadata": {},
      "source": [
        "Una grammatica più complessa (per i numeri decimali con virgola, in notazione scientifica)"
      ]
    },
    {
      "cell_type": "code",
      "execution_count": null,
      "metadata": {},
      "outputs": [],
      "source": [
        "# fig. 4.15, pag. 123 \n",
        "\n",
        "G = Grammar.from_string(\"\"\"\n",
        "Number -> 0|1|2|3|4|5|6|7|8|9 \n",
        "Number -> Integer Digit\n",
        "Number -> N1 Scale' | Integer Fraction\n",
        "N1 -> Integer Fraction\n",
        "Integer -> 0|1|2|3|4|5|6|7|8|9 \n",
        "Integer -> Integer Digit\n",
        "Fraction -> T1 Integer\n",
        "T1 -> .\n",
        "Scale' -> N2 Integer\n",
        "N2 -> T2 Sign\n",
        "T2 -> e\n",
        "Digit -> 0|1|2|3|4|5|6|7|8|9 \n",
        "Sign -> + | -\n",
        "\"\"\")"
      ]
    },
    {
      "cell_type": "code",
      "execution_count": null,
      "metadata": {},
      "outputs": [
        {
          "data": {
            "text/html": [
              "<style>td, th {border: 1pt solid lightgray !important ;}</style><table><tr><td style=\"text-align:left\"><pre>Number</pre></td><tr><td style=\"text-align:left\"><pre>&nbsp;</pre></td><td style=\"text-align:left\"><pre>Number</pre></td><tr><td style=\"text-align:left\"><pre>&nbsp;</pre></td><td style=\"text-align:left\"><pre>&nbsp;</pre></td><td style=\"text-align:left\"><pre>&nbsp;</pre></td><tr><td style=\"text-align:left\"><pre>N1\n",
              "Number</pre></td><td style=\"text-align:left\"><pre>&nbsp;</pre></td><td style=\"text-align:left\"><pre>&nbsp;</pre></td><td style=\"text-align:left\"><pre>&nbsp;</pre></td><tr><td style=\"text-align:left\"><pre>&nbsp;</pre></td><td style=\"text-align:left\"><pre>N1\n",
              "Number</pre></td><td style=\"text-align:left\"><pre>&nbsp;</pre></td><td style=\"text-align:left\"><pre>&nbsp;</pre></td><td style=\"text-align:left\"><pre>Scale'</pre></td><tr><td style=\"text-align:left\"><pre>Integer\n",
              "Number</pre></td><td style=\"text-align:left\"><pre>&nbsp;</pre></td><td style=\"text-align:left\"><pre>Fraction</pre></td><td style=\"text-align:left\"><pre>&nbsp;</pre></td><td style=\"text-align:left\"><pre>N2</pre></td><td style=\"text-align:left\"><pre>&nbsp;</pre></td><tr><td style=\"text-align:left\"><pre>Digit\n",
              "Integer\n",
              "Number</pre></td><td style=\"text-align:left\"><pre>Digit\n",
              "Integer\n",
              "Number</pre></td><td style=\"text-align:left\"><pre>T1</pre></td><td style=\"text-align:left\"><pre>Digit\n",
              "Integer\n",
              "Number</pre></td><td style=\"text-align:left\"><pre>T2</pre></td><td style=\"text-align:left\"><pre>Sign</pre></td><td style=\"text-align:left\"><pre>Digit\n",
              "Integer\n",
              "Number</pre></td></table>"
            ],
            "text/plain": [
              "<liblet.utils.CYKTable at 0x7ffae761edc0>"
            ]
          },
          "execution_count": 21,
          "metadata": {},
          "output_type": "execute_result"
        }
      ],
      "source": [
        "INPUT = '32.5e+1'\n",
        "\n",
        "R = offline(cyk_fill(G, INPUT), len(INPUT))\n",
        "R"
      ]
    },
    {
      "cell_type": "markdown",
      "metadata": {},
      "source": [
        "## Generare l'albero di parsing (barando)\n",
        "\n",
        "La tabella contiene non terminali e, in accordo al criterio usato per riempirla, tali non terminali possono essere raccolti in un albero che ha l'aspetto di un albero di derivazione — anche se costruito senza riferimento alle produzioni (dal quale non è quindi banale ricostruire la derivazione).\n",
        "\n",
        "Scriviamo una funzione ricorsiva `fake_parse` che (usando tabella `R`, la grammatica `G` e l'input `INPUT`) dato un non terminale, il punto d'inizio e la lunghezza, restituisca l'albero di parsing radicato in quel non terminale e che deriva la sottostringa specificata."
      ]
    },
    {
      "cell_type": "code",
      "execution_count": null,
      "metadata": {},
      "outputs": [],
      "source": [
        "def fake_parse(X, i, l):\n",
        "  if l == 1: return Tree(X, [Tree(INPUT[i-1])])\n",
        "  for A, (B, C) in filter(Production.such_that(lhs = X, rhs_len = 2), G.P):\n",
        "    for k in range(1, l):\n",
        "      if B in R[i, k] and C in R[i + k, l - k]:\n",
        "        return Tree(A, [fake_parse(B, i, k), fake_parse(C, i + k, l - k)])"
      ]
    },
    {
      "cell_type": "code",
      "execution_count": null,
      "metadata": {},
      "outputs": [
        {
          "data": {
            "image/svg+xml": [
              "<?xml version=\"1.0\" encoding=\"UTF-8\" standalone=\"no\"?>\n",
              "<!DOCTYPE svg PUBLIC \"-//W3C//DTD SVG 1.1//EN\"\n",
              " \"http://www.w3.org/Graphics/SVG/1.1/DTD/svg11.dtd\">\n",
              "<!-- Generated by graphviz version 2.43.0 (0)\n",
              " -->\n",
              "<!-- Title: %3 Pages: 1 -->\n",
              "<svg width=\"344pt\" height=\"195pt\"\n",
              " viewBox=\"0.00 0.00 344.00 195.00\" xmlns=\"http://www.w3.org/2000/svg\" xmlns:xlink=\"http://www.w3.org/1999/xlink\">\n",
              "<g id=\"graph0\" class=\"graph\" transform=\"scale(1 1) rotate(0) translate(4 191)\">\n",
              "<title>%3</title>\n",
              "<polygon fill=\"white\" stroke=\"transparent\" points=\"-4,4 -4,-191 340,-191 340,4 -4,4\"/>\n",
              "<!-- 140715600505920 -->\n",
              "<g id=\"node1\" class=\"node\">\n",
              "<title>140715600505920</title>\n",
              "<path fill=\"none\" stroke=\"black\" stroke-width=\"0.25\" d=\"M221.83,-187C221.83,-187 183.17,-187 183.17,-187 179.33,-187 175.5,-183.17 175.5,-179.33 175.5,-179.33 175.5,-171.67 175.5,-171.67 175.5,-167.83 179.33,-164 183.17,-164 183.17,-164 221.83,-164 221.83,-164 225.67,-164 229.5,-167.83 229.5,-171.67 229.5,-171.67 229.5,-179.33 229.5,-179.33 229.5,-183.17 225.67,-187 221.83,-187\"/>\n",
              "<text text-anchor=\"middle\" x=\"202.5\" y=\"-171.8\" font-family=\"Times,serif\" font-size=\"14.00\">Number</text>\n",
              "</g>\n",
              "<!-- 140715600503856 -->\n",
              "<g id=\"node2\" class=\"node\">\n",
              "<title>140715600503856</title>\n",
              "<path fill=\"none\" stroke=\"black\" stroke-width=\"0.25\" d=\"M182.33,-146C182.33,-146 172.67,-146 172.67,-146 168.83,-146 165,-142.17 165,-138.33 165,-138.33 165,-130.67 165,-130.67 165,-126.83 168.83,-123 172.67,-123 172.67,-123 182.33,-123 182.33,-123 186.17,-123 190,-126.83 190,-130.67 190,-130.67 190,-138.33 190,-138.33 190,-142.17 186.17,-146 182.33,-146\"/>\n",
              "<text text-anchor=\"middle\" x=\"177.5\" y=\"-130.8\" font-family=\"Times,serif\" font-size=\"14.00\">N1</text>\n",
              "</g>\n",
              "<!-- 140715600505920&#45;&gt;140715600503856 -->\n",
              "<g id=\"edge1\" class=\"edge\">\n",
              "<title>140715600505920&#45;&gt;140715600503856</title>\n",
              "<path fill=\"none\" stroke=\"black\" d=\"M195.67,-163.84C192.14,-158.34 187.85,-151.65 184.32,-146.14\"/>\n",
              "</g>\n",
              "<!-- 140715600506640 -->\n",
              "<g id=\"node3\" class=\"node\">\n",
              "<title>140715600506640</title>\n",
              "<path fill=\"none\" stroke=\"black\" stroke-width=\"0.25\" d=\"M242.83,-146C242.83,-146 218.17,-146 218.17,-146 214.33,-146 210.5,-142.17 210.5,-138.33 210.5,-138.33 210.5,-130.67 210.5,-130.67 210.5,-126.83 214.33,-123 218.17,-123 218.17,-123 242.83,-123 242.83,-123 246.67,-123 250.5,-126.83 250.5,-130.67 250.5,-130.67 250.5,-138.33 250.5,-138.33 250.5,-142.17 246.67,-146 242.83,-146\"/>\n",
              "<text text-anchor=\"middle\" x=\"230.5\" y=\"-130.8\" font-family=\"Times,serif\" font-size=\"14.00\">Scale&#39;</text>\n",
              "</g>\n",
              "<!-- 140715600505920&#45;&gt;140715600506640 -->\n",
              "<g id=\"edge2\" class=\"edge\">\n",
              "<title>140715600505920&#45;&gt;140715600506640</title>\n",
              "<path fill=\"none\" stroke=\"black\" d=\"M210.15,-163.84C214.1,-158.34 218.91,-151.65 222.86,-146.14\"/>\n",
              "</g>\n",
              "<!-- 140715600503856&#45;&gt;140715600506640 -->\n",
              "<!-- 140715600504336 -->\n",
              "<g id=\"node4\" class=\"node\">\n",
              "<title>140715600504336</title>\n",
              "<path fill=\"none\" stroke=\"black\" stroke-width=\"0.25\" d=\"M107.33,-105C107.33,-105 75.67,-105 75.67,-105 71.83,-105 68,-101.17 68,-97.33 68,-97.33 68,-89.67 68,-89.67 68,-85.83 71.83,-82 75.67,-82 75.67,-82 107.33,-82 107.33,-82 111.17,-82 115,-85.83 115,-89.67 115,-89.67 115,-97.33 115,-97.33 115,-101.17 111.17,-105 107.33,-105\"/>\n",
              "<text text-anchor=\"middle\" x=\"91.5\" y=\"-89.8\" font-family=\"Times,serif\" font-size=\"14.00\">Integer</text>\n",
              "</g>\n",
              "<!-- 140715600503856&#45;&gt;140715600504336 -->\n",
              "<g id=\"edge4\" class=\"edge\">\n",
              "<title>140715600503856&#45;&gt;140715600504336</title>\n",
              "<path fill=\"none\" stroke=\"black\" d=\"M164.81,-127.75C151.73,-121.81 131.03,-112.43 114.96,-105.14\"/>\n",
              "</g>\n",
              "<!-- 140715600506496 -->\n",
              "<g id=\"node5\" class=\"node\">\n",
              "<title>140715600506496</title>\n",
              "<path fill=\"none\" stroke=\"black\" stroke-width=\"0.25\" d=\"M193.83,-105C193.83,-105 155.17,-105 155.17,-105 151.33,-105 147.5,-101.17 147.5,-97.33 147.5,-97.33 147.5,-89.67 147.5,-89.67 147.5,-85.83 151.33,-82 155.17,-82 155.17,-82 193.83,-82 193.83,-82 197.67,-82 201.5,-85.83 201.5,-89.67 201.5,-89.67 201.5,-97.33 201.5,-97.33 201.5,-101.17 197.67,-105 193.83,-105\"/>\n",
              "<text text-anchor=\"middle\" x=\"174.5\" y=\"-89.8\" font-family=\"Times,serif\" font-size=\"14.00\">Fraction</text>\n",
              "</g>\n",
              "<!-- 140715600503856&#45;&gt;140715600506496 -->\n",
              "<g id=\"edge5\" class=\"edge\">\n",
              "<title>140715600503856&#45;&gt;140715600506496</title>\n",
              "<path fill=\"none\" stroke=\"black\" d=\"M176.68,-122.84C176.26,-117.34 175.74,-110.65 175.32,-105.14\"/>\n",
              "</g>\n",
              "<!-- 140715600520528 -->\n",
              "<g id=\"node14\" class=\"node\">\n",
              "<title>140715600520528</title>\n",
              "<path fill=\"none\" stroke=\"black\" stroke-width=\"0.25\" d=\"M244.33,-105C244.33,-105 234.67,-105 234.67,-105 230.83,-105 227,-101.17 227,-97.33 227,-97.33 227,-89.67 227,-89.67 227,-85.83 230.83,-82 234.67,-82 234.67,-82 244.33,-82 244.33,-82 248.17,-82 252,-85.83 252,-89.67 252,-89.67 252,-97.33 252,-97.33 252,-101.17 248.17,-105 244.33,-105\"/>\n",
              "<text text-anchor=\"middle\" x=\"239.5\" y=\"-89.8\" font-family=\"Times,serif\" font-size=\"14.00\">N2</text>\n",
              "</g>\n",
              "<!-- 140715600506640&#45;&gt;140715600520528 -->\n",
              "<g id=\"edge17\" class=\"edge\">\n",
              "<title>140715600506640&#45;&gt;140715600520528</title>\n",
              "<path fill=\"none\" stroke=\"black\" d=\"M232.96,-122.84C234.23,-117.34 235.77,-110.65 237.04,-105.14\"/>\n",
              "</g>\n",
              "<!-- 140715600503808 -->\n",
              "<g id=\"node15\" class=\"node\">\n",
              "<title>140715600503808</title>\n",
              "<path fill=\"none\" stroke=\"black\" stroke-width=\"0.25\" d=\"M309.33,-105C309.33,-105 277.67,-105 277.67,-105 273.83,-105 270,-101.17 270,-97.33 270,-97.33 270,-89.67 270,-89.67 270,-85.83 273.83,-82 277.67,-82 277.67,-82 309.33,-82 309.33,-82 313.17,-82 317,-85.83 317,-89.67 317,-89.67 317,-97.33 317,-97.33 317,-101.17 313.17,-105 309.33,-105\"/>\n",
              "<text text-anchor=\"middle\" x=\"293.5\" y=\"-89.8\" font-family=\"Times,serif\" font-size=\"14.00\">Integer</text>\n",
              "</g>\n",
              "<!-- 140715600506640&#45;&gt;140715600503808 -->\n",
              "<g id=\"edge18\" class=\"edge\">\n",
              "<title>140715600506640&#45;&gt;140715600503808</title>\n",
              "<path fill=\"none\" stroke=\"black\" d=\"M247.72,-122.84C256.6,-117.34 267.42,-110.65 276.31,-105.14\"/>\n",
              "</g>\n",
              "<!-- 140715600504336&#45;&gt;140715600506496 -->\n",
              "<!-- 140715600504912 -->\n",
              "<g id=\"node6\" class=\"node\">\n",
              "<title>140715600504912</title>\n",
              "<path fill=\"none\" stroke=\"black\" stroke-width=\"0.25\" d=\"M39.33,-64C39.33,-64 7.67,-64 7.67,-64 3.83,-64 0,-60.17 0,-56.33 0,-56.33 0,-48.67 0,-48.67 0,-44.83 3.83,-41 7.67,-41 7.67,-41 39.33,-41 39.33,-41 43.17,-41 47,-44.83 47,-48.67 47,-48.67 47,-56.33 47,-56.33 47,-60.17 43.17,-64 39.33,-64\"/>\n",
              "<text text-anchor=\"middle\" x=\"23.5\" y=\"-48.8\" font-family=\"Times,serif\" font-size=\"14.00\">Integer</text>\n",
              "</g>\n",
              "<!-- 140715600504336&#45;&gt;140715600504912 -->\n",
              "<g id=\"edge7\" class=\"edge\">\n",
              "<title>140715600504336&#45;&gt;140715600504912</title>\n",
              "<path fill=\"none\" stroke=\"black\" d=\"M72.92,-81.84C63.32,-76.34 51.65,-69.65 42.06,-64.14\"/>\n",
              "</g>\n",
              "<!-- 140715600506352 -->\n",
              "<g id=\"node7\" class=\"node\">\n",
              "<title>140715600506352</title>\n",
              "<path fill=\"none\" stroke=\"black\" stroke-width=\"0.25\" d=\"M93.83,-64C93.83,-64 73.17,-64 73.17,-64 69.33,-64 65.5,-60.17 65.5,-56.33 65.5,-56.33 65.5,-48.67 65.5,-48.67 65.5,-44.83 69.33,-41 73.17,-41 73.17,-41 93.83,-41 93.83,-41 97.67,-41 101.5,-44.83 101.5,-48.67 101.5,-48.67 101.5,-56.33 101.5,-56.33 101.5,-60.17 97.67,-64 93.83,-64\"/>\n",
              "<text text-anchor=\"middle\" x=\"83.5\" y=\"-48.8\" font-family=\"Times,serif\" font-size=\"14.00\">Digit</text>\n",
              "</g>\n",
              "<!-- 140715600504336&#45;&gt;140715600506352 -->\n",
              "<g id=\"edge8\" class=\"edge\">\n",
              "<title>140715600504336&#45;&gt;140715600506352</title>\n",
              "<path fill=\"none\" stroke=\"black\" d=\"M89.31,-81.84C88.19,-76.34 86.81,-69.65 85.68,-64.14\"/>\n",
              "</g>\n",
              "<!-- 140715600504480 -->\n",
              "<g id=\"node10\" class=\"node\">\n",
              "<title>140715600504480</title>\n",
              "<path fill=\"none\" stroke=\"black\" stroke-width=\"0.25\" d=\"M135.83,-64C135.83,-64 127.17,-64 127.17,-64 123.33,-64 119.5,-60.17 119.5,-56.33 119.5,-56.33 119.5,-48.67 119.5,-48.67 119.5,-44.83 123.33,-41 127.17,-41 127.17,-41 135.83,-41 135.83,-41 139.67,-41 143.5,-44.83 143.5,-48.67 143.5,-48.67 143.5,-56.33 143.5,-56.33 143.5,-60.17 139.67,-64 135.83,-64\"/>\n",
              "<text text-anchor=\"middle\" x=\"131.5\" y=\"-48.8\" font-family=\"Times,serif\" font-size=\"14.00\">T1</text>\n",
              "</g>\n",
              "<!-- 140715600506496&#45;&gt;140715600504480 -->\n",
              "<g id=\"edge12\" class=\"edge\">\n",
              "<title>140715600506496&#45;&gt;140715600504480</title>\n",
              "<path fill=\"none\" stroke=\"black\" d=\"M162.75,-81.84C156.68,-76.34 149.3,-69.65 143.24,-64.14\"/>\n",
              "</g>\n",
              "<!-- 140715600505104 -->\n",
              "<g id=\"node11\" class=\"node\">\n",
              "<title>140715600505104</title>\n",
              "<path fill=\"none\" stroke=\"black\" stroke-width=\"0.25\" d=\"M201.33,-64C201.33,-64 169.67,-64 169.67,-64 165.83,-64 162,-60.17 162,-56.33 162,-56.33 162,-48.67 162,-48.67 162,-44.83 165.83,-41 169.67,-41 169.67,-41 201.33,-41 201.33,-41 205.17,-41 209,-44.83 209,-48.67 209,-48.67 209,-56.33 209,-56.33 209,-60.17 205.17,-64 201.33,-64\"/>\n",
              "<text text-anchor=\"middle\" x=\"185.5\" y=\"-48.8\" font-family=\"Times,serif\" font-size=\"14.00\">Integer</text>\n",
              "</g>\n",
              "<!-- 140715600506496&#45;&gt;140715600505104 -->\n",
              "<g id=\"edge13\" class=\"edge\">\n",
              "<title>140715600506496&#45;&gt;140715600505104</title>\n",
              "<path fill=\"none\" stroke=\"black\" d=\"M177.51,-81.84C179.06,-76.34 180.95,-69.65 182.5,-64.14\"/>\n",
              "</g>\n",
              "<!-- 140715600504912&#45;&gt;140715600506352 -->\n",
              "<!-- 140715600504096 -->\n",
              "<g id=\"node8\" class=\"node\">\n",
              "<title>140715600504096</title>\n",
              "<path fill=\"none\" stroke=\"black\" stroke-width=\"0.25\" d=\"M26,-23C26,-23 21,-23 21,-23 18.5,-23 16,-20.5 16,-18 16,-18 16,-5 16,-5 16,-2.5 18.5,0 21,0 21,0 26,0 26,0 28.5,0 31,-2.5 31,-5 31,-5 31,-18 31,-18 31,-20.5 28.5,-23 26,-23\"/>\n",
              "<text text-anchor=\"middle\" x=\"23.5\" y=\"-7.8\" font-family=\"Times,serif\" font-size=\"14.00\">3</text>\n",
              "</g>\n",
              "<!-- 140715600504912&#45;&gt;140715600504096 -->\n",
              "<g id=\"edge10\" class=\"edge\">\n",
              "<title>140715600504912&#45;&gt;140715600504096</title>\n",
              "<path fill=\"none\" stroke=\"black\" d=\"M23.5,-40.84C23.5,-35.34 23.5,-28.65 23.5,-23.14\"/>\n",
              "</g>\n",
              "<!-- 140715600504528 -->\n",
              "<g id=\"node9\" class=\"node\">\n",
              "<title>140715600504528</title>\n",
              "<path fill=\"none\" stroke=\"black\" stroke-width=\"0.25\" d=\"M86,-23C86,-23 81,-23 81,-23 78.5,-23 76,-20.5 76,-18 76,-18 76,-5 76,-5 76,-2.5 78.5,0 81,0 81,0 86,0 86,0 88.5,0 91,-2.5 91,-5 91,-5 91,-18 91,-18 91,-20.5 88.5,-23 86,-23\"/>\n",
              "<text text-anchor=\"middle\" x=\"83.5\" y=\"-7.8\" font-family=\"Times,serif\" font-size=\"14.00\">2</text>\n",
              "</g>\n",
              "<!-- 140715600506352&#45;&gt;140715600504528 -->\n",
              "<g id=\"edge11\" class=\"edge\">\n",
              "<title>140715600506352&#45;&gt;140715600504528</title>\n",
              "<path fill=\"none\" stroke=\"black\" d=\"M83.5,-40.84C83.5,-35.34 83.5,-28.65 83.5,-23.14\"/>\n",
              "</g>\n",
              "<!-- 140715600504480&#45;&gt;140715600505104 -->\n",
              "<!-- 140715600505872 -->\n",
              "<g id=\"node12\" class=\"node\">\n",
              "<title>140715600505872</title>\n",
              "<path fill=\"none\" stroke=\"black\" stroke-width=\"0.25\" d=\"M133.5,-23C133.5,-23 129.5,-23 129.5,-23 127.5,-23 125.5,-21 125.5,-19 125.5,-19 125.5,-4 125.5,-4 125.5,-2 127.5,0 129.5,0 129.5,0 133.5,0 133.5,0 135.5,0 137.5,-2 137.5,-4 137.5,-4 137.5,-19 137.5,-19 137.5,-21 135.5,-23 133.5,-23\"/>\n",
              "<text text-anchor=\"middle\" x=\"131.5\" y=\"-7.8\" font-family=\"Times,serif\" font-size=\"14.00\">.</text>\n",
              "</g>\n",
              "<!-- 140715600504480&#45;&gt;140715600505872 -->\n",
              "<g id=\"edge15\" class=\"edge\">\n",
              "<title>140715600504480&#45;&gt;140715600505872</title>\n",
              "<path fill=\"none\" stroke=\"black\" d=\"M131.5,-40.84C131.5,-35.34 131.5,-28.65 131.5,-23.14\"/>\n",
              "</g>\n",
              "<!-- 140715600506592 -->\n",
              "<g id=\"node13\" class=\"node\">\n",
              "<title>140715600506592</title>\n",
              "<path fill=\"none\" stroke=\"black\" stroke-width=\"0.25\" d=\"M188,-23C188,-23 183,-23 183,-23 180.5,-23 178,-20.5 178,-18 178,-18 178,-5 178,-5 178,-2.5 180.5,0 183,0 183,0 188,0 188,0 190.5,0 193,-2.5 193,-5 193,-5 193,-18 193,-18 193,-20.5 190.5,-23 188,-23\"/>\n",
              "<text text-anchor=\"middle\" x=\"185.5\" y=\"-7.8\" font-family=\"Times,serif\" font-size=\"14.00\">5</text>\n",
              "</g>\n",
              "<!-- 140715600505104&#45;&gt;140715600506592 -->\n",
              "<g id=\"edge16\" class=\"edge\">\n",
              "<title>140715600505104&#45;&gt;140715600506592</title>\n",
              "<path fill=\"none\" stroke=\"black\" d=\"M185.5,-40.84C185.5,-35.34 185.5,-28.65 185.5,-23.14\"/>\n",
              "</g>\n",
              "<!-- 140715600520528&#45;&gt;140715600503808 -->\n",
              "<!-- 140715600522640 -->\n",
              "<g id=\"node16\" class=\"node\">\n",
              "<title>140715600522640</title>\n",
              "<path fill=\"none\" stroke=\"black\" stroke-width=\"0.25\" d=\"M243.83,-64C243.83,-64 235.17,-64 235.17,-64 231.33,-64 227.5,-60.17 227.5,-56.33 227.5,-56.33 227.5,-48.67 227.5,-48.67 227.5,-44.83 231.33,-41 235.17,-41 235.17,-41 243.83,-41 243.83,-41 247.67,-41 251.5,-44.83 251.5,-48.67 251.5,-48.67 251.5,-56.33 251.5,-56.33 251.5,-60.17 247.67,-64 243.83,-64\"/>\n",
              "<text text-anchor=\"middle\" x=\"239.5\" y=\"-48.8\" font-family=\"Times,serif\" font-size=\"14.00\">T2</text>\n",
              "</g>\n",
              "<!-- 140715600520528&#45;&gt;140715600522640 -->\n",
              "<g id=\"edge20\" class=\"edge\">\n",
              "<title>140715600520528&#45;&gt;140715600522640</title>\n",
              "<path fill=\"none\" stroke=\"black\" d=\"M239.5,-81.84C239.5,-76.34 239.5,-69.65 239.5,-64.14\"/>\n",
              "</g>\n",
              "<!-- 140715600523216 -->\n",
              "<g id=\"node17\" class=\"node\">\n",
              "<title>140715600523216</title>\n",
              "<path fill=\"none\" stroke=\"black\" stroke-width=\"0.25\" d=\"M295.33,-64C295.33,-64 277.67,-64 277.67,-64 273.83,-64 270,-60.17 270,-56.33 270,-56.33 270,-48.67 270,-48.67 270,-44.83 273.83,-41 277.67,-41 277.67,-41 295.33,-41 295.33,-41 299.17,-41 303,-44.83 303,-48.67 303,-48.67 303,-56.33 303,-56.33 303,-60.17 299.17,-64 295.33,-64\"/>\n",
              "<text text-anchor=\"middle\" x=\"286.5\" y=\"-48.8\" font-family=\"Times,serif\" font-size=\"14.00\">Sign</text>\n",
              "</g>\n",
              "<!-- 140715600520528&#45;&gt;140715600523216 -->\n",
              "<g id=\"edge21\" class=\"edge\">\n",
              "<title>140715600520528&#45;&gt;140715600523216</title>\n",
              "<path fill=\"none\" stroke=\"black\" d=\"M252.34,-81.84C258.97,-76.34 267.04,-69.65 273.67,-64.14\"/>\n",
              "</g>\n",
              "<!-- 140715600505824 -->\n",
              "<g id=\"node20\" class=\"node\">\n",
              "<title>140715600505824</title>\n",
              "<path fill=\"none\" stroke=\"black\" stroke-width=\"0.25\" d=\"M331,-64C331,-64 326,-64 326,-64 323.5,-64 321,-61.5 321,-59 321,-59 321,-46 321,-46 321,-43.5 323.5,-41 326,-41 326,-41 331,-41 331,-41 333.5,-41 336,-43.5 336,-46 336,-46 336,-59 336,-59 336,-61.5 333.5,-64 331,-64\"/>\n",
              "<text text-anchor=\"middle\" x=\"328.5\" y=\"-48.8\" font-family=\"Times,serif\" font-size=\"14.00\">1</text>\n",
              "</g>\n",
              "<!-- 140715600503808&#45;&gt;140715600505824 -->\n",
              "<g id=\"edge25\" class=\"edge\">\n",
              "<title>140715600503808&#45;&gt;140715600505824</title>\n",
              "<path fill=\"none\" stroke=\"black\" d=\"M303.06,-81.84C308.65,-75.62 315.61,-67.87 320.83,-62.05\"/>\n",
              "</g>\n",
              "<!-- 140715600522640&#45;&gt;140715600523216 -->\n",
              "<!-- 140715600506256 -->\n",
              "<g id=\"node18\" class=\"node\">\n",
              "<title>140715600506256</title>\n",
              "<path fill=\"none\" stroke=\"black\" stroke-width=\"0.25\" d=\"M242,-23C242,-23 237,-23 237,-23 234.5,-23 232,-20.5 232,-18 232,-18 232,-5 232,-5 232,-2.5 234.5,0 237,0 237,0 242,0 242,0 244.5,0 247,-2.5 247,-5 247,-5 247,-18 247,-18 247,-20.5 244.5,-23 242,-23\"/>\n",
              "<text text-anchor=\"middle\" x=\"239.5\" y=\"-7.8\" font-family=\"Times,serif\" font-size=\"14.00\">e</text>\n",
              "</g>\n",
              "<!-- 140715600522640&#45;&gt;140715600506256 -->\n",
              "<g id=\"edge23\" class=\"edge\">\n",
              "<title>140715600522640&#45;&gt;140715600506256</title>\n",
              "<path fill=\"none\" stroke=\"black\" d=\"M239.5,-40.84C239.5,-35.34 239.5,-28.65 239.5,-23.14\"/>\n",
              "</g>\n",
              "<!-- 140715600519664 -->\n",
              "<g id=\"node19\" class=\"node\">\n",
              "<title>140715600519664</title>\n",
              "<path fill=\"none\" stroke=\"black\" stroke-width=\"0.25\" d=\"M289.33,-23C289.33,-23 283.67,-23 283.67,-23 280.83,-23 278,-20.17 278,-17.33 278,-17.33 278,-5.67 278,-5.67 278,-2.83 280.83,0 283.67,0 283.67,0 289.33,0 289.33,0 292.17,0 295,-2.83 295,-5.67 295,-5.67 295,-17.33 295,-17.33 295,-20.17 292.17,-23 289.33,-23\"/>\n",
              "<text text-anchor=\"middle\" x=\"286.5\" y=\"-7.8\" font-family=\"Times,serif\" font-size=\"14.00\">+</text>\n",
              "</g>\n",
              "<!-- 140715600523216&#45;&gt;140715600519664 -->\n",
              "<g id=\"edge24\" class=\"edge\">\n",
              "<title>140715600523216&#45;&gt;140715600519664</title>\n",
              "<path fill=\"none\" stroke=\"black\" d=\"M286.5,-40.84C286.5,-35.34 286.5,-28.65 286.5,-23.14\"/>\n",
              "</g>\n",
              "</g>\n",
              "</svg>\n"
            ],
            "text/plain": [
              "(Number: (N1: (Integer: (Integer: (3)), (Digit: (2))), (Fraction: (T1: (.)), (Integer: (5)))), (Scale': (N2: (T2: (e)), (Sign: (+))), (Integer: (1))))"
            ]
          },
          "execution_count": 23,
          "metadata": {},
          "output_type": "execute_result"
        }
      ],
      "source": [
        "fake_parse(G.S, 1, len(INPUT))"
      ]
    }
  ],
  "metadata": {
    "kernelspec": {
      "display_name": "Python 3",
      "language": "python",
      "name": "python3"
    },
    "language_info": {
      "codemirror_mode": {
        "name": "ipython",
        "version": 3
      },
      "file_extension": ".py",
      "mimetype": "text/x-python",
      "name": "python",
      "nbconvert_exporter": "python",
      "pygments_lexer": "ipython3"
    },
    "widgets": {
      "application/vnd.jupyter.widget-state+json": {
        "state": {
          "076e6622ae8346ef95b16deeebd39378": {
            "model_module": "@jupyter-widgets/controls",
            "model_module_version": "1.5.0",
            "model_name": "VBoxModel",
            "state": {
              "_dom_classes": [
                "widget-interact"
              ],
              "_model_module": "@jupyter-widgets/controls",
              "_model_module_version": "1.5.0",
              "_model_name": "VBoxModel",
              "_view_count": null,
              "_view_module": "@jupyter-widgets/controls",
              "_view_module_version": "1.5.0",
              "_view_name": "VBoxView",
              "box_style": "",
              "children": [
                "IPY_MODEL_fa663a98a2c84785a7a2becbfb10527e",
                "IPY_MODEL_b4aa7083607844438a3f59ad963bfeda"
              ],
              "layout": "IPY_MODEL_52a0b0e6c7a54ace88b75698b4af4699"
            }
          },
          "1c89bc8792b844cea025aa7363b10649": {
            "model_module": "@jupyter-widgets/base",
            "model_module_version": "1.2.0",
            "model_name": "LayoutModel",
            "state": {
              "_model_module": "@jupyter-widgets/base",
              "_model_module_version": "1.2.0",
              "_model_name": "LayoutModel",
              "_view_count": null,
              "_view_module": "@jupyter-widgets/base",
              "_view_module_version": "1.2.0",
              "_view_name": "LayoutView",
              "align_content": null,
              "align_items": null,
              "align_self": null,
              "border": null,
              "bottom": null,
              "display": null,
              "flex": null,
              "flex_flow": null,
              "grid_area": null,
              "grid_auto_columns": null,
              "grid_auto_flow": null,
              "grid_auto_rows": null,
              "grid_column": null,
              "grid_gap": null,
              "grid_row": null,
              "grid_template_areas": null,
              "grid_template_columns": null,
              "grid_template_rows": null,
              "height": "350px",
              "justify_content": null,
              "justify_items": null,
              "left": null,
              "margin": null,
              "max_height": null,
              "max_width": null,
              "min_height": null,
              "min_width": null,
              "object_fit": null,
              "object_position": null,
              "order": null,
              "overflow": null,
              "overflow_x": null,
              "overflow_y": null,
              "padding": null,
              "right": null,
              "top": null,
              "visibility": null,
              "width": null
            }
          },
          "3f4fec26de154a7084052817dc94fd12": {
            "model_module": "@jupyter-widgets/controls",
            "model_module_version": "1.5.0",
            "model_name": "IntSliderModel",
            "state": {
              "_dom_classes": [],
              "_model_module": "@jupyter-widgets/controls",
              "_model_module_version": "1.5.0",
              "_model_name": "IntSliderModel",
              "_view_count": null,
              "_view_module": "@jupyter-widgets/controls",
              "_view_module_version": "1.5.0",
              "_view_name": "IntSliderView",
              "continuous_update": true,
              "description": "n",
              "description_tooltip": null,
              "disabled": false,
              "layout": "IPY_MODEL_77ce57f624414cbca989a47280414b0e",
              "max": 6,
              "min": 0,
              "orientation": "horizontal",
              "readout": true,
              "readout_format": "d",
              "step": 1,
              "style": "IPY_MODEL_d2a98f8cc362401dbc69c816232d80df",
              "value": 0
            }
          },
          "52a0b0e6c7a54ace88b75698b4af4699": {
            "model_module": "@jupyter-widgets/base",
            "model_module_version": "1.2.0",
            "model_name": "LayoutModel",
            "state": {
              "_model_module": "@jupyter-widgets/base",
              "_model_module_version": "1.2.0",
              "_model_name": "LayoutModel",
              "_view_count": null,
              "_view_module": "@jupyter-widgets/base",
              "_view_module_version": "1.2.0",
              "_view_name": "LayoutView",
              "align_content": null,
              "align_items": null,
              "align_self": null,
              "border": null,
              "bottom": null,
              "display": null,
              "flex": null,
              "flex_flow": null,
              "grid_area": null,
              "grid_auto_columns": null,
              "grid_auto_flow": null,
              "grid_auto_rows": null,
              "grid_column": null,
              "grid_gap": null,
              "grid_row": null,
              "grid_template_areas": null,
              "grid_template_columns": null,
              "grid_template_rows": null,
              "height": null,
              "justify_content": null,
              "justify_items": null,
              "left": null,
              "margin": null,
              "max_height": null,
              "max_width": null,
              "min_height": null,
              "min_width": null,
              "object_fit": null,
              "object_position": null,
              "order": null,
              "overflow": null,
              "overflow_x": null,
              "overflow_y": null,
              "padding": null,
              "right": null,
              "top": null,
              "visibility": null,
              "width": null
            }
          },
          "58c05c8047474243a621448505eda73f": {
            "model_module": "@jupyter-widgets/base",
            "model_module_version": "1.2.0",
            "model_name": "LayoutModel",
            "state": {
              "_model_module": "@jupyter-widgets/base",
              "_model_module_version": "1.2.0",
              "_model_name": "LayoutModel",
              "_view_count": null,
              "_view_module": "@jupyter-widgets/base",
              "_view_module_version": "1.2.0",
              "_view_name": "LayoutView",
              "align_content": null,
              "align_items": null,
              "align_self": null,
              "border": null,
              "bottom": null,
              "display": null,
              "flex": null,
              "flex_flow": null,
              "grid_area": null,
              "grid_auto_columns": null,
              "grid_auto_flow": null,
              "grid_auto_rows": null,
              "grid_column": null,
              "grid_gap": null,
              "grid_row": null,
              "grid_template_areas": null,
              "grid_template_columns": null,
              "grid_template_rows": null,
              "height": null,
              "justify_content": null,
              "justify_items": null,
              "left": null,
              "margin": null,
              "max_height": null,
              "max_width": null,
              "min_height": null,
              "min_width": null,
              "object_fit": null,
              "object_position": null,
              "order": null,
              "overflow": null,
              "overflow_x": null,
              "overflow_y": null,
              "padding": null,
              "right": null,
              "top": null,
              "visibility": null,
              "width": null
            }
          },
          "6c7632becf754380bbe91687dd37d13e": {
            "model_module": "@jupyter-widgets/output",
            "model_module_version": "1.0.0",
            "model_name": "OutputModel",
            "state": {
              "_dom_classes": [],
              "_model_module": "@jupyter-widgets/output",
              "_model_module_version": "1.0.0",
              "_model_name": "OutputModel",
              "_view_count": null,
              "_view_module": "@jupyter-widgets/output",
              "_view_module_version": "1.0.0",
              "_view_name": "OutputView",
              "layout": "IPY_MODEL_ee83c51cb0e1485883b586096ab8b618",
              "msg_id": "",
              "outputs": [
                {
                  "data": {
                    "image/svg+xml": "<?xml version=\"1.0\" encoding=\"UTF-8\" standalone=\"no\"?>\n<!DOCTYPE svg PUBLIC \"-//W3C//DTD SVG 1.1//EN\"\n \"http://www.w3.org/Graphics/SVG/1.1/DTD/svg11.dtd\">\n<!-- Generated by graphviz version 2.43.0 (0)\n -->\n<!-- Title: %3 Pages: 1 -->\n<svg width=\"158pt\" height=\"31pt\"\n viewBox=\"0.00 0.00 158.00 31.00\" xmlns=\"http://www.w3.org/2000/svg\" xmlns:xlink=\"http://www.w3.org/1999/xlink\">\n<g id=\"graph0\" class=\"graph\" transform=\"scale(1 1) rotate(0) translate(4 27)\">\n<title>%3</title>\n<polygon fill=\"white\" stroke=\"transparent\" points=\"-4,4 -4,-27 154,-27 154,4 -4,4\"/>\n<!-- &#45;1708291726784219318 -->\n<!-- 5338190018257404466 -->\n<g id=\"node2\" class=\"node\">\n<title>5338190018257404466</title>\n<path fill=\"none\" stroke=\"black\" stroke-width=\"0.25\" d=\"M142.33,-23C142.33,-23 117.67,-23 117.67,-23 113.83,-23 110,-19.17 110,-15.33 110,-15.33 110,-7.67 110,-7.67 110,-3.83 113.83,0 117.67,0 117.67,0 142.33,0 142.33,0 146.17,0 150,-3.83 150,-7.67 150,-7.67 150,-15.33 150,-15.33 150,-19.17 146.17,-23 142.33,-23\"/>\n<text text-anchor=\"middle\" x=\"130\" y=\"-7.8\" font-family=\"Times,serif\" font-size=\"14.00\">Inizio</text>\n</g>\n</g>\n</svg>\n",
                    "text/plain": "ProductionGraph(Inizio)"
                  },
                  "metadata": {},
                  "output_type": "display_data"
                }
              ]
            }
          },
          "77ce57f624414cbca989a47280414b0e": {
            "model_module": "@jupyter-widgets/base",
            "model_module_version": "1.2.0",
            "model_name": "LayoutModel",
            "state": {
              "_model_module": "@jupyter-widgets/base",
              "_model_module_version": "1.2.0",
              "_model_name": "LayoutModel",
              "_view_count": null,
              "_view_module": "@jupyter-widgets/base",
              "_view_module_version": "1.2.0",
              "_view_name": "LayoutView",
              "align_content": null,
              "align_items": null,
              "align_self": null,
              "border": null,
              "bottom": null,
              "display": null,
              "flex": null,
              "flex_flow": null,
              "grid_area": null,
              "grid_auto_columns": null,
              "grid_auto_flow": null,
              "grid_auto_rows": null,
              "grid_column": null,
              "grid_gap": null,
              "grid_row": null,
              "grid_template_areas": null,
              "grid_template_columns": null,
              "grid_template_rows": null,
              "height": null,
              "justify_content": null,
              "justify_items": null,
              "left": null,
              "margin": null,
              "max_height": null,
              "max_width": null,
              "min_height": null,
              "min_width": null,
              "object_fit": null,
              "object_position": null,
              "order": null,
              "overflow": null,
              "overflow_x": null,
              "overflow_y": null,
              "padding": null,
              "right": null,
              "top": null,
              "visibility": null,
              "width": null
            }
          },
          "a5b09699b7784a2290efff84324ea5d1": {
            "model_module": "@jupyter-widgets/base",
            "model_module_version": "1.2.0",
            "model_name": "LayoutModel",
            "state": {
              "_model_module": "@jupyter-widgets/base",
              "_model_module_version": "1.2.0",
              "_model_name": "LayoutModel",
              "_view_count": null,
              "_view_module": "@jupyter-widgets/base",
              "_view_module_version": "1.2.0",
              "_view_name": "LayoutView",
              "align_content": null,
              "align_items": null,
              "align_self": null,
              "border": null,
              "bottom": null,
              "display": null,
              "flex": null,
              "flex_flow": null,
              "grid_area": null,
              "grid_auto_columns": null,
              "grid_auto_flow": null,
              "grid_auto_rows": null,
              "grid_column": null,
              "grid_gap": null,
              "grid_row": null,
              "grid_template_areas": null,
              "grid_template_columns": null,
              "grid_template_rows": null,
              "height": null,
              "justify_content": null,
              "justify_items": null,
              "left": null,
              "margin": null,
              "max_height": null,
              "max_width": null,
              "min_height": null,
              "min_width": null,
              "object_fit": null,
              "object_position": null,
              "order": null,
              "overflow": null,
              "overflow_x": null,
              "overflow_y": null,
              "padding": null,
              "right": null,
              "top": null,
              "visibility": null,
              "width": null
            }
          },
          "ab7da337c58e4c49ad732b0a60be6c5b": {
            "model_module": "@jupyter-widgets/controls",
            "model_module_version": "1.5.0",
            "model_name": "SliderStyleModel",
            "state": {
              "_model_module": "@jupyter-widgets/controls",
              "_model_module_version": "1.5.0",
              "_model_name": "SliderStyleModel",
              "_view_count": null,
              "_view_module": "@jupyter-widgets/base",
              "_view_module_version": "1.2.0",
              "_view_name": "StyleView",
              "description_width": "",
              "handle_color": null
            }
          },
          "b1bc2c39cdb04eb0b84edec615e840bc": {
            "model_module": "@jupyter-widgets/controls",
            "model_module_version": "1.5.0",
            "model_name": "VBoxModel",
            "state": {
              "_dom_classes": [
                "widget-interact"
              ],
              "_model_module": "@jupyter-widgets/controls",
              "_model_module_version": "1.5.0",
              "_model_name": "VBoxModel",
              "_view_count": null,
              "_view_module": "@jupyter-widgets/controls",
              "_view_module_version": "1.5.0",
              "_view_name": "VBoxView",
              "box_style": "",
              "children": [
                "IPY_MODEL_3f4fec26de154a7084052817dc94fd12",
                "IPY_MODEL_6c7632becf754380bbe91687dd37d13e"
              ],
              "layout": "IPY_MODEL_58c05c8047474243a621448505eda73f"
            }
          },
          "b4aa7083607844438a3f59ad963bfeda": {
            "model_module": "@jupyter-widgets/output",
            "model_module_version": "1.0.0",
            "model_name": "OutputModel",
            "state": {
              "_dom_classes": [],
              "_model_module": "@jupyter-widgets/output",
              "_model_module_version": "1.0.0",
              "_model_name": "OutputModel",
              "_view_count": null,
              "_view_module": "@jupyter-widgets/output",
              "_view_module_version": "1.0.0",
              "_view_name": "OutputView",
              "layout": "IPY_MODEL_1c89bc8792b844cea025aa7363b10649",
              "msg_id": "",
              "outputs": [
                {
                  "data": {
                    "image/svg+xml": "<?xml version=\"1.0\" encoding=\"UTF-8\" standalone=\"no\"?>\n<!DOCTYPE svg PUBLIC \"-//W3C//DTD SVG 1.1//EN\"\n \"http://www.w3.org/Graphics/SVG/1.1/DTD/svg11.dtd\">\n<!-- Generated by graphviz version 2.43.0 (0)\n -->\n<!-- Title: %3 Pages: 1 -->\n<svg width=\"134pt\" height=\"31pt\"\n viewBox=\"0.00 0.00 134.00 31.00\" xmlns=\"http://www.w3.org/2000/svg\" xmlns:xlink=\"http://www.w3.org/1999/xlink\">\n<g id=\"graph0\" class=\"graph\" transform=\"scale(1 1) rotate(0) translate(4 27)\">\n<title>%3</title>\n<polygon fill=\"white\" stroke=\"transparent\" points=\"-4,4 -4,-27 130,-27 130,4 -4,4\"/>\n<!-- &#45;1708291726784219318 -->\n<!-- &#45;5773467721967840089 -->\n<g id=\"node2\" class=\"node\">\n<title>&#45;5773467721967840089</title>\n<path fill=\"none\" stroke=\"black\" stroke-width=\"0.25\" d=\"M120.67,-23C120.67,-23 115.33,-23 115.33,-23 112.67,-23 110,-20.33 110,-17.67 110,-17.67 110,-5.33 110,-5.33 110,-2.67 112.67,0 115.33,0 115.33,0 120.67,0 120.67,0 123.33,0 126,-2.67 126,-5.33 126,-5.33 126,-17.67 126,-17.67 126,-20.33 123.33,-23 120.67,-23\"/>\n<text text-anchor=\"middle\" x=\"118\" y=\"-7.8\" font-family=\"Times,serif\" font-size=\"14.00\">S</text>\n</g>\n</g>\n</svg>\n",
                    "text/plain": "ProductionGraph(S)"
                  },
                  "metadata": {},
                  "output_type": "display_data"
                }
              ]
            }
          },
          "d2a98f8cc362401dbc69c816232d80df": {
            "model_module": "@jupyter-widgets/controls",
            "model_module_version": "1.5.0",
            "model_name": "SliderStyleModel",
            "state": {
              "_model_module": "@jupyter-widgets/controls",
              "_model_module_version": "1.5.0",
              "_model_name": "SliderStyleModel",
              "_view_count": null,
              "_view_module": "@jupyter-widgets/base",
              "_view_module_version": "1.2.0",
              "_view_name": "StyleView",
              "description_width": "",
              "handle_color": null
            }
          },
          "ee83c51cb0e1485883b586096ab8b618": {
            "model_module": "@jupyter-widgets/base",
            "model_module_version": "1.2.0",
            "model_name": "LayoutModel",
            "state": {
              "_model_module": "@jupyter-widgets/base",
              "_model_module_version": "1.2.0",
              "_model_name": "LayoutModel",
              "_view_count": null,
              "_view_module": "@jupyter-widgets/base",
              "_view_module_version": "1.2.0",
              "_view_name": "LayoutView",
              "align_content": null,
              "align_items": null,
              "align_self": null,
              "border": null,
              "bottom": null,
              "display": null,
              "flex": null,
              "flex_flow": null,
              "grid_area": null,
              "grid_auto_columns": null,
              "grid_auto_flow": null,
              "grid_auto_rows": null,
              "grid_column": null,
              "grid_gap": null,
              "grid_row": null,
              "grid_template_areas": null,
              "grid_template_columns": null,
              "grid_template_rows": null,
              "height": "500px",
              "justify_content": null,
              "justify_items": null,
              "left": null,
              "margin": null,
              "max_height": null,
              "max_width": null,
              "min_height": null,
              "min_width": null,
              "object_fit": null,
              "object_position": null,
              "order": null,
              "overflow": null,
              "overflow_x": null,
              "overflow_y": null,
              "padding": null,
              "right": null,
              "top": null,
              "visibility": null,
              "width": null
            }
          },
          "fa663a98a2c84785a7a2becbfb10527e": {
            "model_module": "@jupyter-widgets/controls",
            "model_module_version": "1.5.0",
            "model_name": "IntSliderModel",
            "state": {
              "_dom_classes": [],
              "_model_module": "@jupyter-widgets/controls",
              "_model_module_version": "1.5.0",
              "_model_name": "IntSliderModel",
              "_view_count": null,
              "_view_module": "@jupyter-widgets/controls",
              "_view_module_version": "1.5.0",
              "_view_name": "IntSliderView",
              "continuous_update": true,
              "description": "n",
              "description_tooltip": null,
              "disabled": false,
              "layout": "IPY_MODEL_a5b09699b7784a2290efff84324ea5d1",
              "max": 4,
              "min": 0,
              "orientation": "horizontal",
              "readout": true,
              "readout_format": "d",
              "step": 1,
              "style": "IPY_MODEL_ab7da337c58e4c49ad732b0a60be6c5b",
              "value": 0
            }
          }
        },
        "version_major": 2,
        "version_minor": 0
      }
    }
  },
  "nbformat": 4,
  "nbformat_minor": 4
}
