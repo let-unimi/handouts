{
  "cells": [
    {
      "cell_type": "markdown",
      "metadata": {},
      "source": [
        "# Lezione 5"
      ]
    },
    {
      "cell_type": "code",
      "execution_count": null,
      "metadata": {},
      "outputs": [],
      "source": [
        "from liblet import Derivation, Grammar, animate_derivation"
      ]
    },
    {
      "cell_type": "markdown",
      "metadata": {},
      "source": [
        "# Parsing\n",
        "\n",
        "## Top down"
      ]
    },
    {
      "cell_type": "code",
      "execution_count": null,
      "metadata": {},
      "outputs": [],
      "source": [
        "w = 'aabbcc'\n",
        "\n",
        "G = Grammar.from_string(\"\"\"\n",
        "S -> a S Q | a b c\n",
        "b Q c -> b b c c  \n",
        "c Q -> Q c\n",
        "\"\"\", False)"
      ]
    },
    {
      "cell_type": "code",
      "execution_count": null,
      "metadata": {},
      "outputs": [
        {
          "data": {
            "application/vnd.jupyter.widget-view+json": {
              "model_id": "7bbb9747bba445c3a667980ae352146b",
              "version_major": 2,
              "version_minor": 0
            },
            "text/plain": [
              "interactive(children=(IntSlider(value=0, description='n', max=4), Output(layout=Layout(height='350px'))), _dom…"
            ]
          },
          "execution_count": 3,
          "metadata": {},
          "output_type": "execute_result"
        }
      ],
      "source": [
        "animate_derivation(Derivation(G).step([\n",
        "  (0, 0), (1, 1), (3, 3), (2, 2)\n",
        "]), height = '350px')"
      ]
    },
    {
      "cell_type": "markdown",
      "metadata": {},
      "source": [
        "## Bottom up\n",
        "\n",
        "Nel caso *bottom up* si può procedere con una grammatica ottenuta rovesciando le produzioni (e aggiungendo una produzione `Inizio`$\\to \\omega$ dove `Inizio` è il nuovo simbolo di partenza (e volendo una produzione $S\\to $`Fine` dove `Fine` è un simbolo usato per indicare la fine della derivazione)."
      ]
    },
    {
      "cell_type": "code",
      "execution_count": null,
      "metadata": {},
      "outputs": [],
      "source": [
        "GR = Grammar.from_string(\"\"\"\n",
        "Inizio -> a a b b c c\n",
        "a S Q -> S\n",
        "a b c -> S \n",
        "b b c c -> b Q c\n",
        "Q c -> c Q\n",
        "S -> Fine\n",
        "\"\"\", False)"
      ]
    },
    {
      "cell_type": "code",
      "execution_count": null,
      "metadata": {},
      "outputs": [
        {
          "data": {
            "application/vnd.jupyter.widget-view+json": {
              "model_id": "2949eb7934db40b89b1df48ccf2988c4",
              "version_major": 2,
              "version_minor": 0
            },
            "text/plain": [
              "interactive(children=(IntSlider(value=0, description='n', max=6), Output(layout=Layout(height='500px'))), _dom…"
            ]
          },
          "execution_count": 5,
          "metadata": {},
          "output_type": "execute_result"
        }
      ],
      "source": [
        "animate_derivation(Derivation(GR).step([\n",
        "  (0, 0), (3, 2), (4, 3), (2, 1), (1, 0), (5, 0)\n",
        "]), height = '500px')"
      ]
    }
  ],
  "metadata": {
    "kernelspec": {
      "display_name": "Python 3",
      "language": "python",
      "name": "python3"
    },
    "language_info": {
      "codemirror_mode": {
        "name": "ipython",
        "version": 3
      },
      "file_extension": ".py",
      "mimetype": "text/x-python",
      "name": "python",
      "nbconvert_exporter": "python",
      "pygments_lexer": "ipython3"
    },
    "widgets": {
      "application/vnd.jupyter.widget-state+json": {
        "state": {
          "06729a967619464097614968b45f2b64": {
            "model_module": "@jupyter-widgets/base",
            "model_module_version": "2.0.0",
            "model_name": "LayoutModel",
            "state": {
              "_model_module": "@jupyter-widgets/base",
              "_model_module_version": "2.0.0",
              "_model_name": "LayoutModel",
              "_view_count": null,
              "_view_module": "@jupyter-widgets/base",
              "_view_module_version": "2.0.0",
              "_view_name": "LayoutView",
              "align_content": null,
              "align_items": null,
              "align_self": null,
              "border_bottom": null,
              "border_left": null,
              "border_right": null,
              "border_top": null,
              "bottom": null,
              "display": null,
              "flex": null,
              "flex_flow": null,
              "grid_area": null,
              "grid_auto_columns": null,
              "grid_auto_flow": null,
              "grid_auto_rows": null,
              "grid_column": null,
              "grid_gap": null,
              "grid_row": null,
              "grid_template_areas": null,
              "grid_template_columns": null,
              "grid_template_rows": null,
              "height": null,
              "justify_content": null,
              "justify_items": null,
              "left": null,
              "margin": null,
              "max_height": null,
              "max_width": null,
              "min_height": null,
              "min_width": null,
              "object_fit": null,
              "object_position": null,
              "order": null,
              "overflow": null,
              "padding": null,
              "right": null,
              "top": null,
              "visibility": null,
              "width": null
            }
          },
          "0728706a30e64444bc7d204a896f9b17": {
            "model_module": "@jupyter-widgets/output",
            "model_module_version": "1.0.0",
            "model_name": "OutputModel",
            "state": {
              "_dom_classes": [],
              "_model_module": "@jupyter-widgets/output",
              "_model_module_version": "1.0.0",
              "_model_name": "OutputModel",
              "_view_count": null,
              "_view_module": "@jupyter-widgets/output",
              "_view_module_version": "1.0.0",
              "_view_name": "OutputView",
              "layout": "IPY_MODEL_6a39b46d7acd46aa8ff6d21b57149066",
              "msg_id": "",
              "outputs": [
                {
                  "data": {
                    "image/svg+xml": "<?xml version=\"1.0\" encoding=\"UTF-8\" standalone=\"no\"?>\n<!DOCTYPE svg PUBLIC \"-//W3C//DTD SVG 1.1//EN\"\n \"http://www.w3.org/Graphics/SVG/1.1/DTD/svg11.dtd\">\n<!-- Generated by graphviz version 2.43.0 (0)\n -->\n<!-- Title: %3 Pages: 1 -->\n<svg width=\"134pt\" height=\"31pt\"\n viewBox=\"0.00 0.00 134.00 31.00\" xmlns=\"http://www.w3.org/2000/svg\" xmlns:xlink=\"http://www.w3.org/1999/xlink\">\n<g id=\"graph0\" class=\"graph\" transform=\"scale(1 1) rotate(0) translate(4 27)\">\n<title>%3</title>\n<polygon fill=\"white\" stroke=\"transparent\" points=\"-4,4 -4,-27 130,-27 130,4 -4,4\"/>\n<!-- 2215246015585526149 -->\n<!-- &#45;8905195200344391691 -->\n<g id=\"node2\" class=\"node\">\n<title>&#45;8905195200344391691</title>\n<path fill=\"none\" stroke=\"black\" stroke-width=\"0.25\" d=\"M120.67,-23C120.67,-23 115.33,-23 115.33,-23 112.67,-23 110,-20.33 110,-17.67 110,-17.67 110,-5.33 110,-5.33 110,-2.67 112.67,0 115.33,0 115.33,0 120.67,0 120.67,0 123.33,0 126,-2.67 126,-5.33 126,-5.33 126,-17.67 126,-17.67 126,-20.33 123.33,-23 120.67,-23\"/>\n<text text-anchor=\"middle\" x=\"118\" y=\"-7.8\" font-family=\"Times,serif\" font-size=\"14.00\">S</text>\n</g>\n</g>\n</svg>\n",
                    "text/plain": "ProductionGraph(S)"
                  },
                  "metadata": {},
                  "output_type": "display_data"
                }
              ],
              "tabbable": null,
              "tooltip": null
            }
          },
          "155e9c7a488348bdbc9b54b784dc6dde": {
            "model_module": "@jupyter-widgets/controls",
            "model_module_version": "2.0.0",
            "model_name": "IntSliderModel",
            "state": {
              "_dom_classes": [],
              "_model_module": "@jupyter-widgets/controls",
              "_model_module_version": "2.0.0",
              "_model_name": "IntSliderModel",
              "_view_count": null,
              "_view_module": "@jupyter-widgets/controls",
              "_view_module_version": "2.0.0",
              "_view_name": "IntSliderView",
              "behavior": "drag-tap",
              "continuous_update": true,
              "description": "n",
              "description_allow_html": false,
              "disabled": false,
              "layout": "IPY_MODEL_bd5b0dda752541cdb8c46c6d7c01860e",
              "max": 4,
              "min": 0,
              "orientation": "horizontal",
              "readout": true,
              "readout_format": "d",
              "step": 1,
              "style": "IPY_MODEL_d18eed48f4c84267bd51d74940afec05",
              "tabbable": null,
              "tooltip": null,
              "value": 0
            }
          },
          "2949eb7934db40b89b1df48ccf2988c4": {
            "model_module": "@jupyter-widgets/controls",
            "model_module_version": "2.0.0",
            "model_name": "VBoxModel",
            "state": {
              "_dom_classes": [
                "widget-interact"
              ],
              "_model_module": "@jupyter-widgets/controls",
              "_model_module_version": "2.0.0",
              "_model_name": "VBoxModel",
              "_view_count": null,
              "_view_module": "@jupyter-widgets/controls",
              "_view_module_version": "2.0.0",
              "_view_name": "VBoxView",
              "box_style": "",
              "children": [
                "IPY_MODEL_c403941b04894c0fad37301811babc55",
                "IPY_MODEL_40c7ca167581406491740265d0774385"
              ],
              "layout": "IPY_MODEL_06729a967619464097614968b45f2b64",
              "tabbable": null,
              "tooltip": null
            }
          },
          "40c7ca167581406491740265d0774385": {
            "model_module": "@jupyter-widgets/output",
            "model_module_version": "1.0.0",
            "model_name": "OutputModel",
            "state": {
              "_dom_classes": [],
              "_model_module": "@jupyter-widgets/output",
              "_model_module_version": "1.0.0",
              "_model_name": "OutputModel",
              "_view_count": null,
              "_view_module": "@jupyter-widgets/output",
              "_view_module_version": "1.0.0",
              "_view_name": "OutputView",
              "layout": "IPY_MODEL_f59697f25e6b473f91e2ed0529e13b5e",
              "msg_id": "",
              "outputs": [
                {
                  "data": {
                    "image/svg+xml": "<?xml version=\"1.0\" encoding=\"UTF-8\" standalone=\"no\"?>\n<!DOCTYPE svg PUBLIC \"-//W3C//DTD SVG 1.1//EN\"\n \"http://www.w3.org/Graphics/SVG/1.1/DTD/svg11.dtd\">\n<!-- Generated by graphviz version 2.43.0 (0)\n -->\n<!-- Title: %3 Pages: 1 -->\n<svg width=\"158pt\" height=\"31pt\"\n viewBox=\"0.00 0.00 158.00 31.00\" xmlns=\"http://www.w3.org/2000/svg\" xmlns:xlink=\"http://www.w3.org/1999/xlink\">\n<g id=\"graph0\" class=\"graph\" transform=\"scale(1 1) rotate(0) translate(4 27)\">\n<title>%3</title>\n<polygon fill=\"white\" stroke=\"transparent\" points=\"-4,4 -4,-27 154,-27 154,4 -4,4\"/>\n<!-- 2215246015585526149 -->\n<!-- &#45;7670779821507342142 -->\n<g id=\"node2\" class=\"node\">\n<title>&#45;7670779821507342142</title>\n<path fill=\"none\" stroke=\"black\" stroke-width=\"0.25\" d=\"M142.33,-23C142.33,-23 117.67,-23 117.67,-23 113.83,-23 110,-19.17 110,-15.33 110,-15.33 110,-7.67 110,-7.67 110,-3.83 113.83,0 117.67,0 117.67,0 142.33,0 142.33,0 146.17,0 150,-3.83 150,-7.67 150,-7.67 150,-15.33 150,-15.33 150,-19.17 146.17,-23 142.33,-23\"/>\n<text text-anchor=\"middle\" x=\"130\" y=\"-7.8\" font-family=\"Times,serif\" font-size=\"14.00\">Inizio</text>\n</g>\n</g>\n</svg>\n",
                    "text/plain": "ProductionGraph(Inizio)"
                  },
                  "metadata": {},
                  "output_type": "display_data"
                }
              ],
              "tabbable": null,
              "tooltip": null
            }
          },
          "4b89240521d64f8d9872707e47019b7b": {
            "model_module": "@jupyter-widgets/base",
            "model_module_version": "2.0.0",
            "model_name": "LayoutModel",
            "state": {
              "_model_module": "@jupyter-widgets/base",
              "_model_module_version": "2.0.0",
              "_model_name": "LayoutModel",
              "_view_count": null,
              "_view_module": "@jupyter-widgets/base",
              "_view_module_version": "2.0.0",
              "_view_name": "LayoutView",
              "align_content": null,
              "align_items": null,
              "align_self": null,
              "border_bottom": null,
              "border_left": null,
              "border_right": null,
              "border_top": null,
              "bottom": null,
              "display": null,
              "flex": null,
              "flex_flow": null,
              "grid_area": null,
              "grid_auto_columns": null,
              "grid_auto_flow": null,
              "grid_auto_rows": null,
              "grid_column": null,
              "grid_gap": null,
              "grid_row": null,
              "grid_template_areas": null,
              "grid_template_columns": null,
              "grid_template_rows": null,
              "height": null,
              "justify_content": null,
              "justify_items": null,
              "left": null,
              "margin": null,
              "max_height": null,
              "max_width": null,
              "min_height": null,
              "min_width": null,
              "object_fit": null,
              "object_position": null,
              "order": null,
              "overflow": null,
              "padding": null,
              "right": null,
              "top": null,
              "visibility": null,
              "width": null
            }
          },
          "6a39b46d7acd46aa8ff6d21b57149066": {
            "model_module": "@jupyter-widgets/base",
            "model_module_version": "2.0.0",
            "model_name": "LayoutModel",
            "state": {
              "_model_module": "@jupyter-widgets/base",
              "_model_module_version": "2.0.0",
              "_model_name": "LayoutModel",
              "_view_count": null,
              "_view_module": "@jupyter-widgets/base",
              "_view_module_version": "2.0.0",
              "_view_name": "LayoutView",
              "align_content": null,
              "align_items": null,
              "align_self": null,
              "border_bottom": null,
              "border_left": null,
              "border_right": null,
              "border_top": null,
              "bottom": null,
              "display": null,
              "flex": null,
              "flex_flow": null,
              "grid_area": null,
              "grid_auto_columns": null,
              "grid_auto_flow": null,
              "grid_auto_rows": null,
              "grid_column": null,
              "grid_gap": null,
              "grid_row": null,
              "grid_template_areas": null,
              "grid_template_columns": null,
              "grid_template_rows": null,
              "height": "350px",
              "justify_content": null,
              "justify_items": null,
              "left": null,
              "margin": null,
              "max_height": null,
              "max_width": null,
              "min_height": null,
              "min_width": null,
              "object_fit": null,
              "object_position": null,
              "order": null,
              "overflow": null,
              "padding": null,
              "right": null,
              "top": null,
              "visibility": null,
              "width": null
            }
          },
          "7bbb9747bba445c3a667980ae352146b": {
            "model_module": "@jupyter-widgets/controls",
            "model_module_version": "2.0.0",
            "model_name": "VBoxModel",
            "state": {
              "_dom_classes": [
                "widget-interact"
              ],
              "_model_module": "@jupyter-widgets/controls",
              "_model_module_version": "2.0.0",
              "_model_name": "VBoxModel",
              "_view_count": null,
              "_view_module": "@jupyter-widgets/controls",
              "_view_module_version": "2.0.0",
              "_view_name": "VBoxView",
              "box_style": "",
              "children": [
                "IPY_MODEL_155e9c7a488348bdbc9b54b784dc6dde",
                "IPY_MODEL_0728706a30e64444bc7d204a896f9b17"
              ],
              "layout": "IPY_MODEL_851119f212624eb28c239ad6fa08205f",
              "tabbable": null,
              "tooltip": null
            }
          },
          "851119f212624eb28c239ad6fa08205f": {
            "model_module": "@jupyter-widgets/base",
            "model_module_version": "2.0.0",
            "model_name": "LayoutModel",
            "state": {
              "_model_module": "@jupyter-widgets/base",
              "_model_module_version": "2.0.0",
              "_model_name": "LayoutModel",
              "_view_count": null,
              "_view_module": "@jupyter-widgets/base",
              "_view_module_version": "2.0.0",
              "_view_name": "LayoutView",
              "align_content": null,
              "align_items": null,
              "align_self": null,
              "border_bottom": null,
              "border_left": null,
              "border_right": null,
              "border_top": null,
              "bottom": null,
              "display": null,
              "flex": null,
              "flex_flow": null,
              "grid_area": null,
              "grid_auto_columns": null,
              "grid_auto_flow": null,
              "grid_auto_rows": null,
              "grid_column": null,
              "grid_gap": null,
              "grid_row": null,
              "grid_template_areas": null,
              "grid_template_columns": null,
              "grid_template_rows": null,
              "height": null,
              "justify_content": null,
              "justify_items": null,
              "left": null,
              "margin": null,
              "max_height": null,
              "max_width": null,
              "min_height": null,
              "min_width": null,
              "object_fit": null,
              "object_position": null,
              "order": null,
              "overflow": null,
              "padding": null,
              "right": null,
              "top": null,
              "visibility": null,
              "width": null
            }
          },
          "b11309eb70654b3baf873bbd44e90cc4": {
            "model_module": "@jupyter-widgets/controls",
            "model_module_version": "2.0.0",
            "model_name": "SliderStyleModel",
            "state": {
              "_model_module": "@jupyter-widgets/controls",
              "_model_module_version": "2.0.0",
              "_model_name": "SliderStyleModel",
              "_view_count": null,
              "_view_module": "@jupyter-widgets/base",
              "_view_module_version": "2.0.0",
              "_view_name": "StyleView",
              "description_width": "",
              "handle_color": null
            }
          },
          "bd5b0dda752541cdb8c46c6d7c01860e": {
            "model_module": "@jupyter-widgets/base",
            "model_module_version": "2.0.0",
            "model_name": "LayoutModel",
            "state": {
              "_model_module": "@jupyter-widgets/base",
              "_model_module_version": "2.0.0",
              "_model_name": "LayoutModel",
              "_view_count": null,
              "_view_module": "@jupyter-widgets/base",
              "_view_module_version": "2.0.0",
              "_view_name": "LayoutView",
              "align_content": null,
              "align_items": null,
              "align_self": null,
              "border_bottom": null,
              "border_left": null,
              "border_right": null,
              "border_top": null,
              "bottom": null,
              "display": null,
              "flex": null,
              "flex_flow": null,
              "grid_area": null,
              "grid_auto_columns": null,
              "grid_auto_flow": null,
              "grid_auto_rows": null,
              "grid_column": null,
              "grid_gap": null,
              "grid_row": null,
              "grid_template_areas": null,
              "grid_template_columns": null,
              "grid_template_rows": null,
              "height": null,
              "justify_content": null,
              "justify_items": null,
              "left": null,
              "margin": null,
              "max_height": null,
              "max_width": null,
              "min_height": null,
              "min_width": null,
              "object_fit": null,
              "object_position": null,
              "order": null,
              "overflow": null,
              "padding": null,
              "right": null,
              "top": null,
              "visibility": null,
              "width": null
            }
          },
          "c403941b04894c0fad37301811babc55": {
            "model_module": "@jupyter-widgets/controls",
            "model_module_version": "2.0.0",
            "model_name": "IntSliderModel",
            "state": {
              "_dom_classes": [],
              "_model_module": "@jupyter-widgets/controls",
              "_model_module_version": "2.0.0",
              "_model_name": "IntSliderModel",
              "_view_count": null,
              "_view_module": "@jupyter-widgets/controls",
              "_view_module_version": "2.0.0",
              "_view_name": "IntSliderView",
              "behavior": "drag-tap",
              "continuous_update": true,
              "description": "n",
              "description_allow_html": false,
              "disabled": false,
              "layout": "IPY_MODEL_4b89240521d64f8d9872707e47019b7b",
              "max": 6,
              "min": 0,
              "orientation": "horizontal",
              "readout": true,
              "readout_format": "d",
              "step": 1,
              "style": "IPY_MODEL_b11309eb70654b3baf873bbd44e90cc4",
              "tabbable": null,
              "tooltip": null,
              "value": 0
            }
          },
          "d18eed48f4c84267bd51d74940afec05": {
            "model_module": "@jupyter-widgets/controls",
            "model_module_version": "2.0.0",
            "model_name": "SliderStyleModel",
            "state": {
              "_model_module": "@jupyter-widgets/controls",
              "_model_module_version": "2.0.0",
              "_model_name": "SliderStyleModel",
              "_view_count": null,
              "_view_module": "@jupyter-widgets/base",
              "_view_module_version": "2.0.0",
              "_view_name": "StyleView",
              "description_width": "",
              "handle_color": null
            }
          },
          "f59697f25e6b473f91e2ed0529e13b5e": {
            "model_module": "@jupyter-widgets/base",
            "model_module_version": "2.0.0",
            "model_name": "LayoutModel",
            "state": {
              "_model_module": "@jupyter-widgets/base",
              "_model_module_version": "2.0.0",
              "_model_name": "LayoutModel",
              "_view_count": null,
              "_view_module": "@jupyter-widgets/base",
              "_view_module_version": "2.0.0",
              "_view_name": "LayoutView",
              "align_content": null,
              "align_items": null,
              "align_self": null,
              "border_bottom": null,
              "border_left": null,
              "border_right": null,
              "border_top": null,
              "bottom": null,
              "display": null,
              "flex": null,
              "flex_flow": null,
              "grid_area": null,
              "grid_auto_columns": null,
              "grid_auto_flow": null,
              "grid_auto_rows": null,
              "grid_column": null,
              "grid_gap": null,
              "grid_row": null,
              "grid_template_areas": null,
              "grid_template_columns": null,
              "grid_template_rows": null,
              "height": "500px",
              "justify_content": null,
              "justify_items": null,
              "left": null,
              "margin": null,
              "max_height": null,
              "max_width": null,
              "min_height": null,
              "min_width": null,
              "object_fit": null,
              "object_position": null,
              "order": null,
              "overflow": null,
              "padding": null,
              "right": null,
              "top": null,
              "visibility": null,
              "width": null
            }
          }
        },
        "version_major": 2,
        "version_minor": 0
      }
    }
  },
  "nbformat": 4,
  "nbformat_minor": 4
}
