{
 "cells": [
  {
   "cell_type": "markdown",
   "metadata": {},
   "source": [
    "# Una nota\n",
    "\n",
    "Gli handout di questo repository contengono sostanzialmente il materiale visto a lezione.\n",
    "\n",
    "Ad esso può aggiungersi del **materiale supplementare** non mostrato a lezione il cui studio, \n",
    "pur non essendo strettamente parlando parte integrale del programma del corso, può costituire \n",
    "un interessante approfondimento e un utile riferimento per il progetto finale, o per le lezioni \n",
    "a venire. Tale materiale è indicato dalla dicitura `# materiale supplementare` posta all'inizio \n",
    "della cella di codice.\n",
    "\n",
    "Similmente, alcuni handout (come questo), possono concludersi con una sezione **Homework** che\n",
    "costituisce una raccolta di esercizi da svolgare a casa. Si tratta di esercizi facoltativi la \n",
    "cui soluzione non sarà valutata (per i quali, se necessario, il docente è comunque disponibile a \n",
    "fornire supporto) che possono rivelarsi utili alla comprensione degli argomenti a venire, o \n",
    "ad avere una più chiara percezione dello stato della propria preparazione.\n",
    "\n",
    "\n",
    "# Tecnciche di programmazione\n",
    "\n",
    "## Backtracking"
   ]
  },
  {
   "cell_type": "code",
   "execution_count": 1,
   "metadata": {},
   "outputs": [
    {
     "name": "stdout",
     "output_type": "stream",
     "text": [
      "60374\n"
     ]
    }
   ],
   "source": [
    "from urllib.request import urlopen\n",
    "\n",
    "with urlopen('https://raw.githubusercontent.com/napolux/paroleitaliane/master/paroleitaliane/60000_parole_italiane.txt') as inf:\n",
    "    WORDS = frozenset(str(_, 'utf8').strip().upper() for _ in inf.readlines() if len(_) > 3)\n",
    "    \n",
    "print(len(WORDS))"
   ]
  },
  {
   "cell_type": "code",
   "execution_count": 2,
   "metadata": {},
   "outputs": [
    {
     "name": "stdout",
     "output_type": "stream",
     "text": [
      "\n",
      "M\n",
      "MA\n",
      "MAM\n",
      "MAMM\n",
      "MAMMA\n",
      "MAMMAB\n",
      "MAMMABE\n",
      "MAMMABEL\n",
      "MAMMABELL\n",
      "MAMMABELLA\n"
     ]
    }
   ],
   "source": [
    "frase = 'CIAOMAMMABELLA'\n",
    "prefisso = 'CIAO'\n",
    "suffisso = frase[len(prefisso):]\n",
    "for i in range(len(suffisso) + 1):\n",
    "    print(suffisso[:i])"
   ]
  },
  {
   "cell_type": "code",
   "execution_count": 3,
   "metadata": {
    "scrolled": false
   },
   "outputs": [
    {
     "name": "stdout",
     "output_type": "stream",
     "text": [
      "['SAL', 'IRE', 'MODE', 'RATA', 'MENTE']\n",
      "['SAL', 'IRE', 'MODERATA', 'MENTE']\n",
      "['SALI', 'REM', 'ODE', 'RATA', 'MENTE']\n",
      "['SALIRE', 'MODE', 'RATA', 'MENTE']\n",
      "['SALIRE', 'MODERATA', 'MENTE']\n",
      "CPU times: user 3 ms, sys: 108 µs, total: 3.11 ms\n",
      "Wall time: 3.11 ms\n"
     ]
    }
   ],
   "source": [
    "%%time \n",
    "\n",
    "#@show_calls(False)\n",
    "def bt(frase, solp):\n",
    "    prefisso = ''.join(solp)\n",
    "    if not frase.startswith(prefisso): return\n",
    "    if len(prefisso) == len(frase):\n",
    "        print(solp)\n",
    "        return\n",
    "    suffisso = frase[len(prefisso):]\n",
    "    for i in range(len(suffisso) + 1):\n",
    "        completamento = suffisso[:i]\n",
    "        if completamento in WORDS:\n",
    "            bt(frase, solp + [completamento])\n",
    "\n",
    "bt('SALIREMODERATAMENTE', [])"
   ]
  },
  {
   "cell_type": "code",
   "execution_count": 4,
   "metadata": {
    "scrolled": false
   },
   "outputs": [
    {
     "name": "stdout",
     "output_type": "stream",
     "text": [
      "['SAL', 'IRE', 'MODERATA', 'MENTE']\n",
      "['SAL', 'IRE', 'MODE', 'RATA', 'MENTE']\n",
      "['SALIRE', 'MODERATA', 'MENTE']\n",
      "['SALIRE', 'MODE', 'RATA', 'MENTE']\n",
      "['SALI', 'REM', 'ODE', 'RATA', 'MENTE']\n",
      "CPU times: user 819 ms, sys: 12.9 ms, total: 832 ms\n",
      "Wall time: 836 ms\n"
     ]
    }
   ],
   "source": [
    "%%time \n",
    "\n",
    "#@show_calls(False)\n",
    "def bt_all_words(frase, solp):\n",
    "    prefisso = ''.join(solp)\n",
    "    if not frase.startswith(prefisso): return\n",
    "    if len(prefisso) == len(frase):\n",
    "        print(solp)\n",
    "        return\n",
    "    for completamento in WORDS:\n",
    "        if completamento in WORDS:\n",
    "            bt_all_words(frase, solp + [completamento])\n",
    "\n",
    "bt_all_words('SALIREMODERATAMENTE', [])"
   ]
  },
  {
   "cell_type": "code",
   "execution_count": 5,
   "metadata": {},
   "outputs": [
    {
     "name": "stdout",
     "output_type": "stream",
     "text": [
      "Esaurito stack ricorsivo!\n"
     ]
    }
   ],
   "source": [
    "def bt_rotta(frase, solp):\n",
    "    prefisso = ''.join(solp)\n",
    "    if prefisso == frase:\n",
    "        print(solp)\n",
    "        return\n",
    "    for completamento in WORDS:\n",
    "        if completamento in WORDS:\n",
    "            bt_rotta(frase, solp + [completamento])\n",
    "\n",
    "try: # catturo l'eccezione per evitare la stampa dell'errore\n",
    "    bt_rotta(frase, [])\n",
    "except RecursionError:\n",
    "    print('Esaurito stack ricorsivo!')"
   ]
  },
  {
   "cell_type": "code",
   "execution_count": 6,
   "metadata": {
    "scrolled": false
   },
   "outputs": [
    {
     "name": "stdout",
     "output_type": "stream",
     "text": [
      "{2, 3, 4, 6}\n",
      "{9, 6}\n",
      "{2, 6, 7}\n",
      "{1, 2, 5, 7}\n",
      "{1, 2, 3, 4, 5}\n",
      "{3, 5, 7}\n",
      "{1, 5, 9}\n",
      "{9, 2, 4}\n",
      "{1, 3, 4, 7}\n",
      "{1, 2, 3, 9}\n",
      "{4, 5, 6}\n",
      "{1, 3, 5, 6}\n"
     ]
    }
   ],
   "source": [
    "# materiale supplementare\n",
    "\n",
    "# determinare tutti i sottoinsiemi di un insieme di numeri interi di somma assegnata\n",
    "\n",
    "sol = set()\n",
    "def subset_sum(X, subset, val):\n",
    "    if sum(subset) > val: return\n",
    "    if sum(subset) == val: \n",
    "        sol.add(frozenset(subset))\n",
    "        return\n",
    "    for x in X - subset:\n",
    "        subset_sum(X - {x}, subset | {x}, val)\n",
    "        \n",
    "subset_sum({1, 6, 7, 3, 9, 4, 5, 2}, set(), 15)\n",
    "\n",
    "for subset in sol: print(set(subset))"
   ]
  },
  {
   "cell_type": "markdown",
   "metadata": {},
   "source": [
    "### Esempi supplementari\n",
    "\n",
    "I curiosi possono sbirciare qualche esempio di backtracking tra i gist del docente, come ad esempio:\n",
    "\n",
    "* calcolare la [densità delle soluzioni](https://gist.github.com/mapio/2c8b171110dc6a09dfd6) del [problema delle otto regine](https://en.wikipedia.org/wiki/Eight_queens_puzzle),\n",
    "\n",
    "* enumerare le [soluzioni](https://gist.github.com/mapio/967f3d8793fcab80941dc0b4f370dbeb) del gioco [Find a way](https://play.google.com/store/apps/details?id=com.zerologicgames.findaway),\n",
    "\n",
    "* trovare le [soluzioni](https://gist.github.com/mapio/33f1c381870333fe502e) del [Sudoku](https://en.wikipedia.org/wiki/Sudoku).\n",
    "\n",
    "Si osservi che si tratta di codice spesso \"sbrigativo\" e non documentato, qui citato solo per incuriosire, non certo come materiale didattico."
   ]
  },
  {
   "cell_type": "markdown",
   "metadata": {},
   "source": [
    "# Strutture dati e algoritmi di base\n",
    "\n",
    "## Alberi\n",
    "\n",
    "* rappresentazione di alberi $n$-ari tramite *lol* (liste di liste),"
   ]
  },
  {
   "cell_type": "code",
   "execution_count": 7,
   "metadata": {},
   "outputs": [
    {
     "name": "stdout",
     "output_type": "stream",
     "text": [
      "A\n",
      "[['B', ['D'], ['E']], ['C', ['F']]]\n"
     ]
    },
    {
     "data": {
      "image/svg+xml": [
       "<?xml version=\"1.0\" encoding=\"UTF-8\" standalone=\"no\"?>\n",
       "<!DOCTYPE svg PUBLIC \"-//W3C//DTD SVG 1.1//EN\"\n",
       " \"http://www.w3.org/Graphics/SVG/1.1/DTD/svg11.dtd\">\n",
       "<!-- Generated by graphviz version 2.40.1 (20161225.0304)\n",
       " -->\n",
       "<!-- Title: %3 Pages: 1 -->\n",
       "<svg width=\"95pt\" height=\"110pt\"\n",
       " viewBox=\"0.00 0.00 94.72 110.00\" xmlns=\"http://www.w3.org/2000/svg\" xmlns:xlink=\"http://www.w3.org/1999/xlink\">\n",
       "<g id=\"graph0\" class=\"graph\" transform=\"scale(1 1) rotate(0) translate(4 106)\">\n",
       "<title>%3</title>\n",
       "<polygon fill=\"#ffffff\" stroke=\"transparent\" points=\"-4,4 -4,-106 90.7241,-106 90.7241,4 -4,4\"/>\n",
       "<!-- 4371709232 -->\n",
       "<g id=\"node1\" class=\"node\">\n",
       "<title>4371709232</title>\n",
       "<path fill=\"none\" stroke=\"#000000\" stroke-width=\".25\" d=\"M63.0921,-102C63.0921,-102 57.0183,-102 57.0183,-102 53.9814,-102 50.9445,-98.9631 50.9445,-95.9262 50.9445,-95.9262 50.9445,-86.0738 50.9445,-86.0738 50.9445,-83.0369 53.9814,-80 57.0183,-80 57.0183,-80 63.0921,-80 63.0921,-80 66.129,-80 69.1659,-83.0369 69.1659,-86.0738 69.1659,-86.0738 69.1659,-95.9262 69.1659,-95.9262 69.1659,-98.9631 66.129,-102 63.0921,-102\"/>\n",
       "<text text-anchor=\"middle\" x=\"60.0552\" y=\"-86.8\" font-family=\"Times,serif\" font-size=\"14.00\" fill=\"#000000\">A</text>\n",
       "</g>\n",
       "<!-- 4371709064 -->\n",
       "<g id=\"node2\" class=\"node\">\n",
       "<title>4371709064</title>\n",
       "<path fill=\"none\" stroke=\"#000000\" stroke-width=\".25\" d=\"M46.0023,-62C46.0023,-62 40.1081,-62 40.1081,-62 37.161,-62 34.2139,-59.0529 34.2139,-56.1058 34.2139,-56.1058 34.2139,-45.8942 34.2139,-45.8942 34.2139,-42.9471 37.161,-40 40.1081,-40 40.1081,-40 46.0023,-40 46.0023,-40 48.9493,-40 51.8964,-42.9471 51.8964,-45.8942 51.8964,-45.8942 51.8964,-56.1058 51.8964,-56.1058 51.8964,-59.0529 48.9493,-62 46.0023,-62\"/>\n",
       "<text text-anchor=\"middle\" x=\"43.0552\" y=\"-46.8\" font-family=\"Times,serif\" font-size=\"14.00\" fill=\"#000000\">B</text>\n",
       "</g>\n",
       "<!-- 4371709232&#45;&#45;4371709064 -->\n",
       "<g id=\"edge2\" class=\"edge\">\n",
       "<title>4371709232&#45;&#45;4371709064</title>\n",
       "<path fill=\"none\" stroke=\"#000000\" d=\"M55.2291,-79.6446C52.9125,-74.1937 50.145,-67.6819 47.8344,-62.2453\"/>\n",
       "</g>\n",
       "<!-- 4342457008 -->\n",
       "<g id=\"node3\" class=\"node\">\n",
       "<title>4342457008</title>\n",
       "<path fill=\"none\" stroke=\"#000000\" stroke-width=\".25\" d=\"M81.0023,-62C81.0023,-62 75.1081,-62 75.1081,-62 72.161,-62 69.2139,-59.0529 69.2139,-56.1058 69.2139,-56.1058 69.2139,-45.8942 69.2139,-45.8942 69.2139,-42.9471 72.161,-40 75.1081,-40 75.1081,-40 81.0023,-40 81.0023,-40 83.9493,-40 86.8964,-42.9471 86.8964,-45.8942 86.8964,-45.8942 86.8964,-56.1058 86.8964,-56.1058 86.8964,-59.0529 83.9493,-62 81.0023,-62\"/>\n",
       "<text text-anchor=\"middle\" x=\"78.0552\" y=\"-46.8\" font-family=\"Times,serif\" font-size=\"14.00\" fill=\"#000000\">C</text>\n",
       "</g>\n",
       "<!-- 4371709232&#45;&#45;4342457008 -->\n",
       "<g id=\"edge6\" class=\"edge\">\n",
       "<title>4371709232&#45;&#45;4342457008</title>\n",
       "<path fill=\"none\" stroke=\"#000000\" d=\"M65.1651,-79.6446C67.618,-74.1937 70.5483,-67.6819 72.9948,-62.2453\"/>\n",
       "</g>\n",
       "<!-- 4371709064&#45;&#45;4342457008 -->\n",
       "<!-- 4342457288 -->\n",
       "<g id=\"node4\" class=\"node\">\n",
       "<title>4342457288</title>\n",
       "<path fill=\"none\" stroke=\"#000000\" stroke-width=\".25\" d=\"M12.0921,-22C12.0921,-22 6.0183,-22 6.0183,-22 2.9814,-22 -.0555,-18.9631 -.0555,-15.9262 -.0555,-15.9262 -.0555,-6.0738 -.0555,-6.0738 -.0555,-3.0369 2.9814,0 6.0183,0 6.0183,0 12.0921,0 12.0921,0 15.129,0 18.1659,-3.0369 18.1659,-6.0738 18.1659,-6.0738 18.1659,-15.9262 18.1659,-15.9262 18.1659,-18.9631 15.129,-22 12.0921,-22\"/>\n",
       "<text text-anchor=\"middle\" x=\"9.0552\" y=\"-6.8\" font-family=\"Times,serif\" font-size=\"14.00\" fill=\"#000000\">D</text>\n",
       "</g>\n",
       "<!-- 4371709064&#45;&#45;4342457288 -->\n",
       "<g id=\"edge4\" class=\"edge\">\n",
       "<title>4371709064&#45;&#45;4342457288</title>\n",
       "<path fill=\"none\" stroke=\"#000000\" d=\"M34.1221,-40.4905C29.2427,-34.75 23.209,-27.6516 18.2841,-21.8575\"/>\n",
       "</g>\n",
       "<!-- 4342456504 -->\n",
       "<g id=\"node5\" class=\"node\">\n",
       "<title>4342456504</title>\n",
       "<path fill=\"none\" stroke=\"#000000\" stroke-width=\".25\" d=\"M46.7411,-22C46.7411,-22 41.3693,-22 41.3693,-22 38.6834,-22 35.9975,-19.3141 35.9975,-16.6282 35.9975,-16.6282 35.9975,-5.3718 35.9975,-5.3718 35.9975,-2.6859 38.6834,0 41.3693,0 41.3693,0 46.7411,0 46.7411,0 49.427,0 52.1128,-2.6859 52.1128,-5.3718 52.1128,-5.3718 52.1128,-16.6282 52.1128,-16.6282 52.1128,-19.3141 49.427,-22 46.7411,-22\"/>\n",
       "<text text-anchor=\"middle\" x=\"44.0552\" y=\"-6.8\" font-family=\"Times,serif\" font-size=\"14.00\" fill=\"#000000\">E</text>\n",
       "</g>\n",
       "<!-- 4371709064&#45;&#45;4342456504 -->\n",
       "<g id=\"edge5\" class=\"edge\">\n",
       "<title>4371709064&#45;&#45;4342456504</title>\n",
       "<path fill=\"none\" stroke=\"#000000\" d=\"M43.3391,-39.6446C43.4753,-34.1937 43.6381,-27.6819 43.774,-22.2453\"/>\n",
       "</g>\n",
       "<!-- 4342456952 -->\n",
       "<g id=\"node6\" class=\"node\">\n",
       "<title>4342456952</title>\n",
       "<path fill=\"none\" stroke=\"#000000\" stroke-width=\".25\" d=\"M80.651,-22C80.651,-22 75.4593,-22 75.4593,-22 72.8635,-22 70.2676,-19.4041 70.2676,-16.8083 70.2676,-16.8083 70.2676,-5.1917 70.2676,-5.1917 70.2676,-2.5959 72.8635,0 75.4593,0 75.4593,0 80.651,0 80.651,0 83.2469,0 85.8427,-2.5959 85.8427,-5.1917 85.8427,-5.1917 85.8427,-16.8083 85.8427,-16.8083 85.8427,-19.4041 83.2469,-22 80.651,-22\"/>\n",
       "<text text-anchor=\"middle\" x=\"78.0552\" y=\"-6.8\" font-family=\"Times,serif\" font-size=\"14.00\" fill=\"#000000\">F</text>\n",
       "</g>\n",
       "<!-- 4342457008&#45;&#45;4342456952 -->\n",
       "<g id=\"edge7\" class=\"edge\">\n",
       "<title>4342457008&#45;&#45;4342456952</title>\n",
       "<path fill=\"none\" stroke=\"#000000\" d=\"M78.0552,-39.6446C78.0552,-34.1937 78.0552,-27.6819 78.0552,-22.2453\"/>\n",
       "</g>\n",
       "<!-- 4342457288&#45;&#45;4342456504 -->\n",
       "</g>\n",
       "</svg>\n"
      ],
      "text/plain": [
       "(A: (B: D, E), (C: F))"
      ]
     },
     "execution_count": 7,
     "metadata": {},
     "output_type": "execute_result"
    }
   ],
   "source": [
    "from liblet import Tree\n",
    "\n",
    "a_tree = ['A', ['B', ['D'], ['E']], ['C', ['F']]]\n",
    "\n",
    "root, *children = a_tree\n",
    "print(root)\n",
    "print(children)\n",
    "\n",
    "Tree.from_lol(a_tree)"
   ]
  },
  {
   "cell_type": "markdown",
   "metadata": {},
   "source": [
    "### Visite\n",
    "\n",
    "* preordine, \n",
    "* postordine, \n",
    "* per livello."
   ]
  },
  {
   "cell_type": "code",
   "execution_count": 8,
   "metadata": {},
   "outputs": [
    {
     "name": "stdout",
     "output_type": "stream",
     "text": [
      "A\n",
      "B\n",
      "D\n",
      "E\n",
      "C\n",
      "F\n"
     ]
    }
   ],
   "source": [
    "def preorder(tree, visitor):\n",
    "    root, *children = tree\n",
    "    visitor(root)\n",
    "    for child in children: preorder(child, visitor)\n",
    "        \n",
    "preorder(a_tree, print)"
   ]
  },
  {
   "cell_type": "code",
   "execution_count": 9,
   "metadata": {},
   "outputs": [
    {
     "data": {
      "text/plain": [
       "['D', 'E', 'B', 'F', 'C', 'A']"
      ]
     },
     "execution_count": 9,
     "metadata": {},
     "output_type": "execute_result"
    }
   ],
   "source": [
    "def postorder(tree, visitor):\n",
    "    root, *children = tree\n",
    "    for child in children: postorder(child, visitor)\n",
    "    visitor(root)\n",
    "\n",
    "result = []\n",
    "postorder(a_tree, result.append)\n",
    "result"
   ]
  },
  {
   "cell_type": "code",
   "execution_count": 10,
   "metadata": {},
   "outputs": [
    {
     "name": "stdout",
     "output_type": "stream",
     "text": [
      "A\n",
      "B\n",
      "C\n",
      "D\n",
      "E\n",
      "F\n"
     ]
    }
   ],
   "source": [
    "def levelorder(tree, visitor):\n",
    "    coda = [tree]\n",
    "    while coda:\n",
    "        tree = coda.pop(0)\n",
    "        root, *children = tree\n",
    "        visitor(root)\n",
    "        for child in children: coda.append(child)\n",
    "    \n",
    "\n",
    "levelorder(a_tree, print)"
   ]
  },
  {
   "cell_type": "markdown",
   "metadata": {},
   "source": [
    "## Grafi\n",
    "\n",
    "* rappresentazione per *archi* (`tuple` di `tuple`) e *adiacenza* (`dict` di `tuple`)."
   ]
  },
  {
   "cell_type": "code",
   "execution_count": 11,
   "metadata": {},
   "outputs": [
    {
     "data": {
      "image/svg+xml": [
       "<?xml version=\"1.0\" encoding=\"UTF-8\" standalone=\"no\"?>\n",
       "<!DOCTYPE svg PUBLIC \"-//W3C//DTD SVG 1.1//EN\"\n",
       " \"http://www.w3.org/Graphics/SVG/1.1/DTD/svg11.dtd\">\n",
       "<!-- Generated by graphviz version 2.40.1 (20161225.0304)\n",
       " -->\n",
       "<!-- Title: %3 Pages: 1 -->\n",
       "<svg width=\"506pt\" height=\"329pt\"\n",
       " viewBox=\"0.00 0.00 506.26 328.99\" xmlns=\"http://www.w3.org/2000/svg\" xmlns:xlink=\"http://www.w3.org/1999/xlink\">\n",
       "<g id=\"graph0\" class=\"graph\" transform=\"scale(1 1) rotate(0) translate(4 324.9944)\">\n",
       "<title>%3</title>\n",
       "<polygon fill=\"#ffffff\" stroke=\"transparent\" points=\"-4,4 -4,-324.9944 502.2636,-324.9944 502.2636,4 -4,4\"/>\n",
       "<!-- 7779836068460619535 -->\n",
       "<g id=\"node1\" class=\"node\">\n",
       "<title>7779836068460619535</title>\n",
       "<ellipse fill=\"none\" stroke=\"#000000\" cx=\"46.9402\" cy=\"-150.9944\" rx=\"46.8805\" ry=\"18\"/>\n",
       "<text text-anchor=\"middle\" x=\"46.9402\" y=\"-146.7944\" font-family=\"Times,serif\" font-size=\"14.00\" fill=\"#000000\">Acciaiuoli</text>\n",
       "</g>\n",
       "<!-- 5322592974681203417 -->\n",
       "<g id=\"node2\" class=\"node\">\n",
       "<title>5322592974681203417</title>\n",
       "<ellipse fill=\"none\" stroke=\"#000000\" cx=\"175.3525\" cy=\"-152.9944\" rx=\"35.3129\" ry=\"18\"/>\n",
       "<text text-anchor=\"middle\" x=\"175.3525\" y=\"-148.7944\" font-family=\"Times,serif\" font-size=\"14.00\" fill=\"#000000\">Medici</text>\n",
       "</g>\n",
       "<!-- 7779836068460619535&#45;&gt;5322592974681203417 -->\n",
       "<g id=\"edge1\" class=\"edge\">\n",
       "<title>7779836068460619535&#45;&gt;5322592974681203417</title>\n",
       "<path fill=\"none\" stroke=\"#000000\" d=\"M94.027,-151.7277C105.6453,-151.9087 118.0704,-152.1022 129.6231,-152.2821\"/>\n",
       "<polygon fill=\"#000000\" stroke=\"#000000\" points=\"129.8859,-155.7866 139.9393,-152.4428 129.995,-148.7874 129.8859,-155.7866\"/>\n",
       "</g>\n",
       "<!-- 6071088806822385953 -->\n",
       "<g id=\"node12\" class=\"node\">\n",
       "<title>6071088806822385953</title>\n",
       "<ellipse fill=\"none\" stroke=\"#000000\" cx=\"440.0316\" cy=\"-165.9944\" rx=\"50.9988\" ry=\"18\"/>\n",
       "<text text-anchor=\"middle\" x=\"440.0316\" y=\"-161.7944\" font-family=\"Times,serif\" font-size=\"14.00\" fill=\"#000000\">Tornabuoni</text>\n",
       "</g>\n",
       "<!-- 5322592974681203417&#45;&gt;6071088806822385953 -->\n",
       "<g id=\"edge16\" class=\"edge\">\n",
       "<title>5322592974681203417&#45;&gt;6071088806822385953</title>\n",
       "<path fill=\"none\" stroke=\"#000000\" d=\"M210.4998,-154.7207C253.4771,-156.8315 326.9323,-160.4394 379.1659,-163.0049\"/>\n",
       "<polygon fill=\"#000000\" stroke=\"#000000\" points=\"379.1547,-166.5085 389.3144,-163.5033 379.4982,-159.5169 379.1547,-166.5085\"/>\n",
       "</g>\n",
       "<!-- &#45;1310844279104593439 -->\n",
       "<g id=\"node13\" class=\"node\">\n",
       "<title>&#45;1310844279104593439</title>\n",
       "<ellipse fill=\"none\" stroke=\"#000000\" cx=\"301.312\" cy=\"-123.9944\" rx=\"34.8632\" ry=\"18\"/>\n",
       "<text text-anchor=\"middle\" x=\"301.312\" y=\"-119.7944\" font-family=\"Times,serif\" font-size=\"14.00\" fill=\"#000000\">Ridolfi</text>\n",
       "</g>\n",
       "<!-- 5322592974681203417&#45;&gt;&#45;1310844279104593439 -->\n",
       "<g id=\"edge14\" class=\"edge\">\n",
       "<title>5322592974681203417&#45;&gt;&#45;1310844279104593439</title>\n",
       "<path fill=\"none\" stroke=\"#000000\" d=\"M207.4633,-145.6014C223.157,-141.9882 242.2482,-137.5928 259.104,-133.712\"/>\n",
       "<polygon fill=\"#000000\" stroke=\"#000000\" points=\"260.3001,-137.0283 269.2598,-131.3738 258.7295,-130.2068 260.3001,-137.0283\"/>\n",
       "</g>\n",
       "<!-- 2582197924076539617 -->\n",
       "<g id=\"node14\" class=\"node\">\n",
       "<title>2582197924076539617</title>\n",
       "<ellipse fill=\"none\" stroke=\"#000000\" cx=\"301.312\" cy=\"-283.9944\" rx=\"37.2507\" ry=\"18\"/>\n",
       "<text text-anchor=\"middle\" x=\"301.312\" y=\"-279.7944\" font-family=\"Times,serif\" font-size=\"14.00\" fill=\"#000000\">Salviati</text>\n",
       "</g>\n",
       "<!-- 5322592974681203417&#45;&gt;2582197924076539617 -->\n",
       "<g id=\"edge15\" class=\"edge\">\n",
       "<title>5322592974681203417&#45;&gt;2582197924076539617</title>\n",
       "<path fill=\"none\" stroke=\"#000000\" d=\"M189.6377,-169.6631C205.5754,-188.0467 232.3443,-218.2948 256.8245,-242.9944 262.7511,-248.974 269.3278,-255.2287 275.5664,-260.9999\"/>\n",
       "<polygon fill=\"#000000\" stroke=\"#000000\" points=\"273.4724,-263.8278 283.2136,-267.9944 278.1969,-258.6625 273.4724,-263.8278\"/>\n",
       "</g>\n",
       "<!-- 1099846718667173430 -->\n",
       "<g id=\"node3\" class=\"node\">\n",
       "<title>1099846718667173430</title>\n",
       "<ellipse fill=\"none\" stroke=\"#000000\" cx=\"46.9402\" cy=\"-204.9944\" rx=\"36.2732\" ry=\"18\"/>\n",
       "<text text-anchor=\"middle\" x=\"46.9402\" y=\"-200.7944\" font-family=\"Times,serif\" font-size=\"14.00\" fill=\"#000000\">Albizzi</text>\n",
       "</g>\n",
       "<!-- 1099846718667173430&#45;&gt;5322592974681203417 -->\n",
       "<g id=\"edge4\" class=\"edge\">\n",
       "<title>1099846718667173430&#45;&gt;5322592974681203417</title>\n",
       "<path fill=\"none\" stroke=\"#000000\" d=\"M75.1208,-193.5827C93.6472,-186.0806 118.0902,-176.1825 138.2,-168.0391\"/>\n",
       "<polygon fill=\"#000000\" stroke=\"#000000\" points=\"139.7239,-171.1981 147.6791,-164.2006 137.0965,-164.7099 139.7239,-171.1981\"/>\n",
       "</g>\n",
       "<!-- &#45;8485614276739869498 -->\n",
       "<g id=\"node4\" class=\"node\">\n",
       "<title>&#45;8485614276739869498</title>\n",
       "<ellipse fill=\"none\" stroke=\"#000000\" cx=\"175.3525\" cy=\"-248.9944\" rx=\"33.3925\" ry=\"18\"/>\n",
       "<text text-anchor=\"middle\" x=\"175.3525\" y=\"-244.7944\" font-family=\"Times,serif\" font-size=\"14.00\" fill=\"#000000\">Ginori</text>\n",
       "</g>\n",
       "<!-- 1099846718667173430&#45;&gt;&#45;8485614276739869498 -->\n",
       "<g id=\"edge2\" class=\"edge\">\n",
       "<title>1099846718667173430&#45;&gt;&#45;8485614276739869498</title>\n",
       "<path fill=\"none\" stroke=\"#000000\" d=\"M76.7233,-215.1994C94.8506,-221.4107 118.1752,-229.4028 137.5906,-236.0554\"/>\n",
       "<polygon fill=\"#000000\" stroke=\"#000000\" points=\"136.458,-239.367 147.0526,-239.2975 138.7271,-232.745 136.458,-239.367\"/>\n",
       "</g>\n",
       "<!-- &#45;2220470560137471347 -->\n",
       "<g id=\"node5\" class=\"node\">\n",
       "<title>&#45;2220470560137471347</title>\n",
       "<ellipse fill=\"none\" stroke=\"#000000\" cx=\"301.312\" cy=\"-215.9944\" rx=\"44.475\" ry=\"18\"/>\n",
       "<text text-anchor=\"middle\" x=\"301.312\" y=\"-211.7944\" font-family=\"Times,serif\" font-size=\"14.00\" fill=\"#000000\">Guadagni</text>\n",
       "</g>\n",
       "<!-- 1099846718667173430&#45;&gt;&#45;2220470560137471347 -->\n",
       "<g id=\"edge3\" class=\"edge\">\n",
       "<title>1099846718667173430&#45;&gt;&#45;2220470560137471347</title>\n",
       "<path fill=\"none\" stroke=\"#000000\" d=\"M83.1153,-206.5587C125.7575,-208.4027 197.0625,-211.4862 246.5003,-213.6241\"/>\n",
       "<polygon fill=\"#000000\" stroke=\"#000000\" points=\"246.5577,-217.1298 256.6997,-214.0652 246.8602,-210.1363 246.5577,-217.1298\"/>\n",
       "</g>\n",
       "<!-- &#45;3906175167998972580 -->\n",
       "<g id=\"node11\" class=\"node\">\n",
       "<title>&#45;3906175167998972580</title>\n",
       "<ellipse fill=\"none\" stroke=\"#000000\" cx=\"440.0316\" cy=\"-219.9944\" rx=\"58.465\" ry=\"18\"/>\n",
       "<text text-anchor=\"middle\" x=\"440.0316\" y=\"-215.7944\" font-family=\"Times,serif\" font-size=\"14.00\" fill=\"#000000\">Lamberteschi</text>\n",
       "</g>\n",
       "<!-- &#45;2220470560137471347&#45;&gt;&#45;3906175167998972580 -->\n",
       "<g id=\"edge12\" class=\"edge\">\n",
       "<title>&#45;2220470560137471347&#45;&gt;&#45;3906175167998972580</title>\n",
       "<path fill=\"none\" stroke=\"#000000\" d=\"M345.9673,-217.282C354.1649,-217.5184 362.892,-217.77 371.5997,-218.0211\"/>\n",
       "<polygon fill=\"#000000\" stroke=\"#000000\" points=\"371.6831,-221.5249 381.7798,-218.3147 371.8849,-214.5278 371.6831,-221.5249\"/>\n",
       "</g>\n",
       "<!-- &#45;2220470560137471347&#45;&gt;6071088806822385953 -->\n",
       "<g id=\"edge13\" class=\"edge\">\n",
       "<title>&#45;2220470560137471347&#45;&gt;6071088806822385953</title>\n",
       "<path fill=\"none\" stroke=\"#000000\" d=\"M334.5388,-204.0181C352.504,-197.5428 374.9562,-189.4501 394.5243,-182.397\"/>\n",
       "<polygon fill=\"#000000\" stroke=\"#000000\" points=\"395.9391,-185.6075 404.1599,-178.9239 393.5655,-179.0222 395.9391,-185.6075\"/>\n",
       "</g>\n",
       "<!-- 1478356696060150030 -->\n",
       "<g id=\"node6\" class=\"node\">\n",
       "<title>1478356696060150030</title>\n",
       "<ellipse fill=\"none\" stroke=\"#000000\" cx=\"46.9402\" cy=\"-63.9944\" rx=\"45.4355\" ry=\"18\"/>\n",
       "<text text-anchor=\"middle\" x=\"46.9402\" y=\"-59.7944\" font-family=\"Times,serif\" font-size=\"14.00\" fill=\"#000000\">Barbadori</text>\n",
       "</g>\n",
       "<!-- 1478356696060150030&#45;&gt;5322592974681203417 -->\n",
       "<g id=\"edge6\" class=\"edge\">\n",
       "<title>1478356696060150030&#45;&gt;5322592974681203417</title>\n",
       "<path fill=\"none\" stroke=\"#000000\" d=\"M69.6021,-79.7009C90.7986,-94.3918 122.5814,-116.4198 145.769,-132.4906\"/>\n",
       "<polygon fill=\"#000000\" stroke=\"#000000\" points=\"143.9823,-135.5108 154.195,-138.3306 147.9698,-129.7575 143.9823,-135.5108\"/>\n",
       "</g>\n",
       "<!-- 4029926003878191799 -->\n",
       "<g id=\"node7\" class=\"node\">\n",
       "<title>4029926003878191799</title>\n",
       "<ellipse fill=\"none\" stroke=\"#000000\" cx=\"175.3525\" cy=\"-27.9944\" rx=\"45.4441\" ry=\"18\"/>\n",
       "<text text-anchor=\"middle\" x=\"175.3525\" y=\"-23.7944\" font-family=\"Times,serif\" font-size=\"14.00\" fill=\"#000000\">Castellani</text>\n",
       "</g>\n",
       "<!-- 1478356696060150030&#45;&gt;4029926003878191799 -->\n",
       "<g id=\"edge5\" class=\"edge\">\n",
       "<title>1478356696060150030&#45;&gt;4029926003878191799</title>\n",
       "<path fill=\"none\" stroke=\"#000000\" d=\"M84.0823,-53.5817C97.8042,-49.7348 113.5448,-45.322 128.0469,-41.2563\"/>\n",
       "<polygon fill=\"#000000\" stroke=\"#000000\" points=\"129.1649,-44.5779 137.8489,-38.5084 127.2753,-37.8378 129.1649,-44.5779\"/>\n",
       "</g>\n",
       "<!-- 320523249991281068 -->\n",
       "<g id=\"node9\" class=\"node\">\n",
       "<title>320523249991281068</title>\n",
       "<ellipse fill=\"none\" stroke=\"#000000\" cx=\"301.312\" cy=\"-31.9944\" rx=\"36.7489\" ry=\"18\"/>\n",
       "<text text-anchor=\"middle\" x=\"301.312\" y=\"-27.7944\" font-family=\"Times,serif\" font-size=\"14.00\" fill=\"#000000\">Peruzzi</text>\n",
       "</g>\n",
       "<!-- 4029926003878191799&#45;&gt;320523249991281068 -->\n",
       "<g id=\"edge10\" class=\"edge\">\n",
       "<title>4029926003878191799&#45;&gt;320523249991281068</title>\n",
       "<path fill=\"none\" stroke=\"#000000\" d=\"M220.8267,-29.4385C231.7207,-29.7844 243.3736,-30.1545 254.3341,-30.5025\"/>\n",
       "<polygon fill=\"#000000\" stroke=\"#000000\" points=\"254.477,-34.0087 264.5831,-30.828 254.6992,-27.0123 254.477,-34.0087\"/>\n",
       "</g>\n",
       "<!-- 8885198298397194528 -->\n",
       "<g id=\"node10\" class=\"node\">\n",
       "<title>8885198298397194528</title>\n",
       "<ellipse fill=\"none\" stroke=\"#000000\" cx=\"440.0316\" cy=\"-54.9944\" rx=\"35.3129\" ry=\"18\"/>\n",
       "<text text-anchor=\"middle\" x=\"440.0316\" y=\"-50.7944\" font-family=\"Times,serif\" font-size=\"14.00\" fill=\"#000000\">Strozzi</text>\n",
       "</g>\n",
       "<!-- 4029926003878191799&#45;&gt;8885198298397194528 -->\n",
       "<g id=\"edge11\" class=\"edge\">\n",
       "<title>4029926003878191799&#45;&gt;8885198298397194528</title>\n",
       "<path fill=\"none\" stroke=\"#000000\" d=\"M209.3993,-15.9481C244.1038,-5.3997 299.2933,6.5797 345.7995,-4.9944 369.0619,-10.7837 392.8907,-23.501 410.7663,-34.6605\"/>\n",
       "<polygon fill=\"#000000\" stroke=\"#000000\" points=\"409.2345,-37.837 419.5369,-40.3093 413.0248,-31.952 409.2345,-37.837\"/>\n",
       "</g>\n",
       "<!-- 1802479130435766105 -->\n",
       "<g id=\"node8\" class=\"node\">\n",
       "<title>1802479130435766105</title>\n",
       "<ellipse fill=\"none\" stroke=\"#000000\" cx=\"175.3525\" cy=\"-81.9944\" rx=\"39.6558\" ry=\"18\"/>\n",
       "<text text-anchor=\"middle\" x=\"175.3525\" y=\"-77.7944\" font-family=\"Times,serif\" font-size=\"14.00\" fill=\"#000000\">Bischeri</text>\n",
       "</g>\n",
       "<!-- 1802479130435766105&#45;&gt;&#45;2220470560137471347 -->\n",
       "<g id=\"edge7\" class=\"edge\">\n",
       "<title>1802479130435766105&#45;&gt;&#45;2220470560137471347</title>\n",
       "<path fill=\"none\" stroke=\"#000000\" d=\"M192.9154,-98.4213C201.4774,-106.5718 211.8404,-116.6502 220.8245,-125.9944 241.3605,-147.3534 263.757,-172.5642 279.6985,-190.8613\"/>\n",
       "<polygon fill=\"#000000\" stroke=\"#000000\" points=\"277.341,-193.4848 286.5389,-198.743 282.6276,-188.8965 277.341,-193.4848\"/>\n",
       "</g>\n",
       "<!-- 1802479130435766105&#45;&gt;320523249991281068 -->\n",
       "<g id=\"edge8\" class=\"edge\">\n",
       "<title>1802479130435766105&#45;&gt;320523249991281068</title>\n",
       "<path fill=\"none\" stroke=\"#000000\" d=\"M205.2031,-70.1451C222.5494,-63.2594 244.583,-54.5131 263.1763,-47.1325\"/>\n",
       "<polygon fill=\"#000000\" stroke=\"#000000\" points=\"264.5395,-50.3571 272.5427,-43.4144 261.9568,-43.8509 264.5395,-50.3571\"/>\n",
       "</g>\n",
       "<!-- 1802479130435766105&#45;&gt;8885198298397194528 -->\n",
       "<g id=\"edge9\" class=\"edge\">\n",
       "<title>1802479130435766105&#45;&gt;8885198298397194528</title>\n",
       "<path fill=\"none\" stroke=\"#000000\" d=\"M214.1225,-78.0394C262.3483,-73.1199 344.5145,-64.7381 395.3407,-59.5533\"/>\n",
       "<polygon fill=\"#000000\" stroke=\"#000000\" points=\"395.7847,-63.0263 405.3779,-58.5294 395.0743,-56.0624 395.7847,-63.0263\"/>\n",
       "</g>\n",
       "<!-- 320523249991281068&#45;&gt;8885198298397194528 -->\n",
       "<g id=\"edge18\" class=\"edge\">\n",
       "<title>320523249991281068&#45;&gt;8885198298397194528</title>\n",
       "<path fill=\"none\" stroke=\"#000000\" d=\"M336.3168,-37.7982C354.5503,-40.8214 377.0214,-44.5471 396.3801,-47.7569\"/>\n",
       "<polygon fill=\"#000000\" stroke=\"#000000\" points=\"396.0357,-51.2475 406.4736,-49.4304 397.1808,-44.3417 396.0357,-51.2475\"/>\n",
       "</g>\n",
       "<!-- &#45;1310844279104593439&#45;&gt;8885198298397194528 -->\n",
       "<g id=\"edge19\" class=\"edge\">\n",
       "<title>&#45;1310844279104593439&#45;&gt;8885198298397194528</title>\n",
       "<path fill=\"none\" stroke=\"#000000\" d=\"M326.4331,-111.499C348.5873,-100.4793 381.0761,-84.3192 405.6402,-72.1008\"/>\n",
       "<polygon fill=\"#000000\" stroke=\"#000000\" points=\"407.2338,-75.2173 414.6286,-67.63 404.1163,-68.9498 407.2338,-75.2173\"/>\n",
       "</g>\n",
       "<!-- &#45;1310844279104593439&#45;&gt;6071088806822385953 -->\n",
       "<g id=\"edge20\" class=\"edge\">\n",
       "<title>&#45;1310844279104593439&#45;&gt;6071088806822385953</title>\n",
       "<path fill=\"none\" stroke=\"#000000\" d=\"M331.4121,-133.1077C349.0112,-138.4362 371.6385,-145.2871 391.6813,-151.3554\"/>\n",
       "<polygon fill=\"#000000\" stroke=\"#000000\" points=\"390.6943,-154.7134 401.2795,-154.2614 392.7228,-148.0138 390.6943,-154.7134\"/>\n",
       "</g>\n",
       "<!-- &#45;400008381638276612 -->\n",
       "<g id=\"node15\" class=\"node\">\n",
       "<title>&#45;400008381638276612</title>\n",
       "<ellipse fill=\"none\" stroke=\"#000000\" cx=\"175.3525\" cy=\"-302.9944\" rx=\"29.0172\" ry=\"18\"/>\n",
       "<text text-anchor=\"middle\" x=\"175.3525\" y=\"-298.7944\" font-family=\"Times,serif\" font-size=\"14.00\" fill=\"#000000\">Pazzi</text>\n",
       "</g>\n",
       "<!-- &#45;400008381638276612&#45;&gt;2582197924076539617 -->\n",
       "<g id=\"edge17\" class=\"edge\">\n",
       "<title>&#45;400008381638276612&#45;&gt;2582197924076539617</title>\n",
       "<path fill=\"none\" stroke=\"#000000\" d=\"M203.9346,-298.683C219.225,-296.3765 238.4175,-293.4815 255.7127,-290.8727\"/>\n",
       "<polygon fill=\"#000000\" stroke=\"#000000\" points=\"256.2668,-294.3288 265.6328,-289.3763 255.2226,-287.4071 256.2668,-294.3288\"/>\n",
       "</g>\n",
       "</g>\n",
       "</svg>\n"
      ],
      "text/plain": [
       "<liblet.draw.LabelledGraph at 0x105aa2160>"
      ]
     },
     "execution_count": 11,
     "metadata": {},
     "output_type": "execute_result"
    }
   ],
   "source": [
    "from liblet import LabelledGraph\n",
    "\n",
    "# dati da: \"Marriage and elite structure in Renaissance Florence, 1282-1500\", di John F. Padget\n",
    "# http://home.uchicago.edu/jpadgett/papers/unpublished/maelite.pdf\n",
    "\n",
    "florentine_arcs = (\n",
    "    ('Acciaiuoli', 'Medici'),\n",
    "    ('Albizzi', 'Ginori'),\n",
    "    ('Albizzi', 'Guadagni'),\n",
    "    ('Albizzi', 'Medici'),\n",
    "    ('Barbadori', 'Castellani'),\n",
    "    ('Barbadori', 'Medici'),\n",
    "    ('Bischeri', 'Guadagni'),\n",
    "    ('Bischeri', 'Peruzzi'),\n",
    "    ('Bischeri', 'Strozzi'),\n",
    "    ('Castellani', 'Peruzzi'),\n",
    "    ('Castellani', 'Strozzi'),\n",
    "    ('Guadagni', 'Lamberteschi'),\n",
    "    ('Guadagni', 'Tornabuoni'),\n",
    "    ('Medici', 'Ridolfi'),\n",
    "    ('Medici', 'Salviati'),\n",
    "    ('Medici', 'Tornabuoni'),\n",
    "    ('Pazzi', 'Salviati'),\n",
    "    ('Peruzzi', 'Strozzi'),\n",
    "    ('Ridolfi', 'Strozzi'),\n",
    "    ('Ridolfi', 'Tornabuoni')\n",
    ")\n",
    "\n",
    "LabelledGraph(florentine_arcs)"
   ]
  },
  {
   "cell_type": "code",
   "execution_count": 12,
   "metadata": {},
   "outputs": [
    {
     "data": {
      "text/plain": [
       "{'Medici': ['Ridolfi', 'Salviati', 'Tornabuoni'],\n",
       " 'Acciaiuoli': ['Medici'],\n",
       " 'Ginori': [],\n",
       " 'Albizzi': ['Ginori', 'Guadagni', 'Medici'],\n",
       " 'Guadagni': ['Lamberteschi', 'Tornabuoni'],\n",
       " 'Castellani': ['Peruzzi', 'Strozzi'],\n",
       " 'Barbadori': ['Castellani', 'Medici'],\n",
       " 'Bischeri': ['Guadagni', 'Peruzzi', 'Strozzi'],\n",
       " 'Peruzzi': ['Strozzi'],\n",
       " 'Strozzi': [],\n",
       " 'Lamberteschi': [],\n",
       " 'Tornabuoni': [],\n",
       " 'Ridolfi': ['Strozzi', 'Tornabuoni'],\n",
       " 'Salviati': [],\n",
       " 'Pazzi': ['Salviati']}"
      ]
     },
     "execution_count": 12,
     "metadata": {},
     "output_type": "execute_result"
    }
   ],
   "source": [
    "def arcs2adj(arcs):\n",
    "    adj = {}\n",
    "    for src, dst in arcs:\n",
    "        if not dst in adj: adj[dst] = []\n",
    "        if src in adj:\n",
    "            adj[src].append(dst)\n",
    "        else:\n",
    "            adj[src] = [dst]\n",
    "    return adj\n",
    "\n",
    "\n",
    "florentine_adj = arcs2adj(florentine_arcs)\n",
    "florentine_adj"
   ]
  },
  {
   "cell_type": "markdown",
   "metadata": {},
   "source": [
    "### Visite\n",
    "\n",
    "* ampiezza,\n",
    "* profondità."
   ]
  },
  {
   "cell_type": "code",
   "execution_count": 13,
   "metadata": {},
   "outputs": [
    {
     "name": "stdout",
     "output_type": "stream",
     "text": [
      "Acciaiuoli\n",
      "Medici\n",
      "Ridolfi\n",
      "Salviati\n",
      "Tornabuoni\n",
      "Strozzi\n"
     ]
    }
   ],
   "source": [
    "def breadthfirst(adj, start, visitor):\n",
    "    coda = [start]\n",
    "    seen = set(coda)\n",
    "    while coda:\n",
    "        node = coda.pop(0)\n",
    "        visitor(node)\n",
    "        for dst in adj[node]:\n",
    "            if not dst in seen:\n",
    "                seen.add(dst)\n",
    "                coda.append(dst)\n",
    "\n",
    "breadthfirst(florentine_adj, 'Acciaiuoli', print)              "
   ]
  },
  {
   "cell_type": "code",
   "execution_count": 14,
   "metadata": {},
   "outputs": [
    {
     "name": "stdout",
     "output_type": "stream",
     "text": [
      "Acciaiuoli\n",
      "Medici\n",
      "Ridolfi\n",
      "Strozzi\n",
      "Tornabuoni\n",
      "Salviati\n"
     ]
    }
   ],
   "source": [
    "def depthfirst(adj, start, visitor):\n",
    "    def visit(node):\n",
    "        visitor(node)\n",
    "        for dst in adj[node]:\n",
    "            if not dst in seen: \n",
    "                seen.add(dst)\n",
    "                visit(dst)\n",
    "    seen = set([start])\n",
    "    visit(start)\n",
    "            \n",
    "depthfirst(florentine_adj, 'Acciaiuoli', print)"
   ]
  },
  {
   "cell_type": "markdown",
   "metadata": {},
   "source": [
    "# Un primo esempio di parsing: EABCP\n",
    "\n",
    "* definizione \"ricorsiva\"\n",
    "\n",
    "Una *EABCP* (espressione aritmetica completamente parentesizzata) è:\n",
    "\n",
    "* un numero, oppure \n",
    "* `(` seguita da una *EABCP*, seguita da `+` o `*`, seguito da una *EABCP*, seguita da `)`.\n",
    "\n",
    "## Tokenizzare\n",
    "\n",
    "Tre approcci, usando:\n",
    "\n",
    "* gli spazi (imponendo un formato specifico alla stringa)\n",
    "* gli indici (e 1 lookahead),\n",
    "* le espressioni regolari."
   ]
  },
  {
   "cell_type": "code",
   "execution_count": 15,
   "metadata": {},
   "outputs": [
    {
     "name": "stdout",
     "output_type": "stream",
     "text": [
      "<(> <(> <34> <*> <7> <)> <+> <2> <)> "
     ]
    }
   ],
   "source": [
    "def tokenizer(chars):\n",
    "    tokens = iter(chars.split())\n",
    "    def next_token():\n",
    "        return next(tokens, None)\n",
    "    return next_token\n",
    "\n",
    "next_token = tokenizer('( ( 34 * 7 ) + 2 )')\n",
    "\n",
    "while True:\n",
    "    token = next_token()\n",
    "    if token is None: break\n",
    "    print(f'<{token}>', end = ' ')"
   ]
  },
  {
   "cell_type": "code",
   "execution_count": 16,
   "metadata": {},
   "outputs": [
    {
     "name": "stdout",
     "output_type": "stream",
     "text": [
      "<(> <(> <123> <+> <4> <)> <*> <56> <)> <+> <2> <)> "
     ]
    }
   ],
   "source": [
    "# materiale supplementare\n",
    "\n",
    "# con 1 lookahead\n",
    "def tokenizer(chars):\n",
    "    i = 0\n",
    "    def next_token():\n",
    "        nonlocal i\n",
    "          \n",
    "        while i < len(chars) and chars[i] == ' ': i += 1\n",
    "        if i == len(chars): return None\n",
    "        \n",
    "        v = ''\n",
    "        while i < len(chars) and chars[i] in '0123456789':\n",
    "            v += chars[i]\n",
    "            i += 1\n",
    "        if v: return v\n",
    "        \n",
    "        i += 1\n",
    "        return chars[i - 1]\n",
    "    \n",
    "    return next_token\n",
    "\n",
    "next_token = tokenizer('((123 +4 ) * 56) + 2)')       \n",
    "\n",
    "while True:\n",
    "    token = next_token()\n",
    "    if token is None: break \n",
    "    print(f'<{token}>', end = ' ')"
   ]
  },
  {
   "cell_type": "markdown",
   "metadata": {},
   "source": [
    "## Parsing\n",
    "\n",
    "* costruzione dell'*AST*,\n",
    "* *valutazione* dell'espressione (con una *dispatch table*),\n",
    "* *tradurre* (e valutare) l'espressione in RPN."
   ]
  },
  {
   "cell_type": "code",
   "execution_count": 17,
   "metadata": {},
   "outputs": [
    {
     "data": {
      "image/svg+xml": [
       "<?xml version=\"1.0\" encoding=\"UTF-8\" standalone=\"no\"?>\n",
       "<!DOCTYPE svg PUBLIC \"-//W3C//DTD SVG 1.1//EN\"\n",
       " \"http://www.w3.org/Graphics/SVG/1.1/DTD/svg11.dtd\">\n",
       "<!-- Generated by graphviz version 2.40.1 (20161225.0304)\n",
       " -->\n",
       "<!-- Title: %3 Pages: 1 -->\n",
       "<svg width=\"78pt\" height=\"110pt\"\n",
       " viewBox=\"0.00 0.00 77.50 110.00\" xmlns=\"http://www.w3.org/2000/svg\" xmlns:xlink=\"http://www.w3.org/1999/xlink\">\n",
       "<g id=\"graph0\" class=\"graph\" transform=\"scale(1 1) rotate(0) translate(4 106)\">\n",
       "<title>%3</title>\n",
       "<polygon fill=\"#ffffff\" stroke=\"transparent\" points=\"-4,4 -4,-106 73.5,-106 73.5,4 -4,4\"/>\n",
       "<!-- 4390006232 -->\n",
       "<g id=\"node1\" class=\"node\">\n",
       "<title>4390006232</title>\n",
       "<path fill=\"none\" stroke=\"#000000\" stroke-width=\".25\" d=\"M47.6319,-102C47.6319,-102 42.3681,-102 42.3681,-102 39.7361,-102 37.1042,-99.3681 37.1042,-96.7361 37.1042,-96.7361 37.1042,-85.2639 37.1042,-85.2639 37.1042,-82.6319 39.7361,-80 42.3681,-80 42.3681,-80 47.6319,-80 47.6319,-80 50.2639,-80 52.8958,-82.6319 52.8958,-85.2639 52.8958,-85.2639 52.8958,-96.7361 52.8958,-96.7361 52.8958,-99.3681 50.2639,-102 47.6319,-102\"/>\n",
       "<text text-anchor=\"middle\" x=\"45\" y=\"-86.8\" font-family=\"Times,serif\" font-size=\"14.00\" fill=\"#000000\">+</text>\n",
       "</g>\n",
       "<!-- 4390004328 -->\n",
       "<g id=\"node2\" class=\"node\">\n",
       "<title>4390004328</title>\n",
       "<path fill=\"none\" stroke=\"#000000\" stroke-width=\".25\" d=\"M31.5,-62C31.5,-62 26.5,-62 26.5,-62 24,-62 21.5,-59.5 21.5,-57 21.5,-57 21.5,-45 21.5,-45 21.5,-42.5 24,-40 26.5,-40 26.5,-40 31.5,-40 31.5,-40 34,-40 36.5,-42.5 36.5,-45 36.5,-45 36.5,-57 36.5,-57 36.5,-59.5 34,-62 31.5,-62\"/>\n",
       "<text text-anchor=\"middle\" x=\"29\" y=\"-46.8\" font-family=\"Times,serif\" font-size=\"14.00\" fill=\"#000000\">*</text>\n",
       "</g>\n",
       "<!-- 4390006232&#45;&#45;4390004328 -->\n",
       "<g id=\"edge2\" class=\"edge\">\n",
       "<title>4390006232&#45;&#45;4390004328</title>\n",
       "<path fill=\"none\" stroke=\"#000000\" d=\"M40.4578,-79.6446C38.2775,-74.1937 35.6728,-67.6819 33.4981,-62.2453\"/>\n",
       "</g>\n",
       "<!-- 4390123168 -->\n",
       "<g id=\"node3\" class=\"node\">\n",
       "<title>4390123168</title>\n",
       "<path fill=\"none\" stroke=\"#000000\" stroke-width=\".25\" d=\"M64.5,-62C64.5,-62 59.5,-62 59.5,-62 57,-62 54.5,-59.5 54.5,-57 54.5,-57 54.5,-45 54.5,-45 54.5,-42.5 57,-40 59.5,-40 59.5,-40 64.5,-40 64.5,-40 67,-40 69.5,-42.5 69.5,-45 69.5,-45 69.5,-57 69.5,-57 69.5,-59.5 67,-62 64.5,-62\"/>\n",
       "<text text-anchor=\"middle\" x=\"62\" y=\"-46.8\" font-family=\"Times,serif\" font-size=\"14.00\" fill=\"#000000\">4</text>\n",
       "</g>\n",
       "<!-- 4390006232&#45;&#45;4390123168 -->\n",
       "<g id=\"edge6\" class=\"edge\">\n",
       "<title>4390006232&#45;&#45;4390123168</title>\n",
       "<path fill=\"none\" stroke=\"#000000\" d=\"M49.826,-79.6446C52.1427,-74.1937 54.9102,-67.6819 57.2207,-62.2453\"/>\n",
       "</g>\n",
       "<!-- 4390004328&#45;&#45;4390123168 -->\n",
       "<!-- 4390006064 -->\n",
       "<g id=\"node4\" class=\"node\">\n",
       "<title>4390006064</title>\n",
       "<path fill=\"none\" stroke=\"#000000\" stroke-width=\".25\" d=\"M14.6667,-22C14.6667,-22 7.3333,-22 7.3333,-22 3.6667,-22 0,-18.3333 0,-14.6667 0,-14.6667 0,-7.3333 0,-7.3333 0,-3.6667 3.6667,0 7.3333,0 7.3333,0 14.6667,0 14.6667,0 18.3333,0 22,-3.6667 22,-7.3333 22,-7.3333 22,-14.6667 22,-14.6667 22,-18.3333 18.3333,-22 14.6667,-22\"/>\n",
       "<text text-anchor=\"middle\" x=\"11\" y=\"-6.8\" font-family=\"Times,serif\" font-size=\"14.00\" fill=\"#000000\">34</text>\n",
       "</g>\n",
       "<!-- 4390004328&#45;&#45;4390006064 -->\n",
       "<g id=\"edge4\" class=\"edge\">\n",
       "<title>4390004328&#45;&#45;4390006064</title>\n",
       "<path fill=\"none\" stroke=\"#000000\" d=\"M23.8901,-39.6446C21.4372,-34.1937 18.5068,-27.6819 16.0604,-22.2453\"/>\n",
       "</g>\n",
       "<!-- 4390123504 -->\n",
       "<g id=\"node5\" class=\"node\">\n",
       "<title>4390123504</title>\n",
       "<path fill=\"none\" stroke=\"#000000\" stroke-width=\".25\" d=\"M50.5,-22C50.5,-22 45.5,-22 45.5,-22 43,-22 40.5,-19.5 40.5,-17 40.5,-17 40.5,-5 40.5,-5 40.5,-2.5 43,0 45.5,0 45.5,0 50.5,0 50.5,0 53,0 55.5,-2.5 55.5,-5 55.5,-5 55.5,-17 55.5,-17 55.5,-19.5 53,-22 50.5,-22\"/>\n",
       "<text text-anchor=\"middle\" x=\"48\" y=\"-6.8\" font-family=\"Times,serif\" font-size=\"14.00\" fill=\"#000000\">7</text>\n",
       "</g>\n",
       "<!-- 4390004328&#45;&#45;4390123504 -->\n",
       "<g id=\"edge5\" class=\"edge\">\n",
       "<title>4390004328&#45;&#45;4390123504</title>\n",
       "<path fill=\"none\" stroke=\"#000000\" d=\"M34.3938,-39.6446C36.983,-34.1937 40.0761,-27.6819 42.6585,-22.2453\"/>\n",
       "</g>\n",
       "<!-- 4390006064&#45;&#45;4390123504 -->\n",
       "</g>\n",
       "</svg>\n"
      ],
      "text/plain": [
       "(+: (*: 34, 7), 4)"
      ]
     },
     "execution_count": 17,
     "metadata": {},
     "output_type": "execute_result"
    }
   ],
   "source": [
    "# costruzione dell'AST\n",
    "\n",
    "def ast_eabcp(tokens):\n",
    "    token = next(tokens, None)\n",
    "    if token == '(':\n",
    "        left = ast_eabcp(tokens)\n",
    "        op = next(tokens)\n",
    "        right = ast_eabcp(tokens)\n",
    "        paren = next(tokens)\n",
    "        return [op, left, right]\n",
    "    else:\n",
    "        return [int(token)]\n",
    "    \n",
    "ast = ast_eabcp(iter('( ( 34 * 7 ) + 4 )'.split()))\n",
    "Tree.from_lol(ast)"
   ]
  },
  {
   "cell_type": "code",
   "execution_count": 18,
   "metadata": {},
   "outputs": [
    {
     "data": {
      "text/plain": [
       "242"
      ]
     },
     "execution_count": 18,
     "metadata": {},
     "output_type": "execute_result"
    }
   ],
   "source": [
    "# valutazione a partire dall'AST usando una dispatch table\n",
    "\n",
    "from operator import add, mul\n",
    "\n",
    "DISPATCH_TABLE = {'+': add, '*': mul}\n",
    "\n",
    "def evaluate_eabcp(ast):\n",
    "    root, *children = ast\n",
    "    if not children: return root\n",
    "    left = evaluate_eabcp(children[0])\n",
    "    right = evaluate_eabcp(children[1])\n",
    "    return DISPATCH_TABLE[root](left, right)\n",
    "    \n",
    "evaluate_eabcp(ast)"
   ]
  },
  {
   "cell_type": "code",
   "execution_count": 19,
   "metadata": {},
   "outputs": [
    {
     "name": "stdout",
     "output_type": "stream",
     "text": [
      "(3, 4, '*', 2, '+')\n"
     ]
    },
    {
     "data": {
      "text/plain": [
       "14"
      ]
     },
     "execution_count": 19,
     "metadata": {},
     "output_type": "execute_result"
    }
   ],
   "source": [
    "# materiale supplementare\n",
    "\n",
    "# traduzione in rpn https://en.wikipedia.org/wiki/Reverse_Polish_notation\n",
    "\n",
    "def rpn_eabcp(next_token):\n",
    "    token = next_token()\n",
    "    if token == '(':\n",
    "        left = rpn_eabcp(next_token)\n",
    "        op = next_token()\n",
    "        right = rpn_eabcp(next_token)\n",
    "        closed_paren = next_token()\n",
    "        return left + right + (op, )\n",
    "    else:\n",
    "        return (int(token), )\n",
    "    \n",
    "rpn = rpn_eabcp(tokenizer('((3 * 4) + 2)'))\n",
    "print(rpn)\n",
    "\n",
    "\n",
    "# valutazione a pila https://en.wikipedia.org/wiki/Reverse_Polish_notation#Postfix_evaluation_algorithm\n",
    "\n",
    "from collections import deque\n",
    "\n",
    "def eval_rpn(lst):\n",
    "    rpn = deque(lst)\n",
    "    next_token = rpn.popleft\n",
    "    stack = deque()\n",
    "    push = stack.append\n",
    "    pop = stack.pop\n",
    "    while rpn:\n",
    "        t = next_token()\n",
    "        if t in DISPATCH_TABLE:\n",
    "            right = pop()\n",
    "            left = pop()\n",
    "            push(DISPATCH_TABLE[t](left, right))\n",
    "        else:\n",
    "            push(t)\n",
    "    return stack[0]\n",
    "        \n",
    "eval_rpn(rpn)"
   ]
  },
  {
   "cell_type": "markdown",
   "metadata": {},
   "source": [
    "# Homework\n",
    "\n",
    "## Dispatch table\n",
    "\n",
    "Dato un certo insieme di tipi di figure geometriche (diciamo almeno `quadrato`, \n",
    "`rettangolo`, `triangolo`) scrivere un segmento di codice che, data una sequenza \n",
    "di figure accompagnate dalla dimensione dei rispettivi lati e codificata come una \n",
    "sequenza di linee di testo ne calcoli l'area complessiva.\n",
    "\n",
    "Ad esempio, data la sequenza\n",
    "\n",
    "    quadrato 5\n",
    "    rettangolo 4 2\n",
    "    triangolo 1 2 \n",
    "    triangolo 2 1\n",
    "    rettangolo 5 1\n",
    "    quadrato 2\n",
    "\n",
    "il codice deve emettere `44.0`. Usate una *dispatch table* che, data una figura, fornisca la \n",
    "funzione che ne calcola l'area. \n",
    "\n",
    "Data una sequenza di linee in una stringa è possibile ottenere un iteratore sulle linee \n",
    "applicando il metodo `splitlines` e data una stringa contenente una sequenza di parti separate \n",
    "da spazio è possibile ottenerle applicando il metodo `split`."
   ]
  },
  {
   "cell_type": "markdown",
   "metadata": {},
   "source": [
    "## Quadrati latini\n",
    "\n",
    "Un [quadrato latino](https://en.wikipedia.org/wiki/Latin_square) di dimensione $n$ è una \n",
    "matrice quadrata di $n \\times n$ interi tale che ogni riga e colonna sono una permutazione degli\n",
    "interi tra $0$ e $n-1$; un tale quadrato si dice in forma *normale* (o *ridotta*) se gli nteri\n",
    "sulla prima colonna e sulla prima riga sono in ordine natuarle.\n",
    "\n",
    "I quadrati latini di dimensione 4 in forma normale sono\n",
    "\n",
    "    0123    0123    0123    0123\n",
    "    1032    1032    1230    1302\n",
    "    2301    2310    2301    2031\n",
    "    3210    3201    3012    3210\n",
    "    \n",
    "Scrivete una funzione ricorsiva che, facendo uso della tecnica del *backtracking* emetta tutti \n",
    "i quadrati latini in forma normale di dimensione data.\n",
    "\n",
    "Fate attenzione perché il numero di tali quadrati cresce molto rapidamente, il loro numero (al crescere di $n$) è dato dalla successione \n",
    "\n",
    "    1, 1, 1, 4, 56, 9408, 16942080, 535281401856, 377597570964258816, 7580721483160132811489280…\n",
    "    "
   ]
  }
 ],
 "metadata": {
  "kernelspec": {
   "display_name": "Python 3",
   "language": "python",
   "name": "python3"
  },
  "language_info": {
   "codemirror_mode": {
    "name": "ipython",
    "version": 3
   },
   "file_extension": ".py",
   "mimetype": "text/x-python",
   "name": "python",
   "nbconvert_exporter": "python",
   "pygments_lexer": "ipython3",
   "version": "3.7.2"
  }
 },
 "nbformat": 4,
 "nbformat_minor": 2
}
