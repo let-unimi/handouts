{
  "cells": [
    {
      "cell_type": "markdown",
      "metadata": {},
      "source": [
        "# Grammatiche come generatori"
      ]
    },
    {
      "cell_type": "code",
      "execution_count": null,
      "metadata": {},
      "outputs": [],
      "source": [
        "from liblet import Grammar, Derivation, ProductionGraph"
      ]
    },
    {
      "cell_type": "markdown",
      "metadata": {},
      "source": [
        "## Tipo 0"
      ]
    },
    {
      "cell_type": "code",
      "execution_count": null,
      "metadata": {},
      "outputs": [],
      "source": [
        "# fig 2.3, pag. 14\n",
        "\n",
        "grammar = \"\"\"\n",
        "Sentence -> Name | List End\n",
        "List -> Name | Name , List\n",
        "Name -> tom | dick | harry\n",
        ", Name End -> and Name\n",
        "\"\"\""
      ]
    },
    {
      "cell_type": "markdown",
      "metadata": {},
      "source": [
        "Tramite [liblet](https://liblet.readthedocs.io/) si può costruire una [grammatica](https://liblet.readthedocs.io/en/latest/api.html#liblet.grammar.Grammar) a partire da una descrizione testuale tramite [Grammar.from_string](https://liblet.readthedocs.io/en/latest/api.html#liblet.grammar.Grammar.from_string)"
      ]
    },
    {
      "cell_type": "code",
      "execution_count": null,
      "metadata": {},
      "outputs": [
        {
          "data": {
            "text/plain": [
              "Grammar(N={End, List, Name, Sentence}, T={,, and, dick, harry, tom}, P=(Sentence -> Name, Sentence -> List End, List -> Name, List -> Name , List, Name -> tom, Name -> dick, Name -> harry, , Name End -> and Name), S=Sentence)"
            ]
          },
          "execution_count": 3,
          "metadata": {},
          "output_type": "execute_result"
        }
      ],
      "source": [
        "G = Grammar.from_string(grammar, False)\n",
        "G"
      ]
    },
    {
      "cell_type": "code",
      "execution_count": null,
      "metadata": {},
      "outputs": [
        {
          "data": {
            "text/html": [
              "<style>td, th {border: 1pt solid lightgray !important ;}</style><table><tr><th><pre>Sentence</pre><td style=\"text-align:left\"><pre>Name<sub>(0)</sub> | List End<sub>(1)</sub></pre><tr><th><pre>List</pre><td style=\"text-align:left\"><pre>Name<sub>(2)</sub> | Name , List<sub>(3)</sub></pre><tr><th><pre>Name</pre><td style=\"text-align:left\"><pre>tom<sub>(4)</sub> | dick<sub>(5)</sub> | harry<sub>(6)</sub></pre><tr><th><pre>, Name End</pre><td style=\"text-align:left\"><pre>and Name<sub>(7)</sub></pre></table>"
            ],
            "text/plain": [
              "(Sentence -> Name,\n",
              " Sentence -> List End,\n",
              " List -> Name,\n",
              " List -> Name , List,\n",
              " Name -> tom,\n",
              " Name -> dick,\n",
              " Name -> harry,\n",
              " , Name End -> and Name)"
            ]
          },
          "execution_count": 4,
          "metadata": {},
          "output_type": "execute_result"
        }
      ],
      "source": [
        "# Elenco (numerato) delle produzioni\n",
        "\n",
        "G.P"
      ]
    },
    {
      "cell_type": "markdown",
      "metadata": {},
      "source": [
        "Fissata la grammatica, si può costruire una [derivazione](https://liblet.readthedocs.io/en/latest/api.html#liblet.grammar.Derivation) specificandone in passi, con [Derivation.step](https://liblet.readthedocs.io/en/latest/api.html#liblet.grammar.Derivation.step)"
      ]
    },
    {
      "cell_type": "code",
      "execution_count": null,
      "metadata": {},
      "outputs": [],
      "source": [
        "# costruzione di una derivazione\n",
        "\n",
        "d = Derivation(G)"
      ]
    },
    {
      "cell_type": "code",
      "execution_count": null,
      "metadata": {},
      "outputs": [
        {
          "data": {
            "text/plain": [
              "[(0, 0), (1, 0)]"
            ]
          },
          "execution_count": 6,
          "metadata": {},
          "output_type": "execute_result"
        }
      ],
      "source": [
        "# i prossimi passi possibili\n",
        "\n",
        "list(d.possible_steps())"
      ]
    },
    {
      "cell_type": "code",
      "execution_count": null,
      "metadata": {},
      "outputs": [
        {
          "data": {
            "text/plain": [
              "Sentence -> List End"
            ]
          },
          "execution_count": 7,
          "metadata": {},
          "output_type": "execute_result"
        }
      ],
      "source": [
        "# ne applico uno\n",
        "\n",
        "d = d.step(1, 0)\n",
        "d"
      ]
    },
    {
      "cell_type": "code",
      "execution_count": null,
      "metadata": {},
      "outputs": [
        {
          "data": {
            "text/plain": [
              "('List', 'End')"
            ]
          },
          "execution_count": 8,
          "metadata": {},
          "output_type": "execute_result"
        }
      ],
      "source": [
        "# se volgio solo la forma sentenziale\n",
        "\n",
        "d.sentential_form()"
      ]
    },
    {
      "cell_type": "code",
      "execution_count": null,
      "metadata": {},
      "outputs": [
        {
          "data": {
            "text/plain": [
              "Sentence -> List End -> Name , List End"
            ]
          },
          "execution_count": 9,
          "metadata": {},
          "output_type": "execute_result"
        }
      ],
      "source": [
        "# procedo con altri passi… \n",
        "\n",
        "d = d.step(3, 0)\n",
        "d"
      ]
    },
    {
      "cell_type": "code",
      "execution_count": null,
      "metadata": {},
      "outputs": [
        {
          "data": {
            "text/plain": [
              "Sentence -> List End -> Name , List End -> Name , Name , List End"
            ]
          },
          "execution_count": 10,
          "metadata": {},
          "output_type": "execute_result"
        }
      ],
      "source": [
        "d = d.step(3, 2)\n",
        "d"
      ]
    },
    {
      "cell_type": "code",
      "execution_count": null,
      "metadata": {},
      "outputs": [
        {
          "data": {
            "text/plain": [
              "Sentence -> List End -> Name , List End -> Name , Name , List End -> Name , Name , Name End -> Name , Name and Name -> tom , Name and Name -> tom , dick and Name -> tom , dick and harry"
            ]
          },
          "execution_count": 11,
          "metadata": {},
          "output_type": "execute_result"
        }
      ],
      "source": [
        "d = (\n",
        "  d.step(2, 4)\n",
        "   .step(7, 3)\n",
        "   .step(4, 0)\n",
        "   .step(5, 2)\n",
        "   .step(6, 4)\n",
        ")\n",
        "d"
      ]
    },
    {
      "cell_type": "markdown",
      "metadata": {},
      "source": [
        "Sebbene la rappresentazione testuale della derivazione sia piuttosto chiara, può aiutare averne una rappresentazione garfica, tramite un [ProductionGraph](https://liblet.readthedocs.io/en/latest/api.html#liblet.display.ProductionGraph)"
      ]
    },
    {
      "cell_type": "code",
      "execution_count": null,
      "metadata": {},
      "outputs": [
        {
          "data": {
            "image/svg+xml": [
              "<?xml version=\"1.0\" encoding=\"UTF-8\" standalone=\"no\"?>\n",
              "<!DOCTYPE svg PUBLIC \"-//W3C//DTD SVG 1.1//EN\"\n",
              " \"http://www.w3.org/Graphics/SVG/1.1/DTD/svg11.dtd\">\n",
              "<!-- Generated by graphviz version 2.43.0 (0)\n",
              " -->\n",
              "<!-- Title: %3 Pages: 1 -->\n",
              "<svg width=\"319pt\" height=\"382pt\"\n",
              " viewBox=\"0.00 0.00 319.00 382.04\" xmlns=\"http://www.w3.org/2000/svg\" xmlns:xlink=\"http://www.w3.org/1999/xlink\">\n",
              "<g id=\"graph0\" class=\"graph\" transform=\"scale(1 1) rotate(0) translate(4 378.04)\">\n",
              "<title>%3</title>\n",
              "<polygon fill=\"white\" stroke=\"transparent\" points=\"-4,4 -4,-378.04 315,-378.04 315,4 -4,4\"/>\n",
              "<!-- 1387879347433614742 -->\n",
              "<!-- 7037959224509443089 -->\n",
              "<!-- 1387879347433614742&#45;&gt;7037959224509443089 -->\n",
              "<!-- &#45;3704025415624837736 -->\n",
              "<g id=\"node2\" class=\"node\">\n",
              "<title>&#45;3704025415624837736</title>\n",
              "<path fill=\"none\" stroke=\"black\" stroke-width=\"0.25\" d=\"M243.83,-374.04C243.83,-374.04 202.17,-374.04 202.17,-374.04 198.33,-374.04 194.5,-370.21 194.5,-366.37 194.5,-366.37 194.5,-358.71 194.5,-358.71 194.5,-354.87 198.33,-351.04 202.17,-351.04 202.17,-351.04 243.83,-351.04 243.83,-351.04 247.67,-351.04 251.5,-354.87 251.5,-358.71 251.5,-358.71 251.5,-366.37 251.5,-366.37 251.5,-370.21 247.67,-374.04 243.83,-374.04\"/>\n",
              "<text text-anchor=\"middle\" x=\"223\" y=\"-358.84\" font-family=\"Times,serif\" font-size=\"14.00\">Sentence</text>\n",
              "</g>\n",
              "<!-- 6812293336094333855 -->\n",
              "<g id=\"node4\" class=\"node\">\n",
              "<title>6812293336094333855</title>\n",
              "<path fill=\"none\" stroke=\"black\" stroke-width=\"0.25\" d=\"M206.33,-333.04C206.33,-333.04 191.67,-333.04 191.67,-333.04 187.83,-333.04 184,-329.21 184,-325.37 184,-325.37 184,-317.71 184,-317.71 184,-313.87 187.83,-310.04 191.67,-310.04 191.67,-310.04 206.33,-310.04 206.33,-310.04 210.17,-310.04 214,-313.87 214,-317.71 214,-317.71 214,-325.37 214,-325.37 214,-329.21 210.17,-333.04 206.33,-333.04\"/>\n",
              "<text text-anchor=\"middle\" x=\"199\" y=\"-317.84\" font-family=\"Times,serif\" font-size=\"14.00\">List</text>\n",
              "</g>\n",
              "<!-- &#45;3704025415624837736&#45;&gt;6812293336094333855 -->\n",
              "<g id=\"edge2\" class=\"edge\">\n",
              "<title>&#45;3704025415624837736&#45;&gt;6812293336094333855</title>\n",
              "<path fill=\"none\" stroke=\"black\" stroke-width=\"0.5\" d=\"M216.44,-350.88C213.06,-345.38 208.94,-338.69 205.55,-333.18\"/>\n",
              "</g>\n",
              "<!-- &#45;6507555776615520642 -->\n",
              "<g id=\"node5\" class=\"node\">\n",
              "<title>&#45;6507555776615520642</title>\n",
              "<path fill=\"none\" stroke=\"black\" stroke-width=\"0.25\" d=\"M254.33,-333.04C254.33,-333.04 239.67,-333.04 239.67,-333.04 235.83,-333.04 232,-329.21 232,-325.37 232,-325.37 232,-317.71 232,-317.71 232,-313.87 235.83,-310.04 239.67,-310.04 239.67,-310.04 254.33,-310.04 254.33,-310.04 258.17,-310.04 262,-313.87 262,-317.71 262,-317.71 262,-325.37 262,-325.37 262,-329.21 258.17,-333.04 254.33,-333.04\"/>\n",
              "<text text-anchor=\"middle\" x=\"247\" y=\"-317.84\" font-family=\"Times,serif\" font-size=\"14.00\">End</text>\n",
              "</g>\n",
              "<!-- &#45;3704025415624837736&#45;&gt;&#45;6507555776615520642 -->\n",
              "<g id=\"edge3\" class=\"edge\">\n",
              "<title>&#45;3704025415624837736&#45;&gt;&#45;6507555776615520642</title>\n",
              "<path fill=\"none\" stroke=\"black\" stroke-width=\"0.5\" d=\"M229.56,-350.88C232.94,-345.38 237.06,-338.69 240.45,-333.18\"/>\n",
              "</g>\n",
              "<!-- &#45;138445689054035353 -->\n",
              "<!-- 7037959224509443089&#45;&gt;&#45;138445689054035353 -->\n",
              "<!-- 6812293336094333855&#45;&gt;&#45;6507555776615520642 -->\n",
              "<!-- 3019381713321570906 -->\n",
              "<g id=\"node7\" class=\"node\">\n",
              "<title>3019381713321570906</title>\n",
              "<path fill=\"none\" stroke=\"black\" stroke-width=\"0.25\" d=\"M148.33,-292.04C148.33,-292.04 121.67,-292.04 121.67,-292.04 117.83,-292.04 114,-288.21 114,-284.37 114,-284.37 114,-276.71 114,-276.71 114,-272.87 117.83,-269.04 121.67,-269.04 121.67,-269.04 148.33,-269.04 148.33,-269.04 152.17,-269.04 156,-272.87 156,-276.71 156,-276.71 156,-284.37 156,-284.37 156,-288.21 152.17,-292.04 148.33,-292.04\"/>\n",
              "<text text-anchor=\"middle\" x=\"135\" y=\"-276.84\" font-family=\"Times,serif\" font-size=\"14.00\">Name</text>\n",
              "</g>\n",
              "<!-- 6812293336094333855&#45;&gt;3019381713321570906 -->\n",
              "<g id=\"edge6\" class=\"edge\">\n",
              "<title>6812293336094333855&#45;&gt;3019381713321570906</title>\n",
              "<path fill=\"none\" stroke=\"black\" stroke-width=\"0.5\" d=\"M183.83,-311.3C174.37,-305.53 162.16,-298.09 152.32,-292.09\"/>\n",
              "</g>\n",
              "<!-- &#45;6108231079120429201 -->\n",
              "<g id=\"node8\" class=\"node\">\n",
              "<title>&#45;6108231079120429201</title>\n",
              "<path fill=\"none\" stroke=\"black\" stroke-width=\"1.25\" d=\"M182,-292.04C182,-292.04 178,-292.04 178,-292.04 176,-292.04 174,-290.04 174,-288.04 174,-288.04 174,-273.04 174,-273.04 174,-271.04 176,-269.04 178,-269.04 178,-269.04 182,-269.04 182,-269.04 184,-269.04 186,-271.04 186,-273.04 186,-273.04 186,-288.04 186,-288.04 186,-290.04 184,-292.04 182,-292.04\"/>\n",
              "<text text-anchor=\"middle\" x=\"180\" y=\"-276.84\" font-family=\"Times,serif\" font-size=\"14.00\">,</text>\n",
              "</g>\n",
              "<!-- 6812293336094333855&#45;&gt;&#45;6108231079120429201 -->\n",
              "<g id=\"edge7\" class=\"edge\">\n",
              "<title>6812293336094333855&#45;&gt;&#45;6108231079120429201</title>\n",
              "<path fill=\"none\" stroke=\"black\" stroke-width=\"0.5\" d=\"M193.81,-309.88C191.13,-304.38 187.87,-297.69 185.19,-292.18\"/>\n",
              "</g>\n",
              "<!-- &#45;4568092741505895778 -->\n",
              "<g id=\"node9\" class=\"node\">\n",
              "<title>&#45;4568092741505895778</title>\n",
              "<path fill=\"none\" stroke=\"black\" stroke-width=\"0.25\" d=\"M226.33,-292.04C226.33,-292.04 211.67,-292.04 211.67,-292.04 207.83,-292.04 204,-288.21 204,-284.37 204,-284.37 204,-276.71 204,-276.71 204,-272.87 207.83,-269.04 211.67,-269.04 211.67,-269.04 226.33,-269.04 226.33,-269.04 230.17,-269.04 234,-272.87 234,-276.71 234,-276.71 234,-284.37 234,-284.37 234,-288.21 230.17,-292.04 226.33,-292.04\"/>\n",
              "<text text-anchor=\"middle\" x=\"219\" y=\"-276.84\" font-family=\"Times,serif\" font-size=\"14.00\">List</text>\n",
              "</g>\n",
              "<!-- 6812293336094333855&#45;&gt;&#45;4568092741505895778 -->\n",
              "<g id=\"edge8\" class=\"edge\">\n",
              "<title>6812293336094333855&#45;&gt;&#45;4568092741505895778</title>\n",
              "<path fill=\"none\" stroke=\"black\" stroke-width=\"0.5\" d=\"M204.47,-309.88C207.29,-304.38 210.72,-297.69 213.54,-292.18\"/>\n",
              "</g>\n",
              "<!-- 7966417419294509 -->\n",
              "<g id=\"node19\" class=\"node\">\n",
              "<title>7966417419294509</title>\n",
              "<ellipse fill=\"black\" stroke=\"black\" cx=\"259\" cy=\"-166.52\" rx=\"2.52\" ry=\"2.52\"/>\n",
              "</g>\n",
              "<!-- &#45;6507555776615520642&#45;&gt;7966417419294509 -->\n",
              "<g id=\"edge22\" class=\"edge\">\n",
              "<title>&#45;6507555776615520642&#45;&gt;7966417419294509</title>\n",
              "<path fill=\"none\" stroke=\"black\" stroke-width=\"0.5\" d=\"M253.77,-309.67C261.74,-296.35 274.82,-272.86 282,-251.04 287.78,-233.48 287.44,-228.46 289,-210.04 289.86,-199.85 293.87,-196.03 289,-187.04 282.84,-175.68 266.88,-169.89 261.12,-168.12\"/>\n",
              "</g>\n",
              "<!-- &#45;8013798295201150398 -->\n",
              "<!-- &#45;138445689054035353&#45;&gt;&#45;8013798295201150398 -->\n",
              "<!-- 3019381713321570906&#45;&gt;&#45;6108231079120429201 -->\n",
              "<!-- 2741065593466397259 -->\n",
              "<g id=\"node21\" class=\"node\">\n",
              "<title>2741065593466397259</title>\n",
              "<path fill=\"none\" stroke=\"black\" stroke-width=\"1.25\" d=\"M132.33,-105C132.33,-105 117.67,-105 117.67,-105 113.83,-105 110,-101.17 110,-97.33 110,-97.33 110,-89.67 110,-89.67 110,-85.83 113.83,-82 117.67,-82 117.67,-82 132.33,-82 132.33,-82 136.17,-82 140,-85.83 140,-89.67 140,-89.67 140,-97.33 140,-97.33 140,-101.17 136.17,-105 132.33,-105\"/>\n",
              "<text text-anchor=\"middle\" x=\"125\" y=\"-89.8\" font-family=\"Times,serif\" font-size=\"14.00\">tom</text>\n",
              "</g>\n",
              "<!-- 3019381713321570906&#45;&gt;2741065593466397259 -->\n",
              "<g id=\"edge27\" class=\"edge\">\n",
              "<title>3019381713321570906&#45;&gt;2741065593466397259</title>\n",
              "<path fill=\"none\" stroke=\"black\" stroke-width=\"0.5\" d=\"M132.83,-268.98C129.89,-253.72 125,-224.59 125,-199.54 125,-199.54 125,-199.54 125,-165.52 125,-144.07 125,-118.97 125,-105.09\"/>\n",
              "</g>\n",
              "<!-- &#45;6108231079120429201&#45;&gt;&#45;4568092741505895778 -->\n",
              "<!-- 582323866581325213 -->\n",
              "<g id=\"node11\" class=\"node\">\n",
              "<title>582323866581325213</title>\n",
              "<path fill=\"none\" stroke=\"black\" stroke-width=\"0.25\" d=\"M187.33,-251.04C187.33,-251.04 160.67,-251.04 160.67,-251.04 156.83,-251.04 153,-247.21 153,-243.37 153,-243.37 153,-235.71 153,-235.71 153,-231.87 156.83,-228.04 160.67,-228.04 160.67,-228.04 187.33,-228.04 187.33,-228.04 191.17,-228.04 195,-231.87 195,-235.71 195,-235.71 195,-243.37 195,-243.37 195,-247.21 191.17,-251.04 187.33,-251.04\"/>\n",
              "<text text-anchor=\"middle\" x=\"174\" y=\"-235.84\" font-family=\"Times,serif\" font-size=\"14.00\">Name</text>\n",
              "</g>\n",
              "<!-- &#45;4568092741505895778&#45;&gt;582323866581325213 -->\n",
              "<g id=\"edge12\" class=\"edge\">\n",
              "<title>&#45;4568092741505895778&#45;&gt;582323866581325213</title>\n",
              "<path fill=\"none\" stroke=\"black\" stroke-width=\"0.5\" d=\"M206.7,-268.88C200.35,-263.38 192.63,-256.69 186.28,-251.18\"/>\n",
              "</g>\n",
              "<!-- 3741917572843958851 -->\n",
              "<g id=\"node12\" class=\"node\">\n",
              "<title>3741917572843958851</title>\n",
              "<path fill=\"none\" stroke=\"black\" stroke-width=\"0.25\" d=\"M221,-251.04C221,-251.04 217,-251.04 217,-251.04 215,-251.04 213,-249.04 213,-247.04 213,-247.04 213,-232.04 213,-232.04 213,-230.04 215,-228.04 217,-228.04 217,-228.04 221,-228.04 221,-228.04 223,-228.04 225,-230.04 225,-232.04 225,-232.04 225,-247.04 225,-247.04 225,-249.04 223,-251.04 221,-251.04\"/>\n",
              "<text text-anchor=\"middle\" x=\"219\" y=\"-235.84\" font-family=\"Times,serif\" font-size=\"14.00\">,</text>\n",
              "</g>\n",
              "<!-- &#45;4568092741505895778&#45;&gt;3741917572843958851 -->\n",
              "<g id=\"edge13\" class=\"edge\">\n",
              "<title>&#45;4568092741505895778&#45;&gt;3741917572843958851</title>\n",
              "<path fill=\"none\" stroke=\"black\" stroke-width=\"0.5\" d=\"M219,-268.88C219,-263.38 219,-256.69 219,-251.18\"/>\n",
              "</g>\n",
              "<!-- &#45;2606793205261773343 -->\n",
              "<g id=\"node13\" class=\"node\">\n",
              "<title>&#45;2606793205261773343</title>\n",
              "<path fill=\"none\" stroke=\"black\" stroke-width=\"0.25\" d=\"M265.33,-251.04C265.33,-251.04 250.67,-251.04 250.67,-251.04 246.83,-251.04 243,-247.21 243,-243.37 243,-243.37 243,-235.71 243,-235.71 243,-231.87 246.83,-228.04 250.67,-228.04 250.67,-228.04 265.33,-228.04 265.33,-228.04 269.17,-228.04 273,-231.87 273,-235.71 273,-235.71 273,-243.37 273,-243.37 273,-247.21 269.17,-251.04 265.33,-251.04\"/>\n",
              "<text text-anchor=\"middle\" x=\"258\" y=\"-235.84\" font-family=\"Times,serif\" font-size=\"14.00\">List</text>\n",
              "</g>\n",
              "<!-- &#45;4568092741505895778&#45;&gt;&#45;2606793205261773343 -->\n",
              "<g id=\"edge14\" class=\"edge\">\n",
              "<title>&#45;4568092741505895778&#45;&gt;&#45;2606793205261773343</title>\n",
              "<path fill=\"none\" stroke=\"black\" stroke-width=\"0.5\" d=\"M229.66,-268.88C235.16,-263.38 241.85,-256.69 247.36,-251.18\"/>\n",
              "</g>\n",
              "<!-- 7180630528261663402 -->\n",
              "<!-- &#45;8013798295201150398&#45;&gt;7180630528261663402 -->\n",
              "<!-- 582323866581325213&#45;&gt;3741917572843958851 -->\n",
              "<!-- &#45;1803360018912700002 -->\n",
              "<g id=\"node23\" class=\"node\">\n",
              "<title>&#45;1803360018912700002</title>\n",
              "<path fill=\"none\" stroke=\"black\" stroke-width=\"1.25\" d=\"M180.33,-64C180.33,-64 163.67,-64 163.67,-64 159.83,-64 156,-60.17 156,-56.33 156,-56.33 156,-48.67 156,-48.67 156,-44.83 159.83,-41 163.67,-41 163.67,-41 180.33,-41 180.33,-41 184.17,-41 188,-44.83 188,-48.67 188,-48.67 188,-56.33 188,-56.33 188,-60.17 184.17,-64 180.33,-64\"/>\n",
              "<text text-anchor=\"middle\" x=\"172\" y=\"-48.8\" font-family=\"Times,serif\" font-size=\"14.00\">dick</text>\n",
              "</g>\n",
              "<!-- 582323866581325213&#45;&gt;&#45;1803360018912700002 -->\n",
              "<g id=\"edge29\" class=\"edge\">\n",
              "<title>582323866581325213&#45;&gt;&#45;1803360018912700002</title>\n",
              "<path fill=\"none\" stroke=\"black\" stroke-width=\"0.5\" d=\"M173.52,-227.95C172.92,-214.08 172,-188.98 172,-167.52 172,-167.52 172,-167.52 172,-133.5 172,-108.64 172,-79.43 172,-64.11\"/>\n",
              "</g>\n",
              "<!-- 3741917572843958851&#45;&gt;&#45;2606793205261773343 -->\n",
              "<!-- 3741917572843958851&#45;&gt;7966417419294509 -->\n",
              "<g id=\"edge20\" class=\"edge\">\n",
              "<title>3741917572843958851&#45;&gt;7966417419294509</title>\n",
              "<path fill=\"none\" stroke=\"black\" stroke-width=\"0.5\" d=\"M218.72,-227.76C218.94,-216.65 220.76,-199.28 229,-187.04 236.22,-176.32 251.51,-170.13 256.99,-168.19\"/>\n",
              "</g>\n",
              "<!-- &#45;8014271555163838351 -->\n",
              "<g id=\"node15\" class=\"node\">\n",
              "<title>&#45;8014271555163838351</title>\n",
              "<path fill=\"none\" stroke=\"black\" stroke-width=\"0.25\" d=\"M272.33,-210.04C272.33,-210.04 245.67,-210.04 245.67,-210.04 241.83,-210.04 238,-206.21 238,-202.37 238,-202.37 238,-194.71 238,-194.71 238,-190.87 241.83,-187.04 245.67,-187.04 245.67,-187.04 272.33,-187.04 272.33,-187.04 276.17,-187.04 280,-190.87 280,-194.71 280,-194.71 280,-202.37 280,-202.37 280,-206.21 276.17,-210.04 272.33,-210.04\"/>\n",
              "<text text-anchor=\"middle\" x=\"259\" y=\"-194.84\" font-family=\"Times,serif\" font-size=\"14.00\">Name</text>\n",
              "</g>\n",
              "<!-- &#45;2606793205261773343&#45;&gt;&#45;8014271555163838351 -->\n",
              "<g id=\"edge18\" class=\"edge\">\n",
              "<title>&#45;2606793205261773343&#45;&gt;&#45;8014271555163838351</title>\n",
              "<path fill=\"none\" stroke=\"black\" stroke-width=\"0.5\" d=\"M258.27,-227.88C258.41,-222.38 258.59,-215.69 258.73,-210.18\"/>\n",
              "</g>\n",
              "<!-- &#45;7863878995663504204 -->\n",
              "<!-- 7180630528261663402&#45;&gt;&#45;7863878995663504204 -->\n",
              "<!-- &#45;8014271555163838351&#45;&gt;7966417419294509 -->\n",
              "<g id=\"edge21\" class=\"edge\">\n",
              "<title>&#45;8014271555163838351&#45;&gt;7966417419294509</title>\n",
              "<path fill=\"none\" stroke=\"black\" stroke-width=\"0.5\" d=\"M259,-186.7C259,-180.25 259,-172.69 259,-169.31\"/>\n",
              "</g>\n",
              "<!-- &#45;4218040532177253954 -->\n",
              "<!-- &#45;7863878995663504204&#45;&gt;&#45;4218040532177253954 -->\n",
              "<!-- &#45;8407165154538725958 -->\n",
              "<g id=\"node17\" class=\"node\">\n",
              "<title>&#45;8407165154538725958</title>\n",
              "<path fill=\"none\" stroke=\"black\" stroke-width=\"1.25\" d=\"M243.33,-146C243.33,-146 230.67,-146 230.67,-146 226.83,-146 223,-142.17 223,-138.33 223,-138.33 223,-130.67 223,-130.67 223,-126.83 226.83,-123 230.67,-123 230.67,-123 243.33,-123 243.33,-123 247.17,-123 251,-126.83 251,-130.67 251,-130.67 251,-138.33 251,-138.33 251,-142.17 247.17,-146 243.33,-146\"/>\n",
              "<text text-anchor=\"middle\" x=\"237\" y=\"-130.8\" font-family=\"Times,serif\" font-size=\"14.00\">and</text>\n",
              "</g>\n",
              "<!-- &#45;3943688645802085619 -->\n",
              "<g id=\"node18\" class=\"node\">\n",
              "<title>&#45;3943688645802085619</title>\n",
              "<path fill=\"none\" stroke=\"black\" stroke-width=\"0.25\" d=\"M303.33,-146C303.33,-146 276.67,-146 276.67,-146 272.83,-146 269,-142.17 269,-138.33 269,-138.33 269,-130.67 269,-130.67 269,-126.83 272.83,-123 276.67,-123 276.67,-123 303.33,-123 303.33,-123 307.17,-123 311,-126.83 311,-130.67 311,-130.67 311,-138.33 311,-138.33 311,-142.17 307.17,-146 303.33,-146\"/>\n",
              "<text text-anchor=\"middle\" x=\"290\" y=\"-130.8\" font-family=\"Times,serif\" font-size=\"14.00\">Name</text>\n",
              "</g>\n",
              "<!-- &#45;8407165154538725958&#45;&gt;&#45;3943688645802085619 -->\n",
              "<!-- &#45;8244039292910643173 -->\n",
              "<g id=\"node25\" class=\"node\">\n",
              "<title>&#45;8244039292910643173</title>\n",
              "<path fill=\"none\" stroke=\"black\" stroke-width=\"1.25\" d=\"M300.83,-23C300.83,-23 279.17,-23 279.17,-23 275.33,-23 271.5,-19.17 271.5,-15.33 271.5,-15.33 271.5,-7.67 271.5,-7.67 271.5,-3.83 275.33,0 279.17,0 279.17,0 300.83,0 300.83,0 304.67,0 308.5,-3.83 308.5,-7.67 308.5,-7.67 308.5,-15.33 308.5,-15.33 308.5,-19.17 304.67,-23 300.83,-23\"/>\n",
              "<text text-anchor=\"middle\" x=\"290\" y=\"-7.8\" font-family=\"Times,serif\" font-size=\"14.00\">harry</text>\n",
              "</g>\n",
              "<!-- &#45;3943688645802085619&#45;&gt;&#45;8244039292910643173 -->\n",
              "<g id=\"edge31\" class=\"edge\">\n",
              "<title>&#45;3943688645802085619&#45;&gt;&#45;8244039292910643173</title>\n",
              "<path fill=\"none\" stroke=\"black\" stroke-width=\"0.5\" d=\"M290,-122.76C290,-99.74 290,-45.88 290,-23.04\"/>\n",
              "</g>\n",
              "<!-- 7966417419294509&#45;&gt;&#45;8407165154538725958 -->\n",
              "<g id=\"edge23\" class=\"edge\">\n",
              "<title>7966417419294509&#45;&gt;&#45;8407165154538725958</title>\n",
              "<path fill=\"none\" stroke=\"black\" stroke-width=\"0.5\" d=\"M257.82,-163.91C255.39,-160.59 249.67,-152.78 244.83,-146.19\"/>\n",
              "</g>\n",
              "<!-- 7966417419294509&#45;&gt;&#45;3943688645802085619 -->\n",
              "<g id=\"edge24\" class=\"edge\">\n",
              "<title>7966417419294509&#45;&gt;&#45;3943688645802085619</title>\n",
              "<path fill=\"none\" stroke=\"black\" stroke-width=\"0.5\" d=\"M260.33,-164.23C263.53,-161.13 271.9,-153.03 278.94,-146.21\"/>\n",
              "</g>\n",
              "<!-- &#45;5909810110378333357 -->\n",
              "<!-- &#45;4218040532177253954&#45;&gt;&#45;5909810110378333357 -->\n",
              "<!-- &#45;3061151801293887508 -->\n",
              "<!-- &#45;5909810110378333357&#45;&gt;&#45;3061151801293887508 -->\n",
              "</g>\n",
              "</svg>\n"
            ],
            "text/plain": [
              "ProductionGraph(Sentence -> List End -> Name , List End -> Name , Name , List End -> Name , Name , Name End -> Name , Name and Name -> tom , Name and Name -> tom , dick and Name -> tom , dick and harry)"
            ]
          },
          "execution_count": 12,
          "metadata": {},
          "output_type": "execute_result"
        }
      ],
      "source": [
        "ProductionGraph(d)"
      ]
    },
    {
      "cell_type": "markdown",
      "metadata": {},
      "source": [
        "## Tipo 1\n",
        "\n",
        "### Monotone"
      ]
    },
    {
      "cell_type": "code",
      "execution_count": null,
      "metadata": {},
      "outputs": [],
      "source": [
        "# pag 20\n",
        "\n",
        "monotonic = \"\"\"\n",
        "Sentence -> Name | List\n",
        "List -> EndName | Name , List\n",
        "Name -> tom | dick | harry\n",
        ", EndName -> and Name\n",
        "\"\"\""
      ]
    },
    {
      "cell_type": "code",
      "execution_count": null,
      "metadata": {},
      "outputs": [
        {
          "data": {
            "text/plain": [
              "Grammar(N={EndName, List, Name, Sentence}, T={,, and, dick, harry, tom}, P=(Sentence -> Name, Sentence -> List, List -> EndName, List -> Name , List, Name -> tom, Name -> dick, Name -> harry, , EndName -> and Name), S=Sentence)"
            ]
          },
          "execution_count": 14,
          "metadata": {},
          "output_type": "execute_result"
        }
      ],
      "source": [
        "G_monotonic = Grammar.from_string(monotonic, False)\n",
        "G_monotonic"
      ]
    },
    {
      "cell_type": "markdown",
      "metadata": {},
      "source": [
        "### Context-sentitive"
      ]
    },
    {
      "cell_type": "code",
      "execution_count": null,
      "metadata": {},
      "outputs": [],
      "source": [
        "# pag 20\n",
        "\n",
        "context_sensitive = \"\"\"\n",
        "Sentence -> Name | List\n",
        "List -> EndName | Name Comma List\n",
        "Name -> tom | dick | harry\n",
        "Comma EndName -> and EndName\n",
        "and EndName -> and Name\n",
        "Comma -> ,\n",
        "\"\"\""
      ]
    },
    {
      "cell_type": "code",
      "execution_count": null,
      "metadata": {},
      "outputs": [
        {
          "data": {
            "text/plain": [
              "Grammar(N={Comma, EndName, List, Name, Sentence}, T={,, and, dick, harry, tom}, P=(Sentence -> Name, Sentence -> List, List -> EndName, List -> Name Comma List, Name -> tom, Name -> dick, Name -> harry, Comma EndName -> and EndName, and EndName -> and Name, Comma -> ,), S=Sentence)"
            ]
          },
          "execution_count": 16,
          "metadata": {},
          "output_type": "execute_result"
        }
      ],
      "source": [
        "G_cs = Grammar.from_string(context_sensitive, False)\n",
        "G_cs"
      ]
    },
    {
      "cell_type": "code",
      "execution_count": null,
      "metadata": {},
      "outputs": [
        {
          "data": {
            "text/html": [
              "<style>td, th {border: 1pt solid lightgray !important ;}</style><table><tr><th><pre>Sentence</pre><td style=\"text-align:left\"><pre>Name<sub>(0)</sub> | List<sub>(1)</sub></pre><tr><th><pre>List</pre><td style=\"text-align:left\"><pre>EndName<sub>(2)</sub> | Name Comma List<sub>(3)</sub></pre><tr><th><pre>Name</pre><td style=\"text-align:left\"><pre>tom<sub>(4)</sub> | dick<sub>(5)</sub> | harry<sub>(6)</sub></pre><tr><th><pre>Comma EndName</pre><td style=\"text-align:left\"><pre>and EndName<sub>(7)</sub></pre><tr><th><pre>and EndName</pre><td style=\"text-align:left\"><pre>and Name<sub>(8)</sub></pre><tr><th><pre>Comma</pre><td style=\"text-align:left\"><pre>,<sub>(9)</sub></pre></table>"
            ],
            "text/plain": [
              "(Sentence -> Name,\n",
              " Sentence -> List,\n",
              " List -> EndName,\n",
              " List -> Name Comma List,\n",
              " Name -> tom,\n",
              " Name -> dick,\n",
              " Name -> harry,\n",
              " Comma EndName -> and EndName,\n",
              " and EndName -> and Name,\n",
              " Comma -> ,)"
            ]
          },
          "execution_count": 17,
          "metadata": {},
          "output_type": "execute_result"
        }
      ],
      "source": [
        "G_cs.P"
      ]
    },
    {
      "cell_type": "code",
      "execution_count": null,
      "metadata": {},
      "outputs": [
        {
          "data": {
            "image/svg+xml": [
              "<?xml version=\"1.0\" encoding=\"UTF-8\" standalone=\"no\"?>\n",
              "<!DOCTYPE svg PUBLIC \"-//W3C//DTD SVG 1.1//EN\"\n",
              " \"http://www.w3.org/Graphics/SVG/1.1/DTD/svg11.dtd\">\n",
              "<!-- Generated by graphviz version 2.43.0 (0)\n",
              " -->\n",
              "<!-- Title: %3 Pages: 1 -->\n",
              "<svg width=\"411pt\" height=\"487pt\"\n",
              " viewBox=\"0.00 0.00 411.00 487.08\" xmlns=\"http://www.w3.org/2000/svg\" xmlns:xlink=\"http://www.w3.org/1999/xlink\">\n",
              "<g id=\"graph0\" class=\"graph\" transform=\"scale(1 1) rotate(0) translate(4 483.08)\">\n",
              "<title>%3</title>\n",
              "<polygon fill=\"white\" stroke=\"transparent\" points=\"-4,4 -4,-483.08 407,-483.08 407,4 -4,4\"/>\n",
              "<!-- 1387879347433614742 -->\n",
              "<!-- 7037959224509443089 -->\n",
              "<!-- 1387879347433614742&#45;&gt;7037959224509443089 -->\n",
              "<!-- &#45;3704025415624837736 -->\n",
              "<g id=\"node2\" class=\"node\">\n",
              "<title>&#45;3704025415624837736</title>\n",
              "<path fill=\"none\" stroke=\"black\" stroke-width=\"0.25\" d=\"M221.33,-479.08C221.33,-479.08 179.67,-479.08 179.67,-479.08 175.83,-479.08 172,-475.25 172,-471.41 172,-471.41 172,-463.75 172,-463.75 172,-459.91 175.83,-456.08 179.67,-456.08 179.67,-456.08 221.33,-456.08 221.33,-456.08 225.17,-456.08 229,-459.91 229,-463.75 229,-463.75 229,-471.41 229,-471.41 229,-475.25 225.17,-479.08 221.33,-479.08\"/>\n",
              "<text text-anchor=\"middle\" x=\"200.5\" y=\"-463.88\" font-family=\"Times,serif\" font-size=\"14.00\">Sentence</text>\n",
              "</g>\n",
              "<!-- 6812293336094333855 -->\n",
              "<g id=\"node4\" class=\"node\">\n",
              "<title>6812293336094333855</title>\n",
              "<path fill=\"none\" stroke=\"black\" stroke-width=\"0.25\" d=\"M207.83,-438.08C207.83,-438.08 193.17,-438.08 193.17,-438.08 189.33,-438.08 185.5,-434.25 185.5,-430.41 185.5,-430.41 185.5,-422.75 185.5,-422.75 185.5,-418.91 189.33,-415.08 193.17,-415.08 193.17,-415.08 207.83,-415.08 207.83,-415.08 211.67,-415.08 215.5,-418.91 215.5,-422.75 215.5,-422.75 215.5,-430.41 215.5,-430.41 215.5,-434.25 211.67,-438.08 207.83,-438.08\"/>\n",
              "<text text-anchor=\"middle\" x=\"200.5\" y=\"-422.88\" font-family=\"Times,serif\" font-size=\"14.00\">List</text>\n",
              "</g>\n",
              "<!-- &#45;3704025415624837736&#45;&gt;6812293336094333855 -->\n",
              "<g id=\"edge2\" class=\"edge\">\n",
              "<title>&#45;3704025415624837736&#45;&gt;6812293336094333855</title>\n",
              "<path fill=\"none\" stroke=\"black\" stroke-width=\"0.5\" d=\"M200.5,-455.92C200.5,-450.42 200.5,-443.73 200.5,-438.22\"/>\n",
              "</g>\n",
              "<!-- &#45;138445689054035353 -->\n",
              "<!-- 7037959224509443089&#45;&gt;&#45;138445689054035353 -->\n",
              "<!-- 3019381713321570906 -->\n",
              "<g id=\"node6\" class=\"node\">\n",
              "<title>3019381713321570906</title>\n",
              "<path fill=\"none\" stroke=\"black\" stroke-width=\"0.25\" d=\"M147.83,-397.08C147.83,-397.08 121.17,-397.08 121.17,-397.08 117.33,-397.08 113.5,-393.25 113.5,-389.41 113.5,-389.41 113.5,-381.75 113.5,-381.75 113.5,-377.91 117.33,-374.08 121.17,-374.08 121.17,-374.08 147.83,-374.08 147.83,-374.08 151.67,-374.08 155.5,-377.91 155.5,-381.75 155.5,-381.75 155.5,-389.41 155.5,-389.41 155.5,-393.25 151.67,-397.08 147.83,-397.08\"/>\n",
              "<text text-anchor=\"middle\" x=\"134.5\" y=\"-381.88\" font-family=\"Times,serif\" font-size=\"14.00\">Name</text>\n",
              "</g>\n",
              "<!-- 6812293336094333855&#45;&gt;3019381713321570906 -->\n",
              "<g id=\"edge4\" class=\"edge\">\n",
              "<title>6812293336094333855&#45;&gt;3019381713321570906</title>\n",
              "<path fill=\"none\" stroke=\"black\" stroke-width=\"0.5\" d=\"M185.19,-416.53C175.44,-410.77 162.77,-403.29 152.53,-397.24\"/>\n",
              "</g>\n",
              "<!-- &#45;1399630037871292110 -->\n",
              "<g id=\"node7\" class=\"node\">\n",
              "<title>&#45;1399630037871292110</title>\n",
              "<path fill=\"none\" stroke=\"black\" stroke-width=\"0.25\" d=\"M219.33,-397.08C219.33,-397.08 181.67,-397.08 181.67,-397.08 177.83,-397.08 174,-393.25 174,-389.41 174,-389.41 174,-381.75 174,-381.75 174,-377.91 177.83,-374.08 181.67,-374.08 181.67,-374.08 219.33,-374.08 219.33,-374.08 223.17,-374.08 227,-377.91 227,-381.75 227,-381.75 227,-389.41 227,-389.41 227,-393.25 223.17,-397.08 219.33,-397.08\"/>\n",
              "<text text-anchor=\"middle\" x=\"200.5\" y=\"-381.88\" font-family=\"Times,serif\" font-size=\"14.00\">Comma</text>\n",
              "</g>\n",
              "<!-- 6812293336094333855&#45;&gt;&#45;1399630037871292110 -->\n",
              "<g id=\"edge5\" class=\"edge\">\n",
              "<title>6812293336094333855&#45;&gt;&#45;1399630037871292110</title>\n",
              "<path fill=\"none\" stroke=\"black\" stroke-width=\"0.5\" d=\"M200.5,-414.92C200.5,-409.42 200.5,-402.73 200.5,-397.22\"/>\n",
              "</g>\n",
              "<!-- &#45;4568092741505895778 -->\n",
              "<g id=\"node8\" class=\"node\">\n",
              "<title>&#45;4568092741505895778</title>\n",
              "<path fill=\"none\" stroke=\"black\" stroke-width=\"0.25\" d=\"M267.83,-397.08C267.83,-397.08 253.17,-397.08 253.17,-397.08 249.33,-397.08 245.5,-393.25 245.5,-389.41 245.5,-389.41 245.5,-381.75 245.5,-381.75 245.5,-377.91 249.33,-374.08 253.17,-374.08 253.17,-374.08 267.83,-374.08 267.83,-374.08 271.67,-374.08 275.5,-377.91 275.5,-381.75 275.5,-381.75 275.5,-389.41 275.5,-389.41 275.5,-393.25 271.67,-397.08 267.83,-397.08\"/>\n",
              "<text text-anchor=\"middle\" x=\"260.5\" y=\"-381.88\" font-family=\"Times,serif\" font-size=\"14.00\">List</text>\n",
              "</g>\n",
              "<!-- 6812293336094333855&#45;&gt;&#45;4568092741505895778 -->\n",
              "<g id=\"edge6\" class=\"edge\">\n",
              "<title>6812293336094333855&#45;&gt;&#45;4568092741505895778</title>\n",
              "<path fill=\"none\" stroke=\"black\" stroke-width=\"0.5\" d=\"M215.64,-415.74C224.67,-409.87 236.09,-402.44 245.16,-396.55\"/>\n",
              "</g>\n",
              "<!-- &#45;8013798295201150398 -->\n",
              "<!-- &#45;138445689054035353&#45;&gt;&#45;8013798295201150398 -->\n",
              "<!-- 3019381713321570906&#45;&gt;&#45;1399630037871292110 -->\n",
              "<!-- &#45;5855529828278766305 -->\n",
              "<g id=\"node24\" class=\"node\">\n",
              "<title>&#45;5855529828278766305</title>\n",
              "<path fill=\"none\" stroke=\"black\" stroke-width=\"1.25\" d=\"M141.83,-146C141.83,-146 127.17,-146 127.17,-146 123.33,-146 119.5,-142.17 119.5,-138.33 119.5,-138.33 119.5,-130.67 119.5,-130.67 119.5,-126.83 123.33,-123 127.17,-123 127.17,-123 141.83,-123 141.83,-123 145.67,-123 149.5,-126.83 149.5,-130.67 149.5,-130.67 149.5,-138.33 149.5,-138.33 149.5,-142.17 145.67,-146 141.83,-146\"/>\n",
              "<text text-anchor=\"middle\" x=\"134.5\" y=\"-130.8\" font-family=\"Times,serif\" font-size=\"14.00\">tom</text>\n",
              "</g>\n",
              "<!-- 3019381713321570906&#45;&gt;&#45;5855529828278766305 -->\n",
              "<g id=\"edge30\" class=\"edge\">\n",
              "<title>3019381713321570906&#45;&gt;&#45;5855529828278766305</title>\n",
              "<path fill=\"none\" stroke=\"black\" stroke-width=\"0.5\" d=\"M134.5,-373.97C134.5,-358.65 134.5,-329.44 134.5,-304.58 134.5,-304.58 134.5,-304.58 134.5,-206.52 134.5,-185.07 134.5,-159.97 134.5,-146.09\"/>\n",
              "</g>\n",
              "<!-- &#45;1399630037871292110&#45;&gt;&#45;4568092741505895778 -->\n",
              "<!-- 3004868418945378773 -->\n",
              "<g id=\"node30\" class=\"node\">\n",
              "<title>3004868418945378773</title>\n",
              "<path fill=\"none\" stroke=\"black\" stroke-width=\"1.25\" d=\"M190.5,-23C190.5,-23 186.5,-23 186.5,-23 184.5,-23 182.5,-21 182.5,-19 182.5,-19 182.5,-4 182.5,-4 182.5,-2 184.5,0 186.5,0 186.5,0 190.5,0 190.5,0 192.5,0 194.5,-2 194.5,-4 194.5,-4 194.5,-19 194.5,-19 194.5,-21 192.5,-23 190.5,-23\"/>\n",
              "<text text-anchor=\"middle\" x=\"188.5\" y=\"-7.8\" font-family=\"Times,serif\" font-size=\"14.00\">,</text>\n",
              "</g>\n",
              "<!-- &#45;1399630037871292110&#45;&gt;3004868418945378773 -->\n",
              "<g id=\"edge36\" class=\"edge\">\n",
              "<title>&#45;1399630037871292110&#45;&gt;3004868418945378773</title>\n",
              "<path fill=\"none\" stroke=\"black\" stroke-width=\"0.5\" d=\"M197.9,-374.04C194.37,-358.82 188.5,-329.72 188.5,-304.58 188.5,-304.58 188.5,-304.58 188.5,-92.5 188.5,-67.64 188.5,-38.43 188.5,-23.11\"/>\n",
              "</g>\n",
              "<!-- 582323866581325213 -->\n",
              "<g id=\"node10\" class=\"node\">\n",
              "<title>582323866581325213</title>\n",
              "<path fill=\"none\" stroke=\"black\" stroke-width=\"0.25\" d=\"M250.83,-356.08C250.83,-356.08 224.17,-356.08 224.17,-356.08 220.33,-356.08 216.5,-352.25 216.5,-348.41 216.5,-348.41 216.5,-340.75 216.5,-340.75 216.5,-336.91 220.33,-333.08 224.17,-333.08 224.17,-333.08 250.83,-333.08 250.83,-333.08 254.67,-333.08 258.5,-336.91 258.5,-340.75 258.5,-340.75 258.5,-348.41 258.5,-348.41 258.5,-352.25 254.67,-356.08 250.83,-356.08\"/>\n",
              "<text text-anchor=\"middle\" x=\"237.5\" y=\"-340.88\" font-family=\"Times,serif\" font-size=\"14.00\">Name</text>\n",
              "</g>\n",
              "<!-- &#45;4568092741505895778&#45;&gt;582323866581325213 -->\n",
              "<g id=\"edge10\" class=\"edge\">\n",
              "<title>&#45;4568092741505895778&#45;&gt;582323866581325213</title>\n",
              "<path fill=\"none\" stroke=\"black\" stroke-width=\"0.5\" d=\"M254.22,-373.92C250.97,-368.42 247.02,-361.73 243.78,-356.22\"/>\n",
              "</g>\n",
              "<!-- 1404489325458239117 -->\n",
              "<g id=\"node11\" class=\"node\">\n",
              "<title>1404489325458239117</title>\n",
              "<path fill=\"none\" stroke=\"black\" stroke-width=\"0.25\" d=\"M322.33,-356.08C322.33,-356.08 284.67,-356.08 284.67,-356.08 280.83,-356.08 277,-352.25 277,-348.41 277,-348.41 277,-340.75 277,-340.75 277,-336.91 280.83,-333.08 284.67,-333.08 284.67,-333.08 322.33,-333.08 322.33,-333.08 326.17,-333.08 330,-336.91 330,-340.75 330,-340.75 330,-348.41 330,-348.41 330,-352.25 326.17,-356.08 322.33,-356.08\"/>\n",
              "<text text-anchor=\"middle\" x=\"303.5\" y=\"-340.88\" font-family=\"Times,serif\" font-size=\"14.00\">Comma</text>\n",
              "</g>\n",
              "<!-- &#45;4568092741505895778&#45;&gt;1404489325458239117 -->\n",
              "<g id=\"edge11\" class=\"edge\">\n",
              "<title>&#45;4568092741505895778&#45;&gt;1404489325458239117</title>\n",
              "<path fill=\"none\" stroke=\"black\" stroke-width=\"0.5\" d=\"M272.25,-373.92C278.32,-368.42 285.7,-361.73 291.76,-356.22\"/>\n",
              "</g>\n",
              "<!-- &#45;2606793205261773343 -->\n",
              "<g id=\"node12\" class=\"node\">\n",
              "<title>&#45;2606793205261773343</title>\n",
              "<path fill=\"none\" stroke=\"black\" stroke-width=\"0.25\" d=\"M370.83,-356.08C370.83,-356.08 356.17,-356.08 356.17,-356.08 352.33,-356.08 348.5,-352.25 348.5,-348.41 348.5,-348.41 348.5,-340.75 348.5,-340.75 348.5,-336.91 352.33,-333.08 356.17,-333.08 356.17,-333.08 370.83,-333.08 370.83,-333.08 374.67,-333.08 378.5,-336.91 378.5,-340.75 378.5,-340.75 378.5,-348.41 378.5,-348.41 378.5,-352.25 374.67,-356.08 370.83,-356.08\"/>\n",
              "<text text-anchor=\"middle\" x=\"363.5\" y=\"-340.88\" font-family=\"Times,serif\" font-size=\"14.00\">List</text>\n",
              "</g>\n",
              "<!-- &#45;4568092741505895778&#45;&gt;&#45;2606793205261773343 -->\n",
              "<g id=\"edge12\" class=\"edge\">\n",
              "<title>&#45;4568092741505895778&#45;&gt;&#45;2606793205261773343</title>\n",
              "<path fill=\"none\" stroke=\"black\" stroke-width=\"0.5\" d=\"M275.76,-379.41C291.75,-373.92 317.56,-364.83 339.5,-356.08 342.37,-354.93 345.41,-353.66 348.33,-352.4\"/>\n",
              "</g>\n",
              "<!-- 7180630528261663402 -->\n",
              "<!-- &#45;8013798295201150398&#45;&gt;7180630528261663402 -->\n",
              "<!-- 582323866581325213&#45;&gt;1404489325458239117 -->\n",
              "<!-- 157939517331422433 -->\n",
              "<g id=\"node26\" class=\"node\">\n",
              "<title>157939517331422433</title>\n",
              "<path fill=\"none\" stroke=\"black\" stroke-width=\"1.25\" d=\"M245.83,-105C245.83,-105 229.17,-105 229.17,-105 225.33,-105 221.5,-101.17 221.5,-97.33 221.5,-97.33 221.5,-89.67 221.5,-89.67 221.5,-85.83 225.33,-82 229.17,-82 229.17,-82 245.83,-82 245.83,-82 249.67,-82 253.5,-85.83 253.5,-89.67 253.5,-89.67 253.5,-97.33 253.5,-97.33 253.5,-101.17 249.67,-105 245.83,-105\"/>\n",
              "<text text-anchor=\"middle\" x=\"237.5\" y=\"-89.8\" font-family=\"Times,serif\" font-size=\"14.00\">dick</text>\n",
              "</g>\n",
              "<!-- 582323866581325213&#45;&gt;157939517331422433 -->\n",
              "<g id=\"edge32\" class=\"edge\">\n",
              "<title>582323866581325213&#45;&gt;157939517331422433</title>\n",
              "<path fill=\"none\" stroke=\"black\" stroke-width=\"0.5\" d=\"M237.5,-332.99C237.5,-319.11 237.5,-294.01 237.5,-272.56 237.5,-272.56 237.5,-272.56 237.5,-174.5 237.5,-149.64 237.5,-120.43 237.5,-105.11\"/>\n",
              "</g>\n",
              "<!-- 1404489325458239117&#45;&gt;&#45;2606793205261773343 -->\n",
              "<!-- 7966417419294509 -->\n",
              "<g id=\"node18\" class=\"node\">\n",
              "<title>7966417419294509</title>\n",
              "<ellipse fill=\"black\" stroke=\"black\" cx=\"329.5\" cy=\"-271.56\" rx=\"2.52\" ry=\"2.52\"/>\n",
              "</g>\n",
              "<!-- 1404489325458239117&#45;&gt;7966417419294509 -->\n",
              "<g id=\"edge18\" class=\"edge\">\n",
              "<title>1404489325458239117&#45;&gt;7966417419294509</title>\n",
              "<path fill=\"none\" stroke=\"black\" stroke-width=\"0.5\" d=\"M307.45,-332.79C313.81,-315.41 325.92,-282.33 328.85,-274.33\"/>\n",
              "</g>\n",
              "<!-- 8430523070372531245 -->\n",
              "<g id=\"node14\" class=\"node\">\n",
              "<title>8430523070372531245</title>\n",
              "<path fill=\"none\" stroke=\"black\" stroke-width=\"0.25\" d=\"M387.33,-315.08C387.33,-315.08 339.67,-315.08 339.67,-315.08 335.83,-315.08 332,-311.25 332,-307.41 332,-307.41 332,-299.75 332,-299.75 332,-295.91 335.83,-292.08 339.67,-292.08 339.67,-292.08 387.33,-292.08 387.33,-292.08 391.17,-292.08 395,-295.91 395,-299.75 395,-299.75 395,-307.41 395,-307.41 395,-311.25 391.17,-315.08 387.33,-315.08\"/>\n",
              "<text text-anchor=\"middle\" x=\"363.5\" y=\"-299.88\" font-family=\"Times,serif\" font-size=\"14.00\">EndName</text>\n",
              "</g>\n",
              "<!-- &#45;2606793205261773343&#45;&gt;8430523070372531245 -->\n",
              "<g id=\"edge16\" class=\"edge\">\n",
              "<title>&#45;2606793205261773343&#45;&gt;8430523070372531245</title>\n",
              "<path fill=\"none\" stroke=\"black\" stroke-width=\"0.5\" d=\"M363.5,-332.92C363.5,-327.42 363.5,-320.73 363.5,-315.22\"/>\n",
              "</g>\n",
              "<!-- &#45;7863878995663504204 -->\n",
              "<!-- 7180630528261663402&#45;&gt;&#45;7863878995663504204 -->\n",
              "<!-- 8430523070372531245&#45;&gt;7966417419294509 -->\n",
              "<g id=\"edge19\" class=\"edge\">\n",
              "<title>8430523070372531245&#45;&gt;7966417419294509</title>\n",
              "<path fill=\"none\" stroke=\"black\" stroke-width=\"0.5\" d=\"M351.23,-291.74C343.62,-285.02 334.64,-277.1 331.07,-273.95\"/>\n",
              "</g>\n",
              "<!-- &#45;4218040532177253954 -->\n",
              "<!-- &#45;7863878995663504204&#45;&gt;&#45;4218040532177253954 -->\n",
              "<!-- &#45;8407165154538725958 -->\n",
              "<g id=\"node16\" class=\"node\">\n",
              "<title>&#45;8407165154538725958</title>\n",
              "<path fill=\"none\" stroke=\"black\" stroke-width=\"0.25\" d=\"M313.83,-251.04C313.83,-251.04 301.17,-251.04 301.17,-251.04 297.33,-251.04 293.5,-247.21 293.5,-243.37 293.5,-243.37 293.5,-235.71 293.5,-235.71 293.5,-231.87 297.33,-228.04 301.17,-228.04 301.17,-228.04 313.83,-228.04 313.83,-228.04 317.67,-228.04 321.5,-231.87 321.5,-235.71 321.5,-235.71 321.5,-243.37 321.5,-243.37 321.5,-247.21 317.67,-251.04 313.83,-251.04\"/>\n",
              "<text text-anchor=\"middle\" x=\"307.5\" y=\"-235.84\" font-family=\"Times,serif\" font-size=\"14.00\">and</text>\n",
              "</g>\n",
              "<!-- &#45;5945638093975267639 -->\n",
              "<g id=\"node17\" class=\"node\">\n",
              "<title>&#45;5945638093975267639</title>\n",
              "<path fill=\"none\" stroke=\"black\" stroke-width=\"0.25\" d=\"M395.33,-251.04C395.33,-251.04 347.67,-251.04 347.67,-251.04 343.83,-251.04 340,-247.21 340,-243.37 340,-243.37 340,-235.71 340,-235.71 340,-231.87 343.83,-228.04 347.67,-228.04 347.67,-228.04 395.33,-228.04 395.33,-228.04 399.17,-228.04 403,-231.87 403,-235.71 403,-235.71 403,-243.37 403,-243.37 403,-247.21 399.17,-251.04 395.33,-251.04\"/>\n",
              "<text text-anchor=\"middle\" x=\"371.5\" y=\"-235.84\" font-family=\"Times,serif\" font-size=\"14.00\">EndName</text>\n",
              "</g>\n",
              "<!-- &#45;8407165154538725958&#45;&gt;&#45;5945638093975267639 -->\n",
              "<!-- &#45;2158992946507203588 -->\n",
              "<g id=\"node22\" class=\"node\">\n",
              "<title>&#45;2158992946507203588</title>\n",
              "<ellipse fill=\"black\" stroke=\"black\" cx=\"313.5\" cy=\"-207.52\" rx=\"2.52\" ry=\"2.52\"/>\n",
              "</g>\n",
              "<!-- &#45;8407165154538725958&#45;&gt;&#45;2158992946507203588 -->\n",
              "<g id=\"edge24\" class=\"edge\">\n",
              "<title>&#45;8407165154538725958&#45;&gt;&#45;2158992946507203588</title>\n",
              "<path fill=\"none\" stroke=\"black\" stroke-width=\"0.5\" d=\"M309.67,-227.7C310.96,-221.25 312.47,-213.69 313.14,-210.31\"/>\n",
              "</g>\n",
              "<!-- &#45;5945638093975267639&#45;&gt;&#45;2158992946507203588 -->\n",
              "<g id=\"edge25\" class=\"edge\">\n",
              "<title>&#45;5945638093975267639&#45;&gt;&#45;2158992946507203588</title>\n",
              "<path fill=\"none\" stroke=\"black\" stroke-width=\"0.5\" d=\"M350.89,-227.87C337.08,-220.73 320.5,-212.14 315.21,-209.41\"/>\n",
              "</g>\n",
              "<!-- 7966417419294509&#45;&gt;&#45;8407165154538725958 -->\n",
              "<g id=\"edge20\" class=\"edge\">\n",
              "<title>7966417419294509&#45;&gt;&#45;8407165154538725958</title>\n",
              "<path fill=\"none\" stroke=\"black\" stroke-width=\"0.5\" d=\"M328.32,-268.95C325.89,-265.63 320.17,-257.82 315.33,-251.23\"/>\n",
              "</g>\n",
              "<!-- 7966417419294509&#45;&gt;&#45;5945638093975267639 -->\n",
              "<g id=\"edge21\" class=\"edge\">\n",
              "<title>7966417419294509&#45;&gt;&#45;5945638093975267639</title>\n",
              "<path fill=\"none\" stroke=\"black\" stroke-width=\"0.5\" d=\"M331.3,-269.27C335.64,-266.17 346.98,-258.07 356.51,-251.25\"/>\n",
              "</g>\n",
              "<!-- &#45;5909810110378333357 -->\n",
              "<!-- &#45;4218040532177253954&#45;&gt;&#45;5909810110378333357 -->\n",
              "<!-- &#45;5113647803471148949 -->\n",
              "<g id=\"node20\" class=\"node\">\n",
              "<title>&#45;5113647803471148949</title>\n",
              "<path fill=\"none\" stroke=\"black\" stroke-width=\"1.25\" d=\"M297.83,-187C297.83,-187 285.17,-187 285.17,-187 281.33,-187 277.5,-183.17 277.5,-179.33 277.5,-179.33 277.5,-171.67 277.5,-171.67 277.5,-167.83 281.33,-164 285.17,-164 285.17,-164 297.83,-164 297.83,-164 301.67,-164 305.5,-167.83 305.5,-171.67 305.5,-171.67 305.5,-179.33 305.5,-179.33 305.5,-183.17 301.67,-187 297.83,-187\"/>\n",
              "<text text-anchor=\"middle\" x=\"291.5\" y=\"-171.8\" font-family=\"Times,serif\" font-size=\"14.00\">and</text>\n",
              "</g>\n",
              "<!-- 7238677820985757007 -->\n",
              "<g id=\"node21\" class=\"node\">\n",
              "<title>7238677820985757007</title>\n",
              "<path fill=\"none\" stroke=\"black\" stroke-width=\"0.25\" d=\"M357.83,-187C357.83,-187 331.17,-187 331.17,-187 327.33,-187 323.5,-183.17 323.5,-179.33 323.5,-179.33 323.5,-171.67 323.5,-171.67 323.5,-167.83 327.33,-164 331.17,-164 331.17,-164 357.83,-164 357.83,-164 361.67,-164 365.5,-167.83 365.5,-171.67 365.5,-171.67 365.5,-179.33 365.5,-179.33 365.5,-183.17 361.67,-187 357.83,-187\"/>\n",
              "<text text-anchor=\"middle\" x=\"344.5\" y=\"-171.8\" font-family=\"Times,serif\" font-size=\"14.00\">Name</text>\n",
              "</g>\n",
              "<!-- &#45;5113647803471148949&#45;&gt;7238677820985757007 -->\n",
              "<!-- &#45;6282739756666520738 -->\n",
              "<g id=\"node28\" class=\"node\">\n",
              "<title>&#45;6282739756666520738</title>\n",
              "<path fill=\"none\" stroke=\"black\" stroke-width=\"1.25\" d=\"M355.33,-64C355.33,-64 333.67,-64 333.67,-64 329.83,-64 326,-60.17 326,-56.33 326,-56.33 326,-48.67 326,-48.67 326,-44.83 329.83,-41 333.67,-41 333.67,-41 355.33,-41 355.33,-41 359.17,-41 363,-44.83 363,-48.67 363,-48.67 363,-56.33 363,-56.33 363,-60.17 359.17,-64 355.33,-64\"/>\n",
              "<text text-anchor=\"middle\" x=\"344.5\" y=\"-48.8\" font-family=\"Times,serif\" font-size=\"14.00\">harry</text>\n",
              "</g>\n",
              "<!-- 7238677820985757007&#45;&gt;&#45;6282739756666520738 -->\n",
              "<g id=\"edge34\" class=\"edge\">\n",
              "<title>7238677820985757007&#45;&gt;&#45;6282739756666520738</title>\n",
              "<path fill=\"none\" stroke=\"black\" stroke-width=\"0.5\" d=\"M344.5,-163.76C344.5,-140.74 344.5,-86.88 344.5,-64.04\"/>\n",
              "</g>\n",
              "<!-- &#45;2158992946507203588&#45;&gt;&#45;5113647803471148949 -->\n",
              "<g id=\"edge26\" class=\"edge\">\n",
              "<title>&#45;2158992946507203588&#45;&gt;&#45;5113647803471148949</title>\n",
              "<path fill=\"none\" stroke=\"black\" stroke-width=\"0.5\" d=\"M312.32,-204.91C309.89,-201.59 304.17,-193.78 299.33,-187.19\"/>\n",
              "</g>\n",
              "<!-- &#45;2158992946507203588&#45;&gt;7238677820985757007 -->\n",
              "<g id=\"edge27\" class=\"edge\">\n",
              "<title>&#45;2158992946507203588&#45;&gt;7238677820985757007</title>\n",
              "<path fill=\"none\" stroke=\"black\" stroke-width=\"0.5\" d=\"M314.83,-205.23C318.03,-202.13 326.4,-194.03 333.44,-187.21\"/>\n",
              "</g>\n",
              "<!-- &#45;3061151801293887508 -->\n",
              "<!-- &#45;5909810110378333357&#45;&gt;&#45;3061151801293887508 -->\n",
              "<!-- 9031721197745668412 -->\n",
              "<!-- &#45;3061151801293887508&#45;&gt;9031721197745668412 -->\n",
              "<!-- &#45;4151461310412108465 -->\n",
              "<!-- 9031721197745668412&#45;&gt;&#45;4151461310412108465 -->\n",
              "</g>\n",
              "</svg>\n"
            ],
            "text/plain": [
              "ProductionGraph(Sentence -> List -> Name Comma List -> Name Comma Name Comma List -> Name Comma Name Comma EndName -> Name Comma Name and EndName -> Name Comma Name and Name -> tom Comma Name and Name -> tom Comma dick and Name -> tom Comma dick and harry -> tom , dick and harry)"
            ]
          },
          "execution_count": 18,
          "metadata": {},
          "output_type": "execute_result"
        }
      ],
      "source": [
        "steps = (1, 0), (3, 0), (3, 2), (2, 4), (7, 3), (8, 3), (4, 0), (5, 2), (6, 4), (9, 1)\n",
        "\n",
        "d = Derivation(G_cs).step(steps)\n",
        "\n",
        "ProductionGraph(d)"
      ]
    },
    {
      "cell_type": "markdown",
      "metadata": {},
      "source": [
        "## Tipo 2 (Context-free)"
      ]
    },
    {
      "cell_type": "code",
      "execution_count": null,
      "metadata": {},
      "outputs": [],
      "source": [
        "# pag 23\n",
        "\n",
        "context_free = \"\"\"\n",
        "Sentence -> Name | List and Name\n",
        "List -> Name , List | Name\n",
        "Name -> tom | dick | harry\n",
        "\"\"\""
      ]
    },
    {
      "cell_type": "code",
      "execution_count": null,
      "metadata": {},
      "outputs": [
        {
          "data": {
            "image/svg+xml": [
              "<?xml version=\"1.0\" encoding=\"UTF-8\" standalone=\"no\"?>\n",
              "<!DOCTYPE svg PUBLIC \"-//W3C//DTD SVG 1.1//EN\"\n",
              " \"http://www.w3.org/Graphics/SVG/1.1/DTD/svg11.dtd\">\n",
              "<!-- Generated by graphviz version 2.43.0 (0)\n",
              " -->\n",
              "<!-- Title: %3 Pages: 1 -->\n",
              "<svg width=\"195pt\" height=\"195pt\"\n",
              " viewBox=\"0.00 0.00 195.00 195.00\" xmlns=\"http://www.w3.org/2000/svg\" xmlns:xlink=\"http://www.w3.org/1999/xlink\">\n",
              "<g id=\"graph0\" class=\"graph\" transform=\"scale(1 1) rotate(0) translate(4 191)\">\n",
              "<title>%3</title>\n",
              "<polygon fill=\"white\" stroke=\"transparent\" points=\"-4,4 -4,-191 191,-191 191,4 -4,4\"/>\n",
              "<!-- &#45;3704025415624837736 -->\n",
              "<g id=\"node1\" class=\"node\">\n",
              "<title>&#45;3704025415624837736</title>\n",
              "<path fill=\"none\" stroke=\"black\" stroke-width=\"0.25\" d=\"M133.83,-187C133.83,-187 92.17,-187 92.17,-187 88.33,-187 84.5,-183.17 84.5,-179.33 84.5,-179.33 84.5,-171.67 84.5,-171.67 84.5,-167.83 88.33,-164 92.17,-164 92.17,-164 133.83,-164 133.83,-164 137.67,-164 141.5,-167.83 141.5,-171.67 141.5,-171.67 141.5,-179.33 141.5,-179.33 141.5,-183.17 137.67,-187 133.83,-187\"/>\n",
              "<text text-anchor=\"middle\" x=\"113\" y=\"-171.8\" font-family=\"Times,serif\" font-size=\"14.00\">Sentence</text>\n",
              "</g>\n",
              "<!-- 6812293336094333855 -->\n",
              "<g id=\"node2\" class=\"node\">\n",
              "<title>6812293336094333855</title>\n",
              "<path fill=\"none\" stroke=\"black\" stroke-width=\"0.25\" d=\"M73.33,-146C73.33,-146 58.67,-146 58.67,-146 54.83,-146 51,-142.17 51,-138.33 51,-138.33 51,-130.67 51,-130.67 51,-126.83 54.83,-123 58.67,-123 58.67,-123 73.33,-123 73.33,-123 77.17,-123 81,-126.83 81,-130.67 81,-130.67 81,-138.33 81,-138.33 81,-142.17 77.17,-146 73.33,-146\"/>\n",
              "<text text-anchor=\"middle\" x=\"66\" y=\"-130.8\" font-family=\"Times,serif\" font-size=\"14.00\">List</text>\n",
              "</g>\n",
              "<!-- &#45;3704025415624837736&#45;&gt;6812293336094333855 -->\n",
              "<g id=\"edge1\" class=\"edge\">\n",
              "<title>&#45;3704025415624837736&#45;&gt;6812293336094333855</title>\n",
              "<path fill=\"none\" stroke=\"black\" stroke-width=\"0.5\" d=\"M100.16,-163.84C93.53,-158.34 85.46,-151.65 78.83,-146.14\"/>\n",
              "</g>\n",
              "<!-- &#45;1361865227332794640 -->\n",
              "<g id=\"node3\" class=\"node\">\n",
              "<title>&#45;1361865227332794640</title>\n",
              "<path fill=\"none\" stroke=\"black\" stroke-width=\"1.25\" d=\"M119.33,-146C119.33,-146 106.67,-146 106.67,-146 102.83,-146 99,-142.17 99,-138.33 99,-138.33 99,-130.67 99,-130.67 99,-126.83 102.83,-123 106.67,-123 106.67,-123 119.33,-123 119.33,-123 123.17,-123 127,-126.83 127,-130.67 127,-130.67 127,-138.33 127,-138.33 127,-142.17 123.17,-146 119.33,-146\"/>\n",
              "<text text-anchor=\"middle\" x=\"113\" y=\"-130.8\" font-family=\"Times,serif\" font-size=\"14.00\">and</text>\n",
              "</g>\n",
              "<!-- &#45;3704025415624837736&#45;&gt;&#45;1361865227332794640 -->\n",
              "<g id=\"edge2\" class=\"edge\">\n",
              "<title>&#45;3704025415624837736&#45;&gt;&#45;1361865227332794640</title>\n",
              "<path fill=\"none\" stroke=\"black\" stroke-width=\"0.5\" d=\"M113,-163.84C113,-158.34 113,-151.65 113,-146.14\"/>\n",
              "</g>\n",
              "<!-- 7499968664388213827 -->\n",
              "<g id=\"node4\" class=\"node\">\n",
              "<title>7499968664388213827</title>\n",
              "<path fill=\"none\" stroke=\"black\" stroke-width=\"0.25\" d=\"M179.33,-146C179.33,-146 152.67,-146 152.67,-146 148.83,-146 145,-142.17 145,-138.33 145,-138.33 145,-130.67 145,-130.67 145,-126.83 148.83,-123 152.67,-123 152.67,-123 179.33,-123 179.33,-123 183.17,-123 187,-126.83 187,-130.67 187,-130.67 187,-138.33 187,-138.33 187,-142.17 183.17,-146 179.33,-146\"/>\n",
              "<text text-anchor=\"middle\" x=\"166\" y=\"-130.8\" font-family=\"Times,serif\" font-size=\"14.00\">Name</text>\n",
              "</g>\n",
              "<!-- &#45;3704025415624837736&#45;&gt;7499968664388213827 -->\n",
              "<g id=\"edge3\" class=\"edge\">\n",
              "<title>&#45;3704025415624837736&#45;&gt;7499968664388213827</title>\n",
              "<path fill=\"none\" stroke=\"black\" stroke-width=\"0.5\" d=\"M127.48,-163.84C134.96,-158.34 144.06,-151.65 151.54,-146.14\"/>\n",
              "</g>\n",
              "<!-- 6812293336094333855&#45;&gt;&#45;1361865227332794640 -->\n",
              "<!-- 3019381713321570906 -->\n",
              "<g id=\"node5\" class=\"node\">\n",
              "<title>3019381713321570906</title>\n",
              "<path fill=\"none\" stroke=\"black\" stroke-width=\"0.25\" d=\"M34.33,-105C34.33,-105 7.67,-105 7.67,-105 3.83,-105 0,-101.17 0,-97.33 0,-97.33 0,-89.67 0,-89.67 0,-85.83 3.83,-82 7.67,-82 7.67,-82 34.33,-82 34.33,-82 38.17,-82 42,-85.83 42,-89.67 42,-89.67 42,-97.33 42,-97.33 42,-101.17 38.17,-105 34.33,-105\"/>\n",
              "<text text-anchor=\"middle\" x=\"21\" y=\"-89.8\" font-family=\"Times,serif\" font-size=\"14.00\">Name</text>\n",
              "</g>\n",
              "<!-- 6812293336094333855&#45;&gt;3019381713321570906 -->\n",
              "<g id=\"edge6\" class=\"edge\">\n",
              "<title>6812293336094333855&#45;&gt;3019381713321570906</title>\n",
              "<path fill=\"none\" stroke=\"black\" stroke-width=\"0.5\" d=\"M53.7,-122.84C47.35,-117.34 39.63,-110.65 33.28,-105.14\"/>\n",
              "</g>\n",
              "<!-- &#45;6108231079120429201 -->\n",
              "<g id=\"node6\" class=\"node\">\n",
              "<title>&#45;6108231079120429201</title>\n",
              "<path fill=\"none\" stroke=\"black\" stroke-width=\"1.25\" d=\"M68,-105C68,-105 64,-105 64,-105 62,-105 60,-103 60,-101 60,-101 60,-86 60,-86 60,-84 62,-82 64,-82 64,-82 68,-82 68,-82 70,-82 72,-84 72,-86 72,-86 72,-101 72,-101 72,-103 70,-105 68,-105\"/>\n",
              "<text text-anchor=\"middle\" x=\"66\" y=\"-89.8\" font-family=\"Times,serif\" font-size=\"14.00\">,</text>\n",
              "</g>\n",
              "<!-- 6812293336094333855&#45;&gt;&#45;6108231079120429201 -->\n",
              "<g id=\"edge7\" class=\"edge\">\n",
              "<title>6812293336094333855&#45;&gt;&#45;6108231079120429201</title>\n",
              "<path fill=\"none\" stroke=\"black\" stroke-width=\"0.5\" d=\"M66,-122.84C66,-117.34 66,-110.65 66,-105.14\"/>\n",
              "</g>\n",
              "<!-- &#45;4568092741505895778 -->\n",
              "<g id=\"node7\" class=\"node\">\n",
              "<title>&#45;4568092741505895778</title>\n",
              "<path fill=\"none\" stroke=\"black\" stroke-width=\"0.25\" d=\"M112.33,-105C112.33,-105 97.67,-105 97.67,-105 93.83,-105 90,-101.17 90,-97.33 90,-97.33 90,-89.67 90,-89.67 90,-85.83 93.83,-82 97.67,-82 97.67,-82 112.33,-82 112.33,-82 116.17,-82 120,-85.83 120,-89.67 120,-89.67 120,-97.33 120,-97.33 120,-101.17 116.17,-105 112.33,-105\"/>\n",
              "<text text-anchor=\"middle\" x=\"105\" y=\"-89.8\" font-family=\"Times,serif\" font-size=\"14.00\">List</text>\n",
              "</g>\n",
              "<!-- 6812293336094333855&#45;&gt;&#45;4568092741505895778 -->\n",
              "<g id=\"edge8\" class=\"edge\">\n",
              "<title>6812293336094333855&#45;&gt;&#45;4568092741505895778</title>\n",
              "<path fill=\"none\" stroke=\"black\" stroke-width=\"0.5\" d=\"M76.66,-122.84C82.16,-117.34 88.85,-110.65 94.36,-105.14\"/>\n",
              "</g>\n",
              "<!-- &#45;1361865227332794640&#45;&gt;7499968664388213827 -->\n",
              "<!-- &#45;2940961222233056618 -->\n",
              "<g id=\"node11\" class=\"node\">\n",
              "<title>&#45;2940961222233056618</title>\n",
              "<path fill=\"none\" stroke=\"black\" stroke-width=\"1.25\" d=\"M176.83,-105C176.83,-105 155.17,-105 155.17,-105 151.33,-105 147.5,-101.17 147.5,-97.33 147.5,-97.33 147.5,-89.67 147.5,-89.67 147.5,-85.83 151.33,-82 155.17,-82 155.17,-82 176.83,-82 176.83,-82 180.67,-82 184.5,-85.83 184.5,-89.67 184.5,-89.67 184.5,-97.33 184.5,-97.33 184.5,-101.17 180.67,-105 176.83,-105\"/>\n",
              "<text text-anchor=\"middle\" x=\"166\" y=\"-89.8\" font-family=\"Times,serif\" font-size=\"14.00\">harry</text>\n",
              "</g>\n",
              "<!-- 7499968664388213827&#45;&gt;&#45;2940961222233056618 -->\n",
              "<g id=\"edge14\" class=\"edge\">\n",
              "<title>7499968664388213827&#45;&gt;&#45;2940961222233056618</title>\n",
              "<path fill=\"none\" stroke=\"black\" stroke-width=\"0.5\" d=\"M166,-122.84C166,-117.34 166,-110.65 166,-105.14\"/>\n",
              "</g>\n",
              "<!-- 3019381713321570906&#45;&gt;&#45;6108231079120429201 -->\n",
              "<!-- 8044143664143983814 -->\n",
              "<g id=\"node9\" class=\"node\">\n",
              "<title>8044143664143983814</title>\n",
              "<path fill=\"none\" stroke=\"black\" stroke-width=\"1.25\" d=\"M28.33,-64C28.33,-64 13.67,-64 13.67,-64 9.83,-64 6,-60.17 6,-56.33 6,-56.33 6,-48.67 6,-48.67 6,-44.83 9.83,-41 13.67,-41 13.67,-41 28.33,-41 28.33,-41 32.17,-41 36,-44.83 36,-48.67 36,-48.67 36,-56.33 36,-56.33 36,-60.17 32.17,-64 28.33,-64\"/>\n",
              "<text text-anchor=\"middle\" x=\"21\" y=\"-48.8\" font-family=\"Times,serif\" font-size=\"14.00\">tom</text>\n",
              "</g>\n",
              "<!-- 3019381713321570906&#45;&gt;8044143664143983814 -->\n",
              "<g id=\"edge12\" class=\"edge\">\n",
              "<title>3019381713321570906&#45;&gt;8044143664143983814</title>\n",
              "<path fill=\"none\" stroke=\"black\" stroke-width=\"0.5\" d=\"M21,-81.84C21,-76.34 21,-69.65 21,-64.14\"/>\n",
              "</g>\n",
              "<!-- &#45;6108231079120429201&#45;&gt;&#45;4568092741505895778 -->\n",
              "<!-- 582323866581325213 -->\n",
              "<g id=\"node8\" class=\"node\">\n",
              "<title>582323866581325213</title>\n",
              "<path fill=\"none\" stroke=\"black\" stroke-width=\"0.25\" d=\"M118.33,-64C118.33,-64 91.67,-64 91.67,-64 87.83,-64 84,-60.17 84,-56.33 84,-56.33 84,-48.67 84,-48.67 84,-44.83 87.83,-41 91.67,-41 91.67,-41 118.33,-41 118.33,-41 122.17,-41 126,-44.83 126,-48.67 126,-48.67 126,-56.33 126,-56.33 126,-60.17 122.17,-64 118.33,-64\"/>\n",
              "<text text-anchor=\"middle\" x=\"105\" y=\"-48.8\" font-family=\"Times,serif\" font-size=\"14.00\">Name</text>\n",
              "</g>\n",
              "<!-- &#45;4568092741505895778&#45;&gt;582323866581325213 -->\n",
              "<g id=\"edge11\" class=\"edge\">\n",
              "<title>&#45;4568092741505895778&#45;&gt;582323866581325213</title>\n",
              "<path fill=\"none\" stroke=\"black\" stroke-width=\"0.5\" d=\"M105,-81.84C105,-76.34 105,-69.65 105,-64.14\"/>\n",
              "</g>\n",
              "<!-- &#45;9216450824136842361 -->\n",
              "<g id=\"node10\" class=\"node\">\n",
              "<title>&#45;9216450824136842361</title>\n",
              "<path fill=\"none\" stroke=\"black\" stroke-width=\"1.25\" d=\"M113.33,-23C113.33,-23 96.67,-23 96.67,-23 92.83,-23 89,-19.17 89,-15.33 89,-15.33 89,-7.67 89,-7.67 89,-3.83 92.83,0 96.67,0 96.67,0 113.33,0 113.33,0 117.17,0 121,-3.83 121,-7.67 121,-7.67 121,-15.33 121,-15.33 121,-19.17 117.17,-23 113.33,-23\"/>\n",
              "<text text-anchor=\"middle\" x=\"105\" y=\"-7.8\" font-family=\"Times,serif\" font-size=\"14.00\">dick</text>\n",
              "</g>\n",
              "<!-- 582323866581325213&#45;&gt;&#45;9216450824136842361 -->\n",
              "<g id=\"edge13\" class=\"edge\">\n",
              "<title>582323866581325213&#45;&gt;&#45;9216450824136842361</title>\n",
              "<path fill=\"none\" stroke=\"black\" stroke-width=\"0.5\" d=\"M105,-40.84C105,-35.34 105,-28.65 105,-23.14\"/>\n",
              "</g>\n",
              "</g>\n",
              "</svg>\n"
            ],
            "text/plain": [
              "ProductionGraph(Sentence -> List and Name -> Name , List and Name -> Name , Name and Name -> tom , Name and Name -> tom , dick and Name -> tom , dick and harry)"
            ]
          },
          "execution_count": 20,
          "metadata": {},
          "output_type": "execute_result"
        }
      ],
      "source": [
        "steps = (1, 0), (2, 0), (3, 2), (4, 0), (5, 2), (6, 4)\n",
        "\n",
        "G_cf = Grammar.from_string(context_free) # non c'è più il False\n",
        "\n",
        "d = Derivation(G_cf).step(steps)\n",
        "\n",
        "ProductionGraph(d) # finalmente un albero!"
      ]
    },
    {
      "cell_type": "markdown",
      "metadata": {},
      "source": [
        "## Tipo 3 (Regolari)"
      ]
    },
    {
      "cell_type": "code",
      "execution_count": null,
      "metadata": {},
      "outputs": [],
      "source": [
        "# fig. 2.14, pag. 31\n",
        "\n",
        "regular = \"\"\"\n",
        "Sentence -> tom | dick | harry | List\n",
        "List -> tom ListTail | dick ListTail | harry ListTail\n",
        "ListTail -> , List | and tom | and dick | and henry\n",
        "\"\"\"\n",
        "\n",
        "regular_strict = \"\"\"\n",
        "Sentence -> tom | dick | harry | List\n",
        "List -> tom ListTail | dick ListTail | harry ListTail\n",
        "ListTail -> , List | and Tom | and Dick | and Henry\n",
        "Tom -> tom\n",
        "Dick -> dick\n",
        "Henry -> henry\n",
        "\"\"\""
      ]
    },
    {
      "cell_type": "code",
      "execution_count": null,
      "metadata": {},
      "outputs": [
        {
          "data": {
            "image/svg+xml": [
              "<?xml version=\"1.0\" encoding=\"UTF-8\" standalone=\"no\"?>\n",
              "<!DOCTYPE svg PUBLIC \"-//W3C//DTD SVG 1.1//EN\"\n",
              " \"http://www.w3.org/Graphics/SVG/1.1/DTD/svg11.dtd\">\n",
              "<!-- Generated by graphviz version 2.43.0 (0)\n",
              " -->\n",
              "<!-- Title: %3 Pages: 1 -->\n",
              "<svg width=\"180pt\" height=\"277pt\"\n",
              " viewBox=\"0.00 0.00 180.00 277.00\" xmlns=\"http://www.w3.org/2000/svg\" xmlns:xlink=\"http://www.w3.org/1999/xlink\">\n",
              "<g id=\"graph0\" class=\"graph\" transform=\"scale(1 1) rotate(0) translate(4 273)\">\n",
              "<title>%3</title>\n",
              "<polygon fill=\"white\" stroke=\"transparent\" points=\"-4,4 -4,-273 176,-273 176,4 -4,4\"/>\n",
              "<!-- &#45;3704025415624837736 -->\n",
              "<g id=\"node1\" class=\"node\">\n",
              "<title>&#45;3704025415624837736</title>\n",
              "<path fill=\"none\" stroke=\"black\" stroke-width=\"0.25\" d=\"M64.83,-269C64.83,-269 23.17,-269 23.17,-269 19.33,-269 15.5,-265.17 15.5,-261.33 15.5,-261.33 15.5,-253.67 15.5,-253.67 15.5,-249.83 19.33,-246 23.17,-246 23.17,-246 64.83,-246 64.83,-246 68.67,-246 72.5,-249.83 72.5,-253.67 72.5,-253.67 72.5,-261.33 72.5,-261.33 72.5,-265.17 68.67,-269 64.83,-269\"/>\n",
              "<text text-anchor=\"middle\" x=\"44\" y=\"-253.8\" font-family=\"Times,serif\" font-size=\"14.00\">Sentence</text>\n",
              "</g>\n",
              "<!-- 6812293336094333855 -->\n",
              "<g id=\"node2\" class=\"node\">\n",
              "<title>6812293336094333855</title>\n",
              "<path fill=\"none\" stroke=\"black\" stroke-width=\"0.25\" d=\"M51.33,-228C51.33,-228 36.67,-228 36.67,-228 32.83,-228 29,-224.17 29,-220.33 29,-220.33 29,-212.67 29,-212.67 29,-208.83 32.83,-205 36.67,-205 36.67,-205 51.33,-205 51.33,-205 55.17,-205 59,-208.83 59,-212.67 59,-212.67 59,-220.33 59,-220.33 59,-224.17 55.17,-228 51.33,-228\"/>\n",
              "<text text-anchor=\"middle\" x=\"44\" y=\"-212.8\" font-family=\"Times,serif\" font-size=\"14.00\">List</text>\n",
              "</g>\n",
              "<!-- &#45;3704025415624837736&#45;&gt;6812293336094333855 -->\n",
              "<g id=\"edge1\" class=\"edge\">\n",
              "<title>&#45;3704025415624837736&#45;&gt;6812293336094333855</title>\n",
              "<path fill=\"none\" stroke=\"black\" stroke-width=\"0.5\" d=\"M44,-245.84C44,-240.34 44,-233.65 44,-228.14\"/>\n",
              "</g>\n",
              "<!-- 631052858919841455 -->\n",
              "<g id=\"node3\" class=\"node\">\n",
              "<title>631052858919841455</title>\n",
              "<path fill=\"none\" stroke=\"black\" stroke-width=\"1.25\" d=\"M22.33,-187C22.33,-187 7.67,-187 7.67,-187 3.83,-187 0,-183.17 0,-179.33 0,-179.33 0,-171.67 0,-171.67 0,-167.83 3.83,-164 7.67,-164 7.67,-164 22.33,-164 22.33,-164 26.17,-164 30,-167.83 30,-171.67 30,-171.67 30,-179.33 30,-179.33 30,-183.17 26.17,-187 22.33,-187\"/>\n",
              "<text text-anchor=\"middle\" x=\"15\" y=\"-171.8\" font-family=\"Times,serif\" font-size=\"14.00\">tom</text>\n",
              "</g>\n",
              "<!-- 6812293336094333855&#45;&gt;631052858919841455 -->\n",
              "<g id=\"edge2\" class=\"edge\">\n",
              "<title>6812293336094333855&#45;&gt;631052858919841455</title>\n",
              "<path fill=\"none\" stroke=\"black\" stroke-width=\"0.5\" d=\"M36.08,-204.84C31.98,-199.34 27.01,-192.65 22.91,-187.14\"/>\n",
              "</g>\n",
              "<!-- &#45;5359562180381906105 -->\n",
              "<g id=\"node4\" class=\"node\">\n",
              "<title>&#45;5359562180381906105</title>\n",
              "<path fill=\"none\" stroke=\"black\" stroke-width=\"0.25\" d=\"M91.83,-187C91.83,-187 56.17,-187 56.17,-187 52.33,-187 48.5,-183.17 48.5,-179.33 48.5,-179.33 48.5,-171.67 48.5,-171.67 48.5,-167.83 52.33,-164 56.17,-164 56.17,-164 91.83,-164 91.83,-164 95.67,-164 99.5,-167.83 99.5,-171.67 99.5,-171.67 99.5,-179.33 99.5,-179.33 99.5,-183.17 95.67,-187 91.83,-187\"/>\n",
              "<text text-anchor=\"middle\" x=\"74\" y=\"-171.8\" font-family=\"Times,serif\" font-size=\"14.00\">ListTail</text>\n",
              "</g>\n",
              "<!-- 6812293336094333855&#45;&gt;&#45;5359562180381906105 -->\n",
              "<g id=\"edge3\" class=\"edge\">\n",
              "<title>6812293336094333855&#45;&gt;&#45;5359562180381906105</title>\n",
              "<path fill=\"none\" stroke=\"black\" stroke-width=\"0.5\" d=\"M52.2,-204.84C56.43,-199.34 61.58,-192.65 65.81,-187.14\"/>\n",
              "</g>\n",
              "<!-- 631052858919841455&#45;&gt;&#45;5359562180381906105 -->\n",
              "<!-- 8634991601816655217 -->\n",
              "<g id=\"node5\" class=\"node\">\n",
              "<title>8634991601816655217</title>\n",
              "<path fill=\"none\" stroke=\"black\" stroke-width=\"1.25\" d=\"M57,-146C57,-146 53,-146 53,-146 51,-146 49,-144 49,-142 49,-142 49,-127 49,-127 49,-125 51,-123 53,-123 53,-123 57,-123 57,-123 59,-123 61,-125 61,-127 61,-127 61,-142 61,-142 61,-144 59,-146 57,-146\"/>\n",
              "<text text-anchor=\"middle\" x=\"55\" y=\"-130.8\" font-family=\"Times,serif\" font-size=\"14.00\">,</text>\n",
              "</g>\n",
              "<!-- &#45;5359562180381906105&#45;&gt;8634991601816655217 -->\n",
              "<g id=\"edge5\" class=\"edge\">\n",
              "<title>&#45;5359562180381906105&#45;&gt;8634991601816655217</title>\n",
              "<path fill=\"none\" stroke=\"black\" stroke-width=\"0.5\" d=\"M68.81,-163.84C66.13,-158.34 62.87,-151.65 60.19,-146.14\"/>\n",
              "</g>\n",
              "<!-- &#45;9114433961363771768 -->\n",
              "<g id=\"node6\" class=\"node\">\n",
              "<title>&#45;9114433961363771768</title>\n",
              "<path fill=\"none\" stroke=\"black\" stroke-width=\"0.25\" d=\"M101.33,-146C101.33,-146 86.67,-146 86.67,-146 82.83,-146 79,-142.17 79,-138.33 79,-138.33 79,-130.67 79,-130.67 79,-126.83 82.83,-123 86.67,-123 86.67,-123 101.33,-123 101.33,-123 105.17,-123 109,-126.83 109,-130.67 109,-130.67 109,-138.33 109,-138.33 109,-142.17 105.17,-146 101.33,-146\"/>\n",
              "<text text-anchor=\"middle\" x=\"94\" y=\"-130.8\" font-family=\"Times,serif\" font-size=\"14.00\">List</text>\n",
              "</g>\n",
              "<!-- &#45;5359562180381906105&#45;&gt;&#45;9114433961363771768 -->\n",
              "<g id=\"edge6\" class=\"edge\">\n",
              "<title>&#45;5359562180381906105&#45;&gt;&#45;9114433961363771768</title>\n",
              "<path fill=\"none\" stroke=\"black\" stroke-width=\"0.5\" d=\"M79.47,-163.84C82.29,-158.34 85.72,-151.65 88.54,-146.14\"/>\n",
              "</g>\n",
              "<!-- 8634991601816655217&#45;&gt;&#45;9114433961363771768 -->\n",
              "<!-- &#45;1109253390129724579 -->\n",
              "<g id=\"node7\" class=\"node\">\n",
              "<title>&#45;1109253390129724579</title>\n",
              "<path fill=\"none\" stroke=\"black\" stroke-width=\"1.25\" d=\"M72.33,-105C72.33,-105 55.67,-105 55.67,-105 51.83,-105 48,-101.17 48,-97.33 48,-97.33 48,-89.67 48,-89.67 48,-85.83 51.83,-82 55.67,-82 55.67,-82 72.33,-82 72.33,-82 76.17,-82 80,-85.83 80,-89.67 80,-89.67 80,-97.33 80,-97.33 80,-101.17 76.17,-105 72.33,-105\"/>\n",
              "<text text-anchor=\"middle\" x=\"64\" y=\"-89.8\" font-family=\"Times,serif\" font-size=\"14.00\">dick</text>\n",
              "</g>\n",
              "<!-- &#45;9114433961363771768&#45;&gt;&#45;1109253390129724579 -->\n",
              "<g id=\"edge8\" class=\"edge\">\n",
              "<title>&#45;9114433961363771768&#45;&gt;&#45;1109253390129724579</title>\n",
              "<path fill=\"none\" stroke=\"black\" stroke-width=\"0.5\" d=\"M85.8,-122.84C81.57,-117.34 76.42,-110.65 72.19,-105.14\"/>\n",
              "</g>\n",
              "<!-- 2053528624842236254 -->\n",
              "<g id=\"node8\" class=\"node\">\n",
              "<title>2053528624842236254</title>\n",
              "<path fill=\"none\" stroke=\"black\" stroke-width=\"0.25\" d=\"M141.83,-105C141.83,-105 106.17,-105 106.17,-105 102.33,-105 98.5,-101.17 98.5,-97.33 98.5,-97.33 98.5,-89.67 98.5,-89.67 98.5,-85.83 102.33,-82 106.17,-82 106.17,-82 141.83,-82 141.83,-82 145.67,-82 149.5,-85.83 149.5,-89.67 149.5,-89.67 149.5,-97.33 149.5,-97.33 149.5,-101.17 145.67,-105 141.83,-105\"/>\n",
              "<text text-anchor=\"middle\" x=\"124\" y=\"-89.8\" font-family=\"Times,serif\" font-size=\"14.00\">ListTail</text>\n",
              "</g>\n",
              "<!-- &#45;9114433961363771768&#45;&gt;2053528624842236254 -->\n",
              "<g id=\"edge9\" class=\"edge\">\n",
              "<title>&#45;9114433961363771768&#45;&gt;2053528624842236254</title>\n",
              "<path fill=\"none\" stroke=\"black\" stroke-width=\"0.5\" d=\"M102.2,-122.84C106.43,-117.34 111.58,-110.65 115.81,-105.14\"/>\n",
              "</g>\n",
              "<!-- &#45;1109253390129724579&#45;&gt;2053528624842236254 -->\n",
              "<!-- &#45;8407165154538725958 -->\n",
              "<g id=\"node9\" class=\"node\">\n",
              "<title>&#45;8407165154538725958</title>\n",
              "<path fill=\"none\" stroke=\"black\" stroke-width=\"1.25\" d=\"M104.33,-64C104.33,-64 91.67,-64 91.67,-64 87.83,-64 84,-60.17 84,-56.33 84,-56.33 84,-48.67 84,-48.67 84,-44.83 87.83,-41 91.67,-41 91.67,-41 104.33,-41 104.33,-41 108.17,-41 112,-44.83 112,-48.67 112,-48.67 112,-56.33 112,-56.33 112,-60.17 108.17,-64 104.33,-64\"/>\n",
              "<text text-anchor=\"middle\" x=\"98\" y=\"-48.8\" font-family=\"Times,serif\" font-size=\"14.00\">and</text>\n",
              "</g>\n",
              "<!-- 2053528624842236254&#45;&gt;&#45;8407165154538725958 -->\n",
              "<g id=\"edge11\" class=\"edge\">\n",
              "<title>2053528624842236254&#45;&gt;&#45;8407165154538725958</title>\n",
              "<path fill=\"none\" stroke=\"black\" stroke-width=\"0.5\" d=\"M116.9,-81.84C113.23,-76.34 108.76,-69.65 105.1,-64.14\"/>\n",
              "</g>\n",
              "<!-- 1330211211790558091 -->\n",
              "<g id=\"node10\" class=\"node\">\n",
              "<title>1330211211790558091</title>\n",
              "<path fill=\"none\" stroke=\"black\" stroke-width=\"0.25\" d=\"M164.33,-64C164.33,-64 137.67,-64 137.67,-64 133.83,-64 130,-60.17 130,-56.33 130,-56.33 130,-48.67 130,-48.67 130,-44.83 133.83,-41 137.67,-41 137.67,-41 164.33,-41 164.33,-41 168.17,-41 172,-44.83 172,-48.67 172,-48.67 172,-56.33 172,-56.33 172,-60.17 168.17,-64 164.33,-64\"/>\n",
              "<text text-anchor=\"middle\" x=\"151\" y=\"-48.8\" font-family=\"Times,serif\" font-size=\"14.00\">Henry</text>\n",
              "</g>\n",
              "<!-- 2053528624842236254&#45;&gt;1330211211790558091 -->\n",
              "<g id=\"edge12\" class=\"edge\">\n",
              "<title>2053528624842236254&#45;&gt;1330211211790558091</title>\n",
              "<path fill=\"none\" stroke=\"black\" stroke-width=\"0.5\" d=\"M131.38,-81.84C135.19,-76.34 139.82,-69.65 143.63,-64.14\"/>\n",
              "</g>\n",
              "<!-- &#45;8407165154538725958&#45;&gt;1330211211790558091 -->\n",
              "<!-- 4950859270779562275 -->\n",
              "<g id=\"node11\" class=\"node\">\n",
              "<title>4950859270779562275</title>\n",
              "<path fill=\"none\" stroke=\"black\" stroke-width=\"1.25\" d=\"M162.83,-23C162.83,-23 139.17,-23 139.17,-23 135.33,-23 131.5,-19.17 131.5,-15.33 131.5,-15.33 131.5,-7.67 131.5,-7.67 131.5,-3.83 135.33,0 139.17,0 139.17,0 162.83,0 162.83,0 166.67,0 170.5,-3.83 170.5,-7.67 170.5,-7.67 170.5,-15.33 170.5,-15.33 170.5,-19.17 166.67,-23 162.83,-23\"/>\n",
              "<text text-anchor=\"middle\" x=\"151\" y=\"-7.8\" font-family=\"Times,serif\" font-size=\"14.00\">henry</text>\n",
              "</g>\n",
              "<!-- 1330211211790558091&#45;&gt;4950859270779562275 -->\n",
              "<g id=\"edge14\" class=\"edge\">\n",
              "<title>1330211211790558091&#45;&gt;4950859270779562275</title>\n",
              "<path fill=\"none\" stroke=\"black\" stroke-width=\"0.5\" d=\"M151,-40.84C151,-35.34 151,-28.65 151,-23.14\"/>\n",
              "</g>\n",
              "</g>\n",
              "</svg>\n"
            ],
            "text/plain": [
              "ProductionGraph(Sentence -> List -> tom ListTail -> tom , List -> tom , dick ListTail -> tom , dick and Henry -> tom , dick and henry)"
            ]
          },
          "execution_count": 22,
          "metadata": {},
          "output_type": "execute_result"
        }
      ],
      "source": [
        "G_regular = Grammar.from_string(regular_strict)\n",
        "\n",
        "steps = (3, 0), (4, 0), (7, 1), (5, 2), (10, 3), (13, 4)\n",
        "\n",
        "d = Derivation(G_regular).step(steps)\n",
        "\n",
        "ProductionGraph(d) # una \"lista\""
      ]
    },
    {
      "cell_type": "markdown",
      "metadata": {},
      "source": [
        "## Generare le parole"
      ]
    },
    {
      "cell_type": "code",
      "execution_count": null,
      "metadata": {},
      "outputs": [],
      "source": [
        "from liblet import Queue"
      ]
    },
    {
      "cell_type": "code",
      "execution_count": null,
      "metadata": {},
      "outputs": [],
      "source": [
        "# compie max_step passi di visita in ampiezza del grafo\n",
        "# implicito delle derivazioni, restituendo l'eneco di derivazioni\n",
        "# che contucono ad una forma sentenziale composta solo di terminali\n",
        "\n",
        "def produce(G, max_steps = 1):\n",
        "    Q = Queue([Derivation(G)])\n",
        "    D = [] \n",
        "    step = 0\n",
        "    while Q:\n",
        "        if step > max_steps: break\n",
        "        step += 1\n",
        "        derivation = Q.dequeue()\n",
        "        if set(derivation.sentential_form()) <= G.T: \n",
        "            D.append(derivation)\n",
        "        for prod, pos in derivation.possible_steps():\n",
        "            Q.enqueue(derivation.step(prod, pos))\n",
        "    return D"
      ]
    },
    {
      "cell_type": "code",
      "execution_count": null,
      "metadata": {},
      "outputs": [],
      "source": [
        "# la grammatica dell'esercizio facoltativo\n",
        "\n",
        "G = Grammar.from_string(\"\"\"\n",
        "S -> a b c\n",
        "S -> a S Q\n",
        "b Q c -> b b c c\n",
        "c Q -> Q c\n",
        "\"\"\", False)"
      ]
    },
    {
      "cell_type": "code",
      "execution_count": null,
      "metadata": {},
      "outputs": [
        {
          "data": {
            "text/plain": [
              "42"
            ]
          },
          "execution_count": 26,
          "metadata": {},
          "output_type": "execute_result"
        }
      ],
      "source": [
        "# 10k passi per 42 derivazioni!\n",
        "\n",
        "deriv = produce(G, 10_000)\n",
        "len(deriv)"
      ]
    },
    {
      "cell_type": "code",
      "execution_count": null,
      "metadata": {},
      "outputs": [
        {
          "data": {
            "text/plain": [
              "5"
            ]
          },
          "execution_count": 27,
          "metadata": {},
          "output_type": "execute_result"
        }
      ],
      "source": [
        "# ma solo 5 parole distinte (come mai?)\n",
        "\n",
        "words = set(''.join(d.sentential_form()) for d in deriv)\n",
        "len(words)"
      ]
    },
    {
      "cell_type": "code",
      "execution_count": null,
      "metadata": {},
      "outputs": [
        {
          "name": "stdout",
          "output_type": "stream",
          "text": [
            "{'aaaabbbbcccc', 'aabbcc', 'aaabbbccc', 'abc', 'aaaaabbbbbccccc'}\n"
          ]
        }
      ],
      "source": [
        "print(words)"
      ]
    },
    {
      "cell_type": "markdown",
      "metadata": {},
      "source": [
        "# Fare pulizia nelle CF\n",
        "\n",
        "## Una nozione di chiusura"
      ]
    },
    {
      "cell_type": "markdown",
      "metadata": {},
      "source": [
        "Applicare il decoratore [@closure](https://liblet.readthedocs.io/en/latest/api.html#liblet.decorators.closure) ad una funzione `f`  produce una funzione `F` che corrisponde all'applicazione di `f` iterata sino a quando l'argomento ed il valore restituito da quest'ultima coincidono."
      ]
    },
    {
      "cell_type": "code",
      "execution_count": null,
      "metadata": {},
      "outputs": [],
      "source": [
        "from liblet import closure \n",
        "\n",
        "@closure\n",
        "def add_smaller(S):\n",
        "    return S | {x - 1 for x in S if x > 0}"
      ]
    },
    {
      "cell_type": "code",
      "execution_count": null,
      "metadata": {},
      "outputs": [
        {
          "data": {
            "text/plain": [
              "{0, 1, 2, 3, 4, 5}"
            ]
          },
          "execution_count": 30,
          "metadata": {},
          "output_type": "execute_result"
        }
      ],
      "source": [
        "add_smaller({3, 5})"
      ]
    },
    {
      "cell_type": "markdown",
      "metadata": {},
      "source": [
        "## Eliminare simboli non produttivi e/o irraggiungibili"
      ]
    },
    {
      "cell_type": "code",
      "execution_count": null,
      "metadata": {},
      "outputs": [
        {
          "data": {
            "text/plain": [
              "Grammar(N={A, B, C, D, E, F, S}, T={a, b, c, d, e, f}, P=(S -> A B, S -> D E, A -> a, B -> b C, C -> c, D -> d F, E -> e, F -> f D), S=S)"
            ]
          },
          "execution_count": 31,
          "metadata": {},
          "output_type": "execute_result"
        }
      ],
      "source": [
        "# fig 2.27, pag. 49\n",
        "\n",
        "G = Grammar.from_string(\"\"\"\n",
        "S -> A B | D E\n",
        "A -> a\n",
        "B -> b C\n",
        "C -> c\n",
        "D -> d F \n",
        "E -> e \n",
        "F -> f D\n",
        "\"\"\")\n",
        "G"
      ]
    },
    {
      "cell_type": "code",
      "execution_count": null,
      "metadata": {},
      "outputs": [
        {
          "data": {
            "text/plain": [
              "frozenset({'A', 'B', 'C', 'E', 'S', 'a', 'b', 'c', 'd', 'e', 'f'})"
            ]
          },
          "execution_count": 32,
          "metadata": {},
          "output_type": "execute_result"
        }
      ],
      "source": [
        "def find_productive(G):\n",
        "  \n",
        "  @closure\n",
        "  def find(prod):\n",
        "    return prod | {A for A, α in G.P if set(α) <= prod}\n",
        "  \n",
        "  return find(G.T)\n",
        "\n",
        "find_productive(G)"
      ]
    },
    {
      "cell_type": "code",
      "execution_count": null,
      "metadata": {},
      "outputs": [
        {
          "data": {
            "text/plain": [
              "{'A', 'B', 'C', 'D', 'E', 'F', 'S', 'a', 'b', 'c', 'd', 'e', 'f'}"
            ]
          },
          "execution_count": 33,
          "metadata": {},
          "output_type": "execute_result"
        }
      ],
      "source": [
        "from liblet import union_of\n",
        "\n",
        "def find_reachable(G):\n",
        "\n",
        "  @closure\n",
        "  def find(reach):\n",
        "    return reach | union_of(set(α) for A, α in G.P if A in reach)\n",
        "  \n",
        "  return find({G.S})\n",
        "\n",
        "find_reachable(G)"
      ]
    },
    {
      "cell_type": "code",
      "execution_count": null,
      "metadata": {},
      "outputs": [
        {
          "data": {
            "text/plain": [
              "Grammar(N={A, B, C, S}, T={a, b, c}, P=(S -> A B, A -> a, B -> b C, C -> c), S=S)"
            ]
          },
          "execution_count": 34,
          "metadata": {},
          "output_type": "execute_result"
        }
      ],
      "source": [
        "def remove_unproductive_unreachable(G):\n",
        "    Gp = G.restrict_to(find_productive(G))\n",
        "    return Gp.restrict_to(find_reachable(Gp))\n",
        "\n",
        "remove_unproductive_unreachable(G)"
      ]
    }
  ],
  "metadata": {
    "kernelspec": {
      "display_name": "Python 3",
      "language": "python",
      "name": "python3"
    },
    "language_info": {
      "codemirror_mode": {
        "name": "ipython",
        "version": 3
      },
      "file_extension": ".py",
      "mimetype": "text/x-python",
      "name": "python",
      "nbconvert_exporter": "python",
      "pygments_lexer": "ipython3"
    }
  },
  "nbformat": 4,
  "nbformat_minor": 4
}
