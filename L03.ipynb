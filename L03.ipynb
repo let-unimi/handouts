{
  "cells": [
    {
      "cell_type": "markdown",
      "metadata": {},
      "source": [
        "# Tecnciche di programmazione\n",
        "\n",
        "## Backtracking"
      ]
    },
    {
      "cell_type": "markdown",
      "metadata": {},
      "source": [
        "Il [backtracking](https://en.wikipedia.org/wiki/Backtracking) è uno schema di algoritmi ricorsivi per problemi la cui soluzione possa essere costruita incrementalmente a partire da una soluzione \"candidata\". Lo schema generale è\n",
        "\n",
        "```python\n",
        "def backtrack(candidate):\n",
        "    if reject(candidate): return\n",
        "    if accept(candidate): output(candidate)\n",
        "    s = first(candidate)\n",
        "    while s:\n",
        "        backtrack(s)\n",
        "        s = next(candidate)\n",
        "```\n",
        "\n",
        "Le funzioni `reject` e `accept` hanno l'ovvio significato di indicare, rispettivamente, se una soluzione candidata è non corretta (e non ulteriormente emendabile), oppure se costituisce una soluzione (completa). Le funzioni `first` e `next` costruiscono rispettivamente il primo e i successivi candidati a partire dal candidato corrente."
      ]
    },
    {
      "cell_type": "markdown",
      "metadata": {},
      "source": [
        "### Segmentazione di una parola"
      ]
    },
    {
      "cell_type": "code",
      "execution_count": null,
      "metadata": {},
      "outputs": [
        {
          "name": "stdout",
          "output_type": "stream",
          "text": [
            "60374\n"
          ]
        }
      ],
      "source": [
        "from urllib.request import urlopen\n",
        "\n",
        "with urlopen('https://raw.githubusercontent.com/napolux/paroleitaliane/master/paroleitaliane/60000_parole_italiane.txt') as words: \n",
        "    WORDS = frozenset(str(word, 'utf8').strip().upper() for word in words if len(word) > 3)\n",
        "\n",
        "print(len(WORDS))"
      ]
    },
    {
      "cell_type": "code",
      "execution_count": null,
      "metadata": {},
      "outputs": [],
      "source": [
        "WORDS = frozenset(set(['MODERATAMENTE', 'PREVEDIBILE']) | WORDS) # aggiungiamo un paio di parole utili per dopo"
      ]
    },
    {
      "cell_type": "code",
      "execution_count": null,
      "metadata": {},
      "outputs": [],
      "source": [
        "def segmenta(segmenti, resto):\n",
        "    if segmenti and not segmenti[-1] in WORDS: return\n",
        "    if not resto: \n",
        "        print(segmenti)\n",
        "        return\n",
        "    for i in range(1, 1 + len(resto)):\n",
        "        segmenta(segmenti + [resto[:i]], resto[i:])"
      ]
    },
    {
      "cell_type": "code",
      "execution_count": null,
      "metadata": {},
      "outputs": [
        {
          "name": "stdout",
          "output_type": "stream",
          "text": [
            "['SAL', 'IRE', 'MODE', 'RATA', 'MENTE']\n",
            "['SAL', 'IRE', 'MODERATA', 'MENTE']\n",
            "['SAL', 'IRE', 'MODERATAMENTE']\n",
            "['SALI', 'REM', 'ODE', 'RATA', 'MENTE']\n",
            "['SALIRE', 'MODE', 'RATA', 'MENTE']\n",
            "['SALIRE', 'MODERATA', 'MENTE']\n",
            "['SALIRE', 'MODERATAMENTE']\n"
          ]
        }
      ],
      "source": [
        "segmenta([], 'SALIREMODERATAMENTE')"
      ]
    },
    {
      "cell_type": "code",
      "execution_count": null,
      "metadata": {},
      "outputs": [
        {
          "name": "stdout",
          "output_type": "stream",
          "text": [
            "['CON', 'TORNO', 'PREVEDI', 'BILE']\n",
            "['CON', 'TORNO', 'PREVEDIBILE']\n",
            "['CONTORNO', 'PREVEDI', 'BILE']\n",
            "['CONTORNO', 'PREVEDIBILE']\n"
          ]
        }
      ],
      "source": [
        "segmenta([], 'CONTORNOPREVEDIBILE')"
      ]
    },
    {
      "cell_type": "markdown",
      "metadata": {},
      "source": [
        "### Subset sum"
      ]
    },
    {
      "cell_type": "code",
      "execution_count": null,
      "metadata": {},
      "outputs": [
        {
          "name": "stdout",
          "output_type": "stream",
          "text": [
            "{1, 2, 3, 9}\n",
            "{9, 6}\n",
            "{2, 6, 7}\n"
          ]
        }
      ],
      "source": [
        "X = {1, 6, 7, 3, 9, 2}\n",
        "s = 15\n",
        "\n",
        "SOL = set()\n",
        "\n",
        "def subset_sum(X, S):\n",
        "    if sum(S) > s: return\n",
        "    if sum(S) == s: \n",
        "        SOL.add(frozenset(S))\n",
        "        return\n",
        "    for x in X - S:\n",
        "        subset_sum(X - {x}, S | {x})\n",
        "        \n",
        "subset_sum(X, set())\n",
        "for s in SOL: print(set(s))"
      ]
    },
    {
      "cell_type": "markdown",
      "metadata": {},
      "source": [
        "### Esempi supplementari\n",
        "\n",
        "* calcolare la [densità delle soluzioni](https://gist.github.com/mapio/2c8b171110dc6a09dfd6) del [problema delle otto regine](https://en.wikipedia.org/wiki/Eight_queens_puzzle),\n",
        "\n",
        "* enumerare le [soluzioni](https://gist.github.com/mapio/967f3d8793fcab80941dc0b4f370dbeb) del gioco [Find a way](https://play.google.com/store/apps/details?id=com.zerologicgames.findaway),\n",
        "\n",
        "* trovare le [soluzioni](https://gist.github.com/mapio/33f1c381870333fe502e) del [Sudoku](https://en.wikipedia.org/wiki/Sudoku)."
      ]
    },
    {
      "cell_type": "markdown",
      "metadata": {},
      "source": [
        "### <span style='color: red;'>Esercizio per casa</span>\n",
        "\n",
        "Un [quadrato latino](https://en.wikipedia.org/wiki/Latin_square) di dimensione $n$ è una \n",
        "matrice quadrata di $n \\times n$ interi tale che ogni riga e colonna sono una permutazione degli\n",
        "interi tra $0$ e $n-1$; un tale quadrato si dice in forma *normale* (o *ridotta*) se gli nteri\n",
        "sulla prima colonna e sulla prima riga sono in ordine natuarle.\n",
        "\n",
        "I quadrati latini di dimensione 4 in forma normale sono\n",
        "\n",
        "    0123    0123    0123    0123\n",
        "    1032    1032    1230    1302\n",
        "    2301    2310    2301    2031\n",
        "    3210    3201    3012    3210\n",
        "    \n",
        "Scrivete una funzione ricorsiva che, facendo uso della tecnica del *backtracking* emetta tutti \n",
        "i quadrati latini in forma normale di dimensione data.\n",
        "\n",
        "Fate attenzione perché il numero di tali quadrati cresce molto rapidamente, il loro numero (al crescere di $n$) è dato dalla successione \n",
        "\n",
        "    1, 1, 1, 4, 56, 9408, 16942080, 535281401856, 377597570964258816, 7580721483160132811489280…\n",
        "    "
      ]
    },
    {
      "cell_type": "markdown",
      "metadata": {},
      "source": [
        "# Alberi\n",
        "\n",
        "La rappresentazione più comune che sarà adoperata per il corso per gli alberi $n$-ari sono le *lol* (liste di liste)"
      ]
    },
    {
      "cell_type": "code",
      "execution_count": null,
      "metadata": {},
      "outputs": [],
      "source": [
        "# [radice] \n",
        "# [radice alberi…]\n",
        "\n",
        "tree = [1, [11], [12, [121], [122]], [13]]\n",
        "root, *children = tree"
      ]
    },
    {
      "cell_type": "code",
      "execution_count": null,
      "metadata": {},
      "outputs": [
        {
          "data": {
            "text/plain": [
              "1"
            ]
          },
          "execution_count": 8,
          "metadata": {},
          "output_type": "execute_result"
        }
      ],
      "source": [
        "root"
      ]
    },
    {
      "cell_type": "code",
      "execution_count": null,
      "metadata": {},
      "outputs": [
        {
          "data": {
            "text/plain": [
              "[[11], [12, [121], [122]], [13]]"
            ]
          },
          "execution_count": 9,
          "metadata": {},
          "output_type": "execute_result"
        }
      ],
      "source": [
        "children"
      ]
    },
    {
      "cell_type": "code",
      "execution_count": null,
      "metadata": {},
      "outputs": [
        {
          "data": {
            "image/svg+xml": [
              "<?xml version=\"1.0\" encoding=\"UTF-8\" standalone=\"no\"?>\n",
              "<!DOCTYPE svg PUBLIC \"-//W3C//DTD SVG 1.1//EN\"\n",
              " \"http://www.w3.org/Graphics/SVG/1.1/DTD/svg11.dtd\">\n",
              "<!-- Generated by graphviz version 2.43.0 (0)\n",
              " -->\n",
              "<!-- Title: %3 Pages: 1 -->\n",
              "<svg width=\"110pt\" height=\"110pt\"\n",
              " viewBox=\"0.00 0.00 109.74 110.00\" xmlns=\"http://www.w3.org/2000/svg\" xmlns:xlink=\"http://www.w3.org/1999/xlink\">\n",
              "<g id=\"graph0\" class=\"graph\" transform=\"scale(1 1) rotate(0) translate(4 106)\">\n",
              "<title>%3</title>\n",
              "<polygon fill=\"white\" stroke=\"transparent\" points=\"-4,4 -4,-106 105.74,-106 105.74,4 -4,4\"/>\n",
              "<!-- 4559054672 -->\n",
              "<g id=\"node1\" class=\"node\">\n",
              "<title>4559054672</title>\n",
              "<path fill=\"none\" stroke=\"black\" stroke-width=\"0.25\" d=\"M53.24,-102C53.24,-102 48.24,-102 48.24,-102 45.74,-102 43.24,-99.5 43.24,-97 43.24,-97 43.24,-85 43.24,-85 43.24,-82.5 45.74,-80 48.24,-80 48.24,-80 53.24,-80 53.24,-80 55.74,-80 58.24,-82.5 58.24,-85 58.24,-85 58.24,-97 58.24,-97 58.24,-99.5 55.74,-102 53.24,-102\"/>\n",
              "<text text-anchor=\"middle\" x=\"50.74\" y=\"-86.8\" font-family=\"Times,serif\" font-size=\"14.00\">1</text>\n",
              "</g>\n",
              "<!-- 4559054800 -->\n",
              "<g id=\"node2\" class=\"node\">\n",
              "<title>4559054800</title>\n",
              "<path fill=\"none\" stroke=\"black\" stroke-width=\"0.25\" d=\"M14.41,-62C14.41,-62 7.08,-62 7.08,-62 3.42,-62 -0.25,-58.34 -0.25,-54.67 -0.25,-54.67 -0.25,-47.33 -0.25,-47.33 -0.25,-43.66 3.42,-40 7.08,-40 7.08,-40 14.41,-40 14.41,-40 18.07,-40 21.74,-43.66 21.74,-47.33 21.74,-47.33 21.74,-54.67 21.74,-54.67 21.74,-58.34 18.07,-62 14.41,-62\"/>\n",
              "<text text-anchor=\"middle\" x=\"10.74\" y=\"-46.8\" font-family=\"Times,serif\" font-size=\"14.00\">11</text>\n",
              "</g>\n",
              "<!-- 4559054672&#45;&gt;4559054800 -->\n",
              "<g id=\"edge1\" class=\"edge\">\n",
              "<title>4559054672&#45;&gt;4559054800</title>\n",
              "<path fill=\"none\" stroke=\"black\" d=\"M43.03,-82.67C36.86,-76.81 28.13,-68.52 21.31,-62.03\"/>\n",
              "</g>\n",
              "<!-- 4559056400 -->\n",
              "<g id=\"node3\" class=\"node\">\n",
              "<title>4559056400</title>\n",
              "<path fill=\"none\" stroke=\"black\" stroke-width=\"0.25\" d=\"M54.41,-62C54.41,-62 47.08,-62 47.08,-62 43.41,-62 39.74,-58.33 39.74,-54.67 39.74,-54.67 39.74,-47.33 39.74,-47.33 39.74,-43.67 43.41,-40 47.08,-40 47.08,-40 54.41,-40 54.41,-40 58.08,-40 61.74,-43.67 61.74,-47.33 61.74,-47.33 61.74,-54.67 61.74,-54.67 61.74,-58.33 58.08,-62 54.41,-62\"/>\n",
              "<text text-anchor=\"middle\" x=\"50.74\" y=\"-46.8\" font-family=\"Times,serif\" font-size=\"14.00\">12</text>\n",
              "</g>\n",
              "<!-- 4559054672&#45;&gt;4559056400 -->\n",
              "<g id=\"edge2\" class=\"edge\">\n",
              "<title>4559054672&#45;&gt;4559056400</title>\n",
              "<path fill=\"none\" stroke=\"black\" d=\"M50.74,-79.62C50.74,-74.17 50.74,-67.52 50.74,-62.11\"/>\n",
              "</g>\n",
              "<!-- 4559056016 -->\n",
              "<g id=\"node4\" class=\"node\">\n",
              "<title>4559056016</title>\n",
              "<path fill=\"none\" stroke=\"black\" stroke-width=\"0.25\" d=\"M94.41,-62C94.41,-62 87.08,-62 87.08,-62 83.41,-62 79.74,-58.33 79.74,-54.67 79.74,-54.67 79.74,-47.33 79.74,-47.33 79.74,-43.67 83.41,-40 87.08,-40 87.08,-40 94.41,-40 94.41,-40 98.08,-40 101.74,-43.67 101.74,-47.33 101.74,-47.33 101.74,-54.67 101.74,-54.67 101.74,-58.33 98.08,-62 94.41,-62\"/>\n",
              "<text text-anchor=\"middle\" x=\"90.74\" y=\"-46.8\" font-family=\"Times,serif\" font-size=\"14.00\">13</text>\n",
              "</g>\n",
              "<!-- 4559054672&#45;&gt;4559056016 -->\n",
              "<g id=\"edge3\" class=\"edge\">\n",
              "<title>4559054672&#45;&gt;4559056016</title>\n",
              "<path fill=\"none\" stroke=\"black\" d=\"M58.46,-82.67C64.63,-76.81 73.36,-68.52 80.18,-62.03\"/>\n",
              "</g>\n",
              "<!-- 4559054800&#45;&gt;4559056400 -->\n",
              "<!-- 4559056400&#45;&gt;4559056016 -->\n",
              "<!-- 4559055888 -->\n",
              "<g id=\"node5\" class=\"node\">\n",
              "<title>4559055888</title>\n",
              "<path fill=\"none\" stroke=\"black\" stroke-width=\"0.25\" d=\"M33.91,-22C33.91,-22 19.58,-22 19.58,-22 15.91,-22 12.24,-18.33 12.24,-14.67 12.24,-14.67 12.24,-7.33 12.24,-7.33 12.24,-3.67 15.91,0 19.58,0 19.58,0 33.91,0 33.91,0 37.58,0 41.24,-3.67 41.24,-7.33 41.24,-7.33 41.24,-14.67 41.24,-14.67 41.24,-18.33 37.58,-22 33.91,-22\"/>\n",
              "<text text-anchor=\"middle\" x=\"26.74\" y=\"-6.8\" font-family=\"Times,serif\" font-size=\"14.00\">121</text>\n",
              "</g>\n",
              "<!-- 4559056400&#45;&gt;4559055888 -->\n",
              "<g id=\"edge6\" class=\"edge\">\n",
              "<title>4559056400&#45;&gt;4559055888</title>\n",
              "<path fill=\"none\" stroke=\"black\" d=\"M44.19,-39.62C40.74,-34.17 36.54,-27.52 33.13,-22.11\"/>\n",
              "</g>\n",
              "<!-- 4559055952 -->\n",
              "<g id=\"node6\" class=\"node\">\n",
              "<title>4559055952</title>\n",
              "<path fill=\"none\" stroke=\"black\" stroke-width=\"0.25\" d=\"M80.91,-22C80.91,-22 66.58,-22 66.58,-22 62.91,-22 59.24,-18.33 59.24,-14.67 59.24,-14.67 59.24,-7.33 59.24,-7.33 59.24,-3.67 62.91,0 66.58,0 66.58,0 80.91,0 80.91,0 84.58,0 88.24,-3.67 88.24,-7.33 88.24,-7.33 88.24,-14.67 88.24,-14.67 88.24,-18.33 84.58,-22 80.91,-22\"/>\n",
              "<text text-anchor=\"middle\" x=\"73.74\" y=\"-6.8\" font-family=\"Times,serif\" font-size=\"14.00\">122</text>\n",
              "</g>\n",
              "<!-- 4559056400&#45;&gt;4559055952 -->\n",
              "<g id=\"edge7\" class=\"edge\">\n",
              "<title>4559056400&#45;&gt;4559055952</title>\n",
              "<path fill=\"none\" stroke=\"black\" d=\"M57.03,-39.62C60.33,-34.17 64.35,-27.52 67.63,-22.11\"/>\n",
              "</g>\n",
              "<!-- 4559055888&#45;&gt;4559055952 -->\n",
              "</g>\n",
              "</svg>\n"
            ],
            "text/plain": [
              "(1: (11), (12: (121), (122)), (13))"
            ]
          },
          "execution_count": 10,
          "metadata": {},
          "output_type": "execute_result"
        }
      ],
      "source": [
        "# uso di liblet per ottenre una rappresentazione grafica \n",
        "\n",
        "from liblet import Tree\n",
        "\n",
        "t = Tree.from_lol(tree)\n",
        "t"
      ]
    },
    {
      "cell_type": "markdown",
      "metadata": {},
      "source": [
        "## Visite\n",
        "\n",
        "* preordine, \n",
        "* postordine, \n",
        "* per livello."
      ]
    },
    {
      "cell_type": "code",
      "execution_count": null,
      "metadata": {},
      "outputs": [
        {
          "data": {
            "image/svg+xml": [
              "<?xml version=\"1.0\" encoding=\"UTF-8\" standalone=\"no\"?>\n",
              "<!DOCTYPE svg PUBLIC \"-//W3C//DTD SVG 1.1//EN\"\n",
              " \"http://www.w3.org/Graphics/SVG/1.1/DTD/svg11.dtd\">\n",
              "<!-- Generated by graphviz version 2.43.0 (0)\n",
              " -->\n",
              "<!-- Title: %3 Pages: 1 -->\n",
              "<svg width=\"110pt\" height=\"110pt\"\n",
              " viewBox=\"0.00 0.00 109.74 110.00\" xmlns=\"http://www.w3.org/2000/svg\" xmlns:xlink=\"http://www.w3.org/1999/xlink\">\n",
              "<g id=\"graph0\" class=\"graph\" transform=\"scale(1 1) rotate(0) translate(4 106)\">\n",
              "<title>%3</title>\n",
              "<polygon fill=\"white\" stroke=\"transparent\" points=\"-4,4 -4,-106 105.74,-106 105.74,4 -4,4\"/>\n",
              "<!-- 4559054672 -->\n",
              "<g id=\"node1\" class=\"node\">\n",
              "<title>4559054672</title>\n",
              "<path fill=\"none\" stroke=\"black\" stroke-width=\"0.25\" d=\"M53.24,-102C53.24,-102 48.24,-102 48.24,-102 45.74,-102 43.24,-99.5 43.24,-97 43.24,-97 43.24,-85 43.24,-85 43.24,-82.5 45.74,-80 48.24,-80 48.24,-80 53.24,-80 53.24,-80 55.74,-80 58.24,-82.5 58.24,-85 58.24,-85 58.24,-97 58.24,-97 58.24,-99.5 55.74,-102 53.24,-102\"/>\n",
              "<text text-anchor=\"middle\" x=\"50.74\" y=\"-86.8\" font-family=\"Times,serif\" font-size=\"14.00\">1</text>\n",
              "</g>\n",
              "<!-- 4559054800 -->\n",
              "<g id=\"node2\" class=\"node\">\n",
              "<title>4559054800</title>\n",
              "<path fill=\"none\" stroke=\"black\" stroke-width=\"0.25\" d=\"M14.41,-62C14.41,-62 7.08,-62 7.08,-62 3.42,-62 -0.25,-58.34 -0.25,-54.67 -0.25,-54.67 -0.25,-47.33 -0.25,-47.33 -0.25,-43.66 3.42,-40 7.08,-40 7.08,-40 14.41,-40 14.41,-40 18.07,-40 21.74,-43.66 21.74,-47.33 21.74,-47.33 21.74,-54.67 21.74,-54.67 21.74,-58.34 18.07,-62 14.41,-62\"/>\n",
              "<text text-anchor=\"middle\" x=\"10.74\" y=\"-46.8\" font-family=\"Times,serif\" font-size=\"14.00\">11</text>\n",
              "</g>\n",
              "<!-- 4559054672&#45;&gt;4559054800 -->\n",
              "<g id=\"edge1\" class=\"edge\">\n",
              "<title>4559054672&#45;&gt;4559054800</title>\n",
              "<path fill=\"none\" stroke=\"black\" d=\"M43.03,-82.67C36.86,-76.81 28.13,-68.52 21.31,-62.03\"/>\n",
              "</g>\n",
              "<!-- 4559056400 -->\n",
              "<g id=\"node3\" class=\"node\">\n",
              "<title>4559056400</title>\n",
              "<path fill=\"none\" stroke=\"black\" stroke-width=\"0.25\" d=\"M54.41,-62C54.41,-62 47.08,-62 47.08,-62 43.41,-62 39.74,-58.33 39.74,-54.67 39.74,-54.67 39.74,-47.33 39.74,-47.33 39.74,-43.67 43.41,-40 47.08,-40 47.08,-40 54.41,-40 54.41,-40 58.08,-40 61.74,-43.67 61.74,-47.33 61.74,-47.33 61.74,-54.67 61.74,-54.67 61.74,-58.33 58.08,-62 54.41,-62\"/>\n",
              "<text text-anchor=\"middle\" x=\"50.74\" y=\"-46.8\" font-family=\"Times,serif\" font-size=\"14.00\">12</text>\n",
              "</g>\n",
              "<!-- 4559054672&#45;&gt;4559056400 -->\n",
              "<g id=\"edge2\" class=\"edge\">\n",
              "<title>4559054672&#45;&gt;4559056400</title>\n",
              "<path fill=\"none\" stroke=\"black\" d=\"M50.74,-79.62C50.74,-74.17 50.74,-67.52 50.74,-62.11\"/>\n",
              "</g>\n",
              "<!-- 4559056016 -->\n",
              "<g id=\"node4\" class=\"node\">\n",
              "<title>4559056016</title>\n",
              "<path fill=\"none\" stroke=\"black\" stroke-width=\"0.25\" d=\"M94.41,-62C94.41,-62 87.08,-62 87.08,-62 83.41,-62 79.74,-58.33 79.74,-54.67 79.74,-54.67 79.74,-47.33 79.74,-47.33 79.74,-43.67 83.41,-40 87.08,-40 87.08,-40 94.41,-40 94.41,-40 98.08,-40 101.74,-43.67 101.74,-47.33 101.74,-47.33 101.74,-54.67 101.74,-54.67 101.74,-58.33 98.08,-62 94.41,-62\"/>\n",
              "<text text-anchor=\"middle\" x=\"90.74\" y=\"-46.8\" font-family=\"Times,serif\" font-size=\"14.00\">13</text>\n",
              "</g>\n",
              "<!-- 4559054672&#45;&gt;4559056016 -->\n",
              "<g id=\"edge3\" class=\"edge\">\n",
              "<title>4559054672&#45;&gt;4559056016</title>\n",
              "<path fill=\"none\" stroke=\"black\" d=\"M58.46,-82.67C64.63,-76.81 73.36,-68.52 80.18,-62.03\"/>\n",
              "</g>\n",
              "<!-- 4559054800&#45;&gt;4559056400 -->\n",
              "<!-- 4559056400&#45;&gt;4559056016 -->\n",
              "<!-- 4559055888 -->\n",
              "<g id=\"node5\" class=\"node\">\n",
              "<title>4559055888</title>\n",
              "<path fill=\"none\" stroke=\"black\" stroke-width=\"0.25\" d=\"M33.91,-22C33.91,-22 19.58,-22 19.58,-22 15.91,-22 12.24,-18.33 12.24,-14.67 12.24,-14.67 12.24,-7.33 12.24,-7.33 12.24,-3.67 15.91,0 19.58,0 19.58,0 33.91,0 33.91,0 37.58,0 41.24,-3.67 41.24,-7.33 41.24,-7.33 41.24,-14.67 41.24,-14.67 41.24,-18.33 37.58,-22 33.91,-22\"/>\n",
              "<text text-anchor=\"middle\" x=\"26.74\" y=\"-6.8\" font-family=\"Times,serif\" font-size=\"14.00\">121</text>\n",
              "</g>\n",
              "<!-- 4559056400&#45;&gt;4559055888 -->\n",
              "<g id=\"edge6\" class=\"edge\">\n",
              "<title>4559056400&#45;&gt;4559055888</title>\n",
              "<path fill=\"none\" stroke=\"black\" d=\"M44.19,-39.62C40.74,-34.17 36.54,-27.52 33.13,-22.11\"/>\n",
              "</g>\n",
              "<!-- 4559055952 -->\n",
              "<g id=\"node6\" class=\"node\">\n",
              "<title>4559055952</title>\n",
              "<path fill=\"none\" stroke=\"black\" stroke-width=\"0.25\" d=\"M80.91,-22C80.91,-22 66.58,-22 66.58,-22 62.91,-22 59.24,-18.33 59.24,-14.67 59.24,-14.67 59.24,-7.33 59.24,-7.33 59.24,-3.67 62.91,0 66.58,0 66.58,0 80.91,0 80.91,0 84.58,0 88.24,-3.67 88.24,-7.33 88.24,-7.33 88.24,-14.67 88.24,-14.67 88.24,-18.33 84.58,-22 80.91,-22\"/>\n",
              "<text text-anchor=\"middle\" x=\"73.74\" y=\"-6.8\" font-family=\"Times,serif\" font-size=\"14.00\">122</text>\n",
              "</g>\n",
              "<!-- 4559056400&#45;&gt;4559055952 -->\n",
              "<g id=\"edge7\" class=\"edge\">\n",
              "<title>4559056400&#45;&gt;4559055952</title>\n",
              "<path fill=\"none\" stroke=\"black\" d=\"M57.03,-39.62C60.33,-34.17 64.35,-27.52 67.63,-22.11\"/>\n",
              "</g>\n",
              "<!-- 4559055888&#45;&gt;4559055952 -->\n",
              "</g>\n",
              "</svg>\n"
            ],
            "text/plain": [
              "(1: (11), (12: (121), (122)), (13))"
            ]
          },
          "execution_count": 11,
          "metadata": {},
          "output_type": "execute_result"
        }
      ],
      "source": [
        "def preorder(tree, visitor):\n",
        "    root, *children = tree\n",
        "    visitor(root)\n",
        "    for st in children: preorder(st, visitor)\n",
        "        \n",
        "t        "
      ]
    },
    {
      "cell_type": "code",
      "execution_count": null,
      "metadata": {},
      "outputs": [
        {
          "name": "stdout",
          "output_type": "stream",
          "text": [
            "1\n",
            "11\n",
            "12\n",
            "121\n",
            "122\n",
            "13\n"
          ]
        }
      ],
      "source": [
        "preorder(tree, print)"
      ]
    },
    {
      "cell_type": "code",
      "execution_count": null,
      "metadata": {},
      "outputs": [
        {
          "data": {
            "image/svg+xml": [
              "<?xml version=\"1.0\" encoding=\"UTF-8\" standalone=\"no\"?>\n",
              "<!DOCTYPE svg PUBLIC \"-//W3C//DTD SVG 1.1//EN\"\n",
              " \"http://www.w3.org/Graphics/SVG/1.1/DTD/svg11.dtd\">\n",
              "<!-- Generated by graphviz version 2.43.0 (0)\n",
              " -->\n",
              "<!-- Title: %3 Pages: 1 -->\n",
              "<svg width=\"110pt\" height=\"110pt\"\n",
              " viewBox=\"0.00 0.00 109.74 110.00\" xmlns=\"http://www.w3.org/2000/svg\" xmlns:xlink=\"http://www.w3.org/1999/xlink\">\n",
              "<g id=\"graph0\" class=\"graph\" transform=\"scale(1 1) rotate(0) translate(4 106)\">\n",
              "<title>%3</title>\n",
              "<polygon fill=\"white\" stroke=\"transparent\" points=\"-4,4 -4,-106 105.74,-106 105.74,4 -4,4\"/>\n",
              "<!-- 4559054672 -->\n",
              "<g id=\"node1\" class=\"node\">\n",
              "<title>4559054672</title>\n",
              "<path fill=\"none\" stroke=\"black\" stroke-width=\"0.25\" d=\"M53.24,-102C53.24,-102 48.24,-102 48.24,-102 45.74,-102 43.24,-99.5 43.24,-97 43.24,-97 43.24,-85 43.24,-85 43.24,-82.5 45.74,-80 48.24,-80 48.24,-80 53.24,-80 53.24,-80 55.74,-80 58.24,-82.5 58.24,-85 58.24,-85 58.24,-97 58.24,-97 58.24,-99.5 55.74,-102 53.24,-102\"/>\n",
              "<text text-anchor=\"middle\" x=\"50.74\" y=\"-86.8\" font-family=\"Times,serif\" font-size=\"14.00\">1</text>\n",
              "</g>\n",
              "<!-- 4559054800 -->\n",
              "<g id=\"node2\" class=\"node\">\n",
              "<title>4559054800</title>\n",
              "<path fill=\"none\" stroke=\"black\" stroke-width=\"0.25\" d=\"M14.41,-62C14.41,-62 7.08,-62 7.08,-62 3.42,-62 -0.25,-58.34 -0.25,-54.67 -0.25,-54.67 -0.25,-47.33 -0.25,-47.33 -0.25,-43.66 3.42,-40 7.08,-40 7.08,-40 14.41,-40 14.41,-40 18.07,-40 21.74,-43.66 21.74,-47.33 21.74,-47.33 21.74,-54.67 21.74,-54.67 21.74,-58.34 18.07,-62 14.41,-62\"/>\n",
              "<text text-anchor=\"middle\" x=\"10.74\" y=\"-46.8\" font-family=\"Times,serif\" font-size=\"14.00\">11</text>\n",
              "</g>\n",
              "<!-- 4559054672&#45;&gt;4559054800 -->\n",
              "<g id=\"edge1\" class=\"edge\">\n",
              "<title>4559054672&#45;&gt;4559054800</title>\n",
              "<path fill=\"none\" stroke=\"black\" d=\"M43.03,-82.67C36.86,-76.81 28.13,-68.52 21.31,-62.03\"/>\n",
              "</g>\n",
              "<!-- 4559056400 -->\n",
              "<g id=\"node3\" class=\"node\">\n",
              "<title>4559056400</title>\n",
              "<path fill=\"none\" stroke=\"black\" stroke-width=\"0.25\" d=\"M54.41,-62C54.41,-62 47.08,-62 47.08,-62 43.41,-62 39.74,-58.33 39.74,-54.67 39.74,-54.67 39.74,-47.33 39.74,-47.33 39.74,-43.67 43.41,-40 47.08,-40 47.08,-40 54.41,-40 54.41,-40 58.08,-40 61.74,-43.67 61.74,-47.33 61.74,-47.33 61.74,-54.67 61.74,-54.67 61.74,-58.33 58.08,-62 54.41,-62\"/>\n",
              "<text text-anchor=\"middle\" x=\"50.74\" y=\"-46.8\" font-family=\"Times,serif\" font-size=\"14.00\">12</text>\n",
              "</g>\n",
              "<!-- 4559054672&#45;&gt;4559056400 -->\n",
              "<g id=\"edge2\" class=\"edge\">\n",
              "<title>4559054672&#45;&gt;4559056400</title>\n",
              "<path fill=\"none\" stroke=\"black\" d=\"M50.74,-79.62C50.74,-74.17 50.74,-67.52 50.74,-62.11\"/>\n",
              "</g>\n",
              "<!-- 4559056016 -->\n",
              "<g id=\"node4\" class=\"node\">\n",
              "<title>4559056016</title>\n",
              "<path fill=\"none\" stroke=\"black\" stroke-width=\"0.25\" d=\"M94.41,-62C94.41,-62 87.08,-62 87.08,-62 83.41,-62 79.74,-58.33 79.74,-54.67 79.74,-54.67 79.74,-47.33 79.74,-47.33 79.74,-43.67 83.41,-40 87.08,-40 87.08,-40 94.41,-40 94.41,-40 98.08,-40 101.74,-43.67 101.74,-47.33 101.74,-47.33 101.74,-54.67 101.74,-54.67 101.74,-58.33 98.08,-62 94.41,-62\"/>\n",
              "<text text-anchor=\"middle\" x=\"90.74\" y=\"-46.8\" font-family=\"Times,serif\" font-size=\"14.00\">13</text>\n",
              "</g>\n",
              "<!-- 4559054672&#45;&gt;4559056016 -->\n",
              "<g id=\"edge3\" class=\"edge\">\n",
              "<title>4559054672&#45;&gt;4559056016</title>\n",
              "<path fill=\"none\" stroke=\"black\" d=\"M58.46,-82.67C64.63,-76.81 73.36,-68.52 80.18,-62.03\"/>\n",
              "</g>\n",
              "<!-- 4559054800&#45;&gt;4559056400 -->\n",
              "<!-- 4559056400&#45;&gt;4559056016 -->\n",
              "<!-- 4559055888 -->\n",
              "<g id=\"node5\" class=\"node\">\n",
              "<title>4559055888</title>\n",
              "<path fill=\"none\" stroke=\"black\" stroke-width=\"0.25\" d=\"M33.91,-22C33.91,-22 19.58,-22 19.58,-22 15.91,-22 12.24,-18.33 12.24,-14.67 12.24,-14.67 12.24,-7.33 12.24,-7.33 12.24,-3.67 15.91,0 19.58,0 19.58,0 33.91,0 33.91,0 37.58,0 41.24,-3.67 41.24,-7.33 41.24,-7.33 41.24,-14.67 41.24,-14.67 41.24,-18.33 37.58,-22 33.91,-22\"/>\n",
              "<text text-anchor=\"middle\" x=\"26.74\" y=\"-6.8\" font-family=\"Times,serif\" font-size=\"14.00\">121</text>\n",
              "</g>\n",
              "<!-- 4559056400&#45;&gt;4559055888 -->\n",
              "<g id=\"edge6\" class=\"edge\">\n",
              "<title>4559056400&#45;&gt;4559055888</title>\n",
              "<path fill=\"none\" stroke=\"black\" d=\"M44.19,-39.62C40.74,-34.17 36.54,-27.52 33.13,-22.11\"/>\n",
              "</g>\n",
              "<!-- 4559055952 -->\n",
              "<g id=\"node6\" class=\"node\">\n",
              "<title>4559055952</title>\n",
              "<path fill=\"none\" stroke=\"black\" stroke-width=\"0.25\" d=\"M80.91,-22C80.91,-22 66.58,-22 66.58,-22 62.91,-22 59.24,-18.33 59.24,-14.67 59.24,-14.67 59.24,-7.33 59.24,-7.33 59.24,-3.67 62.91,0 66.58,0 66.58,0 80.91,0 80.91,0 84.58,0 88.24,-3.67 88.24,-7.33 88.24,-7.33 88.24,-14.67 88.24,-14.67 88.24,-18.33 84.58,-22 80.91,-22\"/>\n",
              "<text text-anchor=\"middle\" x=\"73.74\" y=\"-6.8\" font-family=\"Times,serif\" font-size=\"14.00\">122</text>\n",
              "</g>\n",
              "<!-- 4559056400&#45;&gt;4559055952 -->\n",
              "<g id=\"edge7\" class=\"edge\">\n",
              "<title>4559056400&#45;&gt;4559055952</title>\n",
              "<path fill=\"none\" stroke=\"black\" d=\"M57.03,-39.62C60.33,-34.17 64.35,-27.52 67.63,-22.11\"/>\n",
              "</g>\n",
              "<!-- 4559055888&#45;&gt;4559055952 -->\n",
              "</g>\n",
              "</svg>\n"
            ],
            "text/plain": [
              "(1: (11), (12: (121), (122)), (13))"
            ]
          },
          "execution_count": 13,
          "metadata": {},
          "output_type": "execute_result"
        }
      ],
      "source": [
        "def postorder(tree, visitor):\n",
        "    root, *children = tree\n",
        "    for st in children: postorder(st, visitor)\n",
        "    visitor(root)\n",
        "    \n",
        "t    "
      ]
    },
    {
      "cell_type": "code",
      "execution_count": null,
      "metadata": {},
      "outputs": [
        {
          "name": "stdout",
          "output_type": "stream",
          "text": [
            "11\n",
            "121\n",
            "122\n",
            "12\n",
            "13\n",
            "1\n"
          ]
        }
      ],
      "source": [
        "postorder(tree, print)"
      ]
    },
    {
      "cell_type": "code",
      "execution_count": null,
      "metadata": {},
      "outputs": [
        {
          "data": {
            "image/svg+xml": [
              "<?xml version=\"1.0\" encoding=\"UTF-8\" standalone=\"no\"?>\n",
              "<!DOCTYPE svg PUBLIC \"-//W3C//DTD SVG 1.1//EN\"\n",
              " \"http://www.w3.org/Graphics/SVG/1.1/DTD/svg11.dtd\">\n",
              "<!-- Generated by graphviz version 2.43.0 (0)\n",
              " -->\n",
              "<!-- Title: %3 Pages: 1 -->\n",
              "<svg width=\"110pt\" height=\"110pt\"\n",
              " viewBox=\"0.00 0.00 109.74 110.00\" xmlns=\"http://www.w3.org/2000/svg\" xmlns:xlink=\"http://www.w3.org/1999/xlink\">\n",
              "<g id=\"graph0\" class=\"graph\" transform=\"scale(1 1) rotate(0) translate(4 106)\">\n",
              "<title>%3</title>\n",
              "<polygon fill=\"white\" stroke=\"transparent\" points=\"-4,4 -4,-106 105.74,-106 105.74,4 -4,4\"/>\n",
              "<!-- 4559054672 -->\n",
              "<g id=\"node1\" class=\"node\">\n",
              "<title>4559054672</title>\n",
              "<path fill=\"none\" stroke=\"black\" stroke-width=\"0.25\" d=\"M53.24,-102C53.24,-102 48.24,-102 48.24,-102 45.74,-102 43.24,-99.5 43.24,-97 43.24,-97 43.24,-85 43.24,-85 43.24,-82.5 45.74,-80 48.24,-80 48.24,-80 53.24,-80 53.24,-80 55.74,-80 58.24,-82.5 58.24,-85 58.24,-85 58.24,-97 58.24,-97 58.24,-99.5 55.74,-102 53.24,-102\"/>\n",
              "<text text-anchor=\"middle\" x=\"50.74\" y=\"-86.8\" font-family=\"Times,serif\" font-size=\"14.00\">1</text>\n",
              "</g>\n",
              "<!-- 4559054800 -->\n",
              "<g id=\"node2\" class=\"node\">\n",
              "<title>4559054800</title>\n",
              "<path fill=\"none\" stroke=\"black\" stroke-width=\"0.25\" d=\"M14.41,-62C14.41,-62 7.08,-62 7.08,-62 3.42,-62 -0.25,-58.34 -0.25,-54.67 -0.25,-54.67 -0.25,-47.33 -0.25,-47.33 -0.25,-43.66 3.42,-40 7.08,-40 7.08,-40 14.41,-40 14.41,-40 18.07,-40 21.74,-43.66 21.74,-47.33 21.74,-47.33 21.74,-54.67 21.74,-54.67 21.74,-58.34 18.07,-62 14.41,-62\"/>\n",
              "<text text-anchor=\"middle\" x=\"10.74\" y=\"-46.8\" font-family=\"Times,serif\" font-size=\"14.00\">11</text>\n",
              "</g>\n",
              "<!-- 4559054672&#45;&gt;4559054800 -->\n",
              "<g id=\"edge1\" class=\"edge\">\n",
              "<title>4559054672&#45;&gt;4559054800</title>\n",
              "<path fill=\"none\" stroke=\"black\" d=\"M43.03,-82.67C36.86,-76.81 28.13,-68.52 21.31,-62.03\"/>\n",
              "</g>\n",
              "<!-- 4559056400 -->\n",
              "<g id=\"node3\" class=\"node\">\n",
              "<title>4559056400</title>\n",
              "<path fill=\"none\" stroke=\"black\" stroke-width=\"0.25\" d=\"M54.41,-62C54.41,-62 47.08,-62 47.08,-62 43.41,-62 39.74,-58.33 39.74,-54.67 39.74,-54.67 39.74,-47.33 39.74,-47.33 39.74,-43.67 43.41,-40 47.08,-40 47.08,-40 54.41,-40 54.41,-40 58.08,-40 61.74,-43.67 61.74,-47.33 61.74,-47.33 61.74,-54.67 61.74,-54.67 61.74,-58.33 58.08,-62 54.41,-62\"/>\n",
              "<text text-anchor=\"middle\" x=\"50.74\" y=\"-46.8\" font-family=\"Times,serif\" font-size=\"14.00\">12</text>\n",
              "</g>\n",
              "<!-- 4559054672&#45;&gt;4559056400 -->\n",
              "<g id=\"edge2\" class=\"edge\">\n",
              "<title>4559054672&#45;&gt;4559056400</title>\n",
              "<path fill=\"none\" stroke=\"black\" d=\"M50.74,-79.62C50.74,-74.17 50.74,-67.52 50.74,-62.11\"/>\n",
              "</g>\n",
              "<!-- 4559056016 -->\n",
              "<g id=\"node4\" class=\"node\">\n",
              "<title>4559056016</title>\n",
              "<path fill=\"none\" stroke=\"black\" stroke-width=\"0.25\" d=\"M94.41,-62C94.41,-62 87.08,-62 87.08,-62 83.41,-62 79.74,-58.33 79.74,-54.67 79.74,-54.67 79.74,-47.33 79.74,-47.33 79.74,-43.67 83.41,-40 87.08,-40 87.08,-40 94.41,-40 94.41,-40 98.08,-40 101.74,-43.67 101.74,-47.33 101.74,-47.33 101.74,-54.67 101.74,-54.67 101.74,-58.33 98.08,-62 94.41,-62\"/>\n",
              "<text text-anchor=\"middle\" x=\"90.74\" y=\"-46.8\" font-family=\"Times,serif\" font-size=\"14.00\">13</text>\n",
              "</g>\n",
              "<!-- 4559054672&#45;&gt;4559056016 -->\n",
              "<g id=\"edge3\" class=\"edge\">\n",
              "<title>4559054672&#45;&gt;4559056016</title>\n",
              "<path fill=\"none\" stroke=\"black\" d=\"M58.46,-82.67C64.63,-76.81 73.36,-68.52 80.18,-62.03\"/>\n",
              "</g>\n",
              "<!-- 4559054800&#45;&gt;4559056400 -->\n",
              "<!-- 4559056400&#45;&gt;4559056016 -->\n",
              "<!-- 4559055888 -->\n",
              "<g id=\"node5\" class=\"node\">\n",
              "<title>4559055888</title>\n",
              "<path fill=\"none\" stroke=\"black\" stroke-width=\"0.25\" d=\"M33.91,-22C33.91,-22 19.58,-22 19.58,-22 15.91,-22 12.24,-18.33 12.24,-14.67 12.24,-14.67 12.24,-7.33 12.24,-7.33 12.24,-3.67 15.91,0 19.58,0 19.58,0 33.91,0 33.91,0 37.58,0 41.24,-3.67 41.24,-7.33 41.24,-7.33 41.24,-14.67 41.24,-14.67 41.24,-18.33 37.58,-22 33.91,-22\"/>\n",
              "<text text-anchor=\"middle\" x=\"26.74\" y=\"-6.8\" font-family=\"Times,serif\" font-size=\"14.00\">121</text>\n",
              "</g>\n",
              "<!-- 4559056400&#45;&gt;4559055888 -->\n",
              "<g id=\"edge6\" class=\"edge\">\n",
              "<title>4559056400&#45;&gt;4559055888</title>\n",
              "<path fill=\"none\" stroke=\"black\" d=\"M44.19,-39.62C40.74,-34.17 36.54,-27.52 33.13,-22.11\"/>\n",
              "</g>\n",
              "<!-- 4559055952 -->\n",
              "<g id=\"node6\" class=\"node\">\n",
              "<title>4559055952</title>\n",
              "<path fill=\"none\" stroke=\"black\" stroke-width=\"0.25\" d=\"M80.91,-22C80.91,-22 66.58,-22 66.58,-22 62.91,-22 59.24,-18.33 59.24,-14.67 59.24,-14.67 59.24,-7.33 59.24,-7.33 59.24,-3.67 62.91,0 66.58,0 66.58,0 80.91,0 80.91,0 84.58,0 88.24,-3.67 88.24,-7.33 88.24,-7.33 88.24,-14.67 88.24,-14.67 88.24,-18.33 84.58,-22 80.91,-22\"/>\n",
              "<text text-anchor=\"middle\" x=\"73.74\" y=\"-6.8\" font-family=\"Times,serif\" font-size=\"14.00\">122</text>\n",
              "</g>\n",
              "<!-- 4559056400&#45;&gt;4559055952 -->\n",
              "<g id=\"edge7\" class=\"edge\">\n",
              "<title>4559056400&#45;&gt;4559055952</title>\n",
              "<path fill=\"none\" stroke=\"black\" d=\"M57.03,-39.62C60.33,-34.17 64.35,-27.52 67.63,-22.11\"/>\n",
              "</g>\n",
              "<!-- 4559055888&#45;&gt;4559055952 -->\n",
              "</g>\n",
              "</svg>\n"
            ],
            "text/plain": [
              "(1: (11), (12: (121), (122)), (13))"
            ]
          },
          "execution_count": 15,
          "metadata": {},
          "output_type": "execute_result"
        }
      ],
      "source": [
        "# per livelli\n",
        "\n",
        "from collections import deque # https://docs.python.org/3.7/tutorial/datastructures.html#using-lists-as-queues\n",
        "\n",
        "def levelorder(tree, visitor):\n",
        "\n",
        "    Q = deque()\n",
        "    add = Q.append\n",
        "    remove = Q.popleft\n",
        "    \n",
        "    add(tree)\n",
        "    while Q:\n",
        "        tree = remove()\n",
        "        root, *children = tree\n",
        "        visitor(root)\n",
        "        for s in children: add(s)\n",
        "t"
      ]
    },
    {
      "cell_type": "code",
      "execution_count": null,
      "metadata": {},
      "outputs": [
        {
          "name": "stdout",
          "output_type": "stream",
          "text": [
            "1\n",
            "11\n",
            "12\n",
            "13\n",
            "121\n",
            "122\n"
          ]
        }
      ],
      "source": [
        "levelorder(tree, print)"
      ]
    },
    {
      "cell_type": "markdown",
      "metadata": {},
      "source": [
        "# Grafi\n",
        "\n",
        "Per i grafi sono usuali due rappresentazioni: per *archi* (dappresentati da `tuple` di `tuple`) e tramite la relazione di *adiacenza* (rappresentata da un `dict` di `tuple`)."
      ]
    },
    {
      "cell_type": "code",
      "execution_count": null,
      "metadata": {},
      "outputs": [],
      "source": [
        "arcs = (\n",
        "    (1, 2), \n",
        "    (1, 4),\n",
        "    (2, 3), \n",
        "    (3, 2), \n",
        "    (3, 4), \n",
        "    (3, 5)\n",
        ")\n",
        "\n",
        "adjacency = {\n",
        "    1: {2, 4},\n",
        "    2: {3},\n",
        "    3: {2, 4, 5},\n",
        "    4: set(),\n",
        "    5: set()\n",
        "}"
      ]
    },
    {
      "cell_type": "code",
      "execution_count": null,
      "metadata": {},
      "outputs": [
        {
          "data": {
            "image/svg+xml": [
              "<?xml version=\"1.0\" encoding=\"UTF-8\" standalone=\"no\"?>\n",
              "<!DOCTYPE svg PUBLIC \"-//W3C//DTD SVG 1.1//EN\"\n",
              " \"http://www.w3.org/Graphics/SVG/1.1/DTD/svg11.dtd\">\n",
              "<!-- Generated by graphviz version 2.43.0 (0)\n",
              " -->\n",
              "<!-- Title: %3 Pages: 1 -->\n",
              "<svg width=\"332pt\" height=\"98pt\"\n",
              " viewBox=\"0.00 0.00 332.00 98.00\" xmlns=\"http://www.w3.org/2000/svg\" xmlns:xlink=\"http://www.w3.org/1999/xlink\">\n",
              "<g id=\"graph0\" class=\"graph\" transform=\"scale(1 1) rotate(0) translate(4 94)\">\n",
              "<title>%3</title>\n",
              "<polygon fill=\"white\" stroke=\"transparent\" points=\"-4,4 -4,-94 328,-94 328,4 -4,4\"/>\n",
              "<!-- 1 -->\n",
              "<g id=\"node1\" class=\"node\">\n",
              "<title>1</title>\n",
              "<ellipse fill=\"none\" stroke=\"black\" cx=\"27\" cy=\"-41\" rx=\"27\" ry=\"18\"/>\n",
              "<text text-anchor=\"middle\" x=\"27\" y=\"-36.8\" font-family=\"Times,serif\" font-size=\"14.00\">1</text>\n",
              "</g>\n",
              "<!-- 2 -->\n",
              "<g id=\"node2\" class=\"node\">\n",
              "<title>2</title>\n",
              "<ellipse fill=\"none\" stroke=\"black\" cx=\"117\" cy=\"-64\" rx=\"27\" ry=\"18\"/>\n",
              "<text text-anchor=\"middle\" x=\"117\" y=\"-59.8\" font-family=\"Times,serif\" font-size=\"14.00\">2</text>\n",
              "</g>\n",
              "<!-- 1&#45;&gt;2 -->\n",
              "<g id=\"edge1\" class=\"edge\">\n",
              "<title>1&#45;&gt;2</title>\n",
              "<path fill=\"none\" stroke=\"black\" d=\"M52.51,-47.41C61.57,-49.77 72.01,-52.5 81.78,-55.05\"/>\n",
              "<polygon fill=\"black\" stroke=\"black\" points=\"81.06,-58.49 91.62,-57.63 82.83,-51.71 81.06,-58.49\"/>\n",
              "</g>\n",
              "<!-- 4 -->\n",
              "<g id=\"node3\" class=\"node\">\n",
              "<title>4</title>\n",
              "<ellipse fill=\"none\" stroke=\"black\" cx=\"297\" cy=\"-18\" rx=\"27\" ry=\"18\"/>\n",
              "<text text-anchor=\"middle\" x=\"297\" y=\"-13.8\" font-family=\"Times,serif\" font-size=\"14.00\">4</text>\n",
              "</g>\n",
              "<!-- 1&#45;&gt;4 -->\n",
              "<g id=\"edge2\" class=\"edge\">\n",
              "<title>1&#45;&gt;4</title>\n",
              "<path fill=\"none\" stroke=\"black\" d=\"M54.18,-38.75C102.34,-34.62 205.03,-25.81 259.82,-21.11\"/>\n",
              "<polygon fill=\"black\" stroke=\"black\" points=\"260.44,-24.56 270.1,-20.22 259.84,-17.59 260.44,-24.56\"/>\n",
              "</g>\n",
              "<!-- 3 -->\n",
              "<g id=\"node4\" class=\"node\">\n",
              "<title>3</title>\n",
              "<ellipse fill=\"none\" stroke=\"black\" cx=\"207\" cy=\"-64\" rx=\"27\" ry=\"18\"/>\n",
              "<text text-anchor=\"middle\" x=\"207\" y=\"-59.8\" font-family=\"Times,serif\" font-size=\"14.00\">3</text>\n",
              "</g>\n",
              "<!-- 2&#45;&gt;3 -->\n",
              "<g id=\"edge3\" class=\"edge\">\n",
              "<title>2&#45;&gt;3</title>\n",
              "<path fill=\"none\" stroke=\"black\" d=\"M142.51,-57.88C151.4,-57.27 161.62,-57.1 171.22,-57.38\"/>\n",
              "<polygon fill=\"black\" stroke=\"black\" points=\"171.16,-60.88 181.31,-57.86 171.49,-53.89 171.16,-60.88\"/>\n",
              "</g>\n",
              "<!-- 3&#45;&gt;2 -->\n",
              "<g id=\"edge4\" class=\"edge\">\n",
              "<title>3&#45;&gt;2</title>\n",
              "<path fill=\"none\" stroke=\"black\" d=\"M181.31,-70.14C172.41,-70.74 162.18,-70.9 152.59,-70.61\"/>\n",
              "<polygon fill=\"black\" stroke=\"black\" points=\"152.67,-67.11 142.51,-70.12 152.33,-74.1 152.67,-67.11\"/>\n",
              "</g>\n",
              "<!-- 3&#45;&gt;4 -->\n",
              "<g id=\"edge5\" class=\"edge\">\n",
              "<title>3&#45;&gt;4</title>\n",
              "<path fill=\"none\" stroke=\"black\" d=\"M228.85,-53.1C240.03,-47.26 254,-39.96 266.29,-33.53\"/>\n",
              "<polygon fill=\"black\" stroke=\"black\" points=\"268.05,-36.56 275.29,-28.82 264.81,-30.35 268.05,-36.56\"/>\n",
              "</g>\n",
              "<!-- 5 -->\n",
              "<g id=\"node5\" class=\"node\">\n",
              "<title>5</title>\n",
              "<ellipse fill=\"none\" stroke=\"black\" cx=\"297\" cy=\"-72\" rx=\"27\" ry=\"18\"/>\n",
              "<text text-anchor=\"middle\" x=\"297\" y=\"-67.8\" font-family=\"Times,serif\" font-size=\"14.00\">5</text>\n",
              "</g>\n",
              "<!-- 3&#45;&gt;5 -->\n",
              "<g id=\"edge6\" class=\"edge\">\n",
              "<title>3&#45;&gt;5</title>\n",
              "<path fill=\"none\" stroke=\"black\" d=\"M233.93,-66.36C242.09,-67.1 251.26,-67.93 259.99,-68.73\"/>\n",
              "<polygon fill=\"black\" stroke=\"black\" points=\"259.68,-72.21 269.95,-69.63 260.31,-65.24 259.68,-72.21\"/>\n",
              "</g>\n",
              "</g>\n",
              "</svg>\n"
            ],
            "text/plain": [
              "<liblet.display.Graph at 0x110164c10>"
            ]
          },
          "execution_count": 18,
          "metadata": {},
          "output_type": "execute_result"
        }
      ],
      "source": [
        "# uso di liblet per ottenre una rappresentazione grafica \n",
        "\n",
        "from liblet import Graph\n",
        "\n",
        "g = Graph(arcs)\n",
        "g"
      ]
    },
    {
      "cell_type": "markdown",
      "metadata": {},
      "source": [
        "## <span style='color: red;'>Esercizio per casa</span>\n",
        "\n",
        "Scrivete il corpo delle due funzioni seguenti: la prima converte la rappresentazione per adiacenza in quella per archi, la seconda il viceversa."
      ]
    },
    {
      "cell_type": "code",
      "execution_count": null,
      "metadata": {},
      "outputs": [],
      "source": [
        "def adjacency2arcs(adjacency):\n",
        "    arcs = []\n",
        "    # scrivete qui il vostro codice\n",
        "    return tuple(arcs)\n",
        "\n",
        "def arcs2adjacency(arcs):\n",
        "    adjacency = dict()\n",
        "    # scrivete qui il vostro codice\n",
        "    return adjacency"
      ]
    },
    {
      "cell_type": "code",
      "execution_count": null,
      "metadata": {},
      "outputs": [
        {
          "data": {
            "text/plain": [
              "False"
            ]
          },
          "execution_count": 20,
          "metadata": {},
          "output_type": "execute_result"
        }
      ],
      "source": [
        "# se il codice funziona, questa cella e la prossima devono restituire True\n",
        "\n",
        "sorted(adjacency2arcs(adjacency)) == sorted(arcs)"
      ]
    },
    {
      "cell_type": "code",
      "execution_count": null,
      "metadata": {},
      "outputs": [
        {
          "data": {
            "text/plain": [
              "False"
            ]
          },
          "execution_count": 21,
          "metadata": {},
          "output_type": "execute_result"
        }
      ],
      "source": [
        "arcs2adjacency(arcs) == adjacency"
      ]
    },
    {
      "cell_type": "markdown",
      "metadata": {},
      "source": [
        "## Visite\n",
        "\n",
        "* ampiezza,\n",
        "* profondità."
      ]
    },
    {
      "cell_type": "code",
      "execution_count": null,
      "metadata": {},
      "outputs": [
        {
          "data": {
            "image/svg+xml": [
              "<?xml version=\"1.0\" encoding=\"UTF-8\" standalone=\"no\"?>\n",
              "<!DOCTYPE svg PUBLIC \"-//W3C//DTD SVG 1.1//EN\"\n",
              " \"http://www.w3.org/Graphics/SVG/1.1/DTD/svg11.dtd\">\n",
              "<!-- Generated by graphviz version 2.43.0 (0)\n",
              " -->\n",
              "<!-- Title: %3 Pages: 1 -->\n",
              "<svg width=\"332pt\" height=\"98pt\"\n",
              " viewBox=\"0.00 0.00 332.00 98.00\" xmlns=\"http://www.w3.org/2000/svg\" xmlns:xlink=\"http://www.w3.org/1999/xlink\">\n",
              "<g id=\"graph0\" class=\"graph\" transform=\"scale(1 1) rotate(0) translate(4 94)\">\n",
              "<title>%3</title>\n",
              "<polygon fill=\"white\" stroke=\"transparent\" points=\"-4,4 -4,-94 328,-94 328,4 -4,4\"/>\n",
              "<!-- 1 -->\n",
              "<g id=\"node1\" class=\"node\">\n",
              "<title>1</title>\n",
              "<ellipse fill=\"none\" stroke=\"black\" cx=\"27\" cy=\"-41\" rx=\"27\" ry=\"18\"/>\n",
              "<text text-anchor=\"middle\" x=\"27\" y=\"-36.8\" font-family=\"Times,serif\" font-size=\"14.00\">1</text>\n",
              "</g>\n",
              "<!-- 2 -->\n",
              "<g id=\"node2\" class=\"node\">\n",
              "<title>2</title>\n",
              "<ellipse fill=\"none\" stroke=\"black\" cx=\"117\" cy=\"-64\" rx=\"27\" ry=\"18\"/>\n",
              "<text text-anchor=\"middle\" x=\"117\" y=\"-59.8\" font-family=\"Times,serif\" font-size=\"14.00\">2</text>\n",
              "</g>\n",
              "<!-- 1&#45;&gt;2 -->\n",
              "<g id=\"edge1\" class=\"edge\">\n",
              "<title>1&#45;&gt;2</title>\n",
              "<path fill=\"none\" stroke=\"black\" d=\"M52.51,-47.41C61.57,-49.77 72.01,-52.5 81.78,-55.05\"/>\n",
              "<polygon fill=\"black\" stroke=\"black\" points=\"81.06,-58.49 91.62,-57.63 82.83,-51.71 81.06,-58.49\"/>\n",
              "</g>\n",
              "<!-- 4 -->\n",
              "<g id=\"node3\" class=\"node\">\n",
              "<title>4</title>\n",
              "<ellipse fill=\"none\" stroke=\"black\" cx=\"297\" cy=\"-18\" rx=\"27\" ry=\"18\"/>\n",
              "<text text-anchor=\"middle\" x=\"297\" y=\"-13.8\" font-family=\"Times,serif\" font-size=\"14.00\">4</text>\n",
              "</g>\n",
              "<!-- 1&#45;&gt;4 -->\n",
              "<g id=\"edge2\" class=\"edge\">\n",
              "<title>1&#45;&gt;4</title>\n",
              "<path fill=\"none\" stroke=\"black\" d=\"M54.18,-38.75C102.34,-34.62 205.03,-25.81 259.82,-21.11\"/>\n",
              "<polygon fill=\"black\" stroke=\"black\" points=\"260.44,-24.56 270.1,-20.22 259.84,-17.59 260.44,-24.56\"/>\n",
              "</g>\n",
              "<!-- 3 -->\n",
              "<g id=\"node4\" class=\"node\">\n",
              "<title>3</title>\n",
              "<ellipse fill=\"none\" stroke=\"black\" cx=\"207\" cy=\"-64\" rx=\"27\" ry=\"18\"/>\n",
              "<text text-anchor=\"middle\" x=\"207\" y=\"-59.8\" font-family=\"Times,serif\" font-size=\"14.00\">3</text>\n",
              "</g>\n",
              "<!-- 2&#45;&gt;3 -->\n",
              "<g id=\"edge3\" class=\"edge\">\n",
              "<title>2&#45;&gt;3</title>\n",
              "<path fill=\"none\" stroke=\"black\" d=\"M142.51,-57.88C151.4,-57.27 161.62,-57.1 171.22,-57.38\"/>\n",
              "<polygon fill=\"black\" stroke=\"black\" points=\"171.16,-60.88 181.31,-57.86 171.49,-53.89 171.16,-60.88\"/>\n",
              "</g>\n",
              "<!-- 3&#45;&gt;2 -->\n",
              "<g id=\"edge4\" class=\"edge\">\n",
              "<title>3&#45;&gt;2</title>\n",
              "<path fill=\"none\" stroke=\"black\" d=\"M181.31,-70.14C172.41,-70.74 162.18,-70.9 152.59,-70.61\"/>\n",
              "<polygon fill=\"black\" stroke=\"black\" points=\"152.67,-67.11 142.51,-70.12 152.33,-74.1 152.67,-67.11\"/>\n",
              "</g>\n",
              "<!-- 3&#45;&gt;4 -->\n",
              "<g id=\"edge5\" class=\"edge\">\n",
              "<title>3&#45;&gt;4</title>\n",
              "<path fill=\"none\" stroke=\"black\" d=\"M228.85,-53.1C240.03,-47.26 254,-39.96 266.29,-33.53\"/>\n",
              "<polygon fill=\"black\" stroke=\"black\" points=\"268.05,-36.56 275.29,-28.82 264.81,-30.35 268.05,-36.56\"/>\n",
              "</g>\n",
              "<!-- 5 -->\n",
              "<g id=\"node5\" class=\"node\">\n",
              "<title>5</title>\n",
              "<ellipse fill=\"none\" stroke=\"black\" cx=\"297\" cy=\"-72\" rx=\"27\" ry=\"18\"/>\n",
              "<text text-anchor=\"middle\" x=\"297\" y=\"-67.8\" font-family=\"Times,serif\" font-size=\"14.00\">5</text>\n",
              "</g>\n",
              "<!-- 3&#45;&gt;5 -->\n",
              "<g id=\"edge6\" class=\"edge\">\n",
              "<title>3&#45;&gt;5</title>\n",
              "<path fill=\"none\" stroke=\"black\" d=\"M233.93,-66.36C242.09,-67.1 251.26,-67.93 259.99,-68.73\"/>\n",
              "<polygon fill=\"black\" stroke=\"black\" points=\"259.68,-72.21 269.95,-69.63 260.31,-65.24 259.68,-72.21\"/>\n",
              "</g>\n",
              "</g>\n",
              "</svg>\n"
            ],
            "text/plain": [
              "<liblet.display.Graph at 0x110164c10>"
            ]
          },
          "execution_count": 22,
          "metadata": {},
          "output_type": "execute_result"
        }
      ],
      "source": [
        "# una versione ricorsiva \n",
        "\n",
        "def depthfirst(adjacency, start, visit):\n",
        "    def walk(src):\n",
        "        visit(src)\n",
        "        seen.add(src)\n",
        "        for dst in adjacency[src]:\n",
        "            if dst not in seen: \n",
        "                walk(dst)\n",
        "    seen = set()\n",
        "    walk(start)\n",
        "\n",
        "g    "
      ]
    },
    {
      "cell_type": "code",
      "execution_count": null,
      "metadata": {},
      "outputs": [
        {
          "name": "stdout",
          "output_type": "stream",
          "text": [
            "1\n",
            "2\n",
            "3\n",
            "4\n",
            "5\n"
          ]
        }
      ],
      "source": [
        "depthfirst(adjacency, 1, print)"
      ]
    },
    {
      "cell_type": "code",
      "execution_count": null,
      "metadata": {},
      "outputs": [],
      "source": [
        "# versione iterativa (basata su coda, simile a levelorder)\n",
        "\n",
        "from collections import deque\n",
        "\n",
        "def breadthfirst(adjacency, start, visit):\n",
        "    \n",
        "    Q = deque()\n",
        "    add = Q.append\n",
        "    remove = Q.popleft\n",
        "    \n",
        "    seen = set()\n",
        "    add(start)\n",
        "    while Q:\n",
        "        src = remove()\n",
        "        visit(src)\n",
        "        seen.add(src)\n",
        "        for dst in adjacency[src]:\n",
        "            if dst not in seen:\n",
        "                add(dst)"
      ]
    },
    {
      "cell_type": "code",
      "execution_count": null,
      "metadata": {},
      "outputs": [
        {
          "name": "stdout",
          "output_type": "stream",
          "text": [
            "1\n",
            "2\n",
            "4\n",
            "3\n",
            "5\n"
          ]
        }
      ],
      "source": [
        "breadthfirst(adjacency, 1, print)"
      ]
    },
    {
      "cell_type": "markdown",
      "metadata": {},
      "source": [
        "## <span style='color: red;'>Esercizio per casa</span>\n",
        "\n",
        "Scrivete una versione iterativa (basata su uno *stack*, che in Python potete scrivere ispirandovi alla cella seguente) della visita in profondità."
      ]
    },
    {
      "cell_type": "code",
      "execution_count": null,
      "metadata": {},
      "outputs": [
        {
          "name": "stdout",
          "output_type": "stream",
          "text": [
            "tre\n",
            "due\n",
            "un\n"
          ]
        }
      ],
      "source": [
        "# uno stack (LIFO) in Python\n",
        "\n",
        "S = deque()\n",
        "push = S.append\n",
        "pop = S.pop\n",
        "\n",
        "for e in 'un', 'due', 'tre': push(e)\n",
        "    \n",
        "while S:\n",
        "    print(pop())"
      ]
    }
  ],
  "metadata": {
    "kernelspec": {
      "display_name": "Python 3",
      "language": "python",
      "name": "python3"
    },
    "language_info": {
      "codemirror_mode": {
        "name": "ipython",
        "version": 3
      },
      "file_extension": ".py",
      "mimetype": "text/x-python",
      "name": "python",
      "nbconvert_exporter": "python",
      "pygments_lexer": "ipython3"
    }
  },
  "nbformat": 4,
  "nbformat_minor": 4
}
