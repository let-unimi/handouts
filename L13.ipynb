{
 "cells": [
  {
   "cell_type": "code",
   "execution_count": 1,
   "metadata": {},
   "outputs": [],
   "source": [
    "from liblet import Grammar, Derivation, Production, ProductionGraph, show_calls, iter2table"
   ]
  },
  {
   "cell_type": "markdown",
   "metadata": {},
   "source": [
    "# Naïve recursive descent non funziona\n",
    "\n",
    "Se la grammatica non è *prefix-free*…"
   ]
  },
  {
   "cell_type": "code",
   "execution_count": 2,
   "metadata": {},
   "outputs": [
    {
     "name": "stdout",
     "output_type": "stream",
     "text": [
      "Importing Jupyter notebook from L12.ipynb\n"
     ]
    }
   ],
   "source": [
    "import nbimporter\n",
    "from L12 import make_match_source, make_match"
   ]
  },
  {
   "cell_type": "code",
   "execution_count": 3,
   "metadata": {},
   "outputs": [],
   "source": [
    "G = Grammar.from_string(\"\"\"\n",
    "S -> A | a B\n",
    "A -> a\n",
    "B -> b\n",
    "\"\"\")\n",
    "match = make_match(make_match_source(G))"
   ]
  },
  {
   "cell_type": "code",
   "execution_count": 4,
   "metadata": {},
   "outputs": [
    {
     "name": "stdout",
     "output_type": "stream",
     "text": [
      "┌match('S', 'a')\n",
      "│┌match('A', 'a')\n",
      "││┌match('a', 'a')\n",
      "││└─ (True, '')\n",
      "│└─ (True, '')\n",
      "└─ (True, '')\n"
     ]
    },
    {
     "data": {
      "text/plain": [
       "(True, '')"
      ]
     },
     "execution_count": 4,
     "metadata": {},
     "output_type": "execute_result"
    }
   ],
   "source": [
    "match('S', 'a')"
   ]
  },
  {
   "cell_type": "code",
   "execution_count": 5,
   "metadata": {},
   "outputs": [
    {
     "name": "stdout",
     "output_type": "stream",
     "text": [
      "┌match('S', 'ab')\n",
      "│┌match('A', 'ab')\n",
      "││┌match('a', 'ab')\n",
      "││└─ (True, 'b')\n",
      "│└─ (True, 'b')\n",
      "└─ (True, 'b')\n"
     ]
    },
    {
     "data": {
      "text/plain": [
       "(True, 'b')"
      ]
     },
     "execution_count": 5,
     "metadata": {},
     "output_type": "execute_result"
    }
   ],
   "source": [
    "match('S', 'ab')"
   ]
  },
  {
   "cell_type": "markdown",
   "metadata": {},
   "source": [
    "# Continuazioni"
   ]
  },
  {
   "cell_type": "code",
   "execution_count": 6,
   "metadata": {},
   "outputs": [
    {
     "name": "stdout",
     "output_type": "stream",
     "text": [
      "7\n"
     ]
    }
   ],
   "source": [
    "def sum(x, y):\n",
    "    return x + y\n",
    "\n",
    "print(sum(3, 4))"
   ]
  },
  {
   "cell_type": "code",
   "execution_count": 7,
   "metadata": {},
   "outputs": [
    {
     "name": "stdout",
     "output_type": "stream",
     "text": [
      "9\n"
     ]
    }
   ],
   "source": [
    "def sum_c(x, y, cont):\n",
    "    cont(x + y)\n",
    "    \n",
    "sum_c(4, 5, print)"
   ]
  },
  {
   "cell_type": "code",
   "execution_count": 8,
   "metadata": {},
   "outputs": [
    {
     "name": "stdout",
     "output_type": "stream",
     "text": [
      "27\n"
     ]
    }
   ],
   "source": [
    "def mul_c(x, y, cont):\n",
    "    cont(x * y)\n",
    "    \n",
    "mul_c(3, 9, print)"
   ]
  },
  {
   "cell_type": "code",
   "execution_count": 9,
   "metadata": {},
   "outputs": [
    {
     "name": "stdout",
     "output_type": "stream",
     "text": [
      "27\n"
     ]
    }
   ],
   "source": [
    "# print(3 * (4 + 5))\n",
    "\n",
    "def mul_sum(x, y, z, cont):\n",
    "    def t(v):\n",
    "        mul_c(x, v, cont)\n",
    "    sum_c(y, z, t)\n",
    "\n",
    "mul_sum(3, 4, 5, print)"
   ]
  },
  {
   "cell_type": "code",
   "execution_count": 10,
   "metadata": {},
   "outputs": [
    {
     "name": "stdout",
     "output_type": "stream",
     "text": [
      "This is double on ciao\n",
      "ciaociao\n"
     ]
    }
   ],
   "source": [
    "def double(p, cont):\n",
    "    print('This is double on', p)\n",
    "    cont(2 * p)\n",
    "\n",
    "double('ciao', print)"
   ]
  },
  {
   "cell_type": "code",
   "execution_count": 11,
   "metadata": {},
   "outputs": [
    {
     "name": "stdout",
     "output_type": "stream",
     "text": [
      "This is uppercase on ciao\n",
      "Ciao\n"
     ]
    }
   ],
   "source": [
    "def ucfirst(p, cont):\n",
    "    print('This is uppercase on', p)\n",
    "    cont(p.capitalize())\n",
    "\n",
    "ucfirst('ciao', print)    "
   ]
  },
  {
   "cell_type": "code",
   "execution_count": 12,
   "metadata": {},
   "outputs": [
    {
     "name": "stdout",
     "output_type": "stream",
     "text": [
      "This is reverse on ciao\n",
      "oaic\n"
     ]
    }
   ],
   "source": [
    "def reverse(p, cont):\n",
    "    print('This is reverse on', p)\n",
    "    cont(p[::-1])\n",
    "    \n",
    "reverse('ciao', print)    "
   ]
  },
  {
   "cell_type": "code",
   "execution_count": 13,
   "metadata": {},
   "outputs": [
    {
     "name": "stdout",
     "output_type": "stream",
     "text": [
      "This is double on ciao\n",
      "This is uppercase on ciaociao\n",
      "This is reverse on Ciaociao\n",
      "oaicoaiC\n"
     ]
    }
   ],
   "source": [
    "def dur(p, cont):\n",
    "    def tt(p):\n",
    "        def t(p):\n",
    "            reverse(p, cont)\n",
    "        ucfirst(p, t)\n",
    "    double(p, tt)\n",
    "\n",
    "dur('ciao', print)"
   ]
  },
  {
   "cell_type": "markdown",
   "metadata": {},
   "source": [
    "## E il parsing?"
   ]
  },
  {
   "cell_type": "code",
   "execution_count": 14,
   "metadata": {},
   "outputs": [],
   "source": [
    "@show_calls(False)\n",
    "def match(X, rest, tail):\n",
    "\n",
    "    def S_alt0(rest):\n",
    "        match('A', rest, tail)\n",
    "\n",
    "    def S_alt1(rest):\n",
    "        def t(rest):\n",
    "            match('B', rest, tail)\n",
    "        match('a', rest, t)\n",
    "\n",
    "    def B(rest):\n",
    "        match('b', rest, tail)\n",
    "\n",
    "    def A(rest):\n",
    "        match('a', rest, tail)\n",
    "\n",
    "\n",
    "    if X in {'a', 'b'}:\n",
    "\n",
    "        if rest and rest[0] == X: tail(rest[1:])\n",
    "\n",
    "    if X == 'S':\n",
    "\n",
    "        S_alt0(rest)\n",
    "        S_alt1(rest)\n",
    "\n",
    "    elif X == 'A': \n",
    "\n",
    "        A(rest)\n",
    "\n",
    "    elif X == 'B': \n",
    "        \n",
    "        B(rest)"
   ]
  },
  {
   "cell_type": "code",
   "execution_count": 15,
   "metadata": {},
   "outputs": [],
   "source": [
    "def end_match(rest):\n",
    "    if not rest: print('match')"
   ]
  },
  {
   "cell_type": "code",
   "execution_count": 16,
   "metadata": {},
   "outputs": [
    {
     "name": "stdout",
     "output_type": "stream",
     "text": [
      "match('S', 'ab', <function end_match at 0x10bfeae18>)\n",
      " match('A', 'ab', <function end_match at 0x10bfeae18>)\n",
      "  match('a', 'ab', <function end_match at 0x10bfeae18>)\n",
      " match('a', 'ab', <function match.<locals>.S_alt1.<locals>.t at 0x10b9fa158>)\n",
      "  match('B', 'b', <function end_match at 0x10bfeae18>)\n",
      "   match('b', 'b', <function end_match at 0x10bfeae18>)\n",
      "match\n"
     ]
    }
   ],
   "source": [
    "match('S', 'ab', end_match)"
   ]
  },
  {
   "cell_type": "code",
   "execution_count": 17,
   "metadata": {},
   "outputs": [
    {
     "name": "stdout",
     "output_type": "stream",
     "text": [
      "match('S', 'a', <function end_match at 0x10bfeae18>)\n",
      " match('A', 'a', <function end_match at 0x10bfeae18>)\n",
      "  match('a', 'a', <function end_match at 0x10bfeae18>)\n",
      "match\n",
      " match('a', 'a', <function match.<locals>.S_alt1.<locals>.t at 0x10c024400>)\n",
      "  match('B', '', <function end_match at 0x10bfeae18>)\n",
      "   match('b', '', <function end_match at 0x10bfeae18>)\n"
     ]
    }
   ],
   "source": [
    "match('S', 'a', end_match)"
   ]
  },
  {
   "cell_type": "markdown",
   "metadata": {},
   "source": [
    "# Parsing con le continuazioni (tenendo traccia delle derivazioni)"
   ]
  },
  {
   "cell_type": "code",
   "execution_count": 18,
   "metadata": {},
   "outputs": [
    {
     "data": {
      "text/html": [
       "<table><tr><th>0<td style=\"text-align:left\"><pre>S -> A</pre>\n",
       "<tr><th>1<td style=\"text-align:left\"><pre>S -> a B</pre>\n",
       "<tr><th>2<td style=\"text-align:left\"><pre>A -> a</pre>\n",
       "<tr><th>3<td style=\"text-align:left\"><pre>B -> b</pre></table>"
      ],
      "text/plain": [
       "<IPython.core.display.HTML object>"
      ]
     },
     "execution_count": 18,
     "metadata": {},
     "output_type": "execute_result"
    }
   ],
   "source": [
    "iter2table(G.P)"
   ]
  },
  {
   "cell_type": "code",
   "execution_count": 19,
   "metadata": {},
   "outputs": [],
   "source": [
    "def match(deriv, X, rest, tail):\n",
    "\n",
    "    def S_alt0(deriv, rest):\n",
    "        match(deriv, 'A', rest, tail)\n",
    "\n",
    "    def S_alt1(deriv, rest):\n",
    "        def t(deriv, rest):\n",
    "            match(deriv, 'B', rest, tail)\n",
    "        match(deriv, 'a', rest, t)\n",
    "    \n",
    "    def B(deriv, rest):\n",
    "        match(deriv, 'b', rest, tail)\n",
    "\n",
    "    def A(deriv, rest):\n",
    "        match(deriv, 'a', rest, tail)\n",
    "\n",
    "    if X in {'a', 'b'}:\n",
    "\n",
    "        if rest and rest[0] == X: tail(deriv, rest[1:])\n",
    "\n",
    "    elif X == 'S':\n",
    "        \n",
    "        S_alt0(deriv.leftmost(0), rest)\n",
    "        S_alt1(deriv.leftmost(1), rest)\n",
    "\n",
    "    elif X == 'A': \n",
    "        \n",
    "        A(deriv.leftmost(2), rest)\n",
    "\n",
    "    elif X == 'B': \n",
    "        \n",
    "        B(deriv.leftmost(3), rest)"
   ]
  },
  {
   "cell_type": "code",
   "execution_count": 20,
   "metadata": {},
   "outputs": [],
   "source": [
    "def end_match(deriv, rest):\n",
    "    if not rest: print(deriv)"
   ]
  },
  {
   "cell_type": "code",
   "execution_count": 21,
   "metadata": {},
   "outputs": [
    {
     "name": "stdout",
     "output_type": "stream",
     "text": [
      "S -> a B -> a b\n"
     ]
    }
   ],
   "source": [
    "match(Derivation(G), 'S', 'ab', end_match)"
   ]
  },
  {
   "cell_type": "code",
   "execution_count": 22,
   "metadata": {},
   "outputs": [
    {
     "name": "stdout",
     "output_type": "stream",
     "text": [
      "S -> A -> a\n"
     ]
    }
   ],
   "source": [
    "match(Derivation(G), 'S', 'a', end_match)"
   ]
  },
  {
   "cell_type": "markdown",
   "metadata": {},
   "source": [
    "# Un generatore di parser con continuazioni"
   ]
  },
  {
   "cell_type": "code",
   "execution_count": 23,
   "metadata": {},
   "outputs": [],
   "source": [
    "def make_cps_match_source(G, show_calls = True):\n",
    "    code_ifs = []\n",
    "    code_defs = []\n",
    "    code_ifs = ['\\tif X in {}:\\n\\t\\tif rest and rest[0] == X: tail(deriv, rest[1:])'.format(G.T)]\n",
    "    \n",
    "    for A in G.N:\n",
    "        code_ifs.append(\"\\telif X == '{}':\".format(A))\n",
    "        for a, α in enumerate(G.alternatives(A)):\n",
    "            \n",
    "            code_defs.append('\\tdef {}_alt{}(deriv, rest):'.format(A, a))\n",
    "            for t in range(1, len(α)):\n",
    "                code_defs.append('\\t{}def {}(deriv, rest):'.format('\\t' * t, 't' * (len(α) - t)))\n",
    "            for t, X in enumerate(reversed(α)):\n",
    "                code_defs.append(\"\\t{}match(deriv, '{}', rest, {})\".format('\\t' * (len(α) - t), X, 't' * t if t else 'tail'))\n",
    "\n",
    "            d = G.P.index(Production(A, α))\n",
    "            code_ifs.append('\\t\\t{}_alt{}(deriv.leftmost({}), rest)'.format(A, a, d))\n",
    "    prefix = '@show_calls(False)\\n' if show_calls else '' \n",
    "    return prefix + 'def match(deriv, X, rest, tail):\\n' + '\\n'.join(code_defs) + '\\n' + '\\n'.join(code_ifs)"
   ]
  },
  {
   "cell_type": "code",
   "execution_count": 24,
   "metadata": {},
   "outputs": [
    {
     "name": "stdout",
     "output_type": "stream",
     "text": [
      "@show_calls(False)\n",
      "def match(deriv, X, rest, tail):\n",
      "\tdef B_alt0(deriv, rest):\n",
      "\t\tmatch(deriv, 'b', rest, tail)\n",
      "\tdef S_alt0(deriv, rest):\n",
      "\t\tdef t(deriv, rest):\n",
      "\t\t\tmatch(deriv, 'A', rest, tail)\n",
      "\t\tmatch(deriv, 'a', rest, t)\n",
      "\tdef S_alt1(deriv, rest):\n",
      "\t\tdef tt(deriv, rest):\n",
      "\t\t\tdef t(deriv, rest):\n",
      "\t\t\t\tmatch(deriv, 'B', rest, tail)\n",
      "\t\t\tmatch(deriv, 'b', rest, t)\n",
      "\t\tmatch(deriv, 'a', rest, tt)\n",
      "\tdef A_alt0(deriv, rest):\n",
      "\t\tmatch(deriv, 'a', rest, tail)\n",
      "\tif X in frozenset({'a', 'b'}):\n",
      "\t\tif rest and rest[0] == X: tail(deriv, rest[1:])\n",
      "\telif X == 'B':\n",
      "\t\tB_alt0(deriv.leftmost(3), rest)\n",
      "\telif X == 'S':\n",
      "\t\tS_alt0(deriv.leftmost(0), rest)\n",
      "\t\tS_alt1(deriv.leftmost(1), rest)\n",
      "\telif X == 'A':\n",
      "\t\tA_alt0(deriv.leftmost(2), rest)\n"
     ]
    }
   ],
   "source": [
    "G = Grammar.from_string(\"\"\"\n",
    "S -> a A | a b B\n",
    "A -> a\n",
    "B -> b\n",
    "\"\"\")\n",
    "source = make_cps_match_source(G, True)\n",
    "print(source)"
   ]
  },
  {
   "cell_type": "code",
   "execution_count": 25,
   "metadata": {},
   "outputs": [],
   "source": [
    "match = make_match(source)"
   ]
  },
  {
   "cell_type": "code",
   "execution_count": 26,
   "metadata": {},
   "outputs": [
    {
     "name": "stdout",
     "output_type": "stream",
     "text": [
      "match(S, 'S', 'abb', <function end_match at 0x10bfea840>)\n",
      " match(S -> a A, 'a', 'abb', <function match.<locals>.S_alt0.<locals>.t at 0x10c42c268>)\n",
      "  match(S -> a A, 'A', 'bb', <function end_match at 0x10bfea840>)\n",
      "   match(S -> a A -> a a, 'a', 'bb', <function end_match at 0x10bfea840>)\n",
      " match(S -> a b B, 'a', 'abb', <function match.<locals>.S_alt1.<locals>.tt at 0x10c42c268>)\n",
      "  match(S -> a b B, 'b', 'bb', <function match.<locals>.S_alt1.<locals>.tt.<locals>.t at 0x10c42c7b8>)\n",
      "   match(S -> a b B, 'B', 'b', <function end_match at 0x10bfea840>)\n",
      "    match(S -> a b B -> a b b, 'b', 'b', <function end_match at 0x10bfea840>)\n",
      "S -> a b B -> a b b\n"
     ]
    }
   ],
   "source": [
    "match(Derivation(G), 'S', 'abb', end_match)"
   ]
  },
  {
   "cell_type": "markdown",
   "metadata": {},
   "source": [
    "## Un esempio maggiormente realistico"
   ]
  },
  {
   "cell_type": "code",
   "execution_count": 27,
   "metadata": {},
   "outputs": [],
   "source": [
    "G = Grammar.from_string(\"\"\"\n",
    "E -> Eh Ets | Eh\n",
    "Eh -> T\n",
    "Ets -> Et Ets | Et\n",
    "Et -> + T | - T\n",
    "T -> Th Tts | Th\n",
    "Th -> F\n",
    "Tts -> Tt Tts | Tt\n",
    "Tt -> * F | / F\n",
    "F -> f\n",
    "\"\"\")"
   ]
  },
  {
   "cell_type": "code",
   "execution_count": 28,
   "metadata": {},
   "outputs": [],
   "source": [
    "match = make_match(make_cps_match_source(G, False))"
   ]
  },
  {
   "cell_type": "code",
   "execution_count": 29,
   "metadata": {},
   "outputs": [
    {
     "name": "stdout",
     "output_type": "stream",
     "text": [
      "E -> Eh Ets -> T Ets -> Th Tts Ets -> F Tts Ets -> f Tts Ets -> f Tt Ets -> f * F Ets -> f * f Ets -> f * f Et -> f * f + T -> f * f + Th -> f * f + F -> f * f + f\n"
     ]
    }
   ],
   "source": [
    "match(Derivation(G), 'E', 'f*f+f', end_match)"
   ]
  },
  {
   "cell_type": "code",
   "execution_count": 30,
   "metadata": {},
   "outputs": [],
   "source": [
    "def end_match_display(deriv, rest):\n",
    "    if not rest: display(ProductionGraph(deriv))"
   ]
  },
  {
   "cell_type": "code",
   "execution_count": 31,
   "metadata": {},
   "outputs": [
    {
     "data": {
      "image/svg+xml": [
       "<?xml version=\"1.0\" encoding=\"UTF-8\" standalone=\"no\"?>\n",
       "<!DOCTYPE svg PUBLIC \"-//W3C//DTD SVG 1.1//EN\"\n",
       " \"http://www.w3.org/Graphics/SVG/1.1/DTD/svg11.dtd\">\n",
       "<!-- Generated by graphviz version 2.40.1 (20161225.0304)\n",
       " -->\n",
       "<!-- Title: %3 Pages: 1 -->\n",
       "<svg width=\"249pt\" height=\"550pt\"\n",
       " viewBox=\"0.00 0.00 249.03 550.00\" xmlns=\"http://www.w3.org/2000/svg\" xmlns:xlink=\"http://www.w3.org/1999/xlink\">\n",
       "<g id=\"graph0\" class=\"graph\" transform=\"scale(1 1) rotate(0) translate(4 546)\">\n",
       "<title>%3</title>\n",
       "<polygon fill=\"#ffffff\" stroke=\"transparent\" points=\"-4,4 -4,-546 245.0347,-546 245.0347,4 -4,4\"/>\n",
       "<!-- 3086109341143373013 -->\n",
       "<!-- &#45;1923749776929502228 -->\n",
       "<!-- 3086109341143373013&#45;&gt;&#45;1923749776929502228 -->\n",
       "<!-- &#45;8481345047760239093 -->\n",
       "<g id=\"node2\" class=\"node\">\n",
       "<title>&#45;8481345047760239093</title>\n",
       "<path fill=\"none\" stroke=\"#000000\" stroke-width=\".25\" d=\"M192.9447,-542C192.9447,-542 187.5729,-542 187.5729,-542 184.887,-542 182.2011,-539.3141 182.2011,-536.6282 182.2011,-536.6282 182.2011,-525.3718 182.2011,-525.3718 182.2011,-522.6859 184.887,-520 187.5729,-520 187.5729,-520 192.9447,-520 192.9447,-520 195.6306,-520 198.3165,-522.6859 198.3165,-525.3718 198.3165,-525.3718 198.3165,-536.6282 198.3165,-536.6282 198.3165,-539.3141 195.6306,-542 192.9447,-542\"/>\n",
       "<text text-anchor=\"middle\" x=\"190.2588\" y=\"-526.8\" font-family=\"Times,serif\" font-size=\"14.00\" fill=\"#000000\">E</text>\n",
       "</g>\n",
       "<!-- &#45;8738582648456165592 -->\n",
       "<g id=\"node4\" class=\"node\">\n",
       "<title>&#45;8738582648456165592</title>\n",
       "<path fill=\"none\" stroke=\"#000000\" stroke-width=\".25\" d=\"M173.4814,-502C173.4814,-502 165.0362,-502 165.0362,-502 161.3695,-502 157.7028,-498.3333 157.7028,-494.6667 157.7028,-494.6667 157.7028,-487.3333 157.7028,-487.3333 157.7028,-483.6667 161.3695,-480 165.0362,-480 165.0362,-480 173.4814,-480 173.4814,-480 177.1481,-480 180.8147,-483.6667 180.8147,-487.3333 180.8147,-487.3333 180.8147,-494.6667 180.8147,-494.6667 180.8147,-498.3333 177.1481,-502 173.4814,-502\"/>\n",
       "<text text-anchor=\"middle\" x=\"169.2588\" y=\"-486.8\" font-family=\"Times,serif\" font-size=\"14.00\" fill=\"#000000\">Eh</text>\n",
       "</g>\n",
       "<!-- &#45;8481345047760239093&#45;&gt;&#45;8738582648456165592 -->\n",
       "<g id=\"edge2\" class=\"edge\">\n",
       "<title>&#45;8481345047760239093&#45;&gt;&#45;8738582648456165592</title>\n",
       "<path fill=\"none\" stroke=\"#000000\" stroke-width=\".5\" d=\"M184.2972,-519.6446C181.4355,-514.1937 178.0168,-507.6819 175.1626,-502.2453\"/>\n",
       "</g>\n",
       "<!-- &#45;655377105461186348 -->\n",
       "<g id=\"node5\" class=\"node\">\n",
       "<title>&#45;655377105461186348</title>\n",
       "<path fill=\"none\" stroke=\"#000000\" stroke-width=\".25\" d=\"M217.8153,-502C217.8153,-502 206.7022,-502 206.7022,-502 203.0356,-502 199.3689,-498.3333 199.3689,-494.6667 199.3689,-494.6667 199.3689,-487.3333 199.3689,-487.3333 199.3689,-483.6667 203.0356,-480 206.7022,-480 206.7022,-480 217.8153,-480 217.8153,-480 221.482,-480 225.1487,-483.6667 225.1487,-487.3333 225.1487,-487.3333 225.1487,-494.6667 225.1487,-494.6667 225.1487,-498.3333 221.482,-502 217.8153,-502\"/>\n",
       "<text text-anchor=\"middle\" x=\"212.2588\" y=\"-486.8\" font-family=\"Times,serif\" font-size=\"14.00\" fill=\"#000000\">Ets</text>\n",
       "</g>\n",
       "<!-- &#45;8481345047760239093&#45;&gt;&#45;655377105461186348 -->\n",
       "<g id=\"edge3\" class=\"edge\">\n",
       "<title>&#45;8481345047760239093&#45;&gt;&#45;655377105461186348</title>\n",
       "<path fill=\"none\" stroke=\"#000000\" stroke-width=\".5\" d=\"M196.5043,-519.6446C199.5023,-514.1937 203.0838,-507.6819 206.0738,-502.2453\"/>\n",
       "</g>\n",
       "<!-- 8074714844380016110 -->\n",
       "<!-- &#45;1923749776929502228&#45;&gt;8074714844380016110 -->\n",
       "<!-- &#45;8738582648456165592&#45;&gt;&#45;655377105461186348 -->\n",
       "<!-- 3925485377276502971 -->\n",
       "<g id=\"node7\" class=\"node\">\n",
       "<title>3925485377276502971</title>\n",
       "<path fill=\"none\" stroke=\"#000000\" stroke-width=\".25\" d=\"M171.9447,-462C171.9447,-462 166.5729,-462 166.5729,-462 163.887,-462 161.2011,-459.3141 161.2011,-456.6282 161.2011,-456.6282 161.2011,-445.3718 161.2011,-445.3718 161.2011,-442.6859 163.887,-440 166.5729,-440 166.5729,-440 171.9447,-440 171.9447,-440 174.6306,-440 177.3165,-442.6859 177.3165,-445.3718 177.3165,-445.3718 177.3165,-456.6282 177.3165,-456.6282 177.3165,-459.3141 174.6306,-462 171.9447,-462\"/>\n",
       "<text text-anchor=\"middle\" x=\"169.2588\" y=\"-446.8\" font-family=\"Times,serif\" font-size=\"14.00\" fill=\"#000000\">T</text>\n",
       "</g>\n",
       "<!-- &#45;8738582648456165592&#45;&gt;3925485377276502971 -->\n",
       "<g id=\"edge6\" class=\"edge\">\n",
       "<title>&#45;8738582648456165592&#45;&gt;3925485377276502971</title>\n",
       "<path fill=\"none\" stroke=\"#000000\" stroke-width=\".5\" d=\"M169.2588,-479.6446C169.2588,-474.1937 169.2588,-467.6819 169.2588,-462.2453\"/>\n",
       "</g>\n",
       "<!-- &#45;395397311907490459 -->\n",
       "<g id=\"node23\" class=\"node\">\n",
       "<title>&#45;395397311907490459</title>\n",
       "<path fill=\"none\" stroke=\"#000000\" stroke-width=\".25\" d=\"M215.7409,-182C215.7409,-182 208.7767,-182 208.7767,-182 205.2946,-182 201.8125,-178.5179 201.8125,-175.0358 201.8125,-175.0358 201.8125,-166.9642 201.8125,-166.9642 201.8125,-163.4821 205.2946,-160 208.7767,-160 208.7767,-160 215.7409,-160 215.7409,-160 219.223,-160 222.7051,-163.4821 222.7051,-166.9642 222.7051,-166.9642 222.7051,-175.0358 222.7051,-175.0358 222.7051,-178.5179 219.223,-182 215.7409,-182\"/>\n",
       "<text text-anchor=\"middle\" x=\"212.2588\" y=\"-166.8\" font-family=\"Times,serif\" font-size=\"14.00\" fill=\"#000000\">Et</text>\n",
       "</g>\n",
       "<!-- &#45;655377105461186348&#45;&gt;&#45;395397311907490459 -->\n",
       "<g id=\"edge24\" class=\"edge\">\n",
       "<title>&#45;655377105461186348&#45;&gt;&#45;395397311907490459</title>\n",
       "<path fill=\"none\" stroke=\"#000000\" stroke-width=\".5\" d=\"M212.2588,-479.87C212.2588,-464.4159 212.2588,-435.5833 212.2588,-411 212.2588,-411 212.2588,-411 212.2588,-251 212.2588,-226.4167 212.2588,-197.5841 212.2588,-182.13\"/>\n",
       "</g>\n",
       "<!-- 3610840620767845443 -->\n",
       "<!-- 8074714844380016110&#45;&gt;3610840620767845443 -->\n",
       "<!-- &#45;3988924029793498686 -->\n",
       "<g id=\"node9\" class=\"node\">\n",
       "<title>&#45;3988924029793498686</title>\n",
       "<path fill=\"none\" stroke=\"#000000\" stroke-width=\".25\" d=\"M131.4814,-422C131.4814,-422 123.0362,-422 123.0362,-422 119.3695,-422 115.7028,-418.3333 115.7028,-414.6667 115.7028,-414.6667 115.7028,-407.3333 115.7028,-407.3333 115.7028,-403.6667 119.3695,-400 123.0362,-400 123.0362,-400 131.4814,-400 131.4814,-400 135.1481,-400 138.8147,-403.6667 138.8147,-407.3333 138.8147,-407.3333 138.8147,-414.6667 138.8147,-414.6667 138.8147,-418.3333 135.1481,-422 131.4814,-422\"/>\n",
       "<text text-anchor=\"middle\" x=\"127.2588\" y=\"-406.8\" font-family=\"Times,serif\" font-size=\"14.00\" fill=\"#000000\">Th</text>\n",
       "</g>\n",
       "<!-- 3925485377276502971&#45;&gt;&#45;3988924029793498686 -->\n",
       "<g id=\"edge8\" class=\"edge\">\n",
       "<title>3925485377276502971&#45;&gt;&#45;3988924029793498686</title>\n",
       "<path fill=\"none\" stroke=\"#000000\" stroke-width=\".5\" d=\"M161.1608,-443.2876C154.8677,-437.2942 146.0509,-428.8972 138.986,-422.1688\"/>\n",
       "</g>\n",
       "<!-- 7044399680241963432 -->\n",
       "<g id=\"node10\" class=\"node\">\n",
       "<title>7044399680241963432</title>\n",
       "<path fill=\"none\" stroke=\"#000000\" stroke-width=\".25\" d=\"M175.8153,-422C175.8153,-422 164.7022,-422 164.7022,-422 161.0356,-422 157.3689,-418.3333 157.3689,-414.6667 157.3689,-414.6667 157.3689,-407.3333 157.3689,-407.3333 157.3689,-403.6667 161.0356,-400 164.7022,-400 164.7022,-400 175.8153,-400 175.8153,-400 179.482,-400 183.1487,-403.6667 183.1487,-407.3333 183.1487,-407.3333 183.1487,-414.6667 183.1487,-414.6667 183.1487,-418.3333 179.482,-422 175.8153,-422\"/>\n",
       "<text text-anchor=\"middle\" x=\"170.2588\" y=\"-406.8\" font-family=\"Times,serif\" font-size=\"14.00\" fill=\"#000000\">Tts</text>\n",
       "</g>\n",
       "<!-- 3925485377276502971&#45;&gt;7044399680241963432 -->\n",
       "<g id=\"edge9\" class=\"edge\">\n",
       "<title>3925485377276502971&#45;&gt;7044399680241963432</title>\n",
       "<path fill=\"none\" stroke=\"#000000\" stroke-width=\".5\" d=\"M169.5427,-439.6446C169.6789,-434.1937 169.8417,-427.6819 169.9777,-422.2453\"/>\n",
       "</g>\n",
       "<!-- 3148484093039545748 -->\n",
       "<!-- 3610840620767845443&#45;&gt;3148484093039545748 -->\n",
       "<!-- &#45;3988924029793498686&#45;&gt;7044399680241963432 -->\n",
       "<!-- 847962952002433036 -->\n",
       "<g id=\"node12\" class=\"node\">\n",
       "<title>847962952002433036</title>\n",
       "<path fill=\"none\" stroke=\"#000000\" stroke-width=\".25\" d=\"M129.8546,-382C129.8546,-382 124.6629,-382 124.6629,-382 122.0671,-382 119.4712,-379.4041 119.4712,-376.8083 119.4712,-376.8083 119.4712,-365.1917 119.4712,-365.1917 119.4712,-362.5959 122.0671,-360 124.6629,-360 124.6629,-360 129.8546,-360 129.8546,-360 132.4505,-360 135.0464,-362.5959 135.0464,-365.1917 135.0464,-365.1917 135.0464,-376.8083 135.0464,-376.8083 135.0464,-379.4041 132.4505,-382 129.8546,-382\"/>\n",
       "<text text-anchor=\"middle\" x=\"127.2588\" y=\"-366.8\" font-family=\"Times,serif\" font-size=\"14.00\" fill=\"#000000\">F</text>\n",
       "</g>\n",
       "<!-- &#45;3988924029793498686&#45;&gt;847962952002433036 -->\n",
       "<g id=\"edge12\" class=\"edge\">\n",
       "<title>&#45;3988924029793498686&#45;&gt;847962952002433036</title>\n",
       "<path fill=\"none\" stroke=\"#000000\" stroke-width=\".5\" d=\"M127.2588,-399.6446C127.2588,-394.1937 127.2588,-387.6819 127.2588,-382.2453\"/>\n",
       "</g>\n",
       "<!-- &#45;83692739914358258 -->\n",
       "<g id=\"node16\" class=\"node\">\n",
       "<title>&#45;83692739914358258</title>\n",
       "<path fill=\"none\" stroke=\"#000000\" stroke-width=\".25\" d=\"M173.7409,-302C173.7409,-302 166.7767,-302 166.7767,-302 163.2946,-302 159.8125,-298.5179 159.8125,-295.0358 159.8125,-295.0358 159.8125,-286.9642 159.8125,-286.9642 159.8125,-283.4821 163.2946,-280 166.7767,-280 166.7767,-280 173.7409,-280 173.7409,-280 177.223,-280 180.7051,-283.4821 180.7051,-286.9642 180.7051,-286.9642 180.7051,-295.0358 180.7051,-295.0358 180.7051,-298.5179 177.223,-302 173.7409,-302\"/>\n",
       "<text text-anchor=\"middle\" x=\"170.2588\" y=\"-286.8\" font-family=\"Times,serif\" font-size=\"14.00\" fill=\"#000000\">Tt</text>\n",
       "</g>\n",
       "<!-- 7044399680241963432&#45;&gt;&#45;83692739914358258 -->\n",
       "<g id=\"edge16\" class=\"edge\">\n",
       "<title>7044399680241963432&#45;&gt;&#45;83692739914358258</title>\n",
       "<path fill=\"none\" stroke=\"#000000\" stroke-width=\".5\" d=\"M170.2588,-399.9258C170.2588,-377.0653 170.2588,-324.885 170.2588,-302.0475\"/>\n",
       "</g>\n",
       "<!-- 4765474919779962367 -->\n",
       "<!-- 3148484093039545748&#45;&gt;4765474919779962367 -->\n",
       "<!-- &#45;8341454898278516756 -->\n",
       "<g id=\"node14\" class=\"node\">\n",
       "<title>&#45;8341454898278516756</title>\n",
       "<path fill=\"none\" stroke=\"#000000\" stroke-width=\"1.25\" d=\"M129.3143,-342C129.3143,-342 125.2033,-342 125.2033,-342 123.1478,-342 121.0923,-339.9445 121.0923,-337.889 121.0923,-337.889 121.0923,-324.111 121.0923,-324.111 121.0923,-322.0555 123.1478,-320 125.2033,-320 125.2033,-320 129.3143,-320 129.3143,-320 131.3698,-320 133.4253,-322.0555 133.4253,-324.111 133.4253,-324.111 133.4253,-337.889 133.4253,-337.889 133.4253,-339.9445 131.3698,-342 129.3143,-342\"/>\n",
       "<text text-anchor=\"middle\" x=\"127.2588\" y=\"-326.8\" font-family=\"Times,serif\" font-size=\"14.00\" fill=\"#000000\">f</text>\n",
       "</g>\n",
       "<!-- 847962952002433036&#45;&gt;&#45;8341454898278516756 -->\n",
       "<g id=\"edge14\" class=\"edge\">\n",
       "<title>847962952002433036&#45;&gt;&#45;8341454898278516756</title>\n",
       "<path fill=\"none\" stroke=\"#000000\" stroke-width=\".5\" d=\"M127.2588,-359.6446C127.2588,-354.1937 127.2588,-347.6819 127.2588,-342.2453\"/>\n",
       "</g>\n",
       "<!-- 9193659718757642295 -->\n",
       "<!-- 4765474919779962367&#45;&gt;9193659718757642295 -->\n",
       "<!-- &#45;6820881707484558546 -->\n",
       "<!-- 9193659718757642295&#45;&gt;&#45;6820881707484558546 -->\n",
       "<!-- &#45;1969898761277036759 -->\n",
       "<g id=\"node18\" class=\"node\">\n",
       "<title>&#45;1969898761277036759</title>\n",
       "<path fill=\"none\" stroke=\"#000000\" stroke-width=\"1.25\" d=\"M142.7588,-262C142.7588,-262 137.7588,-262 137.7588,-262 135.2588,-262 132.7588,-259.5 132.7588,-257 132.7588,-257 132.7588,-245 132.7588,-245 132.7588,-242.5 135.2588,-240 137.7588,-240 137.7588,-240 142.7588,-240 142.7588,-240 145.2588,-240 147.7588,-242.5 147.7588,-245 147.7588,-245 147.7588,-257 147.7588,-257 147.7588,-259.5 145.2588,-262 142.7588,-262\"/>\n",
       "<text text-anchor=\"middle\" x=\"140.2588\" y=\"-246.8\" font-family=\"Times,serif\" font-size=\"14.00\" fill=\"#000000\">*</text>\n",
       "</g>\n",
       "<!-- &#45;83692739914358258&#45;&gt;&#45;1969898761277036759 -->\n",
       "<g id=\"edge18\" class=\"edge\">\n",
       "<title>&#45;83692739914358258&#45;&gt;&#45;1969898761277036759</title>\n",
       "<path fill=\"none\" stroke=\"#000000\" stroke-width=\".5\" d=\"M161.7422,-279.6446C157.3769,-273.8241 152.1043,-266.7941 147.8751,-261.1551\"/>\n",
       "</g>\n",
       "<!-- 847959168412601616 -->\n",
       "<g id=\"node19\" class=\"node\">\n",
       "<title>847959168412601616</title>\n",
       "<path fill=\"none\" stroke=\"#000000\" stroke-width=\".25\" d=\"M175.8546,-262C175.8546,-262 170.6629,-262 170.6629,-262 168.0671,-262 165.4712,-259.4041 165.4712,-256.8083 165.4712,-256.8083 165.4712,-245.1917 165.4712,-245.1917 165.4712,-242.5959 168.0671,-240 170.6629,-240 170.6629,-240 175.8546,-240 175.8546,-240 178.4505,-240 181.0464,-242.5959 181.0464,-245.1917 181.0464,-245.1917 181.0464,-256.8083 181.0464,-256.8083 181.0464,-259.4041 178.4505,-262 175.8546,-262\"/>\n",
       "<text text-anchor=\"middle\" x=\"173.2588\" y=\"-246.8\" font-family=\"Times,serif\" font-size=\"14.00\" fill=\"#000000\">F</text>\n",
       "</g>\n",
       "<!-- &#45;83692739914358258&#45;&gt;847959168412601616 -->\n",
       "<g id=\"edge19\" class=\"edge\">\n",
       "<title>&#45;83692739914358258&#45;&gt;847959168412601616</title>\n",
       "<path fill=\"none\" stroke=\"#000000\" stroke-width=\".5\" d=\"M171.1104,-279.6446C171.5193,-274.1937 172.0076,-267.6819 172.4154,-262.2453\"/>\n",
       "</g>\n",
       "<!-- &#45;2704698452664711591 -->\n",
       "<!-- &#45;6820881707484558546&#45;&gt;&#45;2704698452664711591 -->\n",
       "<!-- &#45;1969898761277036759&#45;&gt;847959168412601616 -->\n",
       "<!-- &#45;8341451114687520287 -->\n",
       "<g id=\"node21\" class=\"node\">\n",
       "<title>&#45;8341451114687520287</title>\n",
       "<path fill=\"none\" stroke=\"#000000\" stroke-width=\"1.25\" d=\"M175.3143,-222C175.3143,-222 171.2033,-222 171.2033,-222 169.1478,-222 167.0923,-219.9445 167.0923,-217.889 167.0923,-217.889 167.0923,-204.111 167.0923,-204.111 167.0923,-202.0555 169.1478,-200 171.2033,-200 171.2033,-200 175.3143,-200 175.3143,-200 177.3698,-200 179.4253,-202.0555 179.4253,-204.111 179.4253,-204.111 179.4253,-217.889 179.4253,-217.889 179.4253,-219.9445 177.3698,-222 175.3143,-222\"/>\n",
       "<text text-anchor=\"middle\" x=\"173.2588\" y=\"-206.8\" font-family=\"Times,serif\" font-size=\"14.00\" fill=\"#000000\">f</text>\n",
       "</g>\n",
       "<!-- 847959168412601616&#45;&gt;&#45;8341451114687520287 -->\n",
       "<g id=\"edge22\" class=\"edge\">\n",
       "<title>847959168412601616&#45;&gt;&#45;8341451114687520287</title>\n",
       "<path fill=\"none\" stroke=\"#000000\" stroke-width=\".5\" d=\"M173.2588,-239.6446C173.2588,-234.1937 173.2588,-227.6819 173.2588,-222.2453\"/>\n",
       "</g>\n",
       "<!-- &#45;5557386833813146923 -->\n",
       "<!-- &#45;2704698452664711591&#45;&gt;&#45;5557386833813146923 -->\n",
       "<!-- 3799255268365338342 -->\n",
       "<!-- &#45;5557386833813146923&#45;&gt;3799255268365338342 -->\n",
       "<!-- &#45;5095487283671225948 -->\n",
       "<g id=\"node25\" class=\"node\">\n",
       "<title>&#45;5095487283671225948</title>\n",
       "<path fill=\"none\" stroke=\"#000000\" stroke-width=\"1.25\" d=\"M197.8907,-142C197.8907,-142 192.6268,-142 192.6268,-142 189.9949,-142 187.3629,-139.3681 187.3629,-136.7361 187.3629,-136.7361 187.3629,-125.2639 187.3629,-125.2639 187.3629,-122.6319 189.9949,-120 192.6268,-120 192.6268,-120 197.8907,-120 197.8907,-120 200.5227,-120 203.1546,-122.6319 203.1546,-125.2639 203.1546,-125.2639 203.1546,-136.7361 203.1546,-136.7361 203.1546,-139.3681 200.5227,-142 197.8907,-142\"/>\n",
       "<text text-anchor=\"middle\" x=\"195.2588\" y=\"-126.8\" font-family=\"Times,serif\" font-size=\"14.00\" fill=\"#000000\">+</text>\n",
       "</g>\n",
       "<!-- &#45;395397311907490459&#45;&gt;&#45;5095487283671225948 -->\n",
       "<g id=\"edge26\" class=\"edge\">\n",
       "<title>&#45;395397311907490459&#45;&gt;&#45;5095487283671225948</title>\n",
       "<path fill=\"none\" stroke=\"#000000\" stroke-width=\".5\" d=\"M207.4327,-159.6446C205.1161,-154.1937 202.3486,-147.6819 200.0381,-142.2453\"/>\n",
       "</g>\n",
       "<!-- 3925495466853658604 -->\n",
       "<g id=\"node26\" class=\"node\">\n",
       "<title>3925495466853658604</title>\n",
       "<path fill=\"none\" stroke=\"#000000\" stroke-width=\".25\" d=\"M231.9447,-142C231.9447,-142 226.5729,-142 226.5729,-142 223.887,-142 221.2011,-139.3141 221.2011,-136.6282 221.2011,-136.6282 221.2011,-125.3718 221.2011,-125.3718 221.2011,-122.6859 223.887,-120 226.5729,-120 226.5729,-120 231.9447,-120 231.9447,-120 234.6306,-120 237.3165,-122.6859 237.3165,-125.3718 237.3165,-125.3718 237.3165,-136.6282 237.3165,-136.6282 237.3165,-139.3141 234.6306,-142 231.9447,-142\"/>\n",
       "<text text-anchor=\"middle\" x=\"229.2588\" y=\"-126.8\" font-family=\"Times,serif\" font-size=\"14.00\" fill=\"#000000\">T</text>\n",
       "</g>\n",
       "<!-- &#45;395397311907490459&#45;&gt;3925495466853658604 -->\n",
       "<g id=\"edge27\" class=\"edge\">\n",
       "<title>&#45;395397311907490459&#45;&gt;3925495466853658604</title>\n",
       "<path fill=\"none\" stroke=\"#000000\" stroke-width=\".5\" d=\"M217.0848,-159.6446C219.4015,-154.1937 222.169,-147.6819 224.4795,-142.2453\"/>\n",
       "</g>\n",
       "<!-- 1316579119306191545 -->\n",
       "<!-- 3799255268365338342&#45;&gt;1316579119306191545 -->\n",
       "<!-- &#45;5095487283671225948&#45;&gt;3925495466853658604 -->\n",
       "<!-- &#45;3988913940217508102 -->\n",
       "<g id=\"node28\" class=\"node\">\n",
       "<title>&#45;3988913940217508102</title>\n",
       "<path fill=\"none\" stroke=\"#000000\" stroke-width=\".25\" d=\"M233.4814,-102C233.4814,-102 225.0362,-102 225.0362,-102 221.3695,-102 217.7028,-98.3333 217.7028,-94.6667 217.7028,-94.6667 217.7028,-87.3333 217.7028,-87.3333 217.7028,-83.6667 221.3695,-80 225.0362,-80 225.0362,-80 233.4814,-80 233.4814,-80 237.1481,-80 240.8147,-83.6667 240.8147,-87.3333 240.8147,-87.3333 240.8147,-94.6667 240.8147,-94.6667 240.8147,-98.3333 237.1481,-102 233.4814,-102\"/>\n",
       "<text text-anchor=\"middle\" x=\"229.2588\" y=\"-86.8\" font-family=\"Times,serif\" font-size=\"14.00\" fill=\"#000000\">Th</text>\n",
       "</g>\n",
       "<!-- 3925495466853658604&#45;&gt;&#45;3988913940217508102 -->\n",
       "<g id=\"edge30\" class=\"edge\">\n",
       "<title>3925495466853658604&#45;&gt;&#45;3988913940217508102</title>\n",
       "<path fill=\"none\" stroke=\"#000000\" stroke-width=\".5\" d=\"M229.2588,-119.6446C229.2588,-114.1937 229.2588,-107.6819 229.2588,-102.2453\"/>\n",
       "</g>\n",
       "<!-- &#45;3355572974006168973 -->\n",
       "<!-- 1316579119306191545&#45;&gt;&#45;3355572974006168973 -->\n",
       "<!-- 847973041578423620 -->\n",
       "<g id=\"node30\" class=\"node\">\n",
       "<title>847973041578423620</title>\n",
       "<path fill=\"none\" stroke=\"#000000\" stroke-width=\".25\" d=\"M231.8546,-62C231.8546,-62 226.6629,-62 226.6629,-62 224.0671,-62 221.4712,-59.4041 221.4712,-56.8083 221.4712,-56.8083 221.4712,-45.1917 221.4712,-45.1917 221.4712,-42.5959 224.0671,-40 226.6629,-40 226.6629,-40 231.8546,-40 231.8546,-40 234.4505,-40 237.0464,-42.5959 237.0464,-45.1917 237.0464,-45.1917 237.0464,-56.8083 237.0464,-56.8083 237.0464,-59.4041 234.4505,-62 231.8546,-62\"/>\n",
       "<text text-anchor=\"middle\" x=\"229.2588\" y=\"-46.8\" font-family=\"Times,serif\" font-size=\"14.00\" fill=\"#000000\">F</text>\n",
       "</g>\n",
       "<!-- &#45;3988913940217508102&#45;&gt;847973041578423620 -->\n",
       "<g id=\"edge32\" class=\"edge\">\n",
       "<title>&#45;3988913940217508102&#45;&gt;847973041578423620</title>\n",
       "<path fill=\"none\" stroke=\"#000000\" stroke-width=\".5\" d=\"M229.2588,-79.6446C229.2588,-74.1937 229.2588,-67.6819 229.2588,-62.2453\"/>\n",
       "</g>\n",
       "<!-- &#45;1337440519078591047 -->\n",
       "<!-- &#45;3355572974006168973&#45;&gt;&#45;1337440519078591047 -->\n",
       "<!-- &#45;8341444808702526172 -->\n",
       "<g id=\"node32\" class=\"node\">\n",
       "<title>&#45;8341444808702526172</title>\n",
       "<path fill=\"none\" stroke=\"#000000\" stroke-width=\"1.25\" d=\"M231.3143,-22C231.3143,-22 227.2033,-22 227.2033,-22 225.1478,-22 223.0923,-19.9445 223.0923,-17.889 223.0923,-17.889 223.0923,-4.111 223.0923,-4.111 223.0923,-2.0555 225.1478,0 227.2033,0 227.2033,0 231.3143,0 231.3143,0 233.3698,0 235.4253,-2.0555 235.4253,-4.111 235.4253,-4.111 235.4253,-17.889 235.4253,-17.889 235.4253,-19.9445 233.3698,-22 231.3143,-22\"/>\n",
       "<text text-anchor=\"middle\" x=\"229.2588\" y=\"-6.8\" font-family=\"Times,serif\" font-size=\"14.00\" fill=\"#000000\">f</text>\n",
       "</g>\n",
       "<!-- 847973041578423620&#45;&gt;&#45;8341444808702526172 -->\n",
       "<g id=\"edge34\" class=\"edge\">\n",
       "<title>847973041578423620&#45;&gt;&#45;8341444808702526172</title>\n",
       "<path fill=\"none\" stroke=\"#000000\" stroke-width=\".5\" d=\"M229.2588,-39.6446C229.2588,-34.1937 229.2588,-27.6819 229.2588,-22.2453\"/>\n",
       "</g>\n",
       "</g>\n",
       "</svg>\n"
      ],
      "text/plain": [
       "ProductionGraph(E -> Eh Ets -> T Ets -> Th Tts Ets -> F Tts Ets -> f Tts Ets -> f Tt Ets -> f * F Ets -> f * f Ets -> f * f Et -> f * f + T -> f * f + Th -> f * f + F -> f * f + f)"
      ]
     },
     "metadata": {},
     "output_type": "display_data"
    }
   ],
   "source": [
    "match(Derivation(G), 'E', 'f*f+f', end_match_display)"
   ]
  },
  {
   "cell_type": "markdown",
   "metadata": {},
   "source": [
    "# Quindi abbiamo risolto?"
   ]
  },
  {
   "cell_type": "code",
   "execution_count": 32,
   "metadata": {},
   "outputs": [],
   "source": [
    "G = Grammar.from_string(\"\"\"\n",
    "S -> A S | B S | #\n",
    "A -> a\n",
    "B -> a\n",
    "\"\"\")\n",
    "\n",
    "match = make_match(make_cps_match_source(G, False))"
   ]
  },
  {
   "cell_type": "code",
   "execution_count": 33,
   "metadata": {
    "scrolled": false
   },
   "outputs": [
    {
     "name": "stdout",
     "output_type": "stream",
     "text": [
      "S -> A S -> a S -> a A S -> a a S -> a a A S -> a a a S -> a a a A S -> a a a a S -> a a a a #\n",
      "S -> A S -> a S -> a A S -> a a S -> a a A S -> a a a S -> a a a B S -> a a a a S -> a a a a #\n",
      "S -> A S -> a S -> a A S -> a a S -> a a B S -> a a a S -> a a a A S -> a a a a S -> a a a a #\n",
      "S -> A S -> a S -> a A S -> a a S -> a a B S -> a a a S -> a a a B S -> a a a a S -> a a a a #\n",
      "S -> A S -> a S -> a B S -> a a S -> a a A S -> a a a S -> a a a A S -> a a a a S -> a a a a #\n",
      "S -> A S -> a S -> a B S -> a a S -> a a A S -> a a a S -> a a a B S -> a a a a S -> a a a a #\n",
      "S -> A S -> a S -> a B S -> a a S -> a a B S -> a a a S -> a a a A S -> a a a a S -> a a a a #\n",
      "S -> A S -> a S -> a B S -> a a S -> a a B S -> a a a S -> a a a B S -> a a a a S -> a a a a #\n",
      "S -> B S -> a S -> a A S -> a a S -> a a A S -> a a a S -> a a a A S -> a a a a S -> a a a a #\n",
      "S -> B S -> a S -> a A S -> a a S -> a a A S -> a a a S -> a a a B S -> a a a a S -> a a a a #\n",
      "S -> B S -> a S -> a A S -> a a S -> a a B S -> a a a S -> a a a A S -> a a a a S -> a a a a #\n",
      "S -> B S -> a S -> a A S -> a a S -> a a B S -> a a a S -> a a a B S -> a a a a S -> a a a a #\n",
      "S -> B S -> a S -> a B S -> a a S -> a a A S -> a a a S -> a a a A S -> a a a a S -> a a a a #\n",
      "S -> B S -> a S -> a B S -> a a S -> a a A S -> a a a S -> a a a B S -> a a a a S -> a a a a #\n",
      "S -> B S -> a S -> a B S -> a a S -> a a B S -> a a a S -> a a a A S -> a a a a S -> a a a a #\n",
      "S -> B S -> a S -> a B S -> a a S -> a a B S -> a a a S -> a a a B S -> a a a a S -> a a a a #\n"
     ]
    }
   ],
   "source": [
    "match(Derivation(G), 'S', 'aaaa#', end_match)"
   ]
  },
  {
   "cell_type": "code",
   "execution_count": 34,
   "metadata": {},
   "outputs": [
    {
     "name": "stdout",
     "output_type": "stream",
     "text": [
      "Grammar(N={A, B, S}, T={a, x, y}, P=(S -> a A, S -> a B, A -> a A, A -> x, B -> a B, B -> y), S=S)\n"
     ]
    }
   ],
   "source": [
    "G = Grammar.from_string(\"\"\"\n",
    "S -> a A | a B\n",
    "A -> a A | x \n",
    "B -> a B | y \n",
    "\"\"\")\n",
    "print(G)\n",
    "match = make_match(make_cps_match_source(G, True))"
   ]
  },
  {
   "cell_type": "code",
   "execution_count": 35,
   "metadata": {},
   "outputs": [
    {
     "name": "stdout",
     "output_type": "stream",
     "text": [
      "match(S, 'S', 'aaay', <function end_match at 0x10bfea840>)\n",
      " match(S -> a A, 'a', 'aaay', <function match.<locals>.S_alt0.<locals>.t at 0x10c430a60>)\n",
      "  match(S -> a A, 'A', 'aay', <function end_match at 0x10bfea840>)\n",
      "   match(S -> a A -> a a A, 'a', 'aay', <function match.<locals>.A_alt0.<locals>.t at 0x10c451158>)\n",
      "    match(S -> a A -> a a A, 'A', 'ay', <function end_match at 0x10bfea840>)\n",
      "     match(S -> a A -> a a A -> a a a A, 'a', 'ay', <function match.<locals>.A_alt0.<locals>.t at 0x10c451620>)\n",
      "      match(S -> a A -> a a A -> a a a A, 'A', 'y', <function end_match at 0x10bfea840>)\n",
      "       match(S -> a A -> a a A -> a a a A -> a a a a A, 'a', 'y', <function match.<locals>.A_alt0.<locals>.t at 0x10c451e18>)\n",
      "       match(S -> a A -> a a A -> a a a A -> a a a x, 'x', 'y', <function end_match at 0x10bfea840>)\n",
      "     match(S -> a A -> a a A -> a a x, 'x', 'ay', <function end_match at 0x10bfea840>)\n",
      "   match(S -> a A -> a x, 'x', 'aay', <function end_match at 0x10bfea840>)\n",
      " match(S -> a B, 'a', 'aaay', <function match.<locals>.S_alt1.<locals>.t at 0x10c430a60>)\n",
      "  match(S -> a B, 'B', 'aay', <function end_match at 0x10bfea840>)\n",
      "   match(S -> a B -> a a B, 'a', 'aay', <function match.<locals>.B_alt0.<locals>.t at 0x10c451598>)\n",
      "    match(S -> a B -> a a B, 'B', 'ay', <function end_match at 0x10bfea840>)\n",
      "     match(S -> a B -> a a B -> a a a B, 'a', 'ay', <function match.<locals>.B_alt0.<locals>.t at 0x10c451ae8>)\n",
      "      match(S -> a B -> a a B -> a a a B, 'B', 'y', <function end_match at 0x10bfea840>)\n",
      "       match(S -> a B -> a a B -> a a a B -> a a a a B, 'a', 'y', <function match.<locals>.B_alt0.<locals>.t at 0x10c42c950>)\n",
      "       match(S -> a B -> a a B -> a a a B -> a a a y, 'y', 'y', <function end_match at 0x10bfea840>)\n",
      "S -> a B -> a a B -> a a a B -> a a a y\n",
      "     match(S -> a B -> a a B -> a a y, 'y', 'ay', <function end_match at 0x10bfea840>)\n",
      "   match(S -> a B -> a y, 'y', 'aay', <function end_match at 0x10bfea840>)\n"
     ]
    }
   ],
   "source": [
    "match(Derivation(G), 'S', 'aaay', end_match)"
   ]
  }
 ],
 "metadata": {
  "kernelspec": {
   "display_name": "Python 3",
   "language": "python",
   "name": "python3"
  },
  "language_info": {
   "codemirror_mode": {
    "name": "ipython",
    "version": 3
   },
   "file_extension": ".py",
   "mimetype": "text/x-python",
   "name": "python",
   "nbconvert_exporter": "python",
   "pygments_lexer": "ipython3",
   "version": "3.7.2"
  }
 },
 "nbformat": 4,
 "nbformat_minor": 2
}
