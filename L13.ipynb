{
  "cells": [
    {
      "cell_type": "markdown",
      "metadata": {},
      "source": [
        "# Lezione 13"
      ]
    },
    {
      "cell_type": "code",
      "execution_count": null,
      "metadata": {},
      "outputs": [],
      "source": [
        "from liblet import (\n",
        "    Grammar, \n",
        "    Derivation,\n",
        "    Production,\n",
        "    ProductionGraph, \n",
        "    TopDownInstantaneousDescription,\n",
        "    Stack, \n",
        "    Table, \n",
        "    closure,\n",
        "    suffixes,\n",
        "    warn,\n",
        "    HASH, ε\n",
        ")\n",
        "\n",
        "from L12 import compute_εfirst, make_first_function"
      ]
    },
    {
      "cell_type": "markdown",
      "metadata": {},
      "source": [
        "## Estendere il calcolo di  `TABLE` al caso con ε-regole\n",
        "\n",
        "Violando completamente l'idea di avere a che fare con un automa a pila, dobbiamo consentire ad ogni passo che venga ispezionata tutta la pila!\n",
        "\n",
        "Se infatti siamo in presenza di una derivazione parziale $S\\#\\overset{*}{\\to}x A\\Gamma\\#$ della parola $x a y$ (abbiamo cioè $\\#\\Gamma^R A$ sulla pila e la testina è posizionata all'inizio di $a y$) possiamo scegliere determiinsticamente quale alternativa predire tra le varie produzioni $A \\to \\alpha$ se e soltanto se ne esiste esattamente una per cui $a \\in \\operatorname{FIRST}(\\alpha\\Gamma\\#)$.\n",
        "\n",
        "Le grammatiche per cui ciò accade (per qualunque derivazione parziale) si chiamano **full LL(1)**. \n",
        "\n",
        "Per tali grammatiche la seguente funzione `TABLEf` (che prende in ingresso l'intera pila e il simbolo sotto la testina e adopera la funzione `FIRSTf` per caloclare gli insiemi $\\operatorname{FIRST}(\\alpha\\Gamma\\#)$) produce sempre la corretta predizione."
      ]
    },
    {
      "cell_type": "code",
      "execution_count": null,
      "metadata": {},
      "outputs": [],
      "source": [
        "def make_table_function(G):\n",
        "    \n",
        "    FIRSTf = make_first_function(G)\n",
        "    \n",
        "    #@show_calls(True)\n",
        "    def TABLEf(stack, a):\n",
        "        P = None\n",
        "        *sΓr, A = list(stack) # la pila è ＃Γ^R A\n",
        "        for α in G.alternatives(A):\n",
        "            γ = α + tuple(reversed(sΓr)) # la forma sentenziale è α seguita da Γ＃\n",
        "            if a in FIRSTf(γ):\n",
        "                Q = Production(A, α)\n",
        "                if P is None: \n",
        "                    P = Q\n",
        "                else:\n",
        "                    warn(f'Conflict: {γ=}, {a=}, predictions: {P=}, {Q=}')\n",
        "        return P\n",
        "    \n",
        "    return TABLEf"
      ]
    },
    {
      "cell_type": "code",
      "execution_count": null,
      "metadata": {},
      "outputs": [
        {
          "data": {
            "text/plain": [
              "Grammar(N={Fact, Facts, Question, Session}, T={!, (, ), ?, STRING}, P=(Session -> Facts Question, Session -> ( Session ) Session, Facts -> Fact Facts, Facts -> ε, Fact -> ! STRING, Question -> ? STRING), S=Session)"
            ]
          },
          "execution_count": 1,
          "metadata": {},
          "output_type": "execute_result"
        }
      ],
      "source": [
        "# fig. 8.9, pag. 242\n",
        "\n",
        "G = Grammar.from_string(\"\"\"\n",
        "Session -> Facts Question | ( Session ) Session\n",
        "Facts -> Fact Facts | ε\n",
        "Fact -> ! STRING\n",
        "Question -> ? STRING\n",
        "\"\"\")\n",
        "G"
      ]
    },
    {
      "cell_type": "code",
      "execution_count": null,
      "metadata": {},
      "outputs": [],
      "source": [
        "TABLEf = make_table_function(G)"
      ]
    },
    {
      "cell_type": "markdown",
      "metadata": {},
      "source": [
        "## Il parser Full LL(1)\n",
        "\n",
        "Ora manca qualche piccolo aggiustamento a `parse_noε` per trasformarlo in un parser *full LL(1)* che chiameremo `full_parse`; le principali differenze sono:\n",
        "\n",
        "* ignorare le $\\varepsilon$ aggiunte in pila (per via delle ε-regole),\n",
        "* usare la funzione `TABLEf` (al posto di consultare la tabella `TABLE`) per ottenere la predizione.\n",
        "\n",
        "Ovviamente il \"piccolo\" aggiustamento ha un impatto notevole sul tempo di calcolo!"
      ]
    },
    {
      "cell_type": "code",
      "execution_count": null,
      "metadata": {},
      "outputs": [],
      "source": [
        "def full_parse(G, TABLEf, INPUT):\n",
        "    tdid = TopDownInstantaneousDescription(G, INPUT)\n",
        "    while not tdid.is_done():\n",
        "        if tdid.top() in G.N:\n",
        "            P = TABLEf(tdid.stack, tdid.head())\n",
        "            if P is None:\n",
        "                warn(f'No production for ({tdid.top()}, {tdid.head()}) at {tdid.steps}')\n",
        "                return None \n",
        "            tdid = tdid.predict(P)\n",
        "        else:\n",
        "            if tdid.top() == ε or tdid.top() == tdid.head():\n",
        "                tdid = tdid.match()\n",
        "            else:\n",
        "                warn(f'Expecting {tdid.top()}, got {tdid.head()}')\n",
        "                return None   \n",
        "    return Derivation(G).leftmost(tdid.steps)"
      ]
    },
    {
      "cell_type": "code",
      "execution_count": null,
      "metadata": {},
      "outputs": [],
      "source": [
        "INPUT = '! STRING ! STRING ? STRING'.split()\n",
        "\n",
        "d = full_parse(G, TABLEf, INPUT)"
      ]
    },
    {
      "cell_type": "code",
      "execution_count": null,
      "metadata": {},
      "outputs": [
        {
          "data": {
            "image/svg+xml": [
              "<?xml version=\"1.0\" encoding=\"UTF-8\" standalone=\"no\"?>\n",
              "<!DOCTYPE svg PUBLIC \"-//W3C//DTD SVG 1.1//EN\"\n",
              " \"http://www.w3.org/Graphics/SVG/1.1/DTD/svg11.dtd\">\n",
              "<!-- Generated by graphviz version 2.43.0 (0)\n",
              " -->\n",
              "<!-- Title: %3 Pages: 1 -->\n",
              "<svg width=\"264pt\" height=\"195pt\"\n",
              " viewBox=\"0.00 0.00 264.00 195.00\" xmlns=\"http://www.w3.org/2000/svg\" xmlns:xlink=\"http://www.w3.org/1999/xlink\">\n",
              "<g id=\"graph0\" class=\"graph\" transform=\"scale(1 1) rotate(0) translate(4 191)\">\n",
              "<title>%3</title>\n",
              "<polygon fill=\"white\" stroke=\"transparent\" points=\"-4,4 -4,-191 260,-191 260,4 -4,4\"/>\n",
              "<!-- 397041168853457254 -->\n",
              "<g id=\"node1\" class=\"node\">\n",
              "<title>397041168853457254</title>\n",
              "<path fill=\"none\" stroke=\"black\" stroke-width=\"0.25\" d=\"M162.83,-187C162.83,-187 128.17,-187 128.17,-187 124.33,-187 120.5,-183.17 120.5,-179.33 120.5,-179.33 120.5,-171.67 120.5,-171.67 120.5,-167.83 124.33,-164 128.17,-164 128.17,-164 162.83,-164 162.83,-164 166.67,-164 170.5,-167.83 170.5,-171.67 170.5,-171.67 170.5,-179.33 170.5,-179.33 170.5,-183.17 166.67,-187 162.83,-187\"/>\n",
              "<text text-anchor=\"middle\" x=\"145.5\" y=\"-171.8\" font-family=\"Times,serif\" font-size=\"14.00\">Session</text>\n",
              "</g>\n",
              "<!-- 3431020408335926639 -->\n",
              "<g id=\"node2\" class=\"node\">\n",
              "<title>3431020408335926639</title>\n",
              "<path fill=\"none\" stroke=\"black\" stroke-width=\"0.25\" d=\"M124.33,-146C124.33,-146 102.67,-146 102.67,-146 98.83,-146 95,-142.17 95,-138.33 95,-138.33 95,-130.67 95,-130.67 95,-126.83 98.83,-123 102.67,-123 102.67,-123 124.33,-123 124.33,-123 128.17,-123 132,-126.83 132,-130.67 132,-130.67 132,-138.33 132,-138.33 132,-142.17 128.17,-146 124.33,-146\"/>\n",
              "<text text-anchor=\"middle\" x=\"113.5\" y=\"-130.8\" font-family=\"Times,serif\" font-size=\"14.00\">Facts</text>\n",
              "</g>\n",
              "<!-- 397041168853457254&#45;&gt;3431020408335926639 -->\n",
              "<g id=\"edge1\" class=\"edge\">\n",
              "<title>397041168853457254&#45;&gt;3431020408335926639</title>\n",
              "<path fill=\"none\" stroke=\"black\" stroke-width=\"0.5\" d=\"M136.76,-163.84C132.24,-158.34 126.75,-151.65 122.23,-146.14\"/>\n",
              "</g>\n",
              "<!-- &#45;5195099468685026074 -->\n",
              "<g id=\"node3\" class=\"node\">\n",
              "<title>&#45;5195099468685026074</title>\n",
              "<path fill=\"none\" stroke=\"black\" stroke-width=\"0.25\" d=\"M199.33,-146C199.33,-146 157.67,-146 157.67,-146 153.83,-146 150,-142.17 150,-138.33 150,-138.33 150,-130.67 150,-130.67 150,-126.83 153.83,-123 157.67,-123 157.67,-123 199.33,-123 199.33,-123 203.17,-123 207,-126.83 207,-130.67 207,-130.67 207,-138.33 207,-138.33 207,-142.17 203.17,-146 199.33,-146\"/>\n",
              "<text text-anchor=\"middle\" x=\"178.5\" y=\"-130.8\" font-family=\"Times,serif\" font-size=\"14.00\">Question</text>\n",
              "</g>\n",
              "<!-- 397041168853457254&#45;&gt;&#45;5195099468685026074 -->\n",
              "<g id=\"edge2\" class=\"edge\">\n",
              "<title>397041168853457254&#45;&gt;&#45;5195099468685026074</title>\n",
              "<path fill=\"none\" stroke=\"black\" stroke-width=\"0.5\" d=\"M154.52,-163.84C159.17,-158.34 164.84,-151.65 169.49,-146.14\"/>\n",
              "</g>\n",
              "<!-- 3431020408335926639&#45;&gt;&#45;5195099468685026074 -->\n",
              "<!-- &#45;6163221531568829082 -->\n",
              "<g id=\"node4\" class=\"node\">\n",
              "<title>&#45;6163221531568829082</title>\n",
              "<path fill=\"none\" stroke=\"black\" stroke-width=\"0.25\" d=\"M72.83,-105C72.83,-105 56.17,-105 56.17,-105 52.33,-105 48.5,-101.17 48.5,-97.33 48.5,-97.33 48.5,-89.67 48.5,-89.67 48.5,-85.83 52.33,-82 56.17,-82 56.17,-82 72.83,-82 72.83,-82 76.67,-82 80.5,-85.83 80.5,-89.67 80.5,-89.67 80.5,-97.33 80.5,-97.33 80.5,-101.17 76.67,-105 72.83,-105\"/>\n",
              "<text text-anchor=\"middle\" x=\"64.5\" y=\"-89.8\" font-family=\"Times,serif\" font-size=\"14.00\">Fact</text>\n",
              "</g>\n",
              "<!-- 3431020408335926639&#45;&gt;&#45;6163221531568829082 -->\n",
              "<g id=\"edge4\" class=\"edge\">\n",
              "<title>3431020408335926639&#45;&gt;&#45;6163221531568829082</title>\n",
              "<path fill=\"none\" stroke=\"black\" stroke-width=\"0.5\" d=\"M100.11,-122.84C93.2,-117.34 84.78,-110.65 77.87,-105.14\"/>\n",
              "</g>\n",
              "<!-- &#45;3899111467377015420 -->\n",
              "<g id=\"node5\" class=\"node\">\n",
              "<title>&#45;3899111467377015420</title>\n",
              "<path fill=\"none\" stroke=\"black\" stroke-width=\"0.25\" d=\"M130.33,-105C130.33,-105 108.67,-105 108.67,-105 104.83,-105 101,-101.17 101,-97.33 101,-97.33 101,-89.67 101,-89.67 101,-85.83 104.83,-82 108.67,-82 108.67,-82 130.33,-82 130.33,-82 134.17,-82 138,-85.83 138,-89.67 138,-89.67 138,-97.33 138,-97.33 138,-101.17 134.17,-105 130.33,-105\"/>\n",
              "<text text-anchor=\"middle\" x=\"119.5\" y=\"-89.8\" font-family=\"Times,serif\" font-size=\"14.00\">Facts</text>\n",
              "</g>\n",
              "<!-- 3431020408335926639&#45;&gt;&#45;3899111467377015420 -->\n",
              "<g id=\"edge5\" class=\"edge\">\n",
              "<title>3431020408335926639&#45;&gt;&#45;3899111467377015420</title>\n",
              "<path fill=\"none\" stroke=\"black\" stroke-width=\"0.5\" d=\"M115.14,-122.84C115.99,-117.34 117.02,-110.65 117.86,-105.14\"/>\n",
              "</g>\n",
              "<!-- 7879094860942044348 -->\n",
              "<g id=\"node13\" class=\"node\">\n",
              "<title>7879094860942044348</title>\n",
              "<path fill=\"none\" stroke=\"black\" stroke-width=\"1.25\" d=\"M176,-105C176,-105 171,-105 171,-105 168.5,-105 166,-102.5 166,-100 166,-100 166,-87 166,-87 166,-84.5 168.5,-82 171,-82 171,-82 176,-82 176,-82 178.5,-82 181,-84.5 181,-87 181,-87 181,-100 181,-100 181,-102.5 178.5,-105 176,-105\"/>\n",
              "<text text-anchor=\"middle\" x=\"173.5\" y=\"-89.8\" font-family=\"Times,serif\" font-size=\"14.00\">?</text>\n",
              "</g>\n",
              "<!-- &#45;5195099468685026074&#45;&gt;7879094860942044348 -->\n",
              "<g id=\"edge17\" class=\"edge\">\n",
              "<title>&#45;5195099468685026074&#45;&gt;7879094860942044348</title>\n",
              "<path fill=\"none\" stroke=\"black\" stroke-width=\"0.5\" d=\"M177.13,-122.84C176.43,-117.34 175.57,-110.65 174.86,-105.14\"/>\n",
              "</g>\n",
              "<!-- &#45;2820491870665548098 -->\n",
              "<g id=\"node14\" class=\"node\">\n",
              "<title>&#45;2820491870665548098</title>\n",
              "<path fill=\"none\" stroke=\"black\" stroke-width=\"1.25\" d=\"M248.33,-105C248.33,-105 206.67,-105 206.67,-105 202.83,-105 199,-101.17 199,-97.33 199,-97.33 199,-89.67 199,-89.67 199,-85.83 202.83,-82 206.67,-82 206.67,-82 248.33,-82 248.33,-82 252.17,-82 256,-85.83 256,-89.67 256,-89.67 256,-97.33 256,-97.33 256,-101.17 252.17,-105 248.33,-105\"/>\n",
              "<text text-anchor=\"middle\" x=\"227.5\" y=\"-89.8\" font-family=\"Times,serif\" font-size=\"14.00\">STRING</text>\n",
              "</g>\n",
              "<!-- &#45;5195099468685026074&#45;&gt;&#45;2820491870665548098 -->\n",
              "<g id=\"edge18\" class=\"edge\">\n",
              "<title>&#45;5195099468685026074&#45;&gt;&#45;2820491870665548098</title>\n",
              "<path fill=\"none\" stroke=\"black\" stroke-width=\"0.5\" d=\"M191.89,-122.84C198.8,-117.34 207.22,-110.65 214.13,-105.14\"/>\n",
              "</g>\n",
              "<!-- &#45;6163221531568829082&#45;&gt;&#45;3899111467377015420 -->\n",
              "<!-- &#45;7720158906072765903 -->\n",
              "<g id=\"node6\" class=\"node\">\n",
              "<title>&#45;7720158906072765903</title>\n",
              "<path fill=\"none\" stroke=\"black\" stroke-width=\"1.25\" d=\"M8.67,-64C8.67,-64 4.33,-64 4.33,-64 2.17,-64 0,-61.83 0,-59.67 0,-59.67 0,-45.33 0,-45.33 0,-43.17 2.17,-41 4.33,-41 4.33,-41 8.67,-41 8.67,-41 10.83,-41 13,-43.17 13,-45.33 13,-45.33 13,-59.67 13,-59.67 13,-61.83 10.83,-64 8.67,-64\"/>\n",
              "<text text-anchor=\"middle\" x=\"6.5\" y=\"-48.8\" font-family=\"Times,serif\" font-size=\"14.00\">!</text>\n",
              "</g>\n",
              "<!-- &#45;6163221531568829082&#45;&gt;&#45;7720158906072765903 -->\n",
              "<g id=\"edge7\" class=\"edge\">\n",
              "<title>&#45;6163221531568829082&#45;&gt;&#45;7720158906072765903</title>\n",
              "<path fill=\"none\" stroke=\"black\" stroke-width=\"0.5\" d=\"M48.1,-81.77C40.05,-76.47 30.23,-69.95 21.5,-64 18.77,-62.14 15.78,-60.06 13.2,-58.24\"/>\n",
              "</g>\n",
              "<!-- &#45;4930504605212103902 -->\n",
              "<g id=\"node7\" class=\"node\">\n",
              "<title>&#45;4930504605212103902</title>\n",
              "<path fill=\"none\" stroke=\"black\" stroke-width=\"1.25\" d=\"M80.33,-64C80.33,-64 38.67,-64 38.67,-64 34.83,-64 31,-60.17 31,-56.33 31,-56.33 31,-48.67 31,-48.67 31,-44.83 34.83,-41 38.67,-41 38.67,-41 80.33,-41 80.33,-41 84.17,-41 88,-44.83 88,-48.67 88,-48.67 88,-56.33 88,-56.33 88,-60.17 84.17,-64 80.33,-64\"/>\n",
              "<text text-anchor=\"middle\" x=\"59.5\" y=\"-48.8\" font-family=\"Times,serif\" font-size=\"14.00\">STRING</text>\n",
              "</g>\n",
              "<!-- &#45;6163221531568829082&#45;&gt;&#45;4930504605212103902 -->\n",
              "<g id=\"edge8\" class=\"edge\">\n",
              "<title>&#45;6163221531568829082&#45;&gt;&#45;4930504605212103902</title>\n",
              "<path fill=\"none\" stroke=\"black\" stroke-width=\"0.5\" d=\"M63.13,-81.84C62.43,-76.34 61.57,-69.65 60.86,-64.14\"/>\n",
              "</g>\n",
              "<!-- 1249869273655313277 -->\n",
              "<g id=\"node8\" class=\"node\">\n",
              "<title>1249869273655313277</title>\n",
              "<path fill=\"none\" stroke=\"black\" stroke-width=\"0.25\" d=\"M130.83,-64C130.83,-64 114.17,-64 114.17,-64 110.33,-64 106.5,-60.17 106.5,-56.33 106.5,-56.33 106.5,-48.67 106.5,-48.67 106.5,-44.83 110.33,-41 114.17,-41 114.17,-41 130.83,-41 130.83,-41 134.67,-41 138.5,-44.83 138.5,-48.67 138.5,-48.67 138.5,-56.33 138.5,-56.33 138.5,-60.17 134.67,-64 130.83,-64\"/>\n",
              "<text text-anchor=\"middle\" x=\"122.5\" y=\"-48.8\" font-family=\"Times,serif\" font-size=\"14.00\">Fact</text>\n",
              "</g>\n",
              "<!-- &#45;3899111467377015420&#45;&gt;1249869273655313277 -->\n",
              "<g id=\"edge10\" class=\"edge\">\n",
              "<title>&#45;3899111467377015420&#45;&gt;1249869273655313277</title>\n",
              "<path fill=\"none\" stroke=\"black\" stroke-width=\"0.5\" d=\"M120.32,-81.84C120.74,-76.34 121.26,-69.65 121.68,-64.14\"/>\n",
              "</g>\n",
              "<!-- &#45;9202189538054601975 -->\n",
              "<g id=\"node9\" class=\"node\">\n",
              "<title>&#45;9202189538054601975</title>\n",
              "<path fill=\"none\" stroke=\"black\" stroke-width=\"0.25\" d=\"M186.33,-64C186.33,-64 164.67,-64 164.67,-64 160.83,-64 157,-60.17 157,-56.33 157,-56.33 157,-48.67 157,-48.67 157,-44.83 160.83,-41 164.67,-41 164.67,-41 186.33,-41 186.33,-41 190.17,-41 194,-44.83 194,-48.67 194,-48.67 194,-56.33 194,-56.33 194,-60.17 190.17,-64 186.33,-64\"/>\n",
              "<text text-anchor=\"middle\" x=\"175.5\" y=\"-48.8\" font-family=\"Times,serif\" font-size=\"14.00\">Facts</text>\n",
              "</g>\n",
              "<!-- &#45;3899111467377015420&#45;&gt;&#45;9202189538054601975 -->\n",
              "<g id=\"edge11\" class=\"edge\">\n",
              "<title>&#45;3899111467377015420&#45;&gt;&#45;9202189538054601975</title>\n",
              "<path fill=\"none\" stroke=\"black\" stroke-width=\"0.5\" d=\"M134.8,-81.84C142.7,-76.34 152.32,-69.65 160.22,-64.14\"/>\n",
              "</g>\n",
              "<!-- &#45;7720158906072765903&#45;&gt;&#45;4930504605212103902 -->\n",
              "<!-- 1249869273655313277&#45;&gt;&#45;9202189538054601975 -->\n",
              "<!-- &#45;307068100848623544 -->\n",
              "<g id=\"node10\" class=\"node\">\n",
              "<title>&#45;307068100848623544</title>\n",
              "<path fill=\"none\" stroke=\"black\" stroke-width=\"1.25\" d=\"M71.67,-23C71.67,-23 67.33,-23 67.33,-23 65.17,-23 63,-20.83 63,-18.67 63,-18.67 63,-4.33 63,-4.33 63,-2.17 65.17,0 67.33,0 67.33,0 71.67,0 71.67,0 73.83,0 76,-2.17 76,-4.33 76,-4.33 76,-18.67 76,-18.67 76,-20.83 73.83,-23 71.67,-23\"/>\n",
              "<text text-anchor=\"middle\" x=\"69.5\" y=\"-7.8\" font-family=\"Times,serif\" font-size=\"14.00\">!</text>\n",
              "</g>\n",
              "<!-- 1249869273655313277&#45;&gt;&#45;307068100848623544 -->\n",
              "<g id=\"edge13\" class=\"edge\">\n",
              "<title>1249869273655313277&#45;&gt;&#45;307068100848623544</title>\n",
              "<path fill=\"none\" stroke=\"black\" stroke-width=\"0.5\" d=\"M108.02,-40.84C97.6,-33.18 84.03,-23.19 76.09,-17.35\"/>\n",
              "</g>\n",
              "<!-- 3814804014835493031 -->\n",
              "<g id=\"node11\" class=\"node\">\n",
              "<title>3814804014835493031</title>\n",
              "<path fill=\"none\" stroke=\"black\" stroke-width=\"1.25\" d=\"M143.33,-23C143.33,-23 101.67,-23 101.67,-23 97.83,-23 94,-19.17 94,-15.33 94,-15.33 94,-7.67 94,-7.67 94,-3.83 97.83,0 101.67,0 101.67,0 143.33,0 143.33,0 147.17,0 151,-3.83 151,-7.67 151,-7.67 151,-15.33 151,-15.33 151,-19.17 147.17,-23 143.33,-23\"/>\n",
              "<text text-anchor=\"middle\" x=\"122.5\" y=\"-7.8\" font-family=\"Times,serif\" font-size=\"14.00\">STRING</text>\n",
              "</g>\n",
              "<!-- 1249869273655313277&#45;&gt;3814804014835493031 -->\n",
              "<g id=\"edge14\" class=\"edge\">\n",
              "<title>1249869273655313277&#45;&gt;3814804014835493031</title>\n",
              "<path fill=\"none\" stroke=\"black\" stroke-width=\"0.5\" d=\"M122.5,-40.84C122.5,-35.34 122.5,-28.65 122.5,-23.14\"/>\n",
              "</g>\n",
              "<!-- 350254964810764072 -->\n",
              "<g id=\"node12\" class=\"node\">\n",
              "<title>350254964810764072</title>\n",
              "<path fill=\"none\" stroke=\"black\" stroke-width=\"0.25\" d=\"M179,-23C179,-23 174,-23 174,-23 171.5,-23 169,-20.5 169,-18 169,-18 169,-5 169,-5 169,-2.5 171.5,0 174,0 174,0 179,0 179,0 181.5,0 184,-2.5 184,-5 184,-5 184,-18 184,-18 184,-20.5 181.5,-23 179,-23\"/>\n",
              "<text text-anchor=\"middle\" x=\"176.5\" y=\"-7.8\" font-family=\"Times,serif\" font-size=\"14.00\">ε</text>\n",
              "</g>\n",
              "<!-- &#45;9202189538054601975&#45;&gt;350254964810764072 -->\n",
              "<g id=\"edge16\" class=\"edge\">\n",
              "<title>&#45;9202189538054601975&#45;&gt;350254964810764072</title>\n",
              "<path fill=\"none\" stroke=\"black\" stroke-width=\"0.5\" d=\"M175.77,-40.84C175.91,-35.34 176.09,-28.65 176.23,-23.14\"/>\n",
              "</g>\n",
              "<!-- &#45;307068100848623544&#45;&gt;3814804014835493031 -->\n",
              "<!-- 7879094860942044348&#45;&gt;&#45;2820491870665548098 -->\n",
              "</g>\n",
              "</svg>\n"
            ],
            "text/plain": [
              "ProductionGraph(Session -> Facts Question -> Fact Facts Question -> ! STRING Facts Question -> ! STRING Fact Facts Question -> ! STRING ! STRING Facts Question -> ! STRING ! STRING Question -> ! STRING ! STRING ? STRING)"
            ]
          },
          "execution_count": 1,
          "metadata": {},
          "output_type": "execute_result"
        }
      ],
      "source": [
        "ProductionGraph(d)"
      ]
    },
    {
      "cell_type": "markdown",
      "metadata": {},
      "source": [
        "### Un esempio più interessante\n",
        "\n",
        "Come esempio più \"interessante\" consideriamo una grammatica per espressioni aritmentiche parentesizzate."
      ]
    },
    {
      "cell_type": "code",
      "execution_count": null,
      "metadata": {},
      "outputs": [],
      "source": [
        "# MCD, fig. 3.4, pag. 123\n",
        "\n",
        "G_expr = Grammar.from_string(\"\"\"\n",
        "input -> expression\n",
        "expression -> term rest_expression\n",
        "term -> IDENTIFIER | parenthesized_expression \n",
        "parenthesized_expression -> ( expression ) \n",
        "rest_expression -> + expression | ε\n",
        "\"\"\")"
      ]
    },
    {
      "cell_type": "code",
      "execution_count": null,
      "metadata": {},
      "outputs": [],
      "source": [
        "TABLEf = make_table_function(G_expr)"
      ]
    },
    {
      "cell_type": "code",
      "execution_count": null,
      "metadata": {},
      "outputs": [],
      "source": [
        "INPUT = 'IDENTIFIER + ( IDENTIFIER )'.split()\n",
        "d = full_parse(G_expr, TABLEf, INPUT)"
      ]
    },
    {
      "cell_type": "code",
      "execution_count": null,
      "metadata": {},
      "outputs": [
        {
          "data": {
            "image/svg+xml": [
              "<?xml version=\"1.0\" encoding=\"UTF-8\" standalone=\"no\"?>\n",
              "<!DOCTYPE svg PUBLIC \"-//W3C//DTD SVG 1.1//EN\"\n",
              " \"http://www.w3.org/Graphics/SVG/1.1/DTD/svg11.dtd\">\n",
              "<!-- Generated by graphviz version 2.43.0 (0)\n",
              " -->\n",
              "<!-- Title: %3 Pages: 1 -->\n",
              "<svg width=\"272pt\" height=\"359pt\"\n",
              " viewBox=\"0.00 0.00 272.00 359.00\" xmlns=\"http://www.w3.org/2000/svg\" xmlns:xlink=\"http://www.w3.org/1999/xlink\">\n",
              "<g id=\"graph0\" class=\"graph\" transform=\"scale(1 1) rotate(0) translate(4 355)\">\n",
              "<title>%3</title>\n",
              "<polygon fill=\"white\" stroke=\"transparent\" points=\"-4,4 -4,-355 268,-355 268,4 -4,4\"/>\n",
              "<!-- &#45;6226066026149760704 -->\n",
              "<g id=\"node1\" class=\"node\">\n",
              "<title>&#45;6226066026149760704</title>\n",
              "<path fill=\"none\" stroke=\"black\" stroke-width=\"0.25\" d=\"M92.83,-351C92.83,-351 72.17,-351 72.17,-351 68.33,-351 64.5,-347.17 64.5,-343.33 64.5,-343.33 64.5,-335.67 64.5,-335.67 64.5,-331.83 68.33,-328 72.17,-328 72.17,-328 92.83,-328 92.83,-328 96.67,-328 100.5,-331.83 100.5,-335.67 100.5,-335.67 100.5,-343.33 100.5,-343.33 100.5,-347.17 96.67,-351 92.83,-351\"/>\n",
              "<text text-anchor=\"middle\" x=\"82.5\" y=\"-335.8\" font-family=\"Times,serif\" font-size=\"14.00\">input</text>\n",
              "</g>\n",
              "<!-- 7027769762650226383 -->\n",
              "<g id=\"node2\" class=\"node\">\n",
              "<title>7027769762650226383</title>\n",
              "<path fill=\"none\" stroke=\"black\" stroke-width=\"0.25\" d=\"M107.83,-310C107.83,-310 57.17,-310 57.17,-310 53.33,-310 49.5,-306.17 49.5,-302.33 49.5,-302.33 49.5,-294.67 49.5,-294.67 49.5,-290.83 53.33,-287 57.17,-287 57.17,-287 107.83,-287 107.83,-287 111.67,-287 115.5,-290.83 115.5,-294.67 115.5,-294.67 115.5,-302.33 115.5,-302.33 115.5,-306.17 111.67,-310 107.83,-310\"/>\n",
              "<text text-anchor=\"middle\" x=\"82.5\" y=\"-294.8\" font-family=\"Times,serif\" font-size=\"14.00\">expression</text>\n",
              "</g>\n",
              "<!-- &#45;6226066026149760704&#45;&gt;7027769762650226383 -->\n",
              "<g id=\"edge1\" class=\"edge\">\n",
              "<title>&#45;6226066026149760704&#45;&gt;7027769762650226383</title>\n",
              "<path fill=\"none\" stroke=\"black\" stroke-width=\"0.5\" d=\"M82.5,-327.84C82.5,-322.34 82.5,-315.65 82.5,-310.14\"/>\n",
              "</g>\n",
              "<!-- 8092866398776949753 -->\n",
              "<g id=\"node3\" class=\"node\">\n",
              "<title>8092866398776949753</title>\n",
              "<path fill=\"none\" stroke=\"black\" stroke-width=\"0.25\" d=\"M50.83,-269C50.83,-269 32.17,-269 32.17,-269 28.33,-269 24.5,-265.17 24.5,-261.33 24.5,-261.33 24.5,-253.67 24.5,-253.67 24.5,-249.83 28.33,-246 32.17,-246 32.17,-246 50.83,-246 50.83,-246 54.67,-246 58.5,-249.83 58.5,-253.67 58.5,-253.67 58.5,-261.33 58.5,-261.33 58.5,-265.17 54.67,-269 50.83,-269\"/>\n",
              "<text text-anchor=\"middle\" x=\"41.5\" y=\"-253.8\" font-family=\"Times,serif\" font-size=\"14.00\">term</text>\n",
              "</g>\n",
              "<!-- 7027769762650226383&#45;&gt;8092866398776949753 -->\n",
              "<g id=\"edge2\" class=\"edge\">\n",
              "<title>7027769762650226383&#45;&gt;8092866398776949753</title>\n",
              "<path fill=\"none\" stroke=\"black\" stroke-width=\"0.5\" d=\"M71.3,-286.84C65.51,-281.34 58.47,-274.65 52.69,-269.14\"/>\n",
              "</g>\n",
              "<!-- &#45;3890029086146133936 -->\n",
              "<g id=\"node4\" class=\"node\">\n",
              "<title>&#45;3890029086146133936</title>\n",
              "<path fill=\"none\" stroke=\"black\" stroke-width=\"0.25\" d=\"M162.33,-269C162.33,-269 84.67,-269 84.67,-269 80.83,-269 77,-265.17 77,-261.33 77,-261.33 77,-253.67 77,-253.67 77,-249.83 80.83,-246 84.67,-246 84.67,-246 162.33,-246 162.33,-246 166.17,-246 170,-249.83 170,-253.67 170,-253.67 170,-261.33 170,-261.33 170,-265.17 166.17,-269 162.33,-269\"/>\n",
              "<text text-anchor=\"middle\" x=\"123.5\" y=\"-253.8\" font-family=\"Times,serif\" font-size=\"14.00\">rest_expression</text>\n",
              "</g>\n",
              "<!-- 7027769762650226383&#45;&gt;&#45;3890029086146133936 -->\n",
              "<g id=\"edge3\" class=\"edge\">\n",
              "<title>7027769762650226383&#45;&gt;&#45;3890029086146133936</title>\n",
              "<path fill=\"none\" stroke=\"black\" stroke-width=\"0.5\" d=\"M93.7,-286.84C99.49,-281.34 106.53,-274.65 112.31,-269.14\"/>\n",
              "</g>\n",
              "<!-- 8092866398776949753&#45;&gt;&#45;3890029086146133936 -->\n",
              "<!-- &#45;1141248324792359932 -->\n",
              "<g id=\"node5\" class=\"node\">\n",
              "<title>&#45;1141248324792359932</title>\n",
              "<path fill=\"none\" stroke=\"black\" stroke-width=\"1.25\" d=\"M75.33,-228C75.33,-228 7.67,-228 7.67,-228 3.83,-228 0,-224.17 0,-220.33 0,-220.33 0,-212.67 0,-212.67 0,-208.83 3.83,-205 7.67,-205 7.67,-205 75.33,-205 75.33,-205 79.17,-205 83,-208.83 83,-212.67 83,-212.67 83,-220.33 83,-220.33 83,-224.17 79.17,-228 75.33,-228\"/>\n",
              "<text text-anchor=\"middle\" x=\"41.5\" y=\"-212.8\" font-family=\"Times,serif\" font-size=\"14.00\">IDENTIFIER</text>\n",
              "</g>\n",
              "<!-- 8092866398776949753&#45;&gt;&#45;1141248324792359932 -->\n",
              "<g id=\"edge5\" class=\"edge\">\n",
              "<title>8092866398776949753&#45;&gt;&#45;1141248324792359932</title>\n",
              "<path fill=\"none\" stroke=\"black\" stroke-width=\"0.5\" d=\"M41.5,-245.84C41.5,-240.34 41.5,-233.65 41.5,-228.14\"/>\n",
              "</g>\n",
              "<!-- &#45;7582930923734437998 -->\n",
              "<g id=\"node6\" class=\"node\">\n",
              "<title>&#45;7582930923734437998</title>\n",
              "<path fill=\"none\" stroke=\"black\" stroke-width=\"1.25\" d=\"M119.33,-228C119.33,-228 113.67,-228 113.67,-228 110.83,-228 108,-225.17 108,-222.33 108,-222.33 108,-210.67 108,-210.67 108,-207.83 110.83,-205 113.67,-205 113.67,-205 119.33,-205 119.33,-205 122.17,-205 125,-207.83 125,-210.67 125,-210.67 125,-222.33 125,-222.33 125,-225.17 122.17,-228 119.33,-228\"/>\n",
              "<text text-anchor=\"middle\" x=\"116.5\" y=\"-212.8\" font-family=\"Times,serif\" font-size=\"14.00\">+</text>\n",
              "</g>\n",
              "<!-- &#45;3890029086146133936&#45;&gt;&#45;7582930923734437998 -->\n",
              "<g id=\"edge6\" class=\"edge\">\n",
              "<title>&#45;3890029086146133936&#45;&gt;&#45;7582930923734437998</title>\n",
              "<path fill=\"none\" stroke=\"black\" stroke-width=\"0.5\" d=\"M121.59,-245.84C120.6,-240.34 119.4,-233.65 118.41,-228.14\"/>\n",
              "</g>\n",
              "<!-- &#45;5605440183740302231 -->\n",
              "<g id=\"node7\" class=\"node\">\n",
              "<title>&#45;5605440183740302231</title>\n",
              "<path fill=\"none\" stroke=\"black\" stroke-width=\"0.25\" d=\"M201.83,-228C201.83,-228 151.17,-228 151.17,-228 147.33,-228 143.5,-224.17 143.5,-220.33 143.5,-220.33 143.5,-212.67 143.5,-212.67 143.5,-208.83 147.33,-205 151.17,-205 151.17,-205 201.83,-205 201.83,-205 205.67,-205 209.5,-208.83 209.5,-212.67 209.5,-212.67 209.5,-220.33 209.5,-220.33 209.5,-224.17 205.67,-228 201.83,-228\"/>\n",
              "<text text-anchor=\"middle\" x=\"176.5\" y=\"-212.8\" font-family=\"Times,serif\" font-size=\"14.00\">expression</text>\n",
              "</g>\n",
              "<!-- &#45;3890029086146133936&#45;&gt;&#45;5605440183740302231 -->\n",
              "<g id=\"edge7\" class=\"edge\">\n",
              "<title>&#45;3890029086146133936&#45;&gt;&#45;5605440183740302231</title>\n",
              "<path fill=\"none\" stroke=\"black\" stroke-width=\"0.5\" d=\"M137.98,-245.84C145.46,-240.34 154.56,-233.65 162.04,-228.14\"/>\n",
              "</g>\n",
              "<!-- &#45;7582930923734437998&#45;&gt;&#45;5605440183740302231 -->\n",
              "<!-- 352730481359117505 -->\n",
              "<g id=\"node8\" class=\"node\">\n",
              "<title>352730481359117505</title>\n",
              "<path fill=\"none\" stroke=\"black\" stroke-width=\"0.25\" d=\"M144.83,-187C144.83,-187 126.17,-187 126.17,-187 122.33,-187 118.5,-183.17 118.5,-179.33 118.5,-179.33 118.5,-171.67 118.5,-171.67 118.5,-167.83 122.33,-164 126.17,-164 126.17,-164 144.83,-164 144.83,-164 148.67,-164 152.5,-167.83 152.5,-171.67 152.5,-171.67 152.5,-179.33 152.5,-179.33 152.5,-183.17 148.67,-187 144.83,-187\"/>\n",
              "<text text-anchor=\"middle\" x=\"135.5\" y=\"-171.8\" font-family=\"Times,serif\" font-size=\"14.00\">term</text>\n",
              "</g>\n",
              "<!-- &#45;5605440183740302231&#45;&gt;352730481359117505 -->\n",
              "<g id=\"edge9\" class=\"edge\">\n",
              "<title>&#45;5605440183740302231&#45;&gt;352730481359117505</title>\n",
              "<path fill=\"none\" stroke=\"black\" stroke-width=\"0.5\" d=\"M165.3,-204.84C159.51,-199.34 152.47,-192.65 146.69,-187.14\"/>\n",
              "</g>\n",
              "<!-- 6816579070145585432 -->\n",
              "<g id=\"node9\" class=\"node\">\n",
              "<title>6816579070145585432</title>\n",
              "<path fill=\"none\" stroke=\"black\" stroke-width=\"0.25\" d=\"M256.33,-187C256.33,-187 178.67,-187 178.67,-187 174.83,-187 171,-183.17 171,-179.33 171,-179.33 171,-171.67 171,-171.67 171,-167.83 174.83,-164 178.67,-164 178.67,-164 256.33,-164 256.33,-164 260.17,-164 264,-167.83 264,-171.67 264,-171.67 264,-179.33 264,-179.33 264,-183.17 260.17,-187 256.33,-187\"/>\n",
              "<text text-anchor=\"middle\" x=\"217.5\" y=\"-171.8\" font-family=\"Times,serif\" font-size=\"14.00\">rest_expression</text>\n",
              "</g>\n",
              "<!-- &#45;5605440183740302231&#45;&gt;6816579070145585432 -->\n",
              "<g id=\"edge10\" class=\"edge\">\n",
              "<title>&#45;5605440183740302231&#45;&gt;6816579070145585432</title>\n",
              "<path fill=\"none\" stroke=\"black\" stroke-width=\"0.5\" d=\"M187.7,-204.84C193.49,-199.34 200.53,-192.65 206.31,-187.14\"/>\n",
              "</g>\n",
              "<!-- 352730481359117505&#45;&gt;6816579070145585432 -->\n",
              "<!-- 6942315213397951011 -->\n",
              "<g id=\"node10\" class=\"node\">\n",
              "<title>6942315213397951011</title>\n",
              "<path fill=\"none\" stroke=\"black\" stroke-width=\"0.25\" d=\"M193.33,-146C193.33,-146 61.67,-146 61.67,-146 57.83,-146 54,-142.17 54,-138.33 54,-138.33 54,-130.67 54,-130.67 54,-126.83 57.83,-123 61.67,-123 61.67,-123 193.33,-123 193.33,-123 197.17,-123 201,-126.83 201,-130.67 201,-130.67 201,-138.33 201,-138.33 201,-142.17 197.17,-146 193.33,-146\"/>\n",
              "<text text-anchor=\"middle\" x=\"127.5\" y=\"-130.8\" font-family=\"Times,serif\" font-size=\"14.00\">parenthesized_expression</text>\n",
              "</g>\n",
              "<!-- 352730481359117505&#45;&gt;6942315213397951011 -->\n",
              "<g id=\"edge12\" class=\"edge\">\n",
              "<title>352730481359117505&#45;&gt;6942315213397951011</title>\n",
              "<path fill=\"none\" stroke=\"black\" stroke-width=\"0.5\" d=\"M133.31,-163.84C132.19,-158.34 130.81,-151.65 129.68,-146.14\"/>\n",
              "</g>\n",
              "<!-- 4421567235601442311 -->\n",
              "<g id=\"node18\" class=\"node\">\n",
              "<title>4421567235601442311</title>\n",
              "<path fill=\"none\" stroke=\"black\" stroke-width=\"0.25\" d=\"M229,-146C229,-146 224,-146 224,-146 221.5,-146 219,-143.5 219,-141 219,-141 219,-128 219,-128 219,-125.5 221.5,-123 224,-123 224,-123 229,-123 229,-123 231.5,-123 234,-125.5 234,-128 234,-128 234,-141 234,-141 234,-143.5 231.5,-146 229,-146\"/>\n",
              "<text text-anchor=\"middle\" x=\"226.5\" y=\"-130.8\" font-family=\"Times,serif\" font-size=\"14.00\">ε</text>\n",
              "</g>\n",
              "<!-- 6816579070145585432&#45;&gt;4421567235601442311 -->\n",
              "<g id=\"edge23\" class=\"edge\">\n",
              "<title>6816579070145585432&#45;&gt;4421567235601442311</title>\n",
              "<path fill=\"none\" stroke=\"black\" stroke-width=\"0.5\" d=\"M219.96,-163.84C221.23,-158.34 222.77,-151.65 224.04,-146.14\"/>\n",
              "</g>\n",
              "<!-- 5992744631365535178 -->\n",
              "<g id=\"node11\" class=\"node\">\n",
              "<title>5992744631365535178</title>\n",
              "<path fill=\"none\" stroke=\"black\" stroke-width=\"1.25\" d=\"M71.67,-105C71.67,-105 67.33,-105 67.33,-105 65.17,-105 63,-102.83 63,-100.67 63,-100.67 63,-86.33 63,-86.33 63,-84.17 65.17,-82 67.33,-82 67.33,-82 71.67,-82 71.67,-82 73.83,-82 76,-84.17 76,-86.33 76,-86.33 76,-100.67 76,-100.67 76,-102.83 73.83,-105 71.67,-105\"/>\n",
              "<text text-anchor=\"middle\" x=\"69.5\" y=\"-89.8\" font-family=\"Times,serif\" font-size=\"14.00\">(</text>\n",
              "</g>\n",
              "<!-- 6942315213397951011&#45;&gt;5992744631365535178 -->\n",
              "<g id=\"edge13\" class=\"edge\">\n",
              "<title>6942315213397951011&#45;&gt;5992744631365535178</title>\n",
              "<path fill=\"none\" stroke=\"black\" stroke-width=\"0.5\" d=\"M111.65,-122.84C99.98,-114.99 84.7,-104.72 76.11,-98.95\"/>\n",
              "</g>\n",
              "<!-- 5101167972551417137 -->\n",
              "<g id=\"node12\" class=\"node\">\n",
              "<title>5101167972551417137</title>\n",
              "<path fill=\"none\" stroke=\"black\" stroke-width=\"0.25\" d=\"M152.83,-105C152.83,-105 102.17,-105 102.17,-105 98.33,-105 94.5,-101.17 94.5,-97.33 94.5,-97.33 94.5,-89.67 94.5,-89.67 94.5,-85.83 98.33,-82 102.17,-82 102.17,-82 152.83,-82 152.83,-82 156.67,-82 160.5,-85.83 160.5,-89.67 160.5,-89.67 160.5,-97.33 160.5,-97.33 160.5,-101.17 156.67,-105 152.83,-105\"/>\n",
              "<text text-anchor=\"middle\" x=\"127.5\" y=\"-89.8\" font-family=\"Times,serif\" font-size=\"14.00\">expression</text>\n",
              "</g>\n",
              "<!-- 6942315213397951011&#45;&gt;5101167972551417137 -->\n",
              "<g id=\"edge14\" class=\"edge\">\n",
              "<title>6942315213397951011&#45;&gt;5101167972551417137</title>\n",
              "<path fill=\"none\" stroke=\"black\" stroke-width=\"0.5\" d=\"M127.5,-122.84C127.5,-117.34 127.5,-110.65 127.5,-105.14\"/>\n",
              "</g>\n",
              "<!-- 3796641223346817302 -->\n",
              "<g id=\"node13\" class=\"node\">\n",
              "<title>3796641223346817302</title>\n",
              "<path fill=\"none\" stroke=\"black\" stroke-width=\"1.25\" d=\"M187.67,-105C187.67,-105 183.33,-105 183.33,-105 181.17,-105 179,-102.83 179,-100.67 179,-100.67 179,-86.33 179,-86.33 179,-84.17 181.17,-82 183.33,-82 183.33,-82 187.67,-82 187.67,-82 189.83,-82 192,-84.17 192,-86.33 192,-86.33 192,-100.67 192,-100.67 192,-102.83 189.83,-105 187.67,-105\"/>\n",
              "<text text-anchor=\"middle\" x=\"185.5\" y=\"-89.8\" font-family=\"Times,serif\" font-size=\"14.00\">)</text>\n",
              "</g>\n",
              "<!-- 6942315213397951011&#45;&gt;3796641223346817302 -->\n",
              "<g id=\"edge15\" class=\"edge\">\n",
              "<title>6942315213397951011&#45;&gt;3796641223346817302</title>\n",
              "<path fill=\"none\" stroke=\"black\" stroke-width=\"0.5\" d=\"M143.35,-122.84C155.02,-114.99 170.3,-104.72 178.89,-98.95\"/>\n",
              "</g>\n",
              "<!-- 5992744631365535178&#45;&gt;5101167972551417137 -->\n",
              "<!-- 5101167972551417137&#45;&gt;3796641223346817302 -->\n",
              "<!-- &#45;7387405436058714743 -->\n",
              "<g id=\"node14\" class=\"node\">\n",
              "<title>&#45;7387405436058714743</title>\n",
              "<path fill=\"none\" stroke=\"black\" stroke-width=\"0.25\" d=\"M95.83,-64C95.83,-64 77.17,-64 77.17,-64 73.33,-64 69.5,-60.17 69.5,-56.33 69.5,-56.33 69.5,-48.67 69.5,-48.67 69.5,-44.83 73.33,-41 77.17,-41 77.17,-41 95.83,-41 95.83,-41 99.67,-41 103.5,-44.83 103.5,-48.67 103.5,-48.67 103.5,-56.33 103.5,-56.33 103.5,-60.17 99.67,-64 95.83,-64\"/>\n",
              "<text text-anchor=\"middle\" x=\"86.5\" y=\"-48.8\" font-family=\"Times,serif\" font-size=\"14.00\">term</text>\n",
              "</g>\n",
              "<!-- 5101167972551417137&#45;&gt;&#45;7387405436058714743 -->\n",
              "<g id=\"edge18\" class=\"edge\">\n",
              "<title>5101167972551417137&#45;&gt;&#45;7387405436058714743</title>\n",
              "<path fill=\"none\" stroke=\"black\" stroke-width=\"0.5\" d=\"M116.3,-81.84C110.51,-76.34 103.47,-69.65 97.69,-64.14\"/>\n",
              "</g>\n",
              "<!-- &#45;7083094422277164687 -->\n",
              "<g id=\"node15\" class=\"node\">\n",
              "<title>&#45;7083094422277164687</title>\n",
              "<path fill=\"none\" stroke=\"black\" stroke-width=\"0.25\" d=\"M207.33,-64C207.33,-64 129.67,-64 129.67,-64 125.83,-64 122,-60.17 122,-56.33 122,-56.33 122,-48.67 122,-48.67 122,-44.83 125.83,-41 129.67,-41 129.67,-41 207.33,-41 207.33,-41 211.17,-41 215,-44.83 215,-48.67 215,-48.67 215,-56.33 215,-56.33 215,-60.17 211.17,-64 207.33,-64\"/>\n",
              "<text text-anchor=\"middle\" x=\"168.5\" y=\"-48.8\" font-family=\"Times,serif\" font-size=\"14.00\">rest_expression</text>\n",
              "</g>\n",
              "<!-- 5101167972551417137&#45;&gt;&#45;7083094422277164687 -->\n",
              "<g id=\"edge19\" class=\"edge\">\n",
              "<title>5101167972551417137&#45;&gt;&#45;7083094422277164687</title>\n",
              "<path fill=\"none\" stroke=\"black\" stroke-width=\"0.5\" d=\"M138.7,-81.84C144.49,-76.34 151.53,-69.65 157.31,-64.14\"/>\n",
              "</g>\n",
              "<!-- &#45;7387405436058714743&#45;&gt;&#45;7083094422277164687 -->\n",
              "<!-- &#45;4334313660923390683 -->\n",
              "<g id=\"node16\" class=\"node\">\n",
              "<title>&#45;4334313660923390683</title>\n",
              "<path fill=\"none\" stroke=\"black\" stroke-width=\"1.25\" d=\"M120.33,-23C120.33,-23 52.67,-23 52.67,-23 48.83,-23 45,-19.17 45,-15.33 45,-15.33 45,-7.67 45,-7.67 45,-3.83 48.83,0 52.67,0 52.67,0 120.33,0 120.33,0 124.17,0 128,-3.83 128,-7.67 128,-7.67 128,-15.33 128,-15.33 128,-19.17 124.17,-23 120.33,-23\"/>\n",
              "<text text-anchor=\"middle\" x=\"86.5\" y=\"-7.8\" font-family=\"Times,serif\" font-size=\"14.00\">IDENTIFIER</text>\n",
              "</g>\n",
              "<!-- &#45;7387405436058714743&#45;&gt;&#45;4334313660923390683 -->\n",
              "<g id=\"edge21\" class=\"edge\">\n",
              "<title>&#45;7387405436058714743&#45;&gt;&#45;4334313660923390683</title>\n",
              "<path fill=\"none\" stroke=\"black\" stroke-width=\"0.5\" d=\"M86.5,-40.84C86.5,-35.34 86.5,-28.65 86.5,-23.14\"/>\n",
              "</g>\n",
              "<!-- 2460267699357319876 -->\n",
              "<g id=\"node17\" class=\"node\">\n",
              "<title>2460267699357319876</title>\n",
              "<path fill=\"none\" stroke=\"black\" stroke-width=\"0.25\" d=\"M171,-23C171,-23 166,-23 166,-23 163.5,-23 161,-20.5 161,-18 161,-18 161,-5 161,-5 161,-2.5 163.5,0 166,0 166,0 171,0 171,0 173.5,0 176,-2.5 176,-5 176,-5 176,-18 176,-18 176,-20.5 173.5,-23 171,-23\"/>\n",
              "<text text-anchor=\"middle\" x=\"168.5\" y=\"-7.8\" font-family=\"Times,serif\" font-size=\"14.00\">ε</text>\n",
              "</g>\n",
              "<!-- &#45;7083094422277164687&#45;&gt;2460267699357319876 -->\n",
              "<g id=\"edge22\" class=\"edge\">\n",
              "<title>&#45;7083094422277164687&#45;&gt;2460267699357319876</title>\n",
              "<path fill=\"none\" stroke=\"black\" stroke-width=\"0.5\" d=\"M168.5,-40.84C168.5,-35.34 168.5,-28.65 168.5,-23.14\"/>\n",
              "</g>\n",
              "</g>\n",
              "</svg>\n"
            ],
            "text/plain": [
              "ProductionGraph(input -> expression -> term rest_expression -> IDENTIFIER rest_expression -> IDENTIFIER + expression -> IDENTIFIER + term rest_expression -> IDENTIFIER + parenthesized_expression rest_expression -> IDENTIFIER + ( expression ) rest_expression -> IDENTIFIER + ( term rest_expression ) rest_expression -> IDENTIFIER + ( IDENTIFIER rest_expression ) rest_expression -> IDENTIFIER + ( IDENTIFIER ) rest_expression -> IDENTIFIER + ( IDENTIFIER ))"
            ]
          },
          "execution_count": 1,
          "metadata": {},
          "output_type": "execute_result"
        }
      ],
      "source": [
        "ProductionGraph(d)"
      ]
    },
    {
      "cell_type": "markdown",
      "metadata": {},
      "source": [
        "## L'insieme `FOLLOW`, e `TABLE` (senza `FIRSTf` e pila)"
      ]
    },
    {
      "cell_type": "markdown",
      "metadata": {},
      "source": [
        "A prescindere dalla necessità di determinare se valga la proprietà *full LL(1)* (che non può essere appurato con una precomputazione, ma a limite può essere segnalato  all'accadere di un conflitto, come avviene in `TABLEf`), resta comunque il problema che\n",
        "gli insiemi $\\operatorname{FIRST}(\\alpha\\Gamma\\#)$ non possono essere precomputati e richiedono l'accesso all'intero contenuto $\\Gamma$ della pila.\n",
        "\n",
        "Osserviamo che se $A\\to \\alpha$ e $\\varepsilon \\not\\in \\operatorname{FIRST}(\\alpha)$, allora $\\operatorname{FIRST}(\\alpha\\Gamma\\#) = \\operatorname{FIRST}(\\alpha)$; il calcolo è quindi necessario nel caso in cui $\\varepsilon \\in \\operatorname{FIRST}(\\alpha)$ per cui invece $\\operatorname{FIRST}(\\alpha\\Gamma\\#) = \\left( \n",
        "\\operatorname{FIRST}(\\alpha) \\setminus \\{\\varepsilon\\} \\right) \\cup\n",
        "\\operatorname{FIRST}(\\Gamma\\#)$.\n",
        "\n",
        "Invece di calcolare $\\operatorname{FIRST}(\\Gamma\\#)$ al variare del contenuto della pila $\\Gamma$, si può considerare l'unione di tutti gli insiemi per ciascuna possibile pila (fermo restando il lato sinistro $A$):\n",
        "$$\n",
        "\\operatorname{FOLLOW}(A) = \n",
        "\\bigcup_{x, \\Gamma : S\\#\\overset{*}{\\to}x A\\Gamma\\#} \\operatorname{FIRST}(\\Gamma\\#) = \n",
        "\\{t \\in T | S\\#\\overset{*}{\\to}x A t y\\#\\}.\n",
        "$$\n",
        "\n",
        "Come vedremo:\n",
        "\n",
        "* l'insieme $\\operatorname{FOLLOW}(A)$ può essere precomputato (attraverso una chiusura),\n",
        "\n",
        "* è possibile costruire una tabella di predizione usando, per ogni $A\\to \\alpha$, solo gli insiemi $\\operatorname{FIRST}(\\alpha)$ e $\\operatorname{FOLLOW}(A)$.\n",
        "\n",
        "Iniziamo dal primo punto."
      ]
    },
    {
      "cell_type": "code",
      "execution_count": null,
      "metadata": {},
      "outputs": [],
      "source": [
        "def compute_follow(G, FIRST):\n",
        "    \n",
        "    FOLLOW = Table(1, set)\n",
        "    FOLLOW[G.S] |= {HASH}\n",
        "    \n",
        "    @closure\n",
        "    def complete_follow(FOLLOW):\n",
        "        for X, ω in G.P:\n",
        "            for γ in suffixes(ω): # X -> α A β (α è mangiato dal suffisso)\n",
        "                A, *β = γ\n",
        "                if A not in G.N: continue\n",
        "                FOLLOW[A] |= FIRST[β] - {ε}\n",
        "                if ε in FIRST[β]: FOLLOW[A] |= FOLLOW[X]\n",
        "        return FOLLOW\n",
        "    \n",
        "    return complete_follow(FOLLOW)"
      ]
    },
    {
      "cell_type": "markdown",
      "metadata": {},
      "source": [
        "L'osservazione cruciale è che, dato $X\\to\\alpha A \\beta$, si ha che \n",
        "$\\operatorname{FOLLOW}(A)$ contiene:\n",
        "\n",
        "* $\\operatorname{FIRST}(\\beta)$ (tolto eventualmente $\\varepsilon$),\n",
        "* $\\operatorname{FOLLOW}(X)$ se $\\varepsilon \\in \\operatorname{FIRST}(\\beta)$.\n",
        "\n",
        "Il secondo punto segue dal fatto che $S\\#\\overset{*}{\\to}x X t y\\to x\\alpha A \\beta y\\# \\overset{*}{\\to} x\\alpha A t y\\#$ quindi quel che segue $X$ segiurà anche $A$.\n",
        "\n",
        "Facciamo un esempio con la grammatica $G$ (di \"fatti e domande\"):"
      ]
    },
    {
      "cell_type": "code",
      "execution_count": null,
      "metadata": {},
      "outputs": [
        {
          "data": {
            "text/html": [
              "<style>td, th {border: 1pt solid lightgray !important; text-align: left !important;}</style><table><tr><th><pre>(Facts)</pre><td><pre>!, ε</pre>\n",
              "<tr><th><pre>(Session)</pre><td><pre>!, (, ?</pre>\n",
              "<tr><th><pre>(Question)</pre><td><pre>?</pre>\n",
              "<tr><th><pre>(Fact)</pre><td><pre>!</pre></table>"
            ],
            "text/plain": [
              "<liblet.utils.Table at 0x7fd8545c5340>"
            ]
          },
          "execution_count": 1,
          "metadata": {},
          "output_type": "execute_result"
        }
      ],
      "source": [
        "FIRST = compute_εfirst(G)\n",
        "FIRST.restrict_to({(N, ) for N in G.N})"
      ]
    },
    {
      "cell_type": "code",
      "execution_count": null,
      "metadata": {},
      "outputs": [
        {
          "data": {
            "text/html": [
              "<style>td, th {border: 1pt solid lightgray !important; text-align: left !important;}</style><table><tr><th><pre>Session</pre><td><pre>), ＃</pre>\n",
              "<tr><th><pre>Facts</pre><td><pre>?</pre>\n",
              "<tr><th><pre>Question</pre><td><pre>), ＃</pre>\n",
              "<tr><th><pre>Fact</pre><td><pre>!, ?</pre></table>"
            ],
            "text/plain": [
              "<liblet.utils.Table at 0x7fd8545c5d90>"
            ]
          },
          "execution_count": 1,
          "metadata": {},
          "output_type": "execute_result"
        }
      ],
      "source": [
        "FOLLOW = compute_follow(G, FIRST)\n",
        "FOLLOW"
      ]
    },
    {
      "cell_type": "markdown",
      "metadata": {},
      "source": [
        "Ora è possibile precomputare una vera e propria tabella, per ciascuna produzione $A\\to\\alpha$ tenendo traccia dei conflitti tra $\\operatorname{FIRST}$ e $\\operatorname{FOLLOW}$"
      ]
    },
    {
      "cell_type": "code",
      "execution_count": null,
      "metadata": {},
      "outputs": [],
      "source": [
        "def compute_table(G, FIRST, FOLLOW):\n",
        "    \n",
        "    TABLE = Table(2)\n",
        "    FIRST_TABLE = Table(2)\n",
        "    FOLLOW_TABLE = Table(2)\n",
        "\n",
        "    for P in G.P:\n",
        "        A, α = P\n",
        "        for a in FIRST[α] - {'ε'}:\n",
        "            if FIRST_TABLE[A, a] is not None:\n",
        "                warn('First/first conflict on ({}, {}) for production {}'.format(A, a, P))\n",
        "            else:\n",
        "                FIRST_TABLE[A, a] = P\n",
        "                TABLE[A, a] = P\n",
        "        if 'ε' in FIRST[α]:\n",
        "            for a in FOLLOW[A]:\n",
        "                if FIRST_TABLE[A, a] is not None:\n",
        "                    warn('First/follow conflict on ({}, {}) for production {}'.format(A, a, P))\n",
        "                if FOLLOW_TABLE[A, a] is not None:\n",
        "                    warn('Follow/follow conflict on ({}, {}) for production {}'.format(A, a, P))\n",
        "                if FIRST_TABLE[A, a] is None and FOLLOW_TABLE[A, a] is None:\n",
        "                    FOLLOW_TABLE[A, a] = P\n",
        "                    TABLE[A, a] = P\n",
        "    return TABLE"
      ]
    },
    {
      "cell_type": "markdown",
      "metadata": {},
      "source": [
        "Se la tabella contiene al più una produzione per ogni cella, allora la grammatica è detta **strong LL(1)**. Osservate che se una grammatica è full LL(1) allora è anche strong LL(1) (si dimostra per contronominale, vedi la Sez. 8.2.3. del libro)!\n",
        "\n",
        "Possiamo costruire la tabella per la grammatica dell'esempio precedente"
      ]
    },
    {
      "cell_type": "code",
      "execution_count": null,
      "metadata": {},
      "outputs": [
        {
          "data": {
            "text/html": [
              "<style>td, th {border: 1pt solid lightgray !important; text-align: left !important;}</style><table><tr><td>&nbsp;<th><pre>?</pre><th><pre>!</pre><th><pre>(</pre>\n",
              "<tr><th><pre>Session<pre><td><pre>Session -> Facts Question</pre><td><pre>Session -> Facts Question</pre><td><pre>Session -> ( Session ) Session</pre>\n",
              "<tr><th><pre>Facts<pre><td><pre>Facts -> ε</pre><td><pre>Facts -> Fact Facts</pre><td>&nbsp;\n",
              "<tr><th><pre>Fact<pre><td>&nbsp;<td><pre>Fact -> ! STRING</pre><td>&nbsp;\n",
              "<tr><th><pre>Question<pre><td><pre>Question -> ? STRING</pre><td>&nbsp;<td>&nbsp;\n",
              "</table>"
            ],
            "text/plain": [
              "<liblet.utils.Table at 0x7fd854627f10>"
            ]
          },
          "execution_count": 1,
          "metadata": {},
          "output_type": "execute_result"
        }
      ],
      "source": [
        "TABLE = compute_table(G, FIRST, FOLLOW)\n",
        "TABLE"
      ]
    },
    {
      "cell_type": "markdown",
      "metadata": {},
      "source": [
        "La costruzione del parser *strong* è molto simile a quella *full* della precedente sezione, ma ora la tabella è una vera e propria tabella e basta consultarla per la coppia $(A, a)$, non c'è bisogno di guardare tutta la pila!"
      ]
    },
    {
      "cell_type": "code",
      "execution_count": null,
      "metadata": {},
      "outputs": [],
      "source": [
        "def parse(G, TABLE, INPUT):\n",
        "    tdid = TopDownInstantaneousDescription(G, INPUT)\n",
        "    while not tdid.is_done():\n",
        "        if tdid.top() in G.N:\n",
        "            P = TABLE[tdid.top(), tdid.head()]\n",
        "            if P is None:\n",
        "                warn('No production for ({}, {}) at {}.'.format(tdid.top(), tdid.head(), tdid.steps) )\n",
        "                return None \n",
        "            tdid = tdid.predict(P)\n",
        "        else:\n",
        "            if tdid.top() == ε or tdid.top() == tdid.head():\n",
        "                tdid = tdid.match()\n",
        "            else:\n",
        "                warn('Expecting {}, got {}.'.format(tdid.top(), tdid.head()))\n",
        "                return None   \n",
        "    return Derivation(G).leftmost(tdid.steps)"
      ]
    },
    {
      "cell_type": "markdown",
      "metadata": {},
      "source": [
        "Facciamo un esempio sulla solita grammatica"
      ]
    },
    {
      "cell_type": "code",
      "execution_count": null,
      "metadata": {},
      "outputs": [
        {
          "data": {
            "image/svg+xml": [
              "<?xml version=\"1.0\" encoding=\"UTF-8\" standalone=\"no\"?>\n",
              "<!DOCTYPE svg PUBLIC \"-//W3C//DTD SVG 1.1//EN\"\n",
              " \"http://www.w3.org/Graphics/SVG/1.1/DTD/svg11.dtd\">\n",
              "<!-- Generated by graphviz version 2.43.0 (0)\n",
              " -->\n",
              "<!-- Title: %3 Pages: 1 -->\n",
              "<svg width=\"264pt\" height=\"195pt\"\n",
              " viewBox=\"0.00 0.00 264.00 195.00\" xmlns=\"http://www.w3.org/2000/svg\" xmlns:xlink=\"http://www.w3.org/1999/xlink\">\n",
              "<g id=\"graph0\" class=\"graph\" transform=\"scale(1 1) rotate(0) translate(4 191)\">\n",
              "<title>%3</title>\n",
              "<polygon fill=\"white\" stroke=\"transparent\" points=\"-4,4 -4,-191 260,-191 260,4 -4,4\"/>\n",
              "<!-- 397041168853457254 -->\n",
              "<g id=\"node1\" class=\"node\">\n",
              "<title>397041168853457254</title>\n",
              "<path fill=\"none\" stroke=\"black\" stroke-width=\"0.25\" d=\"M162.83,-187C162.83,-187 128.17,-187 128.17,-187 124.33,-187 120.5,-183.17 120.5,-179.33 120.5,-179.33 120.5,-171.67 120.5,-171.67 120.5,-167.83 124.33,-164 128.17,-164 128.17,-164 162.83,-164 162.83,-164 166.67,-164 170.5,-167.83 170.5,-171.67 170.5,-171.67 170.5,-179.33 170.5,-179.33 170.5,-183.17 166.67,-187 162.83,-187\"/>\n",
              "<text text-anchor=\"middle\" x=\"145.5\" y=\"-171.8\" font-family=\"Times,serif\" font-size=\"14.00\">Session</text>\n",
              "</g>\n",
              "<!-- 3431020408335926639 -->\n",
              "<g id=\"node2\" class=\"node\">\n",
              "<title>3431020408335926639</title>\n",
              "<path fill=\"none\" stroke=\"black\" stroke-width=\"0.25\" d=\"M124.33,-146C124.33,-146 102.67,-146 102.67,-146 98.83,-146 95,-142.17 95,-138.33 95,-138.33 95,-130.67 95,-130.67 95,-126.83 98.83,-123 102.67,-123 102.67,-123 124.33,-123 124.33,-123 128.17,-123 132,-126.83 132,-130.67 132,-130.67 132,-138.33 132,-138.33 132,-142.17 128.17,-146 124.33,-146\"/>\n",
              "<text text-anchor=\"middle\" x=\"113.5\" y=\"-130.8\" font-family=\"Times,serif\" font-size=\"14.00\">Facts</text>\n",
              "</g>\n",
              "<!-- 397041168853457254&#45;&gt;3431020408335926639 -->\n",
              "<g id=\"edge1\" class=\"edge\">\n",
              "<title>397041168853457254&#45;&gt;3431020408335926639</title>\n",
              "<path fill=\"none\" stroke=\"black\" stroke-width=\"0.5\" d=\"M136.76,-163.84C132.24,-158.34 126.75,-151.65 122.23,-146.14\"/>\n",
              "</g>\n",
              "<!-- &#45;5195099468685026074 -->\n",
              "<g id=\"node3\" class=\"node\">\n",
              "<title>&#45;5195099468685026074</title>\n",
              "<path fill=\"none\" stroke=\"black\" stroke-width=\"0.25\" d=\"M199.33,-146C199.33,-146 157.67,-146 157.67,-146 153.83,-146 150,-142.17 150,-138.33 150,-138.33 150,-130.67 150,-130.67 150,-126.83 153.83,-123 157.67,-123 157.67,-123 199.33,-123 199.33,-123 203.17,-123 207,-126.83 207,-130.67 207,-130.67 207,-138.33 207,-138.33 207,-142.17 203.17,-146 199.33,-146\"/>\n",
              "<text text-anchor=\"middle\" x=\"178.5\" y=\"-130.8\" font-family=\"Times,serif\" font-size=\"14.00\">Question</text>\n",
              "</g>\n",
              "<!-- 397041168853457254&#45;&gt;&#45;5195099468685026074 -->\n",
              "<g id=\"edge2\" class=\"edge\">\n",
              "<title>397041168853457254&#45;&gt;&#45;5195099468685026074</title>\n",
              "<path fill=\"none\" stroke=\"black\" stroke-width=\"0.5\" d=\"M154.52,-163.84C159.17,-158.34 164.84,-151.65 169.49,-146.14\"/>\n",
              "</g>\n",
              "<!-- 3431020408335926639&#45;&gt;&#45;5195099468685026074 -->\n",
              "<!-- &#45;6163221531568829082 -->\n",
              "<g id=\"node4\" class=\"node\">\n",
              "<title>&#45;6163221531568829082</title>\n",
              "<path fill=\"none\" stroke=\"black\" stroke-width=\"0.25\" d=\"M72.83,-105C72.83,-105 56.17,-105 56.17,-105 52.33,-105 48.5,-101.17 48.5,-97.33 48.5,-97.33 48.5,-89.67 48.5,-89.67 48.5,-85.83 52.33,-82 56.17,-82 56.17,-82 72.83,-82 72.83,-82 76.67,-82 80.5,-85.83 80.5,-89.67 80.5,-89.67 80.5,-97.33 80.5,-97.33 80.5,-101.17 76.67,-105 72.83,-105\"/>\n",
              "<text text-anchor=\"middle\" x=\"64.5\" y=\"-89.8\" font-family=\"Times,serif\" font-size=\"14.00\">Fact</text>\n",
              "</g>\n",
              "<!-- 3431020408335926639&#45;&gt;&#45;6163221531568829082 -->\n",
              "<g id=\"edge4\" class=\"edge\">\n",
              "<title>3431020408335926639&#45;&gt;&#45;6163221531568829082</title>\n",
              "<path fill=\"none\" stroke=\"black\" stroke-width=\"0.5\" d=\"M100.11,-122.84C93.2,-117.34 84.78,-110.65 77.87,-105.14\"/>\n",
              "</g>\n",
              "<!-- &#45;3899111467377015420 -->\n",
              "<g id=\"node5\" class=\"node\">\n",
              "<title>&#45;3899111467377015420</title>\n",
              "<path fill=\"none\" stroke=\"black\" stroke-width=\"0.25\" d=\"M130.33,-105C130.33,-105 108.67,-105 108.67,-105 104.83,-105 101,-101.17 101,-97.33 101,-97.33 101,-89.67 101,-89.67 101,-85.83 104.83,-82 108.67,-82 108.67,-82 130.33,-82 130.33,-82 134.17,-82 138,-85.83 138,-89.67 138,-89.67 138,-97.33 138,-97.33 138,-101.17 134.17,-105 130.33,-105\"/>\n",
              "<text text-anchor=\"middle\" x=\"119.5\" y=\"-89.8\" font-family=\"Times,serif\" font-size=\"14.00\">Facts</text>\n",
              "</g>\n",
              "<!-- 3431020408335926639&#45;&gt;&#45;3899111467377015420 -->\n",
              "<g id=\"edge5\" class=\"edge\">\n",
              "<title>3431020408335926639&#45;&gt;&#45;3899111467377015420</title>\n",
              "<path fill=\"none\" stroke=\"black\" stroke-width=\"0.5\" d=\"M115.14,-122.84C115.99,-117.34 117.02,-110.65 117.86,-105.14\"/>\n",
              "</g>\n",
              "<!-- 7879094860942044348 -->\n",
              "<g id=\"node13\" class=\"node\">\n",
              "<title>7879094860942044348</title>\n",
              "<path fill=\"none\" stroke=\"black\" stroke-width=\"1.25\" d=\"M176,-105C176,-105 171,-105 171,-105 168.5,-105 166,-102.5 166,-100 166,-100 166,-87 166,-87 166,-84.5 168.5,-82 171,-82 171,-82 176,-82 176,-82 178.5,-82 181,-84.5 181,-87 181,-87 181,-100 181,-100 181,-102.5 178.5,-105 176,-105\"/>\n",
              "<text text-anchor=\"middle\" x=\"173.5\" y=\"-89.8\" font-family=\"Times,serif\" font-size=\"14.00\">?</text>\n",
              "</g>\n",
              "<!-- &#45;5195099468685026074&#45;&gt;7879094860942044348 -->\n",
              "<g id=\"edge17\" class=\"edge\">\n",
              "<title>&#45;5195099468685026074&#45;&gt;7879094860942044348</title>\n",
              "<path fill=\"none\" stroke=\"black\" stroke-width=\"0.5\" d=\"M177.13,-122.84C176.43,-117.34 175.57,-110.65 174.86,-105.14\"/>\n",
              "</g>\n",
              "<!-- &#45;2820491870665548098 -->\n",
              "<g id=\"node14\" class=\"node\">\n",
              "<title>&#45;2820491870665548098</title>\n",
              "<path fill=\"none\" stroke=\"black\" stroke-width=\"1.25\" d=\"M248.33,-105C248.33,-105 206.67,-105 206.67,-105 202.83,-105 199,-101.17 199,-97.33 199,-97.33 199,-89.67 199,-89.67 199,-85.83 202.83,-82 206.67,-82 206.67,-82 248.33,-82 248.33,-82 252.17,-82 256,-85.83 256,-89.67 256,-89.67 256,-97.33 256,-97.33 256,-101.17 252.17,-105 248.33,-105\"/>\n",
              "<text text-anchor=\"middle\" x=\"227.5\" y=\"-89.8\" font-family=\"Times,serif\" font-size=\"14.00\">STRING</text>\n",
              "</g>\n",
              "<!-- &#45;5195099468685026074&#45;&gt;&#45;2820491870665548098 -->\n",
              "<g id=\"edge18\" class=\"edge\">\n",
              "<title>&#45;5195099468685026074&#45;&gt;&#45;2820491870665548098</title>\n",
              "<path fill=\"none\" stroke=\"black\" stroke-width=\"0.5\" d=\"M191.89,-122.84C198.8,-117.34 207.22,-110.65 214.13,-105.14\"/>\n",
              "</g>\n",
              "<!-- &#45;6163221531568829082&#45;&gt;&#45;3899111467377015420 -->\n",
              "<!-- &#45;7720158906072765903 -->\n",
              "<g id=\"node6\" class=\"node\">\n",
              "<title>&#45;7720158906072765903</title>\n",
              "<path fill=\"none\" stroke=\"black\" stroke-width=\"1.25\" d=\"M8.67,-64C8.67,-64 4.33,-64 4.33,-64 2.17,-64 0,-61.83 0,-59.67 0,-59.67 0,-45.33 0,-45.33 0,-43.17 2.17,-41 4.33,-41 4.33,-41 8.67,-41 8.67,-41 10.83,-41 13,-43.17 13,-45.33 13,-45.33 13,-59.67 13,-59.67 13,-61.83 10.83,-64 8.67,-64\"/>\n",
              "<text text-anchor=\"middle\" x=\"6.5\" y=\"-48.8\" font-family=\"Times,serif\" font-size=\"14.00\">!</text>\n",
              "</g>\n",
              "<!-- &#45;6163221531568829082&#45;&gt;&#45;7720158906072765903 -->\n",
              "<g id=\"edge7\" class=\"edge\">\n",
              "<title>&#45;6163221531568829082&#45;&gt;&#45;7720158906072765903</title>\n",
              "<path fill=\"none\" stroke=\"black\" stroke-width=\"0.5\" d=\"M48.1,-81.77C40.05,-76.47 30.23,-69.95 21.5,-64 18.77,-62.14 15.78,-60.06 13.2,-58.24\"/>\n",
              "</g>\n",
              "<!-- &#45;4930504605212103902 -->\n",
              "<g id=\"node7\" class=\"node\">\n",
              "<title>&#45;4930504605212103902</title>\n",
              "<path fill=\"none\" stroke=\"black\" stroke-width=\"1.25\" d=\"M80.33,-64C80.33,-64 38.67,-64 38.67,-64 34.83,-64 31,-60.17 31,-56.33 31,-56.33 31,-48.67 31,-48.67 31,-44.83 34.83,-41 38.67,-41 38.67,-41 80.33,-41 80.33,-41 84.17,-41 88,-44.83 88,-48.67 88,-48.67 88,-56.33 88,-56.33 88,-60.17 84.17,-64 80.33,-64\"/>\n",
              "<text text-anchor=\"middle\" x=\"59.5\" y=\"-48.8\" font-family=\"Times,serif\" font-size=\"14.00\">STRING</text>\n",
              "</g>\n",
              "<!-- &#45;6163221531568829082&#45;&gt;&#45;4930504605212103902 -->\n",
              "<g id=\"edge8\" class=\"edge\">\n",
              "<title>&#45;6163221531568829082&#45;&gt;&#45;4930504605212103902</title>\n",
              "<path fill=\"none\" stroke=\"black\" stroke-width=\"0.5\" d=\"M63.13,-81.84C62.43,-76.34 61.57,-69.65 60.86,-64.14\"/>\n",
              "</g>\n",
              "<!-- 1249869273655313277 -->\n",
              "<g id=\"node8\" class=\"node\">\n",
              "<title>1249869273655313277</title>\n",
              "<path fill=\"none\" stroke=\"black\" stroke-width=\"0.25\" d=\"M130.83,-64C130.83,-64 114.17,-64 114.17,-64 110.33,-64 106.5,-60.17 106.5,-56.33 106.5,-56.33 106.5,-48.67 106.5,-48.67 106.5,-44.83 110.33,-41 114.17,-41 114.17,-41 130.83,-41 130.83,-41 134.67,-41 138.5,-44.83 138.5,-48.67 138.5,-48.67 138.5,-56.33 138.5,-56.33 138.5,-60.17 134.67,-64 130.83,-64\"/>\n",
              "<text text-anchor=\"middle\" x=\"122.5\" y=\"-48.8\" font-family=\"Times,serif\" font-size=\"14.00\">Fact</text>\n",
              "</g>\n",
              "<!-- &#45;3899111467377015420&#45;&gt;1249869273655313277 -->\n",
              "<g id=\"edge10\" class=\"edge\">\n",
              "<title>&#45;3899111467377015420&#45;&gt;1249869273655313277</title>\n",
              "<path fill=\"none\" stroke=\"black\" stroke-width=\"0.5\" d=\"M120.32,-81.84C120.74,-76.34 121.26,-69.65 121.68,-64.14\"/>\n",
              "</g>\n",
              "<!-- &#45;9202189538054601975 -->\n",
              "<g id=\"node9\" class=\"node\">\n",
              "<title>&#45;9202189538054601975</title>\n",
              "<path fill=\"none\" stroke=\"black\" stroke-width=\"0.25\" d=\"M186.33,-64C186.33,-64 164.67,-64 164.67,-64 160.83,-64 157,-60.17 157,-56.33 157,-56.33 157,-48.67 157,-48.67 157,-44.83 160.83,-41 164.67,-41 164.67,-41 186.33,-41 186.33,-41 190.17,-41 194,-44.83 194,-48.67 194,-48.67 194,-56.33 194,-56.33 194,-60.17 190.17,-64 186.33,-64\"/>\n",
              "<text text-anchor=\"middle\" x=\"175.5\" y=\"-48.8\" font-family=\"Times,serif\" font-size=\"14.00\">Facts</text>\n",
              "</g>\n",
              "<!-- &#45;3899111467377015420&#45;&gt;&#45;9202189538054601975 -->\n",
              "<g id=\"edge11\" class=\"edge\">\n",
              "<title>&#45;3899111467377015420&#45;&gt;&#45;9202189538054601975</title>\n",
              "<path fill=\"none\" stroke=\"black\" stroke-width=\"0.5\" d=\"M134.8,-81.84C142.7,-76.34 152.32,-69.65 160.22,-64.14\"/>\n",
              "</g>\n",
              "<!-- &#45;7720158906072765903&#45;&gt;&#45;4930504605212103902 -->\n",
              "<!-- 1249869273655313277&#45;&gt;&#45;9202189538054601975 -->\n",
              "<!-- &#45;307068100848623544 -->\n",
              "<g id=\"node10\" class=\"node\">\n",
              "<title>&#45;307068100848623544</title>\n",
              "<path fill=\"none\" stroke=\"black\" stroke-width=\"1.25\" d=\"M71.67,-23C71.67,-23 67.33,-23 67.33,-23 65.17,-23 63,-20.83 63,-18.67 63,-18.67 63,-4.33 63,-4.33 63,-2.17 65.17,0 67.33,0 67.33,0 71.67,0 71.67,0 73.83,0 76,-2.17 76,-4.33 76,-4.33 76,-18.67 76,-18.67 76,-20.83 73.83,-23 71.67,-23\"/>\n",
              "<text text-anchor=\"middle\" x=\"69.5\" y=\"-7.8\" font-family=\"Times,serif\" font-size=\"14.00\">!</text>\n",
              "</g>\n",
              "<!-- 1249869273655313277&#45;&gt;&#45;307068100848623544 -->\n",
              "<g id=\"edge13\" class=\"edge\">\n",
              "<title>1249869273655313277&#45;&gt;&#45;307068100848623544</title>\n",
              "<path fill=\"none\" stroke=\"black\" stroke-width=\"0.5\" d=\"M108.02,-40.84C97.6,-33.18 84.03,-23.19 76.09,-17.35\"/>\n",
              "</g>\n",
              "<!-- 3814804014835493031 -->\n",
              "<g id=\"node11\" class=\"node\">\n",
              "<title>3814804014835493031</title>\n",
              "<path fill=\"none\" stroke=\"black\" stroke-width=\"1.25\" d=\"M143.33,-23C143.33,-23 101.67,-23 101.67,-23 97.83,-23 94,-19.17 94,-15.33 94,-15.33 94,-7.67 94,-7.67 94,-3.83 97.83,0 101.67,0 101.67,0 143.33,0 143.33,0 147.17,0 151,-3.83 151,-7.67 151,-7.67 151,-15.33 151,-15.33 151,-19.17 147.17,-23 143.33,-23\"/>\n",
              "<text text-anchor=\"middle\" x=\"122.5\" y=\"-7.8\" font-family=\"Times,serif\" font-size=\"14.00\">STRING</text>\n",
              "</g>\n",
              "<!-- 1249869273655313277&#45;&gt;3814804014835493031 -->\n",
              "<g id=\"edge14\" class=\"edge\">\n",
              "<title>1249869273655313277&#45;&gt;3814804014835493031</title>\n",
              "<path fill=\"none\" stroke=\"black\" stroke-width=\"0.5\" d=\"M122.5,-40.84C122.5,-35.34 122.5,-28.65 122.5,-23.14\"/>\n",
              "</g>\n",
              "<!-- 350254964810764072 -->\n",
              "<g id=\"node12\" class=\"node\">\n",
              "<title>350254964810764072</title>\n",
              "<path fill=\"none\" stroke=\"black\" stroke-width=\"0.25\" d=\"M179,-23C179,-23 174,-23 174,-23 171.5,-23 169,-20.5 169,-18 169,-18 169,-5 169,-5 169,-2.5 171.5,0 174,0 174,0 179,0 179,0 181.5,0 184,-2.5 184,-5 184,-5 184,-18 184,-18 184,-20.5 181.5,-23 179,-23\"/>\n",
              "<text text-anchor=\"middle\" x=\"176.5\" y=\"-7.8\" font-family=\"Times,serif\" font-size=\"14.00\">ε</text>\n",
              "</g>\n",
              "<!-- &#45;9202189538054601975&#45;&gt;350254964810764072 -->\n",
              "<g id=\"edge16\" class=\"edge\">\n",
              "<title>&#45;9202189538054601975&#45;&gt;350254964810764072</title>\n",
              "<path fill=\"none\" stroke=\"black\" stroke-width=\"0.5\" d=\"M175.77,-40.84C175.91,-35.34 176.09,-28.65 176.23,-23.14\"/>\n",
              "</g>\n",
              "<!-- &#45;307068100848623544&#45;&gt;3814804014835493031 -->\n",
              "<!-- 7879094860942044348&#45;&gt;&#45;2820491870665548098 -->\n",
              "</g>\n",
              "</svg>\n"
            ],
            "text/plain": [
              "ProductionGraph(Session -> Facts Question -> Fact Facts Question -> ! STRING Facts Question -> ! STRING Fact Facts Question -> ! STRING ! STRING Facts Question -> ! STRING ! STRING Question -> ! STRING ! STRING ? STRING)"
            ]
          },
          "execution_count": 1,
          "metadata": {},
          "output_type": "execute_result"
        }
      ],
      "source": [
        "d = parse(G, TABLE, '! STRING ! STRING ? STRING'.split())\n",
        "ProductionGraph(d)"
      ]
    },
    {
      "cell_type": "markdown",
      "metadata": {},
      "source": [
        "### Consideriamo i vari casi di conflitto attraverso degli esempi\n",
        "\n",
        "Introduciamo una funzione di comodo che faccia i vari passi di comptuazione…"
      ]
    },
    {
      "cell_type": "code",
      "execution_count": null,
      "metadata": {},
      "outputs": [],
      "source": [
        "def fft(G):\n",
        "    FIRST = compute_εfirst(G)\n",
        "    FOLLOW = compute_follow(G, FIRST)\n",
        "    FF = Table(2)\n",
        "    for N in G.N: \n",
        "        FF[N, 'First'] = FIRST[(N, )]\n",
        "        FF[N, 'Follow'] = FOLLOW[N]\n",
        "    return FF, compute_table(G, FIRST, FOLLOW)"
      ]
    },
    {
      "cell_type": "markdown",
      "metadata": {},
      "source": [
        "#### Caso first/first"
      ]
    },
    {
      "cell_type": "code",
      "execution_count": null,
      "metadata": {},
      "outputs": [],
      "source": [
        "G = Grammar.from_string(\"\"\"\n",
        "S -> a | A\n",
        "A -> a\n",
        "\"\"\")"
      ]
    },
    {
      "cell_type": "code",
      "execution_count": null,
      "metadata": {},
      "outputs": [
        {
          "name": "stderr",
          "output_type": "stream",
          "text": [
            "First/first conflict on (S, a) for production S -> A\n"
          ]
        }
      ],
      "source": [
        "FF, TABLE = fft(G)"
      ]
    },
    {
      "cell_type": "code",
      "execution_count": null,
      "metadata": {},
      "outputs": [
        {
          "data": {
            "text/html": [
              "<style>td, th {border: 1pt solid lightgray !important; text-align: left !important;}</style><table><tr><td>&nbsp;<th><pre>First</pre><th><pre>Follow</pre>\n",
              "<tr><th><pre>S<pre><td><pre>a</pre><td><pre>＃</pre>\n",
              "<tr><th><pre>A<pre><td><pre>a</pre><td><pre>＃</pre>\n",
              "</table>"
            ],
            "text/plain": [
              "<liblet.utils.Table at 0x7fd8545bea30>"
            ]
          },
          "execution_count": 1,
          "metadata": {},
          "output_type": "execute_result"
        }
      ],
      "source": [
        "FF"
      ]
    },
    {
      "cell_type": "code",
      "execution_count": null,
      "metadata": {},
      "outputs": [
        {
          "data": {
            "text/html": [
              "<style>td, th {border: 1pt solid lightgray !important; text-align: left !important;}</style><table><tr><td>&nbsp;<th><pre>a</pre>\n",
              "<tr><th><pre>S<pre><td><pre>S -> a</pre>\n",
              "<tr><th><pre>A<pre><td><pre>A -> a</pre>\n",
              "</table>"
            ],
            "text/plain": [
              "<liblet.utils.Table at 0x7fd8545bea90>"
            ]
          },
          "execution_count": 1,
          "metadata": {},
          "output_type": "execute_result"
        }
      ],
      "source": [
        "TABLE"
      ]
    },
    {
      "cell_type": "markdown",
      "metadata": {},
      "source": [
        "#### Caso first/follow"
      ]
    },
    {
      "cell_type": "code",
      "execution_count": null,
      "metadata": {},
      "outputs": [],
      "source": [
        "G = Grammar.from_string(\"\"\"\n",
        "S -> A a\n",
        "A -> a | ε\n",
        "\"\"\")"
      ]
    },
    {
      "cell_type": "code",
      "execution_count": null,
      "metadata": {},
      "outputs": [
        {
          "name": "stderr",
          "output_type": "stream",
          "text": [
            "First/follow conflict on (A, a) for production A -> ε\n"
          ]
        }
      ],
      "source": [
        "FF, TABLE = fft(G)"
      ]
    },
    {
      "cell_type": "code",
      "execution_count": null,
      "metadata": {},
      "outputs": [
        {
          "data": {
            "text/html": [
              "<style>td, th {border: 1pt solid lightgray !important; text-align: left !important;}</style><table><tr><td>&nbsp;<th><pre>First</pre><th><pre>Follow</pre>\n",
              "<tr><th><pre>S<pre><td><pre>a</pre><td><pre>＃</pre>\n",
              "<tr><th><pre>A<pre><td><pre>a, ε</pre><td><pre>a</pre>\n",
              "</table>"
            ],
            "text/plain": [
              "<liblet.utils.Table at 0x7fd8545be9d0>"
            ]
          },
          "execution_count": 1,
          "metadata": {},
          "output_type": "execute_result"
        }
      ],
      "source": [
        "FF"
      ]
    },
    {
      "cell_type": "code",
      "execution_count": null,
      "metadata": {},
      "outputs": [
        {
          "data": {
            "text/html": [
              "<style>td, th {border: 1pt solid lightgray !important; text-align: left !important;}</style><table><tr><td>&nbsp;<th><pre>a</pre>\n",
              "<tr><th><pre>S<pre><td><pre>S -> A a</pre>\n",
              "<tr><th><pre>A<pre><td><pre>A -> a</pre>\n",
              "</table>"
            ],
            "text/plain": [
              "<liblet.utils.Table at 0x7fd8545d1280>"
            ]
          },
          "execution_count": 1,
          "metadata": {},
          "output_type": "execute_result"
        }
      ],
      "source": [
        "TABLE"
      ]
    },
    {
      "cell_type": "markdown",
      "metadata": {},
      "source": [
        "#### Caso follow/follow"
      ]
    },
    {
      "cell_type": "code",
      "execution_count": null,
      "metadata": {},
      "outputs": [],
      "source": [
        "G = Grammar.from_string(\"\"\"\n",
        "S -> A a\n",
        "A -> B | C\n",
        "B -> ε | b\n",
        "C -> ε | c\n",
        "\"\"\")"
      ]
    },
    {
      "cell_type": "code",
      "execution_count": null,
      "metadata": {},
      "outputs": [
        {
          "name": "stderr",
          "output_type": "stream",
          "text": [
            "Follow/follow conflict on (A, a) for production A -> C\n"
          ]
        }
      ],
      "source": [
        "FF, TABLE = fft(G) "
      ]
    },
    {
      "cell_type": "code",
      "execution_count": null,
      "metadata": {},
      "outputs": [
        {
          "data": {
            "text/html": [
              "<style>td, th {border: 1pt solid lightgray !important; text-align: left !important;}</style><table><tr><td>&nbsp;<th><pre>First</pre><th><pre>Follow</pre>\n",
              "<tr><th><pre>S<pre><td><pre>a, b, c</pre><td><pre>＃</pre>\n",
              "<tr><th><pre>C<pre><td><pre>c, ε</pre><td><pre>a</pre>\n",
              "<tr><th><pre>A<pre><td><pre>b, c, ε</pre><td><pre>a</pre>\n",
              "<tr><th><pre>B<pre><td><pre>b, ε</pre><td><pre>a</pre>\n",
              "</table>"
            ],
            "text/plain": [
              "<liblet.utils.Table at 0x7fd8545c50a0>"
            ]
          },
          "execution_count": 1,
          "metadata": {},
          "output_type": "execute_result"
        }
      ],
      "source": [
        "FF"
      ]
    },
    {
      "cell_type": "code",
      "execution_count": null,
      "metadata": {},
      "outputs": [
        {
          "data": {
            "text/html": [
              "<style>td, th {border: 1pt solid lightgray !important; text-align: left !important;}</style><table><tr><td>&nbsp;<th><pre>b</pre><th><pre>c</pre><th><pre>a</pre>\n",
              "<tr><th><pre>S<pre><td><pre>S -> A a</pre><td><pre>S -> A a</pre><td><pre>S -> A a</pre>\n",
              "<tr><th><pre>A<pre><td><pre>A -> B</pre><td><pre>A -> C</pre><td><pre>A -> B</pre>\n",
              "<tr><th><pre>B<pre><td><pre>B -> b</pre><td>&nbsp;<td><pre>B -> ε</pre>\n",
              "<tr><th><pre>C<pre><td>&nbsp;<td><pre>C -> c</pre><td><pre>C -> ε</pre>\n",
              "</table>"
            ],
            "text/plain": [
              "<liblet.utils.Table at 0x7fd8545c5370>"
            ]
          },
          "execution_count": 1,
          "metadata": {},
          "output_type": "execute_result"
        }
      ],
      "source": [
        "TABLE"
      ]
    },
    {
      "cell_type": "markdown",
      "metadata": {},
      "source": [
        "## Fattorizzazione ed eliminazione dei conflitti\n",
        "\n",
        "In presenza di due alternative $A\\to \\alpha\\beta|\\alpha\\gamma$ con $\\alpha$ non trasparente è evidente che sia impossibile scegliere sulla base di $\\operatorname{FIRST}(\\alpha)$ che riguarda entrambe le alternative! Una possibile soluzione consiste nel \"fattorizzare\" $\\alpha$ mendiante l'introduzione di un nuovo non terminale $N$ cambiando le produzioni in $A\\to \\alpha N$ e $N\\to \\beta|\\gamma$ sperando che $\\operatorname{FIRST}(\\beta)$ e $\\operatorname{FIRST}(\\gamma)$ siano disigunti.\n",
        "\n",
        "Proviamo ad usare, come esempio, una grammatica per operazioni aritmetiche in cui ogni operatore coinvolga esattamente due sottoespressioni:"
      ]
    },
    {
      "cell_type": "code",
      "execution_count": null,
      "metadata": {},
      "outputs": [],
      "source": [
        "G = Grammar.from_string(\"\"\"\n",
        "E  -> T + T | T\n",
        "T  -> F * F | F \n",
        "F  -> ( E ) | i\n",
        "\"\"\")"
      ]
    },
    {
      "cell_type": "markdown",
      "metadata": {},
      "source": [
        "Ci sono conflitti…"
      ]
    },
    {
      "cell_type": "code",
      "execution_count": null,
      "metadata": {},
      "outputs": [
        {
          "name": "stderr",
          "output_type": "stream",
          "text": [
            "First/first conflict on (E, i) for production E -> T\n",
            "First/first conflict on (E, () for production E -> T\n",
            "First/first conflict on (T, i) for production T -> F\n",
            "First/first conflict on (T, () for production T -> F\n"
          ]
        }
      ],
      "source": [
        "FF, TABLE = fft(G) "
      ]
    },
    {
      "cell_type": "code",
      "execution_count": null,
      "metadata": {},
      "outputs": [
        {
          "data": {
            "text/html": [
              "<style>td, th {border: 1pt solid lightgray !important; text-align: left !important;}</style><table><tr><td>&nbsp;<th><pre>First</pre><th><pre>Follow</pre>\n",
              "<tr><th><pre>T<pre><td><pre>(, i</pre><td><pre>), +, ＃</pre>\n",
              "<tr><th><pre>E<pre><td><pre>(, i</pre><td><pre>), ＃</pre>\n",
              "<tr><th><pre>F<pre><td><pre>(, i</pre><td><pre>), *, +, ＃</pre>\n",
              "</table>"
            ],
            "text/plain": [
              "<liblet.utils.Table at 0x7fd8545d1100>"
            ]
          },
          "execution_count": 1,
          "metadata": {},
          "output_type": "execute_result"
        }
      ],
      "source": [
        "FF"
      ]
    },
    {
      "cell_type": "code",
      "execution_count": null,
      "metadata": {},
      "outputs": [
        {
          "data": {
            "text/html": [
              "<style>td, th {border: 1pt solid lightgray !important; text-align: left !important;}</style><table><tr><td>&nbsp;<th><pre>i</pre><th><pre>(</pre>\n",
              "<tr><th><pre>E<pre><td><pre>E -> T + T</pre><td><pre>E -> T + T</pre>\n",
              "<tr><th><pre>T<pre><td><pre>T -> F * F</pre><td><pre>T -> F * F</pre>\n",
              "<tr><th><pre>F<pre><td><pre>F -> i</pre><td><pre>F -> ( E )</pre>\n",
              "</table>"
            ],
            "text/plain": [
              "<liblet.utils.Table at 0x7fd8545c9940>"
            ]
          },
          "execution_count": 1,
          "metadata": {},
          "output_type": "execute_result"
        }
      ],
      "source": [
        "TABLE"
      ]
    },
    {
      "cell_type": "markdown",
      "metadata": {},
      "source": [
        "Che possono essere risolti fattorizzando sia `T` che `F`"
      ]
    },
    {
      "cell_type": "code",
      "execution_count": null,
      "metadata": {},
      "outputs": [],
      "source": [
        "G = Grammar.from_string(\"\"\"\n",
        "E  -> T E’\n",
        "E’ -> + T | ε\n",
        "T  -> F F’\n",
        "F’ -> * F | ε\n",
        "F  -> ( E ) | i\n",
        "\"\"\")"
      ]
    },
    {
      "cell_type": "code",
      "execution_count": null,
      "metadata": {},
      "outputs": [],
      "source": [
        "FF, TABLE = fft(G) "
      ]
    },
    {
      "cell_type": "code",
      "execution_count": null,
      "metadata": {},
      "outputs": [
        {
          "data": {
            "text/html": [
              "<style>td, th {border: 1pt solid lightgray !important; text-align: left !important;}</style><table><tr><td>&nbsp;<th><pre>i</pre><th><pre>(</pre><th><pre>+</pre><th><pre>)</pre><th><pre>＃</pre><th><pre>*</pre>\n",
              "<tr><th><pre>E<pre><td><pre>E -> T E’</pre><td><pre>E -> T E’</pre><td>&nbsp;<td>&nbsp;<td>&nbsp;<td>&nbsp;\n",
              "<tr><th><pre>E’<pre><td>&nbsp;<td>&nbsp;<td><pre>E’ -> + T</pre><td><pre>E’ -> ε</pre><td><pre>E’ -> ε</pre><td>&nbsp;\n",
              "<tr><th><pre>T<pre><td><pre>T -> F F’</pre><td><pre>T -> F F’</pre><td>&nbsp;<td>&nbsp;<td>&nbsp;<td>&nbsp;\n",
              "<tr><th><pre>F’<pre><td>&nbsp;<td>&nbsp;<td><pre>F’ -> ε</pre><td><pre>F’ -> ε</pre><td><pre>F’ -> ε</pre><td><pre>F’ -> * F</pre>\n",
              "<tr><th><pre>F<pre><td><pre>F -> i</pre><td><pre>F -> ( E )</pre><td>&nbsp;<td>&nbsp;<td>&nbsp;<td>&nbsp;\n",
              "</table>"
            ],
            "text/plain": [
              "<liblet.utils.Table at 0x7fd8545c90a0>"
            ]
          },
          "execution_count": 1,
          "metadata": {},
          "output_type": "execute_result"
        }
      ],
      "source": [
        "TABLE"
      ]
    },
    {
      "cell_type": "markdown",
      "metadata": {},
      "source": [
        "Tentiamo il parse"
      ]
    },
    {
      "cell_type": "code",
      "execution_count": null,
      "metadata": {},
      "outputs": [
        {
          "data": {
            "image/svg+xml": [
              "<?xml version=\"1.0\" encoding=\"UTF-8\" standalone=\"no\"?>\n",
              "<!DOCTYPE svg PUBLIC \"-//W3C//DTD SVG 1.1//EN\"\n",
              " \"http://www.w3.org/Graphics/SVG/1.1/DTD/svg11.dtd\">\n",
              "<!-- Generated by graphviz version 2.43.0 (0)\n",
              " -->\n",
              "<!-- Title: %3 Pages: 1 -->\n",
              "<svg width=\"195pt\" height=\"400pt\"\n",
              " viewBox=\"0.00 0.00 195.00 400.00\" xmlns=\"http://www.w3.org/2000/svg\" xmlns:xlink=\"http://www.w3.org/1999/xlink\">\n",
              "<g id=\"graph0\" class=\"graph\" transform=\"scale(1 1) rotate(0) translate(4 396)\">\n",
              "<title>%3</title>\n",
              "<polygon fill=\"white\" stroke=\"transparent\" points=\"-4,4 -4,-396 191,-396 191,4 -4,4\"/>\n",
              "<!-- &#45;7424810270564445231 -->\n",
              "<g id=\"node1\" class=\"node\">\n",
              "<title>&#45;7424810270564445231</title>\n",
              "<path fill=\"none\" stroke=\"black\" stroke-width=\"0.25\" d=\"M64.83,-392C64.83,-392 59.17,-392 59.17,-392 56.33,-392 53.5,-389.17 53.5,-386.33 53.5,-386.33 53.5,-374.67 53.5,-374.67 53.5,-371.83 56.33,-369 59.17,-369 59.17,-369 64.83,-369 64.83,-369 67.67,-369 70.5,-371.83 70.5,-374.67 70.5,-374.67 70.5,-386.33 70.5,-386.33 70.5,-389.17 67.67,-392 64.83,-392\"/>\n",
              "<text text-anchor=\"middle\" x=\"62\" y=\"-376.8\" font-family=\"Times,serif\" font-size=\"14.00\">E</text>\n",
              "</g>\n",
              "<!-- 8952180190667046750 -->\n",
              "<g id=\"node2\" class=\"node\">\n",
              "<title>8952180190667046750</title>\n",
              "<path fill=\"none\" stroke=\"black\" stroke-width=\"0.25\" d=\"M46.83,-351C46.83,-351 41.17,-351 41.17,-351 38.33,-351 35.5,-348.17 35.5,-345.33 35.5,-345.33 35.5,-333.67 35.5,-333.67 35.5,-330.83 38.33,-328 41.17,-328 41.17,-328 46.83,-328 46.83,-328 49.67,-328 52.5,-330.83 52.5,-333.67 52.5,-333.67 52.5,-345.33 52.5,-345.33 52.5,-348.17 49.67,-351 46.83,-351\"/>\n",
              "<text text-anchor=\"middle\" x=\"44\" y=\"-335.8\" font-family=\"Times,serif\" font-size=\"14.00\">T</text>\n",
              "</g>\n",
              "<!-- &#45;7424810270564445231&#45;&gt;8952180190667046750 -->\n",
              "<g id=\"edge1\" class=\"edge\">\n",
              "<title>&#45;7424810270564445231&#45;&gt;8952180190667046750</title>\n",
              "<path fill=\"none\" stroke=\"black\" stroke-width=\"0.5\" d=\"M57.08,-368.84C54.54,-363.34 51.45,-356.65 48.91,-351.14\"/>\n",
              "</g>\n",
              "<!-- &#45;7354823018581532275 -->\n",
              "<g id=\"node3\" class=\"node\">\n",
              "<title>&#45;7354823018581532275</title>\n",
              "<path fill=\"none\" stroke=\"black\" stroke-width=\"0.25\" d=\"M84.5,-351C84.5,-351 77.5,-351 77.5,-351 74,-351 70.5,-347.5 70.5,-344 70.5,-344 70.5,-335 70.5,-335 70.5,-331.5 74,-328 77.5,-328 77.5,-328 84.5,-328 84.5,-328 88,-328 91.5,-331.5 91.5,-335 91.5,-335 91.5,-344 91.5,-344 91.5,-347.5 88,-351 84.5,-351\"/>\n",
              "<text text-anchor=\"middle\" x=\"81\" y=\"-335.8\" font-family=\"Times,serif\" font-size=\"14.00\">E’</text>\n",
              "</g>\n",
              "<!-- &#45;7424810270564445231&#45;&gt;&#45;7354823018581532275 -->\n",
              "<g id=\"edge2\" class=\"edge\">\n",
              "<title>&#45;7424810270564445231&#45;&gt;&#45;7354823018581532275</title>\n",
              "<path fill=\"none\" stroke=\"black\" stroke-width=\"0.5\" d=\"M67.19,-368.84C69.87,-363.34 73.13,-356.65 75.81,-351.14\"/>\n",
              "</g>\n",
              "<!-- 8952180190667046750&#45;&gt;&#45;7354823018581532275 -->\n",
              "<!-- 6782337801977867298 -->\n",
              "<g id=\"node4\" class=\"node\">\n",
              "<title>6782337801977867298</title>\n",
              "<path fill=\"none\" stroke=\"black\" stroke-width=\"0.25\" d=\"M10.67,-310C10.67,-310 5.33,-310 5.33,-310 2.67,-310 0,-307.33 0,-304.67 0,-304.67 0,-292.33 0,-292.33 0,-289.67 2.67,-287 5.33,-287 5.33,-287 10.67,-287 10.67,-287 13.33,-287 16,-289.67 16,-292.33 16,-292.33 16,-304.67 16,-304.67 16,-307.33 13.33,-310 10.67,-310\"/>\n",
              "<text text-anchor=\"middle\" x=\"8\" y=\"-294.8\" font-family=\"Times,serif\" font-size=\"14.00\">F</text>\n",
              "</g>\n",
              "<!-- 8952180190667046750&#45;&gt;6782337801977867298 -->\n",
              "<g id=\"edge4\" class=\"edge\">\n",
              "<title>8952180190667046750&#45;&gt;6782337801977867298</title>\n",
              "<path fill=\"none\" stroke=\"black\" stroke-width=\"0.5\" d=\"M35.29,-329.06C29.46,-322.75 21.84,-314.5 16.14,-308.32\"/>\n",
              "</g>\n",
              "<!-- 6836316555241066386 -->\n",
              "<g id=\"node5\" class=\"node\">\n",
              "<title>6836316555241066386</title>\n",
              "<path fill=\"none\" stroke=\"black\" stroke-width=\"0.25\" d=\"M48.5,-310C48.5,-310 41.5,-310 41.5,-310 38,-310 34.5,-306.5 34.5,-303 34.5,-303 34.5,-294 34.5,-294 34.5,-290.5 38,-287 41.5,-287 41.5,-287 48.5,-287 48.5,-287 52,-287 55.5,-290.5 55.5,-294 55.5,-294 55.5,-303 55.5,-303 55.5,-306.5 52,-310 48.5,-310\"/>\n",
              "<text text-anchor=\"middle\" x=\"45\" y=\"-294.8\" font-family=\"Times,serif\" font-size=\"14.00\">F’</text>\n",
              "</g>\n",
              "<!-- 8952180190667046750&#45;&gt;6836316555241066386 -->\n",
              "<g id=\"edge5\" class=\"edge\">\n",
              "<title>8952180190667046750&#45;&gt;6836316555241066386</title>\n",
              "<path fill=\"none\" stroke=\"black\" stroke-width=\"0.5\" d=\"M44.27,-327.84C44.41,-322.34 44.59,-315.65 44.73,-310.14\"/>\n",
              "</g>\n",
              "<!-- 6531579970147998115 -->\n",
              "<g id=\"node26\" class=\"node\">\n",
              "<title>6531579970147998115</title>\n",
              "<path fill=\"none\" stroke=\"black\" stroke-width=\"0.25\" d=\"M83.5,-310C83.5,-310 78.5,-310 78.5,-310 76,-310 73.5,-307.5 73.5,-305 73.5,-305 73.5,-292 73.5,-292 73.5,-289.5 76,-287 78.5,-287 78.5,-287 83.5,-287 83.5,-287 86,-287 88.5,-289.5 88.5,-292 88.5,-292 88.5,-305 88.5,-305 88.5,-307.5 86,-310 83.5,-310\"/>\n",
              "<text text-anchor=\"middle\" x=\"81\" y=\"-294.8\" font-family=\"Times,serif\" font-size=\"14.00\">ε</text>\n",
              "</g>\n",
              "<!-- &#45;7354823018581532275&#45;&gt;6531579970147998115 -->\n",
              "<g id=\"edge35\" class=\"edge\">\n",
              "<title>&#45;7354823018581532275&#45;&gt;6531579970147998115</title>\n",
              "<path fill=\"none\" stroke=\"black\" stroke-width=\"0.5\" d=\"M81,-327.84C81,-322.34 81,-315.65 81,-310.14\"/>\n",
              "</g>\n",
              "<!-- 6782337801977867298&#45;&gt;6836316555241066386 -->\n",
              "<!-- 3011431219517272927 -->\n",
              "<g id=\"node6\" class=\"node\">\n",
              "<title>3011431219517272927</title>\n",
              "<path fill=\"none\" stroke=\"black\" stroke-width=\"1.25\" d=\"M10,-269C10,-269 6,-269 6,-269 4,-269 2,-267 2,-265 2,-265 2,-250 2,-250 2,-248 4,-246 6,-246 6,-246 10,-246 10,-246 12,-246 14,-248 14,-250 14,-250 14,-265 14,-265 14,-267 12,-269 10,-269\"/>\n",
              "<text text-anchor=\"middle\" x=\"8\" y=\"-253.8\" font-family=\"Times,serif\" font-size=\"14.00\">i</text>\n",
              "</g>\n",
              "<!-- 6782337801977867298&#45;&gt;3011431219517272927 -->\n",
              "<g id=\"edge7\" class=\"edge\">\n",
              "<title>6782337801977867298&#45;&gt;3011431219517272927</title>\n",
              "<path fill=\"none\" stroke=\"black\" stroke-width=\"0.5\" d=\"M8,-286.84C8,-281.34 8,-274.65 8,-269.14\"/>\n",
              "</g>\n",
              "<!-- 2650288579349937309 -->\n",
              "<g id=\"node7\" class=\"node\">\n",
              "<title>2650288579349937309</title>\n",
              "<path fill=\"none\" stroke=\"black\" stroke-width=\"1.25\" d=\"M44.5,-269C44.5,-269 39.5,-269 39.5,-269 37,-269 34.5,-266.5 34.5,-264 34.5,-264 34.5,-251 34.5,-251 34.5,-248.5 37,-246 39.5,-246 39.5,-246 44.5,-246 44.5,-246 47,-246 49.5,-248.5 49.5,-251 49.5,-251 49.5,-264 49.5,-264 49.5,-266.5 47,-269 44.5,-269\"/>\n",
              "<text text-anchor=\"middle\" x=\"42\" y=\"-253.8\" font-family=\"Times,serif\" font-size=\"14.00\">*</text>\n",
              "</g>\n",
              "<!-- 6836316555241066386&#45;&gt;2650288579349937309 -->\n",
              "<g id=\"edge8\" class=\"edge\">\n",
              "<title>6836316555241066386&#45;&gt;2650288579349937309</title>\n",
              "<path fill=\"none\" stroke=\"black\" stroke-width=\"0.5\" d=\"M44.18,-286.84C43.76,-281.34 43.24,-274.65 42.82,-269.14\"/>\n",
              "</g>\n",
              "<!-- 7986900487402279168 -->\n",
              "<g id=\"node8\" class=\"node\">\n",
              "<title>7986900487402279168</title>\n",
              "<path fill=\"none\" stroke=\"black\" stroke-width=\"0.25\" d=\"M78.67,-269C78.67,-269 73.33,-269 73.33,-269 70.67,-269 68,-266.33 68,-263.67 68,-263.67 68,-251.33 68,-251.33 68,-248.67 70.67,-246 73.33,-246 73.33,-246 78.67,-246 78.67,-246 81.33,-246 84,-248.67 84,-251.33 84,-251.33 84,-263.67 84,-263.67 84,-266.33 81.33,-269 78.67,-269\"/>\n",
              "<text text-anchor=\"middle\" x=\"76\" y=\"-253.8\" font-family=\"Times,serif\" font-size=\"14.00\">F</text>\n",
              "</g>\n",
              "<!-- 6836316555241066386&#45;&gt;7986900487402279168 -->\n",
              "<g id=\"edge9\" class=\"edge\">\n",
              "<title>6836316555241066386&#45;&gt;7986900487402279168</title>\n",
              "<path fill=\"none\" stroke=\"black\" stroke-width=\"0.5\" d=\"M53.47,-286.84C57.99,-281.16 63.52,-274.2 67.97,-268.61\"/>\n",
              "</g>\n",
              "<!-- 2650288579349937309&#45;&gt;7986900487402279168 -->\n",
              "<!-- 737927744053835734 -->\n",
              "<g id=\"node9\" class=\"node\">\n",
              "<title>737927744053835734</title>\n",
              "<path fill=\"none\" stroke=\"black\" stroke-width=\"1.25\" d=\"M45.17,-228C45.17,-228 40.83,-228 40.83,-228 38.67,-228 36.5,-225.83 36.5,-223.67 36.5,-223.67 36.5,-209.33 36.5,-209.33 36.5,-207.17 38.67,-205 40.83,-205 40.83,-205 45.17,-205 45.17,-205 47.33,-205 49.5,-207.17 49.5,-209.33 49.5,-209.33 49.5,-223.67 49.5,-223.67 49.5,-225.83 47.33,-228 45.17,-228\"/>\n",
              "<text text-anchor=\"middle\" x=\"43\" y=\"-212.8\" font-family=\"Times,serif\" font-size=\"14.00\">(</text>\n",
              "</g>\n",
              "<!-- 7986900487402279168&#45;&gt;737927744053835734 -->\n",
              "<g id=\"edge11\" class=\"edge\">\n",
              "<title>7986900487402279168&#45;&gt;737927744053835734</title>\n",
              "<path fill=\"none\" stroke=\"black\" stroke-width=\"0.5\" d=\"M67.67,-246.66C62.17,-240.16 55.05,-231.75 49.88,-225.63\"/>\n",
              "</g>\n",
              "<!-- 3154142756328231433 -->\n",
              "<g id=\"node10\" class=\"node\">\n",
              "<title>3154142756328231433</title>\n",
              "<path fill=\"none\" stroke=\"black\" stroke-width=\"0.25\" d=\"M78.83,-228C78.83,-228 73.17,-228 73.17,-228 70.33,-228 67.5,-225.17 67.5,-222.33 67.5,-222.33 67.5,-210.67 67.5,-210.67 67.5,-207.83 70.33,-205 73.17,-205 73.17,-205 78.83,-205 78.83,-205 81.67,-205 84.5,-207.83 84.5,-210.67 84.5,-210.67 84.5,-222.33 84.5,-222.33 84.5,-225.17 81.67,-228 78.83,-228\"/>\n",
              "<text text-anchor=\"middle\" x=\"76\" y=\"-212.8\" font-family=\"Times,serif\" font-size=\"14.00\">E</text>\n",
              "</g>\n",
              "<!-- 7986900487402279168&#45;&gt;3154142756328231433 -->\n",
              "<g id=\"edge12\" class=\"edge\">\n",
              "<title>7986900487402279168&#45;&gt;3154142756328231433</title>\n",
              "<path fill=\"none\" stroke=\"black\" stroke-width=\"0.5\" d=\"M76,-245.84C76,-240.34 76,-233.65 76,-228.14\"/>\n",
              "</g>\n",
              "<!-- 9099719294024403857 -->\n",
              "<g id=\"node11\" class=\"node\">\n",
              "<title>9099719294024403857</title>\n",
              "<path fill=\"none\" stroke=\"black\" stroke-width=\"1.25\" d=\"M111.17,-228C111.17,-228 106.83,-228 106.83,-228 104.67,-228 102.5,-225.83 102.5,-223.67 102.5,-223.67 102.5,-209.33 102.5,-209.33 102.5,-207.17 104.67,-205 106.83,-205 106.83,-205 111.17,-205 111.17,-205 113.33,-205 115.5,-207.17 115.5,-209.33 115.5,-209.33 115.5,-223.67 115.5,-223.67 115.5,-225.83 113.33,-228 111.17,-228\"/>\n",
              "<text text-anchor=\"middle\" x=\"109\" y=\"-212.8\" font-family=\"Times,serif\" font-size=\"14.00\">)</text>\n",
              "</g>\n",
              "<!-- 7986900487402279168&#45;&gt;9099719294024403857 -->\n",
              "<g id=\"edge13\" class=\"edge\">\n",
              "<title>7986900487402279168&#45;&gt;9099719294024403857</title>\n",
              "<path fill=\"none\" stroke=\"black\" stroke-width=\"0.5\" d=\"M84.33,-246.66C89.83,-240.16 96.95,-231.75 102.12,-225.63\"/>\n",
              "</g>\n",
              "<!-- 737927744053835734&#45;&gt;3154142756328231433 -->\n",
              "<!-- 3154142756328231433&#45;&gt;9099719294024403857 -->\n",
              "<!-- 2954995491206484772 -->\n",
              "<g id=\"node12\" class=\"node\">\n",
              "<title>2954995491206484772</title>\n",
              "<path fill=\"none\" stroke=\"black\" stroke-width=\"0.25\" d=\"M60.83,-187C60.83,-187 55.17,-187 55.17,-187 52.33,-187 49.5,-184.17 49.5,-181.33 49.5,-181.33 49.5,-169.67 49.5,-169.67 49.5,-166.83 52.33,-164 55.17,-164 55.17,-164 60.83,-164 60.83,-164 63.67,-164 66.5,-166.83 66.5,-169.67 66.5,-169.67 66.5,-181.33 66.5,-181.33 66.5,-184.17 63.67,-187 60.83,-187\"/>\n",
              "<text text-anchor=\"middle\" x=\"58\" y=\"-171.8\" font-family=\"Times,serif\" font-size=\"14.00\">T</text>\n",
              "</g>\n",
              "<!-- 3154142756328231433&#45;&gt;2954995491206484772 -->\n",
              "<g id=\"edge16\" class=\"edge\">\n",
              "<title>3154142756328231433&#45;&gt;2954995491206484772</title>\n",
              "<path fill=\"none\" stroke=\"black\" stroke-width=\"0.5\" d=\"M71.08,-204.84C68.54,-199.34 65.45,-192.65 62.91,-187.14\"/>\n",
              "</g>\n",
              "<!-- &#45;7681868130775222164 -->\n",
              "<g id=\"node13\" class=\"node\">\n",
              "<title>&#45;7681868130775222164</title>\n",
              "<path fill=\"none\" stroke=\"black\" stroke-width=\"0.25\" d=\"M98.5,-187C98.5,-187 91.5,-187 91.5,-187 88,-187 84.5,-183.5 84.5,-180 84.5,-180 84.5,-171 84.5,-171 84.5,-167.5 88,-164 91.5,-164 91.5,-164 98.5,-164 98.5,-164 102,-164 105.5,-167.5 105.5,-171 105.5,-171 105.5,-180 105.5,-180 105.5,-183.5 102,-187 98.5,-187\"/>\n",
              "<text text-anchor=\"middle\" x=\"95\" y=\"-171.8\" font-family=\"Times,serif\" font-size=\"14.00\">E’</text>\n",
              "</g>\n",
              "<!-- 3154142756328231433&#45;&gt;&#45;7681868130775222164 -->\n",
              "<g id=\"edge17\" class=\"edge\">\n",
              "<title>3154142756328231433&#45;&gt;&#45;7681868130775222164</title>\n",
              "<path fill=\"none\" stroke=\"black\" stroke-width=\"0.5\" d=\"M81.19,-204.84C83.87,-199.34 87.13,-192.65 89.81,-187.14\"/>\n",
              "</g>\n",
              "<!-- 2954995491206484772&#45;&gt;&#45;7681868130775222164 -->\n",
              "<!-- &#45;6260876186117551505 -->\n",
              "<g id=\"node14\" class=\"node\">\n",
              "<title>&#45;6260876186117551505</title>\n",
              "<path fill=\"none\" stroke=\"black\" stroke-width=\"0.25\" d=\"M23.67,-146C23.67,-146 18.33,-146 18.33,-146 15.67,-146 13,-143.33 13,-140.67 13,-140.67 13,-128.33 13,-128.33 13,-125.67 15.67,-123 18.33,-123 18.33,-123 23.67,-123 23.67,-123 26.33,-123 29,-125.67 29,-128.33 29,-128.33 29,-140.67 29,-140.67 29,-143.33 26.33,-146 23.67,-146\"/>\n",
              "<text text-anchor=\"middle\" x=\"21\" y=\"-130.8\" font-family=\"Times,serif\" font-size=\"14.00\">F</text>\n",
              "</g>\n",
              "<!-- 2954995491206484772&#45;&gt;&#45;6260876186117551505 -->\n",
              "<g id=\"edge19\" class=\"edge\">\n",
              "<title>2954995491206484772&#45;&gt;&#45;6260876186117551505</title>\n",
              "<path fill=\"none\" stroke=\"black\" stroke-width=\"0.5\" d=\"M49.42,-165.45C43.27,-158.97 35.05,-150.31 29.03,-143.96\"/>\n",
              "</g>\n",
              "<!-- 6509271443047376497 -->\n",
              "<g id=\"node15\" class=\"node\">\n",
              "<title>6509271443047376497</title>\n",
              "<path fill=\"none\" stroke=\"black\" stroke-width=\"0.25\" d=\"M61.5,-146C61.5,-146 54.5,-146 54.5,-146 51,-146 47.5,-142.5 47.5,-139 47.5,-139 47.5,-130 47.5,-130 47.5,-126.5 51,-123 54.5,-123 54.5,-123 61.5,-123 61.5,-123 65,-123 68.5,-126.5 68.5,-130 68.5,-130 68.5,-139 68.5,-139 68.5,-142.5 65,-146 61.5,-146\"/>\n",
              "<text text-anchor=\"middle\" x=\"58\" y=\"-130.8\" font-family=\"Times,serif\" font-size=\"14.00\">F’</text>\n",
              "</g>\n",
              "<!-- 2954995491206484772&#45;&gt;6509271443047376497 -->\n",
              "<g id=\"edge20\" class=\"edge\">\n",
              "<title>2954995491206484772&#45;&gt;6509271443047376497</title>\n",
              "<path fill=\"none\" stroke=\"black\" stroke-width=\"0.5\" d=\"M58,-163.84C58,-158.34 58,-151.65 58,-146.14\"/>\n",
              "</g>\n",
              "<!-- &#45;4616458684860550878 -->\n",
              "<g id=\"node18\" class=\"node\">\n",
              "<title>&#45;4616458684860550878</title>\n",
              "<path fill=\"none\" stroke=\"black\" stroke-width=\"1.25\" d=\"M97.83,-146C97.83,-146 92.17,-146 92.17,-146 89.33,-146 86.5,-143.17 86.5,-140.33 86.5,-140.33 86.5,-128.67 86.5,-128.67 86.5,-125.83 89.33,-123 92.17,-123 92.17,-123 97.83,-123 97.83,-123 100.67,-123 103.5,-125.83 103.5,-128.67 103.5,-128.67 103.5,-140.33 103.5,-140.33 103.5,-143.17 100.67,-146 97.83,-146\"/>\n",
              "<text text-anchor=\"middle\" x=\"95\" y=\"-130.8\" font-family=\"Times,serif\" font-size=\"14.00\">+</text>\n",
              "</g>\n",
              "<!-- &#45;7681868130775222164&#45;&gt;&#45;4616458684860550878 -->\n",
              "<g id=\"edge24\" class=\"edge\">\n",
              "<title>&#45;7681868130775222164&#45;&gt;&#45;4616458684860550878</title>\n",
              "<path fill=\"none\" stroke=\"black\" stroke-width=\"0.5\" d=\"M95,-163.84C95,-158.34 95,-151.65 95,-146.14\"/>\n",
              "</g>\n",
              "<!-- 5842073784047216299 -->\n",
              "<g id=\"node19\" class=\"node\">\n",
              "<title>5842073784047216299</title>\n",
              "<path fill=\"none\" stroke=\"black\" stroke-width=\"0.25\" d=\"M132.83,-146C132.83,-146 127.17,-146 127.17,-146 124.33,-146 121.5,-143.17 121.5,-140.33 121.5,-140.33 121.5,-128.67 121.5,-128.67 121.5,-125.83 124.33,-123 127.17,-123 127.17,-123 132.83,-123 132.83,-123 135.67,-123 138.5,-125.83 138.5,-128.67 138.5,-128.67 138.5,-140.33 138.5,-140.33 138.5,-143.17 135.67,-146 132.83,-146\"/>\n",
              "<text text-anchor=\"middle\" x=\"130\" y=\"-130.8\" font-family=\"Times,serif\" font-size=\"14.00\">T</text>\n",
              "</g>\n",
              "<!-- &#45;7681868130775222164&#45;&gt;5842073784047216299 -->\n",
              "<g id=\"edge25\" class=\"edge\">\n",
              "<title>&#45;7681868130775222164&#45;&gt;5842073784047216299</title>\n",
              "<path fill=\"none\" stroke=\"black\" stroke-width=\"0.5\" d=\"M104.56,-163.84C109.83,-157.98 116.3,-150.76 121.4,-145.08\"/>\n",
              "</g>\n",
              "<!-- &#45;6260876186117551505&#45;&gt;6509271443047376497 -->\n",
              "<!-- 8414961305131405740 -->\n",
              "<g id=\"node16\" class=\"node\">\n",
              "<title>8414961305131405740</title>\n",
              "<path fill=\"none\" stroke=\"black\" stroke-width=\"1.25\" d=\"M23,-105C23,-105 19,-105 19,-105 17,-105 15,-103 15,-101 15,-101 15,-86 15,-86 15,-84 17,-82 19,-82 19,-82 23,-82 23,-82 25,-82 27,-84 27,-86 27,-86 27,-101 27,-101 27,-103 25,-105 23,-105\"/>\n",
              "<text text-anchor=\"middle\" x=\"21\" y=\"-89.8\" font-family=\"Times,serif\" font-size=\"14.00\">i</text>\n",
              "</g>\n",
              "<!-- &#45;6260876186117551505&#45;&gt;8414961305131405740 -->\n",
              "<g id=\"edge22\" class=\"edge\">\n",
              "<title>&#45;6260876186117551505&#45;&gt;8414961305131405740</title>\n",
              "<path fill=\"none\" stroke=\"black\" stroke-width=\"0.5\" d=\"M21,-122.84C21,-117.34 21,-110.65 21,-105.14\"/>\n",
              "</g>\n",
              "<!-- &#45;8722098767430522750 -->\n",
              "<g id=\"node17\" class=\"node\">\n",
              "<title>&#45;8722098767430522750</title>\n",
              "<path fill=\"none\" stroke=\"black\" stroke-width=\"0.25\" d=\"M60.5,-105C60.5,-105 55.5,-105 55.5,-105 53,-105 50.5,-102.5 50.5,-100 50.5,-100 50.5,-87 50.5,-87 50.5,-84.5 53,-82 55.5,-82 55.5,-82 60.5,-82 60.5,-82 63,-82 65.5,-84.5 65.5,-87 65.5,-87 65.5,-100 65.5,-100 65.5,-102.5 63,-105 60.5,-105\"/>\n",
              "<text text-anchor=\"middle\" x=\"58\" y=\"-89.8\" font-family=\"Times,serif\" font-size=\"14.00\">ε</text>\n",
              "</g>\n",
              "<!-- 6509271443047376497&#45;&gt;&#45;8722098767430522750 -->\n",
              "<g id=\"edge23\" class=\"edge\">\n",
              "<title>6509271443047376497&#45;&gt;&#45;8722098767430522750</title>\n",
              "<path fill=\"none\" stroke=\"black\" stroke-width=\"0.5\" d=\"M58,-122.84C58,-117.34 58,-110.65 58,-105.14\"/>\n",
              "</g>\n",
              "<!-- &#45;4616458684860550878&#45;&gt;5842073784047216299 -->\n",
              "<!-- 8565305424330733213 -->\n",
              "<g id=\"node20\" class=\"node\">\n",
              "<title>8565305424330733213</title>\n",
              "<path fill=\"none\" stroke=\"black\" stroke-width=\"0.25\" d=\"M113.67,-105C113.67,-105 108.33,-105 108.33,-105 105.67,-105 103,-102.33 103,-99.67 103,-99.67 103,-87.33 103,-87.33 103,-84.67 105.67,-82 108.33,-82 108.33,-82 113.67,-82 113.67,-82 116.33,-82 119,-84.67 119,-87.33 119,-87.33 119,-99.67 119,-99.67 119,-102.33 116.33,-105 113.67,-105\"/>\n",
              "<text text-anchor=\"middle\" x=\"111\" y=\"-89.8\" font-family=\"Times,serif\" font-size=\"14.00\">F</text>\n",
              "</g>\n",
              "<!-- 5842073784047216299&#45;&gt;8565305424330733213 -->\n",
              "<g id=\"edge27\" class=\"edge\">\n",
              "<title>5842073784047216299&#45;&gt;8565305424330733213</title>\n",
              "<path fill=\"none\" stroke=\"black\" stroke-width=\"0.5\" d=\"M124.81,-122.84C122.13,-117.34 118.87,-110.65 116.19,-105.14\"/>\n",
              "</g>\n",
              "<!-- 8619284177593932301 -->\n",
              "<g id=\"node21\" class=\"node\">\n",
              "<title>8619284177593932301</title>\n",
              "<path fill=\"none\" stroke=\"black\" stroke-width=\"0.25\" d=\"M151.5,-105C151.5,-105 144.5,-105 144.5,-105 141,-105 137.5,-101.5 137.5,-98 137.5,-98 137.5,-89 137.5,-89 137.5,-85.5 141,-82 144.5,-82 144.5,-82 151.5,-82 151.5,-82 155,-82 158.5,-85.5 158.5,-89 158.5,-89 158.5,-98 158.5,-98 158.5,-101.5 155,-105 151.5,-105\"/>\n",
              "<text text-anchor=\"middle\" x=\"148\" y=\"-89.8\" font-family=\"Times,serif\" font-size=\"14.00\">F’</text>\n",
              "</g>\n",
              "<!-- 5842073784047216299&#45;&gt;8619284177593932301 -->\n",
              "<g id=\"edge28\" class=\"edge\">\n",
              "<title>5842073784047216299&#45;&gt;8619284177593932301</title>\n",
              "<path fill=\"none\" stroke=\"black\" stroke-width=\"0.5\" d=\"M134.92,-122.84C137.46,-117.34 140.55,-110.65 143.09,-105.14\"/>\n",
              "</g>\n",
              "<!-- 8565305424330733213&#45;&gt;8619284177593932301 -->\n",
              "<!-- &#45;7921770034031590072 -->\n",
              "<g id=\"node22\" class=\"node\">\n",
              "<title>&#45;7921770034031590072</title>\n",
              "<path fill=\"none\" stroke=\"black\" stroke-width=\"1.25\" d=\"M113,-64C113,-64 109,-64 109,-64 107,-64 105,-62 105,-60 105,-60 105,-45 105,-45 105,-43 107,-41 109,-41 109,-41 113,-41 113,-41 115,-41 117,-43 117,-45 117,-45 117,-60 117,-60 117,-62 115,-64 113,-64\"/>\n",
              "<text text-anchor=\"middle\" x=\"111\" y=\"-48.8\" font-family=\"Times,serif\" font-size=\"14.00\">i</text>\n",
              "</g>\n",
              "<!-- 8565305424330733213&#45;&gt;&#45;7921770034031590072 -->\n",
              "<g id=\"edge30\" class=\"edge\">\n",
              "<title>8565305424330733213&#45;&gt;&#45;7921770034031590072</title>\n",
              "<path fill=\"none\" stroke=\"black\" stroke-width=\"0.5\" d=\"M111,-81.84C111,-76.34 111,-69.65 111,-64.14\"/>\n",
              "</g>\n",
              "<!-- 4433256201702803224 -->\n",
              "<g id=\"node23\" class=\"node\">\n",
              "<title>4433256201702803224</title>\n",
              "<path fill=\"none\" stroke=\"black\" stroke-width=\"1.25\" d=\"M147.5,-64C147.5,-64 142.5,-64 142.5,-64 140,-64 137.5,-61.5 137.5,-59 137.5,-59 137.5,-46 137.5,-46 137.5,-43.5 140,-41 142.5,-41 142.5,-41 147.5,-41 147.5,-41 150,-41 152.5,-43.5 152.5,-46 152.5,-46 152.5,-59 152.5,-59 152.5,-61.5 150,-64 147.5,-64\"/>\n",
              "<text text-anchor=\"middle\" x=\"145\" y=\"-48.8\" font-family=\"Times,serif\" font-size=\"14.00\">*</text>\n",
              "</g>\n",
              "<!-- 8619284177593932301&#45;&gt;4433256201702803224 -->\n",
              "<g id=\"edge31\" class=\"edge\">\n",
              "<title>8619284177593932301&#45;&gt;4433256201702803224</title>\n",
              "<path fill=\"none\" stroke=\"black\" stroke-width=\"0.5\" d=\"M147.18,-81.84C146.76,-76.34 146.24,-69.65 145.82,-64.14\"/>\n",
              "</g>\n",
              "<!-- &#45;8676875963954406533 -->\n",
              "<g id=\"node24\" class=\"node\">\n",
              "<title>&#45;8676875963954406533</title>\n",
              "<path fill=\"none\" stroke=\"black\" stroke-width=\"0.25\" d=\"M181.67,-64C181.67,-64 176.33,-64 176.33,-64 173.67,-64 171,-61.33 171,-58.67 171,-58.67 171,-46.33 171,-46.33 171,-43.67 173.67,-41 176.33,-41 176.33,-41 181.67,-41 181.67,-41 184.33,-41 187,-43.67 187,-46.33 187,-46.33 187,-58.67 187,-58.67 187,-61.33 184.33,-64 181.67,-64\"/>\n",
              "<text text-anchor=\"middle\" x=\"179\" y=\"-48.8\" font-family=\"Times,serif\" font-size=\"14.00\">F</text>\n",
              "</g>\n",
              "<!-- 8619284177593932301&#45;&gt;&#45;8676875963954406533 -->\n",
              "<g id=\"edge32\" class=\"edge\">\n",
              "<title>8619284177593932301&#45;&gt;&#45;8676875963954406533</title>\n",
              "<path fill=\"none\" stroke=\"black\" stroke-width=\"0.5\" d=\"M156.47,-81.84C160.99,-76.16 166.52,-69.2 170.97,-63.61\"/>\n",
              "</g>\n",
              "<!-- 4433256201702803224&#45;&gt;&#45;8676875963954406533 -->\n",
              "<!-- &#45;8397528344527713330 -->\n",
              "<g id=\"node25\" class=\"node\">\n",
              "<title>&#45;8397528344527713330</title>\n",
              "<path fill=\"none\" stroke=\"black\" stroke-width=\"1.25\" d=\"M181,-23C181,-23 177,-23 177,-23 175,-23 173,-21 173,-19 173,-19 173,-4 173,-4 173,-2 175,0 177,0 177,0 181,0 181,0 183,0 185,-2 185,-4 185,-4 185,-19 185,-19 185,-21 183,-23 181,-23\"/>\n",
              "<text text-anchor=\"middle\" x=\"179\" y=\"-7.8\" font-family=\"Times,serif\" font-size=\"14.00\">i</text>\n",
              "</g>\n",
              "<!-- &#45;8676875963954406533&#45;&gt;&#45;8397528344527713330 -->\n",
              "<g id=\"edge34\" class=\"edge\">\n",
              "<title>&#45;8676875963954406533&#45;&gt;&#45;8397528344527713330</title>\n",
              "<path fill=\"none\" stroke=\"black\" stroke-width=\"0.5\" d=\"M179,-40.84C179,-35.34 179,-28.65 179,-23.14\"/>\n",
              "</g>\n",
              "</g>\n",
              "</svg>\n"
            ],
            "text/plain": [
              "ProductionGraph(E -> T E’ -> F F’ E’ -> i F’ E’ -> i * F E’ -> i * ( E ) E’ -> i * ( T E’ ) E’ -> i * ( F F’ E’ ) E’ -> i * ( i F’ E’ ) E’ -> i * ( i E’ ) E’ -> i * ( i + T ) E’ -> i * ( i + F F’ ) E’ -> i * ( i + i F’ ) E’ -> i * ( i + i * F ) E’ -> i * ( i + i * i ) E’ -> i * ( i + i * i ))"
            ]
          },
          "execution_count": 1,
          "metadata": {},
          "output_type": "execute_result"
        }
      ],
      "source": [
        "ProductionGraph(parse(G, TABLE, 'i * ( i + i * i )'.split()))"
      ]
    },
    {
      "cell_type": "markdown",
      "metadata": {},
      "source": [
        "La grammatica così fattorizzata si presta molto bene ad evitare la necessità di parentesizzare coppie di operandi (ma attenzione all'associatività)"
      ]
    },
    {
      "cell_type": "code",
      "execution_count": null,
      "metadata": {},
      "outputs": [],
      "source": [
        "# aggiungo un E’ dopo T o F nelle produzioni\n",
        "#\n",
        "# E’ -> + T\n",
        "# F’ -> * F \n",
        "#\n",
        "\n",
        "G = Grammar.from_string(\"\"\"\n",
        "E  -> T E’\n",
        "E’ -> + T E’| ε\n",
        "T  -> F F’\n",
        "F’ -> * F F’ | ε\n",
        "F  -> ( E ) | i\n",
        "\"\"\")"
      ]
    },
    {
      "cell_type": "code",
      "execution_count": null,
      "metadata": {},
      "outputs": [],
      "source": [
        "FF, TABLE = fft(G) "
      ]
    },
    {
      "cell_type": "code",
      "execution_count": null,
      "metadata": {},
      "outputs": [
        {
          "data": {
            "image/svg+xml": [
              "<?xml version=\"1.0\" encoding=\"UTF-8\" standalone=\"no\"?>\n",
              "<!DOCTYPE svg PUBLIC \"-//W3C//DTD SVG 1.1//EN\"\n",
              " \"http://www.w3.org/Graphics/SVG/1.1/DTD/svg11.dtd\">\n",
              "<!-- Generated by graphviz version 2.43.0 (0)\n",
              " -->\n",
              "<!-- Title: %3 Pages: 1 -->\n",
              "<svg width=\"312pt\" height=\"318pt\"\n",
              " viewBox=\"0.00 0.00 311.50 318.00\" xmlns=\"http://www.w3.org/2000/svg\" xmlns:xlink=\"http://www.w3.org/1999/xlink\">\n",
              "<g id=\"graph0\" class=\"graph\" transform=\"scale(1 1) rotate(0) translate(4 314)\">\n",
              "<title>%3</title>\n",
              "<polygon fill=\"white\" stroke=\"transparent\" points=\"-4,4 -4,-314 307.5,-314 307.5,4 -4,4\"/>\n",
              "<!-- &#45;7424810270564445231 -->\n",
              "<g id=\"node1\" class=\"node\">\n",
              "<title>&#45;7424810270564445231</title>\n",
              "<path fill=\"none\" stroke=\"black\" stroke-width=\"0.25\" d=\"M65.83,-310C65.83,-310 60.17,-310 60.17,-310 57.33,-310 54.5,-307.17 54.5,-304.33 54.5,-304.33 54.5,-292.67 54.5,-292.67 54.5,-289.83 57.33,-287 60.17,-287 60.17,-287 65.83,-287 65.83,-287 68.67,-287 71.5,-289.83 71.5,-292.67 71.5,-292.67 71.5,-304.33 71.5,-304.33 71.5,-307.17 68.67,-310 65.83,-310\"/>\n",
              "<text text-anchor=\"middle\" x=\"63\" y=\"-294.8\" font-family=\"Times,serif\" font-size=\"14.00\">E</text>\n",
              "</g>\n",
              "<!-- 8952180190667046750 -->\n",
              "<g id=\"node2\" class=\"node\">\n",
              "<title>8952180190667046750</title>\n",
              "<path fill=\"none\" stroke=\"black\" stroke-width=\"0.25\" d=\"M47.83,-269C47.83,-269 42.17,-269 42.17,-269 39.33,-269 36.5,-266.17 36.5,-263.33 36.5,-263.33 36.5,-251.67 36.5,-251.67 36.5,-248.83 39.33,-246 42.17,-246 42.17,-246 47.83,-246 47.83,-246 50.67,-246 53.5,-248.83 53.5,-251.67 53.5,-251.67 53.5,-263.33 53.5,-263.33 53.5,-266.17 50.67,-269 47.83,-269\"/>\n",
              "<text text-anchor=\"middle\" x=\"45\" y=\"-253.8\" font-family=\"Times,serif\" font-size=\"14.00\">T</text>\n",
              "</g>\n",
              "<!-- &#45;7424810270564445231&#45;&gt;8952180190667046750 -->\n",
              "<g id=\"edge1\" class=\"edge\">\n",
              "<title>&#45;7424810270564445231&#45;&gt;8952180190667046750</title>\n",
              "<path fill=\"none\" stroke=\"black\" stroke-width=\"0.5\" d=\"M58.08,-286.84C55.54,-281.34 52.45,-274.65 49.91,-269.14\"/>\n",
              "</g>\n",
              "<!-- &#45;7354823018581532275 -->\n",
              "<g id=\"node3\" class=\"node\">\n",
              "<title>&#45;7354823018581532275</title>\n",
              "<path fill=\"none\" stroke=\"black\" stroke-width=\"0.25\" d=\"M85.5,-269C85.5,-269 78.5,-269 78.5,-269 75,-269 71.5,-265.5 71.5,-262 71.5,-262 71.5,-253 71.5,-253 71.5,-249.5 75,-246 78.5,-246 78.5,-246 85.5,-246 85.5,-246 89,-246 92.5,-249.5 92.5,-253 92.5,-253 92.5,-262 92.5,-262 92.5,-265.5 89,-269 85.5,-269\"/>\n",
              "<text text-anchor=\"middle\" x=\"82\" y=\"-253.8\" font-family=\"Times,serif\" font-size=\"14.00\">E’</text>\n",
              "</g>\n",
              "<!-- &#45;7424810270564445231&#45;&gt;&#45;7354823018581532275 -->\n",
              "<g id=\"edge2\" class=\"edge\">\n",
              "<title>&#45;7424810270564445231&#45;&gt;&#45;7354823018581532275</title>\n",
              "<path fill=\"none\" stroke=\"black\" stroke-width=\"0.5\" d=\"M68.19,-286.84C70.87,-281.34 74.13,-274.65 76.81,-269.14\"/>\n",
              "</g>\n",
              "<!-- 8952180190667046750&#45;&gt;&#45;7354823018581532275 -->\n",
              "<!-- 6782337801977867298 -->\n",
              "<g id=\"node4\" class=\"node\">\n",
              "<title>6782337801977867298</title>\n",
              "<path fill=\"none\" stroke=\"black\" stroke-width=\"0.25\" d=\"M10.67,-228C10.67,-228 5.33,-228 5.33,-228 2.67,-228 0,-225.33 0,-222.67 0,-222.67 0,-210.33 0,-210.33 0,-207.67 2.67,-205 5.33,-205 5.33,-205 10.67,-205 10.67,-205 13.33,-205 16,-207.67 16,-210.33 16,-210.33 16,-222.67 16,-222.67 16,-225.33 13.33,-228 10.67,-228\"/>\n",
              "<text text-anchor=\"middle\" x=\"8\" y=\"-212.8\" font-family=\"Times,serif\" font-size=\"14.00\">F</text>\n",
              "</g>\n",
              "<!-- 8952180190667046750&#45;&gt;6782337801977867298 -->\n",
              "<g id=\"edge4\" class=\"edge\">\n",
              "<title>8952180190667046750&#45;&gt;6782337801977867298</title>\n",
              "<path fill=\"none\" stroke=\"black\" stroke-width=\"0.5\" d=\"M36.42,-247.45C30.27,-240.97 22.05,-232.31 16.03,-225.96\"/>\n",
              "</g>\n",
              "<!-- 6836316555241066386 -->\n",
              "<g id=\"node5\" class=\"node\">\n",
              "<title>6836316555241066386</title>\n",
              "<path fill=\"none\" stroke=\"black\" stroke-width=\"0.25\" d=\"M48.5,-228C48.5,-228 41.5,-228 41.5,-228 38,-228 34.5,-224.5 34.5,-221 34.5,-221 34.5,-212 34.5,-212 34.5,-208.5 38,-205 41.5,-205 41.5,-205 48.5,-205 48.5,-205 52,-205 55.5,-208.5 55.5,-212 55.5,-212 55.5,-221 55.5,-221 55.5,-224.5 52,-228 48.5,-228\"/>\n",
              "<text text-anchor=\"middle\" x=\"45\" y=\"-212.8\" font-family=\"Times,serif\" font-size=\"14.00\">F’</text>\n",
              "</g>\n",
              "<!-- 8952180190667046750&#45;&gt;6836316555241066386 -->\n",
              "<g id=\"edge5\" class=\"edge\">\n",
              "<title>8952180190667046750&#45;&gt;6836316555241066386</title>\n",
              "<path fill=\"none\" stroke=\"black\" stroke-width=\"0.5\" d=\"M45,-245.84C45,-240.34 45,-233.65 45,-228.14\"/>\n",
              "</g>\n",
              "<!-- 8426755303234867925 -->\n",
              "<g id=\"node8\" class=\"node\">\n",
              "<title>8426755303234867925</title>\n",
              "<path fill=\"none\" stroke=\"black\" stroke-width=\"1.25\" d=\"M84.83,-228C84.83,-228 79.17,-228 79.17,-228 76.33,-228 73.5,-225.17 73.5,-222.33 73.5,-222.33 73.5,-210.67 73.5,-210.67 73.5,-207.83 76.33,-205 79.17,-205 79.17,-205 84.83,-205 84.83,-205 87.67,-205 90.5,-207.83 90.5,-210.67 90.5,-210.67 90.5,-222.33 90.5,-222.33 90.5,-225.17 87.67,-228 84.83,-228\"/>\n",
              "<text text-anchor=\"middle\" x=\"82\" y=\"-212.8\" font-family=\"Times,serif\" font-size=\"14.00\">+</text>\n",
              "</g>\n",
              "<!-- &#45;7354823018581532275&#45;&gt;8426755303234867925 -->\n",
              "<g id=\"edge9\" class=\"edge\">\n",
              "<title>&#45;7354823018581532275&#45;&gt;8426755303234867925</title>\n",
              "<path fill=\"none\" stroke=\"black\" stroke-width=\"0.5\" d=\"M82,-245.84C82,-240.34 82,-233.65 82,-228.14\"/>\n",
              "</g>\n",
              "<!-- &#45;6118087602463727557 -->\n",
              "<g id=\"node9\" class=\"node\">\n",
              "<title>&#45;6118087602463727557</title>\n",
              "<path fill=\"none\" stroke=\"black\" stroke-width=\"0.25\" d=\"M119.83,-228C119.83,-228 114.17,-228 114.17,-228 111.33,-228 108.5,-225.17 108.5,-222.33 108.5,-222.33 108.5,-210.67 108.5,-210.67 108.5,-207.83 111.33,-205 114.17,-205 114.17,-205 119.83,-205 119.83,-205 122.67,-205 125.5,-207.83 125.5,-210.67 125.5,-210.67 125.5,-222.33 125.5,-222.33 125.5,-225.17 122.67,-228 119.83,-228\"/>\n",
              "<text text-anchor=\"middle\" x=\"117\" y=\"-212.8\" font-family=\"Times,serif\" font-size=\"14.00\">T</text>\n",
              "</g>\n",
              "<!-- &#45;7354823018581532275&#45;&gt;&#45;6118087602463727557 -->\n",
              "<g id=\"edge10\" class=\"edge\">\n",
              "<title>&#45;7354823018581532275&#45;&gt;&#45;6118087602463727557</title>\n",
              "<path fill=\"none\" stroke=\"black\" stroke-width=\"0.5\" d=\"M91.56,-245.84C96.83,-239.98 103.3,-232.76 108.4,-227.08\"/>\n",
              "</g>\n",
              "<!-- 8308859760701878779 -->\n",
              "<g id=\"node10\" class=\"node\">\n",
              "<title>8308859760701878779</title>\n",
              "<path fill=\"none\" stroke=\"black\" stroke-width=\"0.25\" d=\"M157.5,-228C157.5,-228 150.5,-228 150.5,-228 147,-228 143.5,-224.5 143.5,-221 143.5,-221 143.5,-212 143.5,-212 143.5,-208.5 147,-205 150.5,-205 150.5,-205 157.5,-205 157.5,-205 161,-205 164.5,-208.5 164.5,-212 164.5,-212 164.5,-221 164.5,-221 164.5,-224.5 161,-228 157.5,-228\"/>\n",
              "<text text-anchor=\"middle\" x=\"154\" y=\"-212.8\" font-family=\"Times,serif\" font-size=\"14.00\">E’</text>\n",
              "</g>\n",
              "<!-- &#45;7354823018581532275&#45;&gt;8308859760701878779 -->\n",
              "<g id=\"edge11\" class=\"edge\">\n",
              "<title>&#45;7354823018581532275&#45;&gt;8308859760701878779</title>\n",
              "<path fill=\"none\" stroke=\"black\" stroke-width=\"0.5\" d=\"M92.62,-250.75C106.24,-243.37 129.7,-230.66 143.33,-223.28\"/>\n",
              "</g>\n",
              "<!-- 6782337801977867298&#45;&gt;6836316555241066386 -->\n",
              "<!-- 3011431219517272927 -->\n",
              "<g id=\"node6\" class=\"node\">\n",
              "<title>3011431219517272927</title>\n",
              "<path fill=\"none\" stroke=\"black\" stroke-width=\"1.25\" d=\"M10,-187C10,-187 6,-187 6,-187 4,-187 2,-185 2,-183 2,-183 2,-168 2,-168 2,-166 4,-164 6,-164 6,-164 10,-164 10,-164 12,-164 14,-166 14,-168 14,-168 14,-183 14,-183 14,-185 12,-187 10,-187\"/>\n",
              "<text text-anchor=\"middle\" x=\"8\" y=\"-171.8\" font-family=\"Times,serif\" font-size=\"14.00\">i</text>\n",
              "</g>\n",
              "<!-- 6782337801977867298&#45;&gt;3011431219517272927 -->\n",
              "<g id=\"edge7\" class=\"edge\">\n",
              "<title>6782337801977867298&#45;&gt;3011431219517272927</title>\n",
              "<path fill=\"none\" stroke=\"black\" stroke-width=\"0.5\" d=\"M8,-204.84C8,-199.34 8,-192.65 8,-187.14\"/>\n",
              "</g>\n",
              "<!-- &#45;8395053655236832861 -->\n",
              "<g id=\"node7\" class=\"node\">\n",
              "<title>&#45;8395053655236832861</title>\n",
              "<path fill=\"none\" stroke=\"black\" stroke-width=\"0.25\" d=\"M47.5,-187C47.5,-187 42.5,-187 42.5,-187 40,-187 37.5,-184.5 37.5,-182 37.5,-182 37.5,-169 37.5,-169 37.5,-166.5 40,-164 42.5,-164 42.5,-164 47.5,-164 47.5,-164 50,-164 52.5,-166.5 52.5,-169 52.5,-169 52.5,-182 52.5,-182 52.5,-184.5 50,-187 47.5,-187\"/>\n",
              "<text text-anchor=\"middle\" x=\"45\" y=\"-171.8\" font-family=\"Times,serif\" font-size=\"14.00\">ε</text>\n",
              "</g>\n",
              "<!-- 6836316555241066386&#45;&gt;&#45;8395053655236832861 -->\n",
              "<g id=\"edge8\" class=\"edge\">\n",
              "<title>6836316555241066386&#45;&gt;&#45;8395053655236832861</title>\n",
              "<path fill=\"none\" stroke=\"black\" stroke-width=\"0.5\" d=\"M45,-204.84C45,-199.34 45,-192.65 45,-187.14\"/>\n",
              "</g>\n",
              "<!-- 8426755303234867925&#45;&gt;&#45;6118087602463727557 -->\n",
              "<!-- &#45;6118087602463727557&#45;&gt;8308859760701878779 -->\n",
              "<!-- 8892350536524423102 -->\n",
              "<g id=\"node11\" class=\"node\">\n",
              "<title>8892350536524423102</title>\n",
              "<path fill=\"none\" stroke=\"black\" stroke-width=\"0.25\" d=\"M82.67,-187C82.67,-187 77.33,-187 77.33,-187 74.67,-187 72,-184.33 72,-181.67 72,-181.67 72,-169.33 72,-169.33 72,-166.67 74.67,-164 77.33,-164 77.33,-164 82.67,-164 82.67,-164 85.33,-164 88,-166.67 88,-169.33 88,-169.33 88,-181.67 88,-181.67 88,-184.33 85.33,-187 82.67,-187\"/>\n",
              "<text text-anchor=\"middle\" x=\"80\" y=\"-171.8\" font-family=\"Times,serif\" font-size=\"14.00\">F</text>\n",
              "</g>\n",
              "<!-- &#45;6118087602463727557&#45;&gt;8892350536524423102 -->\n",
              "<g id=\"edge14\" class=\"edge\">\n",
              "<title>&#45;6118087602463727557&#45;&gt;8892350536524423102</title>\n",
              "<path fill=\"none\" stroke=\"black\" stroke-width=\"0.5\" d=\"M108.42,-206.45C102.27,-199.97 94.05,-191.31 88.03,-184.96\"/>\n",
              "</g>\n",
              "<!-- &#45;3340877208917011555 -->\n",
              "<g id=\"node12\" class=\"node\">\n",
              "<title>&#45;3340877208917011555</title>\n",
              "<path fill=\"none\" stroke=\"black\" stroke-width=\"0.25\" d=\"M120.5,-187C120.5,-187 113.5,-187 113.5,-187 110,-187 106.5,-183.5 106.5,-180 106.5,-180 106.5,-171 106.5,-171 106.5,-167.5 110,-164 113.5,-164 113.5,-164 120.5,-164 120.5,-164 124,-164 127.5,-167.5 127.5,-171 127.5,-171 127.5,-180 127.5,-180 127.5,-183.5 124,-187 120.5,-187\"/>\n",
              "<text text-anchor=\"middle\" x=\"117\" y=\"-171.8\" font-family=\"Times,serif\" font-size=\"14.00\">F’</text>\n",
              "</g>\n",
              "<!-- &#45;6118087602463727557&#45;&gt;&#45;3340877208917011555 -->\n",
              "<g id=\"edge15\" class=\"edge\">\n",
              "<title>&#45;6118087602463727557&#45;&gt;&#45;3340877208917011555</title>\n",
              "<path fill=\"none\" stroke=\"black\" stroke-width=\"0.5\" d=\"M117,-204.84C117,-199.34 117,-192.65 117,-187.14\"/>\n",
              "</g>\n",
              "<!-- &#45;7909976035928127887 -->\n",
              "<g id=\"node15\" class=\"node\">\n",
              "<title>&#45;7909976035928127887</title>\n",
              "<path fill=\"none\" stroke=\"black\" stroke-width=\"1.25\" d=\"M156.83,-187C156.83,-187 151.17,-187 151.17,-187 148.33,-187 145.5,-184.17 145.5,-181.33 145.5,-181.33 145.5,-169.67 145.5,-169.67 145.5,-166.83 148.33,-164 151.17,-164 151.17,-164 156.83,-164 156.83,-164 159.67,-164 162.5,-166.83 162.5,-169.67 162.5,-169.67 162.5,-181.33 162.5,-181.33 162.5,-184.17 159.67,-187 156.83,-187\"/>\n",
              "<text text-anchor=\"middle\" x=\"154\" y=\"-171.8\" font-family=\"Times,serif\" font-size=\"14.00\">+</text>\n",
              "</g>\n",
              "<!-- 8308859760701878779&#45;&gt;&#45;7909976035928127887 -->\n",
              "<g id=\"edge19\" class=\"edge\">\n",
              "<title>8308859760701878779&#45;&gt;&#45;7909976035928127887</title>\n",
              "<path fill=\"none\" stroke=\"black\" stroke-width=\"0.5\" d=\"M154,-204.84C154,-199.34 154,-192.65 154,-187.14\"/>\n",
              "</g>\n",
              "<!-- &#45;4008074867917171753 -->\n",
              "<g id=\"node16\" class=\"node\">\n",
              "<title>&#45;4008074867917171753</title>\n",
              "<path fill=\"none\" stroke=\"black\" stroke-width=\"0.25\" d=\"M191.83,-187C191.83,-187 186.17,-187 186.17,-187 183.33,-187 180.5,-184.17 180.5,-181.33 180.5,-181.33 180.5,-169.67 180.5,-169.67 180.5,-166.83 183.33,-164 186.17,-164 186.17,-164 191.83,-164 191.83,-164 194.67,-164 197.5,-166.83 197.5,-169.67 197.5,-169.67 197.5,-181.33 197.5,-181.33 197.5,-184.17 194.67,-187 191.83,-187\"/>\n",
              "<text text-anchor=\"middle\" x=\"189\" y=\"-171.8\" font-family=\"Times,serif\" font-size=\"14.00\">T</text>\n",
              "</g>\n",
              "<!-- 8308859760701878779&#45;&gt;&#45;4008074867917171753 -->\n",
              "<g id=\"edge20\" class=\"edge\">\n",
              "<title>8308859760701878779&#45;&gt;&#45;4008074867917171753</title>\n",
              "<path fill=\"none\" stroke=\"black\" stroke-width=\"0.5\" d=\"M163.56,-204.84C168.83,-198.98 175.3,-191.76 180.4,-186.08\"/>\n",
              "</g>\n",
              "<!-- &#45;1868334003456199162 -->\n",
              "<g id=\"node17\" class=\"node\">\n",
              "<title>&#45;1868334003456199162</title>\n",
              "<path fill=\"none\" stroke=\"black\" stroke-width=\"0.25\" d=\"M229.5,-187C229.5,-187 222.5,-187 222.5,-187 219,-187 215.5,-183.5 215.5,-180 215.5,-180 215.5,-171 215.5,-171 215.5,-167.5 219,-164 222.5,-164 222.5,-164 229.5,-164 229.5,-164 233,-164 236.5,-167.5 236.5,-171 236.5,-171 236.5,-180 236.5,-180 236.5,-183.5 233,-187 229.5,-187\"/>\n",
              "<text text-anchor=\"middle\" x=\"226\" y=\"-171.8\" font-family=\"Times,serif\" font-size=\"14.00\">E’</text>\n",
              "</g>\n",
              "<!-- 8308859760701878779&#45;&gt;&#45;1868334003456199162 -->\n",
              "<g id=\"edge21\" class=\"edge\">\n",
              "<title>8308859760701878779&#45;&gt;&#45;1868334003456199162</title>\n",
              "<path fill=\"none\" stroke=\"black\" stroke-width=\"0.5\" d=\"M164.62,-209.75C178.24,-202.37 201.7,-189.66 215.33,-182.28\"/>\n",
              "</g>\n",
              "<!-- 8892350536524423102&#45;&gt;&#45;3340877208917011555 -->\n",
              "<!-- &#45;7165762544640805014 -->\n",
              "<g id=\"node13\" class=\"node\">\n",
              "<title>&#45;7165762544640805014</title>\n",
              "<path fill=\"none\" stroke=\"black\" stroke-width=\"1.25\" d=\"M82,-146C82,-146 78,-146 78,-146 76,-146 74,-144 74,-142 74,-142 74,-127 74,-127 74,-125 76,-123 78,-123 78,-123 82,-123 82,-123 84,-123 86,-125 86,-127 86,-127 86,-142 86,-142 86,-144 84,-146 82,-146\"/>\n",
              "<text text-anchor=\"middle\" x=\"80\" y=\"-130.8\" font-family=\"Times,serif\" font-size=\"14.00\">i</text>\n",
              "</g>\n",
              "<!-- 8892350536524423102&#45;&gt;&#45;7165762544640805014 -->\n",
              "<g id=\"edge17\" class=\"edge\">\n",
              "<title>8892350536524423102&#45;&gt;&#45;7165762544640805014</title>\n",
              "<path fill=\"none\" stroke=\"black\" stroke-width=\"0.5\" d=\"M80,-163.84C80,-158.34 80,-151.65 80,-146.14\"/>\n",
              "</g>\n",
              "<!-- &#45;6285040920690277057 -->\n",
              "<g id=\"node14\" class=\"node\">\n",
              "<title>&#45;6285040920690277057</title>\n",
              "<path fill=\"none\" stroke=\"black\" stroke-width=\"0.25\" d=\"M119.5,-146C119.5,-146 114.5,-146 114.5,-146 112,-146 109.5,-143.5 109.5,-141 109.5,-141 109.5,-128 109.5,-128 109.5,-125.5 112,-123 114.5,-123 114.5,-123 119.5,-123 119.5,-123 122,-123 124.5,-125.5 124.5,-128 124.5,-128 124.5,-141 124.5,-141 124.5,-143.5 122,-146 119.5,-146\"/>\n",
              "<text text-anchor=\"middle\" x=\"117\" y=\"-130.8\" font-family=\"Times,serif\" font-size=\"14.00\">ε</text>\n",
              "</g>\n",
              "<!-- &#45;3340877208917011555&#45;&gt;&#45;6285040920690277057 -->\n",
              "<g id=\"edge18\" class=\"edge\">\n",
              "<title>&#45;3340877208917011555&#45;&gt;&#45;6285040920690277057</title>\n",
              "<path fill=\"none\" stroke=\"black\" stroke-width=\"0.5\" d=\"M117,-163.84C117,-158.34 117,-151.65 117,-146.14\"/>\n",
              "</g>\n",
              "<!-- &#45;7909976035928127887&#45;&gt;&#45;4008074867917171753 -->\n",
              "<!-- &#45;4008074867917171753&#45;&gt;&#45;1868334003456199162 -->\n",
              "<!-- &#45;7444380802638572710 -->\n",
              "<g id=\"node18\" class=\"node\">\n",
              "<title>&#45;7444380802638572710</title>\n",
              "<path fill=\"none\" stroke=\"black\" stroke-width=\"0.25\" d=\"M154.67,-146C154.67,-146 149.33,-146 149.33,-146 146.67,-146 144,-143.33 144,-140.67 144,-140.67 144,-128.33 144,-128.33 144,-125.67 146.67,-123 149.33,-123 149.33,-123 154.67,-123 154.67,-123 157.33,-123 160,-125.67 160,-128.33 160,-128.33 160,-140.67 160,-140.67 160,-143.33 157.33,-146 154.67,-146\"/>\n",
              "<text text-anchor=\"middle\" x=\"152\" y=\"-130.8\" font-family=\"Times,serif\" font-size=\"14.00\">F</text>\n",
              "</g>\n",
              "<!-- &#45;4008074867917171753&#45;&gt;&#45;7444380802638572710 -->\n",
              "<g id=\"edge24\" class=\"edge\">\n",
              "<title>&#45;4008074867917171753&#45;&gt;&#45;7444380802638572710</title>\n",
              "<path fill=\"none\" stroke=\"black\" stroke-width=\"0.5\" d=\"M180.42,-165.45C174.27,-158.97 166.05,-150.31 160.03,-143.96\"/>\n",
              "</g>\n",
              "<!-- &#45;1230864474370455751 -->\n",
              "<g id=\"node19\" class=\"node\">\n",
              "<title>&#45;1230864474370455751</title>\n",
              "<path fill=\"none\" stroke=\"black\" stroke-width=\"0.25\" d=\"M192.5,-146C192.5,-146 185.5,-146 185.5,-146 182,-146 178.5,-142.5 178.5,-139 178.5,-139 178.5,-130 178.5,-130 178.5,-126.5 182,-123 185.5,-123 185.5,-123 192.5,-123 192.5,-123 196,-123 199.5,-126.5 199.5,-130 199.5,-130 199.5,-139 199.5,-139 199.5,-142.5 196,-146 192.5,-146\"/>\n",
              "<text text-anchor=\"middle\" x=\"189\" y=\"-130.8\" font-family=\"Times,serif\" font-size=\"14.00\">F’</text>\n",
              "</g>\n",
              "<!-- &#45;4008074867917171753&#45;&gt;&#45;1230864474370455751 -->\n",
              "<g id=\"edge25\" class=\"edge\">\n",
              "<title>&#45;4008074867917171753&#45;&gt;&#45;1230864474370455751</title>\n",
              "<path fill=\"none\" stroke=\"black\" stroke-width=\"0.5\" d=\"M189,-163.84C189,-158.34 189,-151.65 189,-146.14\"/>\n",
              "</g>\n",
              "<!-- &#45;4502073298337411142 -->\n",
              "<g id=\"node30\" class=\"node\">\n",
              "<title>&#45;4502073298337411142</title>\n",
              "<path fill=\"none\" stroke=\"black\" stroke-width=\"0.25\" d=\"M228.5,-146C228.5,-146 223.5,-146 223.5,-146 221,-146 218.5,-143.5 218.5,-141 218.5,-141 218.5,-128 218.5,-128 218.5,-125.5 221,-123 223.5,-123 223.5,-123 228.5,-123 228.5,-123 231,-123 233.5,-125.5 233.5,-128 233.5,-128 233.5,-141 233.5,-141 233.5,-143.5 231,-146 228.5,-146\"/>\n",
              "<text text-anchor=\"middle\" x=\"226\" y=\"-130.8\" font-family=\"Times,serif\" font-size=\"14.00\">ε</text>\n",
              "</g>\n",
              "<!-- &#45;1868334003456199162&#45;&gt;&#45;4502073298337411142 -->\n",
              "<g id=\"edge41\" class=\"edge\">\n",
              "<title>&#45;1868334003456199162&#45;&gt;&#45;4502073298337411142</title>\n",
              "<path fill=\"none\" stroke=\"black\" stroke-width=\"0.5\" d=\"M226,-163.84C226,-158.34 226,-151.65 226,-146.14\"/>\n",
              "</g>\n",
              "<!-- &#45;7444380802638572710&#45;&gt;&#45;1230864474370455751 -->\n",
              "<!-- &#45;5055749810094249210 -->\n",
              "<g id=\"node20\" class=\"node\">\n",
              "<title>&#45;5055749810094249210</title>\n",
              "<path fill=\"none\" stroke=\"black\" stroke-width=\"1.25\" d=\"M140,-105C140,-105 136,-105 136,-105 134,-105 132,-103 132,-101 132,-101 132,-86 132,-86 132,-84 134,-82 136,-82 136,-82 140,-82 140,-82 142,-82 144,-84 144,-86 144,-86 144,-101 144,-101 144,-103 142,-105 140,-105\"/>\n",
              "<text text-anchor=\"middle\" x=\"138\" y=\"-89.8\" font-family=\"Times,serif\" font-size=\"14.00\">i</text>\n",
              "</g>\n",
              "<!-- &#45;7444380802638572710&#45;&gt;&#45;5055749810094249210 -->\n",
              "<g id=\"edge27\" class=\"edge\">\n",
              "<title>&#45;7444380802638572710&#45;&gt;&#45;5055749810094249210</title>\n",
              "<path fill=\"none\" stroke=\"black\" stroke-width=\"0.5\" d=\"M148.17,-122.84C146.2,-117.34 143.8,-110.65 141.82,-105.14\"/>\n",
              "</g>\n",
              "<!-- &#45;5416892450261584828 -->\n",
              "<g id=\"node21\" class=\"node\">\n",
              "<title>&#45;5416892450261584828</title>\n",
              "<path fill=\"none\" stroke=\"black\" stroke-width=\"1.25\" d=\"M172.5,-105C172.5,-105 167.5,-105 167.5,-105 165,-105 162.5,-102.5 162.5,-100 162.5,-100 162.5,-87 162.5,-87 162.5,-84.5 165,-82 167.5,-82 167.5,-82 172.5,-82 172.5,-82 175,-82 177.5,-84.5 177.5,-87 177.5,-87 177.5,-100 177.5,-100 177.5,-102.5 175,-105 172.5,-105\"/>\n",
              "<text text-anchor=\"middle\" x=\"170\" y=\"-89.8\" font-family=\"Times,serif\" font-size=\"14.00\">*</text>\n",
              "</g>\n",
              "<!-- &#45;1230864474370455751&#45;&gt;&#45;5416892450261584828 -->\n",
              "<g id=\"edge28\" class=\"edge\">\n",
              "<title>&#45;1230864474370455751&#45;&gt;&#45;5416892450261584828</title>\n",
              "<path fill=\"none\" stroke=\"black\" stroke-width=\"0.5\" d=\"M183.81,-122.84C181.13,-117.34 177.87,-110.65 175.19,-105.14\"/>\n",
              "</g>\n",
              "<!-- 6965748746425613856 -->\n",
              "<g id=\"node22\" class=\"node\">\n",
              "<title>6965748746425613856</title>\n",
              "<path fill=\"none\" stroke=\"black\" stroke-width=\"0.25\" d=\"M206.67,-105C206.67,-105 201.33,-105 201.33,-105 198.67,-105 196,-102.33 196,-99.67 196,-99.67 196,-87.33 196,-87.33 196,-84.67 198.67,-82 201.33,-82 201.33,-82 206.67,-82 206.67,-82 209.33,-82 212,-84.67 212,-87.33 212,-87.33 212,-99.67 212,-99.67 212,-102.33 209.33,-105 206.67,-105\"/>\n",
              "<text text-anchor=\"middle\" x=\"204\" y=\"-89.8\" font-family=\"Times,serif\" font-size=\"14.00\">F</text>\n",
              "</g>\n",
              "<!-- &#45;1230864474370455751&#45;&gt;6965748746425613856 -->\n",
              "<g id=\"edge29\" class=\"edge\">\n",
              "<title>&#45;1230864474370455751&#45;&gt;6965748746425613856</title>\n",
              "<path fill=\"none\" stroke=\"black\" stroke-width=\"0.5\" d=\"M193.1,-122.84C195.22,-117.34 197.79,-110.65 199.91,-105.14\"/>\n",
              "</g>\n",
              "<!-- 1289152301880990242 -->\n",
              "<g id=\"node23\" class=\"node\">\n",
              "<title>1289152301880990242</title>\n",
              "<path fill=\"none\" stroke=\"black\" stroke-width=\"0.25\" d=\"M244.5,-105C244.5,-105 237.5,-105 237.5,-105 234,-105 230.5,-101.5 230.5,-98 230.5,-98 230.5,-89 230.5,-89 230.5,-85.5 234,-82 237.5,-82 237.5,-82 244.5,-82 244.5,-82 248,-82 251.5,-85.5 251.5,-89 251.5,-89 251.5,-98 251.5,-98 251.5,-101.5 248,-105 244.5,-105\"/>\n",
              "<text text-anchor=\"middle\" x=\"241\" y=\"-89.8\" font-family=\"Times,serif\" font-size=\"14.00\">F’</text>\n",
              "</g>\n",
              "<!-- &#45;1230864474370455751&#45;&gt;1289152301880990242 -->\n",
              "<g id=\"edge30\" class=\"edge\">\n",
              "<title>&#45;1230864474370455751&#45;&gt;1289152301880990242</title>\n",
              "<path fill=\"none\" stroke=\"black\" stroke-width=\"0.5\" d=\"M199.52,-125.61C208.54,-118.84 221.48,-109.14 230.49,-102.38\"/>\n",
              "</g>\n",
              "<!-- &#45;5416892450261584828&#45;&gt;6965748746425613856 -->\n",
              "<!-- 6965748746425613856&#45;&gt;1289152301880990242 -->\n",
              "<!-- 8087916192937715851 -->\n",
              "<g id=\"node24\" class=\"node\">\n",
              "<title>8087916192937715851</title>\n",
              "<path fill=\"none\" stroke=\"black\" stroke-width=\"1.25\" d=\"M192,-64C192,-64 188,-64 188,-64 186,-64 184,-62 184,-60 184,-60 184,-45 184,-45 184,-43 186,-41 188,-41 188,-41 192,-41 192,-41 194,-41 196,-43 196,-45 196,-45 196,-60 196,-60 196,-62 194,-64 192,-64\"/>\n",
              "<text text-anchor=\"middle\" x=\"190\" y=\"-48.8\" font-family=\"Times,serif\" font-size=\"14.00\">i</text>\n",
              "</g>\n",
              "<!-- 6965748746425613856&#45;&gt;8087916192937715851 -->\n",
              "<g id=\"edge33\" class=\"edge\">\n",
              "<title>6965748746425613856&#45;&gt;8087916192937715851</title>\n",
              "<path fill=\"none\" stroke=\"black\" stroke-width=\"0.5\" d=\"M200.17,-81.84C198.2,-76.34 195.8,-69.65 193.82,-64.14\"/>\n",
              "</g>\n",
              "<!-- 1996198354962557531 -->\n",
              "<g id=\"node25\" class=\"node\">\n",
              "<title>1996198354962557531</title>\n",
              "<path fill=\"none\" stroke=\"black\" stroke-width=\"1.25\" d=\"M224.5,-64C224.5,-64 219.5,-64 219.5,-64 217,-64 214.5,-61.5 214.5,-59 214.5,-59 214.5,-46 214.5,-46 214.5,-43.5 217,-41 219.5,-41 219.5,-41 224.5,-41 224.5,-41 227,-41 229.5,-43.5 229.5,-46 229.5,-46 229.5,-59 229.5,-59 229.5,-61.5 227,-64 224.5,-64\"/>\n",
              "<text text-anchor=\"middle\" x=\"222\" y=\"-48.8\" font-family=\"Times,serif\" font-size=\"14.00\">*</text>\n",
              "</g>\n",
              "<!-- 1289152301880990242&#45;&gt;1996198354962557531 -->\n",
              "<g id=\"edge34\" class=\"edge\">\n",
              "<title>1289152301880990242&#45;&gt;1996198354962557531</title>\n",
              "<path fill=\"none\" stroke=\"black\" stroke-width=\"0.5\" d=\"M235.81,-81.84C233.13,-76.34 229.87,-69.65 227.19,-64.14\"/>\n",
              "</g>\n",
              "<!-- 7332810263014899390 -->\n",
              "<g id=\"node26\" class=\"node\">\n",
              "<title>7332810263014899390</title>\n",
              "<path fill=\"none\" stroke=\"black\" stroke-width=\"0.25\" d=\"M258.67,-64C258.67,-64 253.33,-64 253.33,-64 250.67,-64 248,-61.33 248,-58.67 248,-58.67 248,-46.33 248,-46.33 248,-43.67 250.67,-41 253.33,-41 253.33,-41 258.67,-41 258.67,-41 261.33,-41 264,-43.67 264,-46.33 264,-46.33 264,-58.67 264,-58.67 264,-61.33 261.33,-64 258.67,-64\"/>\n",
              "<text text-anchor=\"middle\" x=\"256\" y=\"-48.8\" font-family=\"Times,serif\" font-size=\"14.00\">F</text>\n",
              "</g>\n",
              "<!-- 1289152301880990242&#45;&gt;7332810263014899390 -->\n",
              "<g id=\"edge35\" class=\"edge\">\n",
              "<title>1289152301880990242&#45;&gt;7332810263014899390</title>\n",
              "<path fill=\"none\" stroke=\"black\" stroke-width=\"0.5\" d=\"M245.1,-81.84C247.22,-76.34 249.79,-69.65 251.91,-64.14\"/>\n",
              "</g>\n",
              "<!-- &#45;4013925768796596313 -->\n",
              "<g id=\"node27\" class=\"node\">\n",
              "<title>&#45;4013925768796596313</title>\n",
              "<path fill=\"none\" stroke=\"black\" stroke-width=\"0.25\" d=\"M296.5,-64C296.5,-64 289.5,-64 289.5,-64 286,-64 282.5,-60.5 282.5,-57 282.5,-57 282.5,-48 282.5,-48 282.5,-44.5 286,-41 289.5,-41 289.5,-41 296.5,-41 296.5,-41 300,-41 303.5,-44.5 303.5,-48 303.5,-48 303.5,-57 303.5,-57 303.5,-60.5 300,-64 296.5,-64\"/>\n",
              "<text text-anchor=\"middle\" x=\"293\" y=\"-48.8\" font-family=\"Times,serif\" font-size=\"14.00\">F’</text>\n",
              "</g>\n",
              "<!-- 1289152301880990242&#45;&gt;&#45;4013925768796596313 -->\n",
              "<g id=\"edge36\" class=\"edge\">\n",
              "<title>1289152301880990242&#45;&gt;&#45;4013925768796596313</title>\n",
              "<path fill=\"none\" stroke=\"black\" stroke-width=\"0.5\" d=\"M251.52,-84.61C260.54,-77.84 273.48,-68.14 282.49,-61.38\"/>\n",
              "</g>\n",
              "<!-- 1996198354962557531&#45;&gt;7332810263014899390 -->\n",
              "<!-- 7332810263014899390&#45;&gt;&#45;4013925768796596313 -->\n",
              "<!-- &#45;2945737075547693406 -->\n",
              "<g id=\"node28\" class=\"node\">\n",
              "<title>&#45;2945737075547693406</title>\n",
              "<path fill=\"none\" stroke=\"black\" stroke-width=\"1.25\" d=\"M258,-23C258,-23 254,-23 254,-23 252,-23 250,-21 250,-19 250,-19 250,-4 250,-4 250,-2 252,0 254,0 254,0 258,0 258,0 260,0 262,-2 262,-4 262,-4 262,-19 262,-19 262,-21 260,-23 258,-23\"/>\n",
              "<text text-anchor=\"middle\" x=\"256\" y=\"-7.8\" font-family=\"Times,serif\" font-size=\"14.00\">i</text>\n",
              "</g>\n",
              "<!-- 7332810263014899390&#45;&gt;&#45;2945737075547693406 -->\n",
              "<g id=\"edge39\" class=\"edge\">\n",
              "<title>7332810263014899390&#45;&gt;&#45;2945737075547693406</title>\n",
              "<path fill=\"none\" stroke=\"black\" stroke-width=\"0.5\" d=\"M256,-40.84C256,-35.34 256,-28.65 256,-23.14\"/>\n",
              "</g>\n",
              "<!-- 4094522123407752422 -->\n",
              "<g id=\"node29\" class=\"node\">\n",
              "<title>4094522123407752422</title>\n",
              "<path fill=\"none\" stroke=\"black\" stroke-width=\"0.25\" d=\"M295.5,-23C295.5,-23 290.5,-23 290.5,-23 288,-23 285.5,-20.5 285.5,-18 285.5,-18 285.5,-5 285.5,-5 285.5,-2.5 288,0 290.5,0 290.5,0 295.5,0 295.5,0 298,0 300.5,-2.5 300.5,-5 300.5,-5 300.5,-18 300.5,-18 300.5,-20.5 298,-23 295.5,-23\"/>\n",
              "<text text-anchor=\"middle\" x=\"293\" y=\"-7.8\" font-family=\"Times,serif\" font-size=\"14.00\">ε</text>\n",
              "</g>\n",
              "<!-- &#45;4013925768796596313&#45;&gt;4094522123407752422 -->\n",
              "<g id=\"edge40\" class=\"edge\">\n",
              "<title>&#45;4013925768796596313&#45;&gt;4094522123407752422</title>\n",
              "<path fill=\"none\" stroke=\"black\" stroke-width=\"0.5\" d=\"M293,-40.84C293,-35.34 293,-28.65 293,-23.14\"/>\n",
              "</g>\n",
              "</g>\n",
              "</svg>\n"
            ],
            "text/plain": [
              "ProductionGraph(E -> T E’ -> F F’ E’ -> i F’ E’ -> i E’ -> i + T E’ -> i + F F’ E’ -> i + i F’ E’ -> i + i E’ -> i + i + T E’ -> i + i + F F’ E’ -> i + i + i F’ E’ -> i + i + i * F F’ E’ -> i + i + i * i F’ E’ -> i + i + i * i * F F’ E’ -> i + i + i * i * i F’ E’ -> i + i + i * i * i E’ -> i + i + i * i * i)"
            ]
          },
          "execution_count": 1,
          "metadata": {},
          "output_type": "execute_result"
        }
      ],
      "source": [
        "ProductionGraph(parse(G, TABLE, 'i + i + i * i * i'.split()))"
      ]
    },
    {
      "cell_type": "markdown",
      "metadata": {},
      "source": [
        "# <span style=\"color: red\">Approfondimenti per casa</span> \n",
        "\n",
        "## Parse ricorsivo dicendente con look-ahead\n",
        "\n",
        "Costruiamo ora un parser ricorsivo discendende (come quello sviluppato in [L13](L13.ipynb)) che usi le informazioni della tabella `TABLE` per decidere quali chiamate ricorsive fare (in funzione delle produzioni contenute nella tabella).\n",
        "\n",
        "Per prima cosa ci serve un meccanismo per \"consumare\" i cartteri dell'input e tenere traccia del *look-ahead* ossia del prossimo carattere da leggere."
      ]
    },
    {
      "cell_type": "code",
      "execution_count": null,
      "metadata": {},
      "outputs": [],
      "source": [
        "def consume(t):        \n",
        "    global look_ahead\n",
        "    if look_ahead != t:\n",
        "        warn('Expecting {}, found {}'.format(t, look_ahead))\n",
        "    else:\n",
        "        look_ahead = next(input_iterator, HASH)"
      ]
    },
    {
      "cell_type": "markdown",
      "metadata": {},
      "source": [
        "Ora, per ciascun non terminale, tramutiamo la riga relativa in una serie di chiamate ricorsive distinguendo tra le varie colonne grazie al *look-ahead*"
      ]
    },
    {
      "cell_type": "code",
      "execution_count": null,
      "metadata": {},
      "outputs": [],
      "source": [
        "def parse_E():\n",
        "    if look_ahead in {'i', '('}:\n",
        "        parse_T()\n",
        "        parse_Ep()\n",
        "    else:\n",
        "        warn('Error parsing E')"
      ]
    },
    {
      "cell_type": "code",
      "execution_count": null,
      "metadata": {},
      "outputs": [],
      "source": [
        "def parse_Ep():\n",
        "    if look_ahead in {')', HASH}:\n",
        "        pass # questa è l'ε-produzione\n",
        "    elif look_ahead == '+':\n",
        "        consume('+')\n",
        "        parse_T()\n",
        "        parse_Ep()\n",
        "    else:\n",
        "        warn('Error parsing E’')"
      ]
    },
    {
      "cell_type": "code",
      "execution_count": null,
      "metadata": {},
      "outputs": [],
      "source": [
        "def parse_T():\n",
        "    if look_ahead in {'i', '('}:\n",
        "        parse_F()\n",
        "        parse_Fp()\n",
        "    else:\n",
        "        warn('Error parsing T')\n"
      ]
    },
    {
      "cell_type": "code",
      "execution_count": null,
      "metadata": {},
      "outputs": [],
      "source": [
        "def parse_Fp():\n",
        "    if look_ahead in {'+', ')', HASH}:\n",
        "        pass\n",
        "    elif look_ahead == '*':\n",
        "        consume('*')\n",
        "        parse_F()\n",
        "        parse_Fp()\n",
        "    else:\n",
        "        warn('Error parsing F’')"
      ]
    },
    {
      "cell_type": "code",
      "execution_count": null,
      "metadata": {},
      "outputs": [],
      "source": [
        "def parse_F():\n",
        "    if look_ahead == 'i':\n",
        "        consume('i')\n",
        "    elif look_ahead == '(':\n",
        "        consume('(')\n",
        "        x = parse_E()\n",
        "        consume(')')\n",
        "        return x\n",
        "    else:\n",
        "        warn('Error parsing F')"
      ]
    },
    {
      "cell_type": "markdown",
      "metadata": {},
      "source": [
        "Possiamo collaudare il parser costruendo un iteratore sull'input, che sarà usato da `consume` per verificare la correttezza del passo di derivazione e aggiornare il *look-ahead*"
      ]
    },
    {
      "cell_type": "code",
      "execution_count": null,
      "metadata": {},
      "outputs": [],
      "source": [
        "input_iterator = iter('( i * i ) + i + i'.split())\n",
        "look_ahead = next(input_iterator)\n",
        "\n",
        "parse_E() # Non viene restituito nulla, ossia la parola è riconosciuta"
      ]
    },
    {
      "cell_type": "code",
      "execution_count": null,
      "metadata": {},
      "outputs": [
        {
          "name": "stderr",
          "output_type": "stream",
          "text": [
            "Error parsing F’\n",
            "Error parsing E’\n",
            "Expecting ), found i\n",
            "Error parsing F’\n",
            "Error parsing E’\n"
          ]
        }
      ],
      "source": [
        "input_iterator = iter('( i i ) * i'.split())\n",
        "look_ahead = next(input_iterator)\n",
        "\n",
        "parse_E() # La parola non è una espressione valida, quindi viene restituito un errore"
      ]
    },
    {
      "cell_type": "markdown",
      "metadata": {},
      "source": [
        "### Esercizio\n",
        "\n",
        "Non è difficile scrivere un *generatore di parser* come abbiamo fatto nella lezione [L13](L13.ipynb) che tenga conto del *look-ahead*.\n",
        "\n",
        "Un altro esercizio interessante potrebbe essere quello di modificare le procedure sopra riportate (o il generatore di parser) in modo che restituisca la derivazione ottenuta, sempre seguendo l'esmpio di quanto fatto nella lezione [L13](L13.ipynb)."
      ]
    },
    {
      "cell_type": "markdown",
      "metadata": {},
      "source": [
        "## La valutazione di espressioni\n",
        "\n",
        "Il discorso si complica un po' se volessimo ottenere il valore dell'espressione aritmetica, in quel caso l'atomo `i` andrebbe rimpiazzato da un numero; ci sarebbe bisogno cioè di introdurre un passo di tokenizzazione, come è stato fatto ad esempio nella pillola [L03-Pill](L03-Pill.ipynb)."
      ]
    },
    {
      "cell_type": "code",
      "execution_count": null,
      "metadata": {},
      "outputs": [],
      "source": [
        "from re import finditer\n",
        "\n",
        "def make_consume(expression):\n",
        "    input_iterator = iter(_.group() for _ in finditer(r'[(+*)]|\\d+', expression))    \n",
        "    def next_token():\n",
        "        global look_ahead, value\n",
        "        token = next(input_iterator, HASH)\n",
        "        if token in {'+', '*', '(', ')', HASH}:\n",
        "            look_ahead = token\n",
        "            value = None\n",
        "        else:\n",
        "            look_ahead = 'i'\n",
        "            value = int(token)\n",
        "    next_token()\n",
        "    def consume(t):        \n",
        "        if look_ahead != t:\n",
        "            warn('Expecting {}, found {}'.format(t, look_ahead))\n",
        "        else:\n",
        "            next_token()\n",
        "    return consume"
      ]
    },
    {
      "cell_type": "markdown",
      "metadata": {},
      "source": [
        "Vediamone un esempio d'uso: il tokenizzatore memorizza (oltre al *look-ahead*) anche il valore numerico degli atomi che incontra in una variabile globale di nome `value`."
      ]
    },
    {
      "cell_type": "code",
      "execution_count": null,
      "metadata": {},
      "outputs": [
        {
          "name": "stdout",
          "output_type": "stream",
          "text": [
            "23\n",
            "*\n",
            "2\n",
            "+\n",
            "(\n",
            "2\n",
            "+\n",
            "4\n",
            ")\n"
          ]
        }
      ],
      "source": [
        "consume = make_consume('23 * 2 + (2+ 4)')\n",
        "\n",
        "while True:\n",
        "    if look_ahead == HASH: break\n",
        "    print(value if look_ahead == 'i' else look_ahead)\n",
        "    consume(look_ahead)"
      ]
    },
    {
      "cell_type": "markdown",
      "metadata": {},
      "source": [
        "Siamo pronti ad adattare il parser di prima in modo tale che, invece di limitarsi ad emettere *warning*, ciascuna sua procedura restituisca il valore della sottoespressione che ha elaborato."
      ]
    },
    {
      "cell_type": "code",
      "execution_count": null,
      "metadata": {},
      "outputs": [],
      "source": [
        "def eval_E():\n",
        "    if look_ahead in {'i', '('}:\n",
        "        res = eval_T()\n",
        "        res += eval_Ep()\n",
        "        return res\n",
        "    else:\n",
        "        warn('Error parsing E')\n",
        "\n",
        "def eval_Ep():\n",
        "    if look_ahead in {')', HASH}:\n",
        "        return 0\n",
        "    elif look_ahead == '+':\n",
        "        consume('+')\n",
        "        res = eval_T()\n",
        "        res += eval_Ep()\n",
        "        return res\n",
        "    else:\n",
        "        warn('Error parsing E’')\n",
        "\n",
        "def eval_T():\n",
        "    if look_ahead in {'i', '('}:\n",
        "        res = eval_F()\n",
        "        res *= eval_Fp()\n",
        "        return res\n",
        "    else:\n",
        "        warn('Error parsing T')\n",
        "    \n",
        "def eval_Fp():\n",
        "    if look_ahead in {'+', ')', HASH}:\n",
        "        return 1\n",
        "    elif look_ahead == '*':\n",
        "        consume('*')\n",
        "        res = eval_F()\n",
        "        res *= eval_Fp()\n",
        "        return res\n",
        "    else:\n",
        "        warn('Error parsing T’')\n",
        "\n",
        "def eval_F():\n",
        "    if look_ahead == 'i':\n",
        "        res = value\n",
        "        consume('i')\n",
        "        return res\n",
        "    elif look_ahead == '(':\n",
        "        consume('(')\n",
        "        res = eval_E()\n",
        "        consume(')')\n",
        "        return res\n",
        "    else:\n",
        "        warn('Error parsing F')"
      ]
    },
    {
      "cell_type": "markdown",
      "metadata": {},
      "source": [
        "Siamo pronti ad usare queste funzioni per valutare le espressioni"
      ]
    },
    {
      "cell_type": "code",
      "execution_count": null,
      "metadata": {},
      "outputs": [
        {
          "data": {
            "text/plain": [
              "14"
            ]
          },
          "execution_count": 1,
          "metadata": {},
          "output_type": "execute_result"
        }
      ],
      "source": [
        "consume = make_consume('2 + 3 * 4')\n",
        "\n",
        "eval_E()"
      ]
    },
    {
      "cell_type": "markdown",
      "metadata": {},
      "source": [
        "## Extended CFG\n",
        "\n",
        "Se con la notazione $\\left\\{\\alpha\\right\\}^*$ indichiamo 0 o più ripetizioni di $\\alpha$, la precedene grammatica si può intendere come\n",
        "\n",
        "$E \\to T \\left\\{+ T\\right\\}^* \\\\\n",
        "T \\to F \\left\\{* F\\right\\}^* \\\\\n",
        "F \\to ( E ) | i$\n",
        "\n",
        "il che suggerisce l'uso di un cicli `while` (invece della ricorsione di coda) per gestire la ripetizione."
      ]
    },
    {
      "cell_type": "code",
      "execution_count": null,
      "metadata": {},
      "outputs": [],
      "source": [
        "def eval_E():\n",
        "    if look_ahead in {'i', '('}:\n",
        "        res = eval_T()\n",
        "        while look_ahead == '+':\n",
        "            consume('+')\n",
        "            res += eval_T()\n",
        "        if look_ahead in {')', HASH}:\n",
        "            return res\n",
        "    else:\n",
        "        warn('Error parsing E')\n",
        "\n",
        "def eval_T():\n",
        "    if look_ahead in {'i', '('}:\n",
        "        res = eval_F()\n",
        "        while look_ahead == '*':\n",
        "            consume('*')\n",
        "            res *= eval_F()\n",
        "        if look_ahead in {')', '#'}:\n",
        "            return res\n",
        "        return res\n",
        "    else:\n",
        "        warn('Error parsing T')\n",
        "    \n",
        "def eval_F():\n",
        "    if look_ahead == 'i':\n",
        "        res = value\n",
        "        consume('i')\n",
        "        return res\n",
        "    elif look_ahead == '(':\n",
        "        consume('(')\n",
        "        res = eval_E()\n",
        "        consume(')')\n",
        "        return res\n",
        "    else:\n",
        "        warn('Error parsing F')"
      ]
    },
    {
      "cell_type": "markdown",
      "metadata": {},
      "source": [
        "Un ultimo test suggerisce che l'approccio funziona!"
      ]
    },
    {
      "cell_type": "code",
      "execution_count": null,
      "metadata": {},
      "outputs": [],
      "source": [
        "consume = make_consume('4 * 2 * 3')\n",
        "\n",
        "parse_E()"
      ]
    }
  ],
  "metadata": {
    "kernelspec": {
      "display_name": "Python 3",
      "language": "python",
      "name": "python3"
    },
    "language_info": {
      "codemirror_mode": {
        "name": "ipython",
        "version": 3
      },
      "file_extension": ".py",
      "mimetype": "text/x-python",
      "name": "python",
      "nbconvert_exporter": "python",
      "pygments_lexer": "ipython3"
    }
  },
  "nbformat": 4,
  "nbformat_minor": 4
}
