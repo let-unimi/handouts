{
  "cells": [
    {
      "cell_type": "markdown",
      "metadata": {},
      "source": [
        "# Costruzione di un paresr ricorsivo discendente"
      ]
    },
    {
      "cell_type": "code",
      "execution_count": null,
      "metadata": {},
      "outputs": [],
      "source": [
        "from textwrap import dedent, indent\n",
        "\n",
        "from liblet import (\n",
        "    Grammar, \n",
        "    Derivation, \n",
        "    ProductionGraph, \n",
        "    show_calls, \n",
        "    iter2table\n",
        ")"
      ]
    },
    {
      "cell_type": "markdown",
      "metadata": {},
      "source": [
        "## Eliminazione della ricorsione"
      ]
    },
    {
      "cell_type": "code",
      "execution_count": null,
      "metadata": {},
      "outputs": [],
      "source": [
        "# grammatica per l'aritmetica col + e il - \n",
        "\n",
        "# versione ricorsiva\n",
        "\n",
        "\"\"\"\n",
        "E -> E + T | E - T | T\n",
        "T -> t\n",
        "\"\"\";"
      ]
    },
    {
      "cell_type": "code",
      "execution_count": null,
      "metadata": {},
      "outputs": [],
      "source": [
        "# versione non ricorsiva\n",
        "\n",
        "\"\"\"\n",
        "E -> Eh Ets | Eh\n",
        "Eh -> T\n",
        "Ets -> Et Ets | Et\n",
        "Et -> + T | - T\n",
        "T -> t\n",
        "\"\"\";"
      ]
    },
    {
      "cell_type": "code",
      "execution_count": null,
      "metadata": {},
      "outputs": [
        {
          "data": {
            "text/plain": [
              "Grammar(N={E, Eh, Et, Ets, T}, T={#, +, -, t}, P=(E -> Eh Ets, E -> Eh #, Eh -> T, Ets -> Et Ets, Ets -> Et #, Et -> + T, Et -> - T, T -> t), S=E)"
            ]
          },
          "execution_count": 4,
          "metadata": {},
          "output_type": "execute_result"
        }
      ],
      "source": [
        "# versione prefix-free\n",
        "\n",
        "G = Grammar.from_string(\"\"\"\n",
        "E -> Eh Ets | Eh #\n",
        "Eh -> T\n",
        "Ets -> Et Ets | Et #\n",
        "Et -> + T | - T\n",
        "T -> t\n",
        "\"\"\")\n",
        "G\n",
        "\n",
        "# Ets => Et^+ #\n",
        "# E => Eh Ets * #"
      ]
    },
    {
      "cell_type": "markdown",
      "metadata": {},
      "source": [
        "## Costruzione manuale del parser\n",
        "\n",
        "Costruiamo una funzione `match` (a partire dalla grammatica $G$) che su input $X$ e $\\alpha\\beta$ restituisce una coppia $(b, \\beta)$ dove $b$ è `True`  se e solo se il simbolo $X \\in N \\cup T$ è tale che $X\\stackrel{*}{\\to}\\alpha$."
      ]
    },
    {
      "cell_type": "code",
      "execution_count": null,
      "metadata": {},
      "outputs": [],
      "source": [
        "@show_calls(True)\n",
        "def match(X, rest):\n",
        "\n",
        "    if X in G.T:\n",
        "        \n",
        "        if rest and rest[0] == X: return True, rest[1:]\n",
        "        return False, rest\n",
        "\n",
        "    elif X == 'T': # T -> t\n",
        "\n",
        "        return match('t', rest)\n",
        "\n",
        "    elif X == 'Eh': # Eh -> T\n",
        "\n",
        "        return match('T', rest)\n",
        "    \n",
        "    elif X == 'Et': # Et -> + T | - T\n",
        "\n",
        "        s, r = match('+', rest)\n",
        "        if s: return match('T', r)\n",
        "        s, r = match('-', rest)\n",
        "        if s: return match('T', r)\n",
        "        return False, rest        \n",
        "\n",
        "    elif X == 'Ets': # Ets -> Et Ets | Et #\n",
        "\n",
        "        s0, r0 = match('Et', rest)\n",
        "        if s0:\n",
        "            s1, r1 = match('#', r0)\n",
        "            if s1: return True, r1\n",
        "            return match('Ets', r0)\n",
        "        return False, rest        \n",
        "    \n",
        "    elif X == 'E': # E -> Eh Ets | Eh #\n",
        "\n",
        "        s0, r0 = match('Eh', rest)\n",
        "        if s0:\n",
        "            s1, r1 = match('#', r0)\n",
        "            if s1: return True, r1\n",
        "            return match('Ets', r0)\n",
        "        return False, rest        \n"
      ]
    },
    {
      "cell_type": "markdown",
      "metadata": {},
      "source": [
        "Decidere se $\\omega\\in L(G)$ equivale a chiedersi se su input $E$ e $\\omega$ la funzione restituisce (`True`, $\\varepsilon$)."
      ]
    },
    {
      "cell_type": "code",
      "execution_count": null,
      "metadata": {},
      "outputs": [
        {
          "name": "stdout",
          "output_type": "stream",
          "text": [
            "┌match('E', ['t', '+', 't', '-', 't', '#'])\n",
            "│┌match('Eh', ['t', '+', 't', '-', 't', '#'])\n",
            "││┌match('T', ['t', '+', 't', '-', 't', '#'])\n",
            "│││┌match('t', ['t', '+', 't', '-', 't', '#'])\n",
            "│││└─ (True, ['+', 't', '-', 't', '#'])\n",
            "││└─ (True, ['+', 't', '-', 't', '#'])\n",
            "│└─ (True, ['+', 't', '-', 't', '#'])\n",
            "│┌match('#', ['+', 't', '-', 't', '#'])\n",
            "│└─ (False, ['+', 't', '-', 't', '#'])\n",
            "│┌match('Ets', ['+', 't', '-', 't', '#'])\n",
            "││┌match('Et', ['+', 't', '-', 't', '#'])\n",
            "│││┌match('+', ['+', 't', '-', 't', '#'])\n",
            "│││└─ (True, ['t', '-', 't', '#'])\n",
            "│││┌match('T', ['t', '-', 't', '#'])\n",
            "││││┌match('t', ['t', '-', 't', '#'])\n",
            "││││└─ (True, ['-', 't', '#'])\n",
            "│││└─ (True, ['-', 't', '#'])\n",
            "││└─ (True, ['-', 't', '#'])\n",
            "││┌match('#', ['-', 't', '#'])\n",
            "││└─ (False, ['-', 't', '#'])\n",
            "││┌match('Ets', ['-', 't', '#'])\n",
            "│││┌match('Et', ['-', 't', '#'])\n",
            "││││┌match('+', ['-', 't', '#'])\n",
            "││││└─ (False, ['-', 't', '#'])\n",
            "││││┌match('-', ['-', 't', '#'])\n",
            "││││└─ (True, ['t', '#'])\n",
            "││││┌match('T', ['t', '#'])\n",
            "│││││┌match('t', ['t', '#'])\n",
            "│││││└─ (True, ['#'])\n",
            "││││└─ (True, ['#'])\n",
            "│││└─ (True, ['#'])\n",
            "│││┌match('#', ['#'])\n",
            "│││└─ (True, [])\n",
            "││└─ (True, [])\n",
            "│└─ (True, [])\n",
            "└─ (True, [])\n"
          ]
        },
        {
          "data": {
            "text/plain": [
              "(True, [])"
            ]
          },
          "execution_count": 6,
          "metadata": {},
          "output_type": "execute_result"
        }
      ],
      "source": [
        "INPUT = list('t+t-t#') # le parole sono liste di stringhe…\n",
        "\n",
        "match('E', INPUT)"
      ]
    },
    {
      "cell_type": "markdown",
      "metadata": {},
      "source": [
        "### Ricostruire l'albero di parsing\n",
        "\n",
        "Modifichiamo la funzione `match` perché restituisca anche la sequenza delle derivazioni leftmost che conducono al riconoscimento."
      ]
    },
    {
      "cell_type": "code",
      "execution_count": null,
      "metadata": {},
      "outputs": [
        {
          "data": {
            "text/html": [
              "<style>td, th {border: 1pt solid lightgray !important ;}</style><table><tr><th style=\"text-align:left\">0<td style=\"text-align:left\"><pre>E -&gt; Eh Ets</pre>\n",
              "<tr><th style=\"text-align:left\">1<td style=\"text-align:left\"><pre>E -&gt; Eh #</pre>\n",
              "<tr><th style=\"text-align:left\">2<td style=\"text-align:left\"><pre>Eh -&gt; T</pre>\n",
              "<tr><th style=\"text-align:left\">3<td style=\"text-align:left\"><pre>Ets -&gt; Et Ets</pre>\n",
              "<tr><th style=\"text-align:left\">4<td style=\"text-align:left\"><pre>Ets -&gt; Et #</pre>\n",
              "<tr><th style=\"text-align:left\">5<td style=\"text-align:left\"><pre>Et -&gt; + T</pre>\n",
              "<tr><th style=\"text-align:left\">6<td style=\"text-align:left\"><pre>Et -&gt; - T</pre>\n",
              "<tr><th style=\"text-align:left\">7<td style=\"text-align:left\"><pre>T -&gt; t</pre></table>"
            ],
            "text/plain": [
              "<IPython.core.display.HTML object>"
            ]
          },
          "execution_count": 7,
          "metadata": {},
          "output_type": "execute_result"
        }
      ],
      "source": [
        "# servono i numeri di produzione\n",
        "\n",
        "iter2table(G.P)"
      ]
    },
    {
      "cell_type": "code",
      "execution_count": null,
      "metadata": {},
      "outputs": [],
      "source": [
        "# ora match restituisce: succ, rest, steps\n",
        "\n",
        "@show_calls(True)\n",
        "def match(X, rest): \n",
        "\n",
        "    if X in G.T:\n",
        "        \n",
        "        if rest and rest[0] == X: return True, rest[1:]\n",
        "        return False, rest\n",
        "\n",
        "    elif X == 'T':\n",
        "\n",
        "        s, r = match('t', rest)\n",
        "        if s: return True, r, [7]\n",
        "        \n",
        "    elif X == 'Eh':\n",
        "        \n",
        "        s, r, p = match('T', rest)\n",
        "        if s: return True, r, [2] + p\n",
        "\n",
        "    elif X == 'Et':\n",
        "        \n",
        "        s, r = match('+', rest)\n",
        "        if s:\n",
        "            s, r, p = match('T', r)\n",
        "            if s: return True, r, [5] + p\n",
        "        s, r = match('-', rest)\n",
        "        if s: \n",
        "            s, r, p = match('T', r)\n",
        "            if s: return True, r, [6] + p\n",
        "            \n",
        "    elif X == 'Ets':\n",
        "        \n",
        "        s0, r0, p0 = match('Et', rest)\n",
        "        if s0:\n",
        "            s1, r1 = match('#', r0)\n",
        "            if s1: return True, r1, [4] + p0\n",
        "            s2, r2, p2 = match('Ets', r0)\n",
        "            if s2: return True, r2, [3] + p0 + p2\n",
        "\n",
        "    elif X == 'E':\n",
        "\n",
        "        s0, r0, p0 = match('Eh', rest)\n",
        "        if s0:\n",
        "            s1, r1 = match('#', r0)\n",
        "            if s1: return True, r1, [1] + p0\n",
        "            s2, r2, p2 = match('Ets', r0)\n",
        "            if s2: return True, r2, [0] + p0 + p2\n",
        "\n",
        "    return False, rest, []        "
      ]
    },
    {
      "cell_type": "code",
      "execution_count": null,
      "metadata": {},
      "outputs": [
        {
          "name": "stdout",
          "output_type": "stream",
          "text": [
            "┌match('E', ['t', '+', 't', '-', 't', '#'])\n",
            "│┌match('Eh', ['t', '+', 't', '-', 't', '#'])\n",
            "││┌match('T', ['t', '+', 't', '-', 't', '#'])\n",
            "│││┌match('t', ['t', '+', 't', '-', 't', '#'])\n",
            "│││└─ (True, ['+', 't', '-', 't', '#'])\n",
            "││└─ (True, ['+', 't', '-', 't', '#'], [7])\n",
            "│└─ (True, ['+', 't', '-', 't', '#'], [2, 7])\n",
            "│┌match('#', ['+', 't', '-', 't', '#'])\n",
            "│└─ (False, ['+', 't', '-', 't', '#'])\n",
            "│┌match('Ets', ['+', 't', '-', 't', '#'])\n",
            "││┌match('Et', ['+', 't', '-', 't', '#'])\n",
            "│││┌match('+', ['+', 't', '-', 't', '#'])\n",
            "│││└─ (True, ['t', '-', 't', '#'])\n",
            "│││┌match('T', ['t', '-', 't', '#'])\n",
            "││││┌match('t', ['t', '-', 't', '#'])\n",
            "││││└─ (True, ['-', 't', '#'])\n",
            "│││└─ (True, ['-', 't', '#'], [7])\n",
            "││└─ (True, ['-', 't', '#'], [5, 7])\n",
            "││┌match('#', ['-', 't', '#'])\n",
            "││└─ (False, ['-', 't', '#'])\n",
            "││┌match('Ets', ['-', 't', '#'])\n",
            "│││┌match('Et', ['-', 't', '#'])\n",
            "││││┌match('+', ['-', 't', '#'])\n",
            "││││└─ (False, ['-', 't', '#'])\n",
            "││││┌match('-', ['-', 't', '#'])\n",
            "││││└─ (True, ['t', '#'])\n",
            "││││┌match('T', ['t', '#'])\n",
            "│││││┌match('t', ['t', '#'])\n",
            "│││││└─ (True, ['#'])\n",
            "││││└─ (True, ['#'], [7])\n",
            "│││└─ (True, ['#'], [6, 7])\n",
            "│││┌match('#', ['#'])\n",
            "│││└─ (True, [])\n",
            "││└─ (True, [], [4, 6, 7])\n",
            "│└─ (True, [], [3, 5, 7, 4, 6, 7])\n",
            "└─ (True, [], [0, 2, 7, 3, 5, 7, 4, 6, 7])\n"
          ]
        },
        {
          "data": {
            "text/plain": [
              "[0, 2, 7, 3, 5, 7, 4, 6, 7]"
            ]
          },
          "execution_count": 9,
          "metadata": {},
          "output_type": "execute_result"
        }
      ],
      "source": [
        "# testiamo lo stesso input\n",
        "\n",
        "_, _, steps = match('E', INPUT)\n",
        "steps"
      ]
    },
    {
      "cell_type": "code",
      "execution_count": null,
      "metadata": {},
      "outputs": [
        {
          "data": {
            "image/svg+xml": [
              "<?xml version=\"1.0\" encoding=\"UTF-8\" standalone=\"no\"?>\n",
              "<!DOCTYPE svg PUBLIC \"-//W3C//DTD SVG 1.1//EN\"\n",
              " \"http://www.w3.org/Graphics/SVG/1.1/DTD/svg11.dtd\">\n",
              "<!-- Generated by graphviz version 2.43.0 (0)\n",
              " -->\n",
              "<!-- Title: %3 Pages: 1 -->\n",
              "<svg width=\"159pt\" height=\"230pt\"\n",
              " viewBox=\"0.00 0.00 159.44 230.00\" xmlns=\"http://www.w3.org/2000/svg\" xmlns:xlink=\"http://www.w3.org/1999/xlink\">\n",
              "<g id=\"graph0\" class=\"graph\" transform=\"scale(1 1) rotate(0) translate(4 226)\">\n",
              "<title>%3</title>\n",
              "<polygon fill=\"white\" stroke=\"transparent\" points=\"-4,4 -4,-226 155.44,-226 155.44,4 -4,4\"/>\n",
              "<!-- 888020491046587498 -->\n",
              "<g id=\"node1\" class=\"node\">\n",
              "<title>888020491046587498</title>\n",
              "<path fill=\"none\" stroke=\"black\" stroke-width=\"0.25\" d=\"M47.63,-222C47.63,-222 42.26,-222 42.26,-222 39.57,-222 36.89,-219.31 36.89,-216.63 36.89,-216.63 36.89,-205.37 36.89,-205.37 36.89,-202.69 39.57,-200 42.26,-200 42.26,-200 47.63,-200 47.63,-200 50.32,-200 53,-202.69 53,-205.37 53,-205.37 53,-216.63 53,-216.63 53,-219.31 50.32,-222 47.63,-222\"/>\n",
              "<text text-anchor=\"middle\" x=\"44.94\" y=\"-206.8\" font-family=\"Times,serif\" font-size=\"14.00\">E</text>\n",
              "</g>\n",
              "<!-- 5150509659570454491 -->\n",
              "<g id=\"node2\" class=\"node\">\n",
              "<title>5150509659570454491</title>\n",
              "<path fill=\"none\" stroke=\"black\" stroke-width=\"0.25\" d=\"M28.17,-182C28.17,-182 19.72,-182 19.72,-182 16.06,-182 12.39,-178.33 12.39,-174.67 12.39,-174.67 12.39,-167.33 12.39,-167.33 12.39,-163.67 16.06,-160 19.72,-160 19.72,-160 28.17,-160 28.17,-160 31.83,-160 35.5,-163.67 35.5,-167.33 35.5,-167.33 35.5,-174.67 35.5,-174.67 35.5,-178.33 31.83,-182 28.17,-182\"/>\n",
              "<text text-anchor=\"middle\" x=\"23.94\" y=\"-166.8\" font-family=\"Times,serif\" font-size=\"14.00\">Eh</text>\n",
              "</g>\n",
              "<!-- 888020491046587498&#45;&gt;5150509659570454491 -->\n",
              "<g id=\"edge1\" class=\"edge\">\n",
              "<title>888020491046587498&#45;&gt;5150509659570454491</title>\n",
              "<path fill=\"none\" stroke=\"black\" stroke-width=\"0.5\" d=\"M39.21,-199.62C36.19,-194.17 32.52,-187.52 29.53,-182.11\"/>\n",
              "</g>\n",
              "<!-- &#45;3181022317376597448 -->\n",
              "<g id=\"node3\" class=\"node\">\n",
              "<title>&#45;3181022317376597448</title>\n",
              "<path fill=\"none\" stroke=\"black\" stroke-width=\"0.25\" d=\"M72.5,-182C72.5,-182 61.39,-182 61.39,-182 57.72,-182 54.05,-178.33 54.05,-174.67 54.05,-174.67 54.05,-167.33 54.05,-167.33 54.05,-163.67 57.72,-160 61.39,-160 61.39,-160 72.5,-160 72.5,-160 76.17,-160 79.83,-163.67 79.83,-167.33 79.83,-167.33 79.83,-174.67 79.83,-174.67 79.83,-178.33 76.17,-182 72.5,-182\"/>\n",
              "<text text-anchor=\"middle\" x=\"66.94\" y=\"-166.8\" font-family=\"Times,serif\" font-size=\"14.00\">Ets</text>\n",
              "</g>\n",
              "<!-- 888020491046587498&#45;&gt;&#45;3181022317376597448 -->\n",
              "<g id=\"edge2\" class=\"edge\">\n",
              "<title>888020491046587498&#45;&gt;&#45;3181022317376597448</title>\n",
              "<path fill=\"none\" stroke=\"black\" stroke-width=\"0.5\" d=\"M50.96,-199.62C54.11,-194.17 57.96,-187.52 61.09,-182.11\"/>\n",
              "</g>\n",
              "<!-- 5150509659570454491&#45;&gt;&#45;3181022317376597448 -->\n",
              "<!-- &#45;1554625418651425678 -->\n",
              "<g id=\"node4\" class=\"node\">\n",
              "<title>&#45;1554625418651425678</title>\n",
              "<path fill=\"none\" stroke=\"black\" stroke-width=\"0.25\" d=\"M17.63,-142C17.63,-142 12.26,-142 12.26,-142 9.57,-142 6.89,-139.31 6.89,-136.63 6.89,-136.63 6.89,-125.37 6.89,-125.37 6.89,-122.69 9.57,-120 12.26,-120 12.26,-120 17.63,-120 17.63,-120 20.32,-120 23,-122.69 23,-125.37 23,-125.37 23,-136.63 23,-136.63 23,-139.31 20.32,-142 17.63,-142\"/>\n",
              "<text text-anchor=\"middle\" x=\"14.94\" y=\"-126.8\" font-family=\"Times,serif\" font-size=\"14.00\">T</text>\n",
              "</g>\n",
              "<!-- 5150509659570454491&#45;&gt;&#45;1554625418651425678 -->\n",
              "<g id=\"edge4\" class=\"edge\">\n",
              "<title>5150509659570454491&#45;&gt;&#45;1554625418651425678</title>\n",
              "<path fill=\"none\" stroke=\"black\" stroke-width=\"0.5\" d=\"M21.49,-159.62C20.19,-154.17 18.62,-147.52 17.34,-142.11\"/>\n",
              "</g>\n",
              "<!-- 787571412922768592 -->\n",
              "<g id=\"node6\" class=\"node\">\n",
              "<title>787571412922768592</title>\n",
              "<path fill=\"none\" stroke=\"black\" stroke-width=\"0.25\" d=\"M70.43,-142C70.43,-142 63.46,-142 63.46,-142 59.98,-142 56.5,-138.52 56.5,-135.04 56.5,-135.04 56.5,-126.96 56.5,-126.96 56.5,-123.48 59.98,-120 63.46,-120 63.46,-120 70.43,-120 70.43,-120 73.91,-120 77.39,-123.48 77.39,-126.96 77.39,-126.96 77.39,-135.04 77.39,-135.04 77.39,-138.52 73.91,-142 70.43,-142\"/>\n",
              "<text text-anchor=\"middle\" x=\"66.94\" y=\"-126.8\" font-family=\"Times,serif\" font-size=\"14.00\">Et</text>\n",
              "</g>\n",
              "<!-- &#45;3181022317376597448&#45;&gt;787571412922768592 -->\n",
              "<g id=\"edge6\" class=\"edge\">\n",
              "<title>&#45;3181022317376597448&#45;&gt;787571412922768592</title>\n",
              "<path fill=\"none\" stroke=\"black\" stroke-width=\"0.5\" d=\"M66.94,-159.62C66.94,-154.17 66.94,-147.52 66.94,-142.11\"/>\n",
              "</g>\n",
              "<!-- &#45;3181026100969924015 -->\n",
              "<g id=\"node7\" class=\"node\">\n",
              "<title>&#45;3181026100969924015</title>\n",
              "<path fill=\"none\" stroke=\"black\" stroke-width=\"0.25\" d=\"M113.5,-142C113.5,-142 102.39,-142 102.39,-142 98.72,-142 95.05,-138.33 95.05,-134.67 95.05,-134.67 95.05,-127.33 95.05,-127.33 95.05,-123.67 98.72,-120 102.39,-120 102.39,-120 113.5,-120 113.5,-120 117.17,-120 120.83,-123.67 120.83,-127.33 120.83,-127.33 120.83,-134.67 120.83,-134.67 120.83,-138.33 117.17,-142 113.5,-142\"/>\n",
              "<text text-anchor=\"middle\" x=\"107.94\" y=\"-126.8\" font-family=\"Times,serif\" font-size=\"14.00\">Ets</text>\n",
              "</g>\n",
              "<!-- &#45;3181022317376597448&#45;&gt;&#45;3181026100969924015 -->\n",
              "<g id=\"edge7\" class=\"edge\">\n",
              "<title>&#45;3181022317376597448&#45;&gt;&#45;3181026100969924015</title>\n",
              "<path fill=\"none\" stroke=\"black\" stroke-width=\"0.5\" d=\"M78.15,-159.62C84.03,-154.17 91.2,-147.52 97.04,-142.11\"/>\n",
              "</g>\n",
              "<!-- &#45;3685779756627989892 -->\n",
              "<g id=\"node5\" class=\"node\">\n",
              "<title>&#45;3685779756627989892</title>\n",
              "<path fill=\"none\" stroke=\"black\" stroke-width=\"1.25\" d=\"M7.91,-102C7.91,-102 3.98,-102 3.98,-102 2.02,-102 0.05,-100.04 0.05,-98.07 0.05,-98.07 0.05,-83.93 0.05,-83.93 0.05,-81.96 2.02,-80 3.98,-80 3.98,-80 7.91,-80 7.91,-80 9.87,-80 11.83,-81.96 11.83,-83.93 11.83,-83.93 11.83,-98.07 11.83,-98.07 11.83,-100.04 9.87,-102 7.91,-102\"/>\n",
              "<text text-anchor=\"middle\" x=\"5.94\" y=\"-86.8\" font-family=\"Times,serif\" font-size=\"14.00\">t</text>\n",
              "</g>\n",
              "<!-- &#45;1554625418651425678&#45;&gt;&#45;3685779756627989892 -->\n",
              "<g id=\"edge5\" class=\"edge\">\n",
              "<title>&#45;1554625418651425678&#45;&gt;&#45;3685779756627989892</title>\n",
              "<path fill=\"none\" stroke=\"black\" stroke-width=\"0.5\" d=\"M12.49,-119.62C11.19,-114.17 9.62,-107.52 8.34,-102.11\"/>\n",
              "</g>\n",
              "<!-- 787571412922768592&#45;&gt;&#45;3181026100969924015 -->\n",
              "<!-- 8616550880593088269 -->\n",
              "<g id=\"node8\" class=\"node\">\n",
              "<title>8616550880593088269</title>\n",
              "<path fill=\"none\" stroke=\"black\" stroke-width=\"1.25\" d=\"M40.58,-102C40.58,-102 35.31,-102 35.31,-102 32.68,-102 30.05,-99.37 30.05,-96.74 30.05,-96.74 30.05,-85.26 30.05,-85.26 30.05,-82.63 32.68,-80 35.31,-80 35.31,-80 40.58,-80 40.58,-80 43.21,-80 45.84,-82.63 45.84,-85.26 45.84,-85.26 45.84,-96.74 45.84,-96.74 45.84,-99.37 43.21,-102 40.58,-102\"/>\n",
              "<text text-anchor=\"middle\" x=\"37.94\" y=\"-86.8\" font-family=\"Times,serif\" font-size=\"14.00\">+</text>\n",
              "</g>\n",
              "<!-- 787571412922768592&#45;&gt;8616550880593088269 -->\n",
              "<g id=\"edge9\" class=\"edge\">\n",
              "<title>787571412922768592&#45;&gt;8616550880593088269</title>\n",
              "<path fill=\"none\" stroke=\"black\" stroke-width=\"0.5\" d=\"M59.02,-119.62C54.86,-114.17 49.79,-107.52 45.66,-102.11\"/>\n",
              "</g>\n",
              "<!-- &#45;1554619112665266514 -->\n",
              "<g id=\"node9\" class=\"node\">\n",
              "<title>&#45;1554619112665266514</title>\n",
              "<path fill=\"none\" stroke=\"black\" stroke-width=\"0.25\" d=\"M74.63,-102C74.63,-102 69.26,-102 69.26,-102 66.57,-102 63.89,-99.31 63.89,-96.63 63.89,-96.63 63.89,-85.37 63.89,-85.37 63.89,-82.69 66.57,-80 69.26,-80 69.26,-80 74.63,-80 74.63,-80 77.32,-80 80,-82.69 80,-85.37 80,-85.37 80,-96.63 80,-96.63 80,-99.31 77.32,-102 74.63,-102\"/>\n",
              "<text text-anchor=\"middle\" x=\"71.94\" y=\"-86.8\" font-family=\"Times,serif\" font-size=\"14.00\">T</text>\n",
              "</g>\n",
              "<!-- 787571412922768592&#45;&gt;&#45;1554619112665266514 -->\n",
              "<g id=\"edge10\" class=\"edge\">\n",
              "<title>787571412922768592&#45;&gt;&#45;1554619112665266514</title>\n",
              "<path fill=\"none\" stroke=\"black\" stroke-width=\"0.5\" d=\"M68.31,-119.62C69.03,-114.17 69.9,-107.52 70.61,-102.11\"/>\n",
              "</g>\n",
              "<!-- 787567629331772123 -->\n",
              "<g id=\"node11\" class=\"node\">\n",
              "<title>787567629331772123</title>\n",
              "<path fill=\"none\" stroke=\"black\" stroke-width=\"0.25\" d=\"M111.43,-102C111.43,-102 104.46,-102 104.46,-102 100.98,-102 97.5,-98.52 97.5,-95.04 97.5,-95.04 97.5,-86.96 97.5,-86.96 97.5,-83.48 100.98,-80 104.46,-80 104.46,-80 111.43,-80 111.43,-80 114.91,-80 118.39,-83.48 118.39,-86.96 118.39,-86.96 118.39,-95.04 118.39,-95.04 118.39,-98.52 114.91,-102 111.43,-102\"/>\n",
              "<text text-anchor=\"middle\" x=\"107.94\" y=\"-86.8\" font-family=\"Times,serif\" font-size=\"14.00\">Et</text>\n",
              "</g>\n",
              "<!-- &#45;3181026100969924015&#45;&gt;787567629331772123 -->\n",
              "<g id=\"edge13\" class=\"edge\">\n",
              "<title>&#45;3181026100969924015&#45;&gt;787567629331772123</title>\n",
              "<path fill=\"none\" stroke=\"black\" stroke-width=\"0.5\" d=\"M107.94,-119.62C107.94,-114.17 107.94,-107.52 107.94,-102.11\"/>\n",
              "</g>\n",
              "<!-- &#45;2855698787288130784 -->\n",
              "<g id=\"node12\" class=\"node\">\n",
              "<title>&#45;2855698787288130784</title>\n",
              "<path fill=\"none\" stroke=\"black\" stroke-width=\"1.25\" d=\"M146.44,-102C146.44,-102 141.44,-102 141.44,-102 138.94,-102 136.44,-99.5 136.44,-97 136.44,-97 136.44,-85 136.44,-85 136.44,-82.5 138.94,-80 141.44,-80 141.44,-80 146.44,-80 146.44,-80 148.94,-80 151.44,-82.5 151.44,-85 151.44,-85 151.44,-97 151.44,-97 151.44,-99.5 148.94,-102 146.44,-102\"/>\n",
              "<text text-anchor=\"middle\" x=\"143.94\" y=\"-86.8\" font-family=\"Times,serif\" font-size=\"14.00\">#</text>\n",
              "</g>\n",
              "<!-- &#45;3181026100969924015&#45;&gt;&#45;2855698787288130784 -->\n",
              "<g id=\"edge14\" class=\"edge\">\n",
              "<title>&#45;3181026100969924015&#45;&gt;&#45;2855698787288130784</title>\n",
              "<path fill=\"none\" stroke=\"black\" stroke-width=\"0.5\" d=\"M117.78,-119.62C123.61,-113.46 130.89,-105.78 136.29,-100.08\"/>\n",
              "</g>\n",
              "<!-- 8616550880593088269&#45;&gt;&#45;1554619112665266514 -->\n",
              "<!-- &#45;3685786062612984007 -->\n",
              "<g id=\"node10\" class=\"node\">\n",
              "<title>&#45;3685786062612984007</title>\n",
              "<path fill=\"none\" stroke=\"black\" stroke-width=\"1.25\" d=\"M73.91,-62C73.91,-62 69.98,-62 69.98,-62 68.02,-62 66.05,-60.04 66.05,-58.07 66.05,-58.07 66.05,-43.93 66.05,-43.93 66.05,-41.96 68.02,-40 69.98,-40 69.98,-40 73.91,-40 73.91,-40 75.87,-40 77.83,-41.96 77.83,-43.93 77.83,-43.93 77.83,-58.07 77.83,-58.07 77.83,-60.04 75.87,-62 73.91,-62\"/>\n",
              "<text text-anchor=\"middle\" x=\"71.94\" y=\"-46.8\" font-family=\"Times,serif\" font-size=\"14.00\">t</text>\n",
              "</g>\n",
              "<!-- &#45;1554619112665266514&#45;&gt;&#45;3685786062612984007 -->\n",
              "<g id=\"edge12\" class=\"edge\">\n",
              "<title>&#45;1554619112665266514&#45;&gt;&#45;3685786062612984007</title>\n",
              "<path fill=\"none\" stroke=\"black\" stroke-width=\"0.5\" d=\"M71.94,-79.62C71.94,-74.17 71.94,-67.52 71.94,-62.11\"/>\n",
              "</g>\n",
              "<!-- 787567629331772123&#45;&gt;&#45;2855698787288130784 -->\n",
              "<!-- 2293098877194963595 -->\n",
              "<g id=\"node13\" class=\"node\">\n",
              "<title>2293098877194963595</title>\n",
              "<path fill=\"none\" stroke=\"black\" stroke-width=\"1.25\" d=\"M107,-62C107,-62 102.89,-62 102.89,-62 100.83,-62 98.78,-59.94 98.78,-57.89 98.78,-57.89 98.78,-44.11 98.78,-44.11 98.78,-42.06 100.83,-40 102.89,-40 102.89,-40 107,-40 107,-40 109.06,-40 111.11,-42.06 111.11,-44.11 111.11,-44.11 111.11,-57.89 111.11,-57.89 111.11,-59.94 109.06,-62 107,-62\"/>\n",
              "<text text-anchor=\"middle\" x=\"104.94\" y=\"-46.8\" font-family=\"Times,serif\" font-size=\"14.00\">&#45;</text>\n",
              "</g>\n",
              "<!-- 787567629331772123&#45;&gt;2293098877194963595 -->\n",
              "<g id=\"edge16\" class=\"edge\">\n",
              "<title>787567629331772123&#45;&gt;2293098877194963595</title>\n",
              "<path fill=\"none\" stroke=\"black\" stroke-width=\"0.5\" d=\"M107.13,-79.62C106.69,-74.17 106.17,-67.52 105.74,-62.11\"/>\n",
              "</g>\n",
              "<!-- &#45;1554612806682602497 -->\n",
              "<g id=\"node14\" class=\"node\">\n",
              "<title>&#45;1554612806682602497</title>\n",
              "<path fill=\"none\" stroke=\"black\" stroke-width=\"0.25\" d=\"M140.63,-62C140.63,-62 135.26,-62 135.26,-62 132.57,-62 129.89,-59.31 129.89,-56.63 129.89,-56.63 129.89,-45.37 129.89,-45.37 129.89,-42.69 132.57,-40 135.26,-40 135.26,-40 140.63,-40 140.63,-40 143.32,-40 146,-42.69 146,-45.37 146,-45.37 146,-56.63 146,-56.63 146,-59.31 143.32,-62 140.63,-62\"/>\n",
              "<text text-anchor=\"middle\" x=\"137.94\" y=\"-46.8\" font-family=\"Times,serif\" font-size=\"14.00\">T</text>\n",
              "</g>\n",
              "<!-- 787567629331772123&#45;&gt;&#45;1554612806682602497 -->\n",
              "<g id=\"edge17\" class=\"edge\">\n",
              "<title>787567629331772123&#45;&gt;&#45;1554612806682602497</title>\n",
              "<path fill=\"none\" stroke=\"black\" stroke-width=\"0.5\" d=\"M116.14,-79.62C120.44,-74.17 125.69,-67.52 129.96,-62.11\"/>\n",
              "</g>\n",
              "<!-- 2293098877194963595&#45;&gt;&#45;1554612806682602497 -->\n",
              "<!-- &#45;3685772189445996954 -->\n",
              "<g id=\"node15\" class=\"node\">\n",
              "<title>&#45;3685772189445996954</title>\n",
              "<path fill=\"none\" stroke=\"black\" stroke-width=\"1.25\" d=\"M139.91,-22C139.91,-22 135.98,-22 135.98,-22 134.02,-22 132.05,-20.04 132.05,-18.07 132.05,-18.07 132.05,-3.93 132.05,-3.93 132.05,-1.96 134.02,0 135.98,0 135.98,0 139.91,0 139.91,0 141.87,0 143.83,-1.96 143.83,-3.93 143.83,-3.93 143.83,-18.07 143.83,-18.07 143.83,-20.04 141.87,-22 139.91,-22\"/>\n",
              "<text text-anchor=\"middle\" x=\"137.94\" y=\"-6.8\" font-family=\"Times,serif\" font-size=\"14.00\">t</text>\n",
              "</g>\n",
              "<!-- &#45;1554612806682602497&#45;&gt;&#45;3685772189445996954 -->\n",
              "<g id=\"edge19\" class=\"edge\">\n",
              "<title>&#45;1554612806682602497&#45;&gt;&#45;3685772189445996954</title>\n",
              "<path fill=\"none\" stroke=\"black\" stroke-width=\"0.5\" d=\"M137.94,-39.62C137.94,-34.17 137.94,-27.52 137.94,-22.11\"/>\n",
              "</g>\n",
              "</g>\n",
              "</svg>\n"
            ],
            "text/plain": [
              "ProductionGraph(E -> Eh Ets -> T Ets -> t Ets -> t Et Ets -> t + T Ets -> t + t Ets -> t + t Et # -> t + t - T # -> t + t - t #)"
            ]
          },
          "execution_count": 10,
          "metadata": {},
          "output_type": "execute_result"
        }
      ],
      "source": [
        "# graficamente\n",
        "\n",
        "d = Derivation(G).leftmost(steps)\n",
        "ProductionGraph(d)"
      ]
    },
    {
      "cell_type": "markdown",
      "metadata": {},
      "source": [
        "## Generazione automatica del parser\n",
        "\n",
        "Iniziamo con l'osservare che gli `if` della soluzione manuale sono prodotti, uno per ciascun simbolo, considerando in sequenza le possibili alternative (lati destri delle produzioni) e restituendo successo al primo tentativo valido.\n",
        "\n",
        "Un esmepio è il simbolo `Ets` le cui due alternative sono `Et Ets` e `Et #`… supponiamo di scaricarne la soluzione a due funzioni denominate `Ets_alt0` e `Ets_alt0` che definiremo in seguito."
      ]
    },
    {
      "cell_type": "code",
      "execution_count": null,
      "metadata": {},
      "outputs": [],
      "source": [
        "def match(X, rest):\n",
        "    \n",
        "    # ...\n",
        "    \n",
        "    if X == 'Ets':\n",
        "        succ_alt, rest_alt = Ets_alt0(rest)\n",
        "        if succ_alt: return True, rest_alt\n",
        "        succ_alt, rest_alt = Ets_alt1(rest)\n",
        "        if succ_alt: return True, rest_alt\n",
        "        return False, rest\n",
        "\n",
        "    # ..."
      ]
    },
    {
      "cell_type": "markdown",
      "metadata": {},
      "source": [
        "Ciascuna alternativa e valutata considerando in sequenza i simboli di cui è costituita, vediamo ad esempio `Et Ets`"
      ]
    },
    {
      "cell_type": "code",
      "execution_count": null,
      "metadata": {},
      "outputs": [],
      "source": [
        "def Ets_alt0(rest):\n",
        "    succ, rest = match('Et', rest)\n",
        "    if not succ: return False, rest\n",
        "    succ, rest = match('Ets', rest)\n",
        "    if not succ: return False, rest\n",
        "    return True, rest"
      ]
    },
    {
      "cell_type": "markdown",
      "metadata": {},
      "source": [
        "e similmente `Et #` "
      ]
    },
    {
      "cell_type": "code",
      "execution_count": null,
      "metadata": {},
      "outputs": [],
      "source": [
        "def Ets_alt1(rest):\n",
        "    succ, rest = match('Et', rest)\n",
        "    if not succ: return False, rest\n",
        "    succ, rest = match('#', rest)\n",
        "    if not succ: return False, rest\n",
        "    return True, rest"
      ]
    },
    {
      "cell_type": "markdown",
      "metadata": {},
      "source": [
        "Non è difficile scrivere una funzione che, data $G$ come input, produca il testo sorgente della funzione `match` procedendo come sopra.\n",
        "\n",
        "Ci servono due funzioni di utlità: la prima per indentare un blocco di testo al livello di intentazione specificato, la seconda per tradurre il codice sorgente di una funzione Python di nome `match` in codice eseguibile."
      ]
    },
    {
      "cell_type": "code",
      "execution_count": null,
      "metadata": {},
      "outputs": [],
      "source": [
        "def indent_at(level, source):\n",
        "    return indent(dedent(source), '  ' * level).strip('\\n')\n",
        "\n",
        "def make_match(source):\n",
        "    glb = {'show_calls': show_calls}\n",
        "    exec(source, glb)\n",
        "    return glb['match']       "
      ]
    },
    {
      "cell_type": "markdown",
      "metadata": {},
      "source": [
        "Siamo pronti per procedere, useremo le [f-stringhe](https://docs.python.org/3/reference/lexical_analysis.html#f-strings) per maggior compattezza, scriviamo una funzione che data $G$ restituisca il sorgente di `match` costruita secondo i criteri precedentemente espressi."
      ]
    },
    {
      "cell_type": "code",
      "execution_count": null,
      "metadata": {},
      "outputs": [],
      "source": [
        "def make_match_source(G):\n",
        "    \n",
        "    # prima le funzioni X_altN\n",
        "    \n",
        "    defs = []\n",
        "    for A in G.N:\n",
        "        for n, α in enumerate(G.alternatives(A)):\n",
        "            # la funzione \"{A}_alt{n}\"\n",
        "            defs.append(f'def {A}_alt{n}(rest):')\n",
        "            for X in α: \n",
        "                # una coppia di linee per ogni simbolo\n",
        "                defs.append(indent_at(1, f'''\n",
        "                  succ, rest = match('{X}', rest)\n",
        "                  if not succ: return False, rest\n",
        "                '''))\n",
        "            defs.append(indent_at(1,'return True, rest'))\n",
        "    \n",
        "    # poi gli if, uno per terminale\n",
        "    \n",
        "    ifs = []\n",
        "    for A in G.N:\n",
        "        # l'if \"X == '{A}'\"\n",
        "        ifs.append(f\"if X == '{A}':\")\n",
        "        for n, α in enumerate(G.alternatives(A)): \n",
        "            # una coppia di linee, una per alternativa\n",
        "            ifs.append(indent_at(1, f'''\n",
        "                succ_alt, rest_alt = {A}_alt{n}(rest)\n",
        "                if succ_alt: return True, rest_alt\n",
        "            '''))\n",
        "        ifs.append(indent_at(1,'return False, rest'))\n",
        "\n",
        "    # in fine i terminali\n",
        "    \n",
        "    ifs.append(indent_at(0, f'''\n",
        "        if X in {G.T}:\n",
        "          if rest and rest[0] == X: return True, rest[1:]\n",
        "          return False, rest\n",
        "    '''))\n",
        "    \n",
        "    # e ora mettiamo tutto assieme \n",
        "    \n",
        "    match = '\\n'.join((\n",
        "        indent_at(0, '''\n",
        "            @show_calls(True)\n",
        "            def match(X, rest):\n",
        "        '''), \n",
        "        indent_at(1, '\\n'.join(defs)), \n",
        "        indent_at(1, '\\n'.join(ifs))))\n",
        "        \n",
        "    return match"
      ]
    },
    {
      "cell_type": "markdown",
      "metadata": {},
      "source": [
        "Siamo pronti, generiamo (e stampiamo) il sorgente"
      ]
    },
    {
      "cell_type": "code",
      "execution_count": null,
      "metadata": {},
      "outputs": [
        {
          "name": "stdout",
          "output_type": "stream",
          "text": [
            "@show_calls(True)\n",
            "def match(X, rest):\n",
            "  def Eh_alt0(rest):\n",
            "    succ, rest = match('T', rest)\n",
            "    if not succ: return False, rest\n",
            "    return True, rest\n",
            "  def Et_alt0(rest):\n",
            "    succ, rest = match('+', rest)\n",
            "    if not succ: return False, rest\n",
            "    succ, rest = match('T', rest)\n",
            "    if not succ: return False, rest\n",
            "    return True, rest\n",
            "  def Et_alt1(rest):\n",
            "    succ, rest = match('-', rest)\n",
            "    if not succ: return False, rest\n",
            "    succ, rest = match('T', rest)\n",
            "    if not succ: return False, rest\n",
            "    return True, rest\n",
            "  def Ets_alt0(rest):\n",
            "    succ, rest = match('Et', rest)\n",
            "    if not succ: return False, rest\n",
            "    succ, rest = match('Ets', rest)\n",
            "    if not succ: return False, rest\n",
            "    return True, rest\n",
            "  def Ets_alt1(rest):\n",
            "    succ, rest = match('Et', rest)\n",
            "    if not succ: return False, rest\n",
            "    succ, rest = match('#', rest)\n",
            "    if not succ: return False, rest\n",
            "    return True, rest\n",
            "  def T_alt0(rest):\n",
            "    succ, rest = match('t', rest)\n",
            "    if not succ: return False, rest\n",
            "    return True, rest\n",
            "  def E_alt0(rest):\n",
            "    succ, rest = match('Eh', rest)\n",
            "    if not succ: return False, rest\n",
            "    succ, rest = match('Ets', rest)\n",
            "    if not succ: return False, rest\n",
            "    return True, rest\n",
            "  def E_alt1(rest):\n",
            "    succ, rest = match('Eh', rest)\n",
            "    if not succ: return False, rest\n",
            "    succ, rest = match('#', rest)\n",
            "    if not succ: return False, rest\n",
            "    return True, rest\n",
            "  if X == 'Eh':\n",
            "    succ_alt, rest_alt = Eh_alt0(rest)\n",
            "    if succ_alt: return True, rest_alt\n",
            "    return False, rest\n",
            "  if X == 'Et':\n",
            "    succ_alt, rest_alt = Et_alt0(rest)\n",
            "    if succ_alt: return True, rest_alt\n",
            "    succ_alt, rest_alt = Et_alt1(rest)\n",
            "    if succ_alt: return True, rest_alt\n",
            "    return False, rest\n",
            "  if X == 'Ets':\n",
            "    succ_alt, rest_alt = Ets_alt0(rest)\n",
            "    if succ_alt: return True, rest_alt\n",
            "    succ_alt, rest_alt = Ets_alt1(rest)\n",
            "    if succ_alt: return True, rest_alt\n",
            "    return False, rest\n",
            "  if X == 'T':\n",
            "    succ_alt, rest_alt = T_alt0(rest)\n",
            "    if succ_alt: return True, rest_alt\n",
            "    return False, rest\n",
            "  if X == 'E':\n",
            "    succ_alt, rest_alt = E_alt0(rest)\n",
            "    if succ_alt: return True, rest_alt\n",
            "    succ_alt, rest_alt = E_alt1(rest)\n",
            "    if succ_alt: return True, rest_alt\n",
            "    return False, rest\n",
            "  if X in frozenset({'-', '#', '+', 't'}):\n",
            "    if rest and rest[0] == X: return True, rest[1:]\n",
            "    return False, rest\n"
          ]
        }
      ],
      "source": [
        "source = make_match_source(G) # G è la grammatica prefix-free dell'inizio\n",
        "print(source)"
      ]
    },
    {
      "cell_type": "markdown",
      "metadata": {},
      "source": [
        "E ora rendiamolo eseguibile e testiamolo sull'input"
      ]
    },
    {
      "cell_type": "code",
      "execution_count": null,
      "metadata": {},
      "outputs": [
        {
          "name": "stdout",
          "output_type": "stream",
          "text": [
            "┌match('E', 't+t-t#')\n",
            "│┌match('Eh', 't+t-t#')\n",
            "││┌match('T', 't+t-t#')\n",
            "│││┌match('t', 't+t-t#')\n",
            "│││└─ (True, '+t-t#')\n",
            "││└─ (True, '+t-t#')\n",
            "│└─ (True, '+t-t#')\n",
            "│┌match('Ets', '+t-t#')\n",
            "││┌match('Et', '+t-t#')\n",
            "│││┌match('+', '+t-t#')\n",
            "│││└─ (True, 't-t#')\n",
            "│││┌match('T', 't-t#')\n",
            "││││┌match('t', 't-t#')\n",
            "││││└─ (True, '-t#')\n",
            "│││└─ (True, '-t#')\n",
            "││└─ (True, '-t#')\n",
            "││┌match('Ets', '-t#')\n",
            "│││┌match('Et', '-t#')\n",
            "││││┌match('+', '-t#')\n",
            "││││└─ (False, '-t#')\n",
            "││││┌match('-', '-t#')\n",
            "││││└─ (True, 't#')\n",
            "││││┌match('T', 't#')\n",
            "│││││┌match('t', 't#')\n",
            "│││││└─ (True, '#')\n",
            "││││└─ (True, '#')\n",
            "│││└─ (True, '#')\n",
            "│││┌match('Ets', '#')\n",
            "││││┌match('Et', '#')\n",
            "│││││┌match('+', '#')\n",
            "│││││└─ (False, '#')\n",
            "│││││┌match('-', '#')\n",
            "│││││└─ (False, '#')\n",
            "││││└─ (False, '#')\n",
            "││││┌match('Et', '#')\n",
            "│││││┌match('+', '#')\n",
            "│││││└─ (False, '#')\n",
            "│││││┌match('-', '#')\n",
            "│││││└─ (False, '#')\n",
            "││││└─ (False, '#')\n",
            "│││└─ (False, '#')\n",
            "│││┌match('Et', '-t#')\n",
            "││││┌match('+', '-t#')\n",
            "││││└─ (False, '-t#')\n",
            "││││┌match('-', '-t#')\n",
            "││││└─ (True, 't#')\n",
            "││││┌match('T', 't#')\n",
            "│││││┌match('t', 't#')\n",
            "│││││└─ (True, '#')\n",
            "││││└─ (True, '#')\n",
            "│││└─ (True, '#')\n",
            "│││┌match('#', '#')\n",
            "│││└─ (True, '')\n",
            "││└─ (True, '')\n",
            "│└─ (True, '')\n",
            "└─ (True, '')\n"
          ]
        },
        {
          "data": {
            "text/plain": [
              "(True, '')"
            ]
          },
          "execution_count": 17,
          "metadata": {},
          "output_type": "execute_result"
        }
      ],
      "source": [
        "match = make_match(source)\n",
        "\n",
        "match('E', 't+t-t#')"
      ]
    },
    {
      "cell_type": "markdown",
      "metadata": {},
      "source": [
        "## Un caso concreto non prefix-free\n",
        "\n",
        "Cosa succede se $G$ non è *prefix-free*?"
      ]
    },
    {
      "cell_type": "code",
      "execution_count": null,
      "metadata": {},
      "outputs": [
        {
          "data": {
            "text/plain": [
              "Grammar(N={B, S}, T={a, b}, P=(S -> a, S -> B, B -> a b), S=S)"
            ]
          },
          "execution_count": 18,
          "metadata": {},
          "output_type": "execute_result"
        }
      ],
      "source": [
        "# una grammatica non prefix-free (L = {a, ab})\n",
        "\n",
        "G = Grammar.from_string(\"\"\"\n",
        "S -> a | B\n",
        "B -> a b\n",
        "\"\"\")\n",
        "G"
      ]
    },
    {
      "cell_type": "code",
      "execution_count": null,
      "metadata": {},
      "outputs": [
        {
          "name": "stdout",
          "output_type": "stream",
          "text": [
            "┌match('S', 'ab')\n",
            "│┌match('a', 'ab')\n",
            "│└─ (True, 'b')\n",
            "└─ (True, 'b')\n"
          ]
        },
        {
          "data": {
            "text/plain": [
              "(True, 'b')"
            ]
          },
          "execution_count": 19,
          "metadata": {},
          "output_type": "execute_result"
        }
      ],
      "source": [
        "# costruiamo il parser e tentiamo il parse\n",
        "\n",
        "source = make_match_source(G)\n",
        "match = make_match(source)\n",
        "match('S', 'ab')"
      ]
    },
    {
      "cell_type": "markdown",
      "metadata": {},
      "source": [
        "Questo è un fallimento, non è stata considerata la seconda produzione ed in fatti è \"avanzata\" la `b`. Questo avviene perché il parser valuta in sequenza le alterniative e procede nella ricorsione al primo successo (non investigando se ci siano altri possibili successi in altre alternative)."
      ]
    },
    {
      "cell_type": "markdown",
      "metadata": {},
      "source": [
        "## <span style=\"color: red\">Esercizio per casa</span>\n",
        "\n",
        "Modificate `make_match_source` perché la `match` che essa produce restituisca anche l'elenco di produzioni della derivazione *leftmost* corrisondente al parsing effettuato. "
      ]
    }
  ],
  "metadata": {
    "kernelspec": {
      "display_name": "Python 3",
      "language": "python",
      "name": "python3"
    },
    "language_info": {
      "codemirror_mode": {
        "name": "ipython",
        "version": 3
      },
      "file_extension": ".py",
      "mimetype": "text/x-python",
      "name": "python",
      "nbconvert_exporter": "python",
      "pygments_lexer": "ipython3"
    }
  },
  "nbformat": 4,
  "nbformat_minor": 4
}
