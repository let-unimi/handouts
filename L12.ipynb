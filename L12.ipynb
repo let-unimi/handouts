{
  "cells": [
    {
      "cell_type": "markdown",
      "metadata": {},
      "source": [
        "# Lezione 12"
      ]
    },
    {
      "cell_type": "code",
      "execution_count": null,
      "metadata": {},
      "outputs": [
        {
          "data": {
            "text/plain": [
              "'1.3.3-alpha'"
            ]
          },
          "execution_count": 1,
          "metadata": {},
          "output_type": "execute_result"
        }
      ],
      "source": [
        "from liblet import (\n",
        "    Grammar, \n",
        "    Derivation, \n",
        "    ProductionGraph,\n",
        "    TopDownInstantaneousDescription,\n",
        "    Table,\n",
        "    Tree,\n",
        "    closure, \n",
        "    warn, \n",
        "    show_calls, \n",
        "    union_of, \n",
        "    suffixes,\n",
        "    ε, HASH,\n",
        "    __version__)\n",
        "\n",
        "# Alla fine ho scritto una classe Table, quindi dovete aggiornare…\n",
        "\n",
        "__version__"
      ]
    },
    {
      "cell_type": "markdown",
      "metadata": {},
      "source": [
        "La necessità di seguire tutti i possibili cammini nel grafo che simula la computazione del NPDA deriva dal fatto che (tra l'altro), per un certo simbolo $A$ in cima alla pila e il primo terminale $a$ non ancora elaborato, ci sono più produzioni da considerare.\n",
        "\n",
        "Cominciamo a considerare alcune restrizioni sulla grammatica che potrebbero semplificarci la vita. Dapprima assumiamo che non ci siano ε-regole. Quindi immaginiamo che la grammatica sia tale per cui possiamo pre-computare una tabella che, in posizione $(A, a)$ indichi una sola produzione possibile.\n",
        "\n",
        "In tal caso il processo di parsing si semplificherebbe come segue:"
      ]
    },
    {
      "cell_type": "code",
      "execution_count": null,
      "metadata": {},
      "outputs": [],
      "source": [
        "def parse_noε(G, TABLE, INPUT):\n",
        "    tdid = TopDownInstantaneousDescription(G, INPUT)\n",
        "    while not tdid.is_done():\n",
        "        if tdid.top() in G.N:\n",
        "            P = TABLE[tdid.top(), tdid.head()]\n",
        "            if P is None:\n",
        "                warn(f'No production for ({tdid.top()}, {tdid.head()}) at {tdid.steps}')\n",
        "                return None \n",
        "            tdid = tdid.predict(P)\n",
        "        else:\n",
        "            if tdid.top() == tdid.head():\n",
        "                tdid = tdid.match()\n",
        "            else:\n",
        "                warn(f'Expecting {tdid.top()}, got {tdid.head()}')\n",
        "                return None   \n",
        "    return Derivation(G).leftmost(tdid.steps)"
      ]
    },
    {
      "cell_type": "markdown",
      "metadata": {},
      "source": [
        "Ma come costruire `TABLE`?\n",
        "\n",
        "## Caso SLL(1)\n",
        "\n",
        "Se la grammatica è tale per cui, per ciascun non terminale, le sue alternative iniziano tutte con terminali distinti, è molto facile!"
      ]
    },
    {
      "cell_type": "code",
      "execution_count": null,
      "metadata": {},
      "outputs": [
        {
          "data": {
            "text/plain": [
              "Grammar(N={B, S}, T={a, b}, P=(S -> a B, B -> b, B -> a B b), S=S)"
            ]
          },
          "execution_count": 1,
          "metadata": {},
          "output_type": "execute_result"
        }
      ],
      "source": [
        "# fig. 8.4. pag. 238\n",
        "\n",
        "G = Grammar.from_string(\"\"\"\n",
        "S -> a B\n",
        "B -> b | a B b\n",
        "\"\"\")\n",
        "G"
      ]
    },
    {
      "cell_type": "code",
      "execution_count": null,
      "metadata": {},
      "outputs": [],
      "source": [
        "def compute_simple_table(G):\n",
        "    \n",
        "    TABLE = Table(2, no_reassign = True)\n",
        "\n",
        "    for P in G.P:\n",
        "        A, (a, *α) = P\n",
        "        TABLE[A, a] = P\n",
        "\n",
        "    return TABLE"
      ]
    },
    {
      "cell_type": "markdown",
      "metadata": {},
      "source": [
        "Qui si usa un oggetto `Table`, il valore `2` indica che la tabella ha dimensione 2, ossia ha righe e colonne…\n"
      ]
    },
    {
      "cell_type": "code",
      "execution_count": null,
      "metadata": {},
      "outputs": [
        {
          "data": {
            "text/html": [
              "<style>td, th {border: 1pt solid lightgray !important; text-align: left !important;}</style><table><tr><td>&nbsp;<th><pre>a</pre><th><pre>b</pre>\n",
              "<tr><th><pre>S<pre><td><pre>S -> a B</pre><td>&nbsp;\n",
              "<tr><th><pre>B<pre><td><pre>B -> a B b</pre><td><pre>B -> b</pre>\n",
              "</table>"
            ],
            "text/plain": [
              "<liblet.utils.Table at 0x7f6678508be0>"
            ]
          },
          "execution_count": 1,
          "metadata": {},
          "output_type": "execute_result"
        }
      ],
      "source": [
        "TABLE = compute_simple_table(G)\n",
        "TABLE"
      ]
    },
    {
      "cell_type": "code",
      "execution_count": null,
      "metadata": {},
      "outputs": [
        {
          "data": {
            "text/plain": [
              "S -> a B -> a a B b -> a a b b"
            ]
          },
          "execution_count": 1,
          "metadata": {},
          "output_type": "execute_result"
        }
      ],
      "source": [
        "d = parse_noε(G, TABLE, list('aabb'))\n",
        "d"
      ]
    },
    {
      "cell_type": "code",
      "execution_count": null,
      "metadata": {},
      "outputs": [
        {
          "data": {
            "image/svg+xml": "<?xml version=\"1.0\" encoding=\"UTF-8\" standalone=\"no\"?>\n<!DOCTYPE svg PUBLIC \"-//W3C//DTD SVG 1.1//EN\"\n \"http://www.w3.org/Graphics/SVG/1.1/DTD/svg11.dtd\">\n<!-- Generated by graphviz version 2.43.0 (0)\n -->\n<!-- Title: %3 Pages: 1 -->\n<svg width=\"93pt\" height=\"154pt\"\n viewBox=\"0.00 0.00 93.00 154.00\" xmlns=\"http://www.w3.org/2000/svg\" xmlns:xlink=\"http://www.w3.org/1999/xlink\">\n<g id=\"graph0\" class=\"graph\" transform=\"scale(1 1) rotate(0) translate(4 150)\">\n<title>%3</title>\n<polygon fill=\"white\" stroke=\"transparent\" points=\"-4,4 -4,-150 89,-150 89,4 -4,4\"/>\n<!-- 3203369422424854075 -->\n<g id=\"node1\" class=\"node\">\n<title>3203369422424854075</title>\n<path fill=\"none\" stroke=\"black\" stroke-width=\"0.25\" d=\"M27.17,-146C27.17,-146 21.83,-146 21.83,-146 19.17,-146 16.5,-143.33 16.5,-140.67 16.5,-140.67 16.5,-128.33 16.5,-128.33 16.5,-125.67 19.17,-123 21.83,-123 21.83,-123 27.17,-123 27.17,-123 29.83,-123 32.5,-125.67 32.5,-128.33 32.5,-128.33 32.5,-140.67 32.5,-140.67 32.5,-143.33 29.83,-146 27.17,-146\"/>\n<text text-anchor=\"middle\" x=\"24.5\" y=\"-130.8\" font-family=\"Times,serif\" font-size=\"14.00\">S</text>\n</g>\n<!-- &#45;3377995128542767684 -->\n<g id=\"node2\" class=\"node\">\n<title>&#45;3377995128542767684</title>\n<path fill=\"none\" stroke=\"black\" stroke-width=\"1.25\" d=\"M10,-105C10,-105 5,-105 5,-105 2.5,-105 0,-102.5 0,-100 0,-100 0,-87 0,-87 0,-84.5 2.5,-82 5,-82 5,-82 10,-82 10,-82 12.5,-82 15,-84.5 15,-87 15,-87 15,-100 15,-100 15,-102.5 12.5,-105 10,-105\"/>\n<text text-anchor=\"middle\" x=\"7.5\" y=\"-89.8\" font-family=\"Times,serif\" font-size=\"14.00\">a</text>\n</g>\n<!-- 3203369422424854075&#45;&gt;&#45;3377995128542767684 -->\n<g id=\"edge1\" class=\"edge\">\n<title>3203369422424854075&#45;&gt;&#45;3377995128542767684</title>\n<path fill=\"none\" stroke=\"black\" stroke-width=\"0.5\" d=\"M19.85,-122.84C17.46,-117.34 14.54,-110.65 12.14,-105.14\"/>\n</g>\n<!-- 2887956126880101618 -->\n<g id=\"node3\" class=\"node\">\n<title>2887956126880101618</title>\n<path fill=\"none\" stroke=\"black\" stroke-width=\"0.25\" d=\"M45.5,-105C45.5,-105 39.5,-105 39.5,-105 36.5,-105 33.5,-102 33.5,-99 33.5,-99 33.5,-88 33.5,-88 33.5,-85 36.5,-82 39.5,-82 39.5,-82 45.5,-82 45.5,-82 48.5,-82 51.5,-85 51.5,-88 51.5,-88 51.5,-99 51.5,-99 51.5,-102 48.5,-105 45.5,-105\"/>\n<text text-anchor=\"middle\" x=\"42.5\" y=\"-89.8\" font-family=\"Times,serif\" font-size=\"14.00\">B</text>\n</g>\n<!-- 3203369422424854075&#45;&gt;2887956126880101618 -->\n<g id=\"edge2\" class=\"edge\">\n<title>3203369422424854075&#45;&gt;2887956126880101618</title>\n<path fill=\"none\" stroke=\"black\" stroke-width=\"0.5\" d=\"M29.42,-122.84C31.96,-117.34 35.05,-110.65 37.59,-105.14\"/>\n</g>\n<!-- &#45;3377995128542767684&#45;&gt;2887956126880101618 -->\n<!-- &#45;5815052975283013377 -->\n<g id=\"node4\" class=\"node\">\n<title>&#45;5815052975283013377</title>\n<path fill=\"none\" stroke=\"black\" stroke-width=\"1.25\" d=\"M10,-64C10,-64 5,-64 5,-64 2.5,-64 0,-61.5 0,-59 0,-59 0,-46 0,-46 0,-43.5 2.5,-41 5,-41 5,-41 10,-41 10,-41 12.5,-41 15,-43.5 15,-46 15,-46 15,-59 15,-59 15,-61.5 12.5,-64 10,-64\"/>\n<text text-anchor=\"middle\" x=\"7.5\" y=\"-48.8\" font-family=\"Times,serif\" font-size=\"14.00\">a</text>\n</g>\n<!-- 2887956126880101618&#45;&gt;&#45;5815052975283013377 -->\n<g id=\"edge4\" class=\"edge\">\n<title>2887956126880101618&#45;&gt;&#45;5815052975283013377</title>\n<path fill=\"none\" stroke=\"black\" stroke-width=\"0.5\" d=\"M33.3,-82.25C27.63,-75.93 20.45,-67.93 15.1,-61.97\"/>\n</g>\n<!-- &#45;5708639294865061946 -->\n<g id=\"node5\" class=\"node\">\n<title>&#45;5708639294865061946</title>\n<path fill=\"none\" stroke=\"black\" stroke-width=\"0.25\" d=\"M45.5,-64C45.5,-64 39.5,-64 39.5,-64 36.5,-64 33.5,-61 33.5,-58 33.5,-58 33.5,-47 33.5,-47 33.5,-44 36.5,-41 39.5,-41 39.5,-41 45.5,-41 45.5,-41 48.5,-41 51.5,-44 51.5,-47 51.5,-47 51.5,-58 51.5,-58 51.5,-61 48.5,-64 45.5,-64\"/>\n<text text-anchor=\"middle\" x=\"42.5\" y=\"-48.8\" font-family=\"Times,serif\" font-size=\"14.00\">B</text>\n</g>\n<!-- 2887956126880101618&#45;&gt;&#45;5708639294865061946 -->\n<g id=\"edge5\" class=\"edge\">\n<title>2887956126880101618&#45;&gt;&#45;5708639294865061946</title>\n<path fill=\"none\" stroke=\"black\" stroke-width=\"0.5\" d=\"M42.5,-81.84C42.5,-76.34 42.5,-69.65 42.5,-64.14\"/>\n</g>\n<!-- 7198804963139840381 -->\n<g id=\"node6\" class=\"node\">\n<title>7198804963139840381</title>\n<path fill=\"none\" stroke=\"black\" stroke-width=\"1.25\" d=\"M80,-64C80,-64 75,-64 75,-64 72.5,-64 70,-61.5 70,-59 70,-59 70,-46 70,-46 70,-43.5 72.5,-41 75,-41 75,-41 80,-41 80,-41 82.5,-41 85,-43.5 85,-46 85,-46 85,-59 85,-59 85,-61.5 82.5,-64 80,-64\"/>\n<text text-anchor=\"middle\" x=\"77.5\" y=\"-48.8\" font-family=\"Times,serif\" font-size=\"14.00\">b</text>\n</g>\n<!-- 2887956126880101618&#45;&gt;7198804963139840381 -->\n<g id=\"edge6\" class=\"edge\">\n<title>2887956126880101618&#45;&gt;7198804963139840381</title>\n<path fill=\"none\" stroke=\"black\" stroke-width=\"0.5\" d=\"M51.7,-82.25C57.37,-75.93 64.55,-67.93 69.9,-61.97\"/>\n</g>\n<!-- &#45;5815052975283013377&#45;&gt;&#45;5708639294865061946 -->\n<!-- &#45;5708639294865061946&#45;&gt;7198804963139840381 -->\n<!-- 8388357599340069549 -->\n<g id=\"node7\" class=\"node\">\n<title>8388357599340069549</title>\n<path fill=\"none\" stroke=\"black\" stroke-width=\"1.25\" d=\"M45,-23C45,-23 40,-23 40,-23 37.5,-23 35,-20.5 35,-18 35,-18 35,-5 35,-5 35,-2.5 37.5,0 40,0 40,0 45,0 45,0 47.5,0 50,-2.5 50,-5 50,-5 50,-18 50,-18 50,-20.5 47.5,-23 45,-23\"/>\n<text text-anchor=\"middle\" x=\"42.5\" y=\"-7.8\" font-family=\"Times,serif\" font-size=\"14.00\">b</text>\n</g>\n<!-- &#45;5708639294865061946&#45;&gt;8388357599340069549 -->\n<g id=\"edge9\" class=\"edge\">\n<title>&#45;5708639294865061946&#45;&gt;8388357599340069549</title>\n<path fill=\"none\" stroke=\"black\" stroke-width=\"0.5\" d=\"M42.5,-40.84C42.5,-35.34 42.5,-28.65 42.5,-23.14\"/>\n</g>\n</g>\n</svg>\n",
            "text/plain": [
              "ProductionGraph(S -> a B -> a a B b -> a a b b)"
            ]
          },
          "execution_count": 1,
          "metadata": {},
          "output_type": "execute_result"
        }
      ],
      "source": [
        "ProductionGraph(d)"
      ]
    },
    {
      "cell_type": "markdown",
      "metadata": {},
      "source": [
        "Possono accadere due errori di parsing… o perché manca una produzione adatta, o perché l'ultima produzione utilizzata comporta che l'algoritmo si aspetti un carattere che manca nell'input…"
      ]
    },
    {
      "cell_type": "code",
      "execution_count": null,
      "metadata": {},
      "outputs": [
        {
          "name": "stderr",
          "output_type": "stream",
          "text": [
            "No production for (B, c) at (S -> a B, B -> a B b)\n"
          ]
        }
      ],
      "source": [
        "parse_noε(G, TABLE, list('aac'))"
      ]
    },
    {
      "cell_type": "code",
      "execution_count": null,
      "metadata": {},
      "outputs": [
        {
          "name": "stderr",
          "output_type": "stream",
          "text": [
            "Expecting b, got c\n"
          ]
        }
      ],
      "source": [
        "parse_noε(G, TABLE, list('aabc'))"
      ]
    },
    {
      "cell_type": "markdown",
      "metadata": {},
      "source": [
        "### E se non è \"semplice\"?\n",
        "\n",
        "La costruzione della tabella è in grado, di accorgersi che stiamo tentando di assegnare di nuovo un valore per un certo $(A, a)$… (si tratta del parametro `no_reassign = True` usato nella costruzione di `Table`)."
      ]
    },
    {
      "cell_type": "code",
      "execution_count": null,
      "metadata": {},
      "outputs": [],
      "source": [
        "# fig. 8.1, pag. 236\n",
        "\n",
        "G = Grammar.from_string(\"\"\"\n",
        "S -> a B | b A\n",
        "A -> a | a S | b A A\n",
        "B -> b | b S | a B B\n",
        "\"\"\")"
      ]
    },
    {
      "cell_type": "code",
      "execution_count": null,
      "metadata": {},
      "outputs": [
        {
          "name": "stderr",
          "output_type": "stream",
          "text": [
            "Table already contains value A -> a for (A, a)\n",
            "Table already contains value B -> b for (B, b)\n"
          ]
        },
        {
          "data": {
            "text/html": [
              "<style>td, th {border: 1pt solid lightgray !important; text-align: left !important;}</style><table><tr><td>&nbsp;<th><pre>a</pre><th><pre>b</pre>\n",
              "<tr><th><pre>S<pre><td><pre>S -> a B</pre><td><pre>S -> b A</pre>\n",
              "<tr><th><pre>A<pre><td><pre>A -> a</pre><td><pre>A -> b A A</pre>\n",
              "<tr><th><pre>B<pre><td><pre>B -> a B B</pre><td><pre>B -> b</pre>\n",
              "</table>"
            ],
            "text/plain": [
              "<liblet.utils.Table at 0x7f66782ad130>"
            ]
          },
          "execution_count": 1,
          "metadata": {},
          "output_type": "execute_result"
        }
      ],
      "source": [
        "compute_simple_table(G)"
      ]
    },
    {
      "cell_type": "markdown",
      "metadata": {},
      "source": [
        "### Un esempio più naturale: notazione prefissa\n",
        "\n",
        "Torniamo a consideare una grammatica SLL(1) forse più naturale della prima da cui siamo partiti: una grammatica per operazioni aritmetiche in [notazione polacca](https://en.wikipedia.org/wiki/Polish_notation)."
      ]
    },
    {
      "cell_type": "code",
      "execution_count": null,
      "metadata": {},
      "outputs": [
        {
          "data": {
            "text/plain": [
              "Grammar(N={E}, T={*, +, -, /, t}, P=(E -> + E E, E -> - E E, E -> * E E, E -> / E E, E -> t), S=E)"
            ]
          },
          "execution_count": 1,
          "metadata": {},
          "output_type": "execute_result"
        }
      ],
      "source": [
        "G = Grammar.from_string(\"\"\"\n",
        "E -> + E E | - E E | * E E | / E E | t\n",
        "\"\"\")\n",
        "G"
      ]
    },
    {
      "cell_type": "code",
      "execution_count": null,
      "metadata": {},
      "outputs": [
        {
          "data": {
            "text/html": [
              "<style>td, th {border: 1pt solid lightgray !important; text-align: left !important;}</style><table><tr><td>&nbsp;<th><pre>+</pre><th><pre>-</pre><th><pre>*</pre><th><pre>/</pre><th><pre>t</pre>\n",
              "<tr><th><pre>E<pre><td><pre>E -> + E E</pre><td><pre>E -> - E E</pre><td><pre>E -> * E E</pre><td><pre>E -> / E E</pre><td><pre>E -> t</pre>\n",
              "</table>"
            ],
            "text/plain": [
              "<liblet.utils.Table at 0x7f6678462130>"
            ]
          },
          "execution_count": 1,
          "metadata": {},
          "output_type": "execute_result"
        }
      ],
      "source": [
        "TABLE = compute_simple_table(G)\n",
        "TABLE"
      ]
    },
    {
      "cell_type": "code",
      "execution_count": null,
      "metadata": {},
      "outputs": [
        {
          "data": {
            "image/svg+xml": "<?xml version=\"1.0\" encoding=\"UTF-8\" standalone=\"no\"?>\n<!DOCTYPE svg PUBLIC \"-//W3C//DTD SVG 1.1//EN\"\n \"http://www.w3.org/Graphics/SVG/1.1/DTD/svg11.dtd\">\n<!-- Generated by graphviz version 2.43.0 (0)\n -->\n<!-- Title: %3 Pages: 1 -->\n<svg width=\"194pt\" height=\"154pt\"\n viewBox=\"0.00 0.00 194.00 154.00\" xmlns=\"http://www.w3.org/2000/svg\" xmlns:xlink=\"http://www.w3.org/1999/xlink\">\n<g id=\"graph0\" class=\"graph\" transform=\"scale(1 1) rotate(0) translate(4 150)\">\n<title>%3</title>\n<polygon fill=\"white\" stroke=\"transparent\" points=\"-4,4 -4,-150 190,-150 190,4 -4,4\"/>\n<!-- &#45;2705623542598044109 -->\n<g id=\"node1\" class=\"node\">\n<title>&#45;2705623542598044109</title>\n<path fill=\"none\" stroke=\"black\" stroke-width=\"0.25\" d=\"M78.33,-146C78.33,-146 72.67,-146 72.67,-146 69.83,-146 67,-143.17 67,-140.33 67,-140.33 67,-128.67 67,-128.67 67,-125.83 69.83,-123 72.67,-123 72.67,-123 78.33,-123 78.33,-123 81.17,-123 84,-125.83 84,-128.67 84,-128.67 84,-140.33 84,-140.33 84,-143.17 81.17,-146 78.33,-146\"/>\n<text text-anchor=\"middle\" x=\"75.5\" y=\"-130.8\" font-family=\"Times,serif\" font-size=\"14.00\">E</text>\n</g>\n<!-- 3140035748047720456 -->\n<g id=\"node2\" class=\"node\">\n<title>3140035748047720456</title>\n<path fill=\"none\" stroke=\"black\" stroke-width=\"1.25\" d=\"M43.33,-105C43.33,-105 37.67,-105 37.67,-105 34.83,-105 32,-102.17 32,-99.33 32,-99.33 32,-87.67 32,-87.67 32,-84.83 34.83,-82 37.67,-82 37.67,-82 43.33,-82 43.33,-82 46.17,-82 49,-84.83 49,-87.67 49,-87.67 49,-99.33 49,-99.33 49,-102.17 46.17,-105 43.33,-105\"/>\n<text text-anchor=\"middle\" x=\"40.5\" y=\"-89.8\" font-family=\"Times,serif\" font-size=\"14.00\">+</text>\n</g>\n<!-- &#45;2705623542598044109&#45;&gt;3140035748047720456 -->\n<g id=\"edge1\" class=\"edge\">\n<title>&#45;2705623542598044109&#45;&gt;3140035748047720456</title>\n<path fill=\"none\" stroke=\"black\" stroke-width=\"0.5\" d=\"M66.67,-123.66C61.32,-117.7 54.53,-110.14 49.21,-104.2\"/>\n</g>\n<!-- 8410988655398565448 -->\n<g id=\"node3\" class=\"node\">\n<title>8410988655398565448</title>\n<path fill=\"none\" stroke=\"black\" stroke-width=\"0.25\" d=\"M78.33,-105C78.33,-105 72.67,-105 72.67,-105 69.83,-105 67,-102.17 67,-99.33 67,-99.33 67,-87.67 67,-87.67 67,-84.83 69.83,-82 72.67,-82 72.67,-82 78.33,-82 78.33,-82 81.17,-82 84,-84.83 84,-87.67 84,-87.67 84,-99.33 84,-99.33 84,-102.17 81.17,-105 78.33,-105\"/>\n<text text-anchor=\"middle\" x=\"75.5\" y=\"-89.8\" font-family=\"Times,serif\" font-size=\"14.00\">E</text>\n</g>\n<!-- &#45;2705623542598044109&#45;&gt;8410988655398565448 -->\n<g id=\"edge2\" class=\"edge\">\n<title>&#45;2705623542598044109&#45;&gt;8410988655398565448</title>\n<path fill=\"none\" stroke=\"black\" stroke-width=\"0.5\" d=\"M75.5,-122.84C75.5,-117.34 75.5,-110.65 75.5,-105.14\"/>\n</g>\n<!-- &#45;3528114662208987743 -->\n<g id=\"node4\" class=\"node\">\n<title>&#45;3528114662208987743</title>\n<path fill=\"none\" stroke=\"black\" stroke-width=\"0.25\" d=\"M113.33,-105C113.33,-105 107.67,-105 107.67,-105 104.83,-105 102,-102.17 102,-99.33 102,-99.33 102,-87.67 102,-87.67 102,-84.83 104.83,-82 107.67,-82 107.67,-82 113.33,-82 113.33,-82 116.17,-82 119,-84.83 119,-87.67 119,-87.67 119,-99.33 119,-99.33 119,-102.17 116.17,-105 113.33,-105\"/>\n<text text-anchor=\"middle\" x=\"110.5\" y=\"-89.8\" font-family=\"Times,serif\" font-size=\"14.00\">E</text>\n</g>\n<!-- &#45;2705623542598044109&#45;&gt;&#45;3528114662208987743 -->\n<g id=\"edge3\" class=\"edge\">\n<title>&#45;2705623542598044109&#45;&gt;&#45;3528114662208987743</title>\n<path fill=\"none\" stroke=\"black\" stroke-width=\"0.5\" d=\"M84.33,-123.66C89.68,-117.7 96.47,-110.14 101.79,-104.2\"/>\n</g>\n<!-- 3140035748047720456&#45;&gt;8410988655398565448 -->\n<!-- 8410988655398565448&#45;&gt;&#45;3528114662208987743 -->\n<!-- 5835865137393055120 -->\n<g id=\"node5\" class=\"node\">\n<title>5835865137393055120</title>\n<path fill=\"none\" stroke=\"black\" stroke-width=\"1.25\" d=\"M10,-64C10,-64 5,-64 5,-64 2.5,-64 0,-61.5 0,-59 0,-59 0,-46 0,-46 0,-43.5 2.5,-41 5,-41 5,-41 10,-41 10,-41 12.5,-41 15,-43.5 15,-46 15,-46 15,-59 15,-59 15,-61.5 12.5,-64 10,-64\"/>\n<text text-anchor=\"middle\" x=\"7.5\" y=\"-48.8\" font-family=\"Times,serif\" font-size=\"14.00\">*</text>\n</g>\n<!-- 8410988655398565448&#45;&gt;5835865137393055120 -->\n<g id=\"edge6\" class=\"edge\">\n<title>8410988655398565448&#45;&gt;5835865137393055120</title>\n<path fill=\"none\" stroke=\"black\" stroke-width=\"0.5\" d=\"M66.75,-87.3C63.83,-85.59 60.54,-83.69 57.5,-82 42.56,-73.69 38.22,-72.7 23.5,-64 20.75,-62.38 17.82,-60.49 15.22,-58.78\"/>\n</g>\n<!-- &#45;7231636054981454941 -->\n<g id=\"node6\" class=\"node\">\n<title>&#45;7231636054981454941</title>\n<path fill=\"none\" stroke=\"black\" stroke-width=\"0.25\" d=\"M44.33,-64C44.33,-64 38.67,-64 38.67,-64 35.83,-64 33,-61.17 33,-58.33 33,-58.33 33,-46.67 33,-46.67 33,-43.83 35.83,-41 38.67,-41 38.67,-41 44.33,-41 44.33,-41 47.17,-41 50,-43.83 50,-46.67 50,-46.67 50,-58.33 50,-58.33 50,-61.17 47.17,-64 44.33,-64\"/>\n<text text-anchor=\"middle\" x=\"41.5\" y=\"-48.8\" font-family=\"Times,serif\" font-size=\"14.00\">E</text>\n</g>\n<!-- 8410988655398565448&#45;&gt;&#45;7231636054981454941 -->\n<g id=\"edge7\" class=\"edge\">\n<title>8410988655398565448&#45;&gt;&#45;7231636054981454941</title>\n<path fill=\"none\" stroke=\"black\" stroke-width=\"0.5\" d=\"M66.92,-82.66C61.81,-76.79 55.33,-69.36 50.2,-63.47\"/>\n</g>\n<!-- 6322033989755400309 -->\n<g id=\"node7\" class=\"node\">\n<title>6322033989755400309</title>\n<path fill=\"none\" stroke=\"black\" stroke-width=\"0.25\" d=\"M79.33,-64C79.33,-64 73.67,-64 73.67,-64 70.83,-64 68,-61.17 68,-58.33 68,-58.33 68,-46.67 68,-46.67 68,-43.83 70.83,-41 73.67,-41 73.67,-41 79.33,-41 79.33,-41 82.17,-41 85,-43.83 85,-46.67 85,-46.67 85,-58.33 85,-58.33 85,-61.17 82.17,-64 79.33,-64\"/>\n<text text-anchor=\"middle\" x=\"76.5\" y=\"-48.8\" font-family=\"Times,serif\" font-size=\"14.00\">E</text>\n</g>\n<!-- 8410988655398565448&#45;&gt;6322033989755400309 -->\n<g id=\"edge8\" class=\"edge\">\n<title>8410988655398565448&#45;&gt;6322033989755400309</title>\n<path fill=\"none\" stroke=\"black\" stroke-width=\"0.5\" d=\"M75.77,-81.84C75.91,-76.34 76.09,-69.65 76.23,-64.14\"/>\n</g>\n<!-- &#45;618782308614358022 -->\n<g id=\"node10\" class=\"node\">\n<title>&#45;618782308614358022</title>\n<path fill=\"none\" stroke=\"black\" stroke-width=\"1.25\" d=\"M111.5,-64C111.5,-64 107.5,-64 107.5,-64 105.5,-64 103.5,-62 103.5,-60 103.5,-60 103.5,-45 103.5,-45 103.5,-43 105.5,-41 107.5,-41 107.5,-41 111.5,-41 111.5,-41 113.5,-41 115.5,-43 115.5,-45 115.5,-45 115.5,-60 115.5,-60 115.5,-62 113.5,-64 111.5,-64\"/>\n<text text-anchor=\"middle\" x=\"109.5\" y=\"-48.8\" font-family=\"Times,serif\" font-size=\"14.00\">/</text>\n</g>\n<!-- &#45;3528114662208987743&#45;&gt;&#45;618782308614358022 -->\n<g id=\"edge13\" class=\"edge\">\n<title>&#45;3528114662208987743&#45;&gt;&#45;618782308614358022</title>\n<path fill=\"none\" stroke=\"black\" stroke-width=\"0.5\" d=\"M110.23,-81.84C110.09,-76.34 109.91,-69.65 109.77,-64.14\"/>\n</g>\n<!-- &#45;7925742683764430364 -->\n<g id=\"node11\" class=\"node\">\n<title>&#45;7925742683764430364</title>\n<path fill=\"none\" stroke=\"black\" stroke-width=\"0.25\" d=\"M145.33,-64C145.33,-64 139.67,-64 139.67,-64 136.83,-64 134,-61.17 134,-58.33 134,-58.33 134,-46.67 134,-46.67 134,-43.83 136.83,-41 139.67,-41 139.67,-41 145.33,-41 145.33,-41 148.17,-41 151,-43.83 151,-46.67 151,-46.67 151,-58.33 151,-58.33 151,-61.17 148.17,-64 145.33,-64\"/>\n<text text-anchor=\"middle\" x=\"142.5\" y=\"-48.8\" font-family=\"Times,serif\" font-size=\"14.00\">E</text>\n</g>\n<!-- &#45;3528114662208987743&#45;&gt;&#45;7925742683764430364 -->\n<g id=\"edge14\" class=\"edge\">\n<title>&#45;3528114662208987743&#45;&gt;&#45;7925742683764430364</title>\n<path fill=\"none\" stroke=\"black\" stroke-width=\"0.5\" d=\"M119.24,-81.84C123.83,-76.25 129.43,-69.43 133.99,-63.87\"/>\n</g>\n<!-- &#45;1418101927662431939 -->\n<g id=\"node12\" class=\"node\">\n<title>&#45;1418101927662431939</title>\n<path fill=\"none\" stroke=\"black\" stroke-width=\"0.25\" d=\"M180.33,-64C180.33,-64 174.67,-64 174.67,-64 171.83,-64 169,-61.17 169,-58.33 169,-58.33 169,-46.67 169,-46.67 169,-43.83 171.83,-41 174.67,-41 174.67,-41 180.33,-41 180.33,-41 183.17,-41 186,-43.83 186,-46.67 186,-46.67 186,-58.33 186,-58.33 186,-61.17 183.17,-64 180.33,-64\"/>\n<text text-anchor=\"middle\" x=\"177.5\" y=\"-48.8\" font-family=\"Times,serif\" font-size=\"14.00\">E</text>\n</g>\n<!-- &#45;3528114662208987743&#45;&gt;&#45;1418101927662431939 -->\n<g id=\"edge15\" class=\"edge\">\n<title>&#45;3528114662208987743&#45;&gt;&#45;1418101927662431939</title>\n<path fill=\"none\" stroke=\"black\" stroke-width=\"0.5\" d=\"M119.05,-87.75C129.04,-82.16 146.07,-72.57 160.5,-64 163.24,-62.37 166.21,-60.56 168.89,-58.9\"/>\n</g>\n<!-- 5835865137393055120&#45;&gt;&#45;7231636054981454941 -->\n<!-- &#45;7231636054981454941&#45;&gt;6322033989755400309 -->\n<!-- &#45;886660236010143791 -->\n<g id=\"node8\" class=\"node\">\n<title>&#45;886660236010143791</title>\n<path fill=\"none\" stroke=\"black\" stroke-width=\"1.25\" d=\"M43.5,-23C43.5,-23 39.5,-23 39.5,-23 37.5,-23 35.5,-21 35.5,-19 35.5,-19 35.5,-4 35.5,-4 35.5,-2 37.5,0 39.5,0 39.5,0 43.5,0 43.5,0 45.5,0 47.5,-2 47.5,-4 47.5,-4 47.5,-19 47.5,-19 47.5,-21 45.5,-23 43.5,-23\"/>\n<text text-anchor=\"middle\" x=\"41.5\" y=\"-7.8\" font-family=\"Times,serif\" font-size=\"14.00\">t</text>\n</g>\n<!-- &#45;7231636054981454941&#45;&gt;&#45;886660236010143791 -->\n<g id=\"edge11\" class=\"edge\">\n<title>&#45;7231636054981454941&#45;&gt;&#45;886660236010143791</title>\n<path fill=\"none\" stroke=\"black\" stroke-width=\"0.5\" d=\"M41.5,-40.84C41.5,-35.34 41.5,-28.65 41.5,-23.14\"/>\n</g>\n<!-- &#45;3323718082750389484 -->\n<g id=\"node9\" class=\"node\">\n<title>&#45;3323718082750389484</title>\n<path fill=\"none\" stroke=\"black\" stroke-width=\"1.25\" d=\"M78.5,-23C78.5,-23 74.5,-23 74.5,-23 72.5,-23 70.5,-21 70.5,-19 70.5,-19 70.5,-4 70.5,-4 70.5,-2 72.5,0 74.5,0 74.5,0 78.5,0 78.5,0 80.5,0 82.5,-2 82.5,-4 82.5,-4 82.5,-19 82.5,-19 82.5,-21 80.5,-23 78.5,-23\"/>\n<text text-anchor=\"middle\" x=\"76.5\" y=\"-7.8\" font-family=\"Times,serif\" font-size=\"14.00\">t</text>\n</g>\n<!-- 6322033989755400309&#45;&gt;&#45;3323718082750389484 -->\n<g id=\"edge12\" class=\"edge\">\n<title>6322033989755400309&#45;&gt;&#45;3323718082750389484</title>\n<path fill=\"none\" stroke=\"black\" stroke-width=\"0.5\" d=\"M76.5,-40.84C76.5,-35.34 76.5,-28.65 76.5,-23.14\"/>\n</g>\n<!-- &#45;618782308614358022&#45;&gt;&#45;7925742683764430364 -->\n<!-- &#45;7925742683764430364&#45;&gt;&#45;1418101927662431939 -->\n<!-- 4089372722473752875 -->\n<g id=\"node13\" class=\"node\">\n<title>4089372722473752875</title>\n<path fill=\"none\" stroke=\"black\" stroke-width=\"1.25\" d=\"M144.5,-23C144.5,-23 140.5,-23 140.5,-23 138.5,-23 136.5,-21 136.5,-19 136.5,-19 136.5,-4 136.5,-4 136.5,-2 138.5,0 140.5,0 140.5,0 144.5,0 144.5,0 146.5,0 148.5,-2 148.5,-4 148.5,-4 148.5,-19 148.5,-19 148.5,-21 146.5,-23 144.5,-23\"/>\n<text text-anchor=\"middle\" x=\"142.5\" y=\"-7.8\" font-family=\"Times,serif\" font-size=\"14.00\">t</text>\n</g>\n<!-- &#45;7925742683764430364&#45;&gt;4089372722473752875 -->\n<g id=\"edge18\" class=\"edge\">\n<title>&#45;7925742683764430364&#45;&gt;4089372722473752875</title>\n<path fill=\"none\" stroke=\"black\" stroke-width=\"0.5\" d=\"M142.5,-40.84C142.5,-35.34 142.5,-28.65 142.5,-23.14\"/>\n</g>\n<!-- 1223352498536412013 -->\n<g id=\"node14\" class=\"node\">\n<title>1223352498536412013</title>\n<path fill=\"none\" stroke=\"black\" stroke-width=\"1.25\" d=\"M179.5,-23C179.5,-23 175.5,-23 175.5,-23 173.5,-23 171.5,-21 171.5,-19 171.5,-19 171.5,-4 171.5,-4 171.5,-2 173.5,0 175.5,0 175.5,0 179.5,0 179.5,0 181.5,0 183.5,-2 183.5,-4 183.5,-4 183.5,-19 183.5,-19 183.5,-21 181.5,-23 179.5,-23\"/>\n<text text-anchor=\"middle\" x=\"177.5\" y=\"-7.8\" font-family=\"Times,serif\" font-size=\"14.00\">t</text>\n</g>\n<!-- &#45;1418101927662431939&#45;&gt;1223352498536412013 -->\n<g id=\"edge19\" class=\"edge\">\n<title>&#45;1418101927662431939&#45;&gt;1223352498536412013</title>\n<path fill=\"none\" stroke=\"black\" stroke-width=\"0.5\" d=\"M177.5,-40.84C177.5,-35.34 177.5,-28.65 177.5,-23.14\"/>\n</g>\n</g>\n</svg>\n",
            "text/plain": [
              "ProductionGraph(E -> + E E -> + * E E E -> + * t E E -> + * t t E -> + * t t / E E -> + * t t / t E -> + * t t / t t)"
            ]
          },
          "execution_count": 1,
          "metadata": {},
          "output_type": "execute_result"
        }
      ],
      "source": [
        "ProductionGraph(parse_noε(G, TABLE, '+ * t t / t t'.split()))"
      ]
    },
    {
      "cell_type": "markdown",
      "metadata": {},
      "source": [
        "#### <span style=\"color: red;\">Esercizio per casa</span>\n",
        "\n",
        "Sapreste modificare `parse_noε` perché restituisca, invece della derivazione, il valore dell'espressione aritmetica? Sapreste integrarlo con un tokenizzatore che consenta di sostiuire numeri interi al terminale `t`?\n",
        "\n",
        "Saprese trasformare gli alberi prodotti da `parse_noε` in modo che nodi siano operandi o opreatori, come nell'esempio seguente?"
      ]
    },
    {
      "cell_type": "code",
      "execution_count": null,
      "metadata": {},
      "outputs": [
        {
          "data": {
            "image/svg+xml": "<?xml version=\"1.0\" encoding=\"UTF-8\" standalone=\"no\"?>\n<!DOCTYPE svg PUBLIC \"-//W3C//DTD SVG 1.1//EN\"\n \"http://www.w3.org/Graphics/SVG/1.1/DTD/svg11.dtd\">\n<!-- Generated by graphviz version 2.43.0 (0)\n -->\n<!-- Title: %3 Pages: 1 -->\n<svg width=\"111pt\" height=\"113pt\"\n viewBox=\"0.00 0.00 111.00 113.00\" xmlns=\"http://www.w3.org/2000/svg\" xmlns:xlink=\"http://www.w3.org/1999/xlink\">\n<g id=\"graph0\" class=\"graph\" transform=\"scale(1 1) rotate(0) translate(4 109)\">\n<title>%3</title>\n<polygon fill=\"white\" stroke=\"transparent\" points=\"-4,4 -4,-109 107,-109 107,4 -4,4\"/>\n<!-- 140078079464352 -->\n<g id=\"node1\" class=\"node\">\n<title>140078079464352</title>\n<path fill=\"none\" stroke=\"black\" stroke-width=\"0.25\" d=\"M53.83,-105C53.83,-105 48.17,-105 48.17,-105 45.33,-105 42.5,-102.17 42.5,-99.33 42.5,-99.33 42.5,-87.67 42.5,-87.67 42.5,-84.83 45.33,-82 48.17,-82 48.17,-82 53.83,-82 53.83,-82 56.67,-82 59.5,-84.83 59.5,-87.67 59.5,-87.67 59.5,-99.33 59.5,-99.33 59.5,-102.17 56.67,-105 53.83,-105\"/>\n<text text-anchor=\"middle\" x=\"51\" y=\"-89.8\" font-family=\"Times,serif\" font-size=\"14.00\">+</text>\n</g>\n<!-- 140078079464304 -->\n<g id=\"node2\" class=\"node\">\n<title>140078079464304</title>\n<path fill=\"none\" stroke=\"black\" stroke-width=\"0.25\" d=\"M37.5,-64C37.5,-64 32.5,-64 32.5,-64 30,-64 27.5,-61.5 27.5,-59 27.5,-59 27.5,-46 27.5,-46 27.5,-43.5 30,-41 32.5,-41 32.5,-41 37.5,-41 37.5,-41 40,-41 42.5,-43.5 42.5,-46 42.5,-46 42.5,-59 42.5,-59 42.5,-61.5 40,-64 37.5,-64\"/>\n<text text-anchor=\"middle\" x=\"35\" y=\"-48.8\" font-family=\"Times,serif\" font-size=\"14.00\">*</text>\n</g>\n<!-- 140078079464352&#45;&gt;140078079464304 -->\n<g id=\"edge1\" class=\"edge\">\n<title>140078079464352&#45;&gt;140078079464304</title>\n<path fill=\"none\" stroke=\"black\" d=\"M46.63,-81.84C44.37,-76.34 41.62,-69.65 39.37,-64.14\"/>\n</g>\n<!-- 140078079465216 -->\n<g id=\"node3\" class=\"node\">\n<title>140078079465216</title>\n<path fill=\"none\" stroke=\"black\" stroke-width=\"0.25\" d=\"M69,-64C69,-64 65,-64 65,-64 63,-64 61,-62 61,-60 61,-60 61,-45 61,-45 61,-43 63,-41 65,-41 65,-41 69,-41 69,-41 71,-41 73,-43 73,-45 73,-45 73,-60 73,-60 73,-62 71,-64 69,-64\"/>\n<text text-anchor=\"middle\" x=\"67\" y=\"-48.8\" font-family=\"Times,serif\" font-size=\"14.00\">/</text>\n</g>\n<!-- 140078079464352&#45;&gt;140078079465216 -->\n<g id=\"edge2\" class=\"edge\">\n<title>140078079464352&#45;&gt;140078079465216</title>\n<path fill=\"none\" stroke=\"black\" d=\"M55.37,-81.84C57.63,-76.34 60.38,-69.65 62.63,-64.14\"/>\n</g>\n<!-- 140078079464304&#45;&gt;140078079465216 -->\n<!-- 140078079465312 -->\n<g id=\"node4\" class=\"node\">\n<title>140078079465312</title>\n<path fill=\"none\" stroke=\"black\" stroke-width=\"0.25\" d=\"M8,-23C8,-23 4,-23 4,-23 2,-23 0,-21 0,-19 0,-19 0,-4 0,-4 0,-2 2,0 4,0 4,0 8,0 8,0 10,0 12,-2 12,-4 12,-4 12,-19 12,-19 12,-21 10,-23 8,-23\"/>\n<text text-anchor=\"middle\" x=\"6\" y=\"-7.8\" font-family=\"Times,serif\" font-size=\"14.00\">t</text>\n</g>\n<!-- 140078079464304&#45;&gt;140078079465312 -->\n<g id=\"edge4\" class=\"edge\">\n<title>140078079464304&#45;&gt;140078079465312</title>\n<path fill=\"none\" stroke=\"black\" d=\"M27.38,-41.25C22.61,-34.84 16.56,-26.7 12.11,-20.71\"/>\n</g>\n<!-- 140078079466320 -->\n<g id=\"node5\" class=\"node\">\n<title>140078079466320</title>\n<path fill=\"none\" stroke=\"black\" stroke-width=\"0.25\" d=\"M38,-23C38,-23 34,-23 34,-23 32,-23 30,-21 30,-19 30,-19 30,-4 30,-4 30,-2 32,0 34,0 34,0 38,0 38,0 40,0 42,-2 42,-4 42,-4 42,-19 42,-19 42,-21 40,-23 38,-23\"/>\n<text text-anchor=\"middle\" x=\"36\" y=\"-7.8\" font-family=\"Times,serif\" font-size=\"14.00\">t</text>\n</g>\n<!-- 140078079464304&#45;&gt;140078079466320 -->\n<g id=\"edge5\" class=\"edge\">\n<title>140078079464304&#45;&gt;140078079466320</title>\n<path fill=\"none\" stroke=\"black\" d=\"M35.27,-40.84C35.41,-35.34 35.59,-28.65 35.73,-23.14\"/>\n</g>\n<!-- 140078081824416 -->\n<g id=\"node6\" class=\"node\">\n<title>140078081824416</title>\n<path fill=\"none\" stroke=\"black\" stroke-width=\"0.25\" d=\"M69,-23C69,-23 65,-23 65,-23 63,-23 61,-21 61,-19 61,-19 61,-4 61,-4 61,-2 63,0 65,0 65,0 69,0 69,0 71,0 73,-2 73,-4 73,-4 73,-19 73,-19 73,-21 71,-23 69,-23\"/>\n<text text-anchor=\"middle\" x=\"67\" y=\"-7.8\" font-family=\"Times,serif\" font-size=\"14.00\">t</text>\n</g>\n<!-- 140078079465216&#45;&gt;140078081824416 -->\n<g id=\"edge7\" class=\"edge\">\n<title>140078079465216&#45;&gt;140078081824416</title>\n<path fill=\"none\" stroke=\"black\" d=\"M67,-40.84C67,-35.34 67,-28.65 67,-23.14\"/>\n</g>\n<!-- 140078081826672 -->\n<g id=\"node7\" class=\"node\">\n<title>140078081826672</title>\n<path fill=\"none\" stroke=\"black\" stroke-width=\"0.25\" d=\"M99,-23C99,-23 95,-23 95,-23 93,-23 91,-21 91,-19 91,-19 91,-4 91,-4 91,-2 93,0 95,0 95,0 99,0 99,0 101,0 103,-2 103,-4 103,-4 103,-19 103,-19 103,-21 101,-23 99,-23\"/>\n<text text-anchor=\"middle\" x=\"97\" y=\"-7.8\" font-family=\"Times,serif\" font-size=\"14.00\">t</text>\n</g>\n<!-- 140078079465216&#45;&gt;140078081826672 -->\n<g id=\"edge8\" class=\"edge\">\n<title>140078079465216&#45;&gt;140078081826672</title>\n<path fill=\"none\" stroke=\"black\" d=\"M73.07,-43.61C78.28,-36.84 85.74,-27.14 90.94,-20.38\"/>\n</g>\n<!-- 140078079465312&#45;&gt;140078079466320 -->\n<!-- 140078081824416&#45;&gt;140078081826672 -->\n</g>\n</svg>\n",
            "text/plain": [
              "(+: (*: (t), (t)), (/: (t), (t)))"
            ]
          },
          "execution_count": 1,
          "metadata": {},
          "output_type": "execute_result"
        }
      ],
      "source": [
        "Tree.from_lol(['+', ['*', ['t'], ['t']], ['/', ['t'], ['t']]])"
      ]
    },
    {
      "cell_type": "markdown",
      "metadata": {},
      "source": [
        "## Caso LL(1) (senza ε-regole), gli insiemi `FIRST` \n",
        "\n",
        "Se la grammatica non è \"semplice\" il caso non è disperato (almeno se non ci sono ε-regole). \n",
        "\n",
        "Supponiamo di conoscere, per ogni forma sentenziale $\\omega$, qual'è il primo terminale $t$ che (eventualmente) produrrà; detto in formule, supponiamo di conoscere l'insieme $\\operatorname{FIRST}(\\omega) = \\{ t \\in T \\mid \\omega\\overset{*}{\\to} t\\gamma, \\gamma\\in (N\\cup T)^* \\}$. \n",
        "\n",
        "Allora potremmo determinare `TABLE` come segue:"
      ]
    },
    {
      "cell_type": "code",
      "execution_count": null,
      "metadata": {},
      "outputs": [],
      "source": [
        "def compute_table(G):\n",
        "    \n",
        "    TABLE = Table(2, no_reassign = True)\n",
        "\n",
        "    FIRST = compute_first(G)\n",
        "    \n",
        "    for P in G.P:\n",
        "        A, (B, *β) = P # questo significa che la produzione P ha la forma A -> Bβ con β eventualmente nulla\n",
        "        for a in FIRST[B]:        \n",
        "            TABLE[A, a] = P\n",
        "\n",
        "    return TABLE"
      ]
    },
    {
      "cell_type": "markdown",
      "metadata": {},
      "source": [
        "Osservate che, data la produzione $A\\to B\\beta$ (con $\\beta$ eventualmente vuota), invece di usare $\\operatorname{FIRST}(B\\beta)$ ci siamo contentati di $\\operatorname{FIRST}(B)$ dal momento che (in assenza di ε-regole) evidentemente se $B\\beta\\overset{*}{\\to} t\\gamma$ allora $B\\overset{*}{\\to} t\\gamma'$ (dove $\\gamma'$ è un prefisso di $\\gamma$).\n",
        "\n",
        "Inoltre, la definizione di $\\operatorname{FIRST}$ suggerisce un semplice modo ricorsivo per calcolare $\\operatorname{FIRST}(X)$:\n",
        "\n",
        "* se $X\\in T$ allora per forza $\\operatorname{FIRST}(X) = \\{X\\}$;\n",
        "* viceversa, per tutte le produzioni $X\\to Y\\alpha$ (con $Y \\neq X$), doveremo \n",
        "aggiungere $\\operatorname{FIRST}(Y)$ a $\\operatorname{FIRST}(X)$."
      ]
    },
    {
      "cell_type": "code",
      "execution_count": null,
      "metadata": {},
      "outputs": [],
      "source": [
        "def compute_first(G):\n",
        "\n",
        "    def recursive_first(X): # X è G.T | G.N\n",
        "        return union_of(\n",
        "            recursive_first(Y)\n",
        "            for Y, *α in G.alternatives(X) if Y != X # occhio alla ricorsione a sinistra!\n",
        "        ) if X in G.N else {X}\n",
        "    \n",
        "    FIRST = Table(1)\n",
        "    for X in G.N | G.T: FIRST[X] = recursive_first(X)\n",
        "        \n",
        "    return FIRST"
      ]
    },
    {
      "cell_type": "markdown",
      "metadata": {},
      "source": [
        "Proviamo cosa accade con questa grammatica"
      ]
    },
    {
      "cell_type": "code",
      "execution_count": null,
      "metadata": {},
      "outputs": [
        {
          "data": {
            "text/plain": [
              "Grammar(N={Fact, Question, Session}, T={!, (, ), ?, STRING}, P=(Session -> Fact Session, Session -> Question, Session -> ( Session ) Session, Fact -> ! STRING, Question -> ? STRING), S=Session)"
            ]
          },
          "execution_count": 1,
          "metadata": {},
          "output_type": "execute_result"
        }
      ],
      "source": [
        "# fig. 8.7, pag. 240\n",
        "\n",
        "G = Grammar.from_string(\"\"\"\n",
        "Session -> Fact Session | Question\n",
        "Session -> ( Session ) Session\n",
        "Fact -> ! STRING\n",
        "Question -> ? STRING\n",
        "\"\"\")\n",
        "G"
      ]
    },
    {
      "cell_type": "code",
      "execution_count": null,
      "metadata": {},
      "outputs": [
        {
          "data": {
            "text/html": [
              "<style>td, th {border: 1pt solid lightgray !important; text-align: left !important;}</style><table><tr><th><pre>Question</pre><td><pre>?</pre>\n",
              "<tr><th><pre>Fact</pre><td><pre>!</pre>\n",
              "<tr><th><pre>Session</pre><td><pre>!, (, ?</pre></table>"
            ],
            "text/plain": [
              "<liblet.utils.Table at 0x7f66782ad3d0>"
            ]
          },
          "execution_count": 1,
          "metadata": {},
          "output_type": "execute_result"
        }
      ],
      "source": [
        "FIRST = compute_first(G)\n",
        "FIRST.restrict_to(G.N) # ci interessano solo le righe relative ai non terminali"
      ]
    },
    {
      "cell_type": "markdown",
      "metadata": {},
      "source": [
        "Correttamente, il non terminale `Session` può produrre parole che iniziano con `!`, `?` oppure `(`. Ora calcoliamo `TABLE` "
      ]
    },
    {
      "cell_type": "code",
      "execution_count": null,
      "metadata": {},
      "outputs": [
        {
          "data": {
            "text/html": [
              "<style>td, th {border: 1pt solid lightgray !important; text-align: left !important;}</style><table><tr><td>&nbsp;<th><pre>!</pre><th><pre>?</pre><th><pre>(</pre>\n",
              "<tr><th><pre>Session<pre><td><pre>Session -> Fact Session</pre><td><pre>Session -> Question</pre><td><pre>Session -> ( Session ) Session</pre>\n",
              "<tr><th><pre>Fact<pre><td><pre>Fact -> ! STRING</pre><td>&nbsp;<td>&nbsp;\n",
              "<tr><th><pre>Question<pre><td>&nbsp;<td><pre>Question -> ? STRING</pre><td>&nbsp;\n",
              "</table>"
            ],
            "text/plain": [
              "<liblet.utils.Table at 0x7f66782ad640>"
            ]
          },
          "execution_count": 1,
          "metadata": {},
          "output_type": "execute_result"
        }
      ],
      "source": [
        "TABLE = compute_table(G)\n",
        "TABLE"
      ]
    },
    {
      "cell_type": "markdown",
      "metadata": {},
      "source": [
        "Ora possiamo usare esattamente lo stesso `parse_noε`, passando questa tabella, per derivare una parola"
      ]
    },
    {
      "cell_type": "code",
      "execution_count": null,
      "metadata": {},
      "outputs": [],
      "source": [
        "INPUT = '! STRING ! STRING ? STRING'.split()"
      ]
    },
    {
      "cell_type": "code",
      "execution_count": null,
      "metadata": {},
      "outputs": [
        {
          "data": {
            "image/svg+xml": "<?xml version=\"1.0\" encoding=\"UTF-8\" standalone=\"no\"?>\n<!DOCTYPE svg PUBLIC \"-//W3C//DTD SVG 1.1//EN\"\n \"http://www.w3.org/Graphics/SVG/1.1/DTD/svg11.dtd\">\n<!-- Generated by graphviz version 2.43.0 (0)\n -->\n<!-- Title: %3 Pages: 1 -->\n<svg width=\"261pt\" height=\"195pt\"\n viewBox=\"0.00 0.00 261.00 195.00\" xmlns=\"http://www.w3.org/2000/svg\" xmlns:xlink=\"http://www.w3.org/1999/xlink\">\n<g id=\"graph0\" class=\"graph\" transform=\"scale(1 1) rotate(0) translate(4 191)\">\n<title>%3</title>\n<polygon fill=\"white\" stroke=\"transparent\" points=\"-4,4 -4,-191 257,-191 257,4 -4,4\"/>\n<!-- &#45;5064645320808231774 -->\n<g id=\"node1\" class=\"node\">\n<title>&#45;5064645320808231774</title>\n<path fill=\"none\" stroke=\"black\" stroke-width=\"0.25\" d=\"M107.83,-187C107.83,-187 73.17,-187 73.17,-187 69.33,-187 65.5,-183.17 65.5,-179.33 65.5,-179.33 65.5,-171.67 65.5,-171.67 65.5,-167.83 69.33,-164 73.17,-164 73.17,-164 107.83,-164 107.83,-164 111.67,-164 115.5,-167.83 115.5,-171.67 115.5,-171.67 115.5,-179.33 115.5,-179.33 115.5,-183.17 111.67,-187 107.83,-187\"/>\n<text text-anchor=\"middle\" x=\"90.5\" y=\"-171.8\" font-family=\"Times,serif\" font-size=\"14.00\">Session</text>\n</g>\n<!-- &#45;8230960451999909300 -->\n<g id=\"node2\" class=\"node\">\n<title>&#45;8230960451999909300</title>\n<path fill=\"none\" stroke=\"black\" stroke-width=\"0.25\" d=\"M69.83,-146C69.83,-146 53.17,-146 53.17,-146 49.33,-146 45.5,-142.17 45.5,-138.33 45.5,-138.33 45.5,-130.67 45.5,-130.67 45.5,-126.83 49.33,-123 53.17,-123 53.17,-123 69.83,-123 69.83,-123 73.67,-123 77.5,-126.83 77.5,-130.67 77.5,-130.67 77.5,-138.33 77.5,-138.33 77.5,-142.17 73.67,-146 69.83,-146\"/>\n<text text-anchor=\"middle\" x=\"61.5\" y=\"-130.8\" font-family=\"Times,serif\" font-size=\"14.00\">Fact</text>\n</g>\n<!-- &#45;5064645320808231774&#45;&gt;&#45;8230960451999909300 -->\n<g id=\"edge1\" class=\"edge\">\n<title>&#45;5064645320808231774&#45;&gt;&#45;8230960451999909300</title>\n<path fill=\"none\" stroke=\"black\" stroke-width=\"0.5\" d=\"M82.58,-163.84C78.48,-158.34 73.51,-151.65 69.41,-146.14\"/>\n</g>\n<!-- 1224647117006914486 -->\n<g id=\"node3\" class=\"node\">\n<title>1224647117006914486</title>\n<path fill=\"none\" stroke=\"black\" stroke-width=\"0.25\" d=\"M138.83,-146C138.83,-146 104.17,-146 104.17,-146 100.33,-146 96.5,-142.17 96.5,-138.33 96.5,-138.33 96.5,-130.67 96.5,-130.67 96.5,-126.83 100.33,-123 104.17,-123 104.17,-123 138.83,-123 138.83,-123 142.67,-123 146.5,-126.83 146.5,-130.67 146.5,-130.67 146.5,-138.33 146.5,-138.33 146.5,-142.17 142.67,-146 138.83,-146\"/>\n<text text-anchor=\"middle\" x=\"121.5\" y=\"-130.8\" font-family=\"Times,serif\" font-size=\"14.00\">Session</text>\n</g>\n<!-- &#45;5064645320808231774&#45;&gt;1224647117006914486 -->\n<g id=\"edge2\" class=\"edge\">\n<title>&#45;5064645320808231774&#45;&gt;1224647117006914486</title>\n<path fill=\"none\" stroke=\"black\" stroke-width=\"0.5\" d=\"M98.97,-163.84C103.35,-158.34 108.67,-151.65 113.04,-146.14\"/>\n</g>\n<!-- &#45;8230960451999909300&#45;&gt;1224647117006914486 -->\n<!-- 7935221587876795803 -->\n<g id=\"node4\" class=\"node\">\n<title>7935221587876795803</title>\n<path fill=\"none\" stroke=\"black\" stroke-width=\"1.25\" d=\"M8.67,-105C8.67,-105 4.33,-105 4.33,-105 2.17,-105 0,-102.83 0,-100.67 0,-100.67 0,-86.33 0,-86.33 0,-84.17 2.17,-82 4.33,-82 4.33,-82 8.67,-82 8.67,-82 10.83,-82 13,-84.17 13,-86.33 13,-86.33 13,-100.67 13,-100.67 13,-102.83 10.83,-105 8.67,-105\"/>\n<text text-anchor=\"middle\" x=\"6.5\" y=\"-89.8\" font-family=\"Times,serif\" font-size=\"14.00\">!</text>\n</g>\n<!-- &#45;8230960451999909300&#45;&gt;7935221587876795803 -->\n<g id=\"edge4\" class=\"edge\">\n<title>&#45;8230960451999909300&#45;&gt;7935221587876795803</title>\n<path fill=\"none\" stroke=\"black\" stroke-width=\"0.5\" d=\"M46.47,-122.84C35.53,-115.08 21.25,-104.96 13.05,-99.15\"/>\n</g>\n<!-- &#45;9169669328190870866 -->\n<g id=\"node5\" class=\"node\">\n<title>&#45;9169669328190870866</title>\n<path fill=\"none\" stroke=\"black\" stroke-width=\"1.25\" d=\"M80.33,-105C80.33,-105 38.67,-105 38.67,-105 34.83,-105 31,-101.17 31,-97.33 31,-97.33 31,-89.67 31,-89.67 31,-85.83 34.83,-82 38.67,-82 38.67,-82 80.33,-82 80.33,-82 84.17,-82 88,-85.83 88,-89.67 88,-89.67 88,-97.33 88,-97.33 88,-101.17 84.17,-105 80.33,-105\"/>\n<text text-anchor=\"middle\" x=\"59.5\" y=\"-89.8\" font-family=\"Times,serif\" font-size=\"14.00\">STRING</text>\n</g>\n<!-- &#45;8230960451999909300&#45;&gt;&#45;9169669328190870866 -->\n<g id=\"edge5\" class=\"edge\">\n<title>&#45;8230960451999909300&#45;&gt;&#45;9169669328190870866</title>\n<path fill=\"none\" stroke=\"black\" stroke-width=\"0.5\" d=\"M60.95,-122.84C60.67,-117.34 60.33,-110.65 60.05,-105.14\"/>\n</g>\n<!-- &#45;328471659037721159 -->\n<g id=\"node6\" class=\"node\">\n<title>&#45;328471659037721159</title>\n<path fill=\"none\" stroke=\"black\" stroke-width=\"0.25\" d=\"M130.83,-105C130.83,-105 114.17,-105 114.17,-105 110.33,-105 106.5,-101.17 106.5,-97.33 106.5,-97.33 106.5,-89.67 106.5,-89.67 106.5,-85.83 110.33,-82 114.17,-82 114.17,-82 130.83,-82 130.83,-82 134.67,-82 138.5,-85.83 138.5,-89.67 138.5,-89.67 138.5,-97.33 138.5,-97.33 138.5,-101.17 134.67,-105 130.83,-105\"/>\n<text text-anchor=\"middle\" x=\"122.5\" y=\"-89.8\" font-family=\"Times,serif\" font-size=\"14.00\">Fact</text>\n</g>\n<!-- 1224647117006914486&#45;&gt;&#45;328471659037721159 -->\n<g id=\"edge7\" class=\"edge\">\n<title>1224647117006914486&#45;&gt;&#45;328471659037721159</title>\n<path fill=\"none\" stroke=\"black\" stroke-width=\"0.5\" d=\"M121.77,-122.84C121.91,-117.34 122.09,-110.65 122.23,-105.14\"/>\n</g>\n<!-- 8637737922231056845 -->\n<g id=\"node7\" class=\"node\">\n<title>8637737922231056845</title>\n<path fill=\"none\" stroke=\"black\" stroke-width=\"0.25\" d=\"M198.83,-105C198.83,-105 164.17,-105 164.17,-105 160.33,-105 156.5,-101.17 156.5,-97.33 156.5,-97.33 156.5,-89.67 156.5,-89.67 156.5,-85.83 160.33,-82 164.17,-82 164.17,-82 198.83,-82 198.83,-82 202.67,-82 206.5,-85.83 206.5,-89.67 206.5,-89.67 206.5,-97.33 206.5,-97.33 206.5,-101.17 202.67,-105 198.83,-105\"/>\n<text text-anchor=\"middle\" x=\"181.5\" y=\"-89.8\" font-family=\"Times,serif\" font-size=\"14.00\">Session</text>\n</g>\n<!-- 1224647117006914486&#45;&gt;8637737922231056845 -->\n<g id=\"edge8\" class=\"edge\">\n<title>1224647117006914486&#45;&gt;8637737922231056845</title>\n<path fill=\"none\" stroke=\"black\" stroke-width=\"0.5\" d=\"M137.9,-122.84C146.36,-117.34 156.66,-110.65 165.12,-105.14\"/>\n</g>\n<!-- 7935221587876795803&#45;&gt;&#45;9169669328190870866 -->\n<!-- &#45;328471659037721159&#45;&gt;8637737922231056845 -->\n<!-- &#45;3098431680608613454 -->\n<g id=\"node8\" class=\"node\">\n<title>&#45;3098431680608613454</title>\n<path fill=\"none\" stroke=\"black\" stroke-width=\"1.25\" d=\"M71.67,-64C71.67,-64 67.33,-64 67.33,-64 65.17,-64 63,-61.83 63,-59.67 63,-59.67 63,-45.33 63,-45.33 63,-43.17 65.17,-41 67.33,-41 67.33,-41 71.67,-41 71.67,-41 73.83,-41 76,-43.17 76,-45.33 76,-45.33 76,-59.67 76,-59.67 76,-61.83 73.83,-64 71.67,-64\"/>\n<text text-anchor=\"middle\" x=\"69.5\" y=\"-48.8\" font-family=\"Times,serif\" font-size=\"14.00\">!</text>\n</g>\n<!-- &#45;328471659037721159&#45;&gt;&#45;3098431680608613454 -->\n<g id=\"edge10\" class=\"edge\">\n<title>&#45;328471659037721159&#45;&gt;&#45;3098431680608613454</title>\n<path fill=\"none\" stroke=\"black\" stroke-width=\"0.5\" d=\"M108.02,-81.84C97.6,-74.18 84.03,-64.19 76.09,-58.35\"/>\n</g>\n<!-- &#45;1756578522966728507 -->\n<g id=\"node9\" class=\"node\">\n<title>&#45;1756578522966728507</title>\n<path fill=\"none\" stroke=\"black\" stroke-width=\"1.25\" d=\"M143.33,-64C143.33,-64 101.67,-64 101.67,-64 97.83,-64 94,-60.17 94,-56.33 94,-56.33 94,-48.67 94,-48.67 94,-44.83 97.83,-41 101.67,-41 101.67,-41 143.33,-41 143.33,-41 147.17,-41 151,-44.83 151,-48.67 151,-48.67 151,-56.33 151,-56.33 151,-60.17 147.17,-64 143.33,-64\"/>\n<text text-anchor=\"middle\" x=\"122.5\" y=\"-48.8\" font-family=\"Times,serif\" font-size=\"14.00\">STRING</text>\n</g>\n<!-- &#45;328471659037721159&#45;&gt;&#45;1756578522966728507 -->\n<g id=\"edge11\" class=\"edge\">\n<title>&#45;328471659037721159&#45;&gt;&#45;1756578522966728507</title>\n<path fill=\"none\" stroke=\"black\" stroke-width=\"0.5\" d=\"M122.5,-81.84C122.5,-76.34 122.5,-69.65 122.5,-64.14\"/>\n</g>\n<!-- 3609775423704361039 -->\n<g id=\"node10\" class=\"node\">\n<title>3609775423704361039</title>\n<path fill=\"none\" stroke=\"black\" stroke-width=\"0.25\" d=\"M218.33,-64C218.33,-64 176.67,-64 176.67,-64 172.83,-64 169,-60.17 169,-56.33 169,-56.33 169,-48.67 169,-48.67 169,-44.83 172.83,-41 176.67,-41 176.67,-41 218.33,-41 218.33,-41 222.17,-41 226,-44.83 226,-48.67 226,-48.67 226,-56.33 226,-56.33 226,-60.17 222.17,-64 218.33,-64\"/>\n<text text-anchor=\"middle\" x=\"197.5\" y=\"-48.8\" font-family=\"Times,serif\" font-size=\"14.00\">Question</text>\n</g>\n<!-- 8637737922231056845&#45;&gt;3609775423704361039 -->\n<g id=\"edge13\" class=\"edge\">\n<title>8637737922231056845&#45;&gt;3609775423704361039</title>\n<path fill=\"none\" stroke=\"black\" stroke-width=\"0.5\" d=\"M185.87,-81.84C188.13,-76.34 190.88,-69.65 193.13,-64.14\"/>\n</g>\n<!-- &#45;3098431680608613454&#45;&gt;&#45;1756578522966728507 -->\n<!-- 340389891886752722 -->\n<g id=\"node11\" class=\"node\">\n<title>340389891886752722</title>\n<path fill=\"none\" stroke=\"black\" stroke-width=\"1.25\" d=\"M173,-23C173,-23 168,-23 168,-23 165.5,-23 163,-20.5 163,-18 163,-18 163,-5 163,-5 163,-2.5 165.5,0 168,0 168,0 173,0 173,0 175.5,0 178,-2.5 178,-5 178,-5 178,-18 178,-18 178,-20.5 175.5,-23 173,-23\"/>\n<text text-anchor=\"middle\" x=\"170.5\" y=\"-7.8\" font-family=\"Times,serif\" font-size=\"14.00\">?</text>\n</g>\n<!-- 3609775423704361039&#45;&gt;340389891886752722 -->\n<g id=\"edge14\" class=\"edge\">\n<title>3609775423704361039&#45;&gt;340389891886752722</title>\n<path fill=\"none\" stroke=\"black\" stroke-width=\"0.5\" d=\"M190.12,-40.84C186.31,-35.34 181.68,-28.65 177.87,-23.14\"/>\n</g>\n<!-- &#45;7059656593644315062 -->\n<g id=\"node12\" class=\"node\">\n<title>&#45;7059656593644315062</title>\n<path fill=\"none\" stroke=\"black\" stroke-width=\"1.25\" d=\"M245.33,-23C245.33,-23 203.67,-23 203.67,-23 199.83,-23 196,-19.17 196,-15.33 196,-15.33 196,-7.67 196,-7.67 196,-3.83 199.83,0 203.67,0 203.67,0 245.33,0 245.33,0 249.17,0 253,-3.83 253,-7.67 253,-7.67 253,-15.33 253,-15.33 253,-19.17 249.17,-23 245.33,-23\"/>\n<text text-anchor=\"middle\" x=\"224.5\" y=\"-7.8\" font-family=\"Times,serif\" font-size=\"14.00\">STRING</text>\n</g>\n<!-- 3609775423704361039&#45;&gt;&#45;7059656593644315062 -->\n<g id=\"edge15\" class=\"edge\">\n<title>3609775423704361039&#45;&gt;&#45;7059656593644315062</title>\n<path fill=\"none\" stroke=\"black\" stroke-width=\"0.5\" d=\"M204.88,-40.84C208.69,-35.34 213.32,-28.65 217.13,-23.14\"/>\n</g>\n<!-- 340389891886752722&#45;&gt;&#45;7059656593644315062 -->\n</g>\n</svg>\n",
            "text/plain": [
              "ProductionGraph(Session -> Fact Session -> ! STRING Session -> ! STRING Fact Session -> ! STRING ! STRING Session -> ! STRING ! STRING Question -> ! STRING ! STRING ? STRING)"
            ]
          },
          "execution_count": 1,
          "metadata": {},
          "output_type": "execute_result"
        }
      ],
      "source": [
        "ProductionGraph(parse_noε(G, TABLE, INPUT))"
      ]
    },
    {
      "cell_type": "markdown",
      "metadata": {},
      "source": [
        "## Cosa accade con le ε-regole? \n",
        "\n",
        "Consideriamo la seguente versione più \"naturale\" della precedente grammatica:"
      ]
    },
    {
      "cell_type": "code",
      "execution_count": null,
      "metadata": {},
      "outputs": [
        {
          "data": {
            "text/plain": [
              "Grammar(N={Fact, Facts, Question, Session}, T={!, (, ), ?, STRING}, P=(Session -> Facts Question, Session -> ( Session ) Session, Facts -> Fact Facts, Facts -> ε, Fact -> ! STRING, Question -> ? STRING), S=Session)"
            ]
          },
          "execution_count": 1,
          "metadata": {},
          "output_type": "execute_result"
        }
      ],
      "source": [
        "# fig. 8.9, pag. 242\n",
        "\n",
        "G = Grammar.from_string(\"\"\"\n",
        "Session -> Facts Question | ( Session ) Session\n",
        "Facts -> Fact Facts | ε\n",
        "Fact -> ! STRING\n",
        "Question -> ? STRING\n",
        "\"\"\")\n",
        "G"
      ]
    },
    {
      "cell_type": "markdown",
      "metadata": {},
      "source": [
        "### Estendere il calcolo di `FIRST` al caso con ε-regole\n",
        "\n",
        "Evidentemente non potremo più semplificarci la vita considerando $\\operatorname{FIRST}(B\\beta) = \\operatorname{FIRST}(B)$, perché se $B\\to\\varepsilon$ (altrimenti detto $\\varepsilon\\in \\operatorname{FIRST}(B)$) per prima cosa non è detto che $\\varepsilon\\in \\operatorname{FIRST}(B\\beta)$ (perché potrebbe essere che $\\varepsilon\\not\\in \\operatorname{FIRST}(\\beta)$), ma sopratutto dovremo aggiungere $\\operatorname{FIRST}(\\beta)$ a $\\operatorname{FIRST}(B\\beta)$ per tenere conto del caso in cui la prima produzione sia proprio quella che \"fa sparire\" $B$! Lo stesso ragionamento va quindi applicato a $\\beta$ che può iniziare con un terminale, oppure con un nonterminale (che, a sua volta, può essere o meno trasparente).\n",
        "\n",
        "Possiamo procurarci i suffissi di una forma sentenziale con la seguente funzione"
      ]
    },
    {
      "cell_type": "code",
      "execution_count": null,
      "metadata": {},
      "outputs": [
        {
          "data": {
            "text/plain": [
              "['example', 'xample', 'ample', 'mple', 'ple', 'le', 'e']"
            ]
          },
          "execution_count": 1,
          "metadata": {},
          "output_type": "execute_result"
        }
      ],
      "source": [
        "list(suffixes('example'))"
      ]
    },
    {
      "cell_type": "markdown",
      "metadata": {},
      "source": [
        "Siamo pronti per aggiornare il caloclo di `FIRST`, questa volta per semplificarci la vita useremo una chiusura:"
      ]
    },
    {
      "cell_type": "code",
      "execution_count": null,
      "metadata": {},
      "outputs": [],
      "source": [
        "def compute_εfirst(G):\n",
        "\n",
        "    FIRST = Table(1, element = set) # questo significa che gli elementi dell tabella sono insiemi\n",
        "\n",
        "    # per prima cosa, il caso banele \n",
        "    for t in G.T: FIRST[(t, )] = {t} # attenzione, gli indici sono forme sentenziali, ossia tuple!\n",
        "        \n",
        "    # qualche caso \"extra\" che ci verrà comodo poi    \n",
        "    FIRST[tuple()] = {ε}\n",
        "    FIRST[(ε, )] = {ε}\n",
        "    FIRST[(HASH, )] = {HASH}\n",
        "\n",
        "    @closure\n",
        "    def update_with_suffixes(FIRST):\n",
        "        for N, α in G.P:\n",
        "            FIRST[(N, )] |= FIRST[α]\n",
        "            for γ in suffixes(α):\n",
        "                A, *β = γ\n",
        "                FIRST[γ] |= FIRST[(A, )] - {ε}\n",
        "                if ε in FIRST[(A, )]: FIRST[γ] |= FIRST[β]\n",
        "        return FIRST\n",
        "\n",
        "    return update_with_suffixes(FIRST)"
      ]
    },
    {
      "cell_type": "code",
      "execution_count": null,
      "metadata": {},
      "outputs": [
        {
          "data": {
            "text/html": [
              "<style>td, th {border: 1pt solid lightgray !important; text-align: left !important;}</style><table><tr><th><pre>(Facts)</pre><td><pre>!, ε</pre>\n",
              "<tr><th><pre>(Session)</pre><td><pre>!, (, ?</pre>\n",
              "<tr><th><pre>(Fact)</pre><td><pre>!</pre>\n",
              "<tr><th><pre>(Question)</pre><td><pre>?</pre></table>"
            ],
            "text/plain": [
              "<liblet.utils.Table at 0x7f6678294f40>"
            ]
          },
          "execution_count": 1,
          "metadata": {},
          "output_type": "execute_result"
        }
      ],
      "source": [
        "FIRST = compute_εfirst(G)\n",
        "FIRST.restrict_to({(X, ) for X in G.N})"
      ]
    },
    {
      "cell_type": "markdown",
      "metadata": {},
      "source": [
        "Quanto ottenuto fin qui è corretto, ma `FIRST` contiene valori solo per certe forme sentenziali, non per tutte. Non è però difficile estenderlo in modo che funzioni in generale.\n",
        "\n",
        "Ragionando in maniera ricorsiva (come abbiamo fatto in `compute_εfirst`) è possibile passare da un insieme ad una funzione `FIRSTf` che calcoli $\\operatorname{FIRST}(\\omega)$ qualunque sia $\\omega$"
      ]
    },
    {
      "cell_type": "code",
      "execution_count": null,
      "metadata": {},
      "outputs": [],
      "source": [
        "def make_first_function(G):\n",
        "    \n",
        "    FIRST = compute_εfirst(G)\n",
        "    \n",
        "    @show_calls(True)\n",
        "    def FIRSTf(ω):\n",
        "        if not ω: return {ε}\n",
        "        X, *γ = ω\n",
        "        fx = FIRST[(X, )]\n",
        "        if ε in fx:\n",
        "            return (fx - {ε}) | FIRSTf(γ)\n",
        "        else:\n",
        "            return fx\n",
        "\n",
        "    return FIRSTf"
      ]
    },
    {
      "cell_type": "markdown",
      "metadata": {},
      "source": [
        "Possiamo provarla su una forma addirittura non derivabile da $S$"
      ]
    },
    {
      "cell_type": "code",
      "execution_count": null,
      "metadata": {},
      "outputs": [],
      "source": [
        "FIRSTf = make_first_function(G)"
      ]
    },
    {
      "cell_type": "code",
      "execution_count": null,
      "metadata": {},
      "outputs": [
        {
          "name": "stdout",
          "output_type": "stream",
          "text": [
            "┌FIRSTf(('Facts', 'Facts', 'Question', '＃'))\n",
            "│┌FIRSTf(['Facts', 'Question', '＃'])\n",
            "││┌FIRSTf(['Question', '＃'])\n",
            "││└─ {'?'}\n",
            "│└─ {'!', '?'}\n",
            "└─ {'!', '?'}\n"
          ]
        },
        {
          "data": {
            "text/plain": [
              "{'!', '?'}"
            ]
          },
          "execution_count": 1,
          "metadata": {},
          "output_type": "execute_result"
        }
      ],
      "source": [
        "FIRSTf(('Facts', 'Facts', 'Question', HASH ))"
      ]
    },
    {
      "cell_type": "markdown",
      "metadata": {},
      "source": [
        "Ora la nostra speranza è poter calcolare `TABLE` a partire da `FRISTf`, ma purtroppo è impossibile auspicarsi di poter decidere che produzione usare considerando solo il simbolo $A$ in cima alla pila, dato che potrebbe darsi il caso che $A\\to\\varepsilon$."
      ]
    }
  ],
  "metadata": {
    "kernelspec": {
      "display_name": "Python 3",
      "language": "python",
      "name": "python3"
    },
    "language_info": {
      "codemirror_mode": {
        "name": "ipython",
        "version": 3
      },
      "file_extension": ".py",
      "mimetype": "text/x-python",
      "name": "python",
      "nbconvert_exporter": "python",
      "pygments_lexer": "ipython3"
    }
  },
  "nbformat": 4,
  "nbformat_minor": 2
}
