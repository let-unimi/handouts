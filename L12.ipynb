{
 "cells": [
  {
   "cell_type": "code",
   "execution_count": 1,
   "metadata": {},
   "outputs": [],
   "source": [
    "from liblet import Grammar, Derivation, ProductionGraph, show_calls, iter2table"
   ]
  },
  {
   "cell_type": "markdown",
   "metadata": {},
   "source": [
    "# Eliminazione della ricorsione"
   ]
  },
  {
   "cell_type": "code",
   "execution_count": 2,
   "metadata": {},
   "outputs": [],
   "source": [
    "# ricorsiva\n",
    "\n",
    "\"\"\"\n",
    "E -> E + T | E - T | T\n",
    "T -> t\n",
    "\"\"\";"
   ]
  },
  {
   "cell_type": "code",
   "execution_count": 3,
   "metadata": {},
   "outputs": [],
   "source": [
    "# non ricorsiva\n",
    "\n",
    "\"\"\"\n",
    "E -> Eh Ets | Eh\n",
    "Eh -> T\n",
    "Ets -> Et Ets | Et\n",
    "Et -> + T | - T\n",
    "T -> t\n",
    "\"\"\";"
   ]
  },
  {
   "cell_type": "code",
   "execution_count": 4,
   "metadata": {},
   "outputs": [
    {
     "data": {
      "text/plain": [
       "Grammar(N={E, Eh, Et, Ets, T}, T={#, +, -, t}, P=(E -> Eh Ets, E -> Eh #, Eh -> T, Ets -> Et Ets, Ets -> Et #, Et -> + T, Et -> - T, T -> t), S=E)"
      ]
     },
     "execution_count": 4,
     "metadata": {},
     "output_type": "execute_result"
    }
   ],
   "source": [
    "# prefix-free\n",
    "\n",
    "G = Grammar.from_string(\"\"\"\n",
    "E -> Eh Ets | Eh #\n",
    "Eh -> T\n",
    "Ets -> Et Ets | Et #\n",
    "Et -> + T | - T\n",
    "T -> t\n",
    "\"\"\")\n",
    "G\n",
    "\n",
    "# Ets => Et^+ #\n",
    "# E => Eh Ets * #"
   ]
  },
  {
   "cell_type": "markdown",
   "metadata": {},
   "source": [
    "# Parser ricorsivo discendente"
   ]
  },
  {
   "cell_type": "code",
   "execution_count": 5,
   "metadata": {},
   "outputs": [],
   "source": [
    "@show_calls(True)\n",
    "def match(X, rest): # returns: succ, rest\n",
    "\n",
    "    if X in G.T:\n",
    "        \n",
    "        if rest and rest[0] == X: return True, rest[1:]\n",
    "        return False, rest\n",
    "\n",
    "    elif X == 'T': # T -> t\n",
    "\n",
    "        return match('t', rest)\n",
    "\n",
    "    elif X == 'Eh': # Eh -> T\n",
    "\n",
    "        return match('T', rest)\n",
    "    \n",
    "    elif X == 'Et': # Et -> + T | - T\n",
    "\n",
    "        s, r = match('+', rest)\n",
    "        if s: return match('T', r)\n",
    "        s, r = match('-', rest)\n",
    "        if s: return match('T', r)\n",
    "        return False, rest        \n",
    "\n",
    "    elif X == 'Ets': # Ets -> Et Ets | Et #\n",
    "\n",
    "        s0, r0 = match('Et', rest)\n",
    "        if s0:\n",
    "            s1, r1 = match('#', r0)\n",
    "            if s1: return True, r1\n",
    "            return match('Ets', r0)\n",
    "        return False, rest        \n",
    "    \n",
    "    elif X == 'E': # E -> Eh Ets | Eh #\n",
    "\n",
    "        s0, r0 = match('Eh', rest)\n",
    "        if s0:\n",
    "            s1, r1 = match('#', r0)\n",
    "            if s1: return True, r1\n",
    "            return match('Ets', r0)\n",
    "        return False, rest        \n"
   ]
  },
  {
   "cell_type": "code",
   "execution_count": 6,
   "metadata": {
    "scrolled": false
   },
   "outputs": [
    {
     "name": "stdout",
     "output_type": "stream",
     "text": [
      "┌match('E', 't+t#')\n",
      "│┌match('Eh', 't+t#')\n",
      "││┌match('T', 't+t#')\n",
      "│││┌match('t', 't+t#')\n",
      "│││└─ (True, '+t#')\n",
      "││└─ (True, '+t#')\n",
      "│└─ (True, '+t#')\n",
      "│┌match('#', '+t#')\n",
      "│└─ (False, '+t#')\n",
      "│┌match('Ets', '+t#')\n",
      "││┌match('Et', '+t#')\n",
      "│││┌match('+', '+t#')\n",
      "│││└─ (True, 't#')\n",
      "│││┌match('T', 't#')\n",
      "││││┌match('t', 't#')\n",
      "││││└─ (True, '#')\n",
      "│││└─ (True, '#')\n",
      "││└─ (True, '#')\n",
      "││┌match('#', '#')\n",
      "││└─ (True, '')\n",
      "│└─ (True, '')\n",
      "└─ (True, '')\n"
     ]
    },
    {
     "data": {
      "text/plain": [
       "(True, '')"
      ]
     },
     "execution_count": 6,
     "metadata": {},
     "output_type": "execute_result"
    }
   ],
   "source": [
    "match('E', 't+t#')"
   ]
  },
  {
   "cell_type": "markdown",
   "metadata": {},
   "source": [
    "## Ricostruire l'albero di parsing"
   ]
  },
  {
   "cell_type": "code",
   "execution_count": 7,
   "metadata": {},
   "outputs": [
    {
     "data": {
      "text/html": [
       "<table><tr><th>0<td style=\"text-align:left\"><pre>E -> Eh Ets</pre>\n",
       "<tr><th>1<td style=\"text-align:left\"><pre>E -> Eh #</pre>\n",
       "<tr><th>2<td style=\"text-align:left\"><pre>Eh -> T</pre>\n",
       "<tr><th>3<td style=\"text-align:left\"><pre>Ets -> Et Ets</pre>\n",
       "<tr><th>4<td style=\"text-align:left\"><pre>Ets -> Et #</pre>\n",
       "<tr><th>5<td style=\"text-align:left\"><pre>Et -> + T</pre>\n",
       "<tr><th>6<td style=\"text-align:left\"><pre>Et -> - T</pre>\n",
       "<tr><th>7<td style=\"text-align:left\"><pre>T -> t</pre></table>"
      ],
      "text/plain": [
       "<IPython.core.display.HTML object>"
      ]
     },
     "execution_count": 7,
     "metadata": {},
     "output_type": "execute_result"
    }
   ],
   "source": [
    "iter2table(G.P)"
   ]
  },
  {
   "cell_type": "code",
   "execution_count": 8,
   "metadata": {},
   "outputs": [],
   "source": [
    "@show_calls(True)\n",
    "def match(X, rest): # returns: succ, rest, lm_steps\n",
    "\n",
    "    if X in G.T:\n",
    "        \n",
    "        if rest and rest[0] == X: return True, rest[1:]\n",
    "        return False, rest\n",
    "\n",
    "    elif X == 'T':\n",
    "\n",
    "        s, r = match('t', rest)\n",
    "        if s: return True, r, [7]\n",
    "        \n",
    "    elif X == 'Eh':\n",
    "        \n",
    "        s, r, p = match('T', rest)\n",
    "        if s: return True, r, [2] + p\n",
    "\n",
    "    elif X == 'Et':\n",
    "        \n",
    "        s, r = match('+', rest)\n",
    "        if s:\n",
    "            s, r, p = match('T', r)\n",
    "            if s: return True, r, [5] + p\n",
    "        s, r = match('-', rest)\n",
    "        if s: \n",
    "            s, r, p = match('T', r)\n",
    "            if s: return True, r, [6] + p\n",
    "            \n",
    "    elif X == 'Ets':\n",
    "        \n",
    "        s0, r0, p0 = match('Et', rest)\n",
    "        if s0:\n",
    "            s1, r1 = match('#', r0)\n",
    "            if s1: return True, r1, [4] + p0\n",
    "            s2, r2, p2 = match('Ets', r0)\n",
    "            if s2: return True, r2, [3] + p0 + p2\n",
    "\n",
    "    elif X == 'E':\n",
    "\n",
    "        s0, r0, p0 = match('Eh', rest)\n",
    "        if s0:\n",
    "            s1, r1 = match('#', r0)\n",
    "            if s1: return True, r1, [1] + p0\n",
    "            s2, r2, p2 = match('Ets', r0)\n",
    "            if s2: return True, r2, [0] + p0 + p2\n",
    "\n",
    "    return False, rest, []        "
   ]
  },
  {
   "cell_type": "code",
   "execution_count": 9,
   "metadata": {},
   "outputs": [
    {
     "name": "stdout",
     "output_type": "stream",
     "text": [
      "┌match('E', 't+t+t#')\n",
      "│┌match('Eh', 't+t+t#')\n",
      "││┌match('T', 't+t+t#')\n",
      "│││┌match('t', 't+t+t#')\n",
      "│││└─ (True, '+t+t#')\n",
      "││└─ (True, '+t+t#', [7])\n",
      "│└─ (True, '+t+t#', [2, 7])\n",
      "│┌match('#', '+t+t#')\n",
      "│└─ (False, '+t+t#')\n",
      "│┌match('Ets', '+t+t#')\n",
      "││┌match('Et', '+t+t#')\n",
      "│││┌match('+', '+t+t#')\n",
      "│││└─ (True, 't+t#')\n",
      "│││┌match('T', 't+t#')\n",
      "││││┌match('t', 't+t#')\n",
      "││││└─ (True, '+t#')\n",
      "│││└─ (True, '+t#', [7])\n",
      "││└─ (True, '+t#', [5, 7])\n",
      "││┌match('#', '+t#')\n",
      "││└─ (False, '+t#')\n",
      "││┌match('Ets', '+t#')\n",
      "│││┌match('Et', '+t#')\n",
      "││││┌match('+', '+t#')\n",
      "││││└─ (True, 't#')\n",
      "││││┌match('T', 't#')\n",
      "│││││┌match('t', 't#')\n",
      "│││││└─ (True, '#')\n",
      "││││└─ (True, '#', [7])\n",
      "│││└─ (True, '#', [5, 7])\n",
      "│││┌match('#', '#')\n",
      "│││└─ (True, '')\n",
      "││└─ (True, '', [4, 5, 7])\n",
      "│└─ (True, '', [3, 5, 7, 4, 5, 7])\n",
      "└─ (True, '', [0, 2, 7, 3, 5, 7, 4, 5, 7])\n"
     ]
    }
   ],
   "source": [
    "_, _, lm_steps = match('E', 't+t+t#')"
   ]
  },
  {
   "cell_type": "code",
   "execution_count": 10,
   "metadata": {},
   "outputs": [
    {
     "name": "stdout",
     "output_type": "stream",
     "text": [
      "[0, 2, 7, 3, 5, 7, 4, 5, 7]\n"
     ]
    },
    {
     "data": {
      "image/svg+xml": [
       "<?xml version=\"1.0\" encoding=\"UTF-8\" standalone=\"no\"?>\n",
       "<!DOCTYPE svg PUBLIC \"-//W3C//DTD SVG 1.1//EN\"\n",
       " \"http://www.w3.org/Graphics/SVG/1.1/DTD/svg11.dtd\">\n",
       "<!-- Generated by graphviz version 2.40.1 (20161225.0304)\n",
       " -->\n",
       "<!-- Title: %3 Pages: 1 -->\n",
       "<svg width=\"253pt\" height=\"390pt\"\n",
       " viewBox=\"0.00 0.00 253.26 390.00\" xmlns=\"http://www.w3.org/2000/svg\" xmlns:xlink=\"http://www.w3.org/1999/xlink\">\n",
       "<g id=\"graph0\" class=\"graph\" transform=\"scale(1 1) rotate(0) translate(4 386)\">\n",
       "<title>%3</title>\n",
       "<polygon fill=\"#ffffff\" stroke=\"transparent\" points=\"-4,4 -4,-386 249.2588,-386 249.2588,4 -4,4\"/>\n",
       "<!-- &#45;4938787556131460573 -->\n",
       "<!-- &#45;5742495936153154425 -->\n",
       "<!-- &#45;4938787556131460573&#45;&gt;&#45;5742495936153154425 -->\n",
       "<!-- 1915923407679768614 -->\n",
       "<g id=\"node2\" class=\"node\">\n",
       "<title>1915923407679768614</title>\n",
       "<path fill=\"none\" stroke=\"#000000\" stroke-width=\".25\" d=\"M147.4447,-382C147.4447,-382 142.0729,-382 142.0729,-382 139.387,-382 136.7011,-379.3141 136.7011,-376.6282 136.7011,-376.6282 136.7011,-365.3718 136.7011,-365.3718 136.7011,-362.6859 139.387,-360 142.0729,-360 142.0729,-360 147.4447,-360 147.4447,-360 150.1306,-360 152.8165,-362.6859 152.8165,-365.3718 152.8165,-365.3718 152.8165,-376.6282 152.8165,-376.6282 152.8165,-379.3141 150.1306,-382 147.4447,-382\"/>\n",
       "<text text-anchor=\"middle\" x=\"144.7588\" y=\"-366.8\" font-family=\"Times,serif\" font-size=\"14.00\" fill=\"#000000\">E</text>\n",
       "</g>\n",
       "<!-- 1870494119493536318 -->\n",
       "<g id=\"node4\" class=\"node\">\n",
       "<title>1870494119493536318</title>\n",
       "<path fill=\"none\" stroke=\"#000000\" stroke-width=\".25\" d=\"M127.9814,-342C127.9814,-342 119.5362,-342 119.5362,-342 115.8695,-342 112.2028,-338.3333 112.2028,-334.6667 112.2028,-334.6667 112.2028,-327.3333 112.2028,-327.3333 112.2028,-323.6667 115.8695,-320 119.5362,-320 119.5362,-320 127.9814,-320 127.9814,-320 131.6481,-320 135.3147,-323.6667 135.3147,-327.3333 135.3147,-327.3333 135.3147,-334.6667 135.3147,-334.6667 135.3147,-338.3333 131.6481,-342 127.9814,-342\"/>\n",
       "<text text-anchor=\"middle\" x=\"123.7588\" y=\"-326.8\" font-family=\"Times,serif\" font-size=\"14.00\" fill=\"#000000\">Eh</text>\n",
       "</g>\n",
       "<!-- 1915923407679768614&#45;&gt;1870494119493536318 -->\n",
       "<g id=\"edge2\" class=\"edge\">\n",
       "<title>1915923407679768614&#45;&gt;1870494119493536318</title>\n",
       "<path fill=\"none\" stroke=\"#000000\" stroke-width=\".5\" d=\"M138.7972,-359.6446C135.9355,-354.1937 132.5168,-347.6819 129.6626,-342.2453\"/>\n",
       "</g>\n",
       "<!-- &#45;4350176131684141211 -->\n",
       "<g id=\"node5\" class=\"node\">\n",
       "<title>&#45;4350176131684141211</title>\n",
       "<path fill=\"none\" stroke=\"#000000\" stroke-width=\".25\" d=\"M172.3153,-342C172.3153,-342 161.2022,-342 161.2022,-342 157.5356,-342 153.8689,-338.3333 153.8689,-334.6667 153.8689,-334.6667 153.8689,-327.3333 153.8689,-327.3333 153.8689,-323.6667 157.5356,-320 161.2022,-320 161.2022,-320 172.3153,-320 172.3153,-320 175.982,-320 179.6487,-323.6667 179.6487,-327.3333 179.6487,-327.3333 179.6487,-334.6667 179.6487,-334.6667 179.6487,-338.3333 175.982,-342 172.3153,-342\"/>\n",
       "<text text-anchor=\"middle\" x=\"166.7588\" y=\"-326.8\" font-family=\"Times,serif\" font-size=\"14.00\" fill=\"#000000\">Ets</text>\n",
       "</g>\n",
       "<!-- 1915923407679768614&#45;&gt;&#45;4350176131684141211 -->\n",
       "<g id=\"edge3\" class=\"edge\">\n",
       "<title>1915923407679768614&#45;&gt;&#45;4350176131684141211</title>\n",
       "<path fill=\"none\" stroke=\"#000000\" stroke-width=\".5\" d=\"M151.0043,-359.6446C154.0023,-354.1937 157.5838,-347.6819 160.5738,-342.2453\"/>\n",
       "</g>\n",
       "<!-- 5377432773257121162 -->\n",
       "<!-- &#45;5742495936153154425&#45;&gt;5377432773257121162 -->\n",
       "<!-- 1870494119493536318&#45;&gt;&#45;4350176131684141211 -->\n",
       "<!-- &#45;6303011645354679609 -->\n",
       "<g id=\"node7\" class=\"node\">\n",
       "<title>&#45;6303011645354679609</title>\n",
       "<path fill=\"none\" stroke=\"#000000\" stroke-width=\".25\" d=\"M126.4447,-302C126.4447,-302 121.0729,-302 121.0729,-302 118.387,-302 115.7011,-299.3141 115.7011,-296.6282 115.7011,-296.6282 115.7011,-285.3718 115.7011,-285.3718 115.7011,-282.6859 118.387,-280 121.0729,-280 121.0729,-280 126.4447,-280 126.4447,-280 129.1306,-280 131.8165,-282.6859 131.8165,-285.3718 131.8165,-285.3718 131.8165,-296.6282 131.8165,-296.6282 131.8165,-299.3141 129.1306,-302 126.4447,-302\"/>\n",
       "<text text-anchor=\"middle\" x=\"123.7588\" y=\"-286.8\" font-family=\"Times,serif\" font-size=\"14.00\" fill=\"#000000\">T</text>\n",
       "</g>\n",
       "<!-- 1870494119493536318&#45;&gt;&#45;6303011645354679609 -->\n",
       "<g id=\"edge6\" class=\"edge\">\n",
       "<title>1870494119493536318&#45;&gt;&#45;6303011645354679609</title>\n",
       "<path fill=\"none\" stroke=\"#000000\" stroke-width=\".5\" d=\"M123.7588,-319.6446C123.7588,-314.1937 123.7588,-307.6819 123.7588,-302.2453\"/>\n",
       "</g>\n",
       "<!-- 611894734766112746 -->\n",
       "<g id=\"node11\" class=\"node\">\n",
       "<title>611894734766112746</title>\n",
       "<path fill=\"none\" stroke=\"#000000\" stroke-width=\".25\" d=\"M165.2409,-222C165.2409,-222 158.2767,-222 158.2767,-222 154.7946,-222 151.3125,-218.5179 151.3125,-215.0358 151.3125,-215.0358 151.3125,-206.9642 151.3125,-206.9642 151.3125,-203.4821 154.7946,-200 158.2767,-200 158.2767,-200 165.2409,-200 165.2409,-200 168.723,-200 172.2051,-203.4821 172.2051,-206.9642 172.2051,-206.9642 172.2051,-215.0358 172.2051,-215.0358 172.2051,-218.5179 168.723,-222 165.2409,-222\"/>\n",
       "<text text-anchor=\"middle\" x=\"161.7588\" y=\"-206.8\" font-family=\"Times,serif\" font-size=\"14.00\" fill=\"#000000\">Et</text>\n",
       "</g>\n",
       "<!-- &#45;4350176131684141211&#45;&gt;611894734766112746 -->\n",
       "<g id=\"edge10\" class=\"edge\">\n",
       "<title>&#45;4350176131684141211&#45;&gt;611894734766112746</title>\n",
       "<path fill=\"none\" stroke=\"#000000\" stroke-width=\".5\" d=\"M166.2974,-319.9258C165.3448,-297.0653 163.1707,-244.885 162.2191,-222.0475\"/>\n",
       "</g>\n",
       "<!-- &#45;4350182437666805228 -->\n",
       "<g id=\"node12\" class=\"node\">\n",
       "<title>&#45;4350182437666805228</title>\n",
       "<path fill=\"none\" stroke=\"#000000\" stroke-width=\".25\" d=\"M208.3153,-222C208.3153,-222 197.2022,-222 197.2022,-222 193.5356,-222 189.8689,-218.3333 189.8689,-214.6667 189.8689,-214.6667 189.8689,-207.3333 189.8689,-207.3333 189.8689,-203.6667 193.5356,-200 197.2022,-200 197.2022,-200 208.3153,-200 208.3153,-200 211.982,-200 215.6487,-203.6667 215.6487,-207.3333 215.6487,-207.3333 215.6487,-214.6667 215.6487,-214.6667 215.6487,-218.3333 211.982,-222 208.3153,-222\"/>\n",
       "<text text-anchor=\"middle\" x=\"202.7588\" y=\"-206.8\" font-family=\"Times,serif\" font-size=\"14.00\" fill=\"#000000\">Ets</text>\n",
       "</g>\n",
       "<!-- &#45;4350176131684141211&#45;&gt;&#45;4350182437666805228 -->\n",
       "<g id=\"edge11\" class=\"edge\">\n",
       "<title>&#45;4350176131684141211&#45;&gt;&#45;4350182437666805228</title>\n",
       "<path fill=\"none\" stroke=\"#000000\" stroke-width=\".5\" d=\"M172.285,-319.8911C174.7915,-314.5666 177.6577,-308.0455 179.7588,-302 189.5485,-273.8321 197.095,-239.4344 200.6029,-222.1073\"/>\n",
       "</g>\n",
       "<!-- &#45;4687070722404661114 -->\n",
       "<!-- 5377432773257121162&#45;&gt;&#45;4687070722404661114 -->\n",
       "<!-- 520123806008304757 -->\n",
       "<g id=\"node9\" class=\"node\">\n",
       "<title>520123806008304757</title>\n",
       "<path fill=\"none\" stroke=\"#000000\" stroke-width=\"1.25\" d=\"M125.7222,-262C125.7222,-262 121.7954,-262 121.7954,-262 119.832,-262 117.8686,-260.0366 117.8686,-258.0732 117.8686,-258.0732 117.8686,-243.9268 117.8686,-243.9268 117.8686,-241.9634 119.832,-240 121.7954,-240 121.7954,-240 125.7222,-240 125.7222,-240 127.6856,-240 129.6489,-241.9634 129.6489,-243.9268 129.6489,-243.9268 129.6489,-258.0732 129.6489,-258.0732 129.6489,-260.0366 127.6856,-262 125.7222,-262\"/>\n",
       "<text text-anchor=\"middle\" x=\"123.7588\" y=\"-246.8\" font-family=\"Times,serif\" font-size=\"14.00\" fill=\"#000000\">t</text>\n",
       "</g>\n",
       "<!-- &#45;6303011645354679609&#45;&gt;520123806008304757 -->\n",
       "<g id=\"edge8\" class=\"edge\">\n",
       "<title>&#45;6303011645354679609&#45;&gt;520123806008304757</title>\n",
       "<path fill=\"none\" stroke=\"#000000\" stroke-width=\".5\" d=\"M123.7588,-279.6446C123.7588,-274.1937 123.7588,-267.6819 123.7588,-262.2453\"/>\n",
       "</g>\n",
       "<!-- 1022845861339170416 -->\n",
       "<!-- &#45;4687070722404661114&#45;&gt;1022845861339170416 -->\n",
       "<!-- &#45;5089767618595707965 -->\n",
       "<!-- 1022845861339170416&#45;&gt;&#45;5089767618595707965 -->\n",
       "<!-- 611894734766112746&#45;&gt;&#45;4350182437666805228 -->\n",
       "<!-- &#45;5898301061464892362 -->\n",
       "<g id=\"node14\" class=\"node\">\n",
       "<title>&#45;5898301061464892362</title>\n",
       "<path fill=\"none\" stroke=\"#000000\" stroke-width=\"1.25\" d=\"M132.3907,-182C132.3907,-182 127.1268,-182 127.1268,-182 124.4949,-182 121.8629,-179.3681 121.8629,-176.7361 121.8629,-176.7361 121.8629,-165.2639 121.8629,-165.2639 121.8629,-162.6319 124.4949,-160 127.1268,-160 127.1268,-160 132.3907,-160 132.3907,-160 135.0227,-160 137.6546,-162.6319 137.6546,-165.2639 137.6546,-165.2639 137.6546,-176.7361 137.6546,-176.7361 137.6546,-179.3681 135.0227,-182 132.3907,-182\"/>\n",
       "<text text-anchor=\"middle\" x=\"129.7588\" y=\"-166.8\" font-family=\"Times,serif\" font-size=\"14.00\" fill=\"#000000\">+</text>\n",
       "</g>\n",
       "<!-- 611894734766112746&#45;&gt;&#45;5898301061464892362 -->\n",
       "<g id=\"edge14\" class=\"edge\">\n",
       "<title>611894734766112746&#45;&gt;&#45;5898301061464892362</title>\n",
       "<path fill=\"none\" stroke=\"#000000\" stroke-width=\".5\" d=\"M152.6745,-199.6446C147.9442,-193.7317 142.2152,-186.5706 137.6689,-180.8876\"/>\n",
       "</g>\n",
       "<!-- &#45;6303012906552843481 -->\n",
       "<g id=\"node15\" class=\"node\">\n",
       "<title>&#45;6303012906552843481</title>\n",
       "<path fill=\"none\" stroke=\"#000000\" stroke-width=\".25\" d=\"M166.4447,-182C166.4447,-182 161.0729,-182 161.0729,-182 158.387,-182 155.7011,-179.3141 155.7011,-176.6282 155.7011,-176.6282 155.7011,-165.3718 155.7011,-165.3718 155.7011,-162.6859 158.387,-160 161.0729,-160 161.0729,-160 166.4447,-160 166.4447,-160 169.1306,-160 171.8165,-162.6859 171.8165,-165.3718 171.8165,-165.3718 171.8165,-176.6282 171.8165,-176.6282 171.8165,-179.3141 169.1306,-182 166.4447,-182\"/>\n",
       "<text text-anchor=\"middle\" x=\"163.7588\" y=\"-166.8\" font-family=\"Times,serif\" font-size=\"14.00\" fill=\"#000000\">T</text>\n",
       "</g>\n",
       "<!-- 611894734766112746&#45;&gt;&#45;6303012906552843481 -->\n",
       "<g id=\"edge15\" class=\"edge\">\n",
       "<title>611894734766112746&#45;&gt;&#45;6303012906552843481</title>\n",
       "<path fill=\"none\" stroke=\"#000000\" stroke-width=\".5\" d=\"M162.3266,-199.6446C162.5991,-194.1937 162.9247,-187.6819 163.1965,-182.2453\"/>\n",
       "</g>\n",
       "<!-- 611895995963111569 -->\n",
       "<g id=\"node19\" class=\"node\">\n",
       "<title>611895995963111569</title>\n",
       "<path fill=\"none\" stroke=\"#000000\" stroke-width=\".25\" d=\"M204.2409,-102C204.2409,-102 197.2767,-102 197.2767,-102 193.7946,-102 190.3125,-98.5179 190.3125,-95.0358 190.3125,-95.0358 190.3125,-86.9642 190.3125,-86.9642 190.3125,-83.4821 193.7946,-80 197.2767,-80 197.2767,-80 204.2409,-80 204.2409,-80 207.723,-80 211.2051,-83.4821 211.2051,-86.9642 211.2051,-86.9642 211.2051,-95.0358 211.2051,-95.0358 211.2051,-98.5179 207.723,-102 204.2409,-102\"/>\n",
       "<text text-anchor=\"middle\" x=\"200.7588\" y=\"-86.8\" font-family=\"Times,serif\" font-size=\"14.00\" fill=\"#000000\">Et</text>\n",
       "</g>\n",
       "<!-- &#45;4350182437666805228&#45;&gt;611895995963111569 -->\n",
       "<g id=\"edge20\" class=\"edge\">\n",
       "<title>&#45;4350182437666805228&#45;&gt;611895995963111569</title>\n",
       "<path fill=\"none\" stroke=\"#000000\" stroke-width=\".5\" d=\"M202.5742,-199.9258C202.1932,-177.0653 201.3235,-124.885 200.9429,-102.0475\"/>\n",
       "</g>\n",
       "<!-- 589810184847372036 -->\n",
       "<g id=\"node20\" class=\"node\">\n",
       "<title>589810184847372036</title>\n",
       "<path fill=\"none\" stroke=\"#000000\" stroke-width=\"1.25\" d=\"M240.2588,-102C240.2588,-102 235.2588,-102 235.2588,-102 232.7588,-102 230.2588,-99.5 230.2588,-97 230.2588,-97 230.2588,-85 230.2588,-85 230.2588,-82.5 232.7588,-80 235.2588,-80 235.2588,-80 240.2588,-80 240.2588,-80 242.7588,-80 245.2588,-82.5 245.2588,-85 245.2588,-85 245.2588,-97 245.2588,-97 245.2588,-99.5 242.7588,-102 240.2588,-102\"/>\n",
       "<text text-anchor=\"middle\" x=\"237.7588\" y=\"-86.8\" font-family=\"Times,serif\" font-size=\"14.00\" fill=\"#000000\">#</text>\n",
       "</g>\n",
       "<!-- &#45;4350182437666805228&#45;&gt;589810184847372036 -->\n",
       "<g id=\"edge21\" class=\"edge\">\n",
       "<title>&#45;4350182437666805228&#45;&gt;589810184847372036</title>\n",
       "<path fill=\"none\" stroke=\"#000000\" stroke-width=\".5\" d=\"M208.3131,-199.9007C210.8258,-194.5784 213.689,-188.0563 215.7588,-182 225.3779,-153.854 232.4867,-119.4468 235.7588,-102.1127\"/>\n",
       "</g>\n",
       "<!-- &#45;631342069449957630 -->\n",
       "<!-- &#45;5089767618595707965&#45;&gt;&#45;631342069449957630 -->\n",
       "<!-- &#45;5898301061464892362&#45;&gt;&#45;6303012906552843481 -->\n",
       "<!-- 520120022417308288 -->\n",
       "<g id=\"node17\" class=\"node\">\n",
       "<title>520120022417308288</title>\n",
       "<path fill=\"none\" stroke=\"#000000\" stroke-width=\"1.25\" d=\"M165.7222,-142C165.7222,-142 161.7954,-142 161.7954,-142 159.832,-142 157.8686,-140.0366 157.8686,-138.0732 157.8686,-138.0732 157.8686,-123.9268 157.8686,-123.9268 157.8686,-121.9634 159.832,-120 161.7954,-120 161.7954,-120 165.7222,-120 165.7222,-120 167.6856,-120 169.6489,-121.9634 169.6489,-123.9268 169.6489,-123.9268 169.6489,-138.0732 169.6489,-138.0732 169.6489,-140.0366 167.6856,-142 165.7222,-142\"/>\n",
       "<text text-anchor=\"middle\" x=\"163.7588\" y=\"-126.8\" font-family=\"Times,serif\" font-size=\"14.00\" fill=\"#000000\">t</text>\n",
       "</g>\n",
       "<!-- &#45;6303012906552843481&#45;&gt;520120022417308288 -->\n",
       "<g id=\"edge18\" class=\"edge\">\n",
       "<title>&#45;6303012906552843481&#45;&gt;520120022417308288</title>\n",
       "<path fill=\"none\" stroke=\"#000000\" stroke-width=\".5\" d=\"M163.7588,-159.6446C163.7588,-154.1937 163.7588,-147.6819 163.7588,-142.2453\"/>\n",
       "</g>\n",
       "<!-- 5937171409238462347 -->\n",
       "<!-- &#45;631342069449957630&#45;&gt;5937171409238462347 -->\n",
       "<!-- &#45;3120078938480711555 -->\n",
       "<!-- 5937171409238462347&#45;&gt;&#45;3120078938480711555 -->\n",
       "<!-- 611895995963111569&#45;&gt;589810184847372036 -->\n",
       "<!-- &#45;5898317457025877061 -->\n",
       "<g id=\"node22\" class=\"node\">\n",
       "<title>&#45;5898317457025877061</title>\n",
       "<path fill=\"none\" stroke=\"#000000\" stroke-width=\"1.25\" d=\"M186.3907,-62C186.3907,-62 181.1268,-62 181.1268,-62 178.4949,-62 175.8629,-59.3681 175.8629,-56.7361 175.8629,-56.7361 175.8629,-45.2639 175.8629,-45.2639 175.8629,-42.6319 178.4949,-40 181.1268,-40 181.1268,-40 186.3907,-40 186.3907,-40 189.0227,-40 191.6546,-42.6319 191.6546,-45.2639 191.6546,-45.2639 191.6546,-56.7361 191.6546,-56.7361 191.6546,-59.3681 189.0227,-62 186.3907,-62\"/>\n",
       "<text text-anchor=\"middle\" x=\"183.7588\" y=\"-46.8\" font-family=\"Times,serif\" font-size=\"14.00\" fill=\"#000000\">+</text>\n",
       "</g>\n",
       "<!-- 611895995963111569&#45;&gt;&#45;5898317457025877061 -->\n",
       "<g id=\"edge24\" class=\"edge\">\n",
       "<title>611895995963111569&#45;&gt;&#45;5898317457025877061</title>\n",
       "<path fill=\"none\" stroke=\"#000000\" stroke-width=\".5\" d=\"M195.9327,-79.6446C193.6161,-74.1937 190.8486,-67.6819 188.5381,-62.2453\"/>\n",
       "</g>\n",
       "<!-- &#45;6302999033383526330 -->\n",
       "<g id=\"node23\" class=\"node\">\n",
       "<title>&#45;6302999033383526330</title>\n",
       "<path fill=\"none\" stroke=\"#000000\" stroke-width=\".25\" d=\"M220.4447,-62C220.4447,-62 215.0729,-62 215.0729,-62 212.387,-62 209.7011,-59.3141 209.7011,-56.6282 209.7011,-56.6282 209.7011,-45.3718 209.7011,-45.3718 209.7011,-42.6859 212.387,-40 215.0729,-40 215.0729,-40 220.4447,-40 220.4447,-40 223.1306,-40 225.8165,-42.6859 225.8165,-45.3718 225.8165,-45.3718 225.8165,-56.6282 225.8165,-56.6282 225.8165,-59.3141 223.1306,-62 220.4447,-62\"/>\n",
       "<text text-anchor=\"middle\" x=\"217.7588\" y=\"-46.8\" font-family=\"Times,serif\" font-size=\"14.00\" fill=\"#000000\">T</text>\n",
       "</g>\n",
       "<!-- 611895995963111569&#45;&gt;&#45;6302999033383526330 -->\n",
       "<g id=\"edge25\" class=\"edge\">\n",
       "<title>611895995963111569&#45;&gt;&#45;6302999033383526330</title>\n",
       "<path fill=\"none\" stroke=\"#000000\" stroke-width=\".5\" d=\"M205.5848,-79.6446C207.9015,-74.1937 210.669,-67.6819 212.9795,-62.2453\"/>\n",
       "</g>\n",
       "<!-- 6020239754397188490 -->\n",
       "<!-- &#45;3120078938480711555&#45;&gt;6020239754397188490 -->\n",
       "<!-- &#45;5898317457025877061&#45;&gt;&#45;6302999033383526330 -->\n",
       "<!-- 520131373190297695 -->\n",
       "<g id=\"node25\" class=\"node\">\n",
       "<title>520131373190297695</title>\n",
       "<path fill=\"none\" stroke=\"#000000\" stroke-width=\"1.25\" d=\"M219.7222,-22C219.7222,-22 215.7954,-22 215.7954,-22 213.832,-22 211.8686,-20.0366 211.8686,-18.0732 211.8686,-18.0732 211.8686,-3.9268 211.8686,-3.9268 211.8686,-1.9634 213.832,0 215.7954,0 215.7954,0 219.7222,0 219.7222,0 221.6856,0 223.6489,-1.9634 223.6489,-3.9268 223.6489,-3.9268 223.6489,-18.0732 223.6489,-18.0732 223.6489,-20.0366 221.6856,-22 219.7222,-22\"/>\n",
       "<text text-anchor=\"middle\" x=\"217.7588\" y=\"-6.8\" font-family=\"Times,serif\" font-size=\"14.00\" fill=\"#000000\">t</text>\n",
       "</g>\n",
       "<!-- &#45;6302999033383526330&#45;&gt;520131373190297695 -->\n",
       "<g id=\"edge28\" class=\"edge\">\n",
       "<title>&#45;6302999033383526330&#45;&gt;520131373190297695</title>\n",
       "<path fill=\"none\" stroke=\"#000000\" stroke-width=\".5\" d=\"M217.7588,-39.6446C217.7588,-34.1937 217.7588,-27.6819 217.7588,-22.2453\"/>\n",
       "</g>\n",
       "</g>\n",
       "</svg>\n"
      ],
      "text/plain": [
       "ProductionGraph(E -> Eh Ets -> T Ets -> t Ets -> t Et Ets -> t + T Ets -> t + t Ets -> t + t Et # -> t + t + T # -> t + t + t #)"
      ]
     },
     "execution_count": 10,
     "metadata": {},
     "output_type": "execute_result"
    }
   ],
   "source": [
    "print(lm_steps)\n",
    "d = Derivation(G)\n",
    "for s in lm_steps: d = d.leftmost(s)\n",
    "ProductionGraph(d)"
   ]
  },
  {
   "cell_type": "markdown",
   "metadata": {},
   "source": [
    "## Una grammatica per somme e prodotti (non prefix-free)"
   ]
  },
  {
   "cell_type": "code",
   "execution_count": 11,
   "metadata": {},
   "outputs": [],
   "source": [
    "# ricorsiva\n",
    "\n",
    "\"\"\"\n",
    "E -> E + T | E - T | T\n",
    "T -> T * F | T / F | F\n",
    "F -> f\n",
    "\"\"\";"
   ]
  },
  {
   "cell_type": "code",
   "execution_count": 12,
   "metadata": {},
   "outputs": [],
   "source": [
    "# non ricorsiva\n",
    "\n",
    "Gsp = Grammar.from_string(\"\"\"\n",
    "E -> Eh Ets | Eh\n",
    "Eh -> T\n",
    "Ets -> Et Ets | Et\n",
    "Et -> + T | - T\n",
    "T -> Th Tts | Th\n",
    "Th -> F\n",
    "Tts -> Tt Tts | Tt\n",
    "Tt -> * F | / F\n",
    "F -> f\n",
    "\"\"\")"
   ]
  },
  {
   "cell_type": "code",
   "execution_count": 13,
   "metadata": {},
   "outputs": [],
   "source": [
    "@show_calls(True)\n",
    "def match(X, rest):\n",
    "\n",
    "    if X in Gsp.T:\n",
    "        \n",
    "        if rest and rest[0] == X: return True, rest[1:]\n",
    "        return False, rest\n",
    "\n",
    "    elif X == 'F':\n",
    "        \n",
    "        return match('f', rest)\n",
    "\n",
    "    elif X == 'Th':\n",
    "\n",
    "        return match('F', rest)\n",
    "    \n",
    "    elif X == 'Tt':\n",
    "\n",
    "        s, r = match('*', rest)\n",
    "        if s: return match('F', r)\n",
    "        s, r = match('/', rest)\n",
    "        if s: return match('F', r)\n",
    "        \n",
    "    elif X == 'Tts':\n",
    "\n",
    "        s0, r0 = match('Tt', rest)\n",
    "        if s0 and r0: \n",
    "            s1, r1 = match('Tts', r0)\n",
    "            if s1: return s1, r1\n",
    "        return s0, r0\n",
    "    \n",
    "    elif X == 'T':\n",
    "\n",
    "        s0, r0 = match('Th', rest)\n",
    "        if s0 and r0: \n",
    "            s1, r1 = match('Tts', r0)\n",
    "            if s1: return s1, r1\n",
    "        return s0, r0\n",
    "    \n",
    "    elif X == 'Eh':\n",
    "\n",
    "        return match('T', rest)\n",
    "    \n",
    "    elif X == 'Et':\n",
    "\n",
    "        s, r = match('+', rest)\n",
    "        if s: return match('T', r)\n",
    "        s, r = match('-', rest)\n",
    "        if s: return match('T', r)\n",
    "        \n",
    "    elif X == 'Ets':\n",
    "\n",
    "        s0, r0 = match('Et', rest)\n",
    "        if s0 and r0: \n",
    "            s1, r1 = match('Ets', r0)\n",
    "            if s1: return s1, r1\n",
    "        return s0, r0\n",
    "    \n",
    "    elif X == 'E':\n",
    "\n",
    "        s0, r0 = match('Eh', rest)\n",
    "        if s0 and r0: \n",
    "            s1, r1 = match('Ets', r0)\n",
    "            if s1: return s1, r1\n",
    "        return s0, r0\n",
    "    \n",
    "    return False, rest        "
   ]
  },
  {
   "cell_type": "code",
   "execution_count": 14,
   "metadata": {},
   "outputs": [
    {
     "name": "stdout",
     "output_type": "stream",
     "text": [
      "┌match('E', 'f*f+f*f')\n",
      "│┌match('Eh', 'f*f+f*f')\n",
      "││┌match('T', 'f*f+f*f')\n",
      "│││┌match('Th', 'f*f+f*f')\n",
      "││││┌match('F', 'f*f+f*f')\n",
      "│││││┌match('f', 'f*f+f*f')\n",
      "│││││└─ (True, '*f+f*f')\n",
      "││││└─ (True, '*f+f*f')\n",
      "│││└─ (True, '*f+f*f')\n",
      "│││┌match('Tts', '*f+f*f')\n",
      "││││┌match('Tt', '*f+f*f')\n",
      "│││││┌match('*', '*f+f*f')\n",
      "│││││└─ (True, 'f+f*f')\n",
      "│││││┌match('F', 'f+f*f')\n",
      "││││││┌match('f', 'f+f*f')\n",
      "││││││└─ (True, '+f*f')\n",
      "│││││└─ (True, '+f*f')\n",
      "││││└─ (True, '+f*f')\n",
      "││││┌match('Tts', '+f*f')\n",
      "│││││┌match('Tt', '+f*f')\n",
      "││││││┌match('*', '+f*f')\n",
      "││││││└─ (False, '+f*f')\n",
      "││││││┌match('/', '+f*f')\n",
      "││││││└─ (False, '+f*f')\n",
      "│││││└─ (False, '+f*f')\n",
      "││││└─ (False, '+f*f')\n",
      "│││└─ (True, '+f*f')\n",
      "││└─ (True, '+f*f')\n",
      "│└─ (True, '+f*f')\n",
      "│┌match('Ets', '+f*f')\n",
      "││┌match('Et', '+f*f')\n",
      "│││┌match('+', '+f*f')\n",
      "│││└─ (True, 'f*f')\n",
      "│││┌match('T', 'f*f')\n",
      "││││┌match('Th', 'f*f')\n",
      "│││││┌match('F', 'f*f')\n",
      "││││││┌match('f', 'f*f')\n",
      "││││││└─ (True, '*f')\n",
      "│││││└─ (True, '*f')\n",
      "││││└─ (True, '*f')\n",
      "││││┌match('Tts', '*f')\n",
      "│││││┌match('Tt', '*f')\n",
      "││││││┌match('*', '*f')\n",
      "││││││└─ (True, 'f')\n",
      "││││││┌match('F', 'f')\n",
      "│││││││┌match('f', 'f')\n",
      "│││││││└─ (True, '')\n",
      "││││││└─ (True, '')\n",
      "│││││└─ (True, '')\n",
      "││││└─ (True, '')\n",
      "│││└─ (True, '')\n",
      "││└─ (True, '')\n",
      "│└─ (True, '')\n",
      "└─ (True, '')\n"
     ]
    },
    {
     "data": {
      "text/plain": [
       "(True, '')"
      ]
     },
     "execution_count": 14,
     "metadata": {},
     "output_type": "execute_result"
    }
   ],
   "source": [
    "match('E', 'f*f+f*f')"
   ]
  },
  {
   "cell_type": "markdown",
   "metadata": {},
   "source": [
    "# Un generatore di parser"
   ]
  },
  {
   "cell_type": "code",
   "execution_count": 15,
   "metadata": {},
   "outputs": [],
   "source": [
    "# prima alternativa per Ets\n",
    "\n",
    "\"Ets -> Et Ets\"\n",
    "\n",
    "def Ets_alt0(rest):\n",
    "    succ, rest = parse('Et', rest)\n",
    "    if not succ: return False, rest\n",
    "    succ, rest = parse('Ets', rest)\n",
    "    if not succ: return False, rest\n",
    "    return True, rest"
   ]
  },
  {
   "cell_type": "code",
   "execution_count": 16,
   "metadata": {},
   "outputs": [],
   "source": [
    "# seconda alternativa per Ets\n",
    "\n",
    "\"Ets -> Et #\"\n",
    "\n",
    "def Ets_alt1(rest):\n",
    "    succ, rest = parse('Et', rest)\n",
    "    if not succ: return False, rest\n",
    "    succ, rest = match('#', rest)\n",
    "    if not succ: return False, rest\n",
    "    return True, rest"
   ]
  },
  {
   "cell_type": "code",
   "execution_count": 17,
   "metadata": {},
   "outputs": [],
   "source": [
    "# parse di Ets\n",
    "\n",
    "\"Ets -> Et Ets | Et #\"\n",
    "\n",
    "def match(N, rest):\n",
    "    if N == 'Ets':\n",
    "        succ_alt, rest_alt = Ets_alt0(rest)\n",
    "        if succ_alt: return True, rest_alt\n",
    "        succ_alt, rest_alt = Ets_alt1(rest)\n",
    "        if succ_alt: return True, rest_alt\n",
    "        return False, rest"
   ]
  },
  {
   "cell_type": "code",
   "execution_count": 18,
   "metadata": {},
   "outputs": [],
   "source": [
    "def make_match_source(G):\n",
    "    code_ifs = []\n",
    "    code_defs = []\n",
    "    code_ifs = ['\\tif X in {}:\\n\\t\\tif rest and rest[0] == X: return True, rest[1:]\\n\\t\\treturn False, rest'.format(G.T)]\n",
    "    for A in G.N:\n",
    "        code_ifs.append(\"\\tif X == '{}':\".format(A))\n",
    "        for n, α in enumerate(G.alternatives(A)):\n",
    "            code_defs.append(\"\\tdef {}_alt{}(rest):\".format(A, n, A, n))\n",
    "            for X in α:\n",
    "                if X in G.T:\n",
    "                    code_defs.append(\"\\t\\tsucc, rest = match('{}', rest)\".format(X))\n",
    "                    code_defs.append(\"\\t\\tif not succ: return False, rest\")\n",
    "                else:\n",
    "                    code_defs.append(\"\\t\\tsucc, rest = match('{}', rest)\".format(X))\n",
    "                    code_defs.append(\"\\t\\tif not succ: return False, rest\")\n",
    "            code_defs.append(\"\\t\\treturn True, rest\")\n",
    "            code_ifs.append(\"\\t\\tsucc_alt, rest_alt = {}_alt{}(rest)\".format(A, n))\n",
    "            code_ifs.append(\"\\t\\tif succ_alt: return True, rest_alt\".format(A, n))\n",
    "        code_ifs.append(\"\\t\\treturn False, rest\")\n",
    "    return '@show_calls(True)\\ndef match(X, rest):\\n' + '\\n'.join(code_defs) + '\\n' + '\\n'.join(code_ifs)"
   ]
  },
  {
   "cell_type": "code",
   "execution_count": 19,
   "metadata": {
    "scrolled": false
   },
   "outputs": [
    {
     "name": "stdout",
     "output_type": "stream",
     "text": [
      "@show_calls(True)\n",
      "def match(X, rest):\n",
      "\tdef Eh_alt0(rest):\n",
      "\t\tsucc, rest = match('T', rest)\n",
      "\t\tif not succ: return False, rest\n",
      "\t\treturn True, rest\n",
      "\tdef Ets_alt0(rest):\n",
      "\t\tsucc, rest = match('Et', rest)\n",
      "\t\tif not succ: return False, rest\n",
      "\t\tsucc, rest = match('Ets', rest)\n",
      "\t\tif not succ: return False, rest\n",
      "\t\treturn True, rest\n",
      "\tdef Ets_alt1(rest):\n",
      "\t\tsucc, rest = match('Et', rest)\n",
      "\t\tif not succ: return False, rest\n",
      "\t\tsucc, rest = match('#', rest)\n",
      "\t\tif not succ: return False, rest\n",
      "\t\treturn True, rest\n",
      "\tdef Et_alt0(rest):\n",
      "\t\tsucc, rest = match('+', rest)\n",
      "\t\tif not succ: return False, rest\n",
      "\t\tsucc, rest = match('T', rest)\n",
      "\t\tif not succ: return False, rest\n",
      "\t\treturn True, rest\n",
      "\tdef Et_alt1(rest):\n",
      "\t\tsucc, rest = match('-', rest)\n",
      "\t\tif not succ: return False, rest\n",
      "\t\tsucc, rest = match('T', rest)\n",
      "\t\tif not succ: return False, rest\n",
      "\t\treturn True, rest\n",
      "\tdef T_alt0(rest):\n",
      "\t\tsucc, rest = match('t', rest)\n",
      "\t\tif not succ: return False, rest\n",
      "\t\treturn True, rest\n",
      "\tdef E_alt0(rest):\n",
      "\t\tsucc, rest = match('Eh', rest)\n",
      "\t\tif not succ: return False, rest\n",
      "\t\tsucc, rest = match('Ets', rest)\n",
      "\t\tif not succ: return False, rest\n",
      "\t\treturn True, rest\n",
      "\tdef E_alt1(rest):\n",
      "\t\tsucc, rest = match('Eh', rest)\n",
      "\t\tif not succ: return False, rest\n",
      "\t\tsucc, rest = match('#', rest)\n",
      "\t\tif not succ: return False, rest\n",
      "\t\treturn True, rest\n",
      "\tif X in frozenset({'+', '-', '#', 't'}):\n",
      "\t\tif rest and rest[0] == X: return True, rest[1:]\n",
      "\t\treturn False, rest\n",
      "\tif X == 'Eh':\n",
      "\t\tsucc_alt, rest_alt = Eh_alt0(rest)\n",
      "\t\tif succ_alt: return True, rest_alt\n",
      "\t\treturn False, rest\n",
      "\tif X == 'Ets':\n",
      "\t\tsucc_alt, rest_alt = Ets_alt0(rest)\n",
      "\t\tif succ_alt: return True, rest_alt\n",
      "\t\tsucc_alt, rest_alt = Ets_alt1(rest)\n",
      "\t\tif succ_alt: return True, rest_alt\n",
      "\t\treturn False, rest\n",
      "\tif X == 'Et':\n",
      "\t\tsucc_alt, rest_alt = Et_alt0(rest)\n",
      "\t\tif succ_alt: return True, rest_alt\n",
      "\t\tsucc_alt, rest_alt = Et_alt1(rest)\n",
      "\t\tif succ_alt: return True, rest_alt\n",
      "\t\treturn False, rest\n",
      "\tif X == 'T':\n",
      "\t\tsucc_alt, rest_alt = T_alt0(rest)\n",
      "\t\tif succ_alt: return True, rest_alt\n",
      "\t\treturn False, rest\n",
      "\tif X == 'E':\n",
      "\t\tsucc_alt, rest_alt = E_alt0(rest)\n",
      "\t\tif succ_alt: return True, rest_alt\n",
      "\t\tsucc_alt, rest_alt = E_alt1(rest)\n",
      "\t\tif succ_alt: return True, rest_alt\n",
      "\t\treturn False, rest\n"
     ]
    }
   ],
   "source": [
    "source = make_match_source(G)\n",
    "print(source)"
   ]
  },
  {
   "cell_type": "code",
   "execution_count": 20,
   "metadata": {},
   "outputs": [],
   "source": [
    "# \"trucco\" Python per ottenere una funzione dato il suo sorgente\n",
    "\n",
    "def make_match(source):\n",
    "    glb = {'show_calls': show_calls}\n",
    "    exec(source, glb)\n",
    "    return glb['match']       "
   ]
  },
  {
   "cell_type": "code",
   "execution_count": 21,
   "metadata": {},
   "outputs": [
    {
     "name": "stdout",
     "output_type": "stream",
     "text": [
      "┌match('E', 't#')\n",
      "│┌match('Eh', 't#')\n",
      "││┌match('T', 't#')\n",
      "│││┌match('t', 't#')\n",
      "│││└─ (True, '#')\n",
      "││└─ (True, '#')\n",
      "│└─ (True, '#')\n",
      "│┌match('Ets', '#')\n",
      "││┌match('Et', '#')\n",
      "│││┌match('+', '#')\n",
      "│││└─ (False, '#')\n",
      "│││┌match('-', '#')\n",
      "│││└─ (False, '#')\n",
      "││└─ (False, '#')\n",
      "││┌match('Et', '#')\n",
      "│││┌match('+', '#')\n",
      "│││└─ (False, '#')\n",
      "│││┌match('-', '#')\n",
      "│││└─ (False, '#')\n",
      "││└─ (False, '#')\n",
      "│└─ (False, '#')\n",
      "│┌match('Eh', 't#')\n",
      "││┌match('T', 't#')\n",
      "│││┌match('t', 't#')\n",
      "│││└─ (True, '#')\n",
      "││└─ (True, '#')\n",
      "│└─ (True, '#')\n",
      "│┌match('#', '#')\n",
      "│└─ (True, '')\n",
      "└─ (True, '')\n"
     ]
    },
    {
     "data": {
      "text/plain": [
       "(True, '')"
      ]
     },
     "execution_count": 21,
     "metadata": {},
     "output_type": "execute_result"
    }
   ],
   "source": [
    "match = make_match(source)\n",
    "\n",
    "match('E', 't#')"
   ]
  },
  {
   "cell_type": "markdown",
   "metadata": {},
   "source": [
    "## Caso concreto non prefix-free"
   ]
  },
  {
   "cell_type": "code",
   "execution_count": 22,
   "metadata": {},
   "outputs": [
    {
     "data": {
      "text/plain": [
       "Grammar(N={B, S}, T={a, b}, P=(S -> a, S -> B, B -> a b), S=S)"
      ]
     },
     "execution_count": 22,
     "metadata": {},
     "output_type": "execute_result"
    }
   ],
   "source": [
    "# non prefix-free\n",
    "\n",
    "G = Grammar.from_string(\"\"\"\n",
    "S -> a | B\n",
    "B -> a b\n",
    "\"\"\")\n",
    "G"
   ]
  },
  {
   "cell_type": "code",
   "execution_count": 23,
   "metadata": {},
   "outputs": [
    {
     "name": "stdout",
     "output_type": "stream",
     "text": [
      "@show_calls(True)\n",
      "def match(X, rest):\n",
      "\tdef S_alt0(rest):\n",
      "\t\tsucc, rest = match('a', rest)\n",
      "\t\tif not succ: return False, rest\n",
      "\t\treturn True, rest\n",
      "\tdef S_alt1(rest):\n",
      "\t\tsucc, rest = match('B', rest)\n",
      "\t\tif not succ: return False, rest\n",
      "\t\treturn True, rest\n",
      "\tdef B_alt0(rest):\n",
      "\t\tsucc, rest = match('a', rest)\n",
      "\t\tif not succ: return False, rest\n",
      "\t\tsucc, rest = match('b', rest)\n",
      "\t\tif not succ: return False, rest\n",
      "\t\treturn True, rest\n",
      "\tif X in frozenset({'b', 'a'}):\n",
      "\t\tif rest and rest[0] == X: return True, rest[1:]\n",
      "\t\treturn False, rest\n",
      "\tif X == 'S':\n",
      "\t\tsucc_alt, rest_alt = S_alt0(rest)\n",
      "\t\tif succ_alt: return True, rest_alt\n",
      "\t\tsucc_alt, rest_alt = S_alt1(rest)\n",
      "\t\tif succ_alt: return True, rest_alt\n",
      "\t\treturn False, rest\n",
      "\tif X == 'B':\n",
      "\t\tsucc_alt, rest_alt = B_alt0(rest)\n",
      "\t\tif succ_alt: return True, rest_alt\n",
      "\t\treturn False, rest\n"
     ]
    }
   ],
   "source": [
    "source = make_match_source(G)\n",
    "print(source)"
   ]
  },
  {
   "cell_type": "code",
   "execution_count": 24,
   "metadata": {},
   "outputs": [
    {
     "name": "stdout",
     "output_type": "stream",
     "text": [
      "┌match('S', 'ab')\n",
      "│┌match('a', 'ab')\n",
      "│└─ (True, 'b')\n",
      "└─ (True, 'b')\n"
     ]
    },
    {
     "data": {
      "text/plain": [
       "(True, 'b')"
      ]
     },
     "execution_count": 24,
     "metadata": {},
     "output_type": "execute_result"
    }
   ],
   "source": [
    "match = make_match(source)\n",
    "match('S', 'ab')"
   ]
  },
  {
   "cell_type": "markdown",
   "metadata": {},
   "source": [
    "# Homework\n",
    "\n",
    "* Modificate `make_match_source` perché restituisca l'elenco di produzioni \n",
    "  della derivazione *leftmost* corrisondente al parsing effettuato? \n",
    "  \n",
    "* Si può modificate `make_match_source` perché funzioni anche per la grammatica \n",
    "  non *prefix-free* di somme e moltipliche?"
   ]
  }
 ],
 "metadata": {
  "kernelspec": {
   "display_name": "Python 3",
   "language": "python",
   "name": "python3"
  },
  "language_info": {
   "codemirror_mode": {
    "name": "ipython",
    "version": 3
   },
   "file_extension": ".py",
   "mimetype": "text/x-python",
   "name": "python",
   "nbconvert_exporter": "python",
   "pygments_lexer": "ipython3",
   "version": "3.7.2"
  }
 },
 "nbformat": 4,
 "nbformat_minor": 2
}
