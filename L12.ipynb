{
  "cells": [
    {
      "cell_type": "markdown",
      "metadata": {},
      "source": [
        "# Lezione 12"
      ]
    },
    {
      "cell_type": "code",
      "execution_count": null,
      "metadata": {},
      "outputs": [],
      "source": [
        "from liblet import (\n",
        "  Grammar, \n",
        "  Derivation,\n",
        "  Production,\n",
        "  ProductionGraph, \n",
        "  TopDownInstantaneousDescription,\n",
        "  Table, \n",
        "  closure,\n",
        "  suffixes,\n",
        "  warn,\n",
        "  HASH, ε\n",
        ")"
      ]
    },
    {
      "cell_type": "code",
      "execution_count": null,
      "metadata": {},
      "outputs": [],
      "source": [
        "def compute_εfirst(G):\n",
        "  FIRST = Table(1, element = set)\n",
        "  for t in G.T: FIRST[(t, )] = {t}\n",
        "  FIRST[tuple()] = {ε}\n",
        "  FIRST[(ε, )] = {ε}\n",
        "  FIRST[(HASH, )] = {HASH}\n",
        "  @closure\n",
        "  def update_with_suffixes(FIRST):\n",
        "    for N, α in G.P:\n",
        "      FIRST[(N, )] |= FIRST[α]\n",
        "      for γ in suffixes(α):\n",
        "        A, *β = γ\n",
        "        FIRST[γ] |= FIRST[(A, )] - {ε}\n",
        "        if ε in FIRST[(A, )]: FIRST[γ] |= FIRST[β]\n",
        "    return FIRST\n",
        "  return update_with_suffixes(FIRST)\n",
        "\n",
        "def make_first_function(G):\n",
        "  FIRST = compute_εfirst(G)\n",
        "  def FIRSTf(ω):\n",
        "    if not ω: return {ε}\n",
        "    X, *γ = ω\n",
        "    fx = FIRST[(X, )]\n",
        "    if ε in fx:\n",
        "      return (fx - {ε}) | FIRSTf(γ)\n",
        "    else:\n",
        "      return fx\n",
        "  return FIRSTf"
      ]
    },
    {
      "cell_type": "markdown",
      "metadata": {},
      "source": [
        "## Estendere il calcolo di  `TABLE` al caso con ε-regole\n",
        "\n",
        "Violando completamente l'idea di avere a che fare con un automa a pila, dobbiamo consentire ad ogni passo che venga ispezionata tutta la pila!\n",
        "\n",
        "Se infatti siamo in presenza di una derivazione parziale $S\\#\\overset{*}{\\to}x A\\Gamma\\#$ della parola $x a y$ (abbiamo cioè $\\#\\Gamma^R A$ sulla pila e la testina è posizionata all'inizio di $a y$) possiamo scegliere determiinsticamente quale alternativa predire tra le varie produzioni $A \\to \\alpha$ se e soltanto se ne esiste esattamente una per cui $a \\in \\operatorname{FIRST}(\\alpha\\Gamma\\#)$.\n",
        "\n",
        "Le grammatiche per cui ciò accade (per qualunque derivazione parziale) si chiamano **full LL(1)**. \n",
        "\n",
        "Per tali grammatiche la seguente funzione `TABLEf` (che prende in ingresso l'intera pila e il simbolo sotto la testina e adopera la funzione `FIRSTf` per caloclare gli insiemi $\\operatorname{FIRST}(\\alpha\\Gamma\\#)$) produce sempre la corretta predizione."
      ]
    },
    {
      "cell_type": "code",
      "execution_count": null,
      "metadata": {},
      "outputs": [],
      "source": [
        "def make_table_function(G):\n",
        "\n",
        "  FIRSTf = make_first_function(G)\n",
        "\n",
        "  #@show_calls(True)\n",
        "  def TABLEf(stack, a):\n",
        "    prods = set()\n",
        "    *sΓr, A = list(stack) # la pila è ＃Γ^R A\n",
        "    for α in G.alternatives(A):\n",
        "      ω = α + tuple(reversed(sΓr)) # la forma sentenziale è α seguita da Γ＃\n",
        "      if a in FIRSTf(ω): prods.add(Production(A, α))\n",
        "    if len(prods) == 1:\n",
        "      return next(iter(prods))\n",
        "    elif len(prods) > 1:\n",
        "      warn(f'Conflict {prods=}')\n",
        "    return None\n",
        "  \n",
        "  return TABLEf"
      ]
    },
    {
      "cell_type": "code",
      "execution_count": null,
      "metadata": {},
      "outputs": [
        {
          "data": {
            "text/plain": [
              "Grammar(N={Fact, Facts, Question, Session}, T={!, (, ), ?, STRING}, P=(Session -> Facts Question, Session -> ( Session ) Session, Facts -> Fact Facts, Facts -> ε, Fact -> ! STRING, Question -> ? STRING), S=Session)"
            ]
          },
          "execution_count": 4,
          "metadata": {},
          "output_type": "execute_result"
        }
      ],
      "source": [
        "# fig. 8.9, pag. 242\n",
        "\n",
        "G = Grammar.from_string(\"\"\"\n",
        "Session -> Facts Question | ( Session ) Session\n",
        "Facts -> Fact Facts | ε\n",
        "Fact -> ! STRING\n",
        "Question -> ? STRING\n",
        "\"\"\")\n",
        "G"
      ]
    },
    {
      "cell_type": "code",
      "execution_count": null,
      "metadata": {},
      "outputs": [],
      "source": [
        "TABLEf = make_table_function(G)"
      ]
    },
    {
      "cell_type": "markdown",
      "metadata": {},
      "source": [
        "## Il parser Full LL(1)\n",
        "\n",
        "Ora manca qualche piccolo aggiustamento a `parse_noε` per trasformarlo in un parser *full LL(1)* che chiameremo `full_parse`; le principali differenze sono:\n",
        "\n",
        "* ignorare le $\\varepsilon$ aggiunte in pila (per via delle ε-regole),\n",
        "* usare la funzione `TABLEf` (al posto di consultare la tabella `TABLE`) per ottenere la predizione.\n",
        "\n",
        "Ovviamente il \"piccolo\" aggiustamento ha un impatto notevole sul tempo di calcolo!"
      ]
    },
    {
      "cell_type": "code",
      "execution_count": null,
      "metadata": {},
      "outputs": [],
      "source": [
        "def full_parse(G, TABLEf, INPUT):\n",
        "  tdid = TopDownInstantaneousDescription(G, INPUT)\n",
        "  while not tdid.is_done():\n",
        "    if tdid.top() in G.N:\n",
        "      P = TABLEf(tdid.stack, tdid.head())\n",
        "      if P is None:\n",
        "        warn(f'No production for ({tdid.top()}, {tdid.head()}) at {tdid.steps}')\n",
        "        return None\n",
        "      tdid = tdid.predict(P)\n",
        "    else:\n",
        "      if tdid.top() == ε or tdid.top() == tdid.head():\n",
        "        tdid = tdid.match()\n",
        "      else:\n",
        "        warn(f'Expecting {tdid.top()}, got {tdid.head()}')\n",
        "        return None\n",
        "  return Derivation(G).leftmost(tdid.steps)"
      ]
    },
    {
      "cell_type": "code",
      "execution_count": null,
      "metadata": {},
      "outputs": [],
      "source": [
        "INPUT = '! STRING ! STRING ? STRING'.split()\n",
        "\n",
        "d = full_parse(G, TABLEf, INPUT)"
      ]
    },
    {
      "cell_type": "code",
      "execution_count": null,
      "metadata": {},
      "outputs": [
        {
          "data": {
            "image/svg+xml": [
              "<?xml version=\"1.0\" encoding=\"UTF-8\" standalone=\"no\"?>\n",
              "<!DOCTYPE svg PUBLIC \"-//W3C//DTD SVG 1.1//EN\"\n",
              " \"http://www.w3.org/Graphics/SVG/1.1/DTD/svg11.dtd\">\n",
              "<!-- Generated by graphviz version 2.43.0 (0)\n",
              " -->\n",
              "<!-- Title: %3 Pages: 1 -->\n",
              "<svg width=\"264pt\" height=\"195pt\"\n",
              " viewBox=\"0.00 0.00 264.00 195.00\" xmlns=\"http://www.w3.org/2000/svg\" xmlns:xlink=\"http://www.w3.org/1999/xlink\">\n",
              "<g id=\"graph0\" class=\"graph\" transform=\"scale(1 1) rotate(0) translate(4 191)\">\n",
              "<title>%3</title>\n",
              "<polygon fill=\"white\" stroke=\"transparent\" points=\"-4,4 -4,-191 260,-191 260,4 -4,4\"/>\n",
              "<!-- 6932071591454860181 -->\n",
              "<g id=\"node1\" class=\"node\">\n",
              "<title>6932071591454860181</title>\n",
              "<path fill=\"none\" stroke=\"black\" stroke-width=\"0.25\" d=\"M162.83,-187C162.83,-187 128.17,-187 128.17,-187 124.33,-187 120.5,-183.17 120.5,-179.33 120.5,-179.33 120.5,-171.67 120.5,-171.67 120.5,-167.83 124.33,-164 128.17,-164 128.17,-164 162.83,-164 162.83,-164 166.67,-164 170.5,-167.83 170.5,-171.67 170.5,-171.67 170.5,-179.33 170.5,-179.33 170.5,-183.17 166.67,-187 162.83,-187\"/>\n",
              "<text text-anchor=\"middle\" x=\"145.5\" y=\"-171.8\" font-family=\"Times,serif\" font-size=\"14.00\">Session</text>\n",
              "</g>\n",
              "<!-- &#45;555285840879353808 -->\n",
              "<g id=\"node2\" class=\"node\">\n",
              "<title>&#45;555285840879353808</title>\n",
              "<path fill=\"none\" stroke=\"black\" stroke-width=\"0.25\" d=\"M124.33,-146C124.33,-146 102.67,-146 102.67,-146 98.83,-146 95,-142.17 95,-138.33 95,-138.33 95,-130.67 95,-130.67 95,-126.83 98.83,-123 102.67,-123 102.67,-123 124.33,-123 124.33,-123 128.17,-123 132,-126.83 132,-130.67 132,-130.67 132,-138.33 132,-138.33 132,-142.17 128.17,-146 124.33,-146\"/>\n",
              "<text text-anchor=\"middle\" x=\"113.5\" y=\"-130.8\" font-family=\"Times,serif\" font-size=\"14.00\">Facts</text>\n",
              "</g>\n",
              "<!-- 6932071591454860181&#45;&gt;&#45;555285840879353808 -->\n",
              "<g id=\"edge1\" class=\"edge\">\n",
              "<title>6932071591454860181&#45;&gt;&#45;555285840879353808</title>\n",
              "<path fill=\"none\" stroke=\"black\" stroke-width=\"0.5\" d=\"M136.76,-163.84C132.24,-158.34 126.75,-151.65 122.23,-146.14\"/>\n",
              "</g>\n",
              "<!-- 1437243089561198760 -->\n",
              "<g id=\"node3\" class=\"node\">\n",
              "<title>1437243089561198760</title>\n",
              "<path fill=\"none\" stroke=\"black\" stroke-width=\"0.25\" d=\"M199.33,-146C199.33,-146 157.67,-146 157.67,-146 153.83,-146 150,-142.17 150,-138.33 150,-138.33 150,-130.67 150,-130.67 150,-126.83 153.83,-123 157.67,-123 157.67,-123 199.33,-123 199.33,-123 203.17,-123 207,-126.83 207,-130.67 207,-130.67 207,-138.33 207,-138.33 207,-142.17 203.17,-146 199.33,-146\"/>\n",
              "<text text-anchor=\"middle\" x=\"178.5\" y=\"-130.8\" font-family=\"Times,serif\" font-size=\"14.00\">Question</text>\n",
              "</g>\n",
              "<!-- 6932071591454860181&#45;&gt;1437243089561198760 -->\n",
              "<g id=\"edge2\" class=\"edge\">\n",
              "<title>6932071591454860181&#45;&gt;1437243089561198760</title>\n",
              "<path fill=\"none\" stroke=\"black\" stroke-width=\"0.5\" d=\"M154.52,-163.84C159.17,-158.34 164.84,-151.65 169.49,-146.14\"/>\n",
              "</g>\n",
              "<!-- &#45;555285840879353808&#45;&gt;1437243089561198760 -->\n",
              "<!-- 8116701983600267006 -->\n",
              "<g id=\"node4\" class=\"node\">\n",
              "<title>8116701983600267006</title>\n",
              "<path fill=\"none\" stroke=\"black\" stroke-width=\"0.25\" d=\"M72.83,-105C72.83,-105 56.17,-105 56.17,-105 52.33,-105 48.5,-101.17 48.5,-97.33 48.5,-97.33 48.5,-89.67 48.5,-89.67 48.5,-85.83 52.33,-82 56.17,-82 56.17,-82 72.83,-82 72.83,-82 76.67,-82 80.5,-85.83 80.5,-89.67 80.5,-89.67 80.5,-97.33 80.5,-97.33 80.5,-101.17 76.67,-105 72.83,-105\"/>\n",
              "<text text-anchor=\"middle\" x=\"64.5\" y=\"-89.8\" font-family=\"Times,serif\" font-size=\"14.00\">Fact</text>\n",
              "</g>\n",
              "<!-- &#45;555285840879353808&#45;&gt;8116701983600267006 -->\n",
              "<g id=\"edge4\" class=\"edge\">\n",
              "<title>&#45;555285840879353808&#45;&gt;8116701983600267006</title>\n",
              "<path fill=\"none\" stroke=\"black\" stroke-width=\"0.5\" d=\"M100.11,-122.84C93.2,-117.34 84.78,-110.65 77.87,-105.14\"/>\n",
              "</g>\n",
              "<!-- &#45;7885417716592295867 -->\n",
              "<g id=\"node5\" class=\"node\">\n",
              "<title>&#45;7885417716592295867</title>\n",
              "<path fill=\"none\" stroke=\"black\" stroke-width=\"0.25\" d=\"M130.33,-105C130.33,-105 108.67,-105 108.67,-105 104.83,-105 101,-101.17 101,-97.33 101,-97.33 101,-89.67 101,-89.67 101,-85.83 104.83,-82 108.67,-82 108.67,-82 130.33,-82 130.33,-82 134.17,-82 138,-85.83 138,-89.67 138,-89.67 138,-97.33 138,-97.33 138,-101.17 134.17,-105 130.33,-105\"/>\n",
              "<text text-anchor=\"middle\" x=\"119.5\" y=\"-89.8\" font-family=\"Times,serif\" font-size=\"14.00\">Facts</text>\n",
              "</g>\n",
              "<!-- &#45;555285840879353808&#45;&gt;&#45;7885417716592295867 -->\n",
              "<g id=\"edge5\" class=\"edge\">\n",
              "<title>&#45;555285840879353808&#45;&gt;&#45;7885417716592295867</title>\n",
              "<path fill=\"none\" stroke=\"black\" stroke-width=\"0.5\" d=\"M115.14,-122.84C115.99,-117.34 117.02,-110.65 117.86,-105.14\"/>\n",
              "</g>\n",
              "<!-- 4930824169222290871 -->\n",
              "<g id=\"node13\" class=\"node\">\n",
              "<title>4930824169222290871</title>\n",
              "<path fill=\"none\" stroke=\"black\" stroke-width=\"1.25\" d=\"M176,-105C176,-105 171,-105 171,-105 168.5,-105 166,-102.5 166,-100 166,-100 166,-87 166,-87 166,-84.5 168.5,-82 171,-82 171,-82 176,-82 176,-82 178.5,-82 181,-84.5 181,-87 181,-87 181,-100 181,-100 181,-102.5 178.5,-105 176,-105\"/>\n",
              "<text text-anchor=\"middle\" x=\"173.5\" y=\"-89.8\" font-family=\"Times,serif\" font-size=\"14.00\">?</text>\n",
              "</g>\n",
              "<!-- 1437243089561198760&#45;&gt;4930824169222290871 -->\n",
              "<g id=\"edge17\" class=\"edge\">\n",
              "<title>1437243089561198760&#45;&gt;4930824169222290871</title>\n",
              "<path fill=\"none\" stroke=\"black\" stroke-width=\"0.5\" d=\"M177.13,-122.84C176.43,-117.34 175.57,-110.65 174.86,-105.14\"/>\n",
              "</g>\n",
              "<!-- 4425483220138549179 -->\n",
              "<g id=\"node14\" class=\"node\">\n",
              "<title>4425483220138549179</title>\n",
              "<path fill=\"none\" stroke=\"black\" stroke-width=\"1.25\" d=\"M248.33,-105C248.33,-105 206.67,-105 206.67,-105 202.83,-105 199,-101.17 199,-97.33 199,-97.33 199,-89.67 199,-89.67 199,-85.83 202.83,-82 206.67,-82 206.67,-82 248.33,-82 248.33,-82 252.17,-82 256,-85.83 256,-89.67 256,-89.67 256,-97.33 256,-97.33 256,-101.17 252.17,-105 248.33,-105\"/>\n",
              "<text text-anchor=\"middle\" x=\"227.5\" y=\"-89.8\" font-family=\"Times,serif\" font-size=\"14.00\">STRING</text>\n",
              "</g>\n",
              "<!-- 1437243089561198760&#45;&gt;4425483220138549179 -->\n",
              "<g id=\"edge18\" class=\"edge\">\n",
              "<title>1437243089561198760&#45;&gt;4425483220138549179</title>\n",
              "<path fill=\"none\" stroke=\"black\" stroke-width=\"0.5\" d=\"M191.89,-122.84C198.8,-117.34 207.22,-110.65 214.13,-105.14\"/>\n",
              "</g>\n",
              "<!-- 8116701983600267006&#45;&gt;&#45;7885417716592295867 -->\n",
              "<!-- 2564408647669012244 -->\n",
              "<g id=\"node6\" class=\"node\">\n",
              "<title>2564408647669012244</title>\n",
              "<path fill=\"none\" stroke=\"black\" stroke-width=\"1.25\" d=\"M8.67,-64C8.67,-64 4.33,-64 4.33,-64 2.17,-64 0,-61.83 0,-59.67 0,-59.67 0,-45.33 0,-45.33 0,-43.17 2.17,-41 4.33,-41 4.33,-41 8.67,-41 8.67,-41 10.83,-41 13,-43.17 13,-45.33 13,-45.33 13,-59.67 13,-59.67 13,-61.83 10.83,-64 8.67,-64\"/>\n",
              "<text text-anchor=\"middle\" x=\"6.5\" y=\"-48.8\" font-family=\"Times,serif\" font-size=\"14.00\">!</text>\n",
              "</g>\n",
              "<!-- 8116701983600267006&#45;&gt;2564408647669012244 -->\n",
              "<g id=\"edge7\" class=\"edge\">\n",
              "<title>8116701983600267006&#45;&gt;2564408647669012244</title>\n",
              "<path fill=\"none\" stroke=\"black\" stroke-width=\"0.5\" d=\"M48.1,-81.77C40.05,-76.47 30.23,-69.95 21.5,-64 18.77,-62.14 15.78,-60.06 13.2,-58.24\"/>\n",
              "</g>\n",
              "<!-- 3158290312677402167 -->\n",
              "<g id=\"node7\" class=\"node\">\n",
              "<title>3158290312677402167</title>\n",
              "<path fill=\"none\" stroke=\"black\" stroke-width=\"1.25\" d=\"M80.33,-64C80.33,-64 38.67,-64 38.67,-64 34.83,-64 31,-60.17 31,-56.33 31,-56.33 31,-48.67 31,-48.67 31,-44.83 34.83,-41 38.67,-41 38.67,-41 80.33,-41 80.33,-41 84.17,-41 88,-44.83 88,-48.67 88,-48.67 88,-56.33 88,-56.33 88,-60.17 84.17,-64 80.33,-64\"/>\n",
              "<text text-anchor=\"middle\" x=\"59.5\" y=\"-48.8\" font-family=\"Times,serif\" font-size=\"14.00\">STRING</text>\n",
              "</g>\n",
              "<!-- 8116701983600267006&#45;&gt;3158290312677402167 -->\n",
              "<g id=\"edge8\" class=\"edge\">\n",
              "<title>8116701983600267006&#45;&gt;3158290312677402167</title>\n",
              "<path fill=\"none\" stroke=\"black\" stroke-width=\"0.5\" d=\"M63.13,-81.84C62.43,-76.34 61.57,-69.65 60.86,-64.14\"/>\n",
              "</g>\n",
              "<!-- &#45;2916951284885142251 -->\n",
              "<g id=\"node8\" class=\"node\">\n",
              "<title>&#45;2916951284885142251</title>\n",
              "<path fill=\"none\" stroke=\"black\" stroke-width=\"0.25\" d=\"M130.83,-64C130.83,-64 114.17,-64 114.17,-64 110.33,-64 106.5,-60.17 106.5,-56.33 106.5,-56.33 106.5,-48.67 106.5,-48.67 106.5,-44.83 110.33,-41 114.17,-41 114.17,-41 130.83,-41 130.83,-41 134.67,-41 138.5,-44.83 138.5,-48.67 138.5,-48.67 138.5,-56.33 138.5,-56.33 138.5,-60.17 134.67,-64 130.83,-64\"/>\n",
              "<text text-anchor=\"middle\" x=\"122.5\" y=\"-48.8\" font-family=\"Times,serif\" font-size=\"14.00\">Fact</text>\n",
              "</g>\n",
              "<!-- &#45;7885417716592295867&#45;&gt;&#45;2916951284885142251 -->\n",
              "<g id=\"edge10\" class=\"edge\">\n",
              "<title>&#45;7885417716592295867&#45;&gt;&#45;2916951284885142251</title>\n",
              "<path fill=\"none\" stroke=\"black\" stroke-width=\"0.5\" d=\"M120.32,-81.84C120.74,-76.34 121.26,-69.65 121.68,-64.14\"/>\n",
              "</g>\n",
              "<!-- &#45;7518356200003010333 -->\n",
              "<g id=\"node9\" class=\"node\">\n",
              "<title>&#45;7518356200003010333</title>\n",
              "<path fill=\"none\" stroke=\"black\" stroke-width=\"0.25\" d=\"M186.33,-64C186.33,-64 164.67,-64 164.67,-64 160.83,-64 157,-60.17 157,-56.33 157,-56.33 157,-48.67 157,-48.67 157,-44.83 160.83,-41 164.67,-41 164.67,-41 186.33,-41 186.33,-41 190.17,-41 194,-44.83 194,-48.67 194,-48.67 194,-56.33 194,-56.33 194,-60.17 190.17,-64 186.33,-64\"/>\n",
              "<text text-anchor=\"middle\" x=\"175.5\" y=\"-48.8\" font-family=\"Times,serif\" font-size=\"14.00\">Facts</text>\n",
              "</g>\n",
              "<!-- &#45;7885417716592295867&#45;&gt;&#45;7518356200003010333 -->\n",
              "<g id=\"edge11\" class=\"edge\">\n",
              "<title>&#45;7885417716592295867&#45;&gt;&#45;7518356200003010333</title>\n",
              "<path fill=\"none\" stroke=\"black\" stroke-width=\"0.5\" d=\"M134.8,-81.84C142.7,-76.34 152.32,-69.65 160.22,-64.14\"/>\n",
              "</g>\n",
              "<!-- 2564408647669012244&#45;&gt;3158290312677402167 -->\n",
              "<!-- &#45;2916951284885142251&#45;&gt;&#45;7518356200003010333 -->\n",
              "<!-- &#45;2309707045811479142 -->\n",
              "<g id=\"node10\" class=\"node\">\n",
              "<title>&#45;2309707045811479142</title>\n",
              "<path fill=\"none\" stroke=\"black\" stroke-width=\"1.25\" d=\"M71.67,-23C71.67,-23 67.33,-23 67.33,-23 65.17,-23 63,-20.83 63,-18.67 63,-18.67 63,-4.33 63,-4.33 63,-2.17 65.17,0 67.33,0 67.33,0 71.67,0 71.67,0 73.83,0 76,-2.17 76,-4.33 76,-4.33 76,-18.67 76,-18.67 76,-20.83 73.83,-23 71.67,-23\"/>\n",
              "<text text-anchor=\"middle\" x=\"69.5\" y=\"-7.8\" font-family=\"Times,serif\" font-size=\"14.00\">!</text>\n",
              "</g>\n",
              "<!-- &#45;2916951284885142251&#45;&gt;&#45;2309707045811479142 -->\n",
              "<g id=\"edge13\" class=\"edge\">\n",
              "<title>&#45;2916951284885142251&#45;&gt;&#45;2309707045811479142</title>\n",
              "<path fill=\"none\" stroke=\"black\" stroke-width=\"0.5\" d=\"M108.02,-40.84C97.6,-33.18 84.03,-23.19 76.09,-17.35\"/>\n",
              "</g>\n",
              "<!-- &#45;7875362955808007090 -->\n",
              "<g id=\"node11\" class=\"node\">\n",
              "<title>&#45;7875362955808007090</title>\n",
              "<path fill=\"none\" stroke=\"black\" stroke-width=\"1.25\" d=\"M143.33,-23C143.33,-23 101.67,-23 101.67,-23 97.83,-23 94,-19.17 94,-15.33 94,-15.33 94,-7.67 94,-7.67 94,-3.83 97.83,0 101.67,0 101.67,0 143.33,0 143.33,0 147.17,0 151,-3.83 151,-7.67 151,-7.67 151,-15.33 151,-15.33 151,-19.17 147.17,-23 143.33,-23\"/>\n",
              "<text text-anchor=\"middle\" x=\"122.5\" y=\"-7.8\" font-family=\"Times,serif\" font-size=\"14.00\">STRING</text>\n",
              "</g>\n",
              "<!-- &#45;2916951284885142251&#45;&gt;&#45;7875362955808007090 -->\n",
              "<g id=\"edge14\" class=\"edge\">\n",
              "<title>&#45;2916951284885142251&#45;&gt;&#45;7875362955808007090</title>\n",
              "<path fill=\"none\" stroke=\"black\" stroke-width=\"0.5\" d=\"M122.5,-40.84C122.5,-35.34 122.5,-28.65 122.5,-23.14\"/>\n",
              "</g>\n",
              "<!-- &#45;932446033970306786 -->\n",
              "<g id=\"node12\" class=\"node\">\n",
              "<title>&#45;932446033970306786</title>\n",
              "<path fill=\"none\" stroke=\"black\" stroke-width=\"0.25\" d=\"M179,-23C179,-23 174,-23 174,-23 171.5,-23 169,-20.5 169,-18 169,-18 169,-5 169,-5 169,-2.5 171.5,0 174,0 174,0 179,0 179,0 181.5,0 184,-2.5 184,-5 184,-5 184,-18 184,-18 184,-20.5 181.5,-23 179,-23\"/>\n",
              "<text text-anchor=\"middle\" x=\"176.5\" y=\"-7.8\" font-family=\"Times,serif\" font-size=\"14.00\">ε</text>\n",
              "</g>\n",
              "<!-- &#45;7518356200003010333&#45;&gt;&#45;932446033970306786 -->\n",
              "<g id=\"edge16\" class=\"edge\">\n",
              "<title>&#45;7518356200003010333&#45;&gt;&#45;932446033970306786</title>\n",
              "<path fill=\"none\" stroke=\"black\" stroke-width=\"0.5\" d=\"M175.77,-40.84C175.91,-35.34 176.09,-28.65 176.23,-23.14\"/>\n",
              "</g>\n",
              "<!-- &#45;2309707045811479142&#45;&gt;&#45;7875362955808007090 -->\n",
              "<!-- 4930824169222290871&#45;&gt;4425483220138549179 -->\n",
              "</g>\n",
              "</svg>\n"
            ],
            "text/plain": [
              "ProductionGraph(Session -> Facts Question -> Fact Facts Question -> ! STRING Facts Question -> ! STRING Fact Facts Question -> ! STRING ! STRING Facts Question -> ! STRING ! STRING Question -> ! STRING ! STRING ? STRING)"
            ]
          },
          "execution_count": 8,
          "metadata": {},
          "output_type": "execute_result"
        }
      ],
      "source": [
        "ProductionGraph(d)"
      ]
    },
    {
      "cell_type": "markdown",
      "metadata": {},
      "source": [
        "### Un esempio più interessante\n",
        "\n",
        "Come esempio più \"interessante\" consideriamo una grammatica per espressioni aritmentiche parentesizzate."
      ]
    },
    {
      "cell_type": "code",
      "execution_count": null,
      "metadata": {},
      "outputs": [],
      "source": [
        "# MCD, fig. 3.4, pag. 123\n",
        "\n",
        "G_expr = Grammar.from_string(\"\"\"\n",
        "input -> expression\n",
        "expression -> term rest_expression\n",
        "term -> IDENTIFIER | parenthesized_expression \n",
        "parenthesized_expression -> ( expression ) \n",
        "rest_expression -> + expression | ε\n",
        "\"\"\")"
      ]
    },
    {
      "cell_type": "code",
      "execution_count": null,
      "metadata": {},
      "outputs": [],
      "source": [
        "TABLEf = make_table_function(G_expr)"
      ]
    },
    {
      "cell_type": "code",
      "execution_count": null,
      "metadata": {},
      "outputs": [],
      "source": [
        "INPUT = 'IDENTIFIER + ( IDENTIFIER )'.split()\n",
        "d = full_parse(G_expr, TABLEf, INPUT)"
      ]
    },
    {
      "cell_type": "code",
      "execution_count": null,
      "metadata": {},
      "outputs": [
        {
          "data": {
            "image/svg+xml": [
              "<?xml version=\"1.0\" encoding=\"UTF-8\" standalone=\"no\"?>\n",
              "<!DOCTYPE svg PUBLIC \"-//W3C//DTD SVG 1.1//EN\"\n",
              " \"http://www.w3.org/Graphics/SVG/1.1/DTD/svg11.dtd\">\n",
              "<!-- Generated by graphviz version 2.43.0 (0)\n",
              " -->\n",
              "<!-- Title: %3 Pages: 1 -->\n",
              "<svg width=\"272pt\" height=\"359pt\"\n",
              " viewBox=\"0.00 0.00 272.00 359.00\" xmlns=\"http://www.w3.org/2000/svg\" xmlns:xlink=\"http://www.w3.org/1999/xlink\">\n",
              "<g id=\"graph0\" class=\"graph\" transform=\"scale(1 1) rotate(0) translate(4 355)\">\n",
              "<title>%3</title>\n",
              "<polygon fill=\"white\" stroke=\"transparent\" points=\"-4,4 -4,-355 268,-355 268,4 -4,4\"/>\n",
              "<!-- &#45;1556951035695159592 -->\n",
              "<g id=\"node1\" class=\"node\">\n",
              "<title>&#45;1556951035695159592</title>\n",
              "<path fill=\"none\" stroke=\"black\" stroke-width=\"0.25\" d=\"M92.83,-351C92.83,-351 72.17,-351 72.17,-351 68.33,-351 64.5,-347.17 64.5,-343.33 64.5,-343.33 64.5,-335.67 64.5,-335.67 64.5,-331.83 68.33,-328 72.17,-328 72.17,-328 92.83,-328 92.83,-328 96.67,-328 100.5,-331.83 100.5,-335.67 100.5,-335.67 100.5,-343.33 100.5,-343.33 100.5,-347.17 96.67,-351 92.83,-351\"/>\n",
              "<text text-anchor=\"middle\" x=\"82.5\" y=\"-335.8\" font-family=\"Times,serif\" font-size=\"14.00\">input</text>\n",
              "</g>\n",
              "<!-- &#45;8110644205908889566 -->\n",
              "<g id=\"node2\" class=\"node\">\n",
              "<title>&#45;8110644205908889566</title>\n",
              "<path fill=\"none\" stroke=\"black\" stroke-width=\"0.25\" d=\"M107.83,-310C107.83,-310 57.17,-310 57.17,-310 53.33,-310 49.5,-306.17 49.5,-302.33 49.5,-302.33 49.5,-294.67 49.5,-294.67 49.5,-290.83 53.33,-287 57.17,-287 57.17,-287 107.83,-287 107.83,-287 111.67,-287 115.5,-290.83 115.5,-294.67 115.5,-294.67 115.5,-302.33 115.5,-302.33 115.5,-306.17 111.67,-310 107.83,-310\"/>\n",
              "<text text-anchor=\"middle\" x=\"82.5\" y=\"-294.8\" font-family=\"Times,serif\" font-size=\"14.00\">expression</text>\n",
              "</g>\n",
              "<!-- &#45;1556951035695159592&#45;&gt;&#45;8110644205908889566 -->\n",
              "<g id=\"edge1\" class=\"edge\">\n",
              "<title>&#45;1556951035695159592&#45;&gt;&#45;8110644205908889566</title>\n",
              "<path fill=\"none\" stroke=\"black\" stroke-width=\"0.5\" d=\"M82.5,-327.84C82.5,-322.34 82.5,-315.65 82.5,-310.14\"/>\n",
              "</g>\n",
              "<!-- &#45;8626681183613819185 -->\n",
              "<g id=\"node3\" class=\"node\">\n",
              "<title>&#45;8626681183613819185</title>\n",
              "<path fill=\"none\" stroke=\"black\" stroke-width=\"0.25\" d=\"M50.83,-269C50.83,-269 32.17,-269 32.17,-269 28.33,-269 24.5,-265.17 24.5,-261.33 24.5,-261.33 24.5,-253.67 24.5,-253.67 24.5,-249.83 28.33,-246 32.17,-246 32.17,-246 50.83,-246 50.83,-246 54.67,-246 58.5,-249.83 58.5,-253.67 58.5,-253.67 58.5,-261.33 58.5,-261.33 58.5,-265.17 54.67,-269 50.83,-269\"/>\n",
              "<text text-anchor=\"middle\" x=\"41.5\" y=\"-253.8\" font-family=\"Times,serif\" font-size=\"14.00\">term</text>\n",
              "</g>\n",
              "<!-- &#45;8110644205908889566&#45;&gt;&#45;8626681183613819185 -->\n",
              "<g id=\"edge2\" class=\"edge\">\n",
              "<title>&#45;8110644205908889566&#45;&gt;&#45;8626681183613819185</title>\n",
              "<path fill=\"none\" stroke=\"black\" stroke-width=\"0.5\" d=\"M71.3,-286.84C65.51,-281.34 58.47,-274.65 52.69,-269.14\"/>\n",
              "</g>\n",
              "<!-- &#45;2295846637464243176 -->\n",
              "<g id=\"node4\" class=\"node\">\n",
              "<title>&#45;2295846637464243176</title>\n",
              "<path fill=\"none\" stroke=\"black\" stroke-width=\"0.25\" d=\"M162.33,-269C162.33,-269 84.67,-269 84.67,-269 80.83,-269 77,-265.17 77,-261.33 77,-261.33 77,-253.67 77,-253.67 77,-249.83 80.83,-246 84.67,-246 84.67,-246 162.33,-246 162.33,-246 166.17,-246 170,-249.83 170,-253.67 170,-253.67 170,-261.33 170,-261.33 170,-265.17 166.17,-269 162.33,-269\"/>\n",
              "<text text-anchor=\"middle\" x=\"123.5\" y=\"-253.8\" font-family=\"Times,serif\" font-size=\"14.00\">rest_expression</text>\n",
              "</g>\n",
              "<!-- &#45;8110644205908889566&#45;&gt;&#45;2295846637464243176 -->\n",
              "<g id=\"edge3\" class=\"edge\">\n",
              "<title>&#45;8110644205908889566&#45;&gt;&#45;2295846637464243176</title>\n",
              "<path fill=\"none\" stroke=\"black\" stroke-width=\"0.5\" d=\"M93.7,-286.84C99.49,-281.34 106.53,-274.65 112.31,-269.14\"/>\n",
              "</g>\n",
              "<!-- &#45;8626681183613819185&#45;&gt;&#45;2295846637464243176 -->\n",
              "<!-- 7826037804905811907 -->\n",
              "<g id=\"node5\" class=\"node\">\n",
              "<title>7826037804905811907</title>\n",
              "<path fill=\"none\" stroke=\"black\" stroke-width=\"1.25\" d=\"M75.33,-228C75.33,-228 7.67,-228 7.67,-228 3.83,-228 0,-224.17 0,-220.33 0,-220.33 0,-212.67 0,-212.67 0,-208.83 3.83,-205 7.67,-205 7.67,-205 75.33,-205 75.33,-205 79.17,-205 83,-208.83 83,-212.67 83,-212.67 83,-220.33 83,-220.33 83,-224.17 79.17,-228 75.33,-228\"/>\n",
              "<text text-anchor=\"middle\" x=\"41.5\" y=\"-212.8\" font-family=\"Times,serif\" font-size=\"14.00\">IDENTIFIER</text>\n",
              "</g>\n",
              "<!-- &#45;8626681183613819185&#45;&gt;7826037804905811907 -->\n",
              "<g id=\"edge5\" class=\"edge\">\n",
              "<title>&#45;8626681183613819185&#45;&gt;7826037804905811907</title>\n",
              "<path fill=\"none\" stroke=\"black\" stroke-width=\"0.5\" d=\"M41.5,-245.84C41.5,-240.34 41.5,-233.65 41.5,-228.14\"/>\n",
              "</g>\n",
              "<!-- &#45;572993536976381155 -->\n",
              "<g id=\"node6\" class=\"node\">\n",
              "<title>&#45;572993536976381155</title>\n",
              "<path fill=\"none\" stroke=\"black\" stroke-width=\"1.25\" d=\"M119.33,-228C119.33,-228 113.67,-228 113.67,-228 110.83,-228 108,-225.17 108,-222.33 108,-222.33 108,-210.67 108,-210.67 108,-207.83 110.83,-205 113.67,-205 113.67,-205 119.33,-205 119.33,-205 122.17,-205 125,-207.83 125,-210.67 125,-210.67 125,-222.33 125,-222.33 125,-225.17 122.17,-228 119.33,-228\"/>\n",
              "<text text-anchor=\"middle\" x=\"116.5\" y=\"-212.8\" font-family=\"Times,serif\" font-size=\"14.00\">+</text>\n",
              "</g>\n",
              "<!-- &#45;2295846637464243176&#45;&gt;&#45;572993536976381155 -->\n",
              "<g id=\"edge6\" class=\"edge\">\n",
              "<title>&#45;2295846637464243176&#45;&gt;&#45;572993536976381155</title>\n",
              "<path fill=\"none\" stroke=\"black\" stroke-width=\"0.5\" d=\"M121.59,-245.84C120.6,-240.34 119.4,-233.65 118.41,-228.14\"/>\n",
              "</g>\n",
              "<!-- &#45;2297110078589866564 -->\n",
              "<g id=\"node7\" class=\"node\">\n",
              "<title>&#45;2297110078589866564</title>\n",
              "<path fill=\"none\" stroke=\"black\" stroke-width=\"0.25\" d=\"M201.83,-228C201.83,-228 151.17,-228 151.17,-228 147.33,-228 143.5,-224.17 143.5,-220.33 143.5,-220.33 143.5,-212.67 143.5,-212.67 143.5,-208.83 147.33,-205 151.17,-205 151.17,-205 201.83,-205 201.83,-205 205.67,-205 209.5,-208.83 209.5,-212.67 209.5,-212.67 209.5,-220.33 209.5,-220.33 209.5,-224.17 205.67,-228 201.83,-228\"/>\n",
              "<text text-anchor=\"middle\" x=\"176.5\" y=\"-212.8\" font-family=\"Times,serif\" font-size=\"14.00\">expression</text>\n",
              "</g>\n",
              "<!-- &#45;2295846637464243176&#45;&gt;&#45;2297110078589866564 -->\n",
              "<g id=\"edge7\" class=\"edge\">\n",
              "<title>&#45;2295846637464243176&#45;&gt;&#45;2297110078589866564</title>\n",
              "<path fill=\"none\" stroke=\"black\" stroke-width=\"0.5\" d=\"M137.98,-245.84C145.46,-240.34 154.56,-233.65 162.04,-228.14\"/>\n",
              "</g>\n",
              "<!-- &#45;572993536976381155&#45;&gt;&#45;2297110078589866564 -->\n",
              "<!-- 2079926972677900183 -->\n",
              "<g id=\"node8\" class=\"node\">\n",
              "<title>2079926972677900183</title>\n",
              "<path fill=\"none\" stroke=\"black\" stroke-width=\"0.25\" d=\"M144.83,-187C144.83,-187 126.17,-187 126.17,-187 122.33,-187 118.5,-183.17 118.5,-179.33 118.5,-179.33 118.5,-171.67 118.5,-171.67 118.5,-167.83 122.33,-164 126.17,-164 126.17,-164 144.83,-164 144.83,-164 148.67,-164 152.5,-167.83 152.5,-171.67 152.5,-171.67 152.5,-179.33 152.5,-179.33 152.5,-183.17 148.67,-187 144.83,-187\"/>\n",
              "<text text-anchor=\"middle\" x=\"135.5\" y=\"-171.8\" font-family=\"Times,serif\" font-size=\"14.00\">term</text>\n",
              "</g>\n",
              "<!-- &#45;2297110078589866564&#45;&gt;2079926972677900183 -->\n",
              "<g id=\"edge9\" class=\"edge\">\n",
              "<title>&#45;2297110078589866564&#45;&gt;2079926972677900183</title>\n",
              "<path fill=\"none\" stroke=\"black\" stroke-width=\"0.5\" d=\"M165.3,-204.84C159.51,-199.34 152.47,-192.65 146.69,-187.14\"/>\n",
              "</g>\n",
              "<!-- 8410761518827476192 -->\n",
              "<g id=\"node9\" class=\"node\">\n",
              "<title>8410761518827476192</title>\n",
              "<path fill=\"none\" stroke=\"black\" stroke-width=\"0.25\" d=\"M256.33,-187C256.33,-187 178.67,-187 178.67,-187 174.83,-187 171,-183.17 171,-179.33 171,-179.33 171,-171.67 171,-171.67 171,-167.83 174.83,-164 178.67,-164 178.67,-164 256.33,-164 256.33,-164 260.17,-164 264,-167.83 264,-171.67 264,-171.67 264,-179.33 264,-179.33 264,-183.17 260.17,-187 256.33,-187\"/>\n",
              "<text text-anchor=\"middle\" x=\"217.5\" y=\"-171.8\" font-family=\"Times,serif\" font-size=\"14.00\">rest_expression</text>\n",
              "</g>\n",
              "<!-- &#45;2297110078589866564&#45;&gt;8410761518827476192 -->\n",
              "<g id=\"edge10\" class=\"edge\">\n",
              "<title>&#45;2297110078589866564&#45;&gt;8410761518827476192</title>\n",
              "<path fill=\"none\" stroke=\"black\" stroke-width=\"0.5\" d=\"M187.7,-204.84C193.49,-199.34 200.53,-192.65 206.31,-187.14\"/>\n",
              "</g>\n",
              "<!-- 2079926972677900183&#45;&gt;8410761518827476192 -->\n",
              "<!-- &#45;3835134544123198116 -->\n",
              "<g id=\"node10\" class=\"node\">\n",
              "<title>&#45;3835134544123198116</title>\n",
              "<path fill=\"none\" stroke=\"black\" stroke-width=\"0.25\" d=\"M193.33,-146C193.33,-146 61.67,-146 61.67,-146 57.83,-146 54,-142.17 54,-138.33 54,-138.33 54,-130.67 54,-130.67 54,-126.83 57.83,-123 61.67,-123 61.67,-123 193.33,-123 193.33,-123 197.17,-123 201,-126.83 201,-130.67 201,-130.67 201,-138.33 201,-138.33 201,-142.17 197.17,-146 193.33,-146\"/>\n",
              "<text text-anchor=\"middle\" x=\"127.5\" y=\"-130.8\" font-family=\"Times,serif\" font-size=\"14.00\">parenthesized_expression</text>\n",
              "</g>\n",
              "<!-- 2079926972677900183&#45;&gt;&#45;3835134544123198116 -->\n",
              "<g id=\"edge12\" class=\"edge\">\n",
              "<title>2079926972677900183&#45;&gt;&#45;3835134544123198116</title>\n",
              "<path fill=\"none\" stroke=\"black\" stroke-width=\"0.5\" d=\"M133.31,-163.84C132.19,-158.34 130.81,-151.65 129.68,-146.14\"/>\n",
              "</g>\n",
              "<!-- 3138866236820371453 -->\n",
              "<g id=\"node18\" class=\"node\">\n",
              "<title>3138866236820371453</title>\n",
              "<path fill=\"none\" stroke=\"black\" stroke-width=\"0.25\" d=\"M229,-146C229,-146 224,-146 224,-146 221.5,-146 219,-143.5 219,-141 219,-141 219,-128 219,-128 219,-125.5 221.5,-123 224,-123 224,-123 229,-123 229,-123 231.5,-123 234,-125.5 234,-128 234,-128 234,-141 234,-141 234,-143.5 231.5,-146 229,-146\"/>\n",
              "<text text-anchor=\"middle\" x=\"226.5\" y=\"-130.8\" font-family=\"Times,serif\" font-size=\"14.00\">ε</text>\n",
              "</g>\n",
              "<!-- 8410761518827476192&#45;&gt;3138866236820371453 -->\n",
              "<g id=\"edge23\" class=\"edge\">\n",
              "<title>8410761518827476192&#45;&gt;3138866236820371453</title>\n",
              "<path fill=\"none\" stroke=\"black\" stroke-width=\"0.5\" d=\"M219.96,-163.84C221.23,-158.34 222.77,-151.65 224.04,-146.14\"/>\n",
              "</g>\n",
              "<!-- 279877152207636513 -->\n",
              "<g id=\"node11\" class=\"node\">\n",
              "<title>279877152207636513</title>\n",
              "<path fill=\"none\" stroke=\"black\" stroke-width=\"1.25\" d=\"M71.67,-105C71.67,-105 67.33,-105 67.33,-105 65.17,-105 63,-102.83 63,-100.67 63,-100.67 63,-86.33 63,-86.33 63,-84.17 65.17,-82 67.33,-82 67.33,-82 71.67,-82 71.67,-82 73.83,-82 76,-84.17 76,-86.33 76,-86.33 76,-100.67 76,-100.67 76,-102.83 73.83,-105 71.67,-105\"/>\n",
              "<text text-anchor=\"middle\" x=\"69.5\" y=\"-89.8\" font-family=\"Times,serif\" font-size=\"14.00\">(</text>\n",
              "</g>\n",
              "<!-- &#45;3835134544123198116&#45;&gt;279877152207636513 -->\n",
              "<g id=\"edge13\" class=\"edge\">\n",
              "<title>&#45;3835134544123198116&#45;&gt;279877152207636513</title>\n",
              "<path fill=\"none\" stroke=\"black\" stroke-width=\"0.5\" d=\"M111.65,-122.84C99.98,-114.99 84.7,-104.72 76.11,-98.95\"/>\n",
              "</g>\n",
              "<!-- 8409498077701852804 -->\n",
              "<g id=\"node12\" class=\"node\">\n",
              "<title>8409498077701852804</title>\n",
              "<path fill=\"none\" stroke=\"black\" stroke-width=\"0.25\" d=\"M152.83,-105C152.83,-105 102.17,-105 102.17,-105 98.33,-105 94.5,-101.17 94.5,-97.33 94.5,-97.33 94.5,-89.67 94.5,-89.67 94.5,-85.83 98.33,-82 102.17,-82 102.17,-82 152.83,-82 152.83,-82 156.67,-82 160.5,-85.83 160.5,-89.67 160.5,-89.67 160.5,-97.33 160.5,-97.33 160.5,-101.17 156.67,-105 152.83,-105\"/>\n",
              "<text text-anchor=\"middle\" x=\"127.5\" y=\"-89.8\" font-family=\"Times,serif\" font-size=\"14.00\">expression</text>\n",
              "</g>\n",
              "<!-- &#45;3835134544123198116&#45;&gt;8409498077701852804 -->\n",
              "<g id=\"edge14\" class=\"edge\">\n",
              "<title>&#45;3835134544123198116&#45;&gt;8409498077701852804</title>\n",
              "<path fill=\"none\" stroke=\"black\" stroke-width=\"0.5\" d=\"M127.5,-122.84C127.5,-117.34 127.5,-110.65 127.5,-105.14\"/>\n",
              "</g>\n",
              "<!-- &#45;7256401156605073510 -->\n",
              "<g id=\"node13\" class=\"node\">\n",
              "<title>&#45;7256401156605073510</title>\n",
              "<path fill=\"none\" stroke=\"black\" stroke-width=\"1.25\" d=\"M187.67,-105C187.67,-105 183.33,-105 183.33,-105 181.17,-105 179,-102.83 179,-100.67 179,-100.67 179,-86.33 179,-86.33 179,-84.17 181.17,-82 183.33,-82 183.33,-82 187.67,-82 187.67,-82 189.83,-82 192,-84.17 192,-86.33 192,-86.33 192,-100.67 192,-100.67 192,-102.83 189.83,-105 187.67,-105\"/>\n",
              "<text text-anchor=\"middle\" x=\"185.5\" y=\"-89.8\" font-family=\"Times,serif\" font-size=\"14.00\">)</text>\n",
              "</g>\n",
              "<!-- &#45;3835134544123198116&#45;&gt;&#45;7256401156605073510 -->\n",
              "<g id=\"edge15\" class=\"edge\">\n",
              "<title>&#45;3835134544123198116&#45;&gt;&#45;7256401156605073510</title>\n",
              "<path fill=\"none\" stroke=\"black\" stroke-width=\"0.5\" d=\"M143.35,-122.84C155.02,-114.99 170.3,-104.72 178.89,-98.95\"/>\n",
              "</g>\n",
              "<!-- 279877152207636513&#45;&gt;8409498077701852804 -->\n",
              "<!-- 8409498077701852804&#45;&gt;&#45;7256401156605073510 -->\n",
              "<!-- &#45;6992426759563386639 -->\n",
              "<g id=\"node14\" class=\"node\">\n",
              "<title>&#45;6992426759563386639</title>\n",
              "<path fill=\"none\" stroke=\"black\" stroke-width=\"0.25\" d=\"M95.83,-64C95.83,-64 77.17,-64 77.17,-64 73.33,-64 69.5,-60.17 69.5,-56.33 69.5,-56.33 69.5,-48.67 69.5,-48.67 69.5,-44.83 73.33,-41 77.17,-41 77.17,-41 95.83,-41 95.83,-41 99.67,-41 103.5,-44.83 103.5,-48.67 103.5,-48.67 103.5,-56.33 103.5,-56.33 103.5,-60.17 99.67,-64 95.83,-64\"/>\n",
              "<text text-anchor=\"middle\" x=\"86.5\" y=\"-48.8\" font-family=\"Times,serif\" font-size=\"14.00\">term</text>\n",
              "</g>\n",
              "<!-- 8409498077701852804&#45;&gt;&#45;6992426759563386639 -->\n",
              "<g id=\"edge18\" class=\"edge\">\n",
              "<title>8409498077701852804&#45;&gt;&#45;6992426759563386639</title>\n",
              "<path fill=\"none\" stroke=\"black\" stroke-width=\"0.5\" d=\"M116.3,-81.84C110.51,-76.34 103.47,-69.65 97.69,-64.14\"/>\n",
              "</g>\n",
              "<!-- 8559474717129909561 -->\n",
              "<g id=\"node15\" class=\"node\">\n",
              "<title>8559474717129909561</title>\n",
              "<path fill=\"none\" stroke=\"black\" stroke-width=\"0.25\" d=\"M207.33,-64C207.33,-64 129.67,-64 129.67,-64 125.83,-64 122,-60.17 122,-56.33 122,-56.33 122,-48.67 122,-48.67 122,-44.83 125.83,-41 129.67,-41 129.67,-41 207.33,-41 207.33,-41 211.17,-41 215,-44.83 215,-48.67 215,-48.67 215,-56.33 215,-56.33 215,-60.17 211.17,-64 207.33,-64\"/>\n",
              "<text text-anchor=\"middle\" x=\"168.5\" y=\"-48.8\" font-family=\"Times,serif\" font-size=\"14.00\">rest_expression</text>\n",
              "</g>\n",
              "<!-- 8409498077701852804&#45;&gt;8559474717129909561 -->\n",
              "<g id=\"edge19\" class=\"edge\">\n",
              "<title>8409498077701852804&#45;&gt;8559474717129909561</title>\n",
              "<path fill=\"none\" stroke=\"black\" stroke-width=\"0.5\" d=\"M138.7,-81.84C144.49,-76.34 151.53,-69.65 157.31,-64.14\"/>\n",
              "</g>\n",
              "<!-- &#45;6992426759563386639&#45;&gt;8559474717129909561 -->\n",
              "<!-- &#45;608204741294995764 -->\n",
              "<g id=\"node16\" class=\"node\">\n",
              "<title>&#45;608204741294995764</title>\n",
              "<path fill=\"none\" stroke=\"black\" stroke-width=\"1.25\" d=\"M120.33,-23C120.33,-23 52.67,-23 52.67,-23 48.83,-23 45,-19.17 45,-15.33 45,-15.33 45,-7.67 45,-7.67 45,-3.83 48.83,0 52.67,0 52.67,0 120.33,0 120.33,0 124.17,0 128,-3.83 128,-7.67 128,-7.67 128,-15.33 128,-15.33 128,-19.17 124.17,-23 120.33,-23\"/>\n",
              "<text text-anchor=\"middle\" x=\"86.5\" y=\"-7.8\" font-family=\"Times,serif\" font-size=\"14.00\">IDENTIFIER</text>\n",
              "</g>\n",
              "<!-- &#45;6992426759563386639&#45;&gt;&#45;608204741294995764 -->\n",
              "<g id=\"edge21\" class=\"edge\">\n",
              "<title>&#45;6992426759563386639&#45;&gt;&#45;608204741294995764</title>\n",
              "<path fill=\"none\" stroke=\"black\" stroke-width=\"0.5\" d=\"M86.5,-40.84C86.5,-35.34 86.5,-28.65 86.5,-23.14\"/>\n",
              "</g>\n",
              "<!-- &#45;6711282415144016599 -->\n",
              "<g id=\"node17\" class=\"node\">\n",
              "<title>&#45;6711282415144016599</title>\n",
              "<path fill=\"none\" stroke=\"black\" stroke-width=\"0.25\" d=\"M171,-23C171,-23 166,-23 166,-23 163.5,-23 161,-20.5 161,-18 161,-18 161,-5 161,-5 161,-2.5 163.5,0 166,0 166,0 171,0 171,0 173.5,0 176,-2.5 176,-5 176,-5 176,-18 176,-18 176,-20.5 173.5,-23 171,-23\"/>\n",
              "<text text-anchor=\"middle\" x=\"168.5\" y=\"-7.8\" font-family=\"Times,serif\" font-size=\"14.00\">ε</text>\n",
              "</g>\n",
              "<!-- 8559474717129909561&#45;&gt;&#45;6711282415144016599 -->\n",
              "<g id=\"edge22\" class=\"edge\">\n",
              "<title>8559474717129909561&#45;&gt;&#45;6711282415144016599</title>\n",
              "<path fill=\"none\" stroke=\"black\" stroke-width=\"0.5\" d=\"M168.5,-40.84C168.5,-35.34 168.5,-28.65 168.5,-23.14\"/>\n",
              "</g>\n",
              "</g>\n",
              "</svg>\n"
            ],
            "text/plain": [
              "ProductionGraph(input -> expression -> term rest_expression -> IDENTIFIER rest_expression -> IDENTIFIER + expression -> IDENTIFIER + term rest_expression -> IDENTIFIER + parenthesized_expression rest_expression -> IDENTIFIER + ( expression ) rest_expression -> IDENTIFIER + ( term rest_expression ) rest_expression -> IDENTIFIER + ( IDENTIFIER rest_expression ) rest_expression -> IDENTIFIER + ( IDENTIFIER ) rest_expression -> IDENTIFIER + ( IDENTIFIER ))"
            ]
          },
          "execution_count": 12,
          "metadata": {},
          "output_type": "execute_result"
        }
      ],
      "source": [
        "ProductionGraph(d)"
      ]
    },
    {
      "cell_type": "markdown",
      "metadata": {},
      "source": [
        "## L'insieme `FOLLOW`, e `TABLE` (senza `FIRSTf` e pila)"
      ]
    },
    {
      "cell_type": "markdown",
      "metadata": {},
      "source": [
        "A prescindere dalla necessità di determinare se valga la proprietà *full LL(1)* (fatto che non può essere appurato con una precomputazione, ma a limite può essere segnalato  all'accadere di un conflitto, come avviene in `TABLEf`), resta comunque il problema che `TABLEf` richiede l'accesso all'intero contenuto $\\Gamma$ della pila e che gli insiemi $\\operatorname{FIRST}(\\alpha\\Gamma\\#)$ non possono essere precomputati (per tutte le possibili pile).\n",
        "\n",
        "Osserviamo che se $A\\to \\alpha$ e $\\varepsilon \\not\\in \\operatorname{FIRST}(\\alpha)$, allora $\\operatorname{FIRST}(\\alpha\\Gamma\\#) = \\operatorname{FIRST}(\\alpha)$; il calcolo è quindi necessario nel caso in cui $\\varepsilon \\in \\operatorname{FIRST}(\\alpha)$ per cui invece $\\operatorname{FIRST}(\\alpha\\Gamma\\#) = \\left( \n",
        "\\operatorname{FIRST}(\\alpha) \\setminus \\{\\varepsilon\\} \\right) \\cup\n",
        "\\operatorname{FIRST}(\\Gamma\\#)$.\n",
        "\n",
        "Invece di calcolare $\\operatorname{FIRST}(\\Gamma\\#)$ al variare del contenuto della pila $\\Gamma$, si può considerare l'unione di tutti gli insiemi per ciascuna possibile pila (fermo restando il lato sinistro $A$):\n",
        "$$\n",
        "\\operatorname{FOLLOW}(A) = \n",
        "\\bigcup_{x, \\Gamma : S\\#\\overset{*}{\\to}x A\\Gamma\\#} \\operatorname{FIRST}(\\Gamma\\#) = \n",
        "\\{t \\in T | S\\#\\overset{*}{\\to}x A t y\\#\\}.\n",
        "$$\n",
        "\n",
        "Come vedremo:\n",
        "\n",
        "* l'insieme $\\operatorname{FOLLOW}(A)$ può essere precomputato (attraverso una chiusura),\n",
        "\n",
        "* è possibile costruire una tabella di predizione usando, per ogni $A\\to \\alpha$, solo gli insiemi $\\operatorname{FIRST}(\\alpha)$ e $\\operatorname{FOLLOW}(A)$.\n",
        "\n",
        "Iniziamo dal primo punto."
      ]
    },
    {
      "cell_type": "code",
      "execution_count": null,
      "metadata": {},
      "outputs": [],
      "source": [
        "def compute_follow(G, FIRST):\n",
        "\n",
        "  FOLLOW = Table(1, set)\n",
        "  FOLLOW[G.S] |= {HASH}\n",
        "\n",
        "  @closure\n",
        "  def complete_follow(FOLLOW):\n",
        "    for X, ω in G.P:\n",
        "      for γ in suffixes(ω): # X -> α A β (α è mangiato dal suffisso)\n",
        "        A, *β = γ\n",
        "        if A not in G.N: continue\n",
        "        FOLLOW[A] |= FIRST[β] - {ε}\n",
        "        if ε in FIRST[β]: FOLLOW[A] |= FOLLOW[X]\n",
        "    return FOLLOW\n",
        "  \n",
        "  return complete_follow(FOLLOW)"
      ]
    },
    {
      "cell_type": "markdown",
      "metadata": {},
      "source": [
        "L'osservazione cruciale è che, data una produzione $X\\to \\omega$, per ogni fattorizzazione di $\\omega$ come $\\alpha A \\beta$, si ha che $\\operatorname{FOLLOW}(A)$ contiene:\n",
        "\n",
        "* $\\operatorname{FIRST}(\\beta)$ (tolto eventualmente $\\varepsilon$),\n",
        "* $\\operatorname{FOLLOW}(X)$ se $\\varepsilon \\in \\operatorname{FIRST}(\\beta)$.\n",
        "\n",
        "Il secondo punto segue dal fatto che $S\\#\\overset{*}{\\to}x X t y\\to x\\alpha A \\beta t y\\# \\overset{*}{\\to} x\\alpha A t y\\#$ quindi quel che segue $X$ segiurà anche $A$.\n",
        "\n",
        "Facciamo un esempio con la grammatica $G$ (di \"fatti e domande\"):"
      ]
    },
    {
      "cell_type": "code",
      "execution_count": null,
      "metadata": {},
      "outputs": [
        {
          "data": {
            "text/html": [
              "<style>td, th {border: 1pt solid lightgray !important; text-align: left !important;}</style><table><tr><th><pre>(Facts)</pre><td><pre>!, ε</pre>\n",
              "<tr><th><pre>(Fact)</pre><td><pre>!</pre>\n",
              "<tr><th><pre>(Session)</pre><td><pre>!, (, ?</pre>\n",
              "<tr><th><pre>(Question)</pre><td><pre>?</pre></table>"
            ],
            "text/plain": [
              "<liblet.utils.Table at 0x7f0cb86bdd90>"
            ]
          },
          "execution_count": 14,
          "metadata": {},
          "output_type": "execute_result"
        }
      ],
      "source": [
        "FIRST = compute_εfirst(G)\n",
        "FIRST.restrict_to({(N, ) for N in G.N})"
      ]
    },
    {
      "cell_type": "code",
      "execution_count": null,
      "metadata": {},
      "outputs": [
        {
          "data": {
            "text/html": [
              "<style>td, th {border: 1pt solid lightgray !important; text-align: left !important;}</style><table><tr><th><pre>Session</pre><td><pre>), ♯</pre>\n",
              "<tr><th><pre>Facts</pre><td><pre>?</pre>\n",
              "<tr><th><pre>Question</pre><td><pre>), ♯</pre>\n",
              "<tr><th><pre>Fact</pre><td><pre>!, ?</pre></table>"
            ],
            "text/plain": [
              "<liblet.utils.Table at 0x7f0cb86d4f70>"
            ]
          },
          "execution_count": 15,
          "metadata": {},
          "output_type": "execute_result"
        }
      ],
      "source": [
        "FOLLOW = compute_follow(G, FIRST)\n",
        "FOLLOW"
      ]
    },
    {
      "cell_type": "markdown",
      "metadata": {},
      "source": [
        "Ora è possibile precomputare una vera e propria tabella, per ciascuna produzione $A\\to\\alpha$ tenendo traccia dei conflitti tra $\\operatorname{FIRST}$ e $\\operatorname{FOLLOW}$"
      ]
    },
    {
      "cell_type": "code",
      "execution_count": null,
      "metadata": {},
      "outputs": [],
      "source": [
        "def compute_table(G, FIRST, FOLLOW):\n",
        "\n",
        "  TABLE = Table(2)\n",
        "  FIRST_TABLE = Table(2)\n",
        "  FOLLOW_TABLE = Table(2)\n",
        "\n",
        "  for P in G.P:\n",
        "    A, α = P\n",
        "    for a in FIRST[α] - {'ε'}:\n",
        "      if FIRST_TABLE[A, a] is not None:\n",
        "        warn('First/first conflict on ({}, {}) for production {}'.format(A, a, P))\n",
        "      else:\n",
        "        FIRST_TABLE[A, a] = P\n",
        "        TABLE[A, a] = P\n",
        "    if 'ε' in FIRST[α]:\n",
        "      for a in FOLLOW[A]:\n",
        "        if FIRST_TABLE[A, a] is not None:\n",
        "          warn('First/follow conflict on ({}, {}) for production {}'.format(A, a, P))\n",
        "        if FOLLOW_TABLE[A, a] is not None:\n",
        "          warn('Follow/follow conflict on ({}, {}) for production {}'.format(A, a, P))\n",
        "        if FIRST_TABLE[A, a] is None and FOLLOW_TABLE[A, a] is None:\n",
        "          FOLLOW_TABLE[A, a] = P\n",
        "          TABLE[A, a] = P\n",
        "  return TABLE"
      ]
    },
    {
      "cell_type": "markdown",
      "metadata": {},
      "source": [
        "Se la tabella contiene al più una produzione per ogni cella, allora la grammatica è detta **strong LL(1)**. Osservate che se una grammatica è full LL(1) allora è anche strong LL(1) (si dimostra per contronominale, vedi la Sez. 8.2.3. del libro)!\n",
        "\n",
        "Possiamo costruire la tabella per la grammatica dell'esempio precedente"
      ]
    },
    {
      "cell_type": "code",
      "execution_count": null,
      "metadata": {},
      "outputs": [
        {
          "data": {
            "text/html": [
              "<style>td, th {border: 1pt solid lightgray !important; text-align: left !important;}</style><table><tr><td>&nbsp;<th><pre>!</pre><th><pre>?</pre><th><pre>(</pre>\n",
              "<tr><th><pre>Session<pre><td><pre>Session -> Facts Question</pre><td><pre>Session -> Facts Question</pre><td><pre>Session -> ( Session ) Session</pre>\n",
              "<tr><th><pre>Facts<pre><td><pre>Facts -> Fact Facts</pre><td><pre>Facts -> ε</pre><td>&nbsp;\n",
              "<tr><th><pre>Fact<pre><td><pre>Fact -> ! STRING</pre><td>&nbsp;<td>&nbsp;\n",
              "<tr><th><pre>Question<pre><td>&nbsp;<td><pre>Question -> ? STRING</pre><td>&nbsp;\n",
              "</table>"
            ],
            "text/plain": [
              "<liblet.utils.Table at 0x7f0cb86bde50>"
            ]
          },
          "execution_count": 17,
          "metadata": {},
          "output_type": "execute_result"
        }
      ],
      "source": [
        "TABLE = compute_table(G, FIRST, FOLLOW)\n",
        "TABLE"
      ]
    },
    {
      "cell_type": "markdown",
      "metadata": {},
      "source": [
        "La costruzione del parser *strong* è molto simile a quella *full* della precedente sezione, ma ora la tabella è una vera e propria tabella e basta consultarla per la coppia $(A, a)$, non c'è bisogno di guardare tutta la pila!"
      ]
    },
    {
      "cell_type": "code",
      "execution_count": null,
      "metadata": {},
      "outputs": [],
      "source": [
        "def parse(G, TABLE, INPUT):\n",
        "  tdid = TopDownInstantaneousDescription(G, INPUT)\n",
        "  while not tdid.is_done():\n",
        "    if tdid.top() in G.N:\n",
        "      P = TABLE[tdid.top(), tdid.head()]\n",
        "      if P is None:\n",
        "        warn('No production for ({}, {}) at {}.'.format(tdid.top(), tdid.head(), tdid.steps) )\n",
        "        return None \n",
        "      tdid = tdid.predict(P)\n",
        "    else:\n",
        "      if tdid.top() == ε or tdid.top() == tdid.head():\n",
        "        tdid = tdid.match()\n",
        "      else:\n",
        "        warn('Expecting {}, got {}.'.format(tdid.top(), tdid.head()))\n",
        "        return None   \n",
        "  return Derivation(G).leftmost(tdid.steps)"
      ]
    },
    {
      "cell_type": "markdown",
      "metadata": {},
      "source": [
        "Facciamo un esempio sulla solita grammatica"
      ]
    },
    {
      "cell_type": "code",
      "execution_count": null,
      "metadata": {},
      "outputs": [
        {
          "data": {
            "image/svg+xml": [
              "<?xml version=\"1.0\" encoding=\"UTF-8\" standalone=\"no\"?>\n",
              "<!DOCTYPE svg PUBLIC \"-//W3C//DTD SVG 1.1//EN\"\n",
              " \"http://www.w3.org/Graphics/SVG/1.1/DTD/svg11.dtd\">\n",
              "<!-- Generated by graphviz version 2.43.0 (0)\n",
              " -->\n",
              "<!-- Title: %3 Pages: 1 -->\n",
              "<svg width=\"264pt\" height=\"195pt\"\n",
              " viewBox=\"0.00 0.00 264.00 195.00\" xmlns=\"http://www.w3.org/2000/svg\" xmlns:xlink=\"http://www.w3.org/1999/xlink\">\n",
              "<g id=\"graph0\" class=\"graph\" transform=\"scale(1 1) rotate(0) translate(4 191)\">\n",
              "<title>%3</title>\n",
              "<polygon fill=\"white\" stroke=\"transparent\" points=\"-4,4 -4,-191 260,-191 260,4 -4,4\"/>\n",
              "<!-- 6932071591454860181 -->\n",
              "<g id=\"node1\" class=\"node\">\n",
              "<title>6932071591454860181</title>\n",
              "<path fill=\"none\" stroke=\"black\" stroke-width=\"0.25\" d=\"M162.83,-187C162.83,-187 128.17,-187 128.17,-187 124.33,-187 120.5,-183.17 120.5,-179.33 120.5,-179.33 120.5,-171.67 120.5,-171.67 120.5,-167.83 124.33,-164 128.17,-164 128.17,-164 162.83,-164 162.83,-164 166.67,-164 170.5,-167.83 170.5,-171.67 170.5,-171.67 170.5,-179.33 170.5,-179.33 170.5,-183.17 166.67,-187 162.83,-187\"/>\n",
              "<text text-anchor=\"middle\" x=\"145.5\" y=\"-171.8\" font-family=\"Times,serif\" font-size=\"14.00\">Session</text>\n",
              "</g>\n",
              "<!-- &#45;555285840879353808 -->\n",
              "<g id=\"node2\" class=\"node\">\n",
              "<title>&#45;555285840879353808</title>\n",
              "<path fill=\"none\" stroke=\"black\" stroke-width=\"0.25\" d=\"M124.33,-146C124.33,-146 102.67,-146 102.67,-146 98.83,-146 95,-142.17 95,-138.33 95,-138.33 95,-130.67 95,-130.67 95,-126.83 98.83,-123 102.67,-123 102.67,-123 124.33,-123 124.33,-123 128.17,-123 132,-126.83 132,-130.67 132,-130.67 132,-138.33 132,-138.33 132,-142.17 128.17,-146 124.33,-146\"/>\n",
              "<text text-anchor=\"middle\" x=\"113.5\" y=\"-130.8\" font-family=\"Times,serif\" font-size=\"14.00\">Facts</text>\n",
              "</g>\n",
              "<!-- 6932071591454860181&#45;&gt;&#45;555285840879353808 -->\n",
              "<g id=\"edge1\" class=\"edge\">\n",
              "<title>6932071591454860181&#45;&gt;&#45;555285840879353808</title>\n",
              "<path fill=\"none\" stroke=\"black\" stroke-width=\"0.5\" d=\"M136.76,-163.84C132.24,-158.34 126.75,-151.65 122.23,-146.14\"/>\n",
              "</g>\n",
              "<!-- 1437243089561198760 -->\n",
              "<g id=\"node3\" class=\"node\">\n",
              "<title>1437243089561198760</title>\n",
              "<path fill=\"none\" stroke=\"black\" stroke-width=\"0.25\" d=\"M199.33,-146C199.33,-146 157.67,-146 157.67,-146 153.83,-146 150,-142.17 150,-138.33 150,-138.33 150,-130.67 150,-130.67 150,-126.83 153.83,-123 157.67,-123 157.67,-123 199.33,-123 199.33,-123 203.17,-123 207,-126.83 207,-130.67 207,-130.67 207,-138.33 207,-138.33 207,-142.17 203.17,-146 199.33,-146\"/>\n",
              "<text text-anchor=\"middle\" x=\"178.5\" y=\"-130.8\" font-family=\"Times,serif\" font-size=\"14.00\">Question</text>\n",
              "</g>\n",
              "<!-- 6932071591454860181&#45;&gt;1437243089561198760 -->\n",
              "<g id=\"edge2\" class=\"edge\">\n",
              "<title>6932071591454860181&#45;&gt;1437243089561198760</title>\n",
              "<path fill=\"none\" stroke=\"black\" stroke-width=\"0.5\" d=\"M154.52,-163.84C159.17,-158.34 164.84,-151.65 169.49,-146.14\"/>\n",
              "</g>\n",
              "<!-- &#45;555285840879353808&#45;&gt;1437243089561198760 -->\n",
              "<!-- 8116701983600267006 -->\n",
              "<g id=\"node4\" class=\"node\">\n",
              "<title>8116701983600267006</title>\n",
              "<path fill=\"none\" stroke=\"black\" stroke-width=\"0.25\" d=\"M72.83,-105C72.83,-105 56.17,-105 56.17,-105 52.33,-105 48.5,-101.17 48.5,-97.33 48.5,-97.33 48.5,-89.67 48.5,-89.67 48.5,-85.83 52.33,-82 56.17,-82 56.17,-82 72.83,-82 72.83,-82 76.67,-82 80.5,-85.83 80.5,-89.67 80.5,-89.67 80.5,-97.33 80.5,-97.33 80.5,-101.17 76.67,-105 72.83,-105\"/>\n",
              "<text text-anchor=\"middle\" x=\"64.5\" y=\"-89.8\" font-family=\"Times,serif\" font-size=\"14.00\">Fact</text>\n",
              "</g>\n",
              "<!-- &#45;555285840879353808&#45;&gt;8116701983600267006 -->\n",
              "<g id=\"edge4\" class=\"edge\">\n",
              "<title>&#45;555285840879353808&#45;&gt;8116701983600267006</title>\n",
              "<path fill=\"none\" stroke=\"black\" stroke-width=\"0.5\" d=\"M100.11,-122.84C93.2,-117.34 84.78,-110.65 77.87,-105.14\"/>\n",
              "</g>\n",
              "<!-- &#45;7885417716592295867 -->\n",
              "<g id=\"node5\" class=\"node\">\n",
              "<title>&#45;7885417716592295867</title>\n",
              "<path fill=\"none\" stroke=\"black\" stroke-width=\"0.25\" d=\"M130.33,-105C130.33,-105 108.67,-105 108.67,-105 104.83,-105 101,-101.17 101,-97.33 101,-97.33 101,-89.67 101,-89.67 101,-85.83 104.83,-82 108.67,-82 108.67,-82 130.33,-82 130.33,-82 134.17,-82 138,-85.83 138,-89.67 138,-89.67 138,-97.33 138,-97.33 138,-101.17 134.17,-105 130.33,-105\"/>\n",
              "<text text-anchor=\"middle\" x=\"119.5\" y=\"-89.8\" font-family=\"Times,serif\" font-size=\"14.00\">Facts</text>\n",
              "</g>\n",
              "<!-- &#45;555285840879353808&#45;&gt;&#45;7885417716592295867 -->\n",
              "<g id=\"edge5\" class=\"edge\">\n",
              "<title>&#45;555285840879353808&#45;&gt;&#45;7885417716592295867</title>\n",
              "<path fill=\"none\" stroke=\"black\" stroke-width=\"0.5\" d=\"M115.14,-122.84C115.99,-117.34 117.02,-110.65 117.86,-105.14\"/>\n",
              "</g>\n",
              "<!-- 4930824169222290871 -->\n",
              "<g id=\"node13\" class=\"node\">\n",
              "<title>4930824169222290871</title>\n",
              "<path fill=\"none\" stroke=\"black\" stroke-width=\"1.25\" d=\"M176,-105C176,-105 171,-105 171,-105 168.5,-105 166,-102.5 166,-100 166,-100 166,-87 166,-87 166,-84.5 168.5,-82 171,-82 171,-82 176,-82 176,-82 178.5,-82 181,-84.5 181,-87 181,-87 181,-100 181,-100 181,-102.5 178.5,-105 176,-105\"/>\n",
              "<text text-anchor=\"middle\" x=\"173.5\" y=\"-89.8\" font-family=\"Times,serif\" font-size=\"14.00\">?</text>\n",
              "</g>\n",
              "<!-- 1437243089561198760&#45;&gt;4930824169222290871 -->\n",
              "<g id=\"edge17\" class=\"edge\">\n",
              "<title>1437243089561198760&#45;&gt;4930824169222290871</title>\n",
              "<path fill=\"none\" stroke=\"black\" stroke-width=\"0.5\" d=\"M177.13,-122.84C176.43,-117.34 175.57,-110.65 174.86,-105.14\"/>\n",
              "</g>\n",
              "<!-- 4425483220138549179 -->\n",
              "<g id=\"node14\" class=\"node\">\n",
              "<title>4425483220138549179</title>\n",
              "<path fill=\"none\" stroke=\"black\" stroke-width=\"1.25\" d=\"M248.33,-105C248.33,-105 206.67,-105 206.67,-105 202.83,-105 199,-101.17 199,-97.33 199,-97.33 199,-89.67 199,-89.67 199,-85.83 202.83,-82 206.67,-82 206.67,-82 248.33,-82 248.33,-82 252.17,-82 256,-85.83 256,-89.67 256,-89.67 256,-97.33 256,-97.33 256,-101.17 252.17,-105 248.33,-105\"/>\n",
              "<text text-anchor=\"middle\" x=\"227.5\" y=\"-89.8\" font-family=\"Times,serif\" font-size=\"14.00\">STRING</text>\n",
              "</g>\n",
              "<!-- 1437243089561198760&#45;&gt;4425483220138549179 -->\n",
              "<g id=\"edge18\" class=\"edge\">\n",
              "<title>1437243089561198760&#45;&gt;4425483220138549179</title>\n",
              "<path fill=\"none\" stroke=\"black\" stroke-width=\"0.5\" d=\"M191.89,-122.84C198.8,-117.34 207.22,-110.65 214.13,-105.14\"/>\n",
              "</g>\n",
              "<!-- 8116701983600267006&#45;&gt;&#45;7885417716592295867 -->\n",
              "<!-- 2564408647669012244 -->\n",
              "<g id=\"node6\" class=\"node\">\n",
              "<title>2564408647669012244</title>\n",
              "<path fill=\"none\" stroke=\"black\" stroke-width=\"1.25\" d=\"M8.67,-64C8.67,-64 4.33,-64 4.33,-64 2.17,-64 0,-61.83 0,-59.67 0,-59.67 0,-45.33 0,-45.33 0,-43.17 2.17,-41 4.33,-41 4.33,-41 8.67,-41 8.67,-41 10.83,-41 13,-43.17 13,-45.33 13,-45.33 13,-59.67 13,-59.67 13,-61.83 10.83,-64 8.67,-64\"/>\n",
              "<text text-anchor=\"middle\" x=\"6.5\" y=\"-48.8\" font-family=\"Times,serif\" font-size=\"14.00\">!</text>\n",
              "</g>\n",
              "<!-- 8116701983600267006&#45;&gt;2564408647669012244 -->\n",
              "<g id=\"edge7\" class=\"edge\">\n",
              "<title>8116701983600267006&#45;&gt;2564408647669012244</title>\n",
              "<path fill=\"none\" stroke=\"black\" stroke-width=\"0.5\" d=\"M48.1,-81.77C40.05,-76.47 30.23,-69.95 21.5,-64 18.77,-62.14 15.78,-60.06 13.2,-58.24\"/>\n",
              "</g>\n",
              "<!-- 3158290312677402167 -->\n",
              "<g id=\"node7\" class=\"node\">\n",
              "<title>3158290312677402167</title>\n",
              "<path fill=\"none\" stroke=\"black\" stroke-width=\"1.25\" d=\"M80.33,-64C80.33,-64 38.67,-64 38.67,-64 34.83,-64 31,-60.17 31,-56.33 31,-56.33 31,-48.67 31,-48.67 31,-44.83 34.83,-41 38.67,-41 38.67,-41 80.33,-41 80.33,-41 84.17,-41 88,-44.83 88,-48.67 88,-48.67 88,-56.33 88,-56.33 88,-60.17 84.17,-64 80.33,-64\"/>\n",
              "<text text-anchor=\"middle\" x=\"59.5\" y=\"-48.8\" font-family=\"Times,serif\" font-size=\"14.00\">STRING</text>\n",
              "</g>\n",
              "<!-- 8116701983600267006&#45;&gt;3158290312677402167 -->\n",
              "<g id=\"edge8\" class=\"edge\">\n",
              "<title>8116701983600267006&#45;&gt;3158290312677402167</title>\n",
              "<path fill=\"none\" stroke=\"black\" stroke-width=\"0.5\" d=\"M63.13,-81.84C62.43,-76.34 61.57,-69.65 60.86,-64.14\"/>\n",
              "</g>\n",
              "<!-- &#45;2916951284885142251 -->\n",
              "<g id=\"node8\" class=\"node\">\n",
              "<title>&#45;2916951284885142251</title>\n",
              "<path fill=\"none\" stroke=\"black\" stroke-width=\"0.25\" d=\"M130.83,-64C130.83,-64 114.17,-64 114.17,-64 110.33,-64 106.5,-60.17 106.5,-56.33 106.5,-56.33 106.5,-48.67 106.5,-48.67 106.5,-44.83 110.33,-41 114.17,-41 114.17,-41 130.83,-41 130.83,-41 134.67,-41 138.5,-44.83 138.5,-48.67 138.5,-48.67 138.5,-56.33 138.5,-56.33 138.5,-60.17 134.67,-64 130.83,-64\"/>\n",
              "<text text-anchor=\"middle\" x=\"122.5\" y=\"-48.8\" font-family=\"Times,serif\" font-size=\"14.00\">Fact</text>\n",
              "</g>\n",
              "<!-- &#45;7885417716592295867&#45;&gt;&#45;2916951284885142251 -->\n",
              "<g id=\"edge10\" class=\"edge\">\n",
              "<title>&#45;7885417716592295867&#45;&gt;&#45;2916951284885142251</title>\n",
              "<path fill=\"none\" stroke=\"black\" stroke-width=\"0.5\" d=\"M120.32,-81.84C120.74,-76.34 121.26,-69.65 121.68,-64.14\"/>\n",
              "</g>\n",
              "<!-- &#45;7518356200003010333 -->\n",
              "<g id=\"node9\" class=\"node\">\n",
              "<title>&#45;7518356200003010333</title>\n",
              "<path fill=\"none\" stroke=\"black\" stroke-width=\"0.25\" d=\"M186.33,-64C186.33,-64 164.67,-64 164.67,-64 160.83,-64 157,-60.17 157,-56.33 157,-56.33 157,-48.67 157,-48.67 157,-44.83 160.83,-41 164.67,-41 164.67,-41 186.33,-41 186.33,-41 190.17,-41 194,-44.83 194,-48.67 194,-48.67 194,-56.33 194,-56.33 194,-60.17 190.17,-64 186.33,-64\"/>\n",
              "<text text-anchor=\"middle\" x=\"175.5\" y=\"-48.8\" font-family=\"Times,serif\" font-size=\"14.00\">Facts</text>\n",
              "</g>\n",
              "<!-- &#45;7885417716592295867&#45;&gt;&#45;7518356200003010333 -->\n",
              "<g id=\"edge11\" class=\"edge\">\n",
              "<title>&#45;7885417716592295867&#45;&gt;&#45;7518356200003010333</title>\n",
              "<path fill=\"none\" stroke=\"black\" stroke-width=\"0.5\" d=\"M134.8,-81.84C142.7,-76.34 152.32,-69.65 160.22,-64.14\"/>\n",
              "</g>\n",
              "<!-- 2564408647669012244&#45;&gt;3158290312677402167 -->\n",
              "<!-- &#45;2916951284885142251&#45;&gt;&#45;7518356200003010333 -->\n",
              "<!-- &#45;2309707045811479142 -->\n",
              "<g id=\"node10\" class=\"node\">\n",
              "<title>&#45;2309707045811479142</title>\n",
              "<path fill=\"none\" stroke=\"black\" stroke-width=\"1.25\" d=\"M71.67,-23C71.67,-23 67.33,-23 67.33,-23 65.17,-23 63,-20.83 63,-18.67 63,-18.67 63,-4.33 63,-4.33 63,-2.17 65.17,0 67.33,0 67.33,0 71.67,0 71.67,0 73.83,0 76,-2.17 76,-4.33 76,-4.33 76,-18.67 76,-18.67 76,-20.83 73.83,-23 71.67,-23\"/>\n",
              "<text text-anchor=\"middle\" x=\"69.5\" y=\"-7.8\" font-family=\"Times,serif\" font-size=\"14.00\">!</text>\n",
              "</g>\n",
              "<!-- &#45;2916951284885142251&#45;&gt;&#45;2309707045811479142 -->\n",
              "<g id=\"edge13\" class=\"edge\">\n",
              "<title>&#45;2916951284885142251&#45;&gt;&#45;2309707045811479142</title>\n",
              "<path fill=\"none\" stroke=\"black\" stroke-width=\"0.5\" d=\"M108.02,-40.84C97.6,-33.18 84.03,-23.19 76.09,-17.35\"/>\n",
              "</g>\n",
              "<!-- &#45;7875362955808007090 -->\n",
              "<g id=\"node11\" class=\"node\">\n",
              "<title>&#45;7875362955808007090</title>\n",
              "<path fill=\"none\" stroke=\"black\" stroke-width=\"1.25\" d=\"M143.33,-23C143.33,-23 101.67,-23 101.67,-23 97.83,-23 94,-19.17 94,-15.33 94,-15.33 94,-7.67 94,-7.67 94,-3.83 97.83,0 101.67,0 101.67,0 143.33,0 143.33,0 147.17,0 151,-3.83 151,-7.67 151,-7.67 151,-15.33 151,-15.33 151,-19.17 147.17,-23 143.33,-23\"/>\n",
              "<text text-anchor=\"middle\" x=\"122.5\" y=\"-7.8\" font-family=\"Times,serif\" font-size=\"14.00\">STRING</text>\n",
              "</g>\n",
              "<!-- &#45;2916951284885142251&#45;&gt;&#45;7875362955808007090 -->\n",
              "<g id=\"edge14\" class=\"edge\">\n",
              "<title>&#45;2916951284885142251&#45;&gt;&#45;7875362955808007090</title>\n",
              "<path fill=\"none\" stroke=\"black\" stroke-width=\"0.5\" d=\"M122.5,-40.84C122.5,-35.34 122.5,-28.65 122.5,-23.14\"/>\n",
              "</g>\n",
              "<!-- &#45;932446033970306786 -->\n",
              "<g id=\"node12\" class=\"node\">\n",
              "<title>&#45;932446033970306786</title>\n",
              "<path fill=\"none\" stroke=\"black\" stroke-width=\"0.25\" d=\"M179,-23C179,-23 174,-23 174,-23 171.5,-23 169,-20.5 169,-18 169,-18 169,-5 169,-5 169,-2.5 171.5,0 174,0 174,0 179,0 179,0 181.5,0 184,-2.5 184,-5 184,-5 184,-18 184,-18 184,-20.5 181.5,-23 179,-23\"/>\n",
              "<text text-anchor=\"middle\" x=\"176.5\" y=\"-7.8\" font-family=\"Times,serif\" font-size=\"14.00\">ε</text>\n",
              "</g>\n",
              "<!-- &#45;7518356200003010333&#45;&gt;&#45;932446033970306786 -->\n",
              "<g id=\"edge16\" class=\"edge\">\n",
              "<title>&#45;7518356200003010333&#45;&gt;&#45;932446033970306786</title>\n",
              "<path fill=\"none\" stroke=\"black\" stroke-width=\"0.5\" d=\"M175.77,-40.84C175.91,-35.34 176.09,-28.65 176.23,-23.14\"/>\n",
              "</g>\n",
              "<!-- &#45;2309707045811479142&#45;&gt;&#45;7875362955808007090 -->\n",
              "<!-- 4930824169222290871&#45;&gt;4425483220138549179 -->\n",
              "</g>\n",
              "</svg>\n"
            ],
            "text/plain": [
              "ProductionGraph(Session -> Facts Question -> Fact Facts Question -> ! STRING Facts Question -> ! STRING Fact Facts Question -> ! STRING ! STRING Facts Question -> ! STRING ! STRING Question -> ! STRING ! STRING ? STRING)"
            ]
          },
          "execution_count": 19,
          "metadata": {},
          "output_type": "execute_result"
        }
      ],
      "source": [
        "d = parse(G, TABLE, '! STRING ! STRING ? STRING'.split())\n",
        "ProductionGraph(d)"
      ]
    },
    {
      "cell_type": "markdown",
      "metadata": {},
      "source": [
        "### Consideriamo i vari casi di conflitto attraverso degli esempi\n",
        "\n",
        "Introduciamo una funzione di comodo che faccia i vari passi di comptuazione…"
      ]
    },
    {
      "cell_type": "code",
      "execution_count": null,
      "metadata": {},
      "outputs": [],
      "source": [
        "def fft(G):\n",
        "  FIRST = compute_εfirst(G)\n",
        "  FOLLOW = compute_follow(G, FIRST)\n",
        "  FF = Table(2)\n",
        "  for N in G.N: \n",
        "    FF[N, 'First'] = FIRST[(N, )]\n",
        "    FF[N, 'Follow'] = FOLLOW[N]\n",
        "  return FF, compute_table(G, FIRST, FOLLOW)"
      ]
    },
    {
      "cell_type": "markdown",
      "metadata": {},
      "source": [
        "#### Caso first/first"
      ]
    },
    {
      "cell_type": "code",
      "execution_count": null,
      "metadata": {},
      "outputs": [],
      "source": [
        "G = Grammar.from_string(\"\"\"\n",
        "S -> a | A\n",
        "A -> a\n",
        "\"\"\")"
      ]
    },
    {
      "cell_type": "code",
      "execution_count": null,
      "metadata": {},
      "outputs": [
        {
          "name": "stderr",
          "output_type": "stream",
          "text": [
            "First/first conflict on (S, a) for production S -> A\n"
          ]
        }
      ],
      "source": [
        "FF, TABLE = fft(G)"
      ]
    },
    {
      "cell_type": "code",
      "execution_count": null,
      "metadata": {},
      "outputs": [
        {
          "data": {
            "text/html": [
              "<style>td, th {border: 1pt solid lightgray !important; text-align: left !important;}</style><table><tr><td>&nbsp;<th><pre>First</pre><th><pre>Follow</pre>\n",
              "<tr><th><pre>S<pre><td><pre>a</pre><td><pre>♯</pre>\n",
              "<tr><th><pre>A<pre><td><pre>a</pre><td><pre>♯</pre>\n",
              "</table>"
            ],
            "text/plain": [
              "<liblet.utils.Table at 0x7f0cb86bdc70>"
            ]
          },
          "execution_count": 23,
          "metadata": {},
          "output_type": "execute_result"
        }
      ],
      "source": [
        "FF"
      ]
    },
    {
      "cell_type": "code",
      "execution_count": null,
      "metadata": {},
      "outputs": [
        {
          "data": {
            "text/html": [
              "<style>td, th {border: 1pt solid lightgray !important; text-align: left !important;}</style><table><tr><td>&nbsp;<th><pre>a</pre>\n",
              "<tr><th><pre>S<pre><td><pre>S -> a</pre>\n",
              "<tr><th><pre>A<pre><td><pre>A -> a</pre>\n",
              "</table>"
            ],
            "text/plain": [
              "<liblet.utils.Table at 0x7f0cb86f2e50>"
            ]
          },
          "execution_count": 24,
          "metadata": {},
          "output_type": "execute_result"
        }
      ],
      "source": [
        "TABLE"
      ]
    },
    {
      "cell_type": "markdown",
      "metadata": {},
      "source": [
        "#### Caso first/follow"
      ]
    },
    {
      "cell_type": "code",
      "execution_count": null,
      "metadata": {},
      "outputs": [],
      "source": [
        "G = Grammar.from_string(\"\"\"\n",
        "S -> A a\n",
        "A -> a | ε\n",
        "\"\"\")"
      ]
    },
    {
      "cell_type": "code",
      "execution_count": null,
      "metadata": {},
      "outputs": [
        {
          "name": "stderr",
          "output_type": "stream",
          "text": [
            "First/follow conflict on (A, a) for production A -> ε\n"
          ]
        }
      ],
      "source": [
        "FF, TABLE = fft(G)"
      ]
    },
    {
      "cell_type": "code",
      "execution_count": null,
      "metadata": {},
      "outputs": [
        {
          "data": {
            "text/html": [
              "<style>td, th {border: 1pt solid lightgray !important; text-align: left !important;}</style><table><tr><td>&nbsp;<th><pre>First</pre><th><pre>Follow</pre>\n",
              "<tr><th><pre>S<pre><td><pre>a</pre><td><pre>♯</pre>\n",
              "<tr><th><pre>A<pre><td><pre>a, ε</pre><td><pre>a</pre>\n",
              "</table>"
            ],
            "text/plain": [
              "<liblet.utils.Table at 0x7f0cb86bdaf0>"
            ]
          },
          "execution_count": 27,
          "metadata": {},
          "output_type": "execute_result"
        }
      ],
      "source": [
        "FF"
      ]
    },
    {
      "cell_type": "code",
      "execution_count": null,
      "metadata": {},
      "outputs": [
        {
          "data": {
            "text/html": [
              "<style>td, th {border: 1pt solid lightgray !important; text-align: left !important;}</style><table><tr><td>&nbsp;<th><pre>a</pre>\n",
              "<tr><th><pre>S<pre><td><pre>S -> A a</pre>\n",
              "<tr><th><pre>A<pre><td><pre>A -> a</pre>\n",
              "</table>"
            ],
            "text/plain": [
              "<liblet.utils.Table at 0x7f0cb86bd7f0>"
            ]
          },
          "execution_count": 28,
          "metadata": {},
          "output_type": "execute_result"
        }
      ],
      "source": [
        "TABLE"
      ]
    },
    {
      "cell_type": "markdown",
      "metadata": {},
      "source": [
        "#### Caso follow/follow"
      ]
    },
    {
      "cell_type": "code",
      "execution_count": null,
      "metadata": {},
      "outputs": [],
      "source": [
        "G = Grammar.from_string(\"\"\"\n",
        "S -> A a\n",
        "A -> B | C\n",
        "B -> ε | b\n",
        "C -> ε | c\n",
        "\"\"\")"
      ]
    },
    {
      "cell_type": "code",
      "execution_count": null,
      "metadata": {},
      "outputs": [
        {
          "name": "stderr",
          "output_type": "stream",
          "text": [
            "Follow/follow conflict on (A, a) for production A -> C\n"
          ]
        }
      ],
      "source": [
        "FF, TABLE = fft(G) "
      ]
    },
    {
      "cell_type": "code",
      "execution_count": null,
      "metadata": {},
      "outputs": [
        {
          "data": {
            "text/html": [
              "<style>td, th {border: 1pt solid lightgray !important; text-align: left !important;}</style><table><tr><td>&nbsp;<th><pre>First</pre><th><pre>Follow</pre>\n",
              "<tr><th><pre>S<pre><td><pre>a, b, c</pre><td><pre>♯</pre>\n",
              "<tr><th><pre>C<pre><td><pre>c, ε</pre><td><pre>a</pre>\n",
              "<tr><th><pre>B<pre><td><pre>b, ε</pre><td><pre>a</pre>\n",
              "<tr><th><pre>A<pre><td><pre>b, c, ε</pre><td><pre>a</pre>\n",
              "</table>"
            ],
            "text/plain": [
              "<liblet.utils.Table at 0x7f0cc021c580>"
            ]
          },
          "execution_count": 31,
          "metadata": {},
          "output_type": "execute_result"
        }
      ],
      "source": [
        "FF"
      ]
    },
    {
      "cell_type": "code",
      "execution_count": null,
      "metadata": {},
      "outputs": [
        {
          "data": {
            "text/html": [
              "<style>td, th {border: 1pt solid lightgray !important; text-align: left !important;}</style><table><tr><td>&nbsp;<th><pre>a</pre><th><pre>c</pre><th><pre>b</pre>\n",
              "<tr><th><pre>S<pre><td><pre>S -> A a</pre><td><pre>S -> A a</pre><td><pre>S -> A a</pre>\n",
              "<tr><th><pre>A<pre><td><pre>A -> B</pre><td><pre>A -> C</pre><td><pre>A -> B</pre>\n",
              "<tr><th><pre>B<pre><td><pre>B -> ε</pre><td>&nbsp;<td><pre>B -> b</pre>\n",
              "<tr><th><pre>C<pre><td><pre>C -> ε</pre><td><pre>C -> c</pre><td>&nbsp;\n",
              "</table>"
            ],
            "text/plain": [
              "<liblet.utils.Table at 0x7f0cb86ee880>"
            ]
          },
          "execution_count": 32,
          "metadata": {},
          "output_type": "execute_result"
        }
      ],
      "source": [
        "TABLE"
      ]
    },
    {
      "cell_type": "markdown",
      "metadata": {},
      "source": [
        "## Fattorizzazione ed eliminazione dei conflitti\n",
        "\n",
        "In presenza di due alternative $A\\to \\alpha\\beta|\\alpha\\gamma$ con $\\alpha$ non trasparente è evidente che sia impossibile scegliere sulla base di $\\operatorname{FIRST}(\\alpha)$ che riguarda entrambe le alternative! Una possibile soluzione consiste nel \"fattorizzare\" $\\alpha$ mendiante l'introduzione di un nuovo non terminale $N$ cambiando le produzioni in $A\\to \\alpha N$ e $N\\to \\beta|\\gamma$ sperando che $\\operatorname{FIRST}(\\beta)$ e $\\operatorname{FIRST}(\\gamma)$ siano disigunti.\n",
        "\n",
        "Proviamo ad usare, come esempio, una grammatica per operazioni aritmetiche in cui ogni operatore coinvolga esattamente due sottoespressioni:"
      ]
    },
    {
      "cell_type": "code",
      "execution_count": null,
      "metadata": {},
      "outputs": [],
      "source": [
        "G = Grammar.from_string(\"\"\"\n",
        "E -> T + T | T\n",
        "T -> F * F | F \n",
        "F -> ( E ) | i\n",
        "\"\"\")"
      ]
    },
    {
      "cell_type": "markdown",
      "metadata": {},
      "source": [
        "Ci sono conflitti…"
      ]
    },
    {
      "cell_type": "code",
      "execution_count": null,
      "metadata": {},
      "outputs": [
        {
          "name": "stderr",
          "output_type": "stream",
          "text": [
            "First/first conflict on (E, () for production E -> T\n",
            "First/first conflict on (E, i) for production E -> T\n",
            "First/first conflict on (T, () for production T -> F\n",
            "First/first conflict on (T, i) for production T -> F\n"
          ]
        }
      ],
      "source": [
        "FF, TABLE = fft(G) "
      ]
    },
    {
      "cell_type": "code",
      "execution_count": null,
      "metadata": {},
      "outputs": [
        {
          "data": {
            "text/html": [
              "<style>td, th {border: 1pt solid lightgray !important; text-align: left !important;}</style><table><tr><td>&nbsp;<th><pre>First</pre><th><pre>Follow</pre>\n",
              "<tr><th><pre>E<pre><td><pre>(, i</pre><td><pre>), ♯</pre>\n",
              "<tr><th><pre>T<pre><td><pre>(, i</pre><td><pre>), +, ♯</pre>\n",
              "<tr><th><pre>F<pre><td><pre>(, i</pre><td><pre>), *, +, ♯</pre>\n",
              "</table>"
            ],
            "text/plain": [
              "<liblet.utils.Table at 0x7f0cb86bdd00>"
            ]
          },
          "execution_count": 35,
          "metadata": {},
          "output_type": "execute_result"
        }
      ],
      "source": [
        "FF"
      ]
    },
    {
      "cell_type": "code",
      "execution_count": null,
      "metadata": {},
      "outputs": [
        {
          "data": {
            "text/html": [
              "<style>td, th {border: 1pt solid lightgray !important; text-align: left !important;}</style><table><tr><td>&nbsp;<th><pre>(</pre><th><pre>i</pre>\n",
              "<tr><th><pre>E<pre><td><pre>E -> T + T</pre><td><pre>E -> T + T</pre>\n",
              "<tr><th><pre>T<pre><td><pre>T -> F * F</pre><td><pre>T -> F * F</pre>\n",
              "<tr><th><pre>F<pre><td><pre>F -> ( E )</pre><td><pre>F -> i</pre>\n",
              "</table>"
            ],
            "text/plain": [
              "<liblet.utils.Table at 0x7f0cb8712ac0>"
            ]
          },
          "execution_count": 36,
          "metadata": {},
          "output_type": "execute_result"
        }
      ],
      "source": [
        "TABLE"
      ]
    },
    {
      "cell_type": "markdown",
      "metadata": {},
      "source": [
        "Che possono essere risolti fattorizzando sia `T` che `F`"
      ]
    },
    {
      "cell_type": "code",
      "execution_count": null,
      "metadata": {},
      "outputs": [],
      "source": [
        "G = Grammar.from_string(\"\"\"\n",
        "E -> T E′\n",
        "E′ -> + T | ε\n",
        "T -> F F′\n",
        "F′ -> * F | ε\n",
        "F -> ( E ) | i\n",
        "\"\"\")"
      ]
    },
    {
      "cell_type": "code",
      "execution_count": null,
      "metadata": {},
      "outputs": [],
      "source": [
        "FF, TABLE = fft(G) "
      ]
    },
    {
      "cell_type": "code",
      "execution_count": null,
      "metadata": {},
      "outputs": [
        {
          "data": {
            "text/html": [
              "<style>td, th {border: 1pt solid lightgray !important; text-align: left !important;}</style><table><tr><td>&nbsp;<th><pre>(</pre><th><pre>i</pre><th><pre>+</pre><th><pre>♯</pre><th><pre>)</pre><th><pre>*</pre>\n",
              "<tr><th><pre>E<pre><td><pre>E -> T E′</pre><td><pre>E -> T E′</pre><td>&nbsp;<td>&nbsp;<td>&nbsp;<td>&nbsp;\n",
              "<tr><th><pre>E′<pre><td>&nbsp;<td>&nbsp;<td><pre>E′ -> + T</pre><td><pre>E′ -> ε</pre><td><pre>E′ -> ε</pre><td>&nbsp;\n",
              "<tr><th><pre>T<pre><td><pre>T -> F F′</pre><td><pre>T -> F F′</pre><td>&nbsp;<td>&nbsp;<td>&nbsp;<td>&nbsp;\n",
              "<tr><th><pre>F′<pre><td>&nbsp;<td>&nbsp;<td><pre>F′ -> ε</pre><td><pre>F′ -> ε</pre><td><pre>F′ -> ε</pre><td><pre>F′ -> * F</pre>\n",
              "<tr><th><pre>F<pre><td><pre>F -> ( E )</pre><td><pre>F -> i</pre><td>&nbsp;<td>&nbsp;<td>&nbsp;<td>&nbsp;\n",
              "</table>"
            ],
            "text/plain": [
              "<liblet.utils.Table at 0x7f0cb86e1b20>"
            ]
          },
          "execution_count": 39,
          "metadata": {},
          "output_type": "execute_result"
        }
      ],
      "source": [
        "TABLE"
      ]
    },
    {
      "cell_type": "markdown",
      "metadata": {},
      "source": [
        "Tentiamo il parse"
      ]
    },
    {
      "cell_type": "code",
      "execution_count": null,
      "metadata": {},
      "outputs": [
        {
          "data": {
            "image/svg+xml": [
              "<?xml version=\"1.0\" encoding=\"UTF-8\" standalone=\"no\"?>\n",
              "<!DOCTYPE svg PUBLIC \"-//W3C//DTD SVG 1.1//EN\"\n",
              " \"http://www.w3.org/Graphics/SVG/1.1/DTD/svg11.dtd\">\n",
              "<!-- Generated by graphviz version 2.43.0 (0)\n",
              " -->\n",
              "<!-- Title: %3 Pages: 1 -->\n",
              "<svg width=\"196pt\" height=\"400pt\"\n",
              " viewBox=\"0.00 0.00 196.00 400.00\" xmlns=\"http://www.w3.org/2000/svg\" xmlns:xlink=\"http://www.w3.org/1999/xlink\">\n",
              "<g id=\"graph0\" class=\"graph\" transform=\"scale(1 1) rotate(0) translate(4 396)\">\n",
              "<title>%3</title>\n",
              "<polygon fill=\"white\" stroke=\"transparent\" points=\"-4,4 -4,-396 192,-396 192,4 -4,4\"/>\n",
              "<!-- &#45;1330706229743570601 -->\n",
              "<g id=\"node1\" class=\"node\">\n",
              "<title>&#45;1330706229743570601</title>\n",
              "<path fill=\"none\" stroke=\"black\" stroke-width=\"0.25\" d=\"M63.83,-392C63.83,-392 58.17,-392 58.17,-392 55.33,-392 52.5,-389.17 52.5,-386.33 52.5,-386.33 52.5,-374.67 52.5,-374.67 52.5,-371.83 55.33,-369 58.17,-369 58.17,-369 63.83,-369 63.83,-369 66.67,-369 69.5,-371.83 69.5,-374.67 69.5,-374.67 69.5,-386.33 69.5,-386.33 69.5,-389.17 66.67,-392 63.83,-392\"/>\n",
              "<text text-anchor=\"middle\" x=\"61\" y=\"-376.8\" font-family=\"Times,serif\" font-size=\"14.00\">E</text>\n",
              "</g>\n",
              "<!-- &#45;8375931449235641560 -->\n",
              "<g id=\"node2\" class=\"node\">\n",
              "<title>&#45;8375931449235641560</title>\n",
              "<path fill=\"none\" stroke=\"black\" stroke-width=\"0.25\" d=\"M45.83,-351C45.83,-351 40.17,-351 40.17,-351 37.33,-351 34.5,-348.17 34.5,-345.33 34.5,-345.33 34.5,-333.67 34.5,-333.67 34.5,-330.83 37.33,-328 40.17,-328 40.17,-328 45.83,-328 45.83,-328 48.67,-328 51.5,-330.83 51.5,-333.67 51.5,-333.67 51.5,-345.33 51.5,-345.33 51.5,-348.17 48.67,-351 45.83,-351\"/>\n",
              "<text text-anchor=\"middle\" x=\"43\" y=\"-335.8\" font-family=\"Times,serif\" font-size=\"14.00\">T</text>\n",
              "</g>\n",
              "<!-- &#45;1330706229743570601&#45;&gt;&#45;8375931449235641560 -->\n",
              "<g id=\"edge1\" class=\"edge\">\n",
              "<title>&#45;1330706229743570601&#45;&gt;&#45;8375931449235641560</title>\n",
              "<path fill=\"none\" stroke=\"black\" stroke-width=\"0.5\" d=\"M56.08,-368.84C53.54,-363.34 50.45,-356.65 47.91,-351.14\"/>\n",
              "</g>\n",
              "<!-- 4135721311400131453 -->\n",
              "<g id=\"node3\" class=\"node\">\n",
              "<title>4135721311400131453</title>\n",
              "<path fill=\"none\" stroke=\"black\" stroke-width=\"0.25\" d=\"M83.33,-351C83.33,-351 76.67,-351 76.67,-351 73.33,-351 70,-347.67 70,-344.33 70,-344.33 70,-334.67 70,-334.67 70,-331.33 73.33,-328 76.67,-328 76.67,-328 83.33,-328 83.33,-328 86.67,-328 90,-331.33 90,-334.67 90,-334.67 90,-344.33 90,-344.33 90,-347.67 86.67,-351 83.33,-351\"/>\n",
              "<text text-anchor=\"middle\" x=\"80\" y=\"-335.8\" font-family=\"Times,serif\" font-size=\"14.00\">E′</text>\n",
              "</g>\n",
              "<!-- &#45;1330706229743570601&#45;&gt;4135721311400131453 -->\n",
              "<g id=\"edge2\" class=\"edge\">\n",
              "<title>&#45;1330706229743570601&#45;&gt;4135721311400131453</title>\n",
              "<path fill=\"none\" stroke=\"black\" stroke-width=\"0.5\" d=\"M66.19,-368.84C68.87,-363.34 72.13,-356.65 74.81,-351.14\"/>\n",
              "</g>\n",
              "<!-- &#45;8375931449235641560&#45;&gt;4135721311400131453 -->\n",
              "<!-- &#45;3814766611165635390 -->\n",
              "<g id=\"node4\" class=\"node\">\n",
              "<title>&#45;3814766611165635390</title>\n",
              "<path fill=\"none\" stroke=\"black\" stroke-width=\"0.25\" d=\"M10.67,-310C10.67,-310 5.33,-310 5.33,-310 2.67,-310 0,-307.33 0,-304.67 0,-304.67 0,-292.33 0,-292.33 0,-289.67 2.67,-287 5.33,-287 5.33,-287 10.67,-287 10.67,-287 13.33,-287 16,-289.67 16,-292.33 16,-292.33 16,-304.67 16,-304.67 16,-307.33 13.33,-310 10.67,-310\"/>\n",
              "<text text-anchor=\"middle\" x=\"8\" y=\"-294.8\" font-family=\"Times,serif\" font-size=\"14.00\">F</text>\n",
              "</g>\n",
              "<!-- &#45;8375931449235641560&#45;&gt;&#45;3814766611165635390 -->\n",
              "<g id=\"edge4\" class=\"edge\">\n",
              "<title>&#45;8375931449235641560&#45;&gt;&#45;3814766611165635390</title>\n",
              "<path fill=\"none\" stroke=\"black\" stroke-width=\"0.5\" d=\"M34.17,-328.66C28.66,-322.52 21.62,-314.68 16.23,-308.67\"/>\n",
              "</g>\n",
              "<!-- &#45;4091790404716374898 -->\n",
              "<g id=\"node5\" class=\"node\">\n",
              "<title>&#45;4091790404716374898</title>\n",
              "<path fill=\"none\" stroke=\"black\" stroke-width=\"0.25\" d=\"M47.17,-310C47.17,-310 40.83,-310 40.83,-310 37.67,-310 34.5,-306.83 34.5,-303.67 34.5,-303.67 34.5,-293.33 34.5,-293.33 34.5,-290.17 37.67,-287 40.83,-287 40.83,-287 47.17,-287 47.17,-287 50.33,-287 53.5,-290.17 53.5,-293.33 53.5,-293.33 53.5,-303.67 53.5,-303.67 53.5,-306.83 50.33,-310 47.17,-310\"/>\n",
              "<text text-anchor=\"middle\" x=\"44\" y=\"-294.8\" font-family=\"Times,serif\" font-size=\"14.00\">F′</text>\n",
              "</g>\n",
              "<!-- &#45;8375931449235641560&#45;&gt;&#45;4091790404716374898 -->\n",
              "<g id=\"edge5\" class=\"edge\">\n",
              "<title>&#45;8375931449235641560&#45;&gt;&#45;4091790404716374898</title>\n",
              "<path fill=\"none\" stroke=\"black\" stroke-width=\"0.5\" d=\"M43.27,-327.84C43.41,-322.34 43.59,-315.65 43.73,-310.14\"/>\n",
              "</g>\n",
              "<!-- &#45;7038327527337706488 -->\n",
              "<g id=\"node26\" class=\"node\">\n",
              "<title>&#45;7038327527337706488</title>\n",
              "<path fill=\"none\" stroke=\"black\" stroke-width=\"0.25\" d=\"M82.5,-310C82.5,-310 77.5,-310 77.5,-310 75,-310 72.5,-307.5 72.5,-305 72.5,-305 72.5,-292 72.5,-292 72.5,-289.5 75,-287 77.5,-287 77.5,-287 82.5,-287 82.5,-287 85,-287 87.5,-289.5 87.5,-292 87.5,-292 87.5,-305 87.5,-305 87.5,-307.5 85,-310 82.5,-310\"/>\n",
              "<text text-anchor=\"middle\" x=\"80\" y=\"-294.8\" font-family=\"Times,serif\" font-size=\"14.00\">ε</text>\n",
              "</g>\n",
              "<!-- 4135721311400131453&#45;&gt;&#45;7038327527337706488 -->\n",
              "<g id=\"edge35\" class=\"edge\">\n",
              "<title>4135721311400131453&#45;&gt;&#45;7038327527337706488</title>\n",
              "<path fill=\"none\" stroke=\"black\" stroke-width=\"0.5\" d=\"M80,-327.84C80,-322.34 80,-315.65 80,-310.14\"/>\n",
              "</g>\n",
              "<!-- &#45;3814766611165635390&#45;&gt;&#45;4091790404716374898 -->\n",
              "<!-- 5549443258751025536 -->\n",
              "<g id=\"node6\" class=\"node\">\n",
              "<title>5549443258751025536</title>\n",
              "<path fill=\"none\" stroke=\"black\" stroke-width=\"1.25\" d=\"M10,-269C10,-269 6,-269 6,-269 4,-269 2,-267 2,-265 2,-265 2,-250 2,-250 2,-248 4,-246 6,-246 6,-246 10,-246 10,-246 12,-246 14,-248 14,-250 14,-250 14,-265 14,-265 14,-267 12,-269 10,-269\"/>\n",
              "<text text-anchor=\"middle\" x=\"8\" y=\"-253.8\" font-family=\"Times,serif\" font-size=\"14.00\">i</text>\n",
              "</g>\n",
              "<!-- &#45;3814766611165635390&#45;&gt;5549443258751025536 -->\n",
              "<g id=\"edge7\" class=\"edge\">\n",
              "<title>&#45;3814766611165635390&#45;&gt;5549443258751025536</title>\n",
              "<path fill=\"none\" stroke=\"black\" stroke-width=\"0.5\" d=\"M8,-286.84C8,-281.34 8,-274.65 8,-269.14\"/>\n",
              "</g>\n",
              "<!-- 852394237002680352 -->\n",
              "<g id=\"node7\" class=\"node\">\n",
              "<title>852394237002680352</title>\n",
              "<path fill=\"none\" stroke=\"black\" stroke-width=\"1.25\" d=\"M44.5,-269C44.5,-269 39.5,-269 39.5,-269 37,-269 34.5,-266.5 34.5,-264 34.5,-264 34.5,-251 34.5,-251 34.5,-248.5 37,-246 39.5,-246 39.5,-246 44.5,-246 44.5,-246 47,-246 49.5,-248.5 49.5,-251 49.5,-251 49.5,-264 49.5,-264 49.5,-266.5 47,-269 44.5,-269\"/>\n",
              "<text text-anchor=\"middle\" x=\"42\" y=\"-253.8\" font-family=\"Times,serif\" font-size=\"14.00\">*</text>\n",
              "</g>\n",
              "<!-- &#45;4091790404716374898&#45;&gt;852394237002680352 -->\n",
              "<g id=\"edge8\" class=\"edge\">\n",
              "<title>&#45;4091790404716374898&#45;&gt;852394237002680352</title>\n",
              "<path fill=\"none\" stroke=\"black\" stroke-width=\"0.5\" d=\"M43.45,-286.84C43.17,-281.34 42.83,-274.65 42.55,-269.14\"/>\n",
              "</g>\n",
              "<!-- &#45;8340779123549046222 -->\n",
              "<g id=\"node8\" class=\"node\">\n",
              "<title>&#45;8340779123549046222</title>\n",
              "<path fill=\"none\" stroke=\"black\" stroke-width=\"0.25\" d=\"M78.67,-269C78.67,-269 73.33,-269 73.33,-269 70.67,-269 68,-266.33 68,-263.67 68,-263.67 68,-251.33 68,-251.33 68,-248.67 70.67,-246 73.33,-246 73.33,-246 78.67,-246 78.67,-246 81.33,-246 84,-248.67 84,-251.33 84,-251.33 84,-263.67 84,-263.67 84,-266.33 81.33,-269 78.67,-269\"/>\n",
              "<text text-anchor=\"middle\" x=\"76\" y=\"-253.8\" font-family=\"Times,serif\" font-size=\"14.00\">F</text>\n",
              "</g>\n",
              "<!-- &#45;4091790404716374898&#45;&gt;&#45;8340779123549046222 -->\n",
              "<g id=\"edge9\" class=\"edge\">\n",
              "<title>&#45;4091790404716374898&#45;&gt;&#45;8340779123549046222</title>\n",
              "<path fill=\"none\" stroke=\"black\" stroke-width=\"0.5\" d=\"M52.74,-286.84C57.48,-281.07 63.3,-273.98 67.93,-268.34\"/>\n",
              "</g>\n",
              "<!-- 852394237002680352&#45;&gt;&#45;8340779123549046222 -->\n",
              "<!-- 755635462703759771 -->\n",
              "<g id=\"node9\" class=\"node\">\n",
              "<title>755635462703759771</title>\n",
              "<path fill=\"none\" stroke=\"black\" stroke-width=\"1.25\" d=\"M45.17,-228C45.17,-228 40.83,-228 40.83,-228 38.67,-228 36.5,-225.83 36.5,-223.67 36.5,-223.67 36.5,-209.33 36.5,-209.33 36.5,-207.17 38.67,-205 40.83,-205 40.83,-205 45.17,-205 45.17,-205 47.33,-205 49.5,-207.17 49.5,-209.33 49.5,-209.33 49.5,-223.67 49.5,-223.67 49.5,-225.83 47.33,-228 45.17,-228\"/>\n",
              "<text text-anchor=\"middle\" x=\"43\" y=\"-212.8\" font-family=\"Times,serif\" font-size=\"14.00\">(</text>\n",
              "</g>\n",
              "<!-- &#45;8340779123549046222&#45;&gt;755635462703759771 -->\n",
              "<g id=\"edge11\" class=\"edge\">\n",
              "<title>&#45;8340779123549046222&#45;&gt;755635462703759771</title>\n",
              "<path fill=\"none\" stroke=\"black\" stroke-width=\"0.5\" d=\"M67.67,-246.66C62.17,-240.16 55.05,-231.75 49.88,-225.63\"/>\n",
              "</g>\n",
              "<!-- 4849889414164737935 -->\n",
              "<g id=\"node10\" class=\"node\">\n",
              "<title>4849889414164737935</title>\n",
              "<path fill=\"none\" stroke=\"black\" stroke-width=\"0.25\" d=\"M78.83,-228C78.83,-228 73.17,-228 73.17,-228 70.33,-228 67.5,-225.17 67.5,-222.33 67.5,-222.33 67.5,-210.67 67.5,-210.67 67.5,-207.83 70.33,-205 73.17,-205 73.17,-205 78.83,-205 78.83,-205 81.67,-205 84.5,-207.83 84.5,-210.67 84.5,-210.67 84.5,-222.33 84.5,-222.33 84.5,-225.17 81.67,-228 78.83,-228\"/>\n",
              "<text text-anchor=\"middle\" x=\"76\" y=\"-212.8\" font-family=\"Times,serif\" font-size=\"14.00\">E</text>\n",
              "</g>\n",
              "<!-- &#45;8340779123549046222&#45;&gt;4849889414164737935 -->\n",
              "<g id=\"edge12\" class=\"edge\">\n",
              "<title>&#45;8340779123549046222&#45;&gt;4849889414164737935</title>\n",
              "<path fill=\"none\" stroke=\"black\" stroke-width=\"0.5\" d=\"M76,-245.84C76,-240.34 76,-233.65 76,-228.14\"/>\n",
              "</g>\n",
              "<!-- 3777252111880335747 -->\n",
              "<g id=\"node11\" class=\"node\">\n",
              "<title>3777252111880335747</title>\n",
              "<path fill=\"none\" stroke=\"black\" stroke-width=\"1.25\" d=\"M111.17,-228C111.17,-228 106.83,-228 106.83,-228 104.67,-228 102.5,-225.83 102.5,-223.67 102.5,-223.67 102.5,-209.33 102.5,-209.33 102.5,-207.17 104.67,-205 106.83,-205 106.83,-205 111.17,-205 111.17,-205 113.33,-205 115.5,-207.17 115.5,-209.33 115.5,-209.33 115.5,-223.67 115.5,-223.67 115.5,-225.83 113.33,-228 111.17,-228\"/>\n",
              "<text text-anchor=\"middle\" x=\"109\" y=\"-212.8\" font-family=\"Times,serif\" font-size=\"14.00\">)</text>\n",
              "</g>\n",
              "<!-- &#45;8340779123549046222&#45;&gt;3777252111880335747 -->\n",
              "<g id=\"edge13\" class=\"edge\">\n",
              "<title>&#45;8340779123549046222&#45;&gt;3777252111880335747</title>\n",
              "<path fill=\"none\" stroke=\"black\" stroke-width=\"0.5\" d=\"M84.33,-246.66C89.83,-240.16 96.95,-231.75 102.12,-225.63\"/>\n",
              "</g>\n",
              "<!-- 755635462703759771&#45;&gt;4849889414164737935 -->\n",
              "<!-- 4849889414164737935&#45;&gt;3777252111880335747 -->\n",
              "<!-- &#45;8702976561429331449 -->\n",
              "<g id=\"node12\" class=\"node\">\n",
              "<title>&#45;8702976561429331449</title>\n",
              "<path fill=\"none\" stroke=\"black\" stroke-width=\"0.25\" d=\"M60.83,-187C60.83,-187 55.17,-187 55.17,-187 52.33,-187 49.5,-184.17 49.5,-181.33 49.5,-181.33 49.5,-169.67 49.5,-169.67 49.5,-166.83 52.33,-164 55.17,-164 55.17,-164 60.83,-164 60.83,-164 63.67,-164 66.5,-166.83 66.5,-169.67 66.5,-169.67 66.5,-181.33 66.5,-181.33 66.5,-184.17 63.67,-187 60.83,-187\"/>\n",
              "<text text-anchor=\"middle\" x=\"58\" y=\"-171.8\" font-family=\"Times,serif\" font-size=\"14.00\">T</text>\n",
              "</g>\n",
              "<!-- 4849889414164737935&#45;&gt;&#45;8702976561429331449 -->\n",
              "<g id=\"edge16\" class=\"edge\">\n",
              "<title>4849889414164737935&#45;&gt;&#45;8702976561429331449</title>\n",
              "<path fill=\"none\" stroke=\"black\" stroke-width=\"0.5\" d=\"M71.08,-204.84C68.54,-199.34 65.45,-192.65 62.91,-187.14\"/>\n",
              "</g>\n",
              "<!-- 3808676199206441564 -->\n",
              "<g id=\"node13\" class=\"node\">\n",
              "<title>3808676199206441564</title>\n",
              "<path fill=\"none\" stroke=\"black\" stroke-width=\"0.25\" d=\"M98.33,-187C98.33,-187 91.67,-187 91.67,-187 88.33,-187 85,-183.67 85,-180.33 85,-180.33 85,-170.67 85,-170.67 85,-167.33 88.33,-164 91.67,-164 91.67,-164 98.33,-164 98.33,-164 101.67,-164 105,-167.33 105,-170.67 105,-170.67 105,-180.33 105,-180.33 105,-183.67 101.67,-187 98.33,-187\"/>\n",
              "<text text-anchor=\"middle\" x=\"95\" y=\"-171.8\" font-family=\"Times,serif\" font-size=\"14.00\">E′</text>\n",
              "</g>\n",
              "<!-- 4849889414164737935&#45;&gt;3808676199206441564 -->\n",
              "<g id=\"edge17\" class=\"edge\">\n",
              "<title>4849889414164737935&#45;&gt;3808676199206441564</title>\n",
              "<path fill=\"none\" stroke=\"black\" stroke-width=\"0.5\" d=\"M81.19,-204.84C83.87,-199.34 87.13,-192.65 89.81,-187.14\"/>\n",
              "</g>\n",
              "<!-- &#45;8702976561429331449&#45;&gt;3808676199206441564 -->\n",
              "<!-- &#45;4141811723359325279 -->\n",
              "<g id=\"node14\" class=\"node\">\n",
              "<title>&#45;4141811723359325279</title>\n",
              "<path fill=\"none\" stroke=\"black\" stroke-width=\"0.25\" d=\"M25.67,-146C25.67,-146 20.33,-146 20.33,-146 17.67,-146 15,-143.33 15,-140.67 15,-140.67 15,-128.33 15,-128.33 15,-125.67 17.67,-123 20.33,-123 20.33,-123 25.67,-123 25.67,-123 28.33,-123 31,-125.67 31,-128.33 31,-128.33 31,-140.67 31,-140.67 31,-143.33 28.33,-146 25.67,-146\"/>\n",
              "<text text-anchor=\"middle\" x=\"23\" y=\"-130.8\" font-family=\"Times,serif\" font-size=\"14.00\">F</text>\n",
              "</g>\n",
              "<!-- &#45;8702976561429331449&#45;&gt;&#45;4141811723359325279 -->\n",
              "<g id=\"edge19\" class=\"edge\">\n",
              "<title>&#45;8702976561429331449&#45;&gt;&#45;4141811723359325279</title>\n",
              "<path fill=\"none\" stroke=\"black\" stroke-width=\"0.5\" d=\"M49.17,-164.66C43.66,-158.52 36.62,-150.68 31.23,-144.67\"/>\n",
              "</g>\n",
              "<!-- 6981879268164630004 -->\n",
              "<g id=\"node15\" class=\"node\">\n",
              "<title>6981879268164630004</title>\n",
              "<path fill=\"none\" stroke=\"black\" stroke-width=\"0.25\" d=\"M62.17,-146C62.17,-146 55.83,-146 55.83,-146 52.67,-146 49.5,-142.83 49.5,-139.67 49.5,-139.67 49.5,-129.33 49.5,-129.33 49.5,-126.17 52.67,-123 55.83,-123 55.83,-123 62.17,-123 62.17,-123 65.33,-123 68.5,-126.17 68.5,-129.33 68.5,-129.33 68.5,-139.67 68.5,-139.67 68.5,-142.83 65.33,-146 62.17,-146\"/>\n",
              "<text text-anchor=\"middle\" x=\"59\" y=\"-130.8\" font-family=\"Times,serif\" font-size=\"14.00\">F′</text>\n",
              "</g>\n",
              "<!-- &#45;8702976561429331449&#45;&gt;6981879268164630004 -->\n",
              "<g id=\"edge20\" class=\"edge\">\n",
              "<title>&#45;8702976561429331449&#45;&gt;6981879268164630004</title>\n",
              "<path fill=\"none\" stroke=\"black\" stroke-width=\"0.5\" d=\"M58.27,-163.84C58.41,-158.34 58.59,-151.65 58.73,-146.14\"/>\n",
              "</g>\n",
              "<!-- &#45;3337096495910316737 -->\n",
              "<g id=\"node18\" class=\"node\">\n",
              "<title>&#45;3337096495910316737</title>\n",
              "<path fill=\"none\" stroke=\"black\" stroke-width=\"1.25\" d=\"M97.83,-146C97.83,-146 92.17,-146 92.17,-146 89.33,-146 86.5,-143.17 86.5,-140.33 86.5,-140.33 86.5,-128.67 86.5,-128.67 86.5,-125.83 89.33,-123 92.17,-123 92.17,-123 97.83,-123 97.83,-123 100.67,-123 103.5,-125.83 103.5,-128.67 103.5,-128.67 103.5,-140.33 103.5,-140.33 103.5,-143.17 100.67,-146 97.83,-146\"/>\n",
              "<text text-anchor=\"middle\" x=\"95\" y=\"-130.8\" font-family=\"Times,serif\" font-size=\"14.00\">+</text>\n",
              "</g>\n",
              "<!-- 3808676199206441564&#45;&gt;&#45;3337096495910316737 -->\n",
              "<g id=\"edge24\" class=\"edge\">\n",
              "<title>3808676199206441564&#45;&gt;&#45;3337096495910316737</title>\n",
              "<path fill=\"none\" stroke=\"black\" stroke-width=\"0.5\" d=\"M95,-163.84C95,-158.34 95,-151.65 95,-146.14\"/>\n",
              "</g>\n",
              "<!-- &#45;928142897866186012 -->\n",
              "<g id=\"node19\" class=\"node\">\n",
              "<title>&#45;928142897866186012</title>\n",
              "<path fill=\"none\" stroke=\"black\" stroke-width=\"0.25\" d=\"M132.83,-146C132.83,-146 127.17,-146 127.17,-146 124.33,-146 121.5,-143.17 121.5,-140.33 121.5,-140.33 121.5,-128.67 121.5,-128.67 121.5,-125.83 124.33,-123 127.17,-123 127.17,-123 132.83,-123 132.83,-123 135.67,-123 138.5,-125.83 138.5,-128.67 138.5,-128.67 138.5,-140.33 138.5,-140.33 138.5,-143.17 135.67,-146 132.83,-146\"/>\n",
              "<text text-anchor=\"middle\" x=\"130\" y=\"-130.8\" font-family=\"Times,serif\" font-size=\"14.00\">T</text>\n",
              "</g>\n",
              "<!-- 3808676199206441564&#45;&gt;&#45;928142897866186012 -->\n",
              "<g id=\"edge25\" class=\"edge\">\n",
              "<title>3808676199206441564&#45;&gt;&#45;928142897866186012</title>\n",
              "<path fill=\"none\" stroke=\"black\" stroke-width=\"0.5\" d=\"M104.56,-163.84C109.83,-157.98 116.3,-150.76 121.4,-145.08\"/>\n",
              "</g>\n",
              "<!-- &#45;4141811723359325279&#45;&gt;6981879268164630004 -->\n",
              "<!-- &#45;8825988544167847841 -->\n",
              "<g id=\"node16\" class=\"node\">\n",
              "<title>&#45;8825988544167847841</title>\n",
              "<path fill=\"none\" stroke=\"black\" stroke-width=\"1.25\" d=\"M25,-105C25,-105 21,-105 21,-105 19,-105 17,-103 17,-101 17,-101 17,-86 17,-86 17,-84 19,-82 21,-82 21,-82 25,-82 25,-82 27,-82 29,-84 29,-86 29,-86 29,-101 29,-101 29,-103 27,-105 25,-105\"/>\n",
              "<text text-anchor=\"middle\" x=\"23\" y=\"-89.8\" font-family=\"Times,serif\" font-size=\"14.00\">i</text>\n",
              "</g>\n",
              "<!-- &#45;4141811723359325279&#45;&gt;&#45;8825988544167847841 -->\n",
              "<g id=\"edge22\" class=\"edge\">\n",
              "<title>&#45;4141811723359325279&#45;&gt;&#45;8825988544167847841</title>\n",
              "<path fill=\"none\" stroke=\"black\" stroke-width=\"0.5\" d=\"M23,-122.84C23,-117.34 23,-110.65 23,-105.14\"/>\n",
              "</g>\n",
              "<!-- &#45;4274224568403770906 -->\n",
              "<g id=\"node17\" class=\"node\">\n",
              "<title>&#45;4274224568403770906</title>\n",
              "<path fill=\"none\" stroke=\"black\" stroke-width=\"0.25\" d=\"M61.5,-105C61.5,-105 56.5,-105 56.5,-105 54,-105 51.5,-102.5 51.5,-100 51.5,-100 51.5,-87 51.5,-87 51.5,-84.5 54,-82 56.5,-82 56.5,-82 61.5,-82 61.5,-82 64,-82 66.5,-84.5 66.5,-87 66.5,-87 66.5,-100 66.5,-100 66.5,-102.5 64,-105 61.5,-105\"/>\n",
              "<text text-anchor=\"middle\" x=\"59\" y=\"-89.8\" font-family=\"Times,serif\" font-size=\"14.00\">ε</text>\n",
              "</g>\n",
              "<!-- 6981879268164630004&#45;&gt;&#45;4274224568403770906 -->\n",
              "<g id=\"edge23\" class=\"edge\">\n",
              "<title>6981879268164630004&#45;&gt;&#45;4274224568403770906</title>\n",
              "<path fill=\"none\" stroke=\"black\" stroke-width=\"0.5\" d=\"M59,-122.84C59,-117.34 59,-110.65 59,-105.14\"/>\n",
              "</g>\n",
              "<!-- &#45;3337096495910316737&#45;&gt;&#45;928142897866186012 -->\n",
              "<!-- &#45;2031798988812769475 -->\n",
              "<g id=\"node20\" class=\"node\">\n",
              "<title>&#45;2031798988812769475</title>\n",
              "<path fill=\"none\" stroke=\"black\" stroke-width=\"0.25\" d=\"M114.67,-105C114.67,-105 109.33,-105 109.33,-105 106.67,-105 104,-102.33 104,-99.67 104,-99.67 104,-87.33 104,-87.33 104,-84.67 106.67,-82 109.33,-82 109.33,-82 114.67,-82 114.67,-82 117.33,-82 120,-84.67 120,-87.33 120,-87.33 120,-99.67 120,-99.67 120,-102.33 117.33,-105 114.67,-105\"/>\n",
              "<text text-anchor=\"middle\" x=\"112\" y=\"-89.8\" font-family=\"Times,serif\" font-size=\"14.00\">F</text>\n",
              "</g>\n",
              "<!-- &#45;928142897866186012&#45;&gt;&#45;2031798988812769475 -->\n",
              "<g id=\"edge27\" class=\"edge\">\n",
              "<title>&#45;928142897866186012&#45;&gt;&#45;2031798988812769475</title>\n",
              "<path fill=\"none\" stroke=\"black\" stroke-width=\"0.5\" d=\"M125.08,-122.84C122.54,-117.34 119.45,-110.65 116.91,-105.14\"/>\n",
              "</g>\n",
              "<!-- 9091892002711185808 -->\n",
              "<g id=\"node21\" class=\"node\">\n",
              "<title>9091892002711185808</title>\n",
              "<path fill=\"none\" stroke=\"black\" stroke-width=\"0.25\" d=\"M151.17,-105C151.17,-105 144.83,-105 144.83,-105 141.67,-105 138.5,-101.83 138.5,-98.67 138.5,-98.67 138.5,-88.33 138.5,-88.33 138.5,-85.17 141.67,-82 144.83,-82 144.83,-82 151.17,-82 151.17,-82 154.33,-82 157.5,-85.17 157.5,-88.33 157.5,-88.33 157.5,-98.67 157.5,-98.67 157.5,-101.83 154.33,-105 151.17,-105\"/>\n",
              "<text text-anchor=\"middle\" x=\"148\" y=\"-89.8\" font-family=\"Times,serif\" font-size=\"14.00\">F′</text>\n",
              "</g>\n",
              "<!-- &#45;928142897866186012&#45;&gt;9091892002711185808 -->\n",
              "<g id=\"edge28\" class=\"edge\">\n",
              "<title>&#45;928142897866186012&#45;&gt;9091892002711185808</title>\n",
              "<path fill=\"none\" stroke=\"black\" stroke-width=\"0.5\" d=\"M134.92,-122.84C137.46,-117.34 140.55,-110.65 143.09,-105.14\"/>\n",
              "</g>\n",
              "<!-- &#45;2031798988812769475&#45;&gt;9091892002711185808 -->\n",
              "<!-- &#45;556438234616374166 -->\n",
              "<g id=\"node22\" class=\"node\">\n",
              "<title>&#45;556438234616374166</title>\n",
              "<path fill=\"none\" stroke=\"black\" stroke-width=\"1.25\" d=\"M114,-64C114,-64 110,-64 110,-64 108,-64 106,-62 106,-60 106,-60 106,-45 106,-45 106,-43 108,-41 110,-41 110,-41 114,-41 114,-41 116,-41 118,-43 118,-45 118,-45 118,-60 118,-60 118,-62 116,-64 114,-64\"/>\n",
              "<text text-anchor=\"middle\" x=\"112\" y=\"-48.8\" font-family=\"Times,serif\" font-size=\"14.00\">i</text>\n",
              "</g>\n",
              "<!-- &#45;2031798988812769475&#45;&gt;&#45;556438234616374166 -->\n",
              "<g id=\"edge30\" class=\"edge\">\n",
              "<title>&#45;2031798988812769475&#45;&gt;&#45;556438234616374166</title>\n",
              "<path fill=\"none\" stroke=\"black\" stroke-width=\"0.5\" d=\"M112,-81.84C112,-76.34 112,-69.65 112,-64.14\"/>\n",
              "</g>\n",
              "<!-- &#45;3921269441541264776 -->\n",
              "<g id=\"node23\" class=\"node\">\n",
              "<title>&#45;3921269441541264776</title>\n",
              "<path fill=\"none\" stroke=\"black\" stroke-width=\"1.25\" d=\"M148.5,-64C148.5,-64 143.5,-64 143.5,-64 141,-64 138.5,-61.5 138.5,-59 138.5,-59 138.5,-46 138.5,-46 138.5,-43.5 141,-41 143.5,-41 143.5,-41 148.5,-41 148.5,-41 151,-41 153.5,-43.5 153.5,-46 153.5,-46 153.5,-59 153.5,-59 153.5,-61.5 151,-64 148.5,-64\"/>\n",
              "<text text-anchor=\"middle\" x=\"146\" y=\"-48.8\" font-family=\"Times,serif\" font-size=\"14.00\">*</text>\n",
              "</g>\n",
              "<!-- 9091892002711185808&#45;&gt;&#45;3921269441541264776 -->\n",
              "<g id=\"edge31\" class=\"edge\">\n",
              "<title>9091892002711185808&#45;&gt;&#45;3921269441541264776</title>\n",
              "<path fill=\"none\" stroke=\"black\" stroke-width=\"0.5\" d=\"M147.45,-81.84C147.17,-76.34 146.83,-69.65 146.55,-64.14\"/>\n",
              "</g>\n",
              "<!-- &#45;7400631328281589099 -->\n",
              "<g id=\"node24\" class=\"node\">\n",
              "<title>&#45;7400631328281589099</title>\n",
              "<path fill=\"none\" stroke=\"black\" stroke-width=\"0.25\" d=\"M182.67,-64C182.67,-64 177.33,-64 177.33,-64 174.67,-64 172,-61.33 172,-58.67 172,-58.67 172,-46.33 172,-46.33 172,-43.67 174.67,-41 177.33,-41 177.33,-41 182.67,-41 182.67,-41 185.33,-41 188,-43.67 188,-46.33 188,-46.33 188,-58.67 188,-58.67 188,-61.33 185.33,-64 182.67,-64\"/>\n",
              "<text text-anchor=\"middle\" x=\"180\" y=\"-48.8\" font-family=\"Times,serif\" font-size=\"14.00\">F</text>\n",
              "</g>\n",
              "<!-- 9091892002711185808&#45;&gt;&#45;7400631328281589099 -->\n",
              "<g id=\"edge32\" class=\"edge\">\n",
              "<title>9091892002711185808&#45;&gt;&#45;7400631328281589099</title>\n",
              "<path fill=\"none\" stroke=\"black\" stroke-width=\"0.5\" d=\"M156.74,-81.84C161.48,-76.07 167.3,-68.98 171.93,-63.34\"/>\n",
              "</g>\n",
              "<!-- &#45;3921269441541264776&#45;&gt;&#45;7400631328281589099 -->\n",
              "<!-- 6856652570607768193 -->\n",
              "<g id=\"node25\" class=\"node\">\n",
              "<title>6856652570607768193</title>\n",
              "<path fill=\"none\" stroke=\"black\" stroke-width=\"1.25\" d=\"M182,-23C182,-23 178,-23 178,-23 176,-23 174,-21 174,-19 174,-19 174,-4 174,-4 174,-2 176,0 178,0 178,0 182,0 182,0 184,0 186,-2 186,-4 186,-4 186,-19 186,-19 186,-21 184,-23 182,-23\"/>\n",
              "<text text-anchor=\"middle\" x=\"180\" y=\"-7.8\" font-family=\"Times,serif\" font-size=\"14.00\">i</text>\n",
              "</g>\n",
              "<!-- &#45;7400631328281589099&#45;&gt;6856652570607768193 -->\n",
              "<g id=\"edge34\" class=\"edge\">\n",
              "<title>&#45;7400631328281589099&#45;&gt;6856652570607768193</title>\n",
              "<path fill=\"none\" stroke=\"black\" stroke-width=\"0.5\" d=\"M180,-40.84C180,-35.34 180,-28.65 180,-23.14\"/>\n",
              "</g>\n",
              "</g>\n",
              "</svg>\n"
            ],
            "text/plain": [
              "ProductionGraph(E -> T E′ -> F F′ E′ -> i F′ E′ -> i * F E′ -> i * ( E ) E′ -> i * ( T E′ ) E′ -> i * ( F F′ E′ ) E′ -> i * ( i F′ E′ ) E′ -> i * ( i E′ ) E′ -> i * ( i + T ) E′ -> i * ( i + F F′ ) E′ -> i * ( i + i F′ ) E′ -> i * ( i + i * F ) E′ -> i * ( i + i * i ) E′ -> i * ( i + i * i ))"
            ]
          },
          "execution_count": 40,
          "metadata": {},
          "output_type": "execute_result"
        }
      ],
      "source": [
        "ProductionGraph(parse(G, TABLE, 'i * ( i + i * i )'.split()))"
      ]
    },
    {
      "cell_type": "markdown",
      "metadata": {},
      "source": [
        "La grammatica così fattorizzata si presta molto bene ad evitare la necessità di parentesizzare coppie di operandi (ma attenzione all'associatività)"
      ]
    },
    {
      "cell_type": "code",
      "execution_count": null,
      "metadata": {},
      "outputs": [],
      "source": [
        "# aggiungo un E′ dopo T o F nelle produzioni\n",
        "#\n",
        "# E′ -> + T\n",
        "# F′ -> * F \n",
        "#\n",
        "\n",
        "G = Grammar.from_string(\"\"\"\n",
        "E -> T E′\n",
        "E′ -> + T E′| ε\n",
        "T -> F F′\n",
        "F′ -> * F F′ | ε\n",
        "F -> ( E ) | i\n",
        "\"\"\")"
      ]
    },
    {
      "cell_type": "code",
      "execution_count": null,
      "metadata": {},
      "outputs": [],
      "source": [
        "FF, TABLE = fft(G) "
      ]
    },
    {
      "cell_type": "code",
      "execution_count": null,
      "metadata": {},
      "outputs": [
        {
          "data": {
            "image/svg+xml": [
              "<?xml version=\"1.0\" encoding=\"UTF-8\" standalone=\"no\"?>\n",
              "<!DOCTYPE svg PUBLIC \"-//W3C//DTD SVG 1.1//EN\"\n",
              " \"http://www.w3.org/Graphics/SVG/1.1/DTD/svg11.dtd\">\n",
              "<!-- Generated by graphviz version 2.43.0 (0)\n",
              " -->\n",
              "<!-- Title: %3 Pages: 1 -->\n",
              "<svg width=\"241pt\" height=\"236pt\"\n",
              " viewBox=\"0.00 0.00 241.00 236.00\" xmlns=\"http://www.w3.org/2000/svg\" xmlns:xlink=\"http://www.w3.org/1999/xlink\">\n",
              "<g id=\"graph0\" class=\"graph\" transform=\"scale(1 1) rotate(0) translate(4 232)\">\n",
              "<title>%3</title>\n",
              "<polygon fill=\"white\" stroke=\"transparent\" points=\"-4,4 -4,-232 237,-232 237,4 -4,4\"/>\n",
              "<!-- &#45;1330706229743570601 -->\n",
              "<g id=\"node1\" class=\"node\">\n",
              "<title>&#45;1330706229743570601</title>\n",
              "<path fill=\"none\" stroke=\"black\" stroke-width=\"0.25\" d=\"M64.83,-228C64.83,-228 59.17,-228 59.17,-228 56.33,-228 53.5,-225.17 53.5,-222.33 53.5,-222.33 53.5,-210.67 53.5,-210.67 53.5,-207.83 56.33,-205 59.17,-205 59.17,-205 64.83,-205 64.83,-205 67.67,-205 70.5,-207.83 70.5,-210.67 70.5,-210.67 70.5,-222.33 70.5,-222.33 70.5,-225.17 67.67,-228 64.83,-228\"/>\n",
              "<text text-anchor=\"middle\" x=\"62\" y=\"-212.8\" font-family=\"Times,serif\" font-size=\"14.00\">E</text>\n",
              "</g>\n",
              "<!-- &#45;8375931449235641560 -->\n",
              "<g id=\"node2\" class=\"node\">\n",
              "<title>&#45;8375931449235641560</title>\n",
              "<path fill=\"none\" stroke=\"black\" stroke-width=\"0.25\" d=\"M46.83,-187C46.83,-187 41.17,-187 41.17,-187 38.33,-187 35.5,-184.17 35.5,-181.33 35.5,-181.33 35.5,-169.67 35.5,-169.67 35.5,-166.83 38.33,-164 41.17,-164 41.17,-164 46.83,-164 46.83,-164 49.67,-164 52.5,-166.83 52.5,-169.67 52.5,-169.67 52.5,-181.33 52.5,-181.33 52.5,-184.17 49.67,-187 46.83,-187\"/>\n",
              "<text text-anchor=\"middle\" x=\"44\" y=\"-171.8\" font-family=\"Times,serif\" font-size=\"14.00\">T</text>\n",
              "</g>\n",
              "<!-- &#45;1330706229743570601&#45;&gt;&#45;8375931449235641560 -->\n",
              "<g id=\"edge1\" class=\"edge\">\n",
              "<title>&#45;1330706229743570601&#45;&gt;&#45;8375931449235641560</title>\n",
              "<path fill=\"none\" stroke=\"black\" stroke-width=\"0.5\" d=\"M57.08,-204.84C54.54,-199.34 51.45,-192.65 48.91,-187.14\"/>\n",
              "</g>\n",
              "<!-- 4135721311400131453 -->\n",
              "<g id=\"node3\" class=\"node\">\n",
              "<title>4135721311400131453</title>\n",
              "<path fill=\"none\" stroke=\"black\" stroke-width=\"0.25\" d=\"M84.33,-187C84.33,-187 77.67,-187 77.67,-187 74.33,-187 71,-183.67 71,-180.33 71,-180.33 71,-170.67 71,-170.67 71,-167.33 74.33,-164 77.67,-164 77.67,-164 84.33,-164 84.33,-164 87.67,-164 91,-167.33 91,-170.67 91,-170.67 91,-180.33 91,-180.33 91,-183.67 87.67,-187 84.33,-187\"/>\n",
              "<text text-anchor=\"middle\" x=\"81\" y=\"-171.8\" font-family=\"Times,serif\" font-size=\"14.00\">E′</text>\n",
              "</g>\n",
              "<!-- &#45;1330706229743570601&#45;&gt;4135721311400131453 -->\n",
              "<g id=\"edge2\" class=\"edge\">\n",
              "<title>&#45;1330706229743570601&#45;&gt;4135721311400131453</title>\n",
              "<path fill=\"none\" stroke=\"black\" stroke-width=\"0.5\" d=\"M67.19,-204.84C69.87,-199.34 73.13,-192.65 75.81,-187.14\"/>\n",
              "</g>\n",
              "<!-- &#45;8375931449235641560&#45;&gt;4135721311400131453 -->\n",
              "<!-- &#45;3814766611165635390 -->\n",
              "<g id=\"node4\" class=\"node\">\n",
              "<title>&#45;3814766611165635390</title>\n",
              "<path fill=\"none\" stroke=\"black\" stroke-width=\"0.25\" d=\"M10.67,-146C10.67,-146 5.33,-146 5.33,-146 2.67,-146 0,-143.33 0,-140.67 0,-140.67 0,-128.33 0,-128.33 0,-125.67 2.67,-123 5.33,-123 5.33,-123 10.67,-123 10.67,-123 13.33,-123 16,-125.67 16,-128.33 16,-128.33 16,-140.67 16,-140.67 16,-143.33 13.33,-146 10.67,-146\"/>\n",
              "<text text-anchor=\"middle\" x=\"8\" y=\"-130.8\" font-family=\"Times,serif\" font-size=\"14.00\">F</text>\n",
              "</g>\n",
              "<!-- &#45;8375931449235641560&#45;&gt;&#45;3814766611165635390 -->\n",
              "<g id=\"edge4\" class=\"edge\">\n",
              "<title>&#45;8375931449235641560&#45;&gt;&#45;3814766611165635390</title>\n",
              "<path fill=\"none\" stroke=\"black\" stroke-width=\"0.5\" d=\"M35.29,-165.06C29.46,-158.75 21.84,-150.5 16.14,-144.32\"/>\n",
              "</g>\n",
              "<!-- &#45;4091790404716374898 -->\n",
              "<g id=\"node5\" class=\"node\">\n",
              "<title>&#45;4091790404716374898</title>\n",
              "<path fill=\"none\" stroke=\"black\" stroke-width=\"0.25\" d=\"M47.17,-146C47.17,-146 40.83,-146 40.83,-146 37.67,-146 34.5,-142.83 34.5,-139.67 34.5,-139.67 34.5,-129.33 34.5,-129.33 34.5,-126.17 37.67,-123 40.83,-123 40.83,-123 47.17,-123 47.17,-123 50.33,-123 53.5,-126.17 53.5,-129.33 53.5,-129.33 53.5,-139.67 53.5,-139.67 53.5,-142.83 50.33,-146 47.17,-146\"/>\n",
              "<text text-anchor=\"middle\" x=\"44\" y=\"-130.8\" font-family=\"Times,serif\" font-size=\"14.00\">F′</text>\n",
              "</g>\n",
              "<!-- &#45;8375931449235641560&#45;&gt;&#45;4091790404716374898 -->\n",
              "<g id=\"edge5\" class=\"edge\">\n",
              "<title>&#45;8375931449235641560&#45;&gt;&#45;4091790404716374898</title>\n",
              "<path fill=\"none\" stroke=\"black\" stroke-width=\"0.5\" d=\"M44,-163.84C44,-158.34 44,-151.65 44,-146.14\"/>\n",
              "</g>\n",
              "<!-- &#45;3010051383716626848 -->\n",
              "<g id=\"node8\" class=\"node\">\n",
              "<title>&#45;3010051383716626848</title>\n",
              "<path fill=\"none\" stroke=\"black\" stroke-width=\"1.25\" d=\"M82.83,-146C82.83,-146 77.17,-146 77.17,-146 74.33,-146 71.5,-143.17 71.5,-140.33 71.5,-140.33 71.5,-128.67 71.5,-128.67 71.5,-125.83 74.33,-123 77.17,-123 77.17,-123 82.83,-123 82.83,-123 85.67,-123 88.5,-125.83 88.5,-128.67 88.5,-128.67 88.5,-140.33 88.5,-140.33 88.5,-143.17 85.67,-146 82.83,-146\"/>\n",
              "<text text-anchor=\"middle\" x=\"80\" y=\"-130.8\" font-family=\"Times,serif\" font-size=\"14.00\">+</text>\n",
              "</g>\n",
              "<!-- 4135721311400131453&#45;&gt;&#45;3010051383716626848 -->\n",
              "<g id=\"edge9\" class=\"edge\">\n",
              "<title>4135721311400131453&#45;&gt;&#45;3010051383716626848</title>\n",
              "<path fill=\"none\" stroke=\"black\" stroke-width=\"0.5\" d=\"M80.73,-163.84C80.59,-158.34 80.41,-151.65 80.27,-146.14\"/>\n",
              "</g>\n",
              "<!-- &#45;4999455168656864251 -->\n",
              "<g id=\"node9\" class=\"node\">\n",
              "<title>&#45;4999455168656864251</title>\n",
              "<path fill=\"none\" stroke=\"black\" stroke-width=\"0.25\" d=\"M117.83,-146C117.83,-146 112.17,-146 112.17,-146 109.33,-146 106.5,-143.17 106.5,-140.33 106.5,-140.33 106.5,-128.67 106.5,-128.67 106.5,-125.83 109.33,-123 112.17,-123 112.17,-123 117.83,-123 117.83,-123 120.67,-123 123.5,-125.83 123.5,-128.67 123.5,-128.67 123.5,-140.33 123.5,-140.33 123.5,-143.17 120.67,-146 117.83,-146\"/>\n",
              "<text text-anchor=\"middle\" x=\"115\" y=\"-130.8\" font-family=\"Times,serif\" font-size=\"14.00\">T</text>\n",
              "</g>\n",
              "<!-- 4135721311400131453&#45;&gt;&#45;4999455168656864251 -->\n",
              "<g id=\"edge10\" class=\"edge\">\n",
              "<title>4135721311400131453&#45;&gt;&#45;4999455168656864251</title>\n",
              "<path fill=\"none\" stroke=\"black\" stroke-width=\"0.5\" d=\"M90.29,-163.84C95.32,-158.07 101.5,-150.98 106.42,-145.34\"/>\n",
              "</g>\n",
              "<!-- 466168303344051937 -->\n",
              "<g id=\"node10\" class=\"node\">\n",
              "<title>466168303344051937</title>\n",
              "<path fill=\"none\" stroke=\"black\" stroke-width=\"0.25\" d=\"M155.33,-146C155.33,-146 148.67,-146 148.67,-146 145.33,-146 142,-142.67 142,-139.33 142,-139.33 142,-129.67 142,-129.67 142,-126.33 145.33,-123 148.67,-123 148.67,-123 155.33,-123 155.33,-123 158.67,-123 162,-126.33 162,-129.67 162,-129.67 162,-139.33 162,-139.33 162,-142.67 158.67,-146 155.33,-146\"/>\n",
              "<text text-anchor=\"middle\" x=\"152\" y=\"-130.8\" font-family=\"Times,serif\" font-size=\"14.00\">E′</text>\n",
              "</g>\n",
              "<!-- 4135721311400131453&#45;&gt;466168303344051937 -->\n",
              "<g id=\"edge11\" class=\"edge\">\n",
              "<title>4135721311400131453&#45;&gt;466168303344051937</title>\n",
              "<path fill=\"none\" stroke=\"black\" stroke-width=\"0.5\" d=\"M91.17,-168.91C104.67,-161.5 128.36,-148.49 141.85,-141.08\"/>\n",
              "</g>\n",
              "<!-- &#45;3814766611165635390&#45;&gt;&#45;4091790404716374898 -->\n",
              "<!-- 5549443258751025536 -->\n",
              "<g id=\"node6\" class=\"node\">\n",
              "<title>5549443258751025536</title>\n",
              "<path fill=\"none\" stroke=\"black\" stroke-width=\"1.25\" d=\"M10,-105C10,-105 6,-105 6,-105 4,-105 2,-103 2,-101 2,-101 2,-86 2,-86 2,-84 4,-82 6,-82 6,-82 10,-82 10,-82 12,-82 14,-84 14,-86 14,-86 14,-101 14,-101 14,-103 12,-105 10,-105\"/>\n",
              "<text text-anchor=\"middle\" x=\"8\" y=\"-89.8\" font-family=\"Times,serif\" font-size=\"14.00\">i</text>\n",
              "</g>\n",
              "<!-- &#45;3814766611165635390&#45;&gt;5549443258751025536 -->\n",
              "<g id=\"edge7\" class=\"edge\">\n",
              "<title>&#45;3814766611165635390&#45;&gt;5549443258751025536</title>\n",
              "<path fill=\"none\" stroke=\"black\" stroke-width=\"0.5\" d=\"M8,-122.84C8,-117.34 8,-110.65 8,-105.14\"/>\n",
              "</g>\n",
              "<!-- 8768989419691647897 -->\n",
              "<g id=\"node7\" class=\"node\">\n",
              "<title>8768989419691647897</title>\n",
              "<path fill=\"none\" stroke=\"black\" stroke-width=\"0.25\" d=\"M46.5,-105C46.5,-105 41.5,-105 41.5,-105 39,-105 36.5,-102.5 36.5,-100 36.5,-100 36.5,-87 36.5,-87 36.5,-84.5 39,-82 41.5,-82 41.5,-82 46.5,-82 46.5,-82 49,-82 51.5,-84.5 51.5,-87 51.5,-87 51.5,-100 51.5,-100 51.5,-102.5 49,-105 46.5,-105\"/>\n",
              "<text text-anchor=\"middle\" x=\"44\" y=\"-89.8\" font-family=\"Times,serif\" font-size=\"14.00\">ε</text>\n",
              "</g>\n",
              "<!-- &#45;4091790404716374898&#45;&gt;8768989419691647897 -->\n",
              "<g id=\"edge8\" class=\"edge\">\n",
              "<title>&#45;4091790404716374898&#45;&gt;8768989419691647897</title>\n",
              "<path fill=\"none\" stroke=\"black\" stroke-width=\"0.5\" d=\"M44,-122.84C44,-117.34 44,-110.65 44,-105.14\"/>\n",
              "</g>\n",
              "<!-- &#45;3010051383716626848&#45;&gt;&#45;4999455168656864251 -->\n",
              "<!-- &#45;4999455168656864251&#45;&gt;466168303344051937 -->\n",
              "<!-- 8853141081370206413 -->\n",
              "<g id=\"node11\" class=\"node\">\n",
              "<title>8853141081370206413</title>\n",
              "<path fill=\"none\" stroke=\"black\" stroke-width=\"0.25\" d=\"M81.67,-105C81.67,-105 76.33,-105 76.33,-105 73.67,-105 71,-102.33 71,-99.67 71,-99.67 71,-87.33 71,-87.33 71,-84.67 73.67,-82 76.33,-82 76.33,-82 81.67,-82 81.67,-82 84.33,-82 87,-84.67 87,-87.33 87,-87.33 87,-99.67 87,-99.67 87,-102.33 84.33,-105 81.67,-105\"/>\n",
              "<text text-anchor=\"middle\" x=\"79\" y=\"-89.8\" font-family=\"Times,serif\" font-size=\"14.00\">F</text>\n",
              "</g>\n",
              "<!-- &#45;4999455168656864251&#45;&gt;8853141081370206413 -->\n",
              "<g id=\"edge14\" class=\"edge\">\n",
              "<title>&#45;4999455168656864251&#45;&gt;8853141081370206413</title>\n",
              "<path fill=\"none\" stroke=\"black\" stroke-width=\"0.5\" d=\"M106.29,-124.06C100.46,-117.75 92.84,-109.5 87.14,-103.32\"/>\n",
              "</g>\n",
              "<!-- 4177759904835098777 -->\n",
              "<g id=\"node12\" class=\"node\">\n",
              "<title>4177759904835098777</title>\n",
              "<path fill=\"none\" stroke=\"black\" stroke-width=\"0.25\" d=\"M118.17,-105C118.17,-105 111.83,-105 111.83,-105 108.67,-105 105.5,-101.83 105.5,-98.67 105.5,-98.67 105.5,-88.33 105.5,-88.33 105.5,-85.17 108.67,-82 111.83,-82 111.83,-82 118.17,-82 118.17,-82 121.33,-82 124.5,-85.17 124.5,-88.33 124.5,-88.33 124.5,-98.67 124.5,-98.67 124.5,-101.83 121.33,-105 118.17,-105\"/>\n",
              "<text text-anchor=\"middle\" x=\"115\" y=\"-89.8\" font-family=\"Times,serif\" font-size=\"14.00\">F′</text>\n",
              "</g>\n",
              "<!-- &#45;4999455168656864251&#45;&gt;4177759904835098777 -->\n",
              "<g id=\"edge15\" class=\"edge\">\n",
              "<title>&#45;4999455168656864251&#45;&gt;4177759904835098777</title>\n",
              "<path fill=\"none\" stroke=\"black\" stroke-width=\"0.5\" d=\"M115,-122.84C115,-117.34 115,-110.65 115,-105.14\"/>\n",
              "</g>\n",
              "<!-- &#45;900038649170071044 -->\n",
              "<g id=\"node15\" class=\"node\">\n",
              "<title>&#45;900038649170071044</title>\n",
              "<path fill=\"none\" stroke=\"black\" stroke-width=\"1.25\" d=\"M153.83,-105C153.83,-105 148.17,-105 148.17,-105 145.33,-105 142.5,-102.17 142.5,-99.33 142.5,-99.33 142.5,-87.67 142.5,-87.67 142.5,-84.83 145.33,-82 148.17,-82 148.17,-82 153.83,-82 153.83,-82 156.67,-82 159.5,-84.83 159.5,-87.67 159.5,-87.67 159.5,-99.33 159.5,-99.33 159.5,-102.17 156.67,-105 153.83,-105\"/>\n",
              "<text text-anchor=\"middle\" x=\"151\" y=\"-89.8\" font-family=\"Times,serif\" font-size=\"14.00\">+</text>\n",
              "</g>\n",
              "<!-- 466168303344051937&#45;&gt;&#45;900038649170071044 -->\n",
              "<g id=\"edge19\" class=\"edge\">\n",
              "<title>466168303344051937&#45;&gt;&#45;900038649170071044</title>\n",
              "<path fill=\"none\" stroke=\"black\" stroke-width=\"0.5\" d=\"M151.73,-122.84C151.59,-117.34 151.41,-110.65 151.27,-105.14\"/>\n",
              "</g>\n",
              "<!-- &#45;2889442434110308447 -->\n",
              "<g id=\"node16\" class=\"node\">\n",
              "<title>&#45;2889442434110308447</title>\n",
              "<path fill=\"none\" stroke=\"black\" stroke-width=\"0.25\" d=\"M188.83,-105C188.83,-105 183.17,-105 183.17,-105 180.33,-105 177.5,-102.17 177.5,-99.33 177.5,-99.33 177.5,-87.67 177.5,-87.67 177.5,-84.83 180.33,-82 183.17,-82 183.17,-82 188.83,-82 188.83,-82 191.67,-82 194.5,-84.83 194.5,-87.67 194.5,-87.67 194.5,-99.33 194.5,-99.33 194.5,-102.17 191.67,-105 188.83,-105\"/>\n",
              "<text text-anchor=\"middle\" x=\"186\" y=\"-89.8\" font-family=\"Times,serif\" font-size=\"14.00\">T</text>\n",
              "</g>\n",
              "<!-- 466168303344051937&#45;&gt;&#45;2889442434110308447 -->\n",
              "<g id=\"edge20\" class=\"edge\">\n",
              "<title>466168303344051937&#45;&gt;&#45;2889442434110308447</title>\n",
              "<path fill=\"none\" stroke=\"black\" stroke-width=\"0.5\" d=\"M161.29,-122.84C166.32,-117.07 172.5,-109.98 177.42,-104.34\"/>\n",
              "</g>\n",
              "<!-- &#45;3154394159917214961 -->\n",
              "<g id=\"node17\" class=\"node\">\n",
              "<title>&#45;3154394159917214961</title>\n",
              "<path fill=\"none\" stroke=\"black\" stroke-width=\"0.25\" d=\"M226.33,-105C226.33,-105 219.67,-105 219.67,-105 216.33,-105 213,-101.67 213,-98.33 213,-98.33 213,-88.67 213,-88.67 213,-85.33 216.33,-82 219.67,-82 219.67,-82 226.33,-82 226.33,-82 229.67,-82 233,-85.33 233,-88.67 233,-88.67 233,-98.33 233,-98.33 233,-101.67 229.67,-105 226.33,-105\"/>\n",
              "<text text-anchor=\"middle\" x=\"223\" y=\"-89.8\" font-family=\"Times,serif\" font-size=\"14.00\">E′</text>\n",
              "</g>\n",
              "<!-- 466168303344051937&#45;&gt;&#45;3154394159917214961 -->\n",
              "<g id=\"edge21\" class=\"edge\">\n",
              "<title>466168303344051937&#45;&gt;&#45;3154394159917214961</title>\n",
              "<path fill=\"none\" stroke=\"black\" stroke-width=\"0.5\" d=\"M162.37,-127.83C172.86,-122.09 189.57,-112.94 204,-105 206.91,-103.4 210.06,-101.66 212.95,-100.06\"/>\n",
              "</g>\n",
              "<!-- 8853141081370206413&#45;&gt;4177759904835098777 -->\n",
              "<!-- &#45;229393122422684277 -->\n",
              "<g id=\"node13\" class=\"node\">\n",
              "<title>&#45;229393122422684277</title>\n",
              "<path fill=\"none\" stroke=\"black\" stroke-width=\"1.25\" d=\"M81,-64C81,-64 77,-64 77,-64 75,-64 73,-62 73,-60 73,-60 73,-45 73,-45 73,-43 75,-41 77,-41 77,-41 81,-41 81,-41 83,-41 85,-43 85,-45 85,-45 85,-60 85,-60 85,-62 83,-64 81,-64\"/>\n",
              "<text text-anchor=\"middle\" x=\"79\" y=\"-48.8\" font-family=\"Times,serif\" font-size=\"14.00\">i</text>\n",
              "</g>\n",
              "<!-- 8853141081370206413&#45;&gt;&#45;229393122422684277 -->\n",
              "<g id=\"edge17\" class=\"edge\">\n",
              "<title>8853141081370206413&#45;&gt;&#45;229393122422684277</title>\n",
              "<path fill=\"none\" stroke=\"black\" stroke-width=\"0.5\" d=\"M79,-81.84C79,-76.34 79,-69.65 79,-64.14\"/>\n",
              "</g>\n",
              "<!-- &#45;7567741919471347915 -->\n",
              "<g id=\"node14\" class=\"node\">\n",
              "<title>&#45;7567741919471347915</title>\n",
              "<path fill=\"none\" stroke=\"black\" stroke-width=\"0.25\" d=\"M117.5,-64C117.5,-64 112.5,-64 112.5,-64 110,-64 107.5,-61.5 107.5,-59 107.5,-59 107.5,-46 107.5,-46 107.5,-43.5 110,-41 112.5,-41 112.5,-41 117.5,-41 117.5,-41 120,-41 122.5,-43.5 122.5,-46 122.5,-46 122.5,-59 122.5,-59 122.5,-61.5 120,-64 117.5,-64\"/>\n",
              "<text text-anchor=\"middle\" x=\"115\" y=\"-48.8\" font-family=\"Times,serif\" font-size=\"14.00\">ε</text>\n",
              "</g>\n",
              "<!-- 4177759904835098777&#45;&gt;&#45;7567741919471347915 -->\n",
              "<g id=\"edge18\" class=\"edge\">\n",
              "<title>4177759904835098777&#45;&gt;&#45;7567741919471347915</title>\n",
              "<path fill=\"none\" stroke=\"black\" stroke-width=\"0.5\" d=\"M115,-81.84C115,-76.34 115,-69.65 115,-64.14\"/>\n",
              "</g>\n",
              "<!-- &#45;900038649170071044&#45;&gt;&#45;2889442434110308447 -->\n",
              "<!-- &#45;2889442434110308447&#45;&gt;&#45;3154394159917214961 -->\n",
              "<!-- 6564796432932394089 -->\n",
              "<g id=\"node18\" class=\"node\">\n",
              "<title>6564796432932394089</title>\n",
              "<path fill=\"none\" stroke=\"black\" stroke-width=\"0.25\" d=\"M153.67,-64C153.67,-64 148.33,-64 148.33,-64 145.67,-64 143,-61.33 143,-58.67 143,-58.67 143,-46.33 143,-46.33 143,-43.67 145.67,-41 148.33,-41 148.33,-41 153.67,-41 153.67,-41 156.33,-41 159,-43.67 159,-46.33 159,-46.33 159,-58.67 159,-58.67 159,-61.33 156.33,-64 153.67,-64\"/>\n",
              "<text text-anchor=\"middle\" x=\"151\" y=\"-48.8\" font-family=\"Times,serif\" font-size=\"14.00\">F</text>\n",
              "</g>\n",
              "<!-- &#45;2889442434110308447&#45;&gt;6564796432932394089 -->\n",
              "<g id=\"edge24\" class=\"edge\">\n",
              "<title>&#45;2889442434110308447&#45;&gt;6564796432932394089</title>\n",
              "<path fill=\"none\" stroke=\"black\" stroke-width=\"0.5\" d=\"M177.17,-82.66C171.66,-76.52 164.62,-68.68 159.23,-62.67\"/>\n",
              "</g>\n",
              "<!-- 6287772639381654581 -->\n",
              "<g id=\"node19\" class=\"node\">\n",
              "<title>6287772639381654581</title>\n",
              "<path fill=\"none\" stroke=\"black\" stroke-width=\"0.25\" d=\"M190.17,-64C190.17,-64 183.83,-64 183.83,-64 180.67,-64 177.5,-60.83 177.5,-57.67 177.5,-57.67 177.5,-47.33 177.5,-47.33 177.5,-44.17 180.67,-41 183.83,-41 183.83,-41 190.17,-41 190.17,-41 193.33,-41 196.5,-44.17 196.5,-47.33 196.5,-47.33 196.5,-57.67 196.5,-57.67 196.5,-60.83 193.33,-64 190.17,-64\"/>\n",
              "<text text-anchor=\"middle\" x=\"187\" y=\"-48.8\" font-family=\"Times,serif\" font-size=\"14.00\">F′</text>\n",
              "</g>\n",
              "<!-- &#45;2889442434110308447&#45;&gt;6287772639381654581 -->\n",
              "<g id=\"edge25\" class=\"edge\">\n",
              "<title>&#45;2889442434110308447&#45;&gt;6287772639381654581</title>\n",
              "<path fill=\"none\" stroke=\"black\" stroke-width=\"0.5\" d=\"M186.27,-81.84C186.41,-76.34 186.59,-69.65 186.73,-64.14\"/>\n",
              "</g>\n",
              "<!-- &#45;2164211833857215102 -->\n",
              "<g id=\"node22\" class=\"node\">\n",
              "<title>&#45;2164211833857215102</title>\n",
              "<path fill=\"none\" stroke=\"black\" stroke-width=\"0.25\" d=\"M225.5,-64C225.5,-64 220.5,-64 220.5,-64 218,-64 215.5,-61.5 215.5,-59 215.5,-59 215.5,-46 215.5,-46 215.5,-43.5 218,-41 220.5,-41 220.5,-41 225.5,-41 225.5,-41 228,-41 230.5,-43.5 230.5,-46 230.5,-46 230.5,-59 230.5,-59 230.5,-61.5 228,-64 225.5,-64\"/>\n",
              "<text text-anchor=\"middle\" x=\"223\" y=\"-48.8\" font-family=\"Times,serif\" font-size=\"14.00\">ε</text>\n",
              "</g>\n",
              "<!-- &#45;3154394159917214961&#45;&gt;&#45;2164211833857215102 -->\n",
              "<g id=\"edge29\" class=\"edge\">\n",
              "<title>&#45;3154394159917214961&#45;&gt;&#45;2164211833857215102</title>\n",
              "<path fill=\"none\" stroke=\"black\" stroke-width=\"0.5\" d=\"M223,-81.84C223,-76.34 223,-69.65 223,-64.14\"/>\n",
              "</g>\n",
              "<!-- 6564796432932394089&#45;&gt;6287772639381654581 -->\n",
              "<!-- 1880619612123871527 -->\n",
              "<g id=\"node20\" class=\"node\">\n",
              "<title>1880619612123871527</title>\n",
              "<path fill=\"none\" stroke=\"black\" stroke-width=\"1.25\" d=\"M153,-23C153,-23 149,-23 149,-23 147,-23 145,-21 145,-19 145,-19 145,-4 145,-4 145,-2 147,0 149,0 149,0 153,0 153,0 155,0 157,-2 157,-4 157,-4 157,-19 157,-19 157,-21 155,-23 153,-23\"/>\n",
              "<text text-anchor=\"middle\" x=\"151\" y=\"-7.8\" font-family=\"Times,serif\" font-size=\"14.00\">i</text>\n",
              "</g>\n",
              "<!-- 6564796432932394089&#45;&gt;1880619612123871527 -->\n",
              "<g id=\"edge27\" class=\"edge\">\n",
              "<title>6564796432932394089&#45;&gt;1880619612123871527</title>\n",
              "<path fill=\"none\" stroke=\"black\" stroke-width=\"0.5\" d=\"M151,-40.84C151,-35.34 151,-28.65 151,-23.14\"/>\n",
              "</g>\n",
              "<!-- 701808390080125760 -->\n",
              "<g id=\"node21\" class=\"node\">\n",
              "<title>701808390080125760</title>\n",
              "<path fill=\"none\" stroke=\"black\" stroke-width=\"0.25\" d=\"M189.5,-23C189.5,-23 184.5,-23 184.5,-23 182,-23 179.5,-20.5 179.5,-18 179.5,-18 179.5,-5 179.5,-5 179.5,-2.5 182,0 184.5,0 184.5,0 189.5,0 189.5,0 192,0 194.5,-2.5 194.5,-5 194.5,-5 194.5,-18 194.5,-18 194.5,-20.5 192,-23 189.5,-23\"/>\n",
              "<text text-anchor=\"middle\" x=\"187\" y=\"-7.8\" font-family=\"Times,serif\" font-size=\"14.00\">ε</text>\n",
              "</g>\n",
              "<!-- 6287772639381654581&#45;&gt;701808390080125760 -->\n",
              "<g id=\"edge28\" class=\"edge\">\n",
              "<title>6287772639381654581&#45;&gt;701808390080125760</title>\n",
              "<path fill=\"none\" stroke=\"black\" stroke-width=\"0.5\" d=\"M187,-40.84C187,-35.34 187,-28.65 187,-23.14\"/>\n",
              "</g>\n",
              "</g>\n",
              "</svg>\n"
            ],
            "text/plain": [
              "ProductionGraph(E -> T E′ -> F F′ E′ -> i F′ E′ -> i E′ -> i + T E′ -> i + F F′ E′ -> i + i F′ E′ -> i + i E′ -> i + i + T E′ -> i + i + F F′ E′ -> i + i + i F′ E′ -> i + i + i E′ -> i + i + i)"
            ]
          },
          "execution_count": 43,
          "metadata": {},
          "output_type": "execute_result"
        }
      ],
      "source": [
        "ProductionGraph(parse(G, TABLE, 'i + i + i'.split()))"
      ]
    },
    {
      "cell_type": "code",
      "execution_count": null,
      "metadata": {},
      "outputs": [],
      "source": []
    }
  ],
  "metadata": {
    "kernelspec": {
      "display_name": "Python 3",
      "language": "python",
      "name": "python3"
    },
    "language_info": {
      "codemirror_mode": {
        "name": "ipython",
        "version": 3
      },
      "file_extension": ".py",
      "mimetype": "text/x-python",
      "name": "python",
      "nbconvert_exporter": "python",
      "pygments_lexer": "ipython3"
    }
  },
  "nbformat": 4,
  "nbformat_minor": 4
}
