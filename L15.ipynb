{
  "cells": [
    {
      "cell_type": "markdown",
      "metadata": {},
      "source": [
        "# Lezione 15\n",
        "\n",
        "Il materiale di riferimento per le lezioni a venire è costituito da:\n",
        "\n",
        "* Il libro (di testo) [The Definitive ANTLR 4 Reference](https://pragprog.com/book/tpantlr2/the-definitive-antlr-4-reference) di Terence Parr (l'autore di ANTLR),\n",
        "* le [informazioni su target/runtime Python 3](https://github.com/antlr/antlr4/blob/master/doc/python-target.md),\n",
        "* i [sorgenti del runtime Python 3](https://github.com/antlr/antlr4/tree/master/runtime/Python3),\n",
        "* le [API Java](https://www.antlr.org/api/Java/) (utili a colmare la scarsezza della documentazione dei target/runtime Python 3),\n",
        "* la [versione Python 3 degli esempi di codice](https://github.com/jszheng/py3antlr4book) del libro di cui sopra (non ufficiale),\n",
        "* un [insieme di grammatiche](https://github.com/antlr/grammars-v4) di diversi linguaggi noti.\n",
        "\n",
        "## Uso \"diretto\" (senza LibLET)"
      ]
    },
    {
      "cell_type": "code",
      "execution_count": null,
      "metadata": {},
      "outputs": [],
      "source": [
        "! rm -rf Hello*.*"
      ]
    },
    {
      "cell_type": "code",
      "execution_count": null,
      "metadata": {},
      "outputs": [
        {
          "name": "stdout",
          "output_type": "stream",
          "text": [
            "Writing Hello.g\n"
          ]
        }
      ],
      "source": [
        "%%writefile Hello.g\n",
        "\n",
        "grammar Hello;            // Define a grammar called Hello\n",
        "r  : 'hello' ID ;         // match keyword hello followed by an identifier\n",
        "ID : [a-z]+ ;             // match lower-case identifiers\n",
        "WS : [ \\t\\r\\n]+ -> skip ; // skip spaces, tabs, newlines, \\r (Windows)"
      ]
    },
    {
      "cell_type": "markdown",
      "metadata": {},
      "source": [
        "### Generazione dei moduli (usando il tool Java)"
      ]
    },
    {
      "cell_type": "code",
      "execution_count": null,
      "metadata": {},
      "outputs": [
        {
          "name": "stdout",
          "output_type": "stream",
          "text": [
            "/home/santini/Documents/Activities/Teaching/Courses/let/drafts/jars/antlr-4.10-complete.jar\r\n"
          ]
        }
      ],
      "source": [
        "! echo $ANTLR4_JAR"
      ]
    },
    {
      "cell_type": "code",
      "execution_count": null,
      "metadata": {},
      "outputs": [
        {
          "name": "stdout",
          "output_type": "stream",
          "text": [
            "-rw------- 1 santini santini 1669 May  3 13:55 HelloLexer.py\r\n",
            "-rw------- 1 santini santini  560 May  3 13:55 HelloListener.py\r\n",
            "-rw------- 1 santini santini 2562 May  3 13:55 HelloParser.py\r\n",
            "-rw------- 1 santini santini  480 May  3 13:55 HelloVisitor.py\r\n"
          ]
        }
      ],
      "source": [
        "! java -jar \"$ANTLR4_JAR\" -Dlanguage=Python3 -visitor Hello.g && ls -l Hello*py"
      ]
    },
    {
      "cell_type": "markdown",
      "metadata": {},
      "source": [
        "### Parsing (costruzione dell'albero)"
      ]
    },
    {
      "cell_type": "code",
      "execution_count": null,
      "metadata": {},
      "outputs": [],
      "source": [
        "# codice dal runtime di antlr4\n",
        "\n",
        "from antlr4.CommonTokenStream import CommonTokenStream\n",
        "from antlr4.InputStream import InputStream"
      ]
    },
    {
      "cell_type": "code",
      "execution_count": null,
      "metadata": {},
      "outputs": [],
      "source": [
        "# codice genrerato da antlr4 a partire dalla grammatica Hello.g\n",
        "\n",
        "from HelloLexer import HelloLexer\n",
        "from HelloParser import HelloParser"
      ]
    },
    {
      "cell_type": "code",
      "execution_count": null,
      "metadata": {},
      "outputs": [
        {
          "data": {
            "text/plain": [
              "'(r hello massimo)'"
            ]
          },
          "execution_count": 7,
          "metadata": {},
          "output_type": "execute_result"
        }
      ],
      "source": [
        "text = 'hello massimo'\n",
        "\n",
        "lexer = HelloLexer(InputStream(text))\n",
        "stream = CommonTokenStream(lexer)\n",
        "parser = HelloParser(stream)\n",
        "tree = parser.r()\n",
        "\n",
        "tree.toStringTree(recog = parser)"
      ]
    },
    {
      "cell_type": "markdown",
      "metadata": {},
      "source": [
        "#### Uso del lexer"
      ]
    },
    {
      "cell_type": "code",
      "execution_count": null,
      "metadata": {},
      "outputs": [
        {
          "name": "stdout",
          "output_type": "stream",
          "text": [
            "[@-1,0:4='hello',<1>,1:0]\n",
            "[@-1,6:12='massimo',<2>,1:6]\n",
            "[@-1,13:12='<EOF>',<-1>,1:13]\n"
          ]
        }
      ],
      "source": [
        "lexer.reset()\n",
        "\n",
        "while True:\n",
        "    token = lexer.nextToken()\n",
        "    print(token)\n",
        "    if token.type == token.EOF: break"
      ]
    },
    {
      "cell_type": "markdown",
      "metadata": {},
      "source": [
        "### Un esempio maggiormente complesso"
      ]
    },
    {
      "cell_type": "code",
      "execution_count": null,
      "metadata": {},
      "outputs": [],
      "source": [
        "! rm -f Expr*.*"
      ]
    },
    {
      "cell_type": "code",
      "execution_count": null,
      "metadata": {},
      "outputs": [
        {
          "name": "stdout",
          "output_type": "stream",
          "text": [
            "Writing Expr.g\n"
          ]
        }
      ],
      "source": [
        "%%writefile Expr.g\n",
        "\n",
        "grammar Expr; \n",
        "\n",
        "/** The start rule; begin parsing here. */\n",
        "\n",
        "prog:   stat+ ;\n",
        "\n",
        "stat:   expr NEWLINE\n",
        "    |   ID '=' expr NEWLINE\n",
        "    |   NEWLINE\n",
        "    ;\n",
        "\n",
        "expr:   expr ('*'|'/') expr\n",
        "    |   expr ('+'|'-') expr\n",
        "    |   INT\n",
        "    |   ID\n",
        "    |   '(' expr ')'\n",
        "    ;\n",
        "\n",
        "MUL :   '*' ;         // assigns token name to '*' used above in grammar\n",
        "DIV :   '/' ;\n",
        "ADD :   '+' ;\n",
        "SUB :   '-' ;\n",
        "ID  :   [a-zA-Z]+ ;   // match identifiers\n",
        "INT :   [0-9]+ ;      // match integers\n",
        "NEWLINE:'\\r'? '\\n' ;  // return newlines to parser (is end-statement signal)\n",
        "WS : [ \\t]+ -> skip ; // toss out whitespace    "
      ]
    },
    {
      "cell_type": "code",
      "execution_count": null,
      "metadata": {},
      "outputs": [
        {
          "name": "stdout",
          "output_type": "stream",
          "text": [
            "-rw------- 1 santini santini  2744 May  3 13:55 ExprLexer.py\r\n",
            "-rw------- 1 santini santini  1048 May  3 13:55 ExprListener.py\r\n",
            "-rw------- 1 santini santini 13053 May  3 13:55 ExprParser.py\r\n",
            "-rw------- 1 santini santini   775 May  3 13:55 ExprVisitor.py\r\n"
          ]
        }
      ],
      "source": [
        "! java -jar \"$ANTLR4_JAR\" -Dlanguage=Python3 -visitor Expr.g && ls -l Expr*py"
      ]
    },
    {
      "cell_type": "code",
      "execution_count": null,
      "metadata": {},
      "outputs": [
        {
          "data": {
            "text/plain": [
              "'(prog (stat (expr (expr (expr 2) * (expr 3)) + (expr 4)) \\\\n))'"
            ]
          },
          "execution_count": 12,
          "metadata": {},
          "output_type": "execute_result"
        }
      ],
      "source": [
        "from ExprLexer import ExprLexer\n",
        "from ExprParser import ExprParser\n",
        "\n",
        "text = '2 * 3 + 4\\n'\n",
        "\n",
        "lexer = ExprLexer(InputStream(text))\n",
        "stream = CommonTokenStream(lexer)\n",
        "parser = ExprParser(stream)\n",
        "tree = parser.prog()\n",
        "\n",
        "tree.toStringTree(recog = parser)"
      ]
    },
    {
      "cell_type": "markdown",
      "metadata": {},
      "source": [
        "#### Uso del Listener"
      ]
    },
    {
      "cell_type": "code",
      "execution_count": null,
      "metadata": {},
      "outputs": [],
      "source": [
        "from antlr4.tree.Tree import ParseTreeWalker"
      ]
    },
    {
      "cell_type": "code",
      "execution_count": null,
      "metadata": {},
      "outputs": [
        {
          "name": "stdout",
          "output_type": "stream",
          "text": [
            "[@0,0:0='2',<9>,1:0] [@0,0:0='2',<9>,1:0] expr\n",
            "[@2,4:4='3',<9>,1:4] [@2,4:4='3',<9>,1:4] expr\n",
            "[@0,0:0='2',<9>,1:0] [@2,4:4='3',<9>,1:4] expr\n",
            "[@4,8:8='4',<9>,1:8] [@4,8:8='4',<9>,1:8] expr\n",
            "[@0,0:0='2',<9>,1:0] [@4,8:8='4',<9>,1:8] expr\n",
            "[@0,0:0='2',<9>,1:0] [@5,9:9='\\n',<10>,1:9] stat\n",
            "[@0,0:0='2',<9>,1:0] [@5,9:9='\\n',<10>,1:9] prog\n"
          ]
        }
      ],
      "source": [
        "from ExprListener import ExprListener\n",
        "\n",
        "class PrintListener(ExprListener):\n",
        "    def exitEveryRule(self, ctx):\n",
        "        print(ctx.start, ctx.stop, ExprParser.ruleNames[ctx.getRuleIndex()])\n",
        "\n",
        "listener = PrintListener()\n",
        "ParseTreeWalker.DEFAULT.walk(listener, tree)"
      ]
    },
    {
      "cell_type": "markdown",
      "metadata": {},
      "source": [
        "#### Uso del Visitor"
      ]
    },
    {
      "cell_type": "code",
      "execution_count": null,
      "metadata": {},
      "outputs": [
        {
          "name": "stdout",
          "output_type": "stream",
          "text": [
            "[@0,0:0='2',<9>,1:0] [@5,9:9='\\n',<10>,1:9] prog\n",
            "[@0,0:0='2',<9>,1:0] [@5,9:9='\\n',<10>,1:9] stat\n",
            "[@0,0:0='2',<9>,1:0] [@4,8:8='4',<9>,1:8] expr\n",
            "[@0,0:0='2',<9>,1:0] [@2,4:4='3',<9>,1:4] expr\n",
            "[@0,0:0='2',<9>,1:0] [@0,0:0='2',<9>,1:0] expr\n",
            "[@2,4:4='3',<9>,1:4] [@2,4:4='3',<9>,1:4] expr\n",
            "[@4,8:8='4',<9>,1:8] [@4,8:8='4',<9>,1:8] expr\n"
          ]
        }
      ],
      "source": [
        "from ExprVisitor import ExprVisitor\n",
        "\n",
        "class PrintVisitor(ExprVisitor):\n",
        "    def visitChildren(self, ctx):\n",
        "        print(ctx.start, ctx.stop, ExprParser.ruleNames[ctx.getRuleIndex()])\n",
        "        return super().visitChildren(ctx)\n",
        "        \n",
        "visitor = PrintVisitor()\n",
        "visitor.visit(tree)"
      ]
    },
    {
      "cell_type": "markdown",
      "metadata": {},
      "source": [
        "#### <span style=\"color:red;\">Per casa</span>: intercettare gli errori"
      ]
    },
    {
      "cell_type": "code",
      "execution_count": null,
      "metadata": {},
      "outputs": [],
      "source": [
        "from antlr4.error.ErrorListener import ErrorListener\n",
        "\n",
        "class PrintLexerErrorListener(ErrorListener):\n",
        "    def syntaxError(self, recognizer, offendingSymbol, line, column, msg, e):\n",
        "        print(f'Lexer error: {line=}, {column=}, {msg=}, exception={e}')  \n",
        "        \n",
        "class PrintParserErrorListener(ErrorListener):\n",
        "    def syntaxError(self, recognizer, offendingSymbol, line, column, msg, e):\n",
        "        print(f'Parser error: {line=}, {column=}, {msg=}, exception={e}, rules={recognizer.getRuleInvocationStack()}')  "
      ]
    },
    {
      "cell_type": "code",
      "execution_count": null,
      "metadata": {},
      "outputs": [],
      "source": [
        "text = '2 * 1 + !\\n'\n",
        "\n",
        "lexer = ExprLexer(InputStream(text))\n",
        "lexer.removeErrorListeners()\n",
        "lexer.addErrorListener(PrintLexerErrorListener())\n",
        "\n",
        "stream = CommonTokenStream(lexer)\n",
        "\n",
        "parser = ExprParser(stream)\n",
        "parser.removeErrorListeners()\n",
        "parser.addErrorListener(PrintParserErrorListener())"
      ]
    },
    {
      "cell_type": "code",
      "execution_count": null,
      "metadata": {},
      "outputs": [
        {
          "name": "stdout",
          "output_type": "stream",
          "text": [
            "Lexer error: line=1, column=8, msg=\"token recognition error at: '!'\", exception=LexerNoViableAltException('!')\n",
            "Parser error: line=1, column=9, msg=\"mismatched input '\\\\n' expecting {'(', ID, INT}\", exception=None, rules=['expr', 'expr', 'stat', 'prog']\n"
          ]
        }
      ],
      "source": [
        "tree = None\n",
        "tree = parser.prog()"
      ]
    },
    {
      "cell_type": "code",
      "execution_count": null,
      "metadata": {},
      "outputs": [
        {
          "data": {
            "text/plain": [
              "'(prog (stat (expr (expr (expr 2) * (expr 1)) + expr) \\\\n))'"
            ]
          },
          "execution_count": 19,
          "metadata": {},
          "output_type": "execute_result"
        }
      ],
      "source": [
        "tree.toStringTree(recog = parser)"
      ]
    },
    {
      "cell_type": "markdown",
      "metadata": {},
      "source": [
        "## Uso mediato da LibLET"
      ]
    },
    {
      "cell_type": "code",
      "execution_count": null,
      "metadata": {},
      "outputs": [],
      "source": [
        "from liblet import ANTLR, Tree"
      ]
    },
    {
      "cell_type": "markdown",
      "metadata": {},
      "source": [
        "### Generazione e caricamento dei moduli"
      ]
    },
    {
      "cell_type": "code",
      "execution_count": null,
      "metadata": {},
      "outputs": [],
      "source": [
        "LabeledExpr = ANTLR(r\"\"\"\n",
        "grammar LabeledExpr; // rename to distinguish from Expr.g4\n",
        "\n",
        "prog:   stat+ ;\n",
        "\n",
        "stat:   expr NEWLINE                # printExpr\n",
        "    |   ID '=' expr NEWLINE         # assign\n",
        "    |   NEWLINE                     # blank\n",
        "    ;\n",
        "\n",
        "expr:   expr op=('*'|'/') expr      # MulDiv\n",
        "    |   expr op=('+'|'-') expr      # AddSub\n",
        "    |   INT                         # int\n",
        "    |   ID                          # id\n",
        "    |   '(' expr ')'                # parens\n",
        "    ;\n",
        "\n",
        "MUL :   '*' ; // assigns token name to '*' used above in grammar\n",
        "DIV :   '/' ;\n",
        "ADD :   '+' ;\n",
        "SUB :   '-' ;\n",
        "ID  :   [a-zA-Z]+ ;      // match identifiers\n",
        "INT :   [0-9]+ ;         // match integers\n",
        "NEWLINE:'\\r'? '\\n' ;     // return newlines to parser (is end-statement signal)\n",
        "WS : [ \\t]+ -> skip ; // toss out whitespace\n",
        "\"\"\")"
      ]
    },
    {
      "cell_type": "markdown",
      "metadata": {},
      "source": [
        "### Costruzione dei token e del parsing context"
      ]
    },
    {
      "cell_type": "code",
      "execution_count": null,
      "metadata": {},
      "outputs": [],
      "source": [
        "text = '3 * 4 + 5\\n'"
      ]
    },
    {
      "cell_type": "code",
      "execution_count": null,
      "metadata": {},
      "outputs": [
        {
          "name": "stdout",
          "output_type": "stream",
          "text": [
            "[@0,0:0='3',<9>,1:0]\n",
            "[@1,2:2='*',<4>,1:2]\n",
            "[@2,4:4='4',<9>,1:4]\n",
            "[@3,6:6='+',<6>,1:6]\n",
            "[@4,8:8='5',<9>,1:8]\n",
            "[@5,9:9='\\n',<10>,1:9]\n",
            "[@6,10:9='<EOF>',<-1>,2:0]\n"
          ]
        }
      ],
      "source": [
        "for token in LabeledExpr.tokens(text): print(token)"
      ]
    },
    {
      "cell_type": "code",
      "execution_count": null,
      "metadata": {},
      "outputs": [
        {
          "data": {
            "text/plain": [
              "<LabeledExprParser.LabeledExprParser.ProgContext at 0x7fef743736d0>"
            ]
          },
          "execution_count": 24,
          "metadata": {},
          "output_type": "execute_result"
        }
      ],
      "source": [
        "LabeledExpr.context(text, 'prog')"
      ]
    },
    {
      "cell_type": "code",
      "execution_count": null,
      "metadata": {},
      "outputs": [
        {
          "data": {
            "text/plain": [
              "'(prog (stat (expr (expr (expr 3) * (expr 4)) + (expr 5)) \\\\n))'"
            ]
          },
          "execution_count": 25,
          "metadata": {},
          "output_type": "execute_result"
        }
      ],
      "source": [
        "# come stringa\n",
        "\n",
        "LabeledExpr.context(text, 'prog', as_string = True)"
      ]
    },
    {
      "cell_type": "markdown",
      "metadata": {},
      "source": [
        "### Generazione di un Tree (\"annotato\")"
      ]
    },
    {
      "cell_type": "code",
      "execution_count": null,
      "metadata": {},
      "outputs": [
        {
          "data": {
            "image/svg+xml": [
              "<?xml version=\"1.0\" encoding=\"UTF-8\" standalone=\"no\"?>\n",
              "<!DOCTYPE svg PUBLIC \"-//W3C//DTD SVG 1.1//EN\"\n",
              " \"http://www.w3.org/Graphics/SVG/1.1/DTD/svg11.dtd\">\n",
              "<!-- Generated by graphviz version 2.43.0 (0)\n",
              " -->\n",
              "<!-- Title: %3 Pages: 1 -->\n",
              "<svg width=\"169pt\" height=\"236pt\"\n",
              " viewBox=\"0.00 0.00 169.00 236.00\" xmlns=\"http://www.w3.org/2000/svg\" xmlns:xlink=\"http://www.w3.org/1999/xlink\">\n",
              "<g id=\"graph0\" class=\"graph\" transform=\"scale(1 1) rotate(0) translate(4 232)\">\n",
              "<title>%3</title>\n",
              "<polygon fill=\"white\" stroke=\"transparent\" points=\"-4,4 -4,-232 165,-232 165,4 -4,4\"/>\n",
              "<!-- 140666423680880 -->\n",
              "<g id=\"node1\" class=\"node\">\n",
              "<title>140666423680880</title>\n",
              "<path fill=\"none\" stroke=\"black\" stroke-width=\"0.25\" d=\"M132.33,-228C132.33,-228 114.67,-228 114.67,-228 110.83,-228 107,-224.17 107,-220.33 107,-220.33 107,-212.67 107,-212.67 107,-208.83 110.83,-205 114.67,-205 114.67,-205 132.33,-205 132.33,-205 136.17,-205 140,-208.83 140,-212.67 140,-212.67 140,-220.33 140,-220.33 140,-224.17 136.17,-228 132.33,-228\"/>\n",
              "<text text-anchor=\"middle\" x=\"123.5\" y=\"-212.8\" font-family=\"Times,serif\" font-size=\"14.00\">prog</text>\n",
              "</g>\n",
              "<!-- 140666423680832 -->\n",
              "<g id=\"node2\" class=\"node\">\n",
              "<title>140666423680832</title>\n",
              "<path fill=\"none\" stroke=\"black\" stroke-width=\"0.25\" d=\"M129.33,-187C129.33,-187 117.67,-187 117.67,-187 113.83,-187 110,-183.17 110,-179.33 110,-179.33 110,-171.67 110,-171.67 110,-167.83 113.83,-164 117.67,-164 117.67,-164 129.33,-164 129.33,-164 133.17,-164 137,-167.83 137,-171.67 137,-171.67 137,-179.33 137,-179.33 137,-183.17 133.17,-187 129.33,-187\"/>\n",
              "<text text-anchor=\"middle\" x=\"123.5\" y=\"-171.8\" font-family=\"Times,serif\" font-size=\"14.00\">stat</text>\n",
              "</g>\n",
              "<!-- 140666423680880&#45;&gt;140666423680832 -->\n",
              "<g id=\"edge1\" class=\"edge\">\n",
              "<title>140666423680880&#45;&gt;140666423680832</title>\n",
              "<path fill=\"none\" stroke=\"black\" d=\"M123.5,-204.84C123.5,-199.34 123.5,-192.65 123.5,-187.14\"/>\n",
              "</g>\n",
              "<!-- 140666423680928 -->\n",
              "<g id=\"node3\" class=\"node\">\n",
              "<title>140666423680928</title>\n",
              "<path fill=\"none\" stroke=\"black\" stroke-width=\"0.25\" d=\"M110.33,-146C110.33,-146 92.67,-146 92.67,-146 88.83,-146 85,-142.17 85,-138.33 85,-138.33 85,-130.67 85,-130.67 85,-126.83 88.83,-123 92.67,-123 92.67,-123 110.33,-123 110.33,-123 114.17,-123 118,-126.83 118,-130.67 118,-130.67 118,-138.33 118,-138.33 118,-142.17 114.17,-146 110.33,-146\"/>\n",
              "<text text-anchor=\"middle\" x=\"101.5\" y=\"-130.8\" font-family=\"Times,serif\" font-size=\"14.00\">expr</text>\n",
              "</g>\n",
              "<!-- 140666423680832&#45;&gt;140666423680928 -->\n",
              "<g id=\"edge2\" class=\"edge\">\n",
              "<title>140666423680832&#45;&gt;140666423680928</title>\n",
              "<path fill=\"none\" stroke=\"black\" d=\"M117.49,-163.84C114.38,-158.34 110.61,-151.65 107.5,-146.14\"/>\n",
              "</g>\n",
              "<!-- 140666422940048 -->\n",
              "<g id=\"node4\" class=\"node\">\n",
              "<title>140666422940048</title>\n",
              "<path fill=\"none\" stroke=\"black\" stroke-width=\"0.25\" d=\"M148.67,-146C148.67,-146 142.33,-146 142.33,-146 139.17,-146 136,-142.83 136,-139.67 136,-139.67 136,-129.33 136,-129.33 136,-126.17 139.17,-123 142.33,-123 142.33,-123 148.67,-123 148.67,-123 151.83,-123 155,-126.17 155,-129.33 155,-129.33 155,-139.67 155,-139.67 155,-142.83 151.83,-146 148.67,-146\"/>\n",
              "<text text-anchor=\"middle\" x=\"145.5\" y=\"-130.8\" font-family=\"Times,serif\" font-size=\"14.00\">\\n</text>\n",
              "</g>\n",
              "<!-- 140666423680832&#45;&gt;140666422940048 -->\n",
              "<g id=\"edge3\" class=\"edge\">\n",
              "<title>140666423680832&#45;&gt;140666422940048</title>\n",
              "<path fill=\"none\" stroke=\"black\" d=\"M129.51,-163.84C132.62,-158.34 136.39,-151.65 139.5,-146.14\"/>\n",
              "</g>\n",
              "<!-- 140666423680928&#45;&gt;140666422940048 -->\n",
              "<!-- 140666423680976 -->\n",
              "<g id=\"node5\" class=\"node\">\n",
              "<title>140666423680976</title>\n",
              "<path fill=\"none\" stroke=\"black\" stroke-width=\"0.25\" d=\"M67.33,-105C67.33,-105 49.67,-105 49.67,-105 45.83,-105 42,-101.17 42,-97.33 42,-97.33 42,-89.67 42,-89.67 42,-85.83 45.83,-82 49.67,-82 49.67,-82 67.33,-82 67.33,-82 71.17,-82 75,-85.83 75,-89.67 75,-89.67 75,-97.33 75,-97.33 75,-101.17 71.17,-105 67.33,-105\"/>\n",
              "<text text-anchor=\"middle\" x=\"58.5\" y=\"-89.8\" font-family=\"Times,serif\" font-size=\"14.00\">expr</text>\n",
              "</g>\n",
              "<!-- 140666423680928&#45;&gt;140666423680976 -->\n",
              "<g id=\"edge5\" class=\"edge\">\n",
              "<title>140666423680928&#45;&gt;140666423680976</title>\n",
              "<path fill=\"none\" stroke=\"black\" d=\"M89.75,-122.84C83.68,-117.34 76.3,-110.65 70.24,-105.14\"/>\n",
              "</g>\n",
              "<!-- 140666422939712 -->\n",
              "<g id=\"node6\" class=\"node\">\n",
              "<title>140666422939712</title>\n",
              "<path fill=\"none\" stroke=\"black\" stroke-width=\"0.25\" d=\"M104.33,-105C104.33,-105 98.67,-105 98.67,-105 95.83,-105 93,-102.17 93,-99.33 93,-99.33 93,-87.67 93,-87.67 93,-84.83 95.83,-82 98.67,-82 98.67,-82 104.33,-82 104.33,-82 107.17,-82 110,-84.83 110,-87.67 110,-87.67 110,-99.33 110,-99.33 110,-102.17 107.17,-105 104.33,-105\"/>\n",
              "<text text-anchor=\"middle\" x=\"101.5\" y=\"-89.8\" font-family=\"Times,serif\" font-size=\"14.00\">+</text>\n",
              "</g>\n",
              "<!-- 140666423680928&#45;&gt;140666422939712 -->\n",
              "<g id=\"edge6\" class=\"edge\">\n",
              "<title>140666423680928&#45;&gt;140666422939712</title>\n",
              "<path fill=\"none\" stroke=\"black\" d=\"M101.5,-122.84C101.5,-117.34 101.5,-110.65 101.5,-105.14\"/>\n",
              "</g>\n",
              "<!-- 140666422940144 -->\n",
              "<g id=\"node7\" class=\"node\">\n",
              "<title>140666422940144</title>\n",
              "<path fill=\"none\" stroke=\"black\" stroke-width=\"0.25\" d=\"M153.33,-105C153.33,-105 135.67,-105 135.67,-105 131.83,-105 128,-101.17 128,-97.33 128,-97.33 128,-89.67 128,-89.67 128,-85.83 131.83,-82 135.67,-82 135.67,-82 153.33,-82 153.33,-82 157.17,-82 161,-85.83 161,-89.67 161,-89.67 161,-97.33 161,-97.33 161,-101.17 157.17,-105 153.33,-105\"/>\n",
              "<text text-anchor=\"middle\" x=\"144.5\" y=\"-89.8\" font-family=\"Times,serif\" font-size=\"14.00\">expr</text>\n",
              "</g>\n",
              "<!-- 140666423680928&#45;&gt;140666422940144 -->\n",
              "<g id=\"edge7\" class=\"edge\">\n",
              "<title>140666423680928&#45;&gt;140666422940144</title>\n",
              "<path fill=\"none\" stroke=\"black\" d=\"M113.25,-122.84C119.32,-117.34 126.7,-110.65 132.76,-105.14\"/>\n",
              "</g>\n",
              "<!-- 140666423680976&#45;&gt;140666422939712 -->\n",
              "<!-- 140666423680112 -->\n",
              "<g id=\"node8\" class=\"node\">\n",
              "<title>140666423680112</title>\n",
              "<path fill=\"none\" stroke=\"black\" stroke-width=\"0.25\" d=\"M25.33,-64C25.33,-64 7.67,-64 7.67,-64 3.83,-64 0,-60.17 0,-56.33 0,-56.33 0,-48.67 0,-48.67 0,-44.83 3.83,-41 7.67,-41 7.67,-41 25.33,-41 25.33,-41 29.17,-41 33,-44.83 33,-48.67 33,-48.67 33,-56.33 33,-56.33 33,-60.17 29.17,-64 25.33,-64\"/>\n",
              "<text text-anchor=\"middle\" x=\"16.5\" y=\"-48.8\" font-family=\"Times,serif\" font-size=\"14.00\">expr</text>\n",
              "</g>\n",
              "<!-- 140666423680976&#45;&gt;140666423680112 -->\n",
              "<g id=\"edge10\" class=\"edge\">\n",
              "<title>140666423680976&#45;&gt;140666423680112</title>\n",
              "<path fill=\"none\" stroke=\"black\" d=\"M47.02,-81.84C41.1,-76.34 33.89,-69.65 27.96,-64.14\"/>\n",
              "</g>\n",
              "<!-- 140666423677088 -->\n",
              "<g id=\"node9\" class=\"node\">\n",
              "<title>140666423677088</title>\n",
              "<path fill=\"none\" stroke=\"black\" stroke-width=\"0.25\" d=\"M61,-64C61,-64 56,-64 56,-64 53.5,-64 51,-61.5 51,-59 51,-59 51,-46 51,-46 51,-43.5 53.5,-41 56,-41 56,-41 61,-41 61,-41 63.5,-41 66,-43.5 66,-46 66,-46 66,-59 66,-59 66,-61.5 63.5,-64 61,-64\"/>\n",
              "<text text-anchor=\"middle\" x=\"58.5\" y=\"-48.8\" font-family=\"Times,serif\" font-size=\"14.00\">*</text>\n",
              "</g>\n",
              "<!-- 140666423680976&#45;&gt;140666423677088 -->\n",
              "<g id=\"edge11\" class=\"edge\">\n",
              "<title>140666423680976&#45;&gt;140666423677088</title>\n",
              "<path fill=\"none\" stroke=\"black\" d=\"M58.5,-81.84C58.5,-76.34 58.5,-69.65 58.5,-64.14\"/>\n",
              "</g>\n",
              "<!-- 140666422939808 -->\n",
              "<g id=\"node10\" class=\"node\">\n",
              "<title>140666422939808</title>\n",
              "<path fill=\"none\" stroke=\"black\" stroke-width=\"0.25\" d=\"M109.33,-64C109.33,-64 91.67,-64 91.67,-64 87.83,-64 84,-60.17 84,-56.33 84,-56.33 84,-48.67 84,-48.67 84,-44.83 87.83,-41 91.67,-41 91.67,-41 109.33,-41 109.33,-41 113.17,-41 117,-44.83 117,-48.67 117,-48.67 117,-56.33 117,-56.33 117,-60.17 113.17,-64 109.33,-64\"/>\n",
              "<text text-anchor=\"middle\" x=\"100.5\" y=\"-48.8\" font-family=\"Times,serif\" font-size=\"14.00\">expr</text>\n",
              "</g>\n",
              "<!-- 140666423680976&#45;&gt;140666422939808 -->\n",
              "<g id=\"edge12\" class=\"edge\">\n",
              "<title>140666423680976&#45;&gt;140666422939808</title>\n",
              "<path fill=\"none\" stroke=\"black\" d=\"M69.98,-81.84C75.9,-76.34 83.11,-69.65 89.04,-64.14\"/>\n",
              "</g>\n",
              "<!-- 140666422939712&#45;&gt;140666422940144 -->\n",
              "<!-- 140666422940096 -->\n",
              "<g id=\"node13\" class=\"node\">\n",
              "<title>140666422940096</title>\n",
              "<path fill=\"none\" stroke=\"black\" stroke-width=\"0.25\" d=\"M147,-64C147,-64 142,-64 142,-64 139.5,-64 137,-61.5 137,-59 137,-59 137,-46 137,-46 137,-43.5 139.5,-41 142,-41 142,-41 147,-41 147,-41 149.5,-41 152,-43.5 152,-46 152,-46 152,-59 152,-59 152,-61.5 149.5,-64 147,-64\"/>\n",
              "<text text-anchor=\"middle\" x=\"144.5\" y=\"-48.8\" font-family=\"Times,serif\" font-size=\"14.00\">5</text>\n",
              "</g>\n",
              "<!-- 140666422940144&#45;&gt;140666422940096 -->\n",
              "<g id=\"edge17\" class=\"edge\">\n",
              "<title>140666422940144&#45;&gt;140666422940096</title>\n",
              "<path fill=\"none\" stroke=\"black\" d=\"M144.5,-81.84C144.5,-76.34 144.5,-69.65 144.5,-64.14\"/>\n",
              "</g>\n",
              "<!-- 140666423680112&#45;&gt;140666423677088 -->\n",
              "<!-- 140666423680736 -->\n",
              "<g id=\"node11\" class=\"node\">\n",
              "<title>140666423680736</title>\n",
              "<path fill=\"none\" stroke=\"black\" stroke-width=\"0.25\" d=\"M19,-23C19,-23 14,-23 14,-23 11.5,-23 9,-20.5 9,-18 9,-18 9,-5 9,-5 9,-2.5 11.5,0 14,0 14,0 19,0 19,0 21.5,0 24,-2.5 24,-5 24,-5 24,-18 24,-18 24,-20.5 21.5,-23 19,-23\"/>\n",
              "<text text-anchor=\"middle\" x=\"16.5\" y=\"-7.8\" font-family=\"Times,serif\" font-size=\"14.00\">3</text>\n",
              "</g>\n",
              "<!-- 140666423680112&#45;&gt;140666423680736 -->\n",
              "<g id=\"edge15\" class=\"edge\">\n",
              "<title>140666423680112&#45;&gt;140666423680736</title>\n",
              "<path fill=\"none\" stroke=\"black\" d=\"M16.5,-40.84C16.5,-35.34 16.5,-28.65 16.5,-23.14\"/>\n",
              "</g>\n",
              "<!-- 140666423677088&#45;&gt;140666422939808 -->\n",
              "<!-- 140666422939760 -->\n",
              "<g id=\"node12\" class=\"node\">\n",
              "<title>140666422939760</title>\n",
              "<path fill=\"none\" stroke=\"black\" stroke-width=\"0.25\" d=\"M103,-23C103,-23 98,-23 98,-23 95.5,-23 93,-20.5 93,-18 93,-18 93,-5 93,-5 93,-2.5 95.5,0 98,0 98,0 103,0 103,0 105.5,0 108,-2.5 108,-5 108,-5 108,-18 108,-18 108,-20.5 105.5,-23 103,-23\"/>\n",
              "<text text-anchor=\"middle\" x=\"100.5\" y=\"-7.8\" font-family=\"Times,serif\" font-size=\"14.00\">4</text>\n",
              "</g>\n",
              "<!-- 140666422939808&#45;&gt;140666422939760 -->\n",
              "<g id=\"edge16\" class=\"edge\">\n",
              "<title>140666422939808&#45;&gt;140666422939760</title>\n",
              "<path fill=\"none\" stroke=\"black\" d=\"M100.5,-40.84C100.5,-35.34 100.5,-28.65 100.5,-23.14\"/>\n",
              "</g>\n",
              "</g>\n",
              "</svg>\n"
            ],
            "text/plain": [
              "(prog: (stat: (expr: (expr: (expr: (3)), (*), (expr: (4))), (+), (expr: (5))), (\\\\n)))"
            ]
          },
          "execution_count": 26,
          "metadata": {},
          "output_type": "execute_result"
        }
      ],
      "source": [
        "# semplice\n",
        "\n",
        "LabeledExpr.tree(text, 'prog', simple = True)"
      ]
    },
    {
      "cell_type": "markdown",
      "metadata": {},
      "source": [
        "Si può ottenere un albero annotato, ossia un `Tree` i cui nodi siano `dict`. \n",
        "\n",
        "In tal caso ogni nodo contiene la chiave `type` che può valere `rule` o `token`, a seconda che il nodo corrisponda ad una regola della grammatica (context-free) o del tokenizer. \n",
        "\n",
        "Nel caso delle regole, sono presenti le chiavi `rule` (che ha per valore il nonterminale a sinistra nella regola) e `name` corrispondente dall'alternativa specifica della regola (se annotata nella grammatica). La chiave `src` contiene gli indici del primo ed ultimo token nel sorgente derivati dalla regola\n",
        "\n",
        "Nel caso dei token, la chiave `name`  ha per valore il nome del token (se presente nella grammatica), mentre `value` ha per valore la porzione della parola in ingresso corrispondente al token. La chiave `src` contiene l'indice del token nel sorgente."
      ]
    },
    {
      "cell_type": "code",
      "execution_count": null,
      "metadata": {},
      "outputs": [
        {
          "data": {
            "image/svg+xml": [
              "<?xml version=\"1.0\" encoding=\"UTF-8\" standalone=\"no\"?>\n",
              "<!DOCTYPE svg PUBLIC \"-//W3C//DTD SVG 1.1//EN\"\n",
              " \"http://www.w3.org/Graphics/SVG/1.1/DTD/svg11.dtd\">\n",
              "<!-- Generated by graphviz version 2.43.0 (0)\n",
              " -->\n",
              "<!-- Title: %3 Pages: 1 -->\n",
              "<svg width=\"363pt\" height=\"554pt\"\n",
              " viewBox=\"0.00 0.00 362.50 554.00\" xmlns=\"http://www.w3.org/2000/svg\" xmlns:xlink=\"http://www.w3.org/1999/xlink\">\n",
              "<g id=\"graph0\" class=\"graph\" transform=\"scale(1 1) rotate(0) translate(4 550)\">\n",
              "<title>%3</title>\n",
              "<polygon fill=\"white\" stroke=\"transparent\" points=\"-4,4 -4,-550 358.5,-550 358.5,4 -4,4\"/>\n",
              "<!-- 140666422971072 -->\n",
              "<g id=\"node1\" class=\"node\">\n",
              "<title>140666422971072</title>\n",
              "<polygon fill=\"none\" stroke=\"black\" points=\"223.5,-527 223.5,-546 255.5,-546 255.5,-527 223.5,-527\"/>\n",
              "<text text-anchor=\"start\" x=\"229\" y=\"-533.4\" font-family=\"Times,serif\" font-size=\"12.00\">type</text>\n",
              "<polygon fill=\"none\" stroke=\"black\" points=\"255.5,-527 255.5,-546 287.5,-546 287.5,-527 255.5,-527\"/>\n",
              "<text text-anchor=\"start\" x=\"262\" y=\"-533.4\" font-family=\"Times,serif\" font-size=\"12.00\">rule</text>\n",
              "<polygon fill=\"none\" stroke=\"black\" points=\"223.5,-508 223.5,-527 255.5,-527 255.5,-508 223.5,-508\"/>\n",
              "<text text-anchor=\"start\" x=\"226.5\" y=\"-514.4\" font-family=\"Times,serif\" font-size=\"12.00\">name</text>\n",
              "<polygon fill=\"none\" stroke=\"black\" points=\"255.5,-508 255.5,-527 287.5,-527 287.5,-508 255.5,-508\"/>\n",
              "<text text-anchor=\"start\" x=\"260.5\" y=\"-514.4\" font-family=\"Times,serif\" font-size=\"12.00\">prog</text>\n",
              "<polygon fill=\"none\" stroke=\"black\" points=\"223.5,-489 223.5,-508 255.5,-508 255.5,-489 223.5,-489\"/>\n",
              "<text text-anchor=\"start\" x=\"230\" y=\"-495.4\" font-family=\"Times,serif\" font-size=\"12.00\">rule</text>\n",
              "<polygon fill=\"none\" stroke=\"black\" points=\"255.5,-489 255.5,-508 287.5,-508 287.5,-489 255.5,-489\"/>\n",
              "<text text-anchor=\"start\" x=\"260.5\" y=\"-495.4\" font-family=\"Times,serif\" font-size=\"12.00\">prog</text>\n",
              "<polygon fill=\"none\" stroke=\"black\" points=\"223.5,-470 223.5,-489 255.5,-489 255.5,-470 223.5,-470\"/>\n",
              "<text text-anchor=\"start\" x=\"232.5\" y=\"-476.4\" font-family=\"Times,serif\" font-size=\"12.00\">src</text>\n",
              "<polygon fill=\"none\" stroke=\"black\" points=\"255.5,-470 255.5,-489 287.5,-489 287.5,-470 255.5,-470\"/>\n",
              "<text text-anchor=\"start\" x=\"258.5\" y=\"-476.4\" font-family=\"Times,serif\" font-size=\"12.00\">(0, 5)</text>\n",
              "</g>\n",
              "<!-- 140666422971168 -->\n",
              "<g id=\"node2\" class=\"node\">\n",
              "<title>140666422971168</title>\n",
              "<polygon fill=\"none\" stroke=\"black\" points=\"213.5,-433 213.5,-452 245.5,-452 245.5,-433 213.5,-433\"/>\n",
              "<text text-anchor=\"start\" x=\"219\" y=\"-439.4\" font-family=\"Times,serif\" font-size=\"12.00\">type</text>\n",
              "<polygon fill=\"none\" stroke=\"black\" points=\"245.5,-433 245.5,-452 297.5,-452 297.5,-433 245.5,-433\"/>\n",
              "<text text-anchor=\"start\" x=\"262\" y=\"-439.4\" font-family=\"Times,serif\" font-size=\"12.00\">rule</text>\n",
              "<polygon fill=\"none\" stroke=\"black\" points=\"213.5,-414 213.5,-433 245.5,-433 245.5,-414 213.5,-414\"/>\n",
              "<text text-anchor=\"start\" x=\"216.5\" y=\"-420.4\" font-family=\"Times,serif\" font-size=\"12.00\">name</text>\n",
              "<polygon fill=\"none\" stroke=\"black\" points=\"245.5,-414 245.5,-433 297.5,-433 297.5,-414 245.5,-414\"/>\n",
              "<text text-anchor=\"start\" x=\"248.5\" y=\"-420.4\" font-family=\"Times,serif\" font-size=\"12.00\">printExpr</text>\n",
              "<polygon fill=\"none\" stroke=\"black\" points=\"213.5,-395 213.5,-414 245.5,-414 245.5,-395 213.5,-395\"/>\n",
              "<text text-anchor=\"start\" x=\"220\" y=\"-401.4\" font-family=\"Times,serif\" font-size=\"12.00\">rule</text>\n",
              "<polygon fill=\"none\" stroke=\"black\" points=\"245.5,-395 245.5,-414 297.5,-414 297.5,-395 245.5,-395\"/>\n",
              "<text text-anchor=\"start\" x=\"263.5\" y=\"-401.4\" font-family=\"Times,serif\" font-size=\"12.00\">stat</text>\n",
              "<polygon fill=\"none\" stroke=\"black\" points=\"213.5,-376 213.5,-395 245.5,-395 245.5,-376 213.5,-376\"/>\n",
              "<text text-anchor=\"start\" x=\"222.5\" y=\"-382.4\" font-family=\"Times,serif\" font-size=\"12.00\">src</text>\n",
              "<polygon fill=\"none\" stroke=\"black\" points=\"245.5,-376 245.5,-395 297.5,-395 297.5,-376 245.5,-376\"/>\n",
              "<text text-anchor=\"start\" x=\"258.5\" y=\"-382.4\" font-family=\"Times,serif\" font-size=\"12.00\">(0, 5)</text>\n",
              "</g>\n",
              "<!-- 140666422971072&#45;&gt;140666422971168 -->\n",
              "<g id=\"edge1\" class=\"edge\">\n",
              "<title>140666422971072&#45;&gt;140666422971168</title>\n",
              "<path fill=\"none\" stroke=\"black\" d=\"M255.5,-469.85C255.5,-464.06 255.5,-458.08 255.5,-452.29\"/>\n",
              "</g>\n",
              "<!-- 140666422971120 -->\n",
              "<g id=\"node3\" class=\"node\">\n",
              "<title>140666422971120</title>\n",
              "<polygon fill=\"none\" stroke=\"black\" points=\"167.5,-339 167.5,-358 199.5,-358 199.5,-339 167.5,-339\"/>\n",
              "<text text-anchor=\"start\" x=\"173\" y=\"-345.4\" font-family=\"Times,serif\" font-size=\"12.00\">type</text>\n",
              "<polygon fill=\"none\" stroke=\"black\" points=\"199.5,-339 199.5,-358 242.5,-358 242.5,-339 199.5,-339\"/>\n",
              "<text text-anchor=\"start\" x=\"211.5\" y=\"-345.4\" font-family=\"Times,serif\" font-size=\"12.00\">rule</text>\n",
              "<polygon fill=\"none\" stroke=\"black\" points=\"167.5,-320 167.5,-339 199.5,-339 199.5,-320 167.5,-320\"/>\n",
              "<text text-anchor=\"start\" x=\"170.5\" y=\"-326.4\" font-family=\"Times,serif\" font-size=\"12.00\">name</text>\n",
              "<polygon fill=\"none\" stroke=\"black\" points=\"199.5,-320 199.5,-339 242.5,-339 242.5,-320 199.5,-320\"/>\n",
              "<text text-anchor=\"start\" x=\"202.5\" y=\"-326.4\" font-family=\"Times,serif\" font-size=\"12.00\">addSub</text>\n",
              "<polygon fill=\"none\" stroke=\"black\" points=\"167.5,-301 167.5,-320 199.5,-320 199.5,-301 167.5,-301\"/>\n",
              "<text text-anchor=\"start\" x=\"174\" y=\"-307.4\" font-family=\"Times,serif\" font-size=\"12.00\">rule</text>\n",
              "<polygon fill=\"none\" stroke=\"black\" points=\"199.5,-301 199.5,-320 242.5,-320 242.5,-301 199.5,-301\"/>\n",
              "<text text-anchor=\"start\" x=\"210\" y=\"-307.4\" font-family=\"Times,serif\" font-size=\"12.00\">expr</text>\n",
              "<polygon fill=\"none\" stroke=\"black\" points=\"167.5,-282 167.5,-301 199.5,-301 199.5,-282 167.5,-282\"/>\n",
              "<text text-anchor=\"start\" x=\"176.5\" y=\"-288.4\" font-family=\"Times,serif\" font-size=\"12.00\">src</text>\n",
              "<polygon fill=\"none\" stroke=\"black\" points=\"199.5,-282 199.5,-301 242.5,-301 242.5,-282 199.5,-282\"/>\n",
              "<text text-anchor=\"start\" x=\"208\" y=\"-288.4\" font-family=\"Times,serif\" font-size=\"12.00\">(0, 4)</text>\n",
              "</g>\n",
              "<!-- 140666422971168&#45;&gt;140666422971120 -->\n",
              "<g id=\"edge2\" class=\"edge\">\n",
              "<title>140666422971168&#45;&gt;140666422971120</title>\n",
              "<path fill=\"none\" stroke=\"black\" d=\"M234.9,-375.85C231.7,-370.06 228.38,-364.08 225.17,-358.29\"/>\n",
              "</g>\n",
              "<!-- 140666422971888 -->\n",
              "<g id=\"node4\" class=\"node\">\n",
              "<title>140666422971888</title>\n",
              "<polygon fill=\"none\" stroke=\"black\" points=\"260.5,-339 260.5,-358 292.5,-358 292.5,-339 260.5,-339\"/>\n",
              "<text text-anchor=\"start\" x=\"266\" y=\"-345.4\" font-family=\"Times,serif\" font-size=\"12.00\">type</text>\n",
              "<polygon fill=\"none\" stroke=\"black\" points=\"292.5,-339 292.5,-358 354.5,-358 354.5,-339 292.5,-339\"/>\n",
              "<text text-anchor=\"start\" x=\"310\" y=\"-345.4\" font-family=\"Times,serif\" font-size=\"12.00\">token</text>\n",
              "<polygon fill=\"none\" stroke=\"black\" points=\"260.5,-320 260.5,-339 292.5,-339 292.5,-320 260.5,-320\"/>\n",
              "<text text-anchor=\"start\" x=\"263.5\" y=\"-326.4\" font-family=\"Times,serif\" font-size=\"12.00\">name</text>\n",
              "<polygon fill=\"none\" stroke=\"black\" points=\"292.5,-320 292.5,-339 354.5,-339 354.5,-320 292.5,-320\"/>\n",
              "<text text-anchor=\"start\" x=\"295.5\" y=\"-326.4\" font-family=\"Times,serif\" font-size=\"12.00\">NEWLINE</text>\n",
              "<polygon fill=\"none\" stroke=\"black\" points=\"260.5,-301 260.5,-320 292.5,-320 292.5,-301 260.5,-301\"/>\n",
              "<text text-anchor=\"start\" x=\"263.5\" y=\"-307.4\" font-family=\"Times,serif\" font-size=\"12.00\">value</text>\n",
              "<polygon fill=\"none\" stroke=\"black\" points=\"292.5,-301 292.5,-320 354.5,-320 354.5,-301 292.5,-301\"/>\n",
              "<text text-anchor=\"start\" x=\"318.5\" y=\"-307.4\" font-family=\"Times,serif\" font-size=\"12.00\">\\n</text>\n",
              "<polygon fill=\"none\" stroke=\"black\" points=\"260.5,-282 260.5,-301 292.5,-301 292.5,-282 260.5,-282\"/>\n",
              "<text text-anchor=\"start\" x=\"269.5\" y=\"-288.4\" font-family=\"Times,serif\" font-size=\"12.00\">src</text>\n",
              "<polygon fill=\"none\" stroke=\"black\" points=\"292.5,-282 292.5,-301 354.5,-301 354.5,-282 292.5,-282\"/>\n",
              "<text text-anchor=\"start\" x=\"320\" y=\"-288.4\" font-family=\"Times,serif\" font-size=\"12.00\">5</text>\n",
              "</g>\n",
              "<!-- 140666422971168&#45;&gt;140666422971888 -->\n",
              "<g id=\"edge3\" class=\"edge\">\n",
              "<title>140666422971168&#45;&gt;140666422971888</title>\n",
              "<path fill=\"none\" stroke=\"black\" d=\"M276.5,-375.85C279.77,-370.06 283.15,-364.08 286.42,-358.29\"/>\n",
              "</g>\n",
              "<!-- 140666422971120&#45;&gt;140666422971888 -->\n",
              "<!-- 140666422971024 -->\n",
              "<g id=\"node5\" class=\"node\">\n",
              "<title>140666422971024</title>\n",
              "<polygon fill=\"none\" stroke=\"black\" points=\"78.5,-245 78.5,-264 110.5,-264 110.5,-245 78.5,-245\"/>\n",
              "<text text-anchor=\"start\" x=\"84\" y=\"-251.4\" font-family=\"Times,serif\" font-size=\"12.00\">type</text>\n",
              "<polygon fill=\"none\" stroke=\"black\" points=\"110.5,-245 110.5,-264 153.5,-264 153.5,-245 110.5,-245\"/>\n",
              "<text text-anchor=\"start\" x=\"122.5\" y=\"-251.4\" font-family=\"Times,serif\" font-size=\"12.00\">rule</text>\n",
              "<polygon fill=\"none\" stroke=\"black\" points=\"78.5,-226 78.5,-245 110.5,-245 110.5,-226 78.5,-226\"/>\n",
              "<text text-anchor=\"start\" x=\"81.5\" y=\"-232.4\" font-family=\"Times,serif\" font-size=\"12.00\">name</text>\n",
              "<polygon fill=\"none\" stroke=\"black\" points=\"110.5,-226 110.5,-245 153.5,-245 153.5,-226 110.5,-226\"/>\n",
              "<text text-anchor=\"start\" x=\"113.5\" y=\"-232.4\" font-family=\"Times,serif\" font-size=\"12.00\">mulDiv</text>\n",
              "<polygon fill=\"none\" stroke=\"black\" points=\"78.5,-207 78.5,-226 110.5,-226 110.5,-207 78.5,-207\"/>\n",
              "<text text-anchor=\"start\" x=\"85\" y=\"-213.4\" font-family=\"Times,serif\" font-size=\"12.00\">rule</text>\n",
              "<polygon fill=\"none\" stroke=\"black\" points=\"110.5,-207 110.5,-226 153.5,-226 153.5,-207 110.5,-207\"/>\n",
              "<text text-anchor=\"start\" x=\"121\" y=\"-213.4\" font-family=\"Times,serif\" font-size=\"12.00\">expr</text>\n",
              "<polygon fill=\"none\" stroke=\"black\" points=\"78.5,-188 78.5,-207 110.5,-207 110.5,-188 78.5,-188\"/>\n",
              "<text text-anchor=\"start\" x=\"87.5\" y=\"-194.4\" font-family=\"Times,serif\" font-size=\"12.00\">src</text>\n",
              "<polygon fill=\"none\" stroke=\"black\" points=\"110.5,-188 110.5,-207 153.5,-207 153.5,-188 110.5,-188\"/>\n",
              "<text text-anchor=\"start\" x=\"119\" y=\"-194.4\" font-family=\"Times,serif\" font-size=\"12.00\">(0, 2)</text>\n",
              "</g>\n",
              "<!-- 140666422971120&#45;&gt;140666422971024 -->\n",
              "<g id=\"edge5\" class=\"edge\">\n",
              "<title>140666422971120&#45;&gt;140666422971024</title>\n",
              "<path fill=\"none\" stroke=\"black\" d=\"M168.56,-281.85C162.96,-276.06 157.18,-270.08 151.58,-264.29\"/>\n",
              "</g>\n",
              "<!-- 140666422971744 -->\n",
              "<g id=\"node6\" class=\"node\">\n",
              "<title>140666422971744</title>\n",
              "<polygon fill=\"none\" stroke=\"black\" points=\"171.5,-245 171.5,-264 203.5,-264 203.5,-245 171.5,-245\"/>\n",
              "<text text-anchor=\"start\" x=\"177\" y=\"-251.4\" font-family=\"Times,serif\" font-size=\"12.00\">type</text>\n",
              "<polygon fill=\"none\" stroke=\"black\" points=\"203.5,-245 203.5,-264 237.5,-264 237.5,-245 203.5,-245\"/>\n",
              "<text text-anchor=\"start\" x=\"207\" y=\"-251.4\" font-family=\"Times,serif\" font-size=\"12.00\">token</text>\n",
              "<polygon fill=\"none\" stroke=\"black\" points=\"171.5,-226 171.5,-245 203.5,-245 203.5,-226 171.5,-226\"/>\n",
              "<text text-anchor=\"start\" x=\"174.5\" y=\"-232.4\" font-family=\"Times,serif\" font-size=\"12.00\">name</text>\n",
              "<polygon fill=\"none\" stroke=\"black\" points=\"203.5,-226 203.5,-245 237.5,-245 237.5,-226 203.5,-226\"/>\n",
              "<text text-anchor=\"start\" x=\"206.5\" y=\"-232.4\" font-family=\"Times,serif\" font-size=\"12.00\">ADD</text>\n",
              "<polygon fill=\"none\" stroke=\"black\" points=\"171.5,-207 171.5,-226 203.5,-226 203.5,-207 171.5,-207\"/>\n",
              "<text text-anchor=\"start\" x=\"174.5\" y=\"-213.4\" font-family=\"Times,serif\" font-size=\"12.00\">value</text>\n",
              "<polygon fill=\"none\" stroke=\"black\" points=\"203.5,-207 203.5,-226 237.5,-226 237.5,-207 203.5,-207\"/>\n",
              "<text text-anchor=\"start\" x=\"217\" y=\"-213.4\" font-family=\"Times,serif\" font-size=\"12.00\">+</text>\n",
              "<polygon fill=\"none\" stroke=\"black\" points=\"171.5,-188 171.5,-207 203.5,-207 203.5,-188 171.5,-188\"/>\n",
              "<text text-anchor=\"start\" x=\"180.5\" y=\"-194.4\" font-family=\"Times,serif\" font-size=\"12.00\">src</text>\n",
              "<polygon fill=\"none\" stroke=\"black\" points=\"203.5,-188 203.5,-207 237.5,-207 237.5,-188 203.5,-188\"/>\n",
              "<text text-anchor=\"start\" x=\"217\" y=\"-194.4\" font-family=\"Times,serif\" font-size=\"12.00\">3</text>\n",
              "</g>\n",
              "<!-- 140666422971120&#45;&gt;140666422971744 -->\n",
              "<g id=\"edge6\" class=\"edge\">\n",
              "<title>140666422971120&#45;&gt;140666422971744</title>\n",
              "<path fill=\"none\" stroke=\"black\" d=\"M204.5,-281.85C204.5,-276.06 204.5,-270.08 204.5,-264.29\"/>\n",
              "</g>\n",
              "<!-- 140666422971984 -->\n",
              "<g id=\"node7\" class=\"node\">\n",
              "<title>140666422971984</title>\n",
              "<polygon fill=\"none\" stroke=\"black\" points=\"255.5,-245 255.5,-264 287.5,-264 287.5,-245 255.5,-245\"/>\n",
              "<text text-anchor=\"start\" x=\"261\" y=\"-251.4\" font-family=\"Times,serif\" font-size=\"12.00\">type</text>\n",
              "<polygon fill=\"none\" stroke=\"black\" points=\"287.5,-245 287.5,-264 319.5,-264 319.5,-245 287.5,-245\"/>\n",
              "<text text-anchor=\"start\" x=\"294\" y=\"-251.4\" font-family=\"Times,serif\" font-size=\"12.00\">rule</text>\n",
              "<polygon fill=\"none\" stroke=\"black\" points=\"255.5,-226 255.5,-245 287.5,-245 287.5,-226 255.5,-226\"/>\n",
              "<text text-anchor=\"start\" x=\"258.5\" y=\"-232.4\" font-family=\"Times,serif\" font-size=\"12.00\">name</text>\n",
              "<polygon fill=\"none\" stroke=\"black\" points=\"287.5,-226 287.5,-245 319.5,-245 319.5,-226 287.5,-226\"/>\n",
              "<text text-anchor=\"start\" x=\"297\" y=\"-232.4\" font-family=\"Times,serif\" font-size=\"12.00\">int</text>\n",
              "<polygon fill=\"none\" stroke=\"black\" points=\"255.5,-207 255.5,-226 287.5,-226 287.5,-207 255.5,-207\"/>\n",
              "<text text-anchor=\"start\" x=\"262\" y=\"-213.4\" font-family=\"Times,serif\" font-size=\"12.00\">rule</text>\n",
              "<polygon fill=\"none\" stroke=\"black\" points=\"287.5,-207 287.5,-226 319.5,-226 319.5,-207 287.5,-207\"/>\n",
              "<text text-anchor=\"start\" x=\"292.5\" y=\"-213.4\" font-family=\"Times,serif\" font-size=\"12.00\">expr</text>\n",
              "<polygon fill=\"none\" stroke=\"black\" points=\"255.5,-188 255.5,-207 287.5,-207 287.5,-188 255.5,-188\"/>\n",
              "<text text-anchor=\"start\" x=\"264.5\" y=\"-194.4\" font-family=\"Times,serif\" font-size=\"12.00\">src</text>\n",
              "<polygon fill=\"none\" stroke=\"black\" points=\"287.5,-188 287.5,-207 319.5,-207 319.5,-188 287.5,-188\"/>\n",
              "<text text-anchor=\"start\" x=\"290.5\" y=\"-194.4\" font-family=\"Times,serif\" font-size=\"12.00\">(4, 4)</text>\n",
              "</g>\n",
              "<!-- 140666422971120&#45;&gt;140666422971984 -->\n",
              "<g id=\"edge7\" class=\"edge\">\n",
              "<title>140666422971120&#45;&gt;140666422971984</title>\n",
              "<path fill=\"none\" stroke=\"black\" d=\"M238.02,-281.85C243.78,-275.46 249.75,-268.84 255.47,-262.5\"/>\n",
              "</g>\n",
              "<!-- 140666422971024&#45;&gt;140666422971744 -->\n",
              "<!-- 140666422970928 -->\n",
              "<g id=\"node8\" class=\"node\">\n",
              "<title>140666422970928</title>\n",
              "<polygon fill=\"none\" stroke=\"black\" points=\"0.5,-151 0.5,-170 32.5,-170 32.5,-151 0.5,-151\"/>\n",
              "<text text-anchor=\"start\" x=\"6\" y=\"-157.4\" font-family=\"Times,serif\" font-size=\"12.00\">type</text>\n",
              "<polygon fill=\"none\" stroke=\"black\" points=\"32.5,-151 32.5,-170 64.5,-170 64.5,-151 32.5,-151\"/>\n",
              "<text text-anchor=\"start\" x=\"39\" y=\"-157.4\" font-family=\"Times,serif\" font-size=\"12.00\">rule</text>\n",
              "<polygon fill=\"none\" stroke=\"black\" points=\"0.5,-132 0.5,-151 32.5,-151 32.5,-132 0.5,-132\"/>\n",
              "<text text-anchor=\"start\" x=\"3.5\" y=\"-138.4\" font-family=\"Times,serif\" font-size=\"12.00\">name</text>\n",
              "<polygon fill=\"none\" stroke=\"black\" points=\"32.5,-132 32.5,-151 64.5,-151 64.5,-132 32.5,-132\"/>\n",
              "<text text-anchor=\"start\" x=\"42\" y=\"-138.4\" font-family=\"Times,serif\" font-size=\"12.00\">int</text>\n",
              "<polygon fill=\"none\" stroke=\"black\" points=\"0.5,-113 0.5,-132 32.5,-132 32.5,-113 0.5,-113\"/>\n",
              "<text text-anchor=\"start\" x=\"7\" y=\"-119.4\" font-family=\"Times,serif\" font-size=\"12.00\">rule</text>\n",
              "<polygon fill=\"none\" stroke=\"black\" points=\"32.5,-113 32.5,-132 64.5,-132 64.5,-113 32.5,-113\"/>\n",
              "<text text-anchor=\"start\" x=\"37.5\" y=\"-119.4\" font-family=\"Times,serif\" font-size=\"12.00\">expr</text>\n",
              "<polygon fill=\"none\" stroke=\"black\" points=\"0.5,-94 0.5,-113 32.5,-113 32.5,-94 0.5,-94\"/>\n",
              "<text text-anchor=\"start\" x=\"9.5\" y=\"-100.4\" font-family=\"Times,serif\" font-size=\"12.00\">src</text>\n",
              "<polygon fill=\"none\" stroke=\"black\" points=\"32.5,-94 32.5,-113 64.5,-113 64.5,-94 32.5,-94\"/>\n",
              "<text text-anchor=\"start\" x=\"35.5\" y=\"-100.4\" font-family=\"Times,serif\" font-size=\"12.00\">(0, 0)</text>\n",
              "</g>\n",
              "<!-- 140666422971024&#45;&gt;140666422970928 -->\n",
              "<g id=\"edge10\" class=\"edge\">\n",
              "<title>140666422971024&#45;&gt;140666422970928</title>\n",
              "<path fill=\"none\" stroke=\"black\" d=\"M81.98,-187.85C76.22,-181.46 70.25,-174.84 64.53,-168.5\"/>\n",
              "</g>\n",
              "<!-- 140666422971600 -->\n",
              "<g id=\"node9\" class=\"node\">\n",
              "<title>140666422971600</title>\n",
              "<polygon fill=\"none\" stroke=\"black\" points=\"82.5,-151 82.5,-170 114.5,-170 114.5,-151 82.5,-151\"/>\n",
              "<text text-anchor=\"start\" x=\"88\" y=\"-157.4\" font-family=\"Times,serif\" font-size=\"12.00\">type</text>\n",
              "<polygon fill=\"none\" stroke=\"black\" points=\"114.5,-151 114.5,-170 148.5,-170 148.5,-151 114.5,-151\"/>\n",
              "<text text-anchor=\"start\" x=\"118\" y=\"-157.4\" font-family=\"Times,serif\" font-size=\"12.00\">token</text>\n",
              "<polygon fill=\"none\" stroke=\"black\" points=\"82.5,-132 82.5,-151 114.5,-151 114.5,-132 82.5,-132\"/>\n",
              "<text text-anchor=\"start\" x=\"85.5\" y=\"-138.4\" font-family=\"Times,serif\" font-size=\"12.00\">name</text>\n",
              "<polygon fill=\"none\" stroke=\"black\" points=\"114.5,-132 114.5,-151 148.5,-151 148.5,-132 114.5,-132\"/>\n",
              "<text text-anchor=\"start\" x=\"117.5\" y=\"-138.4\" font-family=\"Times,serif\" font-size=\"12.00\">MUL</text>\n",
              "<polygon fill=\"none\" stroke=\"black\" points=\"82.5,-113 82.5,-132 114.5,-132 114.5,-113 82.5,-113\"/>\n",
              "<text text-anchor=\"start\" x=\"85.5\" y=\"-119.4\" font-family=\"Times,serif\" font-size=\"12.00\">value</text>\n",
              "<polygon fill=\"none\" stroke=\"black\" points=\"114.5,-113 114.5,-132 148.5,-132 148.5,-113 114.5,-113\"/>\n",
              "<text text-anchor=\"start\" x=\"128\" y=\"-119.4\" font-family=\"Times,serif\" font-size=\"12.00\">*</text>\n",
              "<polygon fill=\"none\" stroke=\"black\" points=\"82.5,-94 82.5,-113 114.5,-113 114.5,-94 82.5,-94\"/>\n",
              "<text text-anchor=\"start\" x=\"91.5\" y=\"-100.4\" font-family=\"Times,serif\" font-size=\"12.00\">src</text>\n",
              "<polygon fill=\"none\" stroke=\"black\" points=\"114.5,-94 114.5,-113 148.5,-113 148.5,-94 114.5,-94\"/>\n",
              "<text text-anchor=\"start\" x=\"128\" y=\"-100.4\" font-family=\"Times,serif\" font-size=\"12.00\">1</text>\n",
              "</g>\n",
              "<!-- 140666422971024&#45;&gt;140666422971600 -->\n",
              "<g id=\"edge11\" class=\"edge\">\n",
              "<title>140666422971024&#45;&gt;140666422971600</title>\n",
              "<path fill=\"none\" stroke=\"black\" d=\"M115.5,-187.85C115.5,-182.06 115.5,-176.08 115.5,-170.29\"/>\n",
              "</g>\n",
              "<!-- 140666422970736 -->\n",
              "<g id=\"node10\" class=\"node\">\n",
              "<title>140666422970736</title>\n",
              "<polygon fill=\"none\" stroke=\"black\" points=\"166.5,-151 166.5,-170 198.5,-170 198.5,-151 166.5,-151\"/>\n",
              "<text text-anchor=\"start\" x=\"172\" y=\"-157.4\" font-family=\"Times,serif\" font-size=\"12.00\">type</text>\n",
              "<polygon fill=\"none\" stroke=\"black\" points=\"198.5,-151 198.5,-170 230.5,-170 230.5,-151 198.5,-151\"/>\n",
              "<text text-anchor=\"start\" x=\"205\" y=\"-157.4\" font-family=\"Times,serif\" font-size=\"12.00\">rule</text>\n",
              "<polygon fill=\"none\" stroke=\"black\" points=\"166.5,-132 166.5,-151 198.5,-151 198.5,-132 166.5,-132\"/>\n",
              "<text text-anchor=\"start\" x=\"169.5\" y=\"-138.4\" font-family=\"Times,serif\" font-size=\"12.00\">name</text>\n",
              "<polygon fill=\"none\" stroke=\"black\" points=\"198.5,-132 198.5,-151 230.5,-151 230.5,-132 198.5,-132\"/>\n",
              "<text text-anchor=\"start\" x=\"208\" y=\"-138.4\" font-family=\"Times,serif\" font-size=\"12.00\">int</text>\n",
              "<polygon fill=\"none\" stroke=\"black\" points=\"166.5,-113 166.5,-132 198.5,-132 198.5,-113 166.5,-113\"/>\n",
              "<text text-anchor=\"start\" x=\"173\" y=\"-119.4\" font-family=\"Times,serif\" font-size=\"12.00\">rule</text>\n",
              "<polygon fill=\"none\" stroke=\"black\" points=\"198.5,-113 198.5,-132 230.5,-132 230.5,-113 198.5,-113\"/>\n",
              "<text text-anchor=\"start\" x=\"203.5\" y=\"-119.4\" font-family=\"Times,serif\" font-size=\"12.00\">expr</text>\n",
              "<polygon fill=\"none\" stroke=\"black\" points=\"166.5,-94 166.5,-113 198.5,-113 198.5,-94 166.5,-94\"/>\n",
              "<text text-anchor=\"start\" x=\"175.5\" y=\"-100.4\" font-family=\"Times,serif\" font-size=\"12.00\">src</text>\n",
              "<polygon fill=\"none\" stroke=\"black\" points=\"198.5,-94 198.5,-113 230.5,-113 230.5,-94 198.5,-94\"/>\n",
              "<text text-anchor=\"start\" x=\"201.5\" y=\"-100.4\" font-family=\"Times,serif\" font-size=\"12.00\">(2, 2)</text>\n",
              "</g>\n",
              "<!-- 140666422971024&#45;&gt;140666422970736 -->\n",
              "<g id=\"edge12\" class=\"edge\">\n",
              "<title>140666422971024&#45;&gt;140666422970736</title>\n",
              "<path fill=\"none\" stroke=\"black\" d=\"M149.02,-187.85C154.78,-181.46 160.75,-174.84 166.47,-168.5\"/>\n",
              "</g>\n",
              "<!-- 140666422971744&#45;&gt;140666422971984 -->\n",
              "<!-- 140666422971936 -->\n",
              "<g id=\"node13\" class=\"node\">\n",
              "<title>140666422971936</title>\n",
              "<polygon fill=\"none\" stroke=\"black\" points=\"255.5,-151 255.5,-170 287.5,-170 287.5,-151 255.5,-151\"/>\n",
              "<text text-anchor=\"start\" x=\"261\" y=\"-157.4\" font-family=\"Times,serif\" font-size=\"12.00\">type</text>\n",
              "<polygon fill=\"none\" stroke=\"black\" points=\"287.5,-151 287.5,-170 320.5,-170 320.5,-151 287.5,-151\"/>\n",
              "<text text-anchor=\"start\" x=\"290.5\" y=\"-157.4\" font-family=\"Times,serif\" font-size=\"12.00\">token</text>\n",
              "<polygon fill=\"none\" stroke=\"black\" points=\"255.5,-132 255.5,-151 287.5,-151 287.5,-132 255.5,-132\"/>\n",
              "<text text-anchor=\"start\" x=\"258.5\" y=\"-138.4\" font-family=\"Times,serif\" font-size=\"12.00\">name</text>\n",
              "<polygon fill=\"none\" stroke=\"black\" points=\"287.5,-132 287.5,-151 320.5,-151 320.5,-132 287.5,-132\"/>\n",
              "<text text-anchor=\"start\" x=\"293.5\" y=\"-138.4\" font-family=\"Times,serif\" font-size=\"12.00\">INT</text>\n",
              "<polygon fill=\"none\" stroke=\"black\" points=\"255.5,-113 255.5,-132 287.5,-132 287.5,-113 255.5,-113\"/>\n",
              "<text text-anchor=\"start\" x=\"258.5\" y=\"-119.4\" font-family=\"Times,serif\" font-size=\"12.00\">value</text>\n",
              "<polygon fill=\"none\" stroke=\"black\" points=\"287.5,-113 287.5,-132 320.5,-132 320.5,-113 287.5,-113\"/>\n",
              "<text text-anchor=\"start\" x=\"300.5\" y=\"-119.4\" font-family=\"Times,serif\" font-size=\"12.00\">5</text>\n",
              "<polygon fill=\"none\" stroke=\"black\" points=\"255.5,-94 255.5,-113 287.5,-113 287.5,-94 255.5,-94\"/>\n",
              "<text text-anchor=\"start\" x=\"264.5\" y=\"-100.4\" font-family=\"Times,serif\" font-size=\"12.00\">src</text>\n",
              "<polygon fill=\"none\" stroke=\"black\" points=\"287.5,-94 287.5,-113 320.5,-113 320.5,-94 287.5,-94\"/>\n",
              "<text text-anchor=\"start\" x=\"300.5\" y=\"-100.4\" font-family=\"Times,serif\" font-size=\"12.00\">4</text>\n",
              "</g>\n",
              "<!-- 140666422971984&#45;&gt;140666422971936 -->\n",
              "<g id=\"edge17\" class=\"edge\">\n",
              "<title>140666422971984&#45;&gt;140666422971936</title>\n",
              "<path fill=\"none\" stroke=\"black\" d=\"M287.5,-187.85C287.5,-182.06 287.5,-176.08 287.5,-170.29\"/>\n",
              "</g>\n",
              "<!-- 140666422970928&#45;&gt;140666422971600 -->\n",
              "<!-- 140666422970688 -->\n",
              "<g id=\"node11\" class=\"node\">\n",
              "<title>140666422970688</title>\n",
              "<polygon fill=\"none\" stroke=\"black\" points=\"0.5,-57 0.5,-76 32.5,-76 32.5,-57 0.5,-57\"/>\n",
              "<text text-anchor=\"start\" x=\"6\" y=\"-63.4\" font-family=\"Times,serif\" font-size=\"12.00\">type</text>\n",
              "<polygon fill=\"none\" stroke=\"black\" points=\"32.5,-57 32.5,-76 65.5,-76 65.5,-57 32.5,-57\"/>\n",
              "<text text-anchor=\"start\" x=\"35.5\" y=\"-63.4\" font-family=\"Times,serif\" font-size=\"12.00\">token</text>\n",
              "<polygon fill=\"none\" stroke=\"black\" points=\"0.5,-38 0.5,-57 32.5,-57 32.5,-38 0.5,-38\"/>\n",
              "<text text-anchor=\"start\" x=\"3.5\" y=\"-44.4\" font-family=\"Times,serif\" font-size=\"12.00\">name</text>\n",
              "<polygon fill=\"none\" stroke=\"black\" points=\"32.5,-38 32.5,-57 65.5,-57 65.5,-38 32.5,-38\"/>\n",
              "<text text-anchor=\"start\" x=\"38.5\" y=\"-44.4\" font-family=\"Times,serif\" font-size=\"12.00\">INT</text>\n",
              "<polygon fill=\"none\" stroke=\"black\" points=\"0.5,-19 0.5,-38 32.5,-38 32.5,-19 0.5,-19\"/>\n",
              "<text text-anchor=\"start\" x=\"3.5\" y=\"-25.4\" font-family=\"Times,serif\" font-size=\"12.00\">value</text>\n",
              "<polygon fill=\"none\" stroke=\"black\" points=\"32.5,-19 32.5,-38 65.5,-38 65.5,-19 32.5,-19\"/>\n",
              "<text text-anchor=\"start\" x=\"45.5\" y=\"-25.4\" font-family=\"Times,serif\" font-size=\"12.00\">3</text>\n",
              "<polygon fill=\"none\" stroke=\"black\" points=\"0.5,0 0.5,-19 32.5,-19 32.5,0 0.5,0\"/>\n",
              "<text text-anchor=\"start\" x=\"9.5\" y=\"-6.4\" font-family=\"Times,serif\" font-size=\"12.00\">src</text>\n",
              "<polygon fill=\"none\" stroke=\"black\" points=\"32.5,0 32.5,-19 65.5,-19 65.5,0 32.5,0\"/>\n",
              "<text text-anchor=\"start\" x=\"45.5\" y=\"-6.4\" font-family=\"Times,serif\" font-size=\"12.00\">0</text>\n",
              "</g>\n",
              "<!-- 140666422970928&#45;&gt;140666422970688 -->\n",
              "<g id=\"edge15\" class=\"edge\">\n",
              "<title>140666422970928&#45;&gt;140666422970688</title>\n",
              "<path fill=\"none\" stroke=\"black\" d=\"M32.5,-93.85C32.5,-88.06 32.5,-82.08 32.5,-76.29\"/>\n",
              "</g>\n",
              "<!-- 140666422971600&#45;&gt;140666422970736 -->\n",
              "<!-- 140666422971792 -->\n",
              "<g id=\"node12\" class=\"node\">\n",
              "<title>140666422971792</title>\n",
              "<polygon fill=\"none\" stroke=\"black\" points=\"166.5,-57 166.5,-76 198.5,-76 198.5,-57 166.5,-57\"/>\n",
              "<text text-anchor=\"start\" x=\"172\" y=\"-63.4\" font-family=\"Times,serif\" font-size=\"12.00\">type</text>\n",
              "<polygon fill=\"none\" stroke=\"black\" points=\"198.5,-57 198.5,-76 231.5,-76 231.5,-57 198.5,-57\"/>\n",
              "<text text-anchor=\"start\" x=\"201.5\" y=\"-63.4\" font-family=\"Times,serif\" font-size=\"12.00\">token</text>\n",
              "<polygon fill=\"none\" stroke=\"black\" points=\"166.5,-38 166.5,-57 198.5,-57 198.5,-38 166.5,-38\"/>\n",
              "<text text-anchor=\"start\" x=\"169.5\" y=\"-44.4\" font-family=\"Times,serif\" font-size=\"12.00\">name</text>\n",
              "<polygon fill=\"none\" stroke=\"black\" points=\"198.5,-38 198.5,-57 231.5,-57 231.5,-38 198.5,-38\"/>\n",
              "<text text-anchor=\"start\" x=\"204.5\" y=\"-44.4\" font-family=\"Times,serif\" font-size=\"12.00\">INT</text>\n",
              "<polygon fill=\"none\" stroke=\"black\" points=\"166.5,-19 166.5,-38 198.5,-38 198.5,-19 166.5,-19\"/>\n",
              "<text text-anchor=\"start\" x=\"169.5\" y=\"-25.4\" font-family=\"Times,serif\" font-size=\"12.00\">value</text>\n",
              "<polygon fill=\"none\" stroke=\"black\" points=\"198.5,-19 198.5,-38 231.5,-38 231.5,-19 198.5,-19\"/>\n",
              "<text text-anchor=\"start\" x=\"211.5\" y=\"-25.4\" font-family=\"Times,serif\" font-size=\"12.00\">4</text>\n",
              "<polygon fill=\"none\" stroke=\"black\" points=\"166.5,0 166.5,-19 198.5,-19 198.5,0 166.5,0\"/>\n",
              "<text text-anchor=\"start\" x=\"175.5\" y=\"-6.4\" font-family=\"Times,serif\" font-size=\"12.00\">src</text>\n",
              "<polygon fill=\"none\" stroke=\"black\" points=\"198.5,0 198.5,-19 231.5,-19 231.5,0 198.5,0\"/>\n",
              "<text text-anchor=\"start\" x=\"211.5\" y=\"-6.4\" font-family=\"Times,serif\" font-size=\"12.00\">2</text>\n",
              "</g>\n",
              "<!-- 140666422970736&#45;&gt;140666422971792 -->\n",
              "<g id=\"edge16\" class=\"edge\">\n",
              "<title>140666422970736&#45;&gt;140666422971792</title>\n",
              "<path fill=\"none\" stroke=\"black\" d=\"M198.5,-93.85C198.5,-88.06 198.5,-82.08 198.5,-76.29\"/>\n",
              "</g>\n",
              "</g>\n",
              "</svg>\n"
            ],
            "text/plain": [
              "({'type': 'rule', 'name': 'prog', 'rule': 'prog', 'src': (0, 5)}: ({'type': 'rule', 'name': 'printExpr', 'rule': 'stat', 'src': (0, 5)}: ({'type': 'rule', 'name': 'addSub', 'rule': 'expr', 'src': (0, 4)}: ({'type': 'rule', 'name': 'mulDiv', 'rule': 'expr', 'src': (0, 2)}: ({'type': 'rule', 'name': 'int', 'rule': 'expr', 'src': (0, 0)}: ({'type': 'token', 'name': 'INT', 'value': '3', 'src': 0})), ({'type': 'token', 'name': 'MUL', 'value': '*', 'src': 1}), ({'type': 'rule', 'name': 'int', 'rule': 'expr', 'src': (2, 2)}: ({'type': 'token', 'name': 'INT', 'value': '4', 'src': 2}))), ({'type': 'token', 'name': 'ADD', 'value': '+', 'src': 3}), ({'type': 'rule', 'name': 'int', 'rule': 'expr', 'src': (4, 4)}: ({'type': 'token', 'name': 'INT', 'value': '5', 'src': 4}))), ({'type': 'token', 'name': 'NEWLINE', 'value': '\\\\\\\\n', 'src': 5})))"
            ]
          },
          "execution_count": 27,
          "metadata": {},
          "output_type": "execute_result"
        }
      ],
      "source": [
        "LabeledExpr.tree(text, 'prog')"
      ]
    },
    {
      "cell_type": "markdown",
      "metadata": {},
      "source": [
        "### Diagnostici"
      ]
    },
    {
      "cell_type": "code",
      "execution_count": null,
      "metadata": {},
      "outputs": [],
      "source": [
        "Ambig = ANTLR(r\"\"\"\n",
        "grammar Ambig;\n",
        "\n",
        "stat: expr ';'\n",
        "    | ID '(' ')' ';' \n",
        "    ;\n",
        "expr: ID '(' ')' \n",
        "    | INT\n",
        "    ;\n",
        "\n",
        "INT :   [0-9]+ ;\n",
        "ID  :   [a-zA-Z]+ ;\n",
        "WS  :   [ \\t\\r\\n]+ -> skip ;\n",
        "\"\"\")\n",
        "\n",
        "text = 'f();'"
      ]
    },
    {
      "cell_type": "code",
      "execution_count": null,
      "metadata": {},
      "outputs": [
        {
          "name": "stderr",
          "output_type": "stream",
          "text": [
            "line 1:3 reportAttemptingFullContext d=0 (stat), input='f();'\n",
            "line 1:3 reportAmbiguity d=0 (stat): ambigAlts={1, 2}, input='f();'\n"
          ]
        },
        {
          "data": {
            "text/plain": [
              "<AmbigParser.AmbigParser.StatContext at 0x7fef742d2200>"
            ]
          },
          "execution_count": 29,
          "metadata": {},
          "output_type": "execute_result"
        }
      ],
      "source": [
        "Ambig.context(text, 'stat', diag = True)"
      ]
    },
    {
      "cell_type": "code",
      "execution_count": null,
      "metadata": {},
      "outputs": [
        {
          "name": "stdout",
          "output_type": "stream",
          "text": [
            "enter   stat, LT(1)=f\n",
            "enter   expr, LT(1)=f\n",
            "consume [@0,0:0='f',<5>,1:0] rule expr\n",
            "consume [@1,1:1='(',<2>,1:1] rule expr\n",
            "consume [@2,2:2=')',<3>,1:2] rule expr\n",
            "exit    expr, LT(1)=;\n",
            "consume [@3,3:3=';',<1>,1:3] rule stat\n",
            "exit    stat, LT(1)=<EOF>\n"
          ]
        },
        {
          "data": {
            "text/plain": [
              "<AmbigParser.AmbigParser.StatContext at 0x7fef742d2ba0>"
            ]
          },
          "execution_count": 30,
          "metadata": {},
          "output_type": "execute_result"
        }
      ],
      "source": [
        "Ambig.context(text, 'stat', trace = True)"
      ]
    }
  ],
  "metadata": {
    "kernelspec": {
      "display_name": "Python 3",
      "language": "python",
      "name": "python3"
    },
    "language_info": {
      "codemirror_mode": {
        "name": "ipython",
        "version": 3
      },
      "file_extension": ".py",
      "mimetype": "text/x-python",
      "name": "python",
      "nbconvert_exporter": "python",
      "pygments_lexer": "ipython3"
    }
  },
  "nbformat": 4,
  "nbformat_minor": 2
}
