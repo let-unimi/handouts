{
  "cells": [
    {
      "cell_type": "markdown",
      "metadata": {},
      "source": [
        "# Parsing top-down (caso deterministico)"
      ]
    },
    {
      "cell_type": "code",
      "execution_count": null,
      "metadata": {},
      "outputs": [
        {
          "data": {
            "text/plain": [
              "'1.2.2-beta'"
            ]
          },
          "execution_count": 1,
          "metadata": {},
          "output_type": "execute_result"
        }
      ],
      "source": [
        "from liblet import (\n",
        "    Production, \n",
        "    Grammar, \n",
        "    Derivation, \n",
        "    ProductionGraph, \n",
        "    Stack,\n",
        "    Table,\n",
        "    Tree,\n",
        "    closure, \n",
        "    warn, \n",
        "    show_calls, \n",
        "    union_of, \n",
        "    dod2table, \n",
        "    dict2table,\n",
        "    __version__)\n",
        "\n",
        "# Alla fine ho scritto una classe Table, quindi dovete aggiornare…\n",
        "\n",
        "__version__"
      ]
    },
    {
      "cell_type": "markdown",
      "metadata": {},
      "source": [
        "La necessità di seguire tutti i possibili cammini nel grafo che simula la computazione del NPDA deriva dal fatto che (tra l'altro), per un certo simbolo $A$ in cima alla pila e il primo terminale $a$ non ancora elaborato, ci sono più produzioni da considerare.\n",
        "\n",
        "Cominciamo a considerare alcune restrizioni sulla grammatica che potrebbero semplificarci la vita. Dapprima assumiamo che non ci siano ε-regole. Quindi immaginiamo che la grammatica sia tale per cui possiamo pre-computare una tabella che, in posizione $(A, a)$ indichi una sola produzione possibile.\n",
        "\n",
        "In tal caso il processo di parsing si semplificherebbe come segue:"
      ]
    },
    {
      "cell_type": "code",
      "execution_count": null,
      "metadata": {},
      "outputs": [],
      "source": [
        "def parse_noε(G, TABLE, INPUT):\n",
        "    deriv  = Derivation(G)\n",
        "    stack = Stack(['#', G.S])\n",
        "    rest = tuple(INPUT) + ('#', )\n",
        "    while stack:\n",
        "        top = stack.pop()\n",
        "        first, *other = rest\n",
        "        if top in G.T | {'#'}:\n",
        "            if first == top: \n",
        "                rest = other\n",
        "            else:\n",
        "                warn('Expecting {}, got {}.'.format(top, first))\n",
        "                return None\n",
        "        else:\n",
        "            P = TABLE[top, first]\n",
        "            if P is None:\n",
        "                warn('No production for ({}, {}) at {}.'.format(top, first, deriv) )\n",
        "                return None \n",
        "            deriv = deriv.leftmost(P)\n",
        "            for X in reversed(P.rhs): stack.push(X)\n",
        "    return deriv"
      ]
    },
    {
      "cell_type": "markdown",
      "metadata": {},
      "source": [
        "Abbiamo adoperato l'usuale \"trucco\" di mettere un simbolo distinto `#` in fondo alla pila e alla parola: l'unico modo di esaurire la pila (e quindi uscire dal ciclo `while` senza che venga emesso un *warning*) è che parola e pila si esauriscano in modo concorde.\n",
        "\n",
        "Ma come costruire `TABLE`?\n",
        "\n",
        "## Caso SLL(1)\n",
        "\n",
        "Se la grammatica è tale per cui, per ciascun non terminale, le sue alternative iniziano tutte con terminali distinti, è molto facile!"
      ]
    },
    {
      "cell_type": "code",
      "execution_count": null,
      "metadata": {},
      "outputs": [
        {
          "data": {
            "text/plain": [
              "Grammar(N={B, S}, T={a, b}, P=(S -> a B, B -> b, B -> a B b), S=S)"
            ]
          },
          "execution_count": 3,
          "metadata": {},
          "output_type": "execute_result"
        }
      ],
      "source": [
        "# fig. 8.4. pag. 238\n",
        "\n",
        "G = Grammar.from_string(\"\"\"\n",
        "S -> a B\n",
        "B -> b | a B b\n",
        "\"\"\")\n",
        "G"
      ]
    },
    {
      "cell_type": "code",
      "execution_count": null,
      "metadata": {},
      "outputs": [],
      "source": [
        "def compute_simple_table(G):\n",
        "    \n",
        "    TABLE = Table(2, no_reassign = True)\n",
        "\n",
        "    for P in G.P:\n",
        "        A, (a, *α) = P\n",
        "        TABLE[A, a] = P\n",
        "\n",
        "    return TABLE"
      ]
    },
    {
      "cell_type": "markdown",
      "metadata": {},
      "source": [
        "Qui si usa un oggetto `Table`, il valore `2` indica che la tabella ha dimensione 2, ossia ha righe e colonne…\n"
      ]
    },
    {
      "cell_type": "code",
      "execution_count": null,
      "metadata": {},
      "outputs": [
        {
          "data": {
            "text/html": [
              "<style>td, th {border: 1pt solid lightgray !important; text-align: left !important;}</style><table><tr><td>&nbsp;<th><pre>a</pre><th><pre>b</pre>\n",
              "<tr><th><pre>S<pre><td><pre>S -> a B</pre><td>&nbsp;\n",
              "<tr><th><pre>B<pre><td><pre>B -> a B b</pre><td><pre>B -> b</pre>\n",
              "</table>"
            ],
            "text/plain": [
              "<liblet.utils.Table at 0x109675210>"
            ]
          },
          "execution_count": 5,
          "metadata": {},
          "output_type": "execute_result"
        }
      ],
      "source": [
        "TABLE = compute_simple_table(G)\n",
        "TABLE"
      ]
    },
    {
      "cell_type": "code",
      "execution_count": null,
      "metadata": {},
      "outputs": [
        {
          "data": {
            "text/plain": [
              "S -> a B -> a a B b -> a a b b"
            ]
          },
          "execution_count": 6,
          "metadata": {},
          "output_type": "execute_result"
        }
      ],
      "source": [
        "d = parse_noε(G, TABLE, list('aabb'))\n",
        "d"
      ]
    },
    {
      "cell_type": "code",
      "execution_count": null,
      "metadata": {},
      "outputs": [
        {
          "data": {
            "image/svg+xml": [
              "<?xml version=\"1.0\" encoding=\"UTF-8\" standalone=\"no\"?>\n",
              "<!DOCTYPE svg PUBLIC \"-//W3C//DTD SVG 1.1//EN\"\n",
              " \"http://www.w3.org/Graphics/SVG/1.1/DTD/svg11.dtd\">\n",
              "<!-- Generated by graphviz version 2.43.0 (0)\n",
              " -->\n",
              "<!-- Title: %3 Pages: 1 -->\n",
              "<svg width=\"91pt\" height=\"150pt\"\n",
              " viewBox=\"0.00 0.00 90.61 150.00\" xmlns=\"http://www.w3.org/2000/svg\" xmlns:xlink=\"http://www.w3.org/1999/xlink\">\n",
              "<g id=\"graph0\" class=\"graph\" transform=\"scale(1 1) rotate(0) translate(4 146)\">\n",
              "<title>%3</title>\n",
              "<polygon fill=\"white\" stroke=\"transparent\" points=\"-4,4 -4,-146 86.61,-146 86.61,4 -4,4\"/>\n",
              "<!-- &#45;9192919776434835336 -->\n",
              "<g id=\"node1\" class=\"node\">\n",
              "<title>&#45;9192919776434835336</title>\n",
              "<path fill=\"none\" stroke=\"black\" stroke-width=\"0.25\" d=\"M26.7,-142C26.7,-142 21.51,-142 21.51,-142 18.92,-142 16.32,-139.4 16.32,-136.81 16.32,-136.81 16.32,-125.19 16.32,-125.19 16.32,-122.6 18.92,-120 21.51,-120 21.51,-120 26.7,-120 26.7,-120 29.3,-120 31.89,-122.6 31.89,-125.19 31.89,-125.19 31.89,-136.81 31.89,-136.81 31.89,-139.4 29.3,-142 26.7,-142\"/>\n",
              "<text text-anchor=\"middle\" x=\"24.11\" y=\"-126.8\" font-family=\"Times,serif\" font-size=\"14.00\">S</text>\n",
              "</g>\n",
              "<!-- &#45;3196613566416387922 -->\n",
              "<g id=\"node2\" class=\"node\">\n",
              "<title>&#45;3196613566416387922</title>\n",
              "<path fill=\"none\" stroke=\"black\" stroke-width=\"1.25\" d=\"M9.51,-102C9.51,-102 4.7,-102 4.7,-102 2.3,-102 -0.11,-99.59 -0.11,-97.19 -0.11,-97.19 -0.11,-84.81 -0.11,-84.81 -0.11,-82.41 2.3,-80 4.7,-80 4.7,-80 9.51,-80 9.51,-80 11.92,-80 14.32,-82.41 14.32,-84.81 14.32,-84.81 14.32,-97.19 14.32,-97.19 14.32,-99.59 11.92,-102 9.51,-102\"/>\n",
              "<text text-anchor=\"middle\" x=\"7.11\" y=\"-86.8\" font-family=\"Times,serif\" font-size=\"14.00\">a</text>\n",
              "</g>\n",
              "<!-- &#45;9192919776434835336&#45;&gt;&#45;3196613566416387922 -->\n",
              "<g id=\"edge1\" class=\"edge\">\n",
              "<title>&#45;9192919776434835336&#45;&gt;&#45;3196613566416387922</title>\n",
              "<path fill=\"none\" stroke=\"black\" stroke-width=\"0.5\" d=\"M19.46,-119.62C17.02,-114.17 14.05,-107.52 11.63,-102.11\"/>\n",
              "</g>\n",
              "<!-- 3948278048507371538 -->\n",
              "<g id=\"node3\" class=\"node\">\n",
              "<title>3948278048507371538</title>\n",
              "<path fill=\"none\" stroke=\"black\" stroke-width=\"0.25\" d=\"M44.05,-102C44.05,-102 38.16,-102 38.16,-102 35.21,-102 32.27,-99.05 32.27,-96.11 32.27,-96.11 32.27,-85.89 32.27,-85.89 32.27,-82.95 35.21,-80 38.16,-80 38.16,-80 44.05,-80 44.05,-80 47,-80 49.95,-82.95 49.95,-85.89 49.95,-85.89 49.95,-96.11 49.95,-96.11 49.95,-99.05 47,-102 44.05,-102\"/>\n",
              "<text text-anchor=\"middle\" x=\"41.11\" y=\"-86.8\" font-family=\"Times,serif\" font-size=\"14.00\">B</text>\n",
              "</g>\n",
              "<!-- &#45;9192919776434835336&#45;&gt;3948278048507371538 -->\n",
              "<g id=\"edge2\" class=\"edge\">\n",
              "<title>&#45;9192919776434835336&#45;&gt;3948278048507371538</title>\n",
              "<path fill=\"none\" stroke=\"black\" stroke-width=\"0.5\" d=\"M28.75,-119.62C31.19,-114.17 34.17,-107.52 36.58,-102.11\"/>\n",
              "</g>\n",
              "<!-- &#45;3196613566416387922&#45;&gt;3948278048507371538 -->\n",
              "<!-- &#45;3196612305219389099 -->\n",
              "<g id=\"node4\" class=\"node\">\n",
              "<title>&#45;3196612305219389099</title>\n",
              "<path fill=\"none\" stroke=\"black\" stroke-width=\"1.25\" d=\"M9.51,-62C9.51,-62 4.7,-62 4.7,-62 2.3,-62 -0.11,-59.59 -0.11,-57.19 -0.11,-57.19 -0.11,-44.81 -0.11,-44.81 -0.11,-42.41 2.3,-40 4.7,-40 4.7,-40 9.51,-40 9.51,-40 11.92,-40 14.32,-42.41 14.32,-44.81 14.32,-44.81 14.32,-57.19 14.32,-57.19 14.32,-59.59 11.92,-62 9.51,-62\"/>\n",
              "<text text-anchor=\"middle\" x=\"7.11\" y=\"-46.8\" font-family=\"Times,serif\" font-size=\"14.00\">a</text>\n",
              "</g>\n",
              "<!-- 3948278048507371538&#45;&gt;&#45;3196612305219389099 -->\n",
              "<g id=\"edge4\" class=\"edge\">\n",
              "<title>3948278048507371538&#45;&gt;&#45;3196612305219389099</title>\n",
              "<path fill=\"none\" stroke=\"black\" stroke-width=\"0.5\" d=\"M32.17,-80.02C26.59,-73.77 19.48,-65.83 14.27,-60\"/>\n",
              "</g>\n",
              "<!-- 3948276787308042617 -->\n",
              "<g id=\"node5\" class=\"node\">\n",
              "<title>3948276787308042617</title>\n",
              "<path fill=\"none\" stroke=\"black\" stroke-width=\"0.25\" d=\"M44.05,-62C44.05,-62 38.16,-62 38.16,-62 35.21,-62 32.27,-59.05 32.27,-56.11 32.27,-56.11 32.27,-45.89 32.27,-45.89 32.27,-42.95 35.21,-40 38.16,-40 38.16,-40 44.05,-40 44.05,-40 47,-40 49.95,-42.95 49.95,-45.89 49.95,-45.89 49.95,-56.11 49.95,-56.11 49.95,-59.05 47,-62 44.05,-62\"/>\n",
              "<text text-anchor=\"middle\" x=\"41.11\" y=\"-46.8\" font-family=\"Times,serif\" font-size=\"14.00\">B</text>\n",
              "</g>\n",
              "<!-- 3948278048507371538&#45;&gt;3948276787308042617 -->\n",
              "<g id=\"edge5\" class=\"edge\">\n",
              "<title>3948278048507371538&#45;&gt;3948276787308042617</title>\n",
              "<path fill=\"none\" stroke=\"black\" stroke-width=\"0.5\" d=\"M41.11,-79.62C41.11,-74.17 41.11,-67.52 41.11,-62.11\"/>\n",
              "</g>\n",
              "<!-- 7087199892304433736 -->\n",
              "<g id=\"node6\" class=\"node\">\n",
              "<title>7087199892304433736</title>\n",
              "<path fill=\"none\" stroke=\"black\" stroke-width=\"1.25\" d=\"M77.61,-62C77.61,-62 72.61,-62 72.61,-62 70.11,-62 67.61,-59.5 67.61,-57 67.61,-57 67.61,-45 67.61,-45 67.61,-42.5 70.11,-40 72.61,-40 72.61,-40 77.61,-40 77.61,-40 80.11,-40 82.61,-42.5 82.61,-45 82.61,-45 82.61,-57 82.61,-57 82.61,-59.5 80.11,-62 77.61,-62\"/>\n",
              "<text text-anchor=\"middle\" x=\"75.11\" y=\"-46.8\" font-family=\"Times,serif\" font-size=\"14.00\">b</text>\n",
              "</g>\n",
              "<!-- 3948278048507371538&#45;&gt;7087199892304433736 -->\n",
              "<g id=\"edge6\" class=\"edge\">\n",
              "<title>3948278048507371538&#45;&gt;7087199892304433736</title>\n",
              "<path fill=\"none\" stroke=\"black\" stroke-width=\"0.5\" d=\"M50.04,-80.02C55.47,-73.95 62.33,-66.28 67.5,-60.5\"/>\n",
              "</g>\n",
              "<!-- &#45;3196612305219389099&#45;&gt;3948276787308042617 -->\n",
              "<!-- 3948276787308042617&#45;&gt;7087199892304433736 -->\n",
              "<!-- 7087198631109765011 -->\n",
              "<g id=\"node7\" class=\"node\">\n",
              "<title>7087198631109765011</title>\n",
              "<path fill=\"none\" stroke=\"black\" stroke-width=\"1.25\" d=\"M43.61,-22C43.61,-22 38.61,-22 38.61,-22 36.11,-22 33.61,-19.5 33.61,-17 33.61,-17 33.61,-5 33.61,-5 33.61,-2.5 36.11,0 38.61,0 38.61,0 43.61,0 43.61,0 46.11,0 48.61,-2.5 48.61,-5 48.61,-5 48.61,-17 48.61,-17 48.61,-19.5 46.11,-22 43.61,-22\"/>\n",
              "<text text-anchor=\"middle\" x=\"41.11\" y=\"-6.8\" font-family=\"Times,serif\" font-size=\"14.00\">b</text>\n",
              "</g>\n",
              "<!-- 3948276787308042617&#45;&gt;7087198631109765011 -->\n",
              "<g id=\"edge9\" class=\"edge\">\n",
              "<title>3948276787308042617&#45;&gt;7087198631109765011</title>\n",
              "<path fill=\"none\" stroke=\"black\" stroke-width=\"0.5\" d=\"M41.11,-39.62C41.11,-34.17 41.11,-27.52 41.11,-22.11\"/>\n",
              "</g>\n",
              "</g>\n",
              "</svg>\n"
            ],
            "text/plain": [
              "ProductionGraph(S -> a B -> a a B b -> a a b b)"
            ]
          },
          "execution_count": 7,
          "metadata": {},
          "output_type": "execute_result"
        }
      ],
      "source": [
        "ProductionGraph(d)"
      ]
    },
    {
      "cell_type": "markdown",
      "metadata": {},
      "source": [
        "Possono accadere due errori di parsing… o perché manca una produzione adatta, o perché l'ultima produzione utilizzata comporta che l'algoritmo si aspetti un carattere che manca nell'input…"
      ]
    },
    {
      "cell_type": "code",
      "execution_count": null,
      "metadata": {},
      "outputs": [
        {
          "name": "stderr",
          "output_type": "stream",
          "text": [
            "No production for (B, c) at S -> a B -> a a B b.\n"
          ]
        }
      ],
      "source": [
        "parse_noε(G, TABLE, list('aac'))"
      ]
    },
    {
      "cell_type": "code",
      "execution_count": null,
      "metadata": {},
      "outputs": [
        {
          "name": "stderr",
          "output_type": "stream",
          "text": [
            "Expecting b, got c.\n"
          ]
        }
      ],
      "source": [
        "parse_noε(G, TABLE, list('aabc'))"
      ]
    },
    {
      "cell_type": "markdown",
      "metadata": {},
      "source": [
        "### E se non è \"semplice\"?\n",
        "\n",
        "La costruzione della tabella è in grado, di accorgersi che stiamo tentando di assegnare di nuovo un valore per un certo $(A, a)$… (si tratta del parametro `no_reassign = True` usato nella costruzione di `Table`)."
      ]
    },
    {
      "cell_type": "code",
      "execution_count": null,
      "metadata": {},
      "outputs": [],
      "source": [
        "# fig. 8.1, pag. 236\n",
        "\n",
        "G = Grammar.from_string(\"\"\"\n",
        "S -> a B | b A\n",
        "A -> a | a S | b A A\n",
        "B -> b | b S | a B B\n",
        "\"\"\")"
      ]
    },
    {
      "cell_type": "code",
      "execution_count": null,
      "metadata": {},
      "outputs": [
        {
          "name": "stderr",
          "output_type": "stream",
          "text": [
            "Table already contains value A -> a for (A, a)\n",
            "Table already contains value B -> b for (B, b)\n"
          ]
        },
        {
          "data": {
            "text/html": [
              "<style>td, th {border: 1pt solid lightgray !important; text-align: left !important;}</style><table><tr><td>&nbsp;<th><pre>a</pre><th><pre>b</pre>\n",
              "<tr><th><pre>S<pre><td><pre>S -> a B</pre><td><pre>S -> b A</pre>\n",
              "<tr><th><pre>A<pre><td><pre>A -> a</pre><td><pre>A -> b A A</pre>\n",
              "<tr><th><pre>B<pre><td><pre>B -> a B B</pre><td><pre>B -> b</pre>\n",
              "</table>"
            ],
            "text/plain": [
              "<liblet.utils.Table at 0x109685090>"
            ]
          },
          "execution_count": 11,
          "metadata": {},
          "output_type": "execute_result"
        }
      ],
      "source": [
        "compute_simple_table(G)"
      ]
    },
    {
      "cell_type": "markdown",
      "metadata": {},
      "source": [
        "### Un esempio più naturale: notazione prefissa\n",
        "\n",
        "Torniamo a consideare una grammatica SLL(1) forse più naturale della prima da cui siamo partiti: una grammatica per operazioni aritmetiche in [notazione polacca](https://en.wikipedia.org/wiki/Polish_notation)."
      ]
    },
    {
      "cell_type": "code",
      "execution_count": null,
      "metadata": {},
      "outputs": [
        {
          "data": {
            "text/plain": [
              "Grammar(N={E}, T={*, +, -, /, t}, P=(E -> + E E, E -> - E E, E -> * E E, E -> / E E, E -> t), S=E)"
            ]
          },
          "execution_count": 12,
          "metadata": {},
          "output_type": "execute_result"
        }
      ],
      "source": [
        "G = Grammar.from_string(\"\"\"\n",
        "E -> + E E | - E E | * E E | / E E | t\n",
        "\"\"\")\n",
        "G"
      ]
    },
    {
      "cell_type": "code",
      "execution_count": null,
      "metadata": {},
      "outputs": [
        {
          "data": {
            "text/html": [
              "<style>td, th {border: 1pt solid lightgray !important; text-align: left !important;}</style><table><tr><td>&nbsp;<th><pre>+</pre><th><pre>-</pre><th><pre>*</pre><th><pre>/</pre><th><pre>t</pre>\n",
              "<tr><th><pre>E<pre><td><pre>E -> + E E</pre><td><pre>E -> - E E</pre><td><pre>E -> * E E</pre><td><pre>E -> / E E</pre><td><pre>E -> t</pre>\n",
              "</table>"
            ],
            "text/plain": [
              "<liblet.utils.Table at 0x10967f910>"
            ]
          },
          "execution_count": 13,
          "metadata": {},
          "output_type": "execute_result"
        }
      ],
      "source": [
        "TABLE = compute_simple_table(G)\n",
        "TABLE"
      ]
    },
    {
      "cell_type": "code",
      "execution_count": null,
      "metadata": {},
      "outputs": [
        {
          "data": {
            "image/svg+xml": [
              "<?xml version=\"1.0\" encoding=\"UTF-8\" standalone=\"no\"?>\n",
              "<!DOCTYPE svg PUBLIC \"-//W3C//DTD SVG 1.1//EN\"\n",
              " \"http://www.w3.org/Graphics/SVG/1.1/DTD/svg11.dtd\">\n",
              "<!-- Generated by graphviz version 2.43.0 (0)\n",
              " -->\n",
              "<!-- Title: %3 Pages: 1 -->\n",
              "<svg width=\"192pt\" height=\"150pt\"\n",
              " viewBox=\"0.00 0.00 191.78 150.00\" xmlns=\"http://www.w3.org/2000/svg\" xmlns:xlink=\"http://www.w3.org/1999/xlink\">\n",
              "<g id=\"graph0\" class=\"graph\" transform=\"scale(1 1) rotate(0) translate(4 146)\">\n",
              "<title>%3</title>\n",
              "<polygon fill=\"white\" stroke=\"transparent\" points=\"-4,4 -4,-146 187.78,-146 187.78,4 -4,4\"/>\n",
              "<!-- &#45;92705194108063317 -->\n",
              "<g id=\"node1\" class=\"node\">\n",
              "<title>&#45;92705194108063317</title>\n",
              "<path fill=\"none\" stroke=\"black\" stroke-width=\"0.25\" d=\"M77.19,-142C77.19,-142 71.81,-142 71.81,-142 69.13,-142 66.44,-139.31 66.44,-136.63 66.44,-136.63 66.44,-125.37 66.44,-125.37 66.44,-122.69 69.13,-120 71.81,-120 71.81,-120 77.19,-120 77.19,-120 79.87,-120 82.56,-122.69 82.56,-125.37 82.56,-125.37 82.56,-136.63 82.56,-136.63 82.56,-139.31 79.87,-142 77.19,-142\"/>\n",
              "<text text-anchor=\"middle\" x=\"74.5\" y=\"-126.8\" font-family=\"Times,serif\" font-size=\"14.00\">E</text>\n",
              "</g>\n",
              "<!-- &#45;4617480628032770856 -->\n",
              "<g id=\"node2\" class=\"node\">\n",
              "<title>&#45;4617480628032770856</title>\n",
              "<path fill=\"none\" stroke=\"black\" stroke-width=\"1.25\" d=\"M43.13,-102C43.13,-102 37.87,-102 37.87,-102 35.24,-102 32.6,-99.37 32.6,-96.74 32.6,-96.74 32.6,-85.26 32.6,-85.26 32.6,-82.63 35.24,-80 37.87,-80 37.87,-80 43.13,-80 43.13,-80 45.76,-80 48.4,-82.63 48.4,-85.26 48.4,-85.26 48.4,-96.74 48.4,-96.74 48.4,-99.37 45.76,-102 43.13,-102\"/>\n",
              "<text text-anchor=\"middle\" x=\"40.5\" y=\"-86.8\" font-family=\"Times,serif\" font-size=\"14.00\">+</text>\n",
              "</g>\n",
              "<!-- &#45;92705194108063317&#45;&gt;&#45;4617480628032770856 -->\n",
              "<g id=\"edge1\" class=\"edge\">\n",
              "<title>&#45;92705194108063317&#45;&gt;&#45;4617480628032770856</title>\n",
              "<path fill=\"none\" stroke=\"black\" stroke-width=\"0.5\" d=\"M66.27,-120.8C60.85,-114.74 53.78,-106.84 48.42,-100.85\"/>\n",
              "</g>\n",
              "<!-- &#45;92703932912229543 -->\n",
              "<g id=\"node3\" class=\"node\">\n",
              "<title>&#45;92703932912229543</title>\n",
              "<path fill=\"none\" stroke=\"black\" stroke-width=\"0.25\" d=\"M77.19,-102C77.19,-102 71.81,-102 71.81,-102 69.13,-102 66.44,-99.31 66.44,-96.63 66.44,-96.63 66.44,-85.37 66.44,-85.37 66.44,-82.69 69.13,-80 71.81,-80 71.81,-80 77.19,-80 77.19,-80 79.87,-80 82.56,-82.69 82.56,-85.37 82.56,-85.37 82.56,-96.63 82.56,-96.63 82.56,-99.31 79.87,-102 77.19,-102\"/>\n",
              "<text text-anchor=\"middle\" x=\"74.5\" y=\"-86.8\" font-family=\"Times,serif\" font-size=\"14.00\">E</text>\n",
              "</g>\n",
              "<!-- &#45;92705194108063317&#45;&gt;&#45;92703932912229543 -->\n",
              "<g id=\"edge2\" class=\"edge\">\n",
              "<title>&#45;92705194108063317&#45;&gt;&#45;92703932912229543</title>\n",
              "<path fill=\"none\" stroke=\"black\" stroke-width=\"0.5\" d=\"M74.5,-119.62C74.5,-114.17 74.5,-107.52 74.5,-102.11\"/>\n",
              "</g>\n",
              "<!-- &#45;92703932913394592 -->\n",
              "<g id=\"node4\" class=\"node\">\n",
              "<title>&#45;92703932913394592</title>\n",
              "<path fill=\"none\" stroke=\"black\" stroke-width=\"0.25\" d=\"M112.19,-102C112.19,-102 106.81,-102 106.81,-102 104.13,-102 101.44,-99.31 101.44,-96.63 101.44,-96.63 101.44,-85.37 101.44,-85.37 101.44,-82.69 104.13,-80 106.81,-80 106.81,-80 112.19,-80 112.19,-80 114.87,-80 117.56,-82.69 117.56,-85.37 117.56,-85.37 117.56,-96.63 117.56,-96.63 117.56,-99.31 114.87,-102 112.19,-102\"/>\n",
              "<text text-anchor=\"middle\" x=\"109.5\" y=\"-86.8\" font-family=\"Times,serif\" font-size=\"14.00\">E</text>\n",
              "</g>\n",
              "<!-- &#45;92705194108063317&#45;&gt;&#45;92703932913394592 -->\n",
              "<g id=\"edge3\" class=\"edge\">\n",
              "<title>&#45;92705194108063317&#45;&gt;&#45;92703932913394592</title>\n",
              "<path fill=\"none\" stroke=\"black\" stroke-width=\"0.5\" d=\"M82.62,-121.19C88.27,-115.05 95.78,-106.89 101.43,-100.77\"/>\n",
              "</g>\n",
              "<!-- &#45;4617480628032770856&#45;&gt;&#45;92703932912229543 -->\n",
              "<!-- &#45;92703932912229543&#45;&gt;&#45;92703932913394592 -->\n",
              "<!-- 7731050674555928935 -->\n",
              "<g id=\"node5\" class=\"node\">\n",
              "<title>7731050674555928935</title>\n",
              "<path fill=\"none\" stroke=\"black\" stroke-width=\"1.25\" d=\"M10,-62C10,-62 5,-62 5,-62 2.5,-62 0,-59.5 0,-57 0,-57 0,-45 0,-45 0,-42.5 2.5,-40 5,-40 5,-40 10,-40 10,-40 12.5,-40 15,-42.5 15,-45 15,-45 15,-57 15,-57 15,-59.5 12.5,-62 10,-62\"/>\n",
              "<text text-anchor=\"middle\" x=\"7.5\" y=\"-46.8\" font-family=\"Times,serif\" font-size=\"14.00\">*</text>\n",
              "</g>\n",
              "<!-- &#45;92703932912229543&#45;&gt;7731050674555928935 -->\n",
              "<g id=\"edge6\" class=\"edge\">\n",
              "<title>&#45;92703932912229543&#45;&gt;7731050674555928935</title>\n",
              "<path fill=\"none\" stroke=\"black\" stroke-width=\"0.5\" d=\"M66.23,-85.06C63.47,-83.43 60.36,-81.62 57.5,-80 42.96,-71.76 39.04,-70.24 24.5,-62 21.4,-60.24 18.02,-58.26 15.09,-56.53\"/>\n",
              "</g>\n",
              "<!-- &#45;92702671712900622 -->\n",
              "<g id=\"node6\" class=\"node\">\n",
              "<title>&#45;92702671712900622</title>\n",
              "<path fill=\"none\" stroke=\"black\" stroke-width=\"0.25\" d=\"M44.19,-62C44.19,-62 38.81,-62 38.81,-62 36.13,-62 33.44,-59.31 33.44,-56.63 33.44,-56.63 33.44,-45.37 33.44,-45.37 33.44,-42.69 36.13,-40 38.81,-40 38.81,-40 44.19,-40 44.19,-40 46.87,-40 49.56,-42.69 49.56,-45.37 49.56,-45.37 49.56,-56.63 49.56,-56.63 49.56,-59.31 46.87,-62 44.19,-62\"/>\n",
              "<text text-anchor=\"middle\" x=\"41.5\" y=\"-46.8\" font-family=\"Times,serif\" font-size=\"14.00\">E</text>\n",
              "</g>\n",
              "<!-- &#45;92703932912229543&#45;&gt;&#45;92702671712900622 -->\n",
              "<g id=\"edge7\" class=\"edge\">\n",
              "<title>&#45;92703932912229543&#45;&gt;&#45;92702671712900622</title>\n",
              "<path fill=\"none\" stroke=\"black\" stroke-width=\"0.5\" d=\"M66.17,-80.41C61.13,-74.61 54.73,-67.23 49.71,-61.45\"/>\n",
              "</g>\n",
              "<!-- &#45;92702671716395769 -->\n",
              "<g id=\"node7\" class=\"node\">\n",
              "<title>&#45;92702671716395769</title>\n",
              "<path fill=\"none\" stroke=\"black\" stroke-width=\"0.25\" d=\"M79.19,-62C79.19,-62 73.81,-62 73.81,-62 71.13,-62 68.44,-59.31 68.44,-56.63 68.44,-56.63 68.44,-45.37 68.44,-45.37 68.44,-42.69 71.13,-40 73.81,-40 73.81,-40 79.19,-40 79.19,-40 81.87,-40 84.56,-42.69 84.56,-45.37 84.56,-45.37 84.56,-56.63 84.56,-56.63 84.56,-59.31 81.87,-62 79.19,-62\"/>\n",
              "<text text-anchor=\"middle\" x=\"76.5\" y=\"-46.8\" font-family=\"Times,serif\" font-size=\"14.00\">E</text>\n",
              "</g>\n",
              "<!-- &#45;92703932912229543&#45;&gt;&#45;92702671716395769 -->\n",
              "<g id=\"edge8\" class=\"edge\">\n",
              "<title>&#45;92703932912229543&#45;&gt;&#45;92702671716395769</title>\n",
              "<path fill=\"none\" stroke=\"black\" stroke-width=\"0.5\" d=\"M75.05,-79.62C75.33,-74.17 75.68,-67.52 75.97,-62.11\"/>\n",
              "</g>\n",
              "<!-- &#45;2135516915360864604 -->\n",
              "<g id=\"node10\" class=\"node\">\n",
              "<title>&#45;2135516915360864604</title>\n",
              "<path fill=\"none\" stroke=\"black\" stroke-width=\"1.25\" d=\"M110.46,-62C110.46,-62 106.54,-62 106.54,-62 104.57,-62 102.61,-60.04 102.61,-58.07 102.61,-58.07 102.61,-43.93 102.61,-43.93 102.61,-41.96 104.57,-40 106.54,-40 106.54,-40 110.46,-40 110.46,-40 112.43,-40 114.39,-41.96 114.39,-43.93 114.39,-43.93 114.39,-58.07 114.39,-58.07 114.39,-60.04 112.43,-62 110.46,-62\"/>\n",
              "<text text-anchor=\"middle\" x=\"108.5\" y=\"-46.8\" font-family=\"Times,serif\" font-size=\"14.00\">/</text>\n",
              "</g>\n",
              "<!-- &#45;92703932913394592&#45;&gt;&#45;2135516915360864604 -->\n",
              "<g id=\"edge13\" class=\"edge\">\n",
              "<title>&#45;92703932913394592&#45;&gt;&#45;2135516915360864604</title>\n",
              "<path fill=\"none\" stroke=\"black\" stroke-width=\"0.5\" d=\"M109.23,-79.62C109.08,-74.17 108.91,-67.52 108.77,-62.11\"/>\n",
              "</g>\n",
              "<!-- &#45;92698888124234251 -->\n",
              "<g id=\"node11\" class=\"node\">\n",
              "<title>&#45;92698888124234251</title>\n",
              "<path fill=\"none\" stroke=\"black\" stroke-width=\"0.25\" d=\"M143.19,-62C143.19,-62 137.81,-62 137.81,-62 135.13,-62 132.44,-59.31 132.44,-56.63 132.44,-56.63 132.44,-45.37 132.44,-45.37 132.44,-42.69 135.13,-40 137.81,-40 137.81,-40 143.19,-40 143.19,-40 145.87,-40 148.56,-42.69 148.56,-45.37 148.56,-45.37 148.56,-56.63 148.56,-56.63 148.56,-59.31 145.87,-62 143.19,-62\"/>\n",
              "<text text-anchor=\"middle\" x=\"140.5\" y=\"-46.8\" font-family=\"Times,serif\" font-size=\"14.00\">E</text>\n",
              "</g>\n",
              "<!-- &#45;92703932913394592&#45;&gt;&#45;92698888124234251 -->\n",
              "<g id=\"edge14\" class=\"edge\">\n",
              "<title>&#45;92703932913394592&#45;&gt;&#45;92698888124234251</title>\n",
              "<path fill=\"none\" stroke=\"black\" stroke-width=\"0.5\" d=\"M117.64,-80.02C122.17,-74.47 127.77,-67.6 132.3,-62.05\"/>\n",
              "</g>\n",
              "<!-- &#45;92698888125399300 -->\n",
              "<g id=\"node12\" class=\"node\">\n",
              "<title>&#45;92698888125399300</title>\n",
              "<path fill=\"none\" stroke=\"black\" stroke-width=\"0.25\" d=\"M178.19,-62C178.19,-62 172.81,-62 172.81,-62 170.13,-62 167.44,-59.31 167.44,-56.63 167.44,-56.63 167.44,-45.37 167.44,-45.37 167.44,-42.69 170.13,-40 172.81,-40 172.81,-40 178.19,-40 178.19,-40 180.87,-40 183.56,-42.69 183.56,-45.37 183.56,-45.37 183.56,-56.63 183.56,-56.63 183.56,-59.31 180.87,-62 178.19,-62\"/>\n",
              "<text text-anchor=\"middle\" x=\"175.5\" y=\"-46.8\" font-family=\"Times,serif\" font-size=\"14.00\">E</text>\n",
              "</g>\n",
              "<!-- &#45;92703932913394592&#45;&gt;&#45;92698888125399300 -->\n",
              "<g id=\"edge15\" class=\"edge\">\n",
              "<title>&#45;92703932913394592&#45;&gt;&#45;92698888125399300</title>\n",
              "<path fill=\"none\" stroke=\"black\" stroke-width=\"0.5\" d=\"M117.59,-85.34C130.26,-78.05 154.63,-64.01 167.34,-56.7\"/>\n",
              "</g>\n",
              "<!-- 7731050674555928935&#45;&gt;&#45;92702671712900622 -->\n",
              "<!-- &#45;92702671712900622&#45;&gt;&#45;92702671716395769 -->\n",
              "<!-- &#45;9220531170131968576 -->\n",
              "<g id=\"node8\" class=\"node\">\n",
              "<title>&#45;9220531170131968576</title>\n",
              "<path fill=\"none\" stroke=\"black\" stroke-width=\"1.25\" d=\"M43.46,-22C43.46,-22 39.54,-22 39.54,-22 37.57,-22 35.61,-20.04 35.61,-18.07 35.61,-18.07 35.61,-3.93 35.61,-3.93 35.61,-1.96 37.57,0 39.54,0 39.54,0 43.46,0 43.46,0 45.43,0 47.39,-1.96 47.39,-3.93 47.39,-3.93 47.39,-18.07 47.39,-18.07 47.39,-20.04 45.43,-22 43.46,-22\"/>\n",
              "<text text-anchor=\"middle\" x=\"41.5\" y=\"-6.8\" font-family=\"Times,serif\" font-size=\"14.00\">t</text>\n",
              "</g>\n",
              "<!-- &#45;92702671712900622&#45;&gt;&#45;9220531170131968576 -->\n",
              "<g id=\"edge11\" class=\"edge\">\n",
              "<title>&#45;92702671712900622&#45;&gt;&#45;9220531170131968576</title>\n",
              "<path fill=\"none\" stroke=\"black\" stroke-width=\"0.5\" d=\"M41.5,-39.62C41.5,-34.17 41.5,-27.52 41.5,-22.11\"/>\n",
              "</g>\n",
              "<!-- &#45;9220529908934969753 -->\n",
              "<g id=\"node9\" class=\"node\">\n",
              "<title>&#45;9220529908934969753</title>\n",
              "<path fill=\"none\" stroke=\"black\" stroke-width=\"1.25\" d=\"M78.46,-22C78.46,-22 74.54,-22 74.54,-22 72.57,-22 70.61,-20.04 70.61,-18.07 70.61,-18.07 70.61,-3.93 70.61,-3.93 70.61,-1.96 72.57,0 74.54,0 74.54,0 78.46,0 78.46,0 80.43,0 82.39,-1.96 82.39,-3.93 82.39,-3.93 82.39,-18.07 82.39,-18.07 82.39,-20.04 80.43,-22 78.46,-22\"/>\n",
              "<text text-anchor=\"middle\" x=\"76.5\" y=\"-6.8\" font-family=\"Times,serif\" font-size=\"14.00\">t</text>\n",
              "</g>\n",
              "<!-- &#45;92702671716395769&#45;&gt;&#45;9220529908934969753 -->\n",
              "<g id=\"edge12\" class=\"edge\">\n",
              "<title>&#45;92702671716395769&#45;&gt;&#45;9220529908934969753</title>\n",
              "<path fill=\"none\" stroke=\"black\" stroke-width=\"0.5\" d=\"M76.5,-39.62C76.5,-34.17 76.5,-27.52 76.5,-22.11\"/>\n",
              "</g>\n",
              "<!-- &#45;2135516915360864604&#45;&gt;&#45;92698888124234251 -->\n",
              "<!-- &#45;92698888124234251&#45;&gt;&#45;92698888125399300 -->\n",
              "<!-- &#45;9220527386540972107 -->\n",
              "<g id=\"node13\" class=\"node\">\n",
              "<title>&#45;9220527386540972107</title>\n",
              "<path fill=\"none\" stroke=\"black\" stroke-width=\"1.25\" d=\"M142.46,-22C142.46,-22 138.54,-22 138.54,-22 136.57,-22 134.61,-20.04 134.61,-18.07 134.61,-18.07 134.61,-3.93 134.61,-3.93 134.61,-1.96 136.57,0 138.54,0 138.54,0 142.46,0 142.46,0 144.43,0 146.39,-1.96 146.39,-3.93 146.39,-3.93 146.39,-18.07 146.39,-18.07 146.39,-20.04 144.43,-22 142.46,-22\"/>\n",
              "<text text-anchor=\"middle\" x=\"140.5\" y=\"-6.8\" font-family=\"Times,serif\" font-size=\"14.00\">t</text>\n",
              "</g>\n",
              "<!-- &#45;92698888124234251&#45;&gt;&#45;9220527386540972107 -->\n",
              "<g id=\"edge18\" class=\"edge\">\n",
              "<title>&#45;92698888124234251&#45;&gt;&#45;9220527386540972107</title>\n",
              "<path fill=\"none\" stroke=\"black\" stroke-width=\"0.5\" d=\"M140.5,-39.62C140.5,-34.17 140.5,-27.52 140.5,-22.11\"/>\n",
              "</g>\n",
              "<!-- &#45;9220526125343973284 -->\n",
              "<g id=\"node14\" class=\"node\">\n",
              "<title>&#45;9220526125343973284</title>\n",
              "<path fill=\"none\" stroke=\"black\" stroke-width=\"1.25\" d=\"M177.46,-22C177.46,-22 173.54,-22 173.54,-22 171.57,-22 169.61,-20.04 169.61,-18.07 169.61,-18.07 169.61,-3.93 169.61,-3.93 169.61,-1.96 171.57,0 173.54,0 173.54,0 177.46,0 177.46,0 179.43,0 181.39,-1.96 181.39,-3.93 181.39,-3.93 181.39,-18.07 181.39,-18.07 181.39,-20.04 179.43,-22 177.46,-22\"/>\n",
              "<text text-anchor=\"middle\" x=\"175.5\" y=\"-6.8\" font-family=\"Times,serif\" font-size=\"14.00\">t</text>\n",
              "</g>\n",
              "<!-- &#45;92698888125399300&#45;&gt;&#45;9220526125343973284 -->\n",
              "<g id=\"edge19\" class=\"edge\">\n",
              "<title>&#45;92698888125399300&#45;&gt;&#45;9220526125343973284</title>\n",
              "<path fill=\"none\" stroke=\"black\" stroke-width=\"0.5\" d=\"M175.5,-39.62C175.5,-34.17 175.5,-27.52 175.5,-22.11\"/>\n",
              "</g>\n",
              "</g>\n",
              "</svg>\n"
            ],
            "text/plain": [
              "ProductionGraph(E -> + E E -> + * E E E -> + * t E E -> + * t t E -> + * t t / E E -> + * t t / t E -> + * t t / t t)"
            ]
          },
          "execution_count": 14,
          "metadata": {},
          "output_type": "execute_result"
        }
      ],
      "source": [
        "ProductionGraph(parse_noε(G, TABLE, '+ * t t / t t'.split()))"
      ]
    },
    {
      "cell_type": "markdown",
      "metadata": {},
      "source": [
        "### <span style=\"color: red;\">Esercizio per casa</span>\n",
        "\n",
        "Sapreste modificare `parse_noε` perché restituisca, invece della derivazione, il valore dell'espressione aritmetica? Sapreste integrarlo con un tokenizzatore che consenta di sostiuire numeri interi al terminale `t`?\n",
        "\n",
        "Saprese trasformare gli alberi prodotti da `parse_noε` in modo che nodi siano operandi o opreatori, come nell'esempio seguente?"
      ]
    },
    {
      "cell_type": "code",
      "execution_count": null,
      "metadata": {},
      "outputs": [
        {
          "data": {
            "image/svg+xml": [
              "<?xml version=\"1.0\" encoding=\"UTF-8\" standalone=\"no\"?>\n",
              "<!DOCTYPE svg PUBLIC \"-//W3C//DTD SVG 1.1//EN\"\n",
              " \"http://www.w3.org/Graphics/SVG/1.1/DTD/svg11.dtd\">\n",
              "<!-- Generated by graphviz version 2.43.0 (0)\n",
              " -->\n",
              "<!-- Title: %3 Pages: 1 -->\n",
              "<svg width=\"110pt\" height=\"110pt\"\n",
              " viewBox=\"0.00 0.00 109.89 110.00\" xmlns=\"http://www.w3.org/2000/svg\" xmlns:xlink=\"http://www.w3.org/1999/xlink\">\n",
              "<g id=\"graph0\" class=\"graph\" transform=\"scale(1 1) rotate(0) translate(4 106)\">\n",
              "<title>%3</title>\n",
              "<polygon fill=\"white\" stroke=\"transparent\" points=\"-4,4 -4,-106 105.89,-106 105.89,4 -4,4\"/>\n",
              "<!-- 4432987088 -->\n",
              "<g id=\"node1\" class=\"node\">\n",
              "<title>4432987088</title>\n",
              "<path fill=\"none\" stroke=\"black\" stroke-width=\"0.25\" d=\"M52.58,-102C52.58,-102 47.31,-102 47.31,-102 44.68,-102 42.05,-99.37 42.05,-96.74 42.05,-96.74 42.05,-85.26 42.05,-85.26 42.05,-82.63 44.68,-80 47.31,-80 47.31,-80 52.58,-80 52.58,-80 55.21,-80 57.84,-82.63 57.84,-85.26 57.84,-85.26 57.84,-96.74 57.84,-96.74 57.84,-99.37 55.21,-102 52.58,-102\"/>\n",
              "<text text-anchor=\"middle\" x=\"49.94\" y=\"-86.8\" font-family=\"Times,serif\" font-size=\"14.00\">+</text>\n",
              "</g>\n",
              "<!-- 4432986896 -->\n",
              "<g id=\"node2\" class=\"node\">\n",
              "<title>4432986896</title>\n",
              "<path fill=\"none\" stroke=\"black\" stroke-width=\"0.25\" d=\"M37.44,-62C37.44,-62 32.44,-62 32.44,-62 29.94,-62 27.44,-59.5 27.44,-57 27.44,-57 27.44,-45 27.44,-45 27.44,-42.5 29.94,-40 32.44,-40 32.44,-40 37.44,-40 37.44,-40 39.94,-40 42.44,-42.5 42.44,-45 42.44,-45 42.44,-57 42.44,-57 42.44,-59.5 39.94,-62 37.44,-62\"/>\n",
              "<text text-anchor=\"middle\" x=\"34.94\" y=\"-46.8\" font-family=\"Times,serif\" font-size=\"14.00\">*</text>\n",
              "</g>\n",
              "<!-- 4432987088&#45;&gt;4432986896 -->\n",
              "<g id=\"edge1\" class=\"edge\">\n",
              "<title>4432987088&#45;&gt;4432986896</title>\n",
              "<path fill=\"none\" stroke=\"black\" d=\"M45.85,-79.62C43.69,-74.17 41.07,-67.52 38.94,-62.11\"/>\n",
              "</g>\n",
              "<!-- 4432987152 -->\n",
              "<g id=\"node3\" class=\"node\">\n",
              "<title>4432987152</title>\n",
              "<path fill=\"none\" stroke=\"black\" stroke-width=\"0.25\" d=\"M67.91,-62C67.91,-62 63.98,-62 63.98,-62 62.02,-62 60.05,-60.04 60.05,-58.07 60.05,-58.07 60.05,-43.93 60.05,-43.93 60.05,-41.96 62.02,-40 63.98,-40 63.98,-40 67.91,-40 67.91,-40 69.87,-40 71.83,-41.96 71.83,-43.93 71.83,-43.93 71.83,-58.07 71.83,-58.07 71.83,-60.04 69.87,-62 67.91,-62\"/>\n",
              "<text text-anchor=\"middle\" x=\"65.94\" y=\"-46.8\" font-family=\"Times,serif\" font-size=\"14.00\">/</text>\n",
              "</g>\n",
              "<!-- 4432987088&#45;&gt;4432987152 -->\n",
              "<g id=\"edge2\" class=\"edge\">\n",
              "<title>4432987088&#45;&gt;4432987152</title>\n",
              "<path fill=\"none\" stroke=\"black\" d=\"M54.32,-79.62C56.61,-74.17 59.41,-67.52 61.69,-62.11\"/>\n",
              "</g>\n",
              "<!-- 4432986896&#45;&gt;4432987152 -->\n",
              "<!-- 4432987344 -->\n",
              "<g id=\"node4\" class=\"node\">\n",
              "<title>4432987344</title>\n",
              "<path fill=\"none\" stroke=\"black\" stroke-width=\"0.25\" d=\"M7.91,-22C7.91,-22 3.98,-22 3.98,-22 2.02,-22 0.05,-20.04 0.05,-18.07 0.05,-18.07 0.05,-3.93 0.05,-3.93 0.05,-1.96 2.02,0 3.98,0 3.98,0 7.91,0 7.91,0 9.87,0 11.83,-1.96 11.83,-3.93 11.83,-3.93 11.83,-18.07 11.83,-18.07 11.83,-20.04 9.87,-22 7.91,-22\"/>\n",
              "<text text-anchor=\"middle\" x=\"5.94\" y=\"-6.8\" font-family=\"Times,serif\" font-size=\"14.00\">t</text>\n",
              "</g>\n",
              "<!-- 4432986896&#45;&gt;4432987344 -->\n",
              "<g id=\"edge4\" class=\"edge\">\n",
              "<title>4432986896&#45;&gt;4432987344</title>\n",
              "<path fill=\"none\" stroke=\"black\" d=\"M27.33,-40.02C22.49,-33.68 16.33,-25.61 11.87,-19.76\"/>\n",
              "</g>\n",
              "<!-- 4432986960 -->\n",
              "<g id=\"node5\" class=\"node\">\n",
              "<title>4432986960</title>\n",
              "<path fill=\"none\" stroke=\"black\" stroke-width=\"0.25\" d=\"M37.91,-22C37.91,-22 33.98,-22 33.98,-22 32.02,-22 30.05,-20.04 30.05,-18.07 30.05,-18.07 30.05,-3.93 30.05,-3.93 30.05,-1.96 32.02,0 33.98,0 33.98,0 37.91,0 37.91,0 39.87,0 41.83,-1.96 41.83,-3.93 41.83,-3.93 41.83,-18.07 41.83,-18.07 41.83,-20.04 39.87,-22 37.91,-22\"/>\n",
              "<text text-anchor=\"middle\" x=\"35.94\" y=\"-6.8\" font-family=\"Times,serif\" font-size=\"14.00\">t</text>\n",
              "</g>\n",
              "<!-- 4432986896&#45;&gt;4432986960 -->\n",
              "<g id=\"edge5\" class=\"edge\">\n",
              "<title>4432986896&#45;&gt;4432986960</title>\n",
              "<path fill=\"none\" stroke=\"black\" d=\"M35.22,-39.62C35.36,-34.17 35.54,-27.52 35.68,-22.11\"/>\n",
              "</g>\n",
              "<!-- 4432986832 -->\n",
              "<g id=\"node6\" class=\"node\">\n",
              "<title>4432986832</title>\n",
              "<path fill=\"none\" stroke=\"black\" stroke-width=\"0.25\" d=\"M67.91,-22C67.91,-22 63.98,-22 63.98,-22 62.02,-22 60.05,-20.04 60.05,-18.07 60.05,-18.07 60.05,-3.93 60.05,-3.93 60.05,-1.96 62.02,0 63.98,0 63.98,0 67.91,0 67.91,0 69.87,0 71.83,-1.96 71.83,-3.93 71.83,-3.93 71.83,-18.07 71.83,-18.07 71.83,-20.04 69.87,-22 67.91,-22\"/>\n",
              "<text text-anchor=\"middle\" x=\"65.94\" y=\"-6.8\" font-family=\"Times,serif\" font-size=\"14.00\">t</text>\n",
              "</g>\n",
              "<!-- 4432987152&#45;&gt;4432986832 -->\n",
              "<g id=\"edge7\" class=\"edge\">\n",
              "<title>4432987152&#45;&gt;4432986832</title>\n",
              "<path fill=\"none\" stroke=\"black\" d=\"M65.94,-39.62C65.94,-34.17 65.94,-27.52 65.94,-22.11\"/>\n",
              "</g>\n",
              "<!-- 4432986512 -->\n",
              "<g id=\"node7\" class=\"node\">\n",
              "<title>4432986512</title>\n",
              "<path fill=\"none\" stroke=\"black\" stroke-width=\"0.25\" d=\"M97.91,-22C97.91,-22 93.98,-22 93.98,-22 92.02,-22 90.05,-20.04 90.05,-18.07 90.05,-18.07 90.05,-3.93 90.05,-3.93 90.05,-1.96 92.02,0 93.98,0 93.98,0 97.91,0 97.91,0 99.87,0 101.83,-1.96 101.83,-3.93 101.83,-3.93 101.83,-18.07 101.83,-18.07 101.83,-20.04 99.87,-22 97.91,-22\"/>\n",
              "<text text-anchor=\"middle\" x=\"95.94\" y=\"-6.8\" font-family=\"Times,serif\" font-size=\"14.00\">t</text>\n",
              "</g>\n",
              "<!-- 4432987152&#45;&gt;4432986512 -->\n",
              "<g id=\"edge8\" class=\"edge\">\n",
              "<title>4432987152&#45;&gt;4432986512</title>\n",
              "<path fill=\"none\" stroke=\"black\" d=\"M72.02,-42.31C77.22,-35.72 84.68,-26.27 89.88,-19.68\"/>\n",
              "</g>\n",
              "<!-- 4432987344&#45;&gt;4432986960 -->\n",
              "<!-- 4432986832&#45;&gt;4432986512 -->\n",
              "</g>\n",
              "</svg>\n"
            ],
            "text/plain": [
              "(+: (*: (t), (t)), (/: (t), (t)))"
            ]
          },
          "execution_count": 15,
          "metadata": {},
          "output_type": "execute_result"
        }
      ],
      "source": [
        "Tree.from_lol(['+', ['*', ['t'], ['t']], ['/', ['t'], ['t']]])"
      ]
    },
    {
      "cell_type": "markdown",
      "metadata": {},
      "source": [
        "## Caso LL(1) (senza ε-regole), gli insiemi `FIRST` \n",
        "\n",
        "Se la grammatica non è \"semplice\" il caso non è disperato (almeno se non ci sono ε-regole). \n",
        "\n",
        "Supponiamo di conoscere, per ogni forma sentenziale $\\omega$, qual'è il primo terminale $t$ che (eventualmente) produrrà; detto in formule, supponiamo di conoscere l'insieme $\\operatorname{FIRST}(\\omega) = \\{ t \\in T \\mid \\omega\\overset{*}{\\to} t\\gamma, \\gamma\\in (N\\cup T)^+ \\}$. \n",
        "\n",
        "Allora potremmo determinare `TABLE` come segue:"
      ]
    },
    {
      "cell_type": "code",
      "execution_count": null,
      "metadata": {},
      "outputs": [],
      "source": [
        "def compute_table(G):\n",
        "    \n",
        "    TABLE = Table(2, no_reassign = True)\n",
        "\n",
        "    FIRST = compute_first(G)\n",
        "    \n",
        "    for P in G.P:\n",
        "        A, (B, *β) = P\n",
        "        for a in FIRST[B]:        \n",
        "            TABLE[A, a] = P\n",
        "\n",
        "    return TABLE"
      ]
    },
    {
      "cell_type": "markdown",
      "metadata": {},
      "source": [
        "Osservate che, data la produzione $A\\to B\\beta$ (con $\\beta$ eventualmente vuota), invece di usare $\\operatorname{FIRST}(B\\beta)$ ci siamo contentati di $\\operatorname{FIRST}(B)$ dal momento che (in assenza di ε-regole) evidentemente se $B\\beta\\overset{*}{\\to} t\\gamma$ allora $B\\overset{*}{\\to} t\\gamma'$ (dove $\\gamma'$ è un prefisso di $\\gamma$).\n",
        "\n",
        "Inoltre, la definizione di $\\operatorname{FIRST}$ suggerisce un semplice modo ricorsivo per calcolare $\\operatorname{FIRST}(X)$:\n",
        "\n",
        "* se $X\\in T$ allora per forza $\\operatorname{FIRST}(X) = \\{X\\}$;\n",
        "* viceversa, per tutte le produzioni $X\\to Y\\alpha$, doveremo \n",
        "aggiungere $\\operatorname{FIRST}(Y)$ a $\\operatorname{FIRST}(X)$."
      ]
    },
    {
      "cell_type": "code",
      "execution_count": null,
      "metadata": {},
      "outputs": [],
      "source": [
        "def compute_first(G):\n",
        "\n",
        "    def recursive_first(X): # X è G.T | G.N\n",
        "        return union_of(\n",
        "            recursive_first(Y)\n",
        "            for Y, *α in G.alternatives(X) if Y != X # occhio alla ricorsione a sinistra!\n",
        "        ) if X in G.N else {X}\n",
        "    \n",
        "    FIRST = Table(1)\n",
        "    for X in G.N | G.T: FIRST[X] = recursive_first(X)\n",
        "        \n",
        "    return FIRST"
      ]
    },
    {
      "cell_type": "markdown",
      "metadata": {},
      "source": [
        "Proviamo cosa accade con questa grammatica"
      ]
    },
    {
      "cell_type": "code",
      "execution_count": null,
      "metadata": {},
      "outputs": [
        {
          "data": {
            "text/plain": [
              "Grammar(N={Fact, Question, Session}, T={!, (, ), ?, STRING}, P=(Session -> Fact Session, Session -> Question, Session -> ( Session ) Session, Fact -> ! STRING, Question -> ? STRING), S=Session)"
            ]
          },
          "execution_count": 18,
          "metadata": {},
          "output_type": "execute_result"
        }
      ],
      "source": [
        "# fig. 8.7, pag. 240\n",
        "\n",
        "G = Grammar.from_string(\"\"\"\n",
        "Session -> Fact Session | Question\n",
        "Session -> ( Session ) Session\n",
        "Fact -> ! STRING\n",
        "Question -> ? STRING\n",
        "\"\"\")\n",
        "G"
      ]
    },
    {
      "cell_type": "code",
      "execution_count": null,
      "metadata": {},
      "outputs": [
        {
          "data": {
            "text/html": [
              "<style>td, th {border: 1pt solid lightgray !important; text-align: left !important;}</style><table><tr><th><pre>Fact</pre><td><pre>!</pre>\n",
              "<tr><th><pre>Session</pre><td><pre>!, (, ?</pre>\n",
              "<tr><th><pre>Question</pre><td><pre>?</pre></table>"
            ],
            "text/plain": [
              "<liblet.utils.Table at 0x1096954d0>"
            ]
          },
          "execution_count": 19,
          "metadata": {},
          "output_type": "execute_result"
        }
      ],
      "source": [
        "FIRST = compute_first(G)\n",
        "FIRST.restrict_to(G.N) # ci interessano solo le righe relative ai non terminali"
      ]
    },
    {
      "cell_type": "markdown",
      "metadata": {},
      "source": [
        "Correttamente, il non terminale `Session` può produrre parole che iniziano con `!`, `?` oppure `(`. Ora calcoliamo `TABLE` "
      ]
    },
    {
      "cell_type": "code",
      "execution_count": null,
      "metadata": {},
      "outputs": [
        {
          "data": {
            "text/html": [
              "<style>td, th {border: 1pt solid lightgray !important; text-align: left !important;}</style><table><tr><td>&nbsp;<th><pre>!</pre><th><pre>?</pre><th><pre>(</pre>\n",
              "<tr><th><pre>Session<pre><td><pre>Session -> Fact Session</pre><td><pre>Session -> Question</pre><td><pre>Session -> ( Session ) Session</pre>\n",
              "<tr><th><pre>Fact<pre><td><pre>Fact -> ! STRING</pre><td>&nbsp;<td>&nbsp;\n",
              "<tr><th><pre>Question<pre><td>&nbsp;<td><pre>Question -> ? STRING</pre><td>&nbsp;\n",
              "</table>"
            ],
            "text/plain": [
              "<liblet.utils.Table at 0x109695f10>"
            ]
          },
          "execution_count": 20,
          "metadata": {},
          "output_type": "execute_result"
        }
      ],
      "source": [
        "TABLE = compute_table(G)\n",
        "TABLE"
      ]
    },
    {
      "cell_type": "markdown",
      "metadata": {},
      "source": [
        "Ora possiamo usare esattamente lo stesso `parse_noε`, passando questa tabella, per derivare una parola"
      ]
    },
    {
      "cell_type": "code",
      "execution_count": null,
      "metadata": {},
      "outputs": [],
      "source": [
        "INPUT = '! STRING ! STRING ? STRING #'.split()"
      ]
    },
    {
      "cell_type": "code",
      "execution_count": null,
      "metadata": {},
      "outputs": [
        {
          "data": {
            "image/svg+xml": [
              "<?xml version=\"1.0\" encoding=\"UTF-8\" standalone=\"no\"?>\n",
              "<!DOCTYPE svg PUBLIC \"-//W3C//DTD SVG 1.1//EN\"\n",
              " \"http://www.w3.org/Graphics/SVG/1.1/DTD/svg11.dtd\">\n",
              "<!-- Generated by graphviz version 2.43.0 (0)\n",
              " -->\n",
              "<!-- Title: %3 Pages: 1 -->\n",
              "<svg width=\"265pt\" height=\"190pt\"\n",
              " viewBox=\"0.00 0.00 264.61 190.00\" xmlns=\"http://www.w3.org/2000/svg\" xmlns:xlink=\"http://www.w3.org/1999/xlink\">\n",
              "<g id=\"graph0\" class=\"graph\" transform=\"scale(1 1) rotate(0) translate(4 186)\">\n",
              "<title>%3</title>\n",
              "<polygon fill=\"white\" stroke=\"transparent\" points=\"-4,4 -4,-186 260.61,-186 260.61,4 -4,4\"/>\n",
              "<!-- &#45;736389231555927931 -->\n",
              "<g id=\"node1\" class=\"node\">\n",
              "<title>&#45;736389231555927931</title>\n",
              "<path fill=\"none\" stroke=\"black\" stroke-width=\"0.25\" d=\"M109.28,-182C109.28,-182 73.38,-182 73.38,-182 69.71,-182 66.04,-178.33 66.04,-174.67 66.04,-174.67 66.04,-167.33 66.04,-167.33 66.04,-163.67 69.71,-160 73.38,-160 73.38,-160 109.28,-160 109.28,-160 112.95,-160 116.62,-163.67 116.62,-167.33 116.62,-167.33 116.62,-174.67 116.62,-174.67 116.62,-178.33 112.95,-182 109.28,-182\"/>\n",
              "<text text-anchor=\"middle\" x=\"91.33\" y=\"-166.8\" font-family=\"Times,serif\" font-size=\"14.00\">Session</text>\n",
              "</g>\n",
              "<!-- &#45;3693802221302236958 -->\n",
              "<g id=\"node2\" class=\"node\">\n",
              "<title>&#45;3693802221302236958</title>\n",
              "<path fill=\"none\" stroke=\"black\" stroke-width=\"0.25\" d=\"M71.1,-142C71.1,-142 53.56,-142 53.56,-142 49.89,-142 46.23,-138.33 46.23,-134.67 46.23,-134.67 46.23,-127.33 46.23,-127.33 46.23,-123.67 49.89,-120 53.56,-120 53.56,-120 71.1,-120 71.1,-120 74.77,-120 78.43,-123.67 78.43,-127.33 78.43,-127.33 78.43,-134.67 78.43,-134.67 78.43,-138.33 74.77,-142 71.1,-142\"/>\n",
              "<text text-anchor=\"middle\" x=\"62.33\" y=\"-126.8\" font-family=\"Times,serif\" font-size=\"14.00\">Fact</text>\n",
              "</g>\n",
              "<!-- &#45;736389231555927931&#45;&gt;&#45;3693802221302236958 -->\n",
              "<g id=\"edge1\" class=\"edge\">\n",
              "<title>&#45;736389231555927931&#45;&gt;&#45;3693802221302236958</title>\n",
              "<path fill=\"none\" stroke=\"black\" stroke-width=\"0.5\" d=\"M83.41,-159.62C79.25,-154.17 74.17,-147.52 70.05,-142.11\"/>\n",
              "</g>\n",
              "<!-- &#45;736387970360094157 -->\n",
              "<g id=\"node3\" class=\"node\">\n",
              "<title>&#45;736387970360094157</title>\n",
              "<path fill=\"none\" stroke=\"black\" stroke-width=\"0.25\" d=\"M140.28,-142C140.28,-142 104.38,-142 104.38,-142 100.71,-142 97.04,-138.33 97.04,-134.67 97.04,-134.67 97.04,-127.33 97.04,-127.33 97.04,-123.67 100.71,-120 104.38,-120 104.38,-120 140.28,-120 140.28,-120 143.95,-120 147.62,-123.67 147.62,-127.33 147.62,-127.33 147.62,-134.67 147.62,-134.67 147.62,-138.33 143.95,-142 140.28,-142\"/>\n",
              "<text text-anchor=\"middle\" x=\"122.33\" y=\"-126.8\" font-family=\"Times,serif\" font-size=\"14.00\">Session</text>\n",
              "</g>\n",
              "<!-- &#45;736389231555927931&#45;&gt;&#45;736387970360094157 -->\n",
              "<g id=\"edge2\" class=\"edge\">\n",
              "<title>&#45;736389231555927931&#45;&gt;&#45;736387970360094157</title>\n",
              "<path fill=\"none\" stroke=\"black\" stroke-width=\"0.5\" d=\"M99.8,-159.62C104.25,-154.17 109.67,-147.52 114.08,-142.11\"/>\n",
              "</g>\n",
              "<!-- &#45;3693802221302236958&#45;&gt;&#45;736387970360094157 -->\n",
              "<!-- &#45;1773337971874720975 -->\n",
              "<g id=\"node4\" class=\"node\">\n",
              "<title>&#45;1773337971874720975</title>\n",
              "<path fill=\"none\" stroke=\"black\" stroke-width=\"1.25\" d=\"M8.39,-102C8.39,-102 4.28,-102 4.28,-102 2.22,-102 0.16,-99.94 0.16,-97.89 0.16,-97.89 0.16,-84.11 0.16,-84.11 0.16,-82.06 2.22,-80 4.28,-80 4.28,-80 8.39,-80 8.39,-80 10.44,-80 12.5,-82.06 12.5,-84.11 12.5,-84.11 12.5,-97.89 12.5,-97.89 12.5,-99.94 10.44,-102 8.39,-102\"/>\n",
              "<text text-anchor=\"middle\" x=\"6.33\" y=\"-86.8\" font-family=\"Times,serif\" font-size=\"14.00\">!</text>\n",
              "</g>\n",
              "<!-- &#45;3693802221302236958&#45;&gt;&#45;1773337971874720975 -->\n",
              "<g id=\"edge4\" class=\"edge\">\n",
              "<title>&#45;3693802221302236958&#45;&gt;&#45;1773337971874720975</title>\n",
              "<path fill=\"none\" stroke=\"black\" stroke-width=\"0.5\" d=\"M47.32,-119.82C35.92,-112.08 20.82,-101.83 12.5,-96.18\"/>\n",
              "</g>\n",
              "<!-- &#45;3904699237752363933 -->\n",
              "<g id=\"node5\" class=\"node\">\n",
              "<title>&#45;3904699237752363933</title>\n",
              "<path fill=\"none\" stroke=\"black\" stroke-width=\"1.25\" d=\"M82.06,-102C82.06,-102 38.6,-102 38.6,-102 34.94,-102 31.27,-98.33 31.27,-94.67 31.27,-94.67 31.27,-87.33 31.27,-87.33 31.27,-83.67 34.94,-80 38.6,-80 38.6,-80 82.06,-80 82.06,-80 85.72,-80 89.39,-83.67 89.39,-87.33 89.39,-87.33 89.39,-94.67 89.39,-94.67 89.39,-98.33 85.72,-102 82.06,-102\"/>\n",
              "<text text-anchor=\"middle\" x=\"60.33\" y=\"-86.8\" font-family=\"Times,serif\" font-size=\"14.00\">STRING</text>\n",
              "</g>\n",
              "<!-- &#45;3693802221302236958&#45;&gt;&#45;3904699237752363933 -->\n",
              "<g id=\"edge5\" class=\"edge\">\n",
              "<title>&#45;3693802221302236958&#45;&gt;&#45;3904699237752363933</title>\n",
              "<path fill=\"none\" stroke=\"black\" stroke-width=\"0.5\" d=\"M61.78,-119.62C61.5,-114.17 61.15,-107.52 60.86,-102.11\"/>\n",
              "</g>\n",
              "<!-- &#45;3693799698908239312 -->\n",
              "<g id=\"node6\" class=\"node\">\n",
              "<title>&#45;3693799698908239312</title>\n",
              "<path fill=\"none\" stroke=\"black\" stroke-width=\"0.25\" d=\"M132.1,-102C132.1,-102 114.56,-102 114.56,-102 110.89,-102 107.23,-98.33 107.23,-94.67 107.23,-94.67 107.23,-87.33 107.23,-87.33 107.23,-83.67 110.89,-80 114.56,-80 114.56,-80 132.1,-80 132.1,-80 135.77,-80 139.43,-83.67 139.43,-87.33 139.43,-87.33 139.43,-94.67 139.43,-94.67 139.43,-98.33 135.77,-102 132.1,-102\"/>\n",
              "<text text-anchor=\"middle\" x=\"123.33\" y=\"-86.8\" font-family=\"Times,serif\" font-size=\"14.00\">Fact</text>\n",
              "</g>\n",
              "<!-- &#45;736387970360094157&#45;&gt;&#45;3693799698908239312 -->\n",
              "<g id=\"edge7\" class=\"edge\">\n",
              "<title>&#45;736387970360094157&#45;&gt;&#45;3693799698908239312</title>\n",
              "<path fill=\"none\" stroke=\"black\" stroke-width=\"0.5\" d=\"M122.6,-119.62C122.75,-114.17 122.92,-107.52 123.07,-102.11\"/>\n",
              "</g>\n",
              "<!-- &#45;736390492754091803 -->\n",
              "<g id=\"node7\" class=\"node\">\n",
              "<title>&#45;736390492754091803</title>\n",
              "<path fill=\"none\" stroke=\"black\" stroke-width=\"0.25\" d=\"M200.28,-102C200.28,-102 164.38,-102 164.38,-102 160.71,-102 157.04,-98.33 157.04,-94.67 157.04,-94.67 157.04,-87.33 157.04,-87.33 157.04,-83.67 160.71,-80 164.38,-80 164.38,-80 200.28,-80 200.28,-80 203.95,-80 207.62,-83.67 207.62,-87.33 207.62,-87.33 207.62,-94.67 207.62,-94.67 207.62,-98.33 203.95,-102 200.28,-102\"/>\n",
              "<text text-anchor=\"middle\" x=\"182.33\" y=\"-86.8\" font-family=\"Times,serif\" font-size=\"14.00\">Session</text>\n",
              "</g>\n",
              "<!-- &#45;736387970360094157&#45;&gt;&#45;736390492754091803 -->\n",
              "<g id=\"edge8\" class=\"edge\">\n",
              "<title>&#45;736387970360094157&#45;&gt;&#45;736390492754091803</title>\n",
              "<path fill=\"none\" stroke=\"black\" stroke-width=\"0.5\" d=\"M138.41,-119.82C147.02,-114.36 157.59,-107.67 166.21,-102.21\"/>\n",
              "</g>\n",
              "<!-- &#45;1773337971874720975&#45;&gt;&#45;3904699237752363933 -->\n",
              "<!-- &#45;3693799698908239312&#45;&gt;&#45;736390492754091803 -->\n",
              "<!-- &#45;1773335449480723329 -->\n",
              "<g id=\"node8\" class=\"node\">\n",
              "<title>&#45;1773335449480723329</title>\n",
              "<path fill=\"none\" stroke=\"black\" stroke-width=\"1.25\" d=\"M71.39,-62C71.39,-62 67.28,-62 67.28,-62 65.22,-62 63.16,-59.94 63.16,-57.89 63.16,-57.89 63.16,-44.11 63.16,-44.11 63.16,-42.06 65.22,-40 67.28,-40 67.28,-40 71.39,-40 71.39,-40 73.44,-40 75.5,-42.06 75.5,-44.11 75.5,-44.11 75.5,-57.89 75.5,-57.89 75.5,-59.94 73.44,-62 71.39,-62\"/>\n",
              "<text text-anchor=\"middle\" x=\"69.33\" y=\"-46.8\" font-family=\"Times,serif\" font-size=\"14.00\">!</text>\n",
              "</g>\n",
              "<!-- &#45;3693799698908239312&#45;&gt;&#45;1773335449480723329 -->\n",
              "<g id=\"edge10\" class=\"edge\">\n",
              "<title>&#45;3693799698908239312&#45;&gt;&#45;1773335449480723329</title>\n",
              "<path fill=\"none\" stroke=\"black\" stroke-width=\"0.5\" d=\"M108.86,-79.82C97.99,-72.17 83.63,-62.06 75.55,-56.38\"/>\n",
              "</g>\n",
              "<!-- &#45;3904706804934356871 -->\n",
              "<g id=\"node9\" class=\"node\">\n",
              "<title>&#45;3904706804934356871</title>\n",
              "<path fill=\"none\" stroke=\"black\" stroke-width=\"1.25\" d=\"M145.06,-62C145.06,-62 101.6,-62 101.6,-62 97.94,-62 94.27,-58.33 94.27,-54.67 94.27,-54.67 94.27,-47.33 94.27,-47.33 94.27,-43.67 97.94,-40 101.6,-40 101.6,-40 145.06,-40 145.06,-40 148.72,-40 152.39,-43.67 152.39,-47.33 152.39,-47.33 152.39,-54.67 152.39,-54.67 152.39,-58.33 148.72,-62 145.06,-62\"/>\n",
              "<text text-anchor=\"middle\" x=\"123.33\" y=\"-46.8\" font-family=\"Times,serif\" font-size=\"14.00\">STRING</text>\n",
              "</g>\n",
              "<!-- &#45;3693799698908239312&#45;&gt;&#45;3904706804934356871 -->\n",
              "<g id=\"edge11\" class=\"edge\">\n",
              "<title>&#45;3693799698908239312&#45;&gt;&#45;3904706804934356871</title>\n",
              "<path fill=\"none\" stroke=\"black\" stroke-width=\"0.5\" d=\"M123.33,-79.62C123.33,-74.17 123.33,-67.52 123.33,-62.11\"/>\n",
              "</g>\n",
              "<!-- &#45;8472532328452031589 -->\n",
              "<g id=\"node10\" class=\"node\">\n",
              "<title>&#45;8472532328452031589</title>\n",
              "<path fill=\"none\" stroke=\"black\" stroke-width=\"0.25\" d=\"M222.05,-62C222.05,-62 178.61,-62 178.61,-62 174.94,-62 171.28,-58.33 171.28,-54.67 171.28,-54.67 171.28,-47.33 171.28,-47.33 171.28,-43.67 174.94,-40 178.61,-40 178.61,-40 222.05,-40 222.05,-40 225.72,-40 229.38,-43.67 229.38,-47.33 229.38,-47.33 229.38,-54.67 229.38,-54.67 229.38,-58.33 225.72,-62 222.05,-62\"/>\n",
              "<text text-anchor=\"middle\" x=\"200.33\" y=\"-46.8\" font-family=\"Times,serif\" font-size=\"14.00\">Question</text>\n",
              "</g>\n",
              "<!-- &#45;736390492754091803&#45;&gt;&#45;8472532328452031589 -->\n",
              "<g id=\"edge13\" class=\"edge\">\n",
              "<title>&#45;736390492754091803&#45;&gt;&#45;8472532328452031589</title>\n",
              "<path fill=\"none\" stroke=\"black\" stroke-width=\"0.5\" d=\"M187.25,-79.62C189.83,-74.17 192.98,-67.52 195.54,-62.11\"/>\n",
              "</g>\n",
              "<!-- &#45;1773335449480723329&#45;&gt;&#45;3904706804934356871 -->\n",
              "<!-- 5933314517586098421 -->\n",
              "<g id=\"node11\" class=\"node\">\n",
              "<title>5933314517586098421</title>\n",
              "<path fill=\"none\" stroke=\"black\" stroke-width=\"1.25\" d=\"M175.74,-22C175.74,-22 170.93,-22 170.93,-22 168.52,-22 166.12,-19.59 166.12,-17.19 166.12,-17.19 166.12,-4.81 166.12,-4.81 166.12,-2.41 168.52,0 170.93,0 170.93,0 175.74,0 175.74,0 178.14,0 180.55,-2.41 180.55,-4.81 180.55,-4.81 180.55,-17.19 180.55,-17.19 180.55,-19.59 178.14,-22 175.74,-22\"/>\n",
              "<text text-anchor=\"middle\" x=\"173.33\" y=\"-6.8\" font-family=\"Times,serif\" font-size=\"14.00\">?</text>\n",
              "</g>\n",
              "<!-- &#45;8472532328452031589&#45;&gt;5933314517586098421 -->\n",
              "<g id=\"edge14\" class=\"edge\">\n",
              "<title>&#45;8472532328452031589&#45;&gt;5933314517586098421</title>\n",
              "<path fill=\"none\" stroke=\"black\" stroke-width=\"0.5\" d=\"M192.95,-39.62C189.08,-34.17 184.36,-27.52 180.51,-22.11\"/>\n",
              "</g>\n",
              "<!-- &#45;3904704282540359225 -->\n",
              "<g id=\"node12\" class=\"node\">\n",
              "<title>&#45;3904704282540359225</title>\n",
              "<path fill=\"none\" stroke=\"black\" stroke-width=\"1.25\" d=\"M249.06,-22C249.06,-22 205.6,-22 205.6,-22 201.94,-22 198.27,-18.33 198.27,-14.67 198.27,-14.67 198.27,-7.33 198.27,-7.33 198.27,-3.67 201.94,0 205.6,0 205.6,0 249.06,0 249.06,0 252.72,0 256.39,-3.67 256.39,-7.33 256.39,-7.33 256.39,-14.67 256.39,-14.67 256.39,-18.33 252.72,-22 249.06,-22\"/>\n",
              "<text text-anchor=\"middle\" x=\"227.33\" y=\"-6.8\" font-family=\"Times,serif\" font-size=\"14.00\">STRING</text>\n",
              "</g>\n",
              "<!-- &#45;8472532328452031589&#45;&gt;&#45;3904704282540359225 -->\n",
              "<g id=\"edge15\" class=\"edge\">\n",
              "<title>&#45;8472532328452031589&#45;&gt;&#45;3904704282540359225</title>\n",
              "<path fill=\"none\" stroke=\"black\" stroke-width=\"0.5\" d=\"M207.71,-39.62C211.58,-34.17 216.31,-27.52 220.15,-22.11\"/>\n",
              "</g>\n",
              "<!-- 5933314517586098421&#45;&gt;&#45;3904704282540359225 -->\n",
              "</g>\n",
              "</svg>\n"
            ],
            "text/plain": [
              "ProductionGraph(Session -> Fact Session -> ! STRING Session -> ! STRING Fact Session -> ! STRING ! STRING Session -> ! STRING ! STRING Question -> ! STRING ! STRING ? STRING)"
            ]
          },
          "execution_count": 22,
          "metadata": {},
          "output_type": "execute_result"
        }
      ],
      "source": [
        "ProductionGraph(parse_noε(G, TABLE, INPUT))"
      ]
    },
    {
      "cell_type": "markdown",
      "metadata": {},
      "source": [
        "# <span style=\"color: red;\">Approfondimento per casa</span>: cosa accade con le ε-regole? \n",
        "\n",
        "Consideriamo la seguente versione più \"naturale\" della precedente grammatica:\n"
      ]
    },
    {
      "cell_type": "code",
      "execution_count": null,
      "metadata": {},
      "outputs": [
        {
          "data": {
            "text/plain": [
              "Grammar(N={Fact, Facts, Question, Session}, T={!, (, ), ?, STRING}, P=(Session -> Facts Question, Session -> ( Session ) Session, Facts -> Fact Facts, Facts -> ε, Fact -> ! STRING, Question -> ? STRING), S=Session)"
            ]
          },
          "execution_count": 23,
          "metadata": {},
          "output_type": "execute_result"
        }
      ],
      "source": [
        "# fig. 8.9, pag. 242\n",
        "\n",
        "G = Grammar.from_string(\"\"\"\n",
        "Session -> Facts Question | ( Session ) Session\n",
        "Facts -> Fact Facts | ε\n",
        "Fact -> ! STRING\n",
        "Question -> ? STRING\n",
        "\"\"\")\n",
        "G"
      ]
    },
    {
      "cell_type": "markdown",
      "metadata": {},
      "source": [
        "## Estendere il calcolo di `FIRST` al caso con ε-regole\n",
        "\n",
        "Evidentemente non potremo più semplificarci la vita considerando $\\operatorname{FIRST}(B\\beta) = \\operatorname{FIRST}(B)$, perché se $B\\to\\varepsilon$ (altrimenti detto $\\varepsilon\\in \\operatorname{FIRST}(B)$ per prima cosa non è detto che $\\varepsilon\\in \\operatorname{FIRST}(B\\beta)$ (perché potrebbe essere che $\\varepsilon\\not\\in \\operatorname{FIRST}(\\beta)$), ma sopratutto dovremo aggiungere $\\operatorname{FIRST}(\\beta)$ a $\\operatorname{FIRST}(B\\beta)$ per tenere conto del caso in cui la prima produzione sia proprio quella che \"fa sparire\" $B$!\n",
        "\n",
        "Ovviamente il ragionamento interessa tutti i suffissi di una forma sentenziale, che possono essere elencati come segue"
      ]
    },
    {
      "cell_type": "code",
      "execution_count": null,
      "metadata": {},
      "outputs": [],
      "source": [
        "def suffixes(α):\n",
        "    for i in range(len(α)): \n",
        "        yield α[i:]"
      ]
    },
    {
      "cell_type": "markdown",
      "metadata": {},
      "source": [
        "Siamo pronti per aggiornare il caloclo di `FIRST`, questa volta per semplificarci la vita useremo una chiusura:"
      ]
    },
    {
      "cell_type": "code",
      "execution_count": null,
      "metadata": {},
      "outputs": [],
      "source": [
        "def compute_εfirst(G):\n",
        "\n",
        "    FIRST = Table(1, element = set) # questo significa che gli elementi dell tabella sono insiemi\n",
        "\n",
        "    # per prima cosa, il caso banele \n",
        "    for t in G.T: FIRST[(t, )] = {t} # attensione, gli indici sono forme sentenziali, ossia tuple!\n",
        "        \n",
        "    # qualche caso \"extra\" che ci verrà comodo poi    \n",
        "    FIRST[tuple()] = {'ε'}\n",
        "    FIRST[('ε', )] = {'ε'}\n",
        "    FIRST[('#', )] = {'#'}\n",
        "\n",
        "    @closure\n",
        "    def update_with_suffixes(FIRST):\n",
        "        for N, α in G.P:\n",
        "            FIRST[(N, )] |= FIRST[α]\n",
        "            for γ in suffixes(α):\n",
        "                A, *β = γ\n",
        "                FIRST[γ] |= FIRST[(A, )] - {'ε'}\n",
        "                if 'ε' in FIRST[(A, )]: FIRST[γ] |= FIRST[β]\n",
        "        return FIRST\n",
        "\n",
        "    return update_with_suffixes(FIRST)"
      ]
    },
    {
      "cell_type": "code",
      "execution_count": null,
      "metadata": {},
      "outputs": [
        {
          "data": {
            "text/html": [
              "<style>td, th {border: 1pt solid lightgray !important; text-align: left !important;}</style><table><tr><th><pre>(Question)</pre><td><pre>?</pre>\n",
              "<tr><th><pre>(Session)</pre><td><pre>!, (, ?</pre>\n",
              "<tr><th><pre>(Fact)</pre><td><pre>!</pre>\n",
              "<tr><th><pre>(Facts)</pre><td><pre>!, ε</pre></table>"
            ],
            "text/plain": [
              "<liblet.utils.Table at 0x109655710>"
            ]
          },
          "execution_count": 26,
          "metadata": {},
          "output_type": "execute_result"
        }
      ],
      "source": [
        "FIRST = compute_εfirst(G)\n",
        "FIRST.restrict_to({(X, ) for X in G.N})"
      ]
    },
    {
      "cell_type": "markdown",
      "metadata": {},
      "source": [
        "Quanto ottenuto fin qui è corretto, ma `FIST` contiene valori solo per certe forme sentenziali, non per tutte. Non è però difficile estenderlo in modo che funzioni in generale.\n",
        "\n",
        "Ragionando in maniera ricorsiva (come abbiamo fatto in `compute_εfirst`) è possibile passare da un insieme ad una funzione che calcoli $\\operatorname{FIRST}(\\omega)$ qualunque sia $\\omega$"
      ]
    },
    {
      "cell_type": "code",
      "execution_count": null,
      "metadata": {},
      "outputs": [],
      "source": [
        "def make_first_function(FIRST):\n",
        "    @show_calls(True)\n",
        "    def FIRSTf(ω):\n",
        "        if not ω: return {'ε'}\n",
        "        X, *γ = ω\n",
        "        fx = FIRST[(X, )]\n",
        "        if 'ε' in fx:\n",
        "            return (fx - {'ε'}) | FIRSTf(γ)\n",
        "        else:\n",
        "            return fx\n",
        "    return FIRSTf"
      ]
    },
    {
      "cell_type": "markdown",
      "metadata": {},
      "source": [
        "Possiamo provarla su una forma addirittura non derivabile da $S$"
      ]
    },
    {
      "cell_type": "code",
      "execution_count": null,
      "metadata": {},
      "outputs": [],
      "source": [
        "FIRSTf = make_first_function(FIRST)"
      ]
    },
    {
      "cell_type": "code",
      "execution_count": null,
      "metadata": {},
      "outputs": [
        {
          "name": "stdout",
          "output_type": "stream",
          "text": [
            "┌FIRSTf(('Facts', 'Facts', 'Question', '#'))\n",
            "│┌FIRSTf(['Facts', 'Question', '#'])\n",
            "││┌FIRSTf(['Question', '#'])\n",
            "││└─ {'?'}\n",
            "│└─ {'!', '?'}\n",
            "└─ {'!', '?'}\n"
          ]
        },
        {
          "data": {
            "text/plain": [
              "{'!', '?'}"
            ]
          },
          "execution_count": 29,
          "metadata": {},
          "output_type": "execute_result"
        }
      ],
      "source": [
        "FIRSTf(('Facts', 'Facts', 'Question', '#' ))"
      ]
    },
    {
      "cell_type": "markdown",
      "metadata": {},
      "source": [
        "Ora la nostra speranza è poter calcolare `TABLE` a partire da `FRISTf`, ma purtroppo è impossibile auspicarsi di poter decidere che produzione usare considerando solo il simbolo $A$ in cima alla pila, dato che potrebbe darsi il caso che $A\\to\\varepsilon$.\n",
        "\n",
        "## Estendere il calcolo di  `TABLE` al caso con ε-regole\n",
        "\n",
        "Violando completamente l'idea di avere a che fare con un automa a pila, dobbiamo consentire ad ogni passo che venga ispezionata tutta la pila! Detto altrimenti, dobbiamo pensare ad una funzione `TABLEf` che, dato il prossimo non terminale e *tutta* la pila, ci indichi quale produzione usare:"
      ]
    },
    {
      "cell_type": "code",
      "execution_count": null,
      "metadata": {},
      "outputs": [],
      "source": [
        "def make_table_function(G, FIRSTf):\n",
        "    \n",
        "    #@show_calls(True)\n",
        "    def TABLEf(stack, a):\n",
        "        P = None\n",
        "        *Γ, A = list(stack) # la pila è (Γ, A)\n",
        "        for α in G.alternatives(A):\n",
        "            γ = α + tuple(reversed(Γ)) # la forma sentenziale è α seguita da Γ (rovesciato)\n",
        "            if a in FIRSTf(γ):\n",
        "                if P is None: \n",
        "                    P = Production(A, α)\n",
        "                else:\n",
        "                    warn('Conflict: γ = {}, a = {}, prediction was {}'.format(γ, a, P))\n",
        "        return P\n",
        "    \n",
        "    return TABLEf"
      ]
    },
    {
      "cell_type": "markdown",
      "metadata": {},
      "source": [
        "La logica è che data una pila $(\\Gamma, A)$ una produzione $A\\to \\alpha$ è un buon candidato visto il terminale $a$ se accade che $a\\in FIRST(\\alpha\\Gamma^R)$ dove $\\Gamma^R$ è la parola ottenuta concatenando i simboli sulla pila da quello più in basso a quello più in alto."
      ]
    },
    {
      "cell_type": "code",
      "execution_count": null,
      "metadata": {},
      "outputs": [],
      "source": [
        "TABLEf = make_table_function(G, FIRSTf)"
      ]
    },
    {
      "cell_type": "markdown",
      "metadata": {},
      "source": [
        "## Il parser Full LL(1)\n",
        "\n",
        "Ora manca qualche piccolo aggiustamento a `parse_noε` per trasformarlo in un parser *full LL(1)* che chiameremo `full_parse`; le principali differenze sono:\n",
        "\n",
        "* ignorare le $\\varepsilon$ aggiunti in pila (per via delle ε-regole),\n",
        "* usare la funzione `TABLEf` (basata sulla funzione `FIRSTf`) al posto della tabella `TABLE` (basata sulla tabella `FIRST`.\n",
        "\n",
        "Ovviamente il \"piccolo\" aggiustamento ha un impatto notevole sul tempo di calcolo!"
      ]
    },
    {
      "cell_type": "code",
      "execution_count": null,
      "metadata": {},
      "outputs": [],
      "source": [
        "def full_parse(G, TABLEf, INPUT):\n",
        "    deriv = Derivation(G)\n",
        "    rest = tuple(INPUT) + ('#', )\n",
        "    stack = Stack(['#', G.S])\n",
        "    while stack:\n",
        "        copy = stack.copy()\n",
        "        top = stack.pop()\n",
        "        if top == 'ε': continue\n",
        "        first, *other = rest\n",
        "        if top in G.T | {'#'}:\n",
        "            if first == top:\n",
        "                rest = other\n",
        "            else:\n",
        "                warn('Expecting {}, got {}.'.format(top, first))\n",
        "                return None\n",
        "        else:\n",
        "            P = TABLEf(copy, first)\n",
        "            if P is None:\n",
        "                warn('No prediction for ({}, {}) at {}.'.format(top, first, deriv) )\n",
        "                return None \n",
        "            deriv = deriv.leftmost(P)\n",
        "            for X in reversed(P.rhs): stack.push(X)\n",
        "    return deriv"
      ]
    },
    {
      "cell_type": "markdown",
      "metadata": {},
      "source": [
        "Proviamo ad effettuare il parse della setssa parola di prima"
      ]
    },
    {
      "cell_type": "code",
      "execution_count": null,
      "metadata": {},
      "outputs": [
        {
          "name": "stdout",
          "output_type": "stream",
          "text": [
            "┌FIRSTf(('Facts', 'Question', '#'))\n",
            "│┌FIRSTf(['Question', '#'])\n",
            "│└─ {'?'}\n",
            "└─ {'!', '?'}\n",
            "┌FIRSTf(('(', 'Session', ')', 'Session', '#'))\n",
            "└─ {'('}\n",
            "┌FIRSTf(('Fact', 'Facts', 'Question', '#'))\n",
            "└─ {'!'}\n",
            "┌FIRSTf(('ε', 'Question', '#'))\n",
            "│┌FIRSTf(['Question', '#'])\n",
            "│└─ {'?'}\n",
            "└─ {'?'}\n",
            "┌FIRSTf(('!', 'STRING', 'Facts', 'Question', '#'))\n",
            "└─ {'!'}\n",
            "┌FIRSTf(('Fact', 'Facts', 'Question', '#'))\n",
            "└─ {'!'}\n",
            "┌FIRSTf(('ε', 'Question', '#'))\n",
            "│┌FIRSTf(['Question', '#'])\n",
            "│└─ {'?'}\n",
            "└─ {'?'}\n",
            "┌FIRSTf(('!', 'STRING', 'Facts', 'Question', '#'))\n",
            "└─ {'!'}\n",
            "┌FIRSTf(('Fact', 'Facts', 'Question', '#'))\n",
            "└─ {'!'}\n",
            "┌FIRSTf(('ε', 'Question', '#'))\n",
            "│┌FIRSTf(['Question', '#'])\n",
            "│└─ {'?'}\n",
            "└─ {'?'}\n",
            "┌FIRSTf(('?', 'STRING', '#'))\n",
            "└─ {'?'}\n"
          ]
        }
      ],
      "source": [
        "d = full_parse(G, TABLEf, INPUT)"
      ]
    },
    {
      "cell_type": "code",
      "execution_count": null,
      "metadata": {},
      "outputs": [
        {
          "data": {
            "image/svg+xml": [
              "<?xml version=\"1.0\" encoding=\"UTF-8\" standalone=\"no\"?>\n",
              "<!DOCTYPE svg PUBLIC \"-//W3C//DTD SVG 1.1//EN\"\n",
              " \"http://www.w3.org/Graphics/SVG/1.1/DTD/svg11.dtd\">\n",
              "<!-- Generated by graphviz version 2.43.0 (0)\n",
              " -->\n",
              "<!-- Title: %3 Pages: 1 -->\n",
              "<svg width=\"267pt\" height=\"190pt\"\n",
              " viewBox=\"0.00 0.00 266.61 190.00\" xmlns=\"http://www.w3.org/2000/svg\" xmlns:xlink=\"http://www.w3.org/1999/xlink\">\n",
              "<g id=\"graph0\" class=\"graph\" transform=\"scale(1 1) rotate(0) translate(4 186)\">\n",
              "<title>%3</title>\n",
              "<polygon fill=\"white\" stroke=\"transparent\" points=\"-4,4 -4,-186 262.61,-186 262.61,4 -4,4\"/>\n",
              "<!-- &#45;736389231555927931 -->\n",
              "<g id=\"node1\" class=\"node\">\n",
              "<title>&#45;736389231555927931</title>\n",
              "<path fill=\"none\" stroke=\"black\" stroke-width=\"0.25\" d=\"M165.28,-182C165.28,-182 129.38,-182 129.38,-182 125.71,-182 122.04,-178.33 122.04,-174.67 122.04,-174.67 122.04,-167.33 122.04,-167.33 122.04,-163.67 125.71,-160 129.38,-160 129.38,-160 165.28,-160 165.28,-160 168.95,-160 172.62,-163.67 172.62,-167.33 172.62,-167.33 172.62,-174.67 172.62,-174.67 172.62,-178.33 168.95,-182 165.28,-182\"/>\n",
              "<text text-anchor=\"middle\" x=\"147.33\" y=\"-166.8\" font-family=\"Times,serif\" font-size=\"14.00\">Session</text>\n",
              "</g>\n",
              "<!-- 1859765820020701408 -->\n",
              "<g id=\"node2\" class=\"node\">\n",
              "<title>1859765820020701408</title>\n",
              "<path fill=\"none\" stroke=\"black\" stroke-width=\"0.25\" d=\"M125.55,-142C125.55,-142 103.11,-142 103.11,-142 99.44,-142 95.78,-138.33 95.78,-134.67 95.78,-134.67 95.78,-127.33 95.78,-127.33 95.78,-123.67 99.44,-120 103.11,-120 103.11,-120 125.55,-120 125.55,-120 129.22,-120 132.89,-123.67 132.89,-127.33 132.89,-127.33 132.89,-134.67 132.89,-134.67 132.89,-138.33 129.22,-142 125.55,-142\"/>\n",
              "<text text-anchor=\"middle\" x=\"114.33\" y=\"-126.8\" font-family=\"Times,serif\" font-size=\"14.00\">Facts</text>\n",
              "</g>\n",
              "<!-- &#45;736389231555927931&#45;&gt;1859765820020701408 -->\n",
              "<g id=\"edge1\" class=\"edge\">\n",
              "<title>&#45;736389231555927931&#45;&gt;1859765820020701408</title>\n",
              "<path fill=\"none\" stroke=\"black\" stroke-width=\"0.5\" d=\"M138.31,-159.62C133.58,-154.17 127.81,-147.52 123.11,-142.11\"/>\n",
              "</g>\n",
              "<!-- &#45;8472527283662871248 -->\n",
              "<g id=\"node3\" class=\"node\">\n",
              "<title>&#45;8472527283662871248</title>\n",
              "<path fill=\"none\" stroke=\"black\" stroke-width=\"0.25\" d=\"M202.05,-142C202.05,-142 158.61,-142 158.61,-142 154.94,-142 151.28,-138.33 151.28,-134.67 151.28,-134.67 151.28,-127.33 151.28,-127.33 151.28,-123.67 154.94,-120 158.61,-120 158.61,-120 202.05,-120 202.05,-120 205.72,-120 209.38,-123.67 209.38,-127.33 209.38,-127.33 209.38,-134.67 209.38,-134.67 209.38,-138.33 205.72,-142 202.05,-142\"/>\n",
              "<text text-anchor=\"middle\" x=\"180.33\" y=\"-126.8\" font-family=\"Times,serif\" font-size=\"14.00\">Question</text>\n",
              "</g>\n",
              "<!-- &#45;736389231555927931&#45;&gt;&#45;8472527283662871248 -->\n",
              "<g id=\"edge2\" class=\"edge\">\n",
              "<title>&#45;736389231555927931&#45;&gt;&#45;8472527283662871248</title>\n",
              "<path fill=\"none\" stroke=\"black\" stroke-width=\"0.5\" d=\"M156.35,-159.62C161.08,-154.17 166.86,-147.52 171.55,-142.11\"/>\n",
              "</g>\n",
              "<!-- 1859765820020701408&#45;&gt;&#45;8472527283662871248 -->\n",
              "<!-- &#45;3693800960105238135 -->\n",
              "<g id=\"node4\" class=\"node\">\n",
              "<title>&#45;3693800960105238135</title>\n",
              "<path fill=\"none\" stroke=\"black\" stroke-width=\"0.25\" d=\"M74.1,-102C74.1,-102 56.56,-102 56.56,-102 52.89,-102 49.23,-98.33 49.23,-94.67 49.23,-94.67 49.23,-87.33 49.23,-87.33 49.23,-83.67 52.89,-80 56.56,-80 56.56,-80 74.1,-80 74.1,-80 77.77,-80 81.43,-83.67 81.43,-87.33 81.43,-87.33 81.43,-94.67 81.43,-94.67 81.43,-98.33 77.77,-102 74.1,-102\"/>\n",
              "<text text-anchor=\"middle\" x=\"65.33\" y=\"-86.8\" font-family=\"Times,serif\" font-size=\"14.00\">Fact</text>\n",
              "</g>\n",
              "<!-- 1859765820020701408&#45;&gt;&#45;3693800960105238135 -->\n",
              "<g id=\"edge4\" class=\"edge\">\n",
              "<title>1859765820020701408&#45;&gt;&#45;3693800960105238135</title>\n",
              "<path fill=\"none\" stroke=\"black\" stroke-width=\"0.5\" d=\"M101.2,-119.82C94.17,-114.36 85.53,-107.67 78.5,-102.21\"/>\n",
              "</g>\n",
              "<!-- 1859762036430869988 -->\n",
              "<g id=\"node5\" class=\"node\">\n",
              "<title>1859762036430869988</title>\n",
              "<path fill=\"none\" stroke=\"black\" stroke-width=\"0.25\" d=\"M131.55,-102C131.55,-102 109.11,-102 109.11,-102 105.44,-102 101.78,-98.33 101.78,-94.67 101.78,-94.67 101.78,-87.33 101.78,-87.33 101.78,-83.67 105.44,-80 109.11,-80 109.11,-80 131.55,-80 131.55,-80 135.22,-80 138.89,-83.67 138.89,-87.33 138.89,-87.33 138.89,-94.67 138.89,-94.67 138.89,-98.33 135.22,-102 131.55,-102\"/>\n",
              "<text text-anchor=\"middle\" x=\"120.33\" y=\"-86.8\" font-family=\"Times,serif\" font-size=\"14.00\">Facts</text>\n",
              "</g>\n",
              "<!-- 1859765820020701408&#45;&gt;1859762036430869988 -->\n",
              "<g id=\"edge5\" class=\"edge\">\n",
              "<title>1859765820020701408&#45;&gt;1859762036430869988</title>\n",
              "<path fill=\"none\" stroke=\"black\" stroke-width=\"0.5\" d=\"M115.97,-119.62C116.83,-114.17 117.88,-107.52 118.73,-102.11\"/>\n",
              "</g>\n",
              "<!-- 5933315778783097244 -->\n",
              "<g id=\"node13\" class=\"node\">\n",
              "<title>5933315778783097244</title>\n",
              "<path fill=\"none\" stroke=\"black\" stroke-width=\"1.25\" d=\"M177.74,-102C177.74,-102 172.93,-102 172.93,-102 170.52,-102 168.12,-99.59 168.12,-97.19 168.12,-97.19 168.12,-84.81 168.12,-84.81 168.12,-82.41 170.52,-80 172.93,-80 172.93,-80 177.74,-80 177.74,-80 180.14,-80 182.55,-82.41 182.55,-84.81 182.55,-84.81 182.55,-97.19 182.55,-97.19 182.55,-99.59 180.14,-102 177.74,-102\"/>\n",
              "<text text-anchor=\"middle\" x=\"175.33\" y=\"-86.8\" font-family=\"Times,serif\" font-size=\"14.00\">?</text>\n",
              "</g>\n",
              "<!-- &#45;8472527283662871248&#45;&gt;5933315778783097244 -->\n",
              "<g id=\"edge17\" class=\"edge\">\n",
              "<title>&#45;8472527283662871248&#45;&gt;5933315778783097244</title>\n",
              "<path fill=\"none\" stroke=\"black\" stroke-width=\"0.5\" d=\"M178.96,-119.62C178.25,-114.17 177.37,-107.52 176.66,-102.11\"/>\n",
              "</g>\n",
              "<!-- &#45;3904705543735027950 -->\n",
              "<g id=\"node14\" class=\"node\">\n",
              "<title>&#45;3904705543735027950</title>\n",
              "<path fill=\"none\" stroke=\"black\" stroke-width=\"1.25\" d=\"M251.06,-102C251.06,-102 207.6,-102 207.6,-102 203.94,-102 200.27,-98.33 200.27,-94.67 200.27,-94.67 200.27,-87.33 200.27,-87.33 200.27,-83.67 203.94,-80 207.6,-80 207.6,-80 251.06,-80 251.06,-80 254.72,-80 258.39,-83.67 258.39,-87.33 258.39,-87.33 258.39,-94.67 258.39,-94.67 258.39,-98.33 254.72,-102 251.06,-102\"/>\n",
              "<text text-anchor=\"middle\" x=\"229.33\" y=\"-86.8\" font-family=\"Times,serif\" font-size=\"14.00\">STRING</text>\n",
              "</g>\n",
              "<!-- &#45;8472527283662871248&#45;&gt;&#45;3904705543735027950 -->\n",
              "<g id=\"edge18\" class=\"edge\">\n",
              "<title>&#45;8472527283662871248&#45;&gt;&#45;3904705543735027950</title>\n",
              "<path fill=\"none\" stroke=\"black\" stroke-width=\"0.5\" d=\"M193.46,-119.82C200.49,-114.36 209.13,-107.67 216.16,-102.21\"/>\n",
              "</g>\n",
              "<!-- &#45;3693800960105238135&#45;&gt;1859762036430869988 -->\n",
              "<!-- &#45;1773336710677722152 -->\n",
              "<g id=\"node6\" class=\"node\">\n",
              "<title>&#45;1773336710677722152</title>\n",
              "<path fill=\"none\" stroke=\"black\" stroke-width=\"1.25\" d=\"M8.39,-62C8.39,-62 4.28,-62 4.28,-62 2.22,-62 0.16,-59.94 0.16,-57.89 0.16,-57.89 0.16,-44.11 0.16,-44.11 0.16,-42.06 2.22,-40 4.28,-40 4.28,-40 8.39,-40 8.39,-40 10.44,-40 12.5,-42.06 12.5,-44.11 12.5,-44.11 12.5,-57.89 12.5,-57.89 12.5,-59.94 10.44,-62 8.39,-62\"/>\n",
              "<text text-anchor=\"middle\" x=\"6.33\" y=\"-46.8\" font-family=\"Times,serif\" font-size=\"14.00\">!</text>\n",
              "</g>\n",
              "<!-- &#45;3693800960105238135&#45;&gt;&#45;1773336710677722152 -->\n",
              "<g id=\"edge7\" class=\"edge\">\n",
              "<title>&#45;3693800960105238135&#45;&gt;&#45;1773336710677722152</title>\n",
              "<path fill=\"none\" stroke=\"black\" stroke-width=\"0.5\" d=\"M49.52,-79.82C37.37,-71.99 21.24,-61.6 12.53,-55.99\"/>\n",
              "</g>\n",
              "<!-- &#45;3904700498947032658 -->\n",
              "<g id=\"node7\" class=\"node\">\n",
              "<title>&#45;3904700498947032658</title>\n",
              "<path fill=\"none\" stroke=\"black\" stroke-width=\"1.25\" d=\"M82.06,-62C82.06,-62 38.6,-62 38.6,-62 34.94,-62 31.27,-58.33 31.27,-54.67 31.27,-54.67 31.27,-47.33 31.27,-47.33 31.27,-43.67 34.94,-40 38.6,-40 38.6,-40 82.06,-40 82.06,-40 85.72,-40 89.39,-43.67 89.39,-47.33 89.39,-47.33 89.39,-54.67 89.39,-54.67 89.39,-58.33 85.72,-62 82.06,-62\"/>\n",
              "<text text-anchor=\"middle\" x=\"60.33\" y=\"-46.8\" font-family=\"Times,serif\" font-size=\"14.00\">STRING</text>\n",
              "</g>\n",
              "<!-- &#45;3693800960105238135&#45;&gt;&#45;3904700498947032658 -->\n",
              "<g id=\"edge8\" class=\"edge\">\n",
              "<title>&#45;3693800960105238135&#45;&gt;&#45;3904700498947032658</title>\n",
              "<path fill=\"none\" stroke=\"black\" stroke-width=\"0.5\" d=\"M63.96,-79.62C63.25,-74.17 62.37,-67.52 61.66,-62.11\"/>\n",
              "</g>\n",
              "<!-- &#45;3693798437711240489 -->\n",
              "<g id=\"node8\" class=\"node\">\n",
              "<title>&#45;3693798437711240489</title>\n",
              "<path fill=\"none\" stroke=\"black\" stroke-width=\"0.25\" d=\"M132.1,-62C132.1,-62 114.56,-62 114.56,-62 110.89,-62 107.23,-58.33 107.23,-54.67 107.23,-54.67 107.23,-47.33 107.23,-47.33 107.23,-43.67 110.89,-40 114.56,-40 114.56,-40 132.1,-40 132.1,-40 135.77,-40 139.43,-43.67 139.43,-47.33 139.43,-47.33 139.43,-54.67 139.43,-54.67 139.43,-58.33 135.77,-62 132.1,-62\"/>\n",
              "<text text-anchor=\"middle\" x=\"123.33\" y=\"-46.8\" font-family=\"Times,serif\" font-size=\"14.00\">Fact</text>\n",
              "</g>\n",
              "<!-- 1859762036430869988&#45;&gt;&#45;3693798437711240489 -->\n",
              "<g id=\"edge10\" class=\"edge\">\n",
              "<title>1859762036430869988&#45;&gt;&#45;3693798437711240489</title>\n",
              "<path fill=\"none\" stroke=\"black\" stroke-width=\"0.5\" d=\"M121.15,-79.62C121.58,-74.17 122.11,-67.52 122.53,-62.11\"/>\n",
              "</g>\n",
              "<!-- 1859769603612862926 -->\n",
              "<g id=\"node9\" class=\"node\">\n",
              "<title>1859769603612862926</title>\n",
              "<path fill=\"none\" stroke=\"black\" stroke-width=\"0.25\" d=\"M187.55,-62C187.55,-62 165.11,-62 165.11,-62 161.44,-62 157.78,-58.33 157.78,-54.67 157.78,-54.67 157.78,-47.33 157.78,-47.33 157.78,-43.67 161.44,-40 165.11,-40 165.11,-40 187.55,-40 187.55,-40 191.22,-40 194.89,-43.67 194.89,-47.33 194.89,-47.33 194.89,-54.67 194.89,-54.67 194.89,-58.33 191.22,-62 187.55,-62\"/>\n",
              "<text text-anchor=\"middle\" x=\"176.33\" y=\"-46.8\" font-family=\"Times,serif\" font-size=\"14.00\">Facts</text>\n",
              "</g>\n",
              "<!-- 1859762036430869988&#45;&gt;1859769603612862926 -->\n",
              "<g id=\"edge11\" class=\"edge\">\n",
              "<title>1859762036430869988&#45;&gt;1859769603612862926</title>\n",
              "<path fill=\"none\" stroke=\"black\" stroke-width=\"0.5\" d=\"M135.34,-79.82C143.37,-74.36 153.24,-67.67 161.28,-62.21\"/>\n",
              "</g>\n",
              "<!-- &#45;1773336710677722152&#45;&gt;&#45;3904700498947032658 -->\n",
              "<!-- &#45;3693798437711240489&#45;&gt;1859769603612862926 -->\n",
              "<!-- &#45;1773334188283724506 -->\n",
              "<g id=\"node10\" class=\"node\">\n",
              "<title>&#45;1773334188283724506</title>\n",
              "<path fill=\"none\" stroke=\"black\" stroke-width=\"1.25\" d=\"M71.39,-22C71.39,-22 67.28,-22 67.28,-22 65.22,-22 63.16,-19.94 63.16,-17.89 63.16,-17.89 63.16,-4.11 63.16,-4.11 63.16,-2.06 65.22,0 67.28,0 67.28,0 71.39,0 71.39,0 73.44,0 75.5,-2.06 75.5,-4.11 75.5,-4.11 75.5,-17.89 75.5,-17.89 75.5,-19.94 73.44,-22 71.39,-22\"/>\n",
              "<text text-anchor=\"middle\" x=\"69.33\" y=\"-6.8\" font-family=\"Times,serif\" font-size=\"14.00\">!</text>\n",
              "</g>\n",
              "<!-- &#45;3693798437711240489&#45;&gt;&#45;1773334188283724506 -->\n",
              "<g id=\"edge13\" class=\"edge\">\n",
              "<title>&#45;3693798437711240489&#45;&gt;&#45;1773334188283724506</title>\n",
              "<path fill=\"none\" stroke=\"black\" stroke-width=\"0.5\" d=\"M108.86,-39.82C97.99,-32.17 83.63,-22.06 75.55,-16.38\"/>\n",
              "</g>\n",
              "<!-- &#45;3904708066129025596 -->\n",
              "<g id=\"node11\" class=\"node\">\n",
              "<title>&#45;3904708066129025596</title>\n",
              "<path fill=\"none\" stroke=\"black\" stroke-width=\"1.25\" d=\"M145.06,-22C145.06,-22 101.6,-22 101.6,-22 97.94,-22 94.27,-18.33 94.27,-14.67 94.27,-14.67 94.27,-7.33 94.27,-7.33 94.27,-3.67 97.94,0 101.6,0 101.6,0 145.06,0 145.06,0 148.72,0 152.39,-3.67 152.39,-7.33 152.39,-7.33 152.39,-14.67 152.39,-14.67 152.39,-18.33 148.72,-22 145.06,-22\"/>\n",
              "<text text-anchor=\"middle\" x=\"123.33\" y=\"-6.8\" font-family=\"Times,serif\" font-size=\"14.00\">STRING</text>\n",
              "</g>\n",
              "<!-- &#45;3693798437711240489&#45;&gt;&#45;3904708066129025596 -->\n",
              "<g id=\"edge14\" class=\"edge\">\n",
              "<title>&#45;3693798437711240489&#45;&gt;&#45;3904708066129025596</title>\n",
              "<path fill=\"none\" stroke=\"black\" stroke-width=\"0.5\" d=\"M123.33,-39.62C123.33,-34.17 123.33,-27.52 123.33,-22.11\"/>\n",
              "</g>\n",
              "<!-- 7659916527354198102 -->\n",
              "<g id=\"node12\" class=\"node\">\n",
              "<title>7659916527354198102</title>\n",
              "<path fill=\"none\" stroke=\"black\" stroke-width=\"0.25\" d=\"M179.74,-22C179.74,-22 174.93,-22 174.93,-22 172.52,-22 170.12,-19.59 170.12,-17.19 170.12,-17.19 170.12,-4.81 170.12,-4.81 170.12,-2.41 172.52,0 174.93,0 174.93,0 179.74,0 179.74,0 182.14,0 184.55,-2.41 184.55,-4.81 184.55,-4.81 184.55,-17.19 184.55,-17.19 184.55,-19.59 182.14,-22 179.74,-22\"/>\n",
              "<text text-anchor=\"middle\" x=\"177.33\" y=\"-6.8\" font-family=\"Times,serif\" font-size=\"14.00\">ε</text>\n",
              "</g>\n",
              "<!-- 1859769603612862926&#45;&gt;7659916527354198102 -->\n",
              "<g id=\"edge16\" class=\"edge\">\n",
              "<title>1859769603612862926&#45;&gt;7659916527354198102</title>\n",
              "<path fill=\"none\" stroke=\"black\" stroke-width=\"0.5\" d=\"M176.6,-39.62C176.75,-34.17 176.92,-27.52 177.07,-22.11\"/>\n",
              "</g>\n",
              "<!-- &#45;1773334188283724506&#45;&gt;&#45;3904708066129025596 -->\n",
              "<!-- 5933315778783097244&#45;&gt;&#45;3904705543735027950 -->\n",
              "</g>\n",
              "</svg>\n"
            ],
            "text/plain": [
              "ProductionGraph(Session -> Facts Question -> Fact Facts Question -> ! STRING Facts Question -> ! STRING Fact Facts Question -> ! STRING ! STRING Facts Question -> ! STRING ! STRING Question -> ! STRING ! STRING ? STRING)"
            ]
          },
          "execution_count": 34,
          "metadata": {},
          "output_type": "execute_result"
        }
      ],
      "source": [
        "ProductionGraph(d)"
      ]
    },
    {
      "cell_type": "markdown",
      "metadata": {},
      "source": [
        "### Un esempio più interessante\n",
        "\n",
        "Come esempio più \"interessante\" consideriamo una grammatica per espressioni aritmentiche parentesizzate."
      ]
    },
    {
      "cell_type": "code",
      "execution_count": null,
      "metadata": {},
      "outputs": [],
      "source": [
        "# MCD, fig. 3.4, pag. 123\n",
        "\n",
        "G = Grammar.from_string(\"\"\"\n",
        "input -> expression\n",
        "expression -> term rest_expression\n",
        "term -> IDENTIFIER | parenthesized_expression \n",
        "parenthesized_expression -> ( expression ) \n",
        "rest_expression -> + expression | ε\n",
        "\"\"\")"
      ]
    },
    {
      "cell_type": "code",
      "execution_count": null,
      "metadata": {},
      "outputs": [
        {
          "data": {
            "text/html": [
              "<style>td, th {border: 1pt solid lightgray !important; text-align: left !important;}</style><table><tr><th><pre>(rest_expression)</pre><td><pre>+, ε</pre>\n",
              "<tr><th><pre>(term)</pre><td><pre>(, IDENTIFIER</pre>\n",
              "<tr><th><pre>(input)</pre><td><pre>(, IDENTIFIER</pre>\n",
              "<tr><th><pre>(parenthesized_expression)</pre><td><pre>(</pre>\n",
              "<tr><th><pre>(expression)</pre><td><pre>(, IDENTIFIER</pre></table>"
            ],
            "text/plain": [
              "<liblet.utils.Table at 0x109691750>"
            ]
          },
          "execution_count": 36,
          "metadata": {},
          "output_type": "execute_result"
        }
      ],
      "source": [
        "FIRST = compute_εfirst(G)\n",
        "FIRST.restrict_to({(X, ) for X in G.N})"
      ]
    },
    {
      "cell_type": "code",
      "execution_count": null,
      "metadata": {},
      "outputs": [],
      "source": [
        "FIRSTf = make_first_function(FIRST)\n",
        "TABLEf = make_table_function(G, FIRSTf)"
      ]
    },
    {
      "cell_type": "code",
      "execution_count": null,
      "metadata": {},
      "outputs": [
        {
          "name": "stdout",
          "output_type": "stream",
          "text": [
            "┌FIRSTf(('expression', '#'))\n",
            "└─ {'IDENTIFIER', '('}\n",
            "┌FIRSTf(('term', 'rest_expression', '#'))\n",
            "└─ {'IDENTIFIER', '('}\n",
            "┌FIRSTf(('IDENTIFIER', 'rest_expression', '#'))\n",
            "└─ {'IDENTIFIER'}\n",
            "┌FIRSTf(('parenthesized_expression', 'rest_expression', '#'))\n",
            "└─ {'('}\n",
            "┌FIRSTf(('+', 'expression', '#'))\n",
            "└─ {'+'}\n",
            "┌FIRSTf(('ε', '#'))\n",
            "│┌FIRSTf(['#'])\n",
            "│└─ {'#'}\n",
            "└─ {'#'}\n",
            "┌FIRSTf(('term', 'rest_expression', '#'))\n",
            "└─ {'IDENTIFIER', '('}\n",
            "┌FIRSTf(('IDENTIFIER', 'rest_expression', '#'))\n",
            "└─ {'IDENTIFIER'}\n",
            "┌FIRSTf(('parenthesized_expression', 'rest_expression', '#'))\n",
            "└─ {'('}\n",
            "┌FIRSTf(('(', 'expression', ')', 'rest_expression', '#'))\n",
            "└─ {'('}\n",
            "┌FIRSTf(('term', 'rest_expression', ')', 'rest_expression', '#'))\n",
            "└─ {'IDENTIFIER', '('}\n",
            "┌FIRSTf(('IDENTIFIER', 'rest_expression', ')', 'rest_expression', '#'))\n",
            "└─ {'IDENTIFIER'}\n",
            "┌FIRSTf(('parenthesized_expression', 'rest_expression', ')', 'rest_expression', '#'))\n",
            "└─ {'('}\n",
            "┌FIRSTf(('+', 'expression', ')', 'rest_expression', '#'))\n",
            "└─ {'+'}\n",
            "┌FIRSTf(('ε', ')', 'rest_expression', '#'))\n",
            "│┌FIRSTf([')', 'rest_expression', '#'])\n",
            "│└─ {')'}\n",
            "└─ {')'}\n",
            "┌FIRSTf(('+', 'expression', '#'))\n",
            "└─ {'+'}\n",
            "┌FIRSTf(('ε', '#'))\n",
            "│┌FIRSTf(['#'])\n",
            "│└─ {'#'}\n",
            "└─ {'#'}\n"
          ]
        }
      ],
      "source": [
        "INPUT = 'IDENTIFIER + ( IDENTIFIER )'.split()\n",
        "d = full_parse(G, TABLEf, INPUT)"
      ]
    },
    {
      "cell_type": "code",
      "execution_count": null,
      "metadata": {},
      "outputs": [
        {
          "data": {
            "image/svg+xml": [
              "<?xml version=\"1.0\" encoding=\"UTF-8\" standalone=\"no\"?>\n",
              "<!DOCTYPE svg PUBLIC \"-//W3C//DTD SVG 1.1//EN\"\n",
              " \"http://www.w3.org/Graphics/SVG/1.1/DTD/svg11.dtd\">\n",
              "<!-- Generated by graphviz version 2.43.0 (0)\n",
              " -->\n",
              "<!-- Title: %3 Pages: 1 -->\n",
              "<svg width=\"274pt\" height=\"350pt\"\n",
              " viewBox=\"0.00 0.00 274.04 350.00\" xmlns=\"http://www.w3.org/2000/svg\" xmlns:xlink=\"http://www.w3.org/1999/xlink\">\n",
              "<g id=\"graph0\" class=\"graph\" transform=\"scale(1 1) rotate(0) translate(4 346)\">\n",
              "<title>%3</title>\n",
              "<polygon fill=\"white\" stroke=\"transparent\" points=\"-4,4 -4,-346 270.04,-346 270.04,4 -4,4\"/>\n",
              "<!-- 1974451212571286891 -->\n",
              "<g id=\"node1\" class=\"node\">\n",
              "<title>1974451212571286891</title>\n",
              "<path fill=\"none\" stroke=\"black\" stroke-width=\"0.25\" d=\"M94.44,-342C94.44,-342 72.55,-342 72.55,-342 68.88,-342 65.21,-338.33 65.21,-334.67 65.21,-334.67 65.21,-327.33 65.21,-327.33 65.21,-323.67 68.88,-320 72.55,-320 72.55,-320 94.44,-320 94.44,-320 98.11,-320 101.77,-323.67 101.77,-327.33 101.77,-327.33 101.77,-334.67 101.77,-334.67 101.77,-338.33 98.11,-342 94.44,-342\"/>\n",
              "<text text-anchor=\"middle\" x=\"83.49\" y=\"-326.8\" font-family=\"Times,serif\" font-size=\"14.00\">input</text>\n",
              "</g>\n",
              "<!-- &#45;9072087693071884901 -->\n",
              "<g id=\"node2\" class=\"node\">\n",
              "<title>&#45;9072087693071884901</title>\n",
              "<path fill=\"none\" stroke=\"black\" stroke-width=\"0.25\" d=\"M110.04,-302C110.04,-302 56.95,-302 56.95,-302 53.28,-302 49.62,-298.33 49.62,-294.67 49.62,-294.67 49.62,-287.33 49.62,-287.33 49.62,-283.67 53.28,-280 56.95,-280 56.95,-280 110.04,-280 110.04,-280 113.7,-280 117.37,-283.67 117.37,-287.33 117.37,-287.33 117.37,-294.67 117.37,-294.67 117.37,-298.33 113.7,-302 110.04,-302\"/>\n",
              "<text text-anchor=\"middle\" x=\"83.49\" y=\"-286.8\" font-family=\"Times,serif\" font-size=\"14.00\">expression</text>\n",
              "</g>\n",
              "<!-- 1974451212571286891&#45;&gt;&#45;9072087693071884901 -->\n",
              "<g id=\"edge1\" class=\"edge\">\n",
              "<title>1974451212571286891&#45;&gt;&#45;9072087693071884901</title>\n",
              "<path fill=\"none\" stroke=\"black\" stroke-width=\"0.5\" d=\"M83.49,-319.62C83.49,-314.17 83.49,-307.52 83.49,-302.11\"/>\n",
              "</g>\n",
              "<!-- &#45;5411785148824033507 -->\n",
              "<g id=\"node3\" class=\"node\">\n",
              "<title>&#45;5411785148824033507</title>\n",
              "<path fill=\"none\" stroke=\"black\" stroke-width=\"0.25\" d=\"M51.82,-262C51.82,-262 33.17,-262 33.17,-262 29.5,-262 25.84,-258.33 25.84,-254.67 25.84,-254.67 25.84,-247.33 25.84,-247.33 25.84,-243.67 29.5,-240 33.17,-240 33.17,-240 51.82,-240 51.82,-240 55.48,-240 59.15,-243.67 59.15,-247.33 59.15,-247.33 59.15,-254.67 59.15,-254.67 59.15,-258.33 55.48,-262 51.82,-262\"/>\n",
              "<text text-anchor=\"middle\" x=\"42.49\" y=\"-246.8\" font-family=\"Times,serif\" font-size=\"14.00\">term</text>\n",
              "</g>\n",
              "<!-- &#45;9072087693071884901&#45;&gt;&#45;5411785148824033507 -->\n",
              "<g id=\"edge2\" class=\"edge\">\n",
              "<title>&#45;9072087693071884901&#45;&gt;&#45;5411785148824033507</title>\n",
              "<path fill=\"none\" stroke=\"black\" stroke-width=\"0.5\" d=\"M72.29,-279.62C66.41,-274.17 59.24,-267.52 53.4,-262.11\"/>\n",
              "</g>\n",
              "<!-- 3918904596874837882 -->\n",
              "<g id=\"node4\" class=\"node\">\n",
              "<title>3918904596874837882</title>\n",
              "<path fill=\"none\" stroke=\"black\" stroke-width=\"0.25\" d=\"M164.75,-262C164.75,-262 84.24,-262 84.24,-262 80.57,-262 76.9,-258.33 76.9,-254.67 76.9,-254.67 76.9,-247.33 76.9,-247.33 76.9,-243.67 80.57,-240 84.24,-240 84.24,-240 164.75,-240 164.75,-240 168.42,-240 172.08,-243.67 172.08,-247.33 172.08,-247.33 172.08,-254.67 172.08,-254.67 172.08,-258.33 168.42,-262 164.75,-262\"/>\n",
              "<text text-anchor=\"middle\" x=\"124.49\" y=\"-246.8\" font-family=\"Times,serif\" font-size=\"14.00\">rest_expression</text>\n",
              "</g>\n",
              "<!-- &#45;9072087693071884901&#45;&gt;3918904596874837882 -->\n",
              "<g id=\"edge3\" class=\"edge\">\n",
              "<title>&#45;9072087693071884901&#45;&gt;3918904596874837882</title>\n",
              "<path fill=\"none\" stroke=\"black\" stroke-width=\"0.5\" d=\"M94.7,-279.62C100.58,-274.17 107.75,-267.52 113.59,-262.11\"/>\n",
              "</g>\n",
              "<!-- &#45;5411785148824033507&#45;&gt;3918904596874837882 -->\n",
              "<!-- &#45;3153740757778083506 -->\n",
              "<g id=\"node5\" class=\"node\">\n",
              "<title>&#45;3153740757778083506</title>\n",
              "<path fill=\"none\" stroke=\"black\" stroke-width=\"1.25\" d=\"M77.65,-222C77.65,-222 7.34,-222 7.34,-222 3.67,-222 0.01,-218.33 0.01,-214.67 0.01,-214.67 0.01,-207.33 0.01,-207.33 0.01,-203.67 3.67,-200 7.34,-200 7.34,-200 77.65,-200 77.65,-200 81.31,-200 84.98,-203.67 84.98,-207.33 84.98,-207.33 84.98,-214.67 84.98,-214.67 84.98,-218.33 81.31,-222 77.65,-222\"/>\n",
              "<text text-anchor=\"middle\" x=\"42.49\" y=\"-206.8\" font-family=\"Times,serif\" font-size=\"14.00\">IDENTIFIER</text>\n",
              "</g>\n",
              "<!-- &#45;5411785148824033507&#45;&gt;&#45;3153740757778083506 -->\n",
              "<g id=\"edge5\" class=\"edge\">\n",
              "<title>&#45;5411785148824033507&#45;&gt;&#45;3153740757778083506</title>\n",
              "<path fill=\"none\" stroke=\"black\" stroke-width=\"0.5\" d=\"M42.49,-239.62C42.49,-234.17 42.49,-227.52 42.49,-222.11\"/>\n",
              "</g>\n",
              "<!-- &#45;4617476844441774387 -->\n",
              "<g id=\"node6\" class=\"node\">\n",
              "<title>&#45;4617476844441774387</title>\n",
              "<path fill=\"none\" stroke=\"black\" stroke-width=\"1.25\" d=\"M120.13,-222C120.13,-222 114.86,-222 114.86,-222 112.23,-222 109.6,-219.37 109.6,-216.74 109.6,-216.74 109.6,-205.26 109.6,-205.26 109.6,-202.63 112.23,-200 114.86,-200 114.86,-200 120.13,-200 120.13,-200 122.76,-200 125.39,-202.63 125.39,-205.26 125.39,-205.26 125.39,-216.74 125.39,-216.74 125.39,-219.37 122.76,-222 120.13,-222\"/>\n",
              "<text text-anchor=\"middle\" x=\"117.49\" y=\"-206.8\" font-family=\"Times,serif\" font-size=\"14.00\">+</text>\n",
              "</g>\n",
              "<!-- 3918904596874837882&#45;&gt;&#45;4617476844441774387 -->\n",
              "<g id=\"edge6\" class=\"edge\">\n",
              "<title>3918904596874837882&#45;&gt;&#45;4617476844441774387</title>\n",
              "<path fill=\"none\" stroke=\"black\" stroke-width=\"0.5\" d=\"M122.58,-239.62C121.58,-234.17 120.35,-227.52 119.36,-222.11\"/>\n",
              "</g>\n",
              "<!-- &#45;9072081387088055835 -->\n",
              "<g id=\"node7\" class=\"node\">\n",
              "<title>&#45;9072081387088055835</title>\n",
              "<path fill=\"none\" stroke=\"black\" stroke-width=\"0.25\" d=\"M204.04,-222C204.04,-222 150.95,-222 150.95,-222 147.28,-222 143.62,-218.33 143.62,-214.67 143.62,-214.67 143.62,-207.33 143.62,-207.33 143.62,-203.67 147.28,-200 150.95,-200 150.95,-200 204.04,-200 204.04,-200 207.7,-200 211.37,-203.67 211.37,-207.33 211.37,-207.33 211.37,-214.67 211.37,-214.67 211.37,-218.33 207.7,-222 204.04,-222\"/>\n",
              "<text text-anchor=\"middle\" x=\"177.49\" y=\"-206.8\" font-family=\"Times,serif\" font-size=\"14.00\">expression</text>\n",
              "</g>\n",
              "<!-- 3918904596874837882&#45;&gt;&#45;9072081387088055835 -->\n",
              "<g id=\"edge7\" class=\"edge\">\n",
              "<title>3918904596874837882&#45;&gt;&#45;9072081387088055835</title>\n",
              "<path fill=\"none\" stroke=\"black\" stroke-width=\"0.5\" d=\"M138.7,-239.82C146.3,-234.36 155.64,-227.67 163.25,-222.21\"/>\n",
              "</g>\n",
              "<!-- &#45;4617476844441774387&#45;&gt;&#45;9072081387088055835 -->\n",
              "<!-- &#45;5411791454809027622 -->\n",
              "<g id=\"node8\" class=\"node\">\n",
              "<title>&#45;5411791454809027622</title>\n",
              "<path fill=\"none\" stroke=\"black\" stroke-width=\"0.25\" d=\"M145.82,-182C145.82,-182 127.17,-182 127.17,-182 123.5,-182 119.84,-178.33 119.84,-174.67 119.84,-174.67 119.84,-167.33 119.84,-167.33 119.84,-163.67 123.5,-160 127.17,-160 127.17,-160 145.82,-160 145.82,-160 149.48,-160 153.15,-163.67 153.15,-167.33 153.15,-167.33 153.15,-174.67 153.15,-174.67 153.15,-178.33 149.48,-182 145.82,-182\"/>\n",
              "<text text-anchor=\"middle\" x=\"136.49\" y=\"-166.8\" font-family=\"Times,serif\" font-size=\"14.00\">term</text>\n",
              "</g>\n",
              "<!-- &#45;9072081387088055835&#45;&gt;&#45;5411791454809027622 -->\n",
              "<g id=\"edge9\" class=\"edge\">\n",
              "<title>&#45;9072081387088055835&#45;&gt;&#45;5411791454809027622</title>\n",
              "<path fill=\"none\" stroke=\"black\" stroke-width=\"0.5\" d=\"M166.29,-199.62C160.41,-194.17 153.24,-187.52 147.4,-182.11\"/>\n",
              "</g>\n",
              "<!-- 3918908380463504253 -->\n",
              "<g id=\"node9\" class=\"node\">\n",
              "<title>3918908380463504253</title>\n",
              "<path fill=\"none\" stroke=\"black\" stroke-width=\"0.25\" d=\"M258.75,-182C258.75,-182 178.24,-182 178.24,-182 174.57,-182 170.9,-178.33 170.9,-174.67 170.9,-174.67 170.9,-167.33 170.9,-167.33 170.9,-163.67 174.57,-160 178.24,-160 178.24,-160 258.75,-160 258.75,-160 262.42,-160 266.08,-163.67 266.08,-167.33 266.08,-167.33 266.08,-174.67 266.08,-174.67 266.08,-178.33 262.42,-182 258.75,-182\"/>\n",
              "<text text-anchor=\"middle\" x=\"218.49\" y=\"-166.8\" font-family=\"Times,serif\" font-size=\"14.00\">rest_expression</text>\n",
              "</g>\n",
              "<!-- &#45;9072081387088055835&#45;&gt;3918908380463504253 -->\n",
              "<g id=\"edge10\" class=\"edge\">\n",
              "<title>&#45;9072081387088055835&#45;&gt;3918908380463504253</title>\n",
              "<path fill=\"none\" stroke=\"black\" stroke-width=\"0.5\" d=\"M188.7,-199.62C194.58,-194.17 201.75,-187.52 207.59,-182.11\"/>\n",
              "</g>\n",
              "<!-- &#45;5411791454809027622&#45;&gt;3918908380463504253 -->\n",
              "<!-- &#45;5603260072600092053 -->\n",
              "<g id=\"node10\" class=\"node\">\n",
              "<title>&#45;5603260072600092053</title>\n",
              "<path fill=\"none\" stroke=\"black\" stroke-width=\"0.25\" d=\"M195.99,-142C195.99,-142 58.99,-142 58.99,-142 55.32,-142 51.66,-138.33 51.66,-134.67 51.66,-134.67 51.66,-127.33 51.66,-127.33 51.66,-123.67 55.32,-120 58.99,-120 58.99,-120 195.99,-120 195.99,-120 199.66,-120 203.33,-123.67 203.33,-127.33 203.33,-127.33 203.33,-134.67 203.33,-134.67 203.33,-138.33 199.66,-142 195.99,-142\"/>\n",
              "<text text-anchor=\"middle\" x=\"127.49\" y=\"-126.8\" font-family=\"Times,serif\" font-size=\"14.00\">parenthesized_expression</text>\n",
              "</g>\n",
              "<!-- &#45;5411791454809027622&#45;&gt;&#45;5603260072600092053 -->\n",
              "<g id=\"edge12\" class=\"edge\">\n",
              "<title>&#45;5411791454809027622&#45;&gt;&#45;5603260072600092053</title>\n",
              "<path fill=\"none\" stroke=\"black\" stroke-width=\"0.5\" d=\"M134.03,-159.62C132.74,-154.17 131.17,-147.52 129.89,-142.11\"/>\n",
              "</g>\n",
              "<!-- 7659900131793213403 -->\n",
              "<g id=\"node18\" class=\"node\">\n",
              "<title>7659900131793213403</title>\n",
              "<path fill=\"none\" stroke=\"black\" stroke-width=\"0.25\" d=\"M230.9,-142C230.9,-142 226.09,-142 226.09,-142 223.68,-142 221.28,-139.59 221.28,-137.19 221.28,-137.19 221.28,-124.81 221.28,-124.81 221.28,-122.41 223.68,-120 226.09,-120 226.09,-120 230.9,-120 230.9,-120 233.3,-120 235.71,-122.41 235.71,-124.81 235.71,-124.81 235.71,-137.19 235.71,-137.19 235.71,-139.59 233.3,-142 230.9,-142\"/>\n",
              "<text text-anchor=\"middle\" x=\"228.49\" y=\"-126.8\" font-family=\"Times,serif\" font-size=\"14.00\">ε</text>\n",
              "</g>\n",
              "<!-- 3918908380463504253&#45;&gt;7659900131793213403 -->\n",
              "<g id=\"edge23\" class=\"edge\">\n",
              "<title>3918908380463504253&#45;&gt;7659900131793213403</title>\n",
              "<path fill=\"none\" stroke=\"black\" stroke-width=\"0.5\" d=\"M221.23,-159.62C222.66,-154.17 224.41,-147.52 225.83,-142.11\"/>\n",
              "</g>\n",
              "<!-- &#45;3370460315767187773 -->\n",
              "<g id=\"node11\" class=\"node\">\n",
              "<title>&#45;3370460315767187773</title>\n",
              "<path fill=\"none\" stroke=\"black\" stroke-width=\"1.25\" d=\"M71.55,-102C71.55,-102 67.44,-102 67.44,-102 65.38,-102 63.33,-99.94 63.33,-97.89 63.33,-97.89 63.33,-84.11 63.33,-84.11 63.33,-82.06 65.38,-80 67.44,-80 67.44,-80 71.55,-80 71.55,-80 73.6,-80 75.66,-82.06 75.66,-84.11 75.66,-84.11 75.66,-97.89 75.66,-97.89 75.66,-99.94 73.6,-102 71.55,-102\"/>\n",
              "<text text-anchor=\"middle\" x=\"69.49\" y=\"-86.8\" font-family=\"Times,serif\" font-size=\"14.00\">(</text>\n",
              "</g>\n",
              "<!-- &#45;5603260072600092053&#45;&gt;&#45;3370460315767187773 -->\n",
              "<g id=\"edge13\" class=\"edge\">\n",
              "<title>&#45;5603260072600092053&#45;&gt;&#45;3370460315767187773</title>\n",
              "<path fill=\"none\" stroke=\"black\" stroke-width=\"0.5\" d=\"M111.94,-119.93C103.76,-114.62 93.57,-107.98 84.49,-102 81.67,-100.14 78.56,-98.07 75.91,-96.3\"/>\n",
              "</g>\n",
              "<!-- &#45;9072080125888726914 -->\n",
              "<g id=\"node12\" class=\"node\">\n",
              "<title>&#45;9072080125888726914</title>\n",
              "<path fill=\"none\" stroke=\"black\" stroke-width=\"0.25\" d=\"M154.04,-102C154.04,-102 100.95,-102 100.95,-102 97.28,-102 93.62,-98.33 93.62,-94.67 93.62,-94.67 93.62,-87.33 93.62,-87.33 93.62,-83.67 97.28,-80 100.95,-80 100.95,-80 154.04,-80 154.04,-80 157.7,-80 161.37,-83.67 161.37,-87.33 161.37,-87.33 161.37,-94.67 161.37,-94.67 161.37,-98.33 157.7,-102 154.04,-102\"/>\n",
              "<text text-anchor=\"middle\" x=\"127.49\" y=\"-86.8\" font-family=\"Times,serif\" font-size=\"14.00\">expression</text>\n",
              "</g>\n",
              "<!-- &#45;5603260072600092053&#45;&gt;&#45;9072080125888726914 -->\n",
              "<g id=\"edge14\" class=\"edge\">\n",
              "<title>&#45;5603260072600092053&#45;&gt;&#45;9072080125888726914</title>\n",
              "<path fill=\"none\" stroke=\"black\" stroke-width=\"0.5\" d=\"M127.49,-119.62C127.49,-114.17 127.49,-107.52 127.49,-102.11\"/>\n",
              "</g>\n",
              "<!-- &#45;371283464171885264 -->\n",
              "<g id=\"node13\" class=\"node\">\n",
              "<title>&#45;371283464171885264</title>\n",
              "<path fill=\"none\" stroke=\"black\" stroke-width=\"1.25\" d=\"M187.55,-102C187.55,-102 183.44,-102 183.44,-102 181.38,-102 179.33,-99.94 179.33,-97.89 179.33,-97.89 179.33,-84.11 179.33,-84.11 179.33,-82.06 181.38,-80 183.44,-80 183.44,-80 187.55,-80 187.55,-80 189.6,-80 191.66,-82.06 191.66,-84.11 191.66,-84.11 191.66,-97.89 191.66,-97.89 191.66,-99.94 189.6,-102 187.55,-102\"/>\n",
              "<text text-anchor=\"middle\" x=\"185.49\" y=\"-86.8\" font-family=\"Times,serif\" font-size=\"14.00\">)</text>\n",
              "</g>\n",
              "<!-- &#45;5603260072600092053&#45;&gt;&#45;371283464171885264 -->\n",
              "<g id=\"edge15\" class=\"edge\">\n",
              "<title>&#45;5603260072600092053&#45;&gt;&#45;371283464171885264</title>\n",
              "<path fill=\"none\" stroke=\"black\" stroke-width=\"0.5\" d=\"M143.04,-119.93C151.23,-114.62 161.42,-107.98 170.49,-102 173.32,-100.14 176.43,-98.07 179.08,-96.3\"/>\n",
              "</g>\n",
              "<!-- &#45;3370460315767187773&#45;&gt;&#45;9072080125888726914 -->\n",
              "<!-- &#45;9072080125888726914&#45;&gt;&#45;371283464171885264 -->\n",
              "<!-- &#45;5411797760794021737 -->\n",
              "<g id=\"node14\" class=\"node\">\n",
              "<title>&#45;5411797760794021737</title>\n",
              "<path fill=\"none\" stroke=\"black\" stroke-width=\"0.25\" d=\"M95.82,-62C95.82,-62 77.17,-62 77.17,-62 73.5,-62 69.84,-58.33 69.84,-54.67 69.84,-54.67 69.84,-47.33 69.84,-47.33 69.84,-43.67 73.5,-40 77.17,-40 77.17,-40 95.82,-40 95.82,-40 99.48,-40 103.15,-43.67 103.15,-47.33 103.15,-47.33 103.15,-54.67 103.15,-54.67 103.15,-58.33 99.48,-62 95.82,-62\"/>\n",
              "<text text-anchor=\"middle\" x=\"86.49\" y=\"-46.8\" font-family=\"Times,serif\" font-size=\"14.00\">term</text>\n",
              "</g>\n",
              "<!-- &#45;9072080125888726914&#45;&gt;&#45;5411797760794021737 -->\n",
              "<g id=\"edge18\" class=\"edge\">\n",
              "<title>&#45;9072080125888726914&#45;&gt;&#45;5411797760794021737</title>\n",
              "<path fill=\"none\" stroke=\"black\" stroke-width=\"0.5\" d=\"M116.29,-79.62C110.41,-74.17 103.24,-67.52 97.4,-62.11\"/>\n",
              "</g>\n",
              "<!-- 3918891984904849652 -->\n",
              "<g id=\"node15\" class=\"node\">\n",
              "<title>3918891984904849652</title>\n",
              "<path fill=\"none\" stroke=\"black\" stroke-width=\"0.25\" d=\"M208.75,-62C208.75,-62 128.24,-62 128.24,-62 124.57,-62 120.9,-58.33 120.9,-54.67 120.9,-54.67 120.9,-47.33 120.9,-47.33 120.9,-43.67 124.57,-40 128.24,-40 128.24,-40 208.75,-40 208.75,-40 212.42,-40 216.08,-43.67 216.08,-47.33 216.08,-47.33 216.08,-54.67 216.08,-54.67 216.08,-58.33 212.42,-62 208.75,-62\"/>\n",
              "<text text-anchor=\"middle\" x=\"168.49\" y=\"-46.8\" font-family=\"Times,serif\" font-size=\"14.00\">rest_expression</text>\n",
              "</g>\n",
              "<!-- &#45;9072080125888726914&#45;&gt;3918891984904849652 -->\n",
              "<g id=\"edge19\" class=\"edge\">\n",
              "<title>&#45;9072080125888726914&#45;&gt;3918891984904849652</title>\n",
              "<path fill=\"none\" stroke=\"black\" stroke-width=\"0.5\" d=\"M138.7,-79.62C144.58,-74.17 151.75,-67.52 157.59,-62.11\"/>\n",
              "</g>\n",
              "<!-- &#45;5411797760794021737&#45;&gt;3918891984904849652 -->\n",
              "<!-- &#45;3153728145808095276 -->\n",
              "<g id=\"node16\" class=\"node\">\n",
              "<title>&#45;3153728145808095276</title>\n",
              "<path fill=\"none\" stroke=\"black\" stroke-width=\"1.25\" d=\"M121.65,-22C121.65,-22 51.34,-22 51.34,-22 47.67,-22 44.01,-18.33 44.01,-14.67 44.01,-14.67 44.01,-7.33 44.01,-7.33 44.01,-3.67 47.67,0 51.34,0 51.34,0 121.65,0 121.65,0 125.31,0 128.98,-3.67 128.98,-7.33 128.98,-7.33 128.98,-14.67 128.98,-14.67 128.98,-18.33 125.31,-22 121.65,-22\"/>\n",
              "<text text-anchor=\"middle\" x=\"86.49\" y=\"-6.8\" font-family=\"Times,serif\" font-size=\"14.00\">IDENTIFIER</text>\n",
              "</g>\n",
              "<!-- &#45;5411797760794021737&#45;&gt;&#45;3153728145808095276 -->\n",
              "<g id=\"edge21\" class=\"edge\">\n",
              "<title>&#45;5411797760794021737&#45;&gt;&#45;3153728145808095276</title>\n",
              "<path fill=\"none\" stroke=\"black\" stroke-width=\"0.5\" d=\"M86.49,-39.62C86.49,-34.17 86.49,-27.52 86.49,-22.11\"/>\n",
              "</g>\n",
              "<!-- 7659901392990212226 -->\n",
              "<g id=\"node17\" class=\"node\">\n",
              "<title>7659901392990212226</title>\n",
              "<path fill=\"none\" stroke=\"black\" stroke-width=\"0.25\" d=\"M170.9,-22C170.9,-22 166.09,-22 166.09,-22 163.68,-22 161.28,-19.59 161.28,-17.19 161.28,-17.19 161.28,-4.81 161.28,-4.81 161.28,-2.41 163.68,0 166.09,0 166.09,0 170.9,0 170.9,0 173.3,0 175.71,-2.41 175.71,-4.81 175.71,-4.81 175.71,-17.19 175.71,-17.19 175.71,-19.59 173.3,-22 170.9,-22\"/>\n",
              "<text text-anchor=\"middle\" x=\"168.49\" y=\"-6.8\" font-family=\"Times,serif\" font-size=\"14.00\">ε</text>\n",
              "</g>\n",
              "<!-- 3918891984904849652&#45;&gt;7659901392990212226 -->\n",
              "<g id=\"edge22\" class=\"edge\">\n",
              "<title>3918891984904849652&#45;&gt;7659901392990212226</title>\n",
              "<path fill=\"none\" stroke=\"black\" stroke-width=\"0.5\" d=\"M168.49,-39.62C168.49,-34.17 168.49,-27.52 168.49,-22.11\"/>\n",
              "</g>\n",
              "</g>\n",
              "</svg>\n"
            ],
            "text/plain": [
              "ProductionGraph(input -> expression -> term rest_expression -> IDENTIFIER rest_expression -> IDENTIFIER + expression -> IDENTIFIER + term rest_expression -> IDENTIFIER + parenthesized_expression rest_expression -> IDENTIFIER + ( expression ) rest_expression -> IDENTIFIER + ( term rest_expression ) rest_expression -> IDENTIFIER + ( IDENTIFIER rest_expression ) rest_expression -> IDENTIFIER + ( IDENTIFIER ) rest_expression -> IDENTIFIER + ( IDENTIFIER ))"
            ]
          },
          "execution_count": 39,
          "metadata": {},
          "output_type": "execute_result"
        }
      ],
      "source": [
        "ProductionGraph(d)"
      ]
    }
  ],
  "metadata": {
    "kernelspec": {
      "display_name": "Python 3",
      "language": "python",
      "name": "python3"
    },
    "language_info": {
      "codemirror_mode": {
        "name": "ipython",
        "version": 3
      },
      "file_extension": ".py",
      "mimetype": "text/x-python",
      "name": "python",
      "nbconvert_exporter": "python",
      "pygments_lexer": "ipython3"
    }
  },
  "nbformat": 4,
  "nbformat_minor": 2
}
