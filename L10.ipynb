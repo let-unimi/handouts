{
  "cells": [
    {
      "cell_type": "markdown",
      "metadata": {},
      "source": [
        "# Lezione 10"
      ]
    },
    {
      "cell_type": "code",
      "execution_count": null,
      "metadata": {},
      "outputs": [],
      "source": [
        "from textwrap import dedent, indent\n",
        "\n",
        "from liblet import (\n",
        "    Grammar, \n",
        "    Derivation, \n",
        "    ProductionGraph, \n",
        "    show_calls, \n",
        "    iter2table\n",
        ")"
      ]
    },
    {
      "cell_type": "markdown",
      "metadata": {},
      "source": [
        "## Eliminazione della ricorsione"
      ]
    },
    {
      "cell_type": "code",
      "execution_count": null,
      "metadata": {},
      "outputs": [
        {
          "data": {
            "text/plain": [
              "'\\nE -> E + T | E - T | T\\nT -> t\\n'"
            ]
          },
          "execution_count": 1,
          "metadata": {},
          "output_type": "execute_result"
        }
      ],
      "source": [
        "# grammatica per l'aritmetica col + e il - \n",
        "\n",
        "# versione ricorsiva\n",
        "\n",
        "\"\"\"\n",
        "E -> E + T | E - T | T\n",
        "T -> t\n",
        "\"\"\";"
      ]
    },
    {
      "cell_type": "code",
      "execution_count": null,
      "metadata": {},
      "outputs": [
        {
          "data": {
            "text/plain": [
              "'\\nE -> Eh Ets | Eh\\nEh -> T\\nEts -> Et Ets | Et\\nEt -> + T | - T\\nT -> t\\n'"
            ]
          },
          "execution_count": 1,
          "metadata": {},
          "output_type": "execute_result"
        }
      ],
      "source": [
        "# versione non ricorsiva\n",
        "\n",
        "\"\"\"\n",
        "E -> Eh Ets | Eh\n",
        "Eh -> T\n",
        "Ets -> Et Ets | Et\n",
        "Et -> + T | - T\n",
        "T -> t\n",
        "\"\"\";"
      ]
    },
    {
      "cell_type": "code",
      "execution_count": null,
      "metadata": {},
      "outputs": [
        {
          "data": {
            "text/plain": [
              "Grammar(N={E, Eh, Et, Ets, T}, T={#, +, -, t}, P=(E -> Eh Ets, E -> Eh #, Eh -> T, Ets -> Et Ets, Ets -> Et #, Et -> + T, Et -> - T, T -> t), S=E)"
            ]
          },
          "execution_count": 1,
          "metadata": {},
          "output_type": "execute_result"
        }
      ],
      "source": [
        "# versione prefix-free\n",
        "\n",
        "G = Grammar.from_string(\"\"\"\n",
        "E -> Eh Ets | Eh #\n",
        "Eh -> T\n",
        "Ets -> Et Ets | Et #\n",
        "Et -> + T | - T\n",
        "T -> t\n",
        "\"\"\")\n",
        "G\n",
        "\n",
        "# Ets => Et^+ #\n",
        "# E => Eh Ets * #"
      ]
    },
    {
      "cell_type": "markdown",
      "metadata": {},
      "source": [
        "## Costruzione manuale del parser\n",
        "\n",
        "Costruiamo una funzione `match` (a partire dalla grammatica $G$) che su input $X$ e $\\alpha\\beta$ restituisce una coppia $(b, \\beta)$ dove $b$ è `True`  se e solo se il simbolo $X \\in N \\cup T$ è tale che $X\\stackrel{*}{\\to}\\alpha$."
      ]
    },
    {
      "cell_type": "code",
      "execution_count": null,
      "metadata": {},
      "outputs": [],
      "source": [
        "@show_calls(True)\n",
        "def match(X, rest):\n",
        "\n",
        "    if X in G.T:\n",
        "        \n",
        "        if rest and rest[0] == X: return True, rest[1:]\n",
        "        return False, rest\n",
        "\n",
        "    elif X == 'T': # T -> t\n",
        "\n",
        "        return match('t', rest)\n",
        "\n",
        "    elif X == 'Eh': # Eh -> T\n",
        "\n",
        "        return match('T', rest)\n",
        "    \n",
        "    elif X == 'Et': # Et -> + T | - T\n",
        "\n",
        "        s, r = match('+', rest)\n",
        "        if s: return match('T', r)\n",
        "        s, r = match('-', rest)\n",
        "        if s: return match('T', r)\n",
        "        return False, rest        \n",
        "\n",
        "    elif X == 'Ets': # Ets -> Et Ets | Et #\n",
        "\n",
        "        s0, r0 = match('Et', rest)\n",
        "        if s0:\n",
        "            s1, r1 = match('#', r0)\n",
        "            if s1: return True, r1\n",
        "            return match('Ets', r0)\n",
        "        return False, rest        \n",
        "    \n",
        "    elif X == 'E': # E -> Eh Ets | Eh #\n",
        "\n",
        "        s0, r0 = match('Eh', rest)\n",
        "        if s0:\n",
        "            s1, r1 = match('#', r0)\n",
        "            if s1: return True, r1\n",
        "            return match('Ets', r0)\n",
        "        return False, rest        \n"
      ]
    },
    {
      "cell_type": "markdown",
      "metadata": {},
      "source": [
        "Decidere se $\\omega\\in L(G)$ equivale a chiedersi se su input $E$ e $\\omega$ la funzione restituisce (`True`, $\\varepsilon$)."
      ]
    },
    {
      "cell_type": "code",
      "execution_count": null,
      "metadata": {},
      "outputs": [
        {
          "name": "stdout",
          "output_type": "stream",
          "text": [
            "┌match('E', ['t', '+', 't', '-', 't', '#'])\n",
            "│┌match('Eh', ['t', '+', 't', '-', 't', '#'])\n",
            "││┌match('T', ['t', '+', 't', '-', 't', '#'])\n",
            "│││┌match('t', ['t', '+', 't', '-', 't', '#'])\n",
            "│││└─ (True, ['+', 't', '-', 't', '#'])\n",
            "││└─ (True, ['+', 't', '-', 't', '#'])\n",
            "│└─ (True, ['+', 't', '-', 't', '#'])\n",
            "│┌match('#', ['+', 't', '-', 't', '#'])\n",
            "│└─ (False, ['+', 't', '-', 't', '#'])\n",
            "│┌match('Ets', ['+', 't', '-', 't', '#'])\n",
            "││┌match('Et', ['+', 't', '-', 't', '#'])\n",
            "│││┌match('+', ['+', 't', '-', 't', '#'])\n",
            "│││└─ (True, ['t', '-', 't', '#'])\n",
            "│││┌match('T', ['t', '-', 't', '#'])\n",
            "││││┌match('t', ['t', '-', 't', '#'])\n",
            "││││└─ (True, ['-', 't', '#'])\n",
            "│││└─ (True, ['-', 't', '#'])\n",
            "││└─ (True, ['-', 't', '#'])\n",
            "││┌match('#', ['-', 't', '#'])\n",
            "││└─ (False, ['-', 't', '#'])\n",
            "││┌match('Ets', ['-', 't', '#'])\n",
            "│││┌match('Et', ['-', 't', '#'])\n",
            "││││┌match('+', ['-', 't', '#'])\n",
            "││││└─ (False, ['-', 't', '#'])\n",
            "││││┌match('-', ['-', 't', '#'])\n",
            "││││└─ (True, ['t', '#'])\n",
            "││││┌match('T', ['t', '#'])\n",
            "│││││┌match('t', ['t', '#'])\n",
            "│││││└─ (True, ['#'])\n",
            "││││└─ (True, ['#'])\n",
            "│││└─ (True, ['#'])\n",
            "│││┌match('#', ['#'])\n",
            "│││└─ (True, [])\n",
            "││└─ (True, [])\n",
            "│└─ (True, [])\n",
            "└─ (True, [])\n"
          ]
        },
        {
          "data": {
            "text/plain": [
              "(True, [])"
            ]
          },
          "execution_count": 1,
          "metadata": {},
          "output_type": "execute_result"
        }
      ],
      "source": [
        "INPUT = list('t+t-t#') # le parole sono liste di stringhe…\n",
        "\n",
        "match('E', INPUT)"
      ]
    },
    {
      "cell_type": "markdown",
      "metadata": {},
      "source": [
        "### Ricostruire l'albero di parsing\n",
        "\n",
        "Modifichiamo la funzione `match` perché restituisca anche la sequenza delle derivazioni leftmost che conducono al riconoscimento."
      ]
    },
    {
      "cell_type": "code",
      "execution_count": null,
      "metadata": {},
      "outputs": [
        {
          "data": {
            "text/html": [
              "<style>td, th {border: 1pt solid lightgray !important ;}</style><table><tr><th style=\"text-align:left\">0<td style=\"text-align:left\"><pre>E -&gt; Eh Ets</pre>\n",
              "<tr><th style=\"text-align:left\">1<td style=\"text-align:left\"><pre>E -&gt; Eh #</pre>\n",
              "<tr><th style=\"text-align:left\">2<td style=\"text-align:left\"><pre>Eh -&gt; T</pre>\n",
              "<tr><th style=\"text-align:left\">3<td style=\"text-align:left\"><pre>Ets -&gt; Et Ets</pre>\n",
              "<tr><th style=\"text-align:left\">4<td style=\"text-align:left\"><pre>Ets -&gt; Et #</pre>\n",
              "<tr><th style=\"text-align:left\">5<td style=\"text-align:left\"><pre>Et -&gt; + T</pre>\n",
              "<tr><th style=\"text-align:left\">6<td style=\"text-align:left\"><pre>Et -&gt; - T</pre>\n",
              "<tr><th style=\"text-align:left\">7<td style=\"text-align:left\"><pre>T -&gt; t</pre></table>"
            ],
            "text/plain": [
              "<IPython.core.display.HTML object>"
            ]
          },
          "execution_count": 1,
          "metadata": {},
          "output_type": "execute_result"
        }
      ],
      "source": [
        "# servono i numeri di produzione\n",
        "\n",
        "iter2table(G.P)"
      ]
    },
    {
      "cell_type": "code",
      "execution_count": null,
      "metadata": {},
      "outputs": [],
      "source": [
        "# ora match restituisce: succ, rest, steps\n",
        "\n",
        "@show_calls(True)\n",
        "def match(X, rest): \n",
        "\n",
        "    if X in G.T:\n",
        "        \n",
        "        if rest and rest[0] == X: return True, rest[1:]\n",
        "        return False, rest\n",
        "\n",
        "    elif X == 'T':\n",
        "\n",
        "        s, r = match('t', rest)\n",
        "        if s: return True, r, [7]\n",
        "        \n",
        "    elif X == 'Eh':\n",
        "        \n",
        "        s, r, p = match('T', rest)\n",
        "        if s: return True, r, [2] + p\n",
        "\n",
        "    elif X == 'Et':\n",
        "        \n",
        "        s, r = match('+', rest)\n",
        "        if s:\n",
        "            s, r, p = match('T', r)\n",
        "            if s: return True, r, [5] + p\n",
        "        s, r = match('-', rest)\n",
        "        if s: \n",
        "            s, r, p = match('T', r)\n",
        "            if s: return True, r, [6] + p\n",
        "            \n",
        "    elif X == 'Ets':\n",
        "        \n",
        "        s0, r0, p0 = match('Et', rest)\n",
        "        if s0:\n",
        "            s1, r1 = match('#', r0)\n",
        "            if s1: return True, r1, [4] + p0\n",
        "            s2, r2, p2 = match('Ets', r0)\n",
        "            if s2: return True, r2, [3] + p0 + p2\n",
        "\n",
        "    elif X == 'E':\n",
        "\n",
        "        s0, r0, p0 = match('Eh', rest)\n",
        "        if s0:\n",
        "            s1, r1 = match('#', r0)\n",
        "            if s1: return True, r1, [1] + p0\n",
        "            s2, r2, p2 = match('Ets', r0)\n",
        "            if s2: return True, r2, [0] + p0 + p2\n",
        "\n",
        "    return False, rest, []        "
      ]
    },
    {
      "cell_type": "code",
      "execution_count": null,
      "metadata": {},
      "outputs": [
        {
          "name": "stdout",
          "output_type": "stream",
          "text": [
            "┌match('E', ['t', '+', 't', '-', 't', '#'])\n",
            "│┌match('Eh', ['t', '+', 't', '-', 't', '#'])\n",
            "││┌match('T', ['t', '+', 't', '-', 't', '#'])\n",
            "│││┌match('t', ['t', '+', 't', '-', 't', '#'])\n",
            "│││└─ (True, ['+', 't', '-', 't', '#'])\n",
            "││└─ (True, ['+', 't', '-', 't', '#'], [7])\n",
            "│└─ (True, ['+', 't', '-', 't', '#'], [2, 7])\n",
            "│┌match('#', ['+', 't', '-', 't', '#'])\n",
            "│└─ (False, ['+', 't', '-', 't', '#'])\n",
            "│┌match('Ets', ['+', 't', '-', 't', '#'])\n",
            "││┌match('Et', ['+', 't', '-', 't', '#'])\n",
            "│││┌match('+', ['+', 't', '-', 't', '#'])\n",
            "│││└─ (True, ['t', '-', 't', '#'])\n",
            "│││┌match('T', ['t', '-', 't', '#'])\n",
            "││││┌match('t', ['t', '-', 't', '#'])\n",
            "││││└─ (True, ['-', 't', '#'])\n",
            "│││└─ (True, ['-', 't', '#'], [7])\n",
            "││└─ (True, ['-', 't', '#'], [5, 7])\n",
            "││┌match('#', ['-', 't', '#'])\n",
            "││└─ (False, ['-', 't', '#'])\n",
            "││┌match('Ets', ['-', 't', '#'])\n",
            "│││┌match('Et', ['-', 't', '#'])\n",
            "││││┌match('+', ['-', 't', '#'])\n",
            "││││└─ (False, ['-', 't', '#'])\n",
            "││││┌match('-', ['-', 't', '#'])\n",
            "││││└─ (True, ['t', '#'])\n",
            "││││┌match('T', ['t', '#'])\n",
            "│││││┌match('t', ['t', '#'])\n",
            "│││││└─ (True, ['#'])\n",
            "││││└─ (True, ['#'], [7])\n",
            "│││└─ (True, ['#'], [6, 7])\n",
            "│││┌match('#', ['#'])\n",
            "│││└─ (True, [])\n",
            "││└─ (True, [], [4, 6, 7])\n",
            "│└─ (True, [], [3, 5, 7, 4, 6, 7])\n",
            "└─ (True, [], [0, 2, 7, 3, 5, 7, 4, 6, 7])\n"
          ]
        },
        {
          "data": {
            "text/plain": [
              "[0, 2, 7, 3, 5, 7, 4, 6, 7]"
            ]
          },
          "execution_count": 1,
          "metadata": {},
          "output_type": "execute_result"
        }
      ],
      "source": [
        "# testiamo lo stesso input\n",
        "\n",
        "_, _, steps = match('E', INPUT)\n",
        "steps"
      ]
    },
    {
      "cell_type": "code",
      "execution_count": null,
      "metadata": {},
      "outputs": [
        {
          "data": {
            "image/svg+xml": [
              "<?xml version=\"1.0\" encoding=\"UTF-8\" standalone=\"no\"?>\n",
              "<!DOCTYPE svg PUBLIC \"-//W3C//DTD SVG 1.1//EN\"\n",
              " \"http://www.w3.org/Graphics/SVG/1.1/DTD/svg11.dtd\">\n",
              "<!-- Generated by graphviz version 2.43.0 (0)\n",
              " -->\n",
              "<!-- Title: %3 Pages: 1 -->\n",
              "<svg width=\"163pt\" height=\"236pt\"\n",
              " viewBox=\"0.00 0.00 162.50 236.00\" xmlns=\"http://www.w3.org/2000/svg\" xmlns:xlink=\"http://www.w3.org/1999/xlink\">\n",
              "<g id=\"graph0\" class=\"graph\" transform=\"scale(1 1) rotate(0) translate(4 232)\">\n",
              "<title>%3</title>\n",
              "<polygon fill=\"white\" stroke=\"transparent\" points=\"-4,4 -4,-232 158.5,-232 158.5,4 -4,4\"/>\n",
              "<!-- 6740106871094902653 -->\n",
              "<g id=\"node1\" class=\"node\">\n",
              "<title>6740106871094902653</title>\n",
              "<path fill=\"none\" stroke=\"black\" stroke-width=\"0.25\" d=\"M49.83,-228C49.83,-228 44.17,-228 44.17,-228 41.33,-228 38.5,-225.17 38.5,-222.33 38.5,-222.33 38.5,-210.67 38.5,-210.67 38.5,-207.83 41.33,-205 44.17,-205 44.17,-205 49.83,-205 49.83,-205 52.67,-205 55.5,-207.83 55.5,-210.67 55.5,-210.67 55.5,-222.33 55.5,-222.33 55.5,-225.17 52.67,-228 49.83,-228\"/>\n",
              "<text text-anchor=\"middle\" x=\"47\" y=\"-212.8\" font-family=\"Times,serif\" font-size=\"14.00\">E</text>\n",
              "</g>\n",
              "<!-- &#45;6054163022033795373 -->\n",
              "<g id=\"node2\" class=\"node\">\n",
              "<title>&#45;6054163022033795373</title>\n",
              "<path fill=\"none\" stroke=\"black\" stroke-width=\"0.25\" d=\"M30.33,-187C30.33,-187 21.67,-187 21.67,-187 17.83,-187 14,-183.17 14,-179.33 14,-179.33 14,-171.67 14,-171.67 14,-167.83 17.83,-164 21.67,-164 21.67,-164 30.33,-164 30.33,-164 34.17,-164 38,-167.83 38,-171.67 38,-171.67 38,-179.33 38,-179.33 38,-183.17 34.17,-187 30.33,-187\"/>\n",
              "<text text-anchor=\"middle\" x=\"26\" y=\"-171.8\" font-family=\"Times,serif\" font-size=\"14.00\">Eh</text>\n",
              "</g>\n",
              "<!-- 6740106871094902653&#45;&gt;&#45;6054163022033795373 -->\n",
              "<g id=\"edge1\" class=\"edge\">\n",
              "<title>6740106871094902653&#45;&gt;&#45;6054163022033795373</title>\n",
              "<path fill=\"none\" stroke=\"black\" stroke-width=\"0.5\" d=\"M41.26,-204.84C38.3,-199.34 34.69,-192.65 31.73,-187.14\"/>\n",
              "</g>\n",
              "<!-- 2847994354774243964 -->\n",
              "<g id=\"node3\" class=\"node\">\n",
              "<title>2847994354774243964</title>\n",
              "<path fill=\"none\" stroke=\"black\" stroke-width=\"0.25\" d=\"M74.33,-187C74.33,-187 63.67,-187 63.67,-187 59.83,-187 56,-183.17 56,-179.33 56,-179.33 56,-171.67 56,-171.67 56,-167.83 59.83,-164 63.67,-164 63.67,-164 74.33,-164 74.33,-164 78.17,-164 82,-167.83 82,-171.67 82,-171.67 82,-179.33 82,-179.33 82,-183.17 78.17,-187 74.33,-187\"/>\n",
              "<text text-anchor=\"middle\" x=\"69\" y=\"-171.8\" font-family=\"Times,serif\" font-size=\"14.00\">Ets</text>\n",
              "</g>\n",
              "<!-- 6740106871094902653&#45;&gt;2847994354774243964 -->\n",
              "<g id=\"edge2\" class=\"edge\">\n",
              "<title>6740106871094902653&#45;&gt;2847994354774243964</title>\n",
              "<path fill=\"none\" stroke=\"black\" stroke-width=\"0.5\" d=\"M53.01,-204.84C56.12,-199.34 59.89,-192.65 63,-187.14\"/>\n",
              "</g>\n",
              "<!-- &#45;6054163022033795373&#45;&gt;2847994354774243964 -->\n",
              "<!-- 1582078820504130854 -->\n",
              "<g id=\"node4\" class=\"node\">\n",
              "<title>1582078820504130854</title>\n",
              "<path fill=\"none\" stroke=\"black\" stroke-width=\"0.25\" d=\"M18.83,-146C18.83,-146 13.17,-146 13.17,-146 10.33,-146 7.5,-143.17 7.5,-140.33 7.5,-140.33 7.5,-128.67 7.5,-128.67 7.5,-125.83 10.33,-123 13.17,-123 13.17,-123 18.83,-123 18.83,-123 21.67,-123 24.5,-125.83 24.5,-128.67 24.5,-128.67 24.5,-140.33 24.5,-140.33 24.5,-143.17 21.67,-146 18.83,-146\"/>\n",
              "<text text-anchor=\"middle\" x=\"16\" y=\"-130.8\" font-family=\"Times,serif\" font-size=\"14.00\">T</text>\n",
              "</g>\n",
              "<!-- &#45;6054163022033795373&#45;&gt;1582078820504130854 -->\n",
              "<g id=\"edge4\" class=\"edge\">\n",
              "<title>&#45;6054163022033795373&#45;&gt;1582078820504130854</title>\n",
              "<path fill=\"none\" stroke=\"black\" stroke-width=\"0.5\" d=\"M23.27,-163.84C21.86,-158.34 20.14,-151.65 18.73,-146.14\"/>\n",
              "</g>\n",
              "<!-- 1334162692875424785 -->\n",
              "<g id=\"node6\" class=\"node\">\n",
              "<title>1334162692875424785</title>\n",
              "<path fill=\"none\" stroke=\"black\" stroke-width=\"0.25\" d=\"M72.5,-146C72.5,-146 65.5,-146 65.5,-146 62,-146 58.5,-142.5 58.5,-139 58.5,-139 58.5,-130 58.5,-130 58.5,-126.5 62,-123 65.5,-123 65.5,-123 72.5,-123 72.5,-123 76,-123 79.5,-126.5 79.5,-130 79.5,-130 79.5,-139 79.5,-139 79.5,-142.5 76,-146 72.5,-146\"/>\n",
              "<text text-anchor=\"middle\" x=\"69\" y=\"-130.8\" font-family=\"Times,serif\" font-size=\"14.00\">Et</text>\n",
              "</g>\n",
              "<!-- 2847994354774243964&#45;&gt;1334162692875424785 -->\n",
              "<g id=\"edge6\" class=\"edge\">\n",
              "<title>2847994354774243964&#45;&gt;1334162692875424785</title>\n",
              "<path fill=\"none\" stroke=\"black\" stroke-width=\"0.5\" d=\"M69,-163.84C69,-158.34 69,-151.65 69,-146.14\"/>\n",
              "</g>\n",
              "<!-- &#45;4892141562643588284 -->\n",
              "<g id=\"node7\" class=\"node\">\n",
              "<title>&#45;4892141562643588284</title>\n",
              "<path fill=\"none\" stroke=\"black\" stroke-width=\"0.25\" d=\"M116.33,-146C116.33,-146 105.67,-146 105.67,-146 101.83,-146 98,-142.17 98,-138.33 98,-138.33 98,-130.67 98,-130.67 98,-126.83 101.83,-123 105.67,-123 105.67,-123 116.33,-123 116.33,-123 120.17,-123 124,-126.83 124,-130.67 124,-130.67 124,-138.33 124,-138.33 124,-142.17 120.17,-146 116.33,-146\"/>\n",
              "<text text-anchor=\"middle\" x=\"111\" y=\"-130.8\" font-family=\"Times,serif\" font-size=\"14.00\">Ets</text>\n",
              "</g>\n",
              "<!-- 2847994354774243964&#45;&gt;&#45;4892141562643588284 -->\n",
              "<g id=\"edge7\" class=\"edge\">\n",
              "<title>2847994354774243964&#45;&gt;&#45;4892141562643588284</title>\n",
              "<path fill=\"none\" stroke=\"black\" stroke-width=\"0.5\" d=\"M80.48,-163.84C86.4,-158.34 93.61,-151.65 99.54,-146.14\"/>\n",
              "</g>\n",
              "<!-- 2458861066508218454 -->\n",
              "<g id=\"node5\" class=\"node\">\n",
              "<title>2458861066508218454</title>\n",
              "<path fill=\"none\" stroke=\"black\" stroke-width=\"1.25\" d=\"M8,-105C8,-105 4,-105 4,-105 2,-105 0,-103 0,-101 0,-101 0,-86 0,-86 0,-84 2,-82 4,-82 4,-82 8,-82 8,-82 10,-82 12,-84 12,-86 12,-86 12,-101 12,-101 12,-103 10,-105 8,-105\"/>\n",
              "<text text-anchor=\"middle\" x=\"6\" y=\"-89.8\" font-family=\"Times,serif\" font-size=\"14.00\">t</text>\n",
              "</g>\n",
              "<!-- 1582078820504130854&#45;&gt;2458861066508218454 -->\n",
              "<g id=\"edge5\" class=\"edge\">\n",
              "<title>1582078820504130854&#45;&gt;2458861066508218454</title>\n",
              "<path fill=\"none\" stroke=\"black\" stroke-width=\"0.5\" d=\"M13.27,-122.84C11.86,-117.34 10.14,-110.65 8.73,-105.14\"/>\n",
              "</g>\n",
              "<!-- 1334162692875424785&#45;&gt;&#45;4892141562643588284 -->\n",
              "<!-- 3509698306074106919 -->\n",
              "<g id=\"node8\" class=\"node\">\n",
              "<title>3509698306074106919</title>\n",
              "<path fill=\"none\" stroke=\"black\" stroke-width=\"1.25\" d=\"M41.83,-105C41.83,-105 36.17,-105 36.17,-105 33.33,-105 30.5,-102.17 30.5,-99.33 30.5,-99.33 30.5,-87.67 30.5,-87.67 30.5,-84.83 33.33,-82 36.17,-82 36.17,-82 41.83,-82 41.83,-82 44.67,-82 47.5,-84.83 47.5,-87.67 47.5,-87.67 47.5,-99.33 47.5,-99.33 47.5,-102.17 44.67,-105 41.83,-105\"/>\n",
              "<text text-anchor=\"middle\" x=\"39\" y=\"-89.8\" font-family=\"Times,serif\" font-size=\"14.00\">+</text>\n",
              "</g>\n",
              "<!-- 1334162692875424785&#45;&gt;3509698306074106919 -->\n",
              "<g id=\"edge9\" class=\"edge\">\n",
              "<title>1334162692875424785&#45;&gt;3509698306074106919</title>\n",
              "<path fill=\"none\" stroke=\"black\" stroke-width=\"0.5\" d=\"M60.8,-122.84C56.57,-117.34 51.42,-110.65 47.19,-105.14\"/>\n",
              "</g>\n",
              "<!-- &#45;3162282010166132143 -->\n",
              "<g id=\"node9\" class=\"node\">\n",
              "<title>&#45;3162282010166132143</title>\n",
              "<path fill=\"none\" stroke=\"black\" stroke-width=\"0.25\" d=\"M76.83,-105C76.83,-105 71.17,-105 71.17,-105 68.33,-105 65.5,-102.17 65.5,-99.33 65.5,-99.33 65.5,-87.67 65.5,-87.67 65.5,-84.83 68.33,-82 71.17,-82 71.17,-82 76.83,-82 76.83,-82 79.67,-82 82.5,-84.83 82.5,-87.67 82.5,-87.67 82.5,-99.33 82.5,-99.33 82.5,-102.17 79.67,-105 76.83,-105\"/>\n",
              "<text text-anchor=\"middle\" x=\"74\" y=\"-89.8\" font-family=\"Times,serif\" font-size=\"14.00\">T</text>\n",
              "</g>\n",
              "<!-- 1334162692875424785&#45;&gt;&#45;3162282010166132143 -->\n",
              "<g id=\"edge10\" class=\"edge\">\n",
              "<title>1334162692875424785&#45;&gt;&#45;3162282010166132143</title>\n",
              "<path fill=\"none\" stroke=\"black\" stroke-width=\"0.5\" d=\"M70.37,-122.84C71.07,-117.34 71.93,-110.65 72.64,-105.14\"/>\n",
              "</g>\n",
              "<!-- &#45;2007615841558039335 -->\n",
              "<g id=\"node11\" class=\"node\">\n",
              "<title>&#45;2007615841558039335</title>\n",
              "<path fill=\"none\" stroke=\"black\" stroke-width=\"0.25\" d=\"M114.5,-105C114.5,-105 107.5,-105 107.5,-105 104,-105 100.5,-101.5 100.5,-98 100.5,-98 100.5,-89 100.5,-89 100.5,-85.5 104,-82 107.5,-82 107.5,-82 114.5,-82 114.5,-82 118,-82 121.5,-85.5 121.5,-89 121.5,-89 121.5,-98 121.5,-98 121.5,-101.5 118,-105 114.5,-105\"/>\n",
              "<text text-anchor=\"middle\" x=\"111\" y=\"-89.8\" font-family=\"Times,serif\" font-size=\"14.00\">Et</text>\n",
              "</g>\n",
              "<!-- &#45;4892141562643588284&#45;&gt;&#45;2007615841558039335 -->\n",
              "<g id=\"edge13\" class=\"edge\">\n",
              "<title>&#45;4892141562643588284&#45;&gt;&#45;2007615841558039335</title>\n",
              "<path fill=\"none\" stroke=\"black\" stroke-width=\"0.5\" d=\"M111,-122.84C111,-117.34 111,-110.65 111,-105.14\"/>\n",
              "</g>\n",
              "<!-- 5581857283224656876 -->\n",
              "<g id=\"node12\" class=\"node\">\n",
              "<title>5581857283224656876</title>\n",
              "<path fill=\"none\" stroke=\"black\" stroke-width=\"1.25\" d=\"M149.5,-105C149.5,-105 144.5,-105 144.5,-105 142,-105 139.5,-102.5 139.5,-100 139.5,-100 139.5,-87 139.5,-87 139.5,-84.5 142,-82 144.5,-82 144.5,-82 149.5,-82 149.5,-82 152,-82 154.5,-84.5 154.5,-87 154.5,-87 154.5,-100 154.5,-100 154.5,-102.5 152,-105 149.5,-105\"/>\n",
              "<text text-anchor=\"middle\" x=\"147\" y=\"-89.8\" font-family=\"Times,serif\" font-size=\"14.00\">#</text>\n",
              "</g>\n",
              "<!-- &#45;4892141562643588284&#45;&gt;5581857283224656876 -->\n",
              "<g id=\"edge14\" class=\"edge\">\n",
              "<title>&#45;4892141562643588284&#45;&gt;5581857283224656876</title>\n",
              "<path fill=\"none\" stroke=\"black\" stroke-width=\"0.5\" d=\"M120.84,-122.84C126.67,-116.53 133.94,-108.64 139.34,-102.79\"/>\n",
              "</g>\n",
              "<!-- 3509698306074106919&#45;&gt;&#45;3162282010166132143 -->\n",
              "<!-- 1275356449987197249 -->\n",
              "<g id=\"node10\" class=\"node\">\n",
              "<title>1275356449987197249</title>\n",
              "<path fill=\"none\" stroke=\"black\" stroke-width=\"1.25\" d=\"M76,-64C76,-64 72,-64 72,-64 70,-64 68,-62 68,-60 68,-60 68,-45 68,-45 68,-43 70,-41 72,-41 72,-41 76,-41 76,-41 78,-41 80,-43 80,-45 80,-45 80,-60 80,-60 80,-62 78,-64 76,-64\"/>\n",
              "<text text-anchor=\"middle\" x=\"74\" y=\"-48.8\" font-family=\"Times,serif\" font-size=\"14.00\">t</text>\n",
              "</g>\n",
              "<!-- &#45;3162282010166132143&#45;&gt;1275356449987197249 -->\n",
              "<g id=\"edge12\" class=\"edge\">\n",
              "<title>&#45;3162282010166132143&#45;&gt;1275356449987197249</title>\n",
              "<path fill=\"none\" stroke=\"black\" stroke-width=\"0.5\" d=\"M74,-81.84C74,-76.34 74,-69.65 74,-64.14\"/>\n",
              "</g>\n",
              "<!-- &#45;2007615841558039335&#45;&gt;5581857283224656876 -->\n",
              "<!-- &#45;3172955162269626559 -->\n",
              "<g id=\"node13\" class=\"node\">\n",
              "<title>&#45;3172955162269626559</title>\n",
              "<path fill=\"none\" stroke=\"black\" stroke-width=\"1.25\" d=\"M110.17,-64C110.17,-64 105.83,-64 105.83,-64 103.67,-64 101.5,-61.83 101.5,-59.67 101.5,-59.67 101.5,-45.33 101.5,-45.33 101.5,-43.17 103.67,-41 105.83,-41 105.83,-41 110.17,-41 110.17,-41 112.33,-41 114.5,-43.17 114.5,-45.33 114.5,-45.33 114.5,-59.67 114.5,-59.67 114.5,-61.83 112.33,-64 110.17,-64\"/>\n",
              "<text text-anchor=\"middle\" x=\"108\" y=\"-48.8\" font-family=\"Times,serif\" font-size=\"14.00\">&#45;</text>\n",
              "</g>\n",
              "<!-- &#45;2007615841558039335&#45;&gt;&#45;3172955162269626559 -->\n",
              "<g id=\"edge16\" class=\"edge\">\n",
              "<title>&#45;2007615841558039335&#45;&gt;&#45;3172955162269626559</title>\n",
              "<path fill=\"none\" stroke=\"black\" stroke-width=\"0.5\" d=\"M110.18,-81.84C109.76,-76.34 109.24,-69.65 108.82,-64.14\"/>\n",
              "</g>\n",
              "<!-- 7544326146125587225 -->\n",
              "<g id=\"node14\" class=\"node\">\n",
              "<title>7544326146125587225</title>\n",
              "<path fill=\"none\" stroke=\"black\" stroke-width=\"0.25\" d=\"M143.83,-64C143.83,-64 138.17,-64 138.17,-64 135.33,-64 132.5,-61.17 132.5,-58.33 132.5,-58.33 132.5,-46.67 132.5,-46.67 132.5,-43.83 135.33,-41 138.17,-41 138.17,-41 143.83,-41 143.83,-41 146.67,-41 149.5,-43.83 149.5,-46.67 149.5,-46.67 149.5,-58.33 149.5,-58.33 149.5,-61.17 146.67,-64 143.83,-64\"/>\n",
              "<text text-anchor=\"middle\" x=\"141\" y=\"-48.8\" font-family=\"Times,serif\" font-size=\"14.00\">T</text>\n",
              "</g>\n",
              "<!-- &#45;2007615841558039335&#45;&gt;7544326146125587225 -->\n",
              "<g id=\"edge17\" class=\"edge\">\n",
              "<title>&#45;2007615841558039335&#45;&gt;7544326146125587225</title>\n",
              "<path fill=\"none\" stroke=\"black\" stroke-width=\"0.5\" d=\"M119.2,-81.84C123.43,-76.34 128.58,-69.65 132.81,-64.14\"/>\n",
              "</g>\n",
              "<!-- &#45;3172955162269626559&#45;&gt;7544326146125587225 -->\n",
              "<!-- &#45;6464779467430634999 -->\n",
              "<g id=\"node15\" class=\"node\">\n",
              "<title>&#45;6464779467430634999</title>\n",
              "<path fill=\"none\" stroke=\"black\" stroke-width=\"1.25\" d=\"M143,-23C143,-23 139,-23 139,-23 137,-23 135,-21 135,-19 135,-19 135,-4 135,-4 135,-2 137,0 139,0 139,0 143,0 143,0 145,0 147,-2 147,-4 147,-4 147,-19 147,-19 147,-21 145,-23 143,-23\"/>\n",
              "<text text-anchor=\"middle\" x=\"141\" y=\"-7.8\" font-family=\"Times,serif\" font-size=\"14.00\">t</text>\n",
              "</g>\n",
              "<!-- 7544326146125587225&#45;&gt;&#45;6464779467430634999 -->\n",
              "<g id=\"edge19\" class=\"edge\">\n",
              "<title>7544326146125587225&#45;&gt;&#45;6464779467430634999</title>\n",
              "<path fill=\"none\" stroke=\"black\" stroke-width=\"0.5\" d=\"M141,-40.84C141,-35.34 141,-28.65 141,-23.14\"/>\n",
              "</g>\n",
              "</g>\n",
              "</svg>\n"
            ],
            "text/plain": [
              "ProductionGraph(E -> Eh Ets -> T Ets -> t Ets -> t Et Ets -> t + T Ets -> t + t Ets -> t + t Et # -> t + t - T # -> t + t - t #)"
            ]
          },
          "execution_count": 1,
          "metadata": {},
          "output_type": "execute_result"
        }
      ],
      "source": [
        "# graficamente\n",
        "\n",
        "d = Derivation(G).leftmost(steps)\n",
        "ProductionGraph(d)"
      ]
    },
    {
      "cell_type": "markdown",
      "metadata": {},
      "source": [
        "## Generazione automatica del parser\n",
        "\n",
        "Iniziamo con l'osservare che gli `if` della soluzione manuale sono prodotti, uno per ciascun simbolo, considerando in sequenza le possibili alternative (lati destri delle produzioni) e restituendo successo al primo tentativo valido.\n",
        "\n",
        "Un esmepio è il simbolo `Ets` le cui due alternative sono `Et Ets` e `Et #`… supponiamo di scaricarne la soluzione a due funzioni denominate `Ets_alt0` e `Ets_alt0` che definiremo in seguito."
      ]
    },
    {
      "cell_type": "code",
      "execution_count": null,
      "metadata": {},
      "outputs": [],
      "source": [
        "def match(X, rest):\n",
        "    \n",
        "    # ...\n",
        "    \n",
        "    if X == 'Ets':\n",
        "        succ_alt, rest_alt = Ets_alt0(rest)\n",
        "        if succ_alt: return True, rest_alt\n",
        "        succ_alt, rest_alt = Ets_alt1(rest)\n",
        "        if succ_alt: return True, rest_alt\n",
        "        return False, rest\n",
        "\n",
        "    # ..."
      ]
    },
    {
      "cell_type": "markdown",
      "metadata": {},
      "source": [
        "Ciascuna alternativa e valutata considerando in sequenza i simboli di cui è costituita, vediamo ad esempio `Et Ets`"
      ]
    },
    {
      "cell_type": "code",
      "execution_count": null,
      "metadata": {},
      "outputs": [],
      "source": [
        "def Ets_alt0(rest):\n",
        "    succ, rest = match('Et', rest)\n",
        "    if not succ: return False, rest\n",
        "    succ, rest = match('Ets', rest)\n",
        "    if not succ: return False, rest\n",
        "    return True, rest"
      ]
    },
    {
      "cell_type": "markdown",
      "metadata": {},
      "source": [
        "e similmente `Et #` "
      ]
    },
    {
      "cell_type": "code",
      "execution_count": null,
      "metadata": {},
      "outputs": [],
      "source": [
        "def Ets_alt1(rest):\n",
        "    succ, rest = match('Et', rest)\n",
        "    if not succ: return False, rest\n",
        "    succ, rest = match('#', rest)\n",
        "    if not succ: return False, rest\n",
        "    return True, rest"
      ]
    },
    {
      "cell_type": "markdown",
      "metadata": {},
      "source": [
        "Non è difficile scrivere una funzione che, data $G$ come input, produca il testo sorgente della funzione `match` procedendo come sopra.\n",
        "\n",
        "Ci servono due funzioni di utlità: la prima per indentare un blocco di testo al livello di intentazione specificato, la seconda per tradurre il codice sorgente di una funzione Python di nome `match` in codice eseguibile."
      ]
    },
    {
      "cell_type": "code",
      "execution_count": null,
      "metadata": {},
      "outputs": [],
      "source": [
        "def indent_at(level, source):\n",
        "    return indent(dedent(source), '  ' * level).strip('\\n')\n",
        "\n",
        "def make_match(source):\n",
        "    glb = {'show_calls': show_calls}\n",
        "    exec(source, glb)\n",
        "    return glb['match']       "
      ]
    },
    {
      "cell_type": "markdown",
      "metadata": {},
      "source": [
        "Siamo pronti per procedere, useremo le [f-stringhe](https://docs.python.org/3/reference/lexical_analysis.html#f-strings) per maggior compattezza, scriviamo una funzione che data $G$ restituisca il sorgente di `match` costruita secondo i criteri precedentemente espressi."
      ]
    },
    {
      "cell_type": "code",
      "execution_count": null,
      "metadata": {},
      "outputs": [],
      "source": [
        "def make_match_source(G):\n",
        "    \n",
        "    # prima le funzioni X_altN\n",
        "    \n",
        "    defs = []\n",
        "    for A in G.N:\n",
        "        for n, α in enumerate(G.alternatives(A)):\n",
        "            # la funzione \"{A}_alt{n}\"\n",
        "            defs.append(f'def {A}_alt{n}(rest):')\n",
        "            for X in α: \n",
        "                # una coppia di linee per ogni simbolo\n",
        "                defs.append(indent_at(1, f'''\n",
        "                  succ, rest = match('{X}', rest)\n",
        "                  if not succ: return False, rest\n",
        "                '''))\n",
        "            defs.append(indent_at(1,'return True, rest'))\n",
        "    \n",
        "    # poi gli if, uno per terminale\n",
        "    \n",
        "    ifs = []\n",
        "    for A in G.N:\n",
        "        # l'if \"X == '{A}'\"\n",
        "        ifs.append(f\"if X == '{A}':\")\n",
        "        for n, α in enumerate(G.alternatives(A)): \n",
        "            # una coppia di linee, una per alternativa\n",
        "            ifs.append(indent_at(1, f'''\n",
        "                succ_alt, rest_alt = {A}_alt{n}(rest)\n",
        "                if succ_alt: return True, rest_alt\n",
        "            '''))\n",
        "        ifs.append(indent_at(1,'return False, rest'))\n",
        "\n",
        "    # in fine i terminali\n",
        "    \n",
        "    ifs.append(indent_at(0, f'''\n",
        "        if X in {G.T}:\n",
        "          if rest and rest[0] == X: return True, rest[1:]\n",
        "          return False, rest\n",
        "    '''))\n",
        "    \n",
        "    # e ora mettiamo tutto assieme \n",
        "    \n",
        "    match = '\\n'.join((\n",
        "        indent_at(0, '''\n",
        "            @show_calls(True)\n",
        "            def match(X, rest):\n",
        "        '''), \n",
        "        indent_at(1, '\\n'.join(defs)), \n",
        "        indent_at(1, '\\n'.join(ifs))))\n",
        "        \n",
        "    return match"
      ]
    },
    {
      "cell_type": "markdown",
      "metadata": {},
      "source": [
        "Siamo pronti, generiamo (e stampiamo) il sorgente"
      ]
    },
    {
      "cell_type": "code",
      "execution_count": null,
      "metadata": {},
      "outputs": [
        {
          "name": "stdout",
          "output_type": "stream",
          "text": [
            "@show_calls(True)\n",
            "def match(X, rest):\n",
            "  def Eh_alt0(rest):\n",
            "    succ, rest = match('T', rest)\n",
            "    if not succ: return False, rest\n",
            "    return True, rest\n",
            "  def Et_alt0(rest):\n",
            "    succ, rest = match('+', rest)\n",
            "    if not succ: return False, rest\n",
            "    succ, rest = match('T', rest)\n",
            "    if not succ: return False, rest\n",
            "    return True, rest\n",
            "  def Et_alt1(rest):\n",
            "    succ, rest = match('-', rest)\n",
            "    if not succ: return False, rest\n",
            "    succ, rest = match('T', rest)\n",
            "    if not succ: return False, rest\n",
            "    return True, rest\n",
            "  def E_alt0(rest):\n",
            "    succ, rest = match('Eh', rest)\n",
            "    if not succ: return False, rest\n",
            "    succ, rest = match('Ets', rest)\n",
            "    if not succ: return False, rest\n",
            "    return True, rest\n",
            "  def E_alt1(rest):\n",
            "    succ, rest = match('Eh', rest)\n",
            "    if not succ: return False, rest\n",
            "    succ, rest = match('#', rest)\n",
            "    if not succ: return False, rest\n",
            "    return True, rest\n",
            "  def T_alt0(rest):\n",
            "    succ, rest = match('t', rest)\n",
            "    if not succ: return False, rest\n",
            "    return True, rest\n",
            "  def Ets_alt0(rest):\n",
            "    succ, rest = match('Et', rest)\n",
            "    if not succ: return False, rest\n",
            "    succ, rest = match('Ets', rest)\n",
            "    if not succ: return False, rest\n",
            "    return True, rest\n",
            "  def Ets_alt1(rest):\n",
            "    succ, rest = match('Et', rest)\n",
            "    if not succ: return False, rest\n",
            "    succ, rest = match('#', rest)\n",
            "    if not succ: return False, rest\n",
            "    return True, rest\n",
            "  if X == 'Eh':\n",
            "    succ_alt, rest_alt = Eh_alt0(rest)\n",
            "    if succ_alt: return True, rest_alt\n",
            "    return False, rest\n",
            "  if X == 'Et':\n",
            "    succ_alt, rest_alt = Et_alt0(rest)\n",
            "    if succ_alt: return True, rest_alt\n",
            "    succ_alt, rest_alt = Et_alt1(rest)\n",
            "    if succ_alt: return True, rest_alt\n",
            "    return False, rest\n",
            "  if X == 'E':\n",
            "    succ_alt, rest_alt = E_alt0(rest)\n",
            "    if succ_alt: return True, rest_alt\n",
            "    succ_alt, rest_alt = E_alt1(rest)\n",
            "    if succ_alt: return True, rest_alt\n",
            "    return False, rest\n",
            "  if X == 'T':\n",
            "    succ_alt, rest_alt = T_alt0(rest)\n",
            "    if succ_alt: return True, rest_alt\n",
            "    return False, rest\n",
            "  if X == 'Ets':\n",
            "    succ_alt, rest_alt = Ets_alt0(rest)\n",
            "    if succ_alt: return True, rest_alt\n",
            "    succ_alt, rest_alt = Ets_alt1(rest)\n",
            "    if succ_alt: return True, rest_alt\n",
            "    return False, rest\n",
            "  if X in frozenset({'t', '+', '#', '-'}):\n",
            "    if rest and rest[0] == X: return True, rest[1:]\n",
            "    return False, rest\n"
          ]
        }
      ],
      "source": [
        "source = make_match_source(G) # G è la grammatica prefix-free dell'inizio\n",
        "print(source)"
      ]
    },
    {
      "cell_type": "markdown",
      "metadata": {},
      "source": [
        "E ora rendiamolo eseguibile e testiamolo sull'input"
      ]
    },
    {
      "cell_type": "code",
      "execution_count": null,
      "metadata": {},
      "outputs": [
        {
          "name": "stdout",
          "output_type": "stream",
          "text": [
            "┌match('E', 't+t-t#')\n",
            "│┌match('Eh', 't+t-t#')\n",
            "││┌match('T', 't+t-t#')\n",
            "│││┌match('t', 't+t-t#')\n",
            "│││└─ (True, '+t-t#')\n",
            "││└─ (True, '+t-t#')\n",
            "│└─ (True, '+t-t#')\n",
            "│┌match('Ets', '+t-t#')\n",
            "││┌match('Et', '+t-t#')\n",
            "│││┌match('+', '+t-t#')\n",
            "│││└─ (True, 't-t#')\n",
            "│││┌match('T', 't-t#')\n",
            "││││┌match('t', 't-t#')\n",
            "││││└─ (True, '-t#')\n",
            "│││└─ (True, '-t#')\n",
            "││└─ (True, '-t#')\n",
            "││┌match('Ets', '-t#')\n",
            "│││┌match('Et', '-t#')\n",
            "││││┌match('+', '-t#')\n",
            "││││└─ (False, '-t#')\n",
            "││││┌match('-', '-t#')\n",
            "││││└─ (True, 't#')\n",
            "││││┌match('T', 't#')\n",
            "│││││┌match('t', 't#')\n",
            "│││││└─ (True, '#')\n",
            "││││└─ (True, '#')\n",
            "│││└─ (True, '#')\n",
            "│││┌match('Ets', '#')\n",
            "││││┌match('Et', '#')\n",
            "│││││┌match('+', '#')\n",
            "│││││└─ (False, '#')\n",
            "│││││┌match('-', '#')\n",
            "│││││└─ (False, '#')\n",
            "││││└─ (False, '#')\n",
            "││││┌match('Et', '#')\n",
            "│││││┌match('+', '#')\n",
            "│││││└─ (False, '#')\n",
            "│││││┌match('-', '#')\n",
            "│││││└─ (False, '#')\n",
            "││││└─ (False, '#')\n",
            "│││└─ (False, '#')\n",
            "│││┌match('Et', '-t#')\n",
            "││││┌match('+', '-t#')\n",
            "││││└─ (False, '-t#')\n",
            "││││┌match('-', '-t#')\n",
            "││││└─ (True, 't#')\n",
            "││││┌match('T', 't#')\n",
            "│││││┌match('t', 't#')\n",
            "│││││└─ (True, '#')\n",
            "││││└─ (True, '#')\n",
            "│││└─ (True, '#')\n",
            "│││┌match('#', '#')\n",
            "│││└─ (True, '')\n",
            "││└─ (True, '')\n",
            "│└─ (True, '')\n",
            "└─ (True, '')\n"
          ]
        },
        {
          "data": {
            "text/plain": [
              "(True, '')"
            ]
          },
          "execution_count": 1,
          "metadata": {},
          "output_type": "execute_result"
        }
      ],
      "source": [
        "match = make_match(source)\n",
        "\n",
        "match('E', 't+t-t#')"
      ]
    },
    {
      "cell_type": "markdown",
      "metadata": {},
      "source": [
        "## Un caso concreto non prefix-free\n",
        "\n",
        "Cosa succede se $G$ non è *prefix-free*?"
      ]
    },
    {
      "cell_type": "code",
      "execution_count": null,
      "metadata": {},
      "outputs": [
        {
          "data": {
            "text/plain": [
              "Grammar(N={S}, T={a, b}, P=(S -> a, S -> a b), S=S)"
            ]
          },
          "execution_count": 1,
          "metadata": {},
          "output_type": "execute_result"
        }
      ],
      "source": [
        "# una grammatica non prefix-free (L = {a, ab})\n",
        "\n",
        "G = Grammar.from_string(\"\"\"\n",
        "S -> a | a b\n",
        "\"\"\")\n",
        "G"
      ]
    },
    {
      "cell_type": "code",
      "execution_count": null,
      "metadata": {},
      "outputs": [
        {
          "name": "stdout",
          "output_type": "stream",
          "text": [
            "┌match('S', 'ab')\n",
            "│┌match('a', 'ab')\n",
            "│└─ (True, 'b')\n",
            "└─ (True, 'b')\n"
          ]
        },
        {
          "data": {
            "text/plain": [
              "(True, 'b')"
            ]
          },
          "execution_count": 1,
          "metadata": {},
          "output_type": "execute_result"
        }
      ],
      "source": [
        "# costruiamo il parser e tentiamo il parse\n",
        "\n",
        "source = make_match_source(G)\n",
        "match = make_match(source)\n",
        "match('S', 'ab')"
      ]
    },
    {
      "cell_type": "markdown",
      "metadata": {},
      "source": [
        "Questo è un fallimento, non è stata considerata la seconda produzione ed in fatti è \"avanzata\" la `b`. Questo avviene perché il parser valuta in sequenza le alterniative e procede nella ricorsione al primo successo (non investigando se ci siano altri possibili successi in altre alternative)."
      ]
    },
    {
      "cell_type": "markdown",
      "metadata": {},
      "source": [
        "## <span style=\"color: red\">Esercizio per casa</span>\n",
        "\n",
        "Modificate `make_match_source` perché la `match` che essa produce restituisca anche l'elenco di produzioni della derivazione *leftmost* corrisondente al parsing effettuato. "
      ]
    }
  ],
  "metadata": {
    "kernelspec": {
      "display_name": "Python 3",
      "language": "python",
      "name": "python3"
    },
    "language_info": {
      "codemirror_mode": {
        "name": "ipython",
        "version": 3
      },
      "file_extension": ".py",
      "mimetype": "text/x-python",
      "name": "python",
      "nbconvert_exporter": "python",
      "pygments_lexer": "ipython3"
    }
  },
  "nbformat": 4,
  "nbformat_minor": 4
}
