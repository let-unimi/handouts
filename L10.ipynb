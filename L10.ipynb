{
  "cells": [
    {
      "cell_type": "markdown",
      "metadata": {},
      "source": [
        "# Linguaggi regolari e automi a stati finiti"
      ]
    },
    {
      "cell_type": "code",
      "execution_count": null,
      "metadata": {},
      "outputs": [],
      "source": [
        "from liblet import (\n",
        "    Grammar, \n",
        "    Production,\n",
        "    Derivation,\n",
        "    Transition,\n",
        "    Automaton,\n",
        "    StateTransitionGraph, \n",
        "    Queue, \n",
        "    closure,\n",
        "    prods2table,\n",
        "    iter2table,\n",
        "    dod2table,\n",
        "    union_of, \n",
        ")"
      ]
    },
    {
      "cell_type": "markdown",
      "metadata": {},
      "source": [
        "\n",
        "## Il linguaggio della parte aperta delle forme sentenziali (Sez 5.1.1)"
      ]
    },
    {
      "cell_type": "code",
      "execution_count": null,
      "metadata": {},
      "outputs": [
        {
          "data": {
            "text/html": [
              "<table class=\"table-bordered\"><tr><th><pre>S</pre><td style=\"text-align:left\"><pre>L & N | N</pre><tr><th><pre>L</pre><td style=\"text-align:left\"><pre>N | N , L</pre><tr><th><pre>N</pre><td style=\"text-align:left\"><pre>d | h | t</pre></table>"
            ],
            "text/plain": [
              "<IPython.core.display.HTML object>"
            ]
          },
          "execution_count": 2,
          "metadata": {},
          "output_type": "execute_result"
        }
      ],
      "source": [
        "# pag. 27, Sec 2.4.3\n",
        "\n",
        "C = Grammar.from_string(\"\"\"\n",
        "S -> N | L & N\n",
        "L -> N ,  L | N\n",
        "N -> t | d | h\n",
        "\"\"\")\n",
        "prods2table(C)"
      ]
    },
    {
      "cell_type": "code",
      "execution_count": null,
      "metadata": {},
      "outputs": [
        {
          "data": {
            "text/plain": [
              "S -> L & N -> N , L & N -> t , L & N -> t , N & N"
            ]
          },
          "execution_count": 3,
          "metadata": {},
          "output_type": "execute_result"
        }
      ],
      "source": [
        "# una derivazione in C la cui parte \"aperta\" è 'N & N'\n",
        "\n",
        "Derivation(C).leftmost((1, 2, 4, 3))"
      ]
    },
    {
      "cell_type": "code",
      "execution_count": null,
      "metadata": {},
      "outputs": [],
      "source": [
        "def open_regular(G):\n",
        "\n",
        "    def bar(symbol):\n",
        "        return symbol if symbol in G.T else symbol + '\\u0305' # aggiunge una barra sopra\n",
        "\n",
        "    T = {bar(G.S)}\n",
        "    P = {Production('R', (G.S, )), Production('R', (bar(G.S), ))}\n",
        "\n",
        "    for A, α in G.P:\n",
        "        while True:\n",
        "            if α == ('ε', ) or not α: break   \n",
        "            Xbar, *αbar = map(bar, α)\n",
        "            X, *α = α\n",
        "            P.add(Production(A, [Xbar] + αbar))\n",
        "            if X in G.T: continue\n",
        "            T.add(Xbar)\n",
        "            P.add(Production(A, [X] + αbar))\n",
        "        P.add(Production(A, ('ε',)))\n",
        "\n",
        "    # sorted garantisce che l'ordine delle produzioni non dipenda\n",
        "    # dall'ordine in cui sono aggiunte al set — che in python non \n",
        "    # preserva l'ordine\n",
        "    return Grammar(G.N | {'R'}, G.T | T, sorted(P), 'R')"
      ]
    },
    {
      "cell_type": "code",
      "execution_count": null,
      "metadata": {},
      "outputs": [
        {
          "data": {
            "text/html": [
              "<table class=\"table-bordered\"><tr><th style=\"text-align:left\">0<td style=\"text-align:left\"><pre>L -&gt; , L̅</pre>\n",
              "<tr><th style=\"text-align:left\">1<td style=\"text-align:left\"><pre>L -&gt; L</pre>\n",
              "<tr><th style=\"text-align:left\">2<td style=\"text-align:left\"><pre>L -&gt; L̅</pre>\n",
              "<tr><th style=\"text-align:left\">3<td style=\"text-align:left\"><pre>L -&gt; N</pre>\n",
              "<tr><th style=\"text-align:left\">4<td style=\"text-align:left\"><pre>L -&gt; N , L̅</pre>\n",
              "<tr><th style=\"text-align:left\">5<td style=\"text-align:left\"><pre>L -&gt; N̅</pre>\n",
              "<tr><th style=\"text-align:left\">6<td style=\"text-align:left\"><pre>L -&gt; N̅ , L̅</pre>\n",
              "<tr><th style=\"text-align:left\">7<td style=\"text-align:left\"><pre>L -&gt; ε</pre>\n",
              "<tr><th style=\"text-align:left\">8<td style=\"text-align:left\"><pre>N -&gt; d</pre>\n",
              "<tr><th style=\"text-align:left\">9<td style=\"text-align:left\"><pre>N -&gt; h</pre>\n",
              "<tr><th style=\"text-align:left\">10<td style=\"text-align:left\"><pre>N -&gt; t</pre>\n",
              "<tr><th style=\"text-align:left\">11<td style=\"text-align:left\"><pre>N -&gt; ε</pre>\n",
              "<tr><th style=\"text-align:left\">12<td style=\"text-align:left\"><pre>R -&gt; S</pre>\n",
              "<tr><th style=\"text-align:left\">13<td style=\"text-align:left\"><pre>R -&gt; S̅</pre>\n",
              "<tr><th style=\"text-align:left\">14<td style=\"text-align:left\"><pre>S -&gt; &amp; N̅</pre>\n",
              "<tr><th style=\"text-align:left\">15<td style=\"text-align:left\"><pre>S -&gt; L &amp; N̅</pre>\n",
              "<tr><th style=\"text-align:left\">16<td style=\"text-align:left\"><pre>S -&gt; L̅ &amp; N̅</pre>\n",
              "<tr><th style=\"text-align:left\">17<td style=\"text-align:left\"><pre>S -&gt; N</pre>\n",
              "<tr><th style=\"text-align:left\">18<td style=\"text-align:left\"><pre>S -&gt; N̅</pre>\n",
              "<tr><th style=\"text-align:left\">19<td style=\"text-align:left\"><pre>S -&gt; ε</pre></table>"
            ],
            "text/plain": [
              "<IPython.core.display.HTML object>"
            ]
          },
          "execution_count": 5,
          "metadata": {},
          "output_type": "execute_result"
        }
      ],
      "source": [
        "G = open_regular(C)\n",
        "\n",
        "iter2table(G.P)"
      ]
    },
    {
      "cell_type": "code",
      "execution_count": null,
      "metadata": {},
      "outputs": [
        {
          "data": {
            "text/plain": [
              "R -> S -> L & N̅ -> N̅ & N̅"
            ]
          },
          "execution_count": 6,
          "metadata": {},
          "output_type": "execute_result"
        }
      ],
      "source": [
        "# Una derivazione in G di 'N & N'\n",
        "\n",
        "Derivation(G).leftmost((12, 15, 5))"
      ]
    },
    {
      "cell_type": "markdown",
      "metadata": {},
      "source": [
        "## Generazione e NFA (Sez. 5.2)"
      ]
    },
    {
      "cell_type": "code",
      "execution_count": null,
      "metadata": {},
      "outputs": [
        {
          "data": {
            "text/plain": [
              "Grammar(N={A, B, C, S}, T={a, b, c}, P=(S -> a A, S -> a B, A -> b B, A -> b C, B -> c A, B -> c C, C -> a), S=S)"
            ]
          },
          "execution_count": 7,
          "metadata": {},
          "output_type": "execute_result"
        }
      ],
      "source": [
        "# fig. 5.6, pag. 142\n",
        "\n",
        "G = Grammar.from_string(\"\"\"\n",
        "S -> a A\n",
        "S -> a B\n",
        "A -> b B\n",
        "A -> b C\n",
        "B -> c A\n",
        "B -> c C\n",
        "C -> a\n",
        "\"\"\")\n",
        "G"
      ]
    },
    {
      "cell_type": "code",
      "execution_count": null,
      "metadata": {},
      "outputs": [
        {
          "data": {
            "text/plain": [
              "Automaton(N={A, B, C, S, ◇}, T={a, b, c}, transitions=(S-a->A, S-a->B, A-b->B, A-b->C, B-c->A, B-c->C, C-a->◇), F={◇}, q0=S)"
            ]
          },
          "execution_count": 8,
          "metadata": {},
          "output_type": "execute_result"
        }
      ],
      "source": [
        "A = Automaton.from_grammar(G)\n",
        "A"
      ]
    },
    {
      "cell_type": "code",
      "execution_count": null,
      "metadata": {},
      "outputs": [
        {
          "data": {
            "image/svg+xml": [
              "<?xml version=\"1.0\" encoding=\"UTF-8\" standalone=\"no\"?>\n",
              "<!DOCTYPE svg PUBLIC \"-//W3C//DTD SVG 1.1//EN\"\n",
              " \"http://www.w3.org/Graphics/SVG/1.1/DTD/svg11.dtd\">\n",
              "<!-- Generated by graphviz version 2.43.0 (0)\n",
              " -->\n",
              "<!-- Title: %3 Pages: 1 -->\n",
              "<svg width=\"547pt\" height=\"104pt\"\n",
              " viewBox=\"0.00 0.00 546.64 104.00\" xmlns=\"http://www.w3.org/2000/svg\" xmlns:xlink=\"http://www.w3.org/1999/xlink\">\n",
              "<g id=\"graph0\" class=\"graph\" transform=\"scale(1 1) rotate(0) translate(4 100)\">\n",
              "<title>%3</title>\n",
              "<polygon fill=\"white\" stroke=\"transparent\" points=\"-4,4 -4,-100 542.64,-100 542.64,4 -4,4\"/>\n",
              "<!-- 4424316464 -->\n",
              "<g id=\"node1\" class=\"node\">\n",
              "<title>4424316464</title>\n",
              "</g>\n",
              "<!-- 626645132860853146 -->\n",
              "<g id=\"node2\" class=\"node\">\n",
              "<title>626645132860853146</title>\n",
              "<ellipse fill=\"none\" stroke=\"black\" cx=\"118\" cy=\"-18\" rx=\"27\" ry=\"18\"/>\n",
              "<text text-anchor=\"middle\" x=\"118\" y=\"-13.8\" font-family=\"Times,serif\" font-size=\"14.00\">S</text>\n",
              "</g>\n",
              "<!-- 4424316464&#45;&gt;626645132860853146 -->\n",
              "<g id=\"edge1\" class=\"edge\">\n",
              "<title>4424316464&#45;&gt;626645132860853146</title>\n",
              "<path fill=\"none\" stroke=\"black\" d=\"M54.22,-18C62.55,-18 71.91,-18 80.82,-18\"/>\n",
              "<polygon fill=\"black\" stroke=\"black\" points=\"80.97,-21.5 90.97,-18 80.97,-14.5 80.97,-21.5\"/>\n",
              "</g>\n",
              "<!-- 3039361905633182239 -->\n",
              "<g id=\"node3\" class=\"node\">\n",
              "<title>3039361905633182239</title>\n",
              "<ellipse fill=\"none\" stroke=\"black\" cx=\"214.21\" cy=\"-62\" rx=\"27\" ry=\"18\"/>\n",
              "<text text-anchor=\"middle\" x=\"214.21\" y=\"-57.8\" font-family=\"Times,serif\" font-size=\"14.00\">A</text>\n",
              "</g>\n",
              "<!-- 626645132860853146&#45;&gt;3039361905633182239 -->\n",
              "<g id=\"edge2\" class=\"edge\">\n",
              "<title>626645132860853146&#45;&gt;3039361905633182239</title>\n",
              "<path fill=\"none\" stroke=\"black\" d=\"M140.85,-28.21C153.1,-33.93 168.58,-41.16 182.08,-47.46\"/>\n",
              "<polygon fill=\"black\" stroke=\"black\" points=\"180.94,-50.79 191.48,-51.85 183.9,-44.45 180.94,-50.79\"/>\n",
              "<text text-anchor=\"middle\" x=\"166.11\" y=\"-43.8\" font-family=\"Times,serif\" font-size=\"14.00\">a</text>\n",
              "</g>\n",
              "<!-- &#45;6133132266747468637 -->\n",
              "<g id=\"node4\" class=\"node\">\n",
              "<title>&#45;6133132266747468637</title>\n",
              "<ellipse fill=\"none\" stroke=\"black\" cx=\"311.21\" cy=\"-41\" rx=\"27\" ry=\"18\"/>\n",
              "<text text-anchor=\"middle\" x=\"311.21\" y=\"-36.8\" font-family=\"Times,serif\" font-size=\"14.00\">B</text>\n",
              "</g>\n",
              "<!-- 626645132860853146&#45;&gt;&#45;6133132266747468637 -->\n",
              "<g id=\"edge3\" class=\"edge\">\n",
              "<title>626645132860853146&#45;&gt;&#45;6133132266747468637</title>\n",
              "<path fill=\"none\" stroke=\"black\" d=\"M145.35,-17.05C170.18,-16.53 208.38,-16.71 241.21,-21 252.54,-22.48 255.21,-23.93 266.21,-27 269.64,-27.95 273.2,-29 276.74,-30.07\"/>\n",
              "<polygon fill=\"black\" stroke=\"black\" points=\"275.97,-33.5 286.56,-33.13 278.05,-26.81 275.97,-33.5\"/>\n",
              "<text text-anchor=\"middle\" x=\"214.21\" y=\"-23.8\" font-family=\"Times,serif\" font-size=\"14.00\">a</text>\n",
              "</g>\n",
              "<!-- 3039361905633182239&#45;&gt;&#45;6133132266747468637 -->\n",
              "<g id=\"edge4\" class=\"edge\">\n",
              "<title>3039361905633182239&#45;&gt;&#45;6133132266747468637</title>\n",
              "<path fill=\"none\" stroke=\"black\" d=\"M240.17,-56.48C250.97,-54.1 263.8,-51.26 275.5,-48.67\"/>\n",
              "<polygon fill=\"black\" stroke=\"black\" points=\"276.41,-52.06 285.42,-46.48 274.9,-45.22 276.41,-52.06\"/>\n",
              "<text text-anchor=\"middle\" x=\"262.71\" y=\"-54.8\" font-family=\"Times,serif\" font-size=\"14.00\">b</text>\n",
              "</g>\n",
              "<!-- 7498526420622141256 -->\n",
              "<g id=\"node5\" class=\"node\">\n",
              "<title>7498526420622141256</title>\n",
              "<ellipse fill=\"none\" stroke=\"black\" cx=\"407.43\" cy=\"-74\" rx=\"27\" ry=\"18\"/>\n",
              "<text text-anchor=\"middle\" x=\"407.43\" y=\"-69.8\" font-family=\"Times,serif\" font-size=\"14.00\">C</text>\n",
              "</g>\n",
              "<!-- 3039361905633182239&#45;&gt;7498526420622141256 -->\n",
              "<g id=\"edge5\" class=\"edge\">\n",
              "<title>3039361905633182239&#45;&gt;7498526420622141256</title>\n",
              "<path fill=\"none\" stroke=\"black\" d=\"M240.27,-67.08C246.44,-68.19 253.05,-69.25 259.21,-70 304.83,-75.54 316.49,-77.04 362.43,-76 364.97,-75.94 367.59,-75.87 370.24,-75.78\"/>\n",
              "<polygon fill=\"black\" stroke=\"black\" points=\"370.52,-79.27 380.38,-75.38 370.25,-72.27 370.52,-79.27\"/>\n",
              "<text text-anchor=\"middle\" x=\"311.21\" y=\"-78.8\" font-family=\"Times,serif\" font-size=\"14.00\">b</text>\n",
              "</g>\n",
              "<!-- &#45;6133132266747468637&#45;&gt;3039361905633182239 -->\n",
              "<g id=\"edge6\" class=\"edge\">\n",
              "<title>&#45;6133132266747468637&#45;&gt;3039361905633182239</title>\n",
              "<path fill=\"none\" stroke=\"black\" d=\"M287.33,-32.4C278.44,-30.23 268.23,-29.22 259.21,-32 252.33,-34.12 245.56,-37.74 239.47,-41.73\"/>\n",
              "<polygon fill=\"black\" stroke=\"black\" points=\"237.19,-39.06 231.1,-47.73 241.27,-44.75 237.19,-39.06\"/>\n",
              "<text text-anchor=\"middle\" x=\"262.71\" y=\"-34.8\" font-family=\"Times,serif\" font-size=\"14.00\">c</text>\n",
              "</g>\n",
              "<!-- &#45;6133132266747468637&#45;&gt;7498526420622141256 -->\n",
              "<g id=\"edge7\" class=\"edge\">\n",
              "<title>&#45;6133132266747468637&#45;&gt;7498526420622141256</title>\n",
              "<path fill=\"none\" stroke=\"black\" d=\"M335.5,-49.16C346.94,-53.16 360.92,-58.06 373.43,-62.44\"/>\n",
              "<polygon fill=\"black\" stroke=\"black\" points=\"372.49,-65.82 383.08,-65.82 374.8,-59.21 372.49,-65.82\"/>\n",
              "<text text-anchor=\"middle\" x=\"359.32\" y=\"-60.8\" font-family=\"Times,serif\" font-size=\"14.00\">c</text>\n",
              "</g>\n",
              "<!-- 3315289194415092711 -->\n",
              "<g id=\"node6\" class=\"node\">\n",
              "<title>3315289194415092711</title>\n",
              "<ellipse fill=\"none\" stroke=\"black\" cx=\"507.64\" cy=\"-74\" rx=\"27\" ry=\"18\"/>\n",
              "<ellipse fill=\"none\" stroke=\"black\" cx=\"507.64\" cy=\"-74\" rx=\"31\" ry=\"22\"/>\n",
              "<text text-anchor=\"middle\" x=\"507.64\" y=\"-71.04\" font-family=\"Times,serif\" font-size=\"14.00\">◇</text>\n",
              "</g>\n",
              "<!-- 7498526420622141256&#45;&gt;3315289194415092711 -->\n",
              "<g id=\"edge8\" class=\"edge\">\n",
              "<title>7498526420622141256&#45;&gt;3315289194415092711</title>\n",
              "<path fill=\"none\" stroke=\"black\" d=\"M434.49,-74C444.31,-74 455.72,-74 466.52,-74\"/>\n",
              "<polygon fill=\"black\" stroke=\"black\" points=\"466.63,-77.5 476.63,-74 466.63,-70.5 466.63,-77.5\"/>\n",
              "<text text-anchor=\"middle\" x=\"455.53\" y=\"-76.8\" font-family=\"Times,serif\" font-size=\"14.00\">a</text>\n",
              "</g>\n",
              "</g>\n",
              "</svg>\n"
            ],
            "text/plain": [
              "<liblet.display.StateTransitionGraph at 0x10aea9dd0>"
            ]
          },
          "execution_count": 9,
          "metadata": {},
          "output_type": "execute_result"
        }
      ],
      "source": [
        "StateTransitionGraph.from_automaton(A)"
      ]
    },
    {
      "cell_type": "code",
      "execution_count": null,
      "metadata": {},
      "outputs": [
        {
          "data": {
            "image/svg+xml": [
              "<?xml version=\"1.0\" encoding=\"UTF-8\" standalone=\"no\"?>\n",
              "<!DOCTYPE svg PUBLIC \"-//W3C//DTD SVG 1.1//EN\"\n",
              " \"http://www.w3.org/Graphics/SVG/1.1/DTD/svg11.dtd\">\n",
              "<!-- Generated by graphviz version 2.43.0 (0)\n",
              " -->\n",
              "<!-- Title: %3 Pages: 1 -->\n",
              "<svg width=\"547pt\" height=\"230pt\"\n",
              " viewBox=\"0.00 0.00 546.64 230.00\" xmlns=\"http://www.w3.org/2000/svg\" xmlns:xlink=\"http://www.w3.org/1999/xlink\">\n",
              "<g id=\"graph0\" class=\"graph\" transform=\"scale(1 1) rotate(0) translate(4 226)\">\n",
              "<title>%3</title>\n",
              "<polygon fill=\"white\" stroke=\"transparent\" points=\"-4,4 -4,-226 542.64,-226 542.64,4 -4,4\"/>\n",
              "<!-- 4424316464 -->\n",
              "<g id=\"node1\" class=\"node\">\n",
              "<title>4424316464</title>\n",
              "</g>\n",
              "<!-- 626645132860853146 -->\n",
              "<g id=\"node2\" class=\"node\">\n",
              "<title>626645132860853146</title>\n",
              "<ellipse fill=\"none\" stroke=\"black\" cx=\"118\" cy=\"-127\" rx=\"27\" ry=\"18\"/>\n",
              "<text text-anchor=\"middle\" x=\"118\" y=\"-122.8\" font-family=\"Times,serif\" font-size=\"14.00\">S</text>\n",
              "</g>\n",
              "<!-- 4424316464&#45;&gt;626645132860853146 -->\n",
              "<g id=\"edge1\" class=\"edge\">\n",
              "<title>4424316464&#45;&gt;626645132860853146</title>\n",
              "<path fill=\"none\" stroke=\"black\" d=\"M54.22,-127C62.55,-127 71.91,-127 80.82,-127\"/>\n",
              "<polygon fill=\"black\" stroke=\"black\" points=\"80.97,-130.5 90.97,-127 80.97,-123.5 80.97,-130.5\"/>\n",
              "</g>\n",
              "<!-- 3039361905633182239 -->\n",
              "<g id=\"node3\" class=\"node\">\n",
              "<title>3039361905633182239</title>\n",
              "<ellipse fill=\"none\" stroke=\"black\" cx=\"214.21\" cy=\"-89\" rx=\"27\" ry=\"18\"/>\n",
              "<text text-anchor=\"middle\" x=\"214.21\" y=\"-84.8\" font-family=\"Times,serif\" font-size=\"14.00\">A</text>\n",
              "</g>\n",
              "<!-- 626645132860853146&#45;&gt;3039361905633182239 -->\n",
              "<g id=\"edge2\" class=\"edge\">\n",
              "<title>626645132860853146&#45;&gt;3039361905633182239</title>\n",
              "<path fill=\"none\" stroke=\"black\" d=\"M141.81,-117.8C153.61,-113.04 168.22,-107.15 181.14,-101.94\"/>\n",
              "<polygon fill=\"black\" stroke=\"black\" points=\"182.65,-105.1 190.62,-98.11 180.03,-98.61 182.65,-105.1\"/>\n",
              "<text text-anchor=\"middle\" x=\"166.11\" y=\"-111.8\" font-family=\"Times,serif\" font-size=\"14.00\">a</text>\n",
              "</g>\n",
              "<!-- &#45;6133132266747468637 -->\n",
              "<g id=\"node4\" class=\"node\">\n",
              "<title>&#45;6133132266747468637</title>\n",
              "<ellipse fill=\"none\" stroke=\"black\" cx=\"311.21\" cy=\"-126\" rx=\"27\" ry=\"18\"/>\n",
              "<text text-anchor=\"middle\" x=\"311.21\" y=\"-121.8\" font-family=\"Times,serif\" font-size=\"14.00\">B</text>\n",
              "</g>\n",
              "<!-- 626645132860853146&#45;&gt;&#45;6133132266747468637 -->\n",
              "<g id=\"edge3\" class=\"edge\">\n",
              "<title>626645132860853146&#45;&gt;&#45;6133132266747468637</title>\n",
              "<path fill=\"none\" stroke=\"black\" d=\"M145.06,-127.04C152.83,-127.04 161.37,-127.03 169.21,-127 204.7,-126.87 245.22,-126.57 273.68,-126.33\"/>\n",
              "<polygon fill=\"black\" stroke=\"black\" points=\"274,-129.83 283.97,-126.24 273.94,-122.83 274,-129.83\"/>\n",
              "<text text-anchor=\"middle\" x=\"214.21\" y=\"-128.8\" font-family=\"Times,serif\" font-size=\"14.00\">a</text>\n",
              "</g>\n",
              "<!-- 3039361905633182239&#45;&gt;&#45;6133132266747468637 -->\n",
              "<g id=\"edge4\" class=\"edge\">\n",
              "<title>3039361905633182239&#45;&gt;&#45;6133132266747468637</title>\n",
              "<path fill=\"none\" stroke=\"black\" d=\"M240.99,-86.24C249.26,-86.21 258.32,-87.09 266.21,-90 274.29,-92.97 281.97,-98.1 288.58,-103.56\"/>\n",
              "<polygon fill=\"black\" stroke=\"black\" points=\"286.56,-106.45 296.34,-110.53 291.24,-101.24 286.56,-106.45\"/>\n",
              "<text text-anchor=\"middle\" x=\"262.71\" y=\"-92.8\" font-family=\"Times,serif\" font-size=\"14.00\">b</text>\n",
              "</g>\n",
              "<!-- 7498526420622141256 -->\n",
              "<g id=\"node5\" class=\"node\">\n",
              "<title>7498526420622141256</title>\n",
              "<ellipse fill=\"none\" stroke=\"black\" cx=\"407.43\" cy=\"-56\" rx=\"27\" ry=\"18\"/>\n",
              "<text text-anchor=\"middle\" x=\"407.43\" y=\"-51.8\" font-family=\"Times,serif\" font-size=\"14.00\">C</text>\n",
              "</g>\n",
              "<!-- 3039361905633182239&#45;&gt;7498526420622141256 -->\n",
              "<g id=\"edge5\" class=\"edge\">\n",
              "<title>3039361905633182239&#45;&gt;7498526420622141256</title>\n",
              "<path fill=\"none\" stroke=\"black\" d=\"M240.61,-84.62C274.03,-78.85 332.99,-68.67 370.85,-62.14\"/>\n",
              "<polygon fill=\"black\" stroke=\"black\" points=\"371.67,-65.55 380.93,-60.4 370.48,-58.65 371.67,-65.55\"/>\n",
              "<text text-anchor=\"middle\" x=\"311.21\" y=\"-79.8\" font-family=\"Times,serif\" font-size=\"14.00\">b</text>\n",
              "</g>\n",
              "<!-- &#45;6133132266747468637&#45;&gt;3039361905633182239 -->\n",
              "<g id=\"edge6\" class=\"edge\">\n",
              "<title>&#45;6133132266747468637&#45;&gt;3039361905633182239</title>\n",
              "<path fill=\"none\" stroke=\"black\" d=\"M287.43,-117.13C275.56,-112.5 260.84,-106.77 247.79,-101.69\"/>\n",
              "<polygon fill=\"black\" stroke=\"black\" points=\"248.8,-98.32 238.21,-97.96 246.26,-104.85 248.8,-98.32\"/>\n",
              "<text text-anchor=\"middle\" x=\"262.71\" y=\"-110.8\" font-family=\"Times,serif\" font-size=\"14.00\">c</text>\n",
              "</g>\n",
              "<!-- &#45;6133132266747468637&#45;&gt;7498526420622141256 -->\n",
              "<g id=\"edge7\" class=\"edge\">\n",
              "<title>&#45;6133132266747468637&#45;&gt;7498526420622141256</title>\n",
              "<path fill=\"none\" stroke=\"black\" d=\"M329.93,-112.83C344.15,-102.27 364.3,-87.3 380.35,-75.37\"/>\n",
              "<polygon fill=\"black\" stroke=\"black\" points=\"382.85,-77.88 388.79,-69.11 378.67,-72.26 382.85,-77.88\"/>\n",
              "<text text-anchor=\"middle\" x=\"359.32\" y=\"-95.8\" font-family=\"Times,serif\" font-size=\"14.00\">c</text>\n",
              "</g>\n",
              "<!-- 8324170164426866794 -->\n",
              "<g id=\"node7\" class=\"node\">\n",
              "<title>8324170164426866794</title>\n",
              "<ellipse fill=\"none\" stroke=\"black\" cx=\"407.43\" cy=\"-204\" rx=\"27\" ry=\"18\"/>\n",
              "<text text-anchor=\"middle\" x=\"407.43\" y=\"-199.8\" font-family=\"Times,serif\" font-size=\"14.00\">D</text>\n",
              "</g>\n",
              "<!-- &#45;6133132266747468637&#45;&gt;8324170164426866794 -->\n",
              "<g id=\"edge9\" class=\"edge\">\n",
              "<title>&#45;6133132266747468637&#45;&gt;8324170164426866794</title>\n",
              "<path fill=\"none\" stroke=\"black\" d=\"M329.06,-139.94C343.79,-152.15 365.38,-170.02 382.02,-183.79\"/>\n",
              "<polygon fill=\"black\" stroke=\"black\" points=\"379.8,-186.49 389.73,-190.18 384.26,-181.1 379.8,-186.49\"/>\n",
              "<text text-anchor=\"middle\" x=\"359.32\" y=\"-169.8\" font-family=\"Times,serif\" font-size=\"14.00\">c</text>\n",
              "</g>\n",
              "<!-- 3477879325150064360 -->\n",
              "<g id=\"node8\" class=\"node\">\n",
              "<title>3477879325150064360</title>\n",
              "<ellipse fill=\"none\" stroke=\"black\" cx=\"407.43\" cy=\"-118\" rx=\"27\" ry=\"18\"/>\n",
              "<text text-anchor=\"middle\" x=\"407.43\" y=\"-113.8\" font-family=\"Times,serif\" font-size=\"14.00\">E</text>\n",
              "</g>\n",
              "<!-- &#45;6133132266747468637&#45;&gt;3477879325150064360 -->\n",
              "<g id=\"edge10\" class=\"edge\">\n",
              "<title>&#45;6133132266747468637&#45;&gt;3477879325150064360</title>\n",
              "<path fill=\"none\" stroke=\"black\" d=\"M338.21,-123.79C348.2,-122.94 359.78,-121.96 370.54,-121.05\"/>\n",
              "<polygon fill=\"black\" stroke=\"black\" points=\"370.85,-124.53 380.52,-120.2 370.26,-117.56 370.85,-124.53\"/>\n",
              "<text text-anchor=\"middle\" x=\"359.32\" y=\"-124.8\" font-family=\"Times,serif\" font-size=\"14.00\">c</text>\n",
              "</g>\n",
              "<!-- 3315289194415092711 -->\n",
              "<g id=\"node6\" class=\"node\">\n",
              "<title>3315289194415092711</title>\n",
              "<ellipse fill=\"none\" stroke=\"black\" cx=\"507.64\" cy=\"-22\" rx=\"27\" ry=\"18\"/>\n",
              "<ellipse fill=\"none\" stroke=\"black\" cx=\"507.64\" cy=\"-22\" rx=\"31\" ry=\"22\"/>\n",
              "<text text-anchor=\"middle\" x=\"507.64\" y=\"-19.04\" font-family=\"Times,serif\" font-size=\"14.00\">◇</text>\n",
              "</g>\n",
              "<!-- 7498526420622141256&#45;&gt;3315289194415092711 -->\n",
              "<g id=\"edge8\" class=\"edge\">\n",
              "<title>7498526420622141256&#45;&gt;3315289194415092711</title>\n",
              "<path fill=\"none\" stroke=\"black\" d=\"M431.7,-47.94C443.09,-44 457.08,-39.16 469.87,-34.73\"/>\n",
              "<polygon fill=\"black\" stroke=\"black\" points=\"471.05,-38.03 479.35,-31.45 468.76,-31.41 471.05,-38.03\"/>\n",
              "<text text-anchor=\"middle\" x=\"455.53\" y=\"-43.8\" font-family=\"Times,serif\" font-size=\"14.00\">a</text>\n",
              "</g>\n",
              "<!-- 3477879325150064360&#45;&gt;3477879325150064360 -->\n",
              "<g id=\"edge11\" class=\"edge\">\n",
              "<title>3477879325150064360&#45;&gt;3477879325150064360</title>\n",
              "<path fill=\"none\" stroke=\"black\" d=\"M398.86,-135.41C397.26,-145.09 400.12,-154 407.43,-154 412,-154 414.83,-150.52 415.92,-145.54\"/>\n",
              "<polygon fill=\"black\" stroke=\"black\" points=\"419.42,-145.44 416,-135.41 412.42,-145.38 419.42,-145.44\"/>\n",
              "<text text-anchor=\"middle\" x=\"407.43\" y=\"-156.8\" font-family=\"Times,serif\" font-size=\"14.00\">e</text>\n",
              "</g>\n",
              "<!-- 5313251872340251755 -->\n",
              "<g id=\"node9\" class=\"node\">\n",
              "<title>5313251872340251755</title>\n",
              "<ellipse fill=\"none\" stroke=\"black\" cx=\"118\" cy=\"-50\" rx=\"27\" ry=\"18\"/>\n",
              "<text text-anchor=\"middle\" x=\"118\" y=\"-45.8\" font-family=\"Times,serif\" font-size=\"14.00\">F</text>\n",
              "</g>\n",
              "<!-- 5313251872340251755&#45;&gt;3039361905633182239 -->\n",
              "<g id=\"edge12\" class=\"edge\">\n",
              "<title>5313251872340251755&#45;&gt;3039361905633182239</title>\n",
              "<path fill=\"none\" stroke=\"black\" d=\"M141.33,-59.24C153.21,-64.16 168.03,-70.3 181.12,-75.72\"/>\n",
              "<polygon fill=\"black\" stroke=\"black\" points=\"180.14,-79.1 190.72,-79.69 182.82,-72.63 180.14,-79.1\"/>\n",
              "<text text-anchor=\"middle\" x=\"166.11\" y=\"-73.8\" font-family=\"Times,serif\" font-size=\"14.00\">f</text>\n",
              "</g>\n",
              "<!-- 5313251872340251755&#45;&gt;3315289194415092711 -->\n",
              "<g id=\"edge13\" class=\"edge\">\n",
              "<title>5313251872340251755&#45;&gt;3315289194415092711</title>\n",
              "<path fill=\"none\" stroke=\"black\" d=\"M136.29,-36.32C154.38,-23.4 184.15,-6 213.21,-6 213.21,-6 213.21,-6 408.43,-6 428.31,-6 450.15,-9.23 468.19,-12.79\"/>\n",
              "<polygon fill=\"black\" stroke=\"black\" points=\"467.54,-16.23 478.05,-14.84 468.97,-9.38 467.54,-16.23\"/>\n",
              "<text text-anchor=\"middle\" x=\"311.21\" y=\"-8.8\" font-family=\"Times,serif\" font-size=\"14.00\">h</text>\n",
              "</g>\n",
              "</g>\n",
              "</svg>\n"
            ],
            "text/plain": [
              "<liblet.display.StateTransitionGraph at 0x10aeb7bd0>"
            ]
          },
          "execution_count": 10,
          "metadata": {},
          "output_type": "execute_result"
        }
      ],
      "source": [
        "# pag. 143\n",
        "\n",
        "Gp = Grammar.from_string(\"\"\"\n",
        "S -> a A\n",
        "S -> a B\n",
        "A -> b B\n",
        "A -> b C\n",
        "B -> c A\n",
        "B -> c C\n",
        "C -> a\n",
        "B -> c D\n",
        "B -> c E\n",
        "E -> e E\n",
        "F -> f A\n",
        "F -> h\n",
        "\"\"\")\n",
        "Gp.T -= {'D'}\n",
        "Gp.N |= {'D'}\n",
        "\n",
        "StateTransitionGraph.from_automaton(Automaton.from_grammar(Gp))"
      ]
    },
    {
      "cell_type": "markdown",
      "metadata": {},
      "source": [
        "## Parsing (Sez. 5.3)\n",
        "\n",
        "### La set construction (Sez. 5.3.1)"
      ]
    },
    {
      "cell_type": "code",
      "execution_count": null,
      "metadata": {},
      "outputs": [
        {
          "data": {
            "text/plain": [
              "Automaton(N={{A, B}, {A, C}, {B, C}, {S}, {◇}}, T={a, b, c}, transitions=({S}-a->{A, B}, {A, B}-c->{A, C}, {A, B}-b->{B, C}, {A, C}-b->{B, C}, {A, C}-a->{◇}, {B, C}-c->{A, C}, {B, C}-a->{◇}), F={{◇}}, q0={S})"
            ]
          },
          "execution_count": 11,
          "metadata": {},
          "output_type": "execute_result"
        }
      ],
      "source": [
        "Ns = set()\n",
        "Ts = A.T\n",
        "Ss = frozenset(A.q0)\n",
        "\n",
        "transitions = []\n",
        "\n",
        "q = Queue([Ss])\n",
        "while q:\n",
        "    Xs = q.dequeue()\n",
        "    if Xs in Ns: continue\n",
        "    for t in Ts:\n",
        "        Ys = frozenset(union_of(A.δ(X, t) for X in Xs))\n",
        "        if Ys: \n",
        "            transitions.append(Transition(Xs, t, Ys))\n",
        "            q.enqueue(Ys)\n",
        "    Ns.add(Xs)\n",
        "\n",
        "Fs = {Xs for Xs in Ns if A.F & Xs}\n",
        "\n",
        "As = Automaton(Ns, Ts, transitions, Ss, Fs)\n",
        "As"
      ]
    },
    {
      "cell_type": "code",
      "execution_count": null,
      "metadata": {},
      "outputs": [
        {
          "data": {
            "image/svg+xml": [
              "<?xml version=\"1.0\" encoding=\"UTF-8\" standalone=\"no\"?>\n",
              "<!DOCTYPE svg PUBLIC \"-//W3C//DTD SVG 1.1//EN\"\n",
              " \"http://www.w3.org/Graphics/SVG/1.1/DTD/svg11.dtd\">\n",
              "<!-- Generated by graphviz version 2.43.0 (0)\n",
              " -->\n",
              "<!-- Title: %3 Pages: 1 -->\n",
              "<svg width=\"576pt\" height=\"101pt\"\n",
              " viewBox=\"0.00 0.00 576.00 100.60\" xmlns=\"http://www.w3.org/2000/svg\" xmlns:xlink=\"http://www.w3.org/1999/xlink\">\n",
              "<g id=\"graph0\" class=\"graph\" transform=\"scale(1.03 1.03) rotate(0) translate(4 100)\">\n",
              "<title>%3</title>\n",
              "<polygon fill=\"white\" stroke=\"transparent\" points=\"-4,4 -4,-100 591.48,-100 591.48,4 -4,4\"/>\n",
              "<!-- 4478123376 -->\n",
              "<g id=\"node1\" class=\"node\">\n",
              "<title>4478123376</title>\n",
              "</g>\n",
              "<!-- 6024458720465189518 -->\n",
              "<g id=\"node2\" class=\"node\">\n",
              "<title>6024458720465189518</title>\n",
              "<ellipse fill=\"none\" stroke=\"black\" cx=\"118\" cy=\"-18\" rx=\"27\" ry=\"18\"/>\n",
              "<text text-anchor=\"middle\" x=\"118\" y=\"-13.8\" font-family=\"Times,serif\" font-size=\"14.00\">{S}</text>\n",
              "</g>\n",
              "<!-- 4478123376&#45;&gt;6024458720465189518 -->\n",
              "<g id=\"edge1\" class=\"edge\">\n",
              "<title>4478123376&#45;&gt;6024458720465189518</title>\n",
              "<path fill=\"none\" stroke=\"black\" d=\"M54.22,-18C62.55,-18 71.91,-18 80.82,-18\"/>\n",
              "<polygon fill=\"black\" stroke=\"black\" points=\"80.97,-21.5 90.97,-18 80.97,-14.5 80.97,-21.5\"/>\n",
              "</g>\n",
              "<!-- 7428457257021481853 -->\n",
              "<g id=\"node3\" class=\"node\">\n",
              "<title>7428457257021481853</title>\n",
              "<ellipse fill=\"none\" stroke=\"black\" cx=\"222.52\" cy=\"-18\" rx=\"35.11\" ry=\"18\"/>\n",
              "<text text-anchor=\"middle\" x=\"222.52\" y=\"-13.8\" font-family=\"Times,serif\" font-size=\"14.00\">{A, B}</text>\n",
              "</g>\n",
              "<!-- 6024458720465189518&#45;&gt;7428457257021481853 -->\n",
              "<g id=\"edge2\" class=\"edge\">\n",
              "<title>6024458720465189518&#45;&gt;7428457257021481853</title>\n",
              "<path fill=\"none\" stroke=\"black\" d=\"M145.13,-18C154.76,-18 165.94,-18 176.74,-18\"/>\n",
              "<polygon fill=\"black\" stroke=\"black\" points=\"176.91,-21.5 186.91,-18 176.91,-14.5 176.91,-21.5\"/>\n",
              "<text text-anchor=\"middle\" x=\"166.11\" y=\"-20.8\" font-family=\"Times,serif\" font-size=\"14.00\">a</text>\n",
              "</g>\n",
              "<!-- 6048150330087140887 -->\n",
              "<g id=\"node4\" class=\"node\">\n",
              "<title>6048150330087140887</title>\n",
              "<ellipse fill=\"none\" stroke=\"black\" cx=\"335.34\" cy=\"-62\" rx=\"35.11\" ry=\"18\"/>\n",
              "<text text-anchor=\"middle\" x=\"335.34\" y=\"-57.8\" font-family=\"Times,serif\" font-size=\"14.00\">{A, C}</text>\n",
              "</g>\n",
              "<!-- 7428457257021481853&#45;&gt;6048150330087140887 -->\n",
              "<g id=\"edge3\" class=\"edge\">\n",
              "<title>7428457257021481853&#45;&gt;6048150330087140887</title>\n",
              "<path fill=\"none\" stroke=\"black\" d=\"M250.91,-28.88C264.9,-34.43 282.11,-41.27 297.27,-47.28\"/>\n",
              "<polygon fill=\"black\" stroke=\"black\" points=\"296.29,-50.66 306.87,-51.1 298.87,-44.15 296.29,-50.66\"/>\n",
              "<text text-anchor=\"middle\" x=\"278.93\" y=\"-42.8\" font-family=\"Times,serif\" font-size=\"14.00\">c</text>\n",
              "</g>\n",
              "<!-- 340854903768314128 -->\n",
              "<g id=\"node5\" class=\"node\">\n",
              "<title>340854903768314128</title>\n",
              "<ellipse fill=\"none\" stroke=\"black\" cx=\"448.45\" cy=\"-41\" rx=\"34.63\" ry=\"18\"/>\n",
              "<text text-anchor=\"middle\" x=\"448.45\" y=\"-36.8\" font-family=\"Times,serif\" font-size=\"14.00\">{B, C}</text>\n",
              "</g>\n",
              "<!-- 7428457257021481853&#45;&gt;340854903768314128 -->\n",
              "<g id=\"edge4\" class=\"edge\">\n",
              "<title>7428457257021481853&#45;&gt;340854903768314128</title>\n",
              "<path fill=\"none\" stroke=\"black\" d=\"M257.86,-16.62C287.77,-15.92 332.25,-16.06 370.64,-21 381.97,-22.46 384.57,-24.18 395.64,-27 399.49,-27.98 403.5,-29.03 407.5,-30.08\"/>\n",
              "<polygon fill=\"black\" stroke=\"black\" points=\"406.79,-33.52 417.35,-32.71 408.59,-26.75 406.79,-33.52\"/>\n",
              "<text text-anchor=\"middle\" x=\"335.34\" y=\"-23.8\" font-family=\"Times,serif\" font-size=\"14.00\">b</text>\n",
              "</g>\n",
              "<!-- 6048150330087140887&#45;&gt;340854903768314128 -->\n",
              "<g id=\"edge5\" class=\"edge\">\n",
              "<title>6048150330087140887&#45;&gt;340854903768314128</title>\n",
              "<path fill=\"none\" stroke=\"black\" d=\"M368.78,-55.87C380.29,-53.69 393.41,-51.21 405.59,-48.91\"/>\n",
              "<polygon fill=\"black\" stroke=\"black\" points=\"406.37,-52.33 415.55,-47.03 405.07,-45.45 406.37,-52.33\"/>\n",
              "<text text-anchor=\"middle\" x=\"392.14\" y=\"-53.8\" font-family=\"Times,serif\" font-size=\"14.00\">b</text>\n",
              "</g>\n",
              "<!-- 9093365634492778948 -->\n",
              "<g id=\"node6\" class=\"node\">\n",
              "<title>9093365634492778948</title>\n",
              "<ellipse fill=\"none\" stroke=\"black\" cx=\"556.48\" cy=\"-74\" rx=\"27\" ry=\"18\"/>\n",
              "<ellipse fill=\"none\" stroke=\"black\" cx=\"556.48\" cy=\"-74\" rx=\"31\" ry=\"22\"/>\n",
              "<text text-anchor=\"middle\" x=\"556.48\" y=\"-71.32\" font-family=\"Times,serif\" font-size=\"14.00\">{◇}</text>\n",
              "</g>\n",
              "<!-- 6048150330087140887&#45;&gt;9093365634492778948 -->\n",
              "<g id=\"edge6\" class=\"edge\">\n",
              "<title>6048150330087140887&#45;&gt;9093365634492778948</title>\n",
              "<path fill=\"none\" stroke=\"black\" d=\"M369.4,-66.72C403.83,-71.17 459.35,-77 507.48,-76 510.04,-75.95 512.67,-75.88 515.32,-75.8\"/>\n",
              "<polygon fill=\"black\" stroke=\"black\" points=\"515.66,-79.29 525.53,-75.44 515.42,-72.29 515.66,-79.29\"/>\n",
              "<text text-anchor=\"middle\" x=\"448.45\" y=\"-77.8\" font-family=\"Times,serif\" font-size=\"14.00\">a</text>\n",
              "</g>\n",
              "<!-- 340854903768314128&#45;&gt;6048150330087140887 -->\n",
              "<g id=\"edge7\" class=\"edge\">\n",
              "<title>340854903768314128&#45;&gt;6048150330087140887</title>\n",
              "<path fill=\"none\" stroke=\"black\" d=\"M418.18,-31.8C408.67,-30.06 398.12,-29.47 388.64,-32 380.53,-34.16 372.37,-37.91 364.99,-42.04\"/>\n",
              "<polygon fill=\"black\" stroke=\"black\" points=\"362.88,-39.23 356.12,-47.38 366.49,-45.22 362.88,-39.23\"/>\n",
              "<text text-anchor=\"middle\" x=\"392.14\" y=\"-34.8\" font-family=\"Times,serif\" font-size=\"14.00\">c</text>\n",
              "</g>\n",
              "<!-- 340854903768314128&#45;&gt;9093365634492778948 -->\n",
              "<g id=\"edge8\" class=\"edge\">\n",
              "<title>340854903768314128&#45;&gt;9093365634492778948</title>\n",
              "<path fill=\"none\" stroke=\"black\" d=\"M478.71,-50.1C490.92,-53.91 505.25,-58.37 518.21,-62.4\"/>\n",
              "<polygon fill=\"black\" stroke=\"black\" points=\"517.2,-65.75 527.78,-65.38 519.28,-59.07 517.2,-65.75\"/>\n",
              "<text text-anchor=\"middle\" x=\"504.38\" y=\"-60.8\" font-family=\"Times,serif\" font-size=\"14.00\">a</text>\n",
              "</g>\n",
              "</g>\n",
              "</svg>\n"
            ],
            "text/plain": [
              "<liblet.display.StateTransitionGraph at 0x10aea9190>"
            ]
          },
          "execution_count": 12,
          "metadata": {},
          "output_type": "execute_result"
        }
      ],
      "source": [
        "StateTransitionGraph.from_automaton(As, False)"
      ]
    },
    {
      "cell_type": "code",
      "execution_count": null,
      "metadata": {},
      "outputs": [
        {
          "data": {
            "image/svg+xml": [
              "<?xml version=\"1.0\" encoding=\"UTF-8\" standalone=\"no\"?>\n",
              "<!DOCTYPE svg PUBLIC \"-//W3C//DTD SVG 1.1//EN\"\n",
              " \"http://www.w3.org/Graphics/SVG/1.1/DTD/svg11.dtd\">\n",
              "<!-- Generated by graphviz version 2.43.0 (0)\n",
              " -->\n",
              "<!-- Title: %3 Pages: 1 -->\n",
              "<svg width=\"547pt\" height=\"104pt\"\n",
              " viewBox=\"0.00 0.00 546.64 104.00\" xmlns=\"http://www.w3.org/2000/svg\" xmlns:xlink=\"http://www.w3.org/1999/xlink\">\n",
              "<g id=\"graph0\" class=\"graph\" transform=\"scale(1 1) rotate(0) translate(4 100)\">\n",
              "<title>%3</title>\n",
              "<polygon fill=\"white\" stroke=\"transparent\" points=\"-4,4 -4,-100 542.64,-100 542.64,4 -4,4\"/>\n",
              "<!-- 4424316464 -->\n",
              "<g id=\"node1\" class=\"node\">\n",
              "<title>4424316464</title>\n",
              "</g>\n",
              "<!-- 626645132860853146 -->\n",
              "<g id=\"node2\" class=\"node\">\n",
              "<title>626645132860853146</title>\n",
              "<ellipse fill=\"none\" stroke=\"black\" cx=\"118\" cy=\"-18\" rx=\"27\" ry=\"18\"/>\n",
              "<text text-anchor=\"middle\" x=\"118\" y=\"-13.8\" font-family=\"Times,serif\" font-size=\"14.00\">S</text>\n",
              "</g>\n",
              "<!-- 4424316464&#45;&gt;626645132860853146 -->\n",
              "<g id=\"edge1\" class=\"edge\">\n",
              "<title>4424316464&#45;&gt;626645132860853146</title>\n",
              "<path fill=\"none\" stroke=\"black\" d=\"M54.22,-18C62.55,-18 71.91,-18 80.82,-18\"/>\n",
              "<polygon fill=\"black\" stroke=\"black\" points=\"80.97,-21.5 90.97,-18 80.97,-14.5 80.97,-21.5\"/>\n",
              "</g>\n",
              "<!-- 2185292286184268500 -->\n",
              "<g id=\"node3\" class=\"node\">\n",
              "<title>2185292286184268500</title>\n",
              "<ellipse fill=\"none\" stroke=\"black\" cx=\"214.21\" cy=\"-18\" rx=\"27\" ry=\"18\"/>\n",
              "<text text-anchor=\"middle\" x=\"214.21\" y=\"-15.32\" font-family=\"Times,serif\" font-size=\"14.00\">A B</text>\n",
              "</g>\n",
              "<!-- 626645132860853146&#45;&gt;2185292286184268500 -->\n",
              "<g id=\"edge2\" class=\"edge\">\n",
              "<title>626645132860853146&#45;&gt;2185292286184268500</title>\n",
              "<path fill=\"none\" stroke=\"black\" d=\"M145.24,-18C155.04,-18 166.35,-18 176.9,-18\"/>\n",
              "<polygon fill=\"black\" stroke=\"black\" points=\"177.11,-21.5 187.11,-18 177.11,-14.5 177.11,-21.5\"/>\n",
              "<text text-anchor=\"middle\" x=\"166.11\" y=\"-20.8\" font-family=\"Times,serif\" font-size=\"14.00\">a</text>\n",
              "</g>\n",
              "<!-- 4636240271795727246 -->\n",
              "<g id=\"node4\" class=\"node\">\n",
              "<title>4636240271795727246</title>\n",
              "<ellipse fill=\"none\" stroke=\"black\" cx=\"310.43\" cy=\"-62\" rx=\"27\" ry=\"18\"/>\n",
              "<text text-anchor=\"middle\" x=\"310.43\" y=\"-59.32\" font-family=\"Times,serif\" font-size=\"14.00\">A C</text>\n",
              "</g>\n",
              "<!-- 2185292286184268500&#45;&gt;4636240271795727246 -->\n",
              "<g id=\"edge3\" class=\"edge\">\n",
              "<title>2185292286184268500&#45;&gt;4636240271795727246</title>\n",
              "<path fill=\"none\" stroke=\"black\" d=\"M237.07,-28.21C249.31,-33.93 264.79,-41.16 278.29,-47.46\"/>\n",
              "<polygon fill=\"black\" stroke=\"black\" points=\"277.15,-50.79 287.69,-51.85 280.12,-44.45 277.15,-50.79\"/>\n",
              "<text text-anchor=\"middle\" x=\"262.32\" y=\"-43.8\" font-family=\"Times,serif\" font-size=\"14.00\">c</text>\n",
              "</g>\n",
              "<!-- &#45;748166643697048046 -->\n",
              "<g id=\"node5\" class=\"node\">\n",
              "<title>&#45;748166643697048046</title>\n",
              "<ellipse fill=\"none\" stroke=\"black\" cx=\"407.43\" cy=\"-41\" rx=\"27\" ry=\"18\"/>\n",
              "<text text-anchor=\"middle\" x=\"407.43\" y=\"-38.32\" font-family=\"Times,serif\" font-size=\"14.00\">B C</text>\n",
              "</g>\n",
              "<!-- 2185292286184268500&#45;&gt;&#45;748166643697048046 -->\n",
              "<g id=\"edge4\" class=\"edge\">\n",
              "<title>2185292286184268500&#45;&gt;&#45;748166643697048046</title>\n",
              "<path fill=\"none\" stroke=\"black\" d=\"M241.56,-17.05C266.4,-16.53 304.6,-16.71 337.43,-21 348.76,-22.48 351.42,-23.93 362.43,-27 365.85,-27.95 369.41,-29 372.95,-30.07\"/>\n",
              "<polygon fill=\"black\" stroke=\"black\" points=\"372.19,-33.5 382.77,-33.13 374.26,-26.81 372.19,-33.5\"/>\n",
              "<text text-anchor=\"middle\" x=\"310.43\" y=\"-23.8\" font-family=\"Times,serif\" font-size=\"14.00\">b</text>\n",
              "</g>\n",
              "<!-- 4636240271795727246&#45;&gt;&#45;748166643697048046 -->\n",
              "<g id=\"edge5\" class=\"edge\">\n",
              "<title>4636240271795727246&#45;&gt;&#45;748166643697048046</title>\n",
              "<path fill=\"none\" stroke=\"black\" d=\"M336.39,-56.48C347.19,-54.1 360.01,-51.26 371.72,-48.67\"/>\n",
              "<polygon fill=\"black\" stroke=\"black\" points=\"372.63,-52.06 381.63,-46.48 371.11,-45.22 372.63,-52.06\"/>\n",
              "<text text-anchor=\"middle\" x=\"358.93\" y=\"-54.8\" font-family=\"Times,serif\" font-size=\"14.00\">b</text>\n",
              "</g>\n",
              "<!-- 3315289194415092711 -->\n",
              "<g id=\"node6\" class=\"node\">\n",
              "<title>3315289194415092711</title>\n",
              "<ellipse fill=\"none\" stroke=\"black\" cx=\"507.64\" cy=\"-74\" rx=\"27\" ry=\"18\"/>\n",
              "<ellipse fill=\"none\" stroke=\"black\" cx=\"507.64\" cy=\"-74\" rx=\"31\" ry=\"22\"/>\n",
              "<text text-anchor=\"middle\" x=\"507.64\" y=\"-71.04\" font-family=\"Times,serif\" font-size=\"14.00\">◇</text>\n",
              "</g>\n",
              "<!-- 4636240271795727246&#45;&gt;3315289194415092711 -->\n",
              "<g id=\"edge6\" class=\"edge\">\n",
              "<title>4636240271795727246&#45;&gt;3315289194415092711</title>\n",
              "<path fill=\"none\" stroke=\"black\" d=\"M336.47,-67.13C342.65,-68.23 349.26,-69.28 355.43,-70 401.05,-75.3 412.72,-75.48 458.64,-75 461.16,-74.97 463.75,-74.94 466.36,-74.9\"/>\n",
              "<polygon fill=\"black\" stroke=\"black\" points=\"466.49,-78.4 476.43,-74.73 466.37,-71.4 466.49,-78.4\"/>\n",
              "<text text-anchor=\"middle\" x=\"407.43\" y=\"-77.8\" font-family=\"Times,serif\" font-size=\"14.00\">a</text>\n",
              "</g>\n",
              "<!-- &#45;748166643697048046&#45;&gt;4636240271795727246 -->\n",
              "<g id=\"edge7\" class=\"edge\">\n",
              "<title>&#45;748166643697048046&#45;&gt;4636240271795727246</title>\n",
              "<path fill=\"none\" stroke=\"black\" d=\"M383.54,-32.4C374.65,-30.23 364.45,-29.22 355.43,-32 348.54,-34.12 341.77,-37.74 335.68,-41.73\"/>\n",
              "<polygon fill=\"black\" stroke=\"black\" points=\"333.4,-39.06 327.32,-47.73 337.48,-44.75 333.4,-39.06\"/>\n",
              "<text text-anchor=\"middle\" x=\"358.93\" y=\"-34.8\" font-family=\"Times,serif\" font-size=\"14.00\">c</text>\n",
              "</g>\n",
              "<!-- &#45;748166643697048046&#45;&gt;3315289194415092711 -->\n",
              "<g id=\"edge8\" class=\"edge\">\n",
              "<title>&#45;748166643697048046&#45;&gt;3315289194415092711</title>\n",
              "<path fill=\"none\" stroke=\"black\" d=\"M432.2,-48.99C443.4,-52.75 457.02,-57.33 469.53,-61.53\"/>\n",
              "<polygon fill=\"black\" stroke=\"black\" points=\"468.67,-64.93 479.26,-64.8 470.9,-58.3 468.67,-64.93\"/>\n",
              "<text text-anchor=\"middle\" x=\"455.53\" y=\"-59.8\" font-family=\"Times,serif\" font-size=\"14.00\">a</text>\n",
              "</g>\n",
              "</g>\n",
              "</svg>\n"
            ],
            "text/plain": [
              "<liblet.display.StateTransitionGraph at 0x10aeb3f10>"
            ]
          },
          "execution_count": 13,
          "metadata": {},
          "output_type": "execute_result"
        }
      ],
      "source": [
        "StateTransitionGraph.from_automaton(As)"
      ]
    },
    {
      "cell_type": "markdown",
      "metadata": {},
      "source": [
        "#### Rappresentazione tabellare dell'automa"
      ]
    },
    {
      "cell_type": "code",
      "execution_count": null,
      "metadata": {},
      "outputs": [
        {
          "data": {
            "text/html": [
              "<table class=\"table-bordered\">\n",
              "<tr><td>&nbsp;<th style=\"text-align:left\">a<th style=\"text-align:left\">b<th style=\"text-align:left\">c\n",
              "<tr><th style=\"text-align:left\"><pre>AB</pre><td style=\"text-align:left\"><pre></pre><td style=\"text-align:left\"><pre>BC</pre><td style=\"text-align:left\"><pre>AC</pre>\n",
              "<tr><th style=\"text-align:left\"><pre>AC</pre><td style=\"text-align:left\"><pre>◇</pre><td style=\"text-align:left\"><pre>BC</pre><td style=\"text-align:left\"><pre></pre>\n",
              "<tr><th style=\"text-align:left\"><pre>S</pre><td style=\"text-align:left\"><pre>AB</pre><td style=\"text-align:left\"><pre></pre><td style=\"text-align:left\"><pre></pre>\n",
              "<tr><th style=\"text-align:left\"><pre>BC</pre><td style=\"text-align:left\"><pre>◇</pre><td style=\"text-align:left\"><pre></pre><td style=\"text-align:left\"><pre>AC</pre>\n",
              "</table>"
            ],
            "text/plain": [
              "<IPython.core.display.HTML object>"
            ]
          },
          "execution_count": 14,
          "metadata": {},
          "output_type": "execute_result"
        }
      ],
      "source": [
        "dod = {}\n",
        "for Xs in As.N - {frozenset('◇')}:\n",
        "    dod[''.join(sorted(Xs))] = {t: ''.join(sorted(next(iter(As.δ(Xs, t)), ''))) for t in sorted(As.T)}\n",
        "\n",
        "dod2table(dod)        "
      ]
    },
    {
      "cell_type": "markdown",
      "metadata": {},
      "source": [
        "### Con le ε-transizioni (Sez. 5.3.2)"
      ]
    },
    {
      "cell_type": "code",
      "execution_count": null,
      "metadata": {},
      "outputs": [
        {
          "data": {
            "text/plain": [
              "Automaton(N={A, B, S, ◇}, T={a, b}, transitions=(S-ε->A, S-a->B, A-a->A, A-ε->◇, B-b->B, B-b->◇), F={◇}, q0=S)"
            ]
          },
          "execution_count": 15,
          "metadata": {},
          "output_type": "execute_result"
        }
      ],
      "source": [
        "# fig. 5.14, pag. 147\n",
        "\n",
        "A = Automaton.from_grammar(Grammar.from_string(\"\"\"\n",
        "S -> A\n",
        "S -> a B\n",
        "A -> a A\n",
        "A -> ε\n",
        "B -> b B\n",
        "B -> b\n",
        "\"\"\"))\n",
        "A"
      ]
    },
    {
      "cell_type": "code",
      "execution_count": null,
      "metadata": {},
      "outputs": [
        {
          "data": {
            "image/svg+xml": [
              "<?xml version=\"1.0\" encoding=\"UTF-8\" standalone=\"no\"?>\n",
              "<!DOCTYPE svg PUBLIC \"-//W3C//DTD SVG 1.1//EN\"\n",
              " \"http://www.w3.org/Graphics/SVG/1.1/DTD/svg11.dtd\">\n",
              "<!-- Generated by graphviz version 2.43.0 (0)\n",
              " -->\n",
              "<!-- Title: %3 Pages: 1 -->\n",
              "<svg width=\"354pt\" height=\"162pt\"\n",
              " viewBox=\"0.00 0.00 354.21 162.00\" xmlns=\"http://www.w3.org/2000/svg\" xmlns:xlink=\"http://www.w3.org/1999/xlink\">\n",
              "<g id=\"graph0\" class=\"graph\" transform=\"scale(1 1) rotate(0) translate(4 158)\">\n",
              "<title>%3</title>\n",
              "<polygon fill=\"white\" stroke=\"transparent\" points=\"-4,4 -4,-158 350.21,-158 350.21,4 -4,4\"/>\n",
              "<!-- 4424316464 -->\n",
              "<g id=\"node1\" class=\"node\">\n",
              "<title>4424316464</title>\n",
              "</g>\n",
              "<!-- 626645132860853146 -->\n",
              "<g id=\"node2\" class=\"node\">\n",
              "<title>626645132860853146</title>\n",
              "<ellipse fill=\"none\" stroke=\"black\" cx=\"118\" cy=\"-60\" rx=\"27\" ry=\"18\"/>\n",
              "<text text-anchor=\"middle\" x=\"118\" y=\"-55.8\" font-family=\"Times,serif\" font-size=\"14.00\">S</text>\n",
              "</g>\n",
              "<!-- 4424316464&#45;&gt;626645132860853146 -->\n",
              "<g id=\"edge1\" class=\"edge\">\n",
              "<title>4424316464&#45;&gt;626645132860853146</title>\n",
              "<path fill=\"none\" stroke=\"black\" d=\"M54.22,-60C62.55,-60 71.91,-60 80.82,-60\"/>\n",
              "<polygon fill=\"black\" stroke=\"black\" points=\"80.97,-63.5 90.97,-60 80.97,-56.5 80.97,-63.5\"/>\n",
              "</g>\n",
              "<!-- 3039361905633182239 -->\n",
              "<g id=\"node3\" class=\"node\">\n",
              "<title>3039361905633182239</title>\n",
              "<ellipse fill=\"none\" stroke=\"black\" cx=\"214.21\" cy=\"-104\" rx=\"27\" ry=\"18\"/>\n",
              "<text text-anchor=\"middle\" x=\"214.21\" y=\"-99.8\" font-family=\"Times,serif\" font-size=\"14.00\">A</text>\n",
              "</g>\n",
              "<!-- 626645132860853146&#45;&gt;3039361905633182239 -->\n",
              "<g id=\"edge2\" class=\"edge\">\n",
              "<title>626645132860853146&#45;&gt;3039361905633182239</title>\n",
              "<path fill=\"none\" stroke=\"black\" d=\"M140.85,-70.21C153.1,-75.93 168.58,-83.16 182.08,-89.46\"/>\n",
              "<polygon fill=\"black\" stroke=\"black\" points=\"180.94,-92.79 191.48,-93.85 183.9,-86.45 180.94,-92.79\"/>\n",
              "<text text-anchor=\"middle\" x=\"166.11\" y=\"-85.8\" font-family=\"Times,serif\" font-size=\"14.00\">ε</text>\n",
              "</g>\n",
              "<!-- &#45;6133132266747468637 -->\n",
              "<g id=\"node4\" class=\"node\">\n",
              "<title>&#45;6133132266747468637</title>\n",
              "<ellipse fill=\"none\" stroke=\"black\" cx=\"214.21\" cy=\"-18\" rx=\"27\" ry=\"18\"/>\n",
              "<text text-anchor=\"middle\" x=\"214.21\" y=\"-13.8\" font-family=\"Times,serif\" font-size=\"14.00\">B</text>\n",
              "</g>\n",
              "<!-- 626645132860853146&#45;&gt;&#45;6133132266747468637 -->\n",
              "<g id=\"edge3\" class=\"edge\">\n",
              "<title>626645132860853146&#45;&gt;&#45;6133132266747468637</title>\n",
              "<path fill=\"none\" stroke=\"black\" d=\"M140.85,-50.26C153.01,-44.84 168.36,-38 181.79,-32.01\"/>\n",
              "<polygon fill=\"black\" stroke=\"black\" points=\"183.45,-35.1 191.15,-27.83 180.6,-28.71 183.45,-35.1\"/>\n",
              "<text text-anchor=\"middle\" x=\"166.11\" y=\"-42.8\" font-family=\"Times,serif\" font-size=\"14.00\">a</text>\n",
              "</g>\n",
              "<!-- 3039361905633182239&#45;&gt;3039361905633182239 -->\n",
              "<g id=\"edge4\" class=\"edge\">\n",
              "<title>3039361905633182239&#45;&gt;3039361905633182239</title>\n",
              "<path fill=\"none\" stroke=\"black\" d=\"M205.64,-121.41C204.04,-131.09 206.9,-140 214.21,-140 218.78,-140 221.61,-136.52 222.7,-131.54\"/>\n",
              "<polygon fill=\"black\" stroke=\"black\" points=\"226.2,-131.44 222.78,-121.41 219.2,-131.38 226.2,-131.44\"/>\n",
              "<text text-anchor=\"middle\" x=\"214.21\" y=\"-142.8\" font-family=\"Times,serif\" font-size=\"14.00\">a</text>\n",
              "</g>\n",
              "<!-- 3315289194415092711 -->\n",
              "<g id=\"node5\" class=\"node\">\n",
              "<title>3315289194415092711</title>\n",
              "<ellipse fill=\"none\" stroke=\"black\" cx=\"315.21\" cy=\"-60\" rx=\"27\" ry=\"18\"/>\n",
              "<ellipse fill=\"none\" stroke=\"black\" cx=\"315.21\" cy=\"-60\" rx=\"31\" ry=\"22\"/>\n",
              "<text text-anchor=\"middle\" x=\"315.21\" y=\"-57.04\" font-family=\"Times,serif\" font-size=\"14.00\">◇</text>\n",
              "</g>\n",
              "<!-- 3039361905633182239&#45;&gt;3315289194415092711 -->\n",
              "<g id=\"edge5\" class=\"edge\">\n",
              "<title>3039361905633182239&#45;&gt;3315289194415092711</title>\n",
              "<path fill=\"none\" stroke=\"black\" d=\"M237.19,-94.23C249.5,-88.76 265.14,-81.81 279.11,-75.6\"/>\n",
              "<polygon fill=\"black\" stroke=\"black\" points=\"280.73,-78.71 288.45,-71.45 277.89,-72.31 280.73,-78.71\"/>\n",
              "<text text-anchor=\"middle\" x=\"262.71\" y=\"-85.8\" font-family=\"Times,serif\" font-size=\"14.00\">ε</text>\n",
              "</g>\n",
              "<!-- &#45;6133132266747468637&#45;&gt;&#45;6133132266747468637 -->\n",
              "<g id=\"edge6\" class=\"edge\">\n",
              "<title>&#45;6133132266747468637&#45;&gt;&#45;6133132266747468637</title>\n",
              "<path fill=\"none\" stroke=\"black\" d=\"M205.64,-35.41C204.04,-45.09 206.9,-54 214.21,-54 218.78,-54 221.61,-50.52 222.7,-45.54\"/>\n",
              "<polygon fill=\"black\" stroke=\"black\" points=\"226.2,-45.44 222.78,-35.41 219.2,-45.38 226.2,-45.44\"/>\n",
              "<text text-anchor=\"middle\" x=\"214.21\" y=\"-56.8\" font-family=\"Times,serif\" font-size=\"14.00\">b</text>\n",
              "</g>\n",
              "<!-- &#45;6133132266747468637&#45;&gt;3315289194415092711 -->\n",
              "<g id=\"edge7\" class=\"edge\">\n",
              "<title>&#45;6133132266747468637&#45;&gt;3315289194415092711</title>\n",
              "<path fill=\"none\" stroke=\"black\" d=\"M237.68,-27.53C249.92,-32.72 265.33,-39.26 279.12,-45.11\"/>\n",
              "<polygon fill=\"black\" stroke=\"black\" points=\"277.77,-48.34 288.34,-49.02 280.5,-41.9 277.77,-48.34\"/>\n",
              "<text text-anchor=\"middle\" x=\"262.71\" y=\"-41.8\" font-family=\"Times,serif\" font-size=\"14.00\">b</text>\n",
              "</g>\n",
              "</g>\n",
              "</svg>\n"
            ],
            "text/plain": [
              "<liblet.display.StateTransitionGraph at 0x10aec0fd0>"
            ]
          },
          "execution_count": 16,
          "metadata": {},
          "output_type": "execute_result"
        }
      ],
      "source": [
        "StateTransitionGraph.from_automaton(A)"
      ]
    },
    {
      "cell_type": "code",
      "execution_count": null,
      "metadata": {},
      "outputs": [
        {
          "data": {
            "text/plain": [
              "{'A', 'S', '◇'}"
            ]
          },
          "execution_count": 17,
          "metadata": {},
          "output_type": "execute_result"
        }
      ],
      "source": [
        "@closure\n",
        "def ε_closure(S, A):\n",
        "    return S | {Y for X, x, Y in A.transitions if x == 'ε' and X in S}\n",
        "\n",
        "ε_closure({'S'}, A)"
      ]
    },
    {
      "cell_type": "code",
      "execution_count": null,
      "metadata": {},
      "outputs": [
        {
          "data": {
            "text/plain": [
              "Automaton(N={{A, B, ◇}, {A, S, ◇}, {A, ◇}, {B, ◇}}, T={a, b}, transitions=({A, S, ◇}-a->{A, B, ◇}, {A, B, ◇}-b->{B, ◇}, {A, B, ◇}-a->{A, ◇}, {B, ◇}-b->{B, ◇}, {A, ◇}-a->{A, ◇}), F={{A, B, ◇}, {A, S, ◇}, {A, ◇}, {B, ◇}}, q0={A, S, ◇})"
            ]
          },
          "execution_count": 18,
          "metadata": {},
          "output_type": "execute_result"
        }
      ],
      "source": [
        "Ns = set()\n",
        "Ts = A.T\n",
        "Ss = ε_closure(frozenset(A.q0), A)\n",
        "\n",
        "transitions = []\n",
        "\n",
        "q = Queue([Ss])\n",
        "while q:\n",
        "    Xs = q.dequeue()\n",
        "    if Xs in Ns: continue\n",
        "    for t in Ts:\n",
        "        Ys = ε_closure(frozenset(union_of(A.δ(X, t) for X in Xs)), A)\n",
        "        if Ys: \n",
        "            transitions.append(Transition(Xs, t, Ys))\n",
        "            q.enqueue(Ys)\n",
        "    Ns.add(Xs)\n",
        "\n",
        "Fs = {Xs for Xs in Ns if A.F & Xs}\n",
        "\n",
        "As = Automaton(Ns, Ts, transitions, Ss, Fs)\n",
        "As"
      ]
    },
    {
      "cell_type": "code",
      "execution_count": null,
      "metadata": {},
      "outputs": [
        {
          "data": {
            "image/svg+xml": [
              "<?xml version=\"1.0\" encoding=\"UTF-8\" standalone=\"no\"?>\n",
              "<!DOCTYPE svg PUBLIC \"-//W3C//DTD SVG 1.1//EN\"\n",
              " \"http://www.w3.org/Graphics/SVG/1.1/DTD/svg11.dtd\">\n",
              "<!-- Generated by graphviz version 2.43.0 (0)\n",
              " -->\n",
              "<!-- Title: %3 Pages: 1 -->\n",
              "<svg width=\"392pt\" height=\"178pt\"\n",
              " viewBox=\"0.00 0.00 392.41 178.00\" xmlns=\"http://www.w3.org/2000/svg\" xmlns:xlink=\"http://www.w3.org/1999/xlink\">\n",
              "<g id=\"graph0\" class=\"graph\" transform=\"scale(1 1) rotate(0) translate(4 174)\">\n",
              "<title>%3</title>\n",
              "<polygon fill=\"white\" stroke=\"transparent\" points=\"-4,4 -4,-174 388.41,-174 388.41,4 -4,4\"/>\n",
              "<!-- 4478224592 -->\n",
              "<g id=\"node1\" class=\"node\">\n",
              "<title>4478224592</title>\n",
              "</g>\n",
              "<!-- 4862549545202280266 -->\n",
              "<g id=\"node2\" class=\"node\">\n",
              "<title>4862549545202280266</title>\n",
              "<ellipse fill=\"none\" stroke=\"black\" cx=\"127.01\" cy=\"-68\" rx=\"32.02\" ry=\"18\"/>\n",
              "<ellipse fill=\"none\" stroke=\"black\" cx=\"127.01\" cy=\"-68\" rx=\"36.02\" ry=\"22\"/>\n",
              "<text text-anchor=\"middle\" x=\"127.01\" y=\"-65.32\" font-family=\"Times,serif\" font-size=\"14.00\">A S ◇</text>\n",
              "</g>\n",
              "<!-- 4478224592&#45;&gt;4862549545202280266 -->\n",
              "<g id=\"edge1\" class=\"edge\">\n",
              "<title>4478224592&#45;&gt;4862549545202280266</title>\n",
              "<path fill=\"none\" stroke=\"black\" d=\"M54.01,-68C62.17,-68 71.42,-68 80.52,-68\"/>\n",
              "<polygon fill=\"black\" stroke=\"black\" points=\"80.65,-71.5 90.65,-68 80.65,-64.5 80.65,-71.5\"/>\n",
              "</g>\n",
              "<!-- 8025801344453295680 -->\n",
              "<g id=\"node3\" class=\"node\">\n",
              "<title>8025801344453295680</title>\n",
              "<ellipse fill=\"none\" stroke=\"black\" cx=\"242.32\" cy=\"-68\" rx=\"33.17\" ry=\"18\"/>\n",
              "<ellipse fill=\"none\" stroke=\"black\" cx=\"242.32\" cy=\"-68\" rx=\"37.18\" ry=\"22\"/>\n",
              "<text text-anchor=\"middle\" x=\"242.32\" y=\"-65.32\" font-family=\"Times,serif\" font-size=\"14.00\">A B ◇</text>\n",
              "</g>\n",
              "<!-- 4862549545202280266&#45;&gt;8025801344453295680 -->\n",
              "<g id=\"edge2\" class=\"edge\">\n",
              "<title>4862549545202280266&#45;&gt;8025801344453295680</title>\n",
              "<path fill=\"none\" stroke=\"black\" d=\"M163.24,-68C173.18,-68 184.15,-68 194.65,-68\"/>\n",
              "<polygon fill=\"black\" stroke=\"black\" points=\"194.94,-71.5 204.94,-68 194.94,-64.5 194.94,-71.5\"/>\n",
              "<text text-anchor=\"middle\" x=\"184.12\" y=\"-70.8\" font-family=\"Times,serif\" font-size=\"14.00\">a</text>\n",
              "</g>\n",
              "<!-- 6345340706526241332 -->\n",
              "<g id=\"node4\" class=\"node\">\n",
              "<title>6345340706526241332</title>\n",
              "<ellipse fill=\"none\" stroke=\"black\" cx=\"353.41\" cy=\"-116\" rx=\"27\" ry=\"18\"/>\n",
              "<ellipse fill=\"none\" stroke=\"black\" cx=\"353.41\" cy=\"-116\" rx=\"31\" ry=\"22\"/>\n",
              "<text text-anchor=\"middle\" x=\"353.41\" y=\"-113.32\" font-family=\"Times,serif\" font-size=\"14.00\">B ◇</text>\n",
              "</g>\n",
              "<!-- 8025801344453295680&#45;&gt;6345340706526241332 -->\n",
              "<g id=\"edge3\" class=\"edge\">\n",
              "<title>8025801344453295680&#45;&gt;6345340706526241332</title>\n",
              "<path fill=\"none\" stroke=\"black\" d=\"M272.55,-80.86C286.19,-86.86 302.55,-94.06 316.89,-100.37\"/>\n",
              "<polygon fill=\"black\" stroke=\"black\" points=\"315.88,-103.75 326.45,-104.58 318.7,-97.35 315.88,-103.75\"/>\n",
              "<text text-anchor=\"middle\" x=\"300.91\" y=\"-96.8\" font-family=\"Times,serif\" font-size=\"14.00\">b</text>\n",
              "</g>\n",
              "<!-- &#45;5144197143483398484 -->\n",
              "<g id=\"node5\" class=\"node\">\n",
              "<title>&#45;5144197143483398484</title>\n",
              "<ellipse fill=\"none\" stroke=\"black\" cx=\"353.41\" cy=\"-22\" rx=\"27\" ry=\"18\"/>\n",
              "<ellipse fill=\"none\" stroke=\"black\" cx=\"353.41\" cy=\"-22\" rx=\"31\" ry=\"22\"/>\n",
              "<text text-anchor=\"middle\" x=\"353.41\" y=\"-19.32\" font-family=\"Times,serif\" font-size=\"14.00\">A ◇</text>\n",
              "</g>\n",
              "<!-- 8025801344453295680&#45;&gt;&#45;5144197143483398484 -->\n",
              "<g id=\"edge4\" class=\"edge\">\n",
              "<title>8025801344453295680&#45;&gt;&#45;5144197143483398484</title>\n",
              "<path fill=\"none\" stroke=\"black\" d=\"M273.13,-55.43C286.66,-49.72 302.77,-42.93 316.92,-36.96\"/>\n",
              "<polygon fill=\"black\" stroke=\"black\" points=\"318.49,-40.1 326.35,-32.99 315.77,-33.65 318.49,-40.1\"/>\n",
              "<text text-anchor=\"middle\" x=\"300.91\" y=\"-47.8\" font-family=\"Times,serif\" font-size=\"14.00\">a</text>\n",
              "</g>\n",
              "<!-- 6345340706526241332&#45;&gt;6345340706526241332 -->\n",
              "<g id=\"edge5\" class=\"edge\">\n",
              "<title>6345340706526241332&#45;&gt;6345340706526241332</title>\n",
              "<path fill=\"none\" stroke=\"black\" d=\"M343.9,-136.99C342.72,-147.09 345.89,-156 353.41,-156 358.22,-156 361.25,-152.34 362.5,-147.06\"/>\n",
              "<polygon fill=\"black\" stroke=\"black\" points=\"366,-147.13 362.92,-136.99 359.01,-146.84 366,-147.13\"/>\n",
              "<text text-anchor=\"middle\" x=\"353.41\" y=\"-158.8\" font-family=\"Times,serif\" font-size=\"14.00\">b</text>\n",
              "</g>\n",
              "<!-- &#45;5144197143483398484&#45;&gt;&#45;5144197143483398484 -->\n",
              "<g id=\"edge6\" class=\"edge\">\n",
              "<title>&#45;5144197143483398484&#45;&gt;&#45;5144197143483398484</title>\n",
              "<path fill=\"none\" stroke=\"black\" d=\"M343.9,-42.99C342.72,-53.09 345.89,-62 353.41,-62 358.22,-62 361.25,-58.34 362.5,-53.06\"/>\n",
              "<polygon fill=\"black\" stroke=\"black\" points=\"366,-53.13 362.92,-42.99 359.01,-52.84 366,-53.13\"/>\n",
              "<text text-anchor=\"middle\" x=\"353.41\" y=\"-64.8\" font-family=\"Times,serif\" font-size=\"14.00\">a</text>\n",
              "</g>\n",
              "</g>\n",
              "</svg>\n"
            ],
            "text/plain": [
              "<liblet.display.StateTransitionGraph at 0x10aebd5d0>"
            ]
          },
          "execution_count": 19,
          "metadata": {},
          "output_type": "execute_result"
        }
      ],
      "source": [
        "StateTransitionGraph.from_automaton(As)"
      ]
    }
  ],
  "metadata": {
    "kernelspec": {
      "display_name": "Python 3",
      "language": "python",
      "name": "python3"
    },
    "language_info": {
      "codemirror_mode": {
        "name": "ipython",
        "version": 3
      },
      "file_extension": ".py",
      "mimetype": "text/x-python",
      "name": "python",
      "nbconvert_exporter": "python",
      "pygments_lexer": "ipython3"
    }
  },
  "nbformat": 4,
  "nbformat_minor": 2
}
