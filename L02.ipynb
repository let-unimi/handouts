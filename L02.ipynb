{
 "cells": [
  {
   "cell_type": "markdown",
   "metadata": {},
   "source": [
    "# Introduzione a Python\n",
    "\n",
    "* Fate sempre riferimento alla [documentazione on-line](https://docs.python.org/3/index.html), \n",
    "* L'ambiente didattico è basato su [Jupyter](https://jupyter.org/), chi non vuole installare nulla può iniziare col [playground](https://mybinder.org/v2/gh/let-unimi/playground/master?filepath=Playground.ipynb).\n",
    "\n",
    "Questo notebook può essere [posto in esecuzione](https://mybinder.org/v2/gh/let-unimi/handouts/master?filepath=L02.ipynb) su [binder](https://mybinder.org/v2/gh/let-unimi/handouts/master?filepath=L02.ipynb)."
   ]
  },
  {
   "cell_type": "code",
   "execution_count": 1,
   "metadata": {},
   "outputs": [
    {
     "data": {
      "text/plain": [
       "2"
      ]
     },
     "execution_count": 1,
     "metadata": {},
     "output_type": "execute_result"
    }
   ],
   "source": [
    "1+1"
   ]
  },
  {
   "cell_type": "markdown",
   "metadata": {},
   "source": [
    "## Tipi elementari, espressioni, condizionali e cicli\n",
    "\n",
    "* interi, float (divisione intera), stringhe,\n",
    "* `if` (statement e ternario) e `while`."
   ]
  },
  {
   "cell_type": "code",
   "execution_count": 2,
   "metadata": {},
   "outputs": [
    {
     "name": "stdout",
     "output_type": "stream",
     "text": [
      "2\n",
      "4\n",
      "6\n",
      "8\n"
     ]
    }
   ],
   "source": [
    "x = 1\n",
    "while x < 10:\n",
    "    if x % 2 == 0:\n",
    "        print(x)\n",
    "    x += 1"
   ]
  },
  {
   "cell_type": "markdown",
   "metadata": {},
   "source": [
    "## Liste, insiemi e dizionari\n",
    "\n",
    "* liste (e tuple),\n",
    "* insiemi,\n",
    "* dizionari."
   ]
  },
  {
   "cell_type": "code",
   "execution_count": 3,
   "metadata": {},
   "outputs": [
    {
     "data": {
      "text/plain": [
       "105"
      ]
     },
     "execution_count": 3,
     "metadata": {},
     "output_type": "execute_result"
    }
   ],
   "source": [
    "d = {\n",
    "    ('massimo', 'santini'): 105, \n",
    "    'carlotta': [2, 7]\n",
    "}\n",
    "d[('massimo','santini')]"
   ]
  },
  {
   "cell_type": "markdown",
   "metadata": {},
   "source": [
    "## Iterabili e comprehension\n",
    "\n",
    "* `for` su iterabili/iteratori (es. `range`),\n",
    "* `iter` e `next`,\n",
    "* [comprehension](https://docs.python.org/3/tutorial/datastructures.html#list-comprehensions)."
   ]
  },
  {
   "cell_type": "code",
   "execution_count": 4,
   "metadata": {},
   "outputs": [
    {
     "name": "stdout",
     "output_type": "stream",
     "text": [
      "a\n",
      "1\n",
      "(2, 3)\n"
     ]
    }
   ],
   "source": [
    "for elem in {1, 'a', (2,3)}:\n",
    "    print(elem)"
   ]
  },
  {
   "cell_type": "code",
   "execution_count": 5,
   "metadata": {},
   "outputs": [
    {
     "name": "stdout",
     "output_type": "stream",
     "text": [
      "ciao\n",
      "mamma\n",
      "mia\n"
     ]
    }
   ],
   "source": [
    "for elem in 'ciao mamma mia'.split():\n",
    "    print(elem)"
   ]
  },
  {
   "cell_type": "code",
   "execution_count": 6,
   "metadata": {},
   "outputs": [
    {
     "name": "stdout",
     "output_type": "stream",
     "text": [
      "m\n",
      "a\n",
      "m\n",
      "m\n",
      "a\n",
      "Ho incontrato uno spazio\n",
      "m\n",
      "i\n",
      "a\n"
     ]
    }
   ],
   "source": [
    "it = iter('mamma mia')\n",
    "\n",
    "while True:\n",
    "    elem = next(it, None)\n",
    "    if elem is ' ': break\n",
    "    print(elem)\n",
    "    \n",
    "print('Ho incontrato uno spazio')    \n",
    "\n",
    "while True:\n",
    "    elem = next(it, None)\n",
    "    if elem is None: break\n",
    "    print(elem)    "
   ]
  },
  {
   "cell_type": "code",
   "execution_count": 7,
   "metadata": {},
   "outputs": [
    {
     "data": {
      "text/plain": [
       "[0, 1, 4, 9, 16, 25, 36, 49, 64, 81]"
      ]
     },
     "execution_count": 7,
     "metadata": {},
     "output_type": "execute_result"
    }
   ],
   "source": [
    "quadrati = [x * x for x in range(10)]\n",
    "quadrati"
   ]
  },
  {
   "cell_type": "code",
   "execution_count": 8,
   "metadata": {},
   "outputs": [
    {
     "data": {
      "text/plain": [
       "{0, 1, 2, 3, 4}"
      ]
     },
     "execution_count": 8,
     "metadata": {},
     "output_type": "execute_result"
    }
   ],
   "source": [
    "mezzi = {x // 2 for x in range(10)}\n",
    "mezzi"
   ]
  },
  {
   "cell_type": "code",
   "execution_count": 9,
   "metadata": {},
   "outputs": [
    {
     "data": {
      "text/plain": [
       "[0, 4, 16, 36, 64]"
      ]
     },
     "execution_count": 9,
     "metadata": {},
     "output_type": "execute_result"
    }
   ],
   "source": [
    "[x * x for x in range(10) if x % 2 == 0]"
   ]
  },
  {
   "cell_type": "code",
   "execution_count": 10,
   "metadata": {},
   "outputs": [
    {
     "name": "stdout",
     "output_type": "stream",
     "text": [
      "0\n",
      "1\n",
      "2\n",
      "2\n",
      "3\n"
     ]
    }
   ],
   "source": [
    "for x, y in [(x, y) for x in range(3) for y in range(2) if x >= y]:\n",
    "    print(x + y)"
   ]
  },
  {
   "cell_type": "code",
   "execution_count": 11,
   "metadata": {},
   "outputs": [
    {
     "name": "stdout",
     "output_type": "stream",
     "text": [
      "[2, 3, 4, 5]\n"
     ]
    }
   ],
   "source": [
    "a, *b = (1, 2, 3, 4, 5)\n",
    "print(b)"
   ]
  },
  {
   "cell_type": "markdown",
   "metadata": {},
   "source": [
    "## Funzioni\n",
    "\n",
    "* definizione e invocazione,\n",
    "* funzioni come tipo di dato,\n",
    "    * come argomenti, per il [visitor pattern](https://en.wikipedia.org/wiki/Visitor_pattern),\n",
    "    * per costruire [dispatch table](https://en.wikipedia.org/wiki/Dispatch_table),\n",
    "    * funzioni *interne* per le [chiusure lessicali](https://en.wikipedia.org/wiki/Closure_(computer_programming)),\n",
    "* [decoratori](https://docs.python.org/3/reference/compound_stmts.html#function-definitions)."
   ]
  },
  {
   "cell_type": "code",
   "execution_count": 12,
   "metadata": {},
   "outputs": [
    {
     "name": "stdout",
     "output_type": "stream",
     "text": [
      "Ciao  Massimo\n",
      "Ciao  Piero\n"
     ]
    }
   ],
   "source": [
    "def saluta(chi):\n",
    "    print('Ciao ', chi)\n",
    "    \n",
    "saluta('Massimo')\n",
    "\n",
    "una_funzione = saluta\n",
    "\n",
    "una_funzione('Piero')"
   ]
  },
  {
   "cell_type": "code",
   "execution_count": 13,
   "metadata": {},
   "outputs": [
    {
     "name": "stdout",
     "output_type": "stream",
     "text": [
      "1\n",
      "4\n",
      "9\n",
      "16\n",
      "25\n"
     ]
    }
   ],
   "source": [
    "dati = [1, 2, 3, 4, 5]\n",
    "\n",
    "def stampa(dati):\n",
    "    for dato in dati: print(dato)\n",
    "\n",
    "def quadra(dati):\n",
    "    for dato in dati: print(dato*dato)\n",
    "        \n",
    "quadra(dati)"
   ]
  },
  {
   "cell_type": "code",
   "execution_count": 14,
   "metadata": {},
   "outputs": [
    {
     "name": "stdout",
     "output_type": "stream",
     "text": [
      "1\n",
      "2\n",
      "3\n",
      "4\n",
      "5\n"
     ]
    }
   ],
   "source": [
    "def visita(dati, visitatore):\n",
    "    for dato in dati:\n",
    "        visitatore(dato)\n",
    "        \n",
    "visita(dati, print)"
   ]
  },
  {
   "cell_type": "code",
   "execution_count": 15,
   "metadata": {},
   "outputs": [
    {
     "name": "stdout",
     "output_type": "stream",
     "text": [
      "0\n"
     ]
    }
   ],
   "source": [
    "def somma(a, b):\n",
    "    return a + b\n",
    "\n",
    "def prodotto(a, b):\n",
    "    return a * b\n",
    "\n",
    "def sottrazione(a, b):\n",
    "    return a - b\n",
    "\n",
    "DISPATCH_TABLE = {\n",
    "    '+': somma,\n",
    "    '-': sottrazione\n",
    "}\n",
    "\n",
    "it = iter('1 + 2 - 3'.split())\n",
    "\n",
    "val = int(next(it))\n",
    "while True:\n",
    "    op = next(it, None)\n",
    "    if op is None: break\n",
    "    right = next(it, None)\n",
    "    val = DISPATCH_TABLE[op](val, int(right))\n",
    "print(val)"
   ]
  },
  {
   "cell_type": "code",
   "execution_count": 16,
   "metadata": {},
   "outputs": [
    {
     "name": "stdout",
     "output_type": "stream",
     "text": [
      "Buongiorno prof. Santini\n",
      "Ciao Mariuccio\n"
     ]
    }
   ],
   "source": [
    "def crea_saluto(saluto):\n",
    "    def saluta(chi):\n",
    "        print(saluto, chi)\n",
    "    return saluta\n",
    "\n",
    "saluto_informale = crea_saluto('Ciao')\n",
    "saluto_formale = crea_saluto('Buongiorno')\n",
    "\n",
    "saluto_formale('prof. Santini')\n",
    "saluto_informale('Mariuccio')"
   ]
  },
  {
   "cell_type": "code",
   "execution_count": 17,
   "metadata": {},
   "outputs": [
    {
     "name": "stdout",
     "output_type": "stream",
     "text": [
      "1\n",
      "2\n",
      "3\n"
     ]
    }
   ],
   "source": [
    "def mio_range():\n",
    "    n = 0\n",
    "    def f():\n",
    "        nonlocal n\n",
    "        n += 1\n",
    "        return n\n",
    "    return f\n",
    "\n",
    "prossimo = mio_range()\n",
    "print(prossimo())\n",
    "print(prossimo())\n",
    "print(prossimo())"
   ]
  },
  {
   "cell_type": "code",
   "execution_count": 18,
   "metadata": {},
   "outputs": [
    {
     "name": "stdout",
     "output_type": "stream",
     "text": [
      "<function raddoppia at 0x107025c80> 3\n",
      "restituisce 9\n"
     ]
    },
    {
     "data": {
      "text/plain": [
       "9"
      ]
     },
     "execution_count": 18,
     "metadata": {},
     "output_type": "execute_result"
    }
   ],
   "source": [
    "def rendi_parlante(f):\n",
    "    def g(x):\n",
    "        print(f, x)\n",
    "        val = f(x)\n",
    "        print('restituisce', val)\n",
    "        return val\n",
    "    return g\n",
    "\n",
    "@rendi_parlante\n",
    "def raddoppia(x):\n",
    "    return 3 * x\n",
    "\n",
    "raddoppia(3)"
   ]
  },
  {
   "cell_type": "code",
   "execution_count": 19,
   "metadata": {},
   "outputs": [
    {
     "name": "stdout",
     "output_type": "stream",
     "text": [
      "Ciao mario\n",
      "Ciao piero\n",
      "Ciao luca\n",
      "3\n"
     ]
    }
   ],
   "source": [
    "chiamate = 0\n",
    "\n",
    "def conta_chiamate(f):\n",
    "    def g(x):\n",
    "        global chiamate\n",
    "        chiamate += 1\n",
    "        return f(x)\n",
    "    return g\n",
    "\n",
    "@conta_chiamate\n",
    "def saluta(x):\n",
    "    print('Ciao', x)\n",
    "    \n",
    "saluta('mario')\n",
    "saluta('piero')\n",
    "saluta('luca')\n",
    "print(chiamate)"
   ]
  },
  {
   "cell_type": "markdown",
   "metadata": {},
   "source": [
    "## Oggetti (not really)"
   ]
  },
  {
   "cell_type": "code",
   "execution_count": 20,
   "metadata": {},
   "outputs": [
    {
     "data": {
      "text/plain": [
       "'PIPPO'"
      ]
     },
     "execution_count": 20,
     "metadata": {},
     "output_type": "execute_result"
    }
   ],
   "source": [
    "'pippo'.upper()"
   ]
  },
  {
   "cell_type": "markdown",
   "metadata": {},
   "source": [
    "# Tecniche di programmazione"
   ]
  },
  {
   "cell_type": "markdown",
   "metadata": {},
   "source": [
    "## Ricorsione"
   ]
  },
  {
   "cell_type": "code",
   "execution_count": 21,
   "metadata": {},
   "outputs": [
    {
     "name": "stdout",
     "output_type": "stream",
     "text": [
      " stampa [2, ['pippo', 4, [5, 6], 7]]\n",
      "2\n",
      "  stampa ['pippo', 4, [5, 6], 7]\n",
      "pippo\n",
      "4\n",
      "   stampa [5, 6]\n",
      "5\n",
      "6\n",
      "7\n"
     ]
    }
   ],
   "source": [
    "lol = [2, ['pippo', 4, [5, 6], 7]]\n",
    "\n",
    "def mostra_chiamate(f):\n",
    "    depth = -1\n",
    "    def f_decorata(x):\n",
    "        nonlocal depth\n",
    "        depth += 1\n",
    "        print(' ' * depth, f.__name__, x)\n",
    "        val = f(x)\n",
    "        depth -= 1\n",
    "        return val\n",
    "    return f_decorata\n",
    "\n",
    "@mostra_chiamate\n",
    "def stampa(lol):\n",
    "    for elem in lol:\n",
    "        if isinstance(elem, list):\n",
    "            stampa(elem)\n",
    "        else:\n",
    "            print(elem)\n",
    "\n",
    "stampa(lol)\n"
   ]
  },
  {
   "cell_type": "code",
   "execution_count": 22,
   "metadata": {
    "scrolled": true
   },
   "outputs": [
    {
     "name": "stdout",
     "output_type": "stream",
     "text": [
      " fatt 5\n",
      "  fatt 4\n",
      "   fatt 3\n",
      "    fatt 2\n",
      "     fatt 1\n",
      "      fatt 0\n"
     ]
    },
    {
     "data": {
      "text/plain": [
       "120"
      ]
     },
     "execution_count": 22,
     "metadata": {},
     "output_type": "execute_result"
    }
   ],
   "source": [
    "@mostra_chiamate\n",
    "def fatt(n):\n",
    "    if n == 0: return 1\n",
    "    return n * fatt(n-1)\n",
    "\n",
    "fatt(5)"
   ]
  },
  {
   "cell_type": "code",
   "execution_count": 23,
   "metadata": {},
   "outputs": [
    {
     "name": "stdout",
     "output_type": "stream",
     "text": [
      " fib 5\n",
      "  fib 4\n",
      "   fib 3\n",
      "    fib 2\n",
      "     fib 1\n",
      "     fib 0\n",
      "    fib 1\n",
      "   fib 2\n",
      "    fib 1\n",
      "    fib 0\n",
      "  fib 3\n",
      "   fib 2\n",
      "    fib 1\n",
      "    fib 0\n",
      "   fib 1\n"
     ]
    },
    {
     "data": {
      "text/plain": [
       "8"
      ]
     },
     "execution_count": 23,
     "metadata": {},
     "output_type": "execute_result"
    }
   ],
   "source": [
    "@mostra_chiamate\n",
    "def fib(n):\n",
    "    if n == 0 or n == 1: return 1\n",
    "    return fib(n-1) + fib(n-2)\n",
    "\n",
    "fib(5)"
   ]
  },
  {
   "cell_type": "markdown",
   "metadata": {},
   "source": [
    "# Memoizzazione"
   ]
  },
  {
   "cell_type": "code",
   "execution_count": 24,
   "metadata": {},
   "outputs": [
    {
     "data": {
      "text/plain": [
       "(8, {1: 1, 0: 1, 2: 2, 3: 3, 4: 5, 5: 8})"
      ]
     },
     "execution_count": 24,
     "metadata": {},
     "output_type": "execute_result"
    }
   ],
   "source": [
    "MEM = dict()\n",
    "\n",
    "def memoizza(f):\n",
    "    def f_memoizzata(x):\n",
    "        if x in MEM: return MEM[x]\n",
    "        r = f(x)\n",
    "        MEM[x] = r\n",
    "        return r\n",
    "    return f_memoizzata\n",
    "\n",
    "@memoizza\n",
    "def fib(n):\n",
    "    if n == 0 or n == 1: return 1\n",
    "    return fib(n-1) + fib(n-2)\n",
    "\n",
    "fib(5), MEM"
   ]
  }
 ],
 "metadata": {
  "kernelspec": {
   "display_name": "Python 3",
   "language": "python",
   "name": "python3"
  },
  "language_info": {
   "codemirror_mode": {
    "name": "ipython",
    "version": 3
   },
   "file_extension": ".py",
   "mimetype": "text/x-python",
   "name": "python",
   "nbconvert_exporter": "python",
   "pygments_lexer": "ipython3",
   "version": "3.7.2"
  }
 },
 "nbformat": 4,
 "nbformat_minor": 2
}
