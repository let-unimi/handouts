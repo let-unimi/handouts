{
 "cells": [
  {
   "cell_type": "markdown",
   "metadata": {},
   "source": [
    "# Introduzione a Python\n",
    "\n",
    "* Fate sempre riferimento alla [documentazione on-line](https://docs.python.org/3/index.html), \n",
    "* L'ambiente didattico è basato su [Jupyter](https://jupyter.org/), chi non vuole installare nulla può iniziare col [playground](https://mybinder.org/v2/gh/let-unimi/playground/master?filepath=Playground.ipynb)."
   ]
  },
  {
   "cell_type": "markdown",
   "metadata": {},
   "source": [
    "## Tipi elementari, espressioni, condizionali e cicli\n",
    "\n",
    "* interi, float (divisione intera), stringhe,\n",
    "* `if` (statement e ternario) e `while`."
   ]
  },
  {
   "cell_type": "code",
   "execution_count": 1,
   "metadata": {
    "tags": [
     "note"
    ]
   },
   "outputs": [
    {
     "name": "stdout",
     "output_type": "stream",
     "text": [
      "pari\n"
     ]
    }
   ],
   "source": [
    "'pippo' * 2\n",
    "i = 5 // 2\n",
    "print('pari' if i % 2 == 0 else 'dispari')"
   ]
  },
  {
   "cell_type": "code",
   "execution_count": 2,
   "metadata": {
    "tags": [
     "note"
    ]
   },
   "outputs": [],
   "source": [
    "things = ['a', 2, 'b', 3.4]\n",
    "things[2]\n",
    "\n",
    "some_ints = {0, 1, 0}\n",
    "2 in some_ints\n",
    "some_ints - {0}\n",
    "\n",
    "ch2int = {'a': 1, 'b': 2}\n",
    "ch2int['a']\n",
    "\n",
    "None"
   ]
  },
  {
   "cell_type": "markdown",
   "metadata": {},
   "source": [
    "## Iterabili e comprehension\n",
    "\n",
    "* `for` su iterabili/iteratori (es. `range`),\n",
    "* `iter` e `next`,\n",
    "* [comprehension](https://docs.python.org/3/tutorial/datastructures.html#list-comprehensions)."
   ]
  },
  {
   "cell_type": "code",
   "execution_count": 3,
   "metadata": {
    "tags": [
     "note"
    ]
   },
   "outputs": [
    {
     "name": "stdout",
     "output_type": "stream",
     "text": [
      "a 2 pippo mamma\n",
      "45\n"
     ]
    }
   ],
   "source": [
    "for e in ['a',2,'pippo']: print(e, end = ' ')\n",
    "\n",
    "for ch in 'mamma': print(ch, end = '')\n",
    "print()\n",
    "\n",
    "s = 0\n",
    "for i in range(10): s += i\n",
    "print(s)"
   ]
  },
  {
   "cell_type": "code",
   "execution_count": 4,
   "metadata": {
    "tags": [
     "note"
    ]
   },
   "outputs": [
    {
     "data": {
      "text/plain": [
       "[0, 2]"
      ]
     },
     "execution_count": 4,
     "metadata": {},
     "output_type": "execute_result"
    }
   ],
   "source": [
    "[2 * x for x in some_ints]"
   ]
  },
  {
   "cell_type": "code",
   "execution_count": 5,
   "metadata": {
    "tags": [
     "note"
    ]
   },
   "outputs": [
    {
     "data": {
      "text/plain": [
       "{0}"
      ]
     },
     "execution_count": 5,
     "metadata": {},
     "output_type": "execute_result"
    }
   ],
   "source": [
    "{x // 2 for x in some_ints}"
   ]
  },
  {
   "cell_type": "markdown",
   "metadata": {},
   "source": [
    "## Funzioni\n",
    "\n",
    "* definizione e invocazione,\n",
    "* funzioni come tipo di dato,\n",
    "    * come argomenti, per il [visitor pattern](https://en.wikipedia.org/wiki/Visitor_pattern),\n",
    "    * per costruire [dispatch table](https://en.wikipedia.org/wiki/Dispatch_table),\n",
    "    * funzioni *interne* per le [chiusure lessicali](https://en.wikipedia.org/wiki/Closure_(computer_programming)),\n",
    "* [decoratori](https://docs.python.org/3/reference/compound_stmts.html#function-definitions)."
   ]
  },
  {
   "cell_type": "code",
   "execution_count": 6,
   "metadata": {
    "tags": [
     "note"
    ]
   },
   "outputs": [
    {
     "data": {
      "text/plain": [
       "8"
      ]
     },
     "execution_count": 6,
     "metadata": {},
     "output_type": "execute_result"
    }
   ],
   "source": [
    "def raddoppia(x):\n",
    "    return 2 * x\n",
    "\n",
    "raddoppia(4)"
   ]
  },
  {
   "cell_type": "code",
   "execution_count": 7,
   "metadata": {
    "tags": [
     "note"
    ]
   },
   "outputs": [
    {
     "data": {
      "text/plain": [
       "6"
      ]
     },
     "execution_count": 7,
     "metadata": {},
     "output_type": "execute_result"
    }
   ],
   "source": [
    "func = raddoppia\n",
    "func(3)"
   ]
  },
  {
   "cell_type": "code",
   "execution_count": 8,
   "metadata": {
    "tags": [
     "note"
    ]
   },
   "outputs": [
    {
     "data": {
      "text/plain": [
       "10"
      ]
     },
     "execution_count": 8,
     "metadata": {},
     "output_type": "execute_result"
    }
   ],
   "source": [
    "def applica(func, val):\n",
    "    return func(val)\n",
    "\n",
    "applica(raddoppia, 5)"
   ]
  },
  {
   "cell_type": "code",
   "execution_count": 9,
   "metadata": {
    "tags": [
     "note"
    ]
   },
   "outputs": [
    {
     "name": "stdout",
     "output_type": "stream",
     "text": [
      "1\n",
      "2\n",
      "3\n"
     ]
    }
   ],
   "source": [
    "# visitor\n",
    "\n",
    "def visit(visitor, lst):\n",
    "    for e in lst: visitor(e)\n",
    "        \n",
    "visit(print, [1,2,3])"
   ]
  },
  {
   "cell_type": "code",
   "execution_count": 10,
   "metadata": {
    "tags": [
     "note"
    ]
   },
   "outputs": [],
   "source": [
    "# decoratori \n",
    "\n",
    "chiamate = 0\n",
    "def conta_chiamate(f):\n",
    "    def _f(x):\n",
    "        global chiamate\n",
    "        chiamate += 1\n",
    "        ret = f(x)\n",
    "        return ret\n",
    "    return _f\n",
    "\n",
    "@conta_chiamate\n",
    "def sommauno(x):\n",
    "    return x + 1"
   ]
  },
  {
   "cell_type": "code",
   "execution_count": 11,
   "metadata": {
    "tags": [
     "note"
    ]
   },
   "outputs": [
    {
     "name": "stdout",
     "output_type": "stream",
     "text": [
      "2\n"
     ]
    }
   ],
   "source": [
    "sommauno(sommauno(4))\n",
    "print(chiamate)"
   ]
  },
  {
   "cell_type": "code",
   "execution_count": 12,
   "metadata": {
    "tags": [
     "note"
    ]
   },
   "outputs": [
    {
     "name": "stdout",
     "output_type": "stream",
     "text": [
      "0.0013530830000000327\n",
      "0.0006747609999999682\n"
     ]
    }
   ],
   "source": [
    "from time import perf_counter\n",
    "\n",
    "def calcola():\n",
    "    return sum([i * i for i in range(10_000)])\n",
    "\n",
    "def misura(func):\n",
    "    t0 = perf_counter()\n",
    "    func()\n",
    "    t = perf_counter()\n",
    "    print(t -t0)\n",
    "    \n",
    "misura(calcola)\n",
    "\n",
    "def rendi_misurata(func):\n",
    "    def misurata():\n",
    "        misura(func)\n",
    "    return misurata\n",
    "\n",
    "@rendi_misurata\n",
    "def prodotto():\n",
    "    p = 1\n",
    "    for n in range(10_000):\n",
    "        p *= n\n",
    "    return p\n",
    "\n",
    "prodotto()"
   ]
  },
  {
   "cell_type": "markdown",
   "metadata": {},
   "source": [
    "## Oggetti (not really)"
   ]
  },
  {
   "cell_type": "code",
   "execution_count": 13,
   "metadata": {
    "tags": [
     "note"
    ]
   },
   "outputs": [
    {
     "name": "stdout",
     "output_type": "stream",
     "text": [
      "10\n",
      "(babbo: (figlio: (nipote)), (figlia))\n"
     ]
    },
    {
     "data": {
      "image/svg+xml": [
       "<?xml version=\"1.0\" encoding=\"UTF-8\" standalone=\"no\"?>\n",
       "<!DOCTYPE svg PUBLIC \"-//W3C//DTD SVG 1.1//EN\"\n",
       " \"http://www.w3.org/Graphics/SVG/1.1/DTD/svg11.dtd\">\n",
       "<!-- Generated by graphviz version 2.43.0 (0)\n",
       " -->\n",
       "<!-- Title: %3 Pages: 1 -->\n",
       "<svg width=\"103pt\" height=\"110pt\"\n",
       " viewBox=\"0.00 0.00 102.89 110.00\" xmlns=\"http://www.w3.org/2000/svg\" xmlns:xlink=\"http://www.w3.org/1999/xlink\">\n",
       "<g id=\"graph0\" class=\"graph\" transform=\"scale(1 1) rotate(0) translate(4 106)\">\n",
       "<title>%3</title>\n",
       "<polygon fill=\"white\" stroke=\"transparent\" points=\"-4,4 -4,-106 98.89,-106 98.89,4 -4,4\"/>\n",
       "<!-- 4361586128 -->\n",
       "<g id=\"node1\" class=\"node\">\n",
       "<title>4361586128</title>\n",
       "<path fill=\"none\" stroke=\"black\" stroke-width=\"0.25\" d=\"M62.38,-102C62.38,-102 34.62,-102 34.62,-102 30.95,-102 27.28,-98.33 27.28,-94.67 27.28,-94.67 27.28,-87.33 27.28,-87.33 27.28,-83.67 30.95,-80 34.62,-80 34.62,-80 62.38,-80 62.38,-80 66.04,-80 69.71,-83.67 69.71,-87.33 69.71,-87.33 69.71,-94.67 69.71,-94.67 69.71,-98.33 66.04,-102 62.38,-102\"/>\n",
       "<text text-anchor=\"middle\" x=\"48.5\" y=\"-86.8\" font-family=\"Times,serif\" font-size=\"14.00\">babbo</text>\n",
       "</g>\n",
       "<!-- 4361564304 -->\n",
       "<g id=\"node2\" class=\"node\">\n",
       "<title>4361564304</title>\n",
       "<path fill=\"none\" stroke=\"black\" stroke-width=\"0.25\" d=\"M32.73,-62C32.73,-62 10.26,-62 10.26,-62 6.6,-62 2.93,-58.33 2.93,-54.67 2.93,-54.67 2.93,-47.33 2.93,-47.33 2.93,-43.67 6.6,-40 10.26,-40 10.26,-40 32.73,-40 32.73,-40 36.4,-40 40.06,-43.67 40.06,-47.33 40.06,-47.33 40.06,-54.67 40.06,-54.67 40.06,-58.33 36.4,-62 32.73,-62\"/>\n",
       "<text text-anchor=\"middle\" x=\"21.5\" y=\"-46.8\" font-family=\"Times,serif\" font-size=\"14.00\">figlio</text>\n",
       "</g>\n",
       "<!-- 4361586128&#45;&gt;4361564304 -->\n",
       "<g id=\"edge1\" class=\"edge\">\n",
       "<title>4361586128&#45;&gt;4361564304</title>\n",
       "<path fill=\"none\" stroke=\"black\" d=\"M41.12,-79.62C37.25,-74.17 32.52,-67.52 28.68,-62.11\"/>\n",
       "</g>\n",
       "<!-- 4361629264 -->\n",
       "<g id=\"node3\" class=\"node\">\n",
       "<title>4361629264</title>\n",
       "<path fill=\"none\" stroke=\"black\" stroke-width=\"0.25\" d=\"M87.44,-62C87.44,-62 65.55,-62 65.55,-62 61.88,-62 58.22,-58.33 58.22,-54.67 58.22,-54.67 58.22,-47.33 58.22,-47.33 58.22,-43.67 61.88,-40 65.55,-40 65.55,-40 87.44,-40 87.44,-40 91.11,-40 94.78,-43.67 94.78,-47.33 94.78,-47.33 94.78,-54.67 94.78,-54.67 94.78,-58.33 91.11,-62 87.44,-62\"/>\n",
       "<text text-anchor=\"middle\" x=\"76.5\" y=\"-46.8\" font-family=\"Times,serif\" font-size=\"14.00\">figlia</text>\n",
       "</g>\n",
       "<!-- 4361586128&#45;&gt;4361629264 -->\n",
       "<g id=\"edge2\" class=\"edge\">\n",
       "<title>4361586128&#45;&gt;4361629264</title>\n",
       "<path fill=\"none\" stroke=\"black\" d=\"M56.15,-79.62C60.16,-74.17 65.06,-67.52 69.05,-62.11\"/>\n",
       "</g>\n",
       "<!-- 4361564304&#45;&gt;4361629264 -->\n",
       "<!-- 4361638224 -->\n",
       "<g id=\"node4\" class=\"node\">\n",
       "<title>4361638224</title>\n",
       "<path fill=\"none\" stroke=\"black\" stroke-width=\"0.25\" d=\"M35.66,-22C35.66,-22 7.34,-22 7.34,-22 3.67,-22 0,-18.33 0,-14.67 0,-14.67 0,-7.33 0,-7.33 0,-3.67 3.67,0 7.34,0 7.34,0 35.66,0 35.66,0 39.32,0 42.99,-3.67 42.99,-7.33 42.99,-7.33 42.99,-14.67 42.99,-14.67 42.99,-18.33 39.32,-22 35.66,-22\"/>\n",
       "<text text-anchor=\"middle\" x=\"21.5\" y=\"-6.8\" font-family=\"Times,serif\" font-size=\"14.00\">nipote</text>\n",
       "</g>\n",
       "<!-- 4361564304&#45;&gt;4361638224 -->\n",
       "<g id=\"edge4\" class=\"edge\">\n",
       "<title>4361564304&#45;&gt;4361638224</title>\n",
       "<path fill=\"none\" stroke=\"black\" d=\"M21.5,-39.62C21.5,-34.17 21.5,-27.52 21.5,-22.11\"/>\n",
       "</g>\n",
       "</g>\n",
       "</svg>\n"
      ],
      "text/plain": [
       "(babbo: (figlio: (nipote)), (figlia))"
      ]
     },
     "metadata": {},
     "output_type": "display_data"
    }
   ],
   "source": [
    "'pippo'.upper()\n",
    "\n",
    "from collections import namedtuple\n",
    "\n",
    "Merce = namedtuple('Merce', 'nome prezzo peso')\n",
    "pera = Merce('pera', 10, 1)\n",
    "print(pera.prezzo * pera.peso)\n",
    "\n",
    "from liblet import Tree\n",
    "\n",
    "t = Tree('babbo', [Tree('figlio', [Tree('nipote')]), Tree('figlia')])\n",
    "print(t)\n",
    "display(t)"
   ]
  },
  {
   "cell_type": "markdown",
   "metadata": {},
   "source": [
    "# Tecniche di programmazione"
   ]
  },
  {
   "cell_type": "markdown",
   "metadata": {},
   "source": [
    "## Ricorsione"
   ]
  },
  {
   "cell_type": "code",
   "execution_count": 14,
   "metadata": {
    "tags": [
     "note"
    ]
   },
   "outputs": [
    {
     "data": {
      "text/plain": [
       "3628800"
      ]
     },
     "execution_count": 14,
     "metadata": {},
     "output_type": "execute_result"
    }
   ],
   "source": [
    "def fattoriale(n):\n",
    "    if n == 0: return 1\n",
    "    return n * fattoriale(n-1)\n",
    "\n",
    "fattoriale(10)"
   ]
  },
  {
   "cell_type": "code",
   "execution_count": 15,
   "metadata": {
    "tags": [
     "note"
    ]
   },
   "outputs": [],
   "source": [
    "# cosa fanno format e nonlocal? \n",
    "\n",
    "def mostra_chiamate(f):\n",
    "    depth = 0\n",
    "    def _f(n):\n",
    "        nonlocal depth\n",
    "        depth += 1\n",
    "        print('{}┌{}({})'.format('│' * (depth - 1), f.__name__, n))\n",
    "        ret = f(n)\n",
    "        print('{}└─ {}'.format('│' * (depth - 1), ret))\n",
    "        depth -= 1\n",
    "        return ret\n",
    "    return _f"
   ]
  },
  {
   "cell_type": "code",
   "execution_count": 16,
   "metadata": {
    "tags": [
     "note"
    ]
   },
   "outputs": [
    {
     "name": "stdout",
     "output_type": "stream",
     "text": [
      "┌fattoriale(10)\n",
      "│┌fattoriale(9)\n",
      "││┌fattoriale(8)\n",
      "│││┌fattoriale(7)\n",
      "││││┌fattoriale(6)\n",
      "│││││┌fattoriale(5)\n",
      "││││││┌fattoriale(4)\n",
      "│││││││┌fattoriale(3)\n",
      "││││││││┌fattoriale(2)\n",
      "│││││││││┌fattoriale(1)\n",
      "││││││││││┌fattoriale(0)\n",
      "││││││││││└─ 1\n",
      "│││││││││└─ 1\n",
      "││││││││└─ 2\n",
      "│││││││└─ 6\n",
      "││││││└─ 24\n",
      "│││││└─ 120\n",
      "││││└─ 720\n",
      "│││└─ 5040\n",
      "││└─ 40320\n",
      "│└─ 362880\n",
      "└─ 3628800\n"
     ]
    },
    {
     "data": {
      "text/plain": [
       "3628800"
      ]
     },
     "execution_count": 16,
     "metadata": {},
     "output_type": "execute_result"
    }
   ],
   "source": [
    "@mostra_chiamate\n",
    "def fattoriale(n):\n",
    "    if n == 0: return 1\n",
    "    return n * fattoriale(n-1)\n",
    "\n",
    "fattoriale(10)"
   ]
  },
  {
   "cell_type": "code",
   "execution_count": 17,
   "metadata": {
    "tags": [
     "note"
    ]
   },
   "outputs": [
    {
     "name": "stdout",
     "output_type": "stream",
     "text": [
      "┌fibonacci(5)\n",
      "│┌fibonacci(4)\n",
      "││┌fibonacci(3)\n",
      "│││┌fibonacci(2)\n",
      "││││┌fibonacci(1)\n",
      "││││└─ 1\n",
      "││││┌fibonacci(0)\n",
      "││││└─ 1\n",
      "│││└─ 2\n",
      "│││┌fibonacci(1)\n",
      "│││└─ 1\n",
      "││└─ 3\n",
      "││┌fibonacci(2)\n",
      "│││┌fibonacci(1)\n",
      "│││└─ 1\n",
      "│││┌fibonacci(0)\n",
      "│││└─ 1\n",
      "││└─ 2\n",
      "│└─ 5\n",
      "│┌fibonacci(3)\n",
      "││┌fibonacci(2)\n",
      "│││┌fibonacci(1)\n",
      "│││└─ 1\n",
      "│││┌fibonacci(0)\n",
      "│││└─ 1\n",
      "││└─ 2\n",
      "││┌fibonacci(1)\n",
      "││└─ 1\n",
      "│└─ 3\n",
      "└─ 8\n"
     ]
    },
    {
     "data": {
      "text/plain": [
       "8"
      ]
     },
     "execution_count": 17,
     "metadata": {},
     "output_type": "execute_result"
    }
   ],
   "source": [
    "@mostra_chiamate\n",
    "def fibonacci(n):\n",
    "    if n == 0 or n == 1: return 1\n",
    "    return fibonacci(n - 1) + fibonacci(n - 2)\n",
    "\n",
    "fibonacci(5)"
   ]
  },
  {
   "cell_type": "code",
   "execution_count": 18,
   "metadata": {
    "jupyter": {
     "outputs_hidden": true
    },
    "tags": [
     "note"
    ]
   },
   "outputs": [
    {
     "name": "stdout",
     "output_type": "stream",
     "text": [
      "1\n",
      "2\n",
      "3\n",
      "4\n",
      "5\n",
      "6\n"
     ]
    }
   ],
   "source": [
    "nested_list = [[1,2], [[3,4], 5], 6]\n",
    "\n",
    "def recursive_visit(visitor, lst):\n",
    "    for e in lst:\n",
    "        if isinstance(e, list):\n",
    "            recursive_visit(visitor, e)\n",
    "        else:\n",
    "            visitor(e)\n",
    "            \n",
    "recursive_visit(print, nested_list)"
   ]
  },
  {
   "cell_type": "code",
   "execution_count": 19,
   "metadata": {
    "jupyter": {
     "outputs_hidden": true
    },
    "tags": [
     "note"
    ]
   },
   "outputs": [
    {
     "name": "stdout",
     "output_type": "stream",
     "text": [
      "21\n"
     ]
    }
   ],
   "source": [
    "def accumulate(e):\n",
    "    global tot\n",
    "    tot += e\n",
    "\n",
    "tot = 0\n",
    "recursive_visit(accumulate, nested_list)\n",
    "print(tot)"
   ]
  },
  {
   "cell_type": "code",
   "execution_count": 20,
   "metadata": {
    "jupyter": {
     "outputs_hidden": true
    },
    "tags": [
     "note"
    ]
   },
   "outputs": [
    {
     "name": "stdout",
     "output_type": "stream",
     "text": [
      "[1, 2, 3, 4, 5, 6]\n"
     ]
    }
   ],
   "source": [
    "flat = []\n",
    "recursive_visit(flat.append, nested_list)\n",
    "print(flat)"
   ]
  }
 ],
 "metadata": {
  "kernelspec": {
   "display_name": "Python 3",
   "language": "python",
   "name": "python3"
  },
  "language_info": {
   "codemirror_mode": {
    "name": "ipython",
    "version": 3
   },
   "file_extension": ".py",
   "mimetype": "text/x-python",
   "name": "python",
   "nbconvert_exporter": "python",
   "pygments_lexer": "ipython3",
   "version": "3.7.6"
  }
 },
 "nbformat": 4,
 "nbformat_minor": 4
}
