{
  "cells": [
    {
      "cell_type": "markdown",
      "metadata": {},
      "source": [
        "# Funzioni (uso avanzato)\n",
        "\n",
        "Le funzioni, viste come [cittadini di prim'ordine](https://en.wikipedia.org/wiki/First-class_citizen), sono utili in particolare per realizzare:\n",
        "\n",
        "* [visitor](https://en.wikipedia.org/wiki/Visitor_pattern),\n",
        "* [dispatch table](https://en.wikipedia.org/wiki/Dispatch_table) con i *dizionari* e\n",
        "* [memoizzazione](https://en.wikipedia.org/wiki/Memoization) tramite i *decoratori*.\n",
        "\n",
        "## Visitor"
      ]
    },
    {
      "cell_type": "code",
      "execution_count": null,
      "metadata": {},
      "outputs": [],
      "source": [
        "# una lista di liste\n",
        "\n",
        "lol = [1, [2, 3], [4, [5, 6]]]"
      ]
    },
    {
      "cell_type": "code",
      "execution_count": null,
      "metadata": {},
      "outputs": [],
      "source": [
        "# come applicare una funzione scalare f a tutti gli elementi?\n",
        "\n",
        "def visit(f, lol):\n",
        "  for elem in lol:\n",
        "    if isinstance(elem, list):\n",
        "      visit(f, elem)\n",
        "    else:\n",
        "      f(elem)"
      ]
    },
    {
      "cell_type": "code",
      "execution_count": null,
      "metadata": {},
      "outputs": [
        {
          "name": "stdout",
          "output_type": "stream",
          "text": [
            "1\n",
            "2\n",
            "3\n",
            "4\n",
            "5\n",
            "6\n"
          ]
        }
      ],
      "source": [
        "visit(print, lol)        "
      ]
    },
    {
      "cell_type": "markdown",
      "metadata": {},
      "source": [
        "## Dispatch table"
      ]
    },
    {
      "cell_type": "code",
      "execution_count": null,
      "metadata": {},
      "outputs": [],
      "source": [
        "# una espressione\n",
        "\n",
        "expr = '3 + 12 * 4 + 1 * 2'"
      ]
    },
    {
      "cell_type": "code",
      "execution_count": null,
      "metadata": {},
      "outputs": [],
      "source": [
        "# divisione in token (basata sulla presenza di spazi)\n",
        "\n",
        "tokens = iter(expr.split())"
      ]
    },
    {
      "cell_type": "code",
      "execution_count": null,
      "metadata": {},
      "outputs": [],
      "source": [
        "# \"semantica\" delle operazioni, tramite dispatch table\n",
        "\n",
        "def somma(x, y):\n",
        "  return x + y\n",
        "\n",
        "def prodotto(x, y):\n",
        "  return x * y\n",
        "\n",
        "DT = {\n",
        "  '+': somma,\n",
        "  '*': prodotto\n",
        "}"
      ]
    },
    {
      "cell_type": "code",
      "execution_count": null,
      "metadata": {},
      "outputs": [
        {
          "data": {
            "text/plain": [
              "122"
            ]
          },
          "execution_count": 7,
          "metadata": {},
          "output_type": "execute_result"
        }
      ],
      "source": [
        "# valutazione (SENZA rispettare la precedenza delle operazioni, ma solo l'associatività a sinistra)\n",
        "\n",
        "result = int(next(tokens))\n",
        "\n",
        "while True:\n",
        "  t = next(tokens, None)\n",
        "  if t is None: break\n",
        "  op = DT[t]\n",
        "  result = op(result, int(next(tokens)))\n",
        "\n",
        "result"
      ]
    },
    {
      "cell_type": "markdown",
      "metadata": {},
      "source": [
        "## Memoizzazione"
      ]
    },
    {
      "cell_type": "code",
      "execution_count": null,
      "metadata": {},
      "outputs": [],
      "source": [
        "# trasformare una funzione rendendola \"verbosa\"\n",
        "\n",
        "def rendi_verbosa(f):\n",
        "  def f_verbosa(x):\n",
        "    result = f(x)\n",
        "    print(f'f({x}) = {result}')\n",
        "    return result\n",
        "  return f_verbosa"
      ]
    },
    {
      "cell_type": "code",
      "execution_count": null,
      "metadata": {},
      "outputs": [
        {
          "name": "stdout",
          "output_type": "stream",
          "text": [
            "f(3) = 9\n"
          ]
        }
      ],
      "source": [
        "def quadrato(x):\n",
        "  return x * x\n",
        "\n",
        "quadrato_verboso = rendi_verbosa(quadrato)\n",
        "\n",
        "q = quadrato_verboso(3)"
      ]
    },
    {
      "cell_type": "code",
      "execution_count": null,
      "metadata": {},
      "outputs": [],
      "source": [
        "# tenere da parte i risultati già calcolati da una funzione…\n",
        "\n",
        "cache = {}\n",
        "\n",
        "def memoize(f):\n",
        "  def f_memoized(x):\n",
        "    if x not in cache: cache[x] = f(x)\n",
        "    return cache[x]\n",
        "  return f_memoized"
      ]
    },
    {
      "cell_type": "code",
      "execution_count": null,
      "metadata": {},
      "outputs": [],
      "source": [
        "@memoize \n",
        "def cubo(x):\n",
        "  return x ** 3"
      ]
    },
    {
      "cell_type": "code",
      "execution_count": null,
      "metadata": {},
      "outputs": [
        {
          "data": {
            "text/plain": [
              "{1: 1, 4: 64, 6: 216}"
            ]
          },
          "execution_count": 12,
          "metadata": {},
          "output_type": "execute_result"
        }
      ],
      "source": [
        "cache = {}\n",
        "\n",
        "cubo(1), cubo(4), cubo(6)\n",
        "\n",
        "cache"
      ]
    },
    {
      "cell_type": "code",
      "execution_count": null,
      "metadata": {},
      "outputs": [],
      "source": [
        "def fib(n):\n",
        "  if n == 0 or n == 1: return 1\n",
        "  return fib(n - 1) + fib(n - 2)"
      ]
    },
    {
      "cell_type": "code",
      "execution_count": null,
      "metadata": {},
      "outputs": [
        {
          "name": "stdout",
          "output_type": "stream",
          "text": [
            "CPU times: user 529 ms, sys: 0 ns, total: 529 ms\n",
            "Wall time: 528 ms\n"
          ]
        },
        {
          "data": {
            "text/plain": [
              "3524578"
            ]
          },
          "execution_count": 14,
          "metadata": {},
          "output_type": "execute_result"
        }
      ],
      "source": [
        "%time fib(32)"
      ]
    },
    {
      "cell_type": "code",
      "execution_count": null,
      "metadata": {},
      "outputs": [],
      "source": [
        "@memoize\n",
        "def fib(n):\n",
        "  if n == 0 or n == 1: return 1\n",
        "  return fib(n - 1) + fib(n - 2)"
      ]
    },
    {
      "cell_type": "code",
      "execution_count": null,
      "metadata": {},
      "outputs": [
        {
          "name": "stdout",
          "output_type": "stream",
          "text": [
            "CPU times: user 21 µs, sys: 0 ns, total: 21 µs\n",
            "Wall time: 22.2 µs\n"
          ]
        },
        {
          "data": {
            "text/plain": [
              "{1: 1,\n",
              " 0: 1,\n",
              " 2: 2,\n",
              " 3: 3,\n",
              " 4: 5,\n",
              " 5: 8,\n",
              " 6: 13,\n",
              " 7: 21,\n",
              " 8: 34,\n",
              " 9: 55,\n",
              " 10: 89,\n",
              " 11: 144,\n",
              " 12: 233,\n",
              " 13: 377,\n",
              " 14: 610,\n",
              " 15: 987,\n",
              " 16: 1597,\n",
              " 17: 2584,\n",
              " 18: 4181,\n",
              " 19: 6765,\n",
              " 20: 10946,\n",
              " 21: 17711,\n",
              " 22: 28657,\n",
              " 23: 46368,\n",
              " 24: 75025,\n",
              " 25: 121393,\n",
              " 26: 196418,\n",
              " 27: 317811,\n",
              " 28: 514229,\n",
              " 29: 832040,\n",
              " 30: 1346269,\n",
              " 31: 2178309,\n",
              " 32: 3524578}"
            ]
          },
          "execution_count": 16,
          "metadata": {},
          "output_type": "execute_result"
        }
      ],
      "source": [
        "cache = {} \n",
        "\n",
        "%time fib(32)\n",
        "\n",
        "cache"
      ]
    },
    {
      "cell_type": "markdown",
      "metadata": {},
      "source": [
        "# Strutture dati ed algoritmi utili\n",
        "\n",
        "## Alberi\n",
        "\n",
        "La rappresentazione più comune che sarà adoperata per il corso per gli alberi $n$-ari sono le *lol* (liste di liste)"
      ]
    },
    {
      "cell_type": "code",
      "execution_count": null,
      "metadata": {},
      "outputs": [],
      "source": [
        "# [radice] \n",
        "# [radice alberi…]\n",
        "\n",
        "tree = [1, [11], [12, [121], [122]], [13]]"
      ]
    },
    {
      "cell_type": "markdown",
      "metadata": {},
      "source": [
        "Accedere a radice e figli con l'[iterable unpacking](https://docs.python.org/3/reference/expressions.html?highlight=iterable+unpacking#expression-lists)…"
      ]
    },
    {
      "cell_type": "code",
      "execution_count": null,
      "metadata": {},
      "outputs": [],
      "source": [
        "root, *children = tree"
      ]
    },
    {
      "cell_type": "code",
      "execution_count": null,
      "metadata": {},
      "outputs": [
        {
          "data": {
            "image/svg+xml": [
              "<?xml version=\"1.0\" encoding=\"UTF-8\" standalone=\"no\"?>\n",
              "<!DOCTYPE svg PUBLIC \"-//W3C//DTD SVG 1.1//EN\"\n",
              " \"http://www.w3.org/Graphics/SVG/1.1/DTD/svg11.dtd\">\n",
              "<!-- Generated by graphviz version 2.43.0 (0)\n",
              " -->\n",
              "<!-- Title: %3 Pages: 1 -->\n",
              "<svg width=\"110pt\" height=\"113pt\"\n",
              " viewBox=\"0.00 0.00 110.00 113.00\" xmlns=\"http://www.w3.org/2000/svg\" xmlns:xlink=\"http://www.w3.org/1999/xlink\">\n",
              "<g id=\"graph0\" class=\"graph\" transform=\"scale(1 1) rotate(0) translate(4 109)\">\n",
              "<title>%3</title>\n",
              "<polygon fill=\"white\" stroke=\"transparent\" points=\"-4,4 -4,-109 106,-109 106,4 -4,4\"/>\n",
              "<!-- 140555158808320 -->\n",
              "<g id=\"node1\" class=\"node\">\n",
              "<title>140555158808320</title>\n",
              "<path fill=\"none\" stroke=\"black\" stroke-width=\"0.25\" d=\"M53.5,-105C53.5,-105 48.5,-105 48.5,-105 46,-105 43.5,-102.5 43.5,-100 43.5,-100 43.5,-87 43.5,-87 43.5,-84.5 46,-82 48.5,-82 48.5,-82 53.5,-82 53.5,-82 56,-82 58.5,-84.5 58.5,-87 58.5,-87 58.5,-100 58.5,-100 58.5,-102.5 56,-105 53.5,-105\"/>\n",
              "<text text-anchor=\"middle\" x=\"51\" y=\"-89.8\" font-family=\"Times,serif\" font-size=\"14.00\">1</text>\n",
              "</g>\n",
              "<!-- 140555159370576 -->\n",
              "<g id=\"node2\" class=\"node\">\n",
              "<title>140555159370576</title>\n",
              "<path fill=\"none\" stroke=\"black\" stroke-width=\"0.25\" d=\"M14.67,-64C14.67,-64 7.33,-64 7.33,-64 3.67,-64 0,-60.33 0,-56.67 0,-56.67 0,-48.33 0,-48.33 0,-44.67 3.67,-41 7.33,-41 7.33,-41 14.67,-41 14.67,-41 18.33,-41 22,-44.67 22,-48.33 22,-48.33 22,-56.67 22,-56.67 22,-60.33 18.33,-64 14.67,-64\"/>\n",
              "<text text-anchor=\"middle\" x=\"11\" y=\"-48.8\" font-family=\"Times,serif\" font-size=\"14.00\">11</text>\n",
              "</g>\n",
              "<!-- 140555158808320&#45;&gt;140555159370576 -->\n",
              "<g id=\"edge1\" class=\"edge\">\n",
              "<title>140555158808320&#45;&gt;140555159370576</title>\n",
              "<path fill=\"none\" stroke=\"black\" d=\"M43.29,-84.98C37.2,-79.05 28.64,-70.7 21.86,-64.09\"/>\n",
              "</g>\n",
              "<!-- 140555159370384 -->\n",
              "<g id=\"node3\" class=\"node\">\n",
              "<title>140555159370384</title>\n",
              "<path fill=\"none\" stroke=\"black\" stroke-width=\"0.25\" d=\"M54.67,-64C54.67,-64 47.33,-64 47.33,-64 43.67,-64 40,-60.33 40,-56.67 40,-56.67 40,-48.33 40,-48.33 40,-44.67 43.67,-41 47.33,-41 47.33,-41 54.67,-41 54.67,-41 58.33,-41 62,-44.67 62,-48.33 62,-48.33 62,-56.67 62,-56.67 62,-60.33 58.33,-64 54.67,-64\"/>\n",
              "<text text-anchor=\"middle\" x=\"51\" y=\"-48.8\" font-family=\"Times,serif\" font-size=\"14.00\">12</text>\n",
              "</g>\n",
              "<!-- 140555158808320&#45;&gt;140555159370384 -->\n",
              "<g id=\"edge2\" class=\"edge\">\n",
              "<title>140555158808320&#45;&gt;140555159370384</title>\n",
              "<path fill=\"none\" stroke=\"black\" d=\"M51,-81.84C51,-76.34 51,-69.65 51,-64.14\"/>\n",
              "</g>\n",
              "<!-- 140555159418864 -->\n",
              "<g id=\"node4\" class=\"node\">\n",
              "<title>140555159418864</title>\n",
              "<path fill=\"none\" stroke=\"black\" stroke-width=\"0.25\" d=\"M94.67,-64C94.67,-64 87.33,-64 87.33,-64 83.67,-64 80,-60.33 80,-56.67 80,-56.67 80,-48.33 80,-48.33 80,-44.67 83.67,-41 87.33,-41 87.33,-41 94.67,-41 94.67,-41 98.33,-41 102,-44.67 102,-48.33 102,-48.33 102,-56.67 102,-56.67 102,-60.33 98.33,-64 94.67,-64\"/>\n",
              "<text text-anchor=\"middle\" x=\"91\" y=\"-48.8\" font-family=\"Times,serif\" font-size=\"14.00\">13</text>\n",
              "</g>\n",
              "<!-- 140555158808320&#45;&gt;140555159418864 -->\n",
              "<g id=\"edge3\" class=\"edge\">\n",
              "<title>140555158808320&#45;&gt;140555159418864</title>\n",
              "<path fill=\"none\" stroke=\"black\" d=\"M58.71,-84.98C64.8,-79.05 73.36,-70.7 80.14,-64.09\"/>\n",
              "</g>\n",
              "<!-- 140555159370576&#45;&gt;140555159370384 -->\n",
              "<!-- 140555159370384&#45;&gt;140555159418864 -->\n",
              "<!-- 140555159440832 -->\n",
              "<g id=\"node5\" class=\"node\">\n",
              "<title>140555159440832</title>\n",
              "<path fill=\"none\" stroke=\"black\" stroke-width=\"0.25\" d=\"M33.83,-23C33.83,-23 20.17,-23 20.17,-23 16.33,-23 12.5,-19.17 12.5,-15.33 12.5,-15.33 12.5,-7.67 12.5,-7.67 12.5,-3.83 16.33,0 20.17,0 20.17,0 33.83,0 33.83,0 37.67,0 41.5,-3.83 41.5,-7.67 41.5,-7.67 41.5,-15.33 41.5,-15.33 41.5,-19.17 37.67,-23 33.83,-23\"/>\n",
              "<text text-anchor=\"middle\" x=\"27\" y=\"-7.8\" font-family=\"Times,serif\" font-size=\"14.00\">121</text>\n",
              "</g>\n",
              "<!-- 140555159370384&#45;&gt;140555159440832 -->\n",
              "<g id=\"edge6\" class=\"edge\">\n",
              "<title>140555159370384&#45;&gt;140555159440832</title>\n",
              "<path fill=\"none\" stroke=\"black\" d=\"M44.44,-40.84C41.06,-35.34 36.94,-28.65 33.55,-23.14\"/>\n",
              "</g>\n",
              "<!-- 140555155796944 -->\n",
              "<g id=\"node6\" class=\"node\">\n",
              "<title>140555155796944</title>\n",
              "<path fill=\"none\" stroke=\"black\" stroke-width=\"0.25\" d=\"M80.83,-23C80.83,-23 67.17,-23 67.17,-23 63.33,-23 59.5,-19.17 59.5,-15.33 59.5,-15.33 59.5,-7.67 59.5,-7.67 59.5,-3.83 63.33,0 67.17,0 67.17,0 80.83,0 80.83,0 84.67,0 88.5,-3.83 88.5,-7.67 88.5,-7.67 88.5,-15.33 88.5,-15.33 88.5,-19.17 84.67,-23 80.83,-23\"/>\n",
              "<text text-anchor=\"middle\" x=\"74\" y=\"-7.8\" font-family=\"Times,serif\" font-size=\"14.00\">122</text>\n",
              "</g>\n",
              "<!-- 140555159370384&#45;&gt;140555155796944 -->\n",
              "<g id=\"edge7\" class=\"edge\">\n",
              "<title>140555159370384&#45;&gt;140555155796944</title>\n",
              "<path fill=\"none\" stroke=\"black\" d=\"M57.28,-40.84C60.53,-35.34 64.48,-28.65 67.72,-23.14\"/>\n",
              "</g>\n",
              "<!-- 140555159440832&#45;&gt;140555155796944 -->\n",
              "</g>\n",
              "</svg>\n"
            ],
            "text/plain": [
              "(1: (11), (12: (121), (122)), (13))"
            ]
          },
          "execution_count": 19,
          "metadata": {},
          "output_type": "execute_result"
        }
      ],
      "source": [
        "# uso di liblet per ottenre una rappresentazione grafica \n",
        "\n",
        "from liblet import Tree\n",
        "\n",
        "t = Tree.from_lol(tree)\n",
        "t"
      ]
    },
    {
      "cell_type": "markdown",
      "metadata": {},
      "source": [
        "### Visite\n",
        "\n",
        "* preordine, \n",
        "* postordine, \n",
        "* per livello."
      ]
    },
    {
      "cell_type": "code",
      "execution_count": null,
      "metadata": {},
      "outputs": [
        {
          "data": {
            "image/svg+xml": [
              "<?xml version=\"1.0\" encoding=\"UTF-8\" standalone=\"no\"?>\n",
              "<!DOCTYPE svg PUBLIC \"-//W3C//DTD SVG 1.1//EN\"\n",
              " \"http://www.w3.org/Graphics/SVG/1.1/DTD/svg11.dtd\">\n",
              "<!-- Generated by graphviz version 2.43.0 (0)\n",
              " -->\n",
              "<!-- Title: %3 Pages: 1 -->\n",
              "<svg width=\"110pt\" height=\"113pt\"\n",
              " viewBox=\"0.00 0.00 110.00 113.00\" xmlns=\"http://www.w3.org/2000/svg\" xmlns:xlink=\"http://www.w3.org/1999/xlink\">\n",
              "<g id=\"graph0\" class=\"graph\" transform=\"scale(1 1) rotate(0) translate(4 109)\">\n",
              "<title>%3</title>\n",
              "<polygon fill=\"white\" stroke=\"transparent\" points=\"-4,4 -4,-109 106,-109 106,4 -4,4\"/>\n",
              "<!-- 140555158808320 -->\n",
              "<g id=\"node1\" class=\"node\">\n",
              "<title>140555158808320</title>\n",
              "<path fill=\"none\" stroke=\"black\" stroke-width=\"0.25\" d=\"M53.5,-105C53.5,-105 48.5,-105 48.5,-105 46,-105 43.5,-102.5 43.5,-100 43.5,-100 43.5,-87 43.5,-87 43.5,-84.5 46,-82 48.5,-82 48.5,-82 53.5,-82 53.5,-82 56,-82 58.5,-84.5 58.5,-87 58.5,-87 58.5,-100 58.5,-100 58.5,-102.5 56,-105 53.5,-105\"/>\n",
              "<text text-anchor=\"middle\" x=\"51\" y=\"-89.8\" font-family=\"Times,serif\" font-size=\"14.00\">1</text>\n",
              "</g>\n",
              "<!-- 140555159370576 -->\n",
              "<g id=\"node2\" class=\"node\">\n",
              "<title>140555159370576</title>\n",
              "<path fill=\"none\" stroke=\"black\" stroke-width=\"0.25\" d=\"M14.67,-64C14.67,-64 7.33,-64 7.33,-64 3.67,-64 0,-60.33 0,-56.67 0,-56.67 0,-48.33 0,-48.33 0,-44.67 3.67,-41 7.33,-41 7.33,-41 14.67,-41 14.67,-41 18.33,-41 22,-44.67 22,-48.33 22,-48.33 22,-56.67 22,-56.67 22,-60.33 18.33,-64 14.67,-64\"/>\n",
              "<text text-anchor=\"middle\" x=\"11\" y=\"-48.8\" font-family=\"Times,serif\" font-size=\"14.00\">11</text>\n",
              "</g>\n",
              "<!-- 140555158808320&#45;&gt;140555159370576 -->\n",
              "<g id=\"edge1\" class=\"edge\">\n",
              "<title>140555158808320&#45;&gt;140555159370576</title>\n",
              "<path fill=\"none\" stroke=\"black\" d=\"M43.29,-84.98C37.2,-79.05 28.64,-70.7 21.86,-64.09\"/>\n",
              "</g>\n",
              "<!-- 140555159370384 -->\n",
              "<g id=\"node3\" class=\"node\">\n",
              "<title>140555159370384</title>\n",
              "<path fill=\"none\" stroke=\"black\" stroke-width=\"0.25\" d=\"M54.67,-64C54.67,-64 47.33,-64 47.33,-64 43.67,-64 40,-60.33 40,-56.67 40,-56.67 40,-48.33 40,-48.33 40,-44.67 43.67,-41 47.33,-41 47.33,-41 54.67,-41 54.67,-41 58.33,-41 62,-44.67 62,-48.33 62,-48.33 62,-56.67 62,-56.67 62,-60.33 58.33,-64 54.67,-64\"/>\n",
              "<text text-anchor=\"middle\" x=\"51\" y=\"-48.8\" font-family=\"Times,serif\" font-size=\"14.00\">12</text>\n",
              "</g>\n",
              "<!-- 140555158808320&#45;&gt;140555159370384 -->\n",
              "<g id=\"edge2\" class=\"edge\">\n",
              "<title>140555158808320&#45;&gt;140555159370384</title>\n",
              "<path fill=\"none\" stroke=\"black\" d=\"M51,-81.84C51,-76.34 51,-69.65 51,-64.14\"/>\n",
              "</g>\n",
              "<!-- 140555159418864 -->\n",
              "<g id=\"node4\" class=\"node\">\n",
              "<title>140555159418864</title>\n",
              "<path fill=\"none\" stroke=\"black\" stroke-width=\"0.25\" d=\"M94.67,-64C94.67,-64 87.33,-64 87.33,-64 83.67,-64 80,-60.33 80,-56.67 80,-56.67 80,-48.33 80,-48.33 80,-44.67 83.67,-41 87.33,-41 87.33,-41 94.67,-41 94.67,-41 98.33,-41 102,-44.67 102,-48.33 102,-48.33 102,-56.67 102,-56.67 102,-60.33 98.33,-64 94.67,-64\"/>\n",
              "<text text-anchor=\"middle\" x=\"91\" y=\"-48.8\" font-family=\"Times,serif\" font-size=\"14.00\">13</text>\n",
              "</g>\n",
              "<!-- 140555158808320&#45;&gt;140555159418864 -->\n",
              "<g id=\"edge3\" class=\"edge\">\n",
              "<title>140555158808320&#45;&gt;140555159418864</title>\n",
              "<path fill=\"none\" stroke=\"black\" d=\"M58.71,-84.98C64.8,-79.05 73.36,-70.7 80.14,-64.09\"/>\n",
              "</g>\n",
              "<!-- 140555159370576&#45;&gt;140555159370384 -->\n",
              "<!-- 140555159370384&#45;&gt;140555159418864 -->\n",
              "<!-- 140555159440832 -->\n",
              "<g id=\"node5\" class=\"node\">\n",
              "<title>140555159440832</title>\n",
              "<path fill=\"none\" stroke=\"black\" stroke-width=\"0.25\" d=\"M33.83,-23C33.83,-23 20.17,-23 20.17,-23 16.33,-23 12.5,-19.17 12.5,-15.33 12.5,-15.33 12.5,-7.67 12.5,-7.67 12.5,-3.83 16.33,0 20.17,0 20.17,0 33.83,0 33.83,0 37.67,0 41.5,-3.83 41.5,-7.67 41.5,-7.67 41.5,-15.33 41.5,-15.33 41.5,-19.17 37.67,-23 33.83,-23\"/>\n",
              "<text text-anchor=\"middle\" x=\"27\" y=\"-7.8\" font-family=\"Times,serif\" font-size=\"14.00\">121</text>\n",
              "</g>\n",
              "<!-- 140555159370384&#45;&gt;140555159440832 -->\n",
              "<g id=\"edge6\" class=\"edge\">\n",
              "<title>140555159370384&#45;&gt;140555159440832</title>\n",
              "<path fill=\"none\" stroke=\"black\" d=\"M44.44,-40.84C41.06,-35.34 36.94,-28.65 33.55,-23.14\"/>\n",
              "</g>\n",
              "<!-- 140555155796944 -->\n",
              "<g id=\"node6\" class=\"node\">\n",
              "<title>140555155796944</title>\n",
              "<path fill=\"none\" stroke=\"black\" stroke-width=\"0.25\" d=\"M80.83,-23C80.83,-23 67.17,-23 67.17,-23 63.33,-23 59.5,-19.17 59.5,-15.33 59.5,-15.33 59.5,-7.67 59.5,-7.67 59.5,-3.83 63.33,0 67.17,0 67.17,0 80.83,0 80.83,0 84.67,0 88.5,-3.83 88.5,-7.67 88.5,-7.67 88.5,-15.33 88.5,-15.33 88.5,-19.17 84.67,-23 80.83,-23\"/>\n",
              "<text text-anchor=\"middle\" x=\"74\" y=\"-7.8\" font-family=\"Times,serif\" font-size=\"14.00\">122</text>\n",
              "</g>\n",
              "<!-- 140555159370384&#45;&gt;140555155796944 -->\n",
              "<g id=\"edge7\" class=\"edge\">\n",
              "<title>140555159370384&#45;&gt;140555155796944</title>\n",
              "<path fill=\"none\" stroke=\"black\" d=\"M57.28,-40.84C60.53,-35.34 64.48,-28.65 67.72,-23.14\"/>\n",
              "</g>\n",
              "<!-- 140555159440832&#45;&gt;140555155796944 -->\n",
              "</g>\n",
              "</svg>\n"
            ],
            "text/plain": [
              "(1: (11), (12: (121), (122)), (13))"
            ]
          },
          "execution_count": 20,
          "metadata": {},
          "output_type": "execute_result"
        }
      ],
      "source": [
        "def preorder(tree, visitor):\n",
        "  root, *children = tree\n",
        "  visitor(root)\n",
        "  for st in children: preorder(st, visitor)\n",
        "        \n",
        "t        "
      ]
    },
    {
      "cell_type": "code",
      "execution_count": null,
      "metadata": {},
      "outputs": [
        {
          "name": "stdout",
          "output_type": "stream",
          "text": [
            "1\n",
            "11\n",
            "12\n",
            "121\n",
            "122\n",
            "13\n"
          ]
        }
      ],
      "source": [
        "preorder(tree, print)"
      ]
    },
    {
      "cell_type": "code",
      "execution_count": null,
      "metadata": {},
      "outputs": [
        {
          "data": {
            "image/svg+xml": [
              "<?xml version=\"1.0\" encoding=\"UTF-8\" standalone=\"no\"?>\n",
              "<!DOCTYPE svg PUBLIC \"-//W3C//DTD SVG 1.1//EN\"\n",
              " \"http://www.w3.org/Graphics/SVG/1.1/DTD/svg11.dtd\">\n",
              "<!-- Generated by graphviz version 2.43.0 (0)\n",
              " -->\n",
              "<!-- Title: %3 Pages: 1 -->\n",
              "<svg width=\"110pt\" height=\"113pt\"\n",
              " viewBox=\"0.00 0.00 110.00 113.00\" xmlns=\"http://www.w3.org/2000/svg\" xmlns:xlink=\"http://www.w3.org/1999/xlink\">\n",
              "<g id=\"graph0\" class=\"graph\" transform=\"scale(1 1) rotate(0) translate(4 109)\">\n",
              "<title>%3</title>\n",
              "<polygon fill=\"white\" stroke=\"transparent\" points=\"-4,4 -4,-109 106,-109 106,4 -4,4\"/>\n",
              "<!-- 140555158808320 -->\n",
              "<g id=\"node1\" class=\"node\">\n",
              "<title>140555158808320</title>\n",
              "<path fill=\"none\" stroke=\"black\" stroke-width=\"0.25\" d=\"M53.5,-105C53.5,-105 48.5,-105 48.5,-105 46,-105 43.5,-102.5 43.5,-100 43.5,-100 43.5,-87 43.5,-87 43.5,-84.5 46,-82 48.5,-82 48.5,-82 53.5,-82 53.5,-82 56,-82 58.5,-84.5 58.5,-87 58.5,-87 58.5,-100 58.5,-100 58.5,-102.5 56,-105 53.5,-105\"/>\n",
              "<text text-anchor=\"middle\" x=\"51\" y=\"-89.8\" font-family=\"Times,serif\" font-size=\"14.00\">1</text>\n",
              "</g>\n",
              "<!-- 140555159370576 -->\n",
              "<g id=\"node2\" class=\"node\">\n",
              "<title>140555159370576</title>\n",
              "<path fill=\"none\" stroke=\"black\" stroke-width=\"0.25\" d=\"M14.67,-64C14.67,-64 7.33,-64 7.33,-64 3.67,-64 0,-60.33 0,-56.67 0,-56.67 0,-48.33 0,-48.33 0,-44.67 3.67,-41 7.33,-41 7.33,-41 14.67,-41 14.67,-41 18.33,-41 22,-44.67 22,-48.33 22,-48.33 22,-56.67 22,-56.67 22,-60.33 18.33,-64 14.67,-64\"/>\n",
              "<text text-anchor=\"middle\" x=\"11\" y=\"-48.8\" font-family=\"Times,serif\" font-size=\"14.00\">11</text>\n",
              "</g>\n",
              "<!-- 140555158808320&#45;&gt;140555159370576 -->\n",
              "<g id=\"edge1\" class=\"edge\">\n",
              "<title>140555158808320&#45;&gt;140555159370576</title>\n",
              "<path fill=\"none\" stroke=\"black\" d=\"M43.29,-84.98C37.2,-79.05 28.64,-70.7 21.86,-64.09\"/>\n",
              "</g>\n",
              "<!-- 140555159370384 -->\n",
              "<g id=\"node3\" class=\"node\">\n",
              "<title>140555159370384</title>\n",
              "<path fill=\"none\" stroke=\"black\" stroke-width=\"0.25\" d=\"M54.67,-64C54.67,-64 47.33,-64 47.33,-64 43.67,-64 40,-60.33 40,-56.67 40,-56.67 40,-48.33 40,-48.33 40,-44.67 43.67,-41 47.33,-41 47.33,-41 54.67,-41 54.67,-41 58.33,-41 62,-44.67 62,-48.33 62,-48.33 62,-56.67 62,-56.67 62,-60.33 58.33,-64 54.67,-64\"/>\n",
              "<text text-anchor=\"middle\" x=\"51\" y=\"-48.8\" font-family=\"Times,serif\" font-size=\"14.00\">12</text>\n",
              "</g>\n",
              "<!-- 140555158808320&#45;&gt;140555159370384 -->\n",
              "<g id=\"edge2\" class=\"edge\">\n",
              "<title>140555158808320&#45;&gt;140555159370384</title>\n",
              "<path fill=\"none\" stroke=\"black\" d=\"M51,-81.84C51,-76.34 51,-69.65 51,-64.14\"/>\n",
              "</g>\n",
              "<!-- 140555159418864 -->\n",
              "<g id=\"node4\" class=\"node\">\n",
              "<title>140555159418864</title>\n",
              "<path fill=\"none\" stroke=\"black\" stroke-width=\"0.25\" d=\"M94.67,-64C94.67,-64 87.33,-64 87.33,-64 83.67,-64 80,-60.33 80,-56.67 80,-56.67 80,-48.33 80,-48.33 80,-44.67 83.67,-41 87.33,-41 87.33,-41 94.67,-41 94.67,-41 98.33,-41 102,-44.67 102,-48.33 102,-48.33 102,-56.67 102,-56.67 102,-60.33 98.33,-64 94.67,-64\"/>\n",
              "<text text-anchor=\"middle\" x=\"91\" y=\"-48.8\" font-family=\"Times,serif\" font-size=\"14.00\">13</text>\n",
              "</g>\n",
              "<!-- 140555158808320&#45;&gt;140555159418864 -->\n",
              "<g id=\"edge3\" class=\"edge\">\n",
              "<title>140555158808320&#45;&gt;140555159418864</title>\n",
              "<path fill=\"none\" stroke=\"black\" d=\"M58.71,-84.98C64.8,-79.05 73.36,-70.7 80.14,-64.09\"/>\n",
              "</g>\n",
              "<!-- 140555159370576&#45;&gt;140555159370384 -->\n",
              "<!-- 140555159370384&#45;&gt;140555159418864 -->\n",
              "<!-- 140555159440832 -->\n",
              "<g id=\"node5\" class=\"node\">\n",
              "<title>140555159440832</title>\n",
              "<path fill=\"none\" stroke=\"black\" stroke-width=\"0.25\" d=\"M33.83,-23C33.83,-23 20.17,-23 20.17,-23 16.33,-23 12.5,-19.17 12.5,-15.33 12.5,-15.33 12.5,-7.67 12.5,-7.67 12.5,-3.83 16.33,0 20.17,0 20.17,0 33.83,0 33.83,0 37.67,0 41.5,-3.83 41.5,-7.67 41.5,-7.67 41.5,-15.33 41.5,-15.33 41.5,-19.17 37.67,-23 33.83,-23\"/>\n",
              "<text text-anchor=\"middle\" x=\"27\" y=\"-7.8\" font-family=\"Times,serif\" font-size=\"14.00\">121</text>\n",
              "</g>\n",
              "<!-- 140555159370384&#45;&gt;140555159440832 -->\n",
              "<g id=\"edge6\" class=\"edge\">\n",
              "<title>140555159370384&#45;&gt;140555159440832</title>\n",
              "<path fill=\"none\" stroke=\"black\" d=\"M44.44,-40.84C41.06,-35.34 36.94,-28.65 33.55,-23.14\"/>\n",
              "</g>\n",
              "<!-- 140555155796944 -->\n",
              "<g id=\"node6\" class=\"node\">\n",
              "<title>140555155796944</title>\n",
              "<path fill=\"none\" stroke=\"black\" stroke-width=\"0.25\" d=\"M80.83,-23C80.83,-23 67.17,-23 67.17,-23 63.33,-23 59.5,-19.17 59.5,-15.33 59.5,-15.33 59.5,-7.67 59.5,-7.67 59.5,-3.83 63.33,0 67.17,0 67.17,0 80.83,0 80.83,0 84.67,0 88.5,-3.83 88.5,-7.67 88.5,-7.67 88.5,-15.33 88.5,-15.33 88.5,-19.17 84.67,-23 80.83,-23\"/>\n",
              "<text text-anchor=\"middle\" x=\"74\" y=\"-7.8\" font-family=\"Times,serif\" font-size=\"14.00\">122</text>\n",
              "</g>\n",
              "<!-- 140555159370384&#45;&gt;140555155796944 -->\n",
              "<g id=\"edge7\" class=\"edge\">\n",
              "<title>140555159370384&#45;&gt;140555155796944</title>\n",
              "<path fill=\"none\" stroke=\"black\" d=\"M57.28,-40.84C60.53,-35.34 64.48,-28.65 67.72,-23.14\"/>\n",
              "</g>\n",
              "<!-- 140555159440832&#45;&gt;140555155796944 -->\n",
              "</g>\n",
              "</svg>\n"
            ],
            "text/plain": [
              "(1: (11), (12: (121), (122)), (13))"
            ]
          },
          "execution_count": 22,
          "metadata": {},
          "output_type": "execute_result"
        }
      ],
      "source": [
        "def postorder(tree, visitor):\n",
        "  root, *children = tree\n",
        "  for st in children: postorder(st, visitor)\n",
        "  visitor(root)\n",
        "    \n",
        "t    "
      ]
    },
    {
      "cell_type": "code",
      "execution_count": null,
      "metadata": {},
      "outputs": [
        {
          "name": "stdout",
          "output_type": "stream",
          "text": [
            "11\n",
            "121\n",
            "122\n",
            "12\n",
            "13\n",
            "1\n"
          ]
        }
      ],
      "source": [
        "postorder(tree, print)"
      ]
    },
    {
      "cell_type": "code",
      "execution_count": null,
      "metadata": {},
      "outputs": [
        {
          "data": {
            "image/svg+xml": [
              "<?xml version=\"1.0\" encoding=\"UTF-8\" standalone=\"no\"?>\n",
              "<!DOCTYPE svg PUBLIC \"-//W3C//DTD SVG 1.1//EN\"\n",
              " \"http://www.w3.org/Graphics/SVG/1.1/DTD/svg11.dtd\">\n",
              "<!-- Generated by graphviz version 2.43.0 (0)\n",
              " -->\n",
              "<!-- Title: %3 Pages: 1 -->\n",
              "<svg width=\"110pt\" height=\"113pt\"\n",
              " viewBox=\"0.00 0.00 110.00 113.00\" xmlns=\"http://www.w3.org/2000/svg\" xmlns:xlink=\"http://www.w3.org/1999/xlink\">\n",
              "<g id=\"graph0\" class=\"graph\" transform=\"scale(1 1) rotate(0) translate(4 109)\">\n",
              "<title>%3</title>\n",
              "<polygon fill=\"white\" stroke=\"transparent\" points=\"-4,4 -4,-109 106,-109 106,4 -4,4\"/>\n",
              "<!-- 140555158808320 -->\n",
              "<g id=\"node1\" class=\"node\">\n",
              "<title>140555158808320</title>\n",
              "<path fill=\"none\" stroke=\"black\" stroke-width=\"0.25\" d=\"M53.5,-105C53.5,-105 48.5,-105 48.5,-105 46,-105 43.5,-102.5 43.5,-100 43.5,-100 43.5,-87 43.5,-87 43.5,-84.5 46,-82 48.5,-82 48.5,-82 53.5,-82 53.5,-82 56,-82 58.5,-84.5 58.5,-87 58.5,-87 58.5,-100 58.5,-100 58.5,-102.5 56,-105 53.5,-105\"/>\n",
              "<text text-anchor=\"middle\" x=\"51\" y=\"-89.8\" font-family=\"Times,serif\" font-size=\"14.00\">1</text>\n",
              "</g>\n",
              "<!-- 140555159370576 -->\n",
              "<g id=\"node2\" class=\"node\">\n",
              "<title>140555159370576</title>\n",
              "<path fill=\"none\" stroke=\"black\" stroke-width=\"0.25\" d=\"M14.67,-64C14.67,-64 7.33,-64 7.33,-64 3.67,-64 0,-60.33 0,-56.67 0,-56.67 0,-48.33 0,-48.33 0,-44.67 3.67,-41 7.33,-41 7.33,-41 14.67,-41 14.67,-41 18.33,-41 22,-44.67 22,-48.33 22,-48.33 22,-56.67 22,-56.67 22,-60.33 18.33,-64 14.67,-64\"/>\n",
              "<text text-anchor=\"middle\" x=\"11\" y=\"-48.8\" font-family=\"Times,serif\" font-size=\"14.00\">11</text>\n",
              "</g>\n",
              "<!-- 140555158808320&#45;&gt;140555159370576 -->\n",
              "<g id=\"edge1\" class=\"edge\">\n",
              "<title>140555158808320&#45;&gt;140555159370576</title>\n",
              "<path fill=\"none\" stroke=\"black\" d=\"M43.29,-84.98C37.2,-79.05 28.64,-70.7 21.86,-64.09\"/>\n",
              "</g>\n",
              "<!-- 140555159370384 -->\n",
              "<g id=\"node3\" class=\"node\">\n",
              "<title>140555159370384</title>\n",
              "<path fill=\"none\" stroke=\"black\" stroke-width=\"0.25\" d=\"M54.67,-64C54.67,-64 47.33,-64 47.33,-64 43.67,-64 40,-60.33 40,-56.67 40,-56.67 40,-48.33 40,-48.33 40,-44.67 43.67,-41 47.33,-41 47.33,-41 54.67,-41 54.67,-41 58.33,-41 62,-44.67 62,-48.33 62,-48.33 62,-56.67 62,-56.67 62,-60.33 58.33,-64 54.67,-64\"/>\n",
              "<text text-anchor=\"middle\" x=\"51\" y=\"-48.8\" font-family=\"Times,serif\" font-size=\"14.00\">12</text>\n",
              "</g>\n",
              "<!-- 140555158808320&#45;&gt;140555159370384 -->\n",
              "<g id=\"edge2\" class=\"edge\">\n",
              "<title>140555158808320&#45;&gt;140555159370384</title>\n",
              "<path fill=\"none\" stroke=\"black\" d=\"M51,-81.84C51,-76.34 51,-69.65 51,-64.14\"/>\n",
              "</g>\n",
              "<!-- 140555159418864 -->\n",
              "<g id=\"node4\" class=\"node\">\n",
              "<title>140555159418864</title>\n",
              "<path fill=\"none\" stroke=\"black\" stroke-width=\"0.25\" d=\"M94.67,-64C94.67,-64 87.33,-64 87.33,-64 83.67,-64 80,-60.33 80,-56.67 80,-56.67 80,-48.33 80,-48.33 80,-44.67 83.67,-41 87.33,-41 87.33,-41 94.67,-41 94.67,-41 98.33,-41 102,-44.67 102,-48.33 102,-48.33 102,-56.67 102,-56.67 102,-60.33 98.33,-64 94.67,-64\"/>\n",
              "<text text-anchor=\"middle\" x=\"91\" y=\"-48.8\" font-family=\"Times,serif\" font-size=\"14.00\">13</text>\n",
              "</g>\n",
              "<!-- 140555158808320&#45;&gt;140555159418864 -->\n",
              "<g id=\"edge3\" class=\"edge\">\n",
              "<title>140555158808320&#45;&gt;140555159418864</title>\n",
              "<path fill=\"none\" stroke=\"black\" d=\"M58.71,-84.98C64.8,-79.05 73.36,-70.7 80.14,-64.09\"/>\n",
              "</g>\n",
              "<!-- 140555159370576&#45;&gt;140555159370384 -->\n",
              "<!-- 140555159370384&#45;&gt;140555159418864 -->\n",
              "<!-- 140555159440832 -->\n",
              "<g id=\"node5\" class=\"node\">\n",
              "<title>140555159440832</title>\n",
              "<path fill=\"none\" stroke=\"black\" stroke-width=\"0.25\" d=\"M33.83,-23C33.83,-23 20.17,-23 20.17,-23 16.33,-23 12.5,-19.17 12.5,-15.33 12.5,-15.33 12.5,-7.67 12.5,-7.67 12.5,-3.83 16.33,0 20.17,0 20.17,0 33.83,0 33.83,0 37.67,0 41.5,-3.83 41.5,-7.67 41.5,-7.67 41.5,-15.33 41.5,-15.33 41.5,-19.17 37.67,-23 33.83,-23\"/>\n",
              "<text text-anchor=\"middle\" x=\"27\" y=\"-7.8\" font-family=\"Times,serif\" font-size=\"14.00\">121</text>\n",
              "</g>\n",
              "<!-- 140555159370384&#45;&gt;140555159440832 -->\n",
              "<g id=\"edge6\" class=\"edge\">\n",
              "<title>140555159370384&#45;&gt;140555159440832</title>\n",
              "<path fill=\"none\" stroke=\"black\" d=\"M44.44,-40.84C41.06,-35.34 36.94,-28.65 33.55,-23.14\"/>\n",
              "</g>\n",
              "<!-- 140555155796944 -->\n",
              "<g id=\"node6\" class=\"node\">\n",
              "<title>140555155796944</title>\n",
              "<path fill=\"none\" stroke=\"black\" stroke-width=\"0.25\" d=\"M80.83,-23C80.83,-23 67.17,-23 67.17,-23 63.33,-23 59.5,-19.17 59.5,-15.33 59.5,-15.33 59.5,-7.67 59.5,-7.67 59.5,-3.83 63.33,0 67.17,0 67.17,0 80.83,0 80.83,0 84.67,0 88.5,-3.83 88.5,-7.67 88.5,-7.67 88.5,-15.33 88.5,-15.33 88.5,-19.17 84.67,-23 80.83,-23\"/>\n",
              "<text text-anchor=\"middle\" x=\"74\" y=\"-7.8\" font-family=\"Times,serif\" font-size=\"14.00\">122</text>\n",
              "</g>\n",
              "<!-- 140555159370384&#45;&gt;140555155796944 -->\n",
              "<g id=\"edge7\" class=\"edge\">\n",
              "<title>140555159370384&#45;&gt;140555155796944</title>\n",
              "<path fill=\"none\" stroke=\"black\" d=\"M57.28,-40.84C60.53,-35.34 64.48,-28.65 67.72,-23.14\"/>\n",
              "</g>\n",
              "<!-- 140555159440832&#45;&gt;140555155796944 -->\n",
              "</g>\n",
              "</svg>\n"
            ],
            "text/plain": [
              "(1: (11), (12: (121), (122)), (13))"
            ]
          },
          "execution_count": 24,
          "metadata": {},
          "output_type": "execute_result"
        }
      ],
      "source": [
        "from liblet import Queue\n",
        "\n",
        "def levelorder(tree, visitor):\n",
        "\n",
        "  Q = Queue()\n",
        "\n",
        "  Q.enqueue(tree)\n",
        "  while Q:\n",
        "    tree = Q.dequeue()\n",
        "    root, *children = tree\n",
        "    visitor(root)\n",
        "    for s in children: Q.enqueue(s)\n",
        "\n",
        "t"
      ]
    },
    {
      "cell_type": "code",
      "execution_count": null,
      "metadata": {},
      "outputs": [
        {
          "name": "stdout",
          "output_type": "stream",
          "text": [
            "1\n",
            "11\n",
            "12\n",
            "13\n",
            "121\n",
            "122\n"
          ]
        }
      ],
      "source": [
        "levelorder(tree, print)"
      ]
    },
    {
      "cell_type": "markdown",
      "metadata": {},
      "source": [
        "### Alberi con attributi (*)\n",
        "\n",
        "<span style=\"color: red\">Questa sezione non è stata coperta a lezione ed è facoltativa.</span>\n",
        "\n",
        "Per ora gli alberi avevano interi come velori dei nodi, costruiamo un albero che abbia `dict` come valori (e che conservi il valore numerico come valore della chiave `val`)."
      ]
    },
    {
      "cell_type": "code",
      "execution_count": null,
      "metadata": {},
      "outputs": [],
      "source": [
        "def add_attr(tree):\n",
        "  root, *children = tree\n",
        "  return [{'val': root}] + [add_attr(tree) for tree in children]"
      ]
    },
    {
      "cell_type": "code",
      "execution_count": null,
      "metadata": {},
      "outputs": [
        {
          "data": {
            "text/plain": [
              "[{'val': 1},\n",
              " [{'val': 11}],\n",
              " [{'val': 12}, [{'val': 121}], [{'val': 122}]],\n",
              " [{'val': 13}]]"
            ]
          },
          "execution_count": 27,
          "metadata": {},
          "output_type": "execute_result"
        }
      ],
      "source": [
        "tree = [1, [11], [12, [121], [122]], [13]]\n",
        "\n",
        "add_attr(tree)"
      ]
    },
    {
      "cell_type": "code",
      "execution_count": null,
      "metadata": {},
      "outputs": [
        {
          "data": {
            "image/svg+xml": [
              "<?xml version=\"1.0\" encoding=\"UTF-8\" standalone=\"no\"?>\n",
              "<!DOCTYPE svg PUBLIC \"-//W3C//DTD SVG 1.1//EN\"\n",
              " \"http://www.w3.org/Graphics/SVG/1.1/DTD/svg11.dtd\">\n",
              "<!-- Generated by graphviz version 2.43.0 (0)\n",
              " -->\n",
              "<!-- Title: %3 Pages: 1 -->\n",
              "<svg width=\"164pt\" height=\"101pt\"\n",
              " viewBox=\"0.00 0.00 164.00 101.00\" xmlns=\"http://www.w3.org/2000/svg\" xmlns:xlink=\"http://www.w3.org/1999/xlink\">\n",
              "<g id=\"graph0\" class=\"graph\" transform=\"scale(1 1) rotate(0) translate(4 97)\">\n",
              "<title>%3</title>\n",
              "<polygon fill=\"white\" stroke=\"transparent\" points=\"-4,4 -4,-97 160,-97 160,4 -4,4\"/>\n",
              "<!-- 140555155799200 -->\n",
              "<g id=\"node1\" class=\"node\">\n",
              "<title>140555155799200</title>\n",
              "<polygon fill=\"none\" stroke=\"black\" points=\"61,-73.5 61,-92.5 82,-92.5 82,-73.5 61,-73.5\"/>\n",
              "<text text-anchor=\"start\" x=\"64\" y=\"-79.9\" font-family=\"Times,serif\" font-size=\"12.00\">val</text>\n",
              "<polygon fill=\"none\" stroke=\"black\" points=\"82,-73.5 82,-92.5 95,-92.5 95,-73.5 82,-73.5\"/>\n",
              "<text text-anchor=\"start\" x=\"85\" y=\"-79.9\" font-family=\"Times,serif\" font-size=\"12.00\">1</text>\n",
              "</g>\n",
              "<!-- 140555155799872 -->\n",
              "<g id=\"node2\" class=\"node\">\n",
              "<title>140555155799872</title>\n",
              "<polygon fill=\"none\" stroke=\"black\" points=\"0,-36.5 0,-55.5 21,-55.5 21,-36.5 0,-36.5\"/>\n",
              "<text text-anchor=\"start\" x=\"3\" y=\"-42.9\" font-family=\"Times,serif\" font-size=\"12.00\">val</text>\n",
              "<polygon fill=\"none\" stroke=\"black\" points=\"21,-36.5 21,-55.5 40,-55.5 40,-36.5 21,-36.5\"/>\n",
              "<text text-anchor=\"start\" x=\"24\" y=\"-42.9\" font-family=\"Times,serif\" font-size=\"12.00\">11</text>\n",
              "</g>\n",
              "<!-- 140555155799200&#45;&gt;140555155799872 -->\n",
              "<g id=\"edge1\" class=\"edge\">\n",
              "<title>140555155799200&#45;&gt;140555155799872</title>\n",
              "<path fill=\"none\" stroke=\"black\" d=\"M63.66,-73.85C54.67,-68.42 43.13,-61.46 34.17,-56.05\"/>\n",
              "</g>\n",
              "<!-- 140555155799632 -->\n",
              "<g id=\"node3\" class=\"node\">\n",
              "<title>140555155799632</title>\n",
              "<polygon fill=\"none\" stroke=\"black\" points=\"58,-36.5 58,-55.5 79,-55.5 79,-36.5 58,-36.5\"/>\n",
              "<text text-anchor=\"start\" x=\"61\" y=\"-42.9\" font-family=\"Times,serif\" font-size=\"12.00\">val</text>\n",
              "<polygon fill=\"none\" stroke=\"black\" points=\"79,-36.5 79,-55.5 98,-55.5 98,-36.5 79,-36.5\"/>\n",
              "<text text-anchor=\"start\" x=\"82\" y=\"-42.9\" font-family=\"Times,serif\" font-size=\"12.00\">12</text>\n",
              "</g>\n",
              "<!-- 140555155799200&#45;&gt;140555155799632 -->\n",
              "<g id=\"edge2\" class=\"edge\">\n",
              "<title>140555155799200&#45;&gt;140555155799632</title>\n",
              "<path fill=\"none\" stroke=\"black\" d=\"M78,-73.67C78,-68.32 78,-61.53 78,-56.21\"/>\n",
              "</g>\n",
              "<!-- 140555155798768 -->\n",
              "<g id=\"node4\" class=\"node\">\n",
              "<title>140555155798768</title>\n",
              "<polygon fill=\"none\" stroke=\"black\" points=\"116,-36.5 116,-55.5 137,-55.5 137,-36.5 116,-36.5\"/>\n",
              "<text text-anchor=\"start\" x=\"119\" y=\"-42.9\" font-family=\"Times,serif\" font-size=\"12.00\">val</text>\n",
              "<polygon fill=\"none\" stroke=\"black\" points=\"137,-36.5 137,-55.5 156,-55.5 156,-36.5 137,-36.5\"/>\n",
              "<text text-anchor=\"start\" x=\"140\" y=\"-42.9\" font-family=\"Times,serif\" font-size=\"12.00\">13</text>\n",
              "</g>\n",
              "<!-- 140555155799200&#45;&gt;140555155798768 -->\n",
              "<g id=\"edge3\" class=\"edge\">\n",
              "<title>140555155799200&#45;&gt;140555155798768</title>\n",
              "<path fill=\"none\" stroke=\"black\" d=\"M92.34,-73.85C101.33,-68.42 112.87,-61.46 121.83,-56.05\"/>\n",
              "</g>\n",
              "<!-- 140555155799872&#45;&gt;140555155799632 -->\n",
              "<!-- 140555155799632&#45;&gt;140555155798768 -->\n",
              "<!-- 140555155798960 -->\n",
              "<g id=\"node5\" class=\"node\">\n",
              "<title>140555155798960</title>\n",
              "<polygon fill=\"none\" stroke=\"black\" points=\"23,0.5 23,-18.5 44,-18.5 44,0.5 23,0.5\"/>\n",
              "<text text-anchor=\"start\" x=\"26\" y=\"-5.9\" font-family=\"Times,serif\" font-size=\"12.00\">val</text>\n",
              "<polygon fill=\"none\" stroke=\"black\" points=\"44,0.5 44,-18.5 69,-18.5 69,0.5 44,0.5\"/>\n",
              "<text text-anchor=\"start\" x=\"47\" y=\"-5.9\" font-family=\"Times,serif\" font-size=\"12.00\">121</text>\n",
              "</g>\n",
              "<!-- 140555155799632&#45;&gt;140555155798960 -->\n",
              "<g id=\"edge6\" class=\"edge\">\n",
              "<title>140555155799632&#45;&gt;140555155798960</title>\n",
              "<path fill=\"none\" stroke=\"black\" d=\"M69.93,-36.67C65.04,-31.32 58.83,-24.53 53.96,-19.21\"/>\n",
              "</g>\n",
              "<!-- 140555155799296 -->\n",
              "<g id=\"node6\" class=\"node\">\n",
              "<title>140555155799296</title>\n",
              "<polygon fill=\"none\" stroke=\"black\" points=\"87,0.5 87,-18.5 108,-18.5 108,0.5 87,0.5\"/>\n",
              "<text text-anchor=\"start\" x=\"90\" y=\"-5.9\" font-family=\"Times,serif\" font-size=\"12.00\">val</text>\n",
              "<polygon fill=\"none\" stroke=\"black\" points=\"108,0.5 108,-18.5 133,-18.5 133,0.5 108,0.5\"/>\n",
              "<text text-anchor=\"start\" x=\"111\" y=\"-5.9\" font-family=\"Times,serif\" font-size=\"12.00\">122</text>\n",
              "</g>\n",
              "<!-- 140555155799632&#45;&gt;140555155799296 -->\n",
              "<g id=\"edge7\" class=\"edge\">\n",
              "<title>140555155799632&#45;&gt;140555155799296</title>\n",
              "<path fill=\"none\" stroke=\"black\" d=\"M86.07,-36.67C90.96,-31.32 97.17,-24.53 102.04,-19.21\"/>\n",
              "</g>\n",
              "<!-- 140555155798960&#45;&gt;140555155799296 -->\n",
              "</g>\n",
              "</svg>\n"
            ],
            "text/plain": [
              "({'val': 1}: ({'val': 11}), ({'val': 12}: ({'val': 121}), ({'val': 122})), ({'val': 13}))"
            ]
          },
          "execution_count": 28,
          "metadata": {},
          "output_type": "execute_result"
        }
      ],
      "source": [
        "Tree.from_lol(add_attr(tree))"
      ]
    },
    {
      "cell_type": "markdown",
      "metadata": {},
      "source": [
        "#### Attributi ereditati e preorder\n",
        "\n",
        "Come vedremo più avanti, gli attributi ereditati sono attributi che i nodi dei sottoalberi ereditano dal padre; ad esempio la *profondità*."
      ]
    },
    {
      "cell_type": "code",
      "execution_count": null,
      "metadata": {},
      "outputs": [],
      "source": [
        "def add_depth(tree, parent):\n",
        "  root, *children = tree\n",
        "  root['depth'] = parent['depth'] + 1\n",
        "  for tree in children:\n",
        "    add_depth(tree, root)"
      ]
    },
    {
      "cell_type": "code",
      "execution_count": null,
      "metadata": {},
      "outputs": [
        {
          "data": {
            "image/svg+xml": [
              "<?xml version=\"1.0\" encoding=\"UTF-8\" standalone=\"no\"?>\n",
              "<!DOCTYPE svg PUBLIC \"-//W3C//DTD SVG 1.1//EN\"\n",
              " \"http://www.w3.org/Graphics/SVG/1.1/DTD/svg11.dtd\">\n",
              "<!-- Generated by graphviz version 2.43.0 (0)\n",
              " -->\n",
              "<!-- Title: %3 Pages: 1 -->\n",
              "<svg width=\"200pt\" height=\"158pt\"\n",
              " viewBox=\"0.00 0.00 200.00 158.00\" xmlns=\"http://www.w3.org/2000/svg\" xmlns:xlink=\"http://www.w3.org/1999/xlink\">\n",
              "<g id=\"graph0\" class=\"graph\" transform=\"scale(1 1) rotate(0) translate(4 154)\">\n",
              "<title>%3</title>\n",
              "<polygon fill=\"white\" stroke=\"transparent\" points=\"-4,4 -4,-154 196,-154 196,4 -4,4\"/>\n",
              "<!-- 140555155879872 -->\n",
              "<g id=\"node1\" class=\"node\">\n",
              "<title>140555155879872</title>\n",
              "<polygon fill=\"none\" stroke=\"black\" points=\"73,-131 73,-150 106,-150 106,-131 73,-131\"/>\n",
              "<text text-anchor=\"start\" x=\"82\" y=\"-137.4\" font-family=\"Times,serif\" font-size=\"12.00\">val</text>\n",
              "<polygon fill=\"none\" stroke=\"black\" points=\"106,-131 106,-150 119,-150 119,-131 106,-131\"/>\n",
              "<text text-anchor=\"start\" x=\"109\" y=\"-137.4\" font-family=\"Times,serif\" font-size=\"12.00\">1</text>\n",
              "<polygon fill=\"none\" stroke=\"black\" points=\"73,-112 73,-131 106,-131 106,-112 73,-112\"/>\n",
              "<text text-anchor=\"start\" x=\"76\" y=\"-118.4\" font-family=\"Times,serif\" font-size=\"12.00\">depth</text>\n",
              "<polygon fill=\"none\" stroke=\"black\" points=\"106,-112 106,-131 119,-131 119,-112 106,-112\"/>\n",
              "<text text-anchor=\"start\" x=\"109\" y=\"-118.4\" font-family=\"Times,serif\" font-size=\"12.00\">1</text>\n",
              "</g>\n",
              "<!-- 140555155879440 -->\n",
              "<g id=\"node2\" class=\"node\">\n",
              "<title>140555155879440</title>\n",
              "<polygon fill=\"none\" stroke=\"black\" points=\"0,-75 0,-94 33,-94 33,-75 0,-75\"/>\n",
              "<text text-anchor=\"start\" x=\"9\" y=\"-81.4\" font-family=\"Times,serif\" font-size=\"12.00\">val</text>\n",
              "<polygon fill=\"none\" stroke=\"black\" points=\"33,-75 33,-94 52,-94 52,-75 33,-75\"/>\n",
              "<text text-anchor=\"start\" x=\"36\" y=\"-81.4\" font-family=\"Times,serif\" font-size=\"12.00\">11</text>\n",
              "<polygon fill=\"none\" stroke=\"black\" points=\"0,-56 0,-75 33,-75 33,-56 0,-56\"/>\n",
              "<text text-anchor=\"start\" x=\"3\" y=\"-62.4\" font-family=\"Times,serif\" font-size=\"12.00\">depth</text>\n",
              "<polygon fill=\"none\" stroke=\"black\" points=\"33,-56 33,-75 52,-75 52,-56 33,-56\"/>\n",
              "<text text-anchor=\"start\" x=\"39\" y=\"-62.4\" font-family=\"Times,serif\" font-size=\"12.00\">2</text>\n",
              "</g>\n",
              "<!-- 140555155879872&#45;&gt;140555155879440 -->\n",
              "<g id=\"edge1\" class=\"edge\">\n",
              "<title>140555155879872&#45;&gt;140555155879440</title>\n",
              "<path fill=\"none\" stroke=\"black\" d=\"M72.69,-112.02C65.21,-106.25 56.93,-99.86 49.45,-94.09\"/>\n",
              "</g>\n",
              "<!-- 140555155879056 -->\n",
              "<g id=\"node3\" class=\"node\">\n",
              "<title>140555155879056</title>\n",
              "<polygon fill=\"none\" stroke=\"black\" points=\"70,-75 70,-94 103,-94 103,-75 70,-75\"/>\n",
              "<text text-anchor=\"start\" x=\"79\" y=\"-81.4\" font-family=\"Times,serif\" font-size=\"12.00\">val</text>\n",
              "<polygon fill=\"none\" stroke=\"black\" points=\"103,-75 103,-94 122,-94 122,-75 103,-75\"/>\n",
              "<text text-anchor=\"start\" x=\"106\" y=\"-81.4\" font-family=\"Times,serif\" font-size=\"12.00\">12</text>\n",
              "<polygon fill=\"none\" stroke=\"black\" points=\"70,-56 70,-75 103,-75 103,-56 70,-56\"/>\n",
              "<text text-anchor=\"start\" x=\"73\" y=\"-62.4\" font-family=\"Times,serif\" font-size=\"12.00\">depth</text>\n",
              "<polygon fill=\"none\" stroke=\"black\" points=\"103,-56 103,-75 122,-75 122,-56 103,-56\"/>\n",
              "<text text-anchor=\"start\" x=\"109\" y=\"-62.4\" font-family=\"Times,serif\" font-size=\"12.00\">2</text>\n",
              "</g>\n",
              "<!-- 140555155879872&#45;&gt;140555155879056 -->\n",
              "<g id=\"edge2\" class=\"edge\">\n",
              "<title>140555155879872&#45;&gt;140555155879056</title>\n",
              "<path fill=\"none\" stroke=\"black\" d=\"M96,-111.72C96,-106.09 96,-99.89 96,-94.26\"/>\n",
              "</g>\n",
              "<!-- 140555155879008 -->\n",
              "<g id=\"node4\" class=\"node\">\n",
              "<title>140555155879008</title>\n",
              "<polygon fill=\"none\" stroke=\"black\" points=\"140,-75 140,-94 173,-94 173,-75 140,-75\"/>\n",
              "<text text-anchor=\"start\" x=\"149\" y=\"-81.4\" font-family=\"Times,serif\" font-size=\"12.00\">val</text>\n",
              "<polygon fill=\"none\" stroke=\"black\" points=\"173,-75 173,-94 192,-94 192,-75 173,-75\"/>\n",
              "<text text-anchor=\"start\" x=\"176\" y=\"-81.4\" font-family=\"Times,serif\" font-size=\"12.00\">13</text>\n",
              "<polygon fill=\"none\" stroke=\"black\" points=\"140,-56 140,-75 173,-75 173,-56 140,-56\"/>\n",
              "<text text-anchor=\"start\" x=\"143\" y=\"-62.4\" font-family=\"Times,serif\" font-size=\"12.00\">depth</text>\n",
              "<polygon fill=\"none\" stroke=\"black\" points=\"173,-56 173,-75 192,-75 192,-56 173,-56\"/>\n",
              "<text text-anchor=\"start\" x=\"179\" y=\"-62.4\" font-family=\"Times,serif\" font-size=\"12.00\">2</text>\n",
              "</g>\n",
              "<!-- 140555155879872&#45;&gt;140555155879008 -->\n",
              "<g id=\"edge3\" class=\"edge\">\n",
              "<title>140555155879872&#45;&gt;140555155879008</title>\n",
              "<path fill=\"none\" stroke=\"black\" d=\"M119.31,-112.02C126.79,-106.25 135.07,-99.86 142.55,-94.09\"/>\n",
              "</g>\n",
              "<!-- 140555155879440&#45;&gt;140555155879056 -->\n",
              "<!-- 140555155879056&#45;&gt;140555155879008 -->\n",
              "<!-- 140555155881888 -->\n",
              "<g id=\"node5\" class=\"node\">\n",
              "<title>140555155881888</title>\n",
              "<polygon fill=\"none\" stroke=\"black\" points=\"29,-19 29,-38 62,-38 62,-19 29,-19\"/>\n",
              "<text text-anchor=\"start\" x=\"38\" y=\"-25.4\" font-family=\"Times,serif\" font-size=\"12.00\">val</text>\n",
              "<polygon fill=\"none\" stroke=\"black\" points=\"62,-19 62,-38 87,-38 87,-19 62,-19\"/>\n",
              "<text text-anchor=\"start\" x=\"65\" y=\"-25.4\" font-family=\"Times,serif\" font-size=\"12.00\">121</text>\n",
              "<polygon fill=\"none\" stroke=\"black\" points=\"29,0 29,-19 62,-19 62,0 29,0\"/>\n",
              "<text text-anchor=\"start\" x=\"32\" y=\"-6.4\" font-family=\"Times,serif\" font-size=\"12.00\">depth</text>\n",
              "<polygon fill=\"none\" stroke=\"black\" points=\"62,0 62,-19 87,-19 87,0 62,0\"/>\n",
              "<text text-anchor=\"start\" x=\"71\" y=\"-6.4\" font-family=\"Times,serif\" font-size=\"12.00\">3</text>\n",
              "</g>\n",
              "<!-- 140555155879056&#45;&gt;140555155881888 -->\n",
              "<g id=\"edge6\" class=\"edge\">\n",
              "<title>140555155879056&#45;&gt;140555155881888</title>\n",
              "<path fill=\"none\" stroke=\"black\" d=\"M83.13,-55.72C79.17,-50.09 74.81,-43.89 70.85,-38.26\"/>\n",
              "</g>\n",
              "<!-- 140555155879200 -->\n",
              "<g id=\"node6\" class=\"node\">\n",
              "<title>140555155879200</title>\n",
              "<polygon fill=\"none\" stroke=\"black\" points=\"105,-19 105,-38 138,-38 138,-19 105,-19\"/>\n",
              "<text text-anchor=\"start\" x=\"114\" y=\"-25.4\" font-family=\"Times,serif\" font-size=\"12.00\">val</text>\n",
              "<polygon fill=\"none\" stroke=\"black\" points=\"138,-19 138,-38 163,-38 163,-19 138,-19\"/>\n",
              "<text text-anchor=\"start\" x=\"141\" y=\"-25.4\" font-family=\"Times,serif\" font-size=\"12.00\">122</text>\n",
              "<polygon fill=\"none\" stroke=\"black\" points=\"105,0 105,-19 138,-19 138,0 105,0\"/>\n",
              "<text text-anchor=\"start\" x=\"108\" y=\"-6.4\" font-family=\"Times,serif\" font-size=\"12.00\">depth</text>\n",
              "<polygon fill=\"none\" stroke=\"black\" points=\"138,0 138,-19 163,-19 163,0 138,0\"/>\n",
              "<text text-anchor=\"start\" x=\"147\" y=\"-6.4\" font-family=\"Times,serif\" font-size=\"12.00\">3</text>\n",
              "</g>\n",
              "<!-- 140555155879056&#45;&gt;140555155879200 -->\n",
              "<g id=\"edge7\" class=\"edge\">\n",
              "<title>140555155879056&#45;&gt;140555155879200</title>\n",
              "<path fill=\"none\" stroke=\"black\" d=\"M108.87,-55.72C112.83,-50.09 117.19,-43.89 121.15,-38.26\"/>\n",
              "</g>\n",
              "<!-- 140555155881888&#45;&gt;140555155879200 -->\n",
              "</g>\n",
              "</svg>\n"
            ],
            "text/plain": [
              "({'val': 1, 'depth': 1}: ({'val': 11, 'depth': 2}), ({'val': 12, 'depth': 2}: ({'val': 121, 'depth': 3}), ({'val': 122, 'depth': 3})), ({'val': 13, 'depth': 2}))"
            ]
          },
          "execution_count": 30,
          "metadata": {},
          "output_type": "execute_result"
        }
      ],
      "source": [
        "attr_tree = add_attr(tree)\n",
        "\n",
        "# uso il nodo fittizio {'depth': 0} come \"primo\" parent dell'albero\n",
        "\n",
        "add_depth(attr_tree, {'depth': 0}) \n",
        "\n",
        "Tree.from_lol(attr_tree)"
      ]
    },
    {
      "cell_type": "markdown",
      "metadata": {},
      "source": [
        "#### Attributi sintetizzati e postorder\n",
        "\n",
        "Gli attributi sintetizzati sono attributi che il nodo radice di un albero ricava dal valore degli attributi nei sottoalberi; ad esempio, il *massimo* valore."
      ]
    },
    {
      "cell_type": "code",
      "execution_count": null,
      "metadata": {},
      "outputs": [],
      "source": [
        "def add_max(tree):\n",
        "  root, *children = tree\n",
        "  if not children: # il massimo di una foglia è il suo valore\n",
        "    root['max'] = root['val']\n",
        "    return\n",
        "  values = []\n",
        "  for tree in children: \n",
        "    add_max(tree)\n",
        "    values.append(tree[0]['max']) # tree[0] è la root\n",
        "  root['max'] = max(values)"
      ]
    },
    {
      "cell_type": "code",
      "execution_count": null,
      "metadata": {},
      "outputs": [
        {
          "data": {
            "image/svg+xml": [
              "<?xml version=\"1.0\" encoding=\"UTF-8\" standalone=\"no\"?>\n",
              "<!DOCTYPE svg PUBLIC \"-//W3C//DTD SVG 1.1//EN\"\n",
              " \"http://www.w3.org/Graphics/SVG/1.1/DTD/svg11.dtd\">\n",
              "<!-- Generated by graphviz version 2.43.0 (0)\n",
              " -->\n",
              "<!-- Title: %3 Pages: 1 -->\n",
              "<svg width=\"188pt\" height=\"158pt\"\n",
              " viewBox=\"0.00 0.00 188.00 158.00\" xmlns=\"http://www.w3.org/2000/svg\" xmlns:xlink=\"http://www.w3.org/1999/xlink\">\n",
              "<g id=\"graph0\" class=\"graph\" transform=\"scale(1 1) rotate(0) translate(4 154)\">\n",
              "<title>%3</title>\n",
              "<polygon fill=\"white\" stroke=\"transparent\" points=\"-4,4 -4,-154 184,-154 184,4 -4,4\"/>\n",
              "<!-- 140555159420592 -->\n",
              "<g id=\"node1\" class=\"node\">\n",
              "<title>140555159420592</title>\n",
              "<polygon fill=\"none\" stroke=\"black\" points=\"64,-131 64,-150 91,-150 91,-131 64,-131\"/>\n",
              "<text text-anchor=\"start\" x=\"70\" y=\"-137.4\" font-family=\"Times,serif\" font-size=\"12.00\">val</text>\n",
              "<polygon fill=\"none\" stroke=\"black\" points=\"91,-131 91,-150 116,-150 116,-131 91,-131\"/>\n",
              "<text text-anchor=\"start\" x=\"100\" y=\"-137.4\" font-family=\"Times,serif\" font-size=\"12.00\">1</text>\n",
              "<polygon fill=\"none\" stroke=\"black\" points=\"64,-112 64,-131 91,-131 91,-112 64,-112\"/>\n",
              "<text text-anchor=\"start\" x=\"67\" y=\"-118.4\" font-family=\"Times,serif\" font-size=\"12.00\">max</text>\n",
              "<polygon fill=\"none\" stroke=\"black\" points=\"91,-112 91,-131 116,-131 116,-112 91,-112\"/>\n",
              "<text text-anchor=\"start\" x=\"94\" y=\"-118.4\" font-family=\"Times,serif\" font-size=\"12.00\">122</text>\n",
              "</g>\n",
              "<!-- 140555159420448 -->\n",
              "<g id=\"node2\" class=\"node\">\n",
              "<title>140555159420448</title>\n",
              "<polygon fill=\"none\" stroke=\"black\" points=\"0,-75 0,-94 27,-94 27,-75 0,-75\"/>\n",
              "<text text-anchor=\"start\" x=\"6\" y=\"-81.4\" font-family=\"Times,serif\" font-size=\"12.00\">val</text>\n",
              "<polygon fill=\"none\" stroke=\"black\" points=\"27,-75 27,-94 46,-94 46,-75 27,-75\"/>\n",
              "<text text-anchor=\"start\" x=\"30\" y=\"-81.4\" font-family=\"Times,serif\" font-size=\"12.00\">11</text>\n",
              "<polygon fill=\"none\" stroke=\"black\" points=\"0,-56 0,-75 27,-75 27,-56 0,-56\"/>\n",
              "<text text-anchor=\"start\" x=\"3\" y=\"-62.4\" font-family=\"Times,serif\" font-size=\"12.00\">max</text>\n",
              "<polygon fill=\"none\" stroke=\"black\" points=\"27,-56 27,-75 46,-75 46,-56 27,-56\"/>\n",
              "<text text-anchor=\"start\" x=\"30\" y=\"-62.4\" font-family=\"Times,serif\" font-size=\"12.00\">11</text>\n",
              "</g>\n",
              "<!-- 140555159420592&#45;&gt;140555159420448 -->\n",
              "<g id=\"edge1\" class=\"edge\">\n",
              "<title>140555159420592&#45;&gt;140555159420448</title>\n",
              "<path fill=\"none\" stroke=\"black\" d=\"M67.32,-111.72C60.33,-106.09 52.64,-99.89 45.66,-94.26\"/>\n",
              "</g>\n",
              "<!-- 140555155797184 -->\n",
              "<g id=\"node3\" class=\"node\">\n",
              "<title>140555155797184</title>\n",
              "<polygon fill=\"none\" stroke=\"black\" points=\"64,-75 64,-94 91,-94 91,-75 64,-75\"/>\n",
              "<text text-anchor=\"start\" x=\"70\" y=\"-81.4\" font-family=\"Times,serif\" font-size=\"12.00\">val</text>\n",
              "<polygon fill=\"none\" stroke=\"black\" points=\"91,-75 91,-94 116,-94 116,-75 91,-75\"/>\n",
              "<text text-anchor=\"start\" x=\"97\" y=\"-81.4\" font-family=\"Times,serif\" font-size=\"12.00\">12</text>\n",
              "<polygon fill=\"none\" stroke=\"black\" points=\"64,-56 64,-75 91,-75 91,-56 64,-56\"/>\n",
              "<text text-anchor=\"start\" x=\"67\" y=\"-62.4\" font-family=\"Times,serif\" font-size=\"12.00\">max</text>\n",
              "<polygon fill=\"none\" stroke=\"black\" points=\"91,-56 91,-75 116,-75 116,-56 91,-56\"/>\n",
              "<text text-anchor=\"start\" x=\"94\" y=\"-62.4\" font-family=\"Times,serif\" font-size=\"12.00\">122</text>\n",
              "</g>\n",
              "<!-- 140555159420592&#45;&gt;140555155797184 -->\n",
              "<g id=\"edge2\" class=\"edge\">\n",
              "<title>140555159420592&#45;&gt;140555155797184</title>\n",
              "<path fill=\"none\" stroke=\"black\" d=\"M90,-111.72C90,-106.09 90,-99.89 90,-94.26\"/>\n",
              "</g>\n",
              "<!-- 140555155799440 -->\n",
              "<g id=\"node4\" class=\"node\">\n",
              "<title>140555155799440</title>\n",
              "<polygon fill=\"none\" stroke=\"black\" points=\"134,-75 134,-94 161,-94 161,-75 134,-75\"/>\n",
              "<text text-anchor=\"start\" x=\"140\" y=\"-81.4\" font-family=\"Times,serif\" font-size=\"12.00\">val</text>\n",
              "<polygon fill=\"none\" stroke=\"black\" points=\"161,-75 161,-94 180,-94 180,-75 161,-75\"/>\n",
              "<text text-anchor=\"start\" x=\"164\" y=\"-81.4\" font-family=\"Times,serif\" font-size=\"12.00\">13</text>\n",
              "<polygon fill=\"none\" stroke=\"black\" points=\"134,-56 134,-75 161,-75 161,-56 134,-56\"/>\n",
              "<text text-anchor=\"start\" x=\"137\" y=\"-62.4\" font-family=\"Times,serif\" font-size=\"12.00\">max</text>\n",
              "<polygon fill=\"none\" stroke=\"black\" points=\"161,-56 161,-75 180,-75 180,-56 161,-56\"/>\n",
              "<text text-anchor=\"start\" x=\"164\" y=\"-62.4\" font-family=\"Times,serif\" font-size=\"12.00\">13</text>\n",
              "</g>\n",
              "<!-- 140555159420592&#45;&gt;140555155799440 -->\n",
              "<g id=\"edge3\" class=\"edge\">\n",
              "<title>140555159420592&#45;&gt;140555155799440</title>\n",
              "<path fill=\"none\" stroke=\"black\" d=\"M112.68,-111.72C119.67,-106.09 127.36,-99.89 134.34,-94.26\"/>\n",
              "</g>\n",
              "<!-- 140555159420448&#45;&gt;140555155797184 -->\n",
              "<!-- 140555155797184&#45;&gt;140555155799440 -->\n",
              "<!-- 140555155798864 -->\n",
              "<g id=\"node5\" class=\"node\">\n",
              "<title>140555155798864</title>\n",
              "<polygon fill=\"none\" stroke=\"black\" points=\"29,-19 29,-38 56,-38 56,-19 29,-19\"/>\n",
              "<text text-anchor=\"start\" x=\"35\" y=\"-25.4\" font-family=\"Times,serif\" font-size=\"12.00\">val</text>\n",
              "<polygon fill=\"none\" stroke=\"black\" points=\"56,-19 56,-38 81,-38 81,-19 56,-19\"/>\n",
              "<text text-anchor=\"start\" x=\"59\" y=\"-25.4\" font-family=\"Times,serif\" font-size=\"12.00\">121</text>\n",
              "<polygon fill=\"none\" stroke=\"black\" points=\"29,0 29,-19 56,-19 56,0 29,0\"/>\n",
              "<text text-anchor=\"start\" x=\"32\" y=\"-6.4\" font-family=\"Times,serif\" font-size=\"12.00\">max</text>\n",
              "<polygon fill=\"none\" stroke=\"black\" points=\"56,0 56,-19 81,-19 81,0 56,0\"/>\n",
              "<text text-anchor=\"start\" x=\"59\" y=\"-6.4\" font-family=\"Times,serif\" font-size=\"12.00\">121</text>\n",
              "</g>\n",
              "<!-- 140555155797184&#45;&gt;140555155798864 -->\n",
              "<g id=\"edge6\" class=\"edge\">\n",
              "<title>140555155797184&#45;&gt;140555155798864</title>\n",
              "<path fill=\"none\" stroke=\"black\" d=\"M78.15,-55.72C74.5,-50.09 70.49,-43.89 66.84,-38.26\"/>\n",
              "</g>\n",
              "<!-- 140555155799152 -->\n",
              "<g id=\"node6\" class=\"node\">\n",
              "<title>140555155799152</title>\n",
              "<polygon fill=\"none\" stroke=\"black\" points=\"99,-19 99,-38 126,-38 126,-19 99,-19\"/>\n",
              "<text text-anchor=\"start\" x=\"105\" y=\"-25.4\" font-family=\"Times,serif\" font-size=\"12.00\">val</text>\n",
              "<polygon fill=\"none\" stroke=\"black\" points=\"126,-19 126,-38 151,-38 151,-19 126,-19\"/>\n",
              "<text text-anchor=\"start\" x=\"129\" y=\"-25.4\" font-family=\"Times,serif\" font-size=\"12.00\">122</text>\n",
              "<polygon fill=\"none\" stroke=\"black\" points=\"99,0 99,-19 126,-19 126,0 99,0\"/>\n",
              "<text text-anchor=\"start\" x=\"102\" y=\"-6.4\" font-family=\"Times,serif\" font-size=\"12.00\">max</text>\n",
              "<polygon fill=\"none\" stroke=\"black\" points=\"126,0 126,-19 151,-19 151,0 126,0\"/>\n",
              "<text text-anchor=\"start\" x=\"129\" y=\"-6.4\" font-family=\"Times,serif\" font-size=\"12.00\">122</text>\n",
              "</g>\n",
              "<!-- 140555155797184&#45;&gt;140555155799152 -->\n",
              "<g id=\"edge7\" class=\"edge\">\n",
              "<title>140555155797184&#45;&gt;140555155799152</title>\n",
              "<path fill=\"none\" stroke=\"black\" d=\"M101.85,-55.72C105.5,-50.09 109.51,-43.89 113.16,-38.26\"/>\n",
              "</g>\n",
              "<!-- 140555155798864&#45;&gt;140555155799152 -->\n",
              "</g>\n",
              "</svg>\n"
            ],
            "text/plain": [
              "({'val': 1, 'max': 122}: ({'val': 11, 'max': 11}), ({'val': 12, 'max': 122}: ({'val': 121, 'max': 121}), ({'val': 122, 'max': 122})), ({'val': 13, 'max': 13}))"
            ]
          },
          "execution_count": 32,
          "metadata": {},
          "output_type": "execute_result"
        }
      ],
      "source": [
        "attr_tree = add_attr(tree)\n",
        "\n",
        "add_max(attr_tree) \n",
        "\n",
        "Tree.from_lol(attr_tree)"
      ]
    },
    {
      "cell_type": "markdown",
      "metadata": {},
      "source": [
        "## Grafi\n",
        "\n",
        "Per i grafi sono usuali due rappresentazioni: per *archi* (dappresentati da `tuple` di `tuple`) e tramite la relazione di *adiacenza* (rappresentata da un `dict` di `set`)."
      ]
    },
    {
      "cell_type": "code",
      "execution_count": null,
      "metadata": {},
      "outputs": [],
      "source": [
        "arcs = (\n",
        "  (1, 2), \n",
        "  (1, 4),\n",
        "  (2, 3), \n",
        "  (3, 2), \n",
        "  (3, 4), \n",
        "  (3, 5)\n",
        ")"
      ]
    },
    {
      "cell_type": "code",
      "execution_count": null,
      "metadata": {},
      "outputs": [
        {
          "data": {
            "image/svg+xml": [
              "<?xml version=\"1.0\" encoding=\"UTF-8\" standalone=\"no\"?>\n",
              "<!DOCTYPE svg PUBLIC \"-//W3C//DTD SVG 1.1//EN\"\n",
              " \"http://www.w3.org/Graphics/SVG/1.1/DTD/svg11.dtd\">\n",
              "<!-- Generated by graphviz version 2.43.0 (0)\n",
              " -->\n",
              "<!-- Title: %3 Pages: 1 -->\n",
              "<svg width=\"332pt\" height=\"98pt\"\n",
              " viewBox=\"0.00 0.00 332.00 98.00\" xmlns=\"http://www.w3.org/2000/svg\" xmlns:xlink=\"http://www.w3.org/1999/xlink\">\n",
              "<g id=\"graph0\" class=\"graph\" transform=\"scale(1 1) rotate(0) translate(4 94)\">\n",
              "<title>%3</title>\n",
              "<polygon fill=\"white\" stroke=\"transparent\" points=\"-4,4 -4,-94 328,-94 328,4 -4,4\"/>\n",
              "<!-- 1 -->\n",
              "<g id=\"node1\" class=\"node\">\n",
              "<title>1</title>\n",
              "<ellipse fill=\"none\" stroke=\"black\" cx=\"27\" cy=\"-41\" rx=\"27\" ry=\"18\"/>\n",
              "<text text-anchor=\"middle\" x=\"27\" y=\"-37.3\" font-family=\"Times,serif\" font-size=\"14.00\">1</text>\n",
              "</g>\n",
              "<!-- 2 -->\n",
              "<g id=\"node2\" class=\"node\">\n",
              "<title>2</title>\n",
              "<ellipse fill=\"none\" stroke=\"black\" cx=\"117\" cy=\"-64\" rx=\"27\" ry=\"18\"/>\n",
              "<text text-anchor=\"middle\" x=\"117\" y=\"-60.3\" font-family=\"Times,serif\" font-size=\"14.00\">2</text>\n",
              "</g>\n",
              "<!-- 1&#45;&gt;2 -->\n",
              "<g id=\"edge1\" class=\"edge\">\n",
              "<title>1&#45;&gt;2</title>\n",
              "<path fill=\"none\" stroke=\"black\" d=\"M52.51,-47.41C61.57,-49.77 72.01,-52.5 81.78,-55.05\"/>\n",
              "<polygon fill=\"black\" stroke=\"black\" points=\"81.06,-58.49 91.62,-57.63 82.83,-51.71 81.06,-58.49\"/>\n",
              "</g>\n",
              "<!-- 4 -->\n",
              "<g id=\"node3\" class=\"node\">\n",
              "<title>4</title>\n",
              "<ellipse fill=\"none\" stroke=\"black\" cx=\"297\" cy=\"-18\" rx=\"27\" ry=\"18\"/>\n",
              "<text text-anchor=\"middle\" x=\"297\" y=\"-14.3\" font-family=\"Times,serif\" font-size=\"14.00\">4</text>\n",
              "</g>\n",
              "<!-- 1&#45;&gt;4 -->\n",
              "<g id=\"edge2\" class=\"edge\">\n",
              "<title>1&#45;&gt;4</title>\n",
              "<path fill=\"none\" stroke=\"black\" d=\"M54.18,-38.75C102.34,-34.62 205.03,-25.81 259.82,-21.11\"/>\n",
              "<polygon fill=\"black\" stroke=\"black\" points=\"260.44,-24.56 270.1,-20.22 259.84,-17.59 260.44,-24.56\"/>\n",
              "</g>\n",
              "<!-- 3 -->\n",
              "<g id=\"node4\" class=\"node\">\n",
              "<title>3</title>\n",
              "<ellipse fill=\"none\" stroke=\"black\" cx=\"207\" cy=\"-64\" rx=\"27\" ry=\"18\"/>\n",
              "<text text-anchor=\"middle\" x=\"207\" y=\"-60.3\" font-family=\"Times,serif\" font-size=\"14.00\">3</text>\n",
              "</g>\n",
              "<!-- 2&#45;&gt;3 -->\n",
              "<g id=\"edge3\" class=\"edge\">\n",
              "<title>2&#45;&gt;3</title>\n",
              "<path fill=\"none\" stroke=\"black\" d=\"M142.51,-57.88C151.4,-57.27 161.62,-57.1 171.22,-57.38\"/>\n",
              "<polygon fill=\"black\" stroke=\"black\" points=\"171.16,-60.88 181.31,-57.86 171.49,-53.89 171.16,-60.88\"/>\n",
              "</g>\n",
              "<!-- 3&#45;&gt;2 -->\n",
              "<g id=\"edge4\" class=\"edge\">\n",
              "<title>3&#45;&gt;2</title>\n",
              "<path fill=\"none\" stroke=\"black\" d=\"M181.31,-70.14C172.41,-70.74 162.18,-70.9 152.59,-70.61\"/>\n",
              "<polygon fill=\"black\" stroke=\"black\" points=\"152.67,-67.11 142.51,-70.12 152.33,-74.1 152.67,-67.11\"/>\n",
              "</g>\n",
              "<!-- 3&#45;&gt;4 -->\n",
              "<g id=\"edge5\" class=\"edge\">\n",
              "<title>3&#45;&gt;4</title>\n",
              "<path fill=\"none\" stroke=\"black\" d=\"M228.85,-53.1C240.03,-47.26 254,-39.96 266.29,-33.53\"/>\n",
              "<polygon fill=\"black\" stroke=\"black\" points=\"268.05,-36.56 275.29,-28.82 264.81,-30.35 268.05,-36.56\"/>\n",
              "</g>\n",
              "<!-- 5 -->\n",
              "<g id=\"node5\" class=\"node\">\n",
              "<title>5</title>\n",
              "<ellipse fill=\"none\" stroke=\"black\" cx=\"297\" cy=\"-72\" rx=\"27\" ry=\"18\"/>\n",
              "<text text-anchor=\"middle\" x=\"297\" y=\"-68.3\" font-family=\"Times,serif\" font-size=\"14.00\">5</text>\n",
              "</g>\n",
              "<!-- 3&#45;&gt;5 -->\n",
              "<g id=\"edge6\" class=\"edge\">\n",
              "<title>3&#45;&gt;5</title>\n",
              "<path fill=\"none\" stroke=\"black\" d=\"M233.93,-66.36C242.09,-67.1 251.26,-67.93 259.99,-68.73\"/>\n",
              "<polygon fill=\"black\" stroke=\"black\" points=\"259.68,-72.21 269.95,-69.63 260.31,-65.24 259.68,-72.21\"/>\n",
              "</g>\n",
              "</g>\n",
              "</svg>\n"
            ],
            "text/plain": [
              "<liblet.display.Graph at 0x7fd58c246340>"
            ]
          },
          "execution_count": 34,
          "metadata": {},
          "output_type": "execute_result"
        }
      ],
      "source": [
        "from liblet import Graph\n",
        "\n",
        "g = Graph(arcs)\n",
        "g"
      ]
    },
    {
      "cell_type": "code",
      "execution_count": null,
      "metadata": {},
      "outputs": [
        {
          "data": {
            "text/plain": [
              "{1: {2, 4}, 2: {3}, 4: set(), 3: {2, 4, 5}, 5: set()}"
            ]
          },
          "execution_count": 35,
          "metadata": {},
          "output_type": "execute_result"
        }
      ],
      "source": [
        "# dagli archi alla mappa delle adiacenze\n",
        "\n",
        "adjacency = dict()\n",
        "\n",
        "for s, t in arcs:\n",
        "  adjacency[s] = adjacency.get(s, set()) | {t}\n",
        "  adjacency[t] = adjacency.get(t, set())\n",
        "\n",
        "adjacency"
      ]
    },
    {
      "cell_type": "code",
      "execution_count": null,
      "metadata": {},
      "outputs": [
        {
          "name": "stdout",
          "output_type": "stream",
          "text": [
            "1 2\n",
            "1 4\n",
            "2 3\n",
            "3 2\n",
            "3 4\n",
            "3 5\n"
          ]
        }
      ],
      "source": [
        "# e viceversa \n",
        "\n",
        "for s, ts in adjacency.items():\n",
        "  for t in ts:\n",
        "    print(s, t)"
      ]
    },
    {
      "cell_type": "markdown",
      "metadata": {},
      "source": [
        "### Visite\n",
        "\n",
        "* ampiezza,\n",
        "* profondità."
      ]
    },
    {
      "cell_type": "code",
      "execution_count": null,
      "metadata": {},
      "outputs": [
        {
          "data": {
            "image/svg+xml": [
              "<?xml version=\"1.0\" encoding=\"UTF-8\" standalone=\"no\"?>\n",
              "<!DOCTYPE svg PUBLIC \"-//W3C//DTD SVG 1.1//EN\"\n",
              " \"http://www.w3.org/Graphics/SVG/1.1/DTD/svg11.dtd\">\n",
              "<!-- Generated by graphviz version 2.43.0 (0)\n",
              " -->\n",
              "<!-- Title: %3 Pages: 1 -->\n",
              "<svg width=\"332pt\" height=\"98pt\"\n",
              " viewBox=\"0.00 0.00 332.00 98.00\" xmlns=\"http://www.w3.org/2000/svg\" xmlns:xlink=\"http://www.w3.org/1999/xlink\">\n",
              "<g id=\"graph0\" class=\"graph\" transform=\"scale(1 1) rotate(0) translate(4 94)\">\n",
              "<title>%3</title>\n",
              "<polygon fill=\"white\" stroke=\"transparent\" points=\"-4,4 -4,-94 328,-94 328,4 -4,4\"/>\n",
              "<!-- 1 -->\n",
              "<g id=\"node1\" class=\"node\">\n",
              "<title>1</title>\n",
              "<ellipse fill=\"none\" stroke=\"black\" cx=\"27\" cy=\"-41\" rx=\"27\" ry=\"18\"/>\n",
              "<text text-anchor=\"middle\" x=\"27\" y=\"-37.3\" font-family=\"Times,serif\" font-size=\"14.00\">1</text>\n",
              "</g>\n",
              "<!-- 2 -->\n",
              "<g id=\"node2\" class=\"node\">\n",
              "<title>2</title>\n",
              "<ellipse fill=\"none\" stroke=\"black\" cx=\"117\" cy=\"-64\" rx=\"27\" ry=\"18\"/>\n",
              "<text text-anchor=\"middle\" x=\"117\" y=\"-60.3\" font-family=\"Times,serif\" font-size=\"14.00\">2</text>\n",
              "</g>\n",
              "<!-- 1&#45;&gt;2 -->\n",
              "<g id=\"edge1\" class=\"edge\">\n",
              "<title>1&#45;&gt;2</title>\n",
              "<path fill=\"none\" stroke=\"black\" d=\"M52.51,-47.41C61.57,-49.77 72.01,-52.5 81.78,-55.05\"/>\n",
              "<polygon fill=\"black\" stroke=\"black\" points=\"81.06,-58.49 91.62,-57.63 82.83,-51.71 81.06,-58.49\"/>\n",
              "</g>\n",
              "<!-- 4 -->\n",
              "<g id=\"node3\" class=\"node\">\n",
              "<title>4</title>\n",
              "<ellipse fill=\"none\" stroke=\"black\" cx=\"297\" cy=\"-18\" rx=\"27\" ry=\"18\"/>\n",
              "<text text-anchor=\"middle\" x=\"297\" y=\"-14.3\" font-family=\"Times,serif\" font-size=\"14.00\">4</text>\n",
              "</g>\n",
              "<!-- 1&#45;&gt;4 -->\n",
              "<g id=\"edge2\" class=\"edge\">\n",
              "<title>1&#45;&gt;4</title>\n",
              "<path fill=\"none\" stroke=\"black\" d=\"M54.18,-38.75C102.34,-34.62 205.03,-25.81 259.82,-21.11\"/>\n",
              "<polygon fill=\"black\" stroke=\"black\" points=\"260.44,-24.56 270.1,-20.22 259.84,-17.59 260.44,-24.56\"/>\n",
              "</g>\n",
              "<!-- 3 -->\n",
              "<g id=\"node4\" class=\"node\">\n",
              "<title>3</title>\n",
              "<ellipse fill=\"none\" stroke=\"black\" cx=\"207\" cy=\"-64\" rx=\"27\" ry=\"18\"/>\n",
              "<text text-anchor=\"middle\" x=\"207\" y=\"-60.3\" font-family=\"Times,serif\" font-size=\"14.00\">3</text>\n",
              "</g>\n",
              "<!-- 2&#45;&gt;3 -->\n",
              "<g id=\"edge3\" class=\"edge\">\n",
              "<title>2&#45;&gt;3</title>\n",
              "<path fill=\"none\" stroke=\"black\" d=\"M142.51,-57.88C151.4,-57.27 161.62,-57.1 171.22,-57.38\"/>\n",
              "<polygon fill=\"black\" stroke=\"black\" points=\"171.16,-60.88 181.31,-57.86 171.49,-53.89 171.16,-60.88\"/>\n",
              "</g>\n",
              "<!-- 3&#45;&gt;2 -->\n",
              "<g id=\"edge4\" class=\"edge\">\n",
              "<title>3&#45;&gt;2</title>\n",
              "<path fill=\"none\" stroke=\"black\" d=\"M181.31,-70.14C172.41,-70.74 162.18,-70.9 152.59,-70.61\"/>\n",
              "<polygon fill=\"black\" stroke=\"black\" points=\"152.67,-67.11 142.51,-70.12 152.33,-74.1 152.67,-67.11\"/>\n",
              "</g>\n",
              "<!-- 3&#45;&gt;4 -->\n",
              "<g id=\"edge5\" class=\"edge\">\n",
              "<title>3&#45;&gt;4</title>\n",
              "<path fill=\"none\" stroke=\"black\" d=\"M228.85,-53.1C240.03,-47.26 254,-39.96 266.29,-33.53\"/>\n",
              "<polygon fill=\"black\" stroke=\"black\" points=\"268.05,-36.56 275.29,-28.82 264.81,-30.35 268.05,-36.56\"/>\n",
              "</g>\n",
              "<!-- 5 -->\n",
              "<g id=\"node5\" class=\"node\">\n",
              "<title>5</title>\n",
              "<ellipse fill=\"none\" stroke=\"black\" cx=\"297\" cy=\"-72\" rx=\"27\" ry=\"18\"/>\n",
              "<text text-anchor=\"middle\" x=\"297\" y=\"-68.3\" font-family=\"Times,serif\" font-size=\"14.00\">5</text>\n",
              "</g>\n",
              "<!-- 3&#45;&gt;5 -->\n",
              "<g id=\"edge6\" class=\"edge\">\n",
              "<title>3&#45;&gt;5</title>\n",
              "<path fill=\"none\" stroke=\"black\" d=\"M233.93,-66.36C242.09,-67.1 251.26,-67.93 259.99,-68.73\"/>\n",
              "<polygon fill=\"black\" stroke=\"black\" points=\"259.68,-72.21 269.95,-69.63 260.31,-65.24 259.68,-72.21\"/>\n",
              "</g>\n",
              "</g>\n",
              "</svg>\n"
            ],
            "text/plain": [
              "<liblet.display.Graph at 0x7fd58c246340>"
            ]
          },
          "execution_count": 37,
          "metadata": {},
          "output_type": "execute_result"
        }
      ],
      "source": [
        "def depthfirst(adjacency, start, visit):\n",
        "  def walk(src):\n",
        "    visit(src)\n",
        "    seen.add(src)\n",
        "    for dst in adjacency[src]:\n",
        "      if dst not in seen: \n",
        "        walk(dst)\n",
        "  seen = set()\n",
        "  walk(start)\n",
        "\n",
        "g    "
      ]
    },
    {
      "cell_type": "code",
      "execution_count": null,
      "metadata": {},
      "outputs": [
        {
          "name": "stdout",
          "output_type": "stream",
          "text": [
            "1\n",
            "2\n",
            "3\n",
            "4\n",
            "5\n"
          ]
        }
      ],
      "source": [
        "depthfirst(adjacency, 1, print)"
      ]
    },
    {
      "cell_type": "code",
      "execution_count": null,
      "metadata": {},
      "outputs": [],
      "source": [
        "def breadthfirst(adjacency, start, visit):\n",
        "  \n",
        "  Q = Queue()\n",
        "  \n",
        "  seen = set()\n",
        "  Q.enqueue(start)\n",
        "  while Q:\n",
        "    src = Q.dequeue()\n",
        "    visit(src)\n",
        "    seen.add(src)\n",
        "    for dst in adjacency[src]:\n",
        "      if dst not in seen:\n",
        "        Q.enqueue(dst)"
      ]
    },
    {
      "cell_type": "code",
      "execution_count": null,
      "metadata": {},
      "outputs": [
        {
          "name": "stdout",
          "output_type": "stream",
          "text": [
            "1\n",
            "2\n",
            "4\n",
            "3\n",
            "5\n"
          ]
        }
      ],
      "source": [
        "breadthfirst(adjacency, 1, print)"
      ]
    },
    {
      "cell_type": "markdown",
      "metadata": {},
      "source": [
        "## Backtracking\n",
        "\n",
        "Il [backtracking](https://en.wikipedia.org/wiki/Backtracking) è uno schema di algoritmi ricorsivi per problemi la cui soluzione possa essere costruita incrementalmente a partire da una soluzione \"candidata\". Lo schema generale è\n",
        "\n",
        "```python\n",
        "def backtrack(candidate):\n",
        "    if reject(candidate): return\n",
        "    if accept(candidate): output(candidate)\n",
        "    s = first(candidate)\n",
        "    while s:\n",
        "        backtrack(s)\n",
        "        s = next(candidate)\n",
        "```\n",
        "\n",
        "Le funzioni `reject` e `accept` hanno l'ovvio significato di indicare, rispettivamente, se una soluzione candidata è non corretta (e non ulteriormente emendabile), oppure se costituisce una soluzione (completa). Le funzioni `first` e `next` costruiscono rispettivamente il primo e i successivi candidati a partire dal candidato corrente."
      ]
    },
    {
      "cell_type": "markdown",
      "metadata": {},
      "source": [
        "### Segmentazione di una parola"
      ]
    },
    {
      "cell_type": "code",
      "execution_count": null,
      "metadata": {},
      "outputs": [
        {
          "name": "stdout",
          "output_type": "stream",
          "text": [
            "60418\n"
          ]
        }
      ],
      "source": [
        "from urllib.request import urlopen\n",
        "\n",
        "with urlopen('https://raw.githubusercontent.com/napolux/paroleitaliane/master/paroleitaliane/60000_parole_italiane.txt') as url: \n",
        "  WORDS = {word.decode().strip().upper() for word in url if len(word) >= 3}\n",
        "\n",
        "print(len(WORDS))"
      ]
    },
    {
      "cell_type": "code",
      "execution_count": null,
      "metadata": {},
      "outputs": [],
      "source": [
        "def segmenta(segmenti, resto):\n",
        "  if segmenti and not segmenti[-1] in WORDS: return\n",
        "  if not resto: \n",
        "    print(segmenti)\n",
        "    return\n",
        "  for i in range(1, 1 + len(resto)):\n",
        "    segmenta(segmenti + [resto[:i]], resto[i:])"
      ]
    },
    {
      "cell_type": "code",
      "execution_count": null,
      "metadata": {},
      "outputs": [
        {
          "name": "stdout",
          "output_type": "stream",
          "text": [
            "['PAR', 'TI', 'TAVOLA', 'MI', 'GLI', 'ORE']\n",
            "['PAR', 'TI', 'TAVOLA', 'MIGLIO', 'RE']\n",
            "['PAR', 'TI', 'TAVOLA', 'MIGLIORE']\n",
            "['PARTI', 'TAVOLA', 'MI', 'GLI', 'ORE']\n",
            "['PARTI', 'TAVOLA', 'MIGLIO', 'RE']\n",
            "['PARTI', 'TAVOLA', 'MIGLIORE']\n",
            "['PARTITA', 'VOL', 'AMI', 'GLI', 'ORE']\n",
            "['PARTITA', 'VOLA', 'MI', 'GLI', 'ORE']\n",
            "['PARTITA', 'VOLA', 'MIGLIO', 'RE']\n",
            "['PARTITA', 'VOLA', 'MIGLIORE']\n"
          ]
        }
      ],
      "source": [
        "segmenta([], 'PARTITAVOLAMIGLIORE')"
      ]
    },
    {
      "cell_type": "markdown",
      "metadata": {},
      "source": [
        "#### Esempi supplementari\n",
        "\n",
        "* calcolare la [densità delle soluzioni](https://gist.github.com/mapio/2c8b171110dc6a09dfd6) del [problema delle otto regine](https://en.wikipedia.org/wiki/Eight_queens_puzzle),\n",
        "\n",
        "* enumerare le [soluzioni](https://gist.github.com/mapio/967f3d8793fcab80941dc0b4f370dbeb) del gioco [Find a way](https://play.google.com/store/apps/details?id=com.zerologicgames.findaway),\n",
        "\n",
        "* trovare le [soluzioni](https://gist.github.com/mapio/33f1c381870333fe502e) del [Sudoku](https://en.wikipedia.org/wiki/Sudoku)."
      ]
    }
  ],
  "metadata": {
    "interpreter": {
      "hash": "e1004562009730290f42c30a7c24060925c35420ba84516473ad07a3f1950c5d"
    },
    "kernelspec": {
      "display_name": "Python 3.8.10 ('named-let-liblet')",
      "language": "python",
      "name": "python3"
    },
    "language_info": {
      "codemirror_mode": {
        "name": "ipython",
        "version": 3
      },
      "file_extension": ".py",
      "mimetype": "text/x-python",
      "name": "python",
      "nbconvert_exporter": "python",
      "pygments_lexer": "ipython3"
    }
  },
  "nbformat": 4,
  "nbformat_minor": 2
}
