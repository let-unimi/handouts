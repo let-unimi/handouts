{
  "cells": [
    {
      "cell_type": "code",
      "execution_count": null,
      "metadata": {},
      "outputs": [],
      "source": [
        "from liblet import Tree, Grammar, Derivation, ProductionGraph, side_by_side, closure"
      ]
    },
    {
      "cell_type": "markdown",
      "metadata": {},
      "source": [
        "# Fare pulizia nelle CF\n",
        "\n",
        "## Una nozione di chiusura"
      ]
    },
    {
      "cell_type": "markdown",
      "metadata": {},
      "source": [
        "Applicare il decoratore [@closure](https://liblet.readthedocs.io/en/latest/api.html#liblet.decorators.closure) ad una funzione `f`  produce una funzione `F` che corrisponde all'applicazione di `f` iterata sino a quando l'argomento ed il valore restituito da quest'ultima coincidono."
      ]
    },
    {
      "cell_type": "code",
      "execution_count": null,
      "metadata": {},
      "outputs": [],
      "source": [
        "@closure\n",
        "def add_smaller(S):\n",
        "    return S | {x - 1 for x in S if x > 0}"
      ]
    },
    {
      "cell_type": "code",
      "execution_count": null,
      "metadata": {},
      "outputs": [
        {
          "data": {
            "text/plain": [
              "{0, 1, 2, 3, 4, 5}"
            ]
          },
          "execution_count": 1,
          "metadata": {},
          "output_type": "execute_result"
        }
      ],
      "source": [
        "add_smaller({3, 5})"
      ]
    },
    {
      "cell_type": "markdown",
      "metadata": {},
      "source": [
        "## Eliminare simboli non produttivi e/o irraggiungibili"
      ]
    },
    {
      "cell_type": "code",
      "execution_count": null,
      "metadata": {},
      "outputs": [
        {
          "data": {
            "text/plain": [
              "Grammar(N={A, B, C, D, E, F, S}, T={a, b, c, d, e, f}, P=(S -> A B, S -> D E, A -> a, B -> b C, C -> c, D -> d F, E -> e, F -> f D), S=S)"
            ]
          },
          "execution_count": 1,
          "metadata": {},
          "output_type": "execute_result"
        }
      ],
      "source": [
        "# fig 2.27, pag. 49\n",
        "\n",
        "G = Grammar.from_string(\"\"\"\n",
        "S -> A B | D E\n",
        "A -> a\n",
        "B -> b C\n",
        "C -> c\n",
        "D -> d F \n",
        "E -> e \n",
        "F -> f D\n",
        "\"\"\")\n",
        "G"
      ]
    },
    {
      "cell_type": "code",
      "execution_count": null,
      "metadata": {},
      "outputs": [
        {
          "data": {
            "text/plain": [
              "frozenset({'A', 'B', 'C', 'E', 'S', 'a', 'b', 'c', 'd', 'e', 'f'})"
            ]
          },
          "execution_count": 1,
          "metadata": {},
          "output_type": "execute_result"
        }
      ],
      "source": [
        "@closure\n",
        "def productive(prod, G):\n",
        "    for P in G.P:\n",
        "        if set(P.rhs) <= prod: prod |= {P.lhs}\n",
        "    return prod\n",
        "\n",
        "productive(G.T, G)"
      ]
    },
    {
      "cell_type": "code",
      "execution_count": null,
      "metadata": {},
      "outputs": [
        {
          "data": {
            "text/plain": [
              "{'A', 'B', 'C', 'D', 'E', 'F', 'S', 'a', 'b', 'c', 'd', 'e', 'f'}"
            ]
          },
          "execution_count": 1,
          "metadata": {},
          "output_type": "execute_result"
        }
      ],
      "source": [
        "@closure\n",
        "def reachable(reach, G):\n",
        "    for P in G.P:\n",
        "        if P.lhs in reach: reach |= set(P.rhs)\n",
        "    return reach\n",
        "    \n",
        "reachable({G.S}, G)   "
      ]
    },
    {
      "cell_type": "markdown",
      "metadata": {},
      "source": [
        "### <span style=\"color: red;\">Per casa</span>: l'ordine conta!\n",
        "\n",
        "* Implementare una versione del *decoratore* `closure`.\n",
        "\n",
        "* Implementare una funzione `clean(G, good)` che data una grammatica `G` e un \n",
        "  insieme di   simboli `good` restituisca una nuova grammatica ottenuta cancellando \n",
        "  da `G` i simboli non in `good` e le produzioni in cui figurano."
      ]
    },
    {
      "cell_type": "code",
      "execution_count": null,
      "metadata": {},
      "outputs": [],
      "source": [
        "G_small = Grammar.from_string(\"\"\"\n",
        "S -> A | a\n",
        "A -> A B\n",
        "B -> a\n",
        "C -> a\n",
        "B -> x\n",
        "\"\"\")"
      ]
    },
    {
      "cell_type": "markdown",
      "metadata": {},
      "source": [
        "Ad esempio, se invocata su `G_small` e avendo `{'A', 'B', 'S', 'a'}` come insieme di simboli da preservare, la funzione restituisce la grammatica `Grammar(N={A, B, S}, T={a}, P=(S -> A, S -> a, A -> A B, B -> a), S=S)`\n",
        "  \n",
        "* Usando tale funzione, mostrare che, dati \n",
        "  \n",
        "        G0 = clean(G, productive(G.T, G))\n",
        "        G1 = clean(G0, reachable({G0.S}, G0))\n",
        "      \n",
        "        G2 = clean(G, reachable({G.S}, G))\n",
        "        G3 = clean(G2, productive(G2.T, G2))\n",
        "        \n",
        "  si ha che `G1` e`G3` sono diverse, ossia che rimuovere prima gli improduttivi e poi \n",
        "  gli irraggiungibili, o viceversa, non porta alla stessa grammatica (e solo `G1` è\n",
        "  una grammatica *propria*)."
      ]
    },
    {
      "cell_type": "markdown",
      "metadata": {},
      "source": [
        "# Derivazioni e alberi di parsing"
      ]
    },
    {
      "cell_type": "code",
      "execution_count": null,
      "metadata": {},
      "outputs": [
        {
          "data": {
            "text/plain": [
              "Grammar(N={A, B, S}, T={a, b}, P=(S -> A B, A -> a, B -> b), S=S)"
            ]
          },
          "execution_count": 1,
          "metadata": {},
          "output_type": "execute_result"
        }
      ],
      "source": [
        "# una grammatica banale per il linguaggio {'ab'}\n",
        "\n",
        "G_ab = Grammar.from_string(\"\"\"\n",
        "S -> A B\n",
        "A -> a\n",
        "B -> b\n",
        "\"\"\")\n",
        "G_ab"
      ]
    },
    {
      "cell_type": "code",
      "execution_count": null,
      "metadata": {},
      "outputs": [
        {
          "data": {
            "text/plain": [
              "(S -> A B -> A b -> a b, S -> A B -> a B -> a b)"
            ]
          },
          "execution_count": 1,
          "metadata": {},
          "output_type": "execute_result"
        }
      ],
      "source": [
        "# due possibili derivazioni\n",
        "\n",
        "ab_0 = Derivation(G_ab).step([\n",
        "    (0, 0), (2, 1), (1, 0)\n",
        "])\n",
        "ab_1 = Derivation(G_ab).step([\n",
        "    (0, 0), (1, 0), (2, 1)\n",
        "]) \n",
        "\n",
        "ab_0, ab_1"
      ]
    },
    {
      "cell_type": "code",
      "execution_count": null,
      "metadata": {},
      "outputs": [
        {
          "data": {
            "text/html": [
              "<div><?xml version=\"1.0\" encoding=\"UTF-8\" standalone=\"no\"?>\n",
              "<!DOCTYPE svg PUBLIC \"-//W3C//DTD SVG 1.1//EN\"\n",
              " \"http://www.w3.org/Graphics/SVG/1.1/DTD/svg11.dtd\">\n",
              "<!-- Generated by graphviz version 2.46.1 (20210213.1702)\n",
              " -->\n",
              "<!-- Pages: 1 -->\n",
              "<svg width=\"62pt\" height=\"113pt\"\n",
              " viewBox=\"0.00 0.00 62.00 113.00\" xmlns=\"http://www.w3.org/2000/svg\" xmlns:xlink=\"http://www.w3.org/1999/xlink\">\n",
              "<g id=\"graph0\" class=\"graph\" transform=\"scale(1 1) rotate(0) translate(4 109)\">\n",
              "<polygon fill=\"white\" stroke=\"transparent\" points=\"-4,4 -4,-109 58,-109 58,4 -4,4\"/>\n",
              "<!-- &#45;3330992039822509743 -->\n",
              "<g id=\"node1\" class=\"node\">\n",
              "<title>&#45;3330992039822509743</title>\n",
              "<path fill=\"none\" stroke=\"black\" stroke-width=\"0.25\" d=\"M29.67,-105C29.67,-105 24.33,-105 24.33,-105 21.67,-105 19,-102.33 19,-99.67 19,-99.67 19,-87.33 19,-87.33 19,-84.67 21.67,-82 24.33,-82 24.33,-82 29.67,-82 29.67,-82 32.33,-82 35,-84.67 35,-87.33 35,-87.33 35,-99.67 35,-99.67 35,-102.33 32.33,-105 29.67,-105\"/>\n",
              "<text text-anchor=\"middle\" x=\"27\" y=\"-89.8\" font-family=\"Times,serif\" font-size=\"14.00\">S</text>\n",
              "</g>\n",
              "<!-- &#45;6053887025715354666 -->\n",
              "<g id=\"node2\" class=\"node\">\n",
              "<title>&#45;6053887025715354666</title>\n",
              "<path fill=\"none\" stroke=\"black\" stroke-width=\"0.25\" d=\"M12,-64C12,-64 6,-64 6,-64 3,-64 0,-61 0,-58 0,-58 0,-47 0,-47 0,-44 3,-41 6,-41 6,-41 12,-41 12,-41 15,-41 18,-44 18,-47 18,-47 18,-58 18,-58 18,-61 15,-64 12,-64\"/>\n",
              "<text text-anchor=\"middle\" x=\"9\" y=\"-48.8\" font-family=\"Times,serif\" font-size=\"14.00\">A</text>\n",
              "</g>\n",
              "<!-- &#45;3330992039822509743&#45;&gt;&#45;6053887025715354666 -->\n",
              "<g id=\"edge1\" class=\"edge\">\n",
              "<title>&#45;3330992039822509743&#45;&gt;&#45;6053887025715354666</title>\n",
              "<path fill=\"none\" stroke=\"black\" stroke-width=\"0.5\" d=\"M22.08,-81.84C19.54,-76.34 16.45,-69.65 13.91,-64.14\"/>\n",
              "</g>\n",
              "<!-- 6480666988042787747 -->\n",
              "<g id=\"node3\" class=\"node\">\n",
              "<title>6480666988042787747</title>\n",
              "<path fill=\"none\" stroke=\"black\" stroke-width=\"0.25\" d=\"M48,-64C48,-64 42,-64 42,-64 39,-64 36,-61 36,-58 36,-58 36,-47 36,-47 36,-44 39,-41 42,-41 42,-41 48,-41 48,-41 51,-41 54,-44 54,-47 54,-47 54,-58 54,-58 54,-61 51,-64 48,-64\"/>\n",
              "<text text-anchor=\"middle\" x=\"45\" y=\"-48.8\" font-family=\"Times,serif\" font-size=\"14.00\">B</text>\n",
              "</g>\n",
              "<!-- &#45;3330992039822509743&#45;&gt;6480666988042787747 -->\n",
              "<g id=\"edge2\" class=\"edge\">\n",
              "<title>&#45;3330992039822509743&#45;&gt;6480666988042787747</title>\n",
              "<path fill=\"none\" stroke=\"black\" stroke-width=\"0.5\" d=\"M31.92,-81.84C34.46,-76.34 37.55,-69.65 40.09,-64.14\"/>\n",
              "</g>\n",
              "<!-- &#45;6053887025715354666&#45;&gt;6480666988042787747 -->\n",
              "<!-- 5321151276958382360 -->\n",
              "<g id=\"node5\" class=\"node\">\n",
              "<title>5321151276958382360</title>\n",
              "<path fill=\"none\" stroke=\"black\" stroke-width=\"1.25\" d=\"M11.5,-23C11.5,-23 6.5,-23 6.5,-23 4,-23 1.5,-20.5 1.5,-18 1.5,-18 1.5,-5 1.5,-5 1.5,-2.5 4,0 6.5,0 6.5,0 11.5,0 11.5,0 14,0 16.5,-2.5 16.5,-5 16.5,-5 16.5,-18 16.5,-18 16.5,-20.5 14,-23 11.5,-23\"/>\n",
              "<text text-anchor=\"middle\" x=\"9\" y=\"-7.8\" font-family=\"Times,serif\" font-size=\"14.00\">a</text>\n",
              "</g>\n",
              "<!-- &#45;6053887025715354666&#45;&gt;5321151276958382360 -->\n",
              "<g id=\"edge5\" class=\"edge\">\n",
              "<title>&#45;6053887025715354666&#45;&gt;5321151276958382360</title>\n",
              "<path fill=\"none\" stroke=\"black\" stroke-width=\"0.5\" d=\"M9,-40.84C9,-35.34 9,-28.65 9,-23.14\"/>\n",
              "</g>\n",
              "<!-- 3429730868379575931 -->\n",
              "<g id=\"node4\" class=\"node\">\n",
              "<title>3429730868379575931</title>\n",
              "<path fill=\"none\" stroke=\"black\" stroke-width=\"1.25\" d=\"M47.5,-23C47.5,-23 42.5,-23 42.5,-23 40,-23 37.5,-20.5 37.5,-18 37.5,-18 37.5,-5 37.5,-5 37.5,-2.5 40,0 42.5,0 42.5,0 47.5,0 47.5,0 50,0 52.5,-2.5 52.5,-5 52.5,-5 52.5,-18 52.5,-18 52.5,-20.5 50,-23 47.5,-23\"/>\n",
              "<text text-anchor=\"middle\" x=\"45\" y=\"-7.8\" font-family=\"Times,serif\" font-size=\"14.00\">b</text>\n",
              "</g>\n",
              "<!-- 6480666988042787747&#45;&gt;3429730868379575931 -->\n",
              "<g id=\"edge4\" class=\"edge\">\n",
              "<title>6480666988042787747&#45;&gt;3429730868379575931</title>\n",
              "<path fill=\"none\" stroke=\"black\" stroke-width=\"0.5\" d=\"M45,-40.84C45,-35.34 45,-28.65 45,-23.14\"/>\n",
              "</g>\n",
              "</g>\n",
              "</svg>\n",
              " <?xml version=\"1.0\" encoding=\"UTF-8\" standalone=\"no\"?>\n",
              "<!DOCTYPE svg PUBLIC \"-//W3C//DTD SVG 1.1//EN\"\n",
              " \"http://www.w3.org/Graphics/SVG/1.1/DTD/svg11.dtd\">\n",
              "<!-- Generated by graphviz version 2.46.1 (20210213.1702)\n",
              " -->\n",
              "<!-- Pages: 1 -->\n",
              "<svg width=\"62pt\" height=\"113pt\"\n",
              " viewBox=\"0.00 0.00 62.00 113.00\" xmlns=\"http://www.w3.org/2000/svg\" xmlns:xlink=\"http://www.w3.org/1999/xlink\">\n",
              "<g id=\"graph0\" class=\"graph\" transform=\"scale(1 1) rotate(0) translate(4 109)\">\n",
              "<polygon fill=\"white\" stroke=\"transparent\" points=\"-4,4 -4,-109 58,-109 58,4 -4,4\"/>\n",
              "<!-- &#45;3330992039822509743 -->\n",
              "<g id=\"node1\" class=\"node\">\n",
              "<title>&#45;3330992039822509743</title>\n",
              "<path fill=\"none\" stroke=\"black\" stroke-width=\"0.25\" d=\"M29.67,-105C29.67,-105 24.33,-105 24.33,-105 21.67,-105 19,-102.33 19,-99.67 19,-99.67 19,-87.33 19,-87.33 19,-84.67 21.67,-82 24.33,-82 24.33,-82 29.67,-82 29.67,-82 32.33,-82 35,-84.67 35,-87.33 35,-87.33 35,-99.67 35,-99.67 35,-102.33 32.33,-105 29.67,-105\"/>\n",
              "<text text-anchor=\"middle\" x=\"27\" y=\"-89.8\" font-family=\"Times,serif\" font-size=\"14.00\">S</text>\n",
              "</g>\n",
              "<!-- &#45;6053887025715354666 -->\n",
              "<g id=\"node2\" class=\"node\">\n",
              "<title>&#45;6053887025715354666</title>\n",
              "<path fill=\"none\" stroke=\"black\" stroke-width=\"0.25\" d=\"M12,-64C12,-64 6,-64 6,-64 3,-64 0,-61 0,-58 0,-58 0,-47 0,-47 0,-44 3,-41 6,-41 6,-41 12,-41 12,-41 15,-41 18,-44 18,-47 18,-47 18,-58 18,-58 18,-61 15,-64 12,-64\"/>\n",
              "<text text-anchor=\"middle\" x=\"9\" y=\"-48.8\" font-family=\"Times,serif\" font-size=\"14.00\">A</text>\n",
              "</g>\n",
              "<!-- &#45;3330992039822509743&#45;&gt;&#45;6053887025715354666 -->\n",
              "<g id=\"edge1\" class=\"edge\">\n",
              "<title>&#45;3330992039822509743&#45;&gt;&#45;6053887025715354666</title>\n",
              "<path fill=\"none\" stroke=\"black\" stroke-width=\"0.5\" d=\"M22.08,-81.84C19.54,-76.34 16.45,-69.65 13.91,-64.14\"/>\n",
              "</g>\n",
              "<!-- 6480666988042787747 -->\n",
              "<g id=\"node3\" class=\"node\">\n",
              "<title>6480666988042787747</title>\n",
              "<path fill=\"none\" stroke=\"black\" stroke-width=\"0.25\" d=\"M48,-64C48,-64 42,-64 42,-64 39,-64 36,-61 36,-58 36,-58 36,-47 36,-47 36,-44 39,-41 42,-41 42,-41 48,-41 48,-41 51,-41 54,-44 54,-47 54,-47 54,-58 54,-58 54,-61 51,-64 48,-64\"/>\n",
              "<text text-anchor=\"middle\" x=\"45\" y=\"-48.8\" font-family=\"Times,serif\" font-size=\"14.00\">B</text>\n",
              "</g>\n",
              "<!-- &#45;3330992039822509743&#45;&gt;6480666988042787747 -->\n",
              "<g id=\"edge2\" class=\"edge\">\n",
              "<title>&#45;3330992039822509743&#45;&gt;6480666988042787747</title>\n",
              "<path fill=\"none\" stroke=\"black\" stroke-width=\"0.5\" d=\"M31.92,-81.84C34.46,-76.34 37.55,-69.65 40.09,-64.14\"/>\n",
              "</g>\n",
              "<!-- &#45;6053887025715354666&#45;&gt;6480666988042787747 -->\n",
              "<!-- 7758209123698628053 -->\n",
              "<g id=\"node4\" class=\"node\">\n",
              "<title>7758209123698628053</title>\n",
              "<path fill=\"none\" stroke=\"black\" stroke-width=\"1.25\" d=\"M11.5,-23C11.5,-23 6.5,-23 6.5,-23 4,-23 1.5,-20.5 1.5,-18 1.5,-18 1.5,-5 1.5,-5 1.5,-2.5 4,0 6.5,0 6.5,0 11.5,0 11.5,0 14,0 16.5,-2.5 16.5,-5 16.5,-5 16.5,-18 16.5,-18 16.5,-20.5 14,-23 11.5,-23\"/>\n",
              "<text text-anchor=\"middle\" x=\"9\" y=\"-7.8\" font-family=\"Times,serif\" font-size=\"14.00\">a</text>\n",
              "</g>\n",
              "<!-- &#45;6053887025715354666&#45;&gt;7758209123698628053 -->\n",
              "<g id=\"edge4\" class=\"edge\">\n",
              "<title>&#45;6053887025715354666&#45;&gt;7758209123698628053</title>\n",
              "<path fill=\"none\" stroke=\"black\" stroke-width=\"0.5\" d=\"M9,-40.84C9,-35.34 9,-28.65 9,-23.14\"/>\n",
              "</g>\n",
              "<!-- 992673021639330238 -->\n",
              "<g id=\"node5\" class=\"node\">\n",
              "<title>992673021639330238</title>\n",
              "<path fill=\"none\" stroke=\"black\" stroke-width=\"1.25\" d=\"M47.5,-23C47.5,-23 42.5,-23 42.5,-23 40,-23 37.5,-20.5 37.5,-18 37.5,-18 37.5,-5 37.5,-5 37.5,-2.5 40,0 42.5,0 42.5,0 47.5,0 47.5,0 50,0 52.5,-2.5 52.5,-5 52.5,-5 52.5,-18 52.5,-18 52.5,-20.5 50,-23 47.5,-23\"/>\n",
              "<text text-anchor=\"middle\" x=\"45\" y=\"-7.8\" font-family=\"Times,serif\" font-size=\"14.00\">b</text>\n",
              "</g>\n",
              "<!-- 6480666988042787747&#45;&gt;992673021639330238 -->\n",
              "<g id=\"edge5\" class=\"edge\">\n",
              "<title>6480666988042787747&#45;&gt;992673021639330238</title>\n",
              "<path fill=\"none\" stroke=\"black\" stroke-width=\"0.5\" d=\"M45,-40.84C45,-35.34 45,-28.65 45,-23.14\"/>\n",
              "</g>\n",
              "</g>\n",
              "</svg>\n",
              "</div>"
            ],
            "text/plain": [
              "<IPython.core.display.HTML object>"
            ]
          },
          "execution_count": 1,
          "metadata": {},
          "output_type": "execute_result"
        }
      ],
      "source": [
        "# ma a ben guardare lo stesso albero…\n",
        "\n",
        "side_by_side(\n",
        "    ProductionGraph(ab_0),\n",
        "    ProductionGraph(ab_1),\n",
        ")    "
      ]
    },
    {
      "cell_type": "markdown",
      "metadata": {},
      "source": [
        "## Dalla derivazione all'albero di parsing\n",
        "\n",
        "La seguente procedura memorizza in `sentence` la forma sentenziale a cui è giuta la derivazione (di passo in passo) come una tupla di alberi annotati (rappresentati come una *lol*). \n",
        "\n",
        "Ciascun nodo dell'albero ha due etichette: `Symbol` che si riferisce ad uno dei simboli della grammatica e `nprord` pari ad un numero di produzione. I figli di ciascun nodo hanno i simboli contenuti nel lato destro della produzione di numero `nprord`.\n",
        "\n",
        "Gli alberi vengono \"completati\" man mano che la procedura elabora i passi della derivazione; al termine le foglie degli alberi saranno simboli terminali (e `nprord` sarà convenzionalmente definito come `None`)."
      ]
    },
    {
      "cell_type": "code",
      "execution_count": null,
      "metadata": {},
      "outputs": [],
      "source": [
        "def derivation_to_parsetree(d):\n",
        "    # questa variabile si riferià all'albero di derivazione di d\n",
        "    root = [{'Symbol': d.G.S, 'nprod': None}]\n",
        "    # all'inizio la forma sentenziale è data dal simbolo distinto\n",
        "    sentence = [root, ] \n",
        "    for prod, pos in d.steps():\n",
        "        # l'albero corrente è deciso dalla posizione \n",
        "        # in cui è applicata la produzione\n",
        "        tree = sentence[pos]\n",
        "        # i figli sono dati dal lato destro d.G.P[prod].rhs\n",
        "        children = [[{'Symbol': X, 'nprod': None}] for X in d.G.P[prod].rhs]\n",
        "        # si aggiorna il valore di nprod e si aggiungono i figli all'albero\n",
        "        tree[0]['nprod'] = prod\n",
        "        tree.extend(children)\n",
        "        sentence = sentence[:pos] + children + sentence[pos + 1:]\n",
        "    return root"
      ]
    },
    {
      "cell_type": "code",
      "execution_count": null,
      "metadata": {},
      "outputs": [
        {
          "data": {
            "text/plain": [
              "[{'Symbol': 'S', 'nprod': 0},\n",
              " [{'Symbol': 'A', 'nprod': 1}, [{'Symbol': 'a', 'nprod': None}]],\n",
              " [{'Symbol': 'B', 'nprod': 2}, [{'Symbol': 'b', 'nprod': None}]]]"
            ]
          },
          "execution_count": 1,
          "metadata": {},
          "output_type": "execute_result"
        }
      ],
      "source": [
        "pt_0 = derivation_to_parsetree(ab_0)\n",
        "pt_0"
      ]
    },
    {
      "cell_type": "code",
      "execution_count": null,
      "metadata": {},
      "outputs": [
        {
          "data": {
            "text/html": [
              "<div><?xml version=\"1.0\" encoding=\"UTF-8\" standalone=\"no\"?>\n",
              "<!DOCTYPE svg PUBLIC \"-//W3C//DTD SVG 1.1//EN\"\n",
              " \"http://www.w3.org/Graphics/SVG/1.1/DTD/svg11.dtd\">\n",
              "<!-- Generated by graphviz version 2.46.1 (20210213.1702)\n",
              " -->\n",
              "<!-- Pages: 1 -->\n",
              "<svg width=\"62pt\" height=\"113pt\"\n",
              " viewBox=\"0.00 0.00 62.00 113.00\" xmlns=\"http://www.w3.org/2000/svg\" xmlns:xlink=\"http://www.w3.org/1999/xlink\">\n",
              "<g id=\"graph0\" class=\"graph\" transform=\"scale(1 1) rotate(0) translate(4 109)\">\n",
              "<polygon fill=\"white\" stroke=\"transparent\" points=\"-4,4 -4,-109 58,-109 58,4 -4,4\"/>\n",
              "<!-- &#45;3330992039822509743 -->\n",
              "<g id=\"node1\" class=\"node\">\n",
              "<title>&#45;3330992039822509743</title>\n",
              "<path fill=\"none\" stroke=\"black\" stroke-width=\"0.25\" d=\"M29.67,-105C29.67,-105 24.33,-105 24.33,-105 21.67,-105 19,-102.33 19,-99.67 19,-99.67 19,-87.33 19,-87.33 19,-84.67 21.67,-82 24.33,-82 24.33,-82 29.67,-82 29.67,-82 32.33,-82 35,-84.67 35,-87.33 35,-87.33 35,-99.67 35,-99.67 35,-102.33 32.33,-105 29.67,-105\"/>\n",
              "<text text-anchor=\"middle\" x=\"27\" y=\"-89.8\" font-family=\"Times,serif\" font-size=\"14.00\">S</text>\n",
              "</g>\n",
              "<!-- &#45;6053887025715354666 -->\n",
              "<g id=\"node2\" class=\"node\">\n",
              "<title>&#45;6053887025715354666</title>\n",
              "<path fill=\"none\" stroke=\"black\" stroke-width=\"0.25\" d=\"M12,-64C12,-64 6,-64 6,-64 3,-64 0,-61 0,-58 0,-58 0,-47 0,-47 0,-44 3,-41 6,-41 6,-41 12,-41 12,-41 15,-41 18,-44 18,-47 18,-47 18,-58 18,-58 18,-61 15,-64 12,-64\"/>\n",
              "<text text-anchor=\"middle\" x=\"9\" y=\"-48.8\" font-family=\"Times,serif\" font-size=\"14.00\">A</text>\n",
              "</g>\n",
              "<!-- &#45;3330992039822509743&#45;&gt;&#45;6053887025715354666 -->\n",
              "<g id=\"edge1\" class=\"edge\">\n",
              "<title>&#45;3330992039822509743&#45;&gt;&#45;6053887025715354666</title>\n",
              "<path fill=\"none\" stroke=\"black\" stroke-width=\"0.5\" d=\"M22.08,-81.84C19.54,-76.34 16.45,-69.65 13.91,-64.14\"/>\n",
              "</g>\n",
              "<!-- 6480666988042787747 -->\n",
              "<g id=\"node3\" class=\"node\">\n",
              "<title>6480666988042787747</title>\n",
              "<path fill=\"none\" stroke=\"black\" stroke-width=\"0.25\" d=\"M48,-64C48,-64 42,-64 42,-64 39,-64 36,-61 36,-58 36,-58 36,-47 36,-47 36,-44 39,-41 42,-41 42,-41 48,-41 48,-41 51,-41 54,-44 54,-47 54,-47 54,-58 54,-58 54,-61 51,-64 48,-64\"/>\n",
              "<text text-anchor=\"middle\" x=\"45\" y=\"-48.8\" font-family=\"Times,serif\" font-size=\"14.00\">B</text>\n",
              "</g>\n",
              "<!-- &#45;3330992039822509743&#45;&gt;6480666988042787747 -->\n",
              "<g id=\"edge2\" class=\"edge\">\n",
              "<title>&#45;3330992039822509743&#45;&gt;6480666988042787747</title>\n",
              "<path fill=\"none\" stroke=\"black\" stroke-width=\"0.5\" d=\"M31.92,-81.84C34.46,-76.34 37.55,-69.65 40.09,-64.14\"/>\n",
              "</g>\n",
              "<!-- &#45;6053887025715354666&#45;&gt;6480666988042787747 -->\n",
              "<!-- 5321151276958382360 -->\n",
              "<g id=\"node5\" class=\"node\">\n",
              "<title>5321151276958382360</title>\n",
              "<path fill=\"none\" stroke=\"black\" stroke-width=\"1.25\" d=\"M11.5,-23C11.5,-23 6.5,-23 6.5,-23 4,-23 1.5,-20.5 1.5,-18 1.5,-18 1.5,-5 1.5,-5 1.5,-2.5 4,0 6.5,0 6.5,0 11.5,0 11.5,0 14,0 16.5,-2.5 16.5,-5 16.5,-5 16.5,-18 16.5,-18 16.5,-20.5 14,-23 11.5,-23\"/>\n",
              "<text text-anchor=\"middle\" x=\"9\" y=\"-7.8\" font-family=\"Times,serif\" font-size=\"14.00\">a</text>\n",
              "</g>\n",
              "<!-- &#45;6053887025715354666&#45;&gt;5321151276958382360 -->\n",
              "<g id=\"edge5\" class=\"edge\">\n",
              "<title>&#45;6053887025715354666&#45;&gt;5321151276958382360</title>\n",
              "<path fill=\"none\" stroke=\"black\" stroke-width=\"0.5\" d=\"M9,-40.84C9,-35.34 9,-28.65 9,-23.14\"/>\n",
              "</g>\n",
              "<!-- 3429730868379575931 -->\n",
              "<g id=\"node4\" class=\"node\">\n",
              "<title>3429730868379575931</title>\n",
              "<path fill=\"none\" stroke=\"black\" stroke-width=\"1.25\" d=\"M47.5,-23C47.5,-23 42.5,-23 42.5,-23 40,-23 37.5,-20.5 37.5,-18 37.5,-18 37.5,-5 37.5,-5 37.5,-2.5 40,0 42.5,0 42.5,0 47.5,0 47.5,0 50,0 52.5,-2.5 52.5,-5 52.5,-5 52.5,-18 52.5,-18 52.5,-20.5 50,-23 47.5,-23\"/>\n",
              "<text text-anchor=\"middle\" x=\"45\" y=\"-7.8\" font-family=\"Times,serif\" font-size=\"14.00\">b</text>\n",
              "</g>\n",
              "<!-- 6480666988042787747&#45;&gt;3429730868379575931 -->\n",
              "<g id=\"edge4\" class=\"edge\">\n",
              "<title>6480666988042787747&#45;&gt;3429730868379575931</title>\n",
              "<path fill=\"none\" stroke=\"black\" stroke-width=\"0.5\" d=\"M45,-40.84C45,-35.34 45,-28.65 45,-23.14\"/>\n",
              "</g>\n",
              "</g>\n",
              "</svg>\n",
              " <?xml version=\"1.0\" encoding=\"UTF-8\" standalone=\"no\"?>\n",
              "<!DOCTYPE svg PUBLIC \"-//W3C//DTD SVG 1.1//EN\"\n",
              " \"http://www.w3.org/Graphics/SVG/1.1/DTD/svg11.dtd\">\n",
              "<!-- Generated by graphviz version 2.46.1 (20210213.1702)\n",
              " -->\n",
              "<!-- Pages: 1 -->\n",
              "<svg width=\"178pt\" height=\"158pt\"\n",
              " viewBox=\"0.00 0.00 178.00 158.00\" xmlns=\"http://www.w3.org/2000/svg\" xmlns:xlink=\"http://www.w3.org/1999/xlink\">\n",
              "<g id=\"graph0\" class=\"graph\" transform=\"scale(1 1) rotate(0) translate(4 154)\">\n",
              "<polygon fill=\"white\" stroke=\"transparent\" points=\"-4,4 -4,-154 174,-154 174,4 -4,4\"/>\n",
              "<!-- 4477777088 -->\n",
              "<g id=\"node1\" class=\"node\">\n",
              "<title>4477777088</title>\n",
              "<polygon fill=\"none\" stroke=\"black\" points=\"56,-131 56,-150 99,-150 99,-131 56,-131\"/>\n",
              "<text text-anchor=\"start\" x=\"59\" y=\"-137.4\" font-family=\"Times,serif\" font-size=\"12.00\">Symbol</text>\n",
              "<polygon fill=\"none\" stroke=\"black\" points=\"99,-131 99,-150 112,-150 112,-131 99,-131\"/>\n",
              "<text text-anchor=\"start\" x=\"102\" y=\"-137.4\" font-family=\"Times,serif\" font-size=\"12.00\">S</text>\n",
              "<polygon fill=\"none\" stroke=\"black\" points=\"56,-112 56,-131 99,-131 99,-112 56,-112\"/>\n",
              "<text text-anchor=\"start\" x=\"63.5\" y=\"-118.4\" font-family=\"Times,serif\" font-size=\"12.00\">nprod</text>\n",
              "<polygon fill=\"none\" stroke=\"black\" points=\"99,-112 99,-131 112,-131 112,-112 99,-112\"/>\n",
              "<text text-anchor=\"start\" x=\"102\" y=\"-118.4\" font-family=\"Times,serif\" font-size=\"12.00\">0</text>\n",
              "</g>\n",
              "<!-- 4477778288 -->\n",
              "<g id=\"node2\" class=\"node\">\n",
              "<title>4477778288</title>\n",
              "<polygon fill=\"none\" stroke=\"black\" points=\"17,-75 17,-94 60,-94 60,-75 17,-75\"/>\n",
              "<text text-anchor=\"start\" x=\"20\" y=\"-81.4\" font-family=\"Times,serif\" font-size=\"12.00\">Symbol</text>\n",
              "<polygon fill=\"none\" stroke=\"black\" points=\"60,-75 60,-94 76,-94 76,-75 60,-75\"/>\n",
              "<text text-anchor=\"start\" x=\"63\" y=\"-81.4\" font-family=\"Times,serif\" font-size=\"12.00\">A</text>\n",
              "<polygon fill=\"none\" stroke=\"black\" points=\"17,-56 17,-75 60,-75 60,-56 17,-56\"/>\n",
              "<text text-anchor=\"start\" x=\"24.5\" y=\"-62.4\" font-family=\"Times,serif\" font-size=\"12.00\">nprod</text>\n",
              "<polygon fill=\"none\" stroke=\"black\" points=\"60,-56 60,-75 76,-75 76,-56 60,-56\"/>\n",
              "<text text-anchor=\"start\" x=\"64.5\" y=\"-62.4\" font-family=\"Times,serif\" font-size=\"12.00\">1</text>\n",
              "</g>\n",
              "<!-- 4477777088&#45;&gt;4477778288 -->\n",
              "<g id=\"edge1\" class=\"edge\">\n",
              "<title>4477777088&#45;&gt;4477778288</title>\n",
              "<path fill=\"none\" stroke=\"black\" d=\"M71.13,-111.72C67.17,-106.09 62.81,-99.89 58.85,-94.26\"/>\n",
              "</g>\n",
              "<!-- 4477779824 -->\n",
              "<g id=\"node3\" class=\"node\">\n",
              "<title>4477779824</title>\n",
              "<polygon fill=\"none\" stroke=\"black\" points=\"94,-75 94,-94 137,-94 137,-75 94,-75\"/>\n",
              "<text text-anchor=\"start\" x=\"97\" y=\"-81.4\" font-family=\"Times,serif\" font-size=\"12.00\">Symbol</text>\n",
              "<polygon fill=\"none\" stroke=\"black\" points=\"137,-75 137,-94 152,-94 152,-75 137,-75\"/>\n",
              "<text text-anchor=\"start\" x=\"140\" y=\"-81.4\" font-family=\"Times,serif\" font-size=\"12.00\">B</text>\n",
              "<polygon fill=\"none\" stroke=\"black\" points=\"94,-56 94,-75 137,-75 137,-56 94,-56\"/>\n",
              "<text text-anchor=\"start\" x=\"101.5\" y=\"-62.4\" font-family=\"Times,serif\" font-size=\"12.00\">nprod</text>\n",
              "<polygon fill=\"none\" stroke=\"black\" points=\"137,-56 137,-75 152,-75 152,-56 137,-56\"/>\n",
              "<text text-anchor=\"start\" x=\"141\" y=\"-62.4\" font-family=\"Times,serif\" font-size=\"12.00\">2</text>\n",
              "</g>\n",
              "<!-- 4477777088&#45;&gt;4477779824 -->\n",
              "<g id=\"edge2\" class=\"edge\">\n",
              "<title>4477777088&#45;&gt;4477779824</title>\n",
              "<path fill=\"none\" stroke=\"black\" d=\"M97.2,-111.72C101.27,-106.09 105.74,-99.89 109.81,-94.26\"/>\n",
              "</g>\n",
              "<!-- 4477778288&#45;&gt;4477779824 -->\n",
              "<!-- 4477777424 -->\n",
              "<g id=\"node4\" class=\"node\">\n",
              "<title>4477777424</title>\n",
              "<polygon fill=\"none\" stroke=\"black\" points=\"0,-19 0,-38 43,-38 43,-19 0,-19\"/>\n",
              "<text text-anchor=\"start\" x=\"3\" y=\"-25.4\" font-family=\"Times,serif\" font-size=\"12.00\">Symbol</text>\n",
              "<polygon fill=\"none\" stroke=\"black\" points=\"43,-19 43,-38 76,-38 76,-19 43,-19\"/>\n",
              "<text text-anchor=\"start\" x=\"56.5\" y=\"-25.4\" font-family=\"Times,serif\" font-size=\"12.00\">a</text>\n",
              "<polygon fill=\"none\" stroke=\"black\" points=\"0,0 0,-19 43,-19 43,0 0,0\"/>\n",
              "<text text-anchor=\"start\" x=\"7.5\" y=\"-6.4\" font-family=\"Times,serif\" font-size=\"12.00\">nprod</text>\n",
              "<polygon fill=\"none\" stroke=\"black\" points=\"43,0 43,-19 76,-19 76,0 43,0\"/>\n",
              "<text text-anchor=\"start\" x=\"46\" y=\"-6.4\" font-family=\"Times,serif\" font-size=\"12.00\">None</text>\n",
              "</g>\n",
              "<!-- 4477778288&#45;&gt;4477777424 -->\n",
              "<g id=\"edge4\" class=\"edge\">\n",
              "<title>4477778288&#45;&gt;4477777424</title>\n",
              "<path fill=\"none\" stroke=\"black\" d=\"M43.29,-55.72C42.46,-50.09 41.54,-43.89 40.71,-38.26\"/>\n",
              "</g>\n",
              "<!-- 4477778192 -->\n",
              "<g id=\"node5\" class=\"node\">\n",
              "<title>4477778192</title>\n",
              "<polygon fill=\"none\" stroke=\"black\" points=\"94,-19 94,-38 137,-38 137,-19 94,-19\"/>\n",
              "<text text-anchor=\"start\" x=\"97\" y=\"-25.4\" font-family=\"Times,serif\" font-size=\"12.00\">Symbol</text>\n",
              "<polygon fill=\"none\" stroke=\"black\" points=\"137,-19 137,-38 170,-38 170,-19 137,-19\"/>\n",
              "<text text-anchor=\"start\" x=\"150\" y=\"-25.4\" font-family=\"Times,serif\" font-size=\"12.00\">b</text>\n",
              "<polygon fill=\"none\" stroke=\"black\" points=\"94,0 94,-19 137,-19 137,0 94,0\"/>\n",
              "<text text-anchor=\"start\" x=\"101.5\" y=\"-6.4\" font-family=\"Times,serif\" font-size=\"12.00\">nprod</text>\n",
              "<polygon fill=\"none\" stroke=\"black\" points=\"137,0 137,-19 170,-19 170,0 137,0\"/>\n",
              "<text text-anchor=\"start\" x=\"140\" y=\"-6.4\" font-family=\"Times,serif\" font-size=\"12.00\">None</text>\n",
              "</g>\n",
              "<!-- 4477779824&#45;&gt;4477778192 -->\n",
              "<g id=\"edge5\" class=\"edge\">\n",
              "<title>4477779824&#45;&gt;4477778192</title>\n",
              "<path fill=\"none\" stroke=\"black\" d=\"M126.05,-55.72C126.99,-50.09 128.02,-43.89 128.96,-38.26\"/>\n",
              "</g>\n",
              "</g>\n",
              "</svg>\n",
              "</div>"
            ],
            "text/plain": [
              "<IPython.core.display.HTML object>"
            ]
          },
          "execution_count": 1,
          "metadata": {},
          "output_type": "execute_result"
        }
      ],
      "source": [
        "# l'albero di parsing prodotto da liblet, e da derivation_to_parsetree\n",
        "\n",
        "side_by_side(\n",
        "    ProductionGraph(ab_0),\n",
        "    Tree.from_lol(pt_0)\n",
        ")"
      ]
    },
    {
      "cell_type": "markdown",
      "metadata": {},
      "source": [
        "### <span style=\"color: red;\">Per casa:</span> dall'albero alle derivazioni left/right-most\n",
        "\n",
        "Le derivazioni leftmost e rightmost si possono ottenere, rispettivamente, tramite una visita in preordine e postordine dell'albero di parsing."
      ]
    },
    {
      "cell_type": "code",
      "execution_count": null,
      "metadata": {},
      "outputs": [
        {
          "data": {
            "text/plain": [
              "[0, 1, 2]"
            ]
          },
          "execution_count": 1,
          "metadata": {},
          "output_type": "execute_result"
        }
      ],
      "source": [
        "def leftmost_from_parsetree(tree):\n",
        "    result = []\n",
        "    def visit(node):\n",
        "        root, *children = node\n",
        "        nprod = root['nprod']\n",
        "        if nprod is not None: result.append(nprod)\n",
        "        for child in children: visit(child)\n",
        "    visit(tree)\n",
        "    return result\n",
        "\n",
        "leftmost_from_parsetree(pt_0)"
      ]
    },
    {
      "cell_type": "code",
      "execution_count": null,
      "metadata": {},
      "outputs": [
        {
          "data": {
            "text/plain": [
              "[0, 2, 1]"
            ]
          },
          "execution_count": 1,
          "metadata": {},
          "output_type": "execute_result"
        }
      ],
      "source": [
        "def rightmost_from_parsetree(tree):\n",
        "    result = []\n",
        "    def visit(node):\n",
        "        root, *children = node\n",
        "        nprod = root['nprod']\n",
        "        if nprod is not None: result.append(nprod)\n",
        "        for child in reversed(children): visit(child)\n",
        "    visit(tree)\n",
        "    return result\n",
        "\n",
        "rightmost_from_parsetree(pt_0)"
      ]
    },
    {
      "cell_type": "markdown",
      "metadata": {},
      "source": [
        "### <span style=\"color: red;\">Per casa</span>: le ϵ-produzioni\n",
        "\n",
        "In alcuni casi sono comode produzioni della forma $A\\to \\epsilon$ (chiamate ϵ-produzioni). Nella costruzione dell'albero dalla derivazione richiedono però un po' di attenzione…\n",
        "\n",
        "Consideriamo ad esempio il caso del [linguaggio di Dyck](https://en.wikipedia.org/wiki/Dyck_language)"
      ]
    },
    {
      "cell_type": "code",
      "execution_count": null,
      "metadata": {},
      "outputs": [],
      "source": [
        "G_dyck = Grammar.from_string('S -> S S | ( S ) | ε')"
      ]
    },
    {
      "cell_type": "code",
      "execution_count": null,
      "metadata": {},
      "outputs": [
        {
          "data": {
            "text/plain": [
              "S -> S S -> ( S ) S -> ( ( S ) ) S -> ( ( ) ) S -> ( ( ) )"
            ]
          },
          "execution_count": 1,
          "metadata": {},
          "output_type": "execute_result"
        }
      ],
      "source": [
        "# una derivazione leftmost di '(())'\n",
        "\n",
        "dyck = 0, 1, 1, 2, 2\n",
        "\n",
        "deriv = Derivation(G_dyck).leftmost(dyck)\n",
        "deriv"
      ]
    },
    {
      "cell_type": "code",
      "execution_count": null,
      "metadata": {},
      "outputs": [
        {
          "data": {
            "text/plain": [
              "'(())'"
            ]
          },
          "execution_count": 1,
          "metadata": {},
          "output_type": "execute_result"
        }
      ],
      "source": [
        "# la parola \n",
        "''.join(deriv.sentential_form())"
      ]
    },
    {
      "cell_type": "code",
      "execution_count": null,
      "metadata": {},
      "outputs": [
        {
          "data": {
            "image/svg+xml": [
              "<?xml version=\"1.0\" encoding=\"UTF-8\" standalone=\"no\"?>\n",
              "<!DOCTYPE svg PUBLIC \"-//W3C//DTD SVG 1.1//EN\"\n",
              " \"http://www.w3.org/Graphics/SVG/1.1/DTD/svg11.dtd\">\n",
              "<!-- Generated by graphviz version 2.46.1 (20210213.1702)\n",
              " -->\n",
              "<!-- Pages: 1 -->\n",
              "<svg width=\"120pt\" height=\"195pt\"\n",
              " viewBox=\"0.00 0.00 120.00 195.00\" xmlns=\"http://www.w3.org/2000/svg\" xmlns:xlink=\"http://www.w3.org/1999/xlink\">\n",
              "<g id=\"graph0\" class=\"graph\" transform=\"scale(1 1) rotate(0) translate(4 191)\">\n",
              "<polygon fill=\"white\" stroke=\"transparent\" points=\"-4,4 -4,-191 116,-191 116,4 -4,4\"/>\n",
              "<!-- &#45;3330992039822509743 -->\n",
              "<g id=\"node1\" class=\"node\">\n",
              "<title>&#45;3330992039822509743</title>\n",
              "<path fill=\"none\" stroke=\"black\" stroke-width=\"0.25\" d=\"M74.17,-187C74.17,-187 68.83,-187 68.83,-187 66.17,-187 63.5,-184.33 63.5,-181.67 63.5,-181.67 63.5,-169.33 63.5,-169.33 63.5,-166.67 66.17,-164 68.83,-164 68.83,-164 74.17,-164 74.17,-164 76.83,-164 79.5,-166.67 79.5,-169.33 79.5,-169.33 79.5,-181.67 79.5,-181.67 79.5,-184.33 76.83,-187 74.17,-187\"/>\n",
              "<text text-anchor=\"middle\" x=\"71.5\" y=\"-171.8\" font-family=\"Times,serif\" font-size=\"14.00\">S</text>\n",
              "</g>\n",
              "<!-- &#45;5768049886562755436 -->\n",
              "<g id=\"node2\" class=\"node\">\n",
              "<title>&#45;5768049886562755436</title>\n",
              "<path fill=\"none\" stroke=\"black\" stroke-width=\"0.25\" d=\"M57.17,-146C57.17,-146 51.83,-146 51.83,-146 49.17,-146 46.5,-143.33 46.5,-140.67 46.5,-140.67 46.5,-128.33 46.5,-128.33 46.5,-125.67 49.17,-123 51.83,-123 51.83,-123 57.17,-123 57.17,-123 59.83,-123 62.5,-125.67 62.5,-128.33 62.5,-128.33 62.5,-140.67 62.5,-140.67 62.5,-143.33 59.83,-146 57.17,-146\"/>\n",
              "<text text-anchor=\"middle\" x=\"54.5\" y=\"-130.8\" font-family=\"Times,serif\" font-size=\"14.00\">S</text>\n",
              "</g>\n",
              "<!-- &#45;3330992039822509743&#45;&gt;&#45;5768049886562755436 -->\n",
              "<g id=\"edge1\" class=\"edge\">\n",
              "<title>&#45;3330992039822509743&#45;&gt;&#45;5768049886562755436</title>\n",
              "<path fill=\"none\" stroke=\"black\" stroke-width=\"0.5\" d=\"M66.85,-163.84C64.46,-158.34 61.54,-151.65 59.14,-146.14\"/>\n",
              "</g>\n",
              "<!-- 739590869539242989 -->\n",
              "<g id=\"node3\" class=\"node\">\n",
              "<title>739590869539242989</title>\n",
              "<path fill=\"none\" stroke=\"black\" stroke-width=\"0.25\" d=\"M91.17,-146C91.17,-146 85.83,-146 85.83,-146 83.17,-146 80.5,-143.33 80.5,-140.67 80.5,-140.67 80.5,-128.33 80.5,-128.33 80.5,-125.67 83.17,-123 85.83,-123 85.83,-123 91.17,-123 91.17,-123 93.83,-123 96.5,-125.67 96.5,-128.33 96.5,-128.33 96.5,-140.67 96.5,-140.67 96.5,-143.33 93.83,-146 91.17,-146\"/>\n",
              "<text text-anchor=\"middle\" x=\"88.5\" y=\"-130.8\" font-family=\"Times,serif\" font-size=\"14.00\">S</text>\n",
              "</g>\n",
              "<!-- &#45;3330992039822509743&#45;&gt;739590869539242989 -->\n",
              "<g id=\"edge2\" class=\"edge\">\n",
              "<title>&#45;3330992039822509743&#45;&gt;739590869539242989</title>\n",
              "<path fill=\"none\" stroke=\"black\" stroke-width=\"0.5\" d=\"M76.15,-163.84C78.54,-158.34 81.46,-151.65 83.86,-146.14\"/>\n",
              "</g>\n",
              "<!-- &#45;5768049886562755436&#45;&gt;739590869539242989 -->\n",
              "<!-- 5262128160764520289 -->\n",
              "<g id=\"node4\" class=\"node\">\n",
              "<title>5262128160764520289</title>\n",
              "<path fill=\"none\" stroke=\"black\" stroke-width=\"1.25\" d=\"M8.67,-105C8.67,-105 4.33,-105 4.33,-105 2.17,-105 0,-102.83 0,-100.67 0,-100.67 0,-86.33 0,-86.33 0,-84.17 2.17,-82 4.33,-82 4.33,-82 8.67,-82 8.67,-82 10.83,-82 13,-84.17 13,-86.33 13,-86.33 13,-100.67 13,-100.67 13,-102.83 10.83,-105 8.67,-105\"/>\n",
              "<text text-anchor=\"middle\" x=\"6.5\" y=\"-89.8\" font-family=\"Times,serif\" font-size=\"14.00\">(</text>\n",
              "</g>\n",
              "<!-- &#45;5768049886562755436&#45;&gt;5262128160764520289 -->\n",
              "<g id=\"edge4\" class=\"edge\">\n",
              "<title>&#45;5768049886562755436&#45;&gt;5262128160764520289</title>\n",
              "<path fill=\"none\" stroke=\"black\" stroke-width=\"0.5\" d=\"M46.14,-126.71C36.79,-119.11 21.84,-106.96 13.22,-99.96\"/>\n",
              "</g>\n",
              "<!-- &#45;1697466977201002704 -->\n",
              "<g id=\"node5\" class=\"node\">\n",
              "<title>&#45;1697466977201002704</title>\n",
              "<path fill=\"none\" stroke=\"black\" stroke-width=\"0.25\" d=\"M42.17,-105C42.17,-105 36.83,-105 36.83,-105 34.17,-105 31.5,-102.33 31.5,-99.67 31.5,-99.67 31.5,-87.33 31.5,-87.33 31.5,-84.67 34.17,-82 36.83,-82 36.83,-82 42.17,-82 42.17,-82 44.83,-82 47.5,-84.67 47.5,-87.33 47.5,-87.33 47.5,-99.67 47.5,-99.67 47.5,-102.33 44.83,-105 42.17,-105\"/>\n",
              "<text text-anchor=\"middle\" x=\"39.5\" y=\"-89.8\" font-family=\"Times,serif\" font-size=\"14.00\">S</text>\n",
              "</g>\n",
              "<!-- &#45;5768049886562755436&#45;&gt;&#45;1697466977201002704 -->\n",
              "<g id=\"edge5\" class=\"edge\">\n",
              "<title>&#45;5768049886562755436&#45;&gt;&#45;1697466977201002704</title>\n",
              "<path fill=\"none\" stroke=\"black\" stroke-width=\"0.5\" d=\"M50.4,-122.84C48.28,-117.34 45.71,-110.65 43.59,-105.14\"/>\n",
              "</g>\n",
              "<!-- 493444724501678722 -->\n",
              "<g id=\"node6\" class=\"node\">\n",
              "<title>493444724501678722</title>\n",
              "<path fill=\"none\" stroke=\"black\" stroke-width=\"1.25\" d=\"M74.67,-105C74.67,-105 70.33,-105 70.33,-105 68.17,-105 66,-102.83 66,-100.67 66,-100.67 66,-86.33 66,-86.33 66,-84.17 68.17,-82 70.33,-82 70.33,-82 74.67,-82 74.67,-82 76.83,-82 79,-84.17 79,-86.33 79,-86.33 79,-100.67 79,-100.67 79,-102.83 76.83,-105 74.67,-105\"/>\n",
              "<text text-anchor=\"middle\" x=\"72.5\" y=\"-89.8\" font-family=\"Times,serif\" font-size=\"14.00\">)</text>\n",
              "</g>\n",
              "<!-- &#45;5768049886562755436&#45;&gt;493444724501678722 -->\n",
              "<g id=\"edge6\" class=\"edge\">\n",
              "<title>&#45;5768049886562755436&#45;&gt;493444724501678722</title>\n",
              "<path fill=\"none\" stroke=\"black\" stroke-width=\"0.5\" d=\"M59.42,-122.84C61.96,-117.34 65.05,-110.65 67.59,-105.14\"/>\n",
              "</g>\n",
              "<!-- &#45;5434416718304875275 -->\n",
              "<g id=\"node11\" class=\"node\">\n",
              "<title>&#45;5434416718304875275</title>\n",
              "<path fill=\"none\" stroke=\"black\" stroke-width=\"0.25\" d=\"M107,-105C107,-105 102,-105 102,-105 99.5,-105 97,-102.5 97,-100 97,-100 97,-87 97,-87 97,-84.5 99.5,-82 102,-82 102,-82 107,-82 107,-82 109.5,-82 112,-84.5 112,-87 112,-87 112,-100 112,-100 112,-102.5 109.5,-105 107,-105\"/>\n",
              "<text text-anchor=\"middle\" x=\"104.5\" y=\"-89.8\" font-family=\"Times,serif\" font-size=\"14.00\">ε</text>\n",
              "</g>\n",
              "<!-- 739590869539242989&#45;&gt;&#45;5434416718304875275 -->\n",
              "<g id=\"edge15\" class=\"edge\">\n",
              "<title>739590869539242989&#45;&gt;&#45;5434416718304875275</title>\n",
              "<path fill=\"none\" stroke=\"black\" stroke-width=\"0.5\" d=\"M92.87,-122.84C95.13,-117.34 97.88,-110.65 100.13,-105.14\"/>\n",
              "</g>\n",
              "<!-- 5262128160764520289&#45;&gt;&#45;1697466977201002704 -->\n",
              "<!-- &#45;1697466977201002704&#45;&gt;493444724501678722 -->\n",
              "<!-- 2396107936827179427 -->\n",
              "<g id=\"node7\" class=\"node\">\n",
              "<title>2396107936827179427</title>\n",
              "<path fill=\"none\" stroke=\"black\" stroke-width=\"1.25\" d=\"M8.67,-64C8.67,-64 4.33,-64 4.33,-64 2.17,-64 0,-61.83 0,-59.67 0,-59.67 0,-45.33 0,-45.33 0,-43.17 2.17,-41 4.33,-41 4.33,-41 8.67,-41 8.67,-41 10.83,-41 13,-43.17 13,-45.33 13,-45.33 13,-59.67 13,-59.67 13,-61.83 10.83,-64 8.67,-64\"/>\n",
              "<text text-anchor=\"middle\" x=\"6.5\" y=\"-48.8\" font-family=\"Times,serif\" font-size=\"14.00\">(</text>\n",
              "</g>\n",
              "<!-- &#45;1697466977201002704&#45;&gt;2396107936827179427 -->\n",
              "<g id=\"edge9\" class=\"edge\">\n",
              "<title>&#45;1697466977201002704&#45;&gt;2396107936827179427</title>\n",
              "<path fill=\"none\" stroke=\"black\" stroke-width=\"0.5\" d=\"M31.17,-82.66C25.67,-76.16 18.55,-67.75 13.38,-61.63\"/>\n",
              "</g>\n",
              "<!-- &#45;8961844584122711694 -->\n",
              "<g id=\"node8\" class=\"node\">\n",
              "<title>&#45;8961844584122711694</title>\n",
              "<path fill=\"none\" stroke=\"black\" stroke-width=\"0.25\" d=\"M42.17,-64C42.17,-64 36.83,-64 36.83,-64 34.17,-64 31.5,-61.33 31.5,-58.67 31.5,-58.67 31.5,-46.33 31.5,-46.33 31.5,-43.67 34.17,-41 36.83,-41 36.83,-41 42.17,-41 42.17,-41 44.83,-41 47.5,-43.67 47.5,-46.33 47.5,-46.33 47.5,-58.67 47.5,-58.67 47.5,-61.33 44.83,-64 42.17,-64\"/>\n",
              "<text text-anchor=\"middle\" x=\"39.5\" y=\"-48.8\" font-family=\"Times,serif\" font-size=\"14.00\">S</text>\n",
              "</g>\n",
              "<!-- &#45;1697466977201002704&#45;&gt;&#45;8961844584122711694 -->\n",
              "<g id=\"edge10\" class=\"edge\">\n",
              "<title>&#45;1697466977201002704&#45;&gt;&#45;8961844584122711694</title>\n",
              "<path fill=\"none\" stroke=\"black\" stroke-width=\"0.5\" d=\"M39.5,-81.84C39.5,-76.34 39.5,-69.65 39.5,-64.14\"/>\n",
              "</g>\n",
              "<!-- &#45;1943613122238566971 -->\n",
              "<g id=\"node9\" class=\"node\">\n",
              "<title>&#45;1943613122238566971</title>\n",
              "<path fill=\"none\" stroke=\"black\" stroke-width=\"1.25\" d=\"M74.67,-64C74.67,-64 70.33,-64 70.33,-64 68.17,-64 66,-61.83 66,-59.67 66,-59.67 66,-45.33 66,-45.33 66,-43.17 68.17,-41 70.33,-41 70.33,-41 74.67,-41 74.67,-41 76.83,-41 79,-43.17 79,-45.33 79,-45.33 79,-59.67 79,-59.67 79,-61.83 76.83,-64 74.67,-64\"/>\n",
              "<text text-anchor=\"middle\" x=\"72.5\" y=\"-48.8\" font-family=\"Times,serif\" font-size=\"14.00\">)</text>\n",
              "</g>\n",
              "<!-- &#45;1697466977201002704&#45;&gt;&#45;1943613122238566971 -->\n",
              "<g id=\"edge11\" class=\"edge\">\n",
              "<title>&#45;1697466977201002704&#45;&gt;&#45;1943613122238566971</title>\n",
              "<path fill=\"none\" stroke=\"black\" stroke-width=\"0.5\" d=\"M47.83,-82.66C53.33,-76.16 60.45,-67.75 65.62,-61.63\"/>\n",
              "</g>\n",
              "<!-- 2396107936827179427&#45;&gt;&#45;8961844584122711694 -->\n",
              "<!-- &#45;8961844584122711694&#45;&gt;&#45;1943613122238566971 -->\n",
              "<!-- &#45;2568396494367534413 -->\n",
              "<g id=\"node10\" class=\"node\">\n",
              "<title>&#45;2568396494367534413</title>\n",
              "<path fill=\"none\" stroke=\"black\" stroke-width=\"0.25\" d=\"M42,-23C42,-23 37,-23 37,-23 34.5,-23 32,-20.5 32,-18 32,-18 32,-5 32,-5 32,-2.5 34.5,0 37,0 37,0 42,0 42,0 44.5,0 47,-2.5 47,-5 47,-5 47,-18 47,-18 47,-20.5 44.5,-23 42,-23\"/>\n",
              "<text text-anchor=\"middle\" x=\"39.5\" y=\"-7.8\" font-family=\"Times,serif\" font-size=\"14.00\">ε</text>\n",
              "</g>\n",
              "<!-- &#45;8961844584122711694&#45;&gt;&#45;2568396494367534413 -->\n",
              "<g id=\"edge14\" class=\"edge\">\n",
              "<title>&#45;8961844584122711694&#45;&gt;&#45;2568396494367534413</title>\n",
              "<path fill=\"none\" stroke=\"black\" stroke-width=\"0.5\" d=\"M39.5,-40.84C39.5,-35.34 39.5,-28.65 39.5,-23.14\"/>\n",
              "</g>\n",
              "</g>\n",
              "</svg>\n"
            ],
            "text/plain": [
              "ProductionGraph(S -> S S -> ( S ) S -> ( ( S ) ) S -> ( ( ) ) S -> ( ( ) ))"
            ]
          },
          "execution_count": 1,
          "metadata": {},
          "output_type": "execute_result"
        }
      ],
      "source": [
        "# l'albero \n",
        "\n",
        "ProductionGraph(deriv)"
      ]
    },
    {
      "cell_type": "markdown",
      "metadata": {},
      "source": [
        "Applicando la funzione `derivation_to_parsetree` si nota però un errore: sembra che da `)` derivi ϵ!"
      ]
    },
    {
      "cell_type": "code",
      "execution_count": null,
      "metadata": {},
      "outputs": [
        {
          "data": {
            "image/svg+xml": [
              "<?xml version=\"1.0\" encoding=\"UTF-8\" standalone=\"no\"?>\n",
              "<!DOCTYPE svg PUBLIC \"-//W3C//DTD SVG 1.1//EN\"\n",
              " \"http://www.w3.org/Graphics/SVG/1.1/DTD/svg11.dtd\">\n",
              "<!-- Generated by graphviz version 2.46.1 (20210213.1702)\n",
              " -->\n",
              "<!-- Pages: 1 -->\n",
              "<svg width=\"346pt\" height=\"270pt\"\n",
              " viewBox=\"0.00 0.00 346.00 270.00\" xmlns=\"http://www.w3.org/2000/svg\" xmlns:xlink=\"http://www.w3.org/1999/xlink\">\n",
              "<g id=\"graph0\" class=\"graph\" transform=\"scale(1 1) rotate(0) translate(4 266)\">\n",
              "<polygon fill=\"white\" stroke=\"transparent\" points=\"-4,4 -4,-266 342,-266 342,4 -4,4\"/>\n",
              "<!-- 4477978272 -->\n",
              "<g id=\"node1\" class=\"node\">\n",
              "<title>4477978272</title>\n",
              "<polygon fill=\"none\" stroke=\"black\" points=\"178,-243 178,-262 221,-262 221,-243 178,-243\"/>\n",
              "<text text-anchor=\"start\" x=\"181\" y=\"-249.4\" font-family=\"Times,serif\" font-size=\"12.00\">Symbol</text>\n",
              "<polygon fill=\"none\" stroke=\"black\" points=\"221,-243 221,-262 234,-262 234,-243 221,-243\"/>\n",
              "<text text-anchor=\"start\" x=\"224\" y=\"-249.4\" font-family=\"Times,serif\" font-size=\"12.00\">S</text>\n",
              "<polygon fill=\"none\" stroke=\"black\" points=\"178,-224 178,-243 221,-243 221,-224 178,-224\"/>\n",
              "<text text-anchor=\"start\" x=\"185.5\" y=\"-230.4\" font-family=\"Times,serif\" font-size=\"12.00\">nprod</text>\n",
              "<polygon fill=\"none\" stroke=\"black\" points=\"221,-224 221,-243 234,-243 234,-224 221,-224\"/>\n",
              "<text text-anchor=\"start\" x=\"224\" y=\"-230.4\" font-family=\"Times,serif\" font-size=\"12.00\">0</text>\n",
              "</g>\n",
              "<!-- 4477979280 -->\n",
              "<g id=\"node2\" class=\"node\">\n",
              "<title>4477979280</title>\n",
              "<polygon fill=\"none\" stroke=\"black\" points=\"136,-187 136,-206 179,-206 179,-187 136,-187\"/>\n",
              "<text text-anchor=\"start\" x=\"139\" y=\"-193.4\" font-family=\"Times,serif\" font-size=\"12.00\">Symbol</text>\n",
              "<polygon fill=\"none\" stroke=\"black\" points=\"179,-187 179,-206 192,-206 192,-187 179,-187\"/>\n",
              "<text text-anchor=\"start\" x=\"182\" y=\"-193.4\" font-family=\"Times,serif\" font-size=\"12.00\">S</text>\n",
              "<polygon fill=\"none\" stroke=\"black\" points=\"136,-168 136,-187 179,-187 179,-168 136,-168\"/>\n",
              "<text text-anchor=\"start\" x=\"143.5\" y=\"-174.4\" font-family=\"Times,serif\" font-size=\"12.00\">nprod</text>\n",
              "<polygon fill=\"none\" stroke=\"black\" points=\"179,-168 179,-187 192,-187 192,-168 179,-168\"/>\n",
              "<text text-anchor=\"start\" x=\"182\" y=\"-174.4\" font-family=\"Times,serif\" font-size=\"12.00\">1</text>\n",
              "</g>\n",
              "<!-- 4477978272&#45;&gt;4477979280 -->\n",
              "<g id=\"edge1\" class=\"edge\">\n",
              "<title>4477978272&#45;&gt;4477979280</title>\n",
              "<path fill=\"none\" stroke=\"black\" d=\"M191.78,-223.72C187.4,-218.09 182.58,-211.89 178.2,-206.26\"/>\n",
              "</g>\n",
              "<!-- 4477977552 -->\n",
              "<g id=\"node3\" class=\"node\">\n",
              "<title>4477977552</title>\n",
              "<polygon fill=\"none\" stroke=\"black\" points=\"210,-187 210,-206 253,-206 253,-187 210,-187\"/>\n",
              "<text text-anchor=\"start\" x=\"213\" y=\"-193.4\" font-family=\"Times,serif\" font-size=\"12.00\">Symbol</text>\n",
              "<polygon fill=\"none\" stroke=\"black\" points=\"253,-187 253,-206 286,-206 286,-187 253,-187\"/>\n",
              "<text text-anchor=\"start\" x=\"266\" y=\"-193.4\" font-family=\"Times,serif\" font-size=\"12.00\">S</text>\n",
              "<polygon fill=\"none\" stroke=\"black\" points=\"210,-168 210,-187 253,-187 253,-168 210,-168\"/>\n",
              "<text text-anchor=\"start\" x=\"217.5\" y=\"-174.4\" font-family=\"Times,serif\" font-size=\"12.00\">nprod</text>\n",
              "<polygon fill=\"none\" stroke=\"black\" points=\"253,-168 253,-187 286,-187 286,-168 253,-168\"/>\n",
              "<text text-anchor=\"start\" x=\"256\" y=\"-174.4\" font-family=\"Times,serif\" font-size=\"12.00\">None</text>\n",
              "</g>\n",
              "<!-- 4477978272&#45;&gt;4477977552 -->\n",
              "<g id=\"edge2\" class=\"edge\">\n",
              "<title>4477978272&#45;&gt;4477977552</title>\n",
              "<path fill=\"none\" stroke=\"black\" d=\"M220.22,-223.72C224.6,-218.09 229.42,-211.89 233.8,-206.26\"/>\n",
              "</g>\n",
              "<!-- 4477979280&#45;&gt;4477977552 -->\n",
              "<!-- 4477978368 -->\n",
              "<g id=\"node4\" class=\"node\">\n",
              "<title>4477978368</title>\n",
              "<polygon fill=\"none\" stroke=\"black\" points=\"42,-131 42,-150 85,-150 85,-131 42,-131\"/>\n",
              "<text text-anchor=\"start\" x=\"45\" y=\"-137.4\" font-family=\"Times,serif\" font-size=\"12.00\">Symbol</text>\n",
              "<polygon fill=\"none\" stroke=\"black\" points=\"85,-131 85,-150 118,-150 118,-131 85,-131\"/>\n",
              "<text text-anchor=\"start\" x=\"99.5\" y=\"-137.4\" font-family=\"Times,serif\" font-size=\"12.00\">(</text>\n",
              "<polygon fill=\"none\" stroke=\"black\" points=\"42,-112 42,-131 85,-131 85,-112 42,-112\"/>\n",
              "<text text-anchor=\"start\" x=\"49.5\" y=\"-118.4\" font-family=\"Times,serif\" font-size=\"12.00\">nprod</text>\n",
              "<polygon fill=\"none\" stroke=\"black\" points=\"85,-112 85,-131 118,-131 118,-112 85,-112\"/>\n",
              "<text text-anchor=\"start\" x=\"88\" y=\"-118.4\" font-family=\"Times,serif\" font-size=\"12.00\">None</text>\n",
              "</g>\n",
              "<!-- 4477979280&#45;&gt;4477978368 -->\n",
              "<g id=\"edge4\" class=\"edge\">\n",
              "<title>4477979280&#45;&gt;4477978368</title>\n",
              "<path fill=\"none\" stroke=\"black\" d=\"M135.56,-167.72C126.71,-162.03 116.96,-155.76 108.12,-150.08\"/>\n",
              "</g>\n",
              "<!-- 4477978896 -->\n",
              "<g id=\"node5\" class=\"node\">\n",
              "<title>4477978896</title>\n",
              "<polygon fill=\"none\" stroke=\"black\" points=\"136,-131 136,-150 179,-150 179,-131 136,-131\"/>\n",
              "<text text-anchor=\"start\" x=\"139\" y=\"-137.4\" font-family=\"Times,serif\" font-size=\"12.00\">Symbol</text>\n",
              "<polygon fill=\"none\" stroke=\"black\" points=\"179,-131 179,-150 192,-150 192,-131 179,-131\"/>\n",
              "<text text-anchor=\"start\" x=\"182\" y=\"-137.4\" font-family=\"Times,serif\" font-size=\"12.00\">S</text>\n",
              "<polygon fill=\"none\" stroke=\"black\" points=\"136,-112 136,-131 179,-131 179,-112 136,-112\"/>\n",
              "<text text-anchor=\"start\" x=\"143.5\" y=\"-118.4\" font-family=\"Times,serif\" font-size=\"12.00\">nprod</text>\n",
              "<polygon fill=\"none\" stroke=\"black\" points=\"179,-112 179,-131 192,-131 192,-112 179,-112\"/>\n",
              "<text text-anchor=\"start\" x=\"182\" y=\"-118.4\" font-family=\"Times,serif\" font-size=\"12.00\">1</text>\n",
              "</g>\n",
              "<!-- 4477979280&#45;&gt;4477978896 -->\n",
              "<g id=\"edge5\" class=\"edge\">\n",
              "<title>4477979280&#45;&gt;4477978896</title>\n",
              "<path fill=\"none\" stroke=\"black\" d=\"M164,-167.72C164,-162.09 164,-155.89 164,-150.26\"/>\n",
              "</g>\n",
              "<!-- 4477978944 -->\n",
              "<g id=\"node6\" class=\"node\">\n",
              "<title>4477978944</title>\n",
              "<polygon fill=\"none\" stroke=\"black\" points=\"210,-131 210,-150 253,-150 253,-131 210,-131\"/>\n",
              "<text text-anchor=\"start\" x=\"213\" y=\"-137.4\" font-family=\"Times,serif\" font-size=\"12.00\">Symbol</text>\n",
              "<polygon fill=\"none\" stroke=\"black\" points=\"253,-131 253,-150 266,-150 266,-131 253,-131\"/>\n",
              "<text text-anchor=\"start\" x=\"257.5\" y=\"-137.4\" font-family=\"Times,serif\" font-size=\"12.00\">)</text>\n",
              "<polygon fill=\"none\" stroke=\"black\" points=\"210,-112 210,-131 253,-131 253,-112 210,-112\"/>\n",
              "<text text-anchor=\"start\" x=\"217.5\" y=\"-118.4\" font-family=\"Times,serif\" font-size=\"12.00\">nprod</text>\n",
              "<polygon fill=\"none\" stroke=\"black\" points=\"253,-112 253,-131 266,-131 266,-112 253,-112\"/>\n",
              "<text text-anchor=\"start\" x=\"256\" y=\"-118.4\" font-family=\"Times,serif\" font-size=\"12.00\">2</text>\n",
              "</g>\n",
              "<!-- 4477979280&#45;&gt;4477978944 -->\n",
              "<g id=\"edge6\" class=\"edge\">\n",
              "<title>4477979280&#45;&gt;4477978944</title>\n",
              "<path fill=\"none\" stroke=\"black\" d=\"M189.05,-167.72C196.85,-162.03 205.44,-155.76 213.22,-150.08\"/>\n",
              "</g>\n",
              "<!-- 4477978368&#45;&gt;4477978896 -->\n",
              "<!-- 4477978896&#45;&gt;4477978944 -->\n",
              "<!-- 4477976832 -->\n",
              "<g id=\"node7\" class=\"node\">\n",
              "<title>4477976832</title>\n",
              "<polygon fill=\"none\" stroke=\"black\" points=\"0,-75 0,-94 43,-94 43,-75 0,-75\"/>\n",
              "<text text-anchor=\"start\" x=\"3\" y=\"-81.4\" font-family=\"Times,serif\" font-size=\"12.00\">Symbol</text>\n",
              "<polygon fill=\"none\" stroke=\"black\" points=\"43,-75 43,-94 76,-94 76,-75 43,-75\"/>\n",
              "<text text-anchor=\"start\" x=\"57.5\" y=\"-81.4\" font-family=\"Times,serif\" font-size=\"12.00\">(</text>\n",
              "<polygon fill=\"none\" stroke=\"black\" points=\"0,-56 0,-75 43,-75 43,-56 0,-56\"/>\n",
              "<text text-anchor=\"start\" x=\"7.5\" y=\"-62.4\" font-family=\"Times,serif\" font-size=\"12.00\">nprod</text>\n",
              "<polygon fill=\"none\" stroke=\"black\" points=\"43,-56 43,-75 76,-75 76,-56 43,-56\"/>\n",
              "<text text-anchor=\"start\" x=\"46\" y=\"-62.4\" font-family=\"Times,serif\" font-size=\"12.00\">None</text>\n",
              "</g>\n",
              "<!-- 4477978896&#45;&gt;4477976832 -->\n",
              "<g id=\"edge9\" class=\"edge\">\n",
              "<title>4477978896&#45;&gt;4477976832</title>\n",
              "<path fill=\"none\" stroke=\"black\" d=\"M135.81,-116.04C132.85,-114.65 129.87,-113.28 127,-112 110.55,-104.68 92.14,-97.13 76.35,-90.85\"/>\n",
              "</g>\n",
              "<!-- 4477980624 -->\n",
              "<g id=\"node8\" class=\"node\">\n",
              "<title>4477980624</title>\n",
              "<polygon fill=\"none\" stroke=\"black\" points=\"94,-75 94,-94 137,-94 137,-75 94,-75\"/>\n",
              "<text text-anchor=\"start\" x=\"97\" y=\"-81.4\" font-family=\"Times,serif\" font-size=\"12.00\">Symbol</text>\n",
              "<polygon fill=\"none\" stroke=\"black\" points=\"137,-75 137,-94 150,-94 150,-75 137,-75\"/>\n",
              "<text text-anchor=\"start\" x=\"140\" y=\"-81.4\" font-family=\"Times,serif\" font-size=\"12.00\">S</text>\n",
              "<polygon fill=\"none\" stroke=\"black\" points=\"94,-56 94,-75 137,-75 137,-56 94,-56\"/>\n",
              "<text text-anchor=\"start\" x=\"101.5\" y=\"-62.4\" font-family=\"Times,serif\" font-size=\"12.00\">nprod</text>\n",
              "<polygon fill=\"none\" stroke=\"black\" points=\"137,-56 137,-75 150,-75 150,-56 137,-56\"/>\n",
              "<text text-anchor=\"start\" x=\"140\" y=\"-62.4\" font-family=\"Times,serif\" font-size=\"12.00\">2</text>\n",
              "</g>\n",
              "<!-- 4477978896&#45;&gt;4477980624 -->\n",
              "<g id=\"edge10\" class=\"edge\">\n",
              "<title>4477978896&#45;&gt;4477980624</title>\n",
              "<path fill=\"none\" stroke=\"black\" d=\"M149.78,-111.72C145.4,-106.09 140.58,-99.89 136.2,-94.26\"/>\n",
              "</g>\n",
              "<!-- 4477978560 -->\n",
              "<g id=\"node9\" class=\"node\">\n",
              "<title>4477978560</title>\n",
              "<polygon fill=\"none\" stroke=\"black\" points=\"168,-75 168,-94 211,-94 211,-75 168,-75\"/>\n",
              "<text text-anchor=\"start\" x=\"171\" y=\"-81.4\" font-family=\"Times,serif\" font-size=\"12.00\">Symbol</text>\n",
              "<polygon fill=\"none\" stroke=\"black\" points=\"211,-75 211,-94 244,-94 244,-75 211,-75\"/>\n",
              "<text text-anchor=\"start\" x=\"225.5\" y=\"-81.4\" font-family=\"Times,serif\" font-size=\"12.00\">)</text>\n",
              "<polygon fill=\"none\" stroke=\"black\" points=\"168,-56 168,-75 211,-75 211,-56 168,-56\"/>\n",
              "<text text-anchor=\"start\" x=\"175.5\" y=\"-62.4\" font-family=\"Times,serif\" font-size=\"12.00\">nprod</text>\n",
              "<polygon fill=\"none\" stroke=\"black\" points=\"211,-56 211,-75 244,-75 244,-56 211,-56\"/>\n",
              "<text text-anchor=\"start\" x=\"214\" y=\"-62.4\" font-family=\"Times,serif\" font-size=\"12.00\">None</text>\n",
              "</g>\n",
              "<!-- 4477978896&#45;&gt;4477978560 -->\n",
              "<g id=\"edge11\" class=\"edge\">\n",
              "<title>4477978896&#45;&gt;4477978560</title>\n",
              "<path fill=\"none\" stroke=\"black\" d=\"M178.22,-111.72C182.6,-106.09 187.42,-99.89 191.8,-94.26\"/>\n",
              "</g>\n",
              "<!-- 4477978752 -->\n",
              "<g id=\"node11\" class=\"node\">\n",
              "<title>4477978752</title>\n",
              "<polygon fill=\"none\" stroke=\"black\" points=\"262,-75 262,-94 305,-94 305,-75 262,-75\"/>\n",
              "<text text-anchor=\"start\" x=\"265\" y=\"-81.4\" font-family=\"Times,serif\" font-size=\"12.00\">Symbol</text>\n",
              "<polygon fill=\"none\" stroke=\"black\" points=\"305,-75 305,-94 338,-94 338,-75 305,-75\"/>\n",
              "<text text-anchor=\"start\" x=\"318.5\" y=\"-81.4\" font-family=\"Times,serif\" font-size=\"12.00\">ε</text>\n",
              "<polygon fill=\"none\" stroke=\"black\" points=\"262,-56 262,-75 305,-75 305,-56 262,-56\"/>\n",
              "<text text-anchor=\"start\" x=\"269.5\" y=\"-62.4\" font-family=\"Times,serif\" font-size=\"12.00\">nprod</text>\n",
              "<polygon fill=\"none\" stroke=\"black\" points=\"305,-56 305,-75 338,-75 338,-56 305,-56\"/>\n",
              "<text text-anchor=\"start\" x=\"308\" y=\"-62.4\" font-family=\"Times,serif\" font-size=\"12.00\">None</text>\n",
              "</g>\n",
              "<!-- 4477978944&#45;&gt;4477978752 -->\n",
              "<g id=\"edge15\" class=\"edge\">\n",
              "<title>4477978944&#45;&gt;4477978752</title>\n",
              "<path fill=\"none\" stroke=\"black\" d=\"M258.99,-111.72C265.45,-106.09 272.57,-99.89 279.03,-94.26\"/>\n",
              "</g>\n",
              "<!-- 4477976832&#45;&gt;4477980624 -->\n",
              "<!-- 4477980624&#45;&gt;4477978560 -->\n",
              "<!-- 4477978992 -->\n",
              "<g id=\"node10\" class=\"node\">\n",
              "<title>4477978992</title>\n",
              "<polygon fill=\"none\" stroke=\"black\" points=\"84,-19 84,-38 127,-38 127,-19 84,-19\"/>\n",
              "<text text-anchor=\"start\" x=\"87\" y=\"-25.4\" font-family=\"Times,serif\" font-size=\"12.00\">Symbol</text>\n",
              "<polygon fill=\"none\" stroke=\"black\" points=\"127,-19 127,-38 160,-38 160,-19 127,-19\"/>\n",
              "<text text-anchor=\"start\" x=\"140.5\" y=\"-25.4\" font-family=\"Times,serif\" font-size=\"12.00\">ε</text>\n",
              "<polygon fill=\"none\" stroke=\"black\" points=\"84,0 84,-19 127,-19 127,0 84,0\"/>\n",
              "<text text-anchor=\"start\" x=\"91.5\" y=\"-6.4\" font-family=\"Times,serif\" font-size=\"12.00\">nprod</text>\n",
              "<polygon fill=\"none\" stroke=\"black\" points=\"127,0 127,-19 160,-19 160,0 127,0\"/>\n",
              "<text text-anchor=\"start\" x=\"130\" y=\"-6.4\" font-family=\"Times,serif\" font-size=\"12.00\">None</text>\n",
              "</g>\n",
              "<!-- 4477980624&#45;&gt;4477978992 -->\n",
              "<g id=\"edge14\" class=\"edge\">\n",
              "<title>4477980624&#45;&gt;4477978992</title>\n",
              "<path fill=\"none\" stroke=\"black\" d=\"M122,-55.72C122,-50.09 122,-43.89 122,-38.26\"/>\n",
              "</g>\n",
              "</g>\n",
              "</svg>\n"
            ],
            "text/plain": [
              "({'Symbol': 'S', 'nprod': 0}: ({'Symbol': 'S', 'nprod': 1}: ({'Symbol': '(', 'nprod': None}), ({'Symbol': 'S', 'nprod': 1}: ({'Symbol': '(', 'nprod': None}), ({'Symbol': 'S', 'nprod': 2}: ({'Symbol': 'ε', 'nprod': None})), ({'Symbol': ')', 'nprod': None})), ({'Symbol': ')', 'nprod': 2}: ({'Symbol': 'ε', 'nprod': None}))), ({'Symbol': 'S', 'nprod': None}))"
            ]
          },
          "execution_count": 1,
          "metadata": {},
          "output_type": "execute_result"
        }
      ],
      "source": [
        "Tree.from_lol(derivation_to_parsetree(deriv)) "
      ]
    }
  ],
  "metadata": {
    "kernelspec": {
      "display_name": "Python 3",
      "language": "python",
      "name": "python3"
    },
    "language_info": {
      "codemirror_mode": {
        "name": "ipython",
        "version": 3
      },
      "file_extension": ".py",
      "mimetype": "text/x-python",
      "name": "python",
      "nbconvert_exporter": "python",
      "pygments_lexer": "ipython3"
    }
  },
  "nbformat": 4,
  "nbformat_minor": 4
}
