{
  "cells": [
    {
      "cell_type": "markdown",
      "metadata": {},
      "source": [
        "# Grammatiche e derivazioni"
      ]
    },
    {
      "cell_type": "code",
      "execution_count": null,
      "metadata": {},
      "outputs": [],
      "source": [
        "from liblet import Grammar, Derivation, ProductionGraph, iter2table"
      ]
    },
    {
      "cell_type": "markdown",
      "metadata": {},
      "source": [
        "## Tipo 0"
      ]
    },
    {
      "cell_type": "code",
      "execution_count": null,
      "metadata": {},
      "outputs": [],
      "source": [
        "# fig 2.3, pag. 14\n",
        "\n",
        "grammar = \"\"\"\n",
        "Sentence -> Name | List End\n",
        "List -> Name | Name , List\n",
        "Name -> tom | dick | harry\n",
        ", Name End -> and Name\n",
        "\"\"\""
      ]
    },
    {
      "cell_type": "markdown",
      "metadata": {},
      "source": [
        "Tramite [liblet](https://liblet.readthedocs.io/) si può costruire una [grammatica](https://liblet.readthedocs.io/en/latest/api.html#liblet.grammar.Grammar) a partire da una descrizione testuale tramite [Grammar.from_string](https://liblet.readthedocs.io/en/latest/api.html#liblet.grammar.Grammar.from_string)"
      ]
    },
    {
      "cell_type": "code",
      "execution_count": null,
      "metadata": {},
      "outputs": [
        {
          "data": {
            "text/plain": [
              "Grammar(N={End, List, Name, Sentence}, T={,, and, dick, harry, tom}, P=(Sentence -> Name, Sentence -> List End, List -> Name, List -> Name , List, Name -> tom, Name -> dick, Name -> harry, , Name End -> and Name), S=Sentence)"
            ]
          },
          "execution_count": 3,
          "metadata": {},
          "output_type": "execute_result"
        }
      ],
      "source": [
        "G = Grammar.from_string(grammar, False)\n",
        "G"
      ]
    },
    {
      "cell_type": "code",
      "execution_count": null,
      "metadata": {},
      "outputs": [
        {
          "data": {
            "text/html": [
              "<table class=\"table-bordered\"><tr><th style=\"text-align:left\">0<td style=\"text-align:left\"><pre>Sentence -&gt; Name</pre>\n",
              "<tr><th style=\"text-align:left\">1<td style=\"text-align:left\"><pre>Sentence -&gt; List End</pre>\n",
              "<tr><th style=\"text-align:left\">2<td style=\"text-align:left\"><pre>List -&gt; Name</pre>\n",
              "<tr><th style=\"text-align:left\">3<td style=\"text-align:left\"><pre>List -&gt; Name , List</pre>\n",
              "<tr><th style=\"text-align:left\">4<td style=\"text-align:left\"><pre>Name -&gt; tom</pre>\n",
              "<tr><th style=\"text-align:left\">5<td style=\"text-align:left\"><pre>Name -&gt; dick</pre>\n",
              "<tr><th style=\"text-align:left\">6<td style=\"text-align:left\"><pre>Name -&gt; harry</pre>\n",
              "<tr><th style=\"text-align:left\">7<td style=\"text-align:left\"><pre>, Name End -&gt; and Name</pre></table>"
            ],
            "text/plain": [
              "<IPython.core.display.HTML object>"
            ]
          },
          "execution_count": 4,
          "metadata": {},
          "output_type": "execute_result"
        }
      ],
      "source": [
        "# Elenco (numerato) delle produzioni\n",
        "\n",
        "iter2table(G.P)"
      ]
    },
    {
      "cell_type": "markdown",
      "metadata": {},
      "source": [
        "Fissata la grammatica, si può costruire una [derivazione](https://liblet.readthedocs.io/en/latest/api.html#liblet.grammar.Derivation) specificandone in passi, con [Derivation.step](https://liblet.readthedocs.io/en/latest/api.html#liblet.grammar.Derivation.step)"
      ]
    },
    {
      "cell_type": "code",
      "execution_count": null,
      "metadata": {},
      "outputs": [
        {
          "data": {
            "text/plain": [
              "Sentence -> List End -> Name , List End -> Name , Name , List End -> Name , Name , Name End -> Name , Name and Name -> tom , Name and Name -> tom , dick and Name -> tom , dick and harry"
            ]
          },
          "execution_count": 5,
          "metadata": {},
          "output_type": "execute_result"
        }
      ],
      "source": [
        "# costruzione di una derivazione da un elenco di passi\n",
        "\n",
        "d = Derivation(G).step(1, 0).step(3, 0).step(3, 2).step(2, 4).step(7, 3).step(4, 0).step(5, 2).step(6, 4)\n",
        "d"
      ]
    },
    {
      "cell_type": "markdown",
      "metadata": {},
      "source": [
        "Sebbene la rappresentazione testuale della derivazione sia piuttosto chiara, può aiutare averne una rappresentazione garfica, tramite un [ProductionGraph](https://liblet.readthedocs.io/en/latest/api.html#liblet.display.ProductionGraph)"
      ]
    },
    {
      "cell_type": "code",
      "execution_count": null,
      "metadata": {},
      "outputs": [
        {
          "data": {
            "image/svg+xml": [
              "<?xml version=\"1.0\" encoding=\"UTF-8\" standalone=\"no\"?>\n",
              "<!DOCTYPE svg PUBLIC \"-//W3C//DTD SVG 1.1//EN\"\n",
              " \"http://www.w3.org/Graphics/SVG/1.1/DTD/svg11.dtd\">\n",
              "<!-- Generated by graphviz version 2.43.0 (0)\n",
              " -->\n",
              "<!-- Title: %3 Pages: 1 -->\n",
              "<svg width=\"320pt\" height=\"373pt\"\n",
              " viewBox=\"0.00 0.00 320.47 373.04\" xmlns=\"http://www.w3.org/2000/svg\" xmlns:xlink=\"http://www.w3.org/1999/xlink\">\n",
              "<g id=\"graph0\" class=\"graph\" transform=\"scale(1 1) rotate(0) translate(4 369.04)\">\n",
              "<title>%3</title>\n",
              "<polygon fill=\"white\" stroke=\"transparent\" points=\"-4,4 -4,-369.04 316.47,-369.04 316.47,4 -4,4\"/>\n",
              "<!-- &#45;7977705045150259501 -->\n",
              "<!-- 7050259727897361317 -->\n",
              "<!-- &#45;7977705045150259501&#45;&gt;7050259727897361317 -->\n",
              "<!-- 3728324753774916335 -->\n",
              "<g id=\"node2\" class=\"node\">\n",
              "<title>3728324753774916335</title>\n",
              "<path fill=\"none\" stroke=\"black\" stroke-width=\"0.25\" d=\"M245.46,-365.04C245.46,-365.04 202.06,-365.04 202.06,-365.04 198.39,-365.04 194.73,-361.37 194.73,-357.71 194.73,-357.71 194.73,-350.37 194.73,-350.37 194.73,-346.71 198.39,-343.04 202.06,-343.04 202.06,-343.04 245.46,-343.04 245.46,-343.04 249.13,-343.04 252.79,-346.71 252.79,-350.37 252.79,-350.37 252.79,-357.71 252.79,-357.71 252.79,-361.37 249.13,-365.04 245.46,-365.04\"/>\n",
              "<text text-anchor=\"middle\" x=\"223.76\" y=\"-349.84\" font-family=\"Times,serif\" font-size=\"14.00\">Sentence</text>\n",
              "</g>\n",
              "<!-- &#45;6055948801706975458 -->\n",
              "<g id=\"node4\" class=\"node\">\n",
              "<title>&#45;6055948801706975458</title>\n",
              "<path fill=\"none\" stroke=\"black\" stroke-width=\"0.25\" d=\"M207.21,-325.04C207.21,-325.04 192.31,-325.04 192.31,-325.04 188.65,-325.04 184.98,-321.37 184.98,-317.71 184.98,-317.71 184.98,-310.37 184.98,-310.37 184.98,-306.71 188.65,-303.04 192.31,-303.04 192.31,-303.04 207.21,-303.04 207.21,-303.04 210.87,-303.04 214.54,-306.71 214.54,-310.37 214.54,-310.37 214.54,-317.71 214.54,-317.71 214.54,-321.37 210.87,-325.04 207.21,-325.04\"/>\n",
              "<text text-anchor=\"middle\" x=\"199.76\" y=\"-309.84\" font-family=\"Times,serif\" font-size=\"14.00\">List</text>\n",
              "</g>\n",
              "<!-- 3728324753774916335&#45;&gt;&#45;6055948801706975458 -->\n",
              "<g id=\"edge2\" class=\"edge\">\n",
              "<title>3728324753774916335&#45;&gt;&#45;6055948801706975458</title>\n",
              "<path fill=\"none\" stroke=\"black\" stroke-width=\"0.5\" d=\"M217.2,-342.66C213.76,-337.21 209.56,-330.56 206.14,-325.15\"/>\n",
              "</g>\n",
              "<!-- 2315009048036797812 -->\n",
              "<g id=\"node5\" class=\"node\">\n",
              "<title>2315009048036797812</title>\n",
              "<path fill=\"none\" stroke=\"black\" stroke-width=\"0.25\" d=\"M255.48,-325.04C255.48,-325.04 240.04,-325.04 240.04,-325.04 236.37,-325.04 232.7,-321.37 232.7,-317.71 232.7,-317.71 232.7,-310.37 232.7,-310.37 232.7,-306.71 236.37,-303.04 240.04,-303.04 240.04,-303.04 255.48,-303.04 255.48,-303.04 259.15,-303.04 262.81,-306.71 262.81,-310.37 262.81,-310.37 262.81,-317.71 262.81,-317.71 262.81,-321.37 259.15,-325.04 255.48,-325.04\"/>\n",
              "<text text-anchor=\"middle\" x=\"247.76\" y=\"-309.84\" font-family=\"Times,serif\" font-size=\"14.00\">End</text>\n",
              "</g>\n",
              "<!-- 3728324753774916335&#45;&gt;2315009048036797812 -->\n",
              "<g id=\"edge3\" class=\"edge\">\n",
              "<title>3728324753774916335&#45;&gt;2315009048036797812</title>\n",
              "<path fill=\"none\" stroke=\"black\" stroke-width=\"0.5\" d=\"M230.32,-342.66C233.76,-337.21 237.96,-330.56 241.37,-325.15\"/>\n",
              "</g>\n",
              "<!-- &#45;8885402065427241549 -->\n",
              "<!-- 7050259727897361317&#45;&gt;&#45;8885402065427241549 -->\n",
              "<!-- &#45;6055948801706975458&#45;&gt;2315009048036797812 -->\n",
              "<!-- &#45;6027499516736966655 -->\n",
              "<g id=\"node7\" class=\"node\">\n",
              "<title>&#45;6027499516736966655</title>\n",
              "<path fill=\"none\" stroke=\"black\" stroke-width=\"0.25\" d=\"M150.36,-285.04C150.36,-285.04 123.16,-285.04 123.16,-285.04 119.5,-285.04 115.83,-281.37 115.83,-277.71 115.83,-277.71 115.83,-270.37 115.83,-270.37 115.83,-266.71 119.5,-263.04 123.16,-263.04 123.16,-263.04 150.36,-263.04 150.36,-263.04 154.02,-263.04 157.69,-266.71 157.69,-270.37 157.69,-270.37 157.69,-277.71 157.69,-277.71 157.69,-281.37 154.02,-285.04 150.36,-285.04\"/>\n",
              "<text text-anchor=\"middle\" x=\"136.76\" y=\"-269.84\" font-family=\"Times,serif\" font-size=\"14.00\">Name</text>\n",
              "</g>\n",
              "<!-- &#45;6055948801706975458&#45;&gt;&#45;6027499516736966655 -->\n",
              "<g id=\"edge6\" class=\"edge\">\n",
              "<title>&#45;6055948801706975458&#45;&gt;&#45;6027499516736966655</title>\n",
              "<path fill=\"none\" stroke=\"black\" stroke-width=\"0.5\" d=\"M184.83,-304.03C175.37,-298.33 163.12,-290.94 153.36,-285.05\"/>\n",
              "</g>\n",
              "<!-- &#45;2899111444447145385 -->\n",
              "<g id=\"node8\" class=\"node\">\n",
              "<title>&#45;2899111444447145385</title>\n",
              "<path fill=\"none\" stroke=\"black\" stroke-width=\"1.25\" d=\"M182.6,-285.04C182.6,-285.04 178.92,-285.04 178.92,-285.04 177.09,-285.04 175.25,-283.2 175.25,-281.37 175.25,-281.37 175.25,-266.71 175.25,-266.71 175.25,-264.88 177.09,-263.04 178.92,-263.04 178.92,-263.04 182.6,-263.04 182.6,-263.04 184.43,-263.04 186.27,-264.88 186.27,-266.71 186.27,-266.71 186.27,-281.37 186.27,-281.37 186.27,-283.2 184.43,-285.04 182.6,-285.04\"/>\n",
              "<text text-anchor=\"middle\" x=\"180.76\" y=\"-269.84\" font-family=\"Times,serif\" font-size=\"14.00\">,</text>\n",
              "</g>\n",
              "<!-- &#45;6055948801706975458&#45;&gt;&#45;2899111444447145385 -->\n",
              "<g id=\"edge7\" class=\"edge\">\n",
              "<title>&#45;6055948801706975458&#45;&gt;&#45;2899111444447145385</title>\n",
              "<path fill=\"none\" stroke=\"black\" stroke-width=\"0.5\" d=\"M194.57,-302.66C191.84,-297.21 188.52,-290.56 185.81,-285.15\"/>\n",
              "</g>\n",
              "<!-- &#45;6055947540512306733 -->\n",
              "<g id=\"node9\" class=\"node\">\n",
              "<title>&#45;6055947540512306733</title>\n",
              "<path fill=\"none\" stroke=\"black\" stroke-width=\"0.25\" d=\"M227.21,-285.04C227.21,-285.04 212.31,-285.04 212.31,-285.04 208.65,-285.04 204.98,-281.37 204.98,-277.71 204.98,-277.71 204.98,-270.37 204.98,-270.37 204.98,-266.71 208.65,-263.04 212.31,-263.04 212.31,-263.04 227.21,-263.04 227.21,-263.04 230.87,-263.04 234.54,-266.71 234.54,-270.37 234.54,-270.37 234.54,-277.71 234.54,-277.71 234.54,-281.37 230.87,-285.04 227.21,-285.04\"/>\n",
              "<text text-anchor=\"middle\" x=\"219.76\" y=\"-269.84\" font-family=\"Times,serif\" font-size=\"14.00\">List</text>\n",
              "</g>\n",
              "<!-- &#45;6055948801706975458&#45;&gt;&#45;6055947540512306733 -->\n",
              "<g id=\"edge8\" class=\"edge\">\n",
              "<title>&#45;6055948801706975458&#45;&gt;&#45;6055947540512306733</title>\n",
              "<path fill=\"none\" stroke=\"black\" stroke-width=\"0.5\" d=\"M205.22,-302.66C208.09,-297.21 211.59,-290.56 214.44,-285.15\"/>\n",
              "</g>\n",
              "<!-- &#45;452691832485907630 -->\n",
              "<g id=\"node19\" class=\"node\">\n",
              "<title>&#45;452691832485907630</title>\n",
              "<ellipse fill=\"black\" stroke=\"black\" cx=\"260.76\" cy=\"-162.52\" rx=\"2.52\" ry=\"2.52\"/>\n",
              "</g>\n",
              "<!-- 2315009048036797812&#45;&gt;&#45;452691832485907630 -->\n",
              "<g id=\"edge22\" class=\"edge\">\n",
              "<title>2315009048036797812&#45;&gt;&#45;452691832485907630</title>\n",
              "<path fill=\"none\" stroke=\"black\" stroke-width=\"0.5\" d=\"M254.16,-302.84C262.01,-289.88 275.22,-266.6 282.76,-245.04 288.74,-227.93 288.97,-223.08 290.76,-205.04 291.72,-195.31 295.42,-191.63 290.76,-183.04 284.6,-171.68 268.64,-165.89 262.88,-164.12\"/>\n",
              "</g>\n",
              "<!-- 7780850283503773565 -->\n",
              "<!-- &#45;8885402065427241549&#45;&gt;7780850283503773565 -->\n",
              "<!-- &#45;6027499516736966655&#45;&gt;&#45;2899111444447145385 -->\n",
              "<!-- &#45;511455767959845354 -->\n",
              "<g id=\"node21\" class=\"node\">\n",
              "<title>&#45;511455767959845354</title>\n",
              "<path fill=\"none\" stroke=\"black\" stroke-width=\"1.25\" d=\"M134.21,-102C134.21,-102 119.31,-102 119.31,-102 115.65,-102 111.98,-98.33 111.98,-94.67 111.98,-94.67 111.98,-87.33 111.98,-87.33 111.98,-83.67 115.65,-80 119.31,-80 119.31,-80 134.21,-80 134.21,-80 137.87,-80 141.54,-83.67 141.54,-87.33 141.54,-87.33 141.54,-94.67 141.54,-94.67 141.54,-98.33 137.87,-102 134.21,-102\"/>\n",
              "<text text-anchor=\"middle\" x=\"126.76\" y=\"-86.8\" font-family=\"Times,serif\" font-size=\"14.00\">tom</text>\n",
              "</g>\n",
              "<!-- &#45;6027499516736966655&#45;&gt;&#45;511455767959845354 -->\n",
              "<g id=\"edge27\" class=\"edge\">\n",
              "<title>&#45;6027499516736966655&#45;&gt;&#45;511455767959845354</title>\n",
              "<path fill=\"none\" stroke=\"black\" stroke-width=\"0.5\" d=\"M134.64,-263C131.7,-248.19 126.76,-219.61 126.76,-195.04 126.76,-195.04 126.76,-195.04 126.76,-161.52 126.76,-140.52 126.76,-115.95 126.76,-102.36\"/>\n",
              "</g>\n",
              "<!-- &#45;2899111444447145385&#45;&gt;&#45;6055947540512306733 -->\n",
              "<!-- &#45;6027498255539967832 -->\n",
              "<g id=\"node11\" class=\"node\">\n",
              "<title>&#45;6027498255539967832</title>\n",
              "<path fill=\"none\" stroke=\"black\" stroke-width=\"0.25\" d=\"M189.36,-245.04C189.36,-245.04 162.16,-245.04 162.16,-245.04 158.5,-245.04 154.83,-241.37 154.83,-237.71 154.83,-237.71 154.83,-230.37 154.83,-230.37 154.83,-226.71 158.5,-223.04 162.16,-223.04 162.16,-223.04 189.36,-223.04 189.36,-223.04 193.02,-223.04 196.69,-226.71 196.69,-230.37 196.69,-230.37 196.69,-237.71 196.69,-237.71 196.69,-241.37 193.02,-245.04 189.36,-245.04\"/>\n",
              "<text text-anchor=\"middle\" x=\"175.76\" y=\"-229.84\" font-family=\"Times,serif\" font-size=\"14.00\">Name</text>\n",
              "</g>\n",
              "<!-- &#45;6055947540512306733&#45;&gt;&#45;6027498255539967832 -->\n",
              "<g id=\"edge12\" class=\"edge\">\n",
              "<title>&#45;6055947540512306733&#45;&gt;&#45;6027498255539967832</title>\n",
              "<path fill=\"none\" stroke=\"black\" stroke-width=\"0.5\" d=\"M207.74,-262.66C201.43,-257.21 193.73,-250.56 187.46,-245.15\"/>\n",
              "</g>\n",
              "<!-- &#45;2899112705641814110 -->\n",
              "<g id=\"node12\" class=\"node\">\n",
              "<title>&#45;2899112705641814110</title>\n",
              "<path fill=\"none\" stroke=\"black\" stroke-width=\"0.25\" d=\"M221.6,-245.04C221.6,-245.04 217.92,-245.04 217.92,-245.04 216.09,-245.04 214.25,-243.2 214.25,-241.37 214.25,-241.37 214.25,-226.71 214.25,-226.71 214.25,-224.88 216.09,-223.04 217.92,-223.04 217.92,-223.04 221.6,-223.04 221.6,-223.04 223.43,-223.04 225.27,-224.88 225.27,-226.71 225.27,-226.71 225.27,-241.37 225.27,-241.37 225.27,-243.2 223.43,-245.04 221.6,-245.04\"/>\n",
              "<text text-anchor=\"middle\" x=\"219.76\" y=\"-229.84\" font-family=\"Times,serif\" font-size=\"14.00\">,</text>\n",
              "</g>\n",
              "<!-- &#45;6055947540512306733&#45;&gt;&#45;2899112705641814110 -->\n",
              "<g id=\"edge13\" class=\"edge\">\n",
              "<title>&#45;6055947540512306733&#45;&gt;&#45;2899112705641814110</title>\n",
              "<path fill=\"none\" stroke=\"black\" stroke-width=\"0.5\" d=\"M219.76,-262.66C219.76,-257.21 219.76,-250.56 219.76,-245.15\"/>\n",
              "</g>\n",
              "<!-- &#45;6055946279310647714 -->\n",
              "<g id=\"node13\" class=\"node\">\n",
              "<title>&#45;6055946279310647714</title>\n",
              "<path fill=\"none\" stroke=\"black\" stroke-width=\"0.25\" d=\"M266.21,-245.04C266.21,-245.04 251.31,-245.04 251.31,-245.04 247.65,-245.04 243.98,-241.37 243.98,-237.71 243.98,-237.71 243.98,-230.37 243.98,-230.37 243.98,-226.71 247.65,-223.04 251.31,-223.04 251.31,-223.04 266.21,-223.04 266.21,-223.04 269.87,-223.04 273.54,-226.71 273.54,-230.37 273.54,-230.37 273.54,-237.71 273.54,-237.71 273.54,-241.37 269.87,-245.04 266.21,-245.04\"/>\n",
              "<text text-anchor=\"middle\" x=\"258.76\" y=\"-229.84\" font-family=\"Times,serif\" font-size=\"14.00\">List</text>\n",
              "</g>\n",
              "<!-- &#45;6055947540512306733&#45;&gt;&#45;6055946279310647714 -->\n",
              "<g id=\"edge14\" class=\"edge\">\n",
              "<title>&#45;6055947540512306733&#45;&gt;&#45;6055946279310647714</title>\n",
              "<path fill=\"none\" stroke=\"black\" stroke-width=\"0.5\" d=\"M230.42,-262.66C236.01,-257.21 242.83,-250.56 248.38,-245.15\"/>\n",
              "</g>\n",
              "<!-- 7727201901292475466 -->\n",
              "<!-- 7780850283503773565&#45;&gt;7727201901292475466 -->\n",
              "<!-- &#45;6027498255539967832&#45;&gt;&#45;2899112705641814110 -->\n",
              "<!-- &#45;3107841061559700808 -->\n",
              "<g id=\"node23\" class=\"node\">\n",
              "<title>&#45;3107841061559700808</title>\n",
              "<path fill=\"none\" stroke=\"black\" stroke-width=\"1.25\" d=\"M182.53,-62C182.53,-62 164.99,-62 164.99,-62 161.32,-62 157.66,-58.33 157.66,-54.67 157.66,-54.67 157.66,-47.33 157.66,-47.33 157.66,-43.67 161.32,-40 164.99,-40 164.99,-40 182.53,-40 182.53,-40 186.2,-40 189.86,-43.67 189.86,-47.33 189.86,-47.33 189.86,-54.67 189.86,-54.67 189.86,-58.33 186.2,-62 182.53,-62\"/>\n",
              "<text text-anchor=\"middle\" x=\"173.76\" y=\"-46.8\" font-family=\"Times,serif\" font-size=\"14.00\">dick</text>\n",
              "</g>\n",
              "<!-- &#45;6027498255539967832&#45;&gt;&#45;3107841061559700808 -->\n",
              "<g id=\"edge29\" class=\"edge\">\n",
              "<title>&#45;6027498255539967832&#45;&gt;&#45;3107841061559700808</title>\n",
              "<path fill=\"none\" stroke=\"black\" stroke-width=\"0.5\" d=\"M175.27,-222.68C174.68,-209.1 173.76,-184.53 173.76,-163.52 173.76,-163.52 173.76,-163.52 173.76,-130 173.76,-105.62 173.76,-76.97 173.76,-62.1\"/>\n",
              "</g>\n",
              "<!-- &#45;2899112705641814110&#45;&gt;&#45;6055946279310647714 -->\n",
              "<!-- &#45;2899112705641814110&#45;&gt;&#45;452691832485907630 -->\n",
              "<g id=\"edge20\" class=\"edge\">\n",
              "<title>&#45;2899112705641814110&#45;&gt;&#45;452691832485907630</title>\n",
              "<path fill=\"none\" stroke=\"black\" stroke-width=\"0.5\" d=\"M219.79,-222.95C220.28,-212.18 222.47,-195.03 230.76,-183.04 238.11,-172.41 253.32,-166.17 258.77,-164.2\"/>\n",
              "</g>\n",
              "<!-- &#45;6027496994342969009 -->\n",
              "<g id=\"node15\" class=\"node\">\n",
              "<title>&#45;6027496994342969009</title>\n",
              "<path fill=\"none\" stroke=\"black\" stroke-width=\"0.25\" d=\"M274.36,-205.04C274.36,-205.04 247.16,-205.04 247.16,-205.04 243.5,-205.04 239.83,-201.37 239.83,-197.71 239.83,-197.71 239.83,-190.37 239.83,-190.37 239.83,-186.71 243.5,-183.04 247.16,-183.04 247.16,-183.04 274.36,-183.04 274.36,-183.04 278.02,-183.04 281.69,-186.71 281.69,-190.37 281.69,-190.37 281.69,-197.71 281.69,-197.71 281.69,-201.37 278.02,-205.04 274.36,-205.04\"/>\n",
              "<text text-anchor=\"middle\" x=\"260.76\" y=\"-189.84\" font-family=\"Times,serif\" font-size=\"14.00\">Name</text>\n",
              "</g>\n",
              "<!-- &#45;6055946279310647714&#45;&gt;&#45;6027496994342969009 -->\n",
              "<g id=\"edge18\" class=\"edge\">\n",
              "<title>&#45;6055946279310647714&#45;&gt;&#45;6027496994342969009</title>\n",
              "<path fill=\"none\" stroke=\"black\" stroke-width=\"0.5\" d=\"M259.31,-222.66C259.59,-217.21 259.94,-210.56 260.23,-205.15\"/>\n",
              "</g>\n",
              "<!-- &#45;2432185530826791984 -->\n",
              "<!-- 7727201901292475466&#45;&gt;&#45;2432185530826791984 -->\n",
              "<!-- &#45;6027496994342969009&#45;&gt;&#45;452691832485907630 -->\n",
              "<g id=\"edge21\" class=\"edge\">\n",
              "<title>&#45;6027496994342969009&#45;&gt;&#45;452691832485907630</title>\n",
              "<path fill=\"none\" stroke=\"black\" stroke-width=\"0.5\" d=\"M260.76,-182.72C260.76,-176.33 260.76,-168.73 260.76,-165.32\"/>\n",
              "</g>\n",
              "<!-- 2013346610825895191 -->\n",
              "<!-- &#45;2432185530826791984&#45;&gt;2013346610825895191 -->\n",
              "<!-- &#45;667837060653761786 -->\n",
              "<g id=\"node17\" class=\"node\">\n",
              "<title>&#45;667837060653761786</title>\n",
              "<path fill=\"none\" stroke=\"black\" stroke-width=\"1.25\" d=\"M245.64,-142C245.64,-142 231.88,-142 231.88,-142 228.21,-142 224.54,-138.33 224.54,-134.67 224.54,-134.67 224.54,-127.33 224.54,-127.33 224.54,-123.67 228.21,-120 231.88,-120 231.88,-120 245.64,-120 245.64,-120 249.31,-120 252.97,-123.67 252.97,-127.33 252.97,-127.33 252.97,-134.67 252.97,-134.67 252.97,-138.33 249.31,-142 245.64,-142\"/>\n",
              "<text text-anchor=\"middle\" x=\"238.76\" y=\"-126.8\" font-family=\"Times,serif\" font-size=\"14.00\">and</text>\n",
              "</g>\n",
              "<!-- &#45;6027495733147135235 -->\n",
              "<g id=\"node18\" class=\"node\">\n",
              "<title>&#45;6027495733147135235</title>\n",
              "<path fill=\"none\" stroke=\"black\" stroke-width=\"0.25\" d=\"M305.36,-142C305.36,-142 278.16,-142 278.16,-142 274.5,-142 270.83,-138.33 270.83,-134.67 270.83,-134.67 270.83,-127.33 270.83,-127.33 270.83,-123.67 274.5,-120 278.16,-120 278.16,-120 305.36,-120 305.36,-120 309.02,-120 312.69,-123.67 312.69,-127.33 312.69,-127.33 312.69,-134.67 312.69,-134.67 312.69,-138.33 309.02,-142 305.36,-142\"/>\n",
              "<text text-anchor=\"middle\" x=\"291.76\" y=\"-126.8\" font-family=\"Times,serif\" font-size=\"14.00\">Name</text>\n",
              "</g>\n",
              "<!-- &#45;667837060653761786&#45;&gt;&#45;6027495733147135235 -->\n",
              "<!-- &#45;835730481985082579 -->\n",
              "<g id=\"node25\" class=\"node\">\n",
              "<title>&#45;835730481985082579</title>\n",
              "<path fill=\"none\" stroke=\"black\" stroke-width=\"1.25\" d=\"M302.97,-22C302.97,-22 280.55,-22 280.55,-22 276.88,-22 273.22,-18.33 273.22,-14.67 273.22,-14.67 273.22,-7.33 273.22,-7.33 273.22,-3.67 276.88,0 280.55,0 280.55,0 302.97,0 302.97,0 306.63,0 310.3,-3.67 310.3,-7.33 310.3,-7.33 310.3,-14.67 310.3,-14.67 310.3,-18.33 306.63,-22 302.97,-22\"/>\n",
              "<text text-anchor=\"middle\" x=\"291.76\" y=\"-6.8\" font-family=\"Times,serif\" font-size=\"14.00\">harry</text>\n",
              "</g>\n",
              "<!-- &#45;6027495733147135235&#45;&gt;&#45;835730481985082579 -->\n",
              "<g id=\"edge31\" class=\"edge\">\n",
              "<title>&#45;6027495733147135235&#45;&gt;&#45;835730481985082579</title>\n",
              "<path fill=\"none\" stroke=\"black\" stroke-width=\"0.5\" d=\"M291.76,-119.94C291.76,-97.65 291.76,-44.31 291.76,-22.04\"/>\n",
              "</g>\n",
              "<!-- &#45;452691832485907630&#45;&gt;&#45;667837060653761786 -->\n",
              "<g id=\"edge23\" class=\"edge\">\n",
              "<title>&#45;452691832485907630&#45;&gt;&#45;667837060653761786</title>\n",
              "<path fill=\"none\" stroke=\"black\" stroke-width=\"0.5\" d=\"M259.58,-159.93C257.11,-156.63 251.26,-148.77 246.38,-142.23\"/>\n",
              "</g>\n",
              "<!-- &#45;452691832485907630&#45;&gt;&#45;6027495733147135235 -->\n",
              "<g id=\"edge24\" class=\"edge\">\n",
              "<title>&#45;452691832485907630&#45;&gt;&#45;6027495733147135235</title>\n",
              "<path fill=\"none\" stroke=\"black\" stroke-width=\"0.5\" d=\"M262.09,-160.25C265.34,-157.16 273.9,-149 281,-142.24\"/>\n",
              "</g>\n",
              "<!-- &#45;8364674515673393457 -->\n",
              "<!-- 2013346610825895191&#45;&gt;&#45;8364674515673393457 -->\n",
              "<!-- &#45;5510907367115846924 -->\n",
              "<!-- &#45;8364674515673393457&#45;&gt;&#45;5510907367115846924 -->\n",
              "</g>\n",
              "</svg>\n"
            ],
            "text/plain": [
              "ProductionGraph(Sentence -> List End -> Name , List End -> Name , Name , List End -> Name , Name , Name End -> Name , Name and Name -> tom , Name and Name -> tom , dick and Name -> tom , dick and harry)"
            ]
          },
          "execution_count": 6,
          "metadata": {},
          "output_type": "execute_result"
        }
      ],
      "source": [
        "ProductionGraph(d)"
      ]
    }
  ],
  "metadata": {
    "kernelspec": {
      "display_name": "Python 3",
      "language": "python",
      "name": "python3"
    },
    "language_info": {
      "codemirror_mode": {
        "name": "ipython",
        "version": 3
      },
      "file_extension": ".py",
      "mimetype": "text/x-python",
      "name": "python",
      "nbconvert_exporter": "python",
      "pygments_lexer": "ipython3"
    }
  },
  "nbformat": 4,
  "nbformat_minor": 4
}
