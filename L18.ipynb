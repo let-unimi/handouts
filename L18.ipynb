{
 "cells": [
  {
   "cell_type": "markdown",
   "metadata": {},
   "source": [
    "# ANTLR 4\n",
    "\n",
    "Il materiale di riferimento per le lezioni a venire è costituito da:\n",
    "\n",
    "* Il libro (di testo) [The Definitive ANTLR 4 Reference](https://pragprog.com/book/tpantlr2/the-definitive-antlr-4-reference) di Terence Parr (l'autore di ANTLR),\n",
    "* le [informazioni su target/runtime Python 3](https://github.com/antlr/antlr4/blob/master/doc/python-target.md),\n",
    "* i [sorgenti del runtime Python 3](https://github.com/antlr/antlr4/tree/master/runtime/Python3),\n",
    "* le [API Java](https://www.antlr.org/api/Java/) (utili a colmare la scarsezza della documentazione dei target/runtime Python 3),\n",
    "* la [versione Python 3 degli esempi di codice](https://github.com/jszheng/py3antlr4book) del libro di cui sopra (non ufficiale),\n",
    "* un [insieme di grammatiche](https://github.com/antlr/grammars-v4) di diversi linguaggi noti.\n",
    "\n",
    "## Uso \"diretto\" (senza LibLET)"
   ]
  },
  {
   "cell_type": "code",
   "execution_count": 1,
   "metadata": {},
   "outputs": [],
   "source": [
    "! rm -rf Hello*.*"
   ]
  },
  {
   "cell_type": "code",
   "execution_count": 2,
   "metadata": {},
   "outputs": [
    {
     "name": "stdout",
     "output_type": "stream",
     "text": [
      "Writing Hello.g\n"
     ]
    }
   ],
   "source": [
    "%%writefile Hello.g\n",
    "\n",
    "grammar Hello;            // Define a grammar called Hello\n",
    "r  : 'hello' ID ;         // match keyword hello followed by an identifier\n",
    "ID : [a-z]+ ;             // match lower-case identifiers\n",
    "WS : [ \\t\\r\\n]+ -> skip ; // skip spaces, tabs, newlines, \\r (Windows)"
   ]
  },
  {
   "cell_type": "markdown",
   "metadata": {},
   "source": [
    "### Generazione dei moduli (usando il tool Java)"
   ]
  },
  {
   "cell_type": "code",
   "execution_count": 3,
   "metadata": {},
   "outputs": [
    {
     "name": "stdout",
     "output_type": "stream",
     "text": [
      "-rw-r--r-- 1 santini staff 1829 May 15 15:38 HelloLexer.py\r\n",
      "-rw-r--r-- 1 santini staff  545 May 15 15:38 HelloListener.py\r\n",
      "-rw-r--r-- 1 santini staff 2613 May 15 15:38 HelloParser.py\r\n",
      "-rw-r--r-- 1 santini staff  481 May 15 15:38 HelloVisitor.py\r\n"
     ]
    }
   ],
   "source": [
    "! java -jar \"$ANTLR4_JAR\" -Dlanguage=Python3 -visitor Hello.g && ls -l Hello*py"
   ]
  },
  {
   "cell_type": "markdown",
   "metadata": {},
   "source": [
    "### Parsing (costruzione dell'albero)"
   ]
  },
  {
   "cell_type": "code",
   "execution_count": 4,
   "metadata": {},
   "outputs": [],
   "source": [
    "# codice dal runtime di antlr4\n",
    "\n",
    "from antlr4.CommonTokenStream import CommonTokenStream\n",
    "from antlr4.InputStream import InputStream"
   ]
  },
  {
   "cell_type": "code",
   "execution_count": 5,
   "metadata": {},
   "outputs": [],
   "source": [
    "# codice genrerato da antlr4 a partire dalla grammatica Hello.g\n",
    "\n",
    "from HelloLexer import HelloLexer\n",
    "from HelloParser import HelloParser"
   ]
  },
  {
   "cell_type": "code",
   "execution_count": 6,
   "metadata": {},
   "outputs": [
    {
     "data": {
      "text/plain": [
       "'(r hello massimo)'"
      ]
     },
     "execution_count": 6,
     "metadata": {},
     "output_type": "execute_result"
    }
   ],
   "source": [
    "text = 'hello massimo'\n",
    "\n",
    "lexer = HelloLexer(InputStream(text))\n",
    "stream = CommonTokenStream(lexer)\n",
    "parser = HelloParser(stream)\n",
    "tree = parser.r()\n",
    "\n",
    "tree.toStringTree(recog = parser)"
   ]
  },
  {
   "cell_type": "markdown",
   "metadata": {},
   "source": [
    "#### Uso del lexer"
   ]
  },
  {
   "cell_type": "code",
   "execution_count": 7,
   "metadata": {},
   "outputs": [
    {
     "name": "stdout",
     "output_type": "stream",
     "text": [
      "[@-1,0:4='hello',<1>,1:0]\n",
      "[@-1,6:12='massimo',<2>,1:6]\n",
      "[@-1,13:12='<EOF>',<-1>,1:13]\n"
     ]
    }
   ],
   "source": [
    "lexer.reset()\n",
    "\n",
    "while True:\n",
    "    token = lexer.nextToken()\n",
    "    print(token)\n",
    "    if token.type == token.EOF: break"
   ]
  },
  {
   "cell_type": "markdown",
   "metadata": {},
   "source": [
    "### Un esempio maggiormente complesso"
   ]
  },
  {
   "cell_type": "code",
   "execution_count": 8,
   "metadata": {},
   "outputs": [],
   "source": [
    "! rm -f Expr*.*"
   ]
  },
  {
   "cell_type": "code",
   "execution_count": 9,
   "metadata": {},
   "outputs": [
    {
     "name": "stdout",
     "output_type": "stream",
     "text": [
      "Writing Expr.g\n"
     ]
    }
   ],
   "source": [
    "%%writefile Expr.g\n",
    "\n",
    "grammar Expr; \n",
    "\n",
    "/** The start rule; begin parsing here. */\n",
    "\n",
    "prog:   stat+ ;\n",
    "\n",
    "stat:   expr NEWLINE\n",
    "    |   ID '=' expr NEWLINE\n",
    "    |   NEWLINE\n",
    "    ;\n",
    "\n",
    "expr:   expr ('*'|'/') expr\n",
    "    |   expr ('+'|'-') expr\n",
    "    |   INT\n",
    "    |   ID\n",
    "    |   '(' expr ')'\n",
    "    ;\n",
    "\n",
    "MUL :   '*' ; // assigns token name to '*' used above in grammar\n",
    "DIV :   '/' ;\n",
    "ADD :   '+' ;\n",
    "SUB :   '-' ;\n",
    "ID  :   [a-zA-Z]+ ;      // match identifiers\n",
    "INT :   [0-9]+ ;         // match integers\n",
    "NEWLINE:'\\r'? '\\n' ;     // return newlines to parser (is end-statement signal)\n",
    "WS : [ \\t]+ -> skip ; // toss out whitespace    "
   ]
  },
  {
   "cell_type": "code",
   "execution_count": 10,
   "metadata": {},
   "outputs": [
    {
     "name": "stdout",
     "output_type": "stream",
     "text": [
      "-rw-r--r-- 1 santini staff  2928 May 15 15:38 ExprLexer.py\r\n",
      "-rw-r--r-- 1 santini staff  1034 May 15 15:38 ExprListener.py\r\n",
      "-rw-r--r-- 1 santini staff 13174 May 15 15:38 ExprParser.py\r\n",
      "-rw-r--r-- 1 santini staff   776 May 15 15:38 ExprVisitor.py\r\n"
     ]
    }
   ],
   "source": [
    "! java -jar \"$ANTLR4_JAR\" -Dlanguage=Python3 -visitor Expr.g && ls -l Expr*py"
   ]
  },
  {
   "cell_type": "code",
   "execution_count": 11,
   "metadata": {},
   "outputs": [
    {
     "data": {
      "text/plain": [
       "'(prog (stat (expr (expr (expr 2) * (expr 3)) + (expr 4)) \\\\n))'"
      ]
     },
     "execution_count": 11,
     "metadata": {},
     "output_type": "execute_result"
    }
   ],
   "source": [
    "from ExprLexer import ExprLexer\n",
    "from ExprParser import ExprParser\n",
    "\n",
    "text = '2 * 3 + 4\\n'\n",
    "\n",
    "lexer = ExprLexer(InputStream(text))\n",
    "stream = CommonTokenStream(lexer)\n",
    "parser = ExprParser(stream)\n",
    "tree = parser.prog()\n",
    "\n",
    "tree.toStringTree(recog = parser)"
   ]
  },
  {
   "cell_type": "markdown",
   "metadata": {},
   "source": [
    "#### Uso del Listener"
   ]
  },
  {
   "cell_type": "code",
   "execution_count": 12,
   "metadata": {},
   "outputs": [],
   "source": [
    "from antlr4.tree.Tree import ParseTreeWalker"
   ]
  },
  {
   "cell_type": "code",
   "execution_count": 13,
   "metadata": {},
   "outputs": [
    {
     "name": "stdout",
     "output_type": "stream",
     "text": [
      "[@0,0:0='2',<9>,1:0] [@0,0:0='2',<9>,1:0] expr\n",
      "[@2,4:4='3',<9>,1:4] [@2,4:4='3',<9>,1:4] expr\n",
      "[@0,0:0='2',<9>,1:0] [@2,4:4='3',<9>,1:4] expr\n",
      "[@4,8:8='4',<9>,1:8] [@4,8:8='4',<9>,1:8] expr\n",
      "[@0,0:0='2',<9>,1:0] [@4,8:8='4',<9>,1:8] expr\n",
      "[@0,0:0='2',<9>,1:0] [@5,9:9='\\n',<10>,1:9] stat\n",
      "[@0,0:0='2',<9>,1:0] [@5,9:9='\\n',<10>,1:9] prog\n"
     ]
    }
   ],
   "source": [
    "from ExprListener import ExprListener\n",
    "\n",
    "class PrintListener(ExprListener):\n",
    "    def exitEveryRule(self, ctx):\n",
    "        print(ctx.start, ctx.stop, ExprParser.ruleNames[ctx.getRuleIndex()])\n",
    "\n",
    "listener = PrintListener()\n",
    "ParseTreeWalker.DEFAULT.walk(listener, tree)"
   ]
  },
  {
   "cell_type": "markdown",
   "metadata": {},
   "source": [
    "#### Uso del Visitor"
   ]
  },
  {
   "cell_type": "code",
   "execution_count": 14,
   "metadata": {},
   "outputs": [
    {
     "name": "stdout",
     "output_type": "stream",
     "text": [
      "[@0,0:0='2',<9>,1:0] [@5,9:9='\\n',<10>,1:9] prog\n",
      "[@0,0:0='2',<9>,1:0] [@5,9:9='\\n',<10>,1:9] stat\n",
      "[@0,0:0='2',<9>,1:0] [@4,8:8='4',<9>,1:8] expr\n",
      "[@0,0:0='2',<9>,1:0] [@2,4:4='3',<9>,1:4] expr\n",
      "[@0,0:0='2',<9>,1:0] [@0,0:0='2',<9>,1:0] expr\n",
      "[@2,4:4='3',<9>,1:4] [@2,4:4='3',<9>,1:4] expr\n",
      "[@4,8:8='4',<9>,1:8] [@4,8:8='4',<9>,1:8] expr\n"
     ]
    }
   ],
   "source": [
    "from ExprVisitor import ExprVisitor\n",
    "\n",
    "class PrintVisitor(ExprVisitor):\n",
    "    def visitChildren(self, node):\n",
    "        print(node.start, node.stop, ExprParser.ruleNames[node.getRuleIndex()])\n",
    "        return super().visitChildren(node)\n",
    "        \n",
    "visitor = PrintVisitor()\n",
    "visitor.visit(tree)"
   ]
  },
  {
   "cell_type": "markdown",
   "metadata": {},
   "source": [
    "## Uso mediato da LibLET"
   ]
  },
  {
   "cell_type": "code",
   "execution_count": 15,
   "metadata": {},
   "outputs": [
    {
     "data": {
      "text/plain": [
       "'0.12.1-alpha'"
      ]
     },
     "execution_count": 15,
     "metadata": {},
     "output_type": "execute_result"
    }
   ],
   "source": [
    "from liblet import ANTLR, Tree, __version__\n",
    "\n",
    "__version__"
   ]
  },
  {
   "cell_type": "markdown",
   "metadata": {},
   "source": [
    "### Generazione e caricamento dei moduli"
   ]
  },
  {
   "cell_type": "code",
   "execution_count": 16,
   "metadata": {},
   "outputs": [],
   "source": [
    "LabeledExpr = ANTLR(r\"\"\"\n",
    "grammar LabeledExpr; // rename to distinguish from Expr.g4\n",
    "\n",
    "prog:   stat+ ;\n",
    "\n",
    "stat:   expr NEWLINE                # printExpr\n",
    "    |   ID '=' expr NEWLINE         # assign\n",
    "    |   NEWLINE                     # blank\n",
    "    ;\n",
    "\n",
    "expr:   expr op=('*'|'/') expr      # MulDiv\n",
    "    |   expr op=('+'|'-') expr      # AddSub\n",
    "    |   INT                         # int\n",
    "    |   ID                          # id\n",
    "    |   '(' expr ')'                # parens\n",
    "    ;\n",
    "\n",
    "MUL :   '*' ; // assigns token name to '*' used above in grammar\n",
    "DIV :   '/' ;\n",
    "ADD :   '+' ;\n",
    "SUB :   '-' ;\n",
    "ID  :   [a-zA-Z]+ ;      // match identifiers\n",
    "INT :   [0-9]+ ;         // match integers\n",
    "NEWLINE:'\\r'? '\\n' ;     // return newlines to parser (is end-statement signal)\n",
    "WS : [ \\t]+ -> skip ; // toss out whitespace\n",
    "\"\"\")"
   ]
  },
  {
   "cell_type": "markdown",
   "metadata": {},
   "source": [
    "### Generazione del parsing context"
   ]
  },
  {
   "cell_type": "code",
   "execution_count": 17,
   "metadata": {},
   "outputs": [
    {
     "data": {
      "text/plain": [
       "<LabeledExprParser.LabeledExprParser.ProgContext at 0x1099025c0>"
      ]
     },
     "execution_count": 17,
     "metadata": {},
     "output_type": "execute_result"
    }
   ],
   "source": [
    "expr = '3 * 4 + 5\\n'\n",
    "LabeledExpr.context(expr, 'prog')"
   ]
  },
  {
   "cell_type": "code",
   "execution_count": 18,
   "metadata": {},
   "outputs": [
    {
     "data": {
      "text/plain": [
       "'(prog (stat (expr (expr (expr 3) * (expr 4)) + (expr 5)) \\\\n))'"
      ]
     },
     "execution_count": 18,
     "metadata": {},
     "output_type": "execute_result"
    }
   ],
   "source": [
    "# come stringa\n",
    "\n",
    "LabeledExpr.context(expr, 'prog', as_string = True)"
   ]
  },
  {
   "cell_type": "markdown",
   "metadata": {},
   "source": [
    "### Generazione di un Tree (\"annotato\")"
   ]
  },
  {
   "cell_type": "code",
   "execution_count": 19,
   "metadata": {},
   "outputs": [
    {
     "data": {
      "image/svg+xml": [
       "<?xml version=\"1.0\" encoding=\"UTF-8\" standalone=\"no\"?>\n",
       "<!DOCTYPE svg PUBLIC \"-//W3C//DTD SVG 1.1//EN\"\n",
       " \"http://www.w3.org/Graphics/SVG/1.1/DTD/svg11.dtd\">\n",
       "<!-- Generated by graphviz version 2.40.1 (20161225.0304)\n",
       " -->\n",
       "<!-- Title: %3 Pages: 1 -->\n",
       "<svg width=\"167pt\" height=\"230pt\"\n",
       " viewBox=\"0.00 0.00 166.88 230.00\" xmlns=\"http://www.w3.org/2000/svg\" xmlns:xlink=\"http://www.w3.org/1999/xlink\">\n",
       "<g id=\"graph0\" class=\"graph\" transform=\"scale(1 1) rotate(0) translate(4 226)\">\n",
       "<title>%3</title>\n",
       "<polygon fill=\"#ffffff\" stroke=\"transparent\" points=\"-4,4 -4,-226 162.876,-226 162.876,4 -4,4\"/>\n",
       "<!-- 4455597672 -->\n",
       "<g id=\"node1\" class=\"node\">\n",
       "<title>4455597672</title>\n",
       "<path fill=\"none\" stroke=\"#000000\" stroke-width=\".25\" d=\"M131.7684,-222C131.7684,-222 113.1075,-222 113.1075,-222 109.4409,-222 105.7742,-218.3333 105.7742,-214.6667 105.7742,-214.6667 105.7742,-207.3333 105.7742,-207.3333 105.7742,-203.6667 109.4409,-200 113.1075,-200 113.1075,-200 131.7684,-200 131.7684,-200 135.4351,-200 139.1018,-203.6667 139.1018,-207.3333 139.1018,-207.3333 139.1018,-214.6667 139.1018,-214.6667 139.1018,-218.3333 135.4351,-222 131.7684,-222\"/>\n",
       "<text text-anchor=\"middle\" x=\"122.438\" y=\"-206.8\" font-family=\"Times,serif\" font-size=\"14.00\" fill=\"#000000\">prog</text>\n",
       "</g>\n",
       "<!-- 4455597616 -->\n",
       "<g id=\"node2\" class=\"node\">\n",
       "<title>4455597616</title>\n",
       "<path fill=\"none\" stroke=\"#000000\" stroke-width=\".25\" d=\"M129.0497,-182C129.0497,-182 115.8263,-182 115.8263,-182 112.1596,-182 108.493,-178.3333 108.493,-174.6667 108.493,-174.6667 108.493,-167.3333 108.493,-167.3333 108.493,-163.6667 112.1596,-160 115.8263,-160 115.8263,-160 129.0497,-160 129.0497,-160 132.7163,-160 136.383,-163.6667 136.383,-167.3333 136.383,-167.3333 136.383,-174.6667 136.383,-174.6667 136.383,-178.3333 132.7163,-182 129.0497,-182\"/>\n",
       "<text text-anchor=\"middle\" x=\"122.438\" y=\"-166.8\" font-family=\"Times,serif\" font-size=\"14.00\" fill=\"#000000\">stat</text>\n",
       "</g>\n",
       "<!-- 4455597672&#45;&gt;4455597616 -->\n",
       "<g id=\"edge1\" class=\"edge\">\n",
       "<title>4455597672&#45;&gt;4455597616</title>\n",
       "<path fill=\"none\" stroke=\"#000000\" d=\"M122.438,-199.6446C122.438,-194.1937 122.438,-187.6819 122.438,-182.2453\"/>\n",
       "</g>\n",
       "<!-- 4455597504 -->\n",
       "<g id=\"node3\" class=\"node\">\n",
       "<title>4455597504</title>\n",
       "<path fill=\"none\" stroke=\"#000000\" stroke-width=\".25\" d=\"M109.4809,-142C109.4809,-142 91.3951,-142 91.3951,-142 87.7284,-142 84.0618,-138.3333 84.0618,-134.6667 84.0618,-134.6667 84.0618,-127.3333 84.0618,-127.3333 84.0618,-123.6667 87.7284,-120 91.3951,-120 91.3951,-120 109.4809,-120 109.4809,-120 113.1475,-120 116.8142,-123.6667 116.8142,-127.3333 116.8142,-127.3333 116.8142,-134.6667 116.8142,-134.6667 116.8142,-138.3333 113.1475,-142 109.4809,-142\"/>\n",
       "<text text-anchor=\"middle\" x=\"100.438\" y=\"-126.8\" font-family=\"Times,serif\" font-size=\"14.00\" fill=\"#000000\">expr</text>\n",
       "</g>\n",
       "<!-- 4455597616&#45;&gt;4455597504 -->\n",
       "<g id=\"edge2\" class=\"edge\">\n",
       "<title>4455597616&#45;&gt;4455597504</title>\n",
       "<path fill=\"none\" stroke=\"#000000\" d=\"M116.1925,-159.6446C113.1945,-154.1937 109.613,-147.6819 106.6229,-142.2453\"/>\n",
       "</g>\n",
       "<!-- 4455597560 -->\n",
       "<g id=\"node4\" class=\"node\">\n",
       "<title>4455597560</title>\n",
       "<path fill=\"none\" stroke=\"#000000\" stroke-width=\".25\" d=\"M147.568,-142C147.568,-142 141.308,-142 141.308,-142 138.178,-142 135.048,-138.87 135.048,-135.74 135.048,-135.74 135.048,-126.26 135.048,-126.26 135.048,-123.13 138.178,-120 141.308,-120 141.308,-120 147.568,-120 147.568,-120 150.698,-120 153.828,-123.13 153.828,-126.26 153.828,-126.26 153.828,-135.74 153.828,-135.74 153.828,-138.87 150.698,-142 147.568,-142\"/>\n",
       "<text text-anchor=\"middle\" x=\"144.438\" y=\"-126.8\" font-family=\"Times,serif\" font-size=\"14.00\" fill=\"#000000\">\\n</text>\n",
       "</g>\n",
       "<!-- 4455597616&#45;&gt;4455597560 -->\n",
       "<g id=\"edge3\" class=\"edge\">\n",
       "<title>4455597616&#45;&gt;4455597560</title>\n",
       "<path fill=\"none\" stroke=\"#000000\" d=\"M128.6835,-159.6446C131.6815,-154.1937 135.263,-147.6819 138.253,-142.2453\"/>\n",
       "</g>\n",
       "<!-- 4455597504&#45;&gt;4455597560 -->\n",
       "<!-- 4455597280 -->\n",
       "<g id=\"node5\" class=\"node\">\n",
       "<title>4455597280</title>\n",
       "<path fill=\"none\" stroke=\"#000000\" stroke-width=\".25\" d=\"M67.4809,-102C67.4809,-102 49.3951,-102 49.3951,-102 45.7284,-102 42.0618,-98.3333 42.0618,-94.6667 42.0618,-94.6667 42.0618,-87.3333 42.0618,-87.3333 42.0618,-83.6667 45.7284,-80 49.3951,-80 49.3951,-80 67.4809,-80 67.4809,-80 71.1475,-80 74.8142,-83.6667 74.8142,-87.3333 74.8142,-87.3333 74.8142,-94.6667 74.8142,-94.6667 74.8142,-98.3333 71.1475,-102 67.4809,-102\"/>\n",
       "<text text-anchor=\"middle\" x=\"58.438\" y=\"-86.8\" font-family=\"Times,serif\" font-size=\"14.00\" fill=\"#000000\">expr</text>\n",
       "</g>\n",
       "<!-- 4455597504&#45;&gt;4455597280 -->\n",
       "<g id=\"edge5\" class=\"edge\">\n",
       "<title>4455597504&#45;&gt;4455597280</title>\n",
       "<path fill=\"none\" stroke=\"#000000\" d=\"M88.5148,-119.6446C82.7913,-114.1937 75.954,-107.6819 70.2456,-102.2453\"/>\n",
       "</g>\n",
       "<!-- 4455597336 -->\n",
       "<g id=\"node6\" class=\"node\">\n",
       "<title>4455597336</title>\n",
       "<path fill=\"none\" stroke=\"#000000\" stroke-width=\".25\" d=\"M103.0699,-102C103.0699,-102 97.806,-102 97.806,-102 95.1741,-102 92.5421,-99.3681 92.5421,-96.7361 92.5421,-96.7361 92.5421,-85.2639 92.5421,-85.2639 92.5421,-82.6319 95.1741,-80 97.806,-80 97.806,-80 103.0699,-80 103.0699,-80 105.7019,-80 108.3338,-82.6319 108.3338,-85.2639 108.3338,-85.2639 108.3338,-96.7361 108.3338,-96.7361 108.3338,-99.3681 105.7019,-102 103.0699,-102\"/>\n",
       "<text text-anchor=\"middle\" x=\"100.438\" y=\"-86.8\" font-family=\"Times,serif\" font-size=\"14.00\" fill=\"#000000\">+</text>\n",
       "</g>\n",
       "<!-- 4455597504&#45;&gt;4455597336 -->\n",
       "<g id=\"edge6\" class=\"edge\">\n",
       "<title>4455597504&#45;&gt;4455597336</title>\n",
       "<path fill=\"none\" stroke=\"#000000\" d=\"M100.438,-119.6446C100.438,-114.1937 100.438,-107.6819 100.438,-102.2453\"/>\n",
       "</g>\n",
       "<!-- 4455597448 -->\n",
       "<g id=\"node7\" class=\"node\">\n",
       "<title>4455597448</title>\n",
       "<path fill=\"none\" stroke=\"#000000\" stroke-width=\".25\" d=\"M151.4809,-102C151.4809,-102 133.3951,-102 133.3951,-102 129.7284,-102 126.0618,-98.3333 126.0618,-94.6667 126.0618,-94.6667 126.0618,-87.3333 126.0618,-87.3333 126.0618,-83.6667 129.7284,-80 133.3951,-80 133.3951,-80 151.4809,-80 151.4809,-80 155.1475,-80 158.8142,-83.6667 158.8142,-87.3333 158.8142,-87.3333 158.8142,-94.6667 158.8142,-94.6667 158.8142,-98.3333 155.1475,-102 151.4809,-102\"/>\n",
       "<text text-anchor=\"middle\" x=\"142.438\" y=\"-86.8\" font-family=\"Times,serif\" font-size=\"14.00\" fill=\"#000000\">expr</text>\n",
       "</g>\n",
       "<!-- 4455597504&#45;&gt;4455597448 -->\n",
       "<g id=\"edge7\" class=\"edge\">\n",
       "<title>4455597504&#45;&gt;4455597448</title>\n",
       "<path fill=\"none\" stroke=\"#000000\" d=\"M112.3612,-119.6446C118.0846,-114.1937 124.922,-107.6819 130.6304,-102.2453\"/>\n",
       "</g>\n",
       "<!-- 4455597280&#45;&gt;4455597336 -->\n",
       "<!-- 4455597056 -->\n",
       "<g id=\"node8\" class=\"node\">\n",
       "<title>4455597056</title>\n",
       "<path fill=\"none\" stroke=\"#000000\" stroke-width=\".25\" d=\"M25.4809,-62C25.4809,-62 7.3951,-62 7.3951,-62 3.7284,-62 .0618,-58.3333 .0618,-54.6667 .0618,-54.6667 .0618,-47.3333 .0618,-47.3333 .0618,-43.6667 3.7284,-40 7.3951,-40 7.3951,-40 25.4809,-40 25.4809,-40 29.1475,-40 32.8142,-43.6667 32.8142,-47.3333 32.8142,-47.3333 32.8142,-54.6667 32.8142,-54.6667 32.8142,-58.3333 29.1475,-62 25.4809,-62\"/>\n",
       "<text text-anchor=\"middle\" x=\"16.438\" y=\"-46.8\" font-family=\"Times,serif\" font-size=\"14.00\" fill=\"#000000\">expr</text>\n",
       "</g>\n",
       "<!-- 4455597280&#45;&gt;4455597056 -->\n",
       "<g id=\"edge10\" class=\"edge\">\n",
       "<title>4455597280&#45;&gt;4455597056</title>\n",
       "<path fill=\"none\" stroke=\"#000000\" d=\"M46.5148,-79.6446C40.7913,-74.1937 33.954,-67.6819 28.2456,-62.2453\"/>\n",
       "</g>\n",
       "<!-- 4455597112 -->\n",
       "<g id=\"node9\" class=\"node\">\n",
       "<title>4455597112</title>\n",
       "<path fill=\"none\" stroke=\"#000000\" stroke-width=\".25\" d=\"M60.938,-62C60.938,-62 55.938,-62 55.938,-62 53.438,-62 50.938,-59.5 50.938,-57 50.938,-57 50.938,-45 50.938,-45 50.938,-42.5 53.438,-40 55.938,-40 55.938,-40 60.938,-40 60.938,-40 63.438,-40 65.938,-42.5 65.938,-45 65.938,-45 65.938,-57 65.938,-57 65.938,-59.5 63.438,-62 60.938,-62\"/>\n",
       "<text text-anchor=\"middle\" x=\"58.438\" y=\"-46.8\" font-family=\"Times,serif\" font-size=\"14.00\" fill=\"#000000\">*</text>\n",
       "</g>\n",
       "<!-- 4455597280&#45;&gt;4455597112 -->\n",
       "<g id=\"edge11\" class=\"edge\">\n",
       "<title>4455597280&#45;&gt;4455597112</title>\n",
       "<path fill=\"none\" stroke=\"#000000\" d=\"M58.438,-79.6446C58.438,-74.1937 58.438,-67.6819 58.438,-62.2453\"/>\n",
       "</g>\n",
       "<!-- 4455597224 -->\n",
       "<g id=\"node10\" class=\"node\">\n",
       "<title>4455597224</title>\n",
       "<path fill=\"none\" stroke=\"#000000\" stroke-width=\".25\" d=\"M109.4809,-62C109.4809,-62 91.3951,-62 91.3951,-62 87.7284,-62 84.0618,-58.3333 84.0618,-54.6667 84.0618,-54.6667 84.0618,-47.3333 84.0618,-47.3333 84.0618,-43.6667 87.7284,-40 91.3951,-40 91.3951,-40 109.4809,-40 109.4809,-40 113.1475,-40 116.8142,-43.6667 116.8142,-47.3333 116.8142,-47.3333 116.8142,-54.6667 116.8142,-54.6667 116.8142,-58.3333 113.1475,-62 109.4809,-62\"/>\n",
       "<text text-anchor=\"middle\" x=\"100.438\" y=\"-46.8\" font-family=\"Times,serif\" font-size=\"14.00\" fill=\"#000000\">expr</text>\n",
       "</g>\n",
       "<!-- 4455597280&#45;&gt;4455597224 -->\n",
       "<g id=\"edge12\" class=\"edge\">\n",
       "<title>4455597280&#45;&gt;4455597224</title>\n",
       "<path fill=\"none\" stroke=\"#000000\" d=\"M70.3612,-79.6446C76.0846,-74.1937 82.922,-67.6819 88.6304,-62.2453\"/>\n",
       "</g>\n",
       "<!-- 4455597336&#45;&gt;4455597448 -->\n",
       "<!-- 4455597392 -->\n",
       "<g id=\"node13\" class=\"node\">\n",
       "<title>4455597392</title>\n",
       "<path fill=\"none\" stroke=\"#000000\" stroke-width=\".25\" d=\"M144.938,-62C144.938,-62 139.938,-62 139.938,-62 137.438,-62 134.938,-59.5 134.938,-57 134.938,-57 134.938,-45 134.938,-45 134.938,-42.5 137.438,-40 139.938,-40 139.938,-40 144.938,-40 144.938,-40 147.438,-40 149.938,-42.5 149.938,-45 149.938,-45 149.938,-57 149.938,-57 149.938,-59.5 147.438,-62 144.938,-62\"/>\n",
       "<text text-anchor=\"middle\" x=\"142.438\" y=\"-46.8\" font-family=\"Times,serif\" font-size=\"14.00\" fill=\"#000000\">5</text>\n",
       "</g>\n",
       "<!-- 4455597448&#45;&gt;4455597392 -->\n",
       "<g id=\"edge17\" class=\"edge\">\n",
       "<title>4455597448&#45;&gt;4455597392</title>\n",
       "<path fill=\"none\" stroke=\"#000000\" d=\"M142.438,-79.6446C142.438,-74.1937 142.438,-67.6819 142.438,-62.2453\"/>\n",
       "</g>\n",
       "<!-- 4455597056&#45;&gt;4455597112 -->\n",
       "<!-- 4455579432 -->\n",
       "<g id=\"node11\" class=\"node\">\n",
       "<title>4455579432</title>\n",
       "<path fill=\"none\" stroke=\"#000000\" stroke-width=\".25\" d=\"M18.938,-22C18.938,-22 13.938,-22 13.938,-22 11.438,-22 8.938,-19.5 8.938,-17 8.938,-17 8.938,-5 8.938,-5 8.938,-2.5 11.438,0 13.938,0 13.938,0 18.938,0 18.938,0 21.438,0 23.938,-2.5 23.938,-5 23.938,-5 23.938,-17 23.938,-17 23.938,-19.5 21.438,-22 18.938,-22\"/>\n",
       "<text text-anchor=\"middle\" x=\"16.438\" y=\"-6.8\" font-family=\"Times,serif\" font-size=\"14.00\" fill=\"#000000\">3</text>\n",
       "</g>\n",
       "<!-- 4455597056&#45;&gt;4455579432 -->\n",
       "<g id=\"edge15\" class=\"edge\">\n",
       "<title>4455597056&#45;&gt;4455579432</title>\n",
       "<path fill=\"none\" stroke=\"#000000\" d=\"M16.438,-39.6446C16.438,-34.1937 16.438,-27.6819 16.438,-22.2453\"/>\n",
       "</g>\n",
       "<!-- 4455597112&#45;&gt;4455597224 -->\n",
       "<!-- 4455597168 -->\n",
       "<g id=\"node12\" class=\"node\">\n",
       "<title>4455597168</title>\n",
       "<path fill=\"none\" stroke=\"#000000\" stroke-width=\".25\" d=\"M102.938,-22C102.938,-22 97.938,-22 97.938,-22 95.438,-22 92.938,-19.5 92.938,-17 92.938,-17 92.938,-5 92.938,-5 92.938,-2.5 95.438,0 97.938,0 97.938,0 102.938,0 102.938,0 105.438,0 107.938,-2.5 107.938,-5 107.938,-5 107.938,-17 107.938,-17 107.938,-19.5 105.438,-22 102.938,-22\"/>\n",
       "<text text-anchor=\"middle\" x=\"100.438\" y=\"-6.8\" font-family=\"Times,serif\" font-size=\"14.00\" fill=\"#000000\">4</text>\n",
       "</g>\n",
       "<!-- 4455597224&#45;&gt;4455597168 -->\n",
       "<g id=\"edge16\" class=\"edge\">\n",
       "<title>4455597224&#45;&gt;4455597168</title>\n",
       "<path fill=\"none\" stroke=\"#000000\" d=\"M100.438,-39.6446C100.438,-34.1937 100.438,-27.6819 100.438,-22.2453\"/>\n",
       "</g>\n",
       "</g>\n",
       "</svg>\n"
      ],
      "text/plain": [
       "(prog: (stat: (expr: (expr: (expr: (3)), (*), (expr: (4))), (+), (expr: (5))), (\\\\n)))"
      ]
     },
     "execution_count": 19,
     "metadata": {},
     "output_type": "execute_result"
    }
   ],
   "source": [
    "# semplice\n",
    "\n",
    "LabeledExpr.tree(expr, 'prog', simple = True)"
   ]
  },
  {
   "cell_type": "markdown",
   "metadata": {},
   "source": [
    "Si può ottenere un albero annotato, ossia un `Tree` i cui nodi siano `dict`. In tal caso ogni nodo contiene la chiave `type` che può valere `rule` o `token` e `name` che corrisponde al nome della regola (o token, se presente nella parte del *lexer*). Inotre, per i *token* che hanno un nome definito nel *lexer* c'è la chiave `value` che contiene il contenuto del token, mentre per le *rule* c'è sempre il campo `label` che nel caso la regola sia etichettata contiene l'etichetta."
   ]
  },
  {
   "cell_type": "code",
   "execution_count": 20,
   "metadata": {},
   "outputs": [
    {
     "data": {
      "image/svg+xml": [
       "<?xml version=\"1.0\" encoding=\"UTF-8\" standalone=\"no\"?>\n",
       "<!DOCTYPE svg PUBLIC \"-//W3C//DTD SVG 1.1//EN\"\n",
       " \"http://www.w3.org/Graphics/SVG/1.1/DTD/svg11.dtd\">\n",
       "<!-- Generated by graphviz version 2.40.1 (20161225.0304)\n",
       " -->\n",
       "<!-- Title: %3 Pages: 1 -->\n",
       "<svg width=\"350pt\" height=\"422pt\"\n",
       " viewBox=\"0.00 0.00 350.00 422.00\" xmlns=\"http://www.w3.org/2000/svg\" xmlns:xlink=\"http://www.w3.org/1999/xlink\">\n",
       "<g id=\"graph0\" class=\"graph\" transform=\"scale(1 1) rotate(0) translate(4 418)\">\n",
       "<title>%3</title>\n",
       "<polygon fill=\"#ffffff\" stroke=\"transparent\" points=\"-4,4 -4,-418 346,-418 346,4 -4,4\"/>\n",
       "<!-- 4453962416 -->\n",
       "<g id=\"node1\" class=\"node\">\n",
       "<title>4453962416</title>\n",
       "<polygon fill=\"none\" stroke=\"#000000\" points=\"217.5,-396 217.5,-414 248.5,-414 248.5,-396 217.5,-396\"/>\n",
       "<text text-anchor=\"start\" x=\"222.6699\" y=\"-401.4\" font-family=\"Times,serif\" font-size=\"12.00\" fill=\"#000000\">type</text>\n",
       "<polygon fill=\"none\" stroke=\"#000000\" points=\"248.5,-396 248.5,-414 275.5,-414 275.5,-396 248.5,-396\"/>\n",
       "<text text-anchor=\"start\" x=\"252.6719\" y=\"-401.4\" font-family=\"Times,serif\" font-size=\"12.00\" fill=\"#000000\">rule</text>\n",
       "<polygon fill=\"none\" stroke=\"#000000\" points=\"217.5,-378 217.5,-396 248.5,-396 248.5,-378 217.5,-378\"/>\n",
       "<text text-anchor=\"start\" x=\"220.0068\" y=\"-383.4\" font-family=\"Times,serif\" font-size=\"12.00\" fill=\"#000000\">name</text>\n",
       "<polygon fill=\"none\" stroke=\"#000000\" points=\"248.5,-378 248.5,-396 275.5,-396 275.5,-378 248.5,-378\"/>\n",
       "<text text-anchor=\"start\" x=\"251.002\" y=\"-383.4\" font-family=\"Times,serif\" font-size=\"12.00\" fill=\"#000000\">prog</text>\n",
       "<polygon fill=\"none\" stroke=\"#000000\" points=\"217.5,-360 217.5,-378 248.5,-378 248.5,-360 217.5,-360\"/>\n",
       "<text text-anchor=\"start\" x=\"221.3398\" y=\"-365.4\" font-family=\"Times,serif\" font-size=\"12.00\" fill=\"#000000\">label</text>\n",
       "<polygon fill=\"none\" stroke=\"#000000\" points=\"248.5,-360 248.5,-378 275.5,-378 275.5,-360 248.5,-360\"/>\n",
       "<text text-anchor=\"start\" x=\"251.002\" y=\"-365.4\" font-family=\"Times,serif\" font-size=\"12.00\" fill=\"#000000\">prog</text>\n",
       "</g>\n",
       "<!-- 4453963816 -->\n",
       "<g id=\"node2\" class=\"node\">\n",
       "<title>4453963816</title>\n",
       "<polygon fill=\"none\" stroke=\"#000000\" points=\"205.5,-324 205.5,-342 236.5,-342 236.5,-324 205.5,-324\"/>\n",
       "<text text-anchor=\"start\" x=\"210.6699\" y=\"-329.4\" font-family=\"Times,serif\" font-size=\"12.00\" fill=\"#000000\">type</text>\n",
       "<polygon fill=\"none\" stroke=\"#000000\" points=\"236.5,-324 236.5,-342 287.5,-342 287.5,-324 236.5,-324\"/>\n",
       "<text text-anchor=\"start\" x=\"252.6719\" y=\"-329.4\" font-family=\"Times,serif\" font-size=\"12.00\" fill=\"#000000\">rule</text>\n",
       "<polygon fill=\"none\" stroke=\"#000000\" points=\"205.5,-306 205.5,-324 236.5,-324 236.5,-306 205.5,-306\"/>\n",
       "<text text-anchor=\"start\" x=\"208.0068\" y=\"-311.4\" font-family=\"Times,serif\" font-size=\"12.00\" fill=\"#000000\">name</text>\n",
       "<polygon fill=\"none\" stroke=\"#000000\" points=\"236.5,-306 236.5,-324 287.5,-324 287.5,-306 236.5,-306\"/>\n",
       "<text text-anchor=\"start\" x=\"253.668\" y=\"-311.4\" font-family=\"Times,serif\" font-size=\"12.00\" fill=\"#000000\">stat</text>\n",
       "<polygon fill=\"none\" stroke=\"#000000\" points=\"205.5,-288 205.5,-306 236.5,-306 236.5,-288 205.5,-288\"/>\n",
       "<text text-anchor=\"start\" x=\"209.3398\" y=\"-293.4\" font-family=\"Times,serif\" font-size=\"12.00\" fill=\"#000000\">label</text>\n",
       "<polygon fill=\"none\" stroke=\"#000000\" points=\"236.5,-288 236.5,-306 287.5,-306 287.5,-288 236.5,-288\"/>\n",
       "<text text-anchor=\"start\" x=\"239.0049\" y=\"-293.4\" font-family=\"Times,serif\" font-size=\"12.00\" fill=\"#000000\">printExpr</text>\n",
       "</g>\n",
       "<!-- 4453962416&#45;&gt;4453963816 -->\n",
       "<g id=\"edge1\" class=\"edge\">\n",
       "<title>4453962416&#45;&gt;4453963816</title>\n",
       "<path fill=\"none\" stroke=\"#000000\" d=\"M246.5,-359.7799C246.5,-354.0454 246.5,-347.9945 246.5,-342.2586\"/>\n",
       "</g>\n",
       "<!-- 4454054208 -->\n",
       "<g id=\"node3\" class=\"node\">\n",
       "<title>4454054208</title>\n",
       "<polygon fill=\"none\" stroke=\"#000000\" points=\"160.5,-252 160.5,-270 191.5,-270 191.5,-252 160.5,-252\"/>\n",
       "<text text-anchor=\"start\" x=\"165.6699\" y=\"-257.4\" font-family=\"Times,serif\" font-size=\"12.00\" fill=\"#000000\">type</text>\n",
       "<polygon fill=\"none\" stroke=\"#000000\" points=\"191.5,-252 191.5,-270 233.5,-270 233.5,-252 191.5,-252\"/>\n",
       "<text text-anchor=\"start\" x=\"203.1719\" y=\"-257.4\" font-family=\"Times,serif\" font-size=\"12.00\" fill=\"#000000\">rule</text>\n",
       "<polygon fill=\"none\" stroke=\"#000000\" points=\"160.5,-234 160.5,-252 191.5,-252 191.5,-234 160.5,-234\"/>\n",
       "<text text-anchor=\"start\" x=\"163.0068\" y=\"-239.4\" font-family=\"Times,serif\" font-size=\"12.00\" fill=\"#000000\">name</text>\n",
       "<polygon fill=\"none\" stroke=\"#000000\" points=\"191.5,-234 191.5,-252 233.5,-252 233.5,-234 191.5,-234\"/>\n",
       "<text text-anchor=\"start\" x=\"201.8389\" y=\"-239.4\" font-family=\"Times,serif\" font-size=\"12.00\" fill=\"#000000\">expr</text>\n",
       "<polygon fill=\"none\" stroke=\"#000000\" points=\"160.5,-216 160.5,-234 191.5,-234 191.5,-216 160.5,-216\"/>\n",
       "<text text-anchor=\"start\" x=\"164.3398\" y=\"-221.4\" font-family=\"Times,serif\" font-size=\"12.00\" fill=\"#000000\">label</text>\n",
       "<polygon fill=\"none\" stroke=\"#000000\" points=\"191.5,-216 191.5,-234 233.5,-234 233.5,-216 191.5,-216\"/>\n",
       "<text text-anchor=\"start\" x=\"194.5\" y=\"-221.4\" font-family=\"Times,serif\" font-size=\"12.00\" fill=\"#000000\">addSub</text>\n",
       "</g>\n",
       "<!-- 4453963816&#45;&gt;4454054208 -->\n",
       "<g id=\"edge2\" class=\"edge\">\n",
       "<title>4453963816&#45;&gt;4454054208</title>\n",
       "<path fill=\"none\" stroke=\"#000000\" d=\"M227.5971,-287.7799C223.6149,-282.0454 219.4128,-275.9945 215.4296,-270.2586\"/>\n",
       "</g>\n",
       "<!-- 4454054600 -->\n",
       "<g id=\"node4\" class=\"node\">\n",
       "<title>4454054600</title>\n",
       "<polygon fill=\"none\" stroke=\"#000000\" points=\"251.5,-252 251.5,-270 282.5,-270 282.5,-252 251.5,-252\"/>\n",
       "<text text-anchor=\"start\" x=\"256.6699\" y=\"-257.4\" font-family=\"Times,serif\" font-size=\"12.00\" fill=\"#000000\">type</text>\n",
       "<polygon fill=\"none\" stroke=\"#000000\" points=\"282.5,-252 282.5,-270 342.5,-270 342.5,-252 282.5,-252\"/>\n",
       "<text text-anchor=\"start\" x=\"299.1699\" y=\"-257.4\" font-family=\"Times,serif\" font-size=\"12.00\" fill=\"#000000\">token</text>\n",
       "<polygon fill=\"none\" stroke=\"#000000\" points=\"251.5,-234 251.5,-252 282.5,-252 282.5,-234 251.5,-234\"/>\n",
       "<text text-anchor=\"start\" x=\"254.0068\" y=\"-239.4\" font-family=\"Times,serif\" font-size=\"12.00\" fill=\"#000000\">name</text>\n",
       "<polygon fill=\"none\" stroke=\"#000000\" points=\"282.5,-234 282.5,-252 342.5,-252 342.5,-234 282.5,-234\"/>\n",
       "<text text-anchor=\"start\" x=\"285.1777\" y=\"-239.4\" font-family=\"Times,serif\" font-size=\"12.00\" fill=\"#000000\">NEWLINE</text>\n",
       "<polygon fill=\"none\" stroke=\"#000000\" points=\"251.5,-216 251.5,-234 282.5,-234 282.5,-216 251.5,-216\"/>\n",
       "<text text-anchor=\"start\" x=\"254.0068\" y=\"-221.4\" font-family=\"Times,serif\" font-size=\"12.00\" fill=\"#000000\">value</text>\n",
       "<polygon fill=\"none\" stroke=\"#000000\" points=\"282.5,-216 282.5,-234 342.5,-234 342.5,-216 282.5,-216\"/>\n",
       "<text text-anchor=\"start\" x=\"307.833\" y=\"-221.4\" font-family=\"Times,serif\" font-size=\"12.00\" fill=\"#000000\">\\n</text>\n",
       "</g>\n",
       "<!-- 4453963816&#45;&gt;4454054600 -->\n",
       "<g id=\"edge3\" class=\"edge\">\n",
       "<title>4453963816&#45;&gt;4454054600</title>\n",
       "<path fill=\"none\" stroke=\"#000000\" d=\"M265.4029,-287.7799C269.3851,-282.0454 273.5872,-275.9945 277.5704,-270.2586\"/>\n",
       "</g>\n",
       "<!-- 4454054208&#45;&gt;4454054600 -->\n",
       "<!-- 4452219648 -->\n",
       "<g id=\"node5\" class=\"node\">\n",
       "<title>4452219648</title>\n",
       "<polygon fill=\"none\" stroke=\"#000000\" points=\"74.5,-180 74.5,-198 105.5,-198 105.5,-180 74.5,-180\"/>\n",
       "<text text-anchor=\"start\" x=\"79.6699\" y=\"-185.4\" font-family=\"Times,serif\" font-size=\"12.00\" fill=\"#000000\">type</text>\n",
       "<polygon fill=\"none\" stroke=\"#000000\" points=\"105.5,-180 105.5,-198 147.5,-198 147.5,-180 105.5,-180\"/>\n",
       "<text text-anchor=\"start\" x=\"117.1719\" y=\"-185.4\" font-family=\"Times,serif\" font-size=\"12.00\" fill=\"#000000\">rule</text>\n",
       "<polygon fill=\"none\" stroke=\"#000000\" points=\"74.5,-162 74.5,-180 105.5,-180 105.5,-162 74.5,-162\"/>\n",
       "<text text-anchor=\"start\" x=\"77.0068\" y=\"-167.4\" font-family=\"Times,serif\" font-size=\"12.00\" fill=\"#000000\">name</text>\n",
       "<polygon fill=\"none\" stroke=\"#000000\" points=\"105.5,-162 105.5,-180 147.5,-180 147.5,-162 105.5,-162\"/>\n",
       "<text text-anchor=\"start\" x=\"115.8389\" y=\"-167.4\" font-family=\"Times,serif\" font-size=\"12.00\" fill=\"#000000\">expr</text>\n",
       "<polygon fill=\"none\" stroke=\"#000000\" points=\"74.5,-144 74.5,-162 105.5,-162 105.5,-144 74.5,-144\"/>\n",
       "<text text-anchor=\"start\" x=\"78.3398\" y=\"-149.4\" font-family=\"Times,serif\" font-size=\"12.00\" fill=\"#000000\">label</text>\n",
       "<polygon fill=\"none\" stroke=\"#000000\" points=\"105.5,-144 105.5,-162 147.5,-162 147.5,-144 105.5,-144\"/>\n",
       "<text text-anchor=\"start\" x=\"108.166\" y=\"-149.4\" font-family=\"Times,serif\" font-size=\"12.00\" fill=\"#000000\">mulDiv</text>\n",
       "</g>\n",
       "<!-- 4454054208&#45;&gt;4452219648 -->\n",
       "<g id=\"edge5\" class=\"edge\">\n",
       "<title>4454054208&#45;&gt;4452219648</title>\n",
       "<path fill=\"none\" stroke=\"#000000\" d=\"M163.9871,-215.7799C157.0425,-209.9658 149.7092,-203.8263 142.7736,-198.0198\"/>\n",
       "</g>\n",
       "<!-- 4454702776 -->\n",
       "<g id=\"node6\" class=\"node\">\n",
       "<title>4454702776</title>\n",
       "<polygon fill=\"none\" stroke=\"#000000\" points=\"165.5,-180 165.5,-198 196.5,-198 196.5,-180 165.5,-180\"/>\n",
       "<text text-anchor=\"start\" x=\"170.6699\" y=\"-185.4\" font-family=\"Times,serif\" font-size=\"12.00\" fill=\"#000000\">type</text>\n",
       "<polygon fill=\"none\" stroke=\"#000000\" points=\"196.5,-180 196.5,-198 228.5,-198 228.5,-180 196.5,-180\"/>\n",
       "<text text-anchor=\"start\" x=\"199.1699\" y=\"-185.4\" font-family=\"Times,serif\" font-size=\"12.00\" fill=\"#000000\">token</text>\n",
       "<polygon fill=\"none\" stroke=\"#000000\" points=\"165.5,-162 165.5,-180 196.5,-180 196.5,-162 165.5,-162\"/>\n",
       "<text text-anchor=\"start\" x=\"168.0068\" y=\"-167.4\" font-family=\"Times,serif\" font-size=\"12.00\" fill=\"#000000\">name</text>\n",
       "<polygon fill=\"none\" stroke=\"#000000\" points=\"196.5,-162 196.5,-180 228.5,-180 228.5,-162 196.5,-162\"/>\n",
       "<text text-anchor=\"start\" x=\"199.501\" y=\"-167.4\" font-family=\"Times,serif\" font-size=\"12.00\" fill=\"#000000\">ADD</text>\n",
       "<polygon fill=\"none\" stroke=\"#000000\" points=\"165.5,-144 165.5,-162 196.5,-162 196.5,-144 165.5,-144\"/>\n",
       "<text text-anchor=\"start\" x=\"168.0068\" y=\"-149.4\" font-family=\"Times,serif\" font-size=\"12.00\" fill=\"#000000\">value</text>\n",
       "<polygon fill=\"none\" stroke=\"#000000\" points=\"196.5,-144 196.5,-162 228.5,-162 228.5,-144 196.5,-144\"/>\n",
       "<text text-anchor=\"start\" x=\"209.1162\" y=\"-149.4\" font-family=\"Times,serif\" font-size=\"12.00\" fill=\"#000000\">+</text>\n",
       "</g>\n",
       "<!-- 4454054208&#45;&gt;4454702776 -->\n",
       "<g id=\"edge6\" class=\"edge\">\n",
       "<title>4454054208&#45;&gt;4454702776</title>\n",
       "<path fill=\"none\" stroke=\"#000000\" d=\"M196.5,-215.7799C196.5,-210.0454 196.5,-203.9945 196.5,-198.2586\"/>\n",
       "</g>\n",
       "<!-- 4454054544 -->\n",
       "<g id=\"node7\" class=\"node\">\n",
       "<title>4454054544</title>\n",
       "<polygon fill=\"none\" stroke=\"#000000\" points=\"246.5,-180 246.5,-198 277.5,-198 277.5,-180 246.5,-180\"/>\n",
       "<text text-anchor=\"start\" x=\"251.6699\" y=\"-185.4\" font-family=\"Times,serif\" font-size=\"12.00\" fill=\"#000000\">type</text>\n",
       "<polygon fill=\"none\" stroke=\"#000000\" points=\"277.5,-180 277.5,-198 304.5,-198 304.5,-180 277.5,-180\"/>\n",
       "<text text-anchor=\"start\" x=\"281.6719\" y=\"-185.4\" font-family=\"Times,serif\" font-size=\"12.00\" fill=\"#000000\">rule</text>\n",
       "<polygon fill=\"none\" stroke=\"#000000\" points=\"246.5,-162 246.5,-180 277.5,-180 277.5,-162 246.5,-162\"/>\n",
       "<text text-anchor=\"start\" x=\"249.0068\" y=\"-167.4\" font-family=\"Times,serif\" font-size=\"12.00\" fill=\"#000000\">name</text>\n",
       "<polygon fill=\"none\" stroke=\"#000000\" points=\"277.5,-162 277.5,-180 304.5,-180 304.5,-162 277.5,-162\"/>\n",
       "<text text-anchor=\"start\" x=\"280.3389\" y=\"-167.4\" font-family=\"Times,serif\" font-size=\"12.00\" fill=\"#000000\">expr</text>\n",
       "<polygon fill=\"none\" stroke=\"#000000\" points=\"246.5,-144 246.5,-162 277.5,-162 277.5,-144 246.5,-144\"/>\n",
       "<text text-anchor=\"start\" x=\"250.3398\" y=\"-149.4\" font-family=\"Times,serif\" font-size=\"12.00\" fill=\"#000000\">label</text>\n",
       "<polygon fill=\"none\" stroke=\"#000000\" points=\"277.5,-144 277.5,-162 304.5,-162 304.5,-144 277.5,-144\"/>\n",
       "<text text-anchor=\"start\" x=\"284.666\" y=\"-149.4\" font-family=\"Times,serif\" font-size=\"12.00\" fill=\"#000000\">int</text>\n",
       "</g>\n",
       "<!-- 4454054208&#45;&gt;4454054544 -->\n",
       "<g id=\"edge7\" class=\"edge\">\n",
       "<title>4454054208&#45;&gt;4454054544</title>\n",
       "<path fill=\"none\" stroke=\"#000000\" d=\"M226.3665,-215.7799C232.9206,-209.8065 239.8516,-203.4897 246.3761,-197.5433\"/>\n",
       "</g>\n",
       "<!-- 4452219648&#45;&gt;4454702776 -->\n",
       "<!-- 4454224896 -->\n",
       "<g id=\"node8\" class=\"node\">\n",
       "<title>4454224896</title>\n",
       "<polygon fill=\"none\" stroke=\"#000000\" points=\"2.5,-108 2.5,-126 33.5,-126 33.5,-108 2.5,-108\"/>\n",
       "<text text-anchor=\"start\" x=\"7.6699\" y=\"-113.4\" font-family=\"Times,serif\" font-size=\"12.00\" fill=\"#000000\">type</text>\n",
       "<polygon fill=\"none\" stroke=\"#000000\" points=\"33.5,-108 33.5,-126 60.5,-126 60.5,-108 33.5,-108\"/>\n",
       "<text text-anchor=\"start\" x=\"37.6719\" y=\"-113.4\" font-family=\"Times,serif\" font-size=\"12.00\" fill=\"#000000\">rule</text>\n",
       "<polygon fill=\"none\" stroke=\"#000000\" points=\"2.5,-90 2.5,-108 33.5,-108 33.5,-90 2.5,-90\"/>\n",
       "<text text-anchor=\"start\" x=\"5.0068\" y=\"-95.4\" font-family=\"Times,serif\" font-size=\"12.00\" fill=\"#000000\">name</text>\n",
       "<polygon fill=\"none\" stroke=\"#000000\" points=\"33.5,-90 33.5,-108 60.5,-108 60.5,-90 33.5,-90\"/>\n",
       "<text text-anchor=\"start\" x=\"36.3389\" y=\"-95.4\" font-family=\"Times,serif\" font-size=\"12.00\" fill=\"#000000\">expr</text>\n",
       "<polygon fill=\"none\" stroke=\"#000000\" points=\"2.5,-72 2.5,-90 33.5,-90 33.5,-72 2.5,-72\"/>\n",
       "<text text-anchor=\"start\" x=\"6.3398\" y=\"-77.4\" font-family=\"Times,serif\" font-size=\"12.00\" fill=\"#000000\">label</text>\n",
       "<polygon fill=\"none\" stroke=\"#000000\" points=\"33.5,-72 33.5,-90 60.5,-90 60.5,-72 33.5,-72\"/>\n",
       "<text text-anchor=\"start\" x=\"40.666\" y=\"-77.4\" font-family=\"Times,serif\" font-size=\"12.00\" fill=\"#000000\">int</text>\n",
       "</g>\n",
       "<!-- 4452219648&#45;&gt;4454224896 -->\n",
       "<g id=\"edge10\" class=\"edge\">\n",
       "<title>4452219648&#45;&gt;4454224896</title>\n",
       "<path fill=\"none\" stroke=\"#000000\" d=\"M80.6335,-143.7799C74.0794,-137.8065 67.1484,-131.4897 60.6239,-125.5433\"/>\n",
       "</g>\n",
       "<!-- 4454224616 -->\n",
       "<g id=\"node9\" class=\"node\">\n",
       "<title>4454224616</title>\n",
       "<polygon fill=\"none\" stroke=\"#000000\" points=\"79.5,-108 79.5,-126 110.5,-126 110.5,-108 79.5,-108\"/>\n",
       "<text text-anchor=\"start\" x=\"84.6699\" y=\"-113.4\" font-family=\"Times,serif\" font-size=\"12.00\" fill=\"#000000\">type</text>\n",
       "<polygon fill=\"none\" stroke=\"#000000\" points=\"110.5,-108 110.5,-126 142.5,-126 142.5,-108 110.5,-108\"/>\n",
       "<text text-anchor=\"start\" x=\"113.1699\" y=\"-113.4\" font-family=\"Times,serif\" font-size=\"12.00\" fill=\"#000000\">token</text>\n",
       "<polygon fill=\"none\" stroke=\"#000000\" points=\"79.5,-90 79.5,-108 110.5,-108 110.5,-90 79.5,-90\"/>\n",
       "<text text-anchor=\"start\" x=\"82.0068\" y=\"-95.4\" font-family=\"Times,serif\" font-size=\"12.00\" fill=\"#000000\">name</text>\n",
       "<polygon fill=\"none\" stroke=\"#000000\" points=\"110.5,-90 110.5,-108 142.5,-108 142.5,-90 110.5,-90\"/>\n",
       "<text text-anchor=\"start\" x=\"113.167\" y=\"-95.4\" font-family=\"Times,serif\" font-size=\"12.00\" fill=\"#000000\">MUL</text>\n",
       "<polygon fill=\"none\" stroke=\"#000000\" points=\"79.5,-72 79.5,-90 110.5,-90 110.5,-72 79.5,-72\"/>\n",
       "<text text-anchor=\"start\" x=\"82.0068\" y=\"-77.4\" font-family=\"Times,serif\" font-size=\"12.00\" fill=\"#000000\">value</text>\n",
       "<polygon fill=\"none\" stroke=\"#000000\" points=\"110.5,-72 110.5,-90 142.5,-90 142.5,-72 110.5,-72\"/>\n",
       "<text text-anchor=\"start\" x=\"123.5\" y=\"-77.4\" font-family=\"Times,serif\" font-size=\"12.00\" fill=\"#000000\">*</text>\n",
       "</g>\n",
       "<!-- 4452219648&#45;&gt;4454224616 -->\n",
       "<g id=\"edge11\" class=\"edge\">\n",
       "<title>4452219648&#45;&gt;4454224616</title>\n",
       "<path fill=\"none\" stroke=\"#000000\" d=\"M110.5,-143.7799C110.5,-138.0454 110.5,-131.9945 110.5,-126.2586\"/>\n",
       "</g>\n",
       "<!-- 4452219816 -->\n",
       "<g id=\"node10\" class=\"node\">\n",
       "<title>4452219816</title>\n",
       "<polygon fill=\"none\" stroke=\"#000000\" points=\"160.5,-108 160.5,-126 191.5,-126 191.5,-108 160.5,-108\"/>\n",
       "<text text-anchor=\"start\" x=\"165.6699\" y=\"-113.4\" font-family=\"Times,serif\" font-size=\"12.00\" fill=\"#000000\">type</text>\n",
       "<polygon fill=\"none\" stroke=\"#000000\" points=\"191.5,-108 191.5,-126 218.5,-126 218.5,-108 191.5,-108\"/>\n",
       "<text text-anchor=\"start\" x=\"195.6719\" y=\"-113.4\" font-family=\"Times,serif\" font-size=\"12.00\" fill=\"#000000\">rule</text>\n",
       "<polygon fill=\"none\" stroke=\"#000000\" points=\"160.5,-90 160.5,-108 191.5,-108 191.5,-90 160.5,-90\"/>\n",
       "<text text-anchor=\"start\" x=\"163.0068\" y=\"-95.4\" font-family=\"Times,serif\" font-size=\"12.00\" fill=\"#000000\">name</text>\n",
       "<polygon fill=\"none\" stroke=\"#000000\" points=\"191.5,-90 191.5,-108 218.5,-108 218.5,-90 191.5,-90\"/>\n",
       "<text text-anchor=\"start\" x=\"194.3389\" y=\"-95.4\" font-family=\"Times,serif\" font-size=\"12.00\" fill=\"#000000\">expr</text>\n",
       "<polygon fill=\"none\" stroke=\"#000000\" points=\"160.5,-72 160.5,-90 191.5,-90 191.5,-72 160.5,-72\"/>\n",
       "<text text-anchor=\"start\" x=\"164.3398\" y=\"-77.4\" font-family=\"Times,serif\" font-size=\"12.00\" fill=\"#000000\">label</text>\n",
       "<polygon fill=\"none\" stroke=\"#000000\" points=\"191.5,-72 191.5,-90 218.5,-90 218.5,-72 191.5,-72\"/>\n",
       "<text text-anchor=\"start\" x=\"198.666\" y=\"-77.4\" font-family=\"Times,serif\" font-size=\"12.00\" fill=\"#000000\">int</text>\n",
       "</g>\n",
       "<!-- 4452219648&#45;&gt;4452219816 -->\n",
       "<g id=\"edge12\" class=\"edge\">\n",
       "<title>4452219648&#45;&gt;4452219816</title>\n",
       "<path fill=\"none\" stroke=\"#000000\" d=\"M140.3665,-143.7799C146.9206,-137.8065 153.8516,-131.4897 160.3761,-125.5433\"/>\n",
       "</g>\n",
       "<!-- 4454702776&#45;&gt;4454054544 -->\n",
       "<!-- 4454054152 -->\n",
       "<g id=\"node13\" class=\"node\">\n",
       "<title>4454054152</title>\n",
       "<polygon fill=\"none\" stroke=\"#000000\" points=\"244.5,-108 244.5,-126 275.5,-126 275.5,-108 244.5,-108\"/>\n",
       "<text text-anchor=\"start\" x=\"249.6699\" y=\"-113.4\" font-family=\"Times,serif\" font-size=\"12.00\" fill=\"#000000\">type</text>\n",
       "<polygon fill=\"none\" stroke=\"#000000\" points=\"275.5,-108 275.5,-126 307.5,-126 307.5,-108 275.5,-108\"/>\n",
       "<text text-anchor=\"start\" x=\"278.1699\" y=\"-113.4\" font-family=\"Times,serif\" font-size=\"12.00\" fill=\"#000000\">token</text>\n",
       "<polygon fill=\"none\" stroke=\"#000000\" points=\"244.5,-90 244.5,-108 275.5,-108 275.5,-90 244.5,-90\"/>\n",
       "<text text-anchor=\"start\" x=\"247.0068\" y=\"-95.4\" font-family=\"Times,serif\" font-size=\"12.00\" fill=\"#000000\">name</text>\n",
       "<polygon fill=\"none\" stroke=\"#000000\" points=\"275.5,-90 275.5,-108 307.5,-108 307.5,-90 275.5,-90\"/>\n",
       "<text text-anchor=\"start\" x=\"281.5039\" y=\"-95.4\" font-family=\"Times,serif\" font-size=\"12.00\" fill=\"#000000\">INT</text>\n",
       "<polygon fill=\"none\" stroke=\"#000000\" points=\"244.5,-72 244.5,-90 275.5,-90 275.5,-72 244.5,-72\"/>\n",
       "<text text-anchor=\"start\" x=\"247.0068\" y=\"-77.4\" font-family=\"Times,serif\" font-size=\"12.00\" fill=\"#000000\">value</text>\n",
       "<polygon fill=\"none\" stroke=\"#000000\" points=\"275.5,-72 275.5,-90 307.5,-90 307.5,-72 275.5,-72\"/>\n",
       "<text text-anchor=\"start\" x=\"288.5\" y=\"-77.4\" font-family=\"Times,serif\" font-size=\"12.00\" fill=\"#000000\">5</text>\n",
       "</g>\n",
       "<!-- 4454054544&#45;&gt;4454054152 -->\n",
       "<g id=\"edge17\" class=\"edge\">\n",
       "<title>4454054544&#45;&gt;4454054152</title>\n",
       "<path fill=\"none\" stroke=\"#000000\" d=\"M275.5,-143.7799C275.5,-138.0454 275.5,-131.9945 275.5,-126.2586\"/>\n",
       "</g>\n",
       "<!-- 4454224896&#45;&gt;4454224616 -->\n",
       "<!-- 4455576912 -->\n",
       "<g id=\"node11\" class=\"node\">\n",
       "<title>4455576912</title>\n",
       "<polygon fill=\"none\" stroke=\"#000000\" points=\".5,-36 .5,-54 31.5,-54 31.5,-36 .5,-36\"/>\n",
       "<text text-anchor=\"start\" x=\"5.6699\" y=\"-41.4\" font-family=\"Times,serif\" font-size=\"12.00\" fill=\"#000000\">type</text>\n",
       "<polygon fill=\"none\" stroke=\"#000000\" points=\"31.5,-36 31.5,-54 63.5,-54 63.5,-36 31.5,-36\"/>\n",
       "<text text-anchor=\"start\" x=\"34.1699\" y=\"-41.4\" font-family=\"Times,serif\" font-size=\"12.00\" fill=\"#000000\">token</text>\n",
       "<polygon fill=\"none\" stroke=\"#000000\" points=\".5,-18 .5,-36 31.5,-36 31.5,-18 .5,-18\"/>\n",
       "<text text-anchor=\"start\" x=\"3.0068\" y=\"-23.4\" font-family=\"Times,serif\" font-size=\"12.00\" fill=\"#000000\">name</text>\n",
       "<polygon fill=\"none\" stroke=\"#000000\" points=\"31.5,-18 31.5,-36 63.5,-36 63.5,-18 31.5,-18\"/>\n",
       "<text text-anchor=\"start\" x=\"37.5039\" y=\"-23.4\" font-family=\"Times,serif\" font-size=\"12.00\" fill=\"#000000\">INT</text>\n",
       "<polygon fill=\"none\" stroke=\"#000000\" points=\".5,0 .5,-18 31.5,-18 31.5,0 .5,0\"/>\n",
       "<text text-anchor=\"start\" x=\"3.0068\" y=\"-5.4\" font-family=\"Times,serif\" font-size=\"12.00\" fill=\"#000000\">value</text>\n",
       "<polygon fill=\"none\" stroke=\"#000000\" points=\"31.5,0 31.5,-18 63.5,-18 63.5,0 31.5,0\"/>\n",
       "<text text-anchor=\"start\" x=\"44.5\" y=\"-5.4\" font-family=\"Times,serif\" font-size=\"12.00\" fill=\"#000000\">3</text>\n",
       "</g>\n",
       "<!-- 4454224896&#45;&gt;4455576912 -->\n",
       "<g id=\"edge15\" class=\"edge\">\n",
       "<title>4454224896&#45;&gt;4455576912</title>\n",
       "<path fill=\"none\" stroke=\"#000000\" d=\"M31.5,-71.7799C31.5,-66.0454 31.5,-59.9945 31.5,-54.2586\"/>\n",
       "</g>\n",
       "<!-- 4454224616&#45;&gt;4452219816 -->\n",
       "<!-- 4454227080 -->\n",
       "<g id=\"node12\" class=\"node\">\n",
       "<title>4454227080</title>\n",
       "<polygon fill=\"none\" stroke=\"#000000\" points=\"158.5,-36 158.5,-54 189.5,-54 189.5,-36 158.5,-36\"/>\n",
       "<text text-anchor=\"start\" x=\"163.6699\" y=\"-41.4\" font-family=\"Times,serif\" font-size=\"12.00\" fill=\"#000000\">type</text>\n",
       "<polygon fill=\"none\" stroke=\"#000000\" points=\"189.5,-36 189.5,-54 221.5,-54 221.5,-36 189.5,-36\"/>\n",
       "<text text-anchor=\"start\" x=\"192.1699\" y=\"-41.4\" font-family=\"Times,serif\" font-size=\"12.00\" fill=\"#000000\">token</text>\n",
       "<polygon fill=\"none\" stroke=\"#000000\" points=\"158.5,-18 158.5,-36 189.5,-36 189.5,-18 158.5,-18\"/>\n",
       "<text text-anchor=\"start\" x=\"161.0068\" y=\"-23.4\" font-family=\"Times,serif\" font-size=\"12.00\" fill=\"#000000\">name</text>\n",
       "<polygon fill=\"none\" stroke=\"#000000\" points=\"189.5,-18 189.5,-36 221.5,-36 221.5,-18 189.5,-18\"/>\n",
       "<text text-anchor=\"start\" x=\"195.5039\" y=\"-23.4\" font-family=\"Times,serif\" font-size=\"12.00\" fill=\"#000000\">INT</text>\n",
       "<polygon fill=\"none\" stroke=\"#000000\" points=\"158.5,0 158.5,-18 189.5,-18 189.5,0 158.5,0\"/>\n",
       "<text text-anchor=\"start\" x=\"161.0068\" y=\"-5.4\" font-family=\"Times,serif\" font-size=\"12.00\" fill=\"#000000\">value</text>\n",
       "<polygon fill=\"none\" stroke=\"#000000\" points=\"189.5,0 189.5,-18 221.5,-18 221.5,0 189.5,0\"/>\n",
       "<text text-anchor=\"start\" x=\"202.5\" y=\"-5.4\" font-family=\"Times,serif\" font-size=\"12.00\" fill=\"#000000\">4</text>\n",
       "</g>\n",
       "<!-- 4452219816&#45;&gt;4454227080 -->\n",
       "<g id=\"edge16\" class=\"edge\">\n",
       "<title>4452219816&#45;&gt;4454227080</title>\n",
       "<path fill=\"none\" stroke=\"#000000\" d=\"M189.5,-71.7799C189.5,-66.0454 189.5,-59.9945 189.5,-54.2586\"/>\n",
       "</g>\n",
       "</g>\n",
       "</svg>\n"
      ],
      "text/plain": [
       "({'type': 'rule', 'name': 'prog', 'label': 'prog'}: ({'type': 'rule', 'name': 'stat', 'label': 'printExpr'}: ({'type': 'rule', 'name': 'expr', 'label': 'addSub'}: ({'type': 'rule', 'name': 'expr', 'label': 'mulDiv'}: ({'type': 'rule', 'name': 'expr', 'label': 'int'}: ({'type': 'token', 'name': 'INT', 'value': '3'})), ({'type': 'token', 'name': 'MUL', 'value': '*'}), ({'type': 'rule', 'name': 'expr', 'label': 'int'}: ({'type': 'token', 'name': 'INT', 'value': '4'}))), ({'type': 'token', 'name': 'ADD', 'value': '+'}), ({'type': 'rule', 'name': 'expr', 'label': 'int'}: ({'type': 'token', 'name': 'INT', 'value': '5'}))), ({'type': 'token', 'name': 'NEWLINE', 'value': '\\\\\\\\n'})))"
      ]
     },
     "execution_count": 20,
     "metadata": {},
     "output_type": "execute_result"
    }
   ],
   "source": [
    "LabeledExpr.tree(expr, 'prog')"
   ]
  },
  {
   "cell_type": "markdown",
   "metadata": {},
   "source": [
    "#### Lista dei token (numerati)"
   ]
  },
  {
   "cell_type": "code",
   "execution_count": 21,
   "metadata": {},
   "outputs": [
    {
     "name": "stdout",
     "output_type": "stream",
     "text": [
      "[@0,0:0='3',<9>,1:0]\n",
      "[@1,2:2='*',<4>,1:2]\n",
      "[@2,4:4='4',<9>,1:4]\n",
      "[@3,6:6='+',<6>,1:6]\n",
      "[@4,8:8='5',<9>,1:8]\n",
      "[@5,9:9='\\n',<10>,1:9]\n",
      "[@6,10:9='<EOF>',<-1>,2:0]\n"
     ]
    }
   ],
   "source": [
    "for token in LabeledExpr.tokens(expr): print(token)"
   ]
  },
  {
   "cell_type": "markdown",
   "metadata": {},
   "source": [
    "### Valutazione (con Visitor)"
   ]
  },
  {
   "cell_type": "code",
   "execution_count": 22,
   "metadata": {},
   "outputs": [],
   "source": [
    "class EvalVisitor(LabeledExpr.Visitor):\n",
    "\n",
    "    def __init__(self):\n",
    "        self.memory = {}\n",
    "        \n",
    "    def visitAssign(self, ctx):\n",
    "        name = ctx.ID().getText()\n",
    "        value = self.visit(ctx.expr())\n",
    "        self.memory[name] = value\n",
    "        return value\n",
    "\n",
    "    def visitPrintExpr(self, ctx):\n",
    "        value = self.visit(ctx.expr())\n",
    "        print(value)\n",
    "\n",
    "    def visitInt(self, ctx):\n",
    "        return int(ctx.INT().getText())\n",
    "\n",
    "    def visitId(self, ctx):\n",
    "        name = ctx.ID().getText()\n",
    "        if name in self.memory: return self.memory[name]\n",
    "        return 0\n",
    "\n",
    "    def visitMulDiv(self, ctx):\n",
    "        left = self.visit(ctx.expr(0))\n",
    "        right = self.visit(ctx.expr(1))\n",
    "        if ctx.op.type == LabeledExpr.Parser.MUL:\n",
    "            return left * right\n",
    "        else:\n",
    "            return left / right\n",
    "\n",
    "    def visitAddSub(self, ctx):\n",
    "        left = self.visit(ctx.expr(0))\n",
    "        right = self.visit(ctx.expr(1))\n",
    "        if ctx.op.type == LabeledExpr.Parser.ADD:\n",
    "            return left + right\n",
    "        else:\n",
    "            return left - right\n",
    "\n",
    "    def visitParens(self, ctx):\n",
    "        return self.visit(ctx.expr())"
   ]
  },
  {
   "cell_type": "code",
   "execution_count": 23,
   "metadata": {},
   "outputs": [
    {
     "name": "stdout",
     "output_type": "stream",
     "text": [
      "7\n",
      "8\n"
     ]
    }
   ],
   "source": [
    "expr = \"\"\"\n",
    "3 + 4\n",
    "A = 2\n",
    "A + 2 * 3\n",
    "\"\"\"\n",
    "\n",
    "ctx = LabeledExpr.context(expr, 'prog')\n",
    "visitor = EvalVisitor()\n",
    "visitor.visit(ctx)"
   ]
  },
  {
   "cell_type": "markdown",
   "metadata": {},
   "source": [
    "### Numerazione degli assegnamenti (con Listener)"
   ]
  },
  {
   "cell_type": "code",
   "execution_count": 24,
   "metadata": {},
   "outputs": [],
   "source": [
    "class LineNumberingListener(LabeledExpr.Listener):\n",
    "    def __init__(self):\n",
    "        self.assign_num = 0\n",
    "    def enterAssign(self, ctx):\n",
    "        print(self.assign_num, ctx.getText().strip())\n",
    "        self.assign_num += 1"
   ]
  },
  {
   "cell_type": "code",
   "execution_count": 25,
   "metadata": {
    "scrolled": false
   },
   "outputs": [
    {
     "name": "stdout",
     "output_type": "stream",
     "text": [
      "0 A=1\n",
      "1 B=2\n",
      "2 C=4\n"
     ]
    }
   ],
   "source": [
    "expr = \"\"\"\n",
    "A = 1\n",
    "3 + A\n",
    "B = 2\n",
    "B + 2 * 3\n",
    "C = 4\n",
    "C * C\n",
    "\"\"\"\n",
    "\n",
    "ctx = LabeledExpr.context(expr, 'prog')\n",
    "listener = LineNumberingListener()\n",
    "ParseTreeWalker.DEFAULT.walk(listener, ctx)"
   ]
  },
  {
   "cell_type": "markdown",
   "metadata": {},
   "source": [
    "### Diagnostici"
   ]
  },
  {
   "cell_type": "code",
   "execution_count": 26,
   "metadata": {},
   "outputs": [],
   "source": [
    "Ambig = ANTLR(r\"\"\"\n",
    "grammar Ambig;\n",
    "\n",
    "stat: expr ';'\n",
    "    | ID '(' ')' ';' \n",
    "    ;\n",
    "expr: ID '(' ')' \n",
    "    | INT\n",
    "    ;\n",
    "\n",
    "INT :   [0-9]+ ;\n",
    "ID  :   [a-zA-Z]+ ;\n",
    "WS  :   [ \\t\\r\\n]+ -> skip ;\n",
    "\"\"\")\n",
    "\n",
    "text = 'f();'"
   ]
  },
  {
   "cell_type": "code",
   "execution_count": 27,
   "metadata": {},
   "outputs": [
    {
     "name": "stderr",
     "output_type": "stream",
     "text": [
      "line 1:3 reportAttemptingFullContext d=0 (stat), input='f();'\n",
      "line 1:3 reportAmbiguity d=0 (stat): ambigAlts={1, 2}, input='f();'\n"
     ]
    },
    {
     "data": {
      "text/plain": [
       "<AmbigParser.AmbigParser.StatContext at 0x109819908>"
      ]
     },
     "execution_count": 27,
     "metadata": {},
     "output_type": "execute_result"
    }
   ],
   "source": [
    "Ambig.context(text, 'stat', diag = True)"
   ]
  },
  {
   "cell_type": "code",
   "execution_count": 28,
   "metadata": {},
   "outputs": [
    {
     "name": "stdout",
     "output_type": "stream",
     "text": [
      "enter   stat, LT(1)=f\n",
      "enter   expr, LT(1)=f\n",
      "consume [@0,0:0='f',<5>,1:0] rule expr\n",
      "consume [@1,1:1='(',<2>,1:1] rule expr\n",
      "consume [@2,2:2=')',<3>,1:2] rule expr\n",
      "exit    expr, LT(1)=;\n",
      "consume [@3,3:3=';',<1>,1:3] rule stat\n",
      "exit    stat, LT(1)=<EOF>\n"
     ]
    },
    {
     "data": {
      "text/plain": [
       "<AmbigParser.AmbigParser.StatContext at 0x10981c668>"
      ]
     },
     "execution_count": 28,
     "metadata": {},
     "output_type": "execute_result"
    }
   ],
   "source": [
    "Ambig.context(text, 'stat', trace = True)"
   ]
  }
 ],
 "metadata": {
  "kernelspec": {
   "display_name": "Python 3",
   "language": "python",
   "name": "python3"
  },
  "language_info": {
   "codemirror_mode": {
    "name": "ipython",
    "version": 3
   },
   "file_extension": ".py",
   "mimetype": "text/x-python",
   "name": "python",
   "nbconvert_exporter": "python",
   "pygments_lexer": "ipython3",
   "version": "3.7.3"
  }
 },
 "nbformat": 4,
 "nbformat_minor": 2
}
