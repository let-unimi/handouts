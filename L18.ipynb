{
  "cells": [
    {
      "cell_type": "markdown",
      "metadata": {},
      "source": [
        "# ANTLR 4\n",
        "\n",
        "Il materiale di riferimento per le lezioni a venire è costituito da:\n",
        "\n",
        "* Il libro (di testo) [The Definitive ANTLR 4 Reference](https://pragprog.com/book/tpantlr2/the-definitive-antlr-4-reference) di Terence Parr (l'autore di ANTLR),\n",
        "* le [informazioni su target/runtime Python 3](https://github.com/antlr/antlr4/blob/master/doc/python-target.md),\n",
        "* i [sorgenti del runtime Python 3](https://github.com/antlr/antlr4/tree/master/runtime/Python3),\n",
        "* le [API Java](https://www.antlr.org/api/Java/) (utili a colmare la scarsezza della documentazione dei target/runtime Python 3),\n",
        "* la [versione Python 3 degli esempi di codice](https://github.com/jszheng/py3antlr4book) del libro di cui sopra (non ufficiale),\n",
        "* un [insieme di grammatiche](https://github.com/antlr/grammars-v4) di diversi linguaggi noti.\n",
        "\n",
        "## Uso \"diretto\" (senza LibLET)"
      ]
    },
    {
      "cell_type": "code",
      "execution_count": null,
      "metadata": {},
      "outputs": [],
      "source": [
        "    ! rm -rf Hello*.*"
      ]
    },
    {
      "cell_type": "code",
      "execution_count": null,
      "metadata": {},
      "outputs": [
        {
          "name": "stdout",
          "output_type": "stream",
          "text": [
            "Writing Hello.g\n"
          ]
        }
      ],
      "source": [
        "%%writefile Hello.g\n",
        "\n",
        "grammar Hello;            // Define a grammar called Hello\n",
        "r  : 'hello' ID ;         // match keyword hello followed by an identifier\n",
        "ID : [a-z]+ ;             // match lower-case identifiers\n",
        "WS : [ \\t\\r\\n]+ -> skip ; // skip spaces, tabs, newlines, \\r (Windows)"
      ]
    },
    {
      "cell_type": "markdown",
      "metadata": {},
      "source": [
        "### Generazione dei moduli (usando il tool Java)"
      ]
    },
    {
      "cell_type": "code",
      "execution_count": null,
      "metadata": {},
      "outputs": [
        {
          "name": "stdout",
          "output_type": "stream",
          "text": [
            "/Users/santini/x/let/drafts/jars/antlr-4.8-complete.jar\r\n"
          ]
        }
      ],
      "source": [
        "! echo $ANTLR4_JAR"
      ]
    },
    {
      "cell_type": "code",
      "execution_count": null,
      "metadata": {},
      "outputs": [
        {
          "name": "stdout",
          "output_type": "stream",
          "text": [
            "-rw-r--r-- 1 santini staff 1825 May 19 14:15 HelloLexer.py\r\n",
            "-rw-r--r-- 1 santini staff  559 May 19 14:15 HelloListener.py\r\n",
            "-rw-r--r-- 1 santini staff 2671 May 19 14:15 HelloParser.py\r\n",
            "-rw-r--r-- 1 santini staff  479 May 19 14:15 HelloVisitor.py\r\n"
          ]
        }
      ],
      "source": [
        "! java -jar \"$ANTLR4_JAR\" -Dlanguage=Python3 -visitor Hello.g && ls -l Hello*py"
      ]
    },
    {
      "cell_type": "markdown",
      "metadata": {},
      "source": [
        "### Parsing (costruzione dell'albero)"
      ]
    },
    {
      "cell_type": "code",
      "execution_count": null,
      "metadata": {},
      "outputs": [],
      "source": [
        "# codice dal runtime di antlr4\n",
        "\n",
        "from antlr4.CommonTokenStream import CommonTokenStream\n",
        "from antlr4.InputStream import InputStream"
      ]
    },
    {
      "cell_type": "code",
      "execution_count": null,
      "metadata": {},
      "outputs": [],
      "source": [
        "# codice genrerato da antlr4 a partire dalla grammatica Hello.g\n",
        "\n",
        "from HelloLexer import HelloLexer\n",
        "from HelloParser import HelloParser"
      ]
    },
    {
      "cell_type": "code",
      "execution_count": null,
      "metadata": {},
      "outputs": [
        {
          "data": {
            "text/plain": [
              "'(r hello massimo)'"
            ]
          },
          "execution_count": 7,
          "metadata": {},
          "output_type": "execute_result"
        }
      ],
      "source": [
        "text = 'hello massimo'\n",
        "\n",
        "lexer = HelloLexer(InputStream(text))\n",
        "stream = CommonTokenStream(lexer)\n",
        "parser = HelloParser(stream)\n",
        "tree = parser.r()\n",
        "\n",
        "tree.toStringTree(recog = parser)"
      ]
    },
    {
      "cell_type": "markdown",
      "metadata": {},
      "source": [
        "#### Uso del lexer"
      ]
    },
    {
      "cell_type": "code",
      "execution_count": null,
      "metadata": {},
      "outputs": [
        {
          "name": "stdout",
          "output_type": "stream",
          "text": [
            "[@-1,0:4='hello',<1>,1:0]\n",
            "[@-1,6:12='massimo',<2>,1:6]\n",
            "[@-1,13:12='<EOF>',<-1>,1:13]\n"
          ]
        }
      ],
      "source": [
        "lexer.reset()\n",
        "\n",
        "while True:\n",
        "    token = lexer.nextToken()\n",
        "    print(token)\n",
        "    if token.type == token.EOF: break"
      ]
    },
    {
      "cell_type": "markdown",
      "metadata": {},
      "source": [
        "### Un esempio maggiormente complesso"
      ]
    },
    {
      "cell_type": "code",
      "execution_count": null,
      "metadata": {},
      "outputs": [],
      "source": [
        "! rm -f Expr*.*"
      ]
    },
    {
      "cell_type": "code",
      "execution_count": null,
      "metadata": {},
      "outputs": [
        {
          "name": "stdout",
          "output_type": "stream",
          "text": [
            "Writing Expr.g\n"
          ]
        }
      ],
      "source": [
        "%%writefile Expr.g\n",
        "\n",
        "grammar Expr; \n",
        "\n",
        "/** The start rule; begin parsing here. */\n",
        "\n",
        "prog:   stat+ ;\n",
        "\n",
        "stat:   expr NEWLINE\n",
        "    |   ID '=' expr NEWLINE\n",
        "    |   NEWLINE\n",
        "    ;\n",
        "\n",
        "expr:   expr ('*'|'/') expr\n",
        "    |   expr ('+'|'-') expr\n",
        "    |   INT\n",
        "    |   ID\n",
        "    |   '(' expr ')'\n",
        "    ;\n",
        "\n",
        "MUL :   '*' ; // assigns token name to '*' used above in grammar\n",
        "DIV :   '/' ;\n",
        "ADD :   '+' ;\n",
        "SUB :   '-' ;\n",
        "ID  :   [a-zA-Z]+ ;      // match identifiers\n",
        "INT :   [0-9]+ ;         // match integers\n",
        "NEWLINE:'\\r'? '\\n' ;     // return newlines to parser (is end-statement signal)\n",
        "WS : [ \\t]+ -> skip ; // toss out whitespace    "
      ]
    },
    {
      "cell_type": "code",
      "execution_count": null,
      "metadata": {},
      "outputs": [
        {
          "name": "stdout",
          "output_type": "stream",
          "text": [
            "-rw-r--r-- 1 santini staff  2924 May 19 14:15 ExprLexer.py\r\n",
            "-rw-r--r-- 1 santini staff  1047 May 19 14:15 ExprListener.py\r\n",
            "-rw-r--r-- 1 santini staff 13232 May 19 14:15 ExprParser.py\r\n",
            "-rw-r--r-- 1 santini staff   774 May 19 14:15 ExprVisitor.py\r\n"
          ]
        }
      ],
      "source": [
        "! java -jar \"$ANTLR4_JAR\" -Dlanguage=Python3 -visitor Expr.g && ls -l Expr*py"
      ]
    },
    {
      "cell_type": "code",
      "execution_count": null,
      "metadata": {},
      "outputs": [
        {
          "data": {
            "text/plain": [
              "'(prog (stat (expr (expr (expr 2) * (expr 3)) + (expr 4)) \\\\n))'"
            ]
          },
          "execution_count": 12,
          "metadata": {},
          "output_type": "execute_result"
        }
      ],
      "source": [
        "from ExprLexer import ExprLexer\n",
        "from ExprParser import ExprParser\n",
        "\n",
        "text = '2 * 3 + 4\\n'\n",
        "\n",
        "lexer = ExprLexer(InputStream(text))\n",
        "stream = CommonTokenStream(lexer)\n",
        "parser = ExprParser(stream)\n",
        "tree = parser.prog()\n",
        "\n",
        "tree.toStringTree(recog = parser)"
      ]
    },
    {
      "cell_type": "markdown",
      "metadata": {},
      "source": [
        "#### Uso del Listener"
      ]
    },
    {
      "cell_type": "code",
      "execution_count": null,
      "metadata": {},
      "outputs": [],
      "source": [
        "from antlr4.tree.Tree import ParseTreeWalker"
      ]
    },
    {
      "cell_type": "code",
      "execution_count": null,
      "metadata": {},
      "outputs": [
        {
          "name": "stdout",
          "output_type": "stream",
          "text": [
            "[@0,0:0='2',<9>,1:0] [@0,0:0='2',<9>,1:0] expr\n",
            "[@2,4:4='3',<9>,1:4] [@2,4:4='3',<9>,1:4] expr\n",
            "[@0,0:0='2',<9>,1:0] [@2,4:4='3',<9>,1:4] expr\n",
            "[@4,8:8='4',<9>,1:8] [@4,8:8='4',<9>,1:8] expr\n",
            "[@0,0:0='2',<9>,1:0] [@4,8:8='4',<9>,1:8] expr\n",
            "[@0,0:0='2',<9>,1:0] [@5,9:9='\\n',<10>,1:9] stat\n",
            "[@0,0:0='2',<9>,1:0] [@5,9:9='\\n',<10>,1:9] prog\n"
          ]
        }
      ],
      "source": [
        "from ExprListener import ExprListener\n",
        "\n",
        "class PrintListener(ExprListener):\n",
        "    def exitEveryRule(self, ctx):\n",
        "        print(ctx.start, ctx.stop, ExprParser.ruleNames[ctx.getRuleIndex()])\n",
        "\n",
        "listener = PrintListener()\n",
        "ParseTreeWalker.DEFAULT.walk(listener, tree)"
      ]
    },
    {
      "cell_type": "markdown",
      "metadata": {},
      "source": [
        "#### Uso del Visitor"
      ]
    },
    {
      "cell_type": "code",
      "execution_count": null,
      "metadata": {},
      "outputs": [
        {
          "name": "stdout",
          "output_type": "stream",
          "text": [
            "[@0,0:0='2',<9>,1:0] [@5,9:9='\\n',<10>,1:9] prog\n",
            "[@0,0:0='2',<9>,1:0] [@5,9:9='\\n',<10>,1:9] stat\n",
            "[@0,0:0='2',<9>,1:0] [@4,8:8='4',<9>,1:8] expr\n",
            "[@0,0:0='2',<9>,1:0] [@2,4:4='3',<9>,1:4] expr\n",
            "[@0,0:0='2',<9>,1:0] [@0,0:0='2',<9>,1:0] expr\n",
            "[@2,4:4='3',<9>,1:4] [@2,4:4='3',<9>,1:4] expr\n",
            "[@4,8:8='4',<9>,1:8] [@4,8:8='4',<9>,1:8] expr\n"
          ]
        }
      ],
      "source": [
        "from ExprVisitor import ExprVisitor\n",
        "\n",
        "class PrintVisitor(ExprVisitor):\n",
        "    def visitChildren(self, node):\n",
        "        print(node.start, node.stop, ExprParser.ruleNames[node.getRuleIndex()])\n",
        "        return super().visitChildren(node)\n",
        "        \n",
        "visitor = PrintVisitor()\n",
        "visitor.visit(tree)"
      ]
    },
    {
      "cell_type": "markdown",
      "metadata": {},
      "source": [
        "## Uso mediato da LibLET"
      ]
    },
    {
      "cell_type": "code",
      "execution_count": null,
      "metadata": {},
      "outputs": [
        {
          "data": {
            "text/plain": [
              "'1.2.3-beta'"
            ]
          },
          "execution_count": 16,
          "metadata": {},
          "output_type": "execute_result"
        }
      ],
      "source": [
        "from liblet import ANTLR, Tree, __version__\n",
        "\n",
        "__version__"
      ]
    },
    {
      "cell_type": "markdown",
      "metadata": {},
      "source": [
        "### Generazione e caricamento dei moduli"
      ]
    },
    {
      "cell_type": "code",
      "execution_count": null,
      "metadata": {},
      "outputs": [],
      "source": [
        "LabeledExpr = ANTLR(r\"\"\"\n",
        "grammar LabeledExpr; // rename to distinguish from Expr.g4\n",
        "\n",
        "prog:   stat+ ;\n",
        "\n",
        "stat:   expr NEWLINE                # printExpr\n",
        "    |   ID '=' expr NEWLINE         # assign\n",
        "    |   NEWLINE                     # blank\n",
        "    ;\n",
        "\n",
        "expr:   expr op=('*'|'/') expr      # MulDiv\n",
        "    |   expr op=('+'|'-') expr      # AddSub\n",
        "    |   INT                         # int\n",
        "    |   ID                          # id\n",
        "    |   '(' expr ')'                # parens\n",
        "    ;\n",
        "\n",
        "MUL :   '*' ; // assigns token name to '*' used above in grammar\n",
        "DIV :   '/' ;\n",
        "ADD :   '+' ;\n",
        "SUB :   '-' ;\n",
        "ID  :   [a-zA-Z]+ ;      // match identifiers\n",
        "INT :   [0-9]+ ;         // match integers\n",
        "NEWLINE:'\\r'? '\\n' ;     // return newlines to parser (is end-statement signal)\n",
        "WS : [ \\t]+ -> skip ; // toss out whitespace\n",
        "\"\"\")"
      ]
    },
    {
      "cell_type": "markdown",
      "metadata": {},
      "source": [
        "### Generazione del parsing context"
      ]
    },
    {
      "cell_type": "code",
      "execution_count": null,
      "metadata": {},
      "outputs": [
        {
          "data": {
            "text/plain": [
              "<LabeledExprParser.LabeledExprParser.ProgContext at 0x110a371d0>"
            ]
          },
          "execution_count": 18,
          "metadata": {},
          "output_type": "execute_result"
        }
      ],
      "source": [
        "expr = '3 * 4 + 5\\n'\n",
        "LabeledExpr.context(expr, 'prog')"
      ]
    },
    {
      "cell_type": "code",
      "execution_count": null,
      "metadata": {},
      "outputs": [
        {
          "data": {
            "text/plain": [
              "'(prog (stat (expr (expr (expr 3) * (expr 4)) + (expr 5)) \\\\n))'"
            ]
          },
          "execution_count": 19,
          "metadata": {},
          "output_type": "execute_result"
        }
      ],
      "source": [
        "# come stringa\n",
        "\n",
        "LabeledExpr.context(expr, 'prog', as_string = True)"
      ]
    },
    {
      "cell_type": "markdown",
      "metadata": {},
      "source": [
        "### Generazione di un Tree (\"annotato\")"
      ]
    },
    {
      "cell_type": "code",
      "execution_count": null,
      "metadata": {},
      "outputs": [
        {
          "data": {
            "image/svg+xml": [
              "<?xml version=\"1.0\" encoding=\"UTF-8\" standalone=\"no\"?>\n",
              "<!DOCTYPE svg PUBLIC \"-//W3C//DTD SVG 1.1//EN\"\n",
              " \"http://www.w3.org/Graphics/SVG/1.1/DTD/svg11.dtd\">\n",
              "<!-- Generated by graphviz version 2.43.0 (0)\n",
              " -->\n",
              "<!-- Title: %3 Pages: 1 -->\n",
              "<svg width=\"167pt\" height=\"230pt\"\n",
              " viewBox=\"0.00 0.00 166.88 230.00\" xmlns=\"http://www.w3.org/2000/svg\" xmlns:xlink=\"http://www.w3.org/1999/xlink\">\n",
              "<g id=\"graph0\" class=\"graph\" transform=\"scale(1 1) rotate(0) translate(4 226)\">\n",
              "<title>%3</title>\n",
              "<polygon fill=\"white\" stroke=\"transparent\" points=\"-4,4 -4,-226 162.88,-226 162.88,4 -4,4\"/>\n",
              "<!-- 4574150288 -->\n",
              "<g id=\"node1\" class=\"node\">\n",
              "<title>4574150288</title>\n",
              "<path fill=\"none\" stroke=\"black\" stroke-width=\"0.25\" d=\"M131.77,-222C131.77,-222 113.11,-222 113.11,-222 109.44,-222 105.77,-218.33 105.77,-214.67 105.77,-214.67 105.77,-207.33 105.77,-207.33 105.77,-203.67 109.44,-200 113.11,-200 113.11,-200 131.77,-200 131.77,-200 135.44,-200 139.1,-203.67 139.1,-207.33 139.1,-207.33 139.1,-214.67 139.1,-214.67 139.1,-218.33 135.44,-222 131.77,-222\"/>\n",
              "<text text-anchor=\"middle\" x=\"122.44\" y=\"-206.8\" font-family=\"Times,serif\" font-size=\"14.00\">prog</text>\n",
              "</g>\n",
              "<!-- 4574150224 -->\n",
              "<g id=\"node2\" class=\"node\">\n",
              "<title>4574150224</title>\n",
              "<path fill=\"none\" stroke=\"black\" stroke-width=\"0.25\" d=\"M129.05,-182C129.05,-182 115.83,-182 115.83,-182 112.16,-182 108.49,-178.33 108.49,-174.67 108.49,-174.67 108.49,-167.33 108.49,-167.33 108.49,-163.67 112.16,-160 115.83,-160 115.83,-160 129.05,-160 129.05,-160 132.72,-160 136.38,-163.67 136.38,-167.33 136.38,-167.33 136.38,-174.67 136.38,-174.67 136.38,-178.33 132.72,-182 129.05,-182\"/>\n",
              "<text text-anchor=\"middle\" x=\"122.44\" y=\"-166.8\" font-family=\"Times,serif\" font-size=\"14.00\">stat</text>\n",
              "</g>\n",
              "<!-- 4574150288&#45;&gt;4574150224 -->\n",
              "<g id=\"edge1\" class=\"edge\">\n",
              "<title>4574150288&#45;&gt;4574150224</title>\n",
              "<path fill=\"none\" stroke=\"black\" d=\"M122.44,-199.62C122.44,-194.17 122.44,-187.52 122.44,-182.11\"/>\n",
              "</g>\n",
              "<!-- 4574150096 -->\n",
              "<g id=\"node3\" class=\"node\">\n",
              "<title>4574150096</title>\n",
              "<path fill=\"none\" stroke=\"black\" stroke-width=\"0.25\" d=\"M109.48,-142C109.48,-142 91.4,-142 91.4,-142 87.73,-142 84.06,-138.33 84.06,-134.67 84.06,-134.67 84.06,-127.33 84.06,-127.33 84.06,-123.67 87.73,-120 91.4,-120 91.4,-120 109.48,-120 109.48,-120 113.15,-120 116.81,-123.67 116.81,-127.33 116.81,-127.33 116.81,-134.67 116.81,-134.67 116.81,-138.33 113.15,-142 109.48,-142\"/>\n",
              "<text text-anchor=\"middle\" x=\"100.44\" y=\"-126.8\" font-family=\"Times,serif\" font-size=\"14.00\">expr</text>\n",
              "</g>\n",
              "<!-- 4574150224&#45;&gt;4574150096 -->\n",
              "<g id=\"edge2\" class=\"edge\">\n",
              "<title>4574150224&#45;&gt;4574150096</title>\n",
              "<path fill=\"none\" stroke=\"black\" d=\"M116.43,-159.62C113.27,-154.17 109.42,-147.52 106.29,-142.11\"/>\n",
              "</g>\n",
              "<!-- 4574150160 -->\n",
              "<g id=\"node4\" class=\"node\">\n",
              "<title>4574150160</title>\n",
              "<path fill=\"none\" stroke=\"black\" stroke-width=\"0.25\" d=\"M147.57,-142C147.57,-142 141.31,-142 141.31,-142 138.18,-142 135.05,-138.87 135.05,-135.74 135.05,-135.74 135.05,-126.26 135.05,-126.26 135.05,-123.13 138.18,-120 141.31,-120 141.31,-120 147.57,-120 147.57,-120 150.7,-120 153.83,-123.13 153.83,-126.26 153.83,-126.26 153.83,-135.74 153.83,-135.74 153.83,-138.87 150.7,-142 147.57,-142\"/>\n",
              "<text text-anchor=\"middle\" x=\"144.44\" y=\"-126.8\" font-family=\"Times,serif\" font-size=\"14.00\">\\n</text>\n",
              "</g>\n",
              "<!-- 4574150224&#45;&gt;4574150160 -->\n",
              "<g id=\"edge3\" class=\"edge\">\n",
              "<title>4574150224&#45;&gt;4574150160</title>\n",
              "<path fill=\"none\" stroke=\"black\" d=\"M128.45,-159.62C131.6,-154.17 135.45,-147.52 138.59,-142.11\"/>\n",
              "</g>\n",
              "<!-- 4574150096&#45;&gt;4574150160 -->\n",
              "<!-- 4574149840 -->\n",
              "<g id=\"node5\" class=\"node\">\n",
              "<title>4574149840</title>\n",
              "<path fill=\"none\" stroke=\"black\" stroke-width=\"0.25\" d=\"M67.48,-102C67.48,-102 49.4,-102 49.4,-102 45.73,-102 42.06,-98.33 42.06,-94.67 42.06,-94.67 42.06,-87.33 42.06,-87.33 42.06,-83.67 45.73,-80 49.4,-80 49.4,-80 67.48,-80 67.48,-80 71.15,-80 74.81,-83.67 74.81,-87.33 74.81,-87.33 74.81,-94.67 74.81,-94.67 74.81,-98.33 71.15,-102 67.48,-102\"/>\n",
              "<text text-anchor=\"middle\" x=\"58.44\" y=\"-86.8\" font-family=\"Times,serif\" font-size=\"14.00\">expr</text>\n",
              "</g>\n",
              "<!-- 4574150096&#45;&gt;4574149840 -->\n",
              "<g id=\"edge5\" class=\"edge\">\n",
              "<title>4574150096&#45;&gt;4574149840</title>\n",
              "<path fill=\"none\" stroke=\"black\" d=\"M88.96,-119.62C82.94,-114.17 75.59,-107.52 69.61,-102.11\"/>\n",
              "</g>\n",
              "<!-- 4574149904 -->\n",
              "<g id=\"node6\" class=\"node\">\n",
              "<title>4574149904</title>\n",
              "<path fill=\"none\" stroke=\"black\" stroke-width=\"0.25\" d=\"M103.07,-102C103.07,-102 97.81,-102 97.81,-102 95.17,-102 92.54,-99.37 92.54,-96.74 92.54,-96.74 92.54,-85.26 92.54,-85.26 92.54,-82.63 95.17,-80 97.81,-80 97.81,-80 103.07,-80 103.07,-80 105.7,-80 108.33,-82.63 108.33,-85.26 108.33,-85.26 108.33,-96.74 108.33,-96.74 108.33,-99.37 105.7,-102 103.07,-102\"/>\n",
              "<text text-anchor=\"middle\" x=\"100.44\" y=\"-86.8\" font-family=\"Times,serif\" font-size=\"14.00\">+</text>\n",
              "</g>\n",
              "<!-- 4574150096&#45;&gt;4574149904 -->\n",
              "<g id=\"edge6\" class=\"edge\">\n",
              "<title>4574150096&#45;&gt;4574149904</title>\n",
              "<path fill=\"none\" stroke=\"black\" d=\"M100.44,-119.62C100.44,-114.17 100.44,-107.52 100.44,-102.11\"/>\n",
              "</g>\n",
              "<!-- 4574150032 -->\n",
              "<g id=\"node7\" class=\"node\">\n",
              "<title>4574150032</title>\n",
              "<path fill=\"none\" stroke=\"black\" stroke-width=\"0.25\" d=\"M151.48,-102C151.48,-102 133.4,-102 133.4,-102 129.73,-102 126.06,-98.33 126.06,-94.67 126.06,-94.67 126.06,-87.33 126.06,-87.33 126.06,-83.67 129.73,-80 133.4,-80 133.4,-80 151.48,-80 151.48,-80 155.15,-80 158.81,-83.67 158.81,-87.33 158.81,-87.33 158.81,-94.67 158.81,-94.67 158.81,-98.33 155.15,-102 151.48,-102\"/>\n",
              "<text text-anchor=\"middle\" x=\"142.44\" y=\"-86.8\" font-family=\"Times,serif\" font-size=\"14.00\">expr</text>\n",
              "</g>\n",
              "<!-- 4574150096&#45;&gt;4574150032 -->\n",
              "<g id=\"edge7\" class=\"edge\">\n",
              "<title>4574150096&#45;&gt;4574150032</title>\n",
              "<path fill=\"none\" stroke=\"black\" d=\"M111.91,-119.62C117.94,-114.17 125.29,-107.52 131.27,-102.11\"/>\n",
              "</g>\n",
              "<!-- 4574149840&#45;&gt;4574149904 -->\n",
              "<!-- 4574149584 -->\n",
              "<g id=\"node8\" class=\"node\">\n",
              "<title>4574149584</title>\n",
              "<path fill=\"none\" stroke=\"black\" stroke-width=\"0.25\" d=\"M25.48,-62C25.48,-62 7.4,-62 7.4,-62 3.73,-62 0.06,-58.33 0.06,-54.67 0.06,-54.67 0.06,-47.33 0.06,-47.33 0.06,-43.67 3.73,-40 7.4,-40 7.4,-40 25.48,-40 25.48,-40 29.15,-40 32.81,-43.67 32.81,-47.33 32.81,-47.33 32.81,-54.67 32.81,-54.67 32.81,-58.33 29.15,-62 25.48,-62\"/>\n",
              "<text text-anchor=\"middle\" x=\"16.44\" y=\"-46.8\" font-family=\"Times,serif\" font-size=\"14.00\">expr</text>\n",
              "</g>\n",
              "<!-- 4574149840&#45;&gt;4574149584 -->\n",
              "<g id=\"edge10\" class=\"edge\">\n",
              "<title>4574149840&#45;&gt;4574149584</title>\n",
              "<path fill=\"none\" stroke=\"black\" d=\"M46.96,-79.62C40.94,-74.17 33.59,-67.52 27.61,-62.11\"/>\n",
              "</g>\n",
              "<!-- 4574149648 -->\n",
              "<g id=\"node9\" class=\"node\">\n",
              "<title>4574149648</title>\n",
              "<path fill=\"none\" stroke=\"black\" stroke-width=\"0.25\" d=\"M60.94,-62C60.94,-62 55.94,-62 55.94,-62 53.44,-62 50.94,-59.5 50.94,-57 50.94,-57 50.94,-45 50.94,-45 50.94,-42.5 53.44,-40 55.94,-40 55.94,-40 60.94,-40 60.94,-40 63.44,-40 65.94,-42.5 65.94,-45 65.94,-45 65.94,-57 65.94,-57 65.94,-59.5 63.44,-62 60.94,-62\"/>\n",
              "<text text-anchor=\"middle\" x=\"58.44\" y=\"-46.8\" font-family=\"Times,serif\" font-size=\"14.00\">*</text>\n",
              "</g>\n",
              "<!-- 4574149840&#45;&gt;4574149648 -->\n",
              "<g id=\"edge11\" class=\"edge\">\n",
              "<title>4574149840&#45;&gt;4574149648</title>\n",
              "<path fill=\"none\" stroke=\"black\" d=\"M58.44,-79.62C58.44,-74.17 58.44,-67.52 58.44,-62.11\"/>\n",
              "</g>\n",
              "<!-- 4574149776 -->\n",
              "<g id=\"node10\" class=\"node\">\n",
              "<title>4574149776</title>\n",
              "<path fill=\"none\" stroke=\"black\" stroke-width=\"0.25\" d=\"M109.48,-62C109.48,-62 91.4,-62 91.4,-62 87.73,-62 84.06,-58.33 84.06,-54.67 84.06,-54.67 84.06,-47.33 84.06,-47.33 84.06,-43.67 87.73,-40 91.4,-40 91.4,-40 109.48,-40 109.48,-40 113.15,-40 116.81,-43.67 116.81,-47.33 116.81,-47.33 116.81,-54.67 116.81,-54.67 116.81,-58.33 113.15,-62 109.48,-62\"/>\n",
              "<text text-anchor=\"middle\" x=\"100.44\" y=\"-46.8\" font-family=\"Times,serif\" font-size=\"14.00\">expr</text>\n",
              "</g>\n",
              "<!-- 4574149840&#45;&gt;4574149776 -->\n",
              "<g id=\"edge12\" class=\"edge\">\n",
              "<title>4574149840&#45;&gt;4574149776</title>\n",
              "<path fill=\"none\" stroke=\"black\" d=\"M69.91,-79.62C75.94,-74.17 83.29,-67.52 89.27,-62.11\"/>\n",
              "</g>\n",
              "<!-- 4574149904&#45;&gt;4574150032 -->\n",
              "<!-- 4574149968 -->\n",
              "<g id=\"node13\" class=\"node\">\n",
              "<title>4574149968</title>\n",
              "<path fill=\"none\" stroke=\"black\" stroke-width=\"0.25\" d=\"M144.94,-62C144.94,-62 139.94,-62 139.94,-62 137.44,-62 134.94,-59.5 134.94,-57 134.94,-57 134.94,-45 134.94,-45 134.94,-42.5 137.44,-40 139.94,-40 139.94,-40 144.94,-40 144.94,-40 147.44,-40 149.94,-42.5 149.94,-45 149.94,-45 149.94,-57 149.94,-57 149.94,-59.5 147.44,-62 144.94,-62\"/>\n",
              "<text text-anchor=\"middle\" x=\"142.44\" y=\"-46.8\" font-family=\"Times,serif\" font-size=\"14.00\">5</text>\n",
              "</g>\n",
              "<!-- 4574150032&#45;&gt;4574149968 -->\n",
              "<g id=\"edge17\" class=\"edge\">\n",
              "<title>4574150032&#45;&gt;4574149968</title>\n",
              "<path fill=\"none\" stroke=\"black\" d=\"M142.44,-79.62C142.44,-74.17 142.44,-67.52 142.44,-62.11\"/>\n",
              "</g>\n",
              "<!-- 4574149584&#45;&gt;4574149648 -->\n",
              "<!-- 4574149520 -->\n",
              "<g id=\"node11\" class=\"node\">\n",
              "<title>4574149520</title>\n",
              "<path fill=\"none\" stroke=\"black\" stroke-width=\"0.25\" d=\"M18.94,-22C18.94,-22 13.94,-22 13.94,-22 11.44,-22 8.94,-19.5 8.94,-17 8.94,-17 8.94,-5 8.94,-5 8.94,-2.5 11.44,0 13.94,0 13.94,0 18.94,0 18.94,0 21.44,0 23.94,-2.5 23.94,-5 23.94,-5 23.94,-17 23.94,-17 23.94,-19.5 21.44,-22 18.94,-22\"/>\n",
              "<text text-anchor=\"middle\" x=\"16.44\" y=\"-6.8\" font-family=\"Times,serif\" font-size=\"14.00\">3</text>\n",
              "</g>\n",
              "<!-- 4574149584&#45;&gt;4574149520 -->\n",
              "<g id=\"edge15\" class=\"edge\">\n",
              "<title>4574149584&#45;&gt;4574149520</title>\n",
              "<path fill=\"none\" stroke=\"black\" d=\"M16.44,-39.62C16.44,-34.17 16.44,-27.52 16.44,-22.11\"/>\n",
              "</g>\n",
              "<!-- 4574149648&#45;&gt;4574149776 -->\n",
              "<!-- 4574149712 -->\n",
              "<g id=\"node12\" class=\"node\">\n",
              "<title>4574149712</title>\n",
              "<path fill=\"none\" stroke=\"black\" stroke-width=\"0.25\" d=\"M102.94,-22C102.94,-22 97.94,-22 97.94,-22 95.44,-22 92.94,-19.5 92.94,-17 92.94,-17 92.94,-5 92.94,-5 92.94,-2.5 95.44,0 97.94,0 97.94,0 102.94,0 102.94,0 105.44,0 107.94,-2.5 107.94,-5 107.94,-5 107.94,-17 107.94,-17 107.94,-19.5 105.44,-22 102.94,-22\"/>\n",
              "<text text-anchor=\"middle\" x=\"100.44\" y=\"-6.8\" font-family=\"Times,serif\" font-size=\"14.00\">4</text>\n",
              "</g>\n",
              "<!-- 4574149776&#45;&gt;4574149712 -->\n",
              "<g id=\"edge16\" class=\"edge\">\n",
              "<title>4574149776&#45;&gt;4574149712</title>\n",
              "<path fill=\"none\" stroke=\"black\" d=\"M100.44,-39.62C100.44,-34.17 100.44,-27.52 100.44,-22.11\"/>\n",
              "</g>\n",
              "</g>\n",
              "</svg>\n"
            ],
            "text/plain": [
              "(prog: (stat: (expr: (expr: (expr: (3)), (*), (expr: (4))), (+), (expr: (5))), (\\\\n)))"
            ]
          },
          "execution_count": 20,
          "metadata": {},
          "output_type": "execute_result"
        }
      ],
      "source": [
        "# semplice\n",
        "\n",
        "LabeledExpr.tree(expr, 'prog', simple = True)"
      ]
    },
    {
      "cell_type": "markdown",
      "metadata": {},
      "source": [
        "Si può ottenere un albero annotato, ossia un `Tree` i cui nodi siano `dict`. In tal caso ogni nodo contiene la chiave `type` che può valere `rule` o `token`, a seconda che il nodo corrisponda ad una regola della grammatica (context-free) o del tokenizer. Nel caso delle produzioni, sono presenti le chiavi `rule` ha per valore il nonterminale a sinistra nella regola e `name` corrispondente dall'alternativa specifica della regola (se annotata nella grammatica); nel caso dei token, la chiave `name`  ha per valore il nome del token (se presente nella grammatica), mentre `value` ha per valore la porzione della parola in ingresso corrispondente al token."
      ]
    },
    {
      "cell_type": "code",
      "execution_count": null,
      "metadata": {},
      "outputs": [
        {
          "data": {
            "image/svg+xml": [
              "<?xml version=\"1.0\" encoding=\"UTF-8\" standalone=\"no\"?>\n",
              "<!DOCTYPE svg PUBLIC \"-//W3C//DTD SVG 1.1//EN\"\n",
              " \"http://www.w3.org/Graphics/SVG/1.1/DTD/svg11.dtd\">\n",
              "<!-- Generated by graphviz version 2.43.0 (0)\n",
              " -->\n",
              "<!-- Title: %3 Pages: 1 -->\n",
              "<svg width=\"350pt\" height=\"422pt\"\n",
              " viewBox=\"0.00 0.00 350.00 422.00\" xmlns=\"http://www.w3.org/2000/svg\" xmlns:xlink=\"http://www.w3.org/1999/xlink\">\n",
              "<g id=\"graph0\" class=\"graph\" transform=\"scale(1 1) rotate(0) translate(4 418)\">\n",
              "<title>%3</title>\n",
              "<polygon fill=\"white\" stroke=\"transparent\" points=\"-4,4 -4,-418 346,-418 346,4 -4,4\"/>\n",
              "<!-- 4574185616 -->\n",
              "<g id=\"node1\" class=\"node\">\n",
              "<title>4574185616</title>\n",
              "<polygon fill=\"none\" stroke=\"black\" points=\"217.5,-396 217.5,-414 248.5,-414 248.5,-396 217.5,-396\"/>\n",
              "<text text-anchor=\"start\" x=\"222.67\" y=\"-401.4\" font-family=\"Times,serif\" font-size=\"12.00\">type</text>\n",
              "<polygon fill=\"none\" stroke=\"black\" points=\"248.5,-396 248.5,-414 275.5,-414 275.5,-396 248.5,-396\"/>\n",
              "<text text-anchor=\"start\" x=\"252.67\" y=\"-401.4\" font-family=\"Times,serif\" font-size=\"12.00\">rule</text>\n",
              "<polygon fill=\"none\" stroke=\"black\" points=\"217.5,-378 217.5,-396 248.5,-396 248.5,-378 217.5,-378\"/>\n",
              "<text text-anchor=\"start\" x=\"220.01\" y=\"-383.4\" font-family=\"Times,serif\" font-size=\"12.00\">name</text>\n",
              "<polygon fill=\"none\" stroke=\"black\" points=\"248.5,-378 248.5,-396 275.5,-396 275.5,-378 248.5,-378\"/>\n",
              "<text text-anchor=\"start\" x=\"251\" y=\"-383.4\" font-family=\"Times,serif\" font-size=\"12.00\">prog</text>\n",
              "<polygon fill=\"none\" stroke=\"black\" points=\"217.5,-360 217.5,-378 248.5,-378 248.5,-360 217.5,-360\"/>\n",
              "<text text-anchor=\"start\" x=\"223.67\" y=\"-365.4\" font-family=\"Times,serif\" font-size=\"12.00\">rule</text>\n",
              "<polygon fill=\"none\" stroke=\"black\" points=\"248.5,-360 248.5,-378 275.5,-378 275.5,-360 248.5,-360\"/>\n",
              "<text text-anchor=\"start\" x=\"251\" y=\"-365.4\" font-family=\"Times,serif\" font-size=\"12.00\">prog</text>\n",
              "</g>\n",
              "<!-- 4574185552 -->\n",
              "<g id=\"node2\" class=\"node\">\n",
              "<title>4574185552</title>\n",
              "<polygon fill=\"none\" stroke=\"black\" points=\"205.5,-324 205.5,-342 236.5,-342 236.5,-324 205.5,-324\"/>\n",
              "<text text-anchor=\"start\" x=\"210.67\" y=\"-329.4\" font-family=\"Times,serif\" font-size=\"12.00\">type</text>\n",
              "<polygon fill=\"none\" stroke=\"black\" points=\"236.5,-324 236.5,-342 287.5,-342 287.5,-324 236.5,-324\"/>\n",
              "<text text-anchor=\"start\" x=\"252.67\" y=\"-329.4\" font-family=\"Times,serif\" font-size=\"12.00\">rule</text>\n",
              "<polygon fill=\"none\" stroke=\"black\" points=\"205.5,-306 205.5,-324 236.5,-324 236.5,-306 205.5,-306\"/>\n",
              "<text text-anchor=\"start\" x=\"208.01\" y=\"-311.4\" font-family=\"Times,serif\" font-size=\"12.00\">name</text>\n",
              "<polygon fill=\"none\" stroke=\"black\" points=\"236.5,-306 236.5,-324 287.5,-324 287.5,-306 236.5,-306\"/>\n",
              "<text text-anchor=\"start\" x=\"239\" y=\"-311.4\" font-family=\"Times,serif\" font-size=\"12.00\">printExpr</text>\n",
              "<polygon fill=\"none\" stroke=\"black\" points=\"205.5,-288 205.5,-306 236.5,-306 236.5,-288 205.5,-288\"/>\n",
              "<text text-anchor=\"start\" x=\"211.67\" y=\"-293.4\" font-family=\"Times,serif\" font-size=\"12.00\">rule</text>\n",
              "<polygon fill=\"none\" stroke=\"black\" points=\"236.5,-288 236.5,-306 287.5,-306 287.5,-288 236.5,-288\"/>\n",
              "<text text-anchor=\"start\" x=\"253.67\" y=\"-293.4\" font-family=\"Times,serif\" font-size=\"12.00\">stat</text>\n",
              "</g>\n",
              "<!-- 4574185616&#45;&gt;4574185552 -->\n",
              "<g id=\"edge1\" class=\"edge\">\n",
              "<title>4574185616&#45;&gt;4574185552</title>\n",
              "<path fill=\"none\" stroke=\"black\" d=\"M246.5,-359.93C246.5,-354.18 246.5,-348.08 246.5,-342.32\"/>\n",
              "</g>\n",
              "<!-- 4574185424 -->\n",
              "<g id=\"node3\" class=\"node\">\n",
              "<title>4574185424</title>\n",
              "<polygon fill=\"none\" stroke=\"black\" points=\"160.5,-252 160.5,-270 191.5,-270 191.5,-252 160.5,-252\"/>\n",
              "<text text-anchor=\"start\" x=\"165.67\" y=\"-257.4\" font-family=\"Times,serif\" font-size=\"12.00\">type</text>\n",
              "<polygon fill=\"none\" stroke=\"black\" points=\"191.5,-252 191.5,-270 233.5,-270 233.5,-252 191.5,-252\"/>\n",
              "<text text-anchor=\"start\" x=\"203.17\" y=\"-257.4\" font-family=\"Times,serif\" font-size=\"12.00\">rule</text>\n",
              "<polygon fill=\"none\" stroke=\"black\" points=\"160.5,-234 160.5,-252 191.5,-252 191.5,-234 160.5,-234\"/>\n",
              "<text text-anchor=\"start\" x=\"163.01\" y=\"-239.4\" font-family=\"Times,serif\" font-size=\"12.00\">name</text>\n",
              "<polygon fill=\"none\" stroke=\"black\" points=\"191.5,-234 191.5,-252 233.5,-252 233.5,-234 191.5,-234\"/>\n",
              "<text text-anchor=\"start\" x=\"194.5\" y=\"-239.4\" font-family=\"Times,serif\" font-size=\"12.00\">addSub</text>\n",
              "<polygon fill=\"none\" stroke=\"black\" points=\"160.5,-216 160.5,-234 191.5,-234 191.5,-216 160.5,-216\"/>\n",
              "<text text-anchor=\"start\" x=\"166.67\" y=\"-221.4\" font-family=\"Times,serif\" font-size=\"12.00\">rule</text>\n",
              "<polygon fill=\"none\" stroke=\"black\" points=\"191.5,-216 191.5,-234 233.5,-234 233.5,-216 191.5,-216\"/>\n",
              "<text text-anchor=\"start\" x=\"201.84\" y=\"-221.4\" font-family=\"Times,serif\" font-size=\"12.00\">expr</text>\n",
              "</g>\n",
              "<!-- 4574185552&#45;&gt;4574185424 -->\n",
              "<g id=\"edge2\" class=\"edge\">\n",
              "<title>4574185552&#45;&gt;4574185424</title>\n",
              "<path fill=\"none\" stroke=\"black\" d=\"M227.88,-287.93C223.77,-282.18 219.42,-276.08 215.3,-270.32\"/>\n",
              "</g>\n",
              "<!-- 4574185488 -->\n",
              "<g id=\"node4\" class=\"node\">\n",
              "<title>4574185488</title>\n",
              "<polygon fill=\"none\" stroke=\"black\" points=\"251.5,-252 251.5,-270 282.5,-270 282.5,-252 251.5,-252\"/>\n",
              "<text text-anchor=\"start\" x=\"256.67\" y=\"-257.4\" font-family=\"Times,serif\" font-size=\"12.00\">type</text>\n",
              "<polygon fill=\"none\" stroke=\"black\" points=\"282.5,-252 282.5,-270 342.5,-270 342.5,-252 282.5,-252\"/>\n",
              "<text text-anchor=\"start\" x=\"299.17\" y=\"-257.4\" font-family=\"Times,serif\" font-size=\"12.00\">token</text>\n",
              "<polygon fill=\"none\" stroke=\"black\" points=\"251.5,-234 251.5,-252 282.5,-252 282.5,-234 251.5,-234\"/>\n",
              "<text text-anchor=\"start\" x=\"254.01\" y=\"-239.4\" font-family=\"Times,serif\" font-size=\"12.00\">name</text>\n",
              "<polygon fill=\"none\" stroke=\"black\" points=\"282.5,-234 282.5,-252 342.5,-252 342.5,-234 282.5,-234\"/>\n",
              "<text text-anchor=\"start\" x=\"285.18\" y=\"-239.4\" font-family=\"Times,serif\" font-size=\"12.00\">NEWLINE</text>\n",
              "<polygon fill=\"none\" stroke=\"black\" points=\"251.5,-216 251.5,-234 282.5,-234 282.5,-216 251.5,-216\"/>\n",
              "<text text-anchor=\"start\" x=\"254.01\" y=\"-221.4\" font-family=\"Times,serif\" font-size=\"12.00\">value</text>\n",
              "<polygon fill=\"none\" stroke=\"black\" points=\"282.5,-216 282.5,-234 342.5,-234 342.5,-216 282.5,-216\"/>\n",
              "<text text-anchor=\"start\" x=\"307.83\" y=\"-221.4\" font-family=\"Times,serif\" font-size=\"12.00\">\\n</text>\n",
              "</g>\n",
              "<!-- 4574185552&#45;&gt;4574185488 -->\n",
              "<g id=\"edge3\" class=\"edge\">\n",
              "<title>4574185552&#45;&gt;4574185488</title>\n",
              "<path fill=\"none\" stroke=\"black\" d=\"M265.12,-287.93C269.23,-282.18 273.58,-276.08 277.7,-270.32\"/>\n",
              "</g>\n",
              "<!-- 4574185424&#45;&gt;4574185488 -->\n",
              "<!-- 4574185104 -->\n",
              "<g id=\"node5\" class=\"node\">\n",
              "<title>4574185104</title>\n",
              "<polygon fill=\"none\" stroke=\"black\" points=\"74.5,-180 74.5,-198 105.5,-198 105.5,-180 74.5,-180\"/>\n",
              "<text text-anchor=\"start\" x=\"79.67\" y=\"-185.4\" font-family=\"Times,serif\" font-size=\"12.00\">type</text>\n",
              "<polygon fill=\"none\" stroke=\"black\" points=\"105.5,-180 105.5,-198 147.5,-198 147.5,-180 105.5,-180\"/>\n",
              "<text text-anchor=\"start\" x=\"117.17\" y=\"-185.4\" font-family=\"Times,serif\" font-size=\"12.00\">rule</text>\n",
              "<polygon fill=\"none\" stroke=\"black\" points=\"74.5,-162 74.5,-180 105.5,-180 105.5,-162 74.5,-162\"/>\n",
              "<text text-anchor=\"start\" x=\"77.01\" y=\"-167.4\" font-family=\"Times,serif\" font-size=\"12.00\">name</text>\n",
              "<polygon fill=\"none\" stroke=\"black\" points=\"105.5,-162 105.5,-180 147.5,-180 147.5,-162 105.5,-162\"/>\n",
              "<text text-anchor=\"start\" x=\"108.17\" y=\"-167.4\" font-family=\"Times,serif\" font-size=\"12.00\">mulDiv</text>\n",
              "<polygon fill=\"none\" stroke=\"black\" points=\"74.5,-144 74.5,-162 105.5,-162 105.5,-144 74.5,-144\"/>\n",
              "<text text-anchor=\"start\" x=\"80.67\" y=\"-149.4\" font-family=\"Times,serif\" font-size=\"12.00\">rule</text>\n",
              "<polygon fill=\"none\" stroke=\"black\" points=\"105.5,-144 105.5,-162 147.5,-162 147.5,-144 105.5,-144\"/>\n",
              "<text text-anchor=\"start\" x=\"115.84\" y=\"-149.4\" font-family=\"Times,serif\" font-size=\"12.00\">expr</text>\n",
              "</g>\n",
              "<!-- 4574185424&#45;&gt;4574185104 -->\n",
              "<g id=\"edge5\" class=\"edge\">\n",
              "<title>4574185424&#45;&gt;4574185104</title>\n",
              "<path fill=\"none\" stroke=\"black\" d=\"M164.48,-215.93C157.31,-210.1 149.71,-203.92 142.55,-198.09\"/>\n",
              "</g>\n",
              "<!-- 4574185168 -->\n",
              "<g id=\"node6\" class=\"node\">\n",
              "<title>4574185168</title>\n",
              "<polygon fill=\"none\" stroke=\"black\" points=\"165.5,-180 165.5,-198 196.5,-198 196.5,-180 165.5,-180\"/>\n",
              "<text text-anchor=\"start\" x=\"170.67\" y=\"-185.4\" font-family=\"Times,serif\" font-size=\"12.00\">type</text>\n",
              "<polygon fill=\"none\" stroke=\"black\" points=\"196.5,-180 196.5,-198 228.5,-198 228.5,-180 196.5,-180\"/>\n",
              "<text text-anchor=\"start\" x=\"199.17\" y=\"-185.4\" font-family=\"Times,serif\" font-size=\"12.00\">token</text>\n",
              "<polygon fill=\"none\" stroke=\"black\" points=\"165.5,-162 165.5,-180 196.5,-180 196.5,-162 165.5,-162\"/>\n",
              "<text text-anchor=\"start\" x=\"168.01\" y=\"-167.4\" font-family=\"Times,serif\" font-size=\"12.00\">name</text>\n",
              "<polygon fill=\"none\" stroke=\"black\" points=\"196.5,-162 196.5,-180 228.5,-180 228.5,-162 196.5,-162\"/>\n",
              "<text text-anchor=\"start\" x=\"199.5\" y=\"-167.4\" font-family=\"Times,serif\" font-size=\"12.00\">ADD</text>\n",
              "<polygon fill=\"none\" stroke=\"black\" points=\"165.5,-144 165.5,-162 196.5,-162 196.5,-144 165.5,-144\"/>\n",
              "<text text-anchor=\"start\" x=\"168.01\" y=\"-149.4\" font-family=\"Times,serif\" font-size=\"12.00\">value</text>\n",
              "<polygon fill=\"none\" stroke=\"black\" points=\"196.5,-144 196.5,-162 228.5,-162 228.5,-144 196.5,-144\"/>\n",
              "<text text-anchor=\"start\" x=\"209.12\" y=\"-149.4\" font-family=\"Times,serif\" font-size=\"12.00\">+</text>\n",
              "</g>\n",
              "<!-- 4574185424&#45;&gt;4574185168 -->\n",
              "<g id=\"edge6\" class=\"edge\">\n",
              "<title>4574185424&#45;&gt;4574185168</title>\n",
              "<path fill=\"none\" stroke=\"black\" d=\"M196.5,-215.93C196.5,-210.18 196.5,-204.08 196.5,-198.32\"/>\n",
              "</g>\n",
              "<!-- 4574185360 -->\n",
              "<g id=\"node7\" class=\"node\">\n",
              "<title>4574185360</title>\n",
              "<polygon fill=\"none\" stroke=\"black\" points=\"246.5,-180 246.5,-198 277.5,-198 277.5,-180 246.5,-180\"/>\n",
              "<text text-anchor=\"start\" x=\"251.67\" y=\"-185.4\" font-family=\"Times,serif\" font-size=\"12.00\">type</text>\n",
              "<polygon fill=\"none\" stroke=\"black\" points=\"277.5,-180 277.5,-198 304.5,-198 304.5,-180 277.5,-180\"/>\n",
              "<text text-anchor=\"start\" x=\"281.67\" y=\"-185.4\" font-family=\"Times,serif\" font-size=\"12.00\">rule</text>\n",
              "<polygon fill=\"none\" stroke=\"black\" points=\"246.5,-162 246.5,-180 277.5,-180 277.5,-162 246.5,-162\"/>\n",
              "<text text-anchor=\"start\" x=\"249.01\" y=\"-167.4\" font-family=\"Times,serif\" font-size=\"12.00\">name</text>\n",
              "<polygon fill=\"none\" stroke=\"black\" points=\"277.5,-162 277.5,-180 304.5,-180 304.5,-162 277.5,-162\"/>\n",
              "<text text-anchor=\"start\" x=\"284.67\" y=\"-167.4\" font-family=\"Times,serif\" font-size=\"12.00\">int</text>\n",
              "<polygon fill=\"none\" stroke=\"black\" points=\"246.5,-144 246.5,-162 277.5,-162 277.5,-144 246.5,-144\"/>\n",
              "<text text-anchor=\"start\" x=\"252.67\" y=\"-149.4\" font-family=\"Times,serif\" font-size=\"12.00\">rule</text>\n",
              "<polygon fill=\"none\" stroke=\"black\" points=\"277.5,-144 277.5,-162 304.5,-162 304.5,-144 277.5,-144\"/>\n",
              "<text text-anchor=\"start\" x=\"280.34\" y=\"-149.4\" font-family=\"Times,serif\" font-size=\"12.00\">expr</text>\n",
              "</g>\n",
              "<!-- 4574185424&#45;&gt;4574185360 -->\n",
              "<g id=\"edge7\" class=\"edge\">\n",
              "<title>4574185424&#45;&gt;4574185360</title>\n",
              "<path fill=\"none\" stroke=\"black\" d=\"M225.92,-215.93C232.58,-210.03 239.66,-203.75 246.32,-197.85\"/>\n",
              "</g>\n",
              "<!-- 4574185104&#45;&gt;4574185168 -->\n",
              "<!-- 4574184784 -->\n",
              "<g id=\"node8\" class=\"node\">\n",
              "<title>4574184784</title>\n",
              "<polygon fill=\"none\" stroke=\"black\" points=\"2.5,-108 2.5,-126 33.5,-126 33.5,-108 2.5,-108\"/>\n",
              "<text text-anchor=\"start\" x=\"7.67\" y=\"-113.4\" font-family=\"Times,serif\" font-size=\"12.00\">type</text>\n",
              "<polygon fill=\"none\" stroke=\"black\" points=\"33.5,-108 33.5,-126 60.5,-126 60.5,-108 33.5,-108\"/>\n",
              "<text text-anchor=\"start\" x=\"37.67\" y=\"-113.4\" font-family=\"Times,serif\" font-size=\"12.00\">rule</text>\n",
              "<polygon fill=\"none\" stroke=\"black\" points=\"2.5,-90 2.5,-108 33.5,-108 33.5,-90 2.5,-90\"/>\n",
              "<text text-anchor=\"start\" x=\"5.01\" y=\"-95.4\" font-family=\"Times,serif\" font-size=\"12.00\">name</text>\n",
              "<polygon fill=\"none\" stroke=\"black\" points=\"33.5,-90 33.5,-108 60.5,-108 60.5,-90 33.5,-90\"/>\n",
              "<text text-anchor=\"start\" x=\"40.67\" y=\"-95.4\" font-family=\"Times,serif\" font-size=\"12.00\">int</text>\n",
              "<polygon fill=\"none\" stroke=\"black\" points=\"2.5,-72 2.5,-90 33.5,-90 33.5,-72 2.5,-72\"/>\n",
              "<text text-anchor=\"start\" x=\"8.67\" y=\"-77.4\" font-family=\"Times,serif\" font-size=\"12.00\">rule</text>\n",
              "<polygon fill=\"none\" stroke=\"black\" points=\"33.5,-72 33.5,-90 60.5,-90 60.5,-72 33.5,-72\"/>\n",
              "<text text-anchor=\"start\" x=\"36.34\" y=\"-77.4\" font-family=\"Times,serif\" font-size=\"12.00\">expr</text>\n",
              "</g>\n",
              "<!-- 4574185104&#45;&gt;4574184784 -->\n",
              "<g id=\"edge10\" class=\"edge\">\n",
              "<title>4574185104&#45;&gt;4574184784</title>\n",
              "<path fill=\"none\" stroke=\"black\" d=\"M81.08,-143.93C74.42,-138.03 67.34,-131.75 60.68,-125.85\"/>\n",
              "</g>\n",
              "<!-- 4574184848 -->\n",
              "<g id=\"node9\" class=\"node\">\n",
              "<title>4574184848</title>\n",
              "<polygon fill=\"none\" stroke=\"black\" points=\"79.5,-108 79.5,-126 110.5,-126 110.5,-108 79.5,-108\"/>\n",
              "<text text-anchor=\"start\" x=\"84.67\" y=\"-113.4\" font-family=\"Times,serif\" font-size=\"12.00\">type</text>\n",
              "<polygon fill=\"none\" stroke=\"black\" points=\"110.5,-108 110.5,-126 142.5,-126 142.5,-108 110.5,-108\"/>\n",
              "<text text-anchor=\"start\" x=\"113.17\" y=\"-113.4\" font-family=\"Times,serif\" font-size=\"12.00\">token</text>\n",
              "<polygon fill=\"none\" stroke=\"black\" points=\"79.5,-90 79.5,-108 110.5,-108 110.5,-90 79.5,-90\"/>\n",
              "<text text-anchor=\"start\" x=\"82.01\" y=\"-95.4\" font-family=\"Times,serif\" font-size=\"12.00\">name</text>\n",
              "<polygon fill=\"none\" stroke=\"black\" points=\"110.5,-90 110.5,-108 142.5,-108 142.5,-90 110.5,-90\"/>\n",
              "<text text-anchor=\"start\" x=\"113.17\" y=\"-95.4\" font-family=\"Times,serif\" font-size=\"12.00\">MUL</text>\n",
              "<polygon fill=\"none\" stroke=\"black\" points=\"79.5,-72 79.5,-90 110.5,-90 110.5,-72 79.5,-72\"/>\n",
              "<text text-anchor=\"start\" x=\"82.01\" y=\"-77.4\" font-family=\"Times,serif\" font-size=\"12.00\">value</text>\n",
              "<polygon fill=\"none\" stroke=\"black\" points=\"110.5,-72 110.5,-90 142.5,-90 142.5,-72 110.5,-72\"/>\n",
              "<text text-anchor=\"start\" x=\"123.5\" y=\"-77.4\" font-family=\"Times,serif\" font-size=\"12.00\">*</text>\n",
              "</g>\n",
              "<!-- 4574185104&#45;&gt;4574184848 -->\n",
              "<g id=\"edge11\" class=\"edge\">\n",
              "<title>4574185104&#45;&gt;4574184848</title>\n",
              "<path fill=\"none\" stroke=\"black\" d=\"M110.5,-143.93C110.5,-138.18 110.5,-132.08 110.5,-126.32\"/>\n",
              "</g>\n",
              "<!-- 4574185040 -->\n",
              "<g id=\"node10\" class=\"node\">\n",
              "<title>4574185040</title>\n",
              "<polygon fill=\"none\" stroke=\"black\" points=\"160.5,-108 160.5,-126 191.5,-126 191.5,-108 160.5,-108\"/>\n",
              "<text text-anchor=\"start\" x=\"165.67\" y=\"-113.4\" font-family=\"Times,serif\" font-size=\"12.00\">type</text>\n",
              "<polygon fill=\"none\" stroke=\"black\" points=\"191.5,-108 191.5,-126 218.5,-126 218.5,-108 191.5,-108\"/>\n",
              "<text text-anchor=\"start\" x=\"195.67\" y=\"-113.4\" font-family=\"Times,serif\" font-size=\"12.00\">rule</text>\n",
              "<polygon fill=\"none\" stroke=\"black\" points=\"160.5,-90 160.5,-108 191.5,-108 191.5,-90 160.5,-90\"/>\n",
              "<text text-anchor=\"start\" x=\"163.01\" y=\"-95.4\" font-family=\"Times,serif\" font-size=\"12.00\">name</text>\n",
              "<polygon fill=\"none\" stroke=\"black\" points=\"191.5,-90 191.5,-108 218.5,-108 218.5,-90 191.5,-90\"/>\n",
              "<text text-anchor=\"start\" x=\"198.67\" y=\"-95.4\" font-family=\"Times,serif\" font-size=\"12.00\">int</text>\n",
              "<polygon fill=\"none\" stroke=\"black\" points=\"160.5,-72 160.5,-90 191.5,-90 191.5,-72 160.5,-72\"/>\n",
              "<text text-anchor=\"start\" x=\"166.67\" y=\"-77.4\" font-family=\"Times,serif\" font-size=\"12.00\">rule</text>\n",
              "<polygon fill=\"none\" stroke=\"black\" points=\"191.5,-72 191.5,-90 218.5,-90 218.5,-72 191.5,-72\"/>\n",
              "<text text-anchor=\"start\" x=\"194.34\" y=\"-77.4\" font-family=\"Times,serif\" font-size=\"12.00\">expr</text>\n",
              "</g>\n",
              "<!-- 4574185104&#45;&gt;4574185040 -->\n",
              "<g id=\"edge12\" class=\"edge\">\n",
              "<title>4574185104&#45;&gt;4574185040</title>\n",
              "<path fill=\"none\" stroke=\"black\" d=\"M139.92,-143.93C146.58,-138.03 153.66,-131.75 160.32,-125.85\"/>\n",
              "</g>\n",
              "<!-- 4574185168&#45;&gt;4574185360 -->\n",
              "<!-- 4574185232 -->\n",
              "<g id=\"node13\" class=\"node\">\n",
              "<title>4574185232</title>\n",
              "<polygon fill=\"none\" stroke=\"black\" points=\"244.5,-108 244.5,-126 275.5,-126 275.5,-108 244.5,-108\"/>\n",
              "<text text-anchor=\"start\" x=\"249.67\" y=\"-113.4\" font-family=\"Times,serif\" font-size=\"12.00\">type</text>\n",
              "<polygon fill=\"none\" stroke=\"black\" points=\"275.5,-108 275.5,-126 307.5,-126 307.5,-108 275.5,-108\"/>\n",
              "<text text-anchor=\"start\" x=\"278.17\" y=\"-113.4\" font-family=\"Times,serif\" font-size=\"12.00\">token</text>\n",
              "<polygon fill=\"none\" stroke=\"black\" points=\"244.5,-90 244.5,-108 275.5,-108 275.5,-90 244.5,-90\"/>\n",
              "<text text-anchor=\"start\" x=\"247.01\" y=\"-95.4\" font-family=\"Times,serif\" font-size=\"12.00\">name</text>\n",
              "<polygon fill=\"none\" stroke=\"black\" points=\"275.5,-90 275.5,-108 307.5,-108 307.5,-90 275.5,-90\"/>\n",
              "<text text-anchor=\"start\" x=\"281.5\" y=\"-95.4\" font-family=\"Times,serif\" font-size=\"12.00\">INT</text>\n",
              "<polygon fill=\"none\" stroke=\"black\" points=\"244.5,-72 244.5,-90 275.5,-90 275.5,-72 244.5,-72\"/>\n",
              "<text text-anchor=\"start\" x=\"247.01\" y=\"-77.4\" font-family=\"Times,serif\" font-size=\"12.00\">value</text>\n",
              "<polygon fill=\"none\" stroke=\"black\" points=\"275.5,-72 275.5,-90 307.5,-90 307.5,-72 275.5,-72\"/>\n",
              "<text text-anchor=\"start\" x=\"288.5\" y=\"-77.4\" font-family=\"Times,serif\" font-size=\"12.00\">5</text>\n",
              "</g>\n",
              "<!-- 4574185360&#45;&gt;4574185232 -->\n",
              "<g id=\"edge17\" class=\"edge\">\n",
              "<title>4574185360&#45;&gt;4574185232</title>\n",
              "<path fill=\"none\" stroke=\"black\" d=\"M275.5,-143.93C275.5,-138.18 275.5,-132.08 275.5,-126.32\"/>\n",
              "</g>\n",
              "<!-- 4574184784&#45;&gt;4574184848 -->\n",
              "<!-- 4574184400 -->\n",
              "<g id=\"node11\" class=\"node\">\n",
              "<title>4574184400</title>\n",
              "<polygon fill=\"none\" stroke=\"black\" points=\"0.5,-36 0.5,-54 31.5,-54 31.5,-36 0.5,-36\"/>\n",
              "<text text-anchor=\"start\" x=\"5.67\" y=\"-41.4\" font-family=\"Times,serif\" font-size=\"12.00\">type</text>\n",
              "<polygon fill=\"none\" stroke=\"black\" points=\"31.5,-36 31.5,-54 63.5,-54 63.5,-36 31.5,-36\"/>\n",
              "<text text-anchor=\"start\" x=\"34.17\" y=\"-41.4\" font-family=\"Times,serif\" font-size=\"12.00\">token</text>\n",
              "<polygon fill=\"none\" stroke=\"black\" points=\"0.5,-18 0.5,-36 31.5,-36 31.5,-18 0.5,-18\"/>\n",
              "<text text-anchor=\"start\" x=\"3.01\" y=\"-23.4\" font-family=\"Times,serif\" font-size=\"12.00\">name</text>\n",
              "<polygon fill=\"none\" stroke=\"black\" points=\"31.5,-18 31.5,-36 63.5,-36 63.5,-18 31.5,-18\"/>\n",
              "<text text-anchor=\"start\" x=\"37.5\" y=\"-23.4\" font-family=\"Times,serif\" font-size=\"12.00\">INT</text>\n",
              "<polygon fill=\"none\" stroke=\"black\" points=\"0.5,0 0.5,-18 31.5,-18 31.5,0 0.5,0\"/>\n",
              "<text text-anchor=\"start\" x=\"3.01\" y=\"-5.4\" font-family=\"Times,serif\" font-size=\"12.00\">value</text>\n",
              "<polygon fill=\"none\" stroke=\"black\" points=\"31.5,0 31.5,-18 63.5,-18 63.5,0 31.5,0\"/>\n",
              "<text text-anchor=\"start\" x=\"44.5\" y=\"-5.4\" font-family=\"Times,serif\" font-size=\"12.00\">3</text>\n",
              "</g>\n",
              "<!-- 4574184784&#45;&gt;4574184400 -->\n",
              "<g id=\"edge15\" class=\"edge\">\n",
              "<title>4574184784&#45;&gt;4574184400</title>\n",
              "<path fill=\"none\" stroke=\"black\" d=\"M31.5,-71.93C31.5,-66.18 31.5,-60.08 31.5,-54.32\"/>\n",
              "</g>\n",
              "<!-- 4574184848&#45;&gt;4574185040 -->\n",
              "<!-- 4574184912 -->\n",
              "<g id=\"node12\" class=\"node\">\n",
              "<title>4574184912</title>\n",
              "<polygon fill=\"none\" stroke=\"black\" points=\"158.5,-36 158.5,-54 189.5,-54 189.5,-36 158.5,-36\"/>\n",
              "<text text-anchor=\"start\" x=\"163.67\" y=\"-41.4\" font-family=\"Times,serif\" font-size=\"12.00\">type</text>\n",
              "<polygon fill=\"none\" stroke=\"black\" points=\"189.5,-36 189.5,-54 221.5,-54 221.5,-36 189.5,-36\"/>\n",
              "<text text-anchor=\"start\" x=\"192.17\" y=\"-41.4\" font-family=\"Times,serif\" font-size=\"12.00\">token</text>\n",
              "<polygon fill=\"none\" stroke=\"black\" points=\"158.5,-18 158.5,-36 189.5,-36 189.5,-18 158.5,-18\"/>\n",
              "<text text-anchor=\"start\" x=\"161.01\" y=\"-23.4\" font-family=\"Times,serif\" font-size=\"12.00\">name</text>\n",
              "<polygon fill=\"none\" stroke=\"black\" points=\"189.5,-18 189.5,-36 221.5,-36 221.5,-18 189.5,-18\"/>\n",
              "<text text-anchor=\"start\" x=\"195.5\" y=\"-23.4\" font-family=\"Times,serif\" font-size=\"12.00\">INT</text>\n",
              "<polygon fill=\"none\" stroke=\"black\" points=\"158.5,0 158.5,-18 189.5,-18 189.5,0 158.5,0\"/>\n",
              "<text text-anchor=\"start\" x=\"161.01\" y=\"-5.4\" font-family=\"Times,serif\" font-size=\"12.00\">value</text>\n",
              "<polygon fill=\"none\" stroke=\"black\" points=\"189.5,0 189.5,-18 221.5,-18 221.5,0 189.5,0\"/>\n",
              "<text text-anchor=\"start\" x=\"202.5\" y=\"-5.4\" font-family=\"Times,serif\" font-size=\"12.00\">4</text>\n",
              "</g>\n",
              "<!-- 4574185040&#45;&gt;4574184912 -->\n",
              "<g id=\"edge16\" class=\"edge\">\n",
              "<title>4574185040&#45;&gt;4574184912</title>\n",
              "<path fill=\"none\" stroke=\"black\" d=\"M189.5,-71.93C189.5,-66.18 189.5,-60.08 189.5,-54.32\"/>\n",
              "</g>\n",
              "</g>\n",
              "</svg>\n"
            ],
            "text/plain": [
              "({'type': 'rule', 'name': 'prog', 'rule': 'prog'}: ({'type': 'rule', 'name': 'printExpr', 'rule': 'stat'}: ({'type': 'rule', 'name': 'addSub', 'rule': 'expr'}: ({'type': 'rule', 'name': 'mulDiv', 'rule': 'expr'}: ({'type': 'rule', 'name': 'int', 'rule': 'expr'}: ({'type': 'token', 'name': 'INT', 'value': '3'})), ({'type': 'token', 'name': 'MUL', 'value': '*'}), ({'type': 'rule', 'name': 'int', 'rule': 'expr'}: ({'type': 'token', 'name': 'INT', 'value': '4'}))), ({'type': 'token', 'name': 'ADD', 'value': '+'}), ({'type': 'rule', 'name': 'int', 'rule': 'expr'}: ({'type': 'token', 'name': 'INT', 'value': '5'}))), ({'type': 'token', 'name': 'NEWLINE', 'value': '\\\\\\\\n'})))"
            ]
          },
          "execution_count": 21,
          "metadata": {},
          "output_type": "execute_result"
        }
      ],
      "source": [
        "LabeledExpr.tree(expr, 'prog')"
      ]
    },
    {
      "cell_type": "markdown",
      "metadata": {},
      "source": [
        "#### Lista dei token (numerati)\n",
        "\n",
        "Anche attraverso la libreria è comunque possibile accedere all'elenco dei token."
      ]
    },
    {
      "cell_type": "code",
      "execution_count": null,
      "metadata": {},
      "outputs": [
        {
          "name": "stdout",
          "output_type": "stream",
          "text": [
            "[@0,0:0='3',<9>,1:0]\n",
            "[@1,2:2='*',<4>,1:2]\n",
            "[@2,4:4='4',<9>,1:4]\n",
            "[@3,6:6='+',<6>,1:6]\n",
            "[@4,8:8='5',<9>,1:8]\n",
            "[@5,9:9='\\n',<10>,1:9]\n",
            "[@6,10:9='<EOF>',<-1>,2:0]\n"
          ]
        }
      ],
      "source": [
        "for token in LabeledExpr.tokens(expr): print(token)"
      ]
    },
    {
      "cell_type": "markdown",
      "metadata": {},
      "source": [
        "### Diagnostici"
      ]
    },
    {
      "cell_type": "code",
      "execution_count": null,
      "metadata": {},
      "outputs": [],
      "source": [
        "Ambig = ANTLR(r\"\"\"\n",
        "grammar Ambig;\n",
        "\n",
        "stat: expr ';'\n",
        "    | ID '(' ')' ';' \n",
        "    ;\n",
        "expr: ID '(' ')' \n",
        "    | INT\n",
        "    ;\n",
        "\n",
        "INT :   [0-9]+ ;\n",
        "ID  :   [a-zA-Z]+ ;\n",
        "WS  :   [ \\t\\r\\n]+ -> skip ;\n",
        "\"\"\")\n",
        "\n",
        "text = 'f();'"
      ]
    },
    {
      "cell_type": "code",
      "execution_count": null,
      "metadata": {},
      "outputs": [
        {
          "name": "stderr",
          "output_type": "stream",
          "text": [
            "line 1:3 reportAttemptingFullContext d=0 (stat), input='f();'\n",
            "line 1:3 reportAmbiguity d=0 (stat): ambigAlts={1, 2}, input='f();'\n"
          ]
        },
        {
          "data": {
            "text/plain": [
              "<AmbigParser.AmbigParser.StatContext at 0x1107c1f10>"
            ]
          },
          "execution_count": 24,
          "metadata": {},
          "output_type": "execute_result"
        }
      ],
      "source": [
        "Ambig.context(text, 'stat', diag = True)"
      ]
    },
    {
      "cell_type": "code",
      "execution_count": null,
      "metadata": {},
      "outputs": [
        {
          "name": "stdout",
          "output_type": "stream",
          "text": [
            "enter   stat, LT(1)=f\n",
            "enter   expr, LT(1)=f\n",
            "consume [@0,0:0='f',<5>,1:0] rule expr\n",
            "consume [@1,1:1='(',<2>,1:1] rule expr\n",
            "consume [@2,2:2=')',<3>,1:2] rule expr\n",
            "exit    expr, LT(1)=;\n",
            "consume [@3,3:3=';',<1>,1:3] rule stat\n",
            "exit    stat, LT(1)=<EOF>\n"
          ]
        },
        {
          "data": {
            "text/plain": [
              "<AmbigParser.AmbigParser.StatContext at 0x110a3f550>"
            ]
          },
          "execution_count": 25,
          "metadata": {},
          "output_type": "execute_result"
        }
      ],
      "source": [
        "Ambig.context(text, 'stat', trace = True)"
      ]
    }
  ],
  "metadata": {
    "kernelspec": {
      "display_name": "Python 3",
      "language": "python",
      "name": "python3"
    },
    "language_info": {
      "codemirror_mode": {
        "name": "ipython",
        "version": 3
      },
      "file_extension": ".py",
      "mimetype": "text/x-python",
      "name": "python",
      "nbconvert_exporter": "python",
      "pygments_lexer": "ipython3"
    }
  },
  "nbformat": 4,
  "nbformat_minor": 2
}
