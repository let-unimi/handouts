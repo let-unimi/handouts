{
 "cells": [
  {
   "cell_type": "markdown",
   "metadata": {},
   "source": [
    "# ANTLR 4\n",
    "\n",
    "Il materiale di riferimento per le lezioni a venire è costituito da:\n",
    "\n",
    "* Il libro (di testo) [The Definitive ANTLR 4 Reference](https://pragprog.com/book/tpantlr2/the-definitive-antlr-4-reference) di Terence Parr (l'autore di ANTLR),\n",
    "* le [informazioni su target/runtime Python 3](https://github.com/antlr/antlr4/blob/master/doc/python-target.md),\n",
    "* i [sorgenti del runtime Python 3](https://github.com/antlr/antlr4/tree/master/runtime/Python3),\n",
    "* le [API Java](https://www.antlr.org/api/Java/) (utili a colmare la scarsezza della documentazione dei target/runtime Python 3),\n",
    "* la [versione Python 3 degli esempi di codice](https://github.com/jszheng/py3antlr4book) del libro di cui sopra (non ufficiale),\n",
    "* un [insieme di grammatiche](https://github.com/antlr/grammars-v4) di diversi linguaggi noti.\n",
    "\n",
    "## Uso \"diretto\" (senza LibLET)"
   ]
  },
  {
   "cell_type": "code",
   "execution_count": 1,
   "metadata": {},
   "outputs": [],
   "source": [
    "! rm -rf Hello*.*"
   ]
  },
  {
   "cell_type": "code",
   "execution_count": 2,
   "metadata": {},
   "outputs": [
    {
     "name": "stdout",
     "output_type": "stream",
     "text": [
      "Writing Hello.g\n"
     ]
    }
   ],
   "source": [
    "%%writefile Hello.g\n",
    "\n",
    "grammar Hello;            // Define a grammar called Hello\n",
    "r  : 'hello' ID ;         // match keyword hello followed by an identifier\n",
    "ID : [a-z]+ ;             // match lower-case identifiers\n",
    "WS : [ \\t\\r\\n]+ -> skip ; // skip spaces, tabs, newlines, \\r (Windows)"
   ]
  },
  {
   "cell_type": "markdown",
   "metadata": {},
   "source": [
    "### Generazione dei moduli (usando il tool Java)"
   ]
  },
  {
   "cell_type": "code",
   "execution_count": 3,
   "metadata": {},
   "outputs": [
    {
     "name": "stdout",
     "output_type": "stream",
     "text": [
      "-rw-r--r-- 1 santini staff 1829 May  9 13:36 HelloLexer.py\r\n",
      "-rw-r--r-- 1 santini staff  545 May  9 13:36 HelloListener.py\r\n",
      "-rw-r--r-- 1 santini staff 2613 May  9 13:36 HelloParser.py\r\n",
      "-rw-r--r-- 1 santini staff  481 May  9 13:36 HelloVisitor.py\r\n"
     ]
    }
   ],
   "source": [
    "! java -jar \"$ANTLR4_JAR\" -Dlanguage=Python3 -visitor Hello.g && ls -l Hello*py"
   ]
  },
  {
   "cell_type": "markdown",
   "metadata": {},
   "source": [
    "### Parsing (costruzione dell'albero)"
   ]
  },
  {
   "cell_type": "code",
   "execution_count": 4,
   "metadata": {},
   "outputs": [],
   "source": [
    "# codice dal runtime di antlr4\n",
    "\n",
    "from antlr4.CommonTokenStream import CommonTokenStream\n",
    "from antlr4.InputStream import InputStream"
   ]
  },
  {
   "cell_type": "code",
   "execution_count": 5,
   "metadata": {},
   "outputs": [],
   "source": [
    "# codice genrerato da antlr4 a partire dalla grammatica Hello.g\n",
    "\n",
    "from HelloLexer import HelloLexer\n",
    "from HelloParser import HelloParser"
   ]
  },
  {
   "cell_type": "code",
   "execution_count": 6,
   "metadata": {},
   "outputs": [
    {
     "data": {
      "text/plain": [
       "'(r hello massimo)'"
      ]
     },
     "execution_count": 6,
     "metadata": {},
     "output_type": "execute_result"
    }
   ],
   "source": [
    "text = 'hello massimo'\n",
    "\n",
    "lexer = HelloLexer(InputStream(text))\n",
    "stream = CommonTokenStream(lexer)\n",
    "parser = HelloParser(stream)\n",
    "tree = parser.r()\n",
    "\n",
    "tree.toStringTree(recog = parser)"
   ]
  },
  {
   "cell_type": "markdown",
   "metadata": {},
   "source": [
    "#### Uso del lexer"
   ]
  },
  {
   "cell_type": "code",
   "execution_count": 7,
   "metadata": {},
   "outputs": [
    {
     "name": "stdout",
     "output_type": "stream",
     "text": [
      "[@-1,0:4='hello',<1>,1:0]\n",
      "[@-1,6:12='massimo',<2>,1:6]\n",
      "[@-1,13:12='<EOF>',<-1>,1:13]\n"
     ]
    }
   ],
   "source": [
    "lexer.reset()\n",
    "\n",
    "while True:\n",
    "    token = lexer.nextToken()\n",
    "    print(token)\n",
    "    if token.type == token.EOF: break"
   ]
  },
  {
   "cell_type": "markdown",
   "metadata": {},
   "source": [
    "### Un esempio maggiormente complesso"
   ]
  },
  {
   "cell_type": "code",
   "execution_count": 8,
   "metadata": {},
   "outputs": [],
   "source": [
    "! rm -f Expr*.*"
   ]
  },
  {
   "cell_type": "code",
   "execution_count": 9,
   "metadata": {},
   "outputs": [
    {
     "name": "stdout",
     "output_type": "stream",
     "text": [
      "Writing Expr.g\n"
     ]
    }
   ],
   "source": [
    "%%writefile Expr.g\n",
    "\n",
    "grammar Expr; \n",
    "\n",
    "/** The start rule; begin parsing here. */\n",
    "\n",
    "prog:   stat+ ;\n",
    "\n",
    "stat:   expr NEWLINE\n",
    "    |   ID '=' expr NEWLINE\n",
    "    |   NEWLINE\n",
    "    ;\n",
    "\n",
    "expr:   expr ('*'|'/') expr\n",
    "    |   expr ('+'|'-') expr\n",
    "    |   INT\n",
    "    |   ID\n",
    "    |   '(' expr ')'\n",
    "    ;\n",
    "\n",
    "MUL :   '*' ; // assigns token name to '*' used above in grammar\n",
    "DIV :   '/' ;\n",
    "ADD :   '+' ;\n",
    "SUB :   '-' ;\n",
    "ID  :   [a-zA-Z]+ ;      // match identifiers\n",
    "INT :   [0-9]+ ;         // match integers\n",
    "NEWLINE:'\\r'? '\\n' ;     // return newlines to parser (is end-statement signal)\n",
    "WS : [ \\t]+ -> skip ; // toss out whitespace    "
   ]
  },
  {
   "cell_type": "code",
   "execution_count": 10,
   "metadata": {},
   "outputs": [
    {
     "name": "stdout",
     "output_type": "stream",
     "text": [
      "-rw-r--r-- 1 santini staff  2928 May  9 13:36 ExprLexer.py\r\n",
      "-rw-r--r-- 1 santini staff  1034 May  9 13:36 ExprListener.py\r\n",
      "-rw-r--r-- 1 santini staff 13174 May  9 13:36 ExprParser.py\r\n",
      "-rw-r--r-- 1 santini staff   776 May  9 13:36 ExprVisitor.py\r\n"
     ]
    }
   ],
   "source": [
    "! java -jar \"$ANTLR4_JAR\" -Dlanguage=Python3 -visitor Expr.g && ls -l Expr*py"
   ]
  },
  {
   "cell_type": "code",
   "execution_count": 11,
   "metadata": {},
   "outputs": [
    {
     "data": {
      "text/plain": [
       "'(prog (stat (expr (expr (expr 2) * (expr 3)) + (expr 4)) \\\\n))'"
      ]
     },
     "execution_count": 11,
     "metadata": {},
     "output_type": "execute_result"
    }
   ],
   "source": [
    "from ExprLexer import ExprLexer\n",
    "from ExprParser import ExprParser\n",
    "\n",
    "text = '2 * 3 + 4\\n'\n",
    "\n",
    "lexer = ExprLexer(InputStream(text))\n",
    "stream = CommonTokenStream(lexer)\n",
    "parser = ExprParser(stream)\n",
    "tree = parser.prog()\n",
    "\n",
    "tree.toStringTree(recog = parser)"
   ]
  },
  {
   "cell_type": "markdown",
   "metadata": {},
   "source": [
    "#### Uso del Listener"
   ]
  },
  {
   "cell_type": "code",
   "execution_count": 12,
   "metadata": {},
   "outputs": [],
   "source": [
    "from antlr4.tree.Tree import ParseTreeWalker"
   ]
  },
  {
   "cell_type": "code",
   "execution_count": 13,
   "metadata": {},
   "outputs": [
    {
     "name": "stdout",
     "output_type": "stream",
     "text": [
      "[@0,0:0='2',<9>,1:0] [@0,0:0='2',<9>,1:0] expr\n",
      "[@2,4:4='3',<9>,1:4] [@2,4:4='3',<9>,1:4] expr\n",
      "[@0,0:0='2',<9>,1:0] [@2,4:4='3',<9>,1:4] expr\n",
      "[@4,8:8='4',<9>,1:8] [@4,8:8='4',<9>,1:8] expr\n",
      "[@0,0:0='2',<9>,1:0] [@4,8:8='4',<9>,1:8] expr\n",
      "[@0,0:0='2',<9>,1:0] [@5,9:9='\\n',<10>,1:9] stat\n",
      "[@0,0:0='2',<9>,1:0] [@5,9:9='\\n',<10>,1:9] prog\n"
     ]
    }
   ],
   "source": [
    "from ExprListener import ExprListener\n",
    "\n",
    "class PrintListener(ExprListener):\n",
    "    def exitEveryRule(self, ctx):\n",
    "        print(ctx.start, ctx.stop, ExprParser.ruleNames[ctx.getRuleIndex()])\n",
    "\n",
    "listener = PrintListener()\n",
    "ParseTreeWalker.DEFAULT.walk(listener, tree)"
   ]
  },
  {
   "cell_type": "markdown",
   "metadata": {},
   "source": [
    "#### Uso del Visitor"
   ]
  },
  {
   "cell_type": "code",
   "execution_count": 14,
   "metadata": {},
   "outputs": [
    {
     "name": "stdout",
     "output_type": "stream",
     "text": [
      "[@0,0:0='2',<9>,1:0] [@5,9:9='\\n',<10>,1:9] prog\n",
      "[@0,0:0='2',<9>,1:0] [@5,9:9='\\n',<10>,1:9] stat\n",
      "[@0,0:0='2',<9>,1:0] [@4,8:8='4',<9>,1:8] expr\n",
      "[@0,0:0='2',<9>,1:0] [@2,4:4='3',<9>,1:4] expr\n",
      "[@0,0:0='2',<9>,1:0] [@0,0:0='2',<9>,1:0] expr\n",
      "[@2,4:4='3',<9>,1:4] [@2,4:4='3',<9>,1:4] expr\n",
      "[@4,8:8='4',<9>,1:8] [@4,8:8='4',<9>,1:8] expr\n"
     ]
    }
   ],
   "source": [
    "from ExprVisitor import ExprVisitor\n",
    "\n",
    "class PrintVisitor(ExprVisitor):\n",
    "    def visitChildren(self, node):\n",
    "        print(node.start, node.stop, ExprParser.ruleNames[node.getRuleIndex()])\n",
    "        return super().visitChildren(node)\n",
    "        \n",
    "visitor = PrintVisitor()\n",
    "visitor.visit(tree)"
   ]
  },
  {
   "cell_type": "markdown",
   "metadata": {},
   "source": [
    "## Uso mediato da LibLET"
   ]
  },
  {
   "cell_type": "code",
   "execution_count": 15,
   "metadata": {},
   "outputs": [],
   "source": [
    "from liblet import ANTLR, Tree"
   ]
  },
  {
   "cell_type": "markdown",
   "metadata": {},
   "source": [
    "### Generazione e caricamento dei moduli"
   ]
  },
  {
   "cell_type": "code",
   "execution_count": 16,
   "metadata": {},
   "outputs": [],
   "source": [
    "LabeledExpr = ANTLR(r\"\"\"\n",
    "grammar LabeledExpr; // rename to distinguish from Expr.g4\n",
    "\n",
    "prog:   stat+ ;\n",
    "\n",
    "stat:   expr NEWLINE                # printExpr\n",
    "    |   ID '=' expr NEWLINE         # assign\n",
    "    |   NEWLINE                     # blank\n",
    "    ;\n",
    "\n",
    "expr:   expr op=('*'|'/') expr      # MulDiv\n",
    "    |   expr op=('+'|'-') expr      # AddSub\n",
    "    |   INT                         # int\n",
    "    |   ID                          # id\n",
    "    |   '(' expr ')'                # parens\n",
    "    ;\n",
    "\n",
    "MUL :   '*' ; // assigns token name to '*' used above in grammar\n",
    "DIV :   '/' ;\n",
    "ADD :   '+' ;\n",
    "SUB :   '-' ;\n",
    "ID  :   [a-zA-Z]+ ;      // match identifiers\n",
    "INT :   [0-9]+ ;         // match integers\n",
    "NEWLINE:'\\r'? '\\n' ;     // return newlines to parser (is end-statement signal)\n",
    "WS : [ \\t]+ -> skip ; // toss out whitespace\n",
    "\"\"\")"
   ]
  },
  {
   "cell_type": "markdown",
   "metadata": {},
   "source": [
    "### Generazione dell'albero"
   ]
  },
  {
   "cell_type": "code",
   "execution_count": 17,
   "metadata": {},
   "outputs": [
    {
     "data": {
      "text/plain": [
       "<LabeledExprParser.LabeledExprParser.ProgContext at 0x10ae804a8>"
      ]
     },
     "execution_count": 17,
     "metadata": {},
     "output_type": "execute_result"
    }
   ],
   "source": [
    "expr = '3 * 4 + 5\\n'\n",
    "tree = LabeledExpr.tree(expr, 'prog')\n",
    "tree"
   ]
  },
  {
   "cell_type": "code",
   "execution_count": 18,
   "metadata": {},
   "outputs": [
    {
     "data": {
      "text/plain": [
       "'(prog (stat (expr (expr (expr 3) * (expr 4)) + (expr 5)) \\\\n))'"
      ]
     },
     "execution_count": 18,
     "metadata": {},
     "output_type": "execute_result"
    }
   ],
   "source": [
    "# come stringa\n",
    "\n",
    "LabeledExpr.as_str(tree)"
   ]
  },
  {
   "cell_type": "code",
   "execution_count": 19,
   "metadata": {},
   "outputs": [
    {
     "data": {
      "image/svg+xml": [
       "<?xml version=\"1.0\" encoding=\"UTF-8\" standalone=\"no\"?>\n",
       "<!DOCTYPE svg PUBLIC \"-//W3C//DTD SVG 1.1//EN\"\n",
       " \"http://www.w3.org/Graphics/SVG/1.1/DTD/svg11.dtd\">\n",
       "<!-- Generated by graphviz version 2.40.1 (20161225.0304)\n",
       " -->\n",
       "<!-- Title: %3 Pages: 1 -->\n",
       "<svg width=\"291pt\" height=\"230pt\"\n",
       " viewBox=\"0.00 0.00 291.18 230.00\" xmlns=\"http://www.w3.org/2000/svg\" xmlns:xlink=\"http://www.w3.org/1999/xlink\">\n",
       "<g id=\"graph0\" class=\"graph\" transform=\"scale(1 1) rotate(0) translate(4 226)\">\n",
       "<title>%3</title>\n",
       "<polygon fill=\"#ffffff\" stroke=\"transparent\" points=\"-4,4 -4,-226 287.1841,-226 287.1841,4 -4,4\"/>\n",
       "<!-- 4477988936 -->\n",
       "<g id=\"node1\" class=\"node\">\n",
       "<title>4477988936</title>\n",
       "<path fill=\"none\" stroke=\"#000000\" stroke-width=\".25\" d=\"M203.7816,-222C203.7816,-222 185.1207,-222 185.1207,-222 181.4541,-222 177.7874,-218.3333 177.7874,-214.6667 177.7874,-214.6667 177.7874,-207.3333 177.7874,-207.3333 177.7874,-203.6667 181.4541,-200 185.1207,-200 185.1207,-200 203.7816,-200 203.7816,-200 207.4483,-200 211.115,-203.6667 211.115,-207.3333 211.115,-207.3333 211.115,-214.6667 211.115,-214.6667 211.115,-218.3333 207.4483,-222 203.7816,-222\"/>\n",
       "<text text-anchor=\"middle\" x=\"194.4512\" y=\"-206.8\" font-family=\"Times,serif\" font-size=\"14.00\" fill=\"#000000\">prog</text>\n",
       "</g>\n",
       "<!-- 4477990336 -->\n",
       "<g id=\"node2\" class=\"node\">\n",
       "<title>4477990336</title>\n",
       "<path fill=\"none\" stroke=\"#000000\" stroke-width=\".25\" d=\"M201.0629,-182C201.0629,-182 187.8395,-182 187.8395,-182 184.1728,-182 180.5062,-178.3333 180.5062,-174.6667 180.5062,-174.6667 180.5062,-167.3333 180.5062,-167.3333 180.5062,-163.6667 184.1728,-160 187.8395,-160 187.8395,-160 201.0629,-160 201.0629,-160 204.7295,-160 208.3962,-163.6667 208.3962,-167.3333 208.3962,-167.3333 208.3962,-174.6667 208.3962,-174.6667 208.3962,-178.3333 204.7295,-182 201.0629,-182\"/>\n",
       "<text text-anchor=\"middle\" x=\"194.4512\" y=\"-166.8\" font-family=\"Times,serif\" font-size=\"14.00\" fill=\"#000000\">stat</text>\n",
       "</g>\n",
       "<!-- 4477988936&#45;&gt;4477990336 -->\n",
       "<g id=\"edge1\" class=\"edge\">\n",
       "<title>4477988936&#45;&gt;4477990336</title>\n",
       "<path fill=\"none\" stroke=\"#000000\" d=\"M194.4512,-199.6446C194.4512,-194.1937 194.4512,-187.6819 194.4512,-182.2453\"/>\n",
       "</g>\n",
       "<!-- 4477990392 -->\n",
       "<g id=\"node3\" class=\"node\">\n",
       "<title>4477990392</title>\n",
       "<path fill=\"none\" stroke=\"#000000\" stroke-width=\".25\" d=\"M162.494,-142C162.494,-142 144.4083,-142 144.4083,-142 140.7416,-142 137.075,-138.3333 137.075,-134.6667 137.075,-134.6667 137.075,-127.3333 137.075,-127.3333 137.075,-123.6667 140.7416,-120 144.4083,-120 144.4083,-120 162.494,-120 162.494,-120 166.1607,-120 169.8274,-123.6667 169.8274,-127.3333 169.8274,-127.3333 169.8274,-134.6667 169.8274,-134.6667 169.8274,-138.3333 166.1607,-142 162.494,-142\"/>\n",
       "<text text-anchor=\"middle\" x=\"153.4512\" y=\"-126.8\" font-family=\"Times,serif\" font-size=\"14.00\" fill=\"#000000\">expr</text>\n",
       "</g>\n",
       "<!-- 4477990336&#45;&gt;4477990392 -->\n",
       "<g id=\"edge2\" class=\"edge\">\n",
       "<title>4477990336&#45;&gt;4477990392</title>\n",
       "<path fill=\"none\" stroke=\"#000000\" d=\"M182.8119,-159.6446C177.2247,-154.1937 170.5501,-147.6819 164.9777,-142.2453\"/>\n",
       "</g>\n",
       "<!-- 4477990952 -->\n",
       "<g id=\"node4\" class=\"node\">\n",
       "<title>4477990952</title>\n",
       "<path fill=\"none\" stroke=\"#000000\" stroke-width=\".25\" d=\"M276.0848,-142C276.0848,-142 194.8175,-142 194.8175,-142 191.1509,-142 187.4842,-138.3333 187.4842,-134.6667 187.4842,-134.6667 187.4842,-127.3333 187.4842,-127.3333 187.4842,-123.6667 191.1509,-120 194.8175,-120 194.8175,-120 276.0848,-120 276.0848,-120 279.7515,-120 283.4181,-123.6667 283.4181,-127.3333 283.4181,-127.3333 283.4181,-134.6667 283.4181,-134.6667 283.4181,-138.3333 279.7515,-142 276.0848,-142\"/>\n",
       "<text text-anchor=\"middle\" x=\"235.4512\" y=\"-126.8\" font-family=\"Times,serif\" font-size=\"14.00\" fill=\"#000000\">NEWLINE [\\n]</text>\n",
       "</g>\n",
       "<!-- 4477990336&#45;&gt;4477990952 -->\n",
       "<g id=\"edge3\" class=\"edge\">\n",
       "<title>4477990336&#45;&gt;4477990952</title>\n",
       "<path fill=\"none\" stroke=\"#000000\" d=\"M206.0905,-159.6446C211.6777,-154.1937 218.3522,-147.6819 223.9247,-142.2453\"/>\n",
       "</g>\n",
       "<!-- 4477990392&#45;&gt;4477990952 -->\n",
       "<!-- 4477990448 -->\n",
       "<g id=\"node5\" class=\"node\">\n",
       "<title>4477990448</title>\n",
       "<path fill=\"none\" stroke=\"#000000\" stroke-width=\".25\" d=\"M98.494,-102C98.494,-102 80.4083,-102 80.4083,-102 76.7416,-102 73.075,-98.3333 73.075,-94.6667 73.075,-94.6667 73.075,-87.3333 73.075,-87.3333 73.075,-83.6667 76.7416,-80 80.4083,-80 80.4083,-80 98.494,-80 98.494,-80 102.1607,-80 105.8274,-83.6667 105.8274,-87.3333 105.8274,-87.3333 105.8274,-94.6667 105.8274,-94.6667 105.8274,-98.3333 102.1607,-102 98.494,-102\"/>\n",
       "<text text-anchor=\"middle\" x=\"89.4512\" y=\"-86.8\" font-family=\"Times,serif\" font-size=\"14.00\" fill=\"#000000\">expr</text>\n",
       "</g>\n",
       "<!-- 4477990392&#45;&gt;4477990448 -->\n",
       "<g id=\"edge5\" class=\"edge\">\n",
       "<title>4477990392&#45;&gt;4477990448</title>\n",
       "<path fill=\"none\" stroke=\"#000000\" d=\"M136.9696,-120.699C127.4882,-114.7731 115.6086,-107.3484 106.0993,-101.4051\"/>\n",
       "</g>\n",
       "<!-- 4477990784 -->\n",
       "<g id=\"node6\" class=\"node\">\n",
       "<title>4477990784</title>\n",
       "<path fill=\"none\" stroke=\"#000000\" stroke-width=\".25\" d=\"M175.6686,-102C175.6686,-102 131.2337,-102 131.2337,-102 127.567,-102 123.9004,-98.3333 123.9004,-94.6667 123.9004,-94.6667 123.9004,-87.3333 123.9004,-87.3333 123.9004,-83.6667 127.567,-80 131.2337,-80 131.2337,-80 175.6686,-80 175.6686,-80 179.3353,-80 183.002,-83.6667 183.002,-87.3333 183.002,-87.3333 183.002,-94.6667 183.002,-94.6667 183.002,-98.3333 179.3353,-102 175.6686,-102\"/>\n",
       "<text text-anchor=\"middle\" x=\"153.4512\" y=\"-86.8\" font-family=\"Times,serif\" font-size=\"14.00\" fill=\"#000000\">ADD [+]</text>\n",
       "</g>\n",
       "<!-- 4477990392&#45;&gt;4477990784 -->\n",
       "<g id=\"edge6\" class=\"edge\">\n",
       "<title>4477990392&#45;&gt;4477990784</title>\n",
       "<path fill=\"none\" stroke=\"#000000\" d=\"M153.4512,-119.6446C153.4512,-114.1937 153.4512,-107.6819 153.4512,-102.2453\"/>\n",
       "</g>\n",
       "<!-- 4477990840 -->\n",
       "<g id=\"node7\" class=\"node\">\n",
       "<title>4477990840</title>\n",
       "<path fill=\"none\" stroke=\"#000000\" stroke-width=\".25\" d=\"M226.494,-102C226.494,-102 208.4083,-102 208.4083,-102 204.7416,-102 201.075,-98.3333 201.075,-94.6667 201.075,-94.6667 201.075,-87.3333 201.075,-87.3333 201.075,-83.6667 204.7416,-80 208.4083,-80 208.4083,-80 226.494,-80 226.494,-80 230.1607,-80 233.8274,-83.6667 233.8274,-87.3333 233.8274,-87.3333 233.8274,-94.6667 233.8274,-94.6667 233.8274,-98.3333 230.1607,-102 226.494,-102\"/>\n",
       "<text text-anchor=\"middle\" x=\"217.4512\" y=\"-86.8\" font-family=\"Times,serif\" font-size=\"14.00\" fill=\"#000000\">expr</text>\n",
       "</g>\n",
       "<!-- 4477990392&#45;&gt;4477990840 -->\n",
       "<g id=\"edge7\" class=\"edge\">\n",
       "<title>4477990392&#45;&gt;4477990840</title>\n",
       "<path fill=\"none\" stroke=\"#000000\" d=\"M169.9328,-120.699C179.4141,-114.7731 191.2937,-107.3484 200.803,-101.4051\"/>\n",
       "</g>\n",
       "<!-- 4477990448&#45;&gt;4477990784 -->\n",
       "<!-- 4477990504 -->\n",
       "<g id=\"node8\" class=\"node\">\n",
       "<title>4477990504</title>\n",
       "<path fill=\"none\" stroke=\"#000000\" stroke-width=\".25\" d=\"M34.494,-62C34.494,-62 16.4083,-62 16.4083,-62 12.7416,-62 9.075,-58.3333 9.075,-54.6667 9.075,-54.6667 9.075,-47.3333 9.075,-47.3333 9.075,-43.6667 12.7416,-40 16.4083,-40 16.4083,-40 34.494,-40 34.494,-40 38.1607,-40 41.8274,-43.6667 41.8274,-47.3333 41.8274,-47.3333 41.8274,-54.6667 41.8274,-54.6667 41.8274,-58.3333 38.1607,-62 34.494,-62\"/>\n",
       "<text text-anchor=\"middle\" x=\"25.4512\" y=\"-46.8\" font-family=\"Times,serif\" font-size=\"14.00\" fill=\"#000000\">expr</text>\n",
       "</g>\n",
       "<!-- 4477990448&#45;&gt;4477990504 -->\n",
       "<g id=\"edge10\" class=\"edge\">\n",
       "<title>4477990448&#45;&gt;4477990504</title>\n",
       "<path fill=\"none\" stroke=\"#000000\" d=\"M72.9696,-80.699C63.4882,-74.7731 51.6086,-67.3484 42.0993,-61.4051\"/>\n",
       "</g>\n",
       "<!-- 4477990616 -->\n",
       "<g id=\"node9\" class=\"node\">\n",
       "<title>4477990616</title>\n",
       "<path fill=\"none\" stroke=\"#000000\" stroke-width=\".25\" d=\"M111.5412,-62C111.5412,-62 67.3611,-62 67.3611,-62 63.6944,-62 60.0278,-58.3333 60.0278,-54.6667 60.0278,-54.6667 60.0278,-47.3333 60.0278,-47.3333 60.0278,-43.6667 63.6944,-40 67.3611,-40 67.3611,-40 111.5412,-40 111.5412,-40 115.2079,-40 118.8746,-43.6667 118.8746,-47.3333 118.8746,-47.3333 118.8746,-54.6667 118.8746,-54.6667 118.8746,-58.3333 115.2079,-62 111.5412,-62\"/>\n",
       "<text text-anchor=\"middle\" x=\"89.4512\" y=\"-46.8\" font-family=\"Times,serif\" font-size=\"14.00\" fill=\"#000000\">MUL [*]</text>\n",
       "</g>\n",
       "<!-- 4477990448&#45;&gt;4477990616 -->\n",
       "<g id=\"edge11\" class=\"edge\">\n",
       "<title>4477990448&#45;&gt;4477990616</title>\n",
       "<path fill=\"none\" stroke=\"#000000\" d=\"M89.4512,-79.6446C89.4512,-74.1937 89.4512,-67.6819 89.4512,-62.2453\"/>\n",
       "</g>\n",
       "<!-- 4477990672 -->\n",
       "<g id=\"node10\" class=\"node\">\n",
       "<title>4477990672</title>\n",
       "<path fill=\"none\" stroke=\"#000000\" stroke-width=\".25\" d=\"M162.494,-62C162.494,-62 144.4083,-62 144.4083,-62 140.7416,-62 137.075,-58.3333 137.075,-54.6667 137.075,-54.6667 137.075,-47.3333 137.075,-47.3333 137.075,-43.6667 140.7416,-40 144.4083,-40 144.4083,-40 162.494,-40 162.494,-40 166.1607,-40 169.8274,-43.6667 169.8274,-47.3333 169.8274,-47.3333 169.8274,-54.6667 169.8274,-54.6667 169.8274,-58.3333 166.1607,-62 162.494,-62\"/>\n",
       "<text text-anchor=\"middle\" x=\"153.4512\" y=\"-46.8\" font-family=\"Times,serif\" font-size=\"14.00\" fill=\"#000000\">expr</text>\n",
       "</g>\n",
       "<!-- 4477990448&#45;&gt;4477990672 -->\n",
       "<g id=\"edge12\" class=\"edge\">\n",
       "<title>4477990448&#45;&gt;4477990672</title>\n",
       "<path fill=\"none\" stroke=\"#000000\" d=\"M105.9328,-80.699C115.4141,-74.7731 127.2937,-67.3484 136.803,-61.4051\"/>\n",
       "</g>\n",
       "<!-- 4477990784&#45;&gt;4477990840 -->\n",
       "<!-- 4477990896 -->\n",
       "<g id=\"node13\" class=\"node\">\n",
       "<title>4477990896</title>\n",
       "<path fill=\"none\" stroke=\"#000000\" stroke-width=\".25\" d=\"M235.5203,-62C235.5203,-62 199.3821,-62 199.3821,-62 195.7154,-62 192.0487,-58.3333 192.0487,-54.6667 192.0487,-54.6667 192.0487,-47.3333 192.0487,-47.3333 192.0487,-43.6667 195.7154,-40 199.3821,-40 199.3821,-40 235.5203,-40 235.5203,-40 239.1869,-40 242.8536,-43.6667 242.8536,-47.3333 242.8536,-47.3333 242.8536,-54.6667 242.8536,-54.6667 242.8536,-58.3333 239.1869,-62 235.5203,-62\"/>\n",
       "<text text-anchor=\"middle\" x=\"217.4512\" y=\"-46.8\" font-family=\"Times,serif\" font-size=\"14.00\" fill=\"#000000\">INT [5]</text>\n",
       "</g>\n",
       "<!-- 4477990840&#45;&gt;4477990896 -->\n",
       "<g id=\"edge17\" class=\"edge\">\n",
       "<title>4477990840&#45;&gt;4477990896</title>\n",
       "<path fill=\"none\" stroke=\"#000000\" d=\"M217.4512,-79.6446C217.4512,-74.1937 217.4512,-67.6819 217.4512,-62.2453\"/>\n",
       "</g>\n",
       "<!-- 4477990504&#45;&gt;4477990616 -->\n",
       "<!-- 4477990560 -->\n",
       "<g id=\"node11\" class=\"node\">\n",
       "<title>4477990560</title>\n",
       "<path fill=\"none\" stroke=\"#000000\" stroke-width=\".25\" d=\"M43.5203,-22C43.5203,-22 7.3821,-22 7.3821,-22 3.7154,-22 .0487,-18.3333 .0487,-14.6667 .0487,-14.6667 .0487,-7.3333 .0487,-7.3333 .0487,-3.6667 3.7154,0 7.3821,0 7.3821,0 43.5203,0 43.5203,0 47.1869,0 50.8536,-3.6667 50.8536,-7.3333 50.8536,-7.3333 50.8536,-14.6667 50.8536,-14.6667 50.8536,-18.3333 47.1869,-22 43.5203,-22\"/>\n",
       "<text text-anchor=\"middle\" x=\"25.4512\" y=\"-6.8\" font-family=\"Times,serif\" font-size=\"14.00\" fill=\"#000000\">INT [3]</text>\n",
       "</g>\n",
       "<!-- 4477990504&#45;&gt;4477990560 -->\n",
       "<g id=\"edge15\" class=\"edge\">\n",
       "<title>4477990504&#45;&gt;4477990560</title>\n",
       "<path fill=\"none\" stroke=\"#000000\" d=\"M25.4512,-39.6446C25.4512,-34.1937 25.4512,-27.6819 25.4512,-22.2453\"/>\n",
       "</g>\n",
       "<!-- 4477990616&#45;&gt;4477990672 -->\n",
       "<!-- 4477990728 -->\n",
       "<g id=\"node12\" class=\"node\">\n",
       "<title>4477990728</title>\n",
       "<path fill=\"none\" stroke=\"#000000\" stroke-width=\".25\" d=\"M171.5203,-22C171.5203,-22 135.3821,-22 135.3821,-22 131.7154,-22 128.0487,-18.3333 128.0487,-14.6667 128.0487,-14.6667 128.0487,-7.3333 128.0487,-7.3333 128.0487,-3.6667 131.7154,0 135.3821,0 135.3821,0 171.5203,0 171.5203,0 175.1869,0 178.8536,-3.6667 178.8536,-7.3333 178.8536,-7.3333 178.8536,-14.6667 178.8536,-14.6667 178.8536,-18.3333 175.1869,-22 171.5203,-22\"/>\n",
       "<text text-anchor=\"middle\" x=\"153.4512\" y=\"-6.8\" font-family=\"Times,serif\" font-size=\"14.00\" fill=\"#000000\">INT [4]</text>\n",
       "</g>\n",
       "<!-- 4477990672&#45;&gt;4477990728 -->\n",
       "<g id=\"edge16\" class=\"edge\">\n",
       "<title>4477990672&#45;&gt;4477990728</title>\n",
       "<path fill=\"none\" stroke=\"#000000\" d=\"M153.4512,-39.6446C153.4512,-34.1937 153.4512,-27.6819 153.4512,-22.2453\"/>\n",
       "</g>\n",
       "</g>\n",
       "</svg>\n"
      ],
      "text/plain": [
       "(prog: (stat: (expr: (expr: (expr: (INT [3])), (MUL [*]), (expr: (INT [4]))), (ADD [+]), (expr: (INT [5]))), (NEWLINE [\\\\n])))"
      ]
     },
     "execution_count": 19,
     "metadata": {},
     "output_type": "execute_result"
    }
   ],
   "source": [
    "# come lol (visualizato)\n",
    "\n",
    "Tree.from_lol(LabeledExpr.as_lol(tree, True))"
   ]
  },
  {
   "cell_type": "markdown",
   "metadata": {},
   "source": [
    "#### Lista dei token (numerati)"
   ]
  },
  {
   "cell_type": "code",
   "execution_count": 20,
   "metadata": {},
   "outputs": [
    {
     "name": "stdout",
     "output_type": "stream",
     "text": [
      "[@0,0:0='3',<9>,1:0]\n",
      "[@1,2:2='*',<4>,1:2]\n",
      "[@2,4:4='4',<9>,1:4]\n",
      "[@3,6:6='+',<6>,1:6]\n",
      "[@4,8:8='5',<9>,1:8]\n",
      "[@5,9:9='\\n',<10>,1:9]\n",
      "[@6,10:9='<EOF>',<-1>,2:0]\n"
     ]
    }
   ],
   "source": [
    "for token in LabeledExpr.tokens(expr): print(token)"
   ]
  },
  {
   "cell_type": "markdown",
   "metadata": {},
   "source": [
    "### Valutazione (con Visitor)"
   ]
  },
  {
   "cell_type": "code",
   "execution_count": 21,
   "metadata": {},
   "outputs": [],
   "source": [
    "class EvalVisitor(LabeledExpr.Visitor):\n",
    "\n",
    "    def __init__(self):\n",
    "        self.memory = {}\n",
    "        \n",
    "    def visitAssign(self, ctx):\n",
    "        name = ctx.ID().getText()\n",
    "        value = self.visit(ctx.expr())\n",
    "        self.memory[name] = value\n",
    "        return value\n",
    "\n",
    "    def visitPrintExpr(self, ctx):\n",
    "        value = self.visit(ctx.expr())\n",
    "        print(value)\n",
    "\n",
    "    def visitInt(self, ctx):\n",
    "        return int(ctx.INT().getText())\n",
    "\n",
    "    def visitId(self, ctx):\n",
    "        name = ctx.ID().getText()\n",
    "        if name in self.memory: return self.memory[name]\n",
    "        return 0\n",
    "\n",
    "    def visitMulDiv(self, ctx):\n",
    "        left = self.visit(ctx.expr(0))\n",
    "        right = self.visit(ctx.expr(1))\n",
    "        if ctx.op.type == LabeledExpr.Parser.MUL:\n",
    "            return left * right\n",
    "        else:\n",
    "            return left / right\n",
    "\n",
    "    def visitAddSub(self, ctx):\n",
    "        left = self.visit(ctx.expr(0))\n",
    "        right = self.visit(ctx.expr(1))\n",
    "        if ctx.op.type == LabeledExpr.Parser.ADD:\n",
    "            return left + right\n",
    "        else:\n",
    "            return left - right\n",
    "\n",
    "    def visitParens(self, ctx):\n",
    "        return self.visit(ctx.expr())"
   ]
  },
  {
   "cell_type": "code",
   "execution_count": 22,
   "metadata": {},
   "outputs": [
    {
     "name": "stdout",
     "output_type": "stream",
     "text": [
      "7\n",
      "8\n"
     ]
    }
   ],
   "source": [
    "expr = \"\"\"\n",
    "3 + 4\n",
    "A = 2\n",
    "A + 2 * 3\n",
    "\"\"\"\n",
    "\n",
    "tree = LabeledExpr.tree(expr, 'prog')\n",
    "visitor = EvalVisitor()\n",
    "visitor.visit(tree)"
   ]
  },
  {
   "cell_type": "markdown",
   "metadata": {},
   "source": [
    "### Numerazione degli assegnamenti (con Listener)"
   ]
  },
  {
   "cell_type": "code",
   "execution_count": 23,
   "metadata": {},
   "outputs": [],
   "source": [
    "class LineNumberingListener(LabeledExpr.Listener):\n",
    "    def __init__(self):\n",
    "        self.assign_num = 0\n",
    "    def enterAssign(self, ctx):\n",
    "        print(self.assign_num, ctx.getText().strip())\n",
    "        self.assign_num += 1"
   ]
  },
  {
   "cell_type": "code",
   "execution_count": 24,
   "metadata": {
    "scrolled": false
   },
   "outputs": [
    {
     "name": "stdout",
     "output_type": "stream",
     "text": [
      "0 A=1\n",
      "1 B=2\n",
      "2 C=4\n"
     ]
    }
   ],
   "source": [
    "expr = \"\"\"\n",
    "A = 1\n",
    "3 + A\n",
    "B = 2\n",
    "B + 2 * 3\n",
    "C = 4\n",
    "C * C\n",
    "\"\"\"\n",
    "\n",
    "tree = LabeledExpr.tree(expr, 'prog')\n",
    "listener = LineNumberingListener()\n",
    "ParseTreeWalker.DEFAULT.walk(listener, tree)"
   ]
  },
  {
   "cell_type": "markdown",
   "metadata": {},
   "source": [
    "### Diagnostici"
   ]
  },
  {
   "cell_type": "code",
   "execution_count": 25,
   "metadata": {},
   "outputs": [],
   "source": [
    "Ambig = ANTLR(r\"\"\"\n",
    "grammar Ambig;\n",
    "\n",
    "stat: expr ';'\n",
    "    | ID '(' ')' ';' \n",
    "    ;\n",
    "expr: ID '(' ')' \n",
    "    | INT\n",
    "    ;\n",
    "\n",
    "INT :   [0-9]+ ;\n",
    "ID  :   [a-zA-Z]+ ;\n",
    "WS  :   [ \\t\\r\\n]+ -> skip ;\n",
    "\"\"\")\n",
    "\n",
    "text = 'f();'"
   ]
  },
  {
   "cell_type": "code",
   "execution_count": 26,
   "metadata": {},
   "outputs": [
    {
     "name": "stderr",
     "output_type": "stream",
     "text": [
      "line 1:3 reportAttemptingFullContext d=0 (stat), input='f();'\n",
      "line 1:3 reportAmbiguity d=0 (stat): ambigAlts={1, 2}, input='f();'\n"
     ]
    },
    {
     "data": {
      "text/plain": [
       "<AmbigParser.AmbigParser.StatContext at 0x10afbe4e0>"
      ]
     },
     "execution_count": 26,
     "metadata": {},
     "output_type": "execute_result"
    }
   ],
   "source": [
    "Ambig.tree(text, 'stat', diag = True)"
   ]
  },
  {
   "cell_type": "code",
   "execution_count": 27,
   "metadata": {},
   "outputs": [
    {
     "name": "stdout",
     "output_type": "stream",
     "text": [
      "enter   stat, LT(1)=f\n",
      "enter   expr, LT(1)=f\n",
      "consume [@0,0:0='f',<5>,1:0] rule expr\n",
      "consume [@1,1:1='(',<2>,1:1] rule expr\n",
      "consume [@2,2:2=')',<3>,1:2] rule expr\n",
      "exit    expr, LT(1)=;\n",
      "consume [@3,3:3=';',<1>,1:3] rule stat\n",
      "exit    stat, LT(1)=<EOF>\n"
     ]
    },
    {
     "data": {
      "text/plain": [
       "<AmbigParser.AmbigParser.StatContext at 0x10afc6668>"
      ]
     },
     "execution_count": 27,
     "metadata": {},
     "output_type": "execute_result"
    }
   ],
   "source": [
    "Ambig.tree(text, 'stat', trace = True)"
   ]
  }
 ],
 "metadata": {
  "kernelspec": {
   "display_name": "Python 3",
   "language": "python",
   "name": "python3"
  },
  "language_info": {
   "codemirror_mode": {
    "name": "ipython",
    "version": 3
   },
   "file_extension": ".py",
   "mimetype": "text/x-python",
   "name": "python",
   "nbconvert_exporter": "python",
   "pygments_lexer": "ipython3",
   "version": "3.7.3"
  }
 },
 "nbformat": 4,
 "nbformat_minor": 2
}
