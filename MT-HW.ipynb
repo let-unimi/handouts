{
 "cells": [
  {
   "cell_type": "markdown",
   "metadata": {},
   "source": [
    "# Homework \"pasquali\"\n",
    "\n",
    "Gli studenti sono invitati a sottoporre tramite GitHub (dopo aver chiesto al docente via Slack, o email, la creazione di un apposito *repository*) la soluzione ad uno, o più, dei seguenti esercizi.\n",
    "\n",
    "Si ricorda che la sottoposizione *non sarà valutata* ai fini del superamento (o della valutazione finale) dell'esame, ma è richiesta con il duplice obiettivo di:\n",
    "\n",
    "* offrire un *feedback* agli studenti sul loro grado corrente di preparazione (tutti gli homework saranno analizzati dal docente e discussi con lo studente, se egli lo riterrà utile),\n",
    "* offrire un *feedback* al docente sullo stato corrente di comprensione degli argomenti del corso da parte degli studenti.\n",
    "\n",
    "Gli homework proposti sono divisi grossolanamente per lezione come segue:"
   ]
  },
  {
   "cell_type": "markdown",
   "metadata": {},
   "source": [
    "## L08 e L09 - Algoritmo CYK\n",
    "\n",
    "* Implementate l'algoritmo descritto nella Sez. 4.2.6 per produrre l'albero di parsing nella\n",
    "  grammatica originale (non CNF).\n",
    "  \n",
    "* Scrivere una funzione che, data la tabella `R` (costruita a partire dalla grammatica in forma CNF)\n",
    "  restituisca tutti gli alberi di parsing possibili.\n",
    "  \n",
    "* Ci sono molte altre tecniche per portare una grammatica in forma CNF e i vari passi di trasformazione \n",
    "  possono essere svolti in ordine diverso (ad esempio, consultate la pagina\n",
    "  [Chomsky normal form](https://en.wikipedia.org/wiki/Chomsky_normal_form) di Wikipedia, o uno dei \n",
    "  testi riportati in bibliografia per avere degli esempi. Provate ad implementare altri passi di \n",
    "  trasformazione ed investigate (attraverso degli esempi scelti opportunamente) l'effetto (sia sulla\n",
    "  dimensione delal grammatica ottenuta che sul parsing) dell'ordine in cui vengono svolte le trasformazioni."
   ]
  },
  {
   "cell_type": "markdown",
   "metadata": {},
   "source": [
    "## L11 - Parsing Top Down: simulare l'automa\n",
    "\n",
    "* Analizzare il comportamento delle tecniche di ricerca in ampiezza e profondità in presenza diε-regole.\n",
    "* Mostrate il comportamento delle tecniche di ricerca in ampiezza e profondità come visite del grafo\n",
    "  delle descrizioni istantanee (i cui archi sono definiti implicitamente dalla funzione `next_instdescrs`)\n",
    "  visualizzando tramite uno [StateTransitionGraph](https://liblet.readthedocs.io/en/latest/api.html#liblet.display.StateTransitionGraph) la porzione di grafo visitata durante il parsing. Scegliete\n",
    "  opportunamente la grammatica e l'input perché il grafo sia di dimensioni accettabili ed etichettate i nodi\n",
    "  in modo che sia chiaro a che descrizione istantanea si riferiscono e gli archi in modo che sia \n",
    "  chiaro se si riferiscono a un passo di *match* o uno di *predict*.  \n",
    "* In alternativa alla precedente proposta, modificate la funzione `show_instdescrs` e aggiungete opportun\n",
    "  istruzioni ai metodi di ricerca per rendere più comprensibile lo svolgimento della computazione e per\n",
    "  facilitare chi legge l'output a seguire i passi di ricerca."
   ]
  },
  {
   "cell_type": "markdown",
   "metadata": {},
   "source": [
    "## L12 - Parsing Top Down: approccio Recursive Descent\n",
    "\n",
    "* La procedura `match` riceve in ingresso il simbolo (terminale, o meno) su cui operare, la ragione \n",
    "  principale di questa scelta è rendere possibile la visualizzazione della catena di chiamate attraverso \n",
    "  il decoratore `show_calls`; questo esercizio propopne di abbandonare tale vincolo. In dettaglio si chiede\n",
    "  di implementare una procedura `parse_X` il cui funzionamento corrisponda a quello di `match('X'…` per \n",
    "  ciascun non terminale `X` e una procedura `match('x'…` che corrisponda al comportamento attuale, ma solo \n",
    "  per i simboli non terminali `x`. Modificate di conseguenza anche il generatore di parser `make_match_source` \n",
    "  per generare, invece di una sola proceruda, l'insieme delle prodcedure sopra descritte. Onde evitare la\n",
    "  complessità di valutare il codice generato (ossia di modificare la funzione `make_match` perché funzioni\n",
    "  in presenza di un sorgente con più definizioni nella medesima stringa) fate in modo che il generatore\n",
    "  di parser generi un file Python contenente una funzione `main` che, dato l'input come argomento, invochi\n",
    "  l'approriata funzione `parse_S` (dove `S` è il simbolo iniziale delle grammatica) su tale input.  \n",
    "* La procedura `match` fa uso di un parametro `rest` corrispondente alla parte restante dell'input da \n",
    "  analizzare; seguendo le indicazioni del libro di testo, modificare la procedura perché utilizzi una variabile\n",
    "  globale invece del parametro in questione.\n",
    "* La procedura `match` della sezione \"Ricostruire l'albero di parsing\" fa uso di un ulteriore valore di\n",
    "  ritorno per tenere traccia delle produzioni della derivazione *leftmost*, sapreste riscriverla perché \n",
    "  utilizzi una variabile globale invece dell'ulteriore valore restituito?\n",
    "* Scrivete una versione del generatore di parser che permetta di calcolare l'albero di parsing (o con u\n",
    "  ulteriore parametro restituito come fatto nella sezione \"Ricostruire l'albero di parsing\" o con una\n",
    "  variabile `nonlocal` secondo l'approccio seguito al punto precedente)."
   ]
  },
  {
   "cell_type": "markdown",
   "metadata": {},
   "source": [
    "## L13 - Parsing Top Down: approccio basato su continuazioni\n",
    "\n",
    "* La procedura `match` riceve in ingresso il simbolo (terminale, o meno) su cui operare, la ragione \n",
    "  principale di questa scelta è rendere possibile la visualizzazione della catena di chiamate attraverso \n",
    "  il decoratore `show_calls`; questo esercizio propopne di abbandonare tale vincolo. In dettaglio si chiede\n",
    "  di implementare una procedura `parse_X` il cui funzionamento corrisponda a quello di `match('X'…` per \n",
    "  ciascun non terminale `X` e una procedura `match('x'…` che corrisponda al comportamento attuale, ma solo \n",
    "  per i simboli non terminali `x`. Modificate di conseguenza anche il generatore di parser `make_cps_match_source` \n",
    "  per generare, invece di una sola proceruda, l'insieme delle prodcedure sopra descritte. Onde evitare la\n",
    "  complessità di valutare il codice generato (ossia di modificare la funzione `make_match` perché funzioni\n",
    "  in presenza di un sorgente con più definizioni nella medesima stringa) fate in modo che il generatore\n",
    "  di parser generi un file Python contenente una funzione `main` che, dato l'input come argomento, invochi\n",
    "  l'approriata funzione `parse_S` (dove `S` è il simbolo iniziale delle grammatica) su tale input.  \n",
    "* La procedura `match` fa uso di un parametro `rest` corrispondente alla parte restante dell'input da \n",
    "  analizzare; seguendo le indicazioni del libro di testo, modificare la procedura perché utilizzi una variabile\n",
    "  globale invece del parametro in questione.\n",
    "* La procedura `match` fa uso di un parametro `deriv` corrispondente alla derivazione parziale costruita\n",
    "  sino a quel momento; seguendo le indicazioni del libro di testo, modificare la procedura perché utilizzi \n",
    "  una variabile globale invece del parametro in questione."
   ]
  },
  {
   "cell_type": "markdown",
   "metadata": {},
   "source": [
    "## L14 - Parsing Bottom Up: simulare l'automa\n",
    "\n",
    "* Mostrate il comportamento delle tecniche di ricerca in ampiezza e profondità come visite del grafo\n",
    "  delle descrizioni istantanee visualizzando tramite uno \n",
    "  [StateTransitionGraph](https://liblet.readthedocs.io/en/latest/api.html#liblet.display.StateTransitionGraph) \n",
    "  la porzione di grafo visitata durante il parsing. Scegliete opportunamente la grammatica e l'input perché \n",
    "  il grafo sia di dimensioni accettabili ed etichettate i nodi in modo che sia chiaro a che descrizione istantanea \n",
    "  si riferiscono e gli archi in modo che sia chiaro se si riferiscono a un passo di *shift* o uno di *reduce*.  "
   ]
  }
 ],
 "metadata": {
  "kernelspec": {
   "display_name": "Python 3",
   "language": "python",
   "name": "python3"
  },
  "language_info": {
   "codemirror_mode": {
    "name": "ipython",
    "version": 3
   },
   "file_extension": ".py",
   "mimetype": "text/x-python",
   "name": "python",
   "nbconvert_exporter": "python",
   "pygments_lexer": "ipython3",
   "version": "3.7.2"
  }
 },
 "nbformat": 4,
 "nbformat_minor": 2
}
