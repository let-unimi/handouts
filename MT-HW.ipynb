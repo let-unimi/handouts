{
 "cells": [
  {
   "cell_type": "markdown",
   "metadata": {},
   "source": [
    "# Homework \"pasquali\"\n",
    "\n",
    "Gli studenti sono invitati a sottoporre tramite GitHub (dopo aver chiesto al docente via Slack, o email, la creazione di un apposito *repository*) la soluzione ad uno, o più, dei seguenti esercizi. Chi avesse particolari problemi nell'uso di GitHub (o Slack) può accordarsi col docente (ad esempio per email) per procedere alla consegna in modo diverso (ad esempio tramite invio di un archivio compresso).\n",
    "\n",
    "Si ricorda che la sottoposizione *non sarà valutata* ai fini del superamento (o della valutazione finale) dell'esame, ma è auspicata con il duplice obiettivo di:\n",
    "\n",
    "* offrire un *feedback* agli studenti sul loro grado corrente di preparazione (tutti gli homework saranno analizzati dal docente e discussi con lo studente, se egli lo riterrà utile),\n",
    "* offrire un *feedback* al docente sullo stato corrente di comprensione degli argomenti del corso da parte degli studenti.\n",
    "\n",
    "Gli homework proposti sono divisi grossolanamente per lezione come segue:"
   ]
  },
  {
   "cell_type": "markdown",
   "metadata": {},
   "source": [
    "## L08 e L09 - Algoritmo CYK\n",
    "\n",
    "1. Implementate l'algoritmo descritto nella Sez. 4.2.6 per produrre l'albero di parsing nella\n",
    "   grammatica originale (non CNF).\n",
    "  \n",
    "2. Scrivere una funzione che, data la tabella `R` (costruita a partire dalla grammatica in forma CNF)\n",
    "   restituisca tutti gli alberi di parsing possibili.\n",
    "  \n",
    "3. Ci sono molte *altre tecniche* per portare una grammatica in CNF e i vari passi di trasformazione \n",
    "   possono essere svolti in *ordine diverso* (ad esempio, consultate la pagina\n",
    "   [Chomsky normal form](https://en.wikipedia.org/wiki/Chomsky_normal_form) di Wikipedia, o uno dei \n",
    "   testi riportati in bibliografia per avere degli esempi. Provate ad implementare altri passi di \n",
    "   trasformazione ed investigate (attraverso degli esempi scelti opportunamente) l'effetto (sia sulla\n",
    "   dimensione delal grammatica ottenuta che sul parsing) dell'ordine in cui vengono svolte le trasformazioni."
   ]
  },
  {
   "cell_type": "markdown",
   "metadata": {},
   "source": [
    "## L11 - Parsing Top Down: simulare l'automa\n",
    "\n",
    "4. Analizzare il comportamento delle tecniche di ricerca in ampiezza e profondità in presenza di ε-regole.\n",
    "\n",
    "5. Mostrate il comportamento delle tecniche di ricerca in ampiezza e profondità come visite del grafo\n",
    "   delle descrizioni istantanee (i cui archi sono definiti implicitamente dalla funzione `next_instdescrs`)\n",
    "   visualizzando tramite uno \n",
    "   [StateTransitionGraph](https://liblet.readthedocs.io/en/latest/api.html#liblet.display.StateTransitionGraph) \n",
    "   la porzione di grafo visitata durante il parsing. Scegliete opportunamente la grammatica e l'input perché \n",
    "   il grafo sia di dimensioni accettabili ed etichettate i nodi in modo che sia chiaro a che descrizione \n",
    "   istantanea si riferiscono e gli archi in modo che sia chiaro se si riferiscono a un passo di *match* o \n",
    "   uno di *predict*.  \n",
    "\n",
    "6. In alternativa alla precedente proposta, modificate la funzione `show_instdescrs` e aggiungete opportune\n",
    "   istruzioni ai metodi di ricerca per rendere più comprensibile lo svolgimento della computazione e per\n",
    "   facilitare chi legge l'output a seguire i passi di ricerca."
   ]
  },
  {
   "cell_type": "markdown",
   "metadata": {},
   "source": [
    "## L12 - Parsing Top Down: approccio Recursive Descent\n",
    "\n",
    "7.  La procedura `match` riceve in ingresso il simbolo (terminale, o meno) su cui operare, la ragione \n",
    "    principale di questa scelta è rendere possibile la visualizzazione della catena di chiamate attraverso \n",
    "    il decoratore `show_calls`; questo esercizio propopne di abbandonare tale vincolo. In dettaglio si chiede\n",
    "    di implementare una procedura `parse_X` il cui funzionamento corrisponda a quello di `match('X'…` per \n",
    "    ciascun non terminale `X` e una (sola) procedura `match('x'…` che corrisponda al comportamento attuale (ristretto\n",
    "    ai soli simboli non terminali). Modificate quindi di conseguenza anche il generatore di parser `make_match_source` \n",
    "    per generare, invece di una sola proceruda, l'insieme delle prodcedure sopra descritte. Onde evitare la\n",
    "    complessità di valutare il codice generato (ossia di modificare la funzione `make_match` perché funzioni\n",
    "    in presenza di un sorgente con più definizioni nella medesima stringa) fate in modo che il generatore\n",
    "    di parser scriva un file Python contenente, oltre alle funzioni suddette, una funzione `main` che, dato \n",
    "    l'input come argomento, invochi l'approriata funzione `parse_S` (dove `S` è il simbolo iniziale delle \n",
    "    grammatica) su tale input.  \n",
    "\n",
    "8.  La procedura `match` fa uso di un parametro `rest` corrispondente alla parte restante dell'input da \n",
    "    analizzare; seguendo le indicazioni del libro di testo, modificare la procedura perché utilizzi una \n",
    "    variabile globale invece del parametro in questione.\n",
    "    \n",
    "9.  La procedura `match` della sezione \"Ricostruire l'albero di parsing\" fa uso di un ulteriore valore di\n",
    "    ritorno per tenere traccia delle produzioni della derivazione *leftmost*, sapreste riscriverla perché \n",
    "    utilizzi una variabile globale invece dell'ulteriore valore restituito?\n",
    "\n",
    "10. Scrivete una versione del generatore di parser che permetta di calcolare l'albero di parsing (o con un\n",
    "    ulteriore parametro restituito come fatto nella sezione \"Ricostruire l'albero di parsing\", o con una\n",
    "    variabile `nonlocal` secondo l'approccio seguito al punto precedente)."
   ]
  },
  {
   "cell_type": "markdown",
   "metadata": {},
   "source": [
    "## L13 - Parsing Top Down: approccio basato su continuazioni\n",
    "\n",
    "11. Svolgere l'homework 10 ma in riferimento all'approccio basato su continuazioni; in particolare \n",
    "    modificate di conseguenza anche il generatore di parser `make_cps_match_source` per generare, \n",
    "    invece di una sola proceruda, l'insieme delle prodcedure sopra descritte. Anche in questo caso,\n",
    "    fate in modo che il generatore di parser scriva un file Python contenente una funzione `main` che, \n",
    "    dato l'input come argomento, invochi l'approriata funzione `parse_S` (dove `S` è il simbolo iniziale \n",
    "    delle grammatica) su tale input.  \n",
    "\n",
    "12. La procedura `match` fa uso di un parametro `rest` corrispondente alla parte restante dell'input da \n",
    "    analizzare; seguendo le indicazioni del libro di testo, modificare la procedura perché utilizzi una \n",
    "    variabile globale invece del parametro in questione.\n",
    "\n",
    "13. La procedura `match` fa uso di un parametro `deriv` corrispondente alla derivazione parziale costruita\n",
    "    sino a quel momento; seguendo le indicazioni del libro di testo, modificare la procedura perché utilizzi \n",
    "    una variabile globale invece del parametro in questione."
   ]
  },
  {
   "cell_type": "markdown",
   "metadata": {},
   "source": [
    "## L14 - Parsing Bottom Up: simulare l'automa\n",
    "\n",
    "14. Svolgete l'esercizio 5 per il caso bottom up, Scegliete opportunamente la grammatica e l'input perché \n",
    "    il grafo sia di dimensioni accettabili ed etichettate i nodi in modo che sia chiaro a che descrizione istantanea \n",
    "    si riferiscono e gli archi in modo che sia chiaro se si riferiscono a un passo di *shift* o uno di *reduce*.  \n",
    "\n",
    "15. Modificate gli algoritmi di questa lezione che gestiscono esplicitamente l'albero di parsing evitando di mettere in \n",
    "    pila gli alberi, ma conservando solo simboli terminali e non terminali sulla pila."
   ]
  }
 ],
 "metadata": {
  "kernelspec": {
   "display_name": "Python 3",
   "language": "python",
   "name": "python3"
  },
  "language_info": {
   "codemirror_mode": {
    "name": "ipython",
    "version": 3
   },
   "file_extension": ".py",
   "mimetype": "text/x-python",
   "name": "python",
   "nbconvert_exporter": "python",
   "pygments_lexer": "ipython3",
   "version": "3.7.2"
  }
 },
 "nbformat": 4,
 "nbformat_minor": 2
}
