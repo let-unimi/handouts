{
  "cells": [
    {
      "cell_type": "markdown",
      "metadata": {},
      "source": [
        "# Parsing bottom-up (caso deterministico)"
      ]
    },
    {
      "cell_type": "code",
      "execution_count": null,
      "metadata": {},
      "outputs": [
        {
          "data": {
            "text/plain": [
              "'1.2.3-beta'"
            ]
          },
          "execution_count": 1,
          "metadata": {},
          "output_type": "execute_result"
        }
      ],
      "source": [
        "from liblet import (\n",
        "    Transition, \n",
        "    Automaton, \n",
        "    Grammar, \n",
        "    Production, \n",
        "    Item, \n",
        "    Derivation, \n",
        "    ProductionGraph, \n",
        "    Stack, \n",
        "    Queue, \n",
        "    StateTransitionGraph, \n",
        "    Table, \n",
        "    closure, \n",
        "    first, \n",
        "    prods2table,\n",
        "    iter2table,\n",
        "    warn,\n",
        "    __version__)\n",
        "\n",
        "# è necessario aggiornare perché sono state fatte modifiche \n",
        "# cruciali per la l'handout corrente\n",
        "\n",
        "__version__ "
      ]
    },
    {
      "cell_type": "markdown",
      "metadata": {},
      "source": [
        "## Item\n",
        "\n",
        "Una occhiata a come sono implementati gli *item* nella libreria. Una grammatica d'esempio"
      ]
    },
    {
      "cell_type": "code",
      "execution_count": null,
      "metadata": {},
      "outputs": [],
      "source": [
        "# fig. 3.17, pag. 159 MCD (sostituendo + con -)\n",
        "\n",
        "G = Grammar.from_string(\"\"\"\n",
        "E -> E - T | T\n",
        "T -> n | ( E )\n",
        "\"\"\")"
      ]
    },
    {
      "cell_type": "code",
      "execution_count": null,
      "metadata": {},
      "outputs": [
        {
          "data": {
            "text/plain": [
              "E -> •E - T"
            ]
          },
          "execution_count": 3,
          "metadata": {},
          "output_type": "execute_result"
        }
      ],
      "source": [
        "# Si costruisce dato rhs e lhs (come le produzioni)\n",
        "\n",
        "A, α = G.P[0]\n",
        "item = Item(A, α)\n",
        "item"
      ]
    },
    {
      "cell_type": "code",
      "execution_count": null,
      "metadata": {},
      "outputs": [
        {
          "name": "stdout",
          "output_type": "stream",
          "text": [
            "item = E -> E•- T, symbol_after_dot = -\n",
            "item = E -> E -•T, symbol_after_dot = T\n",
            "item = E -> E - T•, symbol_after_dot = None\n"
          ]
        }
      ],
      "source": [
        "# ha un metodo advance che sposta il punto e un metodo\n",
        "# symbol_after_dot che riporta il simbolo che segue il \n",
        "# punto (o None se il punto è oltre la fine del rhs)\n",
        "\n",
        "for X in α:\n",
        "    item = item.advance(X)\n",
        "    print(f'item = {item}, symbol_after_dot = {item.symbol_after_dot()}')"
      ]
    },
    {
      "cell_type": "markdown",
      "metadata": {},
      "source": [
        "## La ε-chiusura di un insieme di item\n",
        "\n",
        "Dato un insieme di item, la sua ε-chiusura è ottenuta prendendo la chiusura dell'operazione che aggiunge all'insieme, per ogni item $A\\to \\alpha • B \\beta$, tutti gli item $B\\to •\\gamma$ dove $B\\to \\gamma$ è una produzione di $G$."
      ]
    },
    {
      "cell_type": "code",
      "execution_count": null,
      "metadata": {},
      "outputs": [],
      "source": [
        "@closure\n",
        "def εclosure(items, G):\n",
        "    added = set()\n",
        "    for item in items:\n",
        "        X = item.symbol_after_dot()\n",
        "        if X is None: continue\n",
        "        added |= {Item(X, β) for β in G.alternatives(X)}\n",
        "    return frozenset(items | added)"
      ]
    },
    {
      "cell_type": "code",
      "execution_count": null,
      "metadata": {},
      "outputs": [
        {
          "data": {
            "text/plain": [
              "frozenset({E -> •E - T, E -> •T, T -> •( E ), T -> •n})"
            ]
          },
          "execution_count": 6,
          "metadata": {},
          "output_type": "execute_result"
        }
      ],
      "source": [
        "# vediamo come si comporta sul set di item che contiene solo l'item\n",
        "# ottenuto dalla prima produzione\n",
        "\n",
        "εclosure({Item(*G.P[0])}, G)"
      ]
    },
    {
      "cell_type": "markdown",
      "metadata": {},
      "source": [
        "## Costruzione dell'automa a stati finiti\n",
        "\n",
        "Definiamo l'automa che riconosce il linguaggio delle parti aperta delle derivazioni di una assegnata grammatica $G$. Tale automa ha per alfabeto $N\\cup T$ e per stati *insiemi* di item. \n",
        "\n",
        "Il suo stato iniziale $q_0$ è dato dalla ε-chiusura dell'insieme di item derivati da tutte le produzioni che coinvolgono il simbolo iniziale $S$"
      ]
    },
    {
      "cell_type": "code",
      "execution_count": null,
      "metadata": {},
      "outputs": [],
      "source": [
        "def q0(G):\n",
        "    return εclosure({Item(G.S, β) for β in G.alternatives(G.S)}, G)"
      ]
    },
    {
      "cell_type": "code",
      "execution_count": null,
      "metadata": {},
      "outputs": [
        {
          "data": {
            "text/plain": [
              "frozenset({E -> •E - T, E -> •T, T -> •( E ), T -> •n})"
            ]
          },
          "execution_count": 8,
          "metadata": {},
          "output_type": "execute_result"
        }
      ],
      "source": [
        "# nel caso della grammatica d'esempio si ha\n",
        "\n",
        "q0(G)"
      ]
    },
    {
      "cell_type": "markdown",
      "metadata": {},
      "source": [
        "La funzione di transizione $\\delta$ associa ad ogni insieme di item e simbolo dell'alfabeto l'ε-chiusura dell'insieme ottenuto avanzando col simbolo specificato il punto in ogni item."
      ]
    },
    {
      "cell_type": "code",
      "execution_count": null,
      "metadata": {},
      "outputs": [],
      "source": [
        "def δ(items, X, G):\n",
        "    return εclosure({item.advance(X) for item in items if item.advance(X)}, G)"
      ]
    },
    {
      "cell_type": "code",
      "execution_count": null,
      "metadata": {},
      "outputs": [
        {
          "data": {
            "text/plain": [
              "frozenset({E -> •E - T, E -> •T, T -> •( E ), T -> (•E ), T -> •n})"
            ]
          },
          "execution_count": 10,
          "metadata": {},
          "output_type": "execute_result"
        }
      ],
      "source": [
        "# vediamo come si comporta sullo stato iniziale\n",
        "# dato il simbolo '('\n",
        "\n",
        "δ(q0(G), '(', G)"
      ]
    },
    {
      "cell_type": "markdown",
      "metadata": {},
      "source": [
        "Prima di procedere, trasformiamo la grammatica in modo da rendere il linguaggio libero da prefissi"
      ]
    },
    {
      "cell_type": "code",
      "execution_count": null,
      "metadata": {},
      "outputs": [],
      "source": [
        "def add_eoi(G):\n",
        "    return Grammar(G.N | {'S♯'}, G.T | {'♯'}, G.P + (Production('S♯', (G.S, '♯')), ), 'S♯')"
      ]
    },
    {
      "cell_type": "code",
      "execution_count": null,
      "metadata": {},
      "outputs": [
        {
          "data": {
            "text/html": [
              "<style>td, th {border: 1pt solid lightgray !important ;}</style><table><tr><th><pre>S♯</pre><td style=\"text-align:left\"><pre>E ♯</pre><tr><th><pre>E</pre><td style=\"text-align:left\"><pre>E - T | T</pre><tr><th><pre>T</pre><td style=\"text-align:left\"><pre>( E ) | n</pre></table></table>"
            ],
            "text/plain": [
              "<IPython.core.display.HTML object>"
            ]
          },
          "execution_count": 12,
          "metadata": {},
          "output_type": "execute_result"
        }
      ],
      "source": [
        "# vediamo l'effetto che ha sulla grammatica d'esempio\n",
        "\n",
        "Gpf = add_eoi(G)\n",
        "prods2table(Gpf)"
      ]
    },
    {
      "cell_type": "markdown",
      "metadata": {},
      "source": [
        "L'automa può essere costruito tramite una visita (in ampiezza) degli stati raggiungibili tramite $\\delta$; al termine della visita saranno noti tutti gli stati e tutte le *transizioni*. Vengono definiti *finali* gli stati corrispondenti ad insiemi di un solo item in cui il punto è oltre l'ultimo simbolo."
      ]
    },
    {
      "cell_type": "code",
      "execution_count": null,
      "metadata": {},
      "outputs": [],
      "source": [
        "def compute_lr0_automaton(G):\n",
        "    \n",
        "    states = set([q0(G)])\n",
        "    transitions = []\n",
        "    q = Queue([q0(G)])\n",
        "    while q:\n",
        "        items = q.dequeue()\n",
        "        for X in G.T | G.N:\n",
        "            next_items = δ(items, X, G)\n",
        "            if not next_items: continue\n",
        "            transitions.append(Transition(items, X, next_items))\n",
        "            if next_items not in states: \n",
        "                states.add(next_items)\n",
        "                q.enqueue(next_items)\n",
        "\n",
        "    return Automaton(\n",
        "        states,\n",
        "        G.T | G.N,\n",
        "        transitions,\n",
        "        q0(G),\n",
        "        set(state for state in states if len(state) == 1 and first(state).symbol_after_dot() is None)\n",
        "    )"
      ]
    },
    {
      "cell_type": "code",
      "execution_count": null,
      "metadata": {},
      "outputs": [
        {
          "data": {
            "image/svg+xml": [
              "<?xml version=\"1.0\" encoding=\"UTF-8\" standalone=\"no\"?>\n",
              "<!DOCTYPE svg PUBLIC \"-//W3C//DTD SVG 1.1//EN\"\n",
              " \"http://www.w3.org/Graphics/SVG/1.1/DTD/svg11.dtd\">\n",
              "<!-- Generated by graphviz version 2.43.0 (0)\n",
              " -->\n",
              "<!-- Title: %3 Pages: 1 -->\n",
              "<svg width=\"775pt\" height=\"338pt\"\n",
              " viewBox=\"0.00 0.00 775.48 337.64\" xmlns=\"http://www.w3.org/2000/svg\" xmlns:xlink=\"http://www.w3.org/1999/xlink\">\n",
              "<g id=\"graph0\" class=\"graph\" transform=\"scale(1 1) rotate(0) translate(4 333.64)\">\n",
              "<title>%3</title>\n",
              "<polygon fill=\"white\" stroke=\"transparent\" points=\"-4,4 -4,-333.64 771.48,-333.64 771.48,4 -4,4\"/>\n",
              "<!-- 4404582592 -->\n",
              "<g id=\"node1\" class=\"node\">\n",
              "<title>4404582592</title>\n",
              "</g>\n",
              "<!-- 2759626004295468535 -->\n",
              "<g id=\"node2\" class=\"node\">\n",
              "<title>2759626004295468535</title>\n",
              "<ellipse fill=\"none\" stroke=\"black\" cx=\"145.54\" cy=\"-237.65\" rx=\"55.58\" ry=\"66.59\"/>\n",
              "<text text-anchor=\"middle\" x=\"145.54\" y=\"-269.51\" font-family=\"Times,serif\" font-size=\"14.00\">E &#45;&gt; •E &#45; T</text>\n",
              "<text text-anchor=\"middle\" x=\"145.54\" y=\"-252.47\" font-family=\"Times,serif\" font-size=\"14.00\">E &#45;&gt; •T</text>\n",
              "<text text-anchor=\"middle\" x=\"145.54\" y=\"-238.47\" font-family=\"Times,serif\" font-size=\"14.00\">S♯ &#45;&gt; •E ♯</text>\n",
              "<text text-anchor=\"middle\" x=\"145.54\" y=\"-214.43\" font-family=\"Times,serif\" font-size=\"14.00\">T &#45;&gt; •( E )</text>\n",
              "<text text-anchor=\"middle\" x=\"145.54\" y=\"-197.4\" font-family=\"Times,serif\" font-size=\"14.00\">T &#45;&gt; •n</text>\n",
              "</g>\n",
              "<!-- 4404582592&#45;&gt;2759626004295468535 -->\n",
              "<g id=\"edge1\" class=\"edge\">\n",
              "<title>4404582592&#45;&gt;2759626004295468535</title>\n",
              "<path fill=\"none\" stroke=\"black\" d=\"M54.15,-237.65C61.86,-237.65 70.65,-237.65 79.66,-237.65\"/>\n",
              "<polygon fill=\"black\" stroke=\"black\" points=\"79.87,-241.15 89.87,-237.65 79.87,-234.15 79.87,-241.15\"/>\n",
              "</g>\n",
              "<!-- 3447740487640963307 -->\n",
              "<g id=\"node3\" class=\"node\">\n",
              "<title>3447740487640963307</title>\n",
              "<ellipse fill=\"none\" stroke=\"black\" cx=\"717.36\" cy=\"-235.65\" rx=\"30.32\" ry=\"18\"/>\n",
              "<ellipse fill=\"none\" stroke=\"black\" cx=\"717.36\" cy=\"-235.65\" rx=\"34.34\" ry=\"22\"/>\n",
              "<text text-anchor=\"middle\" x=\"717.36\" y=\"-231.45\" font-family=\"Times,serif\" font-size=\"14.00\">T &#45;&gt; n•</text>\n",
              "</g>\n",
              "<!-- 2759626004295468535&#45;&gt;3447740487640963307 -->\n",
              "<g id=\"edge2\" class=\"edge\">\n",
              "<title>2759626004295468535&#45;&gt;3447740487640963307</title>\n",
              "<path fill=\"none\" stroke=\"black\" d=\"M193.67,-270.92C207.17,-279.14 222.25,-287.15 237.08,-292.65 347.42,-333.58 384.99,-337.69 500.77,-316.65 566.83,-304.65 638.99,-273.54 680.82,-253.56\"/>\n",
              "<polygon fill=\"black\" stroke=\"black\" points=\"682.55,-256.61 690.02,-249.1 679.5,-250.31 682.55,-256.61\"/>\n",
              "<text text-anchor=\"middle\" x=\"497.27\" y=\"-305.45\" font-family=\"Times,serif\" font-size=\"14.00\">n</text>\n",
              "</g>\n",
              "<!-- 3110833419104253510 -->\n",
              "<g id=\"node4\" class=\"node\">\n",
              "<title>3110833419104253510</title>\n",
              "<ellipse fill=\"none\" stroke=\"black\" cx=\"291.39\" cy=\"-183.65\" rx=\"46.73\" ry=\"61.69\"/>\n",
              "<text text-anchor=\"middle\" x=\"291.39\" y=\"-212.01\" font-family=\"Times,serif\" font-size=\"14.00\">E &#45;&gt; •E &#45; T</text>\n",
              "<text text-anchor=\"middle\" x=\"291.39\" y=\"-194.97\" font-family=\"Times,serif\" font-size=\"14.00\">E &#45;&gt; •T</text>\n",
              "<text text-anchor=\"middle\" x=\"291.39\" y=\"-180.97\" font-family=\"Times,serif\" font-size=\"14.00\">T &#45;&gt; (•E )</text>\n",
              "<text text-anchor=\"middle\" x=\"291.39\" y=\"-163.93\" font-family=\"Times,serif\" font-size=\"14.00\">T &#45;&gt; •( E )</text>\n",
              "<text text-anchor=\"middle\" x=\"291.39\" y=\"-146.9\" font-family=\"Times,serif\" font-size=\"14.00\">T &#45;&gt; •n</text>\n",
              "</g>\n",
              "<!-- 2759626004295468535&#45;&gt;3110833419104253510 -->\n",
              "<g id=\"edge3\" class=\"edge\">\n",
              "<title>2759626004295468535&#45;&gt;3110833419104253510</title>\n",
              "<path fill=\"none\" stroke=\"black\" d=\"M198.88,-218C211.05,-213.44 224.03,-208.56 236.27,-203.97\"/>\n",
              "<polygon fill=\"black\" stroke=\"black\" points=\"237.77,-207.14 245.91,-200.35 235.31,-200.59 237.77,-207.14\"/>\n",
              "<text text-anchor=\"middle\" x=\"220.23\" y=\"-197.91\" font-family=\"Times,serif\" font-size=\"14.00\">(</text>\n",
              "</g>\n",
              "<!-- 1925314472362539957 -->\n",
              "<g id=\"node5\" class=\"node\">\n",
              "<title>1925314472362539957</title>\n",
              "<ellipse fill=\"none\" stroke=\"black\" cx=\"441.23\" cy=\"-285.65\" rx=\"31.29\" ry=\"18\"/>\n",
              "<ellipse fill=\"none\" stroke=\"black\" cx=\"441.23\" cy=\"-285.65\" rx=\"35.3\" ry=\"22\"/>\n",
              "<text text-anchor=\"middle\" x=\"441.23\" y=\"-281.45\" font-family=\"Times,serif\" font-size=\"14.00\">E &#45;&gt; T•</text>\n",
              "</g>\n",
              "<!-- 2759626004295468535&#45;&gt;1925314472362539957 -->\n",
              "<g id=\"edge4\" class=\"edge\">\n",
              "<title>2759626004295468535&#45;&gt;1925314472362539957</title>\n",
              "<path fill=\"none\" stroke=\"black\" d=\"M197.89,-260.61C210.48,-265.37 224.08,-269.79 237.08,-272.65 290.86,-284.47 354.42,-286.72 395.94,-286.67\"/>\n",
              "<polygon fill=\"black\" stroke=\"black\" points=\"396.02,-290.17 406,-286.61 395.98,-283.17 396.02,-290.17\"/>\n",
              "<text text-anchor=\"middle\" x=\"296.75\" y=\"-271.2\" font-family=\"Times,serif\" font-size=\"14.00\">T</text>\n",
              "</g>\n",
              "<!-- &#45;8567400435278635883 -->\n",
              "<g id=\"node6\" class=\"node\">\n",
              "<title>&#45;8567400435278635883</title>\n",
              "<ellipse fill=\"none\" stroke=\"black\" cx=\"291.39\" cy=\"-70.65\" rx=\"54.11\" ry=\"33.68\"/>\n",
              "<text text-anchor=\"middle\" x=\"291.39\" y=\"-79.38\" font-family=\"Times,serif\" font-size=\"14.00\">E &#45;&gt; E•&#45; T</text>\n",
              "<text text-anchor=\"middle\" x=\"291.39\" y=\"-62.34\" font-family=\"Times,serif\" font-size=\"14.00\">S♯ &#45;&gt; E•♯</text>\n",
              "</g>\n",
              "<!-- 2759626004295468535&#45;&gt;&#45;8567400435278635883 -->\n",
              "<g id=\"edge5\" class=\"edge\">\n",
              "<title>2759626004295468535&#45;&gt;&#45;8567400435278635883</title>\n",
              "<path fill=\"none\" stroke=\"black\" d=\"M179.89,-184.97C195.83,-161.64 216.02,-134.59 237.08,-112.65 240.38,-109.22 243.96,-105.83 247.65,-102.55\"/>\n",
              "<polygon fill=\"black\" stroke=\"black\" points=\"250.01,-105.14 255.34,-95.99 245.46,-99.81 250.01,-105.14\"/>\n",
              "<text text-anchor=\"middle\" x=\"210.36\" y=\"-126.96\" font-family=\"Times,serif\" font-size=\"14.00\">E</text>\n",
              "</g>\n",
              "<!-- 3110833419104253510&#45;&gt;3447740487640963307 -->\n",
              "<g id=\"edge6\" class=\"edge\">\n",
              "<title>3110833419104253510&#45;&gt;3447740487640963307</title>\n",
              "<path fill=\"none\" stroke=\"black\" d=\"M336.14,-202.77C350.4,-208.19 366.48,-213.48 381.69,-216.65 484.5,-238.07 608.66,-238.73 672.99,-237.26\"/>\n",
              "<polygon fill=\"black\" stroke=\"black\" points=\"673.25,-240.75 683.16,-237 673.07,-233.76 673.25,-240.75\"/>\n",
              "<text text-anchor=\"middle\" x=\"505.49\" y=\"-222.3\" font-family=\"Times,serif\" font-size=\"14.00\">n</text>\n",
              "</g>\n",
              "<!-- 3110833419104253510&#45;&gt;3110833419104253510 -->\n",
              "<g id=\"edge7\" class=\"edge\">\n",
              "<title>3110833419104253510&#45;&gt;3110833419104253510</title>\n",
              "<path fill=\"none\" stroke=\"black\" d=\"M264.39,-234.17C264.67,-250.39 273.67,-263.25 291.39,-263.25 305.23,-263.25 313.75,-255.4 316.95,-244.23\"/>\n",
              "<polygon fill=\"black\" stroke=\"black\" points=\"320.43,-244.57 318.38,-234.17 313.5,-243.58 320.43,-244.57\"/>\n",
              "<text text-anchor=\"middle\" x=\"262.11\" y=\"-238.48\" font-family=\"Times,serif\" font-size=\"14.00\">(</text>\n",
              "</g>\n",
              "<!-- 3110833419104253510&#45;&gt;1925314472362539957 -->\n",
              "<g id=\"edge8\" class=\"edge\">\n",
              "<title>3110833419104253510&#45;&gt;1925314472362539957</title>\n",
              "<path fill=\"none\" stroke=\"black\" d=\"M332.32,-214.29C347.56,-225.69 365.23,-238.54 381.69,-249.65 389.6,-255 398.29,-260.52 406.5,-265.58\"/>\n",
              "<polygon fill=\"black\" stroke=\"black\" points=\"404.79,-268.64 415.15,-270.87 408.44,-262.67 404.79,-268.64\"/>\n",
              "<text text-anchor=\"middle\" x=\"368.84\" y=\"-232.58\" font-family=\"Times,serif\" font-size=\"14.00\">T</text>\n",
              "</g>\n",
              "<!-- 6475044211548526143 -->\n",
              "<g id=\"node7\" class=\"node\">\n",
              "<title>6475044211548526143</title>\n",
              "<ellipse fill=\"none\" stroke=\"black\" cx=\"441.23\" cy=\"-177.65\" rx=\"45.75\" ry=\"30\"/>\n",
              "<text text-anchor=\"middle\" x=\"441.23\" y=\"-183.49\" font-family=\"Times,serif\" font-size=\"14.00\">E &#45;&gt; E•&#45; T</text>\n",
              "<text text-anchor=\"middle\" x=\"441.23\" y=\"-166.45\" font-family=\"Times,serif\" font-size=\"14.00\">T &#45;&gt; ( E•)</text>\n",
              "</g>\n",
              "<!-- 3110833419104253510&#45;&gt;6475044211548526143 -->\n",
              "<g id=\"edge9\" class=\"edge\">\n",
              "<title>3110833419104253510&#45;&gt;6475044211548526143</title>\n",
              "<path fill=\"none\" stroke=\"black\" d=\"M338.35,-181.79C353.3,-181.18 370.04,-180.5 385.56,-179.87\"/>\n",
              "<polygon fill=\"black\" stroke=\"black\" points=\"385.71,-183.37 395.56,-179.47 385.42,-176.37 385.71,-183.37\"/>\n",
              "<text text-anchor=\"middle\" x=\"362.72\" y=\"-169.42\" font-family=\"Times,serif\" font-size=\"14.00\">E</text>\n",
              "</g>\n",
              "<!-- 486494674844489734 -->\n",
              "<g id=\"node8\" class=\"node\">\n",
              "<title>486494674844489734</title>\n",
              "<ellipse fill=\"none\" stroke=\"black\" cx=\"584.01\" cy=\"-105.65\" rx=\"45.75\" ry=\"39.8\"/>\n",
              "<text text-anchor=\"middle\" x=\"584.01\" y=\"-118.49\" font-family=\"Times,serif\" font-size=\"14.00\">E &#45;&gt; E &#45;•T</text>\n",
              "<text text-anchor=\"middle\" x=\"584.01\" y=\"-101.45\" font-family=\"Times,serif\" font-size=\"14.00\">T &#45;&gt; •( E )</text>\n",
              "<text text-anchor=\"middle\" x=\"584.01\" y=\"-84.42\" font-family=\"Times,serif\" font-size=\"14.00\">T &#45;&gt; •n</text>\n",
              "</g>\n",
              "<!-- &#45;8567400435278635883&#45;&gt;486494674844489734 -->\n",
              "<g id=\"edge10\" class=\"edge\">\n",
              "<title>&#45;8567400435278635883&#45;&gt;486494674844489734</title>\n",
              "<path fill=\"none\" stroke=\"black\" d=\"M345.02,-76.99C396.85,-83.23 475.68,-92.73 528.24,-99.06\"/>\n",
              "<polygon fill=\"black\" stroke=\"black\" points=\"528.04,-102.56 538.39,-100.28 528.88,-95.61 528.04,-102.56\"/>\n",
              "<text text-anchor=\"middle\" x=\"439.4\" y=\"-77.44\" font-family=\"Times,serif\" font-size=\"14.00\">&#45;</text>\n",
              "</g>\n",
              "<!-- 7394182524987512719 -->\n",
              "<g id=\"node9\" class=\"node\">\n",
              "<title>7394182524987512719</title>\n",
              "<ellipse fill=\"none\" stroke=\"black\" cx=\"441.23\" cy=\"-26.65\" rx=\"55.58\" ry=\"22.78\"/>\n",
              "<ellipse fill=\"none\" stroke=\"black\" cx=\"441.23\" cy=\"-26.65\" rx=\"59.58\" ry=\"26.81\"/>\n",
              "<text text-anchor=\"middle\" x=\"441.23\" y=\"-27.47\" font-family=\"Times,serif\" font-size=\"14.00\">S♯ &#45;&gt; E ♯•</text>\n",
              "</g>\n",
              "<!-- &#45;8567400435278635883&#45;&gt;7394182524987512719 -->\n",
              "<g id=\"edge11\" class=\"edge\">\n",
              "<title>&#45;8567400435278635883&#45;&gt;7394182524987512719</title>\n",
              "<path fill=\"none\" stroke=\"black\" d=\"M340.8,-56.25C353.81,-52.37 368.02,-48.14 381.52,-44.12\"/>\n",
              "<polygon fill=\"black\" stroke=\"black\" points=\"382.62,-47.45 391.21,-41.24 380.62,-40.74 382.62,-47.45\"/>\n",
              "<text text-anchor=\"middle\" x=\"358.81\" y=\"-37.6\" font-family=\"Times,serif\" font-size=\"14.00\">♯</text>\n",
              "</g>\n",
              "<!-- 6475044211548526143&#45;&gt;486494674844489734 -->\n",
              "<g id=\"edge13\" class=\"edge\">\n",
              "<title>6475044211548526143&#45;&gt;486494674844489734</title>\n",
              "<path fill=\"none\" stroke=\"black\" d=\"M477.75,-159.48C495.11,-150.61 516.26,-139.79 535.03,-130.19\"/>\n",
              "<polygon fill=\"black\" stroke=\"black\" points=\"536.72,-133.26 544.03,-125.59 533.53,-127.03 536.72,-133.26\"/>\n",
              "<text text-anchor=\"middle\" x=\"508.6\" y=\"-131.32\" font-family=\"Times,serif\" font-size=\"14.00\">&#45;</text>\n",
              "</g>\n",
              "<!-- 1438644780862508688 -->\n",
              "<g id=\"node10\" class=\"node\">\n",
              "<title>1438644780862508688</title>\n",
              "<ellipse fill=\"none\" stroke=\"black\" cx=\"584.01\" cy=\"-185.65\" rx=\"43.46\" ry=\"18\"/>\n",
              "<ellipse fill=\"none\" stroke=\"black\" cx=\"584.01\" cy=\"-185.65\" rx=\"47.48\" ry=\"22\"/>\n",
              "<text text-anchor=\"middle\" x=\"584.01\" y=\"-182.97\" font-family=\"Times,serif\" font-size=\"14.00\">T &#45;&gt; ( E )•</text>\n",
              "</g>\n",
              "<!-- 6475044211548526143&#45;&gt;1438644780862508688 -->\n",
              "<g id=\"edge12\" class=\"edge\">\n",
              "<title>6475044211548526143&#45;&gt;1438644780862508688</title>\n",
              "<path fill=\"none\" stroke=\"black\" d=\"M486.77,-180.18C499.48,-180.91 513.5,-181.7 526.81,-182.46\"/>\n",
              "<polygon fill=\"black\" stroke=\"black\" points=\"526.63,-185.95 536.81,-183.03 527.03,-178.97 526.63,-185.95\"/>\n",
              "<text text-anchor=\"middle\" x=\"509.63\" y=\"-170.41\" font-family=\"Times,serif\" font-size=\"14.00\">)</text>\n",
              "</g>\n",
              "<!-- 486494674844489734&#45;&gt;3447740487640963307 -->\n",
              "<g id=\"edge14\" class=\"edge\">\n",
              "<title>486494674844489734&#45;&gt;3447740487640963307</title>\n",
              "<path fill=\"none\" stroke=\"black\" d=\"M614.81,-135.15C637.7,-157.8 668.97,-188.75 690.74,-210.29\"/>\n",
              "<polygon fill=\"black\" stroke=\"black\" points=\"688.44,-212.95 698.01,-217.49 693.37,-207.97 688.44,-212.95\"/>\n",
              "<text text-anchor=\"middle\" x=\"652.83\" y=\"-165.04\" font-family=\"Times,serif\" font-size=\"14.00\">n</text>\n",
              "</g>\n",
              "<!-- 486494674844489734&#45;&gt;3110833419104253510 -->\n",
              "<g id=\"edge15\" class=\"edge\">\n",
              "<title>486494674844489734&#45;&gt;3110833419104253510</title>\n",
              "<path fill=\"none\" stroke=\"black\" d=\"M538.5,-109.04C497.09,-113.1 434.06,-121.61 381.69,-138.65 368.93,-142.81 355.73,-148.55 343.53,-154.55\"/>\n",
              "<polygon fill=\"black\" stroke=\"black\" points=\"341.75,-151.53 334.41,-159.17 344.91,-157.77 341.75,-151.53\"/>\n",
              "<text text-anchor=\"middle\" x=\"432.23\" y=\"-113.5\" font-family=\"Times,serif\" font-size=\"14.00\">(</text>\n",
              "</g>\n",
              "<!-- 1805325707315432435 -->\n",
              "<g id=\"node11\" class=\"node\">\n",
              "<title>1805325707315432435</title>\n",
              "<ellipse fill=\"none\" stroke=\"black\" cx=\"717.36\" cy=\"-105.65\" rx=\"46.22\" ry=\"18\"/>\n",
              "<ellipse fill=\"none\" stroke=\"black\" cx=\"717.36\" cy=\"-105.65\" rx=\"50.23\" ry=\"22\"/>\n",
              "<text text-anchor=\"middle\" x=\"717.36\" y=\"-102.97\" font-family=\"Times,serif\" font-size=\"14.00\">E &#45;&gt; E &#45; T•</text>\n",
              "</g>\n",
              "<!-- 486494674844489734&#45;&gt;1805325707315432435 -->\n",
              "<g id=\"edge16\" class=\"edge\">\n",
              "<title>486494674844489734&#45;&gt;1805325707315432435</title>\n",
              "<path fill=\"none\" stroke=\"black\" d=\"M629.84,-105.65C638.59,-105.65 647.89,-105.65 657.02,-105.65\"/>\n",
              "<polygon fill=\"black\" stroke=\"black\" points=\"657.23,-109.15 667.23,-105.65 657.23,-102.15 657.23,-109.15\"/>\n",
              "<text text-anchor=\"middle\" x=\"644.16\" y=\"-94.45\" font-family=\"Times,serif\" font-size=\"14.00\">T</text>\n",
              "</g>\n",
              "</g>\n",
              "</svg>\n"
            ],
            "text/plain": [
              "<liblet.display.StateTransitionGraph at 0x106885850>"
            ]
          },
          "execution_count": 14,
          "metadata": {},
          "output_type": "execute_result"
        }
      ],
      "source": [
        "# visualizziamo l'automa ottenuto dalla grammatica d'esempio\n",
        "\n",
        "lr0a = compute_lr0_automaton(Gpf)\n",
        "StateTransitionGraph.from_automaton(lr0a, large_labels = True)"
      ]
    },
    {
      "cell_type": "markdown",
      "metadata": {},
      "source": [
        "## Parsing con un automa a pila \n",
        "\n",
        "Il parser segue l'algoritmo illustrato nella sezione 3.5.2 di MCD."
      ]
    },
    {
      "cell_type": "code",
      "execution_count": null,
      "metadata": {},
      "outputs": [],
      "source": [
        "def lr0parse(lr0a, text):\n",
        "\n",
        "    rest = text + ['♯', ]\n",
        "    s = Stack([lr0a.q0])\n",
        "    steps = []\n",
        "    \n",
        "    while True:\n",
        "        top = s.peek()\n",
        "        if top in lr0a.F: # REDUCE\n",
        "            N, α, _ = first(top)\n",
        "            steps.append(Production(N, α))\n",
        "            if N == 'S♯' and not rest: return steps\n",
        "            for _ in α: s.pop()\n",
        "            nxt = first(lr0a.δ(s.peek(), N))\n",
        "        else: # SHIFT\n",
        "            if not rest: \n",
        "                warn('Unexpected end of input')\n",
        "                return None\n",
        "            token, *rest = rest\n",
        "            nxt = first(lr0a.δ(top, token))\n",
        "            if nxt is None: \n",
        "                warn('Unexpected token {}'.format(token))\n",
        "                return None\n",
        "        s.push(nxt)"
      ]
    },
    {
      "cell_type": "code",
      "execution_count": null,
      "metadata": {},
      "outputs": [
        {
          "data": {
            "text/plain": [
              "[T -> n, E -> T, T -> n, E -> E - T, T -> n, E -> E - T, S♯ -> E ♯]"
            ]
          },
          "execution_count": 16,
          "metadata": {},
          "output_type": "execute_result"
        }
      ],
      "source": [
        "# proviamolo sulla grammatica d'esempio \n",
        "# e su \n",
        "\n",
        "INPUT = 'n - n - n'.split()\n",
        "\n",
        "steps = lr0parse(lr0a, INPUT)\n",
        "steps"
      ]
    },
    {
      "cell_type": "markdown",
      "metadata": {},
      "source": [
        "L'algoritmo restituisce i passi di una derivazione rightmost, dall'ultimo al primo"
      ]
    },
    {
      "cell_type": "code",
      "execution_count": null,
      "metadata": {},
      "outputs": [
        {
          "data": {
            "text/plain": [
              "S♯ -> E ♯ -> E - T ♯ -> E - n ♯ -> E - T - n ♯ -> E - n - n ♯ -> T - n - n ♯ -> n - n - n ♯"
            ]
          },
          "execution_count": 17,
          "metadata": {},
          "output_type": "execute_result"
        }
      ],
      "source": [
        "dpf = Derivation(Gpf).rightmost(reversed(steps))\n",
        "dpf"
      ]
    },
    {
      "cell_type": "markdown",
      "metadata": {},
      "source": [
        "Possiamo visualizzare l'albero nella grammatica originale $G$ semplicemente trascurando l'ultima produzione (che è quella che produce il simbolo iniziale di $G$ seguito dal terminatore)."
      ]
    },
    {
      "cell_type": "code",
      "execution_count": null,
      "metadata": {},
      "outputs": [
        {
          "data": {
            "image/svg+xml": [
              "<?xml version=\"1.0\" encoding=\"UTF-8\" standalone=\"no\"?>\n",
              "<!DOCTYPE svg PUBLIC \"-//W3C//DTD SVG 1.1//EN\"\n",
              " \"http://www.w3.org/Graphics/SVG/1.1/DTD/svg11.dtd\">\n",
              "<!-- Generated by graphviz version 2.43.0 (0)\n",
              " -->\n",
              "<!-- Title: %3 Pages: 1 -->\n",
              "<svg width=\"124pt\" height=\"190pt\"\n",
              " viewBox=\"0.00 0.00 123.78 190.00\" xmlns=\"http://www.w3.org/2000/svg\" xmlns:xlink=\"http://www.w3.org/1999/xlink\">\n",
              "<g id=\"graph0\" class=\"graph\" transform=\"scale(1 1) rotate(0) translate(4 186)\">\n",
              "<title>%3</title>\n",
              "<polygon fill=\"white\" stroke=\"transparent\" points=\"-4,4 -4,-186 119.78,-186 119.78,4 -4,4\"/>\n",
              "<!-- 659380775467859873 -->\n",
              "<g id=\"node1\" class=\"node\">\n",
              "<title>659380775467859873</title>\n",
              "<path fill=\"none\" stroke=\"black\" stroke-width=\"0.25\" d=\"M76.96,-182C76.96,-182 71.59,-182 71.59,-182 68.9,-182 66.22,-179.31 66.22,-176.63 66.22,-176.63 66.22,-165.37 66.22,-165.37 66.22,-162.69 68.9,-160 71.59,-160 71.59,-160 76.96,-160 76.96,-160 79.65,-160 82.33,-162.69 82.33,-165.37 82.33,-165.37 82.33,-176.63 82.33,-176.63 82.33,-179.31 79.65,-182 76.96,-182\"/>\n",
              "<text text-anchor=\"middle\" x=\"74.28\" y=\"-166.8\" font-family=\"Times,serif\" font-size=\"14.00\">E</text>\n",
              "</g>\n",
              "<!-- 659382036664858696 -->\n",
              "<g id=\"node2\" class=\"node\">\n",
              "<title>659382036664858696</title>\n",
              "<path fill=\"none\" stroke=\"black\" stroke-width=\"0.25\" d=\"M43.96,-142C43.96,-142 38.59,-142 38.59,-142 35.9,-142 33.22,-139.31 33.22,-136.63 33.22,-136.63 33.22,-125.37 33.22,-125.37 33.22,-122.69 35.9,-120 38.59,-120 38.59,-120 43.96,-120 43.96,-120 46.65,-120 49.33,-122.69 49.33,-125.37 49.33,-125.37 49.33,-136.63 49.33,-136.63 49.33,-139.31 46.65,-142 43.96,-142\"/>\n",
              "<text text-anchor=\"middle\" x=\"41.28\" y=\"-126.8\" font-family=\"Times,serif\" font-size=\"14.00\">E</text>\n",
              "</g>\n",
              "<!-- 659380775467859873&#45;&gt;659382036664858696 -->\n",
              "<g id=\"edge1\" class=\"edge\">\n",
              "<title>659380775467859873&#45;&gt;659382036664858696</title>\n",
              "<path fill=\"none\" stroke=\"black\" stroke-width=\"0.5\" d=\"M65.95,-160.41C60.91,-154.61 54.51,-147.23 49.49,-141.45\"/>\n",
              "</g>\n",
              "<!-- &#45;6374212491013697304 -->\n",
              "<g id=\"node3\" class=\"node\">\n",
              "<title>&#45;6374212491013697304</title>\n",
              "<path fill=\"none\" stroke=\"black\" stroke-width=\"1.25\" d=\"M76.33,-142C76.33,-142 72.22,-142 72.22,-142 70.16,-142 68.11,-139.94 68.11,-137.89 68.11,-137.89 68.11,-124.11 68.11,-124.11 68.11,-122.06 70.16,-120 72.22,-120 72.22,-120 76.33,-120 76.33,-120 78.39,-120 80.44,-122.06 80.44,-124.11 80.44,-124.11 80.44,-137.89 80.44,-137.89 80.44,-139.94 78.39,-142 76.33,-142\"/>\n",
              "<text text-anchor=\"middle\" x=\"74.28\" y=\"-126.8\" font-family=\"Times,serif\" font-size=\"14.00\">&#45;</text>\n",
              "</g>\n",
              "<!-- 659380775467859873&#45;&gt;&#45;6374212491013697304 -->\n",
              "<g id=\"edge2\" class=\"edge\">\n",
              "<title>659380775467859873&#45;&gt;&#45;6374212491013697304</title>\n",
              "<path fill=\"none\" stroke=\"black\" stroke-width=\"0.5\" d=\"M74.28,-159.62C74.28,-154.17 74.28,-147.52 74.28,-142.11\"/>\n",
              "</g>\n",
              "<!-- &#45;5257896436876705437 -->\n",
              "<g id=\"node4\" class=\"node\">\n",
              "<title>&#45;5257896436876705437</title>\n",
              "<path fill=\"none\" stroke=\"black\" stroke-width=\"0.25\" d=\"M109.96,-142C109.96,-142 104.59,-142 104.59,-142 101.9,-142 99.22,-139.31 99.22,-136.63 99.22,-136.63 99.22,-125.37 99.22,-125.37 99.22,-122.69 101.9,-120 104.59,-120 104.59,-120 109.96,-120 109.96,-120 112.65,-120 115.33,-122.69 115.33,-125.37 115.33,-125.37 115.33,-136.63 115.33,-136.63 115.33,-139.31 112.65,-142 109.96,-142\"/>\n",
              "<text text-anchor=\"middle\" x=\"107.28\" y=\"-126.8\" font-family=\"Times,serif\" font-size=\"14.00\">T</text>\n",
              "</g>\n",
              "<!-- 659380775467859873&#45;&gt;&#45;5257896436876705437 -->\n",
              "<g id=\"edge3\" class=\"edge\">\n",
              "<title>659380775467859873&#45;&gt;&#45;5257896436876705437</title>\n",
              "<path fill=\"none\" stroke=\"black\" stroke-width=\"0.5\" d=\"M82.6,-160.41C87.64,-154.61 94.05,-147.23 99.07,-141.45\"/>\n",
              "</g>\n",
              "<!-- 659382036664858696&#45;&gt;&#45;6374212491013697304 -->\n",
              "<!-- 659379514270861050 -->\n",
              "<g id=\"node6\" class=\"node\">\n",
              "<title>659379514270861050</title>\n",
              "<path fill=\"none\" stroke=\"black\" stroke-width=\"0.25\" d=\"M10.96,-102C10.96,-102 5.59,-102 5.59,-102 2.9,-102 0.22,-99.31 0.22,-96.63 0.22,-96.63 0.22,-85.37 0.22,-85.37 0.22,-82.69 2.9,-80 5.59,-80 5.59,-80 10.96,-80 10.96,-80 13.65,-80 16.33,-82.69 16.33,-85.37 16.33,-85.37 16.33,-96.63 16.33,-96.63 16.33,-99.31 13.65,-102 10.96,-102\"/>\n",
              "<text text-anchor=\"middle\" x=\"8.28\" y=\"-86.8\" font-family=\"Times,serif\" font-size=\"14.00\">E</text>\n",
              "</g>\n",
              "<!-- 659382036664858696&#45;&gt;659379514270861050 -->\n",
              "<g id=\"edge7\" class=\"edge\">\n",
              "<title>659382036664858696&#45;&gt;659379514270861050</title>\n",
              "<path fill=\"none\" stroke=\"black\" stroke-width=\"0.5\" d=\"M32.95,-120.41C27.91,-114.61 21.51,-107.23 16.49,-101.45\"/>\n",
              "</g>\n",
              "<!-- &#45;6374209968619699658 -->\n",
              "<g id=\"node7\" class=\"node\">\n",
              "<title>&#45;6374209968619699658</title>\n",
              "<path fill=\"none\" stroke=\"black\" stroke-width=\"1.25\" d=\"M43.33,-102C43.33,-102 39.22,-102 39.22,-102 37.16,-102 35.11,-99.94 35.11,-97.89 35.11,-97.89 35.11,-84.11 35.11,-84.11 35.11,-82.06 37.16,-80 39.22,-80 39.22,-80 43.33,-80 43.33,-80 45.39,-80 47.44,-82.06 47.44,-84.11 47.44,-84.11 47.44,-97.89 47.44,-97.89 47.44,-99.94 45.39,-102 43.33,-102\"/>\n",
              "<text text-anchor=\"middle\" x=\"41.28\" y=\"-86.8\" font-family=\"Times,serif\" font-size=\"14.00\">&#45;</text>\n",
              "</g>\n",
              "<!-- 659382036664858696&#45;&gt;&#45;6374209968619699658 -->\n",
              "<g id=\"edge8\" class=\"edge\">\n",
              "<title>659382036664858696&#45;&gt;&#45;6374209968619699658</title>\n",
              "<path fill=\"none\" stroke=\"black\" stroke-width=\"0.5\" d=\"M41.28,-119.62C41.28,-114.17 41.28,-107.52 41.28,-102.11\"/>\n",
              "</g>\n",
              "<!-- &#45;5257898959266042887 -->\n",
              "<g id=\"node8\" class=\"node\">\n",
              "<title>&#45;5257898959266042887</title>\n",
              "<path fill=\"none\" stroke=\"black\" stroke-width=\"0.25\" d=\"M76.96,-102C76.96,-102 71.59,-102 71.59,-102 68.9,-102 66.22,-99.31 66.22,-96.63 66.22,-96.63 66.22,-85.37 66.22,-85.37 66.22,-82.69 68.9,-80 71.59,-80 71.59,-80 76.96,-80 76.96,-80 79.65,-80 82.33,-82.69 82.33,-85.37 82.33,-85.37 82.33,-96.63 82.33,-96.63 82.33,-99.31 79.65,-102 76.96,-102\"/>\n",
              "<text text-anchor=\"middle\" x=\"74.28\" y=\"-86.8\" font-family=\"Times,serif\" font-size=\"14.00\">T</text>\n",
              "</g>\n",
              "<!-- 659382036664858696&#45;&gt;&#45;5257898959266042887 -->\n",
              "<g id=\"edge9\" class=\"edge\">\n",
              "<title>659382036664858696&#45;&gt;&#45;5257898959266042887</title>\n",
              "<path fill=\"none\" stroke=\"black\" stroke-width=\"0.5\" d=\"M49.6,-120.41C54.64,-114.61 61.05,-107.23 66.07,-101.45\"/>\n",
              "</g>\n",
              "<!-- &#45;6374212491013697304&#45;&gt;&#45;5257896436876705437 -->\n",
              "<!-- 907576536094818911 -->\n",
              "<g id=\"node5\" class=\"node\">\n",
              "<title>907576536094818911</title>\n",
              "<path fill=\"none\" stroke=\"black\" stroke-width=\"1.25\" d=\"M110.78,-102C110.78,-102 105.78,-102 105.78,-102 103.28,-102 100.78,-99.5 100.78,-97 100.78,-97 100.78,-85 100.78,-85 100.78,-82.5 103.28,-80 105.78,-80 105.78,-80 110.78,-80 110.78,-80 113.28,-80 115.78,-82.5 115.78,-85 115.78,-85 115.78,-97 115.78,-97 115.78,-99.5 113.28,-102 110.78,-102\"/>\n",
              "<text text-anchor=\"middle\" x=\"108.28\" y=\"-86.8\" font-family=\"Times,serif\" font-size=\"14.00\">n</text>\n",
              "</g>\n",
              "<!-- &#45;5257896436876705437&#45;&gt;907576536094818911 -->\n",
              "<g id=\"edge6\" class=\"edge\">\n",
              "<title>&#45;5257896436876705437&#45;&gt;907576536094818911</title>\n",
              "<path fill=\"none\" stroke=\"black\" stroke-width=\"0.5\" d=\"M107.55,-119.62C107.69,-114.17 107.87,-107.52 108.01,-102.11\"/>\n",
              "</g>\n",
              "<!-- 659379514270861050&#45;&gt;&#45;6374209968619699658 -->\n",
              "<!-- &#45;5257901481662370631 -->\n",
              "<g id=\"node10\" class=\"node\">\n",
              "<title>&#45;5257901481662370631</title>\n",
              "<path fill=\"none\" stroke=\"black\" stroke-width=\"0.25\" d=\"M10.96,-62C10.96,-62 5.59,-62 5.59,-62 2.9,-62 0.22,-59.31 0.22,-56.63 0.22,-56.63 0.22,-45.37 0.22,-45.37 0.22,-42.69 2.9,-40 5.59,-40 5.59,-40 10.96,-40 10.96,-40 13.65,-40 16.33,-42.69 16.33,-45.37 16.33,-45.37 16.33,-56.63 16.33,-56.63 16.33,-59.31 13.65,-62 10.96,-62\"/>\n",
              "<text text-anchor=\"middle\" x=\"8.28\" y=\"-46.8\" font-family=\"Times,serif\" font-size=\"14.00\">T</text>\n",
              "</g>\n",
              "<!-- 659379514270861050&#45;&gt;&#45;5257901481662370631 -->\n",
              "<g id=\"edge13\" class=\"edge\">\n",
              "<title>659379514270861050&#45;&gt;&#45;5257901481662370631</title>\n",
              "<path fill=\"none\" stroke=\"black\" stroke-width=\"0.5\" d=\"M8.28,-79.62C8.28,-74.17 8.28,-67.52 8.28,-62.11\"/>\n",
              "</g>\n",
              "<!-- &#45;6374209968619699658&#45;&gt;&#45;5257898959266042887 -->\n",
              "<!-- 907574013700821265 -->\n",
              "<g id=\"node9\" class=\"node\">\n",
              "<title>907574013700821265</title>\n",
              "<path fill=\"none\" stroke=\"black\" stroke-width=\"1.25\" d=\"M76.78,-62C76.78,-62 71.78,-62 71.78,-62 69.28,-62 66.78,-59.5 66.78,-57 66.78,-57 66.78,-45 66.78,-45 66.78,-42.5 69.28,-40 71.78,-40 71.78,-40 76.78,-40 76.78,-40 79.28,-40 81.78,-42.5 81.78,-45 81.78,-45 81.78,-57 81.78,-57 81.78,-59.5 79.28,-62 76.78,-62\"/>\n",
              "<text text-anchor=\"middle\" x=\"74.28\" y=\"-46.8\" font-family=\"Times,serif\" font-size=\"14.00\">n</text>\n",
              "</g>\n",
              "<!-- &#45;5257898959266042887&#45;&gt;907574013700821265 -->\n",
              "<g id=\"edge12\" class=\"edge\">\n",
              "<title>&#45;5257898959266042887&#45;&gt;907574013700821265</title>\n",
              "<path fill=\"none\" stroke=\"black\" stroke-width=\"0.5\" d=\"M74.28,-79.62C74.28,-74.17 74.28,-67.52 74.28,-62.11\"/>\n",
              "</g>\n",
              "<!-- 907571491306823619 -->\n",
              "<g id=\"node11\" class=\"node\">\n",
              "<title>907571491306823619</title>\n",
              "<path fill=\"none\" stroke=\"black\" stroke-width=\"1.25\" d=\"M10.78,-22C10.78,-22 5.78,-22 5.78,-22 3.28,-22 0.78,-19.5 0.78,-17 0.78,-17 0.78,-5 0.78,-5 0.78,-2.5 3.28,0 5.78,0 5.78,0 10.78,0 10.78,0 13.28,0 15.78,-2.5 15.78,-5 15.78,-5 15.78,-17 15.78,-17 15.78,-19.5 13.28,-22 10.78,-22\"/>\n",
              "<text text-anchor=\"middle\" x=\"8.28\" y=\"-6.8\" font-family=\"Times,serif\" font-size=\"14.00\">n</text>\n",
              "</g>\n",
              "<!-- &#45;5257901481662370631&#45;&gt;907571491306823619 -->\n",
              "<g id=\"edge14\" class=\"edge\">\n",
              "<title>&#45;5257901481662370631&#45;&gt;907571491306823619</title>\n",
              "<path fill=\"none\" stroke=\"black\" stroke-width=\"0.5\" d=\"M8.28,-39.62C8.28,-34.17 8.28,-27.52 8.28,-22.11\"/>\n",
              "</g>\n",
              "</g>\n",
              "</svg>\n"
            ],
            "text/plain": [
              "ProductionGraph(E -> E - T -> E - n -> E - T - n -> E - n - n -> T - n - n -> n - n - n)"
            ]
          },
          "execution_count": 18,
          "metadata": {},
          "output_type": "execute_result"
        }
      ],
      "source": [
        "d = Derivation(G).rightmost(reversed(steps[:-1]))\n",
        "ProductionGraph(d)"
      ]
    },
    {
      "cell_type": "markdown",
      "metadata": {},
      "source": [
        "## Conflitti\n",
        "\n",
        "Purtroppo l'approccio funziona solo per alcune grammatice. Con altre possono presentarsi conflitti *shift/reduce*."
      ]
    },
    {
      "cell_type": "code",
      "execution_count": null,
      "metadata": {},
      "outputs": [],
      "source": [
        "# ad esempio\n",
        "\n",
        "Gsr = Grammar.from_string(\"\"\"\n",
        "S -> A b | A\n",
        "A -> a\n",
        "\"\"\")"
      ]
    },
    {
      "cell_type": "code",
      "execution_count": null,
      "metadata": {},
      "outputs": [
        {
          "data": {
            "image/svg+xml": [
              "<?xml version=\"1.0\" encoding=\"UTF-8\" standalone=\"no\"?>\n",
              "<!DOCTYPE svg PUBLIC \"-//W3C//DTD SVG 1.1//EN\"\n",
              " \"http://www.w3.org/Graphics/SVG/1.1/DTD/svg11.dtd\">\n",
              "<!-- Generated by graphviz version 2.43.0 (0)\n",
              " -->\n",
              "<!-- Title: %3 Pages: 1 -->\n",
              "<svg width=\"423pt\" height=\"120pt\"\n",
              " viewBox=\"0.00 0.00 422.80 120.46\" xmlns=\"http://www.w3.org/2000/svg\" xmlns:xlink=\"http://www.w3.org/1999/xlink\">\n",
              "<g id=\"graph0\" class=\"graph\" transform=\"scale(1 1) rotate(0) translate(4 116.46)\">\n",
              "<title>%3</title>\n",
              "<polygon fill=\"white\" stroke=\"transparent\" points=\"-4,4 -4,-116.46 418.8,-116.46 418.8,4 -4,4\"/>\n",
              "<!-- 4404618256 -->\n",
              "<g id=\"node1\" class=\"node\">\n",
              "<title>4404618256</title>\n",
              "</g>\n",
              "<!-- &#45;2885012156976399509 -->\n",
              "<g id=\"node2\" class=\"node\">\n",
              "<title>&#45;2885012156976399509</title>\n",
              "<ellipse fill=\"none\" stroke=\"black\" cx=\"131.79\" cy=\"-57.46\" rx=\"41.59\" ry=\"37.5\"/>\n",
              "<text text-anchor=\"middle\" x=\"131.79\" y=\"-68.77\" font-family=\"Times,serif\" font-size=\"14.00\">A &#45;&gt; •a</text>\n",
              "<text text-anchor=\"middle\" x=\"131.79\" y=\"-54.77\" font-family=\"Times,serif\" font-size=\"14.00\">S &#45;&gt; •A</text>\n",
              "<text text-anchor=\"middle\" x=\"131.79\" y=\"-40.77\" font-family=\"Times,serif\" font-size=\"14.00\">S &#45;&gt; •A b</text>\n",
              "</g>\n",
              "<!-- 4404618256&#45;&gt;&#45;2885012156976399509 -->\n",
              "<g id=\"edge1\" class=\"edge\">\n",
              "<title>4404618256&#45;&gt;&#45;2885012156976399509</title>\n",
              "<path fill=\"none\" stroke=\"black\" d=\"M54.21,-57.46C61.99,-57.46 70.79,-57.46 79.59,-57.46\"/>\n",
              "<polygon fill=\"black\" stroke=\"black\" points=\"79.85,-60.96 89.85,-57.46 79.85,-53.96 79.85,-60.96\"/>\n",
              "</g>\n",
              "<!-- &#45;5057864979905853705 -->\n",
              "<g id=\"node3\" class=\"node\">\n",
              "<title>&#45;5057864979905853705</title>\n",
              "<ellipse fill=\"none\" stroke=\"black\" cx=\"249.6\" cy=\"-90.46\" rx=\"30.18\" ry=\"18\"/>\n",
              "<ellipse fill=\"none\" stroke=\"black\" cx=\"249.6\" cy=\"-90.46\" rx=\"34.16\" ry=\"22\"/>\n",
              "<text text-anchor=\"middle\" x=\"249.6\" y=\"-86.26\" font-family=\"Times,serif\" font-size=\"14.00\">A &#45;&gt; a•</text>\n",
              "</g>\n",
              "<!-- &#45;2885012156976399509&#45;&gt;&#45;5057864979905853705 -->\n",
              "<g id=\"edge2\" class=\"edge\">\n",
              "<title>&#45;2885012156976399509&#45;&gt;&#45;5057864979905853705</title>\n",
              "<path fill=\"none\" stroke=\"black\" d=\"M172,-68.63C183.57,-71.93 196.26,-75.54 207.92,-78.86\"/>\n",
              "<polygon fill=\"black\" stroke=\"black\" points=\"207.28,-82.32 217.85,-81.69 209.2,-75.59 207.28,-82.32\"/>\n",
              "<text text-anchor=\"middle\" x=\"191.94\" y=\"-64\" font-family=\"Times,serif\" font-size=\"14.00\">a</text>\n",
              "</g>\n",
              "<!-- 8171412190667824411 -->\n",
              "<g id=\"node4\" class=\"node\">\n",
              "<title>8171412190667824411</title>\n",
              "<ellipse fill=\"none\" stroke=\"black\" cx=\"249.6\" cy=\"-25.46\" rx=\"40.03\" ry=\"25.41\"/>\n",
              "<text text-anchor=\"middle\" x=\"249.6\" y=\"-28.26\" font-family=\"Times,serif\" font-size=\"14.00\">S &#45;&gt; A•</text>\n",
              "<text text-anchor=\"middle\" x=\"249.6\" y=\"-14.26\" font-family=\"Times,serif\" font-size=\"14.00\">S &#45;&gt; A•b</text>\n",
              "</g>\n",
              "<!-- &#45;2885012156976399509&#45;&gt;8171412190667824411 -->\n",
              "<g id=\"edge3\" class=\"edge\">\n",
              "<title>&#45;2885012156976399509&#45;&gt;8171412190667824411</title>\n",
              "<path fill=\"none\" stroke=\"black\" d=\"M172,-46.62C181.84,-43.9 192.49,-40.96 202.63,-38.16\"/>\n",
              "<polygon fill=\"black\" stroke=\"black\" points=\"203.85,-41.45 212.56,-35.42 201.98,-34.71 203.85,-41.45\"/>\n",
              "<text text-anchor=\"middle\" x=\"187\" y=\"-29.88\" font-family=\"Times,serif\" font-size=\"14.00\">A</text>\n",
              "</g>\n",
              "<!-- &#45;3134156350279378157 -->\n",
              "<g id=\"node5\" class=\"node\">\n",
              "<title>&#45;3134156350279378157</title>\n",
              "<ellipse fill=\"none\" stroke=\"black\" cx=\"370.21\" cy=\"-25.46\" rx=\"40.68\" ry=\"18\"/>\n",
              "<ellipse fill=\"none\" stroke=\"black\" cx=\"370.21\" cy=\"-25.46\" rx=\"44.69\" ry=\"22\"/>\n",
              "<text text-anchor=\"middle\" x=\"370.21\" y=\"-22.77\" font-family=\"Times,serif\" font-size=\"14.00\">S &#45;&gt; A b•</text>\n",
              "</g>\n",
              "<!-- 8171412190667824411&#45;&gt;&#45;3134156350279378157 -->\n",
              "<g id=\"edge4\" class=\"edge\">\n",
              "<title>8171412190667824411&#45;&gt;&#45;3134156350279378157</title>\n",
              "<path fill=\"none\" stroke=\"black\" d=\"M289.77,-25.46C298.01,-25.46 306.85,-25.46 315.52,-25.46\"/>\n",
              "<polygon fill=\"black\" stroke=\"black\" points=\"315.58,-28.96 325.58,-25.46 315.58,-21.96 315.58,-28.96\"/>\n",
              "<text text-anchor=\"middle\" x=\"304.27\" y=\"-14.26\" font-family=\"Times,serif\" font-size=\"14.00\">b</text>\n",
              "</g>\n",
              "</g>\n",
              "</svg>\n"
            ],
            "text/plain": [
              "<liblet.display.StateTransitionGraph at 0x106886f90>"
            ]
          },
          "execution_count": 20,
          "metadata": {},
          "output_type": "execute_result"
        }
      ],
      "source": [
        "lr0asr = compute_lr0_automaton(Gsr)\n",
        "StateTransitionGraph.from_automaton(lr0asr, large_labels = True)"
      ]
    },
    {
      "cell_type": "markdown",
      "metadata": {},
      "source": [
        "Lo stato $\\{S\\to A•, S\\to A•b\\}$ può essere interpretato sia come uno shift verso $\\{S\\to Ab•\\}$ che come un reduce $S\\to A$.\n",
        "\n",
        "Possono inoltre presentarsi conflitti *reduce/reduce*."
      ]
    },
    {
      "cell_type": "code",
      "execution_count": null,
      "metadata": {},
      "outputs": [],
      "source": [
        "# ad esempio\n",
        "\n",
        "Grr = Grammar.from_string(\"\"\"\n",
        "S -> A | a\n",
        "A -> a\n",
        "\"\"\")"
      ]
    },
    {
      "cell_type": "code",
      "execution_count": null,
      "metadata": {},
      "outputs": [
        {
          "data": {
            "image/svg+xml": [
              "<?xml version=\"1.0\" encoding=\"UTF-8\" standalone=\"no\"?>\n",
              "<!DOCTYPE svg PUBLIC \"-//W3C//DTD SVG 1.1//EN\"\n",
              " \"http://www.w3.org/Graphics/SVG/1.1/DTD/svg11.dtd\">\n",
              "<!-- Generated by graphviz version 2.43.0 (0)\n",
              " -->\n",
              "<!-- Title: %3 Pages: 1 -->\n",
              "<svg width=\"276pt\" height=\"120pt\"\n",
              " viewBox=\"0.00 0.00 275.86 120.46\" xmlns=\"http://www.w3.org/2000/svg\" xmlns:xlink=\"http://www.w3.org/1999/xlink\">\n",
              "<g id=\"graph0\" class=\"graph\" transform=\"scale(1 1) rotate(0) translate(4 116.46)\">\n",
              "<title>%3</title>\n",
              "<polygon fill=\"white\" stroke=\"transparent\" points=\"-4,4 -4,-116.46 271.86,-116.46 271.86,4 -4,4\"/>\n",
              "<!-- 4404629824 -->\n",
              "<g id=\"node1\" class=\"node\">\n",
              "<title>4404629824</title>\n",
              "</g>\n",
              "<!-- &#45;2873455065282603884 -->\n",
              "<g id=\"node2\" class=\"node\">\n",
              "<title>&#45;2873455065282603884</title>\n",
              "<ellipse fill=\"none\" stroke=\"black\" cx=\"125.61\" cy=\"-54\" rx=\"35.71\" ry=\"35.21\"/>\n",
              "<text text-anchor=\"middle\" x=\"125.61\" y=\"-63.8\" font-family=\"Times,serif\" font-size=\"14.00\">A &#45;&gt; •a</text>\n",
              "<text text-anchor=\"middle\" x=\"125.61\" y=\"-49.8\" font-family=\"Times,serif\" font-size=\"14.00\">S &#45;&gt; •A</text>\n",
              "<text text-anchor=\"middle\" x=\"125.61\" y=\"-35.8\" font-family=\"Times,serif\" font-size=\"14.00\">S &#45;&gt; •a</text>\n",
              "</g>\n",
              "<!-- 4404629824&#45;&gt;&#45;2873455065282603884 -->\n",
              "<g id=\"edge1\" class=\"edge\">\n",
              "<title>4404629824&#45;&gt;&#45;2873455065282603884</title>\n",
              "<path fill=\"none\" stroke=\"black\" d=\"M54.14,-54C62.02,-54 70.89,-54 79.62,-54\"/>\n",
              "<polygon fill=\"black\" stroke=\"black\" points=\"79.73,-57.5 89.73,-54 79.73,-50.5 79.73,-57.5\"/>\n",
              "</g>\n",
              "<!-- 455273505670122731 -->\n",
              "<g id=\"node3\" class=\"node\">\n",
              "<title>455273505670122731</title>\n",
              "<ellipse fill=\"none\" stroke=\"black\" cx=\"232.54\" cy=\"-87\" rx=\"33.91\" ry=\"25.41\"/>\n",
              "<text text-anchor=\"middle\" x=\"232.54\" y=\"-89.8\" font-family=\"Times,serif\" font-size=\"14.00\">A &#45;&gt; a•</text>\n",
              "<text text-anchor=\"middle\" x=\"232.54\" y=\"-75.8\" font-family=\"Times,serif\" font-size=\"14.00\">S &#45;&gt; a•</text>\n",
              "</g>\n",
              "<!-- &#45;2873455065282603884&#45;&gt;455273505670122731 -->\n",
              "<g id=\"edge2\" class=\"edge\">\n",
              "<title>&#45;2873455065282603884&#45;&gt;455273505670122731</title>\n",
              "<path fill=\"none\" stroke=\"black\" d=\"M159.81,-64.44C169.82,-67.59 180.91,-71.08 191.33,-74.35\"/>\n",
              "<polygon fill=\"black\" stroke=\"black\" points=\"190.46,-77.75 201.05,-77.41 192.56,-71.07 190.46,-77.75\"/>\n",
              "<text text-anchor=\"middle\" x=\"177.31\" y=\"-59.72\" font-family=\"Times,serif\" font-size=\"14.00\">a</text>\n",
              "</g>\n",
              "<!-- 6645899978002364296 -->\n",
              "<g id=\"node4\" class=\"node\">\n",
              "<title>6645899978002364296</title>\n",
              "<ellipse fill=\"none\" stroke=\"black\" cx=\"232.54\" cy=\"-22\" rx=\"31.17\" ry=\"18\"/>\n",
              "<ellipse fill=\"none\" stroke=\"black\" cx=\"232.54\" cy=\"-22\" rx=\"35.15\" ry=\"22\"/>\n",
              "<text text-anchor=\"middle\" x=\"232.54\" y=\"-17.8\" font-family=\"Times,serif\" font-size=\"14.00\">S &#45;&gt; A•</text>\n",
              "</g>\n",
              "<!-- &#45;2873455065282603884&#45;&gt;6645899978002364296 -->\n",
              "<g id=\"edge3\" class=\"edge\">\n",
              "<title>&#45;2873455065282603884&#45;&gt;6645899978002364296</title>\n",
              "<path fill=\"none\" stroke=\"black\" d=\"M159.81,-43.88C169.64,-40.88 180.51,-37.56 190.76,-34.44\"/>\n",
              "<polygon fill=\"black\" stroke=\"black\" points=\"191.8,-37.78 200.34,-31.51 189.75,-31.08 191.8,-37.78\"/>\n",
              "<text text-anchor=\"middle\" x=\"174.98\" y=\"-26.51\" font-family=\"Times,serif\" font-size=\"14.00\">A</text>\n",
              "</g>\n",
              "</g>\n",
              "</svg>\n"
            ],
            "text/plain": [
              "<liblet.display.StateTransitionGraph at 0x106897c10>"
            ]
          },
          "execution_count": 22,
          "metadata": {},
          "output_type": "execute_result"
        }
      ],
      "source": [
        "lr0arr = compute_lr0_automaton(Grr)\n",
        "StateTransitionGraph.from_automaton(lr0arr, large_labels = True)"
      ]
    },
    {
      "cell_type": "markdown",
      "metadata": {},
      "source": [
        "In questo caso è lo stato $\\{A\\to a•, S\\to a•\\}$ che può essere interpretato come un reduce $A\\to a$ o $S\\to a$."
      ]
    },
    {
      "cell_type": "markdown",
      "metadata": {},
      "source": [
        "## <samp style=\"color: red;\">Per casa</samp> l'automa e le tabelle `GOTO` e `ACTIONS` \n",
        "\n",
        "L'automa a stati finiti può essere rappresntato in modo più compatto attraverso due tabelle; dapprima è necessario numerare gli stati (in modo da poter utilizzare numeri interi invece che insiemi di item). "
      ]
    },
    {
      "cell_type": "code",
      "execution_count": null,
      "metadata": {},
      "outputs": [
        {
          "data": {
            "text/html": [
              "<style>td, th {border: 1pt solid lightgray !important ;}</style><table><tr><th style=\"text-align:left\">0<td style=\"text-align:left\"><pre>{E -&gt; E -•T, T -&gt; •( E ), T -&gt; •n}</pre>\n",
              "<tr><th style=\"text-align:left\">1<td style=\"text-align:left\"><pre>{E -&gt; E - T•}</pre>\n",
              "<tr><th style=\"text-align:left\">2<td style=\"text-align:left\"><pre>{S♯ -&gt; E ♯•}</pre>\n",
              "<tr><th style=\"text-align:left\">3<td style=\"text-align:left\"><pre>{S♯ -&gt; E•♯, E -&gt; E•- T}</pre>\n",
              "<tr><th style=\"text-align:left\">4<td style=\"text-align:left\"><pre>{T -&gt; ( E•), E -&gt; E•- T}</pre>\n",
              "<tr><th style=\"text-align:left\">5<td style=\"text-align:left\"><pre>{T -&gt; ( E )•}</pre>\n",
              "<tr><th style=\"text-align:left\">6<td style=\"text-align:left\"><pre>{E -&gt; T•}</pre>\n",
              "<tr><th style=\"text-align:left\">7<td style=\"text-align:left\"><pre>{E -&gt; •T, T -&gt; (•E ), E -&gt; •E - T, T -&gt; •( E ), T -&gt; •n}</pre>\n",
              "<tr><th style=\"text-align:left\">8<td style=\"text-align:left\"><pre>{T -&gt; n•}</pre>\n",
              "<tr><th style=\"text-align:left\">9<td style=\"text-align:left\"><pre>{E -&gt; •T, E -&gt; •E - T, S♯ -&gt; •E ♯, T -&gt; •( E ), T -&gt; •n}</pre></table>"
            ],
            "text/plain": [
              "<IPython.core.display.HTML object>"
            ]
          },
          "execution_count": 23,
          "metadata": {},
          "output_type": "execute_result"
        }
      ],
      "source": [
        "states = sorted(map(set, lr0a.N))\n",
        "iter2table(states)"
      ]
    },
    {
      "cell_type": "markdown",
      "metadata": {},
      "source": [
        "Quindi si possono usare due tabelle: la tabella `GOTO` che descrive le transizioni"
      ]
    },
    {
      "cell_type": "code",
      "execution_count": null,
      "metadata": {},
      "outputs": [
        {
          "data": {
            "text/html": [
              "<style>td, th {border: 1pt solid lightgray !important; text-align: left !important;}</style><table><tr><td>&nbsp;<th><pre>(</pre><th><pre>T</pre><th><pre>n</pre><th><pre>-</pre><th><pre>♯</pre><th><pre>)</pre><th><pre>E</pre>\n",
              "<tr><th><pre>0<pre><td><pre>7</pre><td><pre>1</pre><td><pre>8</pre><td>&nbsp;<td>&nbsp;<td>&nbsp;<td>&nbsp;\n",
              "<tr><th><pre>3<pre><td>&nbsp;<td>&nbsp;<td>&nbsp;<td><pre>0</pre><td><pre>2</pre><td>&nbsp;<td>&nbsp;\n",
              "<tr><th><pre>4<pre><td>&nbsp;<td>&nbsp;<td>&nbsp;<td><pre>0</pre><td>&nbsp;<td><pre>5</pre><td>&nbsp;\n",
              "<tr><th><pre>7<pre><td><pre>7</pre><td><pre>6</pre><td><pre>8</pre><td>&nbsp;<td>&nbsp;<td>&nbsp;<td><pre>4</pre>\n",
              "<tr><th><pre>9<pre><td><pre>7</pre><td><pre>6</pre><td><pre>8</pre><td>&nbsp;<td>&nbsp;<td>&nbsp;<td><pre>3</pre>\n",
              "</table>"
            ],
            "text/plain": [
              "<liblet.utils.Table at 0x1068a05d0>"
            ]
          },
          "execution_count": 24,
          "metadata": {},
          "output_type": "execute_result"
        }
      ],
      "source": [
        "index_of = states.index\n",
        "\n",
        "GOTO = Table(2, set)\n",
        "for frm in states:\n",
        "    for X in sorted(lr0a.T):\n",
        "        to = lr0a.δ(frm, X)\n",
        "        if to: \n",
        "            to = first(to)\n",
        "            GOTO[index_of(frm), X] = index_of(to)\n",
        "            \n",
        "GOTO"
      ]
    },
    {
      "cell_type": "markdown",
      "metadata": {},
      "source": [
        "E una tabella `ACTIONS` per rappresentare le riduzioni (che avvengono solo per gli stati finali)"
      ]
    },
    {
      "cell_type": "code",
      "execution_count": null,
      "metadata": {},
      "outputs": [
        {
          "data": {
            "text/html": [
              "<style>td, th {border: 1pt solid lightgray !important; text-align: left !important;}</style><table><tr><th><pre>1</pre><td><pre>E -> E - T</pre>\n",
              "<tr><th><pre>2</pre><td><pre>S♯ -> E ♯</pre>\n",
              "<tr><th><pre>5</pre><td><pre>T -> ( E )</pre>\n",
              "<tr><th><pre>6</pre><td><pre>E -> T</pre>\n",
              "<tr><th><pre>8</pre><td><pre>T -> n</pre></table>"
            ],
            "text/plain": [
              "<liblet.utils.Table at 0x106884850>"
            ]
          },
          "execution_count": 25,
          "metadata": {},
          "output_type": "execute_result"
        }
      ],
      "source": [
        "ACTIONS = Table(1)\n",
        "\n",
        "for n, state in enumerate(states):\n",
        "    if len(state) == 1: \n",
        "        A, α, _ = first(state)\n",
        "        ACTIONS[n] = Production(A, α)\n",
        "\n",
        "ACTIONS"
      ]
    },
    {
      "cell_type": "markdown",
      "metadata": {},
      "source": [
        "### <samp style=\"color: red;\">Per casa</samp>: simulazione con le tabelle\n",
        "\n",
        "Può essere un interessante esecizio scrivere una variante della funzione `lr0parse` che invece di basarsi sul'automa, richieda solo la conoscenza delle tabelle `GOTO` e `ACTIONS` descritte in questa sezione."
      ]
    }
  ],
  "metadata": {
    "kernelspec": {
      "display_name": "Python 3",
      "language": "python",
      "name": "python3"
    },
    "language_info": {
      "codemirror_mode": {
        "name": "ipython",
        "version": 3
      },
      "file_extension": ".py",
      "mimetype": "text/x-python",
      "name": "python",
      "nbconvert_exporter": "python",
      "pygments_lexer": "ipython3"
    }
  },
  "nbformat": 4,
  "nbformat_minor": 4
}
