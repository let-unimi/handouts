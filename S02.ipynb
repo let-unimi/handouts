{
  "cells": [
    {
      "cell_type": "markdown",
      "metadata": {},
      "source": [
        "# Visitare il grafo (implicito) della distanza di Levenshtein (soluzione)\n",
        "\n",
        "La [distanza di Levenshtein](https://www.wikiwand.com/en/Levenshtein_distance), che denoteremo con $d_L(u, v)$ può essere calcolata tramite una funzione ricorsiva"
      ]
    },
    {
      "cell_type": "code",
      "execution_count": null,
      "metadata": {},
      "outputs": [],
      "source": [
        "def d_L(u, v):\n",
        "  if not u: return len(v)\n",
        "  if not v: return len(u)\n",
        "  if u[0] == v[0]: return d_L(u[1:], v[1:])\n",
        "  return 1 + min(\n",
        "    d_L(u[1:], v),\n",
        "    d_L(u, v[1:]),\n",
        "    d_L(u[1:], v[1:])\n",
        "  )"
      ]
    },
    {
      "cell_type": "code",
      "execution_count": null,
      "metadata": {},
      "outputs": [
        {
          "data": {
            "text/plain": [
              "2"
            ]
          },
          "execution_count": 2,
          "metadata": {},
          "output_type": "execute_result"
        }
      ],
      "source": [
        "# esempio \n",
        "\n",
        "d_L('CANE', 'CASA')"
      ]
    },
    {
      "cell_type": "markdown",
      "metadata": {},
      "source": [
        "Otteniamo ora l'elenco di parole che ci servirà per definire il grafo."
      ]
    },
    {
      "cell_type": "code",
      "execution_count": null,
      "metadata": {},
      "outputs": [
        {
          "name": "stdout",
          "output_type": "stream",
          "text": [
            "60418\n"
          ]
        }
      ],
      "source": [
        "from urllib.request import urlopen\n",
        "\n",
        "with urlopen('https://raw.githubusercontent.com/napolux/paroleitaliane/master/paroleitaliane/60000_parole_italiane.txt') as url: \n",
        "  W = frozenset({word.decode().strip().upper() for word in url if len(word) >= 3})\n",
        "\n",
        "print(len(W))"
      ]
    },
    {
      "cell_type": "markdown",
      "metadata": {},
      "source": [
        "Diamo una prima implementazione (inefficiente) della funzione $\\Gamma_d$ (che implementeremo con una funzione a due parametri, il primo dei quali svolge il ruolo di $d$)\n"
      ]
    },
    {
      "cell_type": "code",
      "execution_count": null,
      "metadata": {},
      "outputs": [],
      "source": [
        "def Γ(d, u):\n",
        "  return frozenset(w for w in W if d_L(u, w) <= d)"
      ]
    },
    {
      "cell_type": "code",
      "execution_count": null,
      "metadata": {},
      "outputs": [
        {
          "name": "stdout",
          "output_type": "stream",
          "text": [
            "CPU times: user 30.9 s, sys: 2.51 ms, total: 30.9 s\n",
            "Wall time: 30.9 s\n"
          ]
        }
      ],
      "source": [
        "# cacoliamo Γ_1('CASA'), prendendo nota del tempo di calcolo\n",
        "\n",
        "%time ineff = Γ(1, 'CASA')"
      ]
    },
    {
      "cell_type": "markdown",
      "metadata": {},
      "source": [
        "Ora diamo una implementazione (efficiente) per il caso $d = 1$"
      ]
    },
    {
      "cell_type": "code",
      "execution_count": null,
      "metadata": {},
      "outputs": [],
      "source": [
        "from string import ascii_uppercase\n",
        "\n",
        "def Γ_1(u):\n",
        "  res = set()\n",
        "  for i in range(len(u) + 1):\n",
        "    res.add(u[:i] + u[i+1:]) # cancella un carattere\n",
        "    for c in ascii_uppercase:\n",
        "      res.add(u[:i] + c + u[i+1:]) # sostituisce un carattere\n",
        "      res.add(u[:i] + c + u[i:]) # inserisce un carattere\n",
        "  return res & W"
      ]
    },
    {
      "cell_type": "code",
      "execution_count": null,
      "metadata": {},
      "outputs": [
        {
          "name": "stdout",
          "output_type": "stream",
          "text": [
            "CPU times: user 72 µs, sys: 0 ns, total: 72 µs\n",
            "Wall time: 73.2 µs\n"
          ]
        }
      ],
      "source": [
        "# rifacciamo il calcolo, sempre annotando il tempo \n",
        "\n",
        "%time eff = Γ_1('CASA')"
      ]
    },
    {
      "cell_type": "code",
      "execution_count": null,
      "metadata": {},
      "outputs": [
        {
          "data": {
            "text/plain": [
              "True"
            ]
          },
          "execution_count": 8,
          "metadata": {},
          "output_type": "execute_result"
        }
      ],
      "source": [
        "# i due risultati coincidono (ovviamente)\n",
        "\n",
        "ineff == eff"
      ]
    },
    {
      "cell_type": "markdown",
      "metadata": {},
      "source": [
        "Usando `Γ_1` scriviamo l'algoritmo di visita che ci permetta di ricostruire il percorso tra due parole date. \n",
        "\n",
        "Una possibilità è quella di usare una struttura dati ausiliaria che ci consenta di tener traccia, per ciascuna parola, della parola che l'ha preceduta nella visita. \n",
        "\n",
        "Non ponendosi un problema di efficienza, una scelta senz'altro più banale da implementare è quella di tenere nella coda non le parole, ma gli interi percorsi."
      ]
    },
    {
      "cell_type": "code",
      "execution_count": null,
      "metadata": {},
      "outputs": [],
      "source": [
        "from liblet import Queue\n",
        "\n",
        "def visit(start, stop):\n",
        "  Q = Queue([(start, )]) # all'inizio il percorso è solo start\n",
        "  seen = set()\n",
        "  while Q:\n",
        "    path = Q.dequeue()\n",
        "    u = path[-1] # la parola da cui procedere è l'ultima del pecorso\n",
        "    seen.add(u)\n",
        "    if u == stop: return path\n",
        "    for w in Γ_1(u):\n",
        "      if not w in seen:\n",
        "        # il percorso esteso è ottenuto accodando la parola adiacente \n",
        "        augmented_path = path +(w, )\n",
        "        Q.enqueue(augmented_path) \n",
        "  return None"
      ]
    },
    {
      "cell_type": "code",
      "execution_count": null,
      "metadata": {},
      "outputs": [
        {
          "data": {
            "text/plain": [
              "('CASA', 'COSA', 'OSA', 'SA', 'SIA', 'MIA')"
            ]
          },
          "execution_count": 10,
          "metadata": {},
          "output_type": "execute_result"
        }
      ],
      "source": [
        "visit('CASA', 'MIA')"
      ]
    }
  ],
  "metadata": {
    "interpreter": {
      "hash": "e1004562009730290f42c30a7c24060925c35420ba84516473ad07a3f1950c5d"
    },
    "kernelspec": {
      "display_name": "Python 3.8.10 ('named-let-liblet')",
      "language": "python",
      "name": "python3"
    },
    "language_info": {
      "codemirror_mode": {
        "name": "ipython",
        "version": 3
      },
      "file_extension": ".py",
      "mimetype": "text/x-python",
      "name": "python",
      "nbconvert_exporter": "python",
      "pygments_lexer": "ipython3"
    }
  },
  "nbformat": 4,
  "nbformat_minor": 2
}
