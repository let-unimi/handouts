{
 "cells": [
  {
   "cell_type": "markdown",
   "metadata": {},
   "source": [
    "# Handouts\n",
    "\n",
    "Questo repository contiene gli *handout* dell'insegnamento di [Linguaggi e traduttori](https://let.di.unimi.it/) dell'[Università degli Studi di Milano](http://www.unimi.it/).\n",
    "\n",
    "Il materiale di questo repository (aggiornato periodicamente) consiste nella collezione dei *notebook* del docente sostanzialmente nella forma in cui si trovano al termine di ciascuna lezione. Per questa ragione il suo contenuto **non è assolutamente inteso come sostituivo dei libri di testo e della documentazione suggerita** e in nessun caso è da ritenersi *esaustivo* e *privo di errori*, ma **è provvisto al solo scopo di consentire agli studenti di ripercorrere i passi visti a lezione** (poiché i notebook sono nella maggior parte dei casi *privi di commenti* e *non sono corredati da alcun testo esplicativo*, risulteranno probabilmente incomprensibili per chi non ha frequentato le lezioni).\n",
    "\n",
    "Per favore, accertatevi che la versione riportata dalla cella seguente coincida con l'[ultima versione ](https://pypi.org/project/liblet/) distribuita della libreria."
   ]
  },
  {
   "cell_type": "code",
   "execution_count": null,
   "metadata": {},
   "outputs": [],
   "source": [
    "from liblet import __version__\n",
    "__version__"
   ]
  }
 ],
 "metadata": {
  "kernelspec": {
   "display_name": "Python 3",
   "language": "python",
   "name": "python3"
  },
  "language_info": {
   "codemirror_mode": {
    "name": "ipython",
    "version": 3
   },
   "file_extension": ".py",
   "mimetype": "text/x-python",
   "name": "python",
   "nbconvert_exporter": "python",
   "pygments_lexer": "ipython3",
   "version": "3.8.5"
  }
 },
 "nbformat": 4,
 "nbformat_minor": 2
}
