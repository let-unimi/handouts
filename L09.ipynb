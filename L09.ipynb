{
  "cells": [
    {
      "cell_type": "markdown",
      "metadata": {},
      "source": [
        "# La forma normale di Chomsky"
      ]
    },
    {
      "cell_type": "code",
      "execution_count": null,
      "metadata": {},
      "outputs": [],
      "source": [
        "from liblet import Grammar, Production, Derivation, ProductionGraph, closure, prods2table, cyk2table"
      ]
    },
    {
      "cell_type": "markdown",
      "metadata": {},
      "source": [
        "## Eliminazione ε-regole (Sez. 4.2.3.1)"
      ]
    },
    {
      "cell_type": "code",
      "execution_count": null,
      "metadata": {},
      "outputs": [],
      "source": [
        "@closure\n",
        "def replace_in_rhs(G, A):\n",
        "    Ap = A + '’'\n",
        "    prods = set()\n",
        "    for B, β in G.P:\n",
        "        if A in β:\n",
        "            pos = β.index(A)\n",
        "            rhs = β[:pos] + β[pos + 1:]\n",
        "            if len(rhs) == 0: rhs = ('ε', )\n",
        "            prods.add(Production(B, rhs))\n",
        "            prods.add(Production(B, β[:pos] + (Ap, ) + β[pos + 1:]))\n",
        "        else:\n",
        "            prods.add(Production(B, β))    \n",
        "    return Grammar(G.N | {Ap}, G.T, prods, G.S)"
      ]
    },
    {
      "cell_type": "code",
      "execution_count": null,
      "metadata": {},
      "outputs": [
        {
          "data": {
            "text/html": [
              "<table class=\"table-bordered\"><tr><th><pre>S</pre><td style=\"text-align:left\"><pre>x A’ y A’ z | x A’ y z | x y A’ z | x y z</pre><tr><th><pre>A</pre><td style=\"text-align:left\"><pre>a</pre><tr><th><pre>A’</pre><td style=\"text-align:left\"><pre></pre></table>"
            ],
            "text/plain": [
              "<IPython.core.display.HTML object>"
            ]
          },
          "execution_count": 3,
          "metadata": {},
          "output_type": "execute_result"
        }
      ],
      "source": [
        "# esempio d'uso\n",
        "\n",
        "U = Grammar.from_string(\"\"\"\n",
        "S -> x A y A z\n",
        "A -> a\n",
        "\"\"\")\n",
        "\n",
        "prods2table(replace_in_rhs(U, 'A'))"
      ]
    },
    {
      "cell_type": "code",
      "execution_count": null,
      "metadata": {},
      "outputs": [],
      "source": [
        "@closure\n",
        "def inline_ε_rules(G_seen):\n",
        "    G, seen = G_seen\n",
        "    for A in G.N - seen:\n",
        "        if ('ε', ) in G.alternatives(A):\n",
        "            return replace_in_rhs(G, A), seen | {A}\n",
        "    return G, seen"
      ]
    },
    {
      "cell_type": "code",
      "execution_count": null,
      "metadata": {},
      "outputs": [
        {
          "data": {
            "text/html": [
              "<table class=\"table-bordered\"><tr><th><pre>S</pre><td style=\"text-align:left\"><pre>A’ | ε</pre><tr><th><pre>A</pre><td style=\"text-align:left\"><pre>B’ | B’ C’ | C’ | ε</pre><tr><th><pre>A’</pre><td style=\"text-align:left\"><pre></pre><tr><th><pre>B</pre><td style=\"text-align:left\"><pre>ε</pre><tr><th><pre>B’</pre><td style=\"text-align:left\"><pre></pre><tr><th><pre>C</pre><td style=\"text-align:left\"><pre>ε</pre><tr><th><pre>C’</pre><td style=\"text-align:left\"><pre></pre><tr><th><pre>S’</pre><td style=\"text-align:left\"><pre></pre></table>"
            ],
            "text/plain": [
              "<IPython.core.display.HTML object>"
            ]
          },
          "execution_count": 5,
          "metadata": {},
          "output_type": "execute_result"
        }
      ],
      "source": [
        "# esempio d'uso\n",
        "\n",
        "U = Grammar.from_string(\"\"\"\n",
        "S -> A\n",
        "A -> B C\n",
        "B -> ε\n",
        "C -> ε\n",
        "\"\"\")\n",
        "\n",
        "prods2table(inline_ε_rules((U, set()))[0])"
      ]
    },
    {
      "cell_type": "code",
      "execution_count": null,
      "metadata": {},
      "outputs": [],
      "source": [
        "def eliminate_ε_rules(G):\n",
        "    Gp, _ = inline_ε_rules((G, set()))\n",
        "    prods = set(Gp.P)\n",
        "    for Ap in Gp.N - G.N:\n",
        "        A = Ap[:-1]\n",
        "        for α in set(Gp.alternatives(A)) - {('ε', )}:\n",
        "            prods.add(Production(Ap, α))\n",
        "    return Grammar(Gp.N, Gp.T, prods, Gp.S)"
      ]
    },
    {
      "cell_type": "code",
      "execution_count": null,
      "metadata": {},
      "outputs": [
        {
          "data": {
            "text/html": [
              "<table class=\"table-bordered\"><tr><th><pre>S</pre><td style=\"text-align:left\"><pre>L’ a | L’ a M’ | a | a M’</pre><tr><th><pre>L</pre><td style=\"text-align:left\"><pre>L’ | L’ M’ | M’ | ε</pre><tr><th><pre>L’</pre><td style=\"text-align:left\"><pre>L’ | L’ M’ | M’</pre><tr><th><pre>M</pre><td style=\"text-align:left\"><pre>M’ | M’ M’ | ε</pre><tr><th><pre>M’</pre><td style=\"text-align:left\"><pre>M’ | M’ M’</pre></table>"
            ],
            "text/plain": [
              "<IPython.core.display.HTML object>"
            ]
          },
          "execution_count": 7,
          "metadata": {},
          "output_type": "execute_result"
        }
      ],
      "source": [
        "# esempio d'uso (fig. 4.10, pag. 120)\n",
        "\n",
        "U = Grammar.from_string(\"\"\"\n",
        "S -> L a M\n",
        "L -> L M \n",
        "L -> ε\n",
        "M -> M M\n",
        "M -> ε\n",
        "\"\"\")\n",
        "\n",
        "prods2table(eliminate_ε_rules(U))"
      ]
    },
    {
      "cell_type": "markdown",
      "metadata": {},
      "source": [
        "## Eliminazione regole unitarie (Sez. 4.2.3.2)"
      ]
    },
    {
      "cell_type": "code",
      "execution_count": null,
      "metadata": {},
      "outputs": [],
      "source": [
        "def eliminate_unit_rules(G):\n",
        "    @closure\n",
        "    def _eliminate_unit_rules(G_seen):\n",
        "        G, seen = G_seen\n",
        "        for P in set(filter(Production.such_that(rhs_len = 1), G.P)) - seen:\n",
        "            A, (B, ) = P\n",
        "            if B in G.N:            \n",
        "                prods = (set(G.P) | {Production(A, α) for α in G.alternatives(B)}) - {P}\n",
        "                return Grammar(G.N, G.T, prods, G.S), seen | {P}\n",
        "        return G, seen\n",
        "    return _eliminate_unit_rules((G, set()))[0]"
      ]
    },
    {
      "cell_type": "code",
      "execution_count": null,
      "metadata": {},
      "outputs": [
        {
          "data": {
            "text/html": [
              "<table class=\"table-bordered\"><tr><th><pre>S</pre><td style=\"text-align:left\"><pre>b</pre><tr><th><pre>A</pre><td style=\"text-align:left\"><pre>b</pre><tr><th><pre>B</pre><td style=\"text-align:left\"><pre>b</pre></table>"
            ],
            "text/plain": [
              "<IPython.core.display.HTML object>"
            ]
          },
          "execution_count": 9,
          "metadata": {},
          "output_type": "execute_result"
        }
      ],
      "source": [
        "# esempio d'uso\n",
        "\n",
        "U = Grammar.from_string(\"\"\"\n",
        "S -> A\n",
        "A -> B\n",
        "B -> A | b\n",
        "\"\"\")\n",
        "\n",
        "prods2table(eliminate_unit_rules(U))"
      ]
    },
    {
      "cell_type": "markdown",
      "metadata": {},
      "source": [
        "### Un esempio più elaborato"
      ]
    },
    {
      "cell_type": "code",
      "execution_count": null,
      "metadata": {},
      "outputs": [],
      "source": [
        "# fig. 4.6, pag. 112\n",
        "\n",
        "G = Grammar.from_string(\"\"\"\n",
        "Number -> Integer | Real\n",
        "Integer -> Digit | Integer Digit\n",
        "Real -> Integer Fraction Scale\n",
        "Fraction -> . Integer\n",
        "Scale -> e Sign Integer | Empty\n",
        "Digit -> 0 | 1 | 2 | 3 | 4 | 5 | 6 | 7 | 8 | 9\n",
        "Sign -> + | -\n",
        "Empty -> ε\n",
        "\"\"\")"
      ]
    },
    {
      "cell_type": "code",
      "execution_count": null,
      "metadata": {},
      "outputs": [
        {
          "data": {
            "text/html": [
              "<table class=\"table-bordered\"><tr><th><pre>Number</pre><td style=\"text-align:left\"><pre>Integer | Real</pre><tr><th><pre>Digit</pre><td style=\"text-align:left\"><pre>0 | 1 | 2 | 3 | 4 | 5 | 6 | 7 | 8 | 9</pre><tr><th><pre>Empty</pre><td style=\"text-align:left\"><pre>ε</pre><tr><th><pre>Empty’</pre><td style=\"text-align:left\"><pre></pre><tr><th><pre>Fraction</pre><td style=\"text-align:left\"><pre>. Integer</pre><tr><th><pre>Integer</pre><td style=\"text-align:left\"><pre>Digit | Integer Digit</pre><tr><th><pre>Real</pre><td style=\"text-align:left\"><pre>Integer Fraction | Integer Fraction Scale’</pre><tr><th><pre>Scale</pre><td style=\"text-align:left\"><pre>Empty’ | e Sign Integer | ε</pre><tr><th><pre>Scale’</pre><td style=\"text-align:left\"><pre>Empty’ | e Sign Integer</pre><tr><th><pre>Sign</pre><td style=\"text-align:left\"><pre>+ | -</pre></table>"
            ],
            "text/plain": [
              "<IPython.core.display.HTML object>"
            ]
          },
          "execution_count": 11,
          "metadata": {},
          "output_type": "execute_result"
        }
      ],
      "source": [
        "# fig. 4.12, pag. 120 (a meno di Empty’)\n",
        "\n",
        "prods2table(eliminate_ε_rules(G))"
      ]
    },
    {
      "cell_type": "code",
      "execution_count": null,
      "metadata": {},
      "outputs": [
        {
          "data": {
            "text/html": [
              "<table class=\"table-bordered\"><tr><th><pre>Number</pre><td style=\"text-align:left\"><pre>0 | 1 | 2 | 3 | 4 | 5 | 6 | 7 | 8 | 9 | Integer Digit | Integer Fraction | Integer Fraction Scale’</pre><tr><th><pre>Digit</pre><td style=\"text-align:left\"><pre>0 | 1 | 2 | 3 | 4 | 5 | 6 | 7 | 8 | 9</pre><tr><th><pre>Empty</pre><td style=\"text-align:left\"><pre>ε</pre><tr><th><pre>Empty’</pre><td style=\"text-align:left\"><pre></pre><tr><th><pre>Fraction</pre><td style=\"text-align:left\"><pre>. Integer</pre><tr><th><pre>Integer</pre><td style=\"text-align:left\"><pre>0 | 1 | 2 | 3 | 4 | 5 | 6 | 7 | 8 | 9 | Integer Digit</pre><tr><th><pre>Real</pre><td style=\"text-align:left\"><pre>Integer Fraction | Integer Fraction Scale’</pre><tr><th><pre>Scale</pre><td style=\"text-align:left\"><pre>e Sign Integer | ε</pre><tr><th><pre>Scale’</pre><td style=\"text-align:left\"><pre>e Sign Integer</pre><tr><th><pre>Sign</pre><td style=\"text-align:left\"><pre>+ | -</pre></table>"
            ],
            "text/plain": [
              "<IPython.core.display.HTML object>"
            ]
          },
          "execution_count": 12,
          "metadata": {},
          "output_type": "execute_result"
        }
      ],
      "source": [
        "# fig. 4.13, pag. 121\n",
        "\n",
        "Gp = eliminate_unit_rules(eliminate_ε_rules(G))\n",
        "prods2table(Gp)"
      ]
    },
    {
      "cell_type": "markdown",
      "metadata": {},
      "source": [
        "## Eliminare regole/simboli non produttive e  non raggiungibili (Sez. 2.9.5.1-2)"
      ]
    },
    {
      "cell_type": "code",
      "execution_count": null,
      "metadata": {},
      "outputs": [],
      "source": [
        "from L09 import remove_unproductive_unreachable"
      ]
    },
    {
      "cell_type": "code",
      "execution_count": null,
      "metadata": {},
      "outputs": [
        {
          "data": {
            "text/html": [
              "<table class=\"table-bordered\"><tr><th><pre>Number</pre><td style=\"text-align:left\"><pre>0 | 1 | 2 | 3 | 4 | 5 | 6 | 7 | 8 | 9 | Integer Digit | Integer Fraction | Integer Fraction Scale’</pre><tr><th><pre>Digit</pre><td style=\"text-align:left\"><pre>0 | 1 | 2 | 3 | 4 | 5 | 6 | 7 | 8 | 9</pre><tr><th><pre>Fraction</pre><td style=\"text-align:left\"><pre>. Integer</pre><tr><th><pre>Integer</pre><td style=\"text-align:left\"><pre>0 | 1 | 2 | 3 | 4 | 5 | 6 | 7 | 8 | 9 | Integer Digit</pre><tr><th><pre>Scale’</pre><td style=\"text-align:left\"><pre>e Sign Integer</pre><tr><th><pre>Sign</pre><td style=\"text-align:left\"><pre>+ | -</pre></table>"
            ],
            "text/plain": [
              "<IPython.core.display.HTML object>"
            ]
          },
          "execution_count": 14,
          "metadata": {},
          "output_type": "execute_result"
        }
      ],
      "source": [
        "# fig. 4.14, pag. 122\n",
        "\n",
        "Gp_clean = remove_unproductive_unreachable(Gp)\n",
        "prods2table(Gp_clean)"
      ]
    },
    {
      "cell_type": "markdown",
      "metadata": {},
      "source": [
        "## Riduzione in forma normale"
      ]
    },
    {
      "cell_type": "markdown",
      "metadata": {},
      "source": [
        "### Caso $A\\to \\alpha a \\beta$"
      ]
    },
    {
      "cell_type": "code",
      "execution_count": null,
      "metadata": {},
      "outputs": [],
      "source": [
        "def transform_nonsolitary(G):\n",
        "    prods = set()\n",
        "    for A, α in G.P:\n",
        "        if len(α) > 1 and set(α) & G.T:\n",
        "            rhs = []\n",
        "            for x in α:\n",
        "                if x in G.T:\n",
        "                    N = 'N{}'.format(x)\n",
        "                    prods.add(Production(N, (x, )))\n",
        "                    rhs.append(N)\n",
        "                else:\n",
        "                    rhs.append(x)\n",
        "            prods.add(Production(A, rhs))\n",
        "        else:            \n",
        "            prods.add(Production(A, α))\n",
        "    return Grammar(G.N | {A for A, α in prods}, G.T, prods, G.S)"
      ]
    },
    {
      "cell_type": "code",
      "execution_count": null,
      "metadata": {},
      "outputs": [
        {
          "data": {
            "text/html": [
              "<table class=\"table-bordered\"><tr><th><pre>S</pre><td style=\"text-align:left\"><pre>Nx S Ny S Nx</pre><tr><th><pre>Nx</pre><td style=\"text-align:left\"><pre>x</pre><tr><th><pre>Ny</pre><td style=\"text-align:left\"><pre>y</pre></table>"
            ],
            "text/plain": [
              "<IPython.core.display.HTML object>"
            ]
          },
          "execution_count": 16,
          "metadata": {},
          "output_type": "execute_result"
        }
      ],
      "source": [
        "# esempio d'uso\n",
        "\n",
        "U = Grammar.from_string(\"\"\"\n",
        "S -> x S y S x\n",
        "\"\"\")\n",
        "\n",
        "prods2table(transform_nonsolitary(U))"
      ]
    },
    {
      "cell_type": "markdown",
      "metadata": {},
      "source": [
        "### Caso $A\\to X_1 X_2\\ldots X_n$"
      ]
    },
    {
      "cell_type": "code",
      "execution_count": null,
      "metadata": {},
      "outputs": [],
      "source": [
        "def make_binary(G):\n",
        "    prods = set()\n",
        "    for A, α in G.P:\n",
        "        if len(α) > 2:\n",
        "            Ai = '{}{}'.format(A, 1)\n",
        "            prods.add(Production(Ai, α[:2]))\n",
        "            for i, Xi in enumerate(α[2:-1], 2):\n",
        "                prods.add(Production('{}{}'.format(A, i), (Ai, Xi)))\n",
        "                Ai = '{}{}'.format(A, i)\n",
        "            prods.add(Production(A, (Ai, α[-1])))\n",
        "        else:\n",
        "            prods.add(Production(A, α))\n",
        "    return Grammar(G.N | {A for A, α in prods}, G.T, prods, G.S)"
      ]
    },
    {
      "cell_type": "code",
      "execution_count": null,
      "metadata": {},
      "outputs": [
        {
          "data": {
            "text/html": [
              "<table class=\"table-bordered\"><tr><th><pre>S</pre><td style=\"text-align:left\"><pre>S2 D</pre><tr><th><pre>S1</pre><td style=\"text-align:left\"><pre>A B</pre><tr><th><pre>S2</pre><td style=\"text-align:left\"><pre>S1 C</pre></table>"
            ],
            "text/plain": [
              "<IPython.core.display.HTML object>"
            ]
          },
          "execution_count": 18,
          "metadata": {},
          "output_type": "execute_result"
        }
      ],
      "source": [
        "# esempio d'uso\n",
        "\n",
        "U = Grammar.from_string(\"\"\"\n",
        "S -> A B C D\n",
        "\"\"\")\n",
        "\n",
        "prods2table(make_binary(U))"
      ]
    },
    {
      "cell_type": "markdown",
      "metadata": {},
      "source": [
        "### Di nuovo, l'esempio più elaborato"
      ]
    },
    {
      "cell_type": "code",
      "execution_count": null,
      "metadata": {},
      "outputs": [
        {
          "data": {
            "text/html": [
              "<table class=\"table-bordered\"><tr><th><pre>Number</pre><td style=\"text-align:left\"><pre>0 | 1 | 2 | 3 | 4 | 5 | 6 | 7 | 8 | 9 | Integer Digit | Integer Fraction | Number1 Scale’</pre><tr><th><pre>Digit</pre><td style=\"text-align:left\"><pre>0 | 1 | 2 | 3 | 4 | 5 | 6 | 7 | 8 | 9</pre><tr><th><pre>Fraction</pre><td style=\"text-align:left\"><pre>N. Integer</pre><tr><th><pre>Integer</pre><td style=\"text-align:left\"><pre>0 | 1 | 2 | 3 | 4 | 5 | 6 | 7 | 8 | 9 | Integer Digit</pre><tr><th><pre>N.</pre><td style=\"text-align:left\"><pre>.</pre><tr><th><pre>Ne</pre><td style=\"text-align:left\"><pre>e</pre><tr><th><pre>Number1</pre><td style=\"text-align:left\"><pre>Integer Fraction</pre><tr><th><pre>Scale’</pre><td style=\"text-align:left\"><pre>Scale’1 Integer</pre><tr><th><pre>Scale’1</pre><td style=\"text-align:left\"><pre>Ne Sign</pre><tr><th><pre>Sign</pre><td style=\"text-align:left\"><pre>+ | -</pre></table>"
            ],
            "text/plain": [
              "<IPython.core.display.HTML object>"
            ]
          },
          "execution_count": 19,
          "metadata": {},
          "output_type": "execute_result"
        }
      ],
      "source": [
        "# fig. 4.15, pag. 123 (rinominando alcuni non terminali)\n",
        "\n",
        "G_cnf = make_binary(transform_nonsolitary(Gp_clean))\n",
        "prods2table(G_cnf)"
      ]
    },
    {
      "cell_type": "markdown",
      "metadata": {},
      "source": [
        "# Parsing CYK con  G in forma CNF"
      ]
    },
    {
      "cell_type": "code",
      "execution_count": null,
      "metadata": {},
      "outputs": [],
      "source": [
        "from L09 import cyk"
      ]
    },
    {
      "cell_type": "code",
      "execution_count": null,
      "metadata": {},
      "outputs": [
        {
          "data": {
            "text/html": [
              "<table class=\"table-bordered\"><tr><td style=\"text-align:left\"><pre>Number</pre></td><tr><td style=\"text-align:left\"><pre>&nbsp;</pre></td><td style=\"text-align:left\"><pre>Number</pre></td><tr><td style=\"text-align:left\"><pre>&nbsp;</pre></td><td style=\"text-align:left\"><pre>&nbsp;</pre></td><td style=\"text-align:left\"><pre>&nbsp;</pre></td><tr><td style=\"text-align:left\"><pre>Number\n",
              "Number1</pre></td><td style=\"text-align:left\"><pre>&nbsp;</pre></td><td style=\"text-align:left\"><pre>&nbsp;</pre></td><td style=\"text-align:left\"><pre>&nbsp;</pre></td><tr><td style=\"text-align:left\"><pre>&nbsp;</pre></td><td style=\"text-align:left\"><pre>Number\n",
              "Number1</pre></td><td style=\"text-align:left\"><pre>&nbsp;</pre></td><td style=\"text-align:left\"><pre>&nbsp;</pre></td><td style=\"text-align:left\"><pre>Scale’</pre></td><tr><td style=\"text-align:left\"><pre>Integer\n",
              "Number</pre></td><td style=\"text-align:left\"><pre>&nbsp;</pre></td><td style=\"text-align:left\"><pre>Fraction</pre></td><td style=\"text-align:left\"><pre>&nbsp;</pre></td><td style=\"text-align:left\"><pre>Scale’1</pre></td><td style=\"text-align:left\"><pre>&nbsp;</pre></td><tr><td style=\"text-align:left\"><pre>Digit\n",
              "Integer\n",
              "Number</pre></td><td style=\"text-align:left\"><pre>Digit\n",
              "Integer\n",
              "Number</pre></td><td style=\"text-align:left\"><pre>N.</pre></td><td style=\"text-align:left\"><pre>Digit\n",
              "Integer\n",
              "Number</pre></td><td style=\"text-align:left\"><pre>Ne</pre></td><td style=\"text-align:left\"><pre>Sign</pre></td><td style=\"text-align:left\"><pre>Digit\n",
              "Integer\n",
              "Number</pre></td></table>"
            ],
            "text/plain": [
              "<IPython.core.display.HTML object>"
            ]
          },
          "execution_count": 21,
          "metadata": {},
          "output_type": "execute_result"
        }
      ],
      "source": [
        "# fig. 4.16, pag. 123\n",
        "\n",
        "INPUT = '32.5e+1'\n",
        "R = cyk(G_cnf, INPUT)\n",
        "cyk2table(R)"
      ]
    },
    {
      "cell_type": "markdown",
      "metadata": {},
      "source": [
        "## Una derivazione leftmost"
      ]
    },
    {
      "cell_type": "code",
      "execution_count": null,
      "metadata": {},
      "outputs": [],
      "source": [
        "def get_leftmost_prods(G, R, INPUT):\n",
        "    def prods(X, i, l):\n",
        "        if l == 1:\n",
        "            return [G.P.index(Production(X, (INPUT[i - 1],)))]\n",
        "        for A, (B, C) in filter(Production.such_that(lhs = X, rhs_len = 2), G.P):\n",
        "            for k in range(1, l):\n",
        "                if B in R[(i, k)] and C in R[(i + k, l - k)]:\n",
        "                    return [G.P.index(Production(A, (B, C)))] + prods(B, i, k) + prods(C, i + k, l - k)\n",
        "    return prods(G.S, 1, len(INPUT))            "
      ]
    },
    {
      "cell_type": "code",
      "execution_count": null,
      "metadata": {},
      "outputs": [
        {
          "data": {
            "text/plain": [
              "[41, 33, 15, 14, 21, 18, 7, 29, 40, 13, 17, 3, 5]"
            ]
          },
          "execution_count": 23,
          "metadata": {},
          "output_type": "execute_result"
        }
      ],
      "source": [
        "prods = get_leftmost_prods(G_cnf, R, INPUT)\n",
        "prods"
      ]
    },
    {
      "cell_type": "code",
      "execution_count": null,
      "metadata": {},
      "outputs": [
        {
          "data": {
            "image/svg+xml": [
              "<?xml version=\"1.0\" encoding=\"UTF-8\" standalone=\"no\"?>\n",
              "<!DOCTYPE svg PUBLIC \"-//W3C//DTD SVG 1.1//EN\"\n",
              " \"http://www.w3.org/Graphics/SVG/1.1/DTD/svg11.dtd\">\n",
              "<!-- Generated by graphviz version 2.43.0 (0)\n",
              " -->\n",
              "<!-- Title: %3 Pages: 1 -->\n",
              "<svg width=\"342pt\" height=\"190pt\"\n",
              " viewBox=\"0.00 0.00 342.32 190.00\" xmlns=\"http://www.w3.org/2000/svg\" xmlns:xlink=\"http://www.w3.org/1999/xlink\">\n",
              "<g id=\"graph0\" class=\"graph\" transform=\"scale(1 1) rotate(0) translate(4 186)\">\n",
              "<title>%3</title>\n",
              "<polygon fill=\"white\" stroke=\"transparent\" points=\"-4,4 -4,-186 338.32,-186 338.32,4 -4,4\"/>\n",
              "<!-- &#45;5035192240348857660 -->\n",
              "<g id=\"node1\" class=\"node\">\n",
              "<title>&#45;5035192240348857660</title>\n",
              "<path fill=\"none\" stroke=\"black\" stroke-width=\"0.25\" d=\"M217.36,-182C217.36,-182 178.28,-182 178.28,-182 174.61,-182 170.94,-178.33 170.94,-174.67 170.94,-174.67 170.94,-167.33 170.94,-167.33 170.94,-163.67 174.61,-160 178.28,-160 178.28,-160 217.36,-160 217.36,-160 221.03,-160 224.7,-163.67 224.7,-167.33 224.7,-167.33 224.7,-174.67 224.7,-174.67 224.7,-178.33 221.03,-182 217.36,-182\"/>\n",
              "<text text-anchor=\"middle\" x=\"197.82\" y=\"-166.8\" font-family=\"Times,serif\" font-size=\"14.00\">Number</text>\n",
              "</g>\n",
              "<!-- 4635979334424492712 -->\n",
              "<g id=\"node2\" class=\"node\">\n",
              "<title>4635979334424492712</title>\n",
              "<path fill=\"none\" stroke=\"black\" stroke-width=\"0.25\" d=\"M185.86,-142C185.86,-142 139.78,-142 139.78,-142 136.11,-142 132.44,-138.33 132.44,-134.67 132.44,-134.67 132.44,-127.33 132.44,-127.33 132.44,-123.67 136.11,-120 139.78,-120 139.78,-120 185.86,-120 185.86,-120 189.53,-120 193.2,-123.67 193.2,-127.33 193.2,-127.33 193.2,-134.67 193.2,-134.67 193.2,-138.33 189.53,-142 185.86,-142\"/>\n",
              "<text text-anchor=\"middle\" x=\"162.82\" y=\"-126.8\" font-family=\"Times,serif\" font-size=\"14.00\">Number1</text>\n",
              "</g>\n",
              "<!-- &#45;5035192240348857660&#45;&gt;4635979334424492712 -->\n",
              "<g id=\"edge1\" class=\"edge\">\n",
              "<title>&#45;5035192240348857660&#45;&gt;4635979334424492712</title>\n",
              "<path fill=\"none\" stroke=\"black\" stroke-width=\"0.5\" d=\"M188.26,-159.62C183.24,-154.17 177.11,-147.52 172.13,-142.11\"/>\n",
              "</g>\n",
              "<!-- 8883300777659691060 -->\n",
              "<g id=\"node3\" class=\"node\">\n",
              "<title>8883300777659691060</title>\n",
              "<path fill=\"none\" stroke=\"black\" stroke-width=\"0.25\" d=\"M250.97,-142C250.97,-142 222.67,-142 222.67,-142 219.01,-142 215.34,-138.33 215.34,-134.67 215.34,-134.67 215.34,-127.33 215.34,-127.33 215.34,-123.67 219.01,-120 222.67,-120 222.67,-120 250.97,-120 250.97,-120 254.63,-120 258.3,-123.67 258.3,-127.33 258.3,-127.33 258.3,-134.67 258.3,-134.67 258.3,-138.33 254.63,-142 250.97,-142\"/>\n",
              "<text text-anchor=\"middle\" x=\"236.82\" y=\"-126.8\" font-family=\"Times,serif\" font-size=\"14.00\">Scale’</text>\n",
              "</g>\n",
              "<!-- &#45;5035192240348857660&#45;&gt;8883300777659691060 -->\n",
              "<g id=\"edge2\" class=\"edge\">\n",
              "<title>&#45;5035192240348857660&#45;&gt;8883300777659691060</title>\n",
              "<path fill=\"none\" stroke=\"black\" stroke-width=\"0.5\" d=\"M208.48,-159.62C214.07,-154.17 220.9,-147.52 226.45,-142.11\"/>\n",
              "</g>\n",
              "<!-- 4635979334424492712&#45;&gt;8883300777659691060 -->\n",
              "<!-- &#45;7330091773462129730 -->\n",
              "<g id=\"node4\" class=\"node\">\n",
              "<title>&#45;7330091773462129730</title>\n",
              "<path fill=\"none\" stroke=\"black\" stroke-width=\"0.25\" d=\"M102.13,-102C102.13,-102 69.51,-102 69.51,-102 65.84,-102 62.18,-98.33 62.18,-94.67 62.18,-94.67 62.18,-87.33 62.18,-87.33 62.18,-83.67 65.84,-80 69.51,-80 69.51,-80 102.13,-80 102.13,-80 105.8,-80 109.46,-83.67 109.46,-87.33 109.46,-87.33 109.46,-94.67 109.46,-94.67 109.46,-98.33 105.8,-102 102.13,-102\"/>\n",
              "<text text-anchor=\"middle\" x=\"85.82\" y=\"-86.8\" font-family=\"Times,serif\" font-size=\"14.00\">Integer</text>\n",
              "</g>\n",
              "<!-- 4635979334424492712&#45;&gt;&#45;7330091773462129730 -->\n",
              "<g id=\"edge4\" class=\"edge\">\n",
              "<title>4635979334424492712&#45;&gt;&#45;7330091773462129730</title>\n",
              "<path fill=\"none\" stroke=\"black\" stroke-width=\"0.5\" d=\"M142.19,-119.82C131.05,-114.32 117.35,-107.56 106.25,-102.08\"/>\n",
              "</g>\n",
              "<!-- 3961055611570576773 -->\n",
              "<g id=\"node5\" class=\"node\">\n",
              "<title>3961055611570576773</title>\n",
              "<path fill=\"none\" stroke=\"black\" stroke-width=\"0.25\" d=\"M175.64,-102C175.64,-102 136,-102 136,-102 132.33,-102 128.66,-98.33 128.66,-94.67 128.66,-94.67 128.66,-87.33 128.66,-87.33 128.66,-83.67 132.33,-80 136,-80 136,-80 175.64,-80 175.64,-80 179.31,-80 182.98,-83.67 182.98,-87.33 182.98,-87.33 182.98,-94.67 182.98,-94.67 182.98,-98.33 179.31,-102 175.64,-102\"/>\n",
              "<text text-anchor=\"middle\" x=\"155.82\" y=\"-86.8\" font-family=\"Times,serif\" font-size=\"14.00\">Fraction</text>\n",
              "</g>\n",
              "<!-- 4635979334424492712&#45;&gt;3961055611570576773 -->\n",
              "<g id=\"edge5\" class=\"edge\">\n",
              "<title>4635979334424492712&#45;&gt;3961055611570576773</title>\n",
              "<path fill=\"none\" stroke=\"black\" stroke-width=\"0.5\" d=\"M160.91,-119.62C159.9,-114.17 158.68,-107.52 157.68,-102.11\"/>\n",
              "</g>\n",
              "<!-- &#45;8019481910788155886 -->\n",
              "<g id=\"node14\" class=\"node\">\n",
              "<title>&#45;8019481910788155886</title>\n",
              "<path fill=\"none\" stroke=\"black\" stroke-width=\"0.25\" d=\"M255.47,-102C255.47,-102 220.17,-102 220.17,-102 216.51,-102 212.84,-98.33 212.84,-94.67 212.84,-94.67 212.84,-87.33 212.84,-87.33 212.84,-83.67 216.51,-80 220.17,-80 220.17,-80 255.47,-80 255.47,-80 259.13,-80 262.8,-83.67 262.8,-87.33 262.8,-87.33 262.8,-94.67 262.8,-94.67 262.8,-98.33 259.13,-102 255.47,-102\"/>\n",
              "<text text-anchor=\"middle\" x=\"237.82\" y=\"-86.8\" font-family=\"Times,serif\" font-size=\"14.00\">Scale’1</text>\n",
              "</g>\n",
              "<!-- 8883300777659691060&#45;&gt;&#45;8019481910788155886 -->\n",
              "<g id=\"edge17\" class=\"edge\">\n",
              "<title>8883300777659691060&#45;&gt;&#45;8019481910788155886</title>\n",
              "<path fill=\"none\" stroke=\"black\" stroke-width=\"0.5\" d=\"M237.09,-119.62C237.24,-114.17 237.41,-107.52 237.55,-102.11\"/>\n",
              "</g>\n",
              "<!-- &#45;7330080422687975274 -->\n",
              "<g id=\"node15\" class=\"node\">\n",
              "<title>&#45;7330080422687975274</title>\n",
              "<path fill=\"none\" stroke=\"black\" stroke-width=\"0.25\" d=\"M321.13,-102C321.13,-102 288.51,-102 288.51,-102 284.84,-102 281.18,-98.33 281.18,-94.67 281.18,-94.67 281.18,-87.33 281.18,-87.33 281.18,-83.67 284.84,-80 288.51,-80 288.51,-80 321.13,-80 321.13,-80 324.8,-80 328.46,-83.67 328.46,-87.33 328.46,-87.33 328.46,-94.67 328.46,-94.67 328.46,-98.33 324.8,-102 321.13,-102\"/>\n",
              "<text text-anchor=\"middle\" x=\"304.82\" y=\"-86.8\" font-family=\"Times,serif\" font-size=\"14.00\">Integer</text>\n",
              "</g>\n",
              "<!-- 8883300777659691060&#45;&gt;&#45;7330080422687975274 -->\n",
              "<g id=\"edge18\" class=\"edge\">\n",
              "<title>8883300777659691060&#45;&gt;&#45;7330080422687975274</title>\n",
              "<path fill=\"none\" stroke=\"black\" stroke-width=\"0.5\" d=\"M255.04,-119.82C264.8,-114.36 276.78,-107.67 286.55,-102.21\"/>\n",
              "</g>\n",
              "<!-- &#45;7330091773462129730&#45;&gt;3961055611570576773 -->\n",
              "<!-- &#45;7330093034659128553 -->\n",
              "<g id=\"node6\" class=\"node\">\n",
              "<title>&#45;7330093034659128553</title>\n",
              "<path fill=\"none\" stroke=\"black\" stroke-width=\"0.25\" d=\"M40.13,-62C40.13,-62 7.51,-62 7.51,-62 3.84,-62 0.18,-58.33 0.18,-54.67 0.18,-54.67 0.18,-47.33 0.18,-47.33 0.18,-43.67 3.84,-40 7.51,-40 7.51,-40 40.13,-40 40.13,-40 43.8,-40 47.46,-43.67 47.46,-47.33 47.46,-47.33 47.46,-54.67 47.46,-54.67 47.46,-58.33 43.8,-62 40.13,-62\"/>\n",
              "<text text-anchor=\"middle\" x=\"23.82\" y=\"-46.8\" font-family=\"Times,serif\" font-size=\"14.00\">Integer</text>\n",
              "</g>\n",
              "<!-- &#45;7330091773462129730&#45;&gt;&#45;7330093034659128553 -->\n",
              "<g id=\"edge7\" class=\"edge\">\n",
              "<title>&#45;7330091773462129730&#45;&gt;&#45;7330093034659128553</title>\n",
              "<path fill=\"none\" stroke=\"black\" stroke-width=\"0.5\" d=\"M69.21,-79.82C60.31,-74.36 49.38,-67.67 40.48,-62.21\"/>\n",
              "</g>\n",
              "<!-- &#45;5582201653264078494 -->\n",
              "<g id=\"node7\" class=\"node\">\n",
              "<title>&#45;5582201653264078494</title>\n",
              "<path fill=\"none\" stroke=\"black\" stroke-width=\"0.25\" d=\"M94.77,-62C94.77,-62 72.87,-62 72.87,-62 69.21,-62 65.54,-58.33 65.54,-54.67 65.54,-54.67 65.54,-47.33 65.54,-47.33 65.54,-43.67 69.21,-40 72.87,-40 72.87,-40 94.77,-40 94.77,-40 98.43,-40 102.1,-43.67 102.1,-47.33 102.1,-47.33 102.1,-54.67 102.1,-54.67 102.1,-58.33 98.43,-62 94.77,-62\"/>\n",
              "<text text-anchor=\"middle\" x=\"83.82\" y=\"-46.8\" font-family=\"Times,serif\" font-size=\"14.00\">Digit</text>\n",
              "</g>\n",
              "<!-- &#45;7330091773462129730&#45;&gt;&#45;5582201653264078494 -->\n",
              "<g id=\"edge8\" class=\"edge\">\n",
              "<title>&#45;7330091773462129730&#45;&gt;&#45;5582201653264078494</title>\n",
              "<path fill=\"none\" stroke=\"black\" stroke-width=\"0.5\" d=\"M85.27,-79.62C84.99,-74.17 84.64,-67.52 84.35,-62.11\"/>\n",
              "</g>\n",
              "<!-- &#45;5750199177147512539 -->\n",
              "<g id=\"node10\" class=\"node\">\n",
              "<title>&#45;5750199177147512539</title>\n",
              "<path fill=\"none\" stroke=\"black\" stroke-width=\"0.25\" d=\"M134.36,-62C134.36,-62 127.28,-62 127.28,-62 123.74,-62 120.21,-58.46 120.21,-54.92 120.21,-54.92 120.21,-47.08 120.21,-47.08 120.21,-43.54 123.74,-40 127.28,-40 127.28,-40 134.36,-40 134.36,-40 137.9,-40 141.43,-43.54 141.43,-47.08 141.43,-47.08 141.43,-54.92 141.43,-54.92 141.43,-58.46 137.9,-62 134.36,-62\"/>\n",
              "<text text-anchor=\"middle\" x=\"130.82\" y=\"-46.8\" font-family=\"Times,serif\" font-size=\"14.00\">N.</text>\n",
              "</g>\n",
              "<!-- 3961055611570576773&#45;&gt;&#45;5750199177147512539 -->\n",
              "<g id=\"edge12\" class=\"edge\">\n",
              "<title>3961055611570576773&#45;&gt;&#45;5750199177147512539</title>\n",
              "<path fill=\"none\" stroke=\"black\" stroke-width=\"0.5\" d=\"M148.99,-79.62C145.4,-74.17 141.03,-67.52 137.47,-62.11\"/>\n",
              "</g>\n",
              "<!-- &#45;7330096818251290071 -->\n",
              "<g id=\"node11\" class=\"node\">\n",
              "<title>&#45;7330096818251290071</title>\n",
              "<path fill=\"none\" stroke=\"black\" stroke-width=\"0.25\" d=\"M200.13,-62C200.13,-62 167.51,-62 167.51,-62 163.84,-62 160.18,-58.33 160.18,-54.67 160.18,-54.67 160.18,-47.33 160.18,-47.33 160.18,-43.67 163.84,-40 167.51,-40 167.51,-40 200.13,-40 200.13,-40 203.8,-40 207.46,-43.67 207.46,-47.33 207.46,-47.33 207.46,-54.67 207.46,-54.67 207.46,-58.33 203.8,-62 200.13,-62\"/>\n",
              "<text text-anchor=\"middle\" x=\"183.82\" y=\"-46.8\" font-family=\"Times,serif\" font-size=\"14.00\">Integer</text>\n",
              "</g>\n",
              "<!-- 3961055611570576773&#45;&gt;&#45;7330096818251290071 -->\n",
              "<g id=\"edge13\" class=\"edge\">\n",
              "<title>3961055611570576773&#45;&gt;&#45;7330096818251290071</title>\n",
              "<path fill=\"none\" stroke=\"black\" stroke-width=\"0.5\" d=\"M163.47,-79.62C167.49,-74.17 172.39,-67.52 176.37,-62.11\"/>\n",
              "</g>\n",
              "<!-- &#45;7330093034659128553&#45;&gt;&#45;5582201653264078494 -->\n",
              "<!-- 6438894199460648588 -->\n",
              "<g id=\"node8\" class=\"node\">\n",
              "<title>6438894199460648588</title>\n",
              "<path fill=\"none\" stroke=\"black\" stroke-width=\"1.25\" d=\"M26.32,-22C26.32,-22 21.32,-22 21.32,-22 18.82,-22 16.32,-19.5 16.32,-17 16.32,-17 16.32,-5 16.32,-5 16.32,-2.5 18.82,0 21.32,0 21.32,0 26.32,0 26.32,0 28.82,0 31.32,-2.5 31.32,-5 31.32,-5 31.32,-17 31.32,-17 31.32,-19.5 28.82,-22 26.32,-22\"/>\n",
              "<text text-anchor=\"middle\" x=\"23.82\" y=\"-6.8\" font-family=\"Times,serif\" font-size=\"14.00\">3</text>\n",
              "</g>\n",
              "<!-- &#45;7330093034659128553&#45;&gt;6438894199460648588 -->\n",
              "<g id=\"edge10\" class=\"edge\">\n",
              "<title>&#45;7330093034659128553&#45;&gt;6438894199460648588</title>\n",
              "<path fill=\"none\" stroke=\"black\" stroke-width=\"0.5\" d=\"M23.82,-39.62C23.82,-34.17 23.82,-27.52 23.82,-22.11\"/>\n",
              "</g>\n",
              "<!-- 5781434751593289577 -->\n",
              "<g id=\"node9\" class=\"node\">\n",
              "<title>5781434751593289577</title>\n",
              "<path fill=\"none\" stroke=\"black\" stroke-width=\"1.25\" d=\"M86.32,-22C86.32,-22 81.32,-22 81.32,-22 78.82,-22 76.32,-19.5 76.32,-17 76.32,-17 76.32,-5 76.32,-5 76.32,-2.5 78.82,0 81.32,0 81.32,0 86.32,0 86.32,0 88.82,0 91.32,-2.5 91.32,-5 91.32,-5 91.32,-17 91.32,-17 91.32,-19.5 88.82,-22 86.32,-22\"/>\n",
              "<text text-anchor=\"middle\" x=\"83.82\" y=\"-6.8\" font-family=\"Times,serif\" font-size=\"14.00\">2</text>\n",
              "</g>\n",
              "<!-- &#45;5582201653264078494&#45;&gt;5781434751593289577 -->\n",
              "<g id=\"edge11\" class=\"edge\">\n",
              "<title>&#45;5582201653264078494&#45;&gt;5781434751593289577</title>\n",
              "<path fill=\"none\" stroke=\"black\" stroke-width=\"0.5\" d=\"M83.82,-39.62C83.82,-34.17 83.82,-27.52 83.82,-22.11\"/>\n",
              "</g>\n",
              "<!-- &#45;5750199177147512539&#45;&gt;&#45;7330096818251290071 -->\n",
              "<!-- 8385385785691273601 -->\n",
              "<g id=\"node12\" class=\"node\">\n",
              "<title>8385385785691273601</title>\n",
              "<path fill=\"none\" stroke=\"black\" stroke-width=\"1.25\" d=\"M132.66,-22C132.66,-22 128.98,-22 128.98,-22 127.15,-22 125.31,-20.16 125.31,-18.33 125.31,-18.33 125.31,-3.67 125.31,-3.67 125.31,-1.84 127.15,0 128.98,0 128.98,0 132.66,0 132.66,0 134.49,0 136.33,-1.84 136.33,-3.67 136.33,-3.67 136.33,-18.33 136.33,-18.33 136.33,-20.16 134.49,-22 132.66,-22\"/>\n",
              "<text text-anchor=\"middle\" x=\"130.82\" y=\"-6.8\" font-family=\"Times,serif\" font-size=\"14.00\">.</text>\n",
              "</g>\n",
              "<!-- &#45;5750199177147512539&#45;&gt;8385385785691273601 -->\n",
              "<g id=\"edge15\" class=\"edge\">\n",
              "<title>&#45;5750199177147512539&#45;&gt;8385385785691273601</title>\n",
              "<path fill=\"none\" stroke=\"black\" stroke-width=\"0.5\" d=\"M130.82,-39.62C130.82,-34.17 130.82,-27.52 130.82,-22.11\"/>\n",
              "</g>\n",
              "<!-- 2171856747808736319 -->\n",
              "<g id=\"node13\" class=\"node\">\n",
              "<title>2171856747808736319</title>\n",
              "<path fill=\"none\" stroke=\"black\" stroke-width=\"1.25\" d=\"M186.32,-22C186.32,-22 181.32,-22 181.32,-22 178.82,-22 176.32,-19.5 176.32,-17 176.32,-17 176.32,-5 176.32,-5 176.32,-2.5 178.82,0 181.32,0 181.32,0 186.32,0 186.32,0 188.82,0 191.32,-2.5 191.32,-5 191.32,-5 191.32,-17 191.32,-17 191.32,-19.5 188.82,-22 186.32,-22\"/>\n",
              "<text text-anchor=\"middle\" x=\"183.82\" y=\"-6.8\" font-family=\"Times,serif\" font-size=\"14.00\">5</text>\n",
              "</g>\n",
              "<!-- &#45;7330096818251290071&#45;&gt;2171856747808736319 -->\n",
              "<g id=\"edge16\" class=\"edge\">\n",
              "<title>&#45;7330096818251290071&#45;&gt;2171856747808736319</title>\n",
              "<path fill=\"none\" stroke=\"black\" stroke-width=\"0.5\" d=\"M183.82,-39.62C183.82,-34.17 183.82,-27.52 183.82,-22.11\"/>\n",
              "</g>\n",
              "<!-- &#45;8019481910788155886&#45;&gt;&#45;7330080422687975274 -->\n",
              "<!-- &#45;1399399137290877937 -->\n",
              "<g id=\"node16\" class=\"node\">\n",
              "<title>&#45;1399399137290877937</title>\n",
              "<path fill=\"none\" stroke=\"black\" stroke-width=\"0.25\" d=\"M242.81,-62C242.81,-62 232.83,-62 232.83,-62 229.16,-62 225.49,-58.33 225.49,-54.67 225.49,-54.67 225.49,-47.33 225.49,-47.33 225.49,-43.67 229.16,-40 232.83,-40 232.83,-40 242.81,-40 242.81,-40 246.48,-40 250.15,-43.67 250.15,-47.33 250.15,-47.33 250.15,-54.67 250.15,-54.67 250.15,-58.33 246.48,-62 242.81,-62\"/>\n",
              "<text text-anchor=\"middle\" x=\"237.82\" y=\"-46.8\" font-family=\"Times,serif\" font-size=\"14.00\">Ne</text>\n",
              "</g>\n",
              "<!-- &#45;8019481910788155886&#45;&gt;&#45;1399399137290877937 -->\n",
              "<g id=\"edge20\" class=\"edge\">\n",
              "<title>&#45;8019481910788155886&#45;&gt;&#45;1399399137290877937</title>\n",
              "<path fill=\"none\" stroke=\"black\" stroke-width=\"0.5\" d=\"M237.82,-79.62C237.82,-74.17 237.82,-67.52 237.82,-62.11\"/>\n",
              "</g>\n",
              "<!-- 5673129641757140125 -->\n",
              "<g id=\"node17\" class=\"node\">\n",
              "<title>5673129641757140125</title>\n",
              "<path fill=\"none\" stroke=\"black\" stroke-width=\"0.25\" d=\"M294.16,-62C294.16,-62 275.48,-62 275.48,-62 271.81,-62 268.14,-58.33 268.14,-54.67 268.14,-54.67 268.14,-47.33 268.14,-47.33 268.14,-43.67 271.81,-40 275.48,-40 275.48,-40 294.16,-40 294.16,-40 297.83,-40 301.5,-43.67 301.5,-47.33 301.5,-47.33 301.5,-54.67 301.5,-54.67 301.5,-58.33 297.83,-62 294.16,-62\"/>\n",
              "<text text-anchor=\"middle\" x=\"284.82\" y=\"-46.8\" font-family=\"Times,serif\" font-size=\"14.00\">Sign</text>\n",
              "</g>\n",
              "<!-- &#45;8019481910788155886&#45;&gt;5673129641757140125 -->\n",
              "<g id=\"edge21\" class=\"edge\">\n",
              "<title>&#45;8019481910788155886&#45;&gt;5673129641757140125</title>\n",
              "<path fill=\"none\" stroke=\"black\" stroke-width=\"0.5\" d=\"M250.66,-79.62C257.4,-74.17 265.63,-67.52 272.32,-62.11\"/>\n",
              "</g>\n",
              "<!-- &#45;3727192488071882406 -->\n",
              "<g id=\"node20\" class=\"node\">\n",
              "<title>&#45;3727192488071882406</title>\n",
              "<path fill=\"none\" stroke=\"black\" stroke-width=\"1.25\" d=\"M329.32,-62C329.32,-62 324.32,-62 324.32,-62 321.82,-62 319.32,-59.5 319.32,-57 319.32,-57 319.32,-45 319.32,-45 319.32,-42.5 321.82,-40 324.32,-40 324.32,-40 329.32,-40 329.32,-40 331.82,-40 334.32,-42.5 334.32,-45 334.32,-45 334.32,-57 334.32,-57 334.32,-59.5 331.82,-62 329.32,-62\"/>\n",
              "<text text-anchor=\"middle\" x=\"326.82\" y=\"-46.8\" font-family=\"Times,serif\" font-size=\"14.00\">1</text>\n",
              "</g>\n",
              "<!-- &#45;7330080422687975274&#45;&gt;&#45;3727192488071882406 -->\n",
              "<g id=\"edge25\" class=\"edge\">\n",
              "<title>&#45;7330080422687975274&#45;&gt;&#45;3727192488071882406</title>\n",
              "<path fill=\"none\" stroke=\"black\" stroke-width=\"0.5\" d=\"M310.83,-79.62C313.99,-74.17 317.84,-67.52 320.97,-62.11\"/>\n",
              "</g>\n",
              "<!-- &#45;1399399137290877937&#45;&gt;5673129641757140125 -->\n",
              "<!-- 935157499005019453 -->\n",
              "<g id=\"node18\" class=\"node\">\n",
              "<title>935157499005019453</title>\n",
              "<path fill=\"none\" stroke=\"black\" stroke-width=\"1.25\" d=\"M240.23,-22C240.23,-22 235.42,-22 235.42,-22 233.01,-22 230.61,-19.59 230.61,-17.19 230.61,-17.19 230.61,-4.81 230.61,-4.81 230.61,-2.41 233.01,0 235.42,0 235.42,0 240.23,0 240.23,0 242.63,0 245.04,-2.41 245.04,-4.81 245.04,-4.81 245.04,-17.19 245.04,-17.19 245.04,-19.59 242.63,-22 240.23,-22\"/>\n",
              "<text text-anchor=\"middle\" x=\"237.82\" y=\"-6.8\" font-family=\"Times,serif\" font-size=\"14.00\">e</text>\n",
              "</g>\n",
              "<!-- &#45;1399399137290877937&#45;&gt;935157499005019453 -->\n",
              "<g id=\"edge23\" class=\"edge\">\n",
              "<title>&#45;1399399137290877937&#45;&gt;935157499005019453</title>\n",
              "<path fill=\"none\" stroke=\"black\" stroke-width=\"0.5\" d=\"M237.82,-39.62C237.82,-34.17 237.82,-27.52 237.82,-22.11\"/>\n",
              "</g>\n",
              "<!-- &#45;2678082099407538925 -->\n",
              "<g id=\"node19\" class=\"node\">\n",
              "<title>&#45;2678082099407538925</title>\n",
              "<path fill=\"none\" stroke=\"black\" stroke-width=\"1.25\" d=\"M287.45,-22C287.45,-22 282.19,-22 282.19,-22 279.56,-22 276.92,-19.37 276.92,-16.74 276.92,-16.74 276.92,-5.26 276.92,-5.26 276.92,-2.63 279.56,0 282.19,0 282.19,0 287.45,0 287.45,0 290.08,0 292.72,-2.63 292.72,-5.26 292.72,-5.26 292.72,-16.74 292.72,-16.74 292.72,-19.37 290.08,-22 287.45,-22\"/>\n",
              "<text text-anchor=\"middle\" x=\"284.82\" y=\"-6.8\" font-family=\"Times,serif\" font-size=\"14.00\">+</text>\n",
              "</g>\n",
              "<!-- 5673129641757140125&#45;&gt;&#45;2678082099407538925 -->\n",
              "<g id=\"edge24\" class=\"edge\">\n",
              "<title>5673129641757140125&#45;&gt;&#45;2678082099407538925</title>\n",
              "<path fill=\"none\" stroke=\"black\" stroke-width=\"0.5\" d=\"M284.82,-39.62C284.82,-34.17 284.82,-27.52 284.82,-22.11\"/>\n",
              "</g>\n",
              "</g>\n",
              "</svg>\n"
            ],
            "text/plain": [
              "ProductionGraph(Number -> Number1 Scale’ -> Integer Fraction Scale’ -> Integer Digit Fraction Scale’ -> 3 Digit Fraction Scale’ -> 3 2 Fraction Scale’ -> 3 2 N. Integer Scale’ -> 3 2 . Integer Scale’ -> 3 2 . 5 Scale’ -> 3 2 . 5 Scale’1 Integer -> 3 2 . 5 Ne Sign Integer -> 3 2 . 5 e Sign Integer -> 3 2 . 5 e + Integer -> 3 2 . 5 e + 1)"
            ]
          },
          "execution_count": 24,
          "metadata": {},
          "output_type": "execute_result"
        }
      ],
      "source": [
        "d = Derivation(G_cnf).leftmost(prods)\n",
        "ProductionGraph(d)    "
      ]
    },
    {
      "cell_type": "markdown",
      "metadata": {},
      "source": [
        "## E il parsing in G (non in CNF)? (Sez. 4.2.6)\n",
        "\n",
        "Un primo requisito, per poter effettuare il parsing secondo le produzioni della grammatica originale è non eliminare i simboli improduttivi e irraggiungibili.\n",
        "\n",
        "Quindi va prodotta una tabella a partire dalla grammatica non ripulita e vanno aggiunte in calce le ϵ-produzioni.\n",
        "\n",
        "Ma non basta: il resto si ottiene a partire dalla soluzione degli esercizi…"
      ]
    },
    {
      "cell_type": "code",
      "execution_count": null,
      "metadata": {},
      "outputs": [
        {
          "data": {
            "text/html": [
              "<table class=\"table-bordered\"><tr><th><pre>Number</pre><td style=\"text-align:left\"><pre>0 | 1 | 2 | 3 | 4 | 5 | 6 | 7 | 8 | 9 | Integer Digit | Integer Fraction | Number1 Scale’</pre><tr><th><pre>Digit</pre><td style=\"text-align:left\"><pre>0 | 1 | 2 | 3 | 4 | 5 | 6 | 7 | 8 | 9</pre><tr><th><pre>Empty</pre><td style=\"text-align:left\"><pre>ε</pre><tr><th><pre>Empty’</pre><td style=\"text-align:left\"><pre></pre><tr><th><pre>Fraction</pre><td style=\"text-align:left\"><pre>N. Integer</pre><tr><th><pre>Integer</pre><td style=\"text-align:left\"><pre>0 | 1 | 2 | 3 | 4 | 5 | 6 | 7 | 8 | 9 | Integer Digit</pre><tr><th><pre>N.</pre><td style=\"text-align:left\"><pre>.</pre><tr><th><pre>Ne</pre><td style=\"text-align:left\"><pre>e</pre><tr><th><pre>Number1</pre><td style=\"text-align:left\"><pre>Integer Fraction</pre><tr><th><pre>Real</pre><td style=\"text-align:left\"><pre>Integer Fraction | Real1 Scale’</pre><tr><th><pre>Real1</pre><td style=\"text-align:left\"><pre>Integer Fraction</pre><tr><th><pre>Scale</pre><td style=\"text-align:left\"><pre>Scale1 Integer | ε</pre><tr><th><pre>Scale1</pre><td style=\"text-align:left\"><pre>Ne Sign</pre><tr><th><pre>Scale’</pre><td style=\"text-align:left\"><pre>Scale’1 Integer</pre><tr><th><pre>Scale’1</pre><td style=\"text-align:left\"><pre>Ne Sign</pre><tr><th><pre>Sign</pre><td style=\"text-align:left\"><pre>+ | -</pre></table>"
            ],
            "text/plain": [
              "<IPython.core.display.HTML object>"
            ]
          },
          "execution_count": 25,
          "metadata": {},
          "output_type": "execute_result"
        }
      ],
      "source": [
        "# Non effettuiamo la pulizia\n",
        "\n",
        "Gp_cnf = transform_nonsolitary(make_binary(Gp))\n",
        "prods2table(Gp_cnf)"
      ]
    },
    {
      "cell_type": "code",
      "execution_count": null,
      "metadata": {},
      "outputs": [],
      "source": [
        "# Otteniamo Rp tramite il parsing rispetto alla grammatica non ripulita Gp_cnf\n",
        "\n",
        "INPUT = '32.5e+1'\n",
        "Rp = cyk(Gp_cnf, INPUT)"
      ]
    },
    {
      "cell_type": "code",
      "execution_count": null,
      "metadata": {},
      "outputs": [],
      "source": [
        "# Calcoliamo l'insieme dei simboli A tali che A -> ϵ\n",
        "\n",
        "Rε = {A for A in Gp_cnf.N if ('ε', ) in Gp_cnf.alternatives(A)}"
      ]
    },
    {
      "cell_type": "code",
      "execution_count": null,
      "metadata": {},
      "outputs": [],
      "source": [
        "# Li aggiungiamo in fondo alla tabella\n",
        "\n",
        "for i in range(len(INPUT) + 2): Rp[(i, 0)] = Rε"
      ]
    },
    {
      "cell_type": "code",
      "execution_count": null,
      "metadata": {},
      "outputs": [
        {
          "data": {
            "text/html": [
              "<table class=\"table-bordered\"><tr><td style=\"text-align:left\"><pre>Number\n",
              "Real</pre></td><tr><td style=\"text-align:left\"><pre>&nbsp;</pre></td><td style=\"text-align:left\"><pre>Number\n",
              "Real</pre></td><tr><td style=\"text-align:left\"><pre>&nbsp;</pre></td><td style=\"text-align:left\"><pre>&nbsp;</pre></td><td style=\"text-align:left\"><pre>&nbsp;</pre></td><tr><td style=\"text-align:left\"><pre>Number\n",
              "Number1\n",
              "Real\n",
              "Real1</pre></td><td style=\"text-align:left\"><pre>&nbsp;</pre></td><td style=\"text-align:left\"><pre>&nbsp;</pre></td><td style=\"text-align:left\"><pre>&nbsp;</pre></td><tr><td style=\"text-align:left\"><pre>&nbsp;</pre></td><td style=\"text-align:left\"><pre>Number\n",
              "Number1\n",
              "Real\n",
              "Real1</pre></td><td style=\"text-align:left\"><pre>&nbsp;</pre></td><td style=\"text-align:left\"><pre>&nbsp;</pre></td><td style=\"text-align:left\"><pre>Scale\n",
              "Scale’</pre></td><tr><td style=\"text-align:left\"><pre>Integer\n",
              "Number</pre></td><td style=\"text-align:left\"><pre>&nbsp;</pre></td><td style=\"text-align:left\"><pre>Fraction</pre></td><td style=\"text-align:left\"><pre>&nbsp;</pre></td><td style=\"text-align:left\"><pre>Scale1\n",
              "Scale’1</pre></td><td style=\"text-align:left\"><pre>&nbsp;</pre></td><tr><td style=\"text-align:left\"><pre>Digit\n",
              "Integer\n",
              "Number</pre></td><td style=\"text-align:left\"><pre>Digit\n",
              "Integer\n",
              "Number</pre></td><td style=\"text-align:left\"><pre>N.</pre></td><td style=\"text-align:left\"><pre>Digit\n",
              "Integer\n",
              "Number</pre></td><td style=\"text-align:left\"><pre>Ne</pre></td><td style=\"text-align:left\"><pre>Sign</pre></td><td style=\"text-align:left\"><pre>Digit\n",
              "Integer\n",
              "Number</pre></td><tr><td style=\"text-align:left\"><pre>Empty\n",
              "Scale</pre></td><td style=\"text-align:left\"><pre>Empty\n",
              "Scale</pre></td><td style=\"text-align:left\"><pre>Empty\n",
              "Scale</pre></td><td style=\"text-align:left\"><pre>Empty\n",
              "Scale</pre></td><td style=\"text-align:left\"><pre>Empty\n",
              "Scale</pre></td><td style=\"text-align:left\"><pre>Empty\n",
              "Scale</pre></td><td style=\"text-align:left\"><pre>Empty\n",
              "Scale</pre></td><td style=\"text-align:left\"><pre>Empty\n",
              "Scale</pre></td></table>"
            ],
            "text/plain": [
              "<IPython.core.display.HTML object>"
            ]
          },
          "execution_count": 29,
          "metadata": {},
          "output_type": "execute_result"
        }
      ],
      "source": [
        "# fig. 4.17, pag. 126\n",
        "\n",
        "cyk2table(Rp)"
      ]
    },
    {
      "cell_type": "code",
      "execution_count": null,
      "metadata": {},
      "outputs": [],
      "source": [
        "# e il resto deriva dagli esercizi…"
      ]
    },
    {
      "cell_type": "markdown",
      "metadata": {},
      "source": [
        "# <span style=\"color: red;\">Esercizi per casa</span>\n",
        "\n",
        "I seguenti esercizi sono elencati in ordine di difficoltà: il primo è elementare, il secondo è più complesso, ma di fatto è l'implementazione di un algoritmo descritto nel libro di testo; l'ultimo esercizio ha un grado di difficoltà non banale.\n",
        "\n",
        "## Una derivazione rightmost\n",
        "\n",
        "Scrivete la funzione `get_rightmost_prods` che restituisca le produzioni di una derivazione *rightmost*. \n",
        "\n",
        "Per farlo, ispiratevi alla funzione `get_leftmost_prods`, riflettendo sul fatto che se la grammatica è in CNF, l'unica differenza è che per le regole non unitarie $A\\to BC$ basta espandere prima $B$ di $C$ (al contrario di quello che avviene per le derivazioni *leftmost*).\n",
        "\n",
        "## Una derivazione (leftmost) nella grammatica originale\n",
        "  \n",
        "  \n",
        "Scrivete la funzione `get_original_leftmost_prods` che restituisca le produzioni di una deivazione *leftmost* nella grammatica originale (non in CNF).\n",
        "\n",
        "Per farlo dovrete implementate l'algoritmo descritto nella Sez. 4.2.6 (e 4.2.1) che produce l'albero di parsing a partire dalla tabella `Rp` ottenuta nella sezione precedente.\n",
        "\n",
        "Tale algoritmo si basa sulla capacità di determinare se una data forma sentenziale ω deriva una sottostringa dell'input $s_i \\dots s_{i + l}$ e, qualora lo faccia, nel calcolare inoltre che parte della sottostringa sia derivata da ciascun simbolo di ω (si tratta di quanto descritto in fondo a 126 e nei due punti all'inizio di pag 127).\n",
        "\n",
        "Una volta scritta la funzione ricorsiva `derives(ω, i, l)` che implementi la funzionalità appena descritta, seguendo l'algoritmo descritto a partire da pag. 115 è abbastanza semplice implementare `get_original_leftmost_prods`, che restituisce una derivazione *leftmost*.\n",
        " \n",
        " \n",
        "## Tutte le derivazioni leftmost (nella grammatica originale)\n",
        "\n",
        "Se la grammatica è ambigua, l'algoritmo CYK determinerà più derivazioni (leftmost) differenti.\n",
        "\n",
        "Scrivere la funzione `get_all_original_leftmost_prods` che restituisca tutti le possibli derivazioni, non soltanto una di esse. \n",
        "\n",
        "Per farlo potreste dapprima implementare una funzione `all_derives(ω, i, l)` che (in analogia a `derives(ω, i, l)`) determini se la forma sentenziale ω deriva una sottostringa dell'input $s_i \\dots s_{i + l}$ e, qualora lo faccia, restituisca però tutte le possibili suddivisioni in cui la sottostringa può essere derivata dai simboli di ω."
      ]
    }
  ],
  "metadata": {
    "kernelspec": {
      "display_name": "Python 3",
      "language": "python",
      "name": "python3"
    },
    "language_info": {
      "codemirror_mode": {
        "name": "ipython",
        "version": 3
      },
      "file_extension": ".py",
      "mimetype": "text/x-python",
      "name": "python",
      "nbconvert_exporter": "python",
      "pygments_lexer": "ipython3"
    }
  },
  "nbformat": 4,
  "nbformat_minor": 4
}
