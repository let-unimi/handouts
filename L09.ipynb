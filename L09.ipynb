{
  "cells": [
    {
      "cell_type": "markdown",
      "metadata": {},
      "source": [
        "# Lezione 9"
      ]
    },
    {
      "cell_type": "code",
      "execution_count": null,
      "metadata": {},
      "outputs": [
        {
          "data": {
            "text/plain": [
              "'1.7.0a0'"
            ]
          },
          "execution_count": 1,
          "metadata": {},
          "output_type": "execute_result"
        }
      ],
      "source": [
        "from textwrap import dedent, indent\n",
        "\n",
        "from liblet import (\n",
        "    __version__,\n",
        "    Grammar, \n",
        "    Derivation, \n",
        "    ProductionGraph, \n",
        "    show_calls\n",
        "  )\n",
        "\n",
        "__version__"
      ]
    },
    {
      "cell_type": "markdown",
      "metadata": {},
      "source": [
        "## Eliminazione della ricorsione"
      ]
    },
    {
      "cell_type": "code",
      "execution_count": null,
      "metadata": {},
      "outputs": [],
      "source": [
        "# grammatica per l'aritmetica col + e il - \n",
        "\n",
        "# versione ricorsiva\n",
        "\n",
        "\"\"\"\n",
        "E -> E + T | E - T | T\n",
        "T -> t\n",
        "\"\"\";"
      ]
    },
    {
      "cell_type": "code",
      "execution_count": null,
      "metadata": {},
      "outputs": [],
      "source": [
        "# versione non ricorsiva\n",
        "\n",
        "\"\"\"\n",
        "E -> Eh Ets | Eh\n",
        "Eh -> T\n",
        "Ets -> Et Ets | Et\n",
        "Et -> + T | - T\n",
        "T -> t\n",
        "\"\"\";"
      ]
    },
    {
      "cell_type": "markdown",
      "metadata": {},
      "source": [
        "Per ragioni che saranno chiarite in seguito, imponiamo una restrizione sulla\n",
        "grammatica. \n",
        "\n",
        "Diremo che un non terminale $A\\in N$ è *prefix-free* se solo se non esistono $x,\n",
        "y \\in T^+$ tali che $A\\stackrel{*}{\\to} xy$ e $A\\stackrel{*}{\\to} x$ (ossia $A$\n",
        "non deriva mai sia una parola che un suo prefisso). Una grammatica è\n",
        "*prefix-free* se e solo se tutti i suoi non terminali sono prefix-free.\n",
        "\n",
        "Per inciso, un linguaggio $L$ è *prefix-free* se e solo se per ogni coppia di\n",
        "stringhe $x, y\\in T^+$ si ha che $x\\in L$ implica $xy\\not\\in L$; mentre è ovvio\n",
        "che una grammatica prefix-free genera un linguaggio prefix-free, non è detto che\n",
        "tutte le grammatiche che generano un linguaggio prefix-free siano prefix-free.\n",
        "\n",
        "Si consideri ad esempio il linguaggio finito $\\{a\\#, ab\\#\\}$ che è evidentemente\n",
        " prefix-free; esso è generato da\n",
        "\n",
        "```\n",
        "S -> T #\n",
        "T -> a | ab\n",
        "```\n",
        "\n",
        "in cui, altrettanto evidentemente, che `T` non è prefix-free."
      ]
    },
    {
      "cell_type": "code",
      "execution_count": null,
      "metadata": {},
      "outputs": [
        {
          "data": {
            "text/plain": [
              "Grammar(N={E, Eh, Et, Ets, T}, T={#, +, -, t}, P=(E -> Eh Ets, E -> Eh #, Eh -> T, Ets -> Et Ets, Ets -> Et #, Et -> + T, Et -> - T, T -> t), S=E)"
            ]
          },
          "execution_count": 4,
          "metadata": {},
          "output_type": "execute_result"
        }
      ],
      "source": [
        "# versione prefix-free\n",
        "\n",
        "G = Grammar.from_string(\"\"\"\n",
        "E -> Eh Ets | Eh #\n",
        "Eh -> T\n",
        "Ets -> Et Ets | Et #\n",
        "Et -> + T | - T\n",
        "T -> t\n",
        "\"\"\")\n",
        "G"
      ]
    },
    {
      "cell_type": "markdown",
      "metadata": {},
      "source": [
        "Tale grammatica è prefix-free dato che:\n",
        "\n",
        "* `Eh`, `T` ed `Et` generano linguaggi finiti quindi è elementare convincersi\n",
        "  che sono prefix-free;\n",
        "* `Ets` genera parole che non contengono `#` ma terminano con tale simbolo,\n",
        "  risultando pertanto prefix-free; \n",
        "* similmente `E` genera `t#` oppure le stesse parole generate da `Ets` per cui\n",
        "  risulta anch'esso prefix-free."
      ]
    },
    {
      "attachments": {},
      "cell_type": "markdown",
      "metadata": {},
      "source": [
        "## Costruzione manuale del parser\n",
        "\n",
        "Costruiamo una funzione `parse` (a partire dalla grammatica $G$) che su input $X$ e $\\alpha\\beta$ restituisce una coppia $(b, \\beta)$ dove $b$ è `True` se e solo se il simbolo $X \\in N \\cup T$ è tale che $X\\stackrel{*}{\\to}\\alpha$."
      ]
    },
    {
      "cell_type": "code",
      "execution_count": null,
      "metadata": {},
      "outputs": [],
      "source": [
        "@show_calls(True)\n",
        "def parse(X, rest):\n",
        "\n",
        "  if X in G.T:\n",
        "\n",
        "    if rest and rest[0] == X: return True, rest[1:]\n",
        "\n",
        "  elif X == 'T': # T -> t\n",
        "\n",
        "    return parse('t', rest)\n",
        "\n",
        "  elif X == 'Eh': # Eh -> T\n",
        "\n",
        "    return parse('T', rest)\n",
        "\n",
        "  elif X == 'Et': # Et -> + T | - T\n",
        "\n",
        "    s, r = parse('+', rest)\n",
        "    if s: return parse('T', r)\n",
        "    s, r = parse('-', rest)\n",
        "    if s: return parse('T', r)\n",
        "\n",
        "  elif X == 'Ets': # Ets -> Et Ets | Et #\n",
        "\n",
        "    s0, r0 = parse('Et', rest)\n",
        "    if s0:\n",
        "      s1, r1 = parse('#', r0)\n",
        "      if s1: return True, r1\n",
        "      return parse('Ets', r0)\n",
        "  \n",
        "  elif X == 'E': # E -> Eh Ets | Eh #\n",
        "\n",
        "    s0, r0 = parse('Eh', rest)\n",
        "    if s0:\n",
        "      s1, r1 = parse('#', r0)\n",
        "      if s1: return True, r1\n",
        "      return parse('Ets', r0)\n",
        "\n",
        "  return False, rest"
      ]
    },
    {
      "cell_type": "markdown",
      "metadata": {},
      "source": [
        "Decidere se $\\omega\\in L(G)$ equivale a chiedersi se su input $E$ e $\\omega$ la funzione restituisce (`True`, $\\varepsilon$)."
      ]
    },
    {
      "cell_type": "code",
      "execution_count": null,
      "metadata": {},
      "outputs": [
        {
          "name": "stdout",
          "output_type": "stream",
          "text": [
            "┌parse('E', ['t', '+', 't', '-', 't', '#'])\n",
            "│┌parse('Eh', ['t', '+', 't', '-', 't', '#'])\n",
            "││┌parse('T', ['t', '+', 't', '-', 't', '#'])\n",
            "│││┌parse('t', ['t', '+', 't', '-', 't', '#'])\n",
            "│││└─ (True, ['+', 't', '-', 't', '#'])\n",
            "││└─ (True, ['+', 't', '-', 't', '#'])\n",
            "│└─ (True, ['+', 't', '-', 't', '#'])\n",
            "│┌parse('#', ['+', 't', '-', 't', '#'])\n",
            "│└─ (False, ['+', 't', '-', 't', '#'])\n",
            "│┌parse('Ets', ['+', 't', '-', 't', '#'])\n",
            "││┌parse('Et', ['+', 't', '-', 't', '#'])\n",
            "│││┌parse('+', ['+', 't', '-', 't', '#'])\n",
            "│││└─ (True, ['t', '-', 't', '#'])\n",
            "│││┌parse('T', ['t', '-', 't', '#'])\n",
            "││││┌parse('t', ['t', '-', 't', '#'])\n",
            "││││└─ (True, ['-', 't', '#'])\n",
            "│││└─ (True, ['-', 't', '#'])\n",
            "││└─ (True, ['-', 't', '#'])\n",
            "││┌parse('#', ['-', 't', '#'])\n",
            "││└─ (False, ['-', 't', '#'])\n",
            "││┌parse('Ets', ['-', 't', '#'])\n",
            "│││┌parse('Et', ['-', 't', '#'])\n",
            "││││┌parse('+', ['-', 't', '#'])\n",
            "││││└─ (False, ['-', 't', '#'])\n",
            "││││┌parse('-', ['-', 't', '#'])\n",
            "││││└─ (True, ['t', '#'])\n",
            "││││┌parse('T', ['t', '#'])\n",
            "│││││┌parse('t', ['t', '#'])\n",
            "│││││└─ (True, ['#'])\n",
            "││││└─ (True, ['#'])\n",
            "│││└─ (True, ['#'])\n",
            "│││┌parse('#', ['#'])\n",
            "│││└─ (True, [])\n",
            "││└─ (True, [])\n",
            "│└─ (True, [])\n",
            "└─ (True, [])\n"
          ]
        },
        {
          "data": {
            "text/plain": [
              "(True, [])"
            ]
          },
          "execution_count": 6,
          "metadata": {},
          "output_type": "execute_result"
        }
      ],
      "source": [
        "INPUT = list('t+t-t#') # le parole sono liste di stringhe…\n",
        "\n",
        "parse('E', INPUT)"
      ]
    },
    {
      "attachments": {},
      "cell_type": "markdown",
      "metadata": {},
      "source": [
        "### Ricostruire l'albero di parsing\n",
        "\n",
        "Modifichiamo la funzione `parse` perché restituisca anche la sequenza delle derivazioni leftmost che conducono al riconoscimento."
      ]
    },
    {
      "cell_type": "code",
      "execution_count": null,
      "metadata": {},
      "outputs": [
        {
          "data": {
            "text/html": [
              "<style>td, th {border: 1pt solid lightgray !important ;}</style><table><tr><th><pre>E</pre><td style=\"text-align:left\"><pre>Eh Ets<sub>(0)</sub> | Eh #<sub>(1)</sub></pre><tr><th><pre>Eh</pre><td style=\"text-align:left\"><pre>T<sub>(2)</sub></pre><tr><th><pre>Ets</pre><td style=\"text-align:left\"><pre>Et Ets<sub>(3)</sub> | Et #<sub>(4)</sub></pre><tr><th><pre>Et</pre><td style=\"text-align:left\"><pre>+ T<sub>(5)</sub> | - T<sub>(6)</sub></pre><tr><th><pre>T</pre><td style=\"text-align:left\"><pre>t<sub>(7)</sub></pre></table>"
            ],
            "text/plain": [
              "(E -> Eh Ets,\n",
              " E -> Eh #,\n",
              " Eh -> T,\n",
              " Ets -> Et Ets,\n",
              " Ets -> Et #,\n",
              " Et -> + T,\n",
              " Et -> - T,\n",
              " T -> t)"
            ]
          },
          "execution_count": 7,
          "metadata": {},
          "output_type": "execute_result"
        }
      ],
      "source": [
        "# servono i numeri di produzione\n",
        "\n",
        "G.P"
      ]
    },
    {
      "cell_type": "code",
      "execution_count": null,
      "metadata": {},
      "outputs": [],
      "source": [
        "# ora parse restituisce: succ, rest, steps\n",
        "\n",
        "@show_calls(True)\n",
        "def parse(X, rest): \n",
        "\n",
        "  if X in G.T:\n",
        "\n",
        "    if rest and rest[0] == X: return True, rest[1:], None\n",
        "\n",
        "  elif X == 'T':\n",
        "\n",
        "    s, r, _ = parse('t', rest)\n",
        "    if s: return True, r, [7]\n",
        "\n",
        "  elif X == 'Eh':\n",
        "\n",
        "    s, r, p = parse('T', rest)\n",
        "    if s: return True, r, [2] + p\n",
        "\n",
        "  elif X == 'Et':\n",
        "\n",
        "    s, r, _ = parse('+', rest)\n",
        "    if s:\n",
        "      s, r, p = parse('T', r)\n",
        "      if s: return True, r, [5] + p\n",
        "    s, r, _ = parse('-', rest)\n",
        "    if s: \n",
        "      s, r, p = parse('T', r)\n",
        "      if s: return True, r, [6] + p\n",
        "\n",
        "  elif X == 'Ets':\n",
        "\n",
        "    s0, r0, p0 = parse('Et', rest)\n",
        "    if s0:\n",
        "      s1, r1, _ = parse('#', r0)\n",
        "      if s1: return True, r1, [4] + p0\n",
        "      s2, r2, p2 = parse('Ets', r0)\n",
        "      if s2: return True, r2, [3] + p0 + p2\n",
        "\n",
        "  elif X == 'E':\n",
        "\n",
        "    s0, r0, p0 = parse('Eh', rest)\n",
        "    if s0:\n",
        "      s1, r1, _ = parse('#', r0)\n",
        "      if s1: return True, r1, [1] + p0\n",
        "      s2, r2, p2 = parse('Ets', r0)\n",
        "      if s2: return True, r2, [0] + p0 + p2\n",
        "\n",
        "  return False, rest, []"
      ]
    },
    {
      "cell_type": "code",
      "execution_count": null,
      "metadata": {},
      "outputs": [
        {
          "name": "stdout",
          "output_type": "stream",
          "text": [
            "┌parse('E', ['t', '+', 't', '-', 't', '#'])\n",
            "│┌parse('Eh', ['t', '+', 't', '-', 't', '#'])\n",
            "││┌parse('T', ['t', '+', 't', '-', 't', '#'])\n",
            "│││┌parse('t', ['t', '+', 't', '-', 't', '#'])\n",
            "│││└─ (True, ['+', 't', '-', 't', '#'], None)\n",
            "││└─ (True, ['+', 't', '-', 't', '#'], [7])\n",
            "│└─ (True, ['+', 't', '-', 't', '#'], [2, 7])\n",
            "│┌parse('#', ['+', 't', '-', 't', '#'])\n",
            "│└─ (False, ['+', 't', '-', 't', '#'], [])\n",
            "│┌parse('Ets', ['+', 't', '-', 't', '#'])\n",
            "││┌parse('Et', ['+', 't', '-', 't', '#'])\n",
            "│││┌parse('+', ['+', 't', '-', 't', '#'])\n",
            "│││└─ (True, ['t', '-', 't', '#'], None)\n",
            "│││┌parse('T', ['t', '-', 't', '#'])\n",
            "││││┌parse('t', ['t', '-', 't', '#'])\n",
            "││││└─ (True, ['-', 't', '#'], None)\n",
            "│││└─ (True, ['-', 't', '#'], [7])\n",
            "││└─ (True, ['-', 't', '#'], [5, 7])\n",
            "││┌parse('#', ['-', 't', '#'])\n",
            "││└─ (False, ['-', 't', '#'], [])\n",
            "││┌parse('Ets', ['-', 't', '#'])\n",
            "│││┌parse('Et', ['-', 't', '#'])\n",
            "││││┌parse('+', ['-', 't', '#'])\n",
            "││││└─ (False, ['-', 't', '#'], [])\n",
            "││││┌parse('-', ['-', 't', '#'])\n",
            "││││└─ (True, ['t', '#'], None)\n",
            "││││┌parse('T', ['t', '#'])\n",
            "│││││┌parse('t', ['t', '#'])\n",
            "│││││└─ (True, ['#'], None)\n",
            "││││└─ (True, ['#'], [7])\n",
            "│││└─ (True, ['#'], [6, 7])\n",
            "│││┌parse('#', ['#'])\n",
            "│││└─ (True, [], None)\n",
            "││└─ (True, [], [4, 6, 7])\n",
            "│└─ (True, [], [3, 5, 7, 4, 6, 7])\n",
            "└─ (True, [], [0, 2, 7, 3, 5, 7, 4, 6, 7])\n"
          ]
        },
        {
          "data": {
            "text/plain": [
              "[0, 2, 7, 3, 5, 7, 4, 6, 7]"
            ]
          },
          "execution_count": 9,
          "metadata": {},
          "output_type": "execute_result"
        }
      ],
      "source": [
        "# testiamo lo stesso input\n",
        "\n",
        "_, _, steps = parse('E', INPUT)\n",
        "steps"
      ]
    },
    {
      "cell_type": "code",
      "execution_count": null,
      "metadata": {},
      "outputs": [
        {
          "data": {
            "image/svg+xml": [
              "<?xml version=\"1.0\" encoding=\"UTF-8\" standalone=\"no\"?>\n",
              "<!DOCTYPE svg PUBLIC \"-//W3C//DTD SVG 1.1//EN\"\n",
              " \"http://www.w3.org/Graphics/SVG/1.1/DTD/svg11.dtd\">\n",
              "<!-- Generated by graphviz version 2.43.0 (0)\n",
              " -->\n",
              "<!-- Title: %3 Pages: 1 -->\n",
              "<svg width=\"181pt\" height=\"236pt\"\n",
              " viewBox=\"0.00 0.00 181.00 236.00\" xmlns=\"http://www.w3.org/2000/svg\" xmlns:xlink=\"http://www.w3.org/1999/xlink\">\n",
              "<g id=\"graph0\" class=\"graph\" transform=\"scale(1 1) rotate(0) translate(4 232)\">\n",
              "<title>%3</title>\n",
              "<polygon fill=\"white\" stroke=\"transparent\" points=\"-4,4 -4,-232 177,-232 177,4 -4,4\"/>\n",
              "<!-- N0 -->\n",
              "<g id=\"node1\" class=\"node\">\n",
              "<title>N0</title>\n",
              "<path fill=\"none\" stroke=\"black\" stroke-width=\"0.25\" d=\"M52.67,-228C52.67,-228 46.33,-228 46.33,-228 43.17,-228 40,-224.83 40,-221.67 40,-221.67 40,-211.33 40,-211.33 40,-208.17 43.17,-205 46.33,-205 46.33,-205 52.67,-205 52.67,-205 55.83,-205 59,-208.17 59,-211.33 59,-211.33 59,-221.67 59,-221.67 59,-224.83 55.83,-228 52.67,-228\"/>\n",
              "<text text-anchor=\"middle\" x=\"49.5\" y=\"-212.8\" font-family=\"Times,serif\" font-size=\"14.00\">E</text>\n",
              "</g>\n",
              "<!-- N1 -->\n",
              "<g id=\"node2\" class=\"node\">\n",
              "<title>N1</title>\n",
              "<path fill=\"none\" stroke=\"black\" stroke-width=\"0.25\" d=\"M31.83,-187C31.83,-187 19.17,-187 19.17,-187 15.33,-187 11.5,-183.17 11.5,-179.33 11.5,-179.33 11.5,-171.67 11.5,-171.67 11.5,-167.83 15.33,-164 19.17,-164 19.17,-164 31.83,-164 31.83,-164 35.67,-164 39.5,-167.83 39.5,-171.67 39.5,-171.67 39.5,-179.33 39.5,-179.33 39.5,-183.17 35.67,-187 31.83,-187\"/>\n",
              "<text text-anchor=\"middle\" x=\"25.5\" y=\"-171.8\" font-family=\"Times,serif\" font-size=\"14.00\">Eh</text>\n",
              "</g>\n",
              "<!-- N0&#45;&gt;N1 -->\n",
              "<g id=\"edge2\" class=\"edge\">\n",
              "<title>N0&#45;&gt;N1</title>\n",
              "<path fill=\"none\" stroke=\"black\" stroke-width=\"0.5\" d=\"M42.94,-204.84C39.56,-199.34 35.44,-192.65 32.05,-187.14\"/>\n",
              "</g>\n",
              "<!-- N2 -->\n",
              "<g id=\"node3\" class=\"node\">\n",
              "<title>N2</title>\n",
              "<path fill=\"none\" stroke=\"black\" stroke-width=\"0.25\" d=\"M83.33,-187C83.33,-187 65.67,-187 65.67,-187 61.83,-187 58,-183.17 58,-179.33 58,-179.33 58,-171.67 58,-171.67 58,-167.83 61.83,-164 65.67,-164 65.67,-164 83.33,-164 83.33,-164 87.17,-164 91,-167.83 91,-171.67 91,-171.67 91,-179.33 91,-179.33 91,-183.17 87.17,-187 83.33,-187\"/>\n",
              "<text text-anchor=\"middle\" x=\"74.5\" y=\"-171.8\" font-family=\"Times,serif\" font-size=\"14.00\">Ets</text>\n",
              "</g>\n",
              "<!-- N0&#45;&gt;N2 -->\n",
              "<g id=\"edge3\" class=\"edge\">\n",
              "<title>N0&#45;&gt;N2</title>\n",
              "<path fill=\"none\" stroke=\"black\" stroke-width=\"0.5\" d=\"M56.33,-204.84C59.86,-199.34 64.15,-192.65 67.68,-187.14\"/>\n",
              "</g>\n",
              "<!-- N1&#45;&gt;N2 -->\n",
              "<!-- N3 -->\n",
              "<g id=\"node4\" class=\"node\">\n",
              "<title>N3</title>\n",
              "<path fill=\"none\" stroke=\"black\" stroke-width=\"0.25\" d=\"M19.5,-146C19.5,-146 13.5,-146 13.5,-146 10.5,-146 7.5,-143 7.5,-140 7.5,-140 7.5,-129 7.5,-129 7.5,-126 10.5,-123 13.5,-123 13.5,-123 19.5,-123 19.5,-123 22.5,-123 25.5,-126 25.5,-129 25.5,-129 25.5,-140 25.5,-140 25.5,-143 22.5,-146 19.5,-146\"/>\n",
              "<text text-anchor=\"middle\" x=\"16.5\" y=\"-130.8\" font-family=\"Times,serif\" font-size=\"14.00\">T</text>\n",
              "</g>\n",
              "<!-- N1&#45;&gt;N3 -->\n",
              "<g id=\"edge4\" class=\"edge\">\n",
              "<title>N1&#45;&gt;N3</title>\n",
              "<path fill=\"none\" stroke=\"black\" stroke-width=\"0.5\" d=\"M23.04,-163.84C21.77,-158.34 20.23,-151.65 18.96,-146.14\"/>\n",
              "</g>\n",
              "<!-- N5 -->\n",
              "<g id=\"node6\" class=\"node\">\n",
              "<title>N5</title>\n",
              "<path fill=\"none\" stroke=\"black\" stroke-width=\"0.25\" d=\"M79.33,-146C79.33,-146 69.67,-146 69.67,-146 65.83,-146 62,-142.17 62,-138.33 62,-138.33 62,-130.67 62,-130.67 62,-126.83 65.83,-123 69.67,-123 69.67,-123 79.33,-123 79.33,-123 83.17,-123 87,-126.83 87,-130.67 87,-130.67 87,-138.33 87,-138.33 87,-142.17 83.17,-146 79.33,-146\"/>\n",
              "<text text-anchor=\"middle\" x=\"74.5\" y=\"-130.8\" font-family=\"Times,serif\" font-size=\"14.00\">Et</text>\n",
              "</g>\n",
              "<!-- N2&#45;&gt;N5 -->\n",
              "<g id=\"edge7\" class=\"edge\">\n",
              "<title>N2&#45;&gt;N5</title>\n",
              "<path fill=\"none\" stroke=\"black\" stroke-width=\"0.5\" d=\"M74.5,-163.84C74.5,-158.34 74.5,-151.65 74.5,-146.14\"/>\n",
              "</g>\n",
              "<!-- N6 -->\n",
              "<g id=\"node7\" class=\"node\">\n",
              "<title>N6</title>\n",
              "<path fill=\"none\" stroke=\"black\" stroke-width=\"0.25\" d=\"M130.33,-146C130.33,-146 112.67,-146 112.67,-146 108.83,-146 105,-142.17 105,-138.33 105,-138.33 105,-130.67 105,-130.67 105,-126.83 108.83,-123 112.67,-123 112.67,-123 130.33,-123 130.33,-123 134.17,-123 138,-126.83 138,-130.67 138,-130.67 138,-138.33 138,-138.33 138,-142.17 134.17,-146 130.33,-146\"/>\n",
              "<text text-anchor=\"middle\" x=\"121.5\" y=\"-130.8\" font-family=\"Times,serif\" font-size=\"14.00\">Ets</text>\n",
              "</g>\n",
              "<!-- N2&#45;&gt;N6 -->\n",
              "<g id=\"edge8\" class=\"edge\">\n",
              "<title>N2&#45;&gt;N6</title>\n",
              "<path fill=\"none\" stroke=\"black\" stroke-width=\"0.5\" d=\"M87.34,-163.84C93.97,-158.34 102.04,-151.65 108.67,-146.14\"/>\n",
              "</g>\n",
              "<!-- N4 -->\n",
              "<g id=\"node5\" class=\"node\">\n",
              "<title>N4</title>\n",
              "<path fill=\"none\" stroke=\"black\" stroke-width=\"1.25\" d=\"M10,-105C10,-105 5,-105 5,-105 2.5,-105 0,-102.5 0,-100 0,-100 0,-87 0,-87 0,-84.5 2.5,-82 5,-82 5,-82 10,-82 10,-82 12.5,-82 15,-84.5 15,-87 15,-87 15,-100 15,-100 15,-102.5 12.5,-105 10,-105\"/>\n",
              "<text text-anchor=\"middle\" x=\"7.5\" y=\"-89.8\" font-family=\"Times,serif\" font-size=\"14.00\">t</text>\n",
              "</g>\n",
              "<!-- N3&#45;&gt;N4 -->\n",
              "<g id=\"edge5\" class=\"edge\">\n",
              "<title>N3&#45;&gt;N4</title>\n",
              "<path fill=\"none\" stroke=\"black\" stroke-width=\"0.5\" d=\"M14.04,-122.84C12.77,-117.34 11.23,-110.65 9.96,-105.14\"/>\n",
              "</g>\n",
              "<!-- N5&#45;&gt;N6 -->\n",
              "<!-- N7 -->\n",
              "<g id=\"node8\" class=\"node\">\n",
              "<title>N7</title>\n",
              "<path fill=\"none\" stroke=\"black\" stroke-width=\"1.25\" d=\"M47,-105C47,-105 40,-105 40,-105 36.5,-105 33,-101.5 33,-98 33,-98 33,-89 33,-89 33,-85.5 36.5,-82 40,-82 40,-82 47,-82 47,-82 50.5,-82 54,-85.5 54,-89 54,-89 54,-98 54,-98 54,-101.5 50.5,-105 47,-105\"/>\n",
              "<text text-anchor=\"middle\" x=\"43.5\" y=\"-89.8\" font-family=\"Times,serif\" font-size=\"14.00\">+</text>\n",
              "</g>\n",
              "<!-- N5&#45;&gt;N7 -->\n",
              "<g id=\"edge10\" class=\"edge\">\n",
              "<title>N5&#45;&gt;N7</title>\n",
              "<path fill=\"none\" stroke=\"black\" stroke-width=\"0.5\" d=\"M66.03,-122.84C61.65,-117.34 56.33,-110.65 51.96,-105.14\"/>\n",
              "</g>\n",
              "<!-- N8 -->\n",
              "<g id=\"node9\" class=\"node\">\n",
              "<title>N8</title>\n",
              "<path fill=\"none\" stroke=\"black\" stroke-width=\"0.25\" d=\"M84.5,-105C84.5,-105 78.5,-105 78.5,-105 75.5,-105 72.5,-102 72.5,-99 72.5,-99 72.5,-88 72.5,-88 72.5,-85 75.5,-82 78.5,-82 78.5,-82 84.5,-82 84.5,-82 87.5,-82 90.5,-85 90.5,-88 90.5,-88 90.5,-99 90.5,-99 90.5,-102 87.5,-105 84.5,-105\"/>\n",
              "<text text-anchor=\"middle\" x=\"81.5\" y=\"-89.8\" font-family=\"Times,serif\" font-size=\"14.00\">T</text>\n",
              "</g>\n",
              "<!-- N5&#45;&gt;N8 -->\n",
              "<g id=\"edge11\" class=\"edge\">\n",
              "<title>N5&#45;&gt;N8</title>\n",
              "<path fill=\"none\" stroke=\"black\" stroke-width=\"0.5\" d=\"M76.41,-122.84C77.4,-117.34 78.6,-110.65 79.59,-105.14\"/>\n",
              "</g>\n",
              "<!-- N10 -->\n",
              "<g id=\"node11\" class=\"node\">\n",
              "<title>N10</title>\n",
              "<path fill=\"none\" stroke=\"black\" stroke-width=\"0.25\" d=\"M126.33,-105C126.33,-105 116.67,-105 116.67,-105 112.83,-105 109,-101.17 109,-97.33 109,-97.33 109,-89.67 109,-89.67 109,-85.83 112.83,-82 116.67,-82 116.67,-82 126.33,-82 126.33,-82 130.17,-82 134,-85.83 134,-89.67 134,-89.67 134,-97.33 134,-97.33 134,-101.17 130.17,-105 126.33,-105\"/>\n",
              "<text text-anchor=\"middle\" x=\"121.5\" y=\"-89.8\" font-family=\"Times,serif\" font-size=\"14.00\">Et</text>\n",
              "</g>\n",
              "<!-- N6&#45;&gt;N10 -->\n",
              "<g id=\"edge14\" class=\"edge\">\n",
              "<title>N6&#45;&gt;N10</title>\n",
              "<path fill=\"none\" stroke=\"black\" stroke-width=\"0.5\" d=\"M121.5,-122.84C121.5,-117.34 121.5,-110.65 121.5,-105.14\"/>\n",
              "</g>\n",
              "<!-- N11 -->\n",
              "<g id=\"node12\" class=\"node\">\n",
              "<title>N11</title>\n",
              "<path fill=\"none\" stroke=\"black\" stroke-width=\"1.25\" d=\"M166,-105C166,-105 159,-105 159,-105 155.5,-105 152,-101.5 152,-98 152,-98 152,-89 152,-89 152,-85.5 155.5,-82 159,-82 159,-82 166,-82 166,-82 169.5,-82 173,-85.5 173,-89 173,-89 173,-98 173,-98 173,-101.5 169.5,-105 166,-105\"/>\n",
              "<text text-anchor=\"middle\" x=\"162.5\" y=\"-89.8\" font-family=\"Times,serif\" font-size=\"14.00\">#</text>\n",
              "</g>\n",
              "<!-- N6&#45;&gt;N11 -->\n",
              "<g id=\"edge15\" class=\"edge\">\n",
              "<title>N6&#45;&gt;N11</title>\n",
              "<path fill=\"none\" stroke=\"black\" stroke-width=\"0.5\" d=\"M132.7,-122.84C138.68,-117.16 145.99,-110.2 151.87,-104.61\"/>\n",
              "</g>\n",
              "<!-- N7&#45;&gt;N8 -->\n",
              "<!-- N9 -->\n",
              "<g id=\"node10\" class=\"node\">\n",
              "<title>N9</title>\n",
              "<path fill=\"none\" stroke=\"black\" stroke-width=\"1.25\" d=\"M84,-64C84,-64 79,-64 79,-64 76.5,-64 74,-61.5 74,-59 74,-59 74,-46 74,-46 74,-43.5 76.5,-41 79,-41 79,-41 84,-41 84,-41 86.5,-41 89,-43.5 89,-46 89,-46 89,-59 89,-59 89,-61.5 86.5,-64 84,-64\"/>\n",
              "<text text-anchor=\"middle\" x=\"81.5\" y=\"-48.8\" font-family=\"Times,serif\" font-size=\"14.00\">t</text>\n",
              "</g>\n",
              "<!-- N8&#45;&gt;N9 -->\n",
              "<g id=\"edge12\" class=\"edge\">\n",
              "<title>N8&#45;&gt;N9</title>\n",
              "<path fill=\"none\" stroke=\"black\" stroke-width=\"0.5\" d=\"M81.5,-81.84C81.5,-76.34 81.5,-69.65 81.5,-64.14\"/>\n",
              "</g>\n",
              "<!-- N10&#45;&gt;N11 -->\n",
              "<!-- N12 -->\n",
              "<g id=\"node13\" class=\"node\">\n",
              "<title>N12</title>\n",
              "<path fill=\"none\" stroke=\"black\" stroke-width=\"1.25\" d=\"M119.67,-64C119.67,-64 115.33,-64 115.33,-64 113.17,-64 111,-61.83 111,-59.67 111,-59.67 111,-45.33 111,-45.33 111,-43.17 113.17,-41 115.33,-41 115.33,-41 119.67,-41 119.67,-41 121.83,-41 124,-43.17 124,-45.33 124,-45.33 124,-59.67 124,-59.67 124,-61.83 121.83,-64 119.67,-64\"/>\n",
              "<text text-anchor=\"middle\" x=\"117.5\" y=\"-48.8\" font-family=\"Times,serif\" font-size=\"14.00\">&#45;</text>\n",
              "</g>\n",
              "<!-- N10&#45;&gt;N12 -->\n",
              "<g id=\"edge17\" class=\"edge\">\n",
              "<title>N10&#45;&gt;N12</title>\n",
              "<path fill=\"none\" stroke=\"black\" stroke-width=\"0.5\" d=\"M120.41,-81.84C119.84,-76.34 119.16,-69.65 118.59,-64.14\"/>\n",
              "</g>\n",
              "<!-- N13 -->\n",
              "<g id=\"node14\" class=\"node\">\n",
              "<title>N13</title>\n",
              "<path fill=\"none\" stroke=\"black\" stroke-width=\"0.25\" d=\"M154.5,-64C154.5,-64 148.5,-64 148.5,-64 145.5,-64 142.5,-61 142.5,-58 142.5,-58 142.5,-47 142.5,-47 142.5,-44 145.5,-41 148.5,-41 148.5,-41 154.5,-41 154.5,-41 157.5,-41 160.5,-44 160.5,-47 160.5,-47 160.5,-58 160.5,-58 160.5,-61 157.5,-64 154.5,-64\"/>\n",
              "<text text-anchor=\"middle\" x=\"151.5\" y=\"-48.8\" font-family=\"Times,serif\" font-size=\"14.00\">T</text>\n",
              "</g>\n",
              "<!-- N10&#45;&gt;N13 -->\n",
              "<g id=\"edge18\" class=\"edge\">\n",
              "<title>N10&#45;&gt;N13</title>\n",
              "<path fill=\"none\" stroke=\"black\" stroke-width=\"0.5\" d=\"M129.7,-81.84C133.93,-76.34 139.08,-69.65 143.31,-64.14\"/>\n",
              "</g>\n",
              "<!-- N12&#45;&gt;N13 -->\n",
              "<!-- N14 -->\n",
              "<g id=\"node15\" class=\"node\">\n",
              "<title>N14</title>\n",
              "<path fill=\"none\" stroke=\"black\" stroke-width=\"1.25\" d=\"M154,-23C154,-23 149,-23 149,-23 146.5,-23 144,-20.5 144,-18 144,-18 144,-5 144,-5 144,-2.5 146.5,0 149,0 149,0 154,0 154,0 156.5,0 159,-2.5 159,-5 159,-5 159,-18 159,-18 159,-20.5 156.5,-23 154,-23\"/>\n",
              "<text text-anchor=\"middle\" x=\"151.5\" y=\"-7.8\" font-family=\"Times,serif\" font-size=\"14.00\">t</text>\n",
              "</g>\n",
              "<!-- N13&#45;&gt;N14 -->\n",
              "<g id=\"edge19\" class=\"edge\">\n",
              "<title>N13&#45;&gt;N14</title>\n",
              "<path fill=\"none\" stroke=\"black\" stroke-width=\"0.5\" d=\"M151.5,-40.84C151.5,-35.34 151.5,-28.65 151.5,-23.14\"/>\n",
              "</g>\n",
              "</g>\n",
              "</svg>\n"
            ],
            "text/plain": [
              "ProductionGraph(E -> Eh Ets -> T Ets -> t Ets -> t Et Ets -> t + T Ets -> t + t Ets -> t + t Et # -> t + t - T # -> t + t - t #)"
            ]
          },
          "execution_count": 10,
          "metadata": {},
          "output_type": "execute_result"
        }
      ],
      "source": [
        "# graficamente\n",
        "\n",
        "ProductionGraph(Derivation(G).leftmost(steps))"
      ]
    },
    {
      "cell_type": "markdown",
      "metadata": {},
      "source": [
        "## Generazione automatica del parser\n",
        "\n",
        "Iniziamo con l'osservare che gli `if` della soluzione manuale sono prodotti, uno per ciascun simbolo, considerando in sequenza le possibili alternative (lati destri delle produzioni) e restituendo successo al primo tentativo valido.\n",
        "\n",
        "Un esmepio è il simbolo `Ets` le cui due alternative sono `Et Ets` e `Et #`… supponiamo di scaricarne la soluzione a due funzioni denominate `Ets_alt0` e `Ets_alt0` che definiremo in seguito."
      ]
    },
    {
      "cell_type": "code",
      "execution_count": null,
      "metadata": {},
      "outputs": [],
      "source": [
        "def parse(X, rest):\n",
        "\n",
        "  # ...\n",
        "\n",
        "  if X == 'Ets':\n",
        "    succ_alt, rest_alt = Ets_alt0(rest)\n",
        "    if succ_alt: return True, rest_alt\n",
        "    succ_alt, rest_alt = Ets_alt1(rest)\n",
        "    if succ_alt: return True, rest_alt\n",
        "    return False, rest\n",
        "\n",
        "  # ..."
      ]
    },
    {
      "cell_type": "markdown",
      "metadata": {},
      "source": [
        "Ciascuna alternativa e valutata considerando in sequenza i simboli di cui è costituita, vediamo ad esempio `Et Ets`"
      ]
    },
    {
      "cell_type": "code",
      "execution_count": null,
      "metadata": {},
      "outputs": [],
      "source": [
        "def Ets_alt0(rest):\n",
        "  succ, rest = parse('Et', rest)\n",
        "  if not succ: return False, rest\n",
        "  succ, rest = parse('Ets', rest)\n",
        "  if not succ: return False, rest\n",
        "  return True, rest"
      ]
    },
    {
      "cell_type": "markdown",
      "metadata": {},
      "source": [
        "e similmente `Et #` "
      ]
    },
    {
      "cell_type": "code",
      "execution_count": null,
      "metadata": {},
      "outputs": [],
      "source": [
        "def Ets_alt1(rest):\n",
        "    succ, rest = parse('Et', rest)\n",
        "    if not succ: return False, rest\n",
        "    succ, rest = parse('#', rest)\n",
        "    if not succ: return False, rest\n",
        "    return True, rest"
      ]
    },
    {
      "attachments": {},
      "cell_type": "markdown",
      "metadata": {},
      "source": [
        "Non è difficile scrivere una funzione che, data $G$ come input, produca il testo sorgente della funzione `parse` procedendo come sopra.\n",
        "\n",
        "Ci servono due funzioni di utlità: la prima per indentare un blocco di testo al livello di intentazione specificato, la seconda per tradurre il codice sorgente di una funzione Python di nome `parse` in codice eseguibile."
      ]
    },
    {
      "cell_type": "code",
      "execution_count": null,
      "metadata": {},
      "outputs": [],
      "source": [
        "def indent_at(level, source):\n",
        "  return indent(dedent(source), '  ' * level).strip('\\n')\n",
        "\n",
        "def make_parse(source):\n",
        "  glb = {'show_calls': show_calls}\n",
        "  exec(source, glb)\n",
        "  return glb['parse']"
      ]
    },
    {
      "attachments": {},
      "cell_type": "markdown",
      "metadata": {},
      "source": [
        "Siamo pronti per procedere, useremo le [f-stringhe](https://docs.python.org/3/reference/lexical_analysis.html#f-strings) per maggior compattezza, scriviamo una funzione che data $G$ restituisca il sorgente di `parse` costruita secondo i criteri precedentemente espressi."
      ]
    },
    {
      "cell_type": "code",
      "execution_count": null,
      "metadata": {},
      "outputs": [],
      "source": [
        "def make_parse_source(G):\n",
        "\n",
        "  # prima le definizioni delle funzioni A_altN\n",
        "\n",
        "  defs = []\n",
        "  for A in G.N:\n",
        "    for n, α in enumerate(G.alternatives(A)):\n",
        "      # la funzione \"{A}_alt{n}\"\n",
        "      defs.append(f'def {A}_alt{n}(rest):')\n",
        "      for X in α: \n",
        "        # una coppia di linee per ogni simbolo\n",
        "        defs.append(indent_at(1, f'''\n",
        "          succ, rest = parse('{X}', rest)\n",
        "          if not succ: return False, rest\n",
        "        '''))\n",
        "      defs.append(indent_at(1,'return True, rest'))\n",
        "\n",
        "  # poi gli if, uno per terminale\n",
        "\n",
        "  ifs = []\n",
        "  for A in G.N:\n",
        "    # l'if \"X == '{A}'\"\n",
        "    ifs.append(f\"if X == '{A}':\")\n",
        "    for n, _ in enumerate(G.alternatives(A)): \n",
        "      # una coppia di linee, una per alternativa\n",
        "      ifs.append(indent_at(1, f'''\n",
        "        succ_alt, rest_alt = {A}_alt{n}(rest)\n",
        "        if succ_alt: return True, rest_alt\n",
        "      '''))\n",
        "    ifs.append(indent_at(1,'return False, rest'))\n",
        "\n",
        "  # in fine i terminali\n",
        "\n",
        "  ifs.append(indent_at(0, f'''\n",
        "    if X in {G.T}:\n",
        "      if rest and rest[0] == X: return True, rest[1:]\n",
        "      return False, rest\n",
        "  '''))\n",
        "\n",
        "  # e ora mettiamo tutto assieme \n",
        "\n",
        "  parse = '\\n'.join((\n",
        "    indent_at(0, '''\n",
        "      @show_calls(True)\n",
        "      def parse(X, rest):\n",
        "    '''), \n",
        "    indent_at(1, '\\n'.join(defs)), \n",
        "    indent_at(1, '\\n'.join(ifs))\n",
        "  ))\n",
        "\n",
        "  return parse"
      ]
    },
    {
      "cell_type": "markdown",
      "metadata": {},
      "source": [
        "Siamo pronti, generiamo (e stampiamo) il sorgente"
      ]
    },
    {
      "cell_type": "code",
      "execution_count": null,
      "metadata": {},
      "outputs": [
        {
          "name": "stdout",
          "output_type": "stream",
          "text": [
            "@show_calls(True)\n",
            "def parse(X, rest):\n",
            "  def Ets_alt0(rest):\n",
            "    succ, rest = parse('Et', rest)\n",
            "    if not succ: return False, rest\n",
            "    succ, rest = parse('Ets', rest)\n",
            "    if not succ: return False, rest\n",
            "    return True, rest\n",
            "  def Ets_alt1(rest):\n",
            "    succ, rest = parse('Et', rest)\n",
            "    if not succ: return False, rest\n",
            "    succ, rest = parse('#', rest)\n",
            "    if not succ: return False, rest\n",
            "    return True, rest\n",
            "  def Et_alt0(rest):\n",
            "    succ, rest = parse('+', rest)\n",
            "    if not succ: return False, rest\n",
            "    succ, rest = parse('T', rest)\n",
            "    if not succ: return False, rest\n",
            "    return True, rest\n",
            "  def Et_alt1(rest):\n",
            "    succ, rest = parse('-', rest)\n",
            "    if not succ: return False, rest\n",
            "    succ, rest = parse('T', rest)\n",
            "    if not succ: return False, rest\n",
            "    return True, rest\n",
            "  def E_alt0(rest):\n",
            "    succ, rest = parse('Eh', rest)\n",
            "    if not succ: return False, rest\n",
            "    succ, rest = parse('Ets', rest)\n",
            "    if not succ: return False, rest\n",
            "    return True, rest\n",
            "  def E_alt1(rest):\n",
            "    succ, rest = parse('Eh', rest)\n",
            "    if not succ: return False, rest\n",
            "    succ, rest = parse('#', rest)\n",
            "    if not succ: return False, rest\n",
            "    return True, rest\n",
            "  def Eh_alt0(rest):\n",
            "    succ, rest = parse('T', rest)\n",
            "    if not succ: return False, rest\n",
            "    return True, rest\n",
            "  def T_alt0(rest):\n",
            "    succ, rest = parse('t', rest)\n",
            "    if not succ: return False, rest\n",
            "    return True, rest\n",
            "  if X == 'Ets':\n",
            "    succ_alt, rest_alt = Ets_alt0(rest)\n",
            "    if succ_alt: return True, rest_alt\n",
            "    succ_alt, rest_alt = Ets_alt1(rest)\n",
            "    if succ_alt: return True, rest_alt\n",
            "    return False, rest\n",
            "  if X == 'Et':\n",
            "    succ_alt, rest_alt = Et_alt0(rest)\n",
            "    if succ_alt: return True, rest_alt\n",
            "    succ_alt, rest_alt = Et_alt1(rest)\n",
            "    if succ_alt: return True, rest_alt\n",
            "    return False, rest\n",
            "  if X == 'E':\n",
            "    succ_alt, rest_alt = E_alt0(rest)\n",
            "    if succ_alt: return True, rest_alt\n",
            "    succ_alt, rest_alt = E_alt1(rest)\n",
            "    if succ_alt: return True, rest_alt\n",
            "    return False, rest\n",
            "  if X == 'Eh':\n",
            "    succ_alt, rest_alt = Eh_alt0(rest)\n",
            "    if succ_alt: return True, rest_alt\n",
            "    return False, rest\n",
            "  if X == 'T':\n",
            "    succ_alt, rest_alt = T_alt0(rest)\n",
            "    if succ_alt: return True, rest_alt\n",
            "    return False, rest\n",
            "  if X in frozenset({'+', '-', '#', 't'}):\n",
            "    if rest and rest[0] == X: return True, rest[1:]\n",
            "    return False, rest\n"
          ]
        }
      ],
      "source": [
        "source = make_parse_source(G) # G è la grammatica prefix-free dell'inizio\n",
        "print(source)"
      ]
    },
    {
      "cell_type": "markdown",
      "metadata": {},
      "source": [
        "E ora rendiamolo \"eseguibile\" e testiamolo sull'input"
      ]
    },
    {
      "cell_type": "code",
      "execution_count": null,
      "metadata": {},
      "outputs": [
        {
          "name": "stdout",
          "output_type": "stream",
          "text": [
            "┌parse('E', 't+t-t#')\n",
            "│┌parse('Eh', 't+t-t#')\n",
            "││┌parse('T', 't+t-t#')\n",
            "│││┌parse('t', 't+t-t#')\n",
            "│││└─ (True, '+t-t#')\n",
            "││└─ (True, '+t-t#')\n",
            "│└─ (True, '+t-t#')\n",
            "│┌parse('Ets', '+t-t#')\n",
            "││┌parse('Et', '+t-t#')\n",
            "│││┌parse('+', '+t-t#')\n",
            "│││└─ (True, 't-t#')\n",
            "│││┌parse('T', 't-t#')\n",
            "││││┌parse('t', 't-t#')\n",
            "││││└─ (True, '-t#')\n",
            "│││└─ (True, '-t#')\n",
            "││└─ (True, '-t#')\n",
            "││┌parse('Ets', '-t#')\n",
            "│││┌parse('Et', '-t#')\n",
            "││││┌parse('+', '-t#')\n",
            "││││└─ (False, '-t#')\n",
            "││││┌parse('-', '-t#')\n",
            "││││└─ (True, 't#')\n",
            "││││┌parse('T', 't#')\n",
            "│││││┌parse('t', 't#')\n",
            "│││││└─ (True, '#')\n",
            "││││└─ (True, '#')\n",
            "│││└─ (True, '#')\n",
            "│││┌parse('Ets', '#')\n",
            "││││┌parse('Et', '#')\n",
            "│││││┌parse('+', '#')\n",
            "│││││└─ (False, '#')\n",
            "│││││┌parse('-', '#')\n",
            "│││││└─ (False, '#')\n",
            "││││└─ (False, '#')\n",
            "││││┌parse('Et', '#')\n",
            "│││││┌parse('+', '#')\n",
            "│││││└─ (False, '#')\n",
            "│││││┌parse('-', '#')\n",
            "│││││└─ (False, '#')\n",
            "││││└─ (False, '#')\n",
            "│││└─ (False, '#')\n",
            "│││┌parse('Et', '-t#')\n",
            "││││┌parse('+', '-t#')\n",
            "││││└─ (False, '-t#')\n",
            "││││┌parse('-', '-t#')\n",
            "││││└─ (True, 't#')\n",
            "││││┌parse('T', 't#')\n",
            "│││││┌parse('t', 't#')\n",
            "│││││└─ (True, '#')\n",
            "││││└─ (True, '#')\n",
            "│││└─ (True, '#')\n",
            "│││┌parse('#', '#')\n",
            "│││└─ (True, '')\n",
            "││└─ (True, '')\n",
            "│└─ (True, '')\n",
            "└─ (True, '')\n"
          ]
        },
        {
          "data": {
            "text/plain": [
              "(True, '')"
            ]
          },
          "execution_count": 17,
          "metadata": {},
          "output_type": "execute_result"
        }
      ],
      "source": [
        "parse = make_parse(source)\n",
        "\n",
        "parse('E', 't+t-t#')"
      ]
    },
    {
      "cell_type": "markdown",
      "metadata": {},
      "source": [
        "## Un caso concreto non prefix-free\n",
        "\n",
        "Cosa succede se $G$ non è *prefix-free*?"
      ]
    },
    {
      "cell_type": "code",
      "execution_count": null,
      "metadata": {},
      "outputs": [
        {
          "data": {
            "text/plain": [
              "Grammar(N={S}, T={a, b}, P=(S -> a, S -> a b), S=S)"
            ]
          },
          "execution_count": 18,
          "metadata": {},
          "output_type": "execute_result"
        }
      ],
      "source": [
        "# una grammatica non prefix-free (L = {a, ab})\n",
        "\n",
        "G = Grammar.from_string(\"\"\"\n",
        "S -> a | a b\n",
        "\"\"\")\n",
        "G"
      ]
    },
    {
      "cell_type": "code",
      "execution_count": null,
      "metadata": {},
      "outputs": [
        {
          "name": "stdout",
          "output_type": "stream",
          "text": [
            "┌parse('S', 'ab')\n",
            "│┌parse('a', 'ab')\n",
            "│└─ (True, 'b')\n",
            "└─ (True, 'b')\n"
          ]
        },
        {
          "data": {
            "text/plain": [
              "(True, 'b')"
            ]
          },
          "execution_count": 19,
          "metadata": {},
          "output_type": "execute_result"
        }
      ],
      "source": [
        "# costruiamo il parser e tentiamo il parse\n",
        "\n",
        "source = make_parse_source(G)\n",
        "parse = make_parse(source)\n",
        "parse('S', 'ab')\n"
      ]
    },
    {
      "cell_type": "markdown",
      "metadata": {},
      "source": [
        "Questo è un fallimento, non è stata considerata la seconda produzione ed in fatti è \"avanzata\" la `b`. Questo avviene perché il parser valuta in sequenza le alterniative e procede nella ricorsione al primo successo (non investigando se ci siano altri possibili successi in altre alternative)."
      ]
    }
  ],
  "metadata": {
    "kernelspec": {
      "display_name": "Python 3",
      "language": "python",
      "name": "python3"
    },
    "language_info": {
      "codemirror_mode": {
        "name": "ipython",
        "version": 3
      },
      "file_extension": ".py",
      "mimetype": "text/x-python",
      "name": "python",
      "nbconvert_exporter": "python",
      "pygments_lexer": "ipython3"
    }
  },
  "nbformat": 4,
  "nbformat_minor": 4
}
