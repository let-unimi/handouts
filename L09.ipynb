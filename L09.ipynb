{
  "cells": [
    {
      "cell_type": "markdown",
      "metadata": {},
      "source": [
        "# Lezione 9\n",
        "\n",
        "## Parsing top-down direzionale (caso generale)"
      ]
    },
    {
      "cell_type": "code",
      "execution_count": null,
      "metadata": {},
      "outputs": [
        {
          "data": {
            "text/plain": [
              "'1.3.1-alpha'"
            ]
          },
          "execution_count": 1,
          "metadata": {},
          "output_type": "execute_result"
        }
      ],
      "source": [
        "from liblet import (\n",
        "    Production, \n",
        "    Grammar, \n",
        "    Derivation, \n",
        "    TopDownInstantaneousDescription,\n",
        "    Queue, \n",
        "    Stack, \n",
        "    animate_derivation,\n",
        "    __version__\n",
        ")\n",
        "__version__"
      ]
    },
    {
      "cell_type": "markdown",
      "metadata": {},
      "source": [
        "## Imitando le derivazioni leftmost…"
      ]
    },
    {
      "cell_type": "code",
      "execution_count": null,
      "metadata": {},
      "outputs": [
        {
          "data": {
            "text/plain": [
              "Grammar(N={A, B, S}, T={a, b}, P=(S -> a B, S -> b A, A -> a, A -> a S, A -> b A A, B -> b, B -> b S, B -> a B B), S=S)"
            ]
          },
          "execution_count": 1,
          "metadata": {},
          "output_type": "execute_result"
        }
      ],
      "source": [
        "# fig. 6.1, pag. 165\n",
        "\n",
        "G = Grammar.from_string(\"\"\"\n",
        "S -> a B | b A\n",
        "A -> a | a S | b A A\n",
        "B -> b | b S | a B B\n",
        "\"\"\")\n",
        "G"
      ]
    },
    {
      "cell_type": "code",
      "execution_count": null,
      "metadata": {},
      "outputs": [
        {
          "data": {
            "application/vnd.jupyter.widget-view+json": {
              "model_id": "0de761ba86604159ba0b9cf4b4357712",
              "version_major": 2,
              "version_minor": 0
            },
            "text/plain": [
              "interactive(children=(IntSlider(value=0, description='n', max=4), Output(layout=Layout(height='300px'))), _dom…"
            ]
          },
          "metadata": {},
          "output_type": "display_data"
        }
      ],
      "source": [
        "# parola aabb\n",
        "\n",
        "animate_derivation(Derivation(G).leftmost((0, 7, 5, 5)))"
      ]
    },
    {
      "cell_type": "code",
      "execution_count": null,
      "metadata": {},
      "outputs": [],
      "source": [
        "# non presente nel libro (caso che mostra meglio l'esigenza di una pila)\n",
        "\n",
        "G = Grammar.from_string(\"\"\"\n",
        "S -> a B C\n",
        "B -> a B | b\n",
        "C -> a\n",
        "\"\"\")"
      ]
    },
    {
      "cell_type": "code",
      "execution_count": null,
      "metadata": {},
      "outputs": [
        {
          "data": {
            "application/vnd.jupyter.widget-view+json": {
              "model_id": "fddf463edbde4cdba879651a2cfdaf59",
              "version_major": 2,
              "version_minor": 0
            },
            "text/plain": [
              "interactive(children=(IntSlider(value=0, description='n', max=4), Output(layout=Layout(height='300px'))), _dom…"
            ]
          },
          "metadata": {},
          "output_type": "display_data"
        }
      ],
      "source": [
        "# parola aaba\n",
        "\n",
        "animate_derivation(Derivation(G).leftmost((0, 1, 2, 3)))"
      ]
    },
    {
      "cell_type": "markdown",
      "metadata": {},
      "source": [
        "# Simulare la computazione del NPDA \n",
        "\n",
        "La simulazione si basa su visite del DAG delle computazioni. In ogni nodo conserviamo la descrizione istantanea (a cui abbiamo aggiunto la derivazione che ha condotto a tale derivazione)."
      ]
    },
    {
      "cell_type": "code",
      "execution_count": null,
      "metadata": {},
      "outputs": [
        {
          "data": {
            "text/plain": [
              "(), S＃, a̲aba＃"
            ]
          },
          "execution_count": 1,
          "metadata": {},
          "output_type": "execute_result"
        }
      ],
      "source": [
        "i = TopDownInstantaneousDescription(G, 'aaba')\n",
        "i"
      ]
    },
    {
      "cell_type": "code",
      "execution_count": null,
      "metadata": {},
      "outputs": [
        {
          "data": {
            "text/plain": [
              "(S -> a B C,), aBC＃, a̲aba＃"
            ]
          },
          "execution_count": 1,
          "metadata": {},
          "output_type": "execute_result"
        }
      ],
      "source": [
        "i = i.predict(G.P[0])\n",
        "i"
      ]
    },
    {
      "cell_type": "code",
      "execution_count": null,
      "metadata": {},
      "outputs": [
        {
          "data": {
            "text/plain": [
              "(S -> a B C,), BC＃, aa̲ba＃"
            ]
          },
          "execution_count": 1,
          "metadata": {},
          "output_type": "execute_result"
        }
      ],
      "source": [
        "i = i.match()\n",
        "i"
      ]
    },
    {
      "cell_type": "code",
      "execution_count": null,
      "metadata": {},
      "outputs": [
        {
          "data": {
            "text/plain": [
              "(S -> a B C, B -> a B), aBC＃, aa̲ba＃"
            ]
          },
          "execution_count": 1,
          "metadata": {},
          "output_type": "execute_result"
        }
      ],
      "source": [
        "i = i.predict(G.P[1])\n",
        "i"
      ]
    },
    {
      "cell_type": "code",
      "execution_count": null,
      "metadata": {},
      "outputs": [
        {
          "data": {
            "text/plain": [
              "(S -> a B C, B -> a B), BC＃, aab̲a＃"
            ]
          },
          "execution_count": 1,
          "metadata": {},
          "output_type": "execute_result"
        }
      ],
      "source": [
        "i = i.match()\n",
        "i"
      ]
    },
    {
      "cell_type": "code",
      "execution_count": null,
      "metadata": {},
      "outputs": [
        {
          "data": {
            "text/plain": [
              "(S -> a B C, B -> a B, B -> b), bC＃, aab̲a＃"
            ]
          },
          "execution_count": 1,
          "metadata": {},
          "output_type": "execute_result"
        }
      ],
      "source": [
        "i = i.predict(G.P[2])\n",
        "i"
      ]
    },
    {
      "cell_type": "code",
      "execution_count": null,
      "metadata": {},
      "outputs": [
        {
          "data": {
            "text/plain": [
              "(S -> a B C, B -> a B, B -> b), C＃, aaba̲＃"
            ]
          },
          "execution_count": 1,
          "metadata": {},
          "output_type": "execute_result"
        }
      ],
      "source": [
        "i = i.match()\n",
        "i"
      ]
    },
    {
      "cell_type": "code",
      "execution_count": null,
      "metadata": {},
      "outputs": [
        {
          "data": {
            "text/plain": [
              "(S -> a B C, B -> a B, B -> b, C -> a), a＃, aaba̲＃"
            ]
          },
          "execution_count": 1,
          "metadata": {},
          "output_type": "execute_result"
        }
      ],
      "source": [
        "i = i.predict(G.P[3])\n",
        "i"
      ]
    },
    {
      "cell_type": "code",
      "execution_count": null,
      "metadata": {},
      "outputs": [
        {
          "data": {
            "text/plain": [
              "(S -> a B C, B -> a B, B -> b, C -> a), ＃, aaba＃̲"
            ]
          },
          "execution_count": 1,
          "metadata": {},
          "output_type": "execute_result"
        }
      ],
      "source": [
        "i = i.match()\n",
        "i"
      ]
    },
    {
      "cell_type": "code",
      "execution_count": null,
      "metadata": {},
      "outputs": [
        {
          "data": {
            "text/plain": [
              "True"
            ]
          },
          "execution_count": 1,
          "metadata": {},
          "output_type": "execute_result"
        }
      ],
      "source": [
        "i.is_done()"
      ]
    },
    {
      "cell_type": "markdown",
      "metadata": {},
      "source": [
        "## La funzione \"stato prossimo\""
      ]
    },
    {
      "cell_type": "code",
      "execution_count": null,
      "metadata": {},
      "outputs": [],
      "source": [
        "def next_instdescrs(instdescr):\n",
        "    if instdescr.is_done(): return []\n",
        "    G = instdescr.G\n",
        "    top = instdescr.top()\n",
        "    if top in G.T:\n",
        "        return [instdescr.match()] if top == instdescr.head() else []\n",
        "    else:\n",
        "        return [instdescr.predict(P) for P in filter(Production.such_that(lhs = top), G.P)]\n",
        "\n",
        "# tengo da parte un riferimento a questa implementazione per dopo…\n",
        "original_next_instdescrs = next_instdescrs"
      ]
    },
    {
      "cell_type": "markdown",
      "metadata": {},
      "source": [
        "## Usando una visita in ampiezza\n",
        "\n",
        "Visitiamo il DAG con una *coda*, teniamo da parte *tutte le derivazioni* che man mano troviamo. \n",
        "\n",
        "La visita \"verbosa\" stampa il contenuto dell'intera coda ad ogni iterazione.\n",
        "\n",
        "Il parametro `first_only` fa in modo che la simulazione si arresti quando viene trovata la prima derivazione."
      ]
    },
    {
      "cell_type": "code",
      "execution_count": null,
      "metadata": {},
      "outputs": [],
      "source": [
        "def breadth_first(G, word, verbose = False, first_only = False):\n",
        "    q = Queue()\n",
        "    q.enqueue(TopDownInstantaneousDescription(G, word))\n",
        "    derivations = []\n",
        "    while q:\n",
        "        if verbose:\n",
        "            for i in q: print(i)\n",
        "            print('-' * 60)\n",
        "        curr = q.dequeue()\n",
        "        if curr.is_done():\n",
        "            derivations.append(curr.steps)\n",
        "            if first_only: return derivations\n",
        "        else:\n",
        "            for nxt in next_instdescrs(curr): q.enqueue(nxt)\n",
        "    return derivations"
      ]
    },
    {
      "cell_type": "code",
      "execution_count": null,
      "metadata": {},
      "outputs": [
        {
          "data": {
            "text/plain": [
              "[(S -> a B C, B -> a B, B -> b, C -> a)]"
            ]
          },
          "execution_count": 1,
          "metadata": {},
          "output_type": "execute_result"
        }
      ],
      "source": [
        "# testiamolo sull'ultima grammatica vista\n",
        "\n",
        "steps = breadth_first(G, 'aaba')\n",
        "steps"
      ]
    },
    {
      "cell_type": "code",
      "execution_count": null,
      "metadata": {},
      "outputs": [
        {
          "data": {
            "text/plain": [
              "S -> a B C -> a a B C -> a a b C -> a a b a"
            ]
          },
          "execution_count": 1,
          "metadata": {},
          "output_type": "execute_result"
        }
      ],
      "source": [
        "Derivation(G).leftmost(steps[0])"
      ]
    },
    {
      "cell_type": "markdown",
      "metadata": {},
      "source": [
        "## Non solo GNF\n",
        "\n",
        "A ben guardare, la simulazione \"funziona\" non solo per le GNF… se il lato destro mescola simboli terminali e non, finiranno nella pila del PDA e verranno gestiti (apparentemente) senza particolari problemi…"
      ]
    },
    {
      "cell_type": "code",
      "execution_count": null,
      "metadata": {},
      "outputs": [
        {
          "data": {
            "text/plain": [
              "Grammar(N={A, B, C, D, S}, T={a, b, c}, P=(S -> A B, S -> D C, A -> a, A -> a A, B -> b c, B -> b B c, D -> a b, D -> a D b, C -> c, C -> c C), S=S)"
            ]
          },
          "execution_count": 1,
          "metadata": {},
          "output_type": "execute_result"
        }
      ],
      "source": [
        "# un altro test, fedele al libro di testo\n",
        "\n",
        "# fig. 6.6, pag. 171\n",
        "\n",
        "G = Grammar.from_string(\"\"\"\n",
        "S -> A B | D C \n",
        "A -> a | a A\n",
        "B -> b c | b B c \n",
        "D -> a b | a D b \n",
        "C -> c | c C\n",
        "\"\"\")\n",
        "G"
      ]
    },
    {
      "cell_type": "code",
      "execution_count": null,
      "metadata": {},
      "outputs": [
        {
          "name": "stdout",
          "output_type": "stream",
          "text": [
            "(), S＃, a̲abc＃\n",
            "------------------------------------------------------------\n",
            "(S -> A B,), AB＃, a̲abc＃\n",
            "(S -> D C,), DC＃, a̲abc＃\n",
            "------------------------------------------------------------\n",
            "(S -> D C,), DC＃, a̲abc＃\n",
            "(S -> A B, A -> a), aB＃, a̲abc＃\n",
            "(S -> A B, A -> a A), aAB＃, a̲abc＃\n",
            "------------------------------------------------------------\n",
            "(S -> A B, A -> a), aB＃, a̲abc＃\n",
            "(S -> A B, A -> a A), aAB＃, a̲abc＃\n",
            "(S -> D C, D -> a b), abC＃, a̲abc＃\n",
            "(S -> D C, D -> a D b), aDbC＃, a̲abc＃\n",
            "------------------------------------------------------------\n",
            "(S -> A B, A -> a A), aAB＃, a̲abc＃\n",
            "(S -> D C, D -> a b), abC＃, a̲abc＃\n",
            "(S -> D C, D -> a D b), aDbC＃, a̲abc＃\n",
            "(S -> A B, A -> a), B＃, aa̲bc＃\n",
            "------------------------------------------------------------\n",
            "(S -> D C, D -> a b), abC＃, a̲abc＃\n",
            "(S -> D C, D -> a D b), aDbC＃, a̲abc＃\n",
            "(S -> A B, A -> a), B＃, aa̲bc＃\n",
            "(S -> A B, A -> a A), AB＃, aa̲bc＃\n",
            "------------------------------------------------------------\n",
            "(S -> D C, D -> a D b), aDbC＃, a̲abc＃\n",
            "(S -> A B, A -> a), B＃, aa̲bc＃\n",
            "(S -> A B, A -> a A), AB＃, aa̲bc＃\n",
            "(S -> D C, D -> a b), bC＃, aa̲bc＃\n",
            "------------------------------------------------------------\n",
            "(S -> A B, A -> a), B＃, aa̲bc＃\n",
            "(S -> A B, A -> a A), AB＃, aa̲bc＃\n",
            "(S -> D C, D -> a b), bC＃, aa̲bc＃\n",
            "(S -> D C, D -> a D b), DbC＃, aa̲bc＃\n",
            "------------------------------------------------------------\n",
            "(S -> A B, A -> a A), AB＃, aa̲bc＃\n",
            "(S -> D C, D -> a b), bC＃, aa̲bc＃\n",
            "(S -> D C, D -> a D b), DbC＃, aa̲bc＃\n",
            "(S -> A B, A -> a, B -> b c), bc＃, aa̲bc＃\n",
            "(S -> A B, A -> a, B -> b B c), bBc＃, aa̲bc＃\n",
            "------------------------------------------------------------\n",
            "(S -> D C, D -> a b), bC＃, aa̲bc＃\n",
            "(S -> D C, D -> a D b), DbC＃, aa̲bc＃\n",
            "(S -> A B, A -> a, B -> b c), bc＃, aa̲bc＃\n",
            "(S -> A B, A -> a, B -> b B c), bBc＃, aa̲bc＃\n",
            "(S -> A B, A -> a A, A -> a), aB＃, aa̲bc＃\n",
            "(S -> A B, A -> a A, A -> a A), aAB＃, aa̲bc＃\n",
            "------------------------------------------------------------\n",
            "(S -> D C, D -> a D b), DbC＃, aa̲bc＃\n",
            "(S -> A B, A -> a, B -> b c), bc＃, aa̲bc＃\n",
            "(S -> A B, A -> a, B -> b B c), bBc＃, aa̲bc＃\n",
            "(S -> A B, A -> a A, A -> a), aB＃, aa̲bc＃\n",
            "(S -> A B, A -> a A, A -> a A), aAB＃, aa̲bc＃\n",
            "------------------------------------------------------------\n",
            "(S -> A B, A -> a, B -> b c), bc＃, aa̲bc＃\n",
            "(S -> A B, A -> a, B -> b B c), bBc＃, aa̲bc＃\n",
            "(S -> A B, A -> a A, A -> a), aB＃, aa̲bc＃\n",
            "(S -> A B, A -> a A, A -> a A), aAB＃, aa̲bc＃\n",
            "(S -> D C, D -> a D b, D -> a b), abbC＃, aa̲bc＃\n",
            "(S -> D C, D -> a D b, D -> a D b), aDbbC＃, aa̲bc＃\n",
            "------------------------------------------------------------\n",
            "(S -> A B, A -> a, B -> b B c), bBc＃, aa̲bc＃\n",
            "(S -> A B, A -> a A, A -> a), aB＃, aa̲bc＃\n",
            "(S -> A B, A -> a A, A -> a A), aAB＃, aa̲bc＃\n",
            "(S -> D C, D -> a D b, D -> a b), abbC＃, aa̲bc＃\n",
            "(S -> D C, D -> a D b, D -> a D b), aDbbC＃, aa̲bc＃\n",
            "------------------------------------------------------------\n",
            "(S -> A B, A -> a A, A -> a), aB＃, aa̲bc＃\n",
            "(S -> A B, A -> a A, A -> a A), aAB＃, aa̲bc＃\n",
            "(S -> D C, D -> a D b, D -> a b), abbC＃, aa̲bc＃\n",
            "(S -> D C, D -> a D b, D -> a D b), aDbbC＃, aa̲bc＃\n",
            "------------------------------------------------------------\n",
            "(S -> A B, A -> a A, A -> a A), aAB＃, aa̲bc＃\n",
            "(S -> D C, D -> a D b, D -> a b), abbC＃, aa̲bc＃\n",
            "(S -> D C, D -> a D b, D -> a D b), aDbbC＃, aa̲bc＃\n",
            "(S -> A B, A -> a A, A -> a), B＃, aab̲c＃\n",
            "------------------------------------------------------------\n",
            "(S -> D C, D -> a D b, D -> a b), abbC＃, aa̲bc＃\n",
            "(S -> D C, D -> a D b, D -> a D b), aDbbC＃, aa̲bc＃\n",
            "(S -> A B, A -> a A, A -> a), B＃, aab̲c＃\n",
            "(S -> A B, A -> a A, A -> a A), AB＃, aab̲c＃\n",
            "------------------------------------------------------------\n",
            "(S -> D C, D -> a D b, D -> a D b), aDbbC＃, aa̲bc＃\n",
            "(S -> A B, A -> a A, A -> a), B＃, aab̲c＃\n",
            "(S -> A B, A -> a A, A -> a A), AB＃, aab̲c＃\n",
            "(S -> D C, D -> a D b, D -> a b), bbC＃, aab̲c＃\n",
            "------------------------------------------------------------\n",
            "(S -> A B, A -> a A, A -> a), B＃, aab̲c＃\n",
            "(S -> A B, A -> a A, A -> a A), AB＃, aab̲c＃\n",
            "(S -> D C, D -> a D b, D -> a b), bbC＃, aab̲c＃\n",
            "(S -> D C, D -> a D b, D -> a D b), DbbC＃, aab̲c＃\n",
            "------------------------------------------------------------\n",
            "(S -> A B, A -> a A, A -> a A), AB＃, aab̲c＃\n",
            "(S -> D C, D -> a D b, D -> a b), bbC＃, aab̲c＃\n",
            "(S -> D C, D -> a D b, D -> a D b), DbbC＃, aab̲c＃\n",
            "(S -> A B, A -> a A, A -> a, B -> b c), bc＃, aab̲c＃\n",
            "(S -> A B, A -> a A, A -> a, B -> b B c), bBc＃, aab̲c＃\n",
            "------------------------------------------------------------\n",
            "(S -> D C, D -> a D b, D -> a b), bbC＃, aab̲c＃\n",
            "(S -> D C, D -> a D b, D -> a D b), DbbC＃, aab̲c＃\n",
            "(S -> A B, A -> a A, A -> a, B -> b c), bc＃, aab̲c＃\n",
            "(S -> A B, A -> a A, A -> a, B -> b B c), bBc＃, aab̲c＃\n",
            "(S -> A B, A -> a A, A -> a A, A -> a), aB＃, aab̲c＃\n",
            "(S -> A B, A -> a A, A -> a A, A -> a A), aAB＃, aab̲c＃\n",
            "------------------------------------------------------------\n",
            "(S -> D C, D -> a D b, D -> a D b), DbbC＃, aab̲c＃\n",
            "(S -> A B, A -> a A, A -> a, B -> b c), bc＃, aab̲c＃\n",
            "(S -> A B, A -> a A, A -> a, B -> b B c), bBc＃, aab̲c＃\n",
            "(S -> A B, A -> a A, A -> a A, A -> a), aB＃, aab̲c＃\n",
            "(S -> A B, A -> a A, A -> a A, A -> a A), aAB＃, aab̲c＃\n",
            "(S -> D C, D -> a D b, D -> a b), bC＃, aabc̲＃\n",
            "------------------------------------------------------------\n",
            "(S -> A B, A -> a A, A -> a, B -> b c), bc＃, aab̲c＃\n",
            "(S -> A B, A -> a A, A -> a, B -> b B c), bBc＃, aab̲c＃\n",
            "(S -> A B, A -> a A, A -> a A, A -> a), aB＃, aab̲c＃\n",
            "(S -> A B, A -> a A, A -> a A, A -> a A), aAB＃, aab̲c＃\n",
            "(S -> D C, D -> a D b, D -> a b), bC＃, aabc̲＃\n",
            "(S -> D C, D -> a D b, D -> a D b, D -> a b), abbbC＃, aab̲c＃\n",
            "(S -> D C, D -> a D b, D -> a D b, D -> a D b), aDbbbC＃, aab̲c＃\n",
            "------------------------------------------------------------\n",
            "(S -> A B, A -> a A, A -> a, B -> b B c), bBc＃, aab̲c＃\n",
            "(S -> A B, A -> a A, A -> a A, A -> a), aB＃, aab̲c＃\n",
            "(S -> A B, A -> a A, A -> a A, A -> a A), aAB＃, aab̲c＃\n",
            "(S -> D C, D -> a D b, D -> a b), bC＃, aabc̲＃\n",
            "(S -> D C, D -> a D b, D -> a D b, D -> a b), abbbC＃, aab̲c＃\n",
            "(S -> D C, D -> a D b, D -> a D b, D -> a D b), aDbbbC＃, aab̲c＃\n",
            "(S -> A B, A -> a A, A -> a, B -> b c), c＃, aabc̲＃\n",
            "------------------------------------------------------------\n",
            "(S -> A B, A -> a A, A -> a A, A -> a), aB＃, aab̲c＃\n",
            "(S -> A B, A -> a A, A -> a A, A -> a A), aAB＃, aab̲c＃\n",
            "(S -> D C, D -> a D b, D -> a b), bC＃, aabc̲＃\n",
            "(S -> D C, D -> a D b, D -> a D b, D -> a b), abbbC＃, aab̲c＃\n",
            "(S -> D C, D -> a D b, D -> a D b, D -> a D b), aDbbbC＃, aab̲c＃\n",
            "(S -> A B, A -> a A, A -> a, B -> b c), c＃, aabc̲＃\n",
            "(S -> A B, A -> a A, A -> a, B -> b B c), Bc＃, aabc̲＃\n",
            "------------------------------------------------------------\n",
            "(S -> A B, A -> a A, A -> a A, A -> a A), aAB＃, aab̲c＃\n",
            "(S -> D C, D -> a D b, D -> a b), bC＃, aabc̲＃\n",
            "(S -> D C, D -> a D b, D -> a D b, D -> a b), abbbC＃, aab̲c＃\n",
            "(S -> D C, D -> a D b, D -> a D b, D -> a D b), aDbbbC＃, aab̲c＃\n",
            "(S -> A B, A -> a A, A -> a, B -> b c), c＃, aabc̲＃\n",
            "(S -> A B, A -> a A, A -> a, B -> b B c), Bc＃, aabc̲＃\n",
            "------------------------------------------------------------\n",
            "(S -> D C, D -> a D b, D -> a b), bC＃, aabc̲＃\n",
            "(S -> D C, D -> a D b, D -> a D b, D -> a b), abbbC＃, aab̲c＃\n",
            "(S -> D C, D -> a D b, D -> a D b, D -> a D b), aDbbbC＃, aab̲c＃\n",
            "(S -> A B, A -> a A, A -> a, B -> b c), c＃, aabc̲＃\n",
            "(S -> A B, A -> a A, A -> a, B -> b B c), Bc＃, aabc̲＃\n",
            "------------------------------------------------------------\n",
            "(S -> D C, D -> a D b, D -> a D b, D -> a b), abbbC＃, aab̲c＃\n",
            "(S -> D C, D -> a D b, D -> a D b, D -> a D b), aDbbbC＃, aab̲c＃\n",
            "(S -> A B, A -> a A, A -> a, B -> b c), c＃, aabc̲＃\n",
            "(S -> A B, A -> a A, A -> a, B -> b B c), Bc＃, aabc̲＃\n",
            "------------------------------------------------------------\n",
            "(S -> D C, D -> a D b, D -> a D b, D -> a D b), aDbbbC＃, aab̲c＃\n",
            "(S -> A B, A -> a A, A -> a, B -> b c), c＃, aabc̲＃\n",
            "(S -> A B, A -> a A, A -> a, B -> b B c), Bc＃, aabc̲＃\n",
            "------------------------------------------------------------\n",
            "(S -> A B, A -> a A, A -> a, B -> b c), c＃, aabc̲＃\n",
            "(S -> A B, A -> a A, A -> a, B -> b B c), Bc＃, aabc̲＃\n",
            "------------------------------------------------------------\n",
            "(S -> A B, A -> a A, A -> a, B -> b B c), Bc＃, aabc̲＃\n",
            "(S -> A B, A -> a A, A -> a, B -> b c), ＃, aabc＃̲\n",
            "------------------------------------------------------------\n",
            "(S -> A B, A -> a A, A -> a, B -> b c), ＃, aabc＃̲\n",
            "(S -> A B, A -> a A, A -> a, B -> b B c, B -> b c), bcc＃, aabc̲＃\n",
            "(S -> A B, A -> a A, A -> a, B -> b B c, B -> b B c), bBcc＃, aabc̲＃\n",
            "------------------------------------------------------------\n",
            "(S -> A B, A -> a A, A -> a, B -> b B c, B -> b c), bcc＃, aabc̲＃\n",
            "(S -> A B, A -> a A, A -> a, B -> b B c, B -> b B c), bBcc＃, aabc̲＃\n",
            "------------------------------------------------------------\n",
            "(S -> A B, A -> a A, A -> a, B -> b B c, B -> b B c), bBcc＃, aabc̲＃\n",
            "------------------------------------------------------------\n"
          ]
        },
        {
          "data": {
            "text/plain": [
              "[(S -> A B, A -> a A, A -> a, B -> b c)]"
            ]
          },
          "execution_count": 1,
          "metadata": {},
          "output_type": "execute_result"
        }
      ],
      "source": [
        "breadth_first(G, 'aabc', verbose = True)"
      ]
    },
    {
      "cell_type": "markdown",
      "metadata": {},
      "source": [
        "## Usando una visita in profondità\n",
        "\n",
        "Visitiamo il DAG con una *pila*, come prima teniamo da parte *tutte le derivazioni* che man mano troviamo. \n",
        "\n",
        "La visita \"verbosa\" stampa il contenuto dell'intera coda ad ogni iterazione.\n",
        "\n",
        "Il parametro `max_steps` limita (se diverso da -1) il numero massimo di passi di simulazione."
      ]
    },
    {
      "cell_type": "code",
      "execution_count": null,
      "metadata": {},
      "outputs": [],
      "source": [
        "def depth_first(G, word, verbose = False, max_steps = -1):\n",
        "    s = Stack()\n",
        "    s.push(TopDownInstantaneousDescription(G, word))\n",
        "    derivations = []\n",
        "    steps = 0\n",
        "    while s:\n",
        "        if steps > max_steps > -1: break\n",
        "        steps += 1\n",
        "        if verbose:\n",
        "            for i in s: print(i)\n",
        "            print('-' * 60)\n",
        "        curr = s.pop()\n",
        "        if curr.is_done():\n",
        "            derivations.append(curr.steps)\n",
        "        else:\n",
        "            for nxt in next_instdescrs(curr): s.push(nxt)\n",
        "    return derivations"
      ]
    },
    {
      "cell_type": "code",
      "execution_count": null,
      "metadata": {},
      "outputs": [
        {
          "name": "stdout",
          "output_type": "stream",
          "text": [
            "(), S＃, a̲abc＃\n",
            "------------------------------------------------------------\n",
            "(S -> A B,), AB＃, a̲abc＃\n",
            "(S -> D C,), DC＃, a̲abc＃\n",
            "------------------------------------------------------------\n",
            "(S -> A B,), AB＃, a̲abc＃\n",
            "(S -> D C, D -> a b), abC＃, a̲abc＃\n",
            "(S -> D C, D -> a D b), aDbC＃, a̲abc＃\n",
            "------------------------------------------------------------\n",
            "(S -> A B,), AB＃, a̲abc＃\n",
            "(S -> D C, D -> a b), abC＃, a̲abc＃\n",
            "(S -> D C, D -> a D b), DbC＃, aa̲bc＃\n",
            "------------------------------------------------------------\n",
            "(S -> A B,), AB＃, a̲abc＃\n",
            "(S -> D C, D -> a b), abC＃, a̲abc＃\n",
            "(S -> D C, D -> a D b, D -> a b), abbC＃, aa̲bc＃\n",
            "(S -> D C, D -> a D b, D -> a D b), aDbbC＃, aa̲bc＃\n",
            "------------------------------------------------------------\n",
            "(S -> A B,), AB＃, a̲abc＃\n",
            "(S -> D C, D -> a b), abC＃, a̲abc＃\n",
            "(S -> D C, D -> a D b, D -> a b), abbC＃, aa̲bc＃\n",
            "(S -> D C, D -> a D b, D -> a D b), DbbC＃, aab̲c＃\n",
            "------------------------------------------------------------\n",
            "(S -> A B,), AB＃, a̲abc＃\n",
            "(S -> D C, D -> a b), abC＃, a̲abc＃\n",
            "(S -> D C, D -> a D b, D -> a b), abbC＃, aa̲bc＃\n",
            "(S -> D C, D -> a D b, D -> a D b, D -> a b), abbbC＃, aab̲c＃\n",
            "(S -> D C, D -> a D b, D -> a D b, D -> a D b), aDbbbC＃, aab̲c＃\n",
            "------------------------------------------------------------\n",
            "(S -> A B,), AB＃, a̲abc＃\n",
            "(S -> D C, D -> a b), abC＃, a̲abc＃\n",
            "(S -> D C, D -> a D b, D -> a b), abbC＃, aa̲bc＃\n",
            "(S -> D C, D -> a D b, D -> a D b, D -> a b), abbbC＃, aab̲c＃\n",
            "------------------------------------------------------------\n",
            "(S -> A B,), AB＃, a̲abc＃\n",
            "(S -> D C, D -> a b), abC＃, a̲abc＃\n",
            "(S -> D C, D -> a D b, D -> a b), abbC＃, aa̲bc＃\n",
            "------------------------------------------------------------\n",
            "(S -> A B,), AB＃, a̲abc＃\n",
            "(S -> D C, D -> a b), abC＃, a̲abc＃\n",
            "(S -> D C, D -> a D b, D -> a b), bbC＃, aab̲c＃\n",
            "------------------------------------------------------------\n",
            "(S -> A B,), AB＃, a̲abc＃\n",
            "(S -> D C, D -> a b), abC＃, a̲abc＃\n",
            "(S -> D C, D -> a D b, D -> a b), bC＃, aabc̲＃\n",
            "------------------------------------------------------------\n",
            "(S -> A B,), AB＃, a̲abc＃\n",
            "(S -> D C, D -> a b), abC＃, a̲abc＃\n",
            "------------------------------------------------------------\n",
            "(S -> A B,), AB＃, a̲abc＃\n",
            "(S -> D C, D -> a b), bC＃, aa̲bc＃\n",
            "------------------------------------------------------------\n",
            "(S -> A B,), AB＃, a̲abc＃\n",
            "------------------------------------------------------------\n",
            "(S -> A B, A -> a), aB＃, a̲abc＃\n",
            "(S -> A B, A -> a A), aAB＃, a̲abc＃\n",
            "------------------------------------------------------------\n",
            "(S -> A B, A -> a), aB＃, a̲abc＃\n",
            "(S -> A B, A -> a A), AB＃, aa̲bc＃\n",
            "------------------------------------------------------------\n",
            "(S -> A B, A -> a), aB＃, a̲abc＃\n",
            "(S -> A B, A -> a A, A -> a), aB＃, aa̲bc＃\n",
            "(S -> A B, A -> a A, A -> a A), aAB＃, aa̲bc＃\n",
            "------------------------------------------------------------\n",
            "(S -> A B, A -> a), aB＃, a̲abc＃\n",
            "(S -> A B, A -> a A, A -> a), aB＃, aa̲bc＃\n",
            "(S -> A B, A -> a A, A -> a A), AB＃, aab̲c＃\n",
            "------------------------------------------------------------\n",
            "(S -> A B, A -> a), aB＃, a̲abc＃\n",
            "(S -> A B, A -> a A, A -> a), aB＃, aa̲bc＃\n",
            "(S -> A B, A -> a A, A -> a A, A -> a), aB＃, aab̲c＃\n",
            "(S -> A B, A -> a A, A -> a A, A -> a A), aAB＃, aab̲c＃\n",
            "------------------------------------------------------------\n",
            "(S -> A B, A -> a), aB＃, a̲abc＃\n",
            "(S -> A B, A -> a A, A -> a), aB＃, aa̲bc＃\n",
            "(S -> A B, A -> a A, A -> a A, A -> a), aB＃, aab̲c＃\n",
            "------------------------------------------------------------\n",
            "(S -> A B, A -> a), aB＃, a̲abc＃\n",
            "(S -> A B, A -> a A, A -> a), aB＃, aa̲bc＃\n",
            "------------------------------------------------------------\n",
            "(S -> A B, A -> a), aB＃, a̲abc＃\n",
            "(S -> A B, A -> a A, A -> a), B＃, aab̲c＃\n",
            "------------------------------------------------------------\n",
            "(S -> A B, A -> a), aB＃, a̲abc＃\n",
            "(S -> A B, A -> a A, A -> a, B -> b c), bc＃, aab̲c＃\n",
            "(S -> A B, A -> a A, A -> a, B -> b B c), bBc＃, aab̲c＃\n",
            "------------------------------------------------------------\n",
            "(S -> A B, A -> a), aB＃, a̲abc＃\n",
            "(S -> A B, A -> a A, A -> a, B -> b c), bc＃, aab̲c＃\n",
            "(S -> A B, A -> a A, A -> a, B -> b B c), Bc＃, aabc̲＃\n",
            "------------------------------------------------------------\n",
            "(S -> A B, A -> a), aB＃, a̲abc＃\n",
            "(S -> A B, A -> a A, A -> a, B -> b c), bc＃, aab̲c＃\n",
            "(S -> A B, A -> a A, A -> a, B -> b B c, B -> b c), bcc＃, aabc̲＃\n",
            "(S -> A B, A -> a A, A -> a, B -> b B c, B -> b B c), bBcc＃, aabc̲＃\n",
            "------------------------------------------------------------\n",
            "(S -> A B, A -> a), aB＃, a̲abc＃\n",
            "(S -> A B, A -> a A, A -> a, B -> b c), bc＃, aab̲c＃\n",
            "(S -> A B, A -> a A, A -> a, B -> b B c, B -> b c), bcc＃, aabc̲＃\n",
            "------------------------------------------------------------\n",
            "(S -> A B, A -> a), aB＃, a̲abc＃\n",
            "(S -> A B, A -> a A, A -> a, B -> b c), bc＃, aab̲c＃\n",
            "------------------------------------------------------------\n",
            "(S -> A B, A -> a), aB＃, a̲abc＃\n",
            "(S -> A B, A -> a A, A -> a, B -> b c), c＃, aabc̲＃\n",
            "------------------------------------------------------------\n",
            "(S -> A B, A -> a), aB＃, a̲abc＃\n",
            "(S -> A B, A -> a A, A -> a, B -> b c), ＃, aabc＃̲\n",
            "------------------------------------------------------------\n",
            "(S -> A B, A -> a), aB＃, a̲abc＃\n",
            "------------------------------------------------------------\n",
            "(S -> A B, A -> a), B＃, aa̲bc＃\n",
            "------------------------------------------------------------\n",
            "(S -> A B, A -> a, B -> b c), bc＃, aa̲bc＃\n",
            "(S -> A B, A -> a, B -> b B c), bBc＃, aa̲bc＃\n",
            "------------------------------------------------------------\n",
            "(S -> A B, A -> a, B -> b c), bc＃, aa̲bc＃\n",
            "------------------------------------------------------------\n"
          ]
        },
        {
          "data": {
            "text/plain": [
              "[(S -> A B, A -> a A, A -> a, B -> b c)]"
            ]
          },
          "execution_count": 1,
          "metadata": {},
          "output_type": "execute_result"
        }
      ],
      "source": [
        "# Ancora l'esempio con la grammatica di fig. 6.6, pag. 171\n",
        "\n",
        "depth_first(G, 'aabc', verbose = True)"
      ]
    },
    {
      "cell_type": "markdown",
      "metadata": {},
      "source": [
        "## E la ricorsione?\n",
        "\n",
        "Che succede se la grammatica contiene produzioni ricorsive a sinistra, ossia della forma $A\\to A\\gamma$ (con $A$ raggiungibile)? \n",
        "\n",
        "Per prima cosa, osserviamo che il DAG delle computazioni diventa *infinito* in quanto deve contenere, per ogni $k>0$, tutte le derivazioni della forma $S\\stackrel{*}{\\to} \\alpha A \\beta \\stackrel{k}{\\to} \\alpha A^k \\gamma \\beta$."
      ]
    },
    {
      "cell_type": "code",
      "execution_count": null,
      "metadata": {},
      "outputs": [
        {
          "data": {
            "text/plain": [
              "Grammar(N={S}, T={a, b}, P=(S -> a, S -> S b), S=S)"
            ]
          },
          "execution_count": 1,
          "metadata": {},
          "output_type": "execute_result"
        }
      ],
      "source": [
        "# pag. 173\n",
        "\n",
        "G = Grammar.from_string('S -> a | S b')\n",
        "G"
      ]
    },
    {
      "cell_type": "markdown",
      "metadata": {},
      "source": [
        "Se ci contentiamo della prima derivazione, sicuramente la visita in ampiezza la troverà"
      ]
    },
    {
      "cell_type": "code",
      "execution_count": null,
      "metadata": {},
      "outputs": [
        {
          "data": {
            "text/plain": [
              "[(S -> S b, S -> a)]"
            ]
          },
          "execution_count": 1,
          "metadata": {},
          "output_type": "execute_result"
        }
      ],
      "source": [
        "breadth_first(G, 'ab', first_only = True)"
      ]
    },
    {
      "cell_type": "markdown",
      "metadata": {},
      "source": [
        "Diverso è il discorso delle visita in profondità: se sulla pila c'è $S$ e la prossima mossa è data da $S -> Sb$ l'altezza della pila cresce senza mai consumare alcun carattere dell'input. \n",
        "\n",
        "Per questa ragione, la simulazione non potrà scoprire la derivazione in nessun numero finito di passi!"
      ]
    },
    {
      "cell_type": "code",
      "execution_count": null,
      "metadata": {},
      "outputs": [
        {
          "data": {
            "text/plain": [
              "[]"
            ]
          },
          "execution_count": 1,
          "metadata": {},
          "output_type": "execute_result"
        }
      ],
      "source": [
        "depth_first(G, 'ab', verbose = False, max_steps = 100) # non cambia mettendo numeri maggiori!"
      ]
    },
    {
      "cell_type": "markdown",
      "metadata": {},
      "source": [
        "### <span style=\"color: red\">Rfilessione per casa</span>\n",
        "\n",
        "Cambia qualcosa in presenza di altre forme di produzioni ricorsive, ossia della forma $A -> \\alpha A \\beta$? È importante sapere se $\\alpha \\stackrel{*}{\\to} \\varepsilon$ o meno? \n",
        "\n",
        "Per rispondere, pensate a cosa accade con le GNF (con cui la simulazione funziona sempre), in particolare, ci possono essere produzioni ricorsive nelle GNF? E ricorsive a sinistra?"
      ]
    },
    {
      "cell_type": "markdown",
      "metadata": {},
      "source": [
        "## Un \"trucco\"\n",
        "\n",
        "Se la grammatica non contiene ε-produzioni, si può osservare che se in una configurazione istantanea il numero di simboli sulla pila eccede il numero di simboli della parola che restano da elaborare, quella configurazione non potrà mai condurre ad una derivazione della parola (perché non ci sono abbastanza terminali da associare ai non terminali in pila).\n",
        "\n",
        "Possiamo modificare la funzione `make_next_instdescrs` in modo tale da \"potare\" gli stati prossimi in cui la pila è più grande del resto dell'input.\n"
      ]
    },
    {
      "cell_type": "code",
      "execution_count": null,
      "metadata": {},
      "outputs": [],
      "source": [
        "def next_instdescrs(curr):\n",
        "    def productive(instdescr):\n",
        "        return len(instdescr.stack) <= (len(instdescr.tape) - instdescr.head_pos)\n",
        "    return list(filter(productive, original_next_instdescrs(curr)))"
      ]
    },
    {
      "cell_type": "markdown",
      "metadata": {},
      "source": [
        "Con quetsa modifica funzionano entrambe le visite (senza ulteriori limiti sul numero di derivazioni trovate, o passi effettuati)!"
      ]
    },
    {
      "cell_type": "code",
      "execution_count": null,
      "metadata": {},
      "outputs": [
        {
          "data": {
            "text/plain": [
              "[(S -> S b, S -> a)]"
            ]
          },
          "execution_count": 1,
          "metadata": {},
          "output_type": "execute_result"
        }
      ],
      "source": [
        "breadth_first(G, 'ab')"
      ]
    },
    {
      "cell_type": "code",
      "execution_count": null,
      "metadata": {},
      "outputs": [
        {
          "data": {
            "text/plain": [
              "[(S -> S b, S -> a)]"
            ]
          },
          "execution_count": 1,
          "metadata": {},
          "output_type": "execute_result"
        }
      ],
      "source": [
        "depth_first(G, 'ab')"
      ]
    },
    {
      "cell_type": "markdown",
      "metadata": {},
      "source": [
        "### <span style=\"color: red\">Riflessione per casa</span>\n",
        "\n",
        "Perché questa soluzione è meglio di imporre limiti come `first_only` e `max_steps`?"
      ]
    },
    {
      "cell_type": "markdown",
      "metadata": {},
      "source": [
        "## Persino l'ambiguità\n",
        "\n",
        "Nel caso di una grammatica ambiguta (e con produzioni ricorsive), la simulazione con la \"potatura\" produce tutte le derivazioni…"
      ]
    },
    {
      "cell_type": "code",
      "execution_count": null,
      "metadata": {},
      "outputs": [
        {
          "data": {
            "text/plain": [
              "Grammar(N={E}, T={*, +, e}, P=(E -> E * E, E -> E + E, E -> e), S=E)"
            ]
          },
          "execution_count": 1,
          "metadata": {},
          "output_type": "execute_result"
        }
      ],
      "source": [
        "# la solita grammatica delle operazioni aritmetiche (ambigua rispetto alla precedenza)\n",
        "\n",
        "G = Grammar.from_string('E -> E * E | E + E | e')\n",
        "G"
      ]
    },
    {
      "cell_type": "code",
      "execution_count": null,
      "metadata": {},
      "outputs": [
        {
          "data": {
            "text/plain": [
              "[(E -> E * E, E -> e, E -> E + E, E -> e, E -> e),\n",
              " (E -> E + E, E -> E * E, E -> e, E -> e, E -> e)]"
            ]
          },
          "execution_count": 1,
          "metadata": {},
          "output_type": "execute_result"
        }
      ],
      "source": [
        "breadth_first(G, 'e*e+e')"
      ]
    },
    {
      "cell_type": "code",
      "execution_count": null,
      "metadata": {},
      "outputs": [
        {
          "data": {
            "text/plain": [
              "[(E -> E + E, E -> E * E, E -> e, E -> e, E -> e),\n",
              " (E -> E * E, E -> e, E -> E + E, E -> e, E -> e)]"
            ]
          },
          "execution_count": 1,
          "metadata": {},
          "output_type": "execute_result"
        }
      ],
      "source": [
        "depth_first(G, 'e*e+e')"
      ]
    },
    {
      "cell_type": "markdown",
      "metadata": {},
      "source": [
        "## <span style=\"color: red;\">Riflessioni per casa</span>\n",
        "\n",
        "Cosa succede se si consentono anche ε-produzioni? Il DAG delle computazioni è finito? Che modi ci possono essere di \"potarlo\"?"
      ]
    }
  ],
  "metadata": {
    "kernelspec": {
      "display_name": "Python 3",
      "language": "python",
      "name": "python3"
    },
    "language_info": {
      "codemirror_mode": {
        "name": "ipython",
        "version": 3
      },
      "file_extension": ".py",
      "mimetype": "text/x-python",
      "name": "python",
      "nbconvert_exporter": "python",
      "pygments_lexer": "ipython3"
    },
    "widgets": {
      "application/vnd.jupyter.widget-state+json": {
        "state": {
          "06fb098b843c4fbcb158e2ea5be348f6": {
            "model_module": "@jupyter-widgets/controls",
            "model_module_version": "1.5.0",
            "model_name": "IntSliderModel",
            "state": {
              "_dom_classes": [],
              "_model_module": "@jupyter-widgets/controls",
              "_model_module_version": "1.5.0",
              "_model_name": "IntSliderModel",
              "_view_count": null,
              "_view_module": "@jupyter-widgets/controls",
              "_view_module_version": "1.5.0",
              "_view_name": "IntSliderView",
              "continuous_update": true,
              "description": "n",
              "description_tooltip": null,
              "disabled": false,
              "layout": "IPY_MODEL_62d4e8a0bfd24d0c8fa1e94db3ff7396",
              "max": 4,
              "min": 0,
              "orientation": "horizontal",
              "readout": true,
              "readout_format": "d",
              "step": 1,
              "style": "IPY_MODEL_91b32475ab1d48fc80142b30fb07a3a5",
              "value": 0
            }
          },
          "0de761ba86604159ba0b9cf4b4357712": {
            "model_module": "@jupyter-widgets/controls",
            "model_module_version": "1.5.0",
            "model_name": "VBoxModel",
            "state": {
              "_dom_classes": [
                "widget-interact"
              ],
              "_model_module": "@jupyter-widgets/controls",
              "_model_module_version": "1.5.0",
              "_model_name": "VBoxModel",
              "_view_count": null,
              "_view_module": "@jupyter-widgets/controls",
              "_view_module_version": "1.5.0",
              "_view_name": "VBoxView",
              "box_style": "",
              "children": [
                "IPY_MODEL_5b82deea7fad416290fe33c2c6e894c2",
                "IPY_MODEL_9819de36e289443caf98c386a98c7b42"
              ],
              "layout": "IPY_MODEL_b74bde15d447416cbef742180fb26d53"
            }
          },
          "2b0392ef5e594aeab9312f36ee6be2ed": {
            "model_module": "@jupyter-widgets/base",
            "model_module_version": "1.2.0",
            "model_name": "LayoutModel",
            "state": {
              "_model_module": "@jupyter-widgets/base",
              "_model_module_version": "1.2.0",
              "_model_name": "LayoutModel",
              "_view_count": null,
              "_view_module": "@jupyter-widgets/base",
              "_view_module_version": "1.2.0",
              "_view_name": "LayoutView",
              "align_content": null,
              "align_items": null,
              "align_self": null,
              "border": null,
              "bottom": null,
              "display": null,
              "flex": null,
              "flex_flow": null,
              "grid_area": null,
              "grid_auto_columns": null,
              "grid_auto_flow": null,
              "grid_auto_rows": null,
              "grid_column": null,
              "grid_gap": null,
              "grid_row": null,
              "grid_template_areas": null,
              "grid_template_columns": null,
              "grid_template_rows": null,
              "height": null,
              "justify_content": null,
              "justify_items": null,
              "left": null,
              "margin": null,
              "max_height": null,
              "max_width": null,
              "min_height": null,
              "min_width": null,
              "object_fit": null,
              "object_position": null,
              "order": null,
              "overflow": null,
              "overflow_x": null,
              "overflow_y": null,
              "padding": null,
              "right": null,
              "top": null,
              "visibility": null,
              "width": null
            }
          },
          "38f5f8959d3448539537ac354801b457": {
            "model_module": "@jupyter-widgets/base",
            "model_module_version": "1.2.0",
            "model_name": "LayoutModel",
            "state": {
              "_model_module": "@jupyter-widgets/base",
              "_model_module_version": "1.2.0",
              "_model_name": "LayoutModel",
              "_view_count": null,
              "_view_module": "@jupyter-widgets/base",
              "_view_module_version": "1.2.0",
              "_view_name": "LayoutView",
              "align_content": null,
              "align_items": null,
              "align_self": null,
              "border": null,
              "bottom": null,
              "display": null,
              "flex": null,
              "flex_flow": null,
              "grid_area": null,
              "grid_auto_columns": null,
              "grid_auto_flow": null,
              "grid_auto_rows": null,
              "grid_column": null,
              "grid_gap": null,
              "grid_row": null,
              "grid_template_areas": null,
              "grid_template_columns": null,
              "grid_template_rows": null,
              "height": null,
              "justify_content": null,
              "justify_items": null,
              "left": null,
              "margin": null,
              "max_height": null,
              "max_width": null,
              "min_height": null,
              "min_width": null,
              "object_fit": null,
              "object_position": null,
              "order": null,
              "overflow": null,
              "overflow_x": null,
              "overflow_y": null,
              "padding": null,
              "right": null,
              "top": null,
              "visibility": null,
              "width": null
            }
          },
          "4a2b01cf1b664ad88ab736393bd87edc": {
            "model_module": "@jupyter-widgets/controls",
            "model_module_version": "1.5.0",
            "model_name": "SliderStyleModel",
            "state": {
              "_model_module": "@jupyter-widgets/controls",
              "_model_module_version": "1.5.0",
              "_model_name": "SliderStyleModel",
              "_view_count": null,
              "_view_module": "@jupyter-widgets/base",
              "_view_module_version": "1.2.0",
              "_view_name": "StyleView",
              "description_width": "",
              "handle_color": null
            }
          },
          "5b82deea7fad416290fe33c2c6e894c2": {
            "model_module": "@jupyter-widgets/controls",
            "model_module_version": "1.5.0",
            "model_name": "IntSliderModel",
            "state": {
              "_dom_classes": [],
              "_model_module": "@jupyter-widgets/controls",
              "_model_module_version": "1.5.0",
              "_model_name": "IntSliderModel",
              "_view_count": null,
              "_view_module": "@jupyter-widgets/controls",
              "_view_module_version": "1.5.0",
              "_view_name": "IntSliderView",
              "continuous_update": true,
              "description": "n",
              "description_tooltip": null,
              "disabled": false,
              "layout": "IPY_MODEL_2b0392ef5e594aeab9312f36ee6be2ed",
              "max": 4,
              "min": 0,
              "orientation": "horizontal",
              "readout": true,
              "readout_format": "d",
              "step": 1,
              "style": "IPY_MODEL_4a2b01cf1b664ad88ab736393bd87edc",
              "value": 0
            }
          },
          "62d4e8a0bfd24d0c8fa1e94db3ff7396": {
            "model_module": "@jupyter-widgets/base",
            "model_module_version": "1.2.0",
            "model_name": "LayoutModel",
            "state": {
              "_model_module": "@jupyter-widgets/base",
              "_model_module_version": "1.2.0",
              "_model_name": "LayoutModel",
              "_view_count": null,
              "_view_module": "@jupyter-widgets/base",
              "_view_module_version": "1.2.0",
              "_view_name": "LayoutView",
              "align_content": null,
              "align_items": null,
              "align_self": null,
              "border": null,
              "bottom": null,
              "display": null,
              "flex": null,
              "flex_flow": null,
              "grid_area": null,
              "grid_auto_columns": null,
              "grid_auto_flow": null,
              "grid_auto_rows": null,
              "grid_column": null,
              "grid_gap": null,
              "grid_row": null,
              "grid_template_areas": null,
              "grid_template_columns": null,
              "grid_template_rows": null,
              "height": null,
              "justify_content": null,
              "justify_items": null,
              "left": null,
              "margin": null,
              "max_height": null,
              "max_width": null,
              "min_height": null,
              "min_width": null,
              "object_fit": null,
              "object_position": null,
              "order": null,
              "overflow": null,
              "overflow_x": null,
              "overflow_y": null,
              "padding": null,
              "right": null,
              "top": null,
              "visibility": null,
              "width": null
            }
          },
          "91b32475ab1d48fc80142b30fb07a3a5": {
            "model_module": "@jupyter-widgets/controls",
            "model_module_version": "1.5.0",
            "model_name": "SliderStyleModel",
            "state": {
              "_model_module": "@jupyter-widgets/controls",
              "_model_module_version": "1.5.0",
              "_model_name": "SliderStyleModel",
              "_view_count": null,
              "_view_module": "@jupyter-widgets/base",
              "_view_module_version": "1.2.0",
              "_view_name": "StyleView",
              "description_width": "",
              "handle_color": null
            }
          },
          "9819de36e289443caf98c386a98c7b42": {
            "model_module": "@jupyter-widgets/output",
            "model_module_version": "1.0.0",
            "model_name": "OutputModel",
            "state": {
              "_dom_classes": [],
              "_model_module": "@jupyter-widgets/output",
              "_model_module_version": "1.0.0",
              "_model_name": "OutputModel",
              "_view_count": null,
              "_view_module": "@jupyter-widgets/output",
              "_view_module_version": "1.0.0",
              "_view_name": "OutputView",
              "layout": "IPY_MODEL_a74bb86fef6442948ab0405c628efd76",
              "msg_id": "",
              "outputs": [
                {
                  "data": {
                    "image/svg+xml": "<?xml version=\"1.0\" encoding=\"UTF-8\" standalone=\"no\"?>\n<!DOCTYPE svg PUBLIC \"-//W3C//DTD SVG 1.1//EN\"\n \"http://www.w3.org/Graphics/SVG/1.1/DTD/svg11.dtd\">\n<!-- Generated by graphviz version 2.43.0 (0)\n -->\n<!-- Title: %3 Pages: 1 -->\n<svg width=\"24pt\" height=\"31pt\"\n viewBox=\"0.00 0.00 24.00 31.00\" xmlns=\"http://www.w3.org/2000/svg\" xmlns:xlink=\"http://www.w3.org/1999/xlink\">\n<g id=\"graph0\" class=\"graph\" transform=\"scale(1 1) rotate(0) translate(4 27)\">\n<title>%3</title>\n<polygon fill=\"white\" stroke=\"transparent\" points=\"-4,4 -4,-27 20,-27 20,4 -4,4\"/>\n<!-- &#45;4549148069777877287 -->\n<g id=\"node1\" class=\"node\">\n<title>&#45;4549148069777877287</title>\n<path fill=\"none\" stroke=\"black\" stroke-width=\"0.25\" d=\"M10.67,-23C10.67,-23 5.33,-23 5.33,-23 2.67,-23 0,-20.33 0,-17.67 0,-17.67 0,-5.33 0,-5.33 0,-2.67 2.67,0 5.33,0 5.33,0 10.67,0 10.67,0 13.33,0 16,-2.67 16,-5.33 16,-5.33 16,-17.67 16,-17.67 16,-20.33 13.33,-23 10.67,-23\"/>\n<text text-anchor=\"middle\" x=\"8\" y=\"-7.8\" font-family=\"Times,serif\" font-size=\"14.00\">S</text>\n</g>\n</g>\n</svg>\n",
                    "text/plain": "ProductionGraph(S)"
                  },
                  "metadata": {},
                  "output_type": "display_data"
                }
              ]
            }
          },
          "a74bb86fef6442948ab0405c628efd76": {
            "model_module": "@jupyter-widgets/base",
            "model_module_version": "1.2.0",
            "model_name": "LayoutModel",
            "state": {
              "_model_module": "@jupyter-widgets/base",
              "_model_module_version": "1.2.0",
              "_model_name": "LayoutModel",
              "_view_count": null,
              "_view_module": "@jupyter-widgets/base",
              "_view_module_version": "1.2.0",
              "_view_name": "LayoutView",
              "align_content": null,
              "align_items": null,
              "align_self": null,
              "border": null,
              "bottom": null,
              "display": null,
              "flex": null,
              "flex_flow": null,
              "grid_area": null,
              "grid_auto_columns": null,
              "grid_auto_flow": null,
              "grid_auto_rows": null,
              "grid_column": null,
              "grid_gap": null,
              "grid_row": null,
              "grid_template_areas": null,
              "grid_template_columns": null,
              "grid_template_rows": null,
              "height": "300px",
              "justify_content": null,
              "justify_items": null,
              "left": null,
              "margin": null,
              "max_height": null,
              "max_width": null,
              "min_height": null,
              "min_width": null,
              "object_fit": null,
              "object_position": null,
              "order": null,
              "overflow": null,
              "overflow_x": null,
              "overflow_y": null,
              "padding": null,
              "right": null,
              "top": null,
              "visibility": null,
              "width": null
            }
          },
          "b74bde15d447416cbef742180fb26d53": {
            "model_module": "@jupyter-widgets/base",
            "model_module_version": "1.2.0",
            "model_name": "LayoutModel",
            "state": {
              "_model_module": "@jupyter-widgets/base",
              "_model_module_version": "1.2.0",
              "_model_name": "LayoutModel",
              "_view_count": null,
              "_view_module": "@jupyter-widgets/base",
              "_view_module_version": "1.2.0",
              "_view_name": "LayoutView",
              "align_content": null,
              "align_items": null,
              "align_self": null,
              "border": null,
              "bottom": null,
              "display": null,
              "flex": null,
              "flex_flow": null,
              "grid_area": null,
              "grid_auto_columns": null,
              "grid_auto_flow": null,
              "grid_auto_rows": null,
              "grid_column": null,
              "grid_gap": null,
              "grid_row": null,
              "grid_template_areas": null,
              "grid_template_columns": null,
              "grid_template_rows": null,
              "height": null,
              "justify_content": null,
              "justify_items": null,
              "left": null,
              "margin": null,
              "max_height": null,
              "max_width": null,
              "min_height": null,
              "min_width": null,
              "object_fit": null,
              "object_position": null,
              "order": null,
              "overflow": null,
              "overflow_x": null,
              "overflow_y": null,
              "padding": null,
              "right": null,
              "top": null,
              "visibility": null,
              "width": null
            }
          },
          "e6564d2caa294cf3b3716c10c1cffaeb": {
            "model_module": "@jupyter-widgets/output",
            "model_module_version": "1.0.0",
            "model_name": "OutputModel",
            "state": {
              "_dom_classes": [],
              "_model_module": "@jupyter-widgets/output",
              "_model_module_version": "1.0.0",
              "_model_name": "OutputModel",
              "_view_count": null,
              "_view_module": "@jupyter-widgets/output",
              "_view_module_version": "1.0.0",
              "_view_name": "OutputView",
              "layout": "IPY_MODEL_f7e7fa9f669c4501b1f918cb2a179e4f",
              "msg_id": "",
              "outputs": [
                {
                  "data": {
                    "image/svg+xml": "<?xml version=\"1.0\" encoding=\"UTF-8\" standalone=\"no\"?>\n<!DOCTYPE svg PUBLIC \"-//W3C//DTD SVG 1.1//EN\"\n \"http://www.w3.org/Graphics/SVG/1.1/DTD/svg11.dtd\">\n<!-- Generated by graphviz version 2.43.0 (0)\n -->\n<!-- Title: %3 Pages: 1 -->\n<svg width=\"24pt\" height=\"31pt\"\n viewBox=\"0.00 0.00 24.00 31.00\" xmlns=\"http://www.w3.org/2000/svg\" xmlns:xlink=\"http://www.w3.org/1999/xlink\">\n<g id=\"graph0\" class=\"graph\" transform=\"scale(1 1) rotate(0) translate(4 27)\">\n<title>%3</title>\n<polygon fill=\"white\" stroke=\"transparent\" points=\"-4,4 -4,-27 20,-27 20,4 -4,4\"/>\n<!-- &#45;4549148069777877287 -->\n<g id=\"node1\" class=\"node\">\n<title>&#45;4549148069777877287</title>\n<path fill=\"none\" stroke=\"black\" stroke-width=\"0.25\" d=\"M10.67,-23C10.67,-23 5.33,-23 5.33,-23 2.67,-23 0,-20.33 0,-17.67 0,-17.67 0,-5.33 0,-5.33 0,-2.67 2.67,0 5.33,0 5.33,0 10.67,0 10.67,0 13.33,0 16,-2.67 16,-5.33 16,-5.33 16,-17.67 16,-17.67 16,-20.33 13.33,-23 10.67,-23\"/>\n<text text-anchor=\"middle\" x=\"8\" y=\"-7.8\" font-family=\"Times,serif\" font-size=\"14.00\">S</text>\n</g>\n</g>\n</svg>\n",
                    "text/plain": "ProductionGraph(S)"
                  },
                  "metadata": {},
                  "output_type": "display_data"
                }
              ]
            }
          },
          "f7e7fa9f669c4501b1f918cb2a179e4f": {
            "model_module": "@jupyter-widgets/base",
            "model_module_version": "1.2.0",
            "model_name": "LayoutModel",
            "state": {
              "_model_module": "@jupyter-widgets/base",
              "_model_module_version": "1.2.0",
              "_model_name": "LayoutModel",
              "_view_count": null,
              "_view_module": "@jupyter-widgets/base",
              "_view_module_version": "1.2.0",
              "_view_name": "LayoutView",
              "align_content": null,
              "align_items": null,
              "align_self": null,
              "border": null,
              "bottom": null,
              "display": null,
              "flex": null,
              "flex_flow": null,
              "grid_area": null,
              "grid_auto_columns": null,
              "grid_auto_flow": null,
              "grid_auto_rows": null,
              "grid_column": null,
              "grid_gap": null,
              "grid_row": null,
              "grid_template_areas": null,
              "grid_template_columns": null,
              "grid_template_rows": null,
              "height": "300px",
              "justify_content": null,
              "justify_items": null,
              "left": null,
              "margin": null,
              "max_height": null,
              "max_width": null,
              "min_height": null,
              "min_width": null,
              "object_fit": null,
              "object_position": null,
              "order": null,
              "overflow": null,
              "overflow_x": null,
              "overflow_y": null,
              "padding": null,
              "right": null,
              "top": null,
              "visibility": null,
              "width": null
            }
          },
          "fddf463edbde4cdba879651a2cfdaf59": {
            "model_module": "@jupyter-widgets/controls",
            "model_module_version": "1.5.0",
            "model_name": "VBoxModel",
            "state": {
              "_dom_classes": [
                "widget-interact"
              ],
              "_model_module": "@jupyter-widgets/controls",
              "_model_module_version": "1.5.0",
              "_model_name": "VBoxModel",
              "_view_count": null,
              "_view_module": "@jupyter-widgets/controls",
              "_view_module_version": "1.5.0",
              "_view_name": "VBoxView",
              "box_style": "",
              "children": [
                "IPY_MODEL_06fb098b843c4fbcb158e2ea5be348f6",
                "IPY_MODEL_e6564d2caa294cf3b3716c10c1cffaeb"
              ],
              "layout": "IPY_MODEL_38f5f8959d3448539537ac354801b457"
            }
          }
        },
        "version_major": 2,
        "version_minor": 0
      }
    }
  },
  "nbformat": 4,
  "nbformat_minor": 4
}
