{
 "cells": [
  {
   "cell_type": "markdown",
   "metadata": {},
   "source": [
    "# La forma normale di Chomsky\n",
    "\n",
    "## Regole/simboli produttivi e raggiungibili (Sez. 2.9.5.1-2)"
   ]
  },
  {
   "cell_type": "code",
   "execution_count": 1,
   "metadata": {},
   "outputs": [],
   "source": [
    "from liblet import Grammar, closure, union_of"
   ]
  },
  {
   "cell_type": "code",
   "execution_count": 2,
   "metadata": {},
   "outputs": [],
   "source": [
    "def find_productive(G):\n",
    "    @closure\n",
    "    def find(prod):\n",
    "        return prod | {A for A, β in G.P if set(β) <= prod}\n",
    "    return set(find(G.T))\n",
    "\n",
    "def find_reachable(G):\n",
    "    @closure\n",
    "    def find(reach, G):\n",
    "        return reach | union_of(set(β) for A, β in G.P if A in reach)\n",
    "    return find({G.S}, G)   \n",
    "\n",
    "def remove_unproductive_unreachable(G):\n",
    "    Gp = G.restrict_to(find_productive(G))\n",
    "    return Gp.restrict_to(find_reachable(Gp))"
   ]
  },
  {
   "cell_type": "code",
   "execution_count": 3,
   "metadata": {},
   "outputs": [
    {
     "data": {
      "text/plain": [
       "Grammar(N={A, B, C, D, E, F, S}, T={a, b, c, d, e, f}, P=(S -> A B, S -> D E, A -> a, B -> b C, C -> c, D -> d F, E -> e, F -> f D), S=S)"
      ]
     },
     "execution_count": 3,
     "metadata": {},
     "output_type": "execute_result"
    }
   ],
   "source": [
    "# fig 2.27, pag. 49\n",
    "\n",
    "G = Grammar.from_string(\"\"\"\n",
    "S -> A B | D E\n",
    "A -> a\n",
    "B -> b C\n",
    "C -> c\n",
    "D -> d F \n",
    "E -> e \n",
    "F -> f D\n",
    "\"\"\")\n",
    "G"
   ]
  },
  {
   "cell_type": "code",
   "execution_count": 4,
   "metadata": {},
   "outputs": [
    {
     "data": {
      "text/plain": [
       "{'A', 'B', 'C', 'E', 'S', 'a', 'b', 'c', 'd', 'e', 'f'}"
      ]
     },
     "execution_count": 4,
     "metadata": {},
     "output_type": "execute_result"
    }
   ],
   "source": [
    "productive = find_productive(G)\n",
    "productive"
   ]
  },
  {
   "cell_type": "code",
   "execution_count": 5,
   "metadata": {},
   "outputs": [
    {
     "data": {
      "text/plain": [
       "{'A', 'B', 'C', 'D', 'E', 'F', 'S', 'a', 'b', 'c', 'd', 'e', 'f'}"
      ]
     },
     "execution_count": 5,
     "metadata": {},
     "output_type": "execute_result"
    }
   ],
   "source": [
    "reachable = find_reachable(G)\n",
    "reachable"
   ]
  },
  {
   "cell_type": "code",
   "execution_count": 6,
   "metadata": {},
   "outputs": [
    {
     "data": {
      "text/plain": [
       "Grammar(N={A, B, C, S}, T={a, b, c}, P=(S -> A B, A -> a, B -> b C, C -> c), S=S)"
      ]
     },
     "execution_count": 6,
     "metadata": {},
     "output_type": "execute_result"
    }
   ],
   "source": [
    "remove_unproductive_unreachable(G)"
   ]
  },
  {
   "cell_type": "code",
   "execution_count": 7,
   "metadata": {},
   "outputs": [
    {
     "data": {
      "text/plain": [
       "Grammar(N={A, B, C, E, S}, T={a, b, c, d, e, f}, P=(S -> A B, A -> a, B -> b C, C -> c, E -> e), S=S)"
      ]
     },
     "execution_count": 7,
     "metadata": {},
     "output_type": "execute_result"
    }
   ],
   "source": [
    "Gp = G.restrict_to(find_productive(G))\n",
    "Gp.restrict_to(find_reachable(G))"
   ]
  },
  {
   "cell_type": "markdown",
   "metadata": {},
   "source": [
    "## Eliminazione ε-regole (Sez. 4.2.3.1)"
   ]
  },
  {
   "cell_type": "code",
   "execution_count": 8,
   "metadata": {},
   "outputs": [],
   "source": [
    "from liblet import Production, prods2table\n",
    "\n",
    "@closure\n",
    "def replace_in_rhs(G, A):\n",
    "    Ap = A + '’'\n",
    "    prods = set()\n",
    "    for B, β in G.P:\n",
    "        if A in β:\n",
    "            pos = β.index(A)\n",
    "            rhs = β[:pos] + β[pos + 1:]\n",
    "            if len(rhs) == 0: rhs = ('ε', )\n",
    "            prods.add(Production(B, rhs))\n",
    "            prods.add(Production(B, β[:pos] + (Ap, ) + β[pos + 1:]))\n",
    "        else:\n",
    "            prods.add(Production(B, β))    \n",
    "    return Grammar(G.N | {Ap}, G.T, prods, G.S)\n",
    "\n",
    "@closure\n",
    "def inline_ε_rules(G_seen):\n",
    "    G, seen = G_seen\n",
    "    for A in G.N - seen:\n",
    "        if ('ε', ) in G.alternatives(A):\n",
    "            return replace_in_rhs(G, A), seen | {A}\n",
    "    return G, seen\n",
    "\n",
    "def eliminate_ε_rules(G):\n",
    "    Gp, _ = inline_ε_rules((G, set()))\n",
    "    prods = set(Gp.P)\n",
    "    for Ap in Gp.N - G.N:\n",
    "        A = Ap[:-1]\n",
    "        for α in set(Gp.alternatives(A)) - {('ε', )}:\n",
    "            prods.add(Production(Ap, α))\n",
    "    return Grammar(Gp.N, Gp.T, prods, Gp.S)"
   ]
  },
  {
   "cell_type": "code",
   "execution_count": 9,
   "metadata": {},
   "outputs": [
    {
     "data": {
      "text/plain": [
       "Grammar(N={L, M, S}, T={a}, P=(S -> L a M, L -> L M, L -> ε, M -> M M, M -> ε), S=S)"
      ]
     },
     "execution_count": 9,
     "metadata": {},
     "output_type": "execute_result"
    }
   ],
   "source": [
    "# fig. 4.10, pag. 120\n",
    "\n",
    "G = Grammar.from_string(\"\"\"\n",
    "S -> L a M\n",
    "L -> L M \n",
    "L -> ε\n",
    "M -> M M\n",
    "M -> ε\n",
    "\"\"\")\n",
    "G\n"
   ]
  },
  {
   "cell_type": "code",
   "execution_count": 10,
   "metadata": {},
   "outputs": [
    {
     "data": {
      "text/html": [
       "<table><tr><th>S<td style=\"text-align:left\">L’ a | L’ a M’ | a | a M’<tr><th>L<td style=\"text-align:left\">L’ | L’ M’ | M’ | ε<tr><th>L’<td style=\"text-align:left\">L’ | L’ M’ | M’<tr><th>M<td style=\"text-align:left\">M’ | M’ M’ | ε<tr><th>M’<td style=\"text-align:left\">M’ | M’ M’</table>"
      ],
      "text/plain": [
       "<IPython.core.display.HTML object>"
      ]
     },
     "execution_count": 10,
     "metadata": {},
     "output_type": "execute_result"
    }
   ],
   "source": [
    "Gp = eliminate_ε_rules(G)\n",
    "prods2table(Gp)"
   ]
  },
  {
   "cell_type": "code",
   "execution_count": 11,
   "metadata": {},
   "outputs": [
    {
     "data": {
      "text/plain": [
       "Grammar(N={S}, T={a}, P=(S -> a,), S=S)"
      ]
     },
     "execution_count": 11,
     "metadata": {},
     "output_type": "execute_result"
    }
   ],
   "source": [
    "remove_unproductive_unreachable(Gp)"
   ]
  },
  {
   "cell_type": "code",
   "execution_count": 12,
   "metadata": {},
   "outputs": [],
   "source": [
    "# fig. 4.6, pag. 112\n",
    "\n",
    "G = Grammar.from_string(\"\"\"\n",
    "Number -> Integer | Real\n",
    "Integer -> Digit | Integer Digit\n",
    "Real -> Integer Fraction Scale\n",
    "Fraction -> . Integer\n",
    "Scale -> e Sign Integer | Empty\n",
    "Digit -> 0 | 1 | 2 | 3 | 4 | 5 | 6 | 7 | 8 | 9\n",
    "Sign -> + | -\n",
    "Empty -> ε\n",
    "\"\"\")"
   ]
  },
  {
   "cell_type": "code",
   "execution_count": 13,
   "metadata": {},
   "outputs": [
    {
     "data": {
      "text/html": [
       "<table><tr><th>Number<td style=\"text-align:left\">Integer | Real<tr><th>Digit<td style=\"text-align:left\">0 | 1 | 2 | 3 | 4 | 5 | 6 | 7 | 8 | 9<tr><th>Empty<td style=\"text-align:left\">ε<tr><th>Empty’<td style=\"text-align:left\"><tr><th>Fraction<td style=\"text-align:left\">. Integer<tr><th>Integer<td style=\"text-align:left\">Digit | Integer Digit<tr><th>Real<td style=\"text-align:left\">Integer Fraction | Integer Fraction Scale’<tr><th>Scale<td style=\"text-align:left\">Empty’ | e Sign Integer | ε<tr><th>Scale’<td style=\"text-align:left\">Empty’ | e Sign Integer<tr><th>Sign<td style=\"text-align:left\">+ | -</table>"
      ],
      "text/plain": [
       "<IPython.core.display.HTML object>"
      ]
     },
     "execution_count": 13,
     "metadata": {},
     "output_type": "execute_result"
    }
   ],
   "source": [
    "# fig. 4.12, pag. 120 (a meno di Empty’)\n",
    "\n",
    "Gp = eliminate_ε_rules(G)\n",
    "prods2table(Gp)"
   ]
  },
  {
   "cell_type": "markdown",
   "metadata": {},
   "source": [
    "## Eliminazione regole unitarie (Sez. 4.2.3.2)"
   ]
  },
  {
   "cell_type": "code",
   "execution_count": 14,
   "metadata": {},
   "outputs": [],
   "source": [
    "@closure\n",
    "def eliminate_unit_rules(G_seen):\n",
    "    G, seen = G_seen\n",
    "    for P in set(filter(Production.such_that(rhs_len = 1), G.P)) - seen:\n",
    "        A, (B, ) = P\n",
    "        if B in G.N:            \n",
    "            prods = (set(G.P) | {Production(A, α) for α in G.alternatives(B)}) - {P}\n",
    "            return Grammar(G.N, G.T, prods, G.S), seen | {P}\n",
    "    return G, seen"
   ]
  },
  {
   "cell_type": "code",
   "execution_count": 15,
   "metadata": {},
   "outputs": [
    {
     "data": {
      "text/html": [
       "<table><tr><th>Number<td style=\"text-align:left\">0 | 1 | 2 | 3 | 4 | 5 | 6 | 7 | 8 | 9 | Integer Digit | Integer Fraction | Integer Fraction Scale’<tr><th>Digit<td style=\"text-align:left\">0 | 1 | 2 | 3 | 4 | 5 | 6 | 7 | 8 | 9<tr><th>Empty<td style=\"text-align:left\">ε<tr><th>Empty’<td style=\"text-align:left\"><tr><th>Fraction<td style=\"text-align:left\">. Integer<tr><th>Integer<td style=\"text-align:left\">0 | 1 | 2 | 3 | 4 | 5 | 6 | 7 | 8 | 9 | Integer Digit<tr><th>Real<td style=\"text-align:left\">Integer Fraction | Integer Fraction Scale’<tr><th>Scale<td style=\"text-align:left\">e Sign Integer | ε<tr><th>Scale’<td style=\"text-align:left\">e Sign Integer<tr><th>Sign<td style=\"text-align:left\">+ | -</table>"
      ],
      "text/plain": [
       "<IPython.core.display.HTML object>"
      ]
     },
     "execution_count": 15,
     "metadata": {},
     "output_type": "execute_result"
    }
   ],
   "source": [
    "# fig. 4.13, pag. 121\n",
    "\n",
    "Gp, seen = eliminate_unit_rules((Gp, set()))\n",
    "prods2table(Gp)"
   ]
  },
  {
   "cell_type": "markdown",
   "metadata": {},
   "source": [
    "## Riduzione in forma normale\n",
    "\n",
    "### Pulizia (Sez. 4.2.3.3)"
   ]
  },
  {
   "cell_type": "code",
   "execution_count": 16,
   "metadata": {},
   "outputs": [
    {
     "data": {
      "text/html": [
       "<table><tr><th>Number<td style=\"text-align:left\">0 | 1 | 2 | 3 | 4 | 5 | 6 | 7 | 8 | 9 | Integer Digit | Integer Fraction | Integer Fraction Scale’<tr><th>Digit<td style=\"text-align:left\">0 | 1 | 2 | 3 | 4 | 5 | 6 | 7 | 8 | 9<tr><th>Fraction<td style=\"text-align:left\">. Integer<tr><th>Integer<td style=\"text-align:left\">0 | 1 | 2 | 3 | 4 | 5 | 6 | 7 | 8 | 9 | Integer Digit<tr><th>Scale’<td style=\"text-align:left\">e Sign Integer<tr><th>Sign<td style=\"text-align:left\">+ | -</table>"
      ],
      "text/plain": [
       "<IPython.core.display.HTML object>"
      ]
     },
     "execution_count": 16,
     "metadata": {},
     "output_type": "execute_result"
    }
   ],
   "source": [
    "# fig. 4.14, pag. 122\n",
    "\n",
    "Gp_clean = remove_unproductive_unreachable(Gp)\n",
    "prods2table(Gp_clean)"
   ]
  },
  {
   "cell_type": "markdown",
   "metadata": {},
   "source": [
    "### Caso $A\\to a$"
   ]
  },
  {
   "cell_type": "code",
   "execution_count": 17,
   "metadata": {},
   "outputs": [],
   "source": [
    "def transform_nonsolitary(G):\n",
    "    prods = set()\n",
    "    for A, α in G.P:\n",
    "        if len(α) > 1 and set(α) & G.T:\n",
    "            rhs = []\n",
    "            for x in α:\n",
    "                if x in G.T:\n",
    "                    N = 'N{}'.format(x)\n",
    "                    prods.add(Production(N, (x, )))\n",
    "                    rhs.append(N)\n",
    "                else:\n",
    "                    rhs.append(x)\n",
    "            prods.add(Production(A, rhs))\n",
    "        else:            \n",
    "            prods.add(Production(A, α))\n",
    "    return Grammar(G.N | {A for A, α in prods}, G.T, prods, G.S)"
   ]
  },
  {
   "cell_type": "code",
   "execution_count": 18,
   "metadata": {},
   "outputs": [
    {
     "data": {
      "text/html": [
       "<table><tr><th>Number<td style=\"text-align:left\">0 | 1 | 2 | 3 | 4 | 5 | 6 | 7 | 8 | 9 | Integer Digit | Integer Fraction | Integer Fraction Scale’<tr><th>Digit<td style=\"text-align:left\">0 | 1 | 2 | 3 | 4 | 5 | 6 | 7 | 8 | 9<tr><th>Fraction<td style=\"text-align:left\">N. Integer<tr><th>Integer<td style=\"text-align:left\">0 | 1 | 2 | 3 | 4 | 5 | 6 | 7 | 8 | 9 | Integer Digit<tr><th>N.<td style=\"text-align:left\">.<tr><th>Ne<td style=\"text-align:left\">e<tr><th>Scale’<td style=\"text-align:left\">Ne Sign Integer<tr><th>Sign<td style=\"text-align:left\">+ | -</table>"
      ],
      "text/plain": [
       "<IPython.core.display.HTML object>"
      ]
     },
     "execution_count": 18,
     "metadata": {},
     "output_type": "execute_result"
    }
   ],
   "source": [
    "G0 = transform_nonsolitary(Gp_clean)\n",
    "prods2table(G0)"
   ]
  },
  {
   "cell_type": "markdown",
   "metadata": {},
   "source": [
    "### Caso $A\\to X_1 X_2\\ldots X_n$"
   ]
  },
  {
   "cell_type": "code",
   "execution_count": 19,
   "metadata": {},
   "outputs": [],
   "source": [
    "def make_binary(G):\n",
    "    prods = set()\n",
    "    for A, α in G.P:\n",
    "        if len(α) > 2:\n",
    "            Ai = '{}{}'.format(A, 1)\n",
    "            prods.add(Production(Ai, α[:2]))\n",
    "            for i, Xi in enumerate(α[2:-1], 2):\n",
    "                prods.add(Production('{}{}'.format(A, i), (Ai, Xi)))\n",
    "                Ai = '{}{}'.format(A, i)\n",
    "            prods.add(Production(A, (Ai, α[-1])))\n",
    "        else:\n",
    "            prods.add(Production(A, α))\n",
    "    return Grammar(G.N | {A for A, α in prods}, G.T, prods, G.S)"
   ]
  },
  {
   "cell_type": "code",
   "execution_count": 20,
   "metadata": {},
   "outputs": [
    {
     "data": {
      "text/html": [
       "<table><tr><th>Number<td style=\"text-align:left\">0 | 1 | 2 | 3 | 4 | 5 | 6 | 7 | 8 | 9 | Integer Digit | Integer Fraction | Number1 Scale’<tr><th>Digit<td style=\"text-align:left\">0 | 1 | 2 | 3 | 4 | 5 | 6 | 7 | 8 | 9<tr><th>Fraction<td style=\"text-align:left\">N. Integer<tr><th>Integer<td style=\"text-align:left\">0 | 1 | 2 | 3 | 4 | 5 | 6 | 7 | 8 | 9 | Integer Digit<tr><th>N.<td style=\"text-align:left\">.<tr><th>Ne<td style=\"text-align:left\">e<tr><th>Number1<td style=\"text-align:left\">Integer Fraction<tr><th>Scale’<td style=\"text-align:left\">Scale’1 Integer<tr><th>Scale’1<td style=\"text-align:left\">Ne Sign<tr><th>Sign<td style=\"text-align:left\">+ | -</table>"
      ],
      "text/plain": [
       "<IPython.core.display.HTML object>"
      ]
     },
     "execution_count": 20,
     "metadata": {},
     "output_type": "execute_result"
    }
   ],
   "source": [
    "# fig. 4.15, pag. 123 (rinominando alcuni non terminali)\n",
    "\n",
    "Gcnf = make_binary(G0)\n",
    "prods2table(Gcnf)"
   ]
  },
  {
   "cell_type": "markdown",
   "metadata": {},
   "source": [
    "# Costruzione dell'albero di parsing\n",
    "\n",
    "## Ripetiamo il popolamento della tabella (riconoscimento)"
   ]
  },
  {
   "cell_type": "code",
   "execution_count": 21,
   "metadata": {},
   "outputs": [],
   "source": [
    "def cyk(G, INPUT):\n",
    "    def fill(R, i, l):\n",
    "        res = set()\n",
    "        if l == 1:\n",
    "            for (A, (a, *α)) in G.P: \n",
    "                if not α and a == INPUT[i - 1]:\n",
    "                    res.add(A)\n",
    "        else:\n",
    "            for k in range(1, l):\n",
    "                for A, α in G.P:\n",
    "                    if len(α) != 2: continue\n",
    "                    B, C = α\n",
    "                    if B in R[(i, k)] and C in R[(i + k, l - k)]:\n",
    "                        res.add(A)\n",
    "        return res\n",
    "    R = {}\n",
    "    for l in range(1, len(INPUT) + 1):\n",
    "        for i in range(1, len(INPUT) - l + 2): \n",
    "            R[(i, l)] = fill(R, i, l)\n",
    "    return R"
   ]
  },
  {
   "cell_type": "code",
   "execution_count": 22,
   "metadata": {},
   "outputs": [
    {
     "data": {
      "text/html": [
       "<table class=\"table table-bordered\"><tr><td style=\"text-align:left\">Number<tr><td style=\"text-align:left\"><td style=\"text-align:left\">Number<tr><td style=\"text-align:left\"><td style=\"text-align:left\"><td style=\"text-align:left\"><tr><td style=\"text-align:left\">Number\n",
       "Number1<td style=\"text-align:left\"><td style=\"text-align:left\"><td style=\"text-align:left\"><tr><td style=\"text-align:left\"><td style=\"text-align:left\">Number\n",
       "Number1<td style=\"text-align:left\"><td style=\"text-align:left\"><td style=\"text-align:left\">Scale’<tr><td style=\"text-align:left\">Integer\n",
       "Number<td style=\"text-align:left\"><td style=\"text-align:left\">Fraction<td style=\"text-align:left\"><td style=\"text-align:left\">Scale’1<td style=\"text-align:left\"><tr><td style=\"text-align:left\">Digit\n",
       "Integer\n",
       "Number<td style=\"text-align:left\">Digit\n",
       "Integer\n",
       "Number<td style=\"text-align:left\">N.<td style=\"text-align:left\">Digit\n",
       "Integer\n",
       "Number<td style=\"text-align:left\">Ne<td style=\"text-align:left\">Sign<td style=\"text-align:left\">Digit\n",
       "Integer\n",
       "Number</table>"
      ],
      "text/plain": [
       "<IPython.core.display.HTML object>"
      ]
     },
     "execution_count": 22,
     "metadata": {},
     "output_type": "execute_result"
    }
   ],
   "source": [
    "# fig. 4.16, pag. 123\n",
    "\n",
    "from liblet import cyk2table\n",
    "\n",
    "INPUT = '32.5e+1'\n",
    "R = cyk(Gcnf, INPUT)\n",
    "cyk2table(R)"
   ]
  },
  {
   "cell_type": "markdown",
   "metadata": {},
   "source": [
    "## L'albero di parsing (barando)"
   ]
  },
  {
   "cell_type": "code",
   "execution_count": 23,
   "metadata": {},
   "outputs": [],
   "source": [
    "def get_parse_tree(G, R, INPUT):\n",
    "    def tree(X, i, l):\n",
    "        if l == 1: return [X, [INPUT[i-1]]]\n",
    "        for A, (B, C) in filter(Production.such_that(lhs = X, rhs_len = 2), G.P):\n",
    "            for k in range(1, l):\n",
    "                if B in R[(i, k)] and C in R[(i + k, l - k)]:\n",
    "                    return [A, tree(B, i, k), tree(C, i + k, l - k)]\n",
    "    return tree(G.S, 1, len(INPUT))"
   ]
  },
  {
   "cell_type": "code",
   "execution_count": 24,
   "metadata": {},
   "outputs": [
    {
     "data": {
      "image/svg+xml": [
       "<?xml version=\"1.0\" encoding=\"UTF-8\" standalone=\"no\"?>\n",
       "<!DOCTYPE svg PUBLIC \"-//W3C//DTD SVG 1.1//EN\"\n",
       " \"http://www.w3.org/Graphics/SVG/1.1/DTD/svg11.dtd\">\n",
       "<!-- Generated by graphviz version 2.40.1 (20161225.0304)\n",
       " -->\n",
       "<!-- Title: %3 Pages: 1 -->\n",
       "<svg width=\"342pt\" height=\"190pt\"\n",
       " viewBox=\"0.00 0.00 342.32 190.00\" xmlns=\"http://www.w3.org/2000/svg\" xmlns:xlink=\"http://www.w3.org/1999/xlink\">\n",
       "<g id=\"graph0\" class=\"graph\" transform=\"scale(1 1) rotate(0) translate(4 186)\">\n",
       "<title>%3</title>\n",
       "<polygon fill=\"#ffffff\" stroke=\"transparent\" points=\"-4,4 -4,-186 338.3208,-186 338.3208,4 -4,4\"/>\n",
       "<!-- 4575747320 -->\n",
       "<g id=\"node1\" class=\"node\">\n",
       "<title>4575747320</title>\n",
       "<path fill=\"none\" stroke=\"#000000\" stroke-width=\".25\" d=\"M217.3636,-182C217.3636,-182 178.278,-182 178.278,-182 174.6113,-182 170.9447,-178.3333 170.9447,-174.6667 170.9447,-174.6667 170.9447,-167.3333 170.9447,-167.3333 170.9447,-163.6667 174.6113,-160 178.278,-160 178.278,-160 217.3636,-160 217.3636,-160 221.0303,-160 224.6969,-163.6667 224.6969,-167.3333 224.6969,-167.3333 224.6969,-174.6667 224.6969,-174.6667 224.6969,-178.3333 221.0303,-182 217.3636,-182\"/>\n",
       "<text text-anchor=\"middle\" x=\"197.8208\" y=\"-166.8\" font-family=\"Times,serif\" font-size=\"14.00\" fill=\"#000000\">Number</text>\n",
       "</g>\n",
       "<!-- 4575747432 -->\n",
       "<g id=\"node2\" class=\"node\">\n",
       "<title>4575747432</title>\n",
       "<path fill=\"none\" stroke=\"#000000\" stroke-width=\".25\" d=\"M185.8636,-142C185.8636,-142 139.778,-142 139.778,-142 136.1114,-142 132.4447,-138.3333 132.4447,-134.6667 132.4447,-134.6667 132.4447,-127.3333 132.4447,-127.3333 132.4447,-123.6667 136.1114,-120 139.778,-120 139.778,-120 185.8636,-120 185.8636,-120 189.5302,-120 193.1969,-123.6667 193.1969,-127.3333 193.1969,-127.3333 193.1969,-134.6667 193.1969,-134.6667 193.1969,-138.3333 189.5302,-142 185.8636,-142\"/>\n",
       "<text text-anchor=\"middle\" x=\"162.8208\" y=\"-126.8\" font-family=\"Times,serif\" font-size=\"14.00\" fill=\"#000000\">Number1</text>\n",
       "</g>\n",
       "<!-- 4575747320&#45;&gt;4575747432 -->\n",
       "<g id=\"edge2\" class=\"edge\">\n",
       "<title>4575747320&#45;&gt;4575747432</title>\n",
       "<path fill=\"none\" stroke=\"#000000\" d=\"M187.8848,-159.6446C183.1153,-154.1937 177.4174,-147.6819 172.6605,-142.2453\"/>\n",
       "</g>\n",
       "<!-- 4575746200 -->\n",
       "<g id=\"node3\" class=\"node\">\n",
       "<title>4575746200</title>\n",
       "<path fill=\"none\" stroke=\"#000000\" stroke-width=\".25\" d=\"M250.967,-142C250.967,-142 222.6746,-142 222.6746,-142 219.008,-142 215.3413,-138.3333 215.3413,-134.6667 215.3413,-134.6667 215.3413,-127.3333 215.3413,-127.3333 215.3413,-123.6667 219.008,-120 222.6746,-120 222.6746,-120 250.967,-120 250.967,-120 254.6336,-120 258.3003,-123.6667 258.3003,-127.3333 258.3003,-127.3333 258.3003,-134.6667 258.3003,-134.6667 258.3003,-138.3333 254.6336,-142 250.967,-142\"/>\n",
       "<text text-anchor=\"middle\" x=\"236.8208\" y=\"-126.8\" font-family=\"Times,serif\" font-size=\"14.00\" fill=\"#000000\">Scale’</text>\n",
       "</g>\n",
       "<!-- 4575747320&#45;&gt;4575746200 -->\n",
       "<g id=\"edge16\" class=\"edge\">\n",
       "<title>4575747320&#45;&gt;4575746200</title>\n",
       "<path fill=\"none\" stroke=\"#000000\" d=\"M208.8923,-159.6446C214.207,-154.1937 220.556,-147.6819 225.8566,-142.2453\"/>\n",
       "</g>\n",
       "<!-- 4575747432&#45;&gt;4575746200 -->\n",
       "<!-- 4575747096 -->\n",
       "<g id=\"node4\" class=\"node\">\n",
       "<title>4575747096</title>\n",
       "<path fill=\"none\" stroke=\"#000000\" stroke-width=\".25\" d=\"M102.1304,-102C102.1304,-102 69.5112,-102 69.5112,-102 65.8445,-102 62.1779,-98.3333 62.1779,-94.6667 62.1779,-94.6667 62.1779,-87.3333 62.1779,-87.3333 62.1779,-83.6667 65.8445,-80 69.5112,-80 69.5112,-80 102.1304,-80 102.1304,-80 105.7971,-80 109.4637,-83.6667 109.4637,-87.3333 109.4637,-87.3333 109.4637,-94.6667 109.4637,-94.6667 109.4637,-98.3333 105.7971,-102 102.1304,-102\"/>\n",
       "<text text-anchor=\"middle\" x=\"85.8208\" y=\"-86.8\" font-family=\"Times,serif\" font-size=\"14.00\" fill=\"#000000\">Integer</text>\n",
       "</g>\n",
       "<!-- 4575747432&#45;&gt;4575747096 -->\n",
       "<g id=\"edge4\" class=\"edge\">\n",
       "<title>4575747432&#45;&gt;4575747096</title>\n",
       "<path fill=\"none\" stroke=\"#000000\" d=\"M141.372,-119.8578C130.6922,-114.3098 117.8186,-107.6222 107.1546,-102.0825\"/>\n",
       "</g>\n",
       "<!-- 4575745752 -->\n",
       "<g id=\"node5\" class=\"node\">\n",
       "<title>4575745752</title>\n",
       "<path fill=\"none\" stroke=\"#000000\" stroke-width=\".25\" d=\"M175.6438,-102C175.6438,-102 135.9978,-102 135.9978,-102 132.3311,-102 128.6644,-98.3333 128.6644,-94.6667 128.6644,-94.6667 128.6644,-87.3333 128.6644,-87.3333 128.6644,-83.6667 132.3311,-80 135.9978,-80 135.9978,-80 175.6438,-80 175.6438,-80 179.3105,-80 182.9772,-83.6667 182.9772,-87.3333 182.9772,-87.3333 182.9772,-94.6667 182.9772,-94.6667 182.9772,-98.3333 179.3105,-102 175.6438,-102\"/>\n",
       "<text text-anchor=\"middle\" x=\"155.8208\" y=\"-86.8\" font-family=\"Times,serif\" font-size=\"14.00\" fill=\"#000000\">Fraction</text>\n",
       "</g>\n",
       "<!-- 4575747432&#45;&gt;4575745752 -->\n",
       "<g id=\"edge10\" class=\"edge\">\n",
       "<title>4575747432&#45;&gt;4575745752</title>\n",
       "<path fill=\"none\" stroke=\"#000000\" d=\"M160.8336,-119.6446C159.8797,-114.1937 158.7401,-107.6819 157.7887,-102.2453\"/>\n",
       "</g>\n",
       "<!-- 4575745920 -->\n",
       "<g id=\"node14\" class=\"node\">\n",
       "<title>4575745920</title>\n",
       "<path fill=\"none\" stroke=\"#000000\" stroke-width=\".25\" d=\"M255.467,-102C255.467,-102 220.1746,-102 220.1746,-102 216.508,-102 212.8413,-98.3333 212.8413,-94.6667 212.8413,-94.6667 212.8413,-87.3333 212.8413,-87.3333 212.8413,-83.6667 216.508,-80 220.1746,-80 220.1746,-80 255.467,-80 255.467,-80 259.1336,-80 262.8003,-83.6667 262.8003,-87.3333 262.8003,-87.3333 262.8003,-94.6667 262.8003,-94.6667 262.8003,-98.3333 259.1336,-102 255.467,-102\"/>\n",
       "<text text-anchor=\"middle\" x=\"237.8208\" y=\"-86.8\" font-family=\"Times,serif\" font-size=\"14.00\" fill=\"#000000\">Scale’1</text>\n",
       "</g>\n",
       "<!-- 4575746200&#45;&gt;4575745920 -->\n",
       "<g id=\"edge18\" class=\"edge\">\n",
       "<title>4575746200&#45;&gt;4575745920</title>\n",
       "<path fill=\"none\" stroke=\"#000000\" d=\"M237.1047,-119.6446C237.241,-114.1937 237.4038,-107.6819 237.5397,-102.2453\"/>\n",
       "</g>\n",
       "<!-- 4575745528 -->\n",
       "<g id=\"node15\" class=\"node\">\n",
       "<title>4575745528</title>\n",
       "<path fill=\"none\" stroke=\"#000000\" stroke-width=\".25\" d=\"M321.1304,-102C321.1304,-102 288.5112,-102 288.5112,-102 284.8445,-102 281.1779,-98.3333 281.1779,-94.6667 281.1779,-94.6667 281.1779,-87.3333 281.1779,-87.3333 281.1779,-83.6667 284.8445,-80 288.5112,-80 288.5112,-80 321.1304,-80 321.1304,-80 324.7971,-80 328.4637,-83.6667 328.4637,-87.3333 328.4637,-87.3333 328.4637,-94.6667 328.4637,-94.6667 328.4637,-98.3333 324.7971,-102 321.1304,-102\"/>\n",
       "<text text-anchor=\"middle\" x=\"304.8208\" y=\"-86.8\" font-family=\"Times,serif\" font-size=\"14.00\" fill=\"#000000\">Integer</text>\n",
       "</g>\n",
       "<!-- 4575746200&#45;&gt;4575745528 -->\n",
       "<g id=\"edge24\" class=\"edge\">\n",
       "<title>4575746200&#45;&gt;4575745528</title>\n",
       "<path fill=\"none\" stroke=\"#000000\" d=\"M255.7626,-119.8578C265.1941,-114.3098 276.563,-107.6222 285.9806,-102.0825\"/>\n",
       "</g>\n",
       "<!-- 4575747096&#45;&gt;4575745752 -->\n",
       "<!-- 4575747040 -->\n",
       "<g id=\"node6\" class=\"node\">\n",
       "<title>4575747040</title>\n",
       "<path fill=\"none\" stroke=\"#000000\" stroke-width=\".25\" d=\"M40.1304,-62C40.1304,-62 7.5112,-62 7.5112,-62 3.8445,-62 .1779,-58.3333 .1779,-54.6667 .1779,-54.6667 .1779,-47.3333 .1779,-47.3333 .1779,-43.6667 3.8445,-40 7.5112,-40 7.5112,-40 40.1304,-40 40.1304,-40 43.7971,-40 47.4637,-43.6667 47.4637,-47.3333 47.4637,-47.3333 47.4637,-54.6667 47.4637,-54.6667 47.4637,-58.3333 43.7971,-62 40.1304,-62\"/>\n",
       "<text text-anchor=\"middle\" x=\"23.8208\" y=\"-46.8\" font-family=\"Times,serif\" font-size=\"14.00\" fill=\"#000000\">Integer</text>\n",
       "</g>\n",
       "<!-- 4575747096&#45;&gt;4575747040 -->\n",
       "<g id=\"edge6\" class=\"edge\">\n",
       "<title>4575747096&#45;&gt;4575747040</title>\n",
       "<path fill=\"none\" stroke=\"#000000\" d=\"M68.5503,-79.8578C59.951,-74.3098 49.5853,-67.6222 40.9986,-62.0825\"/>\n",
       "</g>\n",
       "<!-- 4575746816 -->\n",
       "<g id=\"node7\" class=\"node\">\n",
       "<title>4575746816</title>\n",
       "<path fill=\"none\" stroke=\"#000000\" stroke-width=\".25\" d=\"M94.7674,-62C94.7674,-62 72.8742,-62 72.8742,-62 69.2075,-62 65.5408,-58.3333 65.5408,-54.6667 65.5408,-54.6667 65.5408,-47.3333 65.5408,-47.3333 65.5408,-43.6667 69.2075,-40 72.8742,-40 72.8742,-40 94.7674,-40 94.7674,-40 98.4341,-40 102.1008,-43.6667 102.1008,-47.3333 102.1008,-47.3333 102.1008,-54.6667 102.1008,-54.6667 102.1008,-58.3333 98.4341,-62 94.7674,-62\"/>\n",
       "<text text-anchor=\"middle\" x=\"83.8208\" y=\"-46.8\" font-family=\"Times,serif\" font-size=\"14.00\" fill=\"#000000\">Digit</text>\n",
       "</g>\n",
       "<!-- 4575747096&#45;&gt;4575746816 -->\n",
       "<g id=\"edge8\" class=\"edge\">\n",
       "<title>4575747096&#45;&gt;4575746816</title>\n",
       "<path fill=\"none\" stroke=\"#000000\" d=\"M85.253,-79.6446C84.9805,-74.1937 84.6549,-67.6819 84.3831,-62.2453\"/>\n",
       "</g>\n",
       "<!-- 4575744072 -->\n",
       "<g id=\"node10\" class=\"node\">\n",
       "<title>4575744072</title>\n",
       "<path fill=\"none\" stroke=\"#000000\" stroke-width=\".25\" d=\"M134.3587,-62C134.3587,-62 127.2829,-62 127.2829,-62 123.7449,-62 120.207,-58.4621 120.207,-54.9241 120.207,-54.9241 120.207,-47.0759 120.207,-47.0759 120.207,-43.5379 123.7449,-40 127.2829,-40 127.2829,-40 134.3587,-40 134.3587,-40 137.8967,-40 141.4346,-43.5379 141.4346,-47.0759 141.4346,-47.0759 141.4346,-54.9241 141.4346,-54.9241 141.4346,-58.4621 137.8967,-62 134.3587,-62\"/>\n",
       "<text text-anchor=\"middle\" x=\"130.8208\" y=\"-46.8\" font-family=\"Times,serif\" font-size=\"14.00\" fill=\"#000000\">N.</text>\n",
       "</g>\n",
       "<!-- 4575745752&#45;&gt;4575744072 -->\n",
       "<g id=\"edge12\" class=\"edge\">\n",
       "<title>4575745752&#45;&gt;4575744072</title>\n",
       "<path fill=\"none\" stroke=\"#000000\" d=\"M148.7237,-79.6446C145.3168,-74.1937 141.247,-67.6819 137.8491,-62.2453\"/>\n",
       "</g>\n",
       "<!-- 4575744688 -->\n",
       "<g id=\"node11\" class=\"node\">\n",
       "<title>4575744688</title>\n",
       "<path fill=\"none\" stroke=\"#000000\" stroke-width=\".25\" d=\"M200.1304,-62C200.1304,-62 167.5112,-62 167.5112,-62 163.8445,-62 160.1779,-58.3333 160.1779,-54.6667 160.1779,-54.6667 160.1779,-47.3333 160.1779,-47.3333 160.1779,-43.6667 163.8445,-40 167.5112,-40 167.5112,-40 200.1304,-40 200.1304,-40 203.7971,-40 207.4637,-43.6667 207.4637,-47.3333 207.4637,-47.3333 207.4637,-54.6667 207.4637,-54.6667 207.4637,-58.3333 203.7971,-62 200.1304,-62\"/>\n",
       "<text text-anchor=\"middle\" x=\"183.8208\" y=\"-46.8\" font-family=\"Times,serif\" font-size=\"14.00\" fill=\"#000000\">Integer</text>\n",
       "</g>\n",
       "<!-- 4575745752&#45;&gt;4575744688 -->\n",
       "<g id=\"edge14\" class=\"edge\">\n",
       "<title>4575745752&#45;&gt;4575744688</title>\n",
       "<path fill=\"none\" stroke=\"#000000\" d=\"M163.7696,-79.6446C167.5852,-74.1937 172.1435,-67.6819 175.9491,-62.2453\"/>\n",
       "</g>\n",
       "<!-- 4575747040&#45;&gt;4575746816 -->\n",
       "<!-- 4575747544 -->\n",
       "<g id=\"node8\" class=\"node\">\n",
       "<title>4575747544</title>\n",
       "<path fill=\"none\" stroke=\"#000000\" stroke-width=\".25\" d=\"M26.3208,-22C26.3208,-22 21.3208,-22 21.3208,-22 18.8208,-22 16.3208,-19.5 16.3208,-17 16.3208,-17 16.3208,-5 16.3208,-5 16.3208,-2.5 18.8208,0 21.3208,0 21.3208,0 26.3208,0 26.3208,0 28.8208,0 31.3208,-2.5 31.3208,-5 31.3208,-5 31.3208,-17 31.3208,-17 31.3208,-19.5 28.8208,-22 26.3208,-22\"/>\n",
       "<text text-anchor=\"middle\" x=\"23.8208\" y=\"-6.8\" font-family=\"Times,serif\" font-size=\"14.00\" fill=\"#000000\">3</text>\n",
       "</g>\n",
       "<!-- 4575747040&#45;&gt;4575747544 -->\n",
       "<g id=\"edge7\" class=\"edge\">\n",
       "<title>4575747040&#45;&gt;4575747544</title>\n",
       "<path fill=\"none\" stroke=\"#000000\" d=\"M23.8208,-39.6446C23.8208,-34.1937 23.8208,-27.6819 23.8208,-22.2453\"/>\n",
       "</g>\n",
       "<!-- 4575746368 -->\n",
       "<g id=\"node9\" class=\"node\">\n",
       "<title>4575746368</title>\n",
       "<path fill=\"none\" stroke=\"#000000\" stroke-width=\".25\" d=\"M86.3208,-22C86.3208,-22 81.3208,-22 81.3208,-22 78.8208,-22 76.3208,-19.5 76.3208,-17 76.3208,-17 76.3208,-5 76.3208,-5 76.3208,-2.5 78.8208,0 81.3208,0 81.3208,0 86.3208,0 86.3208,0 88.8208,0 91.3208,-2.5 91.3208,-5 91.3208,-5 91.3208,-17 91.3208,-17 91.3208,-19.5 88.8208,-22 86.3208,-22\"/>\n",
       "<text text-anchor=\"middle\" x=\"83.8208\" y=\"-6.8\" font-family=\"Times,serif\" font-size=\"14.00\" fill=\"#000000\">2</text>\n",
       "</g>\n",
       "<!-- 4575746816&#45;&gt;4575746368 -->\n",
       "<g id=\"edge9\" class=\"edge\">\n",
       "<title>4575746816&#45;&gt;4575746368</title>\n",
       "<path fill=\"none\" stroke=\"#000000\" d=\"M83.8208,-39.6446C83.8208,-34.1937 83.8208,-27.6819 83.8208,-22.2453\"/>\n",
       "</g>\n",
       "<!-- 4575744072&#45;&gt;4575744688 -->\n",
       "<!-- 4575744968 -->\n",
       "<g id=\"node12\" class=\"node\">\n",
       "<title>4575744968</title>\n",
       "<path fill=\"none\" stroke=\"#000000\" stroke-width=\".25\" d=\"M132.6576,-22C132.6576,-22 128.984,-22 128.984,-22 127.1472,-22 125.3104,-20.1632 125.3104,-18.3264 125.3104,-18.3264 125.3104,-3.6736 125.3104,-3.6736 125.3104,-1.8368 127.1472,0 128.984,0 128.984,0 132.6576,0 132.6576,0 134.4944,0 136.3312,-1.8368 136.3312,-3.6736 136.3312,-3.6736 136.3312,-18.3264 136.3312,-18.3264 136.3312,-20.1632 134.4944,-22 132.6576,-22\"/>\n",
       "<text text-anchor=\"middle\" x=\"130.8208\" y=\"-6.8\" font-family=\"Times,serif\" font-size=\"14.00\" fill=\"#000000\">.</text>\n",
       "</g>\n",
       "<!-- 4575744072&#45;&gt;4575744968 -->\n",
       "<g id=\"edge13\" class=\"edge\">\n",
       "<title>4575744072&#45;&gt;4575744968</title>\n",
       "<path fill=\"none\" stroke=\"#000000\" d=\"M130.8208,-39.6446C130.8208,-34.1937 130.8208,-27.6819 130.8208,-22.2453\"/>\n",
       "</g>\n",
       "<!-- 4575744856 -->\n",
       "<g id=\"node13\" class=\"node\">\n",
       "<title>4575744856</title>\n",
       "<path fill=\"none\" stroke=\"#000000\" stroke-width=\".25\" d=\"M186.3208,-22C186.3208,-22 181.3208,-22 181.3208,-22 178.8208,-22 176.3208,-19.5 176.3208,-17 176.3208,-17 176.3208,-5 176.3208,-5 176.3208,-2.5 178.8208,0 181.3208,0 181.3208,0 186.3208,0 186.3208,0 188.8208,0 191.3208,-2.5 191.3208,-5 191.3208,-5 191.3208,-17 191.3208,-17 191.3208,-19.5 188.8208,-22 186.3208,-22\"/>\n",
       "<text text-anchor=\"middle\" x=\"183.8208\" y=\"-6.8\" font-family=\"Times,serif\" font-size=\"14.00\" fill=\"#000000\">5</text>\n",
       "</g>\n",
       "<!-- 4575744688&#45;&gt;4575744856 -->\n",
       "<g id=\"edge15\" class=\"edge\">\n",
       "<title>4575744688&#45;&gt;4575744856</title>\n",
       "<path fill=\"none\" stroke=\"#000000\" d=\"M183.8208,-39.6446C183.8208,-34.1937 183.8208,-27.6819 183.8208,-22.2453\"/>\n",
       "</g>\n",
       "<!-- 4575745920&#45;&gt;4575745528 -->\n",
       "<!-- 4575745808 -->\n",
       "<g id=\"node16\" class=\"node\">\n",
       "<title>4575745808</title>\n",
       "<path fill=\"none\" stroke=\"#000000\" stroke-width=\".25\" d=\"M242.8139,-62C242.8139,-62 232.8277,-62 232.8277,-62 229.1611,-62 225.4944,-58.3333 225.4944,-54.6667 225.4944,-54.6667 225.4944,-47.3333 225.4944,-47.3333 225.4944,-43.6667 229.1611,-40 232.8277,-40 232.8277,-40 242.8139,-40 242.8139,-40 246.4805,-40 250.1472,-43.6667 250.1472,-47.3333 250.1472,-47.3333 250.1472,-54.6667 250.1472,-54.6667 250.1472,-58.3333 246.4805,-62 242.8139,-62\"/>\n",
       "<text text-anchor=\"middle\" x=\"237.8208\" y=\"-46.8\" font-family=\"Times,serif\" font-size=\"14.00\" fill=\"#000000\">Ne</text>\n",
       "</g>\n",
       "<!-- 4575745920&#45;&gt;4575745808 -->\n",
       "<g id=\"edge20\" class=\"edge\">\n",
       "<title>4575745920&#45;&gt;4575745808</title>\n",
       "<path fill=\"none\" stroke=\"#000000\" d=\"M237.8208,-79.6446C237.8208,-74.1937 237.8208,-67.6819 237.8208,-62.2453\"/>\n",
       "</g>\n",
       "<!-- 4575744744 -->\n",
       "<g id=\"node17\" class=\"node\">\n",
       "<title>4575744744</title>\n",
       "<path fill=\"none\" stroke=\"#000000\" stroke-width=\".25\" d=\"M294.1648,-62C294.1648,-62 275.4768,-62 275.4768,-62 271.8101,-62 268.1435,-58.3333 268.1435,-54.6667 268.1435,-54.6667 268.1435,-47.3333 268.1435,-47.3333 268.1435,-43.6667 271.8101,-40 275.4768,-40 275.4768,-40 294.1648,-40 294.1648,-40 297.8315,-40 301.4981,-43.6667 301.4981,-47.3333 301.4981,-47.3333 301.4981,-54.6667 301.4981,-54.6667 301.4981,-58.3333 297.8315,-62 294.1648,-62\"/>\n",
       "<text text-anchor=\"middle\" x=\"284.8208\" y=\"-46.8\" font-family=\"Times,serif\" font-size=\"14.00\" fill=\"#000000\">Sign</text>\n",
       "</g>\n",
       "<!-- 4575745920&#45;&gt;4575744744 -->\n",
       "<g id=\"edge22\" class=\"edge\">\n",
       "<title>4575745920&#45;&gt;4575744744</title>\n",
       "<path fill=\"none\" stroke=\"#000000\" d=\"M250.9129,-79.8578C257.4318,-74.3098 265.2897,-67.6222 271.7989,-62.0825\"/>\n",
       "</g>\n",
       "<!-- 4575745584 -->\n",
       "<g id=\"node20\" class=\"node\">\n",
       "<title>4575745584</title>\n",
       "<path fill=\"none\" stroke=\"#000000\" stroke-width=\".25\" d=\"M329.3208,-62C329.3208,-62 324.3208,-62 324.3208,-62 321.8208,-62 319.3208,-59.5 319.3208,-57 319.3208,-57 319.3208,-45 319.3208,-45 319.3208,-42.5 321.8208,-40 324.3208,-40 324.3208,-40 329.3208,-40 329.3208,-40 331.8208,-40 334.3208,-42.5 334.3208,-45 334.3208,-45 334.3208,-57 334.3208,-57 334.3208,-59.5 331.8208,-62 329.3208,-62\"/>\n",
       "<text text-anchor=\"middle\" x=\"326.8208\" y=\"-46.8\" font-family=\"Times,serif\" font-size=\"14.00\" fill=\"#000000\">1</text>\n",
       "</g>\n",
       "<!-- 4575745528&#45;&gt;4575745584 -->\n",
       "<g id=\"edge25\" class=\"edge\">\n",
       "<title>4575745528&#45;&gt;4575745584</title>\n",
       "<path fill=\"none\" stroke=\"#000000\" d=\"M311.0663,-79.6446C314.0643,-74.1937 317.6458,-67.6819 320.6359,-62.2453\"/>\n",
       "</g>\n",
       "<!-- 4575745808&#45;&gt;4575744744 -->\n",
       "<!-- 4575745360 -->\n",
       "<g id=\"node18\" class=\"node\">\n",
       "<title>4575745360</title>\n",
       "<path fill=\"none\" stroke=\"#000000\" stroke-width=\".25\" d=\"M240.226,-22C240.226,-22 235.4156,-22 235.4156,-22 233.0105,-22 230.6053,-19.5948 230.6053,-17.1897 230.6053,-17.1897 230.6053,-4.8103 230.6053,-4.8103 230.6053,-2.4052 233.0105,0 235.4156,0 235.4156,0 240.226,0 240.226,0 242.6311,0 245.0363,-2.4052 245.0363,-4.8103 245.0363,-4.8103 245.0363,-17.1897 245.0363,-17.1897 245.0363,-19.5948 242.6311,-22 240.226,-22\"/>\n",
       "<text text-anchor=\"middle\" x=\"237.8208\" y=\"-6.8\" font-family=\"Times,serif\" font-size=\"14.00\" fill=\"#000000\">e</text>\n",
       "</g>\n",
       "<!-- 4575745808&#45;&gt;4575745360 -->\n",
       "<g id=\"edge21\" class=\"edge\">\n",
       "<title>4575745808&#45;&gt;4575745360</title>\n",
       "<path fill=\"none\" stroke=\"#000000\" d=\"M237.8208,-39.6446C237.8208,-34.1937 237.8208,-27.6819 237.8208,-22.2453\"/>\n",
       "</g>\n",
       "<!-- 4575744128 -->\n",
       "<g id=\"node19\" class=\"node\">\n",
       "<title>4575744128</title>\n",
       "<path fill=\"none\" stroke=\"#000000\" stroke-width=\".25\" d=\"M287.4528,-22C287.4528,-22 282.1889,-22 282.1889,-22 279.5569,-22 276.925,-19.3681 276.925,-16.7361 276.925,-16.7361 276.925,-5.2639 276.925,-5.2639 276.925,-2.6319 279.5569,0 282.1889,0 282.1889,0 287.4528,0 287.4528,0 290.0847,0 292.7166,-2.6319 292.7166,-5.2639 292.7166,-5.2639 292.7166,-16.7361 292.7166,-16.7361 292.7166,-19.3681 290.0847,-22 287.4528,-22\"/>\n",
       "<text text-anchor=\"middle\" x=\"284.8208\" y=\"-6.8\" font-family=\"Times,serif\" font-size=\"14.00\" fill=\"#000000\">+</text>\n",
       "</g>\n",
       "<!-- 4575744744&#45;&gt;4575744128 -->\n",
       "<g id=\"edge23\" class=\"edge\">\n",
       "<title>4575744744&#45;&gt;4575744128</title>\n",
       "<path fill=\"none\" stroke=\"#000000\" d=\"M284.8208,-39.6446C284.8208,-34.1937 284.8208,-27.6819 284.8208,-22.2453\"/>\n",
       "</g>\n",
       "</g>\n",
       "</svg>\n"
      ],
      "text/plain": [
       "(Number: (Number1: (Integer: (Integer: 3), (Digit: 2)), (Fraction: (N.: .), (Integer: 5))), (Scale’: (Scale’1: (Ne: e), (Sign: +)), (Integer: 1)))"
      ]
     },
     "execution_count": 24,
     "metadata": {},
     "output_type": "execute_result"
    }
   ],
   "source": [
    "from liblet import Tree\n",
    "\n",
    "Tree.from_lol(get_parse_tree(Gcnf, R, INPUT))"
   ]
  },
  {
   "cell_type": "markdown",
   "metadata": {},
   "source": [
    "## Una derivazione leftmost"
   ]
  },
  {
   "cell_type": "code",
   "execution_count": 25,
   "metadata": {},
   "outputs": [],
   "source": [
    "from liblet import show_calls\n",
    "\n",
    "def get_leftmost_prods(G, R, INPUT):\n",
    "    @show_calls(True)\n",
    "    def prods(X, i, l):\n",
    "        if l == 1:\n",
    "            return [G.P.index(Production(X, (INPUT[i - 1],)))]\n",
    "        for A, (B, C) in filter(Production.such_that(lhs = X, rhs_len = 2), G.P):\n",
    "            for k in range(1, l):\n",
    "                if B in R[(i, k)] and C in R[(i + k, l - k)]:\n",
    "                    return [G.P.index(Production(A, (B, C)))] + prods(B, i, k) + prods(C, i + k, l - k)\n",
    "    return prods(G.S, 1, len(INPUT))            "
   ]
  },
  {
   "cell_type": "code",
   "execution_count": 26,
   "metadata": {},
   "outputs": [
    {
     "name": "stdout",
     "output_type": "stream",
     "text": [
      "┌prods('Number', 1, 7)\n",
      "│┌prods('Number1', 1, 4)\n",
      "││┌prods('Integer', 1, 2)\n",
      "│││┌prods('Integer', 1, 1)\n",
      "│││└─ [1]\n",
      "│││┌prods('Digit', 2, 1)\n",
      "│││└─ [7]\n",
      "││└─ [11, 1, 7]\n",
      "││┌prods('Fraction', 3, 2)\n",
      "│││┌prods('N.', 3, 1)\n",
      "│││└─ [9]\n",
      "│││┌prods('Integer', 4, 1)\n",
      "│││└─ [40]\n",
      "││└─ [28, 9, 40]\n",
      "│└─ [26, 11, 1, 7, 28, 9, 40]\n",
      "│┌prods('Scale’', 5, 3)\n",
      "││┌prods('Scale’1', 5, 2)\n",
      "│││┌prods('Ne', 5, 1)\n",
      "│││└─ [36]\n",
      "│││┌prods('Sign', 6, 1)\n",
      "│││└─ [31]\n",
      "││└─ [6, 36, 31]\n",
      "││┌prods('Integer', 7, 1)\n",
      "││└─ [21]\n",
      "│└─ [32, 6, 36, 31, 21]\n",
      "└─ [10, 26, 11, 1, 7, 28, 9, 40, 32, 6, 36, 31, 21]\n"
     ]
    },
    {
     "data": {
      "text/plain": [
       "[10, 26, 11, 1, 7, 28, 9, 40, 32, 6, 36, 31, 21]"
      ]
     },
     "execution_count": 26,
     "metadata": {},
     "output_type": "execute_result"
    }
   ],
   "source": [
    "leftmost_prods = get_leftmost_prods(Gcnf, R, INPUT)\n",
    "leftmost_prods"
   ]
  },
  {
   "cell_type": "code",
   "execution_count": 27,
   "metadata": {},
   "outputs": [
    {
     "data": {
      "image/svg+xml": [
       "<?xml version=\"1.0\" encoding=\"UTF-8\" standalone=\"no\"?>\n",
       "<!DOCTYPE svg PUBLIC \"-//W3C//DTD SVG 1.1//EN\"\n",
       " \"http://www.w3.org/Graphics/SVG/1.1/DTD/svg11.dtd\">\n",
       "<!-- Generated by graphviz version 2.40.1 (20161225.0304)\n",
       " -->\n",
       "<!-- Title: %3 Pages: 1 -->\n",
       "<svg width=\"428pt\" height=\"550pt\"\n",
       " viewBox=\"0.00 0.00 428.08 550.00\" xmlns=\"http://www.w3.org/2000/svg\" xmlns:xlink=\"http://www.w3.org/1999/xlink\">\n",
       "<g id=\"graph0\" class=\"graph\" transform=\"scale(1 1) rotate(0) translate(4 546)\">\n",
       "<title>%3</title>\n",
       "<polygon fill=\"#ffffff\" stroke=\"transparent\" points=\"-4,4 -4,-546 424.0796,-546 424.0796,4 -4,4\"/>\n",
       "<!-- &#45;3863875188447875180 -->\n",
       "<!-- &#45;3057172066620462096 -->\n",
       "<!-- &#45;3863875188447875180&#45;&gt;&#45;3057172066620462096 -->\n",
       "<!-- &#45;2385951816765183991 -->\n",
       "<g id=\"node2\" class=\"node\">\n",
       "<title>&#45;2385951816765183991</title>\n",
       "<path fill=\"none\" stroke=\"#000000\" stroke-width=\".25\" d=\"M321.8016,-542C321.8016,-542 282.716,-542 282.716,-542 279.0493,-542 275.3827,-538.3333 275.3827,-534.6667 275.3827,-534.6667 275.3827,-527.3333 275.3827,-527.3333 275.3827,-523.6667 279.0493,-520 282.716,-520 282.716,-520 321.8016,-520 321.8016,-520 325.4682,-520 329.1349,-523.6667 329.1349,-527.3333 329.1349,-527.3333 329.1349,-534.6667 329.1349,-534.6667 329.1349,-538.3333 325.4682,-542 321.8016,-542\"/>\n",
       "<text text-anchor=\"middle\" x=\"302.2588\" y=\"-526.8\" font-family=\"Times,serif\" font-size=\"14.00\" fill=\"#000000\">Number</text>\n",
       "</g>\n",
       "<!-- &#45;9059950895797638611 -->\n",
       "<g id=\"node4\" class=\"node\">\n",
       "<title>&#45;9059950895797638611</title>\n",
       "<path fill=\"none\" stroke=\"#000000\" stroke-width=\".25\" d=\"M290.3016,-502C290.3016,-502 244.216,-502 244.216,-502 240.5494,-502 236.8827,-498.3333 236.8827,-494.6667 236.8827,-494.6667 236.8827,-487.3333 236.8827,-487.3333 236.8827,-483.6667 240.5494,-480 244.216,-480 244.216,-480 290.3016,-480 290.3016,-480 293.9682,-480 297.6349,-483.6667 297.6349,-487.3333 297.6349,-487.3333 297.6349,-494.6667 297.6349,-494.6667 297.6349,-498.3333 293.9682,-502 290.3016,-502\"/>\n",
       "<text text-anchor=\"middle\" x=\"267.2588\" y=\"-486.8\" font-family=\"Times,serif\" font-size=\"14.00\" fill=\"#000000\">Number1</text>\n",
       "</g>\n",
       "<!-- &#45;2385951816765183991&#45;&gt;&#45;9059950895797638611 -->\n",
       "<g id=\"edge2\" class=\"edge\">\n",
       "<title>&#45;2385951816765183991&#45;&gt;&#45;9059950895797638611</title>\n",
       "<path fill=\"none\" stroke=\"#000000\" stroke-width=\".5\" d=\"M292.3228,-519.6446C287.5532,-514.1937 281.8554,-507.6819 277.0985,-502.2453\"/>\n",
       "</g>\n",
       "<!-- &#45;4111376985626039155 -->\n",
       "<g id=\"node5\" class=\"node\">\n",
       "<title>&#45;4111376985626039155</title>\n",
       "<path fill=\"none\" stroke=\"#000000\" stroke-width=\".25\" d=\"M351.405,-502C351.405,-502 323.1126,-502 323.1126,-502 319.446,-502 315.7793,-498.3333 315.7793,-494.6667 315.7793,-494.6667 315.7793,-487.3333 315.7793,-487.3333 315.7793,-483.6667 319.446,-480 323.1126,-480 323.1126,-480 351.405,-480 351.405,-480 355.0716,-480 358.7383,-483.6667 358.7383,-487.3333 358.7383,-487.3333 358.7383,-494.6667 358.7383,-494.6667 358.7383,-498.3333 355.0716,-502 351.405,-502\"/>\n",
       "<text text-anchor=\"middle\" x=\"337.2588\" y=\"-486.8\" font-family=\"Times,serif\" font-size=\"14.00\" fill=\"#000000\">Scale’</text>\n",
       "</g>\n",
       "<!-- &#45;2385951816765183991&#45;&gt;&#45;4111376985626039155 -->\n",
       "<g id=\"edge3\" class=\"edge\">\n",
       "<title>&#45;2385951816765183991&#45;&gt;&#45;4111376985626039155</title>\n",
       "<path fill=\"none\" stroke=\"#000000\" stroke-width=\".5\" d=\"M312.1948,-519.6446C316.9643,-514.1937 322.6621,-507.6819 327.4191,-502.2453\"/>\n",
       "</g>\n",
       "<!-- 6019422999214067881 -->\n",
       "<!-- &#45;3057172066620462096&#45;&gt;6019422999214067881 -->\n",
       "<!-- &#45;9059950895797638611&#45;&gt;&#45;4111376985626039155 -->\n",
       "<!-- 4835018865012619619 -->\n",
       "<g id=\"node7\" class=\"node\">\n",
       "<title>4835018865012619619</title>\n",
       "<path fill=\"none\" stroke=\"#000000\" stroke-width=\".25\" d=\"M215.5684,-462C215.5684,-462 182.9492,-462 182.9492,-462 179.2825,-462 175.6158,-458.3333 175.6158,-454.6667 175.6158,-454.6667 175.6158,-447.3333 175.6158,-447.3333 175.6158,-443.6667 179.2825,-440 182.9492,-440 182.9492,-440 215.5684,-440 215.5684,-440 219.2351,-440 222.9017,-443.6667 222.9017,-447.3333 222.9017,-447.3333 222.9017,-454.6667 222.9017,-454.6667 222.9017,-458.3333 219.2351,-462 215.5684,-462\"/>\n",
       "<text text-anchor=\"middle\" x=\"199.2588\" y=\"-446.8\" font-family=\"Times,serif\" font-size=\"14.00\" fill=\"#000000\">Integer</text>\n",
       "</g>\n",
       "<!-- &#45;9059950895797638611&#45;&gt;4835018865012619619 -->\n",
       "<g id=\"edge6\" class=\"edge\">\n",
       "<title>&#45;9059950895797638611&#45;&gt;4835018865012619619</title>\n",
       "<path fill=\"none\" stroke=\"#000000\" stroke-width=\".5\" d=\"M248.317,-479.8578C238.8854,-474.3098 227.5166,-467.6222 218.099,-462.0825\"/>\n",
       "</g>\n",
       "<!-- &#45;7661983337654572018 -->\n",
       "<g id=\"node8\" class=\"node\">\n",
       "<title>&#45;7661983337654572018</title>\n",
       "<path fill=\"none\" stroke=\"#000000\" stroke-width=\".25\" d=\"M288.0818,-462C288.0818,-462 248.4358,-462 248.4358,-462 244.7691,-462 241.1024,-458.3333 241.1024,-454.6667 241.1024,-454.6667 241.1024,-447.3333 241.1024,-447.3333 241.1024,-443.6667 244.7691,-440 248.4358,-440 248.4358,-440 288.0818,-440 288.0818,-440 291.7485,-440 295.4151,-443.6667 295.4151,-447.3333 295.4151,-447.3333 295.4151,-454.6667 295.4151,-454.6667 295.4151,-458.3333 291.7485,-462 288.0818,-462\"/>\n",
       "<text text-anchor=\"middle\" x=\"268.2588\" y=\"-446.8\" font-family=\"Times,serif\" font-size=\"14.00\" fill=\"#000000\">Fraction</text>\n",
       "</g>\n",
       "<!-- &#45;9059950895797638611&#45;&gt;&#45;7661983337654572018 -->\n",
       "<g id=\"edge7\" class=\"edge\">\n",
       "<title>&#45;9059950895797638611&#45;&gt;&#45;7661983337654572018</title>\n",
       "<path fill=\"none\" stroke=\"#000000\" stroke-width=\".5\" d=\"M267.5427,-479.6446C267.6789,-474.1937 267.8417,-467.6819 267.9777,-462.2453\"/>\n",
       "</g>\n",
       "<!-- 7780311363099608765 -->\n",
       "<g id=\"node24\" class=\"node\">\n",
       "<title>7780311363099608765</title>\n",
       "<path fill=\"none\" stroke=\"#000000\" stroke-width=\".25\" d=\"M346.905,-182C346.905,-182 311.6126,-182 311.6126,-182 307.946,-182 304.2793,-178.3333 304.2793,-174.6667 304.2793,-174.6667 304.2793,-167.3333 304.2793,-167.3333 304.2793,-163.6667 307.946,-160 311.6126,-160 311.6126,-160 346.905,-160 346.905,-160 350.5716,-160 354.2383,-163.6667 354.2383,-167.3333 354.2383,-167.3333 354.2383,-174.6667 354.2383,-174.6667 354.2383,-178.3333 350.5716,-182 346.905,-182\"/>\n",
       "<text text-anchor=\"middle\" x=\"329.2588\" y=\"-166.8\" font-family=\"Times,serif\" font-size=\"14.00\" fill=\"#000000\">Scale’1</text>\n",
       "</g>\n",
       "<!-- &#45;4111376985626039155&#45;&gt;7780311363099608765 -->\n",
       "<g id=\"edge26\" class=\"edge\">\n",
       "<title>&#45;4111376985626039155&#45;&gt;7780311363099608765</title>\n",
       "<path fill=\"none\" stroke=\"#000000\" stroke-width=\".5\" d=\"M337.2588,-479.87C337.2588,-464.4159 337.2588,-435.5833 337.2588,-411 337.2588,-411 337.2588,-411 337.2588,-251 337.2588,-226.2941 333.4344,-197.5084 331.0741,-182.095\"/>\n",
       "</g>\n",
       "<!-- 4835012559026460455 -->\n",
       "<g id=\"node25\" class=\"node\">\n",
       "<title>4835012559026460455</title>\n",
       "<path fill=\"none\" stroke=\"#000000\" stroke-width=\".25\" d=\"M412.5684,-182C412.5684,-182 379.9492,-182 379.9492,-182 376.2825,-182 372.6158,-178.3333 372.6158,-174.6667 372.6158,-174.6667 372.6158,-167.3333 372.6158,-167.3333 372.6158,-163.6667 376.2825,-160 379.9492,-160 379.9492,-160 412.5684,-160 412.5684,-160 416.2351,-160 419.9017,-163.6667 419.9017,-167.3333 419.9017,-167.3333 419.9017,-174.6667 419.9017,-174.6667 419.9017,-178.3333 416.2351,-182 412.5684,-182\"/>\n",
       "<text text-anchor=\"middle\" x=\"396.2588\" y=\"-166.8\" font-family=\"Times,serif\" font-size=\"14.00\" fill=\"#000000\">Integer</text>\n",
       "</g>\n",
       "<!-- &#45;4111376985626039155&#45;&gt;4835012559026460455 -->\n",
       "<g id=\"edge27\" class=\"edge\">\n",
       "<title>&#45;4111376985626039155&#45;&gt;4835012559026460455</title>\n",
       "<path fill=\"none\" stroke=\"#000000\" stroke-width=\".5\" d=\"M348.3824,-479.9184C361.7082,-465.4107 382.2588,-438.5682 382.2588,-411 382.2588,-411 382.2588,-411 382.2588,-251 382.2588,-226.0431 388.9514,-197.3535 393.082,-182.0233\"/>\n",
       "</g>\n",
       "<!-- &#45;4258882262356901561 -->\n",
       "<!-- 6019422999214067881&#45;&gt;&#45;4258882262356901561 -->\n",
       "<!-- 4835018865012619619&#45;&gt;&#45;7661983337654572018 -->\n",
       "<!-- 4835020126209618442 -->\n",
       "<g id=\"node10\" class=\"node\">\n",
       "<title>4835020126209618442</title>\n",
       "<path fill=\"none\" stroke=\"#000000\" stroke-width=\".25\" d=\"M155.5684,-422C155.5684,-422 122.9492,-422 122.9492,-422 119.2825,-422 115.6158,-418.3333 115.6158,-414.6667 115.6158,-414.6667 115.6158,-407.3333 115.6158,-407.3333 115.6158,-403.6667 119.2825,-400 122.9492,-400 122.9492,-400 155.5684,-400 155.5684,-400 159.2351,-400 162.9017,-403.6667 162.9017,-407.3333 162.9017,-407.3333 162.9017,-414.6667 162.9017,-414.6667 162.9017,-418.3333 159.2351,-422 155.5684,-422\"/>\n",
       "<text text-anchor=\"middle\" x=\"139.2588\" y=\"-406.8\" font-family=\"Times,serif\" font-size=\"14.00\" fill=\"#000000\">Integer</text>\n",
       "</g>\n",
       "<!-- 4835018865012619619&#45;&gt;4835020126209618442 -->\n",
       "<g id=\"edge10\" class=\"edge\">\n",
       "<title>4835018865012619619&#45;&gt;4835020126209618442</title>\n",
       "<path fill=\"none\" stroke=\"#000000\" stroke-width=\".5\" d=\"M182.5454,-439.8578C174.2235,-434.3098 164.1921,-427.6222 155.8825,-422.0825\"/>\n",
       "</g>\n",
       "<!-- 1243638135890821968 -->\n",
       "<g id=\"node11\" class=\"node\">\n",
       "<title>1243638135890821968</title>\n",
       "<path fill=\"none\" stroke=\"#000000\" stroke-width=\".25\" d=\"M210.2054,-422C210.2054,-422 188.3122,-422 188.3122,-422 184.6455,-422 180.9788,-418.3333 180.9788,-414.6667 180.9788,-414.6667 180.9788,-407.3333 180.9788,-407.3333 180.9788,-403.6667 184.6455,-400 188.3122,-400 188.3122,-400 210.2054,-400 210.2054,-400 213.8721,-400 217.5387,-403.6667 217.5387,-407.3333 217.5387,-407.3333 217.5387,-414.6667 217.5387,-414.6667 217.5387,-418.3333 213.8721,-422 210.2054,-422\"/>\n",
       "<text text-anchor=\"middle\" x=\"199.2588\" y=\"-406.8\" font-family=\"Times,serif\" font-size=\"14.00\" fill=\"#000000\">Digit</text>\n",
       "</g>\n",
       "<!-- 4835018865012619619&#45;&gt;1243638135890821968 -->\n",
       "<g id=\"edge11\" class=\"edge\">\n",
       "<title>4835018865012619619&#45;&gt;1243638135890821968</title>\n",
       "<path fill=\"none\" stroke=\"#000000\" stroke-width=\".5\" d=\"M199.2588,-439.6446C199.2588,-434.1937 199.2588,-427.6819 199.2588,-422.2453\"/>\n",
       "</g>\n",
       "<!-- &#45;7988062881286738907 -->\n",
       "<g id=\"node17\" class=\"node\">\n",
       "<title>&#45;7988062881286738907</title>\n",
       "<path fill=\"none\" stroke=\"#000000\" stroke-width=\".25\" d=\"M235.7967,-302C235.7967,-302 228.7209,-302 228.7209,-302 225.1829,-302 221.645,-298.4621 221.645,-294.9241 221.645,-294.9241 221.645,-287.0759 221.645,-287.0759 221.645,-283.5379 225.1829,-280 228.7209,-280 228.7209,-280 235.7967,-280 235.7967,-280 239.3347,-280 242.8726,-283.5379 242.8726,-287.0759 242.8726,-287.0759 242.8726,-294.9241 242.8726,-294.9241 242.8726,-298.4621 239.3347,-302 235.7967,-302\"/>\n",
       "<text text-anchor=\"middle\" x=\"232.2588\" y=\"-286.8\" font-family=\"Times,serif\" font-size=\"14.00\" fill=\"#000000\">N.</text>\n",
       "</g>\n",
       "<!-- &#45;7661983337654572018&#45;&gt;&#45;7988062881286738907 -->\n",
       "<g id=\"edge18\" class=\"edge\">\n",
       "<title>&#45;7661983337654572018&#45;&gt;&#45;7988062881286738907</title>\n",
       "<path fill=\"none\" stroke=\"#000000\" stroke-width=\".5\" d=\"M265.7273,-439.7491C259.1014,-410.3006 241.3083,-331.2201 234.7396,-302.026\"/>\n",
       "</g>\n",
       "<!-- 4835023909801779960 -->\n",
       "<g id=\"node18\" class=\"node\">\n",
       "<title>4835023909801779960</title>\n",
       "<path fill=\"none\" stroke=\"#000000\" stroke-width=\".25\" d=\"M301.5684,-302C301.5684,-302 268.9492,-302 268.9492,-302 265.2825,-302 261.6158,-298.3333 261.6158,-294.6667 261.6158,-294.6667 261.6158,-287.3333 261.6158,-287.3333 261.6158,-283.6667 265.2825,-280 268.9492,-280 268.9492,-280 301.5684,-280 301.5684,-280 305.2351,-280 308.9017,-283.6667 308.9017,-287.3333 308.9017,-287.3333 308.9017,-294.6667 308.9017,-294.6667 308.9017,-298.3333 305.2351,-302 301.5684,-302\"/>\n",
       "<text text-anchor=\"middle\" x=\"285.2588\" y=\"-286.8\" font-family=\"Times,serif\" font-size=\"14.00\" fill=\"#000000\">Integer</text>\n",
       "</g>\n",
       "<!-- &#45;7661983337654572018&#45;&gt;4835023909801779960 -->\n",
       "<g id=\"edge19\" class=\"edge\">\n",
       "<title>&#45;7661983337654572018&#45;&gt;4835023909801779960</title>\n",
       "<path fill=\"none\" stroke=\"#000000\" stroke-width=\".5\" d=\"M269.4542,-439.7491C272.5831,-410.3006 280.9854,-331.2201 284.0873,-302.026\"/>\n",
       "</g>\n",
       "<!-- &#45;4442245521111356777 -->\n",
       "<!-- &#45;4258882262356901561&#45;&gt;&#45;4442245521111356777 -->\n",
       "<!-- 4835020126209618442&#45;&gt;1243638135890821968 -->\n",
       "<!-- &#45;4828828624121296589 -->\n",
       "<g id=\"node13\" class=\"node\">\n",
       "<title>&#45;4828828624121296589</title>\n",
       "<path fill=\"none\" stroke=\"#000000\" stroke-width=\"1.25\" d=\"M141.7588,-382C141.7588,-382 136.7588,-382 136.7588,-382 134.2588,-382 131.7588,-379.5 131.7588,-377 131.7588,-377 131.7588,-365 131.7588,-365 131.7588,-362.5 134.2588,-360 136.7588,-360 136.7588,-360 141.7588,-360 141.7588,-360 144.2588,-360 146.7588,-362.5 146.7588,-365 146.7588,-365 146.7588,-377 146.7588,-377 146.7588,-379.5 144.2588,-382 141.7588,-382\"/>\n",
       "<text text-anchor=\"middle\" x=\"139.2588\" y=\"-366.8\" font-family=\"Times,serif\" font-size=\"14.00\" fill=\"#000000\">3</text>\n",
       "</g>\n",
       "<!-- 4835020126209618442&#45;&gt;&#45;4828828624121296589 -->\n",
       "<g id=\"edge14\" class=\"edge\">\n",
       "<title>4835020126209618442&#45;&gt;&#45;4828828624121296589</title>\n",
       "<path fill=\"none\" stroke=\"#000000\" stroke-width=\".5\" d=\"M139.2588,-399.6446C139.2588,-394.1937 139.2588,-387.6819 139.2588,-382.2453\"/>\n",
       "</g>\n",
       "<!-- 4137099111466758052 -->\n",
       "<g id=\"node15\" class=\"node\">\n",
       "<title>4137099111466758052</title>\n",
       "<path fill=\"none\" stroke=\"#000000\" stroke-width=\"1.25\" d=\"M201.7588,-342C201.7588,-342 196.7588,-342 196.7588,-342 194.2588,-342 191.7588,-339.5 191.7588,-337 191.7588,-337 191.7588,-325 191.7588,-325 191.7588,-322.5 194.2588,-320 196.7588,-320 196.7588,-320 201.7588,-320 201.7588,-320 204.2588,-320 206.7588,-322.5 206.7588,-325 206.7588,-325 206.7588,-337 206.7588,-337 206.7588,-339.5 204.2588,-342 201.7588,-342\"/>\n",
       "<text text-anchor=\"middle\" x=\"199.2588\" y=\"-326.8\" font-family=\"Times,serif\" font-size=\"14.00\" fill=\"#000000\">2</text>\n",
       "</g>\n",
       "<!-- 1243638135890821968&#45;&gt;4137099111466758052 -->\n",
       "<g id=\"edge16\" class=\"edge\">\n",
       "<title>1243638135890821968&#45;&gt;4137099111466758052</title>\n",
       "<path fill=\"none\" stroke=\"#000000\" stroke-width=\".5\" d=\"M199.2588,-399.8763C199.2588,-384.5921 199.2588,-357.2636 199.2588,-342.0292\"/>\n",
       "</g>\n",
       "<!-- &#45;1107449481681600572 -->\n",
       "<!-- &#45;4442245521111356777&#45;&gt;&#45;1107449481681600572 -->\n",
       "<!-- 6069414128482900900 -->\n",
       "<!-- &#45;1107449481681600572&#45;&gt;6069414128482900900 -->\n",
       "<!-- 1074584181436332367 -->\n",
       "<!-- 6069414128482900900&#45;&gt;1074584181436332367 -->\n",
       "<!-- &#45;7988062881286738907&#45;&gt;4835023909801779960 -->\n",
       "<!-- 577485483924442975 -->\n",
       "<g id=\"node20\" class=\"node\">\n",
       "<title>577485483924442975</title>\n",
       "<path fill=\"none\" stroke=\"#000000\" stroke-width=\"1.25\" d=\"M234.0956,-262C234.0956,-262 230.422,-262 230.422,-262 228.5852,-262 226.7484,-260.1632 226.7484,-258.3264 226.7484,-258.3264 226.7484,-243.6736 226.7484,-243.6736 226.7484,-241.8368 228.5852,-240 230.422,-240 230.422,-240 234.0956,-240 234.0956,-240 235.9324,-240 237.7692,-241.8368 237.7692,-243.6736 237.7692,-243.6736 237.7692,-258.3264 237.7692,-258.3264 237.7692,-260.1632 235.9324,-262 234.0956,-262\"/>\n",
       "<text text-anchor=\"middle\" x=\"232.2588\" y=\"-246.8\" font-family=\"Times,serif\" font-size=\"14.00\" fill=\"#000000\">.</text>\n",
       "</g>\n",
       "<!-- &#45;7988062881286738907&#45;&gt;577485483924442975 -->\n",
       "<g id=\"edge22\" class=\"edge\">\n",
       "<title>&#45;7988062881286738907&#45;&gt;577485483924442975</title>\n",
       "<path fill=\"none\" stroke=\"#000000\" stroke-width=\".5\" d=\"M232.2588,-279.6446C232.2588,-274.1937 232.2588,-267.6819 232.2588,-262.2453\"/>\n",
       "</g>\n",
       "<!-- 1061686472445687413 -->\n",
       "<g id=\"node22\" class=\"node\">\n",
       "<title>1061686472445687413</title>\n",
       "<path fill=\"none\" stroke=\"#000000\" stroke-width=\"1.25\" d=\"M287.7588,-222C287.7588,-222 282.7588,-222 282.7588,-222 280.2588,-222 277.7588,-219.5 277.7588,-217 277.7588,-217 277.7588,-205 277.7588,-205 277.7588,-202.5 280.2588,-200 282.7588,-200 282.7588,-200 287.7588,-200 287.7588,-200 290.2588,-200 292.7588,-202.5 292.7588,-205 292.7588,-205 292.7588,-217 292.7588,-217 292.7588,-219.5 290.2588,-222 287.7588,-222\"/>\n",
       "<text text-anchor=\"middle\" x=\"285.2588\" y=\"-206.8\" font-family=\"Times,serif\" font-size=\"14.00\" fill=\"#000000\">5</text>\n",
       "</g>\n",
       "<!-- 4835023909801779960&#45;&gt;1061686472445687413 -->\n",
       "<g id=\"edge24\" class=\"edge\">\n",
       "<title>4835023909801779960&#45;&gt;1061686472445687413</title>\n",
       "<path fill=\"none\" stroke=\"#000000\" stroke-width=\".5\" d=\"M285.2588,-279.8763C285.2588,-264.5921 285.2588,-237.2636 285.2588,-222.0292\"/>\n",
       "</g>\n",
       "<!-- &#45;5211273036764116564 -->\n",
       "<!-- 1074584181436332367&#45;&gt;&#45;5211273036764116564 -->\n",
       "<!-- &#45;8273391785614175015 -->\n",
       "<!-- &#45;5211273036764116564&#45;&gt;&#45;8273391785614175015 -->\n",
       "<!-- &#45;3108956748976458694 -->\n",
       "<!-- &#45;8273391785614175015&#45;&gt;&#45;3108956748976458694 -->\n",
       "<!-- 7780311363099608765&#45;&gt;4835012559026460455 -->\n",
       "<!-- 669712145192496578 -->\n",
       "<g id=\"node27\" class=\"node\">\n",
       "<title>669712145192496578</title>\n",
       "<path fill=\"none\" stroke=\"#000000\" stroke-width=\".25\" d=\"M298.2519,-142C298.2519,-142 288.2657,-142 288.2657,-142 284.599,-142 280.9324,-138.3333 280.9324,-134.6667 280.9324,-134.6667 280.9324,-127.3333 280.9324,-127.3333 280.9324,-123.6667 284.599,-120 288.2657,-120 288.2657,-120 298.2519,-120 298.2519,-120 301.9185,-120 305.5852,-123.6667 305.5852,-127.3333 305.5852,-127.3333 305.5852,-134.6667 305.5852,-134.6667 305.5852,-138.3333 301.9185,-142 298.2519,-142\"/>\n",
       "<text text-anchor=\"middle\" x=\"293.2588\" y=\"-126.8\" font-family=\"Times,serif\" font-size=\"14.00\" fill=\"#000000\">Ne</text>\n",
       "</g>\n",
       "<!-- 7780311363099608765&#45;&gt;669712145192496578 -->\n",
       "<g id=\"edge30\" class=\"edge\">\n",
       "<title>7780311363099608765&#45;&gt;669712145192496578</title>\n",
       "<path fill=\"none\" stroke=\"#000000\" stroke-width=\".5\" d=\"M319.0389,-159.6446C314.1331,-154.1937 308.2725,-147.6819 303.3796,-142.2453\"/>\n",
       "</g>\n",
       "<!-- 3425465372260531314 -->\n",
       "<g id=\"node28\" class=\"node\">\n",
       "<title>3425465372260531314</title>\n",
       "<path fill=\"none\" stroke=\"#000000\" stroke-width=\".25\" d=\"M349.6028,-142C349.6028,-142 330.9148,-142 330.9148,-142 327.2481,-142 323.5815,-138.3333 323.5815,-134.6667 323.5815,-134.6667 323.5815,-127.3333 323.5815,-127.3333 323.5815,-123.6667 327.2481,-120 330.9148,-120 330.9148,-120 349.6028,-120 349.6028,-120 353.2694,-120 356.9361,-123.6667 356.9361,-127.3333 356.9361,-127.3333 356.9361,-134.6667 356.9361,-134.6667 356.9361,-138.3333 353.2694,-142 349.6028,-142\"/>\n",
       "<text text-anchor=\"middle\" x=\"340.2588\" y=\"-126.8\" font-family=\"Times,serif\" font-size=\"14.00\" fill=\"#000000\">Sign</text>\n",
       "</g>\n",
       "<!-- 7780311363099608765&#45;&gt;3425465372260531314 -->\n",
       "<g id=\"edge31\" class=\"edge\">\n",
       "<title>7780311363099608765&#45;&gt;3425465372260531314</title>\n",
       "<path fill=\"none\" stroke=\"#000000\" stroke-width=\".5\" d=\"M332.3815,-159.6446C333.8805,-154.1937 335.6713,-147.6819 337.1663,-142.2453\"/>\n",
       "</g>\n",
       "<!-- &#45;8633426162717288842 -->\n",
       "<g id=\"node34\" class=\"node\">\n",
       "<title>&#45;8633426162717288842</title>\n",
       "<path fill=\"none\" stroke=\"#000000\" stroke-width=\"1.25\" d=\"M398.7588,-22C398.7588,-22 393.7588,-22 393.7588,-22 391.2588,-22 388.7588,-19.5 388.7588,-17 388.7588,-17 388.7588,-5 388.7588,-5 388.7588,-2.5 391.2588,0 393.7588,0 393.7588,0 398.7588,0 398.7588,0 401.2588,0 403.7588,-2.5 403.7588,-5 403.7588,-5 403.7588,-17 403.7588,-17 403.7588,-19.5 401.2588,-22 398.7588,-22\"/>\n",
       "<text text-anchor=\"middle\" x=\"396.2588\" y=\"-6.8\" font-family=\"Times,serif\" font-size=\"14.00\" fill=\"#000000\">1</text>\n",
       "</g>\n",
       "<!-- 4835012559026460455&#45;&gt;&#45;8633426162717288842 -->\n",
       "<g id=\"edge38\" class=\"edge\">\n",
       "<title>4835012559026460455&#45;&gt;&#45;8633426162717288842</title>\n",
       "<path fill=\"none\" stroke=\"#000000\" stroke-width=\".5\" d=\"M396.2588,-159.7491C396.2588,-130.3006 396.2588,-51.2201 396.2588,-22.026\"/>\n",
       "</g>\n",
       "<!-- 3224767445359410740 -->\n",
       "<!-- &#45;3108956748976458694&#45;&gt;3224767445359410740 -->\n",
       "<!-- 669712145192496578&#45;&gt;3425465372260531314 -->\n",
       "<!-- 937347405525942223 -->\n",
       "<g id=\"node30\" class=\"node\">\n",
       "<title>937347405525942223</title>\n",
       "<path fill=\"none\" stroke=\"#000000\" stroke-width=\"1.25\" d=\"M295.664,-102C295.664,-102 290.8536,-102 290.8536,-102 288.4485,-102 286.0433,-99.5948 286.0433,-97.1897 286.0433,-97.1897 286.0433,-84.8103 286.0433,-84.8103 286.0433,-82.4052 288.4485,-80 290.8536,-80 290.8536,-80 295.664,-80 295.664,-80 298.0691,-80 300.4743,-82.4052 300.4743,-84.8103 300.4743,-84.8103 300.4743,-97.1897 300.4743,-97.1897 300.4743,-99.5948 298.0691,-102 295.664,-102\"/>\n",
       "<text text-anchor=\"middle\" x=\"293.2588\" y=\"-86.8\" font-family=\"Times,serif\" font-size=\"14.00\" fill=\"#000000\">e</text>\n",
       "</g>\n",
       "<!-- 669712145192496578&#45;&gt;937347405525942223 -->\n",
       "<g id=\"edge34\" class=\"edge\">\n",
       "<title>669712145192496578&#45;&gt;937347405525942223</title>\n",
       "<path fill=\"none\" stroke=\"#000000\" stroke-width=\".5\" d=\"M293.2588,-119.6446C293.2588,-114.1937 293.2588,-107.6819 293.2588,-102.2453\"/>\n",
       "</g>\n",
       "<!-- 5120920184940661768 -->\n",
       "<g id=\"node32\" class=\"node\">\n",
       "<title>5120920184940661768</title>\n",
       "<path fill=\"none\" stroke=\"#000000\" stroke-width=\"1.25\" d=\"M342.8907,-62C342.8907,-62 337.6268,-62 337.6268,-62 334.9949,-62 332.3629,-59.3681 332.3629,-56.7361 332.3629,-56.7361 332.3629,-45.2639 332.3629,-45.2639 332.3629,-42.6319 334.9949,-40 337.6268,-40 337.6268,-40 342.8907,-40 342.8907,-40 345.5227,-40 348.1546,-42.6319 348.1546,-45.2639 348.1546,-45.2639 348.1546,-56.7361 348.1546,-56.7361 348.1546,-59.3681 345.5227,-62 342.8907,-62\"/>\n",
       "<text text-anchor=\"middle\" x=\"340.2588\" y=\"-46.8\" font-family=\"Times,serif\" font-size=\"14.00\" fill=\"#000000\">+</text>\n",
       "</g>\n",
       "<!-- 3425465372260531314&#45;&gt;5120920184940661768 -->\n",
       "<g id=\"edge36\" class=\"edge\">\n",
       "<title>3425465372260531314&#45;&gt;5120920184940661768</title>\n",
       "<path fill=\"none\" stroke=\"#000000\" stroke-width=\".5\" d=\"M340.2588,-119.8763C340.2588,-104.5921 340.2588,-77.2636 340.2588,-62.0292\"/>\n",
       "</g>\n",
       "<!-- &#45;3952098110087920192 -->\n",
       "<!-- 3224767445359410740&#45;&gt;&#45;3952098110087920192 -->\n",
       "<!-- &#45;3545775957341902141 -->\n",
       "<!-- &#45;3952098110087920192&#45;&gt;&#45;3545775957341902141 -->\n",
       "</g>\n",
       "</svg>\n"
      ],
      "text/plain": [
       "ProductionGraph(Number -> Number1 Scale’ -> Integer Fraction Scale’ -> Integer Digit Fraction Scale’ -> 3 Digit Fraction Scale’ -> 3 2 Fraction Scale’ -> 3 2 N. Integer Scale’ -> 3 2 . Integer Scale’ -> 3 2 . 5 Scale’ -> 3 2 . 5 Scale’1 Integer -> 3 2 . 5 Ne Sign Integer -> 3 2 . 5 e Sign Integer -> 3 2 . 5 e + Integer -> 3 2 . 5 e + 1)"
      ]
     },
     "execution_count": 27,
     "metadata": {},
     "output_type": "execute_result"
    }
   ],
   "source": [
    "from liblet import Derivation, ProductionGraph\n",
    "\n",
    "d = Derivation(Gcnf)\n",
    "for prod in leftmost_prods: d = d.leftmost(prod)\n",
    "    \n",
    "ProductionGraph(d)    "
   ]
  },
  {
   "cell_type": "markdown",
   "metadata": {},
   "source": [
    "# E la grammatica originale? (Sez. 4.2.6)"
   ]
  },
  {
   "cell_type": "code",
   "execution_count": 28,
   "metadata": {},
   "outputs": [
    {
     "data": {
      "text/html": [
       "<table><tr><th>Number<td style=\"text-align:left\">0 | 1 | 2 | 3 | 4 | 5 | 6 | 7 | 8 | 9 | Integer Digit | Integer Fraction | Number1 Scale’<tr><th>Digit<td style=\"text-align:left\">0 | 1 | 2 | 3 | 4 | 5 | 6 | 7 | 8 | 9<tr><th>Empty<td style=\"text-align:left\">ε<tr><th>Empty’<td style=\"text-align:left\"><tr><th>Fraction<td style=\"text-align:left\">N. Integer<tr><th>Integer<td style=\"text-align:left\">0 | 1 | 2 | 3 | 4 | 5 | 6 | 7 | 8 | 9 | Integer Digit<tr><th>N.<td style=\"text-align:left\">.<tr><th>Ne<td style=\"text-align:left\">e<tr><th>Number1<td style=\"text-align:left\">Integer Fraction<tr><th>Real<td style=\"text-align:left\">Integer Fraction | Real1 Scale’<tr><th>Real1<td style=\"text-align:left\">Integer Fraction<tr><th>Scale<td style=\"text-align:left\">Scale1 Integer | ε<tr><th>Scale1<td style=\"text-align:left\">Ne Sign<tr><th>Scale’<td style=\"text-align:left\">Scale’1 Integer<tr><th>Scale’1<td style=\"text-align:left\">Ne Sign<tr><th>Sign<td style=\"text-align:left\">+ | -</table>"
      ],
      "text/plain": [
       "<IPython.core.display.HTML object>"
      ]
     },
     "execution_count": 28,
     "metadata": {},
     "output_type": "execute_result"
    }
   ],
   "source": [
    "Gcnfp = transform_nonsolitary(make_binary(Gp))\n",
    "prods2table(Gcnfp)"
   ]
  },
  {
   "cell_type": "code",
   "execution_count": 29,
   "metadata": {},
   "outputs": [
    {
     "data": {
      "text/html": [
       "<table class=\"table table-bordered\"><tr><td style=\"text-align:left\">&nbsp;<tr><td style=\"text-align:left\">Number\n",
       "Real<td style=\"text-align:left\">&nbsp;<tr><td style=\"text-align:left\"><td style=\"text-align:left\">Number\n",
       "Real<td style=\"text-align:left\">&nbsp;<tr><td style=\"text-align:left\"><td style=\"text-align:left\"><td style=\"text-align:left\"><td style=\"text-align:left\">&nbsp;<tr><td style=\"text-align:left\">Number\n",
       "Number1\n",
       "Real\n",
       "Real1<td style=\"text-align:left\"><td style=\"text-align:left\"><td style=\"text-align:left\"><td style=\"text-align:left\">&nbsp;<tr><td style=\"text-align:left\"><td style=\"text-align:left\">Number\n",
       "Number1\n",
       "Real\n",
       "Real1<td style=\"text-align:left\"><td style=\"text-align:left\"><td style=\"text-align:left\">Scale\n",
       "Scale’<td style=\"text-align:left\">&nbsp;<tr><td style=\"text-align:left\">Integer\n",
       "Number<td style=\"text-align:left\"><td style=\"text-align:left\">Fraction<td style=\"text-align:left\"><td style=\"text-align:left\">Scale1\n",
       "Scale’1<td style=\"text-align:left\"><td style=\"text-align:left\">&nbsp;<tr><td style=\"text-align:left\">Digit\n",
       "Integer\n",
       "Number<td style=\"text-align:left\">Digit\n",
       "Integer\n",
       "Number<td style=\"text-align:left\">N.<td style=\"text-align:left\">Digit\n",
       "Integer\n",
       "Number<td style=\"text-align:left\">Ne<td style=\"text-align:left\">Sign<td style=\"text-align:left\">Digit\n",
       "Integer\n",
       "Number<td style=\"text-align:left\">&nbsp;<tr><td style=\"text-align:left\">Empty\n",
       "Scale<td style=\"text-align:left\">Empty\n",
       "Scale<td style=\"text-align:left\">Empty\n",
       "Scale<td style=\"text-align:left\">Empty\n",
       "Scale<td style=\"text-align:left\">Empty\n",
       "Scale<td style=\"text-align:left\">Empty\n",
       "Scale<td style=\"text-align:left\">Empty\n",
       "Scale<td style=\"text-align:left\">Empty\n",
       "Scale<td style=\"text-align:left\">&nbsp;</table>"
      ],
      "text/plain": [
       "<IPython.core.display.HTML object>"
      ]
     },
     "execution_count": 29,
     "metadata": {},
     "output_type": "execute_result"
    }
   ],
   "source": [
    "# fig. 4.17, pag. 126\n",
    "\n",
    "from liblet import cyk2table\n",
    "\n",
    "INPUT = '32.5e+1'\n",
    "Rorig = cyk(Gcnfp, INPUT)\n",
    "\n",
    "# aggiungo l'ultima riga, con i nullable di Rε\n",
    "\n",
    "Rε = {A for A in Gcnfp.N if ('ε', ) in Gcnfp.alternatives(A)}\n",
    "for i in range(len(INPUT) + 2): Rorig[(i, 0)] = Rε\n",
    "\n",
    "cyk2table(Rorig)"
   ]
  },
  {
   "cell_type": "markdown",
   "metadata": {},
   "source": [
    "# Homework\n",
    "\n",
    "* Scrivere una versione di `get_leftmost_prods` che restituisca, invece delle produzioni\n",
    "  della derivazione *leftmost* quelle della derivazione *rightmost* [facile];\n",
    "  \n",
    "* Scrivere una versione di `get_parse_tree` che restituisca tutti i possibli alberi di parsing,\n",
    "  non soltanto uno come quella presentata qui [difficile];\n",
    "  \n",
    "* Implementate l'algoritmo descritto nella Sez. 4.2.6 per produrre l'albero di parsing nella\n",
    "  grammatica originale a partire dalla tabella ottenuta nella sezione precedente [media difficoltà]."
   ]
  }
 ],
 "metadata": {
  "kernelspec": {
   "display_name": "Python 3",
   "language": "python",
   "name": "python3"
  },
  "language_info": {
   "codemirror_mode": {
    "name": "ipython",
    "version": 3
   },
   "file_extension": ".py",
   "mimetype": "text/x-python",
   "name": "python",
   "nbconvert_exporter": "python",
   "pygments_lexer": "ipython3",
   "version": "3.7.2"
  }
 },
 "nbformat": 4,
 "nbformat_minor": 2
}
