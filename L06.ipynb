{
  "cells": [
    {
      "cell_type": "markdown",
      "metadata": {},
      "source": [
        "# Lezione 6"
      ]
    },
    {
      "cell_type": "code",
      "execution_count": null,
      "metadata": {},
      "outputs": [],
      "source": [
        "from liblet import (\n",
        "  Grammar, Production, Derivation, ProductionGraph, CYKTable, closure, union_of, ε\n",
        ")"
      ]
    },
    {
      "cell_type": "code",
      "execution_count": null,
      "metadata": {},
      "outputs": [],
      "source": [
        "# da L03\n",
        "\n",
        "def remove_unproductive_unreachable(G):\n",
        "  def find_productive(G):\n",
        "    @closure\n",
        "    def find(prod):\n",
        "      return prod | {A for A, α in G.P if set(α) <= prod}\n",
        "    return find(G.T)\n",
        "  def find_reachable(G):\n",
        "    @closure\n",
        "    def find(reach):\n",
        "      return reach | union_of(set(α) for A, α in G.P if A in reach)\n",
        "    return find({G.S})\n",
        "  Gp = G.restrict_to(find_productive(G))\n",
        "  return Gp.restrict_to(find_reachable(Gp))"
      ]
    },
    {
      "cell_type": "code",
      "execution_count": null,
      "metadata": {},
      "outputs": [],
      "source": [
        "# da L05\n",
        "\n",
        "def cyk(G, INPUT):\n",
        "  def fill(R, i, l):\n",
        "    res = set()\n",
        "    if l == 1:\n",
        "      for A, (a,) in filter(Production.such_that(rhs_len = 1), G.P): \n",
        "        if a == INPUT[i - 1]: res.add(A)\n",
        "    else:\n",
        "      for k in range(1, l):\n",
        "        for A, (B, C) in filter(Production.such_that(rhs_len = 2), G.P):\n",
        "          if B in R[i, k] and C in R[i + k, l - k]: res.add(A)\n",
        "    return res\n",
        "  R = CYKTable()\n",
        "  for l in range(1, len(INPUT) + 1):\n",
        "    for i in range(1, len(INPUT) - l + 2):\n",
        "      R[i, l] = fill(R, i, l)\n",
        "  return R"
      ]
    },
    {
      "cell_type": "markdown",
      "metadata": {},
      "source": [
        "## Eliminazione ε-regole (Sez. 4.2.3.1)\n",
        "\n",
        "Due passi, ottenuti tramite *chiusura*, consentono di rimpiazzare un simbolo nei lati destri con `replace_in_rhs` e quindi applicare il primo passo a tutti i simboli che compaiono in una ε-regola con `inline_ε_rules`."
      ]
    },
    {
      "cell_type": "code",
      "execution_count": null,
      "metadata": {},
      "outputs": [],
      "source": [
        "@closure\n",
        "def replace_in_rhs(G, A):\n",
        "  Ap = A + '′'\n",
        "  prods = set()\n",
        "  for B, β in G.P:\n",
        "    if A in β:\n",
        "      pos = β.index(A)\n",
        "      rhs = β[:pos] + β[pos + 1:]\n",
        "      if len(rhs) == 0: rhs = (ε, )\n",
        "      prods.add(Production(B, rhs))\n",
        "      prods.add(Production(B, β[:pos] + (Ap, ) + β[pos + 1:]))\n",
        "    else:\n",
        "      prods.add(Production(B, β))\n",
        "  return Grammar(G.N | {Ap}, G.T, prods, G.S)"
      ]
    },
    {
      "cell_type": "code",
      "execution_count": null,
      "metadata": {},
      "outputs": [
        {
          "data": {
            "text/html": [
              "<style>td, th {border: 1pt solid lightgray !important ;}</style><table><tr><th><pre>S</pre><td style=\"text-align:left\"><pre>x A′ y A′ z<sub>(0)</sub> | x y z<sub>(2)</sub> | x y A′ z<sub>(3)</sub> | x A′ y z<sub>(4)</sub></pre><tr><th><pre>A</pre><td style=\"text-align:left\"><pre>a<sub>(1)</sub></pre></table>"
            ],
            "text/plain": [
              "(S -> x A′ y A′ z, A -> a, S -> x y z, S -> x y A′ z, S -> x A′ y z)"
            ]
          },
          "execution_count": 5,
          "metadata": {},
          "output_type": "execute_result"
        }
      ],
      "source": [
        "# esempio d'uso\n",
        "\n",
        "U = Grammar.from_string(\"\"\"\n",
        "S -> x A y A z\n",
        "A -> a\n",
        "\"\"\")\n",
        "replace_in_rhs(U, 'A').P"
      ]
    },
    {
      "cell_type": "code",
      "execution_count": null,
      "metadata": {},
      "outputs": [],
      "source": [
        "@closure\n",
        "def inline_ε_rules(G_seen):\n",
        "  G, seen = G_seen\n",
        "  for A in G.N - seen:\n",
        "    if (ε, ) in G.alternatives(A):\n",
        "      return replace_in_rhs(G, A), seen | {A}\n",
        "  return G, seen"
      ]
    },
    {
      "cell_type": "code",
      "execution_count": null,
      "metadata": {},
      "outputs": [
        {
          "data": {
            "text/html": [
              "<style>td, th {border: 1pt solid lightgray !important ;}</style><table><tr><th><pre>B</pre><td style=\"text-align:left\"><pre>ε<sub>(0)</sub></pre><tr><th><pre>C</pre><td style=\"text-align:left\"><pre>ε<sub>(1)</sub></pre><tr><th><pre>S</pre><td style=\"text-align:left\"><pre>ε<sub>(2)</sub> | A′<sub>(4)</sub></pre><tr><th><pre>A</pre><td style=\"text-align:left\"><pre>ε<sub>(3)</sub> | C′<sub>(5)</sub> | B′ C′<sub>(6)</sub> | B′<sub>(7)</sub></pre></table>"
            ],
            "text/plain": [
              "(B -> ε, C -> ε, S -> ε, A -> ε, S -> A′, A -> C′, A -> B′ C′, A -> B′)"
            ]
          },
          "execution_count": 7,
          "metadata": {},
          "output_type": "execute_result"
        }
      ],
      "source": [
        "# esempio d'uso\n",
        "\n",
        "U = Grammar.from_string(\"\"\"\n",
        "S -> A\n",
        "A -> B C\n",
        "B -> ε\n",
        "C -> ε\n",
        "\"\"\")\n",
        "U, _ = inline_ε_rules((U, set()))\n",
        "\n",
        "U.P"
      ]
    },
    {
      "cell_type": "markdown",
      "metadata": {},
      "source": [
        "Usando i due passi precedenti è semplice scrivere il passo di eliminazione"
      ]
    },
    {
      "cell_type": "code",
      "execution_count": null,
      "metadata": {},
      "outputs": [],
      "source": [
        "def eliminate_ε_rules(G):\n",
        "  Gp, _ = inline_ε_rules((G, set()))\n",
        "  prods = set(Gp.P)\n",
        "  for Ap in Gp.N - G.N:\n",
        "    A = Ap[:-1]\n",
        "    for α in set(Gp.alternatives(A)) - {(ε, )}:\n",
        "      prods.add(Production(Ap, α))\n",
        "  return Grammar(Gp.N, Gp.T, prods, Gp.S)"
      ]
    },
    {
      "cell_type": "code",
      "execution_count": null,
      "metadata": {},
      "outputs": [
        {
          "data": {
            "text/html": [
              "<style>td, th {border: 1pt solid lightgray !important ;}</style><table><tr><th><pre>S</pre><td style=\"text-align:left\"><pre>a M′<sub>(0)</sub> | L′ a M′<sub>(2)</sub> | L′ a<sub>(11)</sub> | a<sub>(15)</sub></pre><tr><th><pre>M</pre><td style=\"text-align:left\"><pre>M′<sub>(1)</sub> | M′ M′<sub>(4)</sub> | ε<sub>(5)</sub></pre><tr><th><pre>L</pre><td style=\"text-align:left\"><pre>L′<sub>(3)</sub> | ε<sub>(6)</sub> | M′<sub>(7)</sub> | L′ M′<sub>(9)</sub></pre><tr><th><pre>L′</pre><td style=\"text-align:left\"><pre>L′<sub>(8)</sub> | M′<sub>(10)</sub> | L′ M′<sub>(14)</sub></pre><tr><th><pre>M′</pre><td style=\"text-align:left\"><pre>M′<sub>(12)</sub> | M′ M′<sub>(13)</sub></pre></table>"
            ],
            "text/plain": [
              "(S -> a M′,\n",
              " M -> M′,\n",
              " S -> L′ a M′,\n",
              " L -> L′,\n",
              " M -> M′ M′,\n",
              " M -> ε,\n",
              " L -> ε,\n",
              " L -> M′,\n",
              " L′ -> L′,\n",
              " L -> L′ M′,\n",
              " L′ -> M′,\n",
              " S -> L′ a,\n",
              " M′ -> M′,\n",
              " M′ -> M′ M′,\n",
              " L′ -> L′ M′,\n",
              " S -> a)"
            ]
          },
          "execution_count": 9,
          "metadata": {},
          "output_type": "execute_result"
        }
      ],
      "source": [
        "# esempio d'uso (fig. 4.10, pag. 120)\n",
        "\n",
        "U = Grammar.from_string(\"\"\"\n",
        "S -> L a M\n",
        "L -> L M \n",
        "L -> ε\n",
        "M -> M M\n",
        "M -> ε\n",
        "\"\"\")\n",
        "\n",
        "eliminate_ε_rules(U).P"
      ]
    },
    {
      "cell_type": "markdown",
      "metadata": {},
      "source": [
        "## Eliminazione regole unitarie (Sez. 4.2.3.2)"
      ]
    },
    {
      "cell_type": "code",
      "execution_count": null,
      "metadata": {},
      "outputs": [],
      "source": [
        "def eliminate_unit_rules(G):\n",
        "  @closure\n",
        "  def eliminate(G_seen):\n",
        "    G, seen = G_seen\n",
        "    for P in set(filter(Production.such_that(rhs_len = 1), G.P)) - seen:\n",
        "      A, (B, ) = P\n",
        "      if B in G.N:\n",
        "        prods = (set(G.P) | {Production(A, α) for α in G.alternatives(B)}) - {P}\n",
        "        return Grammar(G.N, G.T, prods, G.S), seen | {P}\n",
        "    return G, seen\n",
        "  return eliminate((G, set()))[0]"
      ]
    },
    {
      "cell_type": "code",
      "execution_count": null,
      "metadata": {},
      "outputs": [
        {
          "data": {
            "text/html": [
              "<style>td, th {border: 1pt solid lightgray !important ;}</style><table><tr><th><pre>S</pre><td style=\"text-align:left\"><pre>b<sub>(0)</sub></pre><tr><th><pre>A</pre><td style=\"text-align:left\"><pre>b<sub>(1)</sub></pre><tr><th><pre>B</pre><td style=\"text-align:left\"><pre>b<sub>(2)</sub></pre></table>"
            ],
            "text/plain": [
              "(S -> b, A -> b, B -> b)"
            ]
          },
          "execution_count": 11,
          "metadata": {},
          "output_type": "execute_result"
        }
      ],
      "source": [
        "# esempio d'uso\n",
        "\n",
        "U = Grammar.from_string(\"\"\"\n",
        "S -> A\n",
        "A -> B\n",
        "B -> A | b\n",
        "\"\"\")\n",
        "\n",
        "eliminate_unit_rules(U).P"
      ]
    },
    {
      "cell_type": "markdown",
      "metadata": {},
      "source": [
        "### Un esempio più elaborato"
      ]
    },
    {
      "cell_type": "code",
      "execution_count": null,
      "metadata": {},
      "outputs": [],
      "source": [
        "# fig. 4.6, pag. 112\n",
        "\n",
        "G = Grammar.from_string(\"\"\"\n",
        "Number -> Integer | Real\n",
        "Integer -> Digit | Integer Digit\n",
        "Real -> Integer Fraction Scale\n",
        "Fraction -> . Integer\n",
        "Scale -> e Sign Integer | Empty\n",
        "Digit -> 0 | 1 | 2 | 3 | 4 | 5 | 6 | 7 | 8 | 9\n",
        "Sign -> + | -\n",
        "Empty -> ε\n",
        "\"\"\")"
      ]
    },
    {
      "cell_type": "code",
      "execution_count": null,
      "metadata": {},
      "outputs": [
        {
          "data": {
            "text/html": [
              "<style>td, th {border: 1pt solid lightgray !important ;}</style><table><tr><th><pre>Number</pre><td style=\"text-align:left\"><pre>Integer<sub>(0)</sub> | Real<sub>(12)</sub></pre><tr><th><pre>Scale′</pre><td style=\"text-align:left\"><pre>Empty′<sub>(1)</sub> | e Sign Integer<sub>(24)</sub></pre><tr><th><pre>Real</pre><td style=\"text-align:left\"><pre>Integer Fraction<sub>(2)</sub> | Integer Fraction Scale′<sub>(22)</sub></pre><tr><th><pre>Integer</pre><td style=\"text-align:left\"><pre>Integer Digit<sub>(3)</sub> | Digit<sub>(14)</sub></pre><tr><th><pre>Scale</pre><td style=\"text-align:left\"><pre>ε<sub>(4)</sub> | e Sign Integer<sub>(7)</sub> | Empty′<sub>(9)</sub></pre><tr><th><pre>Sign</pre><td style=\"text-align:left\"><pre>-<sub>(5)</sub> | +<sub>(10)</sub></pre><tr><th><pre>Digit</pre><td style=\"text-align:left\"><pre>9<sub>(6)</sub> | 0<sub>(8)</sub> | 5<sub>(13)</sub> | 2<sub>(15)</sub> | 7<sub>(16)</sub> | 3<sub>(17)</sub> | 1<sub>(18)</sub> | 4<sub>(19)</sub> | 8<sub>(20)</sub> | 6<sub>(21)</sub></pre><tr><th><pre>Fraction</pre><td style=\"text-align:left\"><pre>. Integer<sub>(11)</sub></pre><tr><th><pre>Empty</pre><td style=\"text-align:left\"><pre>ε<sub>(23)</sub></pre></table>"
            ],
            "text/plain": [
              "(Number -> Integer,\n",
              " Scale′ -> Empty′,\n",
              " Real -> Integer Fraction,\n",
              " Integer -> Integer Digit,\n",
              " Scale -> ε,\n",
              " Sign -> -,\n",
              " Digit -> 9,\n",
              " Scale -> e Sign Integer,\n",
              " Digit -> 0,\n",
              " Scale -> Empty′,\n",
              " Sign -> +,\n",
              " Fraction -> . Integer,\n",
              " Number -> Real,\n",
              " Digit -> 5,\n",
              " Integer -> Digit,\n",
              " Digit -> 2,\n",
              " Digit -> 7,\n",
              " Digit -> 3,\n",
              " Digit -> 1,\n",
              " Digit -> 4,\n",
              " Digit -> 8,\n",
              " Digit -> 6,\n",
              " Real -> Integer Fraction Scale′,\n",
              " Empty -> ε,\n",
              " Scale′ -> e Sign Integer)"
            ]
          },
          "execution_count": 13,
          "metadata": {},
          "output_type": "execute_result"
        }
      ],
      "source": [
        "# fig. 4.12, pag. 120 (a meno di Empty′)\n",
        "\n",
        "eliminate_ε_rules(G).P"
      ]
    },
    {
      "cell_type": "markdown",
      "metadata": {},
      "source": [
        "Data la `G` per i numeri con la virgola, si ottiene `Gp` coi primi due passi di cui sopra."
      ]
    },
    {
      "cell_type": "code",
      "execution_count": null,
      "metadata": {},
      "outputs": [
        {
          "data": {
            "text/html": [
              "<style>td, th {border: 1pt solid lightgray !important ;}</style><table><tr><th><pre>Number</pre><td style=\"text-align:left\"><pre>9<sub>(0)</sub> | 0<sub>(4)</sub> | 5<sub>(9)</sub> | Integer Fraction Scale′<sub>(11)</sub> | 7<sub>(13)</sub> | 3<sub>(15)</sub> | 2<sub>(16)</sub> | 1<sub>(18)</sub> | 8<sub>(21)</sub> | 4<sub>(24)</sub> | 6<sub>(27)</sub> | Integer Fraction<sub>(32)</sub> | Integer Digit<sub>(42)</sub></pre><tr><th><pre>Real</pre><td style=\"text-align:left\"><pre>Integer Fraction<sub>(1)</sub> | Integer Fraction Scale′<sub>(39)</sub></pre><tr><th><pre>Integer</pre><td style=\"text-align:left\"><pre>Integer Digit<sub>(2)</sub> | 9<sub>(8)</sub> | 0<sub>(12)</sub> | 5<sub>(20)</sub> | 7<sub>(25)</sub> | 3<sub>(28)</sub> | 2<sub>(29)</sub> | 1<sub>(33)</sub> | 8<sub>(35)</sub> | 4<sub>(36)</sub> | 6<sub>(38)</sub></pre><tr><th><pre>Scale</pre><td style=\"text-align:left\"><pre>ε<sub>(3)</sub> | e Sign Integer<sub>(7)</sub></pre><tr><th><pre>Sign</pre><td style=\"text-align:left\"><pre>-<sub>(5)</sub> | +<sub>(14)</sub></pre><tr><th><pre>Digit</pre><td style=\"text-align:left\"><pre>9<sub>(6)</sub> | 0<sub>(10)</sub> | 5<sub>(19)</sub> | 2<sub>(22)</sub> | 7<sub>(23)</sub> | 3<sub>(26)</sub> | 1<sub>(30)</sub> | 4<sub>(31)</sub> | 8<sub>(34)</sub> | 6<sub>(37)</sub></pre><tr><th><pre>Fraction</pre><td style=\"text-align:left\"><pre>. Integer<sub>(17)</sub></pre><tr><th><pre>Empty</pre><td style=\"text-align:left\"><pre>ε<sub>(40)</sub></pre><tr><th><pre>Scale′</pre><td style=\"text-align:left\"><pre>e Sign Integer<sub>(41)</sub></pre></table>"
            ],
            "text/plain": [
              "(Number -> 9,\n",
              " Real -> Integer Fraction,\n",
              " Integer -> Integer Digit,\n",
              " Scale -> ε,\n",
              " Number -> 0,\n",
              " Sign -> -,\n",
              " Digit -> 9,\n",
              " Scale -> e Sign Integer,\n",
              " Integer -> 9,\n",
              " Number -> 5,\n",
              " Digit -> 0,\n",
              " Number -> Integer Fraction Scale′,\n",
              " Integer -> 0,\n",
              " Number -> 7,\n",
              " Sign -> +,\n",
              " Number -> 3,\n",
              " Number -> 2,\n",
              " Fraction -> . Integer,\n",
              " Number -> 1,\n",
              " Digit -> 5,\n",
              " Integer -> 5,\n",
              " Number -> 8,\n",
              " Digit -> 2,\n",
              " Digit -> 7,\n",
              " Number -> 4,\n",
              " Integer -> 7,\n",
              " Digit -> 3,\n",
              " Number -> 6,\n",
              " Integer -> 3,\n",
              " Integer -> 2,\n",
              " Digit -> 1,\n",
              " Digit -> 4,\n",
              " Number -> Integer Fraction,\n",
              " Integer -> 1,\n",
              " Digit -> 8,\n",
              " Integer -> 8,\n",
              " Integer -> 4,\n",
              " Digit -> 6,\n",
              " Integer -> 6,\n",
              " Real -> Integer Fraction Scale′,\n",
              " Empty -> ε,\n",
              " Scale′ -> e Sign Integer,\n",
              " Number -> Integer Digit)"
            ]
          },
          "execution_count": 14,
          "metadata": {},
          "output_type": "execute_result"
        }
      ],
      "source": [
        "# fig. 4.13, pag. 121\n",
        "\n",
        "Gp = eliminate_unit_rules(eliminate_ε_rules(G))\n",
        "Gp.P"
      ]
    },
    {
      "cell_type": "markdown",
      "metadata": {},
      "source": [
        "## Eliminare regole/simboli non produttive e  non raggiungibili (Sez. 2.9.5.1-2)"
      ]
    },
    {
      "cell_type": "code",
      "execution_count": null,
      "metadata": {},
      "outputs": [
        {
          "data": {
            "text/html": [
              "<style>td, th {border: 1pt solid lightgray !important ;}</style><table><tr><th><pre>Number</pre><td style=\"text-align:left\"><pre>9<sub>(0)</sub> | 0<sub>(2)</sub> | 5<sub>(6)</sub> | Integer Fraction Scale′<sub>(8)</sub> | 7<sub>(10)</sub> | 3<sub>(12)</sub> | 2<sub>(13)</sub> | 1<sub>(15)</sub> | 8<sub>(18)</sub> | 4<sub>(21)</sub> | 6<sub>(24)</sub> | Integer Fraction<sub>(29)</sub> | Integer Digit<sub>(37)</sub></pre><tr><th><pre>Integer</pre><td style=\"text-align:left\"><pre>Integer Digit<sub>(1)</sub> | 9<sub>(5)</sub> | 0<sub>(9)</sub> | 5<sub>(17)</sub> | 7<sub>(22)</sub> | 3<sub>(25)</sub> | 2<sub>(26)</sub> | 1<sub>(30)</sub> | 8<sub>(32)</sub> | 4<sub>(33)</sub> | 6<sub>(35)</sub></pre><tr><th><pre>Sign</pre><td style=\"text-align:left\"><pre>-<sub>(3)</sub> | +<sub>(11)</sub></pre><tr><th><pre>Digit</pre><td style=\"text-align:left\"><pre>9<sub>(4)</sub> | 0<sub>(7)</sub> | 5<sub>(16)</sub> | 2<sub>(19)</sub> | 7<sub>(20)</sub> | 3<sub>(23)</sub> | 1<sub>(27)</sub> | 4<sub>(28)</sub> | 8<sub>(31)</sub> | 6<sub>(34)</sub></pre><tr><th><pre>Fraction</pre><td style=\"text-align:left\"><pre>. Integer<sub>(14)</sub></pre><tr><th><pre>Scale′</pre><td style=\"text-align:left\"><pre>e Sign Integer<sub>(36)</sub></pre></table>"
            ],
            "text/plain": [
              "(Number -> 9,\n",
              " Integer -> Integer Digit,\n",
              " Number -> 0,\n",
              " Sign -> -,\n",
              " Digit -> 9,\n",
              " Integer -> 9,\n",
              " Number -> 5,\n",
              " Digit -> 0,\n",
              " Number -> Integer Fraction Scale′,\n",
              " Integer -> 0,\n",
              " Number -> 7,\n",
              " Sign -> +,\n",
              " Number -> 3,\n",
              " Number -> 2,\n",
              " Fraction -> . Integer,\n",
              " Number -> 1,\n",
              " Digit -> 5,\n",
              " Integer -> 5,\n",
              " Number -> 8,\n",
              " Digit -> 2,\n",
              " Digit -> 7,\n",
              " Number -> 4,\n",
              " Integer -> 7,\n",
              " Digit -> 3,\n",
              " Number -> 6,\n",
              " Integer -> 3,\n",
              " Integer -> 2,\n",
              " Digit -> 1,\n",
              " Digit -> 4,\n",
              " Number -> Integer Fraction,\n",
              " Integer -> 1,\n",
              " Digit -> 8,\n",
              " Integer -> 8,\n",
              " Integer -> 4,\n",
              " Digit -> 6,\n",
              " Integer -> 6,\n",
              " Scale′ -> e Sign Integer,\n",
              " Number -> Integer Digit)"
            ]
          },
          "execution_count": 15,
          "metadata": {},
          "output_type": "execute_result"
        }
      ],
      "source": [
        "# fig. 4.14, pag. 122\n",
        "\n",
        "Gp_clean = remove_unproductive_unreachable(Gp)\n",
        "Gp_clean.P"
      ]
    },
    {
      "cell_type": "markdown",
      "metadata": {},
      "source": [
        "## Riduzione in forma normale (Sez. 4.3.2.4)"
      ]
    },
    {
      "cell_type": "markdown",
      "metadata": {},
      "source": [
        "### Caso $A\\to \\alpha a \\beta$"
      ]
    },
    {
      "cell_type": "code",
      "execution_count": null,
      "metadata": {},
      "outputs": [],
      "source": [
        "def transform_nonsolitary(G):\n",
        "  prods = set()\n",
        "  for A, α in G.P:\n",
        "    prods.add(Production(A, [f'N{x}' if x in G.T else x for x in α] if len(α) > 1 else α))\n",
        "    prods |= {Production(f'N{x}', (x, )) for x in α if x in G.T and len(α) > 1}\n",
        "  return Grammar(G.N | {A for A, α in prods}, G.T, prods, G.S)"
      ]
    },
    {
      "cell_type": "code",
      "execution_count": null,
      "metadata": {},
      "outputs": [
        {
          "data": {
            "text/html": [
              "<style>td, th {border: 1pt solid lightgray !important ;}</style><table><tr><th><pre>Nx</pre><td style=\"text-align:left\"><pre>x<sub>(0)</sub></pre><tr><th><pre>Ny</pre><td style=\"text-align:left\"><pre>y<sub>(1)</sub></pre><tr><th><pre>S</pre><td style=\"text-align:left\"><pre>Nx S Ny S Nx<sub>(2)</sub></pre></table>"
            ],
            "text/plain": [
              "(Nx -> x, Ny -> y, S -> Nx S Ny S Nx)"
            ]
          },
          "execution_count": 17,
          "metadata": {},
          "output_type": "execute_result"
        }
      ],
      "source": [
        "# esempio d'uso\n",
        "\n",
        "U = Grammar.from_string(\"\"\"\n",
        "S -> x S y S x\n",
        "\"\"\")\n",
        "\n",
        "transform_nonsolitary(U).P"
      ]
    },
    {
      "cell_type": "markdown",
      "metadata": {},
      "source": [
        "### Caso $A\\to X_1 X_2\\ldots X_n$"
      ]
    },
    {
      "cell_type": "code",
      "execution_count": null,
      "metadata": {},
      "outputs": [],
      "source": [
        "def make_binary(G):\n",
        "  prods = set()\n",
        "  for A, α in G.P:\n",
        "    if len(α) > 2:\n",
        "      Ai = f'{A}{1}'\n",
        "      prods.add(Production(Ai, α[:2]))\n",
        "      for i, Xi in enumerate(α[2:-1], 2):\n",
        "          prods.add(Production(f'{A}{i}', (Ai, Xi)))\n",
        "          Ai = f'{A}{i}'\n",
        "      prods.add(Production(A, (Ai, α[-1])))\n",
        "    else:\n",
        "      prods.add(Production(A, α))\n",
        "  return Grammar(G.N | {A for A, α in prods}, G.T, prods, G.S)"
      ]
    },
    {
      "cell_type": "code",
      "execution_count": null,
      "metadata": {},
      "outputs": [
        {
          "data": {
            "text/html": [
              "<style>td, th {border: 1pt solid lightgray !important ;}</style><table><tr><th><pre>S</pre><td style=\"text-align:left\"><pre>S2 D<sub>(0)</sub></pre><tr><th><pre>S2</pre><td style=\"text-align:left\"><pre>S1 C<sub>(1)</sub></pre><tr><th><pre>S1</pre><td style=\"text-align:left\"><pre>A B<sub>(2)</sub></pre></table>"
            ],
            "text/plain": [
              "(S -> S2 D, S2 -> S1 C, S1 -> A B)"
            ]
          },
          "execution_count": 19,
          "metadata": {},
          "output_type": "execute_result"
        }
      ],
      "source": [
        "# esempio d'uso\n",
        "\n",
        "U = Grammar.from_string(\"\"\"\n",
        "S -> A B C D\n",
        "\"\"\")\n",
        "\n",
        "make_binary(U).P"
      ]
    },
    {
      "cell_type": "markdown",
      "metadata": {},
      "source": [
        "### Di nuovo, l'esempio più elaborato"
      ]
    },
    {
      "cell_type": "code",
      "execution_count": null,
      "metadata": {},
      "outputs": [
        {
          "data": {
            "text/html": [
              "<style>td, th {border: 1pt solid lightgray !important ;}</style><table><tr><th><pre>Fraction</pre><td style=\"text-align:left\"><pre>N. Integer<sub>(0)</sub></pre><tr><th><pre>Number</pre><td style=\"text-align:left\"><pre>9<sub>(1)</sub> | 0<sub>(4)</sub> | 5<sub>(9)</sub> | Number1 Scale′<sub>(13)</sub> | 7<sub>(14)</sub> | 3<sub>(16)</sub> | 2<sub>(18)</sub> | 1<sub>(19)</sub> | 8<sub>(23)</sub> | 4<sub>(26)</sub> | 6<sub>(29)</sub> | Integer Fraction<sub>(34)</sub> | Integer Digit<sub>(41)</sub></pre><tr><th><pre>Integer</pre><td style=\"text-align:left\"><pre>Integer Digit<sub>(2)</sub> | 9<sub>(7)</sub> | 0<sub>(11)</sub> | 5<sub>(20)</sub> | 7<sub>(27)</sub> | 3<sub>(30)</sub> | 2<sub>(31)</sub> | 1<sub>(35)</sub> | 8<sub>(37)</sub> | 4<sub>(38)</sub> | 6<sub>(40)</sub></pre><tr><th><pre>Scale′1</pre><td style=\"text-align:left\"><pre>Ne Sign<sub>(3)</sub></pre><tr><th><pre>Sign</pre><td style=\"text-align:left\"><pre>-<sub>(5)</sub> | +<sub>(15)</sub></pre><tr><th><pre>Digit</pre><td style=\"text-align:left\"><pre>9<sub>(6)</sub> | 0<sub>(10)</sub> | 5<sub>(22)</sub> | 2<sub>(24)</sub> | 7<sub>(25)</sub> | 3<sub>(28)</sub> | 1<sub>(32)</sub> | 4<sub>(33)</sub> | 8<sub>(36)</sub> | 6<sub>(39)</sub></pre><tr><th><pre>N.</pre><td style=\"text-align:left\"><pre>.<sub>(8)</sub></pre><tr><th><pre>Scale′</pre><td style=\"text-align:left\"><pre>Scale′1 Integer<sub>(12)</sub></pre><tr><th><pre>Ne</pre><td style=\"text-align:left\"><pre>e<sub>(17)</sub></pre><tr><th><pre>Number1</pre><td style=\"text-align:left\"><pre>Integer Fraction<sub>(21)</sub></pre></table>"
            ],
            "text/plain": [
              "(Fraction -> N. Integer,\n",
              " Number -> 9,\n",
              " Integer -> Integer Digit,\n",
              " Scale′1 -> Ne Sign,\n",
              " Number -> 0,\n",
              " Sign -> -,\n",
              " Digit -> 9,\n",
              " Integer -> 9,\n",
              " N. -> .,\n",
              " Number -> 5,\n",
              " Digit -> 0,\n",
              " Integer -> 0,\n",
              " Scale′ -> Scale′1 Integer,\n",
              " Number -> Number1 Scale′,\n",
              " Number -> 7,\n",
              " Sign -> +,\n",
              " Number -> 3,\n",
              " Ne -> e,\n",
              " Number -> 2,\n",
              " Number -> 1,\n",
              " Integer -> 5,\n",
              " Number1 -> Integer Fraction,\n",
              " Digit -> 5,\n",
              " Number -> 8,\n",
              " Digit -> 2,\n",
              " Digit -> 7,\n",
              " Number -> 4,\n",
              " Integer -> 7,\n",
              " Digit -> 3,\n",
              " Number -> 6,\n",
              " Integer -> 3,\n",
              " Integer -> 2,\n",
              " Digit -> 1,\n",
              " Digit -> 4,\n",
              " Number -> Integer Fraction,\n",
              " Integer -> 1,\n",
              " Digit -> 8,\n",
              " Integer -> 8,\n",
              " Integer -> 4,\n",
              " Digit -> 6,\n",
              " Integer -> 6,\n",
              " Number -> Integer Digit)"
            ]
          },
          "execution_count": 20,
          "metadata": {},
          "output_type": "execute_result"
        }
      ],
      "source": [
        "# fig. 4.15, pag. 123 (rinominando alcuni non terminali)\n",
        "\n",
        "G_cnf = make_binary(transform_nonsolitary(Gp_clean))\n",
        "G_cnf.P"
      ]
    },
    {
      "cell_type": "markdown",
      "metadata": {},
      "source": [
        "# Parsing CYK con  G in forma CNF"
      ]
    },
    {
      "cell_type": "code",
      "execution_count": null,
      "metadata": {},
      "outputs": [
        {
          "data": {
            "text/html": [
              "<style>td, th {border: 1pt solid lightgray !important ;}</style><table><tr><td style=\"text-align:left\"><pre>Number</pre></td><tr><td style=\"text-align:left\"><pre>&nbsp;</pre></td><td style=\"text-align:left\"><pre>Number</pre></td><tr><td style=\"text-align:left\"><pre>&nbsp;</pre></td><td style=\"text-align:left\"><pre>&nbsp;</pre></td><td style=\"text-align:left\"><pre>&nbsp;</pre></td><tr><td style=\"text-align:left\"><pre>Number\n",
              "Number1</pre></td><td style=\"text-align:left\"><pre>&nbsp;</pre></td><td style=\"text-align:left\"><pre>&nbsp;</pre></td><td style=\"text-align:left\"><pre>&nbsp;</pre></td><tr><td style=\"text-align:left\"><pre>&nbsp;</pre></td><td style=\"text-align:left\"><pre>Number\n",
              "Number1</pre></td><td style=\"text-align:left\"><pre>&nbsp;</pre></td><td style=\"text-align:left\"><pre>&nbsp;</pre></td><td style=\"text-align:left\"><pre>Scale′</pre></td><tr><td style=\"text-align:left\"><pre>Integer\n",
              "Number</pre></td><td style=\"text-align:left\"><pre>&nbsp;</pre></td><td style=\"text-align:left\"><pre>Fraction</pre></td><td style=\"text-align:left\"><pre>&nbsp;</pre></td><td style=\"text-align:left\"><pre>Scale′1</pre></td><td style=\"text-align:left\"><pre>&nbsp;</pre></td><tr><td style=\"text-align:left\"><pre>Digit\n",
              "Integer\n",
              "Number</pre></td><td style=\"text-align:left\"><pre>Digit\n",
              "Integer\n",
              "Number</pre></td><td style=\"text-align:left\"><pre>N.</pre></td><td style=\"text-align:left\"><pre>Digit\n",
              "Integer\n",
              "Number</pre></td><td style=\"text-align:left\"><pre>Ne</pre></td><td style=\"text-align:left\"><pre>Sign</pre></td><td style=\"text-align:left\"><pre>Digit\n",
              "Integer\n",
              "Number</pre></td></table>"
            ],
            "text/plain": [
              "<liblet.utils.CYKTable at 0x7f4fa9e94e20>"
            ]
          },
          "execution_count": 21,
          "metadata": {},
          "output_type": "execute_result"
        }
      ],
      "source": [
        "# fig. 4.16, pag. 123\n",
        "\n",
        "INPUT = '32.5e+1'\n",
        "R = cyk(G_cnf, INPUT)\n",
        "R"
      ]
    },
    {
      "cell_type": "markdown",
      "metadata": {},
      "source": [
        "## Una derivazione leftmost\n",
        "\n",
        "Per ottenere una derivazione *leftmost* ragioniamo come per la funzione `fake_parse` della precedente lezione, ma invece di restituire un albero restituiamo l'indice della produzione in gioco (ottenuto invocando `G.P.index`)"
      ]
    },
    {
      "cell_type": "code",
      "execution_count": null,
      "metadata": {},
      "outputs": [],
      "source": [
        "def get_leftmost_prods(G, R, INPUT):\n",
        "  def prods(X, i, l):\n",
        "    if l == 1:\n",
        "      return [G.P.index(Production(X, (INPUT[i - 1],)))]\n",
        "    for A, (B, C) in filter(Production.such_that(lhs = X, rhs_len = 2), G.P):\n",
        "      for k in range(1, l):\n",
        "        if B in R[i, k] and C in R[i + k, l - k]:\n",
        "          return [G.P.index(Production(A, (B, C)))] + prods(B, i, k) + prods(C, i + k, l - k)\n",
        "  return prods(G.S, 1, len(INPUT))            "
      ]
    },
    {
      "cell_type": "code",
      "execution_count": null,
      "metadata": {},
      "outputs": [
        {
          "data": {
            "text/plain": [
              "[13, 21, 2, 30, 24, 0, 8, 20, 12, 3, 17, 15, 35]"
            ]
          },
          "execution_count": 23,
          "metadata": {},
          "output_type": "execute_result"
        }
      ],
      "source": [
        "leftmost_prods = get_leftmost_prods(G_cnf, R, INPUT)\n",
        "leftmost_prods"
      ]
    },
    {
      "cell_type": "code",
      "execution_count": null,
      "metadata": {},
      "outputs": [
        {
          "data": {
            "text/plain": [
              "Number -> Number1 Scale′ -> Integer Fraction Scale′ -> Integer Digit Fraction Scale′ -> 3 Digit Fraction Scale′ -> 3 2 Fraction Scale′ -> 3 2 N. Integer Scale′ -> 3 2 . Integer Scale′ -> 3 2 . 5 Scale′ -> 3 2 . 5 Scale′1 Integer -> 3 2 . 5 Ne Sign Integer -> 3 2 . 5 e Sign Integer -> 3 2 . 5 e + Integer -> 3 2 . 5 e + 1"
            ]
          },
          "execution_count": 24,
          "metadata": {},
          "output_type": "execute_result"
        }
      ],
      "source": [
        "d = Derivation(G_cnf).leftmost(leftmost_prods)\n",
        "d"
      ]
    },
    {
      "cell_type": "code",
      "execution_count": null,
      "metadata": {},
      "outputs": [
        {
          "data": {
            "image/svg+xml": [
              "<?xml version=\"1.0\" encoding=\"UTF-8\" standalone=\"no\"?>\n",
              "<!DOCTYPE svg PUBLIC \"-//W3C//DTD SVG 1.1//EN\"\n",
              " \"http://www.w3.org/Graphics/SVG/1.1/DTD/svg11.dtd\">\n",
              "<!-- Generated by graphviz version 2.43.0 (0)\n",
              " -->\n",
              "<!-- Title: %3 Pages: 1 -->\n",
              "<svg width=\"342pt\" height=\"195pt\"\n",
              " viewBox=\"0.00 0.00 342.00 195.00\" xmlns=\"http://www.w3.org/2000/svg\" xmlns:xlink=\"http://www.w3.org/1999/xlink\">\n",
              "<g id=\"graph0\" class=\"graph\" transform=\"scale(1 1) rotate(0) translate(4 191)\">\n",
              "<title>%3</title>\n",
              "<polygon fill=\"white\" stroke=\"transparent\" points=\"-4,4 -4,-191 338,-191 338,4 -4,4\"/>\n",
              "<!-- &#45;1911209762249042198 -->\n",
              "<g id=\"node1\" class=\"node\">\n",
              "<title>&#45;1911209762249042198</title>\n",
              "<path fill=\"none\" stroke=\"black\" stroke-width=\"0.25\" d=\"M216.83,-187C216.83,-187 178.17,-187 178.17,-187 174.33,-187 170.5,-183.17 170.5,-179.33 170.5,-179.33 170.5,-171.67 170.5,-171.67 170.5,-167.83 174.33,-164 178.17,-164 178.17,-164 216.83,-164 216.83,-164 220.67,-164 224.5,-167.83 224.5,-171.67 224.5,-171.67 224.5,-179.33 224.5,-179.33 224.5,-183.17 220.67,-187 216.83,-187\"/>\n",
              "<text text-anchor=\"middle\" x=\"197.5\" y=\"-171.8\" font-family=\"Times,serif\" font-size=\"14.00\">Number</text>\n",
              "</g>\n",
              "<!-- 1520115677342130507 -->\n",
              "<g id=\"node2\" class=\"node\">\n",
              "<title>1520115677342130507</title>\n",
              "<path fill=\"none\" stroke=\"black\" stroke-width=\"0.25\" d=\"M185.83,-146C185.83,-146 141.17,-146 141.17,-146 137.33,-146 133.5,-142.17 133.5,-138.33 133.5,-138.33 133.5,-130.67 133.5,-130.67 133.5,-126.83 137.33,-123 141.17,-123 141.17,-123 185.83,-123 185.83,-123 189.67,-123 193.5,-126.83 193.5,-130.67 193.5,-130.67 193.5,-138.33 193.5,-138.33 193.5,-142.17 189.67,-146 185.83,-146\"/>\n",
              "<text text-anchor=\"middle\" x=\"163.5\" y=\"-130.8\" font-family=\"Times,serif\" font-size=\"14.00\">Number1</text>\n",
              "</g>\n",
              "<!-- &#45;1911209762249042198&#45;&gt;1520115677342130507 -->\n",
              "<g id=\"edge1\" class=\"edge\">\n",
              "<title>&#45;1911209762249042198&#45;&gt;1520115677342130507</title>\n",
              "<path fill=\"none\" stroke=\"black\" stroke-width=\"0.5\" d=\"M188.21,-163.84C183.41,-158.34 177.58,-151.65 172.78,-146.14\"/>\n",
              "</g>\n",
              "<!-- &#45;2137666437689227987 -->\n",
              "<g id=\"node3\" class=\"node\">\n",
              "<title>&#45;2137666437689227987</title>\n",
              "<path fill=\"none\" stroke=\"black\" stroke-width=\"0.25\" d=\"M249.33,-146C249.33,-146 223.67,-146 223.67,-146 219.83,-146 216,-142.17 216,-138.33 216,-138.33 216,-130.67 216,-130.67 216,-126.83 219.83,-123 223.67,-123 223.67,-123 249.33,-123 249.33,-123 253.17,-123 257,-126.83 257,-130.67 257,-130.67 257,-138.33 257,-138.33 257,-142.17 253.17,-146 249.33,-146\"/>\n",
              "<text text-anchor=\"middle\" x=\"236.5\" y=\"-130.8\" font-family=\"Times,serif\" font-size=\"14.00\">Scale′</text>\n",
              "</g>\n",
              "<!-- &#45;1911209762249042198&#45;&gt;&#45;2137666437689227987 -->\n",
              "<g id=\"edge2\" class=\"edge\">\n",
              "<title>&#45;1911209762249042198&#45;&gt;&#45;2137666437689227987</title>\n",
              "<path fill=\"none\" stroke=\"black\" stroke-width=\"0.5\" d=\"M208.16,-163.84C213.66,-158.34 220.35,-151.65 225.86,-146.14\"/>\n",
              "</g>\n",
              "<!-- 1520115677342130507&#45;&gt;&#45;2137666437689227987 -->\n",
              "<!-- &#45;6666157879386370607 -->\n",
              "<g id=\"node4\" class=\"node\">\n",
              "<title>&#45;6666157879386370607</title>\n",
              "<path fill=\"none\" stroke=\"black\" stroke-width=\"0.25\" d=\"M101.33,-105C101.33,-105 69.67,-105 69.67,-105 65.83,-105 62,-101.17 62,-97.33 62,-97.33 62,-89.67 62,-89.67 62,-85.83 65.83,-82 69.67,-82 69.67,-82 101.33,-82 101.33,-82 105.17,-82 109,-85.83 109,-89.67 109,-89.67 109,-97.33 109,-97.33 109,-101.17 105.17,-105 101.33,-105\"/>\n",
              "<text text-anchor=\"middle\" x=\"85.5\" y=\"-89.8\" font-family=\"Times,serif\" font-size=\"14.00\">Integer</text>\n",
              "</g>\n",
              "<!-- 1520115677342130507&#45;&gt;&#45;6666157879386370607 -->\n",
              "<g id=\"edge4\" class=\"edge\">\n",
              "<title>1520115677342130507&#45;&gt;&#45;6666157879386370607</title>\n",
              "<path fill=\"none\" stroke=\"black\" stroke-width=\"0.5\" d=\"M142.19,-122.84C131.09,-117.3 117.57,-110.54 106.52,-105.01\"/>\n",
              "</g>\n",
              "<!-- 631596975405177921 -->\n",
              "<g id=\"node5\" class=\"node\">\n",
              "<title>631596975405177921</title>\n",
              "<path fill=\"none\" stroke=\"black\" stroke-width=\"0.25\" d=\"M174.83,-105C174.83,-105 136.17,-105 136.17,-105 132.33,-105 128.5,-101.17 128.5,-97.33 128.5,-97.33 128.5,-89.67 128.5,-89.67 128.5,-85.83 132.33,-82 136.17,-82 136.17,-82 174.83,-82 174.83,-82 178.67,-82 182.5,-85.83 182.5,-89.67 182.5,-89.67 182.5,-97.33 182.5,-97.33 182.5,-101.17 178.67,-105 174.83,-105\"/>\n",
              "<text text-anchor=\"middle\" x=\"155.5\" y=\"-89.8\" font-family=\"Times,serif\" font-size=\"14.00\">Fraction</text>\n",
              "</g>\n",
              "<!-- 1520115677342130507&#45;&gt;631596975405177921 -->\n",
              "<g id=\"edge5\" class=\"edge\">\n",
              "<title>1520115677342130507&#45;&gt;631596975405177921</title>\n",
              "<path fill=\"none\" stroke=\"black\" stroke-width=\"0.5\" d=\"M161.31,-122.84C160.19,-117.34 158.81,-110.65 157.68,-105.14\"/>\n",
              "</g>\n",
              "<!-- &#45;30712740332968856 -->\n",
              "<g id=\"node14\" class=\"node\">\n",
              "<title>&#45;30712740332968856</title>\n",
              "<path fill=\"none\" stroke=\"black\" stroke-width=\"0.25\" d=\"M253.83,-105C253.83,-105 221.17,-105 221.17,-105 217.33,-105 213.5,-101.17 213.5,-97.33 213.5,-97.33 213.5,-89.67 213.5,-89.67 213.5,-85.83 217.33,-82 221.17,-82 221.17,-82 253.83,-82 253.83,-82 257.67,-82 261.5,-85.83 261.5,-89.67 261.5,-89.67 261.5,-97.33 261.5,-97.33 261.5,-101.17 257.67,-105 253.83,-105\"/>\n",
              "<text text-anchor=\"middle\" x=\"237.5\" y=\"-89.8\" font-family=\"Times,serif\" font-size=\"14.00\">Scale′1</text>\n",
              "</g>\n",
              "<!-- &#45;2137666437689227987&#45;&gt;&#45;30712740332968856 -->\n",
              "<g id=\"edge17\" class=\"edge\">\n",
              "<title>&#45;2137666437689227987&#45;&gt;&#45;30712740332968856</title>\n",
              "<path fill=\"none\" stroke=\"black\" stroke-width=\"0.5\" d=\"M236.77,-122.84C236.91,-117.34 237.09,-110.65 237.23,-105.14\"/>\n",
              "</g>\n",
              "<!-- 1257388982479208199 -->\n",
              "<g id=\"node15\" class=\"node\">\n",
              "<title>1257388982479208199</title>\n",
              "<path fill=\"none\" stroke=\"black\" stroke-width=\"0.25\" d=\"M319.33,-105C319.33,-105 287.67,-105 287.67,-105 283.83,-105 280,-101.17 280,-97.33 280,-97.33 280,-89.67 280,-89.67 280,-85.83 283.83,-82 287.67,-82 287.67,-82 319.33,-82 319.33,-82 323.17,-82 327,-85.83 327,-89.67 327,-89.67 327,-97.33 327,-97.33 327,-101.17 323.17,-105 319.33,-105\"/>\n",
              "<text text-anchor=\"middle\" x=\"303.5\" y=\"-89.8\" font-family=\"Times,serif\" font-size=\"14.00\">Integer</text>\n",
              "</g>\n",
              "<!-- &#45;2137666437689227987&#45;&gt;1257388982479208199 -->\n",
              "<g id=\"edge18\" class=\"edge\">\n",
              "<title>&#45;2137666437689227987&#45;&gt;1257388982479208199</title>\n",
              "<path fill=\"none\" stroke=\"black\" stroke-width=\"0.5\" d=\"M254.81,-122.84C264.26,-117.34 275.76,-110.65 285.21,-105.14\"/>\n",
              "</g>\n",
              "<!-- &#45;6666157879386370607&#45;&gt;631596975405177921 -->\n",
              "<!-- 3183990772578017445 -->\n",
              "<g id=\"node6\" class=\"node\">\n",
              "<title>3183990772578017445</title>\n",
              "<path fill=\"none\" stroke=\"black\" stroke-width=\"0.25\" d=\"M39.33,-64C39.33,-64 7.67,-64 7.67,-64 3.83,-64 0,-60.17 0,-56.33 0,-56.33 0,-48.67 0,-48.67 0,-44.83 3.83,-41 7.67,-41 7.67,-41 39.33,-41 39.33,-41 43.17,-41 47,-44.83 47,-48.67 47,-48.67 47,-56.33 47,-56.33 47,-60.17 43.17,-64 39.33,-64\"/>\n",
              "<text text-anchor=\"middle\" x=\"23.5\" y=\"-48.8\" font-family=\"Times,serif\" font-size=\"14.00\">Integer</text>\n",
              "</g>\n",
              "<!-- &#45;6666157879386370607&#45;&gt;3183990772578017445 -->\n",
              "<g id=\"edge7\" class=\"edge\">\n",
              "<title>&#45;6666157879386370607&#45;&gt;3183990772578017445</title>\n",
              "<path fill=\"none\" stroke=\"black\" stroke-width=\"0.5\" d=\"M68.56,-81.84C59.81,-76.34 49.17,-69.65 40.42,-64.14\"/>\n",
              "</g>\n",
              "<!-- 8510311389442596568 -->\n",
              "<g id=\"node7\" class=\"node\">\n",
              "<title>8510311389442596568</title>\n",
              "<path fill=\"none\" stroke=\"black\" stroke-width=\"0.25\" d=\"M93.83,-64C93.83,-64 73.17,-64 73.17,-64 69.33,-64 65.5,-60.17 65.5,-56.33 65.5,-56.33 65.5,-48.67 65.5,-48.67 65.5,-44.83 69.33,-41 73.17,-41 73.17,-41 93.83,-41 93.83,-41 97.67,-41 101.5,-44.83 101.5,-48.67 101.5,-48.67 101.5,-56.33 101.5,-56.33 101.5,-60.17 97.67,-64 93.83,-64\"/>\n",
              "<text text-anchor=\"middle\" x=\"83.5\" y=\"-48.8\" font-family=\"Times,serif\" font-size=\"14.00\">Digit</text>\n",
              "</g>\n",
              "<!-- &#45;6666157879386370607&#45;&gt;8510311389442596568 -->\n",
              "<g id=\"edge8\" class=\"edge\">\n",
              "<title>&#45;6666157879386370607&#45;&gt;8510311389442596568</title>\n",
              "<path fill=\"none\" stroke=\"black\" stroke-width=\"0.5\" d=\"M84.95,-81.84C84.67,-76.34 84.33,-69.65 84.05,-64.14\"/>\n",
              "</g>\n",
              "<!-- 4989976601358519468 -->\n",
              "<g id=\"node10\" class=\"node\">\n",
              "<title>4989976601358519468</title>\n",
              "<path fill=\"none\" stroke=\"black\" stroke-width=\"0.25\" d=\"M134.17,-64C134.17,-64 126.83,-64 126.83,-64 123.17,-64 119.5,-60.33 119.5,-56.67 119.5,-56.67 119.5,-48.33 119.5,-48.33 119.5,-44.67 123.17,-41 126.83,-41 126.83,-41 134.17,-41 134.17,-41 137.83,-41 141.5,-44.67 141.5,-48.33 141.5,-48.33 141.5,-56.67 141.5,-56.67 141.5,-60.33 137.83,-64 134.17,-64\"/>\n",
              "<text text-anchor=\"middle\" x=\"130.5\" y=\"-48.8\" font-family=\"Times,serif\" font-size=\"14.00\">N.</text>\n",
              "</g>\n",
              "<!-- 631596975405177921&#45;&gt;4989976601358519468 -->\n",
              "<g id=\"edge12\" class=\"edge\">\n",
              "<title>631596975405177921&#45;&gt;4989976601358519468</title>\n",
              "<path fill=\"none\" stroke=\"black\" stroke-width=\"0.5\" d=\"M148.67,-81.84C145.14,-76.34 140.85,-69.65 137.32,-64.14\"/>\n",
              "</g>\n",
              "<!-- 8997524899897040447 -->\n",
              "<g id=\"node11\" class=\"node\">\n",
              "<title>8997524899897040447</title>\n",
              "<path fill=\"none\" stroke=\"black\" stroke-width=\"0.25\" d=\"M199.33,-64C199.33,-64 167.67,-64 167.67,-64 163.83,-64 160,-60.17 160,-56.33 160,-56.33 160,-48.67 160,-48.67 160,-44.83 163.83,-41 167.67,-41 167.67,-41 199.33,-41 199.33,-41 203.17,-41 207,-44.83 207,-48.67 207,-48.67 207,-56.33 207,-56.33 207,-60.17 203.17,-64 199.33,-64\"/>\n",
              "<text text-anchor=\"middle\" x=\"183.5\" y=\"-48.8\" font-family=\"Times,serif\" font-size=\"14.00\">Integer</text>\n",
              "</g>\n",
              "<!-- 631596975405177921&#45;&gt;8997524899897040447 -->\n",
              "<g id=\"edge13\" class=\"edge\">\n",
              "<title>631596975405177921&#45;&gt;8997524899897040447</title>\n",
              "<path fill=\"none\" stroke=\"black\" stroke-width=\"0.5\" d=\"M163.15,-81.84C167.1,-76.34 171.91,-69.65 175.86,-64.14\"/>\n",
              "</g>\n",
              "<!-- 3183990772578017445&#45;&gt;8510311389442596568 -->\n",
              "<!-- &#45;8108371711797310232 -->\n",
              "<g id=\"node8\" class=\"node\">\n",
              "<title>&#45;8108371711797310232</title>\n",
              "<path fill=\"none\" stroke=\"black\" stroke-width=\"1.25\" d=\"M26,-23C26,-23 21,-23 21,-23 18.5,-23 16,-20.5 16,-18 16,-18 16,-5 16,-5 16,-2.5 18.5,0 21,0 21,0 26,0 26,0 28.5,0 31,-2.5 31,-5 31,-5 31,-18 31,-18 31,-20.5 28.5,-23 26,-23\"/>\n",
              "<text text-anchor=\"middle\" x=\"23.5\" y=\"-7.8\" font-family=\"Times,serif\" font-size=\"14.00\">3</text>\n",
              "</g>\n",
              "<!-- 3183990772578017445&#45;&gt;&#45;8108371711797310232 -->\n",
              "<g id=\"edge10\" class=\"edge\">\n",
              "<title>3183990772578017445&#45;&gt;&#45;8108371711797310232</title>\n",
              "<path fill=\"none\" stroke=\"black\" stroke-width=\"0.5\" d=\"M23.5,-40.84C23.5,-35.34 23.5,-28.65 23.5,-23.14\"/>\n",
              "</g>\n",
              "<!-- 7722738986564510808 -->\n",
              "<g id=\"node9\" class=\"node\">\n",
              "<title>7722738986564510808</title>\n",
              "<path fill=\"none\" stroke=\"black\" stroke-width=\"1.25\" d=\"M86,-23C86,-23 81,-23 81,-23 78.5,-23 76,-20.5 76,-18 76,-18 76,-5 76,-5 76,-2.5 78.5,0 81,0 81,0 86,0 86,0 88.5,0 91,-2.5 91,-5 91,-5 91,-18 91,-18 91,-20.5 88.5,-23 86,-23\"/>\n",
              "<text text-anchor=\"middle\" x=\"83.5\" y=\"-7.8\" font-family=\"Times,serif\" font-size=\"14.00\">2</text>\n",
              "</g>\n",
              "<!-- 8510311389442596568&#45;&gt;7722738986564510808 -->\n",
              "<g id=\"edge11\" class=\"edge\">\n",
              "<title>8510311389442596568&#45;&gt;7722738986564510808</title>\n",
              "<path fill=\"none\" stroke=\"black\" stroke-width=\"0.5\" d=\"M83.5,-40.84C83.5,-35.34 83.5,-28.65 83.5,-23.14\"/>\n",
              "</g>\n",
              "<!-- 4989976601358519468&#45;&gt;8997524899897040447 -->\n",
              "<!-- 3595386911029734428 -->\n",
              "<g id=\"node12\" class=\"node\">\n",
              "<title>3595386911029734428</title>\n",
              "<path fill=\"none\" stroke=\"black\" stroke-width=\"1.25\" d=\"M132.5,-23C132.5,-23 128.5,-23 128.5,-23 126.5,-23 124.5,-21 124.5,-19 124.5,-19 124.5,-4 124.5,-4 124.5,-2 126.5,0 128.5,0 128.5,0 132.5,0 132.5,0 134.5,0 136.5,-2 136.5,-4 136.5,-4 136.5,-19 136.5,-19 136.5,-21 134.5,-23 132.5,-23\"/>\n",
              "<text text-anchor=\"middle\" x=\"130.5\" y=\"-7.8\" font-family=\"Times,serif\" font-size=\"14.00\">.</text>\n",
              "</g>\n",
              "<!-- 4989976601358519468&#45;&gt;3595386911029734428 -->\n",
              "<g id=\"edge15\" class=\"edge\">\n",
              "<title>4989976601358519468&#45;&gt;3595386911029734428</title>\n",
              "<path fill=\"none\" stroke=\"black\" stroke-width=\"0.5\" d=\"M130.5,-40.84C130.5,-35.34 130.5,-28.65 130.5,-23.14\"/>\n",
              "</g>\n",
              "<!-- &#45;2230841665451264898 -->\n",
              "<g id=\"node13\" class=\"node\">\n",
              "<title>&#45;2230841665451264898</title>\n",
              "<path fill=\"none\" stroke=\"black\" stroke-width=\"1.25\" d=\"M186,-23C186,-23 181,-23 181,-23 178.5,-23 176,-20.5 176,-18 176,-18 176,-5 176,-5 176,-2.5 178.5,0 181,0 181,0 186,0 186,0 188.5,0 191,-2.5 191,-5 191,-5 191,-18 191,-18 191,-20.5 188.5,-23 186,-23\"/>\n",
              "<text text-anchor=\"middle\" x=\"183.5\" y=\"-7.8\" font-family=\"Times,serif\" font-size=\"14.00\">5</text>\n",
              "</g>\n",
              "<!-- 8997524899897040447&#45;&gt;&#45;2230841665451264898 -->\n",
              "<g id=\"edge16\" class=\"edge\">\n",
              "<title>8997524899897040447&#45;&gt;&#45;2230841665451264898</title>\n",
              "<path fill=\"none\" stroke=\"black\" stroke-width=\"0.5\" d=\"M183.5,-40.84C183.5,-35.34 183.5,-28.65 183.5,-23.14\"/>\n",
              "</g>\n",
              "<!-- &#45;30712740332968856&#45;&gt;1257388982479208199 -->\n",
              "<!-- 1846367858483751606 -->\n",
              "<g id=\"node16\" class=\"node\">\n",
              "<title>1846367858483751606</title>\n",
              "<path fill=\"none\" stroke=\"black\" stroke-width=\"0.25\" d=\"M241.83,-64C241.83,-64 233.17,-64 233.17,-64 229.33,-64 225.5,-60.17 225.5,-56.33 225.5,-56.33 225.5,-48.67 225.5,-48.67 225.5,-44.83 229.33,-41 233.17,-41 233.17,-41 241.83,-41 241.83,-41 245.67,-41 249.5,-44.83 249.5,-48.67 249.5,-48.67 249.5,-56.33 249.5,-56.33 249.5,-60.17 245.67,-64 241.83,-64\"/>\n",
              "<text text-anchor=\"middle\" x=\"237.5\" y=\"-48.8\" font-family=\"Times,serif\" font-size=\"14.00\">Ne</text>\n",
              "</g>\n",
              "<!-- &#45;30712740332968856&#45;&gt;1846367858483751606 -->\n",
              "<g id=\"edge20\" class=\"edge\">\n",
              "<title>&#45;30712740332968856&#45;&gt;1846367858483751606</title>\n",
              "<path fill=\"none\" stroke=\"black\" stroke-width=\"0.5\" d=\"M237.5,-81.84C237.5,-76.34 237.5,-69.65 237.5,-64.14\"/>\n",
              "</g>\n",
              "<!-- 2010065010982405237 -->\n",
              "<g id=\"node17\" class=\"node\">\n",
              "<title>2010065010982405237</title>\n",
              "<path fill=\"none\" stroke=\"black\" stroke-width=\"0.25\" d=\"M293.33,-64C293.33,-64 275.67,-64 275.67,-64 271.83,-64 268,-60.17 268,-56.33 268,-56.33 268,-48.67 268,-48.67 268,-44.83 271.83,-41 275.67,-41 275.67,-41 293.33,-41 293.33,-41 297.17,-41 301,-44.83 301,-48.67 301,-48.67 301,-56.33 301,-56.33 301,-60.17 297.17,-64 293.33,-64\"/>\n",
              "<text text-anchor=\"middle\" x=\"284.5\" y=\"-48.8\" font-family=\"Times,serif\" font-size=\"14.00\">Sign</text>\n",
              "</g>\n",
              "<!-- &#45;30712740332968856&#45;&gt;2010065010982405237 -->\n",
              "<g id=\"edge21\" class=\"edge\">\n",
              "<title>&#45;30712740332968856&#45;&gt;2010065010982405237</title>\n",
              "<path fill=\"none\" stroke=\"black\" stroke-width=\"0.5\" d=\"M250.34,-81.84C256.97,-76.34 265.04,-69.65 271.67,-64.14\"/>\n",
              "</g>\n",
              "<!-- &#45;4740366379548700907 -->\n",
              "<g id=\"node20\" class=\"node\">\n",
              "<title>&#45;4740366379548700907</title>\n",
              "<path fill=\"none\" stroke=\"black\" stroke-width=\"1.25\" d=\"M329,-64C329,-64 324,-64 324,-64 321.5,-64 319,-61.5 319,-59 319,-59 319,-46 319,-46 319,-43.5 321.5,-41 324,-41 324,-41 329,-41 329,-41 331.5,-41 334,-43.5 334,-46 334,-46 334,-59 334,-59 334,-61.5 331.5,-64 329,-64\"/>\n",
              "<text text-anchor=\"middle\" x=\"326.5\" y=\"-48.8\" font-family=\"Times,serif\" font-size=\"14.00\">1</text>\n",
              "</g>\n",
              "<!-- 1257388982479208199&#45;&gt;&#45;4740366379548700907 -->\n",
              "<g id=\"edge25\" class=\"edge\">\n",
              "<title>1257388982479208199&#45;&gt;&#45;4740366379548700907</title>\n",
              "<path fill=\"none\" stroke=\"black\" stroke-width=\"0.5\" d=\"M309.78,-81.84C313.03,-76.34 316.98,-69.65 320.22,-64.14\"/>\n",
              "</g>\n",
              "<!-- 1846367858483751606&#45;&gt;2010065010982405237 -->\n",
              "<!-- 8170701549290041739 -->\n",
              "<g id=\"node18\" class=\"node\">\n",
              "<title>8170701549290041739</title>\n",
              "<path fill=\"none\" stroke=\"black\" stroke-width=\"1.25\" d=\"M240,-23C240,-23 235,-23 235,-23 232.5,-23 230,-20.5 230,-18 230,-18 230,-5 230,-5 230,-2.5 232.5,0 235,0 235,0 240,0 240,0 242.5,0 245,-2.5 245,-5 245,-5 245,-18 245,-18 245,-20.5 242.5,-23 240,-23\"/>\n",
              "<text text-anchor=\"middle\" x=\"237.5\" y=\"-7.8\" font-family=\"Times,serif\" font-size=\"14.00\">e</text>\n",
              "</g>\n",
              "<!-- 1846367858483751606&#45;&gt;8170701549290041739 -->\n",
              "<g id=\"edge23\" class=\"edge\">\n",
              "<title>1846367858483751606&#45;&gt;8170701549290041739</title>\n",
              "<path fill=\"none\" stroke=\"black\" stroke-width=\"0.5\" d=\"M237.5,-40.84C237.5,-35.34 237.5,-28.65 237.5,-23.14\"/>\n",
              "</g>\n",
              "<!-- &#45;3713320947018209018 -->\n",
              "<g id=\"node19\" class=\"node\">\n",
              "<title>&#45;3713320947018209018</title>\n",
              "<path fill=\"none\" stroke=\"black\" stroke-width=\"1.25\" d=\"M287.33,-23C287.33,-23 281.67,-23 281.67,-23 278.83,-23 276,-20.17 276,-17.33 276,-17.33 276,-5.67 276,-5.67 276,-2.83 278.83,0 281.67,0 281.67,0 287.33,0 287.33,0 290.17,0 293,-2.83 293,-5.67 293,-5.67 293,-17.33 293,-17.33 293,-20.17 290.17,-23 287.33,-23\"/>\n",
              "<text text-anchor=\"middle\" x=\"284.5\" y=\"-7.8\" font-family=\"Times,serif\" font-size=\"14.00\">+</text>\n",
              "</g>\n",
              "<!-- 2010065010982405237&#45;&gt;&#45;3713320947018209018 -->\n",
              "<g id=\"edge24\" class=\"edge\">\n",
              "<title>2010065010982405237&#45;&gt;&#45;3713320947018209018</title>\n",
              "<path fill=\"none\" stroke=\"black\" stroke-width=\"0.5\" d=\"M284.5,-40.84C284.5,-35.34 284.5,-28.65 284.5,-23.14\"/>\n",
              "</g>\n",
              "</g>\n",
              "</svg>\n"
            ],
            "text/plain": [
              "ProductionGraph(Number -> Number1 Scale′ -> Integer Fraction Scale′ -> Integer Digit Fraction Scale′ -> 3 Digit Fraction Scale′ -> 3 2 Fraction Scale′ -> 3 2 N. Integer Scale′ -> 3 2 . Integer Scale′ -> 3 2 . 5 Scale′ -> 3 2 . 5 Scale′1 Integer -> 3 2 . 5 Ne Sign Integer -> 3 2 . 5 e Sign Integer -> 3 2 . 5 e + Integer -> 3 2 . 5 e + 1)"
            ]
          },
          "execution_count": 25,
          "metadata": {},
          "output_type": "execute_result"
        }
      ],
      "source": [
        "ProductionGraph(d)"
      ]
    },
    {
      "cell_type": "markdown",
      "metadata": {},
      "source": [
        "Come si possono ottenere le produzioni di una derivazione *rightomst*?"
      ]
    },
    {
      "cell_type": "markdown",
      "metadata": {},
      "source": [
        "## Il parsing in G (non in CNF)? (Sez. 4.2.6)\n",
        "\n",
        "Un primo requisito, per poter effettuare il parsing secondo le produzioni della grammatica originale è non eliminare i simboli improduttivi e irraggiungibili."
      ]
    },
    {
      "cell_type": "code",
      "execution_count": null,
      "metadata": {},
      "outputs": [
        {
          "data": {
            "text/html": [
              "<style>td, th {border: 1pt solid lightgray !important ;}</style><table><tr><th><pre>Fraction</pre><td style=\"text-align:left\"><pre>N. Integer<sub>(0)</sub></pre><tr><th><pre>Number</pre><td style=\"text-align:left\"><pre>9<sub>(1)</sub> | 0<sub>(6)</sub> | 5<sub>(12)</sub> | Number1 Scale′<sub>(16)</sub> | 7<sub>(17)</sub> | 3<sub>(19)</sub> | 2<sub>(21)</sub> | 1<sub>(22)</sub> | 8<sub>(26)</sub> | 4<sub>(29)</sub> | 6<sub>(32)</sub> | Integer Fraction<sub>(38)</sub> | Integer Digit<sub>(47)</sub></pre><tr><th><pre>Real</pre><td style=\"text-align:left\"><pre>Integer Fraction<sub>(2)</sub> | Real1 Scale′<sub>(45)</sub></pre><tr><th><pre>Integer</pre><td style=\"text-align:left\"><pre>Integer Digit<sub>(3)</sub> | 9<sub>(9)</sub> | 0<sub>(14)</sub> | 5<sub>(25)</sub> | 7<sub>(30)</sub> | 3<sub>(33)</sub> | 2<sub>(34)</sub> | 1<sub>(39)</sub> | 8<sub>(41)</sub> | 4<sub>(42)</sub> | 6<sub>(44)</sub></pre><tr><th><pre>Scale</pre><td style=\"text-align:left\"><pre>ε<sub>(4)</sub> | Scale1 Integer<sub>(48)</sub></pre><tr><th><pre>Scale′1</pre><td style=\"text-align:left\"><pre>Ne Sign<sub>(5)</sub></pre><tr><th><pre>Sign</pre><td style=\"text-align:left\"><pre>-<sub>(7)</sub> | +<sub>(18)</sub></pre><tr><th><pre>Digit</pre><td style=\"text-align:left\"><pre>9<sub>(8)</sub> | 0<sub>(13)</sub> | 5<sub>(23)</sub> | 2<sub>(27)</sub> | 7<sub>(28)</sub> | 3<sub>(31)</sub> | 1<sub>(36)</sub> | 4<sub>(37)</sub> | 8<sub>(40)</sub> | 6<sub>(43)</sub></pre><tr><th><pre>N.</pre><td style=\"text-align:left\"><pre>.<sub>(10)</sub></pre><tr><th><pre>Scale1</pre><td style=\"text-align:left\"><pre>Ne Sign<sub>(11)</sub></pre><tr><th><pre>Scale′</pre><td style=\"text-align:left\"><pre>Scale′1 Integer<sub>(15)</sub></pre><tr><th><pre>Ne</pre><td style=\"text-align:left\"><pre>e<sub>(20)</sub></pre><tr><th><pre>Number1</pre><td style=\"text-align:left\"><pre>Integer Fraction<sub>(24)</sub></pre><tr><th><pre>Real1</pre><td style=\"text-align:left\"><pre>Integer Fraction<sub>(35)</sub></pre><tr><th><pre>Empty</pre><td style=\"text-align:left\"><pre>ε<sub>(46)</sub></pre></table>"
            ],
            "text/plain": [
              "(Fraction -> N. Integer,\n",
              " Number -> 9,\n",
              " Real -> Integer Fraction,\n",
              " Integer -> Integer Digit,\n",
              " Scale -> ε,\n",
              " Scale′1 -> Ne Sign,\n",
              " Number -> 0,\n",
              " Sign -> -,\n",
              " Digit -> 9,\n",
              " Integer -> 9,\n",
              " N. -> .,\n",
              " Scale1 -> Ne Sign,\n",
              " Number -> 5,\n",
              " Digit -> 0,\n",
              " Integer -> 0,\n",
              " Scale′ -> Scale′1 Integer,\n",
              " Number -> Number1 Scale′,\n",
              " Number -> 7,\n",
              " Sign -> +,\n",
              " Number -> 3,\n",
              " Ne -> e,\n",
              " Number -> 2,\n",
              " Number -> 1,\n",
              " Digit -> 5,\n",
              " Number1 -> Integer Fraction,\n",
              " Integer -> 5,\n",
              " Number -> 8,\n",
              " Digit -> 2,\n",
              " Digit -> 7,\n",
              " Number -> 4,\n",
              " Integer -> 7,\n",
              " Digit -> 3,\n",
              " Number -> 6,\n",
              " Integer -> 3,\n",
              " Integer -> 2,\n",
              " Real1 -> Integer Fraction,\n",
              " Digit -> 1,\n",
              " Digit -> 4,\n",
              " Number -> Integer Fraction,\n",
              " Integer -> 1,\n",
              " Digit -> 8,\n",
              " Integer -> 8,\n",
              " Integer -> 4,\n",
              " Digit -> 6,\n",
              " Integer -> 6,\n",
              " Real -> Real1 Scale′,\n",
              " Empty -> ε,\n",
              " Number -> Integer Digit,\n",
              " Scale -> Scale1 Integer)"
            ]
          },
          "execution_count": 26,
          "metadata": {},
          "output_type": "execute_result"
        }
      ],
      "source": [
        "# Non effettuiamo la pulizia\n",
        "\n",
        "Gp_cnf = transform_nonsolitary(make_binary(Gp))\n",
        "Gp_cnf.P"
      ]
    },
    {
      "cell_type": "markdown",
      "metadata": {},
      "source": [
        "Ora calcoliamo la tabella `Rp` e la completiamo con le ε-regole"
      ]
    },
    {
      "cell_type": "code",
      "execution_count": null,
      "metadata": {},
      "outputs": [],
      "source": [
        "# Otteniamo Rp tramite il parsing rispetto alla grammatica non ripulita Gp_cnf\n",
        "\n",
        "INPUT = '32.5e+1'\n",
        "Rp = cyk(Gp_cnf, INPUT)"
      ]
    },
    {
      "cell_type": "code",
      "execution_count": null,
      "metadata": {},
      "outputs": [],
      "source": [
        "# Calcoliamo l'insieme dei simboli A tali che A -> ε\n",
        "\n",
        "Rε = {A for A in Gp_cnf.N if (ε, ) in Gp_cnf.alternatives(A)}"
      ]
    },
    {
      "cell_type": "code",
      "execution_count": null,
      "metadata": {},
      "outputs": [],
      "source": [
        "# Li aggiungiamo in fondo alla tabella\n",
        "\n",
        "for i in range(1, len(INPUT) + 2): Rp[i, 0] = Rε"
      ]
    },
    {
      "cell_type": "code",
      "execution_count": null,
      "metadata": {},
      "outputs": [
        {
          "data": {
            "text/html": [
              "<style>td, th {border: 1pt solid lightgray !important ;}</style><table><tr><td style=\"text-align:left\"><pre>Number\n",
              "Real</pre></td><tr><td style=\"text-align:left\"><pre>&nbsp;</pre></td><td style=\"text-align:left\"><pre>Number\n",
              "Real</pre></td><tr><td style=\"text-align:left\"><pre>&nbsp;</pre></td><td style=\"text-align:left\"><pre>&nbsp;</pre></td><td style=\"text-align:left\"><pre>&nbsp;</pre></td><tr><td style=\"text-align:left\"><pre>Number\n",
              "Number1\n",
              "Real\n",
              "Real1</pre></td><td style=\"text-align:left\"><pre>&nbsp;</pre></td><td style=\"text-align:left\"><pre>&nbsp;</pre></td><td style=\"text-align:left\"><pre>&nbsp;</pre></td><tr><td style=\"text-align:left\"><pre>&nbsp;</pre></td><td style=\"text-align:left\"><pre>Number\n",
              "Number1\n",
              "Real\n",
              "Real1</pre></td><td style=\"text-align:left\"><pre>&nbsp;</pre></td><td style=\"text-align:left\"><pre>&nbsp;</pre></td><td style=\"text-align:left\"><pre>Scale\n",
              "Scale′</pre></td><tr><td style=\"text-align:left\"><pre>Integer\n",
              "Number</pre></td><td style=\"text-align:left\"><pre>&nbsp;</pre></td><td style=\"text-align:left\"><pre>Fraction</pre></td><td style=\"text-align:left\"><pre>&nbsp;</pre></td><td style=\"text-align:left\"><pre>Scale1\n",
              "Scale′1</pre></td><td style=\"text-align:left\"><pre>&nbsp;</pre></td><tr><td style=\"text-align:left\"><pre>Digit\n",
              "Integer\n",
              "Number</pre></td><td style=\"text-align:left\"><pre>Digit\n",
              "Integer\n",
              "Number</pre></td><td style=\"text-align:left\"><pre>N.</pre></td><td style=\"text-align:left\"><pre>Digit\n",
              "Integer\n",
              "Number</pre></td><td style=\"text-align:left\"><pre>Ne</pre></td><td style=\"text-align:left\"><pre>Sign</pre></td><td style=\"text-align:left\"><pre>Digit\n",
              "Integer\n",
              "Number</pre></td><tr><td style=\"text-align:left\"><pre>Empty\n",
              "Scale</pre></td><td style=\"text-align:left\"><pre>Empty\n",
              "Scale</pre></td><td style=\"text-align:left\"><pre>Empty\n",
              "Scale</pre></td><td style=\"text-align:left\"><pre>Empty\n",
              "Scale</pre></td><td style=\"text-align:left\"><pre>Empty\n",
              "Scale</pre></td><td style=\"text-align:left\"><pre>Empty\n",
              "Scale</pre></td><td style=\"text-align:left\"><pre>Empty\n",
              "Scale</pre></td><td style=\"text-align:left\"><pre>Empty\n",
              "Scale</pre></td></table>"
            ],
            "text/plain": [
              "<liblet.utils.CYKTable at 0x7f4fa9e8f190>"
            ]
          },
          "execution_count": 30,
          "metadata": {},
          "output_type": "execute_result"
        }
      ],
      "source": [
        "Rp"
      ]
    },
    {
      "cell_type": "markdown",
      "metadata": {},
      "source": [
        "Ora costruiamo (per una assegnata tabella `R`  e un assegnato `INPUT` la funzione `derives(ω, i, l)` che restituisce una lista se la forma sentenziale corispondete al primo argomento deriva (in base alle informaizoni nella tabella) la sottoparola dell'input lunga `l` che inizia dall'`i`-esimo simbolo, oppure `None`; la lista è un elenco di lungezze, ciascuna delle quali corrisponde a quanti simboli della sottoparola derivano da ciascun non terminale della forma sentenziale."
      ]
    },
    {
      "cell_type": "code",
      "execution_count": null,
      "metadata": {},
      "outputs": [],
      "source": [
        "def make_derives(R, INPUT):\n",
        "  def derives(ω, i, l):\n",
        "    if not ω or (ε, ) == ω: \n",
        "      return [] if l == 0 else None\n",
        "    X, *χ = ω\n",
        "    if X in G.T:\n",
        "      if i <= len(INPUT) and X == INPUT[i - 1]:\n",
        "        s = derives(χ, i + 1, l - 1)\n",
        "        if s is not None: return [1] + s\n",
        "    else:\n",
        "      for k in range(0, l + 1):\n",
        "        if X in R[i, k]:\n",
        "          s = derives(χ, i + k, l - k)\n",
        "          if s is not None: return [k] + s\n",
        "    return None\n",
        "  return derives"
      ]
    },
    {
      "cell_type": "code",
      "execution_count": null,
      "metadata": {},
      "outputs": [],
      "source": [
        "# costruiamo derive sulla tabella ed input precedenti\n",
        "\n",
        "derives = make_derives(Rp, INPUT)"
      ]
    },
    {
      "cell_type": "code",
      "execution_count": null,
      "metadata": {},
      "outputs": [
        {
          "data": {
            "text/plain": [
              "[2, 2, 3]"
            ]
          },
          "execution_count": 33,
          "metadata": {},
          "output_type": "execute_result"
        }
      ],
      "source": [
        "# una prova di esecuzione \n",
        "\n",
        "derives(['Integer', 'Fraction', 'Scale'], 1, len(INPUT))"
      ]
    },
    {
      "cell_type": "markdown",
      "metadata": {},
      "source": [
        "I tre non terminali (che sono il lato destro della produzione `Real -> Integer Fraction Scale`) producono l'input (ossia tutti e 7 i suoi simboli a partire dal primo) e più precisamente:\n",
        "\n",
        "- `Integer` produrrà '35' (una sottoparola lunga 2),\n",
        "- `Fraction` produrrà '.5' (una sottoparola lunga 2),\n",
        "- `Scale` produrrà 'e+1', (una sottoparola lunga 3).\n",
        "\n",
        "Una volta scritta la suddetta funzione basta seguire l'algoritmo descritto a partire da pag. 115."
      ]
    },
    {
      "cell_type": "code",
      "execution_count": null,
      "metadata": {},
      "outputs": [],
      "source": [
        "def get_original_leftmost_prods(G, derives, N):\n",
        "  def prods(X, i, l):\n",
        "    if X in G.T: return []\n",
        "    for A, α in filter(Production.such_that(lhs = X), G.P):\n",
        "      d = derives(α, i, l)\n",
        "      if d is None: continue\n",
        "      res = [G.P.index(Production(A, α))]\n",
        "      for B, l in zip(α, d): \n",
        "        res.extend(prods(B, i, l))\n",
        "        i += l\n",
        "      return res\n",
        "  return prods(G.S, 1, N)"
      ]
    },
    {
      "cell_type": "markdown",
      "metadata": {},
      "source": [
        "Ora possiamo costruire (le produzioni, la derivazione e) l'albero nella grammatica originale!"
      ]
    },
    {
      "cell_type": "code",
      "execution_count": null,
      "metadata": {},
      "outputs": [
        {
          "data": {
            "text/plain": [
              "[1, 4, 3, 2, 11, 10, 5, 2, 13, 6, 18, 2, 9]"
            ]
          },
          "execution_count": 35,
          "metadata": {},
          "output_type": "execute_result"
        }
      ],
      "source": [
        "# le produzioni\n",
        "\n",
        "leftmost_prods = get_original_leftmost_prods(G, derives, len(INPUT))\n",
        "leftmost_prods"
      ]
    },
    {
      "cell_type": "code",
      "execution_count": null,
      "metadata": {},
      "outputs": [
        {
          "data": {
            "text/plain": [
              "Number -> Real -> Integer Fraction Scale -> Integer Digit Fraction Scale -> Digit Digit Fraction Scale -> 3 Digit Fraction Scale -> 3 2 Fraction Scale -> 3 2 . Integer Scale -> 3 2 . Digit Scale -> 3 2 . 5 Scale -> 3 2 . 5 e Sign Integer -> 3 2 . 5 e + Integer -> 3 2 . 5 e + Digit -> 3 2 . 5 e + 1"
            ]
          },
          "execution_count": 36,
          "metadata": {},
          "output_type": "execute_result"
        }
      ],
      "source": [
        "# la derivazione\n",
        "\n",
        "d = Derivation(G).leftmost(leftmost_prods)\n",
        "d"
      ]
    },
    {
      "cell_type": "code",
      "execution_count": null,
      "metadata": {},
      "outputs": [
        {
          "data": {
            "image/svg+xml": [
              "<?xml version=\"1.0\" encoding=\"UTF-8\" standalone=\"no\"?>\n",
              "<!DOCTYPE svg PUBLIC \"-//W3C//DTD SVG 1.1//EN\"\n",
              " \"http://www.w3.org/Graphics/SVG/1.1/DTD/svg11.dtd\">\n",
              "<!-- Generated by graphviz version 2.43.0 (0)\n",
              " -->\n",
              "<!-- Title: %3 Pages: 1 -->\n",
              "<svg width=\"354pt\" height=\"236pt\"\n",
              " viewBox=\"0.00 0.00 354.00 236.00\" xmlns=\"http://www.w3.org/2000/svg\" xmlns:xlink=\"http://www.w3.org/1999/xlink\">\n",
              "<g id=\"graph0\" class=\"graph\" transform=\"scale(1 1) rotate(0) translate(4 232)\">\n",
              "<title>%3</title>\n",
              "<polygon fill=\"white\" stroke=\"transparent\" points=\"-4,4 -4,-232 350,-232 350,4 -4,4\"/>\n",
              "<!-- &#45;1911209762249042198 -->\n",
              "<g id=\"node1\" class=\"node\">\n",
              "<title>&#45;1911209762249042198</title>\n",
              "<path fill=\"none\" stroke=\"black\" stroke-width=\"0.25\" d=\"M176.83,-228C176.83,-228 138.17,-228 138.17,-228 134.33,-228 130.5,-224.17 130.5,-220.33 130.5,-220.33 130.5,-212.67 130.5,-212.67 130.5,-208.83 134.33,-205 138.17,-205 138.17,-205 176.83,-205 176.83,-205 180.67,-205 184.5,-208.83 184.5,-212.67 184.5,-212.67 184.5,-220.33 184.5,-220.33 184.5,-224.17 180.67,-228 176.83,-228\"/>\n",
              "<text text-anchor=\"middle\" x=\"157.5\" y=\"-212.8\" font-family=\"Times,serif\" font-size=\"14.00\">Number</text>\n",
              "</g>\n",
              "<!-- &#45;2239910166655338505 -->\n",
              "<g id=\"node2\" class=\"node\">\n",
              "<title>&#45;2239910166655338505</title>\n",
              "<path fill=\"none\" stroke=\"black\" stroke-width=\"0.25\" d=\"M166.33,-187C166.33,-187 148.67,-187 148.67,-187 144.83,-187 141,-183.17 141,-179.33 141,-179.33 141,-171.67 141,-171.67 141,-167.83 144.83,-164 148.67,-164 148.67,-164 166.33,-164 166.33,-164 170.17,-164 174,-167.83 174,-171.67 174,-171.67 174,-179.33 174,-179.33 174,-183.17 170.17,-187 166.33,-187\"/>\n",
              "<text text-anchor=\"middle\" x=\"157.5\" y=\"-171.8\" font-family=\"Times,serif\" font-size=\"14.00\">Real</text>\n",
              "</g>\n",
              "<!-- &#45;1911209762249042198&#45;&gt;&#45;2239910166655338505 -->\n",
              "<g id=\"edge1\" class=\"edge\">\n",
              "<title>&#45;1911209762249042198&#45;&gt;&#45;2239910166655338505</title>\n",
              "<path fill=\"none\" stroke=\"black\" stroke-width=\"0.5\" d=\"M157.5,-204.84C157.5,-199.34 157.5,-192.65 157.5,-187.14\"/>\n",
              "</g>\n",
              "<!-- &#45;6666157879386370607 -->\n",
              "<g id=\"node3\" class=\"node\">\n",
              "<title>&#45;6666157879386370607</title>\n",
              "<path fill=\"none\" stroke=\"black\" stroke-width=\"0.25\" d=\"M101.33,-146C101.33,-146 69.67,-146 69.67,-146 65.83,-146 62,-142.17 62,-138.33 62,-138.33 62,-130.67 62,-130.67 62,-126.83 65.83,-123 69.67,-123 69.67,-123 101.33,-123 101.33,-123 105.17,-123 109,-126.83 109,-130.67 109,-130.67 109,-138.33 109,-138.33 109,-142.17 105.17,-146 101.33,-146\"/>\n",
              "<text text-anchor=\"middle\" x=\"85.5\" y=\"-130.8\" font-family=\"Times,serif\" font-size=\"14.00\">Integer</text>\n",
              "</g>\n",
              "<!-- &#45;2239910166655338505&#45;&gt;&#45;6666157879386370607 -->\n",
              "<g id=\"edge2\" class=\"edge\">\n",
              "<title>&#45;2239910166655338505&#45;&gt;&#45;6666157879386370607</title>\n",
              "<path fill=\"none\" stroke=\"black\" stroke-width=\"0.5\" d=\"M140.8,-165.45C130.08,-159.65 116.12,-152.09 104.91,-146.02\"/>\n",
              "</g>\n",
              "<!-- 631596975405177921 -->\n",
              "<g id=\"node4\" class=\"node\">\n",
              "<title>631596975405177921</title>\n",
              "<path fill=\"none\" stroke=\"black\" stroke-width=\"0.25\" d=\"M176.83,-146C176.83,-146 138.17,-146 138.17,-146 134.33,-146 130.5,-142.17 130.5,-138.33 130.5,-138.33 130.5,-130.67 130.5,-130.67 130.5,-126.83 134.33,-123 138.17,-123 138.17,-123 176.83,-123 176.83,-123 180.67,-123 184.5,-126.83 184.5,-130.67 184.5,-130.67 184.5,-138.33 184.5,-138.33 184.5,-142.17 180.67,-146 176.83,-146\"/>\n",
              "<text text-anchor=\"middle\" x=\"157.5\" y=\"-130.8\" font-family=\"Times,serif\" font-size=\"14.00\">Fraction</text>\n",
              "</g>\n",
              "<!-- &#45;2239910166655338505&#45;&gt;631596975405177921 -->\n",
              "<g id=\"edge3\" class=\"edge\">\n",
              "<title>&#45;2239910166655338505&#45;&gt;631596975405177921</title>\n",
              "<path fill=\"none\" stroke=\"black\" stroke-width=\"0.5\" d=\"M157.5,-163.84C157.5,-158.34 157.5,-151.65 157.5,-146.14\"/>\n",
              "</g>\n",
              "<!-- 8050913423039727430 -->\n",
              "<g id=\"node5\" class=\"node\">\n",
              "<title>8050913423039727430</title>\n",
              "<path fill=\"none\" stroke=\"black\" stroke-width=\"0.25\" d=\"M233.83,-146C233.83,-146 211.17,-146 211.17,-146 207.33,-146 203.5,-142.17 203.5,-138.33 203.5,-138.33 203.5,-130.67 203.5,-130.67 203.5,-126.83 207.33,-123 211.17,-123 211.17,-123 233.83,-123 233.83,-123 237.67,-123 241.5,-126.83 241.5,-130.67 241.5,-130.67 241.5,-138.33 241.5,-138.33 241.5,-142.17 237.67,-146 233.83,-146\"/>\n",
              "<text text-anchor=\"middle\" x=\"222.5\" y=\"-130.8\" font-family=\"Times,serif\" font-size=\"14.00\">Scale</text>\n",
              "</g>\n",
              "<!-- &#45;2239910166655338505&#45;&gt;8050913423039727430 -->\n",
              "<g id=\"edge4\" class=\"edge\">\n",
              "<title>&#45;2239910166655338505&#45;&gt;8050913423039727430</title>\n",
              "<path fill=\"none\" stroke=\"black\" stroke-width=\"0.5\" d=\"M174.24,-164.46C183.57,-158.86 195.18,-151.89 204.68,-146.19\"/>\n",
              "</g>\n",
              "<!-- &#45;6666157879386370607&#45;&gt;631596975405177921 -->\n",
              "<!-- 3183990772578017445 -->\n",
              "<g id=\"node6\" class=\"node\">\n",
              "<title>3183990772578017445</title>\n",
              "<path fill=\"none\" stroke=\"black\" stroke-width=\"0.25\" d=\"M39.33,-105C39.33,-105 7.67,-105 7.67,-105 3.83,-105 0,-101.17 0,-97.33 0,-97.33 0,-89.67 0,-89.67 0,-85.83 3.83,-82 7.67,-82 7.67,-82 39.33,-82 39.33,-82 43.17,-82 47,-85.83 47,-89.67 47,-89.67 47,-97.33 47,-97.33 47,-101.17 43.17,-105 39.33,-105\"/>\n",
              "<text text-anchor=\"middle\" x=\"23.5\" y=\"-89.8\" font-family=\"Times,serif\" font-size=\"14.00\">Integer</text>\n",
              "</g>\n",
              "<!-- &#45;6666157879386370607&#45;&gt;3183990772578017445 -->\n",
              "<g id=\"edge7\" class=\"edge\">\n",
              "<title>&#45;6666157879386370607&#45;&gt;3183990772578017445</title>\n",
              "<path fill=\"none\" stroke=\"black\" stroke-width=\"0.5\" d=\"M68.56,-122.84C59.81,-117.34 49.17,-110.65 40.42,-105.14\"/>\n",
              "</g>\n",
              "<!-- 8510311389442596568 -->\n",
              "<g id=\"node7\" class=\"node\">\n",
              "<title>8510311389442596568</title>\n",
              "<path fill=\"none\" stroke=\"black\" stroke-width=\"0.25\" d=\"M93.83,-105C93.83,-105 73.17,-105 73.17,-105 69.33,-105 65.5,-101.17 65.5,-97.33 65.5,-97.33 65.5,-89.67 65.5,-89.67 65.5,-85.83 69.33,-82 73.17,-82 73.17,-82 93.83,-82 93.83,-82 97.67,-82 101.5,-85.83 101.5,-89.67 101.5,-89.67 101.5,-97.33 101.5,-97.33 101.5,-101.17 97.67,-105 93.83,-105\"/>\n",
              "<text text-anchor=\"middle\" x=\"83.5\" y=\"-89.8\" font-family=\"Times,serif\" font-size=\"14.00\">Digit</text>\n",
              "</g>\n",
              "<!-- &#45;6666157879386370607&#45;&gt;8510311389442596568 -->\n",
              "<g id=\"edge8\" class=\"edge\">\n",
              "<title>&#45;6666157879386370607&#45;&gt;8510311389442596568</title>\n",
              "<path fill=\"none\" stroke=\"black\" stroke-width=\"0.5\" d=\"M84.95,-122.84C84.67,-117.34 84.33,-110.65 84.05,-105.14\"/>\n",
              "</g>\n",
              "<!-- 631596975405177921&#45;&gt;8050913423039727430 -->\n",
              "<!-- 3595386911029734428 -->\n",
              "<g id=\"node11\" class=\"node\">\n",
              "<title>3595386911029734428</title>\n",
              "<path fill=\"none\" stroke=\"black\" stroke-width=\"1.25\" d=\"M127.5,-105C127.5,-105 123.5,-105 123.5,-105 121.5,-105 119.5,-103 119.5,-101 119.5,-101 119.5,-86 119.5,-86 119.5,-84 121.5,-82 123.5,-82 123.5,-82 127.5,-82 127.5,-82 129.5,-82 131.5,-84 131.5,-86 131.5,-86 131.5,-101 131.5,-101 131.5,-103 129.5,-105 127.5,-105\"/>\n",
              "<text text-anchor=\"middle\" x=\"125.5\" y=\"-89.8\" font-family=\"Times,serif\" font-size=\"14.00\">.</text>\n",
              "</g>\n",
              "<!-- 631596975405177921&#45;&gt;3595386911029734428 -->\n",
              "<g id=\"edge13\" class=\"edge\">\n",
              "<title>631596975405177921&#45;&gt;3595386911029734428</title>\n",
              "<path fill=\"none\" stroke=\"black\" stroke-width=\"0.5\" d=\"M148.76,-122.84C143.28,-116.17 136.36,-107.74 131.5,-101.81\"/>\n",
              "</g>\n",
              "<!-- &#45;6645099810482979942 -->\n",
              "<g id=\"node12\" class=\"node\">\n",
              "<title>&#45;6645099810482979942</title>\n",
              "<path fill=\"none\" stroke=\"black\" stroke-width=\"0.25\" d=\"M189.33,-105C189.33,-105 157.67,-105 157.67,-105 153.83,-105 150,-101.17 150,-97.33 150,-97.33 150,-89.67 150,-89.67 150,-85.83 153.83,-82 157.67,-82 157.67,-82 189.33,-82 189.33,-82 193.17,-82 197,-85.83 197,-89.67 197,-89.67 197,-97.33 197,-97.33 197,-101.17 193.17,-105 189.33,-105\"/>\n",
              "<text text-anchor=\"middle\" x=\"173.5\" y=\"-89.8\" font-family=\"Times,serif\" font-size=\"14.00\">Integer</text>\n",
              "</g>\n",
              "<!-- 631596975405177921&#45;&gt;&#45;6645099810482979942 -->\n",
              "<g id=\"edge14\" class=\"edge\">\n",
              "<title>631596975405177921&#45;&gt;&#45;6645099810482979942</title>\n",
              "<path fill=\"none\" stroke=\"black\" stroke-width=\"0.5\" d=\"M161.87,-122.84C164.13,-117.34 166.88,-110.65 169.13,-105.14\"/>\n",
              "</g>\n",
              "<!-- 5366582185960510512 -->\n",
              "<g id=\"node15\" class=\"node\">\n",
              "<title>5366582185960510512</title>\n",
              "<path fill=\"none\" stroke=\"black\" stroke-width=\"1.25\" d=\"M225,-105C225,-105 220,-105 220,-105 217.5,-105 215,-102.5 215,-100 215,-100 215,-87 215,-87 215,-84.5 217.5,-82 220,-82 220,-82 225,-82 225,-82 227.5,-82 230,-84.5 230,-87 230,-87 230,-100 230,-100 230,-102.5 227.5,-105 225,-105\"/>\n",
              "<text text-anchor=\"middle\" x=\"222.5\" y=\"-89.8\" font-family=\"Times,serif\" font-size=\"14.00\">e</text>\n",
              "</g>\n",
              "<!-- 8050913423039727430&#45;&gt;5366582185960510512 -->\n",
              "<g id=\"edge18\" class=\"edge\">\n",
              "<title>8050913423039727430&#45;&gt;5366582185960510512</title>\n",
              "<path fill=\"none\" stroke=\"black\" stroke-width=\"0.5\" d=\"M222.5,-122.84C222.5,-117.34 222.5,-110.65 222.5,-105.14\"/>\n",
              "</g>\n",
              "<!-- 2010065010982405237 -->\n",
              "<g id=\"node16\" class=\"node\">\n",
              "<title>2010065010982405237</title>\n",
              "<path fill=\"none\" stroke=\"black\" stroke-width=\"0.25\" d=\"M273.33,-105C273.33,-105 255.67,-105 255.67,-105 251.83,-105 248,-101.17 248,-97.33 248,-97.33 248,-89.67 248,-89.67 248,-85.83 251.83,-82 255.67,-82 255.67,-82 273.33,-82 273.33,-82 277.17,-82 281,-85.83 281,-89.67 281,-89.67 281,-97.33 281,-97.33 281,-101.17 277.17,-105 273.33,-105\"/>\n",
              "<text text-anchor=\"middle\" x=\"264.5\" y=\"-89.8\" font-family=\"Times,serif\" font-size=\"14.00\">Sign</text>\n",
              "</g>\n",
              "<!-- 8050913423039727430&#45;&gt;2010065010982405237 -->\n",
              "<g id=\"edge19\" class=\"edge\">\n",
              "<title>8050913423039727430&#45;&gt;2010065010982405237</title>\n",
              "<path fill=\"none\" stroke=\"black\" stroke-width=\"0.5\" d=\"M233.98,-122.84C239.9,-117.34 247.11,-110.65 253.04,-105.14\"/>\n",
              "</g>\n",
              "<!-- &#45;831565683163956940 -->\n",
              "<g id=\"node17\" class=\"node\">\n",
              "<title>&#45;831565683163956940</title>\n",
              "<path fill=\"none\" stroke=\"black\" stroke-width=\"0.25\" d=\"M338.33,-105C338.33,-105 306.67,-105 306.67,-105 302.83,-105 299,-101.17 299,-97.33 299,-97.33 299,-89.67 299,-89.67 299,-85.83 302.83,-82 306.67,-82 306.67,-82 338.33,-82 338.33,-82 342.17,-82 346,-85.83 346,-89.67 346,-89.67 346,-97.33 346,-97.33 346,-101.17 342.17,-105 338.33,-105\"/>\n",
              "<text text-anchor=\"middle\" x=\"322.5\" y=\"-89.8\" font-family=\"Times,serif\" font-size=\"14.00\">Integer</text>\n",
              "</g>\n",
              "<!-- 8050913423039727430&#45;&gt;&#45;831565683163956940 -->\n",
              "<g id=\"edge20\" class=\"edge\">\n",
              "<title>8050913423039727430&#45;&gt;&#45;831565683163956940</title>\n",
              "<path fill=\"none\" stroke=\"black\" stroke-width=\"0.5\" d=\"M241.78,-125.98C258.01,-119.65 281.3,-110.57 298.69,-103.79\"/>\n",
              "</g>\n",
              "<!-- 3183990772578017445&#45;&gt;8510311389442596568 -->\n",
              "<!-- 4806789996670129370 -->\n",
              "<g id=\"node8\" class=\"node\">\n",
              "<title>4806789996670129370</title>\n",
              "<path fill=\"none\" stroke=\"black\" stroke-width=\"0.25\" d=\"M33.83,-64C33.83,-64 13.17,-64 13.17,-64 9.33,-64 5.5,-60.17 5.5,-56.33 5.5,-56.33 5.5,-48.67 5.5,-48.67 5.5,-44.83 9.33,-41 13.17,-41 13.17,-41 33.83,-41 33.83,-41 37.67,-41 41.5,-44.83 41.5,-48.67 41.5,-48.67 41.5,-56.33 41.5,-56.33 41.5,-60.17 37.67,-64 33.83,-64\"/>\n",
              "<text text-anchor=\"middle\" x=\"23.5\" y=\"-48.8\" font-family=\"Times,serif\" font-size=\"14.00\">Digit</text>\n",
              "</g>\n",
              "<!-- 3183990772578017445&#45;&gt;4806789996670129370 -->\n",
              "<g id=\"edge10\" class=\"edge\">\n",
              "<title>3183990772578017445&#45;&gt;4806789996670129370</title>\n",
              "<path fill=\"none\" stroke=\"black\" stroke-width=\"0.5\" d=\"M23.5,-81.84C23.5,-76.34 23.5,-69.65 23.5,-64.14\"/>\n",
              "</g>\n",
              "<!-- &#45;7430487736077463799 -->\n",
              "<g id=\"node10\" class=\"node\">\n",
              "<title>&#45;7430487736077463799</title>\n",
              "<path fill=\"none\" stroke=\"black\" stroke-width=\"1.25\" d=\"M86,-64C86,-64 81,-64 81,-64 78.5,-64 76,-61.5 76,-59 76,-59 76,-46 76,-46 76,-43.5 78.5,-41 81,-41 81,-41 86,-41 86,-41 88.5,-41 91,-43.5 91,-46 91,-46 91,-59 91,-59 91,-61.5 88.5,-64 86,-64\"/>\n",
              "<text text-anchor=\"middle\" x=\"83.5\" y=\"-48.8\" font-family=\"Times,serif\" font-size=\"14.00\">2</text>\n",
              "</g>\n",
              "<!-- 8510311389442596568&#45;&gt;&#45;7430487736077463799 -->\n",
              "<g id=\"edge12\" class=\"edge\">\n",
              "<title>8510311389442596568&#45;&gt;&#45;7430487736077463799</title>\n",
              "<path fill=\"none\" stroke=\"black\" stroke-width=\"0.5\" d=\"M83.5,-81.84C83.5,-76.34 83.5,-69.65 83.5,-64.14\"/>\n",
              "</g>\n",
              "<!-- 8744134342257404483 -->\n",
              "<g id=\"node9\" class=\"node\">\n",
              "<title>8744134342257404483</title>\n",
              "<path fill=\"none\" stroke=\"black\" stroke-width=\"1.25\" d=\"M26,-23C26,-23 21,-23 21,-23 18.5,-23 16,-20.5 16,-18 16,-18 16,-5 16,-5 16,-2.5 18.5,0 21,0 21,0 26,0 26,0 28.5,0 31,-2.5 31,-5 31,-5 31,-18 31,-18 31,-20.5 28.5,-23 26,-23\"/>\n",
              "<text text-anchor=\"middle\" x=\"23.5\" y=\"-7.8\" font-family=\"Times,serif\" font-size=\"14.00\">3</text>\n",
              "</g>\n",
              "<!-- 4806789996670129370&#45;&gt;8744134342257404483 -->\n",
              "<g id=\"edge11\" class=\"edge\">\n",
              "<title>4806789996670129370&#45;&gt;8744134342257404483</title>\n",
              "<path fill=\"none\" stroke=\"black\" stroke-width=\"0.5\" d=\"M23.5,-40.84C23.5,-35.34 23.5,-28.65 23.5,-23.14\"/>\n",
              "</g>\n",
              "<!-- 3595386911029734428&#45;&gt;&#45;6645099810482979942 -->\n",
              "<!-- &#45;5370403767487948571 -->\n",
              "<g id=\"node13\" class=\"node\">\n",
              "<title>&#45;5370403767487948571</title>\n",
              "<path fill=\"none\" stroke=\"black\" stroke-width=\"0.25\" d=\"M183.83,-64C183.83,-64 163.17,-64 163.17,-64 159.33,-64 155.5,-60.17 155.5,-56.33 155.5,-56.33 155.5,-48.67 155.5,-48.67 155.5,-44.83 159.33,-41 163.17,-41 163.17,-41 183.83,-41 183.83,-41 187.67,-41 191.5,-44.83 191.5,-48.67 191.5,-48.67 191.5,-56.33 191.5,-56.33 191.5,-60.17 187.67,-64 183.83,-64\"/>\n",
              "<text text-anchor=\"middle\" x=\"173.5\" y=\"-48.8\" font-family=\"Times,serif\" font-size=\"14.00\">Digit</text>\n",
              "</g>\n",
              "<!-- &#45;6645099810482979942&#45;&gt;&#45;5370403767487948571 -->\n",
              "<g id=\"edge16\" class=\"edge\">\n",
              "<title>&#45;6645099810482979942&#45;&gt;&#45;5370403767487948571</title>\n",
              "<path fill=\"none\" stroke=\"black\" stroke-width=\"0.5\" d=\"M173.5,-81.84C173.5,-76.34 173.5,-69.65 173.5,-64.14\"/>\n",
              "</g>\n",
              "<!-- 573277697878266329 -->\n",
              "<g id=\"node14\" class=\"node\">\n",
              "<title>573277697878266329</title>\n",
              "<path fill=\"none\" stroke=\"black\" stroke-width=\"1.25\" d=\"M176,-23C176,-23 171,-23 171,-23 168.5,-23 166,-20.5 166,-18 166,-18 166,-5 166,-5 166,-2.5 168.5,0 171,0 171,0 176,0 176,0 178.5,0 181,-2.5 181,-5 181,-5 181,-18 181,-18 181,-20.5 178.5,-23 176,-23\"/>\n",
              "<text text-anchor=\"middle\" x=\"173.5\" y=\"-7.8\" font-family=\"Times,serif\" font-size=\"14.00\">5</text>\n",
              "</g>\n",
              "<!-- &#45;5370403767487948571&#45;&gt;573277697878266329 -->\n",
              "<g id=\"edge17\" class=\"edge\">\n",
              "<title>&#45;5370403767487948571&#45;&gt;573277697878266329</title>\n",
              "<path fill=\"none\" stroke=\"black\" stroke-width=\"0.5\" d=\"M173.5,-40.84C173.5,-35.34 173.5,-28.65 173.5,-23.14\"/>\n",
              "</g>\n",
              "<!-- 5366582185960510512&#45;&gt;2010065010982405237 -->\n",
              "<!-- 2010065010982405237&#45;&gt;&#45;831565683163956940 -->\n",
              "<!-- &#45;1276263100277963325 -->\n",
              "<g id=\"node18\" class=\"node\">\n",
              "<title>&#45;1276263100277963325</title>\n",
              "<path fill=\"none\" stroke=\"black\" stroke-width=\"1.25\" d=\"M267.33,-64C267.33,-64 261.67,-64 261.67,-64 258.83,-64 256,-61.17 256,-58.33 256,-58.33 256,-46.67 256,-46.67 256,-43.83 258.83,-41 261.67,-41 261.67,-41 267.33,-41 267.33,-41 270.17,-41 273,-43.83 273,-46.67 273,-46.67 273,-58.33 273,-58.33 273,-61.17 270.17,-64 267.33,-64\"/>\n",
              "<text text-anchor=\"middle\" x=\"264.5\" y=\"-48.8\" font-family=\"Times,serif\" font-size=\"14.00\">+</text>\n",
              "</g>\n",
              "<!-- 2010065010982405237&#45;&gt;&#45;1276263100277963325 -->\n",
              "<g id=\"edge23\" class=\"edge\">\n",
              "<title>2010065010982405237&#45;&gt;&#45;1276263100277963325</title>\n",
              "<path fill=\"none\" stroke=\"black\" stroke-width=\"0.5\" d=\"M264.5,-81.84C264.5,-76.34 264.5,-69.65 264.5,-64.14\"/>\n",
              "</g>\n",
              "<!-- &#45;3260391032941392767 -->\n",
              "<g id=\"node19\" class=\"node\">\n",
              "<title>&#45;3260391032941392767</title>\n",
              "<path fill=\"none\" stroke=\"black\" stroke-width=\"0.25\" d=\"M332.83,-64C332.83,-64 312.17,-64 312.17,-64 308.33,-64 304.5,-60.17 304.5,-56.33 304.5,-56.33 304.5,-48.67 304.5,-48.67 304.5,-44.83 308.33,-41 312.17,-41 312.17,-41 332.83,-41 332.83,-41 336.67,-41 340.5,-44.83 340.5,-48.67 340.5,-48.67 340.5,-56.33 340.5,-56.33 340.5,-60.17 336.67,-64 332.83,-64\"/>\n",
              "<text text-anchor=\"middle\" x=\"322.5\" y=\"-48.8\" font-family=\"Times,serif\" font-size=\"14.00\">Digit</text>\n",
              "</g>\n",
              "<!-- &#45;831565683163956940&#45;&gt;&#45;3260391032941392767 -->\n",
              "<g id=\"edge24\" class=\"edge\">\n",
              "<title>&#45;831565683163956940&#45;&gt;&#45;3260391032941392767</title>\n",
              "<path fill=\"none\" stroke=\"black\" stroke-width=\"0.5\" d=\"M322.5,-81.84C322.5,-76.34 322.5,-69.65 322.5,-64.14\"/>\n",
              "</g>\n",
              "<!-- &#45;4740366379548700907 -->\n",
              "<g id=\"node20\" class=\"node\">\n",
              "<title>&#45;4740366379548700907</title>\n",
              "<path fill=\"none\" stroke=\"black\" stroke-width=\"1.25\" d=\"M325,-23C325,-23 320,-23 320,-23 317.5,-23 315,-20.5 315,-18 315,-18 315,-5 315,-5 315,-2.5 317.5,0 320,0 320,0 325,0 325,0 327.5,0 330,-2.5 330,-5 330,-5 330,-18 330,-18 330,-20.5 327.5,-23 325,-23\"/>\n",
              "<text text-anchor=\"middle\" x=\"322.5\" y=\"-7.8\" font-family=\"Times,serif\" font-size=\"14.00\">1</text>\n",
              "</g>\n",
              "<!-- &#45;3260391032941392767&#45;&gt;&#45;4740366379548700907 -->\n",
              "<g id=\"edge25\" class=\"edge\">\n",
              "<title>&#45;3260391032941392767&#45;&gt;&#45;4740366379548700907</title>\n",
              "<path fill=\"none\" stroke=\"black\" stroke-width=\"0.5\" d=\"M322.5,-40.84C322.5,-35.34 322.5,-28.65 322.5,-23.14\"/>\n",
              "</g>\n",
              "</g>\n",
              "</svg>\n"
            ],
            "text/plain": [
              "ProductionGraph(Number -> Real -> Integer Fraction Scale -> Integer Digit Fraction Scale -> Digit Digit Fraction Scale -> 3 Digit Fraction Scale -> 3 2 Fraction Scale -> 3 2 . Integer Scale -> 3 2 . Digit Scale -> 3 2 . 5 Scale -> 3 2 . 5 e Sign Integer -> 3 2 . 5 e + Integer -> 3 2 . 5 e + Digit -> 3 2 . 5 e + 1)"
            ]
          },
          "execution_count": 37,
          "metadata": {},
          "output_type": "execute_result"
        }
      ],
      "source": [
        "# l'albero\n",
        "\n",
        "ProductionGraph(d)"
      ]
    },
    {
      "cell_type": "markdown",
      "metadata": {},
      "source": [
        "### E le ε-produzioni?"
      ]
    },
    {
      "cell_type": "code",
      "execution_count": null,
      "metadata": {},
      "outputs": [],
      "source": [
        "INPUT = tuple('32.5')"
      ]
    },
    {
      "cell_type": "code",
      "execution_count": null,
      "metadata": {},
      "outputs": [],
      "source": [
        "Rp = cyk(Gp_cnf, INPUT)\n",
        "Rε = {A for A in Gp_cnf.N if (ε, ) in Gp_cnf.alternatives(A)}\n",
        "for i in range(1, len(INPUT) + 2): Rp[i, 0] = Rε"
      ]
    },
    {
      "cell_type": "code",
      "execution_count": null,
      "metadata": {},
      "outputs": [],
      "source": [
        "leftmost_prods = get_original_leftmost_prods(G, make_derives(Rp, INPUT), len(INPUT))"
      ]
    },
    {
      "cell_type": "code",
      "execution_count": null,
      "metadata": {},
      "outputs": [
        {
          "data": {
            "image/svg+xml": [
              "<?xml version=\"1.0\" encoding=\"UTF-8\" standalone=\"no\"?>\n",
              "<!DOCTYPE svg PUBLIC \"-//W3C//DTD SVG 1.1//EN\"\n",
              " \"http://www.w3.org/Graphics/SVG/1.1/DTD/svg11.dtd\">\n",
              "<!-- Generated by graphviz version 2.43.0 (0)\n",
              " -->\n",
              "<!-- Title: %3 Pages: 1 -->\n",
              "<svg width=\"268pt\" height=\"236pt\"\n",
              " viewBox=\"0.00 0.00 268.00 236.00\" xmlns=\"http://www.w3.org/2000/svg\" xmlns:xlink=\"http://www.w3.org/1999/xlink\">\n",
              "<g id=\"graph0\" class=\"graph\" transform=\"scale(1 1) rotate(0) translate(4 232)\">\n",
              "<title>%3</title>\n",
              "<polygon fill=\"white\" stroke=\"transparent\" points=\"-4,4 -4,-232 264,-232 264,4 -4,4\"/>\n",
              "<!-- &#45;1911209762249042198 -->\n",
              "<g id=\"node1\" class=\"node\">\n",
              "<title>&#45;1911209762249042198</title>\n",
              "<path fill=\"none\" stroke=\"black\" stroke-width=\"0.25\" d=\"M171.83,-228C171.83,-228 133.17,-228 133.17,-228 129.33,-228 125.5,-224.17 125.5,-220.33 125.5,-220.33 125.5,-212.67 125.5,-212.67 125.5,-208.83 129.33,-205 133.17,-205 133.17,-205 171.83,-205 171.83,-205 175.67,-205 179.5,-208.83 179.5,-212.67 179.5,-212.67 179.5,-220.33 179.5,-220.33 179.5,-224.17 175.67,-228 171.83,-228\"/>\n",
              "<text text-anchor=\"middle\" x=\"152.5\" y=\"-212.8\" font-family=\"Times,serif\" font-size=\"14.00\">Number</text>\n",
              "</g>\n",
              "<!-- &#45;2239910166655338505 -->\n",
              "<g id=\"node2\" class=\"node\">\n",
              "<title>&#45;2239910166655338505</title>\n",
              "<path fill=\"none\" stroke=\"black\" stroke-width=\"0.25\" d=\"M161.33,-187C161.33,-187 143.67,-187 143.67,-187 139.83,-187 136,-183.17 136,-179.33 136,-179.33 136,-171.67 136,-171.67 136,-167.83 139.83,-164 143.67,-164 143.67,-164 161.33,-164 161.33,-164 165.17,-164 169,-167.83 169,-171.67 169,-171.67 169,-179.33 169,-179.33 169,-183.17 165.17,-187 161.33,-187\"/>\n",
              "<text text-anchor=\"middle\" x=\"152.5\" y=\"-171.8\" font-family=\"Times,serif\" font-size=\"14.00\">Real</text>\n",
              "</g>\n",
              "<!-- &#45;1911209762249042198&#45;&gt;&#45;2239910166655338505 -->\n",
              "<g id=\"edge1\" class=\"edge\">\n",
              "<title>&#45;1911209762249042198&#45;&gt;&#45;2239910166655338505</title>\n",
              "<path fill=\"none\" stroke=\"black\" stroke-width=\"0.5\" d=\"M152.5,-204.84C152.5,-199.34 152.5,-192.65 152.5,-187.14\"/>\n",
              "</g>\n",
              "<!-- &#45;6666157879386370607 -->\n",
              "<g id=\"node3\" class=\"node\">\n",
              "<title>&#45;6666157879386370607</title>\n",
              "<path fill=\"none\" stroke=\"black\" stroke-width=\"0.25\" d=\"M99.33,-146C99.33,-146 67.67,-146 67.67,-146 63.83,-146 60,-142.17 60,-138.33 60,-138.33 60,-130.67 60,-130.67 60,-126.83 63.83,-123 67.67,-123 67.67,-123 99.33,-123 99.33,-123 103.17,-123 107,-126.83 107,-130.67 107,-130.67 107,-138.33 107,-138.33 107,-142.17 103.17,-146 99.33,-146\"/>\n",
              "<text text-anchor=\"middle\" x=\"83.5\" y=\"-130.8\" font-family=\"Times,serif\" font-size=\"14.00\">Integer</text>\n",
              "</g>\n",
              "<!-- &#45;2239910166655338505&#45;&gt;&#45;6666157879386370607 -->\n",
              "<g id=\"edge2\" class=\"edge\">\n",
              "<title>&#45;2239910166655338505&#45;&gt;&#45;6666157879386370607</title>\n",
              "<path fill=\"none\" stroke=\"black\" stroke-width=\"0.5\" d=\"M135.8,-165.06C125.75,-159.38 112.92,-152.13 102.49,-146.23\"/>\n",
              "</g>\n",
              "<!-- 631596975405177921 -->\n",
              "<g id=\"node4\" class=\"node\">\n",
              "<title>631596975405177921</title>\n",
              "<path fill=\"none\" stroke=\"black\" stroke-width=\"0.25\" d=\"M171.83,-146C171.83,-146 133.17,-146 133.17,-146 129.33,-146 125.5,-142.17 125.5,-138.33 125.5,-138.33 125.5,-130.67 125.5,-130.67 125.5,-126.83 129.33,-123 133.17,-123 133.17,-123 171.83,-123 171.83,-123 175.67,-123 179.5,-126.83 179.5,-130.67 179.5,-130.67 179.5,-138.33 179.5,-138.33 179.5,-142.17 175.67,-146 171.83,-146\"/>\n",
              "<text text-anchor=\"middle\" x=\"152.5\" y=\"-130.8\" font-family=\"Times,serif\" font-size=\"14.00\">Fraction</text>\n",
              "</g>\n",
              "<!-- &#45;2239910166655338505&#45;&gt;631596975405177921 -->\n",
              "<g id=\"edge3\" class=\"edge\">\n",
              "<title>&#45;2239910166655338505&#45;&gt;631596975405177921</title>\n",
              "<path fill=\"none\" stroke=\"black\" stroke-width=\"0.5\" d=\"M152.5,-163.84C152.5,-158.34 152.5,-151.65 152.5,-146.14\"/>\n",
              "</g>\n",
              "<!-- 8050913423039727430 -->\n",
              "<g id=\"node5\" class=\"node\">\n",
              "<title>8050913423039727430</title>\n",
              "<path fill=\"none\" stroke=\"black\" stroke-width=\"0.25\" d=\"M227.83,-146C227.83,-146 205.17,-146 205.17,-146 201.33,-146 197.5,-142.17 197.5,-138.33 197.5,-138.33 197.5,-130.67 197.5,-130.67 197.5,-126.83 201.33,-123 205.17,-123 205.17,-123 227.83,-123 227.83,-123 231.67,-123 235.5,-126.83 235.5,-130.67 235.5,-130.67 235.5,-138.33 235.5,-138.33 235.5,-142.17 231.67,-146 227.83,-146\"/>\n",
              "<text text-anchor=\"middle\" x=\"216.5\" y=\"-130.8\" font-family=\"Times,serif\" font-size=\"14.00\">Scale</text>\n",
              "</g>\n",
              "<!-- &#45;2239910166655338505&#45;&gt;8050913423039727430 -->\n",
              "<g id=\"edge4\" class=\"edge\">\n",
              "<title>&#45;2239910166655338505&#45;&gt;8050913423039727430</title>\n",
              "<path fill=\"none\" stroke=\"black\" stroke-width=\"0.5\" d=\"M169.32,-164.25C178.5,-158.66 189.86,-151.74 199.13,-146.09\"/>\n",
              "</g>\n",
              "<!-- &#45;6666157879386370607&#45;&gt;631596975405177921 -->\n",
              "<!-- 3183990772578017445 -->\n",
              "<g id=\"node6\" class=\"node\">\n",
              "<title>3183990772578017445</title>\n",
              "<path fill=\"none\" stroke=\"black\" stroke-width=\"0.25\" d=\"M39.33,-105C39.33,-105 7.67,-105 7.67,-105 3.83,-105 0,-101.17 0,-97.33 0,-97.33 0,-89.67 0,-89.67 0,-85.83 3.83,-82 7.67,-82 7.67,-82 39.33,-82 39.33,-82 43.17,-82 47,-85.83 47,-89.67 47,-89.67 47,-97.33 47,-97.33 47,-101.17 43.17,-105 39.33,-105\"/>\n",
              "<text text-anchor=\"middle\" x=\"23.5\" y=\"-89.8\" font-family=\"Times,serif\" font-size=\"14.00\">Integer</text>\n",
              "</g>\n",
              "<!-- &#45;6666157879386370607&#45;&gt;3183990772578017445 -->\n",
              "<g id=\"edge7\" class=\"edge\">\n",
              "<title>&#45;6666157879386370607&#45;&gt;3183990772578017445</title>\n",
              "<path fill=\"none\" stroke=\"black\" stroke-width=\"0.5\" d=\"M67.1,-122.84C58.64,-117.34 48.34,-110.65 39.88,-105.14\"/>\n",
              "</g>\n",
              "<!-- 8510311389442596568 -->\n",
              "<g id=\"node7\" class=\"node\">\n",
              "<title>8510311389442596568</title>\n",
              "<path fill=\"none\" stroke=\"black\" stroke-width=\"0.25\" d=\"M93.83,-105C93.83,-105 73.17,-105 73.17,-105 69.33,-105 65.5,-101.17 65.5,-97.33 65.5,-97.33 65.5,-89.67 65.5,-89.67 65.5,-85.83 69.33,-82 73.17,-82 73.17,-82 93.83,-82 93.83,-82 97.67,-82 101.5,-85.83 101.5,-89.67 101.5,-89.67 101.5,-97.33 101.5,-97.33 101.5,-101.17 97.67,-105 93.83,-105\"/>\n",
              "<text text-anchor=\"middle\" x=\"83.5\" y=\"-89.8\" font-family=\"Times,serif\" font-size=\"14.00\">Digit</text>\n",
              "</g>\n",
              "<!-- &#45;6666157879386370607&#45;&gt;8510311389442596568 -->\n",
              "<g id=\"edge8\" class=\"edge\">\n",
              "<title>&#45;6666157879386370607&#45;&gt;8510311389442596568</title>\n",
              "<path fill=\"none\" stroke=\"black\" stroke-width=\"0.5\" d=\"M83.5,-122.84C83.5,-117.34 83.5,-110.65 83.5,-105.14\"/>\n",
              "</g>\n",
              "<!-- 631596975405177921&#45;&gt;8050913423039727430 -->\n",
              "<!-- 3595386911029734428 -->\n",
              "<g id=\"node11\" class=\"node\">\n",
              "<title>3595386911029734428</title>\n",
              "<path fill=\"none\" stroke=\"black\" stroke-width=\"1.25\" d=\"M127.5,-105C127.5,-105 123.5,-105 123.5,-105 121.5,-105 119.5,-103 119.5,-101 119.5,-101 119.5,-86 119.5,-86 119.5,-84 121.5,-82 123.5,-82 123.5,-82 127.5,-82 127.5,-82 129.5,-82 131.5,-84 131.5,-86 131.5,-86 131.5,-101 131.5,-101 131.5,-103 129.5,-105 127.5,-105\"/>\n",
              "<text text-anchor=\"middle\" x=\"125.5\" y=\"-89.8\" font-family=\"Times,serif\" font-size=\"14.00\">.</text>\n",
              "</g>\n",
              "<!-- 631596975405177921&#45;&gt;3595386911029734428 -->\n",
              "<g id=\"edge13\" class=\"edge\">\n",
              "<title>631596975405177921&#45;&gt;3595386911029734428</title>\n",
              "<path fill=\"none\" stroke=\"black\" stroke-width=\"0.5\" d=\"M145.12,-122.84C140.88,-116.71 135.6,-109.09 131.59,-103.3\"/>\n",
              "</g>\n",
              "<!-- &#45;6645099810482979942 -->\n",
              "<g id=\"node12\" class=\"node\">\n",
              "<title>&#45;6645099810482979942</title>\n",
              "<path fill=\"none\" stroke=\"black\" stroke-width=\"0.25\" d=\"M189.33,-105C189.33,-105 157.67,-105 157.67,-105 153.83,-105 150,-101.17 150,-97.33 150,-97.33 150,-89.67 150,-89.67 150,-85.83 153.83,-82 157.67,-82 157.67,-82 189.33,-82 189.33,-82 193.17,-82 197,-85.83 197,-89.67 197,-89.67 197,-97.33 197,-97.33 197,-101.17 193.17,-105 189.33,-105\"/>\n",
              "<text text-anchor=\"middle\" x=\"173.5\" y=\"-89.8\" font-family=\"Times,serif\" font-size=\"14.00\">Integer</text>\n",
              "</g>\n",
              "<!-- 631596975405177921&#45;&gt;&#45;6645099810482979942 -->\n",
              "<g id=\"edge14\" class=\"edge\">\n",
              "<title>631596975405177921&#45;&gt;&#45;6645099810482979942</title>\n",
              "<path fill=\"none\" stroke=\"black\" stroke-width=\"0.5\" d=\"M158.24,-122.84C161.2,-117.34 164.81,-110.65 167.77,-105.14\"/>\n",
              "</g>\n",
              "<!-- 886515031780921114 -->\n",
              "<g id=\"node15\" class=\"node\">\n",
              "<title>886515031780921114</title>\n",
              "<path fill=\"none\" stroke=\"black\" stroke-width=\"0.25\" d=\"M252.33,-105C252.33,-105 222.67,-105 222.67,-105 218.83,-105 215,-101.17 215,-97.33 215,-97.33 215,-89.67 215,-89.67 215,-85.83 218.83,-82 222.67,-82 222.67,-82 252.33,-82 252.33,-82 256.17,-82 260,-85.83 260,-89.67 260,-89.67 260,-97.33 260,-97.33 260,-101.17 256.17,-105 252.33,-105\"/>\n",
              "<text text-anchor=\"middle\" x=\"237.5\" y=\"-89.8\" font-family=\"Times,serif\" font-size=\"14.00\">Empty</text>\n",
              "</g>\n",
              "<!-- 8050913423039727430&#45;&gt;886515031780921114 -->\n",
              "<g id=\"edge18\" class=\"edge\">\n",
              "<title>8050913423039727430&#45;&gt;886515031780921114</title>\n",
              "<path fill=\"none\" stroke=\"black\" stroke-width=\"0.5\" d=\"M222.24,-122.84C225.2,-117.34 228.81,-110.65 231.77,-105.14\"/>\n",
              "</g>\n",
              "<!-- 3183990772578017445&#45;&gt;8510311389442596568 -->\n",
              "<!-- 4806789996670129370 -->\n",
              "<g id=\"node8\" class=\"node\">\n",
              "<title>4806789996670129370</title>\n",
              "<path fill=\"none\" stroke=\"black\" stroke-width=\"0.25\" d=\"M33.83,-64C33.83,-64 13.17,-64 13.17,-64 9.33,-64 5.5,-60.17 5.5,-56.33 5.5,-56.33 5.5,-48.67 5.5,-48.67 5.5,-44.83 9.33,-41 13.17,-41 13.17,-41 33.83,-41 33.83,-41 37.67,-41 41.5,-44.83 41.5,-48.67 41.5,-48.67 41.5,-56.33 41.5,-56.33 41.5,-60.17 37.67,-64 33.83,-64\"/>\n",
              "<text text-anchor=\"middle\" x=\"23.5\" y=\"-48.8\" font-family=\"Times,serif\" font-size=\"14.00\">Digit</text>\n",
              "</g>\n",
              "<!-- 3183990772578017445&#45;&gt;4806789996670129370 -->\n",
              "<g id=\"edge10\" class=\"edge\">\n",
              "<title>3183990772578017445&#45;&gt;4806789996670129370</title>\n",
              "<path fill=\"none\" stroke=\"black\" stroke-width=\"0.5\" d=\"M23.5,-81.84C23.5,-76.34 23.5,-69.65 23.5,-64.14\"/>\n",
              "</g>\n",
              "<!-- &#45;7430487736077463799 -->\n",
              "<g id=\"node10\" class=\"node\">\n",
              "<title>&#45;7430487736077463799</title>\n",
              "<path fill=\"none\" stroke=\"black\" stroke-width=\"1.25\" d=\"M86,-64C86,-64 81,-64 81,-64 78.5,-64 76,-61.5 76,-59 76,-59 76,-46 76,-46 76,-43.5 78.5,-41 81,-41 81,-41 86,-41 86,-41 88.5,-41 91,-43.5 91,-46 91,-46 91,-59 91,-59 91,-61.5 88.5,-64 86,-64\"/>\n",
              "<text text-anchor=\"middle\" x=\"83.5\" y=\"-48.8\" font-family=\"Times,serif\" font-size=\"14.00\">2</text>\n",
              "</g>\n",
              "<!-- 8510311389442596568&#45;&gt;&#45;7430487736077463799 -->\n",
              "<g id=\"edge12\" class=\"edge\">\n",
              "<title>8510311389442596568&#45;&gt;&#45;7430487736077463799</title>\n",
              "<path fill=\"none\" stroke=\"black\" stroke-width=\"0.5\" d=\"M83.5,-81.84C83.5,-76.34 83.5,-69.65 83.5,-64.14\"/>\n",
              "</g>\n",
              "<!-- 8744134342257404483 -->\n",
              "<g id=\"node9\" class=\"node\">\n",
              "<title>8744134342257404483</title>\n",
              "<path fill=\"none\" stroke=\"black\" stroke-width=\"1.25\" d=\"M26,-23C26,-23 21,-23 21,-23 18.5,-23 16,-20.5 16,-18 16,-18 16,-5 16,-5 16,-2.5 18.5,0 21,0 21,0 26,0 26,0 28.5,0 31,-2.5 31,-5 31,-5 31,-18 31,-18 31,-20.5 28.5,-23 26,-23\"/>\n",
              "<text text-anchor=\"middle\" x=\"23.5\" y=\"-7.8\" font-family=\"Times,serif\" font-size=\"14.00\">3</text>\n",
              "</g>\n",
              "<!-- 4806789996670129370&#45;&gt;8744134342257404483 -->\n",
              "<g id=\"edge11\" class=\"edge\">\n",
              "<title>4806789996670129370&#45;&gt;8744134342257404483</title>\n",
              "<path fill=\"none\" stroke=\"black\" stroke-width=\"0.5\" d=\"M23.5,-40.84C23.5,-35.34 23.5,-28.65 23.5,-23.14\"/>\n",
              "</g>\n",
              "<!-- 3595386911029734428&#45;&gt;&#45;6645099810482979942 -->\n",
              "<!-- &#45;5370403767487948571 -->\n",
              "<g id=\"node13\" class=\"node\">\n",
              "<title>&#45;5370403767487948571</title>\n",
              "<path fill=\"none\" stroke=\"black\" stroke-width=\"0.25\" d=\"M183.83,-64C183.83,-64 163.17,-64 163.17,-64 159.33,-64 155.5,-60.17 155.5,-56.33 155.5,-56.33 155.5,-48.67 155.5,-48.67 155.5,-44.83 159.33,-41 163.17,-41 163.17,-41 183.83,-41 183.83,-41 187.67,-41 191.5,-44.83 191.5,-48.67 191.5,-48.67 191.5,-56.33 191.5,-56.33 191.5,-60.17 187.67,-64 183.83,-64\"/>\n",
              "<text text-anchor=\"middle\" x=\"173.5\" y=\"-48.8\" font-family=\"Times,serif\" font-size=\"14.00\">Digit</text>\n",
              "</g>\n",
              "<!-- &#45;6645099810482979942&#45;&gt;&#45;5370403767487948571 -->\n",
              "<g id=\"edge16\" class=\"edge\">\n",
              "<title>&#45;6645099810482979942&#45;&gt;&#45;5370403767487948571</title>\n",
              "<path fill=\"none\" stroke=\"black\" stroke-width=\"0.5\" d=\"M173.5,-81.84C173.5,-76.34 173.5,-69.65 173.5,-64.14\"/>\n",
              "</g>\n",
              "<!-- 573277697878266329 -->\n",
              "<g id=\"node14\" class=\"node\">\n",
              "<title>573277697878266329</title>\n",
              "<path fill=\"none\" stroke=\"black\" stroke-width=\"1.25\" d=\"M176,-23C176,-23 171,-23 171,-23 168.5,-23 166,-20.5 166,-18 166,-18 166,-5 166,-5 166,-2.5 168.5,0 171,0 171,0 176,0 176,0 178.5,0 181,-2.5 181,-5 181,-5 181,-18 181,-18 181,-20.5 178.5,-23 176,-23\"/>\n",
              "<text text-anchor=\"middle\" x=\"173.5\" y=\"-7.8\" font-family=\"Times,serif\" font-size=\"14.00\">5</text>\n",
              "</g>\n",
              "<!-- &#45;5370403767487948571&#45;&gt;573277697878266329 -->\n",
              "<g id=\"edge17\" class=\"edge\">\n",
              "<title>&#45;5370403767487948571&#45;&gt;573277697878266329</title>\n",
              "<path fill=\"none\" stroke=\"black\" stroke-width=\"0.5\" d=\"M173.5,-40.84C173.5,-35.34 173.5,-28.65 173.5,-23.14\"/>\n",
              "</g>\n",
              "<!-- 4962650383712177207 -->\n",
              "<g id=\"node16\" class=\"node\">\n",
              "<title>4962650383712177207</title>\n",
              "<path fill=\"none\" stroke=\"black\" stroke-width=\"0.25\" d=\"M240,-64C240,-64 235,-64 235,-64 232.5,-64 230,-61.5 230,-59 230,-59 230,-46 230,-46 230,-43.5 232.5,-41 235,-41 235,-41 240,-41 240,-41 242.5,-41 245,-43.5 245,-46 245,-46 245,-59 245,-59 245,-61.5 242.5,-64 240,-64\"/>\n",
              "<text text-anchor=\"middle\" x=\"237.5\" y=\"-48.8\" font-family=\"Times,serif\" font-size=\"14.00\">ε</text>\n",
              "</g>\n",
              "<!-- 886515031780921114&#45;&gt;4962650383712177207 -->\n",
              "<g id=\"edge19\" class=\"edge\">\n",
              "<title>886515031780921114&#45;&gt;4962650383712177207</title>\n",
              "<path fill=\"none\" stroke=\"black\" stroke-width=\"0.5\" d=\"M237.5,-81.84C237.5,-76.34 237.5,-69.65 237.5,-64.14\"/>\n",
              "</g>\n",
              "</g>\n",
              "</svg>\n"
            ],
            "text/plain": [
              "ProductionGraph(Number -> Real -> Integer Fraction Scale -> Integer Digit Fraction Scale -> Digit Digit Fraction Scale -> 3 Digit Fraction Scale -> 3 2 Fraction Scale -> 3 2 . Integer Scale -> 3 2 . Digit Scale -> 3 2 . 5 Scale -> 3 2 . 5 Empty -> 3 2 . 5)"
            ]
          },
          "execution_count": 41,
          "metadata": {},
          "output_type": "execute_result"
        }
      ],
      "source": [
        "ProductionGraph(Derivation(G).leftmost(leftmost_prods))    "
      ]
    }
  ],
  "metadata": {
    "kernelspec": {
      "display_name": "Python 3",
      "language": "python",
      "name": "python3"
    },
    "language_info": {
      "codemirror_mode": {
        "name": "ipython",
        "version": 3
      },
      "file_extension": ".py",
      "mimetype": "text/x-python",
      "name": "python",
      "nbconvert_exporter": "python",
      "pygments_lexer": "ipython3"
    }
  },
  "nbformat": 4,
  "nbformat_minor": 4
}
