{
  "cells": [
    {
      "attachments": {},
      "cell_type": "markdown",
      "metadata": {},
      "source": [
        "# L'algoritmo CYK\n"
      ]
    },
    {
      "cell_type": "code",
      "execution_count": null,
      "metadata": {},
      "outputs": [],
      "source": [
        "from itertools import count\n",
        "\n",
        "from liblet import (\n",
        "  Tree, Grammar, Production, Derivation, ProductionGraph, CYKTable, closure, union_of, ε\n",
        ")"
      ]
    },
    {
      "attachments": {},
      "cell_type": "markdown",
      "metadata": {},
      "source": [
        "## La tabella `R` e la sua relazione con l'input"
      ]
    },
    {
      "cell_type": "code",
      "execution_count": null,
      "metadata": {},
      "outputs": [
        {
          "data": {
            "text/html": [
              "<style>td, th {border: 1pt solid lightgray !important ;}</style><table><tr><td style=\"text-align:left\"><pre>unaprova</pre></td><tr><td style=\"text-align:left\"><pre>unaprov</pre></td><td style=\"text-align:left\"><pre>naprova</pre></td><tr><td style=\"text-align:left\"><pre>unapro</pre></td><td style=\"text-align:left\"><pre>naprov</pre></td><td style=\"text-align:left\"><pre>aprova</pre></td><tr><td style=\"text-align:left\"><pre>unapr</pre></td><td style=\"text-align:left\"><pre>napro</pre></td><td style=\"text-align:left\"><pre>aprov</pre></td><td style=\"text-align:left\"><pre>prova</pre></td><tr><td style=\"text-align:left\"><pre>unap</pre></td><td style=\"text-align:left\"><pre>napr</pre></td><td style=\"text-align:left\"><pre>apro</pre></td><td style=\"text-align:left\"><pre>prov</pre></td><td style=\"text-align:left\"><pre>rova</pre></td><tr><td style=\"text-align:left\"><pre>una</pre></td><td style=\"text-align:left\"><pre>nap</pre></td><td style=\"text-align:left\"><pre>apr</pre></td><td style=\"text-align:left\"><pre>pro</pre></td><td style=\"text-align:left\"><pre>rov</pre></td><td style=\"text-align:left\"><pre>ova</pre></td><tr><td style=\"text-align:left\"><pre>un</pre></td><td style=\"text-align:left\"><pre>na</pre></td><td style=\"text-align:left\"><pre>ap</pre></td><td style=\"text-align:left\"><pre>pr</pre></td><td style=\"text-align:left\"><pre>ro</pre></td><td style=\"text-align:left\"><pre>ov</pre></td><td style=\"text-align:left\"><pre>va</pre></td><tr><td style=\"text-align:left\"><pre>u</pre></td><td style=\"text-align:left\"><pre>n</pre></td><td style=\"text-align:left\"><pre>a</pre></td><td style=\"text-align:left\"><pre>p</pre></td><td style=\"text-align:left\"><pre>r</pre></td><td style=\"text-align:left\"><pre>o</pre></td><td style=\"text-align:left\"><pre>v</pre></td><td style=\"text-align:left\"><pre>a</pre></td></table>"
            ],
            "text/plain": [
              "<liblet.utils.CYKTable at 0x7d9a6c383790>"
            ]
          },
          "execution_count": 2,
          "metadata": {},
          "output_type": "execute_result"
        }
      ],
      "source": [
        "INPUT = 'unaprova'\n",
        "\n",
        "n = len(INPUT)\n",
        "\n",
        "R = CYKTable()\n",
        "for l in range(1, n + 1):\n",
        "  for i in range(1, n - l + 2): \n",
        "    R[i, l] = INPUT[(i) - 1: (i + l) - 1]\n",
        "\n",
        "R"
      ]
    },
    {
      "cell_type": "markdown",
      "metadata": {},
      "source": [
        "## Due modi per riempire la tabella…\n",
        "\n",
        "Supponendo di avere la funzione `fill(R, i, l)` che restituisce il valore di `R[(i, l)`."
      ]
    },
    {
      "cell_type": "code",
      "execution_count": null,
      "metadata": {},
      "outputs": [],
      "source": [
        "def offline(fill, n):\n",
        "  R = CYKTable()\n",
        "  for l in range(1, n + 1):\n",
        "    for i in range(1, n - l + 2): \n",
        "      R[i, l] = fill(R, i, l)\n",
        "  return R"
      ]
    },
    {
      "cell_type": "code",
      "execution_count": null,
      "metadata": {},
      "outputs": [],
      "source": [
        "def online(fill, n):\n",
        "  R = CYKTable()\n",
        "  for d in range(1, n + 1):\n",
        "    for i in range(d, 0, -1):\n",
        "      R[i, d - i + 1] = fill(R, i, d - i + 1)\n",
        "  return R"
      ]
    },
    {
      "cell_type": "markdown",
      "metadata": {},
      "source": [
        "La seguente funzione `make_counter_fill` restituisce una funzione `fill` che, ignorando i parametri, restituisce un numero progressivo (usando `count` del modulo `itertools`)."
      ]
    },
    {
      "cell_type": "code",
      "execution_count": null,
      "metadata": {},
      "outputs": [],
      "source": [
        "def make_counter_fill():\n",
        "  cnt = count(1)\n",
        "  def fill(R, i, l):\n",
        "    return next(cnt)\n",
        "  return fill"
      ]
    },
    {
      "cell_type": "markdown",
      "metadata": {},
      "source": [
        "Usando `offline` e `online` con il contatore si visualizza l'ordine di riempimento"
      ]
    },
    {
      "cell_type": "code",
      "execution_count": null,
      "metadata": {},
      "outputs": [
        {
          "data": {
            "text/html": [
              "<style>td, th {border: 1pt solid lightgray !important ;}</style><table><tr><td style=\"text-align:left\"><pre>15</pre></td><tr><td style=\"text-align:left\"><pre>13</pre></td><td style=\"text-align:left\"><pre>14</pre></td><tr><td style=\"text-align:left\"><pre>10</pre></td><td style=\"text-align:left\"><pre>11</pre></td><td style=\"text-align:left\"><pre>12</pre></td><tr><td style=\"text-align:left\"><pre>6</pre></td><td style=\"text-align:left\"><pre>7</pre></td><td style=\"text-align:left\"><pre>8</pre></td><td style=\"text-align:left\"><pre>9</pre></td><tr><td style=\"text-align:left\"><pre>1</pre></td><td style=\"text-align:left\"><pre>2</pre></td><td style=\"text-align:left\"><pre>3</pre></td><td style=\"text-align:left\"><pre>4</pre></td><td style=\"text-align:left\"><pre>5</pre></td></table>"
            ],
            "text/plain": [
              "<liblet.utils.CYKTable at 0x7d9a6c383670>"
            ]
          },
          "execution_count": 6,
          "metadata": {},
          "output_type": "execute_result"
        }
      ],
      "source": [
        "offline(make_counter_fill(), 5)"
      ]
    },
    {
      "cell_type": "code",
      "execution_count": null,
      "metadata": {},
      "outputs": [
        {
          "data": {
            "text/html": [
              "<style>td, th {border: 1pt solid lightgray !important ;}</style><table><tr><td style=\"text-align:left\"><pre>15</pre></td><tr><td style=\"text-align:left\"><pre>10</pre></td><td style=\"text-align:left\"><pre>14</pre></td><tr><td style=\"text-align:left\"><pre>6</pre></td><td style=\"text-align:left\"><pre>9</pre></td><td style=\"text-align:left\"><pre>13</pre></td><tr><td style=\"text-align:left\"><pre>3</pre></td><td style=\"text-align:left\"><pre>5</pre></td><td style=\"text-align:left\"><pre>8</pre></td><td style=\"text-align:left\"><pre>12</pre></td><tr><td style=\"text-align:left\"><pre>1</pre></td><td style=\"text-align:left\"><pre>2</pre></td><td style=\"text-align:left\"><pre>4</pre></td><td style=\"text-align:left\"><pre>7</pre></td><td style=\"text-align:left\"><pre>11</pre></td></table>"
            ],
            "text/plain": [
              "<liblet.utils.CYKTable at 0x7d9a6c383a90>"
            ]
          },
          "execution_count": 7,
          "metadata": {},
          "output_type": "execute_result"
        }
      ],
      "source": [
        "online(make_counter_fill(), 5)"
      ]
    },
    {
      "cell_type": "markdown",
      "metadata": {},
      "source": [
        "## Filtrare le produzioni coi predicati\n",
        "\n",
        "Usando la funzione *builtin* `filter` e un *predicato*  si può ottenere un sottoiteratore."
      ]
    },
    {
      "cell_type": "code",
      "execution_count": null,
      "metadata": {},
      "outputs": [
        {
          "data": {
            "text/plain": [
              "[0, 2, 4, 6, 8]"
            ]
          },
          "execution_count": 8,
          "metadata": {},
          "output_type": "execute_result"
        }
      ],
      "source": [
        "def pari(x):\n",
        "  return x % 2 == 0\n",
        "\n",
        "list(filter(pari, range(10)))"
      ]
    },
    {
      "cell_type": "markdown",
      "metadata": {},
      "source": [
        "Vediamo due predicati per le produzioni…"
      ]
    },
    {
      "cell_type": "code",
      "execution_count": null,
      "metadata": {},
      "outputs": [],
      "source": [
        "prods = Production.from_string(\"\"\"\n",
        "A -> a\n",
        "A -> B C\n",
        "\"\"\")"
      ]
    },
    {
      "cell_type": "code",
      "execution_count": null,
      "metadata": {},
      "outputs": [
        {
          "data": {
            "text/plain": [
              "[A -> B C]"
            ]
          },
          "execution_count": 10,
          "metadata": {},
          "output_type": "execute_result"
        }
      ],
      "source": [
        "# quelle con rhs lungo 2\n",
        "\n",
        "list(filter(Production.such_that(rhs_len = 2), prods))"
      ]
    },
    {
      "cell_type": "code",
      "execution_count": null,
      "metadata": {},
      "outputs": [
        {
          "data": {
            "text/plain": [
              "[A -> a]"
            ]
          },
          "execution_count": 11,
          "metadata": {},
          "output_type": "execute_result"
        }
      ],
      "source": [
        "# e quelle con rhs lungo 1\n",
        "\n",
        "list(filter(Production.such_that(rhs_len = 1), prods))"
      ]
    },
    {
      "attachments": {},
      "cell_type": "markdown",
      "metadata": {},
      "source": [
        "## Il riempimento dell'algoritmo CYK nel caso CNF\n",
        "\n",
        "Supponiamo che la grammatica sia in *Chomsky Normal Form*, ovvero le produzioni abbiano la forma $A\\to BC$ o $A\\to a$ (senza ε-regole)."
      ]
    },
    {
      "cell_type": "code",
      "execution_count": null,
      "metadata": {},
      "outputs": [],
      "source": [
        "def cyk_fill(G, INPUT):\n",
        "  def fill(R, i, l):\n",
        "    res = set()\n",
        "    if l == 1:\n",
        "      for A, (a,) in filter(Production.such_that(rhs_len = 1), G.P): \n",
        "        if a == INPUT[i - 1]: res.add(A)\n",
        "    else:\n",
        "      for k in range(1, l):\n",
        "        for A, (B, C) in filter(Production.such_that(rhs_len = 2), G.P):\n",
        "          if B in R[i, k] and C in R[i + k, l - k]: res.add(A)\n",
        "    return res\n",
        "  return fill"
      ]
    },
    {
      "cell_type": "markdown",
      "metadata": {},
      "source": [
        "Qualche esempio su una grammatica per `a`$^n$`.`"
      ]
    },
    {
      "cell_type": "code",
      "execution_count": null,
      "metadata": {},
      "outputs": [],
      "source": [
        "G = Grammar.from_string(\"\"\"\n",
        "S -> A S\n",
        "A -> a\n",
        "S -> .\n",
        "\"\"\")"
      ]
    },
    {
      "cell_type": "code",
      "execution_count": null,
      "metadata": {},
      "outputs": [
        {
          "data": {
            "text/html": [
              "<style>td, th {border: 1pt solid lightgray !important ;}</style><table><tr><td style=\"text-align:left\"><pre>S</pre></td><tr><td style=\"text-align:left\"><pre>&nbsp;</pre></td><td style=\"text-align:left\"><pre>S</pre></td><tr><td style=\"text-align:left\"><pre>&nbsp;</pre></td><td style=\"text-align:left\"><pre>&nbsp;</pre></td><td style=\"text-align:left\"><pre>S</pre></td><tr><td style=\"text-align:left\"><pre>A</pre></td><td style=\"text-align:left\"><pre>A</pre></td><td style=\"text-align:left\"><pre>A</pre></td><td style=\"text-align:left\"><pre>S</pre></td></table>"
            ],
            "text/plain": [
              "<liblet.utils.CYKTable at 0x7d9a6c3836d0>"
            ]
          },
          "execution_count": 14,
          "metadata": {},
          "output_type": "execute_result"
        }
      ],
      "source": [
        "INPUT = 'aaa.'\n",
        "\n",
        "online(cyk_fill(G, INPUT), len(INPUT))"
      ]
    },
    {
      "cell_type": "code",
      "execution_count": null,
      "metadata": {},
      "outputs": [
        {
          "data": {
            "text/html": [
              "<style>td, th {border: 1pt solid lightgray !important ;}</style><table><tr><td style=\"text-align:left\"><pre>&nbsp;</pre></td><tr><td style=\"text-align:left\"><pre>&nbsp;</pre></td><td style=\"text-align:left\"><pre>&nbsp;</pre></td><tr><td style=\"text-align:left\"><pre>S</pre></td><td style=\"text-align:left\"><pre>&nbsp;</pre></td><td style=\"text-align:left\"><pre>&nbsp;</pre></td><tr><td style=\"text-align:left\"><pre>&nbsp;</pre></td><td style=\"text-align:left\"><pre>S</pre></td><td style=\"text-align:left\"><pre>&nbsp;</pre></td><td style=\"text-align:left\"><pre>S</pre></td><tr><td style=\"text-align:left\"><pre>A</pre></td><td style=\"text-align:left\"><pre>A</pre></td><td style=\"text-align:left\"><pre>S</pre></td><td style=\"text-align:left\"><pre>A</pre></td><td style=\"text-align:left\"><pre>S</pre></td></table>"
            ],
            "text/plain": [
              "<liblet.utils.CYKTable at 0x7d9a6c383460>"
            ]
          },
          "execution_count": 15,
          "metadata": {},
          "output_type": "execute_result"
        }
      ],
      "source": [
        "INPUT = 'aa.a.'\n",
        "\n",
        "online(cyk_fill(G, INPUT), len(INPUT))"
      ]
    },
    {
      "cell_type": "markdown",
      "metadata": {},
      "source": [
        "Una grammatica più complessa (per i numeri decimali con virgola, in notazione scientifica)"
      ]
    },
    {
      "cell_type": "code",
      "execution_count": null,
      "metadata": {},
      "outputs": [],
      "source": [
        "# fig. 4.15, pag. 123 \n",
        "\n",
        "G = Grammar.from_string(\"\"\"\n",
        "Number -> 0|1|2|3|4|5|6|7|8|9 \n",
        "Number -> Integer Digit\n",
        "Number -> N1 Scale' | Integer Fraction\n",
        "N1 -> Integer Fraction\n",
        "Integer -> 0|1|2|3|4|5|6|7|8|9 \n",
        "Integer -> Integer Digit\n",
        "Fraction -> T1 Integer\n",
        "T1 -> .\n",
        "Scale' -> N2 Integer\n",
        "N2 -> T2 Sign\n",
        "T2 -> e\n",
        "Digit -> 0|1|2|3|4|5|6|7|8|9 \n",
        "Sign -> + | -\n",
        "\"\"\")"
      ]
    },
    {
      "cell_type": "code",
      "execution_count": null,
      "metadata": {},
      "outputs": [],
      "source": [
        "# per comodità\n",
        "\n",
        "def cyk(G, INPUT):\n",
        "  return offline(cyk_fill(G, INPUT), len(INPUT))"
      ]
    },
    {
      "cell_type": "code",
      "execution_count": null,
      "metadata": {},
      "outputs": [
        {
          "data": {
            "text/html": [
              "<style>td, th {border: 1pt solid lightgray !important ;}</style><table><tr><td style=\"text-align:left\"><pre>Number</pre></td><tr><td style=\"text-align:left\"><pre>&nbsp;</pre></td><td style=\"text-align:left\"><pre>Number</pre></td><tr><td style=\"text-align:left\"><pre>&nbsp;</pre></td><td style=\"text-align:left\"><pre>&nbsp;</pre></td><td style=\"text-align:left\"><pre>&nbsp;</pre></td><tr><td style=\"text-align:left\"><pre>N1\n",
              "Number</pre></td><td style=\"text-align:left\"><pre>&nbsp;</pre></td><td style=\"text-align:left\"><pre>&nbsp;</pre></td><td style=\"text-align:left\"><pre>&nbsp;</pre></td><tr><td style=\"text-align:left\"><pre>&nbsp;</pre></td><td style=\"text-align:left\"><pre>N1\n",
              "Number</pre></td><td style=\"text-align:left\"><pre>&nbsp;</pre></td><td style=\"text-align:left\"><pre>&nbsp;</pre></td><td style=\"text-align:left\"><pre>Scale'</pre></td><tr><td style=\"text-align:left\"><pre>Integer\n",
              "Number</pre></td><td style=\"text-align:left\"><pre>&nbsp;</pre></td><td style=\"text-align:left\"><pre>Fraction</pre></td><td style=\"text-align:left\"><pre>&nbsp;</pre></td><td style=\"text-align:left\"><pre>N2</pre></td><td style=\"text-align:left\"><pre>&nbsp;</pre></td><tr><td style=\"text-align:left\"><pre>Digit\n",
              "Integer\n",
              "Number</pre></td><td style=\"text-align:left\"><pre>Digit\n",
              "Integer\n",
              "Number</pre></td><td style=\"text-align:left\"><pre>T1</pre></td><td style=\"text-align:left\"><pre>Digit\n",
              "Integer\n",
              "Number</pre></td><td style=\"text-align:left\"><pre>T2</pre></td><td style=\"text-align:left\"><pre>Sign</pre></td><td style=\"text-align:left\"><pre>Digit\n",
              "Integer\n",
              "Number</pre></td></table>"
            ],
            "text/plain": [
              "<liblet.utils.CYKTable at 0x7d9a6c3c8f70>"
            ]
          },
          "execution_count": 18,
          "metadata": {},
          "output_type": "execute_result"
        }
      ],
      "source": [
        "INPUT = '32.5e+1'\n",
        "\n",
        "R = cyk(G, INPUT)\n",
        "R"
      ]
    },
    {
      "cell_type": "markdown",
      "metadata": {},
      "source": [
        "## Generare l'albero di parsing (barando)\n",
        "\n",
        "La tabella contiene non terminali e, in accordo al criterio usato per riempirla, tali non terminali possono essere raccolti in un albero che ha l'aspetto di un albero di derivazione — anche se costruito senza riferimento alle produzioni (dal quale non è quindi banale ricostruire la derivazione).\n",
        "\n",
        "Scriviamo una funzione ricorsiva `fake_parse` che (usando tabella `R`, la grammatica `G` e l'input `INPUT`) dato un non terminale, il punto d'inizio e la lunghezza, restituisca l'albero di parsing radicato in quel non terminale e che deriva la sottostringa specificata."
      ]
    },
    {
      "cell_type": "code",
      "execution_count": null,
      "metadata": {},
      "outputs": [],
      "source": [
        "def fake_parse(X, i, l):\n",
        "  if l == 1: return Tree(X, [Tree(INPUT[i-1])])\n",
        "  for A, (B, C) in filter(Production.such_that(lhs = X, rhs_len = 2), G.P):\n",
        "    for k in range(1, l):\n",
        "      if B in R[i, k] and C in R[i + k, l - k]:\n",
        "        return Tree(A, [fake_parse(B, i, k), fake_parse(C, i + k, l - k)])"
      ]
    },
    {
      "cell_type": "code",
      "execution_count": null,
      "metadata": {},
      "outputs": [
        {
          "data": {
            "image/svg+xml": [
              "<?xml version=\"1.0\" encoding=\"UTF-8\" standalone=\"no\"?>\n",
              "<!DOCTYPE svg PUBLIC \"-//W3C//DTD SVG 1.1//EN\"\n",
              " \"http://www.w3.org/Graphics/SVG/1.1/DTD/svg11.dtd\">\n",
              "<!-- Generated by graphviz version 2.43.0 (0)\n",
              " -->\n",
              "<!-- Title: %3 Pages: 1 -->\n",
              "<svg width=\"397pt\" height=\"195pt\"\n",
              " viewBox=\"0.00 0.00 396.50 195.00\" xmlns=\"http://www.w3.org/2000/svg\" xmlns:xlink=\"http://www.w3.org/1999/xlink\">\n",
              "<g id=\"graph0\" class=\"graph\" transform=\"scale(1 1) rotate(0) translate(4 191)\">\n",
              "<title>%3</title>\n",
              "<polygon fill=\"white\" stroke=\"transparent\" points=\"-4,4 -4,-191 392.5,-191 392.5,4 -4,4\"/>\n",
              "<!-- 138102194350656 -->\n",
              "<g id=\"node1\" class=\"node\">\n",
              "<title>138102194350656</title>\n",
              "<path fill=\"none\" stroke=\"black\" stroke-width=\"0.25\" d=\"M263.33,-187C263.33,-187 211.67,-187 211.67,-187 207.83,-187 204,-183.17 204,-179.33 204,-179.33 204,-171.67 204,-171.67 204,-167.83 207.83,-164 211.67,-164 211.67,-164 263.33,-164 263.33,-164 267.17,-164 271,-167.83 271,-171.67 271,-171.67 271,-179.33 271,-179.33 271,-183.17 267.17,-187 263.33,-187\"/>\n",
              "<text text-anchor=\"middle\" x=\"237.5\" y=\"-171.8\" font-family=\"Times,serif\" font-size=\"14.00\">Number</text>\n",
              "</g>\n",
              "<!-- 138102194343600 -->\n",
              "<g id=\"node2\" class=\"node\">\n",
              "<title>138102194343600</title>\n",
              "<path fill=\"none\" stroke=\"black\" stroke-width=\"0.25\" d=\"M215.83,-146C215.83,-146 201.17,-146 201.17,-146 197.33,-146 193.5,-142.17 193.5,-138.33 193.5,-138.33 193.5,-130.67 193.5,-130.67 193.5,-126.83 197.33,-123 201.17,-123 201.17,-123 215.83,-123 215.83,-123 219.67,-123 223.5,-126.83 223.5,-130.67 223.5,-130.67 223.5,-138.33 223.5,-138.33 223.5,-142.17 219.67,-146 215.83,-146\"/>\n",
              "<text text-anchor=\"middle\" x=\"208.5\" y=\"-130.8\" font-family=\"Times,serif\" font-size=\"14.00\">N1</text>\n",
              "</g>\n",
              "<!-- 138102194350656&#45;&gt;138102194343600 -->\n",
              "<g id=\"edge1\" class=\"edge\">\n",
              "<title>138102194350656&#45;&gt;138102194343600</title>\n",
              "<path fill=\"none\" stroke=\"black\" d=\"M229.58,-163.84C225.48,-158.34 220.51,-151.65 216.41,-146.14\"/>\n",
              "</g>\n",
              "<!-- 138102194352960 -->\n",
              "<g id=\"node3\" class=\"node\">\n",
              "<title>138102194352960</title>\n",
              "<path fill=\"none\" stroke=\"black\" stroke-width=\"0.25\" d=\"M287.33,-146C287.33,-146 251.67,-146 251.67,-146 247.83,-146 244,-142.17 244,-138.33 244,-138.33 244,-130.67 244,-130.67 244,-126.83 247.83,-123 251.67,-123 251.67,-123 287.33,-123 287.33,-123 291.17,-123 295,-126.83 295,-130.67 295,-130.67 295,-138.33 295,-138.33 295,-142.17 291.17,-146 287.33,-146\"/>\n",
              "<text text-anchor=\"middle\" x=\"269.5\" y=\"-130.8\" font-family=\"Times,serif\" font-size=\"14.00\">Scale&#39;</text>\n",
              "</g>\n",
              "<!-- 138102194350656&#45;&gt;138102194352960 -->\n",
              "<g id=\"edge2\" class=\"edge\">\n",
              "<title>138102194350656&#45;&gt;138102194352960</title>\n",
              "<path fill=\"none\" stroke=\"black\" d=\"M246.24,-163.84C250.76,-158.34 256.25,-151.65 260.77,-146.14\"/>\n",
              "</g>\n",
              "<!-- 138102194343600&#45;&gt;138102194352960 -->\n",
              "<!-- 138102194343408 -->\n",
              "<g id=\"node4\" class=\"node\">\n",
              "<title>138102194343408</title>\n",
              "<path fill=\"none\" stroke=\"black\" stroke-width=\"0.25\" d=\"M131.33,-105C131.33,-105 85.67,-105 85.67,-105 81.83,-105 78,-101.17 78,-97.33 78,-97.33 78,-89.67 78,-89.67 78,-85.83 81.83,-82 85.67,-82 85.67,-82 131.33,-82 131.33,-82 135.17,-82 139,-85.83 139,-89.67 139,-89.67 139,-97.33 139,-97.33 139,-101.17 135.17,-105 131.33,-105\"/>\n",
              "<text text-anchor=\"middle\" x=\"108.5\" y=\"-89.8\" font-family=\"Times,serif\" font-size=\"14.00\">Integer</text>\n",
              "</g>\n",
              "<!-- 138102194343600&#45;&gt;138102194343408 -->\n",
              "<g id=\"edge4\" class=\"edge\">\n",
              "<title>138102194343600&#45;&gt;138102194343408</title>\n",
              "<path fill=\"none\" stroke=\"black\" d=\"M193.31,-127.58C178.01,-121.61 154.08,-112.28 135.54,-105.04\"/>\n",
              "</g>\n",
              "<!-- 138102194352144 -->\n",
              "<g id=\"node5\" class=\"node\">\n",
              "<title>138102194352144</title>\n",
              "<path fill=\"none\" stroke=\"black\" stroke-width=\"0.25\" d=\"M231.33,-105C231.33,-105 177.67,-105 177.67,-105 173.83,-105 170,-101.17 170,-97.33 170,-97.33 170,-89.67 170,-89.67 170,-85.83 173.83,-82 177.67,-82 177.67,-82 231.33,-82 231.33,-82 235.17,-82 239,-85.83 239,-89.67 239,-89.67 239,-97.33 239,-97.33 239,-101.17 235.17,-105 231.33,-105\"/>\n",
              "<text text-anchor=\"middle\" x=\"204.5\" y=\"-89.8\" font-family=\"Times,serif\" font-size=\"14.00\">Fraction</text>\n",
              "</g>\n",
              "<!-- 138102194343600&#45;&gt;138102194352144 -->\n",
              "<g id=\"edge5\" class=\"edge\">\n",
              "<title>138102194343600&#45;&gt;138102194352144</title>\n",
              "<path fill=\"none\" stroke=\"black\" d=\"M207.41,-122.84C206.84,-117.34 206.16,-110.65 205.59,-105.14\"/>\n",
              "</g>\n",
              "<!-- 138102194352288 -->\n",
              "<g id=\"node14\" class=\"node\">\n",
              "<title>138102194352288</title>\n",
              "<path fill=\"none\" stroke=\"black\" stroke-width=\"0.25\" d=\"M286.83,-105C286.83,-105 272.17,-105 272.17,-105 268.33,-105 264.5,-101.17 264.5,-97.33 264.5,-97.33 264.5,-89.67 264.5,-89.67 264.5,-85.83 268.33,-82 272.17,-82 272.17,-82 286.83,-82 286.83,-82 290.67,-82 294.5,-85.83 294.5,-89.67 294.5,-89.67 294.5,-97.33 294.5,-97.33 294.5,-101.17 290.67,-105 286.83,-105\"/>\n",
              "<text text-anchor=\"middle\" x=\"279.5\" y=\"-89.8\" font-family=\"Times,serif\" font-size=\"14.00\">N2</text>\n",
              "</g>\n",
              "<!-- 138102194352960&#45;&gt;138102194352288 -->\n",
              "<g id=\"edge17\" class=\"edge\">\n",
              "<title>138102194352960&#45;&gt;138102194352288</title>\n",
              "<path fill=\"none\" stroke=\"black\" d=\"M272.23,-122.84C273.64,-117.34 275.36,-110.65 276.77,-105.14\"/>\n",
              "</g>\n",
              "<!-- 138102194346480 -->\n",
              "<g id=\"node15\" class=\"node\">\n",
              "<title>138102194346480</title>\n",
              "<path fill=\"none\" stroke=\"black\" stroke-width=\"0.25\" d=\"M366.33,-105C366.33,-105 320.67,-105 320.67,-105 316.83,-105 313,-101.17 313,-97.33 313,-97.33 313,-89.67 313,-89.67 313,-85.83 316.83,-82 320.67,-82 320.67,-82 366.33,-82 366.33,-82 370.17,-82 374,-85.83 374,-89.67 374,-89.67 374,-97.33 374,-97.33 374,-101.17 370.17,-105 366.33,-105\"/>\n",
              "<text text-anchor=\"middle\" x=\"343.5\" y=\"-89.8\" font-family=\"Times,serif\" font-size=\"14.00\">Integer</text>\n",
              "</g>\n",
              "<!-- 138102194352960&#45;&gt;138102194346480 -->\n",
              "<g id=\"edge18\" class=\"edge\">\n",
              "<title>138102194352960&#45;&gt;138102194346480</title>\n",
              "<path fill=\"none\" stroke=\"black\" d=\"M289.72,-122.84C300.25,-117.3 313.07,-110.54 323.56,-105.01\"/>\n",
              "</g>\n",
              "<!-- 138102194343408&#45;&gt;138102194352144 -->\n",
              "<!-- 138102194342976 -->\n",
              "<g id=\"node6\" class=\"node\">\n",
              "<title>138102194342976</title>\n",
              "<path fill=\"none\" stroke=\"black\" stroke-width=\"0.25\" d=\"M53.33,-64C53.33,-64 7.67,-64 7.67,-64 3.83,-64 0,-60.17 0,-56.33 0,-56.33 0,-48.67 0,-48.67 0,-44.83 3.83,-41 7.67,-41 7.67,-41 53.33,-41 53.33,-41 57.17,-41 61,-44.83 61,-48.67 61,-48.67 61,-56.33 61,-56.33 61,-60.17 57.17,-64 53.33,-64\"/>\n",
              "<text text-anchor=\"middle\" x=\"30.5\" y=\"-48.8\" font-family=\"Times,serif\" font-size=\"14.00\">Integer</text>\n",
              "</g>\n",
              "<!-- 138102194343408&#45;&gt;138102194342976 -->\n",
              "<g id=\"edge7\" class=\"edge\">\n",
              "<title>138102194343408&#45;&gt;138102194342976</title>\n",
              "<path fill=\"none\" stroke=\"black\" d=\"M87.19,-81.84C76.09,-76.3 62.57,-69.54 51.52,-64.01\"/>\n",
              "</g>\n",
              "<!-- 138102194343168 -->\n",
              "<g id=\"node7\" class=\"node\">\n",
              "<title>138102194343168</title>\n",
              "<path fill=\"none\" stroke=\"black\" stroke-width=\"0.25\" d=\"M115.83,-64C115.83,-64 87.17,-64 87.17,-64 83.33,-64 79.5,-60.17 79.5,-56.33 79.5,-56.33 79.5,-48.67 79.5,-48.67 79.5,-44.83 83.33,-41 87.17,-41 87.17,-41 115.83,-41 115.83,-41 119.67,-41 123.5,-44.83 123.5,-48.67 123.5,-48.67 123.5,-56.33 123.5,-56.33 123.5,-60.17 119.67,-64 115.83,-64\"/>\n",
              "<text text-anchor=\"middle\" x=\"101.5\" y=\"-48.8\" font-family=\"Times,serif\" font-size=\"14.00\">Digit</text>\n",
              "</g>\n",
              "<!-- 138102194343408&#45;&gt;138102194343168 -->\n",
              "<g id=\"edge8\" class=\"edge\">\n",
              "<title>138102194343408&#45;&gt;138102194343168</title>\n",
              "<path fill=\"none\" stroke=\"black\" d=\"M106.59,-81.84C105.6,-76.34 104.4,-69.65 103.41,-64.14\"/>\n",
              "</g>\n",
              "<!-- 138102194342352 -->\n",
              "<g id=\"node10\" class=\"node\">\n",
              "<title>138102194342352</title>\n",
              "<path fill=\"none\" stroke=\"black\" stroke-width=\"0.25\" d=\"M161.33,-64C161.33,-64 149.67,-64 149.67,-64 145.83,-64 142,-60.17 142,-56.33 142,-56.33 142,-48.67 142,-48.67 142,-44.83 145.83,-41 149.67,-41 149.67,-41 161.33,-41 161.33,-41 165.17,-41 169,-44.83 169,-48.67 169,-48.67 169,-56.33 169,-56.33 169,-60.17 165.17,-64 161.33,-64\"/>\n",
              "<text text-anchor=\"middle\" x=\"155.5\" y=\"-48.8\" font-family=\"Times,serif\" font-size=\"14.00\">T1</text>\n",
              "</g>\n",
              "<!-- 138102194352144&#45;&gt;138102194342352 -->\n",
              "<g id=\"edge12\" class=\"edge\">\n",
              "<title>138102194352144&#45;&gt;138102194342352</title>\n",
              "<path fill=\"none\" stroke=\"black\" d=\"M191.11,-81.84C184.2,-76.34 175.78,-69.65 168.87,-64.14\"/>\n",
              "</g>\n",
              "<!-- 138102194353104 -->\n",
              "<g id=\"node11\" class=\"node\">\n",
              "<title>138102194353104</title>\n",
              "<path fill=\"none\" stroke=\"black\" stroke-width=\"0.25\" d=\"M240.33,-64C240.33,-64 194.67,-64 194.67,-64 190.83,-64 187,-60.17 187,-56.33 187,-56.33 187,-48.67 187,-48.67 187,-44.83 190.83,-41 194.67,-41 194.67,-41 240.33,-41 240.33,-41 244.17,-41 248,-44.83 248,-48.67 248,-48.67 248,-56.33 248,-56.33 248,-60.17 244.17,-64 240.33,-64\"/>\n",
              "<text text-anchor=\"middle\" x=\"217.5\" y=\"-48.8\" font-family=\"Times,serif\" font-size=\"14.00\">Integer</text>\n",
              "</g>\n",
              "<!-- 138102194352144&#45;&gt;138102194353104 -->\n",
              "<g id=\"edge13\" class=\"edge\">\n",
              "<title>138102194352144&#45;&gt;138102194353104</title>\n",
              "<path fill=\"none\" stroke=\"black\" d=\"M208.05,-81.84C209.89,-76.34 212.12,-69.65 213.95,-64.14\"/>\n",
              "</g>\n",
              "<!-- 138102194342976&#45;&gt;138102194343168 -->\n",
              "<!-- 138102194351664 -->\n",
              "<g id=\"node8\" class=\"node\">\n",
              "<title>138102194351664</title>\n",
              "<path fill=\"none\" stroke=\"black\" stroke-width=\"0.25\" d=\"M33.5,-23C33.5,-23 27.5,-23 27.5,-23 24.5,-23 21.5,-20 21.5,-17 21.5,-17 21.5,-6 21.5,-6 21.5,-3 24.5,0 27.5,0 27.5,0 33.5,0 33.5,0 36.5,0 39.5,-3 39.5,-6 39.5,-6 39.5,-17 39.5,-17 39.5,-20 36.5,-23 33.5,-23\"/>\n",
              "<text text-anchor=\"middle\" x=\"30.5\" y=\"-7.8\" font-family=\"Times,serif\" font-size=\"14.00\">3</text>\n",
              "</g>\n",
              "<!-- 138102194342976&#45;&gt;138102194351664 -->\n",
              "<g id=\"edge10\" class=\"edge\">\n",
              "<title>138102194342976&#45;&gt;138102194351664</title>\n",
              "<path fill=\"none\" stroke=\"black\" d=\"M30.5,-40.84C30.5,-35.34 30.5,-28.65 30.5,-23.14\"/>\n",
              "</g>\n",
              "<!-- 138102194351760 -->\n",
              "<g id=\"node9\" class=\"node\">\n",
              "<title>138102194351760</title>\n",
              "<path fill=\"none\" stroke=\"black\" stroke-width=\"0.25\" d=\"M104.5,-23C104.5,-23 98.5,-23 98.5,-23 95.5,-23 92.5,-20 92.5,-17 92.5,-17 92.5,-6 92.5,-6 92.5,-3 95.5,0 98.5,0 98.5,0 104.5,0 104.5,0 107.5,0 110.5,-3 110.5,-6 110.5,-6 110.5,-17 110.5,-17 110.5,-20 107.5,-23 104.5,-23\"/>\n",
              "<text text-anchor=\"middle\" x=\"101.5\" y=\"-7.8\" font-family=\"Times,serif\" font-size=\"14.00\">2</text>\n",
              "</g>\n",
              "<!-- 138102194343168&#45;&gt;138102194351760 -->\n",
              "<g id=\"edge11\" class=\"edge\">\n",
              "<title>138102194343168&#45;&gt;138102194351760</title>\n",
              "<path fill=\"none\" stroke=\"black\" d=\"M101.5,-40.84C101.5,-35.34 101.5,-28.65 101.5,-23.14\"/>\n",
              "</g>\n",
              "<!-- 138102194342352&#45;&gt;138102194353104 -->\n",
              "<!-- 138102194352432 -->\n",
              "<g id=\"node12\" class=\"node\">\n",
              "<title>138102194352432</title>\n",
              "<path fill=\"none\" stroke=\"black\" stroke-width=\"0.25\" d=\"M157.67,-23C157.67,-23 153.33,-23 153.33,-23 151.17,-23 149,-20.83 149,-18.67 149,-18.67 149,-4.33 149,-4.33 149,-2.17 151.17,0 153.33,0 153.33,0 157.67,0 157.67,0 159.83,0 162,-2.17 162,-4.33 162,-4.33 162,-18.67 162,-18.67 162,-20.83 159.83,-23 157.67,-23\"/>\n",
              "<text text-anchor=\"middle\" x=\"155.5\" y=\"-7.8\" font-family=\"Times,serif\" font-size=\"14.00\">.</text>\n",
              "</g>\n",
              "<!-- 138102194342352&#45;&gt;138102194352432 -->\n",
              "<g id=\"edge15\" class=\"edge\">\n",
              "<title>138102194342352&#45;&gt;138102194352432</title>\n",
              "<path fill=\"none\" stroke=\"black\" d=\"M155.5,-40.84C155.5,-35.34 155.5,-28.65 155.5,-23.14\"/>\n",
              "</g>\n",
              "<!-- 138102194346192 -->\n",
              "<g id=\"node13\" class=\"node\">\n",
              "<title>138102194346192</title>\n",
              "<path fill=\"none\" stroke=\"black\" stroke-width=\"0.25\" d=\"M220.5,-23C220.5,-23 214.5,-23 214.5,-23 211.5,-23 208.5,-20 208.5,-17 208.5,-17 208.5,-6 208.5,-6 208.5,-3 211.5,0 214.5,0 214.5,0 220.5,0 220.5,0 223.5,0 226.5,-3 226.5,-6 226.5,-6 226.5,-17 226.5,-17 226.5,-20 223.5,-23 220.5,-23\"/>\n",
              "<text text-anchor=\"middle\" x=\"217.5\" y=\"-7.8\" font-family=\"Times,serif\" font-size=\"14.00\">5</text>\n",
              "</g>\n",
              "<!-- 138102194353104&#45;&gt;138102194346192 -->\n",
              "<g id=\"edge16\" class=\"edge\">\n",
              "<title>138102194353104&#45;&gt;138102194346192</title>\n",
              "<path fill=\"none\" stroke=\"black\" d=\"M217.5,-40.84C217.5,-35.34 217.5,-28.65 217.5,-23.14\"/>\n",
              "</g>\n",
              "<!-- 138102194352288&#45;&gt;138102194346480 -->\n",
              "<!-- 138102194353440 -->\n",
              "<g id=\"node16\" class=\"node\">\n",
              "<title>138102194353440</title>\n",
              "<path fill=\"none\" stroke=\"black\" stroke-width=\"0.25\" d=\"M285.33,-64C285.33,-64 273.67,-64 273.67,-64 269.83,-64 266,-60.17 266,-56.33 266,-56.33 266,-48.67 266,-48.67 266,-44.83 269.83,-41 273.67,-41 273.67,-41 285.33,-41 285.33,-41 289.17,-41 293,-44.83 293,-48.67 293,-48.67 293,-56.33 293,-56.33 293,-60.17 289.17,-64 285.33,-64\"/>\n",
              "<text text-anchor=\"middle\" x=\"279.5\" y=\"-48.8\" font-family=\"Times,serif\" font-size=\"14.00\">T2</text>\n",
              "</g>\n",
              "<!-- 138102194352288&#45;&gt;138102194353440 -->\n",
              "<g id=\"edge20\" class=\"edge\">\n",
              "<title>138102194352288&#45;&gt;138102194353440</title>\n",
              "<path fill=\"none\" stroke=\"black\" d=\"M279.5,-81.84C279.5,-76.34 279.5,-69.65 279.5,-64.14\"/>\n",
              "</g>\n",
              "<!-- 138102194352912 -->\n",
              "<g id=\"node17\" class=\"node\">\n",
              "<title>138102194352912</title>\n",
              "<path fill=\"none\" stroke=\"black\" stroke-width=\"0.25\" d=\"M344.33,-64C344.33,-64 318.67,-64 318.67,-64 314.83,-64 311,-60.17 311,-56.33 311,-56.33 311,-48.67 311,-48.67 311,-44.83 314.83,-41 318.67,-41 318.67,-41 344.33,-41 344.33,-41 348.17,-41 352,-44.83 352,-48.67 352,-48.67 352,-56.33 352,-56.33 352,-60.17 348.17,-64 344.33,-64\"/>\n",
              "<text text-anchor=\"middle\" x=\"331.5\" y=\"-48.8\" font-family=\"Times,serif\" font-size=\"14.00\">Sign</text>\n",
              "</g>\n",
              "<!-- 138102194352288&#45;&gt;138102194352912 -->\n",
              "<g id=\"edge21\" class=\"edge\">\n",
              "<title>138102194352288&#45;&gt;138102194352912</title>\n",
              "<path fill=\"none\" stroke=\"black\" d=\"M293.71,-81.84C301.05,-76.34 309.97,-69.65 317.31,-64.14\"/>\n",
              "</g>\n",
              "<!-- 138102194353200 -->\n",
              "<g id=\"node20\" class=\"node\">\n",
              "<title>138102194353200</title>\n",
              "<path fill=\"none\" stroke=\"black\" stroke-width=\"0.25\" d=\"M382.5,-64C382.5,-64 376.5,-64 376.5,-64 373.5,-64 370.5,-61 370.5,-58 370.5,-58 370.5,-47 370.5,-47 370.5,-44 373.5,-41 376.5,-41 376.5,-41 382.5,-41 382.5,-41 385.5,-41 388.5,-44 388.5,-47 388.5,-47 388.5,-58 388.5,-58 388.5,-61 385.5,-64 382.5,-64\"/>\n",
              "<text text-anchor=\"middle\" x=\"379.5\" y=\"-48.8\" font-family=\"Times,serif\" font-size=\"14.00\">1</text>\n",
              "</g>\n",
              "<!-- 138102194346480&#45;&gt;138102194353200 -->\n",
              "<g id=\"edge25\" class=\"edge\">\n",
              "<title>138102194346480&#45;&gt;138102194353200</title>\n",
              "<path fill=\"none\" stroke=\"black\" d=\"M353.34,-81.84C358.67,-76.07 365.21,-68.98 370.42,-63.34\"/>\n",
              "</g>\n",
              "<!-- 138102194353440&#45;&gt;138102194352912 -->\n",
              "<!-- 138102194348832 -->\n",
              "<g id=\"node18\" class=\"node\">\n",
              "<title>138102194348832</title>\n",
              "<path fill=\"none\" stroke=\"black\" stroke-width=\"0.25\" d=\"M282.33,-23C282.33,-23 276.67,-23 276.67,-23 273.83,-23 271,-20.17 271,-17.33 271,-17.33 271,-5.67 271,-5.67 271,-2.83 273.83,0 276.67,0 276.67,0 282.33,0 282.33,0 285.17,0 288,-2.83 288,-5.67 288,-5.67 288,-17.33 288,-17.33 288,-20.17 285.17,-23 282.33,-23\"/>\n",
              "<text text-anchor=\"middle\" x=\"279.5\" y=\"-7.8\" font-family=\"Times,serif\" font-size=\"14.00\">e</text>\n",
              "</g>\n",
              "<!-- 138102194353440&#45;&gt;138102194348832 -->\n",
              "<g id=\"edge23\" class=\"edge\">\n",
              "<title>138102194353440&#45;&gt;138102194348832</title>\n",
              "<path fill=\"none\" stroke=\"black\" d=\"M279.5,-40.84C279.5,-35.34 279.5,-28.65 279.5,-23.14\"/>\n",
              "</g>\n",
              "<!-- 138102194352048 -->\n",
              "<g id=\"node19\" class=\"node\">\n",
              "<title>138102194352048</title>\n",
              "<path fill=\"none\" stroke=\"black\" stroke-width=\"0.25\" d=\"M335,-23C335,-23 328,-23 328,-23 324.5,-23 321,-19.5 321,-16 321,-16 321,-7 321,-7 321,-3.5 324.5,0 328,0 328,0 335,0 335,0 338.5,0 342,-3.5 342,-7 342,-7 342,-16 342,-16 342,-19.5 338.5,-23 335,-23\"/>\n",
              "<text text-anchor=\"middle\" x=\"331.5\" y=\"-7.8\" font-family=\"Times,serif\" font-size=\"14.00\">+</text>\n",
              "</g>\n",
              "<!-- 138102194352912&#45;&gt;138102194352048 -->\n",
              "<g id=\"edge24\" class=\"edge\">\n",
              "<title>138102194352912&#45;&gt;138102194352048</title>\n",
              "<path fill=\"none\" stroke=\"black\" d=\"M331.5,-40.84C331.5,-35.34 331.5,-28.65 331.5,-23.14\"/>\n",
              "</g>\n",
              "</g>\n",
              "</svg>\n"
            ],
            "text/plain": [
              "(Number: (N1: (Integer: (Integer: (3)), (Digit: (2))), (Fraction: (T1: (.)), (Integer: (5)))), (Scale': (N2: (T2: (e)), (Sign: (+))), (Integer: (1))))"
            ]
          },
          "execution_count": 20,
          "metadata": {},
          "output_type": "execute_result"
        }
      ],
      "source": [
        "fake_parse(G.S, 1, len(INPUT))"
      ]
    },
    {
      "attachments": {},
      "cell_type": "markdown",
      "metadata": {},
      "source": [
        "## Trasformazione in forma normale di Chomsky\n",
        "\n",
        "Recuperiamo dalla lezione 3 come eliminare le regole improduttive e irraggiungibili."
      ]
    },
    {
      "cell_type": "code",
      "execution_count": null,
      "metadata": {},
      "outputs": [],
      "source": [
        "def remove_unproductive_unreachable(G):\n",
        "  def find_productive(G):\n",
        "    @closure\n",
        "    def find(prod):\n",
        "      return prod | {A for A, α in G.P if set(α) <= prod}\n",
        "    return find(G.T)\n",
        "  def find_reachable(G):\n",
        "    @closure\n",
        "    def find(reach):\n",
        "      return reach | union_of(set(α) for A, α in G.P if A in reach)\n",
        "    return find({G.S})\n",
        "  Gp = G.restrict_to(find_productive(G))\n",
        "  return Gp.restrict_to(find_reachable(Gp))"
      ]
    },
    {
      "attachments": {},
      "cell_type": "markdown",
      "metadata": {},
      "source": [
        "### Eliminazione ε-regole (Sez. 4.2.3.1)\n",
        "\n",
        "Due passi, ottenuti tramite *chiusura*, consentono di rimpiazzare un simbolo nei lati destri con `replace_in_rhs` e quindi applicare il primo passo a tutti i simboli che compaiono in una ε-regola con `inline_ε_rules`."
      ]
    },
    {
      "cell_type": "code",
      "execution_count": null,
      "metadata": {},
      "outputs": [],
      "source": [
        "@closure\n",
        "def replace_in_rhs(G, A):\n",
        "  Ap = A + '′'\n",
        "  prods = set()\n",
        "  for B, β in G.P:\n",
        "    if A in β:\n",
        "      pos = β.index(A)\n",
        "      rhs = β[:pos] + β[pos + 1:]\n",
        "      if len(rhs) == 0: rhs = (ε, )\n",
        "      prods.add(Production(B, rhs))\n",
        "      prods.add(Production(B, β[:pos] + (Ap, ) + β[pos + 1:]))\n",
        "    else:\n",
        "      prods.add(Production(B, β))\n",
        "  return Grammar(G.N | {Ap}, G.T, prods, G.S)"
      ]
    },
    {
      "cell_type": "code",
      "execution_count": null,
      "metadata": {},
      "outputs": [
        {
          "data": {
            "text/html": [
              "<style>td, th {border: 1pt solid lightgray !important ;}</style><table><tr><th><pre>S</pre><td style=\"text-align:left\"><pre>x A′ y z<sub>(0)</sub> | x A′ y A′ z<sub>(1)</sub> | x y A′ z<sub>(3)</sub> | x y z<sub>(4)</sub></pre><tr><th><pre>A</pre><td style=\"text-align:left\"><pre>a<sub>(2)</sub></pre></table>"
            ],
            "text/plain": [
              "(S -> x A′ y z, S -> x A′ y A′ z, A -> a, S -> x y A′ z, S -> x y z)"
            ]
          },
          "execution_count": 23,
          "metadata": {},
          "output_type": "execute_result"
        }
      ],
      "source": [
        "# esempio d'uso\n",
        "\n",
        "U = Grammar.from_string(\"\"\"\n",
        "S -> x A y A z\n",
        "A -> a\n",
        "\"\"\")\n",
        "replace_in_rhs(U, 'A').P"
      ]
    },
    {
      "cell_type": "code",
      "execution_count": null,
      "metadata": {},
      "outputs": [],
      "source": [
        "@closure\n",
        "def inline_ε_rules(G_seen):\n",
        "  G, seen = G_seen\n",
        "  for A in G.N - seen:\n",
        "    if (ε, ) in G.alternatives(A):\n",
        "      return replace_in_rhs(G, A), seen | {A}\n",
        "  return G, seen"
      ]
    },
    {
      "cell_type": "code",
      "execution_count": null,
      "metadata": {},
      "outputs": [
        {
          "data": {
            "text/html": [
              "<style>td, th {border: 1pt solid lightgray !important ;}</style><table><tr><th><pre>A</pre><td style=\"text-align:left\"><pre>B′ C′<sub>(0)</sub> | B′<sub>(2)</sub> | ε<sub>(5)</sub> | C′<sub>(6)</sub></pre><tr><th><pre>S</pre><td style=\"text-align:left\"><pre>A′<sub>(1)</sub> | ε<sub>(3)</sub></pre><tr><th><pre>C</pre><td style=\"text-align:left\"><pre>ε<sub>(4)</sub></pre><tr><th><pre>B</pre><td style=\"text-align:left\"><pre>ε<sub>(7)</sub></pre></table>"
            ],
            "text/plain": [
              "(A -> B′ C′, S -> A′, A -> B′, S -> ε, C -> ε, A -> ε, A -> C′, B -> ε)"
            ]
          },
          "execution_count": 25,
          "metadata": {},
          "output_type": "execute_result"
        }
      ],
      "source": [
        "# esempio d'uso\n",
        "\n",
        "U = Grammar.from_string(\"\"\"\n",
        "S -> A\n",
        "A -> B C\n",
        "B -> ε\n",
        "C -> ε\n",
        "\"\"\")\n",
        "U, _ = inline_ε_rules((U, set()))\n",
        "\n",
        "U.P"
      ]
    },
    {
      "cell_type": "markdown",
      "metadata": {},
      "source": [
        "Usando i due passi precedenti è semplice scrivere il passo di eliminazione"
      ]
    },
    {
      "cell_type": "code",
      "execution_count": null,
      "metadata": {},
      "outputs": [],
      "source": [
        "def eliminate_ε_rules(G):\n",
        "  Gp, _ = inline_ε_rules((G, set()))\n",
        "  prods = set(Gp.P)\n",
        "  for Ap in Gp.N - G.N:\n",
        "    A = Ap[:-1]\n",
        "    for α in set(Gp.alternatives(A)) - {(ε, )}:\n",
        "      prods.add(Production(Ap, α))\n",
        "  return Grammar(Gp.N, Gp.T, prods, Gp.S)"
      ]
    },
    {
      "cell_type": "code",
      "execution_count": null,
      "metadata": {},
      "outputs": [
        {
          "data": {
            "text/html": [
              "<style>td, th {border: 1pt solid lightgray !important ;}</style><table><tr><th><pre>L</pre><td style=\"text-align:left\"><pre>ε<sub>(0)</sub> | L′ M′<sub>(2)</sub> | M′<sub>(7)</sub> | L′<sub>(13)</sub></pre><tr><th><pre>L′</pre><td style=\"text-align:left\"><pre>M′<sub>(1)</sub> | L′<sub>(6)</sub> | L′ M′<sub>(10)</sub></pre><tr><th><pre>S</pre><td style=\"text-align:left\"><pre>a M′<sub>(3)</sub> | L′ a M′<sub>(4)</sub> | a<sub>(12)</sub> | L′ a<sub>(15)</sub></pre><tr><th><pre>M</pre><td style=\"text-align:left\"><pre>M′ M′<sub>(5)</sub> | ε<sub>(8)</sub> | M′<sub>(14)</sub></pre><tr><th><pre>M′</pre><td style=\"text-align:left\"><pre>M′ M′<sub>(9)</sub> | M′<sub>(11)</sub></pre></table>"
            ],
            "text/plain": [
              "(L -> ε,\n",
              " L′ -> M′,\n",
              " L -> L′ M′,\n",
              " S -> a M′,\n",
              " S -> L′ a M′,\n",
              " M -> M′ M′,\n",
              " L′ -> L′,\n",
              " L -> M′,\n",
              " M -> ε,\n",
              " M′ -> M′ M′,\n",
              " L′ -> L′ M′,\n",
              " M′ -> M′,\n",
              " S -> a,\n",
              " L -> L′,\n",
              " M -> M′,\n",
              " S -> L′ a)"
            ]
          },
          "execution_count": 27,
          "metadata": {},
          "output_type": "execute_result"
        }
      ],
      "source": [
        "# esempio d'uso (fig. 4.10, pag. 120)\n",
        "\n",
        "U = Grammar.from_string(\"\"\"\n",
        "S -> L a M\n",
        "L -> L M \n",
        "L -> ε\n",
        "M -> M M\n",
        "M -> ε\n",
        "\"\"\")\n",
        "\n",
        "eliminate_ε_rules(U).P"
      ]
    },
    {
      "attachments": {},
      "cell_type": "markdown",
      "metadata": {},
      "source": [
        "### Eliminazione regole unitarie (Sez. 4.2.3.2)"
      ]
    },
    {
      "cell_type": "code",
      "execution_count": null,
      "metadata": {},
      "outputs": [],
      "source": [
        "def eliminate_unit_rules(G):\n",
        "  @closure\n",
        "  def eliminate(G_seen):\n",
        "    G, seen = G_seen\n",
        "    for P in set(filter(Production.such_that(rhs_len = 1), G.P)) - seen:\n",
        "      A, (B, ) = P\n",
        "      if B in G.N:\n",
        "        prods = (set(G.P) | {Production(A, α) for α in G.alternatives(B)}) - {P}\n",
        "        return Grammar(G.N, G.T, prods, G.S), seen | {P}\n",
        "    return G, seen\n",
        "  return eliminate((G, set()))[0]"
      ]
    },
    {
      "cell_type": "code",
      "execution_count": null,
      "metadata": {},
      "outputs": [
        {
          "data": {
            "text/html": [
              "<style>td, th {border: 1pt solid lightgray !important ;}</style><table><tr><th><pre>A</pre><td style=\"text-align:left\"><pre>b<sub>(0)</sub></pre><tr><th><pre>S</pre><td style=\"text-align:left\"><pre>b<sub>(1)</sub></pre><tr><th><pre>B</pre><td style=\"text-align:left\"><pre>b<sub>(2)</sub></pre></table>"
            ],
            "text/plain": [
              "(A -> b, S -> b, B -> b)"
            ]
          },
          "execution_count": 29,
          "metadata": {},
          "output_type": "execute_result"
        }
      ],
      "source": [
        "# esempio d'uso\n",
        "\n",
        "U = Grammar.from_string(\"\"\"\n",
        "S -> A\n",
        "A -> B\n",
        "B -> A | b\n",
        "\"\"\")\n",
        "\n",
        "eliminate_unit_rules(U).P"
      ]
    },
    {
      "attachments": {},
      "cell_type": "markdown",
      "metadata": {},
      "source": [
        "#### Un esempio più elaborato"
      ]
    },
    {
      "cell_type": "code",
      "execution_count": null,
      "metadata": {},
      "outputs": [],
      "source": [
        "# fig. 4.6, pag. 112\n",
        "\n",
        "G = Grammar.from_string(\"\"\"\n",
        "Number -> Integer | Real\n",
        "Integer -> Digit | Integer Digit\n",
        "Real -> Integer Fraction Scale\n",
        "Fraction -> . Integer\n",
        "Scale -> e Sign Integer | Empty\n",
        "Digit -> 0 | 1 | 2 | 3 | 4 | 5 | 6 | 7 | 8 | 9\n",
        "Sign -> + | -\n",
        "Empty -> ε\n",
        "\"\"\")"
      ]
    },
    {
      "cell_type": "code",
      "execution_count": null,
      "metadata": {},
      "outputs": [
        {
          "data": {
            "text/html": [
              "<style>td, th {border: 1pt solid lightgray !important ;}</style><table><tr><th><pre>Digit</pre><td style=\"text-align:left\"><pre>0<sub>(0)</sub> | 5<sub>(5)</sub> | 9<sub>(7)</sub> | 6<sub>(9)</sub> | 3<sub>(11)</sub> | 2<sub>(15)</sub> | 8<sub>(16)</sub> | 4<sub>(17)</sub> | 7<sub>(18)</sub> | 1<sub>(24)</sub></pre><tr><th><pre>Empty</pre><td style=\"text-align:left\"><pre>ε<sub>(1)</sub></pre><tr><th><pre>Integer</pre><td style=\"text-align:left\"><pre>Digit<sub>(2)</sub> | Integer Digit<sub>(20)</sub></pre><tr><th><pre>Scale′</pre><td style=\"text-align:left\"><pre>Empty′<sub>(3)</sub> | e Sign Integer<sub>(10)</sub></pre><tr><th><pre>Number</pre><td style=\"text-align:left\"><pre>Real<sub>(4)</sub> | Integer<sub>(6)</sub></pre><tr><th><pre>Sign</pre><td style=\"text-align:left\"><pre>+<sub>(8)</sub> | -<sub>(14)</sub></pre><tr><th><pre>Scale</pre><td style=\"text-align:left\"><pre>Empty′<sub>(12)</sub> | e Sign Integer<sub>(21)</sub> | ε<sub>(22)</sub></pre><tr><th><pre>Real</pre><td style=\"text-align:left\"><pre>Integer Fraction<sub>(13)</sub> | Integer Fraction Scale′<sub>(23)</sub></pre><tr><th><pre>Fraction</pre><td style=\"text-align:left\"><pre>. Integer<sub>(19)</sub></pre></table>"
            ],
            "text/plain": [
              "(Digit -> 0,\n",
              " Empty -> ε,\n",
              " Integer -> Digit,\n",
              " Scale′ -> Empty′,\n",
              " Number -> Real,\n",
              " Digit -> 5,\n",
              " Number -> Integer,\n",
              " Digit -> 9,\n",
              " Sign -> +,\n",
              " Digit -> 6,\n",
              " Scale′ -> e Sign Integer,\n",
              " Digit -> 3,\n",
              " Scale -> Empty′,\n",
              " Real -> Integer Fraction,\n",
              " Sign -> -,\n",
              " Digit -> 2,\n",
              " Digit -> 8,\n",
              " Digit -> 4,\n",
              " Digit -> 7,\n",
              " Fraction -> . Integer,\n",
              " Integer -> Integer Digit,\n",
              " Scale -> e Sign Integer,\n",
              " Scale -> ε,\n",
              " Real -> Integer Fraction Scale′,\n",
              " Digit -> 1)"
            ]
          },
          "execution_count": 31,
          "metadata": {},
          "output_type": "execute_result"
        }
      ],
      "source": [
        "# fig. 4.12, pag. 120 (a meno di Empty′)\n",
        "\n",
        "eliminate_ε_rules(G).P"
      ]
    },
    {
      "cell_type": "markdown",
      "metadata": {},
      "source": [
        "Data la `G` per i numeri con la virgola, si ottiene `Gp` coi primi due passi di cui sopra."
      ]
    },
    {
      "cell_type": "code",
      "execution_count": null,
      "metadata": {},
      "outputs": [
        {
          "data": {
            "text/html": [
              "<style>td, th {border: 1pt solid lightgray !important ;}</style><table><tr><th><pre>Digit</pre><td style=\"text-align:left\"><pre>0<sub>(0)</sub> | 5<sub>(7)</sub> | 9<sub>(8)</sub> | 6<sub>(12)</sub> | 3<sub>(15)</sub> | 2<sub>(23)</sub> | 8<sub>(24)</sub> | 4<sub>(26)</sub> | 7<sub>(27)</sub> | 1<sub>(41)</sub></pre><tr><th><pre>Empty</pre><td style=\"text-align:left\"><pre>ε<sub>(1)</sub></pre><tr><th><pre>Integer</pre><td style=\"text-align:left\"><pre>5<sub>(2)</sub> | 9<sub>(3)</sub> | 6<sub>(5)</sub> | 3<sub>(9)</sub> | 2<sub>(16)</sub> | 8<sub>(19)</sub> | 4<sub>(20)</sub> | 7<sub>(22)</sub> | Integer Digit<sub>(31)</sub> | 0<sub>(35)</sub> | 1<sub>(36)</sub></pre><tr><th><pre>Number</pre><td style=\"text-align:left\"><pre>Integer Fraction Scale′<sub>(4)</sub> | Integer Digit<sub>(6)</sub> | 0<sub>(10)</sub> | 1<sub>(13)</sub> | 5<sub>(17)</sub> | 9<sub>(25)</sub> | 6<sub>(28)</sub> | Integer Fraction<sub>(29)</sub> | 3<sub>(32)</sub> | 7<sub>(37)</sub> | 4<sub>(39)</sub> | 2<sub>(40)</sub> | 8<sub>(42)</sub></pre><tr><th><pre>Sign</pre><td style=\"text-align:left\"><pre>+<sub>(11)</sub> | -<sub>(21)</sub></pre><tr><th><pre>Scale′</pre><td style=\"text-align:left\"><pre>e Sign Integer<sub>(14)</sub></pre><tr><th><pre>Real</pre><td style=\"text-align:left\"><pre>Integer Fraction<sub>(18)</sub> | Integer Fraction Scale′<sub>(38)</sub></pre><tr><th><pre>Fraction</pre><td style=\"text-align:left\"><pre>. Integer<sub>(30)</sub></pre><tr><th><pre>Scale</pre><td style=\"text-align:left\"><pre>e Sign Integer<sub>(33)</sub> | ε<sub>(34)</sub></pre></table>"
            ],
            "text/plain": [
              "(Digit -> 0,\n",
              " Empty -> ε,\n",
              " Integer -> 5,\n",
              " Integer -> 9,\n",
              " Number -> Integer Fraction Scale′,\n",
              " Integer -> 6,\n",
              " Number -> Integer Digit,\n",
              " Digit -> 5,\n",
              " Digit -> 9,\n",
              " Integer -> 3,\n",
              " Number -> 0,\n",
              " Sign -> +,\n",
              " Digit -> 6,\n",
              " Number -> 1,\n",
              " Scale′ -> e Sign Integer,\n",
              " Digit -> 3,\n",
              " Integer -> 2,\n",
              " Number -> 5,\n",
              " Real -> Integer Fraction,\n",
              " Integer -> 8,\n",
              " Integer -> 4,\n",
              " Sign -> -,\n",
              " Integer -> 7,\n",
              " Digit -> 2,\n",
              " Digit -> 8,\n",
              " Number -> 9,\n",
              " Digit -> 4,\n",
              " Digit -> 7,\n",
              " Number -> 6,\n",
              " Number -> Integer Fraction,\n",
              " Fraction -> . Integer,\n",
              " Integer -> Integer Digit,\n",
              " Number -> 3,\n",
              " Scale -> e Sign Integer,\n",
              " Scale -> ε,\n",
              " Integer -> 0,\n",
              " Integer -> 1,\n",
              " Number -> 7,\n",
              " Real -> Integer Fraction Scale′,\n",
              " Number -> 4,\n",
              " Number -> 2,\n",
              " Digit -> 1,\n",
              " Number -> 8)"
            ]
          },
          "execution_count": 32,
          "metadata": {},
          "output_type": "execute_result"
        }
      ],
      "source": [
        "# fig. 4.13, pag. 121\n",
        "\n",
        "Gp = eliminate_unit_rules(eliminate_ε_rules(G))\n",
        "Gp.P"
      ]
    },
    {
      "attachments": {},
      "cell_type": "markdown",
      "metadata": {},
      "source": [
        "### Eliminare regole/simboli non produttive e  non raggiungibili (Sez. 2.9.5.1-2)"
      ]
    },
    {
      "cell_type": "code",
      "execution_count": null,
      "metadata": {},
      "outputs": [
        {
          "data": {
            "text/html": [
              "<style>td, th {border: 1pt solid lightgray !important ;}</style><table><tr><th><pre>Digit</pre><td style=\"text-align:left\"><pre>0<sub>(0)</sub> | 5<sub>(6)</sub> | 9<sub>(7)</sub> | 6<sub>(11)</sub> | 3<sub>(14)</sub> | 2<sub>(21)</sub> | 8<sub>(22)</sub> | 4<sub>(24)</sub> | 7<sub>(25)</sub> | 1<sub>(36)</sub></pre><tr><th><pre>Integer</pre><td style=\"text-align:left\"><pre>5<sub>(1)</sub> | 9<sub>(2)</sub> | 6<sub>(4)</sub> | 3<sub>(8)</sub> | 2<sub>(15)</sub> | 8<sub>(17)</sub> | 4<sub>(18)</sub> | 7<sub>(20)</sub> | Integer Digit<sub>(29)</sub> | 0<sub>(31)</sub> | 1<sub>(32)</sub></pre><tr><th><pre>Number</pre><td style=\"text-align:left\"><pre>Integer Fraction Scale′<sub>(3)</sub> | Integer Digit<sub>(5)</sub> | 0<sub>(9)</sub> | 1<sub>(12)</sub> | 5<sub>(16)</sub> | 9<sub>(23)</sub> | 6<sub>(26)</sub> | Integer Fraction<sub>(27)</sub> | 3<sub>(30)</sub> | 7<sub>(33)</sub> | 4<sub>(34)</sub> | 2<sub>(35)</sub> | 8<sub>(37)</sub></pre><tr><th><pre>Sign</pre><td style=\"text-align:left\"><pre>+<sub>(10)</sub> | -<sub>(19)</sub></pre><tr><th><pre>Scale′</pre><td style=\"text-align:left\"><pre>e Sign Integer<sub>(13)</sub></pre><tr><th><pre>Fraction</pre><td style=\"text-align:left\"><pre>. Integer<sub>(28)</sub></pre></table>"
            ],
            "text/plain": [
              "(Digit -> 0,\n",
              " Integer -> 5,\n",
              " Integer -> 9,\n",
              " Number -> Integer Fraction Scale′,\n",
              " Integer -> 6,\n",
              " Number -> Integer Digit,\n",
              " Digit -> 5,\n",
              " Digit -> 9,\n",
              " Integer -> 3,\n",
              " Number -> 0,\n",
              " Sign -> +,\n",
              " Digit -> 6,\n",
              " Number -> 1,\n",
              " Scale′ -> e Sign Integer,\n",
              " Digit -> 3,\n",
              " Integer -> 2,\n",
              " Number -> 5,\n",
              " Integer -> 8,\n",
              " Integer -> 4,\n",
              " Sign -> -,\n",
              " Integer -> 7,\n",
              " Digit -> 2,\n",
              " Digit -> 8,\n",
              " Number -> 9,\n",
              " Digit -> 4,\n",
              " Digit -> 7,\n",
              " Number -> 6,\n",
              " Number -> Integer Fraction,\n",
              " Fraction -> . Integer,\n",
              " Integer -> Integer Digit,\n",
              " Number -> 3,\n",
              " Integer -> 0,\n",
              " Integer -> 1,\n",
              " Number -> 7,\n",
              " Number -> 4,\n",
              " Number -> 2,\n",
              " Digit -> 1,\n",
              " Number -> 8)"
            ]
          },
          "execution_count": 33,
          "metadata": {},
          "output_type": "execute_result"
        }
      ],
      "source": [
        "# fig. 4.14, pag. 122\n",
        "\n",
        "Gp_clean = remove_unproductive_unreachable(Gp)\n",
        "Gp_clean.P"
      ]
    },
    {
      "attachments": {},
      "cell_type": "markdown",
      "metadata": {},
      "source": [
        "### Riduzione in forma normale (Sez. 4.3.2.4)"
      ]
    },
    {
      "attachments": {},
      "cell_type": "markdown",
      "metadata": {},
      "source": [
        "#### Caso $A\\to \\alpha a \\beta$"
      ]
    },
    {
      "cell_type": "code",
      "execution_count": null,
      "metadata": {},
      "outputs": [],
      "source": [
        "def transform_nonsolitary(G):\n",
        "  prods = set()\n",
        "  for A, α in G.P:\n",
        "    prods.add(Production(A, [f'N{x}' if x in G.T else x for x in α] if len(α) > 1 else α))\n",
        "    prods |= {Production(f'N{x}', (x, )) for x in α if x in G.T and len(α) > 1}\n",
        "  return Grammar(G.N | {A for A, α in prods}, G.T, prods, G.S)"
      ]
    },
    {
      "cell_type": "code",
      "execution_count": null,
      "metadata": {},
      "outputs": [
        {
          "data": {
            "text/html": [
              "<style>td, th {border: 1pt solid lightgray !important ;}</style><table><tr><th><pre>Ny</pre><td style=\"text-align:left\"><pre>y<sub>(0)</sub></pre><tr><th><pre>Nx</pre><td style=\"text-align:left\"><pre>x<sub>(1)</sub></pre><tr><th><pre>S</pre><td style=\"text-align:left\"><pre>Nx S Ny S Nx<sub>(2)</sub></pre></table>"
            ],
            "text/plain": [
              "(Ny -> y, Nx -> x, S -> Nx S Ny S Nx)"
            ]
          },
          "execution_count": 35,
          "metadata": {},
          "output_type": "execute_result"
        }
      ],
      "source": [
        "# esempio d'uso\n",
        "\n",
        "U = Grammar.from_string(\"\"\"\n",
        "S -> x S y S x\n",
        "\"\"\")\n",
        "\n",
        "transform_nonsolitary(U).P"
      ]
    },
    {
      "attachments": {},
      "cell_type": "markdown",
      "metadata": {},
      "source": [
        "#### Caso $A\\to X_1 X_2\\ldots X_n$"
      ]
    },
    {
      "cell_type": "code",
      "execution_count": null,
      "metadata": {},
      "outputs": [],
      "source": [
        "def make_binary(G):\n",
        "  prods = set()\n",
        "  for A, α in G.P:\n",
        "    if len(α) > 2:\n",
        "      Ai = f'{A}{1}'\n",
        "      prods.add(Production(Ai, α[:2]))\n",
        "      for i, Xi in enumerate(α[2:-1], 2):\n",
        "          prods.add(Production(f'{A}{i}', (Ai, Xi)))\n",
        "          Ai = f'{A}{i}'\n",
        "      prods.add(Production(A, (Ai, α[-1])))\n",
        "    else:\n",
        "      prods.add(Production(A, α))\n",
        "  return Grammar(G.N | {A for A, α in prods}, G.T, prods, G.S)"
      ]
    },
    {
      "cell_type": "code",
      "execution_count": null,
      "metadata": {},
      "outputs": [
        {
          "data": {
            "text/html": [
              "<style>td, th {border: 1pt solid lightgray !important ;}</style><table><tr><th><pre>S2</pre><td style=\"text-align:left\"><pre>S1 C<sub>(0)</sub></pre><tr><th><pre>S</pre><td style=\"text-align:left\"><pre>S2 D<sub>(1)</sub></pre><tr><th><pre>S1</pre><td style=\"text-align:left\"><pre>A B<sub>(2)</sub></pre></table>"
            ],
            "text/plain": [
              "(S2 -> S1 C, S -> S2 D, S1 -> A B)"
            ]
          },
          "execution_count": 37,
          "metadata": {},
          "output_type": "execute_result"
        }
      ],
      "source": [
        "# esempio d'uso\n",
        "\n",
        "U = Grammar.from_string(\"\"\"\n",
        "S -> A B C D\n",
        "\"\"\")\n",
        "\n",
        "make_binary(U).P"
      ]
    },
    {
      "attachments": {},
      "cell_type": "markdown",
      "metadata": {},
      "source": [
        "#### Di nuovo, l'esempio più elaborato"
      ]
    },
    {
      "cell_type": "code",
      "execution_count": null,
      "metadata": {},
      "outputs": [
        {
          "data": {
            "text/html": [
              "<style>td, th {border: 1pt solid lightgray !important ;}</style><table><tr><th><pre>Digit</pre><td style=\"text-align:left\"><pre>0<sub>(0)</sub> | 5<sub>(5)</sub> | 9<sub>(6)</sub> | 6<sub>(11)</sub> | 3<sub>(14)</sub> | 2<sub>(23)</sub> | 8<sub>(25)</sub> | 4<sub>(28)</sub> | 7<sub>(29)</sub> | 1<sub>(40)</sub></pre><tr><th><pre>Integer</pre><td style=\"text-align:left\"><pre>5<sub>(1)</sub> | 9<sub>(2)</sub> | 6<sub>(3)</sub> | 3<sub>(7)</sub> | 2<sub>(16)</sub> | 8<sub>(18)</sub> | 4<sub>(19)</sub> | 7<sub>(21)</sub> | Integer Digit<sub>(32)</sub> | 0<sub>(35)</sub> | 1<sub>(36)</sub></pre><tr><th><pre>Number</pre><td style=\"text-align:left\"><pre>Integer Digit<sub>(4)</sub> | Number1 Scale′<sub>(8)</sub> | 0<sub>(9)</sub> | 1<sub>(12)</sub> | 5<sub>(17)</sub> | 9<sub>(27)</sub> | 6<sub>(30)</sub> | Integer Fraction<sub>(31)</sub> | 3<sub>(34)</sub> | 7<sub>(37)</sub> | 4<sub>(38)</sub> | 2<sub>(39)</sub> | 8<sub>(41)</sub></pre><tr><th><pre>Sign</pre><td style=\"text-align:left\"><pre>+<sub>(10)</sub> | -<sub>(20)</sub></pre><tr><th><pre>Number1</pre><td style=\"text-align:left\"><pre>Integer Fraction<sub>(13)</sub></pre><tr><th><pre>Scale′</pre><td style=\"text-align:left\"><pre>Scale′1 Integer<sub>(15)</sub></pre><tr><th><pre>N.</pre><td style=\"text-align:left\"><pre>.<sub>(22)</sub></pre><tr><th><pre>Fraction</pre><td style=\"text-align:left\"><pre>N. Integer<sub>(24)</sub></pre><tr><th><pre>Ne</pre><td style=\"text-align:left\"><pre>e<sub>(26)</sub></pre><tr><th><pre>Scale′1</pre><td style=\"text-align:left\"><pre>Ne Sign<sub>(33)</sub></pre></table>"
            ],
            "text/plain": [
              "(Digit -> 0,\n",
              " Integer -> 5,\n",
              " Integer -> 9,\n",
              " Integer -> 6,\n",
              " Number -> Integer Digit,\n",
              " Digit -> 5,\n",
              " Digit -> 9,\n",
              " Integer -> 3,\n",
              " Number -> Number1 Scale′,\n",
              " Number -> 0,\n",
              " Sign -> +,\n",
              " Digit -> 6,\n",
              " Number -> 1,\n",
              " Number1 -> Integer Fraction,\n",
              " Digit -> 3,\n",
              " Scale′ -> Scale′1 Integer,\n",
              " Integer -> 2,\n",
              " Number -> 5,\n",
              " Integer -> 8,\n",
              " Integer -> 4,\n",
              " Sign -> -,\n",
              " Integer -> 7,\n",
              " N. -> .,\n",
              " Digit -> 2,\n",
              " Fraction -> N. Integer,\n",
              " Digit -> 8,\n",
              " Ne -> e,\n",
              " Number -> 9,\n",
              " Digit -> 4,\n",
              " Digit -> 7,\n",
              " Number -> 6,\n",
              " Number -> Integer Fraction,\n",
              " Integer -> Integer Digit,\n",
              " Scale′1 -> Ne Sign,\n",
              " Number -> 3,\n",
              " Integer -> 0,\n",
              " Integer -> 1,\n",
              " Number -> 7,\n",
              " Number -> 4,\n",
              " Number -> 2,\n",
              " Digit -> 1,\n",
              " Number -> 8)"
            ]
          },
          "execution_count": 38,
          "metadata": {},
          "output_type": "execute_result"
        }
      ],
      "source": [
        "# fig. 4.15, pag. 123 (rinominando alcuni non terminali)\n",
        "\n",
        "G_cnf = make_binary(transform_nonsolitary(Gp_clean))\n",
        "G_cnf.P"
      ]
    }
  ],
  "metadata": {
    "kernelspec": {
      "display_name": "Python 3 (ipykernel)",
      "language": "python",
      "name": "python3"
    },
    "language_info": {
      "codemirror_mode": {
        "name": "ipython",
        "version": 3
      },
      "file_extension": ".py",
      "mimetype": "text/x-python",
      "name": "python",
      "nbconvert_exporter": "python",
      "pygments_lexer": "ipython3"
    }
  },
  "nbformat": 4,
  "nbformat_minor": 4
}
