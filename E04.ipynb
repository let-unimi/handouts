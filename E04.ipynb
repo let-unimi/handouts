{
  "cells": [
    {
      "cell_type": "markdown",
      "metadata": {},
      "source": [
        "# Alcuni esercizi su alberi e derivazioni\n",
        "\n",
        "## Dall'albero alle derivazioni left/right-most\n",
        "\n",
        "Scrivete una procedura `leftmost_from_parsetree` che restituisca le produzioni usate nella derivazione rappresentata dall'albero di parsing indicato per argomento.\n",
        "\n",
        "In altre parole, comunque data una derivazione `d` su `G` deve valere\n",
        "\n",
        "```\n",
        "d == Derivation(G).leftmost(leftmost_from_parsetree(derivation_to_parsetree(d)))\n",
        "```\n",
        "\n",
        "dove `derivation_to_parsetree` è la funzione che restituisce l'albero di parsing data la derivazione vista a lezione.\n",
        "\n",
        "Fate lo stesso per le derivazioni rightmost."
      ]
    },
    {
      "cell_type": "markdown",
      "metadata": {},
      "source": [
        "## Le ε-produzioni\n",
        "\n",
        "Sistemate `derivation_to_parsetree` perché funzioni correttamente anche in presenza di ε-produzioni."
      ]
    }
  ],
  "metadata": {
    "interpreter": {
      "hash": "e1004562009730290f42c30a7c24060925c35420ba84516473ad07a3f1950c5d"
    },
    "kernelspec": {
      "display_name": "Python 3.8.10 ('named-let-liblet')",
      "language": "python",
      "name": "python3"
    },
    "language_info": {
      "codemirror_mode": {
        "name": "ipython",
        "version": 3
      },
      "file_extension": ".py",
      "mimetype": "text/x-python",
      "name": "python",
      "nbconvert_exporter": "python",
      "pygments_lexer": "ipython3"
    }
  },
  "nbformat": 4,
  "nbformat_minor": 2
}
