{
  "cells": [
    {
      "cell_type": "markdown",
      "metadata": {},
      "source": [
        "# L09 Soluzioni"
      ]
    },
    {
      "cell_type": "code",
      "execution_count": null,
      "metadata": {},
      "outputs": [],
      "source": [
        "from itertools import product, chain\n",
        "\n",
        "from liblet import (\n",
        "    Grammar, \n",
        "    Production, \n",
        "    Derivation, \n",
        "    ProductionGraph, \n",
        "    prods2table,\n",
        "    side_by_side\n",
        ")\n",
        "\n",
        "from L06 import (\n",
        "    eliminate_unit_rules, \n",
        "    eliminate_ε_rules, \n",
        "    transform_nonsolitary,\n",
        "    make_binary,\n",
        "    cyk\n",
        ")"
      ]
    },
    {
      "cell_type": "markdown",
      "metadata": {},
      "source": [
        "# Tutte le derivazioni leftmost (nella grammatica originale)\n",
        "\n",
        "Iniziamo da `all_derives(ω, i, l)` che (in analogia a `derives(ω, i, l)`) determini se la forma sentenziale ω deriva una sottoparola dell'input e qualora lo faccia, restituisca una lista di tutte le possibili suddivisioni in cui la sottoparola può essere derivata dai simboli di ω."
      ]
    },
    {
      "cell_type": "code",
      "execution_count": null,
      "metadata": {},
      "outputs": [],
      "source": [
        "def make_all_derives(R, INPUT): \n",
        "    def all_derives(ω, i, l):\n",
        "        if not ω or ('ε', ) == ω: return (l == 0, [[]])\n",
        "        res = []\n",
        "        X, *χ = ω\n",
        "        if X in G.T:\n",
        "            if i <= len(INPUT) and X == INPUT[i - 1]:\n",
        "                d, ss = all_derives(χ, i + 1, l - 1)\n",
        "                if d: res.extend([1] + s for s in ss)\n",
        "        else:\n",
        "            for k in range(0, l + 1):\n",
        "                if X in R[(i, k)]:\n",
        "                    d, ss = all_derives(χ, i + k, l - k)\n",
        "                    if d: res.extend([k] + s for s in ss)\n",
        "        return (True, res) if res else (False, [[]])\n",
        "    return all_derives"
      ]
    },
    {
      "cell_type": "code",
      "execution_count": null,
      "metadata": {},
      "outputs": [
        {
          "data": {
            "text/html": [
              "<style>td, th {border: 1pt solid lightgray !important ;}</style><table><tr><th><pre>E1</pre><td style=\"text-align:left\"><pre>E N*<sub>(0)</sub> | E N+<sub>(2)</sub></pre><tr><th><pre>E</pre><td style=\"text-align:left\"><pre>e<sub>(1)</sub> | E1 E<sub>(3)</sub></pre><tr><th><pre>N+</pre><td style=\"text-align:left\"><pre>+<sub>(4)</sub></pre><tr><th><pre>N*</pre><td style=\"text-align:left\"><pre>*<sub>(5)</sub></pre></table>"
            ],
            "text/plain": [
              "<IPython.core.display.HTML object>"
            ]
          },
          "execution_count": 3,
          "metadata": {},
          "output_type": "execute_result"
        }
      ],
      "source": [
        "# per fare un test consideriamo una grammatica (ambigua) più semplice\n",
        "\n",
        "G = Grammar.from_string(\"\"\"\n",
        "E -> E + E | E * E | e\n",
        "\"\"\")\n",
        "\n",
        "Gp_cnf = transform_nonsolitary(make_binary(eliminate_unit_rules(eliminate_ε_rules(G))))\n",
        "prods2table(Gp_cnf)"
      ]
    },
    {
      "cell_type": "markdown",
      "metadata": {},
      "source": [
        "Una domanda, ma `Gp_cnf` è ancora ambigua?"
      ]
    },
    {
      "cell_type": "code",
      "execution_count": null,
      "metadata": {},
      "outputs": [
        {
          "data": {
            "text/html": [
              "<style>td, th {border: 1pt solid lightgray !important ;}</style><table><tr><td style=\"text-align:left\"><pre>E</pre></td><tr><td style=\"text-align:left\"><pre>E1</pre></td><td style=\"text-align:left\"><pre>&nbsp;</pre></td><tr><td style=\"text-align:left\"><pre>E</pre></td><td style=\"text-align:left\"><pre>&nbsp;</pre></td><td style=\"text-align:left\"><pre>E</pre></td><tr><td style=\"text-align:left\"><pre>E1</pre></td><td style=\"text-align:left\"><pre>&nbsp;</pre></td><td style=\"text-align:left\"><pre>E1</pre></td><td style=\"text-align:left\"><pre>&nbsp;</pre></td><tr><td style=\"text-align:left\"><pre>E</pre></td><td style=\"text-align:left\"><pre>N+</pre></td><td style=\"text-align:left\"><pre>E</pre></td><td style=\"text-align:left\"><pre>N*</pre></td><td style=\"text-align:left\"><pre>E</pre></td><tr><td style=\"text-align:left\"><pre>&nbsp;</pre></td><td style=\"text-align:left\"><pre>&nbsp;</pre></td><td style=\"text-align:left\"><pre>&nbsp;</pre></td><td style=\"text-align:left\"><pre>&nbsp;</pre></td><td style=\"text-align:left\"><pre>&nbsp;</pre></td><td style=\"text-align:left\"><pre>&nbsp;</pre></td></table>"
            ],
            "text/plain": [
              "<liblet.utils.CYKTable at 0x7f9e56dd6c10>"
            ]
          },
          "execution_count": 4,
          "metadata": {},
          "output_type": "execute_result"
        }
      ],
      "source": [
        "# questo input ammette due alberi distinti: \n",
        "# uno con il + sopra il * e l'altro viceversa\n",
        "\n",
        "INPUT = 'e+e*e'\n",
        "\n",
        "Rp = cyk(Gp_cnf, INPUT)\n",
        "\n",
        "Rε = {A for A in Gp_cnf.N if ('ε', ) in Gp_cnf.alternatives(A)}\n",
        "for i in range(1, len(INPUT) + 2): Rp[(i, 0)] = Rε\n",
        "    \n",
        "Rp"
      ]
    },
    {
      "cell_type": "code",
      "execution_count": null,
      "metadata": {},
      "outputs": [
        {
          "data": {
            "text/plain": [
              "(True, [[2, 3], [4, 1]])"
            ]
          },
          "execution_count": 5,
          "metadata": {},
          "output_type": "execute_result"
        }
      ],
      "source": [
        "# vediamo se all_derives se ne accorge \n",
        "\n",
        "all_derives = make_all_derives(Rp, INPUT) \n",
        "\n",
        "all_derives(['E1', 'E'], 1, len(INPUT))"
      ]
    },
    {
      "cell_type": "markdown",
      "metadata": {},
      "source": [
        "Questa risposta dice che `E1 E` può derivare l'input in due modi: in particolare che `E1` può limitarsi a produrre i due simboli `e+` e quindi `E` può produrre la moltiplicazione, ossia i restanti `e*e`, oppure che `E1` produrrà la somma, ossia i primi quattro simboli `e +e*` e quindi `E` produrrà il terminale `e`.\n",
        "\n",
        "La costruzione di `get_all_original_leftmost_prods` dovrà determinare (con `all_derive`) le possibili suddivisioni della sottoparola e combinare le derivazioni che otterrà a partire da esse tramite un prodotto cartesiano (come illustrato negli handout)."
      ]
    },
    {
      "cell_type": "code",
      "execution_count": null,
      "metadata": {},
      "outputs": [],
      "source": [
        "def get_all_original_leftmost_prods(G, all_derives, N):\n",
        "    def all_prods(X, i, l):\n",
        "        if X in G.T: return [[]]\n",
        "        res = []\n",
        "        for A, α in filter(Production.such_that(lhs = X), G.P):\n",
        "            d, sps = all_derives(α, i, l)\n",
        "            if not d: continue\n",
        "            for sp in sps:\n",
        "                Bprods = []\n",
        "                bi = i\n",
        "                for B, li in zip(α, sp): \n",
        "                    Bprods.append(all_prods(B, bi, li))\n",
        "                    bi += li\n",
        "                for spx in map(list, map(chain.from_iterable, product(*Bprods))):\n",
        "                    res.append([G.P.index(Production(A, α))] + spx)\n",
        "        return res\n",
        "    return all_prods(G.S, 1, N)"
      ]
    },
    {
      "cell_type": "code",
      "execution_count": null,
      "metadata": {},
      "outputs": [],
      "source": [
        "# otteniamo tutte le possibili derivazioni (leftmost)\n",
        "\n",
        "all_prods = get_all_original_leftmost_prods(G, all_derives, len(INPUT))"
      ]
    },
    {
      "cell_type": "code",
      "execution_count": null,
      "metadata": {},
      "outputs": [
        {
          "data": {
            "text/html": [
              "<div><?xml version=\"1.0\" encoding=\"UTF-8\" standalone=\"no\"?>\n",
              "<!DOCTYPE svg PUBLIC \"-//W3C//DTD SVG 1.1//EN\"\n",
              " \"http://www.w3.org/Graphics/SVG/1.1/DTD/svg11.dtd\">\n",
              "<!-- Generated by graphviz version 2.43.0 (0)\n",
              " -->\n",
              "<!-- Title: %3 Pages: 1 -->\n",
              "<svg width=\"129pt\" height=\"154pt\"\n",
              " viewBox=\"0.00 0.00 129.00 154.00\" xmlns=\"http://www.w3.org/2000/svg\" xmlns:xlink=\"http://www.w3.org/1999/xlink\">\n",
              "<g id=\"graph0\" class=\"graph\" transform=\"scale(1 1) rotate(0) translate(4 150)\">\n",
              "<title>%3</title>\n",
              "<polygon fill=\"white\" stroke=\"transparent\" points=\"-4,4 -4,-150 125,-150 125,4 -4,4\"/>\n",
              "<!-- &#45;3259762004231000497 -->\n",
              "<g id=\"node1\" class=\"node\">\n",
              "<title>&#45;3259762004231000497</title>\n",
              "<path fill=\"none\" stroke=\"black\" stroke-width=\"0.25\" d=\"M46.33,-146C46.33,-146 40.67,-146 40.67,-146 37.83,-146 35,-143.17 35,-140.33 35,-140.33 35,-128.67 35,-128.67 35,-125.83 37.83,-123 40.67,-123 40.67,-123 46.33,-123 46.33,-123 49.17,-123 52,-125.83 52,-128.67 52,-128.67 52,-140.33 52,-140.33 52,-143.17 49.17,-146 46.33,-146\"/>\n",
              "<text text-anchor=\"middle\" x=\"43.5\" y=\"-130.8\" font-family=\"Times,serif\" font-size=\"14.00\">E</text>\n",
              "</g>\n",
              "<!-- 6590386647733387555 -->\n",
              "<g id=\"node2\" class=\"node\">\n",
              "<title>6590386647733387555</title>\n",
              "<path fill=\"none\" stroke=\"black\" stroke-width=\"0.25\" d=\"M11.33,-105C11.33,-105 5.67,-105 5.67,-105 2.83,-105 0,-102.17 0,-99.33 0,-99.33 0,-87.67 0,-87.67 0,-84.83 2.83,-82 5.67,-82 5.67,-82 11.33,-82 11.33,-82 14.17,-82 17,-84.83 17,-87.67 17,-87.67 17,-99.33 17,-99.33 17,-102.17 14.17,-105 11.33,-105\"/>\n",
              "<text text-anchor=\"middle\" x=\"8.5\" y=\"-89.8\" font-family=\"Times,serif\" font-size=\"14.00\">E</text>\n",
              "</g>\n",
              "<!-- &#45;3259762004231000497&#45;&gt;6590386647733387555 -->\n",
              "<g id=\"edge1\" class=\"edge\">\n",
              "<title>&#45;3259762004231000497&#45;&gt;6590386647733387555</title>\n",
              "<path fill=\"none\" stroke=\"black\" stroke-width=\"0.5\" d=\"M34.67,-123.66C29.32,-117.7 22.53,-110.14 17.21,-104.2\"/>\n",
              "</g>\n",
              "<!-- 1464486635884490134 -->\n",
              "<g id=\"node3\" class=\"node\">\n",
              "<title>1464486635884490134</title>\n",
              "<path fill=\"none\" stroke=\"black\" stroke-width=\"1.25\" d=\"M46.33,-105C46.33,-105 40.67,-105 40.67,-105 37.83,-105 35,-102.17 35,-99.33 35,-99.33 35,-87.67 35,-87.67 35,-84.83 37.83,-82 40.67,-82 40.67,-82 46.33,-82 46.33,-82 49.17,-82 52,-84.83 52,-87.67 52,-87.67 52,-99.33 52,-99.33 52,-102.17 49.17,-105 46.33,-105\"/>\n",
              "<text text-anchor=\"middle\" x=\"43.5\" y=\"-89.8\" font-family=\"Times,serif\" font-size=\"14.00\">+</text>\n",
              "</g>\n",
              "<!-- &#45;3259762004231000497&#45;&gt;1464486635884490134 -->\n",
              "<g id=\"edge2\" class=\"edge\">\n",
              "<title>&#45;3259762004231000497&#45;&gt;1464486635884490134</title>\n",
              "<path fill=\"none\" stroke=\"black\" stroke-width=\"0.5\" d=\"M43.5,-122.84C43.5,-117.34 43.5,-110.65 43.5,-105.14\"/>\n",
              "</g>\n",
              "<!-- 3806595991878321486 -->\n",
              "<g id=\"node4\" class=\"node\">\n",
              "<title>3806595991878321486</title>\n",
              "<path fill=\"none\" stroke=\"black\" stroke-width=\"0.25\" d=\"M81.33,-105C81.33,-105 75.67,-105 75.67,-105 72.83,-105 70,-102.17 70,-99.33 70,-99.33 70,-87.67 70,-87.67 70,-84.83 72.83,-82 75.67,-82 75.67,-82 81.33,-82 81.33,-82 84.17,-82 87,-84.83 87,-87.67 87,-87.67 87,-99.33 87,-99.33 87,-102.17 84.17,-105 81.33,-105\"/>\n",
              "<text text-anchor=\"middle\" x=\"78.5\" y=\"-89.8\" font-family=\"Times,serif\" font-size=\"14.00\">E</text>\n",
              "</g>\n",
              "<!-- &#45;3259762004231000497&#45;&gt;3806595991878321486 -->\n",
              "<g id=\"edge3\" class=\"edge\">\n",
              "<title>&#45;3259762004231000497&#45;&gt;3806595991878321486</title>\n",
              "<path fill=\"none\" stroke=\"black\" stroke-width=\"0.5\" d=\"M52.33,-123.66C57.68,-117.7 64.47,-110.14 69.79,-104.2\"/>\n",
              "</g>\n",
              "<!-- 6590386647733387555&#45;&gt;1464486635884490134 -->\n",
              "<!-- 5251365676446839727 -->\n",
              "<g id=\"node5\" class=\"node\">\n",
              "<title>5251365676446839727</title>\n",
              "<path fill=\"none\" stroke=\"black\" stroke-width=\"1.25\" d=\"M11,-64C11,-64 6,-64 6,-64 3.5,-64 1,-61.5 1,-59 1,-59 1,-46 1,-46 1,-43.5 3.5,-41 6,-41 6,-41 11,-41 11,-41 13.5,-41 16,-43.5 16,-46 16,-46 16,-59 16,-59 16,-61.5 13.5,-64 11,-64\"/>\n",
              "<text text-anchor=\"middle\" x=\"8.5\" y=\"-48.8\" font-family=\"Times,serif\" font-size=\"14.00\">e</text>\n",
              "</g>\n",
              "<!-- 6590386647733387555&#45;&gt;5251365676446839727 -->\n",
              "<g id=\"edge6\" class=\"edge\">\n",
              "<title>6590386647733387555&#45;&gt;5251365676446839727</title>\n",
              "<path fill=\"none\" stroke=\"black\" stroke-width=\"0.5\" d=\"M8.5,-81.84C8.5,-76.34 8.5,-69.65 8.5,-64.14\"/>\n",
              "</g>\n",
              "<!-- 1464486635884490134&#45;&gt;3806595991878321486 -->\n",
              "<!-- 1716270954252896169 -->\n",
              "<g id=\"node6\" class=\"node\">\n",
              "<title>1716270954252896169</title>\n",
              "<path fill=\"none\" stroke=\"black\" stroke-width=\"0.25\" d=\"M47.33,-64C47.33,-64 41.67,-64 41.67,-64 38.83,-64 36,-61.17 36,-58.33 36,-58.33 36,-46.67 36,-46.67 36,-43.83 38.83,-41 41.67,-41 41.67,-41 47.33,-41 47.33,-41 50.17,-41 53,-43.83 53,-46.67 53,-46.67 53,-58.33 53,-58.33 53,-61.17 50.17,-64 47.33,-64\"/>\n",
              "<text text-anchor=\"middle\" x=\"44.5\" y=\"-48.8\" font-family=\"Times,serif\" font-size=\"14.00\">E</text>\n",
              "</g>\n",
              "<!-- 3806595991878321486&#45;&gt;1716270954252896169 -->\n",
              "<g id=\"edge7\" class=\"edge\">\n",
              "<title>3806595991878321486&#45;&gt;1716270954252896169</title>\n",
              "<path fill=\"none\" stroke=\"black\" stroke-width=\"0.5\" d=\"M69.92,-82.66C64.81,-76.79 58.33,-69.36 53.2,-63.47\"/>\n",
              "</g>\n",
              "<!-- &#45;6351355225686181217 -->\n",
              "<g id=\"node7\" class=\"node\">\n",
              "<title>&#45;6351355225686181217</title>\n",
              "<path fill=\"none\" stroke=\"black\" stroke-width=\"1.25\" d=\"M81,-64C81,-64 76,-64 76,-64 73.5,-64 71,-61.5 71,-59 71,-59 71,-46 71,-46 71,-43.5 73.5,-41 76,-41 76,-41 81,-41 81,-41 83.5,-41 86,-43.5 86,-46 86,-46 86,-59 86,-59 86,-61.5 83.5,-64 81,-64\"/>\n",
              "<text text-anchor=\"middle\" x=\"78.5\" y=\"-48.8\" font-family=\"Times,serif\" font-size=\"14.00\">*</text>\n",
              "</g>\n",
              "<!-- 3806595991878321486&#45;&gt;&#45;6351355225686181217 -->\n",
              "<g id=\"edge8\" class=\"edge\">\n",
              "<title>3806595991878321486&#45;&gt;&#45;6351355225686181217</title>\n",
              "<path fill=\"none\" stroke=\"black\" stroke-width=\"0.5\" d=\"M78.5,-81.84C78.5,-76.34 78.5,-69.65 78.5,-64.14\"/>\n",
              "</g>\n",
              "<!-- 3330837681382198228 -->\n",
              "<g id=\"node8\" class=\"node\">\n",
              "<title>3330837681382198228</title>\n",
              "<path fill=\"none\" stroke=\"black\" stroke-width=\"0.25\" d=\"M115.33,-64C115.33,-64 109.67,-64 109.67,-64 106.83,-64 104,-61.17 104,-58.33 104,-58.33 104,-46.67 104,-46.67 104,-43.83 106.83,-41 109.67,-41 109.67,-41 115.33,-41 115.33,-41 118.17,-41 121,-43.83 121,-46.67 121,-46.67 121,-58.33 121,-58.33 121,-61.17 118.17,-64 115.33,-64\"/>\n",
              "<text text-anchor=\"middle\" x=\"112.5\" y=\"-48.8\" font-family=\"Times,serif\" font-size=\"14.00\">E</text>\n",
              "</g>\n",
              "<!-- 3806595991878321486&#45;&gt;3330837681382198228 -->\n",
              "<g id=\"edge9\" class=\"edge\">\n",
              "<title>3806595991878321486&#45;&gt;3330837681382198228</title>\n",
              "<path fill=\"none\" stroke=\"black\" stroke-width=\"0.5\" d=\"M87.08,-82.66C92.19,-76.79 98.67,-69.36 103.8,-63.47\"/>\n",
              "</g>\n",
              "<!-- 1716270954252896169&#45;&gt;&#45;6351355225686181217 -->\n",
              "<!-- &#45;5782287592038569530 -->\n",
              "<g id=\"node9\" class=\"node\">\n",
              "<title>&#45;5782287592038569530</title>\n",
              "<path fill=\"none\" stroke=\"black\" stroke-width=\"1.25\" d=\"M47,-23C47,-23 42,-23 42,-23 39.5,-23 37,-20.5 37,-18 37,-18 37,-5 37,-5 37,-2.5 39.5,0 42,0 42,0 47,0 47,0 49.5,0 52,-2.5 52,-5 52,-5 52,-18 52,-18 52,-20.5 49.5,-23 47,-23\"/>\n",
              "<text text-anchor=\"middle\" x=\"44.5\" y=\"-7.8\" font-family=\"Times,serif\" font-size=\"14.00\">e</text>\n",
              "</g>\n",
              "<!-- 1716270954252896169&#45;&gt;&#45;5782287592038569530 -->\n",
              "<g id=\"edge12\" class=\"edge\">\n",
              "<title>1716270954252896169&#45;&gt;&#45;5782287592038569530</title>\n",
              "<path fill=\"none\" stroke=\"black\" stroke-width=\"0.5\" d=\"M44.5,-40.84C44.5,-35.34 44.5,-28.65 44.5,-23.14\"/>\n",
              "</g>\n",
              "<!-- &#45;6351355225686181217&#45;&gt;3330837681382198228 -->\n",
              "<!-- &#45;2488770240970992521 -->\n",
              "<g id=\"node10\" class=\"node\">\n",
              "<title>&#45;2488770240970992521</title>\n",
              "<path fill=\"none\" stroke=\"black\" stroke-width=\"1.25\" d=\"M115,-23C115,-23 110,-23 110,-23 107.5,-23 105,-20.5 105,-18 105,-18 105,-5 105,-5 105,-2.5 107.5,0 110,0 110,0 115,0 115,0 117.5,0 120,-2.5 120,-5 120,-5 120,-18 120,-18 120,-20.5 117.5,-23 115,-23\"/>\n",
              "<text text-anchor=\"middle\" x=\"112.5\" y=\"-7.8\" font-family=\"Times,serif\" font-size=\"14.00\">e</text>\n",
              "</g>\n",
              "<!-- 3330837681382198228&#45;&gt;&#45;2488770240970992521 -->\n",
              "<g id=\"edge13\" class=\"edge\">\n",
              "<title>3330837681382198228&#45;&gt;&#45;2488770240970992521</title>\n",
              "<path fill=\"none\" stroke=\"black\" stroke-width=\"0.5\" d=\"M112.5,-40.84C112.5,-35.34 112.5,-28.65 112.5,-23.14\"/>\n",
              "</g>\n",
              "</g>\n",
              "</svg>\n",
              " <?xml version=\"1.0\" encoding=\"UTF-8\" standalone=\"no\"?>\n",
              "<!DOCTYPE svg PUBLIC \"-//W3C//DTD SVG 1.1//EN\"\n",
              " \"http://www.w3.org/Graphics/SVG/1.1/DTD/svg11.dtd\">\n",
              "<!-- Generated by graphviz version 2.43.0 (0)\n",
              " -->\n",
              "<!-- Title: %3 Pages: 1 -->\n",
              "<svg width=\"128pt\" height=\"154pt\"\n",
              " viewBox=\"0.00 0.00 128.00 154.00\" xmlns=\"http://www.w3.org/2000/svg\" xmlns:xlink=\"http://www.w3.org/1999/xlink\">\n",
              "<g id=\"graph0\" class=\"graph\" transform=\"scale(1 1) rotate(0) translate(4 150)\">\n",
              "<title>%3</title>\n",
              "<polygon fill=\"white\" stroke=\"transparent\" points=\"-4,4 -4,-150 124,-150 124,4 -4,4\"/>\n",
              "<!-- &#45;3259762004231000497 -->\n",
              "<g id=\"node1\" class=\"node\">\n",
              "<title>&#45;3259762004231000497</title>\n",
              "<path fill=\"none\" stroke=\"black\" stroke-width=\"0.25\" d=\"M80.33,-146C80.33,-146 74.67,-146 74.67,-146 71.83,-146 69,-143.17 69,-140.33 69,-140.33 69,-128.67 69,-128.67 69,-125.83 71.83,-123 74.67,-123 74.67,-123 80.33,-123 80.33,-123 83.17,-123 86,-125.83 86,-128.67 86,-128.67 86,-140.33 86,-140.33 86,-143.17 83.17,-146 80.33,-146\"/>\n",
              "<text text-anchor=\"middle\" x=\"77.5\" y=\"-130.8\" font-family=\"Times,serif\" font-size=\"14.00\">E</text>\n",
              "</g>\n",
              "<!-- 6590386647733387555 -->\n",
              "<g id=\"node2\" class=\"node\">\n",
              "<title>6590386647733387555</title>\n",
              "<path fill=\"none\" stroke=\"black\" stroke-width=\"0.25\" d=\"M46.33,-105C46.33,-105 40.67,-105 40.67,-105 37.83,-105 35,-102.17 35,-99.33 35,-99.33 35,-87.67 35,-87.67 35,-84.83 37.83,-82 40.67,-82 40.67,-82 46.33,-82 46.33,-82 49.17,-82 52,-84.83 52,-87.67 52,-87.67 52,-99.33 52,-99.33 52,-102.17 49.17,-105 46.33,-105\"/>\n",
              "<text text-anchor=\"middle\" x=\"43.5\" y=\"-89.8\" font-family=\"Times,serif\" font-size=\"14.00\">E</text>\n",
              "</g>\n",
              "<!-- &#45;3259762004231000497&#45;&gt;6590386647733387555 -->\n",
              "<g id=\"edge1\" class=\"edge\">\n",
              "<title>&#45;3259762004231000497&#45;&gt;6590386647733387555</title>\n",
              "<path fill=\"none\" stroke=\"black\" stroke-width=\"0.5\" d=\"M68.92,-123.66C63.81,-117.79 57.33,-110.36 52.2,-104.47\"/>\n",
              "</g>\n",
              "<!-- &#45;5875596915190057959 -->\n",
              "<g id=\"node3\" class=\"node\">\n",
              "<title>&#45;5875596915190057959</title>\n",
              "<path fill=\"none\" stroke=\"black\" stroke-width=\"1.25\" d=\"M80,-105C80,-105 75,-105 75,-105 72.5,-105 70,-102.5 70,-100 70,-100 70,-87 70,-87 70,-84.5 72.5,-82 75,-82 75,-82 80,-82 80,-82 82.5,-82 85,-84.5 85,-87 85,-87 85,-100 85,-100 85,-102.5 82.5,-105 80,-105\"/>\n",
              "<text text-anchor=\"middle\" x=\"77.5\" y=\"-89.8\" font-family=\"Times,serif\" font-size=\"14.00\">*</text>\n",
              "</g>\n",
              "<!-- &#45;3259762004231000497&#45;&gt;&#45;5875596915190057959 -->\n",
              "<g id=\"edge2\" class=\"edge\">\n",
              "<title>&#45;3259762004231000497&#45;&gt;&#45;5875596915190057959</title>\n",
              "<path fill=\"none\" stroke=\"black\" stroke-width=\"0.5\" d=\"M77.5,-122.84C77.5,-117.34 77.5,-110.65 77.5,-105.14\"/>\n",
              "</g>\n",
              "<!-- 3806595991878321486 -->\n",
              "<g id=\"node4\" class=\"node\">\n",
              "<title>3806595991878321486</title>\n",
              "<path fill=\"none\" stroke=\"black\" stroke-width=\"0.25\" d=\"M114.33,-105C114.33,-105 108.67,-105 108.67,-105 105.83,-105 103,-102.17 103,-99.33 103,-99.33 103,-87.67 103,-87.67 103,-84.83 105.83,-82 108.67,-82 108.67,-82 114.33,-82 114.33,-82 117.17,-82 120,-84.83 120,-87.67 120,-87.67 120,-99.33 120,-99.33 120,-102.17 117.17,-105 114.33,-105\"/>\n",
              "<text text-anchor=\"middle\" x=\"111.5\" y=\"-89.8\" font-family=\"Times,serif\" font-size=\"14.00\">E</text>\n",
              "</g>\n",
              "<!-- &#45;3259762004231000497&#45;&gt;3806595991878321486 -->\n",
              "<g id=\"edge3\" class=\"edge\">\n",
              "<title>&#45;3259762004231000497&#45;&gt;3806595991878321486</title>\n",
              "<path fill=\"none\" stroke=\"black\" stroke-width=\"0.5\" d=\"M86.08,-123.66C91.19,-117.79 97.67,-110.36 102.8,-104.47\"/>\n",
              "</g>\n",
              "<!-- 6590386647733387555&#45;&gt;&#45;5875596915190057959 -->\n",
              "<!-- 4153328800993141862 -->\n",
              "<g id=\"node5\" class=\"node\">\n",
              "<title>4153328800993141862</title>\n",
              "<path fill=\"none\" stroke=\"black\" stroke-width=\"0.25\" d=\"M11.33,-64C11.33,-64 5.67,-64 5.67,-64 2.83,-64 0,-61.17 0,-58.33 0,-58.33 0,-46.67 0,-46.67 0,-43.83 2.83,-41 5.67,-41 5.67,-41 11.33,-41 11.33,-41 14.17,-41 17,-43.83 17,-46.67 17,-46.67 17,-58.33 17,-58.33 17,-61.17 14.17,-64 11.33,-64\"/>\n",
              "<text text-anchor=\"middle\" x=\"8.5\" y=\"-48.8\" font-family=\"Times,serif\" font-size=\"14.00\">E</text>\n",
              "</g>\n",
              "<!-- 6590386647733387555&#45;&gt;4153328800993141862 -->\n",
              "<g id=\"edge6\" class=\"edge\">\n",
              "<title>6590386647733387555&#45;&gt;4153328800993141862</title>\n",
              "<path fill=\"none\" stroke=\"black\" stroke-width=\"0.5\" d=\"M34.67,-82.66C29.32,-76.7 22.53,-69.14 17.21,-63.2\"/>\n",
              "</g>\n",
              "<!-- 4758003986952067143 -->\n",
              "<g id=\"node6\" class=\"node\">\n",
              "<title>4758003986952067143</title>\n",
              "<path fill=\"none\" stroke=\"black\" stroke-width=\"1.25\" d=\"M46.33,-64C46.33,-64 40.67,-64 40.67,-64 37.83,-64 35,-61.17 35,-58.33 35,-58.33 35,-46.67 35,-46.67 35,-43.83 37.83,-41 40.67,-41 40.67,-41 46.33,-41 46.33,-41 49.17,-41 52,-43.83 52,-46.67 52,-46.67 52,-58.33 52,-58.33 52,-61.17 49.17,-64 46.33,-64\"/>\n",
              "<text text-anchor=\"middle\" x=\"43.5\" y=\"-48.8\" font-family=\"Times,serif\" font-size=\"14.00\">+</text>\n",
              "</g>\n",
              "<!-- 6590386647733387555&#45;&gt;4758003986952067143 -->\n",
              "<g id=\"edge7\" class=\"edge\">\n",
              "<title>6590386647733387555&#45;&gt;4758003986952067143</title>\n",
              "<path fill=\"none\" stroke=\"black\" stroke-width=\"0.5\" d=\"M43.5,-81.84C43.5,-76.34 43.5,-69.65 43.5,-64.14\"/>\n",
              "</g>\n",
              "<!-- 5767895528122443921 -->\n",
              "<g id=\"node7\" class=\"node\">\n",
              "<title>5767895528122443921</title>\n",
              "<path fill=\"none\" stroke=\"black\" stroke-width=\"0.25\" d=\"M81.33,-64C81.33,-64 75.67,-64 75.67,-64 72.83,-64 70,-61.17 70,-58.33 70,-58.33 70,-46.67 70,-46.67 70,-43.83 72.83,-41 75.67,-41 75.67,-41 81.33,-41 81.33,-41 84.17,-41 87,-43.83 87,-46.67 87,-46.67 87,-58.33 87,-58.33 87,-61.17 84.17,-64 81.33,-64\"/>\n",
              "<text text-anchor=\"middle\" x=\"78.5\" y=\"-48.8\" font-family=\"Times,serif\" font-size=\"14.00\">E</text>\n",
              "</g>\n",
              "<!-- 6590386647733387555&#45;&gt;5767895528122443921 -->\n",
              "<g id=\"edge8\" class=\"edge\">\n",
              "<title>6590386647733387555&#45;&gt;5767895528122443921</title>\n",
              "<path fill=\"none\" stroke=\"black\" stroke-width=\"0.5\" d=\"M52.33,-82.66C57.68,-76.7 64.47,-69.14 69.79,-63.2\"/>\n",
              "</g>\n",
              "<!-- &#45;5875596915190057959&#45;&gt;3806595991878321486 -->\n",
              "<!-- &#45;2488770240970992521 -->\n",
              "<g id=\"node10\" class=\"node\">\n",
              "<title>&#45;2488770240970992521</title>\n",
              "<path fill=\"none\" stroke=\"black\" stroke-width=\"1.25\" d=\"M115,-64C115,-64 110,-64 110,-64 107.5,-64 105,-61.5 105,-59 105,-59 105,-46 105,-46 105,-43.5 107.5,-41 110,-41 110,-41 115,-41 115,-41 117.5,-41 120,-43.5 120,-46 120,-46 120,-59 120,-59 120,-61.5 117.5,-64 115,-64\"/>\n",
              "<text text-anchor=\"middle\" x=\"112.5\" y=\"-48.8\" font-family=\"Times,serif\" font-size=\"14.00\">e</text>\n",
              "</g>\n",
              "<!-- 3806595991878321486&#45;&gt;&#45;2488770240970992521 -->\n",
              "<g id=\"edge13\" class=\"edge\">\n",
              "<title>3806595991878321486&#45;&gt;&#45;2488770240970992521</title>\n",
              "<path fill=\"none\" stroke=\"black\" stroke-width=\"0.5\" d=\"M111.77,-81.84C111.91,-76.34 112.09,-69.65 112.23,-64.14\"/>\n",
              "</g>\n",
              "<!-- 4153328800993141862&#45;&gt;4758003986952067143 -->\n",
              "<!-- 2814307829706594034 -->\n",
              "<g id=\"node8\" class=\"node\">\n",
              "<title>2814307829706594034</title>\n",
              "<path fill=\"none\" stroke=\"black\" stroke-width=\"1.25\" d=\"M11,-23C11,-23 6,-23 6,-23 3.5,-23 1,-20.5 1,-18 1,-18 1,-5 1,-5 1,-2.5 3.5,0 6,0 6,0 11,0 11,0 13.5,0 16,-2.5 16,-5 16,-5 16,-18 16,-18 16,-20.5 13.5,-23 11,-23\"/>\n",
              "<text text-anchor=\"middle\" x=\"8.5\" y=\"-7.8\" font-family=\"Times,serif\" font-size=\"14.00\">e</text>\n",
              "</g>\n",
              "<!-- 4153328800993141862&#45;&gt;2814307829706594034 -->\n",
              "<g id=\"edge11\" class=\"edge\">\n",
              "<title>4153328800993141862&#45;&gt;2814307829706594034</title>\n",
              "<path fill=\"none\" stroke=\"black\" stroke-width=\"0.5\" d=\"M8.5,-40.84C8.5,-35.34 8.5,-28.65 8.5,-23.14\"/>\n",
              "</g>\n",
              "<!-- 4758003986952067143&#45;&gt;5767895528122443921 -->\n",
              "<!-- &#45;5782287592038569530 -->\n",
              "<g id=\"node9\" class=\"node\">\n",
              "<title>&#45;5782287592038569530</title>\n",
              "<path fill=\"none\" stroke=\"black\" stroke-width=\"1.25\" d=\"M81,-23C81,-23 76,-23 76,-23 73.5,-23 71,-20.5 71,-18 71,-18 71,-5 71,-5 71,-2.5 73.5,0 76,0 76,0 81,0 81,0 83.5,0 86,-2.5 86,-5 86,-5 86,-18 86,-18 86,-20.5 83.5,-23 81,-23\"/>\n",
              "<text text-anchor=\"middle\" x=\"78.5\" y=\"-7.8\" font-family=\"Times,serif\" font-size=\"14.00\">e</text>\n",
              "</g>\n",
              "<!-- 5767895528122443921&#45;&gt;&#45;5782287592038569530 -->\n",
              "<g id=\"edge12\" class=\"edge\">\n",
              "<title>5767895528122443921&#45;&gt;&#45;5782287592038569530</title>\n",
              "<path fill=\"none\" stroke=\"black\" stroke-width=\"0.5\" d=\"M78.5,-40.84C78.5,-35.34 78.5,-28.65 78.5,-23.14\"/>\n",
              "</g>\n",
              "</g>\n",
              "</svg>\n",
              "</div>"
            ],
            "text/plain": [
              "<IPython.core.display.HTML object>"
            ]
          },
          "execution_count": 8,
          "metadata": {},
          "output_type": "execute_result"
        }
      ],
      "source": [
        "# questi sono i due alberi di parsing per l'input\n",
        "\n",
        "side_by_side(*[ProductionGraph(Derivation(G).leftmost(prods)) for prods in all_prods])"
      ]
    }
  ],
  "metadata": {
    "kernelspec": {
      "display_name": "Python 3",
      "language": "python",
      "name": "python3"
    },
    "language_info": {
      "codemirror_mode": {
        "name": "ipython",
        "version": 3
      },
      "file_extension": ".py",
      "mimetype": "text/x-python",
      "name": "python",
      "nbconvert_exporter": "python",
      "pygments_lexer": "ipython3"
    }
  },
  "nbformat": 4,
  "nbformat_minor": 2
}
