{
  "cells": [
    {
      "cell_type": "markdown",
      "metadata": {},
      "source": [
        "# Linguaggi regolari e automi a stati finiti"
      ]
    },
    {
      "cell_type": "code",
      "execution_count": null,
      "metadata": {},
      "outputs": [],
      "source": [
        "from liblet import (\n",
        "  Grammar, \n",
        "  Production,\n",
        "  Derivation,\n",
        "  Transition,\n",
        "  Automaton,\n",
        "  StateTransitionGraph, \n",
        "  Queue, \n",
        "  closure,\n",
        "  dod2table,\n",
        "  union_of,\n",
        "  ε\n",
        ")"
      ]
    },
    {
      "cell_type": "markdown",
      "metadata": {},
      "source": [
        "\n",
        "## Il linguaggio della parte aperta delle forme sentenziali (Sez 5.1.1)"
      ]
    },
    {
      "cell_type": "code",
      "execution_count": null,
      "metadata": {},
      "outputs": [
        {
          "data": {
            "text/html": [
              "<style>td, th {border: 1pt solid lightgray !important ;}</style><table><tr><th><pre>S</pre><td style=\"text-align:left\"><pre>N<sub>(0)</sub> | L & N<sub>(1)</sub></pre><tr><th><pre>L</pre><td style=\"text-align:left\"><pre>N , L<sub>(2)</sub> | N<sub>(3)</sub></pre><tr><th><pre>N</pre><td style=\"text-align:left\"><pre>t<sub>(4)</sub> | d<sub>(5)</sub> | h<sub>(6)</sub></pre></table>"
            ],
            "text/plain": [
              "(S -> N, S -> L & N, L -> N , L, L -> N, N -> t, N -> d, N -> h)"
            ]
          },
          "execution_count": 2,
          "metadata": {},
          "output_type": "execute_result"
        }
      ],
      "source": [
        "# pag. 27, Sec 2.4.3\n",
        "\n",
        "C = Grammar.from_string(\"\"\"\n",
        "S -> N | L & N\n",
        "L -> N , L | N\n",
        "N -> t | d | h\n",
        "\"\"\")\n",
        "C.P"
      ]
    },
    {
      "cell_type": "code",
      "execution_count": null,
      "metadata": {},
      "outputs": [
        {
          "data": {
            "text/plain": [
              "S -> L & N -> N , L & N -> t , L & N -> t , N & N"
            ]
          },
          "execution_count": 3,
          "metadata": {},
          "output_type": "execute_result"
        }
      ],
      "source": [
        "# una derivazione in C la cui parte \"aperta\" è 'N & N'\n",
        "\n",
        "Derivation(C).leftmost((1, 2, 4, 3))"
      ]
    },
    {
      "cell_type": "code",
      "execution_count": null,
      "metadata": {},
      "outputs": [],
      "source": [
        "def open_regular(G):\n",
        "\n",
        "    def bar(symbol):\n",
        "        return symbol if symbol in G.T else symbol + '\\u0305' # aggiunge una barra sopra\n",
        "\n",
        "    T = {bar(G.S)}\n",
        "    P = {Production('R', (G.S, )), Production('R', (bar(G.S), ))}\n",
        "\n",
        "    for A, α in G.P:\n",
        "        while True:\n",
        "            if α == ('ε', ) or not α: break\n",
        "            Xbar, *αbar = map(bar, α)\n",
        "            X, *α = α\n",
        "            P.add(Production(A, [Xbar] + αbar))\n",
        "            if X in G.T: continue\n",
        "            T.add(Xbar)\n",
        "            P.add(Production(A, [X] + αbar))\n",
        "        P.add(Production(A, ('ε',)))\n",
        "\n",
        "    # sorted garantisce che l'ordine delle produzioni non dipenda\n",
        "    # dall'ordine in cui sono aggiunte al set — che in python non \n",
        "    # preserva l'ordine\n",
        "    return Grammar(G.N | {'R'}, G.T | T, sorted(P), 'R')"
      ]
    },
    {
      "cell_type": "code",
      "execution_count": null,
      "metadata": {},
      "outputs": [
        {
          "data": {
            "text/html": [
              "<style>td, th {border: 1pt solid lightgray !important ;}</style><table><tr><th><pre>L</pre><td style=\"text-align:left\"><pre>, L̅<sub>(0)</sub> | L<sub>(1)</sub> | L̅<sub>(2)</sub> | N<sub>(3)</sub> | N , L̅<sub>(4)</sub> | N̅<sub>(5)</sub> | N̅ , L̅<sub>(6)</sub> | ε<sub>(7)</sub></pre><tr><th><pre>N</pre><td style=\"text-align:left\"><pre>d<sub>(8)</sub> | h<sub>(9)</sub> | t<sub>(10)</sub> | ε<sub>(11)</sub></pre><tr><th><pre>R</pre><td style=\"text-align:left\"><pre>S<sub>(12)</sub> | S̅<sub>(13)</sub></pre><tr><th><pre>S</pre><td style=\"text-align:left\"><pre>& N̅<sub>(14)</sub> | L & N̅<sub>(15)</sub> | L̅ & N̅<sub>(16)</sub> | N<sub>(17)</sub> | N̅<sub>(18)</sub> | ε<sub>(19)</sub></pre></table>"
            ],
            "text/plain": [
              "(L -> , L̅,\n",
              " L -> L,\n",
              " L -> L̅,\n",
              " L -> N,\n",
              " L -> N , L̅,\n",
              " L -> N̅,\n",
              " L -> N̅ , L̅,\n",
              " L -> ε,\n",
              " N -> d,\n",
              " N -> h,\n",
              " N -> t,\n",
              " N -> ε,\n",
              " R -> S,\n",
              " R -> S̅,\n",
              " S -> & N̅,\n",
              " S -> L & N̅,\n",
              " S -> L̅ & N̅,\n",
              " S -> N,\n",
              " S -> N̅,\n",
              " S -> ε)"
            ]
          },
          "execution_count": 5,
          "metadata": {},
          "output_type": "execute_result"
        }
      ],
      "source": [
        "G = open_regular(C)\n",
        "G.P"
      ]
    },
    {
      "cell_type": "code",
      "execution_count": null,
      "metadata": {},
      "outputs": [
        {
          "data": {
            "text/plain": [
              "R -> S -> L & N̅ -> N̅ & N̅"
            ]
          },
          "execution_count": 6,
          "metadata": {},
          "output_type": "execute_result"
        }
      ],
      "source": [
        "# Una derivazione in G di 'N & N'\n",
        "\n",
        "Derivation(G).leftmost((12, 15, 5))"
      ]
    },
    {
      "cell_type": "markdown",
      "metadata": {},
      "source": [
        "## Generazione e NFA (Sez. 5.2)"
      ]
    },
    {
      "cell_type": "code",
      "execution_count": null,
      "metadata": {},
      "outputs": [
        {
          "data": {
            "text/plain": [
              "Grammar(N={A, B, C, S}, T={a, b, c}, P=(S -> a A, S -> a B, A -> b B, A -> b C, B -> c A, B -> c C, C -> a), S=S)"
            ]
          },
          "execution_count": 7,
          "metadata": {},
          "output_type": "execute_result"
        }
      ],
      "source": [
        "# fig. 5.6, pag. 142\n",
        "\n",
        "G = Grammar.from_string(\"\"\"\n",
        "S -> a A\n",
        "S -> a B\n",
        "A -> b B\n",
        "A -> b C\n",
        "B -> c A\n",
        "B -> c C\n",
        "C -> a\n",
        "\"\"\")\n",
        "G"
      ]
    },
    {
      "cell_type": "code",
      "execution_count": null,
      "metadata": {},
      "outputs": [
        {
          "data": {
            "text/plain": [
              "Automaton(N={A, B, C, S, ◇}, T={a, b, c}, transitions=(S-a->A, S-a->B, A-b->B, A-b->C, B-c->A, B-c->C, C-a->◇), F={◇}, q0=S)"
            ]
          },
          "execution_count": 8,
          "metadata": {},
          "output_type": "execute_result"
        }
      ],
      "source": [
        "A = Automaton.from_grammar(G)\n",
        "A"
      ]
    },
    {
      "cell_type": "code",
      "execution_count": null,
      "metadata": {},
      "outputs": [
        {
          "data": {
            "image/svg+xml": [
              "<?xml version=\"1.0\" encoding=\"UTF-8\" standalone=\"no\"?>\n",
              "<!DOCTYPE svg PUBLIC \"-//W3C//DTD SVG 1.1//EN\"\n",
              " \"http://www.w3.org/Graphics/SVG/1.1/DTD/svg11.dtd\">\n",
              "<!-- Generated by graphviz version 2.43.0 (0)\n",
              " -->\n",
              "<!-- Title: %3 Pages: 1 -->\n",
              "<svg width=\"557pt\" height=\"106pt\"\n",
              " viewBox=\"0.00 0.00 557.00 106.00\" xmlns=\"http://www.w3.org/2000/svg\" xmlns:xlink=\"http://www.w3.org/1999/xlink\">\n",
              "<g id=\"graph0\" class=\"graph\" transform=\"scale(1 1) rotate(0) translate(4 102)\">\n",
              "<title>%3</title>\n",
              "<polygon fill=\"white\" stroke=\"transparent\" points=\"-4,4 -4,-102 553,-102 553,4 -4,4\"/>\n",
              "<!-- 131306711917104 -->\n",
              "<g id=\"node1\" class=\"node\">\n",
              "<title>131306711917104</title>\n",
              "</g>\n",
              "<!-- 31230294436276559 -->\n",
              "<g id=\"node2\" class=\"node\">\n",
              "<title>31230294436276559</title>\n",
              "<ellipse fill=\"none\" stroke=\"black\" cx=\"118\" cy=\"-18\" rx=\"27\" ry=\"18\"/>\n",
              "<text text-anchor=\"middle\" x=\"118\" y=\"-14.3\" font-family=\"Times,serif\" font-size=\"14.00\">S</text>\n",
              "</g>\n",
              "<!-- 131306711917104&#45;&gt;31230294436276559 -->\n",
              "<g id=\"edge1\" class=\"edge\">\n",
              "<title>131306711917104&#45;&gt;31230294436276559</title>\n",
              "<path fill=\"none\" stroke=\"black\" d=\"M54.22,-18C62.55,-18 71.91,-18 80.82,-18\"/>\n",
              "<polygon fill=\"black\" stroke=\"black\" points=\"80.97,-21.5 90.97,-18 80.97,-14.5 80.97,-21.5\"/>\n",
              "</g>\n",
              "<!-- &#45;538404160368661392 -->\n",
              "<g id=\"node3\" class=\"node\">\n",
              "<title>&#45;538404160368661392</title>\n",
              "<ellipse fill=\"none\" stroke=\"black\" cx=\"217\" cy=\"-63\" rx=\"27\" ry=\"18\"/>\n",
              "<text text-anchor=\"middle\" x=\"217\" y=\"-59.3\" font-family=\"Times,serif\" font-size=\"14.00\">A</text>\n",
              "</g>\n",
              "<!-- 31230294436276559&#45;&gt;&#45;538404160368661392 -->\n",
              "<g id=\"edge2\" class=\"edge\">\n",
              "<title>31230294436276559&#45;&gt;&#45;538404160368661392</title>\n",
              "<path fill=\"none\" stroke=\"black\" d=\"M140.53,-27.99C153.62,-34.06 170.56,-41.92 185.08,-48.65\"/>\n",
              "<polygon fill=\"black\" stroke=\"black\" points=\"183.65,-51.85 194.2,-52.89 186.6,-45.5 183.65,-51.85\"/>\n",
              "<text text-anchor=\"middle\" x=\"167.5\" y=\"-44.8\" font-family=\"Times,serif\" font-size=\"14.00\">a</text>\n",
              "</g>\n",
              "<!-- 3927257967329679119 -->\n",
              "<g id=\"node4\" class=\"node\">\n",
              "<title>3927257967329679119</title>\n",
              "<ellipse fill=\"none\" stroke=\"black\" cx=\"317\" cy=\"-42\" rx=\"27\" ry=\"18\"/>\n",
              "<text text-anchor=\"middle\" x=\"317\" y=\"-38.3\" font-family=\"Times,serif\" font-size=\"14.00\">B</text>\n",
              "</g>\n",
              "<!-- 31230294436276559&#45;&gt;3927257967329679119 -->\n",
              "<g id=\"edge3\" class=\"edge\">\n",
              "<title>31230294436276559&#45;&gt;3927257967329679119</title>\n",
              "<path fill=\"none\" stroke=\"black\" d=\"M144.98,-16.26C175.86,-14.93 228.66,-15.01 272,-27 275.64,-28.01 279.41,-29.14 283.15,-30.33\"/>\n",
              "<polygon fill=\"black\" stroke=\"black\" points=\"282.27,-33.73 292.87,-33.54 284.47,-27.08 282.27,-33.73\"/>\n",
              "<text text-anchor=\"middle\" x=\"217\" y=\"-24.8\" font-family=\"Times,serif\" font-size=\"14.00\">a</text>\n",
              "</g>\n",
              "<!-- &#45;538404160368661392&#45;&gt;3927257967329679119 -->\n",
              "<g id=\"edge4\" class=\"edge\">\n",
              "<title>&#45;538404160368661392&#45;&gt;3927257967329679119</title>\n",
              "<path fill=\"none\" stroke=\"black\" d=\"M242.98,-57.65C254.5,-55.18 268.37,-52.21 280.92,-49.52\"/>\n",
              "<polygon fill=\"black\" stroke=\"black\" points=\"282.02,-52.86 291.06,-47.34 280.55,-46.02 282.02,-52.86\"/>\n",
              "<text text-anchor=\"middle\" x=\"267\" y=\"-56.8\" font-family=\"Times,serif\" font-size=\"14.00\">b</text>\n",
              "</g>\n",
              "<!-- &#45;5941475188331244591 -->\n",
              "<g id=\"node5\" class=\"node\">\n",
              "<title>&#45;5941475188331244591</title>\n",
              "<ellipse fill=\"none\" stroke=\"black\" cx=\"415\" cy=\"-76\" rx=\"27\" ry=\"18\"/>\n",
              "<text text-anchor=\"middle\" x=\"415\" y=\"-72.3\" font-family=\"Times,serif\" font-size=\"14.00\">C</text>\n",
              "</g>\n",
              "<!-- &#45;538404160368661392&#45;&gt;&#45;5941475188331244591 -->\n",
              "<g id=\"edge5\" class=\"edge\">\n",
              "<title>&#45;538404160368661392&#45;&gt;&#45;5941475188331244591</title>\n",
              "<path fill=\"none\" stroke=\"black\" d=\"M243.03,-68.71C249.21,-69.96 255.82,-71.16 262,-72 309.66,-78.51 321.93,-80.64 370,-79 372.54,-78.91 375.17,-78.8 377.81,-78.66\"/>\n",
              "<polygon fill=\"black\" stroke=\"black\" points=\"378.18,-82.15 387.96,-78.07 377.77,-75.16 378.18,-82.15\"/>\n",
              "<text text-anchor=\"middle\" x=\"317\" y=\"-82.8\" font-family=\"Times,serif\" font-size=\"14.00\">b</text>\n",
              "</g>\n",
              "<!-- 3927257967329679119&#45;&gt;&#45;538404160368661392 -->\n",
              "<g id=\"edge6\" class=\"edge\">\n",
              "<title>3927257967329679119&#45;&gt;&#45;538404160368661392</title>\n",
              "<path fill=\"none\" stroke=\"black\" d=\"M293.36,-32.93C283.58,-30.26 272.09,-28.8 262,-32 254.77,-34.29 247.71,-38.24 241.43,-42.57\"/>\n",
              "<polygon fill=\"black\" stroke=\"black\" points=\"239.31,-39.79 233.41,-48.59 243.51,-45.39 239.31,-39.79\"/>\n",
              "<text text-anchor=\"middle\" x=\"267\" y=\"-35.8\" font-family=\"Times,serif\" font-size=\"14.00\">c</text>\n",
              "</g>\n",
              "<!-- 3927257967329679119&#45;&gt;&#45;5941475188331244591 -->\n",
              "<g id=\"edge7\" class=\"edge\">\n",
              "<title>3927257967329679119&#45;&gt;&#45;5941475188331244591</title>\n",
              "<path fill=\"none\" stroke=\"black\" d=\"M341.24,-50.23C353.18,-54.46 367.93,-59.68 381.03,-64.32\"/>\n",
              "<polygon fill=\"black\" stroke=\"black\" points=\"380.05,-67.69 390.64,-67.73 382.38,-61.09 380.05,-67.69\"/>\n",
              "<text text-anchor=\"middle\" x=\"366\" y=\"-63.8\" font-family=\"Times,serif\" font-size=\"14.00\">c</text>\n",
              "</g>\n",
              "<!-- 5429356728083335759 -->\n",
              "<g id=\"node6\" class=\"node\">\n",
              "<title>5429356728083335759</title>\n",
              "<ellipse fill=\"none\" stroke=\"black\" cx=\"518\" cy=\"-76\" rx=\"27\" ry=\"18\"/>\n",
              "<ellipse fill=\"none\" stroke=\"black\" cx=\"518\" cy=\"-76\" rx=\"31\" ry=\"22\"/>\n",
              "<text text-anchor=\"middle\" x=\"518\" y=\"-72.3\" font-family=\"Times,serif\" font-size=\"14.00\">◇</text>\n",
              "</g>\n",
              "<!-- &#45;5941475188331244591&#45;&gt;5429356728083335759 -->\n",
              "<g id=\"edge8\" class=\"edge\">\n",
              "<title>&#45;5941475188331244591&#45;&gt;5429356728083335759</title>\n",
              "<path fill=\"none\" stroke=\"black\" d=\"M442.01,-76C452.59,-76 465.06,-76 476.76,-76\"/>\n",
              "<polygon fill=\"black\" stroke=\"black\" points=\"476.78,-79.5 486.78,-76 476.78,-72.5 476.78,-79.5\"/>\n",
              "<text text-anchor=\"middle\" x=\"464.5\" y=\"-79.8\" font-family=\"Times,serif\" font-size=\"14.00\">a</text>\n",
              "</g>\n",
              "</g>\n",
              "</svg>\n"
            ],
            "text/plain": [
              "<liblet.display.StateTransitionGraph at 0x776c25e7bd60>"
            ]
          },
          "execution_count": 9,
          "metadata": {},
          "output_type": "execute_result"
        }
      ],
      "source": [
        "StateTransitionGraph.from_automaton(A)"
      ]
    },
    {
      "cell_type": "code",
      "execution_count": null,
      "metadata": {},
      "outputs": [
        {
          "data": {
            "image/svg+xml": [
              "<?xml version=\"1.0\" encoding=\"UTF-8\" standalone=\"no\"?>\n",
              "<!DOCTYPE svg PUBLIC \"-//W3C//DTD SVG 1.1//EN\"\n",
              " \"http://www.w3.org/Graphics/SVG/1.1/DTD/svg11.dtd\">\n",
              "<!-- Generated by graphviz version 2.43.0 (0)\n",
              " -->\n",
              "<!-- Title: %3 Pages: 1 -->\n",
              "<svg width=\"557pt\" height=\"232pt\"\n",
              " viewBox=\"0.00 0.00 557.00 232.00\" xmlns=\"http://www.w3.org/2000/svg\" xmlns:xlink=\"http://www.w3.org/1999/xlink\">\n",
              "<g id=\"graph0\" class=\"graph\" transform=\"scale(1 1) rotate(0) translate(4 228)\">\n",
              "<title>%3</title>\n",
              "<polygon fill=\"white\" stroke=\"transparent\" points=\"-4,4 -4,-228 553,-228 553,4 -4,4\"/>\n",
              "<!-- 131306711917104 -->\n",
              "<g id=\"node1\" class=\"node\">\n",
              "<title>131306711917104</title>\n",
              "</g>\n",
              "<!-- 31230294436276559 -->\n",
              "<g id=\"node2\" class=\"node\">\n",
              "<title>31230294436276559</title>\n",
              "<ellipse fill=\"none\" stroke=\"black\" cx=\"118\" cy=\"-129\" rx=\"27\" ry=\"18\"/>\n",
              "<text text-anchor=\"middle\" x=\"118\" y=\"-125.3\" font-family=\"Times,serif\" font-size=\"14.00\">S</text>\n",
              "</g>\n",
              "<!-- 131306711917104&#45;&gt;31230294436276559 -->\n",
              "<g id=\"edge1\" class=\"edge\">\n",
              "<title>131306711917104&#45;&gt;31230294436276559</title>\n",
              "<path fill=\"none\" stroke=\"black\" d=\"M54.22,-129C62.55,-129 71.91,-129 80.82,-129\"/>\n",
              "<polygon fill=\"black\" stroke=\"black\" points=\"80.97,-132.5 90.97,-129 80.97,-125.5 80.97,-132.5\"/>\n",
              "</g>\n",
              "<!-- &#45;538404160368661392 -->\n",
              "<g id=\"node3\" class=\"node\">\n",
              "<title>&#45;538404160368661392</title>\n",
              "<ellipse fill=\"none\" stroke=\"black\" cx=\"217\" cy=\"-90\" rx=\"27\" ry=\"18\"/>\n",
              "<text text-anchor=\"middle\" x=\"217\" y=\"-86.3\" font-family=\"Times,serif\" font-size=\"14.00\">A</text>\n",
              "</g>\n",
              "<!-- 31230294436276559&#45;&gt;&#45;538404160368661392 -->\n",
              "<g id=\"edge2\" class=\"edge\">\n",
              "<title>31230294436276559&#45;&gt;&#45;538404160368661392</title>\n",
              "<path fill=\"none\" stroke=\"black\" d=\"M141.5,-119.95C154.02,-114.92 169.82,-108.57 183.65,-103.01\"/>\n",
              "<polygon fill=\"black\" stroke=\"black\" points=\"185.32,-106.11 193.29,-99.13 182.7,-99.61 185.32,-106.11\"/>\n",
              "<text text-anchor=\"middle\" x=\"167.5\" y=\"-113.8\" font-family=\"Times,serif\" font-size=\"14.00\">a</text>\n",
              "</g>\n",
              "<!-- 3927257967329679119 -->\n",
              "<g id=\"node4\" class=\"node\">\n",
              "<title>3927257967329679119</title>\n",
              "<ellipse fill=\"none\" stroke=\"black\" cx=\"317\" cy=\"-128\" rx=\"27\" ry=\"18\"/>\n",
              "<text text-anchor=\"middle\" x=\"317\" y=\"-124.3\" font-family=\"Times,serif\" font-size=\"14.00\">B</text>\n",
              "</g>\n",
              "<!-- 31230294436276559&#45;&gt;3927257967329679119 -->\n",
              "<g id=\"edge3\" class=\"edge\">\n",
              "<title>31230294436276559&#45;&gt;3927257967329679119</title>\n",
              "<path fill=\"none\" stroke=\"black\" d=\"M145.26,-129.18C175.74,-129.35 227.51,-129.51 272,-129 274.54,-128.97 277.16,-128.93 279.8,-128.89\"/>\n",
              "<polygon fill=\"black\" stroke=\"black\" points=\"280.01,-132.38 289.94,-128.69 279.88,-125.39 280.01,-132.38\"/>\n",
              "<text text-anchor=\"middle\" x=\"217\" y=\"-132.8\" font-family=\"Times,serif\" font-size=\"14.00\">a</text>\n",
              "</g>\n",
              "<!-- &#45;538404160368661392&#45;&gt;3927257967329679119 -->\n",
              "<g id=\"edge4\" class=\"edge\">\n",
              "<title>&#45;538404160368661392&#45;&gt;3927257967329679119</title>\n",
              "<path fill=\"none\" stroke=\"black\" d=\"M243.66,-87C252.86,-86.82 263.13,-87.67 272,-91 280.46,-94.17 288.44,-99.73 295.23,-105.59\"/>\n",
              "<polygon fill=\"black\" stroke=\"black\" points=\"292.9,-108.21 302.59,-112.48 297.68,-103.1 292.9,-108.21\"/>\n",
              "<text text-anchor=\"middle\" x=\"267\" y=\"-94.8\" font-family=\"Times,serif\" font-size=\"14.00\">b</text>\n",
              "</g>\n",
              "<!-- &#45;5941475188331244591 -->\n",
              "<g id=\"node5\" class=\"node\">\n",
              "<title>&#45;5941475188331244591</title>\n",
              "<ellipse fill=\"none\" stroke=\"black\" cx=\"415\" cy=\"-57\" rx=\"27\" ry=\"18\"/>\n",
              "<text text-anchor=\"middle\" x=\"415\" y=\"-53.3\" font-family=\"Times,serif\" font-size=\"14.00\">C</text>\n",
              "</g>\n",
              "<!-- &#45;538404160368661392&#45;&gt;&#45;5941475188331244591 -->\n",
              "<g id=\"edge5\" class=\"edge\">\n",
              "<title>&#45;538404160368661392&#45;&gt;&#45;5941475188331244591</title>\n",
              "<path fill=\"none\" stroke=\"black\" d=\"M243.62,-85.69C278.05,-79.89 339.41,-69.56 378.34,-63\"/>\n",
              "<polygon fill=\"black\" stroke=\"black\" points=\"379.4,-66.37 388.68,-61.26 378.24,-59.47 379.4,-66.37\"/>\n",
              "<text text-anchor=\"middle\" x=\"317\" y=\"-81.8\" font-family=\"Times,serif\" font-size=\"14.00\">b</text>\n",
              "</g>\n",
              "<!-- 3927257967329679119&#45;&gt;&#45;538404160368661392 -->\n",
              "<g id=\"edge6\" class=\"edge\">\n",
              "<title>3927257967329679119&#45;&gt;&#45;538404160368661392</title>\n",
              "<path fill=\"none\" stroke=\"black\" d=\"M293.39,-119.23C280.55,-114.25 264.26,-107.94 250.11,-102.45\"/>\n",
              "<polygon fill=\"black\" stroke=\"black\" points=\"251.32,-99.17 240.73,-98.81 248.79,-105.69 251.32,-99.17\"/>\n",
              "<text text-anchor=\"middle\" x=\"267\" y=\"-113.8\" font-family=\"Times,serif\" font-size=\"14.00\">c</text>\n",
              "</g>\n",
              "<!-- 3927257967329679119&#45;&gt;&#45;5941475188331244591 -->\n",
              "<g id=\"edge7\" class=\"edge\">\n",
              "<title>3927257967329679119&#45;&gt;&#45;5941475188331244591</title>\n",
              "<path fill=\"none\" stroke=\"black\" d=\"M336.06,-114.65C350.76,-103.77 371.72,-88.27 388.2,-76.08\"/>\n",
              "<polygon fill=\"black\" stroke=\"black\" points=\"390.39,-78.82 396.35,-70.05 386.23,-73.19 390.39,-78.82\"/>\n",
              "<text text-anchor=\"middle\" x=\"366\" y=\"-97.8\" font-family=\"Times,serif\" font-size=\"14.00\">c</text>\n",
              "</g>\n",
              "<!-- 9076304564241015901 -->\n",
              "<g id=\"node7\" class=\"node\">\n",
              "<title>9076304564241015901</title>\n",
              "<ellipse fill=\"none\" stroke=\"black\" cx=\"415\" cy=\"-206\" rx=\"27\" ry=\"18\"/>\n",
              "<text text-anchor=\"middle\" x=\"415\" y=\"-202.3\" font-family=\"Times,serif\" font-size=\"14.00\">D</text>\n",
              "</g>\n",
              "<!-- 3927257967329679119&#45;&gt;9076304564241015901 -->\n",
              "<g id=\"edge9\" class=\"edge\">\n",
              "<title>3927257967329679119&#45;&gt;9076304564241015901</title>\n",
              "<path fill=\"none\" stroke=\"black\" d=\"M334.72,-141.59C349.77,-153.81 372.09,-171.95 389.21,-185.86\"/>\n",
              "<polygon fill=\"black\" stroke=\"black\" points=\"387.18,-188.72 397.15,-192.31 391.59,-183.29 387.18,-188.72\"/>\n",
              "<text text-anchor=\"middle\" x=\"366\" y=\"-172.8\" font-family=\"Times,serif\" font-size=\"14.00\">c</text>\n",
              "</g>\n",
              "<!-- &#45;5585997557262684822 -->\n",
              "<g id=\"node8\" class=\"node\">\n",
              "<title>&#45;5585997557262684822</title>\n",
              "<ellipse fill=\"none\" stroke=\"black\" cx=\"415\" cy=\"-119\" rx=\"27\" ry=\"18\"/>\n",
              "<text text-anchor=\"middle\" x=\"415\" y=\"-115.3\" font-family=\"Times,serif\" font-size=\"14.00\">E</text>\n",
              "</g>\n",
              "<!-- 3927257967329679119&#45;&gt;&#45;5585997557262684822 -->\n",
              "<g id=\"edge10\" class=\"edge\">\n",
              "<title>3927257967329679119&#45;&gt;&#45;5585997557262684822</title>\n",
              "<path fill=\"none\" stroke=\"black\" d=\"M343.98,-125.56C354.44,-124.58 366.68,-123.44 377.97,-122.38\"/>\n",
              "<polygon fill=\"black\" stroke=\"black\" points=\"378.37,-125.86 388,-121.44 377.72,-118.89 378.37,-125.86\"/>\n",
              "<text text-anchor=\"middle\" x=\"366\" y=\"-126.8\" font-family=\"Times,serif\" font-size=\"14.00\">c</text>\n",
              "</g>\n",
              "<!-- 5429356728083335759 -->\n",
              "<g id=\"node6\" class=\"node\">\n",
              "<title>5429356728083335759</title>\n",
              "<ellipse fill=\"none\" stroke=\"black\" cx=\"518\" cy=\"-22\" rx=\"27\" ry=\"18\"/>\n",
              "<ellipse fill=\"none\" stroke=\"black\" cx=\"518\" cy=\"-22\" rx=\"31\" ry=\"22\"/>\n",
              "<text text-anchor=\"middle\" x=\"518\" y=\"-18.3\" font-family=\"Times,serif\" font-size=\"14.00\">◇</text>\n",
              "</g>\n",
              "<!-- &#45;5941475188331244591&#45;&gt;5429356728083335759 -->\n",
              "<g id=\"edge8\" class=\"edge\">\n",
              "<title>&#45;5941475188331244591&#45;&gt;5429356728083335759</title>\n",
              "<path fill=\"none\" stroke=\"black\" d=\"M439.17,-48.97C451.26,-44.78 466.34,-39.55 480,-34.82\"/>\n",
              "<polygon fill=\"black\" stroke=\"black\" points=\"481.33,-38.06 489.64,-31.48 479.04,-31.45 481.33,-38.06\"/>\n",
              "<text text-anchor=\"middle\" x=\"464.5\" y=\"-45.8\" font-family=\"Times,serif\" font-size=\"14.00\">a</text>\n",
              "</g>\n",
              "<!-- &#45;5585997557262684822&#45;&gt;&#45;5585997557262684822 -->\n",
              "<g id=\"edge11\" class=\"edge\">\n",
              "<title>&#45;5585997557262684822&#45;&gt;&#45;5585997557262684822</title>\n",
              "<path fill=\"none\" stroke=\"black\" d=\"M406.43,-136.41C404.83,-146.09 407.69,-155 415,-155 419.57,-155 422.4,-151.52 423.49,-146.54\"/>\n",
              "<polygon fill=\"black\" stroke=\"black\" points=\"426.99,-146.44 423.57,-136.41 419.99,-146.38 426.99,-146.44\"/>\n",
              "<text text-anchor=\"middle\" x=\"415\" y=\"-158.8\" font-family=\"Times,serif\" font-size=\"14.00\">e</text>\n",
              "</g>\n",
              "<!-- 1920247675080246966 -->\n",
              "<g id=\"node9\" class=\"node\">\n",
              "<title>1920247675080246966</title>\n",
              "<ellipse fill=\"none\" stroke=\"black\" cx=\"118\" cy=\"-51\" rx=\"27\" ry=\"18\"/>\n",
              "<text text-anchor=\"middle\" x=\"118\" y=\"-47.3\" font-family=\"Times,serif\" font-size=\"14.00\">F</text>\n",
              "</g>\n",
              "<!-- 1920247675080246966&#45;&gt;&#45;538404160368661392 -->\n",
              "<g id=\"edge12\" class=\"edge\">\n",
              "<title>1920247675080246966&#45;&gt;&#45;538404160368661392</title>\n",
              "<path fill=\"none\" stroke=\"black\" d=\"M141.5,-60.05C154.02,-65.08 169.82,-71.43 183.65,-76.99\"/>\n",
              "<polygon fill=\"black\" stroke=\"black\" points=\"182.7,-80.39 193.29,-80.87 185.32,-73.89 182.7,-80.39\"/>\n",
              "<text text-anchor=\"middle\" x=\"167.5\" y=\"-75.8\" font-family=\"Times,serif\" font-size=\"14.00\">f</text>\n",
              "</g>\n",
              "<!-- 1920247675080246966&#45;&gt;5429356728083335759 -->\n",
              "<g id=\"edge13\" class=\"edge\">\n",
              "<title>1920247675080246966&#45;&gt;5429356728083335759</title>\n",
              "<path fill=\"none\" stroke=\"black\" d=\"M136.12,-37.5C154.69,-24.24 185.74,-6 216,-6 216,-6 216,-6 416,-6 436.82,-6 459.76,-9.36 478.51,-13\"/>\n",
              "<polygon fill=\"black\" stroke=\"black\" points=\"477.96,-16.46 488.46,-15.03 479.36,-9.6 477.96,-16.46\"/>\n",
              "<text text-anchor=\"middle\" x=\"317\" y=\"-9.8\" font-family=\"Times,serif\" font-size=\"14.00\">h</text>\n",
              "</g>\n",
              "</g>\n",
              "</svg>\n"
            ],
            "text/plain": [
              "<liblet.display.StateTransitionGraph at 0x776c25ec6da0>"
            ]
          },
          "execution_count": 10,
          "metadata": {},
          "output_type": "execute_result"
        }
      ],
      "source": [
        "# pag. 143\n",
        "\n",
        "Gp = Grammar.from_string(\"\"\"\n",
        "S -> a A\n",
        "S -> a B\n",
        "A -> b B\n",
        "A -> b C\n",
        "B -> c A\n",
        "B -> c C\n",
        "C -> a\n",
        "B -> c D\n",
        "B -> c E\n",
        "E -> e E\n",
        "F -> f A\n",
        "F -> h\n",
        "\"\"\")\n",
        "Gp.T -= {'D'}\n",
        "Gp.N |= {'D'}\n",
        "\n",
        "StateTransitionGraph.from_automaton(Automaton.from_grammar(Gp))"
      ]
    },
    {
      "cell_type": "markdown",
      "metadata": {},
      "source": [
        "## Parsing (Sez. 5.3)\n",
        "\n",
        "### La set construction (Sez. 5.3.1)"
      ]
    },
    {
      "cell_type": "code",
      "execution_count": null,
      "metadata": {},
      "outputs": [
        {
          "data": {
            "text/plain": [
              "Automaton(N={{A, B}, {A, C}, {B, C}, {S}, {◇}}, T={a, b, c}, transitions=({S}-a->{A, B}, {A, B}-c->{A, C}, {A, B}-b->{B, C}, {A, C}-a->{◇}, {A, C}-b->{B, C}, {B, C}-c->{A, C}, {B, C}-a->{◇}), F={{◇}}, q0={S})"
            ]
          },
          "execution_count": 11,
          "metadata": {},
          "output_type": "execute_result"
        }
      ],
      "source": [
        "Ns = set()\n",
        "Ts = A.T\n",
        "Ss = frozenset(A.q0)\n",
        "\n",
        "transitions = []\n",
        "\n",
        "q = Queue([Ss])\n",
        "while q:\n",
        "  Xs = q.dequeue()\n",
        "  if Xs in Ns: continue\n",
        "  for t in Ts:\n",
        "    Ys = frozenset(union_of(A.δ(X, t) for X in Xs))\n",
        "    if Ys: \n",
        "      transitions.append(Transition(Xs, t, Ys))\n",
        "      q.enqueue(Ys)\n",
        "  Ns.add(Xs)\n",
        "\n",
        "Fs = {Xs for Xs in Ns if A.F & Xs}\n",
        "\n",
        "As = Automaton(Ns, Ts, transitions, Ss, Fs)\n",
        "As"
      ]
    },
    {
      "cell_type": "code",
      "execution_count": null,
      "metadata": {},
      "outputs": [
        {
          "data": {
            "image/svg+xml": [
              "<?xml version=\"1.0\" encoding=\"UTF-8\" standalone=\"no\"?>\n",
              "<!DOCTYPE svg PUBLIC \"-//W3C//DTD SVG 1.1//EN\"\n",
              " \"http://www.w3.org/Graphics/SVG/1.1/DTD/svg11.dtd\">\n",
              "<!-- Generated by graphviz version 2.43.0 (0)\n",
              " -->\n",
              "<!-- Title: %3 Pages: 1 -->\n",
              "<svg width=\"654pt\" height=\"106pt\"\n",
              " viewBox=\"0.00 0.00 653.57 106.00\" xmlns=\"http://www.w3.org/2000/svg\" xmlns:xlink=\"http://www.w3.org/1999/xlink\">\n",
              "<g id=\"graph0\" class=\"graph\" transform=\"scale(1 1) rotate(0) translate(4 102)\">\n",
              "<title>%3</title>\n",
              "<polygon fill=\"white\" stroke=\"transparent\" points=\"-4,4 -4,-102 649.57,-102 649.57,4 -4,4\"/>\n",
              "<!-- 131306375616480 -->\n",
              "<g id=\"node1\" class=\"node\">\n",
              "<title>131306375616480</title>\n",
              "</g>\n",
              "<!-- &#45;292477380650107159 -->\n",
              "<g id=\"node2\" class=\"node\">\n",
              "<title>&#45;292477380650107159</title>\n",
              "<ellipse fill=\"none\" stroke=\"black\" cx=\"119.6\" cy=\"-18\" rx=\"28.7\" ry=\"18\"/>\n",
              "<text text-anchor=\"middle\" x=\"119.6\" y=\"-14.3\" font-family=\"Times,serif\" font-size=\"14.00\">{S}</text>\n",
              "</g>\n",
              "<!-- 131306375616480&#45;&gt;&#45;292477380650107159 -->\n",
              "<g id=\"edge1\" class=\"edge\">\n",
              "<title>131306375616480&#45;&gt;&#45;292477380650107159</title>\n",
              "<path fill=\"none\" stroke=\"black\" d=\"M54.2,-18C62.47,-18 71.77,-18 80.68,-18\"/>\n",
              "<polygon fill=\"black\" stroke=\"black\" points=\"80.87,-21.5 90.87,-18 80.87,-14.5 80.87,-21.5\"/>\n",
              "</g>\n",
              "<!-- &#45;228336210340783689 -->\n",
              "<g id=\"node3\" class=\"node\">\n",
              "<title>&#45;228336210340783689</title>\n",
              "<ellipse fill=\"none\" stroke=\"black\" cx=\"234.79\" cy=\"-18\" rx=\"41.69\" ry=\"18\"/>\n",
              "<text text-anchor=\"middle\" x=\"234.79\" y=\"-14.3\" font-family=\"Times,serif\" font-size=\"14.00\">{A, B}</text>\n",
              "</g>\n",
              "<!-- &#45;292477380650107159&#45;&gt;&#45;228336210340783689 -->\n",
              "<g id=\"edge2\" class=\"edge\">\n",
              "<title>&#45;292477380650107159&#45;&gt;&#45;228336210340783689</title>\n",
              "<path fill=\"none\" stroke=\"black\" d=\"M148.29,-18C158.72,-18 170.93,-18 182.82,-18\"/>\n",
              "<polygon fill=\"black\" stroke=\"black\" points=\"183.12,-21.5 193.12,-18 183.12,-14.5 183.12,-21.5\"/>\n",
              "<text text-anchor=\"middle\" x=\"170.69\" y=\"-21.8\" font-family=\"Times,serif\" font-size=\"14.00\">a</text>\n",
              "</g>\n",
              "<!-- &#45;505920500739372572 -->\n",
              "<g id=\"node4\" class=\"node\">\n",
              "<title>&#45;505920500739372572</title>\n",
              "<ellipse fill=\"none\" stroke=\"black\" cx=\"361.98\" cy=\"-63\" rx=\"41.69\" ry=\"18\"/>\n",
              "<text text-anchor=\"middle\" x=\"361.98\" y=\"-59.3\" font-family=\"Times,serif\" font-size=\"14.00\">{A, C}</text>\n",
              "</g>\n",
              "<!-- &#45;228336210340783689&#45;&gt;&#45;505920500739372572 -->\n",
              "<g id=\"edge3\" class=\"edge\">\n",
              "<title>&#45;228336210340783689&#45;&gt;&#45;505920500739372572</title>\n",
              "<path fill=\"none\" stroke=\"black\" d=\"M267.38,-29.36C283.25,-35.06 302.67,-42.04 319.7,-48.16\"/>\n",
              "<polygon fill=\"black\" stroke=\"black\" points=\"318.81,-51.56 329.4,-51.65 321.18,-44.97 318.81,-51.56\"/>\n",
              "<text text-anchor=\"middle\" x=\"298.39\" y=\"-44.8\" font-family=\"Times,serif\" font-size=\"14.00\">c</text>\n",
              "</g>\n",
              "<!-- &#45;8039619534812977792 -->\n",
              "<g id=\"node5\" class=\"node\">\n",
              "<title>&#45;8039619534812977792</title>\n",
              "<ellipse fill=\"none\" stroke=\"black\" cx=\"491.83\" cy=\"-42\" rx=\"42.49\" ry=\"18\"/>\n",
              "<text text-anchor=\"middle\" x=\"491.83\" y=\"-38.3\" font-family=\"Times,serif\" font-size=\"14.00\">{B, C}</text>\n",
              "</g>\n",
              "<!-- &#45;228336210340783689&#45;&gt;&#45;8039619534812977792 -->\n",
              "<g id=\"edge4\" class=\"edge\">\n",
              "<title>&#45;228336210340783689&#45;&gt;&#45;8039619534812977792</title>\n",
              "<path fill=\"none\" stroke=\"black\" d=\"M276.28,-16.54C310.35,-15.84 360.31,-16.02 403.58,-21 416.22,-22.45 419.19,-24.1 431.58,-27 436.18,-28.08 440.97,-29.23 445.75,-30.4\"/>\n",
              "<polygon fill=\"black\" stroke=\"black\" points=\"444.93,-33.81 455.48,-32.82 446.62,-27.01 444.93,-33.81\"/>\n",
              "<text text-anchor=\"middle\" x=\"361.98\" y=\"-24.8\" font-family=\"Times,serif\" font-size=\"14.00\">b</text>\n",
              "</g>\n",
              "<!-- &#45;505920500739372572&#45;&gt;&#45;8039619534812977792 -->\n",
              "<g id=\"edge6\" class=\"edge\">\n",
              "<title>&#45;505920500739372572&#45;&gt;&#45;8039619534812977792</title>\n",
              "<path fill=\"none\" stroke=\"black\" d=\"M401.34,-56.7C414.12,-54.6 428.53,-52.23 441.99,-50.02\"/>\n",
              "<polygon fill=\"black\" stroke=\"black\" points=\"442.75,-53.44 452.05,-48.37 441.62,-46.54 442.75,-53.44\"/>\n",
              "<text text-anchor=\"middle\" x=\"426.58\" y=\"-56.8\" font-family=\"Times,serif\" font-size=\"14.00\">b</text>\n",
              "</g>\n",
              "<!-- 1196720881031614457 -->\n",
              "<g id=\"node6\" class=\"node\">\n",
              "<title>1196720881031614457</title>\n",
              "<ellipse fill=\"none\" stroke=\"black\" cx=\"612.32\" cy=\"-76\" rx=\"29.47\" ry=\"18\"/>\n",
              "<ellipse fill=\"none\" stroke=\"black\" cx=\"612.32\" cy=\"-76\" rx=\"33.5\" ry=\"22\"/>\n",
              "<text text-anchor=\"middle\" x=\"612.32\" y=\"-72.3\" font-family=\"Times,serif\" font-size=\"14.00\">{◇}</text>\n",
              "</g>\n",
              "<!-- &#45;505920500739372572&#45;&gt;1196720881031614457 -->\n",
              "<g id=\"edge5\" class=\"edge\">\n",
              "<title>&#45;505920500739372572&#45;&gt;1196720881031614457</title>\n",
              "<path fill=\"none\" stroke=\"black\" d=\"M401.06,-69.36C407.88,-70.36 414.93,-71.29 421.58,-72 483.32,-78.62 499.02,-82.47 561.07,-80 563.64,-79.9 566.27,-79.77 568.93,-79.62\"/>\n",
              "<polygon fill=\"black\" stroke=\"black\" points=\"569.43,-83.09 579.18,-78.94 568.97,-76.1 569.43,-83.09\"/>\n",
              "<text text-anchor=\"middle\" x=\"491.83\" y=\"-83.8\" font-family=\"Times,serif\" font-size=\"14.00\">a</text>\n",
              "</g>\n",
              "<!-- &#45;8039619534812977792&#45;&gt;&#45;505920500739372572 -->\n",
              "<g id=\"edge7\" class=\"edge\">\n",
              "<title>&#45;8039619534812977792&#45;&gt;&#45;505920500739372572</title>\n",
              "<path fill=\"none\" stroke=\"black\" d=\"M456.75,-31.87C445.46,-29.89 432.9,-29.19 421.58,-32 412.23,-34.32 402.73,-38.44 394.17,-42.93\"/>\n",
              "<polygon fill=\"black\" stroke=\"black\" points=\"392.34,-39.95 385.32,-47.88 395.75,-46.06 392.34,-39.95\"/>\n",
              "<text text-anchor=\"middle\" x=\"426.58\" y=\"-35.8\" font-family=\"Times,serif\" font-size=\"14.00\">c</text>\n",
              "</g>\n",
              "<!-- &#45;8039619534812977792&#45;&gt;1196720881031614457 -->\n",
              "<g id=\"edge8\" class=\"edge\">\n",
              "<title>&#45;8039619534812977792&#45;&gt;1196720881031614457</title>\n",
              "<path fill=\"none\" stroke=\"black\" d=\"M527.42,-51.93C541.16,-55.87 557.06,-60.43 571.29,-64.51\"/>\n",
              "<polygon fill=\"black\" stroke=\"black\" points=\"570.73,-68 581.31,-67.39 572.66,-61.27 570.73,-68\"/>\n",
              "<text text-anchor=\"middle\" x=\"556.57\" y=\"-64.8\" font-family=\"Times,serif\" font-size=\"14.00\">a</text>\n",
              "</g>\n",
              "</g>\n",
              "</svg>\n"
            ],
            "text/plain": [
              "<liblet.display.StateTransitionGraph at 0x776c25ec7fa0>"
            ]
          },
          "execution_count": 12,
          "metadata": {},
          "output_type": "execute_result"
        }
      ],
      "source": [
        "StateTransitionGraph.from_automaton(As, False)"
      ]
    },
    {
      "cell_type": "code",
      "execution_count": null,
      "metadata": {},
      "outputs": [
        {
          "data": {
            "image/svg+xml": [
              "<?xml version=\"1.0\" encoding=\"UTF-8\" standalone=\"no\"?>\n",
              "<!DOCTYPE svg PUBLIC \"-//W3C//DTD SVG 1.1//EN\"\n",
              " \"http://www.w3.org/Graphics/SVG/1.1/DTD/svg11.dtd\">\n",
              "<!-- Generated by graphviz version 2.43.0 (0)\n",
              " -->\n",
              "<!-- Title: %3 Pages: 1 -->\n",
              "<svg width=\"557pt\" height=\"106pt\"\n",
              " viewBox=\"0.00 0.00 557.00 106.00\" xmlns=\"http://www.w3.org/2000/svg\" xmlns:xlink=\"http://www.w3.org/1999/xlink\">\n",
              "<g id=\"graph0\" class=\"graph\" transform=\"scale(1 1) rotate(0) translate(4 102)\">\n",
              "<title>%3</title>\n",
              "<polygon fill=\"white\" stroke=\"transparent\" points=\"-4,4 -4,-102 553,-102 553,4 -4,4\"/>\n",
              "<!-- 131306711917104 -->\n",
              "<g id=\"node1\" class=\"node\">\n",
              "<title>131306711917104</title>\n",
              "</g>\n",
              "<!-- 31230294436276559 -->\n",
              "<g id=\"node2\" class=\"node\">\n",
              "<title>31230294436276559</title>\n",
              "<ellipse fill=\"none\" stroke=\"black\" cx=\"118\" cy=\"-18\" rx=\"27\" ry=\"18\"/>\n",
              "<text text-anchor=\"middle\" x=\"118\" y=\"-14.3\" font-family=\"Times,serif\" font-size=\"14.00\">S</text>\n",
              "</g>\n",
              "<!-- 131306711917104&#45;&gt;31230294436276559 -->\n",
              "<g id=\"edge1\" class=\"edge\">\n",
              "<title>131306711917104&#45;&gt;31230294436276559</title>\n",
              "<path fill=\"none\" stroke=\"black\" d=\"M54.22,-18C62.55,-18 71.91,-18 80.82,-18\"/>\n",
              "<polygon fill=\"black\" stroke=\"black\" points=\"80.97,-21.5 90.97,-18 80.97,-14.5 80.97,-21.5\"/>\n",
              "</g>\n",
              "<!-- 8549183301168232328 -->\n",
              "<g id=\"node3\" class=\"node\">\n",
              "<title>8549183301168232328</title>\n",
              "<ellipse fill=\"none\" stroke=\"black\" cx=\"217\" cy=\"-18\" rx=\"27\" ry=\"18\"/>\n",
              "<text text-anchor=\"middle\" x=\"217\" y=\"-14.3\" font-family=\"Times,serif\" font-size=\"14.00\">A B</text>\n",
              "</g>\n",
              "<!-- 31230294436276559&#45;&gt;8549183301168232328 -->\n",
              "<g id=\"edge2\" class=\"edge\">\n",
              "<title>31230294436276559&#45;&gt;8549183301168232328</title>\n",
              "<path fill=\"none\" stroke=\"black\" d=\"M145.25,-18C155.82,-18 168.18,-18 179.6,-18\"/>\n",
              "<polygon fill=\"black\" stroke=\"black\" points=\"179.73,-21.5 189.73,-18 179.73,-14.5 179.73,-21.5\"/>\n",
              "<text text-anchor=\"middle\" x=\"167.5\" y=\"-21.8\" font-family=\"Times,serif\" font-size=\"14.00\">a</text>\n",
              "</g>\n",
              "<!-- &#45;4512720647510253191 -->\n",
              "<g id=\"node4\" class=\"node\">\n",
              "<title>&#45;4512720647510253191</title>\n",
              "<ellipse fill=\"none\" stroke=\"black\" cx=\"315\" cy=\"-63\" rx=\"27\" ry=\"18\"/>\n",
              "<text text-anchor=\"middle\" x=\"315\" y=\"-59.3\" font-family=\"Times,serif\" font-size=\"14.00\">A C</text>\n",
              "</g>\n",
              "<!-- 8549183301168232328&#45;&gt;&#45;4512720647510253191 -->\n",
              "<g id=\"edge3\" class=\"edge\">\n",
              "<title>8549183301168232328&#45;&gt;&#45;4512720647510253191</title>\n",
              "<path fill=\"none\" stroke=\"black\" d=\"M239.78,-28.21C252.55,-34.19 268.88,-41.85 282.98,-48.46\"/>\n",
              "<polygon fill=\"black\" stroke=\"black\" points=\"281.76,-51.75 292.3,-52.83 284.73,-45.42 281.76,-51.75\"/>\n",
              "<text text-anchor=\"middle\" x=\"266\" y=\"-44.8\" font-family=\"Times,serif\" font-size=\"14.00\">c</text>\n",
              "</g>\n",
              "<!-- &#45;6035185968205994128 -->\n",
              "<g id=\"node5\" class=\"node\">\n",
              "<title>&#45;6035185968205994128</title>\n",
              "<ellipse fill=\"none\" stroke=\"black\" cx=\"415\" cy=\"-42\" rx=\"27\" ry=\"18\"/>\n",
              "<text text-anchor=\"middle\" x=\"415\" y=\"-38.3\" font-family=\"Times,serif\" font-size=\"14.00\">B C</text>\n",
              "</g>\n",
              "<!-- 8549183301168232328&#45;&gt;&#45;6035185968205994128 -->\n",
              "<g id=\"edge4\" class=\"edge\">\n",
              "<title>8549183301168232328&#45;&gt;&#45;6035185968205994128</title>\n",
              "<path fill=\"none\" stroke=\"black\" d=\"M244.09,-16.27C274.8,-14.98 327.07,-15.13 370,-27 373.64,-28.01 377.41,-29.14 381.15,-30.33\"/>\n",
              "<polygon fill=\"black\" stroke=\"black\" points=\"380.27,-33.73 390.87,-33.54 382.47,-27.08 380.27,-33.73\"/>\n",
              "<text text-anchor=\"middle\" x=\"315\" y=\"-24.8\" font-family=\"Times,serif\" font-size=\"14.00\">b</text>\n",
              "</g>\n",
              "<!-- &#45;4512720647510253191&#45;&gt;&#45;6035185968205994128 -->\n",
              "<g id=\"edge6\" class=\"edge\">\n",
              "<title>&#45;4512720647510253191&#45;&gt;&#45;6035185968205994128</title>\n",
              "<path fill=\"none\" stroke=\"black\" d=\"M340.98,-57.65C352.5,-55.18 366.37,-52.21 378.92,-49.52\"/>\n",
              "<polygon fill=\"black\" stroke=\"black\" points=\"380.02,-52.86 389.06,-47.34 378.55,-46.02 380.02,-52.86\"/>\n",
              "<text text-anchor=\"middle\" x=\"365\" y=\"-56.8\" font-family=\"Times,serif\" font-size=\"14.00\">b</text>\n",
              "</g>\n",
              "<!-- 5429356728083335759 -->\n",
              "<g id=\"node6\" class=\"node\">\n",
              "<title>5429356728083335759</title>\n",
              "<ellipse fill=\"none\" stroke=\"black\" cx=\"518\" cy=\"-76\" rx=\"27\" ry=\"18\"/>\n",
              "<ellipse fill=\"none\" stroke=\"black\" cx=\"518\" cy=\"-76\" rx=\"31\" ry=\"22\"/>\n",
              "<text text-anchor=\"middle\" x=\"518\" y=\"-72.3\" font-family=\"Times,serif\" font-size=\"14.00\">◇</text>\n",
              "</g>\n",
              "<!-- &#45;4512720647510253191&#45;&gt;5429356728083335759 -->\n",
              "<g id=\"edge5\" class=\"edge\">\n",
              "<title>&#45;4512720647510253191&#45;&gt;5429356728083335759</title>\n",
              "<path fill=\"none\" stroke=\"black\" d=\"M341.03,-68.76C347.2,-70 353.82,-71.19 360,-72 408.1,-78.33 420.49,-79.01 469,-78 471.55,-77.95 474.18,-77.88 476.83,-77.8\"/>\n",
              "<polygon fill=\"black\" stroke=\"black\" points=\"477.18,-81.29 487.05,-77.44 476.93,-74.29 477.18,-81.29\"/>\n",
              "<text text-anchor=\"middle\" x=\"415\" y=\"-81.8\" font-family=\"Times,serif\" font-size=\"14.00\">a</text>\n",
              "</g>\n",
              "<!-- &#45;6035185968205994128&#45;&gt;&#45;4512720647510253191 -->\n",
              "<g id=\"edge7\" class=\"edge\">\n",
              "<title>&#45;6035185968205994128&#45;&gt;&#45;4512720647510253191</title>\n",
              "<path fill=\"none\" stroke=\"black\" d=\"M391.36,-32.93C381.58,-30.26 370.09,-28.8 360,-32 352.77,-34.29 345.71,-38.24 339.43,-42.57\"/>\n",
              "<polygon fill=\"black\" stroke=\"black\" points=\"337.31,-39.79 331.41,-48.59 341.51,-45.39 337.31,-39.79\"/>\n",
              "<text text-anchor=\"middle\" x=\"365\" y=\"-35.8\" font-family=\"Times,serif\" font-size=\"14.00\">c</text>\n",
              "</g>\n",
              "<!-- &#45;6035185968205994128&#45;&gt;5429356728083335759 -->\n",
              "<g id=\"edge8\" class=\"edge\">\n",
              "<title>&#45;6035185968205994128&#45;&gt;5429356728083335759</title>\n",
              "<path fill=\"none\" stroke=\"black\" d=\"M439.43,-49.89C451.52,-53.96 466.57,-59.02 480.17,-63.6\"/>\n",
              "<polygon fill=\"black\" stroke=\"black\" points=\"479.17,-66.96 489.77,-66.83 481.41,-60.33 479.17,-66.96\"/>\n",
              "<text text-anchor=\"middle\" x=\"464.5\" y=\"-62.8\" font-family=\"Times,serif\" font-size=\"14.00\">a</text>\n",
              "</g>\n",
              "</g>\n",
              "</svg>\n"
            ],
            "text/plain": [
              "<liblet.display.StateTransitionGraph at 0x776c25ec7cd0>"
            ]
          },
          "execution_count": 13,
          "metadata": {},
          "output_type": "execute_result"
        }
      ],
      "source": [
        "StateTransitionGraph.from_automaton(As)"
      ]
    },
    {
      "cell_type": "markdown",
      "metadata": {},
      "source": [
        "#### Rappresentazione tabellare dell'automa"
      ]
    },
    {
      "cell_type": "code",
      "execution_count": null,
      "metadata": {},
      "outputs": [
        {
          "data": {
            "text/html": [
              "<style>td, th {border: 1pt solid lightgray !important ;}</style><table><tr><td>&nbsp;<th style=\"text-align:left\">a<th style=\"text-align:left\">b<th style=\"text-align:left\">c\n",
              "<tr><th style=\"text-align:left\"><pre>AB</pre><td style=\"text-align:left\"><pre></pre><td style=\"text-align:left\"><pre>BC</pre><td style=\"text-align:left\"><pre>AC</pre>\n",
              "<tr><th style=\"text-align:left\"><pre>BC</pre><td style=\"text-align:left\"><pre>◇</pre><td style=\"text-align:left\"><pre></pre><td style=\"text-align:left\"><pre>AC</pre>\n",
              "<tr><th style=\"text-align:left\"><pre>AC</pre><td style=\"text-align:left\"><pre>◇</pre><td style=\"text-align:left\"><pre>BC</pre><td style=\"text-align:left\"><pre></pre>\n",
              "<tr><th style=\"text-align:left\"><pre>S</pre><td style=\"text-align:left\"><pre>AB</pre><td style=\"text-align:left\"><pre></pre><td style=\"text-align:left\"><pre></pre>\n",
              "</table>"
            ],
            "text/plain": [
              "<IPython.core.display.HTML object>"
            ]
          },
          "execution_count": 14,
          "metadata": {},
          "output_type": "execute_result"
        }
      ],
      "source": [
        "dod = {}\n",
        "for Xs in As.N - {frozenset('◇')}:\n",
        "  dod[''.join(sorted(Xs))] = {t: ''.join(sorted(next(iter(As.δ(Xs, t)), ''))) for t in sorted(As.T)}\n",
        "\n",
        "dod2table(dod)"
      ]
    },
    {
      "cell_type": "code",
      "execution_count": null,
      "metadata": {},
      "outputs": [
        {
          "data": {
            "text/plain": [
              "Automaton(N={A, B, S, ◇}, T={a, b}, transitions=(S-ε->A, S-a->B, A-a->A, A-ε->◇, B-b->B, B-b->◇), F={◇}, q0=S)"
            ]
          },
          "execution_count": 15,
          "metadata": {},
          "output_type": "execute_result"
        }
      ],
      "source": [
        "# fig. 5.14, pag. 147\n",
        "\n",
        "A = Automaton.from_grammar(Grammar.from_string(\"\"\"\n",
        "S -> A\n",
        "S -> a B\n",
        "A -> a A\n",
        "A -> ε\n",
        "B -> b B\n",
        "B -> b\n",
        "\"\"\"))\n",
        "A"
      ]
    },
    {
      "cell_type": "code",
      "execution_count": null,
      "metadata": {},
      "outputs": [
        {
          "data": {
            "image/svg+xml": [
              "<?xml version=\"1.0\" encoding=\"UTF-8\" standalone=\"no\"?>\n",
              "<!DOCTYPE svg PUBLIC \"-//W3C//DTD SVG 1.1//EN\"\n",
              " \"http://www.w3.org/Graphics/SVG/1.1/DTD/svg11.dtd\">\n",
              "<!-- Generated by graphviz version 2.43.0 (0)\n",
              " -->\n",
              "<!-- Title: %3 Pages: 1 -->\n",
              "<svg width=\"360pt\" height=\"164pt\"\n",
              " viewBox=\"0.00 0.00 360.00 164.00\" xmlns=\"http://www.w3.org/2000/svg\" xmlns:xlink=\"http://www.w3.org/1999/xlink\">\n",
              "<g id=\"graph0\" class=\"graph\" transform=\"scale(1 1) rotate(0) translate(4 160)\">\n",
              "<title>%3</title>\n",
              "<polygon fill=\"white\" stroke=\"transparent\" points=\"-4,4 -4,-160 356,-160 356,4 -4,4\"/>\n",
              "<!-- 131306711917104 -->\n",
              "<g id=\"node1\" class=\"node\">\n",
              "<title>131306711917104</title>\n",
              "</g>\n",
              "<!-- 31230294436276559 -->\n",
              "<g id=\"node2\" class=\"node\">\n",
              "<title>31230294436276559</title>\n",
              "<ellipse fill=\"none\" stroke=\"black\" cx=\"118\" cy=\"-61\" rx=\"27\" ry=\"18\"/>\n",
              "<text text-anchor=\"middle\" x=\"118\" y=\"-57.3\" font-family=\"Times,serif\" font-size=\"14.00\">S</text>\n",
              "</g>\n",
              "<!-- 131306711917104&#45;&gt;31230294436276559 -->\n",
              "<g id=\"edge1\" class=\"edge\">\n",
              "<title>131306711917104&#45;&gt;31230294436276559</title>\n",
              "<path fill=\"none\" stroke=\"black\" d=\"M54.22,-61C62.55,-61 71.91,-61 80.82,-61\"/>\n",
              "<polygon fill=\"black\" stroke=\"black\" points=\"80.97,-64.5 90.97,-61 80.97,-57.5 80.97,-64.5\"/>\n",
              "</g>\n",
              "<!-- &#45;538404160368661392 -->\n",
              "<g id=\"node3\" class=\"node\">\n",
              "<title>&#45;538404160368661392</title>\n",
              "<ellipse fill=\"none\" stroke=\"black\" cx=\"217\" cy=\"-105\" rx=\"27\" ry=\"18\"/>\n",
              "<text text-anchor=\"middle\" x=\"217\" y=\"-101.3\" font-family=\"Times,serif\" font-size=\"14.00\">A</text>\n",
              "</g>\n",
              "<!-- 31230294436276559&#45;&gt;&#45;538404160368661392 -->\n",
              "<g id=\"edge2\" class=\"edge\">\n",
              "<title>31230294436276559&#45;&gt;&#45;538404160368661392</title>\n",
              "<path fill=\"none\" stroke=\"black\" d=\"M141.01,-70.98C153.91,-76.83 170.41,-84.32 184.65,-90.78\"/>\n",
              "<polygon fill=\"black\" stroke=\"black\" points=\"183.52,-94.11 194.08,-95.06 186.42,-87.74 183.52,-94.11\"/>\n",
              "<text text-anchor=\"middle\" x=\"167.5\" y=\"-87.8\" font-family=\"Times,serif\" font-size=\"14.00\">ε</text>\n",
              "</g>\n",
              "<!-- 3927257967329679119 -->\n",
              "<g id=\"node4\" class=\"node\">\n",
              "<title>3927257967329679119</title>\n",
              "<ellipse fill=\"none\" stroke=\"black\" cx=\"217\" cy=\"-18\" rx=\"27\" ry=\"18\"/>\n",
              "<text text-anchor=\"middle\" x=\"217\" y=\"-14.3\" font-family=\"Times,serif\" font-size=\"14.00\">B</text>\n",
              "</g>\n",
              "<!-- 31230294436276559&#45;&gt;3927257967329679119 -->\n",
              "<g id=\"edge3\" class=\"edge\">\n",
              "<title>31230294436276559&#45;&gt;3927257967329679119</title>\n",
              "<path fill=\"none\" stroke=\"black\" d=\"M141.01,-51.24C153.91,-45.52 170.41,-38.21 184.65,-31.9\"/>\n",
              "<polygon fill=\"black\" stroke=\"black\" points=\"186.35,-34.97 194.08,-27.72 183.52,-28.57 186.35,-34.97\"/>\n",
              "<text text-anchor=\"middle\" x=\"167.5\" y=\"-43.8\" font-family=\"Times,serif\" font-size=\"14.00\">a</text>\n",
              "</g>\n",
              "<!-- &#45;538404160368661392&#45;&gt;&#45;538404160368661392 -->\n",
              "<g id=\"edge4\" class=\"edge\">\n",
              "<title>&#45;538404160368661392&#45;&gt;&#45;538404160368661392</title>\n",
              "<path fill=\"none\" stroke=\"black\" d=\"M208.43,-122.41C206.83,-132.09 209.69,-141 217,-141 221.57,-141 224.4,-137.52 225.49,-132.54\"/>\n",
              "<polygon fill=\"black\" stroke=\"black\" points=\"228.99,-132.44 225.57,-122.41 221.99,-132.38 228.99,-132.44\"/>\n",
              "<text text-anchor=\"middle\" x=\"217\" y=\"-144.8\" font-family=\"Times,serif\" font-size=\"14.00\">a</text>\n",
              "</g>\n",
              "<!-- 5429356728083335759 -->\n",
              "<g id=\"node5\" class=\"node\">\n",
              "<title>5429356728083335759</title>\n",
              "<ellipse fill=\"none\" stroke=\"black\" cx=\"321\" cy=\"-61\" rx=\"27\" ry=\"18\"/>\n",
              "<ellipse fill=\"none\" stroke=\"black\" cx=\"321\" cy=\"-61\" rx=\"31\" ry=\"22\"/>\n",
              "<text text-anchor=\"middle\" x=\"321\" y=\"-57.3\" font-family=\"Times,serif\" font-size=\"14.00\">◇</text>\n",
              "</g>\n",
              "<!-- &#45;538404160368661392&#45;&gt;5429356728083335759 -->\n",
              "<g id=\"edge5\" class=\"edge\">\n",
              "<title>&#45;538404160368661392&#45;&gt;5429356728083335759</title>\n",
              "<path fill=\"none\" stroke=\"black\" d=\"M240.13,-95.45C253.11,-89.85 269.81,-82.65 284.57,-76.28\"/>\n",
              "<polygon fill=\"black\" stroke=\"black\" points=\"286.15,-79.42 293.94,-72.24 283.37,-72.99 286.15,-79.42\"/>\n",
              "<text text-anchor=\"middle\" x=\"267\" y=\"-88.8\" font-family=\"Times,serif\" font-size=\"14.00\">ε</text>\n",
              "</g>\n",
              "<!-- 3927257967329679119&#45;&gt;3927257967329679119 -->\n",
              "<g id=\"edge6\" class=\"edge\">\n",
              "<title>3927257967329679119&#45;&gt;3927257967329679119</title>\n",
              "<path fill=\"none\" stroke=\"black\" d=\"M208.43,-35.41C206.83,-45.09 209.69,-54 217,-54 221.57,-54 224.4,-50.52 225.49,-45.54\"/>\n",
              "<polygon fill=\"black\" stroke=\"black\" points=\"228.99,-45.44 225.57,-35.41 221.99,-45.38 228.99,-45.44\"/>\n",
              "<text text-anchor=\"middle\" x=\"217\" y=\"-57.8\" font-family=\"Times,serif\" font-size=\"14.00\">b</text>\n",
              "</g>\n",
              "<!-- 3927257967329679119&#45;&gt;5429356728083335759 -->\n",
              "<g id=\"edge7\" class=\"edge\">\n",
              "<title>3927257967329679119&#45;&gt;5429356728083335759</title>\n",
              "<path fill=\"none\" stroke=\"black\" d=\"M240.13,-27.33C253.11,-32.8 269.81,-39.84 284.57,-46.07\"/>\n",
              "<polygon fill=\"black\" stroke=\"black\" points=\"283.37,-49.35 293.94,-50.01 286.09,-42.9 283.37,-49.35\"/>\n",
              "<text text-anchor=\"middle\" x=\"267\" y=\"-42.8\" font-family=\"Times,serif\" font-size=\"14.00\">b</text>\n",
              "</g>\n",
              "</g>\n",
              "</svg>\n"
            ],
            "text/plain": [
              "<liblet.display.StateTransitionGraph at 0x776c25e7beb0>"
            ]
          },
          "execution_count": 16,
          "metadata": {},
          "output_type": "execute_result"
        }
      ],
      "source": [
        "StateTransitionGraph.from_automaton(A)"
      ]
    },
    {
      "cell_type": "code",
      "execution_count": null,
      "metadata": {},
      "outputs": [
        {
          "data": {
            "text/plain": [
              "{'A', 'S', '◇'}"
            ]
          },
          "execution_count": 17,
          "metadata": {},
          "output_type": "execute_result"
        }
      ],
      "source": [
        "@closure\n",
        "def ε_closure(S, A):\n",
        "  return S | {Y for X, x, Y in A.transitions if x == ε and X in S}\n",
        "\n",
        "ε_closure({'S'}, A)"
      ]
    },
    {
      "cell_type": "code",
      "execution_count": null,
      "metadata": {},
      "outputs": [
        {
          "data": {
            "text/plain": [
              "Automaton(N={{A, B, ◇}, {A, S, ◇}, {A, ◇}, {B, ◇}}, T={a, b}, transitions=({A, S, ◇}-a->{A, B, ◇}, {A, B, ◇}-a->{A, ◇}, {A, B, ◇}-b->{B, ◇}, {A, ◇}-a->{A, ◇}, {B, ◇}-b->{B, ◇}), F={{A, B, ◇}, {A, S, ◇}, {A, ◇}, {B, ◇}}, q0={A, S, ◇})"
            ]
          },
          "execution_count": 18,
          "metadata": {},
          "output_type": "execute_result"
        }
      ],
      "source": [
        "Ns = set()\n",
        "Ts = A.T\n",
        "Ss = ε_closure(frozenset(A.q0), A)\n",
        "\n",
        "transitions = []\n",
        "\n",
        "q = Queue([Ss])\n",
        "while q:\n",
        "  Xs = q.dequeue()\n",
        "  if Xs in Ns: continue\n",
        "  for t in Ts:\n",
        "    Ys = ε_closure(frozenset(union_of(A.δ(X, t) for X in Xs)), A)\n",
        "    if Ys: \n",
        "      transitions.append(Transition(Xs, t, Ys))\n",
        "      q.enqueue(Ys)\n",
        "  Ns.add(Xs)\n",
        "\n",
        "Fs = {Xs for Xs in Ns if A.F & Xs}\n",
        "\n",
        "As = Automaton(Ns, Ts, transitions, Ss, Fs)\n",
        "As"
      ]
    },
    {
      "cell_type": "code",
      "execution_count": null,
      "metadata": {},
      "outputs": [
        {
          "data": {
            "image/svg+xml": [
              "<?xml version=\"1.0\" encoding=\"UTF-8\" standalone=\"no\"?>\n",
              "<!DOCTYPE svg PUBLIC \"-//W3C//DTD SVG 1.1//EN\"\n",
              " \"http://www.w3.org/Graphics/SVG/1.1/DTD/svg11.dtd\">\n",
              "<!-- Generated by graphviz version 2.43.0 (0)\n",
              " -->\n",
              "<!-- Title: %3 Pages: 1 -->\n",
              "<svg width=\"398pt\" height=\"180pt\"\n",
              " viewBox=\"0.00 0.00 397.99 180.00\" xmlns=\"http://www.w3.org/2000/svg\" xmlns:xlink=\"http://www.w3.org/1999/xlink\">\n",
              "<g id=\"graph0\" class=\"graph\" transform=\"scale(1 1) rotate(0) translate(4 176)\">\n",
              "<title>%3</title>\n",
              "<polygon fill=\"white\" stroke=\"transparent\" points=\"-4,4 -4,-176 393.99,-176 393.99,4 -4,4\"/>\n",
              "<!-- 131306376249040 -->\n",
              "<g id=\"node1\" class=\"node\">\n",
              "<title>131306376249040</title>\n",
              "</g>\n",
              "<!-- &#45;4690078595076198856 -->\n",
              "<g id=\"node2\" class=\"node\">\n",
              "<title>&#45;4690078595076198856</title>\n",
              "<ellipse fill=\"none\" stroke=\"black\" cx=\"127.5\" cy=\"-69\" rx=\"32.49\" ry=\"18\"/>\n",
              "<ellipse fill=\"none\" stroke=\"black\" cx=\"127.5\" cy=\"-69\" rx=\"36.49\" ry=\"22\"/>\n",
              "<text text-anchor=\"middle\" x=\"127.5\" y=\"-65.3\" font-family=\"Times,serif\" font-size=\"14.00\">A S ◇</text>\n",
              "</g>\n",
              "<!-- 131306376249040&#45;&gt;&#45;4690078595076198856 -->\n",
              "<g id=\"edge1\" class=\"edge\">\n",
              "<title>131306376249040&#45;&gt;&#45;4690078595076198856</title>\n",
              "<path fill=\"none\" stroke=\"black\" d=\"M54.14,-69C62.34,-69 71.64,-69 80.78,-69\"/>\n",
              "<polygon fill=\"black\" stroke=\"black\" points=\"80.96,-72.5 90.96,-69 80.96,-65.5 80.96,-72.5\"/>\n",
              "</g>\n",
              "<!-- &#45;1948312347757788293 -->\n",
              "<g id=\"node3\" class=\"node\">\n",
              "<title>&#45;1948312347757788293</title>\n",
              "<ellipse fill=\"none\" stroke=\"black\" cx=\"245.49\" cy=\"-69\" rx=\"32.49\" ry=\"18\"/>\n",
              "<ellipse fill=\"none\" stroke=\"black\" cx=\"245.49\" cy=\"-69\" rx=\"36.49\" ry=\"22\"/>\n",
              "<text text-anchor=\"middle\" x=\"245.49\" y=\"-65.3\" font-family=\"Times,serif\" font-size=\"14.00\">A B ◇</text>\n",
              "</g>\n",
              "<!-- &#45;4690078595076198856&#45;&gt;&#45;1948312347757788293 -->\n",
              "<g id=\"edge2\" class=\"edge\">\n",
              "<title>&#45;4690078595076198856&#45;&gt;&#45;1948312347757788293</title>\n",
              "<path fill=\"none\" stroke=\"black\" d=\"M164.25,-69C175.05,-69 187.07,-69 198.45,-69\"/>\n",
              "<polygon fill=\"black\" stroke=\"black\" points=\"198.66,-72.5 208.66,-69 198.66,-65.5 198.66,-72.5\"/>\n",
              "<text text-anchor=\"middle\" x=\"186.49\" y=\"-72.8\" font-family=\"Times,serif\" font-size=\"14.00\">a</text>\n",
              "</g>\n",
              "<!-- 4812438243142847955 -->\n",
              "<g id=\"node4\" class=\"node\">\n",
              "<title>4812438243142847955</title>\n",
              "<ellipse fill=\"none\" stroke=\"black\" cx=\"358.99\" cy=\"-117\" rx=\"27\" ry=\"18\"/>\n",
              "<ellipse fill=\"none\" stroke=\"black\" cx=\"358.99\" cy=\"-117\" rx=\"31\" ry=\"22\"/>\n",
              "<text text-anchor=\"middle\" x=\"358.99\" y=\"-113.3\" font-family=\"Times,serif\" font-size=\"14.00\">A ◇</text>\n",
              "</g>\n",
              "<!-- &#45;1948312347757788293&#45;&gt;4812438243142847955 -->\n",
              "<g id=\"edge3\" class=\"edge\">\n",
              "<title>&#45;1948312347757788293&#45;&gt;4812438243142847955</title>\n",
              "<path fill=\"none\" stroke=\"black\" d=\"M275.79,-81.61C290.08,-87.76 307.39,-95.22 322.43,-101.69\"/>\n",
              "<polygon fill=\"black\" stroke=\"black\" points=\"321.36,-105.04 331.93,-105.78 324.13,-98.61 321.36,-105.04\"/>\n",
              "<text text-anchor=\"middle\" x=\"304.99\" y=\"-98.8\" font-family=\"Times,serif\" font-size=\"14.00\">a</text>\n",
              "</g>\n",
              "<!-- 8233121373401976441 -->\n",
              "<g id=\"node5\" class=\"node\">\n",
              "<title>8233121373401976441</title>\n",
              "<ellipse fill=\"none\" stroke=\"black\" cx=\"358.99\" cy=\"-22\" rx=\"27\" ry=\"18\"/>\n",
              "<ellipse fill=\"none\" stroke=\"black\" cx=\"358.99\" cy=\"-22\" rx=\"31\" ry=\"22\"/>\n",
              "<text text-anchor=\"middle\" x=\"358.99\" y=\"-18.3\" font-family=\"Times,serif\" font-size=\"14.00\">B ◇</text>\n",
              "</g>\n",
              "<!-- &#45;1948312347757788293&#45;&gt;8233121373401976441 -->\n",
              "<g id=\"edge4\" class=\"edge\">\n",
              "<title>&#45;1948312347757788293&#45;&gt;8233121373401976441</title>\n",
              "<path fill=\"none\" stroke=\"black\" d=\"M275.79,-56.65C290.08,-50.63 307.39,-43.33 322.43,-36.99\"/>\n",
              "<polygon fill=\"black\" stroke=\"black\" points=\"324.08,-40.09 331.93,-32.98 321.36,-33.64 324.08,-40.09\"/>\n",
              "<text text-anchor=\"middle\" x=\"304.99\" y=\"-48.8\" font-family=\"Times,serif\" font-size=\"14.00\">b</text>\n",
              "</g>\n",
              "<!-- 4812438243142847955&#45;&gt;4812438243142847955 -->\n",
              "<g id=\"edge5\" class=\"edge\">\n",
              "<title>4812438243142847955&#45;&gt;4812438243142847955</title>\n",
              "<path fill=\"none\" stroke=\"black\" d=\"M349.11,-137.99C347.89,-148.09 351.18,-157 358.99,-157 363.99,-157 367.14,-153.34 368.43,-148.06\"/>\n",
              "<polygon fill=\"black\" stroke=\"black\" points=\"371.93,-148.13 368.87,-137.99 364.94,-147.83 371.93,-148.13\"/>\n",
              "<text text-anchor=\"middle\" x=\"358.99\" y=\"-160.8\" font-family=\"Times,serif\" font-size=\"14.00\">a</text>\n",
              "</g>\n",
              "<!-- 8233121373401976441&#45;&gt;8233121373401976441 -->\n",
              "<g id=\"edge6\" class=\"edge\">\n",
              "<title>8233121373401976441&#45;&gt;8233121373401976441</title>\n",
              "<path fill=\"none\" stroke=\"black\" d=\"M349.11,-42.99C347.89,-53.09 351.18,-62 358.99,-62 363.99,-62 367.14,-58.34 368.43,-53.06\"/>\n",
              "<polygon fill=\"black\" stroke=\"black\" points=\"371.93,-53.13 368.87,-42.99 364.94,-52.83 371.93,-53.13\"/>\n",
              "<text text-anchor=\"middle\" x=\"358.99\" y=\"-65.8\" font-family=\"Times,serif\" font-size=\"14.00\">b</text>\n",
              "</g>\n",
              "</g>\n",
              "</svg>\n"
            ],
            "text/plain": [
              "<liblet.display.StateTransitionGraph at 0x776c25ec71c0>"
            ]
          },
          "execution_count": 19,
          "metadata": {},
          "output_type": "execute_result"
        }
      ],
      "source": [
        "StateTransitionGraph.from_automaton(As)"
      ]
    },
    {
      "cell_type": "markdown",
      "metadata": {},
      "source": [
        "# Il modulo `re` per le espressioni regolari\n",
        "\n",
        "Sulla falsariga di [Regular Expression HOWTO](https://docs.python.org/3/howto/regex.html) e [Regular expression operations](https://docs.python.org/3/library/re.html) dalla documentazione ufficiale."
      ]
    },
    {
      "cell_type": "code",
      "execution_count": null,
      "metadata": {},
      "outputs": [],
      "source": [
        "import re"
      ]
    },
    {
      "cell_type": "markdown",
      "metadata": {},
      "source": [
        "## Uso di base"
      ]
    },
    {
      "cell_type": "code",
      "execution_count": null,
      "metadata": {},
      "outputs": [
        {
          "name": "stdout",
          "output_type": "stream",
          "text": [
            "a\\nb\n"
          ]
        }
      ],
      "source": [
        "# raw string (https://docs.python.org/3/reference/lexical_analysis.html#string-and-bytes-literals)\n",
        "\n",
        "print(r'a\\nb')"
      ]
    },
    {
      "cell_type": "code",
      "execution_count": null,
      "metadata": {},
      "outputs": [
        {
          "data": {
            "text/plain": [
              "<re.Match object; span=(0, 1), match='b'>"
            ]
          },
          "execution_count": 22,
          "metadata": {},
          "output_type": "execute_result"
        }
      ],
      "source": [
        "# uso diretto\n",
        "\n",
        "re.match(r'a|b', 'b')"
      ]
    },
    {
      "cell_type": "code",
      "execution_count": null,
      "metadata": {},
      "outputs": [
        {
          "data": {
            "text/plain": [
              "<re.Match object; span=(0, 1), match='b'>"
            ]
          },
          "execution_count": 23,
          "metadata": {},
          "output_type": "execute_result"
        }
      ],
      "source": [
        "# o pre-compilando il pattern\n",
        "\n",
        "p = re.compile(r'a|b')\n",
        "\n",
        "p.match('b')"
      ]
    },
    {
      "cell_type": "code",
      "execution_count": null,
      "metadata": {},
      "outputs": [
        {
          "data": {
            "text/plain": [
              "(None, None)"
            ]
          },
          "execution_count": 24,
          "metadata": {},
          "output_type": "execute_result"
        }
      ],
      "source": [
        "# differenza fullmatch/match/search\n",
        "\n",
        "p.fullmatch('xa'), p.fullmatch('ay')"
      ]
    },
    {
      "cell_type": "code",
      "execution_count": null,
      "metadata": {},
      "outputs": [
        {
          "data": {
            "text/plain": [
              "(None, <re.Match object; span=(0, 1), match='a'>)"
            ]
          },
          "execution_count": 25,
          "metadata": {},
          "output_type": "execute_result"
        }
      ],
      "source": [
        "p.match('xa'), p.match('ay')"
      ]
    },
    {
      "cell_type": "code",
      "execution_count": null,
      "metadata": {},
      "outputs": [
        {
          "data": {
            "text/plain": [
              "<re.Match object; span=(1, 2), match='a'>"
            ]
          },
          "execution_count": 26,
          "metadata": {},
          "output_type": "execute_result"
        }
      ],
      "source": [
        "p.search('xay')"
      ]
    },
    {
      "cell_type": "code",
      "execution_count": null,
      "metadata": {},
      "outputs": [
        {
          "data": {
            "text/plain": [
              "[<re.Match object; span=(1, 2), match='a'>,\n",
              " <re.Match object; span=(4, 5), match='a'>,\n",
              " <re.Match object; span=(6, 7), match='b'>,\n",
              " <re.Match object; span=(10, 11), match='a'>]"
            ]
          },
          "execution_count": 27,
          "metadata": {},
          "output_type": "execute_result"
        }
      ],
      "source": [
        "# tutti?\n",
        "\n",
        "list(p.finditer('mamma bella'))"
      ]
    },
    {
      "cell_type": "code",
      "execution_count": null,
      "metadata": {},
      "outputs": [
        {
          "data": {
            "text/plain": [
              "['b', 'a', 'a', 'a']"
            ]
          },
          "execution_count": 28,
          "metadata": {},
          "output_type": "execute_result"
        }
      ],
      "source": [
        "# ma anche più semplicemente\n",
        "\n",
        "p.findall('banana')"
      ]
    },
    {
      "cell_type": "markdown",
      "metadata": {},
      "source": [
        "## Accedere alle sottostringhe"
      ]
    },
    {
      "cell_type": "code",
      "execution_count": null,
      "metadata": {},
      "outputs": [],
      "source": [
        "prefix = '02'\n",
        "number = '342573'\n",
        "telephone = prefix + '/' + number"
      ]
    },
    {
      "cell_type": "code",
      "execution_count": null,
      "metadata": {},
      "outputs": [],
      "source": [
        "# gruppi \"semplici\"\n",
        "\n",
        "p = re.compile(r'([0-9]+)/([0-9]*)')"
      ]
    },
    {
      "cell_type": "code",
      "execution_count": null,
      "metadata": {},
      "outputs": [
        {
          "data": {
            "text/plain": [
              "('02', '342573')"
            ]
          },
          "execution_count": 31,
          "metadata": {},
          "output_type": "execute_result"
        }
      ],
      "source": [
        "m = p.match(telephone)\n",
        "m.groups()"
      ]
    },
    {
      "cell_type": "code",
      "execution_count": null,
      "metadata": {},
      "outputs": [],
      "source": [
        "# gruppi \"annidati\"\n",
        "\n",
        "p = re.compile(r'(([0-9]+)/)?([0-9]*)')"
      ]
    },
    {
      "cell_type": "code",
      "execution_count": null,
      "metadata": {},
      "outputs": [
        {
          "data": {
            "text/plain": [
              "(('02/', '02', '342573'), (None, None, '342573'))"
            ]
          },
          "execution_count": 33,
          "metadata": {},
          "output_type": "execute_result"
        }
      ],
      "source": [
        "m0, m1 = p.match(telephone), p.match(number)\n",
        "m0.groups(), m1.groups()"
      ]
    },
    {
      "cell_type": "code",
      "execution_count": null,
      "metadata": {},
      "outputs": [],
      "source": [
        "# gruppi \"denominati\"\n",
        "\n",
        "p = re.compile(r'((?P<prefix>[0-9]+)/)?(?P<number>[0-9]+)')"
      ]
    },
    {
      "cell_type": "code",
      "execution_count": null,
      "metadata": {},
      "outputs": [
        {
          "data": {
            "text/plain": [
              "({'prefix': '02', 'number': '342573'}, {'prefix': None, 'number': '342573'})"
            ]
          },
          "execution_count": 35,
          "metadata": {},
          "output_type": "execute_result"
        }
      ],
      "source": [
        "m0, m1 = p.match(telephone), p.match(number)\n",
        "m0.groupdict(), m1.groupdict()"
      ]
    },
    {
      "cell_type": "code",
      "execution_count": null,
      "metadata": {},
      "outputs": [],
      "source": [
        "# gruppi senza cattura\n",
        "\n",
        "p = re.compile(r'(?:([0-9]+)/)?([0-9]*)')"
      ]
    },
    {
      "cell_type": "code",
      "execution_count": null,
      "metadata": {},
      "outputs": [
        {
          "data": {
            "text/plain": [
              "(('02', '342573'), (None, '342573'))"
            ]
          },
          "execution_count": 37,
          "metadata": {},
          "output_type": "execute_result"
        }
      ],
      "source": [
        "m0, m1 = p.match(telephone), p.match(number)\n",
        "m0.groups(), m1.groups()"
      ]
    },
    {
      "cell_type": "markdown",
      "metadata": {},
      "source": [
        "## Metacaratteri e flags"
      ]
    },
    {
      "cell_type": "code",
      "execution_count": null,
      "metadata": {},
      "outputs": [],
      "source": [
        "# . ^ $ * + ? { } [ ] \\ | ( )"
      ]
    },
    {
      "cell_type": "code",
      "execution_count": null,
      "metadata": {},
      "outputs": [
        {
          "data": {
            "text/plain": [
              "['j', 's', 't', ' ', 'c', 'n', 's', 'n', 'n', 't', 's']"
            ]
          },
          "execution_count": 39,
          "metadata": {},
          "output_type": "execute_result"
        }
      ],
      "source": [
        "# set negati\n",
        "\n",
        "re.findall(r'[^aeiou]', 'just consonants')"
      ]
    },
    {
      "cell_type": "code",
      "execution_count": null,
      "metadata": {},
      "outputs": [],
      "source": [
        "# multiline\n",
        "\n",
        "text = \"\"\"I've seen things you people wouldn't believe.\n",
        "Attack ships on fire off the shoulder of Orion.\n",
        "I watched C-beams glitter in the dark near the Tannhäuser Gate.\n",
        "All those moments will be lost in time, like tears in rain.\n",
        "Time to die.\"\"\""
      ]
    },
    {
      "cell_type": "code",
      "execution_count": null,
      "metadata": {},
      "outputs": [
        {
          "data": {
            "text/plain": [
              "[\"I've\",\n",
              " 'seen things',\n",
              " 'you people',\n",
              " \"wouldn't\",\n",
              " 'believe.\\nAttack',\n",
              " 'ships on',\n",
              " 'fire off',\n",
              " 'the shoulder',\n",
              " 'of Orion',\n",
              " 'I watched',\n",
              " 'C-beams',\n",
              " 'glitter in',\n",
              " 'the dark',\n",
              " 'near the',\n",
              " 'Tannhäuser Gate',\n",
              " 'All those',\n",
              " 'moments will',\n",
              " 'be lost',\n",
              " 'in time',\n",
              " 'like tears',\n",
              " 'in rain',\n",
              " 'Time to',\n",
              " 'die']"
            ]
          },
          "execution_count": 41,
          "metadata": {},
          "output_type": "execute_result"
        }
      ],
      "source": [
        "# dotall\n",
        "\n",
        "re.findall(r'\\w+.+?\\w+', text, re.DOTALL)"
      ]
    },
    {
      "cell_type": "markdown",
      "metadata": {},
      "source": [
        "### Classi"
      ]
    },
    {
      "cell_type": "code",
      "execution_count": null,
      "metadata": {},
      "outputs": [],
      "source": [
        "text = 'only 123 number, 456 pass! or else?'"
      ]
    },
    {
      "cell_type": "code",
      "execution_count": null,
      "metadata": {},
      "outputs": [
        {
          "data": {
            "text/plain": [
              "(['123', '456'], ['only ', ' number, ', ' pass! or else?'])"
            ]
          },
          "execution_count": 43,
          "metadata": {},
          "output_type": "execute_result"
        }
      ],
      "source": [
        "# numbers\n",
        "\n",
        "re.findall(r'\\d+', text), re.findall(r'\\D+', text)"
      ]
    },
    {
      "cell_type": "code",
      "execution_count": null,
      "metadata": {},
      "outputs": [
        {
          "data": {
            "text/plain": [
              "(['only', '123', 'number', '456', 'pass', 'or', 'else'],\n",
              " [' ', ' ', ', ', ' ', '! ', ' ', '?'])"
            ]
          },
          "execution_count": 44,
          "metadata": {},
          "output_type": "execute_result"
        }
      ],
      "source": [
        "# alphanumeric \n",
        "\n",
        "re.findall(r'\\w+', text), re.findall(r'\\W+', text)"
      ]
    },
    {
      "cell_type": "code",
      "execution_count": null,
      "metadata": {},
      "outputs": [
        {
          "data": {
            "text/plain": [
              "([' ', ' ', ' ', ' ', ' ', ' '],\n",
              " ['only', '123', 'number,', '456', 'pass!', 'or', 'else?'])"
            ]
          },
          "execution_count": 45,
          "metadata": {},
          "output_type": "execute_result"
        }
      ],
      "source": [
        "# whitespace\n",
        "\n",
        "re.findall(r'\\s+', text), re.findall(r'\\S+', text)"
      ]
    },
    {
      "cell_type": "markdown",
      "metadata": {},
      "source": [
        "## Backreference"
      ]
    },
    {
      "cell_type": "code",
      "execution_count": null,
      "metadata": {},
      "outputs": [
        {
          "data": {
            "text/plain": [
              "(<re.Match object; span=(0, 4), match='1001'>, None)"
            ]
          },
          "execution_count": 46,
          "metadata": {},
          "output_type": "execute_result"
        }
      ],
      "source": [
        "# star and end with the same char\n",
        "\n",
        "re.match(r'(.)\\d+(\\1)', '1001'), re.match(r'(.)\\d+(\\1)', '1002')"
      ]
    },
    {
      "cell_type": "code",
      "execution_count": null,
      "metadata": {},
      "outputs": [
        {
          "data": {
            "text/plain": [
              "<re.Match object; span=(0, 8), match='abbaabba'>"
            ]
          },
          "execution_count": 47,
          "metadata": {},
          "output_type": "execute_result"
        }
      ],
      "source": [
        "# oh my got, not even CS! \n",
        "\n",
        "re.match(r'(\\w+)(\\1)', 'abbaabba')"
      ]
    },
    {
      "cell_type": "markdown",
      "metadata": {},
      "source": [
        "## Efficienza"
      ]
    },
    {
      "cell_type": "code",
      "execution_count": null,
      "metadata": {},
      "outputs": [
        {
          "name": "stdout",
          "output_type": "stream",
          "text": [
            "CPU times: user 45 µs, sys: 5 µs, total: 50 µs\n",
            "Wall time: 52.7 µs\n"
          ]
        },
        {
          "data": {
            "text/plain": [
              "<re.Match object; span=(0, 26), match='aaaaaaaaaaaaaaaaaaaaaaaaac'>"
            ]
          },
          "execution_count": 48,
          "metadata": {},
          "output_type": "execute_result"
        }
      ],
      "source": [
        "%%time \n",
        "# veloce se appartiene \n",
        "\n",
        "re.match(r'(a+)+c', 'a' * 25 + 'c')"
      ]
    },
    {
      "cell_type": "code",
      "execution_count": null,
      "metadata": {},
      "outputs": [
        {
          "name": "stdout",
          "output_type": "stream",
          "text": [
            "CPU times: user 743 ms, sys: 0 ns, total: 743 ms\n",
            "Wall time: 735 ms\n"
          ]
        }
      ],
      "source": [
        "%%time \n",
        "# mortale se non appartiene \n",
        "\n",
        "re.match(r'(a+)+c', 'a' * 25 + 'b')"
      ]
    },
    {
      "cell_type": "markdown",
      "metadata": {},
      "source": [
        "# Un Tokenizer"
      ]
    },
    {
      "cell_type": "code",
      "execution_count": null,
      "metadata": {},
      "outputs": [],
      "source": [
        "KIND_PATTERN = (\n",
        "  ('NUMBER',       re.compile(r'\\d+')),\n",
        "  ('IDENTIFIER',   re.compile(r'\\w+')),\n",
        "  ('OP',           re.compile(r'[+*/-]')),\n",
        "  ('OPEN_PAREN',   re.compile(r'\\(')),\n",
        "  ('CLOSED_PAREN', re.compile(r'\\)')),\n",
        "  ('WS',           re.compile(r'\\s+'))\n",
        ")"
      ]
    },
    {
      "cell_type": "code",
      "execution_count": null,
      "metadata": {},
      "outputs": [
        {
          "name": "stdout",
          "output_type": "stream",
          "text": [
            "NUMBER 24\n",
            "OP +\n",
            "IDENTIFIER pippo\n",
            "OP *\n",
            "OPEN_PAREN (\n",
            "NUMBER 123\n",
            "CLOSED_PAREN )\n"
          ]
        }
      ],
      "source": [
        "# In modo \"diretto\"\n",
        "\n",
        "INPUT = '24 + pippo * (123)'\n",
        "\n",
        "rest = INPUT\n",
        "while rest:\n",
        "  for kind, pattern in KIND_PATTERN:\n",
        "    m = pattern.match(rest)\n",
        "    if m:\n",
        "      l = m.span()[1]\n",
        "      value, rest = rest[:l], rest[l:]\n",
        "      if kind != 'WS': print(kind, value)\n",
        "      break"
      ]
    },
    {
      "cell_type": "code",
      "execution_count": null,
      "metadata": {},
      "outputs": [
        {
          "data": {
            "text/plain": [
              "re.compile(r'(?P<NUMBER>\\d+)|(?P<IDENTIFIER>\\w+)|(?P<OP>[+*/-])|(?P<OPEN_PAREN>\\()|(?P<CLOSED_PAREN>\\))|(?P<WS>\\s+)',\n",
              "           re.UNICODE)"
            ]
          },
          "execution_count": 52,
          "metadata": {},
          "output_type": "execute_result"
        }
      ],
      "source": [
        "# più pitonicamente\n",
        "\n",
        "p = re.compile('|'.join(f'(?P<{kind}>{pattern.pattern})' for kind, pattern in KIND_PATTERN))\n",
        "p"
      ]
    },
    {
      "cell_type": "code",
      "execution_count": null,
      "metadata": {},
      "outputs": [
        {
          "name": "stdout",
          "output_type": "stream",
          "text": [
            "NUMBER 24\n",
            "OP +\n",
            "IDENTIFIER pippo\n",
            "OP *\n",
            "OPEN_PAREN (\n",
            "NUMBER 123\n",
            "CLOSED_PAREN )\n"
          ]
        }
      ],
      "source": [
        "INPUT = '24 + pippo * (123)'\n",
        "\n",
        "for m in p.finditer(INPUT):\n",
        "  for k, v in m.groupdict().items():\n",
        "    if k != 'WS' and v: print(k, v)"
      ]
    }
  ],
  "metadata": {
    "kernelspec": {
      "display_name": "Python 3",
      "language": "python",
      "name": "python3"
    },
    "language_info": {
      "codemirror_mode": {
        "name": "ipython",
        "version": 3
      },
      "file_extension": ".py",
      "mimetype": "text/x-python",
      "name": "python",
      "nbconvert_exporter": "python",
      "pygments_lexer": "ipython3"
    }
  },
  "nbformat": 4,
  "nbformat_minor": 2
}
