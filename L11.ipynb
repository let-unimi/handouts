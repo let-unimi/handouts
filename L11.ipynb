{
  "cells": [
    {
      "cell_type": "markdown",
      "metadata": {},
      "source": [
        "# Lezione 11"
      ]
    },
    {
      "cell_type": "code",
      "execution_count": null,
      "metadata": {},
      "outputs": [
        {
          "data": {
            "text/plain": [
              "'1.6.3a0'"
            ]
          },
          "execution_count": 1,
          "metadata": {},
          "output_type": "execute_result"
        }
      ],
      "source": [
        "from liblet import __version__\n",
        "\n",
        "__version__ # deve essere la 1.6.3a0, ho corretto un bug di Table"
      ]
    },
    {
      "cell_type": "code",
      "execution_count": null,
      "metadata": {},
      "outputs": [],
      "source": [
        "from liblet import (\n",
        "  Grammar, \n",
        "  Derivation, \n",
        "  ProductionGraph,\n",
        "  TopDownInstantaneousDescription,\n",
        "  Table,\n",
        "  Tree,\n",
        "  closure, \n",
        "  warn, \n",
        "  show_calls, \n",
        "  union_of, \n",
        "  suffixes,\n",
        "  ε, HASH,\n",
        ")"
      ]
    },
    {
      "cell_type": "markdown",
      "metadata": {},
      "source": [
        "La necessità di seguire tutti i possibili cammini nel grafo che simula la computazione del NPDA deriva dal fatto che (tra l'altro), per un certo simbolo $A$ in cima alla pila e il primo terminale $a$ non ancora elaborato, ci sono più produzioni da considerare.\n",
        "\n",
        "Cominciamo a considerare alcune restrizioni sulla grammatica che potrebbero semplificarci la vita. Dapprima assumiamo che non ci siano ε-regole. Quindi immaginiamo che la grammatica sia tale per cui possiamo pre-computare una tabella che, in posizione $(A, a)$ indichi una sola produzione possibile.\n",
        "\n",
        "In tal caso il processo di parsing si semplificherebbe come segue:"
      ]
    },
    {
      "cell_type": "code",
      "execution_count": null,
      "metadata": {},
      "outputs": [],
      "source": [
        "def parse_noε(G, TABLE, INPUT):\n",
        "  tdid = TopDownInstantaneousDescription(G, INPUT)\n",
        "  while not tdid.is_done():\n",
        "    if tdid.top() in G.N:\n",
        "      P = TABLE[tdid.top(), tdid.head()]\n",
        "      if P is None:\n",
        "        warn(f'No production for ({tdid.top()}, {tdid.head()}) at {tdid.steps}')\n",
        "        return None \n",
        "      tdid = tdid.predict(P)\n",
        "    else:\n",
        "      if tdid.top() == tdid.head():\n",
        "        tdid = tdid.match()\n",
        "      else:\n",
        "        warn(f'Expecting {tdid.top()}, got {tdid.head()}')\n",
        "        return None   \n",
        "  return Derivation(G).leftmost(tdid.steps)"
      ]
    },
    {
      "cell_type": "markdown",
      "metadata": {},
      "source": [
        "Ma come costruire `TABLE`?\n",
        "\n",
        "## Caso SLL(1)\n",
        "\n",
        "Se la grammatica è tale per cui, per ciascun non terminale, le sue alternative iniziano tutte con terminali distinti, è molto facile!"
      ]
    },
    {
      "cell_type": "code",
      "execution_count": null,
      "metadata": {},
      "outputs": [
        {
          "data": {
            "text/plain": [
              "Grammar(N={B, S}, T={a, b}, P=(S -> a B, B -> b, B -> a B b), S=S)"
            ]
          },
          "execution_count": 4,
          "metadata": {},
          "output_type": "execute_result"
        }
      ],
      "source": [
        "# fig. 8.4. pag. 238\n",
        "\n",
        "G = Grammar.from_string(\"\"\"\n",
        "S -> a B\n",
        "B -> b | a B b\n",
        "\"\"\")\n",
        "G"
      ]
    },
    {
      "cell_type": "code",
      "execution_count": null,
      "metadata": {},
      "outputs": [],
      "source": [
        "def compute_simple_table(G):\n",
        "\n",
        "  TABLE = Table(2, no_reassign = True)\n",
        "\n",
        "  for P in G.P:\n",
        "    A, (a, *α) = P\n",
        "    TABLE[A, a] = P\n",
        "\n",
        "  return TABLE"
      ]
    },
    {
      "cell_type": "markdown",
      "metadata": {},
      "source": [
        "Qui si usa un oggetto `Table`, il valore `2` indica che la tabella ha dimensione 2, ossia ha righe e colonne…\n"
      ]
    },
    {
      "cell_type": "code",
      "execution_count": null,
      "metadata": {},
      "outputs": [
        {
          "data": {
            "text/html": [
              "<style>td, th {border: 1pt solid lightgray !important; text-align: left !important;}</style><table><tr><td>&nbsp;<th><pre>a</pre><th><pre>b</pre>\n",
              "<tr><th><pre>S<pre><td><pre>S -&gt; a B</pre><td>&nbsp;\n",
              "<tr><th><pre>B<pre><td><pre>B -&gt; a B b</pre><td><pre>B -&gt; b</pre>\n",
              "</table>"
            ],
            "text/plain": [
              "<liblet.utils.Table at 0x7f2e20133460>"
            ]
          },
          "execution_count": 6,
          "metadata": {},
          "output_type": "execute_result"
        }
      ],
      "source": [
        "TABLE = compute_simple_table(G)\n",
        "TABLE"
      ]
    },
    {
      "cell_type": "code",
      "execution_count": null,
      "metadata": {},
      "outputs": [
        {
          "data": {
            "text/plain": [
              "S -> a B -> a a B b -> a a b b"
            ]
          },
          "execution_count": 7,
          "metadata": {},
          "output_type": "execute_result"
        }
      ],
      "source": [
        "d = parse_noε(G, TABLE, list('aabb'))\n",
        "d"
      ]
    },
    {
      "cell_type": "code",
      "execution_count": null,
      "metadata": {},
      "outputs": [
        {
          "data": {
            "image/svg+xml": [
              "<?xml version=\"1.0\" encoding=\"UTF-8\" standalone=\"no\"?>\n",
              "<!DOCTYPE svg PUBLIC \"-//W3C//DTD SVG 1.1//EN\"\n",
              " \"http://www.w3.org/Graphics/SVG/1.1/DTD/svg11.dtd\">\n",
              "<!-- Generated by graphviz version 2.43.0 (0)\n",
              " -->\n",
              "<!-- Title: %3 Pages: 1 -->\n",
              "<svg width=\"93pt\" height=\"154pt\"\n",
              " viewBox=\"0.00 0.00 93.00 154.00\" xmlns=\"http://www.w3.org/2000/svg\" xmlns:xlink=\"http://www.w3.org/1999/xlink\">\n",
              "<g id=\"graph0\" class=\"graph\" transform=\"scale(1 1) rotate(0) translate(4 150)\">\n",
              "<title>%3</title>\n",
              "<polygon fill=\"white\" stroke=\"transparent\" points=\"-4,4 -4,-150 89,-150 89,4 -4,4\"/>\n",
              "<!-- 5856172903367740106 -->\n",
              "<g id=\"node1\" class=\"node\">\n",
              "<title>5856172903367740106</title>\n",
              "<path fill=\"none\" stroke=\"black\" stroke-width=\"0.25\" d=\"M27.17,-146C27.17,-146 21.83,-146 21.83,-146 19.17,-146 16.5,-143.33 16.5,-140.67 16.5,-140.67 16.5,-128.33 16.5,-128.33 16.5,-125.67 19.17,-123 21.83,-123 21.83,-123 27.17,-123 27.17,-123 29.83,-123 32.5,-125.67 32.5,-128.33 32.5,-128.33 32.5,-140.67 32.5,-140.67 32.5,-143.33 29.83,-146 27.17,-146\"/>\n",
              "<text text-anchor=\"middle\" x=\"24.5\" y=\"-130.8\" font-family=\"Times,serif\" font-size=\"14.00\">S</text>\n",
              "</g>\n",
              "<!-- 6905950063768696817 -->\n",
              "<g id=\"node2\" class=\"node\">\n",
              "<title>6905950063768696817</title>\n",
              "<path fill=\"none\" stroke=\"black\" stroke-width=\"1.25\" d=\"M10,-105C10,-105 5,-105 5,-105 2.5,-105 0,-102.5 0,-100 0,-100 0,-87 0,-87 0,-84.5 2.5,-82 5,-82 5,-82 10,-82 10,-82 12.5,-82 15,-84.5 15,-87 15,-87 15,-100 15,-100 15,-102.5 12.5,-105 10,-105\"/>\n",
              "<text text-anchor=\"middle\" x=\"7.5\" y=\"-89.8\" font-family=\"Times,serif\" font-size=\"14.00\">a</text>\n",
              "</g>\n",
              "<!-- 5856172903367740106&#45;&gt;6905950063768696817 -->\n",
              "<g id=\"edge1\" class=\"edge\">\n",
              "<title>5856172903367740106&#45;&gt;6905950063768696817</title>\n",
              "<path fill=\"none\" stroke=\"black\" stroke-width=\"0.5\" d=\"M19.85,-122.84C17.46,-117.34 14.54,-110.65 12.14,-105.14\"/>\n",
              "</g>\n",
              "<!-- 3659000930029987935 -->\n",
              "<g id=\"node3\" class=\"node\">\n",
              "<title>3659000930029987935</title>\n",
              "<path fill=\"none\" stroke=\"black\" stroke-width=\"0.25\" d=\"M45.5,-105C45.5,-105 39.5,-105 39.5,-105 36.5,-105 33.5,-102 33.5,-99 33.5,-99 33.5,-88 33.5,-88 33.5,-85 36.5,-82 39.5,-82 39.5,-82 45.5,-82 45.5,-82 48.5,-82 51.5,-85 51.5,-88 51.5,-88 51.5,-99 51.5,-99 51.5,-102 48.5,-105 45.5,-105\"/>\n",
              "<text text-anchor=\"middle\" x=\"42.5\" y=\"-89.8\" font-family=\"Times,serif\" font-size=\"14.00\">B</text>\n",
              "</g>\n",
              "<!-- 5856172903367740106&#45;&gt;3659000930029987935 -->\n",
              "<g id=\"edge2\" class=\"edge\">\n",
              "<title>5856172903367740106&#45;&gt;3659000930029987935</title>\n",
              "<path fill=\"none\" stroke=\"black\" stroke-width=\"0.5\" d=\"M29.42,-122.84C31.96,-117.34 35.05,-110.65 37.59,-105.14\"/>\n",
              "</g>\n",
              "<!-- 6905950063768696817&#45;&gt;3659000930029987935 -->\n",
              "<!-- 4468892217028451124 -->\n",
              "<g id=\"node4\" class=\"node\">\n",
              "<title>4468892217028451124</title>\n",
              "<path fill=\"none\" stroke=\"black\" stroke-width=\"1.25\" d=\"M10,-64C10,-64 5,-64 5,-64 2.5,-64 0,-61.5 0,-59 0,-59 0,-46 0,-46 0,-43.5 2.5,-41 5,-41 5,-41 10,-41 10,-41 12.5,-41 15,-43.5 15,-46 15,-46 15,-59 15,-59 15,-61.5 12.5,-64 10,-64\"/>\n",
              "<text text-anchor=\"middle\" x=\"7.5\" y=\"-48.8\" font-family=\"Times,serif\" font-size=\"14.00\">a</text>\n",
              "</g>\n",
              "<!-- 3659000930029987935&#45;&gt;4468892217028451124 -->\n",
              "<g id=\"edge4\" class=\"edge\">\n",
              "<title>3659000930029987935&#45;&gt;4468892217028451124</title>\n",
              "<path fill=\"none\" stroke=\"black\" stroke-width=\"0.5\" d=\"M33.3,-82.25C27.63,-75.93 20.45,-67.93 15.1,-61.97\"/>\n",
              "</g>\n",
              "<!-- &#45;4937594491715175629 -->\n",
              "<g id=\"node5\" class=\"node\">\n",
              "<title>&#45;4937594491715175629</title>\n",
              "<path fill=\"none\" stroke=\"black\" stroke-width=\"0.25\" d=\"M45.5,-64C45.5,-64 39.5,-64 39.5,-64 36.5,-64 33.5,-61 33.5,-58 33.5,-58 33.5,-47 33.5,-47 33.5,-44 36.5,-41 39.5,-41 39.5,-41 45.5,-41 45.5,-41 48.5,-41 51.5,-44 51.5,-47 51.5,-47 51.5,-58 51.5,-58 51.5,-61 48.5,-64 45.5,-64\"/>\n",
              "<text text-anchor=\"middle\" x=\"42.5\" y=\"-48.8\" font-family=\"Times,serif\" font-size=\"14.00\">B</text>\n",
              "</g>\n",
              "<!-- 3659000930029987935&#45;&gt;&#45;4937594491715175629 -->\n",
              "<g id=\"edge5\" class=\"edge\">\n",
              "<title>3659000930029987935&#45;&gt;&#45;4937594491715175629</title>\n",
              "<path fill=\"none\" stroke=\"black\" stroke-width=\"0.5\" d=\"M42.5,-81.84C42.5,-76.34 42.5,-69.65 42.5,-64.14\"/>\n",
              "</g>\n",
              "<!-- &#45;6964844330509828074 -->\n",
              "<g id=\"node6\" class=\"node\">\n",
              "<title>&#45;6964844330509828074</title>\n",
              "<path fill=\"none\" stroke=\"black\" stroke-width=\"1.25\" d=\"M80,-64C80,-64 75,-64 75,-64 72.5,-64 70,-61.5 70,-59 70,-59 70,-46 70,-46 70,-43.5 72.5,-41 75,-41 75,-41 80,-41 80,-41 82.5,-41 85,-43.5 85,-46 85,-46 85,-59 85,-59 85,-61.5 82.5,-64 80,-64\"/>\n",
              "<text text-anchor=\"middle\" x=\"77.5\" y=\"-48.8\" font-family=\"Times,serif\" font-size=\"14.00\">b</text>\n",
              "</g>\n",
              "<!-- 3659000930029987935&#45;&gt;&#45;6964844330509828074 -->\n",
              "<g id=\"edge6\" class=\"edge\">\n",
              "<title>3659000930029987935&#45;&gt;&#45;6964844330509828074</title>\n",
              "<path fill=\"none\" stroke=\"black\" stroke-width=\"0.5\" d=\"M51.7,-82.25C57.37,-75.93 64.55,-67.93 69.9,-61.97\"/>\n",
              "</g>\n",
              "<!-- 4468892217028451124&#45;&gt;&#45;4937594491715175629 -->\n",
              "<!-- &#45;4937594491715175629&#45;&gt;&#45;6964844330509828074 -->\n",
              "<!-- &#45;5775291694309598906 -->\n",
              "<g id=\"node7\" class=\"node\">\n",
              "<title>&#45;5775291694309598906</title>\n",
              "<path fill=\"none\" stroke=\"black\" stroke-width=\"1.25\" d=\"M45,-23C45,-23 40,-23 40,-23 37.5,-23 35,-20.5 35,-18 35,-18 35,-5 35,-5 35,-2.5 37.5,0 40,0 40,0 45,0 45,0 47.5,0 50,-2.5 50,-5 50,-5 50,-18 50,-18 50,-20.5 47.5,-23 45,-23\"/>\n",
              "<text text-anchor=\"middle\" x=\"42.5\" y=\"-7.8\" font-family=\"Times,serif\" font-size=\"14.00\">b</text>\n",
              "</g>\n",
              "<!-- &#45;4937594491715175629&#45;&gt;&#45;5775291694309598906 -->\n",
              "<g id=\"edge9\" class=\"edge\">\n",
              "<title>&#45;4937594491715175629&#45;&gt;&#45;5775291694309598906</title>\n",
              "<path fill=\"none\" stroke=\"black\" stroke-width=\"0.5\" d=\"M42.5,-40.84C42.5,-35.34 42.5,-28.65 42.5,-23.14\"/>\n",
              "</g>\n",
              "</g>\n",
              "</svg>\n"
            ],
            "text/plain": [
              "ProductionGraph(S -> a B -> a a B b -> a a b b)"
            ]
          },
          "execution_count": 8,
          "metadata": {},
          "output_type": "execute_result"
        }
      ],
      "source": [
        "ProductionGraph(d)"
      ]
    },
    {
      "cell_type": "markdown",
      "metadata": {},
      "source": [
        "Possono accadere due errori di parsing… o perché manca una produzione adatta, o perché l'ultima produzione utilizzata comporta che l'algoritmo si aspetti un carattere che manca nell'input…"
      ]
    },
    {
      "cell_type": "code",
      "execution_count": null,
      "metadata": {},
      "outputs": [
        {
          "name": "stderr",
          "output_type": "stream",
          "text": [
            "No production for (B, c) at (S -> a B, B -> a B b)\n"
          ]
        }
      ],
      "source": [
        "parse_noε(G, TABLE, list('aac'))"
      ]
    },
    {
      "cell_type": "code",
      "execution_count": null,
      "metadata": {},
      "outputs": [
        {
          "name": "stderr",
          "output_type": "stream",
          "text": [
            "Expecting b, got c\n"
          ]
        }
      ],
      "source": [
        "parse_noε(G, TABLE, list('aabc'))"
      ]
    },
    {
      "cell_type": "markdown",
      "metadata": {},
      "source": [
        "### E se non è \"semplice\"?\n",
        "\n",
        "La costruzione della tabella è in grado, di accorgersi che stiamo tentando di assegnare di nuovo un valore per un certo $(A, a)$… (si tratta del parametro `no_reassign = True` usato nella costruzione di `Table`)."
      ]
    },
    {
      "cell_type": "code",
      "execution_count": null,
      "metadata": {},
      "outputs": [],
      "source": [
        "# fig. 8.1, pag. 236\n",
        "\n",
        "G = Grammar.from_string(\"\"\"\n",
        "S -> a B | b A\n",
        "A -> a | a S | b A A\n",
        "B -> b | b S | a B B\n",
        "\"\"\")"
      ]
    },
    {
      "cell_type": "code",
      "execution_count": null,
      "metadata": {},
      "outputs": [
        {
          "name": "stderr",
          "output_type": "stream",
          "text": [
            "Table already contains value A -> a for (A, a), cannot store A -> a S\n",
            "Table already contains value B -> b for (B, b), cannot store B -> b S\n"
          ]
        },
        {
          "data": {
            "text/html": [
              "<style>td, th {border: 1pt solid lightgray !important; text-align: left !important;}</style><table><tr><td>&nbsp;<th><pre>a</pre><th><pre>b</pre>\n",
              "<tr><th><pre>S<pre><td><pre>S -&gt; a B</pre><td><pre>S -&gt; b A</pre>\n",
              "<tr><th><pre>A<pre><td><pre>A -&gt; a</pre><td><pre>A -&gt; b A A</pre>\n",
              "<tr><th><pre>B<pre><td><pre>B -&gt; a B B</pre><td><pre>B -&gt; b</pre>\n",
              "</table>"
            ],
            "text/plain": [
              "<liblet.utils.Table at 0x7f2e20133130>"
            ]
          },
          "execution_count": 12,
          "metadata": {},
          "output_type": "execute_result"
        }
      ],
      "source": [
        "compute_simple_table(G)"
      ]
    },
    {
      "cell_type": "markdown",
      "metadata": {},
      "source": [
        "### Un esempio più naturale: notazione prefissa\n",
        "\n",
        "Torniamo a consideare una grammatica SLL(1) forse più naturale della prima da cui siamo partiti: una grammatica per operazioni aritmetiche in [notazione polacca](https://en.wikipedia.org/wiki/Polish_notation)."
      ]
    },
    {
      "cell_type": "code",
      "execution_count": null,
      "metadata": {},
      "outputs": [
        {
          "data": {
            "text/plain": [
              "Grammar(N={E}, T={*, +, -, /, t}, P=(E -> + E E, E -> - E E, E -> * E E, E -> / E E, E -> t), S=E)"
            ]
          },
          "execution_count": 13,
          "metadata": {},
          "output_type": "execute_result"
        }
      ],
      "source": [
        "G = Grammar.from_string(\"\"\"\n",
        "E -> + E E | - E E | * E E | / E E | t\n",
        "\"\"\")\n",
        "G"
      ]
    },
    {
      "cell_type": "code",
      "execution_count": null,
      "metadata": {},
      "outputs": [
        {
          "data": {
            "text/html": [
              "<style>td, th {border: 1pt solid lightgray !important; text-align: left !important;}</style><table><tr><td>&nbsp;<th><pre>+</pre><th><pre>-</pre><th><pre>*</pre><th><pre>/</pre><th><pre>t</pre>\n",
              "<tr><th><pre>E<pre><td><pre>E -&gt; + E E</pre><td><pre>E -&gt; - E E</pre><td><pre>E -&gt; * E E</pre><td><pre>E -&gt; / E E</pre><td><pre>E -&gt; t</pre>\n",
              "</table>"
            ],
            "text/plain": [
              "<liblet.utils.Table at 0x7f2e20184eb0>"
            ]
          },
          "execution_count": 14,
          "metadata": {},
          "output_type": "execute_result"
        }
      ],
      "source": [
        "TABLE = compute_simple_table(G)\n",
        "TABLE"
      ]
    },
    {
      "cell_type": "code",
      "execution_count": null,
      "metadata": {},
      "outputs": [
        {
          "data": {
            "image/svg+xml": [
              "<?xml version=\"1.0\" encoding=\"UTF-8\" standalone=\"no\"?>\n",
              "<!DOCTYPE svg PUBLIC \"-//W3C//DTD SVG 1.1//EN\"\n",
              " \"http://www.w3.org/Graphics/SVG/1.1/DTD/svg11.dtd\">\n",
              "<!-- Generated by graphviz version 2.43.0 (0)\n",
              " -->\n",
              "<!-- Title: %3 Pages: 1 -->\n",
              "<svg width=\"194pt\" height=\"154pt\"\n",
              " viewBox=\"0.00 0.00 194.00 154.00\" xmlns=\"http://www.w3.org/2000/svg\" xmlns:xlink=\"http://www.w3.org/1999/xlink\">\n",
              "<g id=\"graph0\" class=\"graph\" transform=\"scale(1 1) rotate(0) translate(4 150)\">\n",
              "<title>%3</title>\n",
              "<polygon fill=\"white\" stroke=\"transparent\" points=\"-4,4 -4,-150 190,-150 190,4 -4,4\"/>\n",
              "<!-- &#45;1187369597626289581 -->\n",
              "<g id=\"node1\" class=\"node\">\n",
              "<title>&#45;1187369597626289581</title>\n",
              "<path fill=\"none\" stroke=\"black\" stroke-width=\"0.25\" d=\"M78.33,-146C78.33,-146 72.67,-146 72.67,-146 69.83,-146 67,-143.17 67,-140.33 67,-140.33 67,-128.67 67,-128.67 67,-125.83 69.83,-123 72.67,-123 72.67,-123 78.33,-123 78.33,-123 81.17,-123 84,-125.83 84,-128.67 84,-128.67 84,-140.33 84,-140.33 84,-143.17 81.17,-146 78.33,-146\"/>\n",
              "<text text-anchor=\"middle\" x=\"75.5\" y=\"-130.8\" font-family=\"Times,serif\" font-size=\"14.00\">E</text>\n",
              "</g>\n",
              "<!-- 6409292581358308185 -->\n",
              "<g id=\"node2\" class=\"node\">\n",
              "<title>6409292581358308185</title>\n",
              "<path fill=\"none\" stroke=\"black\" stroke-width=\"1.25\" d=\"M43.33,-105C43.33,-105 37.67,-105 37.67,-105 34.83,-105 32,-102.17 32,-99.33 32,-99.33 32,-87.67 32,-87.67 32,-84.83 34.83,-82 37.67,-82 37.67,-82 43.33,-82 43.33,-82 46.17,-82 49,-84.83 49,-87.67 49,-87.67 49,-99.33 49,-99.33 49,-102.17 46.17,-105 43.33,-105\"/>\n",
              "<text text-anchor=\"middle\" x=\"40.5\" y=\"-89.8\" font-family=\"Times,serif\" font-size=\"14.00\">+</text>\n",
              "</g>\n",
              "<!-- &#45;1187369597626289581&#45;&gt;6409292581358308185 -->\n",
              "<g id=\"edge1\" class=\"edge\">\n",
              "<title>&#45;1187369597626289581&#45;&gt;6409292581358308185</title>\n",
              "<path fill=\"none\" stroke=\"black\" stroke-width=\"0.5\" d=\"M66.67,-123.66C61.32,-117.7 54.53,-110.14 49.21,-104.2\"/>\n",
              "</g>\n",
              "<!-- &#45;8517501473339231640 -->\n",
              "<g id=\"node3\" class=\"node\">\n",
              "<title>&#45;8517501473339231640</title>\n",
              "<path fill=\"none\" stroke=\"black\" stroke-width=\"0.25\" d=\"M78.33,-105C78.33,-105 72.67,-105 72.67,-105 69.83,-105 67,-102.17 67,-99.33 67,-99.33 67,-87.67 67,-87.67 67,-84.83 69.83,-82 72.67,-82 72.67,-82 78.33,-82 78.33,-82 81.17,-82 84,-84.83 84,-87.67 84,-87.67 84,-99.33 84,-99.33 84,-102.17 81.17,-105 78.33,-105\"/>\n",
              "<text text-anchor=\"middle\" x=\"75.5\" y=\"-89.8\" font-family=\"Times,serif\" font-size=\"14.00\">E</text>\n",
              "</g>\n",
              "<!-- &#45;1187369597626289581&#45;&gt;&#45;8517501473339231640 -->\n",
              "<g id=\"edge2\" class=\"edge\">\n",
              "<title>&#45;1187369597626289581&#45;&gt;&#45;8517501473339231640</title>\n",
              "<path fill=\"none\" stroke=\"black\" stroke-width=\"0.5\" d=\"M75.5,-122.84C75.5,-117.34 75.5,-110.65 75.5,-105.14\"/>\n",
              "</g>\n",
              "<!-- &#45;2009860717237233215 -->\n",
              "<g id=\"node4\" class=\"node\">\n",
              "<title>&#45;2009860717237233215</title>\n",
              "<path fill=\"none\" stroke=\"black\" stroke-width=\"0.25\" d=\"M113.33,-105C113.33,-105 107.67,-105 107.67,-105 104.83,-105 102,-102.17 102,-99.33 102,-99.33 102,-87.67 102,-87.67 102,-84.83 104.83,-82 107.67,-82 107.67,-82 113.33,-82 113.33,-82 116.17,-82 119,-84.83 119,-87.67 119,-87.67 119,-99.33 119,-99.33 119,-102.17 116.17,-105 113.33,-105\"/>\n",
              "<text text-anchor=\"middle\" x=\"110.5\" y=\"-89.8\" font-family=\"Times,serif\" font-size=\"14.00\">E</text>\n",
              "</g>\n",
              "<!-- &#45;1187369597626289581&#45;&gt;&#45;2009860717237233215 -->\n",
              "<g id=\"edge3\" class=\"edge\">\n",
              "<title>&#45;1187369597626289581&#45;&gt;&#45;2009860717237233215</title>\n",
              "<path fill=\"none\" stroke=\"black\" stroke-width=\"0.5\" d=\"M84.33,-123.66C89.68,-117.7 96.47,-110.14 101.79,-104.2\"/>\n",
              "</g>\n",
              "<!-- 6409292581358308185&#45;&gt;&#45;8517501473339231640 -->\n",
              "<!-- &#45;8517501473339231640&#45;&gt;&#45;2009860717237233215 -->\n",
              "<!-- &#45;2514434937023762617 -->\n",
              "<g id=\"node5\" class=\"node\">\n",
              "<title>&#45;2514434937023762617</title>\n",
              "<path fill=\"none\" stroke=\"black\" stroke-width=\"1.25\" d=\"M10,-64C10,-64 5,-64 5,-64 2.5,-64 0,-61.5 0,-59 0,-59 0,-46 0,-46 0,-43.5 2.5,-41 5,-41 5,-41 10,-41 10,-41 12.5,-41 15,-43.5 15,-46 15,-46 15,-59 15,-59 15,-61.5 12.5,-64 10,-64\"/>\n",
              "<text text-anchor=\"middle\" x=\"7.5\" y=\"-48.8\" font-family=\"Times,serif\" font-size=\"14.00\">*</text>\n",
              "</g>\n",
              "<!-- &#45;8517501473339231640&#45;&gt;&#45;2514434937023762617 -->\n",
              "<g id=\"edge6\" class=\"edge\">\n",
              "<title>&#45;8517501473339231640&#45;&gt;&#45;2514434937023762617</title>\n",
              "<path fill=\"none\" stroke=\"black\" stroke-width=\"0.5\" d=\"M66.75,-87.3C63.83,-85.59 60.54,-83.69 57.5,-82 42.56,-73.69 38.22,-72.7 23.5,-64 20.75,-62.38 17.82,-60.49 15.22,-58.78\"/>\n",
              "</g>\n",
              "<!-- &#45;6556201937095109205 -->\n",
              "<g id=\"node6\" class=\"node\">\n",
              "<title>&#45;6556201937095109205</title>\n",
              "<path fill=\"none\" stroke=\"black\" stroke-width=\"0.25\" d=\"M44.33,-64C44.33,-64 38.67,-64 38.67,-64 35.83,-64 33,-61.17 33,-58.33 33,-58.33 33,-46.67 33,-46.67 33,-43.83 35.83,-41 38.67,-41 38.67,-41 44.33,-41 44.33,-41 47.17,-41 50,-43.83 50,-46.67 50,-46.67 50,-58.33 50,-58.33 50,-61.17 47.17,-64 44.33,-64\"/>\n",
              "<text text-anchor=\"middle\" x=\"41.5\" y=\"-48.8\" font-family=\"Times,serif\" font-size=\"14.00\">E</text>\n",
              "</g>\n",
              "<!-- &#45;8517501473339231640&#45;&gt;&#45;6556201937095109205 -->\n",
              "<g id=\"edge7\" class=\"edge\">\n",
              "<title>&#45;8517501473339231640&#45;&gt;&#45;6556201937095109205</title>\n",
              "<path fill=\"none\" stroke=\"black\" stroke-width=\"0.5\" d=\"M66.92,-82.66C61.81,-76.79 55.33,-69.36 50.2,-63.47\"/>\n",
              "</g>\n",
              "<!-- &#45;4446918563977478908 -->\n",
              "<g id=\"node7\" class=\"node\">\n",
              "<title>&#45;4446918563977478908</title>\n",
              "<path fill=\"none\" stroke=\"black\" stroke-width=\"0.25\" d=\"M79.33,-64C79.33,-64 73.67,-64 73.67,-64 70.83,-64 68,-61.17 68,-58.33 68,-58.33 68,-46.67 68,-46.67 68,-43.83 70.83,-41 73.67,-41 73.67,-41 79.33,-41 79.33,-41 82.17,-41 85,-43.83 85,-46.67 85,-46.67 85,-58.33 85,-58.33 85,-61.17 82.17,-64 79.33,-64\"/>\n",
              "<text text-anchor=\"middle\" x=\"76.5\" y=\"-48.8\" font-family=\"Times,serif\" font-size=\"14.00\">E</text>\n",
              "</g>\n",
              "<!-- &#45;8517501473339231640&#45;&gt;&#45;4446918563977478908 -->\n",
              "<g id=\"edge8\" class=\"edge\">\n",
              "<title>&#45;8517501473339231640&#45;&gt;&#45;4446918563977478908</title>\n",
              "<path fill=\"none\" stroke=\"black\" stroke-width=\"0.5\" d=\"M75.77,-81.84C75.91,-76.34 76.09,-69.65 76.23,-64.14\"/>\n",
              "</g>\n",
              "<!-- 6063232697073059681 -->\n",
              "<g id=\"node10\" class=\"node\">\n",
              "<title>6063232697073059681</title>\n",
              "<path fill=\"none\" stroke=\"black\" stroke-width=\"1.25\" d=\"M111.5,-64C111.5,-64 107.5,-64 107.5,-64 105.5,-64 103.5,-62 103.5,-60 103.5,-60 103.5,-45 103.5,-45 103.5,-43 105.5,-41 107.5,-41 107.5,-41 111.5,-41 111.5,-41 113.5,-41 115.5,-43 115.5,-45 115.5,-45 115.5,-60 115.5,-60 115.5,-62 113.5,-64 111.5,-64\"/>\n",
              "<text text-anchor=\"middle\" x=\"109.5\" y=\"-48.8\" font-family=\"Times,serif\" font-size=\"14.00\">/</text>\n",
              "</g>\n",
              "<!-- &#45;2009860717237233215&#45;&gt;6063232697073059681 -->\n",
              "<g id=\"edge13\" class=\"edge\">\n",
              "<title>&#45;2009860717237233215&#45;&gt;6063232697073059681</title>\n",
              "<path fill=\"none\" stroke=\"black\" stroke-width=\"0.5\" d=\"M110.23,-81.84C110.09,-76.34 109.91,-69.65 109.77,-64.14\"/>\n",
              "</g>\n",
              "<!-- 4993226046282018955 -->\n",
              "<g id=\"node11\" class=\"node\">\n",
              "<title>4993226046282018955</title>\n",
              "<path fill=\"none\" stroke=\"black\" stroke-width=\"0.25\" d=\"M145.33,-64C145.33,-64 139.67,-64 139.67,-64 136.83,-64 134,-61.17 134,-58.33 134,-58.33 134,-46.67 134,-46.67 134,-43.83 136.83,-41 139.67,-41 139.67,-41 145.33,-41 145.33,-41 148.17,-41 151,-43.83 151,-46.67 151,-46.67 151,-58.33 151,-58.33 151,-61.17 148.17,-64 145.33,-64\"/>\n",
              "<text text-anchor=\"middle\" x=\"142.5\" y=\"-48.8\" font-family=\"Times,serif\" font-size=\"14.00\">E</text>\n",
              "</g>\n",
              "<!-- &#45;2009860717237233215&#45;&gt;4993226046282018955 -->\n",
              "<g id=\"edge14\" class=\"edge\">\n",
              "<title>&#45;2009860717237233215&#45;&gt;4993226046282018955</title>\n",
              "<path fill=\"none\" stroke=\"black\" stroke-width=\"0.5\" d=\"M119.24,-81.84C123.83,-76.25 129.43,-69.43 133.99,-63.87\"/>\n",
              "</g>\n",
              "<!-- 100152017309322589 -->\n",
              "<g id=\"node12\" class=\"node\">\n",
              "<title>100152017309322589</title>\n",
              "<path fill=\"none\" stroke=\"black\" stroke-width=\"0.25\" d=\"M180.33,-64C180.33,-64 174.67,-64 174.67,-64 171.83,-64 169,-61.17 169,-58.33 169,-58.33 169,-46.67 169,-46.67 169,-43.83 171.83,-41 174.67,-41 174.67,-41 180.33,-41 180.33,-41 183.17,-41 186,-43.83 186,-46.67 186,-46.67 186,-58.33 186,-58.33 186,-61.17 183.17,-64 180.33,-64\"/>\n",
              "<text text-anchor=\"middle\" x=\"177.5\" y=\"-48.8\" font-family=\"Times,serif\" font-size=\"14.00\">E</text>\n",
              "</g>\n",
              "<!-- &#45;2009860717237233215&#45;&gt;100152017309322589 -->\n",
              "<g id=\"edge15\" class=\"edge\">\n",
              "<title>&#45;2009860717237233215&#45;&gt;100152017309322589</title>\n",
              "<path fill=\"none\" stroke=\"black\" stroke-width=\"0.5\" d=\"M119.05,-87.75C129.04,-82.16 146.07,-72.57 160.5,-64 163.24,-62.37 166.21,-60.56 168.89,-58.9\"/>\n",
              "</g>\n",
              "<!-- &#45;2514434937023762617&#45;&gt;&#45;6556201937095109205 -->\n",
              "<!-- &#45;6556201937095109205&#45;&gt;&#45;4446918563977478908 -->\n",
              "<!-- 7636823952093039045 -->\n",
              "<g id=\"node8\" class=\"node\">\n",
              "<title>7636823952093039045</title>\n",
              "<path fill=\"none\" stroke=\"black\" stroke-width=\"1.25\" d=\"M43.5,-23C43.5,-23 39.5,-23 39.5,-23 37.5,-23 35.5,-21 35.5,-19 35.5,-19 35.5,-4 35.5,-4 35.5,-2 37.5,0 39.5,0 39.5,0 43.5,0 43.5,0 45.5,0 47.5,-2 47.5,-4 47.5,-4 47.5,-19 47.5,-19 47.5,-21 45.5,-23 43.5,-23\"/>\n",
              "<text text-anchor=\"middle\" x=\"41.5\" y=\"-7.8\" font-family=\"Times,serif\" font-size=\"14.00\">t</text>\n",
              "</g>\n",
              "<!-- &#45;6556201937095109205&#45;&gt;7636823952093039045 -->\n",
              "<g id=\"edge11\" class=\"edge\">\n",
              "<title>&#45;6556201937095109205&#45;&gt;7636823952093039045</title>\n",
              "<path fill=\"none\" stroke=\"black\" stroke-width=\"0.5\" d=\"M41.5,-40.84C41.5,-35.34 41.5,-28.65 41.5,-23.14\"/>\n",
              "</g>\n",
              "<!-- &#45;959771469652124519 -->\n",
              "<g id=\"node9\" class=\"node\">\n",
              "<title>&#45;959771469652124519</title>\n",
              "<path fill=\"none\" stroke=\"black\" stroke-width=\"1.25\" d=\"M78.5,-23C78.5,-23 74.5,-23 74.5,-23 72.5,-23 70.5,-21 70.5,-19 70.5,-19 70.5,-4 70.5,-4 70.5,-2 72.5,0 74.5,0 74.5,0 78.5,0 78.5,0 80.5,0 82.5,-2 82.5,-4 82.5,-4 82.5,-19 82.5,-19 82.5,-21 80.5,-23 78.5,-23\"/>\n",
              "<text text-anchor=\"middle\" x=\"76.5\" y=\"-7.8\" font-family=\"Times,serif\" font-size=\"14.00\">t</text>\n",
              "</g>\n",
              "<!-- &#45;4446918563977478908&#45;&gt;&#45;959771469652124519 -->\n",
              "<g id=\"edge12\" class=\"edge\">\n",
              "<title>&#45;4446918563977478908&#45;&gt;&#45;959771469652124519</title>\n",
              "<path fill=\"none\" stroke=\"black\" stroke-width=\"0.5\" d=\"M76.5,-40.84C76.5,-35.34 76.5,-28.65 76.5,-23.14\"/>\n",
              "</g>\n",
              "<!-- 6063232697073059681&#45;&gt;4993226046282018955 -->\n",
              "<!-- 4993226046282018955&#45;&gt;100152017309322589 -->\n",
              "<!-- &#45;5833887163132615905 -->\n",
              "<g id=\"node13\" class=\"node\">\n",
              "<title>&#45;5833887163132615905</title>\n",
              "<path fill=\"none\" stroke=\"black\" stroke-width=\"1.25\" d=\"M144.5,-23C144.5,-23 140.5,-23 140.5,-23 138.5,-23 136.5,-21 136.5,-19 136.5,-19 136.5,-4 136.5,-4 136.5,-2 138.5,0 140.5,0 140.5,0 144.5,0 144.5,0 146.5,0 148.5,-2 148.5,-4 148.5,-4 148.5,-19 148.5,-19 148.5,-21 146.5,-23 144.5,-23\"/>\n",
              "<text text-anchor=\"middle\" x=\"142.5\" y=\"-7.8\" font-family=\"Times,serif\" font-size=\"14.00\">t</text>\n",
              "</g>\n",
              "<!-- 4993226046282018955&#45;&gt;&#45;5833887163132615905 -->\n",
              "<g id=\"edge18\" class=\"edge\">\n",
              "<title>4993226046282018955&#45;&gt;&#45;5833887163132615905</title>\n",
              "<path fill=\"none\" stroke=\"black\" stroke-width=\"0.5\" d=\"M142.5,-40.84C142.5,-35.34 142.5,-28.65 142.5,-23.14\"/>\n",
              "</g>\n",
              "<!-- &#45;8699907387069956767 -->\n",
              "<g id=\"node14\" class=\"node\">\n",
              "<title>&#45;8699907387069956767</title>\n",
              "<path fill=\"none\" stroke=\"black\" stroke-width=\"1.25\" d=\"M179.5,-23C179.5,-23 175.5,-23 175.5,-23 173.5,-23 171.5,-21 171.5,-19 171.5,-19 171.5,-4 171.5,-4 171.5,-2 173.5,0 175.5,0 175.5,0 179.5,0 179.5,0 181.5,0 183.5,-2 183.5,-4 183.5,-4 183.5,-19 183.5,-19 183.5,-21 181.5,-23 179.5,-23\"/>\n",
              "<text text-anchor=\"middle\" x=\"177.5\" y=\"-7.8\" font-family=\"Times,serif\" font-size=\"14.00\">t</text>\n",
              "</g>\n",
              "<!-- 100152017309322589&#45;&gt;&#45;8699907387069956767 -->\n",
              "<g id=\"edge19\" class=\"edge\">\n",
              "<title>100152017309322589&#45;&gt;&#45;8699907387069956767</title>\n",
              "<path fill=\"none\" stroke=\"black\" stroke-width=\"0.5\" d=\"M177.5,-40.84C177.5,-35.34 177.5,-28.65 177.5,-23.14\"/>\n",
              "</g>\n",
              "</g>\n",
              "</svg>\n"
            ],
            "text/plain": [
              "ProductionGraph(E -> + E E -> + * E E E -> + * t E E -> + * t t E -> + * t t / E E -> + * t t / t E -> + * t t / t t)"
            ]
          },
          "execution_count": 15,
          "metadata": {},
          "output_type": "execute_result"
        }
      ],
      "source": [
        "ProductionGraph(parse_noε(G, TABLE, '+ * t t / t t'.split()))"
      ]
    },
    {
      "cell_type": "markdown",
      "metadata": {},
      "source": [
        "#### <span style=\"color: red;\">Esercizio per casa</span>\n",
        "\n",
        "Sapreste modificare `parse_noε` perché restituisca, invece della derivazione, il valore dell'espressione aritmetica? Sapreste integrarlo con un tokenizzatore che consenta di sostiuire numeri interi al terminale `t`?\n",
        "\n",
        "Saprese trasformare gli alberi prodotti da `parse_noε` in modo che nodi siano operandi o opreatori, come nell'esempio seguente?"
      ]
    },
    {
      "cell_type": "code",
      "execution_count": null,
      "metadata": {},
      "outputs": [
        {
          "data": {
            "image/svg+xml": [
              "<?xml version=\"1.0\" encoding=\"UTF-8\" standalone=\"no\"?>\n",
              "<!DOCTYPE svg PUBLIC \"-//W3C//DTD SVG 1.1//EN\"\n",
              " \"http://www.w3.org/Graphics/SVG/1.1/DTD/svg11.dtd\">\n",
              "<!-- Generated by graphviz version 2.43.0 (0)\n",
              " -->\n",
              "<!-- Title: %3 Pages: 1 -->\n",
              "<svg width=\"111pt\" height=\"113pt\"\n",
              " viewBox=\"0.00 0.00 111.00 113.00\" xmlns=\"http://www.w3.org/2000/svg\" xmlns:xlink=\"http://www.w3.org/1999/xlink\">\n",
              "<g id=\"graph0\" class=\"graph\" transform=\"scale(1 1) rotate(0) translate(4 109)\">\n",
              "<title>%3</title>\n",
              "<polygon fill=\"white\" stroke=\"transparent\" points=\"-4,4 -4,-109 107,-109 107,4 -4,4\"/>\n",
              "<!-- 139836083683536 -->\n",
              "<g id=\"node1\" class=\"node\">\n",
              "<title>139836083683536</title>\n",
              "<path fill=\"none\" stroke=\"black\" stroke-width=\"0.25\" d=\"M53.83,-105C53.83,-105 48.17,-105 48.17,-105 45.33,-105 42.5,-102.17 42.5,-99.33 42.5,-99.33 42.5,-87.67 42.5,-87.67 42.5,-84.83 45.33,-82 48.17,-82 48.17,-82 53.83,-82 53.83,-82 56.67,-82 59.5,-84.83 59.5,-87.67 59.5,-87.67 59.5,-99.33 59.5,-99.33 59.5,-102.17 56.67,-105 53.83,-105\"/>\n",
              "<text text-anchor=\"middle\" x=\"51\" y=\"-89.8\" font-family=\"Times,serif\" font-size=\"14.00\">+</text>\n",
              "</g>\n",
              "<!-- 139836083683392 -->\n",
              "<g id=\"node2\" class=\"node\">\n",
              "<title>139836083683392</title>\n",
              "<path fill=\"none\" stroke=\"black\" stroke-width=\"0.25\" d=\"M37.5,-64C37.5,-64 32.5,-64 32.5,-64 30,-64 27.5,-61.5 27.5,-59 27.5,-59 27.5,-46 27.5,-46 27.5,-43.5 30,-41 32.5,-41 32.5,-41 37.5,-41 37.5,-41 40,-41 42.5,-43.5 42.5,-46 42.5,-46 42.5,-59 42.5,-59 42.5,-61.5 40,-64 37.5,-64\"/>\n",
              "<text text-anchor=\"middle\" x=\"35\" y=\"-48.8\" font-family=\"Times,serif\" font-size=\"14.00\">*</text>\n",
              "</g>\n",
              "<!-- 139836083683536&#45;&gt;139836083683392 -->\n",
              "<g id=\"edge1\" class=\"edge\">\n",
              "<title>139836083683536&#45;&gt;139836083683392</title>\n",
              "<path fill=\"none\" stroke=\"black\" d=\"M46.63,-81.84C44.37,-76.34 41.62,-69.65 39.37,-64.14\"/>\n",
              "</g>\n",
              "<!-- 139836083689200 -->\n",
              "<g id=\"node3\" class=\"node\">\n",
              "<title>139836083689200</title>\n",
              "<path fill=\"none\" stroke=\"black\" stroke-width=\"0.25\" d=\"M69,-64C69,-64 65,-64 65,-64 63,-64 61,-62 61,-60 61,-60 61,-45 61,-45 61,-43 63,-41 65,-41 65,-41 69,-41 69,-41 71,-41 73,-43 73,-45 73,-45 73,-60 73,-60 73,-62 71,-64 69,-64\"/>\n",
              "<text text-anchor=\"middle\" x=\"67\" y=\"-48.8\" font-family=\"Times,serif\" font-size=\"14.00\">/</text>\n",
              "</g>\n",
              "<!-- 139836083683536&#45;&gt;139836083689200 -->\n",
              "<g id=\"edge2\" class=\"edge\">\n",
              "<title>139836083683536&#45;&gt;139836083689200</title>\n",
              "<path fill=\"none\" stroke=\"black\" d=\"M55.37,-81.84C57.63,-76.34 60.38,-69.65 62.63,-64.14\"/>\n",
              "</g>\n",
              "<!-- 139836083683392&#45;&gt;139836083689200 -->\n",
              "<!-- 139836083683632 -->\n",
              "<g id=\"node4\" class=\"node\">\n",
              "<title>139836083683632</title>\n",
              "<path fill=\"none\" stroke=\"black\" stroke-width=\"0.25\" d=\"M8,-23C8,-23 4,-23 4,-23 2,-23 0,-21 0,-19 0,-19 0,-4 0,-4 0,-2 2,0 4,0 4,0 8,0 8,0 10,0 12,-2 12,-4 12,-4 12,-19 12,-19 12,-21 10,-23 8,-23\"/>\n",
              "<text text-anchor=\"middle\" x=\"6\" y=\"-7.8\" font-family=\"Times,serif\" font-size=\"14.00\">t</text>\n",
              "</g>\n",
              "<!-- 139836083683392&#45;&gt;139836083683632 -->\n",
              "<g id=\"edge4\" class=\"edge\">\n",
              "<title>139836083683392&#45;&gt;139836083683632</title>\n",
              "<path fill=\"none\" stroke=\"black\" d=\"M27.38,-41.25C22.61,-34.84 16.56,-26.7 12.11,-20.71\"/>\n",
              "</g>\n",
              "<!-- 139836083687136 -->\n",
              "<g id=\"node5\" class=\"node\">\n",
              "<title>139836083687136</title>\n",
              "<path fill=\"none\" stroke=\"black\" stroke-width=\"0.25\" d=\"M38,-23C38,-23 34,-23 34,-23 32,-23 30,-21 30,-19 30,-19 30,-4 30,-4 30,-2 32,0 34,0 34,0 38,0 38,0 40,0 42,-2 42,-4 42,-4 42,-19 42,-19 42,-21 40,-23 38,-23\"/>\n",
              "<text text-anchor=\"middle\" x=\"36\" y=\"-7.8\" font-family=\"Times,serif\" font-size=\"14.00\">t</text>\n",
              "</g>\n",
              "<!-- 139836083683392&#45;&gt;139836083687136 -->\n",
              "<g id=\"edge5\" class=\"edge\">\n",
              "<title>139836083683392&#45;&gt;139836083687136</title>\n",
              "<path fill=\"none\" stroke=\"black\" d=\"M35.27,-40.84C35.41,-35.34 35.59,-28.65 35.73,-23.14\"/>\n",
              "</g>\n",
              "<!-- 139836083689152 -->\n",
              "<g id=\"node6\" class=\"node\">\n",
              "<title>139836083689152</title>\n",
              "<path fill=\"none\" stroke=\"black\" stroke-width=\"0.25\" d=\"M69,-23C69,-23 65,-23 65,-23 63,-23 61,-21 61,-19 61,-19 61,-4 61,-4 61,-2 63,0 65,0 65,0 69,0 69,0 71,0 73,-2 73,-4 73,-4 73,-19 73,-19 73,-21 71,-23 69,-23\"/>\n",
              "<text text-anchor=\"middle\" x=\"67\" y=\"-7.8\" font-family=\"Times,serif\" font-size=\"14.00\">t</text>\n",
              "</g>\n",
              "<!-- 139836083689200&#45;&gt;139836083689152 -->\n",
              "<g id=\"edge7\" class=\"edge\">\n",
              "<title>139836083689200&#45;&gt;139836083689152</title>\n",
              "<path fill=\"none\" stroke=\"black\" d=\"M67,-40.84C67,-35.34 67,-28.65 67,-23.14\"/>\n",
              "</g>\n",
              "<!-- 139836083689056 -->\n",
              "<g id=\"node7\" class=\"node\">\n",
              "<title>139836083689056</title>\n",
              "<path fill=\"none\" stroke=\"black\" stroke-width=\"0.25\" d=\"M99,-23C99,-23 95,-23 95,-23 93,-23 91,-21 91,-19 91,-19 91,-4 91,-4 91,-2 93,0 95,0 95,0 99,0 99,0 101,0 103,-2 103,-4 103,-4 103,-19 103,-19 103,-21 101,-23 99,-23\"/>\n",
              "<text text-anchor=\"middle\" x=\"97\" y=\"-7.8\" font-family=\"Times,serif\" font-size=\"14.00\">t</text>\n",
              "</g>\n",
              "<!-- 139836083689200&#45;&gt;139836083689056 -->\n",
              "<g id=\"edge8\" class=\"edge\">\n",
              "<title>139836083689200&#45;&gt;139836083689056</title>\n",
              "<path fill=\"none\" stroke=\"black\" d=\"M73.07,-43.61C78.28,-36.84 85.74,-27.14 90.94,-20.38\"/>\n",
              "</g>\n",
              "<!-- 139836083683632&#45;&gt;139836083687136 -->\n",
              "<!-- 139836083689152&#45;&gt;139836083689056 -->\n",
              "</g>\n",
              "</svg>\n"
            ],
            "text/plain": [
              "(+: (*: (t), (t)), (/: (t), (t)))"
            ]
          },
          "execution_count": 16,
          "metadata": {},
          "output_type": "execute_result"
        }
      ],
      "source": [
        "Tree.from_lol(['+', ['*', ['t'], ['t']], ['/', ['t'], ['t']]])"
      ]
    },
    {
      "attachments": {},
      "cell_type": "markdown",
      "metadata": {},
      "source": [
        "## Caso LL(1) (senza ε-regole), gli insiemi `FIRST`\n",
        "\n",
        "Se la grammatica non è \"semplice\" il caso resta ragionevolmente semplice (se non ci sono ε-regole). \n",
        "\n",
        "Supponiamo di conoscere, per ogni forma sentenziale $\\omega$, qual'è il primo terminale $t$ che (eventualmente) produrrà; detto in formule, supponiamo di conoscere l'insieme $\\operatorname{FIRST}(\\omega) = \\{ t \\in T \\mid \\omega\\overset{*}{\\to} t\\gamma, \\gamma\\in (N\\cup T)^* \\}$. \n",
        "\n",
        "Allora potremmo determinare `TABLE` come segue:"
      ]
    },
    {
      "cell_type": "code",
      "execution_count": null,
      "metadata": {},
      "outputs": [],
      "source": [
        "def compute_table(G):\n",
        "\n",
        "  TABLE = Table(2, no_reassign = True)\n",
        "\n",
        "  FIRST = compute_first(G)\n",
        "\n",
        "  for P in G.P:\n",
        "    A, (B, *β) = P # questo significa che la produzione P ha la forma A -> Bβ con β eventualmente nulla\n",
        "    for a in FIRST[B]: # scegliamo P sulla base del fatto che Bβ deriva a\n",
        "      TABLE[A, a] = P\n",
        "\n",
        "  return TABLE"
      ]
    },
    {
      "attachments": {},
      "cell_type": "markdown",
      "metadata": {},
      "source": [
        "Osservate che, data la produzione $A\\to B\\beta$ (con $\\beta$ eventualmente vuota), invece di usare $\\operatorname{FIRST}(B\\beta)$ ci siamo contentati di $\\operatorname{FIRST}(B)$ dal momento che (in assenza di ε-regole) evidentemente se $B\\beta\\overset{*}{\\to} t\\gamma$ allora $B\\overset{*}{\\to} t\\gamma'$ (dove $\\gamma'$ è un prefisso, eventualmente vuoto, di $\\gamma$).\n",
        "\n",
        "Inoltre, la definizione di $\\operatorname{FIRST}$ suggerisce un semplice modo ricorsivo per calcolare $\\operatorname{FIRST}(X)$:\n",
        "\n",
        "* se $X\\in T$ allora per forza $\\operatorname{FIRST}(X) = \\{X\\}$;\n",
        "* viceversa $\\operatorname{FIRST}(X)$ sarà dato dall'unione di tutti i $\\operatorname{FIRST}(Y)$ per tutti gli $Y \\neq X$ tali che $X\\to Y\\alpha$."
      ]
    },
    {
      "cell_type": "code",
      "execution_count": null,
      "metadata": {},
      "outputs": [],
      "source": [
        "def compute_first(G):\n",
        "\n",
        "  def recursive_first(X): # X è G.T | G.N\n",
        "    return union_of(\n",
        "      recursive_first(Y)\n",
        "      for Y, *α in G.alternatives(X) if Y != X # occhio alla ricorsione a sinistra!\n",
        "    ) if X in G.N else {X}\n",
        "  \n",
        "  FIRST = Table(1)\n",
        "  for X in G.N | G.T: FIRST[X] = recursive_first(X)\n",
        "      \n",
        "  return FIRST"
      ]
    },
    {
      "cell_type": "markdown",
      "metadata": {},
      "source": [
        "Proviamo cosa accade con questa grammatica"
      ]
    },
    {
      "cell_type": "code",
      "execution_count": null,
      "metadata": {},
      "outputs": [
        {
          "data": {
            "text/plain": [
              "Grammar(N={Fact, Question, Session}, T={!, (, ), ?, STRING}, P=(Session -> Fact Session, Session -> Question, Session -> ( Session ) Session, Fact -> ! STRING, Question -> ? STRING), S=Session)"
            ]
          },
          "execution_count": 19,
          "metadata": {},
          "output_type": "execute_result"
        }
      ],
      "source": [
        "# fig. 8.7, pag. 240\n",
        "\n",
        "G = Grammar.from_string(\"\"\"\n",
        "Session -> Fact Session | Question\n",
        "Session -> ( Session ) Session\n",
        "Fact -> ! STRING\n",
        "Question -> ? STRING\n",
        "\"\"\")\n",
        "G"
      ]
    },
    {
      "cell_type": "code",
      "execution_count": null,
      "metadata": {},
      "outputs": [
        {
          "data": {
            "text/html": [
              "<style>td, th {border: 1pt solid lightgray !important; text-align: left !important;}</style><table><tr><th><pre>Question</pre><td><pre>?</pre>\n",
              "<tr><th><pre>Fact</pre><td><pre>!</pre>\n",
              "<tr><th><pre>Session</pre><td><pre>!, ?, (</pre></table>"
            ],
            "text/plain": [
              "<liblet.utils.Table at 0x7f2e201337f0>"
            ]
          },
          "execution_count": 20,
          "metadata": {},
          "output_type": "execute_result"
        }
      ],
      "source": [
        "FIRST = compute_first(G)\n",
        "FIRST.restrict_to(G.N) # ci interessano solo le righe relative ai non terminali"
      ]
    },
    {
      "cell_type": "markdown",
      "metadata": {},
      "source": [
        "Correttamente, il non terminale `Session` può produrre parole che iniziano con `!`, `?` oppure `(`. Ora calcoliamo `TABLE` "
      ]
    },
    {
      "cell_type": "code",
      "execution_count": null,
      "metadata": {},
      "outputs": [
        {
          "data": {
            "text/html": [
              "<style>td, th {border: 1pt solid lightgray !important; text-align: left !important;}</style><table><tr><td>&nbsp;<th><pre>!</pre><th><pre>?</pre><th><pre>(</pre>\n",
              "<tr><th><pre>Session<pre><td><pre>Session -&gt; Fact Session</pre><td><pre>Session -&gt; Question</pre><td><pre>Session -&gt; ( Session ) Session</pre>\n",
              "<tr><th><pre>Fact<pre><td><pre>Fact -&gt; ! STRING</pre><td>&nbsp;<td>&nbsp;\n",
              "<tr><th><pre>Question<pre><td>&nbsp;<td><pre>Question -&gt; ? STRING</pre><td>&nbsp;\n",
              "</table>"
            ],
            "text/plain": [
              "<liblet.utils.Table at 0x7f2e20133100>"
            ]
          },
          "execution_count": 21,
          "metadata": {},
          "output_type": "execute_result"
        }
      ],
      "source": [
        "TABLE = compute_table(G)\n",
        "TABLE"
      ]
    },
    {
      "cell_type": "markdown",
      "metadata": {},
      "source": [
        "Ora possiamo usare esattamente lo stesso `parse_noε`, passando questa tabella, per derivare una parola"
      ]
    },
    {
      "cell_type": "code",
      "execution_count": null,
      "metadata": {},
      "outputs": [],
      "source": [
        "INPUT = '( ( ! STRING ? STRING ) ? STRING ) ! STRING ? STRING'.split()"
      ]
    },
    {
      "cell_type": "code",
      "execution_count": null,
      "metadata": {},
      "outputs": [
        {
          "data": {
            "image/svg+xml": [
              "<?xml version=\"1.0\" encoding=\"UTF-8\" standalone=\"no\"?>\n",
              "<!DOCTYPE svg PUBLIC \"-//W3C//DTD SVG 1.1//EN\"\n",
              " \"http://www.w3.org/Graphics/SVG/1.1/DTD/svg11.dtd\">\n",
              "<!-- Generated by graphviz version 2.43.0 (0)\n",
              " -->\n",
              "<!-- Title: %3 Pages: 1 -->\n",
              "<svg width=\"449pt\" height=\"236pt\"\n",
              " viewBox=\"0.00 0.00 449.00 236.00\" xmlns=\"http://www.w3.org/2000/svg\" xmlns:xlink=\"http://www.w3.org/1999/xlink\">\n",
              "<g id=\"graph0\" class=\"graph\" transform=\"scale(1 1) rotate(0) translate(4 232)\">\n",
              "<title>%3</title>\n",
              "<polygon fill=\"white\" stroke=\"transparent\" points=\"-4,4 -4,-232 445,-232 445,4 -4,4\"/>\n",
              "<!-- 1992159271781549233 -->\n",
              "<g id=\"node1\" class=\"node\">\n",
              "<title>1992159271781549233</title>\n",
              "<path fill=\"none\" stroke=\"black\" stroke-width=\"0.25\" d=\"M205.83,-228C205.83,-228 171.17,-228 171.17,-228 167.33,-228 163.5,-224.17 163.5,-220.33 163.5,-220.33 163.5,-212.67 163.5,-212.67 163.5,-208.83 167.33,-205 171.17,-205 171.17,-205 205.83,-205 205.83,-205 209.67,-205 213.5,-208.83 213.5,-212.67 213.5,-212.67 213.5,-220.33 213.5,-220.33 213.5,-224.17 209.67,-228 205.83,-228\"/>\n",
              "<text text-anchor=\"middle\" x=\"188.5\" y=\"-212.8\" font-family=\"Times,serif\" font-size=\"14.00\">Session</text>\n",
              "</g>\n",
              "<!-- &#45;1392810778038761640 -->\n",
              "<g id=\"node2\" class=\"node\">\n",
              "<title>&#45;1392810778038761640</title>\n",
              "<path fill=\"none\" stroke=\"black\" stroke-width=\"1.25\" d=\"M115.67,-187C115.67,-187 111.33,-187 111.33,-187 109.17,-187 107,-184.83 107,-182.67 107,-182.67 107,-168.33 107,-168.33 107,-166.17 109.17,-164 111.33,-164 111.33,-164 115.67,-164 115.67,-164 117.83,-164 120,-166.17 120,-168.33 120,-168.33 120,-182.67 120,-182.67 120,-184.83 117.83,-187 115.67,-187\"/>\n",
              "<text text-anchor=\"middle\" x=\"113.5\" y=\"-171.8\" font-family=\"Times,serif\" font-size=\"14.00\">(</text>\n",
              "</g>\n",
              "<!-- 1992159271781549233&#45;&gt;&#45;1392810778038761640 -->\n",
              "<g id=\"edge1\" class=\"edge\">\n",
              "<title>1992159271781549233&#45;&gt;&#45;1392810778038761640</title>\n",
              "<path fill=\"none\" stroke=\"black\" stroke-width=\"0.5\" d=\"M164.88,-204.95C153.94,-199.85 140.88,-193.45 129.5,-187 126.38,-185.23 123.04,-183.09 120.23,-181.2\"/>\n",
              "</g>\n",
              "<!-- &#45;5337972603931392826 -->\n",
              "<g id=\"node3\" class=\"node\">\n",
              "<title>&#45;5337972603931392826</title>\n",
              "<path fill=\"none\" stroke=\"black\" stroke-width=\"0.25\" d=\"M180.83,-187C180.83,-187 146.17,-187 146.17,-187 142.33,-187 138.5,-183.17 138.5,-179.33 138.5,-179.33 138.5,-171.67 138.5,-171.67 138.5,-167.83 142.33,-164 146.17,-164 146.17,-164 180.83,-164 180.83,-164 184.67,-164 188.5,-167.83 188.5,-171.67 188.5,-171.67 188.5,-179.33 188.5,-179.33 188.5,-183.17 184.67,-187 180.83,-187\"/>\n",
              "<text text-anchor=\"middle\" x=\"163.5\" y=\"-171.8\" font-family=\"Times,serif\" font-size=\"14.00\">Session</text>\n",
              "</g>\n",
              "<!-- 1992159271781549233&#45;&gt;&#45;5337972603931392826 -->\n",
              "<g id=\"edge2\" class=\"edge\">\n",
              "<title>1992159271781549233&#45;&gt;&#45;5337972603931392826</title>\n",
              "<path fill=\"none\" stroke=\"black\" stroke-width=\"0.5\" d=\"M181.67,-204.84C178.14,-199.34 173.85,-192.65 170.32,-187.14\"/>\n",
              "</g>\n",
              "<!-- 4624597894399576033 -->\n",
              "<g id=\"node4\" class=\"node\">\n",
              "<title>4624597894399576033</title>\n",
              "<path fill=\"none\" stroke=\"black\" stroke-width=\"1.25\" d=\"M215.67,-187C215.67,-187 211.33,-187 211.33,-187 209.17,-187 207,-184.83 207,-182.67 207,-182.67 207,-168.33 207,-168.33 207,-166.17 209.17,-164 211.33,-164 211.33,-164 215.67,-164 215.67,-164 217.83,-164 220,-166.17 220,-168.33 220,-168.33 220,-182.67 220,-182.67 220,-184.83 217.83,-187 215.67,-187\"/>\n",
              "<text text-anchor=\"middle\" x=\"213.5\" y=\"-171.8\" font-family=\"Times,serif\" font-size=\"14.00\">)</text>\n",
              "</g>\n",
              "<!-- 1992159271781549233&#45;&gt;4624597894399576033 -->\n",
              "<g id=\"edge3\" class=\"edge\">\n",
              "<title>1992159271781549233&#45;&gt;4624597894399576033</title>\n",
              "<path fill=\"none\" stroke=\"black\" stroke-width=\"0.5\" d=\"M195.33,-204.84C198.92,-199.25 203.29,-192.43 206.85,-186.87\"/>\n",
              "</g>\n",
              "<!-- &#45;8121763259786458895 -->\n",
              "<g id=\"node5\" class=\"node\">\n",
              "<title>&#45;8121763259786458895</title>\n",
              "<path fill=\"none\" stroke=\"black\" stroke-width=\"0.25\" d=\"M284.83,-187C284.83,-187 250.17,-187 250.17,-187 246.33,-187 242.5,-183.17 242.5,-179.33 242.5,-179.33 242.5,-171.67 242.5,-171.67 242.5,-167.83 246.33,-164 250.17,-164 250.17,-164 284.83,-164 284.83,-164 288.67,-164 292.5,-167.83 292.5,-171.67 292.5,-171.67 292.5,-179.33 292.5,-179.33 292.5,-183.17 288.67,-187 284.83,-187\"/>\n",
              "<text text-anchor=\"middle\" x=\"267.5\" y=\"-171.8\" font-family=\"Times,serif\" font-size=\"14.00\">Session</text>\n",
              "</g>\n",
              "<!-- 1992159271781549233&#45;&gt;&#45;8121763259786458895 -->\n",
              "<g id=\"edge4\" class=\"edge\">\n",
              "<title>1992159271781549233&#45;&gt;&#45;8121763259786458895</title>\n",
              "<path fill=\"none\" stroke=\"black\" stroke-width=\"0.5\" d=\"M210.09,-204.84C221.33,-199.3 235.02,-192.54 246.21,-187.01\"/>\n",
              "</g>\n",
              "<!-- &#45;1392810778038761640&#45;&gt;&#45;5337972603931392826 -->\n",
              "<!-- &#45;5337972603931392826&#45;&gt;4624597894399576033 -->\n",
              "<!-- &#45;3829868624779007333 -->\n",
              "<g id=\"node6\" class=\"node\">\n",
              "<title>&#45;3829868624779007333</title>\n",
              "<path fill=\"none\" stroke=\"black\" stroke-width=\"1.25\" d=\"M63.67,-146C63.67,-146 59.33,-146 59.33,-146 57.17,-146 55,-143.83 55,-141.67 55,-141.67 55,-127.33 55,-127.33 55,-125.17 57.17,-123 59.33,-123 59.33,-123 63.67,-123 63.67,-123 65.83,-123 68,-125.17 68,-127.33 68,-127.33 68,-141.67 68,-141.67 68,-143.83 65.83,-146 63.67,-146\"/>\n",
              "<text text-anchor=\"middle\" x=\"61.5\" y=\"-130.8\" font-family=\"Times,serif\" font-size=\"14.00\">(</text>\n",
              "</g>\n",
              "<!-- &#45;5337972603931392826&#45;&gt;&#45;3829868624779007333 -->\n",
              "<g id=\"edge8\" class=\"edge\">\n",
              "<title>&#45;5337972603931392826&#45;&gt;&#45;3829868624779007333</title>\n",
              "<path fill=\"none\" stroke=\"black\" stroke-width=\"0.5\" d=\"M138.2,-166.92C116.94,-160.39 88.33,-151.24 77.5,-146 74.27,-144.44 70.92,-142.33 68.12,-140.4\"/>\n",
              "</g>\n",
              "<!-- 113818665048627098 -->\n",
              "<g id=\"node7\" class=\"node\">\n",
              "<title>113818665048627098</title>\n",
              "<path fill=\"none\" stroke=\"black\" stroke-width=\"0.25\" d=\"M128.83,-146C128.83,-146 94.17,-146 94.17,-146 90.33,-146 86.5,-142.17 86.5,-138.33 86.5,-138.33 86.5,-130.67 86.5,-130.67 86.5,-126.83 90.33,-123 94.17,-123 94.17,-123 128.83,-123 128.83,-123 132.67,-123 136.5,-126.83 136.5,-130.67 136.5,-130.67 136.5,-138.33 136.5,-138.33 136.5,-142.17 132.67,-146 128.83,-146\"/>\n",
              "<text text-anchor=\"middle\" x=\"111.5\" y=\"-130.8\" font-family=\"Times,serif\" font-size=\"14.00\">Session</text>\n",
              "</g>\n",
              "<!-- &#45;5337972603931392826&#45;&gt;113818665048627098 -->\n",
              "<g id=\"edge9\" class=\"edge\">\n",
              "<title>&#45;5337972603931392826&#45;&gt;113818665048627098</title>\n",
              "<path fill=\"none\" stroke=\"black\" stroke-width=\"0.5\" d=\"M149.29,-163.84C141.95,-158.34 133.03,-151.65 125.69,-146.14\"/>\n",
              "</g>\n",
              "<!-- 2187540047659330340 -->\n",
              "<g id=\"node8\" class=\"node\">\n",
              "<title>2187540047659330340</title>\n",
              "<path fill=\"none\" stroke=\"black\" stroke-width=\"1.25\" d=\"M163.67,-146C163.67,-146 159.33,-146 159.33,-146 157.17,-146 155,-143.83 155,-141.67 155,-141.67 155,-127.33 155,-127.33 155,-125.17 157.17,-123 159.33,-123 159.33,-123 163.67,-123 163.67,-123 165.83,-123 168,-125.17 168,-127.33 168,-127.33 168,-141.67 168,-141.67 168,-143.83 165.83,-146 163.67,-146\"/>\n",
              "<text text-anchor=\"middle\" x=\"161.5\" y=\"-130.8\" font-family=\"Times,serif\" font-size=\"14.00\">)</text>\n",
              "</g>\n",
              "<!-- &#45;5337972603931392826&#45;&gt;2187540047659330340 -->\n",
              "<g id=\"edge10\" class=\"edge\">\n",
              "<title>&#45;5337972603931392826&#45;&gt;2187540047659330340</title>\n",
              "<path fill=\"none\" stroke=\"black\" stroke-width=\"0.5\" d=\"M162.95,-163.84C162.67,-158.34 162.33,-151.65 162.05,-146.14\"/>\n",
              "</g>\n",
              "<!-- 1728385392177929157 -->\n",
              "<g id=\"node9\" class=\"node\">\n",
              "<title>1728385392177929157</title>\n",
              "<path fill=\"none\" stroke=\"black\" stroke-width=\"0.25\" d=\"M228.83,-146C228.83,-146 194.17,-146 194.17,-146 190.33,-146 186.5,-142.17 186.5,-138.33 186.5,-138.33 186.5,-130.67 186.5,-130.67 186.5,-126.83 190.33,-123 194.17,-123 194.17,-123 228.83,-123 228.83,-123 232.67,-123 236.5,-126.83 236.5,-130.67 236.5,-130.67 236.5,-138.33 236.5,-138.33 236.5,-142.17 232.67,-146 228.83,-146\"/>\n",
              "<text text-anchor=\"middle\" x=\"211.5\" y=\"-130.8\" font-family=\"Times,serif\" font-size=\"14.00\">Session</text>\n",
              "</g>\n",
              "<!-- &#45;5337972603931392826&#45;&gt;1728385392177929157 -->\n",
              "<g id=\"edge11\" class=\"edge\">\n",
              "<title>&#45;5337972603931392826&#45;&gt;1728385392177929157</title>\n",
              "<path fill=\"none\" stroke=\"black\" stroke-width=\"0.5\" d=\"M176.62,-163.84C183.39,-158.34 191.63,-151.65 198.4,-146.14\"/>\n",
              "</g>\n",
              "<!-- 4624597894399576033&#45;&gt;&#45;8121763259786458895 -->\n",
              "<!-- 2760048941662935679 -->\n",
              "<g id=\"node20\" class=\"node\">\n",
              "<title>2760048941662935679</title>\n",
              "<path fill=\"none\" stroke=\"black\" stroke-width=\"0.25\" d=\"M278.83,-146C278.83,-146 262.17,-146 262.17,-146 258.33,-146 254.5,-142.17 254.5,-138.33 254.5,-138.33 254.5,-130.67 254.5,-130.67 254.5,-126.83 258.33,-123 262.17,-123 262.17,-123 278.83,-123 278.83,-123 282.67,-123 286.5,-126.83 286.5,-130.67 286.5,-130.67 286.5,-138.33 286.5,-138.33 286.5,-142.17 282.67,-146 278.83,-146\"/>\n",
              "<text text-anchor=\"middle\" x=\"270.5\" y=\"-130.8\" font-family=\"Times,serif\" font-size=\"14.00\">Fact</text>\n",
              "</g>\n",
              "<!-- &#45;8121763259786458895&#45;&gt;2760048941662935679 -->\n",
              "<g id=\"edge29\" class=\"edge\">\n",
              "<title>&#45;8121763259786458895&#45;&gt;2760048941662935679</title>\n",
              "<path fill=\"none\" stroke=\"black\" stroke-width=\"0.5\" d=\"M268.32,-163.84C268.74,-158.34 269.26,-151.65 269.68,-146.14\"/>\n",
              "</g>\n",
              "<!-- &#45;1117947134838281218 -->\n",
              "<g id=\"node21\" class=\"node\">\n",
              "<title>&#45;1117947134838281218</title>\n",
              "<path fill=\"none\" stroke=\"black\" stroke-width=\"0.25\" d=\"M346.83,-146C346.83,-146 312.17,-146 312.17,-146 308.33,-146 304.5,-142.17 304.5,-138.33 304.5,-138.33 304.5,-130.67 304.5,-130.67 304.5,-126.83 308.33,-123 312.17,-123 312.17,-123 346.83,-123 346.83,-123 350.67,-123 354.5,-126.83 354.5,-130.67 354.5,-130.67 354.5,-138.33 354.5,-138.33 354.5,-142.17 350.67,-146 346.83,-146\"/>\n",
              "<text text-anchor=\"middle\" x=\"329.5\" y=\"-130.8\" font-family=\"Times,serif\" font-size=\"14.00\">Session</text>\n",
              "</g>\n",
              "<!-- &#45;8121763259786458895&#45;&gt;&#45;1117947134838281218 -->\n",
              "<g id=\"edge30\" class=\"edge\">\n",
              "<title>&#45;8121763259786458895&#45;&gt;&#45;1117947134838281218</title>\n",
              "<path fill=\"none\" stroke=\"black\" stroke-width=\"0.5\" d=\"M284.44,-163.84C293.19,-158.34 303.83,-151.65 312.58,-146.14\"/>\n",
              "</g>\n",
              "<!-- &#45;3829868624779007333&#45;&gt;113818665048627098 -->\n",
              "<!-- 113818665048627098&#45;&gt;2187540047659330340 -->\n",
              "<!-- 1125794517612503133 -->\n",
              "<g id=\"node10\" class=\"node\">\n",
              "<title>1125794517612503133</title>\n",
              "<path fill=\"none\" stroke=\"black\" stroke-width=\"0.25\" d=\"M67.83,-105C67.83,-105 51.17,-105 51.17,-105 47.33,-105 43.5,-101.17 43.5,-97.33 43.5,-97.33 43.5,-89.67 43.5,-89.67 43.5,-85.83 47.33,-82 51.17,-82 51.17,-82 67.83,-82 67.83,-82 71.67,-82 75.5,-85.83 75.5,-89.67 75.5,-89.67 75.5,-97.33 75.5,-97.33 75.5,-101.17 71.67,-105 67.83,-105\"/>\n",
              "<text text-anchor=\"middle\" x=\"59.5\" y=\"-89.8\" font-family=\"Times,serif\" font-size=\"14.00\">Fact</text>\n",
              "</g>\n",
              "<!-- 113818665048627098&#45;&gt;1125794517612503133 -->\n",
              "<g id=\"edge15\" class=\"edge\">\n",
              "<title>113818665048627098&#45;&gt;1125794517612503133</title>\n",
              "<path fill=\"none\" stroke=\"black\" stroke-width=\"0.5\" d=\"M97.29,-122.84C89.95,-117.34 81.03,-110.65 73.69,-105.14\"/>\n",
              "</g>\n",
              "<!-- 7805693399100572235 -->\n",
              "<g id=\"node11\" class=\"node\">\n",
              "<title>7805693399100572235</title>\n",
              "<path fill=\"none\" stroke=\"black\" stroke-width=\"0.25\" d=\"M135.83,-105C135.83,-105 101.17,-105 101.17,-105 97.33,-105 93.5,-101.17 93.5,-97.33 93.5,-97.33 93.5,-89.67 93.5,-89.67 93.5,-85.83 97.33,-82 101.17,-82 101.17,-82 135.83,-82 135.83,-82 139.67,-82 143.5,-85.83 143.5,-89.67 143.5,-89.67 143.5,-97.33 143.5,-97.33 143.5,-101.17 139.67,-105 135.83,-105\"/>\n",
              "<text text-anchor=\"middle\" x=\"118.5\" y=\"-89.8\" font-family=\"Times,serif\" font-size=\"14.00\">Session</text>\n",
              "</g>\n",
              "<!-- 113818665048627098&#45;&gt;7805693399100572235 -->\n",
              "<g id=\"edge16\" class=\"edge\">\n",
              "<title>113818665048627098&#45;&gt;7805693399100572235</title>\n",
              "<path fill=\"none\" stroke=\"black\" stroke-width=\"0.5\" d=\"M113.41,-122.84C114.4,-117.34 115.6,-110.65 116.59,-105.14\"/>\n",
              "</g>\n",
              "<!-- 2187540047659330340&#45;&gt;1728385392177929157 -->\n",
              "<!-- &#45;4857195617211128988 -->\n",
              "<g id=\"node17\" class=\"node\">\n",
              "<title>&#45;4857195617211128988</title>\n",
              "<path fill=\"none\" stroke=\"black\" stroke-width=\"0.25\" d=\"M225.33,-105C225.33,-105 183.67,-105 183.67,-105 179.83,-105 176,-101.17 176,-97.33 176,-97.33 176,-89.67 176,-89.67 176,-85.83 179.83,-82 183.67,-82 183.67,-82 225.33,-82 225.33,-82 229.17,-82 233,-85.83 233,-89.67 233,-89.67 233,-97.33 233,-97.33 233,-101.17 229.17,-105 225.33,-105\"/>\n",
              "<text text-anchor=\"middle\" x=\"204.5\" y=\"-89.8\" font-family=\"Times,serif\" font-size=\"14.00\">Question</text>\n",
              "</g>\n",
              "<!-- 1728385392177929157&#45;&gt;&#45;4857195617211128988 -->\n",
              "<g id=\"edge25\" class=\"edge\">\n",
              "<title>1728385392177929157&#45;&gt;&#45;4857195617211128988</title>\n",
              "<path fill=\"none\" stroke=\"black\" stroke-width=\"0.5\" d=\"M209.59,-122.84C208.6,-117.34 207.4,-110.65 206.41,-105.14\"/>\n",
              "</g>\n",
              "<!-- 1125794517612503133&#45;&gt;7805693399100572235 -->\n",
              "<!-- &#45;1217282928890966374 -->\n",
              "<g id=\"node12\" class=\"node\">\n",
              "<title>&#45;1217282928890966374</title>\n",
              "<path fill=\"none\" stroke=\"black\" stroke-width=\"1.25\" d=\"M8.67,-64C8.67,-64 4.33,-64 4.33,-64 2.17,-64 0,-61.83 0,-59.67 0,-59.67 0,-45.33 0,-45.33 0,-43.17 2.17,-41 4.33,-41 4.33,-41 8.67,-41 8.67,-41 10.83,-41 13,-43.17 13,-45.33 13,-45.33 13,-59.67 13,-59.67 13,-61.83 10.83,-64 8.67,-64\"/>\n",
              "<text text-anchor=\"middle\" x=\"6.5\" y=\"-48.8\" font-family=\"Times,serif\" font-size=\"14.00\">!</text>\n",
              "</g>\n",
              "<!-- 1125794517612503133&#45;&gt;&#45;1217282928890966374 -->\n",
              "<g id=\"edge18\" class=\"edge\">\n",
              "<title>1125794517612503133&#45;&gt;&#45;1217282928890966374</title>\n",
              "<path fill=\"none\" stroke=\"black\" stroke-width=\"0.5\" d=\"M45.02,-81.84C34.6,-74.18 21.03,-64.19 13.09,-58.35\"/>\n",
              "</g>\n",
              "<!-- &#45;1385704846116936707 -->\n",
              "<g id=\"node13\" class=\"node\">\n",
              "<title>&#45;1385704846116936707</title>\n",
              "<path fill=\"none\" stroke=\"black\" stroke-width=\"1.25\" d=\"M80.33,-64C80.33,-64 38.67,-64 38.67,-64 34.83,-64 31,-60.17 31,-56.33 31,-56.33 31,-48.67 31,-48.67 31,-44.83 34.83,-41 38.67,-41 38.67,-41 80.33,-41 80.33,-41 84.17,-41 88,-44.83 88,-48.67 88,-48.67 88,-56.33 88,-56.33 88,-60.17 84.17,-64 80.33,-64\"/>\n",
              "<text text-anchor=\"middle\" x=\"59.5\" y=\"-48.8\" font-family=\"Times,serif\" font-size=\"14.00\">STRING</text>\n",
              "</g>\n",
              "<!-- 1125794517612503133&#45;&gt;&#45;1385704846116936707 -->\n",
              "<g id=\"edge19\" class=\"edge\">\n",
              "<title>1125794517612503133&#45;&gt;&#45;1385704846116936707</title>\n",
              "<path fill=\"none\" stroke=\"black\" stroke-width=\"0.5\" d=\"M59.5,-81.84C59.5,-76.34 59.5,-69.65 59.5,-64.14\"/>\n",
              "</g>\n",
              "<!-- 8334731569186723184 -->\n",
              "<g id=\"node14\" class=\"node\">\n",
              "<title>8334731569186723184</title>\n",
              "<path fill=\"none\" stroke=\"black\" stroke-width=\"0.25\" d=\"M155.33,-64C155.33,-64 113.67,-64 113.67,-64 109.83,-64 106,-60.17 106,-56.33 106,-56.33 106,-48.67 106,-48.67 106,-44.83 109.83,-41 113.67,-41 113.67,-41 155.33,-41 155.33,-41 159.17,-41 163,-44.83 163,-48.67 163,-48.67 163,-56.33 163,-56.33 163,-60.17 159.17,-64 155.33,-64\"/>\n",
              "<text text-anchor=\"middle\" x=\"134.5\" y=\"-48.8\" font-family=\"Times,serif\" font-size=\"14.00\">Question</text>\n",
              "</g>\n",
              "<!-- 7805693399100572235&#45;&gt;8334731569186723184 -->\n",
              "<g id=\"edge21\" class=\"edge\">\n",
              "<title>7805693399100572235&#45;&gt;8334731569186723184</title>\n",
              "<path fill=\"none\" stroke=\"black\" stroke-width=\"0.5\" d=\"M122.87,-81.84C125.13,-76.34 127.88,-69.65 130.13,-64.14\"/>\n",
              "</g>\n",
              "<!-- &#45;1217282928890966374&#45;&gt;&#45;1385704846116936707 -->\n",
              "<!-- &#45;6149175343765946700 -->\n",
              "<g id=\"node15\" class=\"node\">\n",
              "<title>&#45;6149175343765946700</title>\n",
              "<path fill=\"none\" stroke=\"black\" stroke-width=\"1.25\" d=\"M110,-23C110,-23 105,-23 105,-23 102.5,-23 100,-20.5 100,-18 100,-18 100,-5 100,-5 100,-2.5 102.5,0 105,0 105,0 110,0 110,0 112.5,0 115,-2.5 115,-5 115,-5 115,-18 115,-18 115,-20.5 112.5,-23 110,-23\"/>\n",
              "<text text-anchor=\"middle\" x=\"107.5\" y=\"-7.8\" font-family=\"Times,serif\" font-size=\"14.00\">?</text>\n",
              "</g>\n",
              "<!-- 8334731569186723184&#45;&gt;&#45;6149175343765946700 -->\n",
              "<g id=\"edge22\" class=\"edge\">\n",
              "<title>8334731569186723184&#45;&gt;&#45;6149175343765946700</title>\n",
              "<path fill=\"none\" stroke=\"black\" stroke-width=\"0.5\" d=\"M127.12,-40.84C123.31,-35.34 118.68,-28.65 114.87,-23.14\"/>\n",
              "</g>\n",
              "<!-- 357246371840333563 -->\n",
              "<g id=\"node16\" class=\"node\">\n",
              "<title>357246371840333563</title>\n",
              "<path fill=\"none\" stroke=\"black\" stroke-width=\"1.25\" d=\"M182.33,-23C182.33,-23 140.67,-23 140.67,-23 136.83,-23 133,-19.17 133,-15.33 133,-15.33 133,-7.67 133,-7.67 133,-3.83 136.83,0 140.67,0 140.67,0 182.33,0 182.33,0 186.17,0 190,-3.83 190,-7.67 190,-7.67 190,-15.33 190,-15.33 190,-19.17 186.17,-23 182.33,-23\"/>\n",
              "<text text-anchor=\"middle\" x=\"161.5\" y=\"-7.8\" font-family=\"Times,serif\" font-size=\"14.00\">STRING</text>\n",
              "</g>\n",
              "<!-- 8334731569186723184&#45;&gt;357246371840333563 -->\n",
              "<g id=\"edge23\" class=\"edge\">\n",
              "<title>8334731569186723184&#45;&gt;357246371840333563</title>\n",
              "<path fill=\"none\" stroke=\"black\" stroke-width=\"0.5\" d=\"M141.88,-40.84C145.69,-35.34 150.32,-28.65 154.13,-23.14\"/>\n",
              "</g>\n",
              "<!-- &#45;6149175343765946700&#45;&gt;357246371840333563 -->\n",
              "<!-- 1263915461458195659 -->\n",
              "<g id=\"node18\" class=\"node\">\n",
              "<title>1263915461458195659</title>\n",
              "<path fill=\"none\" stroke=\"black\" stroke-width=\"1.25\" d=\"M199,-64C199,-64 194,-64 194,-64 191.5,-64 189,-61.5 189,-59 189,-59 189,-46 189,-46 189,-43.5 191.5,-41 194,-41 194,-41 199,-41 199,-41 201.5,-41 204,-43.5 204,-46 204,-46 204,-59 204,-59 204,-61.5 201.5,-64 199,-64\"/>\n",
              "<text text-anchor=\"middle\" x=\"196.5\" y=\"-48.8\" font-family=\"Times,serif\" font-size=\"14.00\">?</text>\n",
              "</g>\n",
              "<!-- &#45;4857195617211128988&#45;&gt;1263915461458195659 -->\n",
              "<g id=\"edge26\" class=\"edge\">\n",
              "<title>&#45;4857195617211128988&#45;&gt;1263915461458195659</title>\n",
              "<path fill=\"none\" stroke=\"black\" stroke-width=\"0.5\" d=\"M202.31,-81.84C201.19,-76.34 199.81,-69.65 198.68,-64.14\"/>\n",
              "</g>\n",
              "<!-- &#45;118511938655789695 -->\n",
              "<g id=\"node19\" class=\"node\">\n",
              "<title>&#45;118511938655789695</title>\n",
              "<path fill=\"none\" stroke=\"black\" stroke-width=\"1.25\" d=\"M271.33,-64C271.33,-64 229.67,-64 229.67,-64 225.83,-64 222,-60.17 222,-56.33 222,-56.33 222,-48.67 222,-48.67 222,-44.83 225.83,-41 229.67,-41 229.67,-41 271.33,-41 271.33,-41 275.17,-41 279,-44.83 279,-48.67 279,-48.67 279,-56.33 279,-56.33 279,-60.17 275.17,-64 271.33,-64\"/>\n",
              "<text text-anchor=\"middle\" x=\"250.5\" y=\"-48.8\" font-family=\"Times,serif\" font-size=\"14.00\">STRING</text>\n",
              "</g>\n",
              "<!-- &#45;4857195617211128988&#45;&gt;&#45;118511938655789695 -->\n",
              "<g id=\"edge27\" class=\"edge\">\n",
              "<title>&#45;4857195617211128988&#45;&gt;&#45;118511938655789695</title>\n",
              "<path fill=\"none\" stroke=\"black\" stroke-width=\"0.5\" d=\"M217.07,-81.84C223.56,-76.34 231.46,-69.65 237.95,-64.14\"/>\n",
              "</g>\n",
              "<!-- 1263915461458195659&#45;&gt;&#45;118511938655789695 -->\n",
              "<!-- 2760048941662935679&#45;&gt;&#45;1117947134838281218 -->\n",
              "<!-- 8305820610879731789 -->\n",
              "<g id=\"node22\" class=\"node\">\n",
              "<title>8305820610879731789</title>\n",
              "<path fill=\"none\" stroke=\"black\" stroke-width=\"1.25\" d=\"M259.67,-105C259.67,-105 255.33,-105 255.33,-105 253.17,-105 251,-102.83 251,-100.67 251,-100.67 251,-86.33 251,-86.33 251,-84.17 253.17,-82 255.33,-82 255.33,-82 259.67,-82 259.67,-82 261.83,-82 264,-84.17 264,-86.33 264,-86.33 264,-100.67 264,-100.67 264,-102.83 261.83,-105 259.67,-105\"/>\n",
              "<text text-anchor=\"middle\" x=\"257.5\" y=\"-89.8\" font-family=\"Times,serif\" font-size=\"14.00\">!</text>\n",
              "</g>\n",
              "<!-- 2760048941662935679&#45;&gt;8305820610879731789 -->\n",
              "<g id=\"edge32\" class=\"edge\">\n",
              "<title>2760048941662935679&#45;&gt;8305820610879731789</title>\n",
              "<path fill=\"none\" stroke=\"black\" stroke-width=\"0.5\" d=\"M266.95,-122.84C265.11,-117.34 262.88,-110.65 261.05,-105.14\"/>\n",
              "</g>\n",
              "<!-- &#45;5421590009333376250 -->\n",
              "<g id=\"node23\" class=\"node\">\n",
              "<title>&#45;5421590009333376250</title>\n",
              "<path fill=\"none\" stroke=\"black\" stroke-width=\"1.25\" d=\"M331.33,-105C331.33,-105 289.67,-105 289.67,-105 285.83,-105 282,-101.17 282,-97.33 282,-97.33 282,-89.67 282,-89.67 282,-85.83 285.83,-82 289.67,-82 289.67,-82 331.33,-82 331.33,-82 335.17,-82 339,-85.83 339,-89.67 339,-89.67 339,-97.33 339,-97.33 339,-101.17 335.17,-105 331.33,-105\"/>\n",
              "<text text-anchor=\"middle\" x=\"310.5\" y=\"-89.8\" font-family=\"Times,serif\" font-size=\"14.00\">STRING</text>\n",
              "</g>\n",
              "<!-- 2760048941662935679&#45;&gt;&#45;5421590009333376250 -->\n",
              "<g id=\"edge33\" class=\"edge\">\n",
              "<title>2760048941662935679&#45;&gt;&#45;5421590009333376250</title>\n",
              "<path fill=\"none\" stroke=\"black\" stroke-width=\"0.5\" d=\"M281.43,-122.84C287.07,-117.34 293.94,-110.65 299.58,-105.14\"/>\n",
              "</g>\n",
              "<!-- &#45;2747182882664573184 -->\n",
              "<g id=\"node24\" class=\"node\">\n",
              "<title>&#45;2747182882664573184</title>\n",
              "<path fill=\"none\" stroke=\"black\" stroke-width=\"0.25\" d=\"M406.33,-105C406.33,-105 364.67,-105 364.67,-105 360.83,-105 357,-101.17 357,-97.33 357,-97.33 357,-89.67 357,-89.67 357,-85.83 360.83,-82 364.67,-82 364.67,-82 406.33,-82 406.33,-82 410.17,-82 414,-85.83 414,-89.67 414,-89.67 414,-97.33 414,-97.33 414,-101.17 410.17,-105 406.33,-105\"/>\n",
              "<text text-anchor=\"middle\" x=\"385.5\" y=\"-89.8\" font-family=\"Times,serif\" font-size=\"14.00\">Question</text>\n",
              "</g>\n",
              "<!-- &#45;1117947134838281218&#45;&gt;&#45;2747182882664573184 -->\n",
              "<g id=\"edge35\" class=\"edge\">\n",
              "<title>&#45;1117947134838281218&#45;&gt;&#45;2747182882664573184</title>\n",
              "<path fill=\"none\" stroke=\"black\" stroke-width=\"0.5\" d=\"M344.8,-122.84C352.7,-117.34 362.32,-110.65 370.22,-105.14\"/>\n",
              "</g>\n",
              "<!-- 8305820610879731789&#45;&gt;&#45;5421590009333376250 -->\n",
              "<!-- 3373928196004751463 -->\n",
              "<g id=\"node25\" class=\"node\">\n",
              "<title>3373928196004751463</title>\n",
              "<path fill=\"none\" stroke=\"black\" stroke-width=\"1.25\" d=\"M361,-64C361,-64 356,-64 356,-64 353.5,-64 351,-61.5 351,-59 351,-59 351,-46 351,-46 351,-43.5 353.5,-41 356,-41 356,-41 361,-41 361,-41 363.5,-41 366,-43.5 366,-46 366,-46 366,-59 366,-59 366,-61.5 363.5,-64 361,-64\"/>\n",
              "<text text-anchor=\"middle\" x=\"358.5\" y=\"-48.8\" font-family=\"Times,serif\" font-size=\"14.00\">?</text>\n",
              "</g>\n",
              "<!-- &#45;2747182882664573184&#45;&gt;3373928196004751463 -->\n",
              "<g id=\"edge36\" class=\"edge\">\n",
              "<title>&#45;2747182882664573184&#45;&gt;3373928196004751463</title>\n",
              "<path fill=\"none\" stroke=\"black\" stroke-width=\"0.5\" d=\"M378.12,-81.84C374.31,-76.34 369.68,-69.65 365.87,-64.14\"/>\n",
              "</g>\n",
              "<!-- 1991500795890766109 -->\n",
              "<g id=\"node26\" class=\"node\">\n",
              "<title>1991500795890766109</title>\n",
              "<path fill=\"none\" stroke=\"black\" stroke-width=\"1.25\" d=\"M433.33,-64C433.33,-64 391.67,-64 391.67,-64 387.83,-64 384,-60.17 384,-56.33 384,-56.33 384,-48.67 384,-48.67 384,-44.83 387.83,-41 391.67,-41 391.67,-41 433.33,-41 433.33,-41 437.17,-41 441,-44.83 441,-48.67 441,-48.67 441,-56.33 441,-56.33 441,-60.17 437.17,-64 433.33,-64\"/>\n",
              "<text text-anchor=\"middle\" x=\"412.5\" y=\"-48.8\" font-family=\"Times,serif\" font-size=\"14.00\">STRING</text>\n",
              "</g>\n",
              "<!-- &#45;2747182882664573184&#45;&gt;1991500795890766109 -->\n",
              "<g id=\"edge37\" class=\"edge\">\n",
              "<title>&#45;2747182882664573184&#45;&gt;1991500795890766109</title>\n",
              "<path fill=\"none\" stroke=\"black\" stroke-width=\"0.5\" d=\"M392.88,-81.84C396.69,-76.34 401.32,-69.65 405.13,-64.14\"/>\n",
              "</g>\n",
              "<!-- 3373928196004751463&#45;&gt;1991500795890766109 -->\n",
              "</g>\n",
              "</svg>\n"
            ],
            "text/plain": [
              "ProductionGraph(Session -> ( Session ) Session -> ( ( Session ) Session ) Session -> ( ( Fact Session ) Session ) Session -> ( ( ! STRING Session ) Session ) Session -> ( ( ! STRING Question ) Session ) Session -> ( ( ! STRING ? STRING ) Session ) Session -> ( ( ! STRING ? STRING ) Question ) Session -> ( ( ! STRING ? STRING ) ? STRING ) Session -> ( ( ! STRING ? STRING ) ? STRING ) Fact Session -> ( ( ! STRING ? STRING ) ? STRING ) ! STRING Session -> ( ( ! STRING ? STRING ) ? STRING ) ! STRING Question -> ( ( ! STRING ? STRING ) ? STRING ) ! STRING ? STRING)"
            ]
          },
          "execution_count": 23,
          "metadata": {},
          "output_type": "execute_result"
        }
      ],
      "source": [
        "ProductionGraph(parse_noε(G, TABLE, INPUT))"
      ]
    },
    {
      "cell_type": "markdown",
      "metadata": {},
      "source": [
        "## Cosa accade con le ε-regole? \n",
        "\n",
        "Consideriamo la seguente versione più \"naturale\" della precedente grammatica:"
      ]
    },
    {
      "cell_type": "code",
      "execution_count": null,
      "metadata": {},
      "outputs": [
        {
          "data": {
            "text/plain": [
              "Grammar(N={Fact, Facts, Question, Session}, T={!, (, ), ?, STRING}, P=(Session -> Facts Question, Session -> ( Session ) Session, Facts -> Fact Facts, Facts -> ε, Fact -> ! STRING, Question -> ? STRING), S=Session)"
            ]
          },
          "execution_count": 24,
          "metadata": {},
          "output_type": "execute_result"
        }
      ],
      "source": [
        "# fig. 8.9, pag. 242\n",
        "\n",
        "G = Grammar.from_string(\"\"\"\n",
        "Session -> Facts Question | ( Session ) Session\n",
        "Facts -> Fact Facts | ε\n",
        "Fact -> ! STRING\n",
        "Question -> ? STRING\n",
        "\"\"\")\n",
        "G"
      ]
    },
    {
      "cell_type": "markdown",
      "metadata": {},
      "source": [
        "### Estendere il calcolo di `FIRST` al caso con ε-regole\n",
        "\n",
        "Evidentemente non potremo più semplificarci la vita considerando $\\operatorname{FIRST}(B\\beta) = \\operatorname{FIRST}(B)$, perché se $B\\to\\varepsilon$ (altrimenti detto $\\varepsilon\\in \\operatorname{FIRST}(B)$) per prima cosa non è detto che $\\varepsilon\\in \\operatorname{FIRST}(B\\beta)$ (perché potrebbe essere che $\\varepsilon\\not\\in \\operatorname{FIRST}(\\beta)$), ma sopratutto dovremo aggiungere anche $\\operatorname{FIRST}(\\beta)$ a $\\operatorname{FIRST}(B\\beta)$ per tenere conto del caso in cui la prima produzione sia proprio quella che \"fa sparire\" $B$! "
      ]
    },
    {
      "cell_type": "markdown",
      "metadata": {},
      "source": [
        "Siamo pronti per aggiornare il calcolo di $\\operatorname{FIRST}(\\omega)$, questa volta per semplificarci la vita useremo una chiusura; gli elementi della tabella `FIRST` saranno insiemi ai quali, ad ogni passo della chiusura, aggiungeremo i terminali che di volta in volta individueremo come i primi derivabili da $\\omega$.\n",
        "\n",
        "Inizialmente $\\operatorname{FIRST}(t) = \\{t\\}$ per tutti i $t \\in T \\cup \\{\\varepsilon, \\#\\}$. Poi ad ogni passo della chiusura aggiorneremo `FIRST` seceondo questa logica:\n",
        "\n",
        "* considerando le produzioni $X\\to \\alpha$, estenderemo $\\operatorname{FIRST}(X)$ in modo che contenga \n",
        "  $\\operatorname{FIRST}(\\alpha)$ (come fatto nel caso senza ε-regole );\n",
        "* inoltre, al fine di tener conto del fatto che i prefissi di $\\alpha$ potrebbero produrre $\\varepsilon$, \n",
        "  considereremo anche tutti i suffissi $\\gamma = A\\beta$ di $\\alpha$, estendendo $\\operatorname{FIRST}(\\gamma)$\n",
        "  in modo che contenga:\n",
        "    * $\\operatorname{FIRST}(A)$ (tranne eventualmente $\\varepsilon$, che non va aggiunto a meno che \n",
        "      $\\beta\\overset{*}{\\to} \\varepsilon$) e\n",
        "    * $\\operatorname{FIRST}(\\beta)$ se $\\varepsilon\\in \\operatorname{FIRST}(A)$.\n",
        "\n",
        "Possiamo procurarci i suffissi di una forma sentenziale con la seguente funzione"
      ]
    },
    {
      "cell_type": "code",
      "execution_count": null,
      "metadata": {},
      "outputs": [
        {
          "data": {
            "text/plain": [
              "['example', 'xample', 'ample', 'mple', 'ple', 'le', 'e']"
            ]
          },
          "execution_count": 25,
          "metadata": {},
          "output_type": "execute_result"
        }
      ],
      "source": [
        "list(suffixes('example'))"
      ]
    },
    {
      "cell_type": "code",
      "execution_count": null,
      "metadata": {},
      "outputs": [],
      "source": [
        "def compute_εfirst(G):\n",
        "\n",
        "  FIRST = Table(1, element = set) # questo significa che gli elementi dell tabella sono insiemi\n",
        "\n",
        "  # per prima cosa, il caso banele \n",
        "  for t in G.T: FIRST[(t, )] = {t} # attenzione, gli indici sono forme sentenziali, ossia tuple!\n",
        "\n",
        "  # qualche caso \"extra\" che ci verrà comodo poi    \n",
        "  FIRST[tuple()] = {ε}\n",
        "  FIRST[(ε, )] = {ε}\n",
        "  FIRST[(HASH, )] = {HASH}\n",
        "\n",
        "  @closure\n",
        "  def update_with_suffixes(FIRST):\n",
        "    for X, α in G.P:\n",
        "      FIRST[(X, )] |= FIRST[α]\n",
        "      for γ in suffixes(α):\n",
        "        A, *β = γ\n",
        "        FIRST[γ] |= FIRST[(A, )] - {ε}\n",
        "        if ε in FIRST[(A, )]: FIRST[γ] |= FIRST[β]\n",
        "    return FIRST\n",
        "\n",
        "  return update_with_suffixes(FIRST)"
      ]
    },
    {
      "cell_type": "code",
      "execution_count": null,
      "metadata": {},
      "outputs": [
        {
          "data": {
            "text/html": [
              "<style>td, th {border: 1pt solid lightgray !important; text-align: left !important;}</style><table><tr><th><pre>Session</pre><td><pre>!, ?, (</pre>\n",
              "<tr><th><pre>Facts</pre><td><pre>!, ε</pre>\n",
              "<tr><th><pre>Fact</pre><td><pre>!</pre>\n",
              "<tr><th><pre>Question</pre><td><pre>?</pre></table>"
            ],
            "text/plain": [
              "<liblet.utils.Table at 0x7f2e201851e0>"
            ]
          },
          "execution_count": 27,
          "metadata": {},
          "output_type": "execute_result"
        }
      ],
      "source": [
        "FIRST = compute_εfirst(G)\n",
        "FIRST.restrict_to({(X, ) for X in G.N})"
      ]
    },
    {
      "cell_type": "markdown",
      "metadata": {},
      "source": [
        "Quanto ottenuto fin qui è corretto, ma `FIRST` contiene valori solo per certe forme sentenziali (ottenute come suffissi dei lati destri), non per tutte. Non è però difficile estenderlo in modo che funzioni in generale.\n",
        "\n",
        "Ragionando in maniera ricorsiva (come abbiamo fatto in `compute_first`) è possibile passare da un insieme ad una funzione `FIRSTf` che calcoli $\\operatorname{FIRST}(\\omega)$ qualunque sia $\\omega$"
      ]
    },
    {
      "cell_type": "code",
      "execution_count": null,
      "metadata": {},
      "outputs": [],
      "source": [
        "def make_first_function(G):\n",
        "\n",
        "  FIRST = compute_εfirst(G)\n",
        "\n",
        "  @show_calls(True)\n",
        "  def FIRSTf(ω):\n",
        "    if not ω: return {ε}\n",
        "    X, *γ = ω\n",
        "    fx = FIRST[(X, )]\n",
        "    if ε in fx:\n",
        "      return (fx - {ε}) | FIRSTf(γ)\n",
        "    else:\n",
        "      return fx\n",
        "\n",
        "  return FIRSTf"
      ]
    },
    {
      "cell_type": "markdown",
      "metadata": {},
      "source": [
        "Possiamo provarla su una forma addirittura non derivabile da $S$"
      ]
    },
    {
      "cell_type": "code",
      "execution_count": null,
      "metadata": {},
      "outputs": [],
      "source": [
        "FIRSTf = make_first_function(G)"
      ]
    },
    {
      "cell_type": "code",
      "execution_count": null,
      "metadata": {},
      "outputs": [
        {
          "name": "stdout",
          "output_type": "stream",
          "text": [
            "┌FIRSTf(('Facts', 'Facts', 'Question', '♯'))\n",
            "│┌FIRSTf(['Facts', 'Question', '♯'])\n",
            "││┌FIRSTf(['Question', '♯'])\n",
            "││└─ {'?'}\n",
            "│└─ {'!', '?'}\n",
            "└─ {'!', '?'}\n"
          ]
        },
        {
          "data": {
            "text/plain": [
              "{'!', '?'}"
            ]
          },
          "execution_count": 30,
          "metadata": {},
          "output_type": "execute_result"
        }
      ],
      "source": [
        "FIRSTf(('Facts', 'Facts', 'Question', HASH ))"
      ]
    },
    {
      "attachments": {},
      "cell_type": "markdown",
      "metadata": {},
      "source": [
        "Ora la nostra speranza è poter calcolare `TABLE` a partire da `FRISTf`, ma purtroppo è impossibile auspicarsi di poter decidere che produzione usare considerando solo il simbolo $A$ in cima alla pila, dato che potrebbe darsi il caso che $A\\to\\varepsilon$."
      ]
    }
  ],
  "metadata": {
    "kernelspec": {
      "display_name": "Python 3",
      "language": "python",
      "name": "python3"
    },
    "language_info": {
      "codemirror_mode": {
        "name": "ipython",
        "version": 3
      },
      "file_extension": ".py",
      "mimetype": "text/x-python",
      "name": "python",
      "nbconvert_exporter": "python",
      "pygments_lexer": "ipython3"
    }
  },
  "nbformat": 4,
  "nbformat_minor": 2
}
