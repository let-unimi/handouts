{
 "cells": [
  {
   "cell_type": "markdown",
   "metadata": {},
   "source": [
    "# Parsing top-down direzionale (caso generale)"
   ]
  },
  {
   "cell_type": "code",
   "execution_count": 17,
   "metadata": {},
   "outputs": [],
   "source": [
    "from liblet import Production, Grammar, Derivation, ProductionGraph, Queue, Stack, dod2table\n",
    "from ipywidgets import interactive, IntSlider"
   ]
  },
  {
   "cell_type": "markdown",
   "metadata": {},
   "source": [
    "## Imitando le derivazioni leftmost"
   ]
  },
  {
   "cell_type": "code",
   "execution_count": 2,
   "metadata": {},
   "outputs": [
    {
     "data": {
      "text/plain": [
       "Grammar(N={A, B, S}, T={a, b}, P=(S -> a B, S -> b A, A -> a, A -> a S, A -> b A A, B -> b, B -> b S, B -> a B B), S=S)"
      ]
     },
     "execution_count": 2,
     "metadata": {},
     "output_type": "execute_result"
    }
   ],
   "source": [
    "# fig. 6.1, pag. 165\n",
    "\n",
    "G = Grammar.from_string(\"\"\"\n",
    "S -> a B | b A\n",
    "A -> a | a S | b A A\n",
    "B -> b | b S | a B B\n",
    "\"\"\")\n",
    "G"
   ]
  },
  {
   "cell_type": "code",
   "execution_count": 3,
   "metadata": {},
   "outputs": [
    {
     "data": {
      "application/vnd.jupyter.widget-view+json": {
       "model_id": "1b6634b37e304425a29fbbc00408be49",
       "version_major": 2,
       "version_minor": 0
      },
      "text/plain": [
       "interactive(children=(IntSlider(value=0, description='n', max=4), Output(layout=Layout(height='300px'))), _dom…"
      ]
     },
     "metadata": {},
     "output_type": "display_data"
    }
   ],
   "source": [
    "def derivation_up_to(n):\n",
    "    leftmost_prods = [0, 7, 5, 5]\n",
    "    d = Derivation(G)\n",
    "    for prod in leftmost_prods[:n]: d = d.leftmost(prod)\n",
    "    display(ProductionGraph(d))\n",
    "\n",
    "# quel che segue è un truccaccio di visualizzazione, non badateci    \n",
    "    \n",
    "ui = interactive(derivation_up_to, n = IntSlider(min = 0, max = 4, value = 0))\n",
    "ui.children[-1].layout.height = '300px'\n",
    "ui"
   ]
  },
  {
   "cell_type": "code",
   "execution_count": 4,
   "metadata": {},
   "outputs": [
    {
     "data": {
      "application/vnd.jupyter.widget-view+json": {
       "model_id": "e14fcc75e5da483a96ce5427a93efa41",
       "version_major": 2,
       "version_minor": 0
      },
      "text/plain": [
       "interactive(children=(IntSlider(value=0, description='n', max=4), Output(layout=Layout(height='300px'))), _dom…"
      ]
     },
     "metadata": {},
     "output_type": "display_data"
    }
   ],
   "source": [
    "# non presente nel libro\n",
    "\n",
    "G = Grammar.from_string(\"\"\"\n",
    "S -> a B C\n",
    "B -> a B | b\n",
    "C -> a\n",
    "\"\"\")\n",
    "\n",
    "def derivation_up_to(n):\n",
    "    leftmost_prods = [0, 1, 2, 3]\n",
    "    d = Derivation(G)\n",
    "    for prod in leftmost_prods[:n]: d = d.leftmost(prod)\n",
    "    display(ProductionGraph(d))\n",
    "\n",
    "# quel che segue è un truccaccio di visualizzazione, non badateci    \n",
    "    \n",
    "ui = interactive(derivation_up_to, n = IntSlider(min = 0, max = 4, value = 0))\n",
    "ui.children[-1].layout.height = '300px'\n",
    "ui"
   ]
  },
  {
   "cell_type": "markdown",
   "metadata": {},
   "source": [
    "## Aggiornare la pila di predizione e la derivazione"
   ]
  },
  {
   "cell_type": "code",
   "execution_count": 5,
   "metadata": {},
   "outputs": [],
   "source": [
    "def update_stack(stack, P):\n",
    "    copy = stack.copy()\n",
    "    for X in reversed(P.rhs): copy.push(X)\n",
    "    return copy\n",
    "\n",
    "def update_deriv(deriv, P):\n",
    "    return deriv.leftmost(deriv.G.P.index(P))"
   ]
  },
  {
   "cell_type": "code",
   "execution_count": 10,
   "metadata": {},
   "outputs": [],
   "source": [
    "# mostra le descrizoni istantanee nella coda/pila\n",
    "\n",
    "def show_instdescrs(store):\n",
    "    for deriv, stack, rest in store:\n",
    "        print([p for p, q in deriv.steps()], ''.join(reversed(list(stack))), rest)\n",
    "    print('-' * 60)"
   ]
  },
  {
   "cell_type": "markdown",
   "metadata": {},
   "source": [
    "## Calcolare le prossime descrizioni istantanee"
   ]
  },
  {
   "cell_type": "code",
   "execution_count": 12,
   "metadata": {},
   "outputs": [],
   "source": [
    "def next_instdescrs(curr):\n",
    "    deriv, stack, rest = curr\n",
    "    top = stack.pop()\n",
    "    if top == rest[0] == '#': return [(deriv, None, None)]\n",
    "    if top in G.T:\n",
    "        # MATCH\n",
    "        if top == rest[0]: \n",
    "            return [\n",
    "                (deriv, stack.copy(), rest[1:])\n",
    "            ]\n",
    "    else:\n",
    "        # PREDICT\n",
    "        return [\n",
    "            (update_deriv(deriv, P), update_stack(stack, P), rest)\n",
    "            for P in filter(Production.such_that(lhs = top), G.P)\n",
    "        ]\n",
    "    return []"
   ]
  },
  {
   "cell_type": "markdown",
   "metadata": {},
   "source": [
    "## Nondeterminismo"
   ]
  },
  {
   "cell_type": "code",
   "execution_count": 24,
   "metadata": {},
   "outputs": [],
   "source": [
    "# fig. 6.6, pag. 171\n",
    "\n",
    "G = Grammar.from_string(\"\"\"\n",
    "S -> A B | D C \n",
    "A -> a | a A\n",
    "B -> b c | b B c \n",
    "D -> a b | a D b \n",
    "C -> c | c C\n",
    "\"\"\")\n",
    "G\n",
    "\n",
    "word = 'aabc'"
   ]
  },
  {
   "cell_type": "markdown",
   "metadata": {},
   "source": [
    "### Breadth first"
   ]
  },
  {
   "cell_type": "code",
   "execution_count": 25,
   "metadata": {
    "scrolled": false
   },
   "outputs": [
    {
     "name": "stdout",
     "output_type": "stream",
     "text": [
      "[] S# aabc#\n",
      "------------------------------------------------------------\n",
      "[0] AB# aabc#\n",
      "[1] DC# aabc#\n",
      "------------------------------------------------------------\n",
      "[1] DC# aabc#\n",
      "[0, 2] aB# aabc#\n",
      "[0, 3] aAB# aabc#\n",
      "------------------------------------------------------------\n",
      "[0, 2] aB# aabc#\n",
      "[0, 3] aAB# aabc#\n",
      "[1, 6] abC# aabc#\n",
      "[1, 7] aDbC# aabc#\n",
      "------------------------------------------------------------\n",
      "[0, 3] aAB# aabc#\n",
      "[1, 6] abC# aabc#\n",
      "[1, 7] aDbC# aabc#\n",
      "[0, 2] B# abc#\n",
      "------------------------------------------------------------\n",
      "[1, 6] abC# aabc#\n",
      "[1, 7] aDbC# aabc#\n",
      "[0, 2] B# abc#\n",
      "[0, 3] AB# abc#\n",
      "------------------------------------------------------------\n",
      "[1, 7] aDbC# aabc#\n",
      "[0, 2] B# abc#\n",
      "[0, 3] AB# abc#\n",
      "[1, 6] bC# abc#\n",
      "------------------------------------------------------------\n",
      "[0, 2] B# abc#\n",
      "[0, 3] AB# abc#\n",
      "[1, 6] bC# abc#\n",
      "[1, 7] DbC# abc#\n",
      "------------------------------------------------------------\n",
      "[0, 3] AB# abc#\n",
      "[1, 6] bC# abc#\n",
      "[1, 7] DbC# abc#\n",
      "[0, 2, 4] bc# abc#\n",
      "[0, 2, 5] bBc# abc#\n",
      "------------------------------------------------------------\n",
      "[1, 6] bC# abc#\n",
      "[1, 7] DbC# abc#\n",
      "[0, 2, 4] bc# abc#\n",
      "[0, 2, 5] bBc# abc#\n",
      "[0, 3, 2] aB# abc#\n",
      "[0, 3, 3] aAB# abc#\n",
      "------------------------------------------------------------\n",
      "[1, 7] DbC# abc#\n",
      "[0, 2, 4] bc# abc#\n",
      "[0, 2, 5] bBc# abc#\n",
      "[0, 3, 2] aB# abc#\n",
      "[0, 3, 3] aAB# abc#\n",
      "------------------------------------------------------------\n",
      "[0, 2, 4] bc# abc#\n",
      "[0, 2, 5] bBc# abc#\n",
      "[0, 3, 2] aB# abc#\n",
      "[0, 3, 3] aAB# abc#\n",
      "[1, 7, 6] abbC# abc#\n",
      "[1, 7, 7] aDbbC# abc#\n",
      "------------------------------------------------------------\n",
      "[0, 2, 5] bBc# abc#\n",
      "[0, 3, 2] aB# abc#\n",
      "[0, 3, 3] aAB# abc#\n",
      "[1, 7, 6] abbC# abc#\n",
      "[1, 7, 7] aDbbC# abc#\n",
      "------------------------------------------------------------\n",
      "[0, 3, 2] aB# abc#\n",
      "[0, 3, 3] aAB# abc#\n",
      "[1, 7, 6] abbC# abc#\n",
      "[1, 7, 7] aDbbC# abc#\n",
      "------------------------------------------------------------\n",
      "[0, 3, 3] aAB# abc#\n",
      "[1, 7, 6] abbC# abc#\n",
      "[1, 7, 7] aDbbC# abc#\n",
      "[0, 3, 2] B# bc#\n",
      "------------------------------------------------------------\n",
      "[1, 7, 6] abbC# abc#\n",
      "[1, 7, 7] aDbbC# abc#\n",
      "[0, 3, 2] B# bc#\n",
      "[0, 3, 3] AB# bc#\n",
      "------------------------------------------------------------\n",
      "[1, 7, 7] aDbbC# abc#\n",
      "[0, 3, 2] B# bc#\n",
      "[0, 3, 3] AB# bc#\n",
      "[1, 7, 6] bbC# bc#\n",
      "------------------------------------------------------------\n",
      "[0, 3, 2] B# bc#\n",
      "[0, 3, 3] AB# bc#\n",
      "[1, 7, 6] bbC# bc#\n",
      "[1, 7, 7] DbbC# bc#\n",
      "------------------------------------------------------------\n",
      "[0, 3, 3] AB# bc#\n",
      "[1, 7, 6] bbC# bc#\n",
      "[1, 7, 7] DbbC# bc#\n",
      "[0, 3, 2, 4] bc# bc#\n",
      "[0, 3, 2, 5] bBc# bc#\n",
      "------------------------------------------------------------\n",
      "[1, 7, 6] bbC# bc#\n",
      "[1, 7, 7] DbbC# bc#\n",
      "[0, 3, 2, 4] bc# bc#\n",
      "[0, 3, 2, 5] bBc# bc#\n",
      "[0, 3, 3, 2] aB# bc#\n",
      "[0, 3, 3, 3] aAB# bc#\n",
      "------------------------------------------------------------\n",
      "[1, 7, 7] DbbC# bc#\n",
      "[0, 3, 2, 4] bc# bc#\n",
      "[0, 3, 2, 5] bBc# bc#\n",
      "[0, 3, 3, 2] aB# bc#\n",
      "[0, 3, 3, 3] aAB# bc#\n",
      "[1, 7, 6] bC# c#\n",
      "------------------------------------------------------------\n",
      "[0, 3, 2, 4] bc# bc#\n",
      "[0, 3, 2, 5] bBc# bc#\n",
      "[0, 3, 3, 2] aB# bc#\n",
      "[0, 3, 3, 3] aAB# bc#\n",
      "[1, 7, 6] bC# c#\n",
      "[1, 7, 7, 6] abbbC# bc#\n",
      "[1, 7, 7, 7] aDbbbC# bc#\n",
      "------------------------------------------------------------\n",
      "[0, 3, 2, 5] bBc# bc#\n",
      "[0, 3, 3, 2] aB# bc#\n",
      "[0, 3, 3, 3] aAB# bc#\n",
      "[1, 7, 6] bC# c#\n",
      "[1, 7, 7, 6] abbbC# bc#\n",
      "[1, 7, 7, 7] aDbbbC# bc#\n",
      "[0, 3, 2, 4] c# c#\n",
      "------------------------------------------------------------\n",
      "[0, 3, 3, 2] aB# bc#\n",
      "[0, 3, 3, 3] aAB# bc#\n",
      "[1, 7, 6] bC# c#\n",
      "[1, 7, 7, 6] abbbC# bc#\n",
      "[1, 7, 7, 7] aDbbbC# bc#\n",
      "[0, 3, 2, 4] c# c#\n",
      "[0, 3, 2, 5] Bc# c#\n",
      "------------------------------------------------------------\n",
      "[0, 3, 3, 3] aAB# bc#\n",
      "[1, 7, 6] bC# c#\n",
      "[1, 7, 7, 6] abbbC# bc#\n",
      "[1, 7, 7, 7] aDbbbC# bc#\n",
      "[0, 3, 2, 4] c# c#\n",
      "[0, 3, 2, 5] Bc# c#\n",
      "------------------------------------------------------------\n",
      "[1, 7, 6] bC# c#\n",
      "[1, 7, 7, 6] abbbC# bc#\n",
      "[1, 7, 7, 7] aDbbbC# bc#\n",
      "[0, 3, 2, 4] c# c#\n",
      "[0, 3, 2, 5] Bc# c#\n",
      "------------------------------------------------------------\n",
      "[1, 7, 7, 6] abbbC# bc#\n",
      "[1, 7, 7, 7] aDbbbC# bc#\n",
      "[0, 3, 2, 4] c# c#\n",
      "[0, 3, 2, 5] Bc# c#\n",
      "------------------------------------------------------------\n",
      "[1, 7, 7, 7] aDbbbC# bc#\n",
      "[0, 3, 2, 4] c# c#\n",
      "[0, 3, 2, 5] Bc# c#\n",
      "------------------------------------------------------------\n",
      "[0, 3, 2, 4] c# c#\n",
      "[0, 3, 2, 5] Bc# c#\n",
      "------------------------------------------------------------\n",
      "[0, 3, 2, 5] Bc# c#\n",
      "[0, 3, 2, 4] # #\n",
      "------------------------------------------------------------\n",
      "[0, 3, 2, 4] # #\n",
      "[0, 3, 2, 5, 4] bcc# c#\n",
      "[0, 3, 2, 5, 5] bBcc# c#\n",
      "------------------------------------------------------------\n",
      "[0, 3, 2, 5, 4] bcc# c#\n",
      "[0, 3, 2, 5, 5] bBcc# c#\n",
      "------------------------------------------------------------\n",
      "[0, 3, 2, 5, 5] bBcc# c#\n",
      "------------------------------------------------------------\n"
     ]
    },
    {
     "data": {
      "text/plain": [
       "[S -> A B -> a A B -> a a B -> a a b c]"
      ]
     },
     "execution_count": 25,
     "metadata": {},
     "output_type": "execute_result"
    }
   ],
   "source": [
    "def breadth_first(G, word, show = True, max_steps = -1):\n",
    "    q = Queue()\n",
    "    q.enqueue((Derivation(G), Stack(['#', G.S]), word + '#'))\n",
    "    derivations = []\n",
    "    steps = 0\n",
    "    while q:\n",
    "        if steps > max_steps > -1: break\n",
    "        steps += 1\n",
    "        if show: show_instdescrs(q)\n",
    "        curr = q.dequeue()\n",
    "        for nxt in next_instdescrs(curr): \n",
    "            deriv, stack, rest = nxt\n",
    "            if rest is None:\n",
    "                derivations.append(deriv)\n",
    "            else:\n",
    "                q.enqueue(nxt)\n",
    "    return derivations\n",
    "\n",
    "breadth_first(G, word, True)"
   ]
  },
  {
   "cell_type": "markdown",
   "metadata": {},
   "source": [
    "### Depth first"
   ]
  },
  {
   "cell_type": "code",
   "execution_count": 27,
   "metadata": {
    "scrolled": false
   },
   "outputs": [
    {
     "name": "stdout",
     "output_type": "stream",
     "text": [
      "[] S# aabc#\n",
      "------------------------------------------------------------\n",
      "[0] AB# aabc#\n",
      "[1] DC# aabc#\n",
      "------------------------------------------------------------\n",
      "[0] AB# aabc#\n",
      "[1, 6] abC# aabc#\n",
      "[1, 7] aDbC# aabc#\n",
      "------------------------------------------------------------\n",
      "[0] AB# aabc#\n",
      "[1, 6] abC# aabc#\n",
      "[1, 7] DbC# abc#\n",
      "------------------------------------------------------------\n",
      "[0] AB# aabc#\n",
      "[1, 6] abC# aabc#\n",
      "[1, 7, 6] abbC# abc#\n",
      "[1, 7, 7] aDbbC# abc#\n",
      "------------------------------------------------------------\n",
      "[0] AB# aabc#\n",
      "[1, 6] abC# aabc#\n",
      "[1, 7, 6] abbC# abc#\n",
      "[1, 7, 7] DbbC# bc#\n",
      "------------------------------------------------------------\n",
      "[0] AB# aabc#\n",
      "[1, 6] abC# aabc#\n",
      "[1, 7, 6] abbC# abc#\n",
      "[1, 7, 7, 6] abbbC# bc#\n",
      "[1, 7, 7, 7] aDbbbC# bc#\n",
      "------------------------------------------------------------\n",
      "[0] AB# aabc#\n",
      "[1, 6] abC# aabc#\n",
      "[1, 7, 6] abbC# abc#\n",
      "[1, 7, 7, 6] abbbC# bc#\n",
      "------------------------------------------------------------\n",
      "[0] AB# aabc#\n",
      "[1, 6] abC# aabc#\n",
      "[1, 7, 6] abbC# abc#\n",
      "------------------------------------------------------------\n",
      "[0] AB# aabc#\n",
      "[1, 6] abC# aabc#\n",
      "[1, 7, 6] bbC# bc#\n",
      "------------------------------------------------------------\n",
      "[0] AB# aabc#\n",
      "[1, 6] abC# aabc#\n",
      "[1, 7, 6] bC# c#\n",
      "------------------------------------------------------------\n",
      "[0] AB# aabc#\n",
      "[1, 6] abC# aabc#\n",
      "------------------------------------------------------------\n",
      "[0] AB# aabc#\n",
      "[1, 6] bC# abc#\n",
      "------------------------------------------------------------\n",
      "[0] AB# aabc#\n",
      "------------------------------------------------------------\n",
      "[0, 2] aB# aabc#\n",
      "[0, 3] aAB# aabc#\n",
      "------------------------------------------------------------\n",
      "[0, 2] aB# aabc#\n",
      "[0, 3] AB# abc#\n",
      "------------------------------------------------------------\n",
      "[0, 2] aB# aabc#\n",
      "[0, 3, 2] aB# abc#\n",
      "[0, 3, 3] aAB# abc#\n",
      "------------------------------------------------------------\n",
      "[0, 2] aB# aabc#\n",
      "[0, 3, 2] aB# abc#\n",
      "[0, 3, 3] AB# bc#\n",
      "------------------------------------------------------------\n",
      "[0, 2] aB# aabc#\n",
      "[0, 3, 2] aB# abc#\n",
      "[0, 3, 3, 2] aB# bc#\n",
      "[0, 3, 3, 3] aAB# bc#\n",
      "------------------------------------------------------------\n",
      "[0, 2] aB# aabc#\n",
      "[0, 3, 2] aB# abc#\n",
      "[0, 3, 3, 2] aB# bc#\n",
      "------------------------------------------------------------\n",
      "[0, 2] aB# aabc#\n",
      "[0, 3, 2] aB# abc#\n",
      "------------------------------------------------------------\n",
      "[0, 2] aB# aabc#\n",
      "[0, 3, 2] B# bc#\n",
      "------------------------------------------------------------\n",
      "[0, 2] aB# aabc#\n",
      "[0, 3, 2, 4] bc# bc#\n",
      "[0, 3, 2, 5] bBc# bc#\n",
      "------------------------------------------------------------\n",
      "[0, 2] aB# aabc#\n",
      "[0, 3, 2, 4] bc# bc#\n",
      "[0, 3, 2, 5] Bc# c#\n",
      "------------------------------------------------------------\n",
      "[0, 2] aB# aabc#\n",
      "[0, 3, 2, 4] bc# bc#\n",
      "[0, 3, 2, 5, 4] bcc# c#\n",
      "[0, 3, 2, 5, 5] bBcc# c#\n",
      "------------------------------------------------------------\n",
      "[0, 2] aB# aabc#\n",
      "[0, 3, 2, 4] bc# bc#\n",
      "[0, 3, 2, 5, 4] bcc# c#\n",
      "------------------------------------------------------------\n",
      "[0, 2] aB# aabc#\n",
      "[0, 3, 2, 4] bc# bc#\n",
      "------------------------------------------------------------\n",
      "[0, 2] aB# aabc#\n",
      "[0, 3, 2, 4] c# c#\n",
      "------------------------------------------------------------\n",
      "[0, 2] aB# aabc#\n",
      "[0, 3, 2, 4] # #\n",
      "------------------------------------------------------------\n",
      "[0, 2] aB# aabc#\n",
      "------------------------------------------------------------\n",
      "[0, 2] B# abc#\n",
      "------------------------------------------------------------\n",
      "[0, 2, 4] bc# abc#\n",
      "[0, 2, 5] bBc# abc#\n",
      "------------------------------------------------------------\n",
      "[0, 2, 4] bc# abc#\n",
      "------------------------------------------------------------\n"
     ]
    },
    {
     "data": {
      "text/plain": [
       "[S -> A B -> a A B -> a a B -> a a b c]"
      ]
     },
     "execution_count": 27,
     "metadata": {},
     "output_type": "execute_result"
    }
   ],
   "source": [
    "def depth_first(G, word, show = True, max_steps = -1):\n",
    "    s = Stack()\n",
    "    s.push((Derivation(G), Stack(['#', G.S]), word + '#'))\n",
    "    derivations = []\n",
    "    steps = 0\n",
    "    while s:\n",
    "        if steps > max_steps > -1: break\n",
    "        steps += 1\n",
    "        if show: show_instdescrs(s)\n",
    "        curr = s.pop()\n",
    "        for nxt in next_instdescrs(curr): \n",
    "            deriv, stack, rest = nxt\n",
    "            if rest is None:\n",
    "                derivations.append(deriv)\n",
    "            else:\n",
    "                s.push(nxt)\n",
    "    return derivations\n",
    "\n",
    "depth_first(G, word, True)"
   ]
  },
  {
   "cell_type": "markdown",
   "metadata": {},
   "source": [
    "## Ricorsione"
   ]
  },
  {
   "cell_type": "code",
   "execution_count": 35,
   "metadata": {},
   "outputs": [],
   "source": [
    "# pag. 173\n",
    "\n",
    "G = Grammar.from_string('S -> a | S b')\n",
    "G\n",
    "\n",
    "word = 'ab'"
   ]
  },
  {
   "cell_type": "code",
   "execution_count": 36,
   "metadata": {
    "scrolled": false
   },
   "outputs": [
    {
     "name": "stdout",
     "output_type": "stream",
     "text": [
      "[] S# ab#\n",
      "------------------------------------------------------------\n",
      "[0] a# ab#\n",
      "[1] Sb# ab#\n",
      "------------------------------------------------------------\n",
      "[0] a# ab#\n",
      "[1, 0] ab# ab#\n",
      "[1, 1] Sbb# ab#\n",
      "------------------------------------------------------------\n",
      "[0] a# ab#\n",
      "[1, 0] ab# ab#\n",
      "[1, 1, 0] abb# ab#\n",
      "[1, 1, 1] Sbbb# ab#\n",
      "------------------------------------------------------------\n",
      "[0] a# ab#\n",
      "[1, 0] ab# ab#\n",
      "[1, 1, 0] abb# ab#\n",
      "[1, 1, 1, 0] abbb# ab#\n",
      "[1, 1, 1, 1] Sbbbb# ab#\n",
      "------------------------------------------------------------\n",
      "[0] a# ab#\n",
      "[1, 0] ab# ab#\n",
      "[1, 1, 0] abb# ab#\n",
      "[1, 1, 1, 0] abbb# ab#\n",
      "[1, 1, 1, 1, 0] abbbb# ab#\n",
      "[1, 1, 1, 1, 1] Sbbbbb# ab#\n",
      "------------------------------------------------------------\n",
      "[0] a# ab#\n",
      "[1, 0] ab# ab#\n",
      "[1, 1, 0] abb# ab#\n",
      "[1, 1, 1, 0] abbb# ab#\n",
      "[1, 1, 1, 1, 0] abbbb# ab#\n",
      "[1, 1, 1, 1, 1, 0] abbbbb# ab#\n",
      "[1, 1, 1, 1, 1, 1] Sbbbbbb# ab#\n",
      "------------------------------------------------------------\n",
      "[0] a# ab#\n",
      "[1, 0] ab# ab#\n",
      "[1, 1, 0] abb# ab#\n",
      "[1, 1, 1, 0] abbb# ab#\n",
      "[1, 1, 1, 1, 0] abbbb# ab#\n",
      "[1, 1, 1, 1, 1, 0] abbbbb# ab#\n",
      "[1, 1, 1, 1, 1, 1, 0] abbbbbb# ab#\n",
      "[1, 1, 1, 1, 1, 1, 1] Sbbbbbbb# ab#\n",
      "------------------------------------------------------------\n",
      "[0] a# ab#\n",
      "[1, 0] ab# ab#\n",
      "[1, 1, 0] abb# ab#\n",
      "[1, 1, 1, 0] abbb# ab#\n",
      "[1, 1, 1, 1, 0] abbbb# ab#\n",
      "[1, 1, 1, 1, 1, 0] abbbbb# ab#\n",
      "[1, 1, 1, 1, 1, 1, 0] abbbbbb# ab#\n",
      "[1, 1, 1, 1, 1, 1, 1, 0] abbbbbbb# ab#\n",
      "[1, 1, 1, 1, 1, 1, 1, 1] Sbbbbbbbb# ab#\n",
      "------------------------------------------------------------\n",
      "[0] a# ab#\n",
      "[1, 0] ab# ab#\n",
      "[1, 1, 0] abb# ab#\n",
      "[1, 1, 1, 0] abbb# ab#\n",
      "[1, 1, 1, 1, 0] abbbb# ab#\n",
      "[1, 1, 1, 1, 1, 0] abbbbb# ab#\n",
      "[1, 1, 1, 1, 1, 1, 0] abbbbbb# ab#\n",
      "[1, 1, 1, 1, 1, 1, 1, 0] abbbbbbb# ab#\n",
      "[1, 1, 1, 1, 1, 1, 1, 1, 0] abbbbbbbb# ab#\n",
      "[1, 1, 1, 1, 1, 1, 1, 1, 1] Sbbbbbbbbb# ab#\n",
      "------------------------------------------------------------\n",
      "[0] a# ab#\n",
      "[1, 0] ab# ab#\n",
      "[1, 1, 0] abb# ab#\n",
      "[1, 1, 1, 0] abbb# ab#\n",
      "[1, 1, 1, 1, 0] abbbb# ab#\n",
      "[1, 1, 1, 1, 1, 0] abbbbb# ab#\n",
      "[1, 1, 1, 1, 1, 1, 0] abbbbbb# ab#\n",
      "[1, 1, 1, 1, 1, 1, 1, 0] abbbbbbb# ab#\n",
      "[1, 1, 1, 1, 1, 1, 1, 1, 0] abbbbbbbb# ab#\n",
      "[1, 1, 1, 1, 1, 1, 1, 1, 1, 0] abbbbbbbbb# ab#\n",
      "[1, 1, 1, 1, 1, 1, 1, 1, 1, 1] Sbbbbbbbbbb# ab#\n",
      "------------------------------------------------------------\n"
     ]
    },
    {
     "data": {
      "text/plain": [
       "[]"
      ]
     },
     "execution_count": 36,
     "metadata": {},
     "output_type": "execute_result"
    }
   ],
   "source": [
    "depth_first(G, word, True, 10)"
   ]
  },
  {
   "cell_type": "markdown",
   "metadata": {},
   "source": [
    "### Un \"truccaccio\""
   ]
  },
  {
   "cell_type": "code",
   "execution_count": 39,
   "metadata": {},
   "outputs": [
    {
     "data": {
      "text/plain": [
       "[S -> S b -> a b]"
      ]
     },
     "execution_count": 39,
     "metadata": {},
     "output_type": "execute_result"
    }
   ],
   "source": [
    "def depth_first_trick(G, word, show = True):\n",
    "    s = Stack()\n",
    "    s.push((Derivation(G), Stack(['#', G.S]), word + '#'))\n",
    "    derivations = []\n",
    "    while s:\n",
    "        if show: show_instdescrs(s)\n",
    "        curr = s.pop()\n",
    "        for nxt in next_instdescrs(curr): \n",
    "            deriv, stack, rest = nxt\n",
    "            if rest is None:\n",
    "                derivations.append(deriv)\n",
    "            else:\n",
    "                if len(stack) > len(rest): continue\n",
    "                s.push(nxt)\n",
    "    return derivations\n",
    "\n",
    "depth_first_trick(G, word, False)"
   ]
  },
  {
   "cell_type": "markdown",
   "metadata": {},
   "source": [
    "# Homework\n",
    "\n",
    "* verificare che `depth_first`, `breadth_first` e `depth_first_trick` \"funzionino\" anche in presenza di ε-regole,\n",
    "  \"aggiustando\" le tre funzioni se necessario,\n"
   ]
  }
 ],
 "metadata": {
  "kernelspec": {
   "display_name": "Python 3",
   "language": "python",
   "name": "python3"
  },
  "language_info": {
   "codemirror_mode": {
    "name": "ipython",
    "version": 3
   },
   "file_extension": ".py",
   "mimetype": "text/x-python",
   "name": "python",
   "nbconvert_exporter": "python",
   "pygments_lexer": "ipython3",
   "version": "3.7.2"
  },
  "widgets": {
   "application/vnd.jupyter.widget-state+json": {
    "state": {
     "00639bf26fa54e068990aac7c3bb7b14": {
      "model_module": "@jupyter-widgets/output",
      "model_module_version": "1.0.0",
      "model_name": "OutputModel",
      "state": {
       "layout": "IPY_MODEL_3b3b033fe810451aa88a8d158ccb7272",
       "outputs": [
        {
         "data": {
          "image/svg+xml": "<?xml version=\"1.0\" encoding=\"UTF-8\" standalone=\"no\"?>\n<!DOCTYPE svg PUBLIC \"-//W3C//DTD SVG 1.1//EN\"\n \"http://www.w3.org/Graphics/SVG/1.1/DTD/svg11.dtd\">\n<!-- Generated by graphviz version 2.40.1 (20161225.0304)\n -->\n<!-- Title: %3 Pages: 1 -->\n<svg width=\"136pt\" height=\"30pt\"\n viewBox=\"0.00 0.00 135.65 30.00\" xmlns=\"http://www.w3.org/2000/svg\" xmlns:xlink=\"http://www.w3.org/1999/xlink\">\n<g id=\"graph0\" class=\"graph\" transform=\"scale(1 1) rotate(0) translate(4 26)\">\n<title>%3</title>\n<polygon fill=\"#ffffff\" stroke=\"transparent\" points=\"-4,4 -4,-26 131.6519,-26 131.6519,4 -4,4\"/>\n<!-- 159010387836870111 -->\n<!-- &#45;165964585024879612 -->\n<g id=\"node2\" class=\"node\">\n<title>&#45;165964585024879612</title>\n<path fill=\"none\" stroke=\"#000000\" stroke-width=\".25\" d=\"M122.3546,-22C122.3546,-22 117.1629,-22 117.1629,-22 114.5671,-22 111.9712,-19.4041 111.9712,-16.8083 111.9712,-16.8083 111.9712,-5.1917 111.9712,-5.1917 111.9712,-2.5959 114.5671,0 117.1629,0 117.1629,0 122.3546,0 122.3546,0 124.9505,0 127.5464,-2.5959 127.5464,-5.1917 127.5464,-5.1917 127.5464,-16.8083 127.5464,-16.8083 127.5464,-19.4041 124.9505,-22 122.3546,-22\"/>\n<text text-anchor=\"middle\" x=\"119.7588\" y=\"-6.8\" font-family=\"Times,serif\" font-size=\"14.00\" fill=\"#000000\">S</text>\n</g>\n</g>\n</svg>\n",
          "text/plain": "ProductionGraph(S)"
         },
         "metadata": {},
         "output_type": "display_data"
        }
       ]
      }
     },
     "0342e52987d440ce81a98a6954e0a819": {
      "model_module": "@jupyter-widgets/output",
      "model_module_version": "1.0.0",
      "model_name": "OutputModel",
      "state": {
       "layout": "IPY_MODEL_8dfd73d4556c410695275b1ba24a63c9",
       "outputs": [
        {
         "data": {
          "image/svg+xml": "<?xml version=\"1.0\" encoding=\"UTF-8\" standalone=\"no\"?>\n<!DOCTYPE svg PUBLIC \"-//W3C//DTD SVG 1.1//EN\"\n \"http://www.w3.org/Graphics/SVG/1.1/DTD/svg11.dtd\">\n<!-- Generated by graphviz version 2.40.1 (20161225.0304)\n -->\n<!-- Title: %3 Pages: 1 -->\n<svg width=\"136pt\" height=\"30pt\"\n viewBox=\"0.00 0.00 135.65 30.00\" xmlns=\"http://www.w3.org/2000/svg\" xmlns:xlink=\"http://www.w3.org/1999/xlink\">\n<g id=\"graph0\" class=\"graph\" transform=\"scale(1 1) rotate(0) translate(4 26)\">\n<title>%3</title>\n<polygon fill=\"#ffffff\" stroke=\"transparent\" points=\"-4,4 -4,-26 131.6519,-26 131.6519,4 -4,4\"/>\n<!-- 159010387836870111 -->\n<!-- &#45;165964585024879612 -->\n<g id=\"node2\" class=\"node\">\n<title>&#45;165964585024879612</title>\n<path fill=\"none\" stroke=\"#000000\" stroke-width=\".25\" d=\"M122.3546,-22C122.3546,-22 117.1629,-22 117.1629,-22 114.5671,-22 111.9712,-19.4041 111.9712,-16.8083 111.9712,-16.8083 111.9712,-5.1917 111.9712,-5.1917 111.9712,-2.5959 114.5671,0 117.1629,0 117.1629,0 122.3546,0 122.3546,0 124.9505,0 127.5464,-2.5959 127.5464,-5.1917 127.5464,-5.1917 127.5464,-16.8083 127.5464,-16.8083 127.5464,-19.4041 124.9505,-22 122.3546,-22\"/>\n<text text-anchor=\"middle\" x=\"119.7588\" y=\"-6.8\" font-family=\"Times,serif\" font-size=\"14.00\" fill=\"#000000\">S</text>\n</g>\n</g>\n</svg>\n",
          "text/plain": "ProductionGraph(S)"
         },
         "metadata": {},
         "output_type": "display_data"
        }
       ]
      }
     },
     "03c77bdf8a5f4d63b156c9a8cc5cf2e6": {
      "model_module": "@jupyter-widgets/controls",
      "model_module_version": "1.4.0",
      "model_name": "VBoxModel",
      "state": {
       "_dom_classes": [
        "widget-interact"
       ],
       "children": [
        "IPY_MODEL_708b846a8d194952aa2d8ea6d6795e46",
        "IPY_MODEL_2c1e080ee92c4d85b00c365ac375df71"
       ],
       "layout": "IPY_MODEL_d407994b15b54214a0f747b84ff89eb8"
      }
     },
     "07b3c1779d6d4010a6b7474fadd7e55a": {
      "model_module": "@jupyter-widgets/output",
      "model_module_version": "1.0.0",
      "model_name": "OutputModel",
      "state": {
       "layout": "IPY_MODEL_f097bbcb7afc4c6ea601e987b721e3a5",
       "outputs": [
        {
         "data": {
          "image/svg+xml": "<?xml version=\"1.0\" encoding=\"UTF-8\" standalone=\"no\"?>\n<!DOCTYPE svg PUBLIC \"-//W3C//DTD SVG 1.1//EN\"\n \"http://www.w3.org/Graphics/SVG/1.1/DTD/svg11.dtd\">\n<!-- Generated by graphviz version 2.40.1 (20161225.0304)\n -->\n<!-- Title: %3 Pages: 1 -->\n<svg width=\"212pt\" height=\"190pt\"\n viewBox=\"0.00 0.00 212.43 190.00\" xmlns=\"http://www.w3.org/2000/svg\" xmlns:xlink=\"http://www.w3.org/1999/xlink\">\n<g id=\"graph0\" class=\"graph\" transform=\"scale(1 1) rotate(0) translate(4 186)\">\n<title>%3</title>\n<polygon fill=\"#ffffff\" stroke=\"transparent\" points=\"-4,4 -4,-186 208.4277,-186 208.4277,4 -4,4\"/>\n<!-- 159010387836870111 -->\n<!-- 5195132778685451042 -->\n<!-- 159010387836870111&#45;&gt;5195132778685451042 -->\n<!-- &#45;165964585024879612 -->\n<g id=\"node2\" class=\"node\">\n<title>&#45;165964585024879612</title>\n<path fill=\"none\" stroke=\"#000000\" stroke-width=\".25\" d=\"M138.3546,-182C138.3546,-182 133.1629,-182 133.1629,-182 130.5671,-182 127.9712,-179.4041 127.9712,-176.8083 127.9712,-176.8083 127.9712,-165.1917 127.9712,-165.1917 127.9712,-162.5959 130.5671,-160 133.1629,-160 133.1629,-160 138.3546,-160 138.3546,-160 140.9505,-160 143.5464,-162.5959 143.5464,-165.1917 143.5464,-165.1917 143.5464,-176.8083 143.5464,-176.8083 143.5464,-179.4041 140.9505,-182 138.3546,-182\"/>\n<text text-anchor=\"middle\" x=\"135.7588\" y=\"-166.8\" font-family=\"Times,serif\" font-size=\"14.00\" fill=\"#000000\">S</text>\n</g>\n<!-- 1267129484120220820 -->\n<g id=\"node4\" class=\"node\">\n<title>1267129484120220820</title>\n<path fill=\"none\" stroke=\"#000000\" stroke-width=\"1.25\" d=\"M129.164,-142C129.164,-142 124.3536,-142 124.3536,-142 121.9485,-142 119.5433,-139.5948 119.5433,-137.1897 119.5433,-137.1897 119.5433,-124.8103 119.5433,-124.8103 119.5433,-122.4052 121.9485,-120 124.3536,-120 124.3536,-120 129.164,-120 129.164,-120 131.5691,-120 133.9743,-122.4052 133.9743,-124.8103 133.9743,-124.8103 133.9743,-137.1897 133.9743,-137.1897 133.9743,-139.5948 131.5691,-142 129.164,-142\"/>\n<text text-anchor=\"middle\" x=\"126.7588\" y=\"-126.8\" font-family=\"Times,serif\" font-size=\"14.00\" fill=\"#000000\">a</text>\n</g>\n<!-- &#45;165964585024879612&#45;&gt;1267129484120220820 -->\n<g id=\"edge2\" class=\"edge\">\n<title>&#45;165964585024879612&#45;&gt;1267129484120220820</title>\n<path fill=\"none\" stroke=\"#000000\" stroke-width=\".5\" d=\"M133.2038,-159.6446C131.9774,-154.1937 130.5122,-147.6819 129.289,-142.2453\"/>\n</g>\n<!-- &#45;5584377703474714926 -->\n<g id=\"node5\" class=\"node\">\n<title>&#45;5584377703474714926</title>\n<path fill=\"none\" stroke=\"#000000\" stroke-width=\".25\" d=\"M163.7059,-142C163.7059,-142 157.8117,-142 157.8117,-142 154.8646,-142 151.9175,-139.0529 151.9175,-136.1058 151.9175,-136.1058 151.9175,-125.8942 151.9175,-125.8942 151.9175,-122.9471 154.8646,-120 157.8117,-120 157.8117,-120 163.7059,-120 163.7059,-120 166.653,-120 169.6,-122.9471 169.6,-125.8942 169.6,-125.8942 169.6,-136.1058 169.6,-136.1058 169.6,-139.0529 166.653,-142 163.7059,-142\"/>\n<text text-anchor=\"middle\" x=\"160.7588\" y=\"-126.8\" font-family=\"Times,serif\" font-size=\"14.00\" fill=\"#000000\">B</text>\n</g>\n<!-- &#45;165964585024879612&#45;&gt;&#45;5584377703474714926 -->\n<g id=\"edge3\" class=\"edge\">\n<title>&#45;165964585024879612&#45;&gt;&#45;5584377703474714926</title>\n<path fill=\"none\" stroke=\"#000000\" stroke-width=\".5\" d=\"M142.8559,-159.6446C146.2627,-154.1937 150.3326,-147.6819 153.7304,-142.2453\"/>\n</g>\n<!-- 7375763802035387729 -->\n<!-- 5195132778685451042&#45;&gt;7375763802035387729 -->\n<!-- 1267129484120220820&#45;&gt;&#45;5584377703474714926 -->\n<!-- 1267125700529224351 -->\n<g id=\"node7\" class=\"node\">\n<title>1267125700529224351</title>\n<path fill=\"none\" stroke=\"#000000\" stroke-width=\"1.25\" d=\"M129.164,-102C129.164,-102 124.3536,-102 124.3536,-102 121.9485,-102 119.5433,-99.5948 119.5433,-97.1897 119.5433,-97.1897 119.5433,-84.8103 119.5433,-84.8103 119.5433,-82.4052 121.9485,-80 124.3536,-80 124.3536,-80 129.164,-80 129.164,-80 131.5691,-80 133.9743,-82.4052 133.9743,-84.8103 133.9743,-84.8103 133.9743,-97.1897 133.9743,-97.1897 133.9743,-99.5948 131.5691,-102 129.164,-102\"/>\n<text text-anchor=\"middle\" x=\"126.7588\" y=\"-86.8\" font-family=\"Times,serif\" font-size=\"14.00\" fill=\"#000000\">a</text>\n</g>\n<!-- &#45;5584377703474714926&#45;&gt;1267125700529224351 -->\n<g id=\"edge6\" class=\"edge\">\n<title>&#45;5584377703474714926&#45;&gt;1267125700529224351</title>\n<path fill=\"none\" stroke=\"#000000\" stroke-width=\".5\" d=\"M151.8257,-120.4905C146.238,-113.9167 139.1366,-105.5621 133.92,-99.4249\"/>\n</g>\n<!-- &#45;5584378964674043847 -->\n<g id=\"node8\" class=\"node\">\n<title>&#45;5584378964674043847</title>\n<path fill=\"none\" stroke=\"#000000\" stroke-width=\".25\" d=\"M163.7059,-102C163.7059,-102 157.8117,-102 157.8117,-102 154.8646,-102 151.9175,-99.0529 151.9175,-96.1058 151.9175,-96.1058 151.9175,-85.8942 151.9175,-85.8942 151.9175,-82.9471 154.8646,-80 157.8117,-80 157.8117,-80 163.7059,-80 163.7059,-80 166.653,-80 169.6,-82.9471 169.6,-85.8942 169.6,-85.8942 169.6,-96.1058 169.6,-96.1058 169.6,-99.0529 166.653,-102 163.7059,-102\"/>\n<text text-anchor=\"middle\" x=\"160.7588\" y=\"-86.8\" font-family=\"Times,serif\" font-size=\"14.00\" fill=\"#000000\">B</text>\n</g>\n<!-- &#45;5584377703474714926&#45;&gt;&#45;5584378964674043847 -->\n<g id=\"edge7\" class=\"edge\">\n<title>&#45;5584377703474714926&#45;&gt;&#45;5584378964674043847</title>\n<path fill=\"none\" stroke=\"#000000\" stroke-width=\".5\" d=\"M160.7588,-119.6446C160.7588,-114.1937 160.7588,-107.6819 160.7588,-102.2453\"/>\n</g>\n<!-- &#45;5584378964675208896 -->\n<g id=\"node9\" class=\"node\">\n<title>&#45;5584378964675208896</title>\n<path fill=\"none\" stroke=\"#000000\" stroke-width=\".25\" d=\"M198.7059,-102C198.7059,-102 192.8117,-102 192.8117,-102 189.8646,-102 186.9175,-99.0529 186.9175,-96.1058 186.9175,-96.1058 186.9175,-85.8942 186.9175,-85.8942 186.9175,-82.9471 189.8646,-80 192.8117,-80 192.8117,-80 198.7059,-80 198.7059,-80 201.653,-80 204.6,-82.9471 204.6,-85.8942 204.6,-85.8942 204.6,-96.1058 204.6,-96.1058 204.6,-99.0529 201.653,-102 198.7059,-102\"/>\n<text text-anchor=\"middle\" x=\"195.7588\" y=\"-86.8\" font-family=\"Times,serif\" font-size=\"14.00\" fill=\"#000000\">B</text>\n</g>\n<!-- &#45;5584377703474714926&#45;&gt;&#45;5584378964675208896 -->\n<g id=\"edge8\" class=\"edge\">\n<title>&#45;5584377703474714926&#45;&gt;&#45;5584378964675208896</title>\n<path fill=\"none\" stroke=\"#000000\" stroke-width=\".5\" d=\"M169.5908,-120.9063C174.937,-114.7963 181.7272,-107.0361 187.0509,-100.9519\"/>\n</g>\n<!-- 4516598912477764867 -->\n<!-- 7375763802035387729&#45;&gt;4516598912477764867 -->\n<!-- 1267125700529224351&#45;&gt;&#45;5584378964674043847 -->\n<!-- &#45;5584378964674043847&#45;&gt;&#45;5584378964675208896 -->\n<!-- 5054388597697037728 -->\n<g id=\"node11\" class=\"node\">\n<title>5054388597697037728</title>\n<path fill=\"none\" stroke=\"#000000\" stroke-width=\"1.25\" d=\"M162.2588,-62C162.2588,-62 157.2588,-62 157.2588,-62 154.7588,-62 152.2588,-59.5 152.2588,-57 152.2588,-57 152.2588,-45 152.2588,-45 152.2588,-42.5 154.7588,-40 157.2588,-40 157.2588,-40 162.2588,-40 162.2588,-40 164.7588,-40 167.2588,-42.5 167.2588,-45 167.2588,-45 167.2588,-57 167.2588,-57 167.2588,-59.5 164.7588,-62 162.2588,-62\"/>\n<text text-anchor=\"middle\" x=\"159.7588\" y=\"-46.8\" font-family=\"Times,serif\" font-size=\"14.00\" fill=\"#000000\">b</text>\n</g>\n<!-- &#45;5584378964674043847&#45;&gt;5054388597697037728 -->\n<g id=\"edge12\" class=\"edge\">\n<title>&#45;5584378964674043847&#45;&gt;5054388597697037728</title>\n<path fill=\"none\" stroke=\"#000000\" stroke-width=\".5\" d=\"M160.4749,-79.6446C160.3386,-74.1937 160.1758,-67.6819 160.0399,-62.2453\"/>\n</g>\n<!-- 5054389858894036551 -->\n<g id=\"node13\" class=\"node\">\n<title>5054389858894036551</title>\n<path fill=\"none\" stroke=\"#000000\" stroke-width=\"1.25\" d=\"M198.2588,-22C198.2588,-22 193.2588,-22 193.2588,-22 190.7588,-22 188.2588,-19.5 188.2588,-17 188.2588,-17 188.2588,-5 188.2588,-5 188.2588,-2.5 190.7588,0 193.2588,0 193.2588,0 198.2588,0 198.2588,0 200.7588,0 203.2588,-2.5 203.2588,-5 203.2588,-5 203.2588,-17 203.2588,-17 203.2588,-19.5 200.7588,-22 198.2588,-22\"/>\n<text text-anchor=\"middle\" x=\"195.7588\" y=\"-6.8\" font-family=\"Times,serif\" font-size=\"14.00\" fill=\"#000000\">b</text>\n</g>\n<!-- &#45;5584378964675208896&#45;&gt;5054389858894036551 -->\n<g id=\"edge14\" class=\"edge\">\n<title>&#45;5584378964675208896&#45;&gt;5054389858894036551</title>\n<path fill=\"none\" stroke=\"#000000\" stroke-width=\".5\" d=\"M195.7588,-79.8763C195.7588,-64.5921 195.7588,-37.2636 195.7588,-22.0292\"/>\n</g>\n<!-- 9192735541004390962 -->\n<!-- 4516598912477764867&#45;&gt;9192735541004390962 -->\n</g>\n</svg>\n",
          "text/plain": "ProductionGraph(S -> a B -> a a B B -> a a b B -> a a b b)"
         },
         "metadata": {},
         "output_type": "display_data"
        }
       ]
      }
     },
     "087548580e88430294bb70d8a03aff26": {
      "model_module": "@jupyter-widgets/controls",
      "model_module_version": "1.4.0",
      "model_name": "SliderStyleModel",
      "state": {
       "description_width": ""
      }
     },
     "09a7a96c6de942cabaa200a599382511": {
      "model_module": "@jupyter-widgets/controls",
      "model_module_version": "1.4.0",
      "model_name": "IntSliderModel",
      "state": {
       "description": "n",
       "layout": "IPY_MODEL_efe144c82f2b4662bcfd5ccd8607f0d8",
       "max": 4,
       "style": "IPY_MODEL_598359293a994b689fba25ebdfa93d16"
      }
     },
     "0b22702315ae4c118381bc7bfe314f51": {
      "model_module": "@jupyter-widgets/output",
      "model_module_version": "1.0.0",
      "model_name": "OutputModel",
      "state": {
       "layout": "IPY_MODEL_c3805a10197a4e71b29bf7e3deb0547c",
       "outputs": [
        {
         "data": {
          "image/svg+xml": "<?xml version=\"1.0\" encoding=\"UTF-8\" standalone=\"no\"?>\n<!DOCTYPE svg PUBLIC \"-//W3C//DTD SVG 1.1//EN\"\n \"http://www.w3.org/Graphics/SVG/1.1/DTD/svg11.dtd\">\n<!-- Generated by graphviz version 2.40.1 (20161225.0304)\n -->\n<!-- Title: %3 Pages: 1 -->\n<svg width=\"136pt\" height=\"30pt\"\n viewBox=\"0.00 0.00 135.65 30.00\" xmlns=\"http://www.w3.org/2000/svg\" xmlns:xlink=\"http://www.w3.org/1999/xlink\">\n<g id=\"graph0\" class=\"graph\" transform=\"scale(1 1) rotate(0) translate(4 26)\">\n<title>%3</title>\n<polygon fill=\"#ffffff\" stroke=\"transparent\" points=\"-4,4 -4,-26 131.6519,-26 131.6519,4 -4,4\"/>\n<!-- 159010387836870111 -->\n<!-- &#45;165964585024879612 -->\n<g id=\"node2\" class=\"node\">\n<title>&#45;165964585024879612</title>\n<path fill=\"none\" stroke=\"#000000\" stroke-width=\".25\" d=\"M122.3546,-22C122.3546,-22 117.1629,-22 117.1629,-22 114.5671,-22 111.9712,-19.4041 111.9712,-16.8083 111.9712,-16.8083 111.9712,-5.1917 111.9712,-5.1917 111.9712,-2.5959 114.5671,0 117.1629,0 117.1629,0 122.3546,0 122.3546,0 124.9505,0 127.5464,-2.5959 127.5464,-5.1917 127.5464,-5.1917 127.5464,-16.8083 127.5464,-16.8083 127.5464,-19.4041 124.9505,-22 122.3546,-22\"/>\n<text text-anchor=\"middle\" x=\"119.7588\" y=\"-6.8\" font-family=\"Times,serif\" font-size=\"14.00\" fill=\"#000000\">S</text>\n</g>\n</g>\n</svg>\n",
          "text/plain": "ProductionGraph(S)"
         },
         "metadata": {},
         "output_type": "display_data"
        }
       ]
      }
     },
     "0bd85bf3ef894501b71e4d62744646d5": {
      "model_module": "@jupyter-widgets/base",
      "model_module_version": "1.1.0",
      "model_name": "LayoutModel",
      "state": {
       "height": "200px"
      }
     },
     "0df60aa763e242c0b72096a35c413adf": {
      "model_module": "@jupyter-widgets/output",
      "model_module_version": "1.0.0",
      "model_name": "OutputModel",
      "state": {
       "layout": "IPY_MODEL_4beba504056c4214bd66db48455ef0db",
       "outputs": [
        {
         "data": {
          "image/svg+xml": "<?xml version=\"1.0\" encoding=\"UTF-8\" standalone=\"no\"?>\n<!DOCTYPE svg PUBLIC \"-//W3C//DTD SVG 1.1//EN\"\n \"http://www.w3.org/Graphics/SVG/1.1/DTD/svg11.dtd\">\n<!-- Generated by graphviz version 2.40.1 (20161225.0304)\n -->\n<!-- Title: %3 Pages: 1 -->\n<svg width=\"136pt\" height=\"30pt\"\n viewBox=\"0.00 0.00 135.65 30.00\" xmlns=\"http://www.w3.org/2000/svg\" xmlns:xlink=\"http://www.w3.org/1999/xlink\">\n<g id=\"graph0\" class=\"graph\" transform=\"scale(1 1) rotate(0) translate(4 26)\">\n<title>%3</title>\n<polygon fill=\"#ffffff\" stroke=\"transparent\" points=\"-4,4 -4,-26 131.6519,-26 131.6519,4 -4,4\"/>\n<!-- 159010387836870111 -->\n<!-- &#45;165964585024879612 -->\n<g id=\"node2\" class=\"node\">\n<title>&#45;165964585024879612</title>\n<path fill=\"none\" stroke=\"#000000\" stroke-width=\".25\" d=\"M122.3546,-22C122.3546,-22 117.1629,-22 117.1629,-22 114.5671,-22 111.9712,-19.4041 111.9712,-16.8083 111.9712,-16.8083 111.9712,-5.1917 111.9712,-5.1917 111.9712,-2.5959 114.5671,0 117.1629,0 117.1629,0 122.3546,0 122.3546,0 124.9505,0 127.5464,-2.5959 127.5464,-5.1917 127.5464,-5.1917 127.5464,-16.8083 127.5464,-16.8083 127.5464,-19.4041 124.9505,-22 122.3546,-22\"/>\n<text text-anchor=\"middle\" x=\"119.7588\" y=\"-6.8\" font-family=\"Times,serif\" font-size=\"14.00\" fill=\"#000000\">S</text>\n</g>\n</g>\n</svg>\n",
          "text/plain": "ProductionGraph(S)"
         },
         "metadata": {},
         "output_type": "display_data"
        }
       ]
      }
     },
     "12c878a267324b9cad134e249ae34413": {
      "model_module": "@jupyter-widgets/output",
      "model_module_version": "1.0.0",
      "model_name": "OutputModel",
      "state": {
       "layout": "IPY_MODEL_425d7ea0b123420998a31e8fc1ad4ee1",
       "outputs": [
        {
         "data": {
          "image/svg+xml": "<?xml version=\"1.0\" encoding=\"UTF-8\" standalone=\"no\"?>\n<!DOCTYPE svg PUBLIC \"-//W3C//DTD SVG 1.1//EN\"\n \"http://www.w3.org/Graphics/SVG/1.1/DTD/svg11.dtd\">\n<!-- Generated by graphviz version 2.40.1 (20161225.0304)\n -->\n<!-- Title: %3 Pages: 1 -->\n<svg width=\"205pt\" height=\"190pt\"\n viewBox=\"0.00 0.00 204.87 190.00\" xmlns=\"http://www.w3.org/2000/svg\" xmlns:xlink=\"http://www.w3.org/1999/xlink\">\n<g id=\"graph0\" class=\"graph\" transform=\"scale(1 1) rotate(0) translate(4 186)\">\n<title>%3</title>\n<polygon fill=\"#ffffff\" stroke=\"transparent\" points=\"-4,4 -4,-186 200.8657,-186 200.8657,4 -4,4\"/>\n<!-- 159010387836870111 -->\n<!-- 5195132778685451042 -->\n<!-- 159010387836870111&#45;&gt;5195132778685451042 -->\n<!-- &#45;165964585024879612 -->\n<g id=\"node2\" class=\"node\">\n<title>&#45;165964585024879612</title>\n<path fill=\"none\" stroke=\"#000000\" stroke-width=\".25\" d=\"M155.3546,-182C155.3546,-182 150.1629,-182 150.1629,-182 147.5671,-182 144.9712,-179.4041 144.9712,-176.8083 144.9712,-176.8083 144.9712,-165.1917 144.9712,-165.1917 144.9712,-162.5959 147.5671,-160 150.1629,-160 150.1629,-160 155.3546,-160 155.3546,-160 157.9505,-160 160.5464,-162.5959 160.5464,-165.1917 160.5464,-165.1917 160.5464,-176.8083 160.5464,-176.8083 160.5464,-179.4041 157.9505,-182 155.3546,-182\"/>\n<text text-anchor=\"middle\" x=\"152.7588\" y=\"-166.8\" font-family=\"Times,serif\" font-size=\"14.00\" fill=\"#000000\">S</text>\n</g>\n<!-- 1267129484120220820 -->\n<g id=\"node4\" class=\"node\">\n<title>1267129484120220820</title>\n<path fill=\"none\" stroke=\"#000000\" stroke-width=\"1.25\" d=\"M121.164,-142C121.164,-142 116.3536,-142 116.3536,-142 113.9485,-142 111.5433,-139.5948 111.5433,-137.1897 111.5433,-137.1897 111.5433,-124.8103 111.5433,-124.8103 111.5433,-122.4052 113.9485,-120 116.3536,-120 116.3536,-120 121.164,-120 121.164,-120 123.5691,-120 125.9743,-122.4052 125.9743,-124.8103 125.9743,-124.8103 125.9743,-137.1897 125.9743,-137.1897 125.9743,-139.5948 123.5691,-142 121.164,-142\"/>\n<text text-anchor=\"middle\" x=\"118.7588\" y=\"-126.8\" font-family=\"Times,serif\" font-size=\"14.00\" fill=\"#000000\">a</text>\n</g>\n<!-- &#45;165964585024879612&#45;&gt;1267129484120220820 -->\n<g id=\"edge2\" class=\"edge\">\n<title>&#45;165964585024879612&#45;&gt;1267129484120220820</title>\n<path fill=\"none\" stroke=\"#000000\" stroke-width=\".5\" d=\"M144.873,-161.7227C139.1449,-154.9836 131.4566,-145.9386 125.907,-139.4097\"/>\n</g>\n<!-- &#45;5584377703474714926 -->\n<g id=\"node5\" class=\"node\">\n<title>&#45;5584377703474714926</title>\n<path fill=\"none\" stroke=\"#000000\" stroke-width=\".25\" d=\"M155.7059,-142C155.7059,-142 149.8117,-142 149.8117,-142 146.8646,-142 143.9175,-139.0529 143.9175,-136.1058 143.9175,-136.1058 143.9175,-125.8942 143.9175,-125.8942 143.9175,-122.9471 146.8646,-120 149.8117,-120 149.8117,-120 155.7059,-120 155.7059,-120 158.653,-120 161.6,-122.9471 161.6,-125.8942 161.6,-125.8942 161.6,-136.1058 161.6,-136.1058 161.6,-139.0529 158.653,-142 155.7059,-142\"/>\n<text text-anchor=\"middle\" x=\"152.7588\" y=\"-126.8\" font-family=\"Times,serif\" font-size=\"14.00\" fill=\"#000000\">B</text>\n</g>\n<!-- &#45;165964585024879612&#45;&gt;&#45;5584377703474714926 -->\n<g id=\"edge3\" class=\"edge\">\n<title>&#45;165964585024879612&#45;&gt;&#45;5584377703474714926</title>\n<path fill=\"none\" stroke=\"#000000\" stroke-width=\".5\" d=\"M152.7588,-159.6446C152.7588,-154.1937 152.7588,-147.6819 152.7588,-142.2453\"/>\n</g>\n<!-- 2353492601482548065 -->\n<g id=\"node6\" class=\"node\">\n<title>2353492601482548065</title>\n<path fill=\"none\" stroke=\"#000000\" stroke-width=\".25\" d=\"M190.7059,-142C190.7059,-142 184.8117,-142 184.8117,-142 181.8646,-142 178.9175,-139.0529 178.9175,-136.1058 178.9175,-136.1058 178.9175,-125.8942 178.9175,-125.8942 178.9175,-122.9471 181.8646,-120 184.8117,-120 184.8117,-120 190.7059,-120 190.7059,-120 193.653,-120 196.6,-122.9471 196.6,-125.8942 196.6,-125.8942 196.6,-136.1058 196.6,-136.1058 196.6,-139.0529 193.653,-142 190.7059,-142\"/>\n<text text-anchor=\"middle\" x=\"187.7588\" y=\"-126.8\" font-family=\"Times,serif\" font-size=\"14.00\" fill=\"#000000\">C</text>\n</g>\n<!-- &#45;165964585024879612&#45;&gt;2353492601482548065 -->\n<g id=\"edge4\" class=\"edge\">\n<title>&#45;165964585024879612&#45;&gt;2353492601482548065</title>\n<path fill=\"none\" stroke=\"#000000\" stroke-width=\".5\" d=\"M160.8765,-161.7227C166.2885,-155.5375 173.4002,-147.4098 178.9494,-141.0679\"/>\n</g>\n<!-- 7375763802035387729 -->\n<!-- 5195132778685451042&#45;&gt;7375763802035387729 -->\n<!-- 1267129484120220820&#45;&gt;&#45;5584377703474714926 -->\n<!-- &#45;5584377703474714926&#45;&gt;2353492601482548065 -->\n<!-- 1267125700529224351 -->\n<g id=\"node8\" class=\"node\">\n<title>1267125700529224351</title>\n<path fill=\"none\" stroke=\"#000000\" stroke-width=\"1.25\" d=\"M121.164,-102C121.164,-102 116.3536,-102 116.3536,-102 113.9485,-102 111.5433,-99.5948 111.5433,-97.1897 111.5433,-97.1897 111.5433,-84.8103 111.5433,-84.8103 111.5433,-82.4052 113.9485,-80 116.3536,-80 116.3536,-80 121.164,-80 121.164,-80 123.5691,-80 125.9743,-82.4052 125.9743,-84.8103 125.9743,-84.8103 125.9743,-97.1897 125.9743,-97.1897 125.9743,-99.5948 123.5691,-102 121.164,-102\"/>\n<text text-anchor=\"middle\" x=\"118.7588\" y=\"-86.8\" font-family=\"Times,serif\" font-size=\"14.00\" fill=\"#000000\">a</text>\n</g>\n<!-- &#45;5584377703474714926&#45;&gt;1267125700529224351 -->\n<g id=\"edge8\" class=\"edge\">\n<title>&#45;5584377703474714926&#45;&gt;1267125700529224351</title>\n<path fill=\"none\" stroke=\"#000000\" stroke-width=\".5\" d=\"M143.8257,-120.4905C138.238,-113.9167 131.1366,-105.5621 125.92,-99.4249\"/>\n</g>\n<!-- &#45;5584378964674043847 -->\n<g id=\"node9\" class=\"node\">\n<title>&#45;5584378964674043847</title>\n<path fill=\"none\" stroke=\"#000000\" stroke-width=\".25\" d=\"M155.7059,-102C155.7059,-102 149.8117,-102 149.8117,-102 146.8646,-102 143.9175,-99.0529 143.9175,-96.1058 143.9175,-96.1058 143.9175,-85.8942 143.9175,-85.8942 143.9175,-82.9471 146.8646,-80 149.8117,-80 149.8117,-80 155.7059,-80 155.7059,-80 158.653,-80 161.6,-82.9471 161.6,-85.8942 161.6,-85.8942 161.6,-96.1058 161.6,-96.1058 161.6,-99.0529 158.653,-102 155.7059,-102\"/>\n<text text-anchor=\"middle\" x=\"152.7588\" y=\"-86.8\" font-family=\"Times,serif\" font-size=\"14.00\" fill=\"#000000\">B</text>\n</g>\n<!-- &#45;5584377703474714926&#45;&gt;&#45;5584378964674043847 -->\n<g id=\"edge9\" class=\"edge\">\n<title>&#45;5584377703474714926&#45;&gt;&#45;5584378964674043847</title>\n<path fill=\"none\" stroke=\"#000000\" stroke-width=\".5\" d=\"M152.7588,-119.6446C152.7588,-114.1937 152.7588,-107.6819 152.7588,-102.2453\"/>\n</g>\n<!-- 1267123178135226705 -->\n<g id=\"node13\" class=\"node\">\n<title>1267123178135226705</title>\n<path fill=\"none\" stroke=\"#000000\" stroke-width=\"1.25\" d=\"M192.164,-22C192.164,-22 187.3536,-22 187.3536,-22 184.9485,-22 182.5433,-19.5948 182.5433,-17.1897 182.5433,-17.1897 182.5433,-4.8103 182.5433,-4.8103 182.5433,-2.4052 184.9485,0 187.3536,0 187.3536,0 192.164,0 192.164,0 194.5691,0 196.9743,-2.4052 196.9743,-4.8103 196.9743,-4.8103 196.9743,-17.1897 196.9743,-17.1897 196.9743,-19.5948 194.5691,-22 192.164,-22\"/>\n<text text-anchor=\"middle\" x=\"189.7588\" y=\"-6.8\" font-family=\"Times,serif\" font-size=\"14.00\" fill=\"#000000\">a</text>\n</g>\n<!-- 2353492601482548065&#45;&gt;1267123178135226705 -->\n<g id=\"edge14\" class=\"edge\">\n<title>2353492601482548065&#45;&gt;1267123178135226705</title>\n<path fill=\"none\" stroke=\"#000000\" stroke-width=\".5\" d=\"M187.9434,-119.9258C188.3244,-97.0653 189.194,-44.885 189.5747,-22.0475\"/>\n</g>\n<!-- 4516598912477764867 -->\n<!-- 7375763802035387729&#45;&gt;4516598912477764867 -->\n<!-- 1267125700529224351&#45;&gt;&#45;5584378964674043847 -->\n<!-- 5054388597697037728 -->\n<g id=\"node11\" class=\"node\">\n<title>5054388597697037728</title>\n<path fill=\"none\" stroke=\"#000000\" stroke-width=\"1.25\" d=\"M155.2588,-62C155.2588,-62 150.2588,-62 150.2588,-62 147.7588,-62 145.2588,-59.5 145.2588,-57 145.2588,-57 145.2588,-45 145.2588,-45 145.2588,-42.5 147.7588,-40 150.2588,-40 150.2588,-40 155.2588,-40 155.2588,-40 157.7588,-40 160.2588,-42.5 160.2588,-45 160.2588,-45 160.2588,-57 160.2588,-57 160.2588,-59.5 157.7588,-62 155.2588,-62\"/>\n<text text-anchor=\"middle\" x=\"152.7588\" y=\"-46.8\" font-family=\"Times,serif\" font-size=\"14.00\" fill=\"#000000\">b</text>\n</g>\n<!-- &#45;5584378964674043847&#45;&gt;5054388597697037728 -->\n<g id=\"edge12\" class=\"edge\">\n<title>&#45;5584378964674043847&#45;&gt;5054388597697037728</title>\n<path fill=\"none\" stroke=\"#000000\" stroke-width=\".5\" d=\"M152.7588,-79.6446C152.7588,-74.1937 152.7588,-67.6819 152.7588,-62.2453\"/>\n</g>\n<!-- 9192735541004390962 -->\n<!-- 4516598912477764867&#45;&gt;9192735541004390962 -->\n</g>\n</svg>\n",
          "text/plain": "ProductionGraph(S -> a B C -> a a B C -> a a b C -> a a b a)"
         },
         "metadata": {},
         "output_type": "display_data"
        }
       ]
      }
     },
     "14c328026ebd4148850ad9a980d588a1": {
      "model_module": "@jupyter-widgets/base",
      "model_module_version": "1.1.0",
      "model_name": "LayoutModel",
      "state": {}
     },
     "153d61dc7c1f48508e0a19746faa9c37": {
      "model_module": "@jupyter-widgets/controls",
      "model_module_version": "1.4.0",
      "model_name": "IntSliderModel",
      "state": {
       "description": "n",
       "layout": "IPY_MODEL_5cf4141ebd304772a50fffc674bba104",
       "max": 4,
       "style": "IPY_MODEL_bcd5810a8bfb47c8a9be565ff66e8abb"
      }
     },
     "185926282e884709a8262c202710f6c0": {
      "model_module": "@jupyter-widgets/base",
      "model_module_version": "1.1.0",
      "model_name": "LayoutModel",
      "state": {
       "height": "300px"
      }
     },
     "1a1957b649804268a8d04f3802538bfa": {
      "model_module": "@jupyter-widgets/controls",
      "model_module_version": "1.4.0",
      "model_name": "VBoxModel",
      "state": {
       "_dom_classes": [
        "widget-interact"
       ],
       "children": [
        "IPY_MODEL_153d61dc7c1f48508e0a19746faa9c37",
        "IPY_MODEL_0b22702315ae4c118381bc7bfe314f51"
       ],
       "layout": "IPY_MODEL_ea05edc4653c4648a45a9c06bbe78d08"
      }
     },
     "1c49217559c64f5f88295c472e009919": {
      "model_module": "@jupyter-widgets/base",
      "model_module_version": "1.1.0",
      "model_name": "LayoutModel",
      "state": {}
     },
     "1db99598bb8e4366a9454e5719aeacc6": {
      "model_module": "@jupyter-widgets/base",
      "model_module_version": "1.1.0",
      "model_name": "LayoutModel",
      "state": {}
     },
     "1e78a7edfed342fa9550312caf9ed06d": {
      "model_module": "@jupyter-widgets/controls",
      "model_module_version": "1.4.0",
      "model_name": "VBoxModel",
      "state": {
       "_dom_classes": [
        "widget-interact"
       ],
       "children": [
        "IPY_MODEL_be97eb1197f647208c499351e1cace26",
        "IPY_MODEL_12c878a267324b9cad134e249ae34413"
       ],
       "layout": "IPY_MODEL_c31fc6d2a8684439a1094b7b5d52a702"
      }
     },
     "20ca2e09afa64ee583c5953d04dee93a": {
      "model_module": "@jupyter-widgets/controls",
      "model_module_version": "1.4.0",
      "model_name": "IntSliderModel",
      "state": {
       "description": "n",
       "layout": "IPY_MODEL_3a38773747fb477780d62da2696253a4",
       "max": 4,
       "style": "IPY_MODEL_cc7c3fdd98634ed19d3b3730cb06474b"
      }
     },
     "264792f7942b4817b3e079e64b081b88": {
      "model_module": "@jupyter-widgets/controls",
      "model_module_version": "1.4.0",
      "model_name": "IntSliderModel",
      "state": {
       "description": "n",
       "layout": "IPY_MODEL_685af2534cd841edbf160573fd76c9e6",
       "max": 4,
       "style": "IPY_MODEL_e049b54cdf574dbbb20d6ce5b94b6e6b",
       "value": 4
      }
     },
     "2b852eac7c954b6cb2ff2a5ff43b9481": {
      "model_module": "@jupyter-widgets/base",
      "model_module_version": "1.1.0",
      "model_name": "LayoutModel",
      "state": {}
     },
     "2c1e080ee92c4d85b00c365ac375df71": {
      "model_module": "@jupyter-widgets/output",
      "model_module_version": "1.0.0",
      "model_name": "OutputModel",
      "state": {
       "layout": "IPY_MODEL_bed2bc1c196c4c10b1ac928a4546f4a2",
       "outputs": [
        {
         "data": {
          "image/svg+xml": "<?xml version=\"1.0\" encoding=\"UTF-8\" standalone=\"no\"?>\n<!DOCTYPE svg PUBLIC \"-//W3C//DTD SVG 1.1//EN\"\n \"http://www.w3.org/Graphics/SVG/1.1/DTD/svg11.dtd\">\n<!-- Generated by graphviz version 2.40.1 (20161225.0304)\n -->\n<!-- Title: %3 Pages: 1 -->\n<svg width=\"136pt\" height=\"30pt\"\n viewBox=\"0.00 0.00 135.65 30.00\" xmlns=\"http://www.w3.org/2000/svg\" xmlns:xlink=\"http://www.w3.org/1999/xlink\">\n<g id=\"graph0\" class=\"graph\" transform=\"scale(1 1) rotate(0) translate(4 26)\">\n<title>%3</title>\n<polygon fill=\"#ffffff\" stroke=\"transparent\" points=\"-4,4 -4,-26 131.6519,-26 131.6519,4 -4,4\"/>\n<!-- 159010387836870111 -->\n<!-- &#45;165964585024879612 -->\n<g id=\"node2\" class=\"node\">\n<title>&#45;165964585024879612</title>\n<path fill=\"none\" stroke=\"#000000\" stroke-width=\".25\" d=\"M122.3546,-22C122.3546,-22 117.1629,-22 117.1629,-22 114.5671,-22 111.9712,-19.4041 111.9712,-16.8083 111.9712,-16.8083 111.9712,-5.1917 111.9712,-5.1917 111.9712,-2.5959 114.5671,0 117.1629,0 117.1629,0 122.3546,0 122.3546,0 124.9505,0 127.5464,-2.5959 127.5464,-5.1917 127.5464,-5.1917 127.5464,-16.8083 127.5464,-16.8083 127.5464,-19.4041 124.9505,-22 122.3546,-22\"/>\n<text text-anchor=\"middle\" x=\"119.7588\" y=\"-6.8\" font-family=\"Times,serif\" font-size=\"14.00\" fill=\"#000000\">S</text>\n</g>\n</g>\n</svg>\n",
          "text/plain": "ProductionGraph(S)"
         },
         "metadata": {},
         "output_type": "display_data"
        }
       ]
      }
     },
     "2d74ec9b48594bb4804ed6c99a7b40b8": {
      "model_module": "@jupyter-widgets/controls",
      "model_module_version": "1.4.0",
      "model_name": "SliderStyleModel",
      "state": {
       "description_width": ""
      }
     },
     "30f28593ca02429aa7aca18258868055": {
      "model_module": "@jupyter-widgets/base",
      "model_module_version": "1.1.0",
      "model_name": "LayoutModel",
      "state": {}
     },
     "329c9b7afbf44d5288016a2202c43f9a": {
      "model_module": "@jupyter-widgets/controls",
      "model_module_version": "1.4.0",
      "model_name": "VBoxModel",
      "state": {
       "_dom_classes": [
        "widget-interact"
       ],
       "children": [
        "IPY_MODEL_5aea0bebcc604a42b27672b0a6a74a0c",
        "IPY_MODEL_3a2a497a184d4437a65d2ae96c6076cc"
       ],
       "layout": "IPY_MODEL_8f658a81c1ef4585a477185b3057d602"
      }
     },
     "39533fa145bc4e87b55c40a5fac5624c": {
      "model_module": "@jupyter-widgets/base",
      "model_module_version": "1.1.0",
      "model_name": "LayoutModel",
      "state": {}
     },
     "3a2a497a184d4437a65d2ae96c6076cc": {
      "model_module": "@jupyter-widgets/output",
      "model_module_version": "1.0.0",
      "model_name": "OutputModel",
      "state": {
       "layout": "IPY_MODEL_de596e4d14d24e6780693d77f7a36f04",
       "outputs": [
        {
         "data": {
          "image/svg+xml": "<?xml version=\"1.0\" encoding=\"UTF-8\" standalone=\"no\"?>\n<!DOCTYPE svg PUBLIC \"-//W3C//DTD SVG 1.1//EN\"\n \"http://www.w3.org/Graphics/SVG/1.1/DTD/svg11.dtd\">\n<!-- Generated by graphviz version 2.40.1 (20161225.0304)\n -->\n<!-- Title: %3 Pages: 1 -->\n<svg width=\"136pt\" height=\"30pt\"\n viewBox=\"0.00 0.00 135.65 30.00\" xmlns=\"http://www.w3.org/2000/svg\" xmlns:xlink=\"http://www.w3.org/1999/xlink\">\n<g id=\"graph0\" class=\"graph\" transform=\"scale(1 1) rotate(0) translate(4 26)\">\n<title>%3</title>\n<polygon fill=\"#ffffff\" stroke=\"transparent\" points=\"-4,4 -4,-26 131.6519,-26 131.6519,4 -4,4\"/>\n<!-- 159010387836870111 -->\n<!-- &#45;165964585024879612 -->\n<g id=\"node2\" class=\"node\">\n<title>&#45;165964585024879612</title>\n<path fill=\"none\" stroke=\"#000000\" stroke-width=\".25\" d=\"M122.3546,-22C122.3546,-22 117.1629,-22 117.1629,-22 114.5671,-22 111.9712,-19.4041 111.9712,-16.8083 111.9712,-16.8083 111.9712,-5.1917 111.9712,-5.1917 111.9712,-2.5959 114.5671,0 117.1629,0 117.1629,0 122.3546,0 122.3546,0 124.9505,0 127.5464,-2.5959 127.5464,-5.1917 127.5464,-5.1917 127.5464,-16.8083 127.5464,-16.8083 127.5464,-19.4041 124.9505,-22 122.3546,-22\"/>\n<text text-anchor=\"middle\" x=\"119.7588\" y=\"-6.8\" font-family=\"Times,serif\" font-size=\"14.00\" fill=\"#000000\">S</text>\n</g>\n</g>\n</svg>\n",
          "text/plain": "ProductionGraph(S)"
         },
         "metadata": {},
         "output_type": "display_data"
        }
       ]
      }
     },
     "3a38773747fb477780d62da2696253a4": {
      "model_module": "@jupyter-widgets/base",
      "model_module_version": "1.1.0",
      "model_name": "LayoutModel",
      "state": {}
     },
     "3b3b033fe810451aa88a8d158ccb7272": {
      "model_module": "@jupyter-widgets/base",
      "model_module_version": "1.1.0",
      "model_name": "LayoutModel",
      "state": {
       "height": "300px"
      }
     },
     "425d7ea0b123420998a31e8fc1ad4ee1": {
      "model_module": "@jupyter-widgets/base",
      "model_module_version": "1.1.0",
      "model_name": "LayoutModel",
      "state": {
       "height": "300px"
      }
     },
     "43be8cfd758c48cd8fb46d0d529b9ad3": {
      "model_module": "@jupyter-widgets/base",
      "model_module_version": "1.1.0",
      "model_name": "LayoutModel",
      "state": {}
     },
     "462029428e814265800d085463a8ea30": {
      "model_module": "@jupyter-widgets/controls",
      "model_module_version": "1.4.0",
      "model_name": "VBoxModel",
      "state": {
       "_dom_classes": [
        "widget-interact"
       ],
       "children": [
        "IPY_MODEL_a70732c042da4b18b75f3bc0f0bb8fef",
        "IPY_MODEL_dc945cfae8d34edcba08061fdc7ac460"
       ],
       "layout": "IPY_MODEL_894c54639d134f6cb0b9838e06d64419"
      }
     },
     "497d9cee20a044648cf9f8ae4c9dc886": {
      "model_module": "@jupyter-widgets/controls",
      "model_module_version": "1.4.0",
      "model_name": "IntSliderModel",
      "state": {
       "description": "n",
       "layout": "IPY_MODEL_e5766da6770e49faa4d8acddeecb2dca",
       "max": 4,
       "style": "IPY_MODEL_2d74ec9b48594bb4804ed6c99a7b40b8"
      }
     },
     "4beba504056c4214bd66db48455ef0db": {
      "model_module": "@jupyter-widgets/base",
      "model_module_version": "1.1.0",
      "model_name": "LayoutModel",
      "state": {
       "height": "300px"
      }
     },
     "4ea275d5c8df4d178406dba358586c08": {
      "model_module": "@jupyter-widgets/base",
      "model_module_version": "1.1.0",
      "model_name": "LayoutModel",
      "state": {}
     },
     "51ecfd7cf8c7464aa8532bb9b8079d6f": {
      "model_module": "@jupyter-widgets/base",
      "model_module_version": "1.1.0",
      "model_name": "LayoutModel",
      "state": {}
     },
     "524fa8e7bf934a6ca583865b221055dc": {
      "model_module": "@jupyter-widgets/base",
      "model_module_version": "1.1.0",
      "model_name": "LayoutModel",
      "state": {
       "height": "300px"
      }
     },
     "55800d1f961148a7b5f36fcd9ac390c5": {
      "model_module": "@jupyter-widgets/output",
      "model_module_version": "1.0.0",
      "model_name": "OutputModel",
      "state": {
       "layout": "IPY_MODEL_185926282e884709a8262c202710f6c0",
       "outputs": [
        {
         "data": {
          "image/svg+xml": "<?xml version=\"1.0\" encoding=\"UTF-8\" standalone=\"no\"?>\n<!DOCTYPE svg PUBLIC \"-//W3C//DTD SVG 1.1//EN\"\n \"http://www.w3.org/Graphics/SVG/1.1/DTD/svg11.dtd\">\n<!-- Generated by graphviz version 2.40.1 (20161225.0304)\n -->\n<!-- Title: %3 Pages: 1 -->\n<svg width=\"136pt\" height=\"30pt\"\n viewBox=\"0.00 0.00 135.65 30.00\" xmlns=\"http://www.w3.org/2000/svg\" xmlns:xlink=\"http://www.w3.org/1999/xlink\">\n<g id=\"graph0\" class=\"graph\" transform=\"scale(1 1) rotate(0) translate(4 26)\">\n<title>%3</title>\n<polygon fill=\"#ffffff\" stroke=\"transparent\" points=\"-4,4 -4,-26 131.6519,-26 131.6519,4 -4,4\"/>\n<!-- 159010387836870111 -->\n<!-- &#45;165964585024879612 -->\n<g id=\"node2\" class=\"node\">\n<title>&#45;165964585024879612</title>\n<path fill=\"none\" stroke=\"#000000\" stroke-width=\".25\" d=\"M122.3546,-22C122.3546,-22 117.1629,-22 117.1629,-22 114.5671,-22 111.9712,-19.4041 111.9712,-16.8083 111.9712,-16.8083 111.9712,-5.1917 111.9712,-5.1917 111.9712,-2.5959 114.5671,0 117.1629,0 117.1629,0 122.3546,0 122.3546,0 124.9505,0 127.5464,-2.5959 127.5464,-5.1917 127.5464,-5.1917 127.5464,-16.8083 127.5464,-16.8083 127.5464,-19.4041 124.9505,-22 122.3546,-22\"/>\n<text text-anchor=\"middle\" x=\"119.7588\" y=\"-6.8\" font-family=\"Times,serif\" font-size=\"14.00\" fill=\"#000000\">S</text>\n</g>\n</g>\n</svg>\n",
          "text/plain": "ProductionGraph(S)"
         },
         "metadata": {},
         "output_type": "display_data"
        }
       ]
      }
     },
     "598359293a994b689fba25ebdfa93d16": {
      "model_module": "@jupyter-widgets/controls",
      "model_module_version": "1.4.0",
      "model_name": "SliderStyleModel",
      "state": {
       "description_width": ""
      }
     },
     "5ac17588252646cc905b18ff24d007ac": {
      "model_module": "@jupyter-widgets/base",
      "model_module_version": "1.1.0",
      "model_name": "LayoutModel",
      "state": {}
     },
     "5aea0bebcc604a42b27672b0a6a74a0c": {
      "model_module": "@jupyter-widgets/controls",
      "model_module_version": "1.4.0",
      "model_name": "IntSliderModel",
      "state": {
       "description": "n",
       "layout": "IPY_MODEL_2b852eac7c954b6cb2ff2a5ff43b9481",
       "max": 4,
       "style": "IPY_MODEL_7abd850e57194c259c0b7a51f788574f"
      }
     },
     "5b32b0a6e38f4ff2ade3df6d7a9d500a": {
      "model_module": "@jupyter-widgets/base",
      "model_module_version": "1.1.0",
      "model_name": "LayoutModel",
      "state": {}
     },
     "5cf4141ebd304772a50fffc674bba104": {
      "model_module": "@jupyter-widgets/base",
      "model_module_version": "1.1.0",
      "model_name": "LayoutModel",
      "state": {}
     },
     "685af2534cd841edbf160573fd76c9e6": {
      "model_module": "@jupyter-widgets/base",
      "model_module_version": "1.1.0",
      "model_name": "LayoutModel",
      "state": {}
     },
     "698c61d185ea4500a32e34468d26929c": {
      "model_module": "@jupyter-widgets/controls",
      "model_module_version": "1.4.0",
      "model_name": "SliderStyleModel",
      "state": {
       "description_width": ""
      }
     },
     "708b846a8d194952aa2d8ea6d6795e46": {
      "model_module": "@jupyter-widgets/controls",
      "model_module_version": "1.4.0",
      "model_name": "IntSliderModel",
      "state": {
       "description": "n",
       "layout": "IPY_MODEL_43be8cfd758c48cd8fb46d0d529b9ad3",
       "max": 4,
       "style": "IPY_MODEL_df7d3137d4c64736805841dce33f50eb"
      }
     },
     "7184e5147c1d489e8c7800c257df74bf": {
      "model_module": "@jupyter-widgets/output",
      "model_module_version": "1.0.0",
      "model_name": "OutputModel",
      "state": {
       "layout": "IPY_MODEL_76e3c030a9e446388eea9d5f216fcd61",
       "outputs": [
        {
         "data": {
          "image/svg+xml": "<?xml version=\"1.0\" encoding=\"UTF-8\" standalone=\"no\"?>\n<!DOCTYPE svg PUBLIC \"-//W3C//DTD SVG 1.1//EN\"\n \"http://www.w3.org/Graphics/SVG/1.1/DTD/svg11.dtd\">\n<!-- Generated by graphviz version 2.40.1 (20161225.0304)\n -->\n<!-- Title: %3 Pages: 1 -->\n<svg width=\"136pt\" height=\"30pt\"\n viewBox=\"0.00 0.00 135.65 30.00\" xmlns=\"http://www.w3.org/2000/svg\" xmlns:xlink=\"http://www.w3.org/1999/xlink\">\n<g id=\"graph0\" class=\"graph\" transform=\"scale(1 1) rotate(0) translate(4 26)\">\n<title>%3</title>\n<polygon fill=\"#ffffff\" stroke=\"transparent\" points=\"-4,4 -4,-26 131.6519,-26 131.6519,4 -4,4\"/>\n<!-- &#45;1998619854741032374 -->\n<!-- &#45;4833886356756346987 -->\n<g id=\"node2\" class=\"node\">\n<title>&#45;4833886356756346987</title>\n<path fill=\"none\" stroke=\"#000000\" stroke-width=\".25\" d=\"M122.3546,-22C122.3546,-22 117.1629,-22 117.1629,-22 114.5671,-22 111.9712,-19.4041 111.9712,-16.8083 111.9712,-16.8083 111.9712,-5.1917 111.9712,-5.1917 111.9712,-2.5959 114.5671,0 117.1629,0 117.1629,0 122.3546,0 122.3546,0 124.9505,0 127.5464,-2.5959 127.5464,-5.1917 127.5464,-5.1917 127.5464,-16.8083 127.5464,-16.8083 127.5464,-19.4041 124.9505,-22 122.3546,-22\"/>\n<text text-anchor=\"middle\" x=\"119.7588\" y=\"-6.8\" font-family=\"Times,serif\" font-size=\"14.00\" fill=\"#000000\">S</text>\n</g>\n</g>\n</svg>\n",
          "text/plain": "ProductionGraph(S)"
         },
         "metadata": {},
         "output_type": "display_data"
        }
       ]
      }
     },
     "76e3c030a9e446388eea9d5f216fcd61": {
      "model_module": "@jupyter-widgets/base",
      "model_module_version": "1.1.0",
      "model_name": "LayoutModel",
      "state": {
       "height": "300px"
      }
     },
     "78955925bd4d419fb6561856ee6780bb": {
      "model_module": "@jupyter-widgets/base",
      "model_module_version": "1.1.0",
      "model_name": "LayoutModel",
      "state": {}
     },
     "7abd850e57194c259c0b7a51f788574f": {
      "model_module": "@jupyter-widgets/controls",
      "model_module_version": "1.4.0",
      "model_name": "SliderStyleModel",
      "state": {
       "description_width": ""
      }
     },
     "809d331d350b45c0832c27ba420a30ee": {
      "model_module": "@jupyter-widgets/controls",
      "model_module_version": "1.4.0",
      "model_name": "VBoxModel",
      "state": {
       "_dom_classes": [
        "widget-interact"
       ],
       "children": [
        "IPY_MODEL_20ca2e09afa64ee583c5953d04dee93a",
        "IPY_MODEL_55800d1f961148a7b5f36fcd9ac390c5"
       ],
       "layout": "IPY_MODEL_30f28593ca02429aa7aca18258868055"
      }
     },
     "845242d5b190462c8bfdcf58252edce1": {
      "model_module": "@jupyter-widgets/controls",
      "model_module_version": "1.4.0",
      "model_name": "VBoxModel",
      "state": {
       "_dom_classes": [
        "widget-interact"
       ],
       "children": [
        "IPY_MODEL_9c6ba35c52814af1a75a1b1aa1f52bf7",
        "IPY_MODEL_eb76c0673d334483acac71bd70c505e7"
       ],
       "layout": "IPY_MODEL_5ac17588252646cc905b18ff24d007ac"
      }
     },
     "88ce475708f54ce99d766b66c7fee81f": {
      "model_module": "@jupyter-widgets/base",
      "model_module_version": "1.1.0",
      "model_name": "LayoutModel",
      "state": {}
     },
     "894c54639d134f6cb0b9838e06d64419": {
      "model_module": "@jupyter-widgets/base",
      "model_module_version": "1.1.0",
      "model_name": "LayoutModel",
      "state": {}
     },
     "8b3af76533c9477993f2708a76b5f2f5": {
      "model_module": "@jupyter-widgets/controls",
      "model_module_version": "1.4.0",
      "model_name": "SliderStyleModel",
      "state": {
       "description_width": ""
      }
     },
     "8dfd73d4556c410695275b1ba24a63c9": {
      "model_module": "@jupyter-widgets/base",
      "model_module_version": "1.1.0",
      "model_name": "LayoutModel",
      "state": {
       "height": "300px"
      }
     },
     "8f658a81c1ef4585a477185b3057d602": {
      "model_module": "@jupyter-widgets/base",
      "model_module_version": "1.1.0",
      "model_name": "LayoutModel",
      "state": {}
     },
     "948c3e60ef2e4fbaaa1c987c09a2f855": {
      "model_module": "@jupyter-widgets/base",
      "model_module_version": "1.1.0",
      "model_name": "LayoutModel",
      "state": {}
     },
     "983d3d74031e4c4ebb69a335fea01536": {
      "model_module": "@jupyter-widgets/controls",
      "model_module_version": "1.4.0",
      "model_name": "IntSliderModel",
      "state": {
       "description": "n",
       "layout": "IPY_MODEL_d8ed845548ae4e9ab7f361401f2daa6b",
       "max": 4,
       "style": "IPY_MODEL_087548580e88430294bb70d8a03aff26"
      }
     },
     "9ab334facee346e49536eef41b879b29": {
      "model_module": "@jupyter-widgets/controls",
      "model_module_version": "1.4.0",
      "model_name": "SliderStyleModel",
      "state": {
       "description_width": ""
      }
     },
     "9c6ba35c52814af1a75a1b1aa1f52bf7": {
      "model_module": "@jupyter-widgets/controls",
      "model_module_version": "1.4.0",
      "model_name": "IntSliderModel",
      "state": {
       "description": "n",
       "layout": "IPY_MODEL_88ce475708f54ce99d766b66c7fee81f",
       "max": 4,
       "style": "IPY_MODEL_9ab334facee346e49536eef41b879b29"
      }
     },
     "a105f4f651314a829896e9b8489d0b89": {
      "model_module": "@jupyter-widgets/controls",
      "model_module_version": "1.4.0",
      "model_name": "IntSliderModel",
      "state": {
       "description": "n",
       "layout": "IPY_MODEL_dbcb7be4e0f340cab33ee5165951579f",
       "max": 4,
       "style": "IPY_MODEL_c9cd1903cebd4d99ab557165280bb160"
      }
     },
     "a134a8e027ce4d3ebef107961ba7dd7e": {
      "model_module": "@jupyter-widgets/base",
      "model_module_version": "1.1.0",
      "model_name": "LayoutModel",
      "state": {
       "height": "300px"
      }
     },
     "a52873b739bb43dc8ace7ecf4947b5c5": {
      "model_module": "@jupyter-widgets/controls",
      "model_module_version": "1.4.0",
      "model_name": "VBoxModel",
      "state": {
       "_dom_classes": [
        "widget-interact"
       ],
       "children": [
        "IPY_MODEL_09a7a96c6de942cabaa200a599382511",
        "IPY_MODEL_0df60aa763e242c0b72096a35c413adf"
       ],
       "layout": "IPY_MODEL_948c3e60ef2e4fbaaa1c987c09a2f855"
      }
     },
     "a70732c042da4b18b75f3bc0f0bb8fef": {
      "model_module": "@jupyter-widgets/controls",
      "model_module_version": "1.4.0",
      "model_name": "IntSliderModel",
      "state": {
       "description": "n",
       "layout": "IPY_MODEL_39533fa145bc4e87b55c40a5fac5624c",
       "max": 4,
       "style": "IPY_MODEL_f65326480a56464b861922b8e92d666b",
       "value": 1
      }
     },
     "aba9a94aab37497fbdb00b1eef692ba3": {
      "model_module": "@jupyter-widgets/controls",
      "model_module_version": "1.4.0",
      "model_name": "SliderStyleModel",
      "state": {
       "description_width": ""
      }
     },
     "ae8a2029ab7f4a9d9948e25cf9b91f3d": {
      "model_module": "@jupyter-widgets/controls",
      "model_module_version": "1.4.0",
      "model_name": "VBoxModel",
      "state": {
       "_dom_classes": [
        "widget-interact"
       ],
       "children": [
        "IPY_MODEL_a105f4f651314a829896e9b8489d0b89",
        "IPY_MODEL_bc5bb6cd794047049aaceb692dddc779"
       ],
       "layout": "IPY_MODEL_14c328026ebd4148850ad9a980d588a1"
      }
     },
     "af0aff977c4e466b9f513c4922cca1a2": {
      "model_module": "@jupyter-widgets/controls",
      "model_module_version": "1.4.0",
      "model_name": "VBoxModel",
      "state": {
       "_dom_classes": [
        "widget-interact"
       ],
       "children": [
        "IPY_MODEL_b685bd87252946839b6554bc72d9e6c7",
        "IPY_MODEL_0342e52987d440ce81a98a6954e0a819"
       ],
       "layout": "IPY_MODEL_4ea275d5c8df4d178406dba358586c08"
      }
     },
     "b2f786bc28e4433ea972b888db86927c": {
      "model_module": "@jupyter-widgets/controls",
      "model_module_version": "1.4.0",
      "model_name": "IntSliderModel",
      "state": {
       "description": "n",
       "layout": "IPY_MODEL_ed2e180e0cc740caa313f4be6e23403a",
       "max": 4,
       "style": "IPY_MODEL_aba9a94aab37497fbdb00b1eef692ba3",
       "value": 2
      }
     },
     "b5d45dad8cd64583b13ce29e0b03e24c": {
      "model_module": "@jupyter-widgets/base",
      "model_module_version": "1.1.0",
      "model_name": "LayoutModel",
      "state": {
       "height": "200px"
      }
     },
     "b685bd87252946839b6554bc72d9e6c7": {
      "model_module": "@jupyter-widgets/controls",
      "model_module_version": "1.4.0",
      "model_name": "IntSliderModel",
      "state": {
       "description": "n",
       "layout": "IPY_MODEL_1c49217559c64f5f88295c472e009919",
       "max": 4,
       "style": "IPY_MODEL_8b3af76533c9477993f2708a76b5f2f5"
      }
     },
     "bc5bb6cd794047049aaceb692dddc779": {
      "model_module": "@jupyter-widgets/output",
      "model_module_version": "1.0.0",
      "model_name": "OutputModel",
      "state": {
       "layout": "IPY_MODEL_a134a8e027ce4d3ebef107961ba7dd7e",
       "outputs": [
        {
         "data": {
          "image/svg+xml": "<?xml version=\"1.0\" encoding=\"UTF-8\" standalone=\"no\"?>\n<!DOCTYPE svg PUBLIC \"-//W3C//DTD SVG 1.1//EN\"\n \"http://www.w3.org/Graphics/SVG/1.1/DTD/svg11.dtd\">\n<!-- Generated by graphviz version 2.40.1 (20161225.0304)\n -->\n<!-- Title: %3 Pages: 1 -->\n<svg width=\"136pt\" height=\"30pt\"\n viewBox=\"0.00 0.00 135.65 30.00\" xmlns=\"http://www.w3.org/2000/svg\" xmlns:xlink=\"http://www.w3.org/1999/xlink\">\n<g id=\"graph0\" class=\"graph\" transform=\"scale(1 1) rotate(0) translate(4 26)\">\n<title>%3</title>\n<polygon fill=\"#ffffff\" stroke=\"transparent\" points=\"-4,4 -4,-26 131.6519,-26 131.6519,4 -4,4\"/>\n<!-- &#45;1998619854741032374 -->\n<!-- &#45;4833886356756346987 -->\n<g id=\"node2\" class=\"node\">\n<title>&#45;4833886356756346987</title>\n<path fill=\"none\" stroke=\"#000000\" stroke-width=\".25\" d=\"M122.3546,-22C122.3546,-22 117.1629,-22 117.1629,-22 114.5671,-22 111.9712,-19.4041 111.9712,-16.8083 111.9712,-16.8083 111.9712,-5.1917 111.9712,-5.1917 111.9712,-2.5959 114.5671,0 117.1629,0 117.1629,0 122.3546,0 122.3546,0 124.9505,0 127.5464,-2.5959 127.5464,-5.1917 127.5464,-5.1917 127.5464,-16.8083 127.5464,-16.8083 127.5464,-19.4041 124.9505,-22 122.3546,-22\"/>\n<text text-anchor=\"middle\" x=\"119.7588\" y=\"-6.8\" font-family=\"Times,serif\" font-size=\"14.00\" fill=\"#000000\">S</text>\n</g>\n</g>\n</svg>\n",
          "text/plain": "ProductionGraph(S)"
         },
         "metadata": {},
         "output_type": "display_data"
        }
       ]
      }
     },
     "bcd5810a8bfb47c8a9be565ff66e8abb": {
      "model_module": "@jupyter-widgets/controls",
      "model_module_version": "1.4.0",
      "model_name": "SliderStyleModel",
      "state": {
       "description_width": ""
      }
     },
     "be97eb1197f647208c499351e1cace26": {
      "model_module": "@jupyter-widgets/controls",
      "model_module_version": "1.4.0",
      "model_name": "IntSliderModel",
      "state": {
       "description": "n",
       "layout": "IPY_MODEL_f533c479a5404174be31a89dc411c953",
       "max": 4,
       "style": "IPY_MODEL_698c61d185ea4500a32e34468d26929c",
       "value": 4
      }
     },
     "bed2bc1c196c4c10b1ac928a4546f4a2": {
      "model_module": "@jupyter-widgets/base",
      "model_module_version": "1.1.0",
      "model_name": "LayoutModel",
      "state": {
       "height": "300px"
      }
     },
     "c31fc6d2a8684439a1094b7b5d52a702": {
      "model_module": "@jupyter-widgets/base",
      "model_module_version": "1.1.0",
      "model_name": "LayoutModel",
      "state": {}
     },
     "c3805a10197a4e71b29bf7e3deb0547c": {
      "model_module": "@jupyter-widgets/base",
      "model_module_version": "1.1.0",
      "model_name": "LayoutModel",
      "state": {
       "height": "300px"
      }
     },
     "c8a7f7e7827a443eb5ae7552626e14c7": {
      "model_module": "@jupyter-widgets/controls",
      "model_module_version": "1.4.0",
      "model_name": "VBoxModel",
      "state": {
       "_dom_classes": [
        "widget-interact"
       ],
       "children": [
        "IPY_MODEL_b2f786bc28e4433ea972b888db86927c",
        "IPY_MODEL_cffcac240a69473f9d5440eeded9ac08"
       ],
       "layout": "IPY_MODEL_51ecfd7cf8c7464aa8532bb9b8079d6f"
      }
     },
     "c9cd1903cebd4d99ab557165280bb160": {
      "model_module": "@jupyter-widgets/controls",
      "model_module_version": "1.4.0",
      "model_name": "SliderStyleModel",
      "state": {
       "description_width": ""
      }
     },
     "cc7c3fdd98634ed19d3b3730cb06474b": {
      "model_module": "@jupyter-widgets/controls",
      "model_module_version": "1.4.0",
      "model_name": "SliderStyleModel",
      "state": {
       "description_width": ""
      }
     },
     "cffcac240a69473f9d5440eeded9ac08": {
      "model_module": "@jupyter-widgets/output",
      "model_module_version": "1.0.0",
      "model_name": "OutputModel",
      "state": {
       "layout": "IPY_MODEL_b5d45dad8cd64583b13ce29e0b03e24c"
      }
     },
     "d407994b15b54214a0f747b84ff89eb8": {
      "model_module": "@jupyter-widgets/base",
      "model_module_version": "1.1.0",
      "model_name": "LayoutModel",
      "state": {}
     },
     "d8ed845548ae4e9ab7f361401f2daa6b": {
      "model_module": "@jupyter-widgets/base",
      "model_module_version": "1.1.0",
      "model_name": "LayoutModel",
      "state": {}
     },
     "dbcb7be4e0f340cab33ee5165951579f": {
      "model_module": "@jupyter-widgets/base",
      "model_module_version": "1.1.0",
      "model_name": "LayoutModel",
      "state": {}
     },
     "dc945cfae8d34edcba08061fdc7ac460": {
      "model_module": "@jupyter-widgets/output",
      "model_module_version": "1.0.0",
      "model_name": "OutputModel",
      "state": {
       "layout": "IPY_MODEL_0bd85bf3ef894501b71e4d62744646d5",
       "outputs": [
        {
         "data": {
          "image/svg+xml": "<?xml version=\"1.0\" encoding=\"UTF-8\" standalone=\"no\"?>\n<!DOCTYPE svg PUBLIC \"-//W3C//DTD SVG 1.1//EN\"\n \"http://www.w3.org/Graphics/SVG/1.1/DTD/svg11.dtd\">\n<!-- Generated by graphviz version 2.40.1 (20161225.0304)\n -->\n<!-- Title: %3 Pages: 1 -->\n<svg width=\"177pt\" height=\"70pt\"\n viewBox=\"0.00 0.00 177.43 70.00\" xmlns=\"http://www.w3.org/2000/svg\" xmlns:xlink=\"http://www.w3.org/1999/xlink\">\n<g id=\"graph0\" class=\"graph\" transform=\"scale(1 1) rotate(0) translate(4 66)\">\n<title>%3</title>\n<polygon fill=\"#ffffff\" stroke=\"transparent\" points=\"-4,4 -4,-66 173.4277,-66 173.4277,4 -4,4\"/>\n<!-- 159010387836870111 -->\n<!-- 5195132778685451042 -->\n<!-- 159010387836870111&#45;&gt;5195132778685451042 -->\n<!-- &#45;165964585024879612 -->\n<g id=\"node2\" class=\"node\">\n<title>&#45;165964585024879612</title>\n<path fill=\"none\" stroke=\"#000000\" stroke-width=\".25\" d=\"M138.3546,-62C138.3546,-62 133.1629,-62 133.1629,-62 130.5671,-62 127.9712,-59.4041 127.9712,-56.8083 127.9712,-56.8083 127.9712,-45.1917 127.9712,-45.1917 127.9712,-42.5959 130.5671,-40 133.1629,-40 133.1629,-40 138.3546,-40 138.3546,-40 140.9505,-40 143.5464,-42.5959 143.5464,-45.1917 143.5464,-45.1917 143.5464,-56.8083 143.5464,-56.8083 143.5464,-59.4041 140.9505,-62 138.3546,-62\"/>\n<text text-anchor=\"middle\" x=\"135.7588\" y=\"-46.8\" font-family=\"Times,serif\" font-size=\"14.00\" fill=\"#000000\">S</text>\n</g>\n<!-- 1267129484120220820 -->\n<g id=\"node4\" class=\"node\">\n<title>1267129484120220820</title>\n<path fill=\"none\" stroke=\"#000000\" stroke-width=\"1.25\" d=\"M129.164,-22C129.164,-22 124.3536,-22 124.3536,-22 121.9485,-22 119.5433,-19.5948 119.5433,-17.1897 119.5433,-17.1897 119.5433,-4.8103 119.5433,-4.8103 119.5433,-2.4052 121.9485,0 124.3536,0 124.3536,0 129.164,0 129.164,0 131.5691,0 133.9743,-2.4052 133.9743,-4.8103 133.9743,-4.8103 133.9743,-17.1897 133.9743,-17.1897 133.9743,-19.5948 131.5691,-22 129.164,-22\"/>\n<text text-anchor=\"middle\" x=\"126.7588\" y=\"-6.8\" font-family=\"Times,serif\" font-size=\"14.00\" fill=\"#000000\">a</text>\n</g>\n<!-- &#45;165964585024879612&#45;&gt;1267129484120220820 -->\n<g id=\"edge2\" class=\"edge\">\n<title>&#45;165964585024879612&#45;&gt;1267129484120220820</title>\n<path fill=\"none\" stroke=\"#000000\" stroke-width=\".5\" d=\"M133.2038,-39.6446C131.9774,-34.1937 130.5122,-27.6819 129.289,-22.2453\"/>\n</g>\n<!-- &#45;5584377703474714926 -->\n<g id=\"node5\" class=\"node\">\n<title>&#45;5584377703474714926</title>\n<path fill=\"none\" stroke=\"#000000\" stroke-width=\"1.25\" d=\"M163.7059,-22C163.7059,-22 157.8117,-22 157.8117,-22 154.8646,-22 151.9175,-19.0529 151.9175,-16.1058 151.9175,-16.1058 151.9175,-5.8942 151.9175,-5.8942 151.9175,-2.9471 154.8646,0 157.8117,0 157.8117,0 163.7059,0 163.7059,0 166.653,0 169.6,-2.9471 169.6,-5.8942 169.6,-5.8942 169.6,-16.1058 169.6,-16.1058 169.6,-19.0529 166.653,-22 163.7059,-22\"/>\n<text text-anchor=\"middle\" x=\"160.7588\" y=\"-6.8\" font-family=\"Times,serif\" font-size=\"14.00\" fill=\"#000000\">B</text>\n</g>\n<!-- &#45;165964585024879612&#45;&gt;&#45;5584377703474714926 -->\n<g id=\"edge3\" class=\"edge\">\n<title>&#45;165964585024879612&#45;&gt;&#45;5584377703474714926</title>\n<path fill=\"none\" stroke=\"#000000\" stroke-width=\".5\" d=\"M142.8559,-39.6446C146.2627,-34.1937 150.3326,-27.6819 153.7304,-22.2453\"/>\n</g>\n<!-- 1267129484120220820&#45;&gt;&#45;5584377703474714926 -->\n</g>\n</svg>\n",
          "text/plain": "ProductionGraph(S -> a B)"
         },
         "metadata": {},
         "output_type": "display_data"
        }
       ]
      }
     },
     "de596e4d14d24e6780693d77f7a36f04": {
      "model_module": "@jupyter-widgets/base",
      "model_module_version": "1.1.0",
      "model_name": "LayoutModel",
      "state": {
       "height": "300px"
      }
     },
     "df7d3137d4c64736805841dce33f50eb": {
      "model_module": "@jupyter-widgets/controls",
      "model_module_version": "1.4.0",
      "model_name": "SliderStyleModel",
      "state": {
       "description_width": ""
      }
     },
     "e049b54cdf574dbbb20d6ce5b94b6e6b": {
      "model_module": "@jupyter-widgets/controls",
      "model_module_version": "1.4.0",
      "model_name": "SliderStyleModel",
      "state": {
       "description_width": ""
      }
     },
     "e5766da6770e49faa4d8acddeecb2dca": {
      "model_module": "@jupyter-widgets/base",
      "model_module_version": "1.1.0",
      "model_name": "LayoutModel",
      "state": {}
     },
     "ea05edc4653c4648a45a9c06bbe78d08": {
      "model_module": "@jupyter-widgets/base",
      "model_module_version": "1.1.0",
      "model_name": "LayoutModel",
      "state": {}
     },
     "eb76c0673d334483acac71bd70c505e7": {
      "model_module": "@jupyter-widgets/output",
      "model_module_version": "1.0.0",
      "model_name": "OutputModel",
      "state": {
       "layout": "IPY_MODEL_524fa8e7bf934a6ca583865b221055dc",
       "outputs": [
        {
         "data": {
          "image/svg+xml": "<?xml version=\"1.0\" encoding=\"UTF-8\" standalone=\"no\"?>\n<!DOCTYPE svg PUBLIC \"-//W3C//DTD SVG 1.1//EN\"\n \"http://www.w3.org/Graphics/SVG/1.1/DTD/svg11.dtd\">\n<!-- Generated by graphviz version 2.40.1 (20161225.0304)\n -->\n<!-- Title: %3 Pages: 1 -->\n<svg width=\"136pt\" height=\"30pt\"\n viewBox=\"0.00 0.00 135.65 30.00\" xmlns=\"http://www.w3.org/2000/svg\" xmlns:xlink=\"http://www.w3.org/1999/xlink\">\n<g id=\"graph0\" class=\"graph\" transform=\"scale(1 1) rotate(0) translate(4 26)\">\n<title>%3</title>\n<polygon fill=\"#ffffff\" stroke=\"transparent\" points=\"-4,4 -4,-26 131.6519,-26 131.6519,4 -4,4\"/>\n<!-- 159010387836870111 -->\n<!-- &#45;165964585024879612 -->\n<g id=\"node2\" class=\"node\">\n<title>&#45;165964585024879612</title>\n<path fill=\"none\" stroke=\"#000000\" stroke-width=\".25\" d=\"M122.3546,-22C122.3546,-22 117.1629,-22 117.1629,-22 114.5671,-22 111.9712,-19.4041 111.9712,-16.8083 111.9712,-16.8083 111.9712,-5.1917 111.9712,-5.1917 111.9712,-2.5959 114.5671,0 117.1629,0 117.1629,0 122.3546,0 122.3546,0 124.9505,0 127.5464,-2.5959 127.5464,-5.1917 127.5464,-5.1917 127.5464,-16.8083 127.5464,-16.8083 127.5464,-19.4041 124.9505,-22 122.3546,-22\"/>\n<text text-anchor=\"middle\" x=\"119.7588\" y=\"-6.8\" font-family=\"Times,serif\" font-size=\"14.00\" fill=\"#000000\">S</text>\n</g>\n</g>\n</svg>\n",
          "text/plain": "ProductionGraph(S)"
         },
         "metadata": {},
         "output_type": "display_data"
        }
       ]
      }
     },
     "ed2e180e0cc740caa313f4be6e23403a": {
      "model_module": "@jupyter-widgets/base",
      "model_module_version": "1.1.0",
      "model_name": "LayoutModel",
      "state": {}
     },
     "ed458d2a6b0a462a86e340c077552b0b": {
      "model_module": "@jupyter-widgets/controls",
      "model_module_version": "1.4.0",
      "model_name": "VBoxModel",
      "state": {
       "_dom_classes": [
        "widget-interact"
       ],
       "children": [
        "IPY_MODEL_264792f7942b4817b3e079e64b081b88",
        "IPY_MODEL_07b3c1779d6d4010a6b7474fadd7e55a"
       ],
       "layout": "IPY_MODEL_5b32b0a6e38f4ff2ade3df6d7a9d500a"
      }
     },
     "ee8e508b4bbe41b7ad9912ba9847d0c0": {
      "model_module": "@jupyter-widgets/controls",
      "model_module_version": "1.4.0",
      "model_name": "VBoxModel",
      "state": {
       "_dom_classes": [
        "widget-interact"
       ],
       "children": [
        "IPY_MODEL_983d3d74031e4c4ebb69a335fea01536",
        "IPY_MODEL_00639bf26fa54e068990aac7c3bb7b14"
       ],
       "layout": "IPY_MODEL_1db99598bb8e4366a9454e5719aeacc6"
      }
     },
     "efe144c82f2b4662bcfd5ccd8607f0d8": {
      "model_module": "@jupyter-widgets/base",
      "model_module_version": "1.1.0",
      "model_name": "LayoutModel",
      "state": {}
     },
     "f097bbcb7afc4c6ea601e987b721e3a5": {
      "model_module": "@jupyter-widgets/base",
      "model_module_version": "1.1.0",
      "model_name": "LayoutModel",
      "state": {}
     },
     "f533c479a5404174be31a89dc411c953": {
      "model_module": "@jupyter-widgets/base",
      "model_module_version": "1.1.0",
      "model_name": "LayoutModel",
      "state": {}
     },
     "f65326480a56464b861922b8e92d666b": {
      "model_module": "@jupyter-widgets/controls",
      "model_module_version": "1.4.0",
      "model_name": "SliderStyleModel",
      "state": {
       "description_width": ""
      }
     },
     "ffdf66b977ca472882ba95adfe41e9e2": {
      "model_module": "@jupyter-widgets/controls",
      "model_module_version": "1.4.0",
      "model_name": "VBoxModel",
      "state": {
       "_dom_classes": [
        "widget-interact"
       ],
       "children": [
        "IPY_MODEL_497d9cee20a044648cf9f8ae4c9dc886",
        "IPY_MODEL_7184e5147c1d489e8c7800c257df74bf"
       ],
       "layout": "IPY_MODEL_78955925bd4d419fb6561856ee6780bb"
      }
     }
    },
    "version_major": 2,
    "version_minor": 0
   }
  }
 },
 "nbformat": 4,
 "nbformat_minor": 2
}
