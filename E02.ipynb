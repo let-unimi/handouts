{
 "cells": [
  {
   "cell_type": "markdown",
   "metadata": {},
   "source": [
    "# Visitare il grafo (implicito) della distanza di Levenshtein\n",
    "\n",
    "La [distanza di Levenshtein](https://www.wikiwand.com/en/Levenshtein_distance), che denoteremo con $d_L(u, v)$, è una misura di *distanza* tra parole che (informalmente) misura quante \"operazioni\" di modifica (aggiunta, eliminazione o sostituzione di un carattere) si devono applicare a $u$ per renderla uguale a $w$.\n",
    "\n",
    "Tale distanza permette di definire il grafo non orientato $G_d = (W, D)$ dove l'insieme dei vertici $W$ è un insieme (finito) di parole (ad esempio quelle della lingua italiana, usate nell'ultimo esempio della seconda lezione) e $\\{u, w\\}\\in 2^W$ è un lato in $D$ se e solo se $d_L(u, v) \\leq d$. \n",
    "\n",
    "Chiameremo $\\Gamma_d$ la funzione che associa a ciascuna parola l'insieme di quelle essa adiacenti su $G_d$, detto altrimenti: $\\Gamma_d(u) = \\{ w \\in W \\mid d_L(u, w) \\leq d\\}$. Osservate che tale funzione può essere facilmente implementata (in modo assai poco efficiente) a partire da una implementazione `d_L` della funzione $d_L$, ad esempio tramite la *set comprehension* `{w for w in W if d_L(w) <= d}`.\n",
    "\n",
    "Il caso $d = 1$ è particolarmente interessante: un cammino tra due parole in $G_1$ indica la possibilità di trasformare la sorgente nella destinazione attraverso una successione di modifiche di un carattere alla volta; se $W$ è l'insieme delle parole della lingua italiana, un esempio di cammino su tale grafo è dato da: `UNO`, `UNGO`, `FUNGO`, `LUNGO`, `LUOGO` che trasforma `UNO` in `LUOGO`.\n",
    "\n",
    "Osservate che, fissato $d = 1$, è possibile dare una implementazione assai più efficiente del calcolo di $\\Gamma_1(u)$: basta calcolare tutte le parole ottenibili modificando $u$ e scartare quelle che non sono in $W$. Questo fatto consente di dare una rappresentazione *implicita* di $G_1$ molto compatta basata sull'insieme $W$ e sulla funzione $\\Gamma_1$, piuttosto che sull'insieme $D$ che potrebbe avere dimensioni estremamente grandi!\n",
    "\n",
    "Utilizzando il codice e i concetti esposti nella seconda lezione:\n",
    "\n",
    "* scaricate l'insieme di parole della lingua italiana dalla rete;\n",
    "* definite la funzione $\\Gamma_1$ (rispetto a tale insieme);\n",
    "* scrivete un algoritmo di visita in ampiezza del grafo $G_1$ basato su tale funzione;\n",
    "* utilizzando tale visita, scrivete una funzione che, date due parole $u$ e $w$, restituisca (se esiste) il cammino di lunghezza minima che trasforma $u$ in $w$ (o `None` se tale cammino non esiste)."
   ]
  },
  {
   "cell_type": "markdown",
   "metadata": {},
   "source": []
  }
 ],
 "metadata": {
  "interpreter": {
   "hash": "e1004562009730290f42c30a7c24060925c35420ba84516473ad07a3f1950c5d"
  },
  "kernelspec": {
   "display_name": "Python 3 (ipykernel)",
   "language": "python",
   "name": "python3"
  },
  "language_info": {
   "codemirror_mode": {
    "name": "ipython",
    "version": 3
   },
   "file_extension": ".py",
   "mimetype": "text/x-python",
   "name": "python",
   "nbconvert_exporter": "python",
   "pygments_lexer": "ipython3",
   "version": "3.8.10"
  }
 },
 "nbformat": 4,
 "nbformat_minor": 2
}
