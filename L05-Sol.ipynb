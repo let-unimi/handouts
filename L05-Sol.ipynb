{
  "cells": [
    {
      "cell_type": "markdown",
      "metadata": {},
      "source": [
        "# Implementazione di closure"
      ]
    },
    {
      "cell_type": "code",
      "execution_count": null,
      "metadata": {},
      "outputs": [],
      "source": [
        "from copy import deepcopy\n",
        "from functools import wraps\n",
        "\n",
        "# assumiamo che f abbia solo argomenti posizionali, di cui il primo sia \n",
        "# quello su cui opera e che ad un certo punto sarà tale per cui f(x, …) = x\n",
        "\n",
        "def my_closure(f):\n",
        "    @wraps(f) # a cosa serve wraps? controllate la documentazione…\n",
        "    def _closure(*args):\n",
        "        s, *other = args\n",
        "        while True:\n",
        "            n = f(deepcopy(s), *other) # perché viene fatta una deep-copy del primo argomento?\n",
        "            if n == s: return s\n",
        "            s = n\n",
        "    return _closure"
      ]
    },
    {
      "cell_type": "code",
      "execution_count": null,
      "metadata": {},
      "outputs": [],
      "source": [
        "@my_closure\n",
        "def add_smaller(S):\n",
        "    return S | {x - 1 for x in S if x > 0}"
      ]
    },
    {
      "cell_type": "code",
      "execution_count": null,
      "metadata": {},
      "outputs": [
        {
          "data": {
            "text/plain": [
              "{0, 1, 2, 3, 4, 5}"
            ]
          },
          "execution_count": 3,
          "metadata": {},
          "output_type": "execute_result"
        }
      ],
      "source": [
        "add_smaller({3, 5})"
      ]
    },
    {
      "cell_type": "markdown",
      "metadata": {},
      "source": [
        "# Implementazione di clean"
      ]
    },
    {
      "cell_type": "code",
      "execution_count": null,
      "metadata": {},
      "outputs": [],
      "source": [
        "# Dall'handout della lezione…\n",
        "\n",
        "from liblet import Grammar \n",
        "\n",
        "@my_closure\n",
        "def productive(prod, G):\n",
        "    for P in G.P:\n",
        "        if set(P.rhs) <= prod: prod |= {P.lhs}\n",
        "    return prod\n",
        "\n",
        "@my_closure\n",
        "def reachable(reach, G):\n",
        "    for P in G.P:\n",
        "        if P.lhs in reach: reach |= set(P.rhs)\n",
        "    return reach"
      ]
    },
    {
      "cell_type": "code",
      "execution_count": null,
      "metadata": {},
      "outputs": [],
      "source": [
        "def clean(G, good):\n",
        "    return Grammar(\n",
        "        G.N & good, \n",
        "        G.T & good, \n",
        "        (P for P in G.P if ({P.lhs} | set(P.rhs)) <= good), \n",
        "        G.S\n",
        "    )"
      ]
    },
    {
      "cell_type": "code",
      "execution_count": null,
      "metadata": {},
      "outputs": [],
      "source": [
        "G_small = Grammar.from_string(\"\"\"\n",
        "S -> A | a\n",
        "A -> A B\n",
        "B -> a\n",
        "C -> a\n",
        "B -> x\n",
        "\"\"\")"
      ]
    },
    {
      "cell_type": "code",
      "execution_count": null,
      "metadata": {},
      "outputs": [
        {
          "data": {
            "text/plain": [
              "Grammar(N={A, B, S}, T={a}, P=(S -> A, S -> a, A -> A B, B -> a), S=S)"
            ]
          },
          "execution_count": 7,
          "metadata": {},
          "output_type": "execute_result"
        }
      ],
      "source": [
        "clean(G_small, {'A', 'B', 'S', 'a'})"
      ]
    },
    {
      "cell_type": "markdown",
      "metadata": {},
      "source": [
        "# L'ordine è importante!"
      ]
    },
    {
      "cell_type": "code",
      "execution_count": null,
      "metadata": {},
      "outputs": [
        {
          "data": {
            "text/plain": [
              "Grammar(N={A, B, C, D, E, F, S}, T={a, b, c, d, e, f}, P=(S -> A B, S -> D E, A -> a, B -> b C, C -> c, D -> d F, E -> e, F -> f D), S=S)"
            ]
          },
          "execution_count": 8,
          "metadata": {},
          "output_type": "execute_result"
        }
      ],
      "source": [
        "# fig 2.27, pag. 49\n",
        "\n",
        "G = Grammar.from_string(\"\"\"\n",
        "S -> A B | D E\n",
        "A -> a\n",
        "B -> b C\n",
        "C -> c\n",
        "D -> d F \n",
        "E -> e \n",
        "F -> f D\n",
        "\"\"\")\n",
        "G"
      ]
    },
    {
      "cell_type": "code",
      "execution_count": null,
      "metadata": {},
      "outputs": [],
      "source": [
        "G0 = clean(G, productive(G.T, G))\n",
        "G1 = clean(G0, reachable({G0.S}, G0))\n",
        "\n",
        "G2 = clean(G, reachable({G.S}, G))\n",
        "G3 = clean(G2, productive(G2.T, G2))"
      ]
    },
    {
      "cell_type": "code",
      "execution_count": null,
      "metadata": {},
      "outputs": [
        {
          "data": {
            "text/plain": [
              "(Grammar(N={A, B, C, S}, T={a, b, c}, P=(S -> A B, A -> a, B -> b C, C -> c), S=S),\n",
              " Grammar(N={A, B, C, E, S}, T={a, b, c, d, e, f}, P=(S -> A B, A -> a, B -> b C, C -> c, E -> e), S=S))"
            ]
          },
          "execution_count": 10,
          "metadata": {},
          "output_type": "execute_result"
        }
      ],
      "source": [
        "G1, G3"
      ]
    },
    {
      "cell_type": "markdown",
      "metadata": {},
      "source": [
        "# Grammatiche per ww^R e ww\n",
        "\n",
        "La prima è davvero ovvia: $S\\to aa | bb | aSa | bSb$, la seconda la trovate \n",
        "in un mio [gist](https://nbviewer.jupyter.org/gist/mapio/c5fe89f55cb6499a743f912b5e53198b) dell'anno scorso.\n",
        "        "
      ]
    }
  ],
  "metadata": {
    "kernelspec": {
      "display_name": "Python 3",
      "language": "python",
      "name": "python3"
    },
    "language_info": {
      "codemirror_mode": {
        "name": "ipython",
        "version": 3
      },
      "file_extension": ".py",
      "mimetype": "text/x-python",
      "name": "python",
      "nbconvert_exporter": "python",
      "pygments_lexer": "ipython3"
    }
  },
  "nbformat": 4,
  "nbformat_minor": 4
}
