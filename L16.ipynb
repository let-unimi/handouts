{
  "cells": [
    {
      "cell_type": "markdown",
      "metadata": {},
      "source": [
        "# Parsing top-down (caso deterministico)"
      ]
    },
    {
      "cell_type": "code",
      "execution_count": null,
      "metadata": {},
      "outputs": [],
      "source": [
        "from liblet import (\n",
        "    Grammar, \n",
        "    Derivation,\n",
        "    ProductionGraph, \n",
        "    Stack, \n",
        "    Table, \n",
        "    closure, \n",
        "    warn\n",
        ")\n",
        "\n",
        "from L15 import suffixes, compute_εfirst"
      ]
    },
    {
      "cell_type": "markdown",
      "metadata": {},
      "source": [
        "Come osservato nella lezione precedente, data una derivazione parziale $S\\#\\overset{*}{\\to}xA\\gamma\\#$ (ossia avendo in pila $\\#\\gamma A$) della parola $xay$ (di cui resta quindi da esaminare $ay$), si pone il problema di decidere quale alternativa $A \\to \\alpha_1 | \\alpha_2 | \\dots | \\alpha_k$ scegliere.\n",
        "\n",
        "Se $a$ appartenesse ad uno solo $\\operatorname{FIRST}(\\alpha_i\\gamma\\#)$ (per un assegnato $1\\leq i\\leq k$) la scelta non potrebbe che ricadere su $A\\to\\alpha_i$, ma ci sono due problemi in questo approccio:\n",
        "\n",
        "* l'*unicità*: dobbiamo restringerci a $\\operatorname{LL}(1)$ per poterla garantire;\n",
        "* il *calcolo* di $\\operatorname{FIRST}(\\alpha_i\\gamma\\#)$: sebbene gli $\\alpha_i$ siano noti e in un numero finito, non lo sono i $\\gamma$, quindi in generale non basta una precomputazione!\n",
        "\n",
        "Come abbiamo visto, il secondo problema è molto facile da risolvere se la grammatica non contiene ε-produzioni: in tal caso $\\operatorname{FIRST}(\\alpha_i\\gamma\\#) = \\operatorname{FIRST}(\\alpha_i) = \\operatorname{FIRST}(X)$, dove $X$ è il primo simbolo di $\\alpha_i$ e considerando che $\\alpha_i$ non è *trasparente* (ossia $\\alpha_i\\overset{*}{\\to}\\varepsilon$).\n",
        "\n",
        "Ma come scegliere se $\\alpha_i$ è trasparente? Se $a$ appartenesse ad uno solo degli insiemi„\n",
        "$$\n",
        "\\bigcup_{\\gamma : S\\#\\overset{*}{\\to}x \\alpha_i\\gamma\\#} \\operatorname{FIRST}(\\alpha_i\\gamma\\#) $$\n",
        "(per un assegnato $1\\leq i\\leq k$), di nuovo la scelta non potrebbe che ricadere su $A\\to\\alpha_i$. La decisione può essere presa considerando l'insieme\n",
        "$$\n",
        "\\bigcup_{\\gamma : S\\overset{*}{\\to}x A\\gamma\\#} \\operatorname{FIRST}(\\gamma\\#) = \n",
        "\\operatorname{FOLLOW}(A) = \\{t \\in T | S\\#\\overset{*}{\\to}x A\\gamma\\# \\overset{*}{\\to}x A t \\gamma' \\}\n",
        "$$\n",
        "dei terminali che seguono immediatamente $A$ in una qualunque derivazione. \n",
        "\n",
        "Mettendo le cose assieme, data la pila $(A, a)$ e la restante parola $ay$, può essere scelta l'alternativa $A\\to\\alpha$ a patto che sia l'*unica* tra tutte quelle di $A$ per cui:\n",
        "\n",
        "* $\\alpha$ non è trasparente e $a\\in \\operatorname{FIRST}(\\alpha)$, \n",
        "* oppure $a\\in \\operatorname{FOLLOW}(A)$.\n",
        "\n",
        "## Strong LL(1)\n",
        "\n",
        "L'insieme $\\operatorname{FOLLOW}$ può essere precomputato, attraverso una chiusura, come segue:"
      ]
    },
    {
      "cell_type": "code",
      "execution_count": null,
      "metadata": {},
      "outputs": [],
      "source": [
        "def compute_follow(G, FIRST):\n",
        "    \n",
        "    FOLLOW = Table(1, set)\n",
        "    FOLLOW[G.S] |= {'#'}\n",
        "    \n",
        "    @closure\n",
        "    def complete_follow(FOLLOW):\n",
        "        for X, ω in G.P:\n",
        "            for γ in suffixes(ω): # X -> α A β (α è mangiato dal suffisso)\n",
        "                A, *β = γ\n",
        "                if A not in G.N: continue\n",
        "                FOLLOW[A] |= FIRST[β] - {'ε'}\n",
        "                if 'ε' in FIRST[β]: FOLLOW[A] |= FOLLOW[X]\n",
        "        return FOLLOW\n",
        "    \n",
        "    return complete_follow(FOLLOW)"
      ]
    },
    {
      "cell_type": "markdown",
      "metadata": {},
      "source": [
        "L'osservazione cruciale è che, dato $X\\to\\alpha A \\beta$, si ha che \n",
        "$\\operatorname{FOLLOW}(A)$ contiene sia $\\operatorname{FIRST}(\\beta)$ (tolto eventualmente $\\varepsilon$) che $\\operatorname{FOLLOW}(X)$ se $\\beta\\overset{*}{\\to}\\varepsilon$; infatti se $S\\#\\overset{*}{\\to}x X\\gamma\\to x\\alpha A \\beta\\gamma\\# \\overset{*}{\\to} x\\alpha A\\gamma\\#$ quindi quel che segue $X$ segiurà anche $A$.\n",
        "\n",
        "Proviamo ad usare una la grammatica dell'ultima lezione per fare un esempio."
      ]
    },
    {
      "cell_type": "code",
      "execution_count": null,
      "metadata": {},
      "outputs": [],
      "source": [
        "# fig. 8.9, pag. 242\n",
        "\n",
        "G = Grammar.from_string(\"\"\"\n",
        "Session -> Facts Question | ( Session ) Session\n",
        "Facts -> Fact Facts | ε\n",
        "Fact -> ! STRING\n",
        "Question -> ? STRING\n",
        "\"\"\")"
      ]
    },
    {
      "cell_type": "code",
      "execution_count": null,
      "metadata": {},
      "outputs": [
        {
          "data": {
            "text/html": [
              "<style>td, th {border: 1pt solid lightgray !important; text-align: left !important;}</style><table><tr><th><pre>(Session)</pre><td><pre>!, (, ?</pre>\n",
              "<tr><th><pre>(Facts)</pre><td><pre>!, ε</pre>\n",
              "<tr><th><pre>(Question)</pre><td><pre>?</pre>\n",
              "<tr><th><pre>(Fact)</pre><td><pre>!</pre></table>"
            ],
            "text/plain": [
              "<liblet.utils.Table at 0x10e5e43d0>"
            ]
          },
          "execution_count": 4,
          "metadata": {},
          "output_type": "execute_result"
        }
      ],
      "source": [
        "FIRST = compute_εfirst(G)\n",
        "FIRST.restrict_to({(N, ) for N in G.N})"
      ]
    },
    {
      "cell_type": "code",
      "execution_count": null,
      "metadata": {},
      "outputs": [
        {
          "data": {
            "text/html": [
              "<style>td, th {border: 1pt solid lightgray !important; text-align: left !important;}</style><table><tr><th><pre>Session</pre><td><pre>#, )</pre>\n",
              "<tr><th><pre>Facts</pre><td><pre>?</pre>\n",
              "<tr><th><pre>Question</pre><td><pre>#, )</pre>\n",
              "<tr><th><pre>Fact</pre><td><pre>!, ?</pre></table>"
            ],
            "text/plain": [
              "<liblet.utils.Table at 0x10e5eccd0>"
            ]
          },
          "execution_count": 5,
          "metadata": {},
          "output_type": "execute_result"
        }
      ],
      "source": [
        "FOLLOW = compute_follow(G, FIRST)\n",
        "FOLLOW"
      ]
    },
    {
      "cell_type": "markdown",
      "metadata": {},
      "source": [
        "Ora è possibile precomputare una vera e propria tabella, per ciascuna produzione $A\\to\\alpha$ tenendo traccia dei conflitti tra $\\operatorname{FIRST}$ e $\\operatorname{FOLLOW}$"
      ]
    },
    {
      "cell_type": "code",
      "execution_count": null,
      "metadata": {},
      "outputs": [],
      "source": [
        "def compute_table(G, FIRST, FOLLOW):\n",
        "    \n",
        "    TABLE = Table(2)\n",
        "    FIRST_TABLE = Table(2)\n",
        "    FOLLOW_TABLE = Table(2)\n",
        "\n",
        "    for P in G.P:\n",
        "        A, α = P\n",
        "        for a in FIRST[α] - {'ε'}:\n",
        "            if FIRST_TABLE[A, a] is not None:\n",
        "                warn('First/first conflict on ({}, {}) for production {}'.format(A, a, P))\n",
        "            else:\n",
        "                FIRST_TABLE[A, a] = P\n",
        "                TABLE[A, a] = P\n",
        "        if 'ε' in FIRST[α]:\n",
        "            for a in FOLLOW[A]:\n",
        "                if FIRST_TABLE[A, a] is not None:\n",
        "                    warn('First/follow conflict on ({}, {}) for production {}'.format(A, a, P))\n",
        "                if FOLLOW_TABLE[A, a] is not None:\n",
        "                    warn('Follow/follow conflict on ({}, {}) for production {}'.format(A, a, P))\n",
        "                if FIRST_TABLE[A, a] is None and FOLLOW_TABLE[A, a] is None:\n",
        "                    FOLLOW_TABLE[A, a] = P\n",
        "                    TABLE[A, a] = P\n",
        "    return TABLE"
      ]
    },
    {
      "cell_type": "markdown",
      "metadata": {},
      "source": [
        "Possiamo costruire la tabella per la grammatica dell'esempio precedente"
      ]
    },
    {
      "cell_type": "code",
      "execution_count": null,
      "metadata": {},
      "outputs": [
        {
          "data": {
            "text/html": [
              "<style>td, th {border: 1pt solid lightgray !important; text-align: left !important;}</style><table><tr><td>&nbsp;<th><pre>?</pre><th><pre>!</pre><th><pre>(</pre>\n",
              "<tr><th><pre>Session<pre><td><pre>Session -> Facts Question</pre><td><pre>Session -> Facts Question</pre><td><pre>Session -> ( Session ) Session</pre>\n",
              "<tr><th><pre>Facts<pre><td><pre>Facts -> ε</pre><td><pre>Facts -> Fact Facts</pre><td>&nbsp;\n",
              "<tr><th><pre>Fact<pre><td>&nbsp;<td><pre>Fact -> ! STRING</pre><td>&nbsp;\n",
              "<tr><th><pre>Question<pre><td><pre>Question -> ? STRING</pre><td>&nbsp;<td>&nbsp;\n",
              "</table>"
            ],
            "text/plain": [
              "<liblet.utils.Table at 0x10e5ec090>"
            ]
          },
          "execution_count": 7,
          "metadata": {},
          "output_type": "execute_result"
        }
      ],
      "source": [
        "TABLE = compute_table(G, FIRST, FOLLOW)\n",
        "TABLE"
      ]
    },
    {
      "cell_type": "markdown",
      "metadata": {},
      "source": [
        "La costruzione della parser *strong* è molto simile a quella *full* della precedente lezione, ma ora la tabella è una vera e propria tabella e basta consultarla per la coppia $(A, a)$, non c'è bisogno di guardare tutta la pila!"
      ]
    },
    {
      "cell_type": "code",
      "execution_count": null,
      "metadata": {},
      "outputs": [],
      "source": [
        "def parse(G, TABLE, INPUT):\n",
        "    deriv = Derivation(G)\n",
        "    rest = tuple(INPUT) + ('#', )\n",
        "    stack = Stack(['#', G.S])\n",
        "    while stack:\n",
        "        top = stack.pop()\n",
        "        if top == 'ε': continue\n",
        "        first, *other = rest\n",
        "        if top in G.T | {'#'}:\n",
        "            if first == top: \n",
        "                rest = other\n",
        "            else:\n",
        "                warn('Expecting {}, got {}.'.format(top, rest[0]))\n",
        "                return None\n",
        "        else:\n",
        "            P = TABLE[top, first]\n",
        "            if P is None:\n",
        "                warn('No prediction for ({}, {}) at {}.'.format(top, first, deriv) )\n",
        "                return None                 \n",
        "            deriv = deriv.leftmost(P)\n",
        "            for X in reversed(P.rhs): stack.push(X)\n",
        "    return deriv"
      ]
    },
    {
      "cell_type": "markdown",
      "metadata": {},
      "source": [
        "Facciamo un esempio sulla solita grammatica"
      ]
    },
    {
      "cell_type": "code",
      "execution_count": null,
      "metadata": {},
      "outputs": [
        {
          "data": {
            "image/svg+xml": [
              "<?xml version=\"1.0\" encoding=\"UTF-8\" standalone=\"no\"?>\n",
              "<!DOCTYPE svg PUBLIC \"-//W3C//DTD SVG 1.1//EN\"\n",
              " \"http://www.w3.org/Graphics/SVG/1.1/DTD/svg11.dtd\">\n",
              "<!-- Generated by graphviz version 2.43.0 (0)\n",
              " -->\n",
              "<!-- Title: %3 Pages: 1 -->\n",
              "<svg width=\"267pt\" height=\"190pt\"\n",
              " viewBox=\"0.00 0.00 266.61 190.00\" xmlns=\"http://www.w3.org/2000/svg\" xmlns:xlink=\"http://www.w3.org/1999/xlink\">\n",
              "<g id=\"graph0\" class=\"graph\" transform=\"scale(1 1) rotate(0) translate(4 186)\">\n",
              "<title>%3</title>\n",
              "<polygon fill=\"white\" stroke=\"transparent\" points=\"-4,4 -4,-186 262.61,-186 262.61,4 -4,4\"/>\n",
              "<!-- 7849864440392622007 -->\n",
              "<g id=\"node1\" class=\"node\">\n",
              "<title>7849864440392622007</title>\n",
              "<path fill=\"none\" stroke=\"black\" stroke-width=\"0.25\" d=\"M165.28,-182C165.28,-182 129.38,-182 129.38,-182 125.71,-182 122.04,-178.33 122.04,-174.67 122.04,-174.67 122.04,-167.33 122.04,-167.33 122.04,-163.67 125.71,-160 129.38,-160 129.38,-160 165.28,-160 165.28,-160 168.95,-160 172.62,-163.67 172.62,-167.33 172.62,-167.33 172.62,-174.67 172.62,-174.67 172.62,-178.33 168.95,-182 165.28,-182\"/>\n",
              "<text text-anchor=\"middle\" x=\"147.33\" y=\"-166.8\" font-family=\"Times,serif\" font-size=\"14.00\">Session</text>\n",
              "</g>\n",
              "<!-- 6830750414466627146 -->\n",
              "<g id=\"node2\" class=\"node\">\n",
              "<title>6830750414466627146</title>\n",
              "<path fill=\"none\" stroke=\"black\" stroke-width=\"0.25\" d=\"M125.55,-142C125.55,-142 103.11,-142 103.11,-142 99.44,-142 95.78,-138.33 95.78,-134.67 95.78,-134.67 95.78,-127.33 95.78,-127.33 95.78,-123.67 99.44,-120 103.11,-120 103.11,-120 125.55,-120 125.55,-120 129.22,-120 132.89,-123.67 132.89,-127.33 132.89,-127.33 132.89,-134.67 132.89,-134.67 132.89,-138.33 129.22,-142 125.55,-142\"/>\n",
              "<text text-anchor=\"middle\" x=\"114.33\" y=\"-126.8\" font-family=\"Times,serif\" font-size=\"14.00\">Facts</text>\n",
              "</g>\n",
              "<!-- 7849864440392622007&#45;&gt;6830750414466627146 -->\n",
              "<g id=\"edge1\" class=\"edge\">\n",
              "<title>7849864440392622007&#45;&gt;6830750414466627146</title>\n",
              "<path fill=\"none\" stroke=\"black\" stroke-width=\"0.5\" d=\"M138.31,-159.62C133.58,-154.17 127.81,-147.52 123.11,-142.11\"/>\n",
              "</g>\n",
              "<!-- 7199367022731487468 -->\n",
              "<g id=\"node3\" class=\"node\">\n",
              "<title>7199367022731487468</title>\n",
              "<path fill=\"none\" stroke=\"black\" stroke-width=\"0.25\" d=\"M202.05,-142C202.05,-142 158.61,-142 158.61,-142 154.94,-142 151.28,-138.33 151.28,-134.67 151.28,-134.67 151.28,-127.33 151.28,-127.33 151.28,-123.67 154.94,-120 158.61,-120 158.61,-120 202.05,-120 202.05,-120 205.72,-120 209.38,-123.67 209.38,-127.33 209.38,-127.33 209.38,-134.67 209.38,-134.67 209.38,-138.33 205.72,-142 202.05,-142\"/>\n",
              "<text text-anchor=\"middle\" x=\"180.33\" y=\"-126.8\" font-family=\"Times,serif\" font-size=\"14.00\">Question</text>\n",
              "</g>\n",
              "<!-- 7849864440392622007&#45;&gt;7199367022731487468 -->\n",
              "<g id=\"edge2\" class=\"edge\">\n",
              "<title>7849864440392622007&#45;&gt;7199367022731487468</title>\n",
              "<path fill=\"none\" stroke=\"black\" stroke-width=\"0.5\" d=\"M156.35,-159.62C161.08,-154.17 166.86,-147.52 171.55,-142.11\"/>\n",
              "</g>\n",
              "<!-- 6830750414466627146&#45;&gt;7199367022731487468 -->\n",
              "<!-- 227809240548218953 -->\n",
              "<g id=\"node4\" class=\"node\">\n",
              "<title>227809240548218953</title>\n",
              "<path fill=\"none\" stroke=\"black\" stroke-width=\"0.25\" d=\"M74.1,-102C74.1,-102 56.56,-102 56.56,-102 52.89,-102 49.23,-98.33 49.23,-94.67 49.23,-94.67 49.23,-87.33 49.23,-87.33 49.23,-83.67 52.89,-80 56.56,-80 56.56,-80 74.1,-80 74.1,-80 77.77,-80 81.43,-83.67 81.43,-87.33 81.43,-87.33 81.43,-94.67 81.43,-94.67 81.43,-98.33 77.77,-102 74.1,-102\"/>\n",
              "<text text-anchor=\"middle\" x=\"65.33\" y=\"-86.8\" font-family=\"Times,serif\" font-size=\"14.00\">Fact</text>\n",
              "</g>\n",
              "<!-- 6830750414466627146&#45;&gt;227809240548218953 -->\n",
              "<g id=\"edge4\" class=\"edge\">\n",
              "<title>6830750414466627146&#45;&gt;227809240548218953</title>\n",
              "<path fill=\"none\" stroke=\"black\" stroke-width=\"0.5\" d=\"M101.2,-119.82C94.17,-114.36 85.53,-107.67 78.5,-102.21\"/>\n",
              "</g>\n",
              "<!-- 6830751675664791018 -->\n",
              "<g id=\"node5\" class=\"node\">\n",
              "<title>6830751675664791018</title>\n",
              "<path fill=\"none\" stroke=\"black\" stroke-width=\"0.25\" d=\"M131.55,-102C131.55,-102 109.11,-102 109.11,-102 105.44,-102 101.78,-98.33 101.78,-94.67 101.78,-94.67 101.78,-87.33 101.78,-87.33 101.78,-83.67 105.44,-80 109.11,-80 109.11,-80 131.55,-80 131.55,-80 135.22,-80 138.89,-83.67 138.89,-87.33 138.89,-87.33 138.89,-94.67 138.89,-94.67 138.89,-98.33 135.22,-102 131.55,-102\"/>\n",
              "<text text-anchor=\"middle\" x=\"120.33\" y=\"-86.8\" font-family=\"Times,serif\" font-size=\"14.00\">Facts</text>\n",
              "</g>\n",
              "<!-- 6830750414466627146&#45;&gt;6830751675664791018 -->\n",
              "<g id=\"edge5\" class=\"edge\">\n",
              "<title>6830750414466627146&#45;&gt;6830751675664791018</title>\n",
              "<path fill=\"none\" stroke=\"black\" stroke-width=\"0.5\" d=\"M115.97,-119.62C116.83,-114.17 117.88,-107.52 118.73,-102.11\"/>\n",
              "</g>\n",
              "<!-- &#45;2586634679366126284 -->\n",
              "<g id=\"node13\" class=\"node\">\n",
              "<title>&#45;2586634679366126284</title>\n",
              "<path fill=\"none\" stroke=\"black\" stroke-width=\"1.25\" d=\"M177.74,-102C177.74,-102 172.93,-102 172.93,-102 170.52,-102 168.12,-99.59 168.12,-97.19 168.12,-97.19 168.12,-84.81 168.12,-84.81 168.12,-82.41 170.52,-80 172.93,-80 172.93,-80 177.74,-80 177.74,-80 180.14,-80 182.55,-82.41 182.55,-84.81 182.55,-84.81 182.55,-97.19 182.55,-97.19 182.55,-99.59 180.14,-102 177.74,-102\"/>\n",
              "<text text-anchor=\"middle\" x=\"175.33\" y=\"-86.8\" font-family=\"Times,serif\" font-size=\"14.00\">?</text>\n",
              "</g>\n",
              "<!-- 7199367022731487468&#45;&gt;&#45;2586634679366126284 -->\n",
              "<g id=\"edge17\" class=\"edge\">\n",
              "<title>7199367022731487468&#45;&gt;&#45;2586634679366126284</title>\n",
              "<path fill=\"none\" stroke=\"black\" stroke-width=\"0.5\" d=\"M178.96,-119.62C178.25,-114.17 177.37,-107.52 176.66,-102.11\"/>\n",
              "</g>\n",
              "<!-- &#45;4984647604912933194 -->\n",
              "<g id=\"node14\" class=\"node\">\n",
              "<title>&#45;4984647604912933194</title>\n",
              "<path fill=\"none\" stroke=\"black\" stroke-width=\"1.25\" d=\"M251.06,-102C251.06,-102 207.6,-102 207.6,-102 203.94,-102 200.27,-98.33 200.27,-94.67 200.27,-94.67 200.27,-87.33 200.27,-87.33 200.27,-83.67 203.94,-80 207.6,-80 207.6,-80 251.06,-80 251.06,-80 254.72,-80 258.39,-83.67 258.39,-87.33 258.39,-87.33 258.39,-94.67 258.39,-94.67 258.39,-98.33 254.72,-102 251.06,-102\"/>\n",
              "<text text-anchor=\"middle\" x=\"229.33\" y=\"-86.8\" font-family=\"Times,serif\" font-size=\"14.00\">STRING</text>\n",
              "</g>\n",
              "<!-- 7199367022731487468&#45;&gt;&#45;4984647604912933194 -->\n",
              "<g id=\"edge18\" class=\"edge\">\n",
              "<title>7199367022731487468&#45;&gt;&#45;4984647604912933194</title>\n",
              "<path fill=\"none\" stroke=\"black\" stroke-width=\"0.5\" d=\"M193.46,-119.82C200.49,-114.36 209.13,-107.67 216.16,-102.21\"/>\n",
              "</g>\n",
              "<!-- 227809240548218953&#45;&gt;6830751675664791018 -->\n",
              "<!-- 1875479752173583235 -->\n",
              "<g id=\"node6\" class=\"node\">\n",
              "<title>1875479752173583235</title>\n",
              "<path fill=\"none\" stroke=\"black\" stroke-width=\"1.25\" d=\"M8.39,-62C8.39,-62 4.28,-62 4.28,-62 2.22,-62 0.16,-59.94 0.16,-57.89 0.16,-57.89 0.16,-44.11 0.16,-44.11 0.16,-42.06 2.22,-40 4.28,-40 4.28,-40 8.39,-40 8.39,-40 10.44,-40 12.5,-42.06 12.5,-44.11 12.5,-44.11 12.5,-57.89 12.5,-57.89 12.5,-59.94 10.44,-62 8.39,-62\"/>\n",
              "<text text-anchor=\"middle\" x=\"6.33\" y=\"-46.8\" font-family=\"Times,serif\" font-size=\"14.00\">!</text>\n",
              "</g>\n",
              "<!-- 227809240548218953&#45;&gt;1875479752173583235 -->\n",
              "<g id=\"edge7\" class=\"edge\">\n",
              "<title>227809240548218953&#45;&gt;1875479752173583235</title>\n",
              "<path fill=\"none\" stroke=\"black\" stroke-width=\"0.5\" d=\"M49.52,-79.82C37.37,-71.99 21.24,-61.6 12.53,-55.99\"/>\n",
              "</g>\n",
              "<!-- &#45;4984652649700928486 -->\n",
              "<g id=\"node7\" class=\"node\">\n",
              "<title>&#45;4984652649700928486</title>\n",
              "<path fill=\"none\" stroke=\"black\" stroke-width=\"1.25\" d=\"M82.06,-62C82.06,-62 38.6,-62 38.6,-62 34.94,-62 31.27,-58.33 31.27,-54.67 31.27,-54.67 31.27,-47.33 31.27,-47.33 31.27,-43.67 34.94,-40 38.6,-40 38.6,-40 82.06,-40 82.06,-40 85.72,-40 89.39,-43.67 89.39,-47.33 89.39,-47.33 89.39,-54.67 89.39,-54.67 89.39,-58.33 85.72,-62 82.06,-62\"/>\n",
              "<text text-anchor=\"middle\" x=\"60.33\" y=\"-46.8\" font-family=\"Times,serif\" font-size=\"14.00\">STRING</text>\n",
              "</g>\n",
              "<!-- 227809240548218953&#45;&gt;&#45;4984652649700928486 -->\n",
              "<g id=\"edge8\" class=\"edge\">\n",
              "<title>227809240548218953&#45;&gt;&#45;4984652649700928486</title>\n",
              "<path fill=\"none\" stroke=\"black\" stroke-width=\"0.5\" d=\"M63.96,-79.62C63.25,-74.17 62.37,-67.52 61.66,-62.11\"/>\n",
              "</g>\n",
              "<!-- 227811762942216599 -->\n",
              "<g id=\"node8\" class=\"node\">\n",
              "<title>227811762942216599</title>\n",
              "<path fill=\"none\" stroke=\"black\" stroke-width=\"0.25\" d=\"M132.1,-62C132.1,-62 114.56,-62 114.56,-62 110.89,-62 107.23,-58.33 107.23,-54.67 107.23,-54.67 107.23,-47.33 107.23,-47.33 107.23,-43.67 110.89,-40 114.56,-40 114.56,-40 132.1,-40 132.1,-40 135.77,-40 139.43,-43.67 139.43,-47.33 139.43,-47.33 139.43,-54.67 139.43,-54.67 139.43,-58.33 135.77,-62 132.1,-62\"/>\n",
              "<text text-anchor=\"middle\" x=\"123.33\" y=\"-46.8\" font-family=\"Times,serif\" font-size=\"14.00\">Fact</text>\n",
              "</g>\n",
              "<!-- 6830751675664791018&#45;&gt;227811762942216599 -->\n",
              "<g id=\"edge10\" class=\"edge\">\n",
              "<title>6830751675664791018&#45;&gt;227811762942216599</title>\n",
              "<path fill=\"none\" stroke=\"black\" stroke-width=\"0.5\" d=\"M121.15,-79.62C121.58,-74.17 122.11,-67.52 122.53,-62.11\"/>\n",
              "</g>\n",
              "<!-- 6830754198058788664 -->\n",
              "<g id=\"node9\" class=\"node\">\n",
              "<title>6830754198058788664</title>\n",
              "<path fill=\"none\" stroke=\"black\" stroke-width=\"0.25\" d=\"M187.55,-62C187.55,-62 165.11,-62 165.11,-62 161.44,-62 157.78,-58.33 157.78,-54.67 157.78,-54.67 157.78,-47.33 157.78,-47.33 157.78,-43.67 161.44,-40 165.11,-40 165.11,-40 187.55,-40 187.55,-40 191.22,-40 194.89,-43.67 194.89,-47.33 194.89,-47.33 194.89,-54.67 194.89,-54.67 194.89,-58.33 191.22,-62 187.55,-62\"/>\n",
              "<text text-anchor=\"middle\" x=\"176.33\" y=\"-46.8\" font-family=\"Times,serif\" font-size=\"14.00\">Facts</text>\n",
              "</g>\n",
              "<!-- 6830751675664791018&#45;&gt;6830754198058788664 -->\n",
              "<g id=\"edge11\" class=\"edge\">\n",
              "<title>6830751675664791018&#45;&gt;6830754198058788664</title>\n",
              "<path fill=\"none\" stroke=\"black\" stroke-width=\"0.5\" d=\"M135.34,-79.82C143.37,-74.36 153.24,-67.67 161.28,-62.21\"/>\n",
              "</g>\n",
              "<!-- 1875479752173583235&#45;&gt;&#45;4984652649700928486 -->\n",
              "<!-- 227811762942216599&#45;&gt;6830754198058788664 -->\n",
              "<!-- 1875487319355576173 -->\n",
              "<g id=\"node10\" class=\"node\">\n",
              "<title>1875487319355576173</title>\n",
              "<path fill=\"none\" stroke=\"black\" stroke-width=\"1.25\" d=\"M71.39,-22C71.39,-22 67.28,-22 67.28,-22 65.22,-22 63.16,-19.94 63.16,-17.89 63.16,-17.89 63.16,-4.11 63.16,-4.11 63.16,-2.06 65.22,0 67.28,0 67.28,0 71.39,0 71.39,0 73.44,0 75.5,-2.06 75.5,-4.11 75.5,-4.11 75.5,-17.89 75.5,-17.89 75.5,-19.94 73.44,-22 71.39,-22\"/>\n",
              "<text text-anchor=\"middle\" x=\"69.33\" y=\"-6.8\" font-family=\"Times,serif\" font-size=\"14.00\">!</text>\n",
              "</g>\n",
              "<!-- 227811762942216599&#45;&gt;1875487319355576173 -->\n",
              "<g id=\"edge13\" class=\"edge\">\n",
              "<title>227811762942216599&#45;&gt;1875487319355576173</title>\n",
              "<path fill=\"none\" stroke=\"black\" stroke-width=\"0.5\" d=\"M108.86,-39.82C97.99,-32.17 83.63,-22.06 75.55,-16.38\"/>\n",
              "</g>\n",
              "<!-- &#45;4984650127306930840 -->\n",
              "<g id=\"node11\" class=\"node\">\n",
              "<title>&#45;4984650127306930840</title>\n",
              "<path fill=\"none\" stroke=\"black\" stroke-width=\"1.25\" d=\"M145.06,-22C145.06,-22 101.6,-22 101.6,-22 97.94,-22 94.27,-18.33 94.27,-14.67 94.27,-14.67 94.27,-7.33 94.27,-7.33 94.27,-3.67 97.94,0 101.6,0 101.6,0 145.06,0 145.06,0 148.72,0 152.39,-3.67 152.39,-7.33 152.39,-7.33 152.39,-14.67 152.39,-14.67 152.39,-18.33 148.72,-22 145.06,-22\"/>\n",
              "<text text-anchor=\"middle\" x=\"123.33\" y=\"-6.8\" font-family=\"Times,serif\" font-size=\"14.00\">STRING</text>\n",
              "</g>\n",
              "<!-- 227811762942216599&#45;&gt;&#45;4984650127306930840 -->\n",
              "<g id=\"edge14\" class=\"edge\">\n",
              "<title>227811762942216599&#45;&gt;&#45;4984650127306930840</title>\n",
              "<path fill=\"none\" stroke=\"black\" stroke-width=\"0.5\" d=\"M123.33,-39.62C123.33,-34.17 123.33,-27.52 123.33,-22.11\"/>\n",
              "</g>\n",
              "<!-- &#45;473616463739524603 -->\n",
              "<g id=\"node12\" class=\"node\">\n",
              "<title>&#45;473616463739524603</title>\n",
              "<path fill=\"none\" stroke=\"black\" stroke-width=\"0.25\" d=\"M179.74,-22C179.74,-22 174.93,-22 174.93,-22 172.52,-22 170.12,-19.59 170.12,-17.19 170.12,-17.19 170.12,-4.81 170.12,-4.81 170.12,-2.41 172.52,0 174.93,0 174.93,0 179.74,0 179.74,0 182.14,0 184.55,-2.41 184.55,-4.81 184.55,-4.81 184.55,-17.19 184.55,-17.19 184.55,-19.59 182.14,-22 179.74,-22\"/>\n",
              "<text text-anchor=\"middle\" x=\"177.33\" y=\"-6.8\" font-family=\"Times,serif\" font-size=\"14.00\">ε</text>\n",
              "</g>\n",
              "<!-- 6830754198058788664&#45;&gt;&#45;473616463739524603 -->\n",
              "<g id=\"edge16\" class=\"edge\">\n",
              "<title>6830754198058788664&#45;&gt;&#45;473616463739524603</title>\n",
              "<path fill=\"none\" stroke=\"black\" stroke-width=\"0.5\" d=\"M176.6,-39.62C176.75,-34.17 176.92,-27.52 177.07,-22.11\"/>\n",
              "</g>\n",
              "<!-- 1875487319355576173&#45;&gt;&#45;4984650127306930840 -->\n",
              "<!-- &#45;2586634679366126284&#45;&gt;&#45;4984647604912933194 -->\n",
              "</g>\n",
              "</svg>\n"
            ],
            "text/plain": [
              "ProductionGraph(Session -> Facts Question -> Fact Facts Question -> ! STRING Facts Question -> ! STRING Fact Facts Question -> ! STRING ! STRING Facts Question -> ! STRING ! STRING Question -> ! STRING ! STRING ? STRING)"
            ]
          },
          "execution_count": 9,
          "metadata": {},
          "output_type": "execute_result"
        }
      ],
      "source": [
        "d = parse(G, TABLE, '! STRING ! STRING ? STRING #'.split())\n",
        "ProductionGraph(d)"
      ]
    },
    {
      "cell_type": "markdown",
      "metadata": {},
      "source": [
        "### Consideriamo i vari casi di conflitto attraverso degli esempi\n",
        "\n",
        "Introduciamo una funzione di comodo che faccia i vari passi di comptuazione…"
      ]
    },
    {
      "cell_type": "code",
      "execution_count": null,
      "metadata": {},
      "outputs": [],
      "source": [
        "def fft(G):\n",
        "    FIRST = compute_εfirst(G)\n",
        "    FOLLOW = compute_follow(G, FIRST)\n",
        "    FF = Table(2)\n",
        "    for N in G.N: \n",
        "        FF[N, 'First'] = FIRST[(N, )]\n",
        "        FF[N, 'Follow'] = FOLLOW[N]\n",
        "    return FF, compute_table(G, FIRST, FOLLOW)"
      ]
    },
    {
      "cell_type": "markdown",
      "metadata": {},
      "source": [
        "#### Caso first/first"
      ]
    },
    {
      "cell_type": "code",
      "execution_count": null,
      "metadata": {},
      "outputs": [],
      "source": [
        "G = Grammar.from_string(\"\"\"\n",
        "S -> a | A\n",
        "A -> a\n",
        "\"\"\")"
      ]
    },
    {
      "cell_type": "code",
      "execution_count": null,
      "metadata": {},
      "outputs": [
        {
          "name": "stderr",
          "output_type": "stream",
          "text": [
            "First/first conflict on (S, a) for production S -> A\n"
          ]
        }
      ],
      "source": [
        "FF, TABLE = fft(G)"
      ]
    },
    {
      "cell_type": "code",
      "execution_count": null,
      "metadata": {},
      "outputs": [
        {
          "data": {
            "text/html": [
              "<style>td, th {border: 1pt solid lightgray !important; text-align: left !important;}</style><table><tr><td>&nbsp;<th><pre>First</pre><th><pre>Follow</pre>\n",
              "<tr><th><pre>A<pre><td><pre>a</pre><td><pre>#</pre>\n",
              "<tr><th><pre>S<pre><td><pre>a</pre><td><pre>#</pre>\n",
              "</table>"
            ],
            "text/plain": [
              "<liblet.utils.Table at 0x10e60d550>"
            ]
          },
          "execution_count": 13,
          "metadata": {},
          "output_type": "execute_result"
        }
      ],
      "source": [
        "FF"
      ]
    },
    {
      "cell_type": "code",
      "execution_count": null,
      "metadata": {},
      "outputs": [
        {
          "data": {
            "text/html": [
              "<style>td, th {border: 1pt solid lightgray !important; text-align: left !important;}</style><table><tr><td>&nbsp;<th><pre>a</pre>\n",
              "<tr><th><pre>S<pre><td><pre>S -> a</pre>\n",
              "<tr><th><pre>A<pre><td><pre>A -> a</pre>\n",
              "</table>"
            ],
            "text/plain": [
              "<liblet.utils.Table at 0x10e60d690>"
            ]
          },
          "execution_count": 14,
          "metadata": {},
          "output_type": "execute_result"
        }
      ],
      "source": [
        "TABLE"
      ]
    },
    {
      "cell_type": "markdown",
      "metadata": {},
      "source": [
        "#### Caso first/follow"
      ]
    },
    {
      "cell_type": "code",
      "execution_count": null,
      "metadata": {},
      "outputs": [],
      "source": [
        "G = Grammar.from_string(\"\"\"\n",
        "S -> A a\n",
        "A -> a | ε\n",
        "\"\"\")"
      ]
    },
    {
      "cell_type": "code",
      "execution_count": null,
      "metadata": {},
      "outputs": [
        {
          "name": "stderr",
          "output_type": "stream",
          "text": [
            "First/follow conflict on (A, a) for production A -> ε\n"
          ]
        }
      ],
      "source": [
        "FF, TABLE = fft(G)"
      ]
    },
    {
      "cell_type": "code",
      "execution_count": null,
      "metadata": {},
      "outputs": [
        {
          "data": {
            "text/html": [
              "<style>td, th {border: 1pt solid lightgray !important; text-align: left !important;}</style><table><tr><td>&nbsp;<th><pre>First</pre><th><pre>Follow</pre>\n",
              "<tr><th><pre>A<pre><td><pre>a, ε</pre><td><pre>a</pre>\n",
              "<tr><th><pre>S<pre><td><pre>a</pre><td><pre>#</pre>\n",
              "</table>"
            ],
            "text/plain": [
              "<liblet.utils.Table at 0x10d0bae50>"
            ]
          },
          "execution_count": 17,
          "metadata": {},
          "output_type": "execute_result"
        }
      ],
      "source": [
        "FF"
      ]
    },
    {
      "cell_type": "code",
      "execution_count": null,
      "metadata": {},
      "outputs": [
        {
          "data": {
            "text/html": [
              "<style>td, th {border: 1pt solid lightgray !important; text-align: left !important;}</style><table><tr><td>&nbsp;<th><pre>a</pre>\n",
              "<tr><th><pre>S<pre><td><pre>S -> A a</pre>\n",
              "<tr><th><pre>A<pre><td><pre>A -> a</pre>\n",
              "</table>"
            ],
            "text/plain": [
              "<liblet.utils.Table at 0x10e612590>"
            ]
          },
          "execution_count": 18,
          "metadata": {},
          "output_type": "execute_result"
        }
      ],
      "source": [
        "TABLE"
      ]
    },
    {
      "cell_type": "markdown",
      "metadata": {},
      "source": [
        "#### Caso follow/follow"
      ]
    },
    {
      "cell_type": "code",
      "execution_count": null,
      "metadata": {},
      "outputs": [],
      "source": [
        "G = Grammar.from_string(\"\"\"\n",
        "S -> A a \n",
        "A -> B | C\n",
        "B -> ε\n",
        "C -> ε\n",
        "\"\"\")"
      ]
    },
    {
      "cell_type": "code",
      "execution_count": null,
      "metadata": {},
      "outputs": [
        {
          "name": "stderr",
          "output_type": "stream",
          "text": [
            "Follow/follow conflict on (A, a) for production A -> C\n"
          ]
        }
      ],
      "source": [
        "FF, TABLE = fft(G) "
      ]
    },
    {
      "cell_type": "code",
      "execution_count": null,
      "metadata": {},
      "outputs": [
        {
          "data": {
            "text/html": [
              "<style>td, th {border: 1pt solid lightgray !important; text-align: left !important;}</style><table><tr><td>&nbsp;<th><pre>First</pre><th><pre>Follow</pre>\n",
              "<tr><th><pre>A<pre><td><pre>ε</pre><td><pre>a</pre>\n",
              "<tr><th><pre>C<pre><td><pre>ε</pre><td><pre>a</pre>\n",
              "<tr><th><pre>S<pre><td><pre>a</pre><td><pre>#</pre>\n",
              "<tr><th><pre>B<pre><td><pre>ε</pre><td><pre>a</pre>\n",
              "</table>"
            ],
            "text/plain": [
              "<liblet.utils.Table at 0x10e5d0b90>"
            ]
          },
          "execution_count": 21,
          "metadata": {},
          "output_type": "execute_result"
        }
      ],
      "source": [
        "FF"
      ]
    },
    {
      "cell_type": "code",
      "execution_count": null,
      "metadata": {},
      "outputs": [
        {
          "data": {
            "text/html": [
              "<style>td, th {border: 1pt solid lightgray !important; text-align: left !important;}</style><table><tr><td>&nbsp;<th><pre>a</pre>\n",
              "<tr><th><pre>S<pre><td><pre>S -> A a</pre>\n",
              "<tr><th><pre>A<pre><td><pre>A -> B</pre>\n",
              "<tr><th><pre>B<pre><td><pre>B -> ε</pre>\n",
              "<tr><th><pre>C<pre><td><pre>C -> ε</pre>\n",
              "</table>"
            ],
            "text/plain": [
              "<liblet.utils.Table at 0x10e5ecc90>"
            ]
          },
          "execution_count": 22,
          "metadata": {},
          "output_type": "execute_result"
        }
      ],
      "source": [
        "TABLE"
      ]
    },
    {
      "cell_type": "markdown",
      "metadata": {},
      "source": [
        "## Fattorizzazione ed eliminazione dei conflitti\n",
        "\n",
        "In presenza di due alternative $A\\to \\alpha\\beta|\\alpha\\gamma$ con $\\alpha$ non trasparente è evidente che sia impossibile scegliere sulla base di $\\operatorname{FIRST}(\\alpha)$ che riguarda entrambe le alternative! Una possibile soluzione consiste nel \"fattorizzare\" $\\alpha$ mendiante l'introduzione di un nuovo non terminale $N$ cambiando le produzioni in $A\\to \\alpha N$ e $N\\to \\beta|\\gamma$ sperando che $\\operatorname{FIRST}(\\beta)$ e $\\operatorname{FIRST}(\\gamma)$ siano disigunti.\n",
        "\n",
        "Proviamo ad usare, come esempio, una grammatica per operazioni aritmetiche in cui ogni operatore coinvolga esattamente due sottoespressioni:"
      ]
    },
    {
      "cell_type": "code",
      "execution_count": null,
      "metadata": {},
      "outputs": [],
      "source": [
        "G = Grammar.from_string(\"\"\"\n",
        "E  -> T + T | T\n",
        "T  -> F * F | F \n",
        "F  -> ( E ) | i\n",
        "\"\"\")"
      ]
    },
    {
      "cell_type": "markdown",
      "metadata": {},
      "source": [
        "Ci sono conflitti…"
      ]
    },
    {
      "cell_type": "code",
      "execution_count": null,
      "metadata": {},
      "outputs": [
        {
          "name": "stderr",
          "output_type": "stream",
          "text": [
            "First/first conflict on (E, () for production E -> T\n",
            "First/first conflict on (E, i) for production E -> T\n",
            "First/first conflict on (T, i) for production T -> F\n",
            "First/first conflict on (T, () for production T -> F\n"
          ]
        }
      ],
      "source": [
        "FF, TABLE = fft(G) "
      ]
    },
    {
      "cell_type": "code",
      "execution_count": null,
      "metadata": {},
      "outputs": [
        {
          "data": {
            "text/html": [
              "<style>td, th {border: 1pt solid lightgray !important; text-align: left !important;}</style><table><tr><td>&nbsp;<th><pre>First</pre><th><pre>Follow</pre>\n",
              "<tr><th><pre>E<pre><td><pre>(, i</pre><td><pre>#, )</pre>\n",
              "<tr><th><pre>F<pre><td><pre>(, i</pre><td><pre>#, ), *, +</pre>\n",
              "<tr><th><pre>T<pre><td><pre>(, i</pre><td><pre>#, ), +</pre>\n",
              "</table>"
            ],
            "text/plain": [
              "<liblet.utils.Table at 0x10e621fd0>"
            ]
          },
          "execution_count": 25,
          "metadata": {},
          "output_type": "execute_result"
        }
      ],
      "source": [
        "FF"
      ]
    },
    {
      "cell_type": "code",
      "execution_count": null,
      "metadata": {},
      "outputs": [
        {
          "data": {
            "text/html": [
              "<style>td, th {border: 1pt solid lightgray !important; text-align: left !important;}</style><table><tr><td>&nbsp;<th><pre>i</pre><th><pre>(</pre>\n",
              "<tr><th><pre>E<pre><td><pre>E -> T + T</pre><td><pre>E -> T + T</pre>\n",
              "<tr><th><pre>T<pre><td><pre>T -> F * F</pre><td><pre>T -> F * F</pre>\n",
              "<tr><th><pre>F<pre><td><pre>F -> i</pre><td><pre>F -> ( E )</pre>\n",
              "</table>"
            ],
            "text/plain": [
              "<liblet.utils.Table at 0x10e61b6d0>"
            ]
          },
          "execution_count": 26,
          "metadata": {},
          "output_type": "execute_result"
        }
      ],
      "source": [
        "TABLE"
      ]
    },
    {
      "cell_type": "markdown",
      "metadata": {},
      "source": [
        "Che possono essere risolti fattorizzando sia `T` che `F`"
      ]
    },
    {
      "cell_type": "code",
      "execution_count": null,
      "metadata": {},
      "outputs": [],
      "source": [
        "G = Grammar.from_string(\"\"\"\n",
        "E  -> T E’\n",
        "E’ -> + T | ε\n",
        "T  -> F F’\n",
        "F’ -> * F | ε\n",
        "F  -> ( E ) | i\n",
        "\"\"\")"
      ]
    },
    {
      "cell_type": "code",
      "execution_count": null,
      "metadata": {},
      "outputs": [],
      "source": [
        "FF, TABLE = fft(G) "
      ]
    },
    {
      "cell_type": "code",
      "execution_count": null,
      "metadata": {},
      "outputs": [
        {
          "data": {
            "text/html": [
              "<style>td, th {border: 1pt solid lightgray !important; text-align: left !important;}</style><table><tr><td>&nbsp;<th><pre>(</pre><th><pre>i</pre><th><pre>+</pre><th><pre>)</pre><th><pre>#</pre><th><pre>*</pre>\n",
              "<tr><th><pre>E<pre><td><pre>E -> T E’</pre><td><pre>E -> T E’</pre><td>&nbsp;<td>&nbsp;<td>&nbsp;<td>&nbsp;\n",
              "<tr><th><pre>E’<pre><td>&nbsp;<td>&nbsp;<td><pre>E’ -> + T</pre><td><pre>E’ -> ε</pre><td><pre>E’ -> ε</pre><td>&nbsp;\n",
              "<tr><th><pre>T<pre><td><pre>T -> F F’</pre><td><pre>T -> F F’</pre><td>&nbsp;<td>&nbsp;<td>&nbsp;<td>&nbsp;\n",
              "<tr><th><pre>F’<pre><td>&nbsp;<td>&nbsp;<td><pre>F’ -> ε</pre><td><pre>F’ -> ε</pre><td><pre>F’ -> ε</pre><td><pre>F’ -> * F</pre>\n",
              "<tr><th><pre>F<pre><td><pre>F -> ( E )</pre><td><pre>F -> i</pre><td>&nbsp;<td>&nbsp;<td>&nbsp;<td>&nbsp;\n",
              "</table>"
            ],
            "text/plain": [
              "<liblet.utils.Table at 0x10e5f4750>"
            ]
          },
          "execution_count": 29,
          "metadata": {},
          "output_type": "execute_result"
        }
      ],
      "source": [
        "TABLE"
      ]
    },
    {
      "cell_type": "markdown",
      "metadata": {},
      "source": [
        "Tentiamo il parse"
      ]
    },
    {
      "cell_type": "code",
      "execution_count": null,
      "metadata": {},
      "outputs": [
        {
          "data": {
            "image/svg+xml": [
              "<?xml version=\"1.0\" encoding=\"UTF-8\" standalone=\"no\"?>\n",
              "<!DOCTYPE svg PUBLIC \"-//W3C//DTD SVG 1.1//EN\"\n",
              " \"http://www.w3.org/Graphics/SVG/1.1/DTD/svg11.dtd\">\n",
              "<!-- Generated by graphviz version 2.43.0 (0)\n",
              " -->\n",
              "<!-- Title: %3 Pages: 1 -->\n",
              "<svg width=\"191pt\" height=\"390pt\"\n",
              " viewBox=\"0.00 0.00 190.79 390.00\" xmlns=\"http://www.w3.org/2000/svg\" xmlns:xlink=\"http://www.w3.org/1999/xlink\">\n",
              "<g id=\"graph0\" class=\"graph\" transform=\"scale(1 1) rotate(0) translate(4 386)\">\n",
              "<title>%3</title>\n",
              "<polygon fill=\"white\" stroke=\"transparent\" points=\"-4,4 -4,-386 186.79,-386 186.79,4 -4,4\"/>\n",
              "<!-- &#45;4278494435176705380 -->\n",
              "<g id=\"node1\" class=\"node\">\n",
              "<title>&#45;4278494435176705380</title>\n",
              "<path fill=\"none\" stroke=\"black\" stroke-width=\"0.25\" d=\"M63.58,-382C63.58,-382 58.21,-382 58.21,-382 55.52,-382 52.84,-379.31 52.84,-376.63 52.84,-376.63 52.84,-365.37 52.84,-365.37 52.84,-362.69 55.52,-360 58.21,-360 58.21,-360 63.58,-360 63.58,-360 66.26,-360 68.95,-362.69 68.95,-365.37 68.95,-365.37 68.95,-376.63 68.95,-376.63 68.95,-379.31 66.26,-382 63.58,-382\"/>\n",
              "<text text-anchor=\"middle\" x=\"60.89\" y=\"-366.8\" font-family=\"Times,serif\" font-size=\"14.00\">E</text>\n",
              "</g>\n",
              "<!-- &#45;6530113250940116961 -->\n",
              "<g id=\"node2\" class=\"node\">\n",
              "<title>&#45;6530113250940116961</title>\n",
              "<path fill=\"none\" stroke=\"black\" stroke-width=\"0.25\" d=\"M45.58,-342C45.58,-342 40.21,-342 40.21,-342 37.52,-342 34.84,-339.31 34.84,-336.63 34.84,-336.63 34.84,-325.37 34.84,-325.37 34.84,-322.69 37.52,-320 40.21,-320 40.21,-320 45.58,-320 45.58,-320 48.26,-320 50.95,-322.69 50.95,-325.37 50.95,-325.37 50.95,-336.63 50.95,-336.63 50.95,-339.31 48.26,-342 45.58,-342\"/>\n",
              "<text text-anchor=\"middle\" x=\"42.89\" y=\"-326.8\" font-family=\"Times,serif\" font-size=\"14.00\">T</text>\n",
              "</g>\n",
              "<!-- &#45;4278494435176705380&#45;&gt;&#45;6530113250940116961 -->\n",
              "<g id=\"edge1\" class=\"edge\">\n",
              "<title>&#45;4278494435176705380&#45;&gt;&#45;6530113250940116961</title>\n",
              "<path fill=\"none\" stroke=\"black\" stroke-width=\"0.5\" d=\"M55.97,-359.62C53.39,-354.17 50.24,-347.52 47.68,-342.11\"/>\n",
              "</g>\n",
              "<!-- 3369992817188548585 -->\n",
              "<g id=\"node3\" class=\"node\">\n",
              "<title>3369992817188548585</title>\n",
              "<path fill=\"none\" stroke=\"black\" stroke-width=\"0.25\" d=\"M83.46,-342C83.46,-342 76.32,-342 76.32,-342 72.75,-342 69.18,-338.43 69.18,-334.86 69.18,-334.86 69.18,-327.14 69.18,-327.14 69.18,-323.57 72.75,-320 76.32,-320 76.32,-320 83.46,-320 83.46,-320 87.04,-320 90.61,-323.57 90.61,-327.14 90.61,-327.14 90.61,-334.86 90.61,-334.86 90.61,-338.43 87.04,-342 83.46,-342\"/>\n",
              "<text text-anchor=\"middle\" x=\"79.89\" y=\"-326.8\" font-family=\"Times,serif\" font-size=\"14.00\">E’</text>\n",
              "</g>\n",
              "<!-- &#45;4278494435176705380&#45;&gt;3369992817188548585 -->\n",
              "<g id=\"edge2\" class=\"edge\">\n",
              "<title>&#45;4278494435176705380&#45;&gt;3369992817188548585</title>\n",
              "<path fill=\"none\" stroke=\"black\" stroke-width=\"0.5\" d=\"M66.08,-359.62C68.81,-354.17 72.13,-347.52 74.84,-342.11\"/>\n",
              "</g>\n",
              "<!-- &#45;6530113250940116961&#45;&gt;3369992817188548585 -->\n",
              "<!-- &#45;1802696842189495877 -->\n",
              "<g id=\"node4\" class=\"node\">\n",
              "<title>&#45;1802696842189495877</title>\n",
              "<path fill=\"none\" stroke=\"black\" stroke-width=\"0.25\" d=\"M10.49,-302C10.49,-302 5.3,-302 5.3,-302 2.7,-302 0.11,-299.4 0.11,-296.81 0.11,-296.81 0.11,-285.19 0.11,-285.19 0.11,-282.6 2.7,-280 5.3,-280 5.3,-280 10.49,-280 10.49,-280 13.08,-280 15.68,-282.6 15.68,-285.19 15.68,-285.19 15.68,-296.81 15.68,-296.81 15.68,-299.4 13.08,-302 10.49,-302\"/>\n",
              "<text text-anchor=\"middle\" x=\"7.89\" y=\"-286.8\" font-family=\"Times,serif\" font-size=\"14.00\">F</text>\n",
              "</g>\n",
              "<!-- &#45;6530113250940116961&#45;&gt;&#45;1802696842189495877 -->\n",
              "<g id=\"edge4\" class=\"edge\">\n",
              "<title>&#45;6530113250940116961&#45;&gt;&#45;1802696842189495877</title>\n",
              "<path fill=\"none\" stroke=\"black\" stroke-width=\"0.5\" d=\"M34.78,-321.19C29.04,-314.96 21.4,-306.66 15.73,-300.5\"/>\n",
              "</g>\n",
              "<!-- &#45;8700712760407893419 -->\n",
              "<g id=\"node5\" class=\"node\">\n",
              "<title>&#45;8700712760407893419</title>\n",
              "<path fill=\"none\" stroke=\"black\" stroke-width=\"0.25\" d=\"M47.38,-302C47.38,-302 40.41,-302 40.41,-302 36.92,-302 33.44,-298.52 33.44,-295.03 33.44,-295.03 33.44,-286.97 33.44,-286.97 33.44,-283.48 36.92,-280 40.41,-280 40.41,-280 47.38,-280 47.38,-280 50.86,-280 54.35,-283.48 54.35,-286.97 54.35,-286.97 54.35,-295.03 54.35,-295.03 54.35,-298.52 50.86,-302 47.38,-302\"/>\n",
              "<text text-anchor=\"middle\" x=\"43.89\" y=\"-286.8\" font-family=\"Times,serif\" font-size=\"14.00\">F’</text>\n",
              "</g>\n",
              "<!-- &#45;6530113250940116961&#45;&gt;&#45;8700712760407893419 -->\n",
              "<g id=\"edge5\" class=\"edge\">\n",
              "<title>&#45;6530113250940116961&#45;&gt;&#45;8700712760407893419</title>\n",
              "<path fill=\"none\" stroke=\"black\" stroke-width=\"0.5\" d=\"M43.17,-319.62C43.31,-314.17 43.48,-307.52 43.63,-302.11\"/>\n",
              "</g>\n",
              "<!-- &#45;473605112966535196 -->\n",
              "<g id=\"node26\" class=\"node\">\n",
              "<title>&#45;473605112966535196</title>\n",
              "<path fill=\"none\" stroke=\"black\" stroke-width=\"0.25\" d=\"M82.3,-302C82.3,-302 77.49,-302 77.49,-302 75.08,-302 72.68,-299.59 72.68,-297.19 72.68,-297.19 72.68,-284.81 72.68,-284.81 72.68,-282.41 75.08,-280 77.49,-280 77.49,-280 82.3,-280 82.3,-280 84.7,-280 87.11,-282.41 87.11,-284.81 87.11,-284.81 87.11,-297.19 87.11,-297.19 87.11,-299.59 84.7,-302 82.3,-302\"/>\n",
              "<text text-anchor=\"middle\" x=\"79.89\" y=\"-286.8\" font-family=\"Times,serif\" font-size=\"14.00\">ε</text>\n",
              "</g>\n",
              "<!-- 3369992817188548585&#45;&gt;&#45;473605112966535196 -->\n",
              "<g id=\"edge35\" class=\"edge\">\n",
              "<title>3369992817188548585&#45;&gt;&#45;473605112966535196</title>\n",
              "<path fill=\"none\" stroke=\"black\" stroke-width=\"0.5\" d=\"M79.89,-319.62C79.89,-314.17 79.89,-307.52 79.89,-302.11\"/>\n",
              "</g>\n",
              "<!-- &#45;1802696842189495877&#45;&gt;&#45;8700712760407893419 -->\n",
              "<!-- 5293156715457619941 -->\n",
              "<g id=\"node6\" class=\"node\">\n",
              "<title>5293156715457619941</title>\n",
              "<path fill=\"none\" stroke=\"black\" stroke-width=\"1.25\" d=\"M9.86,-262C9.86,-262 5.93,-262 5.93,-262 3.97,-262 2,-260.04 2,-258.07 2,-258.07 2,-243.93 2,-243.93 2,-241.96 3.97,-240 5.93,-240 5.93,-240 9.86,-240 9.86,-240 11.82,-240 13.78,-241.96 13.78,-243.93 13.78,-243.93 13.78,-258.07 13.78,-258.07 13.78,-260.04 11.82,-262 9.86,-262\"/>\n",
              "<text text-anchor=\"middle\" x=\"7.89\" y=\"-246.8\" font-family=\"Times,serif\" font-size=\"14.00\">i</text>\n",
              "</g>\n",
              "<!-- &#45;1802696842189495877&#45;&gt;5293156715457619941 -->\n",
              "<g id=\"edge7\" class=\"edge\">\n",
              "<title>&#45;1802696842189495877&#45;&gt;5293156715457619941</title>\n",
              "<path fill=\"none\" stroke=\"black\" stroke-width=\"0.5\" d=\"M7.89,-279.62C7.89,-274.17 7.89,-267.52 7.89,-262.11\"/>\n",
              "</g>\n",
              "<!-- 1611501566122775878 -->\n",
              "<g id=\"node7\" class=\"node\">\n",
              "<title>1611501566122775878</title>\n",
              "<path fill=\"none\" stroke=\"black\" stroke-width=\"1.25\" d=\"M43.39,-262C43.39,-262 38.39,-262 38.39,-262 35.89,-262 33.39,-259.5 33.39,-257 33.39,-257 33.39,-245 33.39,-245 33.39,-242.5 35.89,-240 38.39,-240 38.39,-240 43.39,-240 43.39,-240 45.89,-240 48.39,-242.5 48.39,-245 48.39,-245 48.39,-257 48.39,-257 48.39,-259.5 45.89,-262 43.39,-262\"/>\n",
              "<text text-anchor=\"middle\" x=\"40.89\" y=\"-246.8\" font-family=\"Times,serif\" font-size=\"14.00\">*</text>\n",
              "</g>\n",
              "<!-- &#45;8700712760407893419&#45;&gt;1611501566122775878 -->\n",
              "<g id=\"edge8\" class=\"edge\">\n",
              "<title>&#45;8700712760407893419&#45;&gt;1611501566122775878</title>\n",
              "<path fill=\"none\" stroke=\"black\" stroke-width=\"0.5\" d=\"M43.07,-279.62C42.64,-274.17 42.12,-267.52 41.69,-262.11\"/>\n",
              "</g>\n",
              "<!-- &#45;1802689275006337890 -->\n",
              "<g id=\"node8\" class=\"node\">\n",
              "<title>&#45;1802689275006337890</title>\n",
              "<path fill=\"none\" stroke=\"black\" stroke-width=\"0.25\" d=\"M76.49,-262C76.49,-262 71.3,-262 71.3,-262 68.7,-262 66.11,-259.4 66.11,-256.81 66.11,-256.81 66.11,-245.19 66.11,-245.19 66.11,-242.6 68.7,-240 71.3,-240 71.3,-240 76.49,-240 76.49,-240 79.08,-240 81.68,-242.6 81.68,-245.19 81.68,-245.19 81.68,-256.81 81.68,-256.81 81.68,-259.4 79.08,-262 76.49,-262\"/>\n",
              "<text text-anchor=\"middle\" x=\"73.89\" y=\"-246.8\" font-family=\"Times,serif\" font-size=\"14.00\">F</text>\n",
              "</g>\n",
              "<!-- &#45;8700712760407893419&#45;&gt;&#45;1802689275006337890 -->\n",
              "<g id=\"edge9\" class=\"edge\">\n",
              "<title>&#45;8700712760407893419&#45;&gt;&#45;1802689275006337890</title>\n",
              "<path fill=\"none\" stroke=\"black\" stroke-width=\"0.5\" d=\"M52.09,-279.62C56.39,-274.17 61.64,-267.52 65.91,-262.11\"/>\n",
              "</g>\n",
              "<!-- 1611501566122775878&#45;&gt;&#45;1802689275006337890 -->\n",
              "<!-- 5164019251564579747 -->\n",
              "<g id=\"node9\" class=\"node\">\n",
              "<title>5164019251564579747</title>\n",
              "<path fill=\"none\" stroke=\"black\" stroke-width=\"1.25\" d=\"M42.95,-222C42.95,-222 38.84,-222 38.84,-222 36.78,-222 34.73,-219.94 34.73,-217.89 34.73,-217.89 34.73,-204.11 34.73,-204.11 34.73,-202.06 36.78,-200 38.84,-200 38.84,-200 42.95,-200 42.95,-200 45,-200 47.06,-202.06 47.06,-204.11 47.06,-204.11 47.06,-217.89 47.06,-217.89 47.06,-219.94 45,-222 42.95,-222\"/>\n",
              "<text text-anchor=\"middle\" x=\"40.89\" y=\"-206.8\" font-family=\"Times,serif\" font-size=\"14.00\">(</text>\n",
              "</g>\n",
              "<!-- &#45;1802689275006337890&#45;&gt;5164019251564579747 -->\n",
              "<g id=\"edge11\" class=\"edge\">\n",
              "<title>&#45;1802689275006337890&#45;&gt;5164019251564579747</title>\n",
              "<path fill=\"none\" stroke=\"black\" stroke-width=\"0.5\" d=\"M65.9,-240.8C60.26,-234.3 52.78,-225.69 47.48,-219.58\"/>\n",
              "</g>\n",
              "<!-- &#45;4278500741160534446 -->\n",
              "<g id=\"node10\" class=\"node\">\n",
              "<title>&#45;4278500741160534446</title>\n",
              "<path fill=\"none\" stroke=\"black\" stroke-width=\"0.25\" d=\"M76.58,-222C76.58,-222 71.21,-222 71.21,-222 68.52,-222 65.84,-219.31 65.84,-216.63 65.84,-216.63 65.84,-205.37 65.84,-205.37 65.84,-202.69 68.52,-200 71.21,-200 71.21,-200 76.58,-200 76.58,-200 79.26,-200 81.95,-202.69 81.95,-205.37 81.95,-205.37 81.95,-216.63 81.95,-216.63 81.95,-219.31 79.26,-222 76.58,-222\"/>\n",
              "<text text-anchor=\"middle\" x=\"73.89\" y=\"-206.8\" font-family=\"Times,serif\" font-size=\"14.00\">E</text>\n",
              "</g>\n",
              "<!-- &#45;1802689275006337890&#45;&gt;&#45;4278500741160534446 -->\n",
              "<g id=\"edge12\" class=\"edge\">\n",
              "<title>&#45;1802689275006337890&#45;&gt;&#45;4278500741160534446</title>\n",
              "<path fill=\"none\" stroke=\"black\" stroke-width=\"0.5\" d=\"M73.89,-239.62C73.89,-234.17 73.89,-227.52 73.89,-222.11\"/>\n",
              "</g>\n",
              "<!-- &#45;5752691706741681880 -->\n",
              "<g id=\"node11\" class=\"node\">\n",
              "<title>&#45;5752691706741681880</title>\n",
              "<path fill=\"none\" stroke=\"black\" stroke-width=\"1.25\" d=\"M108.95,-222C108.95,-222 104.84,-222 104.84,-222 102.78,-222 100.73,-219.94 100.73,-217.89 100.73,-217.89 100.73,-204.11 100.73,-204.11 100.73,-202.06 102.78,-200 104.84,-200 104.84,-200 108.95,-200 108.95,-200 111,-200 113.06,-202.06 113.06,-204.11 113.06,-204.11 113.06,-217.89 113.06,-217.89 113.06,-219.94 111,-222 108.95,-222\"/>\n",
              "<text text-anchor=\"middle\" x=\"106.89\" y=\"-206.8\" font-family=\"Times,serif\" font-size=\"14.00\">)</text>\n",
              "</g>\n",
              "<!-- &#45;1802689275006337890&#45;&gt;&#45;5752691706741681880 -->\n",
              "<g id=\"edge13\" class=\"edge\">\n",
              "<title>&#45;1802689275006337890&#45;&gt;&#45;5752691706741681880</title>\n",
              "<path fill=\"none\" stroke=\"black\" stroke-width=\"0.5\" d=\"M81.88,-240.8C87.53,-234.3 95.01,-225.69 100.31,-219.58\"/>\n",
              "</g>\n",
              "<!-- 5164019251564579747&#45;&gt;&#45;4278500741160534446 -->\n",
              "<!-- &#45;4278500741160534446&#45;&gt;&#45;5752691706741681880 -->\n",
              "<!-- &#45;6530114512137115784 -->\n",
              "<g id=\"node12\" class=\"node\">\n",
              "<title>&#45;6530114512137115784</title>\n",
              "<path fill=\"none\" stroke=\"black\" stroke-width=\"0.25\" d=\"M58.58,-182C58.58,-182 53.21,-182 53.21,-182 50.52,-182 47.84,-179.31 47.84,-176.63 47.84,-176.63 47.84,-165.37 47.84,-165.37 47.84,-162.69 50.52,-160 53.21,-160 53.21,-160 58.58,-160 58.58,-160 61.26,-160 63.95,-162.69 63.95,-165.37 63.95,-165.37 63.95,-176.63 63.95,-176.63 63.95,-179.31 61.26,-182 58.58,-182\"/>\n",
              "<text text-anchor=\"middle\" x=\"55.89\" y=\"-166.8\" font-family=\"Times,serif\" font-size=\"14.00\">T</text>\n",
              "</g>\n",
              "<!-- &#45;4278500741160534446&#45;&gt;&#45;6530114512137115784 -->\n",
              "<g id=\"edge16\" class=\"edge\">\n",
              "<title>&#45;4278500741160534446&#45;&gt;&#45;6530114512137115784</title>\n",
              "<path fill=\"none\" stroke=\"black\" stroke-width=\"0.5\" d=\"M68.97,-199.62C66.39,-194.17 63.24,-187.52 60.68,-182.11\"/>\n",
              "</g>\n",
              "<!-- 3369999123175872798 -->\n",
              "<g id=\"node13\" class=\"node\">\n",
              "<title>3369999123175872798</title>\n",
              "<path fill=\"none\" stroke=\"black\" stroke-width=\"0.25\" d=\"M96.46,-182C96.46,-182 89.32,-182 89.32,-182 85.75,-182 82.18,-178.43 82.18,-174.86 82.18,-174.86 82.18,-167.14 82.18,-167.14 82.18,-163.57 85.75,-160 89.32,-160 89.32,-160 96.46,-160 96.46,-160 100.04,-160 103.61,-163.57 103.61,-167.14 103.61,-167.14 103.61,-174.86 103.61,-174.86 103.61,-178.43 100.04,-182 96.46,-182\"/>\n",
              "<text text-anchor=\"middle\" x=\"92.89\" y=\"-166.8\" font-family=\"Times,serif\" font-size=\"14.00\">E’</text>\n",
              "</g>\n",
              "<!-- &#45;4278500741160534446&#45;&gt;3369999123175872798 -->\n",
              "<g id=\"edge17\" class=\"edge\">\n",
              "<title>&#45;4278500741160534446&#45;&gt;3369999123175872798</title>\n",
              "<path fill=\"none\" stroke=\"black\" stroke-width=\"0.5\" d=\"M79.08,-199.62C81.81,-194.17 85.13,-187.52 87.84,-182.11\"/>\n",
              "</g>\n",
              "<!-- &#45;6530114512137115784&#45;&gt;3369999123175872798 -->\n",
              "<!-- &#45;1802690536204501762 -->\n",
              "<g id=\"node14\" class=\"node\">\n",
              "<title>&#45;1802690536204501762</title>\n",
              "<path fill=\"none\" stroke=\"black\" stroke-width=\"0.25\" d=\"M23.49,-142C23.49,-142 18.3,-142 18.3,-142 15.7,-142 13.11,-139.4 13.11,-136.81 13.11,-136.81 13.11,-125.19 13.11,-125.19 13.11,-122.6 15.7,-120 18.3,-120 18.3,-120 23.49,-120 23.49,-120 26.08,-120 28.68,-122.6 28.68,-125.19 28.68,-125.19 28.68,-136.81 28.68,-136.81 28.68,-139.4 26.08,-142 23.49,-142\"/>\n",
              "<text text-anchor=\"middle\" x=\"20.89\" y=\"-126.8\" font-family=\"Times,serif\" font-size=\"14.00\">F</text>\n",
              "</g>\n",
              "<!-- &#45;6530114512137115784&#45;&gt;&#45;1802690536204501762 -->\n",
              "<g id=\"edge19\" class=\"edge\">\n",
              "<title>&#45;6530114512137115784&#45;&gt;&#45;1802690536204501762</title>\n",
              "<path fill=\"none\" stroke=\"black\" stroke-width=\"0.5\" d=\"M47.78,-161.19C42.04,-154.96 34.4,-146.66 28.73,-140.5\"/>\n",
              "</g>\n",
              "<!-- &#45;8700719066390557436 -->\n",
              "<g id=\"node15\" class=\"node\">\n",
              "<title>&#45;8700719066390557436</title>\n",
              "<path fill=\"none\" stroke=\"black\" stroke-width=\"0.25\" d=\"M60.38,-142C60.38,-142 53.41,-142 53.41,-142 49.92,-142 46.44,-138.52 46.44,-135.03 46.44,-135.03 46.44,-126.97 46.44,-126.97 46.44,-123.48 49.92,-120 53.41,-120 53.41,-120 60.38,-120 60.38,-120 63.86,-120 67.35,-123.48 67.35,-126.97 67.35,-126.97 67.35,-135.03 67.35,-135.03 67.35,-138.52 63.86,-142 60.38,-142\"/>\n",
              "<text text-anchor=\"middle\" x=\"56.89\" y=\"-126.8\" font-family=\"Times,serif\" font-size=\"14.00\">F’</text>\n",
              "</g>\n",
              "<!-- &#45;6530114512137115784&#45;&gt;&#45;8700719066390557436 -->\n",
              "<g id=\"edge20\" class=\"edge\">\n",
              "<title>&#45;6530114512137115784&#45;&gt;&#45;8700719066390557436</title>\n",
              "<path fill=\"none\" stroke=\"black\" stroke-width=\"0.5\" d=\"M56.17,-159.62C56.31,-154.17 56.48,-147.52 56.63,-142.11\"/>\n",
              "</g>\n",
              "<!-- &#45;5515960634803628740 -->\n",
              "<g id=\"node18\" class=\"node\">\n",
              "<title>&#45;5515960634803628740</title>\n",
              "<path fill=\"none\" stroke=\"black\" stroke-width=\"1.25\" d=\"M95.53,-142C95.53,-142 90.26,-142 90.26,-142 87.63,-142 85,-139.37 85,-136.74 85,-136.74 85,-125.26 85,-125.26 85,-122.63 87.63,-120 90.26,-120 90.26,-120 95.53,-120 95.53,-120 98.16,-120 100.79,-122.63 100.79,-125.26 100.79,-125.26 100.79,-136.74 100.79,-136.74 100.79,-139.37 98.16,-142 95.53,-142\"/>\n",
              "<text text-anchor=\"middle\" x=\"92.89\" y=\"-126.8\" font-family=\"Times,serif\" font-size=\"14.00\">+</text>\n",
              "</g>\n",
              "<!-- 3369999123175872798&#45;&gt;&#45;5515960634803628740 -->\n",
              "<g id=\"edge24\" class=\"edge\">\n",
              "<title>3369999123175872798&#45;&gt;&#45;5515960634803628740</title>\n",
              "<path fill=\"none\" stroke=\"black\" stroke-width=\"0.5\" d=\"M92.89,-159.62C92.89,-154.17 92.89,-147.52 92.89,-142.11\"/>\n",
              "</g>\n",
              "<!-- &#45;6530119556926276125 -->\n",
              "<g id=\"node19\" class=\"node\">\n",
              "<title>&#45;6530119556926276125</title>\n",
              "<path fill=\"none\" stroke=\"black\" stroke-width=\"0.25\" d=\"M129.58,-142C129.58,-142 124.21,-142 124.21,-142 121.52,-142 118.84,-139.31 118.84,-136.63 118.84,-136.63 118.84,-125.37 118.84,-125.37 118.84,-122.69 121.52,-120 124.21,-120 124.21,-120 129.58,-120 129.58,-120 132.26,-120 134.95,-122.69 134.95,-125.37 134.95,-125.37 134.95,-136.63 134.95,-136.63 134.95,-139.31 132.26,-142 129.58,-142\"/>\n",
              "<text text-anchor=\"middle\" x=\"126.89\" y=\"-126.8\" font-family=\"Times,serif\" font-size=\"14.00\">T</text>\n",
              "</g>\n",
              "<!-- 3369999123175872798&#45;&gt;&#45;6530119556926276125 -->\n",
              "<g id=\"edge25\" class=\"edge\">\n",
              "<title>3369999123175872798&#45;&gt;&#45;6530119556926276125</title>\n",
              "<path fill=\"none\" stroke=\"black\" stroke-width=\"0.5\" d=\"M102.18,-159.62C107.37,-153.81 113.78,-146.65 118.77,-141.08\"/>\n",
              "</g>\n",
              "<!-- &#45;1802690536204501762&#45;&gt;&#45;8700719066390557436 -->\n",
              "<!-- 5293165543836611702 -->\n",
              "<g id=\"node16\" class=\"node\">\n",
              "<title>5293165543836611702</title>\n",
              "<path fill=\"none\" stroke=\"black\" stroke-width=\"1.25\" d=\"M22.86,-102C22.86,-102 18.93,-102 18.93,-102 16.97,-102 15,-100.04 15,-98.07 15,-98.07 15,-83.93 15,-83.93 15,-81.96 16.97,-80 18.93,-80 18.93,-80 22.86,-80 22.86,-80 24.82,-80 26.78,-81.96 26.78,-83.93 26.78,-83.93 26.78,-98.07 26.78,-98.07 26.78,-100.04 24.82,-102 22.86,-102\"/>\n",
              "<text text-anchor=\"middle\" x=\"20.89\" y=\"-86.8\" font-family=\"Times,serif\" font-size=\"14.00\">i</text>\n",
              "</g>\n",
              "<!-- &#45;1802690536204501762&#45;&gt;5293165543836611702 -->\n",
              "<g id=\"edge22\" class=\"edge\">\n",
              "<title>&#45;1802690536204501762&#45;&gt;5293165543836611702</title>\n",
              "<path fill=\"none\" stroke=\"black\" stroke-width=\"0.5\" d=\"M20.89,-119.62C20.89,-114.17 20.89,-107.52 20.89,-102.11\"/>\n",
              "</g>\n",
              "<!-- &#45;473612680148528134 -->\n",
              "<g id=\"node17\" class=\"node\">\n",
              "<title>&#45;473612680148528134</title>\n",
              "<path fill=\"none\" stroke=\"black\" stroke-width=\"0.25\" d=\"M59.3,-102C59.3,-102 54.49,-102 54.49,-102 52.08,-102 49.68,-99.59 49.68,-97.19 49.68,-97.19 49.68,-84.81 49.68,-84.81 49.68,-82.41 52.08,-80 54.49,-80 54.49,-80 59.3,-80 59.3,-80 61.7,-80 64.11,-82.41 64.11,-84.81 64.11,-84.81 64.11,-97.19 64.11,-97.19 64.11,-99.59 61.7,-102 59.3,-102\"/>\n",
              "<text text-anchor=\"middle\" x=\"56.89\" y=\"-86.8\" font-family=\"Times,serif\" font-size=\"14.00\">ε</text>\n",
              "</g>\n",
              "<!-- &#45;8700719066390557436&#45;&gt;&#45;473612680148528134 -->\n",
              "<g id=\"edge23\" class=\"edge\">\n",
              "<title>&#45;8700719066390557436&#45;&gt;&#45;473612680148528134</title>\n",
              "<path fill=\"none\" stroke=\"black\" stroke-width=\"0.5\" d=\"M56.89,-119.62C56.89,-114.17 56.89,-107.52 56.89,-102.11\"/>\n",
              "</g>\n",
              "<!-- &#45;5515960634803628740&#45;&gt;&#45;6530119556926276125 -->\n",
              "<!-- &#45;1802685491416506470 -->\n",
              "<g id=\"node20\" class=\"node\">\n",
              "<title>&#45;1802685491416506470</title>\n",
              "<path fill=\"none\" stroke=\"black\" stroke-width=\"0.25\" d=\"M111.49,-102C111.49,-102 106.3,-102 106.3,-102 103.7,-102 101.11,-99.4 101.11,-96.81 101.11,-96.81 101.11,-85.19 101.11,-85.19 101.11,-82.6 103.7,-80 106.3,-80 106.3,-80 111.49,-80 111.49,-80 114.08,-80 116.68,-82.6 116.68,-85.19 116.68,-85.19 116.68,-96.81 116.68,-96.81 116.68,-99.4 114.08,-102 111.49,-102\"/>\n",
              "<text text-anchor=\"middle\" x=\"108.89\" y=\"-86.8\" font-family=\"Times,serif\" font-size=\"14.00\">F</text>\n",
              "</g>\n",
              "<!-- &#45;6530119556926276125&#45;&gt;&#45;1802685491416506470 -->\n",
              "<g id=\"edge27\" class=\"edge\">\n",
              "<title>&#45;6530119556926276125&#45;&gt;&#45;1802685491416506470</title>\n",
              "<path fill=\"none\" stroke=\"black\" stroke-width=\"0.5\" d=\"M121.97,-119.62C119.39,-114.17 116.24,-107.52 113.68,-102.11\"/>\n",
              "</g>\n",
              "<!-- &#45;8700703932026571560 -->\n",
              "<g id=\"node21\" class=\"node\">\n",
              "<title>&#45;8700703932026571560</title>\n",
              "<path fill=\"none\" stroke=\"black\" stroke-width=\"0.25\" d=\"M148.38,-102C148.38,-102 141.41,-102 141.41,-102 137.92,-102 134.44,-98.52 134.44,-95.03 134.44,-95.03 134.44,-86.97 134.44,-86.97 134.44,-83.48 137.92,-80 141.41,-80 141.41,-80 148.38,-80 148.38,-80 151.86,-80 155.35,-83.48 155.35,-86.97 155.35,-86.97 155.35,-95.03 155.35,-95.03 155.35,-98.52 151.86,-102 148.38,-102\"/>\n",
              "<text text-anchor=\"middle\" x=\"144.89\" y=\"-86.8\" font-family=\"Times,serif\" font-size=\"14.00\">F’</text>\n",
              "</g>\n",
              "<!-- &#45;6530119556926276125&#45;&gt;&#45;8700703932026571560 -->\n",
              "<g id=\"edge28\" class=\"edge\">\n",
              "<title>&#45;6530119556926276125&#45;&gt;&#45;8700703932026571560</title>\n",
              "<path fill=\"none\" stroke=\"black\" stroke-width=\"0.5\" d=\"M131.81,-119.62C134.39,-114.17 137.54,-107.52 140.1,-102.11\"/>\n",
              "</g>\n",
              "<!-- &#45;1802685491416506470&#45;&gt;&#45;8700703932026571560 -->\n",
              "<!-- 5293160499048616410 -->\n",
              "<g id=\"node22\" class=\"node\">\n",
              "<title>5293160499048616410</title>\n",
              "<path fill=\"none\" stroke=\"black\" stroke-width=\"1.25\" d=\"M110.86,-62C110.86,-62 106.93,-62 106.93,-62 104.97,-62 103,-60.04 103,-58.07 103,-58.07 103,-43.93 103,-43.93 103,-41.96 104.97,-40 106.93,-40 106.93,-40 110.86,-40 110.86,-40 112.82,-40 114.78,-41.96 114.78,-43.93 114.78,-43.93 114.78,-58.07 114.78,-58.07 114.78,-60.04 112.82,-62 110.86,-62\"/>\n",
              "<text text-anchor=\"middle\" x=\"108.89\" y=\"-46.8\" font-family=\"Times,serif\" font-size=\"14.00\">i</text>\n",
              "</g>\n",
              "<!-- &#45;1802685491416506470&#45;&gt;5293160499048616410 -->\n",
              "<g id=\"edge30\" class=\"edge\">\n",
              "<title>&#45;1802685491416506470&#45;&gt;5293160499048616410</title>\n",
              "<path fill=\"none\" stroke=\"black\" stroke-width=\"0.5\" d=\"M108.89,-79.62C108.89,-74.17 108.89,-67.52 108.89,-62.11\"/>\n",
              "</g>\n",
              "<!-- 1611490215349786471 -->\n",
              "<g id=\"node23\" class=\"node\">\n",
              "<title>1611490215349786471</title>\n",
              "<path fill=\"none\" stroke=\"black\" stroke-width=\"1.25\" d=\"M144.39,-62C144.39,-62 139.39,-62 139.39,-62 136.89,-62 134.39,-59.5 134.39,-57 134.39,-57 134.39,-45 134.39,-45 134.39,-42.5 136.89,-40 139.39,-40 139.39,-40 144.39,-40 144.39,-40 146.89,-40 149.39,-42.5 149.39,-45 149.39,-45 149.39,-57 149.39,-57 149.39,-59.5 146.89,-62 144.39,-62\"/>\n",
              "<text text-anchor=\"middle\" x=\"141.89\" y=\"-46.8\" font-family=\"Times,serif\" font-size=\"14.00\">*</text>\n",
              "</g>\n",
              "<!-- &#45;8700703932026571560&#45;&gt;1611490215349786471 -->\n",
              "<g id=\"edge31\" class=\"edge\">\n",
              "<title>&#45;8700703932026571560&#45;&gt;1611490215349786471</title>\n",
              "<path fill=\"none\" stroke=\"black\" stroke-width=\"0.5\" d=\"M144.07,-79.62C143.64,-74.17 143.12,-67.52 142.69,-62.11\"/>\n",
              "</g>\n",
              "<!-- &#45;1802677924235678581 -->\n",
              "<g id=\"node24\" class=\"node\">\n",
              "<title>&#45;1802677924235678581</title>\n",
              "<path fill=\"none\" stroke=\"black\" stroke-width=\"0.25\" d=\"M177.49,-62C177.49,-62 172.3,-62 172.3,-62 169.7,-62 167.11,-59.4 167.11,-56.81 167.11,-56.81 167.11,-45.19 167.11,-45.19 167.11,-42.6 169.7,-40 172.3,-40 172.3,-40 177.49,-40 177.49,-40 180.08,-40 182.68,-42.6 182.68,-45.19 182.68,-45.19 182.68,-56.81 182.68,-56.81 182.68,-59.4 180.08,-62 177.49,-62\"/>\n",
              "<text text-anchor=\"middle\" x=\"174.89\" y=\"-46.8\" font-family=\"Times,serif\" font-size=\"14.00\">F</text>\n",
              "</g>\n",
              "<!-- &#45;8700703932026571560&#45;&gt;&#45;1802677924235678581 -->\n",
              "<g id=\"edge32\" class=\"edge\">\n",
              "<title>&#45;8700703932026571560&#45;&gt;&#45;1802677924235678581</title>\n",
              "<path fill=\"none\" stroke=\"black\" stroke-width=\"0.5\" d=\"M153.09,-79.62C157.39,-74.17 162.64,-67.52 166.91,-62.11\"/>\n",
              "</g>\n",
              "<!-- 1611490215349786471&#45;&gt;&#45;1802677924235678581 -->\n",
              "<!-- 5293163021442614056 -->\n",
              "<g id=\"node25\" class=\"node\">\n",
              "<title>5293163021442614056</title>\n",
              "<path fill=\"none\" stroke=\"black\" stroke-width=\"1.25\" d=\"M176.86,-22C176.86,-22 172.93,-22 172.93,-22 170.97,-22 169,-20.04 169,-18.07 169,-18.07 169,-3.93 169,-3.93 169,-1.96 170.97,0 172.93,0 172.93,0 176.86,0 176.86,0 178.82,0 180.78,-1.96 180.78,-3.93 180.78,-3.93 180.78,-18.07 180.78,-18.07 180.78,-20.04 178.82,-22 176.86,-22\"/>\n",
              "<text text-anchor=\"middle\" x=\"174.89\" y=\"-6.8\" font-family=\"Times,serif\" font-size=\"14.00\">i</text>\n",
              "</g>\n",
              "<!-- &#45;1802677924235678581&#45;&gt;5293163021442614056 -->\n",
              "<g id=\"edge34\" class=\"edge\">\n",
              "<title>&#45;1802677924235678581&#45;&gt;5293163021442614056</title>\n",
              "<path fill=\"none\" stroke=\"black\" stroke-width=\"0.5\" d=\"M174.89,-39.62C174.89,-34.17 174.89,-27.52 174.89,-22.11\"/>\n",
              "</g>\n",
              "</g>\n",
              "</svg>\n"
            ],
            "text/plain": [
              "ProductionGraph(E -> T E’ -> F F’ E’ -> i F’ E’ -> i * F E’ -> i * ( E ) E’ -> i * ( T E’ ) E’ -> i * ( F F’ E’ ) E’ -> i * ( i F’ E’ ) E’ -> i * ( i E’ ) E’ -> i * ( i + T ) E’ -> i * ( i + F F’ ) E’ -> i * ( i + i F’ ) E’ -> i * ( i + i * F ) E’ -> i * ( i + i * i ) E’ -> i * ( i + i * i ))"
            ]
          },
          "execution_count": 30,
          "metadata": {},
          "output_type": "execute_result"
        }
      ],
      "source": [
        "ProductionGraph(parse(G, TABLE, 'i * ( i + i * i )'.split()))"
      ]
    },
    {
      "cell_type": "markdown",
      "metadata": {},
      "source": [
        "La grammatica così fattorizzata si presta molto bene ad evitare la necessità di parentesizzare coppie di operandi, pur rispettando l'associatività"
      ]
    },
    {
      "cell_type": "code",
      "execution_count": null,
      "metadata": {},
      "outputs": [],
      "source": [
        "G = Grammar.from_string(\"\"\"\n",
        "E  -> T E’\n",
        "E’ -> + T E’| ε\n",
        "T  -> F F’\n",
        "F’ -> * F F’ | ε\n",
        "F  -> ( E ) | i\n",
        "\"\"\")"
      ]
    },
    {
      "cell_type": "code",
      "execution_count": null,
      "metadata": {},
      "outputs": [],
      "source": [
        "FF, TABLE = fft(G) "
      ]
    },
    {
      "cell_type": "code",
      "execution_count": null,
      "metadata": {},
      "outputs": [
        {
          "data": {
            "image/svg+xml": [
              "<?xml version=\"1.0\" encoding=\"UTF-8\" standalone=\"no\"?>\n",
              "<!DOCTYPE svg PUBLIC \"-//W3C//DTD SVG 1.1//EN\"\n",
              " \"http://www.w3.org/Graphics/SVG/1.1/DTD/svg11.dtd\">\n",
              "<!-- Generated by graphviz version 2.43.0 (0)\n",
              " -->\n",
              "<!-- Title: %3 Pages: 1 -->\n",
              "<svg width=\"253pt\" height=\"270pt\"\n",
              " viewBox=\"0.00 0.00 253.12 270.00\" xmlns=\"http://www.w3.org/2000/svg\" xmlns:xlink=\"http://www.w3.org/1999/xlink\">\n",
              "<g id=\"graph0\" class=\"graph\" transform=\"scale(1 1) rotate(0) translate(4 266)\">\n",
              "<title>%3</title>\n",
              "<polygon fill=\"white\" stroke=\"transparent\" points=\"-4,4 -4,-266 249.12,-266 249.12,4 -4,4\"/>\n",
              "<!-- &#45;4278494435176705380 -->\n",
              "<g id=\"node1\" class=\"node\">\n",
              "<title>&#45;4278494435176705380</title>\n",
              "<path fill=\"none\" stroke=\"black\" stroke-width=\"0.25\" d=\"M64.58,-262C64.58,-262 59.21,-262 59.21,-262 56.52,-262 53.84,-259.31 53.84,-256.63 53.84,-256.63 53.84,-245.37 53.84,-245.37 53.84,-242.69 56.52,-240 59.21,-240 59.21,-240 64.58,-240 64.58,-240 67.26,-240 69.95,-242.69 69.95,-245.37 69.95,-245.37 69.95,-256.63 69.95,-256.63 69.95,-259.31 67.26,-262 64.58,-262\"/>\n",
              "<text text-anchor=\"middle\" x=\"61.89\" y=\"-246.8\" font-family=\"Times,serif\" font-size=\"14.00\">E</text>\n",
              "</g>\n",
              "<!-- &#45;6530113250940116961 -->\n",
              "<g id=\"node2\" class=\"node\">\n",
              "<title>&#45;6530113250940116961</title>\n",
              "<path fill=\"none\" stroke=\"black\" stroke-width=\"0.25\" d=\"M46.58,-222C46.58,-222 41.21,-222 41.21,-222 38.52,-222 35.84,-219.31 35.84,-216.63 35.84,-216.63 35.84,-205.37 35.84,-205.37 35.84,-202.69 38.52,-200 41.21,-200 41.21,-200 46.58,-200 46.58,-200 49.26,-200 51.95,-202.69 51.95,-205.37 51.95,-205.37 51.95,-216.63 51.95,-216.63 51.95,-219.31 49.26,-222 46.58,-222\"/>\n",
              "<text text-anchor=\"middle\" x=\"43.89\" y=\"-206.8\" font-family=\"Times,serif\" font-size=\"14.00\">T</text>\n",
              "</g>\n",
              "<!-- &#45;4278494435176705380&#45;&gt;&#45;6530113250940116961 -->\n",
              "<g id=\"edge1\" class=\"edge\">\n",
              "<title>&#45;4278494435176705380&#45;&gt;&#45;6530113250940116961</title>\n",
              "<path fill=\"none\" stroke=\"black\" stroke-width=\"0.5\" d=\"M56.97,-239.62C54.39,-234.17 51.24,-227.52 48.68,-222.11\"/>\n",
              "</g>\n",
              "<!-- 3369992817188548585 -->\n",
              "<g id=\"node3\" class=\"node\">\n",
              "<title>3369992817188548585</title>\n",
              "<path fill=\"none\" stroke=\"black\" stroke-width=\"0.25\" d=\"M84.46,-222C84.46,-222 77.32,-222 77.32,-222 73.75,-222 70.18,-218.43 70.18,-214.86 70.18,-214.86 70.18,-207.14 70.18,-207.14 70.18,-203.57 73.75,-200 77.32,-200 77.32,-200 84.46,-200 84.46,-200 88.04,-200 91.61,-203.57 91.61,-207.14 91.61,-207.14 91.61,-214.86 91.61,-214.86 91.61,-218.43 88.04,-222 84.46,-222\"/>\n",
              "<text text-anchor=\"middle\" x=\"80.89\" y=\"-206.8\" font-family=\"Times,serif\" font-size=\"14.00\">E’</text>\n",
              "</g>\n",
              "<!-- &#45;4278494435176705380&#45;&gt;3369992817188548585 -->\n",
              "<g id=\"edge2\" class=\"edge\">\n",
              "<title>&#45;4278494435176705380&#45;&gt;3369992817188548585</title>\n",
              "<path fill=\"none\" stroke=\"black\" stroke-width=\"0.5\" d=\"M67.08,-239.62C69.81,-234.17 73.13,-227.52 75.84,-222.11\"/>\n",
              "</g>\n",
              "<!-- &#45;6530113250940116961&#45;&gt;3369992817188548585 -->\n",
              "<!-- &#45;1802696842189495877 -->\n",
              "<g id=\"node4\" class=\"node\">\n",
              "<title>&#45;1802696842189495877</title>\n",
              "<path fill=\"none\" stroke=\"black\" stroke-width=\"0.25\" d=\"M10.49,-182C10.49,-182 5.3,-182 5.3,-182 2.7,-182 0.11,-179.4 0.11,-176.81 0.11,-176.81 0.11,-165.19 0.11,-165.19 0.11,-162.6 2.7,-160 5.3,-160 5.3,-160 10.49,-160 10.49,-160 13.08,-160 15.68,-162.6 15.68,-165.19 15.68,-165.19 15.68,-176.81 15.68,-176.81 15.68,-179.4 13.08,-182 10.49,-182\"/>\n",
              "<text text-anchor=\"middle\" x=\"7.89\" y=\"-166.8\" font-family=\"Times,serif\" font-size=\"14.00\">F</text>\n",
              "</g>\n",
              "<!-- &#45;6530113250940116961&#45;&gt;&#45;1802696842189495877 -->\n",
              "<g id=\"edge4\" class=\"edge\">\n",
              "<title>&#45;6530113250940116961&#45;&gt;&#45;1802696842189495877</title>\n",
              "<path fill=\"none\" stroke=\"black\" stroke-width=\"0.5\" d=\"M35.54,-201.19C29.56,-194.87 21.56,-186.43 15.7,-180.25\"/>\n",
              "</g>\n",
              "<!-- &#45;8700712760407893419 -->\n",
              "<g id=\"node5\" class=\"node\">\n",
              "<title>&#45;8700712760407893419</title>\n",
              "<path fill=\"none\" stroke=\"black\" stroke-width=\"0.25\" d=\"M47.38,-182C47.38,-182 40.41,-182 40.41,-182 36.92,-182 33.44,-178.52 33.44,-175.03 33.44,-175.03 33.44,-166.97 33.44,-166.97 33.44,-163.48 36.92,-160 40.41,-160 40.41,-160 47.38,-160 47.38,-160 50.86,-160 54.35,-163.48 54.35,-166.97 54.35,-166.97 54.35,-175.03 54.35,-175.03 54.35,-178.52 50.86,-182 47.38,-182\"/>\n",
              "<text text-anchor=\"middle\" x=\"43.89\" y=\"-166.8\" font-family=\"Times,serif\" font-size=\"14.00\">F’</text>\n",
              "</g>\n",
              "<!-- &#45;6530113250940116961&#45;&gt;&#45;8700712760407893419 -->\n",
              "<g id=\"edge5\" class=\"edge\">\n",
              "<title>&#45;6530113250940116961&#45;&gt;&#45;8700712760407893419</title>\n",
              "<path fill=\"none\" stroke=\"black\" stroke-width=\"0.5\" d=\"M43.89,-199.62C43.89,-194.17 43.89,-187.52 43.89,-182.11\"/>\n",
              "</g>\n",
              "<!-- &#45;5515959373606629917 -->\n",
              "<g id=\"node8\" class=\"node\">\n",
              "<title>&#45;5515959373606629917</title>\n",
              "<path fill=\"none\" stroke=\"black\" stroke-width=\"1.25\" d=\"M82.53,-182C82.53,-182 77.26,-182 77.26,-182 74.63,-182 72,-179.37 72,-176.74 72,-176.74 72,-165.26 72,-165.26 72,-162.63 74.63,-160 77.26,-160 77.26,-160 82.53,-160 82.53,-160 85.16,-160 87.79,-162.63 87.79,-165.26 87.79,-165.26 87.79,-176.74 87.79,-176.74 87.79,-179.37 85.16,-182 82.53,-182\"/>\n",
              "<text text-anchor=\"middle\" x=\"79.89\" y=\"-166.8\" font-family=\"Times,serif\" font-size=\"14.00\">+</text>\n",
              "</g>\n",
              "<!-- 3369992817188548585&#45;&gt;&#45;5515959373606629917 -->\n",
              "<g id=\"edge9\" class=\"edge\">\n",
              "<title>3369992817188548585&#45;&gt;&#45;5515959373606629917</title>\n",
              "<path fill=\"none\" stroke=\"black\" stroke-width=\"0.5\" d=\"M80.62,-199.62C80.48,-194.17 80.3,-187.52 80.16,-182.11\"/>\n",
              "</g>\n",
              "<!-- &#45;6530118295726947204 -->\n",
              "<g id=\"node9\" class=\"node\">\n",
              "<title>&#45;6530118295726947204</title>\n",
              "<path fill=\"none\" stroke=\"black\" stroke-width=\"0.25\" d=\"M116.58,-182C116.58,-182 111.21,-182 111.21,-182 108.52,-182 105.84,-179.31 105.84,-176.63 105.84,-176.63 105.84,-165.37 105.84,-165.37 105.84,-162.69 108.52,-160 111.21,-160 111.21,-160 116.58,-160 116.58,-160 119.26,-160 121.95,-162.69 121.95,-165.37 121.95,-165.37 121.95,-176.63 121.95,-176.63 121.95,-179.31 119.26,-182 116.58,-182\"/>\n",
              "<text text-anchor=\"middle\" x=\"113.89\" y=\"-166.8\" font-family=\"Times,serif\" font-size=\"14.00\">T</text>\n",
              "</g>\n",
              "<!-- 3369992817188548585&#45;&gt;&#45;6530118295726947204 -->\n",
              "<g id=\"edge10\" class=\"edge\">\n",
              "<title>3369992817188548585&#45;&gt;&#45;6530118295726947204</title>\n",
              "<path fill=\"none\" stroke=\"black\" stroke-width=\"0.5\" d=\"M89.91,-199.62C94.87,-193.9 100.98,-186.87 105.79,-181.33\"/>\n",
              "</g>\n",
              "<!-- 3369997861975378828 -->\n",
              "<g id=\"node10\" class=\"node\">\n",
              "<title>3369997861975378828</title>\n",
              "<path fill=\"none\" stroke=\"black\" stroke-width=\"0.25\" d=\"M154.46,-182C154.46,-182 147.32,-182 147.32,-182 143.75,-182 140.18,-178.43 140.18,-174.86 140.18,-174.86 140.18,-167.14 140.18,-167.14 140.18,-163.57 143.75,-160 147.32,-160 147.32,-160 154.46,-160 154.46,-160 158.04,-160 161.61,-163.57 161.61,-167.14 161.61,-167.14 161.61,-174.86 161.61,-174.86 161.61,-178.43 158.04,-182 154.46,-182\"/>\n",
              "<text text-anchor=\"middle\" x=\"150.89\" y=\"-166.8\" font-family=\"Times,serif\" font-size=\"14.00\">E’</text>\n",
              "</g>\n",
              "<!-- 3369992817188548585&#45;&gt;3369997861975378828 -->\n",
              "<g id=\"edge11\" class=\"edge\">\n",
              "<title>3369992817188548585&#45;&gt;3369997861975378828</title>\n",
              "<path fill=\"none\" stroke=\"black\" stroke-width=\"0.5\" d=\"M91.52,-204.23C104.68,-197.09 126.96,-184.99 140.16,-177.83\"/>\n",
              "</g>\n",
              "<!-- &#45;1802696842189495877&#45;&gt;&#45;8700712760407893419 -->\n",
              "<!-- 5293156715457619941 -->\n",
              "<g id=\"node6\" class=\"node\">\n",
              "<title>5293156715457619941</title>\n",
              "<path fill=\"none\" stroke=\"black\" stroke-width=\"1.25\" d=\"M9.86,-142C9.86,-142 5.93,-142 5.93,-142 3.97,-142 2,-140.04 2,-138.07 2,-138.07 2,-123.93 2,-123.93 2,-121.96 3.97,-120 5.93,-120 5.93,-120 9.86,-120 9.86,-120 11.82,-120 13.78,-121.96 13.78,-123.93 13.78,-123.93 13.78,-138.07 13.78,-138.07 13.78,-140.04 11.82,-142 9.86,-142\"/>\n",
              "<text text-anchor=\"middle\" x=\"7.89\" y=\"-126.8\" font-family=\"Times,serif\" font-size=\"14.00\">i</text>\n",
              "</g>\n",
              "<!-- &#45;1802696842189495877&#45;&gt;5293156715457619941 -->\n",
              "<g id=\"edge7\" class=\"edge\">\n",
              "<title>&#45;1802696842189495877&#45;&gt;5293156715457619941</title>\n",
              "<path fill=\"none\" stroke=\"black\" stroke-width=\"0.5\" d=\"M7.89,-159.62C7.89,-154.17 7.89,-147.52 7.89,-142.11\"/>\n",
              "</g>\n",
              "<!-- &#45;473618986133522249 -->\n",
              "<g id=\"node7\" class=\"node\">\n",
              "<title>&#45;473618986133522249</title>\n",
              "<path fill=\"none\" stroke=\"black\" stroke-width=\"0.25\" d=\"M46.3,-142C46.3,-142 41.49,-142 41.49,-142 39.08,-142 36.68,-139.59 36.68,-137.19 36.68,-137.19 36.68,-124.81 36.68,-124.81 36.68,-122.41 39.08,-120 41.49,-120 41.49,-120 46.3,-120 46.3,-120 48.7,-120 51.11,-122.41 51.11,-124.81 51.11,-124.81 51.11,-137.19 51.11,-137.19 51.11,-139.59 48.7,-142 46.3,-142\"/>\n",
              "<text text-anchor=\"middle\" x=\"43.89\" y=\"-126.8\" font-family=\"Times,serif\" font-size=\"14.00\">ε</text>\n",
              "</g>\n",
              "<!-- &#45;8700712760407893419&#45;&gt;&#45;473618986133522249 -->\n",
              "<g id=\"edge8\" class=\"edge\">\n",
              "<title>&#45;8700712760407893419&#45;&gt;&#45;473618986133522249</title>\n",
              "<path fill=\"none\" stroke=\"black\" stroke-width=\"0.5\" d=\"M43.89,-159.62C43.89,-154.17 43.89,-147.52 43.89,-142.11\"/>\n",
              "</g>\n",
              "<!-- &#45;5515959373606629917&#45;&gt;&#45;6530118295726947204 -->\n",
              "<!-- &#45;6530118295726947204&#45;&gt;3369997861975378828 -->\n",
              "<!-- &#45;1802691797401500585 -->\n",
              "<g id=\"node11\" class=\"node\">\n",
              "<title>&#45;1802691797401500585</title>\n",
              "<path fill=\"none\" stroke=\"black\" stroke-width=\"0.25\" d=\"M80.49,-142C80.49,-142 75.3,-142 75.3,-142 72.7,-142 70.11,-139.4 70.11,-136.81 70.11,-136.81 70.11,-125.19 70.11,-125.19 70.11,-122.6 72.7,-120 75.3,-120 75.3,-120 80.49,-120 80.49,-120 83.08,-120 85.68,-122.6 85.68,-125.19 85.68,-125.19 85.68,-136.81 85.68,-136.81 85.68,-139.4 83.08,-142 80.49,-142\"/>\n",
              "<text text-anchor=\"middle\" x=\"77.89\" y=\"-126.8\" font-family=\"Times,serif\" font-size=\"14.00\">F</text>\n",
              "</g>\n",
              "<!-- &#45;6530118295726947204&#45;&gt;&#45;1802691797401500585 -->\n",
              "<g id=\"edge14\" class=\"edge\">\n",
              "<title>&#45;6530118295726947204&#45;&gt;&#45;1802691797401500585</title>\n",
              "<path fill=\"none\" stroke=\"black\" stroke-width=\"0.5\" d=\"M105.54,-161.19C99.56,-154.87 91.56,-146.43 85.7,-140.25\"/>\n",
              "</g>\n",
              "<!-- &#45;8700717805195888711 -->\n",
              "<g id=\"node12\" class=\"node\">\n",
              "<title>&#45;8700717805195888711</title>\n",
              "<path fill=\"none\" stroke=\"black\" stroke-width=\"0.25\" d=\"M117.38,-142C117.38,-142 110.41,-142 110.41,-142 106.92,-142 103.44,-138.52 103.44,-135.03 103.44,-135.03 103.44,-126.97 103.44,-126.97 103.44,-123.48 106.92,-120 110.41,-120 110.41,-120 117.38,-120 117.38,-120 120.86,-120 124.35,-123.48 124.35,-126.97 124.35,-126.97 124.35,-135.03 124.35,-135.03 124.35,-138.52 120.86,-142 117.38,-142\"/>\n",
              "<text text-anchor=\"middle\" x=\"113.89\" y=\"-126.8\" font-family=\"Times,serif\" font-size=\"14.00\">F’</text>\n",
              "</g>\n",
              "<!-- &#45;6530118295726947204&#45;&gt;&#45;8700717805195888711 -->\n",
              "<g id=\"edge15\" class=\"edge\">\n",
              "<title>&#45;6530118295726947204&#45;&gt;&#45;8700717805195888711</title>\n",
              "<path fill=\"none\" stroke=\"black\" stroke-width=\"0.5\" d=\"M113.89,-159.62C113.89,-154.17 113.89,-147.52 113.89,-142.11\"/>\n",
              "</g>\n",
              "<!-- &#45;5515964418394625209 -->\n",
              "<g id=\"node15\" class=\"node\">\n",
              "<title>&#45;5515964418394625209</title>\n",
              "<path fill=\"none\" stroke=\"black\" stroke-width=\"1.25\" d=\"M152.53,-142C152.53,-142 147.26,-142 147.26,-142 144.63,-142 142,-139.37 142,-136.74 142,-136.74 142,-125.26 142,-125.26 142,-122.63 144.63,-120 147.26,-120 147.26,-120 152.53,-120 152.53,-120 155.16,-120 157.79,-122.63 157.79,-125.26 157.79,-125.26 157.79,-136.74 157.79,-136.74 157.79,-139.37 155.16,-142 152.53,-142\"/>\n",
              "<text text-anchor=\"middle\" x=\"149.89\" y=\"-126.8\" font-family=\"Times,serif\" font-size=\"14.00\">+</text>\n",
              "</g>\n",
              "<!-- 3369997861975378828&#45;&gt;&#45;5515964418394625209 -->\n",
              "<g id=\"edge19\" class=\"edge\">\n",
              "<title>3369997861975378828&#45;&gt;&#45;5515964418394625209</title>\n",
              "<path fill=\"none\" stroke=\"black\" stroke-width=\"0.5\" d=\"M150.62,-159.62C150.48,-154.17 150.3,-147.52 150.16,-142.11\"/>\n",
              "</g>\n",
              "<!-- &#45;6530123340514942496 -->\n",
              "<g id=\"node16\" class=\"node\">\n",
              "<title>&#45;6530123340514942496</title>\n",
              "<path fill=\"none\" stroke=\"black\" stroke-width=\"0.25\" d=\"M186.58,-142C186.58,-142 181.21,-142 181.21,-142 178.52,-142 175.84,-139.31 175.84,-136.63 175.84,-136.63 175.84,-125.37 175.84,-125.37 175.84,-122.69 178.52,-120 181.21,-120 181.21,-120 186.58,-120 186.58,-120 189.26,-120 191.95,-122.69 191.95,-125.37 191.95,-125.37 191.95,-136.63 191.95,-136.63 191.95,-139.31 189.26,-142 186.58,-142\"/>\n",
              "<text text-anchor=\"middle\" x=\"183.89\" y=\"-126.8\" font-family=\"Times,serif\" font-size=\"14.00\">T</text>\n",
              "</g>\n",
              "<!-- 3369997861975378828&#45;&gt;&#45;6530123340514942496 -->\n",
              "<g id=\"edge20\" class=\"edge\">\n",
              "<title>3369997861975378828&#45;&gt;&#45;6530123340514942496</title>\n",
              "<path fill=\"none\" stroke=\"black\" stroke-width=\"0.5\" d=\"M159.91,-159.62C164.87,-153.9 170.98,-146.87 175.79,-141.33\"/>\n",
              "</g>\n",
              "<!-- 3370002906763374120 -->\n",
              "<g id=\"node17\" class=\"node\">\n",
              "<title>3370002906763374120</title>\n",
              "<path fill=\"none\" stroke=\"black\" stroke-width=\"0.25\" d=\"M224.46,-142C224.46,-142 217.32,-142 217.32,-142 213.75,-142 210.18,-138.43 210.18,-134.86 210.18,-134.86 210.18,-127.14 210.18,-127.14 210.18,-123.57 213.75,-120 217.32,-120 217.32,-120 224.46,-120 224.46,-120 228.04,-120 231.61,-123.57 231.61,-127.14 231.61,-127.14 231.61,-134.86 231.61,-134.86 231.61,-138.43 228.04,-142 224.46,-142\"/>\n",
              "<text text-anchor=\"middle\" x=\"220.89\" y=\"-126.8\" font-family=\"Times,serif\" font-size=\"14.00\">E’</text>\n",
              "</g>\n",
              "<!-- 3369997861975378828&#45;&gt;3370002906763374120 -->\n",
              "<g id=\"edge21\" class=\"edge\">\n",
              "<title>3369997861975378828&#45;&gt;3370002906763374120</title>\n",
              "<path fill=\"none\" stroke=\"black\" stroke-width=\"0.5\" d=\"M161.52,-164.23C174.68,-157.09 196.96,-144.99 210.16,-137.83\"/>\n",
              "</g>\n",
              "<!-- &#45;1802691797401500585&#45;&gt;&#45;8700717805195888711 -->\n",
              "<!-- 5293151670669624649 -->\n",
              "<g id=\"node13\" class=\"node\">\n",
              "<title>5293151670669624649</title>\n",
              "<path fill=\"none\" stroke=\"black\" stroke-width=\"1.25\" d=\"M79.86,-102C79.86,-102 75.93,-102 75.93,-102 73.97,-102 72,-100.04 72,-98.07 72,-98.07 72,-83.93 72,-83.93 72,-81.96 73.97,-80 75.93,-80 75.93,-80 79.86,-80 79.86,-80 81.82,-80 83.78,-81.96 83.78,-83.93 83.78,-83.93 83.78,-98.07 83.78,-98.07 83.78,-100.04 81.82,-102 79.86,-102\"/>\n",
              "<text text-anchor=\"middle\" x=\"77.89\" y=\"-86.8\" font-family=\"Times,serif\" font-size=\"14.00\">i</text>\n",
              "</g>\n",
              "<!-- &#45;1802691797401500585&#45;&gt;5293151670669624649 -->\n",
              "<g id=\"edge17\" class=\"edge\">\n",
              "<title>&#45;1802691797401500585&#45;&gt;5293151670669624649</title>\n",
              "<path fill=\"none\" stroke=\"black\" stroke-width=\"0.5\" d=\"M77.89,-119.62C77.89,-114.17 77.89,-107.52 77.89,-102.11\"/>\n",
              "</g>\n",
              "<!-- &#45;473613941345526957 -->\n",
              "<g id=\"node14\" class=\"node\">\n",
              "<title>&#45;473613941345526957</title>\n",
              "<path fill=\"none\" stroke=\"black\" stroke-width=\"0.25\" d=\"M116.3,-102C116.3,-102 111.49,-102 111.49,-102 109.08,-102 106.68,-99.59 106.68,-97.19 106.68,-97.19 106.68,-84.81 106.68,-84.81 106.68,-82.41 109.08,-80 111.49,-80 111.49,-80 116.3,-80 116.3,-80 118.7,-80 121.11,-82.41 121.11,-84.81 121.11,-84.81 121.11,-97.19 121.11,-97.19 121.11,-99.59 118.7,-102 116.3,-102\"/>\n",
              "<text text-anchor=\"middle\" x=\"113.89\" y=\"-86.8\" font-family=\"Times,serif\" font-size=\"14.00\">ε</text>\n",
              "</g>\n",
              "<!-- &#45;8700717805195888711&#45;&gt;&#45;473613941345526957 -->\n",
              "<g id=\"edge18\" class=\"edge\">\n",
              "<title>&#45;8700717805195888711&#45;&gt;&#45;473613941345526957</title>\n",
              "<path fill=\"none\" stroke=\"black\" stroke-width=\"0.5\" d=\"M113.89,-119.62C113.89,-114.17 113.89,-107.52 113.89,-102.11\"/>\n",
              "</g>\n",
              "<!-- &#45;5515964418394625209&#45;&gt;&#45;6530123340514942496 -->\n",
              "<!-- &#45;6530123340514942496&#45;&gt;3370002906763374120 -->\n",
              "<!-- &#45;1802686752613505293 -->\n",
              "<g id=\"node18\" class=\"node\">\n",
              "<title>&#45;1802686752613505293</title>\n",
              "<path fill=\"none\" stroke=\"black\" stroke-width=\"0.25\" d=\"M151.49,-102C151.49,-102 146.3,-102 146.3,-102 143.7,-102 141.11,-99.4 141.11,-96.81 141.11,-96.81 141.11,-85.19 141.11,-85.19 141.11,-82.6 143.7,-80 146.3,-80 146.3,-80 151.49,-80 151.49,-80 154.08,-80 156.68,-82.6 156.68,-85.19 156.68,-85.19 156.68,-96.81 156.68,-96.81 156.68,-99.4 154.08,-102 151.49,-102\"/>\n",
              "<text text-anchor=\"middle\" x=\"148.89\" y=\"-86.8\" font-family=\"Times,serif\" font-size=\"14.00\">F</text>\n",
              "</g>\n",
              "<!-- &#45;6530123340514942496&#45;&gt;&#45;1802686752613505293 -->\n",
              "<g id=\"edge24\" class=\"edge\">\n",
              "<title>&#45;6530123340514942496&#45;&gt;&#45;1802686752613505293</title>\n",
              "<path fill=\"none\" stroke=\"black\" stroke-width=\"0.5\" d=\"M175.78,-121.19C170.04,-114.96 162.4,-106.66 156.73,-100.5\"/>\n",
              "</g>\n",
              "<!-- &#45;8700702670831902835 -->\n",
              "<g id=\"node19\" class=\"node\">\n",
              "<title>&#45;8700702670831902835</title>\n",
              "<path fill=\"none\" stroke=\"black\" stroke-width=\"0.25\" d=\"M188.38,-102C188.38,-102 181.41,-102 181.41,-102 177.92,-102 174.44,-98.52 174.44,-95.03 174.44,-95.03 174.44,-86.97 174.44,-86.97 174.44,-83.48 177.92,-80 181.41,-80 181.41,-80 188.38,-80 188.38,-80 191.86,-80 195.35,-83.48 195.35,-86.97 195.35,-86.97 195.35,-95.03 195.35,-95.03 195.35,-98.52 191.86,-102 188.38,-102\"/>\n",
              "<text text-anchor=\"middle\" x=\"184.89\" y=\"-86.8\" font-family=\"Times,serif\" font-size=\"14.00\">F’</text>\n",
              "</g>\n",
              "<!-- &#45;6530123340514942496&#45;&gt;&#45;8700702670831902835 -->\n",
              "<g id=\"edge25\" class=\"edge\">\n",
              "<title>&#45;6530123340514942496&#45;&gt;&#45;8700702670831902835</title>\n",
              "<path fill=\"none\" stroke=\"black\" stroke-width=\"0.5\" d=\"M184.17,-119.62C184.31,-114.17 184.48,-107.52 184.63,-102.11\"/>\n",
              "</g>\n",
              "<!-- &#45;473605112966535196 -->\n",
              "<g id=\"node26\" class=\"node\">\n",
              "<title>&#45;473605112966535196</title>\n",
              "<path fill=\"none\" stroke=\"black\" stroke-width=\"0.25\" d=\"M223.3,-102C223.3,-102 218.49,-102 218.49,-102 216.08,-102 213.68,-99.59 213.68,-97.19 213.68,-97.19 213.68,-84.81 213.68,-84.81 213.68,-82.41 216.08,-80 218.49,-80 218.49,-80 223.3,-80 223.3,-80 225.7,-80 228.11,-82.41 228.11,-84.81 228.11,-84.81 228.11,-97.19 228.11,-97.19 228.11,-99.59 225.7,-102 223.3,-102\"/>\n",
              "<text text-anchor=\"middle\" x=\"220.89\" y=\"-86.8\" font-family=\"Times,serif\" font-size=\"14.00\">ε</text>\n",
              "</g>\n",
              "<!-- 3370002906763374120&#45;&gt;&#45;473605112966535196 -->\n",
              "<g id=\"edge35\" class=\"edge\">\n",
              "<title>3370002906763374120&#45;&gt;&#45;473605112966535196</title>\n",
              "<path fill=\"none\" stroke=\"black\" stroke-width=\"0.5\" d=\"M220.89,-119.62C220.89,-114.17 220.89,-107.52 220.89,-102.11\"/>\n",
              "</g>\n",
              "<!-- &#45;1802686752613505293&#45;&gt;&#45;8700702670831902835 -->\n",
              "<!-- 5293166805033610525 -->\n",
              "<g id=\"node20\" class=\"node\">\n",
              "<title>5293166805033610525</title>\n",
              "<path fill=\"none\" stroke=\"black\" stroke-width=\"1.25\" d=\"M136.86,-62C136.86,-62 132.93,-62 132.93,-62 130.97,-62 129,-60.04 129,-58.07 129,-58.07 129,-43.93 129,-43.93 129,-41.96 130.97,-40 132.93,-40 132.93,-40 136.86,-40 136.86,-40 138.82,-40 140.78,-41.96 140.78,-43.93 140.78,-43.93 140.78,-58.07 140.78,-58.07 140.78,-60.04 138.82,-62 136.86,-62\"/>\n",
              "<text text-anchor=\"middle\" x=\"134.89\" y=\"-46.8\" font-family=\"Times,serif\" font-size=\"14.00\">i</text>\n",
              "</g>\n",
              "<!-- &#45;1802686752613505293&#45;&gt;5293166805033610525 -->\n",
              "<g id=\"edge27\" class=\"edge\">\n",
              "<title>&#45;1802686752613505293&#45;&gt;5293166805033610525</title>\n",
              "<path fill=\"none\" stroke=\"black\" stroke-width=\"0.5\" d=\"M145.07,-79.62C143.06,-74.17 140.61,-67.52 138.62,-62.11\"/>\n",
              "</g>\n",
              "<!-- 1611491476546785294 -->\n",
              "<g id=\"node21\" class=\"node\">\n",
              "<title>1611491476546785294</title>\n",
              "<path fill=\"none\" stroke=\"black\" stroke-width=\"1.25\" d=\"M168.39,-62C168.39,-62 163.39,-62 163.39,-62 160.89,-62 158.39,-59.5 158.39,-57 158.39,-57 158.39,-45 158.39,-45 158.39,-42.5 160.89,-40 163.39,-40 163.39,-40 168.39,-40 168.39,-40 170.89,-40 173.39,-42.5 173.39,-45 173.39,-45 173.39,-57 173.39,-57 173.39,-59.5 170.89,-62 168.39,-62\"/>\n",
              "<text text-anchor=\"middle\" x=\"165.89\" y=\"-46.8\" font-family=\"Times,serif\" font-size=\"14.00\">*</text>\n",
              "</g>\n",
              "<!-- &#45;8700702670831902835&#45;&gt;1611491476546785294 -->\n",
              "<g id=\"edge28\" class=\"edge\">\n",
              "<title>&#45;8700702670831902835&#45;&gt;1611491476546785294</title>\n",
              "<path fill=\"none\" stroke=\"black\" stroke-width=\"0.5\" d=\"M179.7,-79.62C176.98,-74.17 173.65,-67.52 170.95,-62.11\"/>\n",
              "</g>\n",
              "<!-- &#45;1802679185430347306 -->\n",
              "<g id=\"node22\" class=\"node\">\n",
              "<title>&#45;1802679185430347306</title>\n",
              "<path fill=\"none\" stroke=\"black\" stroke-width=\"0.25\" d=\"M201.49,-62C201.49,-62 196.3,-62 196.3,-62 193.7,-62 191.11,-59.4 191.11,-56.81 191.11,-56.81 191.11,-45.19 191.11,-45.19 191.11,-42.6 193.7,-40 196.3,-40 196.3,-40 201.49,-40 201.49,-40 204.08,-40 206.68,-42.6 206.68,-45.19 206.68,-45.19 206.68,-56.81 206.68,-56.81 206.68,-59.4 204.08,-62 201.49,-62\"/>\n",
              "<text text-anchor=\"middle\" x=\"198.89\" y=\"-46.8\" font-family=\"Times,serif\" font-size=\"14.00\">F</text>\n",
              "</g>\n",
              "<!-- &#45;8700702670831902835&#45;&gt;&#45;1802679185430347306 -->\n",
              "<g id=\"edge29\" class=\"edge\">\n",
              "<title>&#45;8700702670831902835&#45;&gt;&#45;1802679185430347306</title>\n",
              "<path fill=\"none\" stroke=\"black\" stroke-width=\"0.5\" d=\"M188.72,-79.62C190.73,-74.17 193.18,-67.52 195.17,-62.11\"/>\n",
              "</g>\n",
              "<!-- &#45;8700705193222405334 -->\n",
              "<g id=\"node23\" class=\"node\">\n",
              "<title>&#45;8700705193222405334</title>\n",
              "<path fill=\"none\" stroke=\"black\" stroke-width=\"0.25\" d=\"M238.38,-62C238.38,-62 231.41,-62 231.41,-62 227.92,-62 224.44,-58.52 224.44,-55.03 224.44,-55.03 224.44,-46.97 224.44,-46.97 224.44,-43.48 227.92,-40 231.41,-40 231.41,-40 238.38,-40 238.38,-40 241.86,-40 245.35,-43.48 245.35,-46.97 245.35,-46.97 245.35,-55.03 245.35,-55.03 245.35,-58.52 241.86,-62 238.38,-62\"/>\n",
              "<text text-anchor=\"middle\" x=\"234.89\" y=\"-46.8\" font-family=\"Times,serif\" font-size=\"14.00\">F’</text>\n",
              "</g>\n",
              "<!-- &#45;8700702670831902835&#45;&gt;&#45;8700705193222405334 -->\n",
              "<g id=\"edge30\" class=\"edge\">\n",
              "<title>&#45;8700702670831902835&#45;&gt;&#45;8700705193222405334</title>\n",
              "<path fill=\"none\" stroke=\"black\" stroke-width=\"0.5\" d=\"M195.5,-81.94C204.1,-75.41 216.14,-66.25 224.65,-59.79\"/>\n",
              "</g>\n",
              "<!-- 1611491476546785294&#45;&gt;&#45;1802679185430347306 -->\n",
              "<!-- &#45;1802679185430347306&#45;&gt;&#45;8700705193222405334 -->\n",
              "<!-- 5293159237851617587 -->\n",
              "<g id=\"node24\" class=\"node\">\n",
              "<title>5293159237851617587</title>\n",
              "<path fill=\"none\" stroke=\"black\" stroke-width=\"1.25\" d=\"M200.86,-22C200.86,-22 196.93,-22 196.93,-22 194.97,-22 193,-20.04 193,-18.07 193,-18.07 193,-3.93 193,-3.93 193,-1.96 194.97,0 196.93,0 196.93,0 200.86,0 200.86,0 202.82,0 204.78,-1.96 204.78,-3.93 204.78,-3.93 204.78,-18.07 204.78,-18.07 204.78,-20.04 202.82,-22 200.86,-22\"/>\n",
              "<text text-anchor=\"middle\" x=\"198.89\" y=\"-6.8\" font-family=\"Times,serif\" font-size=\"14.00\">i</text>\n",
              "</g>\n",
              "<!-- &#45;1802679185430347306&#45;&gt;5293159237851617587 -->\n",
              "<g id=\"edge33\" class=\"edge\">\n",
              "<title>&#45;1802679185430347306&#45;&gt;5293159237851617587</title>\n",
              "<path fill=\"none\" stroke=\"black\" stroke-width=\"0.5\" d=\"M198.89,-39.62C198.89,-34.17 198.89,-27.52 198.89,-22.11\"/>\n",
              "</g>\n",
              "<!-- &#45;473606374163534019 -->\n",
              "<g id=\"node25\" class=\"node\">\n",
              "<title>&#45;473606374163534019</title>\n",
              "<path fill=\"none\" stroke=\"black\" stroke-width=\"0.25\" d=\"M237.3,-22C237.3,-22 232.49,-22 232.49,-22 230.08,-22 227.68,-19.59 227.68,-17.19 227.68,-17.19 227.68,-4.81 227.68,-4.81 227.68,-2.41 230.08,0 232.49,0 232.49,0 237.3,0 237.3,0 239.7,0 242.11,-2.41 242.11,-4.81 242.11,-4.81 242.11,-17.19 242.11,-17.19 242.11,-19.59 239.7,-22 237.3,-22\"/>\n",
              "<text text-anchor=\"middle\" x=\"234.89\" y=\"-6.8\" font-family=\"Times,serif\" font-size=\"14.00\">ε</text>\n",
              "</g>\n",
              "<!-- &#45;8700705193222405334&#45;&gt;&#45;473606374163534019 -->\n",
              "<g id=\"edge34\" class=\"edge\">\n",
              "<title>&#45;8700705193222405334&#45;&gt;&#45;473606374163534019</title>\n",
              "<path fill=\"none\" stroke=\"black\" stroke-width=\"0.5\" d=\"M234.89,-39.62C234.89,-34.17 234.89,-27.52 234.89,-22.11\"/>\n",
              "</g>\n",
              "</g>\n",
              "</svg>\n"
            ],
            "text/plain": [
              "ProductionGraph(E -> T E’ -> F F’ E’ -> i F’ E’ -> i E’ -> i + T E’ -> i + F F’ E’ -> i + i F’ E’ -> i + i E’ -> i + i + T E’ -> i + i + F F’ E’ -> i + i + i F’ E’ -> i + i + i * F F’ E’ -> i + i + i * i F’ E’ -> i + i + i * i E’ -> i + i + i * i)"
            ]
          },
          "execution_count": 33,
          "metadata": {},
          "output_type": "execute_result"
        }
      ],
      "source": [
        "ProductionGraph(parse(G, TABLE, 'i + i + i * i'.split()))"
      ]
    },
    {
      "cell_type": "markdown",
      "metadata": {},
      "source": [
        "## Parse ricorsivo dicendente con look-ahead\n",
        "\n",
        "Costruiamo ora un parser ricorsivo discendende (come quello sviluppato in [L13](L13.ipynb)) che usi le informazioni della tabella `TABLE` per decidere quali chiamate ricorsive fare (in funzione delle produzioni contenute nella tabella).\n",
        "\n",
        "Per prima cosa ci serve un meccanismo per \"consumare\" i cartteri dell'input e tenere traccia del *look-ahead* ossia del prossimo carattere da leggere."
      ]
    },
    {
      "cell_type": "code",
      "execution_count": null,
      "metadata": {},
      "outputs": [],
      "source": [
        "def consume(t):        \n",
        "    global look_ahead\n",
        "    if look_ahead != t:\n",
        "        warn('Expecting {}, found {}'.format(t, look_ahead))\n",
        "    else:\n",
        "        look_ahead = next(input_iterator, '#')"
      ]
    },
    {
      "cell_type": "markdown",
      "metadata": {},
      "source": [
        "Ora, per ciascun non terminale, tramutiamo la riga relativa in una serie di chiamate ricorsive distinguendo tra le varie colonne grazie al *look-ahead*"
      ]
    },
    {
      "cell_type": "code",
      "execution_count": null,
      "metadata": {},
      "outputs": [],
      "source": [
        "def parse_E():\n",
        "    if look_ahead in {'i', '('}:\n",
        "        parse_T()\n",
        "        parse_Ep()\n",
        "    else:\n",
        "        warn('Error parsing E')"
      ]
    },
    {
      "cell_type": "code",
      "execution_count": null,
      "metadata": {},
      "outputs": [],
      "source": [
        "def parse_Ep():\n",
        "    if look_ahead in {')', '#'}:\n",
        "        pass # questa è l'ε-produzione\n",
        "    elif look_ahead == '+':\n",
        "        consume('+')\n",
        "        parse_T()\n",
        "        parse_Ep()\n",
        "    else:\n",
        "        warn('Error parsing E’')"
      ]
    },
    {
      "cell_type": "code",
      "execution_count": null,
      "metadata": {},
      "outputs": [],
      "source": [
        "def parse_T():\n",
        "    if look_ahead in {'i', '('}:\n",
        "        parse_F()\n",
        "        parse_Fp()\n",
        "    else:\n",
        "        warn('Error parsing T')\n"
      ]
    },
    {
      "cell_type": "code",
      "execution_count": null,
      "metadata": {},
      "outputs": [],
      "source": [
        "def parse_Fp():\n",
        "    if look_ahead in {'+', ')', '#'}:\n",
        "        pass\n",
        "    elif look_ahead == '*':\n",
        "        consume('*')\n",
        "        parse_F()\n",
        "        parse_Fp()\n",
        "    else:\n",
        "        warn('Error parsing F’')"
      ]
    },
    {
      "cell_type": "code",
      "execution_count": null,
      "metadata": {},
      "outputs": [],
      "source": [
        "def parse_F():\n",
        "    if look_ahead == 'i':\n",
        "        consume('i')\n",
        "    elif look_ahead == '(':\n",
        "        consume('(')\n",
        "        x = parse_E()\n",
        "        consume(')')\n",
        "        return x\n",
        "    else:\n",
        "        warn('Error parsing F')"
      ]
    },
    {
      "cell_type": "markdown",
      "metadata": {},
      "source": [
        "Possiamo collaudare il parser costruendo un iteratore sull'input, che sarà usato da `consume` per verificare la correttezza del passo di derivazione e aggiornare il *look-ahead*"
      ]
    },
    {
      "cell_type": "code",
      "execution_count": null,
      "metadata": {},
      "outputs": [],
      "source": [
        "input_iterator = iter('( i * i ) + i + i'.split())\n",
        "look_ahead = next(input_iterator)\n",
        "\n",
        "parse_E() # Non viene restituito nulla, ossia la parola è riconosciuta"
      ]
    },
    {
      "cell_type": "code",
      "execution_count": null,
      "metadata": {},
      "outputs": [
        {
          "name": "stderr",
          "output_type": "stream",
          "text": [
            "Error parsing F’\n",
            "Error parsing E’\n",
            "Expecting ), found i\n",
            "Error parsing F’\n",
            "Error parsing E’\n"
          ]
        }
      ],
      "source": [
        "input_iterator = iter('( i i ) * i'.split())\n",
        "look_ahead = next(input_iterator)\n",
        "\n",
        "parse_E() # La parola non è una espressione valida, quindi viene restituito un errore"
      ]
    },
    {
      "cell_type": "markdown",
      "metadata": {},
      "source": [
        "### <span style=\"color: red;\">Esercizi per casa</span>\n",
        "\n",
        "Non è difficile scrivere un *generatore di parser* come abbiamo fatto nella lezione [L13](L13.ipynb) che tenga conto del *look-ahead*.\n",
        "\n",
        "Un altro esercizio interessante potrebbe essere quello di modificare le procedure sopra riportate (o il generatore di parser) in modo che restituisca la derivazione ottenuta, sempre seguendo l'esmpio di quanto fatto nella lezione [L13](L13.ipynb)."
      ]
    },
    {
      "cell_type": "markdown",
      "metadata": {},
      "source": [
        "## <span style=\"color: red\">Approfondimento per casa</span> La valutazione di espressioni\n",
        "\n",
        "Il discorso si complica un po' se volessimo ottenere il valore dell'espressione aritmetica, in quel caso l'atomo `i` andrebbe rimpiazzato da un numero; ci sarebbe bisogno cioè di introdurre un passo di tokenizzazione, come è stato fatto ad esempio nella pillola [L03-Pill](L03-Pill.ipynb)."
      ]
    },
    {
      "cell_type": "code",
      "execution_count": null,
      "metadata": {},
      "outputs": [],
      "source": [
        "from re import finditer\n",
        "\n",
        "def make_consume(expression):\n",
        "    input_iterator = iter(_.group() for _ in finditer(r'[(+*)]|\\d+', expression))    \n",
        "    def next_token():\n",
        "        global look_ahead, value\n",
        "        token = next(input_iterator, '#')\n",
        "        if token in {'+', '*', '(', ')', '#'}:\n",
        "            look_ahead = token\n",
        "            value = None\n",
        "        else:\n",
        "            look_ahead = 'i'\n",
        "            value = int(token)\n",
        "    next_token()\n",
        "    def consume(t):        \n",
        "        if look_ahead != t:\n",
        "            warn('Expecting {}, found {}'.format(t, look_ahead))\n",
        "        else:\n",
        "            next_token()\n",
        "    return consume"
      ]
    },
    {
      "cell_type": "markdown",
      "metadata": {},
      "source": [
        "Vediamone un esempio d'uso: il tokenizzatore memorizza (oltre al *look-ahead*) anche il valore numerico degli atomi che incontra in una variabile globale di nome `value`."
      ]
    },
    {
      "cell_type": "code",
      "execution_count": null,
      "metadata": {},
      "outputs": [
        {
          "name": "stdout",
          "output_type": "stream",
          "text": [
            "23\n",
            "*\n",
            "2\n",
            "+\n",
            "(\n",
            "2\n",
            "+\n",
            "4\n",
            ")\n"
          ]
        }
      ],
      "source": [
        "consume = make_consume('23 * 2 + (2+ 4)')\n",
        "\n",
        "while True:\n",
        "    if look_ahead == '#': break\n",
        "    print(value if look_ahead == 'i' else look_ahead)\n",
        "    consume(look_ahead)"
      ]
    },
    {
      "cell_type": "markdown",
      "metadata": {},
      "source": [
        "Siamo pronti ad adattare il parser di prima in modo tale che, invece di limitarsi ad emettere *warning*, ciascuna sua procedura restituisca il valore della sottoespressione che ha elaborato."
      ]
    },
    {
      "cell_type": "code",
      "execution_count": null,
      "metadata": {},
      "outputs": [],
      "source": [
        "def eval_E():\n",
        "    if look_ahead in {'i', '('}:\n",
        "        res = eval_T()\n",
        "        res += eval_Ep()\n",
        "        return res\n",
        "    else:\n",
        "        warn('Error parsing E')\n",
        "\n",
        "def eval_Ep():\n",
        "    if look_ahead in {')', '#'}:\n",
        "        return 0\n",
        "    elif look_ahead == '+':\n",
        "        consume('+')\n",
        "        res = eval_T()\n",
        "        res += eval_Ep()\n",
        "        return res\n",
        "    else:\n",
        "        warn('Error parsing E’')\n",
        "\n",
        "def eval_T():\n",
        "    if look_ahead in {'i', '('}:\n",
        "        res = eval_F()\n",
        "        res *= eval_Fp()\n",
        "        return res\n",
        "    else:\n",
        "        warn('Error parsing T')\n",
        "    \n",
        "def eval_Fp():\n",
        "    if look_ahead in {'+', ')', '#'}:\n",
        "        return 1\n",
        "    elif look_ahead == '*':\n",
        "        consume('*')\n",
        "        res = eval_F()\n",
        "        res *= eval_Fp()\n",
        "        return res\n",
        "    else:\n",
        "        warn('Error parsing T’')\n",
        "\n",
        "def eval_F():\n",
        "    if look_ahead == 'i':\n",
        "        res = value\n",
        "        consume('i')\n",
        "        return res\n",
        "    elif look_ahead == '(':\n",
        "        consume('(')\n",
        "        res = eval_E()\n",
        "        consume(')')\n",
        "        return res\n",
        "    else:\n",
        "        warn('Error parsing F')"
      ]
    },
    {
      "cell_type": "markdown",
      "metadata": {},
      "source": [
        "Siamo pronti ad usare queste funzioni per valutare le espressioni"
      ]
    },
    {
      "cell_type": "code",
      "execution_count": null,
      "metadata": {},
      "outputs": [
        {
          "data": {
            "text/plain": [
              "29"
            ]
          },
          "execution_count": 45,
          "metadata": {},
          "output_type": "execute_result"
        }
      ],
      "source": [
        "consume = make_consume('23 + 2 * 3')\n",
        "\n",
        "eval_E()"
      ]
    },
    {
      "cell_type": "markdown",
      "metadata": {},
      "source": [
        "## Extended CFG\n",
        "\n",
        "Se con la notazione $\\left\\{\\alpha\\right\\}^*$ indichiamo 0 o più ripetizioni di $\\alpha$, la precedene grammatica si può intendere come\n",
        "\n",
        "$E \\to T \\left\\{+ T\\right\\}^* \\\\\n",
        "T \\to F \\left\\{* F\\right\\}^* \\\\\n",
        "F \\to ( E ) | i$\n",
        "\n",
        "il che suggerisce l'uso di un cicli `while` (invece della ricorsione di coda) per gestire la ripetizione."
      ]
    },
    {
      "cell_type": "code",
      "execution_count": null,
      "metadata": {},
      "outputs": [],
      "source": [
        "def eval_E():\n",
        "    if look_ahead in {'i', '('}:\n",
        "        res = eval_T()\n",
        "        while look_ahead == '+':\n",
        "            consume('+')\n",
        "            res += eval_T()\n",
        "        if look_ahead in {')', '#'}:\n",
        "            return res\n",
        "    else:\n",
        "        warn('Error parsing E')\n",
        "\n",
        "def eval_T():\n",
        "    if look_ahead in {'i', '('}:\n",
        "        res = eval_F()\n",
        "        while look_ahead == '*':\n",
        "            consume('*')\n",
        "            res *= eval_F()\n",
        "        if look_ahead in {')', '#'}:\n",
        "            return res\n",
        "        return res\n",
        "    else:\n",
        "        warn('Error parsing T')\n",
        "    \n",
        "def eval_F():\n",
        "    if look_ahead == 'i':\n",
        "        res = value\n",
        "        consume('i')\n",
        "        return res\n",
        "    elif look_ahead == '(':\n",
        "        consume('(')\n",
        "        res = eval_E()\n",
        "        consume(')')\n",
        "        return res\n",
        "    else:\n",
        "        warn('Error parsing F')"
      ]
    },
    {
      "cell_type": "markdown",
      "metadata": {},
      "source": [
        "Un ultimo test suggerisce che l'approccio funziona!"
      ]
    },
    {
      "cell_type": "code",
      "execution_count": null,
      "metadata": {},
      "outputs": [],
      "source": [
        "consume = make_consume('4 * 2 * 3')\n",
        "\n",
        "parse_E()"
      ]
    }
  ],
  "metadata": {
    "kernelspec": {
      "display_name": "Python 3",
      "language": "python",
      "name": "python3"
    },
    "language_info": {
      "codemirror_mode": {
        "name": "ipython",
        "version": 3
      },
      "file_extension": ".py",
      "mimetype": "text/x-python",
      "name": "python",
      "nbconvert_exporter": "python",
      "pygments_lexer": "ipython3"
    }
  },
  "nbformat": 4,
  "nbformat_minor": 4
}
