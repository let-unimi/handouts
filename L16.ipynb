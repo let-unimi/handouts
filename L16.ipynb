{
 "cells": [
  {
   "cell_type": "code",
   "execution_count": 10,
   "metadata": {},
   "outputs": [],
   "source": [
    "from liblet import Tree, Production, Grammar, Derivation, ProductionGraph, closure, warn, Stack, dod2table, dict2table, ff2table"
   ]
  },
  {
   "cell_type": "markdown",
   "metadata": {},
   "source": [
    "# Pre-computare il predittore"
   ]
  },
  {
   "cell_type": "code",
   "execution_count": 11,
   "metadata": {},
   "outputs": [],
   "source": [
    "import nbimporter\n",
    "from L15 import tails, compute_first"
   ]
  },
  {
   "cell_type": "code",
   "execution_count": 12,
   "metadata": {},
   "outputs": [
    {
     "data": {
      "text/plain": [
       "Grammar(N={Fact, Facts, Question, Session}, T={!, (, ), ?, STRING}, P=(Session -> Facts Question, Session -> ( Session ) Session, Facts -> Fact Facts, Facts -> ε, Fact -> ! STRING, Question -> ? STRING), S=Session)"
      ]
     },
     "execution_count": 12,
     "metadata": {},
     "output_type": "execute_result"
    }
   ],
   "source": [
    "# fig. 8.9, pag. 242\n",
    "\n",
    "G = Grammar.from_string(\"\"\"\n",
    "Session -> Facts Question | ( Session ) Session\n",
    "Facts -> Fact Facts | ε\n",
    "Fact -> ! STRING\n",
    "Question -> ? STRING\n",
    "\"\"\")\n",
    "G"
   ]
  },
  {
   "cell_type": "code",
   "execution_count": 13,
   "metadata": {},
   "outputs": [
    {
     "data": {
      "text/html": [
       "<table class=\"table-bordered\"><tr><th style=\"text-align:left\">Facts<td style=\"text-align:left\"><pre>ε !</pre>\n",
       "<tr><th style=\"text-align:left\">Session<td style=\"text-align:left\"><pre>! ? (</pre>\n",
       "<tr><th style=\"text-align:left\">Fact<td style=\"text-align:left\"><pre>!</pre>\n",
       "<tr><th style=\"text-align:left\">Question<td style=\"text-align:left\"><pre>?</pre></table>"
      ],
      "text/plain": [
       "<IPython.core.display.HTML object>"
      ]
     },
     "execution_count": 13,
     "metadata": {},
     "output_type": "execute_result"
    }
   ],
   "source": [
    "FIRST = compute_first(G)\n",
    "dict2table({N: ' '.join(FIRST[(N, )]) for N in G.N})"
   ]
  },
  {
   "cell_type": "markdown",
   "metadata": {},
   "source": [
    "## L'insieme FOLLOW"
   ]
  },
  {
   "cell_type": "code",
   "execution_count": 14,
   "metadata": {},
   "outputs": [],
   "source": [
    "def compute_follow(G, FIRST):\n",
    "\n",
    "    FOLLOW = {N: set() for N in G.N}\n",
    "    FOLLOW[G.S] |= {'#'}\n",
    "    \n",
    "    @closure\n",
    "    def comlpete_follow(FOLLOW):\n",
    "        for N, α in G.P:\n",
    "            for γ in tails(α):\n",
    "                A, β = γ[0], γ[1:]\n",
    "                if A not in G.N: continue\n",
    "                FOLLOW[A] |= FIRST[β] - {'ε'}\n",
    "                if 'ε' in FIRST[β]: FOLLOW[A] |= FOLLOW[N]\n",
    "        return FOLLOW\n",
    "\n",
    "    return comlpete_follow(FOLLOW)"
   ]
  },
  {
   "cell_type": "code",
   "execution_count": 15,
   "metadata": {},
   "outputs": [
    {
     "data": {
      "text/html": [
       "<table class=\"table-bordered\"><tr><th style=\"text-align:left\">Facts<td style=\"text-align:left\"><pre>?</pre>\n",
       "<tr><th style=\"text-align:left\">Session<td style=\"text-align:left\"><pre>) #</pre>\n",
       "<tr><th style=\"text-align:left\">Fact<td style=\"text-align:left\"><pre>? !</pre>\n",
       "<tr><th style=\"text-align:left\">Question<td style=\"text-align:left\"><pre>) #</pre></table>"
      ],
      "text/plain": [
       "<IPython.core.display.HTML object>"
      ]
     },
     "execution_count": 15,
     "metadata": {},
     "output_type": "execute_result"
    }
   ],
   "source": [
    "FOLLOW = compute_follow(G, FIRST)\n",
    "dict2table({N: ' '.join(FOLLOW[N]) for N in G.N})"
   ]
  },
  {
   "cell_type": "markdown",
   "metadata": {},
   "source": [
    "## Strong LL(1)"
   ]
  },
  {
   "cell_type": "code",
   "execution_count": 16,
   "metadata": {},
   "outputs": [],
   "source": [
    "def compute_table(G, FIRST, FOLLOW):\n",
    "    \n",
    "    TABLE = {N: dict()  for N in G.N}\n",
    "    FIRST_TABLE = {N: dict()  for N in G.N}\n",
    "    FOLLOW_TABLE = {N: dict()  for N in G.N}\n",
    "\n",
    "    for P in G.P:\n",
    "        A, α = P\n",
    "        for a in FIRST[α] - {'ε'}:\n",
    "            if a in FIRST_TABLE[A]:\n",
    "                warn('First/first conflict on ({}, {}) for production {}'.format(A, a, P))\n",
    "            else:\n",
    "                FIRST_TABLE[A][a] = P\n",
    "                TABLE[A][a] = P\n",
    "        if 'ε' in FIRST[α]:\n",
    "            for a in FOLLOW[A]:\n",
    "                if a in FIRST_TABLE[A]:\n",
    "                    warn('First/follow conflict on ({}, {}) for production {}'.format(A, a, P))\n",
    "                if a in FOLLOW_TABLE[A]:\n",
    "                    warn('Follow/follow conflict on ({}, {}) for production {}'.format(A, a, P))\n",
    "                if not (a in FIRST_TABLE[A] or a in FOLLOW_TABLE[A]):\n",
    "                    FOLLOW_TABLE[A][a] = P\n",
    "                    TABLE[A][a] = P\n",
    "    return TABLE"
   ]
  },
  {
   "cell_type": "code",
   "execution_count": 17,
   "metadata": {},
   "outputs": [
    {
     "data": {
      "text/html": [
       "<table class=\"table-bordered\">\n",
       "<tr><td>&nbsp;<th style=\"text-align:left\">!<th style=\"text-align:left\">?<th style=\"text-align:left\">(\n",
       "<tr><th style=\"text-align:left\">Facts<td style=\"text-align:left\"><pre>Facts -> Fact Facts</pre><td style=\"text-align:left\"><pre>Facts -> ε</pre><td style=\"text-align:left\">&nbsp;\n",
       "<tr><th style=\"text-align:left\">Session<td style=\"text-align:left\"><pre>Session -> Facts Question</pre><td style=\"text-align:left\"><pre>Session -> Facts Question</pre><td style=\"text-align:left\"><pre>Session -> ( Session ) Session</pre>\n",
       "<tr><th style=\"text-align:left\">Fact<td style=\"text-align:left\"><pre>Fact -> ! STRING</pre><td style=\"text-align:left\">&nbsp;<td style=\"text-align:left\">&nbsp;\n",
       "<tr><th style=\"text-align:left\">Question<td style=\"text-align:left\">&nbsp;<td style=\"text-align:left\"><pre>Question -> ? STRING</pre><td style=\"text-align:left\">&nbsp;\n",
       "</table>"
      ],
      "text/plain": [
       "<IPython.core.display.HTML object>"
      ]
     },
     "execution_count": 17,
     "metadata": {},
     "output_type": "execute_result"
    }
   ],
   "source": [
    "TABLE = compute_table(G, FIRST, FOLLOW)\n",
    "dod2table(TABLE)"
   ]
  },
  {
   "cell_type": "code",
   "execution_count": 18,
   "metadata": {},
   "outputs": [],
   "source": [
    "def parse(G, TABLE, INPUT):\n",
    "    deriv = Derivation(G)\n",
    "    rest = tuple(INPUT) + ('#', )\n",
    "    stack = Stack(['#', G.S])\n",
    "    while stack:\n",
    "        top = stack.pop()\n",
    "        if top == 'ε': continue\n",
    "        if top in G.T | {'#'}:\n",
    "            if rest[0] == top: \n",
    "                rest = rest[1:]\n",
    "            else:\n",
    "                warn('Expecting {}, got {}.'.format(top, rest[0]))\n",
    "                return None\n",
    "        else:\n",
    "            A, a = top, rest[0]\n",
    "            if not a in TABLE[A]:\n",
    "                warn('No prediction for ({}, {}) at {}.'.format(A, a, deriv) )\n",
    "                return None                 \n",
    "            pred = TABLE[A][a]\n",
    "            deriv = deriv.leftmost(G.P.index(pred))\n",
    "            for X in pred.rhs[::-1]: stack.push(X)\n",
    "    return deriv"
   ]
  },
  {
   "cell_type": "code",
   "execution_count": 19,
   "metadata": {},
   "outputs": [
    {
     "data": {
      "image/svg+xml": [
       "<?xml version=\"1.0\" encoding=\"UTF-8\" standalone=\"no\"?>\n",
       "<!DOCTYPE svg PUBLIC \"-//W3C//DTD SVG 1.1//EN\"\n",
       " \"http://www.w3.org/Graphics/SVG/1.1/DTD/svg11.dtd\">\n",
       "<!-- Generated by graphviz version 2.40.1 (20161225.0304)\n",
       " -->\n",
       "<!-- Title: %3 Pages: 1 -->\n",
       "<svg width=\"267pt\" height=\"190pt\"\n",
       " viewBox=\"0.00 0.00 266.61 190.00\" xmlns=\"http://www.w3.org/2000/svg\" xmlns:xlink=\"http://www.w3.org/1999/xlink\">\n",
       "<g id=\"graph0\" class=\"graph\" transform=\"scale(1 1) rotate(0) translate(4 186)\">\n",
       "<title>%3</title>\n",
       "<polygon fill=\"#ffffff\" stroke=\"transparent\" points=\"-4,4 -4,-186 262.6104,-186 262.6104,4 -4,4\"/>\n",
       "<!-- &#45;5008451277521648361 -->\n",
       "<g id=\"node1\" class=\"node\">\n",
       "<title>&#45;5008451277521648361</title>\n",
       "<path fill=\"none\" stroke=\"#000000\" stroke-width=\".25\" d=\"M165.2843,-182C165.2843,-182 129.3778,-182 129.3778,-182 125.7111,-182 122.0445,-178.3333 122.0445,-174.6667 122.0445,-174.6667 122.0445,-167.3333 122.0445,-167.3333 122.0445,-163.6667 125.7111,-160 129.3778,-160 129.3778,-160 165.2843,-160 165.2843,-160 168.951,-160 172.6176,-163.6667 172.6176,-167.3333 172.6176,-167.3333 172.6176,-174.6667 172.6176,-174.6667 172.6176,-178.3333 168.951,-182 165.2843,-182\"/>\n",
       "<text text-anchor=\"middle\" x=\"147.3311\" y=\"-166.8\" font-family=\"Times,serif\" font-size=\"14.00\" fill=\"#000000\">Session</text>\n",
       "</g>\n",
       "<!-- 5760954610557422627 -->\n",
       "<g id=\"node2\" class=\"node\">\n",
       "<title>5760954610557422627</title>\n",
       "<path fill=\"none\" stroke=\"#000000\" stroke-width=\".25\" d=\"M125.5521,-142C125.5521,-142 103.11,-142 103.11,-142 99.4433,-142 95.7767,-138.3333 95.7767,-134.6667 95.7767,-134.6667 95.7767,-127.3333 95.7767,-127.3333 95.7767,-123.6667 99.4433,-120 103.11,-120 103.11,-120 125.5521,-120 125.5521,-120 129.2188,-120 132.8855,-123.6667 132.8855,-127.3333 132.8855,-127.3333 132.8855,-134.6667 132.8855,-134.6667 132.8855,-138.3333 129.2188,-142 125.5521,-142\"/>\n",
       "<text text-anchor=\"middle\" x=\"114.3311\" y=\"-126.8\" font-family=\"Times,serif\" font-size=\"14.00\" fill=\"#000000\">Facts</text>\n",
       "</g>\n",
       "<!-- &#45;5008451277521648361&#45;&gt;5760954610557422627 -->\n",
       "<g id=\"edge1\" class=\"edge\">\n",
       "<title>&#45;5008451277521648361&#45;&gt;5760954610557422627</title>\n",
       "<path fill=\"none\" stroke=\"#000000\" stroke-width=\".5\" d=\"M137.9628,-159.6446C133.4658,-154.1937 128.0936,-147.6819 123.6085,-142.2453\"/>\n",
       "</g>\n",
       "<!-- &#45;8239040670073582808 -->\n",
       "<g id=\"node3\" class=\"node\">\n",
       "<title>&#45;8239040670073582808</title>\n",
       "<path fill=\"none\" stroke=\"#000000\" stroke-width=\".25\" d=\"M202.0512,-142C202.0512,-142 158.6109,-142 158.6109,-142 154.9443,-142 151.2776,-138.3333 151.2776,-134.6667 151.2776,-134.6667 151.2776,-127.3333 151.2776,-127.3333 151.2776,-123.6667 154.9443,-120 158.6109,-120 158.6109,-120 202.0512,-120 202.0512,-120 205.7178,-120 209.3845,-123.6667 209.3845,-127.3333 209.3845,-127.3333 209.3845,-134.6667 209.3845,-134.6667 209.3845,-138.3333 205.7178,-142 202.0512,-142\"/>\n",
       "<text text-anchor=\"middle\" x=\"180.3311\" y=\"-126.8\" font-family=\"Times,serif\" font-size=\"14.00\" fill=\"#000000\">Question</text>\n",
       "</g>\n",
       "<!-- &#45;5008451277521648361&#45;&gt;&#45;8239040670073582808 -->\n",
       "<g id=\"edge2\" class=\"edge\">\n",
       "<title>&#45;5008451277521648361&#45;&gt;&#45;8239040670073582808</title>\n",
       "<path fill=\"none\" stroke=\"#000000\" stroke-width=\".5\" d=\"M156.6993,-159.6446C161.1963,-154.1937 166.5685,-147.6819 171.0536,-142.2453\"/>\n",
       "</g>\n",
       "<!-- 5760954610557422627&#45;&gt;&#45;8239040670073582808 -->\n",
       "<!-- 9018731396025753950 -->\n",
       "<g id=\"node4\" class=\"node\">\n",
       "<title>9018731396025753950</title>\n",
       "<path fill=\"none\" stroke=\"#000000\" stroke-width=\".25\" d=\"M74.1014,-102C74.1014,-102 56.5607,-102 56.5607,-102 52.894,-102 49.2274,-98.3333 49.2274,-94.6667 49.2274,-94.6667 49.2274,-87.3333 49.2274,-87.3333 49.2274,-83.6667 52.894,-80 56.5607,-80 56.5607,-80 74.1014,-80 74.1014,-80 77.7681,-80 81.4347,-83.6667 81.4347,-87.3333 81.4347,-87.3333 81.4347,-94.6667 81.4347,-94.6667 81.4347,-98.3333 77.7681,-102 74.1014,-102\"/>\n",
       "<text text-anchor=\"middle\" x=\"65.3311\" y=\"-86.8\" font-family=\"Times,serif\" font-size=\"14.00\" fill=\"#000000\">Fact</text>\n",
       "</g>\n",
       "<!-- 5760954610557422627&#45;&gt;9018731396025753950 -->\n",
       "<g id=\"edge4\" class=\"edge\">\n",
       "<title>5760954610557422627&#45;&gt;9018731396025753950</title>\n",
       "<path fill=\"none\" stroke=\"#000000\" stroke-width=\".5\" d=\"M100.6818,-119.8578C93.8856,-114.3098 85.6933,-107.6222 78.9071,-102.0825\"/>\n",
       "</g>\n",
       "<!-- 5760958394147254047 -->\n",
       "<g id=\"node5\" class=\"node\">\n",
       "<title>5760958394147254047</title>\n",
       "<path fill=\"none\" stroke=\"#000000\" stroke-width=\".25\" d=\"M131.5521,-102C131.5521,-102 109.11,-102 109.11,-102 105.4433,-102 101.7767,-98.3333 101.7767,-94.6667 101.7767,-94.6667 101.7767,-87.3333 101.7767,-87.3333 101.7767,-83.6667 105.4433,-80 109.11,-80 109.11,-80 131.5521,-80 131.5521,-80 135.2188,-80 138.8855,-83.6667 138.8855,-87.3333 138.8855,-87.3333 138.8855,-94.6667 138.8855,-94.6667 138.8855,-98.3333 135.2188,-102 131.5521,-102\"/>\n",
       "<text text-anchor=\"middle\" x=\"120.3311\" y=\"-86.8\" font-family=\"Times,serif\" font-size=\"14.00\" fill=\"#000000\">Facts</text>\n",
       "</g>\n",
       "<!-- 5760954610557422627&#45;&gt;5760958394147254047 -->\n",
       "<g id=\"edge5\" class=\"edge\">\n",
       "<title>5760954610557422627&#45;&gt;5760958394147254047</title>\n",
       "<path fill=\"none\" stroke=\"#000000\" stroke-width=\".5\" d=\"M116.0344,-119.6446C116.852,-114.1937 117.8288,-107.6819 118.6443,-102.2453\"/>\n",
       "</g>\n",
       "<!-- &#45;3141088912390273683 -->\n",
       "<g id=\"node13\" class=\"node\">\n",
       "<title>&#45;3141088912390273683</title>\n",
       "<path fill=\"none\" stroke=\"#000000\" stroke-width=\"1.25\" d=\"M177.7362,-102C177.7362,-102 172.9259,-102 172.9259,-102 170.5207,-102 168.1156,-99.5948 168.1156,-97.1897 168.1156,-97.1897 168.1156,-84.8103 168.1156,-84.8103 168.1156,-82.4052 170.5207,-80 172.9259,-80 172.9259,-80 177.7362,-80 177.7362,-80 180.1414,-80 182.5466,-82.4052 182.5466,-84.8103 182.5466,-84.8103 182.5466,-97.1897 182.5466,-97.1897 182.5466,-99.5948 180.1414,-102 177.7362,-102\"/>\n",
       "<text text-anchor=\"middle\" x=\"175.3311\" y=\"-86.8\" font-family=\"Times,serif\" font-size=\"14.00\" fill=\"#000000\">?</text>\n",
       "</g>\n",
       "<!-- &#45;8239040670073582808&#45;&gt;&#45;3141088912390273683 -->\n",
       "<g id=\"edge17\" class=\"edge\">\n",
       "<title>&#45;8239040670073582808&#45;&gt;&#45;3141088912390273683</title>\n",
       "<path fill=\"none\" stroke=\"#000000\" stroke-width=\".5\" d=\"M178.9116,-119.6446C178.2303,-114.1937 177.4163,-107.6819 176.7367,-102.2453\"/>\n",
       "</g>\n",
       "<!-- &#45;1209880091348160444 -->\n",
       "<g id=\"node14\" class=\"node\">\n",
       "<title>&#45;1209880091348160444</title>\n",
       "<path fill=\"none\" stroke=\"#000000\" stroke-width=\"1.25\" d=\"M251.058,-102C251.058,-102 207.6041,-102 207.6041,-102 203.9375,-102 200.2708,-98.3333 200.2708,-94.6667 200.2708,-94.6667 200.2708,-87.3333 200.2708,-87.3333 200.2708,-83.6667 203.9375,-80 207.6041,-80 207.6041,-80 251.058,-80 251.058,-80 254.7246,-80 258.3913,-83.6667 258.3913,-87.3333 258.3913,-87.3333 258.3913,-94.6667 258.3913,-94.6667 258.3913,-98.3333 254.7246,-102 251.058,-102\"/>\n",
       "<text text-anchor=\"middle\" x=\"229.3311\" y=\"-86.8\" font-family=\"Times,serif\" font-size=\"14.00\" fill=\"#000000\">STRING</text>\n",
       "</g>\n",
       "<!-- &#45;8239040670073582808&#45;&gt;&#45;1209880091348160444 -->\n",
       "<g id=\"edge18\" class=\"edge\">\n",
       "<title>&#45;8239040670073582808&#45;&gt;&#45;1209880091348160444</title>\n",
       "<path fill=\"none\" stroke=\"#000000\" stroke-width=\".5\" d=\"M193.9803,-119.8578C200.7766,-114.3098 208.9688,-107.6222 215.755,-102.0825\"/>\n",
       "</g>\n",
       "<!-- 9018731396025753950&#45;&gt;5760958394147254047 -->\n",
       "<!-- &#45;8511141378820786601 -->\n",
       "<g id=\"node6\" class=\"node\">\n",
       "<title>&#45;8511141378820786601</title>\n",
       "<path fill=\"none\" stroke=\"#000000\" stroke-width=\"1.25\" d=\"M8.3866,-62C8.3866,-62 4.2756,-62 4.2756,-62 2.2201,-62 .1646,-59.9445 .1646,-57.889 .1646,-57.889 .1646,-44.111 .1646,-44.111 .1646,-42.0555 2.2201,-40 4.2756,-40 4.2756,-40 8.3866,-40 8.3866,-40 10.4421,-40 12.4976,-42.0555 12.4976,-44.111 12.4976,-44.111 12.4976,-57.889 12.4976,-57.889 12.4976,-59.9445 10.4421,-62 8.3866,-62\"/>\n",
       "<text text-anchor=\"middle\" x=\"6.3311\" y=\"-46.8\" font-family=\"Times,serif\" font-size=\"14.00\" fill=\"#000000\">!</text>\n",
       "</g>\n",
       "<!-- 9018731396025753950&#45;&gt;&#45;8511141378820786601 -->\n",
       "<g id=\"edge7\" class=\"edge\">\n",
       "<title>9018731396025753950&#45;&gt;&#45;8511141378820786601</title>\n",
       "<path fill=\"none\" stroke=\"#000000\" stroke-width=\".5\" d=\"M48.9728,-80.0176C40.9355,-74.6089 31.1134,-67.9803 22.3311,-62 19.099,-59.7991 15.5108,-57.3343 12.5529,-55.2965\"/>\n",
       "</g>\n",
       "<!-- &#45;1209875046560165152 -->\n",
       "<g id=\"node7\" class=\"node\">\n",
       "<title>&#45;1209875046560165152</title>\n",
       "<path fill=\"none\" stroke=\"#000000\" stroke-width=\"1.25\" d=\"M82.058,-62C82.058,-62 38.6041,-62 38.6041,-62 34.9375,-62 31.2708,-58.3333 31.2708,-54.6667 31.2708,-54.6667 31.2708,-47.3333 31.2708,-47.3333 31.2708,-43.6667 34.9375,-40 38.6041,-40 38.6041,-40 82.058,-40 82.058,-40 85.7246,-40 89.3913,-43.6667 89.3913,-47.3333 89.3913,-47.3333 89.3913,-54.6667 89.3913,-54.6667 89.3913,-58.3333 85.7246,-62 82.058,-62\"/>\n",
       "<text text-anchor=\"middle\" x=\"60.3311\" y=\"-46.8\" font-family=\"Times,serif\" font-size=\"14.00\" fill=\"#000000\">STRING</text>\n",
       "</g>\n",
       "<!-- 9018731396025753950&#45;&gt;&#45;1209875046560165152 -->\n",
       "<g id=\"edge8\" class=\"edge\">\n",
       "<title>9018731396025753950&#45;&gt;&#45;1209875046560165152</title>\n",
       "<path fill=\"none\" stroke=\"#000000\" stroke-width=\".5\" d=\"M63.9116,-79.6446C63.2303,-74.1937 62.4163,-67.6819 61.7367,-62.2453\"/>\n",
       "</g>\n",
       "<!-- 9018728873631756304 -->\n",
       "<g id=\"node8\" class=\"node\">\n",
       "<title>9018728873631756304</title>\n",
       "<path fill=\"none\" stroke=\"#000000\" stroke-width=\".25\" d=\"M132.1014,-62C132.1014,-62 114.5607,-62 114.5607,-62 110.894,-62 107.2274,-58.3333 107.2274,-54.6667 107.2274,-54.6667 107.2274,-47.3333 107.2274,-47.3333 107.2274,-43.6667 110.894,-40 114.5607,-40 114.5607,-40 132.1014,-40 132.1014,-40 135.7681,-40 139.4347,-43.6667 139.4347,-47.3333 139.4347,-47.3333 139.4347,-54.6667 139.4347,-54.6667 139.4347,-58.3333 135.7681,-62 132.1014,-62\"/>\n",
       "<text text-anchor=\"middle\" x=\"123.3311\" y=\"-46.8\" font-family=\"Times,serif\" font-size=\"14.00\" fill=\"#000000\">Fact</text>\n",
       "</g>\n",
       "<!-- 5760958394147254047&#45;&gt;9018728873631756304 -->\n",
       "<g id=\"edge10\" class=\"edge\">\n",
       "<title>5760958394147254047&#45;&gt;9018728873631756304</title>\n",
       "<path fill=\"none\" stroke=\"#000000\" stroke-width=\".5\" d=\"M121.1827,-79.6446C121.5915,-74.1937 122.0799,-67.6819 122.4877,-62.2453\"/>\n",
       "</g>\n",
       "<!-- 5760960916541251693 -->\n",
       "<g id=\"node9\" class=\"node\">\n",
       "<title>5760960916541251693</title>\n",
       "<path fill=\"none\" stroke=\"#000000\" stroke-width=\".25\" d=\"M187.5521,-62C187.5521,-62 165.11,-62 165.11,-62 161.4433,-62 157.7767,-58.3333 157.7767,-54.6667 157.7767,-54.6667 157.7767,-47.3333 157.7767,-47.3333 157.7767,-43.6667 161.4433,-40 165.11,-40 165.11,-40 187.5521,-40 187.5521,-40 191.2188,-40 194.8855,-43.6667 194.8855,-47.3333 194.8855,-47.3333 194.8855,-54.6667 194.8855,-54.6667 194.8855,-58.3333 191.2188,-62 187.5521,-62\"/>\n",
       "<text text-anchor=\"middle\" x=\"176.3311\" y=\"-46.8\" font-family=\"Times,serif\" font-size=\"14.00\" fill=\"#000000\">Facts</text>\n",
       "</g>\n",
       "<!-- 5760958394147254047&#45;&gt;5760960916541251693 -->\n",
       "<g id=\"edge11\" class=\"edge\">\n",
       "<title>5760958394147254047&#45;&gt;5760960916541251693</title>\n",
       "<path fill=\"none\" stroke=\"#000000\" stroke-width=\".5\" d=\"M135.9302,-79.8578C143.6973,-74.3098 153.0599,-67.6222 160.8156,-62.0825\"/>\n",
       "</g>\n",
       "<!-- &#45;8511141378820786601&#45;&gt;&#45;1209875046560165152 -->\n",
       "<!-- 9018728873631756304&#45;&gt;5760960916541251693 -->\n",
       "<!-- &#45;8511143901214784247 -->\n",
       "<g id=\"node10\" class=\"node\">\n",
       "<title>&#45;8511143901214784247</title>\n",
       "<path fill=\"none\" stroke=\"#000000\" stroke-width=\"1.25\" d=\"M71.3866,-22C71.3866,-22 67.2756,-22 67.2756,-22 65.2201,-22 63.1646,-19.9445 63.1646,-17.889 63.1646,-17.889 63.1646,-4.111 63.1646,-4.111 63.1646,-2.0555 65.2201,0 67.2756,0 67.2756,0 71.3866,0 71.3866,0 73.4421,0 75.4976,-2.0555 75.4976,-4.111 75.4976,-4.111 75.4976,-17.889 75.4976,-17.889 75.4976,-19.9445 73.4421,-22 71.3866,-22\"/>\n",
       "<text text-anchor=\"middle\" x=\"69.3311\" y=\"-6.8\" font-family=\"Times,serif\" font-size=\"14.00\" fill=\"#000000\">!</text>\n",
       "</g>\n",
       "<!-- 9018728873631756304&#45;&gt;&#45;8511143901214784247 -->\n",
       "<g id=\"edge13\" class=\"edge\">\n",
       "<title>9018728873631756304&#45;&gt;&#45;8511143901214784247</title>\n",
       "<path fill=\"none\" stroke=\"#000000\" stroke-width=\".5\" d=\"M108.289,-39.8578C97.5537,-31.9057 83.6577,-21.6123 75.6943,-15.7135\"/>\n",
       "</g>\n",
       "<!-- &#45;1209877568954162798 -->\n",
       "<g id=\"node11\" class=\"node\">\n",
       "<title>&#45;1209877568954162798</title>\n",
       "<path fill=\"none\" stroke=\"#000000\" stroke-width=\"1.25\" d=\"M145.058,-22C145.058,-22 101.6041,-22 101.6041,-22 97.9375,-22 94.2708,-18.3333 94.2708,-14.6667 94.2708,-14.6667 94.2708,-7.3333 94.2708,-7.3333 94.2708,-3.6667 97.9375,0 101.6041,0 101.6041,0 145.058,0 145.058,0 148.7246,0 152.3913,-3.6667 152.3913,-7.3333 152.3913,-7.3333 152.3913,-14.6667 152.3913,-14.6667 152.3913,-18.3333 148.7246,-22 145.058,-22\"/>\n",
       "<text text-anchor=\"middle\" x=\"123.3311\" y=\"-6.8\" font-family=\"Times,serif\" font-size=\"14.00\" fill=\"#000000\">STRING</text>\n",
       "</g>\n",
       "<!-- 9018728873631756304&#45;&gt;&#45;1209877568954162798 -->\n",
       "<g id=\"edge14\" class=\"edge\">\n",
       "<title>9018728873631756304&#45;&gt;&#45;1209877568954162798</title>\n",
       "<path fill=\"none\" stroke=\"#000000\" stroke-width=\".5\" d=\"M123.3311,-39.6446C123.3311,-34.1937 123.3311,-27.6819 123.3311,-22.2453\"/>\n",
       "</g>\n",
       "<!-- 7103123735879702297 -->\n",
       "<g id=\"node12\" class=\"node\">\n",
       "<title>7103123735879702297</title>\n",
       "<path fill=\"none\" stroke=\"#000000\" stroke-width=\".25\" d=\"M179.7362,-22C179.7362,-22 174.9259,-22 174.9259,-22 172.5207,-22 170.1156,-19.5948 170.1156,-17.1897 170.1156,-17.1897 170.1156,-4.8103 170.1156,-4.8103 170.1156,-2.4052 172.5207,0 174.9259,0 174.9259,0 179.7362,0 179.7362,0 182.1414,0 184.5466,-2.4052 184.5466,-4.8103 184.5466,-4.8103 184.5466,-17.1897 184.5466,-17.1897 184.5466,-19.5948 182.1414,-22 179.7362,-22\"/>\n",
       "<text text-anchor=\"middle\" x=\"177.3311\" y=\"-6.8\" font-family=\"Times,serif\" font-size=\"14.00\" fill=\"#000000\">ε</text>\n",
       "</g>\n",
       "<!-- 5760960916541251693&#45;&gt;7103123735879702297 -->\n",
       "<g id=\"edge16\" class=\"edge\">\n",
       "<title>5760960916541251693&#45;&gt;7103123735879702297</title>\n",
       "<path fill=\"none\" stroke=\"#000000\" stroke-width=\".5\" d=\"M176.6149,-39.6446C176.7512,-34.1937 176.914,-27.6819 177.0499,-22.2453\"/>\n",
       "</g>\n",
       "<!-- &#45;8511143901214784247&#45;&gt;&#45;1209877568954162798 -->\n",
       "<!-- &#45;3141088912390273683&#45;&gt;&#45;1209880091348160444 -->\n",
       "</g>\n",
       "</svg>\n"
      ],
      "text/plain": [
       "ProductionGraph(Session -> Facts Question -> Fact Facts Question -> ! STRING Facts Question -> ! STRING Fact Facts Question -> ! STRING ! STRING Facts Question -> ! STRING ! STRING Question -> ! STRING ! STRING ? STRING)"
      ]
     },
     "execution_count": 19,
     "metadata": {},
     "output_type": "execute_result"
    }
   ],
   "source": [
    "d = parse(G, TABLE, '! STRING ! STRING ? STRING #'.split())\n",
    "ProductionGraph(d)"
   ]
  },
  {
   "cell_type": "markdown",
   "metadata": {},
   "source": [
    "# Conflitti"
   ]
  },
  {
   "cell_type": "markdown",
   "metadata": {},
   "source": [
    "## First/First"
   ]
  },
  {
   "cell_type": "code",
   "execution_count": 11,
   "metadata": {},
   "outputs": [],
   "source": [
    "G = Grammar.from_string(\"\"\"\n",
    "S -> a | A\n",
    "A -> a\n",
    "\"\"\")"
   ]
  },
  {
   "cell_type": "code",
   "execution_count": 12,
   "metadata": {},
   "outputs": [
    {
     "data": {
      "text/html": [
       "<table class=\"table-bordered\">\n",
       "<tr><td>&nbsp;<th style=\"text-align:left\">First<th style=\"text-align:left\">Follow\n",
       "<tr><th style=\"text-align:left\">S<td style=\"text-align:left\"><pre>a</pre><td style=\"text-align:left\"><pre>#</pre>\n",
       "<tr><th style=\"text-align:left\">A<td style=\"text-align:left\"><pre>a</pre><td style=\"text-align:left\"><pre>#</pre>\n",
       "</table>"
      ],
      "text/plain": [
       "<IPython.core.display.HTML object>"
      ]
     },
     "execution_count": 12,
     "metadata": {},
     "output_type": "execute_result"
    }
   ],
   "source": [
    "FIRST = compute_first(G)\n",
    "FOLLOW = compute_follow(G, FIRST)\n",
    "ff2table(G, FIRST, FOLLOW)"
   ]
  },
  {
   "cell_type": "code",
   "execution_count": 13,
   "metadata": {},
   "outputs": [
    {
     "name": "stderr",
     "output_type": "stream",
     "text": [
      "First/first conflict on (S, a) for production S -> A\n"
     ]
    },
    {
     "data": {
      "text/html": [
       "<table class=\"table-bordered\">\n",
       "<tr><td>&nbsp;<th style=\"text-align:left\">a\n",
       "<tr><th style=\"text-align:left\">S<td style=\"text-align:left\"><pre>S -> a</pre>\n",
       "<tr><th style=\"text-align:left\">A<td style=\"text-align:left\"><pre>A -> a</pre>\n",
       "</table>"
      ],
      "text/plain": [
       "<IPython.core.display.HTML object>"
      ]
     },
     "execution_count": 13,
     "metadata": {},
     "output_type": "execute_result"
    }
   ],
   "source": [
    "TABLE = compute_table(G, FIRST, FOLLOW)\n",
    "dod2table(TABLE)"
   ]
  },
  {
   "cell_type": "markdown",
   "metadata": {},
   "source": [
    "## First/Follow"
   ]
  },
  {
   "cell_type": "code",
   "execution_count": 14,
   "metadata": {},
   "outputs": [],
   "source": [
    "G = Grammar.from_string(\"\"\"\n",
    "S -> A a\n",
    "A -> a | ε\n",
    "\"\"\")"
   ]
  },
  {
   "cell_type": "code",
   "execution_count": 15,
   "metadata": {},
   "outputs": [
    {
     "data": {
      "text/html": [
       "<table class=\"table-bordered\">\n",
       "<tr><td>&nbsp;<th style=\"text-align:left\">First<th style=\"text-align:left\">Follow\n",
       "<tr><th style=\"text-align:left\">S<td style=\"text-align:left\"><pre>a</pre><td style=\"text-align:left\"><pre>#</pre>\n",
       "<tr><th style=\"text-align:left\">A<td style=\"text-align:left\"><pre>a ε</pre><td style=\"text-align:left\"><pre>a</pre>\n",
       "</table>"
      ],
      "text/plain": [
       "<IPython.core.display.HTML object>"
      ]
     },
     "execution_count": 15,
     "metadata": {},
     "output_type": "execute_result"
    }
   ],
   "source": [
    "FIRST = compute_first(G)\n",
    "FOLLOW = compute_follow(G, FIRST)\n",
    "ff2table(G, FIRST, FOLLOW)"
   ]
  },
  {
   "cell_type": "code",
   "execution_count": 16,
   "metadata": {},
   "outputs": [
    {
     "name": "stderr",
     "output_type": "stream",
     "text": [
      "First/follow conflict on (A, a) for production A -> ε\n"
     ]
    },
    {
     "data": {
      "text/html": [
       "<table class=\"table-bordered\">\n",
       "<tr><td>&nbsp;<th style=\"text-align:left\">a\n",
       "<tr><th style=\"text-align:left\">S<td style=\"text-align:left\"><pre>S -> A a</pre>\n",
       "<tr><th style=\"text-align:left\">A<td style=\"text-align:left\"><pre>A -> a</pre>\n",
       "</table>"
      ],
      "text/plain": [
       "<IPython.core.display.HTML object>"
      ]
     },
     "execution_count": 16,
     "metadata": {},
     "output_type": "execute_result"
    }
   ],
   "source": [
    "TABLE = compute_table(G, FIRST, FOLLOW)\n",
    "dod2table(TABLE)"
   ]
  },
  {
   "cell_type": "markdown",
   "metadata": {},
   "source": [
    "## Follow/Follow"
   ]
  },
  {
   "cell_type": "code",
   "execution_count": 17,
   "metadata": {},
   "outputs": [],
   "source": [
    "G = Grammar.from_string(\"\"\"\n",
    "S -> A a \n",
    "A -> B | C\n",
    "B -> ε\n",
    "C -> ε\n",
    "\"\"\")"
   ]
  },
  {
   "cell_type": "code",
   "execution_count": 18,
   "metadata": {},
   "outputs": [
    {
     "data": {
      "text/html": [
       "<table class=\"table-bordered\">\n",
       "<tr><td>&nbsp;<th style=\"text-align:left\">First<th style=\"text-align:left\">Follow\n",
       "<tr><th style=\"text-align:left\">S<td style=\"text-align:left\"><pre>a</pre><td style=\"text-align:left\"><pre>#</pre>\n",
       "<tr><th style=\"text-align:left\">A<td style=\"text-align:left\"><pre>ε</pre><td style=\"text-align:left\"><pre>a</pre>\n",
       "<tr><th style=\"text-align:left\">C<td style=\"text-align:left\"><pre>ε</pre><td style=\"text-align:left\"><pre>a</pre>\n",
       "<tr><th style=\"text-align:left\">B<td style=\"text-align:left\"><pre>ε</pre><td style=\"text-align:left\"><pre>a</pre>\n",
       "</table>"
      ],
      "text/plain": [
       "<IPython.core.display.HTML object>"
      ]
     },
     "execution_count": 18,
     "metadata": {},
     "output_type": "execute_result"
    }
   ],
   "source": [
    "FIRST = compute_first(G)\n",
    "FOLLOW = compute_follow(G, FIRST)\n",
    "ff2table(G, FIRST, FOLLOW)"
   ]
  },
  {
   "cell_type": "code",
   "execution_count": 19,
   "metadata": {},
   "outputs": [
    {
     "name": "stderr",
     "output_type": "stream",
     "text": [
      "Follow/follow conflict on (A, a) for production A -> C\n"
     ]
    },
    {
     "data": {
      "text/html": [
       "<table class=\"table-bordered\">\n",
       "<tr><td>&nbsp;<th style=\"text-align:left\">a\n",
       "<tr><th style=\"text-align:left\">S<td style=\"text-align:left\"><pre>S -> A a</pre>\n",
       "<tr><th style=\"text-align:left\">A<td style=\"text-align:left\"><pre>A -> B</pre>\n",
       "<tr><th style=\"text-align:left\">C<td style=\"text-align:left\"><pre>C -> ε</pre>\n",
       "<tr><th style=\"text-align:left\">B<td style=\"text-align:left\"><pre>B -> ε</pre>\n",
       "</table>"
      ],
      "text/plain": [
       "<IPython.core.display.HTML object>"
      ]
     },
     "execution_count": 19,
     "metadata": {},
     "output_type": "execute_result"
    }
   ],
   "source": [
    "TABLE = compute_table(G, FIRST, FOLLOW)\n",
    "dod2table(TABLE)"
   ]
  },
  {
   "cell_type": "markdown",
   "metadata": {},
   "source": [
    "# Eliminazione dei conflitti per fattorizzazione"
   ]
  },
  {
   "cell_type": "code",
   "execution_count": 20,
   "metadata": {},
   "outputs": [],
   "source": [
    "G = Grammar.from_string(\"\"\"\n",
    "E  -> T + T | T\n",
    "T  -> F * F | F \n",
    "F  -> ( E ) | i\n",
    "\"\"\")"
   ]
  },
  {
   "cell_type": "code",
   "execution_count": 22,
   "metadata": {},
   "outputs": [
    {
     "name": "stderr",
     "output_type": "stream",
     "text": [
      "First/first conflict on (E, i) for production E -> T\n",
      "First/first conflict on (E, () for production E -> T\n",
      "First/first conflict on (T, i) for production T -> F\n",
      "First/first conflict on (T, () for production T -> F\n"
     ]
    },
    {
     "data": {
      "text/html": [
       "<table class=\"table-bordered\">\n",
       "<tr><td>&nbsp;<th style=\"text-align:left\">i<th style=\"text-align:left\">(\n",
       "<tr><th style=\"text-align:left\">E<td style=\"text-align:left\"><pre>E -> T + T</pre><td style=\"text-align:left\"><pre>E -> T + T</pre>\n",
       "<tr><th style=\"text-align:left\">F<td style=\"text-align:left\"><pre>F -> i</pre><td style=\"text-align:left\"><pre>F -> ( E )</pre>\n",
       "<tr><th style=\"text-align:left\">T<td style=\"text-align:left\"><pre>T -> F * F</pre><td style=\"text-align:left\"><pre>T -> F * F</pre>\n",
       "</table>"
      ],
      "text/plain": [
       "<IPython.core.display.HTML object>"
      ]
     },
     "execution_count": 22,
     "metadata": {},
     "output_type": "execute_result"
    }
   ],
   "source": [
    "FIRST = compute_first(G)\n",
    "FOLLOW = compute_follow(G, FIRST)\n",
    "TABLE = compute_table(G, FIRST, FOLLOW)\n",
    "dod2table(TABLE)"
   ]
  },
  {
   "cell_type": "code",
   "execution_count": 23,
   "metadata": {},
   "outputs": [],
   "source": [
    "G = Grammar.from_string(\"\"\"\n",
    "E  -> T E’ \n",
    "E’ -> + T | ε\n",
    "T  -> F T’\n",
    "T’ -> * F | ε\n",
    "F  -> ( E ) | i\n",
    "\"\"\")"
   ]
  },
  {
   "cell_type": "code",
   "execution_count": 24,
   "metadata": {},
   "outputs": [
    {
     "data": {
      "text/html": [
       "<table class=\"table-bordered\">\n",
       "<tr><td>&nbsp;<th style=\"text-align:left\">+<th style=\"text-align:left\">)<th style=\"text-align:left\">#<th style=\"text-align:left\">*<th style=\"text-align:left\">i<th style=\"text-align:left\">(\n",
       "<tr><th style=\"text-align:left\">E’<td style=\"text-align:left\"><pre>E’ -> + T</pre><td style=\"text-align:left\"><pre>E’ -> ε</pre><td style=\"text-align:left\"><pre>E’ -> ε</pre><td style=\"text-align:left\">&nbsp;<td style=\"text-align:left\">&nbsp;<td style=\"text-align:left\">&nbsp;\n",
       "<tr><th style=\"text-align:left\">T’<td style=\"text-align:left\"><pre>T’ -> ε</pre><td style=\"text-align:left\"><pre>T’ -> ε</pre><td style=\"text-align:left\"><pre>T’ -> ε</pre><td style=\"text-align:left\"><pre>T’ -> * F</pre><td style=\"text-align:left\">&nbsp;<td style=\"text-align:left\">&nbsp;\n",
       "<tr><th style=\"text-align:left\">T<td style=\"text-align:left\">&nbsp;<td style=\"text-align:left\">&nbsp;<td style=\"text-align:left\">&nbsp;<td style=\"text-align:left\">&nbsp;<td style=\"text-align:left\"><pre>T -> F T’</pre><td style=\"text-align:left\"><pre>T -> F T’</pre>\n",
       "<tr><th style=\"text-align:left\">E<td style=\"text-align:left\">&nbsp;<td style=\"text-align:left\">&nbsp;<td style=\"text-align:left\">&nbsp;<td style=\"text-align:left\">&nbsp;<td style=\"text-align:left\"><pre>E -> T E’</pre><td style=\"text-align:left\"><pre>E -> T E’</pre>\n",
       "<tr><th style=\"text-align:left\">F<td style=\"text-align:left\">&nbsp;<td style=\"text-align:left\">&nbsp;<td style=\"text-align:left\">&nbsp;<td style=\"text-align:left\">&nbsp;<td style=\"text-align:left\"><pre>F -> i</pre><td style=\"text-align:left\"><pre>F -> ( E )</pre>\n",
       "</table>"
      ],
      "text/plain": [
       "<IPython.core.display.HTML object>"
      ]
     },
     "execution_count": 24,
     "metadata": {},
     "output_type": "execute_result"
    }
   ],
   "source": [
    "FIRST = compute_first(G)\n",
    "FOLLOW = compute_follow(G, FIRST)\n",
    "TABLE = compute_table(G, FIRST, FOLLOW)\n",
    "dod2table(TABLE)"
   ]
  },
  {
   "cell_type": "code",
   "execution_count": 26,
   "metadata": {},
   "outputs": [
    {
     "data": {
      "image/svg+xml": [
       "<?xml version=\"1.0\" encoding=\"UTF-8\" standalone=\"no\"?>\n",
       "<!DOCTYPE svg PUBLIC \"-//W3C//DTD SVG 1.1//EN\"\n",
       " \"http://www.w3.org/Graphics/SVG/1.1/DTD/svg11.dtd\">\n",
       "<!-- Generated by graphviz version 2.40.1 (20161225.0304)\n",
       " -->\n",
       "<!-- Title: %3 Pages: 1 -->\n",
       "<svg width=\"192pt\" height=\"390pt\"\n",
       " viewBox=\"0.00 0.00 191.79 390.00\" xmlns=\"http://www.w3.org/2000/svg\" xmlns:xlink=\"http://www.w3.org/1999/xlink\">\n",
       "<g id=\"graph0\" class=\"graph\" transform=\"scale(1 1) rotate(0) translate(4 386)\">\n",
       "<title>%3</title>\n",
       "<polygon fill=\"#ffffff\" stroke=\"transparent\" points=\"-4,4 -4,-386 187.7861,-386 187.7861,4 -4,4\"/>\n",
       "<!-- &#45;9138149532280981585 -->\n",
       "<g id=\"node1\" class=\"node\">\n",
       "<title>&#45;9138149532280981585</title>\n",
       "<path fill=\"none\" stroke=\"#000000\" stroke-width=\".25\" d=\"M64.579,-382C64.579,-382 59.2072,-382 59.2072,-382 56.5213,-382 53.8354,-379.3141 53.8354,-376.6282 53.8354,-376.6282 53.8354,-365.3718 53.8354,-365.3718 53.8354,-362.6859 56.5213,-360 59.2072,-360 59.2072,-360 64.579,-360 64.579,-360 67.2648,-360 69.9507,-362.6859 69.9507,-365.3718 69.9507,-365.3718 69.9507,-376.6282 69.9507,-376.6282 69.9507,-379.3141 67.2648,-382 64.579,-382\"/>\n",
       "<text text-anchor=\"middle\" x=\"61.8931\" y=\"-366.8\" font-family=\"Times,serif\" font-size=\"14.00\" fill=\"#000000\">E</text>\n",
       "</g>\n",
       "<!-- 2937395938368531191 -->\n",
       "<g id=\"node2\" class=\"node\">\n",
       "<title>2937395938368531191</title>\n",
       "<path fill=\"none\" stroke=\"#000000\" stroke-width=\".25\" d=\"M46.579,-342C46.579,-342 41.2072,-342 41.2072,-342 38.5213,-342 35.8354,-339.3141 35.8354,-336.6282 35.8354,-336.6282 35.8354,-325.3718 35.8354,-325.3718 35.8354,-322.6859 38.5213,-320 41.2072,-320 41.2072,-320 46.579,-320 46.579,-320 49.2648,-320 51.9507,-322.6859 51.9507,-325.3718 51.9507,-325.3718 51.9507,-336.6282 51.9507,-336.6282 51.9507,-339.3141 49.2648,-342 46.579,-342\"/>\n",
       "<text text-anchor=\"middle\" x=\"43.8931\" y=\"-326.8\" font-family=\"Times,serif\" font-size=\"14.00\" fill=\"#000000\">T</text>\n",
       "</g>\n",
       "<!-- &#45;9138149532280981585&#45;&gt;2937395938368531191 -->\n",
       "<g id=\"edge1\" class=\"edge\">\n",
       "<title>&#45;9138149532280981585&#45;&gt;2937395938368531191</title>\n",
       "<path fill=\"none\" stroke=\"#000000\" stroke-width=\".5\" d=\"M56.7831,-359.6446C54.3302,-354.1937 51.3999,-347.6819 48.9535,-342.2453\"/>\n",
       "</g>\n",
       "<!-- &#45;2101512667803250255 -->\n",
       "<g id=\"node3\" class=\"node\">\n",
       "<title>&#45;2101512667803250255</title>\n",
       "<path fill=\"none\" stroke=\"#000000\" stroke-width=\".25\" d=\"M84.4647,-342C84.4647,-342 77.3214,-342 77.3214,-342 73.7498,-342 70.1781,-338.4283 70.1781,-334.8567 70.1781,-334.8567 70.1781,-327.1433 70.1781,-327.1433 70.1781,-323.5717 73.7498,-320 77.3214,-320 77.3214,-320 84.4647,-320 84.4647,-320 88.0364,-320 91.608,-323.5717 91.608,-327.1433 91.608,-327.1433 91.608,-334.8567 91.608,-334.8567 91.608,-338.4283 88.0364,-342 84.4647,-342\"/>\n",
       "<text text-anchor=\"middle\" x=\"80.8931\" y=\"-326.8\" font-family=\"Times,serif\" font-size=\"14.00\" fill=\"#000000\">E’</text>\n",
       "</g>\n",
       "<!-- &#45;9138149532280981585&#45;&gt;&#45;2101512667803250255 -->\n",
       "<g id=\"edge2\" class=\"edge\">\n",
       "<title>&#45;9138149532280981585&#45;&gt;&#45;2101512667803250255</title>\n",
       "<path fill=\"none\" stroke=\"#000000\" stroke-width=\".5\" d=\"M67.2869,-359.6446C69.8761,-354.1937 72.9692,-347.6819 75.5515,-342.2453\"/>\n",
       "</g>\n",
       "<!-- 2937395938368531191&#45;&gt;&#45;2101512667803250255 -->\n",
       "<!-- 3770825746845083948 -->\n",
       "<g id=\"node4\" class=\"node\">\n",
       "<title>3770825746845083948</title>\n",
       "<path fill=\"none\" stroke=\"#000000\" stroke-width=\".25\" d=\"M10.4889,-302C10.4889,-302 5.2972,-302 5.2972,-302 2.7014,-302 .1055,-299.4041 .1055,-296.8083 .1055,-296.8083 .1055,-285.1917 .1055,-285.1917 .1055,-282.5959 2.7014,-280 5.2972,-280 5.2972,-280 10.4889,-280 10.4889,-280 13.0848,-280 15.6806,-282.5959 15.6806,-285.1917 15.6806,-285.1917 15.6806,-296.8083 15.6806,-296.8083 15.6806,-299.4041 13.0848,-302 10.4889,-302\"/>\n",
       "<text text-anchor=\"middle\" x=\"7.8931\" y=\"-286.8\" font-family=\"Times,serif\" font-size=\"14.00\" fill=\"#000000\">F</text>\n",
       "</g>\n",
       "<!-- 2937395938368531191&#45;&gt;3770825746845083948 -->\n",
       "<g id=\"edge4\" class=\"edge\">\n",
       "<title>2937395938368531191&#45;&gt;3770825746845083948</title>\n",
       "<path fill=\"none\" stroke=\"#000000\" stroke-width=\".5\" d=\"M35.5435,-321.7227C29.5614,-315.0759 21.5604,-306.1859 15.7045,-299.6794\"/>\n",
       "</g>\n",
       "<!-- &#45;5684518324199077691 -->\n",
       "<g id=\"node5\" class=\"node\">\n",
       "<title>&#45;5684518324199077691</title>\n",
       "<path fill=\"none\" stroke=\"#000000\" stroke-width=\".25\" d=\"M48.4647,-302C48.4647,-302 41.3214,-302 41.3214,-302 37.7498,-302 34.1781,-298.4283 34.1781,-294.8567 34.1781,-294.8567 34.1781,-287.1433 34.1781,-287.1433 34.1781,-283.5717 37.7498,-280 41.3214,-280 41.3214,-280 48.4647,-280 48.4647,-280 52.0364,-280 55.608,-283.5717 55.608,-287.1433 55.608,-287.1433 55.608,-294.8567 55.608,-294.8567 55.608,-298.4283 52.0364,-302 48.4647,-302\"/>\n",
       "<text text-anchor=\"middle\" x=\"44.8931\" y=\"-286.8\" font-family=\"Times,serif\" font-size=\"14.00\" fill=\"#000000\">T’</text>\n",
       "</g>\n",
       "<!-- 2937395938368531191&#45;&gt;&#45;5684518324199077691 -->\n",
       "<g id=\"edge5\" class=\"edge\">\n",
       "<title>2937395938368531191&#45;&gt;&#45;5684518324199077691</title>\n",
       "<path fill=\"none\" stroke=\"#000000\" stroke-width=\".5\" d=\"M44.177,-319.6446C44.3132,-314.1937 44.476,-307.6819 44.6119,-302.2453\"/>\n",
       "</g>\n",
       "<!-- 7103135086652691704 -->\n",
       "<g id=\"node26\" class=\"node\">\n",
       "<title>7103135086652691704</title>\n",
       "<path fill=\"none\" stroke=\"#000000\" stroke-width=\".25\" d=\"M83.2982,-302C83.2982,-302 78.4879,-302 78.4879,-302 76.0827,-302 73.6776,-299.5948 73.6776,-297.1897 73.6776,-297.1897 73.6776,-284.8103 73.6776,-284.8103 73.6776,-282.4052 76.0827,-280 78.4879,-280 78.4879,-280 83.2982,-280 83.2982,-280 85.7034,-280 88.1086,-282.4052 88.1086,-284.8103 88.1086,-284.8103 88.1086,-297.1897 88.1086,-297.1897 88.1086,-299.5948 85.7034,-302 83.2982,-302\"/>\n",
       "<text text-anchor=\"middle\" x=\"80.8931\" y=\"-286.8\" font-family=\"Times,serif\" font-size=\"14.00\" fill=\"#000000\">ε</text>\n",
       "</g>\n",
       "<!-- &#45;2101512667803250255&#45;&gt;7103135086652691704 -->\n",
       "<g id=\"edge35\" class=\"edge\">\n",
       "<title>&#45;2101512667803250255&#45;&gt;7103135086652691704</title>\n",
       "<path fill=\"none\" stroke=\"#000000\" stroke-width=\".5\" d=\"M80.8931,-319.6446C80.8931,-314.1937 80.8931,-307.6819 80.8931,-302.2453\"/>\n",
       "</g>\n",
       "<!-- 3770825746845083948&#45;&gt;&#45;5684518324199077691 -->\n",
       "<!-- 6785850480603647990 -->\n",
       "<g id=\"node6\" class=\"node\">\n",
       "<title>6785850480603647990</title>\n",
       "<path fill=\"none\" stroke=\"#000000\" stroke-width=\"1.25\" d=\"M9.8565,-262C9.8565,-262 5.9297,-262 5.9297,-262 3.9663,-262 2.0029,-260.0366 2.0029,-258.0732 2.0029,-258.0732 2.0029,-243.9268 2.0029,-243.9268 2.0029,-241.9634 3.9663,-240 5.9297,-240 5.9297,-240 9.8565,-240 9.8565,-240 11.8198,-240 13.7832,-241.9634 13.7832,-243.9268 13.7832,-243.9268 13.7832,-258.0732 13.7832,-258.0732 13.7832,-260.0366 11.8198,-262 9.8565,-262\"/>\n",
       "<text text-anchor=\"middle\" x=\"7.8931\" y=\"-246.8\" font-family=\"Times,serif\" font-size=\"14.00\" fill=\"#000000\">i</text>\n",
       "</g>\n",
       "<!-- 3770825746845083948&#45;&gt;6785850480603647990 -->\n",
       "<g id=\"edge7\" class=\"edge\">\n",
       "<title>3770825746845083948&#45;&gt;6785850480603647990</title>\n",
       "<path fill=\"none\" stroke=\"#000000\" stroke-width=\".5\" d=\"M7.8931,-279.6446C7.8931,-274.1937 7.8931,-267.6819 7.8931,-262.2453\"/>\n",
       "</g>\n",
       "<!-- &#45;426412985058689297 -->\n",
       "<g id=\"node7\" class=\"node\">\n",
       "<title>&#45;426412985058689297</title>\n",
       "<path fill=\"none\" stroke=\"#000000\" stroke-width=\"1.25\" d=\"M44.3931,-262C44.3931,-262 39.3931,-262 39.3931,-262 36.8931,-262 34.3931,-259.5 34.3931,-257 34.3931,-257 34.3931,-245 34.3931,-245 34.3931,-242.5 36.8931,-240 39.3931,-240 39.3931,-240 44.3931,-240 44.3931,-240 46.8931,-240 49.3931,-242.5 49.3931,-245 49.3931,-245 49.3931,-257 49.3931,-257 49.3931,-259.5 46.8931,-262 44.3931,-262\"/>\n",
       "<text text-anchor=\"middle\" x=\"41.8931\" y=\"-246.8\" font-family=\"Times,serif\" font-size=\"14.00\" fill=\"#000000\">*</text>\n",
       "</g>\n",
       "<!-- &#45;5684518324199077691&#45;&gt;&#45;426412985058689297 -->\n",
       "<g id=\"edge8\" class=\"edge\">\n",
       "<title>&#45;5684518324199077691&#45;&gt;&#45;426412985058689297</title>\n",
       "<path fill=\"none\" stroke=\"#000000\" stroke-width=\".5\" d=\"M44.0414,-279.6446C43.6326,-274.1937 43.1442,-267.6819 42.7365,-262.2453\"/>\n",
       "</g>\n",
       "<!-- 3770818179661925961 -->\n",
       "<g id=\"node8\" class=\"node\">\n",
       "<title>3770818179661925961</title>\n",
       "<path fill=\"none\" stroke=\"#000000\" stroke-width=\".25\" d=\"M77.4889,-262C77.4889,-262 72.2972,-262 72.2972,-262 69.7014,-262 67.1055,-259.4041 67.1055,-256.8083 67.1055,-256.8083 67.1055,-245.1917 67.1055,-245.1917 67.1055,-242.5959 69.7014,-240 72.2972,-240 72.2972,-240 77.4889,-240 77.4889,-240 80.0848,-240 82.6806,-242.5959 82.6806,-245.1917 82.6806,-245.1917 82.6806,-256.8083 82.6806,-256.8083 82.6806,-259.4041 80.0848,-262 77.4889,-262\"/>\n",
       "<text text-anchor=\"middle\" x=\"74.8931\" y=\"-246.8\" font-family=\"Times,serif\" font-size=\"14.00\" fill=\"#000000\">F</text>\n",
       "</g>\n",
       "<!-- &#45;5684518324199077691&#45;&gt;3770818179661925961 -->\n",
       "<g id=\"edge9\" class=\"edge\">\n",
       "<title>&#45;5684518324199077691&#45;&gt;3770818179661925961</title>\n",
       "<path fill=\"none\" stroke=\"#000000\" stroke-width=\".5\" d=\"M53.4096,-279.6446C57.7057,-273.9165 62.8804,-267.0169 67.0746,-261.4247\"/>\n",
       "</g>\n",
       "<!-- &#45;426412985058689297&#45;&gt;3770818179661925961 -->\n",
       "<!-- &#45;5369460246894049109 -->\n",
       "<g id=\"node9\" class=\"node\">\n",
       "<title>&#45;5369460246894049109</title>\n",
       "<path fill=\"none\" stroke=\"#000000\" stroke-width=\"1.25\" d=\"M43.9486,-222C43.9486,-222 39.8376,-222 39.8376,-222 37.7821,-222 35.7266,-219.9445 35.7266,-217.889 35.7266,-217.889 35.7266,-204.111 35.7266,-204.111 35.7266,-202.0555 37.7821,-200 39.8376,-200 39.8376,-200 43.9486,-200 43.9486,-200 46.0041,-200 48.0596,-202.0555 48.0596,-204.111 48.0596,-204.111 48.0596,-217.889 48.0596,-217.889 48.0596,-219.9445 46.0041,-222 43.9486,-222\"/>\n",
       "<text text-anchor=\"middle\" x=\"41.8931\" y=\"-206.8\" font-family=\"Times,serif\" font-size=\"14.00\" fill=\"#000000\">(</text>\n",
       "</g>\n",
       "<!-- 3770818179661925961&#45;&gt;&#45;5369460246894049109 -->\n",
       "<g id=\"edge11\" class=\"edge\">\n",
       "<title>3770818179661925961&#45;&gt;&#45;5369460246894049109</title>\n",
       "<path fill=\"none\" stroke=\"#000000\" stroke-width=\".5\" d=\"M66.9047,-241.3171C61.1822,-234.3807 53.5787,-225.1644 48.2631,-218.7213\"/>\n",
       "</g>\n",
       "<!-- &#45;9138153315873143103 -->\n",
       "<g id=\"node10\" class=\"node\">\n",
       "<title>&#45;9138153315873143103</title>\n",
       "<path fill=\"none\" stroke=\"#000000\" stroke-width=\".25\" d=\"M77.579,-222C77.579,-222 72.2072,-222 72.2072,-222 69.5213,-222 66.8354,-219.3141 66.8354,-216.6282 66.8354,-216.6282 66.8354,-205.3718 66.8354,-205.3718 66.8354,-202.6859 69.5213,-200 72.2072,-200 72.2072,-200 77.579,-200 77.579,-200 80.2648,-200 82.9507,-202.6859 82.9507,-205.3718 82.9507,-205.3718 82.9507,-216.6282 82.9507,-216.6282 82.9507,-219.3141 80.2648,-222 77.579,-222\"/>\n",
       "<text text-anchor=\"middle\" x=\"74.8931\" y=\"-206.8\" font-family=\"Times,serif\" font-size=\"14.00\" fill=\"#000000\">E</text>\n",
       "</g>\n",
       "<!-- 3770818179661925961&#45;&gt;&#45;9138153315873143103 -->\n",
       "<g id=\"edge12\" class=\"edge\">\n",
       "<title>3770818179661925961&#45;&gt;&#45;9138153315873143103</title>\n",
       "<path fill=\"none\" stroke=\"#000000\" stroke-width=\".5\" d=\"M74.8931,-239.6446C74.8931,-234.1937 74.8931,-227.6819 74.8931,-222.2453\"/>\n",
       "</g>\n",
       "<!-- &#45;7905410929220445414 -->\n",
       "<g id=\"node11\" class=\"node\">\n",
       "<title>&#45;7905410929220445414</title>\n",
       "<path fill=\"none\" stroke=\"#000000\" stroke-width=\"1.25\" d=\"M109.9486,-222C109.9486,-222 105.8376,-222 105.8376,-222 103.7821,-222 101.7266,-219.9445 101.7266,-217.889 101.7266,-217.889 101.7266,-204.111 101.7266,-204.111 101.7266,-202.0555 103.7821,-200 105.8376,-200 105.8376,-200 109.9486,-200 109.9486,-200 112.0041,-200 114.0596,-202.0555 114.0596,-204.111 114.0596,-204.111 114.0596,-217.889 114.0596,-217.889 114.0596,-219.9445 112.0041,-222 109.9486,-222\"/>\n",
       "<text text-anchor=\"middle\" x=\"107.8931\" y=\"-206.8\" font-family=\"Times,serif\" font-size=\"14.00\" fill=\"#000000\">)</text>\n",
       "</g>\n",
       "<!-- 3770818179661925961&#45;&gt;&#45;7905410929220445414 -->\n",
       "<g id=\"edge13\" class=\"edge\">\n",
       "<title>3770818179661925961&#45;&gt;&#45;7905410929220445414</title>\n",
       "<path fill=\"none\" stroke=\"#000000\" stroke-width=\".5\" d=\"M82.8814,-241.3171C88.604,-234.3807 96.2075,-225.1644 101.523,-218.7213\"/>\n",
       "</g>\n",
       "<!-- &#45;5369460246894049109&#45;&gt;&#45;9138153315873143103 -->\n",
       "<!-- &#45;9138153315873143103&#45;&gt;&#45;7905410929220445414 -->\n",
       "<!-- 2937394677171532368 -->\n",
       "<g id=\"node12\" class=\"node\">\n",
       "<title>2937394677171532368</title>\n",
       "<path fill=\"none\" stroke=\"#000000\" stroke-width=\".25\" d=\"M59.579,-182C59.579,-182 54.2072,-182 54.2072,-182 51.5213,-182 48.8354,-179.3141 48.8354,-176.6282 48.8354,-176.6282 48.8354,-165.3718 48.8354,-165.3718 48.8354,-162.6859 51.5213,-160 54.2072,-160 54.2072,-160 59.579,-160 59.579,-160 62.2648,-160 64.9507,-162.6859 64.9507,-165.3718 64.9507,-165.3718 64.9507,-176.6282 64.9507,-176.6282 64.9507,-179.3141 62.2648,-182 59.579,-182\"/>\n",
       "<text text-anchor=\"middle\" x=\"56.8931\" y=\"-166.8\" font-family=\"Times,serif\" font-size=\"14.00\" fill=\"#000000\">T</text>\n",
       "</g>\n",
       "<!-- &#45;9138153315873143103&#45;&gt;2937394677171532368 -->\n",
       "<g id=\"edge16\" class=\"edge\">\n",
       "<title>&#45;9138153315873143103&#45;&gt;2937394677171532368</title>\n",
       "<path fill=\"none\" stroke=\"#000000\" stroke-width=\".5\" d=\"M69.7831,-199.6446C67.3302,-194.1937 64.3999,-187.6819 61.9535,-182.2453\"/>\n",
       "</g>\n",
       "<!-- &#45;2101506361815926042 -->\n",
       "<g id=\"node13\" class=\"node\">\n",
       "<title>&#45;2101506361815926042</title>\n",
       "<path fill=\"none\" stroke=\"#000000\" stroke-width=\".25\" d=\"M97.4647,-182C97.4647,-182 90.3214,-182 90.3214,-182 86.7498,-182 83.1781,-178.4283 83.1781,-174.8567 83.1781,-174.8567 83.1781,-167.1433 83.1781,-167.1433 83.1781,-163.5717 86.7498,-160 90.3214,-160 90.3214,-160 97.4647,-160 97.4647,-160 101.0364,-160 104.608,-163.5717 104.608,-167.1433 104.608,-167.1433 104.608,-174.8567 104.608,-174.8567 104.608,-178.4283 101.0364,-182 97.4647,-182\"/>\n",
       "<text text-anchor=\"middle\" x=\"93.8931\" y=\"-166.8\" font-family=\"Times,serif\" font-size=\"14.00\" fill=\"#000000\">E’</text>\n",
       "</g>\n",
       "<!-- &#45;9138153315873143103&#45;&gt;&#45;2101506361815926042 -->\n",
       "<g id=\"edge17\" class=\"edge\">\n",
       "<title>&#45;9138153315873143103&#45;&gt;&#45;2101506361815926042</title>\n",
       "<path fill=\"none\" stroke=\"#000000\" stroke-width=\".5\" d=\"M80.2869,-199.6446C82.8761,-194.1937 85.9692,-187.6819 88.5515,-182.2453\"/>\n",
       "</g>\n",
       "<!-- 2937394677171532368&#45;&gt;&#45;2101506361815926042 -->\n",
       "<!-- 3770819440860089833 -->\n",
       "<g id=\"node14\" class=\"node\">\n",
       "<title>3770819440860089833</title>\n",
       "<path fill=\"none\" stroke=\"#000000\" stroke-width=\".25\" d=\"M22.4889,-142C22.4889,-142 17.2972,-142 17.2972,-142 14.7014,-142 12.1055,-139.4041 12.1055,-136.8083 12.1055,-136.8083 12.1055,-125.1917 12.1055,-125.1917 12.1055,-122.5959 14.7014,-120 17.2972,-120 17.2972,-120 22.4889,-120 22.4889,-120 25.0848,-120 27.6806,-122.5959 27.6806,-125.1917 27.6806,-125.1917 27.6806,-136.8083 27.6806,-136.8083 27.6806,-139.4041 25.0848,-142 22.4889,-142\"/>\n",
       "<text text-anchor=\"middle\" x=\"19.8931\" y=\"-126.8\" font-family=\"Times,serif\" font-size=\"14.00\" fill=\"#000000\">F</text>\n",
       "</g>\n",
       "<!-- 2937394677171532368&#45;&gt;3770819440860089833 -->\n",
       "<g id=\"edge19\" class=\"edge\">\n",
       "<title>2937394677171532368&#45;&gt;3770819440860089833</title>\n",
       "<path fill=\"none\" stroke=\"#000000\" stroke-width=\".5\" d=\"M48.6816,-162.1227C42.4649,-155.402 33.9755,-146.2242 27.8277,-139.5779\"/>\n",
       "</g>\n",
       "<!-- &#45;5684524630181741708 -->\n",
       "<g id=\"node15\" class=\"node\">\n",
       "<title>&#45;5684524630181741708</title>\n",
       "<path fill=\"none\" stroke=\"#000000\" stroke-width=\".25\" d=\"M60.4647,-142C60.4647,-142 53.3214,-142 53.3214,-142 49.7498,-142 46.1781,-138.4283 46.1781,-134.8567 46.1781,-134.8567 46.1781,-127.1433 46.1781,-127.1433 46.1781,-123.5717 49.7498,-120 53.3214,-120 53.3214,-120 60.4647,-120 60.4647,-120 64.0364,-120 67.608,-123.5717 67.608,-127.1433 67.608,-127.1433 67.608,-134.8567 67.608,-134.8567 67.608,-138.4283 64.0364,-142 60.4647,-142\"/>\n",
       "<text text-anchor=\"middle\" x=\"56.8931\" y=\"-126.8\" font-family=\"Times,serif\" font-size=\"14.00\" fill=\"#000000\">T’</text>\n",
       "</g>\n",
       "<!-- 2937394677171532368&#45;&gt;&#45;5684524630181741708 -->\n",
       "<g id=\"edge20\" class=\"edge\">\n",
       "<title>2937394677171532368&#45;&gt;&#45;5684524630181741708</title>\n",
       "<path fill=\"none\" stroke=\"#000000\" stroke-width=\".5\" d=\"M56.8931,-159.6446C56.8931,-154.1937 56.8931,-147.6819 56.8931,-142.2453\"/>\n",
       "</g>\n",
       "<!-- 8934845638414790614 -->\n",
       "<g id=\"node18\" class=\"node\">\n",
       "<title>8934845638414790614</title>\n",
       "<path fill=\"none\" stroke=\"#000000\" stroke-width=\"1.25\" d=\"M96.525,-142C96.525,-142 91.2611,-142 91.2611,-142 88.6292,-142 85.9972,-139.3681 85.9972,-136.7361 85.9972,-136.7361 85.9972,-125.2639 85.9972,-125.2639 85.9972,-122.6319 88.6292,-120 91.2611,-120 91.2611,-120 96.525,-120 96.525,-120 99.157,-120 101.7889,-122.6319 101.7889,-125.2639 101.7889,-125.2639 101.7889,-136.7361 101.7889,-136.7361 101.7889,-139.3681 99.157,-142 96.525,-142\"/>\n",
       "<text text-anchor=\"middle\" x=\"93.8931\" y=\"-126.8\" font-family=\"Times,serif\" font-size=\"14.00\" fill=\"#000000\">+</text>\n",
       "</g>\n",
       "<!-- &#45;2101506361815926042&#45;&gt;8934845638414790614 -->\n",
       "<g id=\"edge24\" class=\"edge\">\n",
       "<title>&#45;2101506361815926042&#45;&gt;8934845638414790614</title>\n",
       "<path fill=\"none\" stroke=\"#000000\" stroke-width=\".5\" d=\"M93.8931,-159.6446C93.8931,-154.1937 93.8931,-147.6819 93.8931,-142.2453\"/>\n",
       "</g>\n",
       "<!-- 2937409811534353195 -->\n",
       "<g id=\"node19\" class=\"node\">\n",
       "<title>2937409811534353195</title>\n",
       "<path fill=\"none\" stroke=\"#000000\" stroke-width=\".25\" d=\"M130.579,-142C130.579,-142 125.2072,-142 125.2072,-142 122.5213,-142 119.8354,-139.3141 119.8354,-136.6282 119.8354,-136.6282 119.8354,-125.3718 119.8354,-125.3718 119.8354,-122.6859 122.5213,-120 125.2072,-120 125.2072,-120 130.579,-120 130.579,-120 133.2648,-120 135.9507,-122.6859 135.9507,-125.3718 135.9507,-125.3718 135.9507,-136.6282 135.9507,-136.6282 135.9507,-139.3141 133.2648,-142 130.579,-142\"/>\n",
       "<text text-anchor=\"middle\" x=\"127.8931\" y=\"-126.8\" font-family=\"Times,serif\" font-size=\"14.00\" fill=\"#000000\">T</text>\n",
       "</g>\n",
       "<!-- &#45;2101506361815926042&#45;&gt;2937409811534353195 -->\n",
       "<g id=\"edge25\" class=\"edge\">\n",
       "<title>&#45;2101506361815926042&#45;&gt;2937409811534353195</title>\n",
       "<path fill=\"none\" stroke=\"#000000\" stroke-width=\".5\" d=\"M103.5452,-159.6446C108.6496,-153.6393 114.8486,-146.3465 119.7141,-140.6223\"/>\n",
       "</g>\n",
       "<!-- 3770819440860089833&#45;&gt;&#45;5684524630181741708 -->\n",
       "<!-- 6785841652224656229 -->\n",
       "<g id=\"node16\" class=\"node\">\n",
       "<title>6785841652224656229</title>\n",
       "<path fill=\"none\" stroke=\"#000000\" stroke-width=\"1.25\" d=\"M21.8565,-102C21.8565,-102 17.9297,-102 17.9297,-102 15.9663,-102 14.0029,-100.0366 14.0029,-98.0732 14.0029,-98.0732 14.0029,-83.9268 14.0029,-83.9268 14.0029,-81.9634 15.9663,-80 17.9297,-80 17.9297,-80 21.8565,-80 21.8565,-80 23.8198,-80 25.7832,-81.9634 25.7832,-83.9268 25.7832,-83.9268 25.7832,-98.0732 25.7832,-98.0732 25.7832,-100.0366 23.8198,-102 21.8565,-102\"/>\n",
       "<text text-anchor=\"middle\" x=\"19.8931\" y=\"-86.8\" font-family=\"Times,serif\" font-size=\"14.00\" fill=\"#000000\">i</text>\n",
       "</g>\n",
       "<!-- 3770819440860089833&#45;&gt;6785841652224656229 -->\n",
       "<g id=\"edge22\" class=\"edge\">\n",
       "<title>3770819440860089833&#45;&gt;6785841652224656229</title>\n",
       "<path fill=\"none\" stroke=\"#000000\" stroke-width=\".5\" d=\"M19.8931,-119.6446C19.8931,-114.1937 19.8931,-107.6819 19.8931,-102.2453\"/>\n",
       "</g>\n",
       "<!-- 7103137609046689350 -->\n",
       "<g id=\"node17\" class=\"node\">\n",
       "<title>7103137609046689350</title>\n",
       "<path fill=\"none\" stroke=\"#000000\" stroke-width=\".25\" d=\"M59.2982,-102C59.2982,-102 54.4879,-102 54.4879,-102 52.0827,-102 49.6776,-99.5948 49.6776,-97.1897 49.6776,-97.1897 49.6776,-84.8103 49.6776,-84.8103 49.6776,-82.4052 52.0827,-80 54.4879,-80 54.4879,-80 59.2982,-80 59.2982,-80 61.7034,-80 64.1086,-82.4052 64.1086,-84.8103 64.1086,-84.8103 64.1086,-97.1897 64.1086,-97.1897 64.1086,-99.5948 61.7034,-102 59.2982,-102\"/>\n",
       "<text text-anchor=\"middle\" x=\"56.8931\" y=\"-86.8\" font-family=\"Times,serif\" font-size=\"14.00\" fill=\"#000000\">ε</text>\n",
       "</g>\n",
       "<!-- &#45;5684524630181741708&#45;&gt;7103137609046689350 -->\n",
       "<g id=\"edge23\" class=\"edge\">\n",
       "<title>&#45;5684524630181741708&#45;&gt;7103137609046689350</title>\n",
       "<path fill=\"none\" stroke=\"#000000\" stroke-width=\".5\" d=\"M56.8931,-119.6446C56.8931,-114.1937 56.8931,-107.6819 56.8931,-102.2453\"/>\n",
       "</g>\n",
       "<!-- 8934845638414790614&#45;&gt;2937409811534353195 -->\n",
       "<!-- 3770834575224075709 -->\n",
       "<g id=\"node20\" class=\"node\">\n",
       "<title>3770834575224075709</title>\n",
       "<path fill=\"none\" stroke=\"#000000\" stroke-width=\".25\" d=\"M111.4889,-102C111.4889,-102 106.2972,-102 106.2972,-102 103.7014,-102 101.1055,-99.4041 101.1055,-96.8083 101.1055,-96.8083 101.1055,-85.1917 101.1055,-85.1917 101.1055,-82.5959 103.7014,-80 106.2972,-80 106.2972,-80 111.4889,-80 111.4889,-80 114.0848,-80 116.6806,-82.5959 116.6806,-85.1917 116.6806,-85.1917 116.6806,-96.8083 116.6806,-96.8083 116.6806,-99.4041 114.0848,-102 111.4889,-102\"/>\n",
       "<text text-anchor=\"middle\" x=\"108.8931\" y=\"-86.8\" font-family=\"Times,serif\" font-size=\"14.00\" fill=\"#000000\">F</text>\n",
       "</g>\n",
       "<!-- 2937409811534353195&#45;&gt;3770834575224075709 -->\n",
       "<g id=\"edge27\" class=\"edge\">\n",
       "<title>2937409811534353195&#45;&gt;3770834575224075709</title>\n",
       "<path fill=\"none\" stroke=\"#000000\" stroke-width=\".5\" d=\"M122.4993,-119.6446C119.9101,-114.1937 116.817,-107.6819 114.2346,-102.2453\"/>\n",
       "</g>\n",
       "<!-- &#45;5684509495817755832 -->\n",
       "<g id=\"node21\" class=\"node\">\n",
       "<title>&#45;5684509495817755832</title>\n",
       "<path fill=\"none\" stroke=\"#000000\" stroke-width=\".25\" d=\"M149.4647,-102C149.4647,-102 142.3214,-102 142.3214,-102 138.7498,-102 135.1781,-98.4283 135.1781,-94.8567 135.1781,-94.8567 135.1781,-87.1433 135.1781,-87.1433 135.1781,-83.5717 138.7498,-80 142.3214,-80 142.3214,-80 149.4647,-80 149.4647,-80 153.0364,-80 156.608,-83.5717 156.608,-87.1433 156.608,-87.1433 156.608,-94.8567 156.608,-94.8567 156.608,-98.4283 153.0364,-102 149.4647,-102\"/>\n",
       "<text text-anchor=\"middle\" x=\"145.8931\" y=\"-86.8\" font-family=\"Times,serif\" font-size=\"14.00\" fill=\"#000000\">T’</text>\n",
       "</g>\n",
       "<!-- 2937409811534353195&#45;&gt;&#45;5684509495817755832 -->\n",
       "<g id=\"edge28\" class=\"edge\">\n",
       "<title>2937409811534353195&#45;&gt;&#45;5684509495817755832</title>\n",
       "<path fill=\"none\" stroke=\"#000000\" stroke-width=\".5\" d=\"M133.003,-119.6446C135.4559,-114.1937 138.3862,-107.6819 140.8327,-102.2453\"/>\n",
       "</g>\n",
       "<!-- 3770834575224075709&#45;&gt;&#45;5684509495817755832 -->\n",
       "<!-- 6785836607436660937 -->\n",
       "<g id=\"node22\" class=\"node\">\n",
       "<title>6785836607436660937</title>\n",
       "<path fill=\"none\" stroke=\"#000000\" stroke-width=\"1.25\" d=\"M110.8565,-62C110.8565,-62 106.9297,-62 106.9297,-62 104.9663,-62 103.0029,-60.0366 103.0029,-58.0732 103.0029,-58.0732 103.0029,-43.9268 103.0029,-43.9268 103.0029,-41.9634 104.9663,-40 106.9297,-40 106.9297,-40 110.8565,-40 110.8565,-40 112.8198,-40 114.7832,-41.9634 114.7832,-43.9268 114.7832,-43.9268 114.7832,-58.0732 114.7832,-58.0732 114.7832,-60.0366 112.8198,-62 110.8565,-62\"/>\n",
       "<text text-anchor=\"middle\" x=\"108.8931\" y=\"-46.8\" font-family=\"Times,serif\" font-size=\"14.00\" fill=\"#000000\">i</text>\n",
       "</g>\n",
       "<!-- 3770834575224075709&#45;&gt;6785836607436660937 -->\n",
       "<g id=\"edge30\" class=\"edge\">\n",
       "<title>3770834575224075709&#45;&gt;6785836607436660937</title>\n",
       "<path fill=\"none\" stroke=\"#000000\" stroke-width=\".5\" d=\"M108.8931,-79.6446C108.8931,-74.1937 108.8931,-67.6819 108.8931,-62.2453\"/>\n",
       "</g>\n",
       "<!-- &#45;426421813437681058 -->\n",
       "<g id=\"node23\" class=\"node\">\n",
       "<title>&#45;426421813437681058</title>\n",
       "<path fill=\"none\" stroke=\"#000000\" stroke-width=\"1.25\" d=\"M145.3931,-62C145.3931,-62 140.3931,-62 140.3931,-62 137.8931,-62 135.3931,-59.5 135.3931,-57 135.3931,-57 135.3931,-45 135.3931,-45 135.3931,-42.5 137.8931,-40 140.3931,-40 140.3931,-40 145.3931,-40 145.3931,-40 147.8931,-40 150.3931,-42.5 150.3931,-45 150.3931,-45 150.3931,-57 150.3931,-57 150.3931,-59.5 147.8931,-62 145.3931,-62\"/>\n",
       "<text text-anchor=\"middle\" x=\"142.8931\" y=\"-46.8\" font-family=\"Times,serif\" font-size=\"14.00\" fill=\"#000000\">*</text>\n",
       "</g>\n",
       "<!-- &#45;5684509495817755832&#45;&gt;&#45;426421813437681058 -->\n",
       "<g id=\"edge31\" class=\"edge\">\n",
       "<title>&#45;5684509495817755832&#45;&gt;&#45;426421813437681058</title>\n",
       "<path fill=\"none\" stroke=\"#000000\" stroke-width=\".5\" d=\"M145.0414,-79.6446C144.6326,-74.1937 144.1442,-67.6819 143.7365,-62.2453\"/>\n",
       "</g>\n",
       "<!-- 3770827008043247820 -->\n",
       "<g id=\"node24\" class=\"node\">\n",
       "<title>3770827008043247820</title>\n",
       "<path fill=\"none\" stroke=\"#000000\" stroke-width=\".25\" d=\"M178.4889,-62C178.4889,-62 173.2972,-62 173.2972,-62 170.7014,-62 168.1055,-59.4041 168.1055,-56.8083 168.1055,-56.8083 168.1055,-45.1917 168.1055,-45.1917 168.1055,-42.5959 170.7014,-40 173.2972,-40 173.2972,-40 178.4889,-40 178.4889,-40 181.0848,-40 183.6806,-42.5959 183.6806,-45.1917 183.6806,-45.1917 183.6806,-56.8083 183.6806,-56.8083 183.6806,-59.4041 181.0848,-62 178.4889,-62\"/>\n",
       "<text text-anchor=\"middle\" x=\"175.8931\" y=\"-46.8\" font-family=\"Times,serif\" font-size=\"14.00\" fill=\"#000000\">F</text>\n",
       "</g>\n",
       "<!-- &#45;5684509495817755832&#45;&gt;3770827008043247820 -->\n",
       "<g id=\"edge32\" class=\"edge\">\n",
       "<title>&#45;5684509495817755832&#45;&gt;3770827008043247820</title>\n",
       "<path fill=\"none\" stroke=\"#000000\" stroke-width=\".5\" d=\"M154.4096,-79.6446C158.7057,-73.9165 163.8804,-67.0169 168.0746,-61.4247\"/>\n",
       "</g>\n",
       "<!-- &#45;426421813437681058&#45;&gt;3770827008043247820 -->\n",
       "<!-- 6785834085042663291 -->\n",
       "<g id=\"node25\" class=\"node\">\n",
       "<title>6785834085042663291</title>\n",
       "<path fill=\"none\" stroke=\"#000000\" stroke-width=\"1.25\" d=\"M177.8565,-22C177.8565,-22 173.9297,-22 173.9297,-22 171.9663,-22 170.0029,-20.0366 170.0029,-18.0732 170.0029,-18.0732 170.0029,-3.9268 170.0029,-3.9268 170.0029,-1.9634 171.9663,0 173.9297,0 173.9297,0 177.8565,0 177.8565,0 179.8198,0 181.7832,-1.9634 181.7832,-3.9268 181.7832,-3.9268 181.7832,-18.0732 181.7832,-18.0732 181.7832,-20.0366 179.8198,-22 177.8565,-22\"/>\n",
       "<text text-anchor=\"middle\" x=\"175.8931\" y=\"-6.8\" font-family=\"Times,serif\" font-size=\"14.00\" fill=\"#000000\">i</text>\n",
       "</g>\n",
       "<!-- 3770827008043247820&#45;&gt;6785834085042663291 -->\n",
       "<g id=\"edge34\" class=\"edge\">\n",
       "<title>3770827008043247820&#45;&gt;6785834085042663291</title>\n",
       "<path fill=\"none\" stroke=\"#000000\" stroke-width=\".5\" d=\"M175.8931,-39.6446C175.8931,-34.1937 175.8931,-27.6819 175.8931,-22.2453\"/>\n",
       "</g>\n",
       "</g>\n",
       "</svg>\n"
      ],
      "text/plain": [
       "ProductionGraph(E -> T E’ -> F T’ E’ -> i T’ E’ -> i * F E’ -> i * ( E ) E’ -> i * ( T E’ ) E’ -> i * ( F T’ E’ ) E’ -> i * ( i T’ E’ ) E’ -> i * ( i E’ ) E’ -> i * ( i + T ) E’ -> i * ( i + F T’ ) E’ -> i * ( i + i T’ ) E’ -> i * ( i + i * F ) E’ -> i * ( i + i * i ) E’ -> i * ( i + i * i ))"
      ]
     },
     "execution_count": 26,
     "metadata": {},
     "output_type": "execute_result"
    }
   ],
   "source": [
    "ProductionGraph(parse(G, TABLE, 'i * ( i + i * i )'.split()))"
   ]
  },
  {
   "cell_type": "code",
   "execution_count": 27,
   "metadata": {},
   "outputs": [],
   "source": [
    "G = Grammar.from_string(\"\"\"\n",
    "E  -> T E’ \n",
    "E’ -> + T E’ | ε\n",
    "T  -> F T’\n",
    "T’ -> * F T’ | ε\n",
    "F  -> ( E ) | i\n",
    "\"\"\")"
   ]
  },
  {
   "cell_type": "code",
   "execution_count": 28,
   "metadata": {},
   "outputs": [
    {
     "data": {
      "text/html": [
       "<table class=\"table-bordered\">\n",
       "<tr><td>&nbsp;<th style=\"text-align:left\">+<th style=\"text-align:left\">)<th style=\"text-align:left\">#<th style=\"text-align:left\">*<th style=\"text-align:left\">i<th style=\"text-align:left\">(\n",
       "<tr><th style=\"text-align:left\">E’<td style=\"text-align:left\"><pre>E’ -> + T E’</pre><td style=\"text-align:left\"><pre>E’ -> ε</pre><td style=\"text-align:left\"><pre>E’ -> ε</pre><td style=\"text-align:left\">&nbsp;<td style=\"text-align:left\">&nbsp;<td style=\"text-align:left\">&nbsp;\n",
       "<tr><th style=\"text-align:left\">T’<td style=\"text-align:left\"><pre>T’ -> ε</pre><td style=\"text-align:left\"><pre>T’ -> ε</pre><td style=\"text-align:left\"><pre>T’ -> ε</pre><td style=\"text-align:left\"><pre>T’ -> * F T’</pre><td style=\"text-align:left\">&nbsp;<td style=\"text-align:left\">&nbsp;\n",
       "<tr><th style=\"text-align:left\">T<td style=\"text-align:left\">&nbsp;<td style=\"text-align:left\">&nbsp;<td style=\"text-align:left\">&nbsp;<td style=\"text-align:left\">&nbsp;<td style=\"text-align:left\"><pre>T -> F T’</pre><td style=\"text-align:left\"><pre>T -> F T’</pre>\n",
       "<tr><th style=\"text-align:left\">E<td style=\"text-align:left\">&nbsp;<td style=\"text-align:left\">&nbsp;<td style=\"text-align:left\">&nbsp;<td style=\"text-align:left\">&nbsp;<td style=\"text-align:left\"><pre>E -> T E’</pre><td style=\"text-align:left\"><pre>E -> T E’</pre>\n",
       "<tr><th style=\"text-align:left\">F<td style=\"text-align:left\">&nbsp;<td style=\"text-align:left\">&nbsp;<td style=\"text-align:left\">&nbsp;<td style=\"text-align:left\">&nbsp;<td style=\"text-align:left\"><pre>F -> i</pre><td style=\"text-align:left\"><pre>F -> ( E )</pre>\n",
       "</table>"
      ],
      "text/plain": [
       "<IPython.core.display.HTML object>"
      ]
     },
     "execution_count": 28,
     "metadata": {},
     "output_type": "execute_result"
    }
   ],
   "source": [
    "FIRST = compute_first(G)\n",
    "FOLLOW = compute_follow(G, FIRST)\n",
    "TABLE = compute_table(G, FIRST, FOLLOW)\n",
    "dod2table(TABLE)"
   ]
  },
  {
   "cell_type": "code",
   "execution_count": 29,
   "metadata": {},
   "outputs": [
    {
     "data": {
      "image/svg+xml": [
       "<?xml version=\"1.0\" encoding=\"UTF-8\" standalone=\"no\"?>\n",
       "<!DOCTYPE svg PUBLIC \"-//W3C//DTD SVG 1.1//EN\"\n",
       " \"http://www.w3.org/Graphics/SVG/1.1/DTD/svg11.dtd\">\n",
       "<!-- Generated by graphviz version 2.40.1 (20161225.0304)\n",
       " -->\n",
       "<!-- Title: %3 Pages: 1 -->\n",
       "<svg width=\"257pt\" height=\"270pt\"\n",
       " viewBox=\"0.00 0.00 256.50 270.00\" xmlns=\"http://www.w3.org/2000/svg\" xmlns:xlink=\"http://www.w3.org/1999/xlink\">\n",
       "<g id=\"graph0\" class=\"graph\" transform=\"scale(1 1) rotate(0) translate(4 266)\">\n",
       "<title>%3</title>\n",
       "<polygon fill=\"#ffffff\" stroke=\"transparent\" points=\"-4,4 -4,-266 252.5,-266 252.5,4 -4,4\"/>\n",
       "<!-- &#45;9138149532280981585 -->\n",
       "<g id=\"node1\" class=\"node\">\n",
       "<title>&#45;9138149532280981585</title>\n",
       "<path fill=\"none\" stroke=\"#000000\" stroke-width=\".25\" d=\"M65.579,-262C65.579,-262 60.2072,-262 60.2072,-262 57.5213,-262 54.8354,-259.3141 54.8354,-256.6282 54.8354,-256.6282 54.8354,-245.3718 54.8354,-245.3718 54.8354,-242.6859 57.5213,-240 60.2072,-240 60.2072,-240 65.579,-240 65.579,-240 68.2648,-240 70.9507,-242.6859 70.9507,-245.3718 70.9507,-245.3718 70.9507,-256.6282 70.9507,-256.6282 70.9507,-259.3141 68.2648,-262 65.579,-262\"/>\n",
       "<text text-anchor=\"middle\" x=\"62.8931\" y=\"-246.8\" font-family=\"Times,serif\" font-size=\"14.00\" fill=\"#000000\">E</text>\n",
       "</g>\n",
       "<!-- 2937395938368531191 -->\n",
       "<g id=\"node2\" class=\"node\">\n",
       "<title>2937395938368531191</title>\n",
       "<path fill=\"none\" stroke=\"#000000\" stroke-width=\".25\" d=\"M47.579,-222C47.579,-222 42.2072,-222 42.2072,-222 39.5213,-222 36.8354,-219.3141 36.8354,-216.6282 36.8354,-216.6282 36.8354,-205.3718 36.8354,-205.3718 36.8354,-202.6859 39.5213,-200 42.2072,-200 42.2072,-200 47.579,-200 47.579,-200 50.2648,-200 52.9507,-202.6859 52.9507,-205.3718 52.9507,-205.3718 52.9507,-216.6282 52.9507,-216.6282 52.9507,-219.3141 50.2648,-222 47.579,-222\"/>\n",
       "<text text-anchor=\"middle\" x=\"44.8931\" y=\"-206.8\" font-family=\"Times,serif\" font-size=\"14.00\" fill=\"#000000\">T</text>\n",
       "</g>\n",
       "<!-- &#45;9138149532280981585&#45;&gt;2937395938368531191 -->\n",
       "<g id=\"edge1\" class=\"edge\">\n",
       "<title>&#45;9138149532280981585&#45;&gt;2937395938368531191</title>\n",
       "<path fill=\"none\" stroke=\"#000000\" stroke-width=\".5\" d=\"M57.7831,-239.6446C55.3302,-234.1937 52.3999,-227.6819 49.9535,-222.2453\"/>\n",
       "</g>\n",
       "<!-- &#45;2101512667803250255 -->\n",
       "<g id=\"node3\" class=\"node\">\n",
       "<title>&#45;2101512667803250255</title>\n",
       "<path fill=\"none\" stroke=\"#000000\" stroke-width=\".25\" d=\"M85.4647,-222C85.4647,-222 78.3214,-222 78.3214,-222 74.7498,-222 71.1781,-218.4283 71.1781,-214.8567 71.1781,-214.8567 71.1781,-207.1433 71.1781,-207.1433 71.1781,-203.5717 74.7498,-200 78.3214,-200 78.3214,-200 85.4647,-200 85.4647,-200 89.0364,-200 92.608,-203.5717 92.608,-207.1433 92.608,-207.1433 92.608,-214.8567 92.608,-214.8567 92.608,-218.4283 89.0364,-222 85.4647,-222\"/>\n",
       "<text text-anchor=\"middle\" x=\"81.8931\" y=\"-206.8\" font-family=\"Times,serif\" font-size=\"14.00\" fill=\"#000000\">E’</text>\n",
       "</g>\n",
       "<!-- &#45;9138149532280981585&#45;&gt;&#45;2101512667803250255 -->\n",
       "<g id=\"edge2\" class=\"edge\">\n",
       "<title>&#45;9138149532280981585&#45;&gt;&#45;2101512667803250255</title>\n",
       "<path fill=\"none\" stroke=\"#000000\" stroke-width=\".5\" d=\"M68.2869,-239.6446C70.8761,-234.1937 73.9692,-227.6819 76.5515,-222.2453\"/>\n",
       "</g>\n",
       "<!-- 2937395938368531191&#45;&gt;&#45;2101512667803250255 -->\n",
       "<!-- 3770825746845083948 -->\n",
       "<g id=\"node4\" class=\"node\">\n",
       "<title>3770825746845083948</title>\n",
       "<path fill=\"none\" stroke=\"#000000\" stroke-width=\".25\" d=\"M10.4889,-182C10.4889,-182 5.2972,-182 5.2972,-182 2.7014,-182 .1055,-179.4041 .1055,-176.8083 .1055,-176.8083 .1055,-165.1917 .1055,-165.1917 .1055,-162.5959 2.7014,-160 5.2972,-160 5.2972,-160 10.4889,-160 10.4889,-160 13.0848,-160 15.6806,-162.5959 15.6806,-165.1917 15.6806,-165.1917 15.6806,-176.8083 15.6806,-176.8083 15.6806,-179.4041 13.0848,-182 10.4889,-182\"/>\n",
       "<text text-anchor=\"middle\" x=\"7.8931\" y=\"-166.8\" font-family=\"Times,serif\" font-size=\"14.00\" fill=\"#000000\">F</text>\n",
       "</g>\n",
       "<!-- 2937395938368531191&#45;&gt;3770825746845083948 -->\n",
       "<g id=\"edge4\" class=\"edge\">\n",
       "<title>2937395938368531191&#45;&gt;3770825746845083948</title>\n",
       "<path fill=\"none\" stroke=\"#000000\" stroke-width=\".5\" d=\"M36.6816,-202.1227C30.4649,-195.402 21.9755,-186.2242 15.8277,-179.5779\"/>\n",
       "</g>\n",
       "<!-- &#45;5684518324199077691 -->\n",
       "<g id=\"node5\" class=\"node\">\n",
       "<title>&#45;5684518324199077691</title>\n",
       "<path fill=\"none\" stroke=\"#000000\" stroke-width=\".25\" d=\"M48.4647,-182C48.4647,-182 41.3214,-182 41.3214,-182 37.7498,-182 34.1781,-178.4283 34.1781,-174.8567 34.1781,-174.8567 34.1781,-167.1433 34.1781,-167.1433 34.1781,-163.5717 37.7498,-160 41.3214,-160 41.3214,-160 48.4647,-160 48.4647,-160 52.0364,-160 55.608,-163.5717 55.608,-167.1433 55.608,-167.1433 55.608,-174.8567 55.608,-174.8567 55.608,-178.4283 52.0364,-182 48.4647,-182\"/>\n",
       "<text text-anchor=\"middle\" x=\"44.8931\" y=\"-166.8\" font-family=\"Times,serif\" font-size=\"14.00\" fill=\"#000000\">T’</text>\n",
       "</g>\n",
       "<!-- 2937395938368531191&#45;&gt;&#45;5684518324199077691 -->\n",
       "<g id=\"edge5\" class=\"edge\">\n",
       "<title>2937395938368531191&#45;&gt;&#45;5684518324199077691</title>\n",
       "<path fill=\"none\" stroke=\"#000000\" stroke-width=\".5\" d=\"M44.8931,-199.6446C44.8931,-194.1937 44.8931,-187.6819 44.8931,-182.2453\"/>\n",
       "</g>\n",
       "<!-- 8934831765247803561 -->\n",
       "<g id=\"node8\" class=\"node\">\n",
       "<title>8934831765247803561</title>\n",
       "<path fill=\"none\" stroke=\"#000000\" stroke-width=\"1.25\" d=\"M84.525,-182C84.525,-182 79.2611,-182 79.2611,-182 76.6292,-182 73.9972,-179.3681 73.9972,-176.7361 73.9972,-176.7361 73.9972,-165.2639 73.9972,-165.2639 73.9972,-162.6319 76.6292,-160 79.2611,-160 79.2611,-160 84.525,-160 84.525,-160 87.157,-160 89.7889,-162.6319 89.7889,-165.2639 89.7889,-165.2639 89.7889,-176.7361 89.7889,-176.7361 89.7889,-179.3681 87.157,-182 84.525,-182\"/>\n",
       "<text text-anchor=\"middle\" x=\"81.8931\" y=\"-166.8\" font-family=\"Times,serif\" font-size=\"14.00\" fill=\"#000000\">+</text>\n",
       "</g>\n",
       "<!-- &#45;2101512667803250255&#45;&gt;8934831765247803561 -->\n",
       "<g id=\"edge9\" class=\"edge\">\n",
       "<title>&#45;2101512667803250255&#45;&gt;8934831765247803561</title>\n",
       "<path fill=\"none\" stroke=\"#000000\" stroke-width=\".5\" d=\"M81.8931,-199.6446C81.8931,-194.1937 81.8931,-187.6819 81.8931,-182.2453\"/>\n",
       "</g>\n",
       "<!-- 2937390893581700948 -->\n",
       "<g id=\"node9\" class=\"node\">\n",
       "<title>2937390893581700948</title>\n",
       "<path fill=\"none\" stroke=\"#000000\" stroke-width=\".25\" d=\"M118.579,-182C118.579,-182 113.2072,-182 113.2072,-182 110.5213,-182 107.8354,-179.3141 107.8354,-176.6282 107.8354,-176.6282 107.8354,-165.3718 107.8354,-165.3718 107.8354,-162.6859 110.5213,-160 113.2072,-160 113.2072,-160 118.579,-160 118.579,-160 121.2648,-160 123.9507,-162.6859 123.9507,-165.3718 123.9507,-165.3718 123.9507,-176.6282 123.9507,-176.6282 123.9507,-179.3141 121.2648,-182 118.579,-182\"/>\n",
       "<text text-anchor=\"middle\" x=\"115.8931\" y=\"-166.8\" font-family=\"Times,serif\" font-size=\"14.00\" fill=\"#000000\">T</text>\n",
       "</g>\n",
       "<!-- &#45;2101512667803250255&#45;&gt;2937390893581700948 -->\n",
       "<g id=\"edge10\" class=\"edge\">\n",
       "<title>&#45;2101512667803250255&#45;&gt;2937390893581700948</title>\n",
       "<path fill=\"none\" stroke=\"#000000\" stroke-width=\".5\" d=\"M91.5452,-199.6446C96.6496,-193.6393 102.8486,-186.3465 107.7141,-180.6223\"/>\n",
       "</g>\n",
       "<!-- &#45;2101507623016420012 -->\n",
       "<g id=\"node10\" class=\"node\">\n",
       "<title>&#45;2101507623016420012</title>\n",
       "<path fill=\"none\" stroke=\"#000000\" stroke-width=\".25\" d=\"M156.4647,-182C156.4647,-182 149.3214,-182 149.3214,-182 145.7498,-182 142.1781,-178.4283 142.1781,-174.8567 142.1781,-174.8567 142.1781,-167.1433 142.1781,-167.1433 142.1781,-163.5717 145.7498,-160 149.3214,-160 149.3214,-160 156.4647,-160 156.4647,-160 160.0364,-160 163.608,-163.5717 163.608,-167.1433 163.608,-167.1433 163.608,-174.8567 163.608,-174.8567 163.608,-178.4283 160.0364,-182 156.4647,-182\"/>\n",
       "<text text-anchor=\"middle\" x=\"152.8931\" y=\"-166.8\" font-family=\"Times,serif\" font-size=\"14.00\" fill=\"#000000\">E’</text>\n",
       "</g>\n",
       "<!-- &#45;2101512667803250255&#45;&gt;&#45;2101507623016420012 -->\n",
       "<g id=\"edge11\" class=\"edge\">\n",
       "<title>&#45;2101512667803250255&#45;&gt;&#45;2101507623016420012</title>\n",
       "<path fill=\"none\" stroke=\"#000000\" stroke-width=\".5\" d=\"M92.6764,-204.9249C106.0212,-197.4067 128.6167,-184.6768 142.0082,-177.1323\"/>\n",
       "</g>\n",
       "<!-- 3770825746845083948&#45;&gt;&#45;5684518324199077691 -->\n",
       "<!-- 6785850480603647990 -->\n",
       "<g id=\"node6\" class=\"node\">\n",
       "<title>6785850480603647990</title>\n",
       "<path fill=\"none\" stroke=\"#000000\" stroke-width=\"1.25\" d=\"M9.8565,-142C9.8565,-142 5.9297,-142 5.9297,-142 3.9663,-142 2.0029,-140.0366 2.0029,-138.0732 2.0029,-138.0732 2.0029,-123.9268 2.0029,-123.9268 2.0029,-121.9634 3.9663,-120 5.9297,-120 5.9297,-120 9.8565,-120 9.8565,-120 11.8198,-120 13.7832,-121.9634 13.7832,-123.9268 13.7832,-123.9268 13.7832,-138.0732 13.7832,-138.0732 13.7832,-140.0366 11.8198,-142 9.8565,-142\"/>\n",
       "<text text-anchor=\"middle\" x=\"7.8931\" y=\"-126.8\" font-family=\"Times,serif\" font-size=\"14.00\" fill=\"#000000\">i</text>\n",
       "</g>\n",
       "<!-- 3770825746845083948&#45;&gt;6785850480603647990 -->\n",
       "<g id=\"edge7\" class=\"edge\">\n",
       "<title>3770825746845083948&#45;&gt;6785850480603647990</title>\n",
       "<path fill=\"none\" stroke=\"#000000\" stroke-width=\".5\" d=\"M7.8931,-159.6446C7.8931,-154.1937 7.8931,-147.6819 7.8931,-142.2453\"/>\n",
       "</g>\n",
       "<!-- 7103121213485704651 -->\n",
       "<g id=\"node7\" class=\"node\">\n",
       "<title>7103121213485704651</title>\n",
       "<path fill=\"none\" stroke=\"#000000\" stroke-width=\".25\" d=\"M47.2982,-142C47.2982,-142 42.4879,-142 42.4879,-142 40.0827,-142 37.6776,-139.5948 37.6776,-137.1897 37.6776,-137.1897 37.6776,-124.8103 37.6776,-124.8103 37.6776,-122.4052 40.0827,-120 42.4879,-120 42.4879,-120 47.2982,-120 47.2982,-120 49.7034,-120 52.1086,-122.4052 52.1086,-124.8103 52.1086,-124.8103 52.1086,-137.1897 52.1086,-137.1897 52.1086,-139.5948 49.7034,-142 47.2982,-142\"/>\n",
       "<text text-anchor=\"middle\" x=\"44.8931\" y=\"-126.8\" font-family=\"Times,serif\" font-size=\"14.00\" fill=\"#000000\">ε</text>\n",
       "</g>\n",
       "<!-- &#45;5684518324199077691&#45;&gt;7103121213485704651 -->\n",
       "<g id=\"edge8\" class=\"edge\">\n",
       "<title>&#45;5684518324199077691&#45;&gt;7103121213485704651</title>\n",
       "<path fill=\"none\" stroke=\"#000000\" stroke-width=\".5\" d=\"M44.8931,-159.6446C44.8931,-154.1937 44.8931,-147.6819 44.8931,-142.2453\"/>\n",
       "</g>\n",
       "<!-- 8934831765247803561&#45;&gt;2937390893581700948 -->\n",
       "<!-- 2937390893581700948&#45;&gt;&#45;2101507623016420012 -->\n",
       "<!-- 3770820702057088656 -->\n",
       "<g id=\"node11\" class=\"node\">\n",
       "<title>3770820702057088656</title>\n",
       "<path fill=\"none\" stroke=\"#000000\" stroke-width=\".25\" d=\"M81.4889,-142C81.4889,-142 76.2972,-142 76.2972,-142 73.7014,-142 71.1055,-139.4041 71.1055,-136.8083 71.1055,-136.8083 71.1055,-125.1917 71.1055,-125.1917 71.1055,-122.5959 73.7014,-120 76.2972,-120 76.2972,-120 81.4889,-120 81.4889,-120 84.0848,-120 86.6806,-122.5959 86.6806,-125.1917 86.6806,-125.1917 86.6806,-136.8083 86.6806,-136.8083 86.6806,-139.4041 84.0848,-142 81.4889,-142\"/>\n",
       "<text text-anchor=\"middle\" x=\"78.8931\" y=\"-126.8\" font-family=\"Times,serif\" font-size=\"14.00\" fill=\"#000000\">F</text>\n",
       "</g>\n",
       "<!-- 2937390893581700948&#45;&gt;3770820702057088656 -->\n",
       "<g id=\"edge14\" class=\"edge\">\n",
       "<title>2937390893581700948&#45;&gt;3770820702057088656</title>\n",
       "<path fill=\"none\" stroke=\"#000000\" stroke-width=\".5\" d=\"M107.6816,-162.1227C101.4649,-155.402 92.9755,-146.2242 86.8277,-139.5779\"/>\n",
       "</g>\n",
       "<!-- &#45;5684523368987072983 -->\n",
       "<g id=\"node12\" class=\"node\">\n",
       "<title>&#45;5684523368987072983</title>\n",
       "<path fill=\"none\" stroke=\"#000000\" stroke-width=\".25\" d=\"M119.4647,-142C119.4647,-142 112.3214,-142 112.3214,-142 108.7498,-142 105.1781,-138.4283 105.1781,-134.8567 105.1781,-134.8567 105.1781,-127.1433 105.1781,-127.1433 105.1781,-123.5717 108.7498,-120 112.3214,-120 112.3214,-120 119.4647,-120 119.4647,-120 123.0364,-120 126.608,-123.5717 126.608,-127.1433 126.608,-127.1433 126.608,-134.8567 126.608,-134.8567 126.608,-138.4283 123.0364,-142 119.4647,-142\"/>\n",
       "<text text-anchor=\"middle\" x=\"115.8931\" y=\"-126.8\" font-family=\"Times,serif\" font-size=\"14.00\" fill=\"#000000\">T’</text>\n",
       "</g>\n",
       "<!-- 2937390893581700948&#45;&gt;&#45;5684523368987072983 -->\n",
       "<g id=\"edge15\" class=\"edge\">\n",
       "<title>2937390893581700948&#45;&gt;&#45;5684523368987072983</title>\n",
       "<path fill=\"none\" stroke=\"#000000\" stroke-width=\".5\" d=\"M115.8931,-159.6446C115.8931,-154.1937 115.8931,-147.6819 115.8931,-142.2453\"/>\n",
       "</g>\n",
       "<!-- 8934846899611789437 -->\n",
       "<g id=\"node15\" class=\"node\">\n",
       "<title>8934846899611789437</title>\n",
       "<path fill=\"none\" stroke=\"#000000\" stroke-width=\"1.25\" d=\"M155.525,-142C155.525,-142 150.2611,-142 150.2611,-142 147.6292,-142 144.9972,-139.3681 144.9972,-136.7361 144.9972,-136.7361 144.9972,-125.2639 144.9972,-125.2639 144.9972,-122.6319 147.6292,-120 150.2611,-120 150.2611,-120 155.525,-120 155.525,-120 158.157,-120 160.7889,-122.6319 160.7889,-125.2639 160.7889,-125.2639 160.7889,-136.7361 160.7889,-136.7361 160.7889,-139.3681 158.157,-142 155.525,-142\"/>\n",
       "<text text-anchor=\"middle\" x=\"152.8931\" y=\"-126.8\" font-family=\"Times,serif\" font-size=\"14.00\" fill=\"#000000\">+</text>\n",
       "</g>\n",
       "<!-- &#45;2101507623016420012&#45;&gt;8934846899611789437 -->\n",
       "<g id=\"edge19\" class=\"edge\">\n",
       "<title>&#45;2101507623016420012&#45;&gt;8934846899611789437</title>\n",
       "<path fill=\"none\" stroke=\"#000000\" stroke-width=\".5\" d=\"M152.8931,-159.6446C152.8931,-154.1937 152.8931,-147.6819 152.8931,-142.2453\"/>\n",
       "</g>\n",
       "<!-- 2937406027945686824 -->\n",
       "<g id=\"node16\" class=\"node\">\n",
       "<title>2937406027945686824</title>\n",
       "<path fill=\"none\" stroke=\"#000000\" stroke-width=\".25\" d=\"M189.579,-142C189.579,-142 184.2072,-142 184.2072,-142 181.5213,-142 178.8354,-139.3141 178.8354,-136.6282 178.8354,-136.6282 178.8354,-125.3718 178.8354,-125.3718 178.8354,-122.6859 181.5213,-120 184.2072,-120 184.2072,-120 189.579,-120 189.579,-120 192.2648,-120 194.9507,-122.6859 194.9507,-125.3718 194.9507,-125.3718 194.9507,-136.6282 194.9507,-136.6282 194.9507,-139.3141 192.2648,-142 189.579,-142\"/>\n",
       "<text text-anchor=\"middle\" x=\"186.8931\" y=\"-126.8\" font-family=\"Times,serif\" font-size=\"14.00\" fill=\"#000000\">T</text>\n",
       "</g>\n",
       "<!-- &#45;2101507623016420012&#45;&gt;2937406027945686824 -->\n",
       "<g id=\"edge20\" class=\"edge\">\n",
       "<title>&#45;2101507623016420012&#45;&gt;2937406027945686824</title>\n",
       "<path fill=\"none\" stroke=\"#000000\" stroke-width=\".5\" d=\"M162.5452,-159.6446C167.6496,-153.6393 173.8486,-146.3465 178.7141,-140.6223\"/>\n",
       "</g>\n",
       "<!-- &#45;2101522757380405888 -->\n",
       "<g id=\"node17\" class=\"node\">\n",
       "<title>&#45;2101522757380405888</title>\n",
       "<path fill=\"none\" stroke=\"#000000\" stroke-width=\".25\" d=\"M227.4647,-142C227.4647,-142 220.3214,-142 220.3214,-142 216.7498,-142 213.1781,-138.4283 213.1781,-134.8567 213.1781,-134.8567 213.1781,-127.1433 213.1781,-127.1433 213.1781,-123.5717 216.7498,-120 220.3214,-120 220.3214,-120 227.4647,-120 227.4647,-120 231.0364,-120 234.608,-123.5717 234.608,-127.1433 234.608,-127.1433 234.608,-134.8567 234.608,-134.8567 234.608,-138.4283 231.0364,-142 227.4647,-142\"/>\n",
       "<text text-anchor=\"middle\" x=\"223.8931\" y=\"-126.8\" font-family=\"Times,serif\" font-size=\"14.00\" fill=\"#000000\">E’</text>\n",
       "</g>\n",
       "<!-- &#45;2101507623016420012&#45;&gt;&#45;2101522757380405888 -->\n",
       "<g id=\"edge21\" class=\"edge\">\n",
       "<title>&#45;2101507623016420012&#45;&gt;&#45;2101522757380405888</title>\n",
       "<path fill=\"none\" stroke=\"#000000\" stroke-width=\".5\" d=\"M163.6764,-164.9249C177.0212,-157.4067 199.6167,-144.6768 213.0082,-137.1323\"/>\n",
       "</g>\n",
       "<!-- 3770820702057088656&#45;&gt;&#45;5684523368987072983 -->\n",
       "<!-- 6785845435815652698 -->\n",
       "<g id=\"node13\" class=\"node\">\n",
       "<title>6785845435815652698</title>\n",
       "<path fill=\"none\" stroke=\"#000000\" stroke-width=\"1.25\" d=\"M80.8565,-102C80.8565,-102 76.9297,-102 76.9297,-102 74.9663,-102 73.0029,-100.0366 73.0029,-98.0732 73.0029,-98.0732 73.0029,-83.9268 73.0029,-83.9268 73.0029,-81.9634 74.9663,-80 76.9297,-80 76.9297,-80 80.8565,-80 80.8565,-80 82.8198,-80 84.7832,-81.9634 84.7832,-83.9268 84.7832,-83.9268 84.7832,-98.0732 84.7832,-98.0732 84.7832,-100.0366 82.8198,-102 80.8565,-102\"/>\n",
       "<text text-anchor=\"middle\" x=\"78.8931\" y=\"-86.8\" font-family=\"Times,serif\" font-size=\"14.00\" fill=\"#000000\">i</text>\n",
       "</g>\n",
       "<!-- 3770820702057088656&#45;&gt;6785845435815652698 -->\n",
       "<g id=\"edge17\" class=\"edge\">\n",
       "<title>3770820702057088656&#45;&gt;6785845435815652698</title>\n",
       "<path fill=\"none\" stroke=\"#000000\" stroke-width=\".5\" d=\"M78.8931,-119.6446C78.8931,-114.1937 78.8931,-107.6819 78.8931,-102.2453\"/>\n",
       "</g>\n",
       "<!-- 7103136347849690527 -->\n",
       "<g id=\"node14\" class=\"node\">\n",
       "<title>7103136347849690527</title>\n",
       "<path fill=\"none\" stroke=\"#000000\" stroke-width=\".25\" d=\"M118.2982,-102C118.2982,-102 113.4879,-102 113.4879,-102 111.0827,-102 108.6776,-99.5948 108.6776,-97.1897 108.6776,-97.1897 108.6776,-84.8103 108.6776,-84.8103 108.6776,-82.4052 111.0827,-80 113.4879,-80 113.4879,-80 118.2982,-80 118.2982,-80 120.7034,-80 123.1086,-82.4052 123.1086,-84.8103 123.1086,-84.8103 123.1086,-97.1897 123.1086,-97.1897 123.1086,-99.5948 120.7034,-102 118.2982,-102\"/>\n",
       "<text text-anchor=\"middle\" x=\"115.8931\" y=\"-86.8\" font-family=\"Times,serif\" font-size=\"14.00\" fill=\"#000000\">ε</text>\n",
       "</g>\n",
       "<!-- &#45;5684523368987072983&#45;&gt;7103136347849690527 -->\n",
       "<g id=\"edge18\" class=\"edge\">\n",
       "<title>&#45;5684523368987072983&#45;&gt;7103136347849690527</title>\n",
       "<path fill=\"none\" stroke=\"#000000\" stroke-width=\".5\" d=\"M115.8931,-119.6446C115.8931,-114.1937 115.8931,-107.6819 115.8931,-102.2453\"/>\n",
       "</g>\n",
       "<!-- 8934846899611789437&#45;&gt;2937406027945686824 -->\n",
       "<!-- 2937406027945686824&#45;&gt;&#45;2101522757380405888 -->\n",
       "<!-- 3770835836421074532 -->\n",
       "<g id=\"node18\" class=\"node\">\n",
       "<title>3770835836421074532</title>\n",
       "<path fill=\"none\" stroke=\"#000000\" stroke-width=\".25\" d=\"M152.4889,-102C152.4889,-102 147.2972,-102 147.2972,-102 144.7014,-102 142.1055,-99.4041 142.1055,-96.8083 142.1055,-96.8083 142.1055,-85.1917 142.1055,-85.1917 142.1055,-82.5959 144.7014,-80 147.2972,-80 147.2972,-80 152.4889,-80 152.4889,-80 155.0848,-80 157.6806,-82.5959 157.6806,-85.1917 157.6806,-85.1917 157.6806,-96.8083 157.6806,-96.8083 157.6806,-99.4041 155.0848,-102 152.4889,-102\"/>\n",
       "<text text-anchor=\"middle\" x=\"149.8931\" y=\"-86.8\" font-family=\"Times,serif\" font-size=\"14.00\" fill=\"#000000\">F</text>\n",
       "</g>\n",
       "<!-- 2937406027945686824&#45;&gt;3770835836421074532 -->\n",
       "<g id=\"edge24\" class=\"edge\">\n",
       "<title>2937406027945686824&#45;&gt;3770835836421074532</title>\n",
       "<path fill=\"none\" stroke=\"#000000\" stroke-width=\".5\" d=\"M178.6816,-122.1227C172.4649,-115.402 163.9755,-106.2242 157.8277,-99.5779\"/>\n",
       "</g>\n",
       "<!-- &#45;5684508234623087107 -->\n",
       "<g id=\"node19\" class=\"node\">\n",
       "<title>&#45;5684508234623087107</title>\n",
       "<path fill=\"none\" stroke=\"#000000\" stroke-width=\".25\" d=\"M190.4647,-102C190.4647,-102 183.3214,-102 183.3214,-102 179.7498,-102 176.1781,-98.4283 176.1781,-94.8567 176.1781,-94.8567 176.1781,-87.1433 176.1781,-87.1433 176.1781,-83.5717 179.7498,-80 183.3214,-80 183.3214,-80 190.4647,-80 190.4647,-80 194.0364,-80 197.608,-83.5717 197.608,-87.1433 197.608,-87.1433 197.608,-94.8567 197.608,-94.8567 197.608,-98.4283 194.0364,-102 190.4647,-102\"/>\n",
       "<text text-anchor=\"middle\" x=\"186.8931\" y=\"-86.8\" font-family=\"Times,serif\" font-size=\"14.00\" fill=\"#000000\">T’</text>\n",
       "</g>\n",
       "<!-- 2937406027945686824&#45;&gt;&#45;5684508234623087107 -->\n",
       "<g id=\"edge25\" class=\"edge\">\n",
       "<title>2937406027945686824&#45;&gt;&#45;5684508234623087107</title>\n",
       "<path fill=\"none\" stroke=\"#000000\" stroke-width=\".5\" d=\"M186.8931,-119.6446C186.8931,-114.1937 186.8931,-107.6819 186.8931,-102.2453\"/>\n",
       "</g>\n",
       "<!-- 7103135086652691704 -->\n",
       "<g id=\"node26\" class=\"node\">\n",
       "<title>7103135086652691704</title>\n",
       "<path fill=\"none\" stroke=\"#000000\" stroke-width=\".25\" d=\"M226.2982,-102C226.2982,-102 221.4879,-102 221.4879,-102 219.0827,-102 216.6776,-99.5948 216.6776,-97.1897 216.6776,-97.1897 216.6776,-84.8103 216.6776,-84.8103 216.6776,-82.4052 219.0827,-80 221.4879,-80 221.4879,-80 226.2982,-80 226.2982,-80 228.7034,-80 231.1086,-82.4052 231.1086,-84.8103 231.1086,-84.8103 231.1086,-97.1897 231.1086,-97.1897 231.1086,-99.5948 228.7034,-102 226.2982,-102\"/>\n",
       "<text text-anchor=\"middle\" x=\"223.8931\" y=\"-86.8\" font-family=\"Times,serif\" font-size=\"14.00\" fill=\"#000000\">ε</text>\n",
       "</g>\n",
       "<!-- &#45;2101522757380405888&#45;&gt;7103135086652691704 -->\n",
       "<g id=\"edge35\" class=\"edge\">\n",
       "<title>&#45;2101522757380405888&#45;&gt;7103135086652691704</title>\n",
       "<path fill=\"none\" stroke=\"#000000\" stroke-width=\".5\" d=\"M223.8931,-119.6446C223.8931,-114.1937 223.8931,-107.6819 223.8931,-102.2453\"/>\n",
       "</g>\n",
       "<!-- 3770835836421074532&#45;&gt;&#45;5684508234623087107 -->\n",
       "<!-- 6785840391027657406 -->\n",
       "<g id=\"node20\" class=\"node\">\n",
       "<title>6785840391027657406</title>\n",
       "<path fill=\"none\" stroke=\"#000000\" stroke-width=\"1.25\" d=\"M138.8565,-62C138.8565,-62 134.9297,-62 134.9297,-62 132.9663,-62 131.0029,-60.0366 131.0029,-58.0732 131.0029,-58.0732 131.0029,-43.9268 131.0029,-43.9268 131.0029,-41.9634 132.9663,-40 134.9297,-40 134.9297,-40 138.8565,-40 138.8565,-40 140.8198,-40 142.7832,-41.9634 142.7832,-43.9268 142.7832,-43.9268 142.7832,-58.0732 142.7832,-58.0732 142.7832,-60.0366 140.8198,-62 138.8565,-62\"/>\n",
       "<text text-anchor=\"middle\" x=\"136.8931\" y=\"-46.8\" font-family=\"Times,serif\" font-size=\"14.00\" fill=\"#000000\">i</text>\n",
       "</g>\n",
       "<!-- 3770835836421074532&#45;&gt;6785840391027657406 -->\n",
       "<g id=\"edge27\" class=\"edge\">\n",
       "<title>3770835836421074532&#45;&gt;6785840391027657406</title>\n",
       "<path fill=\"none\" stroke=\"#000000\" stroke-width=\".5\" d=\"M146.2026,-79.6446C144.431,-74.1937 142.3147,-67.6819 140.5478,-62.2453\"/>\n",
       "</g>\n",
       "<!-- &#45;426423074634679881 -->\n",
       "<g id=\"node21\" class=\"node\">\n",
       "<title>&#45;426423074634679881</title>\n",
       "<path fill=\"none\" stroke=\"#000000\" stroke-width=\"1.25\" d=\"M170.3931,-62C170.3931,-62 165.3931,-62 165.3931,-62 162.8931,-62 160.3931,-59.5 160.3931,-57 160.3931,-57 160.3931,-45 160.3931,-45 160.3931,-42.5 162.8931,-40 165.3931,-40 165.3931,-40 170.3931,-40 170.3931,-40 172.8931,-40 175.3931,-42.5 175.3931,-45 175.3931,-45 175.3931,-57 175.3931,-57 175.3931,-59.5 172.8931,-62 170.3931,-62\"/>\n",
       "<text text-anchor=\"middle\" x=\"167.8931\" y=\"-46.8\" font-family=\"Times,serif\" font-size=\"14.00\" fill=\"#000000\">*</text>\n",
       "</g>\n",
       "<!-- &#45;5684508234623087107&#45;&gt;&#45;426423074634679881 -->\n",
       "<g id=\"edge28\" class=\"edge\">\n",
       "<title>&#45;5684508234623087107&#45;&gt;&#45;426423074634679881</title>\n",
       "<path fill=\"none\" stroke=\"#000000\" stroke-width=\".5\" d=\"M181.4993,-79.6446C178.9101,-74.1937 175.817,-67.6819 173.2346,-62.2453\"/>\n",
       "</g>\n",
       "<!-- 3770828269237916545 -->\n",
       "<g id=\"node22\" class=\"node\">\n",
       "<title>3770828269237916545</title>\n",
       "<path fill=\"none\" stroke=\"#000000\" stroke-width=\".25\" d=\"M203.4889,-62C203.4889,-62 198.2972,-62 198.2972,-62 195.7014,-62 193.1055,-59.4041 193.1055,-56.8083 193.1055,-56.8083 193.1055,-45.1917 193.1055,-45.1917 193.1055,-42.5959 195.7014,-40 198.2972,-40 198.2972,-40 203.4889,-40 203.4889,-40 206.0848,-40 208.6806,-42.5959 208.6806,-45.1917 208.6806,-45.1917 208.6806,-56.8083 208.6806,-56.8083 208.6806,-59.4041 206.0848,-62 203.4889,-62\"/>\n",
       "<text text-anchor=\"middle\" x=\"200.8931\" y=\"-46.8\" font-family=\"Times,serif\" font-size=\"14.00\" fill=\"#000000\">F</text>\n",
       "</g>\n",
       "<!-- &#45;5684508234623087107&#45;&gt;3770828269237916545 -->\n",
       "<g id=\"edge29\" class=\"edge\">\n",
       "<title>&#45;5684508234623087107&#45;&gt;3770828269237916545</title>\n",
       "<path fill=\"none\" stroke=\"#000000\" stroke-width=\".5\" d=\"M190.8675,-79.6446C192.7753,-74.1937 195.0544,-67.6819 196.9572,-62.2453\"/>\n",
       "</g>\n",
       "<!-- &#45;5684510757013589606 -->\n",
       "<g id=\"node23\" class=\"node\">\n",
       "<title>&#45;5684510757013589606</title>\n",
       "<path fill=\"none\" stroke=\"#000000\" stroke-width=\".25\" d=\"M241.4647,-62C241.4647,-62 234.3214,-62 234.3214,-62 230.7498,-62 227.1781,-58.4283 227.1781,-54.8567 227.1781,-54.8567 227.1781,-47.1433 227.1781,-47.1433 227.1781,-43.5717 230.7498,-40 234.3214,-40 234.3214,-40 241.4647,-40 241.4647,-40 245.0364,-40 248.608,-43.5717 248.608,-47.1433 248.608,-47.1433 248.608,-54.8567 248.608,-54.8567 248.608,-58.4283 245.0364,-62 241.4647,-62\"/>\n",
       "<text text-anchor=\"middle\" x=\"237.8931\" y=\"-46.8\" font-family=\"Times,serif\" font-size=\"14.00\" fill=\"#000000\">T’</text>\n",
       "</g>\n",
       "<!-- &#45;5684508234623087107&#45;&gt;&#45;5684510757013589606 -->\n",
       "<g id=\"edge30\" class=\"edge\">\n",
       "<title>&#45;5684508234623087107&#45;&gt;&#45;5684510757013589606</title>\n",
       "<path fill=\"none\" stroke=\"#000000\" stroke-width=\".5\" d=\"M197.7089,-82.517C206.3637,-75.7289 218.4421,-66.2557 227.0929,-59.4707\"/>\n",
       "</g>\n",
       "<!-- &#45;426423074634679881&#45;&gt;3770828269237916545 -->\n",
       "<!-- 3770828269237916545&#45;&gt;&#45;5684510757013589606 -->\n",
       "<!-- 6785837868633659760 -->\n",
       "<g id=\"node24\" class=\"node\">\n",
       "<title>6785837868633659760</title>\n",
       "<path fill=\"none\" stroke=\"#000000\" stroke-width=\"1.25\" d=\"M202.8565,-22C202.8565,-22 198.9297,-22 198.9297,-22 196.9663,-22 195.0029,-20.0366 195.0029,-18.0732 195.0029,-18.0732 195.0029,-3.9268 195.0029,-3.9268 195.0029,-1.9634 196.9663,0 198.9297,0 198.9297,0 202.8565,0 202.8565,0 204.8198,0 206.7832,-1.9634 206.7832,-3.9268 206.7832,-3.9268 206.7832,-18.0732 206.7832,-18.0732 206.7832,-20.0366 204.8198,-22 202.8565,-22\"/>\n",
       "<text text-anchor=\"middle\" x=\"200.8931\" y=\"-6.8\" font-family=\"Times,serif\" font-size=\"14.00\" fill=\"#000000\">i</text>\n",
       "</g>\n",
       "<!-- 3770828269237916545&#45;&gt;6785837868633659760 -->\n",
       "<g id=\"edge33\" class=\"edge\">\n",
       "<title>3770828269237916545&#45;&gt;6785837868633659760</title>\n",
       "<path fill=\"none\" stroke=\"#000000\" stroke-width=\".5\" d=\"M200.8931,-39.6446C200.8931,-34.1937 200.8931,-27.6819 200.8931,-22.2453\"/>\n",
       "</g>\n",
       "<!-- 7103133825455692881 -->\n",
       "<g id=\"node25\" class=\"node\">\n",
       "<title>7103133825455692881</title>\n",
       "<path fill=\"none\" stroke=\"#000000\" stroke-width=\".25\" d=\"M240.2982,-22C240.2982,-22 235.4879,-22 235.4879,-22 233.0827,-22 230.6776,-19.5948 230.6776,-17.1897 230.6776,-17.1897 230.6776,-4.8103 230.6776,-4.8103 230.6776,-2.4052 233.0827,0 235.4879,0 235.4879,0 240.2982,0 240.2982,0 242.7034,0 245.1086,-2.4052 245.1086,-4.8103 245.1086,-4.8103 245.1086,-17.1897 245.1086,-17.1897 245.1086,-19.5948 242.7034,-22 240.2982,-22\"/>\n",
       "<text text-anchor=\"middle\" x=\"237.8931\" y=\"-6.8\" font-family=\"Times,serif\" font-size=\"14.00\" fill=\"#000000\">ε</text>\n",
       "</g>\n",
       "<!-- &#45;5684510757013589606&#45;&gt;7103133825455692881 -->\n",
       "<g id=\"edge34\" class=\"edge\">\n",
       "<title>&#45;5684510757013589606&#45;&gt;7103133825455692881</title>\n",
       "<path fill=\"none\" stroke=\"#000000\" stroke-width=\".5\" d=\"M237.8931,-39.6446C237.8931,-34.1937 237.8931,-27.6819 237.8931,-22.2453\"/>\n",
       "</g>\n",
       "</g>\n",
       "</svg>\n"
      ],
      "text/plain": [
       "ProductionGraph(E -> T E’ -> F T’ E’ -> i T’ E’ -> i E’ -> i + T E’ -> i + F T’ E’ -> i + i T’ E’ -> i + i E’ -> i + i + T E’ -> i + i + F T’ E’ -> i + i + i T’ E’ -> i + i + i * F T’ E’ -> i + i + i * i T’ E’ -> i + i + i * i E’ -> i + i + i * i)"
      ]
     },
     "execution_count": 29,
     "metadata": {},
     "output_type": "execute_result"
    }
   ],
   "source": [
    "ProductionGraph(parse(G, TABLE, 'i + i + i * i'.split()))"
   ]
  },
  {
   "cell_type": "markdown",
   "metadata": {},
   "source": [
    "# LL(1) e Recursive Descent\n",
    "\n",
    "## Riconoscimento"
   ]
  },
  {
   "cell_type": "code",
   "execution_count": 31,
   "metadata": {},
   "outputs": [],
   "source": [
    "def consume(t):        \n",
    "    global look_ahead\n",
    "    if look_ahead != t:\n",
    "        warn('Expecting {}, found {}'.format(t, look_ahead))\n",
    "    else:\n",
    "        look_ahead = next(input_iterator, '#')\n",
    "        \n",
    "def parse_E():\n",
    "    if look_ahead in {'i', '('}:\n",
    "        parse_T()\n",
    "        parse_Ep()\n",
    "    else:\n",
    "        warn('Error parsing E')\n",
    "\n",
    "def parse_Ep():\n",
    "    if look_ahead in {')', '#'}:\n",
    "        pass\n",
    "    elif look_ahead == '+':\n",
    "        consume('+')\n",
    "        parse_T()\n",
    "        parse_Ep()\n",
    "    else:\n",
    "        warn('Error parsing E’')\n",
    "\n",
    "def parse_T():\n",
    "    if look_ahead in {'i', '('}:\n",
    "        parse_F()\n",
    "        parse_Tp()\n",
    "    else:\n",
    "        warn('Error parsing T')\n",
    "    \n",
    "def parse_Tp():\n",
    "    if look_ahead in {'+', ')', '#'}:\n",
    "        pass\n",
    "    elif look_ahead == '*':\n",
    "        consume('*')\n",
    "        parse_F()\n",
    "        parse_Tp()\n",
    "    else:\n",
    "        warn('Error parsing T’')\n",
    "\n",
    "def parse_F():\n",
    "    if look_ahead == 'i':\n",
    "        consume('i')\n",
    "    elif look_ahead == '(':\n",
    "        consume('(')\n",
    "        parse_E()\n",
    "        consume(')')\n",
    "    else:\n",
    "        warn('Error parsing F')"
   ]
  },
  {
   "cell_type": "code",
   "execution_count": 35,
   "metadata": {
    "scrolled": false
   },
   "outputs": [],
   "source": [
    "input_iterator = iter('( i + i ) * i'.split())\n",
    "look_ahead = next(input_iterator)\n",
    "\n",
    "parse_E()"
   ]
  },
  {
   "cell_type": "markdown",
   "metadata": {},
   "source": [
    "## Un tokenizzatore molto semplice"
   ]
  },
  {
   "cell_type": "code",
   "execution_count": 36,
   "metadata": {},
   "outputs": [],
   "source": [
    "from re import finditer\n",
    "\n",
    "def make_consume(expression):\n",
    "    input_iterator = iter(_.group() for _ in finditer(r'[(+*)]|\\d+', expression))    \n",
    "    def next_token():\n",
    "        global look_ahead, value\n",
    "        token = next(input_iterator, '#')\n",
    "        if token in {'+', '*', '(', ')', '#'}:\n",
    "            look_ahead = token\n",
    "            value = None\n",
    "        else:\n",
    "            look_ahead = 'i'\n",
    "            value = int(token)\n",
    "    next_token()\n",
    "    def consume(t):        \n",
    "        if look_ahead != t:\n",
    "            warn('Expecting {}, found {}'.format(t, look_ahead))\n",
    "        else:\n",
    "            next_token()\n",
    "    return consume"
   ]
  },
  {
   "cell_type": "code",
   "execution_count": 37,
   "metadata": {},
   "outputs": [
    {
     "name": "stdout",
     "output_type": "stream",
     "text": [
      "23\n",
      "*\n",
      "2\n",
      "+\n",
      "(\n",
      "2\n",
      "+\n",
      "4\n",
      ")\n"
     ]
    }
   ],
   "source": [
    "consume = make_consume('23 * 2 + (2+ 4)')\n",
    "\n",
    "while True:\n",
    "    if look_ahead == '#': break\n",
    "    print(value if look_ahead == 'i' else look_ahead)\n",
    "    consume(look_ahead)"
   ]
  },
  {
   "cell_type": "code",
   "execution_count": 41,
   "metadata": {},
   "outputs": [],
   "source": [
    "def parse_E():\n",
    "    if look_ahead in {'i', '('}:\n",
    "        res = parse_T()\n",
    "        res += parse_Ep()\n",
    "        return res\n",
    "    else:\n",
    "        warn('Error parsing E')\n",
    "\n",
    "def parse_Ep():\n",
    "    if look_ahead in {')', '#'}:\n",
    "        return 0\n",
    "    elif look_ahead == '+':\n",
    "        consume('+')\n",
    "        res = parse_T()\n",
    "        res += parse_Ep()\n",
    "        return res\n",
    "    else:\n",
    "        warn('Error parsing E’')\n",
    "\n",
    "def parse_T():\n",
    "    if look_ahead in {'i', '('}:\n",
    "        res = parse_F()\n",
    "        res *= parse_Tp()\n",
    "        return res\n",
    "    else:\n",
    "        warn('Error parsing T')\n",
    "    \n",
    "def parse_Tp():\n",
    "    if look_ahead in {'+', ')', '#'}:\n",
    "        return 1\n",
    "    elif look_ahead == '*':\n",
    "        consume('*')\n",
    "        res = parse_F()\n",
    "        res *= parse_Tp()\n",
    "        return res\n",
    "    else:\n",
    "        warn('Error parsing T’')\n",
    "\n",
    "def parse_F():\n",
    "    if look_ahead == 'i':\n",
    "        res = value\n",
    "        consume('i')\n",
    "        return res\n",
    "    elif look_ahead == '(':\n",
    "        consume('(')\n",
    "        res = parse_E()\n",
    "        consume(')')\n",
    "        return res\n",
    "    else:\n",
    "        warn('Error parsing F')"
   ]
  },
  {
   "cell_type": "code",
   "execution_count": 42,
   "metadata": {},
   "outputs": [
    {
     "data": {
      "text/plain": [
       "29"
      ]
     },
     "execution_count": 42,
     "metadata": {},
     "output_type": "execute_result"
    }
   ],
   "source": [
    "consume = make_consume('23 + 2 * 3')\n",
    "\n",
    "parse_E()"
   ]
  },
  {
   "cell_type": "markdown",
   "metadata": {},
   "source": [
    "## Extended CFG\n",
    "\n",
    "Se con la notazione $\\left\\{\\alpha\\right\\}^*$ indichiamo 0 o più ripetizioni di $\\alpha$, la precedene grammatica si può intendere come\n",
    "\n",
    "$E \\to T \\left\\{+ T\\right\\}^* \\\\\n",
    "T \\to F \\left\\{* F\\right\\}^* \\\\\n",
    "F \\to ( E ) | i$\n",
    "\n",
    "il che suggerisce l'uso di un cicli `while` per gestire la ripetizione."
   ]
  },
  {
   "cell_type": "code",
   "execution_count": 43,
   "metadata": {},
   "outputs": [],
   "source": [
    "def parse_E():\n",
    "    if look_ahead in {'i', '('}:\n",
    "        res = parse_T()\n",
    "        while look_ahead == '+':\n",
    "            consume('+')\n",
    "            res += parse_T()\n",
    "        if look_ahead in {')', '#'}:\n",
    "            return res\n",
    "    else:\n",
    "        warn('Error parsing E')\n",
    "\n",
    "def parse_T():\n",
    "    if look_ahead in {'i', '('}:\n",
    "        res = parse_F()\n",
    "        while look_ahead == '*':\n",
    "            consume('*')\n",
    "            res *= parse_F()\n",
    "        if look_ahead in {')', '#'}:\n",
    "            return res\n",
    "        return res\n",
    "    else:\n",
    "        warn('Error parsing T')\n",
    "    \n",
    "def parse_F():\n",
    "    if look_ahead == 'i':\n",
    "        res = value\n",
    "        consume('i')\n",
    "        return res\n",
    "    elif look_ahead == '(':\n",
    "        consume('(')\n",
    "        res = parse_E()\n",
    "        consume(')')\n",
    "        return res\n",
    "    else:\n",
    "        warn('Error parsing F')"
   ]
  },
  {
   "cell_type": "code",
   "execution_count": 45,
   "metadata": {},
   "outputs": [
    {
     "data": {
      "text/plain": [
       "24"
      ]
     },
     "execution_count": 45,
     "metadata": {},
     "output_type": "execute_result"
    }
   ],
   "source": [
    "consume = make_consume('4 * 2 * 3')\n",
    "\n",
    "parse_E()"
   ]
  }
 ],
 "metadata": {
  "kernelspec": {
   "display_name": "Python 3",
   "language": "python",
   "name": "python3"
  },
  "language_info": {
   "codemirror_mode": {
    "name": "ipython",
    "version": 3
   },
   "file_extension": ".py",
   "mimetype": "text/x-python",
   "name": "python",
   "nbconvert_exporter": "python",
   "pygments_lexer": "ipython3",
   "version": "3.7.3"
  }
 },
 "nbformat": 4,
 "nbformat_minor": 2
}
