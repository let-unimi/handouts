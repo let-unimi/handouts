{
  "cells": [
    {
      "cell_type": "markdown",
      "metadata": {},
      "source": [
        "# Quadrati latini\n",
        "\n",
        "Un [quadrato latino](https://en.wikipedia.org/wiki/Latin_square) di dimensione $n$ è una \n",
        "matrice quadrata di $n \\times n$ interi tale che ogni riga e colonna sono una permutazione degli\n",
        "interi tra $0$ e $n-1$; un tale quadrato si dice in forma *normale* (o *ridotta*) se gli nteri\n",
        "sulla prima colonna e sulla prima riga sono in ordine natuarle.\n",
        "\n",
        "La soluzione seguente è costruita a partire da una serie di funzioni ausliarie, ciascuna funzione è qui implementata usando alcune caratteristiche avanzate di Python (al fine di stimolarne l'apprendimento), ma ammette implementazioni alternative basate esclusivamente su liste e cicli."
      ]
    },
    {
      "cell_type": "code",
      "execution_count": null,
      "metadata": {},
      "outputs": [
        {
          "data": {
            "text/plain": [
              "[[0, 1, 2], [1, None, None], [2, None, None]]"
            ]
          },
          "execution_count": 1,
          "metadata": {},
          "output_type": "execute_result"
        }
      ],
      "source": [
        "def square(n):\n",
        "    \"\"\"\n",
        "    Dato n, questa funzione restituisce una soluzione candidata costituita\n",
        "    una matrice n x n (rappresentata come n liste di n elementi), in cui \n",
        "    la prima riga e colonna corrispondono ai valori 0, …, n - 1\n",
        "    \"\"\"\n",
        "    return [list(range(n))] + [[r] + [None] * (n - 1) for r in range(1, n)]\n",
        "\n",
        "Q = square(3)\n",
        "Q"
      ]
    },
    {
      "cell_type": "code",
      "execution_count": null,
      "metadata": {},
      "outputs": [
        {
          "name": "stdout",
          "output_type": "stream",
          "text": [
            "0 1 2\n",
            "1 None None\n",
            "2 None None\n",
            "\n"
          ]
        }
      ],
      "source": [
        "def output(Q):\n",
        "    \"\"\"\n",
        "    Emette il quadrato in forma matriciale\n",
        "    \"\"\"\n",
        "    print('\\n'.join(list(map(' '.join, (list(map(str, row)) for row in Q)))), end = '\\n\\n')\n",
        "\n",
        "output(Q)"
      ]
    },
    {
      "cell_type": "code",
      "execution_count": null,
      "metadata": {},
      "outputs": [
        {
          "data": {
            "text/plain": [
              "[[0, 1, 2], [1, None, None], [2, None, None]]"
            ]
          },
          "execution_count": 3,
          "metadata": {},
          "output_type": "execute_result"
        }
      ],
      "source": [
        "def transpose(Q):\n",
        "    \"\"\"\n",
        "    Traspone il qaudrato\n",
        "    \"\"\"\n",
        "    return list(map(list, zip(*Q)))\n",
        "\n",
        "T = transpose(Q)\n",
        "T"
      ]
    },
    {
      "cell_type": "code",
      "execution_count": null,
      "metadata": {},
      "outputs": [
        {
          "data": {
            "text/plain": [
              "(True, False, True)"
            ]
          },
          "execution_count": 4,
          "metadata": {},
          "output_type": "execute_result"
        }
      ],
      "source": [
        "def can_become_perm(lst):\n",
        "    \"\"\"\n",
        "    Determina se lst può diventare una permutazione di 0, …, n - 1 sostituendo opportunamente in None con degli interi\n",
        "    \"\"\"\n",
        "    not_none = [n for n in lst if n is not None]\n",
        "    return len(not_none) == len(set(not_none))\n",
        "\n",
        "can_become_perm([0,2,1]), can_become_perm([1,1,0]), can_become_perm([0, None, 1])"
      ]
    },
    {
      "cell_type": "code",
      "execution_count": null,
      "metadata": {},
      "outputs": [
        {
          "data": {
            "text/plain": [
              "True"
            ]
          },
          "execution_count": 5,
          "metadata": {},
          "output_type": "execute_result"
        }
      ],
      "source": [
        "def can_become_latin(Q):\n",
        "    \"\"\"\n",
        "    Determina se una soluzione candidata può essere estesa ad un quadrato latino.\n",
        "    \"\"\"\n",
        "    return all(map(can_become_perm, Q)) and all(map(can_become_perm, transpose(Q)))\n",
        "\n",
        "can_become_latin([\n",
        "    [0, 1, 2, 3],\n",
        "    [1, None, 3, 2],\n",
        "    [2, 3, 0, None],\n",
        "    [3, 2, 1, 0]\n",
        "])"
      ]
    },
    {
      "cell_type": "code",
      "execution_count": null,
      "metadata": {},
      "outputs": [
        {
          "data": {
            "text/plain": [
              "(1, 1)"
            ]
          },
          "execution_count": 6,
          "metadata": {},
          "output_type": "execute_result"
        }
      ],
      "source": [
        "def find_none(Q):\n",
        "    \"\"\"\n",
        "    Restituisce la coppia r, c tale per cui il quadrato in rica r e colonna c è None, \n",
        "    oppure la coppia None, None (se il quadrato non contiene None)\n",
        "    \"\"\"\n",
        "    for i, row in enumerate(Q):\n",
        "        for j, elem in enumerate(row):\n",
        "            if elem is None: return i, j\n",
        "    return None, None\n",
        "\n",
        "find_none(Q)"
      ]
    },
    {
      "cell_type": "code",
      "execution_count": null,
      "metadata": {},
      "outputs": [
        {
          "name": "stdout",
          "output_type": "stream",
          "text": [
            "0 1 2 3\n",
            "1 0 3 2\n",
            "2 3 0 1\n",
            "3 2 1 0\n",
            "\n",
            "0 1 2 3\n",
            "1 0 3 2\n",
            "2 3 1 0\n",
            "3 2 0 1\n",
            "\n",
            "0 1 2 3\n",
            "1 2 3 0\n",
            "2 3 0 1\n",
            "3 0 1 2\n",
            "\n",
            "0 1 2 3\n",
            "1 3 0 2\n",
            "2 0 3 1\n",
            "3 2 1 0\n",
            "\n"
          ]
        }
      ],
      "source": [
        "# soluzione basata su backtracking che emette tutti i quadrati latini di lato n\n",
        "\n",
        "def latin_square(Q):\n",
        "    if not can_become_latin(Q): return\n",
        "    r, c = find_none(Q)\n",
        "    if r is None: \n",
        "        output(Q)\n",
        "        return\n",
        "    for i in range(len(Q)):\n",
        "        Q[r][c] = i\n",
        "        latin_square(Q)\n",
        "    Q[r][c] = None\n",
        "\n",
        "latin_square(square(4))"
      ]
    },
    {
      "cell_type": "markdown",
      "metadata": {},
      "source": [
        "# Da archi ad adiacenza e viceversa\n",
        "\n",
        "Anche in questo caso, sono usati costrutti non ovvi, al fine di stimolare la vostra esplorazione del linguaggio…"
      ]
    },
    {
      "cell_type": "code",
      "execution_count": null,
      "metadata": {},
      "outputs": [],
      "source": [
        "def adjacency2arcs(adjacency):\n",
        "    return tuple((s, d) for s in adjacency for d in adjacency[s])"
      ]
    },
    {
      "cell_type": "code",
      "execution_count": null,
      "metadata": {},
      "outputs": [],
      "source": [
        "from collections import defaultdict \n",
        "\n",
        "def arcs2adjacency(arcs):\n",
        "    adjacency = defaultdict(set)\n",
        "    for s, d in arcs:\n",
        "        adjacency[s] |= {d}\n",
        "        adjacency[d] |= set()\n",
        "    return dict(adjacency)"
      ]
    },
    {
      "cell_type": "code",
      "execution_count": null,
      "metadata": {},
      "outputs": [],
      "source": [
        "arcs = (\n",
        "    (1, 2), \n",
        "    (1, 4),\n",
        "    (2, 3), \n",
        "    (3, 2), \n",
        "    (3, 4), \n",
        "    (3, 5)\n",
        ")\n",
        "\n",
        "adjacency = {\n",
        "    1: {2, 4},\n",
        "    2: {3},\n",
        "    3: {2, 4, 5},\n",
        "    4: set(),\n",
        "    5: set()\n",
        "}"
      ]
    },
    {
      "cell_type": "code",
      "execution_count": null,
      "metadata": {},
      "outputs": [
        {
          "data": {
            "text/plain": [
              "True"
            ]
          },
          "execution_count": 11,
          "metadata": {},
          "output_type": "execute_result"
        }
      ],
      "source": [
        "sorted(adjacency2arcs(adjacency)) == sorted(arcs)"
      ]
    },
    {
      "cell_type": "code",
      "execution_count": null,
      "metadata": {},
      "outputs": [
        {
          "data": {
            "text/plain": [
              "True"
            ]
          },
          "execution_count": 12,
          "metadata": {},
          "output_type": "execute_result"
        }
      ],
      "source": [
        "arcs2adjacency(arcs) == adjacency"
      ]
    }
  ],
  "metadata": {
    "kernelspec": {
      "display_name": "Python 3",
      "language": "python",
      "name": "python3"
    },
    "language_info": {
      "codemirror_mode": {
        "name": "ipython",
        "version": 3
      },
      "file_extension": ".py",
      "mimetype": "text/x-python",
      "name": "python",
      "nbconvert_exporter": "python",
      "pygments_lexer": "ipython3"
    }
  },
  "nbformat": 4,
  "nbformat_minor": 4
}
