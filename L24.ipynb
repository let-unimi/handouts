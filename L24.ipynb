{
  "cells": [
    {
      "attachments": {},
      "cell_type": "markdown",
      "id": "ddd4fd3c",
      "metadata": {},
      "source": [
        "# Lezione 24\n",
        "\n",
        "L'installazione della *toolchain* LLVM (nella versione 11, come richiesta da queste note) potrebbe non essere banale; l'estensione [Visual Studio Code Dev Containers](https://code.visualstudio.com/docs/devcontainers/containers) può essere d'aiuto.\n",
        "\n",
        "Dopo averla installata create una directory di nome `.devcontainer` nella directory dove si trova questo notebook, quindi create al suo interno un file di nome `devcontainer.json` con il seguente contenuto\n",
        "\n",
        "```json\n",
        "{\n",
        "  \"name\": \"LibLet + LLVM\",\n",
        "  \"image\": \"mcr.microsoft.com/devcontainers/python:3.11-bullseye\",\n",
        "  \"features\": {\n",
        "    \"ghcr.io/devcontainers/features/java:1\": {}\n",
        "  },\n",
        "  \"postCreateCommand\": \"sh ./.devcontainer/postCreateCommand.sh\",\n",
        "  \"remoteEnv\": {\n",
        "    \"ANTLR4_JAR\": \"${containerWorkspaceFolder}/jars/antlr-4.12.0-complete.jar\",\n",
        "    \"LLVM_VERSION\": \"11\"\n",
        "  },\n",
        "  \"customizations\": {\n",
        "    \"vscode\": {\n",
        "      \"extensions\": [\n",
        "        \"ms-python.python\",\n",
        "        \"ms-python.vscode-pylance\",\n",
        "        \"ms-toolsai.jupyter\"\n",
        "      ]\n",
        "    }\n",
        "  }\n",
        "}\n",
        "```\n",
        "\n",
        "e quindi il file di nome `postCreateCommand.sh` col seguente contenuto\n",
        "\n",
        "```bash\n",
        "sudo apt update && sudo apt install -y wget lsb-release wget software-properties-common gnupg graphviz\n",
        "wget -O - https://apt.llvm.org/llvm.sh > /tmp/llvm.sh && chmod a+rx /tmp/llvm.sh && sudo /tmp/llvm.sh 11\n",
        "pip install liblet==1.6.3a1\n",
        "install_antlrjar\n",
        "```\n",
        "\n",
        "Quando aprirete l'editor nella directory di questo notebook, accettate l'offerta che vi farà di proseguire riaprendo il *workspace* nel container di sviluppo."
      ]
    },
    {
      "cell_type": "code",
      "execution_count": null,
      "id": "386bd9d6",
      "metadata": {},
      "outputs": [
        {
          "data": {
            "text/plain": [
              "'1.6.3a1'"
            ]
          },
          "execution_count": 1,
          "metadata": {},
          "output_type": "execute_result"
        }
      ],
      "source": [
        "from liblet import ANTLR, LLVM, AnnotatedTreeWalker, union_of, __version__\n",
        "\n",
        "from symboltable import SymbolTable\n",
        "\n",
        "__version__"
      ]
    },
    {
      "attachments": {},
      "cell_type": "markdown",
      "id": "a364127b",
      "metadata": {},
      "source": [
        "## Uso minimale dell'IR di LLVM"
      ]
    },
    {
      "attachments": {},
      "cell_type": "markdown",
      "id": "ee2cd88f",
      "metadata": {},
      "source": [
        "Il manuale di [riferimento del linguaggio](https://llvm.org/docs/LangRef.html) descrive gli aspetti sintattici e semantici dell'IR, in particolare può essere utile la parte sulle [istruzioni](https://llvm.org/docs/LangRef.html#instruction-reference).\n",
        "\n",
        "Nel seguito ci limiteremo alle seguenti\n",
        "\n",
        "    %ptr = alloca i32\n",
        "    store i32 %var, i32* %ptr\n",
        "    %var = load i32, i32* %ptr\n",
        "    \n",
        "    %res = add i32 %left, %right\n",
        "    %res = sub i32 %left, %right\n",
        "    %res = mul i32 %left, %right\n",
        "\n",
        "    %bool = icmp eq i32 %left, %right\n",
        "    %bool = icmp sge i32 %left, 0\n",
        "    \n",
        "    %br label %label\n",
        "    %br i1 %bool, label %true, label %false\n",
        "\n",
        "    call void @print(i32 %var)\n",
        "    %res = call i32 @input()\n",
        "    \n",
        "come esempio consideriamo il sorgente"
      ]
    },
    {
      "cell_type": "code",
      "execution_count": null,
      "id": "5b9d1532",
      "metadata": {},
      "outputs": [],
      "source": [
        "source = \"\"\"\n",
        "%v1 = call i32 @input()\n",
        "%v2 = add i32 %v1, 1\n",
        "call void @print(i32 %v2)\n",
        "\"\"\""
      ]
    },
    {
      "attachments": {},
      "cell_type": "markdown",
      "id": "72955671",
      "metadata": {},
      "source": [
        "Per poterlo compilare è necessario avvolgerlo in una funzione e definire opportunamente le funzioni `input` e `input` (in termni rispettivamente delle funzioni `scanf` e `printf` della libreria standard per il C)."
      ]
    },
    {
      "cell_type": "code",
      "execution_count": null,
      "id": "28e8048b",
      "metadata": {},
      "outputs": [],
      "source": [
        "LLVM('addone', source).write_and_compile()"
      ]
    },
    {
      "cell_type": "code",
      "execution_count": null,
      "id": "8d3e597c",
      "metadata": {},
      "outputs": [
        {
          "name": "stdout",
          "output_type": "stream",
          "text": [
            "\n",
            "; ModuleID = 'addone.ll'\n",
            "source_filename = \"addone.ll\"\n",
            "\n",
            "@.decfmt.0 = internal constant [3 x i8] c\"%d\\00\"\n",
            "@.decfmt.1 = internal constant [4 x i8] c\"%d\\0A\\00\"\n",
            "\n",
            "declare i32 @__isoc99_scanf(i8*, ...)\n",
            "declare i32 @printf(i8*, ...)\n",
            "\n",
            "define i32 @input() {\n",
            "  %.1 = alloca i32\n",
            "  %.2 = bitcast [3 x i8]* @.decfmt.0 to i8*\n",
            "  %.3 = call i32 (i8*, ...) @__isoc99_scanf(i8* %.2, i32* %.1)\n",
            "  %.4 = load i32, i32* %.1\n",
            "  ret i32 %.4\n",
            "}\n",
            "\n",
            "define void @print(i32 %0) {\n",
            "  %.1 = bitcast [4 x i8]* @.decfmt.1 to i8*\n",
            "  %.2 = call i32 (i8*, ...) @printf(i8* %.1, i32 %0)\n",
            "  ret void\n",
            "}\n",
            "\n",
            "define void @main() {\n",
            "  entry:\n",
            "\n",
            "              %v1 = call i32 @input()\n",
            "              %v2 = add i32 %v1, 1\n",
            "              call void @print(i32 %v2)\n",
            "\n",
            "  ret void\n",
            "}\n"
          ]
        }
      ],
      "source": [
        "! cat addone.ll"
      ]
    },
    {
      "attachments": {},
      "cell_type": "markdown",
      "id": "4ced36bf",
      "metadata": {},
      "source": [
        "Il codice è stato compilato con `clang`, quindi può essere posto in esecuzione come un qualunque eseguibile del sistema"
      ]
    },
    {
      "cell_type": "code",
      "execution_count": null,
      "id": "d939d0fb",
      "metadata": {},
      "outputs": [
        {
          "name": "stdout",
          "output_type": "stream",
          "text": [
            "2\n"
          ]
        }
      ],
      "source": [
        "! echo 1 | ./addone"
      ]
    },
    {
      "attachments": {},
      "cell_type": "markdown",
      "id": "e4406bce",
      "metadata": {},
      "source": [
        "## Generazione del codice\n",
        "\n",
        "Vediamo ora come generare l'IR a partire da un programma in *SimpleBlockLang*, per prima cosa recuperiamo il necessario per la generazione dell'AST"
      ]
    },
    {
      "cell_type": "code",
      "execution_count": null,
      "id": "9ecc8cc6",
      "metadata": {},
      "outputs": [],
      "source": [
        "SimpleBlockLang = ANTLR.load('SimpleBlockLang.g')\n",
        "simpleBlock2ast = AnnotatedTreeWalker.load('simpleBlock2ast.atw')\n",
        "\n",
        "def src2ast(source):\n",
        "  return simpleBlock2ast(SimpleBlockLang.tree(source, 'program'))"
      ]
    },
    {
      "attachments": {},
      "cell_type": "markdown",
      "id": "89f0072a",
      "metadata": {},
      "source": [
        "Al solito, usiamo un `AnnotatedTreeWalker` di nome `codegen` che userà alcune variabili globali:\n",
        "\n",
        "* `IR` (di tipo `LLVM`) in cui accumulerà l'IR e che userà per generare i nomi di variabili ed etichette,\n",
        "* `ST` (di tipo `SymbolTable`) in cui terrà traccia delle allocazioni di variabile,\n",
        "\n",
        "Queste variabili verranno inizializzate prima dell'invocazione di `codegen`."
      ]
    },
    {
      "cell_type": "code",
      "execution_count": null,
      "id": "2ea41348",
      "metadata": {},
      "outputs": [],
      "source": [
        "codegen = AnnotatedTreeWalker('type', AnnotatedTreeWalker.RECOURSE_CHILDREN)\n",
        "\n",
        "# saranno assegnati in seguito\n",
        "\n",
        "IR = None\n",
        "ST = None"
      ]
    },
    {
      "attachments": {},
      "cell_type": "markdown",
      "id": "8096555e",
      "metadata": {},
      "source": [
        "Prima ci occupiamo delle espressioni, che restituiscono il nome della variabile dove hanno prodotto il risultato"
      ]
    },
    {
      "cell_type": "code",
      "execution_count": null,
      "id": "3e2935d6",
      "metadata": {},
      "outputs": [],
      "source": [
        "@codegen.register\n",
        "def intExpr(visit, ast):\n",
        "  return str(ast.attr.value)\n",
        "\n",
        "@codegen.register\n",
        "def varRefExpr(visit, ast):\n",
        "  name = ast.attr.varName\n",
        "  res = IR.new_variable()\n",
        "  IR.append_code(f'{res} = load i32, i32* {ST.lookup(name)} ; {name}')\n",
        "  return res\n",
        "  \n",
        "@codegen.register\n",
        "def addSubExpr(visit, ast):\n",
        "  left, right = ast.children\n",
        "  left = visit(left)\n",
        "  right = visit(right)\n",
        "  res = IR.new_variable()\n",
        "  op = 'add' if ast.attr.op == '+' else 'sub'\n",
        "  IR.append_code(f'{res} = {op} i32 {left}, {right}')\n",
        "  return res \n",
        "\n",
        "@codegen.register\n",
        "def prodExpr(visit, ast):\n",
        "  left, right = ast.children\n",
        "  left = visit(left)\n",
        "  right = visit(right)\n",
        "  res = IR.new_variable()\n",
        "  IR.append_code(f'{res} = mul i32 {left}, {right}')\n",
        "  return res\n",
        "\n",
        "@codegen.register\n",
        "def equalityExpr(visit, ast):\n",
        "  left, right = ast.children\n",
        "  left = visit(left)\n",
        "  right = visit(right)\n",
        "  res = IR.new_variable()\n",
        "  IR.append_code(f'{res} = icmp eq i32 {left}, {right}')\n",
        "  return res"
      ]
    },
    {
      "attachments": {},
      "cell_type": "markdown",
      "id": "e365628e",
      "metadata": {},
      "source": [
        "Quindi ci occupiamo degli statement (che non restiuiscono nulla, ma alterano solo `CODE`)"
      ]
    },
    {
      "cell_type": "code",
      "execution_count": null,
      "id": "fd4b9044",
      "metadata": {},
      "outputs": [],
      "source": [
        "@codegen.register\n",
        "def assignementStat(visit, ast):\n",
        "  name = ast.attr.varName\n",
        "  expr = visit(ast.children[0])\n",
        "  IR.append_code(f'store i32 {expr}, i32* {ST.lookup(name)} ; {name}')\n",
        "\n",
        "@codegen.register\n",
        "def varDeclInitStat(visit, ast):\n",
        "  name = ast.attr.varName\n",
        "  ptr = IR.new_variable()\n",
        "  ST.bind(name, ptr)\n",
        "  expr = visit(ast.children[0])\n",
        "  IR.append_code(f\"\"\"\n",
        "    {ptr} = alloca i32 ; {name}\n",
        "    store i32 {expr}, i32* {ptr}\n",
        "  \"\"\")\n",
        "\n",
        "@codegen.register\n",
        "def repeatStat(visit, ast):\n",
        "  count, stat = ast.children\n",
        "  count = visit(count)\n",
        "  tmp = IR.new_variable()\n",
        "  repeat = IR.new_label()\n",
        "  IR.append_code(f\"\"\"\n",
        "    {tmp}.0 = alloca i32\n",
        "    store i32 {count}, i32* {tmp}.0\n",
        "    br label %{repeat}.test\n",
        "    {repeat}.test:\n",
        "    {tmp}.1 = load i32, i32* {tmp}.0\n",
        "    {tmp}.2 = sub i32 {tmp}.1, 1\n",
        "    store i32 {tmp}.2, i32* {tmp}.0\n",
        "    {tmp}.3 = icmp sge i32 {tmp}.2, 0\n",
        "    br i1 {tmp}.3, label %{repeat}.body, label %{repeat}.end\n",
        "    {repeat}.body:\n",
        "  \"\"\")\n",
        "  visit(stat)\n",
        "  IR.append_code(f\"\"\"\n",
        "    br label %{repeat}.test\n",
        "    {repeat}.end:\n",
        "  \"\"\")\n",
        "\n",
        "@codegen.register\n",
        "def ifElseStat(visit, ast):\n",
        "  cond, true, false = ast.children\n",
        "  cond = visit(cond)\n",
        "  label = IR.new_label()\n",
        "  IR.append_code(f\"\"\"\n",
        "    br i1 {cond}, label %{label}.true, label %{label}.false\n",
        "    {label}.true:\n",
        "  \"\"\")\n",
        "  visit(true)\n",
        "  IR.append_code(f\"\"\"\n",
        "    br label %{label}.end\n",
        "    {label}.false:\n",
        "  \"\"\")\n",
        "  visit(false)\n",
        "  IR.append_code(f\"\"\"\n",
        "    br label %{label}.end\n",
        "    {label}.end:\n",
        "  \"\"\")"
      ]
    },
    {
      "attachments": {},
      "cell_type": "markdown",
      "id": "342081fb",
      "metadata": {},
      "source": [
        "Prima di poter procedere con la generazione, dobbiamo raccogliere tutti i nomi di variabili legate all'I/O"
      ]
    },
    {
      "cell_type": "code",
      "execution_count": null,
      "id": "0a9a838e",
      "metadata": {},
      "outputs": [],
      "source": [
        "def search_io(ast):\n",
        "  names = union_of(search_io(child) for child in ast.children)\n",
        "  if 'varName' in ast.root:\n",
        "    name = ast.attr.varName\n",
        "    if name.startswith('INPUT') or name == 'OUTPUT': \n",
        "      names |= {name}\n",
        "  return names"
      ]
    },
    {
      "attachments": {},
      "cell_type": "markdown",
      "id": "b593387c",
      "metadata": {},
      "source": [
        "Per ciascuna di esse la funzione `allocate_and_add_input` alloca lo spazio necessario e, per quelle di input, aggiunge le chiamate alla funzione `input`; la funzione `add_print` invece aggiunge una chiamata a `print` nel caso il programa abbia prodotto outpout. "
      ]
    },
    {
      "cell_type": "code",
      "execution_count": null,
      "id": "d0c93914",
      "metadata": {},
      "outputs": [],
      "source": [
        "def allocate_and_add_input(io_vars):\n",
        "  for name in io_vars:\n",
        "    ptr = IR.new_variable()\n",
        "    ST.bind(name, ptr)\n",
        "    IR.append_code(f'{ptr} = alloca i32 ; {name}')\n",
        "    if name.startswith('INPUT'):\n",
        "      tmp = IR.new_variable()\n",
        "      IR.append_code(f\"\"\"\n",
        "        {tmp} = call i32 @input()\n",
        "        store i32 {tmp}, i32* {ptr} ; {name}\n",
        "      \"\"\")\n",
        "\n",
        "def add_print(io_vars):\n",
        "  if 'OUTPUT' in io_vars:\n",
        "    tmp = IR.new_variable()\n",
        "    IR.append_code(f\"\"\"\n",
        "      {tmp} = load i32, i32* {ST.lookup(\"OUTPUT\")}\n",
        "      call void @print(i32 {tmp})\n",
        "    \"\"\")            "
      ]
    },
    {
      "attachments": {},
      "cell_type": "markdown",
      "id": "aec3c654",
      "metadata": {},
      "source": [
        "Usiamo un programma che calcola il fattoriale dell'input, o restituisce -1 se l'input è pari a 0."
      ]
    },
    {
      "cell_type": "code",
      "execution_count": null,
      "id": "224e191b",
      "metadata": {},
      "outputs": [],
      "source": [
        "fact = \"\"\"\n",
        "if INPUT0 == 0 then\n",
        "  OUTPUT = 0 - 1;\n",
        "else {\n",
        "  var n = 0;\n",
        "  var fact = 1;    \n",
        "  repeat INPUT0 times {\n",
        "    n = n + 1;\n",
        "    fact = fact * n;\n",
        "  }\n",
        "  OUTPUT = fact;\n",
        "}\n",
        "\"\"\""
      ]
    },
    {
      "attachments": {},
      "cell_type": "markdown",
      "id": "cd8a1cff",
      "metadata": {},
      "source": [
        "Facciamo i vari passi in ordine"
      ]
    },
    {
      "cell_type": "code",
      "execution_count": null,
      "id": "5cb973d2",
      "metadata": {},
      "outputs": [],
      "source": [
        "ast = src2ast(fact)"
      ]
    },
    {
      "cell_type": "code",
      "execution_count": null,
      "id": "74ecf6f4",
      "metadata": {},
      "outputs": [],
      "source": [
        "IR = LLVM('fact')\n",
        "ST = SymbolTable()"
      ]
    },
    {
      "cell_type": "code",
      "execution_count": null,
      "id": "16f40703",
      "metadata": {},
      "outputs": [],
      "source": [
        "io_vars = search_io(ast)\n",
        "allocate_and_add_input(io_vars)\n",
        "codegen(ast)\n",
        "add_print(io_vars)"
      ]
    },
    {
      "cell_type": "code",
      "execution_count": null,
      "id": "0ecfcf5b",
      "metadata": {},
      "outputs": [
        {
          "name": "stdout",
          "output_type": "stream",
          "text": [
            "%v0 = alloca i32 ; INPUT0\n",
            "%v1 = call i32 @input()\n",
            "store i32 %v1, i32* %v0 ; INPUT0\n",
            "%v2 = alloca i32 ; OUTPUT\n",
            "%v3 = load i32, i32* %v0 ; INPUT0\n",
            "%v4 = icmp eq i32 %v3, 0\n",
            "br i1 %v4, label %l0.true, label %l0.false\n",
            "l0.true:\n",
            "%v5 = sub i32 0, 1\n",
            "store i32 %v5, i32* %v2 ; OUTPUT\n",
            "br label %l0.end\n",
            "l0.false:\n",
            "%v6 = alloca i32 ; n\n",
            "store i32 0, i32* %v6\n",
            "%v7 = alloca i32 ; fact\n",
            "store i32 1, i32* %v7\n",
            "%v8 = load i32, i32* %v0 ; INPUT0\n",
            "%v9.0 = alloca i32\n",
            "store i32 %v8, i32* %v9.0\n",
            "br label %l1.test\n",
            "l1.test:\n",
            "%v9.1 = load i32, i32* %v9.0\n",
            "%v9.2 = sub i32 %v9.1, 1\n",
            "store i32 %v9.2, i32* %v9.0\n",
            "%v9.3 = icmp sge i32 %v9.2, 0\n",
            "br i1 %v9.3, label %l1.body, label %l1.end\n",
            "l1.body:\n",
            "%v10 = load i32, i32* %v6 ; n\n",
            "%v11 = add i32 %v10, 1\n",
            "store i32 %v11, i32* %v6 ; n\n",
            "%v12 = load i32, i32* %v7 ; fact\n",
            "%v13 = load i32, i32* %v6 ; n\n",
            "%v14 = mul i32 %v12, %v13\n",
            "store i32 %v14, i32* %v7 ; fact\n",
            "br label %l1.test\n",
            "l1.end:\n",
            "%v15 = load i32, i32* %v7 ; fact\n",
            "store i32 %v15, i32* %v2 ; OUTPUT\n",
            "br label %l0.end\n",
            "l0.end:\n",
            "%v16 = load i32, i32* %v2\n",
            "call void @print(i32 %v16)\n"
          ]
        }
      ],
      "source": [
        "IR.print_code()"
      ]
    },
    {
      "cell_type": "code",
      "execution_count": null,
      "id": "126afcb6",
      "metadata": {},
      "outputs": [],
      "source": [
        "IR.write_and_compile()"
      ]
    },
    {
      "cell_type": "code",
      "execution_count": null,
      "id": "d0963543",
      "metadata": {},
      "outputs": [
        {
          "name": "stdout",
          "output_type": "stream",
          "text": [
            "720\n"
          ]
        }
      ],
      "source": [
        "! echo 6 | ./fact"
      ]
    },
    {
      "attachments": {},
      "cell_type": "markdown",
      "id": "a1dc1d47",
      "metadata": {},
      "source": [
        "## Una \"ottimizzazione\""
      ]
    },
    {
      "cell_type": "code",
      "execution_count": null,
      "id": "2d09ecd7",
      "metadata": {},
      "outputs": [],
      "source": [
        "nested = \"\"\"\n",
        "var n = 0;\n",
        "repeat 3 times {\n",
        "  repeat 2 times {\n",
        "    n = n + 1;\n",
        "  }\n",
        "}\n",
        "OUTPUT = n;\n",
        "\"\"\""
      ]
    },
    {
      "cell_type": "code",
      "execution_count": null,
      "id": "3becb462",
      "metadata": {},
      "outputs": [
        {
          "name": "stdout",
          "output_type": "stream",
          "text": [
            "%v0 = alloca i32 ; OUTPUT\n",
            "%v1 = alloca i32 ; n\n",
            "store i32 0, i32* %v1\n",
            "%v2.0 = alloca i32\n",
            "store i32 3, i32* %v2.0\n",
            "br label %l0.test\n",
            "l0.test:\n",
            "%v2.1 = load i32, i32* %v2.0\n",
            "%v2.2 = sub i32 %v2.1, 1\n",
            "store i32 %v2.2, i32* %v2.0\n",
            "%v2.3 = icmp sge i32 %v2.2, 0\n",
            "br i1 %v2.3, label %l0.body, label %l0.end\n",
            "l0.body:\n",
            "%v3.0 = alloca i32\n",
            "store i32 2, i32* %v3.0\n",
            "br label %l1.test\n",
            "l1.test:\n",
            "%v3.1 = load i32, i32* %v3.0\n",
            "%v3.2 = sub i32 %v3.1, 1\n",
            "store i32 %v3.2, i32* %v3.0\n",
            "%v3.3 = icmp sge i32 %v3.2, 0\n",
            "br i1 %v3.3, label %l1.body, label %l1.end\n",
            "l1.body:\n",
            "%v4 = load i32, i32* %v1 ; n\n",
            "%v5 = add i32 %v4, 1\n",
            "store i32 %v5, i32* %v1 ; n\n",
            "br label %l1.test\n",
            "l1.end:\n",
            "br label %l0.test\n",
            "l0.end:\n",
            "%v6 = load i32, i32* %v1 ; n\n",
            "store i32 %v6, i32* %v0 ; OUTPUT\n",
            "%v7 = load i32, i32* %v0\n",
            "call void @print(i32 %v7)\n"
          ]
        }
      ],
      "source": [
        "ast = src2ast(nested)\n",
        "IR = LLVM('nested')\n",
        "ST = SymbolTable()\n",
        "io_vars = search_io(ast)\n",
        "allocate_and_add_input(io_vars)\n",
        "codegen(ast)\n",
        "add_print(io_vars)\n",
        "IR.print_code()"
      ]
    },
    {
      "attachments": {},
      "cell_type": "markdown",
      "id": "e6853ef0",
      "metadata": {},
      "source": [
        "C'è una allocazione dentro al ciclo! Spostiamole tutte all'inizio…"
      ]
    },
    {
      "cell_type": "code",
      "execution_count": null,
      "id": "bf389748",
      "metadata": {},
      "outputs": [
        {
          "data": {
            "text/plain": [
              "['%v0 = alloca i32 ; OUTPUT',\n",
              " '%v1 = alloca i32 ; n',\n",
              " '%v2.0 = alloca i32',\n",
              " '%v3.0 = alloca i32']"
            ]
          },
          "execution_count": 21,
          "metadata": {},
          "output_type": "execute_result"
        }
      ],
      "source": [
        "alloc = []\n",
        "other = []\n",
        "for istr in IR.code:\n",
        "  (alloc if 'alloc' in istr else other).append(istr)\n",
        "\n",
        "alloc"
      ]
    },
    {
      "cell_type": "code",
      "execution_count": null,
      "id": "ce69436a",
      "metadata": {},
      "outputs": [],
      "source": [
        "IR.code = alloc + other"
      ]
    },
    {
      "cell_type": "code",
      "execution_count": null,
      "id": "d1532e24",
      "metadata": {},
      "outputs": [],
      "source": [
        "IR.write_and_compile()"
      ]
    },
    {
      "cell_type": "code",
      "execution_count": null,
      "id": "4e87a22b",
      "metadata": {},
      "outputs": [
        {
          "name": "stdout",
          "output_type": "stream",
          "text": [
            "6\n"
          ]
        }
      ],
      "source": [
        "! ./nested"
      ]
    },
    {
      "attachments": {},
      "cell_type": "markdown",
      "id": "6ae2ba94",
      "metadata": {},
      "source": [
        "## Analisi e ottimizzazione\n",
        "\n",
        "Il comando [opt](https://llvm.org/docs/CommandGuide/opt.html) consente di effettuare diversi passi di [analisi](https://llvm.org/docs/Passes.html#analysis-passes) e di [trasformazione](https://llvm.org/docs/Passes.html#transform-passes).\n",
        "\n",
        "Le funzioni `control_flow_graph` e `mem2reg`, usando il comando `opt` con opportuni paramentri, producono rispettivamente il *control flow graph* e una ottimizzazione che sposta (quanto più possibile) dalla memoria ai registri le varabiili locali."
      ]
    },
    {
      "cell_type": "code",
      "execution_count": null,
      "id": "d73ad524",
      "metadata": {},
      "outputs": [
        {
          "name": "stderr",
          "output_type": "stream",
          "text": [
            "Writing '.input.dot'...\n",
            "Writing '.print.dot'...\n",
            "Writing '.main.dot'...\n"
          ]
        },
        {
          "data": {
            "image/svg+xml": [
              "<?xml version=\"1.0\" encoding=\"UTF-8\" standalone=\"no\"?>\n",
              "<!DOCTYPE svg PUBLIC \"-//W3C//DTD SVG 1.1//EN\"\n",
              " \"http://www.w3.org/Graphics/SVG/1.1/DTD/svg11.dtd\">\n",
              "<!-- Generated by graphviz version 2.43.0 (0)\n",
              " -->\n",
              "<!-- Title: CFG for &#39;main&#39; function Pages: 1 -->\n",
              "<svg width=\"698pt\" height=\"731pt\"\n",
              " viewBox=\"0.00 0.00 698.00 731.00\" xmlns=\"http://www.w3.org/2000/svg\" xmlns:xlink=\"http://www.w3.org/1999/xlink\">\n",
              "<g id=\"graph0\" class=\"graph\" transform=\"scale(1 1) rotate(0) translate(4 727)\">\n",
              "<title>CFG for &#39;main&#39; function</title>\n",
              "<polygon fill=\"white\" stroke=\"transparent\" points=\"-4,4 -4,-727 694,-727 694,4 -4,4\"/>\n",
              "<text text-anchor=\"middle\" x=\"345\" y=\"-7.8\" font-family=\"Times,serif\" font-size=\"14.00\">CFG for &#39;main&#39; function</text>\n",
              "<!-- Node0xa011c0 -->\n",
              "<g id=\"node1\" class=\"node\">\n",
              "<title>Node0xa011c0</title>\n",
              "<polygon fill=\"#88abfd\" fill-opacity=\"0.439216\" stroke=\"#3d50c3\" points=\"279,-594.5 279,-722.5 522,-722.5 522,-594.5 279,-594.5\"/>\n",
              "<text text-anchor=\"start\" x=\"287\" y=\"-707.3\" font-family=\"Times,serif\" font-size=\"14.00\">entry:</text>\n",
              "<text text-anchor=\"start\" x=\"287\" y=\"-692.3\" font-family=\"Times,serif\" font-size=\"14.00\"> %v0 = alloca i32, align 4</text>\n",
              "<text text-anchor=\"start\" x=\"287\" y=\"-677.3\" font-family=\"Times,serif\" font-size=\"14.00\"> %v1 = alloca i32, align 4</text>\n",
              "<text text-anchor=\"start\" x=\"287\" y=\"-662.3\" font-family=\"Times,serif\" font-size=\"14.00\"> %v2.0 = alloca i32, align 4</text>\n",
              "<text text-anchor=\"start\" x=\"287\" y=\"-647.3\" font-family=\"Times,serif\" font-size=\"14.00\"> %v3.0 = alloca i32, align 4</text>\n",
              "<text text-anchor=\"start\" x=\"287\" y=\"-632.3\" font-family=\"Times,serif\" font-size=\"14.00\"> store i32 0, i32* %v1, align 4</text>\n",
              "<text text-anchor=\"start\" x=\"287\" y=\"-617.3\" font-family=\"Times,serif\" font-size=\"14.00\"> store i32 3, i32* %v2.0, align 4</text>\n",
              "<text text-anchor=\"start\" x=\"287\" y=\"-602.3\" font-family=\"Times,serif\" font-size=\"14.00\"> br label %l0.test</text>\n",
              "</g>\n",
              "<!-- Node0xa01610 -->\n",
              "<g id=\"node2\" class=\"node\">\n",
              "<title>Node0xa01610</title>\n",
              "<polygon fill=\"#f3c7b1\" fill-opacity=\"0.439216\" stroke=\"#3d50c3\" points=\"240,-436.5 240,-557.5 561,-557.5 561,-436.5 240,-436.5\"/>\n",
              "<text text-anchor=\"start\" x=\"248\" y=\"-542.3\" font-family=\"Times,serif\" font-size=\"14.00\">l0.test: </text>\n",
              "<text text-anchor=\"start\" x=\"248\" y=\"-527.3\" font-family=\"Times,serif\" font-size=\"14.00\"> %v2.1 = load i32, i32* %v2.0, align 4</text>\n",
              "<text text-anchor=\"start\" x=\"248\" y=\"-512.3\" font-family=\"Times,serif\" font-size=\"14.00\"> %v2.2 = sub i32 %v2.1, 1</text>\n",
              "<text text-anchor=\"start\" x=\"248\" y=\"-497.3\" font-family=\"Times,serif\" font-size=\"14.00\"> store i32 %v2.2, i32* %v2.0, align 4</text>\n",
              "<text text-anchor=\"start\" x=\"248\" y=\"-482.3\" font-family=\"Times,serif\" font-size=\"14.00\"> %v2.3 = icmp sge i32 %v2.2, 0</text>\n",
              "<text text-anchor=\"start\" x=\"248\" y=\"-467.3\" font-family=\"Times,serif\" font-size=\"14.00\"> br i1 %v2.3, label %l0.body, label %l0.end</text>\n",
              "<polyline fill=\"none\" stroke=\"#3d50c3\" points=\"240,-459.5 561,-459.5 \"/>\n",
              "<text text-anchor=\"middle\" x=\"320\" y=\"-444.3\" font-family=\"Times,serif\" font-size=\"14.00\">T</text>\n",
              "<polyline fill=\"none\" stroke=\"#3d50c3\" points=\"400,-436.5 400,-459.5 \"/>\n",
              "<text text-anchor=\"middle\" x=\"480.5\" y=\"-444.3\" font-family=\"Times,serif\" font-size=\"14.00\">F</text>\n",
              "</g>\n",
              "<!-- Node0xa011c0&#45;&gt;Node0xa01610 -->\n",
              "<g id=\"edge1\" class=\"edge\">\n",
              "<title>Node0xa011c0&#45;&gt;Node0xa01610</title>\n",
              "<path fill=\"none\" stroke=\"black\" d=\"M400.5,-594.46C400.5,-585.76 400.5,-576.78 400.5,-567.97\"/>\n",
              "<polygon fill=\"black\" stroke=\"black\" points=\"404,-567.72 400.5,-557.72 397,-567.72 404,-567.72\"/>\n",
              "</g>\n",
              "<!-- Node0xa01970 -->\n",
              "<g id=\"node3\" class=\"node\">\n",
              "<title>Node0xa01970</title>\n",
              "<polygon fill=\"#f3c7b1\" fill-opacity=\"0.439216\" stroke=\"#3d50c3\" points=\"110,-324 110,-377 353,-377 353,-324 110,-324\"/>\n",
              "<text text-anchor=\"start\" x=\"118\" y=\"-361.8\" font-family=\"Times,serif\" font-size=\"14.00\">l0.body: </text>\n",
              "<text text-anchor=\"start\" x=\"118\" y=\"-346.8\" font-family=\"Times,serif\" font-size=\"14.00\"> store i32 2, i32* %v3.0, align 4</text>\n",
              "<text text-anchor=\"start\" x=\"118\" y=\"-331.8\" font-family=\"Times,serif\" font-size=\"14.00\"> br label %l1.test</text>\n",
              "</g>\n",
              "<!-- Node0xa01610&#45;&gt;Node0xa01970 -->\n",
              "<g id=\"edge2\" class=\"edge\">\n",
              "<title>Node0xa01610:s0&#45;&gt;Node0xa01970</title>\n",
              "<path fill=\"none\" stroke=\"black\" d=\"M238.5,-448C213.14,-448 215.26,-414.44 221.26,-386.91\"/>\n",
              "<polygon fill=\"black\" stroke=\"black\" points=\"224.68,-387.65 223.61,-377.11 217.87,-386.02 224.68,-387.65\"/>\n",
              "</g>\n",
              "<!-- Node0xa019e0 -->\n",
              "<g id=\"node4\" class=\"node\">\n",
              "<title>Node0xa019e0</title>\n",
              "<polygon fill=\"#88abfd\" fill-opacity=\"0.439216\" stroke=\"#3d50c3\" points=\"429,-301.5 429,-399.5 690,-399.5 690,-301.5 429,-301.5\"/>\n",
              "<text text-anchor=\"start\" x=\"437\" y=\"-384.3\" font-family=\"Times,serif\" font-size=\"14.00\">l0.end: </text>\n",
              "<text text-anchor=\"start\" x=\"437\" y=\"-369.3\" font-family=\"Times,serif\" font-size=\"14.00\"> %v6 = load i32, i32* %v1, align 4</text>\n",
              "<text text-anchor=\"start\" x=\"437\" y=\"-354.3\" font-family=\"Times,serif\" font-size=\"14.00\"> store i32 %v6, i32* %v0, align 4</text>\n",
              "<text text-anchor=\"start\" x=\"437\" y=\"-339.3\" font-family=\"Times,serif\" font-size=\"14.00\"> %v7 = load i32, i32* %v0, align 4</text>\n",
              "<text text-anchor=\"start\" x=\"437\" y=\"-324.3\" font-family=\"Times,serif\" font-size=\"14.00\"> call void @print(i32 %v7)</text>\n",
              "<text text-anchor=\"start\" x=\"437\" y=\"-309.3\" font-family=\"Times,serif\" font-size=\"14.00\"> ret void</text>\n",
              "</g>\n",
              "<!-- Node0xa01610&#45;&gt;Node0xa019e0 -->\n",
              "<g id=\"edge3\" class=\"edge\">\n",
              "<title>Node0xa01610:s1&#45;&gt;Node0xa019e0</title>\n",
              "<path fill=\"none\" stroke=\"black\" d=\"M562.5,-448C581.02,-448 582.99,-430.02 579.25,-409.58\"/>\n",
              "<polygon fill=\"black\" stroke=\"black\" points=\"582.66,-408.76 577.09,-399.75 575.82,-410.27 582.66,-408.76\"/>\n",
              "</g>\n",
              "<!-- Node0xa01c20 -->\n",
              "<g id=\"node5\" class=\"node\">\n",
              "<title>Node0xa01c20</title>\n",
              "<polygon fill=\"#b70d28\" fill-opacity=\"0.439216\" stroke=\"#b70d28\" points=\"51,-143.5 51,-264.5 372,-264.5 372,-143.5 51,-143.5\"/>\n",
              "<text text-anchor=\"start\" x=\"59\" y=\"-249.3\" font-family=\"Times,serif\" font-size=\"14.00\">l1.test: </text>\n",
              "<text text-anchor=\"start\" x=\"59\" y=\"-234.3\" font-family=\"Times,serif\" font-size=\"14.00\"> %v3.1 = load i32, i32* %v3.0, align 4</text>\n",
              "<text text-anchor=\"start\" x=\"59\" y=\"-219.3\" font-family=\"Times,serif\" font-size=\"14.00\"> %v3.2 = sub i32 %v3.1, 1</text>\n",
              "<text text-anchor=\"start\" x=\"59\" y=\"-204.3\" font-family=\"Times,serif\" font-size=\"14.00\"> store i32 %v3.2, i32* %v3.0, align 4</text>\n",
              "<text text-anchor=\"start\" x=\"59\" y=\"-189.3\" font-family=\"Times,serif\" font-size=\"14.00\"> %v3.3 = icmp sge i32 %v3.2, 0</text>\n",
              "<text text-anchor=\"start\" x=\"59\" y=\"-174.3\" font-family=\"Times,serif\" font-size=\"14.00\"> br i1 %v3.3, label %l1.body, label %l1.end</text>\n",
              "<polyline fill=\"none\" stroke=\"#b70d28\" points=\"51,-166.5 372,-166.5 \"/>\n",
              "<text text-anchor=\"middle\" x=\"131\" y=\"-151.3\" font-family=\"Times,serif\" font-size=\"14.00\">T</text>\n",
              "<polyline fill=\"none\" stroke=\"#b70d28\" points=\"211,-143.5 211,-166.5 \"/>\n",
              "<text text-anchor=\"middle\" x=\"291.5\" y=\"-151.3\" font-family=\"Times,serif\" font-size=\"14.00\">F</text>\n",
              "</g>\n",
              "<!-- Node0xa01970&#45;&gt;Node0xa01c20 -->\n",
              "<g id=\"edge4\" class=\"edge\">\n",
              "<title>Node0xa01970&#45;&gt;Node0xa01c20</title>\n",
              "<path fill=\"none\" stroke=\"black\" d=\"M227.97,-324C226.07,-310.25 223.62,-292.54 221.19,-275.01\"/>\n",
              "<polygon fill=\"black\" stroke=\"black\" points=\"224.61,-274.17 219.77,-264.74 217.67,-275.13 224.61,-274.17\"/>\n",
              "</g>\n",
              "<!-- Node0xa02120 -->\n",
              "<g id=\"node6\" class=\"node\">\n",
              "<title>Node0xa02120</title>\n",
              "<polygon fill=\"#b70d28\" fill-opacity=\"0.439216\" stroke=\"#b70d28\" points=\"0,-23.5 0,-106.5 261,-106.5 261,-23.5 0,-23.5\"/>\n",
              "<text text-anchor=\"start\" x=\"8\" y=\"-91.3\" font-family=\"Times,serif\" font-size=\"14.00\">l1.body: </text>\n",
              "<text text-anchor=\"start\" x=\"8\" y=\"-76.3\" font-family=\"Times,serif\" font-size=\"14.00\"> %v4 = load i32, i32* %v1, align 4</text>\n",
              "<text text-anchor=\"start\" x=\"8\" y=\"-61.3\" font-family=\"Times,serif\" font-size=\"14.00\"> %v5 = add i32 %v4, 1</text>\n",
              "<text text-anchor=\"start\" x=\"8\" y=\"-46.3\" font-family=\"Times,serif\" font-size=\"14.00\"> store i32 %v5, i32* %v1, align 4</text>\n",
              "<text text-anchor=\"start\" x=\"8\" y=\"-31.3\" font-family=\"Times,serif\" font-size=\"14.00\"> br label %l1.test</text>\n",
              "</g>\n",
              "<!-- Node0xa01c20&#45;&gt;Node0xa02120 -->\n",
              "<g id=\"edge5\" class=\"edge\">\n",
              "<title>Node0xa01c20:s0&#45;&gt;Node0xa02120</title>\n",
              "<path fill=\"none\" stroke=\"black\" d=\"M130.5,-143C128.28,-134.54 126.6,-125.57 125.48,-116.84\"/>\n",
              "<polygon fill=\"black\" stroke=\"black\" points=\"128.94,-116.34 124.41,-106.76 121.98,-117.07 128.94,-116.34\"/>\n",
              "</g>\n",
              "<!-- Node0xa02190 -->\n",
              "<g id=\"node7\" class=\"node\">\n",
              "<title>Node0xa02190</title>\n",
              "<polygon fill=\"#f3c7b1\" fill-opacity=\"0.439216\" stroke=\"#3d50c3\" points=\"304.5,-46 304.5,-84 444.5,-84 444.5,-46 304.5,-46\"/>\n",
              "<text text-anchor=\"start\" x=\"312.5\" y=\"-68.8\" font-family=\"Times,serif\" font-size=\"14.00\">l1.end: </text>\n",
              "<text text-anchor=\"start\" x=\"312.5\" y=\"-53.8\" font-family=\"Times,serif\" font-size=\"14.00\"> br label %l0.test</text>\n",
              "</g>\n",
              "<!-- Node0xa01c20&#45;&gt;Node0xa02190 -->\n",
              "<g id=\"edge6\" class=\"edge\">\n",
              "<title>Node0xa01c20:s1&#45;&gt;Node0xa02190</title>\n",
              "<path fill=\"none\" stroke=\"black\" d=\"M373.5,-155C385.86,-155 383.16,-120.25 379.4,-94.18\"/>\n",
              "<polygon fill=\"black\" stroke=\"black\" points=\"382.82,-93.35 377.82,-84.01 375.9,-94.43 382.82,-93.35\"/>\n",
              "</g>\n",
              "<!-- Node0xa02120&#45;&gt;Node0xa01c20 -->\n",
              "<g id=\"edge7\" class=\"edge\">\n",
              "<title>Node0xa02120&#45;&gt;Node0xa01c20</title>\n",
              "<path fill=\"none\" stroke=\"black\" d=\"M136.58,-106.9C135.89,-115.18 134.67,-124.01 132.91,-132.62\"/>\n",
              "<polygon fill=\"black\" stroke=\"black\" points=\"129.45,-132.07 130.61,-142.6 136.27,-133.64 129.45,-132.07\"/>\n",
              "</g>\n",
              "<!-- Node0xa02190&#45;&gt;Node0xa01610 -->\n",
              "<g id=\"edge8\" class=\"edge\">\n",
              "<title>Node0xa02190&#45;&gt;Node0xa01610</title>\n",
              "<path fill=\"none\" stroke=\"black\" d=\"M376.01,-84.04C377.3,-99.64 379.14,-122.8 380.5,-143 387.11,-241.21 393.29,-354.9 396.98,-426.13\"/>\n",
              "<polygon fill=\"black\" stroke=\"black\" points=\"393.49,-426.52 397.51,-436.33 400.48,-426.16 393.49,-426.52\"/>\n",
              "</g>\n",
              "</g>\n",
              "</svg>\n"
            ],
            "text/plain": [
              "<graphviz.sources.Source at 0x7f990566a5d0>"
            ]
          },
          "execution_count": 25,
          "metadata": {},
          "output_type": "execute_result"
        }
      ],
      "source": [
        "IR.control_flow_graph()"
      ]
    },
    {
      "cell_type": "code",
      "execution_count": null,
      "id": "7422e23d",
      "metadata": {},
      "outputs": [
        {
          "name": "stdout",
          "output_type": "stream",
          "text": [
            "; ModuleID = 'nested.ll'\n",
            "source_filename = \"nested.ll\"\n",
            "\n",
            "@.decfmt.0 = internal constant [3 x i8] c\"%d\\00\"\n",
            "@.decfmt.1 = internal constant [4 x i8] c\"%d\\0A\\00\"\n",
            "\n",
            "declare i32 @__isoc99_scanf(i8*, ...)\n",
            "\n",
            "declare i32 @printf(i8*, ...)\n",
            "\n",
            "define i32 @input() {\n",
            "  %.1 = alloca i32, align 4\n",
            "  %.2 = bitcast [3 x i8]* @.decfmt.0 to i8*\n",
            "  %.3 = call i32 (i8*, ...) @__isoc99_scanf(i8* %.2, i32* %.1)\n",
            "  %.4 = load i32, i32* %.1, align 4\n",
            "  ret i32 %.4\n",
            "}\n",
            "\n",
            "define void @print(i32 %0) {\n",
            "  %.1 = bitcast [4 x i8]* @.decfmt.1 to i8*\n",
            "  %.2 = call i32 (i8*, ...) @printf(i8* %.1, i32 %0)\n",
            "  ret void\n",
            "}\n",
            "\n",
            "define void @main() {\n",
            "entry:\n",
            "  br label %l0.test\n",
            "\n",
            "l0.test:                                          ; preds = %l1.end, %entry\n",
            "  %v2.0.0 = phi i32 [ 3, %entry ], [ %v2.2, %l1.end ]\n",
            "  %v1.0 = phi i32 [ 0, %entry ], [ %v1.1, %l1.end ]\n",
            "  %v2.2 = sub i32 %v2.0.0, 1\n",
            "  %v2.3 = icmp sge i32 %v2.2, 0\n",
            "  br i1 %v2.3, label %l0.body, label %l0.end\n",
            "\n",
            "l0.body:                                          ; preds = %l0.test\n",
            "  br label %l1.test\n",
            "\n",
            "l1.test:                                          ; preds = %l1.body, %l0.body\n",
            "  %v1.1 = phi i32 [ %v1.0, %l0.body ], [ %v5, %l1.body ]\n",
            "  %v3.0.0 = phi i32 [ 2, %l0.body ], [ %v3.2, %l1.body ]\n",
            "  %v3.2 = sub i32 %v3.0.0, 1\n",
            "  %v3.3 = icmp sge i32 %v3.2, 0\n",
            "  br i1 %v3.3, label %l1.body, label %l1.end\n",
            "\n",
            "l1.body:                                          ; preds = %l1.test\n",
            "  %v5 = add i32 %v1.1, 1\n",
            "  br label %l1.test\n",
            "\n",
            "l1.end:                                           ; preds = %l1.test\n",
            "  br label %l0.test\n",
            "\n",
            "l0.end:                                           ; preds = %l0.test\n",
            "  call void @print(i32 %v1.0)\n",
            "  ret void\n",
            "}\n",
            "\n"
          ]
        }
      ],
      "source": [
        "print(IR.mem2reg())"
      ]
    },
    {
      "attachments": {},
      "cell_type": "markdown",
      "id": "33ac1a62",
      "metadata": {},
      "source": [
        "## Documentazione e tutorial\n",
        "\n",
        "Per i più curiosi di appronfondire LLVM e l'IR, un po' di siti interessanti sono:\n",
        "\n",
        "* [A Complete Guide to LLVM for Programming Language Creators](https://mukulrathi.co.uk/create-your-own-programming-language/llvm-ir-cpp-api-tutorial/) contenete una introduzione molto completa, anche se orientata alle API in CPP di LLVM;\n",
        "\n",
        "* La guida [Mapping High Level Constructs to LLVM IR](https://mapping-high-level-constructs-to-llvm-ir.readthedocs.io/) che contiene esempi su come tradurre costrutti di alto livello nell'IR;\n",
        "\n",
        "* L'articolo [Writing your own programming language and compiler with Python](https://blog.usejournal.com/writing-your-own-programming-language-and-compiler-with-python-a468970ae6df) che descrive lo sviluppo di un linguaggio di programmazione (a partire dal *lexer* e dal *parser*) usando apposite librerie Python per il parsing e la generazione dell'IR), è disponibile anche il [codice sorgente](https://github.com/marcelogdeandrade/PythonCompiler).\n",
        "\n",
        "* Un esempio analogo è la [versione Python](https://github.com/symhom/Kaleidoscope_Compiler) dello sviluppo del linguaggio *Kaleidoscope* descritto nel [LLVM Tutorial](https://llvm.org/docs/tutorial/); sono utili in particolare gli [esempi](https://github.com/symhom/Kaleidoscope_Compiler/tree/master/short_llvmlite_examples) di traduzione di alcuni costrutti di alto livello in IR:\n",
        "\n",
        "* Per finire, l'articolo [LLVM for Grad Students](https://www.cs.cornell.edu/~asampson/blog/llvm.html) illustra la rilevanza di LLVM più che rispetto allo sviluppo di nuovi linguaggi, all'analisi e agli aspetti di ottimizzazione.\n"
      ]
    }
  ],
  "metadata": {
    "interpreter": {
      "hash": "949777d72b0d2535278d3dc13498b2535136f6dfe0678499012e853ee9abcab1"
    },
    "kernelspec": {
      "display_name": "Python 3.10.4 64-bit",
      "language": "python",
      "name": "python3"
    },
    "language_info": {
      "codemirror_mode": {
        "name": "ipython",
        "version": 3
      },
      "file_extension": ".py",
      "mimetype": "text/x-python",
      "name": "python",
      "nbconvert_exporter": "python",
      "pygments_lexer": "ipython3"
    }
  },
  "nbformat": 4,
  "nbformat_minor": 5
}
