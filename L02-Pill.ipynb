{
  "cells": [
    {
      "cell_type": "markdown",
      "metadata": {},
      "source": [
        "# Ancora sugli Iterabili\n",
        "\n",
        "L'uso di `iter` e `next`."
      ]
    },
    {
      "cell_type": "code",
      "execution_count": null,
      "metadata": {},
      "outputs": [
        {
          "name": "stdout",
          "output_type": "stream",
          "text": [
            "ma-mma"
          ]
        }
      ],
      "source": [
        "iter_mamma = iter('mamma')\n",
        "\n",
        "for ch in iter_mamma: \n",
        "    print(ch, end = '')\n",
        "    if ch == 'a': break\n",
        "\n",
        "print('-', end = '')\n",
        "\n",
        "for ch in iter_mamma: \n",
        "    print(ch, end = '')"
      ]
    },
    {
      "cell_type": "code",
      "execution_count": null,
      "metadata": {},
      "outputs": [
        {
          "name": "stdout",
          "output_type": "stream",
          "text": [
            "come\n",
            "stai\n",
            "bello\n"
          ]
        }
      ],
      "source": [
        "parole = iter('come stai bello'.split()) \n",
        "while True:\n",
        "    parola = next(parole, None)\n",
        "    if parola is None: break\n",
        "    print(parola)"
      ]
    },
    {
      "cell_type": "markdown",
      "metadata": {},
      "source": [
        "# Memoizzazione\n",
        "\n",
        "Uso dei decoratori per implementare la [memoizzazione](https://en.wikipedia.org/wiki/Memoization)."
      ]
    },
    {
      "cell_type": "code",
      "execution_count": null,
      "metadata": {},
      "outputs": [
        {
          "name": "stdout",
          "output_type": "stream",
          "text": [
            "CPU times: user 1.07 s, sys: 2.49 ms, total: 1.08 s\n",
            "Wall time: 1.08 s\n"
          ]
        },
        {
          "data": {
            "text/plain": [
              "3524578"
            ]
          },
          "execution_count": 3,
          "metadata": {},
          "output_type": "execute_result"
        }
      ],
      "source": [
        "def fib(n):\n",
        "    if n == 0 or n == 1: return 1\n",
        "    return fib(n - 2) + fib(n - 1)\n",
        "\n",
        "N = 32\n",
        "\n",
        "%time fib(N)"
      ]
    },
    {
      "cell_type": "code",
      "execution_count": null,
      "metadata": {},
      "outputs": [
        {
          "name": "stdout",
          "output_type": "stream",
          "text": [
            "CPU times: user 27 µs, sys: 1 µs, total: 28 µs\n",
            "Wall time: 31 µs\n"
          ]
        },
        {
          "data": {
            "text/plain": [
              "3524578"
            ]
          },
          "execution_count": 4,
          "metadata": {},
          "output_type": "execute_result"
        }
      ],
      "source": [
        "def memoize(f):\n",
        "    cache = {}\n",
        "    def memoized_f(n):\n",
        "        if n not in cache: cache[n] = f(n)\n",
        "        return cache[n]\n",
        "    return memoized_f\n",
        "\n",
        "@memoize\n",
        "def fib(n):\n",
        "    if n == 0 or n == 1: return 1\n",
        "    return fib(n - 2) + fib(n - 1)\n",
        "\n",
        "%time fib(N)"
      ]
    },
    {
      "cell_type": "markdown",
      "metadata": {},
      "source": [
        "# Dispatch table\n",
        "\n",
        "L'uso delle funzioni come [cittadini di prim'ordine](https://en.wikipedia.org/wiki/First-class_citizen) per costruire [dispatch table](https://en.wikipedia.org/wiki/Dispatch_table),"
      ]
    },
    {
      "cell_type": "code",
      "execution_count": null,
      "metadata": {},
      "outputs": [],
      "source": [
        "# dispatch table\n",
        "\n",
        "def somma(a, b):\n",
        "    return a + b\n",
        "\n",
        "def sottrai(a, b):\n",
        "    return a - b"
      ]
    },
    {
      "cell_type": "code",
      "execution_count": null,
      "metadata": {},
      "outputs": [],
      "source": [
        "DISPATCH_TABLE = {\n",
        "    '+': somma,\n",
        "    '-': sottrai\n",
        "}"
      ]
    },
    {
      "cell_type": "code",
      "execution_count": null,
      "metadata": {},
      "outputs": [],
      "source": [
        "tokens = iter('5 + 3 - 4'.split())\n",
        "\n",
        "res = int(next(tokens))\n",
        "while True:\n",
        "    op = next(tokens, None)\n",
        "    if op is None: break\n",
        "    n = int(next(tokens))\n",
        "    res = DISPATCH_TABLE[op](res, n)"
      ]
    },
    {
      "cell_type": "code",
      "execution_count": null,
      "metadata": {},
      "outputs": [
        {
          "data": {
            "text/plain": [
              "4"
            ]
          },
          "execution_count": 8,
          "metadata": {},
          "output_type": "execute_result"
        }
      ],
      "source": [
        "res"
      ]
    },
    {
      "cell_type": "markdown",
      "metadata": {},
      "source": [
        "## <span style='color: red;'>Esercizio per casa</span>\n",
        "\n",
        "Dato un certo insieme di tipi di figure geometriche (diciamo almeno `quadrato`, \n",
        "`rettangolo`, `triangolo`) scrivere un segmento di codice che, data una sequenza \n",
        "di figure accompagnate dalla dimensione dei rispettivi lati e codificata come una \n",
        "sequenza di linee di testo ne calcoli l'area complessiva.\n",
        "\n",
        "Ad esempio, data la sequenza\n",
        "\n",
        "    quadrato 5\n",
        "    rettangolo 4 2\n",
        "    triangolo 1 2 \n",
        "    triangolo 2 1\n",
        "    rettangolo 5 1\n",
        "    quadrato 2\n",
        "\n",
        "il codice deve emettere `44.0`. Usate una *dispatch table* che, data una figura, fornisca la \n",
        "funzione che ne calcola l'area. \n",
        "\n",
        "Data una sequenza di linee in una stringa è possibile ottenere un iteratore sulle linee \n",
        "applicando il metodo `splitlines` e data una stringa contenente una sequenza di parti separate \n",
        "da spazio è possibile ottenerle applicando il metodo `split`."
      ]
    },
    {
      "cell_type": "markdown",
      "metadata": {},
      "source": [
        "### <span style='color: orange;'>Soluzione</span>\n",
        "\n",
        "Ovviamente guardate la soluzione solo **dopo** aver tentato di risolvere l'esercizio da soli!"
      ]
    },
    {
      "cell_type": "code",
      "execution_count": null,
      "metadata": {},
      "outputs": [
        {
          "name": "stdout",
          "output_type": "stream",
          "text": [
            "44.0\n"
          ]
        }
      ],
      "source": [
        "figure = \"\"\"quadrato 5\n",
        "rettangolo 4 2\n",
        "triangolo 1 2 \n",
        "triangolo 2 1\n",
        "rettangolo 5 1\n",
        "quadrato 2\"\"\"\n",
        "\n",
        "def rettangolo(base, altezza):\n",
        "    return base * altezza\n",
        "\n",
        "def triangolo(base, altezza):\n",
        "    return base * altezza / 2\n",
        "\n",
        "def quadrato(base):\n",
        "    return rettangolo(base, base)\n",
        "\n",
        "DISPATCH_TABLE = {\n",
        "    'rettangolo': rettangolo,\n",
        "    'quadrato': quadrato,\n",
        "    'triangolo': triangolo\n",
        "}\n",
        "\n",
        "tot = 0\n",
        "for line in figure.splitlines():\n",
        "    figura, *lati = line.split()\n",
        "    lati = map(int, lati)\n",
        "    tot += DISPATCH_TABLE[figura](*map(int,lati))\n",
        "print(tot)"
      ]
    }
  ],
  "metadata": {
    "kernelspec": {
      "display_name": "Python 3",
      "language": "python",
      "name": "python3"
    },
    "language_info": {
      "codemirror_mode": {
        "name": "ipython",
        "version": 3
      },
      "file_extension": ".py",
      "mimetype": "text/x-python",
      "name": "python",
      "nbconvert_exporter": "python",
      "pygments_lexer": "ipython3"
    }
  },
  "nbformat": 4,
  "nbformat_minor": 4
}
