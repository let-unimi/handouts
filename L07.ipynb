{
  "cells": [
    {
      "cell_type": "markdown",
      "metadata": {},
      "source": [
        "# Lezione 7"
      ]
    },
    {
      "cell_type": "code",
      "execution_count": null,
      "metadata": {},
      "outputs": [],
      "source": [
        "from liblet import Grammar, Production, Derivation, ProductionGraph, closure, prods2table, cyk2table\n",
        "\n",
        "from L06 import cyk, remove_unproductive_unreachable # codice dalla precedente leizone, vedi il file L06.py"
      ]
    },
    {
      "cell_type": "markdown",
      "metadata": {},
      "source": [
        "## Eliminazione ε-regole (Sez. 4.2.3.1)\n",
        "\n",
        "Due passi, ottenuti tramite *chiusura*, consentono di rimpiazzare un simbolo nei lati destri con `replace_in_rhs` e quindi applicare il primo passo a tutti i simboli che compaiono in una ε-regola con `inline_ε_rules`."
      ]
    },
    {
      "cell_type": "code",
      "execution_count": null,
      "metadata": {},
      "outputs": [],
      "source": [
        "@closure\n",
        "def replace_in_rhs(G, A):\n",
        "    Ap = A + '’'\n",
        "    prods = set()\n",
        "    for B, β in G.P:\n",
        "        if A in β:\n",
        "            pos = β.index(A)\n",
        "            rhs = β[:pos] + β[pos + 1:]\n",
        "            if len(rhs) == 0: rhs = ('ε', )\n",
        "            prods.add(Production(B, rhs))\n",
        "            prods.add(Production(B, β[:pos] + (Ap, ) + β[pos + 1:]))\n",
        "        else:\n",
        "            prods.add(Production(B, β))    \n",
        "    return Grammar(G.N | {Ap}, G.T, prods, G.S)"
      ]
    },
    {
      "cell_type": "code",
      "execution_count": null,
      "metadata": {},
      "outputs": [
        {
          "data": {
            "text/html": [
              "<style>td, th {border: 1pt solid lightgray !important ;}</style><table><tr><th><pre>S</pre><td style=\"text-align:left\"><pre>x A’ y A’ z | x A’ y z | x y A’ z | x y z</pre><tr><th><pre>A</pre><td style=\"text-align:left\"><pre>a</pre><tr><th><pre>A’</pre><td style=\"text-align:left\"><pre></pre></table></table>"
            ],
            "text/plain": [
              "<IPython.core.display.HTML object>"
            ]
          },
          "execution_count": 1,
          "metadata": {},
          "output_type": "execute_result"
        }
      ],
      "source": [
        "# esempio d'uso\n",
        "\n",
        "U = Grammar.from_string(\"\"\"\n",
        "S -> x A y A z\n",
        "A -> a\n",
        "\"\"\")\n",
        "\n",
        "prods2table(replace_in_rhs(U, 'A'))"
      ]
    },
    {
      "cell_type": "code",
      "execution_count": null,
      "metadata": {},
      "outputs": [],
      "source": [
        "@closure\n",
        "def inline_ε_rules(G_seen):\n",
        "    G, seen = G_seen\n",
        "    for A in G.N - seen:\n",
        "        if ('ε', ) in G.alternatives(A):\n",
        "            return replace_in_rhs(G, A), seen | {A}\n",
        "    return G, seen"
      ]
    },
    {
      "cell_type": "code",
      "execution_count": null,
      "metadata": {},
      "outputs": [
        {
          "data": {
            "text/html": [
              "<style>td, th {border: 1pt solid lightgray !important ;}</style><table><tr><th><pre>S</pre><td style=\"text-align:left\"><pre>A’ | ε</pre><tr><th><pre>A</pre><td style=\"text-align:left\"><pre>B’ | B’ C’ | C’ | ε</pre><tr><th><pre>A’</pre><td style=\"text-align:left\"><pre></pre><tr><th><pre>B</pre><td style=\"text-align:left\"><pre>ε</pre><tr><th><pre>B’</pre><td style=\"text-align:left\"><pre></pre><tr><th><pre>C</pre><td style=\"text-align:left\"><pre>ε</pre><tr><th><pre>C’</pre><td style=\"text-align:left\"><pre></pre><tr><th><pre>S’</pre><td style=\"text-align:left\"><pre></pre></table></table>"
            ],
            "text/plain": [
              "<IPython.core.display.HTML object>"
            ]
          },
          "execution_count": 1,
          "metadata": {},
          "output_type": "execute_result"
        }
      ],
      "source": [
        "# esempio d'uso\n",
        "\n",
        "U = Grammar.from_string(\"\"\"\n",
        "S -> A\n",
        "A -> B C\n",
        "B -> ε\n",
        "C -> ε\n",
        "\"\"\")\n",
        "\n",
        "prods2table(inline_ε_rules((U, set()))[0])"
      ]
    },
    {
      "cell_type": "markdown",
      "metadata": {},
      "source": [
        "Usando i due passi precedenti è semplice scrivere il passo di eliminazione"
      ]
    },
    {
      "cell_type": "code",
      "execution_count": null,
      "metadata": {},
      "outputs": [],
      "source": [
        "def eliminate_ε_rules(G):\n",
        "    Gp, _ = inline_ε_rules((G, set()))\n",
        "    prods = set(Gp.P)\n",
        "    for Ap in Gp.N - G.N:\n",
        "        A = Ap[:-1]\n",
        "        for α in set(Gp.alternatives(A)) - {('ε', )}:\n",
        "            prods.add(Production(Ap, α))\n",
        "    return Grammar(Gp.N, Gp.T, prods, Gp.S)"
      ]
    },
    {
      "cell_type": "code",
      "execution_count": null,
      "metadata": {},
      "outputs": [
        {
          "data": {
            "text/html": [
              "<style>td, th {border: 1pt solid lightgray !important ;}</style><table><tr><th><pre>S</pre><td style=\"text-align:left\"><pre>L’ a | L’ a M’ | a | a M’</pre><tr><th><pre>L</pre><td style=\"text-align:left\"><pre>L’ | L’ M’ | M’ | ε</pre><tr><th><pre>L’</pre><td style=\"text-align:left\"><pre>L’ | L’ M’ | M’</pre><tr><th><pre>M</pre><td style=\"text-align:left\"><pre>M’ | M’ M’ | ε</pre><tr><th><pre>M’</pre><td style=\"text-align:left\"><pre>M’ | M’ M’</pre></table></table>"
            ],
            "text/plain": [
              "<IPython.core.display.HTML object>"
            ]
          },
          "execution_count": 1,
          "metadata": {},
          "output_type": "execute_result"
        }
      ],
      "source": [
        "# esempio d'uso (fig. 4.10, pag. 120)\n",
        "\n",
        "U = Grammar.from_string(\"\"\"\n",
        "S -> L a M\n",
        "L -> L M \n",
        "L -> ε\n",
        "M -> M M\n",
        "M -> ε\n",
        "\"\"\")\n",
        "\n",
        "prods2table(eliminate_ε_rules(U))"
      ]
    },
    {
      "cell_type": "markdown",
      "metadata": {},
      "source": [
        "## Eliminazione regole unitarie (Sez. 4.2.3.2)"
      ]
    },
    {
      "cell_type": "code",
      "execution_count": null,
      "metadata": {},
      "outputs": [],
      "source": [
        "def eliminate_unit_rules(G):\n",
        "    @closure\n",
        "    def _eliminate_unit_rules(G_seen):\n",
        "        G, seen = G_seen\n",
        "        for P in set(filter(Production.such_that(rhs_len = 1), G.P)) - seen:\n",
        "            A, (B, ) = P\n",
        "            if B in G.N:            \n",
        "                prods = (set(G.P) | {Production(A, α) for α in G.alternatives(B)}) - {P}\n",
        "                return Grammar(G.N, G.T, prods, G.S), seen | {P}\n",
        "        return G, seen\n",
        "    return _eliminate_unit_rules((G, set()))[0]"
      ]
    },
    {
      "cell_type": "code",
      "execution_count": null,
      "metadata": {},
      "outputs": [
        {
          "data": {
            "text/html": [
              "<style>td, th {border: 1pt solid lightgray !important ;}</style><table><tr><th><pre>S</pre><td style=\"text-align:left\"><pre>b</pre><tr><th><pre>A</pre><td style=\"text-align:left\"><pre>b</pre><tr><th><pre>B</pre><td style=\"text-align:left\"><pre>b</pre></table></table>"
            ],
            "text/plain": [
              "<IPython.core.display.HTML object>"
            ]
          },
          "execution_count": 1,
          "metadata": {},
          "output_type": "execute_result"
        }
      ],
      "source": [
        "# esempio d'uso\n",
        "\n",
        "U = Grammar.from_string(\"\"\"\n",
        "S -> A\n",
        "A -> B\n",
        "B -> A | b\n",
        "\"\"\")\n",
        "\n",
        "prods2table(eliminate_unit_rules(U))"
      ]
    },
    {
      "cell_type": "markdown",
      "metadata": {},
      "source": [
        "### Un esempio più elaborato"
      ]
    },
    {
      "cell_type": "code",
      "execution_count": null,
      "metadata": {},
      "outputs": [],
      "source": [
        "# fig. 4.6, pag. 112\n",
        "\n",
        "G = Grammar.from_string(\"\"\"\n",
        "Number -> Integer | Real\n",
        "Integer -> Digit | Integer Digit\n",
        "Real -> Integer Fraction Scale\n",
        "Fraction -> . Integer\n",
        "Scale -> e Sign Integer | Empty\n",
        "Digit -> 0 | 1 | 2 | 3 | 4 | 5 | 6 | 7 | 8 | 9\n",
        "Sign -> + | -\n",
        "Empty -> ε\n",
        "\"\"\")"
      ]
    },
    {
      "cell_type": "code",
      "execution_count": null,
      "metadata": {},
      "outputs": [
        {
          "data": {
            "text/html": [
              "<style>td, th {border: 1pt solid lightgray !important ;}</style><table><tr><th><pre>Number</pre><td style=\"text-align:left\"><pre>Integer | Real</pre><tr><th><pre>Digit</pre><td style=\"text-align:left\"><pre>0 | 1 | 2 | 3 | 4 | 5 | 6 | 7 | 8 | 9</pre><tr><th><pre>Empty</pre><td style=\"text-align:left\"><pre>ε</pre><tr><th><pre>Empty’</pre><td style=\"text-align:left\"><pre></pre><tr><th><pre>Fraction</pre><td style=\"text-align:left\"><pre>. Integer</pre><tr><th><pre>Integer</pre><td style=\"text-align:left\"><pre>Digit | Integer Digit</pre><tr><th><pre>Real</pre><td style=\"text-align:left\"><pre>Integer Fraction | Integer Fraction Scale’</pre><tr><th><pre>Scale</pre><td style=\"text-align:left\"><pre>Empty’ | e Sign Integer | ε</pre><tr><th><pre>Scale’</pre><td style=\"text-align:left\"><pre>Empty’ | e Sign Integer</pre><tr><th><pre>Sign</pre><td style=\"text-align:left\"><pre>+ | -</pre></table></table>"
            ],
            "text/plain": [
              "<IPython.core.display.HTML object>"
            ]
          },
          "execution_count": 1,
          "metadata": {},
          "output_type": "execute_result"
        }
      ],
      "source": [
        "# fig. 4.12, pag. 120 (a meno di Empty’)\n",
        "\n",
        "prods2table(eliminate_ε_rules(G))"
      ]
    },
    {
      "cell_type": "markdown",
      "metadata": {},
      "source": [
        "Data la `G` per i numeri con la virgola, si ottiene `Gp` coi primi due passi di cui sopra."
      ]
    },
    {
      "cell_type": "code",
      "execution_count": null,
      "metadata": {},
      "outputs": [
        {
          "data": {
            "text/html": [
              "<style>td, th {border: 1pt solid lightgray !important ;}</style><table><tr><th><pre>Number</pre><td style=\"text-align:left\"><pre>0 | 1 | 2 | 3 | 4 | 5 | 6 | 7 | 8 | 9 | Integer Digit | Integer Fraction | Integer Fraction Scale’</pre><tr><th><pre>Digit</pre><td style=\"text-align:left\"><pre>0 | 1 | 2 | 3 | 4 | 5 | 6 | 7 | 8 | 9</pre><tr><th><pre>Empty</pre><td style=\"text-align:left\"><pre>ε</pre><tr><th><pre>Empty’</pre><td style=\"text-align:left\"><pre></pre><tr><th><pre>Fraction</pre><td style=\"text-align:left\"><pre>. Integer</pre><tr><th><pre>Integer</pre><td style=\"text-align:left\"><pre>0 | 1 | 2 | 3 | 4 | 5 | 6 | 7 | 8 | 9 | Integer Digit</pre><tr><th><pre>Real</pre><td style=\"text-align:left\"><pre>Integer Fraction | Integer Fraction Scale’</pre><tr><th><pre>Scale</pre><td style=\"text-align:left\"><pre>e Sign Integer | ε</pre><tr><th><pre>Scale’</pre><td style=\"text-align:left\"><pre>e Sign Integer</pre><tr><th><pre>Sign</pre><td style=\"text-align:left\"><pre>+ | -</pre></table></table>"
            ],
            "text/plain": [
              "<IPython.core.display.HTML object>"
            ]
          },
          "execution_count": 1,
          "metadata": {},
          "output_type": "execute_result"
        }
      ],
      "source": [
        "# fig. 4.13, pag. 121\n",
        "\n",
        "Gp = eliminate_unit_rules(eliminate_ε_rules(G))\n",
        "prods2table(Gp)"
      ]
    },
    {
      "cell_type": "markdown",
      "metadata": {},
      "source": [
        "## Eliminare regole/simboli non produttive e  non raggiungibili (Sez. 2.9.5.1-2)"
      ]
    },
    {
      "cell_type": "code",
      "execution_count": null,
      "metadata": {},
      "outputs": [
        {
          "data": {
            "text/html": [
              "<style>td, th {border: 1pt solid lightgray !important ;}</style><table><tr><th><pre>Number</pre><td style=\"text-align:left\"><pre>0 | 1 | 2 | 3 | 4 | 5 | 6 | 7 | 8 | 9 | Integer Digit | Integer Fraction | Integer Fraction Scale’</pre><tr><th><pre>Digit</pre><td style=\"text-align:left\"><pre>0 | 1 | 2 | 3 | 4 | 5 | 6 | 7 | 8 | 9</pre><tr><th><pre>Fraction</pre><td style=\"text-align:left\"><pre>. Integer</pre><tr><th><pre>Integer</pre><td style=\"text-align:left\"><pre>0 | 1 | 2 | 3 | 4 | 5 | 6 | 7 | 8 | 9 | Integer Digit</pre><tr><th><pre>Scale’</pre><td style=\"text-align:left\"><pre>e Sign Integer</pre><tr><th><pre>Sign</pre><td style=\"text-align:left\"><pre>+ | -</pre></table></table>"
            ],
            "text/plain": [
              "<IPython.core.display.HTML object>"
            ]
          },
          "execution_count": 1,
          "metadata": {},
          "output_type": "execute_result"
        }
      ],
      "source": [
        "# fig. 4.14, pag. 122\n",
        "\n",
        "Gp_clean = remove_unproductive_unreachable(Gp)\n",
        "prods2table(Gp_clean)"
      ]
    },
    {
      "cell_type": "markdown",
      "metadata": {},
      "source": [
        "## Riduzione in forma normale (Sez. 4.3.2.4)"
      ]
    },
    {
      "cell_type": "markdown",
      "metadata": {},
      "source": [
        "### Caso $A\\to \\alpha a \\beta$"
      ]
    },
    {
      "cell_type": "code",
      "execution_count": null,
      "metadata": {},
      "outputs": [],
      "source": [
        "def transform_nonsolitary(G):\n",
        "    prods = set()\n",
        "    for A, α in G.P:\n",
        "        if len(α) > 1 and set(α) & G.T:\n",
        "            rhs = []\n",
        "            for x in α:\n",
        "                if x in G.T:\n",
        "                    N = 'N{}'.format(x)\n",
        "                    prods.add(Production(N, (x, )))\n",
        "                    rhs.append(N)\n",
        "                else:\n",
        "                    rhs.append(x)\n",
        "            prods.add(Production(A, rhs))\n",
        "        else:            \n",
        "            prods.add(Production(A, α))\n",
        "    return Grammar(G.N | {A for A, α in prods}, G.T, prods, G.S)"
      ]
    },
    {
      "cell_type": "code",
      "execution_count": null,
      "metadata": {},
      "outputs": [
        {
          "data": {
            "text/html": [
              "<style>td, th {border: 1pt solid lightgray !important ;}</style><table><tr><th><pre>S</pre><td style=\"text-align:left\"><pre>Nx S Ny S Nx</pre><tr><th><pre>Nx</pre><td style=\"text-align:left\"><pre>x</pre><tr><th><pre>Ny</pre><td style=\"text-align:left\"><pre>y</pre></table></table>"
            ],
            "text/plain": [
              "<IPython.core.display.HTML object>"
            ]
          },
          "execution_count": 1,
          "metadata": {},
          "output_type": "execute_result"
        }
      ],
      "source": [
        "# esempio d'uso\n",
        "\n",
        "U = Grammar.from_string(\"\"\"\n",
        "S -> x S y S x\n",
        "\"\"\")\n",
        "\n",
        "prods2table(transform_nonsolitary(U))"
      ]
    },
    {
      "cell_type": "markdown",
      "metadata": {},
      "source": [
        "### Caso $A\\to X_1 X_2\\ldots X_n$"
      ]
    },
    {
      "cell_type": "code",
      "execution_count": null,
      "metadata": {},
      "outputs": [],
      "source": [
        "def make_binary(G):\n",
        "    prods = set()\n",
        "    for A, α in G.P:\n",
        "        if len(α) > 2:\n",
        "            Ai = '{}{}'.format(A, 1)\n",
        "            prods.add(Production(Ai, α[:2]))\n",
        "            for i, Xi in enumerate(α[2:-1], 2):\n",
        "                prods.add(Production('{}{}'.format(A, i), (Ai, Xi)))\n",
        "                Ai = '{}{}'.format(A, i)\n",
        "            prods.add(Production(A, (Ai, α[-1])))\n",
        "        else:\n",
        "            prods.add(Production(A, α))\n",
        "    return Grammar(G.N | {A for A, α in prods}, G.T, prods, G.S)"
      ]
    },
    {
      "cell_type": "code",
      "execution_count": null,
      "metadata": {},
      "outputs": [
        {
          "data": {
            "text/html": [
              "<style>td, th {border: 1pt solid lightgray !important ;}</style><table><tr><th><pre>S</pre><td style=\"text-align:left\"><pre>S2 D</pre><tr><th><pre>S1</pre><td style=\"text-align:left\"><pre>A B</pre><tr><th><pre>S2</pre><td style=\"text-align:left\"><pre>S1 C</pre></table></table>"
            ],
            "text/plain": [
              "<IPython.core.display.HTML object>"
            ]
          },
          "execution_count": 1,
          "metadata": {},
          "output_type": "execute_result"
        }
      ],
      "source": [
        "# esempio d'uso\n",
        "\n",
        "U = Grammar.from_string(\"\"\"\n",
        "S -> A B C D\n",
        "\"\"\")\n",
        "\n",
        "prods2table(make_binary(U))"
      ]
    },
    {
      "cell_type": "markdown",
      "metadata": {},
      "source": [
        "### Di nuovo, l'esempio più elaborato"
      ]
    },
    {
      "cell_type": "code",
      "execution_count": null,
      "metadata": {},
      "outputs": [
        {
          "data": {
            "text/html": [
              "<style>td, th {border: 1pt solid lightgray !important ;}</style><table><tr><th><pre>Number</pre><td style=\"text-align:left\"><pre>0 | 1 | 2 | 3 | 4 | 5 | 6 | 7 | 8 | 9 | Integer Digit | Integer Fraction | Number1 Scale’</pre><tr><th><pre>Digit</pre><td style=\"text-align:left\"><pre>0 | 1 | 2 | 3 | 4 | 5 | 6 | 7 | 8 | 9</pre><tr><th><pre>Fraction</pre><td style=\"text-align:left\"><pre>N. Integer</pre><tr><th><pre>Integer</pre><td style=\"text-align:left\"><pre>0 | 1 | 2 | 3 | 4 | 5 | 6 | 7 | 8 | 9 | Integer Digit</pre><tr><th><pre>N.</pre><td style=\"text-align:left\"><pre>.</pre><tr><th><pre>Ne</pre><td style=\"text-align:left\"><pre>e</pre><tr><th><pre>Number1</pre><td style=\"text-align:left\"><pre>Integer Fraction</pre><tr><th><pre>Scale’</pre><td style=\"text-align:left\"><pre>Scale’1 Integer</pre><tr><th><pre>Scale’1</pre><td style=\"text-align:left\"><pre>Ne Sign</pre><tr><th><pre>Sign</pre><td style=\"text-align:left\"><pre>+ | -</pre></table></table>"
            ],
            "text/plain": [
              "<IPython.core.display.HTML object>"
            ]
          },
          "execution_count": 1,
          "metadata": {},
          "output_type": "execute_result"
        }
      ],
      "source": [
        "# fig. 4.15, pag. 123 (rinominando alcuni non terminali)\n",
        "\n",
        "G_cnf = make_binary(transform_nonsolitary(Gp_clean))\n",
        "prods2table(G_cnf)"
      ]
    },
    {
      "cell_type": "markdown",
      "metadata": {},
      "source": [
        "# Parsing CYK con  G in forma CNF"
      ]
    },
    {
      "cell_type": "code",
      "execution_count": null,
      "metadata": {},
      "outputs": [
        {
          "data": {
            "text/html": [
              "<style>td, th {border: 1pt solid lightgray !important ;}</style><table><tr><td style=\"text-align:left\"><pre>Number</pre></td><tr><td style=\"text-align:left\"><pre>&nbsp;</pre></td><td style=\"text-align:left\"><pre>Number</pre></td><tr><td style=\"text-align:left\"><pre>&nbsp;</pre></td><td style=\"text-align:left\"><pre>&nbsp;</pre></td><td style=\"text-align:left\"><pre>&nbsp;</pre></td><tr><td style=\"text-align:left\"><pre>Number\n",
              "Number1</pre></td><td style=\"text-align:left\"><pre>&nbsp;</pre></td><td style=\"text-align:left\"><pre>&nbsp;</pre></td><td style=\"text-align:left\"><pre>&nbsp;</pre></td><tr><td style=\"text-align:left\"><pre>&nbsp;</pre></td><td style=\"text-align:left\"><pre>Number\n",
              "Number1</pre></td><td style=\"text-align:left\"><pre>&nbsp;</pre></td><td style=\"text-align:left\"><pre>&nbsp;</pre></td><td style=\"text-align:left\"><pre>Scale’</pre></td><tr><td style=\"text-align:left\"><pre>Integer\n",
              "Number</pre></td><td style=\"text-align:left\"><pre>&nbsp;</pre></td><td style=\"text-align:left\"><pre>Fraction</pre></td><td style=\"text-align:left\"><pre>&nbsp;</pre></td><td style=\"text-align:left\"><pre>Scale’1</pre></td><td style=\"text-align:left\"><pre>&nbsp;</pre></td><tr><td style=\"text-align:left\"><pre>Digit\n",
              "Integer\n",
              "Number</pre></td><td style=\"text-align:left\"><pre>Digit\n",
              "Integer\n",
              "Number</pre></td><td style=\"text-align:left\"><pre>N.</pre></td><td style=\"text-align:left\"><pre>Digit\n",
              "Integer\n",
              "Number</pre></td><td style=\"text-align:left\"><pre>Ne</pre></td><td style=\"text-align:left\"><pre>Sign</pre></td><td style=\"text-align:left\"><pre>Digit\n",
              "Integer\n",
              "Number</pre></td></table>"
            ],
            "text/plain": [
              "<IPython.core.display.HTML object>"
            ]
          },
          "execution_count": 1,
          "metadata": {},
          "output_type": "execute_result"
        }
      ],
      "source": [
        "# fig. 4.16, pag. 123\n",
        "\n",
        "INPUT = '32.5e+1'\n",
        "R = cyk(G_cnf, INPUT)\n",
        "cyk2table(R)"
      ]
    },
    {
      "cell_type": "markdown",
      "metadata": {},
      "source": [
        "## Una derivazione leftmost\n",
        "\n",
        "Per ottenere una derivazione *leftmost* ragioniamo come per la funzione `parse_lol` della precedente lezione, ma invece di restituire un *lol* restituiamo l'indice della produzione in gioco (ottenuto invocando `G.P.index`)"
      ]
    },
    {
      "cell_type": "code",
      "execution_count": null,
      "metadata": {},
      "outputs": [],
      "source": [
        "def get_leftmost_prods(G, R, INPUT):\n",
        "    def prods(X, i, l):\n",
        "        if l == 1:\n",
        "            return [G.P.index(Production(X, (INPUT[i - 1],)))]\n",
        "        for A, (B, C) in filter(Production.such_that(lhs = X, rhs_len = 2), G.P):\n",
        "            for k in range(1, l):\n",
        "                if B in R[(i, k)] and C in R[(i + k, l - k)]:\n",
        "                    return [G.P.index(Production(A, (B, C)))] + prods(B, i, k) + prods(C, i + k, l - k)\n",
        "    return prods(G.S, 1, len(INPUT))            "
      ]
    },
    {
      "cell_type": "code",
      "execution_count": null,
      "metadata": {},
      "outputs": [
        {
          "data": {
            "text/plain": [
              "[11, 23, 5, 36, 29, 1, 8, 4, 26, 3, 21, 0, 39]"
            ]
          },
          "execution_count": 1,
          "metadata": {},
          "output_type": "execute_result"
        }
      ],
      "source": [
        "leftmost_prods = get_leftmost_prods(G_cnf, R, INPUT)\n",
        "leftmost_prods"
      ]
    },
    {
      "cell_type": "code",
      "execution_count": null,
      "metadata": {},
      "outputs": [
        {
          "data": {
            "text/plain": [
              "Number -> Number1 Scale’ -> Integer Fraction Scale’ -> Integer Digit Fraction Scale’ -> 3 Digit Fraction Scale’ -> 3 2 Fraction Scale’ -> 3 2 N. Integer Scale’ -> 3 2 . Integer Scale’ -> 3 2 . 5 Scale’ -> 3 2 . 5 Scale’1 Integer -> 3 2 . 5 Ne Sign Integer -> 3 2 . 5 e Sign Integer -> 3 2 . 5 e + Integer -> 3 2 . 5 e + 1"
            ]
          },
          "execution_count": 1,
          "metadata": {},
          "output_type": "execute_result"
        }
      ],
      "source": [
        "d = Derivation(G_cnf).leftmost(leftmost_prods)\n",
        "d"
      ]
    },
    {
      "cell_type": "code",
      "execution_count": null,
      "metadata": {},
      "outputs": [
        {
          "data": {
            "image/svg+xml": [
              "<?xml version=\"1.0\" encoding=\"UTF-8\" standalone=\"no\"?>\n",
              "<!DOCTYPE svg PUBLIC \"-//W3C//DTD SVG 1.1//EN\"\n",
              " \"http://www.w3.org/Graphics/SVG/1.1/DTD/svg11.dtd\">\n",
              "<!-- Generated by graphviz version 2.43.0 (0)\n",
              " -->\n",
              "<!-- Title: %3 Pages: 1 -->\n",
              "<svg width=\"396pt\" height=\"195pt\"\n",
              " viewBox=\"0.00 0.00 395.50 195.00\" xmlns=\"http://www.w3.org/2000/svg\" xmlns:xlink=\"http://www.w3.org/1999/xlink\">\n",
              "<g id=\"graph0\" class=\"graph\" transform=\"scale(1 1) rotate(0) translate(4 191)\">\n",
              "<title>%3</title>\n",
              "<polygon fill=\"white\" stroke=\"transparent\" points=\"-4,4 -4,-191 391.5,-191 391.5,4 -4,4\"/>\n",
              "<!-- &#45;2792687650906736141 -->\n",
              "<g id=\"node1\" class=\"node\">\n",
              "<title>&#45;2792687650906736141</title>\n",
              "<path fill=\"none\" stroke=\"black\" stroke-width=\"0.25\" d=\"M259.33,-187C259.33,-187 207.67,-187 207.67,-187 203.83,-187 200,-183.17 200,-179.33 200,-179.33 200,-171.67 200,-171.67 200,-167.83 203.83,-164 207.67,-164 207.67,-164 259.33,-164 259.33,-164 263.17,-164 267,-167.83 267,-171.67 267,-171.67 267,-179.33 267,-179.33 267,-183.17 263.17,-187 259.33,-187\"/>\n",
              "<text text-anchor=\"middle\" x=\"233.5\" y=\"-171.8\" font-family=\"Times,serif\" font-size=\"14.00\">Number</text>\n",
              "</g>\n",
              "<!-- &#45;2013343322387234202 -->\n",
              "<g id=\"node2\" class=\"node\">\n",
              "<title>&#45;2013343322387234202</title>\n",
              "<path fill=\"none\" stroke=\"black\" stroke-width=\"0.25\" d=\"M222.83,-146C222.83,-146 162.17,-146 162.17,-146 158.33,-146 154.5,-142.17 154.5,-138.33 154.5,-138.33 154.5,-130.67 154.5,-130.67 154.5,-126.83 158.33,-123 162.17,-123 162.17,-123 222.83,-123 222.83,-123 226.67,-123 230.5,-126.83 230.5,-130.67 230.5,-130.67 230.5,-138.33 230.5,-138.33 230.5,-142.17 226.67,-146 222.83,-146\"/>\n",
              "<text text-anchor=\"middle\" x=\"192.5\" y=\"-130.8\" font-family=\"Times,serif\" font-size=\"14.00\">Number1</text>\n",
              "</g>\n",
              "<!-- &#45;2792687650906736141&#45;&gt;&#45;2013343322387234202 -->\n",
              "<g id=\"edge1\" class=\"edge\">\n",
              "<title>&#45;2792687650906736141&#45;&gt;&#45;2013343322387234202</title>\n",
              "<path fill=\"none\" stroke=\"black\" stroke-width=\"0.5\" d=\"M222.3,-163.84C216.51,-158.34 209.47,-151.65 203.69,-146.14\"/>\n",
              "</g>\n",
              "<!-- 5092480807167677473 -->\n",
              "<g id=\"node3\" class=\"node\">\n",
              "<title>5092480807167677473</title>\n",
              "<path fill=\"none\" stroke=\"black\" stroke-width=\"0.25\" d=\"M292.33,-146C292.33,-146 256.67,-146 256.67,-146 252.83,-146 249,-142.17 249,-138.33 249,-138.33 249,-130.67 249,-130.67 249,-126.83 252.83,-123 256.67,-123 256.67,-123 292.33,-123 292.33,-123 296.17,-123 300,-126.83 300,-130.67 300,-130.67 300,-138.33 300,-138.33 300,-142.17 296.17,-146 292.33,-146\"/>\n",
              "<text text-anchor=\"middle\" x=\"274.5\" y=\"-130.8\" font-family=\"Times,serif\" font-size=\"14.00\">Scale’</text>\n",
              "</g>\n",
              "<!-- &#45;2792687650906736141&#45;&gt;5092480807167677473 -->\n",
              "<g id=\"edge2\" class=\"edge\">\n",
              "<title>&#45;2792687650906736141&#45;&gt;5092480807167677473</title>\n",
              "<path fill=\"none\" stroke=\"black\" stroke-width=\"0.5\" d=\"M244.7,-163.84C250.49,-158.34 257.53,-151.65 263.31,-146.14\"/>\n",
              "</g>\n",
              "<!-- &#45;2013343322387234202&#45;&gt;5092480807167677473 -->\n",
              "<!-- &#45;5516247901739140460 -->\n",
              "<g id=\"node4\" class=\"node\">\n",
              "<title>&#45;5516247901739140460</title>\n",
              "<path fill=\"none\" stroke=\"black\" stroke-width=\"0.25\" d=\"M127.33,-105C127.33,-105 81.67,-105 81.67,-105 77.83,-105 74,-101.17 74,-97.33 74,-97.33 74,-89.67 74,-89.67 74,-85.83 77.83,-82 81.67,-82 81.67,-82 127.33,-82 127.33,-82 131.17,-82 135,-85.83 135,-89.67 135,-89.67 135,-97.33 135,-97.33 135,-101.17 131.17,-105 127.33,-105\"/>\n",
              "<text text-anchor=\"middle\" x=\"104.5\" y=\"-89.8\" font-family=\"Times,serif\" font-size=\"14.00\">Integer</text>\n",
              "</g>\n",
              "<!-- &#45;2013343322387234202&#45;&gt;&#45;5516247901739140460 -->\n",
              "<g id=\"edge4\" class=\"edge\">\n",
              "<title>&#45;2013343322387234202&#45;&gt;&#45;5516247901739140460</title>\n",
              "<path fill=\"none\" stroke=\"black\" stroke-width=\"0.5\" d=\"M168.45,-122.84C155.93,-117.3 140.68,-110.54 128.21,-105.01\"/>\n",
              "</g>\n",
              "<!-- &#45;3054940201008428447 -->\n",
              "<g id=\"node5\" class=\"node\">\n",
              "<title>&#45;3054940201008428447</title>\n",
              "<path fill=\"none\" stroke=\"black\" stroke-width=\"0.25\" d=\"M219.33,-105C219.33,-105 165.67,-105 165.67,-105 161.83,-105 158,-101.17 158,-97.33 158,-97.33 158,-89.67 158,-89.67 158,-85.83 161.83,-82 165.67,-82 165.67,-82 219.33,-82 219.33,-82 223.17,-82 227,-85.83 227,-89.67 227,-89.67 227,-97.33 227,-97.33 227,-101.17 223.17,-105 219.33,-105\"/>\n",
              "<text text-anchor=\"middle\" x=\"192.5\" y=\"-89.8\" font-family=\"Times,serif\" font-size=\"14.00\">Fraction</text>\n",
              "</g>\n",
              "<!-- &#45;2013343322387234202&#45;&gt;&#45;3054940201008428447 -->\n",
              "<g id=\"edge5\" class=\"edge\">\n",
              "<title>&#45;2013343322387234202&#45;&gt;&#45;3054940201008428447</title>\n",
              "<path fill=\"none\" stroke=\"black\" stroke-width=\"0.5\" d=\"M192.5,-122.84C192.5,-117.34 192.5,-110.65 192.5,-105.14\"/>\n",
              "</g>\n",
              "<!-- &#45;752272987783682203 -->\n",
              "<g id=\"node14\" class=\"node\">\n",
              "<title>&#45;752272987783682203</title>\n",
              "<path fill=\"none\" stroke=\"black\" stroke-width=\"0.25\" d=\"M299.83,-105C299.83,-105 255.17,-105 255.17,-105 251.33,-105 247.5,-101.17 247.5,-97.33 247.5,-97.33 247.5,-89.67 247.5,-89.67 247.5,-85.83 251.33,-82 255.17,-82 255.17,-82 299.83,-82 299.83,-82 303.67,-82 307.5,-85.83 307.5,-89.67 307.5,-89.67 307.5,-97.33 307.5,-97.33 307.5,-101.17 303.67,-105 299.83,-105\"/>\n",
              "<text text-anchor=\"middle\" x=\"277.5\" y=\"-89.8\" font-family=\"Times,serif\" font-size=\"14.00\">Scale’1</text>\n",
              "</g>\n",
              "<!-- 5092480807167677473&#45;&gt;&#45;752272987783682203 -->\n",
              "<g id=\"edge17\" class=\"edge\">\n",
              "<title>5092480807167677473&#45;&gt;&#45;752272987783682203</title>\n",
              "<path fill=\"none\" stroke=\"black\" stroke-width=\"0.5\" d=\"M275.32,-122.84C275.74,-117.34 276.26,-110.65 276.68,-105.14\"/>\n",
              "</g>\n",
              "<!-- 2407298960126438346 -->\n",
              "<g id=\"node15\" class=\"node\">\n",
              "<title>2407298960126438346</title>\n",
              "<path fill=\"none\" stroke=\"black\" stroke-width=\"0.25\" d=\"M379.33,-105C379.33,-105 333.67,-105 333.67,-105 329.83,-105 326,-101.17 326,-97.33 326,-97.33 326,-89.67 326,-89.67 326,-85.83 329.83,-82 333.67,-82 333.67,-82 379.33,-82 379.33,-82 383.17,-82 387,-85.83 387,-89.67 387,-89.67 387,-97.33 387,-97.33 387,-101.17 383.17,-105 379.33,-105\"/>\n",
              "<text text-anchor=\"middle\" x=\"356.5\" y=\"-89.8\" font-family=\"Times,serif\" font-size=\"14.00\">Integer</text>\n",
              "</g>\n",
              "<!-- 5092480807167677473&#45;&gt;2407298960126438346 -->\n",
              "<g id=\"edge18\" class=\"edge\">\n",
              "<title>5092480807167677473&#45;&gt;2407298960126438346</title>\n",
              "<path fill=\"none\" stroke=\"black\" stroke-width=\"0.5\" d=\"M296.91,-122.84C308.57,-117.3 322.78,-110.54 334.4,-105.01\"/>\n",
              "</g>\n",
              "<!-- &#45;5516247901739140460&#45;&gt;&#45;3054940201008428447 -->\n",
              "<!-- 4823298737963293374 -->\n",
              "<g id=\"node6\" class=\"node\">\n",
              "<title>4823298737963293374</title>\n",
              "<path fill=\"none\" stroke=\"black\" stroke-width=\"0.25\" d=\"M53.33,-64C53.33,-64 7.67,-64 7.67,-64 3.83,-64 0,-60.17 0,-56.33 0,-56.33 0,-48.67 0,-48.67 0,-44.83 3.83,-41 7.67,-41 7.67,-41 53.33,-41 53.33,-41 57.17,-41 61,-44.83 61,-48.67 61,-48.67 61,-56.33 61,-56.33 61,-60.17 57.17,-64 53.33,-64\"/>\n",
              "<text text-anchor=\"middle\" x=\"30.5\" y=\"-48.8\" font-family=\"Times,serif\" font-size=\"14.00\">Integer</text>\n",
              "</g>\n",
              "<!-- &#45;5516247901739140460&#45;&gt;4823298737963293374 -->\n",
              "<g id=\"edge7\" class=\"edge\">\n",
              "<title>&#45;5516247901739140460&#45;&gt;4823298737963293374</title>\n",
              "<path fill=\"none\" stroke=\"black\" stroke-width=\"0.5\" d=\"M84.28,-81.84C73.75,-76.3 60.93,-69.54 50.44,-64.01\"/>\n",
              "</g>\n",
              "<!-- &#45;7465668785081448396 -->\n",
              "<g id=\"node7\" class=\"node\">\n",
              "<title>&#45;7465668785081448396</title>\n",
              "<path fill=\"none\" stroke=\"black\" stroke-width=\"0.25\" d=\"M115.83,-64C115.83,-64 87.17,-64 87.17,-64 83.33,-64 79.5,-60.17 79.5,-56.33 79.5,-56.33 79.5,-48.67 79.5,-48.67 79.5,-44.83 83.33,-41 87.17,-41 87.17,-41 115.83,-41 115.83,-41 119.67,-41 123.5,-44.83 123.5,-48.67 123.5,-48.67 123.5,-56.33 123.5,-56.33 123.5,-60.17 119.67,-64 115.83,-64\"/>\n",
              "<text text-anchor=\"middle\" x=\"101.5\" y=\"-48.8\" font-family=\"Times,serif\" font-size=\"14.00\">Digit</text>\n",
              "</g>\n",
              "<!-- &#45;5516247901739140460&#45;&gt;&#45;7465668785081448396 -->\n",
              "<g id=\"edge8\" class=\"edge\">\n",
              "<title>&#45;5516247901739140460&#45;&gt;&#45;7465668785081448396</title>\n",
              "<path fill=\"none\" stroke=\"black\" stroke-width=\"0.5\" d=\"M103.68,-81.84C103.26,-76.34 102.74,-69.65 102.32,-64.14\"/>\n",
              "</g>\n",
              "<!-- 6314943954701811544 -->\n",
              "<g id=\"node10\" class=\"node\">\n",
              "<title>6314943954701811544</title>\n",
              "<path fill=\"none\" stroke=\"black\" stroke-width=\"0.25\" d=\"M157.83,-64C157.83,-64 149.17,-64 149.17,-64 145.33,-64 141.5,-60.17 141.5,-56.33 141.5,-56.33 141.5,-48.67 141.5,-48.67 141.5,-44.83 145.33,-41 149.17,-41 149.17,-41 157.83,-41 157.83,-41 161.67,-41 165.5,-44.83 165.5,-48.67 165.5,-48.67 165.5,-56.33 165.5,-56.33 165.5,-60.17 161.67,-64 157.83,-64\"/>\n",
              "<text text-anchor=\"middle\" x=\"153.5\" y=\"-48.8\" font-family=\"Times,serif\" font-size=\"14.00\">N.</text>\n",
              "</g>\n",
              "<!-- &#45;3054940201008428447&#45;&gt;6314943954701811544 -->\n",
              "<g id=\"edge12\" class=\"edge\">\n",
              "<title>&#45;3054940201008428447&#45;&gt;6314943954701811544</title>\n",
              "<path fill=\"none\" stroke=\"black\" stroke-width=\"0.5\" d=\"M181.84,-81.84C176.34,-76.34 169.65,-69.65 164.14,-64.14\"/>\n",
              "</g>\n",
              "<!-- &#45;8299309196165281022 -->\n",
              "<g id=\"node11\" class=\"node\">\n",
              "<title>&#45;8299309196165281022</title>\n",
              "<path fill=\"none\" stroke=\"black\" stroke-width=\"0.25\" d=\"M237.33,-64C237.33,-64 191.67,-64 191.67,-64 187.83,-64 184,-60.17 184,-56.33 184,-56.33 184,-48.67 184,-48.67 184,-44.83 187.83,-41 191.67,-41 191.67,-41 237.33,-41 237.33,-41 241.17,-41 245,-44.83 245,-48.67 245,-48.67 245,-56.33 245,-56.33 245,-60.17 241.17,-64 237.33,-64\"/>\n",
              "<text text-anchor=\"middle\" x=\"214.5\" y=\"-48.8\" font-family=\"Times,serif\" font-size=\"14.00\">Integer</text>\n",
              "</g>\n",
              "<!-- &#45;3054940201008428447&#45;&gt;&#45;8299309196165281022 -->\n",
              "<g id=\"edge13\" class=\"edge\">\n",
              "<title>&#45;3054940201008428447&#45;&gt;&#45;8299309196165281022</title>\n",
              "<path fill=\"none\" stroke=\"black\" stroke-width=\"0.5\" d=\"M198.51,-81.84C201.62,-76.34 205.39,-69.65 208.5,-64.14\"/>\n",
              "</g>\n",
              "<!-- 4823298737963293374&#45;&gt;&#45;7465668785081448396 -->\n",
              "<!-- 5754213449026940091 -->\n",
              "<g id=\"node8\" class=\"node\">\n",
              "<title>5754213449026940091</title>\n",
              "<path fill=\"none\" stroke=\"black\" stroke-width=\"1.25\" d=\"M33.5,-23C33.5,-23 27.5,-23 27.5,-23 24.5,-23 21.5,-20 21.5,-17 21.5,-17 21.5,-6 21.5,-6 21.5,-3 24.5,0 27.5,0 27.5,0 33.5,0 33.5,0 36.5,0 39.5,-3 39.5,-6 39.5,-6 39.5,-17 39.5,-17 39.5,-20 36.5,-23 33.5,-23\"/>\n",
              "<text text-anchor=\"middle\" x=\"30.5\" y=\"-7.8\" font-family=\"Times,serif\" font-size=\"14.00\">3</text>\n",
              "</g>\n",
              "<!-- 4823298737963293374&#45;&gt;5754213449026940091 -->\n",
              "<g id=\"edge10\" class=\"edge\">\n",
              "<title>4823298737963293374&#45;&gt;5754213449026940091</title>\n",
              "<path fill=\"none\" stroke=\"black\" stroke-width=\"0.5\" d=\"M30.5,-40.84C30.5,-35.34 30.5,-28.65 30.5,-23.14\"/>\n",
              "</g>\n",
              "<!-- &#45;2594690828497855035 -->\n",
              "<g id=\"node9\" class=\"node\">\n",
              "<title>&#45;2594690828497855035</title>\n",
              "<path fill=\"none\" stroke=\"black\" stroke-width=\"1.25\" d=\"M104.5,-23C104.5,-23 98.5,-23 98.5,-23 95.5,-23 92.5,-20 92.5,-17 92.5,-17 92.5,-6 92.5,-6 92.5,-3 95.5,0 98.5,0 98.5,0 104.5,0 104.5,0 107.5,0 110.5,-3 110.5,-6 110.5,-6 110.5,-17 110.5,-17 110.5,-20 107.5,-23 104.5,-23\"/>\n",
              "<text text-anchor=\"middle\" x=\"101.5\" y=\"-7.8\" font-family=\"Times,serif\" font-size=\"14.00\">2</text>\n",
              "</g>\n",
              "<!-- &#45;7465668785081448396&#45;&gt;&#45;2594690828497855035 -->\n",
              "<g id=\"edge11\" class=\"edge\">\n",
              "<title>&#45;7465668785081448396&#45;&gt;&#45;2594690828497855035</title>\n",
              "<path fill=\"none\" stroke=\"black\" stroke-width=\"0.5\" d=\"M101.5,-40.84C101.5,-35.34 101.5,-28.65 101.5,-23.14\"/>\n",
              "</g>\n",
              "<!-- 6314943954701811544&#45;&gt;&#45;8299309196165281022 -->\n",
              "<!-- &#45;6662434710310918070 -->\n",
              "<g id=\"node12\" class=\"node\">\n",
              "<title>&#45;6662434710310918070</title>\n",
              "<path fill=\"none\" stroke=\"black\" stroke-width=\"1.25\" d=\"M155.67,-23C155.67,-23 151.33,-23 151.33,-23 149.17,-23 147,-20.83 147,-18.67 147,-18.67 147,-4.33 147,-4.33 147,-2.17 149.17,0 151.33,0 151.33,0 155.67,0 155.67,0 157.83,0 160,-2.17 160,-4.33 160,-4.33 160,-18.67 160,-18.67 160,-20.83 157.83,-23 155.67,-23\"/>\n",
              "<text text-anchor=\"middle\" x=\"153.5\" y=\"-7.8\" font-family=\"Times,serif\" font-size=\"14.00\">.</text>\n",
              "</g>\n",
              "<!-- 6314943954701811544&#45;&gt;&#45;6662434710310918070 -->\n",
              "<g id=\"edge15\" class=\"edge\">\n",
              "<title>6314943954701811544&#45;&gt;&#45;6662434710310918070</title>\n",
              "<path fill=\"none\" stroke=\"black\" stroke-width=\"0.5\" d=\"M153.5,-40.84C153.5,-35.34 153.5,-28.65 153.5,-23.14\"/>\n",
              "</g>\n",
              "<!-- 4637157289701674616 -->\n",
              "<g id=\"node13\" class=\"node\">\n",
              "<title>4637157289701674616</title>\n",
              "<path fill=\"none\" stroke=\"black\" stroke-width=\"1.25\" d=\"M217.5,-23C217.5,-23 211.5,-23 211.5,-23 208.5,-23 205.5,-20 205.5,-17 205.5,-17 205.5,-6 205.5,-6 205.5,-3 208.5,0 211.5,0 211.5,0 217.5,0 217.5,0 220.5,0 223.5,-3 223.5,-6 223.5,-6 223.5,-17 223.5,-17 223.5,-20 220.5,-23 217.5,-23\"/>\n",
              "<text text-anchor=\"middle\" x=\"214.5\" y=\"-7.8\" font-family=\"Times,serif\" font-size=\"14.00\">5</text>\n",
              "</g>\n",
              "<!-- &#45;8299309196165281022&#45;&gt;4637157289701674616 -->\n",
              "<g id=\"edge16\" class=\"edge\">\n",
              "<title>&#45;8299309196165281022&#45;&gt;4637157289701674616</title>\n",
              "<path fill=\"none\" stroke=\"black\" stroke-width=\"0.5\" d=\"M214.5,-40.84C214.5,-35.34 214.5,-28.65 214.5,-23.14\"/>\n",
              "</g>\n",
              "<!-- &#45;752272987783682203&#45;&gt;2407298960126438346 -->\n",
              "<!-- 3566954320790271304 -->\n",
              "<g id=\"node16\" class=\"node\">\n",
              "<title>3566954320790271304</title>\n",
              "<path fill=\"none\" stroke=\"black\" stroke-width=\"0.25\" d=\"M284.33,-64C284.33,-64 270.67,-64 270.67,-64 266.83,-64 263,-60.17 263,-56.33 263,-56.33 263,-48.67 263,-48.67 263,-44.83 266.83,-41 270.67,-41 270.67,-41 284.33,-41 284.33,-41 288.17,-41 292,-44.83 292,-48.67 292,-48.67 292,-56.33 292,-56.33 292,-60.17 288.17,-64 284.33,-64\"/>\n",
              "<text text-anchor=\"middle\" x=\"277.5\" y=\"-48.8\" font-family=\"Times,serif\" font-size=\"14.00\">Ne</text>\n",
              "</g>\n",
              "<!-- &#45;752272987783682203&#45;&gt;3566954320790271304 -->\n",
              "<g id=\"edge20\" class=\"edge\">\n",
              "<title>&#45;752272987783682203&#45;&gt;3566954320790271304</title>\n",
              "<path fill=\"none\" stroke=\"black\" stroke-width=\"0.5\" d=\"M277.5,-81.84C277.5,-76.34 277.5,-69.65 277.5,-64.14\"/>\n",
              "</g>\n",
              "<!-- &#45;1049972258666157803 -->\n",
              "<g id=\"node17\" class=\"node\">\n",
              "<title>&#45;1049972258666157803</title>\n",
              "<path fill=\"none\" stroke=\"black\" stroke-width=\"0.25\" d=\"M343.33,-64C343.33,-64 317.67,-64 317.67,-64 313.83,-64 310,-60.17 310,-56.33 310,-56.33 310,-48.67 310,-48.67 310,-44.83 313.83,-41 317.67,-41 317.67,-41 343.33,-41 343.33,-41 347.17,-41 351,-44.83 351,-48.67 351,-48.67 351,-56.33 351,-56.33 351,-60.17 347.17,-64 343.33,-64\"/>\n",
              "<text text-anchor=\"middle\" x=\"330.5\" y=\"-48.8\" font-family=\"Times,serif\" font-size=\"14.00\">Sign</text>\n",
              "</g>\n",
              "<!-- &#45;752272987783682203&#45;&gt;&#45;1049972258666157803 -->\n",
              "<g id=\"edge21\" class=\"edge\">\n",
              "<title>&#45;752272987783682203&#45;&gt;&#45;1049972258666157803</title>\n",
              "<path fill=\"none\" stroke=\"black\" stroke-width=\"0.5\" d=\"M291.98,-81.84C299.46,-76.34 308.56,-69.65 316.04,-64.14\"/>\n",
              "</g>\n",
              "<!-- 1795144802175269522 -->\n",
              "<g id=\"node20\" class=\"node\">\n",
              "<title>1795144802175269522</title>\n",
              "<path fill=\"none\" stroke=\"black\" stroke-width=\"1.25\" d=\"M381.5,-64C381.5,-64 375.5,-64 375.5,-64 372.5,-64 369.5,-61 369.5,-58 369.5,-58 369.5,-47 369.5,-47 369.5,-44 372.5,-41 375.5,-41 375.5,-41 381.5,-41 381.5,-41 384.5,-41 387.5,-44 387.5,-47 387.5,-47 387.5,-58 387.5,-58 387.5,-61 384.5,-64 381.5,-64\"/>\n",
              "<text text-anchor=\"middle\" x=\"378.5\" y=\"-48.8\" font-family=\"Times,serif\" font-size=\"14.00\">1</text>\n",
              "</g>\n",
              "<!-- 2407298960126438346&#45;&gt;1795144802175269522 -->\n",
              "<g id=\"edge25\" class=\"edge\">\n",
              "<title>2407298960126438346&#45;&gt;1795144802175269522</title>\n",
              "<path fill=\"none\" stroke=\"black\" stroke-width=\"0.5\" d=\"M362.51,-81.84C365.62,-76.34 369.39,-69.65 372.5,-64.14\"/>\n",
              "</g>\n",
              "<!-- 3566954320790271304&#45;&gt;&#45;1049972258666157803 -->\n",
              "<!-- &#45;4037398784935259534 -->\n",
              "<g id=\"node18\" class=\"node\">\n",
              "<title>&#45;4037398784935259534</title>\n",
              "<path fill=\"none\" stroke=\"black\" stroke-width=\"1.25\" d=\"M280.33,-23C280.33,-23 274.67,-23 274.67,-23 271.83,-23 269,-20.17 269,-17.33 269,-17.33 269,-5.67 269,-5.67 269,-2.83 271.83,0 274.67,0 274.67,0 280.33,0 280.33,0 283.17,0 286,-2.83 286,-5.67 286,-5.67 286,-17.33 286,-17.33 286,-20.17 283.17,-23 280.33,-23\"/>\n",
              "<text text-anchor=\"middle\" x=\"277.5\" y=\"-7.8\" font-family=\"Times,serif\" font-size=\"14.00\">e</text>\n",
              "</g>\n",
              "<!-- 3566954320790271304&#45;&gt;&#45;4037398784935259534 -->\n",
              "<g id=\"edge23\" class=\"edge\">\n",
              "<title>3566954320790271304&#45;&gt;&#45;4037398784935259534</title>\n",
              "<path fill=\"none\" stroke=\"black\" stroke-width=\"0.5\" d=\"M277.5,-40.84C277.5,-35.34 277.5,-28.65 277.5,-23.14\"/>\n",
              "</g>\n",
              "<!-- 5167215468857729643 -->\n",
              "<g id=\"node19\" class=\"node\">\n",
              "<title>5167215468857729643</title>\n",
              "<path fill=\"none\" stroke=\"black\" stroke-width=\"1.25\" d=\"M334,-23C334,-23 327,-23 327,-23 323.5,-23 320,-19.5 320,-16 320,-16 320,-7 320,-7 320,-3.5 323.5,0 327,0 327,0 334,0 334,0 337.5,0 341,-3.5 341,-7 341,-7 341,-16 341,-16 341,-19.5 337.5,-23 334,-23\"/>\n",
              "<text text-anchor=\"middle\" x=\"330.5\" y=\"-7.8\" font-family=\"Times,serif\" font-size=\"14.00\">+</text>\n",
              "</g>\n",
              "<!-- &#45;1049972258666157803&#45;&gt;5167215468857729643 -->\n",
              "<g id=\"edge24\" class=\"edge\">\n",
              "<title>&#45;1049972258666157803&#45;&gt;5167215468857729643</title>\n",
              "<path fill=\"none\" stroke=\"black\" stroke-width=\"0.5\" d=\"M330.5,-40.84C330.5,-35.34 330.5,-28.65 330.5,-23.14\"/>\n",
              "</g>\n",
              "</g>\n",
              "</svg>\n"
            ],
            "text/plain": [
              "ProductionGraph(Number -> Number1 Scale’ -> Integer Fraction Scale’ -> Integer Digit Fraction Scale’ -> 3 Digit Fraction Scale’ -> 3 2 Fraction Scale’ -> 3 2 N. Integer Scale’ -> 3 2 . Integer Scale’ -> 3 2 . 5 Scale’ -> 3 2 . 5 Scale’1 Integer -> 3 2 . 5 Ne Sign Integer -> 3 2 . 5 e Sign Integer -> 3 2 . 5 e + Integer -> 3 2 . 5 e + 1)"
            ]
          },
          "execution_count": 1,
          "metadata": {},
          "output_type": "execute_result"
        }
      ],
      "source": [
        "ProductionGraph(d)    "
      ]
    },
    {
      "cell_type": "markdown",
      "metadata": {},
      "source": [
        "Come si possono ottenere le produzioni di una derivazione *rightomst*?"
      ]
    },
    {
      "cell_type": "markdown",
      "metadata": {},
      "source": [
        "## Il parsing in G (non in CNF)? (Sez. 4.2.6)\n",
        "\n",
        "Un primo requisito, per poter effettuare il parsing secondo le produzioni della grammatica originale è non eliminare i simboli improduttivi e irraggiungibili."
      ]
    },
    {
      "cell_type": "code",
      "execution_count": null,
      "metadata": {},
      "outputs": [
        {
          "data": {
            "text/html": [
              "<style>td, th {border: 1pt solid lightgray !important ;}</style><table><tr><th><pre>Number</pre><td style=\"text-align:left\"><pre>0 | 1 | 2 | 3 | 4 | 5 | 6 | 7 | 8 | 9 | Integer Digit | Integer Fraction | Number1 Scale’</pre><tr><th><pre>Digit</pre><td style=\"text-align:left\"><pre>0 | 1 | 2 | 3 | 4 | 5 | 6 | 7 | 8 | 9</pre><tr><th><pre>Empty</pre><td style=\"text-align:left\"><pre>ε</pre><tr><th><pre>Empty’</pre><td style=\"text-align:left\"><pre></pre><tr><th><pre>Fraction</pre><td style=\"text-align:left\"><pre>N. Integer</pre><tr><th><pre>Integer</pre><td style=\"text-align:left\"><pre>0 | 1 | 2 | 3 | 4 | 5 | 6 | 7 | 8 | 9 | Integer Digit</pre><tr><th><pre>N.</pre><td style=\"text-align:left\"><pre>.</pre><tr><th><pre>Ne</pre><td style=\"text-align:left\"><pre>e</pre><tr><th><pre>Number1</pre><td style=\"text-align:left\"><pre>Integer Fraction</pre><tr><th><pre>Real</pre><td style=\"text-align:left\"><pre>Integer Fraction | Real1 Scale’</pre><tr><th><pre>Real1</pre><td style=\"text-align:left\"><pre>Integer Fraction</pre><tr><th><pre>Scale</pre><td style=\"text-align:left\"><pre>Scale1 Integer | ε</pre><tr><th><pre>Scale1</pre><td style=\"text-align:left\"><pre>Ne Sign</pre><tr><th><pre>Scale’</pre><td style=\"text-align:left\"><pre>Scale’1 Integer</pre><tr><th><pre>Scale’1</pre><td style=\"text-align:left\"><pre>Ne Sign</pre><tr><th><pre>Sign</pre><td style=\"text-align:left\"><pre>+ | -</pre></table></table>"
            ],
            "text/plain": [
              "<IPython.core.display.HTML object>"
            ]
          },
          "execution_count": 1,
          "metadata": {},
          "output_type": "execute_result"
        }
      ],
      "source": [
        "# Non effettuiamo la pulizia\n",
        "\n",
        "Gp_cnf = transform_nonsolitary(make_binary(Gp))\n",
        "prods2table(Gp_cnf)"
      ]
    },
    {
      "cell_type": "markdown",
      "metadata": {},
      "source": [
        "Ora calcoliamo la tabella `Rp` e la completiamo con le ε-regole"
      ]
    },
    {
      "cell_type": "code",
      "execution_count": null,
      "metadata": {},
      "outputs": [],
      "source": [
        "# Otteniamo Rp tramite il parsing rispetto alla grammatica non ripulita Gp_cnf\n",
        "\n",
        "INPUT = '32.5e+1'\n",
        "Rp = cyk(Gp_cnf, INPUT)"
      ]
    },
    {
      "cell_type": "code",
      "execution_count": null,
      "metadata": {},
      "outputs": [],
      "source": [
        "# Calcoliamo l'insieme dei simboli A tali che A -> ε\n",
        "\n",
        "Rε = {A for A in Gp_cnf.N if ('ε', ) in Gp_cnf.alternatives(A)}"
      ]
    },
    {
      "cell_type": "code",
      "execution_count": null,
      "metadata": {},
      "outputs": [],
      "source": [
        "# Li aggiungiamo in fondo alla tabella\n",
        "\n",
        "for i in range(len(INPUT) + 2): Rp[(i, 0)] = Rε"
      ]
    },
    {
      "cell_type": "markdown",
      "metadata": {},
      "source": [
        "Ora costruiamo (per una assegnata tabella `R`  e un assegnato `INPUT` la funzione `derives(ω, i, l)` che restituisce una lista se la forma sentenziale corispondete al primo argomento deriva (in base alle informaizoni nella tabella) la sottoparola dell'input lunga `l` che inizia dall'`i`-esimo simbolo, oppure `None`; la lista è un elenco di lungezze, ciascuna delle quali corrisponde a quanti simboli della sottoparola derivano da ciascun non terminale della forma sentenziale."
      ]
    },
    {
      "cell_type": "code",
      "execution_count": null,
      "metadata": {},
      "outputs": [],
      "source": [
        "def make_derives(R, INPUT):\n",
        "    def derives(ω, i, l):\n",
        "        if not ω or ('ε', ) == ω: \n",
        "            return [] if l == 0 else None\n",
        "        X, *χ = ω\n",
        "        if X in G.T:\n",
        "            if i <= len(INPUT) and X == INPUT[i - 1]:\n",
        "                s = derives(χ, i + 1, l - 1)\n",
        "                if s is not None: return [1] + s\n",
        "        else:\n",
        "            for k in range(0, l + 1):\n",
        "                if (i, k) in R and X in R[(i, k)]:\n",
        "                    s = derives(χ, i + k, l - k)\n",
        "                    if s is not None: return [k] + s\n",
        "        return None\n",
        "    return derives"
      ]
    },
    {
      "cell_type": "code",
      "execution_count": null,
      "metadata": {},
      "outputs": [],
      "source": [
        "# costruiamo derive sulla tabella ed input precedenti\n",
        "\n",
        "derives = make_derives(Rp, INPUT)"
      ]
    },
    {
      "cell_type": "code",
      "execution_count": null,
      "metadata": {},
      "outputs": [
        {
          "data": {
            "text/plain": [
              "[2, 2, 3]"
            ]
          },
          "execution_count": 1,
          "metadata": {},
          "output_type": "execute_result"
        }
      ],
      "source": [
        "# una prova di esecuzione \n",
        "\n",
        "derives(['Integer', 'Fraction', 'Scale'], 1, len(INPUT))"
      ]
    },
    {
      "cell_type": "markdown",
      "metadata": {},
      "source": [
        "I tre non terminali (che sono il lato destro della produzione `Real -> Integer Fraction Scale`) producono l'input (ossia tutti e 7 i suoi simboli a partire dal primo) e più precisamente:\n",
        "\n",
        "- `Integer` produrrà '35' (una sottoparola lunga 2),\n",
        "- `Fraction` produrrà '.5' (una sottoparola lunga 2),\n",
        "- `Scale` produrrà 'e+1', (una sottoparola lunga 3).\n",
        "\n",
        "Una volta scritta la suddetta funzione basta seguire l'algoritmo descritto a partire da pag. 115."
      ]
    },
    {
      "cell_type": "code",
      "execution_count": null,
      "metadata": {},
      "outputs": [],
      "source": [
        "def get_original_leftmost_prods(G, derives, N):\n",
        "    def prods(X, i, l):\n",
        "        if X in G.T: return []\n",
        "        for A, α in filter(Production.such_that(lhs = X), G.P):\n",
        "            d = derives(α, i, l)\n",
        "            if d is None: continue\n",
        "            res = [G.P.index(Production(A, α))]\n",
        "            for B, l in zip(α, d): \n",
        "                res.extend(prods(B, i, l))\n",
        "                i += l\n",
        "            return res\n",
        "    return prods(G.S, 1, N)"
      ]
    },
    {
      "cell_type": "markdown",
      "metadata": {},
      "source": [
        "Ora possiamo costruire (le produzioni, la derivazione e) l'albero nella grammatica originale!"
      ]
    },
    {
      "cell_type": "code",
      "execution_count": null,
      "metadata": {},
      "outputs": [
        {
          "data": {
            "text/plain": [
              "[1, 4, 3, 2, 11, 10, 5, 2, 13, 6, 18, 2, 9]"
            ]
          },
          "execution_count": 1,
          "metadata": {},
          "output_type": "execute_result"
        }
      ],
      "source": [
        "# le produzioni\n",
        "\n",
        "leftmost_prods = get_original_leftmost_prods(G, derives, len(INPUT))\n",
        "leftmost_prods"
      ]
    },
    {
      "cell_type": "code",
      "execution_count": null,
      "metadata": {},
      "outputs": [
        {
          "data": {
            "text/plain": [
              "Number -> Real -> Integer Fraction Scale -> Integer Digit Fraction Scale -> Digit Digit Fraction Scale -> 3 Digit Fraction Scale -> 3 2 Fraction Scale -> 3 2 . Integer Scale -> 3 2 . Digit Scale -> 3 2 . 5 Scale -> 3 2 . 5 e Sign Integer -> 3 2 . 5 e + Integer -> 3 2 . 5 e + Digit -> 3 2 . 5 e + 1"
            ]
          },
          "execution_count": 1,
          "metadata": {},
          "output_type": "execute_result"
        }
      ],
      "source": [
        "# la derivazione\n",
        "\n",
        "d = Derivation(G).leftmost(leftmost_prods)\n",
        "d"
      ]
    },
    {
      "cell_type": "code",
      "execution_count": null,
      "metadata": {},
      "outputs": [
        {
          "data": {
            "image/svg+xml": [
              "<?xml version=\"1.0\" encoding=\"UTF-8\" standalone=\"no\"?>\n",
              "<!DOCTYPE svg PUBLIC \"-//W3C//DTD SVG 1.1//EN\"\n",
              " \"http://www.w3.org/Graphics/SVG/1.1/DTD/svg11.dtd\">\n",
              "<!-- Generated by graphviz version 2.43.0 (0)\n",
              " -->\n",
              "<!-- Title: %3 Pages: 1 -->\n",
              "<svg width=\"415pt\" height=\"236pt\"\n",
              " viewBox=\"0.00 0.00 415.00 236.00\" xmlns=\"http://www.w3.org/2000/svg\" xmlns:xlink=\"http://www.w3.org/1999/xlink\">\n",
              "<g id=\"graph0\" class=\"graph\" transform=\"scale(1 1) rotate(0) translate(4 232)\">\n",
              "<title>%3</title>\n",
              "<polygon fill=\"white\" stroke=\"transparent\" points=\"-4,4 -4,-232 411,-232 411,4 -4,4\"/>\n",
              "<!-- &#45;2792687650906736141 -->\n",
              "<g id=\"node1\" class=\"node\">\n",
              "<title>&#45;2792687650906736141</title>\n",
              "<path fill=\"none\" stroke=\"black\" stroke-width=\"0.25\" d=\"M210.33,-228C210.33,-228 158.67,-228 158.67,-228 154.83,-228 151,-224.17 151,-220.33 151,-220.33 151,-212.67 151,-212.67 151,-208.83 154.83,-205 158.67,-205 158.67,-205 210.33,-205 210.33,-205 214.17,-205 218,-208.83 218,-212.67 218,-212.67 218,-220.33 218,-220.33 218,-224.17 214.17,-228 210.33,-228\"/>\n",
              "<text text-anchor=\"middle\" x=\"184.5\" y=\"-212.8\" font-family=\"Times,serif\" font-size=\"14.00\">Number</text>\n",
              "</g>\n",
              "<!-- &#45;5628020473749181041 -->\n",
              "<g id=\"node2\" class=\"node\">\n",
              "<title>&#45;5628020473749181041</title>\n",
              "<path fill=\"none\" stroke=\"black\" stroke-width=\"0.25\" d=\"M196.83,-187C196.83,-187 172.17,-187 172.17,-187 168.33,-187 164.5,-183.17 164.5,-179.33 164.5,-179.33 164.5,-171.67 164.5,-171.67 164.5,-167.83 168.33,-164 172.17,-164 172.17,-164 196.83,-164 196.83,-164 200.67,-164 204.5,-167.83 204.5,-171.67 204.5,-171.67 204.5,-179.33 204.5,-179.33 204.5,-183.17 200.67,-187 196.83,-187\"/>\n",
              "<text text-anchor=\"middle\" x=\"184.5\" y=\"-171.8\" font-family=\"Times,serif\" font-size=\"14.00\">Real</text>\n",
              "</g>\n",
              "<!-- &#45;2792687650906736141&#45;&gt;&#45;5628020473749181041 -->\n",
              "<g id=\"edge1\" class=\"edge\">\n",
              "<title>&#45;2792687650906736141&#45;&gt;&#45;5628020473749181041</title>\n",
              "<path fill=\"none\" stroke=\"black\" stroke-width=\"0.5\" d=\"M184.5,-204.84C184.5,-199.34 184.5,-192.65 184.5,-187.14\"/>\n",
              "</g>\n",
              "<!-- &#45;5516247901739140460 -->\n",
              "<g id=\"node3\" class=\"node\">\n",
              "<title>&#45;5516247901739140460</title>\n",
              "<path fill=\"none\" stroke=\"black\" stroke-width=\"0.25\" d=\"M124.33,-146C124.33,-146 78.67,-146 78.67,-146 74.83,-146 71,-142.17 71,-138.33 71,-138.33 71,-130.67 71,-130.67 71,-126.83 74.83,-123 78.67,-123 78.67,-123 124.33,-123 124.33,-123 128.17,-123 132,-126.83 132,-130.67 132,-130.67 132,-138.33 132,-138.33 132,-142.17 128.17,-146 124.33,-146\"/>\n",
              "<text text-anchor=\"middle\" x=\"101.5\" y=\"-130.8\" font-family=\"Times,serif\" font-size=\"14.00\">Integer</text>\n",
              "</g>\n",
              "<!-- &#45;5628020473749181041&#45;&gt;&#45;5516247901739140460 -->\n",
              "<g id=\"edge2\" class=\"edge\">\n",
              "<title>&#45;5628020473749181041&#45;&gt;&#45;5516247901739140460</title>\n",
              "<path fill=\"none\" stroke=\"black\" stroke-width=\"0.5\" d=\"M164.41,-165.06C152.22,-159.33 136.64,-152.01 124.04,-146.09\"/>\n",
              "</g>\n",
              "<!-- &#45;3054940201008428447 -->\n",
              "<g id=\"node4\" class=\"node\">\n",
              "<title>&#45;3054940201008428447</title>\n",
              "<path fill=\"none\" stroke=\"black\" stroke-width=\"0.25\" d=\"M211.33,-146C211.33,-146 157.67,-146 157.67,-146 153.83,-146 150,-142.17 150,-138.33 150,-138.33 150,-130.67 150,-130.67 150,-126.83 153.83,-123 157.67,-123 157.67,-123 211.33,-123 211.33,-123 215.17,-123 219,-126.83 219,-130.67 219,-130.67 219,-138.33 219,-138.33 219,-142.17 215.17,-146 211.33,-146\"/>\n",
              "<text text-anchor=\"middle\" x=\"184.5\" y=\"-130.8\" font-family=\"Times,serif\" font-size=\"14.00\">Fraction</text>\n",
              "</g>\n",
              "<!-- &#45;5628020473749181041&#45;&gt;&#45;3054940201008428447 -->\n",
              "<g id=\"edge3\" class=\"edge\">\n",
              "<title>&#45;5628020473749181041&#45;&gt;&#45;3054940201008428447</title>\n",
              "<path fill=\"none\" stroke=\"black\" stroke-width=\"0.5\" d=\"M184.5,-163.84C184.5,-158.34 184.5,-151.65 184.5,-146.14\"/>\n",
              "</g>\n",
              "<!-- 5946621864753180528 -->\n",
              "<g id=\"node5\" class=\"node\">\n",
              "<title>5946621864753180528</title>\n",
              "<path fill=\"none\" stroke=\"black\" stroke-width=\"0.25\" d=\"M276.33,-146C276.33,-146 244.67,-146 244.67,-146 240.83,-146 237,-142.17 237,-138.33 237,-138.33 237,-130.67 237,-130.67 237,-126.83 240.83,-123 244.67,-123 244.67,-123 276.33,-123 276.33,-123 280.17,-123 284,-126.83 284,-130.67 284,-130.67 284,-138.33 284,-138.33 284,-142.17 280.17,-146 276.33,-146\"/>\n",
              "<text text-anchor=\"middle\" x=\"260.5\" y=\"-130.8\" font-family=\"Times,serif\" font-size=\"14.00\">Scale</text>\n",
              "</g>\n",
              "<!-- &#45;5628020473749181041&#45;&gt;5946621864753180528 -->\n",
              "<g id=\"edge4\" class=\"edge\">\n",
              "<title>&#45;5628020473749181041&#45;&gt;5946621864753180528</title>\n",
              "<path fill=\"none\" stroke=\"black\" stroke-width=\"0.5\" d=\"M204.87,-164.05C215.68,-158.5 228.95,-151.69 239.81,-146.12\"/>\n",
              "</g>\n",
              "<!-- &#45;5516247901739140460&#45;&gt;&#45;3054940201008428447 -->\n",
              "<!-- 4823298737963293374 -->\n",
              "<g id=\"node6\" class=\"node\">\n",
              "<title>4823298737963293374</title>\n",
              "<path fill=\"none\" stroke=\"black\" stroke-width=\"0.25\" d=\"M53.33,-105C53.33,-105 7.67,-105 7.67,-105 3.83,-105 0,-101.17 0,-97.33 0,-97.33 0,-89.67 0,-89.67 0,-85.83 3.83,-82 7.67,-82 7.67,-82 53.33,-82 53.33,-82 57.17,-82 61,-85.83 61,-89.67 61,-89.67 61,-97.33 61,-97.33 61,-101.17 57.17,-105 53.33,-105\"/>\n",
              "<text text-anchor=\"middle\" x=\"30.5\" y=\"-89.8\" font-family=\"Times,serif\" font-size=\"14.00\">Integer</text>\n",
              "</g>\n",
              "<!-- &#45;5516247901739140460&#45;&gt;4823298737963293374 -->\n",
              "<g id=\"edge7\" class=\"edge\">\n",
              "<title>&#45;5516247901739140460&#45;&gt;4823298737963293374</title>\n",
              "<path fill=\"none\" stroke=\"black\" stroke-width=\"0.5\" d=\"M82.1,-122.84C72.08,-117.34 59.89,-110.65 49.88,-105.14\"/>\n",
              "</g>\n",
              "<!-- &#45;7465668785081448396 -->\n",
              "<g id=\"node7\" class=\"node\">\n",
              "<title>&#45;7465668785081448396</title>\n",
              "<path fill=\"none\" stroke=\"black\" stroke-width=\"0.25\" d=\"M115.83,-105C115.83,-105 87.17,-105 87.17,-105 83.33,-105 79.5,-101.17 79.5,-97.33 79.5,-97.33 79.5,-89.67 79.5,-89.67 79.5,-85.83 83.33,-82 87.17,-82 87.17,-82 115.83,-82 115.83,-82 119.67,-82 123.5,-85.83 123.5,-89.67 123.5,-89.67 123.5,-97.33 123.5,-97.33 123.5,-101.17 119.67,-105 115.83,-105\"/>\n",
              "<text text-anchor=\"middle\" x=\"101.5\" y=\"-89.8\" font-family=\"Times,serif\" font-size=\"14.00\">Digit</text>\n",
              "</g>\n",
              "<!-- &#45;5516247901739140460&#45;&gt;&#45;7465668785081448396 -->\n",
              "<g id=\"edge8\" class=\"edge\">\n",
              "<title>&#45;5516247901739140460&#45;&gt;&#45;7465668785081448396</title>\n",
              "<path fill=\"none\" stroke=\"black\" stroke-width=\"0.5\" d=\"M101.5,-122.84C101.5,-117.34 101.5,-110.65 101.5,-105.14\"/>\n",
              "</g>\n",
              "<!-- &#45;3054940201008428447&#45;&gt;5946621864753180528 -->\n",
              "<!-- &#45;6662434710310918070 -->\n",
              "<g id=\"node11\" class=\"node\">\n",
              "<title>&#45;6662434710310918070</title>\n",
              "<path fill=\"none\" stroke=\"black\" stroke-width=\"1.25\" d=\"M150.67,-105C150.67,-105 146.33,-105 146.33,-105 144.17,-105 142,-102.83 142,-100.67 142,-100.67 142,-86.33 142,-86.33 142,-84.17 144.17,-82 146.33,-82 146.33,-82 150.67,-82 150.67,-82 152.83,-82 155,-84.17 155,-86.33 155,-86.33 155,-100.67 155,-100.67 155,-102.83 152.83,-105 150.67,-105\"/>\n",
              "<text text-anchor=\"middle\" x=\"148.5\" y=\"-89.8\" font-family=\"Times,serif\" font-size=\"14.00\">.</text>\n",
              "</g>\n",
              "<!-- &#45;3054940201008428447&#45;&gt;&#45;6662434710310918070 -->\n",
              "<g id=\"edge13\" class=\"edge\">\n",
              "<title>&#45;3054940201008428447&#45;&gt;&#45;6662434710310918070</title>\n",
              "<path fill=\"none\" stroke=\"black\" stroke-width=\"0.5\" d=\"M174.66,-122.84C168.5,-116.17 160.72,-107.74 155.25,-101.81\"/>\n",
              "</g>\n",
              "<!-- 7710377030804024901 -->\n",
              "<g id=\"node12\" class=\"node\">\n",
              "<title>7710377030804024901</title>\n",
              "<path fill=\"none\" stroke=\"black\" stroke-width=\"0.25\" d=\"M226.33,-105C226.33,-105 180.67,-105 180.67,-105 176.83,-105 173,-101.17 173,-97.33 173,-97.33 173,-89.67 173,-89.67 173,-85.83 176.83,-82 180.67,-82 180.67,-82 226.33,-82 226.33,-82 230.17,-82 234,-85.83 234,-89.67 234,-89.67 234,-97.33 234,-97.33 234,-101.17 230.17,-105 226.33,-105\"/>\n",
              "<text text-anchor=\"middle\" x=\"203.5\" y=\"-89.8\" font-family=\"Times,serif\" font-size=\"14.00\">Integer</text>\n",
              "</g>\n",
              "<!-- &#45;3054940201008428447&#45;&gt;7710377030804024901 -->\n",
              "<g id=\"edge14\" class=\"edge\">\n",
              "<title>&#45;3054940201008428447&#45;&gt;7710377030804024901</title>\n",
              "<path fill=\"none\" stroke=\"black\" stroke-width=\"0.5\" d=\"M189.69,-122.84C192.37,-117.34 195.63,-110.65 198.31,-105.14\"/>\n",
              "</g>\n",
              "<!-- &#45;1600340938195013841 -->\n",
              "<g id=\"node15\" class=\"node\">\n",
              "<title>&#45;1600340938195013841</title>\n",
              "<path fill=\"none\" stroke=\"black\" stroke-width=\"1.25\" d=\"M263.33,-105C263.33,-105 257.67,-105 257.67,-105 254.83,-105 252,-102.17 252,-99.33 252,-99.33 252,-87.67 252,-87.67 252,-84.83 254.83,-82 257.67,-82 257.67,-82 263.33,-82 263.33,-82 266.17,-82 269,-84.83 269,-87.67 269,-87.67 269,-99.33 269,-99.33 269,-102.17 266.17,-105 263.33,-105\"/>\n",
              "<text text-anchor=\"middle\" x=\"260.5\" y=\"-89.8\" font-family=\"Times,serif\" font-size=\"14.00\">e</text>\n",
              "</g>\n",
              "<!-- 5946621864753180528&#45;&gt;&#45;1600340938195013841 -->\n",
              "<g id=\"edge18\" class=\"edge\">\n",
              "<title>5946621864753180528&#45;&gt;&#45;1600340938195013841</title>\n",
              "<path fill=\"none\" stroke=\"black\" stroke-width=\"0.5\" d=\"M260.5,-122.84C260.5,-117.34 260.5,-110.65 260.5,-105.14\"/>\n",
              "</g>\n",
              "<!-- &#45;1049972258666157803 -->\n",
              "<g id=\"node16\" class=\"node\">\n",
              "<title>&#45;1049972258666157803</title>\n",
              "<path fill=\"none\" stroke=\"black\" stroke-width=\"0.25\" d=\"M320.33,-105C320.33,-105 294.67,-105 294.67,-105 290.83,-105 287,-101.17 287,-97.33 287,-97.33 287,-89.67 287,-89.67 287,-85.83 290.83,-82 294.67,-82 294.67,-82 320.33,-82 320.33,-82 324.17,-82 328,-85.83 328,-89.67 328,-89.67 328,-97.33 328,-97.33 328,-101.17 324.17,-105 320.33,-105\"/>\n",
              "<text text-anchor=\"middle\" x=\"307.5\" y=\"-89.8\" font-family=\"Times,serif\" font-size=\"14.00\">Sign</text>\n",
              "</g>\n",
              "<!-- 5946621864753180528&#45;&gt;&#45;1049972258666157803 -->\n",
              "<g id=\"edge19\" class=\"edge\">\n",
              "<title>5946621864753180528&#45;&gt;&#45;1049972258666157803</title>\n",
              "<path fill=\"none\" stroke=\"black\" stroke-width=\"0.5\" d=\"M273.34,-122.84C279.97,-117.34 288.04,-110.65 294.67,-105.14\"/>\n",
              "</g>\n",
              "<!-- 6477881869488191078 -->\n",
              "<g id=\"node17\" class=\"node\">\n",
              "<title>6477881869488191078</title>\n",
              "<path fill=\"none\" stroke=\"black\" stroke-width=\"0.25\" d=\"M399.33,-105C399.33,-105 353.67,-105 353.67,-105 349.83,-105 346,-101.17 346,-97.33 346,-97.33 346,-89.67 346,-89.67 346,-85.83 349.83,-82 353.67,-82 353.67,-82 399.33,-82 399.33,-82 403.17,-82 407,-85.83 407,-89.67 407,-89.67 407,-97.33 407,-97.33 407,-101.17 403.17,-105 399.33,-105\"/>\n",
              "<text text-anchor=\"middle\" x=\"376.5\" y=\"-89.8\" font-family=\"Times,serif\" font-size=\"14.00\">Integer</text>\n",
              "</g>\n",
              "<!-- 5946621864753180528&#45;&gt;6477881869488191078 -->\n",
              "<g id=\"edge20\" class=\"edge\">\n",
              "<title>5946621864753180528&#45;&gt;6477881869488191078</title>\n",
              "<path fill=\"none\" stroke=\"black\" stroke-width=\"0.5\" d=\"M284.25,-125.51C302.02,-119.54 326.46,-111.32 345.72,-104.85\"/>\n",
              "</g>\n",
              "<!-- 4823298737963293374&#45;&gt;&#45;7465668785081448396 -->\n",
              "<!-- 1607414308588763933 -->\n",
              "<g id=\"node8\" class=\"node\">\n",
              "<title>1607414308588763933</title>\n",
              "<path fill=\"none\" stroke=\"black\" stroke-width=\"0.25\" d=\"M44.83,-64C44.83,-64 16.17,-64 16.17,-64 12.33,-64 8.5,-60.17 8.5,-56.33 8.5,-56.33 8.5,-48.67 8.5,-48.67 8.5,-44.83 12.33,-41 16.17,-41 16.17,-41 44.83,-41 44.83,-41 48.67,-41 52.5,-44.83 52.5,-48.67 52.5,-48.67 52.5,-56.33 52.5,-56.33 52.5,-60.17 48.67,-64 44.83,-64\"/>\n",
              "<text text-anchor=\"middle\" x=\"30.5\" y=\"-48.8\" font-family=\"Times,serif\" font-size=\"14.00\">Digit</text>\n",
              "</g>\n",
              "<!-- 4823298737963293374&#45;&gt;1607414308588763933 -->\n",
              "<g id=\"edge10\" class=\"edge\">\n",
              "<title>4823298737963293374&#45;&gt;1607414308588763933</title>\n",
              "<path fill=\"none\" stroke=\"black\" stroke-width=\"0.5\" d=\"M30.5,-81.84C30.5,-76.34 30.5,-69.65 30.5,-64.14\"/>\n",
              "</g>\n",
              "<!-- 2014280613396756097 -->\n",
              "<g id=\"node10\" class=\"node\">\n",
              "<title>2014280613396756097</title>\n",
              "<path fill=\"none\" stroke=\"black\" stroke-width=\"1.25\" d=\"M104.5,-64C104.5,-64 98.5,-64 98.5,-64 95.5,-64 92.5,-61 92.5,-58 92.5,-58 92.5,-47 92.5,-47 92.5,-44 95.5,-41 98.5,-41 98.5,-41 104.5,-41 104.5,-41 107.5,-41 110.5,-44 110.5,-47 110.5,-47 110.5,-58 110.5,-58 110.5,-61 107.5,-64 104.5,-64\"/>\n",
              "<text text-anchor=\"middle\" x=\"101.5\" y=\"-48.8\" font-family=\"Times,serif\" font-size=\"14.00\">2</text>\n",
              "</g>\n",
              "<!-- &#45;7465668785081448396&#45;&gt;2014280613396756097 -->\n",
              "<g id=\"edge12\" class=\"edge\">\n",
              "<title>&#45;7465668785081448396&#45;&gt;2014280613396756097</title>\n",
              "<path fill=\"none\" stroke=\"black\" stroke-width=\"0.5\" d=\"M101.5,-81.84C101.5,-76.34 101.5,-69.65 101.5,-64.14\"/>\n",
              "</g>\n",
              "<!-- 3317155602286694398 -->\n",
              "<g id=\"node9\" class=\"node\">\n",
              "<title>3317155602286694398</title>\n",
              "<path fill=\"none\" stroke=\"black\" stroke-width=\"1.25\" d=\"M33.5,-23C33.5,-23 27.5,-23 27.5,-23 24.5,-23 21.5,-20 21.5,-17 21.5,-17 21.5,-6 21.5,-6 21.5,-3 24.5,0 27.5,0 27.5,0 33.5,0 33.5,0 36.5,0 39.5,-3 39.5,-6 39.5,-6 39.5,-17 39.5,-17 39.5,-20 36.5,-23 33.5,-23\"/>\n",
              "<text text-anchor=\"middle\" x=\"30.5\" y=\"-7.8\" font-family=\"Times,serif\" font-size=\"14.00\">3</text>\n",
              "</g>\n",
              "<!-- 1607414308588763933&#45;&gt;3317155602286694398 -->\n",
              "<g id=\"edge11\" class=\"edge\">\n",
              "<title>1607414308588763933&#45;&gt;3317155602286694398</title>\n",
              "<path fill=\"none\" stroke=\"black\" stroke-width=\"0.5\" d=\"M30.5,-40.84C30.5,-35.34 30.5,-28.65 30.5,-23.14\"/>\n",
              "</g>\n",
              "<!-- &#45;6662434710310918070&#45;&gt;7710377030804024901 -->\n",
              "<!-- &#45;4171422072584945880 -->\n",
              "<g id=\"node13\" class=\"node\">\n",
              "<title>&#45;4171422072584945880</title>\n",
              "<path fill=\"none\" stroke=\"black\" stroke-width=\"0.25\" d=\"M217.83,-64C217.83,-64 189.17,-64 189.17,-64 185.33,-64 181.5,-60.17 181.5,-56.33 181.5,-56.33 181.5,-48.67 181.5,-48.67 181.5,-44.83 185.33,-41 189.17,-41 189.17,-41 217.83,-41 217.83,-41 221.67,-41 225.5,-44.83 225.5,-48.67 225.5,-48.67 225.5,-56.33 225.5,-56.33 225.5,-60.17 221.67,-64 217.83,-64\"/>\n",
              "<text text-anchor=\"middle\" x=\"203.5\" y=\"-48.8\" font-family=\"Times,serif\" font-size=\"14.00\">Digit</text>\n",
              "</g>\n",
              "<!-- 7710377030804024901&#45;&gt;&#45;4171422072584945880 -->\n",
              "<g id=\"edge16\" class=\"edge\">\n",
              "<title>7710377030804024901&#45;&gt;&#45;4171422072584945880</title>\n",
              "<path fill=\"none\" stroke=\"black\" stroke-width=\"0.5\" d=\"M203.5,-81.84C203.5,-76.34 203.5,-69.65 203.5,-64.14\"/>\n",
              "</g>\n",
              "<!-- &#45;2627220317220034374 -->\n",
              "<g id=\"node14\" class=\"node\">\n",
              "<title>&#45;2627220317220034374</title>\n",
              "<path fill=\"none\" stroke=\"black\" stroke-width=\"1.25\" d=\"M206.5,-23C206.5,-23 200.5,-23 200.5,-23 197.5,-23 194.5,-20 194.5,-17 194.5,-17 194.5,-6 194.5,-6 194.5,-3 197.5,0 200.5,0 200.5,0 206.5,0 206.5,0 209.5,0 212.5,-3 212.5,-6 212.5,-6 212.5,-17 212.5,-17 212.5,-20 209.5,-23 206.5,-23\"/>\n",
              "<text text-anchor=\"middle\" x=\"203.5\" y=\"-7.8\" font-family=\"Times,serif\" font-size=\"14.00\">5</text>\n",
              "</g>\n",
              "<!-- &#45;4171422072584945880&#45;&gt;&#45;2627220317220034374 -->\n",
              "<g id=\"edge17\" class=\"edge\">\n",
              "<title>&#45;4171422072584945880&#45;&gt;&#45;2627220317220034374</title>\n",
              "<path fill=\"none\" stroke=\"black\" stroke-width=\"0.5\" d=\"M203.5,-40.84C203.5,-35.34 203.5,-28.65 203.5,-23.14\"/>\n",
              "</g>\n",
              "<!-- &#45;1600340938195013841&#45;&gt;&#45;1049972258666157803 -->\n",
              "<!-- &#45;1049972258666157803&#45;&gt;6477881869488191078 -->\n",
              "<!-- 1873698117790152634 -->\n",
              "<g id=\"node18\" class=\"node\">\n",
              "<title>1873698117790152634</title>\n",
              "<path fill=\"none\" stroke=\"black\" stroke-width=\"1.25\" d=\"M311,-64C311,-64 304,-64 304,-64 300.5,-64 297,-60.5 297,-57 297,-57 297,-48 297,-48 297,-44.5 300.5,-41 304,-41 304,-41 311,-41 311,-41 314.5,-41 318,-44.5 318,-48 318,-48 318,-57 318,-57 318,-60.5 314.5,-64 311,-64\"/>\n",
              "<text text-anchor=\"middle\" x=\"307.5\" y=\"-48.8\" font-family=\"Times,serif\" font-size=\"14.00\">+</text>\n",
              "</g>\n",
              "<!-- &#45;1049972258666157803&#45;&gt;1873698117790152634 -->\n",
              "<g id=\"edge23\" class=\"edge\">\n",
              "<title>&#45;1049972258666157803&#45;&gt;1873698117790152634</title>\n",
              "<path fill=\"none\" stroke=\"black\" stroke-width=\"0.5\" d=\"M307.5,-81.84C307.5,-76.34 307.5,-69.65 307.5,-64.14\"/>\n",
              "</g>\n",
              "<!-- &#45;2061409338038390076 -->\n",
              "<g id=\"node19\" class=\"node\">\n",
              "<title>&#45;2061409338038390076</title>\n",
              "<path fill=\"none\" stroke=\"black\" stroke-width=\"0.25\" d=\"M390.83,-64C390.83,-64 362.17,-64 362.17,-64 358.33,-64 354.5,-60.17 354.5,-56.33 354.5,-56.33 354.5,-48.67 354.5,-48.67 354.5,-44.83 358.33,-41 362.17,-41 362.17,-41 390.83,-41 390.83,-41 394.67,-41 398.5,-44.83 398.5,-48.67 398.5,-48.67 398.5,-56.33 398.5,-56.33 398.5,-60.17 394.67,-64 390.83,-64\"/>\n",
              "<text text-anchor=\"middle\" x=\"376.5\" y=\"-48.8\" font-family=\"Times,serif\" font-size=\"14.00\">Digit</text>\n",
              "</g>\n",
              "<!-- 6477881869488191078&#45;&gt;&#45;2061409338038390076 -->\n",
              "<g id=\"edge24\" class=\"edge\">\n",
              "<title>6477881869488191078&#45;&gt;&#45;2061409338038390076</title>\n",
              "<path fill=\"none\" stroke=\"black\" stroke-width=\"0.5\" d=\"M376.5,-81.84C376.5,-76.34 376.5,-69.65 376.5,-64.14\"/>\n",
              "</g>\n",
              "<!-- 1795144802175269522 -->\n",
              "<g id=\"node20\" class=\"node\">\n",
              "<title>1795144802175269522</title>\n",
              "<path fill=\"none\" stroke=\"black\" stroke-width=\"1.25\" d=\"M379.5,-23C379.5,-23 373.5,-23 373.5,-23 370.5,-23 367.5,-20 367.5,-17 367.5,-17 367.5,-6 367.5,-6 367.5,-3 370.5,0 373.5,0 373.5,0 379.5,0 379.5,0 382.5,0 385.5,-3 385.5,-6 385.5,-6 385.5,-17 385.5,-17 385.5,-20 382.5,-23 379.5,-23\"/>\n",
              "<text text-anchor=\"middle\" x=\"376.5\" y=\"-7.8\" font-family=\"Times,serif\" font-size=\"14.00\">1</text>\n",
              "</g>\n",
              "<!-- &#45;2061409338038390076&#45;&gt;1795144802175269522 -->\n",
              "<g id=\"edge25\" class=\"edge\">\n",
              "<title>&#45;2061409338038390076&#45;&gt;1795144802175269522</title>\n",
              "<path fill=\"none\" stroke=\"black\" stroke-width=\"0.5\" d=\"M376.5,-40.84C376.5,-35.34 376.5,-28.65 376.5,-23.14\"/>\n",
              "</g>\n",
              "</g>\n",
              "</svg>\n"
            ],
            "text/plain": [
              "ProductionGraph(Number -> Real -> Integer Fraction Scale -> Integer Digit Fraction Scale -> Digit Digit Fraction Scale -> 3 Digit Fraction Scale -> 3 2 Fraction Scale -> 3 2 . Integer Scale -> 3 2 . Digit Scale -> 3 2 . 5 Scale -> 3 2 . 5 e Sign Integer -> 3 2 . 5 e + Integer -> 3 2 . 5 e + Digit -> 3 2 . 5 e + 1)"
            ]
          },
          "execution_count": 1,
          "metadata": {},
          "output_type": "execute_result"
        }
      ],
      "source": [
        "# l'albero\n",
        "\n",
        "ProductionGraph(d)"
      ]
    },
    {
      "cell_type": "markdown",
      "metadata": {},
      "source": [
        "### E le ε-produzioni?"
      ]
    },
    {
      "cell_type": "code",
      "execution_count": null,
      "metadata": {},
      "outputs": [],
      "source": [
        "INPUT = tuple('32.5')"
      ]
    },
    {
      "cell_type": "code",
      "execution_count": null,
      "metadata": {},
      "outputs": [],
      "source": [
        "Rp = cyk(Gp_cnf, INPUT)\n",
        "Rε = {A for A in Gp_cnf.N if ('ε', ) in Gp_cnf.alternatives(A)}\n",
        "for i in range(len(INPUT) + 2): Rp[(i, 0)] = Rε"
      ]
    },
    {
      "cell_type": "code",
      "execution_count": null,
      "metadata": {},
      "outputs": [],
      "source": [
        "leftmost_prods = get_original_leftmost_prods(G, make_derives(Rp, INPUT), len(INPUT))"
      ]
    },
    {
      "cell_type": "code",
      "execution_count": null,
      "metadata": {},
      "outputs": [
        {
          "data": {
            "image/svg+xml": [
              "<?xml version=\"1.0\" encoding=\"UTF-8\" standalone=\"no\"?>\n",
              "<!DOCTYPE svg PUBLIC \"-//W3C//DTD SVG 1.1//EN\"\n",
              " \"http://www.w3.org/Graphics/SVG/1.1/DTD/svg11.dtd\">\n",
              "<!-- Generated by graphviz version 2.43.0 (0)\n",
              " -->\n",
              "<!-- Title: %3 Pages: 1 -->\n",
              "<svg width=\"317pt\" height=\"236pt\"\n",
              " viewBox=\"0.00 0.00 316.50 236.00\" xmlns=\"http://www.w3.org/2000/svg\" xmlns:xlink=\"http://www.w3.org/1999/xlink\">\n",
              "<g id=\"graph0\" class=\"graph\" transform=\"scale(1 1) rotate(0) translate(4 232)\">\n",
              "<title>%3</title>\n",
              "<polygon fill=\"white\" stroke=\"transparent\" points=\"-4,4 -4,-232 312.5,-232 312.5,4 -4,4\"/>\n",
              "<!-- &#45;2792687650906736141 -->\n",
              "<g id=\"node1\" class=\"node\">\n",
              "<title>&#45;2792687650906736141</title>\n",
              "<path fill=\"none\" stroke=\"black\" stroke-width=\"0.25\" d=\"M210.33,-228C210.33,-228 158.67,-228 158.67,-228 154.83,-228 151,-224.17 151,-220.33 151,-220.33 151,-212.67 151,-212.67 151,-208.83 154.83,-205 158.67,-205 158.67,-205 210.33,-205 210.33,-205 214.17,-205 218,-208.83 218,-212.67 218,-212.67 218,-220.33 218,-220.33 218,-224.17 214.17,-228 210.33,-228\"/>\n",
              "<text text-anchor=\"middle\" x=\"184.5\" y=\"-212.8\" font-family=\"Times,serif\" font-size=\"14.00\">Number</text>\n",
              "</g>\n",
              "<!-- &#45;5628020473749181041 -->\n",
              "<g id=\"node2\" class=\"node\">\n",
              "<title>&#45;5628020473749181041</title>\n",
              "<path fill=\"none\" stroke=\"black\" stroke-width=\"0.25\" d=\"M196.83,-187C196.83,-187 172.17,-187 172.17,-187 168.33,-187 164.5,-183.17 164.5,-179.33 164.5,-179.33 164.5,-171.67 164.5,-171.67 164.5,-167.83 168.33,-164 172.17,-164 172.17,-164 196.83,-164 196.83,-164 200.67,-164 204.5,-167.83 204.5,-171.67 204.5,-171.67 204.5,-179.33 204.5,-179.33 204.5,-183.17 200.67,-187 196.83,-187\"/>\n",
              "<text text-anchor=\"middle\" x=\"184.5\" y=\"-171.8\" font-family=\"Times,serif\" font-size=\"14.00\">Real</text>\n",
              "</g>\n",
              "<!-- &#45;2792687650906736141&#45;&gt;&#45;5628020473749181041 -->\n",
              "<g id=\"edge1\" class=\"edge\">\n",
              "<title>&#45;2792687650906736141&#45;&gt;&#45;5628020473749181041</title>\n",
              "<path fill=\"none\" stroke=\"black\" stroke-width=\"0.5\" d=\"M184.5,-204.84C184.5,-199.34 184.5,-192.65 184.5,-187.14\"/>\n",
              "</g>\n",
              "<!-- &#45;5516247901739140460 -->\n",
              "<g id=\"node3\" class=\"node\">\n",
              "<title>&#45;5516247901739140460</title>\n",
              "<path fill=\"none\" stroke=\"black\" stroke-width=\"0.25\" d=\"M124.33,-146C124.33,-146 78.67,-146 78.67,-146 74.83,-146 71,-142.17 71,-138.33 71,-138.33 71,-130.67 71,-130.67 71,-126.83 74.83,-123 78.67,-123 78.67,-123 124.33,-123 124.33,-123 128.17,-123 132,-126.83 132,-130.67 132,-130.67 132,-138.33 132,-138.33 132,-142.17 128.17,-146 124.33,-146\"/>\n",
              "<text text-anchor=\"middle\" x=\"101.5\" y=\"-130.8\" font-family=\"Times,serif\" font-size=\"14.00\">Integer</text>\n",
              "</g>\n",
              "<!-- &#45;5628020473749181041&#45;&gt;&#45;5516247901739140460 -->\n",
              "<g id=\"edge2\" class=\"edge\">\n",
              "<title>&#45;5628020473749181041&#45;&gt;&#45;5516247901739140460</title>\n",
              "<path fill=\"none\" stroke=\"black\" stroke-width=\"0.5\" d=\"M164.41,-165.06C152.22,-159.33 136.64,-152.01 124.04,-146.09\"/>\n",
              "</g>\n",
              "<!-- &#45;3054940201008428447 -->\n",
              "<g id=\"node4\" class=\"node\">\n",
              "<title>&#45;3054940201008428447</title>\n",
              "<path fill=\"none\" stroke=\"black\" stroke-width=\"0.25\" d=\"M211.33,-146C211.33,-146 157.67,-146 157.67,-146 153.83,-146 150,-142.17 150,-138.33 150,-138.33 150,-130.67 150,-130.67 150,-126.83 153.83,-123 157.67,-123 157.67,-123 211.33,-123 211.33,-123 215.17,-123 219,-126.83 219,-130.67 219,-130.67 219,-138.33 219,-138.33 219,-142.17 215.17,-146 211.33,-146\"/>\n",
              "<text text-anchor=\"middle\" x=\"184.5\" y=\"-130.8\" font-family=\"Times,serif\" font-size=\"14.00\">Fraction</text>\n",
              "</g>\n",
              "<!-- &#45;5628020473749181041&#45;&gt;&#45;3054940201008428447 -->\n",
              "<g id=\"edge3\" class=\"edge\">\n",
              "<title>&#45;5628020473749181041&#45;&gt;&#45;3054940201008428447</title>\n",
              "<path fill=\"none\" stroke=\"black\" stroke-width=\"0.5\" d=\"M184.5,-163.84C184.5,-158.34 184.5,-151.65 184.5,-146.14\"/>\n",
              "</g>\n",
              "<!-- 5946621864753180528 -->\n",
              "<g id=\"node5\" class=\"node\">\n",
              "<title>5946621864753180528</title>\n",
              "<path fill=\"none\" stroke=\"black\" stroke-width=\"0.25\" d=\"M276.33,-146C276.33,-146 244.67,-146 244.67,-146 240.83,-146 237,-142.17 237,-138.33 237,-138.33 237,-130.67 237,-130.67 237,-126.83 240.83,-123 244.67,-123 244.67,-123 276.33,-123 276.33,-123 280.17,-123 284,-126.83 284,-130.67 284,-130.67 284,-138.33 284,-138.33 284,-142.17 280.17,-146 276.33,-146\"/>\n",
              "<text text-anchor=\"middle\" x=\"260.5\" y=\"-130.8\" font-family=\"Times,serif\" font-size=\"14.00\">Scale</text>\n",
              "</g>\n",
              "<!-- &#45;5628020473749181041&#45;&gt;5946621864753180528 -->\n",
              "<g id=\"edge4\" class=\"edge\">\n",
              "<title>&#45;5628020473749181041&#45;&gt;5946621864753180528</title>\n",
              "<path fill=\"none\" stroke=\"black\" stroke-width=\"0.5\" d=\"M204.87,-164.05C215.68,-158.5 228.95,-151.69 239.81,-146.12\"/>\n",
              "</g>\n",
              "<!-- &#45;5516247901739140460&#45;&gt;&#45;3054940201008428447 -->\n",
              "<!-- 4823298737963293374 -->\n",
              "<g id=\"node6\" class=\"node\">\n",
              "<title>4823298737963293374</title>\n",
              "<path fill=\"none\" stroke=\"black\" stroke-width=\"0.25\" d=\"M53.33,-105C53.33,-105 7.67,-105 7.67,-105 3.83,-105 0,-101.17 0,-97.33 0,-97.33 0,-89.67 0,-89.67 0,-85.83 3.83,-82 7.67,-82 7.67,-82 53.33,-82 53.33,-82 57.17,-82 61,-85.83 61,-89.67 61,-89.67 61,-97.33 61,-97.33 61,-101.17 57.17,-105 53.33,-105\"/>\n",
              "<text text-anchor=\"middle\" x=\"30.5\" y=\"-89.8\" font-family=\"Times,serif\" font-size=\"14.00\">Integer</text>\n",
              "</g>\n",
              "<!-- &#45;5516247901739140460&#45;&gt;4823298737963293374 -->\n",
              "<g id=\"edge7\" class=\"edge\">\n",
              "<title>&#45;5516247901739140460&#45;&gt;4823298737963293374</title>\n",
              "<path fill=\"none\" stroke=\"black\" stroke-width=\"0.5\" d=\"M82.1,-122.84C72.08,-117.34 59.89,-110.65 49.88,-105.14\"/>\n",
              "</g>\n",
              "<!-- &#45;7465668785081448396 -->\n",
              "<g id=\"node7\" class=\"node\">\n",
              "<title>&#45;7465668785081448396</title>\n",
              "<path fill=\"none\" stroke=\"black\" stroke-width=\"0.25\" d=\"M115.83,-105C115.83,-105 87.17,-105 87.17,-105 83.33,-105 79.5,-101.17 79.5,-97.33 79.5,-97.33 79.5,-89.67 79.5,-89.67 79.5,-85.83 83.33,-82 87.17,-82 87.17,-82 115.83,-82 115.83,-82 119.67,-82 123.5,-85.83 123.5,-89.67 123.5,-89.67 123.5,-97.33 123.5,-97.33 123.5,-101.17 119.67,-105 115.83,-105\"/>\n",
              "<text text-anchor=\"middle\" x=\"101.5\" y=\"-89.8\" font-family=\"Times,serif\" font-size=\"14.00\">Digit</text>\n",
              "</g>\n",
              "<!-- &#45;5516247901739140460&#45;&gt;&#45;7465668785081448396 -->\n",
              "<g id=\"edge8\" class=\"edge\">\n",
              "<title>&#45;5516247901739140460&#45;&gt;&#45;7465668785081448396</title>\n",
              "<path fill=\"none\" stroke=\"black\" stroke-width=\"0.5\" d=\"M101.5,-122.84C101.5,-117.34 101.5,-110.65 101.5,-105.14\"/>\n",
              "</g>\n",
              "<!-- &#45;3054940201008428447&#45;&gt;5946621864753180528 -->\n",
              "<!-- &#45;6662434710310918070 -->\n",
              "<g id=\"node11\" class=\"node\">\n",
              "<title>&#45;6662434710310918070</title>\n",
              "<path fill=\"none\" stroke=\"black\" stroke-width=\"1.25\" d=\"M150.67,-105C150.67,-105 146.33,-105 146.33,-105 144.17,-105 142,-102.83 142,-100.67 142,-100.67 142,-86.33 142,-86.33 142,-84.17 144.17,-82 146.33,-82 146.33,-82 150.67,-82 150.67,-82 152.83,-82 155,-84.17 155,-86.33 155,-86.33 155,-100.67 155,-100.67 155,-102.83 152.83,-105 150.67,-105\"/>\n",
              "<text text-anchor=\"middle\" x=\"148.5\" y=\"-89.8\" font-family=\"Times,serif\" font-size=\"14.00\">.</text>\n",
              "</g>\n",
              "<!-- &#45;3054940201008428447&#45;&gt;&#45;6662434710310918070 -->\n",
              "<g id=\"edge13\" class=\"edge\">\n",
              "<title>&#45;3054940201008428447&#45;&gt;&#45;6662434710310918070</title>\n",
              "<path fill=\"none\" stroke=\"black\" stroke-width=\"0.5\" d=\"M174.66,-122.84C168.5,-116.17 160.72,-107.74 155.25,-101.81\"/>\n",
              "</g>\n",
              "<!-- 7710377030804024901 -->\n",
              "<g id=\"node12\" class=\"node\">\n",
              "<title>7710377030804024901</title>\n",
              "<path fill=\"none\" stroke=\"black\" stroke-width=\"0.25\" d=\"M226.33,-105C226.33,-105 180.67,-105 180.67,-105 176.83,-105 173,-101.17 173,-97.33 173,-97.33 173,-89.67 173,-89.67 173,-85.83 176.83,-82 180.67,-82 180.67,-82 226.33,-82 226.33,-82 230.17,-82 234,-85.83 234,-89.67 234,-89.67 234,-97.33 234,-97.33 234,-101.17 230.17,-105 226.33,-105\"/>\n",
              "<text text-anchor=\"middle\" x=\"203.5\" y=\"-89.8\" font-family=\"Times,serif\" font-size=\"14.00\">Integer</text>\n",
              "</g>\n",
              "<!-- &#45;3054940201008428447&#45;&gt;7710377030804024901 -->\n",
              "<g id=\"edge14\" class=\"edge\">\n",
              "<title>&#45;3054940201008428447&#45;&gt;7710377030804024901</title>\n",
              "<path fill=\"none\" stroke=\"black\" stroke-width=\"0.5\" d=\"M189.69,-122.84C192.37,-117.34 195.63,-110.65 198.31,-105.14\"/>\n",
              "</g>\n",
              "<!-- 8169239738925576630 -->\n",
              "<g id=\"node15\" class=\"node\">\n",
              "<title>8169239738925576630</title>\n",
              "<path fill=\"none\" stroke=\"black\" stroke-width=\"0.25\" d=\"M300.83,-105C300.83,-105 260.17,-105 260.17,-105 256.33,-105 252.5,-101.17 252.5,-97.33 252.5,-97.33 252.5,-89.67 252.5,-89.67 252.5,-85.83 256.33,-82 260.17,-82 260.17,-82 300.83,-82 300.83,-82 304.67,-82 308.5,-85.83 308.5,-89.67 308.5,-89.67 308.5,-97.33 308.5,-97.33 308.5,-101.17 304.67,-105 300.83,-105\"/>\n",
              "<text text-anchor=\"middle\" x=\"280.5\" y=\"-89.8\" font-family=\"Times,serif\" font-size=\"14.00\">Empty</text>\n",
              "</g>\n",
              "<!-- 5946621864753180528&#45;&gt;8169239738925576630 -->\n",
              "<g id=\"edge18\" class=\"edge\">\n",
              "<title>5946621864753180528&#45;&gt;8169239738925576630</title>\n",
              "<path fill=\"none\" stroke=\"black\" stroke-width=\"0.5\" d=\"M265.97,-122.84C268.79,-117.34 272.22,-110.65 275.04,-105.14\"/>\n",
              "</g>\n",
              "<!-- 4823298737963293374&#45;&gt;&#45;7465668785081448396 -->\n",
              "<!-- 1607414308588763933 -->\n",
              "<g id=\"node8\" class=\"node\">\n",
              "<title>1607414308588763933</title>\n",
              "<path fill=\"none\" stroke=\"black\" stroke-width=\"0.25\" d=\"M44.83,-64C44.83,-64 16.17,-64 16.17,-64 12.33,-64 8.5,-60.17 8.5,-56.33 8.5,-56.33 8.5,-48.67 8.5,-48.67 8.5,-44.83 12.33,-41 16.17,-41 16.17,-41 44.83,-41 44.83,-41 48.67,-41 52.5,-44.83 52.5,-48.67 52.5,-48.67 52.5,-56.33 52.5,-56.33 52.5,-60.17 48.67,-64 44.83,-64\"/>\n",
              "<text text-anchor=\"middle\" x=\"30.5\" y=\"-48.8\" font-family=\"Times,serif\" font-size=\"14.00\">Digit</text>\n",
              "</g>\n",
              "<!-- 4823298737963293374&#45;&gt;1607414308588763933 -->\n",
              "<g id=\"edge10\" class=\"edge\">\n",
              "<title>4823298737963293374&#45;&gt;1607414308588763933</title>\n",
              "<path fill=\"none\" stroke=\"black\" stroke-width=\"0.5\" d=\"M30.5,-81.84C30.5,-76.34 30.5,-69.65 30.5,-64.14\"/>\n",
              "</g>\n",
              "<!-- 2014280613396756097 -->\n",
              "<g id=\"node10\" class=\"node\">\n",
              "<title>2014280613396756097</title>\n",
              "<path fill=\"none\" stroke=\"black\" stroke-width=\"1.25\" d=\"M104.5,-64C104.5,-64 98.5,-64 98.5,-64 95.5,-64 92.5,-61 92.5,-58 92.5,-58 92.5,-47 92.5,-47 92.5,-44 95.5,-41 98.5,-41 98.5,-41 104.5,-41 104.5,-41 107.5,-41 110.5,-44 110.5,-47 110.5,-47 110.5,-58 110.5,-58 110.5,-61 107.5,-64 104.5,-64\"/>\n",
              "<text text-anchor=\"middle\" x=\"101.5\" y=\"-48.8\" font-family=\"Times,serif\" font-size=\"14.00\">2</text>\n",
              "</g>\n",
              "<!-- &#45;7465668785081448396&#45;&gt;2014280613396756097 -->\n",
              "<g id=\"edge12\" class=\"edge\">\n",
              "<title>&#45;7465668785081448396&#45;&gt;2014280613396756097</title>\n",
              "<path fill=\"none\" stroke=\"black\" stroke-width=\"0.5\" d=\"M101.5,-81.84C101.5,-76.34 101.5,-69.65 101.5,-64.14\"/>\n",
              "</g>\n",
              "<!-- 3317155602286694398 -->\n",
              "<g id=\"node9\" class=\"node\">\n",
              "<title>3317155602286694398</title>\n",
              "<path fill=\"none\" stroke=\"black\" stroke-width=\"1.25\" d=\"M33.5,-23C33.5,-23 27.5,-23 27.5,-23 24.5,-23 21.5,-20 21.5,-17 21.5,-17 21.5,-6 21.5,-6 21.5,-3 24.5,0 27.5,0 27.5,0 33.5,0 33.5,0 36.5,0 39.5,-3 39.5,-6 39.5,-6 39.5,-17 39.5,-17 39.5,-20 36.5,-23 33.5,-23\"/>\n",
              "<text text-anchor=\"middle\" x=\"30.5\" y=\"-7.8\" font-family=\"Times,serif\" font-size=\"14.00\">3</text>\n",
              "</g>\n",
              "<!-- 1607414308588763933&#45;&gt;3317155602286694398 -->\n",
              "<g id=\"edge11\" class=\"edge\">\n",
              "<title>1607414308588763933&#45;&gt;3317155602286694398</title>\n",
              "<path fill=\"none\" stroke=\"black\" stroke-width=\"0.5\" d=\"M30.5,-40.84C30.5,-35.34 30.5,-28.65 30.5,-23.14\"/>\n",
              "</g>\n",
              "<!-- &#45;6662434710310918070&#45;&gt;7710377030804024901 -->\n",
              "<!-- &#45;4171422072584945880 -->\n",
              "<g id=\"node13\" class=\"node\">\n",
              "<title>&#45;4171422072584945880</title>\n",
              "<path fill=\"none\" stroke=\"black\" stroke-width=\"0.25\" d=\"M217.83,-64C217.83,-64 189.17,-64 189.17,-64 185.33,-64 181.5,-60.17 181.5,-56.33 181.5,-56.33 181.5,-48.67 181.5,-48.67 181.5,-44.83 185.33,-41 189.17,-41 189.17,-41 217.83,-41 217.83,-41 221.67,-41 225.5,-44.83 225.5,-48.67 225.5,-48.67 225.5,-56.33 225.5,-56.33 225.5,-60.17 221.67,-64 217.83,-64\"/>\n",
              "<text text-anchor=\"middle\" x=\"203.5\" y=\"-48.8\" font-family=\"Times,serif\" font-size=\"14.00\">Digit</text>\n",
              "</g>\n",
              "<!-- 7710377030804024901&#45;&gt;&#45;4171422072584945880 -->\n",
              "<g id=\"edge16\" class=\"edge\">\n",
              "<title>7710377030804024901&#45;&gt;&#45;4171422072584945880</title>\n",
              "<path fill=\"none\" stroke=\"black\" stroke-width=\"0.5\" d=\"M203.5,-81.84C203.5,-76.34 203.5,-69.65 203.5,-64.14\"/>\n",
              "</g>\n",
              "<!-- &#45;2627220317220034374 -->\n",
              "<g id=\"node14\" class=\"node\">\n",
              "<title>&#45;2627220317220034374</title>\n",
              "<path fill=\"none\" stroke=\"black\" stroke-width=\"1.25\" d=\"M206.5,-23C206.5,-23 200.5,-23 200.5,-23 197.5,-23 194.5,-20 194.5,-17 194.5,-17 194.5,-6 194.5,-6 194.5,-3 197.5,0 200.5,0 200.5,0 206.5,0 206.5,0 209.5,0 212.5,-3 212.5,-6 212.5,-6 212.5,-17 212.5,-17 212.5,-20 209.5,-23 206.5,-23\"/>\n",
              "<text text-anchor=\"middle\" x=\"203.5\" y=\"-7.8\" font-family=\"Times,serif\" font-size=\"14.00\">5</text>\n",
              "</g>\n",
              "<!-- &#45;4171422072584945880&#45;&gt;&#45;2627220317220034374 -->\n",
              "<g id=\"edge17\" class=\"edge\">\n",
              "<title>&#45;4171422072584945880&#45;&gt;&#45;2627220317220034374</title>\n",
              "<path fill=\"none\" stroke=\"black\" stroke-width=\"0.5\" d=\"M203.5,-40.84C203.5,-35.34 203.5,-28.65 203.5,-23.14\"/>\n",
              "</g>\n",
              "<!-- 1712781299447672448 -->\n",
              "<g id=\"node16\" class=\"node\">\n",
              "<title>1712781299447672448</title>\n",
              "<path fill=\"none\" stroke=\"black\" stroke-width=\"0.25\" d=\"M283.17,-64C283.17,-64 277.83,-64 277.83,-64 275.17,-64 272.5,-61.33 272.5,-58.67 272.5,-58.67 272.5,-46.33 272.5,-46.33 272.5,-43.67 275.17,-41 277.83,-41 277.83,-41 283.17,-41 283.17,-41 285.83,-41 288.5,-43.67 288.5,-46.33 288.5,-46.33 288.5,-58.67 288.5,-58.67 288.5,-61.33 285.83,-64 283.17,-64\"/>\n",
              "<text text-anchor=\"middle\" x=\"280.5\" y=\"-48.8\" font-family=\"Times,serif\" font-size=\"14.00\">ε</text>\n",
              "</g>\n",
              "<!-- 8169239738925576630&#45;&gt;1712781299447672448 -->\n",
              "<g id=\"edge19\" class=\"edge\">\n",
              "<title>8169239738925576630&#45;&gt;1712781299447672448</title>\n",
              "<path fill=\"none\" stroke=\"black\" stroke-width=\"0.5\" d=\"M280.5,-81.84C280.5,-76.34 280.5,-69.65 280.5,-64.14\"/>\n",
              "</g>\n",
              "</g>\n",
              "</svg>\n"
            ],
            "text/plain": [
              "ProductionGraph(Number -> Real -> Integer Fraction Scale -> Integer Digit Fraction Scale -> Digit Digit Fraction Scale -> 3 Digit Fraction Scale -> 3 2 Fraction Scale -> 3 2 . Integer Scale -> 3 2 . Digit Scale -> 3 2 . 5 Scale -> 3 2 . 5 Empty -> 3 2 . 5)"
            ]
          },
          "execution_count": 1,
          "metadata": {},
          "output_type": "execute_result"
        }
      ],
      "source": [
        "ProductionGraph(Derivation(G).leftmost(leftmost_prods))    "
      ]
    }
  ],
  "metadata": {
    "kernelspec": {
      "display_name": "Python 3",
      "language": "python",
      "name": "python3"
    },
    "language_info": {
      "codemirror_mode": {
        "name": "ipython",
        "version": 3
      },
      "file_extension": ".py",
      "mimetype": "text/x-python",
      "name": "python",
      "nbconvert_exporter": "python",
      "pygments_lexer": "ipython3"
    }
  },
  "nbformat": 4,
  "nbformat_minor": 4
}
