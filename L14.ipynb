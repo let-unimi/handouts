{
  "cells": [
    {
      "cell_type": "markdown",
      "metadata": {},
      "source": [
        "# Lezoine 14"
      ]
    },
    {
      "cell_type": "code",
      "execution_count": null,
      "metadata": {},
      "outputs": [
        {
          "data": {
            "text/plain": [
              "'1.3.4-alpha'"
            ]
          },
          "execution_count": 1,
          "metadata": {},
          "output_type": "execute_result"
        }
      ],
      "source": [
        "from liblet import (\n",
        "    Transition, \n",
        "    Automaton, \n",
        "    Grammar, \n",
        "    Production, \n",
        "    Item, \n",
        "    Derivation, \n",
        "    ProductionGraph, \n",
        "    Stack, \n",
        "    Queue, \n",
        "    StateTransitionGraph, \n",
        "    Table, \n",
        "    closure, \n",
        "    first, \n",
        "    prods2table,\n",
        "    iter2table,\n",
        "    warn, HASH,\n",
        "    __version__)\n",
        "\n",
        "# è suggerito aggiornare all'ultima versione\n",
        "\n",
        "__version__ "
      ]
    },
    {
      "cell_type": "markdown",
      "metadata": {},
      "source": [
        "## Item\n",
        "\n",
        "Una occhiata a come sono implementati gli *item* nella libreria. Una grammatica d'esempio"
      ]
    },
    {
      "cell_type": "code",
      "execution_count": null,
      "metadata": {},
      "outputs": [],
      "source": [
        "# fig. 3.17, pag. 159 MCD (sostituendo + con -)\n",
        "\n",
        "G = Grammar.from_string(\"\"\"\n",
        "E -> E - T | T\n",
        "T -> n | ( E )\n",
        "\"\"\")"
      ]
    },
    {
      "cell_type": "code",
      "execution_count": null,
      "metadata": {},
      "outputs": [
        {
          "data": {
            "text/plain": [
              "E -> •E - T"
            ]
          },
          "execution_count": 1,
          "metadata": {},
          "output_type": "execute_result"
        }
      ],
      "source": [
        "# Si costruisce dato rhs e lhs (come le produzioni)\n",
        "\n",
        "A, α = G.P[0]\n",
        "item = Item(A, α)\n",
        "item"
      ]
    },
    {
      "cell_type": "code",
      "execution_count": null,
      "metadata": {},
      "outputs": [
        {
          "name": "stdout",
          "output_type": "stream",
          "text": [
            "item = E -> E•- T, symbol_after_dot = -\n",
            "item = E -> E -•T, symbol_after_dot = T\n",
            "item = E -> E - T•, symbol_after_dot = None\n"
          ]
        }
      ],
      "source": [
        "# ha un metodo advance che sposta il punto e un metodo\n",
        "# symbol_after_dot che riporta il simbolo che segue il \n",
        "# punto (o None se il punto è oltre la fine del rhs)\n",
        "\n",
        "for X in α:\n",
        "    item = item.advance(X)\n",
        "    print(f'item = {item}, symbol_after_dot = {item.symbol_after_dot()}')"
      ]
    },
    {
      "cell_type": "markdown",
      "metadata": {},
      "source": [
        "## La ε-chiusura di un insieme di item\n",
        "\n",
        "Dato un insieme di item, la sua ε-chiusura è ottenuta prendendo la chiusura dell'operazione che aggiunge all'insieme, per ogni item $A\\to \\alpha • B \\beta$, tutti gli item $B\\to •\\gamma$ dove $B\\to \\gamma$ è una produzione di $G$."
      ]
    },
    {
      "cell_type": "code",
      "execution_count": null,
      "metadata": {},
      "outputs": [],
      "source": [
        "@closure\n",
        "def εclosure(items, G):\n",
        "    added = set()\n",
        "    for item in items:\n",
        "        X = item.symbol_after_dot()\n",
        "        if X is None: continue\n",
        "        added |= {Item(X, β) for β in G.alternatives(X)}\n",
        "    return frozenset(items | added)"
      ]
    },
    {
      "cell_type": "code",
      "execution_count": null,
      "metadata": {},
      "outputs": [
        {
          "data": {
            "text/plain": [
              "frozenset({E -> •E - T, E -> •T, T -> •( E ), T -> •n})"
            ]
          },
          "execution_count": 1,
          "metadata": {},
          "output_type": "execute_result"
        }
      ],
      "source": [
        "# vediamo come si comporta sul set di item che contiene solo l'item\n",
        "# ottenuto dalla prima produzione\n",
        "\n",
        "εclosure({Item(*G.P[0])}, G)"
      ]
    },
    {
      "cell_type": "markdown",
      "metadata": {},
      "source": [
        "## Costruzione dell'automa a stati finiti\n",
        "\n",
        "Definiamo l'automa che riconosce il linguaggio delle parti aperta delle derivazioni di una assegnata grammatica $G$. Tale automa ha per alfabeto $N\\cup T$ e per stati *insiemi* di item. \n",
        "\n",
        "Il suo stato iniziale $q_0$ è dato dalla ε-chiusura dell'insieme di item derivati da tutte le produzioni che coinvolgono il simbolo iniziale $S$"
      ]
    },
    {
      "cell_type": "code",
      "execution_count": null,
      "metadata": {},
      "outputs": [],
      "source": [
        "def q0(G):\n",
        "    return εclosure({Item(G.S, β) for β in G.alternatives(G.S)}, G)"
      ]
    },
    {
      "cell_type": "code",
      "execution_count": null,
      "metadata": {},
      "outputs": [
        {
          "data": {
            "text/plain": [
              "frozenset({E -> •E - T, E -> •T, T -> •( E ), T -> •n})"
            ]
          },
          "execution_count": 1,
          "metadata": {},
          "output_type": "execute_result"
        }
      ],
      "source": [
        "# nel caso della grammatica d'esempio si ha\n",
        "\n",
        "q0(G)"
      ]
    },
    {
      "cell_type": "markdown",
      "metadata": {},
      "source": [
        "La funzione di transizione $\\delta$ associa ad ogni insieme di item e simbolo dell'alfabeto l'ε-chiusura dell'insieme ottenuto avanzando col simbolo specificato il punto in ogni item."
      ]
    },
    {
      "cell_type": "code",
      "execution_count": null,
      "metadata": {},
      "outputs": [],
      "source": [
        "def δ(items, X, G):\n",
        "    return εclosure({item.advance(X) for item in items if item.advance(X)}, G)"
      ]
    },
    {
      "cell_type": "code",
      "execution_count": null,
      "metadata": {},
      "outputs": [
        {
          "data": {
            "text/plain": [
              "frozenset({E -> •E - T, E -> •T, T -> •( E ), T -> (•E ), T -> •n})"
            ]
          },
          "execution_count": 1,
          "metadata": {},
          "output_type": "execute_result"
        }
      ],
      "source": [
        "# vediamo come si comporta sullo stato iniziale\n",
        "# dato il simbolo '('\n",
        "\n",
        "δ(q0(G), '(', G)"
      ]
    },
    {
      "cell_type": "markdown",
      "metadata": {},
      "source": [
        "Prima di procedere, trasformiamo la grammatica in modo da rendere il linguaggio libero da prefissi"
      ]
    },
    {
      "cell_type": "code",
      "execution_count": null,
      "metadata": {},
      "outputs": [],
      "source": [
        "def add_eoi(G):\n",
        "    return Grammar(G.N | {'S’'}, G.T | {HASH}, G.P + (Production('S’', (G.S, HASH)), ), 'S’')"
      ]
    },
    {
      "cell_type": "code",
      "execution_count": null,
      "metadata": {},
      "outputs": [
        {
          "data": {
            "text/html": [
              "<style>td, th {border: 1pt solid lightgray !important ;}</style><table><tr><th><pre>S’</pre><td style=\"text-align:left\"><pre>E ♯</pre><tr><th><pre>E</pre><td style=\"text-align:left\"><pre>E - T | T</pre><tr><th><pre>T</pre><td style=\"text-align:left\"><pre>( E ) | n</pre></table></table>"
            ],
            "text/plain": [
              "<IPython.core.display.HTML object>"
            ]
          },
          "execution_count": 1,
          "metadata": {},
          "output_type": "execute_result"
        }
      ],
      "source": [
        "# vediamo l'effetto che ha sulla grammatica d'esempio\n",
        "\n",
        "Gpf = add_eoi(G)\n",
        "prods2table(Gpf)"
      ]
    },
    {
      "cell_type": "markdown",
      "metadata": {},
      "source": [
        "L'automa può essere costruito tramite una visita (in ampiezza) degli stati raggiungibili tramite $\\delta$; al termine della visita saranno noti tutti gli stati e tutte le *transizioni*. Vengono definiti *finali* gli stati corrispondenti ad insiemi di un solo item in cui il punto è oltre l'ultimo simbolo."
      ]
    },
    {
      "cell_type": "code",
      "execution_count": null,
      "metadata": {},
      "outputs": [],
      "source": [
        "def compute_lr0_automaton(G):\n",
        "    \n",
        "    states = set([q0(G)])\n",
        "    transitions = []\n",
        "    q = Queue([q0(G)])\n",
        "    while q:\n",
        "        items = q.dequeue()\n",
        "        for X in G.T | G.N:\n",
        "            next_items = δ(items, X, G)\n",
        "            if not next_items: continue\n",
        "            transitions.append(Transition(items, X, next_items))\n",
        "            if next_items not in states: \n",
        "                states.add(next_items)\n",
        "                q.enqueue(next_items)\n",
        "\n",
        "    return Automaton(\n",
        "        states,\n",
        "        G.T | G.N,\n",
        "        transitions,\n",
        "        q0(G),\n",
        "        set(state for state in states if len(state) == 1 and first(state).symbol_after_dot() is None)\n",
        "    )"
      ]
    },
    {
      "cell_type": "code",
      "execution_count": null,
      "metadata": {},
      "outputs": [
        {
          "data": {
            "image/svg+xml": [
              "<?xml version=\"1.0\" encoding=\"UTF-8\" standalone=\"no\"?>\n",
              "<!DOCTYPE svg PUBLIC \"-//W3C//DTD SVG 1.1//EN\"\n",
              " \"http://www.w3.org/Graphics/SVG/1.1/DTD/svg11.dtd\">\n",
              "<!-- Generated by graphviz version 2.43.0 (0)\n",
              " -->\n",
              "<!-- Title: %3 Pages: 1 -->\n",
              "<svg width=\"820pt\" height=\"308pt\"\n",
              " viewBox=\"0.00 0.00 819.94 307.97\" xmlns=\"http://www.w3.org/2000/svg\" xmlns:xlink=\"http://www.w3.org/1999/xlink\">\n",
              "<g id=\"graph0\" class=\"graph\" transform=\"scale(1 1) rotate(0) translate(4 303.97)\">\n",
              "<title>%3</title>\n",
              "<polygon fill=\"white\" stroke=\"transparent\" points=\"-4,4 -4,-303.97 815.94,-303.97 815.94,4 -4,4\"/>\n",
              "<!-- 140429103611232 -->\n",
              "<g id=\"node1\" class=\"node\">\n",
              "<title>140429103611232</title>\n",
              "</g>\n",
              "<!-- 8434422738853012768 -->\n",
              "<g id=\"node2\" class=\"node\">\n",
              "<title>8434422738853012768</title>\n",
              "<ellipse fill=\"none\" stroke=\"black\" cx=\"135.96\" cy=\"-99.97\" rx=\"45.92\" ry=\"58.88\"/>\n",
              "<text text-anchor=\"middle\" x=\"135.96\" y=\"-126.27\" font-family=\"Times,serif\" font-size=\"14.00\">E &#45;&gt; •E &#45; T</text>\n",
              "<text text-anchor=\"middle\" x=\"135.96\" y=\"-111.27\" font-family=\"Times,serif\" font-size=\"14.00\">E &#45;&gt; •T</text>\n",
              "<text text-anchor=\"middle\" x=\"135.96\" y=\"-96.27\" font-family=\"Times,serif\" font-size=\"14.00\">S’ &#45;&gt; •E ♯</text>\n",
              "<text text-anchor=\"middle\" x=\"135.96\" y=\"-81.27\" font-family=\"Times,serif\" font-size=\"14.00\">T &#45;&gt; •( E )</text>\n",
              "<text text-anchor=\"middle\" x=\"135.96\" y=\"-66.27\" font-family=\"Times,serif\" font-size=\"14.00\">T &#45;&gt; •n</text>\n",
              "</g>\n",
              "<!-- 140429103611232&#45;&gt;8434422738853012768 -->\n",
              "<g id=\"edge1\" class=\"edge\">\n",
              "<title>140429103611232&#45;&gt;8434422738853012768</title>\n",
              "<path fill=\"none\" stroke=\"black\" d=\"M54.17,-99.97C61.98,-99.97 70.87,-99.97 79.81,-99.97\"/>\n",
              "<polygon fill=\"black\" stroke=\"black\" points=\"79.89,-103.47 89.89,-99.97 79.89,-96.47 79.89,-103.47\"/>\n",
              "</g>\n",
              "<!-- 4072715508785097818 -->\n",
              "<g id=\"node3\" class=\"node\">\n",
              "<title>4072715508785097818</title>\n",
              "<ellipse fill=\"none\" stroke=\"black\" cx=\"644.69\" cy=\"-277.97\" rx=\"31.37\" ry=\"18\"/>\n",
              "<ellipse fill=\"none\" stroke=\"black\" cx=\"644.69\" cy=\"-277.97\" rx=\"35.4\" ry=\"22\"/>\n",
              "<text text-anchor=\"middle\" x=\"644.69\" y=\"-274.27\" font-family=\"Times,serif\" font-size=\"14.00\">T &#45;&gt; n•</text>\n",
              "</g>\n",
              "<!-- 8434422738853012768&#45;&gt;4072715508785097818 -->\n",
              "<g id=\"edge2\" class=\"edge\">\n",
              "<title>8434422738853012768&#45;&gt;4072715508785097818</title>\n",
              "<path fill=\"none\" stroke=\"black\" d=\"M175.17,-131.23C188.51,-141.86 203.71,-153.66 217.92,-163.97 318.37,-236.82 347.93,-265.72 470.94,-281.97 514.34,-287.69 564.38,-285.59 599.4,-282.73\"/>\n",
              "<polygon fill=\"black\" stroke=\"black\" points=\"600.1,-286.18 609.76,-281.82 599.49,-279.21 600.1,-286.18\"/>\n",
              "<text text-anchor=\"middle\" x=\"369.8\" y=\"-249.25\" font-family=\"Times,serif\" font-size=\"14.00\">n</text>\n",
              "</g>\n",
              "<!-- 1718649135068714578 -->\n",
              "<g id=\"node4\" class=\"node\">\n",
              "<title>1718649135068714578</title>\n",
              "<ellipse fill=\"none\" stroke=\"black\" cx=\"263.18\" cy=\"-127.97\" rx=\"45.01\" ry=\"26.74\"/>\n",
              "<text text-anchor=\"middle\" x=\"263.18\" y=\"-131.77\" font-family=\"Times,serif\" font-size=\"14.00\">E &#45;&gt; E•&#45; T</text>\n",
              "<text text-anchor=\"middle\" x=\"263.18\" y=\"-116.77\" font-family=\"Times,serif\" font-size=\"14.00\">S’ &#45;&gt; E•♯</text>\n",
              "</g>\n",
              "<!-- 8434422738853012768&#45;&gt;1718649135068714578 -->\n",
              "<g id=\"edge3\" class=\"edge\">\n",
              "<title>8434422738853012768&#45;&gt;1718649135068714578</title>\n",
              "<path fill=\"none\" stroke=\"black\" d=\"M181.46,-109.92C190.85,-112.02 200.84,-114.25 210.47,-116.4\"/>\n",
              "<polygon fill=\"black\" stroke=\"black\" points=\"209.81,-119.84 220.34,-118.61 211.34,-113.01 209.81,-119.84\"/>\n",
              "<text text-anchor=\"middle\" x=\"196.41\" y=\"-103.06\" font-family=\"Times,serif\" font-size=\"14.00\">E</text>\n",
              "</g>\n",
              "<!-- 130548761974785502 -->\n",
              "<g id=\"node5\" class=\"node\">\n",
              "<title>130548761974785502</title>\n",
              "<ellipse fill=\"none\" stroke=\"black\" cx=\"644.69\" cy=\"-33.97\" rx=\"32.49\" ry=\"18\"/>\n",
              "<ellipse fill=\"none\" stroke=\"black\" cx=\"644.69\" cy=\"-33.97\" rx=\"36.49\" ry=\"22\"/>\n",
              "<text text-anchor=\"middle\" x=\"644.69\" y=\"-30.27\" font-family=\"Times,serif\" font-size=\"14.00\">E &#45;&gt; T•</text>\n",
              "</g>\n",
              "<!-- 8434422738853012768&#45;&gt;130548761974785502 -->\n",
              "<g id=\"edge4\" class=\"edge\">\n",
              "<title>8434422738853012768&#45;&gt;130548761974785502</title>\n",
              "<path fill=\"none\" stroke=\"black\" d=\"M180.16,-83.49C243.03,-60.49 363.92,-19.89 470.94,-4.97 511.66,0.71 522.94,2.13 563.44,-4.97 577.51,-7.43 592.36,-12.15 605.42,-17.08\"/>\n",
              "<polygon fill=\"black\" stroke=\"black\" points=\"604.42,-20.45 615.01,-20.86 606.98,-13.94 604.42,-20.45\"/>\n",
              "<text text-anchor=\"middle\" x=\"385.66\" y=\"-8.88\" font-family=\"Times,serif\" font-size=\"14.00\">T</text>\n",
              "</g>\n",
              "<!-- 6592745486822635272 -->\n",
              "<g id=\"node6\" class=\"node\">\n",
              "<title>6592745486822635272</title>\n",
              "<ellipse fill=\"none\" stroke=\"black\" cx=\"517.19\" cy=\"-72.97\" rx=\"45.92\" ry=\"58.88\"/>\n",
              "<text text-anchor=\"middle\" x=\"517.19\" y=\"-99.27\" font-family=\"Times,serif\" font-size=\"14.00\">E &#45;&gt; •E &#45; T</text>\n",
              "<text text-anchor=\"middle\" x=\"517.19\" y=\"-84.27\" font-family=\"Times,serif\" font-size=\"14.00\">E &#45;&gt; •T</text>\n",
              "<text text-anchor=\"middle\" x=\"517.19\" y=\"-69.27\" font-family=\"Times,serif\" font-size=\"14.00\">T &#45;&gt; (•E )</text>\n",
              "<text text-anchor=\"middle\" x=\"517.19\" y=\"-54.27\" font-family=\"Times,serif\" font-size=\"14.00\">T &#45;&gt; •( E )</text>\n",
              "<text text-anchor=\"middle\" x=\"517.19\" y=\"-39.27\" font-family=\"Times,serif\" font-size=\"14.00\">T &#45;&gt; •n</text>\n",
              "</g>\n",
              "<!-- 8434422738853012768&#45;&gt;6592745486822635272 -->\n",
              "<g id=\"edge5\" class=\"edge\">\n",
              "<title>8434422738853012768&#45;&gt;6592745486822635272</title>\n",
              "<path fill=\"none\" stroke=\"black\" d=\"M181.9,-95.24C193.62,-94.09 206.24,-92.91 217.92,-91.97 302.75,-85.07 401.31,-79.21 461.19,-75.89\"/>\n",
              "<polygon fill=\"black\" stroke=\"black\" points=\"461.39,-79.39 471.18,-75.34 461,-72.4 461.39,-79.39\"/>\n",
              "<text text-anchor=\"middle\" x=\"323.62\" y=\"-72.88\" font-family=\"Times,serif\" font-size=\"14.00\">(</text>\n",
              "</g>\n",
              "<!-- &#45;1862902182789616124 -->\n",
              "<g id=\"node7\" class=\"node\">\n",
              "<title>&#45;1862902182789616124</title>\n",
              "<ellipse fill=\"none\" stroke=\"black\" cx=\"389.69\" cy=\"-124.97\" rx=\"39.78\" ry=\"18\"/>\n",
              "<ellipse fill=\"none\" stroke=\"black\" cx=\"389.69\" cy=\"-124.97\" rx=\"43.79\" ry=\"22\"/>\n",
              "<text text-anchor=\"middle\" x=\"389.69\" y=\"-121.27\" font-family=\"Times,serif\" font-size=\"14.00\">S’ &#45;&gt; E ♯•</text>\n",
              "</g>\n",
              "<!-- 1718649135068714578&#45;&gt;&#45;1862902182789616124 -->\n",
              "<g id=\"edge6\" class=\"edge\">\n",
              "<title>1718649135068714578&#45;&gt;&#45;1862902182789616124</title>\n",
              "<path fill=\"none\" stroke=\"black\" d=\"M308.43,-126.9C317.26,-126.69 326.63,-126.46 335.73,-126.24\"/>\n",
              "<polygon fill=\"black\" stroke=\"black\" points=\"335.92,-129.74 345.84,-126 335.76,-122.74 335.92,-129.74\"/>\n",
              "<text text-anchor=\"middle\" x=\"323.64\" y=\"-115.25\" font-family=\"Times,serif\" font-size=\"14.00\">♯</text>\n",
              "</g>\n",
              "<!-- &#45;2290422131460989449 -->\n",
              "<g id=\"node8\" class=\"node\">\n",
              "<title>&#45;2290422131460989449</title>\n",
              "<ellipse fill=\"none\" stroke=\"black\" cx=\"389.69\" cy=\"-201.97\" rx=\"45.01\" ry=\"37.45\"/>\n",
              "<text text-anchor=\"middle\" x=\"389.69\" y=\"-213.27\" font-family=\"Times,serif\" font-size=\"14.00\">E &#45;&gt; E &#45;•T</text>\n",
              "<text text-anchor=\"middle\" x=\"389.69\" y=\"-198.27\" font-family=\"Times,serif\" font-size=\"14.00\">T &#45;&gt; •( E )</text>\n",
              "<text text-anchor=\"middle\" x=\"389.69\" y=\"-183.27\" font-family=\"Times,serif\" font-size=\"14.00\">T &#45;&gt; •n</text>\n",
              "</g>\n",
              "<!-- 1718649135068714578&#45;&gt;&#45;2290422131460989449 -->\n",
              "<g id=\"edge7\" class=\"edge\">\n",
              "<title>1718649135068714578&#45;&gt;&#45;2290422131460989449</title>\n",
              "<path fill=\"none\" stroke=\"black\" d=\"M295.92,-146.83C310.25,-155.35 327.46,-165.57 343.13,-174.89\"/>\n",
              "<polygon fill=\"black\" stroke=\"black\" points=\"341.77,-178.15 352.15,-180.25 345.34,-172.13 341.77,-178.15\"/>\n",
              "<text text-anchor=\"middle\" x=\"321.45\" y=\"-152.29\" font-family=\"Times,serif\" font-size=\"14.00\">&#45;</text>\n",
              "</g>\n",
              "<!-- 6592745486822635272&#45;&gt;4072715508785097818 -->\n",
              "<g id=\"edge8\" class=\"edge\">\n",
              "<title>6592745486822635272&#45;&gt;4072715508785097818</title>\n",
              "<path fill=\"none\" stroke=\"black\" d=\"M546.2,-118.72C570.5,-158.41 604.95,-214.68 625.72,-248.62\"/>\n",
              "<polygon fill=\"black\" stroke=\"black\" points=\"623,-250.86 631.2,-257.57 628.97,-247.21 623,-250.86\"/>\n",
              "<text text-anchor=\"middle\" x=\"585.28\" y=\"-177.08\" font-family=\"Times,serif\" font-size=\"14.00\">n</text>\n",
              "</g>\n",
              "<!-- 6592745486822635272&#45;&gt;130548761974785502 -->\n",
              "<g id=\"edge10\" class=\"edge\">\n",
              "<title>6592745486822635272&#45;&gt;130548761974785502</title>\n",
              "<path fill=\"none\" stroke=\"black\" d=\"M562.08,-59.32C575.15,-55.26 589.42,-50.83 602.32,-46.82\"/>\n",
              "<polygon fill=\"black\" stroke=\"black\" points=\"603.37,-50.16 611.88,-43.85 601.29,-43.48 603.37,-50.16\"/>\n",
              "<text text-anchor=\"middle\" x=\"582.23\" y=\"-40.47\" font-family=\"Times,serif\" font-size=\"14.00\">T</text>\n",
              "</g>\n",
              "<!-- 6592745486822635272&#45;&gt;6592745486822635272 -->\n",
              "<g id=\"edge11\" class=\"edge\">\n",
              "<title>6592745486822635272&#45;&gt;6592745486822635272</title>\n",
              "<path fill=\"none\" stroke=\"black\" d=\"M493.64,-123.49C494.45,-138.23 502.3,-149.66 517.19,-149.66 528.47,-149.66 535.71,-143.1 538.91,-133.5\"/>\n",
              "<polygon fill=\"black\" stroke=\"black\" points=\"542.39,-133.95 540.74,-123.49 535.5,-132.7 542.39,-133.95\"/>\n",
              "<text text-anchor=\"middle\" x=\"491.37\" y=\"-130.01\" font-family=\"Times,serif\" font-size=\"14.00\">(</text>\n",
              "</g>\n",
              "<!-- 1256897803868229932 -->\n",
              "<g id=\"node9\" class=\"node\">\n",
              "<title>1256897803868229932</title>\n",
              "<ellipse fill=\"none\" stroke=\"black\" cx=\"644.69\" cy=\"-110.97\" rx=\"45.01\" ry=\"26.74\"/>\n",
              "<text text-anchor=\"middle\" x=\"644.69\" y=\"-114.77\" font-family=\"Times,serif\" font-size=\"14.00\">E &#45;&gt; E•&#45; T</text>\n",
              "<text text-anchor=\"middle\" x=\"644.69\" y=\"-99.77\" font-family=\"Times,serif\" font-size=\"14.00\">T &#45;&gt; ( E•)</text>\n",
              "</g>\n",
              "<!-- 6592745486822635272&#45;&gt;1256897803868229932 -->\n",
              "<g id=\"edge9\" class=\"edge\">\n",
              "<title>6592745486822635272&#45;&gt;1256897803868229932</title>\n",
              "<path fill=\"none\" stroke=\"black\" d=\"M562.08,-86.26C572.37,-89.37 583.4,-92.71 593.92,-95.89\"/>\n",
              "<polygon fill=\"black\" stroke=\"black\" points=\"593.22,-99.34 603.81,-98.89 595.25,-92.64 593.22,-99.34\"/>\n",
              "<text text-anchor=\"middle\" x=\"578.44\" y=\"-81.37\" font-family=\"Times,serif\" font-size=\"14.00\">E</text>\n",
              "</g>\n",
              "<!-- &#45;2290422131460989449&#45;&gt;4072715508785097818 -->\n",
              "<g id=\"edge12\" class=\"edge\">\n",
              "<title>&#45;2290422131460989449&#45;&gt;4072715508785097818</title>\n",
              "<path fill=\"none\" stroke=\"black\" d=\"M421.32,-229.32C435.46,-240.4 453.05,-252.16 470.94,-258.97 512.52,-274.78 563.51,-278.68 599.28,-279.15\"/>\n",
              "<polygon fill=\"black\" stroke=\"black\" points=\"599.38,-282.65 609.4,-279.19 599.42,-275.65 599.38,-282.65\"/>\n",
              "<text text-anchor=\"middle\" x=\"508.96\" y=\"-259.47\" font-family=\"Times,serif\" font-size=\"14.00\">n</text>\n",
              "</g>\n",
              "<!-- &#45;2290422131460989449&#45;&gt;6592745486822635272 -->\n",
              "<g id=\"edge14\" class=\"edge\">\n",
              "<title>&#45;2290422131460989449&#45;&gt;6592745486822635272</title>\n",
              "<path fill=\"none\" stroke=\"black\" d=\"M418.85,-173.02C435.06,-156.36 455.74,-135.1 473.87,-116.47\"/>\n",
              "<polygon fill=\"black\" stroke=\"black\" points=\"476.47,-118.81 480.93,-109.2 471.45,-113.93 476.47,-118.81\"/>\n",
              "<text text-anchor=\"middle\" x=\"447.14\" y=\"-130.17\" font-family=\"Times,serif\" font-size=\"14.00\">(</text>\n",
              "</g>\n",
              "<!-- 966259495213700022 -->\n",
              "<g id=\"node10\" class=\"node\">\n",
              "<title>966259495213700022</title>\n",
              "<ellipse fill=\"none\" stroke=\"black\" cx=\"517.19\" cy=\"-227.97\" rx=\"42.47\" ry=\"18\"/>\n",
              "<ellipse fill=\"none\" stroke=\"black\" cx=\"517.19\" cy=\"-227.97\" rx=\"46.49\" ry=\"22\"/>\n",
              "<text text-anchor=\"middle\" x=\"517.19\" y=\"-224.27\" font-family=\"Times,serif\" font-size=\"14.00\">E &#45;&gt; E &#45; T•</text>\n",
              "</g>\n",
              "<!-- &#45;2290422131460989449&#45;&gt;966259495213700022 -->\n",
              "<g id=\"edge13\" class=\"edge\">\n",
              "<title>&#45;2290422131460989449&#45;&gt;966259495213700022</title>\n",
              "<path fill=\"none\" stroke=\"black\" d=\"M433.88,-210.91C443.77,-212.96 454.38,-215.16 464.59,-217.27\"/>\n",
              "<polygon fill=\"black\" stroke=\"black\" points=\"464.11,-220.75 474.61,-219.35 465.53,-213.9 464.11,-220.75\"/>\n",
              "<text text-anchor=\"middle\" x=\"449.95\" y=\"-203.97\" font-family=\"Times,serif\" font-size=\"14.00\">T</text>\n",
              "</g>\n",
              "<!-- 1256897803868229932&#45;&gt;&#45;2290422131460989449 -->\n",
              "<g id=\"edge16\" class=\"edge\">\n",
              "<title>1256897803868229932&#45;&gt;&#45;2290422131460989449</title>\n",
              "<path fill=\"none\" stroke=\"black\" d=\"M614.68,-131.16C599.89,-140.7 581.29,-151.59 563.44,-158.97 524.95,-174.85 479.14,-185.92 444.37,-192.85\"/>\n",
              "<polygon fill=\"black\" stroke=\"black\" points=\"443.56,-189.44 434.41,-194.78 444.89,-196.31 443.56,-189.44\"/>\n",
              "<text text-anchor=\"middle\" x=\"524.72\" y=\"-160.81\" font-family=\"Times,serif\" font-size=\"14.00\">&#45;</text>\n",
              "</g>\n",
              "<!-- 5572265645783341645 -->\n",
              "<g id=\"node11\" class=\"node\">\n",
              "<title>5572265645783341645</title>\n",
              "<ellipse fill=\"none\" stroke=\"black\" cx=\"768.94\" cy=\"-110.97\" rx=\"38.99\" ry=\"18\"/>\n",
              "<ellipse fill=\"none\" stroke=\"black\" cx=\"768.94\" cy=\"-110.97\" rx=\"42.99\" ry=\"22\"/>\n",
              "<text text-anchor=\"middle\" x=\"768.94\" y=\"-107.27\" font-family=\"Times,serif\" font-size=\"14.00\">T &#45;&gt; ( E )•</text>\n",
              "</g>\n",
              "<!-- 1256897803868229932&#45;&gt;5572265645783341645 -->\n",
              "<g id=\"edge15\" class=\"edge\">\n",
              "<title>1256897803868229932&#45;&gt;5572265645783341645</title>\n",
              "<path fill=\"none\" stroke=\"black\" d=\"M690.17,-110.97C698.42,-110.97 707.11,-110.97 715.57,-110.97\"/>\n",
              "<polygon fill=\"black\" stroke=\"black\" points=\"715.73,-114.47 725.73,-110.97 715.73,-107.47 715.73,-114.47\"/>\n",
              "<text text-anchor=\"middle\" x=\"705.49\" y=\"-99.77\" font-family=\"Times,serif\" font-size=\"14.00\">)</text>\n",
              "</g>\n",
              "</g>\n",
              "</svg>\n"
            ],
            "text/plain": [
              "<liblet.display.StateTransitionGraph at 0x7fb832dcca60>"
            ]
          },
          "execution_count": 1,
          "metadata": {},
          "output_type": "execute_result"
        }
      ],
      "source": [
        "# visualizziamo l'automa ottenuto dalla grammatica d'esempio\n",
        "\n",
        "lr0a = compute_lr0_automaton(Gpf)\n",
        "StateTransitionGraph.from_automaton(lr0a, large_labels = True)"
      ]
    },
    {
      "cell_type": "markdown",
      "metadata": {},
      "source": [
        "## Parsing con un automa a pila \n",
        "\n",
        "Il parser segue l'algoritmo illustrato nella sezione 3.5.2 di MCD."
      ]
    },
    {
      "cell_type": "code",
      "execution_count": null,
      "metadata": {},
      "outputs": [],
      "source": [
        "def lr0parse(lr0a, text, G):\n",
        "\n",
        "    rest = text + [HASH, ]\n",
        "    s = Stack([lr0a.q0])\n",
        "    steps = []\n",
        "    \n",
        "    while True:\n",
        "        top = s.peek()\n",
        "        if top in lr0a.F: # REDUCE\n",
        "            N, α, _ = first(top)\n",
        "            steps.append(Production(N, α))\n",
        "            if N == G.S and not rest: return steps\n",
        "            for _ in α: s.pop()\n",
        "            nxt = first(lr0a.δ(s.peek(), N))\n",
        "        else: # SHIFT\n",
        "            if not rest: \n",
        "                warn('Unexpected end of input')\n",
        "                return None\n",
        "            token, *rest = rest\n",
        "            nxt = first(lr0a.δ(top, token))\n",
        "            if nxt is None: \n",
        "                warn('Unexpected token {}'.format(token))\n",
        "                return None\n",
        "        s.push(nxt)"
      ]
    },
    {
      "cell_type": "code",
      "execution_count": null,
      "metadata": {},
      "outputs": [
        {
          "data": {
            "text/plain": [
              "[T -> n, E -> T, T -> n, E -> E - T, T -> n, E -> E - T, S’ -> E ♯]"
            ]
          },
          "execution_count": 1,
          "metadata": {},
          "output_type": "execute_result"
        }
      ],
      "source": [
        "# proviamolo sulla grammatica d'esempio \n",
        "# e su \n",
        "\n",
        "INPUT = 'n - n - n'.split()\n",
        "\n",
        "steps = lr0parse(lr0a, INPUT, Gpf)\n",
        "steps"
      ]
    },
    {
      "cell_type": "markdown",
      "metadata": {},
      "source": [
        "L'algoritmo restituisce i passi di una derivazione rightmost, dall'ultimo al primo"
      ]
    },
    {
      "cell_type": "code",
      "execution_count": null,
      "metadata": {},
      "outputs": [
        {
          "data": {
            "text/plain": [
              "S’ -> E ♯ -> E - T ♯ -> E - n ♯ -> E - T - n ♯ -> E - n - n ♯ -> T - n - n ♯ -> n - n - n ♯"
            ]
          },
          "execution_count": 1,
          "metadata": {},
          "output_type": "execute_result"
        }
      ],
      "source": [
        "dpf = Derivation(Gpf).rightmost(reversed(steps))\n",
        "dpf"
      ]
    },
    {
      "cell_type": "markdown",
      "metadata": {},
      "source": [
        "Possiamo visualizzare l'albero nella grammatica originale $G$ semplicemente trascurando l'ultima produzione (che è quella che produce il simbolo iniziale di $G$ seguito dal terminatore)."
      ]
    },
    {
      "cell_type": "code",
      "execution_count": null,
      "metadata": {},
      "outputs": [
        {
          "data": {
            "image/svg+xml": [
              "<?xml version=\"1.0\" encoding=\"UTF-8\" standalone=\"no\"?>\n",
              "<!DOCTYPE svg PUBLIC \"-//W3C//DTD SVG 1.1//EN\"\n",
              " \"http://www.w3.org/Graphics/SVG/1.1/DTD/svg11.dtd\">\n",
              "<!-- Generated by graphviz version 2.43.0 (0)\n",
              " -->\n",
              "<!-- Title: %3 Pages: 1 -->\n",
              "<svg width=\"124pt\" height=\"195pt\"\n",
              " viewBox=\"0.00 0.00 124.00 195.00\" xmlns=\"http://www.w3.org/2000/svg\" xmlns:xlink=\"http://www.w3.org/1999/xlink\">\n",
              "<g id=\"graph0\" class=\"graph\" transform=\"scale(1 1) rotate(0) translate(4 191)\">\n",
              "<title>%3</title>\n",
              "<polygon fill=\"white\" stroke=\"transparent\" points=\"-4,4 -4,-191 120,-191 120,4 -4,4\"/>\n",
              "<!-- &#45;6315314404292156113 -->\n",
              "<g id=\"node1\" class=\"node\">\n",
              "<title>&#45;6315314404292156113</title>\n",
              "<path fill=\"none\" stroke=\"black\" stroke-width=\"0.25\" d=\"M77.33,-187C77.33,-187 71.67,-187 71.67,-187 68.83,-187 66,-184.17 66,-181.33 66,-181.33 66,-169.67 66,-169.67 66,-166.83 68.83,-164 71.67,-164 71.67,-164 77.33,-164 77.33,-164 80.17,-164 83,-166.83 83,-169.67 83,-169.67 83,-181.33 83,-181.33 83,-184.17 80.17,-187 77.33,-187\"/>\n",
              "<text text-anchor=\"middle\" x=\"74.5\" y=\"-171.8\" font-family=\"Times,serif\" font-size=\"14.00\">E</text>\n",
              "</g>\n",
              "<!-- 3534834247672231939 -->\n",
              "<g id=\"node2\" class=\"node\">\n",
              "<title>3534834247672231939</title>\n",
              "<path fill=\"none\" stroke=\"black\" stroke-width=\"0.25\" d=\"M44.33,-146C44.33,-146 38.67,-146 38.67,-146 35.83,-146 33,-143.17 33,-140.33 33,-140.33 33,-128.67 33,-128.67 33,-125.83 35.83,-123 38.67,-123 38.67,-123 44.33,-123 44.33,-123 47.17,-123 50,-125.83 50,-128.67 50,-128.67 50,-140.33 50,-140.33 50,-143.17 47.17,-146 44.33,-146\"/>\n",
              "<text text-anchor=\"middle\" x=\"41.5\" y=\"-130.8\" font-family=\"Times,serif\" font-size=\"14.00\">E</text>\n",
              "</g>\n",
              "<!-- &#45;6315314404292156113&#45;&gt;3534834247672231939 -->\n",
              "<g id=\"edge1\" class=\"edge\">\n",
              "<title>&#45;6315314404292156113&#45;&gt;3534834247672231939</title>\n",
              "<path fill=\"none\" stroke=\"black\" stroke-width=\"0.5\" d=\"M65.83,-164.25C61.02,-158.57 55.05,-151.51 50.23,-145.81\"/>\n",
              "</g>\n",
              "<!-- 3477037247755119225 -->\n",
              "<g id=\"node3\" class=\"node\">\n",
              "<title>3477037247755119225</title>\n",
              "<path fill=\"none\" stroke=\"black\" stroke-width=\"1.25\" d=\"M76.67,-146C76.67,-146 72.33,-146 72.33,-146 70.17,-146 68,-143.83 68,-141.67 68,-141.67 68,-127.33 68,-127.33 68,-125.17 70.17,-123 72.33,-123 72.33,-123 76.67,-123 76.67,-123 78.83,-123 81,-125.17 81,-127.33 81,-127.33 81,-141.67 81,-141.67 81,-143.83 78.83,-146 76.67,-146\"/>\n",
              "<text text-anchor=\"middle\" x=\"74.5\" y=\"-130.8\" font-family=\"Times,serif\" font-size=\"14.00\">&#45;</text>\n",
              "</g>\n",
              "<!-- &#45;6315314404292156113&#45;&gt;3477037247755119225 -->\n",
              "<g id=\"edge2\" class=\"edge\">\n",
              "<title>&#45;6315314404292156113&#45;&gt;3477037247755119225</title>\n",
              "<path fill=\"none\" stroke=\"black\" stroke-width=\"0.5\" d=\"M74.5,-163.84C74.5,-158.34 74.5,-151.65 74.5,-146.14\"/>\n",
              "</g>\n",
              "<!-- &#45;7818676655468299451 -->\n",
              "<g id=\"node4\" class=\"node\">\n",
              "<title>&#45;7818676655468299451</title>\n",
              "<path fill=\"none\" stroke=\"black\" stroke-width=\"0.25\" d=\"M110.33,-146C110.33,-146 104.67,-146 104.67,-146 101.83,-146 99,-143.17 99,-140.33 99,-140.33 99,-128.67 99,-128.67 99,-125.83 101.83,-123 104.67,-123 104.67,-123 110.33,-123 110.33,-123 113.17,-123 116,-125.83 116,-128.67 116,-128.67 116,-140.33 116,-140.33 116,-143.17 113.17,-146 110.33,-146\"/>\n",
              "<text text-anchor=\"middle\" x=\"107.5\" y=\"-130.8\" font-family=\"Times,serif\" font-size=\"14.00\">T</text>\n",
              "</g>\n",
              "<!-- &#45;6315314404292156113&#45;&gt;&#45;7818676655468299451 -->\n",
              "<g id=\"edge3\" class=\"edge\">\n",
              "<title>&#45;6315314404292156113&#45;&gt;&#45;7818676655468299451</title>\n",
              "<path fill=\"none\" stroke=\"black\" stroke-width=\"0.5\" d=\"M83.17,-164.25C87.98,-158.57 93.95,-151.51 98.77,-145.81\"/>\n",
              "</g>\n",
              "<!-- 3534834247672231939&#45;&gt;3477037247755119225 -->\n",
              "<!-- &#45;1768243823005354616 -->\n",
              "<g id=\"node6\" class=\"node\">\n",
              "<title>&#45;1768243823005354616</title>\n",
              "<path fill=\"none\" stroke=\"black\" stroke-width=\"0.25\" d=\"M11.33,-105C11.33,-105 5.67,-105 5.67,-105 2.83,-105 0,-102.17 0,-99.33 0,-99.33 0,-87.67 0,-87.67 0,-84.83 2.83,-82 5.67,-82 5.67,-82 11.33,-82 11.33,-82 14.17,-82 17,-84.83 17,-87.67 17,-87.67 17,-99.33 17,-99.33 17,-102.17 14.17,-105 11.33,-105\"/>\n",
              "<text text-anchor=\"middle\" x=\"8.5\" y=\"-89.8\" font-family=\"Times,serif\" font-size=\"14.00\">E</text>\n",
              "</g>\n",
              "<!-- 3534834247672231939&#45;&gt;&#45;1768243823005354616 -->\n",
              "<g id=\"edge7\" class=\"edge\">\n",
              "<title>3534834247672231939&#45;&gt;&#45;1768243823005354616</title>\n",
              "<path fill=\"none\" stroke=\"black\" stroke-width=\"0.5\" d=\"M32.83,-123.25C28.02,-117.57 22.05,-110.51 17.23,-104.81\"/>\n",
              "</g>\n",
              "<!-- 3001278937258995967 -->\n",
              "<g id=\"node7\" class=\"node\">\n",
              "<title>3001278937258995967</title>\n",
              "<path fill=\"none\" stroke=\"black\" stroke-width=\"1.25\" d=\"M43.67,-105C43.67,-105 39.33,-105 39.33,-105 37.17,-105 35,-102.83 35,-100.67 35,-100.67 35,-86.33 35,-86.33 35,-84.17 37.17,-82 39.33,-82 39.33,-82 43.67,-82 43.67,-82 45.83,-82 48,-84.17 48,-86.33 48,-86.33 48,-100.67 48,-100.67 48,-102.83 45.83,-105 43.67,-105\"/>\n",
              "<text text-anchor=\"middle\" x=\"41.5\" y=\"-89.8\" font-family=\"Times,serif\" font-size=\"14.00\">&#45;</text>\n",
              "</g>\n",
              "<!-- 3534834247672231939&#45;&gt;3001278937258995967 -->\n",
              "<g id=\"edge8\" class=\"edge\">\n",
              "<title>3534834247672231939&#45;&gt;3001278937258995967</title>\n",
              "<path fill=\"none\" stroke=\"black\" stroke-width=\"0.5\" d=\"M41.5,-122.84C41.5,-117.34 41.5,-110.65 41.5,-105.14\"/>\n",
              "</g>\n",
              "<!-- &#45;405585850244157092 -->\n",
              "<g id=\"node8\" class=\"node\">\n",
              "<title>&#45;405585850244157092</title>\n",
              "<path fill=\"none\" stroke=\"black\" stroke-width=\"0.25\" d=\"M77.33,-105C77.33,-105 71.67,-105 71.67,-105 68.83,-105 66,-102.17 66,-99.33 66,-99.33 66,-87.67 66,-87.67 66,-84.83 68.83,-82 71.67,-82 71.67,-82 77.33,-82 77.33,-82 80.17,-82 83,-84.83 83,-87.67 83,-87.67 83,-99.33 83,-99.33 83,-102.17 80.17,-105 77.33,-105\"/>\n",
              "<text text-anchor=\"middle\" x=\"74.5\" y=\"-89.8\" font-family=\"Times,serif\" font-size=\"14.00\">T</text>\n",
              "</g>\n",
              "<!-- 3534834247672231939&#45;&gt;&#45;405585850244157092 -->\n",
              "<g id=\"edge9\" class=\"edge\">\n",
              "<title>3534834247672231939&#45;&gt;&#45;405585850244157092</title>\n",
              "<path fill=\"none\" stroke=\"black\" stroke-width=\"0.5\" d=\"M50.17,-123.25C54.98,-117.57 60.95,-110.51 65.77,-104.81\"/>\n",
              "</g>\n",
              "<!-- 3477037247755119225&#45;&gt;&#45;7818676655468299451 -->\n",
              "<!-- 6734484494632573483 -->\n",
              "<g id=\"node5\" class=\"node\">\n",
              "<title>6734484494632573483</title>\n",
              "<path fill=\"none\" stroke=\"black\" stroke-width=\"1.25\" d=\"M111,-105C111,-105 106,-105 106,-105 103.5,-105 101,-102.5 101,-100 101,-100 101,-87 101,-87 101,-84.5 103.5,-82 106,-82 106,-82 111,-82 111,-82 113.5,-82 116,-84.5 116,-87 116,-87 116,-100 116,-100 116,-102.5 113.5,-105 111,-105\"/>\n",
              "<text text-anchor=\"middle\" x=\"108.5\" y=\"-89.8\" font-family=\"Times,serif\" font-size=\"14.00\">n</text>\n",
              "</g>\n",
              "<!-- &#45;7818676655468299451&#45;&gt;6734484494632573483 -->\n",
              "<g id=\"edge6\" class=\"edge\">\n",
              "<title>&#45;7818676655468299451&#45;&gt;6734484494632573483</title>\n",
              "<path fill=\"none\" stroke=\"black\" stroke-width=\"0.5\" d=\"M107.77,-122.84C107.91,-117.34 108.09,-110.65 108.23,-105.14\"/>\n",
              "</g>\n",
              "<!-- &#45;1768243823005354616&#45;&gt;3001278937258995967 -->\n",
              "<!-- &#45;2924873265066677578 -->\n",
              "<g id=\"node10\" class=\"node\">\n",
              "<title>&#45;2924873265066677578</title>\n",
              "<path fill=\"none\" stroke=\"black\" stroke-width=\"0.25\" d=\"M11.33,-64C11.33,-64 5.67,-64 5.67,-64 2.83,-64 0,-61.17 0,-58.33 0,-58.33 0,-46.67 0,-46.67 0,-43.83 2.83,-41 5.67,-41 5.67,-41 11.33,-41 11.33,-41 14.17,-41 17,-43.83 17,-46.67 17,-46.67 17,-58.33 17,-58.33 17,-61.17 14.17,-64 11.33,-64\"/>\n",
              "<text text-anchor=\"middle\" x=\"8.5\" y=\"-48.8\" font-family=\"Times,serif\" font-size=\"14.00\">T</text>\n",
              "</g>\n",
              "<!-- &#45;1768243823005354616&#45;&gt;&#45;2924873265066677578 -->\n",
              "<g id=\"edge13\" class=\"edge\">\n",
              "<title>&#45;1768243823005354616&#45;&gt;&#45;2924873265066677578</title>\n",
              "<path fill=\"none\" stroke=\"black\" stroke-width=\"0.5\" d=\"M8.5,-81.84C8.5,-76.34 8.5,-69.65 8.5,-64.14\"/>\n",
              "</g>\n",
              "<!-- 3001278937258995967&#45;&gt;&#45;405585850244157092 -->\n",
              "<!-- 1431406423954986928 -->\n",
              "<g id=\"node9\" class=\"node\">\n",
              "<title>1431406423954986928</title>\n",
              "<path fill=\"none\" stroke=\"black\" stroke-width=\"1.25\" d=\"M77,-64C77,-64 72,-64 72,-64 69.5,-64 67,-61.5 67,-59 67,-59 67,-46 67,-46 67,-43.5 69.5,-41 72,-41 72,-41 77,-41 77,-41 79.5,-41 82,-43.5 82,-46 82,-46 82,-59 82,-59 82,-61.5 79.5,-64 77,-64\"/>\n",
              "<text text-anchor=\"middle\" x=\"74.5\" y=\"-48.8\" font-family=\"Times,serif\" font-size=\"14.00\">n</text>\n",
              "</g>\n",
              "<!-- &#45;405585850244157092&#45;&gt;1431406423954986928 -->\n",
              "<g id=\"edge12\" class=\"edge\">\n",
              "<title>&#45;405585850244157092&#45;&gt;1431406423954986928</title>\n",
              "<path fill=\"none\" stroke=\"black\" stroke-width=\"0.5\" d=\"M74.5,-81.84C74.5,-76.34 74.5,-69.65 74.5,-64.14\"/>\n",
              "</g>\n",
              "<!-- 8844497229179129287 -->\n",
              "<g id=\"node11\" class=\"node\">\n",
              "<title>8844497229179129287</title>\n",
              "<path fill=\"none\" stroke=\"black\" stroke-width=\"1.25\" d=\"M11,-23C11,-23 6,-23 6,-23 3.5,-23 1,-20.5 1,-18 1,-18 1,-5 1,-5 1,-2.5 3.5,0 6,0 6,0 11,0 11,0 13.5,0 16,-2.5 16,-5 16,-5 16,-18 16,-18 16,-20.5 13.5,-23 11,-23\"/>\n",
              "<text text-anchor=\"middle\" x=\"8.5\" y=\"-7.8\" font-family=\"Times,serif\" font-size=\"14.00\">n</text>\n",
              "</g>\n",
              "<!-- &#45;2924873265066677578&#45;&gt;8844497229179129287 -->\n",
              "<g id=\"edge14\" class=\"edge\">\n",
              "<title>&#45;2924873265066677578&#45;&gt;8844497229179129287</title>\n",
              "<path fill=\"none\" stroke=\"black\" stroke-width=\"0.5\" d=\"M8.5,-40.84C8.5,-35.34 8.5,-28.65 8.5,-23.14\"/>\n",
              "</g>\n",
              "</g>\n",
              "</svg>\n"
            ],
            "text/plain": [
              "ProductionGraph(E -> E - T -> E - n -> E - T - n -> E - n - n -> T - n - n -> n - n - n)"
            ]
          },
          "execution_count": 1,
          "metadata": {},
          "output_type": "execute_result"
        }
      ],
      "source": [
        "d = Derivation(G).rightmost(reversed(steps[:-1]))\n",
        "ProductionGraph(d)"
      ]
    },
    {
      "cell_type": "markdown",
      "metadata": {},
      "source": [
        "## Conflitti\n",
        "\n",
        "Purtroppo l'approccio funziona solo per alcune grammatice. Con altre possono presentarsi conflitti *shift/reduce*."
      ]
    },
    {
      "cell_type": "code",
      "execution_count": null,
      "metadata": {},
      "outputs": [],
      "source": [
        "# ad esempio\n",
        "\n",
        "Gsr = Grammar.from_string(\"\"\"\n",
        "S -> A b | A\n",
        "A -> a\n",
        "\"\"\")"
      ]
    },
    {
      "cell_type": "code",
      "execution_count": null,
      "metadata": {},
      "outputs": [
        {
          "data": {
            "image/svg+xml": [
              "<?xml version=\"1.0\" encoding=\"UTF-8\" standalone=\"no\"?>\n",
              "<!DOCTYPE svg PUBLIC \"-//W3C//DTD SVG 1.1//EN\"\n",
              " \"http://www.w3.org/Graphics/SVG/1.1/DTD/svg11.dtd\">\n",
              "<!-- Generated by graphviz version 2.43.0 (0)\n",
              " -->\n",
              "<!-- Title: %3 Pages: 1 -->\n",
              "<svg width=\"416pt\" height=\"124pt\"\n",
              " viewBox=\"0.00 0.00 416.14 123.87\" xmlns=\"http://www.w3.org/2000/svg\" xmlns:xlink=\"http://www.w3.org/1999/xlink\">\n",
              "<g id=\"graph0\" class=\"graph\" transform=\"scale(1 1) rotate(0) translate(4 119.87)\">\n",
              "<title>%3</title>\n",
              "<polygon fill=\"white\" stroke=\"transparent\" points=\"-4,4 -4,-119.87 412.14,-119.87 412.14,4 -4,4\"/>\n",
              "<!-- 140429103666560 -->\n",
              "<g id=\"node1\" class=\"node\">\n",
              "<title>140429103666560</title>\n",
              "</g>\n",
              "<!-- 1356581574344639336 -->\n",
              "<g id=\"node2\" class=\"node\">\n",
              "<title>1356581574344639336</title>\n",
              "<ellipse fill=\"none\" stroke=\"black\" cx=\"131.72\" cy=\"-55\" rx=\"41.94\" ry=\"37.45\"/>\n",
              "<text text-anchor=\"middle\" x=\"131.72\" y=\"-66.3\" font-family=\"Times,serif\" font-size=\"14.00\">A &#45;&gt; •a</text>\n",
              "<text text-anchor=\"middle\" x=\"131.72\" y=\"-51.3\" font-family=\"Times,serif\" font-size=\"14.00\">S &#45;&gt; •A</text>\n",
              "<text text-anchor=\"middle\" x=\"131.72\" y=\"-36.3\" font-family=\"Times,serif\" font-size=\"14.00\">S &#45;&gt; •A b</text>\n",
              "</g>\n",
              "<!-- 140429103666560&#45;&gt;1356581574344639336 -->\n",
              "<g id=\"edge1\" class=\"edge\">\n",
              "<title>140429103666560&#45;&gt;1356581574344639336</title>\n",
              "<path fill=\"none\" stroke=\"black\" d=\"M54.19,-55C61.96,-55 70.76,-55 79.55,-55\"/>\n",
              "<polygon fill=\"black\" stroke=\"black\" points=\"79.8,-58.5 89.8,-55 79.8,-51.5 79.8,-58.5\"/>\n",
              "</g>\n",
              "<!-- 5247941439681046726 -->\n",
              "<g id=\"node3\" class=\"node\">\n",
              "<title>5247941439681046726</title>\n",
              "<ellipse fill=\"none\" stroke=\"black\" cx=\"249.74\" cy=\"-89\" rx=\"40.11\" ry=\"26.74\"/>\n",
              "<text text-anchor=\"middle\" x=\"249.74\" y=\"-92.8\" font-family=\"Times,serif\" font-size=\"14.00\">S &#45;&gt; A•</text>\n",
              "<text text-anchor=\"middle\" x=\"249.74\" y=\"-77.8\" font-family=\"Times,serif\" font-size=\"14.00\">S &#45;&gt; A•b</text>\n",
              "</g>\n",
              "<!-- 1356581574344639336&#45;&gt;5247941439681046726 -->\n",
              "<g id=\"edge2\" class=\"edge\">\n",
              "<title>1356581574344639336&#45;&gt;5247941439681046726</title>\n",
              "<path fill=\"none\" stroke=\"black\" d=\"M171.68,-66.42C181.65,-69.34 192.48,-72.51 202.77,-75.53\"/>\n",
              "<polygon fill=\"black\" stroke=\"black\" points=\"201.85,-78.91 212.44,-78.36 203.82,-72.19 201.85,-78.91\"/>\n",
              "<text text-anchor=\"middle\" x=\"187.02\" y=\"-61.18\" font-family=\"Times,serif\" font-size=\"14.00\">A</text>\n",
              "</g>\n",
              "<!-- 8433923286273742702 -->\n",
              "<g id=\"node4\" class=\"node\">\n",
              "<title>8433923286273742702</title>\n",
              "<ellipse fill=\"none\" stroke=\"black\" cx=\"249.74\" cy=\"-22\" rx=\"31.71\" ry=\"18\"/>\n",
              "<ellipse fill=\"none\" stroke=\"black\" cx=\"249.74\" cy=\"-22\" rx=\"35.69\" ry=\"22\"/>\n",
              "<text text-anchor=\"middle\" x=\"249.74\" y=\"-18.3\" font-family=\"Times,serif\" font-size=\"14.00\">A &#45;&gt; a•</text>\n",
              "</g>\n",
              "<!-- 1356581574344639336&#45;&gt;8433923286273742702 -->\n",
              "<g id=\"edge3\" class=\"edge\">\n",
              "<title>1356581574344639336&#45;&gt;8433923286273742702</title>\n",
              "<path fill=\"none\" stroke=\"black\" d=\"M171.68,-43.92C183.08,-40.68 195.59,-37.12 207.16,-33.83\"/>\n",
              "<polygon fill=\"black\" stroke=\"black\" points=\"208.36,-37.13 217.02,-31.02 206.44,-30.39 208.36,-37.13\"/>\n",
              "<text text-anchor=\"middle\" x=\"190.92\" y=\"-26.25\" font-family=\"Times,serif\" font-size=\"14.00\">a</text>\n",
              "</g>\n",
              "<!-- 5503865474598785529 -->\n",
              "<g id=\"node5\" class=\"node\">\n",
              "<title>5503865474598785529</title>\n",
              "<ellipse fill=\"none\" stroke=\"black\" cx=\"367.1\" cy=\"-89\" rx=\"37.09\" ry=\"18\"/>\n",
              "<ellipse fill=\"none\" stroke=\"black\" cx=\"367.1\" cy=\"-89\" rx=\"41.09\" ry=\"22\"/>\n",
              "<text text-anchor=\"middle\" x=\"367.1\" y=\"-85.3\" font-family=\"Times,serif\" font-size=\"14.00\">S &#45;&gt; A b•</text>\n",
              "</g>\n",
              "<!-- 5247941439681046726&#45;&gt;5503865474598785529 -->\n",
              "<g id=\"edge4\" class=\"edge\">\n",
              "<title>5247941439681046726&#45;&gt;5503865474598785529</title>\n",
              "<path fill=\"none\" stroke=\"black\" d=\"M290.12,-89C298.29,-89 307,-89 315.5,-89\"/>\n",
              "<polygon fill=\"black\" stroke=\"black\" points=\"315.72,-92.5 325.72,-89 315.72,-85.5 315.72,-92.5\"/>\n",
              "<text text-anchor=\"middle\" x=\"304.39\" y=\"-77.8\" font-family=\"Times,serif\" font-size=\"14.00\">b</text>\n",
              "</g>\n",
              "</g>\n",
              "</svg>\n"
            ],
            "text/plain": [
              "<liblet.display.StateTransitionGraph at 0x7fb840047700>"
            ]
          },
          "execution_count": 1,
          "metadata": {},
          "output_type": "execute_result"
        }
      ],
      "source": [
        "lr0asr = compute_lr0_automaton(Gsr)\n",
        "StateTransitionGraph.from_automaton(lr0asr, large_labels = True)"
      ]
    },
    {
      "cell_type": "markdown",
      "metadata": {},
      "source": [
        "Lo stato $\\{S\\to A•, S\\to A•b\\}$ può essere interpretato sia come uno shift verso $\\{S\\to Ab•\\}$ che come un reduce $S\\to A$.\n",
        "\n",
        "Possono inoltre presentarsi conflitti *reduce/reduce*."
      ]
    },
    {
      "cell_type": "code",
      "execution_count": null,
      "metadata": {},
      "outputs": [],
      "source": [
        "# ad esempio\n",
        "\n",
        "Grr = Grammar.from_string(\"\"\"\n",
        "S -> A | a\n",
        "A -> a\n",
        "\"\"\")"
      ]
    },
    {
      "cell_type": "code",
      "execution_count": null,
      "metadata": {},
      "outputs": [
        {
          "data": {
            "image/svg+xml": [
              "<?xml version=\"1.0\" encoding=\"UTF-8\" standalone=\"no\"?>\n",
              "<!DOCTYPE svg PUBLIC \"-//W3C//DTD SVG 1.1//EN\"\n",
              " \"http://www.w3.org/Graphics/SVG/1.1/DTD/svg11.dtd\">\n",
              "<!-- Generated by graphviz version 2.43.0 (0)\n",
              " -->\n",
              "<!-- Title: %3 Pages: 1 -->\n",
              "<svg width=\"280pt\" height=\"124pt\"\n",
              " viewBox=\"0.00 0.00 280.42 123.87\" xmlns=\"http://www.w3.org/2000/svg\" xmlns:xlink=\"http://www.w3.org/1999/xlink\">\n",
              "<g id=\"graph0\" class=\"graph\" transform=\"scale(1 1) rotate(0) translate(4 119.87)\">\n",
              "<title>%3</title>\n",
              "<polygon fill=\"white\" stroke=\"transparent\" points=\"-4,4 -4,-119.87 276.42,-119.87 276.42,4 -4,4\"/>\n",
              "<!-- 140429103596032 -->\n",
              "<g id=\"node1\" class=\"node\">\n",
              "<title>140429103596032</title>\n",
              "</g>\n",
              "<!-- 192522305661863960 -->\n",
              "<g id=\"node2\" class=\"node\">\n",
              "<title>192522305661863960</title>\n",
              "<ellipse fill=\"none\" stroke=\"black\" cx=\"126.06\" cy=\"-59.87\" rx=\"36.12\" ry=\"37.45\"/>\n",
              "<text text-anchor=\"middle\" x=\"126.06\" y=\"-71.17\" font-family=\"Times,serif\" font-size=\"14.00\">A &#45;&gt; •a</text>\n",
              "<text text-anchor=\"middle\" x=\"126.06\" y=\"-56.17\" font-family=\"Times,serif\" font-size=\"14.00\">S &#45;&gt; •A</text>\n",
              "<text text-anchor=\"middle\" x=\"126.06\" y=\"-41.17\" font-family=\"Times,serif\" font-size=\"14.00\">S &#45;&gt; •a</text>\n",
              "</g>\n",
              "<!-- 140429103596032&#45;&gt;192522305661863960 -->\n",
              "<g id=\"edge1\" class=\"edge\">\n",
              "<title>140429103596032&#45;&gt;192522305661863960</title>\n",
              "<path fill=\"none\" stroke=\"black\" d=\"M54.01,-59.87C61.92,-59.87 70.86,-59.87 79.66,-59.87\"/>\n",
              "<polygon fill=\"black\" stroke=\"black\" points=\"79.85,-63.37 89.85,-59.87 79.85,-56.37 79.85,-63.37\"/>\n",
              "</g>\n",
              "<!-- &#45;686927756196846563 -->\n",
              "<g id=\"node3\" class=\"node\">\n",
              "<title>&#45;686927756196846563</title>\n",
              "<ellipse fill=\"none\" stroke=\"black\" cx=\"235.27\" cy=\"-93.87\" rx=\"33.28\" ry=\"18\"/>\n",
              "<ellipse fill=\"none\" stroke=\"black\" cx=\"235.27\" cy=\"-93.87\" rx=\"37.29\" ry=\"22\"/>\n",
              "<text text-anchor=\"middle\" x=\"235.27\" y=\"-90.17\" font-family=\"Times,serif\" font-size=\"14.00\">S &#45;&gt; A•</text>\n",
              "</g>\n",
              "<!-- 192522305661863960&#45;&gt;&#45;686927756196846563 -->\n",
              "<g id=\"edge2\" class=\"edge\">\n",
              "<title>192522305661863960&#45;&gt;&#45;686927756196846563</title>\n",
              "<path fill=\"none\" stroke=\"black\" d=\"M160.69,-70.53C170.74,-73.72 181.89,-77.26 192.4,-80.59\"/>\n",
              "<polygon fill=\"black\" stroke=\"black\" points=\"191.64,-84.02 202.23,-83.71 193.75,-77.35 191.64,-84.02\"/>\n",
              "<text text-anchor=\"middle\" x=\"176.4\" y=\"-65.9\" font-family=\"Times,serif\" font-size=\"14.00\">A</text>\n",
              "</g>\n",
              "<!-- 5946962697597822146 -->\n",
              "<g id=\"node4\" class=\"node\">\n",
              "<title>5946962697597822146</title>\n",
              "<ellipse fill=\"none\" stroke=\"black\" cx=\"235.27\" cy=\"-26.87\" rx=\"34.8\" ry=\"26.74\"/>\n",
              "<text text-anchor=\"middle\" x=\"235.27\" y=\"-30.67\" font-family=\"Times,serif\" font-size=\"14.00\">A &#45;&gt; a•</text>\n",
              "<text text-anchor=\"middle\" x=\"235.27\" y=\"-15.67\" font-family=\"Times,serif\" font-size=\"14.00\">S &#45;&gt; a•</text>\n",
              "</g>\n",
              "<!-- 192522305661863960&#45;&gt;5946962697597822146 -->\n",
              "<g id=\"edge3\" class=\"edge\">\n",
              "<title>192522305661863960&#45;&gt;5946962697597822146</title>\n",
              "<path fill=\"none\" stroke=\"black\" d=\"M160.98,-49.43C171.12,-46.31 182.34,-42.85 192.9,-39.6\"/>\n",
              "<polygon fill=\"black\" stroke=\"black\" points=\"194.23,-42.86 202.76,-36.57 192.17,-36.17 194.23,-42.86\"/>\n",
              "<text text-anchor=\"middle\" x=\"178.35\" y=\"-31.81\" font-family=\"Times,serif\" font-size=\"14.00\">a</text>\n",
              "</g>\n",
              "</g>\n",
              "</svg>\n"
            ],
            "text/plain": [
              "<liblet.display.StateTransitionGraph at 0x7fb832d73bb0>"
            ]
          },
          "execution_count": 1,
          "metadata": {},
          "output_type": "execute_result"
        }
      ],
      "source": [
        "lr0arr = compute_lr0_automaton(Grr)\n",
        "StateTransitionGraph.from_automaton(lr0arr, large_labels = True)"
      ]
    },
    {
      "cell_type": "markdown",
      "metadata": {},
      "source": [
        "In questo caso è lo stato $\\{A\\to a•, S\\to a•\\}$ che può essere interpretato come un reduce $A\\to a$ o $S\\to a$."
      ]
    },
    {
      "cell_type": "markdown",
      "metadata": {},
      "source": [
        "# <samp style=\"color: red;\">Per casa</samp> \n",
        "\n",
        "## L'automa e le tabelle `GOTO` e `ACTIONS` \n",
        "\n",
        "L'automa a stati finiti può essere rappresntato in modo più compatto attraverso due tabelle; dapprima è necessario numerare gli stati (in modo da poter utilizzare numeri interi invece che insiemi di item). "
      ]
    },
    {
      "cell_type": "code",
      "execution_count": null,
      "metadata": {},
      "outputs": [
        {
          "data": {
            "text/html": [
              "<style>td, th {border: 1pt solid lightgray !important ;}</style><table><tr><th style=\"text-align:left\">0<td style=\"text-align:left\"><pre>{E -&gt; E - T•}</pre>\n",
              "<tr><th style=\"text-align:left\">1<td style=\"text-align:left\"><pre>{T -&gt; n•}</pre>\n",
              "<tr><th style=\"text-align:left\">2<td style=\"text-align:left\"><pre>{T -&gt; (•E ), E -&gt; •T, T -&gt; •n, E -&gt; •E - T, T -&gt; •( E )}</pre>\n",
              "<tr><th style=\"text-align:left\">3<td style=\"text-align:left\"><pre>{S’ -&gt; •E ♯, E -&gt; •T, T -&gt; •n, E -&gt; •E - T, T -&gt; •( E )}</pre>\n",
              "<tr><th style=\"text-align:left\">4<td style=\"text-align:left\"><pre>{S’ -&gt; E ♯•}</pre>\n",
              "<tr><th style=\"text-align:left\">5<td style=\"text-align:left\"><pre>{T -&gt; •n, T -&gt; •( E ), E -&gt; E -•T}</pre>\n",
              "<tr><th style=\"text-align:left\">6<td style=\"text-align:left\"><pre>{E -&gt; T•}</pre>\n",
              "<tr><th style=\"text-align:left\">7<td style=\"text-align:left\"><pre>{S’ -&gt; E•♯, E -&gt; E•- T}</pre>\n",
              "<tr><th style=\"text-align:left\">8<td style=\"text-align:left\"><pre>{T -&gt; ( E )•}</pre>\n",
              "<tr><th style=\"text-align:left\">9<td style=\"text-align:left\"><pre>{T -&gt; ( E•), E -&gt; E•- T}</pre></table>"
            ],
            "text/plain": [
              "<IPython.core.display.HTML object>"
            ]
          },
          "execution_count": 1,
          "metadata": {},
          "output_type": "execute_result"
        }
      ],
      "source": [
        "states = sorted(map(set, lr0a.N))\n",
        "iter2table(states)"
      ]
    },
    {
      "cell_type": "markdown",
      "metadata": {},
      "source": [
        "Quindi si possono usare due tabelle: la tabella `GOTO` che descrive le transizioni"
      ]
    },
    {
      "cell_type": "code",
      "execution_count": null,
      "metadata": {},
      "outputs": [
        {
          "data": {
            "text/html": [
              "<style>td, th {border: 1pt solid lightgray !important; text-align: left !important;}</style><table><tr><td>&nbsp;<th><pre>(</pre><th><pre>E</pre><th><pre>T</pre><th><pre>n</pre><th><pre>-</pre><th><pre>♯</pre><th><pre>)</pre>\n",
              "<tr><th><pre>2<pre><td><pre>2</pre><td><pre>9</pre><td><pre>6</pre><td><pre>1</pre><td>&nbsp;<td>&nbsp;<td>&nbsp;\n",
              "<tr><th><pre>3<pre><td><pre>2</pre><td><pre>7</pre><td><pre>6</pre><td><pre>1</pre><td>&nbsp;<td>&nbsp;<td>&nbsp;\n",
              "<tr><th><pre>5<pre><td><pre>2</pre><td>&nbsp;<td><pre>0</pre><td><pre>1</pre><td>&nbsp;<td>&nbsp;<td>&nbsp;\n",
              "<tr><th><pre>7<pre><td>&nbsp;<td>&nbsp;<td>&nbsp;<td>&nbsp;<td><pre>5</pre><td><pre>4</pre><td>&nbsp;\n",
              "<tr><th><pre>9<pre><td>&nbsp;<td>&nbsp;<td>&nbsp;<td>&nbsp;<td><pre>5</pre><td>&nbsp;<td><pre>8</pre>\n",
              "</table>"
            ],
            "text/plain": [
              "<liblet.utils.Table at 0x7fb832d65190>"
            ]
          },
          "execution_count": 1,
          "metadata": {},
          "output_type": "execute_result"
        }
      ],
      "source": [
        "index_of = states.index\n",
        "\n",
        "GOTO = Table(2, set)\n",
        "for frm in states:\n",
        "    for X in sorted(lr0a.T):\n",
        "        to = lr0a.δ(frm, X)\n",
        "        if to: \n",
        "            to = first(to)\n",
        "            GOTO[index_of(frm), X] = index_of(to)\n",
        "            \n",
        "GOTO"
      ]
    },
    {
      "cell_type": "markdown",
      "metadata": {},
      "source": [
        "E una tabella `ACTIONS` per rappresentare le riduzioni (che avvengono solo per gli stati finali)"
      ]
    },
    {
      "cell_type": "code",
      "execution_count": null,
      "metadata": {},
      "outputs": [
        {
          "data": {
            "text/html": [
              "<style>td, th {border: 1pt solid lightgray !important; text-align: left !important;}</style><table><tr><th><pre>0</pre><td><pre>E -> E - T</pre>\n",
              "<tr><th><pre>1</pre><td><pre>T -> n</pre>\n",
              "<tr><th><pre>4</pre><td><pre>S’ -> E ♯</pre>\n",
              "<tr><th><pre>6</pre><td><pre>E -> T</pre>\n",
              "<tr><th><pre>8</pre><td><pre>T -> ( E )</pre></table>"
            ],
            "text/plain": [
              "<liblet.utils.Table at 0x7fb832d65fa0>"
            ]
          },
          "execution_count": 1,
          "metadata": {},
          "output_type": "execute_result"
        }
      ],
      "source": [
        "ACTIONS = Table(1)\n",
        "\n",
        "for n, state in enumerate(states):\n",
        "    if len(state) == 1: \n",
        "        A, α, _ = first(state)\n",
        "        ACTIONS[n] = Production(A, α)\n",
        "\n",
        "ACTIONS"
      ]
    },
    {
      "cell_type": "markdown",
      "metadata": {},
      "source": [
        "## Simulazione con le tabelle\n",
        "\n",
        "Può essere un interessante esecizio scrivere una variante della funzione `lr0parse` che invece di basarsi sul'automa, richieda solo la conoscenza delle tabelle `GOTO` e `ACTIONS` descritte in questa sezione."
      ]
    }
  ],
  "metadata": {
    "kernelspec": {
      "display_name": "Python 3",
      "language": "python",
      "name": "python3"
    },
    "language_info": {
      "codemirror_mode": {
        "name": "ipython",
        "version": 3
      },
      "file_extension": ".py",
      "mimetype": "text/x-python",
      "name": "python",
      "nbconvert_exporter": "python",
      "pygments_lexer": "ipython3"
    }
  },
  "nbformat": 4,
  "nbformat_minor": 4
}
