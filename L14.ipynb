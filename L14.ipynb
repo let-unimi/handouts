{
  "cells": [
    {
      "cell_type": "markdown",
      "metadata": {},
      "source": [
        "# Lezione 14"
      ]
    },
    {
      "cell_type": "code",
      "execution_count": null,
      "metadata": {},
      "outputs": [],
      "source": [
        "from liblet import (\n",
        "  Transition,\n",
        "  Automaton,\n",
        "  Grammar,\n",
        "  Production,\n",
        "  Item,\n",
        "  Derivation,\n",
        "  ProductionGraph,\n",
        "  Stack,\n",
        "  Queue,\n",
        "  StateTransitionGraph,\n",
        "  Table,\n",
        "  closure,\n",
        "  first,\n",
        "  iter2table,\n",
        "  warn,\n",
        "  HASH)"
      ]
    },
    {
      "cell_type": "markdown",
      "metadata": {},
      "source": [
        "## Item\n",
        "\n",
        "Una occhiata a come sono implementati gli *item* nella libreria. Una grammatica d'esempio"
      ]
    },
    {
      "cell_type": "code",
      "execution_count": null,
      "metadata": {},
      "outputs": [],
      "source": [
        "# fig. 3.17, pag. 159 MCD (sostituendo + con -)\n",
        "\n",
        "G = Grammar.from_string(\"\"\"\n",
        "E -> E - T | T\n",
        "T -> n | ( E )\n",
        "\"\"\")"
      ]
    },
    {
      "cell_type": "code",
      "execution_count": null,
      "metadata": {},
      "outputs": [
        {
          "data": {
            "text/plain": [
              "E -> •E - T"
            ]
          },
          "execution_count": 3,
          "metadata": {},
          "output_type": "execute_result"
        }
      ],
      "source": [
        "# Si costruisce dato rhs e lhs (come le produzioni)\n",
        "\n",
        "A, α = G.P[0]\n",
        "\n",
        "item = Item(A, α)\n",
        "\n",
        "item"
      ]
    },
    {
      "cell_type": "code",
      "execution_count": null,
      "metadata": {},
      "outputs": [
        {
          "name": "stdout",
          "output_type": "stream",
          "text": [
            "item = E -> E•- T, symbol_after_dot = -\n",
            "item = E -> E -•T, symbol_after_dot = T\n",
            "item = E -> E - T•, symbol_after_dot = None\n"
          ]
        }
      ],
      "source": [
        "# ha un metodo advance che sposta il punto e un metodo\n",
        "# symbol_after_dot che riporta il simbolo che segue il \n",
        "# punto (o None se il punto è oltre la fine del rhs)\n",
        "\n",
        "for X in α:\n",
        "  item = item.advance(X)\n",
        "  print(f'item = {item}, symbol_after_dot = {item.symbol_after_dot()}')"
      ]
    },
    {
      "cell_type": "markdown",
      "metadata": {},
      "source": [
        "## La ε-chiusura di un insieme di item\n",
        "\n",
        "Dato un insieme di item, la sua ε-chiusura è ottenuta prendendo la chiusura dell'operazione che aggiunge all'insieme, per ogni item $A\\to \\alpha • B \\beta$, tutti gli item $B\\to •\\gamma$ dove $B\\to \\gamma$ è una produzione di $G$."
      ]
    },
    {
      "cell_type": "code",
      "execution_count": null,
      "metadata": {},
      "outputs": [],
      "source": [
        "@closure\n",
        "def εclosure(items, G):\n",
        "  added = set()\n",
        "  for item in items:\n",
        "    X = item.symbol_after_dot()\n",
        "    if X is None: continue\n",
        "    added |= {Item(X, β) for β in G.alternatives(X)}\n",
        "  return frozenset(items | added)"
      ]
    },
    {
      "cell_type": "code",
      "execution_count": null,
      "metadata": {},
      "outputs": [
        {
          "data": {
            "text/plain": [
              "frozenset({E -> •E - T, E -> •T, T -> •( E ), T -> •n})"
            ]
          },
          "execution_count": 6,
          "metadata": {},
          "output_type": "execute_result"
        }
      ],
      "source": [
        "# vediamo come si comporta sul set di item che contiene solo l'item\n",
        "# ottenuto dalla prima produzione\n",
        "\n",
        "εclosure({Item(*G.P[0])}, G)"
      ]
    },
    {
      "cell_type": "markdown",
      "metadata": {},
      "source": [
        "## Costruzione dell'automa a stati finiti\n",
        "\n",
        "Definiamo l'automa che riconosce il linguaggio delle parti aperta delle derivazioni di una assegnata grammatica $G$. Tale automa ha per alfabeto $N\\cup T$ e per stati *insiemi* di item. \n",
        "\n",
        "Il suo stato iniziale $q_0$ è dato dalla ε-chiusura dell'insieme di item derivati da tutte le produzioni che coinvolgono il simbolo iniziale $S$"
      ]
    },
    {
      "cell_type": "code",
      "execution_count": null,
      "metadata": {},
      "outputs": [],
      "source": [
        "def q0(G):\n",
        "  return εclosure({Item(G.S, β) for β in G.alternatives(G.S)}, G)"
      ]
    },
    {
      "cell_type": "code",
      "execution_count": null,
      "metadata": {},
      "outputs": [
        {
          "data": {
            "text/plain": [
              "frozenset({E -> •E - T, E -> •T, T -> •( E ), T -> •n})"
            ]
          },
          "execution_count": 8,
          "metadata": {},
          "output_type": "execute_result"
        }
      ],
      "source": [
        "# nel caso della grammatica d'esempio si ha\n",
        "\n",
        "q0(G)"
      ]
    },
    {
      "cell_type": "markdown",
      "metadata": {},
      "source": [
        "La funzione di transizione $\\delta$ associa ad ogni insieme di item e simbolo dell'alfabeto l'ε-chiusura dell'insieme ottenuto avanzando col simbolo specificato il punto in ogni item."
      ]
    },
    {
      "cell_type": "code",
      "execution_count": null,
      "metadata": {},
      "outputs": [],
      "source": [
        "def δ(items, X, G):\n",
        "  return εclosure({item.advance(X) for item in items if item.advance(X)}, G)"
      ]
    },
    {
      "cell_type": "code",
      "execution_count": null,
      "metadata": {},
      "outputs": [
        {
          "data": {
            "text/plain": [
              "frozenset({E -> •E - T, E -> •T, T -> •( E ), T -> (•E ), T -> •n})"
            ]
          },
          "execution_count": 10,
          "metadata": {},
          "output_type": "execute_result"
        }
      ],
      "source": [
        "# vediamo come si comporta sullo stato iniziale\n",
        "# dato il simbolo '('\n",
        "\n",
        "δ(q0(G), '(', G)"
      ]
    },
    {
      "cell_type": "markdown",
      "metadata": {},
      "source": [
        "Prima di procedere, trasformiamo la grammatica in modo da rendere il linguaggio libero da prefissi"
      ]
    },
    {
      "cell_type": "code",
      "execution_count": null,
      "metadata": {},
      "outputs": [],
      "source": [
        "def add_eoi(G):\n",
        "  return Grammar(G.N | {'S′'}, G.T | {HASH}, G.P + (Production('S′', (G.S, HASH)), ), 'S′')"
      ]
    },
    {
      "cell_type": "code",
      "execution_count": null,
      "metadata": {},
      "outputs": [
        {
          "data": {
            "text/html": [
              "<style>td, th {border: 1pt solid lightgray !important ;}</style><table><tr><th><pre>E</pre><td style=\"text-align:left\"><pre>E - T<sub>(0)</sub> | T<sub>(1)</sub></pre><tr><th><pre>T</pre><td style=\"text-align:left\"><pre>n<sub>(2)</sub> | ( E )<sub>(3)</sub></pre><tr><th><pre>S′</pre><td style=\"text-align:left\"><pre>E ♯<sub>(4)</sub></pre></table>"
            ],
            "text/plain": [
              "(E -> E - T, E -> T, T -> n, T -> ( E ), S′ -> E ♯)"
            ]
          },
          "execution_count": 12,
          "metadata": {},
          "output_type": "execute_result"
        }
      ],
      "source": [
        "# vediamo l'effetto che ha sulla grammatica d'esempio\n",
        "\n",
        "Gpf = add_eoi(G)\n",
        "\n",
        "Gpf.P"
      ]
    },
    {
      "cell_type": "markdown",
      "metadata": {},
      "source": [
        "L'automa può essere costruito tramite una visita (in ampiezza) degli stati raggiungibili tramite $\\delta$; al termine della visita saranno noti tutti gli stati e tutte le *transizioni*. Vengono definiti *finali* gli stati corrispondenti ad insiemi di un solo item in cui il punto è oltre l'ultimo simbolo."
      ]
    },
    {
      "cell_type": "code",
      "execution_count": null,
      "metadata": {},
      "outputs": [],
      "source": [
        "def compute_lr0_automaton(G):\n",
        "\n",
        "  states = set([q0(G)])\n",
        "  transitions = []\n",
        "  q = Queue([q0(G)])\n",
        "  while q:\n",
        "    items = q.dequeue()\n",
        "    for X in G.T | G.N:\n",
        "      next_items = δ(items, X, G)\n",
        "      if not next_items: continue\n",
        "      transitions.append(Transition(items, X, next_items))\n",
        "      if next_items not in states: \n",
        "        states.add(next_items)\n",
        "        q.enqueue(next_items)\n",
        "\n",
        "  return Automaton(\n",
        "    states,\n",
        "    G.T | G.N,\n",
        "    transitions,\n",
        "    q0(G),\n",
        "    set(state for state in states if len(state) == 1 and first(state).symbol_after_dot() is None)\n",
        "  )"
      ]
    },
    {
      "cell_type": "code",
      "execution_count": null,
      "metadata": {},
      "outputs": [
        {
          "data": {
            "image/svg+xml": [
              "<?xml version=\"1.0\" encoding=\"UTF-8\" standalone=\"no\"?>\n",
              "<!DOCTYPE svg PUBLIC \"-//W3C//DTD SVG 1.1//EN\"\n",
              " \"http://www.w3.org/Graphics/SVG/1.1/DTD/svg11.dtd\">\n",
              "<!-- Generated by graphviz version 2.43.0 (0)\n",
              " -->\n",
              "<!-- Title: %3 Pages: 1 -->\n",
              "<svg width=\"820pt\" height=\"309pt\"\n",
              " viewBox=\"0.00 0.00 819.94 308.77\" xmlns=\"http://www.w3.org/2000/svg\" xmlns:xlink=\"http://www.w3.org/1999/xlink\">\n",
              "<g id=\"graph0\" class=\"graph\" transform=\"scale(1 1) rotate(0) translate(4 304.77)\">\n",
              "<title>%3</title>\n",
              "<polygon fill=\"white\" stroke=\"transparent\" points=\"-4,4 -4,-304.77 815.94,-304.77 815.94,4 -4,4\"/>\n",
              "<!-- 139648315776960 -->\n",
              "<g id=\"node1\" class=\"node\">\n",
              "<title>139648315776960</title>\n",
              "</g>\n",
              "<!-- 8584520494690567440 -->\n",
              "<g id=\"node2\" class=\"node\">\n",
              "<title>8584520494690567440</title>\n",
              "<ellipse fill=\"none\" stroke=\"black\" cx=\"135.96\" cy=\"-181\" rx=\"45.92\" ry=\"58.88\"/>\n",
              "<text text-anchor=\"middle\" x=\"135.96\" y=\"-207.3\" font-family=\"Times,serif\" font-size=\"14.00\">E &#45;&gt; •E &#45; T</text>\n",
              "<text text-anchor=\"middle\" x=\"135.96\" y=\"-192.3\" font-family=\"Times,serif\" font-size=\"14.00\">E &#45;&gt; •T</text>\n",
              "<text text-anchor=\"middle\" x=\"135.96\" y=\"-177.3\" font-family=\"Times,serif\" font-size=\"14.00\">S′ &#45;&gt; •E ♯</text>\n",
              "<text text-anchor=\"middle\" x=\"135.96\" y=\"-162.3\" font-family=\"Times,serif\" font-size=\"14.00\">T &#45;&gt; •( E )</text>\n",
              "<text text-anchor=\"middle\" x=\"135.96\" y=\"-147.3\" font-family=\"Times,serif\" font-size=\"14.00\">T &#45;&gt; •n</text>\n",
              "</g>\n",
              "<!-- 139648315776960&#45;&gt;8584520494690567440 -->\n",
              "<g id=\"edge1\" class=\"edge\">\n",
              "<title>139648315776960&#45;&gt;8584520494690567440</title>\n",
              "<path fill=\"none\" stroke=\"black\" d=\"M54.17,-181C61.98,-181 70.87,-181 79.81,-181\"/>\n",
              "<polygon fill=\"black\" stroke=\"black\" points=\"79.89,-184.5 89.89,-181 79.89,-177.5 79.89,-184.5\"/>\n",
              "</g>\n",
              "<!-- &#45;8943101125342567780 -->\n",
              "<g id=\"node3\" class=\"node\">\n",
              "<title>&#45;8943101125342567780</title>\n",
              "<ellipse fill=\"none\" stroke=\"black\" cx=\"644.69\" cy=\"-261\" rx=\"32.49\" ry=\"18\"/>\n",
              "<ellipse fill=\"none\" stroke=\"black\" cx=\"644.69\" cy=\"-261\" rx=\"36.49\" ry=\"22\"/>\n",
              "<text text-anchor=\"middle\" x=\"644.69\" y=\"-257.3\" font-family=\"Times,serif\" font-size=\"14.00\">E &#45;&gt; T•</text>\n",
              "</g>\n",
              "<!-- 8584520494690567440&#45;&gt;&#45;8943101125342567780 -->\n",
              "<g id=\"edge2\" class=\"edge\">\n",
              "<title>8584520494690567440&#45;&gt;&#45;8943101125342567780</title>\n",
              "<path fill=\"none\" stroke=\"black\" d=\"M179.55,-200.63C241.9,-228.19 362.45,-276.99 470.94,-295 511.5,-301.73 523.15,-303.18 563.44,-295 578.47,-291.95 594.19,-285.98 607.68,-279.88\"/>\n",
              "<polygon fill=\"black\" stroke=\"black\" points=\"609.52,-282.89 617.08,-275.46 606.54,-276.55 609.52,-282.89\"/>\n",
              "<text text-anchor=\"middle\" x=\"383.27\" y=\"-265.16\" font-family=\"Times,serif\" font-size=\"14.00\">T</text>\n",
              "</g>\n",
              "<!-- &#45;8202798772577060379 -->\n",
              "<g id=\"node4\" class=\"node\">\n",
              "<title>&#45;8202798772577060379</title>\n",
              "<ellipse fill=\"none\" stroke=\"black\" cx=\"263.18\" cy=\"-154\" rx=\"45.01\" ry=\"26.74\"/>\n",
              "<text text-anchor=\"middle\" x=\"263.18\" y=\"-157.8\" font-family=\"Times,serif\" font-size=\"14.00\">E &#45;&gt; E•&#45; T</text>\n",
              "<text text-anchor=\"middle\" x=\"263.18\" y=\"-142.8\" font-family=\"Times,serif\" font-size=\"14.00\">S′ &#45;&gt; E•♯</text>\n",
              "</g>\n",
              "<!-- 8584520494690567440&#45;&gt;&#45;8202798772577060379 -->\n",
              "<g id=\"edge3\" class=\"edge\">\n",
              "<title>8584520494690567440&#45;&gt;&#45;8202798772577060379</title>\n",
              "<path fill=\"none\" stroke=\"black\" d=\"M181.46,-171.4C190.85,-169.38 200.84,-167.23 210.47,-165.15\"/>\n",
              "<polygon fill=\"black\" stroke=\"black\" points=\"211.3,-168.55 220.34,-163.02 209.82,-161.71 211.3,-168.55\"/>\n",
              "<text text-anchor=\"middle\" x=\"196.41\" y=\"-156.01\" font-family=\"Times,serif\" font-size=\"14.00\">E</text>\n",
              "</g>\n",
              "<!-- &#45;2961397805985441145 -->\n",
              "<g id=\"node5\" class=\"node\">\n",
              "<title>&#45;2961397805985441145</title>\n",
              "<ellipse fill=\"none\" stroke=\"black\" cx=\"644.69\" cy=\"-22\" rx=\"31.37\" ry=\"18\"/>\n",
              "<ellipse fill=\"none\" stroke=\"black\" cx=\"644.69\" cy=\"-22\" rx=\"35.4\" ry=\"22\"/>\n",
              "<text text-anchor=\"middle\" x=\"644.69\" y=\"-18.3\" font-family=\"Times,serif\" font-size=\"14.00\">T &#45;&gt; n•</text>\n",
              "</g>\n",
              "<!-- 8584520494690567440&#45;&gt;&#45;2961397805985441145 -->\n",
              "<g id=\"edge4\" class=\"edge\">\n",
              "<title>8584520494690567440&#45;&gt;&#45;2961397805985441145</title>\n",
              "<path fill=\"none\" stroke=\"black\" d=\"M173,-145.44C211.71,-109.78 276.84,-56.85 344.43,-33 430.92,-2.49 540.32,-8.8 599.98,-15.68\"/>\n",
              "<polygon fill=\"black\" stroke=\"black\" points=\"599.82,-19.19 610.17,-16.92 600.67,-12.24 599.82,-19.19\"/>\n",
              "<text text-anchor=\"middle\" x=\"373.77\" y=\"-12.14\" font-family=\"Times,serif\" font-size=\"14.00\">n</text>\n",
              "</g>\n",
              "<!-- 4489144862910861184 -->\n",
              "<g id=\"node6\" class=\"node\">\n",
              "<title>4489144862910861184</title>\n",
              "<ellipse fill=\"none\" stroke=\"black\" cx=\"517.19\" cy=\"-209\" rx=\"45.92\" ry=\"58.88\"/>\n",
              "<text text-anchor=\"middle\" x=\"517.19\" y=\"-235.3\" font-family=\"Times,serif\" font-size=\"14.00\">E &#45;&gt; •E &#45; T</text>\n",
              "<text text-anchor=\"middle\" x=\"517.19\" y=\"-220.3\" font-family=\"Times,serif\" font-size=\"14.00\">E &#45;&gt; •T</text>\n",
              "<text text-anchor=\"middle\" x=\"517.19\" y=\"-205.3\" font-family=\"Times,serif\" font-size=\"14.00\">T &#45;&gt; (•E )</text>\n",
              "<text text-anchor=\"middle\" x=\"517.19\" y=\"-190.3\" font-family=\"Times,serif\" font-size=\"14.00\">T &#45;&gt; •( E )</text>\n",
              "<text text-anchor=\"middle\" x=\"517.19\" y=\"-175.3\" font-family=\"Times,serif\" font-size=\"14.00\">T &#45;&gt; •n</text>\n",
              "</g>\n",
              "<!-- 8584520494690567440&#45;&gt;4489144862910861184 -->\n",
              "<g id=\"edge5\" class=\"edge\">\n",
              "<title>8584520494690567440&#45;&gt;4489144862910861184</title>\n",
              "<path fill=\"none\" stroke=\"black\" d=\"M181.89,-186.38C193.61,-187.67 206.23,-188.98 217.92,-190 302.7,-197.41 401.28,-203.12 461.17,-206.27\"/>\n",
              "<polygon fill=\"black\" stroke=\"black\" points=\"461,-209.77 471.17,-206.79 461.36,-202.78 461,-209.77\"/>\n",
              "<text text-anchor=\"middle\" x=\"323.59\" y=\"-187.04\" font-family=\"Times,serif\" font-size=\"14.00\">(</text>\n",
              "</g>\n",
              "<!-- 6138589659778702834 -->\n",
              "<g id=\"node7\" class=\"node\">\n",
              "<title>6138589659778702834</title>\n",
              "<ellipse fill=\"none\" stroke=\"black\" cx=\"389.69\" cy=\"-79\" rx=\"45.01\" ry=\"37.45\"/>\n",
              "<text text-anchor=\"middle\" x=\"389.69\" y=\"-90.3\" font-family=\"Times,serif\" font-size=\"14.00\">E &#45;&gt; E &#45;•T</text>\n",
              "<text text-anchor=\"middle\" x=\"389.69\" y=\"-75.3\" font-family=\"Times,serif\" font-size=\"14.00\">T &#45;&gt; •( E )</text>\n",
              "<text text-anchor=\"middle\" x=\"389.69\" y=\"-60.3\" font-family=\"Times,serif\" font-size=\"14.00\">T &#45;&gt; •n</text>\n",
              "</g>\n",
              "<!-- &#45;8202798772577060379&#45;&gt;6138589659778702834 -->\n",
              "<g id=\"edge6\" class=\"edge\">\n",
              "<title>&#45;8202798772577060379&#45;&gt;6138589659778702834</title>\n",
              "<path fill=\"none\" stroke=\"black\" d=\"M295.6,-135.07C310.19,-126.29 327.8,-115.68 343.76,-106.07\"/>\n",
              "<polygon fill=\"black\" stroke=\"black\" points=\"345.66,-109 352.42,-100.84 342.05,-103.01 345.66,-109\"/>\n",
              "<text text-anchor=\"middle\" x=\"321.69\" y=\"-106.65\" font-family=\"Times,serif\" font-size=\"14.00\">&#45;</text>\n",
              "</g>\n",
              "<!-- 2940220823600037107 -->\n",
              "<g id=\"node8\" class=\"node\">\n",
              "<title>2940220823600037107</title>\n",
              "<ellipse fill=\"none\" stroke=\"black\" cx=\"389.69\" cy=\"-156\" rx=\"38.99\" ry=\"18\"/>\n",
              "<ellipse fill=\"none\" stroke=\"black\" cx=\"389.69\" cy=\"-156\" rx=\"42.99\" ry=\"22\"/>\n",
              "<text text-anchor=\"middle\" x=\"389.69\" y=\"-152.3\" font-family=\"Times,serif\" font-size=\"14.00\">S′ &#45;&gt; E ♯•</text>\n",
              "</g>\n",
              "<!-- &#45;8202798772577060379&#45;&gt;2940220823600037107 -->\n",
              "<g id=\"edge7\" class=\"edge\">\n",
              "<title>&#45;8202798772577060379&#45;&gt;2940220823600037107</title>\n",
              "<path fill=\"none\" stroke=\"black\" d=\"M308.43,-154.71C317.56,-154.86 327.27,-155.01 336.65,-155.16\"/>\n",
              "<polygon fill=\"black\" stroke=\"black\" points=\"336.61,-158.66 346.67,-155.33 336.73,-151.66 336.61,-158.66\"/>\n",
              "<text text-anchor=\"middle\" x=\"323.84\" y=\"-143.81\" font-family=\"Times,serif\" font-size=\"14.00\">♯</text>\n",
              "</g>\n",
              "<!-- 4489144862910861184&#45;&gt;&#45;8943101125342567780 -->\n",
              "<g id=\"edge8\" class=\"edge\">\n",
              "<title>4489144862910861184&#45;&gt;&#45;8943101125342567780</title>\n",
              "<path fill=\"none\" stroke=\"black\" d=\"M561.03,-226.75C575.22,-232.63 590.93,-239.14 604.81,-244.89\"/>\n",
              "<polygon fill=\"black\" stroke=\"black\" points=\"603.51,-248.14 614.08,-248.73 606.19,-241.67 603.51,-248.14\"/>\n",
              "<text text-anchor=\"middle\" x=\"583.06\" y=\"-226.54\" font-family=\"Times,serif\" font-size=\"14.00\">T</text>\n",
              "</g>\n",
              "<!-- 4489144862910861184&#45;&gt;&#45;2961397805985441145 -->\n",
              "<g id=\"edge10\" class=\"edge\">\n",
              "<title>4489144862910861184&#45;&gt;&#45;2961397805985441145</title>\n",
              "<path fill=\"none\" stroke=\"black\" d=\"M547.93,-164.68C571.55,-129.49 603.89,-81.3 624.28,-50.92\"/>\n",
              "<polygon fill=\"black\" stroke=\"black\" points=\"627.29,-52.72 629.96,-42.47 621.48,-48.82 627.29,-52.72\"/>\n",
              "<text text-anchor=\"middle\" x=\"585.41\" y=\"-92.43\" font-family=\"Times,serif\" font-size=\"14.00\">n</text>\n",
              "</g>\n",
              "<!-- 4489144862910861184&#45;&gt;4489144862910861184 -->\n",
              "<g id=\"edge11\" class=\"edge\">\n",
              "<title>4489144862910861184&#45;&gt;4489144862910861184</title>\n",
              "<path fill=\"none\" stroke=\"black\" d=\"M493.64,-259.52C494.45,-274.27 502.3,-285.69 517.19,-285.69 528.47,-285.69 535.71,-279.13 538.91,-269.54\"/>\n",
              "<polygon fill=\"black\" stroke=\"black\" points=\"542.39,-269.99 540.74,-259.52 535.5,-268.73 542.39,-269.99\"/>\n",
              "<text text-anchor=\"middle\" x=\"491.37\" y=\"-266.05\" font-family=\"Times,serif\" font-size=\"14.00\">(</text>\n",
              "</g>\n",
              "<!-- &#45;6109473679997563313 -->\n",
              "<g id=\"node9\" class=\"node\">\n",
              "<title>&#45;6109473679997563313</title>\n",
              "<ellipse fill=\"none\" stroke=\"black\" cx=\"644.69\" cy=\"-158\" rx=\"45.01\" ry=\"26.74\"/>\n",
              "<text text-anchor=\"middle\" x=\"644.69\" y=\"-161.8\" font-family=\"Times,serif\" font-size=\"14.00\">E &#45;&gt; E•&#45; T</text>\n",
              "<text text-anchor=\"middle\" x=\"644.69\" y=\"-146.8\" font-family=\"Times,serif\" font-size=\"14.00\">T &#45;&gt; ( E•)</text>\n",
              "</g>\n",
              "<!-- 4489144862910861184&#45;&gt;&#45;6109473679997563313 -->\n",
              "<g id=\"edge9\" class=\"edge\">\n",
              "<title>4489144862910861184&#45;&gt;&#45;6109473679997563313</title>\n",
              "<path fill=\"none\" stroke=\"black\" d=\"M561.38,-191.45C572.9,-186.77 585.4,-181.69 597.1,-176.93\"/>\n",
              "<polygon fill=\"black\" stroke=\"black\" points=\"598.75,-180.04 606.69,-173.03 596.11,-173.56 598.75,-180.04\"/>\n",
              "<text text-anchor=\"middle\" x=\"579.76\" y=\"-170.95\" font-family=\"Times,serif\" font-size=\"14.00\">E</text>\n",
              "</g>\n",
              "<!-- 6138589659778702834&#45;&gt;&#45;2961397805985441145 -->\n",
              "<g id=\"edge13\" class=\"edge\">\n",
              "<title>6138589659778702834&#45;&gt;&#45;2961397805985441145</title>\n",
              "<path fill=\"none\" stroke=\"black\" d=\"M427.65,-58.34C440.93,-51.78 456.26,-45.16 470.94,-41 513.48,-28.96 563.92,-24.48 599.28,-22.85\"/>\n",
              "<polygon fill=\"black\" stroke=\"black\" points=\"599.44,-26.34 609.29,-22.44 599.16,-19.35 599.44,-26.34\"/>\n",
              "<text text-anchor=\"middle\" x=\"513.71\" y=\"-19.78\" font-family=\"Times,serif\" font-size=\"14.00\">n</text>\n",
              "</g>\n",
              "<!-- 6138589659778702834&#45;&gt;4489144862910861184 -->\n",
              "<g id=\"edge14\" class=\"edge\">\n",
              "<title>6138589659778702834&#45;&gt;4489144862910861184</title>\n",
              "<path fill=\"none\" stroke=\"black\" d=\"M418.85,-108.17C435.06,-124.96 455.74,-146.38 473.87,-165.16\"/>\n",
              "<polygon fill=\"black\" stroke=\"black\" points=\"471.47,-167.72 480.93,-172.48 476.51,-162.86 471.47,-167.72\"/>\n",
              "<text text-anchor=\"middle\" x=\"447.14\" y=\"-128.87\" font-family=\"Times,serif\" font-size=\"14.00\">(</text>\n",
              "</g>\n",
              "<!-- &#45;1148346143069302209 -->\n",
              "<g id=\"node10\" class=\"node\">\n",
              "<title>&#45;1148346143069302209</title>\n",
              "<ellipse fill=\"none\" stroke=\"black\" cx=\"517.19\" cy=\"-72\" rx=\"42.47\" ry=\"18\"/>\n",
              "<ellipse fill=\"none\" stroke=\"black\" cx=\"517.19\" cy=\"-72\" rx=\"46.49\" ry=\"22\"/>\n",
              "<text text-anchor=\"middle\" x=\"517.19\" y=\"-68.3\" font-family=\"Times,serif\" font-size=\"14.00\">E &#45;&gt; E &#45; T•</text>\n",
              "</g>\n",
              "<!-- 6138589659778702834&#45;&gt;&#45;1148346143069302209 -->\n",
              "<g id=\"edge12\" class=\"edge\">\n",
              "<title>6138589659778702834&#45;&gt;&#45;1148346143069302209</title>\n",
              "<path fill=\"none\" stroke=\"black\" d=\"M434.94,-76.53C443.36,-76.06 452.26,-75.57 460.98,-75.08\"/>\n",
              "<polygon fill=\"black\" stroke=\"black\" points=\"461.28,-78.57 471.07,-74.52 460.89,-71.58 461.28,-78.57\"/>\n",
              "<text text-anchor=\"middle\" x=\"448.68\" y=\"-64.31\" font-family=\"Times,serif\" font-size=\"14.00\">T</text>\n",
              "</g>\n",
              "<!-- &#45;6109473679997563313&#45;&gt;6138589659778702834 -->\n",
              "<g id=\"edge16\" class=\"edge\">\n",
              "<title>&#45;6109473679997563313&#45;&gt;6138589659778702834</title>\n",
              "<path fill=\"none\" stroke=\"black\" d=\"M604.26,-145.69C560.49,-132.02 489.73,-109.92 441.76,-94.95\"/>\n",
              "<polygon fill=\"black\" stroke=\"black\" points=\"442.77,-91.6 432.18,-91.96 440.69,-98.28 442.77,-91.6\"/>\n",
              "<text text-anchor=\"middle\" x=\"515.93\" y=\"-107.69\" font-family=\"Times,serif\" font-size=\"14.00\">&#45;</text>\n",
              "</g>\n",
              "<!-- &#45;2042534793383351863 -->\n",
              "<g id=\"node11\" class=\"node\">\n",
              "<title>&#45;2042534793383351863</title>\n",
              "<ellipse fill=\"none\" stroke=\"black\" cx=\"768.94\" cy=\"-158\" rx=\"38.99\" ry=\"18\"/>\n",
              "<ellipse fill=\"none\" stroke=\"black\" cx=\"768.94\" cy=\"-158\" rx=\"42.99\" ry=\"22\"/>\n",
              "<text text-anchor=\"middle\" x=\"768.94\" y=\"-154.3\" font-family=\"Times,serif\" font-size=\"14.00\">T &#45;&gt; ( E )•</text>\n",
              "</g>\n",
              "<!-- &#45;6109473679997563313&#45;&gt;&#45;2042534793383351863 -->\n",
              "<g id=\"edge15\" class=\"edge\">\n",
              "<title>&#45;6109473679997563313&#45;&gt;&#45;2042534793383351863</title>\n",
              "<path fill=\"none\" stroke=\"black\" d=\"M690.17,-158C698.42,-158 707.11,-158 715.57,-158\"/>\n",
              "<polygon fill=\"black\" stroke=\"black\" points=\"715.73,-161.5 725.73,-158 715.73,-154.5 715.73,-161.5\"/>\n",
              "<text text-anchor=\"middle\" x=\"705.49\" y=\"-146.8\" font-family=\"Times,serif\" font-size=\"14.00\">)</text>\n",
              "</g>\n",
              "</g>\n",
              "</svg>\n"
            ],
            "text/plain": [
              "<liblet.display.StateTransitionGraph at 0x7f026be0de10>"
            ]
          },
          "execution_count": 14,
          "metadata": {},
          "output_type": "execute_result"
        }
      ],
      "source": [
        "# visualizziamo l'automa ottenuto dalla grammatica d'esempio\n",
        "\n",
        "lr0a = compute_lr0_automaton(Gpf)\n",
        "\n",
        "StateTransitionGraph.from_automaton(lr0a, large_labels = True)"
      ]
    },
    {
      "cell_type": "markdown",
      "metadata": {},
      "source": [
        "## Parsing con un automa a pila \n",
        "\n",
        "Il parser segue l'algoritmo illustrato nella sezione 3.5.2 di MCD."
      ]
    },
    {
      "cell_type": "code",
      "execution_count": null,
      "metadata": {},
      "outputs": [],
      "source": [
        "def lr0parse(lr0a, text, G):\n",
        "\n",
        "  rest = text + [HASH, ]\n",
        "  s = Stack([lr0a.q0])\n",
        "  steps = []\n",
        "  \n",
        "  while True:\n",
        "    top = s.peek()\n",
        "    if top in lr0a.F: # REDUCE\n",
        "      N, α, _ = first(top)\n",
        "      steps.append(Production(N, α))\n",
        "      if N == G.S and not rest: return steps\n",
        "      for _ in α: s.pop()\n",
        "      nxt = first(lr0a.δ(s.peek(), N))\n",
        "    else: # SHIFT\n",
        "      if not rest: \n",
        "        warn('Unexpected end of input')\n",
        "        return None\n",
        "      token, *rest = rest\n",
        "      nxt = first(lr0a.δ(top, token))\n",
        "      if nxt is None: \n",
        "        warn(f'Unexpected token {token}')\n",
        "        return None\n",
        "    s.push(nxt)"
      ]
    },
    {
      "cell_type": "code",
      "execution_count": null,
      "metadata": {},
      "outputs": [
        {
          "data": {
            "text/plain": [
              "[T -> n, E -> T, T -> n, E -> E - T, T -> n, E -> E - T, S′ -> E ♯]"
            ]
          },
          "execution_count": 16,
          "metadata": {},
          "output_type": "execute_result"
        }
      ],
      "source": [
        "# proviamolo sulla grammatica d'esempio e su \n",
        "\n",
        "INPUT = 'n - n - n'.split()\n",
        "\n",
        "steps = lr0parse(lr0a, INPUT, Gpf)\n",
        "steps"
      ]
    },
    {
      "cell_type": "markdown",
      "metadata": {},
      "source": [
        "L'algoritmo restituisce i passi di una derivazione rightmost, dall'ultimo al primo"
      ]
    },
    {
      "cell_type": "code",
      "execution_count": null,
      "metadata": {},
      "outputs": [
        {
          "data": {
            "text/plain": [
              "S′ -> E ♯ -> E - T ♯ -> E - n ♯ -> E - T - n ♯ -> E - n - n ♯ -> T - n - n ♯ -> n - n - n ♯"
            ]
          },
          "execution_count": 17,
          "metadata": {},
          "output_type": "execute_result"
        }
      ],
      "source": [
        "dpf = Derivation(Gpf).rightmost(reversed(steps))\n",
        "dpf"
      ]
    },
    {
      "cell_type": "markdown",
      "metadata": {},
      "source": [
        "Possiamo visualizzare l'albero nella grammatica originale $G$ semplicemente trascurando l'ultima produzione (che è quella che produce il simbolo iniziale di $G$ seguito dal terminatore)."
      ]
    },
    {
      "cell_type": "code",
      "execution_count": null,
      "metadata": {},
      "outputs": [
        {
          "data": {
            "image/svg+xml": [
              "<?xml version=\"1.0\" encoding=\"UTF-8\" standalone=\"no\"?>\n",
              "<!DOCTYPE svg PUBLIC \"-//W3C//DTD SVG 1.1//EN\"\n",
              " \"http://www.w3.org/Graphics/SVG/1.1/DTD/svg11.dtd\">\n",
              "<!-- Generated by graphviz version 2.43.0 (0)\n",
              " -->\n",
              "<!-- Title: %3 Pages: 1 -->\n",
              "<svg width=\"124pt\" height=\"195pt\"\n",
              " viewBox=\"0.00 0.00 124.00 195.00\" xmlns=\"http://www.w3.org/2000/svg\" xmlns:xlink=\"http://www.w3.org/1999/xlink\">\n",
              "<g id=\"graph0\" class=\"graph\" transform=\"scale(1 1) rotate(0) translate(4 191)\">\n",
              "<title>%3</title>\n",
              "<polygon fill=\"white\" stroke=\"transparent\" points=\"-4,4 -4,-191 120,-191 120,4 -4,4\"/>\n",
              "<!-- 2615542516522548692 -->\n",
              "<g id=\"node1\" class=\"node\">\n",
              "<title>2615542516522548692</title>\n",
              "<path fill=\"none\" stroke=\"black\" stroke-width=\"0.25\" d=\"M77.33,-187C77.33,-187 71.67,-187 71.67,-187 68.83,-187 66,-184.17 66,-181.33 66,-181.33 66,-169.67 66,-169.67 66,-166.83 68.83,-164 71.67,-164 71.67,-164 77.33,-164 77.33,-164 80.17,-164 83,-166.83 83,-169.67 83,-169.67 83,-181.33 83,-181.33 83,-184.17 80.17,-187 77.33,-187\"/>\n",
              "<text text-anchor=\"middle\" x=\"74.5\" y=\"-171.8\" font-family=\"Times,serif\" font-size=\"14.00\">E</text>\n",
              "</g>\n",
              "<!-- &#45;1093297534500200962 -->\n",
              "<g id=\"node2\" class=\"node\">\n",
              "<title>&#45;1093297534500200962</title>\n",
              "<path fill=\"none\" stroke=\"black\" stroke-width=\"0.25\" d=\"M44.33,-146C44.33,-146 38.67,-146 38.67,-146 35.83,-146 33,-143.17 33,-140.33 33,-140.33 33,-128.67 33,-128.67 33,-125.83 35.83,-123 38.67,-123 38.67,-123 44.33,-123 44.33,-123 47.17,-123 50,-125.83 50,-128.67 50,-128.67 50,-140.33 50,-140.33 50,-143.17 47.17,-146 44.33,-146\"/>\n",
              "<text text-anchor=\"middle\" x=\"41.5\" y=\"-130.8\" font-family=\"Times,serif\" font-size=\"14.00\">E</text>\n",
              "</g>\n",
              "<!-- 2615542516522548692&#45;&gt;&#45;1093297534500200962 -->\n",
              "<g id=\"edge1\" class=\"edge\">\n",
              "<title>2615542516522548692&#45;&gt;&#45;1093297534500200962</title>\n",
              "<path fill=\"none\" stroke=\"black\" stroke-width=\"0.5\" d=\"M65.83,-164.25C61.02,-158.57 55.05,-151.51 50.23,-145.81\"/>\n",
              "</g>\n",
              "<!-- 7140353632901176338 -->\n",
              "<g id=\"node3\" class=\"node\">\n",
              "<title>7140353632901176338</title>\n",
              "<path fill=\"none\" stroke=\"black\" stroke-width=\"1.25\" d=\"M76.67,-146C76.67,-146 72.33,-146 72.33,-146 70.17,-146 68,-143.83 68,-141.67 68,-141.67 68,-127.33 68,-127.33 68,-125.17 70.17,-123 72.33,-123 72.33,-123 76.67,-123 76.67,-123 78.83,-123 81,-125.17 81,-127.33 81,-127.33 81,-141.67 81,-141.67 81,-143.83 78.83,-146 76.67,-146\"/>\n",
              "<text text-anchor=\"middle\" x=\"74.5\" y=\"-130.8\" font-family=\"Times,serif\" font-size=\"14.00\">&#45;</text>\n",
              "</g>\n",
              "<!-- 2615542516522548692&#45;&gt;7140353632901176338 -->\n",
              "<g id=\"edge2\" class=\"edge\">\n",
              "<title>2615542516522548692&#45;&gt;7140353632901176338</title>\n",
              "<path fill=\"none\" stroke=\"black\" stroke-width=\"0.5\" d=\"M74.5,-163.84C74.5,-158.34 74.5,-151.65 74.5,-146.14\"/>\n",
              "</g>\n",
              "<!-- 3766375069522130347 -->\n",
              "<g id=\"node4\" class=\"node\">\n",
              "<title>3766375069522130347</title>\n",
              "<path fill=\"none\" stroke=\"black\" stroke-width=\"0.25\" d=\"M110.33,-146C110.33,-146 104.67,-146 104.67,-146 101.83,-146 99,-143.17 99,-140.33 99,-140.33 99,-128.67 99,-128.67 99,-125.83 101.83,-123 104.67,-123 104.67,-123 110.33,-123 110.33,-123 113.17,-123 116,-125.83 116,-128.67 116,-128.67 116,-140.33 116,-140.33 116,-143.17 113.17,-146 110.33,-146\"/>\n",
              "<text text-anchor=\"middle\" x=\"107.5\" y=\"-130.8\" font-family=\"Times,serif\" font-size=\"14.00\">T</text>\n",
              "</g>\n",
              "<!-- 2615542516522548692&#45;&gt;3766375069522130347 -->\n",
              "<g id=\"edge3\" class=\"edge\">\n",
              "<title>2615542516522548692&#45;&gt;3766375069522130347</title>\n",
              "<path fill=\"none\" stroke=\"black\" stroke-width=\"0.5\" d=\"M83.17,-164.25C87.98,-158.57 93.95,-151.51 98.77,-145.81\"/>\n",
              "</g>\n",
              "<!-- &#45;1093297534500200962&#45;&gt;7140353632901176338 -->\n",
              "<!-- &#45;726236017910915428 -->\n",
              "<g id=\"node6\" class=\"node\">\n",
              "<title>&#45;726236017910915428</title>\n",
              "<path fill=\"none\" stroke=\"black\" stroke-width=\"0.25\" d=\"M11.33,-105C11.33,-105 5.67,-105 5.67,-105 2.83,-105 0,-102.17 0,-99.33 0,-99.33 0,-87.67 0,-87.67 0,-84.83 2.83,-82 5.67,-82 5.67,-82 11.33,-82 11.33,-82 14.17,-82 17,-84.83 17,-87.67 17,-87.67 17,-99.33 17,-99.33 17,-102.17 14.17,-105 11.33,-105\"/>\n",
              "<text text-anchor=\"middle\" x=\"8.5\" y=\"-89.8\" font-family=\"Times,serif\" font-size=\"14.00\">E</text>\n",
              "</g>\n",
              "<!-- &#45;1093297534500200962&#45;&gt;&#45;726236017910915428 -->\n",
              "<g id=\"edge7\" class=\"edge\">\n",
              "<title>&#45;1093297534500200962&#45;&gt;&#45;726236017910915428</title>\n",
              "<path fill=\"none\" stroke=\"black\" stroke-width=\"0.5\" d=\"M32.83,-123.25C28.02,-117.57 22.05,-110.51 17.23,-104.81\"/>\n",
              "</g>\n",
              "<!-- 1837275562223589783 -->\n",
              "<g id=\"node7\" class=\"node\">\n",
              "<title>1837275562223589783</title>\n",
              "<path fill=\"none\" stroke=\"black\" stroke-width=\"1.25\" d=\"M43.67,-105C43.67,-105 39.33,-105 39.33,-105 37.17,-105 35,-102.83 35,-100.67 35,-100.67 35,-86.33 35,-86.33 35,-84.17 37.17,-82 39.33,-82 39.33,-82 43.67,-82 43.67,-82 45.83,-82 48,-84.17 48,-86.33 48,-86.33 48,-100.67 48,-100.67 48,-102.83 45.83,-105 43.67,-105\"/>\n",
              "<text text-anchor=\"middle\" x=\"41.5\" y=\"-89.8\" font-family=\"Times,serif\" font-size=\"14.00\">&#45;</text>\n",
              "</g>\n",
              "<!-- &#45;1093297534500200962&#45;&gt;1837275562223589783 -->\n",
              "<g id=\"edge8\" class=\"edge\">\n",
              "<title>&#45;1093297534500200962&#45;&gt;1837275562223589783</title>\n",
              "<path fill=\"none\" stroke=\"black\" stroke-width=\"0.5\" d=\"M41.5,-122.84C41.5,-117.34 41.5,-110.65 41.5,-105.14\"/>\n",
              "</g>\n",
              "<!-- &#45;1107740623958361039 -->\n",
              "<g id=\"node8\" class=\"node\">\n",
              "<title>&#45;1107740623958361039</title>\n",
              "<path fill=\"none\" stroke=\"black\" stroke-width=\"0.25\" d=\"M77.33,-105C77.33,-105 71.67,-105 71.67,-105 68.83,-105 66,-102.17 66,-99.33 66,-99.33 66,-87.67 66,-87.67 66,-84.83 68.83,-82 71.67,-82 71.67,-82 77.33,-82 77.33,-82 80.17,-82 83,-84.83 83,-87.67 83,-87.67 83,-99.33 83,-99.33 83,-102.17 80.17,-105 77.33,-105\"/>\n",
              "<text text-anchor=\"middle\" x=\"74.5\" y=\"-89.8\" font-family=\"Times,serif\" font-size=\"14.00\">T</text>\n",
              "</g>\n",
              "<!-- &#45;1093297534500200962&#45;&gt;&#45;1107740623958361039 -->\n",
              "<g id=\"edge9\" class=\"edge\">\n",
              "<title>&#45;1093297534500200962&#45;&gt;&#45;1107740623958361039</title>\n",
              "<path fill=\"none\" stroke=\"black\" stroke-width=\"0.5\" d=\"M50.17,-123.25C54.98,-117.57 60.95,-110.51 65.77,-104.81\"/>\n",
              "</g>\n",
              "<!-- 7140353632901176338&#45;&gt;3766375069522130347 -->\n",
              "<!-- &#45;7913342144139415219 -->\n",
              "<g id=\"node5\" class=\"node\">\n",
              "<title>&#45;7913342144139415219</title>\n",
              "<path fill=\"none\" stroke=\"black\" stroke-width=\"1.25\" d=\"M111,-105C111,-105 106,-105 106,-105 103.5,-105 101,-102.5 101,-100 101,-100 101,-87 101,-87 101,-84.5 103.5,-82 106,-82 106,-82 111,-82 111,-82 113.5,-82 116,-84.5 116,-87 116,-87 116,-100 116,-100 116,-102.5 113.5,-105 111,-105\"/>\n",
              "<text text-anchor=\"middle\" x=\"108.5\" y=\"-89.8\" font-family=\"Times,serif\" font-size=\"14.00\">n</text>\n",
              "</g>\n",
              "<!-- 3766375069522130347&#45;&gt;&#45;7913342144139415219 -->\n",
              "<g id=\"edge6\" class=\"edge\">\n",
              "<title>3766375069522130347&#45;&gt;&#45;7913342144139415219</title>\n",
              "<path fill=\"none\" stroke=\"black\" stroke-width=\"0.5\" d=\"M107.77,-122.84C107.91,-117.34 108.09,-110.65 108.23,-105.14\"/>\n",
              "</g>\n",
              "<!-- &#45;726236017910915428&#45;&gt;1837275562223589783 -->\n",
              "<!-- &#45;3627028038780881525 -->\n",
              "<g id=\"node10\" class=\"node\">\n",
              "<title>&#45;3627028038780881525</title>\n",
              "<path fill=\"none\" stroke=\"black\" stroke-width=\"0.25\" d=\"M11.33,-64C11.33,-64 5.67,-64 5.67,-64 2.83,-64 0,-61.17 0,-58.33 0,-58.33 0,-46.67 0,-46.67 0,-43.83 2.83,-41 5.67,-41 5.67,-41 11.33,-41 11.33,-41 14.17,-41 17,-43.83 17,-46.67 17,-46.67 17,-58.33 17,-58.33 17,-61.17 14.17,-64 11.33,-64\"/>\n",
              "<text text-anchor=\"middle\" x=\"8.5\" y=\"-48.8\" font-family=\"Times,serif\" font-size=\"14.00\">T</text>\n",
              "</g>\n",
              "<!-- &#45;726236017910915428&#45;&gt;&#45;3627028038780881525 -->\n",
              "<g id=\"edge13\" class=\"edge\">\n",
              "<title>&#45;726236017910915428&#45;&gt;&#45;3627028038780881525</title>\n",
              "<path fill=\"none\" stroke=\"black\" stroke-width=\"0.5\" d=\"M8.5,-81.84C8.5,-76.34 8.5,-69.65 8.5,-64.14\"/>\n",
              "</g>\n",
              "<!-- 1837275562223589783&#45;&gt;&#45;1107740623958361039 -->\n",
              "<!-- 5230323858892549842 -->\n",
              "<g id=\"node9\" class=\"node\">\n",
              "<title>5230323858892549842</title>\n",
              "<path fill=\"none\" stroke=\"black\" stroke-width=\"1.25\" d=\"M77,-64C77,-64 72,-64 72,-64 69.5,-64 67,-61.5 67,-59 67,-59 67,-46 67,-46 67,-43.5 69.5,-41 72,-41 72,-41 77,-41 77,-41 79.5,-41 82,-43.5 82,-46 82,-46 82,-59 82,-59 82,-61.5 79.5,-64 77,-64\"/>\n",
              "<text text-anchor=\"middle\" x=\"74.5\" y=\"-48.8\" font-family=\"Times,serif\" font-size=\"14.00\">n</text>\n",
              "</g>\n",
              "<!-- &#45;1107740623958361039&#45;&gt;5230323858892549842 -->\n",
              "<g id=\"edge12\" class=\"edge\">\n",
              "<title>&#45;1107740623958361039&#45;&gt;5230323858892549842</title>\n",
              "<path fill=\"none\" stroke=\"black\" stroke-width=\"0.5\" d=\"M74.5,-81.84C74.5,-76.34 74.5,-69.65 74.5,-64.14\"/>\n",
              "</g>\n",
              "<!-- &#45;5803329409592859415 -->\n",
              "<g id=\"node11\" class=\"node\">\n",
              "<title>&#45;5803329409592859415</title>\n",
              "<path fill=\"none\" stroke=\"black\" stroke-width=\"1.25\" d=\"M11,-23C11,-23 6,-23 6,-23 3.5,-23 1,-20.5 1,-18 1,-18 1,-5 1,-5 1,-2.5 3.5,0 6,0 6,0 11,0 11,0 13.5,0 16,-2.5 16,-5 16,-5 16,-18 16,-18 16,-20.5 13.5,-23 11,-23\"/>\n",
              "<text text-anchor=\"middle\" x=\"8.5\" y=\"-7.8\" font-family=\"Times,serif\" font-size=\"14.00\">n</text>\n",
              "</g>\n",
              "<!-- &#45;3627028038780881525&#45;&gt;&#45;5803329409592859415 -->\n",
              "<g id=\"edge14\" class=\"edge\">\n",
              "<title>&#45;3627028038780881525&#45;&gt;&#45;5803329409592859415</title>\n",
              "<path fill=\"none\" stroke=\"black\" stroke-width=\"0.5\" d=\"M8.5,-40.84C8.5,-35.34 8.5,-28.65 8.5,-23.14\"/>\n",
              "</g>\n",
              "</g>\n",
              "</svg>\n"
            ],
            "text/plain": [
              "ProductionGraph(E -> E - T -> E - n -> E - T - n -> E - n - n -> T - n - n -> n - n - n)"
            ]
          },
          "execution_count": 18,
          "metadata": {},
          "output_type": "execute_result"
        }
      ],
      "source": [
        "d = Derivation(G).rightmost(reversed(steps[:-1]))\n",
        "ProductionGraph(d)"
      ]
    },
    {
      "cell_type": "markdown",
      "metadata": {},
      "source": [
        "## Conflitti\n",
        "\n",
        "Purtroppo l'approccio funziona solo per alcune grammatice. Con altre possono presentarsi conflitti *shift/reduce*."
      ]
    },
    {
      "cell_type": "code",
      "execution_count": null,
      "metadata": {},
      "outputs": [],
      "source": [
        "# ad esempio\n",
        "\n",
        "Gsr = Grammar.from_string(\"\"\"\n",
        "S -> A b | A\n",
        "A -> a\n",
        "\"\"\")"
      ]
    },
    {
      "cell_type": "code",
      "execution_count": null,
      "metadata": {},
      "outputs": [
        {
          "data": {
            "image/svg+xml": [
              "<?xml version=\"1.0\" encoding=\"UTF-8\" standalone=\"no\"?>\n",
              "<!DOCTYPE svg PUBLIC \"-//W3C//DTD SVG 1.1//EN\"\n",
              " \"http://www.w3.org/Graphics/SVG/1.1/DTD/svg11.dtd\">\n",
              "<!-- Generated by graphviz version 2.43.0 (0)\n",
              " -->\n",
              "<!-- Title: %3 Pages: 1 -->\n",
              "<svg width=\"416pt\" height=\"124pt\"\n",
              " viewBox=\"0.00 0.00 416.14 123.87\" xmlns=\"http://www.w3.org/2000/svg\" xmlns:xlink=\"http://www.w3.org/1999/xlink\">\n",
              "<g id=\"graph0\" class=\"graph\" transform=\"scale(1 1) rotate(0) translate(4 119.87)\">\n",
              "<title>%3</title>\n",
              "<polygon fill=\"white\" stroke=\"transparent\" points=\"-4,4 -4,-119.87 412.14,-119.87 412.14,4 -4,4\"/>\n",
              "<!-- 139648315780768 -->\n",
              "<g id=\"node1\" class=\"node\">\n",
              "<title>139648315780768</title>\n",
              "</g>\n",
              "<!-- 9220799634098751127 -->\n",
              "<g id=\"node2\" class=\"node\">\n",
              "<title>9220799634098751127</title>\n",
              "<ellipse fill=\"none\" stroke=\"black\" cx=\"131.72\" cy=\"-59.87\" rx=\"41.94\" ry=\"37.45\"/>\n",
              "<text text-anchor=\"middle\" x=\"131.72\" y=\"-71.17\" font-family=\"Times,serif\" font-size=\"14.00\">A &#45;&gt; •a</text>\n",
              "<text text-anchor=\"middle\" x=\"131.72\" y=\"-56.17\" font-family=\"Times,serif\" font-size=\"14.00\">S &#45;&gt; •A</text>\n",
              "<text text-anchor=\"middle\" x=\"131.72\" y=\"-41.17\" font-family=\"Times,serif\" font-size=\"14.00\">S &#45;&gt; •A b</text>\n",
              "</g>\n",
              "<!-- 139648315780768&#45;&gt;9220799634098751127 -->\n",
              "<g id=\"edge1\" class=\"edge\">\n",
              "<title>139648315780768&#45;&gt;9220799634098751127</title>\n",
              "<path fill=\"none\" stroke=\"black\" d=\"M54.19,-59.87C61.96,-59.87 70.76,-59.87 79.55,-59.87\"/>\n",
              "<polygon fill=\"black\" stroke=\"black\" points=\"79.8,-63.37 89.8,-59.87 79.8,-56.37 79.8,-63.37\"/>\n",
              "</g>\n",
              "<!-- 4973818701334744792 -->\n",
              "<g id=\"node3\" class=\"node\">\n",
              "<title>4973818701334744792</title>\n",
              "<ellipse fill=\"none\" stroke=\"black\" cx=\"249.74\" cy=\"-93.87\" rx=\"31.71\" ry=\"18\"/>\n",
              "<ellipse fill=\"none\" stroke=\"black\" cx=\"249.74\" cy=\"-93.87\" rx=\"35.69\" ry=\"22\"/>\n",
              "<text text-anchor=\"middle\" x=\"249.74\" y=\"-90.17\" font-family=\"Times,serif\" font-size=\"14.00\">A &#45;&gt; a•</text>\n",
              "</g>\n",
              "<!-- 9220799634098751127&#45;&gt;4973818701334744792 -->\n",
              "<g id=\"edge2\" class=\"edge\">\n",
              "<title>9220799634098751127&#45;&gt;4973818701334744792</title>\n",
              "<path fill=\"none\" stroke=\"black\" d=\"M171.68,-71.29C183.08,-74.63 195.59,-78.29 207.16,-81.68\"/>\n",
              "<polygon fill=\"black\" stroke=\"black\" points=\"206.44,-85.12 217.02,-84.57 208.41,-78.4 206.44,-85.12\"/>\n",
              "<text text-anchor=\"middle\" x=\"190.92\" y=\"-66.75\" font-family=\"Times,serif\" font-size=\"14.00\">a</text>\n",
              "</g>\n",
              "<!-- &#45;8686773303114448103 -->\n",
              "<g id=\"node4\" class=\"node\">\n",
              "<title>&#45;8686773303114448103</title>\n",
              "<ellipse fill=\"none\" stroke=\"black\" cx=\"249.74\" cy=\"-26.87\" rx=\"40.11\" ry=\"26.74\"/>\n",
              "<text text-anchor=\"middle\" x=\"249.74\" y=\"-30.67\" font-family=\"Times,serif\" font-size=\"14.00\">S &#45;&gt; A•</text>\n",
              "<text text-anchor=\"middle\" x=\"249.74\" y=\"-15.67\" font-family=\"Times,serif\" font-size=\"14.00\">S &#45;&gt; A•b</text>\n",
              "</g>\n",
              "<!-- 9220799634098751127&#45;&gt;&#45;8686773303114448103 -->\n",
              "<g id=\"edge3\" class=\"edge\">\n",
              "<title>9220799634098751127&#45;&gt;&#45;8686773303114448103</title>\n",
              "<path fill=\"none\" stroke=\"black\" d=\"M171.68,-48.79C181.65,-45.95 192.48,-42.87 202.77,-39.95\"/>\n",
              "<polygon fill=\"black\" stroke=\"black\" points=\"203.77,-43.3 212.44,-37.2 201.86,-36.57 203.77,-43.3\"/>\n",
              "<text text-anchor=\"middle\" x=\"187.02\" y=\"-31.8\" font-family=\"Times,serif\" font-size=\"14.00\">A</text>\n",
              "</g>\n",
              "<!-- 7774528935992599092 -->\n",
              "<g id=\"node5\" class=\"node\">\n",
              "<title>7774528935992599092</title>\n",
              "<ellipse fill=\"none\" stroke=\"black\" cx=\"367.1\" cy=\"-26.87\" rx=\"37.09\" ry=\"18\"/>\n",
              "<ellipse fill=\"none\" stroke=\"black\" cx=\"367.1\" cy=\"-26.87\" rx=\"41.09\" ry=\"22\"/>\n",
              "<text text-anchor=\"middle\" x=\"367.1\" y=\"-23.17\" font-family=\"Times,serif\" font-size=\"14.00\">S &#45;&gt; A b•</text>\n",
              "</g>\n",
              "<!-- &#45;8686773303114448103&#45;&gt;7774528935992599092 -->\n",
              "<g id=\"edge4\" class=\"edge\">\n",
              "<title>&#45;8686773303114448103&#45;&gt;7774528935992599092</title>\n",
              "<path fill=\"none\" stroke=\"black\" d=\"M290.12,-26.87C298.29,-26.87 307,-26.87 315.5,-26.87\"/>\n",
              "<polygon fill=\"black\" stroke=\"black\" points=\"315.72,-30.37 325.72,-26.87 315.72,-23.37 315.72,-30.37\"/>\n",
              "<text text-anchor=\"middle\" x=\"304.39\" y=\"-15.67\" font-family=\"Times,serif\" font-size=\"14.00\">b</text>\n",
              "</g>\n",
              "</g>\n",
              "</svg>\n"
            ],
            "text/plain": [
              "<liblet.display.StateTransitionGraph at 0x7f026be0e170>"
            ]
          },
          "execution_count": 20,
          "metadata": {},
          "output_type": "execute_result"
        }
      ],
      "source": [
        "lr0asr = compute_lr0_automaton(Gsr)\n",
        "StateTransitionGraph.from_automaton(lr0asr, large_labels = True)"
      ]
    },
    {
      "cell_type": "markdown",
      "metadata": {},
      "source": [
        "Lo stato $\\{S\\to A•, S\\to A•b\\}$ può essere interpretato sia come uno shift verso $\\{S\\to Ab•\\}$ che come un reduce $S\\to A$.\n",
        "\n",
        "Possono inoltre presentarsi conflitti *reduce/reduce*."
      ]
    },
    {
      "cell_type": "code",
      "execution_count": null,
      "metadata": {},
      "outputs": [],
      "source": [
        "# ad esempio\n",
        "\n",
        "Grr = Grammar.from_string(\"\"\"\n",
        "S -> A | a\n",
        "A -> a\n",
        "\"\"\")"
      ]
    },
    {
      "cell_type": "code",
      "execution_count": null,
      "metadata": {},
      "outputs": [
        {
          "data": {
            "image/svg+xml": [
              "<?xml version=\"1.0\" encoding=\"UTF-8\" standalone=\"no\"?>\n",
              "<!DOCTYPE svg PUBLIC \"-//W3C//DTD SVG 1.1//EN\"\n",
              " \"http://www.w3.org/Graphics/SVG/1.1/DTD/svg11.dtd\">\n",
              "<!-- Generated by graphviz version 2.43.0 (0)\n",
              " -->\n",
              "<!-- Title: %3 Pages: 1 -->\n",
              "<svg width=\"280pt\" height=\"124pt\"\n",
              " viewBox=\"0.00 0.00 280.42 123.87\" xmlns=\"http://www.w3.org/2000/svg\" xmlns:xlink=\"http://www.w3.org/1999/xlink\">\n",
              "<g id=\"graph0\" class=\"graph\" transform=\"scale(1 1) rotate(0) translate(4 119.87)\">\n",
              "<title>%3</title>\n",
              "<polygon fill=\"white\" stroke=\"transparent\" points=\"-4,4 -4,-119.87 276.42,-119.87 276.42,4 -4,4\"/>\n",
              "<!-- 139648315783904 -->\n",
              "<g id=\"node1\" class=\"node\">\n",
              "<title>139648315783904</title>\n",
              "</g>\n",
              "<!-- &#45;3056604090994817691 -->\n",
              "<g id=\"node2\" class=\"node\">\n",
              "<title>&#45;3056604090994817691</title>\n",
              "<ellipse fill=\"none\" stroke=\"black\" cx=\"126.06\" cy=\"-55\" rx=\"36.12\" ry=\"37.45\"/>\n",
              "<text text-anchor=\"middle\" x=\"126.06\" y=\"-66.3\" font-family=\"Times,serif\" font-size=\"14.00\">A &#45;&gt; •a</text>\n",
              "<text text-anchor=\"middle\" x=\"126.06\" y=\"-51.3\" font-family=\"Times,serif\" font-size=\"14.00\">S &#45;&gt; •A</text>\n",
              "<text text-anchor=\"middle\" x=\"126.06\" y=\"-36.3\" font-family=\"Times,serif\" font-size=\"14.00\">S &#45;&gt; •a</text>\n",
              "</g>\n",
              "<!-- 139648315783904&#45;&gt;&#45;3056604090994817691 -->\n",
              "<g id=\"edge1\" class=\"edge\">\n",
              "<title>139648315783904&#45;&gt;&#45;3056604090994817691</title>\n",
              "<path fill=\"none\" stroke=\"black\" d=\"M54.01,-55C61.92,-55 70.86,-55 79.66,-55\"/>\n",
              "<polygon fill=\"black\" stroke=\"black\" points=\"79.85,-58.5 89.85,-55 79.85,-51.5 79.85,-58.5\"/>\n",
              "</g>\n",
              "<!-- 2601288956796335897 -->\n",
              "<g id=\"node3\" class=\"node\">\n",
              "<title>2601288956796335897</title>\n",
              "<ellipse fill=\"none\" stroke=\"black\" cx=\"235.27\" cy=\"-89\" rx=\"34.8\" ry=\"26.74\"/>\n",
              "<text text-anchor=\"middle\" x=\"235.27\" y=\"-92.8\" font-family=\"Times,serif\" font-size=\"14.00\">A &#45;&gt; a•</text>\n",
              "<text text-anchor=\"middle\" x=\"235.27\" y=\"-77.8\" font-family=\"Times,serif\" font-size=\"14.00\">S &#45;&gt; a•</text>\n",
              "</g>\n",
              "<!-- &#45;3056604090994817691&#45;&gt;2601288956796335897 -->\n",
              "<g id=\"edge2\" class=\"edge\">\n",
              "<title>&#45;3056604090994817691&#45;&gt;2601288956796335897</title>\n",
              "<path fill=\"none\" stroke=\"black\" d=\"M160.69,-65.66C171.03,-68.94 182.53,-72.59 193.31,-76.01\"/>\n",
              "<polygon fill=\"black\" stroke=\"black\" points=\"192.36,-79.38 202.95,-79.07 194.48,-72.71 192.36,-79.38\"/>\n",
              "<text text-anchor=\"middle\" x=\"178.52\" y=\"-61.23\" font-family=\"Times,serif\" font-size=\"14.00\">a</text>\n",
              "</g>\n",
              "<!-- 6230869169029867466 -->\n",
              "<g id=\"node4\" class=\"node\">\n",
              "<title>6230869169029867466</title>\n",
              "<ellipse fill=\"none\" stroke=\"black\" cx=\"235.27\" cy=\"-22\" rx=\"33.28\" ry=\"18\"/>\n",
              "<ellipse fill=\"none\" stroke=\"black\" cx=\"235.27\" cy=\"-22\" rx=\"37.29\" ry=\"22\"/>\n",
              "<text text-anchor=\"middle\" x=\"235.27\" y=\"-18.3\" font-family=\"Times,serif\" font-size=\"14.00\">S &#45;&gt; A•</text>\n",
              "</g>\n",
              "<!-- &#45;3056604090994817691&#45;&gt;6230869169029867466 -->\n",
              "<g id=\"edge3\" class=\"edge\">\n",
              "<title>&#45;3056604090994817691&#45;&gt;6230869169029867466</title>\n",
              "<path fill=\"none\" stroke=\"black\" d=\"M160.98,-44.56C170.93,-41.5 181.93,-38.11 192.32,-34.91\"/>\n",
              "<polygon fill=\"black\" stroke=\"black\" points=\"193.51,-38.21 202.03,-31.92 191.45,-31.52 193.51,-38.21\"/>\n",
              "<text text-anchor=\"middle\" x=\"176.46\" y=\"-27.06\" font-family=\"Times,serif\" font-size=\"14.00\">A</text>\n",
              "</g>\n",
              "</g>\n",
              "</svg>\n"
            ],
            "text/plain": [
              "<liblet.display.StateTransitionGraph at 0x7f02682e31c0>"
            ]
          },
          "execution_count": 22,
          "metadata": {},
          "output_type": "execute_result"
        }
      ],
      "source": [
        "lr0arr = compute_lr0_automaton(Grr)\n",
        "StateTransitionGraph.from_automaton(lr0arr, large_labels = True)"
      ]
    },
    {
      "cell_type": "markdown",
      "metadata": {},
      "source": [
        "In questo caso è lo stato $\\{A\\to a•, S\\to a•\\}$ che può essere interpretato come un reduce $A\\to a$ o $S\\to a$."
      ]
    },
    {
      "cell_type": "markdown",
      "metadata": {},
      "source": [
        "# <samp style=\"color: red;\">Per casa</samp> \n",
        "\n",
        "## L'automa e le tabelle `GOTO` e `ACTIONS` \n",
        "\n",
        "L'automa a stati finiti può essere rappresntato in modo più compatto attraverso due tabelle; dapprima è necessario numerare gli stati (in modo da poter utilizzare numeri interi invece che insiemi di item). "
      ]
    },
    {
      "cell_type": "code",
      "execution_count": null,
      "metadata": {},
      "outputs": [
        {
          "data": {
            "text/html": [
              "<style>td, th {border: 1pt solid lightgray !important ;}</style><table><tr><th style=\"text-align:left\">0<td style=\"text-align:left\"><pre>{T -&gt; n•}</pre>\n",
              "<tr><th style=\"text-align:left\">1<td style=\"text-align:left\"><pre>{S′ -&gt; E ♯•}</pre>\n",
              "<tr><th style=\"text-align:left\">2<td style=\"text-align:left\"><pre>{E -&gt; E•- T, S′ -&gt; E•♯}</pre>\n",
              "<tr><th style=\"text-align:left\">3<td style=\"text-align:left\"><pre>{E -&gt; E•- T, T -&gt; ( E•)}</pre>\n",
              "<tr><th style=\"text-align:left\">4<td style=\"text-align:left\"><pre>{E -&gt; T•}</pre>\n",
              "<tr><th style=\"text-align:left\">5<td style=\"text-align:left\"><pre>{E -&gt; •T, T -&gt; (•E ), E -&gt; •E - T, T -&gt; •n, T -&gt; •( E )}</pre>\n",
              "<tr><th style=\"text-align:left\">6<td style=\"text-align:left\"><pre>{E -&gt; •T, S′ -&gt; •E ♯, E -&gt; •E - T, T -&gt; •n, T -&gt; •( E )}</pre>\n",
              "<tr><th style=\"text-align:left\">7<td style=\"text-align:left\"><pre>{T -&gt; ( E )•}</pre>\n",
              "<tr><th style=\"text-align:left\">8<td style=\"text-align:left\"><pre>{E -&gt; E - T•}</pre>\n",
              "<tr><th style=\"text-align:left\">9<td style=\"text-align:left\"><pre>{E -&gt; E -•T, T -&gt; •n, T -&gt; •( E )}</pre></table>"
            ],
            "text/plain": [
              "<IPython.core.display.HTML object>"
            ]
          },
          "execution_count": 23,
          "metadata": {},
          "output_type": "execute_result"
        }
      ],
      "source": [
        "states = sorted(map(set, lr0a.N))\n",
        "iter2table(states)"
      ]
    },
    {
      "cell_type": "markdown",
      "metadata": {},
      "source": [
        "Quindi si possono usare due tabelle: la tabella `GOTO` che descrive le transizioni"
      ]
    },
    {
      "cell_type": "code",
      "execution_count": null,
      "metadata": {},
      "outputs": [
        {
          "data": {
            "text/html": [
              "<style>td, th {border: 1pt solid lightgray !important; text-align: left !important;}</style><table><tr><td>&nbsp;<th><pre>-</pre><th><pre>♯</pre><th><pre>)</pre><th><pre>(</pre><th><pre>E</pre><th><pre>T</pre><th><pre>n</pre>\n",
              "<tr><th><pre>2<pre><td><pre>9</pre><td><pre>1</pre><td>&nbsp;<td>&nbsp;<td>&nbsp;<td>&nbsp;<td>&nbsp;\n",
              "<tr><th><pre>3<pre><td><pre>9</pre><td>&nbsp;<td><pre>7</pre><td>&nbsp;<td>&nbsp;<td>&nbsp;<td>&nbsp;\n",
              "<tr><th><pre>5<pre><td>&nbsp;<td>&nbsp;<td>&nbsp;<td><pre>5</pre><td><pre>3</pre><td><pre>4</pre><td><pre>0</pre>\n",
              "<tr><th><pre>6<pre><td>&nbsp;<td>&nbsp;<td>&nbsp;<td><pre>5</pre><td><pre>2</pre><td><pre>4</pre><td><pre>0</pre>\n",
              "<tr><th><pre>9<pre><td>&nbsp;<td>&nbsp;<td>&nbsp;<td><pre>5</pre><td>&nbsp;<td><pre>8</pre><td><pre>0</pre>\n",
              "</table>"
            ],
            "text/plain": [
              "<liblet.utils.Table at 0x7f02682e3820>"
            ]
          },
          "execution_count": 24,
          "metadata": {},
          "output_type": "execute_result"
        }
      ],
      "source": [
        "index_of = states.index\n",
        "\n",
        "GOTO = Table(2, set)\n",
        "for frm in states:\n",
        "  for X in sorted(lr0a.T):\n",
        "    to = lr0a.δ(frm, X)\n",
        "    if to: \n",
        "      to = first(to)\n",
        "      GOTO[index_of(frm), X] = index_of(to)\n",
        "\n",
        "GOTO"
      ]
    },
    {
      "cell_type": "markdown",
      "metadata": {},
      "source": [
        "E una tabella `ACTIONS` per rappresentare le riduzioni (che avvengono solo per gli stati finali)"
      ]
    },
    {
      "cell_type": "code",
      "execution_count": null,
      "metadata": {},
      "outputs": [
        {
          "data": {
            "text/html": [
              "<style>td, th {border: 1pt solid lightgray !important; text-align: left !important;}</style><table><tr><th><pre>0</pre><td><pre>T -> n</pre>\n",
              "<tr><th><pre>1</pre><td><pre>S′ -> E ♯</pre>\n",
              "<tr><th><pre>4</pre><td><pre>E -> T</pre>\n",
              "<tr><th><pre>7</pre><td><pre>T -> ( E )</pre>\n",
              "<tr><th><pre>8</pre><td><pre>E -> E - T</pre></table>"
            ],
            "text/plain": [
              "<liblet.utils.Table at 0x7f02682e3f70>"
            ]
          },
          "execution_count": 25,
          "metadata": {},
          "output_type": "execute_result"
        }
      ],
      "source": [
        "ACTIONS = Table(1)\n",
        "\n",
        "for n, state in enumerate(states):\n",
        "  if len(state) == 1: \n",
        "    A, α, _ = first(state)\n",
        "    ACTIONS[n] = Production(A, α)\n",
        "\n",
        "ACTIONS"
      ]
    },
    {
      "cell_type": "markdown",
      "metadata": {},
      "source": [
        "## Simulazione con le tabelle\n",
        "\n",
        "Può essere un interessante esecizio scrivere una variante della funzione `lr0parse` che invece di basarsi sul'automa, richieda solo la conoscenza delle tabelle `GOTO` e `ACTIONS` descritte in questa sezione."
      ]
    }
  ],
  "metadata": {
    "kernelspec": {
      "display_name": "Python 3",
      "language": "python",
      "name": "python3"
    },
    "language_info": {
      "codemirror_mode": {
        "name": "ipython",
        "version": 3
      },
      "file_extension": ".py",
      "mimetype": "text/x-python",
      "name": "python",
      "nbconvert_exporter": "python",
      "pygments_lexer": "ipython3"
    }
  },
  "nbformat": 4,
  "nbformat_minor": 4
}
