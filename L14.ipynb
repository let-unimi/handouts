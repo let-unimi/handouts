{
  "cells": [
    {
      "cell_type": "markdown",
      "metadata": {},
      "source": [
        "# Lezione 14"
      ]
    },
    {
      "cell_type": "code",
      "execution_count": null,
      "metadata": {},
      "outputs": [],
      "source": [
        "from liblet import (\n",
        "  Transition, \n",
        "  Automaton, \n",
        "  Grammar, \n",
        "  Production, \n",
        "  Item, \n",
        "  Derivation, \n",
        "  ProductionGraph, \n",
        "  Stack, \n",
        "  Queue, \n",
        "  StateTransitionGraph, \n",
        "  Table, \n",
        "  closure, \n",
        "  first, \n",
        "  prods2table,\n",
        "  iter2table,\n",
        "  warn, \n",
        "  HASH)"
      ]
    },
    {
      "cell_type": "markdown",
      "metadata": {},
      "source": [
        "## Item\n",
        "\n",
        "Una occhiata a come sono implementati gli *item* nella libreria. Una grammatica d'esempio"
      ]
    },
    {
      "cell_type": "code",
      "execution_count": null,
      "metadata": {},
      "outputs": [],
      "source": [
        "# fig. 3.17, pag. 159 MCD (sostituendo + con -)\n",
        "\n",
        "G = Grammar.from_string(\"\"\"\n",
        "E -> E - T | T\n",
        "T -> n | ( E )\n",
        "\"\"\")"
      ]
    },
    {
      "cell_type": "code",
      "execution_count": null,
      "metadata": {},
      "outputs": [
        {
          "data": {
            "text/plain": [
              "E -> •E - T"
            ]
          },
          "execution_count": 3,
          "metadata": {},
          "output_type": "execute_result"
        }
      ],
      "source": [
        "# Si costruisce dato rhs e lhs (come le produzioni)\n",
        "\n",
        "A, α = G.P[0]\n",
        "item = Item(A, α)\n",
        "item"
      ]
    },
    {
      "cell_type": "code",
      "execution_count": null,
      "metadata": {},
      "outputs": [
        {
          "name": "stdout",
          "output_type": "stream",
          "text": [
            "item = E -> E•- T, symbol_after_dot = -\n",
            "item = E -> E -•T, symbol_after_dot = T\n",
            "item = E -> E - T•, symbol_after_dot = None\n"
          ]
        }
      ],
      "source": [
        "# ha un metodo advance che sposta il punto e un metodo\n",
        "# symbol_after_dot che riporta il simbolo che segue il \n",
        "# punto (o None se il punto è oltre la fine del rhs)\n",
        "\n",
        "for X in α:\n",
        "  item = item.advance(X)\n",
        "  print(f'item = {item}, symbol_after_dot = {item.symbol_after_dot()}')"
      ]
    },
    {
      "cell_type": "markdown",
      "metadata": {},
      "source": [
        "## La ε-chiusura di un insieme di item\n",
        "\n",
        "Dato un insieme di item, la sua ε-chiusura è ottenuta prendendo la chiusura dell'operazione che aggiunge all'insieme, per ogni item $A\\to \\alpha • B \\beta$, tutti gli item $B\\to •\\gamma$ dove $B\\to \\gamma$ è una produzione di $G$."
      ]
    },
    {
      "cell_type": "code",
      "execution_count": null,
      "metadata": {},
      "outputs": [],
      "source": [
        "@closure\n",
        "def εclosure(items, G):\n",
        "  added = set()\n",
        "  for item in items:\n",
        "    X = item.symbol_after_dot()\n",
        "    if X is None: continue\n",
        "    added |= {Item(X, β) for β in G.alternatives(X)}\n",
        "  return frozenset(items | added)"
      ]
    },
    {
      "cell_type": "code",
      "execution_count": null,
      "metadata": {},
      "outputs": [
        {
          "data": {
            "text/plain": [
              "frozenset({E -> •E - T, E -> •T, T -> •( E ), T -> •n})"
            ]
          },
          "execution_count": 6,
          "metadata": {},
          "output_type": "execute_result"
        }
      ],
      "source": [
        "# vediamo come si comporta sul set di item che contiene solo l'item\n",
        "# ottenuto dalla prima produzione\n",
        "\n",
        "εclosure({Item(*G.P[0])}, G)"
      ]
    },
    {
      "cell_type": "markdown",
      "metadata": {},
      "source": [
        "## Costruzione dell'automa a stati finiti\n",
        "\n",
        "Definiamo l'automa che riconosce il linguaggio delle parti aperta delle derivazioni di una assegnata grammatica $G$. Tale automa ha per alfabeto $N\\cup T$ e per stati *insiemi* di item. \n",
        "\n",
        "Il suo stato iniziale $q_0$ è dato dalla ε-chiusura dell'insieme di item derivati da tutte le produzioni che coinvolgono il simbolo iniziale $S$"
      ]
    },
    {
      "cell_type": "code",
      "execution_count": null,
      "metadata": {},
      "outputs": [],
      "source": [
        "def q0(G):\n",
        "  return εclosure({Item(G.S, β) for β in G.alternatives(G.S)}, G)"
      ]
    },
    {
      "cell_type": "code",
      "execution_count": null,
      "metadata": {},
      "outputs": [
        {
          "data": {
            "text/plain": [
              "frozenset({E -> •E - T, E -> •T, T -> •( E ), T -> •n})"
            ]
          },
          "execution_count": 8,
          "metadata": {},
          "output_type": "execute_result"
        }
      ],
      "source": [
        "# nel caso della grammatica d'esempio si ha\n",
        "\n",
        "q0(G)"
      ]
    },
    {
      "cell_type": "markdown",
      "metadata": {},
      "source": [
        "La funzione di transizione $\\delta$ associa ad ogni insieme di item e simbolo dell'alfabeto l'ε-chiusura dell'insieme ottenuto avanzando col simbolo specificato il punto in ogni item."
      ]
    },
    {
      "cell_type": "code",
      "execution_count": null,
      "metadata": {},
      "outputs": [],
      "source": [
        "def δ(items, X, G):\n",
        "  return εclosure({item.advance(X) for item in items if item.advance(X)}, G)"
      ]
    },
    {
      "cell_type": "code",
      "execution_count": null,
      "metadata": {},
      "outputs": [
        {
          "data": {
            "text/plain": [
              "frozenset({E -> •E - T, E -> •T, T -> •( E ), T -> (•E ), T -> •n})"
            ]
          },
          "execution_count": 10,
          "metadata": {},
          "output_type": "execute_result"
        }
      ],
      "source": [
        "# vediamo come si comporta sullo stato iniziale\n",
        "# dato il simbolo '('\n",
        "\n",
        "δ(q0(G), '(', G)"
      ]
    },
    {
      "cell_type": "markdown",
      "metadata": {},
      "source": [
        "Prima di procedere, trasformiamo la grammatica in modo da rendere il linguaggio libero da prefissi"
      ]
    },
    {
      "cell_type": "code",
      "execution_count": null,
      "metadata": {},
      "outputs": [],
      "source": [
        "def add_eoi(G):\n",
        "  return Grammar(G.N | {'S′'}, G.T | {HASH}, G.P + (Production('S′', (G.S, HASH)), ), 'S′')"
      ]
    },
    {
      "cell_type": "code",
      "execution_count": null,
      "metadata": {},
      "outputs": [
        {
          "data": {
            "text/html": [
              "<style>td, th {border: 1pt solid lightgray !important ;}</style><table><tr><th><pre>E</pre><td style=\"text-align:left\"><pre>E - T<sub>(0)</sub> | T<sub>(1)</sub></pre><tr><th><pre>T</pre><td style=\"text-align:left\"><pre>n<sub>(2)</sub> | ( E )<sub>(3)</sub></pre><tr><th><pre>S′</pre><td style=\"text-align:left\"><pre>E ♯<sub>(4)</sub></pre></table>"
            ],
            "text/plain": [
              "<IPython.core.display.HTML object>"
            ]
          },
          "execution_count": 12,
          "metadata": {},
          "output_type": "execute_result"
        }
      ],
      "source": [
        "# vediamo l'effetto che ha sulla grammatica d'esempio\n",
        "\n",
        "Gpf = add_eoi(G)\n",
        "prods2table(Gpf)"
      ]
    },
    {
      "cell_type": "markdown",
      "metadata": {},
      "source": [
        "L'automa può essere costruito tramite una visita (in ampiezza) degli stati raggiungibili tramite $\\delta$; al termine della visita saranno noti tutti gli stati e tutte le *transizioni*. Vengono definiti *finali* gli stati corrispondenti ad insiemi di un solo item in cui il punto è oltre l'ultimo simbolo."
      ]
    },
    {
      "cell_type": "code",
      "execution_count": null,
      "metadata": {},
      "outputs": [],
      "source": [
        "def compute_lr0_automaton(G):\n",
        "\n",
        "  states = set([q0(G)])\n",
        "  transitions = []\n",
        "  q = Queue([q0(G)])\n",
        "  while q:\n",
        "    items = q.dequeue()\n",
        "    for X in G.T | G.N:\n",
        "      next_items = δ(items, X, G)\n",
        "      if not next_items: continue\n",
        "      transitions.append(Transition(items, X, next_items))\n",
        "      if next_items not in states: \n",
        "        states.add(next_items)\n",
        "        q.enqueue(next_items)\n",
        "\n",
        "  return Automaton(\n",
        "    states,\n",
        "    G.T | G.N,\n",
        "    transitions,\n",
        "    q0(G),\n",
        "    set(state for state in states if len(state) == 1 and first(state).symbol_after_dot() is None)\n",
        "  )"
      ]
    },
    {
      "cell_type": "code",
      "execution_count": null,
      "metadata": {},
      "outputs": [
        {
          "data": {
            "image/svg+xml": [
              "<?xml version=\"1.0\" encoding=\"UTF-8\" standalone=\"no\"?>\n",
              "<!DOCTYPE svg PUBLIC \"-//W3C//DTD SVG 1.1//EN\"\n",
              " \"http://www.w3.org/Graphics/SVG/1.1/DTD/svg11.dtd\">\n",
              "<!-- Generated by graphviz version 2.43.0 (0)\n",
              " -->\n",
              "<!-- Title: %3 Pages: 1 -->\n",
              "<svg width=\"699pt\" height=\"319pt\"\n",
              " viewBox=\"0.00 0.00 699.36 319.35\" xmlns=\"http://www.w3.org/2000/svg\" xmlns:xlink=\"http://www.w3.org/1999/xlink\">\n",
              "<g id=\"graph0\" class=\"graph\" transform=\"scale(1 1) rotate(0) translate(4 315.35)\">\n",
              "<title>%3</title>\n",
              "<polygon fill=\"white\" stroke=\"transparent\" points=\"-4,4 -4,-315.35 695.36,-315.35 695.36,4 -4,4\"/>\n",
              "<!-- 140267667329088 -->\n",
              "<g id=\"node1\" class=\"node\">\n",
              "<title>140267667329088</title>\n",
              "</g>\n",
              "<!-- 5423604068249537418 -->\n",
              "<g id=\"node2\" class=\"node\">\n",
              "<title>5423604068249537418</title>\n",
              "<ellipse fill=\"none\" stroke=\"black\" cx=\"135.96\" cy=\"-222\" rx=\"45.92\" ry=\"58.88\"/>\n",
              "<text text-anchor=\"middle\" x=\"135.96\" y=\"-248.3\" font-family=\"Times,serif\" font-size=\"14.00\">E &#45;&gt; •E &#45; T</text>\n",
              "<text text-anchor=\"middle\" x=\"135.96\" y=\"-233.3\" font-family=\"Times,serif\" font-size=\"14.00\">E &#45;&gt; •T</text>\n",
              "<text text-anchor=\"middle\" x=\"135.96\" y=\"-218.3\" font-family=\"Times,serif\" font-size=\"14.00\">S′ &#45;&gt; •E ♯</text>\n",
              "<text text-anchor=\"middle\" x=\"135.96\" y=\"-203.3\" font-family=\"Times,serif\" font-size=\"14.00\">T &#45;&gt; •( E )</text>\n",
              "<text text-anchor=\"middle\" x=\"135.96\" y=\"-188.3\" font-family=\"Times,serif\" font-size=\"14.00\">T &#45;&gt; •n</text>\n",
              "</g>\n",
              "<!-- 140267667329088&#45;&gt;5423604068249537418 -->\n",
              "<g id=\"edge1\" class=\"edge\">\n",
              "<title>140267667329088&#45;&gt;5423604068249537418</title>\n",
              "<path fill=\"none\" stroke=\"black\" d=\"M54.17,-222C61.98,-222 70.87,-222 79.81,-222\"/>\n",
              "<polygon fill=\"black\" stroke=\"black\" points=\"79.89,-225.5 89.89,-222 79.89,-218.5 79.89,-225.5\"/>\n",
              "</g>\n",
              "<!-- &#45;5144410650377006821 -->\n",
              "<g id=\"node3\" class=\"node\">\n",
              "<title>&#45;5144410650377006821</title>\n",
              "<ellipse fill=\"none\" stroke=\"black\" cx=\"263.89\" cy=\"-170\" rx=\"45.92\" ry=\"58.88\"/>\n",
              "<text text-anchor=\"middle\" x=\"263.89\" y=\"-196.3\" font-family=\"Times,serif\" font-size=\"14.00\">E &#45;&gt; •E &#45; T</text>\n",
              "<text text-anchor=\"middle\" x=\"263.89\" y=\"-181.3\" font-family=\"Times,serif\" font-size=\"14.00\">E &#45;&gt; •T</text>\n",
              "<text text-anchor=\"middle\" x=\"263.89\" y=\"-166.3\" font-family=\"Times,serif\" font-size=\"14.00\">T &#45;&gt; (•E )</text>\n",
              "<text text-anchor=\"middle\" x=\"263.89\" y=\"-151.3\" font-family=\"Times,serif\" font-size=\"14.00\">T &#45;&gt; •( E )</text>\n",
              "<text text-anchor=\"middle\" x=\"263.89\" y=\"-136.3\" font-family=\"Times,serif\" font-size=\"14.00\">T &#45;&gt; •n</text>\n",
              "</g>\n",
              "<!-- 5423604068249537418&#45;&gt;&#45;5144410650377006821 -->\n",
              "<g id=\"edge2\" class=\"edge\">\n",
              "<title>5423604068249537418&#45;&gt;&#45;5144410650377006821</title>\n",
              "<path fill=\"none\" stroke=\"black\" d=\"M179.95,-204.25C189.66,-200.24 200.09,-195.93 210.16,-191.77\"/>\n",
              "<polygon fill=\"black\" stroke=\"black\" points=\"211.76,-194.9 219.67,-187.85 209.09,-188.43 211.76,-194.9\"/>\n",
              "<text text-anchor=\"middle\" x=\"197.19\" y=\"-184.9\" font-family=\"Times,serif\" font-size=\"14.00\">(</text>\n",
              "</g>\n",
              "<!-- 1276911521093898305 -->\n",
              "<g id=\"node4\" class=\"node\">\n",
              "<title>1276911521093898305</title>\n",
              "<ellipse fill=\"none\" stroke=\"black\" cx=\"391.1\" cy=\"-270\" rx=\"32.49\" ry=\"18\"/>\n",
              "<ellipse fill=\"none\" stroke=\"black\" cx=\"391.1\" cy=\"-270\" rx=\"36.49\" ry=\"22\"/>\n",
              "<text text-anchor=\"middle\" x=\"391.1\" y=\"-266.3\" font-family=\"Times,serif\" font-size=\"14.00\">E &#45;&gt; T•</text>\n",
              "</g>\n",
              "<!-- 5423604068249537418&#45;&gt;1276911521093898305 -->\n",
              "<g id=\"edge3\" class=\"edge\">\n",
              "<title>5423604068249537418&#45;&gt;1276911521093898305</title>\n",
              "<path fill=\"none\" stroke=\"black\" d=\"M179.38,-242.78C191.56,-247.92 205.04,-252.86 217.92,-256 259.77,-266.21 308.87,-269.37 343.9,-270.18\"/>\n",
              "<polygon fill=\"black\" stroke=\"black\" points=\"344.24,-273.69 354.3,-270.36 344.36,-266.69 344.24,-273.69\"/>\n",
              "<text text-anchor=\"middle\" x=\"261.4\" y=\"-253.43\" font-family=\"Times,serif\" font-size=\"14.00\">T</text>\n",
              "</g>\n",
              "<!-- 3174328708437422261 -->\n",
              "<g id=\"node5\" class=\"node\">\n",
              "<title>3174328708437422261</title>\n",
              "<ellipse fill=\"none\" stroke=\"black\" cx=\"263.89\" cy=\"-66\" rx=\"45.01\" ry=\"26.74\"/>\n",
              "<text text-anchor=\"middle\" x=\"263.89\" y=\"-69.8\" font-family=\"Times,serif\" font-size=\"14.00\">E &#45;&gt; E•&#45; T</text>\n",
              "<text text-anchor=\"middle\" x=\"263.89\" y=\"-54.8\" font-family=\"Times,serif\" font-size=\"14.00\">S′ &#45;&gt; E•♯</text>\n",
              "</g>\n",
              "<!-- 5423604068249537418&#45;&gt;3174328708437422261 -->\n",
              "<g id=\"edge4\" class=\"edge\">\n",
              "<title>5423604068249537418&#45;&gt;3174328708437422261</title>\n",
              "<path fill=\"none\" stroke=\"black\" d=\"M163.93,-175.16C178.42,-151.93 197.49,-124.18 217.92,-102 220.59,-99.1 223.5,-96.25 226.52,-93.49\"/>\n",
              "<polygon fill=\"black\" stroke=\"black\" points=\"228.9,-96.05 234.15,-86.85 224.31,-90.77 228.9,-96.05\"/>\n",
              "<text text-anchor=\"middle\" x=\"191.4\" y=\"-117.28\" font-family=\"Times,serif\" font-size=\"14.00\">E</text>\n",
              "</g>\n",
              "<!-- &#45;9070614127007776573 -->\n",
              "<g id=\"node6\" class=\"node\">\n",
              "<title>&#45;9070614127007776573</title>\n",
              "<ellipse fill=\"none\" stroke=\"black\" cx=\"645.11\" cy=\"-220\" rx=\"31.37\" ry=\"18\"/>\n",
              "<ellipse fill=\"none\" stroke=\"black\" cx=\"645.11\" cy=\"-220\" rx=\"35.4\" ry=\"22\"/>\n",
              "<text text-anchor=\"middle\" x=\"645.11\" y=\"-216.3\" font-family=\"Times,serif\" font-size=\"14.00\">T &#45;&gt; n•</text>\n",
              "</g>\n",
              "<!-- 5423604068249537418&#45;&gt;&#45;9070614127007776573 -->\n",
              "<g id=\"edge5\" class=\"edge\">\n",
              "<title>5423604068249537418&#45;&gt;&#45;9070614127007776573</title>\n",
              "<path fill=\"none\" stroke=\"black\" d=\"M175.55,-252.24C188.42,-261.07 203.24,-269.95 217.92,-276 308.28,-313.21 340.33,-319.06 436.36,-301 499.58,-289.11 568.27,-258.53 608.68,-238.53\"/>\n",
              "<polygon fill=\"black\" stroke=\"black\" points=\"610.47,-241.55 617.84,-233.94 607.33,-235.29 610.47,-241.55\"/>\n",
              "<text text-anchor=\"middle\" x=\"432.86\" y=\"-289.8\" font-family=\"Times,serif\" font-size=\"14.00\">n</text>\n",
              "</g>\n",
              "<!-- &#45;5144410650377006821&#45;&gt;&#45;5144410650377006821 -->\n",
              "<g id=\"edge6\" class=\"edge\">\n",
              "<title>&#45;5144410650377006821&#45;&gt;&#45;5144410650377006821</title>\n",
              "<path fill=\"none\" stroke=\"black\" d=\"M240.33,-220.52C241.15,-235.27 249,-246.69 263.89,-246.69 275.17,-246.69 282.41,-240.13 285.61,-230.54\"/>\n",
              "<polygon fill=\"black\" stroke=\"black\" points=\"289.09,-230.99 287.44,-220.52 282.2,-229.73 289.09,-230.99\"/>\n",
              "<text text-anchor=\"middle\" x=\"238.07\" y=\"-227.05\" font-family=\"Times,serif\" font-size=\"14.00\">(</text>\n",
              "</g>\n",
              "<!-- &#45;5144410650377006821&#45;&gt;1276911521093898305 -->\n",
              "<g id=\"edge7\" class=\"edge\">\n",
              "<title>&#45;5144410650377006821&#45;&gt;1276911521093898305</title>\n",
              "<path fill=\"none\" stroke=\"black\" d=\"M303.14,-200.55C321.55,-215.26 343.31,-232.63 360.45,-246.32\"/>\n",
              "<polygon fill=\"black\" stroke=\"black\" points=\"358.46,-249.21 368.46,-252.71 362.83,-243.74 358.46,-249.21\"/>\n",
              "<text text-anchor=\"middle\" x=\"331.01\" y=\"-215.2\" font-family=\"Times,serif\" font-size=\"14.00\">T</text>\n",
              "</g>\n",
              "<!-- &#45;5144410650377006821&#45;&gt;&#45;9070614127007776573 -->\n",
              "<g id=\"edge9\" class=\"edge\">\n",
              "<title>&#45;5144410650377006821&#45;&gt;&#45;9070614127007776573</title>\n",
              "<path fill=\"none\" stroke=\"black\" d=\"M307.42,-189.05C319.61,-193.74 333.05,-198.21 345.85,-201 434.32,-220.29 540.79,-222.11 599.59,-221.31\"/>\n",
              "<polygon fill=\"black\" stroke=\"black\" points=\"599.71,-224.81 609.65,-221.14 599.6,-217.81 599.71,-224.81\"/>\n",
              "<text text-anchor=\"middle\" x=\"454.14\" y=\"-205.61\" font-family=\"Times,serif\" font-size=\"14.00\">n</text>\n",
              "</g>\n",
              "<!-- 8545564980778235243 -->\n",
              "<g id=\"node7\" class=\"node\">\n",
              "<title>8545564980778235243</title>\n",
              "<ellipse fill=\"none\" stroke=\"black\" cx=\"391.1\" cy=\"-165\" rx=\"45.01\" ry=\"26.74\"/>\n",
              "<text text-anchor=\"middle\" x=\"391.1\" y=\"-168.8\" font-family=\"Times,serif\" font-size=\"14.00\">E &#45;&gt; E•&#45; T</text>\n",
              "<text text-anchor=\"middle\" x=\"391.1\" y=\"-153.8\" font-family=\"Times,serif\" font-size=\"14.00\">T &#45;&gt; ( E•)</text>\n",
              "</g>\n",
              "<!-- &#45;5144410650377006821&#45;&gt;8545564980778235243 -->\n",
              "<g id=\"edge8\" class=\"edge\">\n",
              "<title>&#45;5144410650377006821&#45;&gt;8545564980778235243</title>\n",
              "<path fill=\"none\" stroke=\"black\" d=\"M310.09,-168.19C318.36,-167.86 327.07,-167.52 335.57,-167.18\"/>\n",
              "<polygon fill=\"black\" stroke=\"black\" points=\"335.95,-170.67 345.8,-166.77 335.67,-163.67 335.95,-170.67\"/>\n",
              "<text text-anchor=\"middle\" x=\"323.46\" y=\"-156.28\" font-family=\"Times,serif\" font-size=\"14.00\">E</text>\n",
              "</g>\n",
              "<!-- &#45;7973185328594922865 -->\n",
              "<g id=\"node8\" class=\"node\">\n",
              "<title>&#45;7973185328594922865</title>\n",
              "<ellipse fill=\"none\" stroke=\"black\" cx=\"517.61\" cy=\"-93\" rx=\"45.01\" ry=\"37.45\"/>\n",
              "<text text-anchor=\"middle\" x=\"517.61\" y=\"-104.3\" font-family=\"Times,serif\" font-size=\"14.00\">E &#45;&gt; E &#45;•T</text>\n",
              "<text text-anchor=\"middle\" x=\"517.61\" y=\"-89.3\" font-family=\"Times,serif\" font-size=\"14.00\">T &#45;&gt; •( E )</text>\n",
              "<text text-anchor=\"middle\" x=\"517.61\" y=\"-74.3\" font-family=\"Times,serif\" font-size=\"14.00\">T &#45;&gt; •n</text>\n",
              "</g>\n",
              "<!-- 3174328708437422261&#45;&gt;&#45;7973185328594922865 -->\n",
              "<g id=\"edge10\" class=\"edge\">\n",
              "<title>3174328708437422261&#45;&gt;&#45;7973185328594922865</title>\n",
              "<path fill=\"none\" stroke=\"black\" d=\"M308.73,-70.7C351.43,-75.28 416.42,-82.25 462.35,-87.18\"/>\n",
              "<polygon fill=\"black\" stroke=\"black\" points=\"462.11,-90.67 472.42,-88.26 462.85,-83.71 462.11,-90.67\"/>\n",
              "<text text-anchor=\"middle\" x=\"388.23\" y=\"-68.3\" font-family=\"Times,serif\" font-size=\"14.00\">&#45;</text>\n",
              "</g>\n",
              "<!-- &#45;5934718568351684418 -->\n",
              "<g id=\"node9\" class=\"node\">\n",
              "<title>&#45;5934718568351684418</title>\n",
              "<ellipse fill=\"none\" stroke=\"black\" cx=\"391.1\" cy=\"-22\" rx=\"38.99\" ry=\"18\"/>\n",
              "<ellipse fill=\"none\" stroke=\"black\" cx=\"391.1\" cy=\"-22\" rx=\"42.99\" ry=\"22\"/>\n",
              "<text text-anchor=\"middle\" x=\"391.1\" y=\"-18.3\" font-family=\"Times,serif\" font-size=\"14.00\">S′ &#45;&gt; E ♯•</text>\n",
              "</g>\n",
              "<!-- 3174328708437422261&#45;&gt;&#45;5934718568351684418 -->\n",
              "<g id=\"edge11\" class=\"edge\">\n",
              "<title>3174328708437422261&#45;&gt;&#45;5934718568351684418</title>\n",
              "<path fill=\"none\" stroke=\"black\" d=\"M303.14,-52.56C316.45,-47.88 331.5,-42.59 345.29,-37.75\"/>\n",
              "<polygon fill=\"black\" stroke=\"black\" points=\"346.8,-40.93 355.07,-34.31 344.48,-34.32 346.8,-40.93\"/>\n",
              "<text text-anchor=\"middle\" x=\"325.57\" y=\"-32.25\" font-family=\"Times,serif\" font-size=\"14.00\">♯</text>\n",
              "</g>\n",
              "<!-- 8545564980778235243&#45;&gt;&#45;7973185328594922865 -->\n",
              "<g id=\"edge13\" class=\"edge\">\n",
              "<title>8545564980778235243&#45;&gt;&#45;7973185328594922865</title>\n",
              "<path fill=\"none\" stroke=\"black\" d=\"M424.17,-146.46C438.38,-138.24 455.37,-128.42 470.88,-119.45\"/>\n",
              "<polygon fill=\"black\" stroke=\"black\" points=\"472.9,-122.32 479.81,-114.28 469.4,-116.26 472.9,-122.32\"/>\n",
              "<text text-anchor=\"middle\" x=\"449.4\" y=\"-119.22\" font-family=\"Times,serif\" font-size=\"14.00\">&#45;</text>\n",
              "</g>\n",
              "<!-- &#45;7965466967384921407 -->\n",
              "<g id=\"node10\" class=\"node\">\n",
              "<title>&#45;7965466967384921407</title>\n",
              "<ellipse fill=\"none\" stroke=\"black\" cx=\"517.61\" cy=\"-170\" rx=\"38.99\" ry=\"18\"/>\n",
              "<ellipse fill=\"none\" stroke=\"black\" cx=\"517.61\" cy=\"-170\" rx=\"42.99\" ry=\"22\"/>\n",
              "<text text-anchor=\"middle\" x=\"517.61\" y=\"-166.3\" font-family=\"Times,serif\" font-size=\"14.00\">T &#45;&gt; ( E )•</text>\n",
              "</g>\n",
              "<!-- 8545564980778235243&#45;&gt;&#45;7965466967384921407 -->\n",
              "<g id=\"edge12\" class=\"edge\">\n",
              "<title>8545564980778235243&#45;&gt;&#45;7965466967384921407</title>\n",
              "<path fill=\"none\" stroke=\"black\" d=\"M436.35,-166.78C445.49,-167.14 455.19,-167.53 464.58,-167.91\"/>\n",
              "<polygon fill=\"black\" stroke=\"black\" points=\"464.46,-171.41 474.59,-168.31 464.74,-164.41 464.46,-171.41\"/>\n",
              "<text text-anchor=\"middle\" x=\"452.77\" y=\"-156.34\" font-family=\"Times,serif\" font-size=\"14.00\">)</text>\n",
              "</g>\n",
              "<!-- &#45;7973185328594922865&#45;&gt;&#45;5144410650377006821 -->\n",
              "<g id=\"edge14\" class=\"edge\">\n",
              "<title>&#45;7973185328594922865&#45;&gt;&#45;5144410650377006821</title>\n",
              "<path fill=\"none\" stroke=\"black\" d=\"M472.59,-99.04C437.59,-104.61 387.72,-114.27 345.85,-129 335.82,-132.53 325.46,-137.04 315.64,-141.78\"/>\n",
              "<polygon fill=\"black\" stroke=\"black\" points=\"313.81,-138.78 306.41,-146.36 316.92,-145.05 313.81,-138.78\"/>\n",
              "<text text-anchor=\"middle\" x=\"385.29\" y=\"-105.17\" font-family=\"Times,serif\" font-size=\"14.00\">(</text>\n",
              "</g>\n",
              "<!-- &#45;7973185328594922865&#45;&gt;&#45;9070614127007776573 -->\n",
              "<g id=\"edge16\" class=\"edge\">\n",
              "<title>&#45;7973185328594922865&#45;&gt;&#45;9070614127007776573</title>\n",
              "<path fill=\"none\" stroke=\"black\" d=\"M547.09,-121.82C568.6,-143.59 597.87,-173.2 618.62,-194.2\"/>\n",
              "<polygon fill=\"black\" stroke=\"black\" points=\"616.33,-196.86 625.85,-201.51 621.31,-191.94 616.33,-196.86\"/>\n",
              "<text text-anchor=\"middle\" x=\"582.89\" y=\"-150.38\" font-family=\"Times,serif\" font-size=\"14.00\">n</text>\n",
              "</g>\n",
              "<!-- 149033366771629805 -->\n",
              "<g id=\"node11\" class=\"node\">\n",
              "<title>149033366771629805</title>\n",
              "<ellipse fill=\"none\" stroke=\"black\" cx=\"645.11\" cy=\"-93\" rx=\"42.47\" ry=\"18\"/>\n",
              "<ellipse fill=\"none\" stroke=\"black\" cx=\"645.11\" cy=\"-93\" rx=\"46.49\" ry=\"22\"/>\n",
              "<text text-anchor=\"middle\" x=\"645.11\" y=\"-89.3\" font-family=\"Times,serif\" font-size=\"14.00\">E &#45;&gt; E &#45; T•</text>\n",
              "</g>\n",
              "<!-- &#45;7973185328594922865&#45;&gt;149033366771629805 -->\n",
              "<g id=\"edge15\" class=\"edge\">\n",
              "<title>&#45;7973185328594922865&#45;&gt;149033366771629805</title>\n",
              "<path fill=\"none\" stroke=\"black\" d=\"M563.21,-93C571.43,-93 580.1,-93 588.59,-93\"/>\n",
              "<polygon fill=\"black\" stroke=\"black\" points=\"588.81,-96.5 598.81,-93 588.81,-89.5 588.81,-96.5\"/>\n",
              "<text text-anchor=\"middle\" x=\"576.49\" y=\"-81.8\" font-family=\"Times,serif\" font-size=\"14.00\">T</text>\n",
              "</g>\n",
              "</g>\n",
              "</svg>\n"
            ],
            "text/plain": [
              "<liblet.display.StateTransitionGraph at 0x7f929c7be370>"
            ]
          },
          "execution_count": 14,
          "metadata": {},
          "output_type": "execute_result"
        }
      ],
      "source": [
        "# visualizziamo l'automa ottenuto dalla grammatica d'esempio\n",
        "\n",
        "lr0a = compute_lr0_automaton(Gpf)\n",
        "StateTransitionGraph.from_automaton(lr0a, large_labels = True)"
      ]
    },
    {
      "cell_type": "markdown",
      "metadata": {},
      "source": [
        "## Parsing con un automa a pila \n",
        "\n",
        "Il parser segue l'algoritmo illustrato nella sezione 3.5.2 di MCD."
      ]
    },
    {
      "cell_type": "code",
      "execution_count": null,
      "metadata": {},
      "outputs": [],
      "source": [
        "def lr0parse(lr0a, text, G):\n",
        "\n",
        "  rest = text + [HASH, ]\n",
        "  s = Stack([lr0a.q0])\n",
        "  steps = []\n",
        "  \n",
        "  while True:\n",
        "    top = s.peek()\n",
        "    if top in lr0a.F: # REDUCE\n",
        "      N, α, _ = first(top)\n",
        "      steps.append(Production(N, α))\n",
        "      if N == G.S and not rest: return steps\n",
        "      for _ in α: s.pop()\n",
        "      nxt = first(lr0a.δ(s.peek(), N))\n",
        "    else: # SHIFT\n",
        "      if not rest: \n",
        "        warn('Unexpected end of input')\n",
        "        return None\n",
        "      token, *rest = rest\n",
        "      nxt = first(lr0a.δ(top, token))\n",
        "      if nxt is None: \n",
        "        warn('Unexpected token {}'.format(token))\n",
        "        return None\n",
        "    s.push(nxt)"
      ]
    },
    {
      "cell_type": "code",
      "execution_count": null,
      "metadata": {},
      "outputs": [
        {
          "data": {
            "text/plain": [
              "[T -> n, E -> T, T -> n, E -> E - T, T -> n, E -> E - T, S′ -> E ♯]"
            ]
          },
          "execution_count": 16,
          "metadata": {},
          "output_type": "execute_result"
        }
      ],
      "source": [
        "# proviamolo sulla grammatica d'esempio e su \n",
        "\n",
        "INPUT = 'n - n - n'.split()\n",
        "\n",
        "steps = lr0parse(lr0a, INPUT, Gpf)\n",
        "steps"
      ]
    },
    {
      "cell_type": "markdown",
      "metadata": {},
      "source": [
        "L'algoritmo restituisce i passi di una derivazione rightmost, dall'ultimo al primo"
      ]
    },
    {
      "cell_type": "code",
      "execution_count": null,
      "metadata": {},
      "outputs": [
        {
          "data": {
            "text/plain": [
              "S′ -> E ♯ -> E - T ♯ -> E - n ♯ -> E - T - n ♯ -> E - n - n ♯ -> T - n - n ♯ -> n - n - n ♯"
            ]
          },
          "execution_count": 17,
          "metadata": {},
          "output_type": "execute_result"
        }
      ],
      "source": [
        "dpf = Derivation(Gpf).rightmost(reversed(steps))\n",
        "dpf"
      ]
    },
    {
      "cell_type": "markdown",
      "metadata": {},
      "source": [
        "Possiamo visualizzare l'albero nella grammatica originale $G$ semplicemente trascurando l'ultima produzione (che è quella che produce il simbolo iniziale di $G$ seguito dal terminatore)."
      ]
    },
    {
      "cell_type": "code",
      "execution_count": null,
      "metadata": {},
      "outputs": [
        {
          "data": {
            "image/svg+xml": [
              "<?xml version=\"1.0\" encoding=\"UTF-8\" standalone=\"no\"?>\n",
              "<!DOCTYPE svg PUBLIC \"-//W3C//DTD SVG 1.1//EN\"\n",
              " \"http://www.w3.org/Graphics/SVG/1.1/DTD/svg11.dtd\">\n",
              "<!-- Generated by graphviz version 2.43.0 (0)\n",
              " -->\n",
              "<!-- Title: %3 Pages: 1 -->\n",
              "<svg width=\"124pt\" height=\"195pt\"\n",
              " viewBox=\"0.00 0.00 124.00 195.00\" xmlns=\"http://www.w3.org/2000/svg\" xmlns:xlink=\"http://www.w3.org/1999/xlink\">\n",
              "<g id=\"graph0\" class=\"graph\" transform=\"scale(1 1) rotate(0) translate(4 191)\">\n",
              "<title>%3</title>\n",
              "<polygon fill=\"white\" stroke=\"transparent\" points=\"-4,4 -4,-191 120,-191 120,4 -4,4\"/>\n",
              "<!-- 4454237681970978967 -->\n",
              "<g id=\"node1\" class=\"node\">\n",
              "<title>4454237681970978967</title>\n",
              "<path fill=\"none\" stroke=\"black\" stroke-width=\"0.25\" d=\"M77.33,-187C77.33,-187 71.67,-187 71.67,-187 68.83,-187 66,-184.17 66,-181.33 66,-181.33 66,-169.67 66,-169.67 66,-166.83 68.83,-164 71.67,-164 71.67,-164 77.33,-164 77.33,-164 80.17,-164 83,-166.83 83,-169.67 83,-169.67 83,-181.33 83,-181.33 83,-184.17 80.17,-187 77.33,-187\"/>\n",
              "<text text-anchor=\"middle\" x=\"74.5\" y=\"-171.8\" font-family=\"Times,serif\" font-size=\"14.00\">E</text>\n",
              "</g>\n",
              "<!-- 2017179835230733274 -->\n",
              "<g id=\"node2\" class=\"node\">\n",
              "<title>2017179835230733274</title>\n",
              "<path fill=\"none\" stroke=\"black\" stroke-width=\"0.25\" d=\"M44.33,-146C44.33,-146 38.67,-146 38.67,-146 35.83,-146 33,-143.17 33,-140.33 33,-140.33 33,-128.67 33,-128.67 33,-125.83 35.83,-123 38.67,-123 38.67,-123 44.33,-123 44.33,-123 47.17,-123 50,-125.83 50,-128.67 50,-128.67 50,-140.33 50,-140.33 50,-143.17 47.17,-146 44.33,-146\"/>\n",
              "<text text-anchor=\"middle\" x=\"41.5\" y=\"-130.8\" font-family=\"Times,serif\" font-size=\"14.00\">E</text>\n",
              "</g>\n",
              "<!-- 4454237681970978967&#45;&gt;2017179835230733274 -->\n",
              "<g id=\"edge1\" class=\"edge\">\n",
              "<title>4454237681970978967&#45;&gt;2017179835230733274</title>\n",
              "<path fill=\"none\" stroke=\"black\" stroke-width=\"0.5\" d=\"M65.83,-164.25C61.02,-158.57 55.05,-151.51 50.23,-145.81\"/>\n",
              "</g>\n",
              "<!-- 7162173602664794730 -->\n",
              "<g id=\"node3\" class=\"node\">\n",
              "<title>7162173602664794730</title>\n",
              "<path fill=\"none\" stroke=\"black\" stroke-width=\"1.25\" d=\"M76.67,-146C76.67,-146 72.33,-146 72.33,-146 70.17,-146 68,-143.83 68,-141.67 68,-141.67 68,-127.33 68,-127.33 68,-125.17 70.17,-123 72.33,-123 72.33,-123 76.67,-123 76.67,-123 78.83,-123 81,-125.17 81,-127.33 81,-127.33 81,-141.67 81,-141.67 81,-143.83 78.83,-146 76.67,-146\"/>\n",
              "<text text-anchor=\"middle\" x=\"74.5\" y=\"-130.8\" font-family=\"Times,serif\" font-size=\"14.00\">&#45;</text>\n",
              "</g>\n",
              "<!-- 4454237681970978967&#45;&gt;7162173602664794730 -->\n",
              "<g id=\"edge2\" class=\"edge\">\n",
              "<title>4454237681970978967&#45;&gt;7162173602664794730</title>\n",
              "<path fill=\"none\" stroke=\"black\" stroke-width=\"0.5\" d=\"M74.5,-163.84C74.5,-158.34 74.5,-151.65 74.5,-146.14\"/>\n",
              "</g>\n",
              "<!-- 5916871443160254882 -->\n",
              "<g id=\"node4\" class=\"node\">\n",
              "<title>5916871443160254882</title>\n",
              "<path fill=\"none\" stroke=\"black\" stroke-width=\"0.25\" d=\"M110.33,-146C110.33,-146 104.67,-146 104.67,-146 101.83,-146 99,-143.17 99,-140.33 99,-140.33 99,-128.67 99,-128.67 99,-125.83 101.83,-123 104.67,-123 104.67,-123 110.33,-123 110.33,-123 113.17,-123 116,-125.83 116,-128.67 116,-128.67 116,-140.33 116,-140.33 116,-143.17 113.17,-146 110.33,-146\"/>\n",
              "<text text-anchor=\"middle\" x=\"107.5\" y=\"-130.8\" font-family=\"Times,serif\" font-size=\"14.00\">T</text>\n",
              "</g>\n",
              "<!-- 4454237681970978967&#45;&gt;5916871443160254882 -->\n",
              "<g id=\"edge3\" class=\"edge\">\n",
              "<title>4454237681970978967&#45;&gt;5916871443160254882</title>\n",
              "<path fill=\"none\" stroke=\"black\" stroke-width=\"0.5\" d=\"M83.17,-164.25C87.98,-158.57 93.95,-151.51 98.77,-145.81\"/>\n",
              "</g>\n",
              "<!-- 2017179835230733274&#45;&gt;7162173602664794730 -->\n",
              "<!-- &#45;9016473433254675983 -->\n",
              "<g id=\"node6\" class=\"node\">\n",
              "<title>&#45;9016473433254675983</title>\n",
              "<path fill=\"none\" stroke=\"black\" stroke-width=\"0.25\" d=\"M11.33,-105C11.33,-105 5.67,-105 5.67,-105 2.83,-105 0,-102.17 0,-99.33 0,-99.33 0,-87.67 0,-87.67 0,-84.83 2.83,-82 5.67,-82 5.67,-82 11.33,-82 11.33,-82 14.17,-82 17,-84.83 17,-87.67 17,-87.67 17,-99.33 17,-99.33 17,-102.17 14.17,-105 11.33,-105\"/>\n",
              "<text text-anchor=\"middle\" x=\"8.5\" y=\"-89.8\" font-family=\"Times,serif\" font-size=\"14.00\">E</text>\n",
              "</g>\n",
              "<!-- 2017179835230733274&#45;&gt;&#45;9016473433254675983 -->\n",
              "<g id=\"edge7\" class=\"edge\">\n",
              "<title>2017179835230733274&#45;&gt;&#45;9016473433254675983</title>\n",
              "<path fill=\"none\" stroke=\"black\" stroke-width=\"0.5\" d=\"M32.83,-123.25C28.02,-117.57 22.05,-110.51 17.23,-104.81\"/>\n",
              "</g>\n",
              "<!-- &#45;2539261850997159953 -->\n",
              "<g id=\"node7\" class=\"node\">\n",
              "<title>&#45;2539261850997159953</title>\n",
              "<path fill=\"none\" stroke=\"black\" stroke-width=\"1.25\" d=\"M43.67,-105C43.67,-105 39.33,-105 39.33,-105 37.17,-105 35,-102.83 35,-100.67 35,-100.67 35,-86.33 35,-86.33 35,-84.17 37.17,-82 39.33,-82 39.33,-82 43.67,-82 43.67,-82 45.83,-82 48,-84.17 48,-86.33 48,-86.33 48,-100.67 48,-100.67 48,-102.83 45.83,-105 43.67,-105\"/>\n",
              "<text text-anchor=\"middle\" x=\"41.5\" y=\"-89.8\" font-family=\"Times,serif\" font-size=\"14.00\">&#45;</text>\n",
              "</g>\n",
              "<!-- 2017179835230733274&#45;&gt;&#45;2539261850997159953 -->\n",
              "<g id=\"edge8\" class=\"edge\">\n",
              "<title>2017179835230733274&#45;&gt;&#45;2539261850997159953</title>\n",
              "<path fill=\"none\" stroke=\"black\" stroke-width=\"0.5\" d=\"M41.5,-122.84C41.5,-117.34 41.5,-110.65 41.5,-105.14\"/>\n",
              "</g>\n",
              "<!-- 613793372482668327 -->\n",
              "<g id=\"node8\" class=\"node\">\n",
              "<title>613793372482668327</title>\n",
              "<path fill=\"none\" stroke=\"black\" stroke-width=\"0.25\" d=\"M77.33,-105C77.33,-105 71.67,-105 71.67,-105 68.83,-105 66,-102.17 66,-99.33 66,-99.33 66,-87.67 66,-87.67 66,-84.83 68.83,-82 71.67,-82 71.67,-82 77.33,-82 77.33,-82 80.17,-82 83,-84.83 83,-87.67 83,-87.67 83,-99.33 83,-99.33 83,-102.17 80.17,-105 77.33,-105\"/>\n",
              "<text text-anchor=\"middle\" x=\"74.5\" y=\"-89.8\" font-family=\"Times,serif\" font-size=\"14.00\">T</text>\n",
              "</g>\n",
              "<!-- 2017179835230733274&#45;&gt;613793372482668327 -->\n",
              "<g id=\"edge9\" class=\"edge\">\n",
              "<title>2017179835230733274&#45;&gt;613793372482668327</title>\n",
              "<path fill=\"none\" stroke=\"black\" stroke-width=\"0.5\" d=\"M50.17,-123.25C54.98,-117.57 60.95,-110.51 65.77,-104.81\"/>\n",
              "</g>\n",
              "<!-- 7162173602664794730&#45;&gt;5916871443160254882 -->\n",
              "<!-- &#45;8975299963901454155 -->\n",
              "<g id=\"node5\" class=\"node\">\n",
              "<title>&#45;8975299963901454155</title>\n",
              "<path fill=\"none\" stroke=\"black\" stroke-width=\"1.25\" d=\"M111,-105C111,-105 106,-105 106,-105 103.5,-105 101,-102.5 101,-100 101,-100 101,-87 101,-87 101,-84.5 103.5,-82 106,-82 106,-82 111,-82 111,-82 113.5,-82 116,-84.5 116,-87 116,-87 116,-100 116,-100 116,-102.5 113.5,-105 111,-105\"/>\n",
              "<text text-anchor=\"middle\" x=\"108.5\" y=\"-89.8\" font-family=\"Times,serif\" font-size=\"14.00\">n</text>\n",
              "</g>\n",
              "<!-- 5916871443160254882&#45;&gt;&#45;8975299963901454155 -->\n",
              "<g id=\"edge6\" class=\"edge\">\n",
              "<title>5916871443160254882&#45;&gt;&#45;8975299963901454155</title>\n",
              "<path fill=\"none\" stroke=\"black\" stroke-width=\"0.5\" d=\"M107.77,-122.84C107.91,-117.34 108.09,-110.65 108.23,-105.14\"/>\n",
              "</g>\n",
              "<!-- &#45;9016473433254675983&#45;&gt;&#45;2539261850997159953 -->\n",
              "<!-- 5569497623492099835 -->\n",
              "<g id=\"node10\" class=\"node\">\n",
              "<title>5569497623492099835</title>\n",
              "<path fill=\"none\" stroke=\"black\" stroke-width=\"0.25\" d=\"M11.33,-64C11.33,-64 5.67,-64 5.67,-64 2.83,-64 0,-61.17 0,-58.33 0,-58.33 0,-46.67 0,-46.67 0,-43.83 2.83,-41 5.67,-41 5.67,-41 11.33,-41 11.33,-41 14.17,-41 17,-43.83 17,-46.67 17,-46.67 17,-58.33 17,-58.33 17,-61.17 14.17,-64 11.33,-64\"/>\n",
              "<text text-anchor=\"middle\" x=\"8.5\" y=\"-48.8\" font-family=\"Times,serif\" font-size=\"14.00\">T</text>\n",
              "</g>\n",
              "<!-- &#45;9016473433254675983&#45;&gt;5569497623492099835 -->\n",
              "<g id=\"edge13\" class=\"edge\">\n",
              "<title>&#45;9016473433254675983&#45;&gt;5569497623492099835</title>\n",
              "<path fill=\"none\" stroke=\"black\" stroke-width=\"0.5\" d=\"M8.5,-81.84C8.5,-76.34 8.5,-69.65 8.5,-64.14\"/>\n",
              "</g>\n",
              "<!-- &#45;2539261850997159953&#45;&gt;613793372482668327 -->\n",
              "<!-- &#45;229991343853857222 -->\n",
              "<g id=\"node9\" class=\"node\">\n",
              "<title>&#45;229991343853857222</title>\n",
              "<path fill=\"none\" stroke=\"black\" stroke-width=\"1.25\" d=\"M77,-64C77,-64 72,-64 72,-64 69.5,-64 67,-61.5 67,-59 67,-59 67,-46 67,-46 67,-43.5 69.5,-41 72,-41 72,-41 77,-41 77,-41 79.5,-41 82,-43.5 82,-46 82,-46 82,-59 82,-59 82,-61.5 79.5,-64 77,-64\"/>\n",
              "<text text-anchor=\"middle\" x=\"74.5\" y=\"-48.8\" font-family=\"Times,serif\" font-size=\"14.00\">n</text>\n",
              "</g>\n",
              "<!-- 613793372482668327&#45;&gt;&#45;229991343853857222 -->\n",
              "<g id=\"edge12\" class=\"edge\">\n",
              "<title>613793372482668327&#45;&gt;&#45;229991343853857222</title>\n",
              "<path fill=\"none\" stroke=\"black\" stroke-width=\"0.5\" d=\"M74.5,-81.84C74.5,-76.34 74.5,-69.65 74.5,-64.14\"/>\n",
              "</g>\n",
              "<!-- &#45;705749654349980480 -->\n",
              "<g id=\"node11\" class=\"node\">\n",
              "<title>&#45;705749654349980480</title>\n",
              "<path fill=\"none\" stroke=\"black\" stroke-width=\"1.25\" d=\"M11,-23C11,-23 6,-23 6,-23 3.5,-23 1,-20.5 1,-18 1,-18 1,-5 1,-5 1,-2.5 3.5,0 6,0 6,0 11,0 11,0 13.5,0 16,-2.5 16,-5 16,-5 16,-18 16,-18 16,-20.5 13.5,-23 11,-23\"/>\n",
              "<text text-anchor=\"middle\" x=\"8.5\" y=\"-7.8\" font-family=\"Times,serif\" font-size=\"14.00\">n</text>\n",
              "</g>\n",
              "<!-- 5569497623492099835&#45;&gt;&#45;705749654349980480 -->\n",
              "<g id=\"edge14\" class=\"edge\">\n",
              "<title>5569497623492099835&#45;&gt;&#45;705749654349980480</title>\n",
              "<path fill=\"none\" stroke=\"black\" stroke-width=\"0.5\" d=\"M8.5,-40.84C8.5,-35.34 8.5,-28.65 8.5,-23.14\"/>\n",
              "</g>\n",
              "</g>\n",
              "</svg>\n"
            ],
            "text/plain": [
              "ProductionGraph(E -> E - T -> E - n -> E - T - n -> E - n - n -> T - n - n -> n - n - n)"
            ]
          },
          "execution_count": 18,
          "metadata": {},
          "output_type": "execute_result"
        }
      ],
      "source": [
        "d = Derivation(G).rightmost(reversed(steps[:-1]))\n",
        "ProductionGraph(d)"
      ]
    },
    {
      "cell_type": "markdown",
      "metadata": {},
      "source": [
        "## Conflitti\n",
        "\n",
        "Purtroppo l'approccio funziona solo per alcune grammatice. Con altre possono presentarsi conflitti *shift/reduce*."
      ]
    },
    {
      "cell_type": "code",
      "execution_count": null,
      "metadata": {},
      "outputs": [],
      "source": [
        "# ad esempio\n",
        "\n",
        "Gsr = Grammar.from_string(\"\"\"\n",
        "S -> A b | A\n",
        "A -> a\n",
        "\"\"\")"
      ]
    },
    {
      "cell_type": "code",
      "execution_count": null,
      "metadata": {},
      "outputs": [
        {
          "data": {
            "image/svg+xml": [
              "<?xml version=\"1.0\" encoding=\"UTF-8\" standalone=\"no\"?>\n",
              "<!DOCTYPE svg PUBLIC \"-//W3C//DTD SVG 1.1//EN\"\n",
              " \"http://www.w3.org/Graphics/SVG/1.1/DTD/svg11.dtd\">\n",
              "<!-- Generated by graphviz version 2.43.0 (0)\n",
              " -->\n",
              "<!-- Title: %3 Pages: 1 -->\n",
              "<svg width=\"416pt\" height=\"124pt\"\n",
              " viewBox=\"0.00 0.00 416.14 123.87\" xmlns=\"http://www.w3.org/2000/svg\" xmlns:xlink=\"http://www.w3.org/1999/xlink\">\n",
              "<g id=\"graph0\" class=\"graph\" transform=\"scale(1 1) rotate(0) translate(4 119.87)\">\n",
              "<title>%3</title>\n",
              "<polygon fill=\"white\" stroke=\"transparent\" points=\"-4,4 -4,-119.87 412.14,-119.87 412.14,4 -4,4\"/>\n",
              "<!-- 140267667332448 -->\n",
              "<g id=\"node1\" class=\"node\">\n",
              "<title>140267667332448</title>\n",
              "</g>\n",
              "<!-- &#45;4457708135700670936 -->\n",
              "<g id=\"node2\" class=\"node\">\n",
              "<title>&#45;4457708135700670936</title>\n",
              "<ellipse fill=\"none\" stroke=\"black\" cx=\"131.72\" cy=\"-55\" rx=\"41.94\" ry=\"37.45\"/>\n",
              "<text text-anchor=\"middle\" x=\"131.72\" y=\"-66.3\" font-family=\"Times,serif\" font-size=\"14.00\">A &#45;&gt; •a</text>\n",
              "<text text-anchor=\"middle\" x=\"131.72\" y=\"-51.3\" font-family=\"Times,serif\" font-size=\"14.00\">S &#45;&gt; •A</text>\n",
              "<text text-anchor=\"middle\" x=\"131.72\" y=\"-36.3\" font-family=\"Times,serif\" font-size=\"14.00\">S &#45;&gt; •A b</text>\n",
              "</g>\n",
              "<!-- 140267667332448&#45;&gt;&#45;4457708135700670936 -->\n",
              "<g id=\"edge1\" class=\"edge\">\n",
              "<title>140267667332448&#45;&gt;&#45;4457708135700670936</title>\n",
              "<path fill=\"none\" stroke=\"black\" d=\"M54.19,-55C61.96,-55 70.76,-55 79.55,-55\"/>\n",
              "<polygon fill=\"black\" stroke=\"black\" points=\"79.8,-58.5 89.8,-55 79.8,-51.5 79.8,-58.5\"/>\n",
              "</g>\n",
              "<!-- &#45;1974532492055375623 -->\n",
              "<g id=\"node3\" class=\"node\">\n",
              "<title>&#45;1974532492055375623</title>\n",
              "<ellipse fill=\"none\" stroke=\"black\" cx=\"249.74\" cy=\"-89\" rx=\"40.11\" ry=\"26.74\"/>\n",
              "<text text-anchor=\"middle\" x=\"249.74\" y=\"-92.8\" font-family=\"Times,serif\" font-size=\"14.00\">S &#45;&gt; A•</text>\n",
              "<text text-anchor=\"middle\" x=\"249.74\" y=\"-77.8\" font-family=\"Times,serif\" font-size=\"14.00\">S &#45;&gt; A•b</text>\n",
              "</g>\n",
              "<!-- &#45;4457708135700670936&#45;&gt;&#45;1974532492055375623 -->\n",
              "<g id=\"edge2\" class=\"edge\">\n",
              "<title>&#45;4457708135700670936&#45;&gt;&#45;1974532492055375623</title>\n",
              "<path fill=\"none\" stroke=\"black\" d=\"M171.68,-66.42C181.65,-69.34 192.48,-72.51 202.77,-75.53\"/>\n",
              "<polygon fill=\"black\" stroke=\"black\" points=\"201.85,-78.91 212.44,-78.36 203.82,-72.19 201.85,-78.91\"/>\n",
              "<text text-anchor=\"middle\" x=\"187.02\" y=\"-61.18\" font-family=\"Times,serif\" font-size=\"14.00\">A</text>\n",
              "</g>\n",
              "<!-- 7835213346499947158 -->\n",
              "<g id=\"node4\" class=\"node\">\n",
              "<title>7835213346499947158</title>\n",
              "<ellipse fill=\"none\" stroke=\"black\" cx=\"249.74\" cy=\"-22\" rx=\"31.71\" ry=\"18\"/>\n",
              "<ellipse fill=\"none\" stroke=\"black\" cx=\"249.74\" cy=\"-22\" rx=\"35.69\" ry=\"22\"/>\n",
              "<text text-anchor=\"middle\" x=\"249.74\" y=\"-18.3\" font-family=\"Times,serif\" font-size=\"14.00\">A &#45;&gt; a•</text>\n",
              "</g>\n",
              "<!-- &#45;4457708135700670936&#45;&gt;7835213346499947158 -->\n",
              "<g id=\"edge3\" class=\"edge\">\n",
              "<title>&#45;4457708135700670936&#45;&gt;7835213346499947158</title>\n",
              "<path fill=\"none\" stroke=\"black\" d=\"M171.68,-43.92C183.08,-40.68 195.59,-37.12 207.16,-33.83\"/>\n",
              "<polygon fill=\"black\" stroke=\"black\" points=\"208.36,-37.13 217.02,-31.02 206.44,-30.39 208.36,-37.13\"/>\n",
              "<text text-anchor=\"middle\" x=\"190.92\" y=\"-26.25\" font-family=\"Times,serif\" font-size=\"14.00\">a</text>\n",
              "</g>\n",
              "<!-- &#45;217345038038490553 -->\n",
              "<g id=\"node5\" class=\"node\">\n",
              "<title>&#45;217345038038490553</title>\n",
              "<ellipse fill=\"none\" stroke=\"black\" cx=\"367.1\" cy=\"-89\" rx=\"37.09\" ry=\"18\"/>\n",
              "<ellipse fill=\"none\" stroke=\"black\" cx=\"367.1\" cy=\"-89\" rx=\"41.09\" ry=\"22\"/>\n",
              "<text text-anchor=\"middle\" x=\"367.1\" y=\"-85.3\" font-family=\"Times,serif\" font-size=\"14.00\">S &#45;&gt; A b•</text>\n",
              "</g>\n",
              "<!-- &#45;1974532492055375623&#45;&gt;&#45;217345038038490553 -->\n",
              "<g id=\"edge4\" class=\"edge\">\n",
              "<title>&#45;1974532492055375623&#45;&gt;&#45;217345038038490553</title>\n",
              "<path fill=\"none\" stroke=\"black\" d=\"M290.12,-89C298.29,-89 307,-89 315.5,-89\"/>\n",
              "<polygon fill=\"black\" stroke=\"black\" points=\"315.72,-92.5 325.72,-89 315.72,-85.5 315.72,-92.5\"/>\n",
              "<text text-anchor=\"middle\" x=\"304.39\" y=\"-77.8\" font-family=\"Times,serif\" font-size=\"14.00\">b</text>\n",
              "</g>\n",
              "</g>\n",
              "</svg>\n"
            ],
            "text/plain": [
              "<liblet.display.StateTransitionGraph at 0x7f92a44071c0>"
            ]
          },
          "execution_count": 20,
          "metadata": {},
          "output_type": "execute_result"
        }
      ],
      "source": [
        "lr0asr = compute_lr0_automaton(Gsr)\n",
        "StateTransitionGraph.from_automaton(lr0asr, large_labels = True)"
      ]
    },
    {
      "cell_type": "markdown",
      "metadata": {},
      "source": [
        "Lo stato $\\{S\\to A•, S\\to A•b\\}$ può essere interpretato sia come uno shift verso $\\{S\\to Ab•\\}$ che come un reduce $S\\to A$.\n",
        "\n",
        "Possono inoltre presentarsi conflitti *reduce/reduce*."
      ]
    },
    {
      "cell_type": "code",
      "execution_count": null,
      "metadata": {},
      "outputs": [],
      "source": [
        "# ad esempio\n",
        "\n",
        "Grr = Grammar.from_string(\"\"\"\n",
        "S -> A | a\n",
        "A -> a\n",
        "\"\"\")"
      ]
    },
    {
      "cell_type": "code",
      "execution_count": null,
      "metadata": {},
      "outputs": [
        {
          "data": {
            "image/svg+xml": [
              "<?xml version=\"1.0\" encoding=\"UTF-8\" standalone=\"no\"?>\n",
              "<!DOCTYPE svg PUBLIC \"-//W3C//DTD SVG 1.1//EN\"\n",
              " \"http://www.w3.org/Graphics/SVG/1.1/DTD/svg11.dtd\">\n",
              "<!-- Generated by graphviz version 2.43.0 (0)\n",
              " -->\n",
              "<!-- Title: %3 Pages: 1 -->\n",
              "<svg width=\"280pt\" height=\"124pt\"\n",
              " viewBox=\"0.00 0.00 280.42 123.87\" xmlns=\"http://www.w3.org/2000/svg\" xmlns:xlink=\"http://www.w3.org/1999/xlink\">\n",
              "<g id=\"graph0\" class=\"graph\" transform=\"scale(1 1) rotate(0) translate(4 119.87)\">\n",
              "<title>%3</title>\n",
              "<polygon fill=\"white\" stroke=\"transparent\" points=\"-4,4 -4,-119.87 276.42,-119.87 276.42,4 -4,4\"/>\n",
              "<!-- 140267667425536 -->\n",
              "<g id=\"node1\" class=\"node\">\n",
              "<title>140267667425536</title>\n",
              "</g>\n",
              "<!-- 440099541830241666 -->\n",
              "<g id=\"node2\" class=\"node\">\n",
              "<title>440099541830241666</title>\n",
              "<ellipse fill=\"none\" stroke=\"black\" cx=\"126.06\" cy=\"-59.87\" rx=\"36.12\" ry=\"37.45\"/>\n",
              "<text text-anchor=\"middle\" x=\"126.06\" y=\"-71.17\" font-family=\"Times,serif\" font-size=\"14.00\">A &#45;&gt; •a</text>\n",
              "<text text-anchor=\"middle\" x=\"126.06\" y=\"-56.17\" font-family=\"Times,serif\" font-size=\"14.00\">S &#45;&gt; •A</text>\n",
              "<text text-anchor=\"middle\" x=\"126.06\" y=\"-41.17\" font-family=\"Times,serif\" font-size=\"14.00\">S &#45;&gt; •a</text>\n",
              "</g>\n",
              "<!-- 140267667425536&#45;&gt;440099541830241666 -->\n",
              "<g id=\"edge1\" class=\"edge\">\n",
              "<title>140267667425536&#45;&gt;440099541830241666</title>\n",
              "<path fill=\"none\" stroke=\"black\" d=\"M54.01,-59.87C61.92,-59.87 70.86,-59.87 79.66,-59.87\"/>\n",
              "<polygon fill=\"black\" stroke=\"black\" points=\"79.85,-63.37 89.85,-59.87 79.85,-56.37 79.85,-63.37\"/>\n",
              "</g>\n",
              "<!-- 2684804672736607687 -->\n",
              "<g id=\"node3\" class=\"node\">\n",
              "<title>2684804672736607687</title>\n",
              "<ellipse fill=\"none\" stroke=\"black\" cx=\"235.27\" cy=\"-93.87\" rx=\"33.28\" ry=\"18\"/>\n",
              "<ellipse fill=\"none\" stroke=\"black\" cx=\"235.27\" cy=\"-93.87\" rx=\"37.29\" ry=\"22\"/>\n",
              "<text text-anchor=\"middle\" x=\"235.27\" y=\"-90.17\" font-family=\"Times,serif\" font-size=\"14.00\">S &#45;&gt; A•</text>\n",
              "</g>\n",
              "<!-- 440099541830241666&#45;&gt;2684804672736607687 -->\n",
              "<g id=\"edge2\" class=\"edge\">\n",
              "<title>440099541830241666&#45;&gt;2684804672736607687</title>\n",
              "<path fill=\"none\" stroke=\"black\" d=\"M160.69,-70.53C170.74,-73.72 181.89,-77.26 192.4,-80.59\"/>\n",
              "<polygon fill=\"black\" stroke=\"black\" points=\"191.64,-84.02 202.23,-83.71 193.75,-77.35 191.64,-84.02\"/>\n",
              "<text text-anchor=\"middle\" x=\"176.4\" y=\"-65.9\" font-family=\"Times,serif\" font-size=\"14.00\">A</text>\n",
              "</g>\n",
              "<!-- 2445730329601456362 -->\n",
              "<g id=\"node4\" class=\"node\">\n",
              "<title>2445730329601456362</title>\n",
              "<ellipse fill=\"none\" stroke=\"black\" cx=\"235.27\" cy=\"-26.87\" rx=\"34.8\" ry=\"26.74\"/>\n",
              "<text text-anchor=\"middle\" x=\"235.27\" y=\"-30.67\" font-family=\"Times,serif\" font-size=\"14.00\">A &#45;&gt; a•</text>\n",
              "<text text-anchor=\"middle\" x=\"235.27\" y=\"-15.67\" font-family=\"Times,serif\" font-size=\"14.00\">S &#45;&gt; a•</text>\n",
              "</g>\n",
              "<!-- 440099541830241666&#45;&gt;2445730329601456362 -->\n",
              "<g id=\"edge3\" class=\"edge\">\n",
              "<title>440099541830241666&#45;&gt;2445730329601456362</title>\n",
              "<path fill=\"none\" stroke=\"black\" d=\"M160.98,-49.43C171.12,-46.31 182.34,-42.85 192.9,-39.6\"/>\n",
              "<polygon fill=\"black\" stroke=\"black\" points=\"194.23,-42.86 202.76,-36.57 192.17,-36.17 194.23,-42.86\"/>\n",
              "<text text-anchor=\"middle\" x=\"178.35\" y=\"-31.81\" font-family=\"Times,serif\" font-size=\"14.00\">a</text>\n",
              "</g>\n",
              "</g>\n",
              "</svg>\n"
            ],
            "text/plain": [
              "<liblet.display.StateTransitionGraph at 0x7f92a4407100>"
            ]
          },
          "execution_count": 22,
          "metadata": {},
          "output_type": "execute_result"
        }
      ],
      "source": [
        "lr0arr = compute_lr0_automaton(Grr)\n",
        "StateTransitionGraph.from_automaton(lr0arr, large_labels = True)"
      ]
    },
    {
      "cell_type": "markdown",
      "metadata": {},
      "source": [
        "In questo caso è lo stato $\\{A\\to a•, S\\to a•\\}$ che può essere interpretato come un reduce $A\\to a$ o $S\\to a$."
      ]
    },
    {
      "cell_type": "markdown",
      "metadata": {},
      "source": [
        "# <samp style=\"color: red;\">Per casa</samp> \n",
        "\n",
        "## L'automa e le tabelle `GOTO` e `ACTIONS` \n",
        "\n",
        "L'automa a stati finiti può essere rappresntato in modo più compatto attraverso due tabelle; dapprima è necessario numerare gli stati (in modo da poter utilizzare numeri interi invece che insiemi di item). "
      ]
    },
    {
      "cell_type": "code",
      "execution_count": null,
      "metadata": {},
      "outputs": [
        {
          "data": {
            "text/html": [
              "<style>td, th {border: 1pt solid lightgray !important ;}</style><table><tr><th style=\"text-align:left\">0<td style=\"text-align:left\"><pre>{E -&gt; T•}</pre>\n",
              "<tr><th style=\"text-align:left\">1<td style=\"text-align:left\"><pre>{S′ -&gt; •E ♯, E -&gt; •T, E -&gt; •E - T, T -&gt; •( E ), T -&gt; •n}</pre>\n",
              "<tr><th style=\"text-align:left\">2<td style=\"text-align:left\"><pre>{T -&gt; n•}</pre>\n",
              "<tr><th style=\"text-align:left\">3<td style=\"text-align:left\"><pre>{E -&gt; E•- T, T -&gt; ( E•)}</pre>\n",
              "<tr><th style=\"text-align:left\">4<td style=\"text-align:left\"><pre>{T -&gt; ( E )•}</pre>\n",
              "<tr><th style=\"text-align:left\">5<td style=\"text-align:left\"><pre>{E -&gt; E - T•}</pre>\n",
              "<tr><th style=\"text-align:left\">6<td style=\"text-align:left\"><pre>{S′ -&gt; E•♯, E -&gt; E•- T}</pre>\n",
              "<tr><th style=\"text-align:left\">7<td style=\"text-align:left\"><pre>{E -&gt; •T, E -&gt; •E - T, T -&gt; (•E ), T -&gt; •( E ), T -&gt; •n}</pre>\n",
              "<tr><th style=\"text-align:left\">8<td style=\"text-align:left\"><pre>{E -&gt; E -•T, T -&gt; •( E ), T -&gt; •n}</pre>\n",
              "<tr><th style=\"text-align:left\">9<td style=\"text-align:left\"><pre>{S′ -&gt; E ♯•}</pre></table>"
            ],
            "text/plain": [
              "<IPython.core.display.HTML object>"
            ]
          },
          "execution_count": 23,
          "metadata": {},
          "output_type": "execute_result"
        }
      ],
      "source": [
        "states = sorted(map(set, lr0a.N))\n",
        "iter2table(states)"
      ]
    },
    {
      "cell_type": "markdown",
      "metadata": {},
      "source": [
        "Quindi si possono usare due tabelle: la tabella `GOTO` che descrive le transizioni"
      ]
    },
    {
      "cell_type": "code",
      "execution_count": null,
      "metadata": {},
      "outputs": [
        {
          "data": {
            "text/html": [
              "<style>td, th {border: 1pt solid lightgray !important; text-align: left !important;}</style><table><tr><td>&nbsp;<th><pre>(</pre><th><pre>E</pre><th><pre>T</pre><th><pre>n</pre><th><pre>)</pre><th><pre>-</pre><th><pre>♯</pre>\n",
              "<tr><th><pre>1<pre><td><pre>7</pre><td><pre>6</pre><td><pre>0</pre><td><pre>2</pre><td>&nbsp;<td>&nbsp;<td>&nbsp;\n",
              "<tr><th><pre>3<pre><td>&nbsp;<td>&nbsp;<td>&nbsp;<td>&nbsp;<td><pre>4</pre><td><pre>8</pre><td>&nbsp;\n",
              "<tr><th><pre>6<pre><td>&nbsp;<td>&nbsp;<td>&nbsp;<td>&nbsp;<td>&nbsp;<td><pre>8</pre><td><pre>9</pre>\n",
              "<tr><th><pre>7<pre><td><pre>7</pre><td><pre>3</pre><td><pre>0</pre><td><pre>2</pre><td>&nbsp;<td>&nbsp;<td>&nbsp;\n",
              "<tr><th><pre>8<pre><td><pre>7</pre><td>&nbsp;<td><pre>5</pre><td><pre>2</pre><td>&nbsp;<td>&nbsp;<td>&nbsp;\n",
              "</table>"
            ],
            "text/plain": [
              "<liblet.utils.Table at 0x7f929c7e9160>"
            ]
          },
          "execution_count": 24,
          "metadata": {},
          "output_type": "execute_result"
        }
      ],
      "source": [
        "index_of = states.index\n",
        "\n",
        "GOTO = Table(2, set)\n",
        "for frm in states:\n",
        "  for X in sorted(lr0a.T):\n",
        "    to = lr0a.δ(frm, X)\n",
        "    if to: \n",
        "      to = first(to)\n",
        "      GOTO[index_of(frm), X] = index_of(to)\n",
        "\n",
        "GOTO"
      ]
    },
    {
      "cell_type": "markdown",
      "metadata": {},
      "source": [
        "E una tabella `ACTIONS` per rappresentare le riduzioni (che avvengono solo per gli stati finali)"
      ]
    },
    {
      "cell_type": "code",
      "execution_count": null,
      "metadata": {},
      "outputs": [
        {
          "data": {
            "text/html": [
              "<style>td, th {border: 1pt solid lightgray !important; text-align: left !important;}</style><table><tr><th><pre>0</pre><td><pre>E -> T</pre>\n",
              "<tr><th><pre>2</pre><td><pre>T -> n</pre>\n",
              "<tr><th><pre>4</pre><td><pre>T -> ( E )</pre>\n",
              "<tr><th><pre>5</pre><td><pre>E -> E - T</pre>\n",
              "<tr><th><pre>9</pre><td><pre>S′ -> E ♯</pre></table>"
            ],
            "text/plain": [
              "<liblet.utils.Table at 0x7f929c7dbd60>"
            ]
          },
          "execution_count": 25,
          "metadata": {},
          "output_type": "execute_result"
        }
      ],
      "source": [
        "ACTIONS = Table(1)\n",
        "\n",
        "for n, state in enumerate(states):\n",
        "  if len(state) == 1: \n",
        "    A, α, _ = first(state)\n",
        "    ACTIONS[n] = Production(A, α)\n",
        "\n",
        "ACTIONS"
      ]
    },
    {
      "cell_type": "markdown",
      "metadata": {},
      "source": [
        "## Simulazione con le tabelle\n",
        "\n",
        "Può essere un interessante esecizio scrivere una variante della funzione `lr0parse` che invece di basarsi sul'automa, richieda solo la conoscenza delle tabelle `GOTO` e `ACTIONS` descritte in questa sezione."
      ]
    }
  ],
  "metadata": {
    "kernelspec": {
      "display_name": "Python 3",
      "language": "python",
      "name": "python3"
    },
    "language_info": {
      "codemirror_mode": {
        "name": "ipython",
        "version": 3
      },
      "file_extension": ".py",
      "mimetype": "text/x-python",
      "name": "python",
      "nbconvert_exporter": "python",
      "pygments_lexer": "ipython3"
    }
  },
  "nbformat": 4,
  "nbformat_minor": 4
}
