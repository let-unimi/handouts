{
  "cells": [
    {
      "cell_type": "markdown",
      "metadata": {},
      "source": [
        "# Introduzione a Python\n",
        "\n",
        "* Fate riferimento alla [documentazione on-line](https://docs.python.org/3/), \n",
        "* L'ambiente didattico è basato su [Jupyter](https://jupyter.org/) e [Gtipod](https://www.gitpod.io/), chi per ora non vuole installare software sulla sua macchina può iniziare col [playground]() di [liblet](https://liblet.readthedocs.io/).\n",
        "\n",
        "La lezione di oggi ha richiamato brevemente i seguenti capitoli di [The Python Tutorial](https://docs.python.org/3/tutorial/):\n",
        "\n",
        "* 3 [An Informal Introduction to Python](https://docs.python.org/3/tutorial/introduction.html),\n",
        "* 4.1 - 4.6 [More Control Flow Tools](https://docs.python.org/3/tutorial/controlflow.html) \n",
        "* 5 [Data Structures](https://docs.python.org/3/tutorial/datastructures.html).\n",
        "\n",
        "## Strutture dati e iterazione \n",
        "\n",
        "In particolare si è soffermata su *liste*, *insiemi* e *dizionari* e sui meccanismi di iterazione (`for`, `iter` e `next`), utili anche nelle *comprehension*. "
      ]
    },
    {
      "cell_type": "code",
      "execution_count": null,
      "metadata": {},
      "outputs": [
        {
          "data": {
            "text/plain": [
              "[0, 1, 4, 9, 16, 25, 36, 49, 64, 81]"
            ]
          },
          "execution_count": 1,
          "metadata": {},
          "output_type": "execute_result"
        }
      ],
      "source": [
        "# list comprehension: i quadrati dei numeri interi in [0, 10)\n",
        "\n",
        "q = [x * x for x in range(10)]\n",
        "q"
      ]
    },
    {
      "cell_type": "code",
      "execution_count": null,
      "metadata": {},
      "outputs": [
        {
          "data": {
            "text/plain": [
              "{0, 2, 4, 6, 8}"
            ]
          },
          "execution_count": 2,
          "metadata": {},
          "output_type": "execute_result"
        }
      ],
      "source": [
        "# set comprehension: i numeri pari tra gli interi in [0, 9]\n",
        "\n",
        "p = {x for x in range(9) if x % 2 == 0}\n",
        "p"
      ]
    },
    {
      "cell_type": "code",
      "execution_count": null,
      "metadata": {},
      "outputs": [
        {
          "data": {
            "text/plain": [
              "{'un': 2, 'semplice': 8, 'esempio': 7}"
            ]
          },
          "execution_count": 3,
          "metadata": {},
          "output_type": "execute_result"
        }
      ],
      "source": [
        "# dict comprehension: una mappa da una lista di parle alla loro lunghezza\n",
        "\n",
        "w2l = {w: len(w) for w in ['un', 'semplice', 'esempio']}\n",
        "w2l"
      ]
    },
    {
      "cell_type": "code",
      "execution_count": null,
      "metadata": {},
      "outputs": [
        {
          "name": "stdout",
          "output_type": "stream",
          "text": [
            "alcune\n",
            "parole\n",
            "divise\n",
            "da\n",
            "spazi\n"
          ]
        }
      ],
      "source": [
        "# iterazione tramite iter/next\n",
        "\n",
        "it = iter('alcune parole divise da spazi'.split())\n",
        "\n",
        "while True:\n",
        "    w = next(it, None)\n",
        "    if w is None: break\n",
        "    print(w)"
      ]
    },
    {
      "cell_type": "markdown",
      "metadata": {},
      "source": [
        "## Funzioni (uso base)\n",
        "\n",
        "Un secondo argomento su cui si è posta particolare attenzione sono le funzioni, viste come [cittadini di prim'ordine](https://en.wikipedia.org/wiki/First-class_citizen)."
      ]
    },
    {
      "cell_type": "code",
      "execution_count": null,
      "metadata": {},
      "outputs": [],
      "source": [
        "# una semplice funzione\n",
        "\n",
        "def quadra(x):\n",
        "  return x * x"
      ]
    },
    {
      "cell_type": "code",
      "execution_count": null,
      "metadata": {},
      "outputs": [
        {
          "data": {
            "text/plain": [
              "9"
            ]
          },
          "execution_count": 6,
          "metadata": {},
          "output_type": "execute_result"
        }
      ],
      "source": [
        "# assegnare una funzione ad una variable\n",
        "\n",
        "f = quadra\n",
        "\n",
        "f(3)"
      ]
    },
    {
      "cell_type": "code",
      "execution_count": null,
      "metadata": {},
      "outputs": [
        {
          "data": {
            "text/plain": [
              "[1, 4, 9]"
            ]
          },
          "execution_count": 7,
          "metadata": {},
          "output_type": "execute_result"
        }
      ],
      "source": [
        "# usare una funzione come argomento (formale)\n",
        "\n",
        "def applica(fun, lst):\n",
        "  return [fun(x) for x in lst]\n",
        "\n",
        "applica(quadra, [1, 2, 3])"
      ]
    }
  ],
  "metadata": {
    "kernelspec": {
      "display_name": "Python 3",
      "language": "python",
      "name": "python3"
    },
    "language_info": {
      "codemirror_mode": {
        "name": "ipython",
        "version": 3
      },
      "file_extension": ".py",
      "mimetype": "text/x-python",
      "name": "python",
      "nbconvert_exporter": "python",
      "pygments_lexer": "ipython3"
    }
  },
  "nbformat": 4,
  "nbformat_minor": 4
}
