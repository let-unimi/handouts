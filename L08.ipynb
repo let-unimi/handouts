{
  "cells": [
    {
      "cell_type": "markdown",
      "metadata": {},
      "source": [
        "# Lezione 9\n",
        "\n",
        "## Parsing top-down direzionale (caso generale)"
      ]
    },
    {
      "cell_type": "code",
      "execution_count": null,
      "metadata": {},
      "outputs": [],
      "source": [
        "from liblet import (\n",
        "  Production, \n",
        "  Grammar, \n",
        "  Derivation, \n",
        "  TopDownInstantaneousDescription,\n",
        "  Queue, \n",
        "  Stack, \n",
        "  animate_derivation,\n",
        "  ProductionGraph, \n",
        "  side_by_side\n",
        ")\n"
      ]
    },
    {
      "cell_type": "markdown",
      "metadata": {},
      "source": [
        "## Imitando le derivazioni leftmost…"
      ]
    },
    {
      "cell_type": "code",
      "execution_count": null,
      "metadata": {},
      "outputs": [
        {
          "data": {
            "text/plain": [
              "Grammar(N={A, B, S}, T={a, b}, P=(S -> a B, S -> b A, A -> a, A -> a S, A -> b A A, B -> b, B -> b S, B -> a B B), S=S)"
            ]
          },
          "execution_count": 2,
          "metadata": {},
          "output_type": "execute_result"
        }
      ],
      "source": [
        "# fig. 6.1, pag. 165\n",
        "\n",
        "G = Grammar.from_string(\"\"\"\n",
        "S -> a B | b A\n",
        "A -> a | a S | b A A\n",
        "B -> b | b S | a B B\n",
        "\"\"\")\n",
        "G"
      ]
    },
    {
      "cell_type": "code",
      "execution_count": null,
      "metadata": {},
      "outputs": [
        {
          "data": {
            "application/vnd.jupyter.widget-view+json": {
              "model_id": "a70f5c1809cb490f9930071c39139862",
              "version_major": 2,
              "version_minor": 0
            },
            "text/plain": [
              "interactive(children=(IntSlider(value=0, description='n', max=4), Output(layout=Layout(height='300px'))), _dom…"
            ]
          },
          "execution_count": 3,
          "metadata": {},
          "output_type": "execute_result"
        }
      ],
      "source": [
        "# parola aabb\n",
        "\n",
        "animate_derivation(Derivation(G).leftmost((0, 7, 5, 5)))"
      ]
    },
    {
      "cell_type": "code",
      "execution_count": null,
      "metadata": {},
      "outputs": [],
      "source": [
        "# non presente nel libro (caso che mostra meglio l'esigenza di una pila)\n",
        "\n",
        "G = Grammar.from_string(\"\"\"\n",
        "S -> a B C\n",
        "B -> a B | b\n",
        "C -> a\n",
        "\"\"\")"
      ]
    },
    {
      "cell_type": "code",
      "execution_count": null,
      "metadata": {},
      "outputs": [
        {
          "data": {
            "application/vnd.jupyter.widget-view+json": {
              "model_id": "b3d52d5f351a470e9fb0f1c3dc579073",
              "version_major": 2,
              "version_minor": 0
            },
            "text/plain": [
              "interactive(children=(IntSlider(value=0, description='n', max=4), Output(layout=Layout(height='300px'))), _dom…"
            ]
          },
          "execution_count": 5,
          "metadata": {},
          "output_type": "execute_result"
        }
      ],
      "source": [
        "# parola aaba\n",
        "\n",
        "animate_derivation(Derivation(G).leftmost((0, 1, 2, 3)))"
      ]
    },
    {
      "cell_type": "markdown",
      "metadata": {},
      "source": [
        "# Simulare la computazione del NPDA \n",
        "\n",
        "La simulazione si basa su visite del DAG delle computazioni. In ogni nodo conserviamo la descrizione istantanea (a cui abbiamo aggiunto la derivazione che ha condotto a tale derivazione)."
      ]
    },
    {
      "cell_type": "code",
      "execution_count": null,
      "metadata": {},
      "outputs": [
        {
          "data": {
            "text/plain": [
              "(), S♯, a̲aba♯"
            ]
          },
          "execution_count": 6,
          "metadata": {},
          "output_type": "execute_result"
        }
      ],
      "source": [
        "i = TopDownInstantaneousDescription(G, 'aaba')\n",
        "i"
      ]
    },
    {
      "cell_type": "code",
      "execution_count": null,
      "metadata": {},
      "outputs": [
        {
          "data": {
            "text/plain": [
              "(S -> a B C,), aBC♯, a̲aba♯"
            ]
          },
          "execution_count": 7,
          "metadata": {},
          "output_type": "execute_result"
        }
      ],
      "source": [
        "i = i.predict(G.P[0])\n",
        "i"
      ]
    },
    {
      "cell_type": "code",
      "execution_count": null,
      "metadata": {},
      "outputs": [
        {
          "data": {
            "text/plain": [
              "(S -> a B C,), BC♯, aa̲ba♯"
            ]
          },
          "execution_count": 8,
          "metadata": {},
          "output_type": "execute_result"
        }
      ],
      "source": [
        "i = i.match()\n",
        "i"
      ]
    },
    {
      "cell_type": "code",
      "execution_count": null,
      "metadata": {},
      "outputs": [
        {
          "data": {
            "text/plain": [
              "(S -> a B C, B -> a B), aBC♯, aa̲ba♯"
            ]
          },
          "execution_count": 9,
          "metadata": {},
          "output_type": "execute_result"
        }
      ],
      "source": [
        "i = i.predict(G.P[1])\n",
        "i"
      ]
    },
    {
      "cell_type": "code",
      "execution_count": null,
      "metadata": {},
      "outputs": [
        {
          "data": {
            "text/plain": [
              "(S -> a B C, B -> a B), BC♯, aab̲a♯"
            ]
          },
          "execution_count": 10,
          "metadata": {},
          "output_type": "execute_result"
        }
      ],
      "source": [
        "i = i.match()\n",
        "i"
      ]
    },
    {
      "cell_type": "code",
      "execution_count": null,
      "metadata": {},
      "outputs": [
        {
          "data": {
            "text/plain": [
              "(S -> a B C, B -> a B, B -> b), bC♯, aab̲a♯"
            ]
          },
          "execution_count": 11,
          "metadata": {},
          "output_type": "execute_result"
        }
      ],
      "source": [
        "i = i.predict(G.P[2])\n",
        "i"
      ]
    },
    {
      "cell_type": "code",
      "execution_count": null,
      "metadata": {},
      "outputs": [
        {
          "data": {
            "text/plain": [
              "(S -> a B C, B -> a B, B -> b), C♯, aaba̲♯"
            ]
          },
          "execution_count": 12,
          "metadata": {},
          "output_type": "execute_result"
        }
      ],
      "source": [
        "i = i.match()\n",
        "i"
      ]
    },
    {
      "cell_type": "code",
      "execution_count": null,
      "metadata": {},
      "outputs": [
        {
          "data": {
            "text/plain": [
              "(S -> a B C, B -> a B, B -> b, C -> a), a♯, aaba̲♯"
            ]
          },
          "execution_count": 13,
          "metadata": {},
          "output_type": "execute_result"
        }
      ],
      "source": [
        "i = i.predict(G.P[3])\n",
        "i"
      ]
    },
    {
      "cell_type": "code",
      "execution_count": null,
      "metadata": {},
      "outputs": [
        {
          "data": {
            "text/plain": [
              "(S -> a B C, B -> a B, B -> b, C -> a), ♯, aaba♯̲"
            ]
          },
          "execution_count": 14,
          "metadata": {},
          "output_type": "execute_result"
        }
      ],
      "source": [
        "i = i.match()\n",
        "i"
      ]
    },
    {
      "cell_type": "code",
      "execution_count": null,
      "metadata": {},
      "outputs": [
        {
          "data": {
            "text/plain": [
              "True"
            ]
          },
          "execution_count": 15,
          "metadata": {},
          "output_type": "execute_result"
        }
      ],
      "source": [
        "i.is_done()"
      ]
    },
    {
      "cell_type": "markdown",
      "metadata": {},
      "source": [
        "## La funzione \"stato prossimo\""
      ]
    },
    {
      "cell_type": "code",
      "execution_count": null,
      "metadata": {},
      "outputs": [],
      "source": [
        "def next_instdescrs(instdescr):\n",
        "  if instdescr.is_done(): return []\n",
        "  G = instdescr.G\n",
        "  top = instdescr.top()\n",
        "  if top in G.T:\n",
        "    return [instdescr.match()] if top == instdescr.head() else []\n",
        "  else:\n",
        "    return [instdescr.predict(P) for P in filter(Production.such_that(lhs = top), G.P)]\n",
        "\n",
        "# tengo da parte un riferimento a questa implementazione per dopo…\n",
        "original_next_instdescrs = next_instdescrs"
      ]
    },
    {
      "cell_type": "markdown",
      "metadata": {},
      "source": [
        "## Usando una visita in ampiezza\n",
        "\n",
        "Visitiamo il DAG con una *coda*, teniamo da parte *tutte le derivazioni* che man mano troviamo. \n",
        "\n",
        "La visita \"verbosa\" stampa il contenuto dell'intera coda ad ogni iterazione.\n",
        "\n",
        "Il parametro `first_only` fa in modo che la simulazione si arresti quando viene trovata la prima derivazione."
      ]
    },
    {
      "cell_type": "code",
      "execution_count": null,
      "metadata": {},
      "outputs": [],
      "source": [
        "def breadth_first(G, word, verbose = False, first_only = False):\n",
        "  q = Queue()\n",
        "  q.enqueue(TopDownInstantaneousDescription(G, word))\n",
        "  derivations = []\n",
        "  while q:\n",
        "    if verbose:\n",
        "      for i in q: print(i)\n",
        "      print('-' * 60)\n",
        "    curr = q.dequeue()\n",
        "    if curr.is_done():\n",
        "      derivations.append(curr.steps)\n",
        "      if first_only: return derivations\n",
        "    else:\n",
        "      for nxt in next_instdescrs(curr): q.enqueue(nxt)\n",
        "  return derivations"
      ]
    },
    {
      "cell_type": "code",
      "execution_count": null,
      "metadata": {},
      "outputs": [
        {
          "data": {
            "text/plain": [
              "[(S -> a B C, B -> a B, B -> b, C -> a)]"
            ]
          },
          "execution_count": 18,
          "metadata": {},
          "output_type": "execute_result"
        }
      ],
      "source": [
        "# testiamolo sull'ultima grammatica vista\n",
        "\n",
        "steps = breadth_first(G, 'aaba')\n",
        "steps"
      ]
    },
    {
      "cell_type": "code",
      "execution_count": null,
      "metadata": {},
      "outputs": [
        {
          "data": {
            "text/plain": [
              "S -> a B C -> a a B C -> a a b C -> a a b a"
            ]
          },
          "execution_count": 19,
          "metadata": {},
          "output_type": "execute_result"
        }
      ],
      "source": [
        "Derivation(G).leftmost(steps[0])"
      ]
    },
    {
      "cell_type": "markdown",
      "metadata": {},
      "source": [
        "## Non solo GNF\n",
        "\n",
        "A ben guardare, la simulazione \"funziona\" non solo per le GNF… se il lato destro mescola simboli terminali e non, finiranno nella pila del PDA e verranno gestiti (apparentemente) senza particolari problemi…"
      ]
    },
    {
      "cell_type": "code",
      "execution_count": null,
      "metadata": {},
      "outputs": [
        {
          "data": {
            "text/plain": [
              "Grammar(N={A, B, C, D, S}, T={a, b, c}, P=(S -> A B, S -> D C, A -> a, A -> a A, B -> b c, B -> b B c, D -> a b, D -> a D b, C -> c, C -> c C), S=S)"
            ]
          },
          "execution_count": 20,
          "metadata": {},
          "output_type": "execute_result"
        }
      ],
      "source": [
        "# un altro test, fedele al libro di testo\n",
        "\n",
        "# fig. 6.6, pag. 171\n",
        "\n",
        "G = Grammar.from_string(\"\"\"\n",
        "S -> A B | D C \n",
        "A -> a | a A\n",
        "B -> b c | b B c \n",
        "D -> a b | a D b \n",
        "C -> c | c C\n",
        "\"\"\")\n",
        "G"
      ]
    },
    {
      "cell_type": "code",
      "execution_count": null,
      "metadata": {},
      "outputs": [
        {
          "name": "stdout",
          "output_type": "stream",
          "text": [
            "(), S♯, a̲abc♯\n",
            "------------------------------------------------------------\n",
            "(S -> A B,), AB♯, a̲abc♯\n",
            "(S -> D C,), DC♯, a̲abc♯\n",
            "------------------------------------------------------------\n",
            "(S -> D C,), DC♯, a̲abc♯\n",
            "(S -> A B, A -> a), aB♯, a̲abc♯\n",
            "(S -> A B, A -> a A), aAB♯, a̲abc♯\n",
            "------------------------------------------------------------\n",
            "(S -> A B, A -> a), aB♯, a̲abc♯\n",
            "(S -> A B, A -> a A), aAB♯, a̲abc♯\n",
            "(S -> D C, D -> a b), abC♯, a̲abc♯\n",
            "(S -> D C, D -> a D b), aDbC♯, a̲abc♯\n",
            "------------------------------------------------------------\n",
            "(S -> A B, A -> a A), aAB♯, a̲abc♯\n",
            "(S -> D C, D -> a b), abC♯, a̲abc♯\n",
            "(S -> D C, D -> a D b), aDbC♯, a̲abc♯\n",
            "(S -> A B, A -> a), B♯, aa̲bc♯\n",
            "------------------------------------------------------------\n",
            "(S -> D C, D -> a b), abC♯, a̲abc♯\n",
            "(S -> D C, D -> a D b), aDbC♯, a̲abc♯\n",
            "(S -> A B, A -> a), B♯, aa̲bc♯\n",
            "(S -> A B, A -> a A), AB♯, aa̲bc♯\n",
            "------------------------------------------------------------\n",
            "(S -> D C, D -> a D b), aDbC♯, a̲abc♯\n",
            "(S -> A B, A -> a), B♯, aa̲bc♯\n",
            "(S -> A B, A -> a A), AB♯, aa̲bc♯\n",
            "(S -> D C, D -> a b), bC♯, aa̲bc♯\n",
            "------------------------------------------------------------\n",
            "(S -> A B, A -> a), B♯, aa̲bc♯\n",
            "(S -> A B, A -> a A), AB♯, aa̲bc♯\n",
            "(S -> D C, D -> a b), bC♯, aa̲bc♯\n",
            "(S -> D C, D -> a D b), DbC♯, aa̲bc♯\n",
            "------------------------------------------------------------\n",
            "(S -> A B, A -> a A), AB♯, aa̲bc♯\n",
            "(S -> D C, D -> a b), bC♯, aa̲bc♯\n",
            "(S -> D C, D -> a D b), DbC♯, aa̲bc♯\n",
            "(S -> A B, A -> a, B -> b c), bc♯, aa̲bc♯\n",
            "(S -> A B, A -> a, B -> b B c), bBc♯, aa̲bc♯\n",
            "------------------------------------------------------------\n",
            "(S -> D C, D -> a b), bC♯, aa̲bc♯\n",
            "(S -> D C, D -> a D b), DbC♯, aa̲bc♯\n",
            "(S -> A B, A -> a, B -> b c), bc♯, aa̲bc♯\n",
            "(S -> A B, A -> a, B -> b B c), bBc♯, aa̲bc♯\n",
            "(S -> A B, A -> a A, A -> a), aB♯, aa̲bc♯\n",
            "(S -> A B, A -> a A, A -> a A), aAB♯, aa̲bc♯\n",
            "------------------------------------------------------------\n",
            "(S -> D C, D -> a D b), DbC♯, aa̲bc♯\n",
            "(S -> A B, A -> a, B -> b c), bc♯, aa̲bc♯\n",
            "(S -> A B, A -> a, B -> b B c), bBc♯, aa̲bc♯\n",
            "(S -> A B, A -> a A, A -> a), aB♯, aa̲bc♯\n",
            "(S -> A B, A -> a A, A -> a A), aAB♯, aa̲bc♯\n",
            "------------------------------------------------------------\n",
            "(S -> A B, A -> a, B -> b c), bc♯, aa̲bc♯\n",
            "(S -> A B, A -> a, B -> b B c), bBc♯, aa̲bc♯\n",
            "(S -> A B, A -> a A, A -> a), aB♯, aa̲bc♯\n",
            "(S -> A B, A -> a A, A -> a A), aAB♯, aa̲bc♯\n",
            "(S -> D C, D -> a D b, D -> a b), abbC♯, aa̲bc♯\n",
            "(S -> D C, D -> a D b, D -> a D b), aDbbC♯, aa̲bc♯\n",
            "------------------------------------------------------------\n",
            "(S -> A B, A -> a, B -> b B c), bBc♯, aa̲bc♯\n",
            "(S -> A B, A -> a A, A -> a), aB♯, aa̲bc♯\n",
            "(S -> A B, A -> a A, A -> a A), aAB♯, aa̲bc♯\n",
            "(S -> D C, D -> a D b, D -> a b), abbC♯, aa̲bc♯\n",
            "(S -> D C, D -> a D b, D -> a D b), aDbbC♯, aa̲bc♯\n",
            "------------------------------------------------------------\n",
            "(S -> A B, A -> a A, A -> a), aB♯, aa̲bc♯\n",
            "(S -> A B, A -> a A, A -> a A), aAB♯, aa̲bc♯\n",
            "(S -> D C, D -> a D b, D -> a b), abbC♯, aa̲bc♯\n",
            "(S -> D C, D -> a D b, D -> a D b), aDbbC♯, aa̲bc♯\n",
            "------------------------------------------------------------\n",
            "(S -> A B, A -> a A, A -> a A), aAB♯, aa̲bc♯\n",
            "(S -> D C, D -> a D b, D -> a b), abbC♯, aa̲bc♯\n",
            "(S -> D C, D -> a D b, D -> a D b), aDbbC♯, aa̲bc♯\n",
            "(S -> A B, A -> a A, A -> a), B♯, aab̲c♯\n",
            "------------------------------------------------------------\n",
            "(S -> D C, D -> a D b, D -> a b), abbC♯, aa̲bc♯\n",
            "(S -> D C, D -> a D b, D -> a D b), aDbbC♯, aa̲bc♯\n",
            "(S -> A B, A -> a A, A -> a), B♯, aab̲c♯\n",
            "(S -> A B, A -> a A, A -> a A), AB♯, aab̲c♯\n",
            "------------------------------------------------------------\n",
            "(S -> D C, D -> a D b, D -> a D b), aDbbC♯, aa̲bc♯\n",
            "(S -> A B, A -> a A, A -> a), B♯, aab̲c♯\n",
            "(S -> A B, A -> a A, A -> a A), AB♯, aab̲c♯\n",
            "(S -> D C, D -> a D b, D -> a b), bbC♯, aab̲c♯\n",
            "------------------------------------------------------------\n",
            "(S -> A B, A -> a A, A -> a), B♯, aab̲c♯\n",
            "(S -> A B, A -> a A, A -> a A), AB♯, aab̲c♯\n",
            "(S -> D C, D -> a D b, D -> a b), bbC♯, aab̲c♯\n",
            "(S -> D C, D -> a D b, D -> a D b), DbbC♯, aab̲c♯\n",
            "------------------------------------------------------------\n",
            "(S -> A B, A -> a A, A -> a A), AB♯, aab̲c♯\n",
            "(S -> D C, D -> a D b, D -> a b), bbC♯, aab̲c♯\n",
            "(S -> D C, D -> a D b, D -> a D b), DbbC♯, aab̲c♯\n",
            "(S -> A B, A -> a A, A -> a, B -> b c), bc♯, aab̲c♯\n",
            "(S -> A B, A -> a A, A -> a, B -> b B c), bBc♯, aab̲c♯\n",
            "------------------------------------------------------------\n",
            "(S -> D C, D -> a D b, D -> a b), bbC♯, aab̲c♯\n",
            "(S -> D C, D -> a D b, D -> a D b), DbbC♯, aab̲c♯\n",
            "(S -> A B, A -> a A, A -> a, B -> b c), bc♯, aab̲c♯\n",
            "(S -> A B, A -> a A, A -> a, B -> b B c), bBc♯, aab̲c♯\n",
            "(S -> A B, A -> a A, A -> a A, A -> a), aB♯, aab̲c♯\n",
            "(S -> A B, A -> a A, A -> a A, A -> a A), aAB♯, aab̲c♯\n",
            "------------------------------------------------------------\n",
            "(S -> D C, D -> a D b, D -> a D b), DbbC♯, aab̲c♯\n",
            "(S -> A B, A -> a A, A -> a, B -> b c), bc♯, aab̲c♯\n",
            "(S -> A B, A -> a A, A -> a, B -> b B c), bBc♯, aab̲c♯\n",
            "(S -> A B, A -> a A, A -> a A, A -> a), aB♯, aab̲c♯\n",
            "(S -> A B, A -> a A, A -> a A, A -> a A), aAB♯, aab̲c♯\n",
            "(S -> D C, D -> a D b, D -> a b), bC♯, aabc̲♯\n",
            "------------------------------------------------------------\n",
            "(S -> A B, A -> a A, A -> a, B -> b c), bc♯, aab̲c♯\n",
            "(S -> A B, A -> a A, A -> a, B -> b B c), bBc♯, aab̲c♯\n",
            "(S -> A B, A -> a A, A -> a A, A -> a), aB♯, aab̲c♯\n",
            "(S -> A B, A -> a A, A -> a A, A -> a A), aAB♯, aab̲c♯\n",
            "(S -> D C, D -> a D b, D -> a b), bC♯, aabc̲♯\n",
            "(S -> D C, D -> a D b, D -> a D b, D -> a b), abbbC♯, aab̲c♯\n",
            "(S -> D C, D -> a D b, D -> a D b, D -> a D b), aDbbbC♯, aab̲c♯\n",
            "------------------------------------------------------------\n",
            "(S -> A B, A -> a A, A -> a, B -> b B c), bBc♯, aab̲c♯\n",
            "(S -> A B, A -> a A, A -> a A, A -> a), aB♯, aab̲c♯\n",
            "(S -> A B, A -> a A, A -> a A, A -> a A), aAB♯, aab̲c♯\n",
            "(S -> D C, D -> a D b, D -> a b), bC♯, aabc̲♯\n",
            "(S -> D C, D -> a D b, D -> a D b, D -> a b), abbbC♯, aab̲c♯\n",
            "(S -> D C, D -> a D b, D -> a D b, D -> a D b), aDbbbC♯, aab̲c♯\n",
            "(S -> A B, A -> a A, A -> a, B -> b c), c♯, aabc̲♯\n",
            "------------------------------------------------------------\n",
            "(S -> A B, A -> a A, A -> a A, A -> a), aB♯, aab̲c♯\n",
            "(S -> A B, A -> a A, A -> a A, A -> a A), aAB♯, aab̲c♯\n",
            "(S -> D C, D -> a D b, D -> a b), bC♯, aabc̲♯\n",
            "(S -> D C, D -> a D b, D -> a D b, D -> a b), abbbC♯, aab̲c♯\n",
            "(S -> D C, D -> a D b, D -> a D b, D -> a D b), aDbbbC♯, aab̲c♯\n",
            "(S -> A B, A -> a A, A -> a, B -> b c), c♯, aabc̲♯\n",
            "(S -> A B, A -> a A, A -> a, B -> b B c), Bc♯, aabc̲♯\n",
            "------------------------------------------------------------\n",
            "(S -> A B, A -> a A, A -> a A, A -> a A), aAB♯, aab̲c♯\n",
            "(S -> D C, D -> a D b, D -> a b), bC♯, aabc̲♯\n",
            "(S -> D C, D -> a D b, D -> a D b, D -> a b), abbbC♯, aab̲c♯\n",
            "(S -> D C, D -> a D b, D -> a D b, D -> a D b), aDbbbC♯, aab̲c♯\n",
            "(S -> A B, A -> a A, A -> a, B -> b c), c♯, aabc̲♯\n",
            "(S -> A B, A -> a A, A -> a, B -> b B c), Bc♯, aabc̲♯\n",
            "------------------------------------------------------------\n",
            "(S -> D C, D -> a D b, D -> a b), bC♯, aabc̲♯\n",
            "(S -> D C, D -> a D b, D -> a D b, D -> a b), abbbC♯, aab̲c♯\n",
            "(S -> D C, D -> a D b, D -> a D b, D -> a D b), aDbbbC♯, aab̲c♯\n",
            "(S -> A B, A -> a A, A -> a, B -> b c), c♯, aabc̲♯\n",
            "(S -> A B, A -> a A, A -> a, B -> b B c), Bc♯, aabc̲♯\n",
            "------------------------------------------------------------\n",
            "(S -> D C, D -> a D b, D -> a D b, D -> a b), abbbC♯, aab̲c♯\n",
            "(S -> D C, D -> a D b, D -> a D b, D -> a D b), aDbbbC♯, aab̲c♯\n",
            "(S -> A B, A -> a A, A -> a, B -> b c), c♯, aabc̲♯\n",
            "(S -> A B, A -> a A, A -> a, B -> b B c), Bc♯, aabc̲♯\n",
            "------------------------------------------------------------\n",
            "(S -> D C, D -> a D b, D -> a D b, D -> a D b), aDbbbC♯, aab̲c♯\n",
            "(S -> A B, A -> a A, A -> a, B -> b c), c♯, aabc̲♯\n",
            "(S -> A B, A -> a A, A -> a, B -> b B c), Bc♯, aabc̲♯\n",
            "------------------------------------------------------------\n",
            "(S -> A B, A -> a A, A -> a, B -> b c), c♯, aabc̲♯\n",
            "(S -> A B, A -> a A, A -> a, B -> b B c), Bc♯, aabc̲♯\n",
            "------------------------------------------------------------\n",
            "(S -> A B, A -> a A, A -> a, B -> b B c), Bc♯, aabc̲♯\n",
            "(S -> A B, A -> a A, A -> a, B -> b c), ♯, aabc♯̲\n",
            "------------------------------------------------------------\n",
            "(S -> A B, A -> a A, A -> a, B -> b c), ♯, aabc♯̲\n",
            "(S -> A B, A -> a A, A -> a, B -> b B c, B -> b c), bcc♯, aabc̲♯\n",
            "(S -> A B, A -> a A, A -> a, B -> b B c, B -> b B c), bBcc♯, aabc̲♯\n",
            "------------------------------------------------------------\n",
            "(S -> A B, A -> a A, A -> a, B -> b B c, B -> b c), bcc♯, aabc̲♯\n",
            "(S -> A B, A -> a A, A -> a, B -> b B c, B -> b B c), bBcc♯, aabc̲♯\n",
            "------------------------------------------------------------\n",
            "(S -> A B, A -> a A, A -> a, B -> b B c, B -> b B c), bBcc♯, aabc̲♯\n",
            "------------------------------------------------------------\n"
          ]
        },
        {
          "data": {
            "text/plain": [
              "[(S -> A B, A -> a A, A -> a, B -> b c)]"
            ]
          },
          "execution_count": 21,
          "metadata": {},
          "output_type": "execute_result"
        }
      ],
      "source": [
        "breadth_first(G, 'aabc', verbose = True)"
      ]
    },
    {
      "cell_type": "markdown",
      "metadata": {},
      "source": [
        "## Usando una visita in profondità\n",
        "\n",
        "Visitiamo il DAG con una *pila*, come prima teniamo da parte *tutte le derivazioni* che man mano troviamo. \n",
        "\n",
        "La visita \"verbosa\" stampa il contenuto dell'intera coda ad ogni iterazione.\n",
        "\n",
        "Il parametro `max_steps` limita (se diverso da -1) il numero massimo di passi di simulazione."
      ]
    },
    {
      "cell_type": "code",
      "execution_count": null,
      "metadata": {},
      "outputs": [],
      "source": [
        "def depth_first(G, word, verbose = False, max_steps = -1):\n",
        "  s = Stack()\n",
        "  s.push(TopDownInstantaneousDescription(G, word))\n",
        "  derivations = []\n",
        "  steps = 0\n",
        "  while s:\n",
        "    if steps > max_steps > -1: break\n",
        "    steps += 1\n",
        "    if verbose:\n",
        "      for i in s: print(i)\n",
        "      print('-' * 60)\n",
        "    curr = s.pop()\n",
        "    if curr.is_done():\n",
        "      derivations.append(curr.steps)\n",
        "    else:\n",
        "      for nxt in next_instdescrs(curr): s.push(nxt)\n",
        "  return derivations"
      ]
    },
    {
      "cell_type": "code",
      "execution_count": null,
      "metadata": {},
      "outputs": [
        {
          "name": "stdout",
          "output_type": "stream",
          "text": [
            "(), S♯, a̲abc♯\n",
            "------------------------------------------------------------\n",
            "(S -> A B,), AB♯, a̲abc♯\n",
            "(S -> D C,), DC♯, a̲abc♯\n",
            "------------------------------------------------------------\n",
            "(S -> A B,), AB♯, a̲abc♯\n",
            "(S -> D C, D -> a b), abC♯, a̲abc♯\n",
            "(S -> D C, D -> a D b), aDbC♯, a̲abc♯\n",
            "------------------------------------------------------------\n",
            "(S -> A B,), AB♯, a̲abc♯\n",
            "(S -> D C, D -> a b), abC♯, a̲abc♯\n",
            "(S -> D C, D -> a D b), DbC♯, aa̲bc♯\n",
            "------------------------------------------------------------\n",
            "(S -> A B,), AB♯, a̲abc♯\n",
            "(S -> D C, D -> a b), abC♯, a̲abc♯\n",
            "(S -> D C, D -> a D b, D -> a b), abbC♯, aa̲bc♯\n",
            "(S -> D C, D -> a D b, D -> a D b), aDbbC♯, aa̲bc♯\n",
            "------------------------------------------------------------\n",
            "(S -> A B,), AB♯, a̲abc♯\n",
            "(S -> D C, D -> a b), abC♯, a̲abc♯\n",
            "(S -> D C, D -> a D b, D -> a b), abbC♯, aa̲bc♯\n",
            "(S -> D C, D -> a D b, D -> a D b), DbbC♯, aab̲c♯\n",
            "------------------------------------------------------------\n",
            "(S -> A B,), AB♯, a̲abc♯\n",
            "(S -> D C, D -> a b), abC♯, a̲abc♯\n",
            "(S -> D C, D -> a D b, D -> a b), abbC♯, aa̲bc♯\n",
            "(S -> D C, D -> a D b, D -> a D b, D -> a b), abbbC♯, aab̲c♯\n",
            "(S -> D C, D -> a D b, D -> a D b, D -> a D b), aDbbbC♯, aab̲c♯\n",
            "------------------------------------------------------------\n",
            "(S -> A B,), AB♯, a̲abc♯\n",
            "(S -> D C, D -> a b), abC♯, a̲abc♯\n",
            "(S -> D C, D -> a D b, D -> a b), abbC♯, aa̲bc♯\n",
            "(S -> D C, D -> a D b, D -> a D b, D -> a b), abbbC♯, aab̲c♯\n",
            "------------------------------------------------------------\n",
            "(S -> A B,), AB♯, a̲abc♯\n",
            "(S -> D C, D -> a b), abC♯, a̲abc♯\n",
            "(S -> D C, D -> a D b, D -> a b), abbC♯, aa̲bc♯\n",
            "------------------------------------------------------------\n",
            "(S -> A B,), AB♯, a̲abc♯\n",
            "(S -> D C, D -> a b), abC♯, a̲abc♯\n",
            "(S -> D C, D -> a D b, D -> a b), bbC♯, aab̲c♯\n",
            "------------------------------------------------------------\n",
            "(S -> A B,), AB♯, a̲abc♯\n",
            "(S -> D C, D -> a b), abC♯, a̲abc♯\n",
            "(S -> D C, D -> a D b, D -> a b), bC♯, aabc̲♯\n",
            "------------------------------------------------------------\n",
            "(S -> A B,), AB♯, a̲abc♯\n",
            "(S -> D C, D -> a b), abC♯, a̲abc♯\n",
            "------------------------------------------------------------\n",
            "(S -> A B,), AB♯, a̲abc♯\n",
            "(S -> D C, D -> a b), bC♯, aa̲bc♯\n",
            "------------------------------------------------------------\n",
            "(S -> A B,), AB♯, a̲abc♯\n",
            "------------------------------------------------------------\n",
            "(S -> A B, A -> a), aB♯, a̲abc♯\n",
            "(S -> A B, A -> a A), aAB♯, a̲abc♯\n",
            "------------------------------------------------------------\n",
            "(S -> A B, A -> a), aB♯, a̲abc♯\n",
            "(S -> A B, A -> a A), AB♯, aa̲bc♯\n",
            "------------------------------------------------------------\n",
            "(S -> A B, A -> a), aB♯, a̲abc♯\n",
            "(S -> A B, A -> a A, A -> a), aB♯, aa̲bc♯\n",
            "(S -> A B, A -> a A, A -> a A), aAB♯, aa̲bc♯\n",
            "------------------------------------------------------------\n",
            "(S -> A B, A -> a), aB♯, a̲abc♯\n",
            "(S -> A B, A -> a A, A -> a), aB♯, aa̲bc♯\n",
            "(S -> A B, A -> a A, A -> a A), AB♯, aab̲c♯\n",
            "------------------------------------------------------------\n",
            "(S -> A B, A -> a), aB♯, a̲abc♯\n",
            "(S -> A B, A -> a A, A -> a), aB♯, aa̲bc♯\n",
            "(S -> A B, A -> a A, A -> a A, A -> a), aB♯, aab̲c♯\n",
            "(S -> A B, A -> a A, A -> a A, A -> a A), aAB♯, aab̲c♯\n",
            "------------------------------------------------------------\n",
            "(S -> A B, A -> a), aB♯, a̲abc♯\n",
            "(S -> A B, A -> a A, A -> a), aB♯, aa̲bc♯\n",
            "(S -> A B, A -> a A, A -> a A, A -> a), aB♯, aab̲c♯\n",
            "------------------------------------------------------------\n",
            "(S -> A B, A -> a), aB♯, a̲abc♯\n",
            "(S -> A B, A -> a A, A -> a), aB♯, aa̲bc♯\n",
            "------------------------------------------------------------\n",
            "(S -> A B, A -> a), aB♯, a̲abc♯\n",
            "(S -> A B, A -> a A, A -> a), B♯, aab̲c♯\n",
            "------------------------------------------------------------\n",
            "(S -> A B, A -> a), aB♯, a̲abc♯\n",
            "(S -> A B, A -> a A, A -> a, B -> b c), bc♯, aab̲c♯\n",
            "(S -> A B, A -> a A, A -> a, B -> b B c), bBc♯, aab̲c♯\n",
            "------------------------------------------------------------\n",
            "(S -> A B, A -> a), aB♯, a̲abc♯\n",
            "(S -> A B, A -> a A, A -> a, B -> b c), bc♯, aab̲c♯\n",
            "(S -> A B, A -> a A, A -> a, B -> b B c), Bc♯, aabc̲♯\n",
            "------------------------------------------------------------\n",
            "(S -> A B, A -> a), aB♯, a̲abc♯\n",
            "(S -> A B, A -> a A, A -> a, B -> b c), bc♯, aab̲c♯\n",
            "(S -> A B, A -> a A, A -> a, B -> b B c, B -> b c), bcc♯, aabc̲♯\n",
            "(S -> A B, A -> a A, A -> a, B -> b B c, B -> b B c), bBcc♯, aabc̲♯\n",
            "------------------------------------------------------------\n",
            "(S -> A B, A -> a), aB♯, a̲abc♯\n",
            "(S -> A B, A -> a A, A -> a, B -> b c), bc♯, aab̲c♯\n",
            "(S -> A B, A -> a A, A -> a, B -> b B c, B -> b c), bcc♯, aabc̲♯\n",
            "------------------------------------------------------------\n",
            "(S -> A B, A -> a), aB♯, a̲abc♯\n",
            "(S -> A B, A -> a A, A -> a, B -> b c), bc♯, aab̲c♯\n",
            "------------------------------------------------------------\n",
            "(S -> A B, A -> a), aB♯, a̲abc♯\n",
            "(S -> A B, A -> a A, A -> a, B -> b c), c♯, aabc̲♯\n",
            "------------------------------------------------------------\n",
            "(S -> A B, A -> a), aB♯, a̲abc♯\n",
            "(S -> A B, A -> a A, A -> a, B -> b c), ♯, aabc♯̲\n",
            "------------------------------------------------------------\n",
            "(S -> A B, A -> a), aB♯, a̲abc♯\n",
            "------------------------------------------------------------\n",
            "(S -> A B, A -> a), B♯, aa̲bc♯\n",
            "------------------------------------------------------------\n",
            "(S -> A B, A -> a, B -> b c), bc♯, aa̲bc♯\n",
            "(S -> A B, A -> a, B -> b B c), bBc♯, aa̲bc♯\n",
            "------------------------------------------------------------\n",
            "(S -> A B, A -> a, B -> b c), bc♯, aa̲bc♯\n",
            "------------------------------------------------------------\n"
          ]
        },
        {
          "data": {
            "text/plain": [
              "[(S -> A B, A -> a A, A -> a, B -> b c)]"
            ]
          },
          "execution_count": 23,
          "metadata": {},
          "output_type": "execute_result"
        }
      ],
      "source": [
        "# Ancora l'esempio con la grammatica di fig. 6.6, pag. 171\n",
        "\n",
        "depth_first(G, 'aabc', verbose = True)"
      ]
    },
    {
      "cell_type": "markdown",
      "metadata": {},
      "source": [
        "## E la ricorsione?\n",
        "\n",
        "Che succede se la grammatica contiene produzioni ricorsive a sinistra, ossia della forma $A\\to A\\gamma$ (con $A$ raggiungibile)? \n",
        "\n",
        "Per prima cosa, osserviamo che il DAG delle computazioni diventa *infinito* in quanto deve contenere, per ogni $k>0$, tutte le derivazioni della forma $S\\stackrel{*}{\\to} \\alpha A \\beta \\stackrel{k}{\\to} \\alpha A \\gamma^k \\beta$."
      ]
    },
    {
      "cell_type": "code",
      "execution_count": null,
      "metadata": {},
      "outputs": [
        {
          "data": {
            "text/plain": [
              "Grammar(N={S}, T={a, b}, P=(S -> a, S -> S b), S=S)"
            ]
          },
          "execution_count": 24,
          "metadata": {},
          "output_type": "execute_result"
        }
      ],
      "source": [
        "# pag. 173\n",
        "\n",
        "G = Grammar.from_string('S -> a | S b')\n",
        "G"
      ]
    },
    {
      "cell_type": "markdown",
      "metadata": {},
      "source": [
        "Se ci contentiamo della prima derivazione, sicuramente la visita in ampiezza la troverà"
      ]
    },
    {
      "cell_type": "code",
      "execution_count": null,
      "metadata": {},
      "outputs": [
        {
          "data": {
            "text/plain": [
              "[(S -> S b, S -> a)]"
            ]
          },
          "execution_count": 25,
          "metadata": {},
          "output_type": "execute_result"
        }
      ],
      "source": [
        "breadth_first(G, 'ab', first_only = True)"
      ]
    },
    {
      "cell_type": "markdown",
      "metadata": {},
      "source": [
        "Diverso è il discorso delle visita in profondità: se sulla pila c'è $S$ e la prossima mossa è data da $S -> Sb$ l'altezza della pila cresce senza mai consumare alcun carattere dell'input. \n",
        "\n",
        "Per questa ragione, la simulazione non potrà scoprire la derivazione in nessun numero finito di passi!"
      ]
    },
    {
      "cell_type": "code",
      "execution_count": null,
      "metadata": {},
      "outputs": [
        {
          "data": {
            "text/plain": [
              "[]"
            ]
          },
          "execution_count": 26,
          "metadata": {},
          "output_type": "execute_result"
        }
      ],
      "source": [
        "depth_first(G, 'ab', verbose = False, max_steps = 10) # non cambia mettendo numeri maggiori!"
      ]
    },
    {
      "cell_type": "markdown",
      "metadata": {},
      "source": [
        "### <span style=\"color: red\">Rfilessione per casa</span>\n",
        "\n",
        "Cambia qualcosa in presenza di altre forme di produzioni ricorsive, ossia della forma $A -> \\alpha A \\beta$? È importante sapere se $\\alpha \\stackrel{*}{\\to} \\varepsilon$ o meno? \n",
        "\n",
        "Per rispondere, pensate a cosa accade con le GNF (con cui la simulazione funziona sempre), in particolare, ci possono essere produzioni ricorsive nelle GNF? E ricorsive a sinistra?"
      ]
    },
    {
      "cell_type": "markdown",
      "metadata": {},
      "source": [
        "## Un \"trucco\"\n",
        "\n",
        "Se la grammatica non contiene ε-produzioni, si può osservare che se in una configurazione istantanea il numero di simboli sulla pila eccede il numero di simboli della parola che restano da elaborare, quella configurazione non potrà mai condurre ad una derivazione della parola (perché non ci sono abbastanza terminali da associare ai non terminali in pila).\n",
        "\n",
        "Possiamo modificare la funzione `make_next_instdescrs` in modo tale da \"potare\" gli stati prossimi in cui la pila è più grande del resto dell'input.\n"
      ]
    },
    {
      "cell_type": "code",
      "execution_count": null,
      "metadata": {},
      "outputs": [],
      "source": [
        "def next_instdescrs(curr):\n",
        "  def productive(instdescr):\n",
        "    return len(instdescr.stack) <= (len(instdescr.tape) - instdescr.head_pos)\n",
        "  return list(filter(productive, original_next_instdescrs(curr)))"
      ]
    },
    {
      "cell_type": "markdown",
      "metadata": {},
      "source": [
        "Con quetsa modifica funzionano entrambe le visite (senza ulteriori limiti sul numero di derivazioni trovate, o passi effettuati)!"
      ]
    },
    {
      "cell_type": "code",
      "execution_count": null,
      "metadata": {},
      "outputs": [
        {
          "data": {
            "text/plain": [
              "[(S -> S b, S -> a)]"
            ]
          },
          "execution_count": 28,
          "metadata": {},
          "output_type": "execute_result"
        }
      ],
      "source": [
        "breadth_first(G, 'ab')"
      ]
    },
    {
      "cell_type": "code",
      "execution_count": null,
      "metadata": {},
      "outputs": [
        {
          "name": "stdout",
          "output_type": "stream",
          "text": [
            "(), S♯, a̲b♯\n",
            "------------------------------------------------------------\n",
            "(S -> a,), a♯, a̲b♯\n",
            "(S -> S b,), Sb♯, a̲b♯\n",
            "------------------------------------------------------------\n",
            "(S -> a,), a♯, a̲b♯\n",
            "(S -> S b, S -> a), ab♯, a̲b♯\n",
            "------------------------------------------------------------\n",
            "(S -> a,), a♯, a̲b♯\n",
            "(S -> S b, S -> a), b♯, ab̲♯\n",
            "------------------------------------------------------------\n",
            "(S -> a,), a♯, a̲b♯\n",
            "(S -> S b, S -> a), ♯, ab♯̲\n",
            "------------------------------------------------------------\n",
            "(S -> a,), a♯, a̲b♯\n",
            "------------------------------------------------------------\n",
            "(S -> a,), ♯, ab̲♯\n",
            "------------------------------------------------------------\n"
          ]
        },
        {
          "data": {
            "text/plain": [
              "[(S -> S b, S -> a)]"
            ]
          },
          "execution_count": 29,
          "metadata": {},
          "output_type": "execute_result"
        }
      ],
      "source": [
        "depth_first(G, 'ab', verbose = True)"
      ]
    },
    {
      "cell_type": "markdown",
      "metadata": {},
      "source": [
        "### <span style=\"color: red\">Riflessione per casa</span>\n",
        "\n",
        "Perché questa soluzione è meglio di imporre limiti come `first_only` e `max_steps`?"
      ]
    },
    {
      "cell_type": "markdown",
      "metadata": {},
      "source": [
        "## Persino l'ambiguità\n",
        "\n",
        "Nel caso di una grammatica ambiguta (e con produzioni ricorsive), la simulazione con la \"potatura\" produce tutte le derivazioni…"
      ]
    },
    {
      "cell_type": "code",
      "execution_count": null,
      "metadata": {},
      "outputs": [
        {
          "data": {
            "text/plain": [
              "Grammar(N={E}, T={*, +, e}, P=(E -> E * E, E -> E + E, E -> e), S=E)"
            ]
          },
          "execution_count": 30,
          "metadata": {},
          "output_type": "execute_result"
        }
      ],
      "source": [
        "# la solita grammatica delle operazioni aritmetiche (ambigua rispetto alla precedenza)\n",
        "\n",
        "G = Grammar.from_string('E -> E * E | E + E | e')\n",
        "G"
      ]
    },
    {
      "cell_type": "code",
      "execution_count": null,
      "metadata": {},
      "outputs": [
        {
          "data": {
            "text/plain": [
              "[(E -> E * E, E -> e, E -> E + E, E -> e, E -> e),\n",
              " (E -> E + E, E -> E * E, E -> e, E -> e, E -> e)]"
            ]
          },
          "execution_count": 31,
          "metadata": {},
          "output_type": "execute_result"
        }
      ],
      "source": [
        "breadth_first(G, 'e*e+e')"
      ]
    },
    {
      "cell_type": "code",
      "execution_count": null,
      "metadata": {},
      "outputs": [],
      "source": [
        "d0, d1 = depth_first(G, 'e*e+e')"
      ]
    },
    {
      "cell_type": "code",
      "execution_count": null,
      "metadata": {},
      "outputs": [
        {
          "data": {
            "text/html": [
              "<div><?xml version=\"1.0\" encoding=\"UTF-8\" standalone=\"no\"?>\n",
              "<!DOCTYPE svg PUBLIC \"-//W3C//DTD SVG 1.1//EN\"\n",
              " \"http://www.w3.org/Graphics/SVG/1.1/DTD/svg11.dtd\">\n",
              "<!-- Generated by graphviz version 2.43.0 (0)\n",
              " -->\n",
              "<!-- Title: %3 Pages: 1 -->\n",
              "<svg width=\"129pt\" height=\"154pt\"\n",
              " viewBox=\"0.00 0.00 129.00 154.00\" xmlns=\"http://www.w3.org/2000/svg\" xmlns:xlink=\"http://www.w3.org/1999/xlink\">\n",
              "<g id=\"graph0\" class=\"graph\" transform=\"scale(1 1) rotate(0) translate(4 150)\">\n",
              "<title>%3</title>\n",
              "<polygon fill=\"white\" stroke=\"transparent\" points=\"-4,4 -4,-150 125,-150 125,4 -4,4\"/>\n",
              "<!-- &#45;3632398199588186516 -->\n",
              "<g id=\"node1\" class=\"node\">\n",
              "<title>&#45;3632398199588186516</title>\n",
              "<path fill=\"none\" stroke=\"black\" stroke-width=\"0.25\" d=\"M80.33,-146C80.33,-146 74.67,-146 74.67,-146 71.83,-146 69,-143.17 69,-140.33 69,-140.33 69,-128.67 69,-128.67 69,-125.83 71.83,-123 74.67,-123 74.67,-123 80.33,-123 80.33,-123 83.17,-123 86,-125.83 86,-128.67 86,-128.67 86,-140.33 86,-140.33 86,-143.17 83.17,-146 80.33,-146\"/>\n",
              "<text text-anchor=\"middle\" x=\"77.5\" y=\"-130.8\" font-family=\"Times,serif\" font-size=\"14.00\">E</text>\n",
              "</g>\n",
              "<!-- 6217750452376201536 -->\n",
              "<g id=\"node2\" class=\"node\">\n",
              "<title>6217750452376201536</title>\n",
              "<path fill=\"none\" stroke=\"black\" stroke-width=\"0.25\" d=\"M45.33,-105C45.33,-105 39.67,-105 39.67,-105 36.83,-105 34,-102.17 34,-99.33 34,-99.33 34,-87.67 34,-87.67 34,-84.83 36.83,-82 39.67,-82 39.67,-82 45.33,-82 45.33,-82 48.17,-82 51,-84.83 51,-87.67 51,-87.67 51,-99.33 51,-99.33 51,-102.17 48.17,-105 45.33,-105\"/>\n",
              "<text text-anchor=\"middle\" x=\"42.5\" y=\"-89.8\" font-family=\"Times,serif\" font-size=\"14.00\">E</text>\n",
              "</g>\n",
              "<!-- &#45;3632398199588186516&#45;&gt;6217750452376201536 -->\n",
              "<g id=\"edge1\" class=\"edge\">\n",
              "<title>&#45;3632398199588186516&#45;&gt;6217750452376201536</title>\n",
              "<path fill=\"none\" stroke=\"black\" stroke-width=\"0.5\" d=\"M68.67,-123.66C63.32,-117.7 56.53,-110.14 51.21,-104.2\"/>\n",
              "</g>\n",
              "<!-- &#45;3520403229940083126 -->\n",
              "<g id=\"node3\" class=\"node\">\n",
              "<title>&#45;3520403229940083126</title>\n",
              "<path fill=\"none\" stroke=\"black\" stroke-width=\"1.25\" d=\"M80.33,-105C80.33,-105 74.67,-105 74.67,-105 71.83,-105 69,-102.17 69,-99.33 69,-99.33 69,-87.67 69,-87.67 69,-84.83 71.83,-82 74.67,-82 74.67,-82 80.33,-82 80.33,-82 83.17,-82 86,-84.83 86,-87.67 86,-87.67 86,-99.33 86,-99.33 86,-102.17 83.17,-105 80.33,-105\"/>\n",
              "<text text-anchor=\"middle\" x=\"77.5\" y=\"-89.8\" font-family=\"Times,serif\" font-size=\"14.00\">+</text>\n",
              "</g>\n",
              "<!-- &#45;3632398199588186516&#45;&gt;&#45;3520403229940083126 -->\n",
              "<g id=\"edge2\" class=\"edge\">\n",
              "<title>&#45;3632398199588186516&#45;&gt;&#45;3520403229940083126</title>\n",
              "<path fill=\"none\" stroke=\"black\" stroke-width=\"0.5\" d=\"M77.5,-122.84C77.5,-117.34 77.5,-110.65 77.5,-105.14\"/>\n",
              "</g>\n",
              "<!-- 7832317179505503595 -->\n",
              "<g id=\"node4\" class=\"node\">\n",
              "<title>7832317179505503595</title>\n",
              "<path fill=\"none\" stroke=\"black\" stroke-width=\"0.25\" d=\"M115.33,-105C115.33,-105 109.67,-105 109.67,-105 106.83,-105 104,-102.17 104,-99.33 104,-99.33 104,-87.67 104,-87.67 104,-84.83 106.83,-82 109.67,-82 109.67,-82 115.33,-82 115.33,-82 118.17,-82 121,-84.83 121,-87.67 121,-87.67 121,-99.33 121,-99.33 121,-102.17 118.17,-105 115.33,-105\"/>\n",
              "<text text-anchor=\"middle\" x=\"112.5\" y=\"-89.8\" font-family=\"Times,serif\" font-size=\"14.00\">E</text>\n",
              "</g>\n",
              "<!-- &#45;3632398199588186516&#45;&gt;7832317179505503595 -->\n",
              "<g id=\"edge3\" class=\"edge\">\n",
              "<title>&#45;3632398199588186516&#45;&gt;7832317179505503595</title>\n",
              "<path fill=\"none\" stroke=\"black\" stroke-width=\"0.5\" d=\"M86.33,-123.66C91.68,-117.7 98.47,-110.14 103.79,-104.2\"/>\n",
              "</g>\n",
              "<!-- 6217750452376201536&#45;&gt;&#45;3520403229940083126 -->\n",
              "<!-- 8179049988620323971 -->\n",
              "<g id=\"node5\" class=\"node\">\n",
              "<title>8179049988620323971</title>\n",
              "<path fill=\"none\" stroke=\"black\" stroke-width=\"0.25\" d=\"M11.33,-64C11.33,-64 5.67,-64 5.67,-64 2.83,-64 0,-61.17 0,-58.33 0,-58.33 0,-46.67 0,-46.67 0,-43.83 2.83,-41 5.67,-41 5.67,-41 11.33,-41 11.33,-41 14.17,-41 17,-43.83 17,-46.67 17,-46.67 17,-58.33 17,-58.33 17,-61.17 14.17,-64 11.33,-64\"/>\n",
              "<text text-anchor=\"middle\" x=\"8.5\" y=\"-48.8\" font-family=\"Times,serif\" font-size=\"14.00\">E</text>\n",
              "</g>\n",
              "<!-- 6217750452376201536&#45;&gt;8179049988620323971 -->\n",
              "<g id=\"edge6\" class=\"edge\">\n",
              "<title>6217750452376201536&#45;&gt;8179049988620323971</title>\n",
              "<path fill=\"none\" stroke=\"black\" stroke-width=\"0.5\" d=\"M33.92,-82.66C28.81,-76.79 22.33,-69.36 17.2,-63.47\"/>\n",
              "</g>\n",
              "<!-- &#45;9161101217597558549 -->\n",
              "<g id=\"node6\" class=\"node\">\n",
              "<title>&#45;9161101217597558549</title>\n",
              "<path fill=\"none\" stroke=\"black\" stroke-width=\"1.25\" d=\"M45,-64C45,-64 40,-64 40,-64 37.5,-64 35,-61.5 35,-59 35,-59 35,-46 35,-46 35,-43.5 37.5,-41 40,-41 40,-41 45,-41 45,-41 47.5,-41 50,-43.5 50,-46 50,-46 50,-59 50,-59 50,-61.5 47.5,-64 45,-64\"/>\n",
              "<text text-anchor=\"middle\" x=\"42.5\" y=\"-48.8\" font-family=\"Times,serif\" font-size=\"14.00\">*</text>\n",
              "</g>\n",
              "<!-- 6217750452376201536&#45;&gt;&#45;9161101217597558549 -->\n",
              "<g id=\"edge7\" class=\"edge\">\n",
              "<title>6217750452376201536&#45;&gt;&#45;9161101217597558549</title>\n",
              "<path fill=\"none\" stroke=\"black\" stroke-width=\"0.5\" d=\"M42.5,-81.84C42.5,-76.34 42.5,-69.65 42.5,-64.14\"/>\n",
              "</g>\n",
              "<!-- 5395259332765257902 -->\n",
              "<g id=\"node7\" class=\"node\">\n",
              "<title>5395259332765257902</title>\n",
              "<path fill=\"none\" stroke=\"black\" stroke-width=\"0.25\" d=\"M79.33,-64C79.33,-64 73.67,-64 73.67,-64 70.83,-64 68,-61.17 68,-58.33 68,-58.33 68,-46.67 68,-46.67 68,-43.83 70.83,-41 73.67,-41 73.67,-41 79.33,-41 79.33,-41 82.17,-41 85,-43.83 85,-46.67 85,-46.67 85,-58.33 85,-58.33 85,-61.17 82.17,-64 79.33,-64\"/>\n",
              "<text text-anchor=\"middle\" x=\"76.5\" y=\"-48.8\" font-family=\"Times,serif\" font-size=\"14.00\">E</text>\n",
              "</g>\n",
              "<!-- 6217750452376201536&#45;&gt;5395259332765257902 -->\n",
              "<g id=\"edge8\" class=\"edge\">\n",
              "<title>6217750452376201536&#45;&gt;5395259332765257902</title>\n",
              "<path fill=\"none\" stroke=\"black\" stroke-width=\"0.5\" d=\"M51.08,-82.66C56.19,-76.79 62.67,-69.36 67.8,-63.47\"/>\n",
              "</g>\n",
              "<!-- &#45;3520403229940083126&#45;&gt;7832317179505503595 -->\n",
              "<!-- &#45;3198296489084655639 -->\n",
              "<g id=\"node10\" class=\"node\">\n",
              "<title>&#45;3198296489084655639</title>\n",
              "<path fill=\"none\" stroke=\"black\" stroke-width=\"1.25\" d=\"M115,-64C115,-64 110,-64 110,-64 107.5,-64 105,-61.5 105,-59 105,-59 105,-46 105,-46 105,-43.5 107.5,-41 110,-41 110,-41 115,-41 115,-41 117.5,-41 120,-43.5 120,-46 120,-46 120,-59 120,-59 120,-61.5 117.5,-64 115,-64\"/>\n",
              "<text text-anchor=\"middle\" x=\"112.5\" y=\"-48.8\" font-family=\"Times,serif\" font-size=\"14.00\">e</text>\n",
              "</g>\n",
              "<!-- 7832317179505503595&#45;&gt;&#45;3198296489084655639 -->\n",
              "<g id=\"edge13\" class=\"edge\">\n",
              "<title>7832317179505503595&#45;&gt;&#45;3198296489084655639</title>\n",
              "<path fill=\"none\" stroke=\"black\" stroke-width=\"0.5\" d=\"M112.5,-81.84C112.5,-76.34 112.5,-69.65 112.5,-64.14\"/>\n",
              "</g>\n",
              "<!-- 8179049988620323971&#45;&gt;&#45;9161101217597558549 -->\n",
              "<!-- 2104781581592930916 -->\n",
              "<g id=\"node8\" class=\"node\">\n",
              "<title>2104781581592930916</title>\n",
              "<path fill=\"none\" stroke=\"black\" stroke-width=\"1.25\" d=\"M11,-23C11,-23 6,-23 6,-23 3.5,-23 1,-20.5 1,-18 1,-18 1,-5 1,-5 1,-2.5 3.5,0 6,0 6,0 11,0 11,0 13.5,0 16,-2.5 16,-5 16,-5 16,-18 16,-18 16,-20.5 13.5,-23 11,-23\"/>\n",
              "<text text-anchor=\"middle\" x=\"8.5\" y=\"-7.8\" font-family=\"Times,serif\" font-size=\"14.00\">e</text>\n",
              "</g>\n",
              "<!-- 8179049988620323971&#45;&gt;2104781581592930916 -->\n",
              "<g id=\"edge11\" class=\"edge\">\n",
              "<title>8179049988620323971&#45;&gt;2104781581592930916</title>\n",
              "<path fill=\"none\" stroke=\"black\" stroke-width=\"0.5\" d=\"M8.5,-40.84C8.5,-35.34 8.5,-28.65 8.5,-23.14\"/>\n",
              "</g>\n",
              "<!-- &#45;9161101217597558549&#45;&gt;5395259332765257902 -->\n",
              "<!-- 4066081117837053351 -->\n",
              "<g id=\"node9\" class=\"node\">\n",
              "<title>4066081117837053351</title>\n",
              "<path fill=\"none\" stroke=\"black\" stroke-width=\"1.25\" d=\"M79,-23C79,-23 74,-23 74,-23 71.5,-23 69,-20.5 69,-18 69,-18 69,-5 69,-5 69,-2.5 71.5,0 74,0 74,0 79,0 79,0 81.5,0 84,-2.5 84,-5 84,-5 84,-18 84,-18 84,-20.5 81.5,-23 79,-23\"/>\n",
              "<text text-anchor=\"middle\" x=\"76.5\" y=\"-7.8\" font-family=\"Times,serif\" font-size=\"14.00\">e</text>\n",
              "</g>\n",
              "<!-- 5395259332765257902&#45;&gt;4066081117837053351 -->\n",
              "<g id=\"edge12\" class=\"edge\">\n",
              "<title>5395259332765257902&#45;&gt;4066081117837053351</title>\n",
              "<path fill=\"none\" stroke=\"black\" stroke-width=\"0.5\" d=\"M76.5,-40.84C76.5,-35.34 76.5,-28.65 76.5,-23.14\"/>\n",
              "</g>\n",
              "</g>\n",
              "</svg>\n",
              " <?xml version=\"1.0\" encoding=\"UTF-8\" standalone=\"no\"?>\n",
              "<!DOCTYPE svg PUBLIC \"-//W3C//DTD SVG 1.1//EN\"\n",
              " \"http://www.w3.org/Graphics/SVG/1.1/DTD/svg11.dtd\">\n",
              "<!-- Generated by graphviz version 2.43.0 (0)\n",
              " -->\n",
              "<!-- Title: %3 Pages: 1 -->\n",
              "<svg width=\"129pt\" height=\"154pt\"\n",
              " viewBox=\"0.00 0.00 129.00 154.00\" xmlns=\"http://www.w3.org/2000/svg\" xmlns:xlink=\"http://www.w3.org/1999/xlink\">\n",
              "<g id=\"graph0\" class=\"graph\" transform=\"scale(1 1) rotate(0) translate(4 150)\">\n",
              "<title>%3</title>\n",
              "<polygon fill=\"white\" stroke=\"transparent\" points=\"-4,4 -4,-150 125,-150 125,4 -4,4\"/>\n",
              "<!-- &#45;3632398199588186516 -->\n",
              "<g id=\"node1\" class=\"node\">\n",
              "<title>&#45;3632398199588186516</title>\n",
              "<path fill=\"none\" stroke=\"black\" stroke-width=\"0.25\" d=\"M45.33,-146C45.33,-146 39.67,-146 39.67,-146 36.83,-146 34,-143.17 34,-140.33 34,-140.33 34,-128.67 34,-128.67 34,-125.83 36.83,-123 39.67,-123 39.67,-123 45.33,-123 45.33,-123 48.17,-123 51,-125.83 51,-128.67 51,-128.67 51,-140.33 51,-140.33 51,-143.17 48.17,-146 45.33,-146\"/>\n",
              "<text text-anchor=\"middle\" x=\"42.5\" y=\"-130.8\" font-family=\"Times,serif\" font-size=\"14.00\">E</text>\n",
              "</g>\n",
              "<!-- 6217750452376201536 -->\n",
              "<g id=\"node2\" class=\"node\">\n",
              "<title>6217750452376201536</title>\n",
              "<path fill=\"none\" stroke=\"black\" stroke-width=\"0.25\" d=\"M11.33,-105C11.33,-105 5.67,-105 5.67,-105 2.83,-105 0,-102.17 0,-99.33 0,-99.33 0,-87.67 0,-87.67 0,-84.83 2.83,-82 5.67,-82 5.67,-82 11.33,-82 11.33,-82 14.17,-82 17,-84.83 17,-87.67 17,-87.67 17,-99.33 17,-99.33 17,-102.17 14.17,-105 11.33,-105\"/>\n",
              "<text text-anchor=\"middle\" x=\"8.5\" y=\"-89.8\" font-family=\"Times,serif\" font-size=\"14.00\">E</text>\n",
              "</g>\n",
              "<!-- &#45;3632398199588186516&#45;&gt;6217750452376201536 -->\n",
              "<g id=\"edge1\" class=\"edge\">\n",
              "<title>&#45;3632398199588186516&#45;&gt;6217750452376201536</title>\n",
              "<path fill=\"none\" stroke=\"black\" stroke-width=\"0.5\" d=\"M33.92,-123.66C28.81,-117.79 22.33,-110.36 17.2,-104.47\"/>\n",
              "</g>\n",
              "<!-- &#45;1896723610675849559 -->\n",
              "<g id=\"node3\" class=\"node\">\n",
              "<title>&#45;1896723610675849559</title>\n",
              "<path fill=\"none\" stroke=\"black\" stroke-width=\"1.25\" d=\"M45,-105C45,-105 40,-105 40,-105 37.5,-105 35,-102.5 35,-100 35,-100 35,-87 35,-87 35,-84.5 37.5,-82 40,-82 40,-82 45,-82 45,-82 47.5,-82 50,-84.5 50,-87 50,-87 50,-100 50,-100 50,-102.5 47.5,-105 45,-105\"/>\n",
              "<text text-anchor=\"middle\" x=\"42.5\" y=\"-89.8\" font-family=\"Times,serif\" font-size=\"14.00\">*</text>\n",
              "</g>\n",
              "<!-- &#45;3632398199588186516&#45;&gt;&#45;1896723610675849559 -->\n",
              "<g id=\"edge2\" class=\"edge\">\n",
              "<title>&#45;3632398199588186516&#45;&gt;&#45;1896723610675849559</title>\n",
              "<path fill=\"none\" stroke=\"black\" stroke-width=\"0.5\" d=\"M42.5,-122.84C42.5,-117.34 42.5,-110.65 42.5,-105.14\"/>\n",
              "</g>\n",
              "<!-- 7832317179505503595 -->\n",
              "<g id=\"node4\" class=\"node\">\n",
              "<title>7832317179505503595</title>\n",
              "<path fill=\"none\" stroke=\"black\" stroke-width=\"0.25\" d=\"M79.33,-105C79.33,-105 73.67,-105 73.67,-105 70.83,-105 68,-102.17 68,-99.33 68,-99.33 68,-87.67 68,-87.67 68,-84.83 70.83,-82 73.67,-82 73.67,-82 79.33,-82 79.33,-82 82.17,-82 85,-84.83 85,-87.67 85,-87.67 85,-99.33 85,-99.33 85,-102.17 82.17,-105 79.33,-105\"/>\n",
              "<text text-anchor=\"middle\" x=\"76.5\" y=\"-89.8\" font-family=\"Times,serif\" font-size=\"14.00\">E</text>\n",
              "</g>\n",
              "<!-- &#45;3632398199588186516&#45;&gt;7832317179505503595 -->\n",
              "<g id=\"edge3\" class=\"edge\">\n",
              "<title>&#45;3632398199588186516&#45;&gt;7832317179505503595</title>\n",
              "<path fill=\"none\" stroke=\"black\" stroke-width=\"0.5\" d=\"M51.08,-123.66C56.19,-117.79 62.67,-110.36 67.8,-104.47\"/>\n",
              "</g>\n",
              "<!-- 6217750452376201536&#45;&gt;&#45;1896723610675849559 -->\n",
              "<!-- &#45;3347009687387089008 -->\n",
              "<g id=\"node5\" class=\"node\">\n",
              "<title>&#45;3347009687387089008</title>\n",
              "<path fill=\"none\" stroke=\"black\" stroke-width=\"1.25\" d=\"M11,-64C11,-64 6,-64 6,-64 3.5,-64 1,-61.5 1,-59 1,-59 1,-46 1,-46 1,-43.5 3.5,-41 6,-41 6,-41 11,-41 11,-41 13.5,-41 16,-43.5 16,-46 16,-46 16,-59 16,-59 16,-61.5 13.5,-64 11,-64\"/>\n",
              "<text text-anchor=\"middle\" x=\"8.5\" y=\"-48.8\" font-family=\"Times,serif\" font-size=\"14.00\">e</text>\n",
              "</g>\n",
              "<!-- 6217750452376201536&#45;&gt;&#45;3347009687387089008 -->\n",
              "<g id=\"edge6\" class=\"edge\">\n",
              "<title>6217750452376201536&#45;&gt;&#45;3347009687387089008</title>\n",
              "<path fill=\"none\" stroke=\"black\" stroke-width=\"0.5\" d=\"M8.5,-81.84C8.5,-76.34 8.5,-69.65 8.5,-64.14\"/>\n",
              "</g>\n",
              "<!-- &#45;1896723610675849559&#45;&gt;7832317179505503595 -->\n",
              "<!-- 5741992141880078278 -->\n",
              "<g id=\"node6\" class=\"node\">\n",
              "<title>5741992141880078278</title>\n",
              "<path fill=\"none\" stroke=\"black\" stroke-width=\"0.25\" d=\"M45.33,-64C45.33,-64 39.67,-64 39.67,-64 36.83,-64 34,-61.17 34,-58.33 34,-58.33 34,-46.67 34,-46.67 34,-43.83 36.83,-41 39.67,-41 39.67,-41 45.33,-41 45.33,-41 48.17,-41 51,-43.83 51,-46.67 51,-46.67 51,-58.33 51,-58.33 51,-61.17 48.17,-64 45.33,-64\"/>\n",
              "<text text-anchor=\"middle\" x=\"42.5\" y=\"-48.8\" font-family=\"Times,serif\" font-size=\"14.00\">E</text>\n",
              "</g>\n",
              "<!-- 7832317179505503595&#45;&gt;5741992141880078278 -->\n",
              "<g id=\"edge7\" class=\"edge\">\n",
              "<title>7832317179505503595&#45;&gt;5741992141880078278</title>\n",
              "<path fill=\"none\" stroke=\"black\" stroke-width=\"0.5\" d=\"M67.92,-82.66C62.81,-76.79 56.33,-69.36 51.2,-63.47\"/>\n",
              "</g>\n",
              "<!-- &#45;3153341713350797592 -->\n",
              "<g id=\"node7\" class=\"node\">\n",
              "<title>&#45;3153341713350797592</title>\n",
              "<path fill=\"none\" stroke=\"black\" stroke-width=\"1.25\" d=\"M80.33,-64C80.33,-64 74.67,-64 74.67,-64 71.83,-64 69,-61.17 69,-58.33 69,-58.33 69,-46.67 69,-46.67 69,-43.83 71.83,-41 74.67,-41 74.67,-41 80.33,-41 80.33,-41 83.17,-41 86,-43.83 86,-46.67 86,-46.67 86,-58.33 86,-58.33 86,-61.17 83.17,-64 80.33,-64\"/>\n",
              "<text text-anchor=\"middle\" x=\"77.5\" y=\"-48.8\" font-family=\"Times,serif\" font-size=\"14.00\">+</text>\n",
              "</g>\n",
              "<!-- 7832317179505503595&#45;&gt;&#45;3153341713350797592 -->\n",
              "<g id=\"edge8\" class=\"edge\">\n",
              "<title>7832317179505503595&#45;&gt;&#45;3153341713350797592</title>\n",
              "<path fill=\"none\" stroke=\"black\" stroke-width=\"0.5\" d=\"M76.77,-81.84C76.91,-76.34 77.09,-69.65 77.23,-64.14\"/>\n",
              "</g>\n",
              "<!-- 2958201486025012209 -->\n",
              "<g id=\"node8\" class=\"node\">\n",
              "<title>2958201486025012209</title>\n",
              "<path fill=\"none\" stroke=\"black\" stroke-width=\"0.25\" d=\"M115.33,-64C115.33,-64 109.67,-64 109.67,-64 106.83,-64 104,-61.17 104,-58.33 104,-58.33 104,-46.67 104,-46.67 104,-43.83 106.83,-41 109.67,-41 109.67,-41 115.33,-41 115.33,-41 118.17,-41 121,-43.83 121,-46.67 121,-46.67 121,-58.33 121,-58.33 121,-61.17 118.17,-64 115.33,-64\"/>\n",
              "<text text-anchor=\"middle\" x=\"112.5\" y=\"-48.8\" font-family=\"Times,serif\" font-size=\"14.00\">E</text>\n",
              "</g>\n",
              "<!-- 7832317179505503595&#45;&gt;2958201486025012209 -->\n",
              "<g id=\"edge9\" class=\"edge\">\n",
              "<title>7832317179505503595&#45;&gt;2958201486025012209</title>\n",
              "<path fill=\"none\" stroke=\"black\" stroke-width=\"0.5\" d=\"M85.21,-83.06C90.87,-76.93 98.22,-68.97 103.87,-62.85\"/>\n",
              "</g>\n",
              "<!-- 5741992141880078278&#45;&gt;&#45;3153341713350797592 -->\n",
              "<!-- 4066081117837053351 -->\n",
              "<g id=\"node9\" class=\"node\">\n",
              "<title>4066081117837053351</title>\n",
              "<path fill=\"none\" stroke=\"black\" stroke-width=\"1.25\" d=\"M45,-23C45,-23 40,-23 40,-23 37.5,-23 35,-20.5 35,-18 35,-18 35,-5 35,-5 35,-2.5 37.5,0 40,0 40,0 45,0 45,0 47.5,0 50,-2.5 50,-5 50,-5 50,-18 50,-18 50,-20.5 47.5,-23 45,-23\"/>\n",
              "<text text-anchor=\"middle\" x=\"42.5\" y=\"-7.8\" font-family=\"Times,serif\" font-size=\"14.00\">e</text>\n",
              "</g>\n",
              "<!-- 5741992141880078278&#45;&gt;4066081117837053351 -->\n",
              "<g id=\"edge12\" class=\"edge\">\n",
              "<title>5741992141880078278&#45;&gt;4066081117837053351</title>\n",
              "<path fill=\"none\" stroke=\"black\" stroke-width=\"0.5\" d=\"M42.5,-40.84C42.5,-35.34 42.5,-28.65 42.5,-23.14\"/>\n",
              "</g>\n",
              "<!-- &#45;3153341713350797592&#45;&gt;2958201486025012209 -->\n",
              "<!-- &#45;3198296489084655639 -->\n",
              "<g id=\"node10\" class=\"node\">\n",
              "<title>&#45;3198296489084655639</title>\n",
              "<path fill=\"none\" stroke=\"black\" stroke-width=\"1.25\" d=\"M115,-23C115,-23 110,-23 110,-23 107.5,-23 105,-20.5 105,-18 105,-18 105,-5 105,-5 105,-2.5 107.5,0 110,0 110,0 115,0 115,0 117.5,0 120,-2.5 120,-5 120,-5 120,-18 120,-18 120,-20.5 117.5,-23 115,-23\"/>\n",
              "<text text-anchor=\"middle\" x=\"112.5\" y=\"-7.8\" font-family=\"Times,serif\" font-size=\"14.00\">e</text>\n",
              "</g>\n",
              "<!-- 2958201486025012209&#45;&gt;&#45;3198296489084655639 -->\n",
              "<g id=\"edge13\" class=\"edge\">\n",
              "<title>2958201486025012209&#45;&gt;&#45;3198296489084655639</title>\n",
              "<path fill=\"none\" stroke=\"black\" stroke-width=\"0.5\" d=\"M112.5,-40.84C112.5,-35.34 112.5,-28.65 112.5,-23.14\"/>\n",
              "</g>\n",
              "</g>\n",
              "</svg>\n",
              "</div>"
            ],
            "text/plain": [
              "<IPython.core.display.HTML object>"
            ]
          },
          "execution_count": 33,
          "metadata": {},
          "output_type": "execute_result"
        }
      ],
      "source": [
        "side_by_side(\n",
        "  ProductionGraph(Derivation(G).leftmost(d0)),\n",
        "  ProductionGraph(Derivation(G).leftmost(d1))\n",
        ")"
      ]
    },
    {
      "cell_type": "markdown",
      "metadata": {},
      "source": [
        "## <span style=\"color: red;\">Riflessioni per casa</span>\n",
        "\n",
        "Cosa succede se si consentono anche ε-produzioni? Il DAG delle computazioni è finito? Che modi ci possono essere di \"potarlo\"?"
      ]
    }
  ],
  "metadata": {
    "kernelspec": {
      "display_name": "Python 3",
      "language": "python",
      "name": "python3"
    },
    "language_info": {
      "codemirror_mode": {
        "name": "ipython",
        "version": 3
      },
      "file_extension": ".py",
      "mimetype": "text/x-python",
      "name": "python",
      "nbconvert_exporter": "python",
      "pygments_lexer": "ipython3"
    },
    "widgets": {
      "application/vnd.jupyter.widget-state+json": {
        "state": {
          "0e2a4a57de4a4e0184b38cf168a80b40": {
            "model_module": "@jupyter-widgets/controls",
            "model_module_version": "2.0.0",
            "model_name": "SliderStyleModel",
            "state": {
              "_model_module": "@jupyter-widgets/controls",
              "_model_module_version": "2.0.0",
              "_model_name": "SliderStyleModel",
              "_view_count": null,
              "_view_module": "@jupyter-widgets/base",
              "_view_module_version": "2.0.0",
              "_view_name": "StyleView",
              "description_width": "",
              "handle_color": null
            }
          },
          "167bb656f71f40b2b78314182aff9b9b": {
            "model_module": "@jupyter-widgets/base",
            "model_module_version": "2.0.0",
            "model_name": "LayoutModel",
            "state": {
              "_model_module": "@jupyter-widgets/base",
              "_model_module_version": "2.0.0",
              "_model_name": "LayoutModel",
              "_view_count": null,
              "_view_module": "@jupyter-widgets/base",
              "_view_module_version": "2.0.0",
              "_view_name": "LayoutView",
              "align_content": null,
              "align_items": null,
              "align_self": null,
              "border_bottom": null,
              "border_left": null,
              "border_right": null,
              "border_top": null,
              "bottom": null,
              "display": null,
              "flex": null,
              "flex_flow": null,
              "grid_area": null,
              "grid_auto_columns": null,
              "grid_auto_flow": null,
              "grid_auto_rows": null,
              "grid_column": null,
              "grid_gap": null,
              "grid_row": null,
              "grid_template_areas": null,
              "grid_template_columns": null,
              "grid_template_rows": null,
              "height": null,
              "justify_content": null,
              "justify_items": null,
              "left": null,
              "margin": null,
              "max_height": null,
              "max_width": null,
              "min_height": null,
              "min_width": null,
              "object_fit": null,
              "object_position": null,
              "order": null,
              "overflow": null,
              "padding": null,
              "right": null,
              "top": null,
              "visibility": null,
              "width": null
            }
          },
          "1ffdf211770b41b7b0ced4b62f7e492e": {
            "model_module": "@jupyter-widgets/base",
            "model_module_version": "2.0.0",
            "model_name": "LayoutModel",
            "state": {
              "_model_module": "@jupyter-widgets/base",
              "_model_module_version": "2.0.0",
              "_model_name": "LayoutModel",
              "_view_count": null,
              "_view_module": "@jupyter-widgets/base",
              "_view_module_version": "2.0.0",
              "_view_name": "LayoutView",
              "align_content": null,
              "align_items": null,
              "align_self": null,
              "border_bottom": null,
              "border_left": null,
              "border_right": null,
              "border_top": null,
              "bottom": null,
              "display": null,
              "flex": null,
              "flex_flow": null,
              "grid_area": null,
              "grid_auto_columns": null,
              "grid_auto_flow": null,
              "grid_auto_rows": null,
              "grid_column": null,
              "grid_gap": null,
              "grid_row": null,
              "grid_template_areas": null,
              "grid_template_columns": null,
              "grid_template_rows": null,
              "height": null,
              "justify_content": null,
              "justify_items": null,
              "left": null,
              "margin": null,
              "max_height": null,
              "max_width": null,
              "min_height": null,
              "min_width": null,
              "object_fit": null,
              "object_position": null,
              "order": null,
              "overflow": null,
              "padding": null,
              "right": null,
              "top": null,
              "visibility": null,
              "width": null
            }
          },
          "286826aef337435d81040eaf944ecd68": {
            "model_module": "@jupyter-widgets/base",
            "model_module_version": "2.0.0",
            "model_name": "LayoutModel",
            "state": {
              "_model_module": "@jupyter-widgets/base",
              "_model_module_version": "2.0.0",
              "_model_name": "LayoutModel",
              "_view_count": null,
              "_view_module": "@jupyter-widgets/base",
              "_view_module_version": "2.0.0",
              "_view_name": "LayoutView",
              "align_content": null,
              "align_items": null,
              "align_self": null,
              "border_bottom": null,
              "border_left": null,
              "border_right": null,
              "border_top": null,
              "bottom": null,
              "display": null,
              "flex": null,
              "flex_flow": null,
              "grid_area": null,
              "grid_auto_columns": null,
              "grid_auto_flow": null,
              "grid_auto_rows": null,
              "grid_column": null,
              "grid_gap": null,
              "grid_row": null,
              "grid_template_areas": null,
              "grid_template_columns": null,
              "grid_template_rows": null,
              "height": "300px",
              "justify_content": null,
              "justify_items": null,
              "left": null,
              "margin": null,
              "max_height": null,
              "max_width": null,
              "min_height": null,
              "min_width": null,
              "object_fit": null,
              "object_position": null,
              "order": null,
              "overflow": null,
              "padding": null,
              "right": null,
              "top": null,
              "visibility": null,
              "width": null
            }
          },
          "65e6d668da284d0db6038ead01d27c86": {
            "model_module": "@jupyter-widgets/controls",
            "model_module_version": "2.0.0",
            "model_name": "IntSliderModel",
            "state": {
              "_dom_classes": [],
              "_model_module": "@jupyter-widgets/controls",
              "_model_module_version": "2.0.0",
              "_model_name": "IntSliderModel",
              "_view_count": null,
              "_view_module": "@jupyter-widgets/controls",
              "_view_module_version": "2.0.0",
              "_view_name": "IntSliderView",
              "behavior": "drag-tap",
              "continuous_update": true,
              "description": "n",
              "description_allow_html": false,
              "disabled": false,
              "layout": "IPY_MODEL_ab6925481af74266bf5d68d10f9f5c3f",
              "max": 4,
              "min": 0,
              "orientation": "horizontal",
              "readout": true,
              "readout_format": "d",
              "step": 1,
              "style": "IPY_MODEL_cfe5820e86804cfcbc4bfebad486f16a",
              "tabbable": null,
              "tooltip": null,
              "value": 0
            }
          },
          "75a001c3c2c94678ad6629ec78055a34": {
            "model_module": "@jupyter-widgets/output",
            "model_module_version": "1.0.0",
            "model_name": "OutputModel",
            "state": {
              "_dom_classes": [],
              "_model_module": "@jupyter-widgets/output",
              "_model_module_version": "1.0.0",
              "_model_name": "OutputModel",
              "_view_count": null,
              "_view_module": "@jupyter-widgets/output",
              "_view_module_version": "1.0.0",
              "_view_name": "OutputView",
              "layout": "IPY_MODEL_fc805a48f83b4049ae021a8bec6de75f",
              "msg_id": "",
              "outputs": [
                {
                  "data": {
                    "image/svg+xml": "<?xml version=\"1.0\" encoding=\"UTF-8\" standalone=\"no\"?>\n<!DOCTYPE svg PUBLIC \"-//W3C//DTD SVG 1.1//EN\"\n \"http://www.w3.org/Graphics/SVG/1.1/DTD/svg11.dtd\">\n<!-- Generated by graphviz version 2.43.0 (0)\n -->\n<!-- Title: %3 Pages: 1 -->\n<svg width=\"24pt\" height=\"31pt\"\n viewBox=\"0.00 0.00 24.00 31.00\" xmlns=\"http://www.w3.org/2000/svg\" xmlns:xlink=\"http://www.w3.org/1999/xlink\">\n<g id=\"graph0\" class=\"graph\" transform=\"scale(1 1) rotate(0) translate(4 27)\">\n<title>%3</title>\n<polygon fill=\"white\" stroke=\"transparent\" points=\"-4,4 -4,-27 20,-27 20,4 -4,4\"/>\n<!-- &#45;8965455650609907010 -->\n<g id=\"node1\" class=\"node\">\n<title>&#45;8965455650609907010</title>\n<path fill=\"none\" stroke=\"black\" stroke-width=\"0.25\" d=\"M10.67,-23C10.67,-23 5.33,-23 5.33,-23 2.67,-23 0,-20.33 0,-17.67 0,-17.67 0,-5.33 0,-5.33 0,-2.67 2.67,0 5.33,0 5.33,0 10.67,0 10.67,0 13.33,0 16,-2.67 16,-5.33 16,-5.33 16,-17.67 16,-17.67 16,-20.33 13.33,-23 10.67,-23\"/>\n<text text-anchor=\"middle\" x=\"8\" y=\"-7.8\" font-family=\"Times,serif\" font-size=\"14.00\">S</text>\n</g>\n</g>\n</svg>\n",
                    "text/plain": "ProductionGraph(S)"
                  },
                  "metadata": {},
                  "output_type": "display_data"
                }
              ],
              "tabbable": null,
              "tooltip": null
            }
          },
          "90a7c639ed944b6cb9cc0525ac873a97": {
            "model_module": "@jupyter-widgets/controls",
            "model_module_version": "2.0.0",
            "model_name": "IntSliderModel",
            "state": {
              "_dom_classes": [],
              "_model_module": "@jupyter-widgets/controls",
              "_model_module_version": "2.0.0",
              "_model_name": "IntSliderModel",
              "_view_count": null,
              "_view_module": "@jupyter-widgets/controls",
              "_view_module_version": "2.0.0",
              "_view_name": "IntSliderView",
              "behavior": "drag-tap",
              "continuous_update": true,
              "description": "n",
              "description_allow_html": false,
              "disabled": false,
              "layout": "IPY_MODEL_1ffdf211770b41b7b0ced4b62f7e492e",
              "max": 4,
              "min": 0,
              "orientation": "horizontal",
              "readout": true,
              "readout_format": "d",
              "step": 1,
              "style": "IPY_MODEL_0e2a4a57de4a4e0184b38cf168a80b40",
              "tabbable": null,
              "tooltip": null,
              "value": 0
            }
          },
          "a70f5c1809cb490f9930071c39139862": {
            "model_module": "@jupyter-widgets/controls",
            "model_module_version": "2.0.0",
            "model_name": "VBoxModel",
            "state": {
              "_dom_classes": [
                "widget-interact"
              ],
              "_model_module": "@jupyter-widgets/controls",
              "_model_module_version": "2.0.0",
              "_model_name": "VBoxModel",
              "_view_count": null,
              "_view_module": "@jupyter-widgets/controls",
              "_view_module_version": "2.0.0",
              "_view_name": "VBoxView",
              "box_style": "",
              "children": [
                "IPY_MODEL_90a7c639ed944b6cb9cc0525ac873a97",
                "IPY_MODEL_75a001c3c2c94678ad6629ec78055a34"
              ],
              "layout": "IPY_MODEL_c1470aa2cb61421fa962e685ad7ea734",
              "tabbable": null,
              "tooltip": null
            }
          },
          "ab6925481af74266bf5d68d10f9f5c3f": {
            "model_module": "@jupyter-widgets/base",
            "model_module_version": "2.0.0",
            "model_name": "LayoutModel",
            "state": {
              "_model_module": "@jupyter-widgets/base",
              "_model_module_version": "2.0.0",
              "_model_name": "LayoutModel",
              "_view_count": null,
              "_view_module": "@jupyter-widgets/base",
              "_view_module_version": "2.0.0",
              "_view_name": "LayoutView",
              "align_content": null,
              "align_items": null,
              "align_self": null,
              "border_bottom": null,
              "border_left": null,
              "border_right": null,
              "border_top": null,
              "bottom": null,
              "display": null,
              "flex": null,
              "flex_flow": null,
              "grid_area": null,
              "grid_auto_columns": null,
              "grid_auto_flow": null,
              "grid_auto_rows": null,
              "grid_column": null,
              "grid_gap": null,
              "grid_row": null,
              "grid_template_areas": null,
              "grid_template_columns": null,
              "grid_template_rows": null,
              "height": null,
              "justify_content": null,
              "justify_items": null,
              "left": null,
              "margin": null,
              "max_height": null,
              "max_width": null,
              "min_height": null,
              "min_width": null,
              "object_fit": null,
              "object_position": null,
              "order": null,
              "overflow": null,
              "padding": null,
              "right": null,
              "top": null,
              "visibility": null,
              "width": null
            }
          },
          "b3d52d5f351a470e9fb0f1c3dc579073": {
            "model_module": "@jupyter-widgets/controls",
            "model_module_version": "2.0.0",
            "model_name": "VBoxModel",
            "state": {
              "_dom_classes": [
                "widget-interact"
              ],
              "_model_module": "@jupyter-widgets/controls",
              "_model_module_version": "2.0.0",
              "_model_name": "VBoxModel",
              "_view_count": null,
              "_view_module": "@jupyter-widgets/controls",
              "_view_module_version": "2.0.0",
              "_view_name": "VBoxView",
              "box_style": "",
              "children": [
                "IPY_MODEL_65e6d668da284d0db6038ead01d27c86",
                "IPY_MODEL_fb058be073904c16b4f87bbc440279b6"
              ],
              "layout": "IPY_MODEL_167bb656f71f40b2b78314182aff9b9b",
              "tabbable": null,
              "tooltip": null
            }
          },
          "c1470aa2cb61421fa962e685ad7ea734": {
            "model_module": "@jupyter-widgets/base",
            "model_module_version": "2.0.0",
            "model_name": "LayoutModel",
            "state": {
              "_model_module": "@jupyter-widgets/base",
              "_model_module_version": "2.0.0",
              "_model_name": "LayoutModel",
              "_view_count": null,
              "_view_module": "@jupyter-widgets/base",
              "_view_module_version": "2.0.0",
              "_view_name": "LayoutView",
              "align_content": null,
              "align_items": null,
              "align_self": null,
              "border_bottom": null,
              "border_left": null,
              "border_right": null,
              "border_top": null,
              "bottom": null,
              "display": null,
              "flex": null,
              "flex_flow": null,
              "grid_area": null,
              "grid_auto_columns": null,
              "grid_auto_flow": null,
              "grid_auto_rows": null,
              "grid_column": null,
              "grid_gap": null,
              "grid_row": null,
              "grid_template_areas": null,
              "grid_template_columns": null,
              "grid_template_rows": null,
              "height": null,
              "justify_content": null,
              "justify_items": null,
              "left": null,
              "margin": null,
              "max_height": null,
              "max_width": null,
              "min_height": null,
              "min_width": null,
              "object_fit": null,
              "object_position": null,
              "order": null,
              "overflow": null,
              "padding": null,
              "right": null,
              "top": null,
              "visibility": null,
              "width": null
            }
          },
          "cfe5820e86804cfcbc4bfebad486f16a": {
            "model_module": "@jupyter-widgets/controls",
            "model_module_version": "2.0.0",
            "model_name": "SliderStyleModel",
            "state": {
              "_model_module": "@jupyter-widgets/controls",
              "_model_module_version": "2.0.0",
              "_model_name": "SliderStyleModel",
              "_view_count": null,
              "_view_module": "@jupyter-widgets/base",
              "_view_module_version": "2.0.0",
              "_view_name": "StyleView",
              "description_width": "",
              "handle_color": null
            }
          },
          "fb058be073904c16b4f87bbc440279b6": {
            "model_module": "@jupyter-widgets/output",
            "model_module_version": "1.0.0",
            "model_name": "OutputModel",
            "state": {
              "_dom_classes": [],
              "_model_module": "@jupyter-widgets/output",
              "_model_module_version": "1.0.0",
              "_model_name": "OutputModel",
              "_view_count": null,
              "_view_module": "@jupyter-widgets/output",
              "_view_module_version": "1.0.0",
              "_view_name": "OutputView",
              "layout": "IPY_MODEL_286826aef337435d81040eaf944ecd68",
              "msg_id": "",
              "outputs": [
                {
                  "data": {
                    "image/svg+xml": "<?xml version=\"1.0\" encoding=\"UTF-8\" standalone=\"no\"?>\n<!DOCTYPE svg PUBLIC \"-//W3C//DTD SVG 1.1//EN\"\n \"http://www.w3.org/Graphics/SVG/1.1/DTD/svg11.dtd\">\n<!-- Generated by graphviz version 2.43.0 (0)\n -->\n<!-- Title: %3 Pages: 1 -->\n<svg width=\"24pt\" height=\"31pt\"\n viewBox=\"0.00 0.00 24.00 31.00\" xmlns=\"http://www.w3.org/2000/svg\" xmlns:xlink=\"http://www.w3.org/1999/xlink\">\n<g id=\"graph0\" class=\"graph\" transform=\"scale(1 1) rotate(0) translate(4 27)\">\n<title>%3</title>\n<polygon fill=\"white\" stroke=\"transparent\" points=\"-4,4 -4,-27 20,-27 20,4 -4,4\"/>\n<!-- &#45;8965455650609907010 -->\n<g id=\"node1\" class=\"node\">\n<title>&#45;8965455650609907010</title>\n<path fill=\"none\" stroke=\"black\" stroke-width=\"0.25\" d=\"M10.67,-23C10.67,-23 5.33,-23 5.33,-23 2.67,-23 0,-20.33 0,-17.67 0,-17.67 0,-5.33 0,-5.33 0,-2.67 2.67,0 5.33,0 5.33,0 10.67,0 10.67,0 13.33,0 16,-2.67 16,-5.33 16,-5.33 16,-17.67 16,-17.67 16,-20.33 13.33,-23 10.67,-23\"/>\n<text text-anchor=\"middle\" x=\"8\" y=\"-7.8\" font-family=\"Times,serif\" font-size=\"14.00\">S</text>\n</g>\n</g>\n</svg>\n",
                    "text/plain": "ProductionGraph(S)"
                  },
                  "metadata": {},
                  "output_type": "display_data"
                }
              ],
              "tabbable": null,
              "tooltip": null
            }
          },
          "fc805a48f83b4049ae021a8bec6de75f": {
            "model_module": "@jupyter-widgets/base",
            "model_module_version": "2.0.0",
            "model_name": "LayoutModel",
            "state": {
              "_model_module": "@jupyter-widgets/base",
              "_model_module_version": "2.0.0",
              "_model_name": "LayoutModel",
              "_view_count": null,
              "_view_module": "@jupyter-widgets/base",
              "_view_module_version": "2.0.0",
              "_view_name": "LayoutView",
              "align_content": null,
              "align_items": null,
              "align_self": null,
              "border_bottom": null,
              "border_left": null,
              "border_right": null,
              "border_top": null,
              "bottom": null,
              "display": null,
              "flex": null,
              "flex_flow": null,
              "grid_area": null,
              "grid_auto_columns": null,
              "grid_auto_flow": null,
              "grid_auto_rows": null,
              "grid_column": null,
              "grid_gap": null,
              "grid_row": null,
              "grid_template_areas": null,
              "grid_template_columns": null,
              "grid_template_rows": null,
              "height": "300px",
              "justify_content": null,
              "justify_items": null,
              "left": null,
              "margin": null,
              "max_height": null,
              "max_width": null,
              "min_height": null,
              "min_width": null,
              "object_fit": null,
              "object_position": null,
              "order": null,
              "overflow": null,
              "padding": null,
              "right": null,
              "top": null,
              "visibility": null,
              "width": null
            }
          }
        },
        "version_major": 2,
        "version_minor": 0
      }
    }
  },
  "nbformat": 4,
  "nbformat_minor": 4
}
