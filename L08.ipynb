{
 "cells": [
  {
   "cell_type": "markdown",
   "metadata": {},
   "source": [
    "# L'algoritmo CYK"
   ]
  },
  {
   "cell_type": "markdown",
   "metadata": {},
   "source": [
    "## La tabella, sua relazione con l'input"
   ]
  },
  {
   "cell_type": "code",
   "execution_count": 1,
   "metadata": {},
   "outputs": [
    {
     "data": {
      "text/plain": [
       "{(1, 5): 'atest',\n",
       " (1, 4): 'ates',\n",
       " (2, 4): 'test',\n",
       " (1, 3): 'ate',\n",
       " (2, 3): 'tes',\n",
       " (3, 3): 'est',\n",
       " (1, 2): 'at',\n",
       " (2, 2): 'te',\n",
       " (3, 2): 'es',\n",
       " (4, 2): 'st',\n",
       " (1, 1): 'a',\n",
       " (2, 1): 't',\n",
       " (3, 1): 'e',\n",
       " (4, 1): 's',\n",
       " (5, 1): 't'}"
      ]
     },
     "execution_count": 1,
     "metadata": {},
     "output_type": "execute_result"
    }
   ],
   "source": [
    "INPUT = 'atest'\n",
    "\n",
    "R = {}\n",
    "for l in range(len(INPUT), 0, -1):\n",
    "    for i in range(1, len(INPUT) - l + 2): \n",
    "        R[(i, l)] = INPUT[i - 1 : i + l - 1]\n",
    "\n",
    "R"
   ]
  },
  {
   "cell_type": "code",
   "execution_count": 2,
   "metadata": {},
   "outputs": [
    {
     "data": {
      "text/html": [
       "<table class=\"table table-bordered\"><tr><td style=\"text-align:left\">atest<tr><td style=\"text-align:left\">ates<td style=\"text-align:left\">test<tr><td style=\"text-align:left\">ate<td style=\"text-align:left\">tes<td style=\"text-align:left\">est<tr><td style=\"text-align:left\">at<td style=\"text-align:left\">te<td style=\"text-align:left\">es<td style=\"text-align:left\">st<tr><td style=\"text-align:left\">a<td style=\"text-align:left\">t<td style=\"text-align:left\">e<td style=\"text-align:left\">s<td style=\"text-align:left\">t</table>"
      ],
      "text/plain": [
       "<IPython.core.display.HTML object>"
      ]
     },
     "execution_count": 2,
     "metadata": {},
     "output_type": "execute_result"
    }
   ],
   "source": [
    "from liblet import cyk2table\n",
    "\n",
    "cyk2table(R)"
   ]
  },
  {
   "cell_type": "markdown",
   "metadata": {},
   "source": [
    "### Riempimento offline"
   ]
  },
  {
   "cell_type": "code",
   "execution_count": 3,
   "metadata": {},
   "outputs": [],
   "source": [
    "def offline(fill, n):\n",
    "    R = {}\n",
    "    for l in range(1, n + 1):\n",
    "        for i in range(1, n - l + 2): \n",
    "            R[(i, l)] = fill(R, i, l)\n",
    "    return R"
   ]
  },
  {
   "cell_type": "code",
   "execution_count": 4,
   "metadata": {},
   "outputs": [],
   "source": [
    "def fill_with_nij(R, i, j):\n",
    "    global n\n",
    "    n += 1\n",
    "    return '{} @ ({}, {})'.format(n, i, j)"
   ]
  },
  {
   "cell_type": "code",
   "execution_count": 5,
   "metadata": {},
   "outputs": [
    {
     "data": {
      "text/html": [
       "<table class=\"table table-bordered\"><tr><td style=\"text-align:left\">15 @ (1, 5)<tr><td style=\"text-align:left\">13 @ (1, 4)<td style=\"text-align:left\">14 @ (2, 4)<tr><td style=\"text-align:left\">10 @ (1, 3)<td style=\"text-align:left\">11 @ (2, 3)<td style=\"text-align:left\">12 @ (3, 3)<tr><td style=\"text-align:left\">6 @ (1, 2)<td style=\"text-align:left\">7 @ (2, 2)<td style=\"text-align:left\">8 @ (3, 2)<td style=\"text-align:left\">9 @ (4, 2)<tr><td style=\"text-align:left\">1 @ (1, 1)<td style=\"text-align:left\">2 @ (2, 1)<td style=\"text-align:left\">3 @ (3, 1)<td style=\"text-align:left\">4 @ (4, 1)<td style=\"text-align:left\">5 @ (5, 1)</table>"
      ],
      "text/plain": [
       "<IPython.core.display.HTML object>"
      ]
     },
     "execution_count": 5,
     "metadata": {},
     "output_type": "execute_result"
    }
   ],
   "source": [
    "n = 0\n",
    "cyk2table(offline(fill_with_nij, 5))"
   ]
  },
  {
   "cell_type": "markdown",
   "metadata": {},
   "source": [
    "### Riempimento online"
   ]
  },
  {
   "cell_type": "code",
   "execution_count": 6,
   "metadata": {},
   "outputs": [],
   "source": [
    "def online(fill, n):\n",
    "    R = {}\n",
    "    for d in range(1, n + 1):\n",
    "        for i in range(d, 0, -1):\n",
    "            R[(i, d - i + 1)] = fill(R, i, d - i + 1)\n",
    "    return R"
   ]
  },
  {
   "cell_type": "code",
   "execution_count": 7,
   "metadata": {},
   "outputs": [
    {
     "data": {
      "text/html": [
       "<table class=\"table table-bordered\"><tr><td style=\"text-align:left\">15 @ (1, 5)<tr><td style=\"text-align:left\">10 @ (1, 4)<td style=\"text-align:left\">14 @ (2, 4)<tr><td style=\"text-align:left\">6 @ (1, 3)<td style=\"text-align:left\">9 @ (2, 3)<td style=\"text-align:left\">13 @ (3, 3)<tr><td style=\"text-align:left\">3 @ (1, 2)<td style=\"text-align:left\">5 @ (2, 2)<td style=\"text-align:left\">8 @ (3, 2)<td style=\"text-align:left\">12 @ (4, 2)<tr><td style=\"text-align:left\">1 @ (1, 1)<td style=\"text-align:left\">2 @ (2, 1)<td style=\"text-align:left\">4 @ (3, 1)<td style=\"text-align:left\">7 @ (4, 1)<td style=\"text-align:left\">11 @ (5, 1)</table>"
      ],
      "text/plain": [
       "<IPython.core.display.HTML object>"
      ]
     },
     "execution_count": 7,
     "metadata": {},
     "output_type": "execute_result"
    }
   ],
   "source": [
    "n = 0\n",
    "cyk2table(online(fill_with_nij, 5))"
   ]
  },
  {
   "cell_type": "markdown",
   "metadata": {},
   "source": [
    "## Riempimento usando G (CNF) e input"
   ]
  },
  {
   "cell_type": "code",
   "execution_count": 8,
   "metadata": {},
   "outputs": [],
   "source": [
    "def cyk_fill(G, INPUT):\n",
    "    def fill(R, i, l):\n",
    "        res = set()\n",
    "        if l == 1:\n",
    "            for (A, (a, *α)) in G.P: \n",
    "                if not α and a == INPUT[i - 1]:\n",
    "                    res.add(A)\n",
    "        else:\n",
    "            for k in range(1, l):\n",
    "                for A, α in G.P:\n",
    "                    if len(α) != 2: continue\n",
    "                    B, C = α\n",
    "                    if B in R[(i, k)] and C in R[(i + k, l - k)]:\n",
    "                        res.add(A)\n",
    "        return res\n",
    "    return fill"
   ]
  },
  {
   "cell_type": "code",
   "execution_count": 9,
   "metadata": {},
   "outputs": [],
   "source": [
    "from liblet import Grammar\n",
    "\n",
    "G = Grammar.from_string(\"\"\"\n",
    "S -> A S\n",
    "A -> a\n",
    "S -> .\n",
    "\"\"\")"
   ]
  },
  {
   "cell_type": "code",
   "execution_count": 10,
   "metadata": {},
   "outputs": [
    {
     "data": {
      "text/html": [
       "<table class=\"table table-bordered\"><tr><td style=\"text-align:left\">S<tr><td style=\"text-align:left\"><td style=\"text-align:left\">S<tr><td style=\"text-align:left\"><td style=\"text-align:left\"><td style=\"text-align:left\">S<tr><td style=\"text-align:left\">A<td style=\"text-align:left\">A<td style=\"text-align:left\">A<td style=\"text-align:left\">S</table>"
      ],
      "text/plain": [
       "<IPython.core.display.HTML object>"
      ]
     },
     "execution_count": 10,
     "metadata": {},
     "output_type": "execute_result"
    }
   ],
   "source": [
    "INPUT = 'aaa.'\n",
    "\n",
    "R = online(cyk_fill(G, INPUT), len(INPUT))\n",
    "cyk2table(R)"
   ]
  },
  {
   "cell_type": "markdown",
   "metadata": {},
   "source": [
    "### Un esempio dal libro di testo"
   ]
  },
  {
   "cell_type": "code",
   "execution_count": 11,
   "metadata": {},
   "outputs": [
    {
     "data": {
      "text/plain": [
       "Grammar(N={Digit, Fraction, Integer, N1, N2, Number, Scale', Sign, T1, T2}, T={+, -, ., 0, 1, 2, 3, 4, 5, 6, 7, 8, 9, e}, P=(Number -> 0, Number -> 1, Number -> 2, Number -> 3, Number -> 4, Number -> 5, Number -> 6, Number -> 7, Number -> 8, Number -> 9, Number -> Integer Digit, Number -> N1 Scale', Number -> Integer Fraction, N1 -> Integer Fraction, Integer -> 0, Integer -> 1, Integer -> 2, Integer -> 3, Integer -> 4, Integer -> 5, Integer -> 6, Integer -> 7, Integer -> 8, Integer -> 9, Integer -> Integer Digit, Fraction -> T1 Integer, T1 -> ., Scale' -> N2 Integer, N2 -> T2 Sign, T2 -> e, Digit -> 0, Digit -> 1, Digit -> 2, Digit -> 3, Digit -> 4, Digit -> 5, Digit -> 6, Digit -> 7, Digit -> 8, Digit -> 9, Sign -> +, Sign -> -), S=Number)"
      ]
     },
     "execution_count": 11,
     "metadata": {},
     "output_type": "execute_result"
    }
   ],
   "source": [
    "# fig. 4.15, pag. 123 \n",
    "\n",
    "G = Grammar.from_string(\"\"\"\n",
    "Number -> 0|1|2|3|4|5|6|7|8|9 \n",
    "Number -> Integer Digit\n",
    "Number -> N1 Scale' | Integer Fraction\n",
    "N1 -> Integer Fraction\n",
    "Integer -> 0|1|2|3|4|5|6|7|8|9 \n",
    "Integer -> Integer Digit\n",
    "Fraction -> T1 Integer\n",
    "T1 -> .\n",
    "Scale' -> N2 Integer\n",
    "N2 -> T2 Sign\n",
    "T2 -> e\n",
    "Digit -> 0|1|2|3|4|5|6|7|8|9 \n",
    "Sign -> + | -\n",
    "\"\"\")\n",
    "G"
   ]
  },
  {
   "cell_type": "code",
   "execution_count": 12,
   "metadata": {},
   "outputs": [
    {
     "data": {
      "text/html": [
       "<table class=\"table table-bordered\"><tr><td style=\"text-align:left\">Number<tr><td style=\"text-align:left\"><td style=\"text-align:left\">Number<tr><td style=\"text-align:left\"><td style=\"text-align:left\"><td style=\"text-align:left\"><tr><td style=\"text-align:left\">N1\n",
       "Number<td style=\"text-align:left\"><td style=\"text-align:left\"><td style=\"text-align:left\"><tr><td style=\"text-align:left\"><td style=\"text-align:left\">N1\n",
       "Number<td style=\"text-align:left\"><td style=\"text-align:left\"><td style=\"text-align:left\">Scale'<tr><td style=\"text-align:left\">Integer\n",
       "Number<td style=\"text-align:left\"><td style=\"text-align:left\">Fraction<td style=\"text-align:left\"><td style=\"text-align:left\">N2<td style=\"text-align:left\"><tr><td style=\"text-align:left\">Digit\n",
       "Integer\n",
       "Number<td style=\"text-align:left\">Digit\n",
       "Integer\n",
       "Number<td style=\"text-align:left\">T1<td style=\"text-align:left\">Digit\n",
       "Integer\n",
       "Number<td style=\"text-align:left\">T2<td style=\"text-align:left\">Sign<td style=\"text-align:left\">Digit\n",
       "Integer\n",
       "Number</table>"
      ],
      "text/plain": [
       "<IPython.core.display.HTML object>"
      ]
     },
     "execution_count": 12,
     "metadata": {},
     "output_type": "execute_result"
    }
   ],
   "source": [
    "INPUT = '32.5e+1'\n",
    "\n",
    "R = offline(cyk_fill(G, INPUT), len(INPUT))\n",
    "cyk2table(R)"
   ]
  }
 ],
 "metadata": {
  "kernelspec": {
   "display_name": "Python 3",
   "language": "python",
   "name": "python3"
  },
  "language_info": {
   "codemirror_mode": {
    "name": "ipython",
    "version": 3
   },
   "file_extension": ".py",
   "mimetype": "text/x-python",
   "name": "python",
   "nbconvert_exporter": "python",
   "pygments_lexer": "ipython3",
   "version": "3.7.2"
  }
 },
 "nbformat": 4,
 "nbformat_minor": 2
}
