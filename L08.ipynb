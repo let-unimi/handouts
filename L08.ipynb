{
  "cells": [
    {
      "cell_type": "markdown",
      "metadata": {},
      "source": [
        "# Linguaggi regolari e automi a stati finiti"
      ]
    },
    {
      "cell_type": "code",
      "execution_count": null,
      "metadata": {},
      "outputs": [],
      "source": [
        "from liblet import (\n",
        "    Grammar, \n",
        "    Production,\n",
        "    Derivation,\n",
        "    Transition,\n",
        "    Automaton,\n",
        "    StateTransitionGraph, \n",
        "    Queue, \n",
        "    closure,\n",
        "    prods2table,\n",
        "    iter2table,\n",
        "    dod2table,\n",
        "    union_of\n",
        ")"
      ]
    },
    {
      "cell_type": "markdown",
      "metadata": {},
      "source": [
        "\n",
        "## Il linguaggio della parte aperta delle forme sentenziali (Sez 5.1.1)"
      ]
    },
    {
      "cell_type": "code",
      "execution_count": null,
      "metadata": {},
      "outputs": [
        {
          "data": {
            "text/html": [
              "<style>td, th {border: 1pt solid lightgray !important ;}</style><table><tr><th><pre>S</pre><td style=\"text-align:left\"><pre>L & N | N</pre><tr><th><pre>L</pre><td style=\"text-align:left\"><pre>N | N , L</pre><tr><th><pre>N</pre><td style=\"text-align:left\"><pre>d | h | t</pre></table></table>"
            ],
            "text/plain": [
              "<IPython.core.display.HTML object>"
            ]
          },
          "execution_count": 1,
          "metadata": {},
          "output_type": "execute_result"
        }
      ],
      "source": [
        "# pag. 27, Sec 2.4.3\n",
        "\n",
        "C = Grammar.from_string(\"\"\"\n",
        "S -> N | L & N\n",
        "L -> N , L | N\n",
        "N -> t | d | h\n",
        "\"\"\")\n",
        "prods2table(C)"
      ]
    },
    {
      "cell_type": "code",
      "execution_count": null,
      "metadata": {},
      "outputs": [
        {
          "data": {
            "text/plain": [
              "S -> L & N -> N , L & N -> t , L & N -> t , N & N"
            ]
          },
          "execution_count": 1,
          "metadata": {},
          "output_type": "execute_result"
        }
      ],
      "source": [
        "# una derivazione in C la cui parte \"aperta\" è 'N & N'\n",
        "\n",
        "Derivation(C).leftmost((1, 2, 4, 3))"
      ]
    },
    {
      "cell_type": "code",
      "execution_count": null,
      "metadata": {},
      "outputs": [],
      "source": [
        "def open_regular(G):\n",
        "\n",
        "    def bar(symbol):\n",
        "        return symbol if symbol in G.T else symbol + '\\u0305' # aggiunge una barra sopra\n",
        "\n",
        "    T = {bar(G.S)}\n",
        "    P = {Production('R', (G.S, )), Production('R', (bar(G.S), ))}\n",
        "\n",
        "    for A, α in G.P:\n",
        "        while True:\n",
        "            if α == ('ε', ) or not α: break   \n",
        "            Xbar, *αbar = map(bar, α)\n",
        "            X, *α = α\n",
        "            P.add(Production(A, [Xbar] + αbar))\n",
        "            if X in G.T: continue\n",
        "            T.add(Xbar)\n",
        "            P.add(Production(A, [X] + αbar))\n",
        "        P.add(Production(A, ('ε',)))\n",
        "\n",
        "    # sorted garantisce che l'ordine delle produzioni non dipenda\n",
        "    # dall'ordine in cui sono aggiunte al set — che in python non \n",
        "    # preserva l'ordine\n",
        "    return Grammar(G.N | {'R'}, G.T | T, sorted(P), 'R')"
      ]
    },
    {
      "cell_type": "code",
      "execution_count": null,
      "metadata": {},
      "outputs": [
        {
          "data": {
            "text/html": [
              "<style>td, th {border: 1pt solid lightgray !important ;}</style><table><tr><th><pre>R</pre><td style=\"text-align:left\"><pre>S | S̅</pre><tr><th><pre>L</pre><td style=\"text-align:left\"><pre>, L̅ | L | L̅ | N | N , L̅ | N̅ | N̅ , L̅ | ε</pre><tr><th><pre>N</pre><td style=\"text-align:left\"><pre>d | h | t | ε</pre><tr><th><pre>S</pre><td style=\"text-align:left\"><pre>& N̅ | L & N̅ | L̅ & N̅ | N | N̅ | ε</pre></table></table>"
            ],
            "text/plain": [
              "<IPython.core.display.HTML object>"
            ]
          },
          "execution_count": 1,
          "metadata": {},
          "output_type": "execute_result"
        }
      ],
      "source": [
        "G = open_regular(C)\n",
        "\n",
        "prods2table(G)"
      ]
    },
    {
      "cell_type": "code",
      "execution_count": null,
      "metadata": {},
      "outputs": [
        {
          "data": {
            "text/plain": [
              "R -> S -> L & N̅ -> N̅ & N̅"
            ]
          },
          "execution_count": 1,
          "metadata": {},
          "output_type": "execute_result"
        }
      ],
      "source": [
        "# Una derivazione in G di 'N & N'\n",
        "\n",
        "Derivation(G).leftmost((12, 15, 5))"
      ]
    },
    {
      "cell_type": "markdown",
      "metadata": {},
      "source": [
        "## Generazione e NFA (Sez. 5.2)"
      ]
    },
    {
      "cell_type": "code",
      "execution_count": null,
      "metadata": {},
      "outputs": [
        {
          "data": {
            "text/plain": [
              "Grammar(N={A, B, C, S}, T={a, b, c}, P=(S -> a A, S -> a B, A -> b B, A -> b C, B -> c A, B -> c C, C -> a), S=S)"
            ]
          },
          "execution_count": 1,
          "metadata": {},
          "output_type": "execute_result"
        }
      ],
      "source": [
        "# fig. 5.6, pag. 142\n",
        "\n",
        "G = Grammar.from_string(\"\"\"\n",
        "S -> a A\n",
        "S -> a B\n",
        "A -> b B\n",
        "A -> b C\n",
        "B -> c A\n",
        "B -> c C\n",
        "C -> a\n",
        "\"\"\")\n",
        "G"
      ]
    },
    {
      "cell_type": "code",
      "execution_count": null,
      "metadata": {},
      "outputs": [
        {
          "data": {
            "text/plain": [
              "Automaton(N={A, B, C, S, ◇}, T={a, b, c}, transitions=(S-a->A, S-a->B, A-b->B, A-b->C, B-c->A, B-c->C, C-a->◇), F={◇}, q0=S)"
            ]
          },
          "execution_count": 1,
          "metadata": {},
          "output_type": "execute_result"
        }
      ],
      "source": [
        "A = Automaton.from_grammar(G)\n",
        "A"
      ]
    },
    {
      "cell_type": "code",
      "execution_count": null,
      "metadata": {},
      "outputs": [
        {
          "data": {
            "image/svg+xml": [
              "<?xml version=\"1.0\" encoding=\"UTF-8\" standalone=\"no\"?>\n",
              "<!DOCTYPE svg PUBLIC \"-//W3C//DTD SVG 1.1//EN\"\n",
              " \"http://www.w3.org/Graphics/SVG/1.1/DTD/svg11.dtd\">\n",
              "<!-- Generated by graphviz version 2.43.0 (0)\n",
              " -->\n",
              "<!-- Title: %3 Pages: 1 -->\n",
              "<svg width=\"549pt\" height=\"106pt\"\n",
              " viewBox=\"0.00 0.00 549.00 106.00\" xmlns=\"http://www.w3.org/2000/svg\" xmlns:xlink=\"http://www.w3.org/1999/xlink\">\n",
              "<g id=\"graph0\" class=\"graph\" transform=\"scale(1 1) rotate(0) translate(4 102)\">\n",
              "<title>%3</title>\n",
              "<polygon fill=\"white\" stroke=\"transparent\" points=\"-4,4 -4,-102 545,-102 545,4 -4,4\"/>\n",
              "<!-- 139781656769520 -->\n",
              "<g id=\"node1\" class=\"node\">\n",
              "<title>139781656769520</title>\n",
              "</g>\n",
              "<!-- 8949235048324792829 -->\n",
              "<g id=\"node2\" class=\"node\">\n",
              "<title>8949235048324792829</title>\n",
              "<ellipse fill=\"none\" stroke=\"black\" cx=\"118\" cy=\"-18\" rx=\"27\" ry=\"18\"/>\n",
              "<text text-anchor=\"middle\" x=\"118\" y=\"-14.3\" font-family=\"Times,serif\" font-size=\"14.00\">S</text>\n",
              "</g>\n",
              "<!-- 139781656769520&#45;&gt;8949235048324792829 -->\n",
              "<g id=\"edge1\" class=\"edge\">\n",
              "<title>139781656769520&#45;&gt;8949235048324792829</title>\n",
              "<path fill=\"none\" stroke=\"black\" d=\"M54.22,-18C62.55,-18 71.91,-18 80.82,-18\"/>\n",
              "<polygon fill=\"black\" stroke=\"black\" points=\"80.97,-21.5 90.97,-18 80.97,-14.5 80.97,-21.5\"/>\n",
              "</g>\n",
              "<!-- 7947626035904166934 -->\n",
              "<g id=\"node3\" class=\"node\">\n",
              "<title>7947626035904166934</title>\n",
              "<ellipse fill=\"none\" stroke=\"black\" cx=\"215\" cy=\"-63\" rx=\"27\" ry=\"18\"/>\n",
              "<text text-anchor=\"middle\" x=\"215\" y=\"-59.3\" font-family=\"Times,serif\" font-size=\"14.00\">A</text>\n",
              "</g>\n",
              "<!-- 8949235048324792829&#45;&gt;7947626035904166934 -->\n",
              "<g id=\"edge2\" class=\"edge\">\n",
              "<title>8949235048324792829&#45;&gt;7947626035904166934</title>\n",
              "<path fill=\"none\" stroke=\"black\" d=\"M140.56,-28.21C153.19,-34.19 169.35,-41.85 183.3,-48.46\"/>\n",
              "<polygon fill=\"black\" stroke=\"black\" points=\"181.99,-51.71 192.53,-52.83 184.99,-45.39 181.99,-51.71\"/>\n",
              "<text text-anchor=\"middle\" x=\"166.5\" y=\"-44.8\" font-family=\"Times,serif\" font-size=\"14.00\">a</text>\n",
              "</g>\n",
              "<!-- &#45;5852521631547481399 -->\n",
              "<g id=\"node4\" class=\"node\">\n",
              "<title>&#45;5852521631547481399</title>\n",
              "<ellipse fill=\"none\" stroke=\"black\" cx=\"312\" cy=\"-42\" rx=\"27\" ry=\"18\"/>\n",
              "<text text-anchor=\"middle\" x=\"312\" y=\"-38.3\" font-family=\"Times,serif\" font-size=\"14.00\">B</text>\n",
              "</g>\n",
              "<!-- 8949235048324792829&#45;&gt;&#45;5852521631547481399 -->\n",
              "<g id=\"edge3\" class=\"edge\">\n",
              "<title>8949235048324792829&#45;&gt;&#45;5852521631547481399</title>\n",
              "<path fill=\"none\" stroke=\"black\" d=\"M145.04,-17.05C170.02,-16.51 208.75,-16.65 242,-21 253.33,-22.48 256.02,-23.82 267,-27 270.62,-28.05 274.39,-29.22 278.13,-30.42\"/>\n",
              "<polygon fill=\"black\" stroke=\"black\" points=\"277.24,-33.82 287.84,-33.65 279.45,-27.17 277.24,-33.82\"/>\n",
              "<text text-anchor=\"middle\" x=\"215\" y=\"-24.8\" font-family=\"Times,serif\" font-size=\"14.00\">a</text>\n",
              "</g>\n",
              "<!-- 7947626035904166934&#45;&gt;&#45;5852521631547481399 -->\n",
              "<g id=\"edge4\" class=\"edge\">\n",
              "<title>7947626035904166934&#45;&gt;&#45;5852521631547481399</title>\n",
              "<path fill=\"none\" stroke=\"black\" d=\"M240.96,-57.48C251.76,-55.1 264.58,-52.26 276.29,-49.67\"/>\n",
              "<polygon fill=\"black\" stroke=\"black\" points=\"277.2,-53.06 286.21,-47.48 275.69,-46.22 277.2,-53.06\"/>\n",
              "<text text-anchor=\"middle\" x=\"263.5\" y=\"-56.8\" font-family=\"Times,serif\" font-size=\"14.00\">b</text>\n",
              "</g>\n",
              "<!-- 7920702929724492179 -->\n",
              "<g id=\"node5\" class=\"node\">\n",
              "<title>7920702929724492179</title>\n",
              "<ellipse fill=\"none\" stroke=\"black\" cx=\"409\" cy=\"-76\" rx=\"27\" ry=\"18\"/>\n",
              "<text text-anchor=\"middle\" x=\"409\" y=\"-72.3\" font-family=\"Times,serif\" font-size=\"14.00\">C</text>\n",
              "</g>\n",
              "<!-- 7947626035904166934&#45;&gt;7920702929724492179 -->\n",
              "<g id=\"edge5\" class=\"edge\">\n",
              "<title>7947626035904166934&#45;&gt;7920702929724492179</title>\n",
              "<path fill=\"none\" stroke=\"black\" d=\"M241.03,-68.71C247.21,-69.95 253.82,-71.15 260,-72 305.89,-78.32 317.7,-80.58 364,-79 366.54,-78.91 369.17,-78.8 371.81,-78.66\"/>\n",
              "<polygon fill=\"black\" stroke=\"black\" points=\"372.18,-82.15 381.96,-78.07 371.77,-75.16 372.18,-82.15\"/>\n",
              "<text text-anchor=\"middle\" x=\"312\" y=\"-82.8\" font-family=\"Times,serif\" font-size=\"14.00\">b</text>\n",
              "</g>\n",
              "<!-- &#45;5852521631547481399&#45;&gt;7947626035904166934 -->\n",
              "<g id=\"edge6\" class=\"edge\">\n",
              "<title>&#45;5852521631547481399&#45;&gt;7947626035904166934</title>\n",
              "<path fill=\"none\" stroke=\"black\" d=\"M288.63,-32.82C279.62,-30.35 269.2,-29.08 260,-32 252.77,-34.29 245.71,-38.24 239.43,-42.57\"/>\n",
              "<polygon fill=\"black\" stroke=\"black\" points=\"237.31,-39.79 231.41,-48.59 241.51,-45.39 237.31,-39.79\"/>\n",
              "<text text-anchor=\"middle\" x=\"263.5\" y=\"-35.8\" font-family=\"Times,serif\" font-size=\"14.00\">c</text>\n",
              "</g>\n",
              "<!-- &#45;5852521631547481399&#45;&gt;7920702929724492179 -->\n",
              "<g id=\"edge7\" class=\"edge\">\n",
              "<title>&#45;5852521631547481399&#45;&gt;7920702929724492179</title>\n",
              "<path fill=\"none\" stroke=\"black\" d=\"M336.48,-50.4C348.1,-54.56 362.32,-59.65 375.02,-64.19\"/>\n",
              "<polygon fill=\"black\" stroke=\"black\" points=\"374.19,-67.62 384.79,-67.69 376.55,-61.03 374.19,-67.62\"/>\n",
              "<text text-anchor=\"middle\" x=\"360.5\" y=\"-63.8\" font-family=\"Times,serif\" font-size=\"14.00\">c</text>\n",
              "</g>\n",
              "<!-- 6527113640901237733 -->\n",
              "<g id=\"node6\" class=\"node\">\n",
              "<title>6527113640901237733</title>\n",
              "<ellipse fill=\"none\" stroke=\"black\" cx=\"510\" cy=\"-76\" rx=\"27\" ry=\"18\"/>\n",
              "<ellipse fill=\"none\" stroke=\"black\" cx=\"510\" cy=\"-76\" rx=\"31\" ry=\"22\"/>\n",
              "<text text-anchor=\"middle\" x=\"510\" y=\"-72.3\" font-family=\"Times,serif\" font-size=\"14.00\">◇</text>\n",
              "</g>\n",
              "<!-- 7920702929724492179&#45;&gt;6527113640901237733 -->\n",
              "<g id=\"edge8\" class=\"edge\">\n",
              "<title>7920702929724492179&#45;&gt;6527113640901237733</title>\n",
              "<path fill=\"none\" stroke=\"black\" d=\"M436.01,-76C446,-76 457.64,-76 468.66,-76\"/>\n",
              "<polygon fill=\"black\" stroke=\"black\" points=\"468.96,-79.5 478.96,-76 468.96,-72.5 468.96,-79.5\"/>\n",
              "<text text-anchor=\"middle\" x=\"457.5\" y=\"-79.8\" font-family=\"Times,serif\" font-size=\"14.00\">a</text>\n",
              "</g>\n",
              "</g>\n",
              "</svg>\n"
            ],
            "text/plain": [
              "<liblet.display.StateTransitionGraph at 0x7f216d3c1400>"
            ]
          },
          "execution_count": 1,
          "metadata": {},
          "output_type": "execute_result"
        }
      ],
      "source": [
        "StateTransitionGraph.from_automaton(A)"
      ]
    },
    {
      "cell_type": "code",
      "execution_count": null,
      "metadata": {},
      "outputs": [
        {
          "data": {
            "image/svg+xml": [
              "<?xml version=\"1.0\" encoding=\"UTF-8\" standalone=\"no\"?>\n",
              "<!DOCTYPE svg PUBLIC \"-//W3C//DTD SVG 1.1//EN\"\n",
              " \"http://www.w3.org/Graphics/SVG/1.1/DTD/svg11.dtd\">\n",
              "<!-- Generated by graphviz version 2.43.0 (0)\n",
              " -->\n",
              "<!-- Title: %3 Pages: 1 -->\n",
              "<svg width=\"549pt\" height=\"232pt\"\n",
              " viewBox=\"0.00 0.00 549.00 232.00\" xmlns=\"http://www.w3.org/2000/svg\" xmlns:xlink=\"http://www.w3.org/1999/xlink\">\n",
              "<g id=\"graph0\" class=\"graph\" transform=\"scale(1 1) rotate(0) translate(4 228)\">\n",
              "<title>%3</title>\n",
              "<polygon fill=\"white\" stroke=\"transparent\" points=\"-4,4 -4,-228 545,-228 545,4 -4,4\"/>\n",
              "<!-- 139781656769520 -->\n",
              "<g id=\"node1\" class=\"node\">\n",
              "<title>139781656769520</title>\n",
              "</g>\n",
              "<!-- 8949235048324792829 -->\n",
              "<g id=\"node2\" class=\"node\">\n",
              "<title>8949235048324792829</title>\n",
              "<ellipse fill=\"none\" stroke=\"black\" cx=\"118\" cy=\"-129\" rx=\"27\" ry=\"18\"/>\n",
              "<text text-anchor=\"middle\" x=\"118\" y=\"-125.3\" font-family=\"Times,serif\" font-size=\"14.00\">S</text>\n",
              "</g>\n",
              "<!-- 139781656769520&#45;&gt;8949235048324792829 -->\n",
              "<g id=\"edge1\" class=\"edge\">\n",
              "<title>139781656769520&#45;&gt;8949235048324792829</title>\n",
              "<path fill=\"none\" stroke=\"black\" d=\"M54.22,-129C62.55,-129 71.91,-129 80.82,-129\"/>\n",
              "<polygon fill=\"black\" stroke=\"black\" points=\"80.97,-132.5 90.97,-129 80.97,-125.5 80.97,-132.5\"/>\n",
              "</g>\n",
              "<!-- 7947626035904166934 -->\n",
              "<g id=\"node3\" class=\"node\">\n",
              "<title>7947626035904166934</title>\n",
              "<ellipse fill=\"none\" stroke=\"black\" cx=\"215\" cy=\"-90\" rx=\"27\" ry=\"18\"/>\n",
              "<text text-anchor=\"middle\" x=\"215\" y=\"-86.3\" font-family=\"Times,serif\" font-size=\"14.00\">A</text>\n",
              "</g>\n",
              "<!-- 8949235048324792829&#45;&gt;7947626035904166934 -->\n",
              "<g id=\"edge2\" class=\"edge\">\n",
              "<title>8949235048324792829&#45;&gt;7947626035904166934</title>\n",
              "<path fill=\"none\" stroke=\"black\" d=\"M141.51,-119.76C153.7,-114.75 168.95,-108.49 182.32,-103.01\"/>\n",
              "<polygon fill=\"black\" stroke=\"black\" points=\"183.73,-106.21 191.65,-99.18 181.07,-99.74 183.73,-106.21\"/>\n",
              "<text text-anchor=\"middle\" x=\"166.5\" y=\"-113.8\" font-family=\"Times,serif\" font-size=\"14.00\">a</text>\n",
              "</g>\n",
              "<!-- &#45;5852521631547481399 -->\n",
              "<g id=\"node4\" class=\"node\">\n",
              "<title>&#45;5852521631547481399</title>\n",
              "<ellipse fill=\"none\" stroke=\"black\" cx=\"312\" cy=\"-128\" rx=\"27\" ry=\"18\"/>\n",
              "<text text-anchor=\"middle\" x=\"312\" y=\"-124.3\" font-family=\"Times,serif\" font-size=\"14.00\">B</text>\n",
              "</g>\n",
              "<!-- 8949235048324792829&#45;&gt;&#45;5852521631547481399 -->\n",
              "<g id=\"edge3\" class=\"edge\">\n",
              "<title>8949235048324792829&#45;&gt;&#45;5852521631547481399</title>\n",
              "<path fill=\"none\" stroke=\"black\" d=\"M145.2,-129.18C174.78,-129.34 224.35,-129.48 267,-129 269.54,-128.97 272.16,-128.93 274.8,-128.89\"/>\n",
              "<polygon fill=\"black\" stroke=\"black\" points=\"275.01,-132.38 284.94,-128.69 274.88,-125.39 275.01,-132.38\"/>\n",
              "<text text-anchor=\"middle\" x=\"215\" y=\"-132.8\" font-family=\"Times,serif\" font-size=\"14.00\">a</text>\n",
              "</g>\n",
              "<!-- 7947626035904166934&#45;&gt;&#45;5852521631547481399 -->\n",
              "<g id=\"edge4\" class=\"edge\">\n",
              "<title>7947626035904166934&#45;&gt;&#45;5852521631547481399</title>\n",
              "<path fill=\"none\" stroke=\"black\" d=\"M241.8,-87.18C250.07,-87.14 259.12,-88.04 267,-91 275.46,-94.18 283.44,-99.74 290.22,-105.6\"/>\n",
              "<polygon fill=\"black\" stroke=\"black\" points=\"287.9,-108.21 297.59,-112.49 292.68,-103.1 287.9,-108.21\"/>\n",
              "<text text-anchor=\"middle\" x=\"263.5\" y=\"-94.8\" font-family=\"Times,serif\" font-size=\"14.00\">b</text>\n",
              "</g>\n",
              "<!-- 7920702929724492179 -->\n",
              "<g id=\"node5\" class=\"node\">\n",
              "<title>7920702929724492179</title>\n",
              "<ellipse fill=\"none\" stroke=\"black\" cx=\"409\" cy=\"-57\" rx=\"27\" ry=\"18\"/>\n",
              "<text text-anchor=\"middle\" x=\"409\" y=\"-53.3\" font-family=\"Times,serif\" font-size=\"14.00\">C</text>\n",
              "</g>\n",
              "<!-- 7947626035904166934&#45;&gt;7920702929724492179 -->\n",
              "<g id=\"edge5\" class=\"edge\">\n",
              "<title>7947626035904166934&#45;&gt;7920702929724492179</title>\n",
              "<path fill=\"none\" stroke=\"black\" d=\"M241.5,-85.62C275.16,-79.83 334.59,-69.62 372.59,-63.09\"/>\n",
              "<polygon fill=\"black\" stroke=\"black\" points=\"373.44,-66.49 382.7,-61.35 372.26,-59.59 373.44,-66.49\"/>\n",
              "<text text-anchor=\"middle\" x=\"312\" y=\"-81.8\" font-family=\"Times,serif\" font-size=\"14.00\">b</text>\n",
              "</g>\n",
              "<!-- &#45;5852521631547481399&#45;&gt;7947626035904166934 -->\n",
              "<g id=\"edge6\" class=\"edge\">\n",
              "<title>&#45;5852521631547481399&#45;&gt;7947626035904166934</title>\n",
              "<path fill=\"none\" stroke=\"black\" d=\"M288.32,-118.93C276.31,-114.12 261.36,-108.14 248.17,-102.87\"/>\n",
              "<polygon fill=\"black\" stroke=\"black\" points=\"249.1,-99.47 238.51,-99.01 246.5,-105.97 249.1,-99.47\"/>\n",
              "<text text-anchor=\"middle\" x=\"263.5\" y=\"-113.8\" font-family=\"Times,serif\" font-size=\"14.00\">c</text>\n",
              "</g>\n",
              "<!-- &#45;5852521631547481399&#45;&gt;7920702929724492179 -->\n",
              "<g id=\"edge7\" class=\"edge\">\n",
              "<title>&#45;5852521631547481399&#45;&gt;7920702929724492179</title>\n",
              "<path fill=\"none\" stroke=\"black\" d=\"M330.87,-114.65C345.33,-103.84 365.9,-88.47 382.16,-76.31\"/>\n",
              "<polygon fill=\"black\" stroke=\"black\" points=\"384.3,-79.08 390.21,-70.29 380.11,-73.48 384.3,-79.08\"/>\n",
              "<text text-anchor=\"middle\" x=\"360.5\" y=\"-97.8\" font-family=\"Times,serif\" font-size=\"14.00\">c</text>\n",
              "</g>\n",
              "<!-- 1820128169673620962 -->\n",
              "<g id=\"node7\" class=\"node\">\n",
              "<title>1820128169673620962</title>\n",
              "<ellipse fill=\"none\" stroke=\"black\" cx=\"409\" cy=\"-206\" rx=\"27\" ry=\"18\"/>\n",
              "<text text-anchor=\"middle\" x=\"409\" y=\"-202.3\" font-family=\"Times,serif\" font-size=\"14.00\">D</text>\n",
              "</g>\n",
              "<!-- &#45;5852521631547481399&#45;&gt;1820128169673620962 -->\n",
              "<g id=\"edge9\" class=\"edge\">\n",
              "<title>&#45;5852521631547481399&#45;&gt;1820128169673620962</title>\n",
              "<path fill=\"none\" stroke=\"black\" d=\"M329.98,-141.94C344.84,-154.15 366.61,-172.02 383.38,-185.79\"/>\n",
              "<polygon fill=\"black\" stroke=\"black\" points=\"381.21,-188.54 391.16,-192.18 385.66,-183.13 381.21,-188.54\"/>\n",
              "<text text-anchor=\"middle\" x=\"360.5\" y=\"-172.8\" font-family=\"Times,serif\" font-size=\"14.00\">c</text>\n",
              "</g>\n",
              "<!-- &#45;4553314960525018516 -->\n",
              "<g id=\"node8\" class=\"node\">\n",
              "<title>&#45;4553314960525018516</title>\n",
              "<ellipse fill=\"none\" stroke=\"black\" cx=\"409\" cy=\"-119\" rx=\"27\" ry=\"18\"/>\n",
              "<text text-anchor=\"middle\" x=\"409\" y=\"-115.3\" font-family=\"Times,serif\" font-size=\"14.00\">E</text>\n",
              "</g>\n",
              "<!-- &#45;5852521631547481399&#45;&gt;&#45;4553314960525018516 -->\n",
              "<g id=\"edge10\" class=\"edge\">\n",
              "<title>&#45;5852521631547481399&#45;&gt;&#45;4553314960525018516</title>\n",
              "<path fill=\"none\" stroke=\"black\" d=\"M338.96,-125.54C349.12,-124.58 360.94,-123.46 371.91,-122.42\"/>\n",
              "<polygon fill=\"black\" stroke=\"black\" points=\"372.45,-125.88 382.07,-121.46 371.79,-118.92 372.45,-125.88\"/>\n",
              "<text text-anchor=\"middle\" x=\"360.5\" y=\"-126.8\" font-family=\"Times,serif\" font-size=\"14.00\">c</text>\n",
              "</g>\n",
              "<!-- 6527113640901237733 -->\n",
              "<g id=\"node6\" class=\"node\">\n",
              "<title>6527113640901237733</title>\n",
              "<ellipse fill=\"none\" stroke=\"black\" cx=\"510\" cy=\"-22\" rx=\"27\" ry=\"18\"/>\n",
              "<ellipse fill=\"none\" stroke=\"black\" cx=\"510\" cy=\"-22\" rx=\"31\" ry=\"22\"/>\n",
              "<text text-anchor=\"middle\" x=\"510\" y=\"-18.3\" font-family=\"Times,serif\" font-size=\"14.00\">◇</text>\n",
              "</g>\n",
              "<!-- 7920702929724492179&#45;&gt;6527113640901237733 -->\n",
              "<g id=\"edge8\" class=\"edge\">\n",
              "<title>7920702929724492179&#45;&gt;6527113640901237733</title>\n",
              "<path fill=\"none\" stroke=\"black\" d=\"M433.21,-48.79C444.78,-44.7 459.04,-39.66 472.07,-35.06\"/>\n",
              "<polygon fill=\"black\" stroke=\"black\" points=\"473.46,-38.28 481.72,-31.64 471.12,-31.68 473.46,-38.28\"/>\n",
              "<text text-anchor=\"middle\" x=\"457.5\" y=\"-44.8\" font-family=\"Times,serif\" font-size=\"14.00\">a</text>\n",
              "</g>\n",
              "<!-- &#45;4553314960525018516&#45;&gt;&#45;4553314960525018516 -->\n",
              "<g id=\"edge11\" class=\"edge\">\n",
              "<title>&#45;4553314960525018516&#45;&gt;&#45;4553314960525018516</title>\n",
              "<path fill=\"none\" stroke=\"black\" d=\"M400.43,-136.41C398.83,-146.09 401.69,-155 409,-155 413.57,-155 416.4,-151.52 417.49,-146.54\"/>\n",
              "<polygon fill=\"black\" stroke=\"black\" points=\"420.99,-146.44 417.57,-136.41 413.99,-146.38 420.99,-146.44\"/>\n",
              "<text text-anchor=\"middle\" x=\"409\" y=\"-158.8\" font-family=\"Times,serif\" font-size=\"14.00\">e</text>\n",
              "</g>\n",
              "<!-- 5794853504963611282 -->\n",
              "<g id=\"node9\" class=\"node\">\n",
              "<title>5794853504963611282</title>\n",
              "<ellipse fill=\"none\" stroke=\"black\" cx=\"118\" cy=\"-51\" rx=\"27\" ry=\"18\"/>\n",
              "<text text-anchor=\"middle\" x=\"118\" y=\"-47.3\" font-family=\"Times,serif\" font-size=\"14.00\">F</text>\n",
              "</g>\n",
              "<!-- 5794853504963611282&#45;&gt;7947626035904166934 -->\n",
              "<g id=\"edge12\" class=\"edge\">\n",
              "<title>5794853504963611282&#45;&gt;7947626035904166934</title>\n",
              "<path fill=\"none\" stroke=\"black\" d=\"M141.51,-60.24C153.7,-65.25 168.95,-71.51 182.32,-76.99\"/>\n",
              "<polygon fill=\"black\" stroke=\"black\" points=\"181.07,-80.26 191.65,-80.82 183.73,-73.79 181.07,-80.26\"/>\n",
              "<text text-anchor=\"middle\" x=\"166.5\" y=\"-75.8\" font-family=\"Times,serif\" font-size=\"14.00\">f</text>\n",
              "</g>\n",
              "<!-- 5794853504963611282&#45;&gt;6527113640901237733 -->\n",
              "<g id=\"edge13\" class=\"edge\">\n",
              "<title>5794853504963611282&#45;&gt;6527113640901237733</title>\n",
              "<path fill=\"none\" stroke=\"black\" d=\"M136.06,-37.25C154.25,-24.02 184.44,-6 214,-6 214,-6 214,-6 410,-6 430.18,-6 452.38,-9.28 470.63,-12.87\"/>\n",
              "<polygon fill=\"black\" stroke=\"black\" points=\"470.1,-16.33 480.6,-14.94 471.52,-9.48 470.1,-16.33\"/>\n",
              "<text text-anchor=\"middle\" x=\"312\" y=\"-9.8\" font-family=\"Times,serif\" font-size=\"14.00\">h</text>\n",
              "</g>\n",
              "</g>\n",
              "</svg>\n"
            ],
            "text/plain": [
              "<liblet.display.StateTransitionGraph at 0x7f216c96c040>"
            ]
          },
          "execution_count": 1,
          "metadata": {},
          "output_type": "execute_result"
        }
      ],
      "source": [
        "# pag. 143\n",
        "\n",
        "Gp = Grammar.from_string(\"\"\"\n",
        "S -> a A\n",
        "S -> a B\n",
        "A -> b B\n",
        "A -> b C\n",
        "B -> c A\n",
        "B -> c C\n",
        "C -> a\n",
        "B -> c D\n",
        "B -> c E\n",
        "E -> e E\n",
        "F -> f A\n",
        "F -> h\n",
        "\"\"\")\n",
        "Gp.T -= {'D'}\n",
        "Gp.N |= {'D'}\n",
        "\n",
        "StateTransitionGraph.from_automaton(Automaton.from_grammar(Gp))"
      ]
    },
    {
      "cell_type": "markdown",
      "metadata": {},
      "source": [
        "## Parsing (Sez. 5.3)\n",
        "\n",
        "### La set construction (Sez. 5.3.1)"
      ]
    },
    {
      "cell_type": "code",
      "execution_count": null,
      "metadata": {},
      "outputs": [
        {
          "data": {
            "text/plain": [
              "Automaton(N={{A, B}, {A, C}, {B, C}, {S}, {◇}}, T={a, b, c}, transitions=({S}-a->{A, B}, {A, B}-c->{A, C}, {A, B}-b->{B, C}, {A, C}-b->{B, C}, {A, C}-a->{◇}, {B, C}-c->{A, C}, {B, C}-a->{◇}), F={{◇}}, q0={S})"
            ]
          },
          "execution_count": 1,
          "metadata": {},
          "output_type": "execute_result"
        }
      ],
      "source": [
        "Ns = set()\n",
        "Ts = A.T\n",
        "Ss = frozenset(A.q0)\n",
        "\n",
        "transitions = []\n",
        "\n",
        "q = Queue([Ss])\n",
        "while q:\n",
        "    Xs = q.dequeue()\n",
        "    if Xs in Ns: continue\n",
        "    for t in Ts:\n",
        "        Ys = frozenset(union_of(A.δ(X, t) for X in Xs))\n",
        "        if Ys: \n",
        "            transitions.append(Transition(Xs, t, Ys))\n",
        "            q.enqueue(Ys)\n",
        "    Ns.add(Xs)\n",
        "\n",
        "Fs = {Xs for Xs in Ns if A.F & Xs}\n",
        "\n",
        "As = Automaton(Ns, Ts, transitions, Ss, Fs)\n",
        "As"
      ]
    },
    {
      "cell_type": "code",
      "execution_count": null,
      "metadata": {},
      "outputs": [
        {
          "data": {
            "image/svg+xml": [
              "<?xml version=\"1.0\" encoding=\"UTF-8\" standalone=\"no\"?>\n",
              "<!DOCTYPE svg PUBLIC \"-//W3C//DTD SVG 1.1//EN\"\n",
              " \"http://www.w3.org/Graphics/SVG/1.1/DTD/svg11.dtd\">\n",
              "<!-- Generated by graphviz version 2.43.0 (0)\n",
              " -->\n",
              "<!-- Title: %3 Pages: 1 -->\n",
              "<svg width=\"609pt\" height=\"106pt\"\n",
              " viewBox=\"0.00 0.00 608.58 106.00\" xmlns=\"http://www.w3.org/2000/svg\" xmlns:xlink=\"http://www.w3.org/1999/xlink\">\n",
              "<g id=\"graph0\" class=\"graph\" transform=\"scale(1 1) rotate(0) translate(4 102)\">\n",
              "<title>%3</title>\n",
              "<polygon fill=\"white\" stroke=\"transparent\" points=\"-4,4 -4,-102 604.58,-102 604.58,4 -4,4\"/>\n",
              "<!-- 139781532712736 -->\n",
              "<g id=\"node1\" class=\"node\">\n",
              "<title>139781532712736</title>\n",
              "</g>\n",
              "<!-- 2966880225785524598 -->\n",
              "<g id=\"node2\" class=\"node\">\n",
              "<title>2966880225785524598</title>\n",
              "<ellipse fill=\"none\" stroke=\"black\" cx=\"118\" cy=\"-18\" rx=\"27\" ry=\"18\"/>\n",
              "<text text-anchor=\"middle\" x=\"118\" y=\"-14.3\" font-family=\"Times,serif\" font-size=\"14.00\">{S}</text>\n",
              "</g>\n",
              "<!-- 139781532712736&#45;&gt;2966880225785524598 -->\n",
              "<g id=\"edge1\" class=\"edge\">\n",
              "<title>139781532712736&#45;&gt;2966880225785524598</title>\n",
              "<path fill=\"none\" stroke=\"black\" d=\"M54.22,-18C62.55,-18 71.91,-18 80.82,-18\"/>\n",
              "<polygon fill=\"black\" stroke=\"black\" points=\"80.97,-21.5 90.97,-18 80.97,-14.5 80.97,-21.5\"/>\n",
              "</g>\n",
              "<!-- &#45;5630979244715718171 -->\n",
              "<g id=\"node3\" class=\"node\">\n",
              "<title>&#45;5630979244715718171</title>\n",
              "<ellipse fill=\"none\" stroke=\"black\" cx=\"224.4\" cy=\"-18\" rx=\"36.29\" ry=\"18\"/>\n",
              "<text text-anchor=\"middle\" x=\"224.4\" y=\"-14.3\" font-family=\"Times,serif\" font-size=\"14.00\">{A, B}</text>\n",
              "</g>\n",
              "<!-- 2966880225785524598&#45;&gt;&#45;5630979244715718171 -->\n",
              "<g id=\"edge2\" class=\"edge\">\n",
              "<title>2966880225785524598&#45;&gt;&#45;5630979244715718171</title>\n",
              "<path fill=\"none\" stroke=\"black\" d=\"M145.07,-18C154.97,-18 166.55,-18 177.73,-18\"/>\n",
              "<polygon fill=\"black\" stroke=\"black\" points=\"177.82,-21.5 187.82,-18 177.82,-14.5 177.82,-21.5\"/>\n",
              "<text text-anchor=\"middle\" x=\"166.5\" y=\"-21.8\" font-family=\"Times,serif\" font-size=\"14.00\">a</text>\n",
              "</g>\n",
              "<!-- 1360051857595003240 -->\n",
              "<g id=\"node4\" class=\"node\">\n",
              "<title>1360051857595003240</title>\n",
              "<ellipse fill=\"none\" stroke=\"black\" cx=\"340.19\" cy=\"-63\" rx=\"36.29\" ry=\"18\"/>\n",
              "<text text-anchor=\"middle\" x=\"340.19\" y=\"-59.3\" font-family=\"Times,serif\" font-size=\"14.00\">{A, C}</text>\n",
              "</g>\n",
              "<!-- &#45;5630979244715718171&#45;&gt;1360051857595003240 -->\n",
              "<g id=\"edge3\" class=\"edge\">\n",
              "<title>&#45;5630979244715718171&#45;&gt;1360051857595003240</title>\n",
              "<path fill=\"none\" stroke=\"black\" d=\"M253.23,-29.01C267.84,-34.78 285.93,-41.94 301.75,-48.19\"/>\n",
              "<polygon fill=\"black\" stroke=\"black\" points=\"300.66,-51.53 311.25,-51.95 303.23,-45.02 300.66,-51.53\"/>\n",
              "<text text-anchor=\"middle\" x=\"282.29\" y=\"-44.8\" font-family=\"Times,serif\" font-size=\"14.00\">c</text>\n",
              "</g>\n",
              "<!-- &#45;7060775899147248596 -->\n",
              "<g id=\"node5\" class=\"node\">\n",
              "<title>&#45;7060775899147248596</title>\n",
              "<ellipse fill=\"none\" stroke=\"black\" cx=\"455.98\" cy=\"-42\" rx=\"36.29\" ry=\"18\"/>\n",
              "<text text-anchor=\"middle\" x=\"455.98\" y=\"-38.3\" font-family=\"Times,serif\" font-size=\"14.00\">{B, C}</text>\n",
              "</g>\n",
              "<!-- &#45;5630979244715718171&#45;&gt;&#45;7060775899147248596 -->\n",
              "<g id=\"edge4\" class=\"edge\">\n",
              "<title>&#45;5630979244715718171&#45;&gt;&#45;7060775899147248596</title>\n",
              "<path fill=\"none\" stroke=\"black\" d=\"M260.69,-16.56C291.43,-15.81 337.14,-15.93 376.59,-21 387.92,-22.46 390.53,-24.12 401.59,-27 405.73,-28.08 410.04,-29.23 414.34,-30.41\"/>\n",
              "<polygon fill=\"black\" stroke=\"black\" points=\"413.69,-33.86 424.26,-33.15 415.56,-27.11 413.69,-33.86\"/>\n",
              "<text text-anchor=\"middle\" x=\"340.19\" y=\"-24.8\" font-family=\"Times,serif\" font-size=\"14.00\">b</text>\n",
              "</g>\n",
              "<!-- 1360051857595003240&#45;&gt;&#45;7060775899147248596 -->\n",
              "<g id=\"edge5\" class=\"edge\">\n",
              "<title>1360051857595003240&#45;&gt;&#45;7060775899147248596</title>\n",
              "<path fill=\"none\" stroke=\"black\" d=\"M374.72,-56.81C386.29,-54.68 399.43,-52.25 411.67,-49.99\"/>\n",
              "<polygon fill=\"black\" stroke=\"black\" points=\"412.5,-53.4 421.7,-48.14 411.23,-46.52 412.5,-53.4\"/>\n",
              "<text text-anchor=\"middle\" x=\"398.09\" y=\"-56.8\" font-family=\"Times,serif\" font-size=\"14.00\">b</text>\n",
              "</g>\n",
              "<!-- 4060367036006376857 -->\n",
              "<g id=\"node6\" class=\"node\">\n",
              "<title>4060367036006376857</title>\n",
              "<ellipse fill=\"none\" stroke=\"black\" cx=\"567.98\" cy=\"-76\" rx=\"28.68\" ry=\"18\"/>\n",
              "<ellipse fill=\"none\" stroke=\"black\" cx=\"567.98\" cy=\"-76\" rx=\"32.7\" ry=\"22\"/>\n",
              "<text text-anchor=\"middle\" x=\"567.98\" y=\"-72.3\" font-family=\"Times,serif\" font-size=\"14.00\">{◇}</text>\n",
              "</g>\n",
              "<!-- 1360051857595003240&#45;&gt;4060367036006376857 -->\n",
              "<g id=\"edge6\" class=\"edge\">\n",
              "<title>1360051857595003240&#45;&gt;4060367036006376857</title>\n",
              "<path fill=\"none\" stroke=\"black\" d=\"M374.44,-69.17C381.09,-70.24 388.05,-71.25 394.59,-72 448.9,-78.2 462.74,-80.65 517.38,-79 519.95,-78.92 522.58,-78.82 525.25,-78.71\"/>\n",
              "<polygon fill=\"black\" stroke=\"black\" points=\"525.69,-82.19 535.51,-78.19 525.34,-75.2 525.69,-82.19\"/>\n",
              "<text text-anchor=\"middle\" x=\"455.98\" y=\"-82.8\" font-family=\"Times,serif\" font-size=\"14.00\">a</text>\n",
              "</g>\n",
              "<!-- &#45;7060775899147248596&#45;&gt;1360051857595003240 -->\n",
              "<g id=\"edge7\" class=\"edge\">\n",
              "<title>&#45;7060775899147248596&#45;&gt;1360051857595003240</title>\n",
              "<path fill=\"none\" stroke=\"black\" d=\"M425.55,-32.12C415.62,-30.11 404.54,-29.32 394.59,-32 386.03,-34.3 377.43,-38.35 369.71,-42.78\"/>\n",
              "<polygon fill=\"black\" stroke=\"black\" points=\"367.8,-39.85 361.11,-48.06 371.46,-45.81 367.8,-39.85\"/>\n",
              "<text text-anchor=\"middle\" x=\"398.09\" y=\"-35.8\" font-family=\"Times,serif\" font-size=\"14.00\">c</text>\n",
              "</g>\n",
              "<!-- &#45;7060775899147248596&#45;&gt;4060367036006376857 -->\n",
              "<g id=\"edge8\" class=\"edge\">\n",
              "<title>&#45;7060775899147248596&#45;&gt;4060367036006376857</title>\n",
              "<path fill=\"none\" stroke=\"black\" d=\"M487.33,-51.38C499.9,-55.27 514.63,-59.82 527.98,-63.95\"/>\n",
              "<polygon fill=\"black\" stroke=\"black\" points=\"527.28,-67.39 537.87,-67 529.35,-60.7 527.28,-67.39\"/>\n",
              "<text text-anchor=\"middle\" x=\"513.88\" y=\"-63.8\" font-family=\"Times,serif\" font-size=\"14.00\">a</text>\n",
              "</g>\n",
              "</g>\n",
              "</svg>\n"
            ],
            "text/plain": [
              "<liblet.display.StateTransitionGraph at 0x7f216c96c400>"
            ]
          },
          "execution_count": 1,
          "metadata": {},
          "output_type": "execute_result"
        }
      ],
      "source": [
        "StateTransitionGraph.from_automaton(As, False)"
      ]
    },
    {
      "cell_type": "code",
      "execution_count": null,
      "metadata": {},
      "outputs": [
        {
          "data": {
            "image/svg+xml": [
              "<?xml version=\"1.0\" encoding=\"UTF-8\" standalone=\"no\"?>\n",
              "<!DOCTYPE svg PUBLIC \"-//W3C//DTD SVG 1.1//EN\"\n",
              " \"http://www.w3.org/Graphics/SVG/1.1/DTD/svg11.dtd\">\n",
              "<!-- Generated by graphviz version 2.43.0 (0)\n",
              " -->\n",
              "<!-- Title: %3 Pages: 1 -->\n",
              "<svg width=\"549pt\" height=\"106pt\"\n",
              " viewBox=\"0.00 0.00 549.00 106.00\" xmlns=\"http://www.w3.org/2000/svg\" xmlns:xlink=\"http://www.w3.org/1999/xlink\">\n",
              "<g id=\"graph0\" class=\"graph\" transform=\"scale(1 1) rotate(0) translate(4 102)\">\n",
              "<title>%3</title>\n",
              "<polygon fill=\"white\" stroke=\"transparent\" points=\"-4,4 -4,-102 545,-102 545,4 -4,4\"/>\n",
              "<!-- 139781656769520 -->\n",
              "<g id=\"node1\" class=\"node\">\n",
              "<title>139781656769520</title>\n",
              "</g>\n",
              "<!-- 8949235048324792829 -->\n",
              "<g id=\"node2\" class=\"node\">\n",
              "<title>8949235048324792829</title>\n",
              "<ellipse fill=\"none\" stroke=\"black\" cx=\"118\" cy=\"-18\" rx=\"27\" ry=\"18\"/>\n",
              "<text text-anchor=\"middle\" x=\"118\" y=\"-14.3\" font-family=\"Times,serif\" font-size=\"14.00\">S</text>\n",
              "</g>\n",
              "<!-- 139781656769520&#45;&gt;8949235048324792829 -->\n",
              "<g id=\"edge1\" class=\"edge\">\n",
              "<title>139781656769520&#45;&gt;8949235048324792829</title>\n",
              "<path fill=\"none\" stroke=\"black\" d=\"M54.22,-18C62.55,-18 71.91,-18 80.82,-18\"/>\n",
              "<polygon fill=\"black\" stroke=\"black\" points=\"80.97,-21.5 90.97,-18 80.97,-14.5 80.97,-21.5\"/>\n",
              "</g>\n",
              "<!-- &#45;8313687833130335082 -->\n",
              "<g id=\"node3\" class=\"node\">\n",
              "<title>&#45;8313687833130335082</title>\n",
              "<ellipse fill=\"none\" stroke=\"black\" cx=\"215\" cy=\"-18\" rx=\"27\" ry=\"18\"/>\n",
              "<text text-anchor=\"middle\" x=\"215\" y=\"-14.3\" font-family=\"Times,serif\" font-size=\"14.00\">A B</text>\n",
              "</g>\n",
              "<!-- 8949235048324792829&#45;&gt;&#45;8313687833130335082 -->\n",
              "<g id=\"edge2\" class=\"edge\">\n",
              "<title>8949235048324792829&#45;&gt;&#45;8313687833130335082</title>\n",
              "<path fill=\"none\" stroke=\"black\" d=\"M145.21,-18C155.28,-18 166.96,-18 177.81,-18\"/>\n",
              "<polygon fill=\"black\" stroke=\"black\" points=\"177.87,-21.5 187.87,-18 177.87,-14.5 177.87,-21.5\"/>\n",
              "<text text-anchor=\"middle\" x=\"166.5\" y=\"-21.8\" font-family=\"Times,serif\" font-size=\"14.00\">a</text>\n",
              "</g>\n",
              "<!-- &#45;4590823099303762943 -->\n",
              "<g id=\"node4\" class=\"node\">\n",
              "<title>&#45;4590823099303762943</title>\n",
              "<ellipse fill=\"none\" stroke=\"black\" cx=\"312\" cy=\"-63\" rx=\"27\" ry=\"18\"/>\n",
              "<text text-anchor=\"middle\" x=\"312\" y=\"-59.3\" font-family=\"Times,serif\" font-size=\"14.00\">A C</text>\n",
              "</g>\n",
              "<!-- &#45;8313687833130335082&#45;&gt;&#45;4590823099303762943 -->\n",
              "<g id=\"edge3\" class=\"edge\">\n",
              "<title>&#45;8313687833130335082&#45;&gt;&#45;4590823099303762943</title>\n",
              "<path fill=\"none\" stroke=\"black\" d=\"M237.56,-28.21C250.19,-34.19 266.35,-41.85 280.3,-48.46\"/>\n",
              "<polygon fill=\"black\" stroke=\"black\" points=\"278.99,-51.71 289.53,-52.83 281.99,-45.39 278.99,-51.71\"/>\n",
              "<text text-anchor=\"middle\" x=\"263.5\" y=\"-44.8\" font-family=\"Times,serif\" font-size=\"14.00\">c</text>\n",
              "</g>\n",
              "<!-- 2080080250226565211 -->\n",
              "<g id=\"node5\" class=\"node\">\n",
              "<title>2080080250226565211</title>\n",
              "<ellipse fill=\"none\" stroke=\"black\" cx=\"409\" cy=\"-42\" rx=\"27\" ry=\"18\"/>\n",
              "<text text-anchor=\"middle\" x=\"409\" y=\"-38.3\" font-family=\"Times,serif\" font-size=\"14.00\">B C</text>\n",
              "</g>\n",
              "<!-- &#45;8313687833130335082&#45;&gt;2080080250226565211 -->\n",
              "<g id=\"edge4\" class=\"edge\">\n",
              "<title>&#45;8313687833130335082&#45;&gt;2080080250226565211</title>\n",
              "<path fill=\"none\" stroke=\"black\" d=\"M242.04,-17.05C267.02,-16.51 305.75,-16.65 339,-21 350.33,-22.48 353.02,-23.82 364,-27 367.62,-28.05 371.39,-29.22 375.13,-30.42\"/>\n",
              "<polygon fill=\"black\" stroke=\"black\" points=\"374.24,-33.82 384.84,-33.65 376.45,-27.17 374.24,-33.82\"/>\n",
              "<text text-anchor=\"middle\" x=\"312\" y=\"-24.8\" font-family=\"Times,serif\" font-size=\"14.00\">b</text>\n",
              "</g>\n",
              "<!-- &#45;4590823099303762943&#45;&gt;2080080250226565211 -->\n",
              "<g id=\"edge5\" class=\"edge\">\n",
              "<title>&#45;4590823099303762943&#45;&gt;2080080250226565211</title>\n",
              "<path fill=\"none\" stroke=\"black\" d=\"M337.96,-57.48C348.76,-55.1 361.58,-52.26 373.29,-49.67\"/>\n",
              "<polygon fill=\"black\" stroke=\"black\" points=\"374.2,-53.06 383.21,-47.48 372.69,-46.22 374.2,-53.06\"/>\n",
              "<text text-anchor=\"middle\" x=\"360.5\" y=\"-56.8\" font-family=\"Times,serif\" font-size=\"14.00\">b</text>\n",
              "</g>\n",
              "<!-- 6527113640901237733 -->\n",
              "<g id=\"node6\" class=\"node\">\n",
              "<title>6527113640901237733</title>\n",
              "<ellipse fill=\"none\" stroke=\"black\" cx=\"510\" cy=\"-76\" rx=\"27\" ry=\"18\"/>\n",
              "<ellipse fill=\"none\" stroke=\"black\" cx=\"510\" cy=\"-76\" rx=\"31\" ry=\"22\"/>\n",
              "<text text-anchor=\"middle\" x=\"510\" y=\"-72.3\" font-family=\"Times,serif\" font-size=\"14.00\">◇</text>\n",
              "</g>\n",
              "<!-- &#45;4590823099303762943&#45;&gt;6527113640901237733 -->\n",
              "<g id=\"edge6\" class=\"edge\">\n",
              "<title>&#45;4590823099303762943&#45;&gt;6527113640901237733</title>\n",
              "<path fill=\"none\" stroke=\"black\" d=\"M338.03,-68.75C344.2,-69.99 350.82,-71.18 357,-72 402.9,-78.08 414.71,-78.96 461,-78 463.55,-77.95 466.18,-77.88 468.83,-77.8\"/>\n",
              "<polygon fill=\"black\" stroke=\"black\" points=\"469.18,-81.29 479.05,-77.44 468.93,-74.29 469.18,-81.29\"/>\n",
              "<text text-anchor=\"middle\" x=\"409\" y=\"-81.8\" font-family=\"Times,serif\" font-size=\"14.00\">a</text>\n",
              "</g>\n",
              "<!-- 2080080250226565211&#45;&gt;&#45;4590823099303762943 -->\n",
              "<g id=\"edge7\" class=\"edge\">\n",
              "<title>2080080250226565211&#45;&gt;&#45;4590823099303762943</title>\n",
              "<path fill=\"none\" stroke=\"black\" d=\"M385.63,-32.82C376.62,-30.35 366.2,-29.08 357,-32 349.77,-34.29 342.71,-38.24 336.43,-42.57\"/>\n",
              "<polygon fill=\"black\" stroke=\"black\" points=\"334.31,-39.79 328.41,-48.59 338.51,-45.39 334.31,-39.79\"/>\n",
              "<text text-anchor=\"middle\" x=\"360.5\" y=\"-35.8\" font-family=\"Times,serif\" font-size=\"14.00\">c</text>\n",
              "</g>\n",
              "<!-- 2080080250226565211&#45;&gt;6527113640901237733 -->\n",
              "<g id=\"edge8\" class=\"edge\">\n",
              "<title>2080080250226565211&#45;&gt;6527113640901237733</title>\n",
              "<path fill=\"none\" stroke=\"black\" d=\"M433.21,-49.97C444.78,-53.94 459.04,-58.84 472.07,-63.32\"/>\n",
              "<polygon fill=\"black\" stroke=\"black\" points=\"471.12,-66.69 481.72,-66.63 473.4,-60.07 471.12,-66.69\"/>\n",
              "<text text-anchor=\"middle\" x=\"457.5\" y=\"-62.8\" font-family=\"Times,serif\" font-size=\"14.00\">a</text>\n",
              "</g>\n",
              "</g>\n",
              "</svg>\n"
            ],
            "text/plain": [
              "<liblet.display.StateTransitionGraph at 0x7f216c96c610>"
            ]
          },
          "execution_count": 1,
          "metadata": {},
          "output_type": "execute_result"
        }
      ],
      "source": [
        "StateTransitionGraph.from_automaton(As)"
      ]
    },
    {
      "cell_type": "markdown",
      "metadata": {},
      "source": [
        "#### Rappresentazione tabellare dell'automa"
      ]
    },
    {
      "cell_type": "code",
      "execution_count": null,
      "metadata": {},
      "outputs": [
        {
          "data": {
            "text/html": [
              "<style>td, th {border: 1pt solid lightgray !important ;}</style><table><tr><td>&nbsp;<th style=\"text-align:left\">a<th style=\"text-align:left\">b<th style=\"text-align:left\">c\n",
              "<tr><th style=\"text-align:left\"><pre>AB</pre><td style=\"text-align:left\"><pre></pre><td style=\"text-align:left\"><pre>BC</pre><td style=\"text-align:left\"><pre>AC</pre>\n",
              "<tr><th style=\"text-align:left\"><pre>AC</pre><td style=\"text-align:left\"><pre>◇</pre><td style=\"text-align:left\"><pre>BC</pre><td style=\"text-align:left\"><pre></pre>\n",
              "<tr><th style=\"text-align:left\"><pre>BC</pre><td style=\"text-align:left\"><pre>◇</pre><td style=\"text-align:left\"><pre></pre><td style=\"text-align:left\"><pre>AC</pre>\n",
              "<tr><th style=\"text-align:left\"><pre>S</pre><td style=\"text-align:left\"><pre>AB</pre><td style=\"text-align:left\"><pre></pre><td style=\"text-align:left\"><pre></pre>\n",
              "</table>"
            ],
            "text/plain": [
              "<IPython.core.display.HTML object>"
            ]
          },
          "execution_count": 1,
          "metadata": {},
          "output_type": "execute_result"
        }
      ],
      "source": [
        "dod = {}\n",
        "for Xs in As.N - {frozenset('◇')}:\n",
        "    dod[''.join(sorted(Xs))] = {t: ''.join(sorted(next(iter(As.δ(Xs, t)), ''))) for t in sorted(As.T)}\n",
        "\n",
        "dod2table(dod)        "
      ]
    },
    {
      "cell_type": "markdown",
      "metadata": {},
      "source": [
        "### Con le ε-transizioni (Sez. 5.3.2)"
      ]
    },
    {
      "cell_type": "code",
      "execution_count": null,
      "metadata": {},
      "outputs": [
        {
          "data": {
            "text/plain": [
              "Automaton(N={A, B, S, ◇}, T={a, b}, transitions=(S-ε->A, S-a->B, A-a->A, A-ε->◇, B-b->B, B-b->◇), F={◇}, q0=S)"
            ]
          },
          "execution_count": 1,
          "metadata": {},
          "output_type": "execute_result"
        }
      ],
      "source": [
        "# fig. 5.14, pag. 147\n",
        "\n",
        "A = Automaton.from_grammar(Grammar.from_string(\"\"\"\n",
        "S -> A\n",
        "S -> a B\n",
        "A -> a A\n",
        "A -> ε\n",
        "B -> b B\n",
        "B -> b\n",
        "\"\"\"))\n",
        "A"
      ]
    },
    {
      "cell_type": "code",
      "execution_count": null,
      "metadata": {},
      "outputs": [
        {
          "data": {
            "image/svg+xml": [
              "<?xml version=\"1.0\" encoding=\"UTF-8\" standalone=\"no\"?>\n",
              "<!DOCTYPE svg PUBLIC \"-//W3C//DTD SVG 1.1//EN\"\n",
              " \"http://www.w3.org/Graphics/SVG/1.1/DTD/svg11.dtd\">\n",
              "<!-- Generated by graphviz version 2.43.0 (0)\n",
              " -->\n",
              "<!-- Title: %3 Pages: 1 -->\n",
              "<svg width=\"355pt\" height=\"164pt\"\n",
              " viewBox=\"0.00 0.00 355.00 164.00\" xmlns=\"http://www.w3.org/2000/svg\" xmlns:xlink=\"http://www.w3.org/1999/xlink\">\n",
              "<g id=\"graph0\" class=\"graph\" transform=\"scale(1 1) rotate(0) translate(4 160)\">\n",
              "<title>%3</title>\n",
              "<polygon fill=\"white\" stroke=\"transparent\" points=\"-4,4 -4,-160 351,-160 351,4 -4,4\"/>\n",
              "<!-- 139781656769520 -->\n",
              "<g id=\"node1\" class=\"node\">\n",
              "<title>139781656769520</title>\n",
              "</g>\n",
              "<!-- 8949235048324792829 -->\n",
              "<g id=\"node2\" class=\"node\">\n",
              "<title>8949235048324792829</title>\n",
              "<ellipse fill=\"none\" stroke=\"black\" cx=\"118\" cy=\"-61\" rx=\"27\" ry=\"18\"/>\n",
              "<text text-anchor=\"middle\" x=\"118\" y=\"-57.3\" font-family=\"Times,serif\" font-size=\"14.00\">S</text>\n",
              "</g>\n",
              "<!-- 139781656769520&#45;&gt;8949235048324792829 -->\n",
              "<g id=\"edge1\" class=\"edge\">\n",
              "<title>139781656769520&#45;&gt;8949235048324792829</title>\n",
              "<path fill=\"none\" stroke=\"black\" d=\"M54.22,-61C62.55,-61 71.91,-61 80.82,-61\"/>\n",
              "<polygon fill=\"black\" stroke=\"black\" points=\"80.97,-64.5 90.97,-61 80.97,-57.5 80.97,-64.5\"/>\n",
              "</g>\n",
              "<!-- 7947626035904166934 -->\n",
              "<g id=\"node3\" class=\"node\">\n",
              "<title>7947626035904166934</title>\n",
              "<ellipse fill=\"none\" stroke=\"black\" cx=\"215\" cy=\"-105\" rx=\"27\" ry=\"18\"/>\n",
              "<text text-anchor=\"middle\" x=\"215\" y=\"-101.3\" font-family=\"Times,serif\" font-size=\"14.00\">A</text>\n",
              "</g>\n",
              "<!-- 8949235048324792829&#45;&gt;7947626035904166934 -->\n",
              "<g id=\"edge2\" class=\"edge\">\n",
              "<title>8949235048324792829&#45;&gt;7947626035904166934</title>\n",
              "<path fill=\"none\" stroke=\"black\" d=\"M140.56,-70.98C153.1,-76.79 169.13,-84.22 183,-90.64\"/>\n",
              "<polygon fill=\"black\" stroke=\"black\" points=\"181.65,-93.88 192.2,-94.9 184.6,-87.52 181.65,-93.88\"/>\n",
              "<text text-anchor=\"middle\" x=\"166.5\" y=\"-87.8\" font-family=\"Times,serif\" font-size=\"14.00\">ε</text>\n",
              "</g>\n",
              "<!-- &#45;5852521631547481399 -->\n",
              "<g id=\"node4\" class=\"node\">\n",
              "<title>&#45;5852521631547481399</title>\n",
              "<ellipse fill=\"none\" stroke=\"black\" cx=\"215\" cy=\"-18\" rx=\"27\" ry=\"18\"/>\n",
              "<text text-anchor=\"middle\" x=\"215\" y=\"-14.3\" font-family=\"Times,serif\" font-size=\"14.00\">B</text>\n",
              "</g>\n",
              "<!-- 8949235048324792829&#45;&gt;&#45;5852521631547481399 -->\n",
              "<g id=\"edge3\" class=\"edge\">\n",
              "<title>8949235048324792829&#45;&gt;&#45;5852521631547481399</title>\n",
              "<path fill=\"none\" stroke=\"black\" d=\"M141.03,-51.03C153.38,-45.44 168.99,-38.37 182.6,-32.21\"/>\n",
              "<polygon fill=\"black\" stroke=\"black\" points=\"184.42,-35.23 192.09,-27.92 181.53,-28.85 184.42,-35.23\"/>\n",
              "<text text-anchor=\"middle\" x=\"166.5\" y=\"-43.8\" font-family=\"Times,serif\" font-size=\"14.00\">a</text>\n",
              "</g>\n",
              "<!-- 7947626035904166934&#45;&gt;7947626035904166934 -->\n",
              "<g id=\"edge4\" class=\"edge\">\n",
              "<title>7947626035904166934&#45;&gt;7947626035904166934</title>\n",
              "<path fill=\"none\" stroke=\"black\" d=\"M206.43,-122.41C204.83,-132.09 207.69,-141 215,-141 219.57,-141 222.4,-137.52 223.49,-132.54\"/>\n",
              "<polygon fill=\"black\" stroke=\"black\" points=\"226.99,-132.44 223.57,-122.41 219.99,-132.38 226.99,-132.44\"/>\n",
              "<text text-anchor=\"middle\" x=\"215\" y=\"-144.8\" font-family=\"Times,serif\" font-size=\"14.00\">a</text>\n",
              "</g>\n",
              "<!-- 6527113640901237733 -->\n",
              "<g id=\"node5\" class=\"node\">\n",
              "<title>6527113640901237733</title>\n",
              "<ellipse fill=\"none\" stroke=\"black\" cx=\"316\" cy=\"-61\" rx=\"27\" ry=\"18\"/>\n",
              "<ellipse fill=\"none\" stroke=\"black\" cx=\"316\" cy=\"-61\" rx=\"31\" ry=\"22\"/>\n",
              "<text text-anchor=\"middle\" x=\"316\" y=\"-57.3\" font-family=\"Times,serif\" font-size=\"14.00\">◇</text>\n",
              "</g>\n",
              "<!-- 7947626035904166934&#45;&gt;6527113640901237733 -->\n",
              "<g id=\"edge5\" class=\"edge\">\n",
              "<title>7947626035904166934&#45;&gt;6527113640901237733</title>\n",
              "<path fill=\"none\" stroke=\"black\" d=\"M237.97,-95.23C250.28,-89.76 265.93,-82.81 279.89,-76.6\"/>\n",
              "<polygon fill=\"black\" stroke=\"black\" points=\"281.52,-79.71 289.24,-72.45 278.68,-73.31 281.52,-79.71\"/>\n",
              "<text text-anchor=\"middle\" x=\"263.5\" y=\"-87.8\" font-family=\"Times,serif\" font-size=\"14.00\">ε</text>\n",
              "</g>\n",
              "<!-- &#45;5852521631547481399&#45;&gt;&#45;5852521631547481399 -->\n",
              "<g id=\"edge6\" class=\"edge\">\n",
              "<title>&#45;5852521631547481399&#45;&gt;&#45;5852521631547481399</title>\n",
              "<path fill=\"none\" stroke=\"black\" d=\"M206.43,-35.41C204.83,-45.09 207.69,-54 215,-54 219.57,-54 222.4,-50.52 223.49,-45.54\"/>\n",
              "<polygon fill=\"black\" stroke=\"black\" points=\"226.99,-45.44 223.57,-35.41 219.99,-45.38 226.99,-45.44\"/>\n",
              "<text text-anchor=\"middle\" x=\"215\" y=\"-57.8\" font-family=\"Times,serif\" font-size=\"14.00\">b</text>\n",
              "</g>\n",
              "<!-- &#45;5852521631547481399&#45;&gt;6527113640901237733 -->\n",
              "<g id=\"edge7\" class=\"edge\">\n",
              "<title>&#45;5852521631547481399&#45;&gt;6527113640901237733</title>\n",
              "<path fill=\"none\" stroke=\"black\" d=\"M237.97,-27.54C250.28,-32.89 265.93,-39.68 279.89,-45.75\"/>\n",
              "<polygon fill=\"black\" stroke=\"black\" points=\"278.67,-49.04 289.24,-49.81 281.46,-42.62 278.67,-49.04\"/>\n",
              "<text text-anchor=\"middle\" x=\"263.5\" y=\"-42.8\" font-family=\"Times,serif\" font-size=\"14.00\">b</text>\n",
              "</g>\n",
              "</g>\n",
              "</svg>\n"
            ],
            "text/plain": [
              "<liblet.display.StateTransitionGraph at 0x7f216d431a00>"
            ]
          },
          "execution_count": 1,
          "metadata": {},
          "output_type": "execute_result"
        }
      ],
      "source": [
        "StateTransitionGraph.from_automaton(A)"
      ]
    },
    {
      "cell_type": "code",
      "execution_count": null,
      "metadata": {},
      "outputs": [
        {
          "data": {
            "text/plain": [
              "{'A', 'S', '◇'}"
            ]
          },
          "execution_count": 1,
          "metadata": {},
          "output_type": "execute_result"
        }
      ],
      "source": [
        "@closure\n",
        "def ε_closure(S, A):\n",
        "    return S | {Y for X, x, Y in A.transitions if x == 'ε' and X in S}\n",
        "\n",
        "ε_closure({'S'}, A)"
      ]
    },
    {
      "cell_type": "code",
      "execution_count": null,
      "metadata": {},
      "outputs": [
        {
          "data": {
            "text/plain": [
              "Automaton(N={{A, B, ◇}, {A, S, ◇}, {A, ◇}, {B, ◇}}, T={a, b}, transitions=({A, S, ◇}-a->{A, B, ◇}, {A, B, ◇}-b->{B, ◇}, {A, B, ◇}-a->{A, ◇}, {B, ◇}-b->{B, ◇}, {A, ◇}-a->{A, ◇}), F={{A, B, ◇}, {A, S, ◇}, {A, ◇}, {B, ◇}}, q0={A, S, ◇})"
            ]
          },
          "execution_count": 1,
          "metadata": {},
          "output_type": "execute_result"
        }
      ],
      "source": [
        "Ns = set()\n",
        "Ts = A.T\n",
        "Ss = ε_closure(frozenset(A.q0), A)\n",
        "\n",
        "transitions = []\n",
        "\n",
        "q = Queue([Ss])\n",
        "while q:\n",
        "    Xs = q.dequeue()\n",
        "    if Xs in Ns: continue\n",
        "    for t in Ts:\n",
        "        Ys = ε_closure(frozenset(union_of(A.δ(X, t) for X in Xs)), A)\n",
        "        if Ys: \n",
        "            transitions.append(Transition(Xs, t, Ys))\n",
        "            q.enqueue(Ys)\n",
        "    Ns.add(Xs)\n",
        "\n",
        "Fs = {Xs for Xs in Ns if A.F & Xs}\n",
        "\n",
        "As = Automaton(Ns, Ts, transitions, Ss, Fs)\n",
        "As"
      ]
    },
    {
      "cell_type": "code",
      "execution_count": null,
      "metadata": {},
      "outputs": [
        {
          "data": {
            "image/svg+xml": [
              "<?xml version=\"1.0\" encoding=\"UTF-8\" standalone=\"no\"?>\n",
              "<!DOCTYPE svg PUBLIC \"-//W3C//DTD SVG 1.1//EN\"\n",
              " \"http://www.w3.org/Graphics/SVG/1.1/DTD/svg11.dtd\">\n",
              "<!-- Generated by graphviz version 2.43.0 (0)\n",
              " -->\n",
              "<!-- Title: %3 Pages: 1 -->\n",
              "<svg width=\"394pt\" height=\"180pt\"\n",
              " viewBox=\"0.00 0.00 394.29 180.00\" xmlns=\"http://www.w3.org/2000/svg\" xmlns:xlink=\"http://www.w3.org/1999/xlink\">\n",
              "<g id=\"graph0\" class=\"graph\" transform=\"scale(1 1) rotate(0) translate(4 176)\">\n",
              "<title>%3</title>\n",
              "<polygon fill=\"white\" stroke=\"transparent\" points=\"-4,4 -4,-176 390.29,-176 390.29,4 -4,4\"/>\n",
              "<!-- 139781532578128 -->\n",
              "<g id=\"node1\" class=\"node\">\n",
              "<title>139781532578128</title>\n",
              "</g>\n",
              "<!-- 3799365852232894827 -->\n",
              "<g id=\"node2\" class=\"node\">\n",
              "<title>3799365852232894827</title>\n",
              "<ellipse fill=\"none\" stroke=\"black\" cx=\"127.5\" cy=\"-69\" rx=\"32.49\" ry=\"18\"/>\n",
              "<ellipse fill=\"none\" stroke=\"black\" cx=\"127.5\" cy=\"-69\" rx=\"36.49\" ry=\"22\"/>\n",
              "<text text-anchor=\"middle\" x=\"127.5\" y=\"-65.3\" font-family=\"Times,serif\" font-size=\"14.00\">A S ◇</text>\n",
              "</g>\n",
              "<!-- 139781532578128&#45;&gt;3799365852232894827 -->\n",
              "<g id=\"edge1\" class=\"edge\">\n",
              "<title>139781532578128&#45;&gt;3799365852232894827</title>\n",
              "<path fill=\"none\" stroke=\"black\" d=\"M54.14,-69C62.34,-69 71.64,-69 80.78,-69\"/>\n",
              "<polygon fill=\"black\" stroke=\"black\" points=\"80.96,-72.5 90.96,-69 80.96,-65.5 80.96,-72.5\"/>\n",
              "</g>\n",
              "<!-- &#45;6308156777304163420 -->\n",
              "<g id=\"node3\" class=\"node\">\n",
              "<title>&#45;6308156777304163420</title>\n",
              "<ellipse fill=\"none\" stroke=\"black\" cx=\"244.14\" cy=\"-69\" rx=\"33.28\" ry=\"18\"/>\n",
              "<ellipse fill=\"none\" stroke=\"black\" cx=\"244.14\" cy=\"-69\" rx=\"37.29\" ry=\"22\"/>\n",
              "<text text-anchor=\"middle\" x=\"244.14\" y=\"-65.3\" font-family=\"Times,serif\" font-size=\"14.00\">A B ◇</text>\n",
              "</g>\n",
              "<!-- 3799365852232894827&#45;&gt;&#45;6308156777304163420 -->\n",
              "<g id=\"edge2\" class=\"edge\">\n",
              "<title>3799365852232894827&#45;&gt;&#45;6308156777304163420</title>\n",
              "<path fill=\"none\" stroke=\"black\" d=\"M164.14,-69C174.4,-69 185.75,-69 196.57,-69\"/>\n",
              "<polygon fill=\"black\" stroke=\"black\" points=\"196.73,-72.5 206.73,-69 196.73,-65.5 196.73,-72.5\"/>\n",
              "<text text-anchor=\"middle\" x=\"185.49\" y=\"-72.8\" font-family=\"Times,serif\" font-size=\"14.00\">a</text>\n",
              "</g>\n",
              "<!-- 6565210061014101852 -->\n",
              "<g id=\"node4\" class=\"node\">\n",
              "<title>6565210061014101852</title>\n",
              "<ellipse fill=\"none\" stroke=\"black\" cx=\"355.29\" cy=\"-117\" rx=\"27\" ry=\"18\"/>\n",
              "<ellipse fill=\"none\" stroke=\"black\" cx=\"355.29\" cy=\"-117\" rx=\"31\" ry=\"22\"/>\n",
              "<text text-anchor=\"middle\" x=\"355.29\" y=\"-113.3\" font-family=\"Times,serif\" font-size=\"14.00\">B ◇</text>\n",
              "</g>\n",
              "<!-- &#45;6308156777304163420&#45;&gt;6565210061014101852 -->\n",
              "<g id=\"edge3\" class=\"edge\">\n",
              "<title>&#45;6308156777304163420&#45;&gt;6565210061014101852</title>\n",
              "<path fill=\"none\" stroke=\"black\" d=\"M274.39,-81.86C288.04,-87.86 304.4,-95.06 318.75,-101.37\"/>\n",
              "<polygon fill=\"black\" stroke=\"black\" points=\"317.75,-104.75 328.31,-105.58 320.57,-98.35 317.75,-104.75\"/>\n",
              "<text text-anchor=\"middle\" x=\"302.79\" y=\"-98.8\" font-family=\"Times,serif\" font-size=\"14.00\">b</text>\n",
              "</g>\n",
              "<!-- &#45;4520876696684889210 -->\n",
              "<g id=\"node5\" class=\"node\">\n",
              "<title>&#45;4520876696684889210</title>\n",
              "<ellipse fill=\"none\" stroke=\"black\" cx=\"355.29\" cy=\"-22\" rx=\"27\" ry=\"18\"/>\n",
              "<ellipse fill=\"none\" stroke=\"black\" cx=\"355.29\" cy=\"-22\" rx=\"31\" ry=\"22\"/>\n",
              "<text text-anchor=\"middle\" x=\"355.29\" y=\"-18.3\" font-family=\"Times,serif\" font-size=\"14.00\">A ◇</text>\n",
              "</g>\n",
              "<!-- &#45;6308156777304163420&#45;&gt;&#45;4520876696684889210 -->\n",
              "<g id=\"edge4\" class=\"edge\">\n",
              "<title>&#45;6308156777304163420&#45;&gt;&#45;4520876696684889210</title>\n",
              "<path fill=\"none\" stroke=\"black\" d=\"M274.68,-56.28C288.32,-50.41 304.63,-43.38 318.93,-37.23\"/>\n",
              "<polygon fill=\"black\" stroke=\"black\" points=\"320.64,-40.3 328.44,-33.13 317.88,-33.87 320.64,-40.3\"/>\n",
              "<text text-anchor=\"middle\" x=\"302.79\" y=\"-48.8\" font-family=\"Times,serif\" font-size=\"14.00\">a</text>\n",
              "</g>\n",
              "<!-- 6565210061014101852&#45;&gt;6565210061014101852 -->\n",
              "<g id=\"edge5\" class=\"edge\">\n",
              "<title>6565210061014101852&#45;&gt;6565210061014101852</title>\n",
              "<path fill=\"none\" stroke=\"black\" d=\"M345.78,-137.99C344.6,-148.09 347.77,-157 355.29,-157 360.1,-157 363.13,-153.34 364.38,-148.06\"/>\n",
              "<polygon fill=\"black\" stroke=\"black\" points=\"367.88,-148.13 364.8,-137.99 360.89,-147.84 367.88,-148.13\"/>\n",
              "<text text-anchor=\"middle\" x=\"355.29\" y=\"-160.8\" font-family=\"Times,serif\" font-size=\"14.00\">b</text>\n",
              "</g>\n",
              "<!-- &#45;4520876696684889210&#45;&gt;&#45;4520876696684889210 -->\n",
              "<g id=\"edge6\" class=\"edge\">\n",
              "<title>&#45;4520876696684889210&#45;&gt;&#45;4520876696684889210</title>\n",
              "<path fill=\"none\" stroke=\"black\" d=\"M345.78,-42.99C344.6,-53.09 347.77,-62 355.29,-62 360.1,-62 363.13,-58.34 364.38,-53.06\"/>\n",
              "<polygon fill=\"black\" stroke=\"black\" points=\"367.88,-53.13 364.8,-42.99 360.89,-52.84 367.88,-53.13\"/>\n",
              "<text text-anchor=\"middle\" x=\"355.29\" y=\"-65.8\" font-family=\"Times,serif\" font-size=\"14.00\">a</text>\n",
              "</g>\n",
              "</g>\n",
              "</svg>\n"
            ],
            "text/plain": [
              "<liblet.display.StateTransitionGraph at 0x7f216c9898b0>"
            ]
          },
          "execution_count": 1,
          "metadata": {},
          "output_type": "execute_result"
        }
      ],
      "source": [
        "StateTransitionGraph.from_automaton(As)"
      ]
    },
    {
      "cell_type": "markdown",
      "metadata": {},
      "source": [
        "# Il modulo `re` per le espressioni regolari\n",
        "\n",
        "Sulla falsariga di [Regular Expression HOWTO](https://docs.python.org/3/howto/regex.html) e [Regular expression operations](https://docs.python.org/3/library/re.html) dalla documentazione ufficiale."
      ]
    },
    {
      "cell_type": "code",
      "execution_count": null,
      "metadata": {},
      "outputs": [],
      "source": [
        "import re"
      ]
    },
    {
      "cell_type": "markdown",
      "metadata": {},
      "source": [
        "## Uso di base"
      ]
    },
    {
      "cell_type": "code",
      "execution_count": null,
      "metadata": {},
      "outputs": [
        {
          "name": "stdout",
          "output_type": "stream",
          "text": [
            "a\\nb\n"
          ]
        }
      ],
      "source": [
        "# raw string (https://docs.python.org/3/reference/lexical_analysis.html#string-and-bytes-literals)\n",
        "\n",
        "print(r'a\\nb')"
      ]
    },
    {
      "cell_type": "code",
      "execution_count": null,
      "metadata": {},
      "outputs": [
        {
          "data": {
            "text/plain": [
              "<re.Match object; span=(0, 1), match='b'>"
            ]
          },
          "execution_count": 1,
          "metadata": {},
          "output_type": "execute_result"
        }
      ],
      "source": [
        "# uso diretto\n",
        "\n",
        "re.match(r'a|b', 'b')"
      ]
    },
    {
      "cell_type": "code",
      "execution_count": null,
      "metadata": {},
      "outputs": [
        {
          "data": {
            "text/plain": [
              "<re.Match object; span=(0, 1), match='b'>"
            ]
          },
          "execution_count": 1,
          "metadata": {},
          "output_type": "execute_result"
        }
      ],
      "source": [
        "# o pre-compilando il pattern\n",
        "\n",
        "p = re.compile(r'a|b')\n",
        "\n",
        "p.match('b')"
      ]
    },
    {
      "cell_type": "code",
      "execution_count": null,
      "metadata": {},
      "outputs": [
        {
          "data": {
            "text/plain": [
              "(None, None)"
            ]
          },
          "execution_count": 1,
          "metadata": {},
          "output_type": "execute_result"
        }
      ],
      "source": [
        "# differenza fullmatch/match/search\n",
        "\n",
        "p.fullmatch('xa'), p.fullmatch('ay')"
      ]
    },
    {
      "cell_type": "code",
      "execution_count": null,
      "metadata": {},
      "outputs": [
        {
          "data": {
            "text/plain": [
              "(None, <re.Match object; span=(0, 1), match='a'>)"
            ]
          },
          "execution_count": 1,
          "metadata": {},
          "output_type": "execute_result"
        }
      ],
      "source": [
        "p.match('xa'), p.match('ay')"
      ]
    },
    {
      "cell_type": "code",
      "execution_count": null,
      "metadata": {},
      "outputs": [
        {
          "data": {
            "text/plain": [
              "<re.Match object; span=(1, 2), match='a'>"
            ]
          },
          "execution_count": 1,
          "metadata": {},
          "output_type": "execute_result"
        }
      ],
      "source": [
        "p.search('xay')"
      ]
    },
    {
      "cell_type": "code",
      "execution_count": null,
      "metadata": {},
      "outputs": [
        {
          "data": {
            "text/plain": [
              "[<re.Match object; span=(1, 2), match='a'>,\n",
              " <re.Match object; span=(4, 5), match='a'>,\n",
              " <re.Match object; span=(6, 7), match='b'>,\n",
              " <re.Match object; span=(10, 11), match='a'>]"
            ]
          },
          "execution_count": 1,
          "metadata": {},
          "output_type": "execute_result"
        }
      ],
      "source": [
        "# tutti?\n",
        "\n",
        "list(p.finditer('mamma bella'))"
      ]
    },
    {
      "cell_type": "code",
      "execution_count": null,
      "metadata": {},
      "outputs": [
        {
          "data": {
            "text/plain": [
              "['b', 'a', 'a', 'a']"
            ]
          },
          "execution_count": 1,
          "metadata": {},
          "output_type": "execute_result"
        }
      ],
      "source": [
        "# ma anche più semplicemente\n",
        "\n",
        "p.findall('banana')"
      ]
    },
    {
      "cell_type": "markdown",
      "metadata": {},
      "source": [
        "## Accedere alle sottostringhe"
      ]
    },
    {
      "cell_type": "code",
      "execution_count": null,
      "metadata": {},
      "outputs": [],
      "source": [
        "prefix = '02'\n",
        "number = '342573'\n",
        "telephone = prefix + '/' + number"
      ]
    },
    {
      "cell_type": "code",
      "execution_count": null,
      "metadata": {},
      "outputs": [],
      "source": [
        "# gruppi \"semplici\"\n",
        "\n",
        "p = re.compile(r'([0-9]+)/([0-9]*)')"
      ]
    },
    {
      "cell_type": "code",
      "execution_count": null,
      "metadata": {},
      "outputs": [
        {
          "data": {
            "text/plain": [
              "('02', '342573')"
            ]
          },
          "execution_count": 1,
          "metadata": {},
          "output_type": "execute_result"
        }
      ],
      "source": [
        "m = p.match(telephone)\n",
        "m.groups()"
      ]
    },
    {
      "cell_type": "code",
      "execution_count": null,
      "metadata": {},
      "outputs": [],
      "source": [
        "# gruppi \"annidati\"\n",
        "\n",
        "p = re.compile(r'(([0-9]+)/)?([0-9]*)')"
      ]
    },
    {
      "cell_type": "code",
      "execution_count": null,
      "metadata": {},
      "outputs": [
        {
          "data": {
            "text/plain": [
              "(('02/', '02', '342573'), (None, None, '342573'))"
            ]
          },
          "execution_count": 1,
          "metadata": {},
          "output_type": "execute_result"
        }
      ],
      "source": [
        "m0, m1 = p.match(telephone), p.match(number)\n",
        "m0.groups(), m1.groups()"
      ]
    },
    {
      "cell_type": "code",
      "execution_count": null,
      "metadata": {},
      "outputs": [],
      "source": [
        "# gruppi \"denominati\"\n",
        "\n",
        "p = re.compile(r'((?P<prefix>[0-9]+)/)?(?P<number>[0-9]+)')"
      ]
    },
    {
      "cell_type": "code",
      "execution_count": null,
      "metadata": {},
      "outputs": [
        {
          "data": {
            "text/plain": [
              "({'prefix': '02', 'number': '342573'}, {'prefix': None, 'number': '342573'})"
            ]
          },
          "execution_count": 1,
          "metadata": {},
          "output_type": "execute_result"
        }
      ],
      "source": [
        "m0, m1 = p.match(telephone), p.match(number)\n",
        "m0.groupdict(), m1.groupdict()"
      ]
    },
    {
      "cell_type": "code",
      "execution_count": null,
      "metadata": {},
      "outputs": [],
      "source": [
        "# gruppi senza cattura\n",
        "\n",
        "p = re.compile(r'(?:([0-9]+)/)?([0-9]*)')"
      ]
    },
    {
      "cell_type": "code",
      "execution_count": null,
      "metadata": {},
      "outputs": [
        {
          "data": {
            "text/plain": [
              "(('02', '342573'), (None, '342573'))"
            ]
          },
          "execution_count": 1,
          "metadata": {},
          "output_type": "execute_result"
        }
      ],
      "source": [
        "m0, m1 = p.match(telephone), p.match(number)\n",
        "m0.groups(), m1.groups()"
      ]
    },
    {
      "cell_type": "markdown",
      "metadata": {},
      "source": [
        "## Metacaratteri e flags"
      ]
    },
    {
      "cell_type": "code",
      "execution_count": null,
      "metadata": {},
      "outputs": [],
      "source": [
        "# . ^ $ * + ? { } [ ] \\ | ( )"
      ]
    },
    {
      "cell_type": "code",
      "execution_count": null,
      "metadata": {},
      "outputs": [
        {
          "data": {
            "text/plain": [
              "['j', 's', 't', ' ', 'c', 'n', 's', 'n', 'n', 't', 's']"
            ]
          },
          "execution_count": 1,
          "metadata": {},
          "output_type": "execute_result"
        }
      ],
      "source": [
        "# set negati\n",
        "\n",
        "re.findall(r'[^aeiou]', 'just consonants')"
      ]
    },
    {
      "cell_type": "code",
      "execution_count": null,
      "metadata": {},
      "outputs": [],
      "source": [
        "# multiline\n",
        "\n",
        "text = \"\"\"I've seen things you people wouldn't believe.\n",
        "Attack ships on fire off the shoulder of Orion.\n",
        "I watched C-beams glitter in the dark near the Tannhäuser Gate.\n",
        "All those moments will be lost in time, like tears in rain.\n",
        "Time to die.\"\"\""
      ]
    },
    {
      "cell_type": "code",
      "execution_count": null,
      "metadata": {},
      "outputs": [
        {
          "data": {
            "text/plain": [
              "[\"I've\",\n",
              " 'seen things',\n",
              " 'you people',\n",
              " \"wouldn't\",\n",
              " 'believe.\\nAttack',\n",
              " 'ships on',\n",
              " 'fire off',\n",
              " 'the shoulder',\n",
              " 'of Orion',\n",
              " 'I watched',\n",
              " 'C-beams',\n",
              " 'glitter in',\n",
              " 'the dark',\n",
              " 'near the',\n",
              " 'Tannhäuser Gate',\n",
              " 'All those',\n",
              " 'moments will',\n",
              " 'be lost',\n",
              " 'in time',\n",
              " 'like tears',\n",
              " 'in rain',\n",
              " 'Time to',\n",
              " 'die']"
            ]
          },
          "execution_count": 1,
          "metadata": {},
          "output_type": "execute_result"
        }
      ],
      "source": [
        "# dotall\n",
        "\n",
        "re.findall(r'\\w+.+?\\w+', text, re.DOTALL)"
      ]
    },
    {
      "cell_type": "markdown",
      "metadata": {},
      "source": [
        "### Classi"
      ]
    },
    {
      "cell_type": "code",
      "execution_count": null,
      "metadata": {},
      "outputs": [],
      "source": [
        "text = 'only 123 number, 456 pass! or else?'"
      ]
    },
    {
      "cell_type": "code",
      "execution_count": null,
      "metadata": {},
      "outputs": [
        {
          "data": {
            "text/plain": [
              "(['123', '456'], ['only ', ' number, ', ' pass! or else?'])"
            ]
          },
          "execution_count": 1,
          "metadata": {},
          "output_type": "execute_result"
        }
      ],
      "source": [
        "# numbers\n",
        "\n",
        "re.findall(r'\\d+', text), re.findall(r'\\D+', text)"
      ]
    },
    {
      "cell_type": "code",
      "execution_count": null,
      "metadata": {},
      "outputs": [
        {
          "data": {
            "text/plain": [
              "(['only', '123', 'number', '456', 'pass', 'or', 'else'],\n",
              " [' ', ' ', ', ', ' ', '! ', ' ', '?'])"
            ]
          },
          "execution_count": 1,
          "metadata": {},
          "output_type": "execute_result"
        }
      ],
      "source": [
        "# alphanumeric \n",
        "\n",
        "re.findall(r'\\w+', text), re.findall(r'\\W+', text)"
      ]
    },
    {
      "cell_type": "code",
      "execution_count": null,
      "metadata": {},
      "outputs": [
        {
          "data": {
            "text/plain": [
              "([' ', ' ', ' ', ' ', ' ', ' '],\n",
              " ['only', '123', 'number,', '456', 'pass!', 'or', 'else?'])"
            ]
          },
          "execution_count": 1,
          "metadata": {},
          "output_type": "execute_result"
        }
      ],
      "source": [
        "# whitespace\n",
        "\n",
        "re.findall(r'\\s+', text), re.findall(r'\\S+', text)"
      ]
    },
    {
      "cell_type": "markdown",
      "metadata": {},
      "source": [
        "## Backreference"
      ]
    },
    {
      "cell_type": "code",
      "execution_count": null,
      "metadata": {},
      "outputs": [
        {
          "data": {
            "text/plain": [
              "(<re.Match object; span=(0, 4), match='1001'>, None)"
            ]
          },
          "execution_count": 1,
          "metadata": {},
          "output_type": "execute_result"
        }
      ],
      "source": [
        "# star and end with the same char\n",
        "\n",
        "re.match(r'(.)\\d+(\\1)', '1001'), re.match(r'(.)\\d+(\\1)', '1002')"
      ]
    },
    {
      "cell_type": "code",
      "execution_count": null,
      "metadata": {},
      "outputs": [
        {
          "data": {
            "text/plain": [
              "<re.Match object; span=(0, 8), match='abbaabba'>"
            ]
          },
          "execution_count": 1,
          "metadata": {},
          "output_type": "execute_result"
        }
      ],
      "source": [
        "# oh my got, not even CS! \n",
        "\n",
        "re.match(r'(\\w+)(\\1)', 'abbaabba')"
      ]
    },
    {
      "cell_type": "markdown",
      "metadata": {},
      "source": [
        "## Efficienza"
      ]
    },
    {
      "cell_type": "code",
      "execution_count": null,
      "metadata": {},
      "outputs": [
        {
          "name": "stdout",
          "output_type": "stream",
          "text": [
            "CPU times: user 73 µs, sys: 9 µs, total: 82 µs\n",
            "Wall time: 84.4 µs\n"
          ]
        },
        {
          "data": {
            "text/plain": [
              "<re.Match object; span=(0, 26), match='aaaaaaaaaaaaaaaaaaaaaaaaac'>"
            ]
          },
          "execution_count": 1,
          "metadata": {},
          "output_type": "execute_result"
        }
      ],
      "source": [
        "%%time \n",
        "# veloce se appartiene \n",
        "\n",
        "re.match(r'(a+)+c', 'a' * 25 + 'c')"
      ]
    },
    {
      "cell_type": "code",
      "execution_count": null,
      "metadata": {},
      "outputs": [
        {
          "name": "stdout",
          "output_type": "stream",
          "text": [
            "CPU times: user 1.36 s, sys: 4.48 ms, total: 1.36 s\n",
            "Wall time: 1.36 s\n"
          ]
        }
      ],
      "source": [
        "%%time \n",
        "# mortale se non appartiene \n",
        "\n",
        "re.match(r'(a+)+c', 'a' * 25 + 'b')"
      ]
    },
    {
      "cell_type": "markdown",
      "metadata": {},
      "source": [
        "# Un Tokenizer"
      ]
    },
    {
      "cell_type": "code",
      "execution_count": null,
      "metadata": {},
      "outputs": [],
      "source": [
        "KIND_PATTERN = (\n",
        "    ('NUMBER',       re.compile(r'\\d+')),\n",
        "    ('IDENTIFIER',   re.compile(r'\\w+')),\n",
        "    ('OP',           re.compile(r'[+*/-]')),\n",
        "    ('OPEN_PAREN',   re.compile(r'\\(')),\n",
        "    ('CLOSED_PAREN', re.compile(r'\\)')),\n",
        "    ('WS',           re.compile(r'\\s+'))\n",
        ")"
      ]
    },
    {
      "cell_type": "code",
      "execution_count": null,
      "metadata": {},
      "outputs": [
        {
          "name": "stdout",
          "output_type": "stream",
          "text": [
            "NUMBER 24\n",
            "IDENTIFIER  +\n",
            "NUMBER  p\n",
            "IDENTIFIER ip\n",
            "NUMBER po\n",
            "IDENTIFIER  *\n",
            "NUMBER  (\n",
            "IDENTIFIER 12\n",
            "NUMBER 3)\n",
            "IDENTIFIER \n"
          ]
        }
      ],
      "source": [
        "# In modo \"diretto\"\n",
        "\n",
        "INPUT = '24 + pippo * (123)'\n",
        "\n",
        "rest = INPUT\n",
        "while rest:\n",
        "    for kind, pattern in KIND_PATTERN:\n",
        "        m = pattern.match(INPUT)\n",
        "        if m:\n",
        "            l = m.span()[1]\n",
        "            value, rest = rest[:l], rest[l:]\n",
        "            if kind != 'WS': print(kind, value)\n",
        "            continue"
      ]
    },
    {
      "cell_type": "code",
      "execution_count": null,
      "metadata": {},
      "outputs": [
        {
          "name": "stdout",
          "output_type": "stream",
          "text": [
            "NUMBER 24\n",
            "OP +\n",
            "IDENTIFIER pippo\n",
            "OP *\n",
            "OPEN_PAREN (\n",
            "NUMBER 123\n",
            "CLOSED_PAREN )\n"
          ]
        }
      ],
      "source": [
        "# più pitonicamente\n",
        "\n",
        "p = re.compile(\n",
        "    '|'.join(\n",
        "        '(?P<{}>{})'.format(kind, pattern.pattern) \n",
        "            for kind, pattern in KIND_PATTERN)\n",
        ")\n",
        "\n",
        "INPUT = '24 + pippo * (123)'\n",
        "\n",
        "for m in p.finditer(INPUT):\n",
        "    for k, v in m.groupdict().items():\n",
        "        if k != 'WS' and v: print(k, v)"
      ]
    }
  ],
  "metadata": {
    "kernelspec": {
      "display_name": "Python 3",
      "language": "python",
      "name": "python3"
    },
    "language_info": {
      "codemirror_mode": {
        "name": "ipython",
        "version": 3
      },
      "file_extension": ".py",
      "mimetype": "text/x-python",
      "name": "python",
      "nbconvert_exporter": "python",
      "pygments_lexer": "ipython3"
    }
  },
  "nbformat": 4,
  "nbformat_minor": 2
}
