{
  "cells": [
    {
      "cell_type": "markdown",
      "metadata": {},
      "source": [
        "# L'algoritmo CYK"
      ]
    },
    {
      "cell_type": "markdown",
      "metadata": {},
      "source": [
        "## La tabella, sua relazione con l'input"
      ]
    },
    {
      "cell_type": "code",
      "execution_count": null,
      "metadata": {},
      "outputs": [
        {
          "data": {
            "text/plain": [
              "{(1, 1): 'a',\n",
              " (2, 1): 't',\n",
              " (3, 1): 'e',\n",
              " (4, 1): 's',\n",
              " (5, 1): 't',\n",
              " (1, 2): 'at',\n",
              " (2, 2): 'te',\n",
              " (3, 2): 'es',\n",
              " (4, 2): 'st',\n",
              " (1, 3): 'ate',\n",
              " (2, 3): 'tes',\n",
              " (3, 3): 'est',\n",
              " (1, 4): 'ates',\n",
              " (2, 4): 'test',\n",
              " (1, 5): 'atest'}"
            ]
          },
          "execution_count": 1,
          "metadata": {},
          "output_type": "execute_result"
        }
      ],
      "source": [
        "INPUT = 'atest'\n",
        "\n",
        "R = {}\n",
        "for l in range(1, len(INPUT) + 1):\n",
        "    for i in range(1, len(INPUT) - l + 2): \n",
        "        R[(i, l)] = INPUT[i - 1 : i + l - 1]\n",
        "\n",
        "R"
      ]
    },
    {
      "cell_type": "code",
      "execution_count": null,
      "metadata": {},
      "outputs": [
        {
          "data": {
            "text/html": [
              "<table class=\"table-bordered\"><tr><td style=\"text-align:left\"><pre>atest</pre></td><tr><td style=\"text-align:left\"><pre>ates</pre></td><td style=\"text-align:left\"><pre>test</pre></td><tr><td style=\"text-align:left\"><pre>ate</pre></td><td style=\"text-align:left\"><pre>tes</pre></td><td style=\"text-align:left\"><pre>est</pre></td><tr><td style=\"text-align:left\"><pre>at</pre></td><td style=\"text-align:left\"><pre>te</pre></td><td style=\"text-align:left\"><pre>es</pre></td><td style=\"text-align:left\"><pre>st</pre></td><tr><td style=\"text-align:left\"><pre>a</pre></td><td style=\"text-align:left\"><pre>t</pre></td><td style=\"text-align:left\"><pre>e</pre></td><td style=\"text-align:left\"><pre>s</pre></td><td style=\"text-align:left\"><pre>t</pre></td></table>"
            ],
            "text/plain": [
              "<IPython.core.display.HTML object>"
            ]
          },
          "execution_count": 2,
          "metadata": {},
          "output_type": "execute_result"
        }
      ],
      "source": [
        "# usiamo liblet per avere una visualizzazione in forma tabellare\n",
        "\n",
        "from liblet import cyk2table\n",
        "\n",
        "cyk2table(R)"
      ]
    },
    {
      "cell_type": "markdown",
      "metadata": {},
      "source": [
        "### Riempimento offline"
      ]
    },
    {
      "cell_type": "code",
      "execution_count": null,
      "metadata": {},
      "outputs": [],
      "source": [
        "def offline(fill, n):\n",
        "    R = {}\n",
        "    for l in range(1, n + 1):\n",
        "        for i in range(1, n - l + 2): \n",
        "            R[(i, l)] = fill(R, i, l)\n",
        "    return R"
      ]
    },
    {
      "cell_type": "code",
      "execution_count": null,
      "metadata": {},
      "outputs": [],
      "source": [
        "def fill_with_nij(R, i, j):\n",
        "    global n\n",
        "    n += 1\n",
        "    return '{} @ ({}, {})'.format(n, i, j)"
      ]
    },
    {
      "cell_type": "code",
      "execution_count": null,
      "metadata": {},
      "outputs": [
        {
          "data": {
            "text/html": [
              "<table class=\"table-bordered\"><tr><td style=\"text-align:left\"><pre>15 @ (1, 5)</pre></td><tr><td style=\"text-align:left\"><pre>13 @ (1, 4)</pre></td><td style=\"text-align:left\"><pre>14 @ (2, 4)</pre></td><tr><td style=\"text-align:left\"><pre>10 @ (1, 3)</pre></td><td style=\"text-align:left\"><pre>11 @ (2, 3)</pre></td><td style=\"text-align:left\"><pre>12 @ (3, 3)</pre></td><tr><td style=\"text-align:left\"><pre>6 @ (1, 2)</pre></td><td style=\"text-align:left\"><pre>7 @ (2, 2)</pre></td><td style=\"text-align:left\"><pre>8 @ (3, 2)</pre></td><td style=\"text-align:left\"><pre>9 @ (4, 2)</pre></td><tr><td style=\"text-align:left\"><pre>1 @ (1, 1)</pre></td><td style=\"text-align:left\"><pre>2 @ (2, 1)</pre></td><td style=\"text-align:left\"><pre>3 @ (3, 1)</pre></td><td style=\"text-align:left\"><pre>4 @ (4, 1)</pre></td><td style=\"text-align:left\"><pre>5 @ (5, 1)</pre></td></table>"
            ],
            "text/plain": [
              "<IPython.core.display.HTML object>"
            ]
          },
          "execution_count": 5,
          "metadata": {},
          "output_type": "execute_result"
        }
      ],
      "source": [
        "n = 0\n",
        "cyk2table(offline(fill_with_nij, 5))"
      ]
    },
    {
      "cell_type": "markdown",
      "metadata": {},
      "source": [
        "### Riempimento online"
      ]
    },
    {
      "cell_type": "code",
      "execution_count": null,
      "metadata": {},
      "outputs": [],
      "source": [
        "def online(fill, n):\n",
        "    R = {}\n",
        "    for d in range(1, n + 1):\n",
        "        for i in range(d, 0, -1):\n",
        "            R[(i, d - i + 1)] = fill(R, i, d - i + 1)\n",
        "    return R"
      ]
    },
    {
      "cell_type": "code",
      "execution_count": null,
      "metadata": {},
      "outputs": [
        {
          "data": {
            "text/html": [
              "<table class=\"table-bordered\"><tr><td style=\"text-align:left\"><pre>15 @ (1, 5)</pre></td><tr><td style=\"text-align:left\"><pre>10 @ (1, 4)</pre></td><td style=\"text-align:left\"><pre>14 @ (2, 4)</pre></td><tr><td style=\"text-align:left\"><pre>6 @ (1, 3)</pre></td><td style=\"text-align:left\"><pre>9 @ (2, 3)</pre></td><td style=\"text-align:left\"><pre>13 @ (3, 3)</pre></td><tr><td style=\"text-align:left\"><pre>3 @ (1, 2)</pre></td><td style=\"text-align:left\"><pre>5 @ (2, 2)</pre></td><td style=\"text-align:left\"><pre>8 @ (3, 2)</pre></td><td style=\"text-align:left\"><pre>12 @ (4, 2)</pre></td><tr><td style=\"text-align:left\"><pre>1 @ (1, 1)</pre></td><td style=\"text-align:left\"><pre>2 @ (2, 1)</pre></td><td style=\"text-align:left\"><pre>4 @ (3, 1)</pre></td><td style=\"text-align:left\"><pre>7 @ (4, 1)</pre></td><td style=\"text-align:left\"><pre>11 @ (5, 1)</pre></td></table>"
            ],
            "text/plain": [
              "<IPython.core.display.HTML object>"
            ]
          },
          "execution_count": 7,
          "metadata": {},
          "output_type": "execute_result"
        }
      ],
      "source": [
        "n = 0\n",
        "cyk2table(online(fill_with_nij, 5))"
      ]
    },
    {
      "cell_type": "markdown",
      "metadata": {},
      "source": [
        "## Predicati e flitri"
      ]
    },
    {
      "cell_type": "code",
      "execution_count": null,
      "metadata": {},
      "outputs": [],
      "source": [
        "# un predicato è una funzione a valori booleani\n",
        "\n",
        "def pari(x):\n",
        "    return x % 2 == 0"
      ]
    },
    {
      "cell_type": "code",
      "execution_count": null,
      "metadata": {},
      "outputs": [
        {
          "data": {
            "text/plain": [
              "[0, 2, 4, 6, 8]"
            ]
          },
          "execution_count": 9,
          "metadata": {},
          "output_type": "execute_result"
        }
      ],
      "source": [
        "# la funzione filter restituisce, dato un predicato e un iterabile,\n",
        "# il sottoiterabile degli elementi che soddisfano il predicato\n",
        "\n",
        "list(filter(pari, range(10)))"
      ]
    },
    {
      "cell_type": "code",
      "execution_count": null,
      "metadata": {},
      "outputs": [
        {
          "data": {
            "text/plain": [
              "(A -> a, A -> B C)"
            ]
          },
          "execution_count": 10,
          "metadata": {},
          "output_type": "execute_result"
        }
      ],
      "source": [
        "# le Production possono costruire predicati basati, ad esempio, sul\n",
        "# numero di simboli del lato destro\n",
        "\n",
        "from liblet import Production\n",
        "\n",
        "prods = Production.from_string(\"\"\"\n",
        "A -> a\n",
        "A -> B C\n",
        "\"\"\")\n",
        "prods"
      ]
    },
    {
      "cell_type": "code",
      "execution_count": null,
      "metadata": {},
      "outputs": [
        {
          "data": {
            "text/plain": [
              "True"
            ]
          },
          "execution_count": 11,
          "metadata": {},
          "output_type": "execute_result"
        }
      ],
      "source": [
        "# la prima produzione ha il lato destro lungo 1 simbolo? \n",
        "\n",
        "Production.such_that(rhs_len = 1)(prods[0])"
      ]
    },
    {
      "cell_type": "code",
      "execution_count": null,
      "metadata": {},
      "outputs": [
        {
          "data": {
            "text/plain": [
              "[A -> B C]"
            ]
          },
          "execution_count": 12,
          "metadata": {},
          "output_type": "execute_result"
        }
      ],
      "source": [
        "# filtra le produzioni tali che il lato destro è lungo 2\n",
        "\n",
        "list(filter(Production.such_that(rhs_len = 2), prods))"
      ]
    },
    {
      "cell_type": "code",
      "execution_count": null,
      "metadata": {},
      "outputs": [
        {
          "data": {
            "text/plain": [
              "[A -> a]"
            ]
          },
          "execution_count": 13,
          "metadata": {},
          "output_type": "execute_result"
        }
      ],
      "source": [
        "# filtra le produzioni tali che il lato destro è lungo 1\n",
        "\n",
        "list(filter(Production.such_that(rhs_len = 1), prods))"
      ]
    },
    {
      "cell_type": "markdown",
      "metadata": {},
      "source": [
        "## Riempimento usando G (CNF) e input"
      ]
    },
    {
      "cell_type": "code",
      "execution_count": null,
      "metadata": {},
      "outputs": [],
      "source": [
        "from liblet import Production \n",
        "\n",
        "def cyk_fill(G, INPUT):\n",
        "    def fill(R, i, l):\n",
        "        res = set()\n",
        "        if l == 1:\n",
        "            for A, (a,) in filter(Production.such_that(rhs_len = 1), G.P): \n",
        "                if a == INPUT[i - 1]: res.add(A)\n",
        "        else:\n",
        "            for k in range(1, l):\n",
        "                for A, (B, C) in filter(Production.such_that(rhs_len = 2), G.P):\n",
        "                    if B in R[(i, k)] and C in R[(i + k, l - k)]: res.add(A)\n",
        "        return res\n",
        "    return fill"
      ]
    },
    {
      "cell_type": "markdown",
      "metadata": {},
      "source": [
        "### Un esempio elementare"
      ]
    },
    {
      "cell_type": "code",
      "execution_count": null,
      "metadata": {},
      "outputs": [],
      "source": [
        "# un esempio con una grammatica banale per il linguaggio a^n.\n",
        "\n",
        "from liblet import Grammar\n",
        "\n",
        "G = Grammar.from_string(\"\"\"\n",
        "S -> A S\n",
        "A -> a\n",
        "S -> .\n",
        "\"\"\")"
      ]
    },
    {
      "cell_type": "code",
      "execution_count": null,
      "metadata": {},
      "outputs": [
        {
          "data": {
            "text/html": [
              "<table class=\"table-bordered\"><tr><td style=\"text-align:left\"><pre>S</pre></td><tr><td style=\"text-align:left\"><pre>&nbsp;</pre></td><td style=\"text-align:left\"><pre>S</pre></td><tr><td style=\"text-align:left\"><pre>&nbsp;</pre></td><td style=\"text-align:left\"><pre>&nbsp;</pre></td><td style=\"text-align:left\"><pre>S</pre></td><tr><td style=\"text-align:left\"><pre>A</pre></td><td style=\"text-align:left\"><pre>A</pre></td><td style=\"text-align:left\"><pre>A</pre></td><td style=\"text-align:left\"><pre>S</pre></td></table>"
            ],
            "text/plain": [
              "<IPython.core.display.HTML object>"
            ]
          },
          "execution_count": 16,
          "metadata": {},
          "output_type": "execute_result"
        }
      ],
      "source": [
        "# parola accettata \n",
        "\n",
        "INPUT = 'aaa.'\n",
        "\n",
        "R = online(cyk_fill(G, INPUT), len(INPUT))\n",
        "cyk2table(R)"
      ]
    },
    {
      "cell_type": "code",
      "execution_count": null,
      "metadata": {},
      "outputs": [
        {
          "data": {
            "text/html": [
              "<table class=\"table-bordered\"><tr><td style=\"text-align:left\"><pre>&nbsp;</pre></td><tr><td style=\"text-align:left\"><pre>&nbsp;</pre></td><td style=\"text-align:left\"><pre>&nbsp;</pre></td><tr><td style=\"text-align:left\"><pre>A</pre></td><td style=\"text-align:left\"><pre>A</pre></td><td style=\"text-align:left\"><pre>A</pre></td></table>"
            ],
            "text/plain": [
              "<IPython.core.display.HTML object>"
            ]
          },
          "execution_count": 17,
          "metadata": {},
          "output_type": "execute_result"
        }
      ],
      "source": [
        "# parola non accettata \n",
        "\n",
        "INPUT = 'aaa'\n",
        "\n",
        "R = online(cyk_fill(G, INPUT), len(INPUT))\n",
        "cyk2table(R)"
      ]
    },
    {
      "cell_type": "markdown",
      "metadata": {},
      "source": [
        "### Un esempio dal libro di testo"
      ]
    },
    {
      "cell_type": "code",
      "execution_count": null,
      "metadata": {},
      "outputs": [],
      "source": [
        "# fig. 4.15, pag. 123 \n",
        "\n",
        "# Questa grammatica (che contiene alcuni non terminali \"artificiali\") è \n",
        "# il risultato della trasformazione in CNF di una grammatica più naturale \n",
        "# che vedremo la prossima lezione\n",
        "\n",
        "G = Grammar.from_string(\"\"\"\n",
        "Number -> 0|1|2|3|4|5|6|7|8|9 \n",
        "Number -> Integer Digit\n",
        "Number -> N1 Scale' | Integer Fraction\n",
        "N1 -> Integer Fraction\n",
        "Integer -> 0|1|2|3|4|5|6|7|8|9 \n",
        "Integer -> Integer Digit\n",
        "Fraction -> T1 Integer\n",
        "T1 -> .\n",
        "Scale' -> N2 Integer\n",
        "N2 -> T2 Sign\n",
        "T2 -> e\n",
        "Digit -> 0|1|2|3|4|5|6|7|8|9 \n",
        "Sign -> + | -\n",
        "\"\"\")"
      ]
    },
    {
      "cell_type": "code",
      "execution_count": null,
      "metadata": {},
      "outputs": [
        {
          "data": {
            "text/html": [
              "<table class=\"table-bordered\"><tr><td style=\"text-align:left\"><pre>Number</pre></td><tr><td style=\"text-align:left\"><pre>&nbsp;</pre></td><td style=\"text-align:left\"><pre>Number</pre></td><tr><td style=\"text-align:left\"><pre>&nbsp;</pre></td><td style=\"text-align:left\"><pre>&nbsp;</pre></td><td style=\"text-align:left\"><pre>&nbsp;</pre></td><tr><td style=\"text-align:left\"><pre>N1\n",
              "Number</pre></td><td style=\"text-align:left\"><pre>&nbsp;</pre></td><td style=\"text-align:left\"><pre>&nbsp;</pre></td><td style=\"text-align:left\"><pre>&nbsp;</pre></td><tr><td style=\"text-align:left\"><pre>&nbsp;</pre></td><td style=\"text-align:left\"><pre>N1\n",
              "Number</pre></td><td style=\"text-align:left\"><pre>&nbsp;</pre></td><td style=\"text-align:left\"><pre>&nbsp;</pre></td><td style=\"text-align:left\"><pre>Scale'</pre></td><tr><td style=\"text-align:left\"><pre>Integer\n",
              "Number</pre></td><td style=\"text-align:left\"><pre>&nbsp;</pre></td><td style=\"text-align:left\"><pre>Fraction</pre></td><td style=\"text-align:left\"><pre>&nbsp;</pre></td><td style=\"text-align:left\"><pre>N2</pre></td><td style=\"text-align:left\"><pre>&nbsp;</pre></td><tr><td style=\"text-align:left\"><pre>Digit\n",
              "Integer\n",
              "Number</pre></td><td style=\"text-align:left\"><pre>Digit\n",
              "Integer\n",
              "Number</pre></td><td style=\"text-align:left\"><pre>T1</pre></td><td style=\"text-align:left\"><pre>Digit\n",
              "Integer\n",
              "Number</pre></td><td style=\"text-align:left\"><pre>T2</pre></td><td style=\"text-align:left\"><pre>Sign</pre></td><td style=\"text-align:left\"><pre>Digit\n",
              "Integer\n",
              "Number</pre></td></table>"
            ],
            "text/plain": [
              "<IPython.core.display.HTML object>"
            ]
          },
          "execution_count": 19,
          "metadata": {},
          "output_type": "execute_result"
        }
      ],
      "source": [
        "INPUT = '32.5e+1'\n",
        "\n",
        "R = offline(cyk_fill(G, INPUT), len(INPUT))\n",
        "cyk2table(R)"
      ]
    },
    {
      "cell_type": "markdown",
      "metadata": {},
      "source": [
        "# <span style=\"color: red;\">Per casa</span>: l'albero di parsing (barando) \n",
        "\n",
        "La tabella contiene non terminali e, in accordo al criterio usato per riempirla, tali non terminali possono essere raccolti in un albero che ha l'aspetto di un albero di derivazione — anche se costruito senza riferimento alle produzioni (dal quale non è quindi banale ricostruire la derivazione).\n",
        "\n",
        "Scriviamo una procedura che, dati in ingresso la tabella `R`, la grammatica e l'input, restituice una funzione ricorsiva `tree` che, dato un non terminale, il punto d'inizio e la lunghezza, restituisca un *lol* che rappresenta l'albero di parsing radicato in quel non terminale e che deriva la sottostringa specificata."
      ]
    },
    {
      "cell_type": "code",
      "execution_count": null,
      "metadata": {},
      "outputs": [],
      "source": [
        "def get_parse_tree(G, R, INPUT):\n",
        "    def tree(X, i, l):\n",
        "        if l == 1: return [X, [INPUT[i-1]]]\n",
        "        for A, (B, C) in filter(Production.such_that(lhs = X, rhs_len = 2), G.P):\n",
        "            for k in range(1, l):\n",
        "                if B in R[(i, k)] and C in R[(i + k, l - k)]:\n",
        "                    return [A, tree(B, i, k), tree(C, i + k, l - k)]\n",
        "    return tree(G.S, 1, len(INPUT))    "
      ]
    },
    {
      "cell_type": "code",
      "execution_count": null,
      "metadata": {},
      "outputs": [
        {
          "data": {
            "text/plain": [
              "['Number',\n",
              " ['N1',\n",
              "  ['Integer', ['Integer', ['3']], ['Digit', ['2']]],\n",
              "  ['Fraction', ['T1', ['.']], ['Integer', ['5']]]],\n",
              " [\"Scale'\", ['N2', ['T2', ['e']], ['Sign', ['+']]], ['Integer', ['1']]]]"
            ]
          },
          "execution_count": 21,
          "metadata": {},
          "output_type": "execute_result"
        }
      ],
      "source": [
        "lol = get_parse_tree(G, R, INPUT)\n",
        "lol"
      ]
    },
    {
      "cell_type": "code",
      "execution_count": null,
      "metadata": {},
      "outputs": [
        {
          "data": {
            "image/svg+xml": [
              "<?xml version=\"1.0\" encoding=\"UTF-8\" standalone=\"no\"?>\n",
              "<!DOCTYPE svg PUBLIC \"-//W3C//DTD SVG 1.1//EN\"\n",
              " \"http://www.w3.org/Graphics/SVG/1.1/DTD/svg11.dtd\">\n",
              "<!-- Generated by graphviz version 2.43.0 (0)\n",
              " -->\n",
              "<!-- Title: %3 Pages: 1 -->\n",
              "<svg width=\"344pt\" height=\"190pt\"\n",
              " viewBox=\"0.00 0.00 344.32 190.00\" xmlns=\"http://www.w3.org/2000/svg\" xmlns:xlink=\"http://www.w3.org/1999/xlink\">\n",
              "<g id=\"graph0\" class=\"graph\" transform=\"scale(1 1) rotate(0) translate(4 186)\">\n",
              "<title>%3</title>\n",
              "<polygon fill=\"white\" stroke=\"transparent\" points=\"-4,4 -4,-186 340.32,-186 340.32,4 -4,4\"/>\n",
              "<!-- 4583758224 -->\n",
              "<g id=\"node1\" class=\"node\">\n",
              "<title>4583758224</title>\n",
              "<path fill=\"none\" stroke=\"black\" stroke-width=\"0.25\" d=\"M222.36,-182C222.36,-182 183.28,-182 183.28,-182 179.61,-182 175.94,-178.33 175.94,-174.67 175.94,-174.67 175.94,-167.33 175.94,-167.33 175.94,-163.67 179.61,-160 183.28,-160 183.28,-160 222.36,-160 222.36,-160 226.03,-160 229.7,-163.67 229.7,-167.33 229.7,-167.33 229.7,-174.67 229.7,-174.67 229.7,-178.33 226.03,-182 222.36,-182\"/>\n",
              "<text text-anchor=\"middle\" x=\"202.82\" y=\"-166.8\" font-family=\"Times,serif\" font-size=\"14.00\">Number</text>\n",
              "</g>\n",
              "<!-- 4583758992 -->\n",
              "<g id=\"node2\" class=\"node\">\n",
              "<title>4583758992</title>\n",
              "<path fill=\"none\" stroke=\"black\" stroke-width=\"0.25\" d=\"M183.1,-142C183.1,-142 172.54,-142 172.54,-142 168.88,-142 165.21,-138.33 165.21,-134.67 165.21,-134.67 165.21,-127.33 165.21,-127.33 165.21,-123.67 168.88,-120 172.54,-120 172.54,-120 183.1,-120 183.1,-120 186.76,-120 190.43,-123.67 190.43,-127.33 190.43,-127.33 190.43,-134.67 190.43,-134.67 190.43,-138.33 186.76,-142 183.1,-142\"/>\n",
              "<text text-anchor=\"middle\" x=\"177.82\" y=\"-126.8\" font-family=\"Times,serif\" font-size=\"14.00\">N1</text>\n",
              "</g>\n",
              "<!-- 4583758224&#45;&gt;4583758992 -->\n",
              "<g id=\"edge1\" class=\"edge\">\n",
              "<title>4583758224&#45;&gt;4583758992</title>\n",
              "<path fill=\"none\" stroke=\"black\" d=\"M195.99,-159.62C192.4,-154.17 188.03,-147.52 184.47,-142.11\"/>\n",
              "</g>\n",
              "<!-- 4583758096 -->\n",
              "<g id=\"node3\" class=\"node\">\n",
              "<title>4583758096</title>\n",
              "<path fill=\"none\" stroke=\"black\" stroke-width=\"0.25\" d=\"M243.83,-142C243.83,-142 217.81,-142 217.81,-142 214.15,-142 210.48,-138.33 210.48,-134.67 210.48,-134.67 210.48,-127.33 210.48,-127.33 210.48,-123.67 214.15,-120 217.81,-120 217.81,-120 243.83,-120 243.83,-120 247.49,-120 251.16,-123.67 251.16,-127.33 251.16,-127.33 251.16,-134.67 251.16,-134.67 251.16,-138.33 247.49,-142 243.83,-142\"/>\n",
              "<text text-anchor=\"middle\" x=\"230.82\" y=\"-126.8\" font-family=\"Times,serif\" font-size=\"14.00\">Scale&#39;</text>\n",
              "</g>\n",
              "<!-- 4583758224&#45;&gt;4583758096 -->\n",
              "<g id=\"edge2\" class=\"edge\">\n",
              "<title>4583758224&#45;&gt;4583758096</title>\n",
              "<path fill=\"none\" stroke=\"black\" d=\"M210.47,-159.62C214.49,-154.17 219.39,-147.52 223.37,-142.11\"/>\n",
              "</g>\n",
              "<!-- 4583758992&#45;&gt;4583758096 -->\n",
              "<!-- 4583759504 -->\n",
              "<g id=\"node4\" class=\"node\">\n",
              "<title>4583759504</title>\n",
              "<path fill=\"none\" stroke=\"black\" stroke-width=\"0.25\" d=\"M108.13,-102C108.13,-102 75.51,-102 75.51,-102 71.84,-102 68.18,-98.33 68.18,-94.67 68.18,-94.67 68.18,-87.33 68.18,-87.33 68.18,-83.67 71.84,-80 75.51,-80 75.51,-80 108.13,-80 108.13,-80 111.8,-80 115.46,-83.67 115.46,-87.33 115.46,-87.33 115.46,-94.67 115.46,-94.67 115.46,-98.33 111.8,-102 108.13,-102\"/>\n",
              "<text text-anchor=\"middle\" x=\"91.82\" y=\"-86.8\" font-family=\"Times,serif\" font-size=\"14.00\">Integer</text>\n",
              "</g>\n",
              "<!-- 4583758992&#45;&gt;4583759504 -->\n",
              "<g id=\"edge4\" class=\"edge\">\n",
              "<title>4583758992&#45;&gt;4583759504</title>\n",
              "<path fill=\"none\" stroke=\"black\" d=\"M165.13,-124.39C151.86,-118.53 130.76,-109.2 114.59,-102.06\"/>\n",
              "</g>\n",
              "<!-- 4583758288 -->\n",
              "<g id=\"node5\" class=\"node\">\n",
              "<title>4583758288</title>\n",
              "<path fill=\"none\" stroke=\"black\" stroke-width=\"0.25\" d=\"M194.64,-102C194.64,-102 155,-102 155,-102 151.33,-102 147.66,-98.33 147.66,-94.67 147.66,-94.67 147.66,-87.33 147.66,-87.33 147.66,-83.67 151.33,-80 155,-80 155,-80 194.64,-80 194.64,-80 198.31,-80 201.98,-83.67 201.98,-87.33 201.98,-87.33 201.98,-94.67 201.98,-94.67 201.98,-98.33 198.31,-102 194.64,-102\"/>\n",
              "<text text-anchor=\"middle\" x=\"174.82\" y=\"-86.8\" font-family=\"Times,serif\" font-size=\"14.00\">Fraction</text>\n",
              "</g>\n",
              "<!-- 4583758992&#45;&gt;4583758288 -->\n",
              "<g id=\"edge5\" class=\"edge\">\n",
              "<title>4583758992&#45;&gt;4583758288</title>\n",
              "<path fill=\"none\" stroke=\"black\" d=\"M177,-119.62C176.57,-114.17 176.05,-107.52 175.62,-102.11\"/>\n",
              "</g>\n",
              "<!-- 4583758736 -->\n",
              "<g id=\"node14\" class=\"node\">\n",
              "<title>4583758736</title>\n",
              "<path fill=\"none\" stroke=\"black\" stroke-width=\"0.25\" d=\"M245.1,-102C245.1,-102 234.54,-102 234.54,-102 230.88,-102 227.21,-98.33 227.21,-94.67 227.21,-94.67 227.21,-87.33 227.21,-87.33 227.21,-83.67 230.88,-80 234.54,-80 234.54,-80 245.1,-80 245.1,-80 248.76,-80 252.43,-83.67 252.43,-87.33 252.43,-87.33 252.43,-94.67 252.43,-94.67 252.43,-98.33 248.76,-102 245.1,-102\"/>\n",
              "<text text-anchor=\"middle\" x=\"239.82\" y=\"-86.8\" font-family=\"Times,serif\" font-size=\"14.00\">N2</text>\n",
              "</g>\n",
              "<!-- 4583758096&#45;&gt;4583758736 -->\n",
              "<g id=\"edge17\" class=\"edge\">\n",
              "<title>4583758096&#45;&gt;4583758736</title>\n",
              "<path fill=\"none\" stroke=\"black\" d=\"M233.28,-119.62C234.57,-114.17 236.15,-107.52 237.43,-102.11\"/>\n",
              "</g>\n",
              "<!-- 4583757072 -->\n",
              "<g id=\"node15\" class=\"node\">\n",
              "<title>4583757072</title>\n",
              "<path fill=\"none\" stroke=\"black\" stroke-width=\"0.25\" d=\"M310.13,-102C310.13,-102 277.51,-102 277.51,-102 273.84,-102 270.18,-98.33 270.18,-94.67 270.18,-94.67 270.18,-87.33 270.18,-87.33 270.18,-83.67 273.84,-80 277.51,-80 277.51,-80 310.13,-80 310.13,-80 313.8,-80 317.46,-83.67 317.46,-87.33 317.46,-87.33 317.46,-94.67 317.46,-94.67 317.46,-98.33 313.8,-102 310.13,-102\"/>\n",
              "<text text-anchor=\"middle\" x=\"293.82\" y=\"-86.8\" font-family=\"Times,serif\" font-size=\"14.00\">Integer</text>\n",
              "</g>\n",
              "<!-- 4583758096&#45;&gt;4583757072 -->\n",
              "<g id=\"edge18\" class=\"edge\">\n",
              "<title>4583758096&#45;&gt;4583757072</title>\n",
              "<path fill=\"none\" stroke=\"black\" d=\"M247.7,-119.82C256.74,-114.36 267.85,-107.67 276.89,-102.21\"/>\n",
              "</g>\n",
              "<!-- 4583759504&#45;&gt;4583758288 -->\n",
              "<!-- 4583757904 -->\n",
              "<g id=\"node6\" class=\"node\">\n",
              "<title>4583757904</title>\n",
              "<path fill=\"none\" stroke=\"black\" stroke-width=\"0.25\" d=\"M40.13,-62C40.13,-62 7.51,-62 7.51,-62 3.84,-62 0.18,-58.33 0.18,-54.67 0.18,-54.67 0.18,-47.33 0.18,-47.33 0.18,-43.67 3.84,-40 7.51,-40 7.51,-40 40.13,-40 40.13,-40 43.8,-40 47.46,-43.67 47.46,-47.33 47.46,-47.33 47.46,-54.67 47.46,-54.67 47.46,-58.33 43.8,-62 40.13,-62\"/>\n",
              "<text text-anchor=\"middle\" x=\"23.82\" y=\"-46.8\" font-family=\"Times,serif\" font-size=\"14.00\">Integer</text>\n",
              "</g>\n",
              "<!-- 4583759504&#45;&gt;4583757904 -->\n",
              "<g id=\"edge7\" class=\"edge\">\n",
              "<title>4583759504&#45;&gt;4583757904</title>\n",
              "<path fill=\"none\" stroke=\"black\" d=\"M73.6,-79.82C63.84,-74.36 51.86,-67.67 42.09,-62.21\"/>\n",
              "</g>\n",
              "<!-- 4583757648 -->\n",
              "<g id=\"node7\" class=\"node\">\n",
              "<title>4583757648</title>\n",
              "<path fill=\"none\" stroke=\"black\" stroke-width=\"0.25\" d=\"M94.77,-62C94.77,-62 72.87,-62 72.87,-62 69.21,-62 65.54,-58.33 65.54,-54.67 65.54,-54.67 65.54,-47.33 65.54,-47.33 65.54,-43.67 69.21,-40 72.87,-40 72.87,-40 94.77,-40 94.77,-40 98.43,-40 102.1,-43.67 102.1,-47.33 102.1,-47.33 102.1,-54.67 102.1,-54.67 102.1,-58.33 98.43,-62 94.77,-62\"/>\n",
              "<text text-anchor=\"middle\" x=\"83.82\" y=\"-46.8\" font-family=\"Times,serif\" font-size=\"14.00\">Digit</text>\n",
              "</g>\n",
              "<!-- 4583759504&#45;&gt;4583757648 -->\n",
              "<g id=\"edge8\" class=\"edge\">\n",
              "<title>4583759504&#45;&gt;4583757648</title>\n",
              "<path fill=\"none\" stroke=\"black\" d=\"M89.63,-79.62C88.49,-74.17 87.09,-67.52 85.95,-62.11\"/>\n",
              "</g>\n",
              "<!-- 4583758864 -->\n",
              "<g id=\"node10\" class=\"node\">\n",
              "<title>4583758864</title>\n",
              "<path fill=\"none\" stroke=\"black\" stroke-width=\"0.25\" d=\"M136.04,-62C136.04,-62 127.6,-62 127.6,-62 123.93,-62 120.26,-58.33 120.26,-54.67 120.26,-54.67 120.26,-47.33 120.26,-47.33 120.26,-43.67 123.93,-40 127.6,-40 127.6,-40 136.04,-40 136.04,-40 139.71,-40 143.38,-43.67 143.38,-47.33 143.38,-47.33 143.38,-54.67 143.38,-54.67 143.38,-58.33 139.71,-62 136.04,-62\"/>\n",
              "<text text-anchor=\"middle\" x=\"131.82\" y=\"-46.8\" font-family=\"Times,serif\" font-size=\"14.00\">T1</text>\n",
              "</g>\n",
              "<!-- 4583758288&#45;&gt;4583758864 -->\n",
              "<g id=\"edge12\" class=\"edge\">\n",
              "<title>4583758288&#45;&gt;4583758864</title>\n",
              "<path fill=\"none\" stroke=\"black\" d=\"M163.07,-79.62C156.9,-74.17 149.38,-67.52 143.26,-62.11\"/>\n",
              "</g>\n",
              "<!-- 4583758928 -->\n",
              "<g id=\"node11\" class=\"node\">\n",
              "<title>4583758928</title>\n",
              "<path fill=\"none\" stroke=\"black\" stroke-width=\"0.25\" d=\"M202.13,-62C202.13,-62 169.51,-62 169.51,-62 165.84,-62 162.18,-58.33 162.18,-54.67 162.18,-54.67 162.18,-47.33 162.18,-47.33 162.18,-43.67 165.84,-40 169.51,-40 169.51,-40 202.13,-40 202.13,-40 205.8,-40 209.46,-43.67 209.46,-47.33 209.46,-47.33 209.46,-54.67 209.46,-54.67 209.46,-58.33 205.8,-62 202.13,-62\"/>\n",
              "<text text-anchor=\"middle\" x=\"185.82\" y=\"-46.8\" font-family=\"Times,serif\" font-size=\"14.00\">Integer</text>\n",
              "</g>\n",
              "<!-- 4583758288&#45;&gt;4583758928 -->\n",
              "<g id=\"edge13\" class=\"edge\">\n",
              "<title>4583758288&#45;&gt;4583758928</title>\n",
              "<path fill=\"none\" stroke=\"black\" d=\"M177.83,-79.62C179.4,-74.17 181.33,-67.52 182.89,-62.11\"/>\n",
              "</g>\n",
              "<!-- 4583757904&#45;&gt;4583757648 -->\n",
              "<!-- 4583755984 -->\n",
              "<g id=\"node8\" class=\"node\">\n",
              "<title>4583755984</title>\n",
              "<path fill=\"none\" stroke=\"black\" stroke-width=\"0.25\" d=\"M26.32,-22C26.32,-22 21.32,-22 21.32,-22 18.82,-22 16.32,-19.5 16.32,-17 16.32,-17 16.32,-5 16.32,-5 16.32,-2.5 18.82,0 21.32,0 21.32,0 26.32,0 26.32,0 28.82,0 31.32,-2.5 31.32,-5 31.32,-5 31.32,-17 31.32,-17 31.32,-19.5 28.82,-22 26.32,-22\"/>\n",
              "<text text-anchor=\"middle\" x=\"23.82\" y=\"-6.8\" font-family=\"Times,serif\" font-size=\"14.00\">3</text>\n",
              "</g>\n",
              "<!-- 4583757904&#45;&gt;4583755984 -->\n",
              "<g id=\"edge10\" class=\"edge\">\n",
              "<title>4583757904&#45;&gt;4583755984</title>\n",
              "<path fill=\"none\" stroke=\"black\" d=\"M23.82,-39.62C23.82,-34.17 23.82,-27.52 23.82,-22.11\"/>\n",
              "</g>\n",
              "<!-- 4583757776 -->\n",
              "<g id=\"node9\" class=\"node\">\n",
              "<title>4583757776</title>\n",
              "<path fill=\"none\" stroke=\"black\" stroke-width=\"0.25\" d=\"M86.32,-22C86.32,-22 81.32,-22 81.32,-22 78.82,-22 76.32,-19.5 76.32,-17 76.32,-17 76.32,-5 76.32,-5 76.32,-2.5 78.82,0 81.32,0 81.32,0 86.32,0 86.32,0 88.82,0 91.32,-2.5 91.32,-5 91.32,-5 91.32,-17 91.32,-17 91.32,-19.5 88.82,-22 86.32,-22\"/>\n",
              "<text text-anchor=\"middle\" x=\"83.82\" y=\"-6.8\" font-family=\"Times,serif\" font-size=\"14.00\">2</text>\n",
              "</g>\n",
              "<!-- 4583757648&#45;&gt;4583757776 -->\n",
              "<g id=\"edge11\" class=\"edge\">\n",
              "<title>4583757648&#45;&gt;4583757776</title>\n",
              "<path fill=\"none\" stroke=\"black\" d=\"M83.82,-39.62C83.82,-34.17 83.82,-27.52 83.82,-22.11\"/>\n",
              "</g>\n",
              "<!-- 4583758864&#45;&gt;4583758928 -->\n",
              "<!-- 4583758416 -->\n",
              "<g id=\"node12\" class=\"node\">\n",
              "<title>4583758416</title>\n",
              "<path fill=\"none\" stroke=\"black\" stroke-width=\"0.25\" d=\"M133.66,-22C133.66,-22 129.98,-22 129.98,-22 128.15,-22 126.31,-20.16 126.31,-18.33 126.31,-18.33 126.31,-3.67 126.31,-3.67 126.31,-1.84 128.15,0 129.98,0 129.98,0 133.66,0 133.66,0 135.49,0 137.33,-1.84 137.33,-3.67 137.33,-3.67 137.33,-18.33 137.33,-18.33 137.33,-20.16 135.49,-22 133.66,-22\"/>\n",
              "<text text-anchor=\"middle\" x=\"131.82\" y=\"-6.8\" font-family=\"Times,serif\" font-size=\"14.00\">.</text>\n",
              "</g>\n",
              "<!-- 4583758864&#45;&gt;4583758416 -->\n",
              "<g id=\"edge15\" class=\"edge\">\n",
              "<title>4583758864&#45;&gt;4583758416</title>\n",
              "<path fill=\"none\" stroke=\"black\" d=\"M131.82,-39.62C131.82,-34.17 131.82,-27.52 131.82,-22.11\"/>\n",
              "</g>\n",
              "<!-- 4583759696 -->\n",
              "<g id=\"node13\" class=\"node\">\n",
              "<title>4583759696</title>\n",
              "<path fill=\"none\" stroke=\"black\" stroke-width=\"0.25\" d=\"M188.32,-22C188.32,-22 183.32,-22 183.32,-22 180.82,-22 178.32,-19.5 178.32,-17 178.32,-17 178.32,-5 178.32,-5 178.32,-2.5 180.82,0 183.32,0 183.32,0 188.32,0 188.32,0 190.82,0 193.32,-2.5 193.32,-5 193.32,-5 193.32,-17 193.32,-17 193.32,-19.5 190.82,-22 188.32,-22\"/>\n",
              "<text text-anchor=\"middle\" x=\"185.82\" y=\"-6.8\" font-family=\"Times,serif\" font-size=\"14.00\">5</text>\n",
              "</g>\n",
              "<!-- 4583758928&#45;&gt;4583759696 -->\n",
              "<g id=\"edge16\" class=\"edge\">\n",
              "<title>4583758928&#45;&gt;4583759696</title>\n",
              "<path fill=\"none\" stroke=\"black\" d=\"M185.82,-39.62C185.82,-34.17 185.82,-27.52 185.82,-22.11\"/>\n",
              "</g>\n",
              "<!-- 4583758736&#45;&gt;4583757072 -->\n",
              "<!-- 4583758352 -->\n",
              "<g id=\"node16\" class=\"node\">\n",
              "<title>4583758352</title>\n",
              "<path fill=\"none\" stroke=\"black\" stroke-width=\"0.25\" d=\"M244.04,-62C244.04,-62 235.6,-62 235.6,-62 231.93,-62 228.26,-58.33 228.26,-54.67 228.26,-54.67 228.26,-47.33 228.26,-47.33 228.26,-43.67 231.93,-40 235.6,-40 235.6,-40 244.04,-40 244.04,-40 247.71,-40 251.38,-43.67 251.38,-47.33 251.38,-47.33 251.38,-54.67 251.38,-54.67 251.38,-58.33 247.71,-62 244.04,-62\"/>\n",
              "<text text-anchor=\"middle\" x=\"239.82\" y=\"-46.8\" font-family=\"Times,serif\" font-size=\"14.00\">T2</text>\n",
              "</g>\n",
              "<!-- 4583758736&#45;&gt;4583758352 -->\n",
              "<g id=\"edge20\" class=\"edge\">\n",
              "<title>4583758736&#45;&gt;4583758352</title>\n",
              "<path fill=\"none\" stroke=\"black\" d=\"M239.82,-79.62C239.82,-74.17 239.82,-67.52 239.82,-62.11\"/>\n",
              "</g>\n",
              "<!-- 4583758800 -->\n",
              "<g id=\"node17\" class=\"node\">\n",
              "<title>4583758800</title>\n",
              "<path fill=\"none\" stroke=\"black\" stroke-width=\"0.25\" d=\"M296.16,-62C296.16,-62 277.48,-62 277.48,-62 273.81,-62 270.14,-58.33 270.14,-54.67 270.14,-54.67 270.14,-47.33 270.14,-47.33 270.14,-43.67 273.81,-40 277.48,-40 277.48,-40 296.16,-40 296.16,-40 299.83,-40 303.5,-43.67 303.5,-47.33 303.5,-47.33 303.5,-54.67 303.5,-54.67 303.5,-58.33 299.83,-62 296.16,-62\"/>\n",
              "<text text-anchor=\"middle\" x=\"286.82\" y=\"-46.8\" font-family=\"Times,serif\" font-size=\"14.00\">Sign</text>\n",
              "</g>\n",
              "<!-- 4583758736&#45;&gt;4583758800 -->\n",
              "<g id=\"edge21\" class=\"edge\">\n",
              "<title>4583758736&#45;&gt;4583758800</title>\n",
              "<path fill=\"none\" stroke=\"black\" d=\"M252.66,-79.62C259.4,-74.17 267.63,-67.52 274.32,-62.11\"/>\n",
              "</g>\n",
              "<!-- 4583756496 -->\n",
              "<g id=\"node20\" class=\"node\">\n",
              "<title>4583756496</title>\n",
              "<path fill=\"none\" stroke=\"black\" stroke-width=\"0.25\" d=\"M331.32,-62C331.32,-62 326.32,-62 326.32,-62 323.82,-62 321.32,-59.5 321.32,-57 321.32,-57 321.32,-45 321.32,-45 321.32,-42.5 323.82,-40 326.32,-40 326.32,-40 331.32,-40 331.32,-40 333.82,-40 336.32,-42.5 336.32,-45 336.32,-45 336.32,-57 336.32,-57 336.32,-59.5 333.82,-62 331.32,-62\"/>\n",
              "<text text-anchor=\"middle\" x=\"328.82\" y=\"-46.8\" font-family=\"Times,serif\" font-size=\"14.00\">1</text>\n",
              "</g>\n",
              "<!-- 4583757072&#45;&gt;4583756496 -->\n",
              "<g id=\"edge25\" class=\"edge\">\n",
              "<title>4583757072&#45;&gt;4583756496</title>\n",
              "<path fill=\"none\" stroke=\"black\" d=\"M303.38,-79.62C308.89,-73.64 315.72,-66.22 320.92,-60.58\"/>\n",
              "</g>\n",
              "<!-- 4583758352&#45;&gt;4583758800 -->\n",
              "<!-- 4583757968 -->\n",
              "<g id=\"node18\" class=\"node\">\n",
              "<title>4583757968</title>\n",
              "<path fill=\"none\" stroke=\"black\" stroke-width=\"0.25\" d=\"M242.23,-22C242.23,-22 237.42,-22 237.42,-22 235.01,-22 232.61,-19.59 232.61,-17.19 232.61,-17.19 232.61,-4.81 232.61,-4.81 232.61,-2.41 235.01,0 237.42,0 237.42,0 242.23,0 242.23,0 244.63,0 247.04,-2.41 247.04,-4.81 247.04,-4.81 247.04,-17.19 247.04,-17.19 247.04,-19.59 244.63,-22 242.23,-22\"/>\n",
              "<text text-anchor=\"middle\" x=\"239.82\" y=\"-6.8\" font-family=\"Times,serif\" font-size=\"14.00\">e</text>\n",
              "</g>\n",
              "<!-- 4583758352&#45;&gt;4583757968 -->\n",
              "<g id=\"edge23\" class=\"edge\">\n",
              "<title>4583758352&#45;&gt;4583757968</title>\n",
              "<path fill=\"none\" stroke=\"black\" d=\"M239.82,-39.62C239.82,-34.17 239.82,-27.52 239.82,-22.11\"/>\n",
              "</g>\n",
              "<!-- 4583757008 -->\n",
              "<g id=\"node19\" class=\"node\">\n",
              "<title>4583757008</title>\n",
              "<path fill=\"none\" stroke=\"black\" stroke-width=\"0.25\" d=\"M289.45,-22C289.45,-22 284.19,-22 284.19,-22 281.56,-22 278.92,-19.37 278.92,-16.74 278.92,-16.74 278.92,-5.26 278.92,-5.26 278.92,-2.63 281.56,0 284.19,0 284.19,0 289.45,0 289.45,0 292.08,0 294.72,-2.63 294.72,-5.26 294.72,-5.26 294.72,-16.74 294.72,-16.74 294.72,-19.37 292.08,-22 289.45,-22\"/>\n",
              "<text text-anchor=\"middle\" x=\"286.82\" y=\"-6.8\" font-family=\"Times,serif\" font-size=\"14.00\">+</text>\n",
              "</g>\n",
              "<!-- 4583758800&#45;&gt;4583757008 -->\n",
              "<g id=\"edge24\" class=\"edge\">\n",
              "<title>4583758800&#45;&gt;4583757008</title>\n",
              "<path fill=\"none\" stroke=\"black\" d=\"M286.82,-39.62C286.82,-34.17 286.82,-27.52 286.82,-22.11\"/>\n",
              "</g>\n",
              "</g>\n",
              "</svg>\n"
            ],
            "text/plain": [
              "(Number: (N1: (Integer: (Integer: (3)), (Digit: (2))), (Fraction: (T1: (.)), (Integer: (5)))), (Scale': (N2: (T2: (e)), (Sign: (+))), (Integer: (1))))"
            ]
          },
          "execution_count": 22,
          "metadata": {},
          "output_type": "execute_result"
        }
      ],
      "source": [
        "# possiamo ora visualizzarlo \n",
        "\n",
        "from liblet import Tree\n",
        "\n",
        "Tree.from_lol(lol)"
      ]
    }
  ],
  "metadata": {
    "kernelspec": {
      "display_name": "Python 3",
      "language": "python",
      "name": "python3"
    },
    "language_info": {
      "codemirror_mode": {
        "name": "ipython",
        "version": 3
      },
      "file_extension": ".py",
      "mimetype": "text/x-python",
      "name": "python",
      "nbconvert_exporter": "python",
      "pygments_lexer": "ipython3"
    }
  },
  "nbformat": 4,
  "nbformat_minor": 4
}
