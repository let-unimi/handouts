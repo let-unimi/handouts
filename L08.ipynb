{
  "cells": [
    {
      "cell_type": "markdown",
      "metadata": {},
      "source": [
        "# Lezione 9\n",
        "\n",
        "## Parsing top-down direzionale (caso generale)"
      ]
    },
    {
      "cell_type": "code",
      "execution_count": null,
      "metadata": {},
      "outputs": [],
      "source": [
        "from liblet import (\n",
        "  Production, \n",
        "  Grammar, \n",
        "  Derivation, \n",
        "  TopDownInstantaneousDescription,\n",
        "  Queue, \n",
        "  Stack, \n",
        "  animate_derivation,\n",
        "  ProductionGraph, \n",
        "  side_by_side\n",
        ")\n"
      ]
    },
    {
      "cell_type": "markdown",
      "metadata": {},
      "source": [
        "## Imitando le derivazioni leftmost…"
      ]
    },
    {
      "cell_type": "code",
      "execution_count": null,
      "metadata": {},
      "outputs": [
        {
          "data": {
            "text/plain": [
              "Grammar(N={A, B, S}, T={a, b}, P=(S -> a B, S -> b A, A -> a, A -> a S, A -> b A A, B -> b, B -> b S, B -> a B B), S=S)"
            ]
          },
          "execution_count": 2,
          "metadata": {},
          "output_type": "execute_result"
        }
      ],
      "source": [
        "# fig. 6.1, pag. 165\n",
        "\n",
        "G = Grammar.from_string(\"\"\"\n",
        "S -> a B | b A\n",
        "A -> a | a S | b A A\n",
        "B -> b | b S | a B B\n",
        "\"\"\")\n",
        "G"
      ]
    },
    {
      "cell_type": "code",
      "execution_count": null,
      "metadata": {},
      "outputs": [
        {
          "data": {
            "application/vnd.jupyter.widget-view+json": {
              "model_id": "02fa4df6fbf34a6c9d46e4f3f78afed2",
              "version_major": 2,
              "version_minor": 0
            },
            "text/plain": [
              "interactive(children=(IntSlider(value=0, description='n', max=4), Output(layout=Layout(height='300px'))), _dom…"
            ]
          },
          "execution_count": 3,
          "metadata": {},
          "output_type": "execute_result"
        }
      ],
      "source": [
        "# parola aabb\n",
        "\n",
        "animate_derivation(Derivation(G).leftmost((0, 7, 5, 5)))"
      ]
    },
    {
      "cell_type": "code",
      "execution_count": null,
      "metadata": {},
      "outputs": [],
      "source": [
        "# non presente nel libro (caso che mostra meglio l'esigenza di una pila)\n",
        "\n",
        "G = Grammar.from_string(\"\"\"\n",
        "S -> a B C\n",
        "B -> a B | b\n",
        "C -> a\n",
        "\"\"\")"
      ]
    },
    {
      "cell_type": "code",
      "execution_count": null,
      "metadata": {},
      "outputs": [
        {
          "data": {
            "application/vnd.jupyter.widget-view+json": {
              "model_id": "fa07c41432b14024be512296b03afabe",
              "version_major": 2,
              "version_minor": 0
            },
            "text/plain": [
              "interactive(children=(IntSlider(value=0, description='n', max=4), Output(layout=Layout(height='300px'))), _dom…"
            ]
          },
          "execution_count": 5,
          "metadata": {},
          "output_type": "execute_result"
        }
      ],
      "source": [
        "# parola aaba\n",
        "\n",
        "animate_derivation(Derivation(G).leftmost((0, 1, 2, 3)))"
      ]
    },
    {
      "cell_type": "markdown",
      "metadata": {},
      "source": [
        "# Simulare la computazione del NPDA \n",
        "\n",
        "La simulazione si basa su visite del DAG delle computazioni. In ogni nodo conserviamo la descrizione istantanea (a cui abbiamo aggiunto la derivazione che ha condotto a tale derivazione)."
      ]
    },
    {
      "cell_type": "code",
      "execution_count": null,
      "metadata": {},
      "outputs": [
        {
          "data": {
            "text/plain": [
              "(), S♯, \u001b[48;5;252m\u001b[0maaba♯"
            ]
          },
          "execution_count": 6,
          "metadata": {},
          "output_type": "execute_result"
        }
      ],
      "source": [
        "i = TopDownInstantaneousDescription(G, 'aaba')\n",
        "i"
      ]
    },
    {
      "cell_type": "code",
      "execution_count": null,
      "metadata": {},
      "outputs": [
        {
          "data": {
            "text/plain": [
              "(S -> a B C,), aBC♯, \u001b[48;5;252m\u001b[0maaba♯"
            ]
          },
          "execution_count": 7,
          "metadata": {},
          "output_type": "execute_result"
        }
      ],
      "source": [
        "i = i.predict(G.P[0])\n",
        "i"
      ]
    },
    {
      "cell_type": "code",
      "execution_count": null,
      "metadata": {},
      "outputs": [
        {
          "data": {
            "text/plain": [
              "(S -> a B C,), BC♯, \u001b[48;5;252ma\u001b[0maba♯"
            ]
          },
          "execution_count": 8,
          "metadata": {},
          "output_type": "execute_result"
        }
      ],
      "source": [
        "i = i.match()\n",
        "i"
      ]
    },
    {
      "cell_type": "code",
      "execution_count": null,
      "metadata": {},
      "outputs": [
        {
          "data": {
            "text/plain": [
              "(S -> a B C, B -> a B), aBC♯, \u001b[48;5;252ma\u001b[0maba♯"
            ]
          },
          "execution_count": 9,
          "metadata": {},
          "output_type": "execute_result"
        }
      ],
      "source": [
        "i = i.predict(G.P[1])\n",
        "i"
      ]
    },
    {
      "cell_type": "code",
      "execution_count": null,
      "metadata": {},
      "outputs": [
        {
          "data": {
            "text/plain": [
              "(S -> a B C, B -> a B), BC♯, \u001b[48;5;252maa\u001b[0mba♯"
            ]
          },
          "execution_count": 10,
          "metadata": {},
          "output_type": "execute_result"
        }
      ],
      "source": [
        "i = i.match()\n",
        "i"
      ]
    },
    {
      "cell_type": "code",
      "execution_count": null,
      "metadata": {},
      "outputs": [
        {
          "data": {
            "text/plain": [
              "(S -> a B C, B -> a B, B -> b), bC♯, \u001b[48;5;252maa\u001b[0mba♯"
            ]
          },
          "execution_count": 11,
          "metadata": {},
          "output_type": "execute_result"
        }
      ],
      "source": [
        "i = i.predict(G.P[2])\n",
        "i"
      ]
    },
    {
      "cell_type": "code",
      "execution_count": null,
      "metadata": {},
      "outputs": [
        {
          "data": {
            "text/plain": [
              "(S -> a B C, B -> a B, B -> b), C♯, \u001b[48;5;252maab\u001b[0ma♯"
            ]
          },
          "execution_count": 12,
          "metadata": {},
          "output_type": "execute_result"
        }
      ],
      "source": [
        "i = i.match()\n",
        "i"
      ]
    },
    {
      "cell_type": "code",
      "execution_count": null,
      "metadata": {},
      "outputs": [
        {
          "data": {
            "text/plain": [
              "(S -> a B C, B -> a B, B -> b, C -> a), a♯, \u001b[48;5;252maab\u001b[0ma♯"
            ]
          },
          "execution_count": 13,
          "metadata": {},
          "output_type": "execute_result"
        }
      ],
      "source": [
        "i = i.predict(G.P[3])\n",
        "i"
      ]
    },
    {
      "cell_type": "code",
      "execution_count": null,
      "metadata": {},
      "outputs": [
        {
          "data": {
            "text/plain": [
              "(S -> a B C, B -> a B, B -> b, C -> a), ♯, \u001b[48;5;252maaba\u001b[0m♯"
            ]
          },
          "execution_count": 14,
          "metadata": {},
          "output_type": "execute_result"
        }
      ],
      "source": [
        "i = i.match()\n",
        "i"
      ]
    },
    {
      "cell_type": "code",
      "execution_count": null,
      "metadata": {},
      "outputs": [
        {
          "data": {
            "text/plain": [
              "True"
            ]
          },
          "execution_count": 15,
          "metadata": {},
          "output_type": "execute_result"
        }
      ],
      "source": [
        "i.is_done()"
      ]
    },
    {
      "cell_type": "markdown",
      "metadata": {},
      "source": [
        "## La funzione \"stato prossimo\""
      ]
    },
    {
      "cell_type": "code",
      "execution_count": null,
      "metadata": {},
      "outputs": [],
      "source": [
        "def next_instdescrs(instdescr):\n",
        "  if instdescr.is_done(): return []\n",
        "  G = instdescr.G\n",
        "  top = instdescr.top()\n",
        "  if top in G.T:\n",
        "    return [instdescr.match()] if top == instdescr.head() else []\n",
        "  else:\n",
        "    return [instdescr.predict(P) for P in filter(Production.such_that(lhs = top), G.P)]\n",
        "\n",
        "# tengo da parte un riferimento a questa implementazione per dopo…\n",
        "original_next_instdescrs = next_instdescrs"
      ]
    },
    {
      "cell_type": "markdown",
      "metadata": {},
      "source": [
        "## Usando una visita in ampiezza\n",
        "\n",
        "Visitiamo il DAG con una *coda*, teniamo da parte *tutte le derivazioni* che man mano troviamo. \n",
        "\n",
        "La visita \"verbosa\" stampa il contenuto dell'intera coda ad ogni iterazione.\n",
        "\n",
        "Il parametro `first_only` fa in modo che la simulazione si arresti quando viene trovata la prima derivazione."
      ]
    },
    {
      "cell_type": "code",
      "execution_count": null,
      "metadata": {},
      "outputs": [],
      "source": [
        "def breadth_first(G, word, verbose = False, first_only = False):\n",
        "  q = Queue()\n",
        "  q.enqueue(TopDownInstantaneousDescription(G, word))\n",
        "  derivations = []\n",
        "  while q:\n",
        "    if verbose:\n",
        "      for i in q: print(i)\n",
        "      print('-' * 60)\n",
        "    curr = q.dequeue()\n",
        "    if curr.is_done():\n",
        "      derivations.append(curr.steps)\n",
        "      if first_only: return derivations\n",
        "    else:\n",
        "      for nxt in next_instdescrs(curr): q.enqueue(nxt)\n",
        "  return derivations"
      ]
    },
    {
      "cell_type": "code",
      "execution_count": null,
      "metadata": {},
      "outputs": [
        {
          "data": {
            "text/plain": [
              "[(S -> a B C, B -> a B, B -> b, C -> a)]"
            ]
          },
          "execution_count": 18,
          "metadata": {},
          "output_type": "execute_result"
        }
      ],
      "source": [
        "# testiamolo sull'ultima grammatica vista\n",
        "\n",
        "steps = breadth_first(G, 'aaba')\n",
        "steps"
      ]
    },
    {
      "cell_type": "code",
      "execution_count": null,
      "metadata": {},
      "outputs": [
        {
          "data": {
            "text/plain": [
              "S -> a B C -> a a B C -> a a b C -> a a b a"
            ]
          },
          "execution_count": 19,
          "metadata": {},
          "output_type": "execute_result"
        }
      ],
      "source": [
        "Derivation(G).leftmost(steps[0])"
      ]
    },
    {
      "cell_type": "markdown",
      "metadata": {},
      "source": [
        "## Non solo GNF\n",
        "\n",
        "A ben guardare, la simulazione \"funziona\" non solo per le GNF… se il lato destro mescola simboli terminali e non, finiranno nella pila del PDA e verranno gestiti (apparentemente) senza particolari problemi…"
      ]
    },
    {
      "cell_type": "code",
      "execution_count": null,
      "metadata": {},
      "outputs": [
        {
          "data": {
            "text/plain": [
              "Grammar(N={A, B, C, D, S}, T={a, b, c}, P=(S -> A B, S -> D C, A -> a, A -> a A, B -> b c, B -> b B c, D -> a b, D -> a D b, C -> c, C -> c C), S=S)"
            ]
          },
          "execution_count": 20,
          "metadata": {},
          "output_type": "execute_result"
        }
      ],
      "source": [
        "# un altro test, fedele al libro di testo\n",
        "\n",
        "# fig. 6.6, pag. 171\n",
        "\n",
        "G = Grammar.from_string(\"\"\"\n",
        "S -> A B | D C \n",
        "A -> a | a A\n",
        "B -> b c | b B c \n",
        "D -> a b | a D b \n",
        "C -> c | c C\n",
        "\"\"\")\n",
        "G"
      ]
    },
    {
      "cell_type": "code",
      "execution_count": null,
      "metadata": {},
      "outputs": [
        {
          "name": "stdout",
          "output_type": "stream",
          "text": [
            "(), S♯, \u001b[48;5;252m\u001b[0maabc♯\n",
            "------------------------------------------------------------\n",
            "(S -> A B,), AB♯, \u001b[48;5;252m\u001b[0maabc♯\n",
            "(S -> D C,), DC♯, \u001b[48;5;252m\u001b[0maabc♯\n",
            "------------------------------------------------------------\n",
            "(S -> D C,), DC♯, \u001b[48;5;252m\u001b[0maabc♯\n",
            "(S -> A B, A -> a), aB♯, \u001b[48;5;252m\u001b[0maabc♯\n",
            "(S -> A B, A -> a A), aAB♯, \u001b[48;5;252m\u001b[0maabc♯\n",
            "------------------------------------------------------------\n",
            "(S -> A B, A -> a), aB♯, \u001b[48;5;252m\u001b[0maabc♯\n",
            "(S -> A B, A -> a A), aAB♯, \u001b[48;5;252m\u001b[0maabc♯\n",
            "(S -> D C, D -> a b), abC♯, \u001b[48;5;252m\u001b[0maabc♯\n",
            "(S -> D C, D -> a D b), aDbC♯, \u001b[48;5;252m\u001b[0maabc♯\n",
            "------------------------------------------------------------\n",
            "(S -> A B, A -> a A), aAB♯, \u001b[48;5;252m\u001b[0maabc♯\n",
            "(S -> D C, D -> a b), abC♯, \u001b[48;5;252m\u001b[0maabc♯\n",
            "(S -> D C, D -> a D b), aDbC♯, \u001b[48;5;252m\u001b[0maabc♯\n",
            "(S -> A B, A -> a), B♯, \u001b[48;5;252ma\u001b[0mabc♯\n",
            "------------------------------------------------------------\n",
            "(S -> D C, D -> a b), abC♯, \u001b[48;5;252m\u001b[0maabc♯\n",
            "(S -> D C, D -> a D b), aDbC♯, \u001b[48;5;252m\u001b[0maabc♯\n",
            "(S -> A B, A -> a), B♯, \u001b[48;5;252ma\u001b[0mabc♯\n",
            "(S -> A B, A -> a A), AB♯, \u001b[48;5;252ma\u001b[0mabc♯\n",
            "------------------------------------------------------------\n",
            "(S -> D C, D -> a D b), aDbC♯, \u001b[48;5;252m\u001b[0maabc♯\n",
            "(S -> A B, A -> a), B♯, \u001b[48;5;252ma\u001b[0mabc♯\n",
            "(S -> A B, A -> a A), AB♯, \u001b[48;5;252ma\u001b[0mabc♯\n",
            "(S -> D C, D -> a b), bC♯, \u001b[48;5;252ma\u001b[0mabc♯\n",
            "------------------------------------------------------------\n",
            "(S -> A B, A -> a), B♯, \u001b[48;5;252ma\u001b[0mabc♯\n",
            "(S -> A B, A -> a A), AB♯, \u001b[48;5;252ma\u001b[0mabc♯\n",
            "(S -> D C, D -> a b), bC♯, \u001b[48;5;252ma\u001b[0mabc♯\n",
            "(S -> D C, D -> a D b), DbC♯, \u001b[48;5;252ma\u001b[0mabc♯\n",
            "------------------------------------------------------------\n",
            "(S -> A B, A -> a A), AB♯, \u001b[48;5;252ma\u001b[0mabc♯\n",
            "(S -> D C, D -> a b), bC♯, \u001b[48;5;252ma\u001b[0mabc♯\n",
            "(S -> D C, D -> a D b), DbC♯, \u001b[48;5;252ma\u001b[0mabc♯\n",
            "(S -> A B, A -> a, B -> b c), bc♯, \u001b[48;5;252ma\u001b[0mabc♯\n",
            "(S -> A B, A -> a, B -> b B c), bBc♯, \u001b[48;5;252ma\u001b[0mabc♯\n",
            "------------------------------------------------------------\n",
            "(S -> D C, D -> a b), bC♯, \u001b[48;5;252ma\u001b[0mabc♯\n",
            "(S -> D C, D -> a D b), DbC♯, \u001b[48;5;252ma\u001b[0mabc♯\n",
            "(S -> A B, A -> a, B -> b c), bc♯, \u001b[48;5;252ma\u001b[0mabc♯\n",
            "(S -> A B, A -> a, B -> b B c), bBc♯, \u001b[48;5;252ma\u001b[0mabc♯\n",
            "(S -> A B, A -> a A, A -> a), aB♯, \u001b[48;5;252ma\u001b[0mabc♯\n",
            "(S -> A B, A -> a A, A -> a A), aAB♯, \u001b[48;5;252ma\u001b[0mabc♯\n",
            "------------------------------------------------------------\n",
            "(S -> D C, D -> a D b), DbC♯, \u001b[48;5;252ma\u001b[0mabc♯\n",
            "(S -> A B, A -> a, B -> b c), bc♯, \u001b[48;5;252ma\u001b[0mabc♯\n",
            "(S -> A B, A -> a, B -> b B c), bBc♯, \u001b[48;5;252ma\u001b[0mabc♯\n",
            "(S -> A B, A -> a A, A -> a), aB♯, \u001b[48;5;252ma\u001b[0mabc♯\n",
            "(S -> A B, A -> a A, A -> a A), aAB♯, \u001b[48;5;252ma\u001b[0mabc♯\n",
            "------------------------------------------------------------\n",
            "(S -> A B, A -> a, B -> b c), bc♯, \u001b[48;5;252ma\u001b[0mabc♯\n",
            "(S -> A B, A -> a, B -> b B c), bBc♯, \u001b[48;5;252ma\u001b[0mabc♯\n",
            "(S -> A B, A -> a A, A -> a), aB♯, \u001b[48;5;252ma\u001b[0mabc♯\n",
            "(S -> A B, A -> a A, A -> a A), aAB♯, \u001b[48;5;252ma\u001b[0mabc♯\n",
            "(S -> D C, D -> a D b, D -> a b), abbC♯, \u001b[48;5;252ma\u001b[0mabc♯\n",
            "(S -> D C, D -> a D b, D -> a D b), aDbbC♯, \u001b[48;5;252ma\u001b[0mabc♯\n",
            "------------------------------------------------------------\n",
            "(S -> A B, A -> a, B -> b B c), bBc♯, \u001b[48;5;252ma\u001b[0mabc♯\n",
            "(S -> A B, A -> a A, A -> a), aB♯, \u001b[48;5;252ma\u001b[0mabc♯\n",
            "(S -> A B, A -> a A, A -> a A), aAB♯, \u001b[48;5;252ma\u001b[0mabc♯\n",
            "(S -> D C, D -> a D b, D -> a b), abbC♯, \u001b[48;5;252ma\u001b[0mabc♯\n",
            "(S -> D C, D -> a D b, D -> a D b), aDbbC♯, \u001b[48;5;252ma\u001b[0mabc♯\n",
            "------------------------------------------------------------\n",
            "(S -> A B, A -> a A, A -> a), aB♯, \u001b[48;5;252ma\u001b[0mabc♯\n",
            "(S -> A B, A -> a A, A -> a A), aAB♯, \u001b[48;5;252ma\u001b[0mabc♯\n",
            "(S -> D C, D -> a D b, D -> a b), abbC♯, \u001b[48;5;252ma\u001b[0mabc♯\n",
            "(S -> D C, D -> a D b, D -> a D b), aDbbC♯, \u001b[48;5;252ma\u001b[0mabc♯\n",
            "------------------------------------------------------------\n",
            "(S -> A B, A -> a A, A -> a A), aAB♯, \u001b[48;5;252ma\u001b[0mabc♯\n",
            "(S -> D C, D -> a D b, D -> a b), abbC♯, \u001b[48;5;252ma\u001b[0mabc♯\n",
            "(S -> D C, D -> a D b, D -> a D b), aDbbC♯, \u001b[48;5;252ma\u001b[0mabc♯\n",
            "(S -> A B, A -> a A, A -> a), B♯, \u001b[48;5;252maa\u001b[0mbc♯\n",
            "------------------------------------------------------------\n",
            "(S -> D C, D -> a D b, D -> a b), abbC♯, \u001b[48;5;252ma\u001b[0mabc♯\n",
            "(S -> D C, D -> a D b, D -> a D b), aDbbC♯, \u001b[48;5;252ma\u001b[0mabc♯\n",
            "(S -> A B, A -> a A, A -> a), B♯, \u001b[48;5;252maa\u001b[0mbc♯\n",
            "(S -> A B, A -> a A, A -> a A), AB♯, \u001b[48;5;252maa\u001b[0mbc♯\n",
            "------------------------------------------------------------\n",
            "(S -> D C, D -> a D b, D -> a D b), aDbbC♯, \u001b[48;5;252ma\u001b[0mabc♯\n",
            "(S -> A B, A -> a A, A -> a), B♯, \u001b[48;5;252maa\u001b[0mbc♯\n",
            "(S -> A B, A -> a A, A -> a A), AB♯, \u001b[48;5;252maa\u001b[0mbc♯\n",
            "(S -> D C, D -> a D b, D -> a b), bbC♯, \u001b[48;5;252maa\u001b[0mbc♯\n",
            "------------------------------------------------------------\n",
            "(S -> A B, A -> a A, A -> a), B♯, \u001b[48;5;252maa\u001b[0mbc♯\n",
            "(S -> A B, A -> a A, A -> a A), AB♯, \u001b[48;5;252maa\u001b[0mbc♯\n",
            "(S -> D C, D -> a D b, D -> a b), bbC♯, \u001b[48;5;252maa\u001b[0mbc♯\n",
            "(S -> D C, D -> a D b, D -> a D b), DbbC♯, \u001b[48;5;252maa\u001b[0mbc♯\n",
            "------------------------------------------------------------\n",
            "(S -> A B, A -> a A, A -> a A), AB♯, \u001b[48;5;252maa\u001b[0mbc♯\n",
            "(S -> D C, D -> a D b, D -> a b), bbC♯, \u001b[48;5;252maa\u001b[0mbc♯\n",
            "(S -> D C, D -> a D b, D -> a D b), DbbC♯, \u001b[48;5;252maa\u001b[0mbc♯\n",
            "(S -> A B, A -> a A, A -> a, B -> b c), bc♯, \u001b[48;5;252maa\u001b[0mbc♯\n",
            "(S -> A B, A -> a A, A -> a, B -> b B c), bBc♯, \u001b[48;5;252maa\u001b[0mbc♯\n",
            "------------------------------------------------------------\n",
            "(S -> D C, D -> a D b, D -> a b), bbC♯, \u001b[48;5;252maa\u001b[0mbc♯\n",
            "(S -> D C, D -> a D b, D -> a D b), DbbC♯, \u001b[48;5;252maa\u001b[0mbc♯\n",
            "(S -> A B, A -> a A, A -> a, B -> b c), bc♯, \u001b[48;5;252maa\u001b[0mbc♯\n",
            "(S -> A B, A -> a A, A -> a, B -> b B c), bBc♯, \u001b[48;5;252maa\u001b[0mbc♯\n",
            "(S -> A B, A -> a A, A -> a A, A -> a), aB♯, \u001b[48;5;252maa\u001b[0mbc♯\n",
            "(S -> A B, A -> a A, A -> a A, A -> a A), aAB♯, \u001b[48;5;252maa\u001b[0mbc♯\n",
            "------------------------------------------------------------\n",
            "(S -> D C, D -> a D b, D -> a D b), DbbC♯, \u001b[48;5;252maa\u001b[0mbc♯\n",
            "(S -> A B, A -> a A, A -> a, B -> b c), bc♯, \u001b[48;5;252maa\u001b[0mbc♯\n",
            "(S -> A B, A -> a A, A -> a, B -> b B c), bBc♯, \u001b[48;5;252maa\u001b[0mbc♯\n",
            "(S -> A B, A -> a A, A -> a A, A -> a), aB♯, \u001b[48;5;252maa\u001b[0mbc♯\n",
            "(S -> A B, A -> a A, A -> a A, A -> a A), aAB♯, \u001b[48;5;252maa\u001b[0mbc♯\n",
            "(S -> D C, D -> a D b, D -> a b), bC♯, \u001b[48;5;252maab\u001b[0mc♯\n",
            "------------------------------------------------------------\n",
            "(S -> A B, A -> a A, A -> a, B -> b c), bc♯, \u001b[48;5;252maa\u001b[0mbc♯\n",
            "(S -> A B, A -> a A, A -> a, B -> b B c), bBc♯, \u001b[48;5;252maa\u001b[0mbc♯\n",
            "(S -> A B, A -> a A, A -> a A, A -> a), aB♯, \u001b[48;5;252maa\u001b[0mbc♯\n",
            "(S -> A B, A -> a A, A -> a A, A -> a A), aAB♯, \u001b[48;5;252maa\u001b[0mbc♯\n",
            "(S -> D C, D -> a D b, D -> a b), bC♯, \u001b[48;5;252maab\u001b[0mc♯\n",
            "(S -> D C, D -> a D b, D -> a D b, D -> a b), abbbC♯, \u001b[48;5;252maa\u001b[0mbc♯\n",
            "(S -> D C, D -> a D b, D -> a D b, D -> a D b), aDbbbC♯, \u001b[48;5;252maa\u001b[0mbc♯\n",
            "------------------------------------------------------------\n",
            "(S -> A B, A -> a A, A -> a, B -> b B c), bBc♯, \u001b[48;5;252maa\u001b[0mbc♯\n",
            "(S -> A B, A -> a A, A -> a A, A -> a), aB♯, \u001b[48;5;252maa\u001b[0mbc♯\n",
            "(S -> A B, A -> a A, A -> a A, A -> a A), aAB♯, \u001b[48;5;252maa\u001b[0mbc♯\n",
            "(S -> D C, D -> a D b, D -> a b), bC♯, \u001b[48;5;252maab\u001b[0mc♯\n",
            "(S -> D C, D -> a D b, D -> a D b, D -> a b), abbbC♯, \u001b[48;5;252maa\u001b[0mbc♯\n",
            "(S -> D C, D -> a D b, D -> a D b, D -> a D b), aDbbbC♯, \u001b[48;5;252maa\u001b[0mbc♯\n",
            "(S -> A B, A -> a A, A -> a, B -> b c), c♯, \u001b[48;5;252maab\u001b[0mc♯\n",
            "------------------------------------------------------------\n",
            "(S -> A B, A -> a A, A -> a A, A -> a), aB♯, \u001b[48;5;252maa\u001b[0mbc♯\n",
            "(S -> A B, A -> a A, A -> a A, A -> a A), aAB♯, \u001b[48;5;252maa\u001b[0mbc♯\n",
            "(S -> D C, D -> a D b, D -> a b), bC♯, \u001b[48;5;252maab\u001b[0mc♯\n",
            "(S -> D C, D -> a D b, D -> a D b, D -> a b), abbbC♯, \u001b[48;5;252maa\u001b[0mbc♯\n",
            "(S -> D C, D -> a D b, D -> a D b, D -> a D b), aDbbbC♯, \u001b[48;5;252maa\u001b[0mbc♯\n",
            "(S -> A B, A -> a A, A -> a, B -> b c), c♯, \u001b[48;5;252maab\u001b[0mc♯\n",
            "(S -> A B, A -> a A, A -> a, B -> b B c), Bc♯, \u001b[48;5;252maab\u001b[0mc♯\n",
            "------------------------------------------------------------\n",
            "(S -> A B, A -> a A, A -> a A, A -> a A), aAB♯, \u001b[48;5;252maa\u001b[0mbc♯\n",
            "(S -> D C, D -> a D b, D -> a b), bC♯, \u001b[48;5;252maab\u001b[0mc♯\n",
            "(S -> D C, D -> a D b, D -> a D b, D -> a b), abbbC♯, \u001b[48;5;252maa\u001b[0mbc♯\n",
            "(S -> D C, D -> a D b, D -> a D b, D -> a D b), aDbbbC♯, \u001b[48;5;252maa\u001b[0mbc♯\n",
            "(S -> A B, A -> a A, A -> a, B -> b c), c♯, \u001b[48;5;252maab\u001b[0mc♯\n",
            "(S -> A B, A -> a A, A -> a, B -> b B c), Bc♯, \u001b[48;5;252maab\u001b[0mc♯\n",
            "------------------------------------------------------------\n",
            "(S -> D C, D -> a D b, D -> a b), bC♯, \u001b[48;5;252maab\u001b[0mc♯\n",
            "(S -> D C, D -> a D b, D -> a D b, D -> a b), abbbC♯, \u001b[48;5;252maa\u001b[0mbc♯\n",
            "(S -> D C, D -> a D b, D -> a D b, D -> a D b), aDbbbC♯, \u001b[48;5;252maa\u001b[0mbc♯\n",
            "(S -> A B, A -> a A, A -> a, B -> b c), c♯, \u001b[48;5;252maab\u001b[0mc♯\n",
            "(S -> A B, A -> a A, A -> a, B -> b B c), Bc♯, \u001b[48;5;252maab\u001b[0mc♯\n",
            "------------------------------------------------------------\n",
            "(S -> D C, D -> a D b, D -> a D b, D -> a b), abbbC♯, \u001b[48;5;252maa\u001b[0mbc♯\n",
            "(S -> D C, D -> a D b, D -> a D b, D -> a D b), aDbbbC♯, \u001b[48;5;252maa\u001b[0mbc♯\n",
            "(S -> A B, A -> a A, A -> a, B -> b c), c♯, \u001b[48;5;252maab\u001b[0mc♯\n",
            "(S -> A B, A -> a A, A -> a, B -> b B c), Bc♯, \u001b[48;5;252maab\u001b[0mc♯\n",
            "------------------------------------------------------------\n",
            "(S -> D C, D -> a D b, D -> a D b, D -> a D b), aDbbbC♯, \u001b[48;5;252maa\u001b[0mbc♯\n",
            "(S -> A B, A -> a A, A -> a, B -> b c), c♯, \u001b[48;5;252maab\u001b[0mc♯\n",
            "(S -> A B, A -> a A, A -> a, B -> b B c), Bc♯, \u001b[48;5;252maab\u001b[0mc♯\n",
            "------------------------------------------------------------\n",
            "(S -> A B, A -> a A, A -> a, B -> b c), c♯, \u001b[48;5;252maab\u001b[0mc♯\n",
            "(S -> A B, A -> a A, A -> a, B -> b B c), Bc♯, \u001b[48;5;252maab\u001b[0mc♯\n",
            "------------------------------------------------------------\n",
            "(S -> A B, A -> a A, A -> a, B -> b B c), Bc♯, \u001b[48;5;252maab\u001b[0mc♯\n",
            "(S -> A B, A -> a A, A -> a, B -> b c), ♯, \u001b[48;5;252maabc\u001b[0m♯\n",
            "------------------------------------------------------------\n",
            "(S -> A B, A -> a A, A -> a, B -> b c), ♯, \u001b[48;5;252maabc\u001b[0m♯\n",
            "(S -> A B, A -> a A, A -> a, B -> b B c, B -> b c), bcc♯, \u001b[48;5;252maab\u001b[0mc♯\n",
            "(S -> A B, A -> a A, A -> a, B -> b B c, B -> b B c), bBcc♯, \u001b[48;5;252maab\u001b[0mc♯\n",
            "------------------------------------------------------------\n",
            "(S -> A B, A -> a A, A -> a, B -> b B c, B -> b c), bcc♯, \u001b[48;5;252maab\u001b[0mc♯\n",
            "(S -> A B, A -> a A, A -> a, B -> b B c, B -> b B c), bBcc♯, \u001b[48;5;252maab\u001b[0mc♯\n",
            "------------------------------------------------------------\n",
            "(S -> A B, A -> a A, A -> a, B -> b B c, B -> b B c), bBcc♯, \u001b[48;5;252maab\u001b[0mc♯\n",
            "------------------------------------------------------------\n"
          ]
        },
        {
          "data": {
            "text/plain": [
              "[(S -> A B, A -> a A, A -> a, B -> b c)]"
            ]
          },
          "execution_count": 21,
          "metadata": {},
          "output_type": "execute_result"
        }
      ],
      "source": [
        "breadth_first(G, 'aabc', verbose = True)"
      ]
    },
    {
      "cell_type": "markdown",
      "metadata": {},
      "source": [
        "## Usando una visita in profondità\n",
        "\n",
        "Visitiamo il DAG con una *pila*, come prima teniamo da parte *tutte le derivazioni* che man mano troviamo. \n",
        "\n",
        "La visita \"verbosa\" stampa il contenuto dell'intera coda ad ogni iterazione.\n",
        "\n",
        "Il parametro `max_steps` limita (se diverso da -1) il numero massimo di passi di simulazione."
      ]
    },
    {
      "cell_type": "code",
      "execution_count": null,
      "metadata": {},
      "outputs": [],
      "source": [
        "def depth_first(G, word, verbose = False, max_steps = -1):\n",
        "  s = Stack()\n",
        "  s.push(TopDownInstantaneousDescription(G, word))\n",
        "  derivations = []\n",
        "  steps = 0\n",
        "  while s:\n",
        "    if steps > max_steps > -1: break\n",
        "    steps += 1\n",
        "    if verbose:\n",
        "      for i in s: print(i)\n",
        "      print('-' * 60)\n",
        "    curr = s.pop()\n",
        "    if curr.is_done():\n",
        "      derivations.append(curr.steps)\n",
        "    else:\n",
        "      for nxt in next_instdescrs(curr): s.push(nxt)\n",
        "  return derivations"
      ]
    },
    {
      "cell_type": "code",
      "execution_count": null,
      "metadata": {},
      "outputs": [
        {
          "name": "stdout",
          "output_type": "stream",
          "text": [
            "(), S♯, \u001b[48;5;252m\u001b[0maabc♯\n",
            "------------------------------------------------------------\n",
            "(S -> A B,), AB♯, \u001b[48;5;252m\u001b[0maabc♯\n",
            "(S -> D C,), DC♯, \u001b[48;5;252m\u001b[0maabc♯\n",
            "------------------------------------------------------------\n",
            "(S -> A B,), AB♯, \u001b[48;5;252m\u001b[0maabc♯\n",
            "(S -> D C, D -> a b), abC♯, \u001b[48;5;252m\u001b[0maabc♯\n",
            "(S -> D C, D -> a D b), aDbC♯, \u001b[48;5;252m\u001b[0maabc♯\n",
            "------------------------------------------------------------\n",
            "(S -> A B,), AB♯, \u001b[48;5;252m\u001b[0maabc♯\n",
            "(S -> D C, D -> a b), abC♯, \u001b[48;5;252m\u001b[0maabc♯\n",
            "(S -> D C, D -> a D b), DbC♯, \u001b[48;5;252ma\u001b[0mabc♯\n",
            "------------------------------------------------------------\n",
            "(S -> A B,), AB♯, \u001b[48;5;252m\u001b[0maabc♯\n",
            "(S -> D C, D -> a b), abC♯, \u001b[48;5;252m\u001b[0maabc♯\n",
            "(S -> D C, D -> a D b, D -> a b), abbC♯, \u001b[48;5;252ma\u001b[0mabc♯\n",
            "(S -> D C, D -> a D b, D -> a D b), aDbbC♯, \u001b[48;5;252ma\u001b[0mabc♯\n",
            "------------------------------------------------------------\n",
            "(S -> A B,), AB♯, \u001b[48;5;252m\u001b[0maabc♯\n",
            "(S -> D C, D -> a b), abC♯, \u001b[48;5;252m\u001b[0maabc♯\n",
            "(S -> D C, D -> a D b, D -> a b), abbC♯, \u001b[48;5;252ma\u001b[0mabc♯\n",
            "(S -> D C, D -> a D b, D -> a D b), DbbC♯, \u001b[48;5;252maa\u001b[0mbc♯\n",
            "------------------------------------------------------------\n",
            "(S -> A B,), AB♯, \u001b[48;5;252m\u001b[0maabc♯\n",
            "(S -> D C, D -> a b), abC♯, \u001b[48;5;252m\u001b[0maabc♯\n",
            "(S -> D C, D -> a D b, D -> a b), abbC♯, \u001b[48;5;252ma\u001b[0mabc♯\n",
            "(S -> D C, D -> a D b, D -> a D b, D -> a b), abbbC♯, \u001b[48;5;252maa\u001b[0mbc♯\n",
            "(S -> D C, D -> a D b, D -> a D b, D -> a D b), aDbbbC♯, \u001b[48;5;252maa\u001b[0mbc♯\n",
            "------------------------------------------------------------\n",
            "(S -> A B,), AB♯, \u001b[48;5;252m\u001b[0maabc♯\n",
            "(S -> D C, D -> a b), abC♯, \u001b[48;5;252m\u001b[0maabc♯\n",
            "(S -> D C, D -> a D b, D -> a b), abbC♯, \u001b[48;5;252ma\u001b[0mabc♯\n",
            "(S -> D C, D -> a D b, D -> a D b, D -> a b), abbbC♯, \u001b[48;5;252maa\u001b[0mbc♯\n",
            "------------------------------------------------------------\n",
            "(S -> A B,), AB♯, \u001b[48;5;252m\u001b[0maabc♯\n",
            "(S -> D C, D -> a b), abC♯, \u001b[48;5;252m\u001b[0maabc♯\n",
            "(S -> D C, D -> a D b, D -> a b), abbC♯, \u001b[48;5;252ma\u001b[0mabc♯\n",
            "------------------------------------------------------------\n",
            "(S -> A B,), AB♯, \u001b[48;5;252m\u001b[0maabc♯\n",
            "(S -> D C, D -> a b), abC♯, \u001b[48;5;252m\u001b[0maabc♯\n",
            "(S -> D C, D -> a D b, D -> a b), bbC♯, \u001b[48;5;252maa\u001b[0mbc♯\n",
            "------------------------------------------------------------\n",
            "(S -> A B,), AB♯, \u001b[48;5;252m\u001b[0maabc♯\n",
            "(S -> D C, D -> a b), abC♯, \u001b[48;5;252m\u001b[0maabc♯\n",
            "(S -> D C, D -> a D b, D -> a b), bC♯, \u001b[48;5;252maab\u001b[0mc♯\n",
            "------------------------------------------------------------\n",
            "(S -> A B,), AB♯, \u001b[48;5;252m\u001b[0maabc♯\n",
            "(S -> D C, D -> a b), abC♯, \u001b[48;5;252m\u001b[0maabc♯\n",
            "------------------------------------------------------------\n",
            "(S -> A B,), AB♯, \u001b[48;5;252m\u001b[0maabc♯\n",
            "(S -> D C, D -> a b), bC♯, \u001b[48;5;252ma\u001b[0mabc♯\n",
            "------------------------------------------------------------\n",
            "(S -> A B,), AB♯, \u001b[48;5;252m\u001b[0maabc♯\n",
            "------------------------------------------------------------\n",
            "(S -> A B, A -> a), aB♯, \u001b[48;5;252m\u001b[0maabc♯\n",
            "(S -> A B, A -> a A), aAB♯, \u001b[48;5;252m\u001b[0maabc♯\n",
            "------------------------------------------------------------\n",
            "(S -> A B, A -> a), aB♯, \u001b[48;5;252m\u001b[0maabc♯\n",
            "(S -> A B, A -> a A), AB♯, \u001b[48;5;252ma\u001b[0mabc♯\n",
            "------------------------------------------------------------\n",
            "(S -> A B, A -> a), aB♯, \u001b[48;5;252m\u001b[0maabc♯\n",
            "(S -> A B, A -> a A, A -> a), aB♯, \u001b[48;5;252ma\u001b[0mabc♯\n",
            "(S -> A B, A -> a A, A -> a A), aAB♯, \u001b[48;5;252ma\u001b[0mabc♯\n",
            "------------------------------------------------------------\n",
            "(S -> A B, A -> a), aB♯, \u001b[48;5;252m\u001b[0maabc♯\n",
            "(S -> A B, A -> a A, A -> a), aB♯, \u001b[48;5;252ma\u001b[0mabc♯\n",
            "(S -> A B, A -> a A, A -> a A), AB♯, \u001b[48;5;252maa\u001b[0mbc♯\n",
            "------------------------------------------------------------\n",
            "(S -> A B, A -> a), aB♯, \u001b[48;5;252m\u001b[0maabc♯\n",
            "(S -> A B, A -> a A, A -> a), aB♯, \u001b[48;5;252ma\u001b[0mabc♯\n",
            "(S -> A B, A -> a A, A -> a A, A -> a), aB♯, \u001b[48;5;252maa\u001b[0mbc♯\n",
            "(S -> A B, A -> a A, A -> a A, A -> a A), aAB♯, \u001b[48;5;252maa\u001b[0mbc♯\n",
            "------------------------------------------------------------\n",
            "(S -> A B, A -> a), aB♯, \u001b[48;5;252m\u001b[0maabc♯\n",
            "(S -> A B, A -> a A, A -> a), aB♯, \u001b[48;5;252ma\u001b[0mabc♯\n",
            "(S -> A B, A -> a A, A -> a A, A -> a), aB♯, \u001b[48;5;252maa\u001b[0mbc♯\n",
            "------------------------------------------------------------\n",
            "(S -> A B, A -> a), aB♯, \u001b[48;5;252m\u001b[0maabc♯\n",
            "(S -> A B, A -> a A, A -> a), aB♯, \u001b[48;5;252ma\u001b[0mabc♯\n",
            "------------------------------------------------------------\n",
            "(S -> A B, A -> a), aB♯, \u001b[48;5;252m\u001b[0maabc♯\n",
            "(S -> A B, A -> a A, A -> a), B♯, \u001b[48;5;252maa\u001b[0mbc♯\n",
            "------------------------------------------------------------\n",
            "(S -> A B, A -> a), aB♯, \u001b[48;5;252m\u001b[0maabc♯\n",
            "(S -> A B, A -> a A, A -> a, B -> b c), bc♯, \u001b[48;5;252maa\u001b[0mbc♯\n",
            "(S -> A B, A -> a A, A -> a, B -> b B c), bBc♯, \u001b[48;5;252maa\u001b[0mbc♯\n",
            "------------------------------------------------------------\n",
            "(S -> A B, A -> a), aB♯, \u001b[48;5;252m\u001b[0maabc♯\n",
            "(S -> A B, A -> a A, A -> a, B -> b c), bc♯, \u001b[48;5;252maa\u001b[0mbc♯\n",
            "(S -> A B, A -> a A, A -> a, B -> b B c), Bc♯, \u001b[48;5;252maab\u001b[0mc♯\n",
            "------------------------------------------------------------\n",
            "(S -> A B, A -> a), aB♯, \u001b[48;5;252m\u001b[0maabc♯\n",
            "(S -> A B, A -> a A, A -> a, B -> b c), bc♯, \u001b[48;5;252maa\u001b[0mbc♯\n",
            "(S -> A B, A -> a A, A -> a, B -> b B c, B -> b c), bcc♯, \u001b[48;5;252maab\u001b[0mc♯\n",
            "(S -> A B, A -> a A, A -> a, B -> b B c, B -> b B c), bBcc♯, \u001b[48;5;252maab\u001b[0mc♯\n",
            "------------------------------------------------------------\n",
            "(S -> A B, A -> a), aB♯, \u001b[48;5;252m\u001b[0maabc♯\n",
            "(S -> A B, A -> a A, A -> a, B -> b c), bc♯, \u001b[48;5;252maa\u001b[0mbc♯\n",
            "(S -> A B, A -> a A, A -> a, B -> b B c, B -> b c), bcc♯, \u001b[48;5;252maab\u001b[0mc♯\n",
            "------------------------------------------------------------\n",
            "(S -> A B, A -> a), aB♯, \u001b[48;5;252m\u001b[0maabc♯\n",
            "(S -> A B, A -> a A, A -> a, B -> b c), bc♯, \u001b[48;5;252maa\u001b[0mbc♯\n",
            "------------------------------------------------------------\n",
            "(S -> A B, A -> a), aB♯, \u001b[48;5;252m\u001b[0maabc♯\n",
            "(S -> A B, A -> a A, A -> a, B -> b c), c♯, \u001b[48;5;252maab\u001b[0mc♯\n",
            "------------------------------------------------------------\n",
            "(S -> A B, A -> a), aB♯, \u001b[48;5;252m\u001b[0maabc♯\n",
            "(S -> A B, A -> a A, A -> a, B -> b c), ♯, \u001b[48;5;252maabc\u001b[0m♯\n",
            "------------------------------------------------------------\n",
            "(S -> A B, A -> a), aB♯, \u001b[48;5;252m\u001b[0maabc♯\n",
            "------------------------------------------------------------\n",
            "(S -> A B, A -> a), B♯, \u001b[48;5;252ma\u001b[0mabc♯\n",
            "------------------------------------------------------------\n",
            "(S -> A B, A -> a, B -> b c), bc♯, \u001b[48;5;252ma\u001b[0mabc♯\n",
            "(S -> A B, A -> a, B -> b B c), bBc♯, \u001b[48;5;252ma\u001b[0mabc♯\n",
            "------------------------------------------------------------\n",
            "(S -> A B, A -> a, B -> b c), bc♯, \u001b[48;5;252ma\u001b[0mabc♯\n",
            "------------------------------------------------------------\n"
          ]
        },
        {
          "data": {
            "text/plain": [
              "[(S -> A B, A -> a A, A -> a, B -> b c)]"
            ]
          },
          "execution_count": 23,
          "metadata": {},
          "output_type": "execute_result"
        }
      ],
      "source": [
        "# Ancora l'esempio con la grammatica di fig. 6.6, pag. 171\n",
        "\n",
        "depth_first(G, 'aabc', verbose = True)"
      ]
    },
    {
      "cell_type": "markdown",
      "metadata": {},
      "source": [
        "## E la ricorsione?\n",
        "\n",
        "Che succede se la grammatica contiene produzioni ricorsive a sinistra, ossia della forma $A\\to A\\gamma$ (con $A$ raggiungibile)? \n",
        "\n",
        "Per prima cosa, osserviamo che il DAG delle computazioni diventa *infinito* in quanto deve contenere, per ogni $k>0$, tutte le derivazioni della forma $S\\stackrel{*}{\\to} \\alpha A \\beta \\stackrel{k}{\\to} \\alpha A \\gamma^k \\beta$."
      ]
    },
    {
      "cell_type": "code",
      "execution_count": null,
      "metadata": {},
      "outputs": [
        {
          "data": {
            "text/plain": [
              "Grammar(N={S}, T={a, b}, P=(S -> a, S -> S b), S=S)"
            ]
          },
          "execution_count": 24,
          "metadata": {},
          "output_type": "execute_result"
        }
      ],
      "source": [
        "# pag. 173\n",
        "\n",
        "G = Grammar.from_string('S -> a | S b')\n",
        "G"
      ]
    },
    {
      "cell_type": "markdown",
      "metadata": {},
      "source": [
        "Se ci contentiamo della prima derivazione, sicuramente la visita in ampiezza la troverà"
      ]
    },
    {
      "cell_type": "code",
      "execution_count": null,
      "metadata": {},
      "outputs": [
        {
          "data": {
            "text/plain": [
              "[(S -> S b, S -> a)]"
            ]
          },
          "execution_count": 25,
          "metadata": {},
          "output_type": "execute_result"
        }
      ],
      "source": [
        "breadth_first(G, 'ab', first_only = True)"
      ]
    },
    {
      "cell_type": "markdown",
      "metadata": {},
      "source": [
        "Diverso è il discorso delle visita in profondità: se sulla pila c'è $S$ e la prossima mossa è data da $S -> Sb$ l'altezza della pila cresce senza mai consumare alcun carattere dell'input. \n",
        "\n",
        "Per questa ragione, la simulazione non potrà scoprire la derivazione in nessun numero finito di passi!"
      ]
    },
    {
      "cell_type": "code",
      "execution_count": null,
      "metadata": {},
      "outputs": [
        {
          "data": {
            "text/plain": [
              "[]"
            ]
          },
          "execution_count": 26,
          "metadata": {},
          "output_type": "execute_result"
        }
      ],
      "source": [
        "depth_first(G, 'ab', verbose = False, max_steps = 10) # non cambia mettendo numeri maggiori!"
      ]
    },
    {
      "cell_type": "markdown",
      "metadata": {},
      "source": [
        "### <span style=\"color: red\">Rfilessione per casa</span>\n",
        "\n",
        "Cambia qualcosa in presenza di altre forme di produzioni ricorsive, ossia della forma $A -> \\alpha A \\beta$? È importante sapere se $\\alpha \\stackrel{*}{\\to} \\varepsilon$ o meno? \n",
        "\n",
        "Per rispondere, pensate a cosa accade con le GNF (con cui la simulazione funziona sempre), in particolare, ci possono essere produzioni ricorsive nelle GNF? E ricorsive a sinistra?"
      ]
    },
    {
      "cell_type": "markdown",
      "metadata": {},
      "source": [
        "## Un \"trucco\"\n",
        "\n",
        "Se la grammatica non contiene ε-produzioni, si può osservare che se in una configurazione istantanea il numero di simboli sulla pila eccede il numero di simboli della parola che restano da elaborare, quella configurazione non potrà mai condurre ad una derivazione della parola (perché non ci sono abbastanza terminali da associare ai non terminali in pila).\n",
        "\n",
        "Possiamo modificare la funzione `make_next_instdescrs` in modo tale da \"potare\" gli stati prossimi in cui la pila è più grande del resto dell'input.\n"
      ]
    },
    {
      "cell_type": "code",
      "execution_count": null,
      "metadata": {},
      "outputs": [],
      "source": [
        "def next_instdescrs(curr):\n",
        "  def productive(instdescr):\n",
        "    return len(instdescr.stack) <= (len(instdescr.tape) - instdescr.head_pos)\n",
        "  return list(filter(productive, original_next_instdescrs(curr)))"
      ]
    },
    {
      "cell_type": "markdown",
      "metadata": {},
      "source": [
        "Con quetsa modifica funzionano entrambe le visite (senza ulteriori limiti sul numero di derivazioni trovate, o passi effettuati)!"
      ]
    },
    {
      "cell_type": "code",
      "execution_count": null,
      "metadata": {},
      "outputs": [
        {
          "data": {
            "text/plain": [
              "[(S -> S b, S -> a)]"
            ]
          },
          "execution_count": 28,
          "metadata": {},
          "output_type": "execute_result"
        }
      ],
      "source": [
        "breadth_first(G, 'ab')"
      ]
    },
    {
      "cell_type": "code",
      "execution_count": null,
      "metadata": {},
      "outputs": [
        {
          "name": "stdout",
          "output_type": "stream",
          "text": [
            "(), S♯, \u001b[48;5;252m\u001b[0mab♯\n",
            "------------------------------------------------------------\n",
            "(S -> a,), a♯, \u001b[48;5;252m\u001b[0mab♯\n",
            "(S -> S b,), Sb♯, \u001b[48;5;252m\u001b[0mab♯\n",
            "------------------------------------------------------------\n",
            "(S -> a,), a♯, \u001b[48;5;252m\u001b[0mab♯\n",
            "(S -> S b, S -> a), ab♯, \u001b[48;5;252m\u001b[0mab♯\n",
            "------------------------------------------------------------\n",
            "(S -> a,), a♯, \u001b[48;5;252m\u001b[0mab♯\n",
            "(S -> S b, S -> a), b♯, \u001b[48;5;252ma\u001b[0mb♯\n",
            "------------------------------------------------------------\n",
            "(S -> a,), a♯, \u001b[48;5;252m\u001b[0mab♯\n",
            "(S -> S b, S -> a), ♯, \u001b[48;5;252mab\u001b[0m♯\n",
            "------------------------------------------------------------\n",
            "(S -> a,), a♯, \u001b[48;5;252m\u001b[0mab♯\n",
            "------------------------------------------------------------\n",
            "(S -> a,), ♯, \u001b[48;5;252ma\u001b[0mb♯\n",
            "------------------------------------------------------------\n"
          ]
        },
        {
          "data": {
            "text/plain": [
              "[(S -> S b, S -> a)]"
            ]
          },
          "execution_count": 29,
          "metadata": {},
          "output_type": "execute_result"
        }
      ],
      "source": [
        "depth_first(G, 'ab', verbose = True)"
      ]
    },
    {
      "cell_type": "markdown",
      "metadata": {},
      "source": [
        "### <span style=\"color: red\">Riflessione per casa</span>\n",
        "\n",
        "Perché questa soluzione è meglio di imporre limiti come `first_only` e `max_steps`?"
      ]
    },
    {
      "cell_type": "markdown",
      "metadata": {},
      "source": [
        "## Persino l'ambiguità\n",
        "\n",
        "Nel caso di una grammatica ambiguta (e con produzioni ricorsive), la simulazione con la \"potatura\" produce tutte le derivazioni…"
      ]
    },
    {
      "cell_type": "code",
      "execution_count": null,
      "metadata": {},
      "outputs": [
        {
          "data": {
            "text/plain": [
              "Grammar(N={E}, T={*, +, e}, P=(E -> E * E, E -> E + E, E -> e), S=E)"
            ]
          },
          "execution_count": 30,
          "metadata": {},
          "output_type": "execute_result"
        }
      ],
      "source": [
        "# la solita grammatica delle operazioni aritmetiche (ambigua rispetto alla precedenza)\n",
        "\n",
        "G = Grammar.from_string('E -> E * E | E + E | e')\n",
        "G"
      ]
    },
    {
      "cell_type": "code",
      "execution_count": null,
      "metadata": {},
      "outputs": [
        {
          "data": {
            "text/plain": [
              "[(E -> E * E, E -> e, E -> E + E, E -> e, E -> e),\n",
              " (E -> E + E, E -> E * E, E -> e, E -> e, E -> e)]"
            ]
          },
          "execution_count": 31,
          "metadata": {},
          "output_type": "execute_result"
        }
      ],
      "source": [
        "breadth_first(G, 'e*e+e')"
      ]
    },
    {
      "cell_type": "code",
      "execution_count": null,
      "metadata": {},
      "outputs": [],
      "source": [
        "d0, d1 = depth_first(G, 'e*e+e')"
      ]
    },
    {
      "cell_type": "code",
      "execution_count": null,
      "metadata": {},
      "outputs": [
        {
          "data": {
            "text/html": [
              "<div><?xml version=\"1.0\" encoding=\"UTF-8\" standalone=\"no\"?>\n",
              "<!DOCTYPE svg PUBLIC \"-//W3C//DTD SVG 1.1//EN\"\n",
              " \"http://www.w3.org/Graphics/SVG/1.1/DTD/svg11.dtd\">\n",
              "<!-- Generated by graphviz version 2.43.0 (0)\n",
              " -->\n",
              "<!-- Title: %3 Pages: 1 -->\n",
              "<svg width=\"138pt\" height=\"154pt\"\n",
              " viewBox=\"0.00 0.00 138.00 154.00\" xmlns=\"http://www.w3.org/2000/svg\" xmlns:xlink=\"http://www.w3.org/1999/xlink\">\n",
              "<g id=\"graph0\" class=\"graph\" transform=\"scale(1 1) rotate(0) translate(4 150)\">\n",
              "<title>%3</title>\n",
              "<polygon fill=\"white\" stroke=\"transparent\" points=\"-4,4 -4,-150 134,-150 134,4 -4,4\"/>\n",
              "<!-- &#45;8720462582523622909 -->\n",
              "<g id=\"node1\" class=\"node\">\n",
              "<title>&#45;8720462582523622909</title>\n",
              "<path fill=\"none\" stroke=\"black\" stroke-width=\"0.25\" d=\"M85.67,-146C85.67,-146 79.33,-146 79.33,-146 76.17,-146 73,-142.83 73,-139.67 73,-139.67 73,-129.33 73,-129.33 73,-126.17 76.17,-123 79.33,-123 79.33,-123 85.67,-123 85.67,-123 88.83,-123 92,-126.17 92,-129.33 92,-129.33 92,-139.67 92,-139.67 92,-142.83 88.83,-146 85.67,-146\"/>\n",
              "<text text-anchor=\"middle\" x=\"82.5\" y=\"-130.8\" font-family=\"Times,serif\" font-size=\"14.00\">E</text>\n",
              "</g>\n",
              "<!-- &#45;3268671313543602985 -->\n",
              "<g id=\"node2\" class=\"node\">\n",
              "<title>&#45;3268671313543602985</title>\n",
              "<path fill=\"none\" stroke=\"black\" stroke-width=\"0.25\" d=\"M47.67,-105C47.67,-105 41.33,-105 41.33,-105 38.17,-105 35,-101.83 35,-98.67 35,-98.67 35,-88.33 35,-88.33 35,-85.17 38.17,-82 41.33,-82 41.33,-82 47.67,-82 47.67,-82 50.83,-82 54,-85.17 54,-88.33 54,-88.33 54,-98.67 54,-98.67 54,-101.83 50.83,-105 47.67,-105\"/>\n",
              "<text text-anchor=\"middle\" x=\"44.5\" y=\"-89.8\" font-family=\"Times,serif\" font-size=\"14.00\">E</text>\n",
              "</g>\n",
              "<!-- &#45;8720462582523622909&#45;&gt;&#45;3268671313543602985 -->\n",
              "<g id=\"edge1\" class=\"edge\">\n",
              "<title>&#45;8720462582523622909&#45;&gt;&#45;3268671313543602985</title>\n",
              "<path fill=\"none\" stroke=\"black\" stroke-width=\"0.5\" d=\"M72.91,-123.66C67.19,-117.79 59.96,-110.36 54.22,-104.47\"/>\n",
              "</g>\n",
              "<!-- &#45;4654931956893801755 -->\n",
              "<g id=\"node3\" class=\"node\">\n",
              "<title>&#45;4654931956893801755</title>\n",
              "<path fill=\"none\" stroke=\"black\" stroke-width=\"1.25\" d=\"M86,-105C86,-105 79,-105 79,-105 75.5,-105 72,-101.5 72,-98 72,-98 72,-89 72,-89 72,-85.5 75.5,-82 79,-82 79,-82 86,-82 86,-82 89.5,-82 93,-85.5 93,-89 93,-89 93,-98 93,-98 93,-101.5 89.5,-105 86,-105\"/>\n",
              "<text text-anchor=\"middle\" x=\"82.5\" y=\"-89.8\" font-family=\"Times,serif\" font-size=\"14.00\">+</text>\n",
              "</g>\n",
              "<!-- &#45;8720462582523622909&#45;&gt;&#45;4654931956893801755 -->\n",
              "<g id=\"edge2\" class=\"edge\">\n",
              "<title>&#45;8720462582523622909&#45;&gt;&#45;4654931956893801755</title>\n",
              "<path fill=\"none\" stroke=\"black\" stroke-width=\"0.5\" d=\"M82.5,-122.84C82.5,-117.34 82.5,-110.65 82.5,-105.14\"/>\n",
              "</g>\n",
              "<!-- &#45;1654104586414300926 -->\n",
              "<g id=\"node4\" class=\"node\">\n",
              "<title>&#45;1654104586414300926</title>\n",
              "<path fill=\"none\" stroke=\"black\" stroke-width=\"0.25\" d=\"M123.67,-105C123.67,-105 117.33,-105 117.33,-105 114.17,-105 111,-101.83 111,-98.67 111,-98.67 111,-88.33 111,-88.33 111,-85.17 114.17,-82 117.33,-82 117.33,-82 123.67,-82 123.67,-82 126.83,-82 130,-85.17 130,-88.33 130,-88.33 130,-98.67 130,-98.67 130,-101.83 126.83,-105 123.67,-105\"/>\n",
              "<text text-anchor=\"middle\" x=\"120.5\" y=\"-89.8\" font-family=\"Times,serif\" font-size=\"14.00\">E</text>\n",
              "</g>\n",
              "<!-- &#45;8720462582523622909&#45;&gt;&#45;1654104586414300926 -->\n",
              "<g id=\"edge3\" class=\"edge\">\n",
              "<title>&#45;8720462582523622909&#45;&gt;&#45;1654104586414300926</title>\n",
              "<path fill=\"none\" stroke=\"black\" stroke-width=\"0.5\" d=\"M92.09,-123.66C97.81,-117.79 105.04,-110.36 110.78,-104.47\"/>\n",
              "</g>\n",
              "<!-- &#45;3268671313543602985&#45;&gt;&#45;4654931956893801755 -->\n",
              "<!-- &#45;1307371777299480550 -->\n",
              "<g id=\"node5\" class=\"node\">\n",
              "<title>&#45;1307371777299480550</title>\n",
              "<path fill=\"none\" stroke=\"black\" stroke-width=\"0.25\" d=\"M12.67,-64C12.67,-64 6.33,-64 6.33,-64 3.17,-64 0,-60.83 0,-57.67 0,-57.67 0,-47.33 0,-47.33 0,-44.17 3.17,-41 6.33,-41 6.33,-41 12.67,-41 12.67,-41 15.83,-41 19,-44.17 19,-47.33 19,-47.33 19,-57.67 19,-57.67 19,-60.83 15.83,-64 12.67,-64\"/>\n",
              "<text text-anchor=\"middle\" x=\"9.5\" y=\"-48.8\" font-family=\"Times,serif\" font-size=\"14.00\">E</text>\n",
              "</g>\n",
              "<!-- &#45;3268671313543602985&#45;&gt;&#45;1307371777299480550 -->\n",
              "<g id=\"edge6\" class=\"edge\">\n",
              "<title>&#45;3268671313543602985&#45;&gt;&#45;1307371777299480550</title>\n",
              "<path fill=\"none\" stroke=\"black\" stroke-width=\"0.5\" d=\"M34.94,-81.84C30,-76.34 23.99,-69.65 19.05,-64.14\"/>\n",
              "</g>\n",
              "<!-- &#45;1495926013809980874 -->\n",
              "<g id=\"node6\" class=\"node\">\n",
              "<title>&#45;1495926013809980874</title>\n",
              "<path fill=\"none\" stroke=\"black\" stroke-width=\"1.25\" d=\"M47,-64C47,-64 42,-64 42,-64 39.5,-64 37,-61.5 37,-59 37,-59 37,-46 37,-46 37,-43.5 39.5,-41 42,-41 42,-41 47,-41 47,-41 49.5,-41 52,-43.5 52,-46 52,-46 52,-59 52,-59 52,-61.5 49.5,-64 47,-64\"/>\n",
              "<text text-anchor=\"middle\" x=\"44.5\" y=\"-48.8\" font-family=\"Times,serif\" font-size=\"14.00\">*</text>\n",
              "</g>\n",
              "<!-- &#45;3268671313543602985&#45;&gt;&#45;1495926013809980874 -->\n",
              "<g id=\"edge7\" class=\"edge\">\n",
              "<title>&#45;3268671313543602985&#45;&gt;&#45;1495926013809980874</title>\n",
              "<path fill=\"none\" stroke=\"black\" stroke-width=\"0.5\" d=\"M44.5,-81.84C44.5,-76.34 44.5,-69.65 44.5,-64.14\"/>\n",
              "</g>\n",
              "<!-- &#45;4091162433154546619 -->\n",
              "<g id=\"node7\" class=\"node\">\n",
              "<title>&#45;4091162433154546619</title>\n",
              "<path fill=\"none\" stroke=\"black\" stroke-width=\"0.25\" d=\"M82.67,-64C82.67,-64 76.33,-64 76.33,-64 73.17,-64 70,-60.83 70,-57.67 70,-57.67 70,-47.33 70,-47.33 70,-44.17 73.17,-41 76.33,-41 76.33,-41 82.67,-41 82.67,-41 85.83,-41 89,-44.17 89,-47.33 89,-47.33 89,-57.67 89,-57.67 89,-60.83 85.83,-64 82.67,-64\"/>\n",
              "<text text-anchor=\"middle\" x=\"79.5\" y=\"-48.8\" font-family=\"Times,serif\" font-size=\"14.00\">E</text>\n",
              "</g>\n",
              "<!-- &#45;3268671313543602985&#45;&gt;&#45;4091162433154546619 -->\n",
              "<g id=\"edge8\" class=\"edge\">\n",
              "<title>&#45;3268671313543602985&#45;&gt;&#45;4091162433154546619</title>\n",
              "<path fill=\"none\" stroke=\"black\" stroke-width=\"0.5\" d=\"M54.06,-81.84C59,-76.34 65.01,-69.65 69.95,-64.14\"/>\n",
              "</g>\n",
              "<!-- &#45;4654931956893801755&#45;&gt;&#45;1654104586414300926 -->\n",
              "<!-- &#45;4893816563961756402 -->\n",
              "<g id=\"node10\" class=\"node\">\n",
              "<title>&#45;4893816563961756402</title>\n",
              "<path fill=\"none\" stroke=\"black\" stroke-width=\"1.25\" d=\"M123.33,-64C123.33,-64 117.67,-64 117.67,-64 114.83,-64 112,-61.17 112,-58.33 112,-58.33 112,-46.67 112,-46.67 112,-43.83 114.83,-41 117.67,-41 117.67,-41 123.33,-41 123.33,-41 126.17,-41 129,-43.83 129,-46.67 129,-46.67 129,-58.33 129,-58.33 129,-61.17 126.17,-64 123.33,-64\"/>\n",
              "<text text-anchor=\"middle\" x=\"120.5\" y=\"-48.8\" font-family=\"Times,serif\" font-size=\"14.00\">e</text>\n",
              "</g>\n",
              "<!-- &#45;1654104586414300926&#45;&gt;&#45;4893816563961756402 -->\n",
              "<g id=\"edge13\" class=\"edge\">\n",
              "<title>&#45;1654104586414300926&#45;&gt;&#45;4893816563961756402</title>\n",
              "<path fill=\"none\" stroke=\"black\" stroke-width=\"0.5\" d=\"M120.5,-81.84C120.5,-76.34 120.5,-69.65 120.5,-64.14\"/>\n",
              "</g>\n",
              "<!-- &#45;1307371777299480550&#45;&gt;&#45;1495926013809980874 -->\n",
              "<!-- &#45;19700870481265016 -->\n",
              "<g id=\"node8\" class=\"node\">\n",
              "<title>&#45;19700870481265016</title>\n",
              "<path fill=\"none\" stroke=\"black\" stroke-width=\"1.25\" d=\"M12.33,-23C12.33,-23 6.67,-23 6.67,-23 3.83,-23 1,-20.17 1,-17.33 1,-17.33 1,-5.67 1,-5.67 1,-2.83 3.83,0 6.67,0 6.67,0 12.33,0 12.33,0 15.17,0 18,-2.83 18,-5.67 18,-5.67 18,-17.33 18,-17.33 18,-20.17 15.17,-23 12.33,-23\"/>\n",
              "<text text-anchor=\"middle\" x=\"9.5\" y=\"-7.8\" font-family=\"Times,serif\" font-size=\"14.00\">e</text>\n",
              "</g>\n",
              "<!-- &#45;1307371777299480550&#45;&gt;&#45;19700870481265016 -->\n",
              "<g id=\"edge11\" class=\"edge\">\n",
              "<title>&#45;1307371777299480550&#45;&gt;&#45;19700870481265016</title>\n",
              "<path fill=\"none\" stroke=\"black\" stroke-width=\"0.5\" d=\"M9.5,-40.84C9.5,-35.34 9.5,-28.65 9.5,-23.14\"/>\n",
              "</g>\n",
              "<!-- &#45;1495926013809980874&#45;&gt;&#45;4091162433154546619 -->\n",
              "<!-- &#45;2456758717221510709 -->\n",
              "<g id=\"node9\" class=\"node\">\n",
              "<title>&#45;2456758717221510709</title>\n",
              "<path fill=\"none\" stroke=\"black\" stroke-width=\"1.25\" d=\"M82.33,-23C82.33,-23 76.67,-23 76.67,-23 73.83,-23 71,-20.17 71,-17.33 71,-17.33 71,-5.67 71,-5.67 71,-2.83 73.83,0 76.67,0 76.67,0 82.33,0 82.33,0 85.17,0 88,-2.83 88,-5.67 88,-5.67 88,-17.33 88,-17.33 88,-20.17 85.17,-23 82.33,-23\"/>\n",
              "<text text-anchor=\"middle\" x=\"79.5\" y=\"-7.8\" font-family=\"Times,serif\" font-size=\"14.00\">e</text>\n",
              "</g>\n",
              "<!-- &#45;4091162433154546619&#45;&gt;&#45;2456758717221510709 -->\n",
              "<g id=\"edge12\" class=\"edge\">\n",
              "<title>&#45;4091162433154546619&#45;&gt;&#45;2456758717221510709</title>\n",
              "<path fill=\"none\" stroke=\"black\" stroke-width=\"0.5\" d=\"M79.5,-40.84C79.5,-35.34 79.5,-28.65 79.5,-23.14\"/>\n",
              "</g>\n",
              "</g>\n",
              "</svg>\n",
              " <?xml version=\"1.0\" encoding=\"UTF-8\" standalone=\"no\"?>\n",
              "<!DOCTYPE svg PUBLIC \"-//W3C//DTD SVG 1.1//EN\"\n",
              " \"http://www.w3.org/Graphics/SVG/1.1/DTD/svg11.dtd\">\n",
              "<!-- Generated by graphviz version 2.43.0 (0)\n",
              " -->\n",
              "<!-- Title: %3 Pages: 1 -->\n",
              "<svg width=\"138pt\" height=\"154pt\"\n",
              " viewBox=\"0.00 0.00 138.00 154.00\" xmlns=\"http://www.w3.org/2000/svg\" xmlns:xlink=\"http://www.w3.org/1999/xlink\">\n",
              "<g id=\"graph0\" class=\"graph\" transform=\"scale(1 1) rotate(0) translate(4 150)\">\n",
              "<title>%3</title>\n",
              "<polygon fill=\"white\" stroke=\"transparent\" points=\"-4,4 -4,-150 134,-150 134,4 -4,4\"/>\n",
              "<!-- &#45;8720462582523622909 -->\n",
              "<g id=\"node1\" class=\"node\">\n",
              "<title>&#45;8720462582523622909</title>\n",
              "<path fill=\"none\" stroke=\"black\" stroke-width=\"0.25\" d=\"M48.67,-146C48.67,-146 42.33,-146 42.33,-146 39.17,-146 36,-142.83 36,-139.67 36,-139.67 36,-129.33 36,-129.33 36,-126.17 39.17,-123 42.33,-123 42.33,-123 48.67,-123 48.67,-123 51.83,-123 55,-126.17 55,-129.33 55,-129.33 55,-139.67 55,-139.67 55,-142.83 51.83,-146 48.67,-146\"/>\n",
              "<text text-anchor=\"middle\" x=\"45.5\" y=\"-130.8\" font-family=\"Times,serif\" font-size=\"14.00\">E</text>\n",
              "</g>\n",
              "<!-- &#45;3268671313543602985 -->\n",
              "<g id=\"node2\" class=\"node\">\n",
              "<title>&#45;3268671313543602985</title>\n",
              "<path fill=\"none\" stroke=\"black\" stroke-width=\"0.25\" d=\"M13.67,-105C13.67,-105 7.33,-105 7.33,-105 4.17,-105 1,-101.83 1,-98.67 1,-98.67 1,-88.33 1,-88.33 1,-85.17 4.17,-82 7.33,-82 7.33,-82 13.67,-82 13.67,-82 16.83,-82 20,-85.17 20,-88.33 20,-88.33 20,-98.67 20,-98.67 20,-101.83 16.83,-105 13.67,-105\"/>\n",
              "<text text-anchor=\"middle\" x=\"10.5\" y=\"-89.8\" font-family=\"Times,serif\" font-size=\"14.00\">E</text>\n",
              "</g>\n",
              "<!-- &#45;8720462582523622909&#45;&gt;&#45;3268671313543602985 -->\n",
              "<g id=\"edge1\" class=\"edge\">\n",
              "<title>&#45;8720462582523622909&#45;&gt;&#45;3268671313543602985</title>\n",
              "<path fill=\"none\" stroke=\"black\" stroke-width=\"0.5\" d=\"M35.94,-122.84C31,-117.34 24.99,-110.65 20.05,-105.14\"/>\n",
              "</g>\n",
              "<!-- &#45;4789443364877557883 -->\n",
              "<g id=\"node3\" class=\"node\">\n",
              "<title>&#45;4789443364877557883</title>\n",
              "<path fill=\"none\" stroke=\"black\" stroke-width=\"1.25\" d=\"M48,-105C48,-105 43,-105 43,-105 40.5,-105 38,-102.5 38,-100 38,-100 38,-87 38,-87 38,-84.5 40.5,-82 43,-82 43,-82 48,-82 48,-82 50.5,-82 53,-84.5 53,-87 53,-87 53,-100 53,-100 53,-102.5 50.5,-105 48,-105\"/>\n",
              "<text text-anchor=\"middle\" x=\"45.5\" y=\"-89.8\" font-family=\"Times,serif\" font-size=\"14.00\">*</text>\n",
              "</g>\n",
              "<!-- &#45;8720462582523622909&#45;&gt;&#45;4789443364877557883 -->\n",
              "<g id=\"edge2\" class=\"edge\">\n",
              "<title>&#45;8720462582523622909&#45;&gt;&#45;4789443364877557883</title>\n",
              "<path fill=\"none\" stroke=\"black\" stroke-width=\"0.5\" d=\"M45.5,-122.84C45.5,-117.34 45.5,-110.65 45.5,-105.14\"/>\n",
              "</g>\n",
              "<!-- &#45;1654104586414300926 -->\n",
              "<g id=\"node4\" class=\"node\">\n",
              "<title>&#45;1654104586414300926</title>\n",
              "<path fill=\"none\" stroke=\"black\" stroke-width=\"0.25\" d=\"M83.67,-105C83.67,-105 77.33,-105 77.33,-105 74.17,-105 71,-101.83 71,-98.67 71,-98.67 71,-88.33 71,-88.33 71,-85.17 74.17,-82 77.33,-82 77.33,-82 83.67,-82 83.67,-82 86.83,-82 90,-85.17 90,-88.33 90,-88.33 90,-98.67 90,-98.67 90,-101.83 86.83,-105 83.67,-105\"/>\n",
              "<text text-anchor=\"middle\" x=\"80.5\" y=\"-89.8\" font-family=\"Times,serif\" font-size=\"14.00\">E</text>\n",
              "</g>\n",
              "<!-- &#45;8720462582523622909&#45;&gt;&#45;1654104586414300926 -->\n",
              "<g id=\"edge3\" class=\"edge\">\n",
              "<title>&#45;8720462582523622909&#45;&gt;&#45;1654104586414300926</title>\n",
              "<path fill=\"none\" stroke=\"black\" stroke-width=\"0.5\" d=\"M55.06,-122.84C60,-117.34 66.01,-110.65 70.95,-105.14\"/>\n",
              "</g>\n",
              "<!-- &#45;3268671313543602985&#45;&gt;&#45;4789443364877557883 -->\n",
              "<!-- 2846319353456075846 -->\n",
              "<g id=\"node5\" class=\"node\">\n",
              "<title>2846319353456075846</title>\n",
              "<path fill=\"none\" stroke=\"black\" stroke-width=\"1.25\" d=\"M11.33,-64C11.33,-64 5.67,-64 5.67,-64 2.83,-64 0,-61.17 0,-58.33 0,-58.33 0,-46.67 0,-46.67 0,-43.83 2.83,-41 5.67,-41 5.67,-41 11.33,-41 11.33,-41 14.17,-41 17,-43.83 17,-46.67 17,-46.67 17,-58.33 17,-58.33 17,-61.17 14.17,-64 11.33,-64\"/>\n",
              "<text text-anchor=\"middle\" x=\"8.5\" y=\"-48.8\" font-family=\"Times,serif\" font-size=\"14.00\">e</text>\n",
              "</g>\n",
              "<!-- &#45;3268671313543602985&#45;&gt;2846319353456075846 -->\n",
              "<g id=\"edge6\" class=\"edge\">\n",
              "<title>&#45;3268671313543602985&#45;&gt;2846319353456075846</title>\n",
              "<path fill=\"none\" stroke=\"black\" stroke-width=\"0.5\" d=\"M9.95,-81.84C9.67,-76.34 9.33,-69.65 9.05,-64.14\"/>\n",
              "</g>\n",
              "<!-- &#45;4789443364877557883&#45;&gt;&#45;1654104586414300926 -->\n",
              "<!-- &#45;8571749384221189540 -->\n",
              "<g id=\"node6\" class=\"node\">\n",
              "<title>&#45;8571749384221189540</title>\n",
              "<path fill=\"none\" stroke=\"black\" stroke-width=\"0.25\" d=\"M47.67,-64C47.67,-64 41.33,-64 41.33,-64 38.17,-64 35,-60.83 35,-57.67 35,-57.67 35,-47.33 35,-47.33 35,-44.17 38.17,-41 41.33,-41 41.33,-41 47.67,-41 47.67,-41 50.83,-41 54,-44.17 54,-47.33 54,-47.33 54,-57.67 54,-57.67 54,-60.83 50.83,-64 47.67,-64\"/>\n",
              "<text text-anchor=\"middle\" x=\"44.5\" y=\"-48.8\" font-family=\"Times,serif\" font-size=\"14.00\">E</text>\n",
              "</g>\n",
              "<!-- &#45;1654104586414300926&#45;&gt;&#45;8571749384221189540 -->\n",
              "<g id=\"edge7\" class=\"edge\">\n",
              "<title>&#45;1654104586414300926&#45;&gt;&#45;8571749384221189540</title>\n",
              "<path fill=\"none\" stroke=\"black\" stroke-width=\"0.5\" d=\"M70.66,-81.84C65.5,-76.25 59.2,-69.43 54.08,-63.87\"/>\n",
              "</g>\n",
              "<!-- 2758158848330340604 -->\n",
              "<g id=\"node7\" class=\"node\">\n",
              "<title>2758158848330340604</title>\n",
              "<path fill=\"none\" stroke=\"black\" stroke-width=\"1.25\" d=\"M86,-64C86,-64 79,-64 79,-64 75.5,-64 72,-60.5 72,-57 72,-57 72,-48 72,-48 72,-44.5 75.5,-41 79,-41 79,-41 86,-41 86,-41 89.5,-41 93,-44.5 93,-48 93,-48 93,-57 93,-57 93,-60.5 89.5,-64 86,-64\"/>\n",
              "<text text-anchor=\"middle\" x=\"82.5\" y=\"-48.8\" font-family=\"Times,serif\" font-size=\"14.00\">+</text>\n",
              "</g>\n",
              "<!-- &#45;1654104586414300926&#45;&gt;2758158848330340604 -->\n",
              "<g id=\"edge8\" class=\"edge\">\n",
              "<title>&#45;1654104586414300926&#45;&gt;2758158848330340604</title>\n",
              "<path fill=\"none\" stroke=\"black\" stroke-width=\"0.5\" d=\"M81.05,-81.84C81.33,-76.34 81.67,-69.65 81.95,-64.14\"/>\n",
              "</g>\n",
              "<!-- &#45;6957182657091887481 -->\n",
              "<g id=\"node8\" class=\"node\">\n",
              "<title>&#45;6957182657091887481</title>\n",
              "<path fill=\"none\" stroke=\"black\" stroke-width=\"0.25\" d=\"M123.67,-64C123.67,-64 117.33,-64 117.33,-64 114.17,-64 111,-60.83 111,-57.67 111,-57.67 111,-47.33 111,-47.33 111,-44.17 114.17,-41 117.33,-41 117.33,-41 123.67,-41 123.67,-41 126.83,-41 130,-44.17 130,-47.33 130,-47.33 130,-57.67 130,-57.67 130,-60.83 126.83,-64 123.67,-64\"/>\n",
              "<text text-anchor=\"middle\" x=\"120.5\" y=\"-48.8\" font-family=\"Times,serif\" font-size=\"14.00\">E</text>\n",
              "</g>\n",
              "<!-- &#45;1654104586414300926&#45;&gt;&#45;6957182657091887481 -->\n",
              "<g id=\"edge9\" class=\"edge\">\n",
              "<title>&#45;1654104586414300926&#45;&gt;&#45;6957182657091887481</title>\n",
              "<path fill=\"none\" stroke=\"black\" stroke-width=\"0.5\" d=\"M90.18,-83.06C96.47,-76.93 104.64,-68.97 110.91,-62.85\"/>\n",
              "</g>\n",
              "<!-- &#45;8571749384221189540&#45;&gt;2758158848330340604 -->\n",
              "<!-- &#45;2456758717221510709 -->\n",
              "<g id=\"node9\" class=\"node\">\n",
              "<title>&#45;2456758717221510709</title>\n",
              "<path fill=\"none\" stroke=\"black\" stroke-width=\"1.25\" d=\"M47.33,-23C47.33,-23 41.67,-23 41.67,-23 38.83,-23 36,-20.17 36,-17.33 36,-17.33 36,-5.67 36,-5.67 36,-2.83 38.83,0 41.67,0 41.67,0 47.33,0 47.33,0 50.17,0 53,-2.83 53,-5.67 53,-5.67 53,-17.33 53,-17.33 53,-20.17 50.17,-23 47.33,-23\"/>\n",
              "<text text-anchor=\"middle\" x=\"44.5\" y=\"-7.8\" font-family=\"Times,serif\" font-size=\"14.00\">e</text>\n",
              "</g>\n",
              "<!-- &#45;8571749384221189540&#45;&gt;&#45;2456758717221510709 -->\n",
              "<g id=\"edge12\" class=\"edge\">\n",
              "<title>&#45;8571749384221189540&#45;&gt;&#45;2456758717221510709</title>\n",
              "<path fill=\"none\" stroke=\"black\" stroke-width=\"0.5\" d=\"M44.5,-40.84C44.5,-35.34 44.5,-28.65 44.5,-23.14\"/>\n",
              "</g>\n",
              "<!-- 2758158848330340604&#45;&gt;&#45;6957182657091887481 -->\n",
              "<!-- &#45;4893816563961756402 -->\n",
              "<g id=\"node10\" class=\"node\">\n",
              "<title>&#45;4893816563961756402</title>\n",
              "<path fill=\"none\" stroke=\"black\" stroke-width=\"1.25\" d=\"M123.33,-23C123.33,-23 117.67,-23 117.67,-23 114.83,-23 112,-20.17 112,-17.33 112,-17.33 112,-5.67 112,-5.67 112,-2.83 114.83,0 117.67,0 117.67,0 123.33,0 123.33,0 126.17,0 129,-2.83 129,-5.67 129,-5.67 129,-17.33 129,-17.33 129,-20.17 126.17,-23 123.33,-23\"/>\n",
              "<text text-anchor=\"middle\" x=\"120.5\" y=\"-7.8\" font-family=\"Times,serif\" font-size=\"14.00\">e</text>\n",
              "</g>\n",
              "<!-- &#45;6957182657091887481&#45;&gt;&#45;4893816563961756402 -->\n",
              "<g id=\"edge13\" class=\"edge\">\n",
              "<title>&#45;6957182657091887481&#45;&gt;&#45;4893816563961756402</title>\n",
              "<path fill=\"none\" stroke=\"black\" stroke-width=\"0.5\" d=\"M120.5,-40.84C120.5,-35.34 120.5,-28.65 120.5,-23.14\"/>\n",
              "</g>\n",
              "</g>\n",
              "</svg>\n",
              "</div>"
            ],
            "text/plain": [
              "<IPython.core.display.HTML object>"
            ]
          },
          "execution_count": 33,
          "metadata": {},
          "output_type": "execute_result"
        }
      ],
      "source": [
        "side_by_side(\n",
        "  ProductionGraph(Derivation(G).leftmost(d0)),\n",
        "  ProductionGraph(Derivation(G).leftmost(d1))\n",
        ")"
      ]
    },
    {
      "cell_type": "markdown",
      "metadata": {},
      "source": [
        "## <span style=\"color: red;\">Riflessioni per casa</span>\n",
        "\n",
        "Cosa succede se si consentono anche ε-produzioni? Il DAG delle computazioni è finito? Che modi ci possono essere di \"potarlo\"?"
      ]
    }
  ],
  "metadata": {
    "kernelspec": {
      "display_name": "Python 3",
      "language": "python",
      "name": "python3"
    },
    "language_info": {
      "codemirror_mode": {
        "name": "ipython",
        "version": 3
      },
      "file_extension": ".py",
      "mimetype": "text/x-python",
      "name": "python",
      "nbconvert_exporter": "python",
      "pygments_lexer": "ipython3"
    },
    "widgets": {
      "application/vnd.jupyter.widget-state+json": {
        "state": {
          "02fa4df6fbf34a6c9d46e4f3f78afed2": {
            "model_module": "@jupyter-widgets/controls",
            "model_module_version": "2.0.0",
            "model_name": "VBoxModel",
            "state": {
              "_dom_classes": [
                "widget-interact"
              ],
              "_model_module": "@jupyter-widgets/controls",
              "_model_module_version": "2.0.0",
              "_model_name": "VBoxModel",
              "_view_count": null,
              "_view_module": "@jupyter-widgets/controls",
              "_view_module_version": "2.0.0",
              "_view_name": "VBoxView",
              "box_style": "",
              "children": [
                "IPY_MODEL_a14bc910931c44cb8577a4542d0468dd",
                "IPY_MODEL_0837b76789da4cea888a41c9445b4425"
              ],
              "layout": "IPY_MODEL_3c0005f1400947a0956782113799dd3b",
              "tabbable": null,
              "tooltip": null
            }
          },
          "0837b76789da4cea888a41c9445b4425": {
            "model_module": "@jupyter-widgets/output",
            "model_module_version": "1.0.0",
            "model_name": "OutputModel",
            "state": {
              "_dom_classes": [],
              "_model_module": "@jupyter-widgets/output",
              "_model_module_version": "1.0.0",
              "_model_name": "OutputModel",
              "_view_count": null,
              "_view_module": "@jupyter-widgets/output",
              "_view_module_version": "1.0.0",
              "_view_name": "OutputView",
              "layout": "IPY_MODEL_3178679d6c8049ac98c5a776db3e22e3",
              "msg_id": "",
              "outputs": [
                {
                  "data": {
                    "image/svg+xml": "<?xml version=\"1.0\" encoding=\"UTF-8\" standalone=\"no\"?>\n<!DOCTYPE svg PUBLIC \"-//W3C//DTD SVG 1.1//EN\"\n \"http://www.w3.org/Graphics/SVG/1.1/DTD/svg11.dtd\">\n<!-- Generated by graphviz version 2.43.0 (0)\n -->\n<!-- Title: %3 Pages: 1 -->\n<svg width=\"26pt\" height=\"31pt\"\n viewBox=\"0.00 0.00 26.00 31.00\" xmlns=\"http://www.w3.org/2000/svg\" xmlns:xlink=\"http://www.w3.org/1999/xlink\">\n<g id=\"graph0\" class=\"graph\" transform=\"scale(1 1) rotate(0) translate(4 27)\">\n<title>%3</title>\n<polygon fill=\"white\" stroke=\"transparent\" points=\"-4,4 -4,-27 22,-27 22,4 -4,4\"/>\n<!-- 5448945140896076906 -->\n<g id=\"node1\" class=\"node\">\n<title>5448945140896076906</title>\n<path fill=\"none\" stroke=\"black\" stroke-width=\"0.25\" d=\"M12,-23C12,-23 6,-23 6,-23 3,-23 0,-20 0,-17 0,-17 0,-6 0,-6 0,-3 3,0 6,0 6,0 12,0 12,0 15,0 18,-3 18,-6 18,-6 18,-17 18,-17 18,-20 15,-23 12,-23\"/>\n<text text-anchor=\"middle\" x=\"9\" y=\"-7.8\" font-family=\"Times,serif\" font-size=\"14.00\">S</text>\n</g>\n</g>\n</svg>\n",
                    "text/plain": "ProductionGraph(S)"
                  },
                  "metadata": {},
                  "output_type": "display_data"
                }
              ],
              "tabbable": null,
              "tooltip": null
            }
          },
          "156cf48cd5f54aeda082e06ac3dfca9c": {
            "model_module": "@jupyter-widgets/base",
            "model_module_version": "2.0.0",
            "model_name": "LayoutModel",
            "state": {
              "_model_module": "@jupyter-widgets/base",
              "_model_module_version": "2.0.0",
              "_model_name": "LayoutModel",
              "_view_count": null,
              "_view_module": "@jupyter-widgets/base",
              "_view_module_version": "2.0.0",
              "_view_name": "LayoutView",
              "align_content": null,
              "align_items": null,
              "align_self": null,
              "border_bottom": null,
              "border_left": null,
              "border_right": null,
              "border_top": null,
              "bottom": null,
              "display": null,
              "flex": null,
              "flex_flow": null,
              "grid_area": null,
              "grid_auto_columns": null,
              "grid_auto_flow": null,
              "grid_auto_rows": null,
              "grid_column": null,
              "grid_gap": null,
              "grid_row": null,
              "grid_template_areas": null,
              "grid_template_columns": null,
              "grid_template_rows": null,
              "height": null,
              "justify_content": null,
              "justify_items": null,
              "left": null,
              "margin": null,
              "max_height": null,
              "max_width": null,
              "min_height": null,
              "min_width": null,
              "object_fit": null,
              "object_position": null,
              "order": null,
              "overflow": null,
              "padding": null,
              "right": null,
              "top": null,
              "visibility": null,
              "width": null
            }
          },
          "2d642e15c65543d2aade98e2e74278e7": {
            "model_module": "@jupyter-widgets/controls",
            "model_module_version": "2.0.0",
            "model_name": "SliderStyleModel",
            "state": {
              "_model_module": "@jupyter-widgets/controls",
              "_model_module_version": "2.0.0",
              "_model_name": "SliderStyleModel",
              "_view_count": null,
              "_view_module": "@jupyter-widgets/base",
              "_view_module_version": "2.0.0",
              "_view_name": "StyleView",
              "description_width": "",
              "handle_color": null
            }
          },
          "3178679d6c8049ac98c5a776db3e22e3": {
            "model_module": "@jupyter-widgets/base",
            "model_module_version": "2.0.0",
            "model_name": "LayoutModel",
            "state": {
              "_model_module": "@jupyter-widgets/base",
              "_model_module_version": "2.0.0",
              "_model_name": "LayoutModel",
              "_view_count": null,
              "_view_module": "@jupyter-widgets/base",
              "_view_module_version": "2.0.0",
              "_view_name": "LayoutView",
              "align_content": null,
              "align_items": null,
              "align_self": null,
              "border_bottom": null,
              "border_left": null,
              "border_right": null,
              "border_top": null,
              "bottom": null,
              "display": null,
              "flex": null,
              "flex_flow": null,
              "grid_area": null,
              "grid_auto_columns": null,
              "grid_auto_flow": null,
              "grid_auto_rows": null,
              "grid_column": null,
              "grid_gap": null,
              "grid_row": null,
              "grid_template_areas": null,
              "grid_template_columns": null,
              "grid_template_rows": null,
              "height": "300px",
              "justify_content": null,
              "justify_items": null,
              "left": null,
              "margin": null,
              "max_height": null,
              "max_width": null,
              "min_height": null,
              "min_width": null,
              "object_fit": null,
              "object_position": null,
              "order": null,
              "overflow": null,
              "padding": null,
              "right": null,
              "top": null,
              "visibility": null,
              "width": null
            }
          },
          "3c0005f1400947a0956782113799dd3b": {
            "model_module": "@jupyter-widgets/base",
            "model_module_version": "2.0.0",
            "model_name": "LayoutModel",
            "state": {
              "_model_module": "@jupyter-widgets/base",
              "_model_module_version": "2.0.0",
              "_model_name": "LayoutModel",
              "_view_count": null,
              "_view_module": "@jupyter-widgets/base",
              "_view_module_version": "2.0.0",
              "_view_name": "LayoutView",
              "align_content": null,
              "align_items": null,
              "align_self": null,
              "border_bottom": null,
              "border_left": null,
              "border_right": null,
              "border_top": null,
              "bottom": null,
              "display": null,
              "flex": null,
              "flex_flow": null,
              "grid_area": null,
              "grid_auto_columns": null,
              "grid_auto_flow": null,
              "grid_auto_rows": null,
              "grid_column": null,
              "grid_gap": null,
              "grid_row": null,
              "grid_template_areas": null,
              "grid_template_columns": null,
              "grid_template_rows": null,
              "height": null,
              "justify_content": null,
              "justify_items": null,
              "left": null,
              "margin": null,
              "max_height": null,
              "max_width": null,
              "min_height": null,
              "min_width": null,
              "object_fit": null,
              "object_position": null,
              "order": null,
              "overflow": null,
              "padding": null,
              "right": null,
              "top": null,
              "visibility": null,
              "width": null
            }
          },
          "3d812f563ae14586b9192744d81cc9af": {
            "model_module": "@jupyter-widgets/controls",
            "model_module_version": "2.0.0",
            "model_name": "IntSliderModel",
            "state": {
              "_dom_classes": [],
              "_model_module": "@jupyter-widgets/controls",
              "_model_module_version": "2.0.0",
              "_model_name": "IntSliderModel",
              "_view_count": null,
              "_view_module": "@jupyter-widgets/controls",
              "_view_module_version": "2.0.0",
              "_view_name": "IntSliderView",
              "behavior": "drag-tap",
              "continuous_update": true,
              "description": "n",
              "description_allow_html": false,
              "disabled": false,
              "layout": "IPY_MODEL_156cf48cd5f54aeda082e06ac3dfca9c",
              "max": 4,
              "min": 0,
              "orientation": "horizontal",
              "readout": true,
              "readout_format": "d",
              "step": 1,
              "style": "IPY_MODEL_fd8d9ba9301f4711951227085bd0f294",
              "tabbable": null,
              "tooltip": null,
              "value": 0
            }
          },
          "681bf0b50c944e9a8c6fb4751077dcab": {
            "model_module": "@jupyter-widgets/base",
            "model_module_version": "2.0.0",
            "model_name": "LayoutModel",
            "state": {
              "_model_module": "@jupyter-widgets/base",
              "_model_module_version": "2.0.0",
              "_model_name": "LayoutModel",
              "_view_count": null,
              "_view_module": "@jupyter-widgets/base",
              "_view_module_version": "2.0.0",
              "_view_name": "LayoutView",
              "align_content": null,
              "align_items": null,
              "align_self": null,
              "border_bottom": null,
              "border_left": null,
              "border_right": null,
              "border_top": null,
              "bottom": null,
              "display": null,
              "flex": null,
              "flex_flow": null,
              "grid_area": null,
              "grid_auto_columns": null,
              "grid_auto_flow": null,
              "grid_auto_rows": null,
              "grid_column": null,
              "grid_gap": null,
              "grid_row": null,
              "grid_template_areas": null,
              "grid_template_columns": null,
              "grid_template_rows": null,
              "height": null,
              "justify_content": null,
              "justify_items": null,
              "left": null,
              "margin": null,
              "max_height": null,
              "max_width": null,
              "min_height": null,
              "min_width": null,
              "object_fit": null,
              "object_position": null,
              "order": null,
              "overflow": null,
              "padding": null,
              "right": null,
              "top": null,
              "visibility": null,
              "width": null
            }
          },
          "6f8a8ce21403482a8bccf19fa0145708": {
            "model_module": "@jupyter-widgets/output",
            "model_module_version": "1.0.0",
            "model_name": "OutputModel",
            "state": {
              "_dom_classes": [],
              "_model_module": "@jupyter-widgets/output",
              "_model_module_version": "1.0.0",
              "_model_name": "OutputModel",
              "_view_count": null,
              "_view_module": "@jupyter-widgets/output",
              "_view_module_version": "1.0.0",
              "_view_name": "OutputView",
              "layout": "IPY_MODEL_f5d9945835064ed0a5517ce9f71a715e",
              "msg_id": "",
              "outputs": [
                {
                  "data": {
                    "image/svg+xml": "<?xml version=\"1.0\" encoding=\"UTF-8\" standalone=\"no\"?>\n<!DOCTYPE svg PUBLIC \"-//W3C//DTD SVG 1.1//EN\"\n \"http://www.w3.org/Graphics/SVG/1.1/DTD/svg11.dtd\">\n<!-- Generated by graphviz version 2.43.0 (0)\n -->\n<!-- Title: %3 Pages: 1 -->\n<svg width=\"26pt\" height=\"31pt\"\n viewBox=\"0.00 0.00 26.00 31.00\" xmlns=\"http://www.w3.org/2000/svg\" xmlns:xlink=\"http://www.w3.org/1999/xlink\">\n<g id=\"graph0\" class=\"graph\" transform=\"scale(1 1) rotate(0) translate(4 27)\">\n<title>%3</title>\n<polygon fill=\"white\" stroke=\"transparent\" points=\"-4,4 -4,-27 22,-27 22,4 -4,4\"/>\n<!-- 5448945140896076906 -->\n<g id=\"node1\" class=\"node\">\n<title>5448945140896076906</title>\n<path fill=\"none\" stroke=\"black\" stroke-width=\"0.25\" d=\"M12,-23C12,-23 6,-23 6,-23 3,-23 0,-20 0,-17 0,-17 0,-6 0,-6 0,-3 3,0 6,0 6,0 12,0 12,0 15,0 18,-3 18,-6 18,-6 18,-17 18,-17 18,-20 15,-23 12,-23\"/>\n<text text-anchor=\"middle\" x=\"9\" y=\"-7.8\" font-family=\"Times,serif\" font-size=\"14.00\">S</text>\n</g>\n</g>\n</svg>\n",
                    "text/plain": "ProductionGraph(S)"
                  },
                  "metadata": {},
                  "output_type": "display_data"
                }
              ],
              "tabbable": null,
              "tooltip": null
            }
          },
          "7521ba7da40a49ee94a639acb99a5b28": {
            "model_module": "@jupyter-widgets/base",
            "model_module_version": "2.0.0",
            "model_name": "LayoutModel",
            "state": {
              "_model_module": "@jupyter-widgets/base",
              "_model_module_version": "2.0.0",
              "_model_name": "LayoutModel",
              "_view_count": null,
              "_view_module": "@jupyter-widgets/base",
              "_view_module_version": "2.0.0",
              "_view_name": "LayoutView",
              "align_content": null,
              "align_items": null,
              "align_self": null,
              "border_bottom": null,
              "border_left": null,
              "border_right": null,
              "border_top": null,
              "bottom": null,
              "display": null,
              "flex": null,
              "flex_flow": null,
              "grid_area": null,
              "grid_auto_columns": null,
              "grid_auto_flow": null,
              "grid_auto_rows": null,
              "grid_column": null,
              "grid_gap": null,
              "grid_row": null,
              "grid_template_areas": null,
              "grid_template_columns": null,
              "grid_template_rows": null,
              "height": null,
              "justify_content": null,
              "justify_items": null,
              "left": null,
              "margin": null,
              "max_height": null,
              "max_width": null,
              "min_height": null,
              "min_width": null,
              "object_fit": null,
              "object_position": null,
              "order": null,
              "overflow": null,
              "padding": null,
              "right": null,
              "top": null,
              "visibility": null,
              "width": null
            }
          },
          "a14bc910931c44cb8577a4542d0468dd": {
            "model_module": "@jupyter-widgets/controls",
            "model_module_version": "2.0.0",
            "model_name": "IntSliderModel",
            "state": {
              "_dom_classes": [],
              "_model_module": "@jupyter-widgets/controls",
              "_model_module_version": "2.0.0",
              "_model_name": "IntSliderModel",
              "_view_count": null,
              "_view_module": "@jupyter-widgets/controls",
              "_view_module_version": "2.0.0",
              "_view_name": "IntSliderView",
              "behavior": "drag-tap",
              "continuous_update": true,
              "description": "n",
              "description_allow_html": false,
              "disabled": false,
              "layout": "IPY_MODEL_681bf0b50c944e9a8c6fb4751077dcab",
              "max": 4,
              "min": 0,
              "orientation": "horizontal",
              "readout": true,
              "readout_format": "d",
              "step": 1,
              "style": "IPY_MODEL_2d642e15c65543d2aade98e2e74278e7",
              "tabbable": null,
              "tooltip": null,
              "value": 0
            }
          },
          "f5d9945835064ed0a5517ce9f71a715e": {
            "model_module": "@jupyter-widgets/base",
            "model_module_version": "2.0.0",
            "model_name": "LayoutModel",
            "state": {
              "_model_module": "@jupyter-widgets/base",
              "_model_module_version": "2.0.0",
              "_model_name": "LayoutModel",
              "_view_count": null,
              "_view_module": "@jupyter-widgets/base",
              "_view_module_version": "2.0.0",
              "_view_name": "LayoutView",
              "align_content": null,
              "align_items": null,
              "align_self": null,
              "border_bottom": null,
              "border_left": null,
              "border_right": null,
              "border_top": null,
              "bottom": null,
              "display": null,
              "flex": null,
              "flex_flow": null,
              "grid_area": null,
              "grid_auto_columns": null,
              "grid_auto_flow": null,
              "grid_auto_rows": null,
              "grid_column": null,
              "grid_gap": null,
              "grid_row": null,
              "grid_template_areas": null,
              "grid_template_columns": null,
              "grid_template_rows": null,
              "height": "300px",
              "justify_content": null,
              "justify_items": null,
              "left": null,
              "margin": null,
              "max_height": null,
              "max_width": null,
              "min_height": null,
              "min_width": null,
              "object_fit": null,
              "object_position": null,
              "order": null,
              "overflow": null,
              "padding": null,
              "right": null,
              "top": null,
              "visibility": null,
              "width": null
            }
          },
          "fa07c41432b14024be512296b03afabe": {
            "model_module": "@jupyter-widgets/controls",
            "model_module_version": "2.0.0",
            "model_name": "VBoxModel",
            "state": {
              "_dom_classes": [
                "widget-interact"
              ],
              "_model_module": "@jupyter-widgets/controls",
              "_model_module_version": "2.0.0",
              "_model_name": "VBoxModel",
              "_view_count": null,
              "_view_module": "@jupyter-widgets/controls",
              "_view_module_version": "2.0.0",
              "_view_name": "VBoxView",
              "box_style": "",
              "children": [
                "IPY_MODEL_3d812f563ae14586b9192744d81cc9af",
                "IPY_MODEL_6f8a8ce21403482a8bccf19fa0145708"
              ],
              "layout": "IPY_MODEL_7521ba7da40a49ee94a639acb99a5b28",
              "tabbable": null,
              "tooltip": null
            }
          },
          "fd8d9ba9301f4711951227085bd0f294": {
            "model_module": "@jupyter-widgets/controls",
            "model_module_version": "2.0.0",
            "model_name": "SliderStyleModel",
            "state": {
              "_model_module": "@jupyter-widgets/controls",
              "_model_module_version": "2.0.0",
              "_model_name": "SliderStyleModel",
              "_view_count": null,
              "_view_module": "@jupyter-widgets/base",
              "_view_module_version": "2.0.0",
              "_view_name": "StyleView",
              "description_width": "",
              "handle_color": null
            }
          }
        },
        "version_major": 2,
        "version_minor": 0
      }
    }
  },
  "nbformat": 4,
  "nbformat_minor": 4
}
