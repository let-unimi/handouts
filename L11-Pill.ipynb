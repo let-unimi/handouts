{
  "cells": [
    {
      "cell_type": "markdown",
      "metadata": {},
      "source": [
        "# Il modulo `re` per le espressioni regolari\n",
        "\n",
        "Sulla falsariga di [Regular Expression HOWTO](https://docs.python.org/3/howto/regex.html) e [Regular expression operations](https://docs.python.org/3/library/re.html) dalla documentazione ufficiale."
      ]
    },
    {
      "cell_type": "code",
      "execution_count": null,
      "metadata": {},
      "outputs": [],
      "source": [
        "import re"
      ]
    },
    {
      "cell_type": "markdown",
      "metadata": {},
      "source": [
        "## Uso di base"
      ]
    },
    {
      "cell_type": "code",
      "execution_count": null,
      "metadata": {},
      "outputs": [
        {
          "name": "stdout",
          "output_type": "stream",
          "text": [
            "a\\nb\n"
          ]
        }
      ],
      "source": [
        "# raw string (https://docs.python.org/3/reference/lexical_analysis.html#string-and-bytes-literals)\n",
        "\n",
        "print(r'a\\nb')"
      ]
    },
    {
      "cell_type": "code",
      "execution_count": null,
      "metadata": {},
      "outputs": [
        {
          "data": {
            "text/plain": [
              "<re.Match object; span=(0, 1), match='b'>"
            ]
          },
          "execution_count": 3,
          "metadata": {},
          "output_type": "execute_result"
        }
      ],
      "source": [
        "# uso diretto\n",
        "\n",
        "re.match(r'a|b', 'b')"
      ]
    },
    {
      "cell_type": "code",
      "execution_count": null,
      "metadata": {},
      "outputs": [
        {
          "data": {
            "text/plain": [
              "<re.Match object; span=(0, 1), match='b'>"
            ]
          },
          "execution_count": 4,
          "metadata": {},
          "output_type": "execute_result"
        }
      ],
      "source": [
        "# o pre-compilando il pattern\n",
        "\n",
        "p = re.compile(r'a|b')\n",
        "\n",
        "p.match('b')"
      ]
    },
    {
      "cell_type": "code",
      "execution_count": null,
      "metadata": {},
      "outputs": [
        {
          "data": {
            "text/plain": [
              "(None, None)"
            ]
          },
          "execution_count": 5,
          "metadata": {},
          "output_type": "execute_result"
        }
      ],
      "source": [
        "# differenza fullmatch/match/search\n",
        "\n",
        "p.fullmatch('xa'), p.fullmatch('ay')"
      ]
    },
    {
      "cell_type": "code",
      "execution_count": null,
      "metadata": {},
      "outputs": [
        {
          "data": {
            "text/plain": [
              "(None, <re.Match object; span=(0, 1), match='a'>)"
            ]
          },
          "execution_count": 6,
          "metadata": {},
          "output_type": "execute_result"
        }
      ],
      "source": [
        "p.match('xa'), p.match('ay')"
      ]
    },
    {
      "cell_type": "code",
      "execution_count": null,
      "metadata": {},
      "outputs": [
        {
          "data": {
            "text/plain": [
              "<re.Match object; span=(1, 2), match='a'>"
            ]
          },
          "execution_count": 7,
          "metadata": {},
          "output_type": "execute_result"
        }
      ],
      "source": [
        "p.search('xay')"
      ]
    },
    {
      "cell_type": "code",
      "execution_count": null,
      "metadata": {},
      "outputs": [
        {
          "data": {
            "text/plain": [
              "[<re.Match object; span=(1, 2), match='a'>,\n",
              " <re.Match object; span=(4, 5), match='a'>,\n",
              " <re.Match object; span=(6, 7), match='b'>,\n",
              " <re.Match object; span=(10, 11), match='a'>]"
            ]
          },
          "execution_count": 8,
          "metadata": {},
          "output_type": "execute_result"
        }
      ],
      "source": [
        "# tutti?\n",
        "\n",
        "list(p.finditer('mamma bella'))"
      ]
    },
    {
      "cell_type": "code",
      "execution_count": null,
      "metadata": {},
      "outputs": [
        {
          "data": {
            "text/plain": [
              "['b', 'a', 'a', 'a']"
            ]
          },
          "execution_count": 9,
          "metadata": {},
          "output_type": "execute_result"
        }
      ],
      "source": [
        "# ma anche più semplicemente\n",
        "\n",
        "p.findall('banana')"
      ]
    },
    {
      "cell_type": "markdown",
      "metadata": {},
      "source": [
        "## Accedere alle sottostringhe"
      ]
    },
    {
      "cell_type": "code",
      "execution_count": null,
      "metadata": {},
      "outputs": [],
      "source": [
        "prefix = '02'\n",
        "number = '342573'\n",
        "telephone = prefix + '/' + number"
      ]
    },
    {
      "cell_type": "code",
      "execution_count": null,
      "metadata": {},
      "outputs": [],
      "source": [
        "# gruppi \"semplici\"\n",
        "\n",
        "p = re.compile(r'([0-9]+)/([0-9]*)')"
      ]
    },
    {
      "cell_type": "code",
      "execution_count": null,
      "metadata": {},
      "outputs": [
        {
          "data": {
            "text/plain": [
              "('02', '342573')"
            ]
          },
          "execution_count": 12,
          "metadata": {},
          "output_type": "execute_result"
        }
      ],
      "source": [
        "m = p.match(telephone)\n",
        "m.groups()"
      ]
    },
    {
      "cell_type": "code",
      "execution_count": null,
      "metadata": {},
      "outputs": [],
      "source": [
        "# gruppi \"annidati\"\n",
        "\n",
        "p = re.compile(r'(([0-9]+)/)?([0-9]*)')"
      ]
    },
    {
      "cell_type": "code",
      "execution_count": null,
      "metadata": {},
      "outputs": [
        {
          "data": {
            "text/plain": [
              "(('02/', '02', '342573'), (None, None, '342573'))"
            ]
          },
          "execution_count": 14,
          "metadata": {},
          "output_type": "execute_result"
        }
      ],
      "source": [
        "m0, m1 = p.match(telephone), p.match(number)\n",
        "m0.groups(), m1.groups()"
      ]
    },
    {
      "cell_type": "code",
      "execution_count": null,
      "metadata": {},
      "outputs": [],
      "source": [
        "# gruppi \"denominati\"\n",
        "\n",
        "p = re.compile(r'((?P<prefix>[0-9]+)/)?(?P<number>[0-9]+)')"
      ]
    },
    {
      "cell_type": "code",
      "execution_count": null,
      "metadata": {},
      "outputs": [
        {
          "data": {
            "text/plain": [
              "({'prefix': '02', 'number': '342573'}, {'prefix': None, 'number': '342573'})"
            ]
          },
          "execution_count": 16,
          "metadata": {},
          "output_type": "execute_result"
        }
      ],
      "source": [
        "m0, m1 = p.match(telephone), p.match(number)\n",
        "m0.groupdict(), m1.groupdict()"
      ]
    },
    {
      "cell_type": "code",
      "execution_count": null,
      "metadata": {},
      "outputs": [],
      "source": [
        "# gruppi senza cattura\n",
        "\n",
        "p = re.compile(r'(?:([0-9]+)/)?([0-9]*)')"
      ]
    },
    {
      "cell_type": "code",
      "execution_count": null,
      "metadata": {},
      "outputs": [
        {
          "data": {
            "text/plain": [
              "(('02', '342573'), (None, '342573'))"
            ]
          },
          "execution_count": 18,
          "metadata": {},
          "output_type": "execute_result"
        }
      ],
      "source": [
        "m0, m1 = p.match(telephone), p.match(number)\n",
        "m0.groups(), m1.groups()"
      ]
    },
    {
      "cell_type": "markdown",
      "metadata": {},
      "source": [
        "## Rimpiazzare e spezzare"
      ]
    },
    {
      "cell_type": "code",
      "execution_count": null,
      "metadata": {},
      "outputs": [],
      "source": [
        "text = 'this number 12312515 will be censored, this 44 also'"
      ]
    },
    {
      "cell_type": "code",
      "execution_count": null,
      "metadata": {},
      "outputs": [
        {
          "data": {
            "text/plain": [
              "'this number ................ will be censored, this .... also'"
            ]
          },
          "execution_count": 20,
          "metadata": {},
          "output_type": "execute_result"
        }
      ],
      "source": [
        "# con una stringa fissta\n",
        "\n",
        "p = re.compile(r'[0-9]')\n",
        "\n",
        "p.sub('..', text)"
      ]
    },
    {
      "cell_type": "code",
      "execution_count": null,
      "metadata": {},
      "outputs": [
        {
          "data": {
            "text/plain": [
              "'<this> <number> 12312515 <will> <be> <censored>, <this> 44 <also>'"
            ]
          },
          "execution_count": 21,
          "metadata": {},
          "output_type": "execute_result"
        }
      ],
      "source": [
        "# con una stringa contennte il gruppo \n",
        "\n",
        "p = re.compile(r'([a-z]+)')\n",
        "\n",
        "p.sub(r'<\\1>', text)"
      ]
    },
    {
      "cell_type": "code",
      "execution_count": null,
      "metadata": {},
      "outputs": [
        {
          "data": {
            "text/plain": [
              "'Il preffiso è 02, il numero è 342573.'"
            ]
          },
          "execution_count": 22,
          "metadata": {},
          "output_type": "execute_result"
        }
      ],
      "source": [
        "p = re.compile(r'((?P<prefix>[0-9]+)/)?(?P<number>[0-9]+)')\n",
        "\n",
        "p.sub(r'Il preffiso è \\g<prefix>, il numero è \\g<number>.', '02/342573')"
      ]
    },
    {
      "cell_type": "code",
      "execution_count": null,
      "metadata": {},
      "outputs": [],
      "source": [
        "# rot 13 \n",
        "\n",
        "import codecs\n",
        "\n",
        "def rot13(match):\n",
        "    value = match.group()\n",
        "    return codecs.encode(value, 'rot_13')"
      ]
    },
    {
      "cell_type": "code",
      "execution_count": null,
      "metadata": {},
      "outputs": [
        {
          "data": {
            "text/plain": [
              "'guvf ahzore 12312515 jvyy or prafberq, guvf 44 nyfb'"
            ]
          },
          "execution_count": 24,
          "metadata": {},
          "output_type": "execute_result"
        }
      ],
      "source": [
        "# con una funzione \n",
        "\n",
        "p = re.compile(r'[a-z]+')\n",
        "\n",
        "p.sub(rot13, text)"
      ]
    },
    {
      "cell_type": "code",
      "execution_count": null,
      "metadata": {},
      "outputs": [
        {
          "data": {
            "text/plain": [
              "['Split', 'a long sentence', 'according to what', 'is needed']"
            ]
          },
          "execution_count": 25,
          "metadata": {},
          "output_type": "execute_result"
        }
      ],
      "source": [
        "# spezzare\n",
        "\n",
        "re.split(r'(?:,|;) ', 'Split, a long sentence, according to what; is needed')"
      ]
    },
    {
      "cell_type": "markdown",
      "metadata": {},
      "source": [
        "## Greediness e numero di match"
      ]
    },
    {
      "cell_type": "code",
      "execution_count": null,
      "metadata": {},
      "outputs": [
        {
          "data": {
            "text/plain": [
              "['html><head><title>Title</title']"
            ]
          },
          "execution_count": 26,
          "metadata": {},
          "output_type": "execute_result"
        }
      ],
      "source": [
        "text = '<html><head><title>Title</title>'\n",
        "\n",
        "tags = re.findall(r'<(.*)>', text)\n",
        "tags"
      ]
    },
    {
      "cell_type": "code",
      "execution_count": null,
      "metadata": {},
      "outputs": [
        {
          "data": {
            "text/plain": [
              "['html', 'head', 'title', '/title']"
            ]
          },
          "execution_count": 27,
          "metadata": {},
          "output_type": "execute_result"
        }
      ],
      "source": [
        "tags = re.findall(r'<(.*?)>', text)\n",
        "tags"
      ]
    },
    {
      "cell_type": "code",
      "execution_count": null,
      "metadata": {},
      "outputs": [
        {
          "data": {
            "text/plain": [
              "[<re.Match object; span=(0, 1), match='m'>,\n",
              " <re.Match object; span=(2, 4), match='mm'>,\n",
              " <re.Match object; span=(16, 18), match='mm'>,\n",
              " <re.Match object; span=(18, 20), match='mm'>]"
            ]
          },
          "execution_count": 28,
          "metadata": {},
          "output_type": "execute_result"
        }
      ],
      "source": [
        "list(re.finditer(r'm{1,2}', 'mamma che buono mmmm'))"
      ]
    },
    {
      "cell_type": "markdown",
      "metadata": {},
      "source": [
        "## Metacaratteri e flags"
      ]
    },
    {
      "cell_type": "code",
      "execution_count": null,
      "metadata": {},
      "outputs": [],
      "source": [
        "# . ^ $ * + ? { } [ ] \\ | ( )"
      ]
    },
    {
      "cell_type": "code",
      "execution_count": null,
      "metadata": {},
      "outputs": [
        {
          "data": {
            "text/plain": [
              "['j', 's', 't', ' ', 'c', 'n', 's', 'n', 'n', 't', 's']"
            ]
          },
          "execution_count": 30,
          "metadata": {},
          "output_type": "execute_result"
        }
      ],
      "source": [
        "# set negati\n",
        "\n",
        "re.findall(r'[^aeiou]', 'just consonants')"
      ]
    },
    {
      "cell_type": "code",
      "execution_count": null,
      "metadata": {},
      "outputs": [
        {
          "data": {
            "text/plain": [
              "<re.Match object; span=(0, 1), match='b'>"
            ]
          },
          "execution_count": 31,
          "metadata": {},
          "output_type": "execute_result"
        }
      ],
      "source": [
        "# commenti\n",
        "\n",
        "re.match(r\"\"\"\n",
        "a # una a\n",
        "| # oppure\n",
        "b # una b\n",
        "\"\"\", 'ba', re.VERBOSE)"
      ]
    },
    {
      "cell_type": "code",
      "execution_count": null,
      "metadata": {},
      "outputs": [
        {
          "data": {
            "text/plain": [
              "(<re.Match object; span=(1, 2), match='a'>, None)"
            ]
          },
          "execution_count": 32,
          "metadata": {},
          "output_type": "execute_result"
        }
      ],
      "source": [
        "# end of line\n",
        "\n",
        "p = re.compile(r'a$')\n",
        "\n",
        "p.search('xa'), p.search('ay')"
      ]
    },
    {
      "cell_type": "code",
      "execution_count": null,
      "metadata": {},
      "outputs": [
        {
          "data": {
            "text/plain": [
              "(None, <re.Match object; span=(0, 1), match='a'>)"
            ]
          },
          "execution_count": 33,
          "metadata": {},
          "output_type": "execute_result"
        }
      ],
      "source": [
        "# beginning of line \n",
        "\n",
        "p = re.compile(r'^a')\n",
        "\n",
        "p.search('xa'), p.search('ay')"
      ]
    },
    {
      "cell_type": "code",
      "execution_count": null,
      "metadata": {},
      "outputs": [],
      "source": [
        "# multiline\n",
        "\n",
        "text = \"\"\"I've seen things you people wouldn't believe.\n",
        "Attack ships on fire off the shoulder of Orion.\n",
        "I watched C-beams glitter in the dark near the Tannhäuser Gate.\n",
        "All those moments will be lost in time, like tears in rain.\n",
        "Time to die.\"\"\""
      ]
    },
    {
      "cell_type": "code",
      "execution_count": null,
      "metadata": {},
      "outputs": [
        {
          "data": {
            "text/plain": [
              "([\"I've\"], ['die.'])"
            ]
          },
          "execution_count": 35,
          "metadata": {},
          "output_type": "execute_result"
        }
      ],
      "source": [
        "# no flags\n",
        "\n",
        "( re.findall(r'^\\S+', text), \n",
        " re.findall(r'\\S+$', text) )"
      ]
    },
    {
      "cell_type": "code",
      "execution_count": null,
      "metadata": {},
      "outputs": [
        {
          "data": {
            "text/plain": [
              "([\"I've\", 'Attack', 'I', 'All', 'Time'],\n",
              " ['believe.', 'Orion.', 'Gate.', 'rain.', 'die.'])"
            ]
          },
          "execution_count": 36,
          "metadata": {},
          "output_type": "execute_result"
        }
      ],
      "source": [
        "# multline\n",
        "\n",
        "( re.findall(r'^\\S+', text, re.MULTILINE), \n",
        "  re.findall(r'\\S+$', text, re.MULTILINE) )"
      ]
    },
    {
      "cell_type": "code",
      "execution_count": null,
      "metadata": {},
      "outputs": [
        {
          "data": {
            "text/plain": [
              "[\"I've\",\n",
              " 'seen things',\n",
              " 'you people',\n",
              " \"wouldn't\",\n",
              " 'believe.\\nAttack',\n",
              " 'ships on',\n",
              " 'fire off',\n",
              " 'the shoulder',\n",
              " 'of Orion',\n",
              " 'I watched',\n",
              " 'C-beams',\n",
              " 'glitter in',\n",
              " 'the dark',\n",
              " 'near the',\n",
              " 'Tannhäuser Gate',\n",
              " 'All those',\n",
              " 'moments will',\n",
              " 'be lost',\n",
              " 'in time',\n",
              " 'like tears',\n",
              " 'in rain',\n",
              " 'Time to',\n",
              " 'die']"
            ]
          },
          "execution_count": 37,
          "metadata": {},
          "output_type": "execute_result"
        }
      ],
      "source": [
        "# dotall\n",
        "\n",
        "re.findall(r'\\w+.+?\\w+', text, re.DOTALL)"
      ]
    },
    {
      "cell_type": "markdown",
      "metadata": {},
      "source": [
        "### Bordi"
      ]
    },
    {
      "cell_type": "code",
      "execution_count": null,
      "metadata": {},
      "outputs": [
        {
          "data": {
            "text/plain": [
              "['this', 'is', 'words', 's']"
            ]
          },
          "execution_count": 38,
          "metadata": {},
          "output_type": "execute_result"
        }
      ],
      "source": [
        "# boundary\n",
        "\n",
        "re.findall(r'\\w*s\\b', 'this is a set of words ending with s')"
      ]
    },
    {
      "cell_type": "code",
      "execution_count": null,
      "metadata": {},
      "outputs": [
        {
          "data": {
            "text/plain": [
              "['sports', 'rare', 'words']"
            ]
          },
          "execution_count": 39,
          "metadata": {},
          "output_type": "execute_result"
        }
      ],
      "source": [
        "re.findall(r'\\w*\\Br\\B\\w*', 'this banner sports rare words having an r inside')"
      ]
    },
    {
      "cell_type": "markdown",
      "metadata": {},
      "source": [
        "### Classi"
      ]
    },
    {
      "cell_type": "code",
      "execution_count": null,
      "metadata": {},
      "outputs": [],
      "source": [
        "text = 'only 123 number, 456 pass! or else?'"
      ]
    },
    {
      "cell_type": "code",
      "execution_count": null,
      "metadata": {},
      "outputs": [
        {
          "data": {
            "text/plain": [
              "(['123', '456'], ['only ', ' number, ', ' pass! or else?'])"
            ]
          },
          "execution_count": 41,
          "metadata": {},
          "output_type": "execute_result"
        }
      ],
      "source": [
        "# numbers\n",
        "\n",
        "re.findall(r'\\d+', text), re.findall(r'\\D+', text)"
      ]
    },
    {
      "cell_type": "code",
      "execution_count": null,
      "metadata": {},
      "outputs": [
        {
          "data": {
            "text/plain": [
              "(['only', '123', 'number', '456', 'pass', 'or', 'else'],\n",
              " [' ', ' ', ', ', ' ', '! ', ' ', '?'])"
            ]
          },
          "execution_count": 42,
          "metadata": {},
          "output_type": "execute_result"
        }
      ],
      "source": [
        "# alpfhanumeric \n",
        "\n",
        "re.findall(r'\\w+', text), re.findall(r'\\W+', text)"
      ]
    },
    {
      "cell_type": "code",
      "execution_count": null,
      "metadata": {},
      "outputs": [
        {
          "data": {
            "text/plain": [
              "([' ', ' ', ' ', ' ', ' ', ' '],\n",
              " ['only', '123', 'number,', '456', 'pass!', 'or', 'else?'])"
            ]
          },
          "execution_count": 43,
          "metadata": {},
          "output_type": "execute_result"
        }
      ],
      "source": [
        "# whitespace\n",
        "\n",
        "re.findall(r'\\s+', text), re.findall(r'\\S+', text)"
      ]
    },
    {
      "cell_type": "markdown",
      "metadata": {},
      "source": [
        "## Lookahead"
      ]
    },
    {
      "cell_type": "code",
      "execution_count": null,
      "metadata": {},
      "outputs": [
        {
          "data": {
            "text/plain": [
              "['pinocchio', 'pinolo']"
            ]
          },
          "execution_count": 44,
          "metadata": {},
          "output_type": "execute_result"
        }
      ],
      "source": [
        "# positivo\n",
        "\n",
        "re.findall(r'(?=pino)\\S+', 'pinocchio ranocchio pinolo' )"
      ]
    },
    {
      "cell_type": "code",
      "execution_count": null,
      "metadata": {},
      "outputs": [
        {
          "data": {
            "text/plain": [
              "['ranocchio']"
            ]
          },
          "execution_count": 45,
          "metadata": {},
          "output_type": "execute_result"
        }
      ],
      "source": [
        "# negativo\n",
        "\n",
        "re.findall(r'\\b(?!pino)\\S+', 'pinocchio ranocchio pinolo' )"
      ]
    },
    {
      "cell_type": "code",
      "execution_count": null,
      "metadata": {},
      "outputs": [
        {
          "name": "stdout",
          "output_type": "stream",
          "text": [
            "<re.Match object; span=(0, 5), match='a.txt'>\n",
            "None\n",
            "None\n",
            "<re.Match object; span=(0, 4), match='d.md'>\n"
          ]
        }
      ],
      "source": [
        "p = re.compile(r'.*\\.(?!bat$|exe$)[^.]*$')\n",
        "\n",
        "for f in 'a.txt', 'b.exe', 'c.bat', 'd.md':\n",
        "    print(p.match(f))"
      ]
    },
    {
      "cell_type": "markdown",
      "metadata": {},
      "source": [
        "## Backreference"
      ]
    },
    {
      "cell_type": "code",
      "execution_count": null,
      "metadata": {},
      "outputs": [
        {
          "data": {
            "text/plain": [
              "(<re.Match object; span=(0, 4), match='1001'>, None)"
            ]
          },
          "execution_count": 47,
          "metadata": {},
          "output_type": "execute_result"
        }
      ],
      "source": [
        "# star and end with the same char\n",
        "\n",
        "re.match(r'(.)\\d+(\\1)', '1001'), re.match(r'(.)\\d+(\\1)', '1002')"
      ]
    },
    {
      "cell_type": "code",
      "execution_count": null,
      "metadata": {},
      "outputs": [
        {
          "data": {
            "text/plain": [
              "<re.Match object; span=(0, 8), match='abbaabba'>"
            ]
          },
          "execution_count": 48,
          "metadata": {},
          "output_type": "execute_result"
        }
      ],
      "source": [
        "# oh my got, not even CS! \n",
        "\n",
        "re.match(r'(\\w+)(\\1)', 'abbaabba')"
      ]
    },
    {
      "cell_type": "markdown",
      "metadata": {},
      "source": [
        "## Efficienza"
      ]
    },
    {
      "cell_type": "code",
      "execution_count": null,
      "metadata": {},
      "outputs": [
        {
          "name": "stdout",
          "output_type": "stream",
          "text": [
            "CPU times: user 103 µs, sys: 4 µs, total: 107 µs\n",
            "Wall time: 110 µs\n"
          ]
        },
        {
          "data": {
            "text/plain": [
              "<re.Match object; span=(0, 26), match='aaaaaaaaaaaaaaaaaaaaaaaaac'>"
            ]
          },
          "execution_count": 49,
          "metadata": {},
          "output_type": "execute_result"
        }
      ],
      "source": [
        "%%time \n",
        "# veloce se appartiene \n",
        "\n",
        "re.match(r'(a+)+c', 'a' * 25 + 'c')"
      ]
    },
    {
      "cell_type": "code",
      "execution_count": null,
      "metadata": {},
      "outputs": [
        {
          "name": "stdout",
          "output_type": "stream",
          "text": [
            "CPU times: user 1.81 s, sys: 7.61 ms, total: 1.82 s\n",
            "Wall time: 1.82 s\n"
          ]
        }
      ],
      "source": [
        "%%time \n",
        "# mortale se non appartiene \n",
        "\n",
        "re.match(r'(a+)+c', 'a' * 25 + 'b')"
      ]
    },
    {
      "cell_type": "markdown",
      "metadata": {},
      "source": [
        "# Un Tokenizer"
      ]
    },
    {
      "cell_type": "code",
      "execution_count": null,
      "metadata": {},
      "outputs": [],
      "source": [
        "KIND_PATTERN = (\n",
        "    ('NUMBER',       re.compile(r'\\d+')),\n",
        "    ('IDENTIFIER',   re.compile(r'\\w+')),\n",
        "    ('OP',           re.compile(r'[+*/-]')),\n",
        "    ('OPEN_PAREN',   re.compile(r'\\(')),\n",
        "    ('CLOSED_PAREN', re.compile(r'\\)')),\n",
        "    ('WS',           re.compile(r'\\s+'))\n",
        ")"
      ]
    },
    {
      "cell_type": "code",
      "execution_count": null,
      "metadata": {},
      "outputs": [
        {
          "name": "stdout",
          "output_type": "stream",
          "text": [
            "NUMBER 24\n",
            "IDENTIFIER  +\n",
            "NUMBER  p\n",
            "IDENTIFIER ip\n",
            "NUMBER po\n",
            "IDENTIFIER  *\n",
            "NUMBER  (\n",
            "IDENTIFIER 12\n",
            "NUMBER 3)\n",
            "IDENTIFIER \n"
          ]
        }
      ],
      "source": [
        "# In modo \"diretto\"\n",
        "\n",
        "INPUT = '24 + pippo * (123)'\n",
        "\n",
        "rest = INPUT\n",
        "while rest:\n",
        "    for kind, pattern in KIND_PATTERN:\n",
        "        m = pattern.match(INPUT)\n",
        "        if m:\n",
        "            l = m.span()[1]\n",
        "            value, rest = rest[:l], rest[l:]\n",
        "            if kind != 'WS': print(kind, value)\n",
        "            continue"
      ]
    },
    {
      "cell_type": "code",
      "execution_count": null,
      "metadata": {},
      "outputs": [
        {
          "name": "stdout",
          "output_type": "stream",
          "text": [
            "NUMBER 24\n",
            "OP +\n",
            "IDENTIFIER pippo\n",
            "OP *\n",
            "OPEN_PAREN (\n",
            "NUMBER 123\n",
            "CLOSED_PAREN )\n"
          ]
        }
      ],
      "source": [
        "# più pitonicamente\n",
        "\n",
        "p = re.compile(\n",
        "    '|'.join(\n",
        "        '(?P<{}>{})'.format(kind, pattern.pattern) \n",
        "            for kind, pattern in KIND_PATTERN)\n",
        ")\n",
        "\n",
        "INPUT = '24 + pippo * (123)'\n",
        "\n",
        "for m in p.finditer(INPUT):\n",
        "    for k, v in m.groupdict().items():\n",
        "        if k != 'WS' and v: print(k, v)"
      ]
    }
  ],
  "metadata": {
    "kernelspec": {
      "display_name": "Python 3",
      "language": "python",
      "name": "python3"
    },
    "language_info": {
      "codemirror_mode": {
        "name": "ipython",
        "version": 3
      },
      "file_extension": ".py",
      "mimetype": "text/x-python",
      "name": "python",
      "nbconvert_exporter": "python",
      "pygments_lexer": "ipython3"
    }
  },
  "nbformat": 4,
  "nbformat_minor": 4
}
